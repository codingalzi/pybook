{
 "cells": [
  {
   "cell_type": "markdown",
   "metadata": {
    "id": "gSF_tBKvfg9V"
   },
   "source": [
    "**문제1) 아래 리스트는 4중 리스트이다.**\n",
    "\n",
    "`a_nested_list = [0, [1, [2, [3, 4], 5]], 6, [7, 8, 9], 10]`  \n",
    "\n",
    "(1) 위 리스트에서 `7`를 얻는 방법은?"
   ]
  },
  {
   "cell_type": "code",
   "execution_count": null,
   "metadata": {
    "id": "o_m9NzFR1tD_"
   },
   "outputs": [],
   "source": [
    "a_nested_list = [0, [1, [2, [3, 4], 5]], 6, [7, 8, 9], 10]"
   ]
  },
  {
   "cell_type": "code",
   "execution_count": null,
   "metadata": {
    "colab": {
     "base_uri": "https://localhost:8080/"
    },
    "executionInfo": {
     "elapsed": 563,
     "status": "ok",
     "timestamp": 1617421651581,
     "user": {
      "displayName": "­정성엽 / 학생 / 컴퓨터공학부",
      "photoUrl": "",
      "userId": "12165438926956780307"
     },
     "user_tz": -540
    },
    "id": "oY_cICv31wP6",
    "outputId": "f5601149-3e22-4f54-c231-d3d965127c1c"
   },
   "outputs": [
    {
     "data": {
      "text/plain": [
       "7"
      ]
     },
     "execution_count": 3,
     "metadata": {
      "tags": []
     },
     "output_type": "execute_result"
    }
   ],
   "source": [
    "a_nested_list[3][0]"
   ]
  },
  {
   "cell_type": "markdown",
   "metadata": {
    "id": "PusdXITPgxVB"
   },
   "source": [
    "(2) 위 리스트에서 `[2, [3, 4], 5]`를 얻는 방법은?"
   ]
  },
  {
   "cell_type": "code",
   "execution_count": null,
   "metadata": {
    "colab": {
     "base_uri": "https://localhost:8080/"
    },
    "executionInfo": {
     "elapsed": 526,
     "status": "ok",
     "timestamp": 1617421701204,
     "user": {
      "displayName": "­정성엽 / 학생 / 컴퓨터공학부",
      "photoUrl": "",
      "userId": "12165438926956780307"
     },
     "user_tz": -540
    },
    "id": "U4z-dGTH1-0V",
    "outputId": "9e1c0faa-22e6-41ef-9b10-64dc1140241f"
   },
   "outputs": [
    {
     "data": {
      "text/plain": [
       "[2, [3, 4], 5]"
      ]
     },
     "execution_count": 4,
     "metadata": {
      "tags": []
     },
     "output_type": "execute_result"
    }
   ],
   "source": [
    "a_nested_list[1][1]"
   ]
  },
  {
   "cell_type": "markdown",
   "metadata": {
    "id": "j_7rd4kFgV4o"
   },
   "source": [
    "(3) 위 리스트에서 `4`를 얻는 방법은?"
   ]
  },
  {
   "cell_type": "code",
   "execution_count": null,
   "metadata": {
    "colab": {
     "base_uri": "https://localhost:8080/"
    },
    "executionInfo": {
     "elapsed": 556,
     "status": "ok",
     "timestamp": 1617421769129,
     "user": {
      "displayName": "­정성엽 / 학생 / 컴퓨터공학부",
      "photoUrl": "",
      "userId": "12165438926956780307"
     },
     "user_tz": -540
    },
    "id": "Ht0G8w-Z2KBv",
    "outputId": "d50a6b5a-72ea-4f5e-f7a0-cdd44d5aaa2d"
   },
   "outputs": [
    {
     "data": {
      "text/plain": [
       "4"
      ]
     },
     "execution_count": 7,
     "metadata": {
      "tags": []
     },
     "output_type": "execute_result"
    }
   ],
   "source": [
    "a_nested_list[1][1][1][1]"
   ]
  },
  {
   "cell_type": "markdown",
   "metadata": {
    "id": "LI2MPm0oix4t"
   },
   "source": [
    "**문제2) 아래 리스트를 리스트 조건제시법으로 구현하여라**   \n",
    "\n",
    "(1) [3, 6, 9, 12, 15]"
   ]
  },
  {
   "cell_type": "code",
   "execution_count": null,
   "metadata": {
    "colab": {
     "base_uri": "https://localhost:8080/"
    },
    "executionInfo": {
     "elapsed": 514,
     "status": "ok",
     "timestamp": 1617421953459,
     "user": {
      "displayName": "­정성엽 / 학생 / 컴퓨터공학부",
      "photoUrl": "",
      "userId": "12165438926956780307"
     },
     "user_tz": -540
    },
    "id": "IonO7clZ2ce9",
    "outputId": "1a2bc9e9-6953-4a81-92bc-9d61dc36b9d1"
   },
   "outputs": [
    {
     "name": "stdout",
     "output_type": "stream",
     "text": [
      "[3, 6, 9, 12, 15]\n"
     ]
    }
   ],
   "source": [
    "# ans1 = [ 3*x for x in range(1,6) ] or\n",
    "ans1 = [ x for x in range(1,16) if x % 3 == 0]\n",
    "print(ans1)"
   ]
  },
  {
   "cell_type": "markdown",
   "metadata": {
    "id": "r5Z6wNXDYeBw"
   },
   "source": [
    "(2)수학에서 사용되는 대표적인 지수함수인 $f(x) = e^x$는 `math` 모듈의 `exp()`로 정의되어 있다. \n",
    "<center>[ $e^3, e^6, e^9, e^{12}, e^{15}$ ] </center>"
   ]
  },
  {
   "cell_type": "code",
   "execution_count": null,
   "metadata": {
    "colab": {
     "base_uri": "https://localhost:8080/"
    },
    "executionInfo": {
     "elapsed": 816,
     "status": "ok",
     "timestamp": 1617421993152,
     "user": {
      "displayName": "­정성엽 / 학생 / 컴퓨터공학부",
      "photoUrl": "",
      "userId": "12165438926956780307"
     },
     "user_tz": -540
    },
    "id": "rPdA-XCO2jwb",
    "outputId": "b2da55df-d4fb-4e86-fc9a-7339dd928279"
   },
   "outputs": [
    {
     "name": "stdout",
     "output_type": "stream",
     "text": [
      "[20.085536923187668, 403.4287934927351, 8103.083927575384, 162754.79141900392, 3269017.3724721107]\n"
     ]
    }
   ],
   "source": [
    "from math import exp\n",
    "# ans2 = [exp(x) for x in ans1] or\n",
    "# ans2 = [ exp(3**x) for x in range(1,6) ] or\n",
    "ans2 = [ exp(x) for x in range(1,16) if x % 3 == 0]\n",
    "print(ans2)"
   ]
  },
  {
   "cell_type": "markdown",
   "metadata": {
    "id": "O0N9QFrJYrpR"
   },
   "source": [
    "(3) [1, 5, 7, 11, 13, 17, 19]  \n",
    "hint) 2의 배수와 3의 배수가 아닌 1에서 20사이의 정수들을 항목으로 갖는 리스트"
   ]
  },
  {
   "cell_type": "code",
   "execution_count": null,
   "metadata": {
    "colab": {
     "base_uri": "https://localhost:8080/"
    },
    "executionInfo": {
     "elapsed": 551,
     "status": "ok",
     "timestamp": 1617424980552,
     "user": {
      "displayName": "­정성엽 / 학생 / 컴퓨터공학부",
      "photoUrl": "",
      "userId": "12165438926956780307"
     },
     "user_tz": -540
    },
    "id": "c9vXrJ5jCb1o",
    "outputId": "1847f543-e743-4f28-e507-8ecde62de181"
   },
   "outputs": [
    {
     "name": "stdout",
     "output_type": "stream",
     "text": [
      "[1, 5, 7, 11, 13, 17, 19]\n"
     ]
    }
   ],
   "source": [
    "ans3 = [ i for i in range(1,20) if i % 2 != 0 and i % 3 != 0 ]\n",
    "print(ans3)"
   ]
  },
  {
   "cell_type": "markdown",
   "metadata": {
    "id": "rOtfcGMwjxwI"
   },
   "source": [
    "**문제3) 리스트 `['dog', 'cat']`를 `['dog', 'cat', ['tiger', 'eagle']]`로 변경하는 코드를 작성하여라.**  \n",
    "\n"
   ]
  },
  {
   "cell_type": "markdown",
   "metadata": {
    "id": "pvNdy3SgrBK4"
   },
   "source": [
    "(1) 슬라이싱 이용"
   ]
  },
  {
   "cell_type": "code",
   "execution_count": null,
   "metadata": {
    "colab": {
     "base_uri": "https://localhost:8080/"
    },
    "executionInfo": {
     "elapsed": 542,
     "status": "ok",
     "timestamp": 1617485971835,
     "user": {
      "displayName": "HJ Kim",
      "photoUrl": "",
      "userId": "16634276932240017990"
     },
     "user_tz": -540
    },
    "id": "aheNR5WrrDnx",
    "outputId": "b3bd9a94-4876-468d-d024-e2b7edd870e6"
   },
   "outputs": [
    {
     "name": "stdout",
     "output_type": "stream",
     "text": [
      "['dog', 'cat', ['tiger', 'eagle']]\n"
     ]
    }
   ],
   "source": [
    "animal = ['dog', 'cat']\n",
    "animal[2:] = [['tiger', 'eagle']]\n",
    "print(animal)"
   ]
  },
  {
   "cell_type": "markdown",
   "metadata": {
    "id": "8QeD0HIylIT-"
   },
   "source": [
    "(2) `append()` 메소드 이용"
   ]
  },
  {
   "cell_type": "code",
   "execution_count": null,
   "metadata": {
    "colab": {
     "base_uri": "https://localhost:8080/"
    },
    "executionInfo": {
     "elapsed": 594,
     "status": "ok",
     "timestamp": 1617422377212,
     "user": {
      "displayName": "­정성엽 / 학생 / 컴퓨터공학부",
      "photoUrl": "",
      "userId": "12165438926956780307"
     },
     "user_tz": -540
    },
    "id": "LZSffzHA4o6N",
    "outputId": "6cfd1611-2618-42e1-f1d9-872e47418847"
   },
   "outputs": [
    {
     "name": "stdout",
     "output_type": "stream",
     "text": [
      "['dog', 'cat', ['tiger', 'eagle']]\n"
     ]
    }
   ],
   "source": [
    "animal = ['dog', 'cat']\n",
    "animal.append(['tiger', 'eagle'])\n",
    "print(animal)"
   ]
  },
  {
   "cell_type": "markdown",
   "metadata": {
    "id": "CL0sgjc7lLF8"
   },
   "source": [
    "(3) `extend()` 메소드 이용"
   ]
  },
  {
   "cell_type": "code",
   "execution_count": null,
   "metadata": {
    "colab": {
     "base_uri": "https://localhost:8080/"
    },
    "executionInfo": {
     "elapsed": 660,
     "status": "ok",
     "timestamp": 1617422480792,
     "user": {
      "displayName": "­정성엽 / 학생 / 컴퓨터공학부",
      "photoUrl": "",
      "userId": "12165438926956780307"
     },
     "user_tz": -540
    },
    "id": "hExv0_mw4vNL",
    "outputId": "ebe534ef-4a05-4e99-aeff-02b585784fcb"
   },
   "outputs": [
    {
     "name": "stdout",
     "output_type": "stream",
     "text": [
      "['dog', 'cat', ['tiger', 'eagle']]\n"
     ]
    }
   ],
   "source": [
    "animal = ['dog', 'cat']\n",
    "animal.extend([['tiger', 'eagle']])\n",
    "print(animal)"
   ]
  },
  {
   "cell_type": "markdown",
   "metadata": {
    "id": "59dGojCWlinp"
   },
   "source": [
    "(4) `insert()` 메소드 이용"
   ]
  },
  {
   "cell_type": "code",
   "execution_count": null,
   "metadata": {
    "colab": {
     "base_uri": "https://localhost:8080/"
    },
    "executionInfo": {
     "elapsed": 532,
     "status": "ok",
     "timestamp": 1617422541222,
     "user": {
      "displayName": "­정성엽 / 학생 / 컴퓨터공학부",
      "photoUrl": "",
      "userId": "12165438926956780307"
     },
     "user_tz": -540
    },
    "id": "uL-iwQhF5Io3",
    "outputId": "01eafa61-8505-4b03-82ac-1266f416929d"
   },
   "outputs": [
    {
     "name": "stdout",
     "output_type": "stream",
     "text": [
      "['dog', 'cat', ['tiger', 'eagle']]\n"
     ]
    }
   ],
   "source": [
    "animal = ['dog', 'cat']\n",
    "animal.insert(2,['tiger', 'eagle'])\n",
    "print(animal)"
   ]
  },
  {
   "cell_type": "markdown",
   "metadata": {
    "id": "6rbBfU4zeMtO"
   },
   "source": [
    "**문제4) 영어단어를 인자로 받아 알파벳순으로 리턴하는 함수인 `abc()` 함수를 구현하여라.**  \n",
    "\n",
    "```\n",
    "In [3]: abc('dog')\n",
    "Out[3]: 'dgo'\n",
    "```"
   ]
  },
  {
   "cell_type": "code",
   "execution_count": 1,
   "metadata": {
    "executionInfo": {
     "elapsed": 702,
     "status": "ok",
     "timestamp": 1617770058506,
     "user": {
      "displayName": "HJ Kim",
      "photoUrl": "",
      "userId": "16634276932240017990"
     },
     "user_tz": -540
    },
    "id": "5ktqrX1umtyZ"
   },
   "outputs": [],
   "source": [
    "def abc(s) :\n",
    "  a_list = []\n",
    "  a_list.extend(s)\n",
    "  a_list.sort()\n",
    "  ret = \"\"\n",
    "  for i in a_list :\n",
    "    ret += i\n",
    "  return ret"
   ]
  },
  {
   "cell_type": "code",
   "execution_count": 2,
   "metadata": {
    "colab": {
     "base_uri": "https://localhost:8080/",
     "height": 35
    },
    "executionInfo": {
     "elapsed": 695,
     "status": "ok",
     "timestamp": 1617770067594,
     "user": {
      "displayName": "HJ Kim",
      "photoUrl": "",
      "userId": "16634276932240017990"
     },
     "user_tz": -540
    },
    "id": "-uzPU5vinBz4",
    "outputId": "b96dda98-2f31-4776-d1a6-77e18c1341e8"
   },
   "outputs": [
    {
     "data": {
      "application/vnd.google.colaboratory.intrinsic+json": {
       "type": "string"
      },
      "text/plain": [
       "'dgo'"
      ]
     },
     "execution_count": 2,
     "metadata": {
      "tags": []
     },
     "output_type": "execute_result"
    }
   ],
   "source": [
    "abc('dog')"
   ]
  },
  {
   "cell_type": "markdown",
   "metadata": {
    "id": "T2ZcAP3EsYEO"
   },
   "source": [
    "참고) 아래의 내용을 참고하여 코드를 작성할 수도 있다.  \n",
    "* 빈 리스트는 `list()`로 생성할 수 있다. 이때 인자를 문자열로 둔다면 각 문자 단위로 리스트를 만든다. "
   ]
  },
  {
   "cell_type": "code",
   "execution_count": null,
   "metadata": {
    "colab": {
     "base_uri": "https://localhost:8080/"
    },
    "executionInfo": {
     "elapsed": 573,
     "status": "ok",
     "timestamp": 1617486882202,
     "user": {
      "displayName": "HJ Kim",
      "photoUrl": "",
      "userId": "16634276932240017990"
     },
     "user_tz": -540
    },
    "id": "23tfPD-fuvsM",
    "outputId": "aacb8eb4-c2a2-4d47-a8a0-853814ae0e61"
   },
   "outputs": [
    {
     "data": {
      "text/plain": [
       "['H', 'e', 'l', 'l', 'o']"
      ]
     },
     "execution_count": 10,
     "metadata": {
      "tags": []
     },
     "output_type": "execute_result"
    }
   ],
   "source": [
    "list(\"Hello\")"
   ]
  },
  {
   "cell_type": "code",
   "execution_count": null,
   "metadata": {
    "id": "cPFUOEAc5a1-"
   },
   "outputs": [],
   "source": [
    "'''\n",
    "def 함수이름(매개변수1, ..., 매개변수n) : \n",
    "  ...\n",
    "  ...\n",
    "  return \n",
    "'''\n",
    "def abc_v1(s) : \n",
    "  s = list(s)\n",
    "  s.sort()\n",
    "  ret = \"\"\n",
    "  for i in s:\n",
    "    ret += i\n",
    "  return ret"
   ]
  },
  {
   "cell_type": "code",
   "execution_count": null,
   "metadata": {
    "colab": {
     "base_uri": "https://localhost:8080/"
    },
    "executionInfo": {
     "elapsed": 690,
     "status": "ok",
     "timestamp": 1617486243891,
     "user": {
      "displayName": "HJ Kim",
      "photoUrl": "",
      "userId": "16634276932240017990"
     },
     "user_tz": -540
    },
    "id": "cZiphaJo5-ax",
    "outputId": "01123097-720e-4b79-9dd4-0b280ee7afe7"
   },
   "outputs": [
    {
     "name": "stdout",
     "output_type": "stream",
     "text": [
      "dgo\n"
     ]
    }
   ],
   "source": [
    "print(abc_v1(\"dog\"))"
   ]
  },
  {
   "cell_type": "markdown",
   "metadata": {
    "id": "EvMVeeeduz7H"
   },
   "source": [
    "참고) 아래의 내용을 참고하여 코드를 작성할 수도 있다.  \n",
    "* `join()` 메소드는 문자열 메소드\n",
    "  * `'구분자(sep)'.join(문자열)` : 문자열의 각 문자 사이에 구분자(sep)를 넣어서 하나의 문자열로 합하여 반환\n",
    "  * `'구분자(sep)'.join(리스트)` : 리스트의 각 항목 사이에 구분자(sep)를 넣어서 하나의 문자열로 합하여 반환. 이때 리스트의 각 항목은 문자열."
   ]
  },
  {
   "cell_type": "code",
   "execution_count": null,
   "metadata": {
    "colab": {
     "base_uri": "https://localhost:8080/",
     "height": 35
    },
    "executionInfo": {
     "elapsed": 552,
     "status": "ok",
     "timestamp": 1617487655788,
     "user": {
      "displayName": "HJ Kim",
      "photoUrl": "",
      "userId": "16634276932240017990"
     },
     "user_tz": -540
    },
    "id": "Gj0mjbp5xqvZ",
    "outputId": "49229d7a-247a-4a4d-dc7e-5c69d8231547"
   },
   "outputs": [
    {
     "data": {
      "application/vnd.google.colaboratory.intrinsic+json": {
       "type": "string"
      },
      "text/plain": [
       "'H,e,l,l,o'"
      ]
     },
     "execution_count": 11,
     "metadata": {
      "tags": []
     },
     "output_type": "execute_result"
    }
   ],
   "source": [
    "','.join(\"Hello\")"
   ]
  },
  {
   "cell_type": "code",
   "execution_count": null,
   "metadata": {
    "colab": {
     "base_uri": "https://localhost:8080/"
    },
    "executionInfo": {
     "elapsed": 510,
     "status": "ok",
     "timestamp": 1617487751039,
     "user": {
      "displayName": "HJ Kim",
      "photoUrl": "",
      "userId": "16634276932240017990"
     },
     "user_tz": -540
    },
    "id": "_KveN29-xy3w",
    "outputId": "149d0df1-cfef-45c2-eba0-c831d7859b17"
   },
   "outputs": [
    {
     "name": "stdout",
     "output_type": "stream",
     "text": [
      "a-b-c\n",
      "H,e,l,l,o\n"
     ]
    }
   ],
   "source": [
    "print('-'.join([\"a\", \"b\", \"c\"]))\n",
    "print(','.join(list(\"Hello\")))"
   ]
  },
  {
   "cell_type": "markdown",
   "metadata": {
    "id": "9here4gJyvyO"
   },
   "source": [
    "* `sorted()` 함수는 원래의 리스트를 건드리지 않으면서 정렬된 리스트를 생성.  \n",
    "주의) `sort()` 메소드는 원래의 리스트 자체를 변경함."
   ]
  },
  {
   "cell_type": "code",
   "execution_count": null,
   "metadata": {
    "colab": {
     "base_uri": "https://localhost:8080/"
    },
    "executionInfo": {
     "elapsed": 638,
     "status": "ok",
     "timestamp": 1617488068094,
     "user": {
      "displayName": "HJ Kim",
      "photoUrl": "",
      "userId": "16634276932240017990"
     },
     "user_tz": -540
    },
    "id": "AWcXQhzIzEOA",
    "outputId": "e62845b1-59b1-438d-f956-002020e90621"
   },
   "outputs": [
    {
     "name": "stdout",
     "output_type": "stream",
     "text": [
      "[5, 3, 7, 1]\n",
      "[1, 3, 5, 7]\n"
     ]
    }
   ],
   "source": [
    "a_list = [5, 3, 7, 1]\n",
    "sorted_list = sorted(a_list)\n",
    "\n",
    "print(a_list)\n",
    "print(sorted_list)"
   ]
  },
  {
   "cell_type": "code",
   "execution_count": null,
   "metadata": {
    "id": "ieI2HSODsQe9"
   },
   "outputs": [],
   "source": [
    "def abc_v2(s) :\n",
    "  s = list(s)\n",
    "  ret = \"\".join(sorted(s))\n",
    "  return ret\n"
   ]
  },
  {
   "cell_type": "code",
   "execution_count": null,
   "metadata": {
    "colab": {
     "base_uri": "https://localhost:8080/"
    },
    "executionInfo": {
     "elapsed": 483,
     "status": "ok",
     "timestamp": 1617486246449,
     "user": {
      "displayName": "HJ Kim",
      "photoUrl": "",
      "userId": "16634276932240017990"
     },
     "user_tz": -540
    },
    "id": "v4DAcqQfsTC3",
    "outputId": "c2cef55e-cdf3-48c6-f123-eb8d1680ae09"
   },
   "outputs": [
    {
     "name": "stdout",
     "output_type": "stream",
     "text": [
      "dgo\n"
     ]
    }
   ],
   "source": [
    "print(abc_v2(\"dog\"))"
   ]
  },
  {
   "cell_type": "markdown",
   "metadata": {
    "id": "GrMIe3hSr8Ph"
   },
   "source": [
    "```\n",
    "\n",
    "\n",
    "\n",
    "\n",
    "\n",
    "\n",
    "\n",
    ".\n",
    "```"
   ]
  },
  {
   "cell_type": "code",
   "execution_count": null,
   "metadata": {},
   "outputs": [],
   "source": []
  },
  {
   "cell_type": "code",
   "execution_count": null,
   "metadata": {},
   "outputs": [],
   "source": []
  },
  {
   "cell_type": "markdown",
   "metadata": {
    "id": "6HxPOS4SqZ2t"
   },
   "source": [
    "**문제**"
   ]
  },
  {
   "cell_type": "markdown",
   "metadata": {
    "id": "6HxPOS4SqZ2t"
   },
   "source": [
    "`sorted()` 함수는 리스트를 크기 기준 오름차순으로 정렬한다. "
   ]
  },
  {
   "cell_type": "code",
   "execution_count": 1,
   "metadata": {
    "colab": {
     "base_uri": "https://localhost:8080/"
    },
    "id": "dkk2cqIiqkLh",
    "outputId": "2893d300-b575-4a36-f7c4-a83d35dddf9a"
   },
   "outputs": [
    {
     "data": {
      "text/plain": [
       "[1, 2, 3, 4, 5]"
      ]
     },
     "execution_count": 1,
     "metadata": {},
     "output_type": "execute_result"
    }
   ],
   "source": [
    "a_list = [3, 2, 1, 4, 5]\n",
    "sorted_list = sorted(a_list)\n",
    "sorted_list"
   ]
  },
  {
   "cell_type": "markdown",
   "metadata": {
    "id": "ng7hQMCTq9yh"
   },
   "source": [
    "아래 코드에서 `rev_sorted_list` 변수가 `a_list`를 크기 기준 오름차순으로 정렬한 리스트를 참조하도록 `None` 값을 적절한 표현식으로 대체하라.\n",
    "\n",
    "즉, 아래가 성립해야 한다.\n",
    "\n",
    "```python\n",
    "rev_sorted_list = [5, 4, 3, 2, 1]\n",
    "```\n",
    "\n",
    "힌트: `sorted()` 함수의 키워드 인자 활용"
   ]
  },
  {
   "cell_type": "code",
   "execution_count": 2,
   "metadata": {
    "colab": {
     "base_uri": "https://localhost:8080/"
    },
    "id": "mrYqh9_qq5Dp",
    "outputId": "b3eb2c9d-e0c4-4de3-aa22-d04089a886b9"
   },
   "outputs": [
    {
     "name": "stdout",
     "output_type": "stream",
     "text": [
      "None\n"
     ]
    }
   ],
   "source": [
    "# None을 sorted(a_list, ...) 형식의 표현식으로 대체해야 함\n",
    "# sorted() 함수의 키워드 인자를 반드시 사용해야 함.\n",
    "# 단순히 리스트를 입력하면 0점 처리됨.\n",
    "\n",
    "rev_sorted_list = None\n",
    "\n",
    "print(rev_sorted_list)"
   ]
  },
  {
   "cell_type": "markdown",
   "metadata": {
    "id": "_jbOaYOv4GO0"
   },
   "source": [
    "**문제**"
   ]
  },
  {
   "cell_type": "markdown",
   "metadata": {
    "id": "_jbOaYOv4GO0"
   },
   "source": [
    "`datetime` 모듈의 `datetime` 객체가 아래와 같이 주어졌다.\n",
    "\n",
    "```python\n",
    "dt = datetime(2021, 3, 14, 15, 5, 20)\n",
    "```\n",
    "\n",
    "변수 `current_time`이 아래 문자열을 가리키도록 아래 코드를 완성하라."
   ]
  },
  {
   "cell_type": "code",
   "execution_count": 3,
   "metadata": {
    "id": "Du-N2j9QXzxK"
   },
   "outputs": [],
   "source": [
    "current_time_string = \"오늘은 2021년 3월 14일이고, 현재 시각은 오후 3시 5분 20초입니다.\""
   ]
  },
  {
   "cell_type": "markdown",
   "metadata": {
    "id": "CCTPSOZ-X1O7"
   },
   "source": [
    "힌트: datetime 객체의 다양한 메서드 활용 및 적절한 f-문자열 지정\n",
    "\n",
    "- 참고: [datetime 클래스 문서](https://docs.python.org/ko/3/library/datetime.html)\n",
    "- 참고: [f-문자열 포매팅](https://wikidocs.net/13#f)"
   ]
  },
  {
   "cell_type": "code",
   "execution_count": 4,
   "metadata": {
    "id": "7DG6gVYH5F69"
   },
   "outputs": [],
   "source": [
    "from datetime import datetime, date, time\n",
    "\n",
    "dt = datetime(2021, 3, 14, 15, 5, 20)"
   ]
  },
  {
   "cell_type": "code",
   "execution_count": 5,
   "metadata": {
    "id": "3r7wlGp15psQ"
   },
   "outputs": [],
   "source": [
    "# 추가 코드가 필요하면 여기에 작성\n",
    "\n"
   ]
  },
  {
   "cell_type": "code",
   "execution_count": 6,
   "metadata": {
    "colab": {
     "base_uri": "https://localhost:8080/"
    },
    "id": "gBn1qhcT5Wei",
    "outputId": "51f50cf1-a19c-48f8-fd2e-aa84de1de69b"
   },
   "outputs": [
    {
     "name": "stdout",
     "output_type": "stream",
     "text": [
      "None\n"
     ]
    }
   ],
   "source": [
    "# None을 적절한 f-문자열로 대체하라.\n",
    "# datetime 객체의 다양한 메서드를 사용할 것.\n",
    "# current_time_string에 사용된 문자열을 그대로 작성할 경우 0점 처리됨.\n",
    "\n",
    "current_time = None\n",
    "\n",
    "print(current_time)"
   ]
  },
  {
   "cell_type": "markdown",
   "metadata": {
    "id": "AvifUNZOvSkU"
   },
   "source": [
    "**문제**"
   ]
  },
  {
   "cell_type": "markdown",
   "metadata": {
    "id": "AvifUNZOvSkU"
   },
   "source": [
    "0부터 10까지의 수 중에서 3의 배수를 제외한 항목으로 이루어진 리스트를 \n",
    "생성하도록 아래 코드를 완성하라.\n",
    "\n",
    "즉, `list10` 변수는 최종적으로 아래 값을 가리켜야 한다.\n",
    "\n",
    "```python\n",
    "[1, 2, 4, 5, 7, 8, 10]\n",
    "```\n",
    "\n",
    "힌트: `for` 반복문과 `continue` 예약어 활용"
   ]
  },
  {
   "cell_type": "code",
   "execution_count": 7,
   "metadata": {
    "colab": {
     "base_uri": "https://localhost:8080/"
    },
    "id": "glnrGCIZvuwT",
    "outputId": "d935be85-e587-4c24-8481-1a510672f7e3"
   },
   "outputs": [
    {
     "name": "stdout",
     "output_type": "stream",
     "text": [
      "[]\n"
     ]
    }
   ],
   "source": [
    "# pass 예약어를 적절한 코드로 대체하세요.\n",
    "# for 반복문을 range() 함수와 함께 활용\n",
    "\n",
    "list10 = []\n",
    "\n",
    "pass\n",
    "\n",
    "print(list10)"
   ]
  },
  {
   "cell_type": "markdown",
   "metadata": {
    "id": "2cFz6sWv2nXs"
   },
   "source": [
    "**문제**"
   ]
  },
  {
   "cell_type": "markdown",
   "metadata": {
    "id": "2cFz6sWv2nXs"
   },
   "source": [
    "리스트를 입력 받아 사전으로 변환하는 `list_enum()` 함수를 정의하라.\n",
    "단, 키는 항목의 인덱스를 사용한다.\n",
    "\n",
    "예제:\n",
    "\n",
    "```python\n",
    "list_enum(['a', 'b', 'c']) = {0: 'a', 1: 'b', 2: 'c'}\n",
    "list_enum([4, 6, 9, 2]) = {0: 4, 1: 6, 2: 9, 3: 2}\n",
    "```\n",
    "\n",
    "힌트: `enumerate()` 함수 활용"
   ]
  },
  {
   "cell_type": "code",
   "execution_count": 8,
   "metadata": {
    "id": "EPsXQ6Uk3u_c"
   },
   "outputs": [],
   "source": [
    "# 추가 코드가 필요하면 여기에 작성\n",
    "\n"
   ]
  },
  {
   "cell_type": "code",
   "execution_count": 9,
   "metadata": {
    "colab": {
     "base_uri": "https://localhost:8080/"
    },
    "id": "-RXW9NFN4Ck5",
    "outputId": "adf53c89-e96a-4832-dae4-8f12393cff6e"
   },
   "outputs": [
    {
     "name": "stdout",
     "output_type": "stream",
     "text": [
      "{}\n",
      "{}\n"
     ]
    }
   ],
   "source": [
    "# pass 부분을 적절한 코드로 대체할 것\n",
    "\n",
    "def list_enum(xs):\n",
    "    idx_dict = {}\n",
    "    \n",
    "    pass\n",
    "\n",
    "    return idx_dict\n",
    "\n",
    "print(list_enum(['a', 'b', 'c']))\n",
    "print(list_enum([4, 6, 9, 2]))"
   ]
  },
  {
   "cell_type": "markdown",
   "metadata": {
    "id": "EJXE5h5ThUOs"
   },
   "source": [
    "**문제**"
   ]
  },
  {
   "cell_type": "markdown",
   "metadata": {
    "id": "EJXE5h5ThUOs"
   },
   "source": [
    "문자열로 이루어진 리스트가 입력되었을 때 아래 항목들을 갖는 사전 객체를 반환하는 함수 `list2dic()` 함수를 구현하라.\n",
    "\n",
    "반한된 사전의 항목은 아래 형식을 갖는다.\n",
    "\n",
    "- 키(key): 리스트에 사용된 항목\n",
    "- 값(value): 키(key)가 리스트에서 사용된 횟수\n",
    "\n",
    "힌트: `list2dic()` 함수는 아래와 같이 작동해야 한다.\n",
    "\n",
    "```\n",
    "list2dic([2, 5, 2, 3, 3, 2]) = {2: [0, 2, 5], 3: [3, 4], 5: [1]}\n",
    "list2dic([15, 3, 15, 1, 3, 8]) = {1: [3], 3: [1, 4], 8: [5], 15: [0, 2]}\n",
    "```\n",
    "\n",
    "힌트: `enumerate()` 함수, 리스트의 `count()` 메서드,\n",
    "`collections` 모듈의 `defaultdict` 클래스를 이용한다.\n",
    "\n",
    "참고: [사전 기본값 처리](https://www.daleseo.com/python-collections-defaultdict/)"
   ]
  },
  {
   "cell_type": "code",
   "execution_count": 10,
   "metadata": {
    "id": "7HwOqPEkjZRf"
   },
   "outputs": [],
   "source": [
    "from collections import defaultdict"
   ]
  },
  {
   "cell_type": "code",
   "execution_count": 11,
   "metadata": {
    "id": "nR-KsYAWKK8u"
   },
   "outputs": [],
   "source": [
    "# 추가 코드가 필요하면 여기에 작성\n",
    "\n"
   ]
  },
  {
   "cell_type": "code",
   "execution_count": 12,
   "metadata": {
    "colab": {
     "base_uri": "https://localhost:8080/"
    },
    "id": "bdFl6zxWKGpI",
    "outputId": "941f0683-d6fa-4035-d208-a6393b39ca99"
   },
   "outputs": [
    {
     "name": "stdout",
     "output_type": "stream",
     "text": [
      "None\n",
      "None\n"
     ]
    }
   ],
   "source": [
    "# pass 부분을 적절한 코드로 대체할 것\n",
    "# None 값을 적절한 표현식으로 대체할 것\n",
    "\n",
    "def list2dic(xs):\n",
    "    pass\n",
    "\n",
    "    return None\n",
    "\n",
    "print(list2dic([2, 5, 2, 3, 3, 2]))\n",
    "print(list2dic([15, 3, 15, 1, 3, 8]))"
   ]
  },
  {
   "cell_type": "markdown",
   "metadata": {
    "id": "IVMgvZTidFz0"
   },
   "source": [
    "**문제**"
   ]
  },
  {
   "cell_type": "markdown",
   "metadata": {
    "id": "IVMgvZTidFz0"
   },
   "source": [
    "리스트를 인자로 받아서 사용된 항목의 개수를 반환하는 함수 \n",
    "`count_elem()`를 구현하라.\n",
    "단, 중복 항목은 하나로 간주한다.\n",
    "\n",
    "`count_elem()` 함수는 아래와 같이 작동해야 한다.\n",
    "\n",
    "```\n",
    "count_elem([2, 5, 2, 3, 3, 8, 2, 7]) = 5\n",
    "count_elem([15, 3, 15, 1, 3]) = 3\n",
    "```\n",
    "\n",
    "힌트: `set()` 함수 활용"
   ]
  },
  {
   "cell_type": "code",
   "execution_count": 13,
   "metadata": {
    "id": "9aJlY1rLdyyh"
   },
   "outputs": [],
   "source": [
    "# 추가 코드가 필요하면 여기에 작성\n",
    "\n"
   ]
  },
  {
   "cell_type": "code",
   "execution_count": 14,
   "metadata": {
    "colab": {
     "base_uri": "https://localhost:8080/"
    },
    "id": "zzipN9zjKCSx",
    "outputId": "7463b911-fc6c-42f1-8ef7-95092ce436b5"
   },
   "outputs": [
    {
     "name": "stdout",
     "output_type": "stream",
     "text": [
      "None\n",
      "None\n"
     ]
    }
   ],
   "source": [
    "# pass 부분을 적절한 코드로 대체할 것\n",
    "# None 값을 적절한 표현식으로 대체할 것\n",
    "\n",
    "def count_elem(xs):\n",
    "    pass\n",
    "\n",
    "    return None\n",
    "\n",
    "print(count_elem([2, 5, 2, 3, 3, 8, 2, 7]))\n",
    "print(count_elem([15, 3, 15, 1, 3]))"
   ]
  },
  {
   "cell_type": "markdown",
   "metadata": {
    "id": "CDZgxQlTz20T"
   },
   "source": [
    "**문제**"
   ]
  },
  {
   "cell_type": "markdown",
   "metadata": {
    "id": "CDZgxQlTz20T"
   },
   "source": [
    "0부터 10까지의 자연수 중에서 3으로 나눈 나머지가 2인 수의 제곱으로 이루어진 리스트를 조건제시법으로 정의하라.\n",
    "즉, 아래 리스트를 조건제시법으로 생성해야 한다.\n",
    "\n",
    "```python\n",
    "[4, 25, 64]\n",
    "```\n",
    "\n",
    "힌트: 리스트 조건제시법(comprehension) 활용"
   ]
  },
  {
   "cell_type": "code",
   "execution_count": 15,
   "metadata": {
    "id": "xfZ5Mrdt053H"
   },
   "outputs": [],
   "source": [
    "# 필요한 코드가 있다면 아래에 추가\n",
    "\n"
   ]
  },
  {
   "cell_type": "code",
   "execution_count": 16,
   "metadata": {
    "colab": {
     "base_uri": "https://localhost:8080/"
    },
    "id": "VSIThrw0KiaW",
    "outputId": "58686e17-c210-4750-d9cb-2aebbea5ec9f"
   },
   "outputs": [
    {
     "name": "stdout",
     "output_type": "stream",
     "text": [
      "None\n"
     ]
    }
   ],
   "source": [
    "# None 값을 적절한 리스트 조건제시법으로 대체할 것\n",
    "\n",
    "list_modulo3 = None\n",
    "\n",
    "print(list_modulo3)"
   ]
  },
  {
   "cell_type": "markdown",
   "metadata": {},
   "source": [
    "**문제**"
   ]
  },
  {
   "cell_type": "markdown",
   "metadata": {},
   "source": [
    "영어단어를 입력받아 알파벳순으로 출력하는 코드를 작성하여라.\n",
    "예를 들어, `python` 을 입력하면, `hopty` 를 출력한다.\n",
    "단, 모두 소문자로 변환해서 출력한다.\n",
    "\n",
    "힌트: `list` 를 이용한다."
   ]
  },
  {
   "cell_type": "markdown",
   "metadata": {
    "id": "WLyueOhysoiT"
   },
   "source": [
    "**[추가문제1] 어느 모임에 등록하는 참가자들의 리스트를 관리하는 간단한 프로그램 만들기**\n",
    "\n",
    "프로그램은 아래와 같은 일을 할 수 있다.  \n",
    "```\n",
    "1. 참가 여부 확인\n",
    "2. 참가 신청\n",
    "3. 참가 취소\n",
    "4. 참가자명 변경\n",
    "5. 참가명단 확인\n",
    "6. 참가 인원수 확인\n",
    "9. 종료\n",
    "```\n",
    "\n",
    "* 각 단계의 내용이 충족되도록 전 단계의 코드를 수정 보완하여라.   \n",
    "예를 들어, 2단계에 작성하는 코드는 1단계와 2단계의 내용이 모두 충족되어야 한다. \n",
    "\n",
    "* 프로그램이 실행되면, 프로그램이 할 수 있는 일을 번호와 함께 보여주고,   \n",
    "사용자가 수행하길 원하는 항목 번호를 입력받는다. \n",
    "* 프로그램은 사용자가 9번을 선택해야 종료된다. \n",
    "* 사용자가 1번을 선택하면, 확인할 이름을 입력받고 참가자 명단에 있는지 여부를 확인해준다.\n",
    "* 사용자가 2번을 선택하면, 참가 신청할 이름을 입력받고 참가자 명단에 추가한다. \n",
    "* 사용자가 3번을 선택하면, 참가 취소할 이름을 입력받고 참가자 명단에서 제외한다. \n",
    "* 사용자가 4번을 선택하면, 등록한 이름과 수정할 이름을 입력받아서 참가자 명단에 있는 해당 이름을 변경한다. \n",
    "* 사용자가 5번을 선택하면, 참가자 명단을 보여준다.\n",
    "* 사용자가 6번을 선택하면, 참가 인원수를 보여준다. \n",
    "* 사용자가 정수가 아닌 값을 입력하면 정수를 입력하라고 한다.  \n",
    "* 동명이인은 없다고 가정한다.\n",
    "\n",
    "\n"
   ]
  },
  {
   "cell_type": "code",
   "execution_count": 3,
   "metadata": {
    "colab": {
     "base_uri": "https://localhost:8080/"
    },
    "executionInfo": {
     "elapsed": 3494,
     "status": "ok",
     "timestamp": 1617678109773,
     "user": {
      "displayName": "HJ Kim",
      "photoUrl": "",
      "userId": "16634276932240017990"
     },
     "user_tz": -540
    },
    "id": "VnPL2oUj9U9E",
    "outputId": "b88acdd5-7130-41fe-8cd3-00d794b6e7c0"
   },
   "outputs": [
    {
     "name": "stdout",
     "output_type": "stream",
     "text": [
      "1. 참가 여부 확인\n",
      "2. 참가 신청\n",
      "3. 참가 취소\n",
      "4. 참가자명 변경\n",
      "5. 참가명단 확인\n",
      "6. 참가 인원수 확인\n",
      "9. 종료\n",
      "원하는 항목 번호를 입력하세요: 9\n",
      "프로그램이 종료됩니다\n"
     ]
    }
   ],
   "source": [
    "info = \"1. 참가 여부 확인\\n2. 참가 신청\\n3. 참가 취소\\n4. 참가자명 변경\\n5. 참가명단 확인\\n6. 참가 인원수 확인\\n9. 종료\"\n",
    "students = []\n",
    "num = 0\n",
    "\n",
    "while num != 9:\n",
    "  \n",
    "  print(info)\n",
    "  \n",
    "  try:\n",
    "    num = int(input(\"원하는 항목 번호를 입력하세요: \"))\n",
    "  except ValueError:\n",
    "    print(\"정수를 입력해주세요\")\n",
    "    num = 0\n",
    "\n",
    "  if num == 1:\n",
    "    name = input(\"확인할 이름을 입력해주세요: \")\n",
    "    if name in students:\n",
    "      print(name, \"은(는) 참가자 명단에 있습니다.\")\n",
    "    else:\n",
    "      print(name, \"은(는) 참가자 명단에 없습니다.\")\n",
    "    \n",
    "  elif num == 2:\n",
    "    name = input(\"참가자 명단에 추가할 이름을 입력해주세요: \")\n",
    "    if name in students:\n",
    "      print(name, \"이미 참가자 명단에 있습니다.\")\n",
    "    else:\n",
    "      students.append(name)\n",
    "    \n",
    "  elif num == 3:\n",
    "    name = input(\"참가자 명단에서 제거할 이름을 입력해주세요: \")\n",
    "    if name in students:\n",
    "      students.remove(name)\n",
    "      print(name, \"을 참가자 명단에서 제거하였습니다.\")\n",
    "    else:\n",
    "      print(name, \"은(는) 참가자 명단에 없습니다.\")\n",
    "    \n",
    "  elif num == 4:\n",
    "    name, after_name = input(\"참가자 명단에서 등록한 이름과 수정할 이름을 입력해주세요 ex) 등록한이름 수정한이름: \").split()\n",
    "    if name in students:\n",
    "        if after_name in students :\n",
    "          print(after_name, \"은(는) 이미 참가자 명단에 있습니다.\")\n",
    "        else :\n",
    "          name_index = students.index(name)\n",
    "          students[name_index] = after_name\n",
    "          print(name, \"을\", after_name, \"으로 수정하였습니다.\")\n",
    "    else:\n",
    "      print(name, \"은(는) 참가자 명단에 없습니다.\")\n",
    "\n",
    "  elif num == 5:\n",
    "    print(\"참가자 명단은:\", students)\n",
    "    \n",
    "  elif num == 6:\n",
    "    print(\"참가 인원수는:\", len(students))\n",
    "    \n",
    "  elif num == 9:\n",
    "    print(\"프로그램이 종료됩니다\")\n",
    "    break\n",
    "  \n",
    "  "
   ]
  },
  {
   "cell_type": "markdown",
   "metadata": {
    "id": "QNlMUg025pIB"
   },
   "source": [
    "**[추가문제2] 아래와 같은 문자열이 있다.**\n",
    "\n",
    "`lyrics = \"Twinkle, twinkle, little star. How I wonder what you are. Up above the world so high. Like a diamond in the sky. Twinkle, twinkle, little star. How I wonder what you are.\"`  \n",
    "\n",
    "(1) 위 문자열을 소문자로 변경한 후, 공백을 기준으로 리스트를 만들어 `lyrics_list`에 할당하여라."
   ]
  },
  {
   "cell_type": "code",
   "execution_count": null,
   "metadata": {
    "colab": {
     "base_uri": "https://localhost:8080/"
    },
    "executionInfo": {
     "elapsed": 526,
     "status": "ok",
     "timestamp": 1617490728878,
     "user": {
      "displayName": "HJ Kim",
      "photoUrl": "",
      "userId": "16634276932240017990"
     },
     "user_tz": -540
    },
    "id": "dNJbcJZO69sX",
    "outputId": "88bb4258-7902-4f03-bac6-a2d8492f6e87"
   },
   "outputs": [
    {
     "data": {
      "text/plain": [
       "['twinkle,',\n",
       " 'twinkle,',\n",
       " 'little',\n",
       " 'star.',\n",
       " 'how',\n",
       " 'i',\n",
       " 'wonder',\n",
       " 'what',\n",
       " 'you',\n",
       " 'are.',\n",
       " 'up',\n",
       " 'above',\n",
       " 'the',\n",
       " 'world',\n",
       " 'so',\n",
       " 'high.',\n",
       " 'like',\n",
       " 'a',\n",
       " 'diamond',\n",
       " 'in',\n",
       " 'the',\n",
       " 'sky.',\n",
       " 'twinkle,',\n",
       " 'twinkle,',\n",
       " 'little',\n",
       " 'star.',\n",
       " 'how',\n",
       " 'i',\n",
       " 'wonder',\n",
       " 'what',\n",
       " 'you',\n",
       " 'are.']"
      ]
     },
     "execution_count": 18,
     "metadata": {
      "tags": []
     },
     "output_type": "execute_result"
    }
   ],
   "source": [
    "lyrics = \"Twinkle, twinkle, little star. How I wonder what you are. Up above the world so high. Like a diamond in the sky. Twinkle, twinkle, little star. How I wonder what you are.\"\n",
    "lyrics_list = lyrics.lower().split()\n",
    "lyrics_list"
   ]
  },
  {
   "cell_type": "markdown",
   "metadata": {
    "id": "FLqjsgO27LN-"
   },
   "source": [
    "(2) `lyrics_list`의 각 항목의 문자열 길이를 항목으로 갖는 리스트를 만들어라.  \n",
    "예를 들어, `['hello', 'python']`의 경우, 각 항목의 문자열 길이를 항목으로 갖는 리스트는 `[5, 6]` 이다. "
   ]
  },
  {
   "cell_type": "code",
   "execution_count": null,
   "metadata": {
    "colab": {
     "base_uri": "https://localhost:8080/"
    },
    "executionInfo": {
     "elapsed": 534,
     "status": "ok",
     "timestamp": 1617490732179,
     "user": {
      "displayName": "HJ Kim",
      "photoUrl": "",
      "userId": "16634276932240017990"
     },
     "user_tz": -540
    },
    "id": "KCXRsWrt8smD",
    "outputId": "0e61ef40-d660-4352-aeaf-f596623f07a4"
   },
   "outputs": [
    {
     "data": {
      "text/plain": [
       "[8,\n",
       " 8,\n",
       " 6,\n",
       " 5,\n",
       " 3,\n",
       " 1,\n",
       " 6,\n",
       " 4,\n",
       " 3,\n",
       " 4,\n",
       " 2,\n",
       " 5,\n",
       " 3,\n",
       " 5,\n",
       " 2,\n",
       " 5,\n",
       " 4,\n",
       " 1,\n",
       " 7,\n",
       " 2,\n",
       " 3,\n",
       " 4,\n",
       " 8,\n",
       " 8,\n",
       " 6,\n",
       " 5,\n",
       " 3,\n",
       " 1,\n",
       " 6,\n",
       " 4,\n",
       " 3,\n",
       " 4]"
      ]
     },
     "execution_count": 19,
     "metadata": {
      "tags": []
     },
     "output_type": "execute_result"
    }
   ],
   "source": [
    "[len(x) for x in lyrics_list]"
   ]
  },
  {
   "cell_type": "markdown",
   "metadata": {
    "id": "a4iqQYXd9gbo"
   },
   "source": [
    "(3) `lyrics_list`의 항목 중 일부는 콤마(,)나 마침표(.)가 사용되었다. 콤마나 마침표를 제외한 단어의 길이를 표시하도록 (2)의 코드를 수정하여라."
   ]
  },
  {
   "cell_type": "code",
   "execution_count": null,
   "metadata": {
    "colab": {
     "base_uri": "https://localhost:8080/"
    },
    "executionInfo": {
     "elapsed": 677,
     "status": "ok",
     "timestamp": 1617490869881,
     "user": {
      "displayName": "HJ Kim",
      "photoUrl": "",
      "userId": "16634276932240017990"
     },
     "user_tz": -540
    },
    "id": "XFru5EYy95VL",
    "outputId": "e078fc0a-da77-4ab6-b664-69e565241680"
   },
   "outputs": [
    {
     "data": {
      "text/plain": [
       "[7,\n",
       " 7,\n",
       " 6,\n",
       " 4,\n",
       " 3,\n",
       " 1,\n",
       " 6,\n",
       " 4,\n",
       " 3,\n",
       " 3,\n",
       " 2,\n",
       " 5,\n",
       " 3,\n",
       " 5,\n",
       " 2,\n",
       " 4,\n",
       " 4,\n",
       " 1,\n",
       " 7,\n",
       " 2,\n",
       " 3,\n",
       " 3,\n",
       " 7,\n",
       " 7,\n",
       " 6,\n",
       " 4,\n",
       " 3,\n",
       " 1,\n",
       " 6,\n",
       " 4,\n",
       " 3,\n",
       " 3]"
      ]
     },
     "execution_count": 20,
     "metadata": {
      "tags": []
     },
     "output_type": "execute_result"
    }
   ],
   "source": [
    "[len(x.strip('.').strip(',')) for x in lyrics_list]"
   ]
  },
  {
   "cell_type": "markdown",
   "metadata": {
    "id": "tVZCbWCFof1T"
   },
   "source": [
    "**[추가 문제3] 문제2)에 있는 리스트를 `while`반복문과 `for`반복문을 이용해 만들어라**  "
   ]
  },
  {
   "cell_type": "markdown",
   "metadata": {
    "id": "UVOZTpffCt28"
   },
   "source": [
    "\n",
    "**아래 리스트를 반복문으로 구현하여라**   \n",
    "\n",
    "(1) [3, 6, 9, 12, 15]"
   ]
  },
  {
   "cell_type": "code",
   "execution_count": null,
   "metadata": {
    "colab": {
     "base_uri": "https://localhost:8080/"
    },
    "executionInfo": {
     "elapsed": 1121,
     "status": "ok",
     "timestamp": 1617425075919,
     "user": {
      "displayName": "­정성엽 / 학생 / 컴퓨터공학부",
      "photoUrl": "",
      "userId": "12165438926956780307"
     },
     "user_tz": -540
    },
    "id": "UGsmjGloCt29",
    "outputId": "bf37b30f-73a6-4236-a9c5-43a52e09d6fe"
   },
   "outputs": [
    {
     "name": "stdout",
     "output_type": "stream",
     "text": [
      "[3, 6, 9, 12, 15]\n"
     ]
    }
   ],
   "source": [
    "ans = []\n",
    "for i in range(1,16):\n",
    "  if i % 3 == 0:\n",
    "    ans.append(i)\n",
    "\n",
    "print(ans)"
   ]
  },
  {
   "cell_type": "markdown",
   "metadata": {
    "id": "SVXG7heiCt2_"
   },
   "source": [
    "(2)수학에서 사용되는 대표적인 지수함수인 $f(x) = e^x$는 `math` 모듈의 `exp()`로 정의되어 있다. \n",
    "<center>[ $e^3, e^6, e^9, e^{12}, e^{15}$ ] </center>"
   ]
  },
  {
   "cell_type": "code",
   "execution_count": null,
   "metadata": {
    "colab": {
     "base_uri": "https://localhost:8080/"
    },
    "executionInfo": {
     "elapsed": 667,
     "status": "ok",
     "timestamp": 1617425123231,
     "user": {
      "displayName": "­정성엽 / 학생 / 컴퓨터공학부",
      "photoUrl": "",
      "userId": "12165438926956780307"
     },
     "user_tz": -540
    },
    "id": "aMhe6TAJCt3A",
    "outputId": "24a73329-0c67-480c-c189-dc1b87317d40"
   },
   "outputs": [
    {
     "name": "stdout",
     "output_type": "stream",
     "text": [
      "[20.085536923187668, 403.4287934927351, 8103.083927575384, 162754.79141900392, 3269017.3724721107]\n"
     ]
    }
   ],
   "source": [
    "from math import exp\n",
    "ans = []\n",
    "for i in range(1,16):\n",
    "  if i % 3 == 0:\n",
    "    ans.append(exp(i))\n",
    "print(ans)"
   ]
  },
  {
   "cell_type": "markdown",
   "metadata": {
    "id": "qdFNVCkwCt3A"
   },
   "source": [
    "(3) [1, 5, 7, 11, 13, 17, 19]  \n",
    "hint) 2의 배수와 3의 배수가 아닌 1에서 20사이의 정수들을 항목으로 갖는 리스트"
   ]
  },
  {
   "cell_type": "code",
   "execution_count": null,
   "metadata": {
    "colab": {
     "base_uri": "https://localhost:8080/"
    },
    "executionInfo": {
     "elapsed": 591,
     "status": "ok",
     "timestamp": 1617425162013,
     "user": {
      "displayName": "­정성엽 / 학생 / 컴퓨터공학부",
      "photoUrl": "",
      "userId": "12165438926956780307"
     },
     "user_tz": -540
    },
    "id": "2O-cHsGBCt3A",
    "outputId": "5800c22b-ecb3-429c-e7b3-044d3691513c"
   },
   "outputs": [
    {
     "name": "stdout",
     "output_type": "stream",
     "text": [
      "[1, 5, 7, 11, 13, 17, 19]\n"
     ]
    }
   ],
   "source": [
    "ans = []\n",
    "for i in range(1,20):\n",
    "  if i % 2 != 0 and i % 3 != 0:\n",
    "    ans.append(i)\n",
    "print(ans)"
   ]
  },
  {
   "cell_type": "code",
   "execution_count": null,
   "metadata": {},
   "outputs": [],
   "source": []
  }
 ],
 "metadata": {
  "colab": {
   "name": "pydata-quiz01-solutions.ipynb",
   "provenance": []
  },
  "kernelspec": {
   "display_name": "Python 3 (ipykernel)",
   "language": "python",
   "name": "python3"
  },
  "language_info": {
   "codemirror_mode": {
    "name": "ipython",
    "version": 3
   },
   "file_extension": ".py",
   "mimetype": "text/x-python",
   "name": "python",
   "nbconvert_exporter": "python",
   "pygments_lexer": "ipython3",
   "version": "3.9.7"
  }
 },
 "nbformat": 4,
 "nbformat_minor": 1
}
