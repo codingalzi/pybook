{
 "cells": [
  {
   "cell_type": "markdown",
   "metadata": {},
   "source": [
    "**문제**"
   ]
  },
  {
   "cell_type": "markdown",
   "metadata": {},
   "source": [
    "문자열 메서드를 활용하는 문제다. 사용가능한 문자열 메서드는 다음과 같다.\n",
    "\n",
    "- `strip()`\n",
    "- `split()`\n",
    "- `replace()`\n",
    "- `upper()`\n",
    "- `lower()`\n",
    "- `capitalize()`\n",
    "- `title()`\n",
    "- `startswith()`\n",
    "- `endswith()`"
   ]
  },
  {
   "cell_type": "markdown",
   "metadata": {
    "id": "kkbD-sw3IsYs"
   },
   "source": [
    "`fruit` 변수는 과일 이름으로 구성된 문자열을 가리킨다."
   ]
  },
  {
   "cell_type": "code",
   "execution_count": 1,
   "metadata": {
    "id": "kkbD-sw3IsYs"
   },
   "outputs": [],
   "source": [
    "fruit = \"banana apple orange pineapple mango strawberry cherry\""
   ]
  },
  {
   "cell_type": "markdown",
   "metadata": {
    "id": "kkbD-sw3IsYs"
   },
   "source": [
    "(1) 각 과일 단어의 첫 알파벳을 대문자로 변경하여 다음과 같이 출력하는 코드를 작성하라.\n",
    "\n",
    "```python\n",
    "Banana Apple Orange Pineapple Mango Strawberry Cherry\n",
    "```"
   ]
  },
  {
   "cell_type": "markdown",
   "metadata": {
    "id": "c0s_ArvDKJBO"
   },
   "source": [
    "(2) `fruit` 변수로부터 대문자 Y를 추출하는 코드를 작성하여라."
   ]
  },
  {
   "cell_type": "markdown",
   "metadata": {},
   "source": [
    "**문제**"
   ]
  },
  {
   "cell_type": "markdown",
   "metadata": {
    "id": "ngzxeTGTpXrG"
   },
   "source": [
    "아래 노래 가사를 활용하는 문제이다."
   ]
  },
  {
   "cell_type": "code",
   "execution_count": 7,
   "metadata": {
    "id": "ngzxeTGTpXrG"
   },
   "outputs": [],
   "source": [
    "song = \"When you are smiling, the whole world smiles with you\"ㄴ"
   ]
  },
  {
   "cell_type": "markdown",
   "metadata": {
    "id": "ngzxeTGTpXrG"
   },
   "source": [
    "`count()` 메서드를 이용하여 알파벳 `w`가 대, 소문자 구분 없이 사용된 횟수를 확인하라."
   ]
  },
  {
   "cell_type": "markdown",
   "metadata": {
    "id": "Wf5NSC6DSSky"
   },
   "source": [
    "**문제**"
   ]
  },
  {
   "cell_type": "markdown",
   "metadata": {
    "id": "Wf5NSC6DSSky"
   },
   "source": [
    "아래와 같이 선언된 `lyrics`변수가 있다."
   ]
  },
  {
   "cell_type": "code",
   "execution_count": 10,
   "metadata": {
    "id": "Wf5NSC6DSSky"
   },
   "outputs": [],
   "source": [
    "lyrics = \" When you're smiling, the whole world smiles with you \""
   ]
  },
  {
   "cell_type": "markdown",
   "metadata": {
    "id": "Wf5NSC6DSSky"
   },
   "source": [
    "다음 문제들을 특정 메소드를 사용하여 한 줄 코드로 해결하라."
   ]
  },
  {
   "cell_type": "markdown",
   "metadata": {
    "id": "Wf5NSC6DSSky"
   },
   "source": [
    "(1) 문자열 양 끝에 있는 스페이스를 삭제하고, 모든 문자는 대문자로 변환된 문자열을 생성하라."
   ]
  },
  {
   "cell_type": "markdown",
   "metadata": {
    "id": "Wf5NSC6DSSky"
   },
   "source": [
    "(2) 문자열 양 끝에 있는 스페이스를 삭제하고, \n",
    "`When you're smiling`이 아닌 \n",
    "`When you are smiling` 문장이 포함된 문자열을 생성한다."
   ]
  },
  {
   "cell_type": "markdown",
   "metadata": {
    "id": "Wf5NSC6DSSky"
   },
   "source": [
    "(3) 위 문자열이 `W`로 시작하는지 여부를 판단하는 코드를 작성하여라. "
   ]
  },
  {
   "cell_type": "markdown",
   "metadata": {
    "id": "Wf5NSC6DSSky"
   },
   "source": [
    "(4) 아래와 같은 결과를 출력하는 코드를 작성하여라.\n",
    "\n",
    "```python\n",
    "[\"when\", \"you're\", \"smiling,\", \"the\", \"whole\", \"world\", \"smiles\", \"with\", \"you\"]\n",
    "```"
   ]
  }
 ],
 "metadata": {
  "colab": {
   "authorship_tag": "ABX9TyMc9fB9lcJwW8sP+Iso3pm1",
   "collapsed_sections": [],
   "name": "실습답안3.ipynb",
   "provenance": []
  },
  "kernelspec": {
   "display_name": "Python 3 (ipykernel)",
   "language": "python",
   "name": "python3"
  },
  "language_info": {
   "codemirror_mode": {
    "name": "ipython",
    "version": 3
   },
   "file_extension": ".py",
   "mimetype": "text/x-python",
   "name": "python",
   "nbconvert_exporter": "python",
   "pygments_lexer": "ipython3",
   "version": "3.9.7"
  }
 },
 "nbformat": 4,
 "nbformat_minor": 1
}
