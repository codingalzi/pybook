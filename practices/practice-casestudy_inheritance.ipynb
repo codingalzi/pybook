{
 "cells": [
  {
   "cell_type": "markdown",
   "id": "d85ece54",
   "metadata": {},
   "source": [
    "# (실습) 사례 연구: 상속"
   ]
  },
  {
   "cell_type": "markdown",
   "id": "16cd891e",
   "metadata": {},
   "source": [
    "**문제 1**"
   ]
  },
  {
   "cell_type": "markdown",
   "id": "a5f76254",
   "metadata": {},
   "source": [
    "[(레플릿) 충돌 감지 - 상속 1](https://replit.com/@codingrg/collisiondectioninheritance1#main.py)에서\n",
    "스페이스 키가 눌릴 때 팩맨 캐릭터가 실제로 공중으로 점프해서 이동하도록 `jump_pacman()` 함수를 수정하라.\n",
    "\n",
    "참고: [Coding A Bouncing Ball](https://thepythoncodingbook.com/2021/08/19/simulating-a-bouncing-ball-in-python/)"
   ]
  },
  {
   "cell_type": "markdown",
   "id": "bd62979c",
   "metadata": {},
   "source": [
    "**문제 2**"
   ]
  },
  {
   "cell_type": "markdown",
   "id": "6ac73934",
   "metadata": {},
   "source": [
    "[(레플릿) 충돌 감지 - 상속 1](https://replit.com/@codingrg/collisiondectioninheritance1#main.py)를 확장해서\n",
    "보다 재밌는 보드게임을 구현하라."
   ]
  }
 ],
 "metadata": {
  "kernelspec": {
   "display_name": "Python 3 (ipykernel)",
   "language": "python",
   "name": "python3"
  },
  "language_info": {
   "codemirror_mode": {
    "name": "ipython",
    "version": 3
   },
   "file_extension": ".py",
   "mimetype": "text/x-python",
   "name": "python",
   "nbconvert_exporter": "python",
   "pygments_lexer": "ipython3",
   "version": "3.10.9"
  }
 },
 "nbformat": 4,
 "nbformat_minor": 5
}
