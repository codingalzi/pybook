{
 "cells": [
  {
   "cell_type": "markdown",
   "metadata": {
    "id": "4355d4f8"
   },
   "source": [
    "# (실습) 리스트와 튜플"
   ]
  },
  {
   "cell_type": "markdown",
   "metadata": {
    "id": "5140d50d"
   },
   "source": [
    "**참고 사항**\n",
    "\n",
    "먼저\n",
    "[리스트와 튜플](https://codingalzi.github.io/pybook/lists_tuples.html)의 내용과\n",
    "[(필수 예제) 리스트와 튜플](https://colab.research.google.com/github/codingalzi/pybook/blob/master/examples/examples-lists_tuples.ipynb)의 예제들을 학습하세요."
   ]
  },
  {
   "cell_type": "markdown",
   "metadata": {
    "id": "a0a20bd6"
   },
   "source": [
    "**주의 사항**\n",
    "\n",
    "* 기존에 작성된 코드 셀과 텍스트 셀은 수정하지 않는다.\n",
    "* 필요한 경우 코드 셀 또는 텍스트 셀을 추가해서 사용한다.\n",
    "* 실습 파일을 제출할 때 구글 드라이브의 링크를 이용하여 누구나 공유할 수 있도록 설정한다."
   ]
  },
  {
   "cell_type": "markdown",
   "metadata": {
    "id": "bLJ9efwTVPTv"
   },
   "source": [
    "## 문제 1"
   ]
  },
  {
   "cell_type": "markdown",
   "metadata": {
    "id": "gSF_tBKvfg9V"
   },
   "source": [
    "4중으로 중첩된 리스트를 아래와 같이 선언한다.\n"
   ]
  },
  {
   "cell_type": "code",
   "execution_count": null,
   "metadata": {
    "executionInfo": {
     "elapsed": 14,
     "status": "ok",
     "timestamp": 1714608543939,
     "user": {
      "displayName": "liga nega",
      "userId": "04505461106310941438"
     },
     "user_tz": -540
    },
    "id": "o_m9NzFR1tD_"
   },
   "outputs": [],
   "source": [
    "a_nested_list = [0, [1, [2, [3, 4], 5]], 6, [7, 8, 9], 10]"
   ]
  },
  {
   "cell_type": "markdown",
   "metadata": {
    "id": "5UpuapMrnXfS"
   },
   "source": [
    "**질문 1**"
   ]
  },
  {
   "cell_type": "markdown",
   "metadata": {
    "id": "XQhmua9gVYYR"
   },
   "source": [
    "위 리스트에서 `7`을 확인하는 인덱싱 표현식을 정의하라."
   ]
  },
  {
   "cell_type": "code",
   "execution_count": null,
   "metadata": {
    "colab": {
     "base_uri": "https://localhost:8080/"
    },
    "executionInfo": {
     "elapsed": 12,
     "status": "ok",
     "timestamp": 1714608543940,
     "user": {
      "displayName": "liga nega",
      "userId": "04505461106310941438"
     },
     "user_tz": -540
    },
    "id": "oY_cICv31wP6",
    "outputId": "752f4da2-fc5d-4dfb-c176-02c64e2a8d0f"
   },
   "outputs": [],
   "source": [
    "# pass와 None을 각각 적절한 명령문과 표현식으로 대체하라.\n",
    "\n",
    "None"
   ]
  },
  {
   "cell_type": "markdown",
   "metadata": {
    "id": "GBa7ML6YnXfV"
   },
   "source": [
    "**질문 2**"
   ]
  },
  {
   "cell_type": "markdown",
   "metadata": {
    "id": "PusdXITPgxVB"
   },
   "source": [
    "위 리스트에서 `[2, [3, 4], 5]`를 확인하는 인덱싱 표현식을 정의하라."
   ]
  },
  {
   "cell_type": "code",
   "execution_count": null,
   "metadata": {
    "colab": {
     "base_uri": "https://localhost:8080/"
    },
    "executionInfo": {
     "elapsed": 12,
     "status": "ok",
     "timestamp": 1714608543940,
     "user": {
      "displayName": "liga nega",
      "userId": "04505461106310941438"
     },
     "user_tz": -540
    },
    "id": "oY_cICv31wP6",
    "outputId": "752f4da2-fc5d-4dfb-c176-02c64e2a8d0f"
   },
   "outputs": [],
   "source": [
    "# pass와 None을 각각 적절한 명령문과 표현식으로 대체하라.\n",
    "\n",
    "None"
   ]
  },
  {
   "cell_type": "markdown",
   "metadata": {
    "id": "Dhoz9lUOnXfX"
   },
   "source": [
    "**질문 3**"
   ]
  },
  {
   "cell_type": "markdown",
   "metadata": {
    "id": "j_7rd4kFgV4o"
   },
   "source": [
    "위 리스트에서 4를 확인하는 인덱싱 표현식을 정의하라."
   ]
  },
  {
   "cell_type": "code",
   "execution_count": null,
   "metadata": {
    "colab": {
     "base_uri": "https://localhost:8080/"
    },
    "executionInfo": {
     "elapsed": 12,
     "status": "ok",
     "timestamp": 1714608543940,
     "user": {
      "displayName": "liga nega",
      "userId": "04505461106310941438"
     },
     "user_tz": -540
    },
    "id": "oY_cICv31wP6",
    "outputId": "752f4da2-fc5d-4dfb-c176-02c64e2a8d0f"
   },
   "outputs": [],
   "source": [
    "# pass와 None을 각각 적절한 명령문과 표현식으로 대체하라.\n",
    "\n",
    "None"
   ]
  },
  {
   "cell_type": "markdown",
   "metadata": {
    "id": "AvifUNZOvSkU"
   },
   "source": [
    "## 문제 2"
   ]
  },
  {
   "cell_type": "markdown",
   "metadata": {
    "id": "O_u0yqUOS_24"
   },
   "source": [
    "0부터 10까지의 수 중에서 3의 배수를 제외한 항목으로 이루어진 리스트를\n",
    "생성하도록 아래 코드를 완성하라.\n",
    "즉, `list10` 변수는 최종적으로 아래 값을 가리켜야 한다.\n",
    "\n",
    "```python\n",
    "[1, 2, 4, 5, 7, 8, 10]\n",
    "```\n",
    "\n",
    "단, `for` 반복문과 `continue` 명령문을 활용한다."
   ]
  },
  {
   "cell_type": "code",
   "execution_count": null,
   "metadata": {
    "colab": {
     "base_uri": "https://localhost:8080/"
    },
    "executionInfo": {
     "elapsed": 12,
     "status": "ok",
     "timestamp": 1714608543940,
     "user": {
      "displayName": "liga nega",
      "userId": "04505461106310941438"
     },
     "user_tz": -540
    },
    "id": "oY_cICv31wP6",
    "outputId": "752f4da2-fc5d-4dfb-c176-02c64e2a8d0f"
   },
   "outputs": [],
   "source": [
    "# pass와 None을 각각 적절한 명령문과 표현식으로 대체하라.\n",
    "\n",
    "list10 = []\n",
    "\n",
    "pass"
   ]
  },
  {
   "cell_type": "markdown",
   "metadata": {
    "id": "gnGXWpHPXRj6"
   },
   "source": [
    "## 문제 3"
   ]
  },
  {
   "cell_type": "markdown",
   "metadata": {
    "id": "rOtfcGMwjxwI"
   },
   "source": [
    "아래 리스트가 주어졌다.\n",
    "\n",
    "    ['dog', 'cat']\n",
    "\n",
    "위 리스트에 아래 리스트를 마지막 항목으로 추가한 새로운 리스트를 생성하라.\n",
    "\n",
    "    ['tiger', 'eagle']\n",
    "\n",
    "생성된 리스트는 아래 모양이어야 한다.\n",
    "\n",
    "    ['dog', 'cat', ['tiger', 'eagle']]\n",
    "\n",
    "단, 리스트의 메서드만 활용해야 한다."
   ]
  },
  {
   "cell_type": "markdown",
   "metadata": {
    "id": "qpzkgG1ZX1Ve"
   },
   "source": [
    "**답**"
   ]
  },
  {
   "cell_type": "code",
   "execution_count": null,
   "metadata": {
    "colab": {
     "base_uri": "https://localhost:8080/"
    },
    "executionInfo": {
     "elapsed": 12,
     "status": "ok",
     "timestamp": 1714608543940,
     "user": {
      "displayName": "liga nega",
      "userId": "04505461106310941438"
     },
     "user_tz": -540
    },
    "id": "oY_cICv31wP6",
    "outputId": "752f4da2-fc5d-4dfb-c176-02c64e2a8d0f"
   },
   "outputs": [],
   "source": [
    "# pass와 None을 각각 적절한 명령문과 표현식으로 대체하라.\n",
    "\n",
    "animal = ['dog', 'cat']\n",
    "animal.append(['tiger', 'eagle'])\n",
    "\n",
    "pass"
   ]
  },
  {
   "cell_type": "markdown",
   "metadata": {
    "id": "9aKR0Xh6YObm"
   },
   "source": [
    "## 문제 4"
   ]
  },
  {
   "cell_type": "markdown",
   "metadata": {
    "id": "6rbBfU4zeMtO"
   },
   "source": [
    "영어 단어 인자와 함께 호출되면 알파벳순으로 정렬된 문자열을 반환하는 `abc()` 함수를 구현하라.\n",
    "예를 들어 다음과 같이 작동해야 한다.\n",
    "\n",
    "```\n",
    ">>> abc('dog')\n",
    "'dgo'\n",
    "```\n",
    "\n",
    "힌트: 리스트 정렬"
   ]
  },
  {
   "cell_type": "code",
   "execution_count": null,
   "metadata": {
    "colab": {
     "base_uri": "https://localhost:8080/"
    },
    "executionInfo": {
     "elapsed": 12,
     "status": "ok",
     "timestamp": 1714608543940,
     "user": {
      "displayName": "liga nega",
      "userId": "04505461106310941438"
     },
     "user_tz": -540
    },
    "id": "oY_cICv31wP6",
    "outputId": "752f4da2-fc5d-4dfb-c176-02c64e2a8d0f"
   },
   "outputs": [],
   "source": [
    "# pass와 None을 각각 적절한 명령문과 표현식으로 대체하라.\n",
    "\n",
    "def abc(s):\n",
    "    pass\n",
    "\n",
    "    return None"
   ]
  },
  {
   "cell_type": "markdown",
   "metadata": {
    "id": "OEQOneYynXfZ"
   },
   "source": [
    "## 문제 5"
   ]
  },
  {
   "cell_type": "markdown",
   "metadata": {
    "id": "ZE5Qej56nXfZ"
   },
   "source": [
    "메뉴와 가격이 공백으로 구분된 두 개의 문자열로 주어졌다."
   ]
  },
  {
   "cell_type": "code",
   "execution_count": null,
   "metadata": {
    "id": "kDYUWeFDnXfa"
   },
   "outputs": [],
   "source": [
    "menu = \"ham bread chicken egg\"\n",
    "prices = \"1200 5000 17000 500\""
   ]
  },
  {
   "cell_type": "markdown",
   "metadata": {
    "id": "DuFZKY50nXfa"
   },
   "source": [
    "가장 저렴한 메뉴와 가장 비싼 메뉴를 추천하는 문자열을\n",
    "다음과 같이 출력하는 프로그램을 구현하라.\n",
    "\n",
    "```python\n",
    "가장 저렴한 메뉴: egg  \n",
    "가장 비  싼 메뉴: chicken  \n",
    "```\n",
    "\n",
    "힌트: 문자열 `split()` 메서드와 `zip()` 함수, 리스트 `sort()` 메서드 활용"
   ]
  },
  {
   "cell_type": "code",
   "execution_count": null,
   "metadata": {
    "colab": {
     "base_uri": "https://localhost:8080/"
    },
    "executionInfo": {
     "elapsed": 12,
     "status": "ok",
     "timestamp": 1714608543940,
     "user": {
      "displayName": "liga nega",
      "userId": "04505461106310941438"
     },
     "user_tz": -540
    },
    "id": "oY_cICv31wP6",
    "outputId": "752f4da2-fc5d-4dfb-c176-02c64e2a8d0f"
   },
   "outputs": [],
   "source": [
    "# pass와 None을 각각 적절한 명령문과 표현식으로 대체하라.\n",
    "\n",
    "pass"
   ]
  },
  {
   "cell_type": "markdown",
   "metadata": {
    "id": "gaOaOgqCVDRc"
   },
   "source": [
    "## 문제 6"
   ]
  },
  {
   "cell_type": "markdown",
   "metadata": {
    "id": "3-giu8MsVDRX"
   },
   "source": [
    "6명의 정보가 다음과 같다."
   ]
  },
  {
   "cell_type": "code",
   "execution_count": null,
   "metadata": {
    "executionInfo": {
     "elapsed": 356,
     "status": "ok",
     "timestamp": 1714610404565,
     "user": {
      "displayName": "liga nega",
      "userId": "04505461106310941438"
     },
     "user_tz": -540
    },
    "id": "OTRtTsv1VDRX"
   },
   "outputs": [],
   "source": [
    "kgh = ['김강현', '010-1234-5678', 20, 172.3, '제주']\n",
    "whang = ['황현', '02-9871-1234', 19, 163.5, '서울']\n",
    "namgung = ['남세원', '010-3456-7891', 21, 156.7, '경기']\n",
    "choihs = ['최흥선', '070-4321-1111', 21, 187.2, '부산']\n",
    "sjkim = ['김현선', '010-3333-8888', 22, 164.6, '광주']\n",
    "ja = ['함중아', '010-7654-2345', 18, 178.3, '강원']"
   ]
  },
  {
   "cell_type": "markdown",
   "metadata": {
    "id": "HZjMe9FOVDRY"
   },
   "source": [
    "6명의 정보를 하나의 리스트로 묶는다."
   ]
  },
  {
   "cell_type": "code",
   "execution_count": null,
   "metadata": {
    "colab": {
     "base_uri": "https://localhost:8080/"
    },
    "executionInfo": {
     "elapsed": 4,
     "status": "ok",
     "timestamp": 1714610406022,
     "user": {
      "displayName": "liga nega",
      "userId": "04505461106310941438"
     },
     "user_tz": -540
    },
    "id": "CuT5NcBVVDRY",
    "outputId": "87b22e33-cb8b-4c76-87e4-41ffc31c1a7d"
   },
   "outputs": [],
   "source": [
    "info_list = [kgh, whang, namgung, choihs, sjkim, ja]\n",
    "info_list"
   ]
  },
  {
   "cell_type": "markdown",
   "metadata": {
    "id": "JKgviE-TnwNt"
   },
   "source": [
    "**질문 1**"
   ]
  },
  {
   "cell_type": "markdown",
   "metadata": {
    "id": "6ytih2xZnwNt"
   },
   "source": [
    "`info_list`를 이름 순으로 정렬하라.\n",
    "\n",
    "힌트: `sort()` 메서드 활용"
   ]
  },
  {
   "cell_type": "code",
   "execution_count": null,
   "metadata": {
    "colab": {
     "base_uri": "https://localhost:8080/"
    },
    "executionInfo": {
     "elapsed": 12,
     "status": "ok",
     "timestamp": 1714608543940,
     "user": {
      "displayName": "liga nega",
      "userId": "04505461106310941438"
     },
     "user_tz": -540
    },
    "id": "oY_cICv31wP6",
    "outputId": "752f4da2-fc5d-4dfb-c176-02c64e2a8d0f"
   },
   "outputs": [],
   "source": [
    "# pass와 None을 각각 적절한 명령문과 표현식으로 대체하라.\n",
    "\n",
    "pass"
   ]
  },
  {
   "cell_type": "markdown",
   "metadata": {
    "id": "9Sm0X8qnnwNt"
   },
   "source": [
    "**질문 2**"
   ]
  },
  {
   "cell_type": "markdown",
   "metadata": {
    "id": "sBQTTqw8VDRZ"
   },
   "source": [
    "추가로 6명의 몸무게로 구성된 리스트를 가리키는 `weights` 변수를 선언한다."
   ]
  },
  {
   "cell_type": "code",
   "execution_count": null,
   "metadata": {
    "executionInfo": {
     "elapsed": 461,
     "status": "ok",
     "timestamp": 1714610679037,
     "user": {
      "displayName": "liga nega",
      "userId": "04505461106310941438"
     },
     "user_tz": -540
    },
    "id": "57X0DKq5VDRZ"
   },
   "outputs": [],
   "source": [
    "weights = [65.3, 51.5, 48.0, 81.4, 53.8, 90.1]"
   ]
  },
  {
   "cell_type": "markdown",
   "metadata": {
    "id": "WJQZR0nbnwNu"
   },
   "source": [
    "6명의 키와 몸무게 정보를 이용하여 계산된 6명의 비만도로 구성된 리스트를 생성하라.\n",
    "체질량지수(bmi)는 몸무게(kg)를 키(m)의 제곱으로 나눈 값이다.\n",
    "\n",
    "$$\n",
    "\\mathrm{bmi} = \\frac{\\mathrm{몸무게}}{\\mathrm{키}^2}\n",
    "$$"
   ]
  },
  {
   "cell_type": "code",
   "execution_count": null,
   "metadata": {
    "colab": {
     "base_uri": "https://localhost:8080/"
    },
    "executionInfo": {
     "elapsed": 12,
     "status": "ok",
     "timestamp": 1714608543940,
     "user": {
      "displayName": "liga nega",
      "userId": "04505461106310941438"
     },
     "user_tz": -540
    },
    "id": "oY_cICv31wP6",
    "outputId": "752f4da2-fc5d-4dfb-c176-02c64e2a8d0f"
   },
   "outputs": [],
   "source": [
    "# pass와 None을 각각 적절한 명령문과 표현식으로 대체하라.\n",
    "\n",
    "pass"
   ]
  },
  {
   "cell_type": "markdown",
   "metadata": {
    "id": "NdHZnrtQnwNx"
   },
   "source": [
    "**질문 3**"
   ]
  },
  {
   "cell_type": "markdown",
   "metadata": {
    "id": "NXP7wbVPnwNx"
   },
   "source": [
    "`info_list`에 6명 각각의 체질량 지수를 추가하라."
   ]
  },
  {
   "cell_type": "code",
   "execution_count": null,
   "metadata": {
    "colab": {
     "base_uri": "https://localhost:8080/"
    },
    "executionInfo": {
     "elapsed": 12,
     "status": "ok",
     "timestamp": 1714608543940,
     "user": {
      "displayName": "liga nega",
      "userId": "04505461106310941438"
     },
     "user_tz": -540
    },
    "id": "oY_cICv31wP6",
    "outputId": "752f4da2-fc5d-4dfb-c176-02c64e2a8d0f"
   },
   "outputs": [],
   "source": [
    "# pass와 None을 각각 적절한 명령문과 표현식으로 대체하라.\n",
    "\n",
    "pass"
   ]
  },
  {
   "cell_type": "markdown",
   "metadata": {
    "id": "bVbUCpbqVDRy"
   },
   "source": [
    "## 문제 7"
   ]
  },
  {
   "cell_type": "markdown",
   "metadata": {
    "id": "52EUstX_VDRy"
   },
   "source": [
    "직사각형 모양의 바닥에 정사각형 모양의 타일을 깔아야 한다.\n",
    "타일은 온장을 그대로 사용할 수도 있고, 잘라서 일부분만 사용할 수도 있다.\n",
    "단, 잘라서 사용한 타일의 나머지는 사용하지 않는다.\n",
    "\n",
    "공간의 가로, 세로 크기, 타일의 크기를 cm 단위로 인자로 사용되었을 때\n",
    "타일을 깔 때 필요한 온장 타일과 잘라서 사용한 타일의 개수로\n",
    "이뤄진 튜플을 반환하는 함수 `tiling_tuple()`을 구현하라.\n",
    "단 공간 크기의 가로, 세로, 타일의 크기는 정수라고 가정한다.\n",
    "\n",
    "`tiling()` 함수의 매개변수는 다음과 같이 한다.\n",
    "\n",
    "- `width`: 공간의 가로 크기. 단위는 cm.\n",
    "- `height`: 공간의 세로 크기. 단위는 cm.\n",
    "- `tile_length=30`: 타일의 한 변의 크기. 단위는 cm. 기본 키워드 인자는 30."
   ]
  },
  {
   "cell_type": "code",
   "execution_count": null,
   "metadata": {
    "colab": {
     "base_uri": "https://localhost:8080/"
    },
    "executionInfo": {
     "elapsed": 12,
     "status": "ok",
     "timestamp": 1714608543940,
     "user": {
      "displayName": "liga nega",
      "userId": "04505461106310941438"
     },
     "user_tz": -540
    },
    "id": "oY_cICv31wP6",
    "outputId": "752f4da2-fc5d-4dfb-c176-02c64e2a8d0f"
   },
   "outputs": [],
   "source": [
    "# pass와 None을 각각 적절한 명령문과 표현식으로 대체하라.\n",
    "\n",
    "def tiling_tuple(width, height, tile_length=30):\n",
    "    pass\n",
    "\n",
    "    return None"
   ]
  },
  {
   "cell_type": "markdown",
   "metadata": {},
   "source": [
    "아래 코드가 오류 없이 실행되어야 한다."
   ]
  },
  {
   "cell_type": "code",
   "execution_count": null,
   "metadata": {
    "id": "GPOAmBpIVDRy",
    "outputId": "e5ed8166-9c6f-43a9-ccca-8ca1d3b19b4a"
   },
   "outputs": [],
   "source": [
    "assert tiling_tuple(400, 400) == (169, 27)\n",
    "assert tiling_tuple(400, 400, 35) == (121, 23)"
   ]
  }
 ],
 "metadata": {
  "colab": {
   "provenance": [
    {
     "file_id": "https://github.com/codingalzi/pybook/blob/master/practices/practice-lists_tuples-sol.ipynb",
     "timestamp": 1714608246089
    },
    {
     "file_id": "https://github.com/codingalzi/pybook/blob/master/practices/practice-lists_tuples.ipynb",
     "timestamp": 1714435606157
    }
   ]
  },
  "kernelspec": {
   "display_name": "Python 3 (ipykernel)",
   "language": "python",
   "name": "python3"
  },
  "language_info": {
   "codemirror_mode": {
    "name": "ipython",
    "version": 3
   },
   "file_extension": ".py",
   "mimetype": "text/x-python",
   "name": "python",
   "nbconvert_exporter": "python",
   "pygments_lexer": "ipython3",
   "version": "3.11.4"
  }
 },
 "nbformat": 4,
 "nbformat_minor": 1
}
