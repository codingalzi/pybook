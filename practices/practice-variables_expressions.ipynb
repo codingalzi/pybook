{
 "cells": [
  {
   "cell_type": "markdown",
   "id": "2d03d247-e2d3-4afe-ab5e-83dc989ed62d",
   "metadata": {},
   "source": [
    "# (실습) 변수, 값, 표현식, 명령문"
   ]
  },
  {
   "cell_type": "markdown",
   "id": "91ca1150",
   "metadata": {},
   "source": [
    "**문제 1**\n",
    "\n",
    "두 정수 `a`와 `b`를 입력받아 \n",
    "`a + b`, `a - b`, `a * b`, `a / b`, `a // b`, `a % b`를 \n",
    "출력하는 코드를 작성하여라.\n",
    "\n",
    "입력:\n",
    "\n",
    "```python\n",
    "a = 3\n",
    "b = 2\n",
    "```\n",
    "\n",
    "출력:\n",
    "\n",
    "```python\n",
    "3 + 2 = 5  \n",
    "3 - 2 = 1\n",
    "3 * 2 = 6 \n",
    "3 / 2 = 1.5\n",
    "3 // 2 = 1\n",
    "3 % 2 = 1\n",
    "```"
   ]
  },
  {
   "cell_type": "markdown",
   "id": "e17e06f2",
   "metadata": {},
   "source": [
    "**문제 2**\n",
    "\n",
    "반지름 $r$ 을 입력 받으면 구의 부피 $\\frac{4}{3} \\pi r^3$ 를 출력한다.\n",
    "힌트: 단 원주율($\\pi$)은 3.141592 로 사용한다.\n",
    "\n",
    "입력:\n",
    "\n",
    "```python\n",
    "radius = 3\n",
    "```\n",
    "\n",
    "출력:\n",
    "\n",
    "```python\n",
    "반지름이 3 인 구의 부피는 113.097312 이다.\n",
    "```"
   ]
  },
  {
   "cell_type": "markdown",
   "id": "7eca6668",
   "metadata": {},
   "source": [
    "**문제 3**\n",
    "\n",
    "두 자연수 $x$와 $y$를 입력받아 두 수의 \n",
    "산술평균<font size = \"2\">arithmetic mean</font>, \n",
    "기하평균<font size = \"2\">geometric mean</font>, \n",
    "조화평균<font size = \"2\">harmonic mean</font>을 \n",
    "출력하는 코드를 작성하여라.\n",
    "단 소수점 둘째자리에서 반올림한다.\n",
    "\n",
    "힌트: 두 자연수 x와 y의 산술평균($M_a$), 기하평균($M_g$), 조화평균($M_h$)을 구하는 식은 아래와 같으며\n",
    "`math` 또는 `numpy` 모듈의 `sqrt()` 함수를 이용하여 제곱근을 계산할 수 있다.\n",
    "\n",
    "$$\n",
    "\\begin{align*}\n",
    "M_a &= \\frac{x + y}{2}\\\\\n",
    "M_g &= \\sqrt{x y} \\\\\n",
    "M_h &= \\frac{2}{\\frac{1}{x} + \\frac{1}{y}}\n",
    "\\end{align*}\n",
    "$$\n",
    "\n",
    "입력:\n",
    "\n",
    "```python\n",
    "x = 3\n",
    "y = 7\n",
    "```\n",
    "\n",
    "출력\n",
    "\n",
    "```python\n",
    "ma = 5.0\n",
    "mg = 4.6\n",
    "mh = 4.2\n",
    "```"
   ]
  },
  {
   "cell_type": "markdown",
   "id": "5cffb648",
   "metadata": {},
   "source": [
    "**문제 4**\n",
    "\n",
    "다음은 BTS의 버터(Butter) 가사 일부분이다. \n",
    "아래와 같이 문자열을 출력하는 코드를 작성하여라(따옴표 포함).  \n",
    "\n",
    "```\n",
    "Smooth like \"butter\"\n",
    "Like a criminal undercover\n",
    "Gon' pop like trouble\n",
    "Breakin' into your heart like that\n",
    "```"
   ]
  },
  {
   "cell_type": "markdown",
   "id": "ecdf0a18",
   "metadata": {},
   "source": [
    "**문제 5**\n",
    "\n",
    "가로, 세로 $30cm \\times 30cm$ 크기의 타일이 있다.\n",
    "타일은 온장을 그대로 사용할 수도 있고, 잘라서 일부분만 사용할 수도 있다.\n",
    "단, 잘라서 사용한 타일의 나머지는 사용하지 않는다.\n",
    "타일을 붙혀야 하는 공간의 가로, 세로 크기가 주어졌을 때 타일을 깔기 위해 사용되는 온장 타일과 \n",
    "잘라서 사용한 타일의 개수를 지정된 형식으로 출력하는 코드를 작성하여라.  \n",
    "\n",
    "입력: \n",
    "```python\n",
    "width = 400\n",
    "height = 300\n",
    "```\n",
    "\n",
    "출력: \n",
    "\n",
    "```python\n",
    "온장타일: 130\n",
    "자른타일:  10\n",
    "```"
   ]
  },
  {
   "cell_type": "markdown",
   "id": "29ca0336",
   "metadata": {},
   "source": [
    "**문제 6**\n",
    "\n",
    "대기실에 $N$개의 의자가 일렬로 놓여 있다.\n",
    "어느 두 사람도 이웃하여 앉지 않을 때, 앉을 수 있는 최대 인원수와\n",
    "최소 인원수를 출력하는 코드를 구하여라.\n",
    "입력은 100이하의 자연수이고, 최대와 최소는 공백으로 구분하여 출력한다.\n",
    "단, 자리를 채운 후에는 더 이상 어느 누구도 자리에 앉을 수 없어야 한다.\n",
    "\n",
    "예를 들어, 5개의 의자가 일렬로 놓여 있을 때,\n",
    "최소 2명(OXXOX)에서 최대 3명(OXOXO) 까지 앉을 수 있다.\n",
    "\n",
    "입력:\n",
    "\n",
    "```python\n",
    "N = 5\n",
    "```\n",
    "\n",
    "출력:\n",
    "\n",
    "```python\n",
    "최소: 2명\n",
    "최대: 3명\n",
    "```"
   ]
  }
 ],
 "metadata": {
  "kernelspec": {
   "display_name": "Python 3 (ipykernel)",
   "language": "python",
   "name": "python3"
  },
  "language_info": {
   "codemirror_mode": {
    "name": "ipython",
    "version": 3
   },
   "file_extension": ".py",
   "mimetype": "text/x-python",
   "name": "python",
   "nbconvert_exporter": "python",
   "pygments_lexer": "ipython3",
   "version": "3.9.7"
  },
  "toc-autonumbering": true,
  "toc-showcode": false,
  "toc-showmarkdowntxt": false
 },
 "nbformat": 4,
 "nbformat_minor": 5
}
