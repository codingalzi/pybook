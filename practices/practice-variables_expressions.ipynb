{
 "cells": [
  {
   "cell_type": "markdown",
   "id": "2d03d247-e2d3-4afe-ab5e-83dc989ed62d",
   "metadata": {},
   "source": [
    "# (실습) 변수, 값, 표현식, 명령문"
   ]
  },
  {
   "cell_type": "markdown",
   "id": "e17e06f2",
   "metadata": {},
   "source": [
    "## 문제 "
   ]
  },
  {
   "cell_type": "markdown",
   "id": "214c79f4",
   "metadata": {},
   "source": [
    "반지름 `r`을 입력 받으면 구의 부피 $\\frac{4}{3} \\pi r^3$를 출력한다.\n",
    "힌트: 단 원주율($\\pi$)은 3.141592로 사용한다.\n",
    "\n",
    "입력:\n",
    "\n",
    "```python\n",
    "radius = 3\n",
    "```\n",
    "\n",
    "출력:\n",
    "\n",
    "```python\n",
    "113.097312\n",
    "```"
   ]
  },
  {
   "cell_type": "markdown",
   "id": "c9aaf61e",
   "metadata": {},
   "source": [
    "## 문제 "
   ]
  },
  {
   "cell_type": "markdown",
   "id": "2e163e4f",
   "metadata": {},
   "source": [
    "어떤 책의 정가는 권당 19,000원이지만, \n",
    "각 권당 10% 의 할인을 받는다고 가정하자.\n",
    "첫 한 권의 운송료는 2,000원 이고, \n",
    "두 권째 부터는 권당 500원을 추가로 내야 한다.\n",
    "60권을 사서 배송을 받고자 하면 얼마를 지불해야 하는가?"
   ]
  },
  {
   "cell_type": "markdown",
   "id": "7e0b2aa6",
   "metadata": {},
   "source": [
    "## 문제 "
   ]
  },
  {
   "cell_type": "markdown",
   "id": "91f56136",
   "metadata": {},
   "source": [
    "오전 6:00 에 집을 떠나서, 가볍게 (km당 5분 10초 소요) 1km를 뛰고, \n",
    "이어서 좀 빠르게 (km당 3분 7초 소요) 5km를 뛴 후, \n",
    "다시 가볍게 1km를 마저 달린다면, \n",
    "집에 언제 도착하는가?"
   ]
  },
  {
   "cell_type": "markdown",
   "id": "e439bb2c",
   "metadata": {},
   "source": [
    "## 문제 "
   ]
  },
  {
   "cell_type": "markdown",
   "id": "51182bdc",
   "metadata": {},
   "source": [
    "만약 10km를 43분 30초 만에 달렸다면, \n",
    "마일<font size=\"2\">mile</font>당 소요 시간은 얼마인가? \n",
    "또한 시간당 마일로 계산한 평균 속도는 얼마인가? \n",
    "단, 1마일은 1.61km로 계산한다."
   ]
  },
  {
   "cell_type": "markdown",
   "id": "4dd1d2d9",
   "metadata": {},
   "source": [
    "## 문제"
   ]
  },
  {
   "cell_type": "markdown",
   "id": "03539b7d",
   "metadata": {},
   "source": [
    "두 정수 a와 b를 입력받아 \n",
    "`a + b`, `a - b`, `a * b`, `a / b`, `a // b`, `a % b`를 \n",
    "출력하는 코드를 작성하여라.\n",
    "\n",
    "입력:\n",
    "\n",
    "```python\n",
    "a = 3\n",
    "b = 2\n",
    "```\n",
    "\n",
    "출력:\n",
    "\n",
    "```python\n",
    "3 + 2 = 5  \n",
    "3 - 2 = 1\n",
    "3 * 2 = 6 \n",
    "3 / 2 = 1.5\n",
    "3 // 2 = 1\n",
    "3 % 2 = 1\n",
    "```"
   ]
  },
  {
   "cell_type": "markdown",
   "id": "7eca6668",
   "metadata": {},
   "source": [
    "## 문제"
   ]
  },
  {
   "cell_type": "markdown",
   "id": "c9b67259",
   "metadata": {},
   "source": [
    "두 자연수 $x$와 $y$를 입력받아 두 수의 \n",
    "산술평균<font size = \"2\">arithmetic mean</font>, \n",
    "기하평균<font size = \"2\">geometric mean</font>, \n",
    "조화평균<font size = \"2\">harmonic mean</font>을 \n",
    "출력하는 코드를 작성하여라.\n",
    "\n",
    "두 자연수 x와 y의 산술평균($M_a$), 기하평균($M_g$), 조화평균($M_h$)을 구하는 식은 아래와 같으며\n",
    "`math` 또는 `numpy` 모듈의 `sqrt()` 함수를 이용하여 제곱근을 계산할 수 있다.\n",
    "\n",
    "$$\n",
    "\\begin{align*}\n",
    "M_a &= \\frac{x + y}{2}\\\\\n",
    "M_g &= \\sqrt{x y} \\\\\n",
    "M_h &= \\frac{2}{\\frac{1}{x} + \\frac{1}{y}}\n",
    "\\end{align*}\n",
    "$$\n",
    "\n",
    "입력:\n",
    "\n",
    "```python\n",
    "x = 3\n",
    "y = 7\n",
    "```\n",
    "\n",
    "출력\n",
    "\n",
    "```python\n",
    "ma = 5.0\n",
    "mg = 4.58257569495584\n",
    "mh = 4.2\n",
    "```"
   ]
  },
  {
   "cell_type": "markdown",
   "id": "f041948f",
   "metadata": {},
   "source": [
    "## 문제"
   ]
  },
  {
   "cell_type": "markdown",
   "id": "2c18844b",
   "metadata": {},
   "source": [
    "오늘의 요일이 주어질 때, 100일 후의 요일을 출력하는 코드를 작성하여라.\n",
    "단, 월, 화, 수, 목, 금, 토, 일 각각은 1, 2, 3, 4, 5, 6, 0으로 대신한다.\n",
    "\n",
    "입력:\n",
    "\n",
    "```python\n",
    "2\n",
    "```\n",
    "\n",
    "출력:\n",
    "\n",
    "```python\n",
    "4\n",
    "```"
   ]
  },
  {
   "cell_type": "markdown",
   "id": "5cffb648",
   "metadata": {},
   "source": [
    "## 문제"
   ]
  },
  {
   "cell_type": "markdown",
   "id": "7a5f2adc",
   "metadata": {},
   "source": [
    "다음은 BTS의 버터(Butter) 가사 일부분이다. \n",
    "아래와 같이 문자열을 출력하는 코드를 작성하여라(따옴표 포함).  \n",
    "\n",
    "```\n",
    "Smooth like \"butter\"\n",
    "Like a criminal undercover\n",
    "Gon' pop like trouble\n",
    "Breakin' into your heart like that\n",
    "```"
   ]
  },
  {
   "cell_type": "markdown",
   "id": "974cbba5",
   "metadata": {},
   "source": [
    "## 문제"
   ]
  },
  {
   "cell_type": "markdown",
   "id": "174f80ec",
   "metadata": {},
   "source": [
    "`input()` 함수로 정수를 입력받아, \n",
    "아래의 형식으로 그 값을 출력하는 코드를 작성하여라.\n",
    "단, 정수는 최대 6자리의 수를 입력한다고 가정한다.\n",
    "\n",
    "입력: \n",
    "\n",
    "```python\n",
    "123\n",
    "```\n",
    "\n",
    "출력:\n",
    "\n",
    "```python\n",
    "입력하신 숫자는 000123입니다.\n",
    "```"
   ]
  },
  {
   "cell_type": "markdown",
   "id": "ecdf0a18",
   "metadata": {},
   "source": [
    "## 문제"
   ]
  },
  {
   "cell_type": "markdown",
   "id": "59a588f1",
   "metadata": {},
   "source": [
    "$30cm \\times 30cm$ 크기의 타일이 있다.\n",
    "타일은 온장을 그대로 사용할 수도 있고, 잘라서 일부분만 사용할 수도 있다.\n",
    "단, 잘라서 사용한 타일의 나머지는 사용하지 않는다.\n",
    "주어진 크기의 바닥에 타일을 깔기 위해 사용되는 온장 타일과 \n",
    "잘라서 사용한 타일의 개수를 공백으로 구분하여 출력하는 코드를 작성하여라.  \n",
    "\n",
    "입력: \n",
    "```python\n",
    "width = 400\n",
    "height = 300\n",
    "```\n",
    "\n",
    "출력: \n",
    "\n",
    "```python\n",
    "130 10\n",
    "```"
   ]
  },
  {
   "cell_type": "markdown",
   "id": "29ca0336",
   "metadata": {},
   "source": [
    "## 문제"
   ]
  },
  {
   "cell_type": "markdown",
   "id": "009813d7",
   "metadata": {},
   "source": [
    "어느 대기실에는 N개의 의자가 일렬로 놓여 있다.\n",
    "어느 두 사람도 이웃하여 앉지 않을 때, 앉을 수 있는 최대 인원수와\n",
    "최소 인원수를 출력하는 코드를 구하여라.\n",
    "예를 들어, 5개의 의자가 일렬로 놓여 있을 때,\n",
    "최대 3명(ex, ■□■□■)이 앉을 수 있고, 최소 2명(ex, ■□□■□)이 앉을 수 있다.\n",
    "입력은 100이하의 자연수이고, 최대와 최소는 공백으로 구분하여 출력한다.\n",
    "\n",
    "Input : N = 5\n",
    "\n",
    "Output : 3 2\n",
    "\n",
    "\n",
    "## 문제"
   ]
  },
  {
   "cell_type": "markdown",
   "id": "e9dca041",
   "metadata": {},
   "source": [
    "d m 길이의 철로 양끝에 서로 마주보고 있는 두 대의 기차 A, B가 있고,\n",
    "기차 A위에는 파리 한 마리가 있다.\n",
    "두 기차 A와 B가 서로를 향해 달릴 때, \n",
    "파리는 기차 A에서 기차 B까지 날아가다가 기차 B와 부딪히기 직전\n",
    "방향을 바꿔 기차 A에게 날아가고 다시 기차 A와 부딪히기 직전 \n",
    "기차 B를 향해 날아가기를 반복한다.\n",
    "그러다가 기차 A, B는 부딪힌다.\n",
    "이때, 기차 A의 속력은 a m/s, 기차 B의 속력은 b m/s, 파리의 속력은 c m/s 이다.\n",
    "d, a, b, c가 주어졌을 때, 파리가 부딪히기 직전까지 날아다닌 거리(m)를 \n",
    "구하는 코드를 작성하여라.\n",
    "단, d, a, b, c는 모두 10000이하의 자연수이고,\n",
    "a, b < c < d를 만족하도록 임의로 입력한다.  \n",
    "\n",
    "Input : d = 16, a = 3, b = 5, c = 8\n",
    "\n",
    "Output : 16"
   ]
  },
  {
   "cell_type": "markdown",
   "id": "19366172",
   "metadata": {},
   "source": [
    "## 문제"
   ]
  },
  {
   "cell_type": "markdown",
   "id": "c33f1bbd",
   "metadata": {},
   "source": [
    "다음과 같은 방법으로 (세 자리 수) × (세 자리 수) 를 계산할 수 있다.   \n",
    "\n",
    "<div align=\"left\">\n",
    "<img src=\"https://raw.githubusercontent.com/hj617kim/core_pybook/master/images/ch04/pro01.png\" style=\"width:250px;\">\n",
    "</div>  \n",
    "\n",
    "두 세 자리 수가 주어질 때, ①, ②, ③, ④에 들어갈 값을 각각 줄변경하여 \n",
    "출력하는 구하는 코드를 작성하여라.  \n",
    "\n",
    "Input : a = 265, b = 112\n",
    "\n",
    "Output :  \n",
    "\n",
    "```\n",
    "530   \n",
    "265  \n",
    "265 \n",
    "29680\n",
    "```"
   ]
  },
  {
   "cell_type": "markdown",
   "id": "20c22a03",
   "metadata": {},
   "source": [
    "## 문제"
   ]
  },
  {
   "cell_type": "markdown",
   "id": "3d91eed5",
   "metadata": {},
   "source": [
    "A편의점은 500원, 100원, 50원, 10원을 보유하고 있고,\n",
    "동전의 개수를 최소화하여 거스름 돈을 주려고 한다.\n",
    "거슬러 줘야 하는 금액이 n원일 때, 최소 동전의 개수를 출력하는 코드를 작성하여라.\n",
    "단, n은 10의 배수이며 5000보다 작은 정수고, 모든 화폐는 무한하게 있다고 가정한다. \n",
    "\n",
    "Input : n = 1730\n",
    "\n",
    "Output : 8"
   ]
  }
 ],
 "metadata": {
  "kernelspec": {
   "display_name": "Python 3 (ipykernel)",
   "language": "python",
   "name": "python3"
  },
  "language_info": {
   "codemirror_mode": {
    "name": "ipython",
    "version": 3
   },
   "file_extension": ".py",
   "mimetype": "text/x-python",
   "name": "python",
   "nbconvert_exporter": "python",
   "pygments_lexer": "ipython3",
   "version": "3.9.7"
  },
  "toc-autonumbering": true,
  "toc-showcode": false,
  "toc-showmarkdowntxt": false
 },
 "nbformat": 4,
 "nbformat_minor": 5
}
