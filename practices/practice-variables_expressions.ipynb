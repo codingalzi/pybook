{
 "cells": [
  {
   "cell_type": "markdown",
   "id": "2d03d247-e2d3-4afe-ab5e-83dc989ed62d",
   "metadata": {},
   "source": [
    "# (실습) 변수, 값, 표현식"
   ]
  },
  {
   "cell_type": "markdown",
   "id": "01c8fab8",
   "metadata": {},
   "source": [
    "**주의 사항**\n",
    "\n",
    "* 기존에 작성된 코드셀/텍스트셀은 수정하지 않는다.\n",
    "* 필요한 경우 코드셀 또는 텍스트셀을 추가할 수 있다.\n",
    "* 실습 파일을 구글 드라이브에서 링크로 누구가 공유할 수 있도록 설정하세요."
   ]
  },
  {
   "cell_type": "markdown",
   "id": "c80ac5dd",
   "metadata": {},
   "source": [
    "**문제 1**"
   ]
  },
  {
   "cell_type": "markdown",
   "id": "b1e2794f",
   "metadata": {},
   "source": [
    "다음 역삼각형 모양을 출력하는 코드를 작성하라.\n",
    "\n",
    "```python\n",
    "* * * * *  \n",
    "* * * *  \n",
    "* * *  \n",
    "* *  \n",
    "*\n",
    "```"
   ]
  },
  {
   "cell_type": "code",
   "execution_count": 1,
   "id": "ec21e39e",
   "metadata": {},
   "outputs": [],
   "source": [
    "# 코드를 작성하세요.\n",
    "# 필요하면 코드셀 또는 텍스트셀을 추가할 수 있습니다.\n",
    "\n",
    "# while 반복문 또는 for 반복문을 이용할 것! \n"
   ]
  },
  {
   "cell_type": "markdown",
   "id": "827df42a",
   "metadata": {},
   "source": [
    "**문제 2**"
   ]
  },
  {
   "cell_type": "markdown",
   "id": "8a3373c9",
   "metadata": {},
   "source": [
    "사용자로부터 입력받은 정수의 짝수, 홀수 여부를 판정하는 코드를 작성하라.\n",
    "\n",
    "힌트: `input()` 함수가 반환하는 값을 저장해서 활용한다.\n",
    "\n",
    "입력:\n",
    "\n",
    "```python\n",
    "5\n",
    "```\n",
    "\n",
    "출력:\n",
    "\n",
    "```python\n",
    "홀수\n",
    "```"
   ]
  },
  {
   "cell_type": "code",
   "execution_count": 2,
   "id": "e0fb6f09",
   "metadata": {},
   "outputs": [],
   "source": [
    "# 코드를 작성하세요.\n",
    "# 필요하면 코드셀 또는 텍스트셀을 추가할 수 있습니다.\n",
    "\n",
    "# num = int(input(\"정수를 입력하세요: \"))"
   ]
  },
  {
   "cell_type": "markdown",
   "id": "a8cd81ca",
   "metadata": {},
   "source": [
    "**문제 3**"
   ]
  },
  {
   "cell_type": "markdown",
   "id": "97d4318f",
   "metadata": {},
   "source": [
    "사용자로부터 하나의 정수를 입력 받은 값이 17보다 크면 두 숫자의 차이의 제곱을 출력하는 코드를 작성하라.\n",
    "\n",
    "힌트: `input()` 함수가 반환하는 값을 저장해서 활용한다.\n",
    "\n",
    "\n",
    "입력:\n",
    "\n",
    "```python\n",
    "25\n",
    "```\n",
    "\n",
    "출력:\n",
    "\n",
    "```python\n",
    "64\n",
    "```"
   ]
  },
  {
   "cell_type": "code",
   "execution_count": 3,
   "id": "1bee572c",
   "metadata": {},
   "outputs": [],
   "source": [
    "# 코드를 작성하세요.\n",
    "# 필요하면 코드셀 또는 텍스트셀을 추가할 수 있습니다.\n",
    "\n",
    "# num = int(input(\"정수를 입력하세요: \"))"
   ]
  },
  {
   "cell_type": "markdown",
   "id": "00ad8d4a",
   "metadata": {},
   "source": [
    "**문제 4**"
   ]
  },
  {
   "cell_type": "markdown",
   "id": "6681b467",
   "metadata": {},
   "source": [
    "사용자로부터 하나의 정수 $n$ 을 입력받아 $n + n n + n n n$ 을 계산하는 코드를 작성하라.\n",
    "곱셈 계산이 아님에 주의하라.\n",
    "\n",
    "힌트: `input()` 함수가 반환하는 값을 저장해서 활용한다.\n",
    "\n",
    "입력:\n",
    "\n",
    "```python\n",
    "n: 5\n",
    "```\n",
    "\n",
    "출력:\n",
    "\n",
    "```python\n",
    "615\n",
    "```"
   ]
  },
  {
   "cell_type": "code",
   "execution_count": 4,
   "id": "c4eb30de",
   "metadata": {},
   "outputs": [],
   "source": [
    "# 코드를 작성하세요.\n",
    "# 필요하면 코드셀 또는 텍스트셀을 추가할 수 있습니다.\n",
    "\n",
    "# n = input(\"정수를 입력하세요: \")"
   ]
  },
  {
   "cell_type": "markdown",
   "id": "4b89a2c9",
   "metadata": {},
   "source": [
    "**문제 5**"
   ]
  },
  {
   "cell_type": "markdown",
   "id": "a7b1e8ed",
   "metadata": {},
   "source": [
    "두 정수 `a`와 `b`를 입력받아 \n",
    "`a + b`, `a - b`, `a * b`, `a / b`, `a // b`, `a % b`를 \n",
    "출력하는 코드를 작성하여라.\n",
    "\n",
    "힌트: `input()` 함수가 반환하는 값을 저장해서 활용한다.\n",
    "\n",
    "입력:\n",
    "\n",
    "```python\n",
    "a = 3\n",
    "b = 2\n",
    "```\n",
    "\n",
    "출력:\n",
    "\n",
    "```python\n",
    "3 + 2 = 5  \n",
    "3 - 2 = 1\n",
    "3 * 2 = 6 \n",
    "3 / 2 = 1.5\n",
    "3 // 2 = 1\n",
    "3 % 2 = 1\n",
    "```"
   ]
  },
  {
   "cell_type": "code",
   "execution_count": 5,
   "id": "063b1ac4",
   "metadata": {},
   "outputs": [],
   "source": [
    "# 코드를 작성하세요.\n",
    "# 필요하면 코드셀 또는 텍스트셀을 추가할 수 있습니다.\n",
    "\n",
    "# a = input(\"정수를 입력하세요: \")\n",
    "# b = input(\"정수를 입력하세요: \")\n",
    "# 또는\n",
    "# a, b = input(\"정수 두 개를 스페이스로 구분해서 입력하세요: \").split()"
   ]
  },
  {
   "cell_type": "markdown",
   "id": "6f79b27d",
   "metadata": {},
   "source": [
    "**문제 6**"
   ]
  },
  {
   "cell_type": "markdown",
   "id": "40f6dcfd",
   "metadata": {},
   "source": [
    "반지름 $r$ 을 입력 받으면 구의 부피 $\\frac{4}{3} \\pi r^3$ 를 출력한다.\n",
    "힌트: 단 원주율($\\pi$)은 3.141592 로 사용한다.\n",
    "\n",
    "힌트: `input()` 함수가 반환하는 값을 저장해서 활용한다.\n",
    "\n",
    "입력:\n",
    "\n",
    "```python\n",
    "radius = 3\n",
    "```\n",
    "\n",
    "출력:\n",
    "\n",
    "```python\n",
    "반지름이 3 인 구의 부피는 113.097312 이다.\n",
    "```"
   ]
  },
  {
   "cell_type": "code",
   "execution_count": 6,
   "id": "89f22f2a",
   "metadata": {},
   "outputs": [],
   "source": [
    "# 코드를 작성하세요.\n",
    "# 필요하면 코드셀 또는 텍스트셀을 추가할 수 있습니다.\n",
    "\n",
    "# radius = input(\"정수를 입력하세요: \")"
   ]
  },
  {
   "cell_type": "markdown",
   "id": "948e92e4",
   "metadata": {},
   "source": [
    "**문제 7**"
   ]
  },
  {
   "cell_type": "markdown",
   "id": "c29c3bab",
   "metadata": {},
   "source": [
    "두 자연수 $x$와 $y$를 입력받아 두 수의 \n",
    "산술평균<font size = \"2\">arithmetic mean</font>, \n",
    "기하평균<font size = \"2\">geometric mean</font>, \n",
    "조화평균<font size = \"2\">harmonic mean</font>을 \n",
    "출력하는 코드를 작성하여라.\n",
    "단 소수점 둘째자리에서 반올림한다.\n",
    "\n",
    "힌트: 두 자연수 x와 y의 산술평균($M_a$), 기하평균($M_g$), 조화평균($M_h$)을 구하는 식은 아래와 같으며\n",
    "`math` 또는 `numpy` 모듈의 `sqrt()` 함수를 이용하여 제곱근을 계산할 수 있다.\n",
    "\n",
    "$$\n",
    "\\begin{align*}\n",
    "M_a &= \\frac{x + y}{2}\\\\\n",
    "M_g &= \\sqrt{x y} \\\\\n",
    "M_h &= \\frac{2}{\\frac{1}{x} + \\frac{1}{y}}\n",
    "\\end{align*}\n",
    "$$\n",
    "\n",
    "입력:\n",
    "\n",
    "```python\n",
    "x = 3\n",
    "y = 7\n",
    "```\n",
    "\n",
    "출력\n",
    "\n",
    "```python\n",
    "ma = 5.0\n",
    "mg = 4.6\n",
    "mh = 4.2\n",
    "```"
   ]
  },
  {
   "cell_type": "code",
   "execution_count": 7,
   "id": "d3f3d287",
   "metadata": {},
   "outputs": [],
   "source": [
    "# 코드를 작성하세요.\n",
    "# 필요하면 코드셀 또는 텍스트셀을 추가할 수 있습니다.\n",
    "\n",
    "# x = input(\"정수를 입력하세요: \")\n",
    "# y = input(\"정수를 입력하세요: \")\n",
    "# 또는\n",
    "# x, y = input(\"정수 두 개를 스페이스로 구분해서 입력하세요: \").split()"
   ]
  },
  {
   "cell_type": "markdown",
   "id": "2dedefbd",
   "metadata": {},
   "source": [
    "**문제 8**"
   ]
  },
  {
   "cell_type": "markdown",
   "id": "e7c2bb54",
   "metadata": {},
   "source": [
    "다음은 BTS의 버터(Butter) 가사 일부분이다. \n",
    "아래와 같이 문자열을 출력하는 코드를 작성하여라(따옴표 포함).  \n",
    "\n",
    "```\n",
    "Smooth like \"butter\"\n",
    "    Like a criminal undercover\n",
    "        Gon' pop like trouble\n",
    "            Breakin' into your heart like that\n",
    "```\n",
    "\n",
    "힌트: 탭키 문자를 사용한다."
   ]
  },
  {
   "cell_type": "code",
   "execution_count": 8,
   "id": "6bee7904",
   "metadata": {},
   "outputs": [],
   "source": [
    "# 코드를 작성하세요.\n",
    "# 필요하면 코드셀 또는 텍스트셀을 추가할 수 있습니다.\n"
   ]
  },
  {
   "cell_type": "markdown",
   "id": "9632fd8d",
   "metadata": {},
   "source": [
    "**문제 9**"
   ]
  },
  {
   "cell_type": "markdown",
   "id": "eac218aa",
   "metadata": {},
   "source": [
    "가로, 세로 $30cm \\times 30cm$ 크기의 타일이 있다.\n",
    "타일은 온장을 그대로 사용할 수도 있고, 잘라서 일부분만 사용할 수도 있다.\n",
    "단, 잘라서 사용한 타일의 나머지는 사용하지 않는다.\n",
    "타일을 붙혀야 하는 공간의 가로, 세로 크기가 주어졌을 때 타일을 깔기 위해 사용되는 온장 타일과 \n",
    "잘라서 사용한 타일의 개수를 지정된 형식으로 출력하는 코드를 작성하여라.  \n",
    "\n",
    "입력: \n",
    "```python\n",
    "width = 400\n",
    "height = 300\n",
    "```\n",
    "\n",
    "출력: \n",
    "\n",
    "```python\n",
    "온장타일: 130\n",
    "자른타일:  10\n",
    "```"
   ]
  },
  {
   "cell_type": "code",
   "execution_count": 9,
   "id": "6528cdd6",
   "metadata": {},
   "outputs": [],
   "source": [
    "# 코드를 작성하세요.\n",
    "# 필요하면 코드셀 또는 텍스트셀을 추가할 수 있습니다.\n",
    "\n",
    "# width = input(\"정수를 입력하세요: \")\n",
    "# height = input(\"정수를 입력하세요: \")\n",
    "# 또는\n",
    "# width, height = input(\"정수 두 개를 스페이스로 구분해서 입력하세요: \").split()"
   ]
  },
  {
   "cell_type": "markdown",
   "id": "9f726294",
   "metadata": {},
   "source": [
    "**문제 10**"
   ]
  },
  {
   "cell_type": "markdown",
   "id": "5abbc1b0",
   "metadata": {},
   "source": [
    "대기실에 $N$개의 의자가 일렬로 놓여 있다.\n",
    "어느 두 사람도 이웃하여 앉지 않을 때, 앉을 수 있는 최대 인원수와\n",
    "최소 인원수를 출력하는 코드를 구하여라.\n",
    "입력은 100이하의 자연수이고, 최대와 최소는 공백으로 구분하여 출력한다.\n",
    "단, 자리를 채운 후에는 더 이상 어느 누구도 자리에 앉을 수 없어야 한다.\n",
    "\n",
    "예를 들어, 5개의 의자가 일렬로 놓여 있을 때,\n",
    "최소 2명(OXXOX)에서 최대 3명(OXOXO) 까지 앉을 수 있다.\n",
    "\n",
    "입력:\n",
    "\n",
    "```python\n",
    "N = 5\n",
    "```\n",
    "\n",
    "출력:\n",
    "\n",
    "```python\n",
    "최소: 2명\n",
    "최대: 3명\n",
    "```"
   ]
  },
  {
   "cell_type": "code",
   "execution_count": 1,
   "id": "32987798",
   "metadata": {},
   "outputs": [],
   "source": [
    "# 코드를 작성하세요.\n",
    "# 필요하면 코드셀 또는 텍스트셀을 추가할 수 있습니다.\n",
    "\n",
    "# N = input(\"정수를 입력하세요: \")"
   ]
  },
  {
   "cell_type": "markdown",
   "id": "e5a75b5e",
   "metadata": {},
   "source": [
    "**문제 11**"
   ]
  },
  {
   "cell_type": "markdown",
   "id": "fff19ed9",
   "metadata": {},
   "source": [
    "키와 몸무게를 인자로 받아 체질량지수(BMI)를 구하는 코드를 작성하여라.\n",
    "\n",
    "$$\\texttt{BMI} = \\frac{\\texttt{몸무게}}{\\texttt{키}^2}$$\n",
    "\n",
    "단, 몸무게는 킬로그램(kg) 을, 키는 미터(m)를 단위로 사용한다.\n",
    "또한 BMI 수치에 따른 체중 분류는 다음과 같다.\n",
    "\n",
    "| BMI 수치 | 체중 분류 |\n",
    "| :---: | :--- |\n",
    "| BMI <= 18.5 | 저체중 |\n",
    "| 18.5 < BMI <= 23 | 정상 |\n",
    "| 23 < BMI <= 25 | 과체중 |\n",
    "| 25 < BMI <= 30 | 비만 |\n",
    "| BMI > 30 | 고도비만 |\n",
    "\n",
    "입력:\n",
    "\n",
    "```python\n",
    "weight = 72   # 몸무게\n",
    "height = 178  # 키\n",
    "```\n",
    "\n",
    "출력:\n",
    "\n",
    "```python\n",
    "BMI는 정상 수치입니다.\n",
    "```"
   ]
  },
  {
   "cell_type": "code",
   "execution_count": 2,
   "id": "372476e0",
   "metadata": {},
   "outputs": [],
   "source": [
    "# 코드를 작성하세요.\n",
    "# 필요하면 코드셀 또는 텍스트셀을 추가할 수 있습니다.\n",
    "\n",
    "# weight = input(\"몸무게를 입력하세요: \")\n",
    "# height = input(\"키를 입력하세요: \")"
   ]
  }
 ],
 "metadata": {
  "kernelspec": {
   "display_name": "Python 3 (ipykernel)",
   "language": "python",
   "name": "python3"
  },
  "language_info": {
   "codemirror_mode": {
    "name": "ipython",
    "version": 3
   },
   "file_extension": ".py",
   "mimetype": "text/x-python",
   "name": "python",
   "nbconvert_exporter": "python",
   "pygments_lexer": "ipython3",
   "version": "3.9.13"
  },
  "toc-autonumbering": true,
  "toc-showcode": false,
  "toc-showmarkdowntxt": false
 },
 "nbformat": 4,
 "nbformat_minor": 5
}
