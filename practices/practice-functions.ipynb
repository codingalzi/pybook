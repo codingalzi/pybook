{
 "cells": [
  {
   "cell_type": "markdown",
   "id": "40e9ab5f",
   "metadata": {},
   "source": [
    "**문제**"
   ]
  },
  {
   "cell_type": "markdown",
   "id": "c29b3a1e",
   "metadata": {},
   "source": [
    "아래 코드의 실행 결과를 설명하라."
   ]
  },
  {
   "cell_type": "code",
   "execution_count": 7,
   "id": "7cd48c2b",
   "metadata": {
    "id": "iNX852RehEpn",
    "outputId": "f48c7012-51f4-4801-f1e8-e65cefaee681"
   },
   "outputs": [
    {
     "name": "stdout",
     "output_type": "stream",
     "text": [
      "Hi\n",
      "D\n",
      "C\n",
      "A\n",
      "B\n",
      "A\n"
     ]
    }
   ],
   "source": [
    "print(\"Hi\")   \n",
    "\n",
    "def funcA() :  \n",
    "    print(\"A\")\n",
    "\n",
    "def funcB() :  \n",
    "    print(\"B\")\n",
    "    funcA()   \n",
    "\n",
    "def funcC() :\n",
    "    print(\"C\")\n",
    "    funcA()\n",
    "    funcB()\n",
    "\n",
    "print(\"D\")\n",
    "funcC()"
   ]
  },
  {
   "cell_type": "markdown",
   "id": "5da0105a",
   "metadata": {
    "id": "bNsV9zG4hEpl",
    "outputId": "58d4c7e9-f773-4d68-bb20-6e99c17fe86a"
   },
   "source": [
    "*실행 결과 설명*\n",
    "\n",
    "..."
   ]
  },
  {
   "cell_type": "markdown",
   "id": "3e5b4d16",
   "metadata": {},
   "source": [
    "**문제**"
   ]
  },
  {
   "cell_type": "markdown",
   "id": "0d3ba33c",
   "metadata": {},
   "source": [
    "아래 코드의 실행 결과를 설명하라."
   ]
  },
  {
   "cell_type": "code",
   "execution_count": 8,
   "id": "165f5d82",
   "metadata": {
    "id": "m7hR5DCuhEpo",
    "outputId": "6fb5492e-f4cd-4f9d-bbbc-40f146e2e6e8"
   },
   "outputs": [
    {
     "name": "stdout",
     "output_type": "stream",
     "text": [
      "0\n",
      "\n",
      "1\n",
      "*\n",
      "2\n",
      "**\n",
      "3\n"
     ]
    }
   ],
   "source": [
    "def counter_func() :\n",
    "    for i in range(100) :\n",
    "        print(i)\n",
    "        if i == 3 :\n",
    "            return \n",
    "        print(\"*\" * i)\n",
    "    print(\"=\" * i)\n",
    "\n",
    "counter_func()"
   ]
  },
  {
   "cell_type": "markdown",
   "id": "528e3928",
   "metadata": {
    "id": "bNsV9zG4hEpl",
    "outputId": "58d4c7e9-f773-4d68-bb20-6e99c17fe86a"
   },
   "source": [
    "*실행 결과 설명*\n",
    "\n",
    "..."
   ]
  },
  {
   "cell_type": "markdown",
   "id": "ddc8aef6",
   "metadata": {},
   "source": [
    "**문제**"
   ]
  },
  {
   "cell_type": "markdown",
   "id": "1bc5f5af",
   "metadata": {
    "id": "w56ZzNAci7yl"
   },
   "source": [
    "아래 코드를 실행할 때 발생하는 오류를 설명하라.\n",
    "\n",
    "```python\n",
    "func()\n",
    "\n",
    "def func() :\n",
    "  print(\"Hi\")\n",
    "```"
   ]
  },
  {
   "cell_type": "markdown",
   "id": "757a259d",
   "metadata": {
    "id": "bNsV9zG4hEpl",
    "outputId": "58d4c7e9-f773-4d68-bb20-6e99c17fe86a"
   },
   "source": [
    "*오류의 원인*\n",
    "\n",
    "..."
   ]
  },
  {
   "cell_type": "markdown",
   "id": "5621d9b0",
   "metadata": {},
   "source": [
    "**문제**"
   ]
  },
  {
   "cell_type": "markdown",
   "id": "3e5ffe2d",
   "metadata": {
    "id": "LI2MPm0oix4t"
   },
   "source": [
    "자연수 n 이 주어졌을 때, 1 부터 n 까지의 자연수 중에서 3의 배수이거나 \n",
    "숫자 3을 포함하는 숫자들의 합을 구하는 `sum_of_3s()` 함수를 구현하여라."
   ]
  },
  {
   "cell_type": "code",
   "execution_count": 11,
   "id": "a4f06d8a",
   "metadata": {
    "id": "Zy1oRDipLoZk"
   },
   "outputs": [],
   "source": [
    "# 아래 코드에서 pass 를 적절한 명령문으로, None 을 적절한 표현식으로 대체하라.\n",
    "\n",
    "def sum_of_3s(n):\n",
    "    pass\n",
    "\n",
    "    return None"
   ]
  },
  {
   "cell_type": "code",
   "execution_count": 5,
   "id": "bdea426e",
   "metadata": {
    "colab": {
     "base_uri": "https://localhost:8080/"
    },
    "executionInfo": {
     "elapsed": 591,
     "status": "ok",
     "timestamp": 1616980079158,
     "user": {
      "displayName": "HJ Kim",
      "photoUrl": "",
      "userId": "16634276932240017990"
     },
     "user_tz": -540
    },
    "id": "LoH5ptaxhPTh",
    "outputId": "203743fb-f4c4-486a-ab8c-c891cc24d1c9"
   },
   "outputs": [],
   "source": [
    "# 아래 코드의 주석 기호를 제거하고 실행했을 때 오류가 발생하지 않아야 함.\n",
    "\n",
    "# assert sum_of_3s(10) == 18\n",
    "# assert sum_of_3s(20) == 76"
   ]
  },
  {
   "cell_type": "markdown",
   "id": "e080de01",
   "metadata": {},
   "source": [
    "**문제**"
   ]
  },
  {
   "cell_type": "markdown",
   "id": "76cfcbf6",
   "metadata": {},
   "source": [
    "다음 조건을 만족시키는 `right_align()`라는 함수를 정의하라.\n",
    "\n",
    "* `s` 라는 매개 변수 하나만 사용한다.\n",
    "* 하나의 문자열과 함께 호출되면 해당 문자열의 끝이 20번째 칸에 위치하는 문자열을 반환한다.\n",
    "    화면에 출력하라."
   ]
  },
  {
   "cell_type": "code",
   "execution_count": 9,
   "id": "5b877d62",
   "metadata": {
    "id": "Zy1oRDipLoZk"
   },
   "outputs": [],
   "source": [
    "# 아래 코드에서 pass 와 None 을 각각 적절한 명령문과 적절한 표현식으로 대체하라.\n",
    "\n",
    "def right_align(s):\n",
    "    pass\n",
    "\n",
    "    return None"
   ]
  },
  {
   "cell_type": "code",
   "execution_count": 13,
   "id": "e01aa6cf",
   "metadata": {},
   "outputs": [],
   "source": [
    "# 아래 코드의 주석 기호를 제거하고 실행했을 때 오류가 발생하지 않아야 함.\n",
    "\n",
    "# assert right_align('python') = \"              python\"\n",
    "# assert right_align('hello python') = \"        hello python\""
   ]
  },
  {
   "cell_type": "markdown",
   "id": "cee708fc",
   "metadata": {},
   "source": [
    "**문제**"
   ]
  },
  {
   "cell_type": "markdown",
   "id": "9a948a99",
   "metadata": {},
   "source": [
    ":::{prf:example} 격자 그리기\n",
    ":label: exp:grid\n",
    "\n",
    "다음과 같은 격자를 그리는 함수를 작성해보자.\n",
    "\n",
    "```\n",
    "+ - - - - + - - - - +\n",
    "|         |         |\n",
    "|         |         |\n",
    "|         |         |\n",
    "|         |         |\n",
    "+ - - - - + - - - - +\n",
    "|         |         |\n",
    "|         |         |\n",
    "|         |         |\n",
    "|         |         |\n",
    "+ - - - - + - - - - +\n",
    "```\n",
    "\n",
    "1. 위 문제와 유사하게 4개의 행과 4개의 열을 갖는 격자를 그리는 함수를 작성하라.\n",
    ":::"
   ]
  }
 ],
 "metadata": {
  "kernelspec": {
   "display_name": "Python 3 (ipykernel)",
   "language": "python",
   "name": "python3"
  },
  "language_info": {
   "codemirror_mode": {
    "name": "ipython",
    "version": 3
   },
   "file_extension": ".py",
   "mimetype": "text/x-python",
   "name": "python",
   "nbconvert_exporter": "python",
   "pygments_lexer": "ipython3",
   "version": "3.9.7"
  }
 },
 "nbformat": 4,
 "nbformat_minor": 5
}
