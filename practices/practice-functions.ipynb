{
 "cells": [
  {
   "cell_type": "markdown",
   "id": "62636978",
   "metadata": {},
   "source": [
    "**문제**"
   ]
  },
  {
   "cell_type": "markdown",
   "id": "200e6c68",
   "metadata": {},
   "source": [
    "아래 코드의 실행 결과를 설명하라."
   ]
  },
  {
   "cell_type": "code",
   "execution_count": 1,
   "id": "66a62b5b",
   "metadata": {
    "id": "iNX852RehEpn",
    "outputId": "f48c7012-51f4-4801-f1e8-e65cefaee681"
   },
   "outputs": [
    {
     "name": "stdout",
     "output_type": "stream",
     "text": [
      "Hi\n",
      "D\n",
      "C\n",
      "A\n",
      "B\n",
      "A\n"
     ]
    }
   ],
   "source": [
    "print(\"Hi\")   \n",
    "\n",
    "def funcA() :  \n",
    "    print(\"A\")\n",
    "\n",
    "def funcB() :  \n",
    "    print(\"B\")\n",
    "    funcA()   \n",
    "\n",
    "def funcC() :\n",
    "    print(\"C\")\n",
    "    funcA()\n",
    "    funcB()\n",
    "\n",
    "print(\"D\")\n",
    "funcC()"
   ]
  },
  {
   "cell_type": "markdown",
   "id": "abc52ea4",
   "metadata": {
    "id": "bNsV9zG4hEpl",
    "outputId": "58d4c7e9-f773-4d68-bb20-6e99c17fe86a"
   },
   "source": [
    "*실행 결과 설명*\n",
    "\n",
    "..."
   ]
  },
  {
   "cell_type": "markdown",
   "id": "7c6f5fb1",
   "metadata": {},
   "source": [
    "**문제**"
   ]
  },
  {
   "cell_type": "markdown",
   "id": "26c92100",
   "metadata": {},
   "source": [
    "아래 코드의 실행 결과를 설명하라."
   ]
  },
  {
   "cell_type": "code",
   "execution_count": 2,
   "id": "75d467c9",
   "metadata": {
    "id": "m7hR5DCuhEpo",
    "outputId": "6fb5492e-f4cd-4f9d-bbbc-40f146e2e6e8"
   },
   "outputs": [
    {
     "name": "stdout",
     "output_type": "stream",
     "text": [
      "0\n",
      "\n",
      "1\n",
      "*\n",
      "2\n",
      "**\n",
      "3\n"
     ]
    }
   ],
   "source": [
    "def counter_func() :\n",
    "    for i in range(100) :\n",
    "        print(i)\n",
    "        if i == 3 :\n",
    "            return \n",
    "        print(\"*\" * i)\n",
    "    print(\"=\" * i)\n",
    "\n",
    "counter_func()"
   ]
  },
  {
   "cell_type": "markdown",
   "id": "d1a64e1f",
   "metadata": {
    "id": "bNsV9zG4hEpl",
    "outputId": "58d4c7e9-f773-4d68-bb20-6e99c17fe86a"
   },
   "source": [
    "*실행 결과 설명*\n",
    "\n",
    "..."
   ]
  },
  {
   "cell_type": "markdown",
   "id": "29e2532b",
   "metadata": {},
   "source": [
    "**문제**"
   ]
  },
  {
   "cell_type": "markdown",
   "id": "5162c7df",
   "metadata": {
    "id": "w56ZzNAci7yl"
   },
   "source": [
    "아래 코드를 실행할 때 발생하는 오류를 설명하라.\n",
    "\n",
    "```python\n",
    "func()\n",
    "\n",
    "def func() :\n",
    "  print(\"Hi\")\n",
    "```"
   ]
  },
  {
   "cell_type": "markdown",
   "id": "3a2f069a",
   "metadata": {
    "id": "bNsV9zG4hEpl",
    "outputId": "58d4c7e9-f773-4d68-bb20-6e99c17fe86a"
   },
   "source": [
    "*오류의 원인*\n",
    "\n",
    "..."
   ]
  },
  {
   "cell_type": "markdown",
   "id": "3ceab11f",
   "metadata": {},
   "source": [
    "**문제**"
   ]
  },
  {
   "cell_type": "markdown",
   "id": "bd4c08d0",
   "metadata": {
    "id": "LI2MPm0oix4t"
   },
   "source": [
    "자연수 n 이 주어졌을 때, 1 부터 n 까지의 자연수 중에서 3의 배수이거나 \n",
    "숫자 3을 포함하는 숫자들의 합을 구하는 `sum_of_3s()` 함수를 구현하여라."
   ]
  },
  {
   "cell_type": "code",
   "execution_count": 3,
   "id": "918730cf",
   "metadata": {
    "id": "Zy1oRDipLoZk"
   },
   "outputs": [],
   "source": [
    "# 아래 코드에서 pass 를 적절한 명령문으로, None 을 적절한 표현식으로 대체하라.\n",
    "\n",
    "def sum_of_3s(n):\n",
    "    pass\n",
    "\n",
    "    return None"
   ]
  },
  {
   "cell_type": "code",
   "execution_count": 4,
   "id": "43aee2b4",
   "metadata": {
    "colab": {
     "base_uri": "https://localhost:8080/"
    },
    "executionInfo": {
     "elapsed": 591,
     "status": "ok",
     "timestamp": 1616980079158,
     "user": {
      "displayName": "HJ Kim",
      "photoUrl": "",
      "userId": "16634276932240017990"
     },
     "user_tz": -540
    },
    "id": "LoH5ptaxhPTh",
    "outputId": "203743fb-f4c4-486a-ab8c-c891cc24d1c9"
   },
   "outputs": [],
   "source": [
    "# 아래 코드의 주석 기호를 제거하고 실행했을 때 오류가 발생하지 않아야 함.\n",
    "\n",
    "# assert sum_of_3s(10) == 18\n",
    "# assert sum_of_3s(20) == 76"
   ]
  },
  {
   "cell_type": "markdown",
   "id": "e2f2f3fa",
   "metadata": {},
   "source": [
    "**문제**"
   ]
  },
  {
   "cell_type": "markdown",
   "id": "123c89ba",
   "metadata": {},
   "source": [
    "다음 조건을 만족시키는 `right_align()`라는 함수를 정의하라.\n",
    "\n",
    "* `s` 라는 매개 변수 하나만 사용한다.\n",
    "* 하나의 문자열과 함께 호출되면 해당 문자열의 끝이 20번째 칸에 위치하는 문자열을 반환한다.\n",
    "    화면에 출력하라."
   ]
  },
  {
   "cell_type": "code",
   "execution_count": 5,
   "id": "6b6beb46",
   "metadata": {
    "id": "Zy1oRDipLoZk"
   },
   "outputs": [],
   "source": [
    "# 아래 코드에서 pass 와 None 을 각각 적절한 명령문과 적절한 표현식으로 대체하라.\n",
    "\n",
    "def right_align(s):\n",
    "    pass\n",
    "\n",
    "    return None"
   ]
  },
  {
   "cell_type": "code",
   "execution_count": 6,
   "id": "6de33de8",
   "metadata": {},
   "outputs": [],
   "source": [
    "# 아래 코드의 주석 기호를 제거하고 실행했을 때 오류가 발생하지 않아야 함.\n",
    "\n",
    "# assert right_align('python') = \"              python\"\n",
    "# assert right_align('hello python') = \"        hello python\""
   ]
  },
  {
   "cell_type": "markdown",
   "id": "f736ce09",
   "metadata": {},
   "source": [
    "**문제**"
   ]
  },
  {
   "cell_type": "markdown",
   "id": "eca9c298",
   "metadata": {},
   "source": [
    "[Example 7.3](https://codingalzi.github.io/pybook/functions.html#id8) 에서\n",
    "정의된 `grid2()` 함수를 수정하여 아래 조건을 \n",
    "만족하는 `grid()` 함수를 정의하라.\n",
    "\n",
    "- 매개변수 `n` 하나를 사용한다.\n",
    "- `n` 은 사용되는 그려지는 격자의 크기를 나타낸다. \n",
    "    즉, `grid(2)` 는 `grid2()` 와 동일한 격자를 그리며,\n",
    "    `grid(4)` 는 아래 모양의 격자를 그려야 한다.\n",
    "\n",
    "    ```\n",
    "    + - - - - + - - - - + - - - - + - - - - +\n",
    "    |         |         |         |         |\n",
    "    |         |         |         |         |\n",
    "    |         |         |         |         |\n",
    "    |         |         |         |         |\n",
    "    + - - - - + - - - - + - - - - + - - - - +\n",
    "    |         |         |         |         |\n",
    "    |         |         |         |         |\n",
    "    |         |         |         |         |\n",
    "    |         |         |         |         |\n",
    "    + - - - - + - - - - + - - - - + - - - - +\n",
    "    |         |         |         |         |\n",
    "    |         |         |         |         |\n",
    "    |         |         |         |         |\n",
    "    |         |         |         |         |\n",
    "    + - - - - + - - - - + - - - - + - - - - +\n",
    "    |         |         |         |         |\n",
    "    |         |         |         |         |\n",
    "    |         |         |         |         |\n",
    "    |         |         |         |         |\n",
    "    + - - - - + - - - - + - - - - + - - - - +\n",
    "    ```"
   ]
  },
  {
   "cell_type": "code",
   "execution_count": 7,
   "id": "a4904e37",
   "metadata": {},
   "outputs": [],
   "source": [
    "# pass 를 적절한 명령문으로 대체하라.\n",
    "\n",
    "pm = \"+ - - - - \"\n",
    "bs = \"|         \"\n",
    "plus = \"+\"\n",
    "bar = \"|\"\n",
    "\n",
    "def print_pm(s):\n",
    "    print(s)\n",
    "\n",
    "def print_bs(s):\n",
    "    print(s)\n",
    "\n",
    "def grid(n):\n",
    "    pass\n",
    "\n",
    "grid(4)"
   ]
  }
 ],
 "metadata": {
  "kernelspec": {
   "display_name": "Python 3 (ipykernel)",
   "language": "python",
   "name": "python3"
  },
  "language_info": {
   "codemirror_mode": {
    "name": "ipython",
    "version": 3
   },
   "file_extension": ".py",
   "mimetype": "text/x-python",
   "name": "python",
   "nbconvert_exporter": "python",
   "pygments_lexer": "ipython3",
   "version": "3.9.7"
  }
 },
 "nbformat": 4,
 "nbformat_minor": 5
}
