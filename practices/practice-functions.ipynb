{
 "cells": [
  {
   "cell_type": "markdown",
   "id": "1966b032",
   "metadata": {},
   "source": [
    "# (실습) 함수"
   ]
  },
  {
   "cell_type": "markdown",
   "id": "61dcc6ec",
   "metadata": {},
   "source": [
    "**문제 1**"
   ]
  },
  {
   "cell_type": "markdown",
   "id": "db3d2c91",
   "metadata": {},
   "source": [
    "아래 코드의 실행 결과를 설명하라."
   ]
  },
  {
   "cell_type": "code",
   "execution_count": 1,
   "id": "32f8f5cb",
   "metadata": {
    "id": "iNX852RehEpn",
    "outputId": "f48c7012-51f4-4801-f1e8-e65cefaee681"
   },
   "outputs": [
    {
     "name": "stdout",
     "output_type": "stream",
     "text": [
      "Hi\n",
      "D\n",
      "C\n",
      "A\n",
      "B\n",
      "A\n"
     ]
    }
   ],
   "source": [
    "print(\"Hi\")   \n",
    "\n",
    "def funcA() :  \n",
    "    print(\"A\")\n",
    "\n",
    "def funcB() :  \n",
    "    print(\"B\")\n",
    "    funcA()   \n",
    "\n",
    "def funcC() :\n",
    "    print(\"C\")\n",
    "    funcA()\n",
    "    funcB()\n",
    "\n",
    "print(\"D\")\n",
    "funcC()"
   ]
  },
  {
   "cell_type": "markdown",
   "id": "9ed6dc96",
   "metadata": {
    "id": "bNsV9zG4hEpl",
    "outputId": "58d4c7e9-f773-4d68-bb20-6e99c17fe86a"
   },
   "source": [
    "*실행 결과 설명*\n",
    "\n",
    "..."
   ]
  },
  {
   "cell_type": "markdown",
   "id": "02d70691",
   "metadata": {},
   "source": [
    "**문제 2**"
   ]
  },
  {
   "cell_type": "markdown",
   "id": "f6d15f1d",
   "metadata": {},
   "source": [
    "아래 코드의 실행 결과를 설명하라."
   ]
  },
  {
   "cell_type": "code",
   "execution_count": 2,
   "id": "30fbf6f0",
   "metadata": {
    "id": "m7hR5DCuhEpo",
    "outputId": "6fb5492e-f4cd-4f9d-bbbc-40f146e2e6e8"
   },
   "outputs": [
    {
     "name": "stdout",
     "output_type": "stream",
     "text": [
      "0\n",
      "\n",
      "1\n",
      "*\n",
      "2\n",
      "**\n",
      "3\n"
     ]
    }
   ],
   "source": [
    "def counter_func() :\n",
    "    for i in range(100) :\n",
    "        print(i)\n",
    "        if i == 3 :\n",
    "            return \n",
    "        print(\"*\" * i)\n",
    "    print(\"=\" * i)\n",
    "\n",
    "counter_func()"
   ]
  },
  {
   "cell_type": "markdown",
   "id": "6aec898a",
   "metadata": {
    "id": "bNsV9zG4hEpl",
    "outputId": "58d4c7e9-f773-4d68-bb20-6e99c17fe86a"
   },
   "source": [
    "*실행 결과 설명*\n",
    "\n",
    "..."
   ]
  },
  {
   "cell_type": "markdown",
   "id": "17ba7a20",
   "metadata": {},
   "source": [
    "**문제 3**"
   ]
  },
  {
   "cell_type": "markdown",
   "id": "3055ce36",
   "metadata": {
    "id": "w56ZzNAci7yl"
   },
   "source": [
    "아래 코드를 실행할 때 발생하는 오류를 설명하라.\n",
    "\n",
    "```python\n",
    "func()\n",
    "\n",
    "def func() :\n",
    "  print(\"Hi\")\n",
    "```"
   ]
  },
  {
   "cell_type": "markdown",
   "id": "72131319",
   "metadata": {
    "id": "bNsV9zG4hEpl",
    "outputId": "58d4c7e9-f773-4d68-bb20-6e99c17fe86a"
   },
   "source": [
    "*오류의 원인*\n",
    "\n",
    "..."
   ]
  },
  {
   "cell_type": "markdown",
   "id": "1fa276c8",
   "metadata": {},
   "source": [
    "**문제 4**"
   ]
  },
  {
   "cell_type": "markdown",
   "id": "d89d072d",
   "metadata": {
    "id": "LI2MPm0oix4t"
   },
   "source": [
    "자연수 n 이 주어졌을 때, 1 부터 n 까지의 자연수 중에서 3의 배수이거나 \n",
    "숫자 3을 포함하는 숫자들의 합을 구하는 `sum_of_3s()` 함수를 구현하여라."
   ]
  },
  {
   "cell_type": "code",
   "execution_count": 3,
   "id": "554dcd24",
   "metadata": {
    "id": "Zy1oRDipLoZk"
   },
   "outputs": [],
   "source": [
    "# 아래 코드에서 pass 를 적절한 명령문으로, None 을 적절한 표현식으로 대체하라.\n",
    "\n",
    "def sum_of_3s(n):\n",
    "    pass\n",
    "\n",
    "    return None"
   ]
  },
  {
   "cell_type": "code",
   "execution_count": 4,
   "id": "a3153f7a",
   "metadata": {
    "colab": {
     "base_uri": "https://localhost:8080/"
    },
    "executionInfo": {
     "elapsed": 591,
     "status": "ok",
     "timestamp": 1616980079158,
     "user": {
      "displayName": "HJ Kim",
      "photoUrl": "",
      "userId": "16634276932240017990"
     },
     "user_tz": -540
    },
    "id": "LoH5ptaxhPTh",
    "outputId": "203743fb-f4c4-486a-ab8c-c891cc24d1c9"
   },
   "outputs": [],
   "source": [
    "# 아래 코드의 주석 기호를 제거하고 실행했을 때 오류가 발생하지 않아야 함.\n",
    "\n",
    "# assert sum_of_3s(10) == 18\n",
    "# assert sum_of_3s(20) == 76"
   ]
  },
  {
   "cell_type": "markdown",
   "id": "c3451dae",
   "metadata": {},
   "source": [
    "**문제 5**"
   ]
  },
  {
   "cell_type": "markdown",
   "id": "702dee7d",
   "metadata": {},
   "source": [
    "다음 조건을 만족시키는 `right_align()`라는 함수를 정의하라.\n",
    "\n",
    "* `s` 라는 매개 변수 하나만 사용한다.\n",
    "* 하나의 문자열과 함께 호출되면 해당 문자열의 끝이 20번째 칸에 위치하는 문자열을 반환한다.\n",
    "    화면에 출력하라."
   ]
  },
  {
   "cell_type": "code",
   "execution_count": 5,
   "id": "17e8c571",
   "metadata": {
    "id": "Zy1oRDipLoZk"
   },
   "outputs": [],
   "source": [
    "# 아래 코드에서 pass 와 None 을 각각 적절한 명령문과 적절한 표현식으로 대체하라.\n",
    "\n",
    "def right_align(s):\n",
    "    pass\n",
    "\n",
    "    return None"
   ]
  },
  {
   "cell_type": "code",
   "execution_count": 6,
   "id": "51d5dc71",
   "metadata": {},
   "outputs": [],
   "source": [
    "# 아래 코드의 주석 기호를 제거하고 실행했을 때 오류가 발생하지 않아야 함.\n",
    "\n",
    "# assert right_align('python') == \"              python\"\n",
    "# assert right_align('hello python') == \"        hello python\""
   ]
  },
  {
   "cell_type": "markdown",
   "id": "99a9599c",
   "metadata": {},
   "source": [
    "**문제 6**"
   ]
  },
  {
   "cell_type": "markdown",
   "id": "0f28acc8",
   "metadata": {},
   "source": [
    "정수와 함께 호출되면 짝수일 때는 0, 홀수일 때는 1을 반환하는 함수 `even_odd()`를 구현하라."
   ]
  },
  {
   "cell_type": "code",
   "execution_count": 7,
   "id": "d6973d68",
   "metadata": {
    "id": "Zy1oRDipLoZk"
   },
   "outputs": [],
   "source": [
    "# 아래 코드에서 pass 와 None 을 각각 적절한 명령문과 적절한 표현식으로 대체하라.\n",
    "\n",
    "def even_odd(num):\n",
    "    pass\n",
    "\n",
    "    return None"
   ]
  },
  {
   "cell_type": "code",
   "execution_count": 8,
   "id": "af2ac31d",
   "metadata": {},
   "outputs": [],
   "source": [
    "# 아래 코드의 주석 기호를 제거하고 실행했을 때 오류가 발생하지 않아야 함.\n",
    "\n",
    "# assert even_odd(33) == 1\n",
    "# assert even_odd(16) == 0"
   ]
  },
  {
   "cell_type": "markdown",
   "id": "28d07593",
   "metadata": {},
   "source": [
    "**문제 7**"
   ]
  },
  {
   "cell_type": "markdown",
   "id": "a0e9f1de",
   "metadata": {},
   "source": [
    "반지름 $r$ 과 함께 호출되면 구의 부피 $\\frac{4}{3} \\pi r^3$ 의 근삿값을 반환하는 \n",
    "함수 `volume_circle()` 를 구현하라. \n",
    "\n",
    "힌트: 단 원주율($\\pi$)은 3.141592 로 사용하며 근삿값은 반올림한 정숫값으로 계산한다. "
   ]
  },
  {
   "cell_type": "code",
   "execution_count": 9,
   "id": "c40927b0",
   "metadata": {
    "id": "Zy1oRDipLoZk"
   },
   "outputs": [],
   "source": [
    "# 아래 코드에서 pass 와 None 을 각각 적절한 명령문과 적절한 표현식으로 대체하라.\n",
    "# 힌트: round() 함수\n",
    "\n",
    "def volume_circle(radius):\n",
    "    pass\n",
    "\n",
    "    return None"
   ]
  },
  {
   "cell_type": "code",
   "execution_count": 10,
   "id": "52c5581c",
   "metadata": {
    "id": "Zy1oRDipLoZk"
   },
   "outputs": [],
   "source": [
    "# 아래 코드의 주석 기호를 제거하고 실행했을 때 오류가 발생하지 않아야 함.\n",
    "\n",
    "# assert volume_circle(3) == 113\n",
    "# assert volume_circle(5) == 524"
   ]
  },
  {
   "cell_type": "markdown",
   "id": "2f6f49ed",
   "metadata": {},
   "source": [
    "**문제 8**"
   ]
  },
  {
   "cell_type": "markdown",
   "id": "77cfc88e",
   "metadata": {},
   "source": [
    "정수 나눗셈을 실행하여 몫과 나머지를 쌍(tuple)로 반환하는 함수 `divide_qr()` 함수를 구현하라.\n",
    "\n",
    "단, 함수의 본문은 `while` 반복문을 이용해야 하며, 몫 연산자 `//` 또는 나머지 연산자 `%` 는 \n",
    "절대 사용하지 않는다."
   ]
  },
  {
   "cell_type": "code",
   "execution_count": 11,
   "id": "e62f273e",
   "metadata": {
    "id": "Zy1oRDipLoZk"
   },
   "outputs": [],
   "source": [
    "# 아래 코드에서 pass 와 None 을 각각 적절한 명령문과 적절한 표현식으로 대체하라.\n",
    "# 힌트: round() 함수\n",
    "\n",
    "def divide_qr(numerator, denomenator):\n",
    "    pass\n",
    "\n",
    "    return None"
   ]
  },
  {
   "cell_type": "code",
   "execution_count": 12,
   "id": "3eee5878",
   "metadata": {
    "id": "Zy1oRDipLoZk"
   },
   "outputs": [],
   "source": [
    "# 아래 코드의 주석 기호를 제거하고 실행했을 때 오류가 발생하지 않아야 함.\n",
    "\n",
    "# assert divide_qr(17, 3) == (5, 2)\n",
    "# assert divide_qr(28, 7) == (4, 0)"
   ]
  },
  {
   "cell_type": "markdown",
   "id": "2ae77f15",
   "metadata": {},
   "source": [
    "**문제 9**"
   ]
  },
  {
   "attachments": {},
   "cell_type": "markdown",
   "id": "74c22b5e",
   "metadata": {},
   "source": [
    "아래 조건을 만족하는 `grid()` 함수를 정의하라.\n",
    "\n",
    "- 매개변수 `n` 하나를 사용한다.\n",
    "- `n` 은 사용되는 그려지는 격자 칸의 개수 나타낸다. \n",
    "    즉, `grid(2)` 는 `grid2()` 와 동일한 `2x2` 모양의 격자를 그리며,\n",
    "    `grid(4)` 는 아래처럼 `4x4` 모양의 격자를 그려야 한다.\n",
    "\n",
    "    ```\n",
    "    + - - + - - + - - + - - +\n",
    "    |     |     |     |     |\n",
    "    |     |     |     |     |\n",
    "    + - - + - - + - - + - - +\n",
    "    |     |     |     |     |\n",
    "    |     |     |     |     |\n",
    "    + - - + - - + - - + - - +\n",
    "    |     |     |     |     |\n",
    "    |     |     |     |     |\n",
    "    + - - + - - + - - + - - +\n",
    "    |     |     |     |     |\n",
    "    |     |     |     |     |\n",
    "    + - - + - - + - - + - - +\n",
    "    ```"
   ]
  },
  {
   "cell_type": "code",
   "execution_count": 13,
   "id": "f5fd328a",
   "metadata": {},
   "outputs": [],
   "source": [
    "# 힌트 1: range() 함수를 활용하라. range() 함수 설명 참고: https://devpouch.tistory.com/70\n",
    "# 힌트 2: grid2() 함수에서 변하는 격자 칸의 개수를 매개변수로 지정하도록 한다.\n",
    "\n",
    "pm = \"+ - - \"\n",
    "ps = \"|     \"\n",
    "plus = \"+\"\n",
    "bar = \"|\"\n",
    "\n",
    "def print_p(s):\n",
    "    print(s)\n",
    "\n",
    "# pass 를 적절한 명령문으로 대체하라.\n",
    "\n",
    "def grid(n):\n",
    "    pass\n",
    "\n",
    "grid(4)"
   ]
  },
  {
   "cell_type": "markdown",
   "id": "ca4205b0",
   "metadata": {},
   "source": [
    "**문제 10**"
   ]
  },
  {
   "cell_type": "markdown",
   "id": "46756f12",
   "metadata": {},
   "source": [
    "`grid()` 함수가 실행되었을 때 생성되는 격자의 개수를 반환하도록\n",
    "반환값을 지정하라. "
   ]
  },
  {
   "cell_type": "code",
   "execution_count": 14,
   "id": "dd3b6119",
   "metadata": {},
   "outputs": [],
   "source": [
    "# pass 와 None 을 적절한 명령문과 표현식으로 대체하라.\n",
    "\n",
    "def grid(n):\n",
    "    pass\n",
    "\n",
    "    return None"
   ]
  },
  {
   "cell_type": "code",
   "execution_count": 15,
   "id": "0b173990",
   "metadata": {},
   "outputs": [],
   "source": [
    "# 아래 코드의 주석 기호를 제거하고 실행했을 때 오류가 발생하지 않아야 함.\n",
    "\n",
    "# assert grid(2) == 4\n",
    "# assert grid(4) == 16"
   ]
  },
  {
   "cell_type": "markdown",
   "id": "3d30c180",
   "metadata": {},
   "source": [
    "**문제 11**"
   ]
  },
  {
   "cell_type": "markdown",
   "id": "a0ed24d2",
   "metadata": {},
   "source": [
    "`grid_gen()` 함수를 보다 일반화하여 `n` 과 `m` 두 개의 매개변수를 사용하도록 하라. \n",
    "`grid_gen(n, m)` 을 실행하면 `nxm` 모양의 격자가 그려져야 하며\n",
    "격자에 포함된 네모의 개수를 반환하라.\n",
    "\n",
    "- `n`: 격자 세로 크기\n",
    "- `m`: 격자 가로 크기\n",
    "-  반환값: `n*m`\n",
    "\n",
    "예를 들어, `grid_gen(2, 3)` 을 실행하면 아래 모양의 격자를 그려야 한다.\n",
    "\n",
    "```\n",
    "+ - - + - - + - - +\n",
    "|     |     |     |\n",
    "|     |     |     |\n",
    "+ - - + - - + - - +\n",
    "|     |     |     |\n",
    "|     |     |     |\n",
    "+ - - + - - + - - +\n",
    "```"
   ]
  },
  {
   "cell_type": "code",
   "execution_count": 16,
   "id": "ae63744f",
   "metadata": {},
   "outputs": [],
   "source": [
    "# pass 와 None 을 적절한 명령문과 표현식으로 대체하라.\n",
    "\n",
    "def grid_gen(n, m):\n",
    "    pass\n",
    "\n",
    "    return None"
   ]
  },
  {
   "cell_type": "code",
   "execution_count": 17,
   "id": "0f63fccb",
   "metadata": {},
   "outputs": [],
   "source": [
    "# 아래 코드의 주석 기호를 제거하고 실행했을 때 오류가 발생하지 않아야 함.\n",
    "\n",
    "# assert grid_gen(2, 3) == 6\n",
    "# assert grid_gen(3, 5) == 15"
   ]
  },
  {
   "cell_type": "code",
   "execution_count": null,
   "id": "551e7626",
   "metadata": {},
   "outputs": [],
   "source": []
  },
  {
   "cell_type": "code",
   "execution_count": null,
   "id": "fc4484e9",
   "metadata": {},
   "outputs": [],
   "source": []
  },
  {
   "cell_type": "markdown",
   "id": "24377c51",
   "metadata": {},
   "source": [
    "**문제 12**"
   ]
  },
  {
   "cell_type": "markdown",
   "id": "3dd15ee9",
   "metadata": {},
   "source": [
    "`print_p()` 함수를 아래 처럼 수정한 다음에 `grid_gen()` 함수의 정의에 활용하라."
   ]
  },
  {
   "cell_type": "code",
   "execution_count": 18,
   "id": "2776bcaa",
   "metadata": {},
   "outputs": [],
   "source": [
    "def print_p(s, num, end):\n",
    "    print(s * num + end)"
   ]
  },
  {
   "cell_type": "markdown",
   "id": "fd42a607",
   "metadata": {},
   "source": [
    "단, 실행 결과는 동일해야 한다."
   ]
  },
  {
   "cell_type": "code",
   "execution_count": 19,
   "id": "a7bbbd20",
   "metadata": {},
   "outputs": [],
   "source": [
    "# pass 와 None 을 적절한 명령문과 표현식으로 대체하라.\n",
    "\n",
    "def grid_gen(n, m):\n",
    "    pass\n",
    "\n",
    "    return None"
   ]
  },
  {
   "cell_type": "code",
   "execution_count": 20,
   "id": "872d8ceb",
   "metadata": {},
   "outputs": [],
   "source": [
    "# 아래 코드의 주석 기호를 제거하고 실행했을 때 오류가 발생하지 않아야 함.\n",
    "\n",
    "# assert grid_gen(2, 3) == 6\n",
    "# assert grid_gen(3, 5) == 15"
   ]
  },
  {
   "cell_type": "markdown",
   "id": "6dd3fbb2",
   "metadata": {},
   "source": [
    "**문제 13**"
   ]
  },
  {
   "cell_type": "markdown",
   "id": "fde7da73",
   "metadata": {},
   "source": [
    "아래 코드는 `orange` 라는 단어에 영어 알파벳 `a` 가 몇 번 나오는가를 \n",
    "센다.\n",
    "바로 `count` 변수가 알파벳 `a` 의 출현횟수를 기억한다."
   ]
  },
  {
   "cell_type": "code",
   "execution_count": 21,
   "id": "d2812492",
   "metadata": {},
   "outputs": [
    {
     "name": "stdout",
     "output_type": "stream",
     "text": [
      "1\n"
     ]
    }
   ],
   "source": [
    "word = 'orange'\n",
    "char = 'a'\n",
    "count = 0\n",
    "\n",
    "for letter in word:\n",
    "    if letter == char:\n",
    "        count += 1\n",
    "\n",
    "print(count)"
   ]
  },
  {
   "cell_type": "markdown",
   "id": "ddec7839",
   "metadata": {},
   "source": [
    "문자열과 문자를 인자로 받으면 해당 문자의 출연횟수를 세는 \n",
    "`counting()` 함수를 구현하라."
   ]
  },
  {
   "cell_type": "code",
   "execution_count": 22,
   "id": "c0994af8",
   "metadata": {},
   "outputs": [],
   "source": [
    "# pass 와 None 을 적절한 명령문과 표현식으로 대체하라.\n",
    "\n",
    "def counting(word, char):\n",
    "    pass\n",
    "\n",
    "    return None"
   ]
  },
  {
   "cell_type": "code",
   "execution_count": 23,
   "id": "463188ed",
   "metadata": {},
   "outputs": [],
   "source": [
    "# 아래 코드의 주석 기호를 제거하고 실행했을 때 오류가 발생하지 않아야 함.\n",
    "\n",
    "# assert counting(\"orange\", \"a\") == 1\n",
    "# assert counting(\"hey hey\", \"y\") == 2"
   ]
  },
  {
   "cell_type": "markdown",
   "id": "415da33c",
   "metadata": {},
   "source": [
    "**문제 14**"
   ]
  },
  {
   "cell_type": "markdown",
   "id": "8197c072",
   "metadata": {},
   "source": [
    "앞서 정의한 `counting()` 함수를 다음 조건이 만족되도록 수정하여\n",
    "`counting_pos()` 함수를 구현한다.\n",
    "\n",
    "* 정수를 입력받는 `position` 매개변수를 추가한다.\n",
    "* `position`을 통해 전달된 정수는 탐색을 시작할 위치를 나타낸다.\n",
    "    즉, 앞서 정의된 `counting()` 함수는 `position`이 0인 특수한 경우가 되도록 한다."
   ]
  },
  {
   "cell_type": "code",
   "execution_count": 24,
   "id": "e66eba11",
   "metadata": {},
   "outputs": [],
   "source": [
    "# pass 와 None 을 적절한 명령문과 표현식으로 대체하라.\n",
    "\n",
    "def counting_pos(word, char, position):\n",
    "    pass\n",
    "\n",
    "    return None"
   ]
  },
  {
   "cell_type": "code",
   "execution_count": 25,
   "id": "e25b2247",
   "metadata": {},
   "outputs": [],
   "source": [
    "# 아래 코드의 주석 기호를 제거하고 실행했을 때 오류가 발생하지 않아야 함.\n",
    "\n",
    "# assert counting_pos(\"orange\", \"a\", 3) == 0\n",
    "# assert counting_pos(\"hey hey\", \"y\", 2) == 2"
   ]
  },
  {
   "cell_type": "markdown",
   "id": "062c3eb9",
   "metadata": {},
   "source": [
    "**문제 15**"
   ]
  },
  {
   "cell_type": "markdown",
   "id": "51a9964c",
   "metadata": {},
   "source": [
    "리스트가 주어졌을 때 각 항목의 제곱들의 합을 계산하는 함수 `square_sum()` 함수를 구현하라.\n",
    "단, `map()` 함수를 이용해야 하며,\n",
    "`square_sum()` 함수의 정의에 사용되는 지역 함수 이외의 함수를 정의할 수 없다.\n",
    "\n",
    "힌트: `sum()` 과 `list()` 함수를 활용. 지역 함수 활용."
   ]
  },
  {
   "cell_type": "code",
   "execution_count": 26,
   "id": "55fc26c2",
   "metadata": {},
   "outputs": [],
   "source": [
    "# pass 와 None 을 적절한 명령문과 표현식으로 대체하라.\n",
    "# square_sum() 함수의 본문에는 지역 함수를 정의할 수 있다.\n",
    "\n",
    "def square_sum(aList):\n",
    "    pass\n",
    "\n",
    "    return None"
   ]
  },
  {
   "cell_type": "code",
   "execution_count": 27,
   "id": "f939c6c2",
   "metadata": {},
   "outputs": [],
   "source": [
    "# 아래 코드의 주석 기호를 제거하고 실행했을 때 오류가 발생하지 않아야 함.\n",
    "\n",
    "# assert square_sum([2, 3]) == 13\n",
    "# assert square_sum([3, 5, 7]) == 83"
   ]
  },
  {
   "cell_type": "markdown",
   "id": "8acb8ffb",
   "metadata": {},
   "source": [
    "**문제 16**"
   ]
  },
  {
   "cell_type": "markdown",
   "id": "ee1282c3",
   "metadata": {},
   "source": [
    "주어진 리스트에서 양수만 모아 새로운 리스트를 생성하여 반환하는 함수 `positive_list()`를 구현하라.\n",
    "단, `filter()` 함수를 활용하며,\n",
    "`positive_list()` 함수의 정의에 사용되는 지역 함수 이외의 함수를 정의할 수 없다.\n",
    "\n",
    "힌트: 지역 함수 활용"
   ]
  },
  {
   "cell_type": "code",
   "execution_count": 28,
   "id": "f6d909fd",
   "metadata": {},
   "outputs": [],
   "source": [
    "# pass 와 None 을 적절한 명령문과 표현식으로 대체하라.\n",
    "# positive_list() 함수의 본문에는 지역 함수를 정의할 수 있다.\n",
    "\n",
    "def positive_list(aList):\n",
    "    pass\n",
    "\n",
    "    return None"
   ]
  },
  {
   "cell_type": "code",
   "execution_count": 29,
   "id": "ac88b5c8",
   "metadata": {},
   "outputs": [],
   "source": [
    "# 아래 코드의 주석 기호를 제거하고 실행했을 때 오류가 발생하지 않아야 함.\n",
    "\n",
    "# assert positive_list([-1, 1, 2, -2, 3, -3]) == [1, 2, 3]\n",
    "# assert positive_list([-17, 5, 22, -100]) == [5, 22]"
   ]
  }
 ],
 "metadata": {
  "kernelspec": {
   "display_name": "Python 3 (ipykernel)",
   "language": "python",
   "name": "python3"
  },
  "language_info": {
   "codemirror_mode": {
    "name": "ipython",
    "version": 3
   },
   "file_extension": ".py",
   "mimetype": "text/x-python",
   "name": "python",
   "nbconvert_exporter": "python",
   "pygments_lexer": "ipython3",
   "version": "3.9.7"
  }
 },
 "nbformat": 4,
 "nbformat_minor": 5
}
