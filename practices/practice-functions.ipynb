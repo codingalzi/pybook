{
 "cells": [
  {
   "cell_type": "markdown",
   "id": "1966b032",
   "metadata": {},
   "source": [
    "# (연습) 함수"
   ]
  },
  {
   "cell_type": "markdown",
   "id": "9f0742c5",
   "metadata": {},
   "source": [
    "**참고 사항**\n",
    "\n",
    "먼저 \n",
    "[함수](https://codingalzi.github.io/pybook/functions.html)의 내용과\n",
    "[(필수 예제) 함수](https://colab.research.google.com/github/codingalzi/pybook/blob/master/examples/examples-functions.ipynb)의 예제들을 학습하세요."
   ]
  },
  {
   "cell_type": "markdown",
   "id": "58bc1e4a",
   "metadata": {},
   "source": [
    "**주의 사항**\n",
    "\n",
    "* 기존에 작성된 코드 셀과 텍스트 셀은 수정하지 않는다.\n",
    "* 필요한 경우 코드 셀 또는 텍스트 셀을 추가해서 사용한다.\n",
    "* 실습 파일을 제출할 때 구글 드라이브의 링크를 이용하여 누구나 공유할 수 있도록 설정한다."
   ]
  },
  {
   "cell_type": "markdown",
   "id": "b34e6d95",
   "metadata": {},
   "source": [
    "## 문제 1"
   ]
  },
  {
   "cell_type": "markdown",
   "id": "998281ac",
   "metadata": {},
   "source": [
    "아래 코드의 실행 결과를 설명하라."
   ]
  },
  {
   "cell_type": "code",
   "execution_count": null,
   "id": "ca690875",
   "metadata": {
    "id": "iNX852RehEpn",
    "outputId": "f48c7012-51f4-4801-f1e8-e65cefaee681"
   },
   "outputs": [],
   "source": [
    "print(\"Hi\")   \n",
    "\n",
    "def funcA() :  \n",
    "    print(\"A\")\n",
    "\n",
    "def funcB() :  \n",
    "    print(\"B\")\n",
    "    funcA()   \n",
    "\n",
    "def funcC() :\n",
    "    print(\"C\")\n",
    "    funcA()\n",
    "    funcB()\n",
    "\n",
    "print(\"D\")\n",
    "funcC()"
   ]
  },
  {
   "cell_type": "markdown",
   "id": "2feeb855",
   "metadata": {
    "id": "bNsV9zG4hEpl",
    "outputId": "58d4c7e9-f773-4d68-bb20-6e99c17fe86a"
   },
   "source": [
    "*실행 결과 설명*\n",
    "\n",
    "..."
   ]
  },
  {
   "cell_type": "markdown",
   "id": "15b278ee",
   "metadata": {},
   "source": [
    "## 문제 2"
   ]
  },
  {
   "cell_type": "markdown",
   "id": "a13075d4",
   "metadata": {},
   "source": [
    "아래 코드를 실행할 때 발생하는 오류를 설명하라."
   ]
  },
  {
   "cell_type": "code",
   "execution_count": null,
   "id": "e60bfb17",
   "metadata": {},
   "outputs": [],
   "source": [
    "def square_return(number):\n",
    "    square = number ** 2\n",
    "    return square\n",
    "\n",
    "number = 17\n",
    "square17 = square_return(number)\n",
    "\n",
    "print(number, \"의 제곱을 계산한\", square17, \"과\", square, \"는 동일한 값을 가리킨다.\")"
   ]
  },
  {
   "cell_type": "markdown",
   "id": "e8161f7e",
   "metadata": {
    "id": "bNsV9zG4hEpl",
    "outputId": "58d4c7e9-f773-4d68-bb20-6e99c17fe86a"
   },
   "source": [
    "*실행 결과 설명*\n",
    "\n",
    "..."
   ]
  },
  {
   "cell_type": "markdown",
   "id": "f5840087",
   "metadata": {},
   "source": [
    "## 문제 3"
   ]
  },
  {
   "cell_type": "markdown",
   "id": "6b3e81b6",
   "metadata": {},
   "source": [
    "아래 코드의 실행 결과를 설명하라.\n",
    "반복문 실행횟수는 얼마인가?"
   ]
  },
  {
   "cell_type": "code",
   "execution_count": null,
   "id": "87c8746c",
   "metadata": {
    "id": "m7hR5DCuhEpo",
    "outputId": "6fb5492e-f4cd-4f9d-bbbc-40f146e2e6e8"
   },
   "outputs": [],
   "source": [
    "def counter_func(num, limit) :\n",
    "    i = 1\n",
    "    while True :\n",
    "        print(i)\n",
    "        if i == limit :\n",
    "            return i\n",
    "        else:\n",
    "            print(\"=\" * i)\n",
    "            print(\"*\" * i)\n",
    "            i += 1\n",
    "        return num\n",
    "\n",
    "counter_func(100, 5)"
   ]
  },
  {
   "cell_type": "markdown",
   "id": "dd716f3f",
   "metadata": {
    "id": "bNsV9zG4hEpl",
    "outputId": "58d4c7e9-f773-4d68-bb20-6e99c17fe86a"
   },
   "source": [
    "*실행 결과 설명*\n",
    "\n",
    "..."
   ]
  },
  {
   "cell_type": "markdown",
   "id": "33b9f9c3",
   "metadata": {},
   "source": [
    "## 문제 4"
   ]
  },
  {
   "cell_type": "markdown",
   "id": "b61506d5",
   "metadata": {
    "id": "MTVs3VVPyzcU"
   },
   "source": [
    "문자열과 자연수를 인자로 받아, 문자열을 자연수만큼 반복 출력하는 함수\n",
    "`str_n()`를 구현하려 한다.\n",
    "매개 변수는 2개를 사용한다.\n",
    "\n",
    "- `text`: 첫째 인자. 문자열을 인자로 사용.\n",
    "- `num`: 둘째 인자. 양의 정수를 인자로 사용. 기본 키워드 인자로 1 지정.\n",
    "\n",
    "\n",
    "예를 들어 `str_n(\"Hello \", 3)`를 실행하면 다음처럼 출력돼야 한다.\n",
    "\n",
    "```\n",
    "Hello Hello Hello \n",
    "```\n",
    "\n",
    "반면에 `str_n(\"Hello \")`를 실행하면 다음처럼 출력돼야 한다.\n",
    "\n",
    "```\n",
    "Hello \n",
    "```\n",
    "\n",
    "힌트: `print()` 함수 활용"
   ]
  },
  {
   "cell_type": "code",
   "execution_count": null,
   "id": "2da97133",
   "metadata": {},
   "outputs": [],
   "source": [
    "# 코드를 작성한다.\n",
    "# 필요하면 코드셀 또는 텍스트셀을 추가할 수 있습니다.\n",
    "\n"
   ]
  },
  {
   "cell_type": "markdown",
   "id": "61fa1966",
   "metadata": {
    "id": "MTVs3VVPyzcU"
   },
   "source": [
    "## 문제 5"
   ]
  },
  {
   "cell_type": "markdown",
   "id": "d89d072d",
   "metadata": {
    "id": "LI2MPm0oix4t"
   },
   "source": [
    "정수 `num`을 인자로 해서 호출되었을 때, 1의 자릿수가 3의 배수이면 입력값의 세 배를, \n",
    "아니면 두 배를 반환하는 함수 `three_or_not()` 함수를 구현하라.\n",
    "매개 변수는 `num` 하나만 사용한다.\n",
    "\n",
    "힌트: `if ... else ...` 조건문과 나머지 연산자 `%` 활용"
   ]
  },
  {
   "cell_type": "code",
   "execution_count": null,
   "id": "54723c7a",
   "metadata": {},
   "outputs": [],
   "source": [
    "# 코드를 작성한다.\n",
    "# 필요하면 코드셀 또는 텍스트셀을 추가할 수 있습니다.\n",
    "\n"
   ]
  },
  {
   "cell_type": "markdown",
   "id": "26e1bd70",
   "metadata": {
    "id": "MTVs3VVPyzcU"
   },
   "source": [
    "## 문제 6"
   ]
  },
  {
   "cell_type": "markdown",
   "id": "4efd798f",
   "metadata": {
    "id": "0f28acc8"
   },
   "source": [
    "정수 인자와 함께 호출되어 인자가 짝수일 때는 1, 홀수일 때는 0을 반환하는 함수 `even_odd()`를 구현하라.\n",
    "매개 변수는 `num` 하나만 사용한다.\n",
    "\n",
    "힌트: `if ... else ...` 조건문과 나머지 연산자 `%` 활용"
   ]
  },
  {
   "cell_type": "code",
   "execution_count": null,
   "id": "d95e5040",
   "metadata": {},
   "outputs": [],
   "source": [
    "# 코드를 작성한다.\n",
    "# 필요하면 코드셀 또는 텍스트셀을 추가할 수 있습니다.\n",
    "\n"
   ]
  },
  {
   "cell_type": "markdown",
   "id": "9eaaf740",
   "metadata": {},
   "source": [
    "## 문제 7"
   ]
  },
  {
   "cell_type": "markdown",
   "id": "40652a67",
   "metadata": {},
   "source": [
    "[(필수 예제) 함수](https://colab.research.google.com/github/codingalzi/pybook/blob/master/examples/examples-functions.ipynb#scrollTo=8ca4c478)에서 살펴 본 아래 함수는 \n",
    "양의 정수 `n`과 함께 호출되면 `n x n` 모양의 격자무늬를 출력한다."
   ]
  },
  {
   "cell_type": "code",
   "execution_count": null,
   "id": "3e1c28f1",
   "metadata": {},
   "outputs": [],
   "source": [
    "pm = \"+ - - \"\n",
    "ps = \"|     \"\n",
    "plus_sign = \"+\"\n",
    "pipe_sign = \"|\"\n",
    "\n",
    "def print_pm(n):\n",
    "    print(pm * n + plus_sign)\n",
    "\n",
    "def print_ps(n):\n",
    "    ps_line = ps * n + pipe_sign\n",
    "    print(ps_line, ps_line, sep=\"\\n\")\n",
    "\n",
    "def grid(n):\n",
    "    count = 0\n",
    "    while count < n:\n",
    "        print_pm(n)\n",
    "        print_ps(n)\n",
    "        count += 1\n",
    "        \n",
    "    print_pm(n)"
   ]
  },
  {
   "cell_type": "code",
   "execution_count": null,
   "id": "2f27b75e",
   "metadata": {},
   "outputs": [],
   "source": [
    "grid(3)"
   ]
  },
  {
   "cell_type": "markdown",
   "id": "5bf19145",
   "metadata": {},
   "source": [
    "위 `grid()` 함수를 일반화하여 직사각형 모양의 격자무늬를 출력하는\n",
    "`grid_gen()` 함수를 구현하라.\n",
    "사용되는 두 개의 매개 변수와 반환값은 다음과 같아야 한다.\n",
    "\n",
    "- `n`: 세로 격자 칸 개수\n",
    "- `m`: 가로 격자 칸 개수\n",
    "-  반환값: `n*m`\n",
    "\n",
    "또한, 예를 들어, `grid_gen(2, 3)` 을 실행하면 아래 모양의 격자를 그려야 한다.\n",
    "\n",
    "```\n",
    "+ - - + - - + - - +\n",
    "|     |     |     |\n",
    "|     |     |     |\n",
    "+ - - + - - + - - +\n",
    "|     |     |     |\n",
    "|     |     |     |\n",
    "+ - - + - - + - - +\n",
    "```\n",
    "\n",
    "힌트: `grid()` 함수에 매개 변수 `m`을 추가할 때 어느 부분을 수정해야 하는지 알아낸다."
   ]
  },
  {
   "cell_type": "code",
   "execution_count": null,
   "id": "3d5656b5",
   "metadata": {},
   "outputs": [],
   "source": [
    "# 코드를 작성한다.\n",
    "# 필요하면 코드셀 또는 텍스트셀을 추가할 수 있습니다.\n",
    "\n"
   ]
  }
 ],
 "metadata": {
  "kernelspec": {
   "display_name": "Python 3 (ipykernel)",
   "language": "python",
   "name": "python3"
  },
  "language_info": {
   "codemirror_mode": {
    "name": "ipython",
    "version": 3
   },
   "file_extension": ".py",
   "mimetype": "text/x-python",
   "name": "python",
   "nbconvert_exporter": "python",
   "pygments_lexer": "ipython3",
   "version": "3.11.5"
  }
 },
 "nbformat": 4,
 "nbformat_minor": 5
}
