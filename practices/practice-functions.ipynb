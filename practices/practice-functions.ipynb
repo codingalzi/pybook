{
 "cells": [
  {
   "cell_type": "markdown",
   "id": "1966b032",
   "metadata": {},
   "source": [
    "# (실습) 함수"
   ]
  },
  {
   "cell_type": "markdown",
   "id": "58bc1e4a",
   "metadata": {},
   "source": [
    "**주의 사항**\n",
    "\n",
    "* 기존에 작성된 코드 셀과 텍스트 셀은 수정하지 않는다.\n",
    "* 필요한 경우 코드 셀 또는 텍스트 셀을 추가해서 사용한다.\n",
    "* 실습 파일을 제출할 때 구글 드라이브의 링크를 이용하여 누구나 공유할 수 있도록 설정한다."
   ]
  },
  {
   "cell_type": "markdown",
   "id": "b34e6d95",
   "metadata": {},
   "source": [
    "## 문제"
   ]
  },
  {
   "cell_type": "markdown",
   "id": "998281ac",
   "metadata": {},
   "source": [
    "아래 코드의 실행 결과를 설명하라."
   ]
  },
  {
   "cell_type": "code",
   "execution_count": 1,
   "id": "ca690875",
   "metadata": {
    "id": "iNX852RehEpn",
    "outputId": "f48c7012-51f4-4801-f1e8-e65cefaee681"
   },
   "outputs": [
    {
     "name": "stdout",
     "output_type": "stream",
     "text": [
      "Hi\n",
      "D\n",
      "C\n",
      "A\n",
      "B\n",
      "A\n"
     ]
    }
   ],
   "source": [
    "print(\"Hi\")   \n",
    "\n",
    "def funcA() :  \n",
    "    print(\"A\")\n",
    "\n",
    "def funcB() :  \n",
    "    print(\"B\")\n",
    "    funcA()   \n",
    "\n",
    "def funcC() :\n",
    "    print(\"C\")\n",
    "    funcA()\n",
    "    funcB()\n",
    "\n",
    "print(\"D\")\n",
    "funcC()"
   ]
  },
  {
   "cell_type": "markdown",
   "id": "2feeb855",
   "metadata": {
    "id": "bNsV9zG4hEpl",
    "outputId": "58d4c7e9-f773-4d68-bb20-6e99c17fe86a"
   },
   "source": [
    "*실행 결과 설명*\n",
    "\n",
    "..."
   ]
  },
  {
   "cell_type": "markdown",
   "id": "15b278ee",
   "metadata": {},
   "source": [
    "## 문제"
   ]
  },
  {
   "cell_type": "markdown",
   "id": "a13075d4",
   "metadata": {},
   "source": [
    "아래 코드를 실행할 때 발생하는 오류를 설명하라."
   ]
  },
  {
   "cell_type": "code",
   "execution_count": 2,
   "id": "e60bfb17",
   "metadata": {},
   "outputs": [
    {
     "ename": "NameError",
     "evalue": "name 'square' is not defined",
     "output_type": "error",
     "traceback": [
      "\u001b[0;31m---------------------------------------------------------------------------\u001b[0m",
      "\u001b[0;31mNameError\u001b[0m                                 Traceback (most recent call last)",
      "Cell \u001b[0;32mIn[2], line 8\u001b[0m\n\u001b[1;32m      5\u001b[0m number \u001b[38;5;241m=\u001b[39m \u001b[38;5;241m17\u001b[39m\n\u001b[1;32m      6\u001b[0m square17 \u001b[38;5;241m=\u001b[39m square_return(number)\n\u001b[0;32m----> 8\u001b[0m \u001b[38;5;28mprint\u001b[39m(number, \u001b[38;5;124m\"\u001b[39m\u001b[38;5;124m의 제곱을 계산한\u001b[39m\u001b[38;5;124m\"\u001b[39m, square17, \u001b[38;5;124m\"\u001b[39m\u001b[38;5;124m과\u001b[39m\u001b[38;5;124m\"\u001b[39m, square, \u001b[38;5;124m\"\u001b[39m\u001b[38;5;124m는 동일한 값을 가리킨다.\u001b[39m\u001b[38;5;124m\"\u001b[39m)\n",
      "\u001b[0;31mNameError\u001b[0m: name 'square' is not defined"
     ]
    }
   ],
   "source": [
    "def square_return(number):\n",
    "    square = number ** 2\n",
    "    return square\n",
    "\n",
    "number = 17\n",
    "square17 = square_return(number)\n",
    "\n",
    "print(number, \"의 제곱을 계산한\", square17, \"과\", square, \"는 동일한 값을 가리킨다.\")"
   ]
  },
  {
   "cell_type": "markdown",
   "id": "f5840087",
   "metadata": {},
   "source": [
    "## 문제"
   ]
  },
  {
   "cell_type": "markdown",
   "id": "6b3e81b6",
   "metadata": {},
   "source": [
    "아래 코드의 실행 결과를 설명하라.\n",
    "반복문 실행횟수는 얼마인가?"
   ]
  },
  {
   "cell_type": "code",
   "execution_count": 3,
   "id": "87c8746c",
   "metadata": {
    "id": "m7hR5DCuhEpo",
    "outputId": "6fb5492e-f4cd-4f9d-bbbc-40f146e2e6e8"
   },
   "outputs": [
    {
     "name": "stdout",
     "output_type": "stream",
     "text": [
      "1\n",
      "=\n",
      "*\n"
     ]
    },
    {
     "data": {
      "text/plain": [
       "100"
      ]
     },
     "execution_count": 3,
     "metadata": {},
     "output_type": "execute_result"
    }
   ],
   "source": [
    "def counter_func(num, limit) :\n",
    "    i = 1\n",
    "    while True :\n",
    "        print(i)\n",
    "        if i == limit :\n",
    "            return i\n",
    "        else:\n",
    "            print(\"=\" * i)\n",
    "            print(\"*\" * i)\n",
    "            i += 1\n",
    "        return num\n",
    "\n",
    "counter_func(100, 5)"
   ]
  },
  {
   "cell_type": "markdown",
   "id": "dd716f3f",
   "metadata": {
    "id": "bNsV9zG4hEpl",
    "outputId": "58d4c7e9-f773-4d68-bb20-6e99c17fe86a"
   },
   "source": [
    "*실행 결과 설명*\n",
    "\n",
    "..."
   ]
  },
  {
   "cell_type": "markdown",
   "id": "33b9f9c3",
   "metadata": {},
   "source": [
    "## 문제"
   ]
  },
  {
   "cell_type": "markdown",
   "id": "412449c6",
   "metadata": {},
   "source": [
    "두 정수와 함께 호출되었을 때 첫째 인자가 둘째 인자의 배수인지 여부를 반환값으로 \n",
    "계산하는 함수 `is_divisible()` 함수를 정의한다.\n",
    "두 개의 매개 변수는 다음과 같다.\n",
    "\n",
    "- `x`: 첫째 매개 변수. 정수 인자 사용\n",
    "- `y`: 둘째 매개 변수. 정수 인자 사용"
   ]
  },
  {
   "cell_type": "code",
   "execution_count": 4,
   "id": "6ba6054d",
   "metadata": {},
   "outputs": [],
   "source": [
    "def is_divisible(x, y):\n",
    "    if x % y == 0:\n",
    "        return True\n",
    "    else:\n",
    "        return False"
   ]
  },
  {
   "cell_type": "code",
   "execution_count": 5,
   "id": "accbbed3",
   "metadata": {},
   "outputs": [
    {
     "data": {
      "text/plain": [
       "False"
      ]
     },
     "execution_count": 5,
     "metadata": {},
     "output_type": "execute_result"
    }
   ],
   "source": [
    "is_divisible(6, 4)"
   ]
  },
  {
   "cell_type": "code",
   "execution_count": 6,
   "id": "81bdec34",
   "metadata": {},
   "outputs": [
    {
     "data": {
      "text/plain": [
       "True"
      ]
     },
     "execution_count": 6,
     "metadata": {},
     "output_type": "execute_result"
    }
   ],
   "source": [
    "is_divisible(6, 3)"
   ]
  },
  {
   "cell_type": "markdown",
   "id": "e45167af",
   "metadata": {},
   "source": [
    "위 함수를 다음과 같이 보다 간단하게 정의할 수도 있다."
   ]
  },
  {
   "cell_type": "code",
   "execution_count": 7,
   "id": "c5b2f62e",
   "metadata": {},
   "outputs": [],
   "source": [
    "def is_divisible(x, y):\n",
    "    return x % y == 0"
   ]
  },
  {
   "cell_type": "markdown",
   "id": "5d4fae65",
   "metadata": {},
   "source": [
    "부울값 함수 호출을 조건문 등에 바로 사용해도 된다."
   ]
  },
  {
   "cell_type": "code",
   "execution_count": 8,
   "id": "795d72d6",
   "metadata": {},
   "outputs": [
    {
     "name": "stdout",
     "output_type": "stream",
     "text": [
      "16 을(를) 4 (으)로 나눌 수 있다.\n"
     ]
    }
   ],
   "source": [
    "x = 16\n",
    "y = 4\n",
    "\n",
    "if is_divisible(x, y):\n",
    "    print(f'{x} 을(를) {y} (으)로 나눌 수 있다.')"
   ]
  },
  {
   "cell_type": "markdown",
   "id": "41144ee3",
   "metadata": {
    "id": "MTVs3VVPyzcU"
   },
   "source": [
    "## 문제"
   ]
  },
  {
   "cell_type": "markdown",
   "id": "08d8b6f6",
   "metadata": {},
   "source": [
    "짝수 인자와 함께 호출되면 2로 나눈 값을, \n",
    "홀수 인자와 함께 호출되면 3배에 1을 더한 값을 반환하는\n",
    "`Collatz_simple()` 함수를 정의한다."
   ]
  },
  {
   "cell_type": "code",
   "execution_count": 9,
   "id": "cc08ede5",
   "metadata": {},
   "outputs": [],
   "source": [
    "def Collatz_simple(num):\n",
    "    if num % 2 == 0:\n",
    "        return num // 2\n",
    "    else:\n",
    "        return num * 3 + 1"
   ]
  },
  {
   "cell_type": "markdown",
   "id": "b7e79897",
   "metadata": {
    "id": "MTVs3VVPyzcU"
   },
   "source": [
    "## 문제"
   ]
  },
  {
   "cell_type": "markdown",
   "id": "b61506d5",
   "metadata": {
    "id": "MTVs3VVPyzcU"
   },
   "source": [
    "문자열과 자연수를 인자로 받아, 문자열을 자연수만큼 반복 출력하는 함수\n",
    "`str_n()`를 구현하려 한다.\n",
    "매개 변수는 2개를 사용한다.\n",
    "\n",
    "- `text`: 첫째 인자. 문자열을 인자로 사용.\n",
    "- `num`: 둘째 인자. 양의 정수를 인자로 사용. 기본 키워드 인자로 1 지정.\n",
    "\n",
    "\n",
    "예를 들어 `str_n(\"Hello \", 3)`를 실행하면 다음처럼 출력돼야 한다.\n",
    "\n",
    "```\n",
    "Hello Hello Hello \n",
    "```\n",
    "\n",
    "반면에 `str_n(\"Hello \")`를 실행하면 다음처럼 출력돼야 한다.\n",
    "\n",
    "```\n",
    "Hello \n",
    "```\n",
    "\n",
    "힌트: `print()` 함수 활용"
   ]
  },
  {
   "cell_type": "code",
   "execution_count": 11,
   "id": "29c76de7",
   "metadata": {},
   "outputs": [],
   "source": [
    "def str_n(text, num=1):\n",
    "    print(text * num)"
   ]
  },
  {
   "cell_type": "code",
   "execution_count": 12,
   "id": "ff5c0435",
   "metadata": {},
   "outputs": [
    {
     "name": "stdout",
     "output_type": "stream",
     "text": [
      "Hello Hello Hello \n"
     ]
    }
   ],
   "source": [
    "str_n(\"Hello \", 3)"
   ]
  },
  {
   "cell_type": "code",
   "execution_count": 13,
   "id": "5f3f888e",
   "metadata": {},
   "outputs": [
    {
     "name": "stdout",
     "output_type": "stream",
     "text": [
      "Hello \n"
     ]
    }
   ],
   "source": [
    "str_n(\"Hello \")"
   ]
  },
  {
   "cell_type": "markdown",
   "id": "9632fd8d",
   "metadata": {},
   "source": [
    "## 문제"
   ]
  },
  {
   "cell_type": "markdown",
   "id": "7f185ee1",
   "metadata": {},
   "source": [
    "직사각형 모양의 바닥에 정사각형 모양의 타일을 깔아야 한다.\n",
    "타일은 온장을 그대로 사용할 수도 있고, 잘라서 일부분만 사용할 수도 있다.\n",
    "단, 잘라서 사용한 타일의 나머지는 사용하지 않는다.\n",
    "\n",
    "공간의 가로, 세로 크기, 타일의 크기를 cm 단위로 인자로 사용되었을 때\n",
    "타일을 깔 때 필요한 온장 타일과 잘라서 사용한 타일의 개수의 합을\n",
    "반환하는 함수 `tiling()`을 구현하라.\n",
    "단 공간 크기의 가로, 세로, 타일의 크기는 정수라고 가정한다.\n",
    "\n",
    "`tiling()` 함수의 매개변수는 다음과 같이 한다.\n",
    "\n",
    "- `width`: 공간의 가로 크기. 단위는 cm.\n",
    "- `height`: 공간의 세로 크기. 단위는 cm.\n",
    "- `tile_length=30`: 타일의 한 변의 크기. 단위는 cm. 기본 키워드 인자는 30."
   ]
  },
  {
   "cell_type": "code",
   "execution_count": 17,
   "id": "fa96f0a7",
   "metadata": {},
   "outputs": [],
   "source": [
    "def tiling(width, height, tile_length=30):\n",
    "    num_full_width = width // tile_length\n",
    "    num_full_height = height // tile_length\n",
    "\n",
    "    num_full = num_full_width * num_full_height\n",
    "\n",
    "    if width % tile_length == 0:\n",
    "        num_part_height = 0    \n",
    "        if height % tile_length == 0:\n",
    "            num_part = 0\n",
    "        else:\n",
    "            num_part = num_full_width\n",
    "\n",
    "    else:\n",
    "        if height % tile_length == 0:\n",
    "            num_part = num_full_height\n",
    "        else:\n",
    "            num_part = num_full_width + num_full_height + 1\n",
    "            \n",
    "    return num_full + num_part"
   ]
  },
  {
   "cell_type": "code",
   "execution_count": 18,
   "id": "39c64a1e",
   "metadata": {},
   "outputs": [
    {
     "data": {
      "text/plain": [
       "196"
      ]
     },
     "execution_count": 18,
     "metadata": {},
     "output_type": "execute_result"
    }
   ],
   "source": [
    "tiling(400, 400)"
   ]
  },
  {
   "cell_type": "code",
   "execution_count": 19,
   "id": "29f7a561",
   "metadata": {},
   "outputs": [
    {
     "data": {
      "text/plain": [
       "196"
      ]
     },
     "execution_count": 19,
     "metadata": {},
     "output_type": "execute_result"
    }
   ],
   "source": [
    "tiling(400, 400, 30)"
   ]
  },
  {
   "cell_type": "code",
   "execution_count": 21,
   "id": "9cf46708",
   "metadata": {},
   "outputs": [
    {
     "data": {
      "text/plain": [
       "144"
      ]
     },
     "execution_count": 21,
     "metadata": {},
     "output_type": "execute_result"
    }
   ],
   "source": [
    "tiling(400, 400, 35)"
   ]
  },
  {
   "cell_type": "markdown",
   "id": "a80932d0",
   "metadata": {},
   "source": [
    "## 문제"
   ]
  },
  {
   "cell_type": "markdown",
   "id": "7a25674a",
   "metadata": {},
   "source": [
    "아래 조건을 만족시키는 `grid_gen()` 함수를 구현한다.\n",
    "\n",
    "- `n`: 격자 세로 크기\n",
    "- `m`: 격자 가로 크기\n",
    "-  반환값: `n*m`\n",
    "\n",
    "단, `while` 반복문을 이용한다.\n",
    "\n",
    "예를 들어, `grid_gen(2, 3)` 을 실행하면 아래 모양의 격자를 그려야 한다.\n",
    "\n",
    "```\n",
    "+ - - + - - + - - +\n",
    "|     |     |     |\n",
    "|     |     |     |\n",
    "+ - - + - - + - - +\n",
    "|     |     |     |\n",
    "|     |     |     |\n",
    "+ - - + - - + - - +\n",
    "```"
   ]
  },
  {
   "cell_type": "code",
   "execution_count": 24,
   "id": "79a72f00",
   "metadata": {},
   "outputs": [],
   "source": [
    "pm = \"+ - - \"\n",
    "ps = \"|     \"\n",
    "plus_sign = \"+\"\n",
    "pipe_sign = \"|\"\n",
    "\n",
    "def pm_line(n):\n",
    "    return pm * n + plus_sign\n",
    "\n",
    "def ps_line(n):\n",
    "    return ps * n + pipe_sign\n",
    "\n",
    "def print_pm(n):\n",
    "    print(pm * n + plus_sign)\n",
    "\n",
    "def print_ps(n):\n",
    "    print(ps_line(n), ps_line(n), sep=\"\\n\")\n",
    "\n",
    "def grid_gen(n, m):\n",
    "    count = 0\n",
    "    while count < n:\n",
    "        print_pm(m)\n",
    "        print_ps(m)\n",
    "        count += 1\n",
    "        \n",
    "    print(pm_line(m))\n",
    "    return n * m"
   ]
  },
  {
   "cell_type": "code",
   "execution_count": 25,
   "id": "33f81c53",
   "metadata": {},
   "outputs": [
    {
     "name": "stdout",
     "output_type": "stream",
     "text": [
      "+ - - + - - + - - +\n",
      "|     |     |     |\n",
      "|     |     |     |\n",
      "+ - - + - - + - - +\n",
      "|     |     |     |\n",
      "|     |     |     |\n",
      "+ - - + - - + - - +\n"
     ]
    },
    {
     "data": {
      "text/plain": [
       "6"
      ]
     },
     "execution_count": 25,
     "metadata": {},
     "output_type": "execute_result"
    }
   ],
   "source": [
    "grid_gen(2, 3)"
   ]
  },
  {
   "cell_type": "code",
   "execution_count": 27,
   "id": "07d7808c",
   "metadata": {},
   "outputs": [
    {
     "name": "stdout",
     "output_type": "stream",
     "text": [
      "+ - - + - - + - - + - - + - - +\n",
      "|     |     |     |     |     |\n",
      "|     |     |     |     |     |\n",
      "+ - - + - - + - - + - - + - - +\n",
      "|     |     |     |     |     |\n",
      "|     |     |     |     |     |\n",
      "+ - - + - - + - - + - - + - - +\n",
      "|     |     |     |     |     |\n",
      "|     |     |     |     |     |\n",
      "+ - - + - - + - - + - - + - - +\n"
     ]
    },
    {
     "data": {
      "text/plain": [
       "15"
      ]
     },
     "execution_count": 27,
     "metadata": {},
     "output_type": "execute_result"
    }
   ],
   "source": [
    "grid_gen(3, 5)"
   ]
  },
  {
   "cell_type": "code",
   "execution_count": null,
   "id": "f07d8999",
   "metadata": {},
   "outputs": [],
   "source": []
  }
 ],
 "metadata": {
  "kernelspec": {
   "display_name": "Python 3 (ipykernel)",
   "language": "python",
   "name": "python3"
  },
  "language_info": {
   "codemirror_mode": {
    "name": "ipython",
    "version": 3
   },
   "file_extension": ".py",
   "mimetype": "text/x-python",
   "name": "python",
   "nbconvert_exporter": "python",
   "pygments_lexer": "ipython3",
   "version": "3.11.5"
  }
 },
 "nbformat": 4,
 "nbformat_minor": 5
}
