{
 "cells": [
  {
   "cell_type": "markdown",
   "metadata": {
    "id": "75T-0PDBatex"
   },
   "source": [
    "# (실습) 파일"
   ]
  },
  {
   "cell_type": "markdown",
   "metadata": {
    "id": "5140d50d"
   },
   "source": [
    "**참고 사항**\n",
    "\n",
    "먼저\n",
    "[파일](https://codingalzi.github.io/pybook/files.html)의 내용과\n",
    "[(필수 예제) 파일](https://colab.research.google.com/github/codingalzi/pybook/blob/master/examples/examples-files.ipynb)의 예제들을 학습하세요."
   ]
  },
  {
   "cell_type": "markdown",
   "metadata": {
    "id": "a0a20bd6"
   },
   "source": [
    "**주의 사항**\n",
    "\n",
    "* 기존에 작성된 코드 셀과 텍스트 셀은 수정하지 않는다.\n",
    "* 필요한 경우 코드 셀 또는 텍스트 셀을 추가해서 사용한다.\n",
    "* 실습 파일을 제출할 때 구글 드라이브의 링크를 이용하여 누구나 공유할 수 있도록 설정한다."
   ]
  },
  {
   "cell_type": "markdown",
   "metadata": {
    "id": "hKMsAX89ate-"
   },
   "source": [
    "**기본 설정**"
   ]
  },
  {
   "cell_type": "markdown",
   "metadata": {
    "id": "mDLKEE0hate_"
   },
   "source": [
    "파일 저장 경로와 파일 서버 주소를 지정에 필요한 기본 설정을 지정한다."
   ]
  },
  {
   "cell_type": "code",
   "execution_count": 1,
   "metadata": {
    "id": "oAvZdat_atfA"
   },
   "outputs": [],
   "source": [
    "from pathlib import Path\n",
    "from urllib.request import urlretrieve"
   ]
  },
  {
   "cell_type": "markdown",
   "metadata": {
    "id": "sW4ui4u6atfD"
   },
   "source": [
    "데이터가 저장된 텍스트 파일 서버 주소는 다음과 같다."
   ]
  },
  {
   "cell_type": "code",
   "execution_count": 2,
   "metadata": {
    "id": "HhiJojLfatfE"
   },
   "outputs": [],
   "source": [
    "base_url = \"https://raw.githubusercontent.com/codingalzi/pybook/master/jupyter-book/data/\""
   ]
  },
  {
   "cell_type": "markdown",
   "metadata": {
    "id": "VPZnltcDatfF"
   },
   "source": [
    "현재 작업 디렉토리의 `data` 하위 디렉토리에 파일을 다운로드해서 저장할 준비를 한다."
   ]
  },
  {
   "cell_type": "code",
   "execution_count": 3,
   "metadata": {
    "id": "VtNNcojQatfG"
   },
   "outputs": [],
   "source": [
    "# 저장위치 지정과 생성\n",
    "data_path = Path() / \"data\"\n",
    "data_path.mkdir(parents=True, exist_ok=True)"
   ]
  },
  {
   "cell_type": "markdown",
   "metadata": {
    "id": "Vvyug4DvatfH"
   },
   "source": [
    "`myWget()` 함수는 파일 서버에서 지정된 파일을 동일한 파일명으로 지정된 디렉토리에 저장한다."
   ]
  },
  {
   "cell_type": "code",
   "execution_count": 4,
   "metadata": {
    "id": "1pLwPw1datfH"
   },
   "outputs": [],
   "source": [
    "def myWget(filePath):\n",
    "    # 다운로드 대상 파일 경로\n",
    "    file_url = base_url + filePath\n",
    "\n",
    "    # 저장 경로와 파일명\n",
    "    target_path = data_path / filePath\n",
    "\n",
    "    return urlretrieve(file_url, target_path)"
   ]
  },
  {
   "cell_type": "markdown",
   "metadata": {
    "id": "8n08JJwl7Gw6"
   },
   "source": [
    "## 문제 1"
   ]
  },
  {
   "cell_type": "markdown",
   "metadata": {},
   "source": [
    "두 사람의 짧은 대화가 다음과 같다."
   ]
  },
  {
   "cell_type": "code",
   "execution_count": 5,
   "metadata": {},
   "outputs": [],
   "source": [
    "dialogues = \"남자 - 이게 맞나?\\n여자 - 글쎄... 모르겠는데. 어떻게 하지?\\n(잠시 쉰다.)\\n남자 - 아! 생각해볼께.\""
   ]
  },
  {
   "cell_type": "markdown",
   "metadata": {},
   "source": [
    "**질문 1**"
   ]
  },
  {
   "cell_type": "markdown",
   "metadata": {
    "id": "L5MReR7UJFTU"
   },
   "source": [
    "`dialogues` 변수에 할당된 문자열을 `data` 하위폴더에 `dialogues.txt` 파일로 저장한 다음에\n",
    "저장 내용을 확인하여라."
   ]
  },
  {
   "cell_type": "markdown",
   "metadata": {},
   "source": [
    "답:"
   ]
  },
  {
   "cell_type": "markdown",
   "metadata": {},
   "source": [
    "`data_path` 경로를 함께 이용하여 `./data/dialogues.txt` 파일로 저장한다."
   ]
  },
  {
   "cell_type": "code",
   "execution_count": 6,
   "metadata": {
    "id": "5SJ-6ctcJQlc"
   },
   "outputs": [],
   "source": [
    "with open(data_path / 'dialogues.txt', 'w') as file:\n",
    "    file.write(dialogues)"
   ]
  },
  {
   "cell_type": "markdown",
   "metadata": {},
   "source": [
    "내용을 확인하면 다음과 같다."
   ]
  },
  {
   "cell_type": "code",
   "execution_count": 7,
   "metadata": {
    "colab": {
     "base_uri": "https://localhost:8080/"
    },
    "id": "CCHR6JJIJdiH",
    "outputId": "85a24e3c-b4f5-45f9-f73f-f9e5b1209d92"
   },
   "outputs": [
    {
     "name": "stdout",
     "output_type": "stream",
     "text": [
      "남자 - 이게 맞나?\n",
      "여자 - 글쎄... 모르겠는데. 어떻게 하지?\n",
      "(잠시 쉰다.)\n",
      "남자 - 아! 생각해볼께.\n"
     ]
    }
   ],
   "source": [
    "with open(data_path / 'dialogues.txt', 'r') as file:\n",
    "    print(file.read())"
   ]
  },
  {
   "cell_type": "markdown",
   "metadata": {
    "id": "ZI1CwXPKbbhA"
   },
   "source": [
    "**질문 2**"
   ]
  },
  {
   "cell_type": "markdown",
   "metadata": {},
   "source": [
    "두 사람의 대화를 아래 형식으로 변환해서 출력하는 코드를 작성하여라.\n",
    "\n",
    "```\n",
    "남자: 이게 맞나?\n",
    "여자: 글쎄... 모르겠는데. 어떻게 하지?\n",
    "남자: 아! 생각해볼께.\n",
    "```\n",
    "\n",
    "힌트: `lstrip()`, `rstrip()` 문자열 메서드 활용"
   ]
  },
  {
   "cell_type": "markdown",
   "metadata": {},
   "source": [
    "답:"
   ]
  },
  {
   "cell_type": "markdown",
   "metadata": {},
   "source": [
    "다음 내용을 처리해야 한다.\n",
    "\n",
    "- 하이픈 기호 `-`를 콜론 기호 `:`로 대체. `lstrip()`, `rstrip()` 메서드를 적절하게 활용.\n",
    "- 대사가 아닌 내용 무시(삭제): 하이픈 기준으로 쪼갤 수 없을 때."
   ]
  },
  {
   "cell_type": "markdown",
   "metadata": {},
   "source": [
    "`split()` 문자열 메서가 두 개의 인자와 함게 호출될 때 사용되는 둘째 인자는 \n",
    "첫째 인자를 기준으로 몇 번 쪼갤지를 결정한다.\n",
    "아래 코드에서는 하이픈 기준으로 한 번만 쪼갠다.\n",
    "이유는 대사에도 하이픈이 사용될 수 있기 때문이다."
   ]
  },
  {
   "cell_type": "code",
   "execution_count": 8,
   "metadata": {
    "id": "Qumo49Jf7Gw7"
   },
   "outputs": [
    {
     "name": "stdout",
     "output_type": "stream",
     "text": [
      "남자: 이게 맞나?\n",
      "여자: 글쎄... 모르겠는데. 어떻게 하지?\n",
      "남자: 아! 생각해볼께."
     ]
    }
   ],
   "source": [
    "with open(data_path / 'dialogues.txt') as f:\n",
    "    for line in f:\n",
    "        try:\n",
    "            role, words = line.split('-',1)\n",
    "            role = role.rstrip()\n",
    "            words = words.lstrip()\n",
    "            print(role+': '+words, end='')\n",
    "        except:\n",
    "            pass"
   ]
  },
  {
   "cell_type": "markdown",
   "metadata": {
    "id": "3IuhSH6N7Gw9"
   },
   "source": [
    "**질문 3**"
   ]
  },
  {
   "cell_type": "markdown",
   "metadata": {},
   "source": [
    "남자와 여자의 대사를 각각 `dialogues_man.txt`, `dialogue_woman.txt` 파일로 \n",
    "`data` 하위폴더에 저장하는 코드를 작성한 다음 각각의 파일 내용을 확인하여라."
   ]
  },
  {
   "cell_type": "markdown",
   "metadata": {},
   "source": [
    "답:"
   ]
  },
  {
   "cell_type": "markdown",
   "metadata": {},
   "source": [
    "`with ... as ...` 형식으로 여러 개의 파일을 동시에 열 수 있다.\n",
    "\n",
    "```python\n",
    "with open(fileA, ...) as A, open(fileB, ...) as B, open(fileC, ...) as C:\n",
    "    ...\n",
    "```\n",
    "\n",
    "파이썬 명령문은 한 줄에 하나씩 작성하는 게 원칙이지만 \n",
    "여러 개의 파일을 동시에 여는 명령문이 너무 긴 경우에는 '&#8361;' (또는 '&#92;') 기호를 줄 끝에 추가한 다음에\n",
    "줄바꿈을 할 수 있다."
   ]
  },
  {
   "cell_type": "code",
   "execution_count": 9,
   "metadata": {
    "id": "ynYBdAEU7Gw9"
   },
   "outputs": [],
   "source": [
    "with open(data_path / 'dialogues.txt') as data, \\\n",
    "    open(data_path / 'dialogues_man.txt','w') as man, \\\n",
    "    open(data_path / 'dialogues_woman.txt','w') as woman:\n",
    "\n",
    "    for line in data:\n",
    "        try:\n",
    "            role, words = line.split('-', 1)\n",
    "            role = role.rstrip()\n",
    "            words = words.lstrip()\n",
    "            if role == '남자':\n",
    "                man.write(words)\n",
    "            if role == '여자':\n",
    "                woman.write(words)\n",
    "        except:\n",
    "            pass"
   ]
  },
  {
   "cell_type": "markdown",
   "metadata": {},
   "source": [
    "- 남자 대사 확인"
   ]
  },
  {
   "cell_type": "code",
   "execution_count": 10,
   "metadata": {
    "colab": {
     "base_uri": "https://localhost:8080/"
    },
    "id": "nOgtn2ctK5BQ",
    "outputId": "776a0811-7d29-42cf-9151-094764a855ec"
   },
   "outputs": [
    {
     "name": "stdout",
     "output_type": "stream",
     "text": [
      "이게 맞나?\n",
      "아! 생각해볼께.\n"
     ]
    }
   ],
   "source": [
    "with open(data_path / \"dialogues_man.txt\") as man:\n",
    "    print(man.read())"
   ]
  },
  {
   "cell_type": "markdown",
   "metadata": {},
   "source": [
    "- 여자 대사 확인"
   ]
  },
  {
   "cell_type": "code",
   "execution_count": 11,
   "metadata": {
    "colab": {
     "base_uri": "https://localhost:8080/"
    },
    "id": "FIdrGoJlLQdX",
    "outputId": "dfd1c1d3-37b7-4fa7-8880-ad4dccea7de3"
   },
   "outputs": [
    {
     "name": "stdout",
     "output_type": "stream",
     "text": [
      "글쎄... 모르겠는데. 어떻게 하지?\n",
      "\n"
     ]
    }
   ],
   "source": [
    "with open(data_path / \"dialogues_woman.txt\") as woman:\n",
    "    print(woman.read())"
   ]
  },
  {
   "cell_type": "markdown",
   "metadata": {
    "id": "iSOTNkzEcMM4"
   },
   "source": [
    "## 문제 2"
   ]
  },
  {
   "cell_type": "markdown",
   "metadata": {},
   "source": [
    "지정된 `base_url`에서 아래 파일을 다운로드한다."
   ]
  },
  {
   "cell_type": "code",
   "execution_count": 12,
   "metadata": {
    "id": "g3fw6odgatfI"
   },
   "outputs": [
    {
     "data": {
      "text/plain": [
       "(PosixPath('data/en-ko.csv'), <http.client.HTTPMessage at 0x7fa682f9e510>)"
      ]
     },
     "execution_count": 12,
     "metadata": {},
     "output_type": "execute_result"
    }
   ],
   "source": [
    "file_name = 'en-ko.csv'\n",
    "\n",
    "myWget(file_name)"
   ]
  },
  {
   "cell_type": "markdown",
   "metadata": {},
   "source": [
    "다운로드한 파일의 내용은 다음과 같다."
   ]
  },
  {
   "cell_type": "markdown",
   "metadata": {},
   "source": [
    "```\n",
    "# 단어,뜻\n",
    "a,하나의\n",
    "abandon,버리다\n",
    "able,할 수 있는\n",
    "aboard,배로\n",
    "...\n",
    "you,당신\n",
    "young,젊은\n",
    "zebra,얼룩말\n",
    "zone,대\n",
    "zoo,동물원\n",
    "```"
   ]
  },
  {
   "cell_type": "markdown",
   "metadata": {},
   "source": [
    "**질문 1**"
   ]
  },
  {
   "cell_type": "markdown",
   "metadata": {},
   "source": [
    "단어장으로 사용할 수 있는 `words_dict` 변수를 선언하여라.\n",
    "즉 키(key)는 영단어, 값(value)는 뜻으로 구성된 사전 자료형을 가리켜야 한다."
   ]
  },
  {
   "cell_type": "markdown",
   "metadata": {},
   "source": [
    "답:"
   ]
  },
  {
   "cell_type": "markdown",
   "metadata": {},
   "source": [
    "다음 사항에 유의한다.\n",
    "\n",
    "- 첫째 줄 무시: `readlines()` 메서드가 반환한 리스트의 0번 인덱스 항목을 무시한다.\n",
    "- 쉼표를 기준으로 한 번 쪼개서 영단어와 뜻으로 구분한다."
   ]
  },
  {
   "cell_type": "code",
   "execution_count": 13,
   "metadata": {
    "id": "Jc1lQPgYatfK",
    "outputId": "9634f4c4-34fc-4589-da16-bb53216796e1"
   },
   "outputs": [],
   "source": [
    "with open(data_path / 'en-ko.csv') as enko:\n",
    "    words_list = enko.readlines()\n",
    "    \n",
    "    words_dict = dict()\n",
    "    for i in range(1, len(words_list)):\n",
    "        eng, kor = words_list[i].split(',', 1)\n",
    "        eng = eng.strip()\n",
    "        kor = kor.strip()\n",
    "        \n",
    "        words_dict[eng] = kor"
   ]
  },
  {
   "cell_type": "markdown",
   "metadata": {},
   "source": [
    "**질문 2**"
   ]
  },
  {
   "cell_type": "markdown",
   "metadata": {},
   "source": [
    "단언장에 포함된 단어가 총 3,000개라는 사실을 확인하여라."
   ]
  },
  {
   "cell_type": "markdown",
   "metadata": {},
   "source": [
    "답:"
   ]
  },
  {
   "cell_type": "code",
   "execution_count": 14,
   "metadata": {},
   "outputs": [
    {
     "data": {
      "text/plain": [
       "3000"
      ]
     },
     "execution_count": 14,
     "metadata": {},
     "output_type": "execute_result"
    }
   ],
   "source": [
    "len(words_dict)"
   ]
  },
  {
   "cell_type": "markdown",
   "metadata": {},
   "source": [
    "**질문 3**"
   ]
  },
  {
   "cell_type": "markdown",
   "metadata": {},
   "source": [
    "`abandon`, `zoo` 단어의 뜻을 확인한다."
   ]
  },
  {
   "cell_type": "markdown",
   "metadata": {},
   "source": [
    "답:"
   ]
  },
  {
   "cell_type": "code",
   "execution_count": 15,
   "metadata": {},
   "outputs": [
    {
     "data": {
      "text/plain": [
       "'버리다'"
      ]
     },
     "execution_count": 15,
     "metadata": {},
     "output_type": "execute_result"
    }
   ],
   "source": [
    "words_dict['abandon']"
   ]
  },
  {
   "cell_type": "code",
   "execution_count": 16,
   "metadata": {},
   "outputs": [
    {
     "data": {
      "text/plain": [
       "'동물원'"
      ]
     },
     "execution_count": 16,
     "metadata": {},
     "output_type": "execute_result"
    }
   ],
   "source": [
    "words_dict['zoo']"
   ]
  }
 ],
 "metadata": {
  "colab": {
   "name": "practice-files.ipynb",
   "provenance": []
  },
  "kernelspec": {
   "display_name": "Python 3 (ipykernel)",
   "language": "python",
   "name": "python3"
  },
  "language_info": {
   "codemirror_mode": {
    "name": "ipython",
    "version": 3
   },
   "file_extension": ".py",
   "mimetype": "text/x-python",
   "name": "python",
   "nbconvert_exporter": "python",
   "pygments_lexer": "ipython3",
   "version": "3.11.4"
  }
 },
 "nbformat": 4,
 "nbformat_minor": 1
}
