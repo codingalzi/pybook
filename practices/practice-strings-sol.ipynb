{
 "cells": [
  {
   "cell_type": "markdown",
   "metadata": {},
   "source": [
    "# (연습) 문자열 "
   ]
  },
  {
   "cell_type": "markdown",
   "metadata": {},
   "source": [
    "**참고 사항**\n",
    "\n",
    "먼저 \n",
    "[문자열](https://codingalzi.github.io/pybook/strings.html)의 내용과\n",
    "[(필수 예제) 문자열](https://colab.research.google.com/github/codingalzi/pybook/blob/master/practices/examples-strings.ipynb)의 예제들을 학습하세요."
   ]
  },
  {
   "cell_type": "markdown",
   "metadata": {
    "id": "MgBCG_zE0A9f"
   },
   "source": [
    "**주의 사항**\n",
    "\n",
    "* 기존에 작성된 코드 셀과 텍스트 셀은 수정하지 않는다.\n",
    "* 필요한 경우 코드 셀 또는 텍스트 셀을 추가해서 사용한다.\n",
    "* 실습 파일을 제출할 때 구글 드라이브의 링크를 이용하여 누구나 공유할 수 있도록 설정한다."
   ]
  },
  {
   "cell_type": "markdown",
   "metadata": {},
   "source": [
    "## 문자열 포매팅"
   ]
  },
  {
   "cell_type": "markdown",
   "metadata": {},
   "source": [
    "## 문제"
   ]
  },
  {
   "cell_type": "markdown",
   "metadata": {},
   "source": [
    "**질문 1**"
   ]
  },
  {
   "cell_type": "markdown",
   "metadata": {},
   "source": [
    "아래 부동소수점을 소수점 이하 셋째 자리까지만 출력되도록 f-문자열을 활용하라."
   ]
  },
  {
   "cell_type": "code",
   "execution_count": 2,
   "metadata": {},
   "outputs": [],
   "source": [
    "num = 23.36778\n",
    "num1 = -84.99888"
   ]
  },
  {
   "cell_type": "markdown",
   "metadata": {},
   "source": [
    "**답**"
   ]
  },
  {
   "cell_type": "code",
   "execution_count": 3,
   "metadata": {},
   "outputs": [
    {
     "name": "stdout",
     "output_type": "stream",
     "text": [
      "23.368\n",
      "-84.999\n"
     ]
    }
   ],
   "source": [
    "print(f\"{num:.3f}\")\n",
    "print(f\"{num1:.3f}\")"
   ]
  },
  {
   "cell_type": "markdown",
   "metadata": {},
   "source": [
    "**질문 2**"
   ]
  },
  {
   "cell_type": "markdown",
   "metadata": {},
   "source": [
    "아래 부동소수점의 소수점을 모두 버리로 정수 부문만 출력되도록 f-문자열을 활용하라.\n",
    "또한 정수는 총 10칸을 차지하도록 한다.\n",
    "단, `int()` 함수는 사용하지 않는다."
   ]
  },
  {
   "cell_type": "code",
   "execution_count": 10,
   "metadata": {},
   "outputs": [],
   "source": [
    "num2 = 23.36778\n",
    "num3 = 8223.62874636778"
   ]
  },
  {
   "cell_type": "code",
   "execution_count": 11,
   "metadata": {},
   "outputs": [
    {
     "name": "stdout",
     "output_type": "stream",
     "text": [
      "        23\n",
      "      8224\n"
     ]
    }
   ],
   "source": [
    "print(f\"{num2:10.0f}\")\n",
    "print(f\"{num3:10.0f}\")"
   ]
  },
  {
   "cell_type": "markdown",
   "metadata": {},
   "source": [
    "**질문 3**"
   ]
  },
  {
   "cell_type": "markdown",
   "metadata": {},
   "source": [
    "아래 두 개의 부동소수점을 총 15 칸을 차지하도록 f-문자열을 활용하라.\n",
    "또한 소수점 이하 다섯째 자리까지만 출력되록 한다.\n",
    "단 모든 정수는 오른쪽으로 정렬되어야 하며 앞쪽 빈칸은 `+` 기호로 채운다."
   ]
  },
  {
   "cell_type": "code",
   "execution_count": 12,
   "metadata": {},
   "outputs": [],
   "source": [
    "num4 = 887223.8348161\n",
    "num5 = 6833.127230009267"
   ]
  },
  {
   "cell_type": "markdown",
   "metadata": {},
   "source": [
    "**답**"
   ]
  },
  {
   "cell_type": "code",
   "execution_count": 13,
   "metadata": {},
   "outputs": [
    {
     "name": "stdout",
     "output_type": "stream",
     "text": [
      "+++++8223.62875\n",
      "+++887223.83482\n"
     ]
    }
   ],
   "source": [
    "print(f\"{num3:+>15.5f}\")\n",
    "print(f\"{num4:+>15.5f}\")"
   ]
  },
  {
   "cell_type": "markdown",
   "metadata": {},
   "source": [
    "## 문자열 연산"
   ]
  },
  {
   "cell_type": "markdown",
   "metadata": {},
   "source": [
    "## 문제"
   ]
  },
  {
   "cell_type": "markdown",
   "metadata": {},
   "source": [
    "영어 문장을 인자로 입력받았을 때 자음의 개수를 확인하는 `count_consonants()` 함수를 작성하라.\n",
    "단, 모음 알파벳으로 구성된 아래 문자열을 이용한다."
   ]
  },
  {
   "cell_type": "code",
   "execution_count": 46,
   "metadata": {},
   "outputs": [],
   "source": [
    "vowels='AEIOUaeiou'"
   ]
  },
  {
   "cell_type": "markdown",
   "metadata": {},
   "source": [
    "힌트: `in` 연산자와 문자열 `isalpha()` 메서드"
   ]
  },
  {
   "cell_type": "code",
   "execution_count": 50,
   "metadata": {},
   "outputs": [],
   "source": [
    "def count_consonants(word):\n",
    "\n",
    "    count = 0\n",
    "    for char in word:\n",
    "        if (char not in vowels) and char.isalpha():\n",
    "            count += 1\n",
    "\n",
    "    return count"
   ]
  },
  {
   "cell_type": "code",
   "execution_count": 51,
   "metadata": {},
   "outputs": [
    {
     "data": {
      "text/plain": [
       "4"
      ]
     },
     "execution_count": 51,
     "metadata": {},
     "output_type": "execute_result"
    }
   ],
   "source": [
    "count_consonants(\"O, happy\")"
   ]
  },
  {
   "cell_type": "code",
   "execution_count": 52,
   "metadata": {},
   "outputs": [
    {
     "data": {
      "text/plain": [
       "9"
      ]
     },
     "execution_count": 52,
     "metadata": {},
     "output_type": "execute_result"
    }
   ],
   "source": [
    "count_consonants(\"Happy Python!\")"
   ]
  },
  {
   "cell_type": "markdown",
   "metadata": {},
   "source": [
    "## 문자열 메서드"
   ]
  },
  {
   "cell_type": "markdown",
   "metadata": {
    "id": "6aa9fb5f"
   },
   "source": [
    "## 문제"
   ]
  },
  {
   "cell_type": "markdown",
   "metadata": {
    "id": "b9d29417"
   },
   "source": [
    "변수와 함수의 이름을 지정할 때 **카멜**<font size = \"2\">camel</font> 표기법 또는 \n",
    "**팟홀**<font size=\"2\">pothole</font> 표기법(**스네이크**<font size=\"2\">snake</font> 표기법으로도 불림)을 \n",
    "사용한다.\n",
    "\n",
    "* 카멜 표기법 : 소문자로 시작하고, 이어지는 단어의 시작은 대문자로 작성하는 표기법.\n",
    "    - 예제: `userName`, `printMessage`, `countA` 등. \n",
    "\n",
    "* 팟홀 표기법 또는 스네이크 표기법 : 모두 소문자를 사용하고, 단어 사이에 밑줄기호(`_`)를 사용하는 표기법. \n",
    "    - 예제: `user_name`, `print_message`, `count_a` 등.   \n",
    "\n",
    "\n",
    "팟홀 표기법을 카멜 표기법으로 변환하는 `pothole2camel()` 함수를 구현하라.\n",
    "\n",
    "힌트: `str.isupper()`메서드는 문자열이 대문자인지를 확인해준다.  "
   ]
  },
  {
   "cell_type": "markdown",
   "metadata": {},
   "source": [
    "**답**"
   ]
  },
  {
   "cell_type": "code",
   "execution_count": 38,
   "metadata": {},
   "outputs": [
    {
     "data": {
      "text/plain": [
       "['one', 'two', 'three']"
      ]
     },
     "execution_count": 38,
     "metadata": {},
     "output_type": "execute_result"
    }
   ],
   "source": [
    "\"one_two_three\".split('_')"
   ]
  },
  {
   "cell_type": "code",
   "execution_count": 39,
   "metadata": {
    "colab": {
     "base_uri": "https://localhost:8080/"
    },
    "id": "ffc2f7ff",
    "outputId": "515ebc09-864a-4fa8-a50e-6a248556b3ef"
   },
   "outputs": [],
   "source": [
    "def pothole2camel(s):\n",
    "    word_list = s.split('_')\n",
    "    s_ = word_list[0]\n",
    "    for word in word_list[1:]:\n",
    "        s_ += word.capitalize()\n",
    "\n",
    "    return s_"
   ]
  },
  {
   "cell_type": "code",
   "execution_count": 41,
   "metadata": {
    "colab": {
     "base_uri": "https://localhost:8080/"
    },
    "id": "ffc2f7ff",
    "outputId": "515ebc09-864a-4fa8-a50e-6a248556b3ef"
   },
   "outputs": [
    {
     "name": "stdout",
     "output_type": "stream",
     "text": [
      "userName\n",
      "printMessage\n",
      "countA\n",
      "oneTwoThree\n"
     ]
    }
   ],
   "source": [
    "print(pothole2camel(\"user_name\"))\n",
    "print(pothole2camel(\"print_message\"))\n",
    "print(pothole2camel(\"count_a\"))\n",
    "print(pothole2camel(\"one_two_three\"))"
   ]
  },
  {
   "cell_type": "markdown",
   "metadata": {
    "id": "d2152213"
   },
   "source": [
    "## 문제"
   ]
  },
  {
   "cell_type": "markdown",
   "metadata": {
    "id": "515fa524"
   },
   "source": [
    "거꾸로 노래 부르기 좋아하는 청개구리는 아래와 같이 노래를 부른다.  \n",
    "예를 들어 아래 문장을 청개구리가 부르려 한다.\n",
    "    \n",
    "    산토끼 토끼야 어디로 가느냐 깡총깡총 뛰면서 어디를 가느냐\n",
    "    \n",
    "그러면 다음과 같이 부른다.    \n",
    "    \n",
    "    끼토산 야끼토 로디어 냐느가 총깡총깡 서면뛰 를디어 냐느가\n",
    "\n",
    "문자열이 주어졌을 때, 공백을 단위로 각 단어를 거꾸로 뒤집은 문자열을 반환하는 \n",
    "`revers_words()` 함수를 작성하라.\n",
    "단, 입력 문자열은 줄바꿈 없이 주어진다고 가정한다.\n",
    "\n",
    "힌트: 문자열 인덱싱과 문자열 `split()`, `join()` 메서드 활용"
   ]
  },
  {
   "cell_type": "code",
   "execution_count": 111,
   "metadata": {
    "colab": {
     "base_uri": "https://localhost:8080/"
    },
    "id": "9cb7052e",
    "outputId": "06b35499-cd85-4213-992e-c851f5af0897"
   },
   "outputs": [],
   "source": [
    "def reverse_words(text):\n",
    "    words = text.split()\n",
    "    reversed = []\n",
    "\n",
    "    for word in words:\n",
    "        word = word[::-1]\n",
    "        reversed.append(word)\n",
    "      \n",
    "    return \" \".join(reversed)"
   ]
  },
  {
   "cell_type": "code",
   "execution_count": 115,
   "metadata": {
    "colab": {
     "base_uri": "https://localhost:8080/"
    },
    "id": "9cb7052e",
    "outputId": "06b35499-cd85-4213-992e-c851f5af0897"
   },
   "outputs": [],
   "source": [
    "lyrics = '산토끼 토끼야 어디로 가느냐'"
   ]
  },
  {
   "cell_type": "code",
   "execution_count": 113,
   "metadata": {},
   "outputs": [
    {
     "data": {
      "text/plain": [
       "'끼토산 야끼토 로디어 냐느가'"
      ]
     },
     "execution_count": 113,
     "metadata": {},
     "output_type": "execute_result"
    }
   ],
   "source": [
    "reverse_words(lyrics)"
   ]
  },
  {
   "cell_type": "code",
   "execution_count": 118,
   "metadata": {
    "colab": {
     "base_uri": "https://localhost:8080/"
    },
    "id": "9cb7052e",
    "outputId": "06b35499-cd85-4213-992e-c851f5af0897"
   },
   "outputs": [],
   "source": [
    "lyrics2 = '깡총깡총 뛰면서 어디를 가느냐'"
   ]
  },
  {
   "cell_type": "code",
   "execution_count": 119,
   "metadata": {},
   "outputs": [
    {
     "data": {
      "text/plain": [
       "'총깡총깡 서면뛰 를디어 냐느가'"
      ]
     },
     "execution_count": 119,
     "metadata": {},
     "output_type": "execute_result"
    }
   ],
   "source": [
    "reverse_words(lyrics2)"
   ]
  },
  {
   "cell_type": "markdown",
   "metadata": {},
   "source": [
    "## 문제"
   ]
  },
  {
   "cell_type": "markdown",
   "metadata": {},
   "source": [
    "다음 세 개의 함수는 모두 입력된 문자열이 소문자를 포함하고 있는지 여부를 조사하도록 구현되었지만 \n",
    "하나만 제대로 작동한다.\n",
    "어느 함수가 제대로 작동하는지 확인한 다음 그 이유를 설명하라.\n",
    "또한 다른 두 함수가 적절하게 구현되지 않은 이유를 설명하라."
   ]
  },
  {
   "cell_type": "code",
   "execution_count": 70,
   "metadata": {},
   "outputs": [],
   "source": [
    "def any_lowercase1(s):\n",
    "    for c in s:\n",
    "        flag = c.islower()\n",
    "    return flag\n",
    "\n",
    "def any_lowercas2(s):\n",
    "    for c in s:\n",
    "        if not c.islower():\n",
    "            return False\n",
    "    return True\n",
    "\n",
    "def any_lowercase3(s):\n",
    "    flag = False\n",
    "    for c in s:\n",
    "        if c.islower():\n",
    "            flag = True\n",
    "    return flag"
   ]
  },
  {
   "cell_type": "markdown",
   "metadata": {},
   "source": [
    "**답**"
   ]
  },
  {
   "cell_type": "code",
   "execution_count": 71,
   "metadata": {},
   "outputs": [],
   "source": [
    "word = \"ABcDE\""
   ]
  },
  {
   "cell_type": "code",
   "execution_count": 72,
   "metadata": {},
   "outputs": [
    {
     "data": {
      "text/plain": [
       "False"
      ]
     },
     "execution_count": 72,
     "metadata": {},
     "output_type": "execute_result"
    }
   ],
   "source": [
    "any_lowercase1(word)"
   ]
  },
  {
   "cell_type": "code",
   "execution_count": 73,
   "metadata": {},
   "outputs": [
    {
     "data": {
      "text/plain": [
       "False"
      ]
     },
     "execution_count": 73,
     "metadata": {},
     "output_type": "execute_result"
    }
   ],
   "source": [
    "any_lowercase2(word)"
   ]
  },
  {
   "cell_type": "code",
   "execution_count": 74,
   "metadata": {},
   "outputs": [
    {
     "data": {
      "text/plain": [
       "True"
      ]
     },
     "execution_count": 74,
     "metadata": {},
     "output_type": "execute_result"
    }
   ],
   "source": [
    "any_lowercase3(word)"
   ]
  },
  {
   "cell_type": "markdown",
   "metadata": {},
   "source": [
    "## 문제"
   ]
  },
  {
   "cell_type": "markdown",
   "metadata": {},
   "source": [
    "`time` 모듈의 `ctime()` 함수를 인자 없이 호출하면 현재 시각을\n",
    "서양식으로 표현된 문자열로 반환한다."
   ]
  },
  {
   "cell_type": "code",
   "execution_count": 52,
   "metadata": {},
   "outputs": [
    {
     "data": {
      "text/plain": [
       "'Wed Apr 10 00:10:03 2024'"
      ]
     },
     "execution_count": 52,
     "metadata": {},
     "output_type": "execute_result"
    }
   ],
   "source": [
    "import time\n",
    "\n",
    "current_time = time.ctime()\n",
    "current_time"
   ]
  },
  {
   "cell_type": "markdown",
   "metadata": {},
   "source": [
    "`ctime()` 함수의 반환값을 \n",
    "이용하여 오늘의 날짜와 요일을 한국식으로 화면에 출력하는 함수 `today()`를 선언하라.\n",
    "단, 인자는 사용하지 않으며 `time` 모듈의 다른 함수는 절대 사용하지 않는다.\n",
    "또한 문자열 자료형의 `split()` 메서드와 f-문자열을 반드시 활용한다."
   ]
  },
  {
   "cell_type": "markdown",
   "metadata": {},
   "source": [
    "힌트: \n",
    "\n",
    "- 아래 두 개의 리스트의 인덱스를 활용하여 영어식 요일 표현을 한국식 요일 표현으로 대체한다."
   ]
  },
  {
   "cell_type": "code",
   "execution_count": 108,
   "metadata": {},
   "outputs": [],
   "source": [
    "weekdays_en = ['Sun', 'Mon', 'Tue', 'Wed', 'Thu', 'Fri', 'Sat']\n",
    "weekdays_kr = ['일', '월', '화', '수', '목', '금', '토']"
   ]
  },
  {
   "cell_type": "markdown",
   "metadata": {},
   "source": [
    "- 아래 리스트의 인덱스를 이용하여 영어식 월(month) 표현을 1, 2, ... 12 숫자 표현으로 대체한다."
   ]
  },
  {
   "cell_type": "code",
   "execution_count": 107,
   "metadata": {},
   "outputs": [],
   "source": [
    "months_en = ['Jan', 'Feb', 'Mar', 'Apr', 'May', 'Jun', 'Jul', 'Aug', 'Sep', 'Oct', 'Nov', 'Dec']"
   ]
  },
  {
   "cell_type": "markdown",
   "metadata": {},
   "source": [
    "- 리스트의 `index()` 메서드는 찾는 항목이 위차한 곳의 인덱스를 반환한다.\n",
    "    예를 들어 아래 코드는 `weekdays_en` 리스트에서 화요일을 의미하는 `Tue` 항목이 위치한 곳의 인덱스를 확인한다."
   ]
  },
  {
   "cell_type": "code",
   "execution_count": 109,
   "metadata": {},
   "outputs": [
    {
     "data": {
      "text/plain": [
       "2"
      ]
     },
     "execution_count": 109,
     "metadata": {},
     "output_type": "execute_result"
    }
   ],
   "source": [
    "weekdays_en.index(\"Tue\")"
   ]
  },
  {
   "cell_type": "markdown",
   "metadata": {},
   "source": [
    "**답**"
   ]
  },
  {
   "cell_type": "markdown",
   "metadata": {},
   "source": [
    "`time.ctime()` 함수는 요일, 월, 일, 시간, 년도 순으로 구성된 문자열을 반환한다.\n",
    "그리고 반환된 문자열에 포함된 요일, 월, 일 등은 공백으로 구분된다.\n",
    "따라서 `split()` 메서드를 적용하면 요일, 월, 일, 시간, 년도로 구성된 리스트가 생성된다."
   ]
  },
  {
   "cell_type": "code",
   "execution_count": 110,
   "metadata": {},
   "outputs": [
    {
     "data": {
      "text/plain": [
       "['Wed', 'Apr', '10', '00:10:03', '2024']"
      ]
     },
     "execution_count": 110,
     "metadata": {},
     "output_type": "execute_result"
    }
   ],
   "source": [
    "ctime_split = current_time.split()\n",
    "ctime_split"
   ]
  },
  {
   "cell_type": "markdown",
   "metadata": {},
   "source": [
    "따라서 요일은 위 리스트의 0번 인덱스에, 연도는 -1번 또는 4번 인덱스에,\n",
    "월과 일은 각각 1번과 2번 인덱스에 위치한다.\n",
    "이를 이용하여 요일과 날짜를 출력하면 다음과 같다."
   ]
  },
  {
   "cell_type": "code",
   "execution_count": 111,
   "metadata": {},
   "outputs": [
    {
     "name": "stdout",
     "output_type": "stream",
     "text": [
      "날짜: 2024년 Apr월 10일\n",
      "요일: Wed요일\n"
     ]
    }
   ],
   "source": [
    "year = ctime_split[-1]\n",
    "month = ctime_split[1]\n",
    "day = ctime_split[2]\n",
    "weekday = ctime_split[0]\n",
    "\n",
    "print(\"날짜:\", f\"{year}년 {month}월 {day}일\")\n",
    "print(\"요일:\", f\"{weekday}요일\")"
   ]
  },
  {
   "cell_type": "markdown",
   "metadata": {},
   "source": [
    "그런데 요일과 월 표현이 모두 영어 단어로 되어 있어서 매우 어색하다.\n",
    "한글 요일로 변환하기 위해 `weekdays_en`과 `weekday_kr` 리스트를 이용한다.\n",
    "이때 리스트의 `index()` 메서드를 다음과 같이 활용한다."
   ]
  },
  {
   "cell_type": "code",
   "execution_count": 114,
   "metadata": {},
   "outputs": [
    {
     "data": {
      "text/plain": [
       "'수'"
      ]
     },
     "execution_count": 114,
     "metadata": {},
     "output_type": "execute_result"
    }
   ],
   "source": [
    "weekday_index = weekdays_en.index(weekday)\n",
    "weekday_kr = weekdays_kr[weekday_index]\n",
    "weekday_kr"
   ]
  },
  {
   "cell_type": "markdown",
   "metadata": {},
   "source": [
    "영어식 월 표현을 숫자로 변환하는 것은 보다 간단하다."
   ]
  },
  {
   "cell_type": "code",
   "execution_count": 116,
   "metadata": {},
   "outputs": [
    {
     "data": {
      "text/plain": [
       "4"
      ]
     },
     "execution_count": 116,
     "metadata": {},
     "output_type": "execute_result"
    }
   ],
   "source": [
    "month_kr = months_en.index(month) + 1\n",
    "month_kr"
   ]
  },
  {
   "cell_type": "markdown",
   "metadata": {},
   "source": [
    "위 내용을 이용하여 `today()` 함수를 다음과 같이 구현한다."
   ]
  },
  {
   "cell_type": "code",
   "execution_count": 117,
   "metadata": {
    "id": "Zy1oRDipLoZk"
   },
   "outputs": [],
   "source": [
    "def today():\n",
    "    ctime_split = current_time.split()\n",
    "    year = ctime_split[-1]\n",
    "    month = ctime_split[1]\n",
    "    day = ctime_split[2]\n",
    "    weekday = ctime_split[0]\n",
    "    \n",
    "    weekday_index = weekdays_en.index(weekday)\n",
    "    weekday_kr = weekdays_kr[weekday_index]\n",
    "    \n",
    "    month_kr = months_en.index(month) + 1\n",
    "\n",
    "\n",
    "    print(\"날짜:\", f\"{year}년 {month_kr}월 {day}일\")\n",
    "    print(\"요일:\", f\"{weekday_kr}요일\")"
   ]
  },
  {
   "cell_type": "code",
   "execution_count": 118,
   "metadata": {
    "id": "Zy1oRDipLoZk"
   },
   "outputs": [
    {
     "name": "stdout",
     "output_type": "stream",
     "text": [
      "날짜: 2024년 4월 10일\n",
      "요일: 수요일\n"
     ]
    }
   ],
   "source": [
    "today()"
   ]
  },
  {
   "cell_type": "markdown",
   "metadata": {},
   "source": [
    "## 문제"
   ]
  },
  {
   "cell_type": "markdown",
   "metadata": {},
   "source": [
    "아래 `word_capitalize()` 함수는\n",
    "영어 문장이 입력값으로 주어졌을 때 각 단어의 첫글짜를 대문자로 변경한 문자열을 반환한다."
   ]
  },
  {
   "cell_type": "code",
   "execution_count": 75,
   "metadata": {},
   "outputs": [],
   "source": [
    "def word_capitalize(sentence):\n",
    "    words = sentence.split()\n",
    "    for i in range(len(words)):\n",
    "        words[i] = words[i].capitalize()\n",
    "\n",
    "    new_sentence = \" \".join(words)\n",
    "    return new_sentence"
   ]
  },
  {
   "cell_type": "code",
   "execution_count": 76,
   "metadata": {
    "id": "kkbD-sw3IsYs"
   },
   "outputs": [],
   "source": [
    "fruits = \"banana apple orange pineapple mango strawberry cherry\""
   ]
  },
  {
   "cell_type": "code",
   "execution_count": 77,
   "metadata": {},
   "outputs": [
    {
     "data": {
      "text/plain": [
       "'Banana Apple Orange Pineapple Mango Strawberry Cherry'"
      ]
     },
     "execution_count": 77,
     "metadata": {},
     "output_type": "execute_result"
    }
   ],
   "source": [
    "word_capitalize(fruits)"
   ]
  },
  {
   "cell_type": "markdown",
   "metadata": {},
   "source": [
    "`fruits`에 포함된 과일들이 쉼표로 구분된 문자열을 생성하는 한 줄 코드를 작성하라."
   ]
  },
  {
   "cell_type": "markdown",
   "metadata": {},
   "source": [
    "**답**"
   ]
  },
  {
   "cell_type": "code",
   "execution_count": 79,
   "metadata": {},
   "outputs": [
    {
     "data": {
      "text/plain": [
       "'Banana, Apple, Orange, Pineapple, Mango, Strawberry, Cherry'"
      ]
     },
     "execution_count": 79,
     "metadata": {},
     "output_type": "execute_result"
    }
   ],
   "source": [
    "', '.join(word_capitalize(fruits).split())"
   ]
  },
  {
   "cell_type": "markdown",
   "metadata": {
    "id": "Wf5NSC6DSSky"
   },
   "source": [
    "## 문제"
   ]
  },
  {
   "cell_type": "markdown",
   "metadata": {
    "id": "Wf5NSC6DSSky"
   },
   "source": [
    "아래와 같이 선언된 `lyrics`변수가 있다."
   ]
  },
  {
   "cell_type": "code",
   "execution_count": 81,
   "metadata": {
    "id": "Wf5NSC6DSSky"
   },
   "outputs": [],
   "source": [
    "lyrics = \" When you're smiling, the whole world smiles with you.\\n \""
   ]
  },
  {
   "cell_type": "markdown",
   "metadata": {},
   "source": [
    "**질문 1**"
   ]
  },
  {
   "cell_type": "markdown",
   "metadata": {
    "id": "Wf5NSC6DSSky"
   },
   "source": [
    "문자열 양 끝에 있는 화이트 스페이스를 모두 삭제하고, 모든 문자는 소문자로 변환된 문자열을 생성하는\n",
    "한 줄 코드를 작성하라.\n",
    "또한 `\"you're\"` 대신에 `\"you are\"` 가 사용되도록 해야 한다."
   ]
  },
  {
   "cell_type": "code",
   "execution_count": 84,
   "metadata": {},
   "outputs": [
    {
     "data": {
      "text/plain": [
       "'when you are smiling, the whole world smiles with you.'"
      ]
     },
     "execution_count": 84,
     "metadata": {},
     "output_type": "execute_result"
    }
   ],
   "source": [
    "lyrics.strip().lower().replace(\"you're\", \"you are\")"
   ]
  },
  {
   "cell_type": "markdown",
   "metadata": {},
   "source": [
    "**질문 2**"
   ]
  },
  {
   "cell_type": "markdown",
   "metadata": {
    "id": "Wf5NSC6DSSky"
   },
   "source": [
    "위 문자열이 `you.`로 끝나는지 여부를 판단하는 한 줄 코드를 작성하라.\n",
    "단, 화이트 스페이스는 무시한다."
   ]
  },
  {
   "cell_type": "code",
   "execution_count": 83,
   "metadata": {},
   "outputs": [
    {
     "data": {
      "text/plain": [
       "True"
      ]
     },
     "execution_count": 83,
     "metadata": {},
     "output_type": "execute_result"
    }
   ],
   "source": [
    "lyrics.strip().endswith('you.')"
   ]
  },
  {
   "cell_type": "markdown",
   "metadata": {},
   "source": [
    "## 알고리즘 이해"
   ]
  },
  {
   "cell_type": "markdown",
   "metadata": {},
   "source": [
    "## 문제"
   ]
  },
  {
   "cell_type": "markdown",
   "metadata": {},
   "source": [
    "문자열 `find()` 메서드에 대응하는 `find()` 함수를 직접 정의하려 한다.\n",
    "\n",
    "* 매개 변수: 두 개의 문자열을 인자로 받는 `word1`과 `word2` 두 개 사용\n",
    "* `word1`이 `word2`를 부분문자열로 포함할 경우 부분문자열의 시작하는 인덱스 반환.\n",
    "    포함하지 않을 경우 -1을 반환.\n",
    "* `position` 매개변수: 탐색을 시작하는 인덱스 지정. 기본 키워드 인자로 0 사용."
   ]
  },
  {
   "cell_type": "code",
   "execution_count": 88,
   "metadata": {
    "colab": {},
    "colab_type": "code",
    "id": "JBRiwezF7Gwp"
   },
   "outputs": [],
   "source": [
    "def find(word1, word2, position=0):\n",
    "    idx = int(position)\n",
    "    while idx < len(word1):\n",
    "        if word2 == word1[idx:idx+len(word2)] :\n",
    "            return idx\n",
    "        idx = idx + 1      \n",
    "    return -1 "
   ]
  },
  {
   "cell_type": "code",
   "execution_count": 89,
   "metadata": {},
   "outputs": [
    {
     "name": "stdout",
     "output_type": "stream",
     "text": [
      "1\n",
      "1\n",
      "3\n",
      "1\n",
      "-1\n"
     ]
    }
   ],
   "source": [
    "print(find('banana', 'ana'))\n",
    "print(find('heyheyhey', 'ey'))\n",
    "print(find('waikiki', 'ki'))\n",
    "print(find('ulala', 'la'))\n",
    "print(find('chukachuka', 'uKa'))"
   ]
  },
  {
   "cell_type": "code",
   "execution_count": 90,
   "metadata": {},
   "outputs": [
    {
     "name": "stdout",
     "output_type": "stream",
     "text": [
      "3\n",
      "4\n",
      "5\n",
      "3\n",
      "-1\n"
     ]
    }
   ],
   "source": [
    "print(find('banana', 'ana', 2))\n",
    "print(find('heyheyhey', 'ey', 3))\n",
    "print(find('waikiki', 'ki', 4))\n",
    "print(find('ulala', 'la', 2))\n",
    "print(find('chukachuka', 'uKa'))"
   ]
  },
  {
   "cell_type": "markdown",
   "metadata": {},
   "source": [
    "## 문제"
   ]
  },
  {
   "cell_type": "markdown",
   "metadata": {},
   "source": [
    "ROT13 은 단어의 각 문자를 13 자리만큼 회전시키는 방식의 간단한 암호 법이다. \n",
    "문자를 회전한다는 것은 알파벳 상의 위치를 이동한다는 뜻이다. \n",
    "예를 들어, `'a'` 를 3 만큼 이동하면 `'d'` 가, \n",
    "`'z'` 를 1 만큼 이동하면 `'a'` 가 된다.\n",
    "\n",
    "다음 하나의 매개변수를 사용하는 `encrypt()` 함수를 구현하라.\n",
    "\n",
    "- `word`: 영어 문장 문자열\n",
    "\n",
    "함수의 반환값은 문장의 모든 알파벳을 13 자리만큼 회전시킨 문자열이다.\n",
    "단 소문자와 대문자는 그대로 유지되어야 한다.\n",
    "또한 `ord()` 함수와 `chr()` 함수를 반드시 활용한다."
   ]
  },
  {
   "cell_type": "markdown",
   "metadata": {},
   "source": [
    "**답**"
   ]
  },
  {
   "cell_type": "code",
   "execution_count": 25,
   "metadata": {},
   "outputs": [
    {
     "data": {
      "text/plain": [
       "48"
      ]
     },
     "execution_count": 25,
     "metadata": {},
     "output_type": "execute_result"
    }
   ],
   "source": [
    "ord('0')"
   ]
  },
  {
   "cell_type": "code",
   "execution_count": 26,
   "metadata": {},
   "outputs": [
    {
     "data": {
      "text/plain": [
       "57"
      ]
     },
     "execution_count": 26,
     "metadata": {},
     "output_type": "execute_result"
    }
   ],
   "source": [
    "ord('9')"
   ]
  },
  {
   "cell_type": "code",
   "execution_count": 27,
   "metadata": {},
   "outputs": [
    {
     "data": {
      "text/plain": [
       "'9'"
      ]
     },
     "execution_count": 27,
     "metadata": {},
     "output_type": "execute_result"
    }
   ],
   "source": [
    "chr(57)"
   ]
  },
  {
   "cell_type": "code",
   "execution_count": 28,
   "metadata": {},
   "outputs": [
    {
     "data": {
      "text/plain": [
       "'0'"
      ]
     },
     "execution_count": 28,
     "metadata": {},
     "output_type": "execute_result"
    }
   ],
   "source": [
    "chr(48)"
   ]
  },
  {
   "cell_type": "code",
   "execution_count": 29,
   "metadata": {},
   "outputs": [
    {
     "data": {
      "text/plain": [
       "97"
      ]
     },
     "execution_count": 29,
     "metadata": {},
     "output_type": "execute_result"
    }
   ],
   "source": [
    "ord('a')"
   ]
  },
  {
   "cell_type": "code",
   "execution_count": 30,
   "metadata": {},
   "outputs": [
    {
     "data": {
      "text/plain": [
       "122"
      ]
     },
     "execution_count": 30,
     "metadata": {},
     "output_type": "execute_result"
    }
   ],
   "source": [
    "ord('z')"
   ]
  },
  {
   "cell_type": "code",
   "execution_count": 31,
   "metadata": {},
   "outputs": [
    {
     "data": {
      "text/plain": [
       "65"
      ]
     },
     "execution_count": 31,
     "metadata": {},
     "output_type": "execute_result"
    }
   ],
   "source": [
    "ord('A')"
   ]
  },
  {
   "cell_type": "code",
   "execution_count": 32,
   "metadata": {},
   "outputs": [
    {
     "data": {
      "text/plain": [
       "90"
      ]
     },
     "execution_count": 32,
     "metadata": {},
     "output_type": "execute_result"
    }
   ],
   "source": [
    "ord('Z')"
   ]
  },
  {
   "cell_type": "code",
   "execution_count": 33,
   "metadata": {},
   "outputs": [
    {
     "data": {
      "text/plain": [
       "'a'"
      ]
     },
     "execution_count": 33,
     "metadata": {},
     "output_type": "execute_result"
    }
   ],
   "source": [
    "chr(97)"
   ]
  },
  {
   "cell_type": "code",
   "execution_count": 34,
   "metadata": {},
   "outputs": [
    {
     "data": {
      "text/plain": [
       "'b'"
      ]
     },
     "execution_count": 34,
     "metadata": {},
     "output_type": "execute_result"
    }
   ],
   "source": [
    "chr(98)"
   ]
  },
  {
   "cell_type": "code",
   "execution_count": 35,
   "metadata": {},
   "outputs": [
    {
     "data": {
      "text/plain": [
       "'y'"
      ]
     },
     "execution_count": 35,
     "metadata": {},
     "output_type": "execute_result"
    }
   ],
   "source": [
    "chr(121)"
   ]
  },
  {
   "cell_type": "code",
   "execution_count": 36,
   "metadata": {},
   "outputs": [
    {
     "data": {
      "text/plain": [
       "'z'"
      ]
     },
     "execution_count": 36,
     "metadata": {},
     "output_type": "execute_result"
    }
   ],
   "source": [
    "chr(122)"
   ]
  },
  {
   "cell_type": "code",
   "execution_count": 37,
   "metadata": {},
   "outputs": [],
   "source": [
    "def encrypt(text):\n",
    "    encrypted = \"\"\n",
    "    \n",
    "    for char in text:\n",
    "        if char.isupper():\n",
    "            if 65 <= ord(char) <= 77:\n",
    "                encrypted += chr(ord(char) + 13)\n",
    "            else:\n",
    "                encrypted += chr(ord(char) - 13)\n",
    "        elif char.islower():\n",
    "            if 97 <= ord(char) <= 109:\n",
    "                encrypted += chr(ord(char) + 13)\n",
    "            else:\n",
    "                encrypted += chr(ord(char) - 13)\n",
    "        else:\n",
    "            encrypted += char\n",
    "            \n",
    "    return encrypted       "
   ]
  },
  {
   "cell_type": "code",
   "execution_count": 38,
   "metadata": {},
   "outputs": [
    {
     "data": {
      "text/plain": [
       "'V ybir clguba'"
      ]
     },
     "execution_count": 38,
     "metadata": {},
     "output_type": "execute_result"
    }
   ],
   "source": [
    "encrypt('I love python')"
   ]
  },
  {
   "cell_type": "code",
   "execution_count": 39,
   "metadata": {},
   "outputs": [
    {
     "data": {
      "text/plain": [
       "'I love python'"
      ]
     },
     "execution_count": 39,
     "metadata": {},
     "output_type": "execute_result"
    }
   ],
   "source": [
    "encrypt(encrypt('I love python'))"
   ]
  },
  {
   "cell_type": "code",
   "execution_count": 40,
   "metadata": {},
   "outputs": [
    {
     "data": {
      "text/plain": [
       "'Oryvrir zr!'"
      ]
     },
     "execution_count": 40,
     "metadata": {},
     "output_type": "execute_result"
    }
   ],
   "source": [
    "encrypt('Believe me!')"
   ]
  },
  {
   "cell_type": "markdown",
   "metadata": {},
   "source": [
    "# 문제"
   ]
  },
  {
   "cell_type": "markdown",
   "metadata": {},
   "source": [
    "어구전철은 주어진 단어에 사용된 철자의 순서를 변경해서 생성되는 단어를 가리킨다.\n",
    "예를 들어 \"python\"과 \"thpyon\" 서로 어구전철 관계다.\n",
    "주어진 두 단어의 어구전철 여부를 판정하는 `is_anagram()` 함수를 다음과 같이 구현할 수 있다.\n",
    "\n",
    "코드에 사용된 `sorted()` 함수는 인자로 주어지는 문자열에 포함된 알파벳을 크기 순으로 정렬하여\n",
    "생성된 문자열을 반환한다."
   ]
  },
  {
   "cell_type": "code",
   "execution_count": 57,
   "metadata": {},
   "outputs": [],
   "source": [
    "def is_anagram(word1, word2):\n",
    "    return sorted(word1) == sorted(word2)"
   ]
  },
  {
   "cell_type": "code",
   "execution_count": 58,
   "metadata": {},
   "outputs": [
    {
     "name": "stdout",
     "output_type": "stream",
     "text": [
      "True\n",
      "False\n"
     ]
    }
   ],
   "source": [
    "print(is_anagram('banana', 'nanaab'))\n",
    "print(is_anagram('hello', 'eoolh'))"
   ]
  },
  {
   "cell_type": "markdown",
   "metadata": {},
   "source": [
    "그런데 공백이 포함되는 경우 정확하게 작동하지 않는다."
   ]
  },
  {
   "cell_type": "code",
   "execution_count": 60,
   "metadata": {},
   "outputs": [
    {
     "data": {
      "text/plain": [
       "False"
      ]
     },
     "execution_count": 60,
     "metadata": {},
     "output_type": "execute_result"
    }
   ],
   "source": [
    "is_anagram('happ y', ' ypp ah')"
   ]
  },
  {
   "cell_type": "markdown",
   "metadata": {},
   "source": [
    "`is_anagram()` 함수가 공백을 무시하도록 하라."
   ]
  },
  {
   "cell_type": "code",
   "execution_count": 61,
   "metadata": {},
   "outputs": [],
   "source": [
    "def is_anagram(word1, word2):\n",
    "    return sorted(word1.replace(\" \", \"\")) == sorted(word2.replace(\" \", \"\"))"
   ]
  },
  {
   "cell_type": "code",
   "execution_count": 62,
   "metadata": {},
   "outputs": [
    {
     "data": {
      "text/plain": [
       "True"
      ]
     },
     "execution_count": 62,
     "metadata": {},
     "output_type": "execute_result"
    }
   ],
   "source": [
    "is_anagram('happ y', ' ypp ah')"
   ]
  },
  {
   "cell_type": "markdown",
   "metadata": {},
   "source": [
    "## 문제"
   ]
  },
  {
   "cell_type": "markdown",
   "metadata": {},
   "source": [
    "하나의 문자열과 함께 호출되면 공백 문자뿐만 아니라 아래 문자열에 포함된 모든 기호가 제거된 문자열을 반환하는\n",
    "`no_nonWord()` 함수를 정의하라."
   ]
  },
  {
   "cell_type": "code",
   "execution_count": 34,
   "metadata": {},
   "outputs": [],
   "source": [
    "nonWord_chr = ' .,!?'"
   ]
  },
  {
   "cell_type": "markdown",
   "metadata": {},
   "source": [
    "힌트: 문자열 자료형의 `replace()` 메서드와 `for` 반복문"
   ]
  },
  {
   "cell_type": "markdown",
   "metadata": {},
   "source": [
    "**답**"
   ]
  },
  {
   "cell_type": "code",
   "execution_count": 37,
   "metadata": {},
   "outputs": [
    {
     "data": {
      "text/plain": [
       "'여보게저기저게보여'"
      ]
     },
     "execution_count": 37,
     "metadata": {},
     "output_type": "execute_result"
    }
   ],
   "source": [
    "word = \"여보게, 저기 저게 보여?\"\n",
    "\n",
    "for chr in nonWord_chr:\n",
    "    word = word.replace(chr, \"\")\n",
    "    \n",
    "word"
   ]
  },
  {
   "cell_type": "code",
   "execution_count": 39,
   "metadata": {},
   "outputs": [],
   "source": [
    "def no_nonWord(word):\n",
    "    for chr in nonWord_chr:\n",
    "        word = word.replace(chr, \"\")\n",
    "\n",
    "    return word"
   ]
  },
  {
   "cell_type": "code",
   "execution_count": 40,
   "metadata": {},
   "outputs": [
    {
     "data": {
      "text/plain": [
       "'여보게저기저게보여'"
      ]
     },
     "execution_count": 40,
     "metadata": {},
     "output_type": "execute_result"
    }
   ],
   "source": [
    "no_nonWord(\"여보게, 저기 저게 보여?\")"
   ]
  },
  {
   "cell_type": "code",
   "execution_count": 48,
   "metadata": {},
   "outputs": [
    {
     "data": {
      "text/plain": [
       "'다시합창합시다'"
      ]
     },
     "execution_count": 48,
     "metadata": {},
     "output_type": "execute_result"
    }
   ],
   "source": [
    "no_nonWord(\"다시! 합창합시다.\")"
   ]
  },
  {
   "cell_type": "markdown",
   "metadata": {},
   "source": [
    "## 문제"
   ]
  },
  {
   "cell_type": "markdown",
   "metadata": {},
   "source": [
    "'기러기', '토마토', '우영우', 'bob', 'eye', `pop`와 같이\n",
    "앞으로 읽어도, 뒤로 읽어도 동일한 문자열을 **회문**<font size='2'>palindrome</font>이라 부른다. "
   ]
  },
  {
   "cell_type": "markdown",
   "metadata": {},
   "source": [
    "**질문 1**"
   ]
  },
  {
   "cell_type": "markdown",
   "metadata": {},
   "source": [
    "하나의 문자열과 함께 호출되었얼 때 회문 여부를 `True`/`False`로 반환하는\n",
    "`palindrome()` 를 작성하라.\n",
    "단, 공백은 무시되고 대소문자도 구분하지 않는다.\n",
    "\n",
    "힌트: 문자열 자료형의 `replace()`, `lower()` 메서드,  문자열 슬라이싱 등 활용"
   ]
  },
  {
   "cell_type": "code",
   "execution_count": 11,
   "metadata": {},
   "outputs": [],
   "source": [
    "def palindrome(word):\n",
    "    word_ = word.lower()\n",
    "    word_ = word_.replace(\" \", \"\")\n",
    "    return word_ == word_[::-1]"
   ]
  },
  {
   "cell_type": "code",
   "execution_count": 13,
   "metadata": {},
   "outputs": [],
   "source": [
    "def palindrome(word):\n",
    "    word_ = word.lower().replace(\" \", \"\")\n",
    "    return word_ == word_[::-1]"
   ]
  },
  {
   "cell_type": "code",
   "execution_count": 14,
   "metadata": {},
   "outputs": [],
   "source": [
    "assert palindrome(\"Bob\") == True\n",
    "assert palindrome(\"tomato\") == False\n",
    "assert palindrome(\"기러기\") == True\n",
    "assert palindrome(\"인싸 의사의 싸인\") == True\n",
    "assert palindrome(\"다시 합창합시다\") == True\n",
    "assert palindrome(\"여보게, 저기 저게 보여?\") == False"
   ]
  },
  {
   "cell_type": "markdown",
   "metadata": {},
   "source": [
    "**질문 2**"
   ]
  },
  {
   "cell_type": "markdown",
   "metadata": {},
   "source": [
    "하나의 문자열과 함께 호출되었얼 때 회문 여부를 `True`/`False`로 반환하는\n",
    "`palindrome()` 를 작성하라.\n",
    "단, 공백과 대소문자뿐만 아니라 점, 쉼표, 느낌표, 물음표, 하이픈 등도 무시한다.\n",
    "\n",
    "힌트: 문자열 자료형의 `replace()`, `lower()` 메서드,  문자열 슬라이싱 등 활용"
   ]
  },
  {
   "cell_type": "markdown",
   "metadata": {},
   "source": [
    "**답**"
   ]
  },
  {
   "cell_type": "code",
   "execution_count": 46,
   "metadata": {},
   "outputs": [],
   "source": [
    "def palindrome(word):\n",
    "    word_ = word.lower()\n",
    "    word_ = no_nonWord(word_)\n",
    "    return word_ == word_[::-1]"
   ]
  },
  {
   "cell_type": "code",
   "execution_count": 49,
   "metadata": {},
   "outputs": [],
   "source": [
    "assert palindrome(\"Bob\") == True\n",
    "assert palindrome(\"tomato\") == False\n",
    "assert palindrome(\"기러기\") == True\n",
    "assert palindrome(\"인싸 의사의 싸인\") == True\n",
    "assert palindrome(\"다시! 합창합시다.\") == True\n",
    "assert palindrome(\"여보게, 저기 저게 보여?\") == True"
   ]
  },
  {
   "cell_type": "code",
   "execution_count": null,
   "metadata": {},
   "outputs": [],
   "source": []
  }
 ],
 "metadata": {
  "colab": {
   "authorship_tag": "ABX9TyMc9fB9lcJwW8sP+Iso3pm1",
   "collapsed_sections": [],
   "name": "실습답안3.ipynb",
   "provenance": []
  },
  "kernelspec": {
   "display_name": "Python 3 (ipykernel)",
   "language": "python",
   "name": "python3"
  },
  "language_info": {
   "codemirror_mode": {
    "name": "ipython",
    "version": 3
   },
   "file_extension": ".py",
   "mimetype": "text/x-python",
   "name": "python",
   "nbconvert_exporter": "python",
   "pygments_lexer": "ipython3",
   "version": "3.11.5"
  }
 },
 "nbformat": 4,
 "nbformat_minor": 1
}
