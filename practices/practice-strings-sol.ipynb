{
 "cells": [
  {
   "cell_type": "markdown",
   "metadata": {},
   "source": [
    "# (연습) 문자열 "
   ]
  },
  {
   "cell_type": "markdown",
   "metadata": {},
   "source": [
    "**참고 사항**\n",
    "\n",
    "먼저 \n",
    "[문자열](https://codingalzi.github.io/pybook/strings.html)의 내용과\n",
    "[(필수 예제) 문자열](https://colab.research.google.com/github/codingalzi/pybook/blob/master/examples/examples-strings.ipynb)의 예제들을 학습하세요."
   ]
  },
  {
   "cell_type": "markdown",
   "metadata": {
    "id": "MgBCG_zE0A9f"
   },
   "source": [
    "**주의 사항**\n",
    "\n",
    "* 기존에 작성된 코드 셀과 텍스트 셀은 수정하지 않는다.\n",
    "* 필요한 경우 코드 셀 또는 텍스트 셀을 추가해서 사용한다.\n",
    "* 실습 파일을 제출할 때 구글 드라이브의 링크를 이용하여 누구나 공유할 수 있도록 설정한다."
   ]
  },
  {
   "cell_type": "markdown",
   "metadata": {},
   "source": [
    "## 문제 1"
   ]
  },
  {
   "cell_type": "markdown",
   "metadata": {},
   "source": [
    "**질문 1**"
   ]
  },
  {
   "cell_type": "markdown",
   "metadata": {},
   "source": [
    "아래 부동소수점을 소수점 이하 셋째 자리까지만 출력되도록 f-문자열을 활용하라."
   ]
  },
  {
   "cell_type": "code",
   "execution_count": 1,
   "metadata": {},
   "outputs": [],
   "source": [
    "num = 23.36778\n",
    "num1 = -84.99888"
   ]
  },
  {
   "cell_type": "markdown",
   "metadata": {},
   "source": [
    "**답**"
   ]
  },
  {
   "cell_type": "markdown",
   "metadata": {},
   "source": [
    "아래 코드는 소수점 이하 넷째 자리에서 반올림한 값을 출력한다."
   ]
  },
  {
   "cell_type": "code",
   "execution_count": 2,
   "metadata": {},
   "outputs": [
    {
     "name": "stdout",
     "output_type": "stream",
     "text": [
      "23.368\n",
      "-84.999\n"
     ]
    }
   ],
   "source": [
    "print(f\"{num:.3f}\")\n",
    "print(f\"{num1:.3f}\")"
   ]
  },
  {
   "cell_type": "markdown",
   "metadata": {},
   "source": [
    "**질문 2**"
   ]
  },
  {
   "cell_type": "markdown",
   "metadata": {},
   "source": [
    "아래 부동소수점의 소수점을 모두 버리로 정수 부문만 출력되도록 f-문자열을 활용하라.\n",
    "또한 정수는 총 10칸을 차지하도록 한다.\n",
    "단, `int()` 함수는 사용하지 않는다."
   ]
  },
  {
   "cell_type": "code",
   "execution_count": 3,
   "metadata": {},
   "outputs": [],
   "source": [
    "num2 = 23.36778\n",
    "num3 = 8223.62874636778"
   ]
  },
  {
   "cell_type": "markdown",
   "metadata": {},
   "source": [
    "**답**"
   ]
  },
  {
   "cell_type": "markdown",
   "metadata": {},
   "source": [
    "아래 코드는 소수점 이하 첫째 자리에서 반올림한 값을 출력하며,\n",
    "총 10칸을 차지하도록 하며 오른쪽으로 정렬시킨다."
   ]
  },
  {
   "cell_type": "code",
   "execution_count": 4,
   "metadata": {},
   "outputs": [
    {
     "name": "stdout",
     "output_type": "stream",
     "text": [
      "        23\n",
      "      8224\n"
     ]
    }
   ],
   "source": [
    "print(f\"{num2:10.0f}\")\n",
    "print(f\"{num3:10.0f}\")"
   ]
  },
  {
   "cell_type": "markdown",
   "metadata": {},
   "source": [
    "**질문 3**"
   ]
  },
  {
   "cell_type": "markdown",
   "metadata": {},
   "source": [
    "아래 두 개의 부동소수점을 총 15 칸을 차지하도록 f-문자열을 활용하라.\n",
    "또한 소수점 이하 다섯째 자리까지만 출력되록 한다.\n",
    "단 모든 정수는 오른쪽으로 정렬되어야 하며 앞쪽 빈칸은 `+` 기호로 채운다."
   ]
  },
  {
   "cell_type": "code",
   "execution_count": 5,
   "metadata": {},
   "outputs": [],
   "source": [
    "num4 = 887223.8348161\n",
    "num5 = 6833.127230009267"
   ]
  },
  {
   "cell_type": "markdown",
   "metadata": {},
   "source": [
    "**답**"
   ]
  },
  {
   "cell_type": "markdown",
   "metadata": {},
   "source": [
    "아래 코드는 소수점 이하 여섯째 자리에서 반올림한 값을 출력하며,\n",
    "총 15칸을 차지하도록 하며 오른쪽으로 정렬시킨다.\n",
    "또한 왼쪽의 빈 칸은 `+` 기호로 채운다."
   ]
  },
  {
   "cell_type": "code",
   "execution_count": 6,
   "metadata": {},
   "outputs": [
    {
     "name": "stdout",
     "output_type": "stream",
     "text": [
      "+++++8223.62875\n",
      "+++887223.83482\n"
     ]
    }
   ],
   "source": [
    "print(f\"{num3:+>15.5f}\")\n",
    "print(f\"{num4:+>15.5f}\")"
   ]
  },
  {
   "cell_type": "markdown",
   "metadata": {},
   "source": [
    "## 문제 2"
   ]
  },
  {
   "cell_type": "markdown",
   "metadata": {},
   "source": [
    "영어 문장을 인자로 입력받았을 때 모음과 자음의 개수를 확인하는 함수를 구현하려 한다.\n",
    "단, 모음 알파벳으로 구성된 아래 문자열을 이용한다."
   ]
  },
  {
   "cell_type": "code",
   "execution_count": 7,
   "metadata": {},
   "outputs": [],
   "source": [
    "vowels='AEIOUaeiou'"
   ]
  },
  {
   "cell_type": "markdown",
   "metadata": {},
   "source": [
    "**질문 1**"
   ]
  },
  {
   "cell_type": "markdown",
   "metadata": {},
   "source": [
    "영어 문장을 인자로 입력받았을 때 모음의 개수를 확인하는 `count_vowels()` 함수를 작성하라."
   ]
  },
  {
   "cell_type": "code",
   "execution_count": 8,
   "metadata": {},
   "outputs": [],
   "source": [
    "vowels='AEIOUaeiou'"
   ]
  },
  {
   "cell_type": "markdown",
   "metadata": {},
   "source": [
    "**답**"
   ]
  },
  {
   "cell_type": "markdown",
   "metadata": {},
   "source": [
    "아래 함수는 인자로 주어진 영어 문장 `text`에 대해 모음이 사용된 횟수를\n",
    "`for` 반복문을 이용하여 계산한다."
   ]
  },
  {
   "cell_type": "code",
   "execution_count": 9,
   "metadata": {},
   "outputs": [],
   "source": [
    "def count_vowels(text):\n",
    "    count = 0\n",
    "    for char in text:\n",
    "        if char in vowels:\n",
    "            count += 1\n",
    "\n",
    "    return count"
   ]
  },
  {
   "cell_type": "code",
   "execution_count": 10,
   "metadata": {},
   "outputs": [
    {
     "data": {
      "text/plain": [
       "2"
      ]
     },
     "execution_count": 10,
     "metadata": {},
     "output_type": "execute_result"
    }
   ],
   "source": [
    "count_vowels(\"O, happy\")"
   ]
  },
  {
   "cell_type": "code",
   "execution_count": 11,
   "metadata": {},
   "outputs": [
    {
     "data": {
      "text/plain": [
       "6"
      ]
     },
     "execution_count": 11,
     "metadata": {},
     "output_type": "execute_result"
    }
   ],
   "source": [
    "count_vowels(\"python data analysis\")"
   ]
  },
  {
   "cell_type": "markdown",
   "metadata": {},
   "source": [
    "**질문 2**"
   ]
  },
  {
   "cell_type": "markdown",
   "metadata": {},
   "source": [
    "영어 문장을 인자로 입력받았을 때 자음의 개수를 확인하는 `count_consonants()` 함수를 작성하라."
   ]
  },
  {
   "cell_type": "markdown",
   "metadata": {},
   "source": [
    "힌트: `in` 연산자와 문자열 `isalpha()` 메서드"
   ]
  },
  {
   "cell_type": "markdown",
   "metadata": {},
   "source": [
    "**답**"
   ]
  },
  {
   "cell_type": "markdown",
   "metadata": {},
   "source": [
    "문자열 `isalpha()` 메서드는 문자열이 영어 26개의 알파벳으로만 구성되었는지 여부를 판정한다."
   ]
  },
  {
   "cell_type": "code",
   "execution_count": 12,
   "metadata": {},
   "outputs": [
    {
     "data": {
      "text/plain": [
       "True"
      ]
     },
     "execution_count": 12,
     "metadata": {},
     "output_type": "execute_result"
    }
   ],
   "source": [
    "'a'.isalpha()"
   ]
  },
  {
   "cell_type": "code",
   "execution_count": 13,
   "metadata": {},
   "outputs": [
    {
     "data": {
      "text/plain": [
       "True"
      ]
     },
     "execution_count": 13,
     "metadata": {},
     "output_type": "execute_result"
    }
   ],
   "source": [
    "'ab'.isalpha()"
   ]
  },
  {
   "cell_type": "code",
   "execution_count": 14,
   "metadata": {},
   "outputs": [
    {
     "data": {
      "text/plain": [
       "False"
      ]
     },
     "execution_count": 14,
     "metadata": {},
     "output_type": "execute_result"
    }
   ],
   "source": [
    "'ab3'.isalpha()"
   ]
  },
  {
   "cell_type": "markdown",
   "metadata": {},
   "source": [
    "아래 함수는 인자로 주어진 영어 문장 `text`에 대해 모음이 아닌 알파벳이 사용된 횟수를\n",
    "`for` 반복문을 이용하여 계산한다.\n",
    "`isalpha()` 메서드를 이용하여 모음이 아니면서 영어 알파벳인 경우일 때만 `count` 값이 업데이트됨에 주의한다."
   ]
  },
  {
   "cell_type": "code",
   "execution_count": 15,
   "metadata": {},
   "outputs": [],
   "source": [
    "def count_consonants(word):\n",
    "\n",
    "    count = 0\n",
    "    for char in word:\n",
    "        if (char not in vowels) and char.isalpha():\n",
    "            count += 1\n",
    "\n",
    "    return count"
   ]
  },
  {
   "cell_type": "code",
   "execution_count": 16,
   "metadata": {},
   "outputs": [
    {
     "data": {
      "text/plain": [
       "4"
      ]
     },
     "execution_count": 16,
     "metadata": {},
     "output_type": "execute_result"
    }
   ],
   "source": [
    "count_consonants(\"O, happy\")"
   ]
  },
  {
   "cell_type": "code",
   "execution_count": 17,
   "metadata": {},
   "outputs": [
    {
     "data": {
      "text/plain": [
       "9"
      ]
     },
     "execution_count": 17,
     "metadata": {},
     "output_type": "execute_result"
    }
   ],
   "source": [
    "count_consonants(\"Happy Python!\")"
   ]
  },
  {
   "cell_type": "markdown",
   "metadata": {},
   "source": [
    "## 문제 3"
   ]
  },
  {
   "cell_type": "markdown",
   "metadata": {},
   "source": [
    "다음 세 개의 함수는 모두 입력된 문자열이 소문자를 포함하고 있는지 여부를 조사하도록 구현되었지만 \n",
    "하나만 제대로 작동한다.\n",
    "어느 함수가 제대로 작동하는지 확인한 다음 그 이유를 설명하라.\n",
    "또한 다른 두 함수가 적절하게 구현되지 않은 이유를 설명하라."
   ]
  },
  {
   "cell_type": "code",
   "execution_count": 18,
   "metadata": {},
   "outputs": [],
   "source": [
    "def any_lowercase1(text):\n",
    "    for c in text:\n",
    "        flag = c.islower()\n",
    "    return flag\n",
    "\n",
    "def any_lowercase2(text):\n",
    "    for c in text:\n",
    "        if not c.islower():\n",
    "            return False\n",
    "    return True\n",
    "\n",
    "def any_lowercase3(text):\n",
    "    flag = False\n",
    "    for c in text:\n",
    "        if c.islower():\n",
    "            flag = True\n",
    "    return flag"
   ]
  },
  {
   "cell_type": "markdown",
   "metadata": {},
   "source": [
    "**답**"
   ]
  },
  {
   "cell_type": "markdown",
   "metadata": {},
   "source": [
    "아래 문자열에 대해 위 함수를 테스트한다."
   ]
  },
  {
   "cell_type": "code",
   "execution_count": 19,
   "metadata": {},
   "outputs": [],
   "source": [
    "word1 = \"ABcDE\"\n",
    "word2 = \"ABCDE\""
   ]
  },
  {
   "cell_type": "markdown",
   "metadata": {},
   "source": [
    "**`any_lowercase1()` 함수**"
   ]
  },
  {
   "cell_type": "code",
   "execution_count": 20,
   "metadata": {},
   "outputs": [],
   "source": [
    "def any_lowercase1(text):\n",
    "    for c in text:\n",
    "        flag = c.islower()\n",
    "    return flag"
   ]
  },
  {
   "cell_type": "markdown",
   "metadata": {},
   "source": [
    "`for c in text` 반복문이 실행되는 동안 `flag = c.islower()`에 의해 계속해서 업데이트 된다.\n",
    "따라서 마지막 문자의 소문자 여부가 최종적으로 반환된다.\n",
    "즉, 문자열의 마지막 문자의 소문자 여부가 함수의 반환값으로 지정되어\n",
    "`word1`, `word2` 모두에 대해 `False`가 반환된다. "
   ]
  },
  {
   "cell_type": "code",
   "execution_count": 21,
   "metadata": {},
   "outputs": [
    {
     "data": {
      "text/plain": [
       "False"
      ]
     },
     "execution_count": 21,
     "metadata": {},
     "output_type": "execute_result"
    }
   ],
   "source": [
    "any_lowercase1(word1)"
   ]
  },
  {
   "cell_type": "code",
   "execution_count": 22,
   "metadata": {},
   "outputs": [
    {
     "data": {
      "text/plain": [
       "False"
      ]
     },
     "execution_count": 22,
     "metadata": {},
     "output_type": "execute_result"
    }
   ],
   "source": [
    "any_lowercase1(word2)"
   ]
  },
  {
   "cell_type": "markdown",
   "metadata": {},
   "source": [
    "**`any_lowercase2()` 함수**"
   ]
  },
  {
   "cell_type": "code",
   "execution_count": 23,
   "metadata": {},
   "outputs": [],
   "source": [
    "def any_lowercase2(text):\n",
    "    for c in text:\n",
    "        if not c.islower():\n",
    "            return False\n",
    "    return True"
   ]
  },
  {
   "cell_type": "markdown",
   "metadata": {},
   "source": [
    "`for c in text` 반복문이 실행되는 동안\n",
    "`if not c.islower()` 에 의해 첫 문자가 소문자가 아닐 때,\n",
    "즉 대문자이거나 알파벳이 아닌 다른 기호일 때 `False`를 바로 반환한다.\n",
    "따라서 문자열 자체에 소문자가 포함되어 있다 하더라도 첫 문자가 소문자가 아니면\n",
    "무조건 `False`가 반환된다."
   ]
  },
  {
   "cell_type": "code",
   "execution_count": 24,
   "metadata": {},
   "outputs": [
    {
     "data": {
      "text/plain": [
       "False"
      ]
     },
     "execution_count": 24,
     "metadata": {},
     "output_type": "execute_result"
    }
   ],
   "source": [
    "any_lowercase2(word1)"
   ]
  },
  {
   "cell_type": "code",
   "execution_count": 25,
   "metadata": {},
   "outputs": [
    {
     "data": {
      "text/plain": [
       "False"
      ]
     },
     "execution_count": 25,
     "metadata": {},
     "output_type": "execute_result"
    }
   ],
   "source": [
    "any_lowercase2(word2)"
   ]
  },
  {
   "cell_type": "markdown",
   "metadata": {},
   "source": [
    "**`any_lowercase3()` 함수**"
   ]
  },
  {
   "cell_type": "code",
   "execution_count": 26,
   "metadata": {},
   "outputs": [],
   "source": [
    "def any_lowercase3(text):\n",
    "    flag = False\n",
    "    for c in text:\n",
    "        if c.islower():\n",
    "            flag = True\n",
    "    return flag"
   ]
  },
  {
   "cell_type": "markdown",
   "metadata": {},
   "source": [
    "`flag` 변수가 가리키는 값이 `for c in text` 반복문이 실행되는 동안\n",
    "`c`가 소문자를 가리키는 순간 `True`로 지정된다.\n",
    "반면에 `text`에 포함된 문자중에 소문자가 아니면 무시된다.\n",
    "결국 소문자가 하나라도 포함된 경우에만 `True`가 반환된다."
   ]
  },
  {
   "cell_type": "code",
   "execution_count": 27,
   "metadata": {},
   "outputs": [
    {
     "data": {
      "text/plain": [
       "True"
      ]
     },
     "execution_count": 27,
     "metadata": {},
     "output_type": "execute_result"
    }
   ],
   "source": [
    "any_lowercase3(word1)"
   ]
  },
  {
   "cell_type": "code",
   "execution_count": 28,
   "metadata": {},
   "outputs": [
    {
     "data": {
      "text/plain": [
       "False"
      ]
     },
     "execution_count": 28,
     "metadata": {},
     "output_type": "execute_result"
    }
   ],
   "source": [
    "any_lowercase3(word2)"
   ]
  },
  {
   "cell_type": "markdown",
   "metadata": {},
   "source": [
    "결국 `any_lowercase3()` 만 소문자 포함여부를 제대로 결정한다."
   ]
  },
  {
   "cell_type": "markdown",
   "metadata": {
    "id": "6aa9fb5f"
   },
   "source": [
    "## 문제 4"
   ]
  },
  {
   "cell_type": "markdown",
   "metadata": {
    "id": "b9d29417"
   },
   "source": [
    "변수와 함수의 이름을 지정할 때 **카멜**<font size = \"2\">camel</font> 표기법 또는 \n",
    "**팟홀**<font size=\"2\">pothole</font> 표기법(**스네이크**<font size=\"2\">snake</font> 표기법으로도 불림)을 \n",
    "사용한다.\n",
    "\n",
    "* 카멜 표기법 : 소문자로 시작하고, 이어지는 단어의 시작은 대문자로 작성하는 표기법.\n",
    "    - 예제: `userName`, `printMessage`, `countA` 등. \n",
    "\n",
    "* 팟홀 표기법 또는 스네이크 표기법 : 모두 소문자를 사용하고, 단어 사이에 밑줄기호(`_`)를 사용하는 표기법. \n",
    "    - 예제: `user_name`, `print_message`, `count_a` 등.   "
   ]
  },
  {
   "cell_type": "markdown",
   "metadata": {
    "id": "b9d29417"
   },
   "source": [
    "팟홀 표기법을 카멜 표기법으로 변환하는 `pothole2camel()` 함수를 구현하라.\n",
    "\n",
    "힌트: 문자열 `capitalize()`메서드와 `split()` 메서드 활용"
   ]
  },
  {
   "cell_type": "markdown",
   "metadata": {},
   "source": [
    "**답**"
   ]
  },
  {
   "cell_type": "markdown",
   "metadata": {},
   "source": [
    "밑줄 기준으로 `split()` 메서드를 적용하면 다음과 같이 작동한다."
   ]
  },
  {
   "cell_type": "code",
   "execution_count": 29,
   "metadata": {},
   "outputs": [
    {
     "data": {
      "text/plain": [
       "['one', 'two', 'three']"
      ]
     },
     "execution_count": 29,
     "metadata": {},
     "output_type": "execute_result"
    }
   ],
   "source": [
    "\"one_two_three\".split('_')"
   ]
  },
  {
   "cell_type": "markdown",
   "metadata": {},
   "source": [
    "문자열 `capitalize()` 메서드는 문장의 첫 알파벳을 대문자로 변환된 새로운 문자열을 생성한다."
   ]
  },
  {
   "cell_type": "code",
   "execution_count": 30,
   "metadata": {},
   "outputs": [
    {
     "data": {
      "text/plain": [
       "'Hello python'"
      ]
     },
     "execution_count": 30,
     "metadata": {},
     "output_type": "execute_result"
    }
   ],
   "source": [
    "\"hello python\".capitalize()"
   ]
  },
  {
   "cell_type": "markdown",
   "metadata": {},
   "source": [
    "언급된 두 메서드를 활용하여 `pothole2camel()` 함수를 구현한다.\n",
    "즉 팟홀 표기법 단어가 주어지면 밑줄 기준으로 쪼갠 다음에\n",
    "쪼개진 각 단어에 첫 알파벳을 대문자로 변경한 단어를 다시 이어붙인다."
   ]
  },
  {
   "cell_type": "code",
   "execution_count": 31,
   "metadata": {
    "colab": {
     "base_uri": "https://localhost:8080/"
    },
    "id": "ffc2f7ff",
    "outputId": "515ebc09-864a-4fa8-a50e-6a248556b3ef"
   },
   "outputs": [],
   "source": [
    "def pothole2camel(word):\n",
    "    word_list = word.split('_')\n",
    "    \n",
    "    camelWord = word_list[0]\n",
    "    for word in word_list[1:]:\n",
    "        camelWord += word.capitalize()\n",
    "\n",
    "    return camelWord"
   ]
  },
  {
   "cell_type": "code",
   "execution_count": 32,
   "metadata": {
    "colab": {
     "base_uri": "https://localhost:8080/"
    },
    "id": "ffc2f7ff",
    "outputId": "515ebc09-864a-4fa8-a50e-6a248556b3ef"
   },
   "outputs": [
    {
     "name": "stdout",
     "output_type": "stream",
     "text": [
      "userName\n",
      "printMessage\n",
      "countA\n",
      "oneTwoThree\n"
     ]
    }
   ],
   "source": [
    "print(pothole2camel(\"user_name\"))\n",
    "print(pothole2camel(\"print_message\"))\n",
    "print(pothole2camel(\"count_a\"))\n",
    "print(pothole2camel(\"one_two_three\"))"
   ]
  },
  {
   "cell_type": "markdown",
   "metadata": {},
   "source": [
    "## 문제 5"
   ]
  },
  {
   "cell_type": "markdown",
   "metadata": {},
   "source": [
    "`time` 모듈의 `ctime()` 함수를 인자 없이 호출하면 현재 시각을\n",
    "서양식으로 표현된 문자열로 반환한다."
   ]
  },
  {
   "cell_type": "code",
   "execution_count": 33,
   "metadata": {},
   "outputs": [
    {
     "data": {
      "text/plain": [
       "'Sun Apr 14 14:33:05 2024'"
      ]
     },
     "execution_count": 33,
     "metadata": {},
     "output_type": "execute_result"
    }
   ],
   "source": [
    "import time\n",
    "\n",
    "current_time = time.ctime()\n",
    "current_time"
   ]
  },
  {
   "cell_type": "markdown",
   "metadata": {},
   "source": [
    "`ctime()` 함수의 반환값을 \n",
    "이용하여 오늘의 날짜를 한국식으로 화면에 출력하는 함수 `today()`를 선언하라.\n",
    "단, 인자는 사용하지 않으며 `time` 모듈의 다른 함수는 절대 사용하지 않는다.\n",
    "또한 문자열 `split()` 메서드와 f-문자열을 반드시 활용한다."
   ]
  },
  {
   "cell_type": "markdown",
   "metadata": {},
   "source": [
    "힌트: \n",
    "\n",
    "(1) 아래 두 개의 리스트의 인덱스를 활용하여 영어식 요일 표현을 한국식 요일 표현으로 대체한다."
   ]
  },
  {
   "cell_type": "code",
   "execution_count": 34,
   "metadata": {},
   "outputs": [],
   "source": [
    "weekdays_en = ['Sun', 'Mon', 'Tue', 'Wed', 'Thu', 'Fri', 'Sat']\n",
    "weekdays_kr = ['일', '월', '화', '수', '목', '금', '토']"
   ]
  },
  {
   "cell_type": "markdown",
   "metadata": {},
   "source": [
    "(2) 아래 리스트의 인덱스를 이용하여 영어식 월(month) 표현을 1, 2, ... 12 숫자 표현으로 대체한다."
   ]
  },
  {
   "cell_type": "code",
   "execution_count": 35,
   "metadata": {},
   "outputs": [],
   "source": [
    "months_en = ['Jan', 'Feb', 'Mar', 'Apr', 'May', 'Jun', 'Jul', 'Aug', 'Sep', 'Oct', 'Nov', 'Dec']"
   ]
  },
  {
   "cell_type": "markdown",
   "metadata": {},
   "source": [
    "**답**"
   ]
  },
  {
   "cell_type": "markdown",
   "metadata": {},
   "source": [
    "`time.ctime()` 함수는 요일, 월, 일, 시간, 년도 순으로 구성된 문자열을 반환한다.\n",
    "그리고 반환된 문자열에 포함된 요일, 월, 일 등은 공백으로 구분된다.\n",
    "따라서 `split()` 메서드를 적용하면 요일, 월, 일, 시간, 년도로 구성된 리스트가 생성된다."
   ]
  },
  {
   "cell_type": "code",
   "execution_count": 36,
   "metadata": {},
   "outputs": [
    {
     "data": {
      "text/plain": [
       "['Sun', 'Apr', '14', '14:33:05', '2024']"
      ]
     },
     "execution_count": 36,
     "metadata": {},
     "output_type": "execute_result"
    }
   ],
   "source": [
    "ctime_split = current_time.split()\n",
    "ctime_split"
   ]
  },
  {
   "cell_type": "markdown",
   "metadata": {},
   "source": [
    "따라서 요일은 위 리스트의 0번 인덱스에, 연도는 4번 (또는 -1번) 인덱스에,\n",
    "월과 일은 각각 1번과 2번 인덱스에 위치한다.\n",
    "이를 이용하여 요일과 날짜를 출력하면 다음과 같다."
   ]
  },
  {
   "cell_type": "code",
   "execution_count": 37,
   "metadata": {},
   "outputs": [
    {
     "name": "stdout",
     "output_type": "stream",
     "text": [
      "날짜: 2024년 Apr월 14일\n"
     ]
    }
   ],
   "source": [
    "weekday = ctime_split[0]\n",
    "month = ctime_split[1]\n",
    "day = ctime_split[2]\n",
    "year = ctime_split[-1]\n",
    "\n",
    "print(\"날짜:\", f\"{year}년 {month}월 {day}일\")"
   ]
  },
  {
   "cell_type": "markdown",
   "metadata": {},
   "source": [
    "그런데 요일과 월 표현이 모두 영어 단어로 되어 있어서 매우 어색하다.\n",
    "한글 요일로 변환하기 위해 `weekdays_en`과 `weekday_kr` 리스트를 이용한다.\n",
    "이때 리스트의 `index()` 메서드를 다음과 같이 활용한다."
   ]
  },
  {
   "cell_type": "code",
   "execution_count": 38,
   "metadata": {},
   "outputs": [
    {
     "data": {
      "text/plain": [
       "'일'"
      ]
     },
     "execution_count": 38,
     "metadata": {},
     "output_type": "execute_result"
    }
   ],
   "source": [
    "weekday_index = weekdays_en.index(weekday)\n",
    "weekday_kr = weekdays_kr[weekday_index]\n",
    "weekday_kr"
   ]
  },
  {
   "cell_type": "markdown",
   "metadata": {},
   "source": [
    "영어식 월 표현을 숫자로 변환하는 것은 보다 간단하다."
   ]
  },
  {
   "cell_type": "code",
   "execution_count": 39,
   "metadata": {},
   "outputs": [
    {
     "data": {
      "text/plain": [
       "4"
      ]
     },
     "execution_count": 39,
     "metadata": {},
     "output_type": "execute_result"
    }
   ],
   "source": [
    "month_kr = months_en.index(month) + 1\n",
    "month_kr"
   ]
  },
  {
   "cell_type": "markdown",
   "metadata": {},
   "source": [
    "위 내용을 이용하여 `today()` 함수를 다음과 같이 구현한다."
   ]
  },
  {
   "cell_type": "code",
   "execution_count": 40,
   "metadata": {
    "id": "Zy1oRDipLoZk"
   },
   "outputs": [],
   "source": [
    "def today():\n",
    "    ctime_split = current_time.split()\n",
    "    weekday = ctime_split[0]\n",
    "    month = ctime_split[1]\n",
    "    day = ctime_split[2]\n",
    "    year = ctime_split[-1]\n",
    "    \n",
    "    weekday_index = weekdays_en.index(weekday)\n",
    "    weekday_kr = weekdays_kr[weekday_index]\n",
    "    \n",
    "    month_kr = months_en.index(month) + 1\n",
    "\n",
    "    print(\"날짜:\", f\"{year}년 {month_kr}월 {day}일\")"
   ]
  },
  {
   "cell_type": "code",
   "execution_count": 41,
   "metadata": {
    "id": "Zy1oRDipLoZk"
   },
   "outputs": [
    {
     "name": "stdout",
     "output_type": "stream",
     "text": [
      "날짜: 2024년 4월 14일\n"
     ]
    }
   ],
   "source": [
    "today()"
   ]
  },
  {
   "cell_type": "markdown",
   "metadata": {},
   "source": [
    "## 문제 6"
   ]
  },
  {
   "cell_type": "markdown",
   "metadata": {},
   "source": [
    "`fruits` 변수가 아래와 같이 과일 이름으로 구성된 문자열을 가리킨다."
   ]
  },
  {
   "cell_type": "code",
   "execution_count": 42,
   "metadata": {},
   "outputs": [],
   "source": [
    "fruits = \"banana apple orange pineapple mango strawberry cherry\""
   ]
  },
  {
   "cell_type": "markdown",
   "metadata": {},
   "source": [
    "`fruits` 변수를 이용하여 아래 문자열을 생성하는 코드를 작성하라.\n",
    "\n",
    "```\n",
    "Banana, Apple, Orange, Pineapple, Mango, Strawberry, Cherry\n",
    "```\n",
    "힌트: 문자열 `split()`, `capitalize()`, `join()` 메서드 활용"
   ]
  },
  {
   "cell_type": "markdown",
   "metadata": {},
   "source": [
    "**답**"
   ]
  },
  {
   "cell_type": "markdown",
   "metadata": {},
   "source": [
    "먼저 공백을 기준으로 쪼개면 과일 이름으로 구성된 리스트가 생성된다."
   ]
  },
  {
   "cell_type": "code",
   "execution_count": 43,
   "metadata": {},
   "outputs": [
    {
     "data": {
      "text/plain": [
       "['banana', 'apple', 'orange', 'pineapple', 'mango', 'strawberry', 'cherry']"
      ]
     },
     "execution_count": 43,
     "metadata": {},
     "output_type": "execute_result"
    }
   ],
   "source": [
    "fruits_list = fruits.split()\n",
    "fruits_list"
   ]
  },
  {
   "cell_type": "markdown",
   "metadata": {},
   "source": [
    "`for` 반목문과 리스트 인덱싱을 이용하여 각각의 과일명을 대문자로 시작하도록 하며\n",
    "이를 위해 `capitalize()` 메서드를 적용한다."
   ]
  },
  {
   "cell_type": "code",
   "execution_count": 44,
   "metadata": {},
   "outputs": [
    {
     "data": {
      "text/plain": [
       "['Banana', 'Apple', 'Orange', 'Pineapple', 'Mango', 'Strawberry', 'Cherry']"
      ]
     },
     "execution_count": 44,
     "metadata": {},
     "output_type": "execute_result"
    }
   ],
   "source": [
    "for i in range(len(fruits_list)):\n",
    "    fruits_list[i] = fruits_list[i].capitalize()\n",
    "    \n",
    "fruits_list"
   ]
  },
  {
   "cell_type": "markdown",
   "metadata": {},
   "source": [
    "`\", \" 문자열의 ``join()` 메서드를 `fruits_list`에 적용하면 쉼표로 구분된 과일명 문자열이 생성된다."
   ]
  },
  {
   "cell_type": "code",
   "execution_count": 45,
   "metadata": {},
   "outputs": [
    {
     "data": {
      "text/plain": [
       "'Banana, Apple, Orange, Pineapple, Mango, Strawberry, Cherry'"
      ]
     },
     "execution_count": 45,
     "metadata": {},
     "output_type": "execute_result"
    }
   ],
   "source": [
    "fruits_cap = \", \".join(fruits_list)\n",
    "\n",
    "fruits_cap"
   ]
  },
  {
   "cell_type": "markdown",
   "metadata": {},
   "source": [
    "설명을 정리하면 다음과 같다."
   ]
  },
  {
   "cell_type": "code",
   "execution_count": 46,
   "metadata": {},
   "outputs": [],
   "source": [
    "fruits_list = fruits.split()\n",
    "\n",
    "for i in range(len(fruits_list)):\n",
    "    fruits_list[i] = fruits_list[i].capitalize()\n",
    "    \n",
    "fruits_cap = \", \".join(fruits_list)"
   ]
  },
  {
   "cell_type": "code",
   "execution_count": 47,
   "metadata": {},
   "outputs": [
    {
     "data": {
      "text/plain": [
       "'Banana, Apple, Orange, Pineapple, Mango, Strawberry, Cherry'"
      ]
     },
     "execution_count": 47,
     "metadata": {},
     "output_type": "execute_result"
    }
   ],
   "source": [
    "fruits_cap"
   ]
  },
  {
   "cell_type": "markdown",
   "metadata": {},
   "source": [
    "## 문제 7"
   ]
  },
  {
   "cell_type": "markdown",
   "metadata": {},
   "source": [
    "ROT13 은 단어의 각 문자를 13 자리만큼 회전시키는 방식의 간단한 암호 법이다. \n",
    "문자를 회전한다는 것은 알파벳 상의 위치를 이동한다는 뜻이다. \n",
    "예를 들어, `'a'` 를 3 만큼 이동하면 `'d'` 가, \n",
    "`'z'` 를 1 만큼 이동하면 `'a'` 가 된다."
   ]
  },
  {
   "cell_type": "markdown",
   "metadata": {},
   "source": [
    "**질문 1**"
   ]
  },
  {
   "cell_type": "markdown",
   "metadata": {},
   "source": [
    "다음 하나의 매개변수를 사용하는 `encrypt()` 함수를 구현하라.\n",
    "\n",
    "- `word`: 영어 문장 문자열\n",
    "\n",
    "함수의 반환값은 문장에 포함된 모든 영어 알파벳을 13 자리만큼 회전시킨 문자열이다.\n",
    "단, 모든 문자는 소문자로 변환한다.\n",
    "또한 `ord()` 함수와 `chr()` 함수를 반드시 활용한다."
   ]
  },
  {
   "cell_type": "markdown",
   "metadata": {},
   "source": [
    "**답**"
   ]
  },
  {
   "cell_type": "markdown",
   "metadata": {},
   "source": [
    "먼저 `ord()` 함수와 `ch()` 함수의 기능을 알아 본다."
   ]
  },
  {
   "cell_type": "markdown",
   "metadata": {},
   "source": [
    "**`ord()` 함수**"
   ]
  },
  {
   "cell_type": "markdown",
   "metadata": {},
   "source": [
    "`ord()` 함수는 문자열에 사용될 수 있는 각각의 유니코드 기호에 정수를 부여한다. \n",
    "예를 들어 숫자 0에서 9까지의 정수 숫자 문자열은 48부터 57까지의 정수가 부여되었다."
   ]
  },
  {
   "cell_type": "code",
   "execution_count": 48,
   "metadata": {},
   "outputs": [
    {
     "data": {
      "text/plain": [
       "48"
      ]
     },
     "execution_count": 48,
     "metadata": {},
     "output_type": "execute_result"
    }
   ],
   "source": [
    "ord('0')"
   ]
  },
  {
   "cell_type": "code",
   "execution_count": 49,
   "metadata": {},
   "outputs": [
    {
     "data": {
      "text/plain": [
       "57"
      ]
     },
     "execution_count": 49,
     "metadata": {},
     "output_type": "execute_result"
    }
   ],
   "source": [
    "ord('9')"
   ]
  },
  {
   "cell_type": "markdown",
   "metadata": {},
   "source": [
    "영어 소문자 알파벳 `a`부터 `z`까지 26개에 대해서는 97부터 122가 부여되었다."
   ]
  },
  {
   "cell_type": "code",
   "execution_count": 50,
   "metadata": {},
   "outputs": [
    {
     "data": {
      "text/plain": [
       "97"
      ]
     },
     "execution_count": 50,
     "metadata": {},
     "output_type": "execute_result"
    }
   ],
   "source": [
    "ord('a')"
   ]
  },
  {
   "cell_type": "code",
   "execution_count": 51,
   "metadata": {},
   "outputs": [
    {
     "data": {
      "text/plain": [
       "122"
      ]
     },
     "execution_count": 51,
     "metadata": {},
     "output_type": "execute_result"
    }
   ],
   "source": [
    "ord('z')"
   ]
  },
  {
   "cell_type": "markdown",
   "metadata": {},
   "source": [
    "반면에 영어 대문자 알파벳 `A`부터 `Z`까지 26개에 대해서는 65부터 90이 부여되었다."
   ]
  },
  {
   "cell_type": "code",
   "execution_count": 52,
   "metadata": {},
   "outputs": [
    {
     "data": {
      "text/plain": [
       "65"
      ]
     },
     "execution_count": 52,
     "metadata": {},
     "output_type": "execute_result"
    }
   ],
   "source": [
    "ord('A')"
   ]
  },
  {
   "cell_type": "code",
   "execution_count": 53,
   "metadata": {},
   "outputs": [
    {
     "data": {
      "text/plain": [
       "90"
      ]
     },
     "execution_count": 53,
     "metadata": {},
     "output_type": "execute_result"
    }
   ],
   "source": [
    "ord('Z')"
   ]
  },
  {
   "cell_type": "markdown",
   "metadata": {},
   "source": [
    "**`chr()` 함수**"
   ]
  },
  {
   "cell_type": "markdown",
   "metadata": {},
   "source": [
    "`chr()` 함수는 `ord` 함수의 역함수에 해당한다.\n",
    "즉, 정수를 하나의 기호에 대응시킨다.\n",
    "\n",
    "예를 들어 48부터 57까지는 숫자 기호 `'0'`부터 `'9'`에 대응시킨다."
   ]
  },
  {
   "cell_type": "code",
   "execution_count": 54,
   "metadata": {},
   "outputs": [
    {
     "data": {
      "text/plain": [
       "'0'"
      ]
     },
     "execution_count": 54,
     "metadata": {},
     "output_type": "execute_result"
    }
   ],
   "source": [
    "chr(48)"
   ]
  },
  {
   "cell_type": "code",
   "execution_count": 55,
   "metadata": {},
   "outputs": [
    {
     "data": {
      "text/plain": [
       "'9'"
      ]
     },
     "execution_count": 55,
     "metadata": {},
     "output_type": "execute_result"
    }
   ],
   "source": [
    "chr(57)"
   ]
  },
  {
   "cell_type": "markdown",
   "metadata": {},
   "source": [
    "97부터 122까지는 영어 소문자 알파벳 `'a'`부터 `'z'`로 대응시킨다."
   ]
  },
  {
   "cell_type": "code",
   "execution_count": 56,
   "metadata": {},
   "outputs": [
    {
     "data": {
      "text/plain": [
       "'a'"
      ]
     },
     "execution_count": 56,
     "metadata": {},
     "output_type": "execute_result"
    }
   ],
   "source": [
    "chr(97)"
   ]
  },
  {
   "cell_type": "code",
   "execution_count": 57,
   "metadata": {},
   "outputs": [
    {
     "data": {
      "text/plain": [
       "'z'"
      ]
     },
     "execution_count": 57,
     "metadata": {},
     "output_type": "execute_result"
    }
   ],
   "source": [
    "chr(122)"
   ]
  },
  {
   "cell_type": "markdown",
   "metadata": {},
   "source": [
    "65부터 90까지는 영어 대문자 알파벳 `'A'`부터 `'Z'`로 대응시킨다."
   ]
  },
  {
   "cell_type": "code",
   "execution_count": 58,
   "metadata": {},
   "outputs": [
    {
     "data": {
      "text/plain": [
       "'A'"
      ]
     },
     "execution_count": 58,
     "metadata": {},
     "output_type": "execute_result"
    }
   ],
   "source": [
    "chr(65)"
   ]
  },
  {
   "cell_type": "code",
   "execution_count": 59,
   "metadata": {},
   "outputs": [
    {
     "data": {
      "text/plain": [
       "'Z'"
      ]
     },
     "execution_count": 59,
     "metadata": {},
     "output_type": "execute_result"
    }
   ],
   "source": [
    "chr(90)"
   ]
  },
  {
   "cell_type": "code",
   "execution_count": 60,
   "metadata": {},
   "outputs": [
    {
     "data": {
      "text/plain": [
       "'m'"
      ]
     },
     "execution_count": 60,
     "metadata": {},
     "output_type": "execute_result"
    }
   ],
   "source": [
    "chr(109)"
   ]
  },
  {
   "cell_type": "markdown",
   "metadata": {},
   "source": [
    "영어 소문자 알파벳은 총 26개이에 각각의 알파벳 `char`를 13 자리만큼 회전시키면\n",
    "`ord(char)` 값에 따라 다르게 계산된다.\n",
    "\n",
    "- `97 <= ord(char) <= 109`인 경우, 즉 영어 소문자 `'a'`부터 `'m'`까지의 알파벳인 경우: `ord(char)`에 13을 더해준 값에 해당하는 알파벳\n",
    "- `109 <= ord(char) <= 122`인 경우, 즉 영어 소문자 `'n'`부터 `'z'`까지의 알파벳인 경우: `ord(char)`에서 13을 빼준 값에 해당하는 알파벳"
   ]
  },
  {
   "cell_type": "markdown",
   "metadata": {},
   "source": [
    "따라서 모두 소문자로 변환한 다음에 각각의 알파벳을 13 자리만큼 회전시킨 결과로 구성된\n",
    "문자열 아래 `encrypt()` 함수로 계산한다."
   ]
  },
  {
   "cell_type": "code",
   "execution_count": 61,
   "metadata": {},
   "outputs": [],
   "source": [
    "def encrypt(text):\n",
    "    encrypted = \"\"\n",
    "    \n",
    "    for char in text.lower():\n",
    "        if 97 <= ord(char) <= 109:\n",
    "            encrypted += chr(ord(char) + 13)\n",
    "        elif 109 < ord(char) <= 122:\n",
    "            encrypted += chr(ord(char) - 13)\n",
    "        else:\n",
    "            encrypted += char\n",
    "            \n",
    "    return encrypted       "
   ]
  },
  {
   "cell_type": "code",
   "execution_count": 62,
   "metadata": {},
   "outputs": [
    {
     "data": {
      "text/plain": [
       "'v ybir clguba'"
      ]
     },
     "execution_count": 62,
     "metadata": {},
     "output_type": "execute_result"
    }
   ],
   "source": [
    "encrypt('I love python')"
   ]
  },
  {
   "cell_type": "code",
   "execution_count": 63,
   "metadata": {},
   "outputs": [
    {
     "data": {
      "text/plain": [
       "'i love python'"
      ]
     },
     "execution_count": 63,
     "metadata": {},
     "output_type": "execute_result"
    }
   ],
   "source": [
    "encrypt(encrypt('I love python'))"
   ]
  },
  {
   "cell_type": "code",
   "execution_count": 64,
   "metadata": {},
   "outputs": [
    {
     "data": {
      "text/plain": [
       "'oryvrir zr!'"
      ]
     },
     "execution_count": 64,
     "metadata": {},
     "output_type": "execute_result"
    }
   ],
   "source": [
    "encrypt('Believe me!')"
   ]
  },
  {
   "cell_type": "markdown",
   "metadata": {},
   "source": [
    "**질문 2**"
   ]
  },
  {
   "cell_type": "markdown",
   "metadata": {},
   "source": [
    "소문자와 대문자를 그대로 유지하도록 `encrypt()` 함수를 수정하라."
   ]
  },
  {
   "cell_type": "markdown",
   "metadata": {},
   "source": [
    "**답**"
   ]
  },
  {
   "cell_type": "markdown",
   "metadata": {},
   "source": [
    "대소문자에 따라 `if ... elif ... else... ` 조건식을 사용하면 된다.\n",
    "대문자의 구분은 숫자만 다를 뿐 소문자의 구분과 동일하다."
   ]
  },
  {
   "cell_type": "code",
   "execution_count": 65,
   "metadata": {},
   "outputs": [],
   "source": [
    "def encrypt(text):\n",
    "    encrypted = \"\"\n",
    "    \n",
    "    for char in text:\n",
    "        if char.isupper():\n",
    "            if 65 <= ord(char) <= 77:\n",
    "                encrypted += chr(ord(char) + 13)\n",
    "            else:\n",
    "                encrypted += chr(ord(char) - 13)\n",
    "        elif char.islower():\n",
    "            if 97 <= ord(char) <= 109:\n",
    "                encrypted += chr(ord(char) + 13)\n",
    "            else:\n",
    "                encrypted += chr(ord(char) - 13)\n",
    "        else:\n",
    "            encrypted += char\n",
    "            \n",
    "    return encrypted       "
   ]
  },
  {
   "cell_type": "code",
   "execution_count": 66,
   "metadata": {},
   "outputs": [
    {
     "data": {
      "text/plain": [
       "'V ybir clguba'"
      ]
     },
     "execution_count": 66,
     "metadata": {},
     "output_type": "execute_result"
    }
   ],
   "source": [
    "encrypt('I love python')"
   ]
  },
  {
   "cell_type": "code",
   "execution_count": 67,
   "metadata": {},
   "outputs": [
    {
     "data": {
      "text/plain": [
       "'I love python'"
      ]
     },
     "execution_count": 67,
     "metadata": {},
     "output_type": "execute_result"
    }
   ],
   "source": [
    "encrypt(encrypt('I love python'))"
   ]
  },
  {
   "cell_type": "code",
   "execution_count": 68,
   "metadata": {},
   "outputs": [
    {
     "data": {
      "text/plain": [
       "'Oryvrir zr!'"
      ]
     },
     "execution_count": 68,
     "metadata": {},
     "output_type": "execute_result"
    }
   ],
   "source": [
    "encrypt('Believe me!')"
   ]
  }
 ],
 "metadata": {
  "colab": {
   "authorship_tag": "ABX9TyMc9fB9lcJwW8sP+Iso3pm1",
   "collapsed_sections": [],
   "name": "실습답안3.ipynb",
   "provenance": []
  },
  "kernelspec": {
   "display_name": "Python 3 (ipykernel)",
   "language": "python",
   "name": "python3"
  },
  "language_info": {
   "codemirror_mode": {
    "name": "ipython",
    "version": 3
   },
   "file_extension": ".py",
   "mimetype": "text/x-python",
   "name": "python",
   "nbconvert_exporter": "python",
   "pygments_lexer": "ipython3",
   "version": "3.11.5"
  }
 },
 "nbformat": 4,
 "nbformat_minor": 1
}
