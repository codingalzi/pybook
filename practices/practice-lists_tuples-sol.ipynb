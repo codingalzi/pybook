{
 "cells": [
  {
   "cell_type": "markdown",
   "metadata": {
    "id": "4355d4f8"
   },
   "source": [
    "# (실습) 리스트와 튜플"
   ]
  },
  {
   "cell_type": "markdown",
   "metadata": {
    "id": "5140d50d"
   },
   "source": [
    "**참고 사항**\n",
    "\n",
    "먼저\n",
    "[리스트와 튜플](https://codingalzi.github.io/pybook/lists_tuples.html)의 내용과\n",
    "[(필수 예제) 리스트와 튜플](https://colab.research.google.com/github/codingalzi/pybook/blob/master/examples/examples-lists_tuples.ipynb)의 예제들을 학습하세요."
   ]
  },
  {
   "cell_type": "markdown",
   "metadata": {
    "id": "a0a20bd6"
   },
   "source": [
    "**주의 사항**\n",
    "\n",
    "* 기존에 작성된 코드 셀과 텍스트 셀은 수정하지 않는다.\n",
    "* 필요한 경우 코드 셀 또는 텍스트 셀을 추가해서 사용한다.\n",
    "* 실습 파일을 제출할 때 구글 드라이브의 링크를 이용하여 누구나 공유할 수 있도록 설정한다."
   ]
  },
  {
   "cell_type": "markdown",
   "metadata": {
    "id": "bLJ9efwTVPTv"
   },
   "source": [
    "## 문제 1"
   ]
  },
  {
   "cell_type": "markdown",
   "metadata": {
    "id": "gSF_tBKvfg9V"
   },
   "source": [
    "4중으로 중첩된 리스트를 아래와 같이 선언한다.\n"
   ]
  },
  {
   "cell_type": "code",
   "execution_count": 1,
   "metadata": {
    "executionInfo": {
     "elapsed": 14,
     "status": "ok",
     "timestamp": 1714608543939,
     "user": {
      "displayName": "liga nega",
      "userId": "04505461106310941438"
     },
     "user_tz": -540
    },
    "id": "o_m9NzFR1tD_"
   },
   "outputs": [],
   "source": [
    "a_nested_list = [0, [1, [2, [3, 4], 5]], 6, [7, 8, 9], 10]"
   ]
  },
  {
   "cell_type": "markdown",
   "metadata": {
    "id": "5UpuapMrnXfS"
   },
   "source": [
    "**질문 1**"
   ]
  },
  {
   "cell_type": "markdown",
   "metadata": {
    "id": "XQhmua9gVYYR"
   },
   "source": [
    "위 리스트에서 `7`을 확인하는 인덱싱 표현식을 정의하라."
   ]
  },
  {
   "cell_type": "markdown",
   "metadata": {
    "id": "-RB_64AbVuOD"
   },
   "source": [
    "**답**"
   ]
  },
  {
   "cell_type": "code",
   "execution_count": 2,
   "metadata": {
    "colab": {
     "base_uri": "https://localhost:8080/"
    },
    "executionInfo": {
     "elapsed": 12,
     "status": "ok",
     "timestamp": 1714608543940,
     "user": {
      "displayName": "liga nega",
      "userId": "04505461106310941438"
     },
     "user_tz": -540
    },
    "id": "oY_cICv31wP6",
    "outputId": "752f4da2-fc5d-4dfb-c176-02c64e2a8d0f"
   },
   "outputs": [
    {
     "data": {
      "text/plain": [
       "7"
      ]
     },
     "execution_count": 2,
     "metadata": {},
     "output_type": "execute_result"
    }
   ],
   "source": [
    "a_nested_list[3][0]"
   ]
  },
  {
   "cell_type": "markdown",
   "metadata": {
    "id": "GBa7ML6YnXfV"
   },
   "source": [
    "**질문 2**"
   ]
  },
  {
   "cell_type": "markdown",
   "metadata": {
    "id": "PusdXITPgxVB"
   },
   "source": [
    "위 리스트에서 `[2, [3, 4], 5]`를 확인하는 인덱싱 표현식을 정의하라."
   ]
  },
  {
   "cell_type": "markdown",
   "metadata": {
    "id": "9ZuLleOpV6Ti"
   },
   "source": [
    "**답**"
   ]
  },
  {
   "cell_type": "code",
   "execution_count": 3,
   "metadata": {
    "colab": {
     "base_uri": "https://localhost:8080/"
    },
    "executionInfo": {
     "elapsed": 361,
     "status": "ok",
     "timestamp": 1714609114410,
     "user": {
      "displayName": "liga nega",
      "userId": "04505461106310941438"
     },
     "user_tz": -540
    },
    "id": "U4z-dGTH1-0V",
    "outputId": "a7d403b1-eb63-4d82-b1b1-35c54ac7a473"
   },
   "outputs": [
    {
     "data": {
      "text/plain": [
       "[2, [3, 4], 5]"
      ]
     },
     "execution_count": 3,
     "metadata": {},
     "output_type": "execute_result"
    }
   ],
   "source": [
    "a_nested_list[1][1]"
   ]
  },
  {
   "cell_type": "markdown",
   "metadata": {
    "id": "Dhoz9lUOnXfX"
   },
   "source": [
    "**질문 3**"
   ]
  },
  {
   "cell_type": "markdown",
   "metadata": {
    "id": "j_7rd4kFgV4o"
   },
   "source": [
    "위 리스트에서 4를 확인하는 인덱싱 표현식을 정의하라."
   ]
  },
  {
   "cell_type": "markdown",
   "metadata": {
    "id": "RB3T1MTPWGRL"
   },
   "source": [
    "**답**"
   ]
  },
  {
   "cell_type": "code",
   "execution_count": 4,
   "metadata": {
    "colab": {
     "base_uri": "https://localhost:8080/"
    },
    "executionInfo": {
     "elapsed": 5,
     "status": "ok",
     "timestamp": 1714609115358,
     "user": {
      "displayName": "liga nega",
      "userId": "04505461106310941438"
     },
     "user_tz": -540
    },
    "id": "Ht0G8w-Z2KBv",
    "outputId": "7f8fadd9-8260-451b-ab3e-1adba923c77b"
   },
   "outputs": [
    {
     "data": {
      "text/plain": [
       "4"
      ]
     },
     "execution_count": 4,
     "metadata": {},
     "output_type": "execute_result"
    }
   ],
   "source": [
    "a_nested_list[1][1][1][1]"
   ]
  },
  {
   "cell_type": "markdown",
   "metadata": {
    "id": "AvifUNZOvSkU"
   },
   "source": [
    "## 문제 2"
   ]
  },
  {
   "cell_type": "markdown",
   "metadata": {
    "id": "O_u0yqUOS_24"
   },
   "source": [
    "0부터 10까지의 수 중에서 3의 배수를 제외한 항목으로 이루어진 리스트를\n",
    "생성하도록 아래 코드를 완성하라.\n",
    "즉, `list10` 변수는 최종적으로 아래 값을 가리켜야 한다.\n",
    "\n",
    "```python\n",
    "[1, 2, 4, 5, 7, 8, 10]\n",
    "```\n",
    "\n",
    "단, `for` 반복문과 `continue` 명령문을 활용한다."
   ]
  },
  {
   "cell_type": "markdown",
   "metadata": {
    "id": "fGjrEpKqnXfY"
   },
   "source": [
    "**답**"
   ]
  },
  {
   "cell_type": "code",
   "execution_count": 5,
   "metadata": {
    "colab": {
     "base_uri": "https://localhost:8080/"
    },
    "executionInfo": {
     "elapsed": 317,
     "status": "ok",
     "timestamp": 1714609253006,
     "user": {
      "displayName": "liga nega",
      "userId": "04505461106310941438"
     },
     "user_tz": -540
    },
    "id": "glnrGCIZvuwT",
    "outputId": "b4071886-6891-4b2d-c039-f31422e5fcba"
   },
   "outputs": [
    {
     "name": "stdout",
     "output_type": "stream",
     "text": [
      "[1, 2, 4, 5, 7, 8, 10]\n"
     ]
    }
   ],
   "source": [
    "list10 = []\n",
    "\n",
    "for num in range(0, 11):\n",
    "    if num % 3 == 0:\n",
    "        continue\n",
    "\n",
    "    list10.append(num)\n",
    "\n",
    "print(list10)"
   ]
  },
  {
   "cell_type": "markdown",
   "metadata": {
    "id": "gnGXWpHPXRj6"
   },
   "source": [
    "## 문제 3"
   ]
  },
  {
   "cell_type": "markdown",
   "metadata": {
    "id": "rOtfcGMwjxwI"
   },
   "source": [
    "아래 리스트가 주어졌다.\n",
    "\n",
    "    ['dog', 'cat']\n",
    "\n",
    "위 리스트에 아래 리스트를 마지막 항목으로 추가한 새로운 리스트를 생성하라.\n",
    "\n",
    "    ['tiger', 'eagle']\n",
    "\n",
    "생성된 리스트는 아래 모양이어야 한다.\n",
    "\n",
    "    ['dog', 'cat', ['tiger', 'eagle']]\n",
    "\n",
    "단, 리스트의 메서드만 활용해야 한다."
   ]
  },
  {
   "cell_type": "markdown",
   "metadata": {
    "id": "qpzkgG1ZX1Ve"
   },
   "source": [
    "**답**"
   ]
  },
  {
   "cell_type": "markdown",
   "metadata": {
    "id": "8QeD0HIylIT-"
   },
   "source": [
    "`append()` 메소드를 이용한다."
   ]
  },
  {
   "cell_type": "code",
   "execution_count": 6,
   "metadata": {
    "colab": {
     "base_uri": "https://localhost:8080/"
    },
    "executionInfo": {
     "elapsed": 416,
     "status": "ok",
     "timestamp": 1714609341482,
     "user": {
      "displayName": "liga nega",
      "userId": "04505461106310941438"
     },
     "user_tz": -540
    },
    "id": "LZSffzHA4o6N",
    "outputId": "594f6ead-c9de-4cbf-e526-97a6dc55a918"
   },
   "outputs": [
    {
     "name": "stdout",
     "output_type": "stream",
     "text": [
      "['dog', 'cat', ['tiger', 'eagle']]\n"
     ]
    }
   ],
   "source": [
    "animal = ['dog', 'cat']\n",
    "animal.append(['tiger', 'eagle'])\n",
    "print(animal)"
   ]
  },
  {
   "cell_type": "markdown",
   "metadata": {
    "id": "CL0sgjc7lLF8"
   },
   "source": [
    "또는 `extend()` 메소드를 이용할 수도 있다."
   ]
  },
  {
   "cell_type": "code",
   "execution_count": 7,
   "metadata": {
    "colab": {
     "base_uri": "https://localhost:8080/"
    },
    "executionInfo": {
     "elapsed": 4,
     "status": "ok",
     "timestamp": 1714609341935,
     "user": {
      "displayName": "liga nega",
      "userId": "04505461106310941438"
     },
     "user_tz": -540
    },
    "id": "hExv0_mw4vNL",
    "outputId": "9f0e6ada-895a-4eb8-d791-2adfd2a5c087"
   },
   "outputs": [
    {
     "name": "stdout",
     "output_type": "stream",
     "text": [
      "['dog', 'cat', ['tiger', 'eagle']]\n"
     ]
    }
   ],
   "source": [
    "animal = ['dog', 'cat']\n",
    "animal.extend([['tiger', 'eagle']])\n",
    "print(animal)"
   ]
  },
  {
   "cell_type": "markdown",
   "metadata": {
    "id": "9aKR0Xh6YObm"
   },
   "source": [
    "## 문제 4"
   ]
  },
  {
   "cell_type": "markdown",
   "metadata": {
    "id": "6rbBfU4zeMtO"
   },
   "source": [
    "영어 단어 인자와 함께 호출되면 알파벳순으로 정렬된 문자열을 반환하는 `abc()` 함수를 구현하라.\n",
    "예를 들어 다음과 같이 작동해야 한다.\n",
    "\n",
    "```\n",
    ">>> abc('dog')\n",
    "'dgo'\n",
    "```\n",
    "\n",
    "힌트: 리스트 정렬"
   ]
  },
  {
   "cell_type": "markdown",
   "metadata": {
    "id": "CFd_qTs8YtEC"
   },
   "source": [
    "**답**"
   ]
  },
  {
   "cell_type": "markdown",
   "metadata": {
    "id": "jgLXjlpgaZZg"
   },
   "source": [
    "- 리스트 정렬 메서드 활용"
   ]
  },
  {
   "cell_type": "code",
   "execution_count": null,
   "metadata": {
    "id": "5ktqrX1umtyZ"
   },
   "outputs": [],
   "source": [
    "def abc(s):\n",
    "    list_s = list(s)\n",
    "    list_s.sort()\n",
    "\n",
    "    sorted_str = \"\"\n",
    "    for i in list_s:\n",
    "        sorted_str += i\n",
    "\n",
    "    return sorted_str"
   ]
  },
  {
   "cell_type": "code",
   "execution_count": null,
   "metadata": {
    "colab": {
     "base_uri": "https://localhost:8080/",
     "height": 35
    },
    "executionInfo": {
     "elapsed": 416,
     "status": "ok",
     "timestamp": 1714436968116,
     "user": {
      "displayName": "liga nega",
      "userId": "04505461106310941438"
     },
     "user_tz": -540
    },
    "id": "ncarNb5tZ_Rn",
    "outputId": "03c4a31d-0dd5-4b54-d70c-9ec866e10759"
   },
   "outputs": [
    {
     "data": {
      "text/plain": [
       "'dgo'"
      ]
     },
     "execution_count": 11,
     "metadata": {},
     "output_type": "execute_result"
    }
   ],
   "source": [
    "abc('dog')"
   ]
  },
  {
   "cell_type": "code",
   "execution_count": null,
   "metadata": {
    "colab": {
     "base_uri": "https://localhost:8080/",
     "height": 35
    },
    "executionInfo": {
     "elapsed": 346,
     "status": "ok",
     "timestamp": 1714436978774,
     "user": {
      "displayName": "liga nega",
      "userId": "04505461106310941438"
     },
     "user_tz": -540
    },
    "id": "ObEqXsvtaAnu",
    "outputId": "9247332c-66dd-42fa-c3ad-ca9348a64ed3"
   },
   "outputs": [
    {
     "data": {
      "text/plain": [
       "'hnopty'"
      ]
     },
     "execution_count": 12,
     "metadata": {},
     "output_type": "execute_result"
    }
   ],
   "source": [
    "abc(\"python\")"
   ]
  },
  {
   "cell_type": "markdown",
   "metadata": {
    "id": "edbLSoV7arwn"
   },
   "source": [
    "- `join()` 리스트 메서드 활용"
   ]
  },
  {
   "cell_type": "markdown",
   "metadata": {
    "id": "YxAVp86Faxsk"
   },
   "source": [
    "위 `abc()` 함수의 본문에 사용된 `for` 반복문은 사실 `join()` 메서드의 기능을 대신한다."
   ]
  },
  {
   "cell_type": "code",
   "execution_count": null,
   "metadata": {
    "id": "5_-FM6Kwa9Rc"
   },
   "outputs": [],
   "source": [
    "def abc(s):\n",
    "    list_s = list(s)\n",
    "    list_s.sort()\n",
    "\n",
    "    sorted_str = \"\".join(list_s)\n",
    "\n",
    "    return sorted_str"
   ]
  },
  {
   "cell_type": "code",
   "execution_count": null,
   "metadata": {
    "colab": {
     "base_uri": "https://localhost:8080/",
     "height": 35
    },
    "executionInfo": {
     "elapsed": 343,
     "status": "ok",
     "timestamp": 1714437263350,
     "user": {
      "displayName": "liga nega",
      "userId": "04505461106310941438"
     },
     "user_tz": -540
    },
    "id": "e8lLw28LbHjz",
    "outputId": "ab593c43-c058-49df-be06-2df8dad93b57"
   },
   "outputs": [
    {
     "data": {
      "text/plain": [
       "'dgo'"
      ]
     },
     "execution_count": 14,
     "metadata": {},
     "output_type": "execute_result"
    }
   ],
   "source": [
    "abc('dog')"
   ]
  },
  {
   "cell_type": "code",
   "execution_count": null,
   "metadata": {
    "colab": {
     "base_uri": "https://localhost:8080/",
     "height": 35
    },
    "executionInfo": {
     "elapsed": 9,
     "status": "ok",
     "timestamp": 1714437270159,
     "user": {
      "displayName": "liga nega",
      "userId": "04505461106310941438"
     },
     "user_tz": -540
    },
    "id": "bBdxv7SJbIuc",
    "outputId": "eea3ed22-9eb0-4447-b79c-792c6c81fb90"
   },
   "outputs": [
    {
     "data": {
      "text/plain": [
       "'hnopty'"
      ]
     },
     "execution_count": 15,
     "metadata": {},
     "output_type": "execute_result"
    }
   ],
   "source": [
    "abc('python')"
   ]
  },
  {
   "cell_type": "markdown",
   "metadata": {
    "id": "1e4sHPXiaeGX"
   },
   "source": [
    "- `sorted()` 함수 활용"
   ]
  },
  {
   "cell_type": "markdown",
   "metadata": {
    "id": "T4BUrj35bOjA"
   },
   "source": [
    "`sort()` 메서드는 해당 리스트 자체를 수정하며 반환값은 `None`이다.\n",
    "반면에 `sorted()` 함수는 수정된 리스트를 반환한다.\n",
    "따라서 두 함수의 활용법이 조금 다르다.\n",
    "\n",
    "아래 코드는 `sorted()` 함수와 문자열 `join()` 메서드를 활용하여 `abc()` 함수를 보다 간단하게 구현한다."
   ]
  },
  {
   "cell_type": "code",
   "execution_count": null,
   "metadata": {
    "id": "ieI2HSODsQe9"
   },
   "outputs": [],
   "source": [
    "def abc(s) :\n",
    "    list_s = list(s)\n",
    "    return \"\".join(sorted(list_s))"
   ]
  },
  {
   "cell_type": "code",
   "execution_count": null,
   "metadata": {
    "colab": {
     "base_uri": "https://localhost:8080/",
     "height": 35
    },
    "executionInfo": {
     "elapsed": 11,
     "status": "ok",
     "timestamp": 1714437473893,
     "user": {
      "displayName": "liga nega",
      "userId": "04505461106310941438"
     },
     "user_tz": -540
    },
    "id": "v4DAcqQfsTC3",
    "outputId": "076383c0-08a7-4381-d976-e88f7558ac6a"
   },
   "outputs": [
    {
     "data": {
      "text/plain": [
       "'dgo'"
      ]
     },
     "execution_count": 75,
     "metadata": {},
     "output_type": "execute_result"
    }
   ],
   "source": [
    "abc(\"dog\")"
   ]
  },
  {
   "cell_type": "code",
   "execution_count": null,
   "metadata": {
    "colab": {
     "base_uri": "https://localhost:8080/",
     "height": 35
    },
    "executionInfo": {
     "elapsed": 413,
     "status": "ok",
     "timestamp": 1714437480033,
     "user": {
      "displayName": "liga nega",
      "userId": "04505461106310941438"
     },
     "user_tz": -540
    },
    "id": "KiJONZPsb8FV",
    "outputId": "6c63ca17-5aca-45e0-b34e-4e5a46134343"
   },
   "outputs": [
    {
     "data": {
      "text/plain": [
       "'hnopty'"
      ]
     },
     "execution_count": 76,
     "metadata": {},
     "output_type": "execute_result"
    }
   ],
   "source": [
    "abc('python')"
   ]
  },
  {
   "cell_type": "markdown",
   "metadata": {
    "id": "OEQOneYynXfZ"
   },
   "source": [
    "## 문제 5"
   ]
  },
  {
   "cell_type": "markdown",
   "metadata": {
    "id": "ZE5Qej56nXfZ"
   },
   "source": [
    "메뉴와 가격이 공백으로 구분된 두 개의 문자열로 주어졌다."
   ]
  },
  {
   "cell_type": "code",
   "execution_count": null,
   "metadata": {
    "id": "kDYUWeFDnXfa"
   },
   "outputs": [],
   "source": [
    "menu = \"ham bread chicken egg\"\n",
    "prices = \"1200 5000 17000 500\""
   ]
  },
  {
   "cell_type": "markdown",
   "metadata": {
    "id": "DuFZKY50nXfa"
   },
   "source": [
    "가장 저렴한 메뉴와 가장 비싼 메뉴를 추천하는 문자열을\n",
    "다음과 같이 출력하는 프로그램을 구현하라.\n",
    "\n",
    "```python\n",
    "가장 저렴한 메뉴: egg  \n",
    "가장 비  싼 메뉴: chicken  \n",
    "```\n",
    "\n",
    "힌트: 문자열 `split()` 메서드와 `zip()` 함수, 리스트 `sort()` 메서드 활용"
   ]
  },
  {
   "cell_type": "markdown",
   "metadata": {
    "id": "9k_Nwj1onXfa"
   },
   "source": [
    "**답**"
   ]
  },
  {
   "cell_type": "code",
   "execution_count": null,
   "metadata": {
    "id": "A0XFApe3nXfa",
    "outputId": "66d0f183-0761-41cf-d4f4-d03e579ec0d0"
   },
   "outputs": [
    {
     "name": "stdout",
     "output_type": "stream",
     "text": [
      "가장 저렴한 메뉴: egg\n",
      "가장 비  싼 메뉴: chicken\n"
     ]
    }
   ],
   "source": [
    "menu_list = menu.split()\n",
    "prices_list = prices.split()\n",
    "\n",
    "menu_prices = list(zip(menu_list, prices_list))\n",
    "menu_prices.sort(key=lambda x: int(x[1]))\n",
    "\n",
    "print(f\"가장 저렴한 메뉴: {menu_prices[0][0]}\")\n",
    "print(f\"가장 비  싼 메뉴: {menu_prices[-1][0]}\")\n"
   ]
  },
  {
   "cell_type": "markdown",
   "metadata": {
    "id": "gaOaOgqCVDRc"
   },
   "source": [
    "## 문제 6"
   ]
  },
  {
   "cell_type": "markdown",
   "metadata": {
    "id": "3-giu8MsVDRX"
   },
   "source": [
    "6명의 정보가 다음과 같다."
   ]
  },
  {
   "cell_type": "code",
   "execution_count": 8,
   "metadata": {
    "executionInfo": {
     "elapsed": 356,
     "status": "ok",
     "timestamp": 1714610404565,
     "user": {
      "displayName": "liga nega",
      "userId": "04505461106310941438"
     },
     "user_tz": -540
    },
    "id": "OTRtTsv1VDRX"
   },
   "outputs": [],
   "source": [
    "kgh = ['김강현', '010-1234-5678', 20, 172.3, '제주']\n",
    "whang = ['황현', '02-9871-1234', 19, 163.5, '서울']\n",
    "namgung = ['남세원', '010-3456-7891', 21, 156.7, '경기']\n",
    "choihs = ['최흥선', '070-4321-1111', 21, 187.2, '부산']\n",
    "sjkim = ['김현선', '010-3333-8888', 22, 164.6, '광주']\n",
    "ja = ['함중아', '010-7654-2345', 18, 178.3, '강원']"
   ]
  },
  {
   "cell_type": "markdown",
   "metadata": {
    "id": "HZjMe9FOVDRY"
   },
   "source": [
    "6명의 정보를 하나의 리스트로 묶는다."
   ]
  },
  {
   "cell_type": "code",
   "execution_count": 9,
   "metadata": {
    "colab": {
     "base_uri": "https://localhost:8080/"
    },
    "executionInfo": {
     "elapsed": 4,
     "status": "ok",
     "timestamp": 1714610406022,
     "user": {
      "displayName": "liga nega",
      "userId": "04505461106310941438"
     },
     "user_tz": -540
    },
    "id": "CuT5NcBVVDRY",
    "outputId": "87b22e33-cb8b-4c76-87e4-41ffc31c1a7d"
   },
   "outputs": [
    {
     "data": {
      "text/plain": [
       "[['김강현', '010-1234-5678', 20, 172.3, '제주'],\n",
       " ['황현', '02-9871-1234', 19, 163.5, '서울'],\n",
       " ['남세원', '010-3456-7891', 21, 156.7, '경기'],\n",
       " ['최흥선', '070-4321-1111', 21, 187.2, '부산'],\n",
       " ['김현선', '010-3333-8888', 22, 164.6, '광주'],\n",
       " ['함중아', '010-7654-2345', 18, 178.3, '강원']]"
      ]
     },
     "execution_count": 9,
     "metadata": {},
     "output_type": "execute_result"
    }
   ],
   "source": [
    "info_list = [kgh, whang, namgung, choihs, sjkim, ja]\n",
    "info_list"
   ]
  },
  {
   "cell_type": "markdown",
   "metadata": {
    "id": "JKgviE-TnwNt"
   },
   "source": [
    "**질문 1**"
   ]
  },
  {
   "cell_type": "markdown",
   "metadata": {
    "id": "6ytih2xZnwNt"
   },
   "source": [
    "`info_list`를 이름 순으로 정렬하라.\n",
    "\n",
    "힌트: `sort()` 메서드 활용"
   ]
  },
  {
   "cell_type": "markdown",
   "metadata": {
    "id": "sGnenxYwnwNt"
   },
   "source": [
    "**답**"
   ]
  },
  {
   "cell_type": "markdown",
   "metadata": {
    "id": "5TpmLQTtnwNt"
   },
   "source": [
    "`sort()` 메서드는 리스트의 항목들이 모두 리스트인 경우 첫째 항목의 크기를 기준으로 정렬한다."
   ]
  },
  {
   "cell_type": "code",
   "execution_count": 10,
   "metadata": {
    "colab": {
     "base_uri": "https://localhost:8080/"
    },
    "executionInfo": {
     "elapsed": 452,
     "status": "ok",
     "timestamp": 1714610590979,
     "user": {
      "displayName": "liga nega",
      "userId": "04505461106310941438"
     },
     "user_tz": -540
    },
    "id": "6SJ13sLPnwNt",
    "outputId": "26802358-0f88-48a6-a867-ca337e7d5b74"
   },
   "outputs": [
    {
     "data": {
      "text/plain": [
       "[['김강현', '010-1234-5678', 20, 172.3, '제주'],\n",
       " ['김현선', '010-3333-8888', 22, 164.6, '광주'],\n",
       " ['남세원', '010-3456-7891', 21, 156.7, '경기'],\n",
       " ['최흥선', '070-4321-1111', 21, 187.2, '부산'],\n",
       " ['함중아', '010-7654-2345', 18, 178.3, '강원'],\n",
       " ['황현', '02-9871-1234', 19, 163.5, '서울']]"
      ]
     },
     "execution_count": 10,
     "metadata": {},
     "output_type": "execute_result"
    }
   ],
   "source": [
    "info_list.sort()\n",
    "info_list"
   ]
  },
  {
   "cell_type": "markdown",
   "metadata": {
    "id": "9Sm0X8qnnwNt"
   },
   "source": [
    "**질문 2**"
   ]
  },
  {
   "cell_type": "markdown",
   "metadata": {
    "id": "sBQTTqw8VDRZ"
   },
   "source": [
    "추가로 6명의 몸무게로 구성된 리스트를 가리키는 `weights` 변수를 선언한다."
   ]
  },
  {
   "cell_type": "code",
   "execution_count": 11,
   "metadata": {
    "executionInfo": {
     "elapsed": 461,
     "status": "ok",
     "timestamp": 1714610679037,
     "user": {
      "displayName": "liga nega",
      "userId": "04505461106310941438"
     },
     "user_tz": -540
    },
    "id": "57X0DKq5VDRZ"
   },
   "outputs": [],
   "source": [
    "weights = [65.3, 51.5, 48.0, 81.4, 53.8, 90.1]"
   ]
  },
  {
   "cell_type": "markdown",
   "metadata": {
    "id": "WJQZR0nbnwNu"
   },
   "source": [
    "6명의 키와 몸무게 정보를 이용하여 계산된 6명의 비만도로 구성된 리스트를 생성하라.\n",
    "체질량지수(bmi)는 몸무게(kg)를 키(m)의 제곱으로 나눈 값이다.\n",
    "\n",
    "$$\n",
    "\\mathrm{bmi} = \\frac{\\mathrm{몸무게}}{\\mathrm{키}^2}\n",
    "$$"
   ]
  },
  {
   "cell_type": "markdown",
   "metadata": {
    "id": "iej5sMfIVDRZ"
   },
   "source": [
    "**답**"
   ]
  },
  {
   "cell_type": "markdown",
   "metadata": {
    "id": "pZEOtCOYVDRa"
   },
   "source": [
    "6명의 키를 항목으로 갖는 리스트를 `height_list`가 가리키도록 하자.\n",
    "키 정보는 6명 각각의 정보를 담은 리스트에서 3번 인덱스 항목이기에 다음과 같이\n",
    "`for` 반복문, 인덱싱, `append()` 메서드를 이용하면\n",
    "간단하게 키의 정보만 담은 리스트를 생성할 수 있다."
   ]
  },
  {
   "cell_type": "code",
   "execution_count": 12,
   "metadata": {
    "executionInfo": {
     "elapsed": 3,
     "status": "ok",
     "timestamp": 1714610679597,
     "user": {
      "displayName": "liga nega",
      "userId": "04505461106310941438"
     },
     "user_tz": -540
    },
    "id": "Yw4dWQT7VDRa"
   },
   "outputs": [],
   "source": [
    "heights_cm = []\n",
    "\n",
    "for person in info_list:\n",
    "    heights_cm.append(person[3])"
   ]
  },
  {
   "cell_type": "code",
   "execution_count": 13,
   "metadata": {
    "colab": {
     "base_uri": "https://localhost:8080/"
    },
    "executionInfo": {
     "elapsed": 6,
     "status": "ok",
     "timestamp": 1714610680586,
     "user": {
      "displayName": "liga nega",
      "userId": "04505461106310941438"
     },
     "user_tz": -540
    },
    "id": "Drc8PA9IVDRa",
    "outputId": "606a4694-0b4e-4879-f2a1-e816cc87af38"
   },
   "outputs": [
    {
     "data": {
      "text/plain": [
       "[172.3, 164.6, 156.7, 187.2, 178.3, 163.5]"
      ]
     },
     "execution_count": 13,
     "metadata": {},
     "output_type": "execute_result"
    }
   ],
   "source": [
    "heights_cm"
   ]
  },
  {
   "cell_type": "markdown",
   "metadata": {
    "id": "MJQPv4hGVDRa"
   },
   "source": [
    "이제 6명의 체질량지수로 구성된 리스트를 생성할 수 있다.\n",
    "먼저 키의 단위를 미터로 변환한다.\n",
    "`round()` 함수를 이용하여 소수점 이하 셋째 짜리까지만 계산한다."
   ]
  },
  {
   "cell_type": "code",
   "execution_count": 14,
   "metadata": {
    "colab": {
     "base_uri": "https://localhost:8080/"
    },
    "executionInfo": {
     "elapsed": 3,
     "status": "ok",
     "timestamp": 1714610680586,
     "user": {
      "displayName": "liga nega",
      "userId": "04505461106310941438"
     },
     "user_tz": -540
    },
    "id": "pMadpWIIVDRa",
    "outputId": "5d45d018-8c85-4114-cda6-f23ebb72f6d2"
   },
   "outputs": [
    {
     "data": {
      "text/plain": [
       "[1.723, 1.646, 1.567, 1.872, 1.783, 1.635]"
      ]
     },
     "execution_count": 14,
     "metadata": {},
     "output_type": "execute_result"
    }
   ],
   "source": [
    "heights_m = []\n",
    "\n",
    "for num in heights_cm:\n",
    "    num_m = round(num/100, 3)\n",
    "    heights_m.append(num_m)\n",
    "\n",
    "heights_m"
   ]
  },
  {
   "cell_type": "markdown",
   "metadata": {
    "id": "mVFFGI1AVDRa"
   },
   "source": [
    "`i` 번 인덱스에 해당하는 사람의 체질량 지수는 다음과 같이 계산된다.\n",
    "\n",
    "```python\n",
    "bmi = weights[i] / (heights_m[i])**2\n",
    "```\n",
    "\n",
    "아래 코드는 체질량지수를 소수점 이하 첫째 자리까지만 계산한다."
   ]
  },
  {
   "cell_type": "code",
   "execution_count": 15,
   "metadata": {
    "colab": {
     "base_uri": "https://localhost:8080/"
    },
    "executionInfo": {
     "elapsed": 3,
     "status": "ok",
     "timestamp": 1714610681604,
     "user": {
      "displayName": "liga nega",
      "userId": "04505461106310941438"
     },
     "user_tz": -540
    },
    "id": "cM2dxxzPVDRa",
    "outputId": "1e8b04d0-0b9f-4a28-e07f-a686272d3001"
   },
   "outputs": [
    {
     "data": {
      "text/plain": [
       "[22.0, 19.0, 19.5, 23.2, 16.9, 33.7]"
      ]
     },
     "execution_count": 15,
     "metadata": {},
     "output_type": "execute_result"
    }
   ],
   "source": [
    "bmis = []\n",
    "\n",
    "for i in range(len(info_list)):\n",
    "    bmi = weights[i] / (heights_m[i])**2 # 체질량지수\n",
    "    bmi = round(bmi, 1)                  # 소수점 둘째 자리에서 반올림\n",
    "    bmis.append(bmi)\n",
    "\n",
    "bmis"
   ]
  },
  {
   "cell_type": "markdown",
   "metadata": {
    "id": "NdHZnrtQnwNx"
   },
   "source": [
    "**질문 3**"
   ]
  },
  {
   "cell_type": "markdown",
   "metadata": {
    "id": "NXP7wbVPnwNx"
   },
   "source": [
    "`info_list`에 6명 각각의 체질량 지수를 추가하라."
   ]
  },
  {
   "cell_type": "markdown",
   "metadata": {
    "id": "w7RHtaVMnwNx"
   },
   "source": [
    "**답**"
   ]
  },
  {
   "cell_type": "markdown",
   "metadata": {
    "id": "U0jWp6WAVDRa"
   },
   "source": [
    "`info_list` 변수가 가리키는 중첩 리스트에 6명 각각의 몸무게와 체질량지수 정보를 추가하기 위해\n",
    "먼저 몸무게와 체질량지수로 구성된 길이가 2인 리스트를 생성한 후에\n",
    "`extend()` 메서드를 이용하여 6명 각각의 정보를 담은 리스트를 확장한다.\n",
    "\n",
    "예를 들어, 김강현의 몸무게와 체질량지수로 구성된 리스트는 다음과 같다."
   ]
  },
  {
   "cell_type": "code",
   "execution_count": 16,
   "metadata": {
    "colab": {
     "base_uri": "https://localhost:8080/"
    },
    "executionInfo": {
     "elapsed": 5,
     "status": "ok",
     "timestamp": 1714610683024,
     "user": {
      "displayName": "liga nega",
      "userId": "04505461106310941438"
     },
     "user_tz": -540
    },
    "id": "pyV_M7OyVDRa",
    "outputId": "c55c624c-0326-4ce8-c03e-e8fc1d2660c5"
   },
   "outputs": [
    {
     "data": {
      "text/plain": [
       "[65.3, 22.0]"
      ]
     },
     "execution_count": 16,
     "metadata": {},
     "output_type": "execute_result"
    }
   ],
   "source": [
    "kgh_weight_bmi = [weights[0], bmis[0]]\n",
    "kgh_weight_bmi"
   ]
  },
  {
   "cell_type": "markdown",
   "metadata": {
    "id": "OSqf2Au1VDRb"
   },
   "source": [
    "예를 들어 아래 코드는 김강현의 정보를 담은 리스트에 위 리스트를 연결하여 확장한다.\n",
    "`kgh` 변수가 가리키는 리스트를 직접 건드리지 않기 위해\n",
    "`copy()` 메서드를 이용하여 먼저 사본을 만든 다음에 리스트를 확장한다."
   ]
  },
  {
   "cell_type": "code",
   "execution_count": 17,
   "metadata": {
    "colab": {
     "base_uri": "https://localhost:8080/"
    },
    "executionInfo": {
     "elapsed": 330,
     "status": "ok",
     "timestamp": 1714610684615,
     "user": {
      "displayName": "liga nega",
      "userId": "04505461106310941438"
     },
     "user_tz": -540
    },
    "id": "VfMW25QVVDRb",
    "outputId": "7eabfa92-6df6-4b6f-9b61-66c6c3d6d1d5"
   },
   "outputs": [
    {
     "data": {
      "text/plain": [
       "['김강현', '010-1234-5678', 20, 172.3, '제주', 65.3, 22.0]"
      ]
     },
     "execution_count": 17,
     "metadata": {},
     "output_type": "execute_result"
    }
   ],
   "source": [
    "kgh_copy = kgh.copy()\n",
    "kgh_copy.extend(kgh_weight_bmi)\n",
    "kgh_copy"
   ]
  },
  {
   "cell_type": "markdown",
   "metadata": {
    "id": "6Gobvxt8VDRb"
   },
   "source": [
    "동일한 작업을 6명 전원에 대해 적용하려면 `info_list`의 항목을 대상으로\n",
    "`for` 반복문을 싱행한다.\n",
    "하지만 아래 방식은 곤란하다.\n",
    "\n",
    "```python\n",
    "for person in info_list:\n",
    "    ...\n",
    "```\n",
    "\n",
    "이유는 `person`이 가리키는 항목의 인덱스 정보를 알아야만 `weights`와 `bmis`에서\n",
    "해당 위치의 항목을 추출할 수 있기 때문이다.\n",
    "\n",
    "해결책으로 `range()` 함수와 인덱싱을 활용한다.\n",
    "그러면 언급된 세 개의 리스트 `info_list`, `weights`, `bmis` 모두에 대해\n",
    "동시에 인덱싱을 적용할 수 있다.\n"
   ]
  },
  {
   "cell_type": "code",
   "execution_count": 18,
   "metadata": {
    "colab": {
     "base_uri": "https://localhost:8080/"
    },
    "executionInfo": {
     "elapsed": 411,
     "status": "ok",
     "timestamp": 1714610686401,
     "user": {
      "displayName": "liga nega",
      "userId": "04505461106310941438"
     },
     "user_tz": -540
    },
    "id": "IF6PHK5sVDRb",
    "outputId": "056b5bbc-ac00-4422-f086-b0780ddae2b9"
   },
   "outputs": [
    {
     "data": {
      "text/plain": [
       "[['김강현', '010-1234-5678', 20, 172.3, '제주', 65.3, 22.0],\n",
       " ['김현선', '010-3333-8888', 22, 164.6, '광주', 51.5, 19.0],\n",
       " ['남세원', '010-3456-7891', 21, 156.7, '경기', 48.0, 19.5],\n",
       " ['최흥선', '070-4321-1111', 21, 187.2, '부산', 81.4, 23.2],\n",
       " ['함중아', '010-7654-2345', 18, 178.3, '강원', 53.8, 16.9],\n",
       " ['황현', '02-9871-1234', 19, 163.5, '서울', 90.1, 33.7]]"
      ]
     },
     "execution_count": 18,
     "metadata": {},
     "output_type": "execute_result"
    }
   ],
   "source": [
    "for i in range(len(info_list)):\n",
    "    weight_bmi = [weights[i], bmis[i]] # i번째 사람의 몸무게와 체질량지수\n",
    "    info_list[i].extend(weight_bmi)    # i번째 사람의 정보 확장\n",
    "\n",
    "info_list"
   ]
  },
  {
   "cell_type": "markdown",
   "metadata": {
    "id": "bVbUCpbqVDRy"
   },
   "source": [
    "## 문제 7"
   ]
  },
  {
   "cell_type": "markdown",
   "metadata": {
    "id": "52EUstX_VDRy"
   },
   "source": [
    "직사각형 모양의 바닥에 정사각형 모양의 타일을 깔아야 한다.\n",
    "타일은 온장을 그대로 사용할 수도 있고, 잘라서 일부분만 사용할 수도 있다.\n",
    "단, 잘라서 사용한 타일의 나머지는 사용하지 않는다.\n",
    "\n",
    "공간의 가로, 세로 크기, 타일의 크기를 cm 단위로 인자로 사용되었을 때\n",
    "타일을 깔 때 필요한 온장 타일과 잘라서 사용한 타일의 개수로\n",
    "이뤄진 튜플을 반환하는 함수 `tiling_tuple()`을 구현하라.\n",
    "단 공간 크기의 가로, 세로, 타일의 크기는 정수라고 가정한다.\n",
    "\n",
    "`tiling()` 함수의 매개변수는 다음과 같이 한다.\n",
    "\n",
    "- `width`: 공간의 가로 크기. 단위는 cm.\n",
    "- `height`: 공간의 세로 크기. 단위는 cm.\n",
    "- `tile_length=30`: 타일의 한 변의 크기. 단위는 cm. 기본 키워드 인자는 30."
   ]
  },
  {
   "cell_type": "code",
   "execution_count": null,
   "metadata": {
    "id": "AidULkfeVDRy"
   },
   "outputs": [],
   "source": [
    "def tiling_tuple(width, height, tile_length=30):\n",
    "    num_full_width = width // tile_length\n",
    "    num_full_height = height // tile_length\n",
    "\n",
    "    num_full = num_full_width * num_full_height\n",
    "\n",
    "    if width % tile_length == 0:\n",
    "        num_part_height = 0\n",
    "        if height % tile_length == 0:\n",
    "            num_part = 0\n",
    "        else:\n",
    "            num_part = num_full_width\n",
    "\n",
    "    else:\n",
    "        if height % tile_length == 0:\n",
    "            num_part = num_full_height\n",
    "        else:\n",
    "            num_part = num_full_width + num_full_height + 1\n",
    "\n",
    "    return num_full, num_part"
   ]
  },
  {
   "cell_type": "code",
   "execution_count": null,
   "metadata": {
    "id": "GPOAmBpIVDRy",
    "outputId": "e5ed8166-9c6f-43a9-ccca-8ca1d3b19b4a"
   },
   "outputs": [
    {
     "data": {
      "text/plain": [
       "(169, 27)"
      ]
     },
     "execution_count": 64,
     "metadata": {},
     "output_type": "execute_result"
    }
   ],
   "source": [
    "tiling_tuple(400, 400)"
   ]
  },
  {
   "cell_type": "code",
   "execution_count": null,
   "metadata": {
    "id": "l3emtgDYVDRy",
    "outputId": "c50bfec3-7ffd-49da-be0d-35fb63a2f976"
   },
   "outputs": [
    {
     "data": {
      "text/plain": [
       "(121, 23)"
      ]
     },
     "execution_count": 65,
     "metadata": {},
     "output_type": "execute_result"
    }
   ],
   "source": [
    "tiling_tuple(400, 400, 35)"
   ]
  }
 ],
 "metadata": {
  "colab": {
   "provenance": [
    {
     "file_id": "https://github.com/codingalzi/pybook/blob/master/practices/practice-lists_tuples-sol.ipynb",
     "timestamp": 1714608246089
    },
    {
     "file_id": "https://github.com/codingalzi/pybook/blob/master/practices/practice-lists_tuples.ipynb",
     "timestamp": 1714435606157
    }
   ]
  },
  "kernelspec": {
   "display_name": "Python 3 (ipykernel)",
   "language": "python",
   "name": "python3"
  },
  "language_info": {
   "codemirror_mode": {
    "name": "ipython",
    "version": 3
   },
   "file_extension": ".py",
   "mimetype": "text/x-python",
   "name": "python",
   "nbconvert_exporter": "python",
   "pygments_lexer": "ipython3",
   "version": "3.11.4"
  }
 },
 "nbformat": 4,
 "nbformat_minor": 1
}
