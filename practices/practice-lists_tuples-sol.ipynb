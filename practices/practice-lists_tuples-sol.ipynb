{
 "cells": [
  {
   "cell_type": "markdown",
   "metadata": {
    "id": "4355d4f8"
   },
   "source": [
    "# (실습) 리스트와 튜플"
   ]
  },
  {
   "cell_type": "markdown",
   "metadata": {
    "id": "5140d50d"
   },
   "source": [
    "**참고 사항**\n",
    "\n",
    "먼저\n",
    "[리스트와 튜플](https://codingalzi.github.io/pybook/lists_tuples.html)의 내용과\n",
    "[(필수 예제) 리스트와 튜플](https://colab.research.google.com/github/codingalzi/pybook/blob/master/examples/examples-lists_tuples.ipynb)의 예제들을 학습하세요."
   ]
  },
  {
   "cell_type": "markdown",
   "metadata": {
    "id": "a0a20bd6"
   },
   "source": [
    "**주의 사항**\n",
    "\n",
    "* 기존에 작성된 코드 셀과 텍스트 셀은 수정하지 않는다.\n",
    "* 필요한 경우 코드 셀 또는 텍스트 셀을 추가해서 사용한다.\n",
    "* 실습 파일을 제출할 때 구글 드라이브의 링크를 이용하여 누구나 공유할 수 있도록 설정한다."
   ]
  },
  {
   "cell_type": "markdown",
   "metadata": {
    "id": "bLJ9efwTVPTv"
   },
   "source": [
    "## 문제"
   ]
  },
  {
   "cell_type": "markdown",
   "metadata": {
    "id": "gSF_tBKvfg9V"
   },
   "source": [
    "아래 리스트는 4중으로 중첩된 리스트다.\n"
   ]
  },
  {
   "cell_type": "code",
   "execution_count": 59,
   "metadata": {
    "executionInfo": {
     "elapsed": 7,
     "status": "ok",
     "timestamp": 1714435775949,
     "user": {
      "displayName": "liga nega",
      "userId": "04505461106310941438"
     },
     "user_tz": -540
    },
    "id": "o_m9NzFR1tD_"
   },
   "outputs": [],
   "source": [
    "a_nested_list = [0, [1, [2, [3, 4], 5]], 6, [7, 8, 9], 10]"
   ]
  },
  {
   "cell_type": "markdown",
   "metadata": {},
   "source": [
    "**질문 1**"
   ]
  },
  {
   "cell_type": "markdown",
   "metadata": {
    "id": "XQhmua9gVYYR"
   },
   "source": [
    "위 리스트에서 7를 확인하는 인덱싱 표현식을 정의하라."
   ]
  },
  {
   "cell_type": "markdown",
   "metadata": {
    "id": "-RB_64AbVuOD"
   },
   "source": [
    "**답**"
   ]
  },
  {
   "cell_type": "code",
   "execution_count": 60,
   "metadata": {
    "colab": {
     "base_uri": "https://localhost:8080/"
    },
    "executionInfo": {
     "elapsed": 308,
     "status": "ok",
     "timestamp": 1714435891295,
     "user": {
      "displayName": "liga nega",
      "userId": "04505461106310941438"
     },
     "user_tz": -540
    },
    "id": "oY_cICv31wP6",
    "outputId": "6e682298-ee82-42dd-afd6-c4653d55b840"
   },
   "outputs": [
    {
     "data": {
      "text/plain": [
       "7"
      ]
     },
     "execution_count": 60,
     "metadata": {},
     "output_type": "execute_result"
    }
   ],
   "source": [
    "a_nested_list[3][0]"
   ]
  },
  {
   "cell_type": "markdown",
   "metadata": {},
   "source": [
    "**질문 2**"
   ]
  },
  {
   "cell_type": "markdown",
   "metadata": {
    "id": "PusdXITPgxVB"
   },
   "source": [
    "위 리스트에서 `[2, [3, 4], 5]`를 확인하는 인덱싱 표현식을 정의하라."
   ]
  },
  {
   "cell_type": "markdown",
   "metadata": {
    "id": "9ZuLleOpV6Ti"
   },
   "source": [
    "**답**"
   ]
  },
  {
   "cell_type": "code",
   "execution_count": 61,
   "metadata": {
    "colab": {
     "base_uri": "https://localhost:8080/"
    },
    "executionInfo": {
     "elapsed": 312,
     "status": "ok",
     "timestamp": 1714435898307,
     "user": {
      "displayName": "liga nega",
      "userId": "04505461106310941438"
     },
     "user_tz": -540
    },
    "id": "U4z-dGTH1-0V",
    "outputId": "02e9ecd2-4e8a-413e-ac17-19d5777aa5a1"
   },
   "outputs": [
    {
     "data": {
      "text/plain": [
       "[2, [3, 4], 5]"
      ]
     },
     "execution_count": 61,
     "metadata": {},
     "output_type": "execute_result"
    }
   ],
   "source": [
    "a_nested_list[1][1]"
   ]
  },
  {
   "cell_type": "markdown",
   "metadata": {},
   "source": [
    "**질문 3**"
   ]
  },
  {
   "cell_type": "markdown",
   "metadata": {
    "id": "j_7rd4kFgV4o"
   },
   "source": [
    "위 리스트에서 4를 확인하는 인덱싱 표현식을 정의하라."
   ]
  },
  {
   "cell_type": "markdown",
   "metadata": {
    "id": "RB3T1MTPWGRL"
   },
   "source": [
    "**답**"
   ]
  },
  {
   "cell_type": "code",
   "execution_count": 62,
   "metadata": {
    "colab": {
     "base_uri": "https://localhost:8080/"
    },
    "executionInfo": {
     "elapsed": 300,
     "status": "ok",
     "timestamp": 1714435947556,
     "user": {
      "displayName": "liga nega",
      "userId": "04505461106310941438"
     },
     "user_tz": -540
    },
    "id": "Ht0G8w-Z2KBv",
    "outputId": "323e7c32-292d-4adf-ebb9-1ccf347f3a78"
   },
   "outputs": [
    {
     "data": {
      "text/plain": [
       "4"
      ]
     },
     "execution_count": 62,
     "metadata": {},
     "output_type": "execute_result"
    }
   ],
   "source": [
    "a_nested_list[1][1][1][1]"
   ]
  },
  {
   "cell_type": "markdown",
   "metadata": {
    "id": "AvifUNZOvSkU"
   },
   "source": [
    "## 문제"
   ]
  },
  {
   "cell_type": "markdown",
   "metadata": {
    "id": "O_u0yqUOS_24"
   },
   "source": [
    "0부터 10까지의 수 중에서 3의 배수를 제외한 항목으로 이루어진 리스트를\n",
    "생성하도록 아래 코드를 완성하라.\n",
    "\n",
    "즉, `list10` 변수는 최종적으로 아래 값을 가리켜야 한다.\n",
    "\n",
    "```python\n",
    "[1, 2, 4, 5, 7, 8, 10]\n",
    "```\n",
    "\n",
    "힌트: `for` 반복문과 `continue` 명령문 활용"
   ]
  },
  {
   "cell_type": "markdown",
   "metadata": {},
   "source": [
    "**답**"
   ]
  },
  {
   "cell_type": "code",
   "execution_count": 39,
   "metadata": {
    "colab": {
     "base_uri": "https://localhost:8080/"
    },
    "id": "glnrGCIZvuwT",
    "outputId": "d935be85-e587-4c24-8481-1a510672f7e3"
   },
   "outputs": [
    {
     "name": "stdout",
     "output_type": "stream",
     "text": [
      "[1, 2, 4, 5, 7, 8, 10]\n"
     ]
    }
   ],
   "source": [
    "list10 = []\n",
    "\n",
    "for num in range(0, 11):\n",
    "    if num % 3 == 0:\n",
    "        continue\n",
    "\n",
    "    list10.append(num)\n",
    "\n",
    "print(list10)"
   ]
  },
  {
   "cell_type": "markdown",
   "metadata": {
    "id": "gnGXWpHPXRj6"
   },
   "source": [
    "## 문제"
   ]
  },
  {
   "cell_type": "markdown",
   "metadata": {
    "id": "rOtfcGMwjxwI"
   },
   "source": [
    "아래 리스트가 주어졌다.\n",
    "\n",
    "    ['dog', 'cat']\n",
    "\n",
    "위 리스트에 아래 리스트를 마지막 항목으로 추가한 새로운 리스트를 생성하라.\n",
    "\n",
    "    ['tiger', 'eagle']\n",
    "\n",
    "생성된 리스트는 아래 모양이어야 한다.\n",
    "\n",
    "    ['dog', 'cat', ['tiger', 'eagle']]"
   ]
  },
  {
   "cell_type": "markdown",
   "metadata": {
    "id": "qpzkgG1ZX1Ve"
   },
   "source": [
    "**답**"
   ]
  },
  {
   "cell_type": "markdown",
   "metadata": {
    "id": "8QeD0HIylIT-"
   },
   "source": [
    "`append()` 메소드를 이용한다."
   ]
  },
  {
   "cell_type": "code",
   "execution_count": 8,
   "metadata": {
    "colab": {
     "base_uri": "https://localhost:8080/"
    },
    "executionInfo": {
     "elapsed": 391,
     "status": "ok",
     "timestamp": 1714436416060,
     "user": {
      "displayName": "liga nega",
      "userId": "04505461106310941438"
     },
     "user_tz": -540
    },
    "id": "LZSffzHA4o6N",
    "outputId": "20a81ee9-8c77-4159-dcdc-11f8c98a8f97"
   },
   "outputs": [
    {
     "name": "stdout",
     "output_type": "stream",
     "text": [
      "['dog', 'cat', ['tiger', 'eagle']]\n"
     ]
    }
   ],
   "source": [
    "animal = ['dog', 'cat']\n",
    "animal.append(['tiger', 'eagle'])\n",
    "print(animal)"
   ]
  },
  {
   "cell_type": "markdown",
   "metadata": {
    "id": "CL0sgjc7lLF8"
   },
   "source": [
    "또는 `extend()` 메소드를 이용할 수도 있다."
   ]
  },
  {
   "cell_type": "code",
   "execution_count": 9,
   "metadata": {
    "colab": {
     "base_uri": "https://localhost:8080/"
    },
    "executionInfo": {
     "elapsed": 324,
     "status": "ok",
     "timestamp": 1714436452816,
     "user": {
      "displayName": "liga nega",
      "userId": "04505461106310941438"
     },
     "user_tz": -540
    },
    "id": "hExv0_mw4vNL",
    "outputId": "318e7350-f53f-4d2a-87cb-6cdeedce59e3"
   },
   "outputs": [
    {
     "name": "stdout",
     "output_type": "stream",
     "text": [
      "['dog', 'cat', ['tiger', 'eagle']]\n"
     ]
    }
   ],
   "source": [
    "animal = ['dog', 'cat']\n",
    "animal.extend([['tiger', 'eagle']])\n",
    "print(animal)"
   ]
  },
  {
   "cell_type": "markdown",
   "metadata": {},
   "source": [
    "## 문제"
   ]
  },
  {
   "cell_type": "markdown",
   "metadata": {},
   "source": [
    "메뉴와 가격이 공백으로 구분된 두 개의 문자열로 주어졌다."
   ]
  },
  {
   "cell_type": "code",
   "execution_count": 65,
   "metadata": {},
   "outputs": [],
   "source": [
    "menu = \"ham bread chicken egg\"\n",
    "prices = \"1200 5000 17000 500\""
   ]
  },
  {
   "cell_type": "markdown",
   "metadata": {},
   "source": [
    "가장 저렴한 메뉴와 가장 비싼 메뉴를 추천하는 문자열을 \n",
    "다음과 같이 출력하는 프로그램을 구현하라.\n",
    "\n",
    "```python\n",
    "가장 저렴한 메뉴: egg  \n",
    "가장 비  싼 메뉴: chicken  \n",
    "```\n",
    "\n",
    "힌트: 문자열 `split()` 메서드와 `zip()` 함수, 리스트 `sort()` 메서드 활용"
   ]
  },
  {
   "cell_type": "markdown",
   "metadata": {},
   "source": [
    "**답**"
   ]
  },
  {
   "cell_type": "code",
   "execution_count": 66,
   "metadata": {},
   "outputs": [
    {
     "name": "stdout",
     "output_type": "stream",
     "text": [
      "가장 저렴한 메뉴: egg\n",
      "가장 비  싼 메뉴: chicken\n"
     ]
    }
   ],
   "source": [
    "menu_list = menu.split()\n",
    "prices_list = prices.split()\n",
    "\n",
    "menu_prices = list(zip(menu_list, prices_list))\n",
    "menu_prices.sort(key=lambda x: int(x[1]))\n",
    "\n",
    "print(f\"가장 저렴한 메뉴: {menu_prices[0][0]}\")\n",
    "print(f\"가장 비  싼 메뉴: {menu_prices[-1][0]}\")\n"
   ]
  },
  {
   "cell_type": "markdown",
   "metadata": {
    "id": "f77664cd"
   },
   "source": [
    "## 문제"
   ]
  },
  {
   "cell_type": "markdown",
   "metadata": {
    "id": "7953bb77"
   },
   "source": [
    "임의로 중첩된 리스트를 풀어헤쳐 중첩이 없는 리스트를 생성하는\n",
    "`flatten()` 함수를 `while` 반복문을 이용하여 구현하라.\n",
    "단, 재귀는 허용되지 않는다.\n",
    "\n",
    "참고: 이 문제는 조금 어려우며, [stackoverflow: 임의로 중첩된 리스트 납작하게 만들기](https://stackoverflow.com/questions/10823877/what-is-the-fastest-way-to-flatten-arbitrarily-nested-lists-in-python) 를 참고할 수 있다."
   ]
  },
  {
   "cell_type": "code",
   "execution_count": 44,
   "metadata": {
    "colab": {
     "base_uri": "https://localhost:8080/"
    },
    "id": "aIUQXsd_MGw0",
    "outputId": "60aaf1c1-d567-41b4-e1e8-74ca5e890fff"
   },
   "outputs": [],
   "source": [
    "def flatten(items, seqtypes=(list, tuple)):\n",
    "    try:\n",
    "        for i, x in enumerate(items):\n",
    "            while isinstance(x, seqtypes):\n",
    "                items[i:i+1] = x\n",
    "                x = items[i]\n",
    "    except IndexError:\n",
    "        pass\n",
    "    return items"
   ]
  },
  {
   "cell_type": "code",
   "execution_count": 50,
   "metadata": {
    "colab": {
     "base_uri": "https://localhost:8080/"
    },
    "id": "aIUQXsd_MGw0",
    "outputId": "60aaf1c1-d567-41b4-e1e8-74ca5e890fff"
   },
   "outputs": [
    {
     "name": "stdout",
     "output_type": "stream",
     "text": [
      "[1, 2, 3, 4, 5, 6, 'hello world', 'hi', 19]\n"
     ]
    }
   ],
   "source": [
    "print(flatten([1, 2, [3, 4, [5],[]], [6], [\"hello world\", ['hi', [19]]]]))"
   ]
  },
  {
   "cell_type": "code",
   "execution_count": null,
   "metadata": {
    "id": "Dz_pR_e1S_28"
   },
   "outputs": [],
   "source": []
  }
 ],
 "metadata": {
  "colab": {
   "provenance": [
    {
     "file_id": "https://github.com/codingalzi/pybook/blob/master/practices/practice-lists_tuples.ipynb",
     "timestamp": 1714435606157
    }
   ]
  },
  "kernelspec": {
   "display_name": "Python 3 (ipykernel)",
   "language": "python",
   "name": "python3"
  },
  "language_info": {
   "codemirror_mode": {
    "name": "ipython",
    "version": 3
   },
   "file_extension": ".py",
   "mimetype": "text/x-python",
   "name": "python",
   "nbconvert_exporter": "python",
   "pygments_lexer": "ipython3",
   "version": "3.11.5"
  }
 },
 "nbformat": 4,
 "nbformat_minor": 1
}
