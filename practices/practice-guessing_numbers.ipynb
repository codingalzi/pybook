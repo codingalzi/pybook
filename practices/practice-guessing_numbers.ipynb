{
 "cells": [
  {
   "cell_type": "markdown",
   "id": "e0243eeb",
   "metadata": {},
   "source": [
    "**문제**"
   ]
  },
  {
   "cell_type": "markdown",
   "id": "0c63af35",
   "metadata": {},
   "source": [
    "숫자맞히기 게임에서 입력된 숫자가 0과 100사이의 값이 아니면 재입력을 요구하도록 할 수 방법을 생각해서 프로그램을 업그레이드 하라.\n",
    "\n",
    "힌트: 논리 연산자를 활용한다."
   ]
  },
  {
   "cell_type": "markdown",
   "id": "5b88d1d4",
   "metadata": {},
   "source": [
    "**문제**"
   ]
  },
  {
   "cell_type": "markdown",
   "id": "db5bd234",
   "metadata": {},
   "source": [
    "숫자맞히기 게임이 종료될 때 사용자가 몇 번 만에 정답을 맞혔는지 알려주도록 \n",
    "프로그램을 수정하라."
   ]
  }
 ],
 "metadata": {
  "kernelspec": {
   "display_name": "Python 3 (ipykernel)",
   "language": "python",
   "name": "python3"
  },
  "language_info": {
   "codemirror_mode": {
    "name": "ipython",
    "version": 3
   },
   "file_extension": ".py",
   "mimetype": "text/x-python",
   "name": "python",
   "nbconvert_exporter": "python",
   "pygments_lexer": "ipython3",
   "version": "3.9.7"
  }
 },
 "nbformat": 4,
 "nbformat_minor": 5
}
