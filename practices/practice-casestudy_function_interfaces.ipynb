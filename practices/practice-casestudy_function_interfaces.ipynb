{
 "cells": [
  {
   "cell_type": "markdown",
   "id": "fe93f864",
   "metadata": {},
   "source": [
    "# (실습) 사례 연구: 함수 인터페이스"
   ]
  },
  {
   "cell_type": "markdown",
   "id": "37965191",
   "metadata": {},
   "source": [
    "**문제**"
   ]
  },
  {
   "cell_type": "markdown",
   "id": "0a2f4f53",
   "metadata": {},
   "source": [
    "회오리 모양으로 움직이면서 점차 가속도가 붙는 거북이를 그리는 \n",
    "`whirl_turtle()` 함수를 구현하라.\n",
    "\n",
    "힌트: `penup()` 함수와, `stamp()` 함수 활용"
   ]
  },
  {
   "cell_type": "markdown",
   "id": "70349c1f",
   "metadata": {},
   "source": [
    "<div align=\"center\" border=\"1px\"><img src=\"https://raw.githubusercontent.com/codingalzi/pybook/master/jupyter-book/images/turtle05.png\" width=\"300\"/></div>"
   ]
  },
  {
   "cell_type": "markdown",
   "id": "963a7f6b",
   "metadata": {},
   "source": [
    "**문제 1**"
   ]
  },
  {
   "cell_type": "markdown",
   "id": "b12cf8d7",
   "metadata": {},
   "source": [
    "Download the code in this chapter from http://thinkpython2.com/code/polygon.py.\n",
    "\n",
    "1. Draw a stack diagram that shows the state of the program while executing circle(bob, radius). You can do the arithmetic by hand or add print statements to the code.\n",
    "\n",
    "1. The version of arc in Section 4.7 is not very accurate because the linear approximation of the circle is always outside the true circle. As a result, the Turtle ends up a few pixels away from the correct destination. My solution shows a way to reduce the effect of this error. Read the code and see if it makes sense to you. If you draw a diagram, you might see how it works.\n",
    "\n",
    "Figure 4.1: Turtle flowers."
   ]
  },
  {
   "cell_type": "markdown",
   "id": "91d8deaf",
   "metadata": {},
   "source": [
    "**문제 2**"
   ]
  },
  {
   "cell_type": "markdown",
   "id": "3896ca43",
   "metadata": {},
   "source": [
    "Write an appropriately general set of functions that can draw flowers as in Figure 4.1.\n",
    "\n",
    "Solution: http://thinkpython2.com/code/flower.py, also requires http://thinkpython2.com/code/polygon.py.\n",
    "\n",
    "\n",
    "Figure 4.2: Turtle pies."
   ]
  },
  {
   "cell_type": "markdown",
   "id": "9886c8c3",
   "metadata": {},
   "source": [
    "**문제 3**"
   ]
  },
  {
   "cell_type": "markdown",
   "id": "61221e62",
   "metadata": {},
   "source": [
    "Write an appropriately general set of functions that can draw shapes as in Figure 4.2.\n",
    "\n",
    "Solution: http://thinkpython2.com/code/pie.py."
   ]
  },
  {
   "cell_type": "markdown",
   "id": "cc4c2262",
   "metadata": {},
   "source": [
    "**문제 4**"
   ]
  },
  {
   "cell_type": "markdown",
   "id": "61e1c5b8",
   "metadata": {},
   "source": [
    "The letters of the alphabet can be constructed from a moderate number of basic elements, like vertical and horizontal lines and a few curves. Design an alphabet that can be drawn with a minimal number of basic elements and then write functions that draw the letters.\n",
    "\n",
    "You should write one function for each letter, with names draw_a, draw_b, etc., and put your functions in a file named letters.py. You can download a “turtle typewriter” from http://thinkpython2.com/code/typewriter.py to help you test your code.\n",
    "\n",
    "You can get a solution from http://thinkpython2.com/code/letters.py; it also requires http://thinkpython2.com/code/polygon.py."
   ]
  },
  {
   "cell_type": "markdown",
   "id": "ded0cb5a",
   "metadata": {},
   "source": [
    "**문제 6**"
   ]
  },
  {
   "cell_type": "markdown",
   "id": "a14a9945",
   "metadata": {},
   "source": [
    "Read about spirals at http://en.wikipedia.org/wiki/Spiral; then write a program that draws an Archimedian spiral (or one of the other kinds). Solution: http://thinkpython2.com/code/spiral.py.\n",
    "\n",
    "Buy this book at Amazon.com"
   ]
  },
  {
   "cell_type": "code",
   "execution_count": null,
   "id": "0c28db23",
   "metadata": {},
   "outputs": [],
   "source": []
  }
 ],
 "metadata": {
  "kernelspec": {
   "display_name": "Python 3 (ipykernel)",
   "language": "python",
   "name": "python3"
  },
  "language_info": {
   "codemirror_mode": {
    "name": "ipython",
    "version": 3
   },
   "file_extension": ".py",
   "mimetype": "text/x-python",
   "name": "python",
   "nbconvert_exporter": "python",
   "pygments_lexer": "ipython3",
   "version": "3.9.7"
  }
 },
 "nbformat": 4,
 "nbformat_minor": 5
}
