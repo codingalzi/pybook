{
 "cells": [
  {
   "cell_type": "markdown",
   "id": "fe93f864",
   "metadata": {},
   "source": [
    "# (실습) 사례 연구: 함수 인터페이스"
   ]
  },
  {
   "cell_type": "markdown",
   "id": "cb864ab9",
   "metadata": {},
   "source": [
    "**주의 사항**\n",
    "\n",
    "거북이 코드는 구글 코랩에서 지원되지 않는다.\n",
    "대신 개인 컴퓨터에 설치된 IDLE를 사용하거나 [Trinket](https://trinket.io/) 을 이용할 것을 추천한다."
   ]
  },
  {
   "cell_type": "markdown",
   "id": "a46faf1f",
   "metadata": {},
   "source": [
    "**문제**"
   ]
  },
  {
   "cell_type": "markdown",
   "id": "330de871",
   "metadata": {},
   "source": [
    "회오리 모양으로 움직이면서 점차 가속도가 붙는 거북이를 그리는 \n",
    "`whirl_turtle()` 함수를 구현하라.\n",
    "\n",
    "힌트: `penup()` 함수와, `stamp()` 함수 활용"
   ]
  },
  {
   "cell_type": "markdown",
   "id": "c7fdcb4c",
   "metadata": {},
   "source": [
    "<div align=\"center\" border=\"1px\"><img src=\"https://raw.githubusercontent.com/codingalzi/pybook/master/jupyter-book/images/turtle06.png\" width=\"300\"/></div>"
   ]
  },
  {
   "cell_type": "markdown",
   "id": "892fdc75",
   "metadata": {},
   "source": [
    "```python\n",
    "# pass 를 적절한 명령문으로 대체하라.\n",
    "\n",
    "import turtle\n",
    "wn = turtle.Screen()\n",
    "wn.bgcolor(\"lightyellow\")\n",
    "bob = turtle.Turtle()\n",
    "bob.shape(\"turtle\")        # 화살촉 대신 거북이 모양 선택\n",
    "bob.color(\"blue\")\n",
    "\n",
    "def whirl_turtle(t):\n",
    "    pass\n",
    "\n",
    "whirl_turtle(bob)\n",
    "\n",
    "wn.mainloop()\n",
    "```"
   ]
  },
  {
   "cell_type": "markdown",
   "id": "963a7f6b",
   "metadata": {},
   "source": [
    "**문제 1**"
   ]
  },
  {
   "cell_type": "markdown",
   "id": "b12cf8d7",
   "metadata": {},
   "source": [
    "Download the code in this chapter from http://thinkpython2.com/code/polygon.py.\n",
    "\n",
    "1. Draw a stack diagram that shows the state of the program while executing circle(bob, radius). You can do the arithmetic by hand or add print statements to the code.\n",
    "\n",
    "1. The version of arc in Section 4.7 is not very accurate because the linear approximation of the circle is always outside the true circle. As a result, the Turtle ends up a few pixels away from the correct destination. My solution shows a way to reduce the effect of this error. Read the code and see if it makes sense to you. If you draw a diagram, you might see how it works.\n",
    "\n",
    "Figure 4.1: Turtle flowers."
   ]
  },
  {
   "cell_type": "markdown",
   "id": "91d8deaf",
   "metadata": {},
   "source": [
    "**문제 2**"
   ]
  },
  {
   "cell_type": "markdown",
   "id": "3896ca43",
   "metadata": {},
   "source": [
    "Write an appropriately general set of functions that can draw flowers as in Figure 4.1.\n",
    "\n",
    "Solution: http://thinkpython2.com/code/flower.py, also requires http://thinkpython2.com/code/polygon.py.\n",
    "\n",
    "\n",
    "Figure 4.2: Turtle pies."
   ]
  },
  {
   "cell_type": "markdown",
   "id": "9886c8c3",
   "metadata": {},
   "source": [
    "**문제 3**"
   ]
  },
  {
   "cell_type": "markdown",
   "id": "61221e62",
   "metadata": {},
   "source": [
    "Write an appropriately general set of functions that can draw shapes as in Figure 4.2.\n",
    "\n",
    "Solution: http://thinkpython2.com/code/pie.py."
   ]
  },
  {
   "cell_type": "markdown",
   "id": "cc4c2262",
   "metadata": {},
   "source": [
    "**문제 4**"
   ]
  },
  {
   "cell_type": "markdown",
   "id": "61e1c5b8",
   "metadata": {},
   "source": [
    "The letters of the alphabet can be constructed from a moderate number of basic elements, like vertical and horizontal lines and a few curves. Design an alphabet that can be drawn with a minimal number of basic elements and then write functions that draw the letters.\n",
    "\n",
    "You should write one function for each letter, with names draw_a, draw_b, etc., and put your functions in a file named letters.py. You can download a “turtle typewriter” from http://thinkpython2.com/code/typewriter.py to help you test your code.\n",
    "\n",
    "You can get a solution from http://thinkpython2.com/code/letters.py; it also requires http://thinkpython2.com/code/polygon.py."
   ]
  },
  {
   "cell_type": "markdown",
   "id": "ded0cb5a",
   "metadata": {},
   "source": [
    "**문제 6**"
   ]
  },
  {
   "cell_type": "markdown",
   "id": "a14a9945",
   "metadata": {},
   "source": [
    "Read about spirals at http://en.wikipedia.org/wiki/Spiral; then write a program that draws an Archimedian spiral (or one of the other kinds). Solution: http://thinkpython2.com/code/spiral.py.\n",
    "\n",
    "Buy this book at Amazon.com"
   ]
  },
  {
   "cell_type": "markdown",
   "id": "8d641e7d",
   "metadata": {},
   "source": [
    "**문제**"
   ]
  },
  {
   "cell_type": "markdown",
   "id": "ac395d78",
   "metadata": {},
   "source": [
    "## 미니 프로젝트 안내"
   ]
  },
  {
   "cell_type": "markdown",
   "id": "79b198af",
   "metadata": {},
   "source": [
    "[realpython.com](https://realpython.com/beginners-guide-python-turtle/#getting-started-with-turtle)에서 \n",
    "소개한 프로젝트이다. \n",
    "\n",
    "* 과제명: 거북이 경주\n",
    "* 내용:\n",
    "    * 두 마리의 거북이가 경주하는 게임\n",
    "    * 동일 선상에 위치한 두 마리의 거북이가 목적지에 먼저 다다르도록 한다.\n",
    "* 규칙:\n",
    "    * 두 명이 번갈아 가며 주사위를 던진다.\n",
    "    * 주사위 던지기 결과에 맞춰 거북이를 전진시킨다.\n",
    "    * 목적지에 먼저 도달한 거북이가 승리한다.\n",
    "\n",
    "작동 방식은\n",
    "[realpython.com: 거북이 경주](https://files.realpython.com/media/Update_-_Turtle_Race_Green_and_Blue.b1ee6be37a9f.gif)\n",
    "그림 참조\n",
    "\n",
    "게임 구상은 다음과 같다.\n",
    "\n",
    "1. 거북이 한 마리가 최종 목적지에 도달할 때 까지 무한 반복\n",
    "1. 반복 내용\n",
    "    * 두 마리중 한 마리가 목적지 도달 여부 판단\n",
    "    * 아직 아무도 도착하지 않은 경우\n",
    "        * 주사위 던지기\n",
    "        * 던져진 주사위 결과만큼 해당 선수의 거북이 전진시키기\n",
    "1. 필요한 프로그래밍 기본 요소\n",
    "    * `if` 조건문: 경우에 따라 다른 행동 지시\n",
    "    * `while` 반복문: 게임 종료 시까지 무한 반복\n",
    "    * `random.choice`: 주사위 구현\n",
    "        * 주사위 결과에 20 정도 곱한 값을 전진 거리로 사용할 것."
   ]
  },
  {
   "cell_type": "markdown",
   "id": "9cdc9af7",
   "metadata": {},
   "source": [
    "### 파이썬 거북이 게임 예제"
   ]
  },
  {
   "cell_type": "markdown",
   "id": "067334a0",
   "metadata": {},
   "source": [
    "인터네서 검색을 통해 `Turtle` 모듈을 활용하여 만든 컴퓨터 게임을 쉽게 찾아볼 수 있다.\n",
    "앞서 언급한 거북이 경주와 같이 매우 단순한 게임부터 보다 고급스런 게임까지 \n",
    "`Turtle` 모듈만으로도 훌륭한 게임을 구현할 수 있다.\n",
    "\n",
    "참고자료 몇 개를 언급하면 다음과 같다.\n",
    "\n",
    "* Python Tutorial - Turtle Race Game \n",
    "    [1부](https://www.youtube.com/watch?v=qOsbvj87Uos),\n",
    "    [2부](https://www.youtube.com/watch?v=AFqBlJurBnA)\n",
    "* [Free Python Games](http://www.grantjenks.com/docs/freegames/)\n",
    "* [Python Game Coding](http://christianthompson.com/blog/1)"
   ]
  },
  {
   "cell_type": "markdown",
   "id": "8985d0d7",
   "metadata": {},
   "source": [
    "## 연습문제"
   ]
  },
  {
   "cell_type": "markdown",
   "id": "92787b50",
   "metadata": {},
   "source": [
    "1. 다각형을 그리는 함수를 구현한다.\n",
    "    1. 아래 기능을 수행하는 함수 `square`를 구현하기\n",
    "        * 매개변수 `t` 사용: 인자는 거북이 객체\n",
    "        * 실행하면 정사각형 그리기\n",
    "    <br><br>\n",
    "    1. `square` 함수에 `length` 매개변수 추가\n",
    "        * 정사각형 한 변의 길이가 `length`의 인자값으로 지정\n",
    "    <br><br>\n",
    "    1. `polygon` 함수 구현하기\n",
    "        * `square` 함수를 일반화하여 다각형 그리기\n",
    "        * 셋째 매개변수 `n` 사용.\n",
    "        * 실행하면 한 변의 길이가 `length`인 `n`각형 그리기\n",
    "        * 정 n-각형의 외각은 180/n 도 이다.\n",
    "    <img src=\"images/ExternalAngles.png\" style=\"width:300px\">\n",
    "\n",
    "    <그림 출처: [wikipedia.org](https://ko.wikipedia.org/wiki/내각과_외각)>\n",
    "    <br><br>"
   ]
  },
  {
   "cell_type": "markdown",
   "id": "6b4fb9d9",
   "metadata": {},
   "source": [
    "1. 원과 호를 그리는 함수를 구현하라. \n",
    "    참조: [Think Python: 인터페이스 설계](https://www.flowdas.com/thinkpython/04-case-study-interface-design/)\n",
    "    <br><br>\n",
    "    1. 앞서 정의한 `polygon` 함수를 이용하여 원을 그리는 함수 `circle`을 구현하라.\n",
    "        * 두 개의 매개변수 t와 r을 사용한다.\n",
    "            * `t`: 거북이 인자\n",
    "            * `r`: 반지름\n",
    "        * 힌트: 원을 정 n-각형을 이용하여 근사적으로 그릴 수 있다. 단, n이 매우 커야 한다. \n",
    "            * `length * n` = 원둘레.\n",
    "    <br><br>\n",
    "    1. `circle` 함수를 수정하여 아래 조건을 만족하는 `arc` 함수를 구현하라.\n",
    "        * 매개변수 `angle`을 추가한다. \n",
    "        * `angle`은 호(arc)를 그릴 때 사용되는 각도이다. \n",
    "        * 호는 부채꼴 모양으로 잘린 원의 일부를 가리킨다.\n",
    "        * 따라서 `angle = 360`이면 원을 그리게 된다. \n",
    "    <img src=\"images/circle_slices.png\" style=\"width:250px\">\n",
    "\n",
    "    <그림 출처: [wikipedia.org](https://ko.wikipedia.org/wiki/원_(기하학))>\n",
    "    <br><br>"
   ]
  },
  {
   "cell_type": "markdown",
   "id": "bb2859fe",
   "metadata": {},
   "source": [
    "1. 아래 그림의 도형을 그리는 함수들을 구현하라.\n",
    "    <img src=\"images/turtle05.png\" style=\"width:400px\">\n",
    "\n",
    "    힌트: 모범답안을 담고 있는 파이썬 코드가 \n",
    "    [여기](http://greenteapress.com/thinkpython2/code/letters.py)에 \n",
    "    있음. 단, 앞 링크에 있는 코드는 \n",
    "    [이곳](http://greenteapress.com/thinkpython2/code/polygon.py)의 \n",
    "    모듈을 불러와야 함.\n",
    "    <br><br>"
   ]
  },
  {
   "cell_type": "markdown",
   "id": "249e342b",
   "metadata": {},
   "source": [
    "1. 아래 그림의 도형을 그리는 함수들을 구현하라.\n",
    "    <img src=\"images/turtle04.png\" style=\"width:400px\">\n",
    "\n",
    "    힌트: 모범답안을 담고 있는 파이썬 코드가 \n",
    "    [여기](http://greenteapress.com/thinkpython2/code/pie.py)에 \n",
    "    있음.\n",
    "    <br><br>"
   ]
  },
  {
   "cell_type": "markdown",
   "id": "fdd03fa6",
   "metadata": {},
   "source": [
    "1. [아르키메데스 와선(spiral)](https://ko.wikipedia.org/wiki/와선)을 \n",
    "    그리는 함수를 구현하라.\n",
    "    <img src=\"images/spiral.png\" style=\"width:250px\">\n",
    "\n",
    "    <그림 출처: [wikipedia.org](https://ko.wikipedia.org/wiki/와선)>    \n",
    "    \n",
    "    힌트: 모범답안을 담고 있는 파이썬 코드가 \n",
    "    [여기](http://greenteapress.com/thinkpython2/code/spiral.py)에 \n",
    "    있음."
   ]
  },
  {
   "cell_type": "markdown",
   "id": "06148027",
   "metadata": {},
   "source": []
  }
 ],
 "metadata": {
  "kernelspec": {
   "display_name": "Python 3 (ipykernel)",
   "language": "python",
   "name": "python3"
  },
  "language_info": {
   "codemirror_mode": {
    "name": "ipython",
    "version": 3
   },
   "file_extension": ".py",
   "mimetype": "text/x-python",
   "name": "python",
   "nbconvert_exporter": "python",
   "pygments_lexer": "ipython3",
   "version": "3.9.7"
  }
 },
 "nbformat": 4,
 "nbformat_minor": 5
}
