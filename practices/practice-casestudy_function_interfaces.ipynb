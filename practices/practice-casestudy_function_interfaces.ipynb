{
 "cells": [
  {
   "cell_type": "markdown",
   "id": "fe93f864",
   "metadata": {},
   "source": [
    "# (실습) 사례 연구: 함수 인터페이스"
   ]
  },
  {
   "cell_type": "markdown",
   "id": "89a2c666",
   "metadata": {},
   "source": [
    "**참고**\n",
    "\n",
    "[사례 연구: 함수 인터페이스](https://codingalzi.github.io/pybook/casestudy_function_interfaces.html)에서\n",
    "소개한 함수들과 관련된다."
   ]
  },
  {
   "cell_type": "markdown",
   "id": "7d0862a7",
   "metadata": {},
   "source": [
    "**주의 사항**\n",
    "\n",
    "거북이 코드는 구글 코랩에서 지원되지 않는다.\n",
    "대신 개인 컴퓨터에 설치된 [IDLE 를 이용](https://aisw.tistory.com/5)하거나 [Trinket](https://trinket.io/) 을 이용할 것을 추천한다."
   ]
  },
  {
   "cell_type": "markdown",
   "id": "1f76cc51",
   "metadata": {},
   "source": [
    "**문제 1**"
   ]
  },
  {
   "cell_type": "markdown",
   "id": "cd15e83a",
   "metadata": {},
   "source": [
    "회오리 모양으로 움직이면서 점차 가속도가 붙는 거북이를 그리는 \n",
    "`whirl_turtle()` 함수를 구현한 후에 실행하라.\n",
    "\n",
    "힌트: `pendown()`, `penup()`, `stamp()` 메서드 활용"
   ]
  },
  {
   "cell_type": "markdown",
   "id": "acc2caf7",
   "metadata": {},
   "source": [
    "<div align=\"center\" border=\"1px\"><img src=\"https://raw.githubusercontent.com/codingalzi/pybook/master/jupyter-book/images/turtle06.png\" width=\"300\"/></div>"
   ]
  },
  {
   "cell_type": "markdown",
   "id": "00daab97",
   "metadata": {},
   "source": [
    "```python\n",
    "# pass 를 적절한 명령문으로 대체하라.\n",
    "\n",
    "import turtle\n",
    "wn = turtle.Screen()\n",
    "wn.bgcolor(\"lightyellow\")\n",
    "bob = turtle.Turtle()\n",
    "bob.shape(\"turtle\")        # 화살촉 대신 거북이 모양 선택\n",
    "bob.color(\"blue\")\n",
    "\n",
    "def whirl_turtle(t):\n",
    "    pass\n",
    "\n",
    "whirl_turtle(bob)\n",
    "\n",
    "wn.mainloop()\n",
    "```"
   ]
  },
  {
   "cell_type": "markdown",
   "id": "2fea57f9",
   "metadata": {},
   "source": [
    "**문제 2**"
   ]
  },
  {
   "cell_type": "markdown",
   "id": "72ead42b",
   "metadata": {},
   "source": [
    "(1) 아래 그림의 도형을 그리는 함수들을 구현하고 실행하라.\n",
    "\n",
    "힌트: `arc()` 함수 이용\n",
    "\n",
    "<div align=\"center\" border=\"1px\"><img src=\"https://raw.githubusercontent.com/codingalzi/pybook/master/jupyter-book/images/turtle05-1.png\" width=\"300\"/></div>"
   ]
  },
  {
   "cell_type": "markdown",
   "id": "61a4d352",
   "metadata": {},
   "source": [
    "(2) [여기](http://thinkpython2.com/code/polygon.py)에 정의되어 있는\n",
    "`arc()` 함수와 차이점을 예제를 이용하여 설명하라."
   ]
  },
  {
   "cell_type": "markdown",
   "id": "9f3d3216",
   "metadata": {},
   "source": [
    "**문제 3**"
   ]
  },
  {
   "cell_type": "markdown",
   "id": "cc5c6604",
   "metadata": {},
   "source": [
    "아래 그림의 도형을 그리는 함수들을 구현하라.\n",
    "<div align=\"center\" border=\"1px\"><img src=\"https://raw.githubusercontent.com/codingalzi/pybook/master/jupyter-book/images/turtle04-1.png\" width=\"300\"/></div>"
   ]
  },
  {
   "cell_type": "markdown",
   "id": "3b2905ba",
   "metadata": {},
   "source": [
    "**문제 4**"
   ]
  },
  {
   "cell_type": "markdown",
   "id": "56259a42",
   "metadata": {},
   "source": [
    "[아르키메데스 와선(spiral)](https://ko.wikipedia.org/wiki/와선)을 \n",
    "그리는 함수를 구현하라.\n",
    "<div align=\"center\" border=\"1px\"><img src=\"https://raw.githubusercontent.com/codingalzi/pybook/master/jupyter-book/images/spiral.png\" width=\"300\"/></div>\n",
    "\n",
    "<그림 출처: [wikipedia.org](https://ko.wikipedia.org/wiki/와선)>    "
   ]
  },
  {
   "cell_type": "markdown",
   "id": "ce67ba76",
   "metadata": {},
   "source": [
    "**문제 5**"
   ]
  },
  {
   "cell_type": "markdown",
   "id": "d5f29803",
   "metadata": {},
   "source": [
    "[realpython.com](https://realpython.com/beginners-guide-python-turtle/#getting-started-with-turtle)에서 \n",
    "소개한 프로그램이다. \n",
    "\n",
    "* 내용:\n",
    "    * 두 마리의 거북이가 경주하는 게임\n",
    "    * 동일 선상에 위치한 두 마리의 거북이가 목적지에 먼저 다다르도록 한다.\n",
    "* 규칙:\n",
    "    * 두 명이 번갈아 가며 주사위를 던진다.\n",
    "    * 주사위 던지기 결과에 맞춰 거북이를 전진시킨다.\n",
    "    * 목적지에 먼저 도달한 거북이가 승리한다.\n",
    "\n",
    "작동 방식은 [realpython.com: 거북이 경주](https://files.realpython.com/media/Update_-_Turtle_Race_Green_and_Blue.b1ee6be37a9f.gif)\n",
    "그림을 참고한다.\n",
    "게임 구상은 다음과 같다.\n",
    "\n",
    "1. 거북이 한 마리가 최종 목적지에 도달할 때 까지 무한 반복\n",
    "1. 반복 내용\n",
    "    * 두 마리중 한 마리가 목적지 도달 여부 판단\n",
    "    * 아직 아무도 도착하지 않은 경우\n",
    "        * 주사위 던지기\n",
    "        * 던져진 주사위 결과만큼 해당 선수의 거북이 전진시키기\n",
    "1. 필요한 프로그래밍 기본 요소\n",
    "    * `if` 조건문: 경우에 따라 다른 행동 지시\n",
    "    * `while` 반복문: 게임 종료 시까지 무한 반복\n",
    "    * `random.choice`: 주사위 구현\n",
    "        * 주사위 결과에 20 정도 곱한 값을 전진 거리로 사용할 것.\n",
    "\n",
    "거북이 10마리가 참여하는 게임을 구현하라. \n",
    "단, `turtle` 모듈 이외의 다른 그래픽 관련 모듈은 사용할 수 없다.\n",
    "\n",
    "힌트: 참고자료 몇 개를 언급하면 다음과 같다.\n",
    "\n",
    "* Python Tutorial - Turtle Race Game \n",
    "    [1부](https://www.youtube.com/watch?v=qOsbvj87Uos),\n",
    "    [2부](https://www.youtube.com/watch?v=AFqBlJurBnA)\n",
    "* [Free Python Games](http://www.grantjenks.com/docs/freegames/)\n",
    "* [Python Game Coding](http://christianthompson.com/blog/1)"
   ]
  }
 ],
 "metadata": {
  "kernelspec": {
   "display_name": "Python 3 (ipykernel)",
   "language": "python",
   "name": "python3"
  },
  "language_info": {
   "codemirror_mode": {
    "name": "ipython",
    "version": 3
   },
   "file_extension": ".py",
   "mimetype": "text/x-python",
   "name": "python",
   "nbconvert_exporter": "python",
   "pygments_lexer": "ipython3",
   "version": "3.9.7"
  }
 },
 "nbformat": 4,
 "nbformat_minor": 5
}
