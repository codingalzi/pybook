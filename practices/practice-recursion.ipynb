{
 "cells": [
  {
   "cell_type": "markdown",
   "id": "84765e7f",
   "metadata": {},
   "source": [
    "# (실습) 재귀 함수"
   ]
  },
  {
   "cell_type": "markdown",
   "id": "61dcc6ec",
   "metadata": {},
   "source": [
    "**문제 1**"
   ]
  },
  {
   "cell_type": "markdown",
   "id": "db3d2c91",
   "metadata": {},
   "source": [
    "양의 정수들의 최대공약수(gcd)를 반환하는 함수 `gcd()` 를 재귀를 이용하여 구현하라.\n",
    "\n",
    "힌트: 유클리드 호제법을 활용한다."
   ]
  },
  {
   "cell_type": "code",
   "execution_count": 1,
   "id": "d062401e",
   "metadata": {
    "id": "m7hR5DCuhEpo",
    "outputId": "6fb5492e-f4cd-4f9d-bbbc-40f146e2e6e8"
   },
   "outputs": [],
   "source": [
    "def gcd(x, y):\n",
    "    assert isinstance(x, int) and x > 0\n",
    "    assert isinstance(y, int) and y > 0\n",
    "    \n",
    "    pass\n",
    "\n",
    "    return None"
   ]
  },
  {
   "cell_type": "code",
   "execution_count": 2,
   "id": "8997e882",
   "metadata": {},
   "outputs": [],
   "source": [
    "# 아래 코드의 주석을 해제하고 실행하라.\n",
    "\n",
    "# assert gcd(14, 18) == 2\n",
    "# assert gcd(90, 72) == 18\n",
    "# assert gcd(24, 30) == 6"
   ]
  },
  {
   "cell_type": "markdown",
   "id": "02d70691",
   "metadata": {},
   "source": [
    "**문제 2**"
   ]
  },
  {
   "cell_type": "markdown",
   "id": "f6d15f1d",
   "metadata": {},
   "source": [
    "리스트 또는 튜플에 포함된 수들의 합을 반환하는 함수 `coll_sum()` 를 재귀를 이용하여 구현하라.\n",
    "또한 range 자료형도 지원해야 한다. "
   ]
  },
  {
   "cell_type": "code",
   "execution_count": 3,
   "id": "57f357a4",
   "metadata": {
    "id": "m7hR5DCuhEpo",
    "outputId": "6fb5492e-f4cd-4f9d-bbbc-40f146e2e6e8"
   },
   "outputs": [],
   "source": [
    "def coll_sum(ls):\n",
    "    pass\n",
    "\n",
    "    return None"
   ]
  },
  {
   "cell_type": "code",
   "execution_count": 4,
   "id": "3bf1b1b5",
   "metadata": {},
   "outputs": [],
   "source": [
    "# 아래 코드의 주석을 해제하고 실행하라.\n",
    "\n",
    "# assert coll_sum([1, 2, 3, 4, 5]) == 15\n",
    "# assert coll_sum(range(0, 11, 2)) == 30\n",
    "# assert coll_sum((1.2, 3.3, 5.6, 7.2, 9.8)) == 27.1"
   ]
  },
  {
   "cell_type": "markdown",
   "id": "17ba7a20",
   "metadata": {},
   "source": [
    "**문제 3**"
   ]
  },
  {
   "cell_type": "markdown",
   "id": "7b59d737",
   "metadata": {},
   "source": [
    "문자열을 받아 순서를 거꾸로 하는 문자열을 반환하는 `reverse()` 회귀 함수를 구현하라."
   ]
  },
  {
   "cell_type": "code",
   "execution_count": 5,
   "id": "558711cb",
   "metadata": {
    "id": "m7hR5DCuhEpo",
    "outputId": "6fb5492e-f4cd-4f9d-bbbc-40f146e2e6e8"
   },
   "outputs": [],
   "source": [
    "def reverse(s):\n",
    "    assert isinstance(s, str) and len(s) > 1\n",
    "    \n",
    "    pass\n",
    "\n",
    "    return None"
   ]
  },
  {
   "cell_type": "code",
   "execution_count": 6,
   "id": "c3cbf2ac",
   "metadata": {},
   "outputs": [],
   "source": [
    "# 아래 코드의 주석을 해제하고 실행하라.\n",
    "\n",
    "# assert reverse('hello') == 'olleh'\n",
    "# assert reverse('core python') == 'nohtyp eroc'\n",
    "# assert reverse('radar') == 'radar'"
   ]
  },
  {
   "cell_type": "markdown",
   "id": "1fa276c8",
   "metadata": {},
   "source": [
    "**문제 4**"
   ]
  },
  {
   "cell_type": "markdown",
   "id": "7e491391",
   "metadata": {},
   "source": [
    "회문(palindrome) 판별기 `is_pal()` 을 재귀 함수로 구현하라.\n",
    "회문은 읽는 순서를 뒤집어도 동일한 문장을 가리킨다.\n",
    "\n",
    "* 기러기\n",
    "* 탄도유도탄\n",
    "* radar\n",
    "* rotator\n",
    "* level\n",
    "\n",
    "단, 공백, 쉼표, 생략 기호, 마침표, 느낌표, 하이픈 등은 무시되며, 영어 알파벳의 대소문자도 구분하지 않는다. 즉 아래 문장들도 회문으로 인정받아야 한다.\n",
    "\n",
    "* 다시 합창합시다.\n",
    "* 야, 이 달은 밝은 달이야.\n",
    "* Madam, I'm Adam.\n",
    "* A man, a plan, a canal - Panama!"
   ]
  },
  {
   "cell_type": "code",
   "execution_count": 7,
   "id": "a7c0b919",
   "metadata": {
    "id": "m7hR5DCuhEpo",
    "outputId": "6fb5492e-f4cd-4f9d-bbbc-40f146e2e6e8"
   },
   "outputs": [],
   "source": [
    "def is_pal(s):\n",
    "    assert isinstance(s, str) and len(s) > 1\n",
    "    \n",
    "    pass\n",
    "\n",
    "    return None"
   ]
  },
  {
   "cell_type": "code",
   "execution_count": 8,
   "id": "f503b64d",
   "metadata": {},
   "outputs": [],
   "source": [
    "# 아래 코드의 주석을 해제하고 실행하라.\n",
    "\n",
    "# assert is_pal('기러기') == True\n",
    "# assert is_pal('다시 합창합시다.') == True\n",
    "# assert is_pal('radar') == True\n",
    "# assert is_pal('A man, a plan, a canal - Panama!') == True\n",
    "# assert is_pal('다시 합창') == False\n",
    "# assert is_pal('lovel') == False"
   ]
  },
  {
   "cell_type": "markdown",
   "id": "c3451dae",
   "metadata": {},
   "source": [
    "**문제 5**"
   ]
  },
  {
   "cell_type": "markdown",
   "id": "29c3db22",
   "metadata": {},
   "source": [
    "양의 정수를 이진법으로 변환하는 `to_bin()` 회귀 함수를 구현하라.\n",
    "단, 반환값은 이진법으로 작성된 문자열이어야 한다."
   ]
  },
  {
   "cell_type": "code",
   "execution_count": 9,
   "id": "2fa254ed",
   "metadata": {
    "id": "m7hR5DCuhEpo",
    "outputId": "6fb5492e-f4cd-4f9d-bbbc-40f146e2e6e8"
   },
   "outputs": [],
   "source": [
    "def to_bin(n):\n",
    "    assert isinstance(n, int) and n > 0\n",
    "    \n",
    "    pass\n",
    "\n",
    "    return None  # 이진법으로 표현된 문자열"
   ]
  },
  {
   "cell_type": "code",
   "execution_count": 10,
   "id": "11f345c0",
   "metadata": {},
   "outputs": [],
   "source": [
    "# 아래 코드의 주석을 해제하고 실행하라.\n",
    "\n",
    "# assert to_bin(10) == '1010'\n",
    "# assert to_bin(46685) == '1011011001011101'\n",
    "\n",
    "# assert eval('0b' + to_bin(10)) == 10\n",
    "# assert eval('0b' + to_bin(46685)) == 46685"
   ]
  },
  {
   "cell_type": "markdown",
   "id": "99a9599c",
   "metadata": {},
   "source": [
    "**문제 6**"
   ]
  },
  {
   "cell_type": "markdown",
   "id": "238cfd39",
   "metadata": {},
   "source": [
    "`to_bin()` 함수를 일반화하여 양의 수를 다양한 진법으로 변환하는 `to_base()` 회귀 함수를 구현하라.\n",
    "단, 반환값은 지정된 진법으로 표현된 문자열이어야 한다.\n",
    "또한 진법은 2진법, 8진법, 16진법으로 제한한다. \n",
    "\n",
    "* `n`: 정수를 받는 매개변수\n",
    "* `base`: 진법을 정하는 매개변수\n",
    "\n",
    "참고: 8진법인 경우엔 0부터 7까지의 수는 각각 '0', '1', ..., '7' 등으로 변환하며, 16진법인 경우엔 0부터 15까지의 수를 각각 '0', '1', ..., '9', 'A', 'B', ..., 'F'로 변환한다."
   ]
  },
  {
   "cell_type": "code",
   "execution_count": 11,
   "id": "af32f39f",
   "metadata": {
    "id": "m7hR5DCuhEpo",
    "outputId": "6fb5492e-f4cd-4f9d-bbbc-40f146e2e6e8"
   },
   "outputs": [],
   "source": [
    "def to_base(n, base):\n",
    "    assert isinstance(n, int) and n > 0\n",
    "    assert base in [2, 8, 16]\n",
    "    \n",
    "    pass\n",
    "\n",
    "    return None  # base 진법으로 표현된 문자열"
   ]
  },
  {
   "cell_type": "code",
   "execution_count": 12,
   "id": "c0bad734",
   "metadata": {},
   "outputs": [],
   "source": [
    "# 아래 코드의 주석을 해제하고 실행하라.\n",
    "\n",
    "# assert to_base(46685, 2) == to_bin(46685)\n",
    "# assert to_base(46685, 8) == '133135'\n",
    "# assert to_base(46685, 16) == 'B65D'"
   ]
  },
  {
   "cell_type": "markdown",
   "id": "28d07593",
   "metadata": {},
   "source": [
    "**문제 7**"
   ]
  },
  {
   "cell_type": "markdown",
   "id": "2f6f49ed",
   "metadata": {},
   "source": [
    "**문제 8**"
   ]
  },
  {
   "cell_type": "markdown",
   "id": "2ae77f15",
   "metadata": {},
   "source": [
    "**문제 9**"
   ]
  },
  {
   "cell_type": "markdown",
   "id": "ca4205b0",
   "metadata": {},
   "source": [
    "**문제 10**"
   ]
  },
  {
   "cell_type": "markdown",
   "id": "3d30c180",
   "metadata": {},
   "source": [
    "**문제 11**"
   ]
  },
  {
   "cell_type": "markdown",
   "id": "24377c51",
   "metadata": {},
   "source": [
    "**문제 12**"
   ]
  },
  {
   "cell_type": "markdown",
   "id": "6dd3fbb2",
   "metadata": {},
   "source": [
    "**문제 13**"
   ]
  },
  {
   "cell_type": "markdown",
   "id": "415da33c",
   "metadata": {},
   "source": [
    "**문제 14**"
   ]
  },
  {
   "cell_type": "markdown",
   "id": "062c3eb9",
   "metadata": {},
   "source": [
    "**문제 15**"
   ]
  },
  {
   "cell_type": "markdown",
   "id": "8acb8ffb",
   "metadata": {},
   "source": [
    "**문제 16**"
   ]
  }
 ],
 "metadata": {
  "kernelspec": {
   "display_name": "Python 3 (ipykernel)",
   "language": "python",
   "name": "python3"
  },
  "language_info": {
   "codemirror_mode": {
    "name": "ipython",
    "version": 3
   },
   "file_extension": ".py",
   "mimetype": "text/x-python",
   "name": "python",
   "nbconvert_exporter": "python",
   "pygments_lexer": "ipython3",
   "version": "3.9.7"
  }
 },
 "nbformat": 4,
 "nbformat_minor": 5
}
