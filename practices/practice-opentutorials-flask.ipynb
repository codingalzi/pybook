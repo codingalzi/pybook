{
 "cells": [
  {
   "cell_type": "markdown",
   "id": "5bfd6c3c",
   "metadata": {},
   "source": [
    "# (실습) 생활코딩: Flask"
   ]
  },
  {
   "cell_type": "markdown",
   "id": "8238aefb",
   "metadata": {},
   "source": [
    "**과제 1**"
   ]
  },
  {
   "cell_type": "markdown",
   "id": "2662eaa7",
   "metadata": {},
   "source": [
    "Flask 는 파이썬을 이용하여 웹앱을 만드는 데 사용되는 패키지입니다.\n",
    "아래 사이트의 동영상을 이용하여 Flask를 학습한 다음에 본인만의 웹서버를 구축하세요.\n",
    "웹서버 구축은 동영상에서 소개하는 Glitch 사이트를 이용합니다. \n",
    "\n",
    "[생활코딩 Flask Web Framework](https://opentutorials.org/course/4904)\n",
    "\n",
    "제출 사항: 학습내용 정리 보고서. 자신의 Glitch 웹페이지 주소 포함.\n",
    "보고서는 구글 문서를 이용한 다음에 링크 제출."
   ]
  }
 ],
 "metadata": {
  "kernelspec": {
   "display_name": "Python 3 (ipykernel)",
   "language": "python",
   "name": "python3"
  },
  "language_info": {
   "codemirror_mode": {
    "name": "ipython",
    "version": 3
   },
   "file_extension": ".py",
   "mimetype": "text/x-python",
   "name": "python",
   "nbconvert_exporter": "python",
   "pygments_lexer": "ipython3",
   "version": "3.9.7"
  }
 },
 "nbformat": 4,
 "nbformat_minor": 5
}
