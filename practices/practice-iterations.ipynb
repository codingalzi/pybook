{
 "cells": [
  {
   "cell_type": "markdown",
   "id": "2d03d247-e2d3-4afe-ab5e-83dc989ed62d",
   "metadata": {},
   "source": [
    "# (실습) 반복문"
   ]
  },
  {
   "cell_type": "markdown",
   "id": "009813d7",
   "metadata": {},
   "source": [
    "**문제**\n",
    "\n",
    "$d$ 미터 길이의 철로 양끝에 서로 마주보고 있는 두 대의 기차 $A$와 $B$가 있고,\n",
    "기차 $A$ 위에는 파리 한 마리가 있다.\n",
    "두 기차 $A$와 $B$가 서로를 향해 달릴 때, \n",
    "파리는 기차 $A$에서 기차 $B$까지 날아가다가 기차 B와 부딪히기 직전\n",
    "방향을 바꿔 기차 $A$에게 날아가고 다시 기차 $A$와 부딪히기 직전 \n",
    "기차 $B$를 향해 날아가기를 기차 $A$와 $B$가 부딪힐 때까지 반복한다.\n",
    "기차 $A$의 속력은 $a\\; m/s$, 기차 $B$의 속력은 $b\\; m/s$, \n",
    "파리의 속력은 $c\\; m/s$ 이다.\n",
    "\n",
    "$d$, $a$, $b$, $c$가 주어졌을 때, 파리가 부딪히기 직전까지 날아다닌 거리($m$)를 \n",
    "계산하는 코드를 작성하라.\n",
    "단, $d$, $a$, $b$, $c$ 모두 10000이하의 자연수이고 다음이 성립한다.\n",
    "\n",
    "$$\n",
    "a, b < c < d\n",
    "$$\n",
    "\n",
    "입력:\n",
    "\n",
    "```python\n",
    "d = 16\n",
    "a = 3\n",
    "b = 5\n",
    "c = 8\n",
    "```\n",
    "\n",
    "출력:\n",
    "\n",
    "```python\n",
    "파리가 움직인 거리: 16\n",
    "```"
   ]
  },
  {
   "cell_type": "markdown",
   "id": "19366172",
   "metadata": {},
   "source": [
    "**문제**\n",
    "\n",
    "다음과 같은 방법으로 (세 자리 수) $\\times$ (세 자리 수) 를 계산할 수 있다.<br><br>\n",
    "\n",
    "<div align=\"center\">\n",
    "<img src=\"https://raw.githubusercontent.com/hj617kim/core_pybook/master/images/ch04/pro01.png\" style=\"width:150px;\">\n",
    "</div>  \n",
    "\n",
    "두 개의 세 자리 수 `a`, `b` 가 주어질 때, &#9312;, &#9313;, &#9314;, &#9315;에 들어갈 값을 \n",
    "각각 줄변경하여 출력하는 구하는 코드를 작성하여라.  \n",
    "\n",
    "입력: \n",
    "\n",
    "```python\n",
    "a = 265\n",
    "b = 112\n",
    "```\n",
    "\n",
    "출력:  \n",
    "\n",
    "```python\n",
    "(1) 530   \n",
    "(2) 265  \n",
    "(3) 265 \n",
    "(4) 29680\n",
    "```"
   ]
  },
  {
   "cell_type": "markdown",
   "id": "20c22a03",
   "metadata": {},
   "source": [
    "**문제**\n",
    "\n",
    "500원, 100원, 50원, 10원 짜리 동전으로 거스름돈을 지급할 때\n",
    "동전의 개수를 최소화하고자 한다.\n",
    "거슬러 줘야 하는 금액이 $n$ 원일 때, 필요한 최소 동전의 개수를 출력하는 코드를 작성하라.\n",
    "단, $n$ 은 10의 배수이며 5000보다 작은 정수고, 모든 화폐는 충분히 많이 있다고 가정한다. \n",
    "\n",
    "입력: \n",
    "\n",
    "```python\n",
    "n = 1730\n",
    "```\n",
    "\n",
    "출력:\n",
    "\n",
    "```python\n",
    "거스름돈 1730 원을 지급할 때 필요한 동전의 최소 개수는 8 개이다.\n",
    "```"
   ]
  }
 ],
 "metadata": {
  "kernelspec": {
   "display_name": "Python 3 (ipykernel)",
   "language": "python",
   "name": "python3"
  },
  "language_info": {
   "codemirror_mode": {
    "name": "ipython",
    "version": 3
   },
   "file_extension": ".py",
   "mimetype": "text/x-python",
   "name": "python",
   "nbconvert_exporter": "python",
   "pygments_lexer": "ipython3",
   "version": "3.9.7"
  },
  "toc-autonumbering": true,
  "toc-showcode": false,
  "toc-showmarkdowntxt": false
 },
 "nbformat": 4,
 "nbformat_minor": 5
}
