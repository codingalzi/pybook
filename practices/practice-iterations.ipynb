{
 "cells": [
  {
   "cell_type": "markdown",
   "id": "2d03d247-e2d3-4afe-ab5e-83dc989ed62d",
   "metadata": {},
   "source": [
    "# (실습) 반복문"
   ]
  },
  {
   "cell_type": "markdown",
   "id": "9909a5d0",
   "metadata": {},
   "source": [
    "**문제**"
   ]
  },
  {
   "cell_type": "markdown",
   "id": "df1ed4a2",
   "metadata": {},
   "source": [
    "양의 정수가 입력되면 1 부터 n 까지의 정수의 합을 구하는 `sum_n()` 함수를 구현하라."
   ]
  },
  {
   "cell_type": "code",
   "execution_count": 3,
   "id": "adc83a94",
   "metadata": {},
   "outputs": [],
   "source": [
    "# pass 와 None 을 각각 적절한 명령문과 반환값으로 대체하라.\n",
    "\n",
    "def sum_n(n):\n",
    "    pass\n",
    "\n",
    "    return None"
   ]
  },
  {
   "cell_type": "code",
   "execution_count": 1,
   "id": "07d8fadc",
   "metadata": {},
   "outputs": [],
   "source": [
    "# 주석기호를 제거하고 실행할 때 오류가 발생하지 않아야 한다.\n",
    "\n",
    "# assert sum_n(3) == 6\n",
    "# assert sum_n(5) == 15\n",
    "# assert sum_n(10) == 55"
   ]
  },
  {
   "cell_type": "markdown",
   "id": "7e7c231a",
   "metadata": {},
   "source": [
    "**문제**"
   ]
  },
  {
   "cell_type": "markdown",
   "id": "61c09282",
   "metadata": {},
   "source": [
    "양의 정수가 입력되면 1 부터 n 까지의 정수의 제곱의 합을 구하는 `square_sum()` 함수를 구현하라."
   ]
  },
  {
   "cell_type": "code",
   "execution_count": 3,
   "id": "97b66fb7",
   "metadata": {},
   "outputs": [],
   "source": [
    "# pass 와 None 을 각각 적절한 명령문과 반환값으로 대체하라.\n",
    "\n",
    "def square_sum(n):\n",
    "    pass\n",
    "\n",
    "    return None"
   ]
  },
  {
   "cell_type": "code",
   "execution_count": 1,
   "id": "f8d8994e",
   "metadata": {},
   "outputs": [],
   "source": [
    "# 주석기호를 제거하고 실행할 때 오류가 발생하지 않아야 한다.\n",
    "\n",
    "# assert square_sum(1) == 1\n",
    "# assert square_sum(3) == 14\n",
    "# assert square_sum(5) == 55"
   ]
  },
  {
   "cell_type": "markdown",
   "id": "c8f0287d",
   "metadata": {},
   "source": [
    "**문제**"
   ]
  },
  {
   "cell_type": "markdown",
   "id": "816111e8",
   "metadata": {},
   "source": [
    "양의 정수가 입력되면 1 부터 n 까지의 정수의 제곱의 합을 \n",
    "음의 정수가 입력되면 n 부터 -n 까지의 정수의 제곱의 합을 구하는 `square_sum_abs()` 함수를 구현하라."
   ]
  },
  {
   "cell_type": "code",
   "execution_count": 3,
   "id": "dfb05d2c",
   "metadata": {},
   "outputs": [],
   "source": [
    "# pass 와 None 을 각각 적절한 명령문과 반환값으로 대체하라.\n",
    "\n",
    "def square_sum_abs(n):\n",
    "    pass\n",
    "\n",
    "    return None"
   ]
  },
  {
   "cell_type": "code",
   "execution_count": 2,
   "id": "804a87b1",
   "metadata": {},
   "outputs": [],
   "source": [
    "# 주석기호를 제거하고 실행할 때 오류가 발생하지 않아야 한다.\n",
    "\n",
    "# assert square_sum_abs(-1) == 2\n",
    "# assert square_sum_abs(-3) == 28\n",
    "# assert square_sum_abs(5) == 55\n",
    "# assert square_sum_abs(-5) == 110"
   ]
  },
  {
   "cell_type": "markdown",
   "id": "9287aea1",
   "metadata": {},
   "source": [
    "**문제**"
   ]
  },
  {
   "cell_type": "markdown",
   "id": "4bbf0706",
   "metadata": {},
   "source": [
    "얌체공을 높은 곳에서 놓아 자연낙하 시키면 바닥에 닿을 때마다 원래 높이의 2/3 만큼 튀어 오른다.\n",
    "하지만 바닥으로부터 1 cm 이하 높이가 되면 더 이상 튀어오르지 않는다.\n",
    "\n",
    "얌체공을 n cm 높이에서 자유낙하시키면 더 이상 튀어오르지 않을 때까지 튀어오른 공의 높이를 모두 \n",
    "합한 결과를 반환하는 `bouncy()` 함수를 구현하라.\n",
    "단, 반환값은 소숫점 이하 셋째자리에서 반올림한다.\n",
    "\n",
    "힌트: [`round()` 함수](https://www.w3schools.com/python/ref_func_round.asp) 참고"
   ]
  },
  {
   "cell_type": "code",
   "execution_count": 3,
   "id": "0a2d3a78",
   "metadata": {},
   "outputs": [],
   "source": [
    "# pass 와 None 을 각각 적절한 명령문과 반환값으로 대체하라.\n",
    "\n",
    "def bouncy(n):\n",
    "    pass\n",
    "\n",
    "    return None"
   ]
  },
  {
   "cell_type": "code",
   "execution_count": 15,
   "id": "10434f20",
   "metadata": {},
   "outputs": [],
   "source": [
    "# 주석기호를 제거하고 실행할 때 오류가 발생하지 않아야 한다.\n",
    "\n",
    "# assert bouncy(1) == 0\n",
    "# assert bouncy(2) == 2.22\n",
    "# assert bouncy(10) == 18.24"
   ]
  },
  {
   "cell_type": "markdown",
   "id": "f4e7fd14",
   "metadata": {},
   "source": [
    "**문제**"
   ]
  },
  {
   "cell_type": "markdown",
   "id": "a75a4330",
   "metadata": {},
   "source": [
    "[반복문](https://codingalzi.github.io/pybook/iterations.html)에서 소개한 \n",
    "`collatz()` 함수는 다음과 같다.\n",
    "\n",
    "```python\n",
    "def collatz(n):\n",
    "    while n != 1:\n",
    "        print(n, end=\" -> \")\n",
    "        if n%2 == 0:\n",
    "            n = n//2\n",
    "        else:\n",
    "            n = n*3 + 1\n",
    "            \n",
    "    print(1)\n",
    "```\n",
    "\n",
    "`while` 반복문이 실행된 횟수를 반환하도록 위 함수를 수정하라.\n",
    "단, 100번 이상 반복하면 실행을 멈추고 -1을 반환하도록 한다."
   ]
  },
  {
   "cell_type": "code",
   "execution_count": 3,
   "id": "966ba37e",
   "metadata": {},
   "outputs": [],
   "source": [
    "# pass 와 None 을 각각 적절한 명령문과 반환값으로 대체하라.\n",
    "\n",
    "def collatz(n):\n",
    "    pass\n",
    "\n",
    "    return None"
   ]
  },
  {
   "cell_type": "code",
   "execution_count": 4,
   "id": "0761ee90",
   "metadata": {},
   "outputs": [],
   "source": [
    "# 주석기호를 제거하고 실행할 때 오류가 발생하지 않아야 한다.\n",
    "\n",
    "# assert collatz(17) == 12\n",
    "# assert collatz(117) == 20\n",
    "# assert collatz(1117) == 44\n",
    "# assert collatz(11117) == -1"
   ]
  },
  {
   "cell_type": "markdown",
   "id": "4c18eb28",
   "metadata": {},
   "source": [
    "**문제**"
   ]
  },
  {
   "cell_type": "markdown",
   "id": "06ea6e08",
   "metadata": {},
   "source": [
    "철로 양끝에 서로 마주보고 있는 두 대의 기차 A 와 B 가 있고,\n",
    "기차 A 의 기관차 앞에는 파리 한 마리가 붙어 있다.\n",
    "두 기차 사이의 거리는 d 미터이다.\n",
    "\n",
    "두 기차 A 와 B 가 서로를 향해 달릴 때, \n",
    "파리는 기차 A 에서 기차 B 까지 날아가다가 기차 B 와 부딪히기 직전\n",
    "방향을 바꿔 기차 A 에게 날아가고 다시 기차 A 와 부딪히기 직전 \n",
    "기차 B를 향해 날아가기를 기차 A 와 B 가 부딪힐 때까지 반복한다.\n",
    "기차 A 의 속력은 a m/s, 기차 B의 속력은 b m/s, 파리의 속력은 c m/s 이다.\n",
    "단, c 가 a, b 보다 커서 파리가 기차보다 빨리 달리며,\n",
    "두 기차 사이의 거리 d 가 c 보다 크다.\n",
    "즉, 다음이 성립한다. \n",
    "\n",
    "```\n",
    "a, b < c < d\n",
    "```\n",
    "\n",
    "네 개의 자연수 a, b, c, d 가 주어졌을 때, 두 기차가 충돌하기 직전까지 파리가 날아다닌 거리(m)를 \n",
    "계산하여 반환하는 `fly()`  함수를 구현하라.\n",
    "단, `while` 반복문을 사용해야 한다."
   ]
  },
  {
   "cell_type": "code",
   "execution_count": 1,
   "id": "72af3c7e",
   "metadata": {},
   "outputs": [],
   "source": [
    "# pass 와 None 을 각각 적절한 명령문과 반환값으로 대체하라.\n",
    "def fly(a, b, c, d):\n",
    "    assert a < c < d\n",
    "    assert b < c\n",
    "    \n",
    "    pass\n",
    "\n",
    "    return None    "
   ]
  },
  {
   "cell_type": "code",
   "execution_count": 2,
   "id": "e2c14755",
   "metadata": {},
   "outputs": [],
   "source": [
    "# 주석기호를 제거하고 실행할 때 오류가 발생하지 않아야 한다.\n",
    "\n",
    "# assert fly(3, 5, 8, 16) == 16\n",
    "# assert fly( 5, 8, 11, 39) == 33"
   ]
  },
  {
   "cell_type": "markdown",
   "id": "c7fa01d2",
   "metadata": {},
   "source": [
    "**문제**"
   ]
  },
  {
   "cell_type": "markdown",
   "id": "d0abbd52",
   "metadata": {},
   "source": [
    "500원, 100원, 50원, 10원 짜리 동전으로 거스름돈을 지급할 때\n",
    "동전의 개수를 최소화하고자 한다.\n",
    "거슬러 줘야 하는 금액이 n 원일 때, 필요한 동전의 최소 개수를 반환하는\n",
    "`change()` 함수를 구현하라.\n",
    "단, n 은 10의 배수이며 5000보다 작은 정수고, 모든 동전은 무한히 많이 있다고 가정한다. \n",
    "\n",
    "힌트: [탐욕 알고리즘](https://code-lab1.tistory.com/11) 참고. `while` 반복문 활용."
   ]
  },
  {
   "cell_type": "code",
   "execution_count": 5,
   "id": "d51bb9a3",
   "metadata": {},
   "outputs": [],
   "source": [
    "# pass 와 None 을 각각 적절한 명령문과 반환값으로 대체하라.\n",
    "def change(n):\n",
    "    assert (n%10 == 0 and n < 5000)\n",
    "    \n",
    "    pass\n",
    "\n",
    "    return None    "
   ]
  },
  {
   "cell_type": "code",
   "execution_count": 6,
   "id": "6ae649ba",
   "metadata": {},
   "outputs": [],
   "source": [
    "# 아래 주석을 제거하고 실행할 때 오류가 발생하지 않아야 한다.\n",
    "\n",
    "# assert change(1730) == 8"
   ]
  },
  {
   "cell_type": "markdown",
   "id": "e0718485",
   "metadata": {},
   "source": [
    "**문제**"
   ]
  },
  {
   "cell_type": "markdown",
   "id": "19e4daf6",
   "metadata": {},
   "source": [
    "다음과 같은 방법으로 (세 자리 수) $\\times$ (세 자리 수) 를 계산할 수 있다.<br><br>\n",
    "\n",
    "<div align=\"center\">\n",
    "<img src=\"https://raw.githubusercontent.com/hj617kim/core_pybook/master/images/ch04/pro01.png\" style=\"width:150px;\">\n",
    "</div>  \n",
    "\n",
    "두 개의 세 자리 수 a 와 b 가 주어질 때, &#9312;, &#9313;, &#9314;, &#9315;에 들어갈 값을 \n",
    "각각 줄변경하여 출력하는 `mult()` 함수를 구현하라.\n",
    "반환값은 두 수의 곱이다.\n",
    "\n",
    "힌트: 문자열 인덱싱과 `for` 반복문 활용"
   ]
  },
  {
   "cell_type": "code",
   "execution_count": 7,
   "id": "f4efa1f9",
   "metadata": {},
   "outputs": [
    {
     "data": {
      "text/plain": [
       "True"
      ]
     },
     "execution_count": 7,
     "metadata": {},
     "output_type": "execute_result"
    }
   ],
   "source": [
    "100 <= 121 <= 999"
   ]
  },
  {
   "cell_type": "code",
   "execution_count": 8,
   "id": "c01aece3",
   "metadata": {},
   "outputs": [],
   "source": [
    "# pass 와 None 을 각각 적절한 명령문과 반환값으로 대체하라.\n",
    "def mult(a, b):\n",
    "    assert 100 <= a <= 999 \n",
    "    assert 100 <= b <= 999     \n",
    "\n",
    "    pass\n",
    "\n",
    "    return a * b"
   ]
  },
  {
   "cell_type": "code",
   "execution_count": 9,
   "id": "aea88946",
   "metadata": {},
   "outputs": [],
   "source": [
    "# 주석기호를 삭제하고 실행하라.\n",
    "\n",
    "# mult(265, 112)"
   ]
  },
  {
   "cell_type": "markdown",
   "id": "4d8ccb19",
   "metadata": {},
   "source": [
    "출력 결과는 다음과 같아야 한다.\n",
    "\n",
    "```python\n",
    "(1) 530   \n",
    "(2) 265  \n",
    "(3) 265 \n",
    "(4) 29680\n",
    "```"
   ]
  }
 ],
 "metadata": {
  "kernelspec": {
   "display_name": "Python 3 (ipykernel)",
   "language": "python",
   "name": "python3"
  },
  "language_info": {
   "codemirror_mode": {
    "name": "ipython",
    "version": 3
   },
   "file_extension": ".py",
   "mimetype": "text/x-python",
   "name": "python",
   "nbconvert_exporter": "python",
   "pygments_lexer": "ipython3",
   "version": "3.9.7"
  },
  "toc-autonumbering": true,
  "toc-showcode": false,
  "toc-showmarkdowntxt": false
 },
 "nbformat": 4,
 "nbformat_minor": 5
}
