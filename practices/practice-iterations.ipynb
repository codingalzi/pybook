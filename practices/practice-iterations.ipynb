{
 "cells": [
  {
   "cell_type": "markdown",
   "id": "2d03d247-e2d3-4afe-ab5e-83dc989ed62d",
   "metadata": {},
   "source": [
    "# (실습) 반복문"
   ]
  },
  {
   "cell_type": "markdown",
   "id": "ed7a65bb",
   "metadata": {},
   "source": [
    "## 문제 1"
   ]
  },
  {
   "cell_type": "markdown",
   "id": "028c32ae",
   "metadata": {},
   "source": [
    "2부터 9 까지의 자연수 `n`을 입력 받아 구구단의 `n`단을 아래 형식으로 출력하는 \n",
    "`times_table()` 함수를 `while` 반복문을 이용하여 작성한다.\n",
    "예를 들어 `time_table(3)`을 호출하면 3단을 다음과 같이 출력한다.\n",
    "\n",
    "```\n",
    "3 * 2 = 6\n",
    "3 * 3 = 9\n",
    "3 * 4 = 12\n",
    "3 * 5 = 15\n",
    "3 * 6 = 18\n",
    "3 * 7 = 21\n",
    "3 * 8 = 24\n",
    "3 * 9 = 27\n",
    "```"
   ]
  },
  {
   "cell_type": "code",
   "execution_count": 5,
   "id": "efee6386",
   "metadata": {},
   "outputs": [],
   "source": [
    "# pass 를 적절한 명령문으로 대체하세요.\n",
    "\n",
    "def times_table(n):\n",
    "    pass"
   ]
  },
  {
   "cell_type": "markdown",
   "id": "753ea90d",
   "metadata": {},
   "source": [
    "아래 코드를 실행하세요."
   ]
  },
  {
   "cell_type": "markdown",
   "id": "ac668a2d",
   "metadata": {},
   "source": [
    "- 3단"
   ]
  },
  {
   "cell_type": "code",
   "execution_count": null,
   "id": "d946eaa2",
   "metadata": {},
   "outputs": [],
   "source": [
    "times_table(3)"
   ]
  },
  {
   "cell_type": "markdown",
   "id": "75f686d7",
   "metadata": {},
   "source": [
    "- 8단"
   ]
  },
  {
   "cell_type": "code",
   "execution_count": null,
   "id": "f827f8a5",
   "metadata": {},
   "outputs": [],
   "source": [
    "times_table(8)"
   ]
  },
  {
   "cell_type": "markdown",
   "id": "952ceb6c",
   "metadata": {
    "id": "akoVfOTao55r"
   },
   "source": [
    "## 문제 2"
   ]
  },
  {
   "cell_type": "markdown",
   "id": "91077653",
   "metadata": {
    "id": "LyuZlArmhYVe"
   },
   "source": [
    "369게임은 자연수 `n`이 주어졌을 때 1부터 `n`까지의 자연수를\n",
    "다음 규칙에 따라 출력한다.\n",
    "\n",
    "* 3의 배수이거나 1의 자릿수가 3인 수일 경우, 해당하는 수를 출력하는 대신 문자열 `짝`을 출력\n",
    "* 나머지 수는 그대로 출력\n",
    "\n",
    "예를 들어, `n`이 15인 경우 다음과 같이 출력된다.\n",
    "\n",
    "```\n",
    "1 2 짝 4 5 짝 7 8 짝 10 11 짝 짝 14 짝\n",
    "```\n",
    "\n",
    "369게임을 진행하는 `game369()` 함수를 구현하여 `n`이 30일 때의 출력 결과를 확인하라.\n",
    "`game369()`는 하나의 매개변수만 사용한다.\n",
    "\n",
    "힌트: `range()` 함수, `for` 반복문, `%` 연산자, `print()` 함수의 `end` 키워드 인자 활용"
   ]
  },
  {
   "cell_type": "code",
   "execution_count": 8,
   "id": "10db5472",
   "metadata": {},
   "outputs": [],
   "source": [
    "# pass를 적절한 명령문으로 대체하세요.\n",
    "\n",
    "def game369(n):\n",
    "    pass"
   ]
  },
  {
   "cell_type": "markdown",
   "id": "bb819bde",
   "metadata": {},
   "source": [
    "아래 코드를 실행하세요."
   ]
  },
  {
   "cell_type": "code",
   "execution_count": null,
   "id": "a0d93063",
   "metadata": {},
   "outputs": [],
   "source": [
    "game369(15)"
   ]
  },
  {
   "cell_type": "code",
   "execution_count": null,
   "id": "d047cdbe",
   "metadata": {},
   "outputs": [],
   "source": [
    "game369(30)"
   ]
  },
  {
   "cell_type": "markdown",
   "id": "0fe8610e",
   "metadata": {
    "id": "akoVfOTao55r"
   },
   "source": [
    "## 문제 3"
   ]
  },
  {
   "cell_type": "markdown",
   "id": "d6fcc548",
   "metadata": {
    "id": "KSHjiCE0nlrM"
   },
   "source": [
    "`while` 반복문을 이용하여 양의 정수를 다른 양의 정수로 나눴을 때의 \n",
    "몫을 반환하는 `quotient()` 함수와\n",
    "나머지를 반환하는 `remainder()` 함수를 구현하라.\n",
    "단, 두 함수를 이용하여 아래와 같이 화면에 출력되도록 `print()` 함수를 호출하라.\n",
    "\n",
    "```python\n",
    "45 을(를) 7 (으)로 나눴을 때의 몫: 6\n",
    "45 을(를) 7 (으)로 나눴을 때의 나머지: 3\n",
    "```\n",
    "    \n",
    "단, 연산자는 덧셈, 뺄셈, 곱셈 연산자만 사용해야 한다. \n",
    "즉, 몫 연산자, 나머지 연산자 등 파이썬에세 기본으로 제공하는 \n",
    "연산자나 함수는 사용하지 않는다."
   ]
  },
  {
   "cell_type": "markdown",
   "id": "1e58e980",
   "metadata": {},
   "source": [
    "**답**"
   ]
  },
  {
   "cell_type": "markdown",
   "id": "b57e36f4",
   "metadata": {},
   "source": [
    "- 몫 반환 함수"
   ]
  },
  {
   "cell_type": "code",
   "execution_count": 11,
   "id": "6d7a92ce",
   "metadata": {},
   "outputs": [],
   "source": [
    "# pass 와 None 을 각각 적절한 명령문과 반환값으로 대체하세요.\n",
    "\n",
    "def quotient(number, divisor):\n",
    "    pass\n",
    "    return None"
   ]
  },
  {
   "cell_type": "markdown",
   "id": "45504f98",
   "metadata": {},
   "source": [
    "아래 코드를 실행하세요."
   ]
  },
  {
   "cell_type": "code",
   "execution_count": null,
   "id": "656c89a1",
   "metadata": {},
   "outputs": [],
   "source": [
    "print(45, \"을(를)\", 7, \"(으)로 나눴을 때의 몫:\", quotient(45, 7))"
   ]
  },
  {
   "cell_type": "markdown",
   "id": "c0c17348",
   "metadata": {},
   "source": [
    "- 나머지 반환 함수"
   ]
  },
  {
   "cell_type": "code",
   "execution_count": 11,
   "id": "e8101ac6",
   "metadata": {},
   "outputs": [],
   "source": [
    "# pass 와 None 을 각각 적절한 명령문과 반환값으로 대체하세요.\n",
    "\n",
    "def remainder(number, divisor):\n",
    "    pass\n",
    "    return None"
   ]
  },
  {
   "cell_type": "markdown",
   "id": "1a47bf0d",
   "metadata": {},
   "source": [
    "아래 코드를 실행하세요."
   ]
  },
  {
   "cell_type": "code",
   "execution_count": null,
   "id": "4e042d40",
   "metadata": {},
   "outputs": [],
   "source": [
    "print(45, \"을(를)\", 7, \"(으)로 나눴을 때의 나머지:\", remainder(45, 7))"
   ]
  },
  {
   "cell_type": "markdown",
   "id": "ad0f90a7",
   "metadata": {
    "id": "akoVfOTao55r"
   },
   "source": [
    "## 문제 4"
   ]
  },
  {
   "cell_type": "markdown",
   "id": "d0abbd52",
   "metadata": {},
   "source": [
    "거스름돈을 돌려주기 위해 필요한 최소한의 동전 개수를 알아내는 문제다. \n",
    "단, 사용할 수 있는 동전은 500원, 250원, 100원, 50원, 10원 5 종류이다.\n",
    "거슬러 줘야 하는 금액이 `n` 원일 때, 필요한 동전의 최소 개수를 반환하는\n",
    "`change()` 함수를 구현하라.\n",
    "단, n 은 10의 배수이면서 5000보다 작은 정수이고, \n",
    "모든 동전은 원하는 만큼 충분히 많이 있다고 가정한다. \n",
    "\n",
    "힌트: 거스름돈 지급에 사용되는 동전의 수를 최소화 하려면\n",
    "큰 액수의 동전을 최대한 많이 사용하면 된다.\n",
    "따라서 큰 액수의 동전부터 차례대로 최대한 많이 사용할 수 있는\n",
    "동전의 개수를 `for` 반복문과 이전 문제에서 정의한 \n",
    "`quotient()`, `remainder()` 두 함수를\n",
    "활용하여 구한다.\n",
    "\n",
    "참고: 앞서 설명한 힌트는\n",
    "[탐욕 알고리즘](https://codingalzi.github.io/algopy/greedy_algorithm_1.html)을\n",
    "응용한다."
   ]
  },
  {
   "cell_type": "code",
   "execution_count": 1,
   "id": "be097a1d",
   "metadata": {},
   "outputs": [],
   "source": [
    "# pass 와 None 을 각각 적절한 명령문과 반환값으로 대체하세요.\n",
    "\n",
    "def change(n):\n",
    "    pass\n",
    "\n",
    "    return None"
   ]
  },
  {
   "cell_type": "markdown",
   "id": "d60f4e53",
   "metadata": {},
   "source": [
    "아래 코드를 실행하세요."
   ]
  },
  {
   "cell_type": "markdown",
   "id": "ed5f1183",
   "metadata": {},
   "source": [
    "**주의사항**\n",
    "\n",
    "- 아래 코드는 수정 금지!\n",
    "- 아래 코드를 실행할 때 오류가 발생하지 않아야 함."
   ]
  },
  {
   "cell_type": "code",
   "execution_count": null,
   "id": "16bdf204",
   "metadata": {},
   "outputs": [],
   "source": [
    "assert change(620) == 4\n",
    "assert change(1730) == 8"
   ]
  },
  {
   "cell_type": "markdown",
   "id": "cb0bfb47",
   "metadata": {},
   "source": [
    "## 문제 5"
   ]
  },
  {
   "cell_type": "markdown",
   "id": "1115783c",
   "metadata": {},
   "source": [
    "복리 정기예금과 관련해서 원금, 연 복리이자, 예치기간이 주어졌을 때 \n",
    "지정된 예치기간 후에 받을 원리합계, 즉, 원금과 이자의 합을 반환하는\n",
    "`total()` 함수를 구현하라.\n",
    "단, 총이자를 계사할 때 `while` 반복문을 반드시 이용한다.\n",
    "\n",
    "예를 들어, 연 복리이자 5%인 정기예금에 백만원을 3년간 은행에 맡겼을 때\n",
    "3년 후에 수령할 금액은 원금 백만원에 이자 157,625원이 추가되어\n",
    "총 1,157,625원이 된다.\n",
    "\n",
    "힌트: 복리이자의 원리합계 계산 코드는 다음과 같다.\n",
    "\n",
    "```\n",
    "total = principal * (1 + rate)**period\n",
    "```"
   ]
  },
  {
   "cell_type": "code",
   "execution_count": 22,
   "id": "d3ee10a3",
   "metadata": {},
   "outputs": [],
   "source": [
    "# pass를 적절한 명령문으로 대체하세요.\n",
    "\n",
    "def savings(principal, rate, period):\n",
    "\n",
    "    pass\n",
    "\n",
    "    return total"
   ]
  },
  {
   "cell_type": "markdown",
   "id": "9e11d42b",
   "metadata": {},
   "source": [
    "아래 코드를 실행하세요."
   ]
  },
  {
   "cell_type": "code",
   "execution_count": null,
   "id": "0a52ac35",
   "metadata": {},
   "outputs": [],
   "source": [
    "print(\"백만원을 복리이자 5%로 3년 예치 후 받는 원금 + 이자는\", savings(1000000, 0.05, 3), \"원입니다.\")"
   ]
  },
  {
   "cell_type": "markdown",
   "id": "768246db",
   "metadata": {},
   "source": [
    "## 문제 6"
   ]
  },
  {
   "cell_type": "markdown",
   "id": "3c259017",
   "metadata": {},
   "source": [
    "`for`/`while` 반복문에 포함된  `break` 명령문이 실행되면\n",
    "실행중인 반복문의 실행이 종료된다.\n",
    "아래 코드를 실행해도 아무 것도 출력되지 않는 이유를 설명하라."
   ]
  },
  {
   "cell_type": "code",
   "execution_count": 24,
   "id": "54cb1804",
   "metadata": {},
   "outputs": [
    {
     "name": "stdout",
     "output_type": "stream",
     "text": [
      "- 3 은(는) 홀수다.\n",
      "실행 종료!\n"
     ]
    }
   ],
   "source": [
    "n = 3\n",
    "while n < 10:\n",
    "    is_even = True\n",
    "\n",
    "    if n % 2 == 1:\n",
    "        is_even = False\n",
    "        print(\"-\", n, \"은(는) 홀수다.\")\n",
    "    \n",
    "    break\n",
    "\n",
    "    if is_even:\n",
    "        print(\"-\", n, \"은(는) 짝수다.\")\n",
    "        \n",
    "    n += 1\n",
    "    \n",
    "print(\"실행 종료!\")"
   ]
  },
  {
   "cell_type": "markdown",
   "id": "6285101b",
   "metadata": {},
   "source": [
    "**설명**\n",
    "\n",
    "```\n",
    "\n",
    "\n",
    "```"
   ]
  },
  {
   "cell_type": "markdown",
   "id": "7b0c0894",
   "metadata": {},
   "source": [
    "## 문제 7"
   ]
  },
  {
   "cell_type": "markdown",
   "id": "f06efbfe",
   "metadata": {},
   "source": [
    "`for`/`while` 반복문에 포함된  `continue` 명령문이 실행되면\n",
    "실행중인 반복문의 처음으로 돌아가서 반복문을 다시 시작한다.\n",
    "특히 `for` 반복문에서는 다음 경우가 실행된다.\n",
    "아래 코드의 실행결과를 설명하라."
   ]
  },
  {
   "cell_type": "code",
   "execution_count": 25,
   "id": "dab051db",
   "metadata": {},
   "outputs": [],
   "source": [
    "def prime_check(n):\n",
    "\n",
    "    is_prime = True # 이 값이 계속 유지되면 소수임\n",
    "\n",
    "    for x in range(2, n):\n",
    "        if n % x == 0:\n",
    "            is_prime = False\n",
    "            print(\"-\", n, \"=\", x, \"*\", n//x)\n",
    "            continue\n",
    "            print(\"따라서\", n, \"은(는) 소수 아님!\")\n",
    "\n",
    "    if is_prime:\n",
    "        print(n, \"은(는) 소수다.\")\n",
    "    else:\n",
    "        print(\" \", n, \"은(는) 소수가 아니다.\")"
   ]
  },
  {
   "cell_type": "code",
   "execution_count": 26,
   "id": "8c1bd041",
   "metadata": {},
   "outputs": [
    {
     "name": "stdout",
     "output_type": "stream",
     "text": [
      "13 은(는) 소수다.\n"
     ]
    }
   ],
   "source": [
    "prime_check(13)"
   ]
  },
  {
   "cell_type": "code",
   "execution_count": 27,
   "id": "1e606b23",
   "metadata": {},
   "outputs": [
    {
     "name": "stdout",
     "output_type": "stream",
     "text": [
      "- 12 = 2 * 6\n",
      "- 12 = 3 * 4\n",
      "- 12 = 4 * 3\n",
      "- 12 = 6 * 2\n",
      "  12 은(는) 소수가 아니다.\n"
     ]
    }
   ],
   "source": [
    "prime_check(12)"
   ]
  },
  {
   "cell_type": "markdown",
   "id": "86cff1f3",
   "metadata": {},
   "source": [
    "**설명**\n",
    "\n",
    "```\n",
    "\n",
    "\n",
    "```"
   ]
  },
  {
   "cell_type": "markdown",
   "id": "c2fae5d3",
   "metadata": {},
   "source": [
    "## 문제 8"
   ]
  },
  {
   "cell_type": "markdown",
   "id": "15d38a63",
   "metadata": {},
   "source": [
    "`for`/`while` 반복문에 포함된  `continue` 명령문이 실행되면\n",
    "실행중인 반복문의 처음으로 돌아가서 반복문을 다시 시작한다.\n",
    "특히 `for` 반복문에서는 다음 경우가 실행된다.\n",
    "반면에 `for`/`while` 반복문애 포함된 `break` 명령문이 실행되면\n",
    "해당 반복문이 종료된다.\n",
    "아래 코드의 실행 결과를 설명하라."
   ]
  },
  {
   "cell_type": "code",
   "execution_count": 28,
   "id": "eebcd070",
   "metadata": {},
   "outputs": [
    {
     "name": "stdout",
     "output_type": "stream",
     "text": [
      "- 4 = 2 * 2\n",
      "- 6 = 2 * 3\n",
      "- 8 = 2 * 4\n",
      "- 9 = 3 * 3\n",
      "- 10 = 2 * 5\n"
     ]
    }
   ],
   "source": [
    "for n in range(2, 11):\n",
    "    is_prime = True # 이 값이 계속 유지되면 소수임\n",
    "\n",
    "    for x in range(2, n):\n",
    "        if n % x == 0:\n",
    "            is_prime = False\n",
    "            print(\"-\", n, \"=\", x, \"*\", n//x)\n",
    "            break\n",
    "            print(\"따라서\", n, \"은(는) 소수 아님!\")\n",
    "\n",
    "    continue\n",
    "    \n",
    "    if is_prime:\n",
    "        print(\"-\", n, \"은(는) 소수다.\")\n",
    "    else:\n",
    "        print(\" \", n, \"은(는) 소수가 아니다.\")"
   ]
  },
  {
   "cell_type": "markdown",
   "id": "22b9df9b",
   "metadata": {},
   "source": [
    "**설명**\n",
    "\n",
    "```\n",
    "\n",
    "\n",
    "```"
   ]
  },
  {
   "cell_type": "markdown",
   "id": "af94cac9",
   "metadata": {},
   "source": [
    "## 문제 9"
   ]
  },
  {
   "cell_type": "markdown",
   "id": "ba73c211",
   "metadata": {},
   "source": [
    "`for`/`while` 반복문이 중첩되어 사용되었을 때 \n",
    "내부의 `for`/`while` 반복문에 포함된 `break` 명령문이 실행되면\n",
    "해당 `for`/`while` 반복문만 종료된다.\n",
    "아래 두 코드가 동일한 내용을 출력하는 이유를 설명하라."
   ]
  },
  {
   "cell_type": "markdown",
   "id": "7007875b",
   "metadata": {},
   "source": [
    "- 코드 1"
   ]
  },
  {
   "cell_type": "code",
   "execution_count": 29,
   "id": "a726a61a",
   "metadata": {},
   "outputs": [
    {
     "name": "stdout",
     "output_type": "stream",
     "text": [
      "[0, 0]\n",
      "[1, 0]\n",
      "[1, 1]\n",
      "[2, 0]\n",
      "[2, 1]\n",
      "[2, 2]\n",
      "[3, 0]\n",
      "[3, 1]\n",
      "[3, 2]\n",
      "[3, 3]\n"
     ]
    }
   ],
   "source": [
    "for i in range(4):\n",
    "    for j in range(4):\n",
    "        if j > i:\n",
    "            break\n",
    "        print([i, j])"
   ]
  },
  {
   "cell_type": "markdown",
   "id": "cee98497",
   "metadata": {},
   "source": [
    "- 코드 2"
   ]
  },
  {
   "cell_type": "code",
   "execution_count": 30,
   "id": "18bdeef5",
   "metadata": {},
   "outputs": [
    {
     "name": "stdout",
     "output_type": "stream",
     "text": [
      "[0, 0]\n",
      "[1, 0]\n",
      "[1, 1]\n",
      "[2, 0]\n",
      "[2, 1]\n",
      "[2, 2]\n",
      "[3, 0]\n",
      "[3, 1]\n",
      "[3, 2]\n",
      "[3, 3]\n"
     ]
    }
   ],
   "source": [
    "for i in range(4):\n",
    "    for j in range(4):\n",
    "        if j > i:\n",
    "            continue\n",
    "        print([i, j])"
   ]
  },
  {
   "cell_type": "markdown",
   "id": "5d993673",
   "metadata": {},
   "source": [
    "**설명**\n",
    "\n",
    "```\n",
    "\n",
    "\n",
    "```"
   ]
  }
 ],
 "metadata": {
  "kernelspec": {
   "display_name": "Python 3 (ipykernel)",
   "language": "python",
   "name": "python3"
  },
  "language_info": {
   "codemirror_mode": {
    "name": "ipython",
    "version": 3
   },
   "file_extension": ".py",
   "mimetype": "text/x-python",
   "name": "python",
   "nbconvert_exporter": "python",
   "pygments_lexer": "ipython3",
   "version": "3.11.5"
  },
  "toc-autonumbering": true,
  "toc-showcode": false,
  "toc-showmarkdowntxt": false
 },
 "nbformat": 4,
 "nbformat_minor": 5
}
