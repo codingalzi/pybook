{
 "cells": [
  {
   "cell_type": "markdown",
   "id": "2d03d247-e2d3-4afe-ab5e-83dc989ed62d",
   "metadata": {},
   "source": [
    "# (실습) 반복문"
   ]
  },
  {
   "cell_type": "markdown",
   "id": "9909a5d0",
   "metadata": {},
   "source": [
    "## 문제"
   ]
  },
  {
   "cell_type": "markdown",
   "id": "028c32ae",
   "metadata": {},
   "source": [
    "2부터 9 사이의 자연수 `n`을 입력 받아 구구단에서 `n`단을 아래 형식으로 출력하는 코드를 \n",
    "`while` 반복문을 이용하여 작성한다.\n",
    "예를 들어 3을 입력하면 3단을 다음과 같이 출력력한다.\n",
    "\n",
    "```\n",
    "3 * 2 = 6\n",
    "3 * 3 = 9\n",
    "3 * 4 = 12\n",
    "3 * 5 = 15\n",
    "3 * 6 = 18\n",
    "3 * 7 = 21\n",
    "3 * 8 = 24\n",
    "3 * 9 = 27\n",
    "```"
   ]
  },
  {
   "cell_type": "markdown",
   "id": "9f736d25",
   "metadata": {},
   "source": [
    "**답**"
   ]
  },
  {
   "cell_type": "markdown",
   "id": "aab501f4",
   "metadata": {},
   "source": [
    "2부터 시작해서 `while` 반복문의 본문이 실행될 때마다 1씩 커지는\n",
    "방식으로 업데이트되는 변수 `num`을 활용한다."
   ]
  },
  {
   "cell_type": "code",
   "execution_count": 1,
   "id": "7aeca112",
   "metadata": {},
   "outputs": [
    {
     "name": "stdout",
     "output_type": "stream",
     "text": [
      "1에서 9 사이의 자연수 입력: 3\n",
      "3 * 2 = 6\n",
      "3 * 3 = 9\n",
      "3 * 4 = 12\n",
      "3 * 5 = 15\n",
      "3 * 6 = 18\n",
      "3 * 7 = 21\n",
      "3 * 8 = 24\n",
      "3 * 9 = 27\n"
     ]
    }
   ],
   "source": [
    "n = int(input(\"1에서 9 사이의 자연수 입력: \"))\n",
    "\n",
    "num = 2\n",
    "while num < 10:\n",
    "    print(n, '*', num, '=', n*num)\n",
    "    num += 1"
   ]
  },
  {
   "cell_type": "markdown",
   "id": "d8250b1d",
   "metadata": {
    "id": "akoVfOTao55r"
   },
   "source": [
    "## 문제"
   ]
  },
  {
   "cell_type": "markdown",
   "id": "816111e8",
   "metadata": {},
   "source": [
    "사용자가 입력한 값 `n`이 양의 정수이면 \n",
    "1부터 `n`까지의 정수의 제곱의 합을, \n",
    "그렇지 않으면 n 부터 -n 까지의 정수의 제곱의 합을 \n",
    "계산하는 코드를 구현하라."
   ]
  },
  {
   "cell_type": "markdown",
   "id": "b7aa2b49",
   "metadata": {},
   "source": [
    "**답**"
   ]
  },
  {
   "cell_type": "markdown",
   "id": "1892af81",
   "metadata": {},
   "source": []
  },
  {
   "cell_type": "code",
   "execution_count": 6,
   "id": "b0b8abe3",
   "metadata": {},
   "outputs": [
    {
     "name": "stdout",
     "output_type": "stream",
     "text": [
      "정수를 하나 입력하세요: -2\n",
      "합: 10\n"
     ]
    }
   ],
   "source": [
    "n = int(input(\"정수를 하나 입력하세요: \"))\n",
    "\n",
    "sum = 0\n",
    "if n > 0:\n",
    "    for num in range(1, n+1):\n",
    "        sum += num\n",
    "else:\n",
    "    for num in range(n, -n+1):\n",
    "        sum += num**2\n",
    "\n",
    "print(\"합:\", sum)"
   ]
  },
  {
   "cell_type": "markdown",
   "id": "e0701c49",
   "metadata": {
    "id": "akoVfOTao55r"
   },
   "source": [
    "## 문제"
   ]
  },
  {
   "cell_type": "markdown",
   "id": "87598e48",
   "metadata": {
    "id": "DL3G4F7CmkA1"
   },
   "source": [
    "자연수 `n`이 주어졌을 때, 1과 `n` 자신을 제외한 `n`의 약수를 모두 출력하는 프로그램을 작성하라.\n",
    "예를 들어 `n`이 24일 때 다음과 같이 출력되어야 한다.\n",
    "\n",
    "```\n",
    "24의 약수: 2 3 4 6 8 12\n",
    "```\n",
    "\n",
    "힌트: `for` 반복문, `range()` 함수, `print()` 함수의 `sep`, ``end` 키워드 인자 활용"
   ]
  },
  {
   "cell_type": "markdown",
   "id": "db3f4647",
   "metadata": {
    "id": "akoVfOTao55r"
   },
   "source": [
    "## 문제"
   ]
  },
  {
   "cell_type": "markdown",
   "id": "d6fcc548",
   "metadata": {
    "id": "KSHjiCE0nlrM"
   },
   "source": [
    "`while` 반복문을 이용하여 양의 정수를 다른 양의 정수로 나눴을 때의 몫과 나머지를 구하는 프로그램을 구현하라.\n",
    "예를 들어 43을 7로 나눴을 때의 아래처럼 출력해야 한다.\n",
    "\n",
    "```python\n",
    "43 를 7 로 나눴을 때의 나머지: 6 (와)과 1\n",
    "```\n",
    "\n",
    "단, 연산자는 덧셈, 뺄셈, 곱셈 연산자만 사용해야 한다. \n",
    "즉, 몫과 나머지 연산자 등 파이썬에세 기본으로 제공하는 어떤 연산자나 함수는 사용하지 않는다."
   ]
  },
  {
   "cell_type": "markdown",
   "id": "1e58e980",
   "metadata": {},
   "source": [
    "**답**"
   ]
  },
  {
   "cell_type": "code",
   "execution_count": 13,
   "id": "781844db",
   "metadata": {},
   "outputs": [
    {
     "name": "stdout",
     "output_type": "stream",
     "text": [
      "첫재 양의 정수 하나 입력: 43\n",
      "둘째 양의 정수 하나 입력: 7\n",
      "43 를 7 로 나눴을 때의 나머지: 6 (와)과 1\n"
     ]
    }
   ],
   "source": [
    "number = int(input(\"첫재 양의 정수 하나 입력: \"))\n",
    "divisor = int(input(\"둘째 양의 정수 하나 입력: \"))\n",
    "\n",
    "count = 0\n",
    "\n",
    "while divisor * count <= number:\n",
    "    count += 1\n",
    "\n",
    "quotient = count - 1\n",
    "residual = number - divisor * quotient\n",
    "    \n",
    "print(number, \"를\", divisor, \"로 나눴을 때의 나머지:\", quotient, \"(와)과\", residual)"
   ]
  },
  {
   "cell_type": "markdown",
   "id": "484c84c0",
   "metadata": {
    "id": "akoVfOTao55r"
   },
   "source": [
    "## 문제"
   ]
  },
  {
   "cell_type": "markdown",
   "id": "6a5f8f30",
   "metadata": {
    "id": "FEiLOk0rkCpe"
   },
   "source": [
    "다음은 369게임의 수정된 규칙이다.\n",
    "\n",
    "* 3의 배수이거나 3을 포함하는 경우, 해당하는 수를 출력하는 대신 문자열 `짝`을 출력\n",
    "* 3의 배수이면서 3을 포함하는 경우, 해당하는 수를 출력하는 대신 문자열 `짝짝`을 출력\n",
    "* 나머지 수는 그대로 출력\n",
    "* 마지막에 `짝`이 몇 번 나왔는지 출력\n",
    "\n",
    "예를 들어, n이 10인 경우 다음과 같이 출력된다.\n",
    "\n",
    "```\n",
    "1 2 짝짝 4 5 짝 7 8 짝 10\n",
    "횟수: 4 번\n",
    "```\n",
    "\n",
    "369게임을 진행하는 프로그램을 구현하여 n이 30일 때의 출력 결과를 확인하라.\n",
    "\n",
    "힌트: `for` 반복문, `%` 연산자, `in` 연산자, `str()` 함수, `print()` 함수의 `end` 키워드 인자"
   ]
  },
  {
   "cell_type": "markdown",
   "id": "8db84368",
   "metadata": {},
   "source": [
    "**답**"
   ]
  },
  {
   "cell_type": "code",
   "execution_count": null,
   "id": "7a010d41",
   "metadata": {},
   "outputs": [],
   "source": []
  },
  {
   "cell_type": "markdown",
   "id": "c7fa01d2",
   "metadata": {},
   "source": [
    "## 문제"
   ]
  },
  {
   "cell_type": "markdown",
   "id": "d0abbd52",
   "metadata": {},
   "source": [
    "500원, 100원, 50원, 10원 짜리 동전으로 거스름돈을 지급할 때\n",
    "동전의 개수를 최소화하고자 한다.\n",
    "거슬러 줘야 하는 금액이 n 원일 때, 필요한 동전의 최소 개수를 반환하는\n",
    "`change()` 함수를 구현하라.\n",
    "단, n 은 10의 배수이며 5000보다 작은 정수고, 모든 동전은 무한히 많이 있다고 가정한다. \n",
    "\n",
    "힌트: [탐욕 알고리즘](https://code-lab1.tistory.com/11) 참고. `while` 반복문 활용."
   ]
  },
  {
   "cell_type": "code",
   "execution_count": 13,
   "id": "d51bb9a3",
   "metadata": {},
   "outputs": [],
   "source": [
    "# pass 와 None 을 각각 적절한 명령문과 반환값으로 대체하라.\n",
    "def change(n):\n",
    "    assert (n%10 == 0 and n < 5000)\n",
    "    \n",
    "    pass\n",
    "\n",
    "    return None    "
   ]
  },
  {
   "cell_type": "code",
   "execution_count": 14,
   "id": "6ae649ba",
   "metadata": {},
   "outputs": [],
   "source": [
    "# 아래 주석을 제거하고 실행할 때 오류가 발생하지 않아야 한다.\n",
    "\n",
    "# assert change(1730) == 8"
   ]
  },
  {
   "cell_type": "markdown",
   "id": "90a4079f",
   "metadata": {},
   "source": [
    "## 문제"
   ]
  },
  {
   "cell_type": "markdown",
   "id": "a6e50964",
   "metadata": {
    "id": "DxP4L1g30ZpC"
   },
   "source": [
    "100만원을 복리로 연이자 5%인 예금에 3년간 은행에 맡겼을 때\n",
    "3년 후에 수령할 금액을 계산하는 코드를 `while` 반복문을 이용하여 \n",
    "원리합계를 계산하는 코드를 작성한다."
   ]
  },
  {
   "cell_type": "markdown",
   "id": "5a13e7fd",
   "metadata": {
    "id": "DxP4L1g30ZpC"
   },
   "source": [
    "단, 다음 형식으로 출력하라.\n",
    "\n",
    "> 3년 후 받을 원금 + 이자는 OOO 원입니다."
   ]
  },
  {
   "cell_type": "markdown",
   "id": "5fdb6a8d",
   "metadata": {},
   "source": [
    "복리계산은 아래와 같이 계산한다."
   ]
  },
  {
   "cell_type": "markdown",
   "id": "c3677e6c",
   "metadata": {},
   "source": [
    "> 원리합계 ＝ 원금 * (1 ＋ 연금리/일년에 이자받는횟수) ** (일년에 이자받는횟수 * 기간)"
   ]
  },
  {
   "cell_type": "markdown",
   "id": "650dd945",
   "metadata": {},
   "source": [
    "복리 개념과 계산법에 대해서는 아래 링크를 참고한다.\n",
    "\n",
    "- [복리 개념과 계산법](https://a2-finance.com/ko/calculators/%EB%AA%A8%EB%93%A0-%EA%B3%84%EC%82%B0%EA%B8%B0/%EB%B3%B5%EB%A6%AC-%EA%B3%84%EC%82%B0%EA%B8%B0)"
   ]
  },
  {
   "cell_type": "markdown",
   "id": "1adf2e90",
   "metadata": {},
   "source": [
    "아래 변수를 활용한다.\n",
    "\n",
    "- principal = 원금\n",
    "- rate = 연이자율\n",
    "- period = 저축기간(년)\n",
    "- savings = 원리합계"
   ]
  },
  {
   "cell_type": "code",
   "execution_count": 81,
   "id": "27459a8e",
   "metadata": {},
   "outputs": [],
   "source": [
    "# 코드를 완성한다.\n",
    "# None은 적절한 정수, 부동소수점 또는 수식으로 대체한다.\n",
    "\n"
   ]
  },
  {
   "cell_type": "markdown",
   "id": "298ab3cf",
   "metadata": {},
   "source": [
    "모범답안:"
   ]
  },
  {
   "cell_type": "markdown",
   "id": "f7e8f230",
   "metadata": {},
   "source": [
    "복리에 대한 원리합계를 계산하는 식은 다음과 같았다.\n",
    "\n",
    "    savings = principal * (1 + rate/1)**(1 * period)\n",
    "    \n",
    "정리하면 아래가 된다.\n",
    "\n",
    "    savings = principal * (1 + rate)**period\n",
    "\n",
    "따라서 저축기간인 `period` 가 1년 증가할 때마다 원리합계는 이전 원리합계에 `(1 + rate)`를 곱한 결과이다.\n",
    "이 정보를 `while` 반복문에 적용하여 다음과 같이 원리합계를 계산할 수 있다."
   ]
  },
  {
   "cell_type": "code",
   "execution_count": 82,
   "id": "ab61bed5",
   "metadata": {},
   "outputs": [
    {
     "name": "stdout",
     "output_type": "stream",
     "text": [
      "12개월 후 받는 원금 + 이자는 1157625.0 원입니다.\n"
     ]
    }
   ],
   "source": [
    "principal = 1000000 # 원금\n",
    "rate = 0.05         # 연이자\n",
    "period = 3          # 3년\n",
    "\n",
    "savings = principal # period가 0일 때는 원금만 있음.\n",
    "num_of_years = 1\n",
    "\n",
    "while num_of_years <= period:\n",
    "    savings = savings * (1 + rate)\n",
    "    num_of_years = num_of_years + 1\n",
    "    \n",
    "print(\"12개월 후 받는 원금 + 이자는\", savings, \"원입니다.\")   "
   ]
  },
  {
   "cell_type": "markdown",
   "id": "ee48280b",
   "metadata": {},
   "source": [
    "주의사항:"
   ]
  },
  {
   "cell_type": "markdown",
   "id": "6d59403d",
   "metadata": {},
   "source": [
    "## 문제"
   ]
  },
  {
   "cell_type": "markdown",
   "id": "6e0a9152",
   "metadata": {},
   "source": [
    "- 설명하는 문제!"
   ]
  },
  {
   "cell_type": "markdown",
   "id": "fd81e8c8",
   "metadata": {},
   "source": [
    "**`break` 명령문과 `while` 반복문**"
   ]
  },
  {
   "cell_type": "markdown",
   "id": "0bcafcca",
   "metadata": {},
   "source": [
    "`break` 명령문은 `while` 반복문에서 사용될 때에도 기능은 동일하다.\n",
    "즉 `break` 명령문이 실행되는 순간 `while` 반복문의 실행이 종료된다.\n",
    "\n",
    "예를 들어 아래 코드는 앞서 소개한 \"수 알아맞히기 게임\" 코드를 조금 수정해서\n",
    "사용자가 게임 실행중에 아무 때나 반복문의 실행을 종료하는 기능을 추가하였다.\n",
    "추가된 코드는 다음과 같다.\n",
    "\n",
    "```python\n",
    "if guess == 0:\n",
    "    break\n",
    "```\n",
    "\n",
    "즉, 사용자가 0을 입력하고 <kbd>Enter</kbd>키를 누르면\n",
    "반복문의 실행이 바로 종료되고\n",
    "코드에 남은 이후의 명령문이 실행된다."
   ]
  },
  {
   "cell_type": "code",
   "execution_count": 48,
   "id": "23b44dae",
   "metadata": {},
   "outputs": [
    {
     "name": "stdout",
     "output_type": "stream",
     "text": [
      "수 알아맞히기 게임에 환영합니다.\n",
      "1부터 100 사이의 정수 하나를 입력하세요: 0\n",
      "게임 종료!\n"
     ]
    }
   ],
   "source": [
    "print(\"수 알아맞히기 게임에 환영합니다.\")\n",
    "\n",
    "secret = 17\n",
    "guess = -1   # 이어지는 while 반복문이 최소 한 번은 실행되도록 함\n",
    "\n",
    "while guess != secret:\n",
    "    guess = int(input(\"1부터 100 사이의 정수 하나를 입력하세요: \"))\n",
    "    \n",
    "    if guess == 0:       # 0이 입력되면 반복문 실행 종료\n",
    "        break\n",
    "        \n",
    "    if guess == secret:\n",
    "        print(\"맞았습니다!\")\n",
    "    elif guess > secret:\n",
    "        print(\"너무 커요!\")\n",
    "    else:\n",
    "        print(\"너무 작아요!\")\n",
    "\n",
    "print(\"게임 종료!\")"
   ]
  },
  {
   "cell_type": "markdown",
   "id": "06c8a6a4",
   "metadata": {},
   "source": [
    "문제 10의 답은 `1157625.0000000002`원인데 문제 11의 답은 `1157625.0`원 이다.\n",
    "이는 컴퓨터가 부동소수점 연산을 수학에서 배운 정의와 조금 다르게 하기 때문이다.\n",
    "이는 파이썬의 문제가 아니라 현존 컴퓨터의 문제이다.\n",
    "더 자세한 내용은 여기서는 다루지 않는다."
   ]
  },
  {
   "cell_type": "markdown",
   "id": "c3ae2cd4",
   "metadata": {},
   "source": [
    "## 문제"
   ]
  },
  {
   "cell_type": "markdown",
   "id": "803cddbd",
   "metadata": {},
   "source": [
    "**`continue` 명령문과 `while` 반복문**"
   ]
  },
  {
   "cell_type": "markdown",
   "id": "68d8b9c4",
   "metadata": {},
   "source": [
    "`while` 반복문의 본문을 실행하다가 `continue` 명령문 차례가 되는 순간\n",
    "바로 다시 `while` 반복문의 처음으로 되돌아 간다.\n",
    "\n",
    "예를 들어 아래 코드는 0보자 작거나 100보다 큰 정수를 입력하면 아래 `if` 조건문에 의해\n",
    "`while guess != secret`로 돌아가서 반복문을 다시 처음부터 실행한다.\n",
    " \n",
    "```python\n",
    "if guess < 0 or guess > 100:\n",
    "    continue\n",
    "```\n",
    "\n",
    "실제로 0 미만 100 초과 값을 세 번 입력한 후에 0을 입력한 결과는 다음과 같다."
   ]
  },
  {
   "cell_type": "code",
   "execution_count": 53,
   "id": "16974978",
   "metadata": {},
   "outputs": [
    {
     "name": "stdout",
     "output_type": "stream",
     "text": [
      "수 알아맞히기 게임에 환영합니다.\n",
      "1부터 100 사이의 정수 하나를 입력하세요: 200\n",
      "1부터 100 사이의 정수 하나를 입력하세요: 140\n",
      "1부터 100 사이의 정수 하나를 입력하세요: -30\n",
      "1부터 100 사이의 정수 하나를 입력하세요: 0\n",
      "게임 종료!\n"
     ]
    }
   ],
   "source": [
    "print(\"수 알아맞히기 게임에 환영합니다.\")\n",
    "\n",
    "secret = 17\n",
    "guess = -1   # 이어지는 while 반복문이 최소 한 번은 실행되도록 함\n",
    "\n",
    "while guess != secret:\n",
    "    guess = int(input(\"1부터 100 사이의 정수 하나를 입력하세요: \"))\n",
    "    \n",
    "    if guess < 0 or guess > 100:   # 0 미만, 100 초과의 값이 입력되면 다시 값을 입력 받도록 함\n",
    "        continue\n",
    "        \n",
    "    if guess == 0:       # 0이 입력되면 반복문 실행 종료\n",
    "        break\n",
    "\n",
    "    if guess == secret:\n",
    "        print(\"맞았습니다!\")\n",
    "    elif guess > secret:\n",
    "        print(\"너무 커요!\")\n",
    "    else:\n",
    "        print(\"너무 작아요!\")\n",
    "\n",
    "print(\"게임 종료!\")"
   ]
  },
  {
   "cell_type": "markdown",
   "id": "dcef03b8",
   "metadata": {},
   "source": [
    "## 문제"
   ]
  },
  {
   "cell_type": "markdown",
   "id": "1b0b4249",
   "metadata": {},
   "source": [
    "`for` 또는 `while` 반복문이 중첩되어 사용되었을 때 \n",
    "내부의 `for`/`while` 반복문에 포함된 `break` 명령문이 실행되면\n",
    "해당 `for`/`while` 반복문만 종료된다."
   ]
  },
  {
   "cell_type": "markdown",
   "id": "97a7e374",
   "metadata": {},
   "source": [
    "아래 경우는?"
   ]
  },
  {
   "cell_type": "code",
   "execution_count": 1,
   "id": "cc903d55",
   "metadata": {},
   "outputs": [
    {
     "name": "stdout",
     "output_type": "stream",
     "text": [
      "- 2 은(는) 소수다.\n"
     ]
    }
   ],
   "source": [
    "for n in range(2, 11):\n",
    "    is_prime = True # 이 값이 계속 유지되면 소수임\n",
    "\n",
    "    for x in range(2, n):\n",
    "        if n % x == 0:\n",
    "            is_prime = False\n",
    "            print(\"-\", n, \"=\", x, \"*\", n//x, end=\", \")\n",
    "            print(\"따라서\", n, \"은(는) 소수가 아니다.\")\n",
    "            break\n",
    "\n",
    "    if is_prime:\n",
    "        print(\"-\", n, \"은(는) 소수다.\")\n",
    "        \n",
    "    break"
   ]
  },
  {
   "cell_type": "markdown",
   "id": "a7a0b20d",
   "metadata": {},
   "source": [
    "아래 코드는?"
   ]
  },
  {
   "cell_type": "code",
   "execution_count": 3,
   "id": "211ce237",
   "metadata": {},
   "outputs": [
    {
     "name": "stdout",
     "output_type": "stream",
     "text": [
      "- 2 은(는) 소수다.\n",
      "- 3 은(는) 소수다.\n",
      "- 5 은(는) 소수다.\n",
      "- 7 은(는) 소수다.\n"
     ]
    }
   ],
   "source": [
    "for n in range(2, 11):\n",
    "    is_prime = True # 이 값이 계속 유지되면 소수임\n",
    "\n",
    "    for x in range(2, n):\n",
    "        if n % x == 0:\n",
    "            is_prime = False\n",
    "            continue\n",
    "            \n",
    "    if is_prime:\n",
    "        print(\"-\", n, \"은(는) 소수다.\")"
   ]
  },
  {
   "cell_type": "markdown",
   "id": "51278535",
   "metadata": {},
   "source": [
    "아래 코드는?"
   ]
  },
  {
   "cell_type": "code",
   "execution_count": 4,
   "id": "2afedf03",
   "metadata": {},
   "outputs": [
    {
     "name": "stdout",
     "output_type": "stream",
     "text": [
      "- 2 은(는) 소수다.\n",
      "- 3 은(는) 소수다.\n",
      "- 5 은(는) 소수다.\n",
      "- 7 은(는) 소수다.\n"
     ]
    }
   ],
   "source": [
    "for n in range(2, 10):\n",
    "    is_prime = True # 이 값이 계속 유지되면 소수임\n",
    "\n",
    "    for x in range(2, n):\n",
    "        if n % x == 0:\n",
    "            is_prime = False\n",
    "            continue\n",
    "\n",
    "    if is_prime:\n",
    "        print(\"-\", n, \"은(는) 소수다.\")"
   ]
  },
  {
   "cell_type": "code",
   "execution_count": null,
   "id": "c49a9082",
   "metadata": {},
   "outputs": [],
   "source": []
  }
 ],
 "metadata": {
  "kernelspec": {
   "display_name": "Python 3 (ipykernel)",
   "language": "python",
   "name": "python3"
  },
  "language_info": {
   "codemirror_mode": {
    "name": "ipython",
    "version": 3
   },
   "file_extension": ".py",
   "mimetype": "text/x-python",
   "name": "python",
   "nbconvert_exporter": "python",
   "pygments_lexer": "ipython3",
   "version": "3.11.4"
  },
  "toc-autonumbering": true,
  "toc-showcode": false,
  "toc-showmarkdowntxt": false
 },
 "nbformat": 4,
 "nbformat_minor": 5
}
