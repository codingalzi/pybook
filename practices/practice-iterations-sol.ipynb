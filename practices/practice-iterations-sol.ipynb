{
 "cells": [
  {
   "cell_type": "markdown",
   "id": "2d03d247-e2d3-4afe-ab5e-83dc989ed62d",
   "metadata": {},
   "source": [
    "# (실습) 반복문"
   ]
  },
  {
   "cell_type": "markdown",
   "id": "9909a5d0",
   "metadata": {},
   "source": [
    "## 문제 1"
   ]
  },
  {
   "cell_type": "markdown",
   "id": "028c32ae",
   "metadata": {},
   "source": [
    "2부터 9 까지의 자연수 `n`을 입력 받아 구구단의 `n`단을 아래 형식으로 출력하는 \n",
    "`times_table()` 함수를 `while` 반복문을 이용하여 작성한다.\n",
    "예를 들어 `time_table(3)`을 호출하면 3단을 다음과 같이 출력력한다.\n",
    "\n",
    "```\n",
    "3 * 2 = 6\n",
    "3 * 3 = 9\n",
    "3 * 4 = 12\n",
    "3 * 5 = 15\n",
    "3 * 6 = 18\n",
    "3 * 7 = 21\n",
    "3 * 8 = 24\n",
    "3 * 9 = 27\n",
    "```"
   ]
  },
  {
   "cell_type": "markdown",
   "id": "9f736d25",
   "metadata": {},
   "source": [
    "**답**"
   ]
  },
  {
   "cell_type": "markdown",
   "id": "aab501f4",
   "metadata": {},
   "source": [
    "2부터 시작해서 `while` 반복문의 본문이 실행될 때마다 1씩 커지는\n",
    "방식으로 업데이트되는 변수 `num`을 활용한다.\n",
    "예를 들어 아래 코드는 3단을 출력한다."
   ]
  },
  {
   "cell_type": "code",
   "execution_count": 1,
   "id": "7aeca112",
   "metadata": {},
   "outputs": [
    {
     "name": "stdout",
     "output_type": "stream",
     "text": [
      "3 * 2 = 6\n",
      "3 * 3 = 9\n",
      "3 * 4 = 12\n",
      "3 * 5 = 15\n",
      "3 * 6 = 18\n",
      "3 * 7 = 21\n",
      "3 * 8 = 24\n",
      "3 * 9 = 27\n"
     ]
    }
   ],
   "source": [
    "n = 3\n",
    "\n",
    "num = 2\n",
    "while num < 10:\n",
    "    print(n, '*', num, '=', n*num)\n",
    "    num += 1"
   ]
  },
  {
   "cell_type": "markdown",
   "id": "8ad8f5e2",
   "metadata": {},
   "source": [
    "5단을 출력하기 위해서는 `n`에 5만 할당하면 되며,\n",
    "코드의 다른 부분은 그대로 둔다."
   ]
  },
  {
   "cell_type": "code",
   "execution_count": 2,
   "id": "0a0f7cad",
   "metadata": {},
   "outputs": [
    {
     "name": "stdout",
     "output_type": "stream",
     "text": [
      "5 * 2 = 10\n",
      "5 * 3 = 15\n",
      "5 * 4 = 20\n",
      "5 * 5 = 25\n",
      "5 * 6 = 30\n",
      "5 * 7 = 35\n",
      "5 * 8 = 40\n",
      "5 * 9 = 45\n"
     ]
    }
   ],
   "source": [
    "n = 5\n",
    "\n",
    "num = 2\n",
    "while num < 10:\n",
    "    print(n, '*', num, '=', n*num)\n",
    "    num += 1"
   ]
  },
  {
   "cell_type": "markdown",
   "id": "f8f1c1ea",
   "metadata": {},
   "source": [
    "따라서 변수 `n`을 매개변수로 사용하는 함수를 선언하면\n",
    "`n`단을 출력하는 함수가 된다."
   ]
  },
  {
   "cell_type": "code",
   "execution_count": 3,
   "id": "efee6386",
   "metadata": {},
   "outputs": [],
   "source": [
    "def times_table(n):\n",
    "    num = 2\n",
    "    while num < 10:\n",
    "        print(n, '*', num, '=', n*num)\n",
    "        num += 1"
   ]
  },
  {
   "cell_type": "markdown",
   "id": "ac668a2d",
   "metadata": {},
   "source": [
    "- 3단"
   ]
  },
  {
   "cell_type": "code",
   "execution_count": 4,
   "id": "7a2e6250",
   "metadata": {},
   "outputs": [
    {
     "name": "stdout",
     "output_type": "stream",
     "text": [
      "3 * 2 = 6\n",
      "3 * 3 = 9\n",
      "3 * 4 = 12\n",
      "3 * 5 = 15\n",
      "3 * 6 = 18\n",
      "3 * 7 = 21\n",
      "3 * 8 = 24\n",
      "3 * 9 = 27\n"
     ]
    }
   ],
   "source": [
    "times_table(3)"
   ]
  },
  {
   "cell_type": "markdown",
   "id": "75f686d7",
   "metadata": {},
   "source": [
    "- 8단"
   ]
  },
  {
   "cell_type": "code",
   "execution_count": 3,
   "id": "301cdb47",
   "metadata": {},
   "outputs": [
    {
     "name": "stdout",
     "output_type": "stream",
     "text": [
      "8 * 2 = 16\n",
      "8 * 3 = 24\n",
      "8 * 4 = 32\n",
      "8 * 5 = 40\n",
      "8 * 6 = 48\n",
      "8 * 7 = 56\n",
      "8 * 8 = 64\n",
      "8 * 9 = 72\n"
     ]
    }
   ],
   "source": [
    "times_table(8)"
   ]
  },
  {
   "cell_type": "markdown",
   "id": "32523209",
   "metadata": {
    "id": "akoVfOTao55r"
   },
   "source": [
    "## 문제 2"
   ]
  },
  {
   "cell_type": "markdown",
   "id": "a15ce209",
   "metadata": {},
   "source": [
    "양의 정수 `n`과 함께 호출되면 \n",
    "1부터 `n`까지의 정수의 제곱의 합을, \n",
    "음의 정수 `n`과 함께 호출되면 `n` 부터 `-n` 까지의 정수의 제곱의 합을 \n",
    "반환하는 `pos_neg_sum()` 함수를 구현하라.\n",
    "\n",
    "힌트: `if` 조건문, `for` 반복문, `range()` 함수 활용"
   ]
  },
  {
   "cell_type": "markdown",
   "id": "9768eddf",
   "metadata": {},
   "source": [
    "**답**"
   ]
  },
  {
   "cell_type": "markdown",
   "id": "ff4debda",
   "metadata": {},
   "source": [
    "1부터 `n`까지의 정수들의 구간은 `range(1, n+1)`로,\n",
    "`n`부터 `-n`까지의 정수들의 구간은 `range(n, -n+1)`로 표현된다.\n",
    "\n",
    "`n`이 양수인지 아닌지 여부에 따라 지정된 구간에 포함된 정수들의 합은\n",
    "`for` 반복문을 이용하여 구한다.\n",
    "단, 누적합을 저장하는 `sum = 0` 변수를 먼저 선언한다.\n",
    "\n",
    "- 1부터 `n`까지의 정수들의 합\n",
    "\n",
    "```python\n",
    "for num in range(1, n+1):\n",
    "    sum += num\n",
    "```\n",
    "\n",
    "- `n`부터 `-n`까지의 정수들의 합\n",
    "\n",
    "```python\n",
    "for num in range(1, n+1):\n",
    "    sum += num\n",
    "```"
   ]
  },
  {
   "cell_type": "markdown",
   "id": "c60d5cd4",
   "metadata": {},
   "source": [
    "위 설명을 종합해서 `pos_neg_sum()` 함수를 다음과 같이 구현한다."
   ]
  },
  {
   "cell_type": "code",
   "execution_count": 6,
   "id": "ad2ebb13",
   "metadata": {},
   "outputs": [],
   "source": [
    "def pos_neg_sum(n):\n",
    "    sum = 0\n",
    "\n",
    "    if n > 0:\n",
    "        for num in range(1, n+1):\n",
    "            sum += num\n",
    "    else:\n",
    "        for num in range(n, -n+1):\n",
    "            sum += num**2\n",
    "    \n",
    "    return sum"
   ]
  },
  {
   "cell_type": "markdown",
   "id": "cbe55258",
   "metadata": {},
   "source": [
    "- 1부터 10까지의 합"
   ]
  },
  {
   "cell_type": "code",
   "execution_count": 7,
   "id": "fec817e1",
   "metadata": {},
   "outputs": [
    {
     "data": {
      "text/plain": [
       "55"
      ]
     },
     "execution_count": 7,
     "metadata": {},
     "output_type": "execute_result"
    }
   ],
   "source": [
    "pos_neg_sum(10)"
   ]
  },
  {
   "cell_type": "markdown",
   "id": "b1874b0d",
   "metadata": {},
   "source": [
    "- -5부터 5까지 정수들의 제곱의 합"
   ]
  },
  {
   "cell_type": "code",
   "execution_count": 8,
   "id": "007d8f60",
   "metadata": {},
   "outputs": [
    {
     "data": {
      "text/plain": [
       "110"
      ]
     },
     "execution_count": 8,
     "metadata": {},
     "output_type": "execute_result"
    }
   ],
   "source": [
    "pos_neg_sum(-5)"
   ]
  },
  {
   "cell_type": "markdown",
   "id": "4b3233cf",
   "metadata": {},
   "source": [
    "실제로 -5부터 5까지 정수들의 제곱의 합은 \n",
    "1부터 5까지의 제곱의 합의 두 배이며 다음과 같다."
   ]
  },
  {
   "cell_type": "code",
   "execution_count": 9,
   "id": "ee03a90e",
   "metadata": {},
   "outputs": [
    {
     "data": {
      "text/plain": [
       "110"
      ]
     },
     "execution_count": 9,
     "metadata": {},
     "output_type": "execute_result"
    }
   ],
   "source": [
    "(5**2 + 4**2 + 3**2 + 2**2 + 1**2) * 2"
   ]
  },
  {
   "cell_type": "markdown",
   "id": "d8250b1d",
   "metadata": {
    "id": "akoVfOTao55r"
   },
   "source": [
    "## 문제 3"
   ]
  },
  {
   "cell_type": "markdown",
   "id": "91077653",
   "metadata": {
    "id": "LyuZlArmhYVe"
   },
   "source": [
    "369게임은 자연수 `n`이 주어졌을 때 1부터 `n`까지의 자연수를\n",
    "다음 규칙에 따라 출력한다.\n",
    "\n",
    "* 3의 배수이거나 1의 자릿수가 3인 수일 경우, 해당하는 수를 출력하는 대신 문자열 `짝`을 출력\n",
    "* 나머지 수는 그대로 출력\n",
    "\n",
    "예를 들어, `n`이 15인 경우 다음과 같이 출력된다.\n",
    "\n",
    "```\n",
    "1 2 짝 4 5 짝 7 8 짝 10 11 짝 짝 14 짝\n",
    "```\n",
    "\n",
    "369게임을 진행하는 `game369()` 함수를 구현하여 `n`이 30일 때의 출력 결과를 확인하라.\n",
    "`game369()`는 하나의 매개변수만 사용한다.\n",
    "\n",
    "힌트: `range()` 함수, `for` 반복문, `%` 연산자, `print()` 함수의 `end` 키워드 인자 활용"
   ]
  },
  {
   "cell_type": "markdown",
   "id": "2fd3a525",
   "metadata": {},
   "source": [
    "**답**"
   ]
  },
  {
   "cell_type": "markdown",
   "id": "dac3a259",
   "metadata": {},
   "source": [
    "`num`이 가리키는 정수에 대해\n",
    "논리식 `num % 10 == 3`는 10으로 나눴을 때의 나머지가 3일 때 참이되는데\n",
    "이유는 어떤 정수를 10으로 나눈 나머지가 바로 그 수의 일의 자릿수이기 때문이다.\n",
    "\n",
    "따라서 \"3의 배수이거나 1의 자릿수가 3인 수일 경우\"를 아래 논리식으로 표현할 수 있다.\n",
    "\n",
    "```python\n",
    "num % 3 == 0 or num % 10 == 3\n",
    "```\n",
    "\n",
    "`range(1, n+1)` 구간의 정수에 대해 아래 논리식이 참이면 짝을, 아니면\n",
    "해당 정수를 출력하도록 하면 된다.\n",
    "이를 위해 아래 함수처럼 `for` 반복문을 이용한다."
   ]
  },
  {
   "cell_type": "code",
   "execution_count": 15,
   "id": "10db5472",
   "metadata": {},
   "outputs": [],
   "source": [
    "def game369(n):\n",
    "    for num in range(1, n+1):\n",
    "        if num % 3 == 0 or num % 10 == 3:\n",
    "            print('짝', end=' ')\n",
    "        else:\n",
    "            print(num, end=' ')"
   ]
  },
  {
   "cell_type": "code",
   "execution_count": 16,
   "id": "03e1c460",
   "metadata": {},
   "outputs": [
    {
     "name": "stdout",
     "output_type": "stream",
     "text": [
      "1 2 짝 4 5 짝 7 8 짝 10 11 짝 짝 14 짝 "
     ]
    }
   ],
   "source": [
    "game369(15)"
   ]
  },
  {
   "cell_type": "code",
   "execution_count": 17,
   "id": "b8f417da",
   "metadata": {},
   "outputs": [
    {
     "name": "stdout",
     "output_type": "stream",
     "text": [
      "1 2 짝 4 5 짝 7 8 짝 10 11 짝 짝 14 짝 16 17 짝 19 20 짝 22 짝 짝 25 26 짝 28 29 짝 "
     ]
    }
   ],
   "source": [
    "game369(30)"
   ]
  },
  {
   "cell_type": "markdown",
   "id": "e0701c49",
   "metadata": {
    "id": "akoVfOTao55r"
   },
   "source": [
    "## 문제 4"
   ]
  },
  {
   "cell_type": "markdown",
   "id": "d6fcc548",
   "metadata": {
    "id": "KSHjiCE0nlrM"
   },
   "source": [
    "`while` 반복문을 이용하여 양의 정수를 다른 양의 정수로 나눴을 때의 \n",
    "몫을 계산하는 `quotient()` 함수를 구현하라.\n",
    "예를 들어 `quotient(43, 7)` 형식으로 호출되었을 때 \n",
    "아래와 같이 출력되어야 한다.\n",
    "\n",
    "```python\n",
    "43 을(를) 7 (으)로 나눴을 때의 몫: 6\n",
    "```\n",
    "\n",
    "단, 연산자는 덧셈, 뺄셈, 곱셈 연산자만 사용해야 한다. \n",
    "즉, 몫과 나머지 연산자 등 파이썬에세 기본으로 제공하는 어떤 연산자나 함수는 사용하지 않는다."
   ]
  },
  {
   "cell_type": "markdown",
   "id": "1e58e980",
   "metadata": {},
   "source": [
    "**답**"
   ]
  },
  {
   "cell_type": "markdown",
   "id": "364eb3ce",
   "metadata": {},
   "source": [
    "예를 들어 43을 7로 나눌 때의 몫은 7단을 읊으다가 43보다 커지는 순간\n",
    "그때까지 7에 곱한 값에서 1을 뺀 값이 몫이 된다.\n",
    "\n",
    "```\n",
    "7 * 1 = 7\n",
    "7 * 2 = 14\n",
    ".\n",
    ".\n",
    ".\n",
    "7 * 6 = 42\n",
    "7 * 7 = 49   <= 43보다 큼\n",
    "```\n",
    "\n",
    "즉, 7에서 1을 뺀 6이 43을 7로 나눴을 때의 몫이 된다.\n",
    "이 아이디어를 코드로 구현한 함수는 다음과 같다.\n",
    "함수의 정의에 사용된 변수의 역할은 다음과 같다.\n",
    "\n",
    "- `number`: 나눠지는 수를 인자로 받는 매개변수\n",
    "- `divisor`: 나누는 수를 인자로 받는 매개변수\n",
    "- `count`: 나누는 수에 곱해지는 수\n",
    "\n",
    "그러면 `divisor * count <= number`이 만족되는 동안 `count` 값을 1씩 키운다."
   ]
  },
  {
   "cell_type": "code",
   "execution_count": 20,
   "id": "781844db",
   "metadata": {},
   "outputs": [],
   "source": [
    "def quotient(number, divisor):\n",
    "    count = 0\n",
    "\n",
    "    while divisor * count <= number:\n",
    "        count += 1\n",
    "\n",
    "    print(number, \"을(를)\", divisor, \"(으)로 나눴을 때의 몫:\", count-1)"
   ]
  },
  {
   "cell_type": "code",
   "execution_count": 21,
   "id": "dbb8c765",
   "metadata": {},
   "outputs": [
    {
     "name": "stdout",
     "output_type": "stream",
     "text": [
      "43 을(를) 7 (으)로 나눴을 때의 몫: 6\n"
     ]
    }
   ],
   "source": [
    "quotient(43, 7)"
   ]
  },
  {
   "cell_type": "markdown",
   "id": "c7fa01d2",
   "metadata": {},
   "source": [
    "## 문제 5"
   ]
  },
  {
   "cell_type": "markdown",
   "id": "d0abbd52",
   "metadata": {},
   "source": [
    "500원, 100원, 50원, 10원 짜리 동전으로 거스름돈을 지급할 때\n",
    "동전의 개수를 최소화하고자 한다.\n",
    "거슬러 줘야 하는 금액이 n 원일 때, 필요한 동전의 최소 개수를 반환하는\n",
    "`change()` 함수를 구현하라.\n",
    "단, n 은 10의 배수이면서 5000보다 작은 정수이고, \n",
    "모든 동전은 원하는 만큼 충분히 많이 있다고 가정한다. \n",
    "\n",
    "힌트: `while` 반복문 활용.\n",
    "\n",
    "참고: [탐욕 알고리즘](https://code-lab1.tistory.com/11)"
   ]
  },
  {
   "cell_type": "code",
   "execution_count": 13,
   "id": "d51bb9a3",
   "metadata": {},
   "outputs": [],
   "source": [
    "# pass 와 None 을 각각 적절한 명령문과 반환값으로 대체하라.\n",
    "def change(n):\n",
    "    pass\n",
    "\n",
    "    return None    "
   ]
  },
  {
   "cell_type": "code",
   "execution_count": 13,
   "id": "38126c7c",
   "metadata": {},
   "outputs": [],
   "source": [
    "def change(n):\n",
    "    \n",
    "    return None    "
   ]
  },
  {
   "cell_type": "code",
   "execution_count": 14,
   "id": "6ae649ba",
   "metadata": {},
   "outputs": [],
   "source": [
    "# 아래 주석을 제거하고 실행할 때 오류가 발생하지 않아야 한다.\n",
    "\n",
    "# assert change(1730) == 8"
   ]
  },
  {
   "cell_type": "markdown",
   "id": "90a4079f",
   "metadata": {},
   "source": [
    "## 문제 6"
   ]
  },
  {
   "cell_type": "markdown",
   "id": "a6e50964",
   "metadata": {
    "id": "DxP4L1g30ZpC"
   },
   "source": [
    "100만원을 복리로 연이자 5%인 예금에 3년간 은행에 맡겼을 때\n",
    "3년 후에 수령할 금액을 계산하는 코드를 `while` 반복문을 이용하여 \n",
    "원리합계를 계산하는 코드를 작성한다."
   ]
  },
  {
   "cell_type": "markdown",
   "id": "5a13e7fd",
   "metadata": {
    "id": "DxP4L1g30ZpC"
   },
   "source": [
    "단, 다음 형식으로 출력하라.\n",
    "\n",
    "> 3년 후 받을 원금 + 이자는 OOO 원입니다."
   ]
  },
  {
   "cell_type": "markdown",
   "id": "5fdb6a8d",
   "metadata": {},
   "source": [
    "복리계산은 아래와 같이 계산한다."
   ]
  },
  {
   "cell_type": "markdown",
   "id": "c3677e6c",
   "metadata": {},
   "source": [
    "> 원리합계 ＝ 원금 * (1 ＋ 연금리/일년에 이자받는횟수) ** (일년에 이자받는횟수 * 기간)"
   ]
  },
  {
   "cell_type": "markdown",
   "id": "650dd945",
   "metadata": {},
   "source": [
    "복리 개념과 계산법에 대해서는 아래 링크를 참고한다.\n",
    "\n",
    "- [복리 개념과 계산법](https://a2-finance.com/ko/calculators/%EB%AA%A8%EB%93%A0-%EA%B3%84%EC%82%B0%EA%B8%B0/%EB%B3%B5%EB%A6%AC-%EA%B3%84%EC%82%B0%EA%B8%B0)"
   ]
  },
  {
   "cell_type": "markdown",
   "id": "1adf2e90",
   "metadata": {},
   "source": [
    "아래 변수를 활용한다.\n",
    "\n",
    "- principal = 원금\n",
    "- rate = 연이자율\n",
    "- period = 저축기간(년)\n",
    "- savings = 원리합계"
   ]
  },
  {
   "cell_type": "code",
   "execution_count": 81,
   "id": "27459a8e",
   "metadata": {},
   "outputs": [],
   "source": [
    "# 코드를 완성한다.\n",
    "# None은 적절한 정수, 부동소수점 또는 수식으로 대체한다.\n",
    "\n"
   ]
  },
  {
   "cell_type": "markdown",
   "id": "117b3f20",
   "metadata": {},
   "source": [
    "**답**"
   ]
  },
  {
   "cell_type": "markdown",
   "id": "f7e8f230",
   "metadata": {},
   "source": [
    "복리에 대한 원리합계를 계산하는 식은 다음과 같았다.\n",
    "\n",
    "    savings = principal * (1 + rate/1)**(1 * period)\n",
    "    \n",
    "정리하면 아래가 된다.\n",
    "\n",
    "    savings = principal * (1 + rate)**period\n",
    "\n",
    "따라서 저축기간인 `period` 가 1년 증가할 때마다 원리합계는 이전 원리합계에 `(1 + rate)`를 곱한 결과이다.\n",
    "이 정보를 `while` 반복문에 적용하여 다음과 같이 원리합계를 계산할 수 있다."
   ]
  },
  {
   "cell_type": "code",
   "execution_count": 9,
   "id": "ab61bed5",
   "metadata": {},
   "outputs": [
    {
     "name": "stdout",
     "output_type": "stream",
     "text": [
      "12개월 후 받는 원금 + 이자는 1157625.0 원입니다.\n"
     ]
    }
   ],
   "source": [
    "principal = 1000000 # 원금\n",
    "rate = 0.05         # 연이자\n",
    "period = 3          # 3년\n",
    "\n",
    "savings = principal # period가 0일 때는 원금만 있음.\n",
    "num_of_years = 1\n",
    "\n",
    "while num_of_years <= period:\n",
    "    savings = savings * (1 + rate)\n",
    "    num_of_years = num_of_years + 1\n",
    "    \n",
    "print(\"12개월 후 받는 원금 + 이자는\", savings, \"원입니다.\")   "
   ]
  },
  {
   "cell_type": "markdown",
   "id": "ee48280b",
   "metadata": {},
   "source": [
    "주의사항:"
   ]
  },
  {
   "cell_type": "markdown",
   "id": "6d59403d",
   "metadata": {},
   "source": [
    "## 문제 7"
   ]
  },
  {
   "cell_type": "markdown",
   "id": "0bcafcca",
   "metadata": {},
   "source": [
    "`break` 명령문은 `while` 반복문에서 사용될 때에도 기능은 동일하다.\n",
    "즉 `break` 명령문이 실행되는 순간 `while` 반복문의 실행이 종료된다.\n",
    "\n",
    "예를 들어 아래 코드는 앞서 소개한 \"수 알아맞히기 게임\" 코드를 조금 수정해서\n",
    "사용자가 게임 실행중에 아무 때나 반복문의 실행을 종료하는 기능을 추가하였다.\n",
    "추가된 코드는 다음과 같다.\n",
    "\n",
    "```python\n",
    "if guess == 0:\n",
    "    break\n",
    "```\n",
    "\n",
    "즉, 사용자가 0을 입력하고 <kbd>Enter</kbd>키를 누르면\n",
    "반복문의 실행이 바로 종료되고\n",
    "코드에 남은 이후의 명령문이 실행된다."
   ]
  },
  {
   "cell_type": "code",
   "execution_count": 48,
   "id": "23b44dae",
   "metadata": {},
   "outputs": [
    {
     "name": "stdout",
     "output_type": "stream",
     "text": [
      "수 알아맞히기 게임에 환영합니다.\n",
      "1부터 100 사이의 정수 하나를 입력하세요: 0\n",
      "게임 종료!\n"
     ]
    }
   ],
   "source": [
    "print(\"수 알아맞히기 게임에 환영합니다.\")\n",
    "\n",
    "secret = 17\n",
    "guess = -1   # 이어지는 while 반복문이 최소 한 번은 실행되도록 함\n",
    "\n",
    "while guess != secret:\n",
    "    guess = int(input(\"1부터 100 사이의 정수 하나를 입력하세요: \"))\n",
    "    \n",
    "    if guess == 0:       # 0이 입력되면 반복문 실행 종료\n",
    "        break\n",
    "        \n",
    "    if guess == secret:\n",
    "        print(\"맞았습니다!\")\n",
    "    elif guess > secret:\n",
    "        print(\"너무 커요!\")\n",
    "    else:\n",
    "        print(\"너무 작아요!\")\n",
    "\n",
    "print(\"게임 종료!\")"
   ]
  },
  {
   "cell_type": "markdown",
   "id": "c3ae2cd4",
   "metadata": {},
   "source": [
    "## 문제 8"
   ]
  },
  {
   "cell_type": "markdown",
   "id": "1b0b4249",
   "metadata": {},
   "source": [
    "`for` 또는 `while` 반복문에 포함된  `break` 명령문이 실행되면\n",
    "해당 `for`/`while` 반복문만 종료된다.\n",
    "\n",
    "아래 두 코드의 실행결과를 설명하라."
   ]
  },
  {
   "cell_type": "markdown",
   "id": "97a7e374",
   "metadata": {},
   "source": [
    "- 코드 1"
   ]
  },
  {
   "cell_type": "code",
   "execution_count": 25,
   "id": "cc903d55",
   "metadata": {},
   "outputs": [
    {
     "name": "stdout",
     "output_type": "stream",
     "text": [
      "- 15 = 3 * 5, 따라서 15 은(는) 소수가 아니다.\n"
     ]
    }
   ],
   "source": [
    "n = 15\n",
    "\n",
    "is_prime = True # 이 값이 계속 유지되면 소수임\n",
    "\n",
    "for x in range(2, n):\n",
    "    if n % x == 0:\n",
    "        is_prime = False\n",
    "        print(\"-\", n, \"=\", x, \"*\", n//x, end=\", \")\n",
    "        print(\"따라서\", n, \"은(는) 소수가 아니다.\")\n",
    "        break"
   ]
  },
  {
   "cell_type": "markdown",
   "id": "0c31a1e7",
   "metadata": {},
   "source": [
    "- 코드 2"
   ]
  },
  {
   "cell_type": "code",
   "execution_count": 26,
   "id": "d9912134",
   "metadata": {},
   "outputs": [
    {
     "name": "stdout",
     "output_type": "stream",
     "text": [
      "- 15 = 3 * 5, 따라서 15 은(는) 소수가 아니다.\n",
      "- 15 = 5 * 3, 따라서 15 은(는) 소수가 아니다.\n"
     ]
    }
   ],
   "source": [
    "n = 15\n",
    "\n",
    "is_prime = True # 이 값이 계속 유지되면 소수임\n",
    "\n",
    "for x in range(2, n):\n",
    "    if n % x == 0:\n",
    "        is_prime = False\n",
    "        print(\"-\", n, \"=\", x, \"*\", n//x, end=\", \")\n",
    "        print(\"따라서\", n, \"은(는) 소수가 아니다.\")\n",
    "        continue"
   ]
  },
  {
   "cell_type": "markdown",
   "id": "0bbcd7fd",
   "metadata": {},
   "source": [
    "## 문제 9"
   ]
  },
  {
   "cell_type": "markdown",
   "id": "dd35c3da",
   "metadata": {},
   "source": [
    "`for` 또는 `while` 반복문이 중첩되어 사용되었을 때 \n",
    "내부의 `for`/`while` 반복문에 포함된 `break`/`continue` 명령문이 실행되면\n",
    "해당 `for`/`while` 반복문만 종료된다.\n",
    "\n",
    "\n",
    "\n",
    "아래 코드의 실행 결과를 설명하라."
   ]
  },
  {
   "cell_type": "code",
   "execution_count": 27,
   "id": "5b35ccf8",
   "metadata": {},
   "outputs": [
    {
     "name": "stdout",
     "output_type": "stream",
     "text": [
      "- 4 = 2 * 2, 따라서 4 은(는) 소수가 아니다.\n"
     ]
    }
   ],
   "source": [
    "for n in range(4, 11):\n",
    "    is_prime = True # 이 값이 계속 유지되면 소수임\n",
    "\n",
    "    for x in range(2, n):\n",
    "        if n % x == 0:\n",
    "            is_prime = False\n",
    "            print(\"-\", n, \"=\", x, \"*\", n//x, end=\", \")\n",
    "            print(\"따라서\", n, \"은(는) 소수가 아니다.\")\n",
    "            break\n",
    "\n",
    "    if is_prime:\n",
    "        print(\"-\", n, \"은(는) 소수다.\")\n",
    "        \n",
    "    break"
   ]
  },
  {
   "cell_type": "markdown",
   "id": "07c98769",
   "metadata": {},
   "source": [
    "##  문제 10"
   ]
  },
  {
   "cell_type": "markdown",
   "id": "49dee266",
   "metadata": {},
   "source": [
    "`for` 또는 `while` 반복문이 중첩되어 사용되었을 때 \n",
    "내부의 `for`/`while` 반복문에 포함된 `break`/`continue` 명령문이 실행되면\n",
    "해당 `for`/`while` 반복문만 종료된다.\n",
    "\n",
    "아래 두 코드가 동일한 내용을 출력하는 이유를 설명하라."
   ]
  },
  {
   "cell_type": "markdown",
   "id": "4fea9784",
   "metadata": {},
   "source": [
    "- 코드 1"
   ]
  },
  {
   "cell_type": "code",
   "execution_count": 19,
   "id": "211ce237",
   "metadata": {},
   "outputs": [
    {
     "name": "stdout",
     "output_type": "stream",
     "text": [
      "- 2 은(는) 소수다.\n",
      "- 3 은(는) 소수다.\n",
      "- 5 은(는) 소수다.\n",
      "- 7 은(는) 소수다.\n"
     ]
    }
   ],
   "source": [
    "for n in range(2, 11):\n",
    "    is_prime = True # 이 값이 계속 유지되면 소수임\n",
    "\n",
    "    for x in range(2, n):\n",
    "        if n % x == 0:\n",
    "            is_prime = False\n",
    "            break\n",
    "            \n",
    "    if is_prime:\n",
    "        print(\"-\", n, \"은(는) 소수다.\")"
   ]
  },
  {
   "cell_type": "markdown",
   "id": "8090b269",
   "metadata": {},
   "source": [
    "- 코드 2"
   ]
  },
  {
   "cell_type": "code",
   "execution_count": 11,
   "id": "271ffe64",
   "metadata": {},
   "outputs": [
    {
     "name": "stdout",
     "output_type": "stream",
     "text": [
      "- 2 은(는) 소수다.\n",
      "- 3 은(는) 소수다.\n",
      "- 5 은(는) 소수다.\n",
      "- 7 은(는) 소수다.\n"
     ]
    }
   ],
   "source": [
    "for n in range(2, 11):\n",
    "    is_prime = True # 이 값이 계속 유지되면 소수임\n",
    "\n",
    "    for x in range(2, n):\n",
    "        if n % x == 0:\n",
    "            is_prime = False\n",
    "            continue\n",
    "            \n",
    "    if is_prime:\n",
    "        print(\"-\", n, \"은(는) 소수다.\")"
   ]
  },
  {
   "cell_type": "markdown",
   "id": "c0a7e1e7",
   "metadata": {},
   "source": [
    "- 코드 3"
   ]
  },
  {
   "cell_type": "code",
   "execution_count": 14,
   "id": "2afedf03",
   "metadata": {},
   "outputs": [],
   "source": [
    "for n in range(2, 10):\n",
    "    is_prime = True # 이 값이 계속 유지되면 소수임\n",
    "\n",
    "    for x in range(2, n):\n",
    "        if n % x == 0:\n",
    "            is_prime = False\n",
    "    \n",
    "    break\n",
    "\n",
    "    if is_prime:\n",
    "        print(\"-\", n, \"은(는) 소수다.\")"
   ]
  },
  {
   "cell_type": "code",
   "execution_count": null,
   "id": "c49a9082",
   "metadata": {},
   "outputs": [],
   "source": []
  }
 ],
 "metadata": {
  "kernelspec": {
   "display_name": "Python 3 (ipykernel)",
   "language": "python",
   "name": "python3"
  },
  "language_info": {
   "codemirror_mode": {
    "name": "ipython",
    "version": 3
   },
   "file_extension": ".py",
   "mimetype": "text/x-python",
   "name": "python",
   "nbconvert_exporter": "python",
   "pygments_lexer": "ipython3",
   "version": "3.11.5"
  },
  "toc-autonumbering": true,
  "toc-showcode": false,
  "toc-showmarkdowntxt": false
 },
 "nbformat": 4,
 "nbformat_minor": 5
}
