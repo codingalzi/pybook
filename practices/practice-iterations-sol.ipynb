{
 "cells": [
  {
   "cell_type": "markdown",
   "id": "2d03d247-e2d3-4afe-ab5e-83dc989ed62d",
   "metadata": {},
   "source": [
    "# (실습) 반복문"
   ]
  },
  {
   "cell_type": "markdown",
   "id": "9909a5d0",
   "metadata": {},
   "source": [
    "## 문제 1"
   ]
  },
  {
   "cell_type": "markdown",
   "id": "028c32ae",
   "metadata": {},
   "source": [
    "2부터 9 까지의 자연수 `n`을 입력 받아 구구단의 `n`단을 아래 형식으로 출력하는 \n",
    "`times_table()` 함수를 `while` 반복문을 이용하여 작성한다.\n",
    "예를 들어 `time_table(3)`을 호출하면 3단을 다음과 같이 출력력한다.\n",
    "\n",
    "```\n",
    "3 * 2 = 6\n",
    "3 * 3 = 9\n",
    "3 * 4 = 12\n",
    "3 * 5 = 15\n",
    "3 * 6 = 18\n",
    "3 * 7 = 21\n",
    "3 * 8 = 24\n",
    "3 * 9 = 27\n",
    "```"
   ]
  },
  {
   "cell_type": "markdown",
   "id": "9f736d25",
   "metadata": {},
   "source": [
    "**답**"
   ]
  },
  {
   "cell_type": "markdown",
   "id": "aab501f4",
   "metadata": {},
   "source": [
    "2부터 시작해서 `while` 반복문의 본문이 실행될 때마다 1씩 커지는\n",
    "방식으로 업데이트되는 변수 `num`을 활용한다.\n",
    "예를 들어 아래 코드는 3단을 출력한다."
   ]
  },
  {
   "cell_type": "code",
   "execution_count": 1,
   "id": "7aeca112",
   "metadata": {},
   "outputs": [
    {
     "name": "stdout",
     "output_type": "stream",
     "text": [
      "3 * 2 = 6\n",
      "3 * 3 = 9\n",
      "3 * 4 = 12\n",
      "3 * 5 = 15\n",
      "3 * 6 = 18\n",
      "3 * 7 = 21\n",
      "3 * 8 = 24\n",
      "3 * 9 = 27\n"
     ]
    }
   ],
   "source": [
    "n = 3\n",
    "\n",
    "num = 2\n",
    "while num < 10:\n",
    "    print(n, '*', num, '=', n*num)\n",
    "    num += 1"
   ]
  },
  {
   "cell_type": "markdown",
   "id": "bc64ae1a",
   "metadata": {},
   "source": [
    "5단을 출력하기 위해서는 `n`에 5만 할당하면 되며,\n",
    "코드의 다른 부분은 그대로 둔다."
   ]
  },
  {
   "cell_type": "code",
   "execution_count": 2,
   "id": "ef771435",
   "metadata": {},
   "outputs": [
    {
     "name": "stdout",
     "output_type": "stream",
     "text": [
      "5 * 2 = 10\n",
      "5 * 3 = 15\n",
      "5 * 4 = 20\n",
      "5 * 5 = 25\n",
      "5 * 6 = 30\n",
      "5 * 7 = 35\n",
      "5 * 8 = 40\n",
      "5 * 9 = 45\n"
     ]
    }
   ],
   "source": [
    "n = 5\n",
    "\n",
    "num = 2\n",
    "while num < 10:\n",
    "    print(n, '*', num, '=', n*num)\n",
    "    num += 1"
   ]
  },
  {
   "cell_type": "markdown",
   "id": "f8f1c1ea",
   "metadata": {},
   "source": [
    "따라서 변수 `n`을 매개변수로 사용하는 함수를 선언하면\n",
    "`n`단을 출력하는 함수가 된다."
   ]
  },
  {
   "cell_type": "code",
   "execution_count": 3,
   "id": "efee6386",
   "metadata": {},
   "outputs": [],
   "source": [
    "def times_table(n):\n",
    "    num = 2\n",
    "    while num < 10:\n",
    "        print(n, '*', num, '=', n*num)\n",
    "        num += 1"
   ]
  },
  {
   "cell_type": "markdown",
   "id": "ac668a2d",
   "metadata": {},
   "source": [
    "- 3단"
   ]
  },
  {
   "cell_type": "code",
   "execution_count": 4,
   "id": "7a2e6250",
   "metadata": {},
   "outputs": [
    {
     "name": "stdout",
     "output_type": "stream",
     "text": [
      "3 * 2 = 6\n",
      "3 * 3 = 9\n",
      "3 * 4 = 12\n",
      "3 * 5 = 15\n",
      "3 * 6 = 18\n",
      "3 * 7 = 21\n",
      "3 * 8 = 24\n",
      "3 * 9 = 27\n"
     ]
    }
   ],
   "source": [
    "times_table(3)"
   ]
  },
  {
   "cell_type": "markdown",
   "id": "75f686d7",
   "metadata": {},
   "source": [
    "- 8단"
   ]
  },
  {
   "cell_type": "code",
   "execution_count": 3,
   "id": "301cdb47",
   "metadata": {},
   "outputs": [
    {
     "name": "stdout",
     "output_type": "stream",
     "text": [
      "8 * 2 = 16\n",
      "8 * 3 = 24\n",
      "8 * 4 = 32\n",
      "8 * 5 = 40\n",
      "8 * 6 = 48\n",
      "8 * 7 = 56\n",
      "8 * 8 = 64\n",
      "8 * 9 = 72\n"
     ]
    }
   ],
   "source": [
    "times_table(8)"
   ]
  },
  {
   "cell_type": "markdown",
   "id": "32523209",
   "metadata": {
    "id": "akoVfOTao55r"
   },
   "source": [
    "## 문제 2"
   ]
  },
  {
   "cell_type": "markdown",
   "id": "a15ce209",
   "metadata": {},
   "source": [
    "양의 정수 `n`과 함께 호출되면 \n",
    "1부터 `n`까지의 정수의 제곱의 합을, \n",
    "음의 정수 `n`과 함께 호출되면 `n` 부터 `-n` 까지의 정수의 제곱의 합을 \n",
    "반환하는 `pos_neg_sum()` 함수를 구현하라.\n",
    "\n",
    "힌트: `if` 조건문, `for` 반복문, `range()` 함수 활용"
   ]
  },
  {
   "cell_type": "markdown",
   "id": "9768eddf",
   "metadata": {},
   "source": [
    "**답**"
   ]
  },
  {
   "cell_type": "markdown",
   "id": "ff4debda",
   "metadata": {},
   "source": [
    "1부터 `n`까지의 정수들의 구간은 `range(1, n+1)`로,\n",
    "`n`부터 `-n`까지의 정수들의 구간은 `range(n, -n+1)`로 표현된다.\n",
    "\n",
    "`n`이 양수인지 아닌지 여부에 따라 지정된 구간에 포함된 정수들의 합은\n",
    "`for` 반복문을 이용하여 구한다.\n",
    "단, 누적합을 저장하는 `sum = 0` 변수를 먼저 선언한다.\n",
    "\n",
    "- 1부터 `n`까지의 정수들의 합\n",
    "\n",
    "```python\n",
    "for num in range(1, n+1):\n",
    "    sum += num\n",
    "```\n",
    "\n",
    "- `n`부터 `-n`까지의 정수들의 합\n",
    "\n",
    "```python\n",
    "for num in range(1, n+1):\n",
    "    sum += num\n",
    "```"
   ]
  },
  {
   "cell_type": "markdown",
   "id": "c60d5cd4",
   "metadata": {},
   "source": [
    "위 설명을 종합해서 `pos_neg_sum()` 함수를 다음과 같이 구현한다."
   ]
  },
  {
   "cell_type": "code",
   "execution_count": 6,
   "id": "ad2ebb13",
   "metadata": {},
   "outputs": [],
   "source": [
    "def pos_neg_sum(n):\n",
    "    sum = 0\n",
    "\n",
    "    if n > 0:\n",
    "        for num in range(1, n+1):\n",
    "            sum += num\n",
    "    else:\n",
    "        for num in range(n, -n+1):\n",
    "            sum += num**2\n",
    "    \n",
    "    return sum"
   ]
  },
  {
   "cell_type": "markdown",
   "id": "cbe55258",
   "metadata": {},
   "source": [
    "- 1부터 10까지의 합"
   ]
  },
  {
   "cell_type": "code",
   "execution_count": 7,
   "id": "fec817e1",
   "metadata": {},
   "outputs": [
    {
     "data": {
      "text/plain": [
       "55"
      ]
     },
     "execution_count": 7,
     "metadata": {},
     "output_type": "execute_result"
    }
   ],
   "source": [
    "pos_neg_sum(10)"
   ]
  },
  {
   "cell_type": "markdown",
   "id": "b1874b0d",
   "metadata": {},
   "source": [
    "- -5부터 5까지 정수들의 제곱의 합"
   ]
  },
  {
   "cell_type": "code",
   "execution_count": 8,
   "id": "007d8f60",
   "metadata": {},
   "outputs": [
    {
     "data": {
      "text/plain": [
       "110"
      ]
     },
     "execution_count": 8,
     "metadata": {},
     "output_type": "execute_result"
    }
   ],
   "source": [
    "pos_neg_sum(-5)"
   ]
  },
  {
   "cell_type": "markdown",
   "id": "4b3233cf",
   "metadata": {},
   "source": [
    "실제로 -5부터 5까지 정수들의 제곱의 합은 \n",
    "1부터 5까지의 제곱의 합의 두 배이며 다음과 같다."
   ]
  },
  {
   "cell_type": "code",
   "execution_count": 9,
   "id": "ee03a90e",
   "metadata": {},
   "outputs": [
    {
     "data": {
      "text/plain": [
       "110"
      ]
     },
     "execution_count": 9,
     "metadata": {},
     "output_type": "execute_result"
    }
   ],
   "source": [
    "(5**2 + 4**2 + 3**2 + 2**2 + 1**2) * 2"
   ]
  },
  {
   "cell_type": "markdown",
   "id": "d8250b1d",
   "metadata": {
    "id": "akoVfOTao55r"
   },
   "source": [
    "## 문제 3"
   ]
  },
  {
   "cell_type": "markdown",
   "id": "91077653",
   "metadata": {
    "id": "LyuZlArmhYVe"
   },
   "source": [
    "369게임은 자연수 `n`이 주어졌을 때 1부터 `n`까지의 자연수를\n",
    "다음 규칙에 따라 출력한다.\n",
    "\n",
    "* 3의 배수이거나 1의 자릿수가 3인 수일 경우, 해당하는 수를 출력하는 대신 문자열 `짝`을 출력\n",
    "* 나머지 수는 그대로 출력\n",
    "\n",
    "예를 들어, `n`이 15인 경우 다음과 같이 출력된다.\n",
    "\n",
    "```\n",
    "1 2 짝 4 5 짝 7 8 짝 10 11 짝 짝 14 짝\n",
    "```\n",
    "\n",
    "369게임을 진행하는 `game369()` 함수를 구현하여 `n`이 30일 때의 출력 결과를 확인하라.\n",
    "`game369()`는 하나의 매개변수만 사용한다.\n",
    "\n",
    "힌트: `range()` 함수, `for` 반복문, `%` 연산자, `print()` 함수의 `end` 키워드 인자 활용"
   ]
  },
  {
   "cell_type": "markdown",
   "id": "2fd3a525",
   "metadata": {},
   "source": [
    "**답**"
   ]
  },
  {
   "cell_type": "markdown",
   "id": "9ad4024c",
   "metadata": {},
   "source": [
    "`num`이 가리키는 정수에 대해\n",
    "논리식 `num % 10 == 3`는 10으로 나눴을 때의 나머지가 3일 때 참이되는데\n",
    "이유는 어떤 정수를 10으로 나눈 나머지가 바로 그 수의 일의 자릿수이기 때문이다.\n",
    "\n",
    "따라서 \"3의 배수이거나 1의 자릿수가 3인 수일 경우\"를 아래 논리식으로 표현할 수 있다.\n",
    "\n",
    "```python\n",
    "num % 3 == 0 or num % 10 == 3\n",
    "```\n",
    "\n",
    "`range(1, n+1)` 구간의 정수에 대해 아래 논리식이 참이면 짝을, 아니면\n",
    "해당 정수를 출력하도록 하면 된다.\n",
    "이를 위해 아래 함수처럼 `for` 반복문을 이용한다."
   ]
  },
  {
   "cell_type": "code",
   "execution_count": 15,
   "id": "10db5472",
   "metadata": {},
   "outputs": [],
   "source": [
    "def game369(n):\n",
    "    for num in range(1, n+1):\n",
    "        if num % 3 == 0 or num % 10 == 3:\n",
    "            print('짝', end=' ')\n",
    "        else:\n",
    "            print(num, end=' ')"
   ]
  },
  {
   "cell_type": "code",
   "execution_count": 16,
   "id": "682af0b2",
   "metadata": {},
   "outputs": [
    {
     "name": "stdout",
     "output_type": "stream",
     "text": [
      "1 2 짝 4 5 짝 7 8 짝 10 11 짝 짝 14 짝 "
     ]
    }
   ],
   "source": [
    "game369(15)"
   ]
  },
  {
   "cell_type": "code",
   "execution_count": 17,
   "id": "c2164ce0",
   "metadata": {},
   "outputs": [
    {
     "name": "stdout",
     "output_type": "stream",
     "text": [
      "1 2 짝 4 5 짝 7 8 짝 10 11 짝 짝 14 짝 16 17 짝 19 20 짝 22 짝 짝 25 26 짝 28 29 짝 "
     ]
    }
   ],
   "source": [
    "game369(30)"
   ]
  },
  {
   "cell_type": "markdown",
   "id": "e0701c49",
   "metadata": {
    "id": "akoVfOTao55r"
   },
   "source": [
    "## 문제 4"
   ]
  },
  {
   "cell_type": "markdown",
   "id": "d6fcc548",
   "metadata": {
    "id": "KSHjiCE0nlrM"
   },
   "source": [
    "`while` 반복문을 이용하여 양의 정수를 다른 양의 정수로 나눴을 때의 \n",
    "몫을 반환하는 `quotient()` 함수와\n",
    "나머지를 반환하는 `remainder()` 함수를 구현하라.\n",
    "단, 두 함수를 이용하여 아래와 같이 화면에 출력되도록 `print()` 함수를 호출하라.\n",
    "\n",
    "```python\n",
    "45 을(를) 7 (으)로 나눴을 때의 몫: 6\n",
    "45 을(를) 7 (으)로 나눴을 때의 나머지: 3\n",
    "```\n",
    "    \n",
    "단, 연산자는 덧셈, 뺄셈, 곱셈 연산자만 사용해야 한다. \n",
    "즉, 몫 연산자, 나머지 연산자 등 파이썬에세 기본으로 제공하는 \n",
    "연산자나 함수는 사용하지 않는다."
   ]
  },
  {
   "cell_type": "markdown",
   "id": "1e58e980",
   "metadata": {},
   "source": [
    "**답**"
   ]
  },
  {
   "cell_type": "markdown",
   "id": "e303ee1a",
   "metadata": {},
   "source": [
    "예를 들어 45을 7로 나눌 때의 나머지는 7단을 읊으다가 45보다 커지는 순간\n",
    "그때까지 7에 곱한 값에서 1을 뺀 값이 몫이고\n",
    "몫과 7을 곱한 값과 45와의 차이가 나머지가 된다.\n",
    "\n",
    "```\n",
    "7 * 1 = 7\n",
    "7 * 2 = 14\n",
    ".\n",
    ".\n",
    ".\n",
    "7 * 6 = 42\n",
    "7 * 7 = 49   <= 45보다 큼\n",
    "```\n",
    "\n",
    "즉, 7에서 1을 뺀 6이 몫이고 6을 7과 곱한 값인 42와 45의 차이인 3이 나머지가 된다.\n",
    "이 아이디어를 코드로 구현한 두 함수는 다음과 같다.\n",
    "함수의 정의에 사용된 변수의 역할은 다음과 같다.\n",
    "\n",
    "- `number`: 나눠지는 수를 인자로 받는 매개변수\n",
    "- `divisor`: 나누는 수를 인자로 받는 매개변수\n",
    "- `count`: 나누는 수에 곱해지는 수\n",
    "\n",
    "그러면 `divisor * count <= number`이 만족되는 동안 `count` 값을 1씩 키운다."
   ]
  },
  {
   "cell_type": "code",
   "execution_count": 34,
   "id": "6d7a92ce",
   "metadata": {},
   "outputs": [],
   "source": [
    "def quotient(number, divisor):\n",
    "    count = 0\n",
    "\n",
    "    while divisor * count <= number:\n",
    "        count += 1\n",
    "        \n",
    "    answer = count - 1\n",
    "    return answer"
   ]
  },
  {
   "cell_type": "code",
   "execution_count": 33,
   "id": "781844db",
   "metadata": {},
   "outputs": [
    {
     "name": "stdout",
     "output_type": "stream",
     "text": [
      "45 을(를) 7 (으)로 나눴을 때의 몫: 6\n"
     ]
    }
   ],
   "source": [
    "print(45, \"을(를)\", 7, \"(으)로 나눴을 때의 몫:\", quotient(45, 7))"
   ]
  },
  {
   "cell_type": "code",
   "execution_count": 36,
   "id": "1dfb97d1",
   "metadata": {},
   "outputs": [],
   "source": [
    "def remainder(number, divisor):\n",
    "    count = 0\n",
    "\n",
    "    while divisor * count <= number:\n",
    "        count += 1\n",
    "        \n",
    "    answer = number - divisor * (count - 1)\n",
    "\n",
    "    return answer"
   ]
  },
  {
   "cell_type": "code",
   "execution_count": 37,
   "id": "42a1c830",
   "metadata": {},
   "outputs": [
    {
     "name": "stdout",
     "output_type": "stream",
     "text": [
      "45 을(를) 7 (으)로 나눴을 때의 나머지: 3\n"
     ]
    }
   ],
   "source": [
    "print(45, \"을(를)\", 7, \"(으)로 나눴을 때의 나머지:\", remainder(45, 7))"
   ]
  },
  {
   "cell_type": "markdown",
   "id": "c7fa01d2",
   "metadata": {},
   "source": [
    "## 문제 5"
   ]
  },
  {
   "cell_type": "markdown",
   "id": "d0abbd52",
   "metadata": {},
   "source": [
    "거스름돈을 돌려주기 위해 필요한 최소한의 동전 개수를 알아내는 문제다. \n",
    "단, 사용할 수 있는 동전은 500원, 250원, 100원, 50원, 10원 5 종류이다.\n",
    "거슬러 줘야 하는 금액이 `n` 원일 때, 필요한 동전의 최소 개수를 반환하는\n",
    "`change()` 함수를 구현하라.\n",
    "단, n 은 10의 배수이면서 5000보다 작은 정수이고, \n",
    "모든 동전은 원하는 만큼 충분히 많이 있다고 가정한다. \n",
    "\n",
    "힌트: 거스름돈 지급에 사용되는 동전의 수를 최소화 하려면\n",
    "큰 액수의 동전을 최대한 많이 사용하면 된다.\n",
    "따라서 큰 액수의 동전부터 차례대로 최대한 많이 사용할 수 있는\n",
    "동전의 개수를 `for` 반복문과 이전 문제에서 정의한 \n",
    "`quotient()`, `remainder()` 두 함수를\n",
    "활용하여 구한다.\n",
    "\n",
    "참고: 앞서 설명한 힌트는\n",
    "[탐욕 알고리즘](https://codingalzi.github.io/algopy/greedy_algorithm_1.html)을\n",
    "응용한다."
   ]
  },
  {
   "cell_type": "code",
   "execution_count": 13,
   "id": "d51bb9a3",
   "metadata": {},
   "outputs": [],
   "source": [
    "# pass 와 None 을 각각 적절한 명령문과 반환값으로 대체하라.\n",
    "def change(n):\n",
    "    pass\n",
    "\n",
    "    return None    "
   ]
  },
  {
   "cell_type": "code",
   "execution_count": 43,
   "id": "2efddda7",
   "metadata": {},
   "outputs": [],
   "source": [
    "def change(n):\n",
    "    \n",
    "    coin_number = 0\n",
    "    \n",
    "    for coin in [500, 250, 100, 50, 10]:\n",
    "        count = quotient(n, coin)\n",
    "        coin_number += count\n",
    "        n = remainder(n, coin)\n",
    "        \n",
    "    return coin_number"
   ]
  },
  {
   "cell_type": "code",
   "execution_count": 44,
   "id": "6ae649ba",
   "metadata": {},
   "outputs": [
    {
     "data": {
      "text/plain": [
       "4"
      ]
     },
     "execution_count": 44,
     "metadata": {},
     "output_type": "execute_result"
    }
   ],
   "source": [
    "change(620)"
   ]
  },
  {
   "cell_type": "code",
   "execution_count": 45,
   "id": "7a2ebe39",
   "metadata": {},
   "outputs": [
    {
     "data": {
      "text/plain": [
       "8"
      ]
     },
     "execution_count": 45,
     "metadata": {},
     "output_type": "execute_result"
    }
   ],
   "source": [
    "change(1730)"
   ]
  },
  {
   "cell_type": "code",
   "execution_count": 46,
   "id": "21f874c1",
   "metadata": {},
   "outputs": [],
   "source": [
    "def change(n):\n",
    "    \n",
    "    coin_number = 0\n",
    "    \n",
    "    for coin in [500, 250, 100, 50, 10]:\n",
    "        count = quotient(n, coin)\n",
    "        print(coin, \"원 동전:\", count, \"개\")\n",
    "        coin_number += count\n",
    "        n = remainder(n, coin)\n",
    "        \n",
    "    return coin_number"
   ]
  },
  {
   "cell_type": "code",
   "execution_count": 47,
   "id": "6986f8ea",
   "metadata": {},
   "outputs": [
    {
     "name": "stdout",
     "output_type": "stream",
     "text": [
      "500 원 동전: 1 개\n",
      "250 원 동전: 0 개\n",
      "100 원 동전: 1 개\n",
      "50 원 동전: 0 개\n",
      "10 원 동전: 2 개\n"
     ]
    },
    {
     "data": {
      "text/plain": [
       "4"
      ]
     },
     "execution_count": 47,
     "metadata": {},
     "output_type": "execute_result"
    }
   ],
   "source": [
    "change(620)"
   ]
  },
  {
   "cell_type": "code",
   "execution_count": 48,
   "id": "a1d6a058",
   "metadata": {},
   "outputs": [
    {
     "name": "stdout",
     "output_type": "stream",
     "text": [
      "500 원 동전: 3 개\n",
      "250 원 동전: 0 개\n",
      "100 원 동전: 2 개\n",
      "50 원 동전: 0 개\n",
      "10 원 동전: 3 개\n"
     ]
    },
    {
     "data": {
      "text/plain": [
       "8"
      ]
     },
     "execution_count": 48,
     "metadata": {},
     "output_type": "execute_result"
    }
   ],
   "source": [
    "change(1730)"
   ]
  },
  {
   "cell_type": "markdown",
   "id": "90a4079f",
   "metadata": {},
   "source": [
    "## 문제 6"
   ]
  },
  {
   "cell_type": "markdown",
   "id": "1115783c",
   "metadata": {},
   "source": [
    "복리 정기예금과 관련해서 원금, 연 복리이자, 예치기간이 주어졌을 때 \n",
    "지정된 예치기간 후에 받을 원리합계, 즉, 원금과 이자의 합을 반환하는\n",
    "`total()` 함수를 구현하라.\n",
    "단, 총이자를 계사할 때 `while` 반복문을 반드시 이용한다.\n",
    "\n",
    "예를 들어, 연 복리이자 5%인 정기예금에 백만원을 3년간 은행에 맡겼을 때\n",
    "3년 후에 수령할 금액은 원금 백만원에 이자 157,625원이 추가되어\n",
    "총 1,157,625원이 된다.\n",
    "\n",
    "힌트: 복리이자의 원리합계 계산 코드는 다음과 같다.\n",
    "\n",
    "```\n",
    "total = principal * (1 + rate)**period\n",
    "```"
   ]
  },
  {
   "cell_type": "markdown",
   "id": "117b3f20",
   "metadata": {},
   "source": [
    "**답**"
   ]
  },
  {
   "cell_type": "markdown",
   "id": "f7e8f230",
   "metadata": {},
   "source": [
    "복리에 대한 원리합계를 계산하는 식은 다음과 같았다.\n",
    "\n",
    "```python\n",
    "total = principal * (1 + rate)**period\n",
    "```\n",
    "\n",
    "따라서 저축기간인 `period` 가 1년 증가할 때마다 원리합계는 이전 원리합계에 `(1 + rate)`를 곱한 결과이다.\n",
    "이 정보를 `while` 반복문에 적용하여 다음과 같이 원리합계를 계산할 수 있다."
   ]
  },
  {
   "cell_type": "code",
   "execution_count": 4,
   "id": "d3ee10a3",
   "metadata": {},
   "outputs": [],
   "source": [
    "def savings(principal, rate=0.05, period=1):\n",
    "\n",
    "    total = principal # period가 0일 때는 원금만 있음.\n",
    "    num_of_years = 1\n",
    "\n",
    "    while num_of_years <= period:\n",
    "        total = total * (1 + rate)\n",
    "        num_of_years = num_of_years + 1\n",
    "\n",
    "    return total"
   ]
  },
  {
   "cell_type": "code",
   "execution_count": 6,
   "id": "c3685613",
   "metadata": {},
   "outputs": [
    {
     "name": "stdout",
     "output_type": "stream",
     "text": [
      "백만원을 복리이자 5%로 3년 예치 후 받는 원금 + 이자는 1157625.0 원입니다.\n"
     ]
    }
   ],
   "source": [
    "print(\"백만원을 복리이자 5%로 3년 예치 후 받는 원금 + 이자는\", savings(1000000, 0.05, 3), \"원입니다.\")"
   ]
  },
  {
   "cell_type": "markdown",
   "id": "6d59403d",
   "metadata": {},
   "source": [
    "## 문제 7"
   ]
  },
  {
   "cell_type": "markdown",
   "id": "1b0b4249",
   "metadata": {},
   "source": [
    "`for` 또는 `while` 반복문에 포함된  `break` 명령문이 실행되면\n",
    "해당 `for`/`while` 반복문의 실행이 종료된다.\n",
    "아래 코드의 실행결과를 설명하라."
   ]
  },
  {
   "cell_type": "code",
   "execution_count": 54,
   "id": "cc903d55",
   "metadata": {},
   "outputs": [
    {
     "name": "stdout",
     "output_type": "stream",
     "text": [
      "- 15 = 3 * 5, 따라서 15 은(는) 소수가 아니다.\n",
      "\n",
      "**주의사항**\n",
      "break와 상관없이 다른 명령문은 실행됨.\n"
     ]
    }
   ],
   "source": [
    "n = 15\n",
    "\n",
    "is_prime = True # 이 값이 계속 유지되면 소수임\n",
    "\n",
    "for x in range(2, n):\n",
    "    if n % x == 0:\n",
    "        is_prime = False\n",
    "        print(\"-\", n, \"=\", x, \"*\", n//x, end=\", \")\n",
    "        print(\"따라서\", n, \"은(는) 소수가 아니다.\")\n",
    "        break\n",
    "\n",
    "print()\n",
    "print(\"**주의사항**\")\n",
    "print(\"break와 상관없이 다른 명령문은 실행됨.\")"
   ]
  },
  {
   "cell_type": "markdown",
   "id": "92839dcc",
   "metadata": {},
   "source": [
    "## 문제 8"
   ]
  },
  {
   "cell_type": "markdown",
   "id": "b0d9b8a5",
   "metadata": {},
   "source": [
    "`for` 또는 `while` 반복문에 포함된  `continue` 명령문이 실행되면\n",
    "해당 `for`/`while` 반복문의 처음으로 돌아간다.\n",
    "특히 `for` 반복문의 경우 다음 경우가 실행된다.\n",
    "아래 코드의 실행결과를 설명하라."
   ]
  },
  {
   "cell_type": "code",
   "execution_count": 57,
   "id": "d9912134",
   "metadata": {},
   "outputs": [
    {
     "name": "stdout",
     "output_type": "stream",
     "text": [
      "- 15 = 3 * 5, 따라서 15 은(는) 소수가 아니다.\n",
      "- 15 = 5 * 3, 따라서 15 은(는) 소수가 아니다.\n",
      "\n",
      "**주의사항**\n",
      "continue와 상관없이 다른 명령문은 실행됨.\n"
     ]
    }
   ],
   "source": [
    "n = 15\n",
    "\n",
    "is_prime = True # 이 값이 계속 유지되면 소수임\n",
    "\n",
    "for x in range(2, n):\n",
    "    if n % x == 0:\n",
    "        is_prime = False\n",
    "        print(\"-\", n, \"=\", x, \"*\", n//x, end=\", \")\n",
    "        print(\"따라서\", n, \"은(는) 소수가 아니다.\")\n",
    "        continue\n",
    "        \n",
    "print()\n",
    "print(\"**주의사항**\")\n",
    "print(\"continue와 상관없이 다른 명령문은 실행됨.\")        "
   ]
  },
  {
   "cell_type": "markdown",
   "id": "eb3ccf3c",
   "metadata": {},
   "source": [
    "## 문제 9"
   ]
  },
  {
   "cell_type": "markdown",
   "id": "dd35c3da",
   "metadata": {},
   "source": [
    "`for` 또는 `while` 반복문이 중첩되어 사용되었을 때 \n",
    "내부의 `for`/`while` 반복문에 포함된 `break` 명령문이 실행되면\n",
    "해당 `for`/`while` 반복문만 종료된다.\n",
    "\n",
    "아래 코드의 실행 결과를 설명하라."
   ]
  },
  {
   "cell_type": "code",
   "execution_count": 59,
   "id": "5b35ccf8",
   "metadata": {},
   "outputs": [
    {
     "name": "stdout",
     "output_type": "stream",
     "text": [
      "- 4 = 2 * 2, 따라서 4 은(는) 소수가 아니다.\n",
      "\n",
      "**주의사항**\n",
      "break와 상관없이 다른 명령문은 실행됨.\n"
     ]
    }
   ],
   "source": [
    "for n in range(4, 11):\n",
    "    is_prime = True # 이 값이 계속 유지되면 소수임\n",
    "\n",
    "    for x in range(2, n):\n",
    "        if n % x == 0:\n",
    "            is_prime = False\n",
    "            print(\"-\", n, \"=\", x, \"*\", n//x, end=\", \")\n",
    "            print(\"따라서\", n, \"은(는) 소수가 아니다.\")\n",
    "            break\n",
    "\n",
    "    if is_prime:\n",
    "        print(\"-\", n, \"은(는) 소수다.\")\n",
    "        \n",
    "    break\n",
    "    \n",
    "print()\n",
    "print(\"**주의사항**\")\n",
    "print(\"break와 상관없이 다른 명령문은 실행됨.\")            "
   ]
  },
  {
   "cell_type": "markdown",
   "id": "07c98769",
   "metadata": {},
   "source": [
    "##  문제 10"
   ]
  },
  {
   "cell_type": "markdown",
   "id": "49dee266",
   "metadata": {},
   "source": [
    "아래 두 코드가 동일한 내용을 출력하는 이유를 설명하라."
   ]
  },
  {
   "cell_type": "markdown",
   "id": "4fea9784",
   "metadata": {},
   "source": [
    "- 코드 1"
   ]
  },
  {
   "cell_type": "code",
   "execution_count": 60,
   "id": "211ce237",
   "metadata": {},
   "outputs": [
    {
     "name": "stdout",
     "output_type": "stream",
     "text": [
      "- 2 은(는) 소수다.\n",
      "- 3 은(는) 소수다.\n",
      "- 5 은(는) 소수다.\n",
      "- 7 은(는) 소수다.\n"
     ]
    }
   ],
   "source": [
    "for n in range(2, 11):\n",
    "    is_prime = True # 이 값이 계속 유지되면 소수임\n",
    "\n",
    "    for x in range(2, n):\n",
    "        if n % x == 0:\n",
    "            is_prime = False\n",
    "            break\n",
    "            \n",
    "    if is_prime:\n",
    "        print(\"-\", n, \"은(는) 소수다.\")"
   ]
  },
  {
   "cell_type": "markdown",
   "id": "8090b269",
   "metadata": {},
   "source": [
    "- 코드 2"
   ]
  },
  {
   "cell_type": "code",
   "execution_count": 61,
   "id": "271ffe64",
   "metadata": {},
   "outputs": [
    {
     "name": "stdout",
     "output_type": "stream",
     "text": [
      "- 2 은(는) 소수다.\n",
      "- 3 은(는) 소수다.\n",
      "- 5 은(는) 소수다.\n",
      "- 7 은(는) 소수다.\n"
     ]
    }
   ],
   "source": [
    "for n in range(2, 11):\n",
    "    is_prime = True # 이 값이 계속 유지되면 소수임\n",
    "\n",
    "    for x in range(2, n):\n",
    "        if n % x == 0:\n",
    "            is_prime = False\n",
    "            continue\n",
    "            \n",
    "    if is_prime:\n",
    "        print(\"-\", n, \"은(는) 소수다.\")"
   ]
  },
  {
   "cell_type": "markdown",
   "id": "5323e300",
   "metadata": {},
   "source": [
    "##  문제 11"
   ]
  },
  {
   "cell_type": "markdown",
   "id": "5539e804",
   "metadata": {},
   "source": [
    "아래 코드를 실행해도 아무 것도 출력되지 않는 이유를 설명하라."
   ]
  },
  {
   "cell_type": "code",
   "execution_count": 63,
   "id": "2afedf03",
   "metadata": {},
   "outputs": [],
   "source": [
    "for n in range(2, 10):\n",
    "    is_prime = True # 이 값이 계속 유지되면 소수임\n",
    "\n",
    "    for x in range(2, n):\n",
    "        if n % x == 0:\n",
    "            is_prime = False\n",
    "    \n",
    "    break\n",
    "\n",
    "    if is_prime:\n",
    "        print(\"-\", n, \"은(는) 소수다.\")"
   ]
  }
 ],
 "metadata": {
  "kernelspec": {
   "display_name": "Python 3 (ipykernel)",
   "language": "python",
   "name": "python3"
  },
  "language_info": {
   "codemirror_mode": {
    "name": "ipython",
    "version": 3
   },
   "file_extension": ".py",
   "mimetype": "text/x-python",
   "name": "python",
   "nbconvert_exporter": "python",
   "pygments_lexer": "ipython3",
   "version": "3.11.4"
  },
  "toc-autonumbering": true,
  "toc-showcode": false,
  "toc-showmarkdowntxt": false
 },
 "nbformat": 4,
 "nbformat_minor": 5
}
