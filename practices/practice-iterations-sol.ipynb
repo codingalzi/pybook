{
 "cells": [
  {
   "cell_type": "markdown",
   "id": "2d03d247-e2d3-4afe-ab5e-83dc989ed62d",
   "metadata": {},
   "source": [
    "# (실습) 반복문"
   ]
  },
  {
   "cell_type": "markdown",
   "id": "dcf1b352",
   "metadata": {},
   "source": [
    "## 문제 1"
   ]
  },
  {
   "cell_type": "markdown",
   "id": "028c32ae",
   "metadata": {},
   "source": [
    "2부터 9 까지의 자연수 `n`을 입력 받아 구구단의 `n`단을 아래 형식으로 출력하는 \n",
    "`times_table()` 함수를 `while` 반복문을 이용하여 작성한다.\n",
    "예를 들어 `time_table(3)`을 호출하면 3단을 다음과 같이 출력한다.\n",
    "\n",
    "```\n",
    "3 * 2 = 6\n",
    "3 * 3 = 9\n",
    "3 * 4 = 12\n",
    "3 * 5 = 15\n",
    "3 * 6 = 18\n",
    "3 * 7 = 21\n",
    "3 * 8 = 24\n",
    "3 * 9 = 27\n",
    "```"
   ]
  },
  {
   "cell_type": "markdown",
   "id": "9f736d25",
   "metadata": {},
   "source": [
    "**답**"
   ]
  },
  {
   "cell_type": "markdown",
   "id": "aab501f4",
   "metadata": {},
   "source": [
    "2부터 시작해서 `while` 반복문의 본문이 실행될 때마다 1씩 커지는\n",
    "방식으로 업데이트되는 변수 `num`을 활용한다.\n",
    "예를 들어 아래 코드는 3단을 출력한다."
   ]
  },
  {
   "cell_type": "code",
   "execution_count": 3,
   "id": "7aeca112",
   "metadata": {},
   "outputs": [
    {
     "name": "stdout",
     "output_type": "stream",
     "text": [
      "3 * 2 = 6\n",
      "3 * 3 = 9\n",
      "3 * 4 = 12\n",
      "3 * 5 = 15\n",
      "3 * 6 = 18\n",
      "3 * 7 = 21\n",
      "3 * 8 = 24\n",
      "3 * 9 = 27\n"
     ]
    }
   ],
   "source": [
    "n = 3\n",
    "\n",
    "num = 2\n",
    "while num < 10:\n",
    "    print(n, '*', num, '=', n*num)\n",
    "    num += 1"
   ]
  },
  {
   "cell_type": "markdown",
   "id": "bc64ae1a",
   "metadata": {},
   "source": [
    "5단을 출력하기 위해서는 `n`에 5만 할당하면 되며,\n",
    "코드의 다른 부분은 그대로 둔다."
   ]
  },
  {
   "cell_type": "code",
   "execution_count": 4,
   "id": "ef771435",
   "metadata": {},
   "outputs": [
    {
     "name": "stdout",
     "output_type": "stream",
     "text": [
      "5 * 2 = 10\n",
      "5 * 3 = 15\n",
      "5 * 4 = 20\n",
      "5 * 5 = 25\n",
      "5 * 6 = 30\n",
      "5 * 7 = 35\n",
      "5 * 8 = 40\n",
      "5 * 9 = 45\n"
     ]
    }
   ],
   "source": [
    "n = 5\n",
    "\n",
    "num = 2\n",
    "while num < 10:\n",
    "    print(n, '*', num, '=', n*num)\n",
    "    num += 1"
   ]
  },
  {
   "cell_type": "markdown",
   "id": "f8f1c1ea",
   "metadata": {},
   "source": [
    "따라서 변수 `n`을 매개변수로 사용하는 함수를 선언하면\n",
    "`n`단을 출력하는 함수가 된다."
   ]
  },
  {
   "cell_type": "code",
   "execution_count": 5,
   "id": "efee6386",
   "metadata": {},
   "outputs": [],
   "source": [
    "def times_table(n):\n",
    "    num = 2\n",
    "    while num < 10:\n",
    "        print(n, '*', num, '=', n*num)\n",
    "        num += 1"
   ]
  },
  {
   "cell_type": "markdown",
   "id": "ac668a2d",
   "metadata": {},
   "source": [
    "- 3단"
   ]
  },
  {
   "cell_type": "code",
   "execution_count": 6,
   "id": "7a2e6250",
   "metadata": {},
   "outputs": [
    {
     "name": "stdout",
     "output_type": "stream",
     "text": [
      "3 * 2 = 6\n",
      "3 * 3 = 9\n",
      "3 * 4 = 12\n",
      "3 * 5 = 15\n",
      "3 * 6 = 18\n",
      "3 * 7 = 21\n",
      "3 * 8 = 24\n",
      "3 * 9 = 27\n"
     ]
    }
   ],
   "source": [
    "times_table(3)"
   ]
  },
  {
   "cell_type": "markdown",
   "id": "75f686d7",
   "metadata": {},
   "source": [
    "- 8단"
   ]
  },
  {
   "cell_type": "code",
   "execution_count": 7,
   "id": "301cdb47",
   "metadata": {},
   "outputs": [
    {
     "name": "stdout",
     "output_type": "stream",
     "text": [
      "8 * 2 = 16\n",
      "8 * 3 = 24\n",
      "8 * 4 = 32\n",
      "8 * 5 = 40\n",
      "8 * 6 = 48\n",
      "8 * 7 = 56\n",
      "8 * 8 = 64\n",
      "8 * 9 = 72\n"
     ]
    }
   ],
   "source": [
    "times_table(8)"
   ]
  },
  {
   "cell_type": "markdown",
   "id": "8ee0ecbc",
   "metadata": {
    "id": "akoVfOTao55r"
   },
   "source": [
    "## 문제 2"
   ]
  },
  {
   "cell_type": "markdown",
   "id": "91077653",
   "metadata": {
    "id": "LyuZlArmhYVe"
   },
   "source": [
    "369게임은 자연수 `n`이 주어졌을 때 1부터 `n`까지의 자연수를\n",
    "다음 규칙에 따라 출력한다.\n",
    "\n",
    "* 3의 배수이거나 1의 자릿수가 3인 수일 경우, 해당하는 수를 출력하는 대신 문자열 `짝`을 출력\n",
    "* 나머지 수는 그대로 출력\n",
    "\n",
    "예를 들어, `n`이 15인 경우 다음과 같이 출력된다.\n",
    "\n",
    "```\n",
    "1 2 짝 4 5 짝 7 8 짝 10 11 짝 짝 14 짝\n",
    "```\n",
    "\n",
    "369게임을 진행하는 `game369()` 함수를 구현하여 `n`이 30일 때의 출력 결과를 확인하라.\n",
    "`game369()`는 하나의 매개변수만 사용한다.\n",
    "\n",
    "힌트: `range()` 함수, `for` 반복문, `%` 연산자, `print()` 함수의 `end` 키워드 인자 활용"
   ]
  },
  {
   "cell_type": "markdown",
   "id": "2fd3a525",
   "metadata": {},
   "source": [
    "**답**"
   ]
  },
  {
   "cell_type": "markdown",
   "id": "9ad4024c",
   "metadata": {},
   "source": [
    "`num`이 가리키는 정수에 대해\n",
    "논리식 `num % 10 == 3`는 10으로 나눴을 때의 나머지가 3일 때 참이되는데\n",
    "이유는 어떤 정수를 10으로 나눈 나머지가 바로 그 수의 일의 자릿수이기 때문이다.\n",
    "\n",
    "따라서 \"3의 배수이거나 1의 자릿수가 3인 수일 경우\"를 아래 논리식으로 표현할 수 있다.\n",
    "\n",
    "```python\n",
    "num % 3 == 0 or num % 10 == 3\n",
    "```\n",
    "\n",
    "`range(1, n+1)` 구간의 정수에 대해 아래 논리식이 참이면 짝을, 아니면\n",
    "해당 정수를 출력하도록 하면 된다.\n",
    "이를 위해 아래 함수처럼 `for` 반복문을 이용한다."
   ]
  },
  {
   "cell_type": "code",
   "execution_count": 8,
   "id": "10db5472",
   "metadata": {},
   "outputs": [],
   "source": [
    "def game369(n):\n",
    "    for num in range(1, n+1):\n",
    "        if num % 3 == 0 or num % 10 == 3:\n",
    "            print('짝', end=' ')\n",
    "        else:\n",
    "            print(num, end=' ')"
   ]
  },
  {
   "cell_type": "code",
   "execution_count": 9,
   "id": "682af0b2",
   "metadata": {},
   "outputs": [
    {
     "name": "stdout",
     "output_type": "stream",
     "text": [
      "1 2 짝 4 5 짝 7 8 짝 10 11 짝 짝 14 짝 "
     ]
    }
   ],
   "source": [
    "game369(15)"
   ]
  },
  {
   "cell_type": "code",
   "execution_count": 10,
   "id": "c2164ce0",
   "metadata": {},
   "outputs": [
    {
     "name": "stdout",
     "output_type": "stream",
     "text": [
      "1 2 짝 4 5 짝 7 8 짝 10 11 짝 짝 14 짝 16 17 짝 19 20 짝 22 짝 짝 25 26 짝 28 29 짝 "
     ]
    }
   ],
   "source": [
    "game369(30)"
   ]
  },
  {
   "cell_type": "markdown",
   "id": "8d72fa17",
   "metadata": {
    "id": "akoVfOTao55r"
   },
   "source": [
    "## 문제 3"
   ]
  },
  {
   "cell_type": "markdown",
   "id": "d6fcc548",
   "metadata": {
    "id": "KSHjiCE0nlrM"
   },
   "source": [
    "`while` 반복문을 이용하여 양의 정수를 다른 양의 정수로 나눴을 때의 \n",
    "몫을 반환하는 `quotient()` 함수와\n",
    "나머지를 반환하는 `remainder()` 함수를 구현하라.\n",
    "단, 두 함수를 이용하여 아래와 같이 화면에 출력되도록 `print()` 함수를 호출하라.\n",
    "\n",
    "```python\n",
    "45 을(를) 7 (으)로 나눴을 때의 몫: 6\n",
    "45 을(를) 7 (으)로 나눴을 때의 나머지: 3\n",
    "```\n",
    "    \n",
    "단, 연산자는 덧셈, 뺄셈, 곱셈 연산자만 사용해야 한다. \n",
    "즉, 몫 연산자, 나머지 연산자 등 파이썬에세 기본으로 제공하는 \n",
    "연산자나 함수는 사용하지 않는다."
   ]
  },
  {
   "cell_type": "markdown",
   "id": "1e58e980",
   "metadata": {},
   "source": [
    "**답**"
   ]
  },
  {
   "cell_type": "markdown",
   "id": "e303ee1a",
   "metadata": {},
   "source": [
    "예를 들어 45을 7로 나눌 때의 나머지는 7단을 읊으다가 45보다 커지는 순간\n",
    "그때까지 7에 곱한 값에서 1을 뺀 값이 몫이고\n",
    "몫과 7을 곱한 값과 45와의 차이가 나머지가 된다.\n",
    "\n",
    "```\n",
    "7 * 1 = 7\n",
    "7 * 2 = 14\n",
    "...\n",
    "7 * 6 = 42\n",
    "7 * 7 = 49   <= 45보다 큼\n",
    "```\n",
    "\n",
    "즉, 7에서 1을 뺀 6이 몫이고 6을 7과 곱한 값인 42와 45의 차이인 3이 나머지가 된다.\n",
    "이 아이디어를 코드로 구현한 두 함수는 다음과 같다.\n",
    "함수의 정의에 사용된 변수의 역할은 다음과 같다.\n",
    "\n",
    "- `number`: 나눠지는 수를 인자로 받는 매개변수\n",
    "- `divisor`: 나누는 수를 인자로 받는 매개변수\n",
    "- `count`: 나누는 수에 곱해지는 수\n",
    "\n",
    "그러면 `divisor * count <= number`이 만족되는 동안 `count` 값을 1씩 키운다."
   ]
  },
  {
   "cell_type": "markdown",
   "id": "b57e36f4",
   "metadata": {},
   "source": [
    "- 몫 반환 함수"
   ]
  },
  {
   "cell_type": "code",
   "execution_count": 11,
   "id": "6d7a92ce",
   "metadata": {},
   "outputs": [],
   "source": [
    "def quotient(number, divisor):\n",
    "    count = 0\n",
    "\n",
    "    while divisor * count <= number:\n",
    "        count += 1\n",
    "        \n",
    "    answer = count - 1\n",
    "    return answer"
   ]
  },
  {
   "cell_type": "code",
   "execution_count": 12,
   "id": "781844db",
   "metadata": {},
   "outputs": [
    {
     "name": "stdout",
     "output_type": "stream",
     "text": [
      "45 을(를) 7 (으)로 나눴을 때의 몫: 6\n"
     ]
    }
   ],
   "source": [
    "print(45, \"을(를)\", 7, \"(으)로 나눴을 때의 몫:\", quotient(45, 7))"
   ]
  },
  {
   "cell_type": "markdown",
   "id": "c0c17348",
   "metadata": {},
   "source": [
    "- 나머지 반환 함수"
   ]
  },
  {
   "cell_type": "code",
   "execution_count": 13,
   "id": "1dfb97d1",
   "metadata": {},
   "outputs": [],
   "source": [
    "def remainder(number, divisor):\n",
    "    count = 0\n",
    "\n",
    "    while divisor * count <= number:\n",
    "        count += 1\n",
    "        \n",
    "    answer = number - divisor * (count - 1)\n",
    "\n",
    "    return answer"
   ]
  },
  {
   "cell_type": "code",
   "execution_count": 14,
   "id": "42a1c830",
   "metadata": {},
   "outputs": [
    {
     "name": "stdout",
     "output_type": "stream",
     "text": [
      "45 을(를) 7 (으)로 나눴을 때의 나머지: 3\n"
     ]
    }
   ],
   "source": [
    "print(45, \"을(를)\", 7, \"(으)로 나눴을 때의 나머지:\", remainder(45, 7))"
   ]
  },
  {
   "cell_type": "markdown",
   "id": "cdfe1bd9",
   "metadata": {
    "id": "akoVfOTao55r"
   },
   "source": [
    "## 문제 4"
   ]
  },
  {
   "cell_type": "markdown",
   "id": "d0abbd52",
   "metadata": {},
   "source": [
    "거스름돈을 돌려주기 위해 필요한 최소한의 동전 개수를 알아내는 문제다. \n",
    "단, 사용할 수 있는 동전은 500원, 250원, 100원, 50원, 10원 5 종류이다.\n",
    "거슬러 줘야 하는 금액이 `n` 원일 때, 필요한 동전의 최소 개수를 반환하는\n",
    "`change()` 함수를 구현하라.\n",
    "단, n 은 10의 배수이면서 5000보다 작은 정수이고, \n",
    "모든 동전은 원하는 만큼 충분히 많이 있다고 가정한다. \n",
    "\n",
    "힌트: 거스름돈 지급에 사용되는 동전의 수를 최소화 하려면\n",
    "큰 액수의 동전을 최대한 많이 사용하면 된다.\n",
    "따라서 큰 액수의 동전부터 차례대로 최대한 많이 사용할 수 있는\n",
    "동전의 개수를 `for` 반복문과 이전 문제에서 정의한 \n",
    "`quotient()`, `remainder()` 두 함수를\n",
    "활용하여 구한다.\n",
    "\n",
    "참고: 앞서 설명한 힌트는\n",
    "[탐욕 알고리즘](https://codingalzi.github.io/algopy/greedy_algorithm_1.html)을\n",
    "응용한다."
   ]
  },
  {
   "cell_type": "markdown",
   "id": "28617cab",
   "metadata": {},
   "source": [
    "**답**"
   ]
  },
  {
   "cell_type": "markdown",
   "id": "831a4cab",
   "metadata": {},
   "source": [
    "힌트에서 언급된 대로 큰 액수의 동전을 최대한 많이 사용한다.\n",
    "예를 들어 1730원을 거슬러 주려면 500원 동전을 최대 3개 사용한다.\n",
    "그다음에 나머지 230은 100원 동전 2개를 사용하고,\n",
    "그래도 남은 30원은 10원 동전 3개를 사용한다.\n",
    "따라서 총 8개의 동전을 사용한다.\n",
    "\n",
    "그런데 위 설명에서 사용된 500원 동전 3개, 100원 동전 2개, 10원 동전 3개는\n",
    "각각 1730을 500으로 나눴을 때의 몫, 230을 100으로 나눴을 때의 몫, \n",
    "30을 10으로 나눴을 때의 몫이다.\n",
    "\n",
    "결국 최소 개수의 동전으로 거스름돈을 지불하기 위한 방법은\n",
    "500원, 250원, 100원, 50워느 10원 동전 각각을 대상으로\n",
    "몫과 나머지를 연속적으로 적용해서 확인할 수 있다.\n",
    "이를 `for` 반복문으로 구현하면 다음과 같다.\n",
    "\n",
    "```python\n",
    "n = 1730        # 총 거스름돈\n",
    "coin_number = 0 # 사용된 동전 개수\n",
    "\n",
    "for coin in [500, 250, 100, 50, 10]:\n",
    "    count = quotient(n, coin)\n",
    "    coin_number += count\n",
    "    n = remainder(n, coin)\n",
    "```\n",
    "\n",
    "따라서 `n`을 매개변수를 사용하는 `change()` 함수를 다음과 같이 구현할 수 있다."
   ]
  },
  {
   "cell_type": "code",
   "execution_count": 31,
   "id": "2efddda7",
   "metadata": {},
   "outputs": [],
   "source": [
    "def change(n):\n",
    "    \n",
    "    coin_number = 0 # 사용된 동전 개수\n",
    "    \n",
    "    for coin in [500, 250, 100, 50, 10]:\n",
    "        count = quotient(n, coin)\n",
    "        coin_number += count\n",
    "        n = remainder(n, coin)\n",
    "        \n",
    "    return coin_number"
   ]
  },
  {
   "cell_type": "markdown",
   "id": "1424d60a",
   "metadata": {},
   "source": [
    "- 거스름돈: 620원 지불에 필요한 동전 수"
   ]
  },
  {
   "cell_type": "code",
   "execution_count": 17,
   "id": "6ae649ba",
   "metadata": {},
   "outputs": [
    {
     "data": {
      "text/plain": [
       "4"
      ]
     },
     "execution_count": 17,
     "metadata": {},
     "output_type": "execute_result"
    }
   ],
   "source": [
    "change(620)"
   ]
  },
  {
   "cell_type": "markdown",
   "id": "29d0e262",
   "metadata": {},
   "source": [
    "- 거스름돈: 1730원 지불에 필요한 동전 수"
   ]
  },
  {
   "cell_type": "code",
   "execution_count": 18,
   "id": "7a2ebe39",
   "metadata": {},
   "outputs": [
    {
     "data": {
      "text/plain": [
       "8"
      ]
     },
     "execution_count": 18,
     "metadata": {},
     "output_type": "execute_result"
    }
   ],
   "source": [
    "change(1730)"
   ]
  },
  {
   "cell_type": "markdown",
   "id": "2753b5c7",
   "metadata": {},
   "source": [
    "`print()` 함수를 적절히 이용해서 거스름돈 지불에 사용된 동전을 구체적으로 확인할 수 있다."
   ]
  },
  {
   "cell_type": "code",
   "execution_count": 19,
   "id": "21f874c1",
   "metadata": {},
   "outputs": [],
   "source": [
    "def change(n):\n",
    "    \n",
    "    coin_number = 0\n",
    "    \n",
    "    for coin in [500, 250, 100, 50, 10]:\n",
    "        count = quotient(n, coin)\n",
    "        print(coin, \"원 동전:\", count, \"개\")\n",
    "        coin_number += count\n",
    "        n = remainder(n, coin)\n",
    "        \n",
    "    return coin_number"
   ]
  },
  {
   "cell_type": "markdown",
   "id": "6533893f",
   "metadata": {},
   "source": [
    "- 거스름돈: 620원 지불에 필요한 동전"
   ]
  },
  {
   "cell_type": "code",
   "execution_count": 20,
   "id": "6986f8ea",
   "metadata": {},
   "outputs": [
    {
     "name": "stdout",
     "output_type": "stream",
     "text": [
      "500 원 동전: 1 개\n",
      "250 원 동전: 0 개\n",
      "100 원 동전: 1 개\n",
      "50 원 동전: 0 개\n",
      "10 원 동전: 2 개\n"
     ]
    },
    {
     "data": {
      "text/plain": [
       "4"
      ]
     },
     "execution_count": 20,
     "metadata": {},
     "output_type": "execute_result"
    }
   ],
   "source": [
    "change(620)"
   ]
  },
  {
   "cell_type": "markdown",
   "id": "b4e08161",
   "metadata": {},
   "source": [
    "- 거스름돈: 1730원 지불에 필요한 동전"
   ]
  },
  {
   "cell_type": "code",
   "execution_count": 21,
   "id": "a1d6a058",
   "metadata": {},
   "outputs": [
    {
     "name": "stdout",
     "output_type": "stream",
     "text": [
      "500 원 동전: 3 개\n",
      "250 원 동전: 0 개\n",
      "100 원 동전: 2 개\n",
      "50 원 동전: 0 개\n",
      "10 원 동전: 3 개\n"
     ]
    },
    {
     "data": {
      "text/plain": [
       "8"
      ]
     },
     "execution_count": 21,
     "metadata": {},
     "output_type": "execute_result"
    }
   ],
   "source": [
    "change(1730)"
   ]
  },
  {
   "cell_type": "markdown",
   "id": "6089863e",
   "metadata": {},
   "source": [
    "## 문제 5"
   ]
  },
  {
   "cell_type": "markdown",
   "id": "1115783c",
   "metadata": {},
   "source": [
    "복리 정기예금과 관련해서 원금, 연 복리이자, 예치기간이 주어졌을 때 \n",
    "지정된 예치기간 후에 받을 원리합계, 즉, 원금과 이자의 합을 반환하는\n",
    "`total()` 함수를 구현하라.\n",
    "단, 총이자를 계사할 때 `while` 반복문을 반드시 이용한다.\n",
    "\n",
    "예를 들어, 연 복리이자 5%인 정기예금에 백만원을 3년간 은행에 맡겼을 때\n",
    "3년 후에 수령할 금액은 원금 백만원에 이자 157,625원이 추가되어\n",
    "총 1,157,625원이 된다.\n",
    "\n",
    "힌트: 복리이자의 원리합계 계산 코드는 다음과 같다.\n",
    "\n",
    "```\n",
    "total = principal * (1 + rate)**period\n",
    "```"
   ]
  },
  {
   "cell_type": "markdown",
   "id": "117b3f20",
   "metadata": {},
   "source": [
    "**답**"
   ]
  },
  {
   "cell_type": "markdown",
   "id": "f7e8f230",
   "metadata": {},
   "source": [
    "복리에 대한 원리합계를 계산하는 식은 다음과 같았다.\n",
    "\n",
    "```python\n",
    "total = principal * (1 + rate)**period\n",
    "```\n",
    "\n",
    "따라서 저축기간인 `period` 가 1년 증가할 때마다 원리합계는 이전 원리합계에 `(1 + rate)`를 곱한 결과이다.\n",
    "이 정보를 `while` 반복문에 적용하여 다음과 같이 원리합계를 계산할 수 있다."
   ]
  },
  {
   "cell_type": "code",
   "execution_count": 22,
   "id": "d3ee10a3",
   "metadata": {},
   "outputs": [],
   "source": [
    "def savings(principal, rate, period):\n",
    "\n",
    "    total = principal # period가 0일 때는 원금만 있음.\n",
    "    num_of_years = 1\n",
    "\n",
    "    while num_of_years <= period:\n",
    "        total = total * (1 + rate)\n",
    "        num_of_years = num_of_years + 1\n",
    "\n",
    "    return total"
   ]
  },
  {
   "cell_type": "code",
   "execution_count": 23,
   "id": "c3685613",
   "metadata": {},
   "outputs": [
    {
     "name": "stdout",
     "output_type": "stream",
     "text": [
      "백만원을 복리이자 5%로 3년 예치 후 받는 원금 + 이자는 1157625.0 원입니다.\n"
     ]
    }
   ],
   "source": [
    "print(\"백만원을 복리이자 5%로 3년 예치 후 받는 원금 + 이자는\", savings(1000000, 0.05, 3), \"원입니다.\")"
   ]
  },
  {
   "cell_type": "markdown",
   "id": "a3a01088",
   "metadata": {},
   "source": [
    "## 문제 6"
   ]
  },
  {
   "cell_type": "markdown",
   "id": "59941bd0",
   "metadata": {},
   "source": [
    "`for`/`while` 반복문에 포함된  `break` 명령문이 실행되면\n",
    "실행중인 반복문의 실행이 종료된다.\n",
    "아래 코드를 실행해도 아무 것도 출력되지 않는 이유를 설명하라."
   ]
  },
  {
   "cell_type": "code",
   "execution_count": 24,
   "id": "55b5226a",
   "metadata": {},
   "outputs": [
    {
     "name": "stdout",
     "output_type": "stream",
     "text": [
      "- 3 은(는) 홀수다.\n",
      "실행 종료!\n"
     ]
    }
   ],
   "source": [
    "n = 3\n",
    "while n < 10:\n",
    "    is_even = True\n",
    "\n",
    "    if n % 2 == 1:\n",
    "        is_even = False\n",
    "        print(\"-\", n, \"은(는) 홀수다.\")\n",
    "    \n",
    "    break\n",
    "\n",
    "    if is_even:\n",
    "        print(\"-\", n, \"은(는) 짝수다.\")\n",
    "        \n",
    "    n += 1\n",
    "    \n",
    "print(\"실행 종료!\")"
   ]
  },
  {
   "cell_type": "markdown",
   "id": "2fe4b914",
   "metadata": {},
   "source": [
    "**답**"
   ]
  },
  {
   "cell_type": "markdown",
   "id": "019123a4",
   "metadata": {},
   "source": [
    "`while` 반복문은 `n`이 3부터 10까지의 정수를 차례대로 가리키는 동안 실행된다.\n",
    "\n",
    "- 5번 줄에서 시작하는 `if` 조건문은 `n`이 홀수일 때 홀수임을 확인한다.\n",
    "- 이후에 9번 줄에서 `break` 명령문이 실행되어 `while` 반복문의 실행이 중단된다.\n",
    "- 결국 `n`이 3인 경우에 홀수임을 확인한 후에 곧바로 `while` 반복문의 실행이 중단된다.\n",
    "- `while` 반복문이 종료된 후에 이어지는 명령문이 계속해서 실행되어\n",
    "    마지막 줄의 `print(\"실행 종료!\")`에 의해 코드의 실행이 종료되었음을 확인해준다."
   ]
  },
  {
   "cell_type": "markdown",
   "id": "c9ca0a81",
   "metadata": {},
   "source": [
    "## 문제 7"
   ]
  },
  {
   "cell_type": "markdown",
   "id": "d8db1154",
   "metadata": {},
   "source": [
    "`for`/`while` 반복문에 포함된  `continue` 명령문이 실행되면\n",
    "실행중인 반복문의 처음으로 돌아가서 반복문을 다시 시작한다.\n",
    "특히 `for` 반복문에서는 다음 경우가 실행된다.\n",
    "아래 코드의 실행결과를 설명하라."
   ]
  },
  {
   "cell_type": "code",
   "execution_count": 25,
   "id": "c22afe7f",
   "metadata": {},
   "outputs": [],
   "source": [
    "def prime_check(n):\n",
    "\n",
    "    is_prime = True # 이 값이 계속 유지되면 소수임\n",
    "\n",
    "    for x in range(2, n):\n",
    "        if n % x == 0:\n",
    "            is_prime = False\n",
    "            print(\"-\", n, \"=\", x, \"*\", n//x)\n",
    "            continue\n",
    "            print(\"따라서\", n, \"은(는) 소수 아님!\")\n",
    "\n",
    "    if is_prime:\n",
    "        print(n, \"은(는) 소수다.\")\n",
    "    else:\n",
    "        print(\" \", n, \"은(는) 소수가 아니다.\")"
   ]
  },
  {
   "cell_type": "code",
   "execution_count": 26,
   "id": "3c64a32a",
   "metadata": {},
   "outputs": [
    {
     "name": "stdout",
     "output_type": "stream",
     "text": [
      "13 은(는) 소수다.\n"
     ]
    }
   ],
   "source": [
    "prime_check(13)"
   ]
  },
  {
   "cell_type": "code",
   "execution_count": 27,
   "id": "6412ed94",
   "metadata": {},
   "outputs": [
    {
     "name": "stdout",
     "output_type": "stream",
     "text": [
      "- 12 = 2 * 6\n",
      "- 12 = 3 * 4\n",
      "- 12 = 4 * 3\n",
      "- 12 = 6 * 2\n",
      "  12 은(는) 소수가 아니다.\n"
     ]
    }
   ],
   "source": [
    "prime_check(12)"
   ]
  },
  {
   "cell_type": "markdown",
   "id": "37b4288a",
   "metadata": {},
   "source": [
    "**답**"
   ]
  },
  {
   "cell_type": "markdown",
   "id": "27ca459b",
   "metadata": {},
   "source": [
    "`prime_check()` 함수는 2보다 같거나 큰 양의 정수 `n`을 인자로 해서 호출되었을 때\n",
    "`n`의 소수 여부에 따라 소수면 소수임을 확인하는 문장을\n",
    "아니면 왜 소수가 아닌지에 대한 설명을 출력한다.\n",
    "\n",
    "양의 정수가 소수가 되려면 2보다 크고 자신보다 작은 모든 정수에 대해 배수가 아니어야 하는데\n",
    "이 사실을 확인하기 위해 `for` 반복문을 이용한다.\n",
    "\n",
    "- `is_prime` 변수: 처음에 `True`를 가리키다가 `n`을 나누는 2보다 큰 정수가 확인되는 순간 \n",
    "    `False`로 변하게 되어 `n`이 소수가 아님을 기억한다.\n",
    "\n",
    "- `continue` 명령문: 실행되면 곧바로 `for` 반복문의 다음 경우를 다룬다.\n",
    "    따라서 9번 줄의 `print()` 함수는 실행되지 않는다.\n",
    "    \n",
    "`for` 반복문의 실행중에 `is_prime`이 가리키는 값이 변하지 않았다면\n",
    ", 즉 계속해서 `True`를 가리킨다면 소수임을,\n",
    "`False`로 변했다면 소수가 아님을 밝히는 문장이 출력된다."
   ]
  },
  {
   "cell_type": "markdown",
   "id": "f1fa7e38",
   "metadata": {},
   "source": [
    "## 문제 8"
   ]
  },
  {
   "cell_type": "markdown",
   "id": "30f3eea7",
   "metadata": {},
   "source": [
    "`for`/`while` 반복문에 포함된  `continue` 명령문이 실행되면\n",
    "실행중인 반복문의 처음으로 돌아가서 반복문을 다시 시작한다.\n",
    "특히 `for` 반복문에서는 다음 경우가 실행된다.\n",
    "반면에 `for`/`while` 반복문애 포함된 `break` 명령문이 실행되면\n",
    "해당 반복문이 종료된다.\n",
    "아래 코드의 실행 결과를 설명하라."
   ]
  },
  {
   "cell_type": "code",
   "execution_count": 28,
   "id": "70ccd904",
   "metadata": {},
   "outputs": [
    {
     "name": "stdout",
     "output_type": "stream",
     "text": [
      "- 4 = 2 * 2\n",
      "- 6 = 2 * 3\n",
      "- 8 = 2 * 4\n",
      "- 9 = 3 * 3\n",
      "- 10 = 2 * 5\n"
     ]
    }
   ],
   "source": [
    "for n in range(2, 11):\n",
    "    is_prime = True # 이 값이 계속 유지되면 소수임\n",
    "\n",
    "    for x in range(2, n):\n",
    "        if n % x == 0:\n",
    "            is_prime = False\n",
    "            print(\"-\", n, \"=\", x, \"*\", n//x)\n",
    "            break\n",
    "            print(\"따라서\", n, \"은(는) 소수 아님!\")\n",
    "\n",
    "    continue\n",
    "    \n",
    "    if is_prime:\n",
    "        print(\"-\", n, \"은(는) 소수다.\")\n",
    "    else:\n",
    "        print(\" \", n, \"은(는) 소수가 아니다.\")"
   ]
  },
  {
   "cell_type": "markdown",
   "id": "80118caf",
   "metadata": {},
   "source": [
    "**답**"
   ]
  },
  {
   "cell_type": "markdown",
   "id": "9f9c8861",
   "metadata": {},
   "source": [
    "1번 줄에서 시작하는 `for` 반복문은 2부터 10까지의 정수를 대상으로 한다.\n",
    "\n",
    "- 변수 `n`이 가리키는 값이 소수가 아닐 때\n",
    "    - 하나의 소인수 분해 예제 출력 후 `break` 명령문에 의해\n",
    "        4번 줄에서 시작하는 내부의 `for` 반복문 실행 종료\n",
    "    - 곧바로 `continue` 명령문이 실행되어 1번 줄의 `for` 반복문을 `n+1`에 대해 실행.\n",
    "\n",
    "- 변수 `n`이 소수를 가리킬 때\n",
    "    - 5번 줄에서 시작하는 `if ...` 조건문의 본문이 실행되지 않아 `break` 명령문이 전혀 실행되지 않음.\n",
    "    - 따라서 `for` 반복문이 정상적으로 실행 종료됨.\n",
    "    \n",
    "- 4번 줄에서 시작하는 내부 반복문의 실행이 종료된 후 곧바로 11번 줄의 `continue` 명령문이 실행되어\n",
    "    1번 줄의 `for` 반복문을 `n+1`에 대해 실행을 이어감.\n",
    "- 따라서 13번 줄부터 시작하는 `if ... else ...` 명령문은 어떤 경우에도 실행되지 않게 되어\n",
    "    소수이다/아니다를 최종적으로 확인하는 문장이 출력되지 않음. \n",
    "    특히 소수인 경우는 무시되는 것처럼 보임."
   ]
  },
  {
   "cell_type": "markdown",
   "id": "b6c2176d",
   "metadata": {},
   "source": [
    "## 문제 9"
   ]
  },
  {
   "cell_type": "markdown",
   "id": "ba73c211",
   "metadata": {},
   "source": [
    "`for`/`while` 반복문이 중첩되어 사용되었을 때 \n",
    "내부의 `for`/`while` 반복문에 포함된 `break` 명령문이 실행되면\n",
    "해당 `for`/`while` 반복문만 종료된다.\n",
    "아래 두 코드가 동일한 내용을 출력하는 이유를 설명하라."
   ]
  },
  {
   "cell_type": "markdown",
   "id": "7007875b",
   "metadata": {},
   "source": [
    "- 코드 1"
   ]
  },
  {
   "cell_type": "code",
   "execution_count": 29,
   "id": "a726a61a",
   "metadata": {},
   "outputs": [
    {
     "name": "stdout",
     "output_type": "stream",
     "text": [
      "[0, 0]\n",
      "[1, 0]\n",
      "[1, 1]\n",
      "[2, 0]\n",
      "[2, 1]\n",
      "[2, 2]\n",
      "[3, 0]\n",
      "[3, 1]\n",
      "[3, 2]\n",
      "[3, 3]\n"
     ]
    }
   ],
   "source": [
    "for i in range(4):\n",
    "    for j in range(4):\n",
    "        if j > i:\n",
    "            break\n",
    "        print([i, j])"
   ]
  },
  {
   "cell_type": "markdown",
   "id": "cee98497",
   "metadata": {},
   "source": [
    "- 코드 2"
   ]
  },
  {
   "cell_type": "code",
   "execution_count": 30,
   "id": "18bdeef5",
   "metadata": {},
   "outputs": [
    {
     "name": "stdout",
     "output_type": "stream",
     "text": [
      "[0, 0]\n",
      "[1, 0]\n",
      "[1, 1]\n",
      "[2, 0]\n",
      "[2, 1]\n",
      "[2, 2]\n",
      "[3, 0]\n",
      "[3, 1]\n",
      "[3, 2]\n",
      "[3, 3]\n"
     ]
    }
   ],
   "source": [
    "for i in range(4):\n",
    "    for j in range(4):\n",
    "        if j > i:\n",
    "            continue\n",
    "        print([i, j])"
   ]
  },
  {
   "cell_type": "markdown",
   "id": "dc0222b5",
   "metadata": {},
   "source": [
    "**답**"
   ]
  },
  {
   "cell_type": "markdown",
   "id": "fe2cbed0",
   "metadata": {},
   "source": [
    "코드 1은 다음과 같이 작동한다."
   ]
  },
  {
   "cell_type": "markdown",
   "id": "301b9e56",
   "metadata": {},
   "source": [
    "- `i`가 0부터 3까지 변함.\n",
    "- 각각의 `i`에 대해 `i < j` 가 거짓인 경우에만 리스트 `[i, j]` 출력.\n",
    "- 각각의 `i`에 대해 `i < j` 가 참이 되는 순간 `break` 명령문이 실행되어\n",
    "    내부의 반복문인 `for j in range(4)` 의 실행이 종료되고\n",
    "    `i+1`에 대해 외부의 `for i in range(4)` 반복문 실행\n",
    "- 결론적으로 `i <= j`인 경우에만 `[i, j]` 출력"
   ]
  },
  {
   "cell_type": "markdown",
   "id": "561a0184",
   "metadata": {},
   "source": [
    "코드 2는 다음과 같이 작동한다."
   ]
  },
  {
   "cell_type": "markdown",
   "id": "20de919e",
   "metadata": {},
   "source": [
    "- `i`가 0부터 3까지 변함.\n",
    "- 각각의 `i`에 대해 `i < j` 가 거짓인 경우에만 리스트 `[i, j]` 출력.\n",
    "- 각각의 `i`에 대해 `i < j` 가 참이 되는 순간 `continue` 명령문이 실행되어\n",
    "    내부의 반복문인 `for j in range(4)` 의 처음으로 돌아가서 `j+1`에 대해 해당 반복문이 다시 실행되지만\n",
    "    계속해서 `i < j+1`이 참이 되기에 `j`가 4가 될 때까지 계속해서 `continue` 명령문이 실행된다.\n",
    "    즉, 더 이상의 출력이 실행되지 않은 상태에서 `for j in range(4)` 반복문의 실행이 종료되고\n",
    "    `i+1`에 대해 외부의 `for i in range(4)` 반복문 실행\n",
    "- 결국 `continue` 명령문 대신 코드 1에서처럼 `break` 명령문을 사용한 경우와 동일한 결과가 나온다."
   ]
  }
 ],
 "metadata": {
  "kernelspec": {
   "display_name": "Python 3 (ipykernel)",
   "language": "python",
   "name": "python3"
  },
  "language_info": {
   "codemirror_mode": {
    "name": "ipython",
    "version": 3
   },
   "file_extension": ".py",
   "mimetype": "text/x-python",
   "name": "python",
   "nbconvert_exporter": "python",
   "pygments_lexer": "ipython3",
   "version": "3.11.5"
  },
  "toc-autonumbering": true,
  "toc-showcode": false,
  "toc-showmarkdowntxt": false
 },
 "nbformat": 4,
 "nbformat_minor": 5
}
