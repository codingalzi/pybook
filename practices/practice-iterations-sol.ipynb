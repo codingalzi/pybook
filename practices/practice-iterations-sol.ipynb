{
 "cells": [
  {
   "cell_type": "markdown",
   "id": "2d03d247-e2d3-4afe-ab5e-83dc989ed62d",
   "metadata": {},
   "source": [
    "# (실습) 반복문"
   ]
  },
  {
   "cell_type": "markdown",
   "id": "9d4eb0ca",
   "metadata": {
    "id": "akoVfOTao55r"
   },
   "source": [
    "## 예제"
   ]
  },
  {
   "cell_type": "markdown",
   "id": "59b6a929",
   "metadata": {
    "id": "akoVfOTao55r"
   },
   "source": [
    "`while` 반복문을 이용하여 아래 실행결과가 나오는 프로그램을 작성하고자 한다.\n",
    "즉, `\"안녕하세요\"` 문자열이 코드에 단 한 번만 언급되어야 한다.\n",
    "\n",
    "```\n",
    "안녕하세요.\n",
    "안녕하세요.\n",
    "안녕하세요.\n",
    "안녕하세요.\n",
    "안녕하세요.\n",
    "```"
   ]
  },
  {
   "cell_type": "markdown",
   "id": "9909a5d0",
   "metadata": {},
   "source": [
    "## 예제"
   ]
  },
  {
   "cell_type": "markdown",
   "id": "028c32ae",
   "metadata": {},
   "source": [
    "1부터 9 사이의 자연수 `n`을 입력 받아 구구단에서 `n`단을 아래 형식으로 출력하는 코드를 \n",
    "`while` 반복문을 이용하여 작성한다.\n",
    "예를 들어 3을 입력하면 3단을 다음과 같이 출력력한다.\n",
    "\n",
    "```\n",
    "3 * 2 = 6\n",
    "3 * 3 = 9\n",
    "3 * 4 = 12\n",
    "3 * 5 = 15\n",
    "3 * 6 = 18\n",
    "3 * 7 = 21\n",
    "3 * 8 = 24\n",
    "3 * 9 = 27\n",
    "```"
   ]
  },
  {
   "cell_type": "markdown",
   "id": "9f736d25",
   "metadata": {},
   "source": [
    "모범답안:"
   ]
  },
  {
   "cell_type": "markdown",
   "id": "aab501f4",
   "metadata": {},
   "source": [
    "앞서 `for` 반복문에서 사용된 `item` 변수는 \n",
    "`for` 반복문의 실행될 때\n",
    "2부터 시작해서 차례대로 9까지 할당받는다.\n",
    "이점에 착안해서\n",
    "2부터 시작해서 `while` 반복문의 본문이 실행될 때마다 1씩 커지는\n",
    "방식으로 업데이트되는 변수를 활용한다.\n",
    "\n",
    "아래 코드에서 변수 `num`이 이전 코드에서의 `item` 변수의 역할을 수행한다."
   ]
  },
  {
   "cell_type": "code",
   "execution_count": 5,
   "id": "7aeca112",
   "metadata": {},
   "outputs": [
    {
     "name": "stdout",
     "output_type": "stream",
     "text": [
      "1에서 9 사이의 자연수 입력: 3\n",
      "3 * 2 = 6\n",
      "3 * 3 = 9\n",
      "3 * 4 = 12\n",
      "3 * 5 = 15\n",
      "3 * 6 = 18\n",
      "3 * 7 = 21\n",
      "3 * 8 = 24\n",
      "3 * 9 = 27\n"
     ]
    }
   ],
   "source": [
    "n = int(input(\"1에서 9 사이의 자연수 입력: \"))\n",
    "\n",
    "num = 2\n",
    "while num < 10:\n",
    "    print(n, '*', num, '=', n*num)\n",
    "    num += 1"
   ]
  },
  {
   "cell_type": "markdown",
   "id": "558fb09b",
   "metadata": {
    "id": "akoVfOTao55r"
   },
   "source": [
    "## 문제"
   ]
  },
  {
   "cell_type": "markdown",
   "id": "816111e8",
   "metadata": {},
   "source": [
    "양의 정수가 입력되면 1 부터 n 까지의 정수의 제곱의 합을 \n",
    "음의 정수가 입력되면 n 부터 -n 까지의 정수의 제곱의 합을 구하는 `square_sum_abs()` 함수를 구현하라."
   ]
  },
  {
   "cell_type": "code",
   "execution_count": 5,
   "id": "dfb05d2c",
   "metadata": {},
   "outputs": [],
   "source": [
    "# pass 와 None 을 각각 적절한 명령문과 반환값으로 대체하라.\n",
    "\n",
    "def square_sum_abs(n):\n",
    "    pass\n",
    "\n",
    "    return None"
   ]
  },
  {
   "cell_type": "code",
   "execution_count": 6,
   "id": "804a87b1",
   "metadata": {},
   "outputs": [],
   "source": [
    "# 주석기호를 제거하고 실행할 때 오류가 발생하지 않아야 한다.\n",
    "\n",
    "# assert square_sum_abs(-1) == 2\n",
    "# assert square_sum_abs(-3) == 28\n",
    "# assert square_sum_abs(5) == 55\n",
    "# assert square_sum_abs(-5) == 110"
   ]
  },
  {
   "cell_type": "markdown",
   "id": "d743c5b1",
   "metadata": {
    "id": "akoVfOTao55r"
   },
   "source": [
    "## 문제"
   ]
  },
  {
   "cell_type": "markdown",
   "id": "cb4a94bf",
   "metadata": {
    "id": "DL3G4F7CmkA1"
   },
   "source": [
    "자연수 `n`이 주어졌을 때, 1과 `n` 자신을 제외한 `n`의 약수를 모두 출력하는 프로그램을 작성하라.\n",
    "예를 들어 `n`이 24일 때 다음과 같이 출력되어야 한다.\n",
    "\n",
    "```\n",
    "24의 약수: 2 3 4 6 8 12\n",
    "```\n",
    "\n",
    "힌트: `for` 반복문, `range()` 함수, `print()` 함수의 `sep`, ``end` 키워드 인자 활용"
   ]
  },
  {
   "cell_type": "markdown",
   "id": "c7fa01d2",
   "metadata": {},
   "source": [
    "## 문제"
   ]
  },
  {
   "cell_type": "markdown",
   "id": "d0abbd52",
   "metadata": {},
   "source": [
    "500원, 100원, 50원, 10원 짜리 동전으로 거스름돈을 지급할 때\n",
    "동전의 개수를 최소화하고자 한다.\n",
    "거슬러 줘야 하는 금액이 n 원일 때, 필요한 동전의 최소 개수를 반환하는\n",
    "`change()` 함수를 구현하라.\n",
    "단, n 은 10의 배수이며 5000보다 작은 정수고, 모든 동전은 무한히 많이 있다고 가정한다. \n",
    "\n",
    "힌트: [탐욕 알고리즘](https://code-lab1.tistory.com/11) 참고. `while` 반복문 활용."
   ]
  },
  {
   "cell_type": "code",
   "execution_count": 13,
   "id": "d51bb9a3",
   "metadata": {},
   "outputs": [],
   "source": [
    "# pass 와 None 을 각각 적절한 명령문과 반환값으로 대체하라.\n",
    "def change(n):\n",
    "    assert (n%10 == 0 and n < 5000)\n",
    "    \n",
    "    pass\n",
    "\n",
    "    return None    "
   ]
  },
  {
   "cell_type": "code",
   "execution_count": 14,
   "id": "6ae649ba",
   "metadata": {},
   "outputs": [],
   "source": [
    "# 아래 주석을 제거하고 실행할 때 오류가 발생하지 않아야 한다.\n",
    "\n",
    "# assert change(1730) == 8"
   ]
  },
  {
   "cell_type": "markdown",
   "id": "90a4079f",
   "metadata": {},
   "source": [
    "## 문제 9"
   ]
  },
  {
   "cell_type": "markdown",
   "id": "a6e50964",
   "metadata": {
    "id": "DxP4L1g30ZpC"
   },
   "source": [
    "100만원을 복리로 연이자 5%인 예금에 3년간 은행에 맡겼을 때\n",
    "3년 후에 수령할 금액을 계산하는 코드를 `while` 반복문을 이용하여 \n",
    "원리합계를 계산하는 코드를 작성한다."
   ]
  },
  {
   "cell_type": "markdown",
   "id": "5a13e7fd",
   "metadata": {
    "id": "DxP4L1g30ZpC"
   },
   "source": [
    "단, 다음 형식으로 출력하라.\n",
    "\n",
    "> 3년 후 받을 원금 + 이자는 OOO 원입니다."
   ]
  },
  {
   "cell_type": "markdown",
   "id": "5fdb6a8d",
   "metadata": {},
   "source": [
    "복리계산은 아래와 같이 계산한다."
   ]
  },
  {
   "cell_type": "markdown",
   "id": "c3677e6c",
   "metadata": {},
   "source": [
    "> 원리합계 ＝ 원금 * (1 ＋ 연금리/일년에 이자받는횟수) ** (일년에 이자받는횟수 * 기간)"
   ]
  },
  {
   "cell_type": "markdown",
   "id": "650dd945",
   "metadata": {},
   "source": [
    "복리 개념과 계산법에 대해서는 아래 링크를 참고한다.\n",
    "\n",
    "- [복리 개념과 계산법](https://a2-finance.com/ko/calculators/%EB%AA%A8%EB%93%A0-%EA%B3%84%EC%82%B0%EA%B8%B0/%EB%B3%B5%EB%A6%AC-%EA%B3%84%EC%82%B0%EA%B8%B0)"
   ]
  },
  {
   "cell_type": "markdown",
   "id": "1adf2e90",
   "metadata": {},
   "source": [
    "아래 변수를 활용한다.\n",
    "\n",
    "- principal = 원금\n",
    "- rate = 연이자율\n",
    "- period = 저축기간(년)\n",
    "- savings = 원리합계"
   ]
  },
  {
   "cell_type": "code",
   "execution_count": 81,
   "id": "27459a8e",
   "metadata": {},
   "outputs": [],
   "source": [
    "# 코드를 완성한다.\n",
    "# None은 적절한 정수, 부동소수점 또는 수식으로 대체한다.\n",
    "\n"
   ]
  },
  {
   "cell_type": "markdown",
   "id": "298ab3cf",
   "metadata": {},
   "source": [
    "모범답안:"
   ]
  },
  {
   "cell_type": "markdown",
   "id": "f7e8f230",
   "metadata": {},
   "source": [
    "복리에 대한 원리합계를 계산하는 식은 다음과 같았다.\n",
    "\n",
    "    savings = principal * (1 + rate/1)**(1 * period)\n",
    "    \n",
    "정리하면 아래가 된다.\n",
    "\n",
    "    savings = principal * (1 + rate)**period\n",
    "\n",
    "따라서 저축기간인 `period` 가 1년 증가할 때마다 원리합계는 이전 원리합계에 `(1 + rate)`를 곱한 결과이다.\n",
    "이 정보를 `while` 반복문에 적용하여 다음과 같이 원리합계를 계산할 수 있다."
   ]
  },
  {
   "cell_type": "code",
   "execution_count": 82,
   "id": "ab61bed5",
   "metadata": {},
   "outputs": [
    {
     "name": "stdout",
     "output_type": "stream",
     "text": [
      "12개월 후 받는 원금 + 이자는 1157625.0 원입니다.\n"
     ]
    }
   ],
   "source": [
    "principal = 1000000 # 원금\n",
    "rate = 0.05         # 연이자\n",
    "period = 3          # 3년\n",
    "\n",
    "savings = principal # period가 0일 때는 원금만 있음.\n",
    "num_of_years = 1\n",
    "\n",
    "while num_of_years <= period:\n",
    "    savings = savings * (1 + rate)\n",
    "    num_of_years = num_of_years + 1\n",
    "    \n",
    "print(\"12개월 후 받는 원금 + 이자는\", savings, \"원입니다.\")   "
   ]
  },
  {
   "cell_type": "markdown",
   "id": "ee48280b",
   "metadata": {},
   "source": [
    "주의사항:"
   ]
  },
  {
   "cell_type": "markdown",
   "id": "06c8a6a4",
   "metadata": {},
   "source": [
    "문제 10의 답은 `1157625.0000000002`원인데 문제 11의 답은 `1157625.0`원 이다.\n",
    "이는 컴퓨터가 부동소수점 연산을 수학에서 배운 정의와 조금 다르게 하기 때문이다.\n",
    "이는 파이썬의 문제가 아니라 현존 컴퓨터의 문제이다.\n",
    "더 자세한 내용은 여기서는 다루지 않는다."
   ]
  },
  {
   "cell_type": "code",
   "execution_count": null,
   "id": "c49a9082",
   "metadata": {},
   "outputs": [],
   "source": []
  }
 ],
 "metadata": {
  "kernelspec": {
   "display_name": "Python 3 (ipykernel)",
   "language": "python",
   "name": "python3"
  },
  "language_info": {
   "codemirror_mode": {
    "name": "ipython",
    "version": 3
   },
   "file_extension": ".py",
   "mimetype": "text/x-python",
   "name": "python",
   "nbconvert_exporter": "python",
   "pygments_lexer": "ipython3",
   "version": "3.11.4"
  },
  "toc-autonumbering": true,
  "toc-showcode": false,
  "toc-showmarkdowntxt": false
 },
 "nbformat": 4,
 "nbformat_minor": 5
}
