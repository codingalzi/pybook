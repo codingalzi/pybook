{
 "cells": [
  {
   "cell_type": "markdown",
   "id": "bd286fa2",
   "metadata": {},
   "source": [
    "# (실습) 모음 자료형 2부: 집합, 사전, `range`, 조건제시법"
   ]
  },
  {
   "cell_type": "markdown",
   "id": "a5c511c1",
   "metadata": {},
   "source": [
    "## 집합"
   ]
  },
  {
   "cell_type": "markdown",
   "id": "8d7431a2",
   "metadata": {},
   "source": [
    "**문제 1**"
   ]
  },
  {
   "cell_type": "markdown",
   "id": "a8996e7c",
   "metadata": {},
   "source": [
    "세 집합 A, B, C가 다음과 같이 주어졌다. "
   ]
  },
  {
   "cell_type": "code",
   "execution_count": 39,
   "id": "40f7078d",
   "metadata": {},
   "outputs": [],
   "source": [
    "A = {2, 4, 5}\n",
    "B = {1, 2, 2, 1, 10, 4}\n",
    "C = {3, 3, 3, 4}"
   ]
  },
  {
   "cell_type": "markdown",
   "id": "3e8ae185",
   "metadata": {},
   "source": [
    "* $A \\cap B \\cap C$"
   ]
  },
  {
   "cell_type": "code",
   "execution_count": 40,
   "id": "a871f333",
   "metadata": {},
   "outputs": [],
   "source": [
    "# pass 와  None을 적절한 명령문과 표현식으로 대체하라.\n",
    "\n",
    "pass\n",
    "\n",
    "AnBnC = None"
   ]
  },
  {
   "cell_type": "code",
   "execution_count": 41,
   "id": "23f462d7",
   "metadata": {},
   "outputs": [],
   "source": [
    "# 아래 코드의 주석 기호를 삭제하고 실행할 때 오류가 발생하지 않아야 한다.\n",
    "\n",
    "# assert AnBnC == {4}"
   ]
  },
  {
   "cell_type": "markdown",
   "id": "e6de4d9e",
   "metadata": {},
   "source": [
    "* $(A \\cup B \\cup C) - A$"
   ]
  },
  {
   "cell_type": "code",
   "execution_count": 42,
   "id": "7c5d05be",
   "metadata": {},
   "outputs": [],
   "source": [
    "# pass 와  None을 적절한 명령문과 표현식으로 대체하라.\n",
    "\n",
    "pass\n",
    "\n",
    "ArBrCmA = None"
   ]
  },
  {
   "cell_type": "code",
   "execution_count": 43,
   "id": "5701a40f",
   "metadata": {},
   "outputs": [],
   "source": [
    "# 아래 코드의 주석 기호를 삭제하고 실행할 때 오류가 발생하지 않아야 한다.\n",
    "\n",
    "# assert ArBrCmA == {1, 3, 10}"
   ]
  },
  {
   "cell_type": "markdown",
   "id": "66466065",
   "metadata": {},
   "source": [
    "**문제 2**"
   ]
  },
  {
   "cell_type": "markdown",
   "id": "4b1ab94f",
   "metadata": {},
   "source": [
    "리스트가 입력되면 중복된 항목은 제거하고 남은 항목들을 내림차순으로 정렬한\n",
    "리스트를 반환하는 `unique_values()` 함수를 구현하라. "
   ]
  },
  {
   "cell_type": "code",
   "execution_count": 44,
   "id": "d87b4c29",
   "metadata": {},
   "outputs": [],
   "source": [
    "# pass 와  None을 적절한 명령문과 표현식으로 대체하라.\n",
    "\n",
    "def unique_values(aList):\n",
    "    pass\n",
    "\n",
    "    return None"
   ]
  },
  {
   "cell_type": "code",
   "execution_count": 45,
   "id": "247e8ee8",
   "metadata": {},
   "outputs": [],
   "source": [
    "# 아래 코드의 주석 기호를 삭제하고 실행할 때 오류가 발생하지 않아야 한다.\n",
    "\n",
    "# assert unique_values([1, 2, 1, 3]) == [3, 2, 1]\n",
    "# assert unique_values(['z', 'f', 'a', 'z']) == ['z', 'f', 'a']"
   ]
  },
  {
   "cell_type": "markdown",
   "id": "a20b4710",
   "metadata": {},
   "source": [
    "## 사전"
   ]
  },
  {
   "cell_type": "markdown",
   "id": "0932631b",
   "metadata": {},
   "source": [
    "**문제 3**"
   ]
  },
  {
   "cell_type": "markdown",
   "id": "aa4161ad",
   "metadata": {},
   "source": [
    "다음 `participants` 변수는 모임일과 그날 참석한 사람들의 이름을 저장하는 사전을 가리킨다."
   ]
  },
  {
   "cell_type": "code",
   "execution_count": 46,
   "id": "2ee676cc",
   "metadata": {},
   "outputs": [],
   "source": [
    "participants = {'1월3일' : ['현성', '문정', '현무', '강현'], \n",
    "                '2월10일' : ['문정', '강현', '정훈'], \n",
    "                '3월7일' : ['현성', '연아', '현무', '지아']}"
   ]
  },
  {
   "cell_type": "markdown",
   "id": "b2c0c0f6",
   "metadata": {},
   "source": [
    "(1) 그런데 3월7일 모임에 강현이가 참석하였는데, 이 정보가 누락되었다.  \n",
    "3월7일 참석자 명단 마지막에 '강현'을 추가한 다음, 아래와 같은 형식으로 출력하는 코드를 작성하여라.   \n",
    "\n",
    "```python\n",
    "3월7일 모임에는 ['현성', '연아', '현무', '지아', '강현'], 총 5명이 참석했습니다.\n",
    "```"
   ]
  },
  {
   "cell_type": "code",
   "execution_count": 47,
   "id": "9a1592f4",
   "metadata": {},
   "outputs": [],
   "source": [
    "# pass 를 적절한 명령문과 표현식으로 대체하라.\n",
    "# 단, 앞서 언급된 출력값을 직접 사용하지는 않아야 한다.\n",
    "\n",
    "pass"
   ]
  },
  {
   "cell_type": "markdown",
   "id": "5a278630",
   "metadata": {},
   "source": [
    "(2) 이름을 입력받아 1월3일 모임에 참석했으면 `True`, 아니면 `False`를 출력하는 \n",
    "`attended()` 함수를 작성하라.   "
   ]
  },
  {
   "cell_type": "code",
   "execution_count": 48,
   "id": "5afe29a5",
   "metadata": {},
   "outputs": [],
   "source": [
    "# pass 와  None을 적절한 명령문과 표현식으로 대체하라.\n",
    "\n",
    "def attended(name):\n",
    "    pass\n",
    "\n",
    "    return None"
   ]
  },
  {
   "cell_type": "code",
   "execution_count": 49,
   "id": "f7d7d317",
   "metadata": {},
   "outputs": [],
   "source": [
    "# 아래 코드의 주석 기호를 삭제하고 실행할 때 오류가 발생하지 않아야 한다.\n",
    "\n",
    "# assert attended(\"현성\") == True\n",
    "# assert attended(\"찬호\") == False"
   ]
  },
  {
   "cell_type": "markdown",
   "id": "faa26cd6",
   "metadata": {},
   "source": [
    "**문제 4**"
   ]
  },
  {
   "cell_type": "markdown",
   "id": "ca952ba4",
   "metadata": {},
   "source": [
    "어느 반 학생들의 이름이 리스트로 주어졌다."
   ]
  },
  {
   "cell_type": "code",
   "execution_count": 1,
   "id": "aed88923",
   "metadata": {},
   "outputs": [],
   "source": [
    "students = ['Apeach', 'Ryan', 'Muzi', 'Choonsik', 'Neo', 'Tube']"
   ]
  },
  {
   "cell_type": "markdown",
   "id": "1b676b52",
   "metadata": {},
   "source": [
    "번호와 이름을 키와 값으로 갖는 사전을 출력하는 코드를 작성하여라.\n",
    "단, 번호는 이름의 오름차순으로 부여되고, 동명이인은 없다고 가정한다.  \n",
    "\n",
    "힌트: `sorted()` 함수와 `enumerate()` 함수를 이용할 수 있다."
   ]
  },
  {
   "cell_type": "code",
   "execution_count": 51,
   "id": "d51ed57c",
   "metadata": {},
   "outputs": [],
   "source": [
    "# pass 와  None을 적절한 명령문과 표현식으로 대체하라.\n",
    "\n",
    "pass\n",
    "\n",
    "name_numbers = None"
   ]
  },
  {
   "cell_type": "code",
   "execution_count": 52,
   "id": "b1f125dc",
   "metadata": {},
   "outputs": [],
   "source": [
    "# 아래 코드의 주석 기호를 삭제하고 실행할 때 오류가 발생하지 않아야 한다.\n",
    "\n",
    "# assert name_numbers == {'1': 'Apeach', '2': 'Choonsik', '3': 'Muzi', '4': 'Neo', '5': 'Ryan', '6': 'Tube'}`"
   ]
  },
  {
   "cell_type": "markdown",
   "id": "8d72c674",
   "metadata": {},
   "source": [
    "**문제 5**"
   ]
  },
  {
   "cell_type": "markdown",
   "id": "41c01768",
   "metadata": {},
   "source": [
    "A대학의 일반차량에 대한 주차요금은 아래와 같다.   \n",
    "\n",
    "* 2,000원/최초 30분, 초과 10분마다 500원, 1일(24시간)은 40,000원   \n",
    "\n",
    "일반차량에 대한 입출차 기록이 리스트로 주어졌다."
   ]
  },
  {
   "cell_type": "code",
   "execution_count": 53,
   "id": "eb201274",
   "metadata": {},
   "outputs": [],
   "source": [
    "car_in_out = ['07:30 1234 IN', \n",
    "              '07:35 2580 IN',\n",
    "              '08:15 0328 IN',\n",
    "              '08:45 2580 OUT',\n",
    "              '08:55 9876 IN',\n",
    "              '11:00 1597 IN',\n",
    "              '15:15 1234 OUT',\n",
    "              '21:00 0328 OUT',\n",
    "              '23:45 9876 OUT']"
   ]
  },
  {
   "cell_type": "markdown",
   "id": "c13d654a",
   "metadata": {},
   "source": [
    "차량별로 주차시간과 주차요금이 사전 자료형으로 정리하는 코드를 작성하라.\n",
    "단, 아래 사항을 가정한다.\n",
    "\n",
    "* 차량번호는 차량 뒷번호 4자리를 기록하고, 동일한 차량번호는 없다.\n",
    "* 시간은 24시간제를 사용하고, 모든 차량은 00:00부터 23:59분 사이에 한 번씩만 입출차 한다.\n",
    "* 아직 출차하지 않은 차량에 대해서는 주차시간과 주차요금을 정리할 수 없다.  "
   ]
  },
  {
   "cell_type": "code",
   "execution_count": 54,
   "id": "5c5e9735",
   "metadata": {},
   "outputs": [],
   "source": [
    "# pass 와 None 을 적절한 명령문과 표현식으로 대체하라.\n",
    "# 결과값을 직접 사용할 수는 없다.\n",
    "\n",
    "pass\n",
    "\n",
    "car_parking_log = None\n",
    "\n",
    "car_parking_log"
   ]
  },
  {
   "cell_type": "markdown",
   "id": "1df61440",
   "metadata": {},
   "source": [
    "위 코드를 실행하면 다음과 같이 보여져야 한다."
   ]
  },
  {
   "cell_type": "code",
   "execution_count": 55,
   "id": "edf60fb7",
   "metadata": {},
   "outputs": [],
   "source": [
    "answer = {'1234': {'IN': '07:30',\n",
    "                   'OUT': '15:15',\n",
    "                   'parking_duration': 465,\n",
    "                   'parking_fee': 24000},\n",
    "          '2580': {'IN': '07:35',\n",
    "                   'OUT': '08:45',\n",
    "                   'parking_duration': 70,\n",
    "                   'parking_fee': 4000},\n",
    "          '0328': {'IN': '08:15',\n",
    "                   'OUT': '21:00',\n",
    "                   'parking_duration': 765,\n",
    "                   'parking_fee': 39000},\n",
    "          '9876': {'IN': '08:55',\n",
    "                   'OUT': '23:45',\n",
    "                   'parking_duration': 890,\n",
    "                   'parking_fee': 40000},\n",
    "          '1597': {'IN': '11:00'}}"
   ]
  },
  {
   "cell_type": "code",
   "execution_count": 56,
   "id": "9c6a529d",
   "metadata": {},
   "outputs": [],
   "source": [
    "# 아래 코드의 주석 기호를 삭제하고 실행할 때 오류가 발생하지 않아야 한다.\n",
    "\n",
    "# assert car_parking_log == answer"
   ]
  },
  {
   "cell_type": "markdown",
   "id": "b9b51324",
   "metadata": {},
   "source": [
    "## 조건제시법"
   ]
  },
  {
   "cell_type": "markdown",
   "id": "d1df8fdd",
   "metadata": {},
   "source": [
    "**문제 6**"
   ]
  },
  {
   "cell_type": "markdown",
   "id": "c34a9353",
   "metadata": {},
   "source": [
    "다음 월리스 공식<font size='2'>Wallis formula</font>을 이용하여 \n",
    "원주율 PI를 소수점 이하 16째 자리까지 구하라.\n",
    "\n",
    "$$\n",
    "\\pi = 2 \\prod_{i=1}^{\\infty} \\frac{4 i^2}{4 i^2 -1}\n",
    "$$\n",
    "\n",
    "힌트: 리스트 조건제시법과 `sum()` 함수를 이용한다. \n",
    "또한 소수점 16째 자리까지 구하기 위해 필요한 $i$ 의 최소값을 알아내야 한다."
   ]
  }
 ],
 "metadata": {
  "kernelspec": {
   "display_name": "Python 3 (ipykernel)",
   "language": "python",
   "name": "python3"
  },
  "language_info": {
   "codemirror_mode": {
    "name": "ipython",
    "version": 3
   },
   "file_extension": ".py",
   "mimetype": "text/x-python",
   "name": "python",
   "nbconvert_exporter": "python",
   "pygments_lexer": "ipython3",
   "version": "3.9.7"
  }
 },
 "nbformat": 4,
 "nbformat_minor": 5
}
