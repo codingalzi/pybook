{
 "cells": [
  {
   "cell_type": "markdown",
   "id": "935621d2",
   "metadata": {},
   "source": [
    "# (실습) 생활코딩: HTML"
   ]
  },
  {
   "cell_type": "markdown",
   "id": "22627070",
   "metadata": {},
   "source": [
    "**과제 1**"
   ]
  },
  {
   "cell_type": "markdown",
   "id": "9aa0262f",
   "metadata": {},
   "source": [
    "아래 사이트의 동영상을 모두 시청하고 학습하고 GitHub Pages에서 실습한 내용을 ppt 로 만들어라. \n",
    "\n",
    "[생활코딩 HTML](https://opentutorials.org/course/3084)\n",
    "\n",
    "제출 내용: 구글 프레젠테이션의 ppt 링크"
   ]
  }
 ],
 "metadata": {
  "kernelspec": {
   "display_name": "Python 3 (ipykernel)",
   "language": "python",
   "name": "python3"
  },
  "language_info": {
   "codemirror_mode": {
    "name": "ipython",
    "version": 3
   },
   "file_extension": ".py",
   "mimetype": "text/x-python",
   "name": "python",
   "nbconvert_exporter": "python",
   "pygments_lexer": "ipython3",
   "version": "3.9.7"
  }
 },
 "nbformat": 4,
 "nbformat_minor": 5
}
