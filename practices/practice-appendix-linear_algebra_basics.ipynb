{
 "cells": [
  {
   "cell_type": "markdown",
   "id": "63ac596b",
   "metadata": {},
   "source": [
    "# (실습) 부록: 선형대수 기초 밑바닥부터"
   ]
  },
  {
   "cell_type": "code",
   "execution_count": 1,
   "id": "7f9965d9",
   "metadata": {},
   "outputs": [],
   "source": [
    "from typing import List\n",
    "\n",
    "Vector = List[float]\n",
    "Matrix = List[List[float]]"
   ]
  },
  {
   "cell_type": "markdown",
   "id": "ba41b89c",
   "metadata": {},
   "source": [
    "**문제 1**"
   ]
  },
  {
   "cell_type": "markdown",
   "id": "2e24390a",
   "metadata": {},
   "source": [
    "행렬의 스칼라 곱셈을 실행하는 함수 `scalar_multM()` 를 구현하라."
   ]
  },
  {
   "cell_type": "code",
   "execution_count": 2,
   "id": "c16765c9",
   "metadata": {},
   "outputs": [],
   "source": [
    "# pass와 None 적절한 코드와 표현식으로 대체하라.\n",
    "\n",
    "def scalar_multM(c: float, A: Matrix) -> Matrix:\n",
    "    pass\n",
    "\n",
    "    return None"
   ]
  },
  {
   "cell_type": "markdown",
   "id": "889966fd",
   "metadata": {},
   "source": [
    "**문제 2**"
   ]
  },
  {
   "cell_type": "markdown",
   "id": "755adbd0",
   "metadata": {},
   "source": [
    "행렬 곱셈을 실행하는 함수 `multM()` 를 구현하라."
   ]
  },
  {
   "cell_type": "code",
   "execution_count": 3,
   "id": "b9cea560",
   "metadata": {},
   "outputs": [],
   "source": [
    "# pass와 None 적절한 코드와 표현식으로 대체하라.\n",
    "# 힌트: 벡터 내적을 이용하라.\n",
    "\n",
    "def multM(A: Matrix, B: Matrix) -> Matrix:\n",
    "    pass\n",
    "\n",
    "    return None"
   ]
  },
  {
   "cell_type": "markdown",
   "id": "3d8d3e04",
   "metadata": {},
   "source": [
    "아래 행렬을 이용하여 아래 `assert` 명령문이 성립함을 확인하라."
   ]
  },
  {
   "cell_type": "code",
   "execution_count": 4,
   "id": "36223cb4",
   "metadata": {},
   "outputs": [],
   "source": [
    "E = [[3, 1],\n",
    "     [2, 1],\n",
    "     [1, 0]]"
   ]
  },
  {
   "cell_type": "code",
   "execution_count": 5,
   "id": "85506c3e",
   "metadata": {},
   "outputs": [],
   "source": [
    "# 아래 주석을 해제하고 실행하라.\n",
    "\n",
    "# assert addM(E, zero_matrix(3, 2)) == E\n",
    "# assert multM(E, identity_matrix(2)) == E"
   ]
  },
  {
   "cell_type": "markdown",
   "id": "7e9572a1",
   "metadata": {},
   "source": [
    "**문제 3**"
   ]
  },
  {
   "cell_type": "markdown",
   "id": "e371d509",
   "metadata": {},
   "source": [
    "전치 행렬을 생성하는 함수 `transpose()` 를 구현하라."
   ]
  },
  {
   "cell_type": "code",
   "execution_count": 6,
   "id": "70119cce",
   "metadata": {},
   "outputs": [],
   "source": [
    "# pass와 None 적절한 코드와 표현식으로 대체하라.\n",
    "\n",
    "def transpose(A: Matrix) -> Matrix:\n",
    "    pass\n",
    "\n",
    "    return None"
   ]
  },
  {
   "cell_type": "markdown",
   "id": "cb91274d",
   "metadata": {},
   "source": [
    "앞서 정의된 행렬 `A, B, C, D`를 이용하여 전치행렬의 성질 5개가 성립함을 보여라."
   ]
  },
  {
   "cell_type": "code",
   "execution_count": 7,
   "id": "ff6c35c6",
   "metadata": {},
   "outputs": [],
   "source": [
    "# 아래 주석을 해제하고 실행하라.\n",
    "\n",
    "# assert transpose(transpost(A)) == A\n",
    "# assert transpose(addM(C, D)) == addM(transpose(C), transpose(D))\n",
    "# assert transpose(subtractM(C, D)) == subtractM(transpose(C), transpose(D))\n",
    "# assert transpose(scalar_multM(3, A)) == scalar_multM(3, transpose(A))\n",
    "# assert transpose(multM(A, B)) == multM(transpose(B), transpose(A))"
   ]
  },
  {
   "cell_type": "markdown",
   "id": "fd05c165",
   "metadata": {},
   "source": [
    "**문제 4**"
   ]
  },
  {
   "cell_type": "markdown",
   "id": "9ce76291",
   "metadata": {},
   "source": [
    "어떤 동호회의 사용자 아이디 $i$와 $j$가 친구사이라는 사실을 $(i, j)$로 표시한다고 하자.\n",
    "그리고 열 명의 사용자 사이의 친구관계가 다음과 같다고 가정하자. "
   ]
  },
  {
   "cell_type": "code",
   "execution_count": 8,
   "id": "3a4b8673",
   "metadata": {},
   "outputs": [],
   "source": [
    "friendships = [(0, 1), (0, 2), (1, 2), (1, 3), (2, 3), (3, 4),\n",
    "               (4, 5), (5, 6), (5, 7), (6, 8), (7, 8), (8, 9)]"
   ]
  },
  {
   "cell_type": "markdown",
   "id": "5dcf464c",
   "metadata": {},
   "source": [
    "그런데 이렇게 하면 사용자들 사이의 친구관계를 쉽게 파악하기 어렵다. \n",
    "반면에 아래와 같이 $10\\times 10$ 행렬로 표시하면 다르게 보인다."
   ]
  },
  {
   "cell_type": "markdown",
   "id": "ee17882d",
   "metadata": {},
   "source": [
    "$$\n",
    "F =\n",
    "\\begin{bmatrix}\n",
    "0&1&1&0&0&0&0&0&0&0\\\\\n",
    "1&0&1&1&0&0&0&0&0&0\\\\\n",
    "1&1&0&1&0&0&0&0&0&0\\\\\n",
    "0&1&1&0&1&0&0&0&0&0\\\\\n",
    "0&0&0&1&0&1&0&0&0&0\\\\\n",
    "0&0&0&0&1&0&1&1&0&0\\\\\n",
    "0&0&0&0&0&1&0&0&1&0\\\\\n",
    "0&0&0&0&0&1&0&0&1&0\\\\\n",
    "0&0&0&0&0&0&1&1&0&1\\\\\n",
    "0&0&0&0&0&0&0&0&1&0\n",
    "\\end{bmatrix}\n",
    "$$"
   ]
  },
  {
   "cell_type": "markdown",
   "id": "992502be",
   "metadata": {},
   "source": [
    "즉, 사용자 $i$와 사용자 $j$ 사이의 친구관계 성립여부는 \n",
    "행렬 $F$의 $(i,j)$ 번째 항목이 1이면 친구관계이고, 0이면 아니라는 것을 바로 확인할 수 있다. \n",
    "즉, $F_{ij} = 1$인가를 확인만 하면 된다.\n",
    "\n",
    "위 행렬 $F$를 구현하는 (10, 10) 모양의 행렬를 가리키는 변수 `friend_matrix` 를 선언하라."
   ]
  },
  {
   "cell_type": "code",
   "execution_count": 9,
   "id": "be93515f",
   "metadata": {},
   "outputs": [],
   "source": [
    "# None 을 적절한 표현식으로 대체하라.\n",
    "\n",
    "friend_matrix = None"
   ]
  },
  {
   "cell_type": "markdown",
   "id": "bf860aa1",
   "metadata": {},
   "source": [
    "아이디 0번은 아이디 2번과 친구관계이다."
   ]
  },
  {
   "cell_type": "code",
   "execution_count": 10,
   "id": "b6266cf2",
   "metadata": {},
   "outputs": [],
   "source": [
    "# 아래 주석을 해제하고 실행하라.\n",
    "\n",
    "# assert friend_matrix[0][2] == 1"
   ]
  },
  {
   "cell_type": "markdown",
   "id": "fe930a05",
   "metadata": {},
   "source": [
    "아이디 8번은 아이디 0번과 친구관계가 아니다."
   ]
  },
  {
   "cell_type": "code",
   "execution_count": 11,
   "id": "032b6875",
   "metadata": {},
   "outputs": [],
   "source": [
    "# 아래 주석을 해제하고 실행하라.\n",
    "\n",
    "# assert friend_matrix[8][0] == 0"
   ]
  },
  {
   "cell_type": "markdown",
   "id": "7263e2ed",
   "metadata": {},
   "source": [
    "아이디 5번과 친구사이인 아이디는 다음과 같다."
   ]
  },
  {
   "cell_type": "code",
   "execution_count": 12,
   "id": "18c155cc",
   "metadata": {},
   "outputs": [],
   "source": [
    "# 아래 주석을 해제하고 실행하라.\n",
    "\n",
    "# friends_of_five = [ i for i, is_friend in enumerate(friend_matrix[5]) if is_friend ]\n",
    "# friends_of_five"
   ]
  },
  {
   "cell_type": "markdown",
   "id": "75798710",
   "metadata": {},
   "source": [
    "**문제 5**"
   ]
  },
  {
   "cell_type": "markdown",
   "id": "32f85052",
   "metadata": {},
   "source": [
    "본문 포함 앞서 정의한 함수를 모두 넘파이 어레이를 이용하여 구현하라.\n",
    "\n",
    "- 벡터: 1차원 어레이\n",
    "- 행렬: 2차원 어레이\n",
    "\n",
    "__주의사항:__ 넘파이의 `linalg` 모듈 등 추가 모듈은 절대 사용하지 못한다."
   ]
  },
  {
   "cell_type": "markdown",
   "id": "249edcaa",
   "metadata": {},
   "source": [
    "**문제 6**"
   ]
  },
  {
   "cell_type": "markdown",
   "id": "c89e3fd8",
   "metadata": {},
   "source": [
    "문제 5에서 정의한 함수를 모두 [넘파이의 `linalg` 모듈](https://numpy.org/doc/stable/reference/routines.linalg.html)에서 \n",
    "제공하는 함수로 대체하라."
   ]
  },
  {
   "cell_type": "markdown",
   "id": "f66f54a9",
   "metadata": {},
   "source": [
    "**문제 7**"
   ]
  },
  {
   "cell_type": "markdown",
   "id": "d90d99df",
   "metadata": {},
   "source": [
    "[넘파이의 `linalg` 모듈](https://numpy.org/doc/stable/reference/routines.linalg.html)에서 \n",
    "제공하는 `pinv()` 함수를 예를 들어 설명하라."
   ]
  }
 ],
 "metadata": {
  "kernelspec": {
   "display_name": "Python 3 (ipykernel)",
   "language": "python",
   "name": "python3"
  },
  "language_info": {
   "codemirror_mode": {
    "name": "ipython",
    "version": 3
   },
   "file_extension": ".py",
   "mimetype": "text/x-python",
   "name": "python",
   "nbconvert_exporter": "python",
   "pygments_lexer": "ipython3",
   "version": "3.9.7"
  }
 },
 "nbformat": 4,
 "nbformat_minor": 5
}
