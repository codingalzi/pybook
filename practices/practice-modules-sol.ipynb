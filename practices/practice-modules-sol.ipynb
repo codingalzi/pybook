{
 "cells": [
  {
   "cell_type": "markdown",
   "id": "1966b032",
   "metadata": {},
   "source": [
    "# (연습) 모듈"
   ]
  },
  {
   "cell_type": "markdown",
   "id": "58bc1e4a",
   "metadata": {},
   "source": [
    "**주의 사항**\n",
    "\n",
    "* 기존에 작성된 코드 셀과 텍스트 셀은 수정하지 않는다.\n",
    "* 필요한 경우 코드 셀 또는 텍스트 셀을 추가해서 사용한다.\n",
    "* 실습 파일을 제출할 때 구글 드라이브의 링크를 이용하여 누구나 공유할 수 있도록 설정한다."
   ]
  },
  {
   "cell_type": "markdown",
   "id": "85f6339e",
   "metadata": {},
   "source": [
    "## 문제 1"
   ]
  },
  {
   "cell_type": "markdown",
   "id": "ff120fd4",
   "metadata": {},
   "source": [
    "1에서 99까지의 정수 중에서 3의 배수를 무작위로 세 개 생성하는 코드를 작성하라.\n",
    "\n",
    "힌트: `random` 모듈의 `randrange()` 함수를 세 개의 인자와 함께 활용.\n",
    "\n",
    "참고: [파이선 random 사용법 정리](https://mathcoding-yj.tistory.com/entry/%ED%8C%8C%EC%9D%B4%EC%8D%AC-%EB%9E%9C%EB%8D%A4random-%EC%82%AC%EC%9A%A9%EB%B2%95-%EC%A0%95%EB%A6%ACrandrange-randint-randomchoice-%EB%93%B1)"
   ]
  },
  {
   "cell_type": "markdown",
   "id": "cf2c1ddb",
   "metadata": {},
   "source": [
    "**답**"
   ]
  },
  {
   "cell_type": "markdown",
   "id": "2607b2b6",
   "metadata": {},
   "source": [
    "`random.randrange(a, b, c)` 형식으로 함수 호출이 되면\n",
    "`a`에서 `b` 이전 까지의 구간에서 값을 무작위로 선택할 때 아래에 언급된 값 중에서 하나 선택한다.\n",
    "\n",
    "    a, a+3, a+6, a+9, ..."
   ]
  },
  {
   "cell_type": "markdown",
   "id": "446e81d8",
   "metadata": {},
   "source": [
    "따라서 1에서 99사이에서 3의 배수만을 대상으로 하려면\n",
    "3의 배수만 선택 대상으로 지정되도록 셋째 인자를 3으로 지정한다.\n",
    "단, 구간의 시작또한 3의 배수로 지정해야 3의 배수만을 대상으로 한다.\n",
    "1보다 같거나 큰 정수 중에서 3이 가장 작은 3의 배수이기에\n",
    "구간의 시작을 3으로 해야 한다.\n",
    "\n",
    "아래 코드를 실행하면 1에서 99까지의 정수 중에서 3의 배수를\n",
    "무작위로 세 개 생성한다."
   ]
  },
  {
   "cell_type": "code",
   "execution_count": 2,
   "id": "dcb94059",
   "metadata": {},
   "outputs": [
    {
     "name": "stdout",
     "output_type": "stream",
     "text": [
      "54, 18, 45, "
     ]
    }
   ],
   "source": [
    "import random\n",
    "\n",
    "for _ in range(3):\n",
    "    print(random.randrange(3, 100, 3), end=', ')"
   ]
  },
  {
   "cell_type": "markdown",
   "id": "664b81ae",
   "metadata": {},
   "source": [
    "이전 코드에서 `for _ in range(3)`을 사용하는 이유는\n",
    "3의 배수를 선택하여 출력하는 명령문을 무조건 세 번 실행하기 위해서이다.\n",
    "참고로 밑줄 기호 `_`는 `for` 반복문에 사용되는 변수의 \n",
    "이름이 중요하지 않은 경우에 대신 사용하는 기호다.\n",
    "실제로 `_` 대신에 `i`, `count` 등을 사용하더라도\n",
    "`for` 반복문의 본문에 해당 변수가 사용되지 않기에 \n",
    "변수의 이름이 전혀 중요하지 않다.\n",
    "또한 `print()` 함수에서 `end=', '` 키워드 인자를 사용해서\n",
    "무작위로 선택된 세 개의 값이 한 줄에 출력되도록 하기 위함이다."
   ]
  },
  {
   "cell_type": "markdown",
   "id": "adb19c64",
   "metadata": {},
   "source": [
    "## 문제 2"
   ]
  },
  {
   "cell_type": "markdown",
   "id": "4ce30c6b",
   "metadata": {},
   "source": [
    "아래 코드는 사용자가 1부터 10 사이의 정수 하나를 입력하여 \n",
    "비밀인 `secret` 변수에 할당된 값을 맞히는 게임 프로그램이다."
   ]
  },
  {
   "cell_type": "code",
   "execution_count": 44,
   "id": "f0da2ee9",
   "metadata": {},
   "outputs": [
    {
     "name": "stdout",
     "output_type": "stream",
     "text": [
      "1부터 10 사이의 정수 하나를 입력하세요: 7\n",
      "맞았습니다!\n",
      "게임 종료!\n"
     ]
    }
   ],
   "source": [
    "secret = 7\n",
    "guess = int(input(\"1부터 10 사이의 정수 하나를 입력하세요: \"))\n",
    "\n",
    "if guess == secret:\n",
    "    print(\"맞았습니다!\")\n",
    "else:\n",
    "    print(\"틀렸습니다!\")\n",
    "\n",
    "print(\"게임 종료!\")"
   ]
  },
  {
   "cell_type": "markdown",
   "id": "f207be80",
   "metadata": {},
   "source": [
    "그런데 비밀이 7로 고정되어 있어서 한 번 답을 맞히면 더 이상 재미가 없다.\n",
    "따라서 프로그램을 실행할 때마다 `secret`에 할당되는 값을 `random` 모듈의 `randint()` 함수를\n",
    "이용하여 지정하도록 위 코드를 수정하라."
   ]
  },
  {
   "cell_type": "markdown",
   "id": "d792fc53",
   "metadata": {},
   "source": [
    "**답**"
   ]
  },
  {
   "cell_type": "markdown",
   "id": "f59d5a27",
   "metadata": {},
   "source": [
    "`random` 모듈을 불러온 다음에 `random.randint()` 함수의 반환값을\n",
    "`secret` 변수에 할당한다.\n",
    "`random.randint(a, b)`를 호출하면 `random.randrange(a, b)`와는 달리 구간에\n",
    "`a`에서 `b`까지, 즉, `b`까지 포함됨에 주의한다."
   ]
  },
  {
   "cell_type": "code",
   "execution_count": 45,
   "id": "7e3d8410",
   "metadata": {},
   "outputs": [
    {
     "name": "stdout",
     "output_type": "stream",
     "text": [
      "1부터 10 사이의 정수 하나를 입력하세요: 7\n",
      "틀렸습니다!\n",
      "게임 종료!\n"
     ]
    }
   ],
   "source": [
    "import random\n",
    "\n",
    "secret = random.randint(1, 10)\n",
    "guess = int(input(\"1부터 10 사이의 정수 하나를 입력하세요: \"))\n",
    "\n",
    "if guess == secret:\n",
    "    print(\"맞았습니다!\")\n",
    "else:\n",
    "    print(\"틀렸습니다!\")\n",
    "\n",
    "print(\"게임 종료!\")"
   ]
  },
  {
   "cell_type": "markdown",
   "id": "90ad0737",
   "metadata": {},
   "source": [
    "## 문제 3"
   ]
  },
  {
   "cell_type": "markdown",
   "id": "45d5d992",
   "metadata": {},
   "source": [
    "양의 정수 `N`이 인자로 지정되었을 때 0이상 `N` 미만의 구간에서\n",
    "무작위로 하나의 부동소수점을 반환하는 함수 `random_less()`를 구현하라.\n",
    "예를 들어 `random_less(100)`은 `[0, 100)` 구간에서 \n",
    "하나의 부동소수점을 무작위로 반환한다.\n",
    "단, `random` 모듈의 `random()` 함수만 이용한다."
   ]
  },
  {
   "cell_type": "markdown",
   "id": "3100ebfa",
   "metadata": {},
   "source": [
    "**답**"
   ]
  },
  {
   "cell_type": "markdown",
   "id": "73dff5c4",
   "metadata": {},
   "source": [
    "`random.random()` 함수는 인자 없이 호출되면 `[0, 1)` 구간에서\n",
    "무작위로 하나의 부동소수점을 반환한다.\n",
    "예를 들어 아래 코드는 `[0, 1)` 구간에서 무작위로 선택된 세 개의 \n",
    "부동소수점을 출력한다.\n",
    "`random.seed()` 함수는 아래 코드를 실행할 때마다 동일한 결과가 \n",
    "생성되도록 하기 위해 사용되었다."
   ]
  },
  {
   "cell_type": "code",
   "execution_count": 4,
   "id": "73841438",
   "metadata": {},
   "outputs": [
    {
     "name": "stdout",
     "output_type": "stream",
     "text": [
      "0.13436424411240122\n",
      "0.8474337369372327\n",
      "0.763774618976614\n"
     ]
    }
   ],
   "source": [
    "import random\n",
    "random.seed(1)\n",
    "\n",
    "for _ in range(3):\n",
    "    print(random.random())"
   ]
  },
  {
   "cell_type": "markdown",
   "id": "cf1e4d6f",
   "metadata": {},
   "source": [
    "따라서 무작위로 생성된 값이 `[0, 1)`이 아닌 `[0, N)` 구간에 포함되게 하기 위해\n",
    "`random.random()` 함수의 반환값에 `N`을 곱할 수 있다.\n",
    "아래 코드에서 정의된 `random_less()` 함수가 이 아이디어를 이용한다."
   ]
  },
  {
   "cell_type": "code",
   "execution_count": 5,
   "id": "3bca963e",
   "metadata": {},
   "outputs": [],
   "source": [
    "import random\n",
    "\n",
    "def random_less(N):\n",
    "    num = random.random() * N\n",
    "    return num"
   ]
  },
  {
   "cell_type": "markdown",
   "id": "e9abf5b3",
   "metadata": {},
   "source": [
    "아래 코드는 `[0, 100)` 구간에서 무작위로 세 개의 부동소수점을 생성해서 출력한다."
   ]
  },
  {
   "cell_type": "code",
   "execution_count": 6,
   "id": "1e6225f9",
   "metadata": {},
   "outputs": [
    {
     "name": "stdout",
     "output_type": "stream",
     "text": [
      "13.436424411240122\n",
      "84.74337369372327\n",
      "76.3774618976614\n"
     ]
    }
   ],
   "source": [
    "random.seed(1)\n",
    "\n",
    "for _ in range(3):\n",
    "    print(random_less(100))"
   ]
  },
  {
   "cell_type": "markdown",
   "id": "623bf429",
   "metadata": {},
   "source": [
    "## 문제 4"
   ]
  },
  {
   "cell_type": "markdown",
   "id": "326d50cb",
   "metadata": {},
   "source": [
    "`random` 모듈의 `uniform()` 함수가 `random.uniform(a, b)` 형식으로 호출되면\n",
    "구간 `[a, b]` 에서 무작위로 부동소수점 하나를 선택해서 반환한다.\n",
    "예를 들어 아래 코드는 `[0, 100]` 구간에서 부동소수점 세 개를 선택해서 출력한다.\n",
    "이전 문제에서는 구간이 `[0, 100)` 이라는 점에서 조금 다르게 작동한다."
   ]
  },
  {
   "cell_type": "code",
   "execution_count": 65,
   "id": "73370e40",
   "metadata": {},
   "outputs": [
    {
     "name": "stdout",
     "output_type": "stream",
     "text": [
      "18.01601359230046\n",
      "37.4367071818141\n",
      "25.01893768403266\n"
     ]
    }
   ],
   "source": [
    "import random\n",
    "\n",
    "for _ in range(3):\n",
    "    print(random.uniform(0, 100))"
   ]
  },
  {
   "cell_type": "markdown",
   "id": "8074ac1b",
   "metadata": {},
   "source": [
    "`random.seed()` 함수를 적용하면 항상 동일한 결과가 나온다."
   ]
  },
  {
   "cell_type": "code",
   "execution_count": 66,
   "id": "dd9dc460",
   "metadata": {},
   "outputs": [
    {
     "name": "stdout",
     "output_type": "stream",
     "text": [
      "77.73566427005639\n",
      "77.73566427005639\n",
      "77.73566427005639\n"
     ]
    }
   ],
   "source": [
    "import random\n",
    "\n",
    "for _ in range(3):\n",
    "    random.seed(1000)\n",
    "    print(random.uniform(0, 100))"
   ]
  },
  {
   "cell_type": "markdown",
   "id": "5ea82f19",
   "metadata": {},
   "source": [
    "`uniform`의 의미는 지정된 구간 전체에서 균등한 확률로 부동소수점을 선택한다는 의미이다.\n",
    "이를 확인하는 코드를 작성하라.\n",
    "예를 들어 `random.uniform(0, 1)`을 10만 번 호출했을 때\n",
    "0.1 보다 작은 값이 나온 경우가 10% 정도임을 확인하는 코드를 작성하라.\n",
    "\n",
    "힌트: `for` 반복문, `range()` 함수, `random.uniform()` 함수 활용"
   ]
  },
  {
   "cell_type": "markdown",
   "id": "9e27a478",
   "metadata": {},
   "source": [
    "**답**"
   ]
  },
  {
   "cell_type": "markdown",
   "id": "c621f12f",
   "metadata": {},
   "source": [
    "`random.uniform(0, 1)`를 1만 번 호출해서 반환값이 0.1보다 작은지 여부를 확인하는 코드는 다음과 같다."
   ]
  },
  {
   "cell_type": "markdown",
   "id": "f52ad450",
   "metadata": {},
   "source": [
    "```\n",
    "total = 10000\n",
    "\n",
    "for _ in range(total):\n",
    "    random.uniform(0, 1) < 0.1\n",
    "```"
   ]
  },
  {
   "cell_type": "markdown",
   "id": "74b1828d",
   "metadata": {},
   "source": [
    "여기에 무작위로 선택된 값이 0.1보다 몇 번 작았는지를 기억하는 변수 `count`를 추가한다.\n",
    "`for` 반복문이 시작하기 전에 0으로 초기화 한 다음에 \n",
    "무작위로 선택된 값이 0.1보다 작을 때마다 1식 커지도록 하면 된다."
   ]
  },
  {
   "cell_type": "markdown",
   "id": "bafa729f",
   "metadata": {},
   "source": [
    "```\n",
    "total = 10000\n",
    "count = 0\n",
    "\n",
    "for _ in range(total):\n",
    "    if random.uniform(0, 1) < 0.1:\n",
    "        count += 1\n",
    "```"
   ]
  },
  {
   "cell_type": "markdown",
   "id": "d5254b35",
   "metadata": {},
   "source": [
    "마지막으로 `count`에 저장된 값을 1만으로 나눈다.\n",
    "\n",
    "지금까지의 설명을 코드로 구현하면 다음과 같다."
   ]
  },
  {
   "cell_type": "code",
   "execution_count": 5,
   "id": "4a338db7",
   "metadata": {},
   "outputs": [
    {
     "name": "stdout",
     "output_type": "stream",
     "text": [
      "0.1047\n"
     ]
    }
   ],
   "source": [
    "import random\n",
    "\n",
    "total = 10000\n",
    "count = 0\n",
    "\n",
    "for _ in range(total):\n",
    "    if random.uniform(0, 1) < 0.1:\n",
    "        count += 1\n",
    "        \n",
    "print(count / total)\n",
    "    "
   ]
  },
  {
   "cell_type": "markdown",
   "id": "559827ee",
   "metadata": {},
   "source": [
    "`random.uniform(0, 1)`를 10만 번 호출하면 반환값이 0.1보다 작은 값이 보다 더 10%에 가까운 값으로 계산된다."
   ]
  },
  {
   "cell_type": "code",
   "execution_count": 2,
   "id": "b6e2e51c",
   "metadata": {},
   "outputs": [
    {
     "name": "stdout",
     "output_type": "stream",
     "text": [
      "0.10047\n"
     ]
    }
   ],
   "source": [
    "import random\n",
    "\n",
    "total = 100000\n",
    "count = 0\n",
    "\n",
    "for _ in range(total):\n",
    "    if random.uniform(0, 1) < 0.1:\n",
    "        count += 1\n",
    "        \n",
    "print(count / total)\n",
    "    "
   ]
  },
  {
   "cell_type": "markdown",
   "id": "4ef1fb5a",
   "metadata": {},
   "source": [
    "## 문제 5"
   ]
  },
  {
   "cell_type": "markdown",
   "id": "a945cc81",
   "metadata": {},
   "source": [
    "이전 문제의 코드를 함수로 구현할 것!"
   ]
  }
 ],
 "metadata": {
  "kernelspec": {
   "display_name": "Python 3 (ipykernel)",
   "language": "python",
   "name": "python3"
  },
  "language_info": {
   "codemirror_mode": {
    "name": "ipython",
    "version": 3
   },
   "file_extension": ".py",
   "mimetype": "text/x-python",
   "name": "python",
   "nbconvert_exporter": "python",
   "pygments_lexer": "ipython3",
   "version": "3.11.5"
  }
 },
 "nbformat": 4,
 "nbformat_minor": 5
}
