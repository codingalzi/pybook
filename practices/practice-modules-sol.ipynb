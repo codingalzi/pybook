{
 "cells": [
  {
   "cell_type": "markdown",
   "id": "1966b032",
   "metadata": {},
   "source": [
    "# (연습) 모듈"
   ]
  },
  {
   "cell_type": "markdown",
   "id": "c3339ec7",
   "metadata": {},
   "source": [
    "**참고 사항**\n",
    "\n",
    "먼저 \n",
    "[모듈](https://codingalzi.github.io/pybook/modules.html)의 내용과\n",
    "[(필수 예제) 모듈](https://colab.research.google.com/github/codingalzi/pybook/blob/master/examples/examples-modules.ipynb)의 예제들을 학습하세요."
   ]
  },
  {
   "cell_type": "markdown",
   "id": "58bc1e4a",
   "metadata": {},
   "source": [
    "**주의 사항**\n",
    "\n",
    "* 기존에 작성된 코드 셀과 텍스트 셀은 수정하지 않는다.\n",
    "* 필요한 경우 코드 셀 또는 텍스트 셀을 추가해서 사용한다.\n",
    "* 실습 파일을 제출할 때 구글 드라이브의 링크를 이용하여 누구나 공유할 수 있도록 설정한다."
   ]
  },
  {
   "cell_type": "markdown",
   "id": "85f6339e",
   "metadata": {},
   "source": [
    "## 문제 1"
   ]
  },
  {
   "cell_type": "markdown",
   "id": "ff120fd4",
   "metadata": {},
   "source": [
    "1에서 99까지의 정수 중에서 3의 배수를 무작위로 세 개 생성하는 코드를 작성하라.\n",
    "\n",
    "힌트: `random` 모듈의 `randrange()` 함수를 세 개의 인자와 함께 활용.\n",
    "\n",
    "참고: [파이선 random 사용법 정리](https://mathcoding-yj.tistory.com/entry/%ED%8C%8C%EC%9D%B4%EC%8D%AC-%EB%9E%9C%EB%8D%A4random-%EC%82%AC%EC%9A%A9%EB%B2%95-%EC%A0%95%EB%A6%ACrandrange-randint-randomchoice-%EB%93%B1)"
   ]
  },
  {
   "cell_type": "markdown",
   "id": "cf2c1ddb",
   "metadata": {},
   "source": [
    "**답**"
   ]
  },
  {
   "cell_type": "markdown",
   "id": "2607b2b6",
   "metadata": {},
   "source": [
    "`random.randrange(a, b, c)` 형식으로 함수 호출이 되면\n",
    "`a`에서 `b` 이전 까지의 구간에서 값을 무작위로 선택할 때 아래에 언급된 값 중에서 하나 선택한다.\n",
    "\n",
    "    a, a+3, a+6, a+9, ..."
   ]
  },
  {
   "cell_type": "markdown",
   "id": "446e81d8",
   "metadata": {},
   "source": [
    "따라서 1에서 99사이에서 3의 배수만을 대상으로 하려면\n",
    "3의 배수만 선택 대상으로 지정되도록 셋째 인자를 3으로 지정한다.\n",
    "단, 구간의 시작또한 3의 배수로 지정해야 3의 배수만을 대상으로 한다.\n",
    "1보다 같거나 큰 정수 중에서 3이 가장 작은 3의 배수이기에\n",
    "구간의 시작을 3으로 해야 한다.\n",
    "\n",
    "아래 코드를 실행하면 1에서 99까지의 정수 중에서 3의 배수를\n",
    "무작위로 세 개 생성한다."
   ]
  },
  {
   "cell_type": "code",
   "execution_count": 1,
   "id": "dcb94059",
   "metadata": {},
   "outputs": [
    {
     "name": "stdout",
     "output_type": "stream",
     "text": [
      "81, 51, 54, "
     ]
    }
   ],
   "source": [
    "import random\n",
    "\n",
    "for _ in range(3):\n",
    "    print(random.randrange(3, 100, 3), end=', ')"
   ]
  },
  {
   "cell_type": "markdown",
   "id": "664b81ae",
   "metadata": {},
   "source": [
    "이전 코드에서 `for _ in range(3)`을 사용하는 이유는\n",
    "3의 배수를 선택하여 출력하는 명령문을 무조건 세 번 실행하기 위해서이다.\n",
    "참고로 밑줄 기호 `_`는 `for` 반복문에 사용되는 변수의 \n",
    "이름이 중요하지 않은 경우에 대신 사용하는 기호다.\n",
    "실제로 `_` 대신에 `i`, `count` 등을 사용하더라도\n",
    "`for` 반복문의 본문에 해당 변수가 사용되지 않기에 \n",
    "변수의 이름이 전혀 중요하지 않다.\n",
    "또한 `print()` 함수에서 `end=', '` 키워드 인자를 사용해서\n",
    "무작위로 선택된 세 개의 값이 한 줄에 출력되도록 하기 위함이다."
   ]
  },
  {
   "cell_type": "markdown",
   "id": "adb19c64",
   "metadata": {},
   "source": [
    "## 문제 2"
   ]
  },
  {
   "cell_type": "markdown",
   "id": "4ce30c6b",
   "metadata": {},
   "source": [
    "아래 코드는 사용자가 1부터 100 사이의 정수 하나를 입력하여 \n",
    "비밀인 `secret` 변수에 할당된 값을 맞히는 게임 프로그램이다.\n",
    "단, 정답을 입력하지 못하면 정답에 대한 힌트를 전달하여\n",
    "사용자가 보다 좁은 범위에서 입력값을 정하도록 반복해서 유도한다."
   ]
  },
  {
   "cell_type": "code",
   "execution_count": 2,
   "id": "f0da2ee9",
   "metadata": {},
   "outputs": [
    {
     "name": "stdout",
     "output_type": "stream",
     "text": [
      "수 알아맞히기 게임에 환영합니다.\n",
      "1부터 100 사이의 정수 하나를 입력하세요: 30\n",
      "너무 커요!\n",
      "1부터 100 사이의 정수 하나를 입력하세요: 10\n",
      "너무 작아요!\n",
      "1부터 100 사이의 정수 하나를 입력하세요: 17\n",
      "맞았습니다!\n",
      "게임 종료!\n"
     ]
    }
   ],
   "source": [
    "print(\"수 알아맞히기 게임에 환영합니다.\")\n",
    "\n",
    "secret = 17\n",
    "guess = -1   # 이어지는 while 반복문이 최소 한 번은 실행되도록 함\n",
    "\n",
    "while guess != secret:\n",
    "    guess = int(input(\"1부터 100 사이의 정수 하나를 입력하세요: \"))\n",
    "    \n",
    "    if guess == secret:\n",
    "        print(\"맞았습니다!\")\n",
    "    elif guess > secret:\n",
    "        print(\"너무 커요!\")\n",
    "    else:\n",
    "        print(\"너무 작아요!\")\n",
    "\n",
    "print(\"게임 종료!\")"
   ]
  },
  {
   "cell_type": "markdown",
   "id": "f207be80",
   "metadata": {},
   "source": [
    "그런데 비밀이 17로 고정되어 있어서 한 번 답을 맞히면 더 이상 재미가 없다.\n",
    "따라서 프로그램을 실행할 때마다 `secret`에 할당되는 값을 `random` 모듈의 `randint()` 함수를\n",
    "이용하여 지정하도록 위 코드를 수정하라."
   ]
  },
  {
   "cell_type": "markdown",
   "id": "d792fc53",
   "metadata": {},
   "source": [
    "**답**"
   ]
  },
  {
   "cell_type": "markdown",
   "id": "f59d5a27",
   "metadata": {},
   "source": [
    "프로그램이 시작되자마자`random` 모듈을 불러온 다음에 `random.randint()` 함수의 반환값을\n",
    "`secret` 변수에 할당한다.\n",
    "그러면 사용자가 맞혀야 하는 값이 매번 달라진다."
   ]
  },
  {
   "cell_type": "code",
   "execution_count": 3,
   "id": "51de1f6b",
   "metadata": {},
   "outputs": [
    {
     "name": "stdout",
     "output_type": "stream",
     "text": [
      "수 알아맞히기 게임에 환영합니다.\n",
      "1부터 100 사이의 정수 하나를 입력하세요: 50\n",
      "너무 커요!\n",
      "1부터 100 사이의 정수 하나를 입력하세요: 25\n",
      "너무 작아요!\n",
      "1부터 100 사이의 정수 하나를 입력하세요: 37\n",
      "너무 커요!\n",
      "1부터 100 사이의 정수 하나를 입력하세요: 31\n",
      "너무 작아요!\n",
      "1부터 100 사이의 정수 하나를 입력하세요: 34\n",
      "너무 커요!\n",
      "1부터 100 사이의 정수 하나를 입력하세요: 32\n",
      "맞았습니다!\n",
      "게임 종료!\n"
     ]
    }
   ],
   "source": [
    "import random\n",
    "\n",
    "print(\"수 알아맞히기 게임에 환영합니다.\")\n",
    "\n",
    "secret = random.randint(1, 100)\n",
    "guess = -1   # 이어지는 while 반복문이 최소 한 번은 실행되도록 함\n",
    "\n",
    "while guess != secret:\n",
    "    guess = int(input(\"1부터 100 사이의 정수 하나를 입력하세요: \"))\n",
    "    \n",
    "    if guess == secret:\n",
    "        print(\"맞았습니다!\")\n",
    "    elif guess > secret:\n",
    "        print(\"너무 커요!\")\n",
    "    else:\n",
    "        print(\"너무 작아요!\")\n",
    "\n",
    "print(\"게임 종료!\")"
   ]
  },
  {
   "cell_type": "markdown",
   "id": "90ad0737",
   "metadata": {},
   "source": [
    "## 문제 3"
   ]
  },
  {
   "cell_type": "markdown",
   "id": "45d5d992",
   "metadata": {},
   "source": [
    "양의 정수 `N`이 인자로 지정되었을 때 0이상 `N` 미만의 구간에서\n",
    "무작위로 하나의 부동소수점을 반환하는 함수 `random_less()`를 구현하라.\n",
    "예를 들어 `random_less(100)`은 `[0, 100)` 구간에서 \n",
    "하나의 부동소수점을 무작위로 반환한다.\n",
    "단, `random` 모듈의 `random()` 함수만 이용한다.\n",
    "\n",
    "힌트: `random.random()` 함수의 반환값에 100 곱할 것."
   ]
  },
  {
   "cell_type": "markdown",
   "id": "3100ebfa",
   "metadata": {},
   "source": [
    "**답**"
   ]
  },
  {
   "cell_type": "markdown",
   "id": "73dff5c4",
   "metadata": {},
   "source": [
    "`random.random()` 함수는 인자 없이 호출되면 `[0, 1)` 구간에서\n",
    "무작위로 하나의 부동소수점을 반환한다.\n",
    "예를 들어 아래 코드는 `[0, 1)` 구간에서 무작위로 선택된 세 개의 \n",
    "부동소수점을 출력한다.\n",
    "`random.seed()` 함수는 아래 코드를 실행할 때마다 동일한 결과가 \n",
    "생성되도록 하기 위해 사용되었다."
   ]
  },
  {
   "cell_type": "code",
   "execution_count": 3,
   "id": "73841438",
   "metadata": {},
   "outputs": [
    {
     "name": "stdout",
     "output_type": "stream",
     "text": [
      "0.13436424411240122\n",
      "0.8474337369372327\n",
      "0.763774618976614\n"
     ]
    }
   ],
   "source": [
    "import random\n",
    "random.seed(1)\n",
    "\n",
    "for _ in range(3):\n",
    "    print(random.random())"
   ]
  },
  {
   "cell_type": "markdown",
   "id": "cf1e4d6f",
   "metadata": {},
   "source": [
    "따라서 무작위로 생성된 값이 `[0, 1)`이 아닌 `[0, N)` 구간에 포함되게 하기 위해\n",
    "`random.random()` 함수의 반환값에 `N`을 곱할 수 있다.\n",
    "아래 코드에서 정의된 `random_less()` 함수가 이 아이디어를 이용한다."
   ]
  },
  {
   "cell_type": "code",
   "execution_count": 4,
   "id": "3bca963e",
   "metadata": {},
   "outputs": [],
   "source": [
    "import random\n",
    "\n",
    "def random_less(N):\n",
    "    num = random.random() * N\n",
    "    return num"
   ]
  },
  {
   "cell_type": "markdown",
   "id": "e9abf5b3",
   "metadata": {},
   "source": [
    "아래 코드는 `[0, 100)` 구간에서 무작위로 세 개의 부동소수점을 생성해서 출력한다."
   ]
  },
  {
   "cell_type": "code",
   "execution_count": 5,
   "id": "1e6225f9",
   "metadata": {},
   "outputs": [
    {
     "name": "stdout",
     "output_type": "stream",
     "text": [
      "13.436424411240122\n",
      "84.74337369372327\n",
      "76.3774618976614\n"
     ]
    }
   ],
   "source": [
    "random.seed(1)\n",
    "\n",
    "for _ in range(3):\n",
    "    print(random_less(100))"
   ]
  },
  {
   "cell_type": "markdown",
   "id": "9e43b143",
   "metadata": {},
   "source": [
    "## 문제 4"
   ]
  },
  {
   "cell_type": "markdown",
   "id": "326d50cb",
   "metadata": {},
   "source": [
    "`random` 모듈의 `uniform()` 함수가 `random.uniform(a, b)` 형식으로 호출되면\n",
    "구간 `[a, b]` 에서 무작위로 부동소수점 하나를 선택해서 반환한다.\n",
    "예를 들어 아래 코드는 `[0, 100]` 구간에서 부동소수점 세 개를 선택해서 출력한다.\n",
    "이전 문제에서는 구간이 `[0, 100)` 이라는 점에서 조금 다르게 작동한다."
   ]
  },
  {
   "cell_type": "code",
   "execution_count": 14,
   "id": "73370e40",
   "metadata": {},
   "outputs": [
    {
     "name": "stdout",
     "output_type": "stream",
     "text": [
      "77.73566427005639\n",
      "66.98255595592497\n",
      "9.913960392481702\n"
     ]
    }
   ],
   "source": [
    "import random\n",
    "random.seed(1000)\n",
    "\n",
    "for _ in range(3):\n",
    "    print(random.uniform(0, 100))"
   ]
  },
  {
   "cell_type": "markdown",
   "id": "5ea82f19",
   "metadata": {},
   "source": [
    "`uniform`의 의미는 지정된 구간 전체에서 균등한 확률로 부동소수점을 선택한다는 의미이다.\n",
    "이를 확인하는 코드를 작성하라.\n",
    "예를 들어 `random.uniform(0, 1)`을 10만 번 호출했을 때\n",
    "0.1 보다 작은 값이 나온 경우가 10% 정도임을 확인하는 코드를 작성하라.\n",
    "\n",
    "힌트: `for` 반복문, `range()` 함수, `random.uniform()` 함수 활용"
   ]
  },
  {
   "cell_type": "markdown",
   "id": "9e27a478",
   "metadata": {},
   "source": [
    "**답**"
   ]
  },
  {
   "cell_type": "markdown",
   "id": "c621f12f",
   "metadata": {},
   "source": [
    "`random.uniform(0, 1)`를 1만 번 호출해서 반환값이 0.1보다 작은지 여부를 확인하는 코드는 다음과 같다."
   ]
  },
  {
   "cell_type": "markdown",
   "id": "f52ad450",
   "metadata": {},
   "source": [
    "```\n",
    "total = 10000\n",
    "\n",
    "for _ in range(total):\n",
    "    random.uniform(0, 1) < 0.1\n",
    "```"
   ]
  },
  {
   "cell_type": "markdown",
   "id": "74b1828d",
   "metadata": {},
   "source": [
    "여기에 무작위로 선택된 값이 0.1보다 몇 번 작았는지를 기억하는 변수 `count`를 추가한다.\n",
    "`for` 반복문이 시작하기 전에 0으로 초기화 한 다음에 \n",
    "무작위로 선택된 값이 0.1보다 작을 때마다 1식 커지도록 하면 된다."
   ]
  },
  {
   "cell_type": "markdown",
   "id": "bafa729f",
   "metadata": {},
   "source": [
    "```\n",
    "total = 10000\n",
    "count = 0\n",
    "\n",
    "for _ in range(total):\n",
    "    if random.uniform(0, 1) < 0.1:\n",
    "        count += 1\n",
    "```"
   ]
  },
  {
   "cell_type": "markdown",
   "id": "d5254b35",
   "metadata": {},
   "source": [
    "마지막으로 `count`에 저장된 값을 1만으로 나눈다.\n",
    "\n",
    "지금까지의 설명을 코드로 구현하면 다음과 같다."
   ]
  },
  {
   "cell_type": "code",
   "execution_count": 8,
   "id": "4a338db7",
   "metadata": {},
   "outputs": [
    {
     "name": "stdout",
     "output_type": "stream",
     "text": [
      "0.106\n"
     ]
    }
   ],
   "source": [
    "import random\n",
    "\n",
    "total = 10000\n",
    "count = 0\n",
    "\n",
    "for _ in range(total):\n",
    "    if random.uniform(0, 1) < 0.1:\n",
    "        count += 1\n",
    "        \n",
    "print(count / total)\n",
    "    "
   ]
  },
  {
   "cell_type": "markdown",
   "id": "559827ee",
   "metadata": {},
   "source": [
    "`random.uniform(0, 1)`를 10만 번 호출하면 반환값이 0.1보다 작은 값이 보다 더 10%에 가까운 값으로 계산된다."
   ]
  },
  {
   "cell_type": "code",
   "execution_count": 9,
   "id": "b6e2e51c",
   "metadata": {},
   "outputs": [
    {
     "name": "stdout",
     "output_type": "stream",
     "text": [
      "0.10109\n"
     ]
    }
   ],
   "source": [
    "import random\n",
    "\n",
    "total = 100000\n",
    "count = 0\n",
    "\n",
    "for _ in range(total):\n",
    "    if random.uniform(0, 1) < 0.1:\n",
    "        count += 1\n",
    "        \n",
    "print(count / total)\n",
    "    "
   ]
  },
  {
   "cell_type": "markdown",
   "id": "4ef1fb5a",
   "metadata": {},
   "source": [
    "## 문제 5"
   ]
  },
  {
   "cell_type": "markdown",
   "id": "305194cf",
   "metadata": {},
   "source": [
    "**질문 1**"
   ]
  },
  {
   "cell_type": "markdown",
   "id": "d9164d42",
   "metadata": {},
   "source": [
    "양의 정수 `T`와 함께 호출되면 초 단위로 `T` 시간만큼 기다렸다가 \n",
    "아래 문장을 화면에 출력하는 `wait()` 함수를 정의하라.\n",
    "단, `T`의 인자를 한 자리 정수로 제한하는 게 좋다.\n",
    "그렇지 않으면 실행 시간이 너무 오래 걸린다.\n",
    "\n",
    "```\n",
    "이 문장을 출력하는데 T 초 걸렸습니다.\n",
    "```\n",
    "\n",
    "힌트: `time` 모듈의 `sleep()` 함수 활용"
   ]
  },
  {
   "cell_type": "markdown",
   "id": "935ca51f",
   "metadata": {},
   "source": [
    "**답**"
   ]
  },
  {
   "cell_type": "markdown",
   "id": "b3ff75dd",
   "metadata": {},
   "source": [
    "아래 코드에서 정의된 `wait()` 함수를 인자 `T`와 함께\n",
    "호출하면 바로 `T`초 동안 기다리도록 한 다음에\n",
    "위 문장을 출력하도록 하면 된다."
   ]
  },
  {
   "cell_type": "code",
   "execution_count": 10,
   "id": "d37fe228",
   "metadata": {},
   "outputs": [],
   "source": [
    "import time\n",
    "\n",
    "def wait(T):\n",
    "    time.sleep(T)\n",
    "    print(\"이 문장을 출력하는데\", T, \"초 걸렸습니다.\")"
   ]
  },
  {
   "cell_type": "code",
   "execution_count": 11,
   "id": "aab2c6ea",
   "metadata": {},
   "outputs": [
    {
     "name": "stdout",
     "output_type": "stream",
     "text": [
      "이 문장을 출력하는데 3 초 걸렸습니다.\n"
     ]
    }
   ],
   "source": [
    "wait(3)"
   ]
  },
  {
   "cell_type": "markdown",
   "id": "f9292590",
   "metadata": {},
   "source": [
    "**질문 2**"
   ]
  },
  {
   "cell_type": "markdown",
   "id": "0fc04efe",
   "metadata": {},
   "source": [
    "`wait(3)`이 호출되어 실행되는 시간을 계산하는 코드를 작성하라.\n",
    "단, 소수점 이하는 버린다.\n",
    "\n",
    "힌트: `int()` 함수와 `time` 모듈의 `time()` 함수 활용"
   ]
  },
  {
   "cell_type": "markdown",
   "id": "4b950057",
   "metadata": {},
   "source": [
    "**답**"
   ]
  },
  {
   "cell_type": "markdown",
   "id": "a944655a",
   "metadata": {},
   "source": [
    "코드를 실행할 때와 종료할 때의 시각을 `time` 모듈의 `time()` 함수로 확인해서 차이를 계산한다.\n",
    "단 `int()` 함수를 이용하여 소수점 이하는 버린다."
   ]
  },
  {
   "cell_type": "code",
   "execution_count": 12,
   "id": "487f4c29",
   "metadata": {},
   "outputs": [
    {
     "name": "stdout",
     "output_type": "stream",
     "text": [
      "이 문장을 출력하는데 3 초 걸렸습니다.\n",
      "실제 실행시간: 약 3 초\n"
     ]
    }
   ],
   "source": [
    "start = time.time()\n",
    "wait(3)\n",
    "end = time.time()\n",
    "\n",
    "print(\"실제 실행시간: 약\", int(end-start), \"초\")"
   ]
  },
  {
   "cell_type": "markdown",
   "id": "e55081ec",
   "metadata": {},
   "source": [
    "## 문제 6"
   ]
  },
  {
   "cell_type": "markdown",
   "id": "b4a6df1f",
   "metadata": {},
   "source": [
    "두 개의 주사위 던지기를 시뮬레이션 하는 코드를 작성하라.\n",
    "단, `random` 모듈의 `randint()` 함수를 이용한다.\n",
    "또한 두 개의 주사위를 던졌을 때 나온 숫자 두 개를 표현하는 이미지를 모방하는 문자열을 이용한다."
   ]
  },
  {
   "cell_type": "markdown",
   "id": "3a6e328b",
   "metadata": {},
   "source": [
    "**답 1**"
   ]
  },
  {
   "cell_type": "markdown",
   "id": "b298d3b2",
   "metadata": {},
   "source": [
    "주사위는 1부터 6까지의 숫자로 표기된 6개의 면을 갖는 정육면체다.\n",
    "주사위 자체는 생략하고 주사위를 던진 결과만을 고려한다면\n",
    " `randint(1, 6)` 함수 표현식으로 주사위를 대신할 수 있다.\n",
    "이유는 언급된 표현식을 실행할 때마다 1부터 6 사이의 정수가 하나 선택되는데\n",
    "이 과정을 주사위를 던져서 하나의 수를 얻는 과정에 비유할 수 있기 때문이다. "
   ]
  },
  {
   "cell_type": "markdown",
   "id": "3c3f8564",
   "metadata": {},
   "source": [
    "아래 코드를 실행할 때마다 1에서 6 사이의 정수 두 개가 선택된다.\n",
    "즉, 아래 코드가 두 개의 주사위 던지기를 시뮬레이션 한다."
   ]
  },
  {
   "cell_type": "code",
   "execution_count": 1,
   "id": "29ff0313",
   "metadata": {},
   "outputs": [
    {
     "name": "stdout",
     "output_type": "stream",
     "text": [
      "두 개의 주사위를 던집니다.\n",
      "6 과 3 이(가) 나왔습니다.\n"
     ]
    }
   ],
   "source": [
    "import random\n",
    "\n",
    "print(\"두 개의 주사위를 던집니다.\")\n",
    "\n",
    "dice_number1 = random.randint(1, 6)\n",
    "dice_number2 = random.randint(1, 6)\n",
    "\n",
    "print(dice_number1, \"과\", dice_number2, \"이(가) 나왔습니다.\")"
   ]
  },
  {
   "cell_type": "markdown",
   "id": "0f34a8ce",
   "metadata": {},
   "source": [
    "반면에 정육면체 주사위까지는 아니지만 주사위를 던졌을 때\n",
    "윗쪽면에 보여지는 숫자 이미지를 모방하는 문자열을 이용하여 \n",
    "주사위 던지기를 아래처럼 시뮬레이션 할 수 있다."
   ]
  },
  {
   "cell_type": "markdown",
   "id": "f2ea70a4",
   "metadata": {},
   "source": [
    "```\n",
    "숫자:\n",
    "\n",
    "   1           2           3           4           5           6\n",
    "\n",
    "숫자 이미지:\n",
    "\n",
    "|     |     |0    |     |0    |     |0   0|     |0   0|     |0   0|\n",
    "|  0  |     |     |     |  0  |     |     |     |  0  |     |0   0|\n",
    "|     |     |    0|     |    0|     |0   0|     |0   0|     |0   0|\n",
    "```"
   ]
  },
  {
   "cell_type": "markdown",
   "id": "532275c7",
   "metadata": {},
   "source": [
    "아래 `prince_dice()` 함수는 지정된 숫자의 이미지를 출력한다."
   ]
  },
  {
   "cell_type": "code",
   "execution_count": 7,
   "id": "cc9dc013",
   "metadata": {},
   "outputs": [],
   "source": [
    "def print_dice(dice_number):\n",
    "    if dice_number == 1:\n",
    "        print(\"|     |\")\n",
    "        print(\"|  0  |\")\n",
    "        print(\"|     |\")\n",
    "    if dice_number == 2:\n",
    "        print(\"|0    |\")\n",
    "        print(\"|     |\")\n",
    "        print(\"|    0|\")\n",
    "    if dice_number == 3:\n",
    "        print(\"|0    |\")\n",
    "        print(\"|  0  |\")\n",
    "        print(\"|    0|\")\n",
    "    if dice_number == 4:\n",
    "        print(\"|0   0|\")\n",
    "        print(\"|     |\")\n",
    "        print(\"|0   0|\")\n",
    "    if dice_number == 5:\n",
    "        print(\"|0   0|\")\n",
    "        print(\"|  0  |\")\n",
    "        print(\"|0   0|\")\n",
    "    if dice_number == 6:\n",
    "        print(\"|0   0|\")\n",
    "        print(\"|0   0|\")\n",
    "        print(\"|0   0|\")    "
   ]
  },
  {
   "cell_type": "code",
   "execution_count": 8,
   "id": "1c622b60",
   "metadata": {},
   "outputs": [
    {
     "name": "stdout",
     "output_type": "stream",
     "text": [
      "|     |\n",
      "|  0  |\n",
      "|     |\n"
     ]
    }
   ],
   "source": [
    "print_dice(1)"
   ]
  },
  {
   "cell_type": "code",
   "execution_count": 9,
   "id": "f0e18864",
   "metadata": {},
   "outputs": [
    {
     "name": "stdout",
     "output_type": "stream",
     "text": [
      "|0   0|\n",
      "|     |\n",
      "|0   0|\n"
     ]
    }
   ],
   "source": [
    "print_dice(4)"
   ]
  },
  {
   "cell_type": "code",
   "execution_count": 10,
   "id": "80dae3dd",
   "metadata": {},
   "outputs": [
    {
     "name": "stdout",
     "output_type": "stream",
     "text": [
      "|0   0|\n",
      "|  0  |\n",
      "|0   0|\n"
     ]
    }
   ],
   "source": [
    "print_dice(5)"
   ]
  },
  {
   "cell_type": "markdown",
   "id": "37c549d5",
   "metadata": {},
   "source": [
    "아래 코드는 두 개의 주사위를 던져서 나온 두 개의 숫자를 이미지 형식으로 함께 보여준다."
   ]
  },
  {
   "cell_type": "code",
   "execution_count": 18,
   "id": "4c43000f",
   "metadata": {},
   "outputs": [
    {
     "name": "stdout",
     "output_type": "stream",
     "text": [
      "주사위를 던집니다.\n",
      "\n",
      "\n",
      "첫째 주사위\n",
      "\n",
      "|0   0|\n",
      "|     |\n",
      "|0   0|\n",
      "\n",
      "\n",
      "둘째 주사위\n",
      "\n",
      "|0    |\n",
      "|  0  |\n",
      "|    0|\n"
     ]
    }
   ],
   "source": [
    "import random\n",
    "\n",
    "print(\"주사위를 던집니다.\")\n",
    "print(\"\\n\")\n",
    "\n",
    "dice_number1 = random.randint(1, 6)\n",
    "dice_number2 = random.randint(1, 6)\n",
    "\n",
    "print(\"첫째 주사위\\n\")\n",
    "print_dice(dice_number1)\n",
    "print(\"\\n\")\n",
    "print(\"둘째 주사위\\n\")\n",
    "print_dice(dice_number2)"
   ]
  },
  {
   "cell_type": "markdown",
   "id": "53cbd739",
   "metadata": {},
   "source": [
    "## 문제 7"
   ]
  },
  {
   "cell_type": "markdown",
   "id": "29b07f1f",
   "metadata": {},
   "source": [
    "베스킨라빈스 31 게임은 두 사람이 참여하며 마지막에 31을 부른 사람이 지는 게임으로 규칙은 다음과 같다.\n",
    "\n",
    "* 참여자들은 번갈아가며 1부터 31까지의 수를 순서대로 부른다.\n",
    "* 한번에 1~3개의 수를 부를 수 있다.\n",
    "\n",
    "예를 들어, playerA가 1, 2, 3을 부르면, playerB는 4 또는 4, 5 또는 4, 5, 6를 부를 수 있다.\n",
    "\n",
    "두 대의 컴퓨터 playerA와 playerB가 진행하는 베스킨라벤스 31 게임을 다음과 같이 구현할 수 있다.\n",
    "\n",
    "아래 코드의 `beskinRobbins31()` 함수를 실행하면 \n",
    "playerA와 playerB 모두 승리 전략이 없이 무작위로 숫자를 부르고 31을 부르는 컴퓨터가 결정되면\n",
    "해당 컴퓨터 이름을 반환한다.\n",
    "원래 각 컴퓨터가 부르는 숫자를 화면에 출력해야 게임이 진행되는 과정을 볼 수 있지만 생략하고 최종 결과만 보여주도록 하였다."
   ]
  },
  {
   "cell_type": "code",
   "execution_count": 65,
   "id": "74401932",
   "metadata": {},
   "outputs": [],
   "source": [
    "import random\n",
    "\n",
    "def beskinRobbins31():\n",
    "    final = 31 # 언급되면 지는 숫자\n",
    "    call = 0   # 마지막으로 언급된 숫자 기억\n",
    "    player = 0 # 숫자를 불러야 하는 게임 참여자. 0은 playerA, 1은 playerB를 가리킴.\n",
    "\n",
    "    while call < final:\n",
    "\n",
    "        if player == 1:\n",
    "            player_name = 'playerB'\n",
    "        else:\n",
    "            player_name = 'playerA'\n",
    "\n",
    "        number = random.randint(1, 3)\n",
    "\n",
    "        count = 0\n",
    "        while count < number:\n",
    "            call += 1\n",
    "            if call == final:\n",
    "                return player_name\n",
    "            count += 1\n",
    "\n",
    "        player = (player + 1) % 2"
   ]
  },
  {
   "cell_type": "code",
   "execution_count": 72,
   "id": "be08f75b",
   "metadata": {},
   "outputs": [
    {
     "name": "stdout",
     "output_type": "stream",
     "text": [
      "playerA가 졌습니다.\n"
     ]
    }
   ],
   "source": [
    "print(beskinRobbins31() + \"가 졌습니다.\")"
   ]
  },
  {
   "cell_type": "code",
   "execution_count": 73,
   "id": "d3c548a6",
   "metadata": {},
   "outputs": [
    {
     "name": "stdout",
     "output_type": "stream",
     "text": [
      "playerB가 졌습니다.\n"
     ]
    }
   ],
   "source": [
    "print(beskinRobbins31() + \"가 졌습니다.\")"
   ]
  },
  {
   "cell_type": "markdown",
   "id": "c634802c",
   "metadata": {},
   "source": [
    "**질문**\n",
    "\n",
    "`beskingRobbins31()` 게임을 십만 번 진행했을 때 각 컴퓨터의 승률를 확인하는 코드를 작성해서 두 참여자 각각 50%의 승률을 가짐을 보여라."
   ]
  },
  {
   "cell_type": "markdown",
   "id": "cd4d2f4c",
   "metadata": {},
   "source": [
    "**답**"
   ]
  },
  {
   "cell_type": "markdown",
   "id": "a16a54ef",
   "metadata": {},
   "source": [
    "아래 코드는 베스킨라벤스 게임을 십만 번 진행했을 때 playerA의 승률이 대략적으로 0.5, 즉 50%임을 보인다."
   ]
  },
  {
   "cell_type": "code",
   "execution_count": 83,
   "id": "c08870fa",
   "metadata": {},
   "outputs": [
    {
     "name": "stdout",
     "output_type": "stream",
     "text": [
      "0.50366\n"
     ]
    }
   ],
   "source": [
    "# playerA가 이긴 경우의 수\n",
    "count = 0\n",
    "\n",
    "# 십만 번 게임 진행\n",
    "total_play = 100_000\n",
    "\n",
    "num = 0\n",
    "while num < total_play:\n",
    "    if beskinRobbins31() == 'playerB':\n",
    "        count += 1\n",
    "    num += 1\n",
    "\n",
    "print(count / total_play)"
   ]
  },
  {
   "cell_type": "markdown",
   "id": "da671605",
   "metadata": {},
   "source": [
    "## 문제 8"
   ]
  },
  {
   "cell_type": "markdown",
   "id": "df4f6aa3",
   "metadata": {},
   "source": [
    "베스킨라빈스 31 게임은 두 사람이 참여하며 마지막에 31을 부른 사람이 지는 게임으로 규칙은 다음과 같다.\n",
    "\n",
    "* 참여자들은 번갈아가며 1부터 31까지의 수를 순서대로 부른다.\n",
    "* 한번에 1~3개의 수를 부를 수 있다.\n",
    "\n",
    "예를 들어, playerA가 1, 2, 3을 부르면, playerB는 4 또는 4, 5 또는 4, 5, 6를 부를 수 있다.\n",
    "\n",
    "이 게임은 숫자를 먼저 부르는 사람에 유리하다. \n",
    "이유는 승리 전략이 있기 때문이다. \n",
    "\n",
    "- 상대방이 31을 부르도록 하기 위해 사람이 30을 불러야 한다.\n",
    "- 상대방이 30을 부르지 못하도록 하기 위해 사람이 26을 불러야 한다.\n",
    "- 상대방이 26을 부르지 못하도록 하기 위해 사람이 22을 불러야 한다.\n",
    "- ...\n",
    "- 상대방이 6을 부르지 못하도록 하기 위해 사람이 2을 불러야 한다.\n",
    "- 따라서 먼저 2를 부른 사람이 승리할 수 있다."
   ]
  },
  {
   "cell_type": "markdown",
   "id": "dbc69210",
   "metadata": {},
   "source": [
    "**질문 1**"
   ]
  },
  {
   "cell_type": "markdown",
   "id": "5b2d3744",
   "metadata": {},
   "source": [
    "두 대의 컴퓨터 playerA와 playerB가 진행하는 베스킨라벤스 31 게임을 구현하라.\n",
    "단, playerA 컴퓨터는 승리 전략을 모르는 반면에 playerB 컴퓨터는 승리 전략을 안다고 가정한다.\n",
    "게임 시작은 playerA 컴퓨터가 먼저 시작하고, playerB 컴퓨터는 승리 전략을 적용할 수 있는 기회가 발생하는 순간에\n",
    "바로 승리 전략을 적용하도록 한다."
   ]
  },
  {
   "cell_type": "markdown",
   "id": "d01fb2df",
   "metadata": {},
   "source": [
    "**답**"
   ]
  },
  {
   "cell_type": "markdown",
   "id": "43f47e6d",
   "metadata": {},
   "source": [
    "playerB가 승리 전략을 알고 있지만 playerA가 먼저 게임을 시작하는 경우엔 palyerB는 승리 전략을 적용할 수 있는 \n",
    "기회가 발생할 때까지 기다리는 전략을 추가로 사용해야 한다. "
   ]
  },
  {
   "cell_type": "markdown",
   "id": "a7623f18",
   "metadata": {},
   "source": [
    "**playerB의 기다림 전략**"
   ]
  },
  {
   "cell_type": "markdown",
   "id": "200bb0b7",
   "metadata": {},
   "source": [
    "playerA가 마지막에 부른 숫자 `call`에 따라 playerB가 부를 숫자의 개수를 달리하면서 승리 전략을 적용할 기회를 기다린다.\n",
    "기다림 전략은 playerA의 마지막 `call`을 4로 나눈 나머지에 따라 달라진다."
   ]
  },
  {
   "cell_type": "markdown",
   "id": "13cddbfd",
   "metadata": {},
   "source": [
    "- 나머지가 0인 경우: playerB는 2 개의 수를 부르고 바로 승리 전략 적용\n",
    "- 나머지가 1인 경우: playerB는 1 개의 수를 부르고 바로 승리 전략 적용\n",
    "- 나머지가 2인 경우: playerB는 1 개의 수를 부르고 기다릴 것.\n",
    "- 나머지가 3인 경우: playerB는 3 개의 수를 부르고 바로 승리 전략 적용"
   ]
  },
  {
   "cell_type": "markdown",
   "id": "b1642bb2",
   "metadata": {},
   "source": [
    "한 번 승리 전략을 적용하는 순간부터는 playerA가 1 ~ 3 개 수를 부르더라도 playerB는 그에 맞춰 승리 전략을 계속 유지한다."
   ]
  },
  {
   "cell_type": "code",
   "execution_count": 84,
   "id": "91a1c530",
   "metadata": {},
   "outputs": [
    {
     "name": "stdout",
     "output_type": "stream",
     "text": [
      "playerA 차례입니다.\n",
      "playerA: 1\n",
      "playerA: 2\n",
      "\n",
      "\n",
      "playerB 차례입니다.\n",
      "playerB: 3\n",
      "\n",
      "\n",
      "playerA 차례입니다.\n",
      "playerA: 4\n",
      "playerA: 5\n",
      "playerA: 6\n",
      "\n",
      "\n",
      "playerB 차례입니다.\n",
      "playerB: 7\n",
      "\n",
      "\n",
      "playerA 차례입니다.\n",
      "playerA: 8\n",
      "\n",
      "\n",
      "playerB 차례입니다.\n",
      "playerB: 9\n",
      "playerB: 10\n",
      "\n",
      "\n",
      "playerA 차례입니다.\n",
      "playerA: 11\n",
      "playerA: 12\n",
      "\n",
      "\n",
      "playerB 차례입니다.\n",
      "playerB: 13\n",
      "playerB: 14\n",
      "\n",
      "\n",
      "playerA 차례입니다.\n",
      "playerA: 15\n",
      "playerA: 16\n",
      "\n",
      "\n",
      "playerB 차례입니다.\n",
      "playerB: 17\n",
      "playerB: 18\n",
      "\n",
      "\n",
      "playerA 차례입니다.\n",
      "playerA: 19\n",
      "\n",
      "\n",
      "playerB 차례입니다.\n",
      "playerB: 20\n",
      "playerB: 21\n",
      "playerB: 22\n",
      "\n",
      "\n",
      "playerA 차례입니다.\n",
      "playerA: 23\n",
      "playerA: 24\n",
      "\n",
      "\n",
      "playerB 차례입니다.\n",
      "playerB: 25\n",
      "playerB: 26\n",
      "\n",
      "\n",
      "playerA 차례입니다.\n",
      "playerA: 27\n",
      "playerA: 28\n",
      "\n",
      "\n",
      "playerB 차례입니다.\n",
      "playerB: 29\n",
      "playerB: 30\n",
      "\n",
      "\n",
      "playerA 차례입니다.\n",
      "playerA: 31\n",
      "playerA가 졌습니다.\n",
      "\n",
      "\n"
     ]
    }
   ],
   "source": [
    "import random\n",
    "\n",
    "final = 31 # 언급되면 지는 숫자\n",
    "call = 0   # 마지막으로 언급된 숫자 기억\n",
    "player = 0 # 숫자를 불러야 하는 게임 참여자. 0은 playerA, 1은 playerB를 가리킴.\n",
    "\n",
    "while call < final:\n",
    "\n",
    "    if player == 1:\n",
    "        player_name = 'playerB'\n",
    "        print(player_name + \" 차례입니다.\")\n",
    "        \n",
    "        if call % 4 == 0:\n",
    "            number = 2\n",
    "        elif call % 4 == 1:\n",
    "            number = 1\n",
    "        elif call % 4 == 2:\n",
    "            number = 1\n",
    "        else:\n",
    "            number = 3\n",
    "\n",
    "    else:\n",
    "        player_name = 'playerA'\n",
    "\n",
    "        print(player_name + \" 차례입니다.\")\n",
    "\n",
    "        number = random.randint(1, 3)\n",
    "\n",
    "    \n",
    "    count = 0\n",
    "    while count < number:\n",
    "        call += 1\n",
    "        print(player_name+\":\", call)\n",
    "        if call == final:\n",
    "            print(player_name+\"가 졌습니다.\")\n",
    "            break\n",
    "        count += 1\n",
    "\n",
    "    print(\"\\n\")\n",
    "\n",
    "    player = (player + 1) % 2\n"
   ]
  },
  {
   "cell_type": "markdown",
   "id": "802de8bc",
   "metadata": {},
   "source": [
    "**질문 2**"
   ]
  },
  {
   "cell_type": "markdown",
   "id": "cee67f1b",
   "metadata": {},
   "source": [
    "playerA의 승률이 0은 아니다. \n",
    "이유는 playerA가 의도치 않게 처음부터 끝까지 승리 전략을 유지할 가능성도 있기 때문이다.\n",
    "베스킨라빈스31 게임을 10만 번 진행하는 모의 실험을 통해 playerA의 확률적 승률을 계산하라."
   ]
  },
  {
   "cell_type": "markdown",
   "id": "d498785f",
   "metadata": {},
   "source": [
    "**답**"
   ]
  },
  {
   "cell_type": "markdown",
   "id": "4bb704ff",
   "metadata": {},
   "source": [
    "아래 코드는 앞서 작성한 `beskinRobbins31()` 게임을 함수로 구현한다.\n",
    "또한 중간에 출력하는 과정을 없애고 대신 게임에 진 쪽을 반환한다."
   ]
  },
  {
   "cell_type": "code",
   "execution_count": 86,
   "id": "004c5577",
   "metadata": {},
   "outputs": [],
   "source": [
    "import random\n",
    "\n",
    "def beskinRobbins31():\n",
    "    final = 31 # 언급되면 지는 숫자\n",
    "    call = 0   # 마지막으로 언급된 숫자 기억\n",
    "    player = 0 # 숫자를 불러야 하는 게임 참여자. 0은 playerA, 1은 playerB를 가리킴.\n",
    "\n",
    "    while call < final:\n",
    "\n",
    "        if player == 1:\n",
    "            player_name = 'playerB'\n",
    "\n",
    "            if call % 4 == 0:\n",
    "                number = 2\n",
    "            elif call % 4 == 1:\n",
    "                number = 1\n",
    "            elif call % 4 == 2:\n",
    "                number = 1\n",
    "            else:\n",
    "                number = 3\n",
    "\n",
    "        else:\n",
    "            player_name = 'playerA'\n",
    "            number = random.randint(1, 3)\n",
    "\n",
    "\n",
    "        count = 0\n",
    "        while count < number:\n",
    "            call += 1\n",
    "            if call == final:\n",
    "                return player_name\n",
    "            count += 1\n",
    "\n",
    "        player = (player + 1) % 2"
   ]
  },
  {
   "cell_type": "markdown",
   "id": "1dddd20f",
   "metadata": {},
   "source": [
    "아래 코드는 베스킨라빈스 31 게임을 10만 번 진행했을 때\n",
    "playerA의 승률을 계산한다.\n",
    "계산 결과는 1만분의 1 정도 된다.\n",
    "즉, 게임을 1만 번 진행하면 한 번 정도 playerA가 이긴다."
   ]
  },
  {
   "cell_type": "code",
   "execution_count": 118,
   "id": "dd25e53b",
   "metadata": {},
   "outputs": [
    {
     "name": "stdout",
     "output_type": "stream",
     "text": [
      "0.00014\n"
     ]
    }
   ],
   "source": [
    "# playerA가 이긴 경우의 수\n",
    "count = 0\n",
    "\n",
    "# 십만 번 게임 진행\n",
    "total_play = 100_000\n",
    "\n",
    "num = 0\n",
    "while num < total_play:\n",
    "    if beskinRobbins31() == 'playerB':\n",
    "        count += 1\n",
    "    num += 1\n",
    "\n",
    "print(count / total_play)"
   ]
  }
 ],
 "metadata": {
  "kernelspec": {
   "display_name": "Python 3 (ipykernel)",
   "language": "python",
   "name": "python3"
  },
  "language_info": {
   "codemirror_mode": {
    "name": "ipython",
    "version": 3
   },
   "file_extension": ".py",
   "mimetype": "text/x-python",
   "name": "python",
   "nbconvert_exporter": "python",
   "pygments_lexer": "ipython3",
   "version": "3.11.5"
  }
 },
 "nbformat": 4,
 "nbformat_minor": 5
}
