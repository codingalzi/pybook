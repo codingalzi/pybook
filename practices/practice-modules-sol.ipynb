{
 "cells": [
  {
   "cell_type": "markdown",
   "id": "1966b032",
   "metadata": {},
   "source": [
    "# (연습) 모듈"
   ]
  },
  {
   "cell_type": "markdown",
   "id": "58bc1e4a",
   "metadata": {},
   "source": [
    "**주의 사항**\n",
    "\n",
    "* 기존에 작성된 코드 셀과 텍스트 셀은 수정하지 않는다.\n",
    "* 필요한 경우 코드 셀 또는 텍스트 셀을 추가해서 사용한다.\n",
    "* 실습 파일을 제출할 때 구글 드라이브의 링크를 이용하여 누구나 공유할 수 있도록 설정한다."
   ]
  },
  {
   "cell_type": "markdown",
   "id": "b34e6d95",
   "metadata": {},
   "source": [
    "## 문제 1"
   ]
  },
  {
   "cell_type": "markdown",
   "id": "6255864d",
   "metadata": {},
   "source": [
    "`random` 모듈의 `randrange()` 함수와 `randint()` 함수의 공통점과 차이점을\n",
    "예를 이용하여 설명하라."
   ]
  },
  {
   "cell_type": "markdown",
   "id": "01e3ba37",
   "metadata": {},
   "source": [
    "**답**"
   ]
  },
  {
   "cell_type": "markdown",
   "id": "a02dba1a",
   "metadata": {},
   "source": [
    "`randint()` 함수는 `randrange()` 함수를 이용해서 다음과 같이 정의되었다.\n",
    "\n",
    "```python\n",
    "randint(a, b) = randrange(a, b+1)\n",
    "```"
   ]
  },
  {
   "cell_type": "markdown",
   "id": "c35ed094",
   "metadata": {},
   "source": [
    "따라서 `randint(a, b)`로 호출되면 무작위로 선택할 수 있는 정수의 구간이\n",
    "`a`에서 `b`까지이다. \n",
    "반면에 `randint(a, b)`로 호출되면 무작위로 선택할 수 있는 정수의 구간에 `b`는 포함되지 않는다."
   ]
  },
  {
   "cell_type": "markdown",
   "id": "a02443d1",
   "metadata": {},
   "source": [
    "예를 들어 아래 코드는 실행할 때마다 1 또는 2가 반환값으로 지정된다."
   ]
  },
  {
   "cell_type": "code",
   "execution_count": 41,
   "id": "f5edf644",
   "metadata": {},
   "outputs": [
    {
     "data": {
      "text/plain": [
       "2"
      ]
     },
     "execution_count": 41,
     "metadata": {},
     "output_type": "execute_result"
    }
   ],
   "source": [
    "import random\n",
    "\n",
    "random.randint(1, 2)"
   ]
  },
  {
   "cell_type": "markdown",
   "id": "03061013",
   "metadata": {},
   "source": [
    "반면에 아래 코드는 항상 1만 생성된다. 이유는 탐색 구간이 1에서 1까지이기 때문이다."
   ]
  },
  {
   "cell_type": "code",
   "execution_count": 44,
   "id": "d7120b78",
   "metadata": {},
   "outputs": [
    {
     "data": {
      "text/plain": [
       "1"
      ]
     },
     "execution_count": 44,
     "metadata": {},
     "output_type": "execute_result"
    }
   ],
   "source": [
    "import random\n",
    "\n",
    "random.randrange(1, 2)"
   ]
  },
  {
   "cell_type": "markdown",
   "id": "fa77ea6e",
   "metadata": {},
   "source": [
    "`randrange()` 함수가 갖는 또다른 기능은 이어지는 문제에서 설명한다."
   ]
  },
  {
   "cell_type": "markdown",
   "id": "d3d0edd6",
   "metadata": {},
   "source": [
    "## 문제 2"
   ]
  },
  {
   "cell_type": "markdown",
   "id": "a5c21326",
   "metadata": {},
   "source": [
    "1에서 99사이에서 3의 배수를 무작위로 세 개 생성하는 코드를 작성하라.\n",
    "\n",
    "힌트: `random` 모듈의 `randrange()` 함수를 세 개의 인자와 함께 활용.\n",
    "셋째 인자는 정수 구간의 시작에서부터 몇 개의 수를 건너뛰며 정수를 선택할지를 결정함.\n",
    "\n",
    "참고: [파이선 random 사용법 정리](https://mathcoding-yj.tistory.com/entry/%ED%8C%8C%EC%9D%B4%EC%8D%AC-%EB%9E%9C%EB%8D%A4random-%EC%82%AC%EC%9A%A9%EB%B2%95-%EC%A0%95%EB%A6%ACrandrange-randint-randomchoice-%EB%93%B1)"
   ]
  },
  {
   "cell_type": "markdown",
   "id": "9230ecb6",
   "metadata": {},
   "source": [
    "**답**"
   ]
  },
  {
   "cell_type": "markdown",
   "id": "82991155",
   "metadata": {},
   "source": [
    "`random.randrange(a, b, c)` 형식으로 함수 호출이 되면\n",
    "`a`에서 `b` 이전 까지의 구간에서 값을 무작위로 선택할 때 다음과 같은 값중에서 하나 선택한다.\n",
    "\n",
    "    a, a+3, a+6, a+9, ...\n",
    "    \n",
    "셋째 인자주어지지 않으면 `c=1`로 간주된다.\n",
    "\n",
    "따라서 1에서 99사이에서 3의 배수만을 대상으로 하려면\n",
    "3의 배수만 선택 대상으로 지정되도록 셋째 인자를 3으로 지정한다.\n",
    "단, 구간의 시작또한 3의 배수로 지정돼야 하기에\n",
    "첫째 인자는 3을 사용한다.\n",
    "\n",
    "아래 코드에서 `for _ in range(3)`을 사용하는 이유는\n",
    "3의 배수를 선택하여 출력하는 명령문을 무조건 세 번 실행하기 위해서이다.\n",
    "참고로 밑줄 기호 `_`는 `for` 반복문에 사용되는 변수의 \n",
    "이름이 중요하지 않은 경우에 대신 사용하는 기호다.\n",
    "실제로 `_` 대신에 `i`, `count` 등을 사용하더라도\n",
    "`for` 반복문의 본문에 해당 변수가 사용되지 않기에 \n",
    "변수의 이름이 전혀 중요하지 않다.\n",
    "\n",
    "또한 `print()` 함수에서 `end=', '` 키워드 인자를 사용해서\n",
    "무작위로 선택된 세 개의 값이 한 줄에 출력되도록 하기 위함이다."
   ]
  },
  {
   "cell_type": "code",
   "execution_count": 46,
   "id": "fbf8502f",
   "metadata": {},
   "outputs": [
    {
     "name": "stdout",
     "output_type": "stream",
     "text": [
      "9, 42, 63, "
     ]
    }
   ],
   "source": [
    "import random\n",
    "\n",
    "for _ in range(3):\n",
    "    print(random.randrange(3, 99, 3), end=', ')"
   ]
  },
  {
   "cell_type": "markdown",
   "id": "90ad0737",
   "metadata": {},
   "source": [
    "## 문제 3"
   ]
  },
  {
   "cell_type": "markdown",
   "id": "45d5d992",
   "metadata": {},
   "source": [
    "하나의 양의 정수 `N`이 인자로 지정되었을 때 0이상 `N` 이하의 구간에서\n",
    "무작위로 하나의 부동소수점을 생성해서 반환하는 함수 `random_less()`를 구현하라.\n",
    "예를 들어 `random_less(100)`은 `[0, 100)` 구간에서 \n",
    "하나의 부동소수점을 무작위로 생성한다.\n",
    "\n",
    "힌트: `random` 모듈의 `random()` 함수 이용"
   ]
  },
  {
   "cell_type": "markdown",
   "id": "3100ebfa",
   "metadata": {},
   "source": [
    "**답**"
   ]
  },
  {
   "cell_type": "markdown",
   "id": "73dff5c4",
   "metadata": {},
   "source": [
    "`random.random()` 함수는 인자 없이 호출하면 `[0, 1)` 구간에서\n",
    "무작위로 하나의 부동소수점을 생성해서 반환한다.\n",
    "예를 들어 아래 코드는 `[0, 1)` 구간에서 무작위로 세 개의 \n",
    "부동소수점을 생성해서 출력한다.\n",
    "`random.seed()` 함수는 아래 코드를 실행할 때마다 동일한 결과가 \n",
    "생성되도록 하기 위해 사용되었다."
   ]
  },
  {
   "cell_type": "code",
   "execution_count": 59,
   "id": "73841438",
   "metadata": {},
   "outputs": [
    {
     "name": "stdout",
     "output_type": "stream",
     "text": [
      "0.13436424411240122\n",
      "0.8474337369372327\n",
      "0.763774618976614\n"
     ]
    }
   ],
   "source": [
    "import random\n",
    "random.seed(1)\n",
    "\n",
    "for _ in range(3):\n",
    "    print(random.random())"
   ]
  },
  {
   "cell_type": "markdown",
   "id": "cf1e4d6f",
   "metadata": {},
   "source": [
    "따라서 무작위로 생성된 값이 `[0, 1)`이 아닌 `[0, N)` 구간에 포함되게 하기 위해서는\n",
    "`random.random()` 함수의 반환값에 `N`을 곱하면 된다.\n",
    "아래 코드에서 정의된 `random_less()` 함수가 이 아이디어를 이용한다."
   ]
  },
  {
   "cell_type": "code",
   "execution_count": 49,
   "id": "3bca963e",
   "metadata": {},
   "outputs": [],
   "source": [
    "import random\n",
    "\n",
    "def random_less(N):\n",
    "    num = random.random() * N\n",
    "    return num"
   ]
  },
  {
   "cell_type": "markdown",
   "id": "e9abf5b3",
   "metadata": {},
   "source": [
    "아래 코드는 `[0, 100)` 구간에서 무작위로 세 개의 부동소수점을 생성해서 출력한다."
   ]
  },
  {
   "cell_type": "code",
   "execution_count": 60,
   "id": "1e6225f9",
   "metadata": {},
   "outputs": [
    {
     "name": "stdout",
     "output_type": "stream",
     "text": [
      "13.436424411240122\n",
      "84.74337369372327\n",
      "76.3774618976614\n"
     ]
    }
   ],
   "source": [
    "random.seed(1)\n",
    "\n",
    "for _ in range(3):\n",
    "    print(random_less(100))"
   ]
  }
 ],
 "metadata": {
  "kernelspec": {
   "display_name": "Python 3 (ipykernel)",
   "language": "python",
   "name": "python3"
  },
  "language_info": {
   "codemirror_mode": {
    "name": "ipython",
    "version": 3
   },
   "file_extension": ".py",
   "mimetype": "text/x-python",
   "name": "python",
   "nbconvert_exporter": "python",
   "pygments_lexer": "ipython3",
   "version": "3.11.5"
  }
 },
 "nbformat": 4,
 "nbformat_minor": 5
}
