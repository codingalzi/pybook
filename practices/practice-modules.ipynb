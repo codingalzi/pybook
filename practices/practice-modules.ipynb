{
 "cells": [
  {
   "cell_type": "markdown",
   "id": "1966b032",
   "metadata": {},
   "source": [
    "# (연습) 모듈"
   ]
  },
  {
   "cell_type": "markdown",
   "id": "9c7fdf22",
   "metadata": {},
   "source": [
    "**참고 사항**\n",
    "\n",
    "먼저 \n",
    "[모듈](https://codingalzi.github.io/pybook/modules.html)의 내용과\n",
    "[(필수 예제) 모듈](https://colab.research.google.com/github/codingalzi/pybook/blob/master/examples/examples-modules.ipynb)의 예제들을 학습하세요."
   ]
  },
  {
   "cell_type": "markdown",
   "id": "58bc1e4a",
   "metadata": {},
   "source": [
    "**주의 사항**\n",
    "\n",
    "* 기존에 작성된 코드 셀과 텍스트 셀은 수정하지 않는다.\n",
    "* 필요한 경우 코드 셀 또는 텍스트 셀을 추가해서 사용한다.\n",
    "* 실습 파일을 제출할 때 구글 드라이브의 링크를 이용하여 누구나 공유할 수 있도록 설정한다."
   ]
  },
  {
   "cell_type": "markdown",
   "id": "85f6339e",
   "metadata": {},
   "source": [
    "## 문제 1"
   ]
  },
  {
   "cell_type": "markdown",
   "id": "ff120fd4",
   "metadata": {},
   "source": [
    "1에서 99까지의 정수 중에서 3의 배수를 무작위로 세 개 생성하는 코드를 작성하라.\n",
    "\n",
    "힌트: `random` 모듈의 `randrange()` 함수를 세 개의 인자와 함께 활용.\n",
    "\n",
    "참고: [파이선 random 사용법 정리](https://mathcoding-yj.tistory.com/entry/%ED%8C%8C%EC%9D%B4%EC%8D%AC-%EB%9E%9C%EB%8D%A4random-%EC%82%AC%EC%9A%A9%EB%B2%95-%EC%A0%95%EB%A6%ACrandrange-randint-randomchoice-%EB%93%B1)"
   ]
  },
  {
   "cell_type": "code",
   "execution_count": 1,
   "id": "1e513b56",
   "metadata": {},
   "outputs": [],
   "source": [
    "# 코드를 작성한다.\n",
    "# 필요하면 코드셀 또는 텍스트셀을 추가할 수 있습니다.\n",
    "\n"
   ]
  },
  {
   "cell_type": "markdown",
   "id": "adb19c64",
   "metadata": {},
   "source": [
    "## 문제 2"
   ]
  },
  {
   "cell_type": "markdown",
   "id": "4ce30c6b",
   "metadata": {},
   "source": [
    "아래 코드는 사용자가 1부터 100 사이의 정수 하나를 입력하여 \n",
    "비밀인 `secret` 변수에 할당된 값을 맞히는 게임 프로그램이다.\n",
    "단, 정답을 입력하지 못하면 정답에 대한 힌트를 전달하여\n",
    "사용자가 보다 좁은 범위에서 입력값을 정하도록 반복해서 유도한다."
   ]
  },
  {
   "cell_type": "code",
   "execution_count": 2,
   "id": "f0da2ee9",
   "metadata": {},
   "outputs": [
    {
     "name": "stdout",
     "output_type": "stream",
     "text": [
      "수 알아맞히기 게임에 환영합니다.\n",
      "1부터 100 사이의 정수 하나를 입력하세요: 30\n",
      "너무 커요!\n",
      "1부터 100 사이의 정수 하나를 입력하세요: 10\n",
      "너무 작아요!\n",
      "1부터 100 사이의 정수 하나를 입력하세요: 17\n",
      "맞았습니다!\n",
      "게임 종료!\n"
     ]
    }
   ],
   "source": [
    "print(\"수 알아맞히기 게임에 환영합니다.\")\n",
    "\n",
    "secret = 17\n",
    "guess = -1   # 이어지는 while 반복문이 최소 한 번은 실행되도록 함\n",
    "\n",
    "while guess != secret:\n",
    "    guess = int(input(\"1부터 100 사이의 정수 하나를 입력하세요: \"))\n",
    "    \n",
    "    if guess == secret:\n",
    "        print(\"맞았습니다!\")\n",
    "    elif guess > secret:\n",
    "        print(\"너무 커요!\")\n",
    "    else:\n",
    "        print(\"너무 작아요!\")\n",
    "\n",
    "print(\"게임 종료!\")"
   ]
  },
  {
   "cell_type": "markdown",
   "id": "f207be80",
   "metadata": {},
   "source": [
    "그런데 비밀이 17로 고정되어 있어서 한 번 답을 맞히면 더 이상 재미가 없다.\n",
    "따라서 프로그램을 실행할 때마다 `secret`에 할당되는 값을 `random` 모듈의 `randint()` 함수를\n",
    "이용하여 지정하도록 위 코드를 수정하라."
   ]
  },
  {
   "cell_type": "code",
   "execution_count": 1,
   "id": "6fac26ed",
   "metadata": {},
   "outputs": [],
   "source": [
    "# 코드를 작성한다.\n",
    "# 필요하면 코드셀 또는 텍스트셀을 추가할 수 있습니다.\n",
    "\n"
   ]
  },
  {
   "cell_type": "markdown",
   "id": "90ad0737",
   "metadata": {},
   "source": [
    "## 문제 3"
   ]
  },
  {
   "cell_type": "markdown",
   "id": "45d5d992",
   "metadata": {},
   "source": [
    "양의 정수 `N`이 인자로 지정되었을 때 0이상 `N` 미만의 구간에서\n",
    "무작위로 하나의 부동소수점을 반환하는 함수 `random_less()`를 구현하라.\n",
    "예를 들어 `random_less(100)`은 `[0, 100)` 구간에서 \n",
    "하나의 부동소수점을 무작위로 반환한다.\n",
    "단, `random` 모듈의 `random()` 함수만 이용한다."
   ]
  },
  {
   "cell_type": "code",
   "execution_count": 1,
   "id": "0aed74fb",
   "metadata": {},
   "outputs": [],
   "source": [
    "# 코드를 작성한다.\n",
    "# 필요하면 코드셀 또는 텍스트셀을 추가할 수 있습니다.\n",
    "\n"
   ]
  },
  {
   "cell_type": "markdown",
   "id": "623bf429",
   "metadata": {},
   "source": [
    "## 문제 4"
   ]
  },
  {
   "cell_type": "markdown",
   "id": "326d50cb",
   "metadata": {},
   "source": [
    "`random` 모듈의 `uniform()` 함수가 `random.uniform(a, b)` 형식으로 호출되면\n",
    "구간 `[a, b]` 에서 무작위로 부동소수점 하나를 선택해서 반환한다.\n",
    "예를 들어 아래 코드는 `[0, 100]` 구간에서 부동소수점 세 개를 선택해서 출력한다.\n",
    "이전 문제에서는 구간이 `[0, 100)` 이라는 점에서 조금 다르게 작동한다."
   ]
  },
  {
   "cell_type": "code",
   "execution_count": 3,
   "id": "73370e40",
   "metadata": {},
   "outputs": [
    {
     "name": "stdout",
     "output_type": "stream",
     "text": [
      "77.73566427005639\n",
      "66.98255595592497\n",
      "9.913960392481702\n"
     ]
    }
   ],
   "source": [
    "import random\n",
    "random.seed(1000)\n",
    "\n",
    "for _ in range(3):\n",
    "    print(random.uniform(0, 100))"
   ]
  },
  {
   "cell_type": "markdown",
   "id": "5ea82f19",
   "metadata": {},
   "source": [
    "`uniform`의 의미는 지정된 구간 전체에서 균등한 확률로 부동소수점을 선택한다는 의미이다.\n",
    "이를 확인하는 코드를 작성하라.\n",
    "예를 들어 `random.uniform(0, 1)`을 10만 번 호출했을 때\n",
    "0.1 보다 작은 값이 나온 경우가 10% 정도임을 확인하는 코드를 작성하라.\n",
    "\n",
    "힌트: `for` 반복문, `range()` 함수, `random.uniform()` 함수 활용"
   ]
  },
  {
   "cell_type": "code",
   "execution_count": 1,
   "id": "b9348465",
   "metadata": {},
   "outputs": [],
   "source": [
    "# 코드를 작성한다.\n",
    "# 필요하면 코드셀 또는 텍스트셀을 추가할 수 있습니다.\n",
    "\n"
   ]
  },
  {
   "cell_type": "markdown",
   "id": "4ef1fb5a",
   "metadata": {},
   "source": [
    "## 문제 5"
   ]
  },
  {
   "cell_type": "markdown",
   "id": "305194cf",
   "metadata": {},
   "source": [
    "**질문 1**"
   ]
  },
  {
   "cell_type": "markdown",
   "id": "d9164d42",
   "metadata": {},
   "source": [
    "양의 정수 `T`와 함께 호출되면 초 단위로 `T` 시간만큼 기다렸다가 \n",
    "아래 문장을 화면에 출력하는 `wait()` 함수를 정의하라.\n",
    "단, `T`의 인자를 한 자리 정수로 제한하는 게 좋다.\n",
    "그렇지 않으면 실행 시간이 너무 오래 걸린다.\n",
    "\n",
    "```\n",
    "이 문장을 출력하는데 T 초 걸렸습니다.\n",
    "```\n",
    "\n",
    "힌트: `time` 모듈의 `sleep()` 함수 활용"
   ]
  },
  {
   "cell_type": "code",
   "execution_count": 1,
   "id": "f0e3ebbf",
   "metadata": {},
   "outputs": [],
   "source": [
    "# 코드를 작성한다.\n",
    "# 필요하면 코드셀 또는 텍스트셀을 추가할 수 있습니다.\n",
    "\n"
   ]
  },
  {
   "cell_type": "markdown",
   "id": "f9292590",
   "metadata": {},
   "source": [
    "**질문 2**"
   ]
  },
  {
   "cell_type": "markdown",
   "id": "0fc04efe",
   "metadata": {},
   "source": [
    "`wait(3)`이 호출되어 실행되는 시간을 계산하는 코드를 작성하라.\n",
    "단, 소수점 이하는 버린다.\n",
    "\n",
    "힌트: `int()` 함수와 `time` 모듈의 `time()` 함수 활용"
   ]
  },
  {
   "cell_type": "code",
   "execution_count": 1,
   "id": "e79ee07d",
   "metadata": {},
   "outputs": [],
   "source": [
    "# 코드를 작성한다.\n",
    "# 필요하면 코드셀 또는 텍스트셀을 추가할 수 있습니다.\n",
    "\n"
   ]
  },
  {
   "cell_type": "markdown",
   "id": "e55081ec",
   "metadata": {},
   "source": [
    "## 문제 6"
   ]
  },
  {
   "cell_type": "markdown",
   "id": "b4a6df1f",
   "metadata": {},
   "source": [
    "두 개의 주사위 던지기를 시뮬레이션 하는 코드를 작성하라.\n",
    "단, `random` 모듈의 `randint()` 함수를 이용한다.\n",
    "또한 두 개의 주사위를 던졌을 때 나온 숫자 두 개를 표현하는 이미지를 모방하는 문자열을 이용한다."
   ]
  },
  {
   "cell_type": "markdown",
   "id": "5f910331",
   "metadata": {},
   "source": [
    "힌트: 아래 함수를 이용한다."
   ]
  },
  {
   "cell_type": "code",
   "execution_count": 7,
   "id": "cc9dc013",
   "metadata": {},
   "outputs": [],
   "source": [
    "def print_dice(dice_number):\n",
    "    if dice_number == 1:\n",
    "        print(\"|     |\")\n",
    "        print(\"|  0  |\")\n",
    "        print(\"|     |\")\n",
    "    if dice_number == 2:\n",
    "        print(\"|0    |\")\n",
    "        print(\"|     |\")\n",
    "        print(\"|    0|\")\n",
    "    if dice_number == 3:\n",
    "        print(\"|0    |\")\n",
    "        print(\"|  0  |\")\n",
    "        print(\"|    0|\")\n",
    "    if dice_number == 4:\n",
    "        print(\"|0   0|\")\n",
    "        print(\"|     |\")\n",
    "        print(\"|0   0|\")\n",
    "    if dice_number == 5:\n",
    "        print(\"|0   0|\")\n",
    "        print(\"|  0  |\")\n",
    "        print(\"|0   0|\")\n",
    "    if dice_number == 6:\n",
    "        print(\"|0   0|\")\n",
    "        print(\"|0   0|\")\n",
    "        print(\"|0   0|\")    "
   ]
  },
  {
   "cell_type": "code",
   "execution_count": 1,
   "id": "4408849a",
   "metadata": {},
   "outputs": [],
   "source": [
    "# 코드를 작성한다.\n",
    "# 필요하면 코드셀 또는 텍스트셀을 추가할 수 있습니다.\n",
    "\n"
   ]
  },
  {
   "cell_type": "markdown",
   "id": "53cbd739",
   "metadata": {},
   "source": [
    "## 문제 7"
   ]
  },
  {
   "cell_type": "markdown",
   "id": "29b07f1f",
   "metadata": {},
   "source": [
    "베스킨라빈스 31 게임은 두 사람이 참여하며 마지막에 31을 부른 사람이 지는 게임으로 규칙은 다음과 같다.\n",
    "\n",
    "* 참여자들은 번갈아가며 1부터 31까지의 수를 순서대로 부른다.\n",
    "* 한번에 1~3개의 수를 부를 수 있다.\n",
    "\n",
    "예를 들어, playerA가 1, 2, 3을 부르면, playerB는 4 또는 4, 5 또는 4, 5, 6를 부를 수 있다.\n",
    "\n",
    "두 대의 컴퓨터 playerA와 playerB가 진행하는 베스킨라벤스 31 게임을 다음과 같이 구현할 수 있다.\n",
    "\n",
    "아래 코드의 `beskinRobbins31()` 함수를 실행하면 \n",
    "playerA와 playerB 모두 승리 전략이 없이 무작위로 숫자를 부르고 31을 부르는 컴퓨터가 결정되면\n",
    "해당 컴퓨터 이름을 반환한다.\n",
    "원래 각 컴퓨터가 부르는 숫자를 화면에 출력해야 게임이 진행되는 과정을 볼 수 있지만 생략하고 최종 결과만 보여주도록 하였다."
   ]
  },
  {
   "cell_type": "code",
   "execution_count": 65,
   "id": "deffb0b1",
   "metadata": {},
   "outputs": [],
   "source": [
    "import random\n",
    "\n",
    "def beskinRobbins31():\n",
    "    final = 31 # 언급되면 지는 숫자\n",
    "    call = 0   # 마지막으로 언급된 숫자 기억\n",
    "    player = 0 # 숫자를 불러야 하는 게임 참여자. 0은 playerA, 1은 playerB를 가리킴.\n",
    "\n",
    "    while call < final:\n",
    "\n",
    "        if player == 1:\n",
    "            player_name = 'playerB'\n",
    "        else:\n",
    "            player_name = 'playerA'\n",
    "\n",
    "        number = random.randint(1, 3)\n",
    "\n",
    "        count = 0\n",
    "        while count < number:\n",
    "            call += 1\n",
    "            if call == final:\n",
    "                return player_name\n",
    "            count += 1\n",
    "\n",
    "        player = (player + 1) % 2"
   ]
  },
  {
   "cell_type": "code",
   "execution_count": 72,
   "id": "bc29ab12",
   "metadata": {},
   "outputs": [
    {
     "name": "stdout",
     "output_type": "stream",
     "text": [
      "playerA가 졌습니다.\n"
     ]
    }
   ],
   "source": [
    "print(beskinRobbins31() + \"가 졌습니다.\")"
   ]
  },
  {
   "cell_type": "code",
   "execution_count": 73,
   "id": "5ef08f47",
   "metadata": {},
   "outputs": [
    {
     "name": "stdout",
     "output_type": "stream",
     "text": [
      "playerB가 졌습니다.\n"
     ]
    }
   ],
   "source": [
    "print(beskinRobbins31() + \"가 졌습니다.\")"
   ]
  },
  {
   "cell_type": "markdown",
   "id": "80e80f75",
   "metadata": {},
   "source": [
    "**질문**\n",
    "\n",
    "`beskingRobbins31()` 게임을 십만 번 진행했을 때 각 컴퓨터의 승률를 확인하는 코드를 작성해서 두 참여자 각각 50%의 승률을 가짐을 보여라."
   ]
  },
  {
   "cell_type": "code",
   "execution_count": 1,
   "id": "c4a0d588",
   "metadata": {},
   "outputs": [],
   "source": [
    "# 코드를 작성한다.\n",
    "# 필요하면 코드셀 또는 텍스트셀을 추가할 수 있습니다.\n",
    "\n"
   ]
  },
  {
   "cell_type": "markdown",
   "id": "6e347942",
   "metadata": {},
   "source": [
    "## 문제 8"
   ]
  },
  {
   "cell_type": "markdown",
   "id": "ee38d99c",
   "metadata": {},
   "source": [
    "베스킨라빈스 31 게임은 두 사람이 참여하며 마지막에 31을 부른 사람이 지는 게임으로 규칙은 다음과 같다.\n",
    "\n",
    "* 참여자들은 번갈아가며 1부터 31까지의 수를 순서대로 부른다.\n",
    "* 한번에 1~3개의 수를 부를 수 있다.\n",
    "\n",
    "예를 들어, playerA가 1, 2, 3을 부르면, playerB는 4 또는 4, 5 또는 4, 5, 6를 부를 수 있다.\n",
    "\n",
    "이 게임은 숫자를 먼저 부르는 사람에 유리하다. \n",
    "이유는 승리 전략이 있기 때문이다. \n",
    "\n",
    "- 상대방이 31을 부르도록 하기 위해 사람이 30을 불러야 한다.\n",
    "- 상대방이 30을 부르지 못하도록 하기 위해 사람이 26을 불러야 한다.\n",
    "- 상대방이 26을 부르지 못하도록 하기 위해 사람이 22을 불러야 한다.\n",
    "- ...\n",
    "- 상대방이 6을 부르지 못하도록 하기 위해 사람이 2을 불러야 한다.\n",
    "- 따라서 먼저 2를 부른 사람이 승리할 수 있다."
   ]
  },
  {
   "cell_type": "markdown",
   "id": "17d383ae",
   "metadata": {},
   "source": [
    "**질문 1**"
   ]
  },
  {
   "cell_type": "markdown",
   "id": "b0abfc59",
   "metadata": {},
   "source": [
    "두 대의 컴퓨터 playerA와 playerB가 진행하는 베스킨라벤스 31 게임을 구현하라.\n",
    "단, playerA 컴퓨터는 승리 전략을 모르는 반면에 playerB 컴퓨터는 승리 전략을 안다고 가정한다.\n",
    "게임 시작은 playerA 컴퓨터가 먼저 시작하고, playerB 컴퓨터는 승리 전략을 적용할 수 있는 기회가 발생하는 순간에\n",
    "바로 승리 전략을 적용하도록 한다."
   ]
  },
  {
   "cell_type": "code",
   "execution_count": 1,
   "id": "c5c5b001",
   "metadata": {},
   "outputs": [],
   "source": [
    "# 코드를 작성한다.\n",
    "# 필요하면 코드셀 또는 텍스트셀을 추가할 수 있습니다.\n",
    "\n"
   ]
  },
  {
   "cell_type": "markdown",
   "id": "30fa663f",
   "metadata": {},
   "source": [
    "**질문 2**"
   ]
  },
  {
   "cell_type": "markdown",
   "id": "314bae19",
   "metadata": {},
   "source": [
    "playerA의 승률이 0은 아니다. \n",
    "이유는 playerA가 의도치 않게 처음부터 끝까지 승리 전략을 유지할 가능성도 있기 때문이다.\n",
    "베스킨라빈스31 게임을 10만 번 진행하는 모의 실험을 통해 playerA의 확률적 승률을 계산하라."
   ]
  },
  {
   "cell_type": "code",
   "execution_count": 1,
   "id": "e52f9d26",
   "metadata": {},
   "outputs": [],
   "source": [
    "# 코드를 작성한다.\n",
    "# 필요하면 코드셀 또는 텍스트셀을 추가할 수 있습니다.\n",
    "\n"
   ]
  }
 ],
 "metadata": {
  "kernelspec": {
   "display_name": "Python 3 (ipykernel)",
   "language": "python",
   "name": "python3"
  },
  "language_info": {
   "codemirror_mode": {
    "name": "ipython",
    "version": 3
   },
   "file_extension": ".py",
   "mimetype": "text/x-python",
   "name": "python",
   "nbconvert_exporter": "python",
   "pygments_lexer": "ipython3",
   "version": "3.11.5"
  }
 },
 "nbformat": 4,
 "nbformat_minor": 5
}
