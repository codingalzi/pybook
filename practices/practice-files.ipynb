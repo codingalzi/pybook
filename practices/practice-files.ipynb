{
 "cells": [
  {
   "cell_type": "markdown",
   "metadata": {},
   "source": [
    "# (실습) 파일"
   ]
  },
  {
   "cell_type": "markdown",
   "metadata": {},
   "source": [
    "파일 저장 디렉토리 지정"
   ]
  },
  {
   "cell_type": "code",
   "execution_count": 4,
   "metadata": {},
   "outputs": [],
   "source": [
    "from pathlib import Path\n",
    "\n",
    "data_path = Path() / \"data\""
   ]
  },
  {
   "cell_type": "markdown",
   "metadata": {},
   "source": [
    "지정된 디렉토리 생성"
   ]
  },
  {
   "cell_type": "code",
   "execution_count": 5,
   "metadata": {},
   "outputs": [],
   "source": [
    "data_path.mkdir(parents=True, exist_ok=True)"
   ]
  },
  {
   "cell_type": "markdown",
   "metadata": {},
   "source": [
    "파일 다운로드와 저장 함수"
   ]
  },
  {
   "cell_type": "code",
   "execution_count": 8,
   "metadata": {},
   "outputs": [],
   "source": [
    "import urllib.request\n",
    "\n",
    "def myWget(filename):\n",
    "    base_url = \"https://raw.githubusercontent.com/codingalzi/pybook/master/jupyter-book/data/\"\n",
    "    file_url = base_url + filename\n",
    "\n",
    "    target_path = data_path / filename\n",
    "\n",
    "    return urllib.request.urlretrieve(file_url, target_path)"
   ]
  },
  {
   "cell_type": "markdown",
   "metadata": {},
   "source": [
    "**문제 1**"
   ]
  },
  {
   "cell_type": "markdown",
   "metadata": {
    "id": "gSF_tBKvfg9V"
   },
   "source": [
    "`shopA.txt` 파일은 쇼핑몰A에서 판매하는 상품의 가격을 담고 있음을 확인해보자.\n",
    "먼저 해당 파일을 다운로드 한다."
   ]
  },
  {
   "cell_type": "code",
   "execution_count": 9,
   "metadata": {},
   "outputs": [
    {
     "data": {
      "text/plain": [
       "(PosixPath('data/shopA.txt'), <http.client.HTTPMessage at 0x7f658059f2e0>)"
      ]
     },
     "execution_count": 9,
     "metadata": {},
     "output_type": "execute_result"
    }
   ],
   "source": [
    "myWget(\"shopA.txt\")"
   ]
  },
  {
   "cell_type": "markdown",
   "metadata": {},
   "source": [
    "이제 파일 전체 내용을 출력하는 코드를 작성하라.\n",
    "\n",
    "힌트: `open()` 함수와 `with-as` 명령문 활용"
   ]
  },
  {
   "cell_type": "code",
   "execution_count": null,
   "metadata": {},
   "outputs": [],
   "source": [
    "# 코드를 작성하세요.\n",
    "\n"
   ]
  },
  {
   "cell_type": "markdown",
   "metadata": {
    "id": "w86OM5AKF6-o"
   },
   "source": [
    "**문제 2**"
   ]
  },
  {
   "cell_type": "markdown",
   "metadata": {
    "id": "dVe6tYetAdhc"
   },
   "source": [
    "`shopA.txt` 파일의 내용을 확인하면, 오타가 있다. \n",
    "'오레ㄴ지' 를 '오렌지'로 변경한 후에\n",
    "`shopA.txt` 파일을 열어 오타가 수정되었는지를 확인하여라.  \n",
    "\n",
    "힌트: 파일의 `read()` 메서드, 문자열의 `replace()` 메서드"
   ]
  },
  {
   "cell_type": "markdown",
   "metadata": {},
   "source": [
    "* 파일 읽기: `read()` 메서드 활용"
   ]
  },
  {
   "cell_type": "code",
   "execution_count": 10,
   "metadata": {},
   "outputs": [],
   "source": [
    "# 파일내용을 하나의 문자열로 생성하는 코드를 작성하라.\n",
    "\n"
   ]
  },
  {
   "cell_type": "markdown",
   "metadata": {},
   "source": [
    "* 오타 수정: `replace()` 문자열 메서드 활용"
   ]
  },
  {
   "cell_type": "code",
   "execution_count": 11,
   "metadata": {},
   "outputs": [],
   "source": [
    "# 오타를 수정하는 코드를 작성하라.\n",
    "\n"
   ]
  },
  {
   "cell_type": "markdown",
   "metadata": {},
   "source": [
    "* 파일 저장"
   ]
  },
  {
   "cell_type": "code",
   "execution_count": 12,
   "metadata": {},
   "outputs": [],
   "source": [
    "# 오타가 수정된 문자열을 파일로 저장하는 코드를 작성하라.\n",
    "\n"
   ]
  },
  {
   "cell_type": "markdown",
   "metadata": {},
   "source": [
    "* 파일 내용 확인"
   ]
  },
  {
   "cell_type": "code",
   "execution_count": 13,
   "metadata": {},
   "outputs": [],
   "source": [
    "# 오타가 수정되었음을 확인하는 코드를 작성하라.\n",
    "\n"
   ]
  },
  {
   "cell_type": "markdown",
   "metadata": {},
   "source": [
    "**문제 3**"
   ]
  },
  {
   "cell_type": "markdown",
   "metadata": {
    "id": "egoqIohm-4a8"
   },
   "source": [
    "상품명과 가격을 키-값의 쌍으로 갖는 아래 모양의 딕셔너리를 만들어라.\n",
    "단, 오타가 수정된 파일을 이용해야 한다.\n",
    "\n",
    "```python\n",
    "{'우유': 2540,\n",
    " '계란': 7480,\n",
    " '생수': 980,\n",
    " '짜장라면': 3220,\n",
    " '두부': 1450,\n",
    " '콩나물': 1680,\n",
    " '김': 5480,\n",
    " '닭고기': 5980,\n",
    " '식빵': 2480,\n",
    " '바나나': 4980,\n",
    " '오렌지': 990,\n",
    " '카레': 2480,\n",
    " '만두': 6980,\n",
    " '어묵': 7980,\n",
    " '참치': 11880,\n",
    " '김치': 7980,\n",
    " '간장': 10800}\n",
    "```"
   ]
  },
  {
   "cell_type": "markdown",
   "metadata": {
    "id": "agiH0quMBxIb"
   },
   "source": [
    "## 4단계\n",
    "\n",
    "4단계) 상품명과 가격을 담고 있는 파일의 이름을 입력받아 상품명을 key, 가격을 value로 하는 딕셔너리를 리턴하는 함수`shopping`를 만들어라. \n",
    "\n",
    "예를 들면, 아래와 같다(딕셔너리의 항목 일부 생략함)\n",
    "```\n",
    "In [5]: shopping('/content/shopA.txt')\n",
    "Out[5]: {'우유' : 2540, '계란' : 7480, '생수' : 980}\n",
    "```"
   ]
  },
  {
   "cell_type": "markdown",
   "metadata": {
    "id": "j-wohEImNwJ8"
   },
   "source": [
    "[guide] 3단계까지 작성한 코드를 이용하여 함수를 정의하자"
   ]
  },
  {
   "cell_type": "code",
   "execution_count": null,
   "metadata": {
    "colab": {
     "base_uri": "https://localhost:8080/"
    },
    "executionInfo": {
     "elapsed": 618,
     "status": "ok",
     "timestamp": 1619154109230,
     "user": {
      "displayName": "Kyungho Lee",
      "photoUrl": "https://lh3.googleusercontent.com/a-/AOh14GjvtkL3ZVCUbwlviFfrh0VjjiMUuul3z7PbjJVCgQs=s64",
      "userId": "07228708431473169168"
     },
     "user_tz": -540
    },
    "id": "88mjQ9cRNZ2W",
    "outputId": "46bbdfbc-d62d-4f24-fc45-7687133da3b7"
   },
   "outputs": [
    {
     "name": "stdout",
     "output_type": "stream",
     "text": [
      "{'우유': 2540, '계란': 7480, '생수': 980, '짜장라면': 3220, '두부': 1450, '콩나물': 1680, '김': 5480, '닭고기': 5980, '식빵': 2480, '바나나': 4980, '오렌지': 990, '카레': 2480, '만두': 6980, '어묵': 7980, '참치': 11880, '김치': 7980, '간장': 10800}\n"
     ]
    }
   ],
   "source": [
    "# 함수 정의\n",
    "\n",
    "def shopping(shop_path) :\n",
    "  shop = open(shop_path,'r')\n",
    "\n",
    "  shop_dict = {}\n",
    "\n",
    "  for line in shop:\n",
    "    try : \n",
    "      (product, price) = line.strip().split() \n",
    "      shop_dict[product] = int(price.replace(\"원\",\"\")) \n",
    "    except:\n",
    "      continue\n",
    "\n",
    "  shop.close()\n",
    "\n",
    "  return shop_dict\n",
    "\n",
    "\n",
    "\n",
    "## 함수를 이용하여 리턴된 딕셔너리를 확인하자\n",
    "shop_path = \"drive/MyDrive/shopA_revised.txt\"\n",
    "shopA_dict = shopping(shop_path)\n",
    "print(shopA_dict)"
   ]
  },
  {
   "cell_type": "markdown",
   "metadata": {
    "id": "HjYVtYpwB5C2"
   },
   "source": [
    "## 5단계\n",
    "\n",
    "5단계) 판매하는 상품을 보여준 다음, 사용자가 상품을 입력하면 상품의 가격이 얼마인지를 알려주는 코드를 작성하여라."
   ]
  },
  {
   "cell_type": "markdown",
   "metadata": {
    "id": "3woCAGdTObHm"
   },
   "source": [
    "[Guide] \n",
    "\n",
    "1. 판매하는 상품을 보여준다.\n",
    "\n",
    "2. 4단계의 함수를 이용하여 상품과 가격을 Key, Value로 담은 딕셔너리를 return 받는다.\n",
    "\n",
    "3. 상품을 입력받는다.\n",
    "\n",
    "4. 2.에서 구한 딕셔너리로 가격을 보여준다  \n"
   ]
  },
  {
   "cell_type": "code",
   "execution_count": null,
   "metadata": {
    "colab": {
     "base_uri": "https://localhost:8080/"
    },
    "executionInfo": {
     "elapsed": 3788,
     "status": "ok",
     "timestamp": 1619154201934,
     "user": {
      "displayName": "Kyungho Lee",
      "photoUrl": "https://lh3.googleusercontent.com/a-/AOh14GjvtkL3ZVCUbwlviFfrh0VjjiMUuul3z7PbjJVCgQs=s64",
      "userId": "07228708431473169168"
     },
     "user_tz": -540
    },
    "id": "WOsM3ngUOuAe",
    "outputId": "19ebaab4-d6ec-4b90-f4c4-7e2813bf6ca6"
   },
   "outputs": [
    {
     "name": "stdout",
     "output_type": "stream",
     "text": [
      "#쇼핑몰 A\n",
      "\n",
      "우유 2540원\n",
      "계란 7480원\n",
      "생수 980원\n",
      "짜장라면 3220원\n",
      "두부 1450원\n",
      "콩나물 1680원\n",
      "김 5480원\n",
      "닭고기 5980원\n",
      "식빵 2480원\n",
      "바나나 4980원\n",
      "오렌지 990원\n",
      "카레 2480원\n",
      "만두 6980원\n",
      "어묵 7980원\n",
      "참치 11880원\n",
      "김치 7980원\n",
      "간장 10800원\n",
      "구매하실 상품을 입력해주세요 : 김치\n",
      "김치의 가격은 7980원입니다.\n"
     ]
    }
   ],
   "source": [
    "# 함수 정의 \n",
    "\n",
    "def shopping(shop_path) :\n",
    "  shop = open(shop_path,'r')\n",
    "\n",
    "  shop_dict = {}\n",
    "\n",
    "  for line in shop:\n",
    "    try : \n",
    "      (product, price) = line.strip().split() \n",
    "      shop_dict[product] = int(price.replace(\"원\",\"\")) \n",
    "    except:\n",
    "      continue\n",
    "  \n",
    "  shop.close()\n",
    "\n",
    "  return shop_dict\n",
    "\n",
    "\n",
    "# 1. 상품 보여주기\n",
    "shop_path = \"drive/MyDrive/shopA_revised.txt\"\n",
    "\n",
    "with open(shop_path, 'r') as shop :\n",
    "  print(shop.read())\n",
    "\n",
    "# 2. 딕셔너리 리턴\n",
    "shopA_dict = shopping(shop_path)\n",
    "\n",
    "# 3. 입력받기\n",
    "try:\n",
    "  want_to_buy = input(\"구매하실 상품을 입력해주세요 : \")\n",
    "  print( want_to_buy + \"의 가격은 \" + str(shopA_dict[want_to_buy]) + \"원입니다.\") # 쇼핑몰에 없는 상품을 입력하면 KeyError가 발생한다. -> 에러처리\n",
    "except KeyError:\n",
    "  print(\"상품명을 확인해주세요.\") "
   ]
  },
  {
   "cell_type": "markdown",
   "metadata": {
    "id": "pkua4TgcEgut"
   },
   "source": [
    "## 6단계\n",
    "\n",
    "6단계) `shopB.txt`파일은 쇼핑몰B에서 판매하는 상품의 가격을 담고 있다.  \n",
    "사용자가 상품을 입력하면, 쇼핑몰A,B 중 어느 쇼핑몰에서 구입하는 것이 얼마나 저렴한지를 보여주는 코드를 작성하여라.  "
   ]
  },
  {
   "cell_type": "markdown",
   "metadata": {
    "id": "6pKOE4_yRowJ"
   },
   "source": [
    "[Guide] \n",
    "\n",
    "1. shopping 함수를 이용하여 쇼핑몰 A와 쇼핑몰 B의 딕셔너리를 구한 뒤,\n",
    "2. 구매를 원하는 상품을 입력받고\n",
    "3. 가격을 비교하자"
   ]
  },
  {
   "cell_type": "code",
   "execution_count": null,
   "metadata": {
    "id": "pCoCerstR8Z0"
   },
   "outputs": [],
   "source": [
    "# 구글 드라이브를 연동하지 않은 경우에는 shopB.txt 를 따로 올려주어야 한다.\n",
    "# 여기선 1단계에서 연동한 구글 드라이브를 활용한다."
   ]
  },
  {
   "cell_type": "code",
   "execution_count": null,
   "metadata": {
    "colab": {
     "base_uri": "https://localhost:8080/"
    },
    "executionInfo": {
     "elapsed": 6101,
     "status": "ok",
     "timestamp": 1619154480805,
     "user": {
      "displayName": "Kyungho Lee",
      "photoUrl": "https://lh3.googleusercontent.com/a-/AOh14GjvtkL3ZVCUbwlviFfrh0VjjiMUuul3z7PbjJVCgQs=s64",
      "userId": "07228708431473169168"
     },
     "user_tz": -540
    },
    "id": "Tj1KHXOdR4OK",
    "outputId": "8a9a4cf5-681c-420f-e448-91db05006ad1"
   },
   "outputs": [
    {
     "name": "stdout",
     "output_type": "stream",
     "text": [
      "#쇼핑몰 A\n",
      "\n",
      "우유 2540원\n",
      "계란 7480원\n",
      "생수 980원\n",
      "짜장라면 3220원\n",
      "두부 1450원\n",
      "콩나물 1680원\n",
      "김 5480원\n",
      "닭고기 5980원\n",
      "식빵 2480원\n",
      "바나나 4980원\n",
      "오렌지 990원\n",
      "카레 2480원\n",
      "만두 6980원\n",
      "어묵 7980원\n",
      "참치 11880원\n",
      "김치 7980원\n",
      "간장 10800원\n",
      "\n",
      "\n",
      "#쇼핑몰 B\n",
      "\n",
      "우유 2270원\n",
      "계란 7520원\n",
      "생수 1010원\n",
      "짜장라면 3210원\n",
      "두부 1150원\n",
      "콩나물 1980원\n",
      "김 5290원\n",
      "닭고기 6000원\n",
      "식빵 1990원\n",
      "바나나 4990원\n",
      "오렌지 1050원\n",
      "카레 2400원\n",
      "만두 7400원\n",
      "어묵 6980원\n",
      "참치 11580원\n",
      "김치 8480원\n",
      "간장 9900원\n",
      "구매하실 상품을 입력해주세요 : 참치\n",
      "ShopB에서 300원 더 저렴합니다.\n"
     ]
    }
   ],
   "source": [
    "# 함수 정의 \n",
    "\n",
    "def shopping(shop_path) :\n",
    "  shop = open(shop_path,'r')\n",
    "\n",
    "  shop_dict = {}\n",
    "\n",
    "  for line in shop:\n",
    "    try : \n",
    "      (product, price) = line.strip().split() \n",
    "      shop_dict[product] = int(price.replace(\"원\",\"\")) \n",
    "    except:\n",
    "      continue\n",
    "\n",
    "  shop.close()\n",
    "\n",
    "  return shop_dict\n",
    "\n",
    "def show_items(shop_path):\n",
    "  with open(shop_path, 'r') as shop :\n",
    "   print(shop.read())\n",
    "\n",
    "# 상품 보여주기\n",
    "shopA_path = \"drive/MyDrive/shopA_revised.txt\"\n",
    "shopB_path = \"drive/MyDrive/shopB.txt\"\n",
    "\n",
    "show_items(shopA_path)\n",
    "print(\"\\n\") # 이쁘게 print하기 위해 추가.\n",
    "show_items(shopB_path)\n",
    "\n",
    "# 딕셔너리 리턴\n",
    "shopA_dict = shopping(shopA_path)\n",
    "shopB_dict = shopping(shopB_path)\n",
    "\n",
    "try :\n",
    "  \n",
    "  # 입력받기\n",
    "  want_to_buy = input(\"구매하실 상품을 입력해주세요 : \")\n",
    "\n",
    "  # 가격비교하기\n",
    "  if   shopA_dict[want_to_buy] > shopB_dict[want_to_buy] : \n",
    "    dif = shopA_dict[want_to_buy] - shopB_dict[want_to_buy]\n",
    "    print(\"ShopB에서 \" + str(dif) + \"원 더 저렴합니다.\")\n",
    "\n",
    "  elif shopA_dict[want_to_buy] < shopB_dict[want_to_buy] : \n",
    "    dif = shopB_dict[want_to_buy] - shopA_dict[want_to_buy]\n",
    "    print(\"ShopA에서 \" + str(dif) + \"원 더 저렴합니다.\")\n",
    "\n",
    "  else :\n",
    "    print(\"가격이 동일합니다.\")\n",
    "\n",
    "except KeyError :\n",
    "  print(\"상품명을 확인해주세요.\")  \n"
   ]
  },
  {
   "cell_type": "markdown",
   "metadata": {
    "id": "fnwnwA5vOGv-"
   },
   "source": [
    "```\n",
    "\n",
    "\n",
    "\n",
    "\n",
    "\n",
    "\n",
    "\n",
    "\n",
    ".\n",
    "```"
   ]
  },
  {
   "cell_type": "markdown",
   "metadata": {
    "id": "iDzpAWGFF0CC"
   },
   "source": [
    "연습을 더 하고 싶다면, 아래의 문제를 풀어보세요!  "
   ]
  },
  {
   "cell_type": "markdown",
   "metadata": {
    "id": "d44zrAopF8Wq"
   },
   "source": [
    "**[추가문제]**"
   ]
  },
  {
   "cell_type": "markdown",
   "metadata": {
    "id": "pEr4KlfJH27O"
   },
   "source": [
    "## 7단계\n",
    "\n",
    "7단계) 사용자가 프로그램이 종료되길 원할 때까지 상품을 입력받아라."
   ]
  },
  {
   "cell_type": "markdown",
   "metadata": {
    "id": "Ru9ORX25Ucbb"
   },
   "source": [
    "[Guide] while문을 이용하여서 작성할 수 있다.\n",
    "\n",
    "1. continue_shopping = 1 을 할당하고, 특정 조건에서 continue_shopping = 0이 되게 바꾼다.\n",
    "\n",
    "2. 특정 조건은 사용자가 프로그램 종료를 원할 때이다."
   ]
  },
  {
   "cell_type": "code",
   "execution_count": null,
   "metadata": {
    "colab": {
     "base_uri": "https://localhost:8080/"
    },
    "executionInfo": {
     "elapsed": 9252,
     "status": "ok",
     "timestamp": 1619154828302,
     "user": {
      "displayName": "Kyungho Lee",
      "photoUrl": "https://lh3.googleusercontent.com/a-/AOh14GjvtkL3ZVCUbwlviFfrh0VjjiMUuul3z7PbjJVCgQs=s64",
      "userId": "07228708431473169168"
     },
     "user_tz": -540
    },
    "id": "aBWMn061Uha1",
    "outputId": "986a343d-7684-42e6-fb5e-7c1fd8ddfdc1"
   },
   "outputs": [
    {
     "name": "stdout",
     "output_type": "stream",
     "text": [
      "#쇼핑몰 A\n",
      "\n",
      "우유 2540원\n",
      "계란 7480원\n",
      "생수 980원\n",
      "짜장라면 3220원\n",
      "두부 1450원\n",
      "콩나물 1680원\n",
      "김 5480원\n",
      "닭고기 5980원\n",
      "식빵 2480원\n",
      "바나나 4980원\n",
      "오렌지 990원\n",
      "카레 2480원\n",
      "만두 6980원\n",
      "어묵 7980원\n",
      "참치 11880원\n",
      "김치 7980원\n",
      "간장 10800원\n",
      "\n",
      "\n",
      "#쇼핑몰 B\n",
      "\n",
      "우유 2270원\n",
      "계란 7520원\n",
      "생수 1010원\n",
      "짜장라면 3210원\n",
      "두부 1150원\n",
      "콩나물 1980원\n",
      "김 5290원\n",
      "닭고기 6000원\n",
      "식빵 1990원\n",
      "바나나 4990원\n",
      "오렌지 1050원\n",
      "카레 2400원\n",
      "만두 7400원\n",
      "어묵 6980원\n",
      "참치 11580원\n",
      "김치 8480원\n",
      "간장 9900원\n",
      "구매하실 상품을 입력해주세요 : 김치\n",
      "ShopA에서 500원 더 저렴합니다.\n",
      "계속 쇼핑하시겠습니까? (y/n)y\n",
      "구매하실 상품을 입력해주세요 : 간장\n",
      "ShopB에서 900원 더 저렴합니다.\n",
      "계속 쇼핑하시겠습니까? (y/n)n\n",
      "쇼핑을 종료합니다 :)\n"
     ]
    }
   ],
   "source": [
    "# 함수 정의\n",
    "\n",
    "def shopping(shop_path) :\n",
    "  shop = open(shop_path,'r')\n",
    "\n",
    "  shop_dict = {}\n",
    "\n",
    "  for line in shop:\n",
    "    try : \n",
    "      (product, price) = line.strip().split() \n",
    "      shop_dict[product] = int(price.replace(\"원\",\"\")) \n",
    "    except:\n",
    "      continue\n",
    "\n",
    "  shop.close()\n",
    "\n",
    "  return shop_dict\n",
    "\n",
    "def show_items(shop_path):\n",
    "  with open(shop_path, 'r') as shop :\n",
    "   print(shop.read())\n",
    "\n",
    "#------------------------------------------------------------#\n",
    "\n",
    "# 쇼핑몰 보여주기\n",
    "shopA_path = \"drive/MyDrive/shopA_revised.txt\"\n",
    "shopB_path = \"drive/MyDrive/shopB.txt\"\n",
    "show_items(shopA_path)\n",
    "print(\"\\n\")\n",
    "show_items(shopB_path)\n",
    "\n",
    "# 딕셔너리 리턴\n",
    "shopA_dict = shopping(shopA_path)\n",
    "shopB_dict = shopping(shopB_path)\n",
    "\n",
    "# 쇼핑을 계속할지 알려주는 변수\n",
    "continue_shopping = 1\n",
    "\n",
    "while continue_shopping :\n",
    "\n",
    "\n",
    "  try:\n",
    "    want_to_buy = input(\"구매하실 상품을 입력해주세요 : \")\n",
    "\n",
    "    # 가격비교\n",
    "    if shopA_dict[want_to_buy] > shopB_dict[want_to_buy] : \n",
    "      dif = shopA_dict[want_to_buy] - shopB_dict[want_to_buy]\n",
    "      print(\"ShopB에서 \" + str(dif) + \"원 더 저렴합니다.\")\n",
    "\n",
    "    elif shopA_dict[want_to_buy] < shopB_dict[want_to_buy] : \n",
    "      dif = shopB_dict[want_to_buy] - shopA_dict[want_to_buy]\n",
    "      print(\"ShopA에서 \" + str(dif) + \"원 더 저렴합니다.\")\n",
    "\n",
    "    else :\n",
    "      print(\"가격이 동일합니다.\")\n",
    "\n",
    "  except KeyError :\n",
    "    print(\"상품명을 확인해주세요.\")\n",
    "\n",
    "  want_to_continue = input(\"계속 쇼핑하시겠습니까? (y/n)\")\n",
    "  if want_to_continue == 'n':\n",
    "    continue_shopping = 0\n",
    "    print(\"쇼핑을 종료합니다 :)\")"
   ]
  },
  {
   "cell_type": "markdown",
   "metadata": {
    "id": "rFE1lqlDH6_V"
   },
   "source": [
    "## 8단계\n",
    "\n",
    "8단계) 아래의 내용을 담은 `shopping_record.txt` 파일을 만들어라. \n",
    " \n",
    "* 사용자가 입력한 상품명.\n",
    "* 상품의 가격. 이때 두 쇼핑몰의 상품 가격 중 저렴한 것으로 저장. \n",
    "* 쇼핑몰 이름.\n",
    "\n",
    "예를 들어, 사용자가 생수(쇼핑몰A 980원, 쇼핑몰B 1010원)를 입력했다면, 아래와 같이 저장한다. \n",
    "\n",
    "```\n",
    "생수 980원 쇼핑몰A\n",
    "```\n",
    "\n",
    "* 주문한 상품의 총 가격."
   ]
  },
  {
   "cell_type": "markdown",
   "metadata": {
    "id": "kEdqi6HqV-n5"
   },
   "source": [
    "[Guide]\n",
    "\n",
    "1. 사용자가 입력한 상품명, 가장 저렴한 가격, 저렴한 쇼핑몰을 기록하는 리스트를 할당하자.\n",
    "\n",
    "2. 계속해서 리스트에 append해주고 \n",
    "\n",
    "3. 프로그램이 종료된 후 리스트를 이용하여서 txt 파일을 쓰자\n",
    "\n"
   ]
  },
  {
   "cell_type": "code",
   "execution_count": null,
   "metadata": {
    "colab": {
     "base_uri": "https://localhost:8080/"
    },
    "executionInfo": {
     "elapsed": 16771,
     "status": "ok",
     "timestamp": 1619155272101,
     "user": {
      "displayName": "Kyungho Lee",
      "photoUrl": "https://lh3.googleusercontent.com/a-/AOh14GjvtkL3ZVCUbwlviFfrh0VjjiMUuul3z7PbjJVCgQs=s64",
      "userId": "07228708431473169168"
     },
     "user_tz": -540
    },
    "id": "C4gBV8ckXb0S",
    "outputId": "fea284b4-1066-4272-b3a6-c3c6c9c09fdd"
   },
   "outputs": [
    {
     "name": "stdout",
     "output_type": "stream",
     "text": [
      "#쇼핑몰 A\n",
      "\n",
      "우유 2540원\n",
      "계란 7480원\n",
      "생수 980원\n",
      "짜장라면 3220원\n",
      "두부 1450원\n",
      "콩나물 1680원\n",
      "김 5480원\n",
      "닭고기 5980원\n",
      "식빵 2480원\n",
      "바나나 4980원\n",
      "오렌지 990원\n",
      "카레 2480원\n",
      "만두 6980원\n",
      "어묵 7980원\n",
      "참치 11880원\n",
      "김치 7980원\n",
      "간장 10800원\n",
      "\n",
      "\n",
      "#쇼핑몰 B\n",
      "\n",
      "우유 2270원\n",
      "계란 7520원\n",
      "생수 1010원\n",
      "짜장라면 3210원\n",
      "두부 1150원\n",
      "콩나물 1980원\n",
      "김 5290원\n",
      "닭고기 6000원\n",
      "식빵 1990원\n",
      "바나나 4990원\n",
      "오렌지 1050원\n",
      "카레 2400원\n",
      "만두 7400원\n",
      "어묵 6980원\n",
      "참치 11580원\n",
      "김치 8480원\n",
      "간장 9900원\n",
      "구매하실 상품을 입력해주세요 : 김치\n",
      "ShopA에서 500원 더 저렴합니다.\n",
      "계속 쇼핑하시겠습니까? (y/n)y\n",
      "구매하실 상품을 입력해주세요 : 바나나\n",
      "ShopA에서 10원 더 저렴합니다.\n",
      "계속 쇼핑하시겠습니까? (y/n)y\n",
      "구매하실 상품을 입력해주세요 : 식빵\n",
      "ShopB에서 490원 더 저렴합니다.\n",
      "계속 쇼핑하시겠습니까? (y/n)n\n",
      "쇼핑을 종료합니다 :)\n",
      "\n",
      "\n",
      "### 구매내역 ###\n",
      "김치 7980원 쇼핑몰A\n",
      "바나나 4980원 쇼핑몰A\n",
      "식빵 1990원 쇼핑몰B\n",
      "\n"
     ]
    }
   ],
   "source": [
    "# 함수 정의 \n",
    "\n",
    "def shopping(shop_path) :\n",
    "  shop = open(shop_path,'r')\n",
    "\n",
    "  shop_dict = {}\n",
    "\n",
    "  for line in shop:\n",
    "    try : \n",
    "      (product, price) = line.strip().split() \n",
    "      shop_dict[product] = int(price.replace(\"원\",\"\"))\n",
    "    except:\n",
    "      continue\n",
    "\n",
    "  shop.close()\n",
    "\n",
    "  return shop_dict\n",
    "\n",
    "def show_items(shop_path):\n",
    "  with open(shop_path, 'r') as shop :\n",
    "   print(shop.read())\n",
    "\n",
    "\n",
    "def list_append(shop_record, want_to_buy, price, shop):\n",
    "\n",
    "  \"\"\" 매개변수 순서: 기록할 리스트, 상품명, 가격, 쇼핑몰\"\"\"\n",
    "\n",
    "  # 입력받은 상품 append\n",
    "  shop_record.append(want_to_buy)\n",
    "  # 더 저렴한 가격 append라인에 붙이기\n",
    "  shop_record.append(price)\n",
    "  # 더 저렴한 쇼핑몰 append라인에 붙이기\n",
    "  shop_record.append(shop)\n",
    "\n",
    "#------------------------------------------------------------#\n",
    "\n",
    "\n",
    "# 쇼핑몰 경로\n",
    "shopA_path = \"drive/MyDrive/shopA_revised.txt\"\n",
    "shopB_path = \"drive/MyDrive/shopB.txt\"\n",
    "\n",
    "# 쇼핑몰 보여주기\n",
    "show_items(shopA_path)\n",
    "print(\"\\n\")\n",
    "show_items(shopB_path)\n",
    "\n",
    "# 딕셔너리 리턴\n",
    "shopA_dict = shopping(shopA_path)\n",
    "shopB_dict = shopping(shopB_path)\n",
    "\n",
    "# shopping_record.txt 생성.\n",
    "shopping_record = open(\"drive/MyDrive/shopping_record.txt\",'w') # 'w'을 매개변수로 주어 write 모드로 open\n",
    "\n",
    "# 상품명과 저렴한 가격, 쇼핑몰을 기록할 리스트\n",
    "shopping_record_content = []\n",
    "\n",
    "# 쇼핑을 계속할지 알려주는 변수\n",
    "continue_shopping = 1\n",
    "\n",
    "while continue_shopping :\n",
    "\n",
    "  # 입력받기\n",
    "\n",
    "  try :\n",
    "    want_to_buy = input(\"구매하실 상품을 입력해주세요 : \")\n",
    "\n",
    "\n",
    "    if shopA_dict[want_to_buy] > shopB_dict[want_to_buy] : \n",
    "      dif = shopA_dict[want_to_buy] - shopB_dict[want_to_buy]\n",
    "      print(\"ShopB에서 \" + str(dif) + \"원 더 저렴합니다.\")\n",
    "        \n",
    "      # shopping_record_content에 append\n",
    "      # 리스트, 상품, 가격,  쇼핑몰 순\n",
    "      list_append(shopping_record_content, want_to_buy, shopB_dict[want_to_buy], \"쇼핑몰B\")\n",
    "\n",
    "    elif shopA_dict[want_to_buy] < shopB_dict[want_to_buy] : \n",
    "      dif = shopB_dict[want_to_buy] - shopA_dict[want_to_buy]\n",
    "      print(\"ShopA에서 \" + str(dif) + \"원 더 저렴합니다.\")\n",
    "\n",
    "      # shopping_record_content에 append\n",
    "      # 리스트, 상품, 가격,  쇼핑몰 순\n",
    "      list_append(shopping_record_content, want_to_buy, shopA_dict[want_to_buy],\"쇼핑몰A\")\n",
    "\n",
    "\n",
    "    else :\n",
    "      print(\"가격이 동일합니다.\")\n",
    "      # 가격이 동일하면 쇼핑몰 A 선택\n",
    "      # shopping_record_content에 append\n",
    "      # 리스트, 상품, 가격,  쇼핑몰 순\n",
    "      list_append(shopping_record_content, want_to_buy, shopA_dict[want_to_buy], \"쇼핑몰A\")\n",
    "\n",
    "  except : \n",
    "    print(\"상품명을 확인해주세요.\")\n",
    "    continue\n",
    "\n",
    "\n",
    "  want_to_continue = input(\"계속 쇼핑하시겠습니까? (y/n)\")\n",
    "  if want_to_continue == 'n':\n",
    "    continue_shopping = 0\n",
    "    print(\"쇼핑을 종료합니다 :)\")\n",
    "\n",
    "print(\"\\n\") # 이쁘게 print하기 위해서 추가\n",
    "\n",
    "shopping_record_text = \"### 구매내역 ###\\n\"\n",
    "for i in range(len(shopping_record_content) // 3):\n",
    "  shopping_record_text += shopping_record_content[i*3] + \" \"\n",
    "  shopping_record_text += str(shopping_record_content[i*3 + 1]) + \"원 \"\n",
    "  shopping_record_text += shopping_record_content[i*3 + 2] + \"\\n\"  # 줄 바꿈을 위해서 \\n을 추가\n",
    "\n",
    "shopping_record.write(shopping_record_text) # shopping_record에 shopping_record_text를 써주기 \n",
    "shopping_record.close() # open한 파일은 close를 해준다\n",
    "\n",
    "# shopping_record를 읽어서 확인해보기.\n",
    "\n",
    "with open(\"drive/MyDrive/shopping_record.txt\",'r') as shopping_record:\n",
    "  print(shopping_record.read())"
   ]
  },
  {
   "cell_type": "markdown",
   "metadata": {
    "id": "k3hYl9CVK7IW"
   },
   "source": [
    "## 9단계\n",
    "\n",
    "9단계) 사용자에게 구매할 상품의 개수도 입력받아 `shopping_record.txt` 파일에 저장하여라.  \n",
    "\n",
    "예를 들어, 저장된 내용은 아래와 같다. \n",
    "```\n",
    "생수 980원 2개 쇼핑몰A\n",
    "우유 2270원 1개 쇼핑몰B\n",
    "오렌지 990원 2개 쇼핑몰A\n",
    "=======================\n",
    "총 가격 : 6210원\n",
    "```"
   ]
  },
  {
   "cell_type": "markdown",
   "metadata": {
    "id": "Cm2vSB3yaoRt"
   },
   "source": [
    "[Guide] \n",
    "\n",
    "1. 상품 개수도 입력을 같이받자\n",
    "2. 상품명, 가장 저렴한 가격, 구매수량, 쇼핑몰을 기록하는 리스트를 만들자\n",
    "3. 프로그램이 종료되면, 2.의 리스트를 이용하여서 총 가격과 txt파일에 요구되는 방식대로 기록하자"
   ]
  },
  {
   "cell_type": "code",
   "execution_count": null,
   "metadata": {
    "colab": {
     "base_uri": "https://localhost:8080/"
    },
    "executionInfo": {
     "elapsed": 24981,
     "status": "ok",
     "timestamp": 1619155781984,
     "user": {
      "displayName": "Kyungho Lee",
      "photoUrl": "https://lh3.googleusercontent.com/a-/AOh14GjvtkL3ZVCUbwlviFfrh0VjjiMUuul3z7PbjJVCgQs=s64",
      "userId": "07228708431473169168"
     },
     "user_tz": -540
    },
    "id": "IhT5gIfMeCc6",
    "outputId": "4cd70ed4-9382-4793-c743-481fc0b25be5"
   },
   "outputs": [
    {
     "name": "stdout",
     "output_type": "stream",
     "text": [
      "#쇼핑몰 A\n",
      "\n",
      "우유 2540원\n",
      "계란 7480원\n",
      "생수 980원\n",
      "짜장라면 3220원\n",
      "두부 1450원\n",
      "콩나물 1680원\n",
      "김 5480원\n",
      "닭고기 5980원\n",
      "식빵 2480원\n",
      "바나나 4980원\n",
      "오렌지 990원\n",
      "카레 2480원\n",
      "만두 6980원\n",
      "어묵 7980원\n",
      "참치 11880원\n",
      "김치 7980원\n",
      "간장 10800원\n",
      "\n",
      "\n",
      "#쇼핑몰 B\n",
      "\n",
      "우유 2270원\n",
      "계란 7520원\n",
      "생수 1010원\n",
      "짜장라면 3210원\n",
      "두부 1150원\n",
      "콩나물 1980원\n",
      "김 5290원\n",
      "닭고기 6000원\n",
      "식빵 1990원\n",
      "바나나 4990원\n",
      "오렌지 1050원\n",
      "카레 2400원\n",
      "만두 7400원\n",
      "어묵 6980원\n",
      "참치 11580원\n",
      "김치 8480원\n",
      "간장 9900원\n",
      "구매하실 상품을 입력해주세요 : 만두\n",
      "구매하실 상품의 수량을 입력해주세요 : 2\n",
      "ShopA에서 420원 더 저렴합니다.\n",
      "계속 쇼핑하시겠습니까? (y/n)카레\n",
      "구매하실 상품을 입력해주세요 : 카레\n",
      "구매하실 상품의 수량을 입력해주세요 : -100\n",
      "수량을 정확히 입력해주세요\n",
      "구매하실 상품을 입력해주세요 : 카레\n",
      "구매하실 상품의 수량을 입력해주세요 : 2\n",
      "ShopB에서 80원 더 저렴합니다.\n",
      "계속 쇼핑하시겠습니까? (y/n)y\n",
      "구매하실 상품을 입력해주세요 : 우유\n",
      "구매하실 상품의 수량을 입력해주세요 : 10\n",
      "ShopB에서 270원 더 저렴합니다.\n",
      "계속 쇼핑하시겠습니까? (y/n)n\n",
      "쇼핑을 종료합니다 :)\n",
      "### 구매내역 ###\n",
      "만두 6980원 2개 쇼핑몰A\n",
      "카레 2400원 2개 쇼핑몰B\n",
      "우유 2270원 10개 쇼핑몰B\n",
      "=======================\n",
      "총 가격 : 41460원\n"
     ]
    }
   ],
   "source": [
    "# 함수 정의 \n",
    "\n",
    "def shopping(shop_path) :\n",
    "  shop = open(shop_path,'r')\n",
    "\n",
    "  shop_dict = {}\n",
    "\n",
    "  for line in shop:\n",
    "    try : \n",
    "      (product, price) = line.strip().split() \n",
    "      shop_dict[product] = int(price.replace(\"원\",\"\")) \n",
    "    except:\n",
    "      continue\n",
    "\n",
    "  shop.close()\n",
    "\n",
    "  return shop_dict\n",
    "\n",
    "def show_items(shop_path):\n",
    "  with open(shop_path, 'r') as shop :\n",
    "   print(shop.read())\n",
    "\n",
    "\n",
    "def list_append_9step(shopping_record_content, want_to_buy, price, quantity, shop):\n",
    "\n",
    "  \"\"\" 매개변수 순서: 기록할 리스트, 상품명, 가격, 쇼핑몰\"\"\"\n",
    "\n",
    "  # 입력받은 상품 append\n",
    "  shopping_record_content.append(want_to_buy)\n",
    "  # 더 저렴한 가격 append라인에 붙이기\n",
    "  shopping_record_content.append(price)\n",
    "  # 입력받은 수량 append\n",
    "  shopping_record_content.append(quantity)\n",
    "  # 더 저렴한 쇼핑몰 append라인에 붙이기\n",
    "  shopping_record_content.append(shop)\n",
    "\n",
    "#-----------------------------------------------------------------------------#\n",
    "\n",
    "\n",
    "# 쇼핑몰 경로\n",
    "shopA_path = \"drive/MyDrive/shopA_revised.txt\"\n",
    "shopB_path = \"drive/MyDrive/shopB.txt\"\n",
    "\n",
    "# 쇼핑몰 보여주기\n",
    "show_items(shopA_path)\n",
    "print(\"\\n\")\n",
    "show_items(shopB_path)\n",
    "\n",
    "# 딕셔너리 리턴\n",
    "shopA_dict = shopping(shopA_path)\n",
    "shopB_dict = shopping(shopB_path)\n",
    "\n",
    "# shopping_record 생성.\n",
    "shopping_record = open(\"drive/MyDrive/shopping_record.txt\",'w')\n",
    "shopping_record_content = []\n",
    "\n",
    "# 쇼핑을 계속할지 알려주는 변수\n",
    "continue_shopping = 1\n",
    "\n",
    "while continue_shopping :\n",
    "\n",
    "\n",
    "  try :\n",
    "    # 상품명 입력받기\n",
    "    want_to_buy = input(\"구매하실 상품을 입력해주세요 : \")\n",
    "\n",
    "    # 수량 입력받기\n",
    "    try : \n",
    "      how_many = int(input(\"구매하실 상품의 수량을 입력해주세요 : \"))\n",
    "\n",
    "      # 음수이거나 0을 입력하는 경우 처리\n",
    "      if how_many <= 0 :\n",
    "        print(\"수량을 정확히 입력해주세요\")\n",
    "        continue\n",
    "\n",
    "    # 정수를 입력하지 않은 경우 예외처리\n",
    "    except ValueError :\n",
    "      print(\"수량을 정확히 입력해주세요\")\n",
    "\n",
    "    # 가격비교\n",
    "    if shopA_dict[want_to_buy] > shopB_dict[want_to_buy] : \n",
    "      dif = shopA_dict[want_to_buy] - shopB_dict[want_to_buy]\n",
    "      print(\"ShopB에서 \" + str(dif) + \"원 더 저렴합니다.\")\n",
    "        \n",
    "      # shopping_record_content에 append\n",
    "      # 리스트, 상품, 가격, 수량, 쇼핑몰 순\n",
    "      list_append_9step(shopping_record_content, want_to_buy, shopB_dict[want_to_buy], how_many, \"쇼핑몰B\")\n",
    "\n",
    "    elif shopA_dict[want_to_buy] < shopB_dict[want_to_buy] : \n",
    "      dif = shopB_dict[want_to_buy] - shopA_dict[want_to_buy]\n",
    "      print(\"ShopA에서 \" + str(dif) + \"원 더 저렴합니다.\")\n",
    "\n",
    "      # shopping_record_content에 append\n",
    "      # 리스트, 상품, 가격, 수량, 쇼핑몰 순\n",
    "      list_append_9step(shopping_record_content, want_to_buy, shopA_dict[want_to_buy], how_many, \"쇼핑몰A\")\n",
    "\n",
    "\n",
    "    else :\n",
    "      print(\"가격이 동일합니다.\")\n",
    "      # 가격이 동일하면 쇼핑몰 A 선택\n",
    "      # shopping_record_content에 append\n",
    "      # 리스트, 상품, 가격, 수량, 쇼핑몰 순\n",
    "      list_append_9step(shopping_record_content, want_to_buy, shopA_dict[want_to_buy], how_many, \"쇼핑몰A\")\n",
    "\n",
    "  except : \n",
    "    print(\"상품명을 확인해주세요.\")\n",
    "    continue\n",
    "\n",
    "  want_to_continue = input(\"계속 쇼핑하시겠습니까? (y/n)\")\n",
    "  if want_to_continue == 'n':\n",
    "    continue_shopping = 0\n",
    "    print(\"쇼핑을 종료합니다 :)\")\n",
    "\n",
    "shopping_record_text = \"### 구매내역 ###\\n\"\n",
    "\n",
    "# 총 가격 계산\n",
    "price_to_pay = 0\n",
    "\n",
    "for i in range(len(shopping_record_content) // 4):\n",
    "  shopping_record_text += shopping_record_content[i*4] + \" \"\n",
    "  shopping_record_text += str(shopping_record_content[i*4 + 1]) + \"원 \"\n",
    "  shopping_record_text += str(shopping_record_content[i*4 + 2]) + \"개 \"\n",
    "  shopping_record_text += shopping_record_content[i*4 + 3] + \"\\n\" # 줄 바꿈을 위해서 \\n을 추가\n",
    "  \n",
    "  price_to_pay += shopping_record_content[i*4 + 1] * shopping_record_content[i*4 + 2] # 가격 x 수량\n",
    "\n",
    "shopping_record_text += \"=======================\\n\"\n",
    "shopping_record_text += \"총 가격 : \" + str(price_to_pay) + \"원\" \n",
    "\n",
    "shopping_record.write(shopping_record_text) # shopping_record에 text를 쓰자.\n",
    "shopping_record.close() # open한 파일은 close해준다\n",
    "\n",
    "# shopping_record를 읽어서 확인해보기.\n",
    "\n",
    "with open(\"drive/MyDrive/shopping_record.txt\",'r') as shopping_record:\n",
    "  print(shopping_record.read())"
   ]
  },
  {
   "cell_type": "markdown",
   "metadata": {
    "id": "81Xa6lMUL6GN"
   },
   "source": [
    "## 10단계\n",
    "\n",
    "10단계) 쇼핑몰별로 정리하여 `shopping_record.txt` 파일에 저장하여라.  \n",
    "예를 들어, 저장된 내용은 아래와 같다. \n",
    "\n",
    "```\n",
    "생수 980원 2개 쇼핑몰A\n",
    "오렌지 990원 2개 쇼핑몰A\n",
    "우유 2270원 1개 쇼핑몰B\n",
    "=======================\n",
    "쇼핑몰A 가격 : 3940원\n",
    "쇼핑몰B 가격 : 2270원\n",
    "총 가격 : 6210원\n",
    "```"
   ]
  },
  {
   "cell_type": "markdown",
   "metadata": {
    "id": "WLib-M7EkSQB"
   },
   "source": [
    "[Guide]\n",
    "\n",
    "9단계와 거의 유사하다.\n",
    "\n",
    "대신, 총 가격을 계산할 때, 쇼핑몰 A와 쇼핑몰 B를 나누어 계산해주고, 총 가격은 쇼핑몰A 가격과 쇼핑몰B 가격을 합하여 구해주자"
   ]
  },
  {
   "cell_type": "code",
   "execution_count": null,
   "metadata": {
    "colab": {
     "base_uri": "https://localhost:8080/"
    },
    "executionInfo": {
     "elapsed": 30038,
     "status": "ok",
     "timestamp": 1619155988429,
     "user": {
      "displayName": "Kyungho Lee",
      "photoUrl": "https://lh3.googleusercontent.com/a-/AOh14GjvtkL3ZVCUbwlviFfrh0VjjiMUuul3z7PbjJVCgQs=s64",
      "userId": "07228708431473169168"
     },
     "user_tz": -540
    },
    "id": "Q_mtwiyCFfBA",
    "outputId": "4b7d1ba0-f5b4-4510-d511-f411053b4ce0"
   },
   "outputs": [
    {
     "name": "stdout",
     "output_type": "stream",
     "text": [
      "#쇼핑몰 A\n",
      "\n",
      "우유 2540원\n",
      "계란 7480원\n",
      "생수 980원\n",
      "짜장라면 3220원\n",
      "두부 1450원\n",
      "콩나물 1680원\n",
      "김 5480원\n",
      "닭고기 5980원\n",
      "식빵 2480원\n",
      "바나나 4980원\n",
      "오렌지 990원\n",
      "카레 2480원\n",
      "만두 6980원\n",
      "어묵 7980원\n",
      "참치 11880원\n",
      "김치 7980원\n",
      "간장 10800원\n",
      "\n",
      "\n",
      "#쇼핑몰 B\n",
      "\n",
      "우유 2270원\n",
      "계란 7520원\n",
      "생수 1010원\n",
      "짜장라면 3210원\n",
      "두부 1150원\n",
      "콩나물 1980원\n",
      "김 5290원\n",
      "닭고기 6000원\n",
      "식빵 1990원\n",
      "바나나 4990원\n",
      "오렌지 1050원\n",
      "카레 2400원\n",
      "만두 7400원\n",
      "어묵 6980원\n",
      "참치 11580원\n",
      "김치 8480원\n",
      "간장 9900원\n",
      "구매하실 상품을 입력해주세요 : 어묵\n",
      "구매하실 상품의 수량을 입력해주세요 : 10\n",
      "ShopB에서 1000원 더 저렴합니다.\n",
      "계속 쇼핑하시겠습니까? (y/n)y\n",
      "구매하실 상품을 입력해주세요 : 바나나\n",
      "구매하실 상품의 수량을 입력해주세요 : 2\n",
      "ShopA에서 10원 더 저렴합니다.\n",
      "계속 쇼핑하시겠습니까? (y/n)계란\n",
      "구매하실 상품을 입력해주세요 : 1\n",
      "구매하실 상품의 수량을 입력해주세요 : 1\n",
      "상품명을 확인해주세요.\n",
      "구매하실 상품을 입력해주세요 : 계란\n",
      "구매하실 상품의 수량을 입력해주세요 : 1\n",
      "ShopA에서 40원 더 저렴합니다.\n",
      "계속 쇼핑하시겠습니까? (y/n)n\n",
      "쇼핑을 종료합니다 :)\n",
      "### 구매내역 ###\n",
      "어묵 6980원 10개 쇼핑몰B\n",
      "바나나 4980원 2개 쇼핑몰A\n",
      "계란 7480원 1개 쇼핑몰A\n",
      "=======================\n",
      "쇼핑몰A 가격 : 17440원\n",
      "쇼핑몰B 가격 : 69800원\n",
      "총 가격 : 87240원\n"
     ]
    }
   ],
   "source": [
    "# 함수 정의 \n",
    "\n",
    "def shopping(shop_path) :\n",
    "  shop = open(shop_path,'r')\n",
    "\n",
    "  shop_dict = {}\n",
    "\n",
    "  for line in shop:\n",
    "    try : \n",
    "      (product, price) = line.strip().split() \n",
    "      shop_dict[product] = int(price.replace(\"원\",\"\")) \n",
    "    except:\n",
    "      continue\n",
    "\n",
    "  shop.close()\n",
    "\n",
    "  return shop_dict\n",
    "\n",
    "def show_items(shop_path):\n",
    "  with open(shop_path, 'r') as shop :\n",
    "   print(shop.read())\n",
    "\n",
    "\n",
    "def list_append_9step(shopping_record_content, want_to_buy, price, quantity, shop):\n",
    "\n",
    "  \"\"\" 매개변수 순서: 기록할 리스트, 상품명, 가격, 쇼핑몰\"\"\"\n",
    "\n",
    "  # 입력받은 상품 append\n",
    "  shopping_record_content.append(want_to_buy)\n",
    "  # 더 저렴한 가격 append라인에 붙이기\n",
    "  shopping_record_content.append(price)\n",
    "  # 입력받은 수량 append\n",
    "  shopping_record_content.append(quantity)\n",
    "  # 더 저렴한 쇼핑몰 append라인에 붙이기\n",
    "  shopping_record_content.append(shop)\n",
    "\n",
    "#-----------------------------------------------------------------------------#\n",
    "\n",
    "\n",
    "# 쇼핑몰 경로\n",
    "shopA_path = \"drive/MyDrive/shopA_revised.txt\"\n",
    "shopB_path = \"drive/MyDrive/shopB.txt\"\n",
    "\n",
    "# 쇼핑몰 보여주기\n",
    "show_items(shopA_path)\n",
    "print(\"\\n\")\n",
    "show_items(shopB_path)\n",
    "\n",
    "# 딕셔너리 리턴\n",
    "shopA_dict = shopping(shopA_path)\n",
    "shopB_dict = shopping(shopB_path)\n",
    "\n",
    "# shopping_record 생성.\n",
    "shopping_record = open(\"drive/MyDrive/shopping_record.txt\",'w')\n",
    "shopping_record_content = []\n",
    "\n",
    "# 쇼핑을 계속할지 알려주는 변수\n",
    "continue_shopping = 1\n",
    "\n",
    "while continue_shopping :\n",
    "\n",
    "\n",
    "  try :\n",
    "    # 상품명 입력받기\n",
    "    want_to_buy = input(\"구매하실 상품을 입력해주세요 : \")\n",
    "\n",
    "    # 수량 입력받기\n",
    "    try : \n",
    "      how_many = int(input(\"구매하실 상품의 수량을 입력해주세요 : \"))\n",
    "\n",
    "      # 음수이거나 0을 입력하는 경우 처리\n",
    "      if how_many <= 0 :\n",
    "        print(\"수량을 정확히 입력해주세요\")\n",
    "        continue\n",
    "\n",
    "    # 정수를 입력하지 않은 경우 예외처리\n",
    "    except ValueError :\n",
    "      print(\"수량을 정확히 입력해주세요\")\n",
    "\n",
    "    # 가격비교\n",
    "    if shopA_dict[want_to_buy] > shopB_dict[want_to_buy] : \n",
    "      dif = shopA_dict[want_to_buy] - shopB_dict[want_to_buy]\n",
    "      print(\"ShopB에서 \" + str(dif) + \"원 더 저렴합니다.\")\n",
    "        \n",
    "      # shopping_record_content에 append\n",
    "      # 리스트, 상품, 가격, 수량, 쇼핑몰 순\n",
    "      list_append_9step(shopping_record_content, want_to_buy, shopB_dict[want_to_buy], how_many, \"쇼핑몰B\")\n",
    "\n",
    "    elif shopA_dict[want_to_buy] < shopB_dict[want_to_buy] : \n",
    "      dif = shopB_dict[want_to_buy] - shopA_dict[want_to_buy]\n",
    "      print(\"ShopA에서 \" + str(dif) + \"원 더 저렴합니다.\")\n",
    "\n",
    "      # shopping_record_content에 append\n",
    "      # 리스트, 상품, 가격, 수량, 쇼핑몰 순\n",
    "      list_append_9step(shopping_record_content, want_to_buy, shopA_dict[want_to_buy], how_many, \"쇼핑몰A\")\n",
    "\n",
    "\n",
    "    else :\n",
    "      print(\"가격이 동일합니다.\")\n",
    "      # 가격이 동일하면 쇼핑몰 A 선택\n",
    "      # shopping_record_content에 append\n",
    "      # 리스트, 상품, 가격, 수량, 쇼핑몰 순\n",
    "      list_append_9step(shopping_record_content, want_to_buy, shopA_dict[want_to_buy], how_many, \"쇼핑몰A\")\n",
    "\n",
    "  except : \n",
    "    print(\"상품명을 확인해주세요.\")\n",
    "    continue\n",
    "\n",
    "  want_to_continue = input(\"계속 쇼핑하시겠습니까? (y/n)\")\n",
    "  if want_to_continue == 'n':\n",
    "    continue_shopping = 0\n",
    "    print(\"쇼핑을 종료합니다 :)\")\n",
    "\n",
    "shopping_record_text = \"### 구매내역 ###\\n\"\n",
    "# 총 가격 계산\n",
    "price_to_pay_shopA = 0\n",
    "price_to_pay_shopB = 0\n",
    "\n",
    "for i in range(len(shopping_record_content) // 4):\n",
    "  shopping_record_text += shopping_record_content[i*4] + \" \"\n",
    "  shopping_record_text += str(shopping_record_content[i*4 + 1]) + \"원 \"\n",
    "  shopping_record_text += str(shopping_record_content[i*4 + 2]) + \"개 \"\n",
    "  shopping_record_text += shopping_record_content[i*4 + 3] + \"\\n\"\n",
    "  \n",
    "  ## 쇼핑몰A와 쇼핑몰B를 구분하여 계산\n",
    "  if shopping_record_content[i*4 + 3] == \"쇼핑몰A\" :\n",
    "    price_to_pay_shopA += shopping_record_content[i*4 + 1] * shopping_record_content[i*4 + 2]\n",
    "  else : \n",
    "    price_to_pay_shopB += shopping_record_content[i*4 + 1] * shopping_record_content[i*4 + 2]\n",
    "\n",
    "  ## 총 가격은 합쳐서 계산\n",
    "  price_to_pay = price_to_pay_shopA  +  price_to_pay_shopB\n",
    "\n",
    "shopping_record_text += \"=======================\\n\"\n",
    "shopping_record_text += \"쇼핑몰A 가격 : \" + str(price_to_pay_shopA) + \"원\\n\" \n",
    "shopping_record_text += \"쇼핑몰B 가격 : \" + str(price_to_pay_shopB) + \"원\\n\" \n",
    "shopping_record_text += \"총 가격 : \" + str(price_to_pay) + \"원\" \n",
    "\n",
    "shopping_record.write(shopping_record_text)\n",
    "shopping_record.close()\n",
    "\n",
    "# shopping_record를 읽어서 확인해보기.\n",
    "\n",
    "with open(\"drive/MyDrive/shopping_record.txt\",'r') as shopping_record:\n",
    "  print(shopping_record.read())"
   ]
  },
  {
   "cell_type": "markdown",
   "metadata": {
    "id": "fSQdoywzN8ay"
   },
   "source": [
    "**수고하셨습니다 :)**"
   ]
  }
 ],
 "metadata": {
  "colab": {
   "authorship_tag": "ABX9TyOLBviyewguMuduVaW2lBmN",
   "collapsed_sections": [],
   "name": "practice-files.ipynb",
   "provenance": []
  },
  "kernelspec": {
   "display_name": "Python 3 (ipykernel)",
   "language": "python",
   "name": "python3"
  },
  "language_info": {
   "codemirror_mode": {
    "name": "ipython",
    "version": 3
   },
   "file_extension": ".py",
   "mimetype": "text/x-python",
   "name": "python",
   "nbconvert_exporter": "python",
   "pygments_lexer": "ipython3",
   "version": "3.9.7"
  }
 },
 "nbformat": 4,
 "nbformat_minor": 1
}
