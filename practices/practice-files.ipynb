{
 "cells": [
  {
   "cell_type": "markdown",
   "metadata": {
    "id": "75T-0PDBatex"
   },
   "source": [
    "# (실습) 파일"
   ]
  },
  {
   "cell_type": "markdown",
   "metadata": {
    "id": "5140d50d"
   },
   "source": [
    "**참고 사항**\n",
    "\n",
    "먼저\n",
    "[파일](https://codingalzi.github.io/pybook/files.html)의 내용과\n",
    "[(필수 예제) 파일](https://colab.research.google.com/github/codingalzi/pybook/blob/master/examples/examples-files.ipynb)의 예제들을 학습하세요."
   ]
  },
  {
   "cell_type": "markdown",
   "metadata": {
    "id": "a0a20bd6"
   },
   "source": [
    "**주의 사항**\n",
    "\n",
    "* 기존에 작성된 코드 셀과 텍스트 셀은 수정하지 않는다.\n",
    "* 필요한 경우 코드 셀 또는 텍스트 셀을 추가해서 사용한다.\n",
    "* 실습 파일을 제출할 때 구글 드라이브의 링크를 이용하여 누구나 공유할 수 있도록 설정한다."
   ]
  },
  {
   "cell_type": "markdown",
   "metadata": {
    "id": "hKMsAX89ate-"
   },
   "source": [
    "**기본 설정**"
   ]
  },
  {
   "cell_type": "markdown",
   "metadata": {
    "id": "mDLKEE0hate_"
   },
   "source": [
    "파일 저장 경로와 파일 서버 주소를 지정에 필요한 기본 설정을 지정한다."
   ]
  },
  {
   "cell_type": "code",
   "execution_count": 1,
   "metadata": {
    "id": "oAvZdat_atfA"
   },
   "outputs": [],
   "source": [
    "from pathlib import Path\n",
    "from urllib.request import urlretrieve"
   ]
  },
  {
   "cell_type": "markdown",
   "metadata": {
    "id": "sW4ui4u6atfD"
   },
   "source": [
    "데이터가 저장된 텍스트 파일 서버 주소는 다음과 같다."
   ]
  },
  {
   "cell_type": "code",
   "execution_count": 2,
   "metadata": {
    "id": "HhiJojLfatfE"
   },
   "outputs": [],
   "source": [
    "base_url = \"https://raw.githubusercontent.com/codingalzi/pybook/master/jupyter-book/data/\""
   ]
  },
  {
   "cell_type": "markdown",
   "metadata": {
    "id": "VPZnltcDatfF"
   },
   "source": [
    "현재 작업 디렉토리의 `data` 하위 디렉토리에 파일을 다운로드해서 저장할 준비를 한다."
   ]
  },
  {
   "cell_type": "code",
   "execution_count": 3,
   "metadata": {
    "id": "VtNNcojQatfG"
   },
   "outputs": [],
   "source": [
    "# 저장위치 지정과 생성\n",
    "data_path = Path() / \"data\"\n",
    "data_path.mkdir(parents=True, exist_ok=True)"
   ]
  },
  {
   "cell_type": "markdown",
   "metadata": {
    "id": "Vvyug4DvatfH"
   },
   "source": [
    "`myWget()` 함수는 파일 서버에서 지정된 파일을 동일한 파일명으로 지정된 디렉토리에 저장한다."
   ]
  },
  {
   "cell_type": "code",
   "execution_count": 4,
   "metadata": {
    "id": "1pLwPw1datfH"
   },
   "outputs": [],
   "source": [
    "def myWget(filename):\n",
    "    # 다운로드 대상 파일 경로\n",
    "    file_url = base_url + filename\n",
    "\n",
    "    # 저장 경로와 파일명\n",
    "    target_path = data_path / filename\n",
    "\n",
    "    return urlretrieve(file_url, target_path)"
   ]
  },
  {
   "cell_type": "markdown",
   "metadata": {
    "id": "8n08JJwl7Gw6"
   },
   "source": [
    "## 문제 1"
   ]
  },
  {
   "cell_type": "code",
   "execution_count": null,
   "metadata": {
    "id": "c-LuwhWQIsNA"
   },
   "outputs": [],
   "source": [
    "sketch1 = \"Man: Is this the right room for an argument?\\nOther Man: Oh I'm sorry: or the full half hour?\\n(pause)\\nMan: Ah! Just the five minutes.\""
   ]
  },
  {
   "cell_type": "markdown",
   "metadata": {
    "id": "L5MReR7UJFTU"
   },
   "source": [
    "`sketch1` 변수에 할당된 문자열을 `sketch1.txt` 파일에 저장한다."
   ]
  },
  {
   "cell_type": "code",
   "execution_count": null,
   "metadata": {
    "id": "5SJ-6ctcJQlc"
   },
   "outputs": [],
   "source": [
    "with open('sketch1.txt', 'w') as file:\n",
    "    file.write(sketch1)"
   ]
  },
  {
   "cell_type": "code",
   "execution_count": null,
   "metadata": {
    "colab": {
     "base_uri": "https://localhost:8080/"
    },
    "id": "CCHR6JJIJdiH",
    "outputId": "85a24e3c-b4f5-45f9-f73f-f9e5b1209d92"
   },
   "outputs": [
    {
     "name": "stdout",
     "output_type": "stream",
     "text": [
      "Man: Is this the right room for an argument?\n",
      "Other Man: Oh I'm sorry: or the full half hour?\n",
      "(pause)\n",
      "Man: Ah! Just the five minutes.\n"
     ]
    }
   ],
   "source": [
    "with open('sketch1.txt', 'r') as file:\n",
    "    print(file.read())"
   ]
  },
  {
   "cell_type": "markdown",
   "metadata": {
    "id": "ZI1CwXPKbbhA"
   },
   "source": [
    "**질문 1**"
   ]
  },
  {
   "cell_type": "markdown",
   "metadata": {
    "id": "fvJa-GehKbKS"
   },
   "source": [
    "`role_words` 함수를 완성하세요."
   ]
  },
  {
   "cell_type": "code",
   "execution_count": null,
   "metadata": {
    "id": "Qumo49Jf7Gw7"
   },
   "outputs": [],
   "source": [
    "def role_words(fileName):\n",
    "    with open(fileName) as data:\n",
    "        for each_line in data:\n",
    "            try:\n",
    "                role, spoken = each_line.split(':',1)\n",
    "                print(role+' said:'+spoken,end='')\n",
    "            except:\n",
    "                pass"
   ]
  },
  {
   "cell_type": "code",
   "execution_count": null,
   "metadata": {
    "colab": {
     "base_uri": "https://localhost:8080/"
    },
    "id": "z6VMf4qc7Gw8",
    "outputId": "3fe75a03-2412-46c0-be40-e1c57cc2f5dd"
   },
   "outputs": [
    {
     "name": "stdout",
     "output_type": "stream",
     "text": [
      "Man said: Is this the right room for an argument?\n",
      "Other Man said: Oh I'm sorry: or the full half hour?\n",
      "Man said: Ah! Just the five minutes."
     ]
    }
   ],
   "source": [
    "role_words('sketch1.txt')"
   ]
  },
  {
   "cell_type": "markdown",
   "metadata": {
    "id": "3IuhSH6N7Gw9"
   },
   "source": [
    "**질문 2**"
   ]
  },
  {
   "cell_type": "code",
   "execution_count": null,
   "metadata": {
    "id": "ynYBdAEU7Gw9"
   },
   "outputs": [],
   "source": [
    "def role_texts(fileName):\n",
    "    with open(fileName) as data, \\\n",
    "        open('dialogues_Man.txt','w') as man, \\\n",
    "        open('dialogues_Other.txt','w') as other:\n",
    "\n",
    "        for each_line in data:\n",
    "            try:\n",
    "                line = each_line.split(':', 1)\n",
    "                line_spoken = line[1].lstrip()\n",
    "                if line[0] == 'Man' :\n",
    "                    man.write(line_spoken)\n",
    "                if line[0] == 'Other Man':\n",
    "                    other.write(line_spoken)\n",
    "            except IndexError:\n",
    "                pass"
   ]
  },
  {
   "cell_type": "code",
   "execution_count": null,
   "metadata": {
    "id": "9NppNf3o7Gw_"
   },
   "outputs": [],
   "source": [
    "role_texts('sketch1.txt')"
   ]
  },
  {
   "cell_type": "code",
   "execution_count": null,
   "metadata": {
    "colab": {
     "base_uri": "https://localhost:8080/"
    },
    "id": "nOgtn2ctK5BQ",
    "outputId": "776a0811-7d29-42cf-9151-094764a855ec"
   },
   "outputs": [
    {
     "name": "stdout",
     "output_type": "stream",
     "text": [
      "Is this the right room for an argument?\n",
      "Ah! Just the five minutes.\n"
     ]
    }
   ],
   "source": [
    "with open(\"dialogues_Man.txt\") as man:\n",
    "    print(man.read())"
   ]
  },
  {
   "cell_type": "code",
   "execution_count": null,
   "metadata": {
    "colab": {
     "base_uri": "https://localhost:8080/"
    },
    "id": "FIdrGoJlLQdX",
    "outputId": "dfd1c1d3-37b7-4fa7-8880-ad4dccea7de3"
   },
   "outputs": [
    {
     "name": "stdout",
     "output_type": "stream",
     "text": [
      "Oh I'm sorry: or the full half hour?\n",
      "\n"
     ]
    }
   ],
   "source": [
    "with open(\"dialogues_Other.txt\") as other:\n",
    "    print(other.read())"
   ]
  },
  {
   "cell_type": "code",
   "execution_count": null,
   "metadata": {
    "id": "SCYbqVUoataV"
   },
   "outputs": [],
   "source": []
  },
  {
   "cell_type": "code",
   "execution_count": null,
   "metadata": {
    "id": "a_bnNq18ataV"
   },
   "outputs": [],
   "source": []
  },
  {
   "cell_type": "markdown",
   "metadata": {
    "id": "iSOTNkzEcMM4"
   },
   "source": [
    "## 문제 2"
   ]
  },
  {
   "cell_type": "code",
   "execution_count": null,
   "metadata": {
    "id": "g3fw6odgatfI"
   },
   "outputs": [],
   "source": [
    "file_name = 'en-ko.csv'"
   ]
  },
  {
   "cell_type": "code",
   "execution_count": null,
   "metadata": {
    "id": "fJikHDZ2atfI",
    "outputId": "aeea830c-7aba-47e4-dd90-e515a4c7f5c2"
   },
   "outputs": [
    {
     "data": {
      "text/plain": [
       "(PosixPath('data/en-ko.csv'), <http.client.HTTPMessage at 0x7f1cb02799d0>)"
      ]
     },
     "execution_count": 7,
     "metadata": {},
     "output_type": "execute_result"
    }
   ],
   "source": [
    "myWget(file_name)"
   ]
  },
  {
   "cell_type": "code",
   "execution_count": null,
   "metadata": {
    "id": "Jc1lQPgYatfK",
    "outputId": "9634f4c4-34fc-4589-da16-bb53216796e1"
   },
   "outputs": [
    {
     "name": "stdout",
     "output_type": "stream",
     "text": [
      "covid19_seoul.csv    environment1.csv  shopA.txt\r\n",
      "covid19_seoul21.csv  environment2.csv  shopB.txt\r\n",
      "en-ko.csv\t     score.txt\t       vaccine_seoul.csv\r\n"
     ]
    }
   ],
   "source": [
    "!ls ./data/"
   ]
  },
  {
   "cell_type": "markdown",
   "metadata": {
    "id": "iZbOJUr7atfK"
   },
   "source": [
    "다운로드한 파일을 이용하여 영어 사전 생성 후 영어 단어 뜻 맛히기 게임 생성"
   ]
  }
 ],
 "metadata": {
  "colab": {
   "name": "practice-files.ipynb",
   "provenance": []
  },
  "kernelspec": {
   "display_name": "Python 3 (ipykernel)",
   "language": "python",
   "name": "python3"
  },
  "language_info": {
   "codemirror_mode": {
    "name": "ipython",
    "version": 3
   },
   "file_extension": ".py",
   "mimetype": "text/x-python",
   "name": "python",
   "nbconvert_exporter": "python",
   "pygments_lexer": "ipython3",
   "version": "3.11.4"
  }
 },
 "nbformat": 4,
 "nbformat_minor": 1
}
