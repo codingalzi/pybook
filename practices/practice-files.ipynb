{
  "cells": [
    {
      "cell_type": "markdown",
      "metadata": {
        "id": "75T-0PDBatex"
      },
      "source": [
        "# (실습) 파일"
      ]
    },
    {
      "cell_type": "markdown",
      "metadata": {
        "id": "5140d50d"
      },
      "source": [
        "**참고 사항**\n",
        "\n",
        "먼저\n",
        "[파일](https://codingalzi.github.io/pybook/files.html)의 내용과\n",
        "[(필수 예제) 파일](https://colab.research.google.com/github/codingalzi/pybook/blob/master/examples/examples-files.ipynb)의 예제들을 학습하세요."
      ]
    },
    {
      "cell_type": "markdown",
      "metadata": {
        "id": "a0a20bd6"
      },
      "source": [
        "**주의 사항**\n",
        "\n",
        "* 기존에 작성된 코드 셀과 텍스트 셀은 수정하지 않는다.\n",
        "* 필요한 경우 코드 셀 또는 텍스트 셀을 추가해서 사용한다.\n",
        "* 실습 파일을 제출할 때 구글 드라이브의 링크를 이용하여 누구나 공유할 수 있도록 설정한다."
      ]
    },
    {
      "cell_type": "markdown",
      "metadata": {
        "id": "hKMsAX89ate-"
      },
      "source": [
        "**기본 설정**"
      ]
    },
    {
      "cell_type": "markdown",
      "metadata": {
        "id": "mDLKEE0hate_"
      },
      "source": [
        "파일 저장 경로와 파일 서버 주소를 지정에 필요한 기본 설정을 지정한다."
      ]
    },
    {
      "cell_type": "code",
      "execution_count": null,
      "metadata": {
        "id": "oAvZdat_atfA"
      },
      "outputs": [],
      "source": [
        "from pathlib import Path\n",
        "from urllib.request import urlretrieve"
      ]
    },
    {
      "cell_type": "markdown",
      "metadata": {
        "id": "sW4ui4u6atfD"
      },
      "source": [
        "데이터가 저장된 텍스트 파일 서버 주소는 다음과 같다."
      ]
    },
    {
      "cell_type": "code",
      "execution_count": null,
      "metadata": {
        "id": "HhiJojLfatfE"
      },
      "outputs": [],
      "source": [
        "base_url = \"https://raw.githubusercontent.com/codingalzi/pybook/master/jupyter-book/data/\""
      ]
    },
    {
      "cell_type": "markdown",
      "metadata": {
        "id": "VPZnltcDatfF"
      },
      "source": [
        "현재 작업 디렉토리의 `data` 하위 디렉토리에 파일을 다운로드해서 저장할 준비를 한다."
      ]
    },
    {
      "cell_type": "code",
      "execution_count": null,
      "metadata": {
        "id": "VtNNcojQatfG"
      },
      "outputs": [],
      "source": [
        "# 저장위치 지정과 생성\n",
        "data_path = Path() / \"data\"\n",
        "data_path.mkdir(parents=True, exist_ok=True)"
      ]
    },
    {
      "cell_type": "markdown",
      "metadata": {
        "id": "Vvyug4DvatfH"
      },
      "source": [
        "`myWget()` 함수는 파일 서버에서 지정된 파일을 동일한 파일명으로 지정된 디렉토리에 저장한다."
      ]
    },
    {
      "cell_type": "code",
      "execution_count": null,
      "metadata": {
        "id": "1pLwPw1datfH"
      },
      "outputs": [],
      "source": [
        "def myWget(filename):\n",
        "    # 다운로드 대상 파일 경로\n",
        "    file_url = base_url + filename\n",
        "\n",
        "    # 저장 경로와 파일명\n",
        "    target_path = data_path / filename\n",
        "\n",
        "    return urlretrieve(file_url, target_path)"
      ]
    },
    {
      "cell_type": "markdown",
      "metadata": {
        "id": "OZAUm265atfH"
      },
      "source": [
        "## 문제"
      ]
    },
    {
      "cell_type": "markdown",
      "metadata": {
        "id": "TYyPUUCGata_"
      },
      "source": [
        "[5미터 다이빙 기록 에서 등수를 확인하는 작업](https://codingalzi.github.io/pybook/files.html#sec-exp-diving-5m)과\n",
        "동일한 방식으로 5미터 다이빙 기록과 10미터 다이빙 기록의 합에 대해 등수를 확인하는 코드를 작성하라."
      ]
    },
    {
      "cell_type": "code",
      "execution_count": null,
      "metadata": {
        "id": "C5e3sj8NatbB"
      },
      "outputs": [],
      "source": [
        "# 코드를 작성하라.\n",
        "\n"
      ]
    },
    {
      "cell_type": "markdown",
      "source": [
        "## 문제"
      ],
      "metadata": {
        "id": "iSOTNkzEcMM4"
      }
    },
    {
      "cell_type": "code",
      "execution_count": null,
      "metadata": {
        "id": "g3fw6odgatfI"
      },
      "outputs": [],
      "source": [
        "file_name = 'en-ko.csv'"
      ]
    },
    {
      "cell_type": "code",
      "execution_count": null,
      "metadata": {
        "id": "fJikHDZ2atfI",
        "outputId": "aeea830c-7aba-47e4-dd90-e515a4c7f5c2"
      },
      "outputs": [
        {
          "data": {
            "text/plain": [
              "(PosixPath('data/en-ko.csv'), <http.client.HTTPMessage at 0x7f1cb02799d0>)"
            ]
          },
          "execution_count": 7,
          "metadata": {},
          "output_type": "execute_result"
        }
      ],
      "source": [
        "myWget(file_name)"
      ]
    },
    {
      "cell_type": "code",
      "execution_count": null,
      "metadata": {
        "id": "Jc1lQPgYatfK",
        "outputId": "9634f4c4-34fc-4589-da16-bb53216796e1"
      },
      "outputs": [
        {
          "name": "stdout",
          "output_type": "stream",
          "text": [
            "covid19_seoul.csv    environment1.csv  shopA.txt\r\n",
            "covid19_seoul21.csv  environment2.csv  shopB.txt\r\n",
            "en-ko.csv\t     score.txt\t       vaccine_seoul.csv\r\n"
          ]
        }
      ],
      "source": [
        "!ls ./data/"
      ]
    },
    {
      "cell_type": "markdown",
      "metadata": {
        "id": "iZbOJUr7atfK"
      },
      "source": [
        "다운로드한 파일을 이용하여 영어 사전 생성 후 영어 단어 뜻 맛히기 게임 생성"
      ]
    }
  ],
  "metadata": {
    "colab": {
      "name": "practice-files.ipynb",
      "provenance": []
    },
    "kernelspec": {
      "display_name": "Python 3 (ipykernel)",
      "language": "python",
      "name": "python3"
    },
    "language_info": {
      "codemirror_mode": {
        "name": "ipython",
        "version": 3
      },
      "file_extension": ".py",
      "mimetype": "text/x-python",
      "name": "python",
      "nbconvert_exporter": "python",
      "pygments_lexer": "ipython3",
      "version": "3.11.7"
    }
  },
  "nbformat": 4,
  "nbformat_minor": 0
}