{
 "cells": [
  {
   "cell_type": "markdown",
   "id": "b810a1f0",
   "metadata": {},
   "source": [
    "# (실습) 클래스"
   ]
  },
  {
   "cell_type": "markdown",
   "id": "a610e65b",
   "metadata": {},
   "source": [
    "**문제**"
   ]
  },
  {
   "cell_type": "markdown",
   "id": "725c23c3",
   "metadata": {},
   "source": [
    "`__ne__(), __gt__(), __ge__()`를 선언하면 `__eq__(), __lt__(), __le__()`가\n",
    "자동으로 지원되는지 확인하라."
   ]
  },
  {
   "cell_type": "code",
   "execution_count": null,
   "id": "118ae28e",
   "metadata": {},
   "outputs": [],
   "source": []
  }
 ],
 "metadata": {
  "kernelspec": {
   "display_name": "Python 3 (ipykernel)",
   "language": "python",
   "name": "python3"
  },
  "language_info": {
   "codemirror_mode": {
    "name": "ipython",
    "version": 3
   },
   "file_extension": ".py",
   "mimetype": "text/x-python",
   "name": "python",
   "nbconvert_exporter": "python",
   "pygments_lexer": "ipython3",
   "version": "3.9.7"
  }
 },
 "nbformat": 4,
 "nbformat_minor": 5
}
