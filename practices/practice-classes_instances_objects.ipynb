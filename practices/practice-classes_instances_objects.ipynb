{
 "cells": [
  {
   "cell_type": "markdown",
   "id": "d85ece54",
   "metadata": {},
   "source": [
    "# (실습) 클래스, 인스턴스, 객체"
   ]
  },
  {
   "cell_type": "markdown",
   "id": "8dbe5e4c",
   "metadata": {},
   "source": [
    "**참고 사항**\n",
    "\n",
    "먼저\n",
    "[클래스, 인스턴스, 객체](https://codingalzi.github.io/pybook/classes_instances_objects.html)의 내용과\n",
    "[(필수 예제) 클래스, 인스턴스, 객체](https://colab.research.google.com/github/codingalzi/pybook/blob/master/examples/examples-classes_instances_objects.ipynb)의 예제들을 학습하세요."
   ]
  },
  {
   "cell_type": "markdown",
   "id": "cd338158",
   "metadata": {},
   "source": [
    "**주의 사항**\n",
    "\n",
    "* 기존에 작성된 코드 셀과 텍스트 셀은 수정하지 않는다.\n",
    "* 필요한 경우 코드 셀 또는 텍스트 셀을 추가해서 사용한다.\n",
    "* 실습 파일을 제출할 때 구글 드라이브의 링크를 이용하여 누구나 공유할 수 있도록 설정한다."
   ]
  },
  {
   "cell_type": "markdown",
   "id": "1464ea6c",
   "metadata": {},
   "source": [
    "**실행 환경**"
   ]
  },
  {
   "cell_type": "markdown",
   "id": "d90e21b9",
   "metadata": {},
   "source": [
    "`turtle` 모듈을 이용하기 때문에 레플릿에서 프로그램을 구현한 다음에 주요 코드만 작성한다."
   ]
  },
  {
   "cell_type": "markdown",
   "id": "1105d99b",
   "metadata": {},
   "source": [
    "## 문제 1"
   ]
  },
  {
   "cell_type": "code",
   "execution_count": null,
   "id": "c167e922",
   "metadata": {},
   "outputs": [],
   "source": []
  }
 ],
 "metadata": {
  "kernelspec": {
   "display_name": "Python 3 (ipykernel)",
   "language": "python",
   "name": "python3"
  },
  "language_info": {
   "codemirror_mode": {
    "name": "ipython",
    "version": 3
   },
   "file_extension": ".py",
   "mimetype": "text/x-python",
   "name": "python",
   "nbconvert_exporter": "python",
   "pygments_lexer": "ipython3",
   "version": "3.11.5"
  }
 },
 "nbformat": 4,
 "nbformat_minor": 5
}
