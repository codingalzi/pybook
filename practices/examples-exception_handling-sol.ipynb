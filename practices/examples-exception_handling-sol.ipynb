{
 "cells": [
  {
   "cell_type": "markdown",
   "id": "63ac596b",
   "metadata": {},
   "source": [
    "# (실습) 프로그램 오류와 예외처리"
   ]
  },
  {
   "cell_type": "markdown",
   "id": "8bcd32f9",
   "metadata": {},
   "source": [
    "**문제 1**"
   ]
  },
  {
   "cell_type": "markdown",
   "id": "f3bbdcbb",
   "metadata": {
    "id": "fGjSM-6P2Pl7"
   },
   "source": [
    "두 개의 정수 `a`, `b`를 입력받아 `a/b`를 계산하는 코드를 작성하여라.\n",
    "단, 아래의 내용을 만족하도록 코드를 작성한다.\n",
    "\n",
    "* 정수가 아닌 값이 입력될 경우, 정수를 입력하라고 전달한다.\n",
    "* `b`에 `0`이 입력될 경우, `0`이 아닌 숫자를 입력하라고 전달한다. "
   ]
  },
  {
   "cell_type": "code",
   "execution_count": 1,
   "id": "b1c98e1f",
   "metadata": {},
   "outputs": [],
   "source": [
    "# # 주석을 없앤 다음에 pass 를 적절한 명령문으로 대체하라.\n",
    "\n",
    "# while True:\n",
    "#     try:\n",
    "#         a = int(input(\"첫째 정수를 입력하세요: \"))\n",
    "#         b = int(input(\"둘째 정수를 입력하세요: \"))\n",
    "        \n",
    "#         pass\n",
    "\n",
    "#     except:\n",
    "#         pass\n",
    "\n",
    "# pass"
   ]
  },
  {
   "cell_type": "markdown",
   "id": "5b88d1d4",
   "metadata": {},
   "source": [
    "**문제 2**"
   ]
  },
  {
   "cell_type": "markdown",
   "id": "d17cf62c",
   "metadata": {},
   "source": [
    "[수 알아맞히기 게임](https://codingalzi.github.io/pybook/casestudy_guessing_numbers.html)에서 \n",
    "참여자가 1에서 100까지의 범위를 벗어나는\n",
    "정수를 입력하면 재입력을 요구하도록 업그레이드 하라.\n",
    "\n",
    "힌트: `if` 조건문을 추가로 사용한다."
   ]
  },
  {
   "cell_type": "code",
   "execution_count": 2,
   "id": "522e6c8a",
   "metadata": {},
   "outputs": [],
   "source": [
    "# # 아래 코드를 업그레이드 하라.\n",
    "\n",
    "# from random import randint\n",
    "\n",
    "# print(\"수 알아맞히기 게임에 환영합니다.\")\n",
    "\n",
    "# secret = randint(1,100)\n",
    "# guess = -1\n",
    "\n",
    "# while guess != secret:\n",
    "    \n",
    "#     try:  # 정수 입력이 아닌 경우 대처             \n",
    "#         guess = int(input(\"1부터 100 사이의 정수 하나를 입력하세요: \"))\n",
    "#     except: \n",
    "#         continue  # while 반복문의 처음으로 돌아가기\n",
    "\n",
    "#     if guess == 0:\n",
    "#         break\n",
    "\n",
    "#     if guess == secret:\n",
    "#         print(\"맞았습니다!\")\n",
    "#     elif guess > secret:\n",
    "#         print(\"너무 커요!\")\n",
    "#     else:\n",
    "#         print(\"너무 작아요!\")\n",
    "\n",
    "# print(\"게임 종료!\")"
   ]
  },
  {
   "cell_type": "markdown",
   "id": "fcba6e3d",
   "metadata": {},
   "source": [
    "**문제 3**"
   ]
  },
  {
   "cell_type": "markdown",
   "id": "c355f9b1",
   "metadata": {},
   "source": [
    "[수 알아맞히기 게임](https://codingalzi.github.io/pybook/casestudy_guessing_numbers.html)이 종료될 때 \n",
    "사용자가 몇 번 만에 정답을 맞혔는지 알려주도록 프로그램을 업그레이드 하라.\n",
    "단, 1과 100 사이의 수를 입력한 경우만 고려한다.\n",
    "\n",
    "힌트: `while` 반복문이 몇 번 실행되는 횟수를 기억하는 변수를 사용한다."
   ]
  },
  {
   "cell_type": "code",
   "execution_count": 3,
   "id": "c241eb58",
   "metadata": {},
   "outputs": [],
   "source": [
    "# 문제 2 코드를 업그레이드 하라.\n"
   ]
  },
  {
   "cell_type": "markdown",
   "id": "673c8c99",
   "metadata": {},
   "source": [
    "**문제 4**"
   ]
  },
  {
   "cell_type": "markdown",
   "id": "af83745c",
   "metadata": {},
   "source": [
    "[수 알아맞히기 게임](https://codingalzi.github.io/pybook/casestudy_guessing_numbers.html) 실행중에 \n",
    "참여자가 영어 알파벳 `q` 또는 `Q` 를 입력하면 게임이 종료되도록 프로그램을 업그레이드 하라.\n",
    "\n",
    "힌트: `int()` 함수가 사용되는 위치를 다르게 한다."
   ]
  },
  {
   "cell_type": "code",
   "execution_count": 4,
   "id": "c0a4fdb8",
   "metadata": {},
   "outputs": [],
   "source": [
    "# 문제 3 코드를 업그레이드 하라.\n"
   ]
  },
  {
   "cell_type": "markdown",
   "id": "64ab7352",
   "metadata": {},
   "source": [
    "**문제 5**"
   ]
  },
  {
   "cell_type": "markdown",
   "id": "fc026162",
   "metadata": {
    "id": "RJGEd1T44JF0"
   },
   "source": [
    "숫자 야구 게임은 임의로 정한 세 자리의 수(`answer`)를 참여자가 맞히는 게임으로, 아래의 규칙을 따른다.\n",
    "\n",
    "* 사용되는 수는 1부터 9까지의 서로 다른 숫자이다. \n",
    "* 참여자가 입력한 수가 `answer`와 다를 경우, 참여자에게 아래 기준에 따른 결과를 알려준다.\n",
    "  * 숫자의 위치가 맞으면, 스트라이크\n",
    "  * 숫자는 맞지만 위치가 틀리면, 볼\n",
    "  * 숫자와 위치가 모두 틀리면, 아웃\n",
    "\n",
    "예를 들어, `answer` 가 123 일 때, 참여자가 456 을 입력하면 `아웃` 을, \n",
    "257 을 입력하면 `1볼` 을, \n",
    "273 을 입력하면 `1볼 1스트라이크` 를 출력한다.\n",
    "\n",
    "숫자 야구 게임을 구현하라.\n",
    "단, 맞혀야 하는 세 자리의 수는 157로 지정하며,\n",
    "사용자가 서로 다른 세 개의 숫자로 이루어진 수를 입력하도록 유도한다."
   ]
  },
  {
   "cell_type": "code",
   "execution_count": 5,
   "id": "fd09d349",
   "metadata": {},
   "outputs": [],
   "source": [
    "# answer = 157\n"
   ]
  },
  {
   "cell_type": "markdown",
   "id": "634be104",
   "metadata": {},
   "source": [
    "**문제 6**"
   ]
  },
  {
   "cell_type": "markdown",
   "id": "94460267",
   "metadata": {
    "id": "oamaDleuHqAX"
   },
   "source": [
    "숫자 야구 게임을 다음 조건이 만족되도록 업그레이드 하라.\n",
    "\n",
    "> 참여자가 정답을 맞힐 때까지 게임이 실행된다."
   ]
  },
  {
   "cell_type": "code",
   "execution_count": 6,
   "id": "204e7d3e",
   "metadata": {},
   "outputs": [],
   "source": [
    "# 문제 5 코드를 업그레이드 하라.\n"
   ]
  },
  {
   "cell_type": "markdown",
   "id": "6167db78",
   "metadata": {},
   "source": [
    "**문제 7**"
   ]
  },
  {
   "cell_type": "markdown",
   "id": "fac2173e",
   "metadata": {
    "id": "oamaDleuHqAX"
   },
   "source": [
    "숫자 야구 게임을 다음 조건이 만족되도록 업그레이드 하라.\n",
    "\n",
    "> 맞혀야 하는 세 자리의 수가 무작위로 지정된다. 단, 0은 포함하지 않는다.\n",
    "\n",
    "힌트: `random.randint()` 함수를 이용한다."
   ]
  },
  {
   "cell_type": "code",
   "execution_count": 7,
   "id": "a5cc126d",
   "metadata": {},
   "outputs": [],
   "source": [
    "# 문제 6 코드를 업그레이드 하라.\n"
   ]
  },
  {
   "cell_type": "markdown",
   "id": "f55bcd38",
   "metadata": {},
   "source": [
    "**문제 8**"
   ]
  },
  {
   "cell_type": "markdown",
   "id": "ef83064b",
   "metadata": {
    "id": "oamaDleuHqAX"
   },
   "source": [
    "숫자 야구 게임을 다음 조건이 만족되도록 업그레이드 하라.\n",
    "\n",
    "> 게임 참여자가 영어 알파벳 `q` 또는 `Q` 를 입력하면 게임을 종료한다."
   ]
  },
  {
   "cell_type": "code",
   "execution_count": 8,
   "id": "5133cc40",
   "metadata": {},
   "outputs": [],
   "source": [
    "# 문제 7 코드를 업그레이드 하라.\n"
   ]
  },
  {
   "cell_type": "markdown",
   "id": "3846dd62",
   "metadata": {},
   "source": [
    "**문제 9**"
   ]
  },
  {
   "cell_type": "markdown",
   "id": "a6ddf86d",
   "metadata": {
    "id": "oamaDleuHqAX"
   },
   "source": [
    "숫자 야구 게임을 다음 조건이 만족되도록 업그레이드 하라.\n",
    "\n",
    "> 정수가 아닌 값이 입력되면 무시하고 재입력하도록 한다."
   ]
  },
  {
   "cell_type": "code",
   "execution_count": 9,
   "id": "b1e462dc",
   "metadata": {},
   "outputs": [],
   "source": [
    "# 문제 8 코드를 업그레이드 하라.\n"
   ]
  }
 ],
 "metadata": {
  "kernelspec": {
   "display_name": "Python 3 (ipykernel)",
   "language": "python",
   "name": "python3"
  },
  "language_info": {
   "codemirror_mode": {
    "name": "ipython",
    "version": 3
   },
   "file_extension": ".py",
   "mimetype": "text/x-python",
   "name": "python",
   "nbconvert_exporter": "python",
   "pygments_lexer": "ipython3",
   "version": "3.11.4"
  }
 },
 "nbformat": 4,
 "nbformat_minor": 5
}
