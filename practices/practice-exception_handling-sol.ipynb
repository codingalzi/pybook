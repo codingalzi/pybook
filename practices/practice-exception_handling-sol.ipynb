{
 "cells": [
  {
   "cell_type": "markdown",
   "id": "63ac596b",
   "metadata": {},
   "source": [
    "# (실습) 프로그램 오류와 예외처리"
   ]
  },
  {
   "cell_type": "markdown",
   "id": "10fa79ea",
   "metadata": {},
   "source": [
    "## 문제"
   ]
  },
  {
   "cell_type": "markdown",
   "id": "98e667d8",
   "metadata": {},
   "source": [
    "아래 명령문들을 실행해서 오류가 발생하는 경우 오류의 종류와 원인을 설명하고 수정한다."
   ]
  },
  {
   "cell_type": "markdown",
   "id": "2c8cb05b",
   "metadata": {},
   "source": [
    "**코드 1**"
   ]
  },
  {
   "cell_type": "code",
   "execution_count": 1,
   "id": "197cdf74",
   "metadata": {},
   "outputs": [
    {
     "ename": "TypeError",
     "evalue": "can only concatenate str (not \"int\") to str",
     "output_type": "error",
     "traceback": [
      "\u001b[0;31m---------------------------------------------------------------------------\u001b[0m",
      "\u001b[0;31mTypeError\u001b[0m                                 Traceback (most recent call last)",
      "Cell \u001b[0;32mIn[1], line 1\u001b[0m\n\u001b[0;32m----> 1\u001b[0m y \u001b[38;5;241m=\u001b[39m \u001b[38;5;124m\"\u001b[39m\u001b[38;5;124m2\u001b[39m\u001b[38;5;124m\"\u001b[39m \u001b[38;5;241m+\u001b[39m \u001b[38;5;241m2\u001b[39m\n",
      "\u001b[0;31mTypeError\u001b[0m: can only concatenate str (not \"int\") to str"
     ]
    }
   ],
   "source": [
    "y = \"2\" + 2"
   ]
  },
  {
   "cell_type": "markdown",
   "id": "e3b0698b",
   "metadata": {},
   "source": [
    "**코드 2**"
   ]
  },
  {
   "cell_type": "code",
   "execution_count": 3,
   "id": "7129dea7",
   "metadata": {},
   "outputs": [
    {
     "ename": "IndexError",
     "evalue": "string index out of range",
     "output_type": "error",
     "traceback": [
      "\u001b[0;31m---------------------------------------------------------------------------\u001b[0m",
      "\u001b[0;31mIndexError\u001b[0m                                Traceback (most recent call last)",
      "Cell \u001b[0;32mIn[3], line 2\u001b[0m\n\u001b[1;32m      1\u001b[0m hello \u001b[38;5;241m=\u001b[39m \u001b[38;5;124m\"\u001b[39m\u001b[38;5;124m파이썬, 안녕!\u001b[39m\u001b[38;5;124m\"\u001b[39m\n\u001b[0;32m----> 2\u001b[0m out_of_range \u001b[38;5;241m=\u001b[39m hello[\u001b[38;5;241m-\u001b[39m\u001b[38;5;241m10\u001b[39m]\n",
      "\u001b[0;31mIndexError\u001b[0m: string index out of range"
     ]
    }
   ],
   "source": [
    "hello = \"파이썬, 안녕!\"\n",
    "out_of_range = hello[-10]"
   ]
  },
  {
   "cell_type": "markdown",
   "id": "ced6a4ea",
   "metadata": {},
   "source": [
    "**코드 3**"
   ]
  },
  {
   "cell_type": "code",
   "execution_count": 4,
   "id": "af1aaabe",
   "metadata": {},
   "outputs": [
    {
     "ename": "SyntaxError",
     "evalue": "expected ':' (1107532087.py, line 3)",
     "output_type": "error",
     "traceback": [
      "\u001b[0;36m  Cell \u001b[0;32mIn[4], line 3\u001b[0;36m\u001b[0m\n\u001b[0;31m    while x % 2 != 0\u001b[0m\n\u001b[0m                    ^\u001b[0m\n\u001b[0;31mSyntaxError\u001b[0m\u001b[0;31m:\u001b[0m expected ':'\n"
     ]
    }
   ],
   "source": [
    "x = 5\n",
    "\n",
    "while x % 2 != 0\n",
    "    x = 3*x - 1\n",
    "    print(x)"
   ]
  },
  {
   "cell_type": "markdown",
   "id": "23cb829c",
   "metadata": {},
   "source": [
    "**코드 4**"
   ]
  },
  {
   "cell_type": "code",
   "execution_count": 5,
   "id": "9da8039f",
   "metadata": {},
   "outputs": [
    {
     "ename": "IndentationError",
     "evalue": "expected an indented block after 'while' statement on line 3 (924345573.py, line 4)",
     "output_type": "error",
     "traceback": [
      "\u001b[0;36m  Cell \u001b[0;32mIn[5], line 4\u001b[0;36m\u001b[0m\n\u001b[0;31m    x = 3*x - 1\u001b[0m\n\u001b[0m    ^\u001b[0m\n\u001b[0;31mIndentationError\u001b[0m\u001b[0;31m:\u001b[0m expected an indented block after 'while' statement on line 3\n"
     ]
    }
   ],
   "source": [
    "L2 = range(4)\n",
    "\n",
    "while x % 2 != 0:\n",
    "x = 3*x - 1\n",
    "    print(x)"
   ]
  },
  {
   "cell_type": "markdown",
   "id": "bb855012",
   "metadata": {},
   "source": [
    "## 문제"
   ]
  },
  {
   "cell_type": "markdown",
   "id": "0315d002",
   "metadata": {},
   "source": [
    "아래처럼 출력을 하는 코드를 구현하려 한다."
   ]
  },
  {
   "cell_type": "markdown",
   "id": "7153f493",
   "metadata": {},
   "source": [
    "```\n",
    "        * \n",
    "      * * * \n",
    "    * * * * * \n",
    "  * * * * * * * \n",
    "* * * * * * * * * \n",
    "  * * * * * * * \n",
    "    * * * * * \n",
    "      * * * \n",
    "        * \n",
    "```\n"
   ]
  },
  {
   "cell_type": "markdown",
   "id": "08f338f2",
   "metadata": {},
   "source": [
    "그런데 아래 코드를 실행하면 원하는 모양이 출력되지 않는다."
   ]
  },
  {
   "cell_type": "code",
   "execution_count": 38,
   "id": "516ced0e",
   "metadata": {},
   "outputs": [
    {
     "name": "stdout",
     "output_type": "stream",
     "text": [
      "        * \n",
      "      * * \n",
      "    * * * \n",
      "  * * * * \n",
      "* * * * * \n",
      "  * * * * \n",
      "    * * * \n",
      "      * * \n",
      "        * \n"
     ]
    }
   ],
   "source": [
    "for num in range(1, 10):\n",
    "    if num <= 5:\n",
    "        spaces = 5 - num\n",
    "        stars = num\n",
    "    else:\n",
    "        spaces = num - 5\n",
    "        stars = 10 - num\n",
    "        \n",
    "    print(\"  \" * spaces + \"* \" * stars)"
   ]
  },
  {
   "cell_type": "markdown",
   "id": "af100d1b",
   "metadata": {},
   "source": [
    "위 코드에 포함된 한 줄의 명령문만 수정하면 의도한 대로 모양이 출력된다.\n",
    "어느 행의 명령문을 어떻게 수정해야 하는지 설명하고 수정한 뒤에 실행해서 확인하라."
   ]
  },
  {
   "cell_type": "markdown",
   "id": "9ffefb06",
   "metadata": {},
   "source": [
    "**답**"
   ]
  },
  {
   "cell_type": "code",
   "execution_count": 39,
   "id": "03ba4ff9",
   "metadata": {},
   "outputs": [
    {
     "name": "stdout",
     "output_type": "stream",
     "text": [
      "        * \n",
      "      * * * \n",
      "    * * * * * \n",
      "  * * * * * * * \n",
      "* * * * * * * * * \n",
      "  * * * * * * * \n",
      "    * * * * * \n",
      "      * * * \n",
      "        * \n"
     ]
    }
   ],
   "source": [
    "for num in range(1, 10):\n",
    "    if num <= 5:\n",
    "        spaces = 5 - num\n",
    "        stars = num * 2 - 1\n",
    "    else:\n",
    "        spaces = num - 5\n",
    "        stars = (10 - num) * 2 - 1\n",
    "        \n",
    "    print(\"  \" * spaces + \"* \" * stars)"
   ]
  },
  {
   "cell_type": "markdown",
   "id": "8bcd32f9",
   "metadata": {},
   "source": [
    "## 문제"
   ]
  },
  {
   "cell_type": "markdown",
   "id": "e59f42d6",
   "metadata": {},
   "source": [
    "문자열을 인자로 입력받을 때\n",
    "정수 형식이면 정수로 \n",
    "아니면 문자열 그대로를 반환하는 함수 `whether_float()`를\n",
    "예외 처리를 이용하여 구현하라."
   ]
  },
  {
   "cell_type": "markdown",
   "id": "0241ef8e",
   "metadata": {},
   "source": [
    "## 문제"
   ]
  },
  {
   "cell_type": "markdown",
   "id": "f3bbdcbb",
   "metadata": {
    "id": "fGjSM-6P2Pl7"
   },
   "source": [
    "두 개의 정수 `a`, `b`를 입력받아 `a/b`를 계산한 결과를 출력하는 코드를 작성하라.\n",
    "단, 아래 조건이 만족되어야 한다.\n",
    "\n",
    "* 정수가 아닌 값이 입력될 경우, 정수를 입력하라고 전달한다.\n",
    "* `b`에 `0`이 입력될 경우, 0이 아닌 숫자를 입력하라고 전달한다.\n",
    "* 올바른 값이 입력될 때까지 재입력을 요구하며, 올바른 값이 입력되면 나눗셈을 실행하고 종료한다.\n",
    "\n",
    "힌트: `input()` 함수, `while True` 무한루프 반복문, `break` 명령문,\n",
    "`try-except (ValueError, ZeroDivisionError)` 명령문 등 활용."
   ]
  },
  {
   "cell_type": "markdown",
   "id": "fea6e2f9",
   "metadata": {},
   "source": [
    "**답**"
   ]
  },
  {
   "cell_type": "code",
   "execution_count": 17,
   "id": "b1c98e1f",
   "metadata": {},
   "outputs": [
    {
     "name": "stdout",
     "output_type": "stream",
     "text": [
      "첫째 정수를 입력하세요: 4\n",
      "둘째 정수를 입력하세요: 5ㅁ\n",
      "a와 b 모두 정수를 입력하세요. 특히 b는 0이 아니어야 합니다.\n",
      "첫째 정수를 입력하세요: 5\n",
      "둘째 정수를 입력하세요: 0\n",
      "a와 b 모두 정수를 입력하세요. 특히 b는 0이 아니어야 합니다.\n",
      "첫째 정수를 입력하세요: 5\n",
      "둘째 정수를 입력하세요: 7\n",
      "0.7142857142857143\n"
     ]
    }
   ],
   "source": [
    "while True:\n",
    "    try:\n",
    "        a = int(input(\"첫째 정수를 입력하세요: \"))\n",
    "        b = int(input(\"둘째 정수를 입력하세요: \"))\n",
    "        \n",
    "        print(a / b)\n",
    "        break\n",
    "\n",
    "    except (ValueError, ZeroDivisionError):\n",
    "        print(\"a와 b 모두 정수를 입력하세요. 특히 b는 0이 아니어야 합니다.\")"
   ]
  },
  {
   "cell_type": "markdown",
   "id": "c4f5c216",
   "metadata": {},
   "source": [
    "## 문제 "
   ]
  },
  {
   "cell_type": "markdown",
   "id": "1d9e5efa",
   "metadata": {},
   "source": [
    "아래 코드는 실행될 때마다 1과 100까지의 정수 중에서 임의로 정해진 값을 할당받는 `secret` 변수가\n",
    "가리키는 값을 맞히는 게임이다."
   ]
  },
  {
   "cell_type": "code",
   "execution_count": 41,
   "id": "f1e9ea56",
   "metadata": {},
   "outputs": [
    {
     "name": "stdout",
     "output_type": "stream",
     "text": [
      "수 알아맞히기 게임에 환영합니다.\n",
      "1부터 100 사이의 정수 하나를 입력하세요: 50\n",
      "너무 커요!\n",
      "1부터 100 사이의 정수 하나를 입력하세요: 25\n",
      "너무 작아요!\n",
      "1부터 100 사이의 정수 하나를 입력하세요: 37\n",
      "너무 커요!\n",
      "1부터 100 사이의 정수 하나를 입력하세요: 31\n",
      "맞았습니다!\n",
      "게임 종료!\n"
     ]
    }
   ],
   "source": [
    "from random import randint\n",
    "\n",
    "print(\"수 알아맞히기 게임에 환영합니다.\")\n",
    "\n",
    "secret = randint(1, 100)\n",
    "guess = -1   # 이어지는 while 반복문이 최소 한 번은 실행되도록 함\n",
    "\n",
    "while guess != secret:\n",
    "    guess = int(input(\"1부터 100 사이의 정수 하나를 입력하세요: \"))\n",
    "\n",
    "    if guess == secret:\n",
    "        print(\"맞았습니다!\")\n",
    "    elif guess > secret:\n",
    "        print(\"너무 커요!\")\n",
    "    else:\n",
    "        print(\"너무 작아요!\")\n",
    "\n",
    "print(\"게임 종료!\")"
   ]
  },
  {
   "cell_type": "markdown",
   "id": "065f7e32",
   "metadata": {},
   "source": [
    "**질문 1**"
   ]
  },
  {
   "cell_type": "markdown",
   "id": "b58475c8",
   "metadata": {},
   "source": [
    "위 코드를 수정하여 정수 입력이 아닌 경우에 재입력을 요구하도록 하라.\n",
    "\n",
    "힌트: `try ... except ...` 명령문과 `continue` 명령문 활용"
   ]
  },
  {
   "cell_type": "markdown",
   "id": "6b2e5648",
   "metadata": {},
   "source": [
    "**답**"
   ]
  },
  {
   "cell_type": "code",
   "execution_count": 18,
   "id": "94c124c2",
   "metadata": {},
   "outputs": [
    {
     "name": "stdout",
     "output_type": "stream",
     "text": [
      "수 알아맞히기 게임에 환영합니다.\n",
      "1부터 100 사이의 정수 하나를 입력하세요: kdkdk\n",
      "1부터 100 사이의 정수 하나를 입력하세요: 50\n",
      "너무 작아요!\n",
      "1부터 100 사이의 정수 하나를 입력하세요: 75\n",
      "너무 작아요!\n",
      "1부터 100 사이의 정수 하나를 입력하세요: 87\n",
      "너무 작아요!\n",
      "1부터 100 사이의 정수 하나를 입력하세요: 93\n",
      "너무 커요!\n",
      "1부터 100 사이의 정수 하나를 입력하세요: 90\n",
      "맞았습니다!\n",
      "게임 종료!\n"
     ]
    }
   ],
   "source": [
    "from random import randint\n",
    "\n",
    "print(\"수 알아맞히기 게임에 환영합니다.\")\n",
    "\n",
    "secret = randint(1, 100)\n",
    "guess = -1   # 이어지는 while 반복문이 최소 한 번은 실행되도록 함\n",
    "\n",
    "while guess != secret:\n",
    "    try:\n",
    "        guess = int(input(\"1부터 100 사이의 정수 하나를 입력하세요: \"))\n",
    "    except:\n",
    "        continue\n",
    "\n",
    "    if guess == secret:\n",
    "        print(\"맞았습니다!\")\n",
    "    elif guess > secret:\n",
    "        print(\"너무 커요!\")\n",
    "    else:\n",
    "        print(\"너무 작아요!\")\n",
    "\n",
    "print(\"게임 종료!\")"
   ]
  },
  {
   "cell_type": "markdown",
   "id": "c5d09b72",
   "metadata": {},
   "source": [
    "**질문 2**"
   ]
  },
  {
   "cell_type": "markdown",
   "id": "f6dcc5e6",
   "metadata": {},
   "source": [
    "\"수 알아맞히기 게임\"이 실행중에 사용자가 \n",
    "영어 알파벳 `q` 또는 `Q` 를 입력하면 게임이 종료되도록 이전 질문의 답으로 사용된 코드를 수정하라."
   ]
  },
  {
   "cell_type": "code",
   "execution_count": 19,
   "id": "441eed3e",
   "metadata": {},
   "outputs": [
    {
     "name": "stdout",
     "output_type": "stream",
     "text": [
      "수 알아맞히기 게임에 환영합니다.\n",
      "1부터 100 사이의 정수 하나를 입력하세요: abcd\n",
      "너무 작아요!\n",
      "1부터 100 사이의 정수 하나를 입력하세요: 50\n",
      "너무 작아요!\n",
      "1부터 100 사이의 정수 하나를 입력하세요: 25\n",
      "너무 작아요!\n",
      "1부터 100 사이의 정수 하나를 입력하세요: q\n",
      "게임 종료!\n"
     ]
    }
   ],
   "source": [
    "from random import randint\n",
    "\n",
    "print(\"수 알아맞히기 게임에 환영합니다.\")\n",
    "\n",
    "secret = randint(1, 100)\n",
    "guess = -1   # 이어지는 while 반복문이 최소 한 번은 실행되도록 함\n",
    "\n",
    "while guess != secret:\n",
    "    try:\n",
    "        guess_str = input(\"1부터 100 사이의 정수 하나를 입력하세요: \")\n",
    "        if guess_str == 'q' or guess_str == 'Q':\n",
    "            break\n",
    "        guess = int(guess)\n",
    "    except:\n",
    "        continue\n",
    "        \n",
    "    if guess == secret:\n",
    "        print(\"맞았습니다!\")\n",
    "    elif guess > secret:\n",
    "        print(\"너무 커요!\")\n",
    "    else:\n",
    "        print(\"너무 작아요!\")\n",
    "\n",
    "print(\"게임 종료!\")"
   ]
  },
  {
   "cell_type": "code",
   "execution_count": null,
   "id": "f8237d5b",
   "metadata": {},
   "outputs": [],
   "source": []
  },
  {
   "cell_type": "code",
   "execution_count": null,
   "id": "58b068fd",
   "metadata": {},
   "outputs": [],
   "source": []
  },
  {
   "cell_type": "code",
   "execution_count": null,
   "id": "99253e46",
   "metadata": {},
   "outputs": [],
   "source": []
  },
  {
   "cell_type": "code",
   "execution_count": null,
   "id": "93d408f3",
   "metadata": {},
   "outputs": [],
   "source": []
  },
  {
   "cell_type": "markdown",
   "id": "64ab7352",
   "metadata": {},
   "source": [
    "## 문제"
   ]
  },
  {
   "cell_type": "markdown",
   "id": "fc026162",
   "metadata": {
    "id": "RJGEd1T44JF0"
   },
   "source": [
    "숫자 야구 게임은 임의로 정한 세 자리의 수(`answer`)를 참여자가 맞히는 게임으로, 아래의 규칙을 따른다.\n",
    "\n",
    "* 사용되는 수는 1부터 9까지의 서로 다른 숫자이다. \n",
    "* 참여자가 입력한 수가 `answer`와 다를 경우, 참여자에게 아래 기준에 따른 결과를 알려준다.\n",
    "  * 숫자의 위치가 맞으면, 스트라이크\n",
    "  * 숫자는 맞지만 위치가 틀리면, 볼\n",
    "  * 숫자와 위치가 모두 틀리면, 아웃\n",
    "\n",
    "예를 들어, `answer` 가 123 일 때, 참여자가 456 을 입력하면 `아웃` 을, \n",
    "257 을 입력하면 `1볼` 을, \n",
    "273 을 입력하면 `1볼 1스트라이크` 를 출력한다.\n",
    "\n",
    "숫자 야구 게임을 구현하라.\n",
    "단, 맞혀야 하는 세 자리의 수는 157로 지정하며,\n",
    "사용자가 서로 다른 세 개의 숫자로 이루어진 수를 입력하도록 유도한다."
   ]
  },
  {
   "cell_type": "code",
   "execution_count": 5,
   "id": "fd09d349",
   "metadata": {},
   "outputs": [],
   "source": [
    "# answer = 157\n"
   ]
  },
  {
   "cell_type": "markdown",
   "id": "634be104",
   "metadata": {},
   "source": [
    "**문제 6**"
   ]
  },
  {
   "cell_type": "markdown",
   "id": "94460267",
   "metadata": {
    "id": "oamaDleuHqAX"
   },
   "source": [
    "숫자 야구 게임을 다음 조건이 만족되도록 업그레이드 하라.\n",
    "\n",
    "> 참여자가 정답을 맞힐 때까지 게임이 실행된다."
   ]
  },
  {
   "cell_type": "code",
   "execution_count": 6,
   "id": "204e7d3e",
   "metadata": {},
   "outputs": [],
   "source": [
    "# 문제 5 코드를 업그레이드 하라.\n"
   ]
  },
  {
   "cell_type": "markdown",
   "id": "6167db78",
   "metadata": {},
   "source": [
    "**문제 7**"
   ]
  },
  {
   "cell_type": "markdown",
   "id": "fac2173e",
   "metadata": {
    "id": "oamaDleuHqAX"
   },
   "source": [
    "숫자 야구 게임을 다음 조건이 만족되도록 업그레이드 하라.\n",
    "\n",
    "> 맞혀야 하는 세 자리의 수가 무작위로 지정된다. 단, 0은 포함하지 않는다.\n",
    "\n",
    "힌트: `random.randint()` 함수를 이용한다."
   ]
  },
  {
   "cell_type": "code",
   "execution_count": 7,
   "id": "a5cc126d",
   "metadata": {},
   "outputs": [],
   "source": [
    "# 문제 6 코드를 업그레이드 하라.\n"
   ]
  },
  {
   "cell_type": "markdown",
   "id": "f55bcd38",
   "metadata": {},
   "source": [
    "**문제 8**"
   ]
  },
  {
   "cell_type": "markdown",
   "id": "ef83064b",
   "metadata": {
    "id": "oamaDleuHqAX"
   },
   "source": [
    "숫자 야구 게임을 다음 조건이 만족되도록 업그레이드 하라.\n",
    "\n",
    "> 게임 참여자가 영어 알파벳 `q` 또는 `Q` 를 입력하면 게임을 종료한다."
   ]
  },
  {
   "cell_type": "code",
   "execution_count": 8,
   "id": "5133cc40",
   "metadata": {},
   "outputs": [],
   "source": [
    "# 문제 7 코드를 업그레이드 하라.\n"
   ]
  },
  {
   "cell_type": "markdown",
   "id": "3846dd62",
   "metadata": {},
   "source": [
    "**문제 9**"
   ]
  },
  {
   "cell_type": "markdown",
   "id": "a6ddf86d",
   "metadata": {
    "id": "oamaDleuHqAX"
   },
   "source": [
    "숫자 야구 게임을 다음 조건이 만족되도록 업그레이드 하라.\n",
    "\n",
    "> 정수가 아닌 값이 입력되면 무시하고 재입력하도록 한다."
   ]
  },
  {
   "cell_type": "code",
   "execution_count": 9,
   "id": "b1e462dc",
   "metadata": {},
   "outputs": [],
   "source": [
    "# 문제 8 코드를 업그레이드 하라.\n"
   ]
  }
 ],
 "metadata": {
  "kernelspec": {
   "display_name": "Python 3 (ipykernel)",
   "language": "python",
   "name": "python3"
  },
  "language_info": {
   "codemirror_mode": {
    "name": "ipython",
    "version": 3
   },
   "file_extension": ".py",
   "mimetype": "text/x-python",
   "name": "python",
   "nbconvert_exporter": "python",
   "pygments_lexer": "ipython3",
   "version": "3.11.4"
  }
 },
 "nbformat": 4,
 "nbformat_minor": 5
}
