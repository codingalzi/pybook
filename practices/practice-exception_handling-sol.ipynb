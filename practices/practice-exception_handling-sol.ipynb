{
  "cells": [
    {
      "cell_type": "markdown",
      "id": "63ac596b",
      "metadata": {
        "id": "63ac596b"
      },
      "source": [
        "# (실습) 프로그램 오류와 예외처리"
      ]
    },
    {
      "cell_type": "markdown",
      "id": "31e88b4f",
      "metadata": {
        "id": "31e88b4f"
      },
      "source": [
        "**참고 사항**\n",
        "\n",
        "먼저\n",
        "[프로그램 오류와 예외 처리](https://codingalzi.github.io/pybook/exception_handling.html)의 내용과\n",
        "[(필수 예제) 프로그램 오류와 예외 처리](https://colab.research.google.com/github/codingalzi/pybook/blob/master/examples/examples-exception_handling.ipynb)의 예제들을 학습하세요."
      ]
    },
    {
      "cell_type": "markdown",
      "id": "10fa79ea",
      "metadata": {
        "id": "10fa79ea"
      },
      "source": [
        "## 문제 1"
      ]
    },
    {
      "cell_type": "markdown",
      "id": "98e667d8",
      "metadata": {
        "id": "98e667d8"
      },
      "source": [
        "아래 명령문들을 실행해서 발생하는 오류의 종류와 원인을\n",
        "아래 형식의 예외 처리를 이용하여 설명하라.\n",
        "\n",
        "```python\n",
        "try:\n",
        "    명령문1\n",
        "except 오류종류 as err:\n",
        "    print(f\"(오류 설명) 오류종류: {err}\")\n",
        "```\n",
        "\n",
        "위 코드의 `명령문1`을 실행할 때 `오류종류`에 해당하는 오류가 발생하면\n",
        "`err`은 오류가 발생한 이유를 설명하는 문자열이 지정된다.\n",
        "따라서 오류의 발생원인을 담은 문장이 화면에 출력된다.\n",
        "\n",
        "반면에 `SyntaxError`, `IndentationError` 등은 프로그램을 실행하기 전에 발견되는\n",
        "오류이기에 `try-except` 명령문을 사용할 의미가 없다.\n",
        "이런 경우엔 오류의 원인을 찾아 제거하라."
      ]
    },
    {
      "cell_type": "markdown",
      "id": "2c8cb05b",
      "metadata": {
        "id": "2c8cb05b"
      },
      "source": [
        "**코드 1**"
      ]
    },
    {
      "cell_type": "code",
      "execution_count": null,
      "id": "197cdf74",
      "metadata": {
        "id": "197cdf74",
        "outputId": "bc6399d7-7290-4b25-beb2-28121f013670"
      },
      "outputs": [
        {
          "ename": "TypeError",
          "evalue": "can only concatenate str (not \"int\") to str",
          "output_type": "error",
          "traceback": [
            "\u001b[0;31m---------------------------------------------------------------------------\u001b[0m",
            "\u001b[0;31mTypeError\u001b[0m                                 Traceback (most recent call last)",
            "Cell \u001b[0;32mIn[3], line 1\u001b[0m\n\u001b[0;32m----> 1\u001b[0m y \u001b[38;5;241m=\u001b[39m \u001b[38;5;124m\"\u001b[39m\u001b[38;5;124m2\u001b[39m\u001b[38;5;124m\"\u001b[39m \u001b[38;5;241m+\u001b[39m \u001b[38;5;241m2\u001b[39m\n",
            "\u001b[0;31mTypeError\u001b[0m: can only concatenate str (not \"int\") to str"
          ]
        }
      ],
      "source": [
        "y = \"2\" + 2"
      ]
    },
    {
      "cell_type": "markdown",
      "id": "f7718f26",
      "metadata": {
        "id": "f7718f26"
      },
      "source": [
        "**답**"
      ]
    },
    {
      "cell_type": "markdown",
      "id": "2b75c099",
      "metadata": {
        "id": "2b75c099"
      },
      "source": [
        "- `TypeError` 발생:정수와 문자열의 덧셈연산은 허용되지 않음.\n",
        "- 덧셈연산자의 두 인자는 모두 정수이거나 모두 문자열이어야 함."
      ]
    },
    {
      "cell_type": "markdown",
      "id": "8ce8cb1a",
      "metadata": {
        "id": "8ce8cb1a"
      },
      "source": [
        "아래와 같이 코드를 수정한다."
      ]
    },
    {
      "cell_type": "code",
      "execution_count": null,
      "id": "ab21c8db",
      "metadata": {
        "id": "ab21c8db",
        "outputId": "e0dd3e58-b99c-41e8-b1f7-8fe6f407dfbc"
      },
      "outputs": [
        {
          "name": "stdout",
          "output_type": "stream",
          "text": [
            "(오류 설명) TypeError: can only concatenate str (not \"int\") to str\n"
          ]
        }
      ],
      "source": [
        "try:\n",
        "    y = \"2\" + 2\n",
        "except TypeError as err:\n",
        "    print(f\"(오류 설명) TypeError: {err}\")"
      ]
    },
    {
      "cell_type": "markdown",
      "id": "e3b0698b",
      "metadata": {
        "id": "e3b0698b"
      },
      "source": [
        "**코드 2**"
      ]
    },
    {
      "cell_type": "code",
      "execution_count": null,
      "id": "7129dea7",
      "metadata": {
        "id": "7129dea7",
        "outputId": "1a8fb2b1-740b-43f5-c782-4770c054cd7b"
      },
      "outputs": [
        {
          "ename": "IndexError",
          "evalue": "string index out of range",
          "output_type": "error",
          "traceback": [
            "\u001b[0;31m---------------------------------------------------------------------------\u001b[0m",
            "\u001b[0;31mIndexError\u001b[0m                                Traceback (most recent call last)",
            "Cell \u001b[0;32mIn[5], line 2\u001b[0m\n\u001b[1;32m      1\u001b[0m hello \u001b[38;5;241m=\u001b[39m \u001b[38;5;124m\"\u001b[39m\u001b[38;5;124m파이썬, 안녕!\u001b[39m\u001b[38;5;124m\"\u001b[39m\n\u001b[0;32m----> 2\u001b[0m out_of_range \u001b[38;5;241m=\u001b[39m hello[\u001b[38;5;241m-\u001b[39m\u001b[38;5;241m10\u001b[39m]\n",
            "\u001b[0;31mIndexError\u001b[0m: string index out of range"
          ]
        }
      ],
      "source": [
        "hello = \"파이썬, 안녕!\"\n",
        "out_of_range = hello[-10]"
      ]
    },
    {
      "cell_type": "markdown",
      "id": "71170987",
      "metadata": {
        "id": "71170987"
      },
      "source": [
        "**답**"
      ]
    },
    {
      "cell_type": "markdown",
      "id": "e3f1a0d1",
      "metadata": {
        "id": "e3f1a0d1"
      },
      "source": [
        "- `IndexError` 발생: 길이가 `n`인 문자열에 사용할 수 있는 인덱스는 `-n`부터 `n-1` 사이의 정수만 해당함.\n",
        "- 문자열 `\"파이썬, 안녕!\"`의 길이는 8임."
      ]
    },
    {
      "cell_type": "code",
      "execution_count": null,
      "id": "e52f7ae2",
      "metadata": {
        "id": "e52f7ae2",
        "outputId": "21848fff-06fb-47c1-aa95-41366759f4e3"
      },
      "outputs": [
        {
          "data": {
            "text/plain": [
              "8"
            ]
          },
          "execution_count": 6,
          "metadata": {},
          "output_type": "execute_result"
        }
      ],
      "source": [
        "len(hello)"
      ]
    },
    {
      "cell_type": "markdown",
      "id": "97d54e03",
      "metadata": {
        "id": "97d54e03"
      },
      "source": [
        "아래와 같이 코드를 수정한다."
      ]
    },
    {
      "cell_type": "code",
      "execution_count": null,
      "id": "4cbac580",
      "metadata": {
        "id": "4cbac580",
        "outputId": "46dd3505-bf02-4575-fe0b-bd62d1283357"
      },
      "outputs": [
        {
          "name": "stdout",
          "output_type": "stream",
          "text": [
            "(오류 설명) IndexError: string index out of range\n"
          ]
        }
      ],
      "source": [
        "hello = \"파이썬, 안녕!\"\n",
        "\n",
        "try:\n",
        "    out_of_range = hello[-10]\n",
        "except IndexError as err:\n",
        "    print(f\"(오류 설명) IndexError: {err}\")"
      ]
    },
    {
      "cell_type": "markdown",
      "id": "ced6a4ea",
      "metadata": {
        "id": "ced6a4ea"
      },
      "source": [
        "**코드 3**"
      ]
    },
    {
      "cell_type": "code",
      "execution_count": null,
      "id": "af1aaabe",
      "metadata": {
        "id": "af1aaabe",
        "outputId": "52d2c922-23d8-4dfd-ba10-01b54e7a30e6"
      },
      "outputs": [
        {
          "ename": "SyntaxError",
          "evalue": "expected ':' (1107532087.py, line 3)",
          "output_type": "error",
          "traceback": [
            "\u001b[0;36m  Cell \u001b[0;32mIn[8], line 3\u001b[0;36m\u001b[0m\n\u001b[0;31m    while x % 2 != 0\u001b[0m\n\u001b[0m                    ^\u001b[0m\n\u001b[0;31mSyntaxError\u001b[0m\u001b[0;31m:\u001b[0m expected ':'\n"
          ]
        }
      ],
      "source": [
        "x = 5\n",
        "\n",
        "while x % 2 != 0\n",
        "    x = 3*x - 1\n",
        "    print(x)"
      ]
    },
    {
      "cell_type": "markdown",
      "id": "d20980bb",
      "metadata": {
        "id": "d20980bb"
      },
      "source": [
        "**답**"
      ]
    },
    {
      "cell_type": "markdown",
      "id": "4a638f81",
      "metadata": {
        "id": "4a638f81"
      },
      "source": [
        "- `SyntaxError` 발생: `while 논리식` 명령문은 아래 코드처럼 항상 콜론(`:`)으로 마무리 해야 함."
      ]
    },
    {
      "cell_type": "markdown",
      "id": "a4b08c84",
      "metadata": {
        "id": "a4b08c84"
      },
      "source": [
        "`SyntaxError`는 코드를 실행하기 전에 발생하는 오류이기 때문에\n",
        "`try-except` 명령문으로 감싸더라도 계속해서 `SyntaxError`가 발생한다."
      ]
    },
    {
      "cell_type": "code",
      "execution_count": null,
      "id": "4ecfdf6f",
      "metadata": {
        "id": "4ecfdf6f",
        "outputId": "7344e732-f8a4-477f-9258-03675b115686"
      },
      "outputs": [
        {
          "ename": "SyntaxError",
          "evalue": "expected ':' (832799497.py, line 4)",
          "output_type": "error",
          "traceback": [
            "\u001b[0;36m  Cell \u001b[0;32mIn[9], line 4\u001b[0;36m\u001b[0m\n\u001b[0;31m    while x % 2 != 0\u001b[0m\n\u001b[0m                    ^\u001b[0m\n\u001b[0;31mSyntaxError\u001b[0m\u001b[0;31m:\u001b[0m expected ':'\n"
          ]
        }
      ],
      "source": [
        "x = 5\n",
        "\n",
        "try:\n",
        "    while x % 2 != 0\n",
        "        x = 3*x - 1\n",
        "        print(x)\n",
        "except SyntaxError as err:\n",
        "    print(f\"(오류 설명) SyntaxError: {err}\")"
      ]
    },
    {
      "cell_type": "markdown",
      "id": "ae5b8f93",
      "metadata": {
        "id": "ae5b8f93"
      },
      "source": [
        "따라서 아래 처럼 코드를 바로 수정하는 수밖에 없다."
      ]
    },
    {
      "cell_type": "code",
      "execution_count": null,
      "id": "4023fd49",
      "metadata": {
        "id": "4023fd49",
        "outputId": "59d370fe-65a8-4aa2-aecb-3957065f1c26"
      },
      "outputs": [
        {
          "name": "stdout",
          "output_type": "stream",
          "text": [
            "14\n"
          ]
        }
      ],
      "source": [
        "x = 5\n",
        "\n",
        "while x % 2 != 0:\n",
        "    x = 3*x - 1\n",
        "    print(x)"
      ]
    },
    {
      "cell_type": "markdown",
      "id": "23cb829c",
      "metadata": {
        "id": "23cb829c"
      },
      "source": [
        "**코드 4**"
      ]
    },
    {
      "cell_type": "code",
      "execution_count": null,
      "id": "9da8039f",
      "metadata": {
        "id": "9da8039f",
        "outputId": "73d3f9eb-835d-42e5-faca-c5e0c72b0aab"
      },
      "outputs": [
        {
          "ename": "IndentationError",
          "evalue": "expected an indented block after 'while' statement on line 3 (1076963484.py, line 4)",
          "output_type": "error",
          "traceback": [
            "\u001b[0;36m  Cell \u001b[0;32mIn[11], line 4\u001b[0;36m\u001b[0m\n\u001b[0;31m    x = 3*x - 1\u001b[0m\n\u001b[0m    ^\u001b[0m\n\u001b[0;31mIndentationError\u001b[0m\u001b[0;31m:\u001b[0m expected an indented block after 'while' statement on line 3\n"
          ]
        }
      ],
      "source": [
        "x = 4\n",
        "\n",
        "while x % 2 != 0:\n",
        "x = 3*x - 1\n",
        "    print(x)\n",
        "\n",
        "print(x, \": 짝수\")"
      ]
    },
    {
      "cell_type": "markdown",
      "id": "edfa38f5",
      "metadata": {
        "id": "edfa38f5"
      },
      "source": [
        "**답**"
      ]
    },
    {
      "cell_type": "markdown",
      "id": "60eb5ecf",
      "metadata": {
        "id": "60eb5ecf"
      },
      "source": [
        "- `IndentationError` 발생: `while` 조건문의 본문은 아래 코드처럼 들여쓰기를 해야 함."
      ]
    },
    {
      "cell_type": "markdown",
      "id": "652f9c89",
      "metadata": {
        "id": "652f9c89"
      },
      "source": [
        "`IndentationError` 또한 코드를 실행하기 전에 발생하는 오류이기 때문에\n",
        "`try-except` 명령문으로 감싸더라도 계속해서 `SyntaxError`가 발생한다.\n",
        "따라서 아래 처럼 코드를 바로 수정하는 수밖에 없다."
      ]
    },
    {
      "cell_type": "code",
      "execution_count": null,
      "id": "1afeaabf",
      "metadata": {
        "id": "1afeaabf",
        "outputId": "b6746ff9-2e27-4e92-a500-973bcac33177"
      },
      "outputs": [
        {
          "name": "stdout",
          "output_type": "stream",
          "text": [
            "4 : 짝수\n"
          ]
        }
      ],
      "source": [
        "x = 4\n",
        "\n",
        "while x % 2 != 0:\n",
        "    x = 3*x - 1\n",
        "    print(x)\n",
        "\n",
        "print(x, \": 짝수\")"
      ]
    },
    {
      "cell_type": "markdown",
      "id": "bb855012",
      "metadata": {
        "id": "bb855012"
      },
      "source": [
        "## 문제 2"
      ]
    },
    {
      "cell_type": "markdown",
      "id": "0315d002",
      "metadata": {
        "id": "0315d002"
      },
      "source": [
        "아래처럼 출력을 하는 코드를 구현하려 한다."
      ]
    },
    {
      "cell_type": "markdown",
      "id": "7153f493",
      "metadata": {
        "id": "7153f493"
      },
      "source": [
        "```\n",
        "        *\n",
        "      * * *\n",
        "    * * * * *\n",
        "  * * * * * * *\n",
        "* * * * * * * * *\n",
        "  * * * * * * *\n",
        "    * * * * *\n",
        "      * * *\n",
        "        *\n",
        "```\n"
      ]
    },
    {
      "cell_type": "markdown",
      "id": "08f338f2",
      "metadata": {
        "id": "08f338f2"
      },
      "source": [
        "그런데 아래 코드를 실행하면 원하는 모양이 출력되지 않는다."
      ]
    },
    {
      "cell_type": "code",
      "execution_count": null,
      "id": "516ced0e",
      "metadata": {
        "id": "516ced0e",
        "outputId": "9ed6fae3-6693-4e9c-88f4-4f8fbf75a68f"
      },
      "outputs": [
        {
          "name": "stdout",
          "output_type": "stream",
          "text": [
            "        * \n",
            "      * * \n",
            "    * * * \n",
            "  * * * * \n",
            "* * * * * \n",
            "  * * * * \n",
            "    * * * \n",
            "      * * \n",
            "        * \n"
          ]
        }
      ],
      "source": [
        "for num in range(1, 10):\n",
        "    if num <= 5:\n",
        "        stars = num\n",
        "        spaces = 5 - num\n",
        "    else:\n",
        "        stars = 10 - num\n",
        "        spaces = num - 5\n",
        "\n",
        "    print(\"  \" * spaces + \"* \" * stars)"
      ]
    },
    {
      "cell_type": "markdown",
      "id": "af100d1b",
      "metadata": {
        "id": "af100d1b"
      },
      "source": [
        "위 코드에 포함된 한 줄의 명령문만 수정하면 의도한 대로 모양이 출력된다.\n",
        "어느 행의 명령문을 어떻게 수정해야 하는지 설명하고 수정한 뒤에 실행해서 확인하라."
      ]
    },
    {
      "cell_type": "markdown",
      "id": "9ffefb06",
      "metadata": {
        "id": "9ffefb06"
      },
      "source": [
        "**답**"
      ]
    },
    {
      "cell_type": "markdown",
      "id": "a86abe85",
      "metadata": {
        "id": "a86abe85"
      },
      "source": [
        "- 출력되는 별을 두 배 정도 늘리면됨. 단 가운데 부분은 한 번만 반복되기에 1을 줄여야 함.\n",
        "- 따라서 아래 코드에서처럼 출력되는 별의 수를 두 배 한 다음 1을 빼면 됨."
      ]
    },
    {
      "cell_type": "code",
      "execution_count": null,
      "id": "03ba4ff9",
      "metadata": {
        "colab": {
          "base_uri": "https://localhost:8080/"
        },
        "id": "03ba4ff9",
        "outputId": "f5c29c9e-9b42-4766-9687-1345f31cd874"
      },
      "outputs": [
        {
          "name": "stdout",
          "output_type": "stream",
          "text": [
            "        * \n",
            "      * * * \n",
            "    * * * * * \n",
            "  * * * * * * * \n",
            "* * * * * * * * * \n",
            "  * * * * * * * \n",
            "    * * * * * \n",
            "      * * * \n",
            "        * \n"
          ]
        }
      ],
      "source": [
        "for num in range(1, 10):\n",
        "    if num <= 5:\n",
        "        stars = num\n",
        "        spaces = 5 - num\n",
        "    else:\n",
        "        stars = 10 - num\n",
        "        spaces = num - 5\n",
        "\n",
        "    print(\"  \" * spaces + \"* \" * (2 * stars -1))"
      ]
    },
    {
      "cell_type": "markdown",
      "id": "8bcd32f9",
      "metadata": {
        "id": "8bcd32f9"
      },
      "source": [
        "## 문제 3"
      ]
    },
    {
      "cell_type": "markdown",
      "id": "143420fa",
      "metadata": {
        "id": "143420fa"
      },
      "source": [
        "아래처럼 출력하는 코드를 구현하려 한다."
      ]
    },
    {
      "cell_type": "markdown",
      "id": "7a3bba40",
      "metadata": {
        "id": "7a3bba40"
      },
      "source": [
        "```python\n",
        "[0, 1]\n",
        "[0, 3]\n",
        "[1, 1]\n",
        "[1, 3]\n",
        "[2, 3]\n",
        "[3, 3]\n",
        "```"
      ]
    },
    {
      "cell_type": "markdown",
      "id": "a6a0464a",
      "metadata": {
        "id": "a6a0464a"
      },
      "source": [
        "그런데 아래 코드를 실행하면 원하는 모양이 출력되지 않는다."
      ]
    },
    {
      "cell_type": "code",
      "execution_count": null,
      "id": "258e10ba",
      "metadata": {
        "id": "258e10ba",
        "outputId": "414e2f4c-3b6b-4cf9-ce1a-b9403b7e3a59"
      },
      "outputs": [
        {
          "name": "stdout",
          "output_type": "stream",
          "text": [
            "[0, 0]\n",
            "[0, 1]\n",
            "[0, 2]\n",
            "[0, 3]\n",
            "[1, 1]\n",
            "[1, 2]\n",
            "[1, 3]\n",
            "[2, 2]\n",
            "[2, 3]\n",
            "[3, 3]\n"
          ]
        }
      ],
      "source": [
        "for i in range(4):\n",
        "    for j in range(4):\n",
        "        if j < i:\n",
        "            continue\n",
        "        print([i, j])"
      ]
    },
    {
      "cell_type": "markdown",
      "id": "a4b2b398",
      "metadata": {
        "id": "a4b2b398"
      },
      "source": [
        "위 코드에 포함된 한 줄의 명령문만 수정하여 원하는 모양이 출력되도록 하라."
      ]
    },
    {
      "cell_type": "markdown",
      "id": "3097d07b",
      "metadata": {
        "id": "3097d07b"
      },
      "source": [
        "**답**"
      ]
    },
    {
      "cell_type": "markdown",
      "id": "8291f1f6",
      "metadata": {
        "id": "8291f1f6"
      },
      "source": [
        "- 위 코드는 `i`와 `j`가 0부터 3까지 변할 때 `j < i` 인 경우 모두 건너뜀.\n",
        "- 그런데 `j >= i`가 참이어도 `j` 가 짝수인 경우는 건너뛰어야 함.\n",
        "- 따라서 `j % 2 == 0` 인 경우도 `or` 연산자로 추가해야 함."
      ]
    },
    {
      "cell_type": "code",
      "execution_count": null,
      "id": "75384efc",
      "metadata": {
        "id": "75384efc",
        "outputId": "4ee100e9-5bb2-4369-d28d-007faab0acc2"
      },
      "outputs": [
        {
          "name": "stdout",
          "output_type": "stream",
          "text": [
            "[0, 1]\n",
            "[0, 3]\n",
            "[1, 1]\n",
            "[1, 3]\n",
            "[2, 3]\n",
            "[3, 3]\n"
          ]
        }
      ],
      "source": [
        "for i in range(4):\n",
        "    for j in range(4):\n",
        "        if j < i or j % 2 == 0:\n",
        "            continue\n",
        "        print([i, j])"
      ]
    },
    {
      "cell_type": "markdown",
      "id": "b6ef5ff8",
      "metadata": {
        "id": "b6ef5ff8"
      },
      "source": [
        "## 문제 4"
      ]
    },
    {
      "cell_type": "markdown",
      "id": "e59f42d6",
      "metadata": {
        "id": "e59f42d6"
      },
      "source": [
        "문자열을 인자로 입력받을 때\n",
        "정수 형식이면 해당 정수가 10부터 100까지의 정수 중에 하나인지 여부를 출력하고,\n",
        "정수 형식이 아니면 입력된 문자열의 길이를 반환하는 함수 `whether_int()`를\n",
        "예외 처리를 이용하여 구현하라.\n",
        "\n",
        "힌트: 문자열의 길이는 `len()` 함수가 계산한다."
      ]
    },
    {
      "cell_type": "markdown",
      "id": "r5eARo3TY1F-",
      "metadata": {
        "id": "r5eARo3TY1F-"
      },
      "source": [
        "**답**"
      ]
    },
    {
      "cell_type": "markdown",
      "id": "p2_nQovvb8Uo",
      "metadata": {
        "id": "p2_nQovvb8Uo"
      },
      "source": [
        "함수의 인자를 먼저 문자열로 변환한 다음에 `int()` 함수를 적용한다.\n",
        "그러면 인자가 정수가 아닌 경우 오류가 발생하게 되어 예외 처리를 시킬 수 있다."
      ]
    },
    {
      "cell_type": "code",
      "execution_count": null,
      "id": "OkDUHEGobiRf",
      "metadata": {
        "id": "OkDUHEGobiRf"
      },
      "outputs": [],
      "source": [
        "def whether_int(x):\n",
        "    x = str(x)\n",
        "    try:\n",
        "        if 10 <= int(x) <= 100:\n",
        "            print(\"10부터 100까지의 정수 중에 하나에요\")\n",
        "        else:\n",
        "            print(\"10보다 작거나 100보다 커요\")\n",
        "    except:\n",
        "        return len(x)"
      ]
    },
    {
      "cell_type": "code",
      "execution_count": null,
      "id": "9d64eebb",
      "metadata": {
        "colab": {
          "base_uri": "https://localhost:8080/"
        },
        "id": "9d64eebb",
        "outputId": "785e2f50-0e6e-4640-cce5-f6f270b1cf89"
      },
      "outputs": [
        {
          "name": "stdout",
          "output_type": "stream",
          "text": [
            "10부터 100까지의 정수 중에 하나에요\n"
          ]
        }
      ],
      "source": [
        "whether_int(\"50\")"
      ]
    },
    {
      "cell_type": "code",
      "execution_count": null,
      "id": "e8128391",
      "metadata": {
        "colab": {
          "base_uri": "https://localhost:8080/"
        },
        "id": "e8128391",
        "outputId": "f9a15dbb-2d24-4db8-f66d-221d389c2509"
      },
      "outputs": [
        {
          "name": "stdout",
          "output_type": "stream",
          "text": [
            "10보다 작거나 100보다 커요\n"
          ]
        }
      ],
      "source": [
        "whether_int(\"130\")"
      ]
    },
    {
      "cell_type": "code",
      "execution_count": null,
      "id": "b562cd96",
      "metadata": {
        "colab": {
          "base_uri": "https://localhost:8080/"
        },
        "id": "b562cd96",
        "outputId": "4493b050-6bb9-40d2-ece3-8cd0197549fe"
      },
      "outputs": [
        {
          "data": {
            "text/plain": [
              "4"
            ]
          },
          "execution_count": 8,
          "metadata": {},
          "output_type": "execute_result"
        }
      ],
      "source": [
        "whether_int(7.77)"
      ]
    },
    {
      "cell_type": "code",
      "execution_count": null,
      "id": "6aec196e",
      "metadata": {
        "colab": {
          "base_uri": "https://localhost:8080/"
        },
        "id": "6aec196e",
        "outputId": "59014c8a-caa1-4341-d673-1b2d6f59d9a5"
      },
      "outputs": [
        {
          "data": {
            "text/plain": [
              "7"
            ]
          },
          "execution_count": 9,
          "metadata": {},
          "output_type": "execute_result"
        }
      ],
      "source": [
        "whether_int(\"abcdefg\")"
      ]
    },
    {
      "cell_type": "markdown",
      "id": "0241ef8e",
      "metadata": {
        "id": "0241ef8e"
      },
      "source": [
        "## 문제 5"
      ]
    },
    {
      "cell_type": "markdown",
      "id": "f3bbdcbb",
      "metadata": {
        "id": "f3bbdcbb"
      },
      "source": [
        "두 개의 정수 `a`, `b`를 입력받아 `a/b`를 계산한 결과를 출력하는 코드를 작성하라.\n",
        "단, 아래 조건이 만족되어야 한다.\n",
        "\n",
        "* 정수가 아닌 값이 입력되거나 `b`에 `0`이 입력된 경우 아래 문장을 출력한 후 재입력 요구.\n",
        "* 올바른 값이 입력될 때까지 재입력을 요구하며, 올바른 값이 입력되면 나눗셈을 실행하고 종료할 것.\n",
        "\n",
        "힌트: `input()` 함수, `while True` 무한루프 반복문, `break` 명령문,\n",
        "`try-except (ValueError, ZeroDivisionError)` 명령문 등 활용."
      ]
    },
    {
      "cell_type": "markdown",
      "id": "fea6e2f9",
      "metadata": {
        "id": "fea6e2f9"
      },
      "source": [
        "**답**"
      ]
    },
    {
      "cell_type": "markdown",
      "id": "c70d863a",
      "metadata": {
        "id": "c70d863a"
      },
      "source": [
        "- `while True` 를 이용하여 무한 반복 실행\n",
        "- 반복할 때마다 정수 입력을 기대하기에 `int(input())` 형식 사용.\n",
        "- 오류 발생 경우\n",
        "    - 입력값이 정수가 아니면 `ValueError` 발생.\n",
        "    - 입력값이 0이면 `ZeroDivisionError` 발생.\n",
        "- 따라서 두 종류의 오류를 처리하는 `try ... except (ValueError, ZeroDivisionError)` 명령문 활용\n",
        "- 또한 두 개의 정수가 제대로 입력되고 분모가 0이 아닌 경우 나눗셈을 실행한 다음 무한반복을 종료시키기 위해 `break` 명령문 실행\n",
        "\n",
        "위 설명을 종합하여 다음과 같이 코드를 작성할 수 있다."
      ]
    },
    {
      "cell_type": "code",
      "execution_count": null,
      "id": "b1c98e1f",
      "metadata": {
        "id": "b1c98e1f",
        "outputId": "585d5252-0154-428a-b5ce-6541e78b9917"
      },
      "outputs": [
        {
          "name": "stdout",
          "output_type": "stream",
          "text": [
            "첫째 정수를 입력하세요: 3.2\n",
            "a와 b 모두 정수를 입력하세요. 특히 b는 0이 아니어야 합니다.\n",
            "첫째 정수를 입력하세요: 3\n",
            "둘째 정수를 입력하세요: 0\n",
            "a와 b 모두 정수를 입력하세요. 특히 b는 0이 아니어야 합니다.\n",
            "첫째 정수를 입력하세요: 5\n",
            "둘째 정수를 입력하세요: 2\n",
            "2.5\n"
          ]
        }
      ],
      "source": [
        "while True:\n",
        "    try:\n",
        "        a = int(input(\"첫째 정수를 입력하세요: \"))\n",
        "        b = int(input(\"둘째 정수를 입력하세요: \"))\n",
        "\n",
        "        print(a / b)\n",
        "        break\n",
        "\n",
        "    except (ValueError, ZeroDivisionError):\n",
        "        print(\"a와 b 모두 정수를 입력하세요. 특히 b는 0이 아니어야 합니다.\")"
      ]
    },
    {
      "cell_type": "markdown",
      "id": "c4f5c216",
      "metadata": {
        "id": "c4f5c216"
      },
      "source": [
        "## 문제 6"
      ]
    },
    {
      "cell_type": "markdown",
      "id": "5ac64d1f",
      "metadata": {
        "id": "5ac64d1f"
      },
      "source": [
        "숫자 야구 게임은 임의로 정한 세 자리의 수를 참여자가 맞히는 게임이며 규칙은 다음과 같다.\n",
        "\n",
        "- 첫째, 1에서 9 사이의 서로 다른 숫자로 이루어진 세 자리 정수를 입력한다.\n",
        "- 둘째, 세 자리 숫자를 정확하게 맞혔으면 `'홈런'`을 출력한다.\n",
        "- 셋째, 세 자리수를 정확하게 맞히지 못했다면\n",
        "    참여자가 입력한 수가 맞혀야 하는 세 자리 수와 어떻게 다른지 여부에 따라\n",
        "    참여자에게 아래 규칙에 따른 결과를 출력한다.\n",
        "    \n",
        "    * 숫자와 위치가 맞으면, 스트라이크\n",
        "    * 숫자는 맞지만 위치가 틀리면, 볼\n",
        "    * 숫자와 위치가 모두 틀리면, 아웃  \n",
        "\n",
        "예를 들어, 맞혀야 하는 수가 123일 때 다음과 같이 출력한다.\n",
        "\n",
        "- 참여자가 123을 입력할 때: `'홈런'`\n",
        "- 참여자가 456을 입력할 때: `'아웃'`\n",
        "- 참여자가 257을 입력할 때: `'1 볼'`\n",
        "- 참여자가 273을 입력할 때: `'1 볼 1 스트라이크'`"
      ]
    },
    {
      "cell_type": "markdown",
      "id": "7d2dfdc5",
      "metadata": {
        "id": "7d2dfdc5"
      },
      "source": [
        "아래 코드는 숫자 야구 게임을 실행한다.\n",
        "임의의 세 자리 수가 지정되었을 때 사용자의 입력값이 정수가 아니면 세 자리 정수를 다시 입력하도록 요구한다."
      ]
    },
    {
      "cell_type": "code",
      "execution_count": null,
      "id": "84b583d5",
      "metadata": {
        "id": "84b583d5",
        "outputId": "2495fa7c-4867-4827-d9e2-b3ada2b23364"
      },
      "outputs": [
        {
          "name": "stdout",
          "output_type": "stream",
          "text": [
            "1에서 9사이의 서로 다른 숫자로 구성된 세자리 정수를 입력하세요: abc\n",
            "1에서 9사이의 서로 다른 숫자로 구성된 세자리 정수를 입력하세요: 3.4\n",
            "1에서 9사이의 서로 다른 숫자로 구성된 세자리 정수를 입력하세요: 345\n",
            "아웃\n"
          ]
        }
      ],
      "source": [
        "import random\n",
        "\n",
        "# 서로 다른 세 개의 수로 구성된 세 자리 정수 생성. 0을 포함하지 않음.\n",
        "answer = ''\n",
        "while len(answer) < 3:\n",
        "    num = str(random.randint(1, 9))\n",
        "    if num in answer:\n",
        "        continue\n",
        "\n",
        "    answer += num\n",
        "\n",
        "# 게임 실행\n",
        "while True:\n",
        "    guess = input('1에서 9사이의 서로 다른 숫자로 구성된 세자리 정수를 입력하세요: ')\n",
        "    try:\n",
        "        int(guess)\n",
        "    except ValueError:\n",
        "        continue\n",
        "\n",
        "    ball = 0\n",
        "    strike = 0\n",
        "\n",
        "    for i in range(3):\n",
        "        if answer[i] == guess[i]:\n",
        "            strike += 1\n",
        "        elif guess[i] in answer:\n",
        "            ball += 1\n",
        "\n",
        "    if strike == 3:\n",
        "        print('홈런')\n",
        "    elif strike == 0:\n",
        "        if ball == 0:\n",
        "            print('아웃')\n",
        "        else:\n",
        "            print(ball, '볼')\n",
        "    else:\n",
        "        if ball == 0:\n",
        "            print(strike, '스트라이크')\n",
        "        else:\n",
        "            print(ball, '볼', strike, '스트라이크')\n",
        "\n",
        "    break"
      ]
    },
    {
      "cell_type": "markdown",
      "id": "9b5818bc",
      "metadata": {
        "id": "9b5818bc"
      },
      "source": [
        "위 코드는 그런데 네 자리 이상의 수를 입력해도 오류 없이 실행된다."
      ]
    },
    {
      "cell_type": "code",
      "execution_count": null,
      "id": "377cd1d1",
      "metadata": {
        "id": "377cd1d1",
        "outputId": "969237db-b29e-4017-f8fd-fd760cec3f5d"
      },
      "outputs": [
        {
          "name": "stdout",
          "output_type": "stream",
          "text": [
            "1에서 9사이의 서로 다른 숫자로 구성된 세자리 정수를 입력하세요: 3456\n",
            "1 볼\n"
          ]
        }
      ],
      "source": [
        "import random\n",
        "\n",
        "# 서로 다른 세 개의 수로 구성된 세 자리 정수 생성. 0을 포함하지 않음.\n",
        "answer = ''\n",
        "while len(answer) < 3:\n",
        "    num = str(random.randint(1, 9))\n",
        "    if num in answer:\n",
        "        continue\n",
        "\n",
        "    answer += num\n",
        "\n",
        "# 게임 실행\n",
        "while True:\n",
        "    guess = input('1에서 9사이의 서로 다른 숫자로 구성된 세자리 정수를 입력하세요: ')\n",
        "    try:\n",
        "        int(guess)\n",
        "    except ValueError:\n",
        "        continue\n",
        "\n",
        "    ball = 0\n",
        "    strike = 0\n",
        "\n",
        "    for i in range(3):\n",
        "        if answer[i] == guess[i]:\n",
        "            strike += 1\n",
        "        elif guess[i] in answer:\n",
        "            ball += 1\n",
        "\n",
        "    if strike == 3:\n",
        "        print('홈런')\n",
        "    elif strike == 0:\n",
        "        if ball == 0:\n",
        "            print('아웃')\n",
        "        else:\n",
        "            print(ball, '볼')\n",
        "    else:\n",
        "        if ball == 0:\n",
        "            print(strike, '스트라이크')\n",
        "        else:\n",
        "            print(ball, '볼', strike, '스트라이크')\n",
        "\n",
        "    break"
      ]
    },
    {
      "cell_type": "markdown",
      "id": "a47ae80f",
      "metadata": {
        "id": "a47ae80f"
      },
      "source": [
        "반면에 세 자리 미만의 정수를 입력하면 오류가 발생한다."
      ]
    },
    {
      "cell_type": "code",
      "execution_count": null,
      "id": "a6977e1c",
      "metadata": {
        "id": "a6977e1c",
        "outputId": "db5106ec-7a6a-43ad-8c94-7a440f4b4448"
      },
      "outputs": [
        {
          "name": "stdout",
          "output_type": "stream",
          "text": [
            "1에서 9사이의 서로 다른 숫자로 구성된 세자리 정수를 입력하세요: 35\n"
          ]
        },
        {
          "ename": "IndexError",
          "evalue": "string index out of range",
          "output_type": "error",
          "traceback": [
            "\u001b[0;31m---------------------------------------------------------------------------\u001b[0m",
            "\u001b[0;31mIndexError\u001b[0m                                Traceback (most recent call last)",
            "Cell \u001b[0;32mIn[25], line 18\u001b[0m\n\u001b[1;32m     15\u001b[0m strike \u001b[38;5;241m=\u001b[39m \u001b[38;5;241m0\u001b[39m\n\u001b[1;32m     17\u001b[0m \u001b[38;5;28;01mfor\u001b[39;00m i \u001b[38;5;129;01min\u001b[39;00m \u001b[38;5;28mrange\u001b[39m(\u001b[38;5;241m3\u001b[39m):\n\u001b[0;32m---> 18\u001b[0m     \u001b[38;5;28;01mif\u001b[39;00m answer[i] \u001b[38;5;241m==\u001b[39m guess[i]:\n\u001b[1;32m     19\u001b[0m         strike \u001b[38;5;241m+\u001b[39m\u001b[38;5;241m=\u001b[39m \u001b[38;5;241m1\u001b[39m\n\u001b[1;32m     20\u001b[0m     \u001b[38;5;28;01melif\u001b[39;00m guess[i] \u001b[38;5;129;01min\u001b[39;00m answer:\n",
            "\u001b[0;31mIndexError\u001b[0m: string index out of range"
          ]
        }
      ],
      "source": [
        "import random\n",
        "\n",
        "# 서로 다른 세 개의 수로 구성된 세 자리 정수 생성. 0을 포함하지 않음.\n",
        "answer = ''\n",
        "while len(answer) < 3:\n",
        "    num = str(random.randint(1, 9))\n",
        "    if num in answer:\n",
        "        continue\n",
        "\n",
        "    answer += num\n",
        "\n",
        "# 게임 실행\n",
        "while True:\n",
        "    guess = input('1에서 9사이의 서로 다른 숫자로 구성된 세자리 정수를 입력하세요: ')\n",
        "    try:\n",
        "        int(guess)\n",
        "    except ValueError:\n",
        "        continue\n",
        "\n",
        "    ball = 0\n",
        "    strike = 0\n",
        "\n",
        "    for i in range(3):\n",
        "        if answer[i] == guess[i]:\n",
        "            strike += 1\n",
        "        elif guess[i] in answer:\n",
        "            ball += 1\n",
        "\n",
        "    if strike == 3:\n",
        "        print('홈런')\n",
        "    elif strike == 0:\n",
        "        if ball == 0:\n",
        "            print('아웃')\n",
        "        else:\n",
        "            print(ball, '볼')\n",
        "    else:\n",
        "        if ball == 0:\n",
        "            print(strike, '스트라이크')\n",
        "        else:\n",
        "            print(ball, '볼', strike, '스트라이크')\n",
        "\n",
        "    break"
      ]
    },
    {
      "cell_type": "markdown",
      "id": "7f13fa61",
      "metadata": {
        "id": "7f13fa61"
      },
      "source": [
        "**질문 1**"
      ]
    },
    {
      "cell_type": "markdown",
      "id": "93f907c9",
      "metadata": {
        "id": "93f907c9"
      },
      "source": [
        "세 자리 미만의 수를 입력했을 때 오류가 발생하는 이유를 설명하라."
      ]
    },
    {
      "cell_type": "markdown",
      "id": "c8bdfd02",
      "metadata": {
        "id": "c8bdfd02"
      },
      "source": [
        "**답**"
      ]
    },
    {
      "cell_type": "markdown",
      "id": "24e003a1",
      "metadata": {
        "id": "24e003a1"
      },
      "source": [
        "아래 명령문을 실행할 때 인덱싱을 0, 1, 2에 대해 실행해야 하는데 세 자리 수 미만은\n",
        "자릿수가 최대 2이기에 `i`가 3을 가리킬 때 인덱싱의 범위를 벗어나기에 `IndexError`를 발생시킨다.\n",
        "\n",
        "```python\n",
        "for i in range(3):\n",
        "        if answer[i] == guess[i]:\n",
        "            strike += 1\n",
        "        elif guess[i] in answer:\n",
        "            ball += 1\n",
        "```"
      ]
    },
    {
      "cell_type": "markdown",
      "id": "db669ae9",
      "metadata": {
        "id": "db669ae9"
      },
      "source": [
        "**질문 2**"
      ]
    },
    {
      "cell_type": "markdown",
      "id": "704208db",
      "metadata": {
        "id": "704208db"
      },
      "source": [
        "세 자리 미만 또는 네 자리 이상의 수를 입력했을 때 정확히 세 자리 수를 재입력하도록 위 코드를 수정하라.\n",
        "\n",
        "힌트: `assert` 명령문과 `try ... except AssertionError` 명령문"
      ]
    },
    {
      "cell_type": "markdown",
      "id": "87910b3a",
      "metadata": {
        "id": "87910b3a"
      },
      "source": [
        "참고로 `assert` 명령문은 논리식과 함께 사용되며 논리식이\n",
        "참이면 그냥 통과되지만 거짓일 때는 오류를 발생시킨다."
      ]
    },
    {
      "cell_type": "markdown",
      "id": "3def1cb2",
      "metadata": {
        "id": "3def1cb2"
      },
      "source": [
        "- 무사 통과"
      ]
    },
    {
      "cell_type": "code",
      "execution_count": null,
      "id": "6a326eee",
      "metadata": {
        "id": "6a326eee",
        "outputId": "3f3c2300-6120-4d88-ce31-b4f55d2fc3fa"
      },
      "outputs": [
        {
          "name": "stdout",
          "output_type": "stream",
          "text": [
            "통과됨\n"
          ]
        }
      ],
      "source": [
        "assert 3 == 1 + 2\n",
        "print(\"통과됨\")"
      ]
    },
    {
      "cell_type": "markdown",
      "id": "b4d622ef",
      "metadata": {
        "id": "b4d622ef"
      },
      "source": [
        "- 오류 발생"
      ]
    },
    {
      "cell_type": "code",
      "execution_count": null,
      "id": "28c54065",
      "metadata": {
        "id": "28c54065",
        "outputId": "ef96eb96-76a2-4fd6-cc3d-973a4cd7d572"
      },
      "outputs": [
        {
          "ename": "AssertionError",
          "evalue": "",
          "output_type": "error",
          "traceback": [
            "\u001b[0;31m---------------------------------------------------------------------------\u001b[0m\n",
            "\u001b[0;31mAssertionError\u001b[0m                            Traceback (most recent call last)\n",
            "Cell \u001b[0;32mIn[30], line 1\u001b[0m\n",
            "\u001b[0;32m----> 1\u001b[0m \u001b[38;5;28;01massert\u001b[39;00m \u001b[38;5;241m3\u001b[39m \u001b[38;5;241m==\u001b[39m \u001b[38;5;241m1\u001b[39m \u001b[38;5;241m-\u001b[39m \u001b[38;5;241m2\u001b[39m\n",
            "\n",
            "\u001b[0;31mAssertionError\u001b[0m: "
          ]
        }
      ],
      "source": [
        "assert 3 == 1 - 2"
      ]
    },
    {
      "cell_type": "markdown",
      "id": "7ca889df",
      "metadata": {
        "id": "7ca889df"
      },
      "source": [
        "**답 1**"
      ]
    },
    {
      "cell_type": "markdown",
      "id": "b08ce40a",
      "metadata": {
        "id": "b08ce40a"
      },
      "source": [
        "입력된 수의 자릿수는 문자열의 길이를 확인하는 `len()` 함수를 이용하여 간단하게 확인된다.\n",
        "따라서 입력된 수가 정수 형식인지 확인한 다음에 바로 아래 코드를 이용하여 자릿수를 확인하고\n",
        "세 자리가 아닌 경우 `continue` 명령문을 실행하여 정수 입력을 재요구한다.\n",
        "\n",
        "```python\n",
        "    try:\n",
        "        assert len(guess) == 3\n",
        "    except AssertionError:\n",
        "        continue\n",
        "```"
      ]
    },
    {
      "cell_type": "code",
      "execution_count": null,
      "id": "1ae41b3e",
      "metadata": {
        "id": "1ae41b3e",
        "outputId": "0060a160-af50-443d-fe6d-130c14b3c0c3"
      },
      "outputs": [
        {
          "name": "stdout",
          "output_type": "stream",
          "text": [
            "1에서 9사이의 서로 다른 숫자로 구성된 세자리 정수를 입력하세요: 35\n",
            "1에서 9사이의 서로 다른 숫자로 구성된 세자리 정수를 입력하세요: 6789\n",
            "1에서 9사이의 서로 다른 숫자로 구성된 세자리 정수를 입력하세요: 256\n",
            "2 볼\n"
          ]
        }
      ],
      "source": [
        "import random\n",
        "\n",
        "# 서로 다른 세 개의 수로 구성된 세 자리 정수 생성. 0을 포함하지 않음.\n",
        "answer = ''\n",
        "while len(answer) < 3:\n",
        "    num = str(random.randint(1, 9))\n",
        "    if num in answer:\n",
        "        continue\n",
        "\n",
        "    answer += num\n",
        "\n",
        "# 게임 실행\n",
        "while True:\n",
        "    guess = input('1에서 9사이의 서로 다른 숫자로 구성된 세자리 정수를 입력하세요: ')\n",
        "    try:\n",
        "        int(guess)\n",
        "    except ValueError:\n",
        "        continue\n",
        "\n",
        "    # 세 자리 수가 아닌 경우 재입력 요구\n",
        "    try:\n",
        "        assert len(guess) == 3\n",
        "    except AssertionError:\n",
        "        continue\n",
        "\n",
        "    ball = 0\n",
        "    strike = 0\n",
        "\n",
        "    for i in range(3):\n",
        "        if answer[i] == guess[i]:\n",
        "            strike += 1\n",
        "        elif guess[i] in answer:\n",
        "            ball += 1\n",
        "\n",
        "    if strike == 3:\n",
        "        print('홈런')\n",
        "    elif strike == 0:\n",
        "        if ball == 0:\n",
        "            print('아웃')\n",
        "        else:\n",
        "            print(ball, '볼')\n",
        "    else:\n",
        "        if ball == 0:\n",
        "            print(strike, '스트라이크')\n",
        "        else:\n",
        "            print(ball, '볼', strike, '스트라이크')\n",
        "\n",
        "    break"
      ]
    },
    {
      "cell_type": "markdown",
      "id": "f47a51bb",
      "metadata": {
        "id": "f47a51bb"
      },
      "source": [
        "**답 2**"
      ]
    },
    {
      "cell_type": "markdown",
      "id": "15f1afbe",
      "metadata": {
        "id": "15f1afbe"
      },
      "source": [
        "하나의 `try-except` 명령문으로도 처리할 수 있다."
      ]
    },
    {
      "cell_type": "code",
      "execution_count": 1,
      "id": "a95c4e85",
      "metadata": {
        "id": "a95c4e85",
        "outputId": "e2f92e0b-a1c4-4bcd-d1ee-813844f461df",
        "colab": {
          "base_uri": "https://localhost:8080/"
        }
      },
      "outputs": [
        {
          "output_type": "stream",
          "name": "stdout",
          "text": [
            "1에서 9사이의 서로 다른 숫자로 구성된 세자리 정수를 입력하세요: 35\n",
            "1에서 9사이의 서로 다른 숫자로 구성된 세자리 정수를 입력하세요: 6789\n",
            "1에서 9사이의 서로 다른 숫자로 구성된 세자리 정수를 입력하세요: 256\n",
            "2 볼\n"
          ]
        }
      ],
      "source": [
        "import random\n",
        "\n",
        "# 서로 다른 세 개의 수로 구성된 세 자리 정수 생성. 0을 포함하지 않음.\n",
        "answer = ''\n",
        "while len(answer) < 3:\n",
        "    num = str(random.randint(1, 9))\n",
        "    if num in answer:\n",
        "        continue\n",
        "\n",
        "    answer += num\n",
        "\n",
        "# 게임 실행\n",
        "while True:\n",
        "    guess = input('1에서 9사이의 서로 다른 숫자로 구성된 세자리 정수를 입력하세요: ')\n",
        "    try:\n",
        "        int(guess)\n",
        "        assert len(guess) == 3\n",
        "    except (ValueError, AssertionError):\n",
        "        continue\n",
        "\n",
        "    ball = 0\n",
        "    strike = 0\n",
        "\n",
        "    for i in range(3):\n",
        "        if answer[i] == guess[i]:\n",
        "            strike += 1\n",
        "        elif guess[i] in answer:\n",
        "            ball += 1\n",
        "\n",
        "    if strike == 3:\n",
        "        print('홈런')\n",
        "    elif strike == 0:\n",
        "        if ball == 0:\n",
        "            print('아웃')\n",
        "        else:\n",
        "            print(ball, '볼')\n",
        "    else:\n",
        "        if ball == 0:\n",
        "            print(strike, '스트라이크')\n",
        "        else:\n",
        "            print(ball, '볼', strike, '스트라이크')\n",
        "\n",
        "    break"
      ]
    },
    {
      "cell_type": "markdown",
      "id": "909a1325",
      "metadata": {
        "id": "909a1325"
      },
      "source": [
        "**답 3**"
      ]
    },
    {
      "cell_type": "markdown",
      "id": "ea29c950",
      "metadata": {
        "id": "ea29c950"
      },
      "source": [
        "예외처리 대신에 `if ... else ...` 명령문을 이용하여\n",
        "조건이 맞이 않은 경우 `continue` 명령문을 실행하여 정수 입력을 재요구할 수도 있다.\n",
        "\n",
        "```python\n",
        "if len(guess) < 3 or len(guess) > 3:\n",
        "    continue\n",
        "```"
      ]
    },
    {
      "cell_type": "code",
      "execution_count": null,
      "id": "3a4e26c6",
      "metadata": {
        "id": "3a4e26c6",
        "outputId": "ddda4c35-f926-4214-fe3a-ffc2a591c522"
      },
      "outputs": [
        {
          "name": "stdout",
          "output_type": "stream",
          "text": [
            "1에서 9사이의 서로 다른 숫자로 구성된 세자리 정수를 입력하세요: 7652\n",
            "1에서 9사이의 서로 다른 숫자로 구성된 세자리 정수를 입력하세요: 67\n",
            "1에서 9사이의 서로 다른 숫자로 구성된 세자리 정수를 입력하세요: 984\n",
            "1 볼 1 스트라이크\n"
          ]
        }
      ],
      "source": [
        "import random\n",
        "\n",
        "# 맞혀야 하는 세 자리 수 생성. 0을 포함하지 않음.\n",
        "answer = ''\n",
        "while len(answer) < 3:\n",
        "    num = str(random.randint(1, 9))\n",
        "    if num in answer:\n",
        "        continue\n",
        "\n",
        "    answer += num\n",
        "\n",
        "# 게임 실행\n",
        "while True:\n",
        "    guess = input('1에서 9사이의 서로 다른 숫자로 구성된 세자리 정수를 입력하세요: ')\n",
        "    try:\n",
        "        int(guess)\n",
        "    except ValueError:\n",
        "        continue\n",
        "\n",
        "    # 세 자리 수가 아닌 경우 재입력 요구\n",
        "    if len(guess) < 3 or len(guess) > 3:\n",
        "        continue\n",
        "\n",
        "    ball = 0\n",
        "    strike = 0\n",
        "\n",
        "    for i in range(3):\n",
        "        if answer[i] == guess[i]:\n",
        "            strike += 1\n",
        "        elif guess[i] in answer:\n",
        "            ball += 1\n",
        "\n",
        "    if strike == 3:\n",
        "        print('홈런')\n",
        "    elif strike == 0:\n",
        "        if ball == 0:\n",
        "            print('아웃')\n",
        "        else:\n",
        "            print(ball, '볼')\n",
        "    else:\n",
        "        if ball == 0:\n",
        "            print(strike, '스트라이크')\n",
        "        else:\n",
        "            print(ball, '볼', strike, '스트라이크')\n",
        "\n",
        "    break"
      ]
    },
    {
      "cell_type": "markdown",
      "id": "279e6172",
      "metadata": {
        "id": "279e6172"
      },
      "source": [
        "## 문제 7"
      ]
    },
    {
      "cell_type": "markdown",
      "id": "1d9e5efa",
      "metadata": {
        "id": "1d9e5efa"
      },
      "source": [
        "아래 코드는 실행될 때마다 1과 100까지의 정수 중에서 임의로 정해진 값을 할당받는 `secret` 변수가\n",
        "가리키는 값을 맞히는 게임이다."
      ]
    },
    {
      "cell_type": "code",
      "execution_count": null,
      "id": "f1e9ea56",
      "metadata": {
        "id": "f1e9ea56",
        "outputId": "50361657-cefa-4b00-d762-94d7f3b42dc1"
      },
      "outputs": [
        {
          "name": "stdout",
          "output_type": "stream",
          "text": [
            "수 알아맞히기 게임에 환영합니다.\n",
            "1부터 100 사이의 정수 하나를 입력하세요: 50\n",
            "너무 작아요!\n",
            "1부터 100 사이의 정수 하나를 입력하세요: 75\n",
            "너무 작아요!\n",
            "1부터 100 사이의 정수 하나를 입력하세요: 87\n",
            "너무 커요!\n",
            "1부터 100 사이의 정수 하나를 입력하세요: 81\n",
            "너무 커요!\n",
            "1부터 100 사이의 정수 하나를 입력하세요: 78\n",
            "너무 작아요!\n",
            "1부터 100 사이의 정수 하나를 입력하세요: 80\n",
            "너무 커요!\n",
            "1부터 100 사이의 정수 하나를 입력하세요: 79\n",
            "맞았습니다!\n",
            "게임 종료!\n"
          ]
        }
      ],
      "source": [
        "from random import randint\n",
        "\n",
        "print(\"수 알아맞히기 게임에 환영합니다.\")\n",
        "\n",
        "secret = randint(1, 100)\n",
        "guess = -1   # 이어지는 while 반복문이 최소 한 번은 실행되도록 함\n",
        "\n",
        "while guess != secret:\n",
        "    guess = int(input(\"1부터 100 사이의 정수 하나를 입력하세요: \"))\n",
        "\n",
        "    if guess == secret:\n",
        "        print(\"맞았습니다!\")\n",
        "    elif guess > secret:\n",
        "        print(\"너무 커요!\")\n",
        "    else:\n",
        "        print(\"너무 작아요!\")\n",
        "\n",
        "print(\"게임 종료!\")"
      ]
    },
    {
      "cell_type": "markdown",
      "id": "065f7e32",
      "metadata": {
        "id": "065f7e32"
      },
      "source": [
        "**질문 1**"
      ]
    },
    {
      "cell_type": "markdown",
      "id": "1a4a28b3",
      "metadata": {
        "id": "1a4a28b3"
      },
      "source": [
        "위 코드를 수정하여 정수 입력이 아니거나\n",
        "정수이더라도 1부터 100 사이의 정수가 아니면 재입력을 요구하도록 이전 질문의 코드를 수정하라.\n",
        "\n",
        "힌트: `assert` 명령문과 `try ... except AssertionError` 명령문"
      ]
    },
    {
      "cell_type": "markdown",
      "id": "6b2e5648",
      "metadata": {
        "id": "6b2e5648"
      },
      "source": [
        "**답**"
      ]
    },
    {
      "cell_type": "markdown",
      "id": "4acdf1a0",
      "metadata": {
        "id": "4acdf1a0"
      },
      "source": [
        "정수 입력이 아니면 `int()` 함수에 의해 `ValueError` 오류가 발생한다.\n",
        "반면에 참여자가 입력한 정수를 가리키는 `guess` 변수에 대해\n",
        "1부터 100사이의 값인지를 `assert` 명령문으로 확인할 때\n",
        "그렇지 않으면 `AssertionError` 오류가 발생한다.\n",
        "\n",
        "따라서 두 오류가 발생할 경우를 대비해서 `try ... except ...` 명령문으로 예외처리를\n",
        "다음과 같이 하면 된다.\n",
        "\n",
        "```python\n",
        "try:\n",
        "    guess = int(input(\"1부터 100 사이의 정수 하나를 입력하세요: \"))\n",
        "    assert 1 <= guess <= 100\n",
        "except:\n",
        "    continue\n",
        "```"
      ]
    },
    {
      "cell_type": "code",
      "execution_count": null,
      "id": "ae8325ee",
      "metadata": {
        "id": "ae8325ee",
        "outputId": "70c70638-a23d-4c50-900c-129abb8b78a3"
      },
      "outputs": [
        {
          "name": "stdout",
          "output_type": "stream",
          "text": [
            "수 알아맞히기 게임에 환영합니다.\n",
            "1부터 100 사이의 정수 하나를 입력하세요: 78.99\n",
            "1부터 100 사이의 정수 하나를 입력하세요: 9999\n",
            "1부터 100 사이의 정수 하나를 입력하세요: 50\n",
            "너무 작아요!\n",
            "1부터 100 사이의 정수 하나를 입력하세요: 75\n",
            "너무 작아요!\n",
            "1부터 100 사이의 정수 하나를 입력하세요: 87\n",
            "너무 커요!\n",
            "1부터 100 사이의 정수 하나를 입력하세요: 81\n",
            "너무 커요!\n",
            "1부터 100 사이의 정수 하나를 입력하세요: 78\n",
            "맞았습니다!\n",
            "게임 종료!\n"
          ]
        }
      ],
      "source": [
        "from random import randint\n",
        "\n",
        "print(\"수 알아맞히기 게임에 환영합니다.\")\n",
        "\n",
        "secret = randint(1,100)\n",
        "guess = -1\n",
        "\n",
        "while guess != secret:\n",
        "\n",
        "    try:  # 1부터 100 사이의 정수 입력이 아닌 경우 대처\n",
        "        guess = int(input(\"1부터 100 사이의 정수 하나를 입력하세요: \"))\n",
        "        assert 1 <= guess <= 100\n",
        "    except:\n",
        "        continue  # while 반복문의 처음으로 돌아가기\n",
        "\n",
        "    if guess == 0:\n",
        "        break\n",
        "\n",
        "    if guess == secret:\n",
        "        print(\"맞았습니다!\")\n",
        "    elif guess > secret:\n",
        "        print(\"너무 커요!\")\n",
        "    else:\n",
        "        print(\"너무 작아요!\")\n",
        "\n",
        "print(\"게임 종료!\")"
      ]
    },
    {
      "cell_type": "markdown",
      "id": "c5d09b72",
      "metadata": {
        "id": "c5d09b72"
      },
      "source": [
        "**질문 2**"
      ]
    },
    {
      "cell_type": "markdown",
      "id": "f6dcc5e6",
      "metadata": {
        "id": "f6dcc5e6"
      },
      "source": [
        "\"수 알아맞히기 게임\"이 실행중에 사용자가\n",
        "영어 알파벳 `q` 또는 `Q` 를 입력하면 게임이 종료되도록 이전 질문의 답으로 사용된 코드를 수정하라."
      ]
    },
    {
      "cell_type": "markdown",
      "id": "b026509b",
      "metadata": {
        "id": "b026509b"
      },
      "source": [
        "**답**"
      ]
    },
    {
      "cell_type": "markdown",
      "id": "0a484360",
      "metadata": {
        "id": "0a484360"
      },
      "source": [
        "정수가 아닌 문자열 `q` 또는 `Q`를 처리해야 하기에 `int(input())` 형식으로\n",
        "바로 `guess` 변수를 선언하지 않아야 한다.\n",
        "대신에 아래 코드처럼 문자열로 처리된 입력값을 가리키는 `guess_str` 변수를\n",
        "먼저 지정한 다음 입력 문자열이 `q` 또는 `Q`일 때 `break` 명령문을 이용하여\n",
        "`while` 반복문의 중단시킨다.\n",
        "\n",
        "```python\n",
        "guess_str = input(\"1부터 100 사이의 정수 하나를 입력하세요: \")\n",
        "\n",
        "if guess_str == 'q' or guess_str == 'Q':\n",
        "    break\n",
        "```"
      ]
    },
    {
      "cell_type": "markdown",
      "id": "378a9ca1",
      "metadata": {
        "id": "378a9ca1"
      },
      "source": [
        "위 명령문을 추가한 최종 코드는 다음과 같다."
      ]
    },
    {
      "cell_type": "code",
      "execution_count": null,
      "id": "441eed3e",
      "metadata": {
        "id": "441eed3e",
        "outputId": "00a244bf-f6fc-489a-bb4d-0eaa52ff6966"
      },
      "outputs": [
        {
          "name": "stdout",
          "output_type": "stream",
          "text": [
            "수 알아맞히기 게임에 환영합니다.\n",
            "1부터 100 사이의 정수 하나를 입력하세요: abcd\n",
            "1부터 100 사이의 정수 하나를 입력하세요: 23467\n",
            "1부터 100 사이의 정수 하나를 입력하세요: 50\n",
            "너무 커요!\n",
            "1부터 100 사이의 정수 하나를 입력하세요: 25\n",
            "너무 커요!\n",
            "1부터 100 사이의 정수 하나를 입력하세요: q\n",
            "게임 종료!\n"
          ]
        }
      ],
      "source": [
        "from random import randint\n",
        "\n",
        "print(\"수 알아맞히기 게임에 환영합니다.\")\n",
        "\n",
        "secret = randint(1, 100)\n",
        "guess = -1   # 이어지는 while 반복문이 최소 한 번은 실행되도록 함\n",
        "\n",
        "while guess != secret:\n",
        "    try:\n",
        "        guess_str = input(\"1부터 100 사이의 정수 하나를 입력하세요: \")\n",
        "\n",
        "        if guess_str == 'q' or guess_str == 'Q':\n",
        "            break\n",
        "\n",
        "        guess = int(guess_str)\n",
        "        assert 1 <= guess <= 100\n",
        "    except:\n",
        "        continue\n",
        "\n",
        "    if guess == secret:\n",
        "        print(\"맞았습니다!\")\n",
        "    elif guess > secret:\n",
        "        print(\"너무 커요!\")\n",
        "    else:\n",
        "        print(\"너무 작아요!\")\n",
        "\n",
        "print(\"게임 종료!\")"
      ]
    }
  ],
  "metadata": {
    "colab": {
      "provenance": []
    },
    "kernelspec": {
      "display_name": "Python 3 (ipykernel)",
      "language": "python",
      "name": "python3"
    },
    "language_info": {
      "codemirror_mode": {
        "name": "ipython",
        "version": 3
      },
      "file_extension": ".py",
      "mimetype": "text/x-python",
      "name": "python",
      "nbconvert_exporter": "python",
      "pygments_lexer": "ipython3",
      "version": "3.11.7"
    }
  },
  "nbformat": 4,
  "nbformat_minor": 5
}