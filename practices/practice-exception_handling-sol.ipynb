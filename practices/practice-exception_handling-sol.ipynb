{
 "cells": [
  {
   "cell_type": "markdown",
   "id": "63ac596b",
   "metadata": {},
   "source": [
    "# (실습) 프로그램 오류와 예외처리"
   ]
  },
  {
   "cell_type": "markdown",
   "id": "10fa79ea",
   "metadata": {},
   "source": [
    "## 문제 1"
   ]
  },
  {
   "cell_type": "markdown",
   "id": "98e667d8",
   "metadata": {},
   "source": [
    "아래 명령문들을 실행해서 발생하는 오류의 종류와 원인을 설명하고 수정하라."
   ]
  },
  {
   "cell_type": "markdown",
   "id": "2c8cb05b",
   "metadata": {},
   "source": [
    "**코드 1**"
   ]
  },
  {
   "cell_type": "code",
   "execution_count": 1,
   "id": "197cdf74",
   "metadata": {},
   "outputs": [
    {
     "ename": "TypeError",
     "evalue": "can only concatenate str (not \"int\") to str",
     "output_type": "error",
     "traceback": [
      "\u001b[0;31m---------------------------------------------------------------------------\u001b[0m",
      "\u001b[0;31mTypeError\u001b[0m                                 Traceback (most recent call last)",
      "Cell \u001b[0;32mIn[1], line 1\u001b[0m\n\u001b[0;32m----> 1\u001b[0m y \u001b[38;5;241m=\u001b[39m \u001b[38;5;124m\"\u001b[39m\u001b[38;5;124m2\u001b[39m\u001b[38;5;124m\"\u001b[39m \u001b[38;5;241m+\u001b[39m \u001b[38;5;241m2\u001b[39m\n",
      "\u001b[0;31mTypeError\u001b[0m: can only concatenate str (not \"int\") to str"
     ]
    }
   ],
   "source": [
    "y = \"2\" + 2"
   ]
  },
  {
   "cell_type": "markdown",
   "id": "f7718f26",
   "metadata": {},
   "source": [
    "**답**"
   ]
  },
  {
   "cell_type": "markdown",
   "id": "2b75c099",
   "metadata": {},
   "source": [
    "- 정수와 문자열의 덧셈연산은 허용되지 않음.\n",
    "- 덧셈연산자의 두 인자는 모두 정수이거나 모두 문자열이어야 함.\n",
    "- 두 인자가 정수인지, 문자열인지에 따라 다른 연산 실행."
   ]
  },
  {
   "cell_type": "markdown",
   "id": "06c69b8c",
   "metadata": {},
   "source": [
    "- 정수들의 합"
   ]
  },
  {
   "cell_type": "code",
   "execution_count": 1,
   "id": "030568b9",
   "metadata": {},
   "outputs": [],
   "source": [
    "y = 2 + 2"
   ]
  },
  {
   "cell_type": "markdown",
   "id": "4ed72e55",
   "metadata": {},
   "source": [
    "- 문자열 이어붙이기"
   ]
  },
  {
   "cell_type": "code",
   "execution_count": 2,
   "id": "1721421f",
   "metadata": {},
   "outputs": [],
   "source": [
    "y = \"2\" + \"2\""
   ]
  },
  {
   "cell_type": "markdown",
   "id": "e3b0698b",
   "metadata": {},
   "source": [
    "**코드 2**"
   ]
  },
  {
   "cell_type": "code",
   "execution_count": 4,
   "id": "7129dea7",
   "metadata": {},
   "outputs": [
    {
     "ename": "IndexError",
     "evalue": "string index out of range",
     "output_type": "error",
     "traceback": [
      "\u001b[0;31m---------------------------------------------------------------------------\u001b[0m",
      "\u001b[0;31mIndexError\u001b[0m                                Traceback (most recent call last)",
      "Cell \u001b[0;32mIn[4], line 2\u001b[0m\n\u001b[1;32m      1\u001b[0m hello \u001b[38;5;241m=\u001b[39m \u001b[38;5;124m\"\u001b[39m\u001b[38;5;124m파이썬, 안녕!\u001b[39m\u001b[38;5;124m\"\u001b[39m\n\u001b[0;32m----> 2\u001b[0m out_of_range \u001b[38;5;241m=\u001b[39m hello[\u001b[38;5;241m-\u001b[39m\u001b[38;5;241m10\u001b[39m]\n",
      "\u001b[0;31mIndexError\u001b[0m: string index out of range"
     ]
    }
   ],
   "source": [
    "hello = \"파이썬, 안녕!\"\n",
    "out_of_range = hello[-10]"
   ]
  },
  {
   "cell_type": "markdown",
   "id": "71170987",
   "metadata": {},
   "source": [
    "**답**"
   ]
  },
  {
   "cell_type": "markdown",
   "id": "e3f1a0d1",
   "metadata": {},
   "source": [
    "- 길이가 `n`인 문자열에 사용할 수 있는 인덱스는 `-n`부터 `n-1` 사이의 정수만 해당함.\n",
    "- 문자열 `\"파이썬, 안녕!\"`의 길이는 8임."
   ]
  },
  {
   "cell_type": "code",
   "execution_count": 5,
   "id": "e52f7ae2",
   "metadata": {},
   "outputs": [
    {
     "data": {
      "text/plain": [
       "8"
      ]
     },
     "execution_count": 5,
     "metadata": {},
     "output_type": "execute_result"
    }
   ],
   "source": [
    "len(hello)"
   ]
  },
  {
   "cell_type": "markdown",
   "id": "5ba3689a",
   "metadata": {},
   "source": [
    "- 따라서 -10은 인덱스로 사용할 수 없음.\n",
    "- 첫째 문자열을 사용하려면 -8 또는 0을 인덱스로 사용 가능"
   ]
  },
  {
   "cell_type": "code",
   "execution_count": 6,
   "id": "5f244a73",
   "metadata": {},
   "outputs": [
    {
     "data": {
      "text/plain": [
       "'파'"
      ]
     },
     "execution_count": 6,
     "metadata": {},
     "output_type": "execute_result"
    }
   ],
   "source": [
    "hello[-8]"
   ]
  },
  {
   "cell_type": "code",
   "execution_count": 7,
   "id": "5e49da6d",
   "metadata": {},
   "outputs": [
    {
     "data": {
      "text/plain": [
       "'파'"
      ]
     },
     "execution_count": 7,
     "metadata": {},
     "output_type": "execute_result"
    }
   ],
   "source": [
    "hello[0]"
   ]
  },
  {
   "cell_type": "markdown",
   "id": "ced6a4ea",
   "metadata": {},
   "source": [
    "**코드 3**"
   ]
  },
  {
   "cell_type": "code",
   "execution_count": 8,
   "id": "af1aaabe",
   "metadata": {},
   "outputs": [
    {
     "ename": "SyntaxError",
     "evalue": "expected ':' (1107532087.py, line 3)",
     "output_type": "error",
     "traceback": [
      "\u001b[0;36m  Cell \u001b[0;32mIn[8], line 3\u001b[0;36m\u001b[0m\n\u001b[0;31m    while x % 2 != 0\u001b[0m\n\u001b[0m                    ^\u001b[0m\n\u001b[0;31mSyntaxError\u001b[0m\u001b[0;31m:\u001b[0m expected ':'\n"
     ]
    }
   ],
   "source": [
    "x = 5\n",
    "\n",
    "while x % 2 != 0\n",
    "    x = 3*x - 1\n",
    "    print(x)"
   ]
  },
  {
   "cell_type": "markdown",
   "id": "d20980bb",
   "metadata": {},
   "source": [
    "**답**"
   ]
  },
  {
   "cell_type": "markdown",
   "id": "4a638f81",
   "metadata": {},
   "source": [
    "- `while 논리식` 명령문은 아래 코드처럼 항상 콜론(`:`)으로 마무리 해야 함."
   ]
  },
  {
   "cell_type": "code",
   "execution_count": 9,
   "id": "cd54f756",
   "metadata": {},
   "outputs": [
    {
     "name": "stdout",
     "output_type": "stream",
     "text": [
      "14\n"
     ]
    }
   ],
   "source": [
    "x = 5\n",
    "\n",
    "while x % 2 != 0:\n",
    "    x = 3*x - 1\n",
    "    print(x)"
   ]
  },
  {
   "cell_type": "markdown",
   "id": "23cb829c",
   "metadata": {},
   "source": [
    "**코드 4**"
   ]
  },
  {
   "cell_type": "code",
   "execution_count": 13,
   "id": "9da8039f",
   "metadata": {},
   "outputs": [
    {
     "ename": "IndentationError",
     "evalue": "expected an indented block after 'while' statement on line 3 (4109773746.py, line 4)",
     "output_type": "error",
     "traceback": [
      "\u001b[0;36m  Cell \u001b[0;32mIn[13], line 4\u001b[0;36m\u001b[0m\n\u001b[0;31m    x = 3*x - 1\u001b[0m\n\u001b[0m    ^\u001b[0m\n\u001b[0;31mIndentationError\u001b[0m\u001b[0;31m:\u001b[0m expected an indented block after 'while' statement on line 3\n"
     ]
    }
   ],
   "source": [
    "x = 4\n",
    "\n",
    "while x % 2 != 0:\n",
    "x = 3*x - 1\n",
    "    print(x)\n",
    "    \n",
    "print(x, \": 짝수\")"
   ]
  },
  {
   "cell_type": "markdown",
   "id": "edfa38f5",
   "metadata": {},
   "source": [
    "**답**"
   ]
  },
  {
   "cell_type": "markdown",
   "id": "60eb5ecf",
   "metadata": {},
   "source": [
    "- `while` 조건문의 본문은 아래 코드처럼 들여쓰기를 해야 함. "
   ]
  },
  {
   "cell_type": "code",
   "execution_count": 14,
   "id": "8fd71d21",
   "metadata": {},
   "outputs": [
    {
     "name": "stdout",
     "output_type": "stream",
     "text": [
      "4 : 짝수\n"
     ]
    }
   ],
   "source": [
    "x = 4\n",
    "\n",
    "while x % 2 != 0:\n",
    "    x = 3*x - 1\n",
    "    print(x)\n",
    "    \n",
    "print(x, \": 짝수\")"
   ]
  },
  {
   "cell_type": "markdown",
   "id": "bb855012",
   "metadata": {},
   "source": [
    "## 문제 2"
   ]
  },
  {
   "cell_type": "markdown",
   "id": "0315d002",
   "metadata": {},
   "source": [
    "아래처럼 출력을 하는 코드를 구현하려 한다."
   ]
  },
  {
   "cell_type": "markdown",
   "id": "7153f493",
   "metadata": {},
   "source": [
    "```\n",
    "        * \n",
    "      * * * \n",
    "    * * * * * \n",
    "  * * * * * * * \n",
    "* * * * * * * * * \n",
    "  * * * * * * * \n",
    "    * * * * * \n",
    "      * * * \n",
    "        * \n",
    "```\n"
   ]
  },
  {
   "cell_type": "markdown",
   "id": "08f338f2",
   "metadata": {},
   "source": [
    "그런데 아래 코드를 실행하면 원하는 모양이 출력되지 않는다."
   ]
  },
  {
   "cell_type": "code",
   "execution_count": 17,
   "id": "516ced0e",
   "metadata": {},
   "outputs": [
    {
     "name": "stdout",
     "output_type": "stream",
     "text": [
      "        * \n",
      "      * * \n",
      "    * * * \n",
      "  * * * * \n",
      "* * * * * \n",
      "  * * * * \n",
      "    * * * \n",
      "      * * \n",
      "        * \n"
     ]
    }
   ],
   "source": [
    "for num in range(1, 10):\n",
    "    if num <= 5:\n",
    "        stars = num\n",
    "        spaces = 5 - num\n",
    "    else:\n",
    "        stars = 10 - num\n",
    "        spaces = num - 5\n",
    "        \n",
    "    print(\"  \" * spaces + \"* \" * stars)"
   ]
  },
  {
   "cell_type": "markdown",
   "id": "af100d1b",
   "metadata": {},
   "source": [
    "위 코드에 포함된 한 줄의 명령문만 수정하면 의도한 대로 모양이 출력된다.\n",
    "어느 행의 명령문을 어떻게 수정해야 하는지 설명하고 수정한 뒤에 실행해서 확인하라."
   ]
  },
  {
   "cell_type": "markdown",
   "id": "9ffefb06",
   "metadata": {},
   "source": [
    "**답**"
   ]
  },
  {
   "cell_type": "markdown",
   "id": "a86abe85",
   "metadata": {},
   "source": [
    "- 출력되는 별이 좌우 대칭을 이루도록 하면 됨.\n",
    "- 따라서 아래 코드에서처럼 출력되는 별의 수를 두 배 한 다음 1을 빼면 됨."
   ]
  },
  {
   "cell_type": "code",
   "execution_count": 19,
   "id": "03ba4ff9",
   "metadata": {},
   "outputs": [
    {
     "name": "stdout",
     "output_type": "stream",
     "text": [
      "        * \n",
      "      * * * \n",
      "    * * * * * \n",
      "  * * * * * * * \n",
      "* * * * * * * * * \n",
      "  * * * * * * * \n",
      "    * * * * * \n",
      "      * * * \n",
      "        * \n"
     ]
    }
   ],
   "source": [
    "for num in range(1, 10):\n",
    "    if num <= 5:\n",
    "        stars = num * 2 - 1\n",
    "        spaces = 5 - num\n",
    "    else:\n",
    "        stars = (10 - num) * 2 - 1\n",
    "        spaces = num - 5\n",
    "        \n",
    "    print(\"  \" * spaces + \"* \" * stars)"
   ]
  },
  {
   "cell_type": "markdown",
   "id": "8bcd32f9",
   "metadata": {},
   "source": [
    "## 문제 3"
   ]
  },
  {
   "cell_type": "markdown",
   "id": "143420fa",
   "metadata": {},
   "source": [
    "아래처럼 출력하는 코드를 구현하려 한다."
   ]
  },
  {
   "cell_type": "markdown",
   "id": "7a3bba40",
   "metadata": {},
   "source": [
    "```python\n",
    "[0, 1]\n",
    "[0, 3]\n",
    "[1, 1]\n",
    "[1, 3]\n",
    "[2, 3]\n",
    "[3, 3]\n",
    "```"
   ]
  },
  {
   "cell_type": "markdown",
   "id": "a6a0464a",
   "metadata": {},
   "source": [
    "그런데 아래 코드를 실행하면 원하는 모양이 출력되지 않는다."
   ]
  },
  {
   "cell_type": "code",
   "execution_count": 23,
   "id": "31f6e9af",
   "metadata": {},
   "outputs": [
    {
     "name": "stdout",
     "output_type": "stream",
     "text": [
      "[0, 0]\n",
      "[0, 1]\n",
      "[0, 2]\n",
      "[0, 3]\n",
      "[1, 1]\n",
      "[1, 2]\n",
      "[1, 3]\n",
      "[2, 2]\n",
      "[2, 3]\n",
      "[3, 3]\n"
     ]
    }
   ],
   "source": [
    "for i in range(4):\n",
    "    for j in range(4):\n",
    "        if j < i:\n",
    "            continue\n",
    "        print([i, j])"
   ]
  },
  {
   "cell_type": "markdown",
   "id": "a4b2b398",
   "metadata": {},
   "source": [
    "위 코드를 수정하여 원하는 모양이 출력되도록 하라.\n",
    "\n",
    "힌트: 한 행의 코드만 수정하면 된다. 또한 논리 연산자 `or`을 활용한다."
   ]
  },
  {
   "cell_type": "markdown",
   "id": "3097d07b",
   "metadata": {},
   "source": [
    "**답**"
   ]
  },
  {
   "cell_type": "markdown",
   "id": "8291f1f6",
   "metadata": {},
   "source": [
    "- 위 코드는 `i`와 `j`가 0부터 3까지 변할 때 `j < i` 인 경우 모두 건너뜀.\n",
    "- 그런데 `j >= i`가 참이어도 `j` 가 짝수인 경우는 건너뛰어야 함.\n",
    "- 따라서 `j % 2 == 0` 인 경우도 `or` 연산자로 추가해야 함."
   ]
  },
  {
   "cell_type": "code",
   "execution_count": 24,
   "id": "75384efc",
   "metadata": {},
   "outputs": [
    {
     "name": "stdout",
     "output_type": "stream",
     "text": [
      "[0, 1]\n",
      "[0, 3]\n",
      "[1, 1]\n",
      "[1, 3]\n",
      "[2, 3]\n",
      "[3, 3]\n"
     ]
    }
   ],
   "source": [
    "for i in range(4):\n",
    "    for j in range(4):\n",
    "        if j < i or j % 2 == 0:\n",
    "            continue\n",
    "        print([i, j])"
   ]
  },
  {
   "cell_type": "markdown",
   "id": "b6ef5ff8",
   "metadata": {},
   "source": [
    "## 문제 4"
   ]
  },
  {
   "cell_type": "markdown",
   "id": "e59f42d6",
   "metadata": {},
   "source": [
    "문자열을 인자로 입력받을 때\n",
    "정수 형식이면 해당 정수가 10부터 100까지의 정수 중에 하나인지 여부를 출력하고,\n",
    "정수 형식이 아니면 입력된 문자열의 길이를 반환하는 함수 `whether_int()`를\n",
    "예외 처리를 이용하여 구현하라.\n",
    "\n",
    "힌트: 문자열의 길이는 `len()` 함수가 계산한다."
   ]
  },
  {
   "cell_type": "code",
   "execution_count": 26,
   "id": "009da4ab",
   "metadata": {},
   "outputs": [],
   "source": [
    "def whether_int(x):\n",
    "    try:\n",
    "        if 10 <= int(x) <= 100:\n",
    "            print(\"10부터 100까지의 정수 중에 하나에요\")\n",
    "        else:\n",
    "            print(\"10보다 작거나 100보다 커요\")\n",
    "    except:\n",
    "        return len(x)"
   ]
  },
  {
   "cell_type": "code",
   "execution_count": 27,
   "id": "9d64eebb",
   "metadata": {},
   "outputs": [
    {
     "name": "stdout",
     "output_type": "stream",
     "text": [
      "10부터 100까지의 정수 중에 하나에요\n"
     ]
    }
   ],
   "source": [
    "whether_int(\"50\")"
   ]
  },
  {
   "cell_type": "code",
   "execution_count": 28,
   "id": "e8128391",
   "metadata": {},
   "outputs": [
    {
     "name": "stdout",
     "output_type": "stream",
     "text": [
      "10보다 작거나 100보다 커요\n"
     ]
    }
   ],
   "source": [
    "whether_int(\"130\")"
   ]
  },
  {
   "cell_type": "code",
   "execution_count": 29,
   "id": "b562cd96",
   "metadata": {},
   "outputs": [
    {
     "data": {
      "text/plain": [
       "4"
      ]
     },
     "execution_count": 29,
     "metadata": {},
     "output_type": "execute_result"
    }
   ],
   "source": [
    "whether_int(\"7.77\")"
   ]
  },
  {
   "cell_type": "code",
   "execution_count": 30,
   "id": "6aec196e",
   "metadata": {},
   "outputs": [
    {
     "data": {
      "text/plain": [
       "7"
      ]
     },
     "execution_count": 30,
     "metadata": {},
     "output_type": "execute_result"
    }
   ],
   "source": [
    "whether_int(\"abcdefg\")"
   ]
  },
  {
   "cell_type": "markdown",
   "id": "0241ef8e",
   "metadata": {},
   "source": [
    "## 문제 5"
   ]
  },
  {
   "cell_type": "markdown",
   "id": "f3bbdcbb",
   "metadata": {
    "id": "fGjSM-6P2Pl7"
   },
   "source": [
    "두 개의 정수 `a`, `b`를 입력받아 `a/b`를 계산한 결과를 출력하는 코드를 작성하라.\n",
    "단, 아래 조건이 만족되어야 한다.\n",
    "\n",
    "* 정수가 아닌 값이 입력되거나 `b`에 `0`이 입력된 경우 아래 문장을 출력한 후 재입력 요구.\n",
    "* 올바른 값이 입력될 때까지 재입력을 요구하며, 올바른 값이 입력되면 나눗셈을 실행하고 종료할 것.\n",
    "\n",
    "힌트: `input()` 함수, `while True` 무한루프 반복문, `break` 명령문,\n",
    "`try-except (ValueError, ZeroDivisionError)` 명령문 등 활용."
   ]
  },
  {
   "cell_type": "markdown",
   "id": "fea6e2f9",
   "metadata": {},
   "source": [
    "**답**"
   ]
  },
  {
   "cell_type": "markdown",
   "id": "c70d863a",
   "metadata": {},
   "source": [
    "- `while True` 를 이용하여 무한 반복 실행\n",
    "- 반복할 때마다 정수 입력을 기대하기에 `int(input())` 형식 사용.\n",
    "- 오류 발생 경우\n",
    "    - 입력값이 정수가 아니면 `ValueError` 발생.\n",
    "    - 입력값이 0이면 `ZeroDivisionError` 발생.\n",
    "- 따라서 두 종류의 오류를 처리하는 `try ... except (ValueError, ZeroDivisionError)` 명령문 활용\n",
    "- 또한 두 개의 정수가 제대로 입력되고 분모가 0이 아닌 경우 나눗셈을 실행한 다음 무한반복을 종료시키기 위해 `break` 명령문 실행\n",
    "\n",
    "위 설명을 종합하여 다음과 같이 코드를 작성할 수 있다."
   ]
  },
  {
   "cell_type": "code",
   "execution_count": 1,
   "id": "b1c98e1f",
   "metadata": {},
   "outputs": [
    {
     "name": "stdout",
     "output_type": "stream",
     "text": [
      "a와 b 모두 정수를 입력하세요. 특히 b는 0이 아니어야 합니다.\n",
      "a와 b 모두 정수를 입력하세요. 특히 b는 0이 아니어야 합니다.\n",
      "2.5\n"
     ]
    }
   ],
   "source": [
    "while True:\n",
    "    try:\n",
    "        a = int(input(\"첫째 정수를 입력하세요: \"))\n",
    "        b = int(input(\"둘째 정수를 입력하세요: \"))\n",
    "        \n",
    "        print(a / b)\n",
    "        break\n",
    "\n",
    "    except (ValueError, ZeroDivisionError):\n",
    "        print(\"a와 b 모두 정수를 입력하세요. 특히 b는 0이 아니어야 합니다.\")"
   ]
  },
  {
   "cell_type": "markdown",
   "id": "c4f5c216",
   "metadata": {},
   "source": [
    "## 문제 6"
   ]
  },
  {
   "cell_type": "markdown",
   "id": "5ac64d1f",
   "metadata": {
    "id": "RJGEd1T44JF0"
   },
   "source": [
    "숫자 야구 게임은 임의로 정한 세 자리의 수를 참여자가 맞히는 게임이며 규칙은 다음과 같다.\n",
    "\n",
    "- 첫째, 1에서 9 사이의 서로 다른 숫자로 이루어진 세 자리 정수를 입력한다.\n",
    "- 둘째, 세 자리 숫자를 정확하게 맞혔으면 `'홈런'`을 출력한다.\n",
    "- 셋째, 세 자리수를 정확하게 맞히지 못했다면 \n",
    "    참여자가 입력한 수가 맞혀야 하는 세 자리 수와 어떻게 다른지 여부에 따라\n",
    "    참여자에게 아래 규칙에 따른 결과를 출력한다.\n",
    "    \n",
    "    * 숫자와 위치가 맞으면, 스트라이크\n",
    "    * 숫자는 맞지만 위치가 틀리면, 볼\n",
    "    * 숫자와 위치가 모두 틀리면, 아웃  \n",
    "\n",
    "예를 들어, 맞혀야 하는 수가 123일 때 다음과 같이 출력한다.\n",
    "\n",
    "- 참여자가 123을 입력할 때: `'홈런'`\n",
    "- 참여자가 456을 입력할 때: `'아웃'` \n",
    "- 참여자가 257을 입력할 때: `'1 볼'`\n",
    "- 참여자가 273을 입력할 때: `'1 볼 1 스트라이크'`"
   ]
  },
  {
   "cell_type": "markdown",
   "id": "7d2dfdc5",
   "metadata": {},
   "source": [
    "아래 코드는 숫자 야구 게임을 실행한다.\n",
    "임의의 세 자리 수가 지정되었을 때 사용자의 입력값이 정수가 아니면 세 자리 정수를 다시 입력하도록 요구한다."
   ]
  },
  {
   "cell_type": "code",
   "execution_count": 70,
   "id": "84b583d5",
   "metadata": {},
   "outputs": [
    {
     "name": "stdout",
     "output_type": "stream",
     "text": [
      "1에서 9사이의 서로 다른 숫자로 구성된 세자리 정수를 입력하세요: abc\n",
      "1에서 9사이의 서로 다른 숫자로 구성된 세자리 정수를 입력하세요: 3.0\n",
      "1에서 9사이의 서로 다른 숫자로 구성된 세자리 정수를 입력하세요: 123\n",
      "아웃\n"
     ]
    }
   ],
   "source": [
    "import random\n",
    "\n",
    "answer = ''\n",
    "for _ in range(3):\n",
    "    answer += str(random.randint(1, 9))\n",
    "\n",
    "while True:\n",
    "    guess = input('1에서 9사이의 서로 다른 숫자로 구성된 세자리 정수를 입력하세요: ')\n",
    "    try:\n",
    "        int(guess)\n",
    "    except ValueError:\n",
    "        continue\n",
    "\n",
    "    ball = 0\n",
    "    strike = 0\n",
    "\n",
    "    for i in range(3):\n",
    "        if answer[i] == guess[i]:\n",
    "            strike += 1\n",
    "        elif guess[i] in answer:\n",
    "            ball += 1\n",
    "\n",
    "    if strike == 3:\n",
    "        print('홈런')\n",
    "    elif strike == 0:\n",
    "        if ball == 0:\n",
    "            print('아웃')\n",
    "        else:\n",
    "            print(ball, '볼')\n",
    "    else:\n",
    "        if ball == 0:\n",
    "            print(strike, '스트라이크')\n",
    "        else:\n",
    "            print(ball, '볼', strike, '스트라이크')\n",
    "            \n",
    "    break"
   ]
  },
  {
   "cell_type": "markdown",
   "id": "9b5818bc",
   "metadata": {},
   "source": [
    "위 코드는 그런데 네 자리 이상의 수를 입력해도 오류 없이 실행된다."
   ]
  },
  {
   "cell_type": "code",
   "execution_count": 15,
   "id": "377cd1d1",
   "metadata": {},
   "outputs": [
    {
     "name": "stdout",
     "output_type": "stream",
     "text": [
      "1에서 9사이의 서로 다른 숫자로 구성된 세자리 정수를 입력하세요: 1234\n",
      "아웃\n"
     ]
    }
   ],
   "source": [
    "import random\n",
    "\n",
    "answer = ''\n",
    "for _ in range(3):\n",
    "    answer += str(random.randint(1, 9))\n",
    "\n",
    "while True:\n",
    "    guess = input('1에서 9사이의 서로 다른 숫자로 구성된 세자리 정수를 입력하세요: ')\n",
    "    try:\n",
    "        int(guess)\n",
    "    except ValueError:\n",
    "        continue\n",
    "\n",
    "    ball = 0\n",
    "    strike = 0\n",
    "\n",
    "    for i in range(3):\n",
    "        if answer[i] == guess[i]:\n",
    "            strike += 1\n",
    "        elif guess[i] in answer:\n",
    "            ball += 1\n",
    "\n",
    "    if strike == 3:\n",
    "        print('홈런')\n",
    "    elif strike == 0:\n",
    "        if ball == 0:\n",
    "            print('아웃')\n",
    "        else:\n",
    "            print(ball, '볼')\n",
    "    else:\n",
    "        if ball == 0:\n",
    "            print(strike, '스트라이크')\n",
    "        else:\n",
    "            print(ball, '볼', strike, '스트라이크')\n",
    "            \n",
    "    break"
   ]
  },
  {
   "cell_type": "markdown",
   "id": "a47ae80f",
   "metadata": {},
   "source": [
    "반면에 세 자리 미만의 정수를 입력하면 오류가 발생한다."
   ]
  },
  {
   "cell_type": "code",
   "execution_count": 1,
   "id": "a6977e1c",
   "metadata": {},
   "outputs": [
    {
     "ename": "IndexError",
     "evalue": "string index out of range",
     "output_type": "error",
     "traceback": [
      "\u001b[0;31m---------------------------------------------------------------------------\u001b[0m",
      "\u001b[0;31mIndexError\u001b[0m                                Traceback (most recent call last)",
      "Cell \u001b[0;32mIn[1], line 18\u001b[0m\n\u001b[1;32m     15\u001b[0m strike \u001b[38;5;241m=\u001b[39m \u001b[38;5;241m0\u001b[39m\n\u001b[1;32m     17\u001b[0m \u001b[38;5;28;01mfor\u001b[39;00m i \u001b[38;5;129;01min\u001b[39;00m \u001b[38;5;28mrange\u001b[39m(\u001b[38;5;241m3\u001b[39m):\n\u001b[0;32m---> 18\u001b[0m     \u001b[38;5;28;01mif\u001b[39;00m answer[i] \u001b[38;5;241m==\u001b[39m guess[i]:\n\u001b[1;32m     19\u001b[0m         strike \u001b[38;5;241m+\u001b[39m\u001b[38;5;241m=\u001b[39m \u001b[38;5;241m1\u001b[39m\n\u001b[1;32m     20\u001b[0m     \u001b[38;5;28;01melif\u001b[39;00m guess[i] \u001b[38;5;129;01min\u001b[39;00m answer:\n",
      "\u001b[0;31mIndexError\u001b[0m: string index out of range"
     ]
    }
   ],
   "source": [
    "import random\n",
    "\n",
    "answer = ''\n",
    "for _ in range(3):\n",
    "    answer += str(random.randint(1, 9))\n",
    "\n",
    "while True:\n",
    "    guess = input('1에서 9사이의 서로 다른 숫자로 구성된 세자리 정수를 입력하세요: ')\n",
    "    try:\n",
    "        int(guess)\n",
    "    except ValueError:\n",
    "        continue\n",
    "\n",
    "    ball = 0\n",
    "    strike = 0\n",
    "\n",
    "    for i in range(3):\n",
    "        if answer[i] == guess[i]:\n",
    "            strike += 1\n",
    "        elif guess[i] in answer:\n",
    "            ball += 1\n",
    "\n",
    "    if strike == 3:\n",
    "        print('홈런')\n",
    "    elif strike == 0:\n",
    "        if ball == 0:\n",
    "            print('아웃')\n",
    "        else:\n",
    "            print(ball, '볼')\n",
    "    else:\n",
    "        if ball == 0:\n",
    "            print(strike, '스트라이크')\n",
    "        else:\n",
    "            print(ball, '볼', strike, '스트라이크')\n",
    "            \n",
    "    break"
   ]
  },
  {
   "cell_type": "markdown",
   "id": "7f13fa61",
   "metadata": {},
   "source": [
    "**질문 1**"
   ]
  },
  {
   "cell_type": "markdown",
   "id": "93f907c9",
   "metadata": {},
   "source": [
    "세 자리 미만의 수를 입력했을 때 오류가 발생하는 이유를 설명하라."
   ]
  },
  {
   "cell_type": "markdown",
   "id": "c8bdfd02",
   "metadata": {},
   "source": [
    "**답**"
   ]
  },
  {
   "cell_type": "markdown",
   "id": "24e003a1",
   "metadata": {},
   "source": [
    "아래 명령문을 실행할 때 인덱싱을 0, 1, 2에 대해 실행해야 하는데 세 자리 수 미만은 \n",
    "자릿수가 최대 2이기에 `i`가 3을 가리킬 때 인덱싱의 범위를 벗어나기에 `IndexError`를 발생시킨다.\n",
    "\n",
    "```python\n",
    "for i in range(3):\n",
    "        if answer[i] == guess[i]:\n",
    "            strike += 1\n",
    "        elif guess[i] in answer:\n",
    "            ball += 1\n",
    "```"
   ]
  },
  {
   "cell_type": "markdown",
   "id": "db669ae9",
   "metadata": {},
   "source": [
    "**질문 2**"
   ]
  },
  {
   "cell_type": "markdown",
   "id": "704208db",
   "metadata": {},
   "source": [
    "세 자리 미만 또는 네 자리 이상의 수를 입력했을 때 세 자리 수를 재입력하도록 위 코드를 수정하라.\n",
    "\n",
    "힌트: `if` 조건문과 `continue` 명령문 활용"
   ]
  },
  {
   "cell_type": "markdown",
   "id": "7ca889df",
   "metadata": {},
   "source": [
    "**답**"
   ]
  },
  {
   "cell_type": "code",
   "execution_count": 17,
   "id": "1ae41b3e",
   "metadata": {},
   "outputs": [
    {
     "name": "stdout",
     "output_type": "stream",
     "text": [
      "1에서 9사이의 서로 다른 숫자로 구성된 세자리 정수를 입력하세요: 45\n",
      "1에서 9사이의 서로 다른 숫자로 구성된 세자리 정수를 입력하세요: 1234\n",
      "1에서 9사이의 서로 다른 숫자로 구성된 세자리 정수를 입력하세요: 456\n",
      "1 볼\n"
     ]
    }
   ],
   "source": [
    "import random\n",
    "\n",
    "answer = ''\n",
    "for _ in range(3):\n",
    "    answer += str(random.randint(1, 9))\n",
    "\n",
    "while True:\n",
    "    guess = input('1에서 9사이의 서로 다른 숫자로 구성된 세자리 정수를 입력하세요: ')\n",
    "    try:\n",
    "        int(guess)\n",
    "    except ValueError:\n",
    "        continue\n",
    "\n",
    "    if len(guess) < 3 or len(guess) > 3:\n",
    "        continue\n",
    "    \n",
    "    ball = 0\n",
    "    strike = 0\n",
    "\n",
    "    for i in range(3):\n",
    "        if answer[i] == guess[i]:\n",
    "            strike += 1\n",
    "        elif guess[i] in answer:\n",
    "            ball += 1\n",
    "\n",
    "    if strike == 3:\n",
    "        print('홈런')\n",
    "    elif strike == 0:\n",
    "        if ball == 0:\n",
    "            print('아웃')\n",
    "        else:\n",
    "            print(ball, '볼')\n",
    "    else:\n",
    "        if ball == 0:\n",
    "            print(strike, '스트라이크')\n",
    "        else:\n",
    "            print(ball, '볼', strike, '스트라이크')\n",
    "            \n",
    "    break"
   ]
  },
  {
   "cell_type": "markdown",
   "id": "279e6172",
   "metadata": {},
   "source": [
    "## 문제 7"
   ]
  },
  {
   "cell_type": "markdown",
   "id": "1d9e5efa",
   "metadata": {},
   "source": [
    "아래 코드는 실행될 때마다 1과 100까지의 정수 중에서 임의로 정해진 값을 할당받는 `secret` 변수가\n",
    "가리키는 값을 맞히는 게임이다."
   ]
  },
  {
   "cell_type": "code",
   "execution_count": 41,
   "id": "f1e9ea56",
   "metadata": {},
   "outputs": [
    {
     "name": "stdout",
     "output_type": "stream",
     "text": [
      "수 알아맞히기 게임에 환영합니다.\n",
      "1부터 100 사이의 정수 하나를 입력하세요: 50\n",
      "너무 커요!\n",
      "1부터 100 사이의 정수 하나를 입력하세요: 25\n",
      "너무 작아요!\n",
      "1부터 100 사이의 정수 하나를 입력하세요: 37\n",
      "너무 커요!\n",
      "1부터 100 사이의 정수 하나를 입력하세요: 31\n",
      "맞았습니다!\n",
      "게임 종료!\n"
     ]
    }
   ],
   "source": [
    "from random import randint\n",
    "\n",
    "print(\"수 알아맞히기 게임에 환영합니다.\")\n",
    "\n",
    "secret = randint(1, 100)\n",
    "guess = -1   # 이어지는 while 반복문이 최소 한 번은 실행되도록 함\n",
    "\n",
    "while guess != secret:\n",
    "    guess = int(input(\"1부터 100 사이의 정수 하나를 입력하세요: \"))\n",
    "\n",
    "    if guess == secret:\n",
    "        print(\"맞았습니다!\")\n",
    "    elif guess > secret:\n",
    "        print(\"너무 커요!\")\n",
    "    else:\n",
    "        print(\"너무 작아요!\")\n",
    "\n",
    "print(\"게임 종료!\")"
   ]
  },
  {
   "cell_type": "markdown",
   "id": "065f7e32",
   "metadata": {},
   "source": [
    "**질문 1**"
   ]
  },
  {
   "cell_type": "markdown",
   "id": "b58475c8",
   "metadata": {},
   "source": [
    "위 코드를 수정하여 정수 입력이 아닌 경우에 재입력을 요구하도록 하라.\n",
    "\n",
    "힌트: `try ... except ...` 명령문과 `continue` 명령문 활용"
   ]
  },
  {
   "cell_type": "markdown",
   "id": "6b2e5648",
   "metadata": {},
   "source": [
    "**답**"
   ]
  },
  {
   "cell_type": "code",
   "execution_count": 18,
   "id": "94c124c2",
   "metadata": {},
   "outputs": [
    {
     "name": "stdout",
     "output_type": "stream",
     "text": [
      "수 알아맞히기 게임에 환영합니다.\n",
      "1부터 100 사이의 정수 하나를 입력하세요: kdkdk\n",
      "1부터 100 사이의 정수 하나를 입력하세요: 50\n",
      "너무 작아요!\n",
      "1부터 100 사이의 정수 하나를 입력하세요: 75\n",
      "너무 작아요!\n",
      "1부터 100 사이의 정수 하나를 입력하세요: 87\n",
      "너무 작아요!\n",
      "1부터 100 사이의 정수 하나를 입력하세요: 93\n",
      "너무 커요!\n",
      "1부터 100 사이의 정수 하나를 입력하세요: 90\n",
      "맞았습니다!\n",
      "게임 종료!\n"
     ]
    }
   ],
   "source": [
    "from random import randint\n",
    "\n",
    "print(\"수 알아맞히기 게임에 환영합니다.\")\n",
    "\n",
    "secret = randint(1, 100)\n",
    "guess = -1   # 이어지는 while 반복문이 최소 한 번은 실행되도록 함\n",
    "\n",
    "while guess != secret:\n",
    "    try:\n",
    "        guess = int(input(\"1부터 100 사이의 정수 하나를 입력하세요: \"))\n",
    "    except:\n",
    "        continue\n",
    "\n",
    "    if guess == secret:\n",
    "        print(\"맞았습니다!\")\n",
    "    elif guess > secret:\n",
    "        print(\"너무 커요!\")\n",
    "    else:\n",
    "        print(\"너무 작아요!\")\n",
    "\n",
    "print(\"게임 종료!\")"
   ]
  },
  {
   "cell_type": "markdown",
   "id": "c5d09b72",
   "metadata": {},
   "source": [
    "**질문 2**"
   ]
  },
  {
   "cell_type": "markdown",
   "id": "f6dcc5e6",
   "metadata": {},
   "source": [
    "\"수 알아맞히기 게임\"이 실행중에 사용자가 \n",
    "영어 알파벳 `q` 또는 `Q` 를 입력하면 게임이 종료되도록 이전 질문의 답으로 사용된 코드를 수정하라."
   ]
  },
  {
   "cell_type": "code",
   "execution_count": 19,
   "id": "441eed3e",
   "metadata": {},
   "outputs": [
    {
     "name": "stdout",
     "output_type": "stream",
     "text": [
      "수 알아맞히기 게임에 환영합니다.\n",
      "1부터 100 사이의 정수 하나를 입력하세요: abcd\n",
      "너무 작아요!\n",
      "1부터 100 사이의 정수 하나를 입력하세요: 50\n",
      "너무 작아요!\n",
      "1부터 100 사이의 정수 하나를 입력하세요: 25\n",
      "너무 작아요!\n",
      "1부터 100 사이의 정수 하나를 입력하세요: q\n",
      "게임 종료!\n"
     ]
    }
   ],
   "source": [
    "from random import randint\n",
    "\n",
    "print(\"수 알아맞히기 게임에 환영합니다.\")\n",
    "\n",
    "secret = randint(1, 100)\n",
    "guess = -1   # 이어지는 while 반복문이 최소 한 번은 실행되도록 함\n",
    "\n",
    "while guess != secret:\n",
    "    try:\n",
    "        guess_str = input(\"1부터 100 사이의 정수 하나를 입력하세요: \")\n",
    "        if guess_str == 'q' or guess_str == 'Q':\n",
    "            break\n",
    "        guess = int(guess)\n",
    "    except:\n",
    "        continue\n",
    "        \n",
    "    if guess == secret:\n",
    "        print(\"맞았습니다!\")\n",
    "    elif guess > secret:\n",
    "        print(\"너무 커요!\")\n",
    "    else:\n",
    "        print(\"너무 작아요!\")\n",
    "\n",
    "print(\"게임 종료!\")"
   ]
  }
 ],
 "metadata": {
  "kernelspec": {
   "display_name": "Python 3 (ipykernel)",
   "language": "python",
   "name": "python3"
  },
  "language_info": {
   "codemirror_mode": {
    "name": "ipython",
    "version": 3
   },
   "file_extension": ".py",
   "mimetype": "text/x-python",
   "name": "python",
   "nbconvert_exporter": "python",
   "pygments_lexer": "ipython3",
   "version": "3.11.5"
  }
 },
 "nbformat": 4,
 "nbformat_minor": 5
}
