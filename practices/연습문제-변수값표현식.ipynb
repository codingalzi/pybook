{
  "cells": [
    {
      "cell_type": "markdown",
      "id": "2d03d247-e2d3-4afe-ab5e-83dc989ed62d",
      "metadata": {
        "id": "2d03d247-e2d3-4afe-ab5e-83dc989ed62d"
      },
      "source": [
        "# (실습) 변수, 값, 표현식, 명령문"
      ]
    },
    {
      "cell_type": "markdown",
      "id": "01c8fab8",
      "metadata": {
        "id": "01c8fab8"
      },
      "source": [
        "**주의 사항**\n",
        "\n",
        "* 기존에 작성된 코드셀/텍스트셀은 수정하지 않는다.\n",
        "* 필요한 경우 코드셀 또는 텍스트셀을 추가할 수 있다.\n",
        "* 실습 파일을 구글 드라이브에서 링크로 누구가 공유할 수 있도록 설정하세요."
      ]
    },
    {
      "cell_type": "markdown",
      "id": "c80ac5dd",
      "metadata": {
        "id": "c80ac5dd"
      },
      "source": [
        "**문제 1**"
      ]
    },
    {
      "cell_type": "markdown",
      "id": "b1e2794f",
      "metadata": {
        "id": "b1e2794f"
      },
      "source": [
        "다음 역삼각형 모양을 출력하는 코드를 작성하라.\n",
        "\n",
        "```python\n",
        "* * * * *  \n",
        "* * * *  \n",
        "* * *  \n",
        "* *  \n",
        "*\n",
        "```"
      ]
    },
    {
      "cell_type": "markdown",
      "source": [
        "for문\n"
      ],
      "metadata": {
        "id": "jEKQnlUXxDw7"
      },
      "id": "jEKQnlUXxDw7"
    },
    {
      "cell_type": "code",
      "source": [
        "list_a = [5,4,3,2,1]\n",
        "\n",
        "for i in list_a:\n",
        "  print(\" *\" * i)\n",
        "\n",
        "  "
      ],
      "metadata": {
        "colab": {
          "base_uri": "https://localhost:8080/"
        },
        "id": "PXq22dmjrJlB",
        "outputId": "7e10ad7b-7b84-43da-a3db-87d31affd5d1"
      },
      "id": "PXq22dmjrJlB",
      "execution_count": null,
      "outputs": [
        {
          "output_type": "stream",
          "name": "stdout",
          "text": [
            " * * * * *\n",
            " * * * *\n",
            " * * *\n",
            " * *\n",
            " *\n"
          ]
        }
      ]
    },
    {
      "cell_type": "markdown",
      "source": [
        "While문"
      ],
      "metadata": {
        "id": "yHLFe9-2xGyr"
      },
      "id": "yHLFe9-2xGyr"
    },
    {
      "cell_type": "code",
      "source": [
        "num = 5\n",
        "\n",
        "while(1):\n",
        "  print(\" *\" * num)\n",
        "  num = num-1\n",
        "  if(num==0):\n",
        "    break\n"
      ],
      "metadata": {
        "colab": {
          "base_uri": "https://localhost:8080/"
        },
        "id": "_8bFTLv7s2xH",
        "outputId": "7c3668c4-9119-46f6-dbbf-ee483a5e004e"
      },
      "id": "_8bFTLv7s2xH",
      "execution_count": null,
      "outputs": [
        {
          "output_type": "stream",
          "name": "stdout",
          "text": [
            " * * * * *\n",
            " * * * *\n",
            " * * *\n",
            " * *\n",
            " *\n"
          ]
        }
      ]
    },
    {
      "cell_type": "markdown",
      "id": "827df42a",
      "metadata": {
        "id": "827df42a"
      },
      "source": [
        "**문제 2**"
      ]
    },
    {
      "cell_type": "markdown",
      "id": "8a3373c9",
      "metadata": {
        "id": "8a3373c9"
      },
      "source": [
        "사용자로부터 입력받은 정수의 짝수, 홀수 여부를 판정하는 코드를 작성하라.\n",
        "\n",
        "입력:\n",
        "\n",
        "```python\n",
        "5\n",
        "```\n",
        "\n",
        "출력:\n",
        "\n",
        "```python\n",
        "홀수\n",
        "```"
      ]
    },
    {
      "cell_type": "code",
      "execution_count": null,
      "id": "e0fb6f09",
      "metadata": {
        "id": "e0fb6f09",
        "colab": {
          "base_uri": "https://localhost:8080/"
        },
        "outputId": "b70a1111-0bab-4547-a6fb-c7eb979ba188"
      },
      "outputs": [
        {
          "output_type": "stream",
          "name": "stdout",
          "text": [
            "숫자를 입력하세요5\n",
            "홀수\n"
          ]
        }
      ],
      "source": [
        "a = input(\"숫자를 입력하세요\")\n",
        "numa = int(a) #입력값을 str에서 int 정수형으로 변환\n",
        "\n",
        "if( numa % 2 == 0 ): #나머지를 이용해 홀수 짝수 계산\n",
        "  print(\"짝수\")\n",
        "else:\n",
        "  print(\"홀수\")\n"
      ]
    },
    {
      "cell_type": "markdown",
      "id": "a8cd81ca",
      "metadata": {
        "id": "a8cd81ca"
      },
      "source": [
        "**문제 3**"
      ]
    },
    {
      "cell_type": "markdown",
      "id": "97d4318f",
      "metadata": {
        "id": "97d4318f"
      },
      "source": [
        "사용자로부터 하나의 정수를 입력 받은 값이 17보다 크면 두 숫자의 차이의 제곱을 출력하는 코드를 작성하라.\n",
        "\n",
        "입력:\n",
        "\n",
        "```python\n",
        "25\n",
        "```\n",
        "\n",
        "출력:\n",
        "\n",
        "```python\n",
        "64\n",
        "```"
      ]
    },
    {
      "cell_type": "code",
      "execution_count": null,
      "id": "5e0d094b",
      "metadata": {
        "id": "5e0d094b",
        "colab": {
          "base_uri": "https://localhost:8080/"
        },
        "outputId": "25194c4c-1032-46ed-e76c-aba45d1135ed"
      },
      "outputs": [
        {
          "output_type": "stream",
          "name": "stdout",
          "text": [
            "숫자를 입력하세요25\n",
            "64\n"
          ]
        }
      ],
      "source": [
        "a = input(\"숫자를 입력하세요\")\n",
        "numa = int(a)                 #입력값을 str에서 int 정수형으로 변환\n",
        "\n",
        "if( numa > 17 ):              #17보다 크면 If문 계산 \n",
        "  print( (numa - 17)**2 )\n",
        "elif (numa <= 17) :\n",
        "  print(\"17보다 큰 수를 입력해 주세요.\")\n"
      ]
    },
    {
      "cell_type": "markdown",
      "id": "00ad8d4a",
      "metadata": {
        "id": "00ad8d4a"
      },
      "source": [
        "**문제 4**"
      ]
    },
    {
      "cell_type": "markdown",
      "id": "6681b467",
      "metadata": {
        "id": "6681b467"
      },
      "source": [
        "사용자로부터 하나의 정수 $n$ 을 입력받아 $n + n n + n n n$ 을 계산하는 코드를 작성하라.\n",
        "\n",
        "입력:\n",
        "\n",
        "```python\n",
        "n: 5\n",
        "```\n",
        "\n",
        "출력:\n",
        "\n",
        "```python\n",
        "615\n",
        "```"
      ]
    },
    {
      "cell_type": "code",
      "execution_count": null,
      "id": "0e1a02e9",
      "metadata": {
        "id": "0e1a02e9",
        "colab": {
          "base_uri": "https://localhost:8080/"
        },
        "outputId": "c2ba055c-692e-4967-c21c-327a6b1c0240"
      },
      "outputs": [
        {
          "output_type": "stream",
          "name": "stdout",
          "text": [
            "숫자를 입력하세요5\n",
            "615\n"
          ]
        }
      ],
      "source": [
        "a = input(\"숫자를 입력하세요\")\n",
        "numa = int(a)                      #입력값을 str에서 int 정수형으로 변환\n",
        "\n",
        "print( numa + 11*numa + 111* numa) #𝑛+𝑛𝑛+𝑛𝑛𝑛 의 계산 식\n"
      ]
    },
    {
      "cell_type": "markdown",
      "id": "4b89a2c9",
      "metadata": {
        "id": "4b89a2c9"
      },
      "source": [
        "**문제 5**"
      ]
    },
    {
      "cell_type": "markdown",
      "id": "a7b1e8ed",
      "metadata": {
        "id": "a7b1e8ed"
      },
      "source": [
        "두 정수 `a`와 `b`를 입력받아 \n",
        "`a + b`, `a - b`, `a * b`, `a / b`, `a // b`, `a % b`를 \n",
        "출력하는 코드를 작성하여라.\n",
        "\n",
        "입력:\n",
        "\n",
        "```python\n",
        "a = 3\n",
        "b = 2\n",
        "```\n",
        "\n",
        "출력:\n",
        "\n",
        "```python\n",
        "3 + 2 = 5  \n",
        "3 - 2 = 1\n",
        "3 * 2 = 6 \n",
        "3 / 2 = 1.5\n",
        "3 // 2 = 1\n",
        "3 % 2 = 1\n",
        "```"
      ]
    },
    {
      "cell_type": "code",
      "execution_count": null,
      "id": "81e9725e",
      "metadata": {
        "id": "81e9725e",
        "colab": {
          "base_uri": "https://localhost:8080/"
        },
        "outputId": "078e903b-aff1-4096-ff24-2f390b0b1506"
      },
      "outputs": [
        {
          "output_type": "stream",
          "name": "stdout",
          "text": [
            "a를 입력하세요3\n",
            "b를 입력하세요2\n",
            "\n",
            "\n",
            "3 + 2 = 5\n",
            "3 - 2 = 1\n",
            "3 * 2 = 6\n",
            "3 / 2 = 1.5\n",
            "3 // 2 = 1\n",
            "3 % 2 = 1\n"
          ]
        }
      ],
      "source": [
        "a = input(\"a를 입력하세요\")\n",
        "b = input(\"b를 입력하세요\")\n",
        "num_a = int(a)             #입력값 a를 str에서 int 정수형으로 변환\n",
        "num_b = int(b)             #입력값 b를 str에서 int 정수형으로 변환\n",
        "\n",
        "print(\"\\n\")\n",
        "print( a , \"+\" , num_b , \"=\" , num_a + num_b )\n",
        "print( a , \"-\" , num_b , \"=\" , num_a - num_b )\n",
        "print( a , \"*\" , num_b , \"=\" , num_a * num_b )\n",
        "print( a , \"/\" , num_b , \"=\" , num_a / num_b )\n",
        "print( a , \"//\" , num_b , \"=\" , round(num_a//num_b,1))\n",
        "print( a , \"%\" , num_b , \"=\" , num_a%num_b )"
      ]
    },
    {
      "cell_type": "markdown",
      "id": "6f79b27d",
      "metadata": {
        "id": "6f79b27d"
      },
      "source": [
        "**문제 6**"
      ]
    },
    {
      "cell_type": "markdown",
      "id": "40f6dcfd",
      "metadata": {
        "id": "40f6dcfd"
      },
      "source": [
        "반지름 $r$ 을 입력 받으면 구의 부피 $\\frac{4}{3} \\pi r^3$ 를 출력한다.\n",
        "힌트: 단 원주율($\\pi$)은 3.141592 로 사용한다.\n",
        "\n",
        "입력:\n",
        "\n",
        "```python\n",
        "radius = 3\n",
        "```\n",
        "\n",
        "출력:\n",
        "\n",
        "```python\n",
        "반지름이 3 인 구의 부피는 113.097312 이다.\n",
        "```"
      ]
    },
    {
      "cell_type": "code",
      "execution_count": null,
      "id": "d4b2c0fd",
      "metadata": {
        "id": "d4b2c0fd",
        "colab": {
          "base_uri": "https://localhost:8080/"
        },
        "outputId": "54f3e4c7-da26-4343-8f49-f3d1bee757cd"
      },
      "outputs": [
        {
          "output_type": "stream",
          "name": "stdout",
          "text": [
            "원주율을 입력하세요3\n",
            "반지름이 3 인 구의 부피는  113.097312 이다.\n"
          ]
        }
      ],
      "source": [
        "input_radius = input(\"원주율을 입력하세요\")\n",
        "\n",
        "radius = int(input_radius)  #반지름 입력값을 int형으로 변환\n",
        "pi = 3.141592               #원주율 변수\n",
        "result = ( (4/3) * pi * (radius**3) )   #계산식\n",
        "\n",
        "print(\"반지름이\",radius,\"인 구의 부피는 \",result,\"이다.\")\n",
        "\n"
      ]
    },
    {
      "cell_type": "markdown",
      "id": "948e92e4",
      "metadata": {
        "id": "948e92e4"
      },
      "source": [
        "**문제 7**"
      ]
    },
    {
      "cell_type": "markdown",
      "id": "c29c3bab",
      "metadata": {
        "id": "c29c3bab"
      },
      "source": [
        "두 자연수 $x$와 $y$를 입력받아 두 수의 \n",
        "산술평균<font size = \"2\">arithmetic mean</font>, \n",
        "기하평균<font size = \"2\">geometric mean</font>, \n",
        "조화평균<font size = \"2\">harmonic mean</font>을 \n",
        "출력하는 코드를 작성하여라.\n",
        "단 소수점 둘째자리에서 반올림한다.\n",
        "\n",
        "힌트: 두 자연수 x와 y의 산술평균($M_a$), 기하평균($M_g$), 조화평균($M_h$)을 구하는 식은 아래와 같으며\n",
        "`math` 또는 `numpy` 모듈의 `sqrt()` 함수를 이용하여 제곱근을 계산할 수 있다.\n",
        "\n",
        "$$\n",
        "\\begin{align*}\n",
        "M_a &= \\frac{x + y}{2}\\\\\n",
        "M_g &= \\sqrt{x y} \\\\\n",
        "M_h &= \\frac{2}{\\frac{1}{x} + \\frac{1}{y}}\n",
        "\\end{align*}\n",
        "$$\n",
        "\n",
        "입력:\n",
        "\n",
        "```python\n",
        "x = 3\n",
        "y = 7\n",
        "```\n",
        "\n",
        "출력\n",
        "\n",
        "```python\n",
        "ma = 5.0\n",
        "mg = 4.6\n",
        "mh = 4.2\n",
        "```"
      ]
    },
    {
      "cell_type": "code",
      "execution_count": null,
      "id": "4ee7f93b",
      "metadata": {
        "id": "4ee7f93b",
        "colab": {
          "base_uri": "https://localhost:8080/"
        },
        "outputId": "0efa5e6c-1750-4e5e-918c-431c553bc566"
      },
      "outputs": [
        {
          "output_type": "stream",
          "name": "stdout",
          "text": [
            "x를 입력하세요3\n",
            "y를 입력하세요7\n",
            "ma =  5.0\n",
            "mg =  4.6\n",
            "mh =  4.2\n"
          ]
        }
      ],
      "source": [
        "import math\n",
        "\n",
        "x = input(\"x를 입력하세요\")  \n",
        "y = input(\"y를 입력하세요\")\n",
        "num_x = int(x)            #입력값 x를 str에서 int 정수형으로 변환\n",
        "num_y = int(y)            #입력값 y를 str에서 int 정수형으로 변환\n",
        "\n",
        "ma = ((num_x + num_y)/2)                 #산술평균\n",
        "mg = round(math.sqrt((num_x * num_y)),1) #기하평균 (소수 첫째까지 반올림)\n",
        "mh = 2/((1/ num_x)+(1/num_y))            #조화평균 \n",
        "\n",
        "print(\"ma = \", ma) \n",
        "print(\"mg = \", mg)\n",
        "print(\"mh = \", mh)"
      ]
    },
    {
      "cell_type": "markdown",
      "id": "2dedefbd",
      "metadata": {
        "id": "2dedefbd"
      },
      "source": [
        "**문제 8**"
      ]
    },
    {
      "cell_type": "markdown",
      "id": "e7c2bb54",
      "metadata": {
        "id": "e7c2bb54"
      },
      "source": [
        "다음은 BTS의 버터(Butter) 가사 일부분이다. \n",
        "아래와 같이 문자열을 출력하는 코드를 작성하여라(따옴표 포함).  \n",
        "\n",
        "```\n",
        "Smooth like \"butter\"\n",
        "    Like a criminal undercover\n",
        "        Gon' pop like trouble\n",
        "            Breakin' into your heart like that\n",
        "```\n",
        "\n",
        "힌트: 탭키 문자를 사용한다."
      ]
    },
    {
      "cell_type": "code",
      "execution_count": null,
      "id": "6bee7904",
      "metadata": {
        "id": "6bee7904",
        "colab": {
          "base_uri": "https://localhost:8080/"
        },
        "outputId": "352c52ee-7050-4675-8766-03b843c26499"
      },
      "outputs": [
        {
          "output_type": "stream",
          "name": "stdout",
          "text": [
            " Smooth like \"butter\"\n",
            "    Like a criminal undercover\n",
            "       Gon' pop like trouble\n",
            "          Breakin' into your heart like that\n"
          ]
        }
      ],
      "source": [
        "list_num=[0,1,2,3]\n",
        "list_bts=[\"Smooth like \\\"butter\\\"\",\"Like a criminal undercover\",\"Gon' pop like trouble\",\"Breakin' into your heart like that\"]\n",
        "\n",
        "for i in list_num:\n",
        "  print((\"   \" * i),list_bts[i])\n"
      ]
    },
    {
      "cell_type": "markdown",
      "id": "9632fd8d",
      "metadata": {
        "id": "9632fd8d"
      },
      "source": [
        "**문제 9**"
      ]
    },
    {
      "cell_type": "markdown",
      "id": "eac218aa",
      "metadata": {
        "id": "eac218aa"
      },
      "source": [
        "가로, 세로 $30cm \\times 30cm$ 크기의 타일이 있다.\n",
        "타일은 온장을 그대로 사용할 수도 있고, 잘라서 일부분만 사용할 수도 있다.\n",
        "단, 잘라서 사용한 타일의 나머지는 사용하지 않는다.\n",
        "타일을 붙혀야 하는 공간의 가로, 세로 크기가 주어졌을 때 타일을 깔기 위해 사용되는 온장 타일과 \n",
        "잘라서 사용한 타일의 개수를 지정된 형식으로 출력하는 코드를 작성하여라.  \n",
        "\n",
        "입력: \n",
        "```python\n",
        "width = 400\n",
        "height = 300\n",
        "```\n",
        "\n",
        "출력: \n",
        "\n",
        "```python\n",
        "온장타일: 130\n",
        "자른타일:  10\n",
        "```"
      ]
    },
    {
      "cell_type": "code",
      "execution_count": null,
      "id": "2ab52624",
      "metadata": {
        "id": "2ab52624",
        "colab": {
          "base_uri": "https://localhost:8080/"
        },
        "outputId": "a7efdbce-8f14-4b89-d130-f4bd84c5de79"
      },
      "outputs": [
        {
          "output_type": "stream",
          "name": "stdout",
          "text": [
            "width를 입력하세요400\n",
            "height를 입력하세요300\n",
            "온장타일: 130\n",
            "자른타일: 10\n"
          ]
        }
      ],
      "source": [
        "width = input(\"width를 입력하세요\")  \n",
        "height = input(\"height를 입력하세요\")\n",
        "\n",
        "w = int(width)            #입력받은 타일 정수형으로 변환\n",
        "h = int(height)           #입력받은 타일 정수형으로 변환\n",
        "wt = 30                   #타일넓이\n",
        "ht = 30                   #타일높이\n",
        "\n",
        "ot = 0                    #온장타일 갯수 변수\n",
        "ct = 0                    #자른타일 갯수 변수\n",
        "\n",
        "ot = (w//wt) * (h//ht)    #온장타일 갯수 구하는 식\n",
        "\n",
        "if ((w%wt != 0) and (h%ht != 0)) :  #높이, 넓이에 나머지가 나왔을때 자른 타일 갯수 \n",
        "  ct = (w//wt)+(h//ht)+1\n",
        "\n",
        "elif((w%wt == 0) and (h%ht != 0)):    #높이 에 나머지가 나왔을때 자른 타일 갯수 \n",
        "  ct = (w//wt)\n",
        "\n",
        "elif((w%wt != 0) and (h%ht == 0)):    #넓이 에 나머지가 나왔을때 자른 타일 갯수 \n",
        "  ct = (h//ht)\n",
        "\n",
        "\n",
        "print(\"온장타일:\",ot)\n",
        "print(\"자른타일:\",ct)\n"
      ]
    },
    {
      "cell_type": "markdown",
      "source": [
        "**문제10**"
      ],
      "metadata": {
        "id": "jvLZUc7Svyif"
      },
      "id": "jvLZUc7Svyif"
    },
    {
      "cell_type": "markdown",
      "id": "5abbc1b0",
      "metadata": {
        "id": "5abbc1b0"
      },
      "source": [
        "대기실에 $N$개의 의자가 일렬로 놓여 있다.\n",
        "어느 두 사람도 이웃하여 앉지 않을 때, 앉을 수 있는 최대 인원수와\n",
        "최소 인원수를 출력하는 코드를 구하여라.\n",
        "입력은 100이하의 자연수이고, 최대와 최소는 공백으로 구분하여 출력한다.\n",
        "단, 자리를 채운 후에는 더 이상 어느 누구도 자리에 앉을 수 없어야 한다.\n",
        "\n",
        "예를 들어, 5개의 의자가 일렬로 놓여 있을 때,\n",
        "최소 2명(OXXOX)에서 최대 3명(OXOXO) 까지 앉을 수 있다.\n",
        "\n",
        "입력:\n",
        "\n",
        "```python\n",
        "N = 5\n",
        "```\n",
        "\n",
        "출력:\n",
        "\n",
        "```python\n",
        "최소: 2명\n",
        "최대: 3명\n",
        "```"
      ]
    },
    {
      "cell_type": "code",
      "execution_count": null,
      "id": "aa03ab03",
      "metadata": {
        "id": "aa03ab03",
        "colab": {
          "base_uri": "https://localhost:8080/"
        },
        "outputId": "d9d7dcd6-b8d2-4ca0-f0e0-d7f1c63e02b7"
      },
      "outputs": [
        {
          "output_type": "stream",
          "name": "stdout",
          "text": [
            "N = 5\n",
            "최소: 2 명\n",
            "최대: 3 명\n"
          ]
        }
      ],
      "source": [
        "c = input(\"N = \")\n",
        "\n",
        "c_num = int(c)\n",
        "\n",
        "max = 0\n",
        "las = 0\n",
        "\n",
        "if c_num%2 == 0:  \n",
        "  max = c_num//2\n",
        "else:\n",
        "  max = (c_num//2)+1\n",
        "\n",
        "\n",
        "if c_num%3 == 0:  \n",
        "  las = (c_num//3)\n",
        "else:\n",
        "  las = (c_num//3)+1\n",
        "\n",
        "\n",
        "print(\"최소:\",las,\"명\")\n",
        "print(\"최대:\",max,\"명\")\n"
      ]
    },
    {
      "cell_type": "markdown",
      "source": [
        "문제 10번 해석\n",
        "\n",
        "**최대**\n",
        "\n",
        "사람과 사람 사이에 한자리만 띄워 앉는 것 이다.\n",
        "의자가 홀수면 남은 자리만 더해준다.\n",
        "앉은 사람과 빈자리를 더해 , 총 의자의 수 나눠 계산 해 주면\n",
        "즉,  \n",
        "N/2 (N이 짝수 일때) or (N/2)+1 (n이 홀수일때)\n",
        "\n",
        "\n",
        "**최소**\n",
        "\n",
        "의자와 의자 사이에 사람이 앉는 것이다.\n",
        "의자 사람 의자 즉 3으로 묶어 생각하면 된다.\n",
        "3의 배수로 떨어지는 값은 33으로 나눈값, 3의 배수가 아닌 값은 나눈값 +1 을 해주면 된다.\n",
        "(앉은 사람과 빈자리를 더해) , (총 의자의 수) 나눠 계산 해 주면\n",
        "즉,  \n",
        "(N/3) +1 (3의 배수가 아닐 때),(N/3) (3의 배수일 때)이다"
      ],
      "metadata": {
        "id": "lkjPKnkisLcs"
      },
      "id": "lkjPKnkisLcs"
    },
    {
      "cell_type": "markdown",
      "source": [
        "**문제 11**"
      ],
      "metadata": {
        "id": "u1k7GqnX8ldY"
      },
      "id": "u1k7GqnX8ldY"
    },
    {
      "cell_type": "markdown",
      "source": [
        "키와 몸무게를 인자로 받아 체질량지수(BMI)를 구하는 코드를 작성하여라.\n",
        "\n",
        "$$\\texttt{BMI} = \\frac{\\texttt{몸무게}}{\\texttt{키}^2}$$\n",
        "\n",
        "단, 몸무게는 킬로그램(kg) 을, 키는 미터(m)를 단위로 사용한다.\n",
        "또한 BMI 수치에 따른 체중 분류는 다음과 같다.\n",
        "\n",
        "| BMI 수치 | 체중 분류 |\n",
        "| :---: | :---: |\n",
        "| BMI <= 18.5 | 저체중 |\n",
        "| 18.5 < BMI <= 23 | 정상 |\n",
        "| 23 < BMI <= 25 | 과체중 |\n",
        "| 25 < BMI <= 30 | 비만 |\n",
        "| BMI > 30 | 고도비만 |\n",
        "\n",
        "입력:\n",
        "\n",
        "```python\n",
        "weight = 72   # 몸무게\n",
        "height = 178  # 키\n",
        "```\n",
        "\n",
        "출력:\n",
        "\n",
        "```python\n",
        "BMI는 정상 수치입니다.\n",
        "```"
      ],
      "metadata": {
        "id": "wbRFnsWB8pY8"
      },
      "id": "wbRFnsWB8pY8"
    },
    {
      "cell_type": "code",
      "source": [
        "# 코드를 작성하세요.\n",
        "# 필요하면 코드셀 또는 텍스트셀을 추가할 수 있습니다.\n",
        "\n",
        "weight = input(\"몸무게를 입력하세요: \")\n",
        "height = input(\"키를 입력하세요: \")\n",
        "\n",
        "\n",
        "bmi_hight = int(height)/100\n",
        "BMI = float(weight)/(bmi_hight**2)\n",
        "\n",
        "if(BMI <= 18.5):\n",
        "\n",
        "  print(\"BMI는 저체중 수치입니다.\")\n",
        "\n",
        "elif(BMI > 18.5 and BMI <= 23):\n",
        "\n",
        "  print(\"BMI는 정상 수치입니다.\")\n",
        "\n",
        "elif(BMI > 23 and BMI <= 25):\n",
        "\n",
        "  print(\"BMI는 과체중 수치입니다.\")\n",
        "\n",
        "elif(BMI > 25 and BMI <= 30):\n",
        "\n",
        "  print(\"BMI는 비만 수치입니다.\")\n",
        "\n",
        "elif(BMI > 30):\n",
        "\n",
        "  print(\"BMI는 고도비만 수치입니다.\")\n"
      ],
      "metadata": {
        "colab": {
          "base_uri": "https://localhost:8080/"
        },
        "id": "mXgGg2U_8qFz",
        "outputId": "b001263b-a976-45ad-f9c7-95372f3f6a38"
      },
      "id": "mXgGg2U_8qFz",
      "execution_count": null,
      "outputs": [
        {
          "output_type": "stream",
          "name": "stdout",
          "text": [
            "몸무게를 입력하세요: 72\n",
            "키를 입력하세요: 178\n",
            "BMI는 정상 수치입니다.\n"
          ]
        }
      ]
    }
  ],
  "metadata": {
    "kernelspec": {
      "display_name": "Python 3 (ipykernel)",
      "language": "python",
      "name": "python3"
    },
    "language_info": {
      "codemirror_mode": {
        "name": "ipython",
        "version": 3
      },
      "file_extension": ".py",
      "mimetype": "text/x-python",
      "name": "python",
      "nbconvert_exporter": "python",
      "pygments_lexer": "ipython3",
      "version": "3.9.7"
    },
    "toc-autonumbering": true,
    "toc-showcode": false,
    "toc-showmarkdowntxt": false,
    "colab": {
      "provenance": []
    }
  },
  "nbformat": 4,
  "nbformat_minor": 5
}