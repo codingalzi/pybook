{
 "cells": [
  {
   "cell_type": "markdown",
   "id": "2d03d247-e2d3-4afe-ab5e-83dc989ed62d",
   "metadata": {},
   "source": [
    "# (실습) 기본자료형"
   ]
  },
  {
   "cell_type": "markdown",
   "id": "fd12dc3c",
   "metadata": {},
   "source": [
    "**문제 1**"
   ]
  },
  {
   "cell_type": "markdown",
   "id": "1539888f",
   "metadata": {},
   "source": [
    "`input()` 함수를 이용하여 입력받은 정수를 지정된 방식으로 출력하는 코드를 작성하라.\n",
    "단, 정수는 최대 6자리의 수를 입력한다고 가정한다.\n",
    "\n",
    "힌트: 문자열 포매팅 활용\n",
    "\n",
    "입력: \n",
    "\n",
    "```python\n",
    "123\n",
    "```\n",
    "\n",
    "출력:\n",
    "\n",
    "```python\n",
    "입력하신 숫자는 000123입니다.\n",
    "```"
   ]
  },
  {
   "cell_type": "code",
   "execution_count": 1,
   "id": "7a594361",
   "metadata": {},
   "outputs": [],
   "source": [
    "# 코드를 작성하세요.\n",
    "# 필요하면 코드셀 또는 텍스트셀을 추가할 수 있습니다.\n"
   ]
  },
  {
   "cell_type": "markdown",
   "id": "e6920a3e",
   "metadata": {},
   "source": [
    "**문제 2**"
   ]
  },
  {
   "cell_type": "markdown",
   "id": "6f1738d6",
   "metadata": {},
   "source": [
    "오늘의 요일이 주어질 때, 100일 후의 요일을 출력하는 코드를 작성하여라.\n",
    "단, 일, 월, 화, 수, 목, 금, 토, 일 각각은 0, 1, 2, 3, 4, 5, 6 으로 대신한다.\n",
    "\n",
    "입력:\n",
    "\n",
    "```python\n",
    "2\n",
    "```\n",
    "\n",
    "출력:\n",
    "\n",
    "```python\n",
    "4\n",
    "```"
   ]
  },
  {
   "cell_type": "code",
   "execution_count": 2,
   "id": "6d0bc43b",
   "metadata": {},
   "outputs": [],
   "source": [
    "# 코드를 작성하세요.\n",
    "# 필요하면 코드셀 또는 텍스트셀을 추가할 수 있습니다.\n"
   ]
  },
  {
   "cell_type": "markdown",
   "id": "f8b61e28",
   "metadata": {},
   "source": [
    "**문제 3**"
   ]
  },
  {
   "cell_type": "markdown",
   "id": "a96e8d1d",
   "metadata": {},
   "source": [
    "홍길동의 주민등록번호는 881120-1068234이다.\n",
    "홍길동의 주민등록번호를 연월일(YYYYMMDD) 부분과 그 뒤의 숫자 부분으로 나누어 출력해 보자.\n",
    "\n",
    "힌트: 문자열 슬라이싱을 활용한다."
   ]
  },
  {
   "cell_type": "code",
   "execution_count": 3,
   "id": "a0a18ca2",
   "metadata": {},
   "outputs": [],
   "source": [
    "# 코드를 작성하세요.\n",
    "# 필요하면 코드셀 또는 텍스트셀을 추가할 수 있습니다.\n"
   ]
  },
  {
   "cell_type": "markdown",
   "id": "df172b35",
   "metadata": {},
   "source": [
    "**문제 4**"
   ]
  },
  {
   "cell_type": "markdown",
   "id": "bb93953a",
   "metadata": {},
   "source": [
    "주민등록번호 뒷자리의 맨 첫 번째 숫자는 성별을 나타낸다. 주민등록번호에서 성별을 나타내는 숫자를 출력해 보자.\n",
    "\n",
    "힌트: 문자열 인덱싱을 활용한다."
   ]
  },
  {
   "cell_type": "code",
   "execution_count": 4,
   "id": "38449d7a",
   "metadata": {},
   "outputs": [],
   "source": [
    "# 코드를 작성하세요.\n",
    "# 필요하면 코드셀 또는 텍스트셀을 추가할 수 있습니다.\n"
   ]
  },
  {
   "cell_type": "markdown",
   "id": "2ed2bcc5",
   "metadata": {},
   "source": [
    "**문제 5**"
   ]
  },
  {
   "cell_type": "markdown",
   "id": "4331ac83",
   "metadata": {},
   "source": [
    "다음과 같이 `a`, `b` 두 변수를 선언한 후 `a` 의 두 번째 요솟값을 변경하면 `b` 의 값은 \n",
    "어떻게 되는지 확인하고 그 이유를 설명하라.\n",
    "\n",
    "```python\n",
    ">>> a = b = [1, 2, 3]\n",
    ">>> a[1] = 4\n",
    ">>> print(b)\n",
    "[1, 4, 2]\n",
    "```"
   ]
  },
  {
   "cell_type": "code",
   "execution_count": 5,
   "id": "295df44f",
   "metadata": {},
   "outputs": [],
   "source": [
    "# 코드를 작성하세요.\n",
    "# 필요하면 코드셀 또는 텍스트셀을 추가할 수 있습니다.\n"
   ]
  },
  {
   "cell_type": "markdown",
   "id": "036a132a",
   "metadata": {},
   "source": [
    "**문제 6**"
   ]
  },
  {
   "cell_type": "markdown",
   "id": "9003b7a9",
   "metadata": {
    "id": "kkbD-sw3IsYs"
   },
   "source": [
    "과일 이름으로 구성된 문자열 하나가 주어졌다."
   ]
  },
  {
   "cell_type": "code",
   "execution_count": 6,
   "id": "fc8642e5",
   "metadata": {
    "id": "kkbD-sw3IsYs"
   },
   "outputs": [],
   "source": [
    "fruit = \"banana apple orange pineapple mango strawberry cherry\""
   ]
  },
  {
   "cell_type": "markdown",
   "id": "4fa6ee61",
   "metadata": {
    "id": "dBAG4HeAKjNv"
   },
   "source": [
    "(1) `fruit` 변수로부터 her 문자열을 추출하는 코드를 작성하여라."
   ]
  },
  {
   "cell_type": "code",
   "execution_count": 7,
   "id": "8afad734",
   "metadata": {},
   "outputs": [],
   "source": [
    "# 코드를 작성하세요.\n",
    "# 필요하면 코드셀 또는 텍스트셀을 추가할 수 있습니다.\n"
   ]
  },
  {
   "cell_type": "markdown",
   "id": "0865ae3e",
   "metadata": {
    "id": "E9PvHGphK_qP"
   },
   "source": [
    "(2) `fruit` 변수로부터 oae 문자열을 추출하는 코드를 작성하여라."
   ]
  },
  {
   "cell_type": "code",
   "execution_count": 8,
   "id": "d4be7124",
   "metadata": {},
   "outputs": [],
   "source": [
    "# 코드를 작성하세요.\n",
    "# 필요하면 코드셀 또는 텍스트셀을 추가할 수 있습니다.\n"
   ]
  },
  {
   "cell_type": "markdown",
   "id": "5caed8e2",
   "metadata": {
    "id": "9c62tWuBLr5c"
   },
   "source": [
    "(3) `fruit` 변수로부터 yrrehc 문자열을 추출하는 코드를 작성하여라."
   ]
  },
  {
   "cell_type": "code",
   "execution_count": 9,
   "id": "f6fb4d57",
   "metadata": {},
   "outputs": [],
   "source": [
    "# 코드를 작성하세요.\n",
    "# 필요하면 코드셀 또는 텍스트셀을 추가할 수 있습니다.\n"
   ]
  },
  {
   "cell_type": "markdown",
   "id": "e613b028",
   "metadata": {},
   "source": [
    "**문제 7**"
   ]
  },
  {
   "cell_type": "markdown",
   "id": "3de55c80",
   "metadata": {
    "id": "B33dgBTeoy23"
   },
   "source": [
    "다음 문자열이 주어졌다.\n",
    "\n",
    "```python\n",
    "'n o r t h w e s t e r n'\n",
    "```\n",
    "\n",
    "위 문자열을 이용하여 아래 문자열을 생성하는 코드를 작성하라.\n",
    "\n",
    "```python\n",
    "'Northwestern'\n",
    "```"
   ]
  },
  {
   "cell_type": "code",
   "execution_count": 10,
   "id": "be2a782b",
   "metadata": {},
   "outputs": [],
   "source": [
    "# 코드를 작성하세요.\n",
    "# 필요하면 코드셀 또는 텍스트셀을 추가할 수 있습니다.\n"
   ]
  },
  {
   "cell_type": "markdown",
   "id": "520b5dab",
   "metadata": {},
   "source": [
    "**문제 8**"
   ]
  },
  {
   "cell_type": "markdown",
   "id": "62b4ffe3",
   "metadata": {
    "id": "ngzxeTGTpXrG"
   },
   "source": [
    "아래 노래 가사를 활용하는 문제이다."
   ]
  },
  {
   "cell_type": "code",
   "execution_count": 11,
   "id": "de3b3096",
   "metadata": {
    "id": "ngzxeTGTpXrG"
   },
   "outputs": [],
   "source": [
    "song = \"When you are smiling, the whole world smiles with you\""
   ]
  },
  {
   "cell_type": "markdown",
   "id": "b8cc3285",
   "metadata": {
    "id": "ngzxeTGTpXrG"
   },
   "source": [
    "(1) `for` 문을 사용하여 `song`에서 `a`가 등장하는 횟수를 구하는 코드를 작성하라.  "
   ]
  },
  {
   "cell_type": "code",
   "execution_count": 12,
   "id": "0450781b",
   "metadata": {},
   "outputs": [],
   "source": [
    "# 코드를 작성하세요.\n",
    "# 필요하면 코드셀 또는 텍스트셀을 추가할 수 있습니다.\n"
   ]
  },
  {
   "cell_type": "markdown",
   "id": "73bd79a3",
   "metadata": {
    "id": "S2R5xEZyrCYh"
   },
   "source": [
    "(2) 반복문을 사용하여  `song`에서 대소문자 구별없이 `w`가 등장하는 횟수를 구하는 코드를 작성하라."
   ]
  },
  {
   "cell_type": "code",
   "execution_count": 13,
   "id": "e559adb3",
   "metadata": {},
   "outputs": [],
   "source": [
    "# 코드를 작성하세요.\n",
    "# 필요하면 코드셀 또는 텍스트셀을 추가할 수 있습니다.\n"
   ]
  },
  {
   "cell_type": "markdown",
   "id": "264f343d",
   "metadata": {},
   "source": [
    "**문제 9**"
   ]
  },
  {
   "cell_type": "markdown",
   "id": "2c45e398",
   "metadata": {
    "id": "cdWbYJ-Ws00D"
   },
   "source": [
    "`num`이 가리키는 정수가 3으로 시작하거나 3을 포함하는 경우에는\n",
    "`num` 의 세제곱을 출력하고, \n",
    "아닌 경우에는 `num` 에서 2를 뺀 값을 출력하는 코드를 작성하라."
   ]
  },
  {
   "cell_type": "code",
   "execution_count": 14,
   "id": "d5d87f68",
   "metadata": {},
   "outputs": [],
   "source": [
    "# 코드를 작성하세요.\n",
    "# 필요하면 코드셀 또는 텍스트셀을 추가할 수 있습니다.\n"
   ]
  },
  {
   "cell_type": "markdown",
   "id": "93c7f510",
   "metadata": {},
   "source": [
    "**문제 10**"
   ]
  },
  {
   "cell_type": "markdown",
   "id": "629a533d",
   "metadata": {
    "id": "KSHjiCE0nlrM"
   },
   "source": [
    "정수 나눗셈의 몫을 계산하는 코드를 `while` 반복문을 이용하여 구현한다.\n",
    "단, 몫 연산자 `//` 는 절대 사용하지 않으며, 덧셈과 뺄셈만 사용한다. \n",
    "\n",
    "```\n",
    "number = 43\n",
    "divisor = 7\n",
    "answer = 0\n",
    "```"
   ]
  },
  {
   "cell_type": "code",
   "execution_count": 15,
   "id": "5753542f",
   "metadata": {},
   "outputs": [],
   "source": [
    "# 코드를 작성하세요.\n",
    "# 필요하면 코드셀 또는 텍스트셀을 추가할 수 있습니다.\n"
   ]
  },
  {
   "cell_type": "markdown",
   "id": "a9bb5495",
   "metadata": {
    "id": "gMpJAk7d9-9H"
   },
   "source": [
    "**문제 11**"
   ]
  },
  {
   "cell_type": "markdown",
   "id": "2a18be3b",
   "metadata": {
    "id": "gMpJAk7d9-9H"
   },
   "source": [
    "어느 한 택배의 무게에 따른 가격표가 다음과 같다.\n",
    "\n",
    "| 5kg 미만 | 5kg 이상~10kg 미만 | 10kg 이상 |\n",
    "|:-------:|:--------------------:|:---------:|\n",
    "|5.000원 | 8,000원| 10,000원|\n",
    "\n",
    "우편물의 무게가 주어졌을 때, 택배 가격을 알려주는 프로그램을 만들어라.  "
   ]
  },
  {
   "cell_type": "code",
   "execution_count": 16,
   "id": "988922a6",
   "metadata": {},
   "outputs": [],
   "source": [
    "# 코드를 작성하세요.\n",
    "# 필요하면 코드셀 또는 텍스트셀을 추가할 수 있습니다.\n"
   ]
  },
  {
   "cell_type": "markdown",
   "id": "6e53793d",
   "metadata": {
    "id": "j5Yd_UXFuSHE"
   },
   "source": [
    "**문제 12**"
   ]
  },
  {
   "cell_type": "markdown",
   "id": "a8aa77ea",
   "metadata": {
    "id": "j5Yd_UXFuSHE"
   },
   "source": [
    "0부터 100까지의 숫자 중에서 3의 배수와 7의 배수를 모두 찾아 출력한 다음, \n",
    "찾은 수들을 모두 더하여 아래와 같이 출력하는 코드를 작성하여라.\n",
    "\n",
    "```python\n",
    "0~100의 숫자 중 3의 배수와 7의 배수들의 합은 OOO이다.\n",
    "```"
   ]
  },
  {
   "cell_type": "code",
   "execution_count": 17,
   "id": "55b1f86c",
   "metadata": {},
   "outputs": [],
   "source": [
    "# 코드를 작성하세요.\n",
    "# 필요하면 코드셀 또는 텍스트셀을 추가할 수 있습니다.\n"
   ]
  },
  {
   "cell_type": "markdown",
   "id": "03e30c2a",
   "metadata": {
    "id": "7zN5nuZEGlZS"
   },
   "source": [
    "**문제 13**"
   ]
  },
  {
   "cell_type": "markdown",
   "id": "096af73f",
   "metadata": {
    "id": "7zN5nuZEGlZS"
   },
   "source": [
    "임의의 자연수 n이 주어졌을 때, 1부터 n까지의 자연수 중에서 3의 배수이거나 \n",
    "3을 포함하는 숫자들의 합을 구하여라. "
   ]
  },
  {
   "cell_type": "code",
   "execution_count": 18,
   "id": "d5b08dc5",
   "metadata": {},
   "outputs": [],
   "source": [
    "# 코드를 작성하세요.\n",
    "# 필요하면 코드셀 또는 텍스트셀을 추가할 수 있습니다.\n"
   ]
  },
  {
   "cell_type": "markdown",
   "id": "fd2fc091",
   "metadata": {
    "id": "DL3G4F7CmkA1"
   },
   "source": [
    "**문제 14**"
   ]
  },
  {
   "cell_type": "markdown",
   "id": "67fa0cc6",
   "metadata": {
    "id": "DL3G4F7CmkA1"
   },
   "source": [
    "자연수 n이 주어졌을 때, n의 약수를 모두 출력하는 코드를 작성하여라. 단, n은 임의로 둔다."
   ]
  },
  {
   "cell_type": "code",
   "execution_count": 19,
   "id": "b8c82db8",
   "metadata": {},
   "outputs": [],
   "source": [
    "# 코드를 작성하세요.\n",
    "# 필요하면 코드셀 또는 텍스트셀을 추가할 수 있습니다.\n"
   ]
  },
  {
   "cell_type": "markdown",
   "id": "beba89dc",
   "metadata": {
    "id": "DL3G4F7CmkA1"
   },
   "source": [
    "**문제 15**"
   ]
  },
  {
   "cell_type": "markdown",
   "id": "f9febfa4",
   "metadata": {},
   "source": [
    "일찍 태어난 사람이 늦게 태어난 사람보다 정확히 두 배의 나이를 갖는 경우가 발생한다. \n",
    "예를 들어, 2003년 7월 12일에 태어난 사람과 2006년 9월 30일에 태어난 사람은\n",
    "2009년 12월 19일에 서로의 나이가 딱 두 배가 된다.\n",
    "\n",
    "이를 확인하는 코드를 `Timestamp` 자료형을 이용하여 작성하라."
   ]
  },
  {
   "cell_type": "code",
   "execution_count": 22,
   "id": "04a0dc66",
   "metadata": {},
   "outputs": [],
   "source": [
    "import pandas as pd \n",
    "\n",
    "d1 = pd.Timestamp('2003-07-12')\n",
    "d2 = pd.Timestamp('2006-09-30')"
   ]
  },
  {
   "cell_type": "code",
   "execution_count": 23,
   "id": "291e563f",
   "metadata": {},
   "outputs": [],
   "source": [
    "# 코드를 작성하세요.\n",
    "# 필요하면 코드셀 또는 텍스트셀을 추가할 수 있습니다.\n"
   ]
  }
 ],
 "metadata": {
  "kernelspec": {
   "display_name": "Python 3 (ipykernel)",
   "language": "python",
   "name": "python3"
  },
  "language_info": {
   "codemirror_mode": {
    "name": "ipython",
    "version": 3
   },
   "file_extension": ".py",
   "mimetype": "text/x-python",
   "name": "python",
   "nbconvert_exporter": "python",
   "pygments_lexer": "ipython3",
   "version": "3.9.7"
  },
  "toc-autonumbering": true,
  "toc-showcode": false,
  "toc-showmarkdowntxt": false
 },
 "nbformat": 4,
 "nbformat_minor": 5
}
