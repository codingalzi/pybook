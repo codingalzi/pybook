{
 "cells": [
  {
   "cell_type": "markdown",
   "id": "2d03d247-e2d3-4afe-ab5e-83dc989ed62d",
   "metadata": {},
   "source": [
    "# (실습) 기본자료형"
   ]
  },
  {
   "cell_type": "markdown",
   "id": "974cbba5",
   "metadata": {},
   "source": [
    "**문제**\n",
    "\n",
    "`input()` 함수로 정수를 입력받아, \n",
    "지정된 형식으로 그 값을 출력하는 코드를 작성하라.\n",
    "단, 정수는 최대 6자리의 수를 입력한다고 가정한다.\n",
    "\n",
    "입력: \n",
    "\n",
    "```python\n",
    "123\n",
    "```\n",
    "\n",
    "출력:\n",
    "\n",
    "```python\n",
    "입력하신 숫자는 000123입니다.\n",
    "```"
   ]
  },
  {
   "cell_type": "markdown",
   "id": "43a7515f",
   "metadata": {},
   "source": [
    "**문제**\n",
    "\n",
    "오늘의 요일이 주어질 때, 100일 후의 요일을 출력하는 코드를 작성하여라.\n",
    "단, 일, 월, 화, 수, 목, 금, 토, 일 각각은 0, 1, 2, 3, 4, 5, 6 으로 대신한다.\n",
    "\n",
    "입력:\n",
    "\n",
    "```python\n",
    "2\n",
    "```\n",
    "\n",
    "출력:\n",
    "\n",
    "```python\n",
    "4\n",
    "```"
   ]
  }
 ],
 "metadata": {
  "kernelspec": {
   "display_name": "Python 3 (ipykernel)",
   "language": "python",
   "name": "python3"
  },
  "language_info": {
   "codemirror_mode": {
    "name": "ipython",
    "version": 3
   },
   "file_extension": ".py",
   "mimetype": "text/x-python",
   "name": "python",
   "nbconvert_exporter": "python",
   "pygments_lexer": "ipython3",
   "version": "3.9.7"
  },
  "toc-autonumbering": true,
  "toc-showcode": false,
  "toc-showmarkdowntxt": false
 },
 "nbformat": 4,
 "nbformat_minor": 5
}
