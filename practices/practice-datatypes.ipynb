{
 "cells": [
  {
   "cell_type": "markdown",
   "id": "2d03d247-e2d3-4afe-ab5e-83dc989ed62d",
   "metadata": {},
   "source": [
    "# (실습) 기본자료형"
   ]
  },
  {
   "cell_type": "markdown",
   "id": "54d5078e",
   "metadata": {},
   "source": [
    "**문제**"
   ]
  },
  {
   "cell_type": "markdown",
   "id": "63a7116a",
   "metadata": {},
   "source": [
    "홍길동 씨의 과목별 점수는 다음과 같다. 홍길동 씨의 평균 점수를 구해 보자.\n",
    "\n",
    "```\n",
    "과목 점수\n",
    "국어 80\n",
    "영어 75\n",
    "수학 55\n",
    "```"
   ]
  },
  {
   "cell_type": "markdown",
   "id": "f8b61e28",
   "metadata": {},
   "source": [
    "**문제**"
   ]
  },
  {
   "cell_type": "markdown",
   "id": "a96e8d1d",
   "metadata": {},
   "source": [
    "홍길동 씨의 주민등록번호는 881120-1068234이다.\n",
    "홍길동 씨의 주민등록번호를 연월일(YYYYMMDD) 부분과 \n",
    "그 뒤의 숫자 부분으로 나누어 출력해 보자.\n",
    "\n",
    "힌트: 문자열 슬라이싱 기법을 사용해 보자."
   ]
  },
  {
   "cell_type": "markdown",
   "id": "df172b35",
   "metadata": {},
   "source": [
    "**문제**"
   ]
  },
  {
   "cell_type": "markdown",
   "id": "bb93953a",
   "metadata": {},
   "source": [
    "주민등록번호 뒷자리의 맨 첫 번째 숫자는 성별을 나타낸다. 주민등록번호에서 성별을 나타내는 숫자를 출력해 보자.\n",
    "\n",
    "힌트: 문자열 인덱싱을 사용해 보자."
   ]
  },
  {
   "cell_type": "markdown",
   "id": "d32f57f0",
   "metadata": {},
   "source": [
    "**문제**"
   ]
  },
  {
   "cell_type": "markdown",
   "id": "3cba19ed",
   "metadata": {},
   "source": [
    "다음과 같은 문자열 a:b:c:d가 있다. 문자열의 replace 함수를 사용하여 a#b#c#d로 바꿔서 출력해 보자."
   ]
  },
  {
   "cell_type": "markdown",
   "id": "20c1f72d",
   "metadata": {},
   "source": [
    "**문제**"
   ]
  },
  {
   "cell_type": "markdown",
   "id": "f6d0ffec",
   "metadata": {},
   "source": [
    "`[1, 3, 5, 4, 2]` 리스트를 `[5, 4, 3, 2, 1]`로 만들어 보자.\n",
    "\n",
    "힌트: 리스트의 메서드를 사용해 보자."
   ]
  },
  {
   "cell_type": "markdown",
   "id": "107b0ac5",
   "metadata": {},
   "source": [
    "**문제**"
   ]
  },
  {
   "cell_type": "markdown",
   "id": "62d426fe",
   "metadata": {},
   "source": [
    "`['Life', 'is', 'too', 'short']` 리스트를 \n",
    "`\"Life is too short\"` 문자열로 만들어 출력해 보자.\n",
    "\n",
    "힌트: 리스트의 `join()` 메서드를 사용한다."
   ]
  },
  {
   "cell_type": "markdown",
   "id": "dbe47dfd",
   "metadata": {},
   "source": [
    "**문제**"
   ]
  },
  {
   "cell_type": "markdown",
   "id": "166a6183",
   "metadata": {},
   "source": [
    "(1,2,3) 튜플에 값 4를 추가하여 (1,2,3,4)를 만들어 출력해 보자.\n",
    "※ 더하기(+)를 사용해 보자.\n",
    "\n",
    ">>> a = (1, 2, 3)\n",
    ">>> type(a)\n",
    "<class 'tuple'>\n",
    ">>> b = (4,)\n",
    ">>> type(b)\n",
    "<class 'tuple'>\n",
    ">>> a + b\n",
    "(1, 2, 3, 4)\n",
    ">>> c = a + b\n",
    ">>> c\n",
    "(1, 2, 3, 4)"
   ]
  },
  {
   "cell_type": "markdown",
   "id": "709dc941",
   "metadata": {},
   "source": [
    "**문제**"
   ]
  },
  {
   "cell_type": "markdown",
   "id": "161d9242",
   "metadata": {},
   "source": [
    "다음과 같은 딕셔너리 a가 있다.\n",
    ">>> a = dict()\n",
    ">>> a\n",
    "{}\n",
    "다음 중 오류가 발생하는 경우를 고르고, 그 이유를 설명해 보자.\n",
    "\n",
    "a['name'] = 'python' \t\t# 딕셔너리 키로 `imutable`인 문자형(str) 가능\n",
    "a[('a',)] = 'python' \t\t# 딕셔너리 키로 `imutable`인 튜플은 가능\n",
    "정답 - a[[1]] = 'python' \t# 딕셔너리 키로 `mutable`인 리스트는 불가 \n",
    "a[250] = 'python' \t\t# 딕셔너리 키로 `imutable`인  숫자형(int) 가능"
   ]
  },
  {
   "cell_type": "markdown",
   "id": "ebd36a6e",
   "metadata": {},
   "source": [
    "**문제**"
   ]
  },
  {
   "cell_type": "markdown",
   "id": "8c0274f0",
   "metadata": {},
   "source": [
    "딕셔너리 a에서 'B'에 해당되는 값을 추출해 보자.\n",
    ">>> a = {'A':90, 'B':80, 'C':70}\n",
    "※ 딕셔너리의 pop 함수를 사용해 보자.\n",
    ">>> a = {'A':90, 'B':80, 'C':70}\n",
    ">>> a['B']\t\t\t# ' ' 따옴표를 무적권 써줘야 해용\n",
    "80\n",
    ">>> a.get('B')\n",
    "80\n",
    ">>> a.pop('B')\n",
    "80"
   ]
  },
  {
   "cell_type": "markdown",
   "id": "bd80d5f5",
   "metadata": {},
   "source": [
    "**문제**"
   ]
  },
  {
   "cell_type": "markdown",
   "id": "fb274a73",
   "metadata": {},
   "source": [
    "a 리스트에서 중복 숫자를 제거해 보자.\n",
    ">>> a = [1, 1, 1, 2, 2, 3, 3, 3, 4, 4, 5]\n",
    "※ 집합 자료형의 요솟값이 중복될 수 없다는 특징을 사용해 보자.\n",
    ">>> a1 = set(a)\n",
    ">>> a1\n",
    "{1, 2, 3, 4, 5}\n",
    ">>> a\n",
    "[1, 1, 1, 2, 2, 3, 3, 3, 4, 4, 5]"
   ]
  },
  {
   "cell_type": "markdown",
   "id": "7136ffcc",
   "metadata": {},
   "source": [
    "**문제**"
   ]
  },
  {
   "cell_type": "markdown",
   "id": "8faef857",
   "metadata": {},
   "source": [
    "파이썬은 다음처럼 동일한 값에 여러 개의 변수를 선언할 수 있다. 다음과 같이 a, b 변수를 선언한 후 a의 두 번째 요솟값을 변경하면 b 값은 어떻게 될까? 그리고 이런 결과가 오는 이유에 대해 설명해 보자.\n",
    ">>> a = b = [1, 2, 3]\n",
    ">>> a[1] = 4\n",
    ">>> print(b)\n",
    ">>> b\n",
    "[1, 4, 3] # a 와 b의 값은 항상 같기 때문이다."
   ]
  },
  {
   "cell_type": "markdown",
   "id": "b1a556f6",
   "metadata": {},
   "source": [
    "**문제**"
   ]
  },
  {
   "cell_type": "markdown",
   "id": "974cbba5",
   "metadata": {},
   "source": [
    "`input()` 함수로 정수를 입력받아, \n",
    "지정된 형식으로 그 값을 출력하는 코드를 작성하라.\n",
    "단, 정수는 최대 6자리의 수를 입력한다고 가정한다.\n",
    "\n",
    "입력: \n",
    "\n",
    "```python\n",
    "123\n",
    "```\n",
    "\n",
    "출력:\n",
    "\n",
    "```python\n",
    "입력하신 숫자는 000123입니다.\n",
    "```"
   ]
  },
  {
   "cell_type": "markdown",
   "id": "52ae4381",
   "metadata": {},
   "source": [
    "**문제**"
   ]
  },
  {
   "cell_type": "markdown",
   "id": "43a7515f",
   "metadata": {},
   "source": [
    "오늘의 요일이 주어질 때, 100일 후의 요일을 출력하는 코드를 작성하여라.\n",
    "단, 일, 월, 화, 수, 목, 금, 토, 일 각각은 0, 1, 2, 3, 4, 5, 6 으로 대신한다.\n",
    "\n",
    "입력:\n",
    "\n",
    "```python\n",
    "2\n",
    "```\n",
    "\n",
    "출력:\n",
    "\n",
    "```python\n",
    "4\n",
    "```"
   ]
  }
 ],
 "metadata": {
  "kernelspec": {
   "display_name": "Python 3 (ipykernel)",
   "language": "python",
   "name": "python3"
  },
  "language_info": {
   "codemirror_mode": {
    "name": "ipython",
    "version": 3
   },
   "file_extension": ".py",
   "mimetype": "text/x-python",
   "name": "python",
   "nbconvert_exporter": "python",
   "pygments_lexer": "ipython3",
   "version": "3.9.7"
  },
  "toc-autonumbering": true,
  "toc-showcode": false,
  "toc-showmarkdowntxt": false
 },
 "nbformat": 4,
 "nbformat_minor": 5
}
