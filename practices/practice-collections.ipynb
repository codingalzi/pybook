{
 "cells": [
  {
   "cell_type": "markdown",
   "id": "bd286fa2",
   "metadata": {},
   "source": [
    "## 모음자료형"
   ]
  },
  {
   "cell_type": "markdown",
   "id": "d32f57f0",
   "metadata": {},
   "source": [
    "**문제**"
   ]
  },
  {
   "cell_type": "markdown",
   "id": "3cba19ed",
   "metadata": {},
   "source": [
    "문자열 `a:b:c:d` 을 이용하여 문자열 `a#b#c#d` 생성하는 코드를 작성하라.\n",
    "\n",
    "힌트: 문자열의 메서드를 활용한다."
   ]
  },
  {
   "cell_type": "markdown",
   "id": "20c1f72d",
   "metadata": {},
   "source": [
    "**문제**"
   ]
  },
  {
   "cell_type": "markdown",
   "id": "f6d0ffec",
   "metadata": {},
   "source": [
    "`[1, 3, 5, 4, 2]` 리스트를 `[5, 4, 3, 2, 1]`로 만들어 보자.\n",
    "\n",
    "힌트: 리스트의 메서드를 활용한다."
   ]
  },
  {
   "cell_type": "markdown",
   "id": "107b0ac5",
   "metadata": {},
   "source": [
    "**문제**"
   ]
  },
  {
   "cell_type": "markdown",
   "id": "62d426fe",
   "metadata": {},
   "source": [
    "리스트 `['Life', 'is', 'too', 'short']` 를 이용하여\n",
    "문자열 `\"Life is too short\"` 을 생성하는 코드를 작성하라.\n",
    "\n",
    "힌트: 리스트의 메서드를 사용한다."
   ]
  },
  {
   "cell_type": "markdown",
   "id": "a59c34c1",
   "metadata": {},
   "source": [
    "**문제**"
   ]
  },
  {
   "cell_type": "markdown",
   "id": "19af60be-0f95-498e-bfa4-8bd795162648",
   "metadata": {},
   "source": [
    "### 문제  \n",
    "거꾸로 노래 부르기 좋아하는 청개구리는 아래와 같이 노래를 부른다.  \n",
    "\n",
    "`끼토산 야끼토 로디어 냐느가 총깡총깡 서면뛰 를디어 냐느가`  \n",
    "\n",
    "문자열이 주어졌을 때, 공백을 단위로 각 단어를 거꾸로 출력하는 코드를 작성하여라.  \n",
    "단, 특정 노래의 가사는 줄바꿈 없이 주어진다.  \n",
    "\n",
    "Input : `lyrics = '산토끼 토끼야 어디로 가느냐 깡총깡총 뛰면서 어디를 가느냐'`  \n",
    "Output : `끼토산 야끼토 로디어 냐느가 총깡총깡 서면뛰 를디어 냐느가`  "
   ]
  },
  {
   "cell_type": "markdown",
   "id": "3d9cc42c-783e-43e3-881f-2ec1b58f0145",
   "metadata": {},
   "source": [
    "### 문제  \n",
    "카멜<font size = \"2\">camel</font> 표기법으로 작성된 문자열을 팟홀<font size=\"2\">pothole</font> 표기법(또는 스네이크<font size=\"2\">snake</font> 표기법)으로 변경하는 코드를 작성해보자.    \n",
    "\n",
    "* 카멜 표기법 : 소문자로 시작하고, 이어지는 단어의 시작은 대문자로 작성하는 표기법. 예를 들어, `userName`, `printMessage`, `countA` 등. \n",
    "\n",
    "* 팟홀 표기법 또는 스네이크 표기법 : 모두 소문자를 사용하고, 단어 사이에 밑줄기호(`_`)를 사용하는 표기법. 예를 들어, `user_name`, `print_message`, `count_a` 등.   \n",
    "  \n",
    "참고) `str.isupper()`메서드는 문자열이 대문자인지를 확인해준다.  \n",
    "```python\n",
    ">>> 'A'.isupper()\n",
    "True\n",
    ">>> 'a'.isupper()\n",
    "False\n",
    ">>> 'Abc'.isupper()\n",
    "False\n",
    "```\n",
    "\n",
    "Input : `userName`  \n",
    "Output : `user_name`  \n",
    "  \n",
    "Input : `printMessage`   \n",
    "Output : `print_message`    "
   ]
  },
  {
   "cell_type": "markdown",
   "id": "2b93673c-4412-42ff-9c62-226608e6f502",
   "metadata": {},
   "source": [
    "### 문제  \n",
    "$n!$<font size=\"2\">팩토리얼factorial</font>은 $1\\times2\\times3\\times ... \\times n$ 을 의미한다. 자연수 `n`이 주어졌을 때, `n!`의 끝에 있는 0 <font size=\"2\">terminal zeros</font>의 개수를 출력하는 코드를 작성하여라. `n`은 1보다 크고 100000보다 작은 자연수라고 가정하자.  \n",
    "\n",
    "Input : `n = 5`     \n",
    "Output : `1`   \n",
    "\n",
    "Input : `n = 10`    \n",
    "Output : `2`  \n",
    "\n",
    "참고) $5! = 120$, $10! = 3,628,800$   "
   ]
  },
  {
   "cell_type": "markdown",
   "id": "a146ad6d-21fb-41c0-8699-538b369486eb",
   "metadata": {},
   "source": [
    "### 문제   \n",
    "A대학의 일반차량에 대한 주차요금은 아래와 같다.   \n",
    "\n",
    "* 2,000원/최초 30분, 초과 10분마다 500원, 1일(24시간)은 40,000원   \n",
    "\n",
    "일반차량에 대한 입출차 기록이 리스트로 주어졌을 때, 차량별로 주차시간과 주차요금이 정리된 코드를 작성하여라.   \n",
    "\n",
    "* 차량번호는 차량 뒷번호 4자리를 기록하고, 동일한 차량번호는 없다고 가정한다.  \n",
    "* 시간은 24시간제를 아래와 같이 사용하고, 모든 차량은 00:00부터 23:59분 사이에 한 번씩만 입출차(`IN`/`OUT`) 한다고 가정한다.  \n",
    "* 잘못된 입력은 없다고 가정하고, 아직 출차하지 않은 차량에 대해서는 주차시간과 주차요금을 정리할 수 없다.  \n",
    "\n",
    "Input : `['07:30 1234 IN', '07:35 2580 IN','08:15 0328 IN', '08:45 2580 OUT', '08:55 9876 IN', '09:20 9876 OUT','11:00 1597 IN', '15:15 1234 OUT', '21:00 0328 OUT']`   \n",
    "Output : `{'1234': {'IN': '07:30', 'OUT': '15:15', 'parking_duration': 465, 'parking_fee': 24000}, '2580': {'IN': '07:35', 'OUT': '08:45', 'parking_duration': 70, 'parking_fee': 4000}, '0328': {'IN': '08:15', 'OUT': '21:00', 'parking_duration': 765, 'parking_fee': 40000}, '9876': {'IN': '08:55', 'OUT': '09:20', 'parking_duration': 25, 'parking_fee': 2000}, '1597': {'IN': '11:00'}}`\n",
    "\n",
    "참고) \n",
    "\n",
    "|차량번호|입차시간|출차시간(분)|주차요금(원)|\n",
    "|-------|-------|-----------|-----------|\n",
    "|1234|07:30|15:15|465|24000|\n",
    "|2580|07:35|08:45|70|4000|\n",
    "|0328|08:15|21:00|765|40000|\n",
    "|9876|08:55|09:20|25|2000|\n",
    "|1597|11:00|-|-|-|"
   ]
  },
  {
   "cell_type": "markdown",
   "id": "fee470e9",
   "metadata": {},
   "source": [
    "튜플 `(1, 2, 3)`을 이용하여 튜플 `(1, 2, 3, 4)` 를 생성하는 코드를 작성하라."
   ]
  }
 ],
 "metadata": {
  "kernelspec": {
   "display_name": "Python 3 (ipykernel)",
   "language": "python",
   "name": "python3"
  },
  "language_info": {
   "codemirror_mode": {
    "name": "ipython",
    "version": 3
   },
   "file_extension": ".py",
   "mimetype": "text/x-python",
   "name": "python",
   "nbconvert_exporter": "python",
   "pygments_lexer": "ipython3",
   "version": "3.9.7"
  }
 },
 "nbformat": 4,
 "nbformat_minor": 5
}
