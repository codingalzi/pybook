{
 "cells": [
  {
   "cell_type": "markdown",
   "id": "bd286fa2",
   "metadata": {},
   "source": [
    "## (실습) 모음 자료형"
   ]
  },
  {
   "cell_type": "markdown",
   "id": "d32f57f0",
   "metadata": {},
   "source": [
    "**문제**"
   ]
  },
  {
   "cell_type": "markdown",
   "id": "3cba19ed",
   "metadata": {},
   "source": [
    "문자열 `a:b:c:d` 을 이용하여 문자열 `a#b#c#d` 생성하는 코드를 작성하라.\n",
    "\n",
    "힌트: 문자열의 메서드를 활용한다."
   ]
  },
  {
   "cell_type": "markdown",
   "id": "20c1f72d",
   "metadata": {},
   "source": [
    "**문제**"
   ]
  },
  {
   "cell_type": "markdown",
   "id": "f6d0ffec",
   "metadata": {},
   "source": [
    "`[1, 3, 5, 4, 2]` 리스트를 `[5, 4, 3, 2, 1]`로 만들어 보자.\n",
    "\n",
    "힌트: 리스트의 메서드를 활용한다."
   ]
  },
  {
   "cell_type": "markdown",
   "id": "107b0ac5",
   "metadata": {},
   "source": [
    "**문제**"
   ]
  },
  {
   "cell_type": "markdown",
   "id": "62d426fe",
   "metadata": {},
   "source": [
    "리스트 `['Life', 'is', 'too', 'short']` 를 이용하여\n",
    "문자열 `\"Life is too short\"` 을 생성하는 코드를 작성하라.\n",
    "\n",
    "힌트: 리스트의 메서드를 사용한다."
   ]
  },
  {
   "cell_type": "markdown",
   "id": "a59c34c1",
   "metadata": {},
   "source": [
    "**문제**"
   ]
  },
  {
   "cell_type": "markdown",
   "id": "19af60be-0f95-498e-bfa4-8bd795162648",
   "metadata": {},
   "source": [
    "거꾸로 노래 부르기 좋아하는 청개구리는 아래와 같이 노래를 부른다.  \n",
    "\n",
    "`끼토산 야끼토 로디어 냐느가 총깡총깡 서면뛰 를디어 냐느가`  \n",
    "\n",
    "문자열이 주어졌을 때, 공백을 단위로 각 단어를 거꾸로 출력하는 코드를 작성하여라.  \n",
    "단, 특정 노래의 가사는 줄바꿈 없이 주어진다.  \n",
    "\n",
    "Input : `lyrics = '산토끼 토끼야 어디로 가느냐 깡총깡총 뛰면서 어디를 가느냐'`  \n",
    "Output : `끼토산 야끼토 로디어 냐느가 총깡총깡 서면뛰 를디어 냐느가`  "
   ]
  },
  {
   "cell_type": "markdown",
   "id": "e5581b1b",
   "metadata": {},
   "source": [
    "**문제**"
   ]
  },
  {
   "cell_type": "markdown",
   "id": "3d9cc42c-783e-43e3-881f-2ec1b58f0145",
   "metadata": {},
   "source": [
    "카멜<font size = \"2\">camel</font> 표기법으로 작성된 문자열을 팟홀<font size=\"2\">pothole</font> 표기법(또는 스네이크<font size=\"2\">snake</font> 표기법)으로 변경하는 코드를 작성해보자.    \n",
    "\n",
    "* 카멜 표기법 : 소문자로 시작하고, 이어지는 단어의 시작은 대문자로 작성하는 표기법. 예를 들어, `userName`, `printMessage`, `countA` 등. \n",
    "\n",
    "* 팟홀 표기법 또는 스네이크 표기법 : 모두 소문자를 사용하고, 단어 사이에 밑줄기호(`_`)를 사용하는 표기법. 예를 들어, `user_name`, `print_message`, `count_a` 등.   \n",
    "  \n",
    "참고) `str.isupper()`메서드는 문자열이 대문자인지를 확인해준다.  \n",
    "```python\n",
    ">>> 'A'.isupper()\n",
    "True\n",
    ">>> 'a'.isupper()\n",
    "False\n",
    ">>> 'Abc'.isupper()\n",
    "False\n",
    "```\n",
    "\n",
    "Input : `userName`  \n",
    "Output : `user_name`  \n",
    "  \n",
    "Input : `printMessage`   \n",
    "Output : `print_message`    "
   ]
  },
  {
   "cell_type": "markdown",
   "id": "10b7da69",
   "metadata": {},
   "source": [
    "**문제**"
   ]
  },
  {
   "cell_type": "markdown",
   "id": "2b93673c-4412-42ff-9c62-226608e6f502",
   "metadata": {},
   "source": [
    "$n!$<font size=\"2\">팩토리얼factorial</font>은 $1\\times2\\times3\\times ... \\times n$ 을 의미한다. 자연수 `n`이 주어졌을 때, `n!`의 끝에 있는 0 <font size=\"2\">terminal zeros</font>의 개수를 출력하는 코드를 작성하여라. `n`은 1보다 크고 100000보다 작은 자연수라고 가정하자.  \n",
    "\n",
    "Input : `n = 5`     \n",
    "Output : `1`   \n",
    "\n",
    "Input : `n = 10`    \n",
    "Output : `2`  \n",
    "\n",
    "참고) $5! = 120$, $10! = 3,628,800$   "
   ]
  },
  {
   "cell_type": "markdown",
   "id": "8d72c674",
   "metadata": {},
   "source": [
    "**문제**"
   ]
  },
  {
   "cell_type": "markdown",
   "id": "a146ad6d-21fb-41c0-8699-538b369486eb",
   "metadata": {},
   "source": [
    "A대학의 일반차량에 대한 주차요금은 아래와 같다.   \n",
    "\n",
    "* 2,000원/최초 30분, 초과 10분마다 500원, 1일(24시간)은 40,000원   \n",
    "\n",
    "일반차량에 대한 입출차 기록이 리스트로 주어졌을 때, 차량별로 주차시간과 주차요금이 정리된 코드를 작성하여라.   \n",
    "\n",
    "* 차량번호는 차량 뒷번호 4자리를 기록하고, 동일한 차량번호는 없다고 가정한다.  \n",
    "* 시간은 24시간제를 아래와 같이 사용하고, 모든 차량은 00:00부터 23:59분 사이에 한 번씩만 입출차(`IN`/`OUT`) 한다고 가정한다.  \n",
    "* 잘못된 입력은 없다고 가정하고, 아직 출차하지 않은 차량에 대해서는 주차시간과 주차요금을 정리할 수 없다.  \n",
    "\n",
    "Input : `['07:30 1234 IN', '07:35 2580 IN','08:15 0328 IN', '08:45 2580 OUT', '08:55 9876 IN', '09:20 9876 OUT','11:00 1597 IN', '15:15 1234 OUT', '21:00 0328 OUT']`   \n",
    "Output : `{'1234': {'IN': '07:30', 'OUT': '15:15', 'parking_duration': 465, 'parking_fee': 24000}, '2580': {'IN': '07:35', 'OUT': '08:45', 'parking_duration': 70, 'parking_fee': 4000}, '0328': {'IN': '08:15', 'OUT': '21:00', 'parking_duration': 765, 'parking_fee': 40000}, '9876': {'IN': '08:55', 'OUT': '09:20', 'parking_duration': 25, 'parking_fee': 2000}, '1597': {'IN': '11:00'}}`\n",
    "\n",
    "참고) \n",
    "\n",
    "|차량번호|입차시간|출차시간(분)|주차요금(원)|\n",
    "|-------|-------|-----------|-----------|\n",
    "|1234|07:30|15:15|465|24000|\n",
    "|2580|07:35|08:45|70|4000|\n",
    "|0328|08:15|21:00|765|40000|\n",
    "|9876|08:55|09:20|25|2000|\n",
    "|1597|11:00|-|-|-|"
   ]
  },
  {
   "cell_type": "markdown",
   "id": "07ef1793",
   "metadata": {},
   "source": [
    "**문제**"
   ]
  },
  {
   "cell_type": "markdown",
   "id": "fee470e9",
   "metadata": {},
   "source": [
    "튜플 `(1, 2, 3)`을 이용하여 튜플 `(1, 2, 3, 4)` 를 생성하는 코드를 작성하라."
   ]
  },
  {
   "cell_type": "markdown",
   "id": "229f70e6",
   "metadata": {},
   "source": [
    "**문제**"
   ]
  },
  {
   "cell_type": "markdown",
   "id": "e1a70f80",
   "metadata": {},
   "source": [
    "`printItems` 수정하여 `movie_Bong`에 포함된 항목들을 아래와 같이 \n",
    "출력하도록 하는 `printItems2` 함수를 구현하라.\n",
    "\n",
    "    기생충\n",
    "    2019\n",
    "        설국열차\n",
    "        2013\n",
    "            살인의 추억\n",
    "            2003\n",
    "\n",
    "**힌트**\n",
    "* `printItems` 함수의 인자를 두 개로 수정한다. \n",
    "    하나는 리스트의 인자를 다루며, 다른 하나는 들어쓰기 정도를 다루는 \n",
    "    인자를 하나 받는다.\n",
    "\n",
    "    ```python\n",
    "    def printItems2(aList, level):\n",
    "    명령문\n",
    "    ```\n",
    "\n",
    "* 위에서 `level` 매개변수의 인자는 탭키를 사용하는 횟수를 나타내도록 한다. \n",
    "    그러면 `printItems2(movie_Bong, 0)`을 실행하면 원하는 결과가 나와야 한다.\n",
    "* 탭 출력은 `print('\\t')`를 이용하면 된다."
   ]
  },
  {
   "cell_type": "markdown",
   "id": "7b626591",
   "metadata": {},
   "source": [
    "**문제**"
   ]
  },
  {
   "cell_type": "markdown",
   "id": "7de028bf",
   "metadata": {},
   "source": [
    "위 과제에서 구현한 `printItems2` 함수를 아래와 같이 수정하라.\n",
    "* 인자수를 세 개로 늘린다.\n",
    "\n",
    "    ```python\n",
    "    def printItems3(aList, level, indent=False):\n",
    "        명령문\n",
    "    ```\n",
    "\n",
    "* `indent` 매개변수의 키워드인자 값이 `True`이면 연습4에서 처럼 들여쓰기를 하고, \n",
    "    `False`이면 들여쓰기를 하지 않아야 한다."
   ]
  },
  {
   "cell_type": "markdown",
   "id": "a3b0d3e2",
   "metadata": {},
   "source": [
    "**문제**"
   ]
  },
  {
   "cell_type": "markdown",
   "id": "8a81150d",
   "metadata": {},
   "source": [
    "`printItems` 함수를 재귀가 아닌 `while` 함수를 이용하여 구현하라.\n",
    "\n",
    "**힌트:** `while` 반복문에 사용되는 조건식을 선택하는 게 핵심이다.\n",
    "재귀로 구현된 함수로부터 이에대한 힌트를 얻을 수 있다."
   ]
  },
  {
   "cell_type": "markdown",
   "id": "8669c538",
   "metadata": {},
   "source": [
    "**문제**"
   ]
  },
  {
   "cell_type": "markdown",
   "id": "ea90647b",
   "metadata": {},
   "source": [
    "다음과 같은 리스트`num_list`가 있다.  \n",
    "`num_list = [[1, 2, 3, [4, 5]], [6, 7, 8], 9]`  \n",
    "\n",
    "1. `9`를 츨력하는 코드를 작성하여라.   \n",
    "2. `7`를 출력하는 코드를 작성하여라.   \n",
    "3. `[3, [4, 5]]`를 출력하는 코드를 작성하여라.  "
   ]
  },
  {
   "cell_type": "markdown",
   "id": "5f3cbd6f",
   "metadata": {},
   "source": [
    "**문제**"
   ]
  },
  {
   "cell_type": "markdown",
   "id": "01725bd9",
   "metadata": {},
   "source": [
    "세 집합 A, B, C가 있을 때, A ∩ B ∩ C와 (A ∪ B ∪ C) - A를 구해보자. 각 집합의 항목은 1에서 100 사이의 정수 1 ~ 30개로 이루어진다. A ∩ B ∩ C와 (A ∪ B ∪ C) - A은 공백으로 구분하여 아래와 같이 출력한다.  \n",
    "\n",
    "Input : `A = {2, 4, 5}`, `B = {1, 2, 2, 1, 10, 4}`, `C = {3, 3, 3, 4}`   \n",
    "Output : `{4} {1, 3, 10}`"
   ]
  },
  {
   "cell_type": "markdown",
   "id": "0fe52c97",
   "metadata": {},
   "source": [
    "**문제**"
   ]
  },
  {
   "cell_type": "markdown",
   "id": "b6b09bc4",
   "metadata": {},
   "source": [
    "이름과 핸드폰 번호를 `input()`함수로 입력받아, 아래와 같은 형식으로 출력하는 코드를 작성하여라. 이때, 사용자의 이름은 두 글자에서 네 글자까지를 입력하며, \n",
    "핸드폰 번호는 아래의 형식으로 입력한다고 가정한다. \n",
    "\n",
    "Input : `name = '김강현'`, `num = '010-1234-5678'`   \n",
    "Output : `김*현(5678)님 등록되었습니다.`   \n",
    "\n",
    "Input : `name = '강현'`, `num = '01012345678'`   \n",
    "Output : `강*(5678)님 등록되었습니다.` \n",
    "\n",
    "Input : `name = '김강현이'`, `num = '010.1234.5678'`   \n",
    "Output : `김*현이(5678)님 등록되었습니다.`    \n",
    "\n",
    "Input : `name = '김강현'`, `num = '02-123-5678'`   \n",
    "Output : `김*현이(5678)님 등록되었습니다.`    "
   ]
  },
  {
   "cell_type": "markdown",
   "id": "03cfdeb9",
   "metadata": {},
   "source": [
    "**문제**"
   ]
  },
  {
   "cell_type": "markdown",
   "id": "d679d31e",
   "metadata": {},
   "source": [
    "어느 교육의 참가자 명단과 수료자 명단이 리스트로 주어졌을 때, 수료하지 못한 사람들의 명단을 리스트로 출력하는 코드를 작성하여라. 단, 참여자 중 동명이인은 없고, 순서는 중요하지 않다. \n",
    "\n",
    "Input : `participant = ['Apeach', 'Ryan', 'Muzi', 'Choonsik', 'Neo', 'Tube']`, `completion = ['Ryan', 'Muzi', 'Neo', 'Choonsik']`   \n",
    "Output : `['Apeach', 'Tube']`"
   ]
  },
  {
   "cell_type": "markdown",
   "id": "f46f1af8",
   "metadata": {},
   "source": [
    "**문제**"
   ]
  },
  {
   "cell_type": "markdown",
   "id": "66600ba2",
   "metadata": {},
   "source": [
    "어느 반 학생들의 이름이 리스트로 주어졌을 때, 번호와 이름을 키<font size = \"2\">key</font>와 값<font size = \"2\">value</font>으로 갖는 딕셔너리를 출력하는 코드를 작성하여라. 단, 번호는 이름의 오름차순으로 부여되고, 동명이인은 없다고 가정한다.  \n",
    " \n",
    "Input : `['Apeach', 'Ryan', 'Muzi', 'Choonsik', 'Neo', 'Tube']`     \n",
    "Output : `{'1': 'Apeach', '2': 'Choonsik', '3': 'Muzi', '4': 'Neo', '5': 'Ryan', '6': 'Tube'}`   \n",
    "\n",
    "리스트를 오름차순으로 정렬할 때, `sorted()` 함수를 사용한다. `sorted()` 함수는 항목을 오름차순으로 정렬하여 리스트로 반환한다.  \n",
    "```python \n",
    ">>> print(sorted(['a', 'c', 'b']))\n",
    "['a', 'b', 'c']\n",
    "```\n",
    " \n",
    "  \n",
    "사용자에게 번호를 입력받아, 그 번호에 해당하는 학생의 이름을 아래의 형식으로 출력하는 코드를 작성하여라.  \n",
    "Input : `3번`  \n",
    "Output : `3번은 Muzi입니다.`  "
   ]
  },
  {
   "cell_type": "markdown",
   "id": "1cb6a418",
   "metadata": {},
   "source": [
    "**문제**"
   ]
  },
  {
   "cell_type": "markdown",
   "id": "763be009",
   "metadata": {},
   "source": [
    "어느 평가위원회는 평가 점수 중 최고점과 최저점을 제외한 점수들의 평균을 최종 평가 점수로 부여하려고 한다. 선수 A의 점수가 리스트로 주어졌을 때, 선수 A의 최종 평가 점수를 출력하는 코드를 작성하여라. 리스트의 항목은 1에서 100 사이의 정수 7개로 이루어진다.  \n",
    "\n",
    "Input : `[85, 96, 78, 88, 81, 92, 73]`   \n",
    "Output : `선수 A의 점수는 84.8입니다.`    \n",
    "\n",
    "리스트 각 항목의 합은 `sum()` 함수를 사용하여 구할 수 있다.   \n",
    "```python  \n",
    ">>> sum([1, 2, 3])  \n",
    "6\n",
    "```"
   ]
  },
  {
   "cell_type": "markdown",
   "id": "a3962382",
   "metadata": {},
   "source": [
    "**문제**"
   ]
  },
  {
   "cell_type": "markdown",
   "id": "4420298c",
   "metadata": {},
   "source": [
    "두 문자열의 문자를 번갈아가며 결합해 하나의 문자열로 만들려고 한다.    \n",
    "예를 들어, `dog`와 `cat`이 주어지면, `dcoagt` 또는 `cdaotg`으로 결합한다.  \n",
    "두 문자열의 길이가 다르면, 가능한 데까지만 문자를 번갈아가며 결합하고 나머지는 그대로 적어준다.    \n",
    "예를 들어, `math`와 `computing`이 주어지면, `mcaotmhputing` 또는 `cmoamtphuting`로 결합한다.   \n",
    "단, 주어진 문자열들은 공백이 없다고 가정한다.  \n",
    "  \n",
    "두 문자열 `str1`과 `str2`을 위의 방식으로 결합했을 때, `str3`가 나오면 `True`, 아니면 `False`를 출력하는 코드를 작성하자.  \n",
    "\n",
    "Input : `str1 = 'dog'`, `str2 = 'cat'`, `str3 = 'dcoagt'`     \n",
    "Output : `True`  \n",
    "\n",
    "Input : `str1 = 'dog'`, `str2 = 'cat'`, `str3 = 'cdaotg'`    \n",
    "Output : `True`  \n",
    "\n",
    "Input : `str1 = 'dog'`, `str2 = 'cat'`, `str3 = 'docagt'`       \n",
    "Output : `False`     \n",
    "\n",
    "Input : `str1 = 'math'`, `str2 = 'computing'`, `str3 = 'cmoamtphuting'`    \n",
    "Output : `True`   \n",
    "\n",
    "Input : `str1 = 'math'`, `str2 = 'computing'`, `str3 = 'computmiantgh'`      \n",
    "Output : `False`    "
   ]
  },
  {
   "cell_type": "markdown",
   "id": "e62da3d1",
   "metadata": {},
   "source": [
    "**문제**"
   ]
  },
  {
   "cell_type": "markdown",
   "id": "9d122714",
   "metadata": {},
   "source": [
    "주어진 정수를 오름차순으로 정렬하여, 리스트 형태로 출력하는 코드를 작성하여라.    \n",
    "Input : `32145`    \n",
    "Output : `['1', '2', '3', '4', '5']`"
   ]
  },
  {
   "cell_type": "markdown",
   "id": "dd12419f",
   "metadata": {},
   "source": [
    "**문제**"
   ]
  },
  {
   "cell_type": "markdown",
   "id": "eba4a6a1",
   "metadata": {},
   "source": [
    "아래 딕셔너리 `participants`은 모임일과 그날 참석한 사람들의 이름을 저장하고 있다. 그런데 3월7일 모임에 강현이가 참석하였는데, 이 정보가 누락되었다.  \n",
    "\n",
    "1) 3월7일 참석자 명단 마지막에 '강현'을 추가한 다음, 아래와 같은 형식으로 출력하는 코드를 작성하여라.   \n",
    "Input : `participants = {'1월3일' : ['현성', '문정', '현무', '강현'], '2월10일' : ['문정', '강현', '정훈'], '3월7일' : ['현성', '연아', '현무', '지아']}`    \n",
    "Output : `3월7일 모임에는 ['현성', '연아', '현무', '지아', '강현'], 총 5명이 참석했습니다.`  \n",
    "\n",
    "2) 사용자에게 이름을 입력받아 1월3일 모임에 참석했으면 `True`, 아니면 `False`를 출력하는 코드를 작성하여라.   \n",
    "Input : `name = '현성'`   \n",
    "Output : `True`"
   ]
  },
  {
   "cell_type": "markdown",
   "id": "60fa4674",
   "metadata": {},
   "source": [
    "**문제**"
   ]
  },
  {
   "cell_type": "markdown",
   "id": "37b3bc31",
   "metadata": {},
   "source": [
    "정수 `a`와 자연수 `n`을 입력받아, `n`개의 항목을 갖는 리스트를 출력하는 코드를 작성하여라.  \n",
    "단, 리스트의 항목은 `a`부터 시작하고, 그 다음 항목은 이전 항목보다 `a`만큼 크다.        \n",
    "Input : `a = 3`, `n = 4`  \n",
    "Output : `[3, 6, 9, 12]`  "
   ]
  },
  {
   "cell_type": "markdown",
   "id": "78aaa350",
   "metadata": {},
   "source": [
    "**문제**"
   ]
  },
  {
   "cell_type": "markdown",
   "id": "0edb213d",
   "metadata": {},
   "source": [
    "사용자에게 가장 저렴한 메뉴와 가장 비싼 메뉴를 추천하는 프로그램을 만들어보자.  \n",
    "입력으로 메뉴와 가격이 두 줄로 들어오는데, 각 줄의 항목은 공백으로 구분된다.  \n",
    "Input :   \n",
    "```  \n",
    "ham bread chicken egg  \n",
    "1200 5000 17000 500  \n",
    "```  \n",
    "Output :   \n",
    "```\n",
    "Cheapest food : egg  \n",
    "Most expensive food : chicken  \n",
    "```"
   ]
  },
  {
   "cell_type": "markdown",
   "id": "f9a92003",
   "metadata": {},
   "source": [
    "**문제**"
   ]
  },
  {
   "cell_type": "markdown",
   "id": "03f71e20",
   "metadata": {},
   "source": [
    "봉준호 영화 감독의 영화를 담고 있는 리스트가 아래와 같이 있다."
   ]
  },
  {
   "cell_type": "code",
   "execution_count": 1,
   "id": "a1fc985f",
   "metadata": {},
   "outputs": [],
   "source": [
    "movie_Bong = [\"기생충\", 2019, [\"설국열차\", 2013, [\"살인의 추억\", 2003]]]"
   ]
  },
  {
   "cell_type": "markdown",
   "id": "e3f67852",
   "metadata": {},
   "source": [
    "위 리스트는 3중이다. 리스트 안에 리스트, 또 리스트 안에 리스트.\n",
    "이제 아래와 같이 모든 항목을 나열하고자 한다.\n",
    "\n",
    "```\n",
    "기생충\n",
    "2019\n",
    "설국열차\n",
    "2013\n",
    "살인의 추억\n",
    "2003\n",
    "```"
   ]
  },
  {
   "cell_type": "code",
   "execution_count": 2,
   "id": "055fd018",
   "metadata": {},
   "outputs": [
    {
     "name": "stdout",
     "output_type": "stream",
     "text": [
      "기생충\n",
      "2019\n",
      "['설국열차', 2013, ['살인의 추억', 2003]]\n"
     ]
    }
   ],
   "source": [
    "for item in movie_Bong:\n",
    "    print(item)"
   ]
  },
  {
   "cell_type": "markdown",
   "id": "3dda364f",
   "metadata": {},
   "source": [
    "그런데 위와 같이 하면 중첩으로 되어 있는 영화들을 제대로 풀어헤칠 수 없다.\n",
    "2중 `for` 반복문을 활용해보자.\n",
    "\n",
    "**주의:** 아래 코드에서 `isinstance(item, list)`는 `item` 변수가 가리키는 항목이 \n",
    "리스트 자료형 여부를 확인한다."
   ]
  },
  {
   "cell_type": "code",
   "execution_count": 3,
   "id": "93054a67",
   "metadata": {},
   "outputs": [
    {
     "name": "stdout",
     "output_type": "stream",
     "text": [
      "기생충\n",
      "2019\n",
      "설국열차\n",
      "2013\n",
      "['살인의 추억', 2003]\n"
     ]
    }
   ],
   "source": [
    "for item in movie_Bong:\n",
    "    if isinstance(item, list):\n",
    "        for itemN in item:\n",
    "            print(itemN)\n",
    "    else:\n",
    "        print(item)"
   ]
  },
  {
   "cell_type": "markdown",
   "id": "43363c7d",
   "metadata": {},
   "source": [
    "여전히 삼중 리스트의 모든 항목을 나열하진 못한다. \n",
    "3중 `for` 반복문을 활용해보자."
   ]
  },
  {
   "cell_type": "code",
   "execution_count": 4,
   "id": "343fbd64",
   "metadata": {},
   "outputs": [
    {
     "name": "stdout",
     "output_type": "stream",
     "text": [
      "기생충\n",
      "2019\n",
      "설국열차\n",
      "2013\n",
      "살인의 추억\n",
      "2003\n"
     ]
    }
   ],
   "source": [
    "for item in movie_Bong:\n",
    "    if isinstance(item, list):\n",
    "        for itemN in item:\n",
    "            if isinstance(itemN, list):\n",
    "                for itemNN in itemN:\n",
    "                    print(itemNN)\n",
    "            else:\n",
    "                print(itemN)\n",
    "    else:\n",
    "        print(item)"
   ]
  },
  {
   "cell_type": "markdown",
   "id": "3bcedff2",
   "metadata": {},
   "source": [
    "그런데 프로그램을 이렇게 구현하면 안된다.\n",
    "만약에 영화목록이 4중, 5중으로 구성된 리스트로 작성되었다면\n",
    "위 프로그램은 4중, 5중 `for` 반복문으로 수정해야 하고,\n",
    "그러면서 프로그램의 길이와 복잡도가 기하급수적으로 증가하기 때문이다.\n",
    "\n",
    "처리해야 하는 데이터에 따라 프로그램이 수정되거나 복잡도가 증가하지 않는 \n",
    "프로그램을 구현해야 한다. \n",
    "\n",
    "다시 한 번 위 세 개의 프로그램을 살펴보자. \n",
    "세 개의 프로그램은 사실상 아래 명령문을 반복해서 사용한다. \n",
    "\n",
    "```python\n",
    "for 항목 in 리스트:\n",
    "    if isinstance(항목, list):\n",
    "        명령문\n",
    "    else:\n",
    "        print(항목)\n",
    "```\n",
    "\n",
    "위 명령문은 리스트의 항목이 또 다른 리스트이면 그 리스트의 항목들을 \n",
    "대상으로 동일한 확인작업을 수행하며,\n",
    "더 이상 리스트가 다른 리스트의 항목으로 포함되지 않을 때 까지 반복된다.\n",
    "즉, 모든 중첩 리스트가 해체될 까지 리스트 여부를 반복하며, \n",
    "리스트가 아니면 해당 항목을 화면에 출력한다.\n",
    "\n",
    "이런 반복작업을 **재귀**(recursion)라 부르며,\n",
    "반복되는 작업에 이름을 주면, 위 세 개의 코드를 하나의 함수로 정의할 수 있다.\n",
    "예를 들어, 아래와 같이 앞서 언급된 명령문에 `printItems`이란 이름을 주어 함수로 정의해보자."
   ]
  },
  {
   "cell_type": "code",
   "execution_count": 5,
   "id": "193c673f",
   "metadata": {},
   "outputs": [],
   "source": [
    "def printItems(aList):\n",
    "    for item in aList:\n",
    "        if isinstance(item, list):\n",
    "            printItems(item)\n",
    "        else:\n",
    "            print(item)"
   ]
  },
  {
   "cell_type": "markdown",
   "id": "20776bdf",
   "metadata": {},
   "source": [
    "`printItems()` 함수는 좀 이상하다. \n",
    "정의가 끝나지 않았는데 자신을 자신 본체에서 사용한다. \n",
    "(4번 줄 참조)\n",
    "\n",
    "실제로 `printItems()` 함수를 호출하면 실행과정 중에\n",
    "자신을 또다시 호출한다. \n",
    "단, 사용되는 인자가 다르며, 애초에 사용된 리스트의 항목이면서\n",
    "또다른 리스트가 인자로 사용된다.\n",
    "이런 함수를 자기 자신을 호출한다는 의미로 **재귀함수**(recursive function)라 부른다. \n",
    "\n",
    "사실 임의로 중첩된 리스트를 인자로 받아도 중첩을 모두 풀어버린다."
   ]
  },
  {
   "cell_type": "code",
   "execution_count": 6,
   "id": "8d93bde5",
   "metadata": {},
   "outputs": [
    {
     "name": "stdout",
     "output_type": "stream",
     "text": [
      "기생충\n",
      "2019\n",
      "설국열차\n",
      "2013\n",
      "살인의 추억\n",
      "2003\n"
     ]
    }
   ],
   "source": [
    "printItems(movie_Bong)"
   ]
  }
 ],
 "metadata": {
  "kernelspec": {
   "display_name": "Python 3 (ipykernel)",
   "language": "python",
   "name": "python3"
  },
  "language_info": {
   "codemirror_mode": {
    "name": "ipython",
    "version": 3
   },
   "file_extension": ".py",
   "mimetype": "text/x-python",
   "name": "python",
   "nbconvert_exporter": "python",
   "pygments_lexer": "ipython3",
   "version": "3.9.7"
  }
 },
 "nbformat": 4,
 "nbformat_minor": 5
}
