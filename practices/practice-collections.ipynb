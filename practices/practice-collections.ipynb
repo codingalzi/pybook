{
 "cells": [
  {
   "cell_type": "markdown",
   "id": "bd286fa2",
   "metadata": {},
   "source": [
    "# (실습) 모음 자료형"
   ]
  },
  {
   "cell_type": "markdown",
   "id": "88745e8b",
   "metadata": {},
   "source": [
    "## 문자열"
   ]
  },
  {
   "cell_type": "markdown",
   "id": "d32f57f0",
   "metadata": {},
   "source": [
    "**문제**"
   ]
  },
  {
   "cell_type": "markdown",
   "id": "3cba19ed",
   "metadata": {},
   "source": [
    "문자열 `a:b:c:d` 을 이용하여 문자열 `a#b#c#d` 생성하는 코드를 작성하라.\n",
    "단, 문자열의 메서드만 사용한다."
   ]
  },
  {
   "cell_type": "code",
   "execution_count": 1,
   "id": "b7d1715b",
   "metadata": {},
   "outputs": [],
   "source": [
    "# pass 와  None을 적절한 명령문과 표현식으로 대체하라.\n",
    "# 단, 문자열 \"a#b#c#d\" 이 직접 언급되지 않아야 한다.\n",
    "\n",
    "input_str = \"a:b:c:d\"\n",
    "\n",
    "pass\n",
    "\n",
    "output_str = None"
   ]
  },
  {
   "cell_type": "code",
   "execution_count": 2,
   "id": "f333e359",
   "metadata": {},
   "outputs": [],
   "source": [
    "# 아래 코드의 주석 기호를 삭제하고 실행할 때 오류가 발생하지 않아야 한다.\n",
    "\n",
    "# assert output_str == \"a#b#c#d\""
   ]
  },
  {
   "cell_type": "markdown",
   "id": "54699a61",
   "metadata": {},
   "source": [
    "**문제**"
   ]
  },
  {
   "cell_type": "markdown",
   "id": "756906da",
   "metadata": {},
   "source": [
    "리스트 `['Life', 'is', 'too', 'short']` 를 이용하여\n",
    "문자열 `\"Life is too short\"` 을 생성하는 코드를 작성하라.\n",
    "단, 리스트의 `pop()` 메서드를 사용한다."
   ]
  },
  {
   "cell_type": "code",
   "execution_count": 3,
   "id": "61c5bd7f",
   "metadata": {},
   "outputs": [],
   "source": [
    "# pass 와  None을 적절한 명령문과 표현식으로 대체하라.\n",
    "# 단, 문자열 \"Life is too short\" 이 직접 언급되지 않아야 한다.\n",
    "\n",
    "input_list = ['Life', 'is', 'too', 'short']\n",
    "\n",
    "pass\n",
    "\n",
    "output_str = None"
   ]
  },
  {
   "cell_type": "code",
   "execution_count": 4,
   "id": "f1579919",
   "metadata": {},
   "outputs": [],
   "source": [
    "# 아래 코드의 주석 기호를 삭제하고 실행할 때 오류가 발생하지 않아야 한다.\n",
    "\n",
    "# assert output_str == \"Life is too short\""
   ]
  },
  {
   "cell_type": "markdown",
   "id": "d2152213",
   "metadata": {},
   "source": [
    "**문제**"
   ]
  },
  {
   "cell_type": "markdown",
   "id": "515fa524",
   "metadata": {},
   "source": [
    "거꾸로 노래 부르기 좋아하는 청개구리는 아래와 같이 노래를 부른다.  \n",
    "\n",
    "> 끼토산 야끼토 로디어 냐느가 총깡총깡 서면뛰 를디어 냐느가\n",
    "\n",
    "문자열이 주어졌을 때, 공백을 단위로 각 단어를 거꾸로 뒤집은 문자열을 반환하는 \n",
    "`revers_words()\\` 함수를 작성하라.\n",
    "단, 입력 문자열은 줄바꿈 없이 주어진다고 가정한다."
   ]
  },
  {
   "cell_type": "code",
   "execution_count": 5,
   "id": "9cb7052e",
   "metadata": {},
   "outputs": [],
   "source": [
    "# pass 와  None을 적절한 명령문과 표현식으로 대체하라.\n",
    "# 단, 문자열 \"Life is too short\" 이 직접 언급되지 않아야 한다.\n",
    "\n",
    "def reverse_words(s):\n",
    "    pass\n",
    "\n",
    "    return None"
   ]
  },
  {
   "cell_type": "code",
   "execution_count": 6,
   "id": "64101fa1",
   "metadata": {},
   "outputs": [],
   "source": [
    "# 아래 코드의 주석 기호를 삭제하고 실행할 때 오류가 발생하지 않아야 한다.\n",
    "\n",
    "lyrics = '산토끼 토끼야 어디로 가느냐 깡총깡총 뛰면서 어디를 가느냐'\n",
    "rev_lyrics = '끼토산 야끼토 로디어 냐느가 총깡총깡 서면뛰 를디어 냐느가'\n",
    "\n",
    "# assert reverse_words(lyrics) == rev_lyrics"
   ]
  },
  {
   "cell_type": "markdown",
   "id": "6aa9fb5f",
   "metadata": {},
   "source": [
    "**문제**"
   ]
  },
  {
   "cell_type": "markdown",
   "id": "2af73c47",
   "metadata": {},
   "source": [
    "카멜<font size = \"2\">camel</font> 표기법으로 작성된 문자열을 \n",
    "팟홀<font size=\"2\">pothole</font> 표기법(또는 스네이크<font size=\"2\">snake</font> 표기법)으로 \n",
    "변환하는 `camel2snake()` 함수를 구현하라.\n",
    "\n",
    "* 카멜 표기법 : 소문자로 시작하고, 이어지는 단어의 시작은 대문자로 작성하는 표기법. 예를 들어, `userName`, `printMessage`, `countA` 등. \n",
    "\n",
    "* 팟홀 표기법 또는 스네이크 표기법 : 모두 소문자를 사용하고, 단어 사이에 밑줄기호(`_`)를 사용하는 표기법. 예를 들어, `user_name`, `print_message`, `count_a` 등.   \n",
    "\n",
    "힌트: `str.isupper()`메서드는 문자열이 대문자인지를 확인해준다.  "
   ]
  },
  {
   "cell_type": "code",
   "execution_count": 12,
   "id": "6a6ca597",
   "metadata": {},
   "outputs": [
    {
     "name": "stdout",
     "output_type": "stream",
     "text": [
      "True\n",
      "False\n",
      "False\n"
     ]
    }
   ],
   "source": [
    "print('A'.isupper())\n",
    "print('a'.isupper())\n",
    "print('Abc'.isupper())"
   ]
  },
  {
   "cell_type": "code",
   "execution_count": 8,
   "id": "67d16be3",
   "metadata": {},
   "outputs": [],
   "source": [
    "# pass 와  None을 적절한 명령문과 표현식으로 대체하라.\n",
    "\n",
    "def camel2snake(s):\n",
    "    pass\n",
    "\n",
    "    return None"
   ]
  },
  {
   "cell_type": "code",
   "execution_count": 13,
   "id": "3572e4ee",
   "metadata": {},
   "outputs": [],
   "source": [
    "# 아래 코드의 주석 기호를 삭제하고 실행할 때 오류가 발생하지 않아야 한다.\n",
    "\n",
    "# assert camel2snake(\"userName\") == \"user_name\"\n",
    "# assert camel2snake(\"printMessage\") == \"print_message\"\n",
    "# assert camel2snake(\"countA\") == \"count_a\""
   ]
  },
  {
   "cell_type": "markdown",
   "id": "aeeac445",
   "metadata": {},
   "source": [
    "**문제**"
   ]
  },
  {
   "cell_type": "markdown",
   "id": "9bbcc41a",
   "metadata": {},
   "source": [
    "아래 조건을 만족하는 `map_strings()` 함수를 구현하라.\n",
    "\n",
    "* 세 개의 문자열을 각각 입력 받는 `str1`, `str2`, `str3` 매개 변수를 사용한다.\n",
    "* `str3`가 가리키는 값이 `str1` 과 `str2` 이 가리키는 문자열에 포함된 문자들을\n",
    "    번갈아가며 결합한 결과이면 `True`를, 아니면 `False` 를 반환한다.\n",
    "* 두 문자열의 길이가 다르면, 가능한 데까지만 문자를 번갈아가며 결합하고 나머지는 그대로 적어준다.    "
   ]
  },
  {
   "cell_type": "code",
   "execution_count": 54,
   "id": "af8d4719",
   "metadata": {},
   "outputs": [],
   "source": [
    "# pass 와  None을 적절한 명령문과 표현식으로 대체하라.\n",
    "\n",
    "def map_strings(str1, str2, str3):\n",
    "    pass\n",
    "\n",
    "    return None"
   ]
  },
  {
   "cell_type": "code",
   "execution_count": 55,
   "id": "3c4af78c",
   "metadata": {},
   "outputs": [],
   "source": [
    "# 아래 코드의 주석 기호를 삭제하고 실행할 때 오류가 발생하지 않아야 한다.\n",
    "\n",
    "# assert map_strings('dog', 'cat', 'dcoagt') == True\n",
    "# assert map_strings('dog', 'cat', 'cdoagt') == False\n",
    "# assert map_strings('computing', 'math','cmoamtphuting') == True\n",
    "# assert map_strings('math', 'computing', 'cmoamtphuting') == False"
   ]
  },
  {
   "cell_type": "markdown",
   "id": "c5dcc540",
   "metadata": {},
   "source": [
    "## 리스트"
   ]
  },
  {
   "cell_type": "markdown",
   "id": "9816af28",
   "metadata": {},
   "source": [
    "**문제**"
   ]
  },
  {
   "cell_type": "markdown",
   "id": "bfe66a89",
   "metadata": {},
   "source": [
    "주어진 정수를 오름차순으로 정렬하여, 리스트 형태로 반환하는 `int2sorted_list()` 함수를 작성하라.\n",
    "단, 양의 정수만 입력값으로 사용한다."
   ]
  },
  {
   "cell_type": "code",
   "execution_count": 56,
   "id": "676d0476",
   "metadata": {},
   "outputs": [],
   "source": [
    "# pass 와  None을 적절한 명령문과 표현식으로 대체하라.\n",
    "\n",
    "def int2sorted_list(an_int):\n",
    "    assert an_int > 0\n",
    "    \n",
    "    pass\n",
    "\n",
    "    return None"
   ]
  },
  {
   "cell_type": "code",
   "execution_count": 57,
   "id": "bfc6a1ec",
   "metadata": {},
   "outputs": [],
   "source": [
    "# 아래 코드의 주석 기호를 삭제하고 실행할 때 오류가 발생하지 않아야 한다.\n",
    "\n",
    "# assert int2sorted_list(32145) == ['1', '2', '3', '4', '5']\n",
    "# assert int2sorted_list(435) == ['3', '4', '5']"
   ]
  },
  {
   "cell_type": "markdown",
   "id": "525c5573",
   "metadata": {},
   "source": [
    "**문제**"
   ]
  },
  {
   "cell_type": "markdown",
   "id": "bf64161e",
   "metadata": {},
   "source": [
    "`num_list` 변수가 아래 리스트를 가리킨다."
   ]
  },
  {
   "cell_type": "code",
   "execution_count": 37,
   "id": "b1c9eeb5",
   "metadata": {},
   "outputs": [],
   "source": [
    "num_list = [[1, 2, 3, [4, 5]], [6, 7, 8], 9]"
   ]
  },
  {
   "cell_type": "markdown",
   "id": "5dadd65b",
   "metadata": {},
   "source": [
    "(1) `9`를 츨력하는 코드를 작성하여라.   "
   ]
  },
  {
   "cell_type": "code",
   "execution_count": 40,
   "id": "5ddd6064",
   "metadata": {},
   "outputs": [],
   "source": [
    "# pass 적절한 명령문 또는 표현식으로 대체하라.\n",
    "\n",
    "pass"
   ]
  },
  {
   "cell_type": "markdown",
   "id": "0ec37dbf",
   "metadata": {},
   "source": [
    "(2) `7`를 출력하는 코드를 작성하여라.   "
   ]
  },
  {
   "cell_type": "code",
   "execution_count": 40,
   "id": "51f861de",
   "metadata": {},
   "outputs": [],
   "source": [
    "# pass 적절한 명령문 또는 표현식으로 대체하라.\n",
    "\n",
    "pass"
   ]
  },
  {
   "cell_type": "markdown",
   "id": "2dcefe59",
   "metadata": {},
   "source": [
    "(3) `[3, [4, 5]]`를 출력하는 코드를 작성하여라.  "
   ]
  },
  {
   "cell_type": "code",
   "execution_count": 40,
   "id": "cfee5006",
   "metadata": {},
   "outputs": [],
   "source": [
    "# pass 적절한 명령문 또는 표현식으로 대체하라.\n",
    "\n",
    "pass"
   ]
  },
  {
   "cell_type": "markdown",
   "id": "20c1f72d",
   "metadata": {},
   "source": [
    "**문제**"
   ]
  },
  {
   "cell_type": "markdown",
   "id": "96673967",
   "metadata": {},
   "source": [
    "크기 비교가 가능한 자료형의 값들을 항목으로 갖는 리스트를 \n",
    "내림차순으로 정렬한 값을 반환하는 `rev_list()` 함수를 구현하라."
   ]
  },
  {
   "cell_type": "code",
   "execution_count": 39,
   "id": "b657eb8e",
   "metadata": {},
   "outputs": [],
   "source": [
    "# pass 와  None을 적절한 명령문과 표현식으로 대체하라.\n",
    "\n",
    "def rev_list(aList):\n",
    "    pass\n",
    "\n",
    "    return None"
   ]
  },
  {
   "cell_type": "code",
   "execution_count": 15,
   "id": "11d70478",
   "metadata": {},
   "outputs": [],
   "source": [
    "# 아래 코드의 주석 기호를 삭제하고 실행할 때 오류가 발생하지 않아야 한다.\n",
    "\n",
    "# assert rev_list([2, 4, 1, 2]) == [4, 2, 2, 1]\n",
    "# assert rev_list(['c', 'f', 'a']) == ['f', 'c', 'a']\n",
    "# assert rev_list(['_ff', 'ABC', 'abd']) == ['ABC', 'abd', ' ff']"
   ]
  },
  {
   "cell_type": "markdown",
   "id": "fdc3f14f",
   "metadata": {},
   "source": [
    "**문제**"
   ]
  },
  {
   "cell_type": "markdown",
   "id": "f9c38f2f",
   "metadata": {},
   "source": [
    "n! 은 1부터 n 까지의 자연수의 곱을 나타내며, \n",
    "n 의 계승 또는 팰토리얼이라 부른다. \n",
    "자연수 n 이 주어졌을 때, n! 의 끝에 있는 0 의 개수를 반환하는 `terminalZeroCount()` 함수를 \n",
    "작성하라. \n",
    "단, n 은 1보다 크고 100보다 작은 자연수라고 가정하며, 문자열 메서드 또는 리스트 메서드를 활용해야 한다."
   ]
  },
  {
   "cell_type": "code",
   "execution_count": 16,
   "id": "ee1da237",
   "metadata": {},
   "outputs": [],
   "source": [
    "# pass 와  None을 적절한 명령문과 표현식으로 대체하라.\n",
    "\n",
    "def terminalZeroCount(n):\n",
    "    pass\n",
    "\n",
    "    return None"
   ]
  },
  {
   "cell_type": "code",
   "execution_count": 33,
   "id": "1a30c037",
   "metadata": {},
   "outputs": [],
   "source": [
    "# 아래 코드의 주석 기호를 삭제하고 실행할 때 오류가 발생하지 않아야 한다.\n",
    "\n",
    "# assert terminalZeroCount(5) == 1\n",
    "# assert terminalZeroCount(10) == 2\n",
    "# assert terminalZeroCount(20) == 4"
   ]
  },
  {
   "cell_type": "markdown",
   "id": "665dc43b",
   "metadata": {},
   "source": [
    "**문제**"
   ]
  },
  {
   "cell_type": "markdown",
   "id": "8f1c7b53",
   "metadata": {},
   "source": [
    "교육 참가자 명단과 수료자 명단이 아래처럼 리스트로 주어다."
   ]
  },
  {
   "cell_type": "code",
   "execution_count": 45,
   "id": "a6870239",
   "metadata": {},
   "outputs": [],
   "source": [
    "participant = ['Apeach', 'Ryan', 'Muzi', 'Choonsik', 'Neo', 'Tube']\n",
    "completion = ['Ryan', 'Muzi', 'Neo', 'Choonsik']"
   ]
  },
  {
   "cell_type": "markdown",
   "id": "19d6716a",
   "metadata": {},
   "source": [
    "수료하지 못한 사람들의 명단을 리스트로 출력하는 코드를 작성하여라.\n",
    "단, 참여자 중 동명이인은 없고, 순서는 중요하지 않다. "
   ]
  },
  {
   "cell_type": "code",
   "execution_count": 48,
   "id": "bf9a54b1",
   "metadata": {},
   "outputs": [],
   "source": [
    "# pass 와  None을 적절한 명령문과 표현식으로 대체하라.\n",
    "\n",
    "pass\n",
    "\n",
    "unfinished = None"
   ]
  },
  {
   "cell_type": "code",
   "execution_count": 49,
   "id": "2162b120",
   "metadata": {},
   "outputs": [],
   "source": [
    "# 아래 코드의 주석 기호를 삭제하고 실행할 때 오류가 발생하지 않아야 한다.\n",
    "\n",
    "# assert unfinished == ['Apeach', 'Tube']"
   ]
  },
  {
   "cell_type": "markdown",
   "id": "fa5ecea2",
   "metadata": {},
   "source": [
    "**문제**"
   ]
  },
  {
   "cell_type": "markdown",
   "id": "85209bcb",
   "metadata": {},
   "source": [
    "어느 평가위원회는 평가 점수 중 최고점과 최저점을 제외한 점수들의 평균을 최종 평가 점수로 부여하려고 한다. \n",
    "선수 A의 점수가 다음 리스트로 주어졌다."
   ]
  },
  {
   "cell_type": "code",
   "execution_count": 52,
   "id": "e4172a4a",
   "metadata": {},
   "outputs": [],
   "source": [
    "A = [85, 96, 78, 88, 81, 92, 73]"
   ]
  },
  {
   "cell_type": "markdown",
   "id": "4b422f41",
   "metadata": {},
   "source": [
    "선수 A의 최종 평가 점수를 출력하는 코드를 작성하여라.\n",
    "\n",
    "힌트: `sum()` 함수 또는 `numpy.mean()` 함수 활용"
   ]
  },
  {
   "cell_type": "code",
   "execution_count": 48,
   "id": "f08c9b57",
   "metadata": {},
   "outputs": [],
   "source": [
    "# pass 와  None을 적절한 명령문과 표현식으로 대체하라.\n",
    "\n",
    "pass\n",
    "\n",
    "average_A = None"
   ]
  },
  {
   "cell_type": "code",
   "execution_count": 53,
   "id": "42b11121",
   "metadata": {},
   "outputs": [],
   "source": [
    "# 아래 코드의 주석 기호를 삭제하고 실행할 때 오류가 발생하지 않아야 한다.\n",
    "\n",
    "# assert average_A == 84.8"
   ]
  },
  {
   "cell_type": "code",
   "execution_count": null,
   "id": "5c7818f7",
   "metadata": {},
   "outputs": [],
   "source": []
  },
  {
   "cell_type": "code",
   "execution_count": null,
   "id": "47aa09a4",
   "metadata": {},
   "outputs": [],
   "source": []
  },
  {
   "cell_type": "markdown",
   "id": "df6aa103",
   "metadata": {},
   "source": [
    "## 튜플"
   ]
  },
  {
   "cell_type": "markdown",
   "id": "15fd6d30",
   "metadata": {},
   "source": [
    "**문제**"
   ]
  },
  {
   "cell_type": "markdown",
   "id": "f479245d",
   "metadata": {},
   "source": [
    "튜플이 인자로 들어오면 튜플의 기존 항목들이 역순으로 추가된 튜플을 반환하는 \n",
    "`tuple_double_rev()` 함수를 구현하라."
   ]
  },
  {
   "cell_type": "code",
   "execution_count": 35,
   "id": "d72ffb9a",
   "metadata": {},
   "outputs": [],
   "source": [
    "# pass 와  None을 적절한 명령문과 표현식으로 대체하라.\n",
    "\n",
    "def tuple_double_rev(t):\n",
    "    pass\n",
    "\n",
    "    return None"
   ]
  },
  {
   "cell_type": "code",
   "execution_count": 36,
   "id": "8ced5c2b",
   "metadata": {},
   "outputs": [],
   "source": [
    "# 아래 코드의 주석 기호를 삭제하고 실행할 때 오류가 발생하지 않아야 한다.\n",
    "\n",
    "# assert tuple_double_rev((1, 2, 3)) == (1, 2, 3, 3, 2, 1)\n",
    "# assert tuple_double_rev(('a', 'b')) == ('a', 'b', 'b', 'a')"
   ]
  },
  {
   "cell_type": "code",
   "execution_count": null,
   "id": "d3b3291c",
   "metadata": {},
   "outputs": [],
   "source": []
  },
  {
   "cell_type": "code",
   "execution_count": null,
   "id": "01ceb714",
   "metadata": {},
   "outputs": [],
   "source": []
  },
  {
   "cell_type": "markdown",
   "id": "0e933ed9",
   "metadata": {},
   "source": [
    "## 집합"
   ]
  },
  {
   "cell_type": "markdown",
   "id": "2bf401d9",
   "metadata": {},
   "source": [
    "**문제**"
   ]
  },
  {
   "cell_type": "markdown",
   "id": "f50e9698",
   "metadata": {},
   "source": [
    "세 집합 A, B, C가 다음과 같이 주어졌다. "
   ]
  },
  {
   "cell_type": "code",
   "execution_count": 41,
   "id": "ad9718d0",
   "metadata": {},
   "outputs": [],
   "source": [
    "A = {2, 4, 5}\n",
    "B = {1, 2, 2, 1, 10, 4}\n",
    "C = {3, 3, 3, 4}"
   ]
  },
  {
   "cell_type": "markdown",
   "id": "83ca1ef8",
   "metadata": {},
   "source": [
    "* $A \\cap B \\cap C$"
   ]
  },
  {
   "cell_type": "code",
   "execution_count": 47,
   "id": "633ac428",
   "metadata": {},
   "outputs": [],
   "source": [
    "# pass 와  None을 적절한 명령문과 표현식으로 대체하라.\n",
    "\n",
    "pass\n",
    "\n",
    "AnBnC = None"
   ]
  },
  {
   "cell_type": "code",
   "execution_count": 42,
   "id": "6a792414",
   "metadata": {},
   "outputs": [],
   "source": [
    "# 아래 코드의 주석 기호를 삭제하고 실행할 때 오류가 발생하지 않아야 한다.\n",
    "\n",
    "# assert AnBnC == {4}"
   ]
  },
  {
   "cell_type": "markdown",
   "id": "6620ad2c",
   "metadata": {},
   "source": [
    "* $(A \\cup B \\cup C) - A$"
   ]
  },
  {
   "cell_type": "code",
   "execution_count": 43,
   "id": "0fda3a6b",
   "metadata": {},
   "outputs": [],
   "source": [
    "# pass 와  None을 적절한 명령문과 표현식으로 대체하라.\n",
    "\n",
    "pass\n",
    "\n",
    "ArBrCmA = None"
   ]
  },
  {
   "cell_type": "code",
   "execution_count": 44,
   "id": "04bba8a2",
   "metadata": {},
   "outputs": [],
   "source": [
    "# 아래 코드의 주석 기호를 삭제하고 실행할 때 오류가 발생하지 않아야 한다.\n",
    "\n",
    "# assert ArBrCmA == {1, 3, 10}"
   ]
  },
  {
   "cell_type": "markdown",
   "id": "22707264",
   "metadata": {},
   "source": [
    "## 사전"
   ]
  },
  {
   "cell_type": "markdown",
   "id": "b5ca2392",
   "metadata": {},
   "source": [
    "**문제**"
   ]
  },
  {
   "cell_type": "markdown",
   "id": "a13b694a",
   "metadata": {},
   "source": [
    "어느 반 학생들의 이름이 리스트로 주어졌다."
   ]
  },
  {
   "cell_type": "code",
   "execution_count": 50,
   "id": "f6aa0b20",
   "metadata": {},
   "outputs": [],
   "source": [
    "students = ['Apeach', 'Ryan', 'Muzi', 'Choonsik', 'Neo', 'Tube']"
   ]
  },
  {
   "cell_type": "markdown",
   "id": "df1e3ff9",
   "metadata": {},
   "source": [
    "번호와 이름을 키와 값으로 갖는 사전을 출력하는 코드를 작성하여라.\n",
    "단, 번호는 이름의 오름차순으로 부여되고, 동명이인은 없다고 가정한다.  \n",
    "\n",
    "힌트: `sorted()` 함수와 `enumerate()` 함수를 이용할 수 있다."
   ]
  },
  {
   "cell_type": "code",
   "execution_count": 43,
   "id": "790bc35b",
   "metadata": {},
   "outputs": [],
   "source": [
    "# pass 와  None을 적절한 명령문과 표현식으로 대체하라.\n",
    "\n",
    "pass\n",
    "\n",
    "name_numbers = None"
   ]
  },
  {
   "cell_type": "code",
   "execution_count": 51,
   "id": "0c4f8db0",
   "metadata": {},
   "outputs": [],
   "source": [
    "# 아래 코드의 주석 기호를 삭제하고 실행할 때 오류가 발생하지 않아야 한다.\n",
    "\n",
    "# assert name_numbers == {'1': 'Apeach', '2': 'Choonsik', '3': 'Muzi', '4': 'Neo', '5': 'Ryan', '6': 'Tube'}`"
   ]
  },
  {
   "cell_type": "markdown",
   "id": "8d72c674",
   "metadata": {},
   "source": [
    "**문제**"
   ]
  },
  {
   "cell_type": "markdown",
   "id": "cbfb4022",
   "metadata": {},
   "source": [
    "A대학의 일반차량에 대한 주차요금은 아래와 같다.   \n",
    "\n",
    "* 2,000원/최초 30분, 초과 10분마다 500원, 1일(24시간)은 40,000원   \n",
    "\n",
    "일반차량에 대한 입출차 기록이 리스트로 주어졌다."
   ]
  },
  {
   "cell_type": "code",
   "execution_count": 29,
   "id": "63820c17",
   "metadata": {},
   "outputs": [],
   "source": [
    "car_in_out = ['07:30 1234 IN', \n",
    "              '07:35 2580 IN',\n",
    "              '08:15 0328 IN',\n",
    "              '08:45 2580 OUT',\n",
    "              '08:55 9876 IN',\n",
    "              '09:20 9876 OUT',\n",
    "              '11:00 1597 IN',\n",
    "              '15:15 1234 OUT',\n",
    "              '21:00 0328 OUT']"
   ]
  },
  {
   "cell_type": "markdown",
   "id": "859eaefe",
   "metadata": {},
   "source": [
    "차량별로 주차시간과 주차요금이 사전 자료형으로 정리하는 코드를 작성하라.\n",
    "단, 아래 사항을 가정한다.\n",
    "\n",
    "* 차량번호는 차량 뒷번호 4자리를 기록하고, 동일한 차량번호는 없다.\n",
    "* 시간은 24시간제를 사용하고, 모든 차량은 00:00부터 23:59분 사이에 한 번씩만 입출차 한다.\n",
    "* 아직 출차하지 않은 차량에 대해서는 주차시간과 주차요금을 정리할 수 없다.  "
   ]
  },
  {
   "cell_type": "code",
   "execution_count": 28,
   "id": "84186380",
   "metadata": {},
   "outputs": [],
   "source": [
    "# pass 와 None 을 적절한 명령문과 표현식으로 대체하라.\n",
    "# 결과값을 직접 사용할 수는 없다.\n",
    "\n",
    "pass\n",
    "\n",
    "car_parking_log = None\n",
    "\n",
    "car_parking_log"
   ]
  },
  {
   "cell_type": "markdown",
   "id": "e5c2dc2f",
   "metadata": {},
   "source": [
    "위 코드를 실행하면 다음과 같이 보여져야 한다."
   ]
  },
  {
   "cell_type": "code",
   "execution_count": 31,
   "id": "6e20df35",
   "metadata": {},
   "outputs": [],
   "source": [
    "answer = {'1234': {'IN': '07:30',\n",
    "                   'OUT': '15:15',\n",
    "                   'parking_duration': 465,\n",
    "                   'parking_fee': 24000},\n",
    "          '2580': {'IN': '07:35',\n",
    "                   'OUT': '08:45',\n",
    "                   'parking_duration': 70,\n",
    "                   'parking_fee': 4000},\n",
    "          '0328': {'IN': '08:15',\n",
    "                   'OUT': '21:00',\n",
    "                   'parking_duration': 765,\n",
    "                   'parking_fee': 40000},\n",
    "          '9876': {'IN': '08:55',\n",
    "                   'OUT': '09:20',\n",
    "                   'parking_duration': 25,\n",
    "                   'parking_fee': 2000},\n",
    "          '1597': {'IN': '11:00'}}"
   ]
  },
  {
   "cell_type": "code",
   "execution_count": 34,
   "id": "fb64ec8e",
   "metadata": {},
   "outputs": [],
   "source": [
    "# 아래 코드의 주석 기호를 삭제하고 실행할 때 오류가 발생하지 않아야 한다.\n",
    "\n",
    "# assert car_parking_log == answer"
   ]
  },
  {
   "cell_type": "code",
   "execution_count": null,
   "id": "43042f6e",
   "metadata": {},
   "outputs": [],
   "source": []
  },
  {
   "cell_type": "code",
   "execution_count": null,
   "id": "0382ddd9",
   "metadata": {},
   "outputs": [],
   "source": []
  },
  {
   "cell_type": "markdown",
   "id": "0fe52c97",
   "metadata": {},
   "source": [
    "**문제**"
   ]
  },
  {
   "cell_type": "markdown",
   "id": "b6b09bc4",
   "metadata": {},
   "source": [
    "이름과 핸드폰 번호를 `input()`함수로 입력받아, 아래와 같은 형식으로 출력하는 코드를 작성하여라. 이때, 사용자의 이름은 두 글자에서 네 글자까지를 입력하며, \n",
    "핸드폰 번호는 아래의 형식으로 입력한다고 가정한다. \n",
    "\n",
    "Input : `name = '김강현'`, `num = '010-1234-5678'`   \n",
    "Output : `김*현(5678)님 등록되었습니다.`   \n",
    "\n",
    "Input : `name = '강현'`, `num = '01012345678'`   \n",
    "Output : `강*(5678)님 등록되었습니다.` \n",
    "\n",
    "Input : `name = '김강현이'`, `num = '010.1234.5678'`   \n",
    "Output : `김*현이(5678)님 등록되었습니다.`    \n",
    "\n",
    "Input : `name = '김강현'`, `num = '02-123-5678'`   \n",
    "Output : `김*현이(5678)님 등록되었습니다.`    "
   ]
  },
  {
   "cell_type": "code",
   "execution_count": null,
   "id": "ac8bd7bc",
   "metadata": {},
   "outputs": [],
   "source": []
  },
  {
   "cell_type": "code",
   "execution_count": null,
   "id": "5c07c72b",
   "metadata": {},
   "outputs": [],
   "source": []
  },
  {
   "cell_type": "markdown",
   "id": "dd12419f",
   "metadata": {},
   "source": [
    "**문제**"
   ]
  },
  {
   "cell_type": "markdown",
   "id": "eba4a6a1",
   "metadata": {},
   "source": [
    "아래 딕셔너리 `participants`은 모임일과 그날 참석한 사람들의 이름을 저장하고 있다. 그런데 3월7일 모임에 강현이가 참석하였는데, 이 정보가 누락되었다.  \n",
    "\n",
    "1) 3월7일 참석자 명단 마지막에 '강현'을 추가한 다음, 아래와 같은 형식으로 출력하는 코드를 작성하여라.   \n",
    "Input : `participants = {'1월3일' : ['현성', '문정', '현무', '강현'], '2월10일' : ['문정', '강현', '정훈'], '3월7일' : ['현성', '연아', '현무', '지아']}`    \n",
    "Output : `3월7일 모임에는 ['현성', '연아', '현무', '지아', '강현'], 총 5명이 참석했습니다.`  \n",
    "\n",
    "2) 사용자에게 이름을 입력받아 1월3일 모임에 참석했으면 `True`, 아니면 `False`를 출력하는 코드를 작성하여라.   \n",
    "Input : `name = '현성'`   \n",
    "Output : `True`"
   ]
  },
  {
   "cell_type": "markdown",
   "id": "60fa4674",
   "metadata": {},
   "source": [
    "**문제**"
   ]
  },
  {
   "cell_type": "markdown",
   "id": "37b3bc31",
   "metadata": {},
   "source": [
    "정수 `a`와 자연수 `n`을 입력받아, `n`개의 항목을 갖는 리스트를 출력하는 코드를 작성하여라.  \n",
    "단, 리스트의 항목은 `a`부터 시작하고, 그 다음 항목은 이전 항목보다 `a`만큼 크다.        \n",
    "Input : `a = 3`, `n = 4`  \n",
    "Output : `[3, 6, 9, 12]`  "
   ]
  },
  {
   "cell_type": "markdown",
   "id": "78aaa350",
   "metadata": {},
   "source": [
    "**문제**"
   ]
  },
  {
   "cell_type": "markdown",
   "id": "0edb213d",
   "metadata": {},
   "source": [
    "사용자에게 가장 저렴한 메뉴와 가장 비싼 메뉴를 추천하는 프로그램을 만들어보자.  \n",
    "입력으로 메뉴와 가격이 두 줄로 들어오는데, 각 줄의 항목은 공백으로 구분된다.  \n",
    "Input :   \n",
    "```  \n",
    "ham bread chicken egg  \n",
    "1200 5000 17000 500  \n",
    "```  \n",
    "Output :   \n",
    "```\n",
    "Cheapest food : egg  \n",
    "Most expensive food : chicken  \n",
    "```"
   ]
  },
  {
   "cell_type": "markdown",
   "id": "e9fff625",
   "metadata": {},
   "source": [
    "**문제**"
   ]
  },
  {
   "cell_type": "markdown",
   "id": "e3354442",
   "metadata": {},
   "source": [
    "임의로 중첩된 리스트 해체하기\n",
    "\n",
    "참고: https://stackoverflow.com/questions/10823877/what-is-the-fastest-way-to-flatten-arbitrarily-nested-lists-in-python"
   ]
  }
 ],
 "metadata": {
  "kernelspec": {
   "display_name": "Python 3 (ipykernel)",
   "language": "python",
   "name": "python3"
  },
  "language_info": {
   "codemirror_mode": {
    "name": "ipython",
    "version": 3
   },
   "file_extension": ".py",
   "mimetype": "text/x-python",
   "name": "python",
   "nbconvert_exporter": "python",
   "pygments_lexer": "ipython3",
   "version": "3.9.7"
  }
 },
 "nbformat": 4,
 "nbformat_minor": 5
}
