{
 "cells": [
  {
   "cell_type": "markdown",
   "id": "bd286fa2",
   "metadata": {
    "id": "bd286fa2"
   },
   "source": [
    "# (실습) 사전과 집합"
   ]
  },
  {
   "cell_type": "markdown",
   "id": "42933be1",
   "metadata": {
    "id": "5140d50d"
   },
   "source": [
    "**참고 사항**\n",
    "\n",
    "먼저\n",
    "[사전과 집합](https://codingalzi.github.io/pybook/dicts_sets.html)의 내용과\n",
    "[(필수 예제) 사전과 집합](https://colab.research.google.com/github/codingalzi/pybook/blob/master/examples/examples-dicts_sets.ipynb)의 예제들을 학습하세요."
   ]
  },
  {
   "cell_type": "markdown",
   "id": "303aae45",
   "metadata": {
    "id": "a0a20bd6"
   },
   "source": [
    "**주의 사항**\n",
    "\n",
    "* 기존에 작성된 코드 셀과 텍스트 셀은 수정하지 않는다.\n",
    "* 필요한 경우 코드 셀 또는 텍스트 셀을 추가해서 사용한다.\n",
    "* 실습 파일을 제출할 때 구글 드라이브의 링크를 이용하여 누구나 공유할 수 있도록 설정한다."
   ]
  },
  {
   "cell_type": "markdown",
   "id": "6554199d",
   "metadata": {
    "id": "0932631b"
   },
   "source": [
    "## 문제"
   ]
  },
  {
   "cell_type": "markdown",
   "id": "1f6cea07",
   "metadata": {
    "id": "aa4161ad"
   },
   "source": [
    "다음 `participants` 변수는 모임일과 그날 참석한 사람들의 이름을 저장하는 사전을 가리킨다."
   ]
  },
  {
   "cell_type": "code",
   "execution_count": 11,
   "id": "1dbe4bce",
   "metadata": {
    "id": "2ee676cc"
   },
   "outputs": [],
   "source": [
    "participants = {'1월 3일' : ['현성', '문정', '현무', '강현'], \n",
    "                '2월 10일' : ['문정', '강현', '정훈'], \n",
    "                '3월 7일' : ['현성', '연아', '현무', '지아']}"
   ]
  },
  {
   "cell_type": "markdown",
   "id": "8e81f931",
   "metadata": {},
   "source": [
    "**질문 1**"
   ]
  },
  {
   "cell_type": "markdown",
   "id": "0d667df3",
   "metadata": {
    "id": "5a278630"
   },
   "source": [
    "이름과 날짜를 입력받아 해당일의 참석자 명단에 이름이 포함되어 있는지 여부를 반환하는\n",
    "`attended()` 함수를 작성하라.   \n",
    "단, 이름과 날짜 모두 문자열을 사용한다."
   ]
  },
  {
   "cell_type": "markdown",
   "id": "9b4109b9",
   "metadata": {},
   "source": [
    "**답**"
   ]
  },
  {
   "cell_type": "code",
   "execution_count": 10,
   "id": "b01c8c68",
   "metadata": {
    "id": "5afe29a5"
   },
   "outputs": [],
   "source": [
    "def attended(name, date):\n",
    "    return name in participants[date]"
   ]
  },
  {
   "cell_type": "code",
   "execution_count": 13,
   "id": "0a40b7ad",
   "metadata": {
    "id": "f7d7d317"
   },
   "outputs": [],
   "source": [
    "assert attended(\"현성\", '1월 3일') == True\n",
    "assert attended(\"찬호\", '3월 7일') == False"
   ]
  },
  {
   "cell_type": "markdown",
   "id": "5d137a5e",
   "metadata": {},
   "source": [
    "**질문 2**"
   ]
  },
  {
   "cell_type": "markdown",
   "id": "de9c6a1f",
   "metadata": {
    "id": "5a278630"
   },
   "source": [
    "이름과 날짜를 입력받아 해당일의 참석자 명단에 이름이 포함되어 있다면 아래 문장을 출력하는 \n",
    "`attended_number()` 함수를 작성하라.\n",
    "    \n",
    "    O월 O일에 O 명이 함께 참석했어요.\n",
    "    \n",
    "참석하지 않은 경우엔 아래 문장을 출력해야 한다.\n",
    "\n",
    "    참석하지 않았어요!"
   ]
  },
  {
   "cell_type": "markdown",
   "id": "eab0d1fc",
   "metadata": {},
   "source": [
    "**답**"
   ]
  },
  {
   "cell_type": "code",
   "execution_count": 23,
   "id": "e203006e",
   "metadata": {
    "id": "5afe29a5"
   },
   "outputs": [],
   "source": [
    "def attended_number(name, date):\n",
    "    if attended(name, date):\n",
    "        number = len(participants[date])-1\n",
    "        print(f\"{date}에 {number} 명이 함께 참석했어요\")\n",
    "    else:\n",
    "        print('참석하지 않았어요!')"
   ]
  },
  {
   "cell_type": "code",
   "execution_count": 24,
   "id": "a2b0e8e5",
   "metadata": {
    "id": "f7d7d317"
   },
   "outputs": [
    {
     "name": "stdout",
     "output_type": "stream",
     "text": [
      "1월 3일에 3 명이 함께 참석했어요\n"
     ]
    }
   ],
   "source": [
    "attended_number(\"현성\", '1월 3일')"
   ]
  },
  {
   "cell_type": "code",
   "execution_count": 25,
   "id": "0297eba7",
   "metadata": {
    "id": "f7d7d317"
   },
   "outputs": [
    {
     "name": "stdout",
     "output_type": "stream",
     "text": [
      "참석하지 않았어요!\n"
     ]
    }
   ],
   "source": [
    "attended_number(\"찬호\", '3월 7일')"
   ]
  },
  {
   "cell_type": "markdown",
   "id": "2934074c",
   "metadata": {
    "id": "faa26cd6"
   },
   "source": [
    "## 문제"
   ]
  },
  {
   "cell_type": "markdown",
   "id": "fd3bf547",
   "metadata": {
    "id": "ca952ba4"
   },
   "source": [
    "어느 반 학생들의 이름이 리스트로 주어졌다."
   ]
  },
  {
   "cell_type": "code",
   "execution_count": 27,
   "id": "e434a064",
   "metadata": {
    "id": "aed88923"
   },
   "outputs": [],
   "source": [
    "students = ['Apeach', 'Ryan', 'Muzi', 'Choonsik', 'Neo', 'Tube', 'Choonsik']"
   ]
  },
  {
   "cell_type": "markdown",
   "id": "0b6e7f9b",
   "metadata": {
    "id": "1b676b52"
   },
   "source": [
    "번호와 이름을 키와 값으로 갖는 사전을 출력하는 코드를 작성하여라.\n",
    "단, 번호는 이름의 오름차순으로 부여되고, 동명이인은 무시한다.\n",
    "즉, 아래와 같은 사전이 생성되어야 한다.\n",
    "\n",
    "```python\n",
    "{1: 'Apeach', 2: 'Choonsik', 3: 'Muzi', 4: 'Neo', 5: 'Ryan', 6: 'Tube'}\n",
    "```\n",
    "\n",
    "힌트: `set()` 함수, `sorted()` 함수, `enumerate()` 함수 활용"
   ]
  },
  {
   "cell_type": "markdown",
   "id": "69173615",
   "metadata": {},
   "source": [
    "**답**"
   ]
  },
  {
   "cell_type": "markdown",
   "id": "905fe8f8",
   "metadata": {},
   "source": [
    "리스트는 순차 자료형이기에 중복을 허용한다.\n",
    "따라서 동명이인을 무시하기 위해 집합으로 변환한 다음에 다시 리스트로 변환한다."
   ]
  },
  {
   "cell_type": "code",
   "execution_count": 29,
   "id": "06911f04",
   "metadata": {},
   "outputs": [
    {
     "data": {
      "text/plain": [
       "['Apeach', 'Tube', 'Neo', 'Muzi', 'Ryan', 'Choonsik']"
      ]
     },
     "execution_count": 29,
     "metadata": {},
     "output_type": "execute_result"
    }
   ],
   "source": [
    "list(set(students))"
   ]
  },
  {
   "cell_type": "markdown",
   "id": "f0e20aeb",
   "metadata": {},
   "source": [
    "이제 `sorted()` 함수를 적용하면 알파벳 순서로 정렬된 리스트가 생성된다."
   ]
  },
  {
   "cell_type": "code",
   "execution_count": 30,
   "id": "8d61f562",
   "metadata": {},
   "outputs": [
    {
     "data": {
      "text/plain": [
       "['Apeach', 'Choonsik', 'Muzi', 'Neo', 'Ryan', 'Tube']"
      ]
     },
     "execution_count": 30,
     "metadata": {},
     "output_type": "execute_result"
    }
   ],
   "source": [
    "sorted(list(set(students)))"
   ]
  },
  {
   "cell_type": "markdown",
   "id": "7b716278",
   "metadata": {},
   "source": [
    "여기에 `enumerate()` 함수와 `dict()` 함수를 적용하면 원하는 모양의 사전이 생성된다."
   ]
  },
  {
   "cell_type": "code",
   "execution_count": 33,
   "id": "ba8b1659",
   "metadata": {},
   "outputs": [
    {
     "data": {
      "text/plain": [
       "{1: 'Apeach', 2: 'Choonsik', 3: 'Muzi', 4: 'Neo', 5: 'Ryan', 6: 'Tube'}"
      ]
     },
     "execution_count": 33,
     "metadata": {},
     "output_type": "execute_result"
    }
   ],
   "source": [
    "dict(enumerate(sorted(list(set(students))), start=1))"
   ]
  },
  {
   "cell_type": "markdown",
   "id": "0452fc9b",
   "metadata": {
    "id": "gaOaOgqCVDRc"
   },
   "source": [
    "## 문제"
   ]
  },
  {
   "cell_type": "markdown",
   "id": "a3ac1c67",
   "metadata": {},
   "source": [
    "**질문 1**"
   ]
  },
  {
   "cell_type": "markdown",
   "id": "18feb59b",
   "metadata": {
    "id": "O0N9QFrJYrpR"
   },
   "source": [
    "아래 리스트를 리스트 조건제시법으로 정의하라.\n",
    "\n",
    "    [1, 5, 7, 11, 13, 17, 19]  \n",
    "\n",
    "힌트: 2의 배수와 3의 배수가 아닌 1에서 20사이의 정수들을 항목으로 갖는 리스트"
   ]
  },
  {
   "cell_type": "markdown",
   "id": "c605083c",
   "metadata": {
    "id": "rdXjj4TtW7Fk"
   },
   "source": [
    "**답**"
   ]
  },
  {
   "cell_type": "code",
   "execution_count": 9,
   "id": "87870020",
   "metadata": {
    "colab": {
     "base_uri": "https://localhost:8080/"
    },
    "executionInfo": {
     "elapsed": 412,
     "status": "ok",
     "timestamp": 1714436164556,
     "user": {
      "displayName": "liga nega",
      "userId": "04505461106310941438"
     },
     "user_tz": -540
    },
    "id": "c9vXrJ5jCb1o",
    "outputId": "d6063f74-c862-4f3c-fb84-5d88ef7cc58b"
   },
   "outputs": [
    {
     "name": "stdout",
     "output_type": "stream",
     "text": [
      "[1, 5, 7, 11, 13, 17, 19]\n"
     ]
    }
   ],
   "source": [
    "ans3 = [ i for i in range(1,20) if i % 2 != 0 and i % 3 != 0 ]\n",
    "print(ans3)"
   ]
  },
  {
   "cell_type": "markdown",
   "id": "d50edcdb",
   "metadata": {
    "id": "gaOaOgqCVDRc"
   },
   "source": [
    "## 문제"
   ]
  },
  {
   "cell_type": "markdown",
   "id": "6e11c1ae",
   "metadata": {
    "id": "3-giu8MsVDRX"
   },
   "source": [
    "6명의 정보가 다음과 같다."
   ]
  },
  {
   "cell_type": "code",
   "execution_count": 1,
   "id": "4f4a7c7a",
   "metadata": {
    "executionInfo": {
     "elapsed": 513,
     "status": "ok",
     "timestamp": 1714611074049,
     "user": {
      "displayName": "liga nega",
      "userId": "04505461106310941438"
     },
     "user_tz": -540
    },
    "id": "OTRtTsv1VDRX"
   },
   "outputs": [],
   "source": [
    "kgh = ['김강현', '010-1234-5678', 20, 172.3, '제주']\n",
    "whang = ['황현', '02-9871-1234', 19, 163.5, '서울']\n",
    "namgung = ['남세원', '010-3456-7891', 21, 156.7, '경기']\n",
    "choihs = ['최흥선', '070-4321-1111', 21, 187.2, '부산']\n",
    "sjkim = ['김현선', '010-3333-8888', 22, 164.6, '광주']\n",
    "ja = ['함중아', '010-7654-2345', 18, 178.3, '강원']"
   ]
  },
  {
   "cell_type": "code",
   "execution_count": 2,
   "id": "e8304099",
   "metadata": {
    "colab": {
     "base_uri": "https://localhost:8080/"
    },
    "executionInfo": {
     "elapsed": 4,
     "status": "ok",
     "timestamp": 1714611074049,
     "user": {
      "displayName": "liga nega",
      "userId": "04505461106310941438"
     },
     "user_tz": -540
    },
    "id": "CuT5NcBVVDRY",
    "outputId": "36cdf39c-406f-43ef-ac33-bef65de1d215"
   },
   "outputs": [
    {
     "data": {
      "text/plain": [
       "[['김강현', '010-1234-5678', 20, 172.3, '제주'],\n",
       " ['황현', '02-9871-1234', 19, 163.5, '서울'],\n",
       " ['남세원', '010-3456-7891', 21, 156.7, '경기'],\n",
       " ['최흥선', '070-4321-1111', 21, 187.2, '부산'],\n",
       " ['김현선', '010-3333-8888', 22, 164.6, '광주'],\n",
       " ['함중아', '010-7654-2345', 18, 178.3, '강원']]"
      ]
     },
     "execution_count": 2,
     "metadata": {},
     "output_type": "execute_result"
    }
   ],
   "source": [
    "info_list = [kgh, whang, namgung, choihs, sjkim, ja]\n",
    "info_list"
   ]
  },
  {
   "cell_type": "markdown",
   "id": "ae22a921",
   "metadata": {},
   "source": [
    "**질문 1**"
   ]
  },
  {
   "cell_type": "markdown",
   "id": "766fa2e2",
   "metadata": {
    "id": "rwL-eEcIVDRc"
   },
   "source": [
    "`info_list`에 포함된 6명의 이름과 해당 이름의 정보로 구성된 사전을 가리키는 `info_dict` 변수를 \n",
    "조건제시법을 이용하여 선언하라."
   ]
  },
  {
   "cell_type": "markdown",
   "id": "3f1a914e",
   "metadata": {},
   "source": [
    "**답**"
   ]
  },
  {
   "cell_type": "code",
   "execution_count": 3,
   "id": "120fbfa4",
   "metadata": {},
   "outputs": [],
   "source": [
    "info_dict = {people[0]:people[1:] for people in info_list}"
   ]
  },
  {
   "cell_type": "code",
   "execution_count": 4,
   "id": "fac6264e",
   "metadata": {},
   "outputs": [
    {
     "data": {
      "text/plain": [
       "{'김강현': ['010-1234-5678', 20, 172.3, '제주'],\n",
       " '황현': ['02-9871-1234', 19, 163.5, '서울'],\n",
       " '남세원': ['010-3456-7891', 21, 156.7, '경기'],\n",
       " '최흥선': ['070-4321-1111', 21, 187.2, '부산'],\n",
       " '김현선': ['010-3333-8888', 22, 164.6, '광주'],\n",
       " '함중아': ['010-7654-2345', 18, 178.3, '강원']}"
      ]
     },
     "execution_count": 4,
     "metadata": {},
     "output_type": "execute_result"
    }
   ],
   "source": [
    "info_dict    "
   ]
  },
  {
   "cell_type": "markdown",
   "id": "916c9b9c",
   "metadata": {},
   "source": [
    "**질문 2**"
   ]
  },
  {
   "cell_type": "markdown",
   "id": "9f750e46",
   "metadata": {},
   "source": [
    "`info_dict`를 이용해서 이름과 함께 원하는 정보를 지정하면 해당 정보를 알려주는 `info_book()` 함수를 정의하라.\n",
    "예를 들어 `info_book('김강현', '나이')`를 호출하면 김강현의 나이를,\n",
    "`info_book('김현선', '전화번호')`를 호출하면 김현선의 전화번호를 반환해야 한다.\n",
    "\n",
    "힌트: 아래 사전을 이용한다."
   ]
  },
  {
   "cell_type": "code",
   "execution_count": 5,
   "id": "90ab5f5c",
   "metadata": {},
   "outputs": [],
   "source": [
    "info_index = {'전화번호': 0,\n",
    "              '나이': 1,\n",
    "              '키':2,\n",
    "              '출생지':3}"
   ]
  },
  {
   "cell_type": "markdown",
   "id": "cb3c1bcd",
   "metadata": {},
   "source": [
    "**답**"
   ]
  },
  {
   "cell_type": "code",
   "execution_count": 6,
   "id": "b5ca4bec",
   "metadata": {},
   "outputs": [],
   "source": [
    "def info_book(name, info):\n",
    "    idx = info_index[info]\n",
    "    return info_dict[name][idx]"
   ]
  },
  {
   "cell_type": "code",
   "execution_count": 7,
   "id": "a2627144",
   "metadata": {},
   "outputs": [
    {
     "data": {
      "text/plain": [
       "20"
      ]
     },
     "execution_count": 7,
     "metadata": {},
     "output_type": "execute_result"
    }
   ],
   "source": [
    "info_book('김강현', '나이')"
   ]
  },
  {
   "cell_type": "code",
   "execution_count": 8,
   "id": "5e02fe4e",
   "metadata": {},
   "outputs": [
    {
     "data": {
      "text/plain": [
       "'010-3333-8888'"
      ]
     },
     "execution_count": 8,
     "metadata": {},
     "output_type": "execute_result"
    }
   ],
   "source": [
    "info_book('김현선', '전화번호')"
   ]
  },
  {
   "cell_type": "markdown",
   "id": "8d72c674",
   "metadata": {
    "id": "8d72c674"
   },
   "source": [
    "## 문제 5"
   ]
  },
  {
   "cell_type": "markdown",
   "id": "41c01768",
   "metadata": {
    "id": "41c01768"
   },
   "source": [
    "A대학의 일반차량에 대한 주차요금은 아래와 같다.   \n",
    "\n",
    "* 2,000원/최초 30분, 초과 10분마다 500원, 1일(24시간)은 40,000원   \n",
    "\n",
    "일반차량에 대한 입출차 기록이 리스트로 주어졌다."
   ]
  },
  {
   "cell_type": "code",
   "execution_count": null,
   "id": "eb201274",
   "metadata": {
    "id": "eb201274"
   },
   "outputs": [],
   "source": [
    "car_in_out = ['07:30 1234 IN', \n",
    "              '07:35 2580 IN',\n",
    "              '08:15 0328 IN',\n",
    "              '08:45 2580 OUT',\n",
    "              '08:55 9876 IN',\n",
    "              '11:00 1597 IN',\n",
    "              '15:15 1234 OUT',\n",
    "              '21:00 0328 OUT',\n",
    "              '23:45 9876 OUT']"
   ]
  },
  {
   "cell_type": "markdown",
   "id": "c13d654a",
   "metadata": {
    "id": "c13d654a"
   },
   "source": [
    "차량별로 주차시간과 주차요금이 사전 자료형으로 정리하는 코드를 작성하라.\n",
    "단, 아래 사항을 가정한다.\n",
    "\n",
    "* 차량번호는 차량 뒷번호 4자리를 기록하고, 동일한 차량번호는 없다.\n",
    "* 시간은 24시간제를 사용하고, 모든 차량은 00:00부터 23:59분 사이에 한 번씩만 입출차 한다.\n",
    "* 아직 출차하지 않은 차량에 대해서는 주차시간과 주차요금을 정리할 수 없다.  "
   ]
  },
  {
   "cell_type": "code",
   "execution_count": null,
   "id": "5c5e9735",
   "metadata": {
    "id": "5c5e9735"
   },
   "outputs": [],
   "source": [
    "# pass 와 None 을 적절한 명령문과 표현식으로 대체하라.\n",
    "# 결과값을 직접 사용할 수는 없다.\n",
    "\n",
    "pass\n",
    "\n",
    "car_parking_log = None\n",
    "\n",
    "car_parking_log"
   ]
  },
  {
   "cell_type": "markdown",
   "id": "1df61440",
   "metadata": {
    "id": "1df61440"
   },
   "source": [
    "위 코드를 실행하면 다음과 같이 보여져야 한다."
   ]
  },
  {
   "cell_type": "code",
   "execution_count": null,
   "id": "edf60fb7",
   "metadata": {
    "id": "edf60fb7"
   },
   "outputs": [],
   "source": [
    "answer = {'1234': {'IN': '07:30',\n",
    "                   'OUT': '15:15',\n",
    "                   'parking_duration': 465,\n",
    "                   'parking_fee': 24000},\n",
    "          '2580': {'IN': '07:35',\n",
    "                   'OUT': '08:45',\n",
    "                   'parking_duration': 70,\n",
    "                   'parking_fee': 4000},\n",
    "          '0328': {'IN': '08:15',\n",
    "                   'OUT': '21:00',\n",
    "                   'parking_duration': 765,\n",
    "                   'parking_fee': 39000},\n",
    "          '9876': {'IN': '08:55',\n",
    "                   'OUT': '23:45',\n",
    "                   'parking_duration': 890,\n",
    "                   'parking_fee': 40000},\n",
    "          '1597': {'IN': '11:00'}}"
   ]
  },
  {
   "cell_type": "code",
   "execution_count": null,
   "id": "9c6a529d",
   "metadata": {
    "id": "9c6a529d"
   },
   "outputs": [],
   "source": [
    "# 아래 코드의 주석 기호를 삭제하고 실행할 때 오류가 발생하지 않아야 한다.\n",
    "\n",
    "# assert car_parking_log == answer"
   ]
  },
  {
   "cell_type": "markdown",
   "id": "54693d64",
   "metadata": {
    "id": "a5c511c1"
   },
   "source": [
    "## 집합"
   ]
  },
  {
   "cell_type": "markdown",
   "id": "bd9b04a2",
   "metadata": {},
   "source": [
    "## 예제"
   ]
  },
  {
   "cell_type": "markdown",
   "id": "96190b66",
   "metadata": {},
   "source": [
    "교육 참가자 명단과 수료자 명단이 아래처럼 리스트로 주어다."
   ]
  },
  {
   "cell_type": "code",
   "execution_count": 1,
   "id": "e5f39c4f",
   "metadata": {},
   "outputs": [],
   "source": [
    "participant = ['Apeach', 'Ryan', 'Muzi', 'Choonsik', 'Neo', 'Tube']\n",
    "completion = ['Ryan', 'Muzi', 'Neo', 'Choonsik']"
   ]
  },
  {
   "cell_type": "markdown",
   "id": "614501cb",
   "metadata": {},
   "source": [
    "수료하지 못한 사람들의 명단을 리스트로 출력하는 코드를 작성하여라.\n",
    "단, 참여자 중 동명이인은 없고, 순서는 중요하지 않다. "
   ]
  },
  {
   "cell_type": "code",
   "execution_count": 2,
   "id": "028f47a4",
   "metadata": {},
   "outputs": [
    {
     "data": {
      "text/plain": [
       "['Tube', 'Apeach']"
      ]
     },
     "execution_count": 2,
     "metadata": {},
     "output_type": "execute_result"
    }
   ],
   "source": [
    "unfinished = list(set(participant) - set(completion))\n",
    "unfinished"
   ]
  },
  {
   "cell_type": "markdown",
   "id": "f1395c6d",
   "metadata": {},
   "source": [
    "또는"
   ]
  },
  {
   "cell_type": "code",
   "execution_count": 3,
   "id": "a909aa54",
   "metadata": {},
   "outputs": [
    {
     "data": {
      "text/plain": [
       "['Tube', 'Apeach']"
      ]
     },
     "execution_count": 3,
     "metadata": {},
     "output_type": "execute_result"
    }
   ],
   "source": [
    "unfinished = list(set(participant).difference(set(completion)))\n",
    "unfinished"
   ]
  },
  {
   "cell_type": "markdown",
   "id": "3f9edcf9",
   "metadata": {
    "id": "8d7431a2"
   },
   "source": [
    "**문제 1**"
   ]
  },
  {
   "cell_type": "markdown",
   "id": "2ebbc482",
   "metadata": {
    "id": "a8996e7c"
   },
   "source": [
    "세 집합 A, B, C가 다음과 같이 주어졌다. "
   ]
  },
  {
   "cell_type": "code",
   "execution_count": null,
   "id": "c20f599c",
   "metadata": {
    "id": "40f7078d"
   },
   "outputs": [],
   "source": [
    "A = {2, 4, 5}\n",
    "B = {1, 2, 2, 1, 10, 4}\n",
    "C = {3, 3, 3, 4}"
   ]
  },
  {
   "cell_type": "markdown",
   "id": "e913e4d2",
   "metadata": {
    "id": "3e8ae185"
   },
   "source": [
    "* $A \\cap B \\cap C$"
   ]
  },
  {
   "cell_type": "code",
   "execution_count": null,
   "id": "f1b8fd31",
   "metadata": {
    "id": "a871f333"
   },
   "outputs": [],
   "source": [
    "# pass 와  None을 적절한 명령문과 표현식으로 대체하라.\n",
    "\n",
    "pass\n",
    "\n",
    "AnBnC = None"
   ]
  },
  {
   "cell_type": "code",
   "execution_count": null,
   "id": "823a6b60",
   "metadata": {
    "id": "23f462d7"
   },
   "outputs": [],
   "source": [
    "# 아래 코드의 주석 기호를 삭제하고 실행할 때 오류가 발생하지 않아야 한다.\n",
    "\n",
    "# assert AnBnC == {4}"
   ]
  },
  {
   "cell_type": "markdown",
   "id": "f87e9d3f",
   "metadata": {
    "id": "e6de4d9e"
   },
   "source": [
    "* $(A \\cup B \\cup C) - A$"
   ]
  },
  {
   "cell_type": "code",
   "execution_count": null,
   "id": "15f1b541",
   "metadata": {
    "id": "7c5d05be"
   },
   "outputs": [],
   "source": [
    "# pass 와  None을 적절한 명령문과 표현식으로 대체하라.\n",
    "\n",
    "pass\n",
    "\n",
    "ArBrCmA = None"
   ]
  },
  {
   "cell_type": "code",
   "execution_count": null,
   "id": "9f175da3",
   "metadata": {
    "id": "5701a40f"
   },
   "outputs": [],
   "source": [
    "# 아래 코드의 주석 기호를 삭제하고 실행할 때 오류가 발생하지 않아야 한다.\n",
    "\n",
    "# assert ArBrCmA == {1, 3, 10}"
   ]
  },
  {
   "cell_type": "markdown",
   "id": "b964f820",
   "metadata": {
    "id": "66466065"
   },
   "source": [
    "**문제 2**"
   ]
  },
  {
   "cell_type": "markdown",
   "id": "9bc676d1",
   "metadata": {
    "id": "4b1ab94f"
   },
   "source": [
    "리스트가 입력되면 중복된 항목은 제거하고 남은 항목들을 내림차순으로 정렬한\n",
    "리스트를 반환하는 `unique_values()` 함수를 구현하라. "
   ]
  },
  {
   "cell_type": "code",
   "execution_count": null,
   "id": "73c72ecd",
   "metadata": {
    "id": "d87b4c29"
   },
   "outputs": [],
   "source": [
    "# pass 와  None을 적절한 명령문과 표현식으로 대체하라.\n",
    "\n",
    "def unique_values(aList):\n",
    "    pass\n",
    "\n",
    "    return None"
   ]
  },
  {
   "cell_type": "code",
   "execution_count": null,
   "id": "cf82e4df",
   "metadata": {
    "id": "247e8ee8"
   },
   "outputs": [],
   "source": [
    "# 아래 코드의 주석 기호를 삭제하고 실행할 때 오류가 발생하지 않아야 한다.\n",
    "\n",
    "# assert unique_values([1, 2, 1, 3]) == [3, 2, 1]\n",
    "# assert unique_values(['z', 'f', 'a', 'z']) == ['z', 'f', 'a']"
   ]
  }
 ],
 "metadata": {
  "colab": {
   "provenance": []
  },
  "kernelspec": {
   "display_name": "Python 3 (ipykernel)",
   "language": "python",
   "name": "python3"
  },
  "language_info": {
   "codemirror_mode": {
    "name": "ipython",
    "version": 3
   },
   "file_extension": ".py",
   "mimetype": "text/x-python",
   "name": "python",
   "nbconvert_exporter": "python",
   "pygments_lexer": "ipython3",
   "version": "3.11.4"
  }
 },
 "nbformat": 4,
 "nbformat_minor": 5
}
