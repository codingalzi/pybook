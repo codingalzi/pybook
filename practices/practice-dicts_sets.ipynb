{
 "cells": [
  {
   "cell_type": "markdown",
   "id": "bd286fa2",
   "metadata": {
    "id": "bd286fa2"
   },
   "source": [
    "# (실습) 사전과 집합"
   ]
  },
  {
   "cell_type": "markdown",
   "id": "42933be1",
   "metadata": {
    "id": "5140d50d"
   },
   "source": [
    "**참고 사항**\n",
    "\n",
    "먼저\n",
    "[사전과 집합](https://codingalzi.github.io/pybook/dicts_sets.html)의 내용과\n",
    "[(필수 예제) 사전과 집합](https://colab.research.google.com/github/codingalzi/pybook/blob/master/examples/examples-dicts_sets.ipynb)의 예제들을 학습하세요."
   ]
  },
  {
   "cell_type": "markdown",
   "id": "303aae45",
   "metadata": {
    "id": "a0a20bd6"
   },
   "source": [
    "**주의 사항**\n",
    "\n",
    "* 기존에 작성된 코드 셀과 텍스트 셀은 수정하지 않는다.\n",
    "* 필요한 경우 코드 셀 또는 텍스트 셀을 추가해서 사용한다.\n",
    "* 실습 파일을 제출할 때 구글 드라이브의 링크를 이용하여 누구나 공유할 수 있도록 설정한다."
   ]
  },
  {
   "cell_type": "markdown",
   "id": "edec0c64",
   "metadata": {},
   "source": [
    "## 문제 1"
   ]
  },
  {
   "cell_type": "markdown",
   "id": "73c26130",
   "metadata": {},
   "source": [
    "아래 코드 중 오류가 발생하는 코드를 예측하여 말하고, 코드를 실행시켜 확인하여라."
   ]
  },
  {
   "cell_type": "markdown",
   "id": "a167118b",
   "metadata": {
    "id": "OdOlcBksTkyo"
   },
   "source": [
    "**질문 1**"
   ]
  },
  {
   "cell_type": "code",
   "execution_count": null,
   "id": "b12b834b",
   "metadata": {
    "colab": {
     "base_uri": "https://localhost:8080/"
    },
    "executionInfo": {
     "elapsed": 684,
     "status": "ok",
     "timestamp": 1618200989690,
     "user": {
      "displayName": "HJ Kim",
      "photoUrl": "",
      "userId": "16634276932240017990"
     },
     "user_tz": -540
    },
    "id": "IV1uIWQ7S0pD",
    "outputId": "d8995cf9-a617-4d27-c71f-526ea12818f1"
   },
   "outputs": [],
   "source": [
    "dic5 = {(1, 2) : 'a'}\n",
    "dic5"
   ]
  },
  {
   "cell_type": "markdown",
   "id": "e9b4b40e",
   "metadata": {},
   "source": [
    "**답**"
   ]
  },
  {
   "cell_type": "markdown",
   "id": "130bb49e",
   "metadata": {},
   "source": [
    "*설명*\n",
    "\n"
   ]
  },
  {
   "cell_type": "markdown",
   "id": "394eb933",
   "metadata": {
    "id": "OdOlcBksTkyo"
   },
   "source": [
    "**질문 2**"
   ]
  },
  {
   "cell_type": "code",
   "execution_count": null,
   "id": "2acf4fdd",
   "metadata": {
    "colab": {
     "base_uri": "https://localhost:8080/",
     "height": 186
    },
    "executionInfo": {
     "elapsed": 840,
     "status": "error",
     "timestamp": 1618201072771,
     "user": {
      "displayName": "HJ Kim",
      "photoUrl": "",
      "userId": "16634276932240017990"
     },
     "user_tz": -540
    },
    "id": "1PRBMLZ2S_aT",
    "outputId": "3cc5848b-9c80-469c-9fa8-5eaf471b2417"
   },
   "outputs": [],
   "source": [
    "dic7 = {([1, 2], 3): 'a'}\n",
    "dic7"
   ]
  },
  {
   "cell_type": "markdown",
   "id": "d3a9e6d0",
   "metadata": {},
   "source": [
    "**답**"
   ]
  },
  {
   "cell_type": "markdown",
   "id": "a2a41966",
   "metadata": {},
   "source": [
    "*설명*\n",
    "\n"
   ]
  },
  {
   "cell_type": "markdown",
   "id": "b3fcfeb3",
   "metadata": {
    "id": "OdOlcBksTkyo"
   },
   "source": [
    "**질문 3**"
   ]
  },
  {
   "cell_type": "code",
   "execution_count": null,
   "id": "7aef9d37",
   "metadata": {
    "colab": {
     "base_uri": "https://localhost:8080/"
    },
    "executionInfo": {
     "elapsed": 684,
     "status": "ok",
     "timestamp": 1618200989690,
     "user": {
      "displayName": "HJ Kim",
      "photoUrl": "",
      "userId": "16634276932240017990"
     },
     "user_tz": -540
    },
    "id": "IV1uIWQ7S0pD",
    "outputId": "d8995cf9-a617-4d27-c71f-526ea12818f1"
   },
   "outputs": [],
   "source": [
    "dic5 = {[('abc', 7), (1, 2)] : 'a'}\n",
    "dic5"
   ]
  },
  {
   "cell_type": "markdown",
   "id": "d03c71ae",
   "metadata": {},
   "source": [
    "**답**"
   ]
  },
  {
   "cell_type": "markdown",
   "id": "076888f9",
   "metadata": {},
   "source": [
    "*설명*\n",
    "\n"
   ]
  },
  {
   "cell_type": "markdown",
   "id": "6554199d",
   "metadata": {
    "id": "0932631b"
   },
   "source": [
    "## 문제 2"
   ]
  },
  {
   "cell_type": "markdown",
   "id": "1f6cea07",
   "metadata": {
    "id": "aa4161ad"
   },
   "source": [
    "다음 `participants` 변수는 모임일과 그날 참석한 사람들의 이름을 저장하는 사전을 가리킨다."
   ]
  },
  {
   "cell_type": "code",
   "execution_count": null,
   "id": "1dbe4bce",
   "metadata": {
    "id": "2ee676cc"
   },
   "outputs": [],
   "source": [
    "participants = {'1월 3일' : ['현성', '문정', '현무', '강현'], \n",
    "                '2월 10일' : ['문정', '강현', '정훈'], \n",
    "                '3월 7일' : ['현성', '연아', '현무', '지아']}"
   ]
  },
  {
   "cell_type": "markdown",
   "id": "8e81f931",
   "metadata": {},
   "source": [
    "**질문 1**"
   ]
  },
  {
   "cell_type": "markdown",
   "id": "0d667df3",
   "metadata": {
    "id": "5a278630"
   },
   "source": [
    "이름과 날짜를 입력받아 해당일의 참석자 명단에 이름이 포함되어 있는지 여부를 반환하는\n",
    "`attended()` 함수를 작성하라.   \n",
    "단, 이름과 날짜 모두 문자열을 사용한다."
   ]
  },
  {
   "cell_type": "markdown",
   "id": "9b4109b9",
   "metadata": {},
   "source": [
    "**답**"
   ]
  },
  {
   "cell_type": "code",
   "execution_count": 1,
   "id": "05548c78",
   "metadata": {},
   "outputs": [],
   "source": [
    "# 코드 작성\n",
    "\n",
    "def attended(name, date):\n",
    "    pass"
   ]
  },
  {
   "cell_type": "code",
   "execution_count": null,
   "id": "0a40b7ad",
   "metadata": {
    "id": "f7d7d317"
   },
   "outputs": [],
   "source": [
    "assert attended(\"현성\", '1월 3일') == True\n",
    "assert attended(\"찬호\", '3월 7일') == False"
   ]
  },
  {
   "cell_type": "markdown",
   "id": "5d137a5e",
   "metadata": {},
   "source": [
    "**질문 2**"
   ]
  },
  {
   "cell_type": "markdown",
   "id": "de9c6a1f",
   "metadata": {
    "id": "5a278630"
   },
   "source": [
    "이름과 날짜를 입력받아 해당일의 참석자 명단에 이름이 포함되어 있다면 아래 문장을 출력하는 \n",
    "`attended_number()` 함수를 작성하라.\n",
    "    \n",
    "    O월 O일에 O 명이 함께 참석했어요.\n",
    "    \n",
    "참석하지 않은 경우엔 아래 문장을 출력해야 한다.\n",
    "\n",
    "    참석하지 않았어요!"
   ]
  },
  {
   "cell_type": "markdown",
   "id": "eab0d1fc",
   "metadata": {},
   "source": [
    "**답**"
   ]
  },
  {
   "cell_type": "code",
   "execution_count": 1,
   "id": "3ee2156e",
   "metadata": {},
   "outputs": [],
   "source": [
    "# 코드 작성\n",
    "\n",
    "def attended_number(name, date):\n",
    "    pass"
   ]
  },
  {
   "cell_type": "code",
   "execution_count": null,
   "id": "a2b0e8e5",
   "metadata": {
    "id": "f7d7d317"
   },
   "outputs": [],
   "source": [
    "attended_number(\"현성\", '1월 3일')"
   ]
  },
  {
   "cell_type": "code",
   "execution_count": null,
   "id": "0297eba7",
   "metadata": {
    "id": "f7d7d317"
   },
   "outputs": [],
   "source": [
    "attended_number(\"찬호\", '3월 7일')"
   ]
  },
  {
   "cell_type": "markdown",
   "id": "2934074c",
   "metadata": {
    "id": "faa26cd6"
   },
   "source": [
    "## 문제 3"
   ]
  },
  {
   "cell_type": "markdown",
   "id": "fd3bf547",
   "metadata": {
    "id": "ca952ba4"
   },
   "source": [
    "어느 반 학생들의 이름이 리스트로 주어졌다."
   ]
  },
  {
   "cell_type": "code",
   "execution_count": null,
   "id": "e434a064",
   "metadata": {
    "id": "aed88923"
   },
   "outputs": [],
   "source": [
    "students = ['Apeach', 'Ryan', 'Muzi', 'Choonsik', 'Neo', 'Tube', 'Choonsik']"
   ]
  },
  {
   "cell_type": "markdown",
   "id": "0b6e7f9b",
   "metadata": {
    "id": "1b676b52"
   },
   "source": [
    "아래 사전처럼 번호와 이름을 키와 값으로 갖는 사전을 가리키는 변수 `students_dict`를 선언하라.\n",
    "단, 번호는 이름의 오름차순으로 부여되고, 동명이인은 무시한다.\n",
    "\n",
    "```python\n",
    "{1: 'Apeach', 2: 'Choonsik', 3: 'Muzi', 4: 'Neo', 5: 'Ryan', 6: 'Tube'}\n",
    "```\n",
    "\n",
    "힌트: `set()` 함수, `sorted()` 함수, `enumerate()` 함수 활용"
   ]
  },
  {
   "cell_type": "markdown",
   "id": "69173615",
   "metadata": {},
   "source": [
    "**답**"
   ]
  },
  {
   "cell_type": "code",
   "execution_count": 3,
   "id": "3dfb574b",
   "metadata": {},
   "outputs": [],
   "source": [
    "# 코드 작성\n",
    "\n",
    "students_dict = None"
   ]
  },
  {
   "cell_type": "markdown",
   "id": "fd8a2dc3",
   "metadata": {
    "id": "8d72c674"
   },
   "source": [
    "## 문제 4"
   ]
  },
  {
   "cell_type": "markdown",
   "id": "a7d7586a",
   "metadata": {
    "id": "41c01768"
   },
   "source": [
    "어느 유료 주차장의 주차요금은 아래와 같이 계산된다.   \n",
    "1일 최대 비용은 24시간이 지나지 않았지만 주차요금이 4만원을 초과할 경우 부과된다.\n",
    "\n",
    "* 최초 30분: 2,000원\n",
    "* 30분 초과 후 10분마다: 500원\n",
    "* 1일(24시간) 최대: 40,000원   \n",
    "\n",
    "\n",
    "일반차량에 대한 입출차 기록이 리스트로 주어졌다."
   ]
  },
  {
   "cell_type": "code",
   "execution_count": null,
   "id": "c336864e",
   "metadata": {
    "id": "eb201274"
   },
   "outputs": [],
   "source": [
    "car_in_out = ['07:30 1234 IN', \n",
    "              '07:35 2580 IN',\n",
    "              '08:15 0328 IN',\n",
    "              '08:45 2580 OUT',\n",
    "              '08:55 9876 IN',\n",
    "              '11:00 1597 IN',\n",
    "              '15:15 1234 OUT',\n",
    "              '21:00 0328 OUT',\n",
    "              '23:45 9876 OUT']"
   ]
  },
  {
   "cell_type": "markdown",
   "id": "f1b17b10",
   "metadata": {
    "id": "c13d654a"
   },
   "source": [
    "차량별로 주차시간과 주차요금이 사전 객체로 정리된 객체를 가리키는\n",
    "`car_parking_log` 변수를 선언하라.\n",
    "단, 아래 사항을 기록해둔 이중으로 중첩된 사전 객체를 생성해야 한다.\n",
    "\n",
    "* 차량번호는 차량 뒷번호 4자리를 기록하고, 동일한 차량번호는 없다.\n",
    "* 시간은 24시간제를 사용하고, 모든 차량은 00:00부터 23:59분 사이에 한 번씩만 입출차 한다.\n",
    "* 아직 출차하지 않은 차량에 대해서는 주차시간과 주차요금을 정리할 수 없다.  "
   ]
  },
  {
   "cell_type": "markdown",
   "id": "200762f6",
   "metadata": {},
   "source": [
    "힌트: 위 리스트를 이용하여 생성된 사전은 다음과 같이 이중으로 중첩된 사전 객체이어야 한다."
   ]
  },
  {
   "cell_type": "code",
   "execution_count": null,
   "id": "4cc8a010",
   "metadata": {
    "id": "edf60fb7"
   },
   "outputs": [],
   "source": [
    "answer = {'1234': {'IN': '07:30',\n",
    "                   'OUT': '15:15',\n",
    "                   'parking_duration': 465,\n",
    "                   'parking_fee': 24000},\n",
    "          '2580': {'IN': '07:35',\n",
    "                   'OUT': '08:45',\n",
    "                   'parking_duration': 70,\n",
    "                   'parking_fee': 4000},\n",
    "          '0328': {'IN': '08:15',\n",
    "                   'OUT': '21:00',\n",
    "                   'parking_duration': 765,\n",
    "                   'parking_fee': 39000},\n",
    "          '9876': {'IN': '08:55',\n",
    "                   'OUT': '23:45',\n",
    "                   'parking_duration': 890,\n",
    "                   'parking_fee': 40000},\n",
    "          '1597': {'IN': '11:00'}}"
   ]
  },
  {
   "cell_type": "markdown",
   "id": "c3b33843",
   "metadata": {},
   "source": [
    "**답**"
   ]
  },
  {
   "cell_type": "code",
   "execution_count": 2,
   "id": "aae2c89d",
   "metadata": {},
   "outputs": [],
   "source": [
    "# 코드 작성\n",
    "\n",
    "car_parking_log = None"
   ]
  },
  {
   "cell_type": "code",
   "execution_count": null,
   "id": "a571351e",
   "metadata": {},
   "outputs": [],
   "source": [
    "assert car_parking_log == answer"
   ]
  },
  {
   "cell_type": "markdown",
   "id": "0452fc9b",
   "metadata": {
    "id": "gaOaOgqCVDRc"
   },
   "source": [
    "## 문제 5"
   ]
  },
  {
   "cell_type": "markdown",
   "id": "18feb59b",
   "metadata": {
    "id": "O0N9QFrJYrpR"
   },
   "source": [
    "아래 리스트를 가리키는 변수 `odd_comp`를 리스트 조건제시법으로 정의하라.\n",
    "\n",
    "    [1, 5, 7, 11, 13, 17, 19]  \n",
    "\n",
    "힌트: 2의 배수와 3의 배수가 아닌 1에서 20사이의 정수들을 항목으로 갖는 리스트"
   ]
  },
  {
   "cell_type": "markdown",
   "id": "c605083c",
   "metadata": {
    "id": "rdXjj4TtW7Fk"
   },
   "source": [
    "**답**"
   ]
  },
  {
   "cell_type": "code",
   "execution_count": 2,
   "id": "9c75a9c6",
   "metadata": {},
   "outputs": [],
   "source": [
    "# 코드 작성\n",
    "\n",
    "odd_comp = None"
   ]
  },
  {
   "cell_type": "markdown",
   "id": "d50edcdb",
   "metadata": {
    "id": "gaOaOgqCVDRc"
   },
   "source": [
    "## 문제 6"
   ]
  },
  {
   "cell_type": "markdown",
   "id": "6e11c1ae",
   "metadata": {
    "id": "3-giu8MsVDRX"
   },
   "source": [
    "6명의 정보가 다음과 같다."
   ]
  },
  {
   "cell_type": "code",
   "execution_count": null,
   "id": "4f4a7c7a",
   "metadata": {
    "executionInfo": {
     "elapsed": 513,
     "status": "ok",
     "timestamp": 1714611074049,
     "user": {
      "displayName": "liga nega",
      "userId": "04505461106310941438"
     },
     "user_tz": -540
    },
    "id": "OTRtTsv1VDRX"
   },
   "outputs": [],
   "source": [
    "kgh = ['김강현', '010-1234-5678', 20, 172.3, '제주']\n",
    "whang = ['황현', '02-9871-1234', 19, 163.5, '서울']\n",
    "namgung = ['남세원', '010-3456-7891', 21, 156.7, '경기']\n",
    "choihs = ['최흥선', '070-4321-1111', 21, 187.2, '부산']\n",
    "sjkim = ['김현선', '010-3333-8888', 22, 164.6, '광주']\n",
    "ja = ['함중아', '010-7654-2345', 18, 178.3, '강원']"
   ]
  },
  {
   "cell_type": "code",
   "execution_count": null,
   "id": "e8304099",
   "metadata": {
    "colab": {
     "base_uri": "https://localhost:8080/"
    },
    "executionInfo": {
     "elapsed": 4,
     "status": "ok",
     "timestamp": 1714611074049,
     "user": {
      "displayName": "liga nega",
      "userId": "04505461106310941438"
     },
     "user_tz": -540
    },
    "id": "CuT5NcBVVDRY",
    "outputId": "36cdf39c-406f-43ef-ac33-bef65de1d215"
   },
   "outputs": [],
   "source": [
    "info_list = [kgh, whang, namgung, choihs, sjkim, ja]\n",
    "info_list"
   ]
  },
  {
   "cell_type": "markdown",
   "id": "ae22a921",
   "metadata": {},
   "source": [
    "**질문 1**"
   ]
  },
  {
   "cell_type": "markdown",
   "id": "766fa2e2",
   "metadata": {
    "id": "rwL-eEcIVDRc"
   },
   "source": [
    "`info_list`에 포함된 6명의 이름과 해당 이름의 정보로 구성된 사전을 가리키는 `info_dict` 변수를 \n",
    "조건제시법을 이용하여 선언하라."
   ]
  },
  {
   "cell_type": "markdown",
   "id": "3f1a914e",
   "metadata": {},
   "source": [
    "**답**"
   ]
  },
  {
   "cell_type": "code",
   "execution_count": 2,
   "id": "3311ace3",
   "metadata": {},
   "outputs": [],
   "source": [
    "# 코드 작성\n",
    "\n",
    "info_dict = None"
   ]
  },
  {
   "cell_type": "markdown",
   "id": "916c9b9c",
   "metadata": {},
   "source": [
    "**질문 2**"
   ]
  },
  {
   "cell_type": "markdown",
   "id": "9f750e46",
   "metadata": {},
   "source": [
    "`info_dict`를 이용해서 이름과 함께 원하는 정보를 지정하면 해당 정보를 알려주는 `info_book()` 함수를 정의하라.\n",
    "예를 들어 `info_book('김강현', '나이')`를 호출하면 김강현의 나이를,\n",
    "`info_book('김현선', '전화번호')`를 호출하면 김현선의 전화번호를 반환해야 한다.\n",
    "\n",
    "힌트: 아래 사전을 이용한다."
   ]
  },
  {
   "cell_type": "code",
   "execution_count": null,
   "id": "90ab5f5c",
   "metadata": {},
   "outputs": [],
   "source": [
    "info_index = {'전화번호': 0,\n",
    "              '나이': 1,\n",
    "              '키':2,\n",
    "              '출생지':3}"
   ]
  },
  {
   "cell_type": "markdown",
   "id": "cb3c1bcd",
   "metadata": {},
   "source": [
    "**답**"
   ]
  },
  {
   "cell_type": "code",
   "execution_count": 2,
   "id": "e5268285",
   "metadata": {},
   "outputs": [],
   "source": [
    "# 코드 작성\n",
    "\n",
    "def info_book(name, info):\n",
    "    pass"
   ]
  },
  {
   "cell_type": "code",
   "execution_count": null,
   "id": "a2627144",
   "metadata": {},
   "outputs": [],
   "source": [
    "info_book('김강현', '나이')"
   ]
  },
  {
   "cell_type": "code",
   "execution_count": null,
   "id": "5e02fe4e",
   "metadata": {},
   "outputs": [],
   "source": [
    "info_book('김현선', '전화번호')"
   ]
  },
  {
   "cell_type": "markdown",
   "id": "986584ef",
   "metadata": {},
   "source": [
    "## 문제 7"
   ]
  },
  {
   "cell_type": "markdown",
   "id": "0dfb471a",
   "metadata": {
    "id": "kmbiRMmjA6_a"
   },
   "source": [
    "아래 `item_price` 에는 음료와 과자의 가격이 들어 있다. "
   ]
  },
  {
   "cell_type": "code",
   "execution_count": null,
   "id": "4a8354e3",
   "metadata": {
    "id": "kmbiRMmjA6_a"
   },
   "outputs": [],
   "source": [
    "item_price = \"커피-1050원, 우유-870원, 밀크티-1300원, 새우과자-950원, 감자칩-1100원\""
   ]
  },
  {
   "cell_type": "markdown",
   "id": "32298588",
   "metadata": {},
   "source": [
    "**질문 1**"
   ]
  },
  {
   "cell_type": "markdown",
   "id": "b997bf08",
   "metadata": {
    "id": "kmbiRMmjA6_a"
   },
   "source": [
    "아래 사전 객체를 가리키는 변수 `price_dict`를 선언하라.\n",
    "\n",
    "    {'커피' : 1050, '우유' : 870, '밀크티' : 1300, '새우과자' : 950, '감자칩' : 1100}"
   ]
  },
  {
   "cell_type": "markdown",
   "id": "ffe8e6b1",
   "metadata": {},
   "source": [
    "**답**"
   ]
  },
  {
   "cell_type": "code",
   "execution_count": 2,
   "id": "475d02aa",
   "metadata": {},
   "outputs": [],
   "source": [
    "# 코드 작성\n",
    "\n",
    "price_dict = None"
   ]
  },
  {
   "cell_type": "markdown",
   "id": "90dc2a08",
   "metadata": {},
   "source": [
    "**질문 2**"
   ]
  },
  {
   "cell_type": "markdown",
   "id": "3022dfd2",
   "metadata": {},
   "source": [
    "돈의 액수와 구매할 물건을 인자로 입력받았을 때 구매가격과 찾는 물품에 따라\n",
    "다음과 같이 출력하는 `vending_machine()` 함수를 선언하라.\n",
    "\n",
    "```\n",
    "잔돈 300원을 돌려 드립니다.\n",
    "500원 더 투입하세요.\n",
    "찾는 물품이 없습니다.\n",
    "```"
   ]
  },
  {
   "cell_type": "markdown",
   "id": "eb5854f5",
   "metadata": {},
   "source": [
    "**답**"
   ]
  },
  {
   "cell_type": "code",
   "execution_count": 2,
   "id": "f2802386",
   "metadata": {},
   "outputs": [],
   "source": [
    "# 코드 작성\n",
    "\n",
    "def vending_machine(money, item):\n",
    "    pass"
   ]
  },
  {
   "cell_type": "code",
   "execution_count": null,
   "id": "51ecf83e",
   "metadata": {},
   "outputs": [],
   "source": [
    "vending_machine(2000, '커피')"
   ]
  },
  {
   "cell_type": "code",
   "execution_count": null,
   "id": "4e0c2625",
   "metadata": {},
   "outputs": [],
   "source": [
    "vending_machine(1000, '커피')"
   ]
  },
  {
   "cell_type": "code",
   "execution_count": null,
   "id": "2bbab9fd",
   "metadata": {},
   "outputs": [],
   "source": [
    "vending_machine(1000, '새우깡')"
   ]
  },
  {
   "cell_type": "markdown",
   "id": "c69b1006",
   "metadata": {
    "id": "IVMgvZTidFz0"
   },
   "source": [
    "## 문제 8"
   ]
  },
  {
   "cell_type": "markdown",
   "id": "a6f89dfa",
   "metadata": {
    "id": "eoxWecFRS_25"
   },
   "source": [
    "리스트를 인자로 크기 내림차순으로 정렬한 리스트를 반환하는 함수\n",
    "`sort_elem()`를 구현하라.\n",
    "단, 중복 항목은 무시한다.\n",
    "\n",
    "```\n",
    "sort_elem([2, 5, 2, 3, 3, 8, 2, 7]) = [8, 7, 5, 3, 2]\n",
    "sort_elem([15, 3, 15, 1, 3]) = [15, 3, 1]\n",
    "```"
   ]
  },
  {
   "cell_type": "markdown",
   "id": "37e93005",
   "metadata": {},
   "source": [
    "**답**"
   ]
  },
  {
   "cell_type": "code",
   "execution_count": null,
   "id": "153ef88a",
   "metadata": {},
   "outputs": [],
   "source": [
    "# 코드 작성\n",
    "\n",
    "def sort_elem(xs):\n",
    "    pass"
   ]
  },
  {
   "cell_type": "code",
   "execution_count": 2,
   "id": "1ee437d5",
   "metadata": {},
   "outputs": [],
   "source": [
    "print(sort_elem([2, 5, 2, 3, 3, 8, 2, 7]))\n",
    "print(sort_elem([15, 3, 15, 1, 3]))"
   ]
  }
 ],
 "metadata": {
  "colab": {
   "provenance": []
  },
  "kernelspec": {
   "display_name": "Python 3 (ipykernel)",
   "language": "python",
   "name": "python3"
  },
  "language_info": {
   "codemirror_mode": {
    "name": "ipython",
    "version": 3
   },
   "file_extension": ".py",
   "mimetype": "text/x-python",
   "name": "python",
   "nbconvert_exporter": "python",
   "pygments_lexer": "ipython3",
   "version": "3.11.4"
  }
 },
 "nbformat": 4,
 "nbformat_minor": 5
}
