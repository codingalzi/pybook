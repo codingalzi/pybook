{
 "cells": [
  {
   "cell_type": "markdown",
   "id": "1966b032",
   "metadata": {},
   "source": [
    "# (실습) 함수"
   ]
  },
  {
   "cell_type": "markdown",
   "id": "58bc1e4a",
   "metadata": {},
   "source": [
    "**주의 사항**\n",
    "\n",
    "* 기존에 작성된 코드 셀과 텍스트 셀은 수정하지 않는다.\n",
    "* 필요한 경우 코드 셀 또는 텍스트 셀을 추가해서 사용한다.\n",
    "* 실습 파일을 제출할 때 구글 드라이브의 링크를 이용하여 누구나 공유할 수 있도록 설정한다."
   ]
  },
  {
   "cell_type": "markdown",
   "id": "b34e6d95",
   "metadata": {},
   "source": [
    "## 문제 1"
   ]
  },
  {
   "cell_type": "markdown",
   "id": "998281ac",
   "metadata": {},
   "source": [
    "아래 코드의 실행 결과를 설명하라."
   ]
  },
  {
   "cell_type": "code",
   "execution_count": 1,
   "id": "ca690875",
   "metadata": {
    "id": "iNX852RehEpn",
    "outputId": "f48c7012-51f4-4801-f1e8-e65cefaee681"
   },
   "outputs": [
    {
     "name": "stdout",
     "output_type": "stream",
     "text": [
      "Hi\n",
      "D\n",
      "C\n",
      "A\n",
      "B\n",
      "A\n"
     ]
    }
   ],
   "source": [
    "print(\"Hi\")   \n",
    "\n",
    "def funcA() :  \n",
    "    print(\"A\")\n",
    "\n",
    "def funcB() :  \n",
    "    print(\"B\")\n",
    "    funcA()   \n",
    "\n",
    "def funcC() :\n",
    "    print(\"C\")\n",
    "    funcA()\n",
    "    funcB()\n",
    "\n",
    "print(\"D\")\n",
    "funcC()"
   ]
  },
  {
   "cell_type": "markdown",
   "id": "2feeb855",
   "metadata": {
    "id": "bNsV9zG4hEpl",
    "outputId": "58d4c7e9-f773-4d68-bb20-6e99c17fe86a"
   },
   "source": [
    "*실행 결과 설명*\n",
    "\n",
    "..."
   ]
  },
  {
   "cell_type": "markdown",
   "id": "4d3c1ee1",
   "metadata": {},
   "source": [
    "**답**"
   ]
  },
  {
   "cell_type": "markdown",
   "id": "ca42c86b",
   "metadata": {},
   "source": [
    "코드는 윗줄의 명령문부터 차례대로 실행된다.\n",
    "따라서 아래 순서대로 명령문이 실행된다.\n",
    "\n",
    "- `print(\"Hi\")` 실행: `'Hi'` 출력\n",
    "- `funcA()`, `funcB()`, `funcC()` 세 개의 함수 정의\n",
    "- `print(\"D\")` 실행: `\"D\"` 출력\n",
    "- `funcC()` 호출\n",
    "    - `print(\"C\")` 실행. 따라서 `\"C\"` 출력\n",
    "    - `funcA()` 호출: \n",
    "        - `print(\"A\")` 실행. 따라서 `\"A\"` 출력\n",
    "    - `funcB()` 호출: \n",
    "        - `print(\"B\")` 실행. 따라서 `\"B\"` 출력 \n",
    "        - `funcA()` 호출: \n",
    "            - `print(\"A\")` 실행. 따라서 `\"A\"` 출력\n",
    "            \n",
    "따라서 아래 순서대로 화면에 출력된다.\n",
    "\n",
    "    Hi, D, C, A, B, A"
   ]
  },
  {
   "cell_type": "markdown",
   "id": "15b278ee",
   "metadata": {},
   "source": [
    "## 문제 2"
   ]
  },
  {
   "cell_type": "markdown",
   "id": "a13075d4",
   "metadata": {},
   "source": [
    "아래 코드를 실행할 때 발생하는 오류를 설명하라."
   ]
  },
  {
   "cell_type": "code",
   "execution_count": 2,
   "id": "e60bfb17",
   "metadata": {},
   "outputs": [
    {
     "ename": "NameError",
     "evalue": "name 'square' is not defined",
     "output_type": "error",
     "traceback": [
      "\u001b[0;31m---------------------------------------------------------------------------\u001b[0m",
      "\u001b[0;31mNameError\u001b[0m                                 Traceback (most recent call last)",
      "Cell \u001b[0;32mIn[2], line 8\u001b[0m\n\u001b[1;32m      5\u001b[0m number \u001b[38;5;241m=\u001b[39m \u001b[38;5;241m17\u001b[39m\n\u001b[1;32m      6\u001b[0m square17 \u001b[38;5;241m=\u001b[39m square_return(number)\n\u001b[0;32m----> 8\u001b[0m \u001b[38;5;28mprint\u001b[39m(number, \u001b[38;5;124m\"\u001b[39m\u001b[38;5;124m의 제곱을 계산한\u001b[39m\u001b[38;5;124m\"\u001b[39m, square17, \u001b[38;5;124m\"\u001b[39m\u001b[38;5;124m과\u001b[39m\u001b[38;5;124m\"\u001b[39m, square, \u001b[38;5;124m\"\u001b[39m\u001b[38;5;124m는 동일한 값을 가리킨다.\u001b[39m\u001b[38;5;124m\"\u001b[39m)\n",
      "\u001b[0;31mNameError\u001b[0m: name 'square' is not defined"
     ]
    }
   ],
   "source": [
    "def square_return(number):\n",
    "    square = number ** 2\n",
    "    return square\n",
    "\n",
    "number = 17\n",
    "square17 = square_return(number)\n",
    "\n",
    "print(number, \"의 제곱을 계산한\", square17, \"과\", square, \"는 동일한 값을 가리킨다.\")"
   ]
  },
  {
   "cell_type": "markdown",
   "id": "e8161f7e",
   "metadata": {
    "id": "bNsV9zG4hEpl",
    "outputId": "58d4c7e9-f773-4d68-bb20-6e99c17fe86a"
   },
   "source": [
    "*실행 결과 설명*\n",
    "\n",
    "..."
   ]
  },
  {
   "cell_type": "markdown",
   "id": "b8d786f9",
   "metadata": {},
   "source": [
    "**답**"
   ]
  },
  {
   "cell_type": "markdown",
   "id": "3a43f15e",
   "metadata": {},
   "source": [
    "위 코드 마지막 줄의 `print()` 함수의 다섯번 째 인자로 상요된 `square` 변수가\n",
    "정의되지 않았다는 의미의 `NameError` 오류가 발생했다.\n",
    "이유는 `square` 변수는 `square_return(number)`이 호출되어 `square_return()` 함수가\n",
    "인자 17과 함께 실행될 때에만 존재 의미가 있는데 이미 반환값이 정해지고 함수가 종료되었기 때문이다."
   ]
  },
  {
   "cell_type": "markdown",
   "id": "f5840087",
   "metadata": {},
   "source": [
    "## 문제 3"
   ]
  },
  {
   "cell_type": "markdown",
   "id": "6b3e81b6",
   "metadata": {},
   "source": [
    "아래 코드의 실행 결과를 설명하라.\n",
    "반복문 실행횟수는 얼마인가?"
   ]
  },
  {
   "cell_type": "code",
   "execution_count": 3,
   "id": "87c8746c",
   "metadata": {
    "id": "m7hR5DCuhEpo",
    "outputId": "6fb5492e-f4cd-4f9d-bbbc-40f146e2e6e8"
   },
   "outputs": [
    {
     "name": "stdout",
     "output_type": "stream",
     "text": [
      "1\n",
      "=\n",
      "*\n"
     ]
    },
    {
     "data": {
      "text/plain": [
       "100"
      ]
     },
     "execution_count": 3,
     "metadata": {},
     "output_type": "execute_result"
    }
   ],
   "source": [
    "def counter_func(num, limit) :\n",
    "    i = 1\n",
    "    while True :\n",
    "        print(i)\n",
    "        if i == limit :\n",
    "            return i\n",
    "        else:\n",
    "            print(\"=\" * i)\n",
    "            print(\"*\" * i)\n",
    "            i += 1\n",
    "        return num\n",
    "\n",
    "counter_func(100, 5)"
   ]
  },
  {
   "cell_type": "markdown",
   "id": "dd716f3f",
   "metadata": {
    "id": "bNsV9zG4hEpl",
    "outputId": "58d4c7e9-f773-4d68-bb20-6e99c17fe86a"
   },
   "source": [
    "*실행 결과 설명*\n",
    "\n",
    "..."
   ]
  },
  {
   "cell_type": "markdown",
   "id": "1838267c",
   "metadata": {},
   "source": [
    "**답**"
   ]
  },
  {
   "cell_type": "markdown",
   "id": "cdadf6ff",
   "metadata": {},
   "source": [
    "`counter_func(100, 5)`이 호출되면 함수의 본문이 차례대로 실행된다.\n",
    "`i = 1` 에서 시작하고 `while True` 반복문이 실행된다. \n",
    "논리식 `True`가 참이라 `while` 반복문이 무한 반복되어야 하는 것처럼 보인다.\n",
    "`print(i)`에 의해 1이 출력되고\n",
    "`if ... else ...` 조건문에서 `i == limit`가 거짓이기에 `else`의 본문이 실행되어\n",
    "`\"=\"`와 `\"*\"` 가 출력된다.\n",
    "\n",
    "그런데 바로 이어서 `return num` 이 실행되어 100을 반환하고 반복문을 비롯해서 \n",
    "함수의 실행이 완전히 종료된다."
   ]
  },
  {
   "cell_type": "markdown",
   "id": "33b9f9c3",
   "metadata": {},
   "source": [
    "## 문제 4"
   ]
  },
  {
   "cell_type": "markdown",
   "id": "b61506d5",
   "metadata": {
    "id": "MTVs3VVPyzcU"
   },
   "source": [
    "문자열과 자연수를 인자로 받아, 문자열을 자연수만큼 반복 출력하는 함수\n",
    "`str_n()`를 구현하려 한다.\n",
    "매개 변수는 2개를 사용한다.\n",
    "\n",
    "- `text`: 첫째 인자. 문자열을 인자로 사용.\n",
    "- `num`: 둘째 인자. 양의 정수를 인자로 사용. 기본 키워드 인자로 1 지정.\n",
    "\n",
    "\n",
    "예를 들어 `str_n(\"Hello \", 3)`를 실행하면 다음처럼 출력돼야 한다.\n",
    "\n",
    "```\n",
    "Hello Hello Hello \n",
    "```\n",
    "\n",
    "반면에 `str_n(\"Hello \")`를 실행하면 다음처럼 출력돼야 한다.\n",
    "\n",
    "```\n",
    "Hello \n",
    "```\n",
    "\n",
    "힌트: `print()` 함수 활용"
   ]
  },
  {
   "cell_type": "code",
   "execution_count": 3,
   "id": "2da97133",
   "metadata": {},
   "outputs": [],
   "source": [
    "# 코드를 작성한다.\n",
    "# 필요하면 코드셀 또는 텍스트셀을 추가할 수 있습니다.\n",
    "\n"
   ]
  },
  {
   "cell_type": "markdown",
   "id": "09d9d1ff",
   "metadata": {},
   "source": [
    "**답**"
   ]
  },
  {
   "cell_type": "code",
   "execution_count": 11,
   "id": "29c76de7",
   "metadata": {},
   "outputs": [],
   "source": [
    "def str_n(text, num=1):\n",
    "    print(text * num)"
   ]
  },
  {
   "cell_type": "code",
   "execution_count": 12,
   "id": "ff5c0435",
   "metadata": {},
   "outputs": [
    {
     "name": "stdout",
     "output_type": "stream",
     "text": [
      "Hello Hello Hello \n"
     ]
    }
   ],
   "source": [
    "str_n(\"Hello \", 3)"
   ]
  },
  {
   "cell_type": "code",
   "execution_count": 13,
   "id": "5f3f888e",
   "metadata": {},
   "outputs": [
    {
     "name": "stdout",
     "output_type": "stream",
     "text": [
      "Hello \n"
     ]
    }
   ],
   "source": [
    "str_n(\"Hello \")"
   ]
  },
  {
   "cell_type": "markdown",
   "id": "26e1bd70",
   "metadata": {
    "id": "MTVs3VVPyzcU"
   },
   "source": [
    "## 문제 5"
   ]
  },
  {
   "cell_type": "markdown",
   "id": "7f185ee1",
   "metadata": {},
   "source": [
    "직사각형 모양의 바닥에 정사각형 모양의 타일을 깔 때\n",
    "타일은 온장을 그대로 사용할 수도 있고, 잘라서 일부분만 사용할 수도 있다.\n",
    "단, 잘라서 사용한 타일의 나머지는 사용하지 않는다.\n",
    "공간의 가로, 세로 크기, 타일의 크기를 cm 단위로 인자로 사용된다.\n",
    "주어진 공간을 타일로 덮기 위해 필요한 온장 타일과 잘라서 사용한 타일의 개수의 합을\n",
    "반환하는 함수 `tiling()`을 구현하라.\n",
    "\n",
    "단 공간 크기의 가로, 세로, 타일의 크기는 정수값으로 입력받는다.\n",
    "즉, `tiling()` 함수의 매개변수는 다음과 같다.\n",
    "\n",
    "- `width`: 공간의 가로 크기. 단위는 cm.\n",
    "- `height`: 공간의 세로 크기. 단위는 cm.\n",
    "- `tile_length=30`: 타일의 한 변의 크기. 단위는 cm. 기본 키워드 인자는 30."
   ]
  },
  {
   "cell_type": "code",
   "execution_count": 3,
   "id": "98ad9593",
   "metadata": {},
   "outputs": [],
   "source": [
    "# 코드를 작성한다.\n",
    "# 필요하면 코드셀 또는 텍스트셀을 추가할 수 있습니다.\n",
    "\n"
   ]
  },
  {
   "cell_type": "markdown",
   "id": "61c8eccd",
   "metadata": {},
   "source": [
    "**답**"
   ]
  },
  {
   "cell_type": "markdown",
   "id": "33fdfb60",
   "metadata": {},
   "source": [
    "온장의 개수는 공간의 가로와 세로를 타일 한 장의 길이로 나눈 몫을 곱한 값이다.\n",
    "\n",
    "```python\n",
    "num_full_width = width // tile_length\n",
    "num_full_height = height // tile_length\n",
    "\n",
    "num_full = num_full_width * num_full_height\n",
    "```"
   ]
  },
  {
   "cell_type": "markdown",
   "id": "3dc2d062",
   "metadata": {},
   "source": [
    "잘라서 사용한 타일의 개수는 아래 두 경우의 조합에 따라 통 네 개의 경우가 발생한다.\n",
    "\n",
    "- 경우 1: 가로를 타일의 길이로 나눴을 때 나머지가 0인 경우\n",
    "- 경우 2: 세로는 타일의 길이로 나눴을 때 나머지가 0인 경우\n",
    "\n",
    "네 경우 각각에 따라 잘라서 사용한 타일의 개수가 달라진다."
   ]
  },
  {
   "cell_type": "code",
   "execution_count": 18,
   "id": "1e062625",
   "metadata": {},
   "outputs": [],
   "source": [
    "pm = \"+ - - \"\n",
    "ps = \"|     \"\n",
    "plus_sign = \"+\"\n",
    "pipe_sign = \"|\"\n",
    "\n",
    "def print_pm(n, horizontal=True):\n",
    "    if horizontal:\n",
    "        print(pm * n + plus_sign + \" - -\")\n",
    "    else:\n",
    "        print(pm * n + plus_sign)\n",
    "\n",
    "def print_ps(n):\n",
    "    ps_line = ps * n + pipe_sign\n",
    "    print(ps_line, ps_line, sep=\"\\n\")\n",
    "\n",
    "def grid(n, horizontal=True, vertical=True):\n",
    "    count = 0\n",
    "    while count < n:\n",
    "        print_pm(n, horizontal)\n",
    "        print_ps(n)\n",
    "        count += 1\n",
    "    print(pm * n + plus_sign)\n",
    "    if vertical:\n",
    "        print(ps * n + pipe_sign)\n"
   ]
  },
  {
   "cell_type": "code",
   "execution_count": 13,
   "id": "f615f9a1",
   "metadata": {},
   "outputs": [
    {
     "name": "stdout",
     "output_type": "stream",
     "text": [
      "+ - - + - - + - - + - -\n",
      "|     |     |     |\n",
      "|     |     |     |\n",
      "+ - - + - - + - - + - -\n",
      "|     |     |     |\n",
      "|     |     |     |\n",
      "+ - - + - - + - - + - -\n",
      "|     |     |     |\n",
      "|     |     |     |\n",
      "+ - - + - - + - - + - -\n",
      "|     |     |     |\n"
     ]
    }
   ],
   "source": [
    "grid(3)"
   ]
  },
  {
   "cell_type": "code",
   "execution_count": 20,
   "id": "d8735e8f",
   "metadata": {},
   "outputs": [
    {
     "name": "stdout",
     "output_type": "stream",
     "text": [
      "+ - - + - - + - - +\n",
      "|     |     |     |\n",
      "|     |     |     |\n",
      "+ - - + - - + - - +\n",
      "|     |     |     |\n",
      "|     |     |     |\n",
      "+ - - + - - + - - +\n",
      "|     |     |     |\n",
      "|     |     |     |\n",
      "+ - - + - - + - - +\n",
      "|     |     |     |\n"
     ]
    }
   ],
   "source": [
    "grid(3, False, True)"
   ]
  },
  {
   "cell_type": "code",
   "execution_count": null,
   "id": "c7a3b36c",
   "metadata": {},
   "outputs": [],
   "source": []
  },
  {
   "cell_type": "markdown",
   "id": "2def88c0",
   "metadata": {},
   "source": [
    "```python\n",
    "if width % tile_length == 0:\n",
    "    num_part_height = 0    \n",
    "    if height % tile_length == 0:\n",
    "        num_part = 0\n",
    "    else:\n",
    "        num_part = num_full_width\n",
    "\n",
    "else:\n",
    "    if height % tile_length == 0:\n",
    "        num_part = num_full_height\n",
    "    else:\n",
    "        num_part = num_full_width + num_full_height + 1\n",
    "```"
   ]
  },
  {
   "cell_type": "code",
   "execution_count": 17,
   "id": "fa96f0a7",
   "metadata": {},
   "outputs": [],
   "source": [
    "def tiling(width, height, tile_length=30):\n",
    "    num_full_width = width // tile_length\n",
    "    num_full_height = height // tile_length\n",
    "\n",
    "    num_full = num_full_width * num_full_height\n",
    "\n",
    "    if width % tile_length == 0:\n",
    "        num_part_height = 0    \n",
    "        if height % tile_length == 0:\n",
    "            num_part = 0\n",
    "        else:\n",
    "            num_part = num_full_width\n",
    "\n",
    "    else:\n",
    "        if height % tile_length == 0:\n",
    "            num_part = num_full_height\n",
    "        else:\n",
    "            num_part = num_full_width + num_full_height + 1\n",
    "            \n",
    "    return num_full + num_part"
   ]
  },
  {
   "cell_type": "code",
   "execution_count": 18,
   "id": "39c64a1e",
   "metadata": {},
   "outputs": [
    {
     "data": {
      "text/plain": [
       "196"
      ]
     },
     "execution_count": 18,
     "metadata": {},
     "output_type": "execute_result"
    }
   ],
   "source": [
    "tiling(400, 400)"
   ]
  },
  {
   "cell_type": "code",
   "execution_count": 19,
   "id": "29f7a561",
   "metadata": {},
   "outputs": [
    {
     "data": {
      "text/plain": [
       "196"
      ]
     },
     "execution_count": 19,
     "metadata": {},
     "output_type": "execute_result"
    }
   ],
   "source": [
    "tiling(400, 400, 30)"
   ]
  },
  {
   "cell_type": "code",
   "execution_count": 21,
   "id": "9cf46708",
   "metadata": {},
   "outputs": [
    {
     "data": {
      "text/plain": [
       "144"
      ]
     },
     "execution_count": 21,
     "metadata": {},
     "output_type": "execute_result"
    }
   ],
   "source": [
    "tiling(400, 400, 35)"
   ]
  },
  {
   "cell_type": "markdown",
   "id": "9eaaf740",
   "metadata": {},
   "source": [
    "## 문제 6"
   ]
  },
  {
   "cell_type": "markdown",
   "id": "7a25674a",
   "metadata": {},
   "source": [
    "아래 조건을 만족시키는 `grid_gen()` 함수를 구현한다.\n",
    "\n",
    "- `n`: 격자 세로 크기\n",
    "- `m`: 격자 가로 크기\n",
    "-  반환값: `n*m`\n",
    "\n",
    "단, `while` 반복문을 이용한다.\n",
    "\n",
    "예를 들어, `grid_gen(2, 3)` 을 실행하면 아래 모양의 격자를 그려야 한다.\n",
    "\n",
    "```\n",
    "+ - - + - - + - - +\n",
    "|     |     |     |\n",
    "|     |     |     |\n",
    "+ - - + - - + - - +\n",
    "|     |     |     |\n",
    "|     |     |     |\n",
    "+ - - + - - + - - +\n",
    "```"
   ]
  },
  {
   "cell_type": "code",
   "execution_count": 3,
   "id": "3d5656b5",
   "metadata": {},
   "outputs": [],
   "source": [
    "# 코드를 작성한다.\n",
    "# 필요하면 코드셀 또는 텍스트셀을 추가할 수 있습니다.\n",
    "\n"
   ]
  },
  {
   "cell_type": "markdown",
   "id": "340f4544",
   "metadata": {},
   "source": [
    "**답**"
   ]
  },
  {
   "cell_type": "code",
   "execution_count": 24,
   "id": "79a72f00",
   "metadata": {},
   "outputs": [],
   "source": [
    "pm = \"+ - - \"\n",
    "ps = \"|     \"\n",
    "plus_sign = \"+\"\n",
    "pipe_sign = \"|\"\n",
    "\n",
    "def pm_line(n):\n",
    "    return pm * n + plus_sign\n",
    "\n",
    "def ps_line(n):\n",
    "    return ps * n + pipe_sign\n",
    "\n",
    "def print_pm(n):\n",
    "    print(pm * n + plus_sign)\n",
    "\n",
    "def print_ps(n):\n",
    "    print(ps_line(n), ps_line(n), sep=\"\\n\")\n",
    "\n",
    "def grid_gen(n, m):\n",
    "    count = 0\n",
    "    while count < n:\n",
    "        print_pm(m)\n",
    "        print_ps(m)\n",
    "        count += 1\n",
    "        \n",
    "    print(pm_line(m))\n",
    "    return n * m"
   ]
  },
  {
   "cell_type": "code",
   "execution_count": 25,
   "id": "33f81c53",
   "metadata": {},
   "outputs": [
    {
     "name": "stdout",
     "output_type": "stream",
     "text": [
      "+ - - + - - + - - +\n",
      "|     |     |     |\n",
      "|     |     |     |\n",
      "+ - - + - - + - - +\n",
      "|     |     |     |\n",
      "|     |     |     |\n",
      "+ - - + - - + - - +\n"
     ]
    },
    {
     "data": {
      "text/plain": [
       "6"
      ]
     },
     "execution_count": 25,
     "metadata": {},
     "output_type": "execute_result"
    }
   ],
   "source": [
    "grid_gen(2, 3)"
   ]
  },
  {
   "cell_type": "code",
   "execution_count": 27,
   "id": "07d7808c",
   "metadata": {},
   "outputs": [
    {
     "name": "stdout",
     "output_type": "stream",
     "text": [
      "+ - - + - - + - - + - - + - - +\n",
      "|     |     |     |     |     |\n",
      "|     |     |     |     |     |\n",
      "+ - - + - - + - - + - - + - - +\n",
      "|     |     |     |     |     |\n",
      "|     |     |     |     |     |\n",
      "+ - - + - - + - - + - - + - - +\n",
      "|     |     |     |     |     |\n",
      "|     |     |     |     |     |\n",
      "+ - - + - - + - - + - - + - - +\n"
     ]
    },
    {
     "data": {
      "text/plain": [
       "15"
      ]
     },
     "execution_count": 27,
     "metadata": {},
     "output_type": "execute_result"
    }
   ],
   "source": [
    "grid_gen(3, 5)"
   ]
  },
  {
   "cell_type": "code",
   "execution_count": null,
   "id": "f07d8999",
   "metadata": {},
   "outputs": [],
   "source": []
  }
 ],
 "metadata": {
  "kernelspec": {
   "display_name": "Python 3 (ipykernel)",
   "language": "python",
   "name": "python3"
  },
  "language_info": {
   "codemirror_mode": {
    "name": "ipython",
    "version": 3
   },
   "file_extension": ".py",
   "mimetype": "text/x-python",
   "name": "python",
   "nbconvert_exporter": "python",
   "pygments_lexer": "ipython3",
   "version": "3.11.4"
  }
 },
 "nbformat": 4,
 "nbformat_minor": 5
}
