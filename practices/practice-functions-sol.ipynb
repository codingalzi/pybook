{
 "cells": [
  {
   "cell_type": "markdown",
   "id": "1966b032",
   "metadata": {},
   "source": [
    "# (연습) 함수"
   ]
  },
  {
   "cell_type": "markdown",
   "id": "2b8e6bf8",
   "metadata": {},
   "source": [
    "**참고 사항**\n",
    "\n",
    "먼저 \n",
    "[함수](https://codingalzi.github.io/pybook/functions.html)의 내용과\n",
    "[(필수 예제) 함수](https://colab.research.google.com/github/codingalzi/pybook/blob/master/examples/examples-functions.ipynb)의 예제들을 학습하세요."
   ]
  },
  {
   "cell_type": "markdown",
   "id": "58bc1e4a",
   "metadata": {},
   "source": [
    "**주의 사항**\n",
    "\n",
    "* 기존에 작성된 코드 셀과 텍스트 셀은 수정하지 않는다.\n",
    "* 필요한 경우 코드 셀 또는 텍스트 셀을 추가해서 사용한다.\n",
    "* 실습 파일을 제출할 때 구글 드라이브의 링크를 이용하여 누구나 공유할 수 있도록 설정한다."
   ]
  },
  {
   "cell_type": "markdown",
   "id": "b34e6d95",
   "metadata": {},
   "source": [
    "## 문제 1"
   ]
  },
  {
   "cell_type": "markdown",
   "id": "998281ac",
   "metadata": {},
   "source": [
    "아래 코드의 실행 결과를 설명하라."
   ]
  },
  {
   "cell_type": "code",
   "execution_count": 1,
   "id": "ca690875",
   "metadata": {
    "id": "iNX852RehEpn",
    "outputId": "f48c7012-51f4-4801-f1e8-e65cefaee681"
   },
   "outputs": [
    {
     "name": "stdout",
     "output_type": "stream",
     "text": [
      "Hi\n",
      "D\n",
      "C\n",
      "A\n",
      "B\n",
      "A\n"
     ]
    }
   ],
   "source": [
    "print(\"Hi\")   \n",
    "\n",
    "def funcA() :  \n",
    "    print(\"A\")\n",
    "\n",
    "def funcB() :  \n",
    "    print(\"B\")\n",
    "    funcA()   \n",
    "\n",
    "def funcC() :\n",
    "    print(\"C\")\n",
    "    funcA()\n",
    "    funcB()\n",
    "\n",
    "print(\"D\")\n",
    "funcC()"
   ]
  },
  {
   "cell_type": "markdown",
   "id": "4d3c1ee1",
   "metadata": {},
   "source": [
    "**답**"
   ]
  },
  {
   "cell_type": "markdown",
   "id": "ca42c86b",
   "metadata": {},
   "source": [
    "코드는 윗줄의 명령문부터 차례대로 실행된다.\n",
    "따라서 아래 순서대로 명령문이 실행된다.\n",
    "\n",
    "- `print(\"Hi\")` 실행: `'Hi'` 출력\n",
    "- `funcA()`, `funcB()`, `funcC()` 세 개의 함수 정의\n",
    "- `print(\"D\")` 실행: `\"D\"` 출력\n",
    "- `funcC()` 호출\n",
    "    - `print(\"C\")` 실행. 따라서 `\"C\"` 출력\n",
    "    - `funcA()` 호출: \n",
    "        - `print(\"A\")` 실행. 따라서 `\"A\"` 출력\n",
    "    - `funcB()` 호출: \n",
    "        - `print(\"B\")` 실행. 따라서 `\"B\"` 출력 \n",
    "        - `funcA()` 호출: \n",
    "            - `print(\"A\")` 실행. 따라서 `\"A\"` 출력\n",
    "            \n",
    "따라서 아래 순서대로 화면에 출력된다.\n",
    "\n",
    "    Hi, D, C, A, B, A"
   ]
  },
  {
   "cell_type": "markdown",
   "id": "15b278ee",
   "metadata": {},
   "source": [
    "## 문제 2"
   ]
  },
  {
   "cell_type": "markdown",
   "id": "a13075d4",
   "metadata": {},
   "source": [
    "아래 코드를 실행할 때 발생하는 오류를 설명하라."
   ]
  },
  {
   "cell_type": "code",
   "execution_count": 2,
   "id": "e60bfb17",
   "metadata": {},
   "outputs": [
    {
     "ename": "NameError",
     "evalue": "name 'square' is not defined",
     "output_type": "error",
     "traceback": [
      "\u001b[0;31m---------------------------------------------------------------------------\u001b[0m",
      "\u001b[0;31mNameError\u001b[0m                                 Traceback (most recent call last)",
      "Cell \u001b[0;32mIn[2], line 8\u001b[0m\n\u001b[1;32m      5\u001b[0m number \u001b[38;5;241m=\u001b[39m \u001b[38;5;241m17\u001b[39m\n\u001b[1;32m      6\u001b[0m square17 \u001b[38;5;241m=\u001b[39m square_return(number)\n\u001b[0;32m----> 8\u001b[0m \u001b[38;5;28mprint\u001b[39m(number, \u001b[38;5;124m\"\u001b[39m\u001b[38;5;124m의 제곱을 계산한\u001b[39m\u001b[38;5;124m\"\u001b[39m, square17, \u001b[38;5;124m\"\u001b[39m\u001b[38;5;124m과\u001b[39m\u001b[38;5;124m\"\u001b[39m, square, \u001b[38;5;124m\"\u001b[39m\u001b[38;5;124m는 동일한 값을 가리킨다.\u001b[39m\u001b[38;5;124m\"\u001b[39m)\n",
      "\u001b[0;31mNameError\u001b[0m: name 'square' is not defined"
     ]
    }
   ],
   "source": [
    "def square_return(number):\n",
    "    square = number ** 2\n",
    "    return square\n",
    "\n",
    "number = 17\n",
    "square17 = square_return(number)\n",
    "\n",
    "print(number, \"의 제곱을 계산한\", square17, \"과\", square, \"는 동일한 값을 가리킨다.\")"
   ]
  },
  {
   "cell_type": "markdown",
   "id": "b8d786f9",
   "metadata": {},
   "source": [
    "**답**"
   ]
  },
  {
   "cell_type": "markdown",
   "id": "3a43f15e",
   "metadata": {},
   "source": [
    "위 코드 마지막 줄의 `print()` 함수의 다섯번 째 인자로 상요된 `square` 변수가\n",
    "정의되지 않았다는 의미의 `NameError` 오류가 발생했다.\n",
    "이유는 `square` 변수는 `square_return(number)`이 호출되어 `square_return()` 함수가\n",
    "인자 17과 함께 실행될 때에만 존재 의미가 있는데 이미 반환값이 정해지고 함수가 종료되었기 때문이다."
   ]
  },
  {
   "cell_type": "markdown",
   "id": "f5840087",
   "metadata": {},
   "source": [
    "## 문제 3"
   ]
  },
  {
   "cell_type": "markdown",
   "id": "6b3e81b6",
   "metadata": {},
   "source": [
    "아래 코드의 실행 결과를 설명하라.\n",
    "반복문 실행횟수는 얼마인가?"
   ]
  },
  {
   "cell_type": "code",
   "execution_count": null,
   "id": "87c8746c",
   "metadata": {
    "id": "m7hR5DCuhEpo",
    "outputId": "6fb5492e-f4cd-4f9d-bbbc-40f146e2e6e8"
   },
   "outputs": [],
   "source": [
    "def counter_func(num, limit) :\n",
    "    i = 1\n",
    "    while True :\n",
    "        print(i)\n",
    "        if i == limit :\n",
    "            return i\n",
    "        else:\n",
    "            print(\"=\" * i)\n",
    "            print(\"*\" * i)\n",
    "            i += 1\n",
    "        return num\n",
    "\n",
    "counter_func(100, 5)"
   ]
  },
  {
   "cell_type": "markdown",
   "id": "1838267c",
   "metadata": {},
   "source": [
    "**답**"
   ]
  },
  {
   "cell_type": "markdown",
   "id": "cdadf6ff",
   "metadata": {},
   "source": [
    "`counter_func(100, 5)`이 호출되면 함수의 본문이 차례대로 실행된다.\n",
    "`i = 1` 에서 시작하고 `while True` 반복문이 실행된다. \n",
    "논리식 `True`가 참이라 `while` 반복문이 무한 반복되어야 하는 것처럼 보인다.\n",
    "`print(i)`에 의해 1이 출력되고\n",
    "`if ... else ...` 조건문에서 `i == limit`가 거짓이기에 `else`의 본문이 실행되어\n",
    "`\"=\"`와 `\"*\"` 가 출력된다.\n",
    "\n",
    "그런데 바로 이어서 `return num` 이 실행되어 100을 반환하고 반복문을 비롯해서 \n",
    "함수의 실행이 완전히 종료된다."
   ]
  },
  {
   "cell_type": "markdown",
   "id": "33b9f9c3",
   "metadata": {},
   "source": [
    "## 문제 4"
   ]
  },
  {
   "cell_type": "markdown",
   "id": "b61506d5",
   "metadata": {
    "id": "MTVs3VVPyzcU"
   },
   "source": [
    "문자열과 자연수를 인자로 받아, 문자열을 자연수만큼 반복 출력하는 함수\n",
    "`str_n()`를 구현하려 한다.\n",
    "매개 변수는 2개를 사용한다.\n",
    "\n",
    "- `text`: 첫째 인자. 문자열을 인자로 사용.\n",
    "- `num`: 둘째 인자. 양의 정수를 인자로 사용. 기본 키워드 인자로 1 지정.\n",
    "\n",
    "\n",
    "예를 들어 `str_n(\"Hello \", 3)`를 실행하면 다음처럼 출력돼야 한다.\n",
    "\n",
    "```\n",
    "Hello Hello Hello \n",
    "```\n",
    "\n",
    "반면에 `str_n(\"Hello \")`를 실행하면 다음처럼 출력돼야 한다.\n",
    "\n",
    "```\n",
    "Hello \n",
    "```\n",
    "\n",
    "힌트: `print()` 함수 활용"
   ]
  },
  {
   "cell_type": "markdown",
   "id": "09d9d1ff",
   "metadata": {},
   "source": [
    "**답**"
   ]
  },
  {
   "cell_type": "code",
   "execution_count": 4,
   "id": "29c76de7",
   "metadata": {},
   "outputs": [],
   "source": [
    "def str_n(text, num=1):\n",
    "    print(text * num)"
   ]
  },
  {
   "cell_type": "code",
   "execution_count": 5,
   "id": "ff5c0435",
   "metadata": {},
   "outputs": [
    {
     "name": "stdout",
     "output_type": "stream",
     "text": [
      "Hello Hello Hello \n"
     ]
    }
   ],
   "source": [
    "str_n(\"Hello \", 3)"
   ]
  },
  {
   "cell_type": "code",
   "execution_count": 6,
   "id": "5f3f888e",
   "metadata": {},
   "outputs": [
    {
     "name": "stdout",
     "output_type": "stream",
     "text": [
      "Hello \n"
     ]
    }
   ],
   "source": [
    "str_n(\"Hello \")"
   ]
  },
  {
   "cell_type": "markdown",
   "id": "61fa1966",
   "metadata": {
    "id": "MTVs3VVPyzcU"
   },
   "source": [
    "## 문제 5"
   ]
  },
  {
   "cell_type": "markdown",
   "id": "d89d072d",
   "metadata": {
    "id": "LI2MPm0oix4t"
   },
   "source": [
    "정수 `num`을 인자로 해서 호출되었을 때, 1의 자릿수가 3의 배수이면 입력값의 세 배를, \n",
    "아니면 두 배를 반환하는 함수 `three_or_not()` 함수를 구현하라.\n",
    "매개 변수는 `num` 하나만 사용한다.\n",
    "\n",
    "힌트: `if ... else ...` 조건문과 나머지 연산자 `%` 활용"
   ]
  },
  {
   "cell_type": "markdown",
   "id": "2dec5c69",
   "metadata": {},
   "source": [
    "**답**"
   ]
  },
  {
   "cell_type": "markdown",
   "id": "8dd2f32a",
   "metadata": {},
   "source": [
    "정수의 1의 자릿수는 10으로 나눴을 때의 나머지이다. "
   ]
  },
  {
   "cell_type": "code",
   "execution_count": 8,
   "id": "28b034b2",
   "metadata": {},
   "outputs": [
    {
     "data": {
      "text/plain": [
       "3"
      ]
     },
     "execution_count": 8,
     "metadata": {},
     "output_type": "execute_result"
    }
   ],
   "source": [
    "123 % 10"
   ]
  },
  {
   "cell_type": "code",
   "execution_count": 9,
   "id": "0a8cbe22",
   "metadata": {},
   "outputs": [
    {
     "data": {
      "text/plain": [
       "7"
      ]
     },
     "execution_count": 9,
     "metadata": {},
     "output_type": "execute_result"
    }
   ],
   "source": [
    "27 % 10"
   ]
  },
  {
   "cell_type": "markdown",
   "id": "da197a8e",
   "metadata": {},
   "source": [
    "3의 배수 여부는 3으로 나눈 나머지가 0이냐에 의해 결정된다.\n",
    "따라서 `num`을 10으로 나눴을 때의 나머지에 대해 3의 배수 여부를 확인하고\n",
    "그에 따라 `num`의 3배수 또는 2배수를 반환값으로 지정한다."
   ]
  },
  {
   "cell_type": "code",
   "execution_count": 10,
   "id": "554dcd24",
   "metadata": {
    "id": "Zy1oRDipLoZk"
   },
   "outputs": [],
   "source": [
    "def three_or_not(num):\n",
    "    unit = num % 10\n",
    "    if unit % 3 == 0:\n",
    "        return num * 3\n",
    "    else:\n",
    "        return num * 2"
   ]
  },
  {
   "cell_type": "code",
   "execution_count": 11,
   "id": "4061bf2f",
   "metadata": {
    "colab": {
     "base_uri": "https://localhost:8080/"
    },
    "executionInfo": {
     "elapsed": 591,
     "status": "ok",
     "timestamp": 1616980079158,
     "user": {
      "displayName": "HJ Kim",
      "photoUrl": "",
      "userId": "16634276932240017990"
     },
     "user_tz": -540
    },
    "id": "LoH5ptaxhPTh",
    "outputId": "203743fb-f4c4-486a-ab8c-c891cc24d1c9"
   },
   "outputs": [
    {
     "data": {
      "text/plain": [
       "39"
      ]
     },
     "execution_count": 11,
     "metadata": {},
     "output_type": "execute_result"
    }
   ],
   "source": [
    "three_or_not(13)"
   ]
  },
  {
   "cell_type": "code",
   "execution_count": 12,
   "id": "a3153f7a",
   "metadata": {
    "colab": {
     "base_uri": "https://localhost:8080/"
    },
    "executionInfo": {
     "elapsed": 591,
     "status": "ok",
     "timestamp": 1616980079158,
     "user": {
      "displayName": "HJ Kim",
      "photoUrl": "",
      "userId": "16634276932240017990"
     },
     "user_tz": -540
    },
    "id": "LoH5ptaxhPTh",
    "outputId": "203743fb-f4c4-486a-ab8c-c891cc24d1c9"
   },
   "outputs": [
    {
     "data": {
      "text/plain": [
       "48"
      ]
     },
     "execution_count": 12,
     "metadata": {},
     "output_type": "execute_result"
    }
   ],
   "source": [
    "three_or_not(24)"
   ]
  },
  {
   "cell_type": "markdown",
   "id": "26e1bd70",
   "metadata": {
    "id": "MTVs3VVPyzcU"
   },
   "source": [
    "## 문제 6"
   ]
  },
  {
   "cell_type": "markdown",
   "id": "4efd798f",
   "metadata": {
    "id": "0f28acc8"
   },
   "source": [
    "정수 인자와 함께 호출되어 인자가 짝수일 때는 1, 홀수일 때는 0을 반환하는 함수 `even_odd()`를 구현하라.\n",
    "매개 변수는 `num` 하나만 사용한다.\n",
    "\n",
    "힌트: `if ... else ...` 조건문과 나머지 연산자 `%` 활용"
   ]
  },
  {
   "cell_type": "markdown",
   "id": "9aa0ff31",
   "metadata": {},
   "source": [
    "**답**"
   ]
  },
  {
   "cell_type": "markdown",
   "id": "d1720831",
   "metadata": {},
   "source": [
    "`num`의 인자로 지정되는 정수의 짝수, 홀수 여부는 2로 나눈 나머지가 0인지, 1인지에 의해 결정된다.\n",
    "따라서 `num % 2 == 0` 논리식의 진릿값에 따른 `if` 조건문을 아래처럼 사용한다."
   ]
  },
  {
   "cell_type": "code",
   "execution_count": 14,
   "id": "df6c769e",
   "metadata": {
    "id": "d6973d68"
   },
   "outputs": [],
   "source": [
    "def even_odd(num):\n",
    "    if num % 2 == 0:\n",
    "        answer = 1\n",
    "    else:\n",
    "        answer = 0  \n",
    "      \n",
    "    return answer"
   ]
  },
  {
   "cell_type": "code",
   "execution_count": 15,
   "id": "e930a754",
   "metadata": {},
   "outputs": [
    {
     "data": {
      "text/plain": [
       "1"
      ]
     },
     "execution_count": 15,
     "metadata": {},
     "output_type": "execute_result"
    }
   ],
   "source": [
    "even_odd(10)"
   ]
  },
  {
   "cell_type": "code",
   "execution_count": 16,
   "id": "657eda9b",
   "metadata": {},
   "outputs": [
    {
     "data": {
      "text/plain": [
       "0"
      ]
     },
     "execution_count": 16,
     "metadata": {},
     "output_type": "execute_result"
    }
   ],
   "source": [
    "even_odd(11)"
   ]
  },
  {
   "cell_type": "markdown",
   "id": "766c90ad",
   "metadata": {},
   "source": [
    "참고로 `True`는 정수 1로, `False`는 정수 0으로 간주되기도 한다.\n",
    "형변환 함수 `int()`를 이용하여 확인할 수 있다."
   ]
  },
  {
   "cell_type": "code",
   "execution_count": 17,
   "id": "9b10ba87",
   "metadata": {},
   "outputs": [
    {
     "data": {
      "text/plain": [
       "1"
      ]
     },
     "execution_count": 17,
     "metadata": {},
     "output_type": "execute_result"
    }
   ],
   "source": [
    "int(True)"
   ]
  },
  {
   "cell_type": "code",
   "execution_count": 18,
   "id": "19f9293a",
   "metadata": {},
   "outputs": [
    {
     "data": {
      "text/plain": [
       "0"
      ]
     },
     "execution_count": 18,
     "metadata": {},
     "output_type": "execute_result"
    }
   ],
   "source": [
    "int(False)"
   ]
  },
  {
   "cell_type": "markdown",
   "id": "6ef27f12",
   "metadata": {},
   "source": [
    "이 성질을 이용하면 `even_odd()` 함수를 아래처럼 보다 간단하게 정의할 수 있다."
   ]
  },
  {
   "cell_type": "code",
   "execution_count": 19,
   "id": "6561bba7",
   "metadata": {
    "id": "d6973d68"
   },
   "outputs": [],
   "source": [
    "def even_odd(num):\n",
    "    return int(num % 2 == 0)"
   ]
  },
  {
   "cell_type": "code",
   "execution_count": 20,
   "id": "cf5d630e",
   "metadata": {},
   "outputs": [
    {
     "data": {
      "text/plain": [
       "1"
      ]
     },
     "execution_count": 20,
     "metadata": {},
     "output_type": "execute_result"
    }
   ],
   "source": [
    "even_odd(10)"
   ]
  },
  {
   "cell_type": "code",
   "execution_count": 21,
   "id": "45a2a378",
   "metadata": {},
   "outputs": [
    {
     "data": {
      "text/plain": [
       "0"
      ]
     },
     "execution_count": 21,
     "metadata": {},
     "output_type": "execute_result"
    }
   ],
   "source": [
    "even_odd(11)"
   ]
  },
  {
   "cell_type": "markdown",
   "id": "50783201",
   "metadata": {},
   "source": [
    "`even_odd()` 함수를 이용하여 짝수, 홀수 여부를 판단한 결과를 다른 명령문에 활용할 있다.\n",
    "예를 들어, 아래 `divide_by_2()` 함수는 짝수면 2로 나누고, 홀수면 1을 더한 값을 2로 나눈다.\n",
    "\n",
    "함수 본문의 `if ... ` 조건문의 논리식으로 굳이 정수를 부울값으로 형변화는 함수인 `bool()`을 사용할 필요는 없다.\n",
    "이는 파이썬 실행기가 0은 `False`로 0이 아니면 `True`로 처리하기 때문이다."
   ]
  },
  {
   "cell_type": "code",
   "execution_count": 22,
   "id": "34ebb7f8",
   "metadata": {},
   "outputs": [],
   "source": [
    "def divide_by_2(num):\n",
    "    if even_odd(num):\n",
    "        return num // 2\n",
    "    else:\n",
    "        return (num + 1) // 2"
   ]
  },
  {
   "cell_type": "code",
   "execution_count": 23,
   "id": "4ec3851e",
   "metadata": {},
   "outputs": [
    {
     "data": {
      "text/plain": [
       "6"
      ]
     },
     "execution_count": 23,
     "metadata": {},
     "output_type": "execute_result"
    }
   ],
   "source": [
    "divide_by_2(11)"
   ]
  },
  {
   "cell_type": "code",
   "execution_count": 24,
   "id": "59eec365",
   "metadata": {},
   "outputs": [
    {
     "data": {
      "text/plain": [
       "6"
      ]
     },
     "execution_count": 24,
     "metadata": {},
     "output_type": "execute_result"
    }
   ],
   "source": [
    "divide_by_2(12)"
   ]
  },
  {
   "cell_type": "markdown",
   "id": "9eaaf740",
   "metadata": {},
   "source": [
    "## 문제 7"
   ]
  },
  {
   "cell_type": "markdown",
   "id": "40652a67",
   "metadata": {},
   "source": [
    "[(필수 예제) 함수](https://colab.research.google.com/github/codingalzi/pybook/blob/master/examples/examples-functions.ipynb#scrollTo=8ca4c478)에서 살펴 본 아래 함수는 \n",
    "양의 정수 `n`과 함께 호출되면 `n x n` 모양의 격자무늬를 출력한다.\n",
    "단, `while` 반복문 대신에 `for` 반복문과 `range()` 함수가 사용되었다."
   ]
  },
  {
   "cell_type": "code",
   "execution_count": 4,
   "id": "3e1c28f1",
   "metadata": {},
   "outputs": [],
   "source": [
    "pm = \"+ - - \"\n",
    "ps = \"|     \"\n",
    "plus_sign = \"+\"\n",
    "pipe_sign = \"|\"\n",
    "\n",
    "def print_pm(n):\n",
    "    print(pm * n + plus_sign)\n",
    "\n",
    "def print_ps(n):\n",
    "    ps_line = ps * n + pipe_sign\n",
    "    print(ps_line, ps_line, sep=\"\\n\")\n",
    "\n",
    "def grid(n):\n",
    "    for count in range(n):\n",
    "        print_pm(n)\n",
    "        print_ps(n)\n",
    "        count += 1\n",
    "        \n",
    "    print_pm(n)"
   ]
  },
  {
   "cell_type": "code",
   "execution_count": 5,
   "id": "2f27b75e",
   "metadata": {},
   "outputs": [
    {
     "name": "stdout",
     "output_type": "stream",
     "text": [
      "+ - - + - - + - - +\n",
      "|     |     |     |\n",
      "|     |     |     |\n",
      "+ - - + - - + - - +\n",
      "|     |     |     |\n",
      "|     |     |     |\n",
      "+ - - + - - + - - +\n",
      "|     |     |     |\n",
      "|     |     |     |\n",
      "+ - - + - - + - - +\n"
     ]
    }
   ],
   "source": [
    "grid(3)"
   ]
  },
  {
   "cell_type": "markdown",
   "id": "5bf19145",
   "metadata": {},
   "source": [
    "위 `grid()` 함수를 일반화하여 직사각형 모양의 격자무늬를 출력하는\n",
    "`grid_gen()` 함수를 구현하라.\n",
    "사용되는 두 개의 매개 변수와 반환값은 다음과 같아야 한다.\n",
    "\n",
    "- `n`: 세로 격자 칸 개수\n",
    "- `m`: 가로 격자 칸 개수\n",
    "-  반환값: `n*m`\n",
    "\n",
    "또한, 예를 들어, `grid_gen(2, 3)` 을 실행하면 아래 모양의 격자를 그려야 한다.\n",
    "\n",
    "```\n",
    "+ - - + - - + - - +\n",
    "|     |     |     |\n",
    "|     |     |     |\n",
    "+ - - + - - + - - +\n",
    "|     |     |     |\n",
    "|     |     |     |\n",
    "+ - - + - - + - - +\n",
    "```\n",
    "\n",
    "힌트: `grid()` 함수에 매개 변수 `m`을 추가할 때 어느 부분을 수정해야 하는지 알아낸다."
   ]
  },
  {
   "cell_type": "markdown",
   "id": "340f4544",
   "metadata": {},
   "source": [
    "**답**"
   ]
  },
  {
   "cell_type": "markdown",
   "id": "4196724f",
   "metadata": {},
   "source": [
    "`grid(n)`이 호출되었을 때 격자 칸의 가로, 세로 개수가 `n`에 의해 결정된다.\n",
    "이에 대한 보다 자세한 설명은\n",
    "[(필수 예제) 함수](https://colab.research.google.com/github/codingalzi/pybook/blob/master/examples/examples-functions.ipynb#scrollTo=8ca4c478)를\n",
    "참고한다.\n",
    "\n",
    "- 가로 격자 칸 개수: `print_pm(n)` 과 `print_ps(n)`에서의 `n`에 의해 결정됨\n",
    "- 세로 격자 칸 개수: `for count in range(n)`에서의 `n`에 의해 결정됨.\n",
    "\n",
    "따라서 가로와 세로의 격자 칸 개수를 달리 하려면 \n",
    "앞서 언급된 두 부분에서의 `n`의 사용을 달리 해야 한다.\n",
    "아래 코드는 `n`은 세로 격자 칸 개수를, `m`은 가로 격자 칸 개수를 지정한다."
   ]
  },
  {
   "cell_type": "code",
   "execution_count": 7,
   "id": "79a72f00",
   "metadata": {},
   "outputs": [],
   "source": [
    "pm = \"+ - - \"\n",
    "ps = \"|     \"\n",
    "plus_sign = \"+\"\n",
    "pipe_sign = \"|\"\n",
    "\n",
    "def print_pm(m):              # m: 가로 격자 칸 개수\n",
    "    print(pm * m + plus_sign)\n",
    "\n",
    "def print_ps(m):\n",
    "    ps_line = ps * m + pipe_sign\n",
    "    print(ps_line, ps_line, sep=\"\\n\")\n",
    "\n",
    "def grid_gen(n, m):\n",
    "    for count in range(n):         # n: 세로 격자 칸 개수\n",
    "        print_pm(m)\n",
    "        print_ps(m)\n",
    "        count += 1\n",
    "        \n",
    "    print_pm(m)\n",
    "    \n",
    "    return n * m            # 반환값: 격자 칸 수"
   ]
  },
  {
   "cell_type": "code",
   "execution_count": 8,
   "id": "33f81c53",
   "metadata": {},
   "outputs": [
    {
     "name": "stdout",
     "output_type": "stream",
     "text": [
      "+ - - + - - + - - +\n",
      "|     |     |     |\n",
      "|     |     |     |\n",
      "+ - - + - - + - - +\n",
      "|     |     |     |\n",
      "|     |     |     |\n",
      "+ - - + - - + - - +\n"
     ]
    },
    {
     "data": {
      "text/plain": [
       "6"
      ]
     },
     "execution_count": 8,
     "metadata": {},
     "output_type": "execute_result"
    }
   ],
   "source": [
    "grid_gen(2, 3)"
   ]
  },
  {
   "cell_type": "code",
   "execution_count": 9,
   "id": "07d7808c",
   "metadata": {},
   "outputs": [
    {
     "name": "stdout",
     "output_type": "stream",
     "text": [
      "+ - - + - - + - - + - - + - - +\n",
      "|     |     |     |     |     |\n",
      "|     |     |     |     |     |\n",
      "+ - - + - - + - - + - - + - - +\n",
      "|     |     |     |     |     |\n",
      "|     |     |     |     |     |\n",
      "+ - - + - - + - - + - - + - - +\n",
      "|     |     |     |     |     |\n",
      "|     |     |     |     |     |\n",
      "+ - - + - - + - - + - - + - - +\n"
     ]
    },
    {
     "data": {
      "text/plain": [
       "15"
      ]
     },
     "execution_count": 9,
     "metadata": {},
     "output_type": "execute_result"
    }
   ],
   "source": [
    "grid_gen(3, 5)"
   ]
  }
 ],
 "metadata": {
  "kernelspec": {
   "display_name": "Python 3 (ipykernel)",
   "language": "python",
   "name": "python3"
  },
  "language_info": {
   "codemirror_mode": {
    "name": "ipython",
    "version": 3
   },
   "file_extension": ".py",
   "mimetype": "text/x-python",
   "name": "python",
   "nbconvert_exporter": "python",
   "pygments_lexer": "ipython3",
   "version": "3.11.5"
  }
 },
 "nbformat": 4,
 "nbformat_minor": 5
}
