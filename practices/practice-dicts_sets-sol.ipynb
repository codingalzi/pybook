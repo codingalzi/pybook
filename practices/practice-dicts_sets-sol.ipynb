{
 "cells": [
  {
   "cell_type": "markdown",
   "id": "bd286fa2",
   "metadata": {
    "id": "bd286fa2"
   },
   "source": [
    "# (실습) 사전과 집합"
   ]
  },
  {
   "cell_type": "markdown",
   "id": "42933be1",
   "metadata": {
    "id": "5140d50d"
   },
   "source": [
    "**참고 사항**\n",
    "\n",
    "먼저\n",
    "[사전과 집합](https://codingalzi.github.io/pybook/dicts_sets.html)의 내용과\n",
    "[(필수 예제) 사전과 집합](https://colab.research.google.com/github/codingalzi/pybook/blob/master/examples/examples-dicts_sets.ipynb)의 예제들을 학습하세요."
   ]
  },
  {
   "cell_type": "markdown",
   "id": "303aae45",
   "metadata": {
    "id": "a0a20bd6"
   },
   "source": [
    "**주의 사항**\n",
    "\n",
    "* 기존에 작성된 코드 셀과 텍스트 셀은 수정하지 않는다.\n",
    "* 필요한 경우 코드 셀 또는 텍스트 셀을 추가해서 사용한다.\n",
    "* 실습 파일을 제출할 때 구글 드라이브의 링크를 이용하여 누구나 공유할 수 있도록 설정한다."
   ]
  },
  {
   "cell_type": "markdown",
   "id": "82a02223",
   "metadata": {},
   "source": [
    "## 문제 1"
   ]
  },
  {
   "cell_type": "markdown",
   "id": "cc99c3f3",
   "metadata": {},
   "source": [
    "아래 코드 중 오류가 발생하는 코드를 예측하여 말하고, 코드를 실행시켜 확인하여라."
   ]
  },
  {
   "cell_type": "markdown",
   "id": "20e08279",
   "metadata": {
    "id": "OdOlcBksTkyo"
   },
   "source": [
    "**질문 1**"
   ]
  },
  {
   "cell_type": "code",
   "execution_count": 1,
   "id": "86cd5506",
   "metadata": {
    "colab": {
     "base_uri": "https://localhost:8080/"
    },
    "executionInfo": {
     "elapsed": 684,
     "status": "ok",
     "timestamp": 1618200989690,
     "user": {
      "displayName": "HJ Kim",
      "photoUrl": "",
      "userId": "16634276932240017990"
     },
     "user_tz": -540
    },
    "id": "IV1uIWQ7S0pD",
    "outputId": "d8995cf9-a617-4d27-c71f-526ea12818f1"
   },
   "outputs": [
    {
     "data": {
      "text/plain": [
       "{(1, 2): 'a'}"
      ]
     },
     "execution_count": 1,
     "metadata": {},
     "output_type": "execute_result"
    }
   ],
   "source": [
    "dic5 = {(1, 2) : 'a'}\n",
    "dic5"
   ]
  },
  {
   "cell_type": "markdown",
   "id": "a629ee28",
   "metadata": {},
   "source": [
    "**답**"
   ]
  },
  {
   "cell_type": "markdown",
   "id": "25b1a136",
   "metadata": {},
   "source": [
    "사전의 키는 해시 가능해야 하는데, 해시 가능한 항목으로 구성된 튜플은 해시 가능하다.\n",
    "`(1, 2)`는 해시 가능한 정수로 구성된 튜플이기에 해시 가능하다."
   ]
  },
  {
   "cell_type": "code",
   "execution_count": 2,
   "id": "d0f01aed",
   "metadata": {},
   "outputs": [
    {
     "data": {
      "text/plain": [
       "-3550055125485641917"
      ]
     },
     "execution_count": 2,
     "metadata": {},
     "output_type": "execute_result"
    }
   ],
   "source": [
    "hash((1, 2))"
   ]
  },
  {
   "cell_type": "markdown",
   "id": "7b4d41d5",
   "metadata": {
    "id": "OdOlcBksTkyo"
   },
   "source": [
    "**질문 2**"
   ]
  },
  {
   "cell_type": "code",
   "execution_count": 3,
   "id": "3a0da66b",
   "metadata": {
    "colab": {
     "base_uri": "https://localhost:8080/",
     "height": 186
    },
    "executionInfo": {
     "elapsed": 840,
     "status": "error",
     "timestamp": 1618201072771,
     "user": {
      "displayName": "HJ Kim",
      "photoUrl": "",
      "userId": "16634276932240017990"
     },
     "user_tz": -540
    },
    "id": "1PRBMLZ2S_aT",
    "outputId": "3cc5848b-9c80-469c-9fa8-5eaf471b2417"
   },
   "outputs": [
    {
     "ename": "TypeError",
     "evalue": "unhashable type: 'list'",
     "output_type": "error",
     "traceback": [
      "\u001b[0;31m---------------------------------------------------------------------------\u001b[0m",
      "\u001b[0;31mTypeError\u001b[0m                                 Traceback (most recent call last)",
      "Cell \u001b[0;32mIn[3], line 1\u001b[0m\n\u001b[0;32m----> 1\u001b[0m dic7 \u001b[38;5;241m=\u001b[39m {([\u001b[38;5;241m1\u001b[39m, \u001b[38;5;241m2\u001b[39m], \u001b[38;5;241m3\u001b[39m): \u001b[38;5;124m'\u001b[39m\u001b[38;5;124ma\u001b[39m\u001b[38;5;124m'\u001b[39m}\n\u001b[1;32m      2\u001b[0m dic7\n",
      "\u001b[0;31mTypeError\u001b[0m: unhashable type: 'list'"
     ]
    }
   ],
   "source": [
    "dic7 = {([1, 2], 3): 'a'}\n",
    "dic7"
   ]
  },
  {
   "cell_type": "markdown",
   "id": "07f520c4",
   "metadata": {},
   "source": [
    "**답**"
   ]
  },
  {
   "cell_type": "markdown",
   "id": "e45de6ff",
   "metadata": {},
   "source": [
    "사전의 키는 해시 가능해야 하는데, 해시 가능하지 않은 항목을 포함한 튜플은 해시 가능하지 않다.\n",
    "`([1, 2], 3)`는 해시 가능하지 않은 리스트를 항목으로 포함한 튜플이기에 해시 가능하지 않다."
   ]
  },
  {
   "cell_type": "code",
   "execution_count": 4,
   "id": "de721ccd",
   "metadata": {},
   "outputs": [
    {
     "ename": "TypeError",
     "evalue": "unhashable type: 'list'",
     "output_type": "error",
     "traceback": [
      "\u001b[0;31m---------------------------------------------------------------------------\u001b[0m",
      "\u001b[0;31mTypeError\u001b[0m                                 Traceback (most recent call last)",
      "Cell \u001b[0;32mIn[4], line 1\u001b[0m\n\u001b[0;32m----> 1\u001b[0m \u001b[38;5;28mhash\u001b[39m(([\u001b[38;5;241m1\u001b[39m, \u001b[38;5;241m2\u001b[39m], \u001b[38;5;241m3\u001b[39m))\n",
      "\u001b[0;31mTypeError\u001b[0m: unhashable type: 'list'"
     ]
    }
   ],
   "source": [
    "hash(([1, 2], 3))"
   ]
  },
  {
   "cell_type": "markdown",
   "id": "e08e082d",
   "metadata": {
    "id": "OdOlcBksTkyo"
   },
   "source": [
    "**질문 3**"
   ]
  },
  {
   "cell_type": "code",
   "execution_count": 5,
   "id": "07108f57",
   "metadata": {
    "colab": {
     "base_uri": "https://localhost:8080/"
    },
    "executionInfo": {
     "elapsed": 684,
     "status": "ok",
     "timestamp": 1618200989690,
     "user": {
      "displayName": "HJ Kim",
      "photoUrl": "",
      "userId": "16634276932240017990"
     },
     "user_tz": -540
    },
    "id": "IV1uIWQ7S0pD",
    "outputId": "d8995cf9-a617-4d27-c71f-526ea12818f1"
   },
   "outputs": [
    {
     "ename": "TypeError",
     "evalue": "unhashable type: 'list'",
     "output_type": "error",
     "traceback": [
      "\u001b[0;31m---------------------------------------------------------------------------\u001b[0m",
      "\u001b[0;31mTypeError\u001b[0m                                 Traceback (most recent call last)",
      "Cell \u001b[0;32mIn[5], line 1\u001b[0m\n\u001b[0;32m----> 1\u001b[0m dic5 \u001b[38;5;241m=\u001b[39m {[(\u001b[38;5;124m'\u001b[39m\u001b[38;5;124mabc\u001b[39m\u001b[38;5;124m'\u001b[39m, \u001b[38;5;241m7\u001b[39m), (\u001b[38;5;241m1\u001b[39m, \u001b[38;5;241m2\u001b[39m)] : \u001b[38;5;124m'\u001b[39m\u001b[38;5;124ma\u001b[39m\u001b[38;5;124m'\u001b[39m}\n\u001b[1;32m      2\u001b[0m dic5\n",
      "\u001b[0;31mTypeError\u001b[0m: unhashable type: 'list'"
     ]
    }
   ],
   "source": [
    "dic5 = {[('abc', 7), (1, 2)] : 'a'}\n",
    "dic5"
   ]
  },
  {
   "cell_type": "markdown",
   "id": "3aac0cdd",
   "metadata": {},
   "source": [
    "**답**"
   ]
  },
  {
   "cell_type": "markdown",
   "id": "ac3faaba",
   "metadata": {},
   "source": [
    "사전의 키는 해시 가능해야 하는데, 리스트는 해시 가능하지 않다."
   ]
  },
  {
   "cell_type": "code",
   "execution_count": 6,
   "id": "c9f9ac2c",
   "metadata": {},
   "outputs": [
    {
     "ename": "TypeError",
     "evalue": "unhashable type: 'list'",
     "output_type": "error",
     "traceback": [
      "\u001b[0;31m---------------------------------------------------------------------------\u001b[0m",
      "\u001b[0;31mTypeError\u001b[0m                                 Traceback (most recent call last)",
      "Cell \u001b[0;32mIn[6], line 1\u001b[0m\n\u001b[0;32m----> 1\u001b[0m \u001b[38;5;28mhash\u001b[39m([(\u001b[38;5;124m'\u001b[39m\u001b[38;5;124mabc\u001b[39m\u001b[38;5;124m'\u001b[39m, \u001b[38;5;241m7\u001b[39m), (\u001b[38;5;241m1\u001b[39m, \u001b[38;5;241m2\u001b[39m)])\n",
      "\u001b[0;31mTypeError\u001b[0m: unhashable type: 'list'"
     ]
    }
   ],
   "source": [
    "hash([('abc', 7), (1, 2)])"
   ]
  },
  {
   "cell_type": "markdown",
   "id": "6554199d",
   "metadata": {
    "id": "0932631b"
   },
   "source": [
    "## 문제 2"
   ]
  },
  {
   "cell_type": "markdown",
   "id": "1f6cea07",
   "metadata": {
    "id": "aa4161ad"
   },
   "source": [
    "다음 `participants` 변수는 모임일과 그날 참석한 사람들의 이름을 저장하는 사전을 가리킨다."
   ]
  },
  {
   "cell_type": "code",
   "execution_count": 7,
   "id": "1dbe4bce",
   "metadata": {
    "id": "2ee676cc"
   },
   "outputs": [],
   "source": [
    "participants = {'1월 3일' : ['현성', '문정', '현무', '강현'], \n",
    "                '2월 10일' : ['문정', '강현', '정훈'], \n",
    "                '3월 7일' : ['현성', '연아', '현무', '지아']}"
   ]
  },
  {
   "cell_type": "markdown",
   "id": "8e81f931",
   "metadata": {},
   "source": [
    "**질문 1**"
   ]
  },
  {
   "cell_type": "markdown",
   "id": "0d667df3",
   "metadata": {
    "id": "5a278630"
   },
   "source": [
    "이름과 날짜를 입력받아 해당일의 참석자 명단에 이름이 포함되어 있는지 여부를 반환하는\n",
    "`attended()` 함수를 작성하라.   \n",
    "단, 이름과 날짜 모두 문자열을 사용한다."
   ]
  },
  {
   "cell_type": "markdown",
   "id": "9b4109b9",
   "metadata": {},
   "source": [
    "**답**"
   ]
  },
  {
   "cell_type": "code",
   "execution_count": 8,
   "id": "b01c8c68",
   "metadata": {
    "id": "5afe29a5"
   },
   "outputs": [],
   "source": [
    "def attended(name, date):\n",
    "    return name in participants[date]"
   ]
  },
  {
   "cell_type": "code",
   "execution_count": 9,
   "id": "0a40b7ad",
   "metadata": {
    "id": "f7d7d317"
   },
   "outputs": [],
   "source": [
    "assert attended(\"현성\", '1월 3일') == True\n",
    "assert attended(\"찬호\", '3월 7일') == False"
   ]
  },
  {
   "cell_type": "markdown",
   "id": "5d137a5e",
   "metadata": {},
   "source": [
    "**질문 2**"
   ]
  },
  {
   "cell_type": "markdown",
   "id": "de9c6a1f",
   "metadata": {
    "id": "5a278630"
   },
   "source": [
    "이름과 날짜를 입력받아 해당일의 참석자 명단에 이름이 포함되어 있다면 아래 문장을 출력하는 \n",
    "`attended_number()` 함수를 작성하라.\n",
    "    \n",
    "    O월 O일에 O 명이 함께 참석했어요.\n",
    "    \n",
    "참석하지 않은 경우엔 아래 문장을 출력해야 한다.\n",
    "\n",
    "    참석하지 않았어요!"
   ]
  },
  {
   "cell_type": "markdown",
   "id": "eab0d1fc",
   "metadata": {},
   "source": [
    "**답**"
   ]
  },
  {
   "cell_type": "code",
   "execution_count": 10,
   "id": "e203006e",
   "metadata": {
    "id": "5afe29a5"
   },
   "outputs": [],
   "source": [
    "def attended_number(name, date):\n",
    "    if attended(name, date):\n",
    "        number = len(participants[date])-1\n",
    "        print(f\"{date}에 {number} 명이 함께 참석했어요\")\n",
    "    else:\n",
    "        print('참석하지 않았어요!')"
   ]
  },
  {
   "cell_type": "code",
   "execution_count": 11,
   "id": "a2b0e8e5",
   "metadata": {
    "id": "f7d7d317"
   },
   "outputs": [
    {
     "name": "stdout",
     "output_type": "stream",
     "text": [
      "1월 3일에 3 명이 함께 참석했어요\n"
     ]
    }
   ],
   "source": [
    "attended_number(\"현성\", '1월 3일')"
   ]
  },
  {
   "cell_type": "code",
   "execution_count": 12,
   "id": "0297eba7",
   "metadata": {
    "id": "f7d7d317"
   },
   "outputs": [
    {
     "name": "stdout",
     "output_type": "stream",
     "text": [
      "참석하지 않았어요!\n"
     ]
    }
   ],
   "source": [
    "attended_number(\"찬호\", '3월 7일')"
   ]
  },
  {
   "cell_type": "markdown",
   "id": "2934074c",
   "metadata": {
    "id": "faa26cd6"
   },
   "source": [
    "## 문제 3"
   ]
  },
  {
   "cell_type": "markdown",
   "id": "fd3bf547",
   "metadata": {
    "id": "ca952ba4"
   },
   "source": [
    "어느 반 학생들의 이름이 리스트로 주어졌다."
   ]
  },
  {
   "cell_type": "code",
   "execution_count": 13,
   "id": "e434a064",
   "metadata": {
    "id": "aed88923"
   },
   "outputs": [],
   "source": [
    "students = ['Apeach', 'Ryan', 'Muzi', 'Choonsik', 'Neo', 'Tube', 'Choonsik']"
   ]
  },
  {
   "cell_type": "markdown",
   "id": "0b6e7f9b",
   "metadata": {
    "id": "1b676b52"
   },
   "source": [
    "아래 사전처럼 번호와 이름을 키와 값으로 갖는 사전을 가리키는 변수 `students_dict`를 선언하라.\n",
    "단, 번호는 이름의 오름차순으로 부여되고, 동명이인은 무시한다.\n",
    "\n",
    "```python\n",
    "{1: 'Apeach', 2: 'Choonsik', 3: 'Muzi', 4: 'Neo', 5: 'Ryan', 6: 'Tube'}\n",
    "```\n",
    "\n",
    "힌트: `set()` 함수, `sorted()` 함수, `enumerate()` 함수 활용"
   ]
  },
  {
   "cell_type": "markdown",
   "id": "69173615",
   "metadata": {},
   "source": [
    "**답**"
   ]
  },
  {
   "cell_type": "markdown",
   "id": "905fe8f8",
   "metadata": {},
   "source": [
    "리스트는 순차 자료형이기에 중복을 허용한다.\n",
    "따라서 동명이인을 무시하기 위해 집합으로 변환한 다음에 다시 리스트로 변환한다."
   ]
  },
  {
   "cell_type": "code",
   "execution_count": 14,
   "id": "06911f04",
   "metadata": {},
   "outputs": [
    {
     "data": {
      "text/plain": [
       "['Choonsik', 'Apeach', 'Ryan', 'Tube', 'Neo', 'Muzi']"
      ]
     },
     "execution_count": 14,
     "metadata": {},
     "output_type": "execute_result"
    }
   ],
   "source": [
    "list(set(students))"
   ]
  },
  {
   "cell_type": "markdown",
   "id": "f0e20aeb",
   "metadata": {},
   "source": [
    "이제 `sorted()` 함수를 적용하면 알파벳 순서로 정렬된 리스트가 생성된다."
   ]
  },
  {
   "cell_type": "code",
   "execution_count": 15,
   "id": "8d61f562",
   "metadata": {},
   "outputs": [
    {
     "data": {
      "text/plain": [
       "['Apeach', 'Choonsik', 'Muzi', 'Neo', 'Ryan', 'Tube']"
      ]
     },
     "execution_count": 15,
     "metadata": {},
     "output_type": "execute_result"
    }
   ],
   "source": [
    "sorted(list(set(students)))"
   ]
  },
  {
   "cell_type": "markdown",
   "id": "7b716278",
   "metadata": {},
   "source": [
    "여기에 `enumerate()` 함수와 `dict()` 함수를 적용하면 원하는 모양의 사전이 생성된다."
   ]
  },
  {
   "cell_type": "code",
   "execution_count": 16,
   "id": "ba8b1659",
   "metadata": {},
   "outputs": [
    {
     "data": {
      "text/plain": [
       "{1: 'Apeach', 2: 'Choonsik', 3: 'Muzi', 4: 'Neo', 5: 'Ryan', 6: 'Tube'}"
      ]
     },
     "execution_count": 16,
     "metadata": {},
     "output_type": "execute_result"
    }
   ],
   "source": [
    "dict(enumerate(sorted(list(set(students))), start=1))"
   ]
  },
  {
   "cell_type": "markdown",
   "id": "b022a71a",
   "metadata": {
    "id": "8d72c674"
   },
   "source": [
    "## 문제 4"
   ]
  },
  {
   "cell_type": "markdown",
   "id": "96c12643",
   "metadata": {
    "id": "41c01768"
   },
   "source": [
    "어느 유료 주차장의 주차요금은 아래와 같이 계산된다.   \n",
    "1일 최대 비용은 24시간이 지나지 않았지만 주차요금이 4만원을 초과할 경우 부과된다.\n",
    "\n",
    "* 최초 30분: 2,000원\n",
    "* 30분 초과 후 10분마다: 500원\n",
    "* 1일(24시간) 최대: 40,000원   \n",
    "\n",
    "\n",
    "일반차량에 대한 입출차 기록이 리스트로 주어졌다."
   ]
  },
  {
   "cell_type": "code",
   "execution_count": 17,
   "id": "794be09d",
   "metadata": {
    "id": "eb201274"
   },
   "outputs": [],
   "source": [
    "car_in_out = ['07:30 1234 IN', \n",
    "              '07:35 2580 IN',\n",
    "              '08:15 0328 IN',\n",
    "              '08:45 2580 OUT',\n",
    "              '08:55 9876 IN',\n",
    "              '11:00 1597 IN',\n",
    "              '15:15 1234 OUT',\n",
    "              '21:00 0328 OUT',\n",
    "              '23:45 9876 OUT']"
   ]
  },
  {
   "cell_type": "markdown",
   "id": "d153c3c7",
   "metadata": {
    "id": "c13d654a"
   },
   "source": [
    "차량별로 주차시간과 주차요금이 사전 객체로 정리된 객체를 가리키는\n",
    "`car_parking_log` 변수를 선언하라.\n",
    "단, 아래 사항을 기록해둔 이중으로 중첩된 사전 객체를 생성해야 한다.\n",
    "\n",
    "* 차량번호는 차량 뒷번호 4자리를 기록하고, 동일한 차량번호는 없다.\n",
    "* 시간은 24시간제를 사용하고, 모든 차량은 00:00부터 23:59분 사이에 한 번씩만 입출차 한다.\n",
    "* 아직 출차하지 않은 차량에 대해서는 주차시간과 주차요금을 정리할 수 없다.  "
   ]
  },
  {
   "cell_type": "markdown",
   "id": "5163b16c",
   "metadata": {},
   "source": [
    "힌트: 위 리스트를 이용하여 생성된 사전은 다음과 같이 이중으로 중첩된 사전 객체이어야 한다."
   ]
  },
  {
   "cell_type": "code",
   "execution_count": 18,
   "id": "d1148e6e",
   "metadata": {
    "id": "edf60fb7"
   },
   "outputs": [],
   "source": [
    "answer = {'1234': {'IN': '07:30',\n",
    "                   'OUT': '15:15',\n",
    "                   'parking_duration': 465,\n",
    "                   'parking_fee': 24000},\n",
    "          '2580': {'IN': '07:35',\n",
    "                   'OUT': '08:45',\n",
    "                   'parking_duration': 70,\n",
    "                   'parking_fee': 4000},\n",
    "          '0328': {'IN': '08:15',\n",
    "                   'OUT': '21:00',\n",
    "                   'parking_duration': 765,\n",
    "                   'parking_fee': 39000},\n",
    "          '9876': {'IN': '08:55',\n",
    "                   'OUT': '23:45',\n",
    "                   'parking_duration': 890,\n",
    "                   'parking_fee': 40000},\n",
    "          '1597': {'IN': '11:00'}}"
   ]
  },
  {
   "cell_type": "markdown",
   "id": "e36c8326",
   "metadata": {},
   "source": [
    "**답**"
   ]
  },
  {
   "cell_type": "code",
   "execution_count": 19,
   "id": "ecf58045",
   "metadata": {},
   "outputs": [],
   "source": [
    "def parking_duration(car_in, car_out):\n",
    "    in_hour, in_min = car_in.split(':')\n",
    "    out_hour, out_min = car_out.split(':')\n",
    "    duration = (int(out_hour) * 60 + int(out_min)) - (int(in_hour)*60 + int(in_min))\n",
    "    return duration"
   ]
  },
  {
   "cell_type": "code",
   "execution_count": 20,
   "id": "4e84f754",
   "metadata": {},
   "outputs": [
    {
     "data": {
      "text/plain": [
       "465"
      ]
     },
     "execution_count": 20,
     "metadata": {},
     "output_type": "execute_result"
    }
   ],
   "source": [
    "parking_duration('07:30', '15:15')"
   ]
  },
  {
   "cell_type": "code",
   "execution_count": 21,
   "id": "e2114488",
   "metadata": {},
   "outputs": [
    {
     "data": {
      "text/plain": [
       "70"
      ]
     },
     "execution_count": 21,
     "metadata": {},
     "output_type": "execute_result"
    }
   ],
   "source": [
    "parking_duration('07:35', '08:45')"
   ]
  },
  {
   "cell_type": "code",
   "execution_count": 22,
   "id": "1198ace9",
   "metadata": {},
   "outputs": [],
   "source": [
    "def parking_fee(duration):\n",
    "    if duration <= 30:\n",
    "        fee = 2000\n",
    "    elif (duration - 30) % 10 == 0:\n",
    "        fee = 2000 + ((duration-30) // 10) * 500\n",
    "    else:\n",
    "        fee = 2000 + ((duration-30) // 10 + 1) * 500\n",
    "        \n",
    "    fee = min(fee, 40000)\n",
    "    return fee"
   ]
  },
  {
   "cell_type": "code",
   "execution_count": 23,
   "id": "0a3f83a8",
   "metadata": {},
   "outputs": [
    {
     "data": {
      "text/plain": [
       "24000"
      ]
     },
     "execution_count": 23,
     "metadata": {},
     "output_type": "execute_result"
    }
   ],
   "source": [
    "parking_fee(465)"
   ]
  },
  {
   "cell_type": "code",
   "execution_count": 24,
   "id": "9ff83b6c",
   "metadata": {},
   "outputs": [
    {
     "data": {
      "text/plain": [
       "4000"
      ]
     },
     "execution_count": 24,
     "metadata": {},
     "output_type": "execute_result"
    }
   ],
   "source": [
    "parking_fee(70)"
   ]
  },
  {
   "cell_type": "code",
   "execution_count": 25,
   "id": "bb645be2",
   "metadata": {},
   "outputs": [
    {
     "data": {
      "text/plain": [
       "[['07:30', '1234', 'IN'],\n",
       " ['07:35', '2580', 'IN'],\n",
       " ['08:15', '0328', 'IN'],\n",
       " ['08:45', '2580', 'OUT'],\n",
       " ['08:55', '9876', 'IN'],\n",
       " ['11:00', '1597', 'IN'],\n",
       " ['15:15', '1234', 'OUT'],\n",
       " ['21:00', '0328', 'OUT'],\n",
       " ['23:45', '9876', 'OUT']]"
      ]
     },
     "execution_count": 25,
     "metadata": {},
     "output_type": "execute_result"
    }
   ],
   "source": [
    "car_in_out_split = [item.split() for item in car_in_out]\n",
    "car_in_out_split"
   ]
  },
  {
   "cell_type": "code",
   "execution_count": 26,
   "id": "f1a6e34a",
   "metadata": {},
   "outputs": [
    {
     "data": {
      "text/plain": [
       "defaultdict(dict,\n",
       "            {'1234': {'IN': '07:30', 'OUT': '15:15'},\n",
       "             '2580': {'IN': '07:35', 'OUT': '08:45'},\n",
       "             '0328': {'IN': '08:15', 'OUT': '21:00'},\n",
       "             '9876': {'IN': '08:55', 'OUT': '23:45'},\n",
       "             '1597': {'IN': '11:00'}})"
      ]
     },
     "execution_count": 26,
     "metadata": {},
     "output_type": "execute_result"
    }
   ],
   "source": [
    "from collections import defaultdict\n",
    "\n",
    "car_parking_log = defaultdict(dict)\n",
    "\n",
    "for item in car_in_out_split:\n",
    "    car_parking_log[item[1]][item[2]] = item[0]\n",
    "\n",
    "car_parking_log"
   ]
  },
  {
   "cell_type": "code",
   "execution_count": 27,
   "id": "0bd84c8c",
   "metadata": {},
   "outputs": [],
   "source": [
    "for key, value in car_parking_log.items():\n",
    "    car_in = value['IN']\n",
    "    car_out = value.get('OUT')\n",
    "    if car_out:\n",
    "        duration = parking_duration(car_in, car_out)\n",
    "        fee = parking_fee(duration)\n",
    "        value['parking_duration'] = duration\n",
    "        value['parking_fee'] = fee"
   ]
  },
  {
   "cell_type": "code",
   "execution_count": 28,
   "id": "e9a882e1",
   "metadata": {
    "id": "5c5e9735"
   },
   "outputs": [
    {
     "data": {
      "text/plain": [
       "{'1234': {'IN': '07:30',\n",
       "  'OUT': '15:15',\n",
       "  'parking_duration': 465,\n",
       "  'parking_fee': 24000},\n",
       " '2580': {'IN': '07:35',\n",
       "  'OUT': '08:45',\n",
       "  'parking_duration': 70,\n",
       "  'parking_fee': 4000},\n",
       " '0328': {'IN': '08:15',\n",
       "  'OUT': '21:00',\n",
       "  'parking_duration': 765,\n",
       "  'parking_fee': 39000},\n",
       " '9876': {'IN': '08:55',\n",
       "  'OUT': '23:45',\n",
       "  'parking_duration': 890,\n",
       "  'parking_fee': 40000},\n",
       " '1597': {'IN': '11:00'}}"
      ]
     },
     "execution_count": 28,
     "metadata": {},
     "output_type": "execute_result"
    }
   ],
   "source": [
    "car_parking_log = dict(car_parking_log)\n",
    "\n",
    "car_parking_log"
   ]
  },
  {
   "cell_type": "markdown",
   "id": "66076edc",
   "metadata": {},
   "source": [
    "설명을 종합하여 하나의 코드로 정리하면 다음과 같다."
   ]
  },
  {
   "cell_type": "code",
   "execution_count": 29,
   "id": "0c6bd85b",
   "metadata": {},
   "outputs": [],
   "source": [
    "from collections import defaultdict\n",
    "\n",
    "def parking_duration(car_in, car_out):\n",
    "    in_hour, in_min = car_in.split(':')\n",
    "    out_hour, out_min = car_out.split(':')\n",
    "    duration = (int(out_hour) * 60 + int(out_min)) - (int(in_hour)*60 + int(in_min))\n",
    "    return duration\n",
    "\n",
    "def parking_fee(duration):\n",
    "    if duration <= 30:\n",
    "        fee = 2000\n",
    "    elif (duration - 30) % 10 == 0:\n",
    "        fee = 2000 + ((duration-30) // 10) * 500\n",
    "    else:\n",
    "        fee = 2000 + ((duration-30) // 10 + 1) * 500\n",
    "        \n",
    "    fee = min(fee, 40000)\n",
    "    return fee\n",
    "\n",
    "car_in_out_split = [item.split() for item in car_in_out]\n",
    "\n",
    "car_parking_log = defaultdict(dict)\n",
    "for item in car_in_out_split:\n",
    "    car_parking_log[item[1]][item[2]] = item[0]\n",
    "\n",
    "for key, value in car_parking_log.items():\n",
    "    car_in = value['IN']\n",
    "    car_out = value.get('OUT')\n",
    "    if car_out:\n",
    "        duration = parking_duration(car_in, car_out)\n",
    "        fee = parking_fee(duration)\n",
    "        value['parking_duration'] = duration\n",
    "        value['parking_fee'] = fee\n",
    "\n",
    "car_parking_log = dict(car_parking_log)"
   ]
  },
  {
   "cell_type": "code",
   "execution_count": 30,
   "id": "f5f1faee",
   "metadata": {},
   "outputs": [],
   "source": [
    "assert car_parking_log == answer"
   ]
  },
  {
   "cell_type": "markdown",
   "id": "0452fc9b",
   "metadata": {
    "id": "gaOaOgqCVDRc"
   },
   "source": [
    "## 문제 5"
   ]
  },
  {
   "cell_type": "markdown",
   "id": "18feb59b",
   "metadata": {
    "id": "O0N9QFrJYrpR"
   },
   "source": [
    "아래 리스트를 가리키는 변수 `odd_comp`를 리스트 조건제시법으로 정의하라.\n",
    "\n",
    "    [1, 5, 7, 11, 13, 17, 19]  \n",
    "\n",
    "힌트: 2의 배수와 3의 배수가 아닌 1에서 20사이의 정수들을 항목으로 갖는 리스트"
   ]
  },
  {
   "cell_type": "markdown",
   "id": "c605083c",
   "metadata": {
    "id": "rdXjj4TtW7Fk"
   },
   "source": [
    "**답**"
   ]
  },
  {
   "cell_type": "code",
   "execution_count": 56,
   "id": "8509b1b3",
   "metadata": {
    "colab": {
     "base_uri": "https://localhost:8080/"
    },
    "executionInfo": {
     "elapsed": 412,
     "status": "ok",
     "timestamp": 1714436164556,
     "user": {
      "displayName": "liga nega",
      "userId": "04505461106310941438"
     },
     "user_tz": -540
    },
    "id": "c9vXrJ5jCb1o",
    "outputId": "d6063f74-c862-4f3c-fb84-5d88ef7cc58b"
   },
   "outputs": [],
   "source": [
    "odd_comp = [ i for i in range(1,20) if i % 2 != 0 and i % 3 != 0 ]"
   ]
  },
  {
   "cell_type": "code",
   "execution_count": 57,
   "id": "87870020",
   "metadata": {
    "colab": {
     "base_uri": "https://localhost:8080/"
    },
    "executionInfo": {
     "elapsed": 412,
     "status": "ok",
     "timestamp": 1714436164556,
     "user": {
      "displayName": "liga nega",
      "userId": "04505461106310941438"
     },
     "user_tz": -540
    },
    "id": "c9vXrJ5jCb1o",
    "outputId": "d6063f74-c862-4f3c-fb84-5d88ef7cc58b"
   },
   "outputs": [
    {
     "data": {
      "text/plain": [
       "[1, 5, 7, 11, 13, 17, 19]"
      ]
     },
     "execution_count": 57,
     "metadata": {},
     "output_type": "execute_result"
    }
   ],
   "source": [
    "odd_comp"
   ]
  },
  {
   "cell_type": "markdown",
   "id": "d50edcdb",
   "metadata": {
    "id": "gaOaOgqCVDRc"
   },
   "source": [
    "## 문제 6"
   ]
  },
  {
   "cell_type": "markdown",
   "id": "6e11c1ae",
   "metadata": {
    "id": "3-giu8MsVDRX"
   },
   "source": [
    "6명의 정보가 다음과 같다."
   ]
  },
  {
   "cell_type": "code",
   "execution_count": 32,
   "id": "4f4a7c7a",
   "metadata": {
    "executionInfo": {
     "elapsed": 513,
     "status": "ok",
     "timestamp": 1714611074049,
     "user": {
      "displayName": "liga nega",
      "userId": "04505461106310941438"
     },
     "user_tz": -540
    },
    "id": "OTRtTsv1VDRX"
   },
   "outputs": [],
   "source": [
    "kgh = ['김강현', '010-1234-5678', 20, 172.3, '제주']\n",
    "whang = ['황현', '02-9871-1234', 19, 163.5, '서울']\n",
    "namgung = ['남세원', '010-3456-7891', 21, 156.7, '경기']\n",
    "choihs = ['최흥선', '070-4321-1111', 21, 187.2, '부산']\n",
    "sjkim = ['김현선', '010-3333-8888', 22, 164.6, '광주']\n",
    "ja = ['함중아', '010-7654-2345', 18, 178.3, '강원']"
   ]
  },
  {
   "cell_type": "code",
   "execution_count": 33,
   "id": "e8304099",
   "metadata": {
    "colab": {
     "base_uri": "https://localhost:8080/"
    },
    "executionInfo": {
     "elapsed": 4,
     "status": "ok",
     "timestamp": 1714611074049,
     "user": {
      "displayName": "liga nega",
      "userId": "04505461106310941438"
     },
     "user_tz": -540
    },
    "id": "CuT5NcBVVDRY",
    "outputId": "36cdf39c-406f-43ef-ac33-bef65de1d215"
   },
   "outputs": [
    {
     "data": {
      "text/plain": [
       "[['김강현', '010-1234-5678', 20, 172.3, '제주'],\n",
       " ['황현', '02-9871-1234', 19, 163.5, '서울'],\n",
       " ['남세원', '010-3456-7891', 21, 156.7, '경기'],\n",
       " ['최흥선', '070-4321-1111', 21, 187.2, '부산'],\n",
       " ['김현선', '010-3333-8888', 22, 164.6, '광주'],\n",
       " ['함중아', '010-7654-2345', 18, 178.3, '강원']]"
      ]
     },
     "execution_count": 33,
     "metadata": {},
     "output_type": "execute_result"
    }
   ],
   "source": [
    "info_list = [kgh, whang, namgung, choihs, sjkim, ja]\n",
    "info_list"
   ]
  },
  {
   "cell_type": "markdown",
   "id": "ae22a921",
   "metadata": {},
   "source": [
    "**질문 1**"
   ]
  },
  {
   "cell_type": "markdown",
   "id": "766fa2e2",
   "metadata": {
    "id": "rwL-eEcIVDRc"
   },
   "source": [
    "`info_list`에 포함된 6명의 이름과 해당 이름의 정보로 구성된 사전을 가리키는 `info_dict` 변수를 \n",
    "조건제시법을 이용하여 선언하라."
   ]
  },
  {
   "cell_type": "markdown",
   "id": "3f1a914e",
   "metadata": {},
   "source": [
    "**답**"
   ]
  },
  {
   "cell_type": "code",
   "execution_count": 34,
   "id": "120fbfa4",
   "metadata": {},
   "outputs": [],
   "source": [
    "info_dict = {people[0]:people[1:] for people in info_list}"
   ]
  },
  {
   "cell_type": "code",
   "execution_count": 35,
   "id": "fac6264e",
   "metadata": {},
   "outputs": [
    {
     "data": {
      "text/plain": [
       "{'김강현': ['010-1234-5678', 20, 172.3, '제주'],\n",
       " '황현': ['02-9871-1234', 19, 163.5, '서울'],\n",
       " '남세원': ['010-3456-7891', 21, 156.7, '경기'],\n",
       " '최흥선': ['070-4321-1111', 21, 187.2, '부산'],\n",
       " '김현선': ['010-3333-8888', 22, 164.6, '광주'],\n",
       " '함중아': ['010-7654-2345', 18, 178.3, '강원']}"
      ]
     },
     "execution_count": 35,
     "metadata": {},
     "output_type": "execute_result"
    }
   ],
   "source": [
    "info_dict    "
   ]
  },
  {
   "cell_type": "markdown",
   "id": "916c9b9c",
   "metadata": {},
   "source": [
    "**질문 2**"
   ]
  },
  {
   "cell_type": "markdown",
   "id": "9f750e46",
   "metadata": {},
   "source": [
    "`info_dict`를 이용해서 이름과 함께 원하는 정보를 지정하면 해당 정보를 알려주는 `info_book()` 함수를 정의하라.\n",
    "예를 들어 `info_book('김강현', '나이')`를 호출하면 김강현의 나이를,\n",
    "`info_book('김현선', '전화번호')`를 호출하면 김현선의 전화번호를 반환해야 한다.\n",
    "\n",
    "힌트: 아래 사전을 이용한다."
   ]
  },
  {
   "cell_type": "code",
   "execution_count": 36,
   "id": "90ab5f5c",
   "metadata": {},
   "outputs": [],
   "source": [
    "info_index = {'전화번호': 0,\n",
    "              '나이': 1,\n",
    "              '키':2,\n",
    "              '출생지':3}"
   ]
  },
  {
   "cell_type": "markdown",
   "id": "cb3c1bcd",
   "metadata": {},
   "source": [
    "**답**"
   ]
  },
  {
   "cell_type": "code",
   "execution_count": 37,
   "id": "b5ca4bec",
   "metadata": {},
   "outputs": [],
   "source": [
    "def info_book(name, info):\n",
    "    idx = info_index[info]\n",
    "    return info_dict[name][idx]"
   ]
  },
  {
   "cell_type": "code",
   "execution_count": 38,
   "id": "a2627144",
   "metadata": {},
   "outputs": [
    {
     "data": {
      "text/plain": [
       "20"
      ]
     },
     "execution_count": 38,
     "metadata": {},
     "output_type": "execute_result"
    }
   ],
   "source": [
    "info_book('김강현', '나이')"
   ]
  },
  {
   "cell_type": "code",
   "execution_count": 39,
   "id": "5e02fe4e",
   "metadata": {},
   "outputs": [
    {
     "data": {
      "text/plain": [
       "'010-3333-8888'"
      ]
     },
     "execution_count": 39,
     "metadata": {},
     "output_type": "execute_result"
    }
   ],
   "source": [
    "info_book('김현선', '전화번호')"
   ]
  },
  {
   "cell_type": "markdown",
   "id": "e3c764b5",
   "metadata": {},
   "source": [
    "## 문제 7"
   ]
  },
  {
   "cell_type": "markdown",
   "id": "b2f5a4f9",
   "metadata": {
    "id": "kmbiRMmjA6_a"
   },
   "source": [
    "아래 `item_price` 에는 음료와 과자의 가격이 들어 있다. "
   ]
  },
  {
   "cell_type": "code",
   "execution_count": 50,
   "id": "866275be",
   "metadata": {
    "id": "kmbiRMmjA6_a"
   },
   "outputs": [],
   "source": [
    "item_price = \"커피-1050원, 우유-870원, 밀크티-1300원, 새우과자-950원, 감자칩-1100원\""
   ]
  },
  {
   "cell_type": "markdown",
   "id": "db8078e2",
   "metadata": {},
   "source": [
    "**질문 1**"
   ]
  },
  {
   "cell_type": "markdown",
   "id": "edfcb78b",
   "metadata": {
    "id": "kmbiRMmjA6_a"
   },
   "source": [
    "아래 사전 객체를 가리키는 변수 `price_dict`를 선언하라.\n",
    "\n",
    "    {'커피' : 1050, '우유' : 870, '밀크티' : 1300, '새우과자' : 950, '감자칩' : 1100}"
   ]
  },
  {
   "cell_type": "markdown",
   "id": "ed62686a",
   "metadata": {},
   "source": [
    "**답**"
   ]
  },
  {
   "cell_type": "code",
   "execution_count": 51,
   "id": "d29bea07",
   "metadata": {},
   "outputs": [],
   "source": [
    "price_dict = dict()\n",
    "\n",
    "for it_pr in item_price.split(', '):\n",
    "    item, price = it_pr.split('-')\n",
    "    price_dict[item] = price"
   ]
  },
  {
   "cell_type": "code",
   "execution_count": 52,
   "id": "f2c1a72d",
   "metadata": {},
   "outputs": [
    {
     "data": {
      "text/plain": [
       "{'커피': '1050원', '우유': '870원', '밀크티': '1300원', '새우과자': '950원', '감자칩': '1100원'}"
      ]
     },
     "execution_count": 52,
     "metadata": {},
     "output_type": "execute_result"
    }
   ],
   "source": [
    "price_dict"
   ]
  },
  {
   "cell_type": "markdown",
   "id": "7931712d",
   "metadata": {},
   "source": [
    "또는"
   ]
  },
  {
   "cell_type": "code",
   "execution_count": 53,
   "id": "6a44a1ca",
   "metadata": {},
   "outputs": [],
   "source": [
    "price_dict = {it_pr.split('-')[0]: it_pr.split('-')[1] for it_pr in item_price.split(', ')}"
   ]
  },
  {
   "cell_type": "code",
   "execution_count": 54,
   "id": "c0a7c37a",
   "metadata": {},
   "outputs": [
    {
     "data": {
      "text/plain": [
       "{'커피': '1050원', '우유': '870원', '밀크티': '1300원', '새우과자': '950원', '감자칩': '1100원'}"
      ]
     },
     "execution_count": 54,
     "metadata": {},
     "output_type": "execute_result"
    }
   ],
   "source": [
    "price_dict"
   ]
  },
  {
   "cell_type": "markdown",
   "id": "0db38d34",
   "metadata": {},
   "source": [
    "**질문 2**"
   ]
  },
  {
   "cell_type": "markdown",
   "id": "0fd5524c",
   "metadata": {},
   "source": [
    "돈의 액수와 구매할 물건을 인자로 입력받았을 때 구매가격과 찾는 물품에 따라\n",
    "다음과 같이 출력하는 `vending_machine()` 함수를 선언하라.\n",
    "\n",
    "```\n",
    "잔돈 300원을 돌려 드립니다.\n",
    "500원 더 투입하세요.\n",
    "찾는 물품이 없습니다.\n",
    "```"
   ]
  },
  {
   "cell_type": "markdown",
   "id": "42ff43d3",
   "metadata": {},
   "source": [
    "**답**"
   ]
  },
  {
   "cell_type": "code",
   "execution_count": 45,
   "id": "db314f60",
   "metadata": {},
   "outputs": [],
   "source": [
    "def vending_machine(money, item):\n",
    "    if item in item_price_dict:\n",
    "        price = int(item_price_dict[item][:-1])\n",
    "        if price <= money:\n",
    "            print(f\"잔돈 {money  - price}원을 돌려 드립니다.\")\n",
    "        else:\n",
    "            print(f\"{price - money}원 더 투입하세요.\")\n",
    "    else:\n",
    "        print(\"찾는 물품이 없습니다.\")        "
   ]
  },
  {
   "cell_type": "code",
   "execution_count": 46,
   "id": "568dffcc",
   "metadata": {},
   "outputs": [
    {
     "name": "stdout",
     "output_type": "stream",
     "text": [
      "잔돈 950원을 돌려 드립니다.\n"
     ]
    }
   ],
   "source": [
    "vending_machine(2000, '커피')"
   ]
  },
  {
   "cell_type": "code",
   "execution_count": 47,
   "id": "e389eb13",
   "metadata": {},
   "outputs": [
    {
     "name": "stdout",
     "output_type": "stream",
     "text": [
      "50원 더 투입하세요.\n"
     ]
    }
   ],
   "source": [
    "vending_machine(1000, '커피')"
   ]
  },
  {
   "cell_type": "code",
   "execution_count": 48,
   "id": "b0db8a80",
   "metadata": {},
   "outputs": [
    {
     "name": "stdout",
     "output_type": "stream",
     "text": [
      "찾는 물품이 없습니다.\n"
     ]
    }
   ],
   "source": [
    "vending_machine(1000, '새우깡')"
   ]
  },
  {
   "cell_type": "markdown",
   "id": "fbdb7229",
   "metadata": {
    "id": "IVMgvZTidFz0"
   },
   "source": [
    "## 문제 8"
   ]
  },
  {
   "cell_type": "markdown",
   "id": "9789a3af",
   "metadata": {
    "id": "eoxWecFRS_25"
   },
   "source": [
    "리스트를 인자로 크기 내림차순으로 정렬한 리스트를 반환하는 함수\n",
    "`sort_elem()`를 구현하라.\n",
    "단, 중복 항목은 무시한다.\n",
    "\n",
    "```\n",
    "sort_elem([2, 5, 2, 3, 3, 8, 2, 7]) = [8, 7, 5, 3, 2]\n",
    "sort_elem([15, 3, 15, 1, 3]) = [15, 3, 1]\n",
    "```"
   ]
  },
  {
   "cell_type": "markdown",
   "id": "a61326d8",
   "metadata": {},
   "source": [
    "**답**"
   ]
  },
  {
   "cell_type": "code",
   "execution_count": 49,
   "id": "e3cf9249",
   "metadata": {
    "colab": {
     "base_uri": "https://localhost:8080/"
    },
    "id": "zzipN9zjKCSx",
    "outputId": "7463b911-fc6c-42f1-8ef7-95092ce436b5"
   },
   "outputs": [
    {
     "name": "stdout",
     "output_type": "stream",
     "text": [
      "[8, 7, 5, 3, 2]\n",
      "[15, 3, 1]\n"
     ]
    }
   ],
   "source": [
    "def sort_elem(xs):\n",
    "    return sorted(list(set(xs)), reverse=True)\n",
    "\n",
    "print(sort_elem([2, 5, 2, 3, 3, 8, 2, 7]))\n",
    "print(sort_elem([15, 3, 15, 1, 3]))"
   ]
  }
 ],
 "metadata": {
  "colab": {
   "provenance": []
  },
  "kernelspec": {
   "display_name": "Python 3 (ipykernel)",
   "language": "python",
   "name": "python3"
  },
  "language_info": {
   "codemirror_mode": {
    "name": "ipython",
    "version": 3
   },
   "file_extension": ".py",
   "mimetype": "text/x-python",
   "name": "python",
   "nbconvert_exporter": "python",
   "pygments_lexer": "ipython3",
   "version": "3.11.4"
  }
 },
 "nbformat": 4,
 "nbformat_minor": 5
}
