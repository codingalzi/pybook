{
 "cells": [
  {
   "cell_type": "markdown",
   "id": "2d03d247-e2d3-4afe-ab5e-83dc989ed62d",
   "metadata": {},
   "source": [
    "# (실습) 변수, 값, 표현식"
   ]
  },
  {
   "cell_type": "markdown",
   "id": "01c8fab8",
   "metadata": {},
   "source": [
    "**주의 사항**\n",
    "\n",
    "* 기존에 작성된 코드셀/텍스트셀은 수정하지 않는다.\n",
    "* 필요한 경우 코드셀 또는 텍스트셀을 추가할 수 있다.\n",
    "* 실습 파일을 구글 드라이브에서 링크로 누구가 공유할 수 있도록 설정하세요."
   ]
  },
  {
   "cell_type": "markdown",
   "id": "e583647c",
   "metadata": {},
   "source": [
    "## 문제 1"
   ]
  },
  {
   "cell_type": "markdown",
   "id": "df4f53a9",
   "metadata": {},
   "source": [
    "아래 문장들을 적절한 연산자를 이용한 표현식으로 작성한 다음 실행 결과를 확인하라."
   ]
  },
  {
   "cell_type": "markdown",
   "id": "d057d695",
   "metadata": {},
   "source": [
    "표현식 1: 정수 13에서 정수 19 빼기"
   ]
  },
  {
   "cell_type": "markdown",
   "id": "1f948bc8",
   "metadata": {},
   "source": [
    "**모범답안**"
   ]
  },
  {
   "cell_type": "markdown",
   "id": "f8325a1d",
   "metadata": {},
   "source": [
    "뺄셈 연산자를 활용한다."
   ]
  },
  {
   "cell_type": "code",
   "execution_count": 1,
   "id": "9593fe78",
   "metadata": {},
   "outputs": [
    {
     "data": {
      "text/plain": [
       "-6"
      ]
     },
     "execution_count": 1,
     "metadata": {},
     "output_type": "execute_result"
    }
   ],
   "source": [
    "13 - 19"
   ]
  },
  {
   "cell_type": "markdown",
   "id": "c1ab6b08",
   "metadata": {},
   "source": [
    "표현식 2: 정수 81을 정수 3으로 나누기"
   ]
  },
  {
   "cell_type": "markdown",
   "id": "d60f9b97",
   "metadata": {},
   "source": [
    "**모범답안**"
   ]
  },
  {
   "cell_type": "markdown",
   "id": "b4e58229",
   "metadata": {},
   "source": [
    "나눗셈 연산자를 활용한다. 결과는 항상 부동소수점이다."
   ]
  },
  {
   "cell_type": "code",
   "execution_count": 5,
   "id": "ba924506",
   "metadata": {},
   "outputs": [
    {
     "data": {
      "text/plain": [
       "27.0"
      ]
     },
     "execution_count": 5,
     "metadata": {},
     "output_type": "execute_result"
    }
   ],
   "source": [
    "81/3"
   ]
  },
  {
   "cell_type": "markdown",
   "id": "8b805139",
   "metadata": {},
   "source": [
    "표현식 3: 정수 100을 정수 7로 나눈 나머지"
   ]
  },
  {
   "cell_type": "markdown",
   "id": "69233582",
   "metadata": {},
   "source": [
    "**모범답안**"
   ]
  },
  {
   "cell_type": "markdown",
   "id": "e2bcfead",
   "metadata": {},
   "source": [
    "나머지 연산자를 활용한다. 결과는 항상 정수다."
   ]
  },
  {
   "cell_type": "code",
   "execution_count": 6,
   "id": "7fa8f20c",
   "metadata": {},
   "outputs": [
    {
     "data": {
      "text/plain": [
       "2"
      ]
     },
     "execution_count": 6,
     "metadata": {},
     "output_type": "execute_result"
    }
   ],
   "source": [
    "100 % 7"
   ]
  },
  {
   "cell_type": "markdown",
   "id": "ad4586c3",
   "metadata": {},
   "source": [
    "표현식 4: 정수 7.2의 세제곱"
   ]
  },
  {
   "cell_type": "markdown",
   "id": "2950d301",
   "metadata": {},
   "source": [
    "**모범답안**"
   ]
  },
  {
   "cell_type": "markdown",
   "id": "5dfe9ca4",
   "metadata": {},
   "source": [
    "거듭제곱 연산자를 활용한다.\n",
    "소수점 이하 맨끝자리에서 보이는 5는 부동소수점 연산의 한계를 보여준다.\n",
    "원래 0이어야 한다."
   ]
  },
  {
   "cell_type": "code",
   "execution_count": 7,
   "id": "c5f85a3d",
   "metadata": {},
   "outputs": [
    {
     "data": {
      "text/plain": [
       "373.24800000000005"
      ]
     },
     "execution_count": 7,
     "metadata": {},
     "output_type": "execute_result"
    }
   ],
   "source": [
    "7.2**3"
   ]
  },
  {
   "cell_type": "markdown",
   "id": "b86b5a2d",
   "metadata": {},
   "source": [
    "## 문제 2"
   ]
  },
  {
   "cell_type": "markdown",
   "id": "3e593c35",
   "metadata": {},
   "source": [
    "두 개의 부동소수점`x`와 `y`를 입력받아 두 수의 \n",
    "조화 평균을 아래 형식으로 출력하는 코드를 작성하여라.\n",
    "\n",
    "    2.4 와 5.7 의 조화평균: 3.38\n",
    "\n",
    "단, `x`와 `y`의 조화평균은 다음과 같이 계산하며, 소수점 이하 셋째 자리에서 반올림한다.\n",
    "\n",
    "    2 / (1/x + 1/y)\n",
    "\n",
    "힌트: `float()` 함수와 `round()` 함수 활용"
   ]
  },
  {
   "cell_type": "markdown",
   "id": "c3a77923",
   "metadata": {},
   "source": [
    "**모범답안**"
   ]
  },
  {
   "cell_type": "markdown",
   "id": "bb5f6ff5",
   "metadata": {},
   "source": [
    "사용자가 정수가 아닌 유한소수를 입력할 것을 예상해야 하기에\n",
    "`input()` 함수의 결과에 바로 `float()` 함수를 적용한다.\n",
    "그 다음에 평균값을 계산하여 지정된 방식으로 출력한다.\n",
    "단, `round()` 함수를 이용하여 소수점 이하의 자릿수를 2로 지정한다."
   ]
  },
  {
   "cell_type": "code",
   "execution_count": 16,
   "id": "59487f7d",
   "metadata": {},
   "outputs": [
    {
     "name": "stdout",
     "output_type": "stream",
     "text": [
      "첫째 유한소수를 입력하세요: 2.4\n",
      "둘째 유한소수를 입력하세요: 5.7\n",
      "2.4 와 5.7 의 조화평균: 3.38\n"
     ]
    }
   ],
   "source": [
    "x = float(input(\"첫째 유한소수를 입력하세요: \"))\n",
    "y = float(input(\"둘째 유한소수를 입력하세요: \"))\n",
    "\n",
    "# 평균값\n",
    "mean_harmony = 2 / (1/x + 1/y)\n",
    "\n",
    "print(x, \"와\", y, \"의 조화평균:\", round(mean_harmony, 2))"
   ]
  },
  {
   "cell_type": "markdown",
   "id": "a9e89030",
   "metadata": {},
   "source": [
    "## 문제 3"
   ]
  },
  {
   "cell_type": "markdown",
   "id": "0ec47e07",
   "metadata": {},
   "source": [
    "입력받은 두 유한소수의 나눗셈을 아래 지정된 형식으로 출력하는 코드를 작성한다.\n",
    "입력된 두 개의 유한소수는 각각 변수 `a`와 `b`에 저장한다.\n",
    "예를 들어 3.3과 5.8이 입력되면 아래처럼 화면에 출력한다.\n",
    "또한 계산 결과는 소수점 이하 셋째 자리에서 반올림한다.\n",
    "\n",
    "    3.3 / 5.8 = 0.57"
   ]
  },
  {
   "cell_type": "markdown",
   "id": "5a2a5d79",
   "metadata": {},
   "source": [
    "**모범답안**"
   ]
  },
  {
   "cell_type": "markdown",
   "id": "91ed423f",
   "metadata": {},
   "source": [
    "유한소수 두 개를 각각 입력받을 수 있도록 `input()` 함수를 `float()` 함수와 함께 두 번 사용한다\n",
    "첫째 입력값은 정수로 변환해서 `a`에 할당, 둘째 입력값은 `b`에 할당한다.\n",
    "지정된 형식으로의 출력은 `print()` 함수를 이용한다.\n",
    "`print()` 함수에 쉼표를 이용하여 여러 개의 인자를 지정하면\n",
    "각각의 인자가 공백으로 구분되어 한 줄에 출력되는 성질을 이용한다."
   ]
  },
  {
   "cell_type": "code",
   "execution_count": 20,
   "id": "68d3a383",
   "metadata": {},
   "outputs": [
    {
     "name": "stdout",
     "output_type": "stream",
     "text": [
      "첫째 정수를 입력하세요: 3.3\n",
      "둘째 정수를 입력하세요: 5.8\n",
      "3.3 / 5.8 = 0.57\n"
     ]
    }
   ],
   "source": [
    "a = float(input(\"첫째 정수를 입력하세요: \"))\n",
    "b = float(input(\"둘째 정수를 입력하세요: \"))\n",
    "\n",
    "print(a, \"/\", b, \"=\", round(a / b, 2))"
   ]
  },
  {
   "cell_type": "markdown",
   "id": "827df42a",
   "metadata": {},
   "source": [
    "## 문제 4"
   ]
  },
  {
   "cell_type": "markdown",
   "id": "10bb734b",
   "metadata": {},
   "source": [
    "사용자로부터 입력받은 후 입력된 정수에 대한 3의 배수 여부를 판정하는 코드를 작성한다.\n",
    "단, 3의 배수인 경우와 아닌 경우 각각 다르게 아래 형식으로 출력되도록 한다.\n",
    "\n",
    "    24 은(는) 3의 배수다.\n",
    "    \n",
    "또는\n",
    "\n",
    "    25 은(는) 3으로 나누면 나머지가 1 이다.\n",
    "\n",
    "\n",
    "힌트: `input()` 함수, `int()` 함수, 몫과 나머지 연산자 활용. `if ... else ...` 조건문 사용."
   ]
  },
  {
   "cell_type": "markdown",
   "id": "7feb0cc4",
   "metadata": {},
   "source": [
    "**모범답안**"
   ]
  },
  {
   "cell_type": "markdown",
   "id": "b5c9324e",
   "metadata": {},
   "source": [
    "3의 배수 여부는 3으로 나눈 나머지에 의존한다.\n",
    "나머지가 0일 때만 3의 배수다.\n",
    "나머지는 나머지 연산자를 이용하여 확인한다."
   ]
  },
  {
   "cell_type": "code",
   "execution_count": 9,
   "id": "e0fb6f09",
   "metadata": {},
   "outputs": [
    {
     "name": "stdout",
     "output_type": "stream",
     "text": [
      "정수 하나를 입력하세요: 25\n",
      "25 은(는) 3으로 나누면 나머지가 1 이다.\n"
     ]
    }
   ],
   "source": [
    "user_input = int(input(\"정수 하나를 입력하세요: \"))\n",
    "\n",
    "if user_input % 3 == 0:\n",
    "    print(user_input, \"은(는)\", \"3의 배수다.\")\n",
    "else:\n",
    "    residual = user_input % 3\n",
    "    print(user_input, \"은(는)\", \"3으로 나누면 나머지가\", residual, \"이다.\")"
   ]
  },
  {
   "cell_type": "markdown",
   "id": "65f939c5",
   "metadata": {},
   "source": [
    "## 문제 5"
   ]
  },
  {
   "cell_type": "markdown",
   "id": "f4a72767",
   "metadata": {},
   "source": [
    "대기실에 `N`개의 의자가 일렬로 놓여 있다.\n",
    "어느 두 사람도 이웃하여 앉지 않을 때, 앉을 수 있는 최대 인원수와\n",
    "최소 인원수를 출력하는 코드를 구하여라.\n",
    "입력은 100이하의 자연수이고, 최대와 최소는 공백으로 구분하여 출력한다.\n",
    "단, 자리를 채운 후에는 더 이상 어느 누구도 자리에 앉을 수 없어야 한다.\n",
    "예를 들어 의자가 8개인 경우 아래 방식으로 앉는 것은 허용되지 않는다.\n",
    "아래 표에서 `O`은 채워진 자리를, `X`는 빈자리를 가리킨다.\n",
    "\n",
    "| 불가능 방식 | 이유 |\n",
    "| :---: | :--- |\n",
    "| `XXOXOXOX` | 왼쪽 끝에 한 명 더 앉을 수 있음 |\n",
    "| `XOXXOXXX` | 오른쪽 끝에 한 명 더 앉을 수 있음|\n",
    "\n",
    "의자가 8 개일 때 의자에 앉을 수 있는 최소 인원과 최대 인원은 다음과 같다.\n",
    "\n",
    "| 인원 | 앉는 방식 |\n",
    "| :---: | :---: |\n",
    "| 최소 3명 | `XOXXOXXO` |\n",
    "| 최대 4명 | `OXOXOXOX` |\n",
    "\n",
    "힌트: 2배수와 3배수 여부에 따른 `if ... else ...` 조건문 활용"
   ]
  },
  {
   "cell_type": "markdown",
   "id": "179c05a1",
   "metadata": {},
   "source": [
    "**모범답안**"
   ]
  },
  {
   "cell_type": "markdown",
   "id": "e28e33ab",
   "metadata": {},
   "source": [
    "`N`개의 의자가 있을 때 예를 들어 맨 왼쪽 의자에 앉은 다음에 한 자리 건널 때마다 앉으면 최대 인원이 앉게 된다.\n",
    "즉 두 의자당 하나에 앉으면 된다. 만약 `N`이 홀수이면 맨 오른쪽 자리에 한 명이 더 앉을 수 있다.\n",
    "따라서 `N`이 2배수인지 여부가 중요하다.\n",
    "\n",
    "- `N`이 2의 배수일 때: 최대 인원은 `N//2`\n",
    "- `N`이 2의 배수일 때: 최대 인원은 `N//2 + 1`"
   ]
  },
  {
   "cell_type": "markdown",
   "id": "ca8ead04",
   "metadata": {},
   "source": [
    "반면에 최소 인원은 다음과 같이 계산할 수 있다. \n",
    "먼저 의자가 1개 또는 2개이면 최대 1명 앉을 수 있다.\n",
    "이제부터 의자가 3개 이상이라고 가정한다.\n",
    "먼저 `N = 3`이라고 하자. 그러면 아래 방식으로 1명만 앉을 수 있다.\n",
    "\n",
    "    XOX\n",
    "\n",
    "`N > 3`인 경우는 3배수 여부로 결정된다.\n",
    "\n",
    "- `N`이 3의 배수인 경우: `XOX` 방식을 `N//3` 번 반복한다. 예를 들어 `N = 6`이면 아래 방식으로 최소 인원이 앉는다.\n",
    "\n",
    "        XOXXOX\n",
    "        \n",
    "- `N`이 3의 배수가 아닌 경우: `XOX` 방식을 `N//3` 번 반복한 다음 나머지 하나 또는 두 자리 중에 한 자리에 앉는다.\n",
    "    예를 들어 `N=8`이면 아래 방식으로 최소 인원이 앉는다.\n",
    "\n",
    "        XOXXOXXO"
   ]
  },
  {
   "cell_type": "markdown",
   "id": "3233dc6d",
   "metadata": {},
   "source": [
    "위 설명을 정리하여 코드로 작성하면 다음과 같다."
   ]
  },
  {
   "cell_type": "code",
   "execution_count": 1,
   "id": "32987798",
   "metadata": {},
   "outputs": [
    {
     "name": "stdout",
     "output_type": "stream",
     "text": [
      "정수를 입력하세요: 8\n",
      "최소: 3 명\n",
      "최대: 4 명\n"
     ]
    }
   ],
   "source": [
    "N = int(input(\"정수를 입력하세요: \"))\n",
    "\n",
    "# 최대 인원\n",
    "if (N%2 == 0) :\n",
    "    max = N//2\n",
    "else :\n",
    "    max = (N//2) + 1\n",
    "\n",
    "# 최소 인원\n",
    "if (N%3 == 0) :\n",
    "    min = N//3\n",
    "else :\n",
    "    min = (N//3) + 1\n",
    "\n",
    "print(\"최소:\", min, \"명\")\n",
    "print(\"최대:\", max, \"명\")"
   ]
  },
  {
   "cell_type": "markdown",
   "id": "9f726294",
   "metadata": {},
   "source": [
    "## 문제 6"
   ]
  },
  {
   "cell_type": "markdown",
   "id": "f6ca35d3",
   "metadata": {},
   "source": [
    "다음 역삼각형 모양을 출력하는 코드를 작성한다.\n",
    "두 개의 별 기호 사이에 공백(space)가 사용됨에 주의한다.\n",
    "공백도 하나의 기호로 취급된다.\n",
    "단, `while` 반복문을 활용한다.\n",
    "\n",
    "```python\n",
    "* * * * *  \n",
    "* * * *  \n",
    "* * *  \n",
    "* *  \n",
    "*\n",
    "*\n",
    "* *\n",
    "* * *\n",
    "* * * *\n",
    "* * * * *\n",
    "```"
   ]
  },
  {
   "cell_type": "markdown",
   "id": "ba504e37",
   "metadata": {},
   "source": [
    "**모범답안**"
   ]
  },
  {
   "cell_type": "markdown",
   "id": "5dd97265",
   "metadata": {},
   "source": [
    "별 기호와 공백으로 구성된 문자열, 즉 `\"* \"`이 차례대로 5, 4, 3, 2, 1 번씩,\n",
    "이후에 다시 1, 2, 3, 4, 5 번씩 반복된다.\n",
    "`While` 반복문:  총 10번 출력하며 처음 5번과 나중 5번이 대칭을 이룬다.\n",
    "`num`이 0부터 9까지 변할 때 `'* '` 문자열이 반복되는 횟수를 계산하는 방식이\n",
    "`num`에 할당된 값이 5일 때를 기준으로 달라진다."
   ]
  },
  {
   "cell_type": "code",
   "execution_count": 1,
   "id": "_8bFTLv7s2xH",
   "metadata": {
    "colab": {
     "base_uri": "https://localhost:8080/"
    },
    "id": "_8bFTLv7s2xH",
    "outputId": "7c3668c4-9119-46f6-dbbf-ee483a5e004e"
   },
   "outputs": [
    {
     "name": "stdout",
     "output_type": "stream",
     "text": [
      "* * * * * \n",
      "* * * * \n",
      "* * * \n",
      "* * \n",
      "* \n",
      "* \n",
      "* * \n",
      "* * * \n",
      "* * * * \n",
      "* * * * * \n"
     ]
    }
   ],
   "source": [
    "num = 0\n",
    "while num < 10:\n",
    "    if num < 5:\n",
    "        print(\"* \" * (5 - num))\n",
    "    else:\n",
    "        print(\"* \" * (num - 4))\n",
    "        \n",
    "    num += 1"
   ]
  }
 ],
 "metadata": {
  "kernelspec": {
   "display_name": "Python 3 (ipykernel)",
   "language": "python",
   "name": "python3"
  },
  "language_info": {
   "codemirror_mode": {
    "name": "ipython",
    "version": 3
   },
   "file_extension": ".py",
   "mimetype": "text/x-python",
   "name": "python",
   "nbconvert_exporter": "python",
   "pygments_lexer": "ipython3",
   "version": "3.11.5"
  },
  "toc-autonumbering": true,
  "toc-showcode": false,
  "toc-showmarkdowntxt": false
 },
 "nbformat": 4,
 "nbformat_minor": 5
}
