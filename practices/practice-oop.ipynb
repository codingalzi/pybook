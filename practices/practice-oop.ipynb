{
 "cells": [
  {
   "cell_type": "markdown",
   "id": "d85ece54",
   "metadata": {},
   "source": [
    "# (실습) 사례 연구: 객체 지향 프로그래밍"
   ]
  },
  {
   "cell_type": "markdown",
   "id": "16cd891e",
   "metadata": {},
   "source": [
    "## 문제"
   ]
  },
  {
   "cell_type": "markdown",
   "id": "502b7c25",
   "metadata": {},
   "source": [
    "`Turtle` 모듈을 활용한다. \n",
    "\n",
    "1. 다각형을 그리는 함수를 구현한다.\n",
    "    1. 아래 기능을 수행하는 함수 `square`를 구현하기\n",
    "        * 매개변수 `t` 사용: 인자는 거북이 객체\n",
    "        * 실행하면 정사각형 그리기\n",
    "    <br><br>\n",
    "    1. `square` 함수에 `length` 매개변수 추가\n",
    "        * 정사각형 한 변의 길이가 `length`의 인자값으로 지정\n",
    "    <br><br>\n",
    "    1. `polygon` 함수 구현하기\n",
    "        * `square` 함수를 일반화하여 다각형 그리기\n",
    "        * 셋째 매개변수 `n` 사용.\n",
    "        * 실행하면 한 변의 길이가 `length`인 `n`각형 그리기\n",
    "        * 정 n-각형의 외각은 180/n 도 이다.\n",
    "    <img src=\"images/ExternalAngles.png\" style=\"width:300px\">\n",
    "\n",
    "    <그림 출처: [wikipedia.org](https://ko.wikipedia.org/wiki/내각과_외각)>\n",
    " "
   ]
  },
  {
   "cell_type": "markdown",
   "id": "0a81c548",
   "metadata": {},
   "source": [
    "1. 원과 호를 그리는 함수를 구현하라. \n",
    "    참조: [Think Python: 인터페이스 설계](https://www.flowdas.com/thinkpython/04-case-study-interface-design/)\n",
    "    <br><br>\n",
    "    1. 앞서 정의한 `polygon` 함수를 이용하여 원을 그리는 함수 `circle`을 구현하라.\n",
    "        * 두 개의 매개변수 t와 r을 사용한다.\n",
    "            * `t`: 거북이 인자\n",
    "            * `r`: 반지름\n",
    "        * 힌트: 원을 정 n-각형을 이용하여 근사적으로 그릴 수 있다. 단, n이 매우 커야 한다. \n",
    "            * `length * n` = 원둘레.\n",
    "    <br><br>\n",
    "    1. `circle` 함수를 수정하여 아래 조건을 만족하는 `arc` 함수를 구현하라.\n",
    "        * 매개변수 `angle`을 추가한다. \n",
    "        * `angle`은 호(arc)를 그릴 때 사용되는 각도이다. \n",
    "        * 호는 부채꼴 모양으로 잘린 원의 일부를 가리킨다.\n",
    "        * 따라서 `angle = 360`이면 원을 그리게 된다. \n",
    "    <img src=\"images/circle_slices.png\" style=\"width:250px\">\n",
    "\n",
    "    <그림 출처: [wikipedia.org](https://ko.wikipedia.org/wiki/원_(기하학))>"
   ]
  },
  {
   "cell_type": "markdown",
   "id": "f5e75190",
   "metadata": {},
   "source": [
    "1. 아래 그림의 도형을 그리는 함수들을 구현하라.\n",
    "    <img src=\"images/turtle05.png\" style=\"width:400px\">\n",
    "\n",
    "    힌트: 모범답안을 담고 있는 파이썬 코드가 \n",
    "    [여기](http://greenteapress.com/thinkpython2/code/letters.py)에 \n",
    "    있음. 단, 앞 링크에 있는 코드는 \n",
    "    [이곳](http://greenteapress.com/thinkpython2/code/polygon.py)의 \n",
    "    모듈을 불러와야 함."
   ]
  },
  {
   "cell_type": "markdown",
   "id": "4e91aea0",
   "metadata": {},
   "source": [
    "1. 아래 그림의 도형을 그리는 함수들을 구현하라.\n",
    "    <img src=\"images/turtle04.png\" style=\"width:400px\">\n",
    "\n",
    "    힌트: 모범답안을 담고 있는 파이썬 코드가 \n",
    "    [여기](http://greenteapress.com/thinkpython2/code/pie.py)에 \n",
    "    있음."
   ]
  },
  {
   "cell_type": "markdown",
   "id": "e09e5fe9",
   "metadata": {},
   "source": [
    "1. [아르키메데스 와선(spiral)](https://ko.wikipedia.org/wiki/와선)을 \n",
    "    그리는 함수를 구현하라.\n",
    "    <img src=\"images/spiral.png\" style=\"width:250px\">\n",
    "\n",
    "    <그림 출처: [wikipedia.org](https://ko.wikipedia.org/wiki/와선)>    \n",
    "    \n",
    "    힌트: 모범답안을 담고 있는 파이썬 코드가 \n",
    "    [여기](http://greenteapress.com/thinkpython2/code/spiral.py)에 \n",
    "    있음."
   ]
  }
 ],
 "metadata": {
  "kernelspec": {
   "display_name": "Python 3 (ipykernel)",
   "language": "python",
   "name": "python3"
  },
  "language_info": {
   "codemirror_mode": {
    "name": "ipython",
    "version": 3
   },
   "file_extension": ".py",
   "mimetype": "text/x-python",
   "name": "python",
   "nbconvert_exporter": "python",
   "pygments_lexer": "ipython3",
   "version": "3.11.5"
  }
 },
 "nbformat": 4,
 "nbformat_minor": 5
}
