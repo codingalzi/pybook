{
 "cells": [
  {
   "cell_type": "markdown",
   "id": "72ba1600",
   "metadata": {},
   "source": [
    "# (실습) 객체 지향 프로그래밍"
   ]
  },
  {
   "cell_type": "markdown",
   "id": "bcc8fd8e",
   "metadata": {},
   "source": [
    "**참고**\n",
    "\n",
    "[객체 지향 프로그래밍](https://codingalzi.github.io/pybook/oop.html)에서\n",
    "소개한 `Fraction` 클래스와 연관된 문제들이다."
   ]
  },
  {
   "cell_type": "code",
   "execution_count": 1,
   "id": "8911fdf9",
   "metadata": {},
   "outputs": [],
   "source": [
    "def gcd(m, n):\n",
    "    while m % n != 0:\n",
    "        m, n = n, m % n\n",
    "    return n\n",
    "\n",
    "class Fraction:\n",
    "    \"\"\"Fraction 클래스\"\"\"\n",
    "\n",
    "    def __init__(self, top, bottom):\n",
    "        \"\"\"생성자 메서드\n",
    "        top: 분자\n",
    "        bottom: 분모\n",
    "        \"\"\"\n",
    "        self.num = top\n",
    "        self.den = bottom\n",
    "\n",
    "    def __str__(self):\n",
    "        return f\"{self.num}/{self.den}\"\n",
    "\n",
    "    def __add__(self, other_fraction):\n",
    "        new_num = self.num * other_fraction.den + \\\n",
    "                     self.den * other_fraction.num\n",
    "        new_den = self.den * other_fraction.den\n",
    "        common = gcd(new_num, new_den)\n",
    "        \n",
    "        return Fraction(new_num // common, new_den // common)\n",
    "\n",
    "    def __eq__(self, other_fraction):\n",
    "        first_num = self.num * other_fraction.den\n",
    "        second_num = other_fraction.num * self.den\n",
    "\n",
    "        return first_num == second_num"
   ]
  },
  {
   "cell_type": "markdown",
   "id": "6d31d67f",
   "metadata": {},
   "source": [
    "**문제 1**"
   ]
  },
  {
   "cell_type": "markdown",
   "id": "5c70afac",
   "metadata": {},
   "source": [
    "`f1`, `f2`가 아래와 같이 정의된다."
   ]
  },
  {
   "cell_type": "code",
   "execution_count": 2,
   "id": "fad5a847",
   "metadata": {},
   "outputs": [],
   "source": [
    "f1 = Fraction(1, 4)\n",
    "f2 = Fraction(1, 2)"
   ]
  },
  {
   "cell_type": "markdown",
   "id": "afe5d098",
   "metadata": {},
   "source": [
    "그런데 `f1 + f2`의 결과를 직접 확인하려 하면 원하는 대로 보여지지 않는다."
   ]
  },
  {
   "cell_type": "code",
   "execution_count": 3,
   "id": "e842f714",
   "metadata": {},
   "outputs": [
    {
     "data": {
      "text/plain": [
       "<__main__.Fraction at 0x7fcb59b6b1f0>"
      ]
     },
     "execution_count": 3,
     "metadata": {},
     "output_type": "execute_result"
    }
   ],
   "source": [
    "f1 + f2"
   ]
  },
  {
   "cell_type": "markdown",
   "id": "6d0c54e5",
   "metadata": {},
   "source": [
    "어떤 매직 메서드를 구현하면 되는지 확인하고 직접 구현하라.\n",
    "\n",
    "힌트: `__repr__()` 메서드가 `__str__()` 메서드와 어떻게 다른지 확인하라."
   ]
  },
  {
   "cell_type": "markdown",
   "id": "28f88f21",
   "metadata": {},
   "source": [
    "**문제 2**"
   ]
  },
  {
   "cell_type": "markdown",
   "id": "37eb9d1c",
   "metadata": {},
   "source": [
    "`Fraction` 클래스의 객체인 분수로부터 분자와 분모를 반환하는 `get_num()` 메서드와\n",
    "`get_den()` 메서드를 구현하고 활용예제를 제시하라."
   ]
  },
  {
   "cell_type": "markdown",
   "id": "bef9ea1a",
   "metadata": {},
   "source": [
    "**문제 3**"
   ]
  },
  {
   "cell_type": "markdown",
   "id": "bfdcfce5",
   "metadata": {},
   "source": [
    "`Fraction` 클래스의 객체가 항상 기약분수의 형태로 분모와 분자를 사용하도록 \n",
    "`__init__()` 메서드를 수정하고 활용예제를 제시하라. \n",
    "\n",
    "힌트: 최대공약수를 계산하는 함수를 활용해야 한다.\n",
    "또한 `__add__()` 함수에서는 더 이상 기약분수로 변환할 필요가 없어진다."
   ]
  },
  {
   "cell_type": "markdown",
   "id": "7966e144",
   "metadata": {},
   "source": [
    "**문제 4**"
   ]
  },
  {
   "cell_type": "markdown",
   "id": "af75811c",
   "metadata": {},
   "source": [
    "다음 연산자들을 구현하고 활용예제를 제시하라.\n",
    "\n",
    "`__sub__()`, `__mul__()`, `__truediv__()`"
   ]
  },
  {
   "cell_type": "markdown",
   "id": "0698802b",
   "metadata": {},
   "source": [
    "**문제 5**"
   ]
  },
  {
   "cell_type": "markdown",
   "id": "7d29daf5",
   "metadata": {},
   "source": [
    "다음 비교 연산자들을 구현하고 활용예제를 제시하라.\n",
    "\n",
    "`__gt__()`, `__ge__()`, `__lt__()`, `__le__()`, `__ne__()`"
   ]
  },
  {
   "cell_type": "markdown",
   "id": "bf3417ac",
   "metadata": {},
   "source": [
    "**문제 6**"
   ]
  },
  {
   "cell_type": "markdown",
   "id": "717b466a",
   "metadata": {},
   "source": [
    "분자와 분모로 입력된 값이 정수임을 확인하도록 생성자 메서드를 수정하고 활용예제를 제시하라.\n",
    "정수 이외의 값이 입력되면 예외가 발생하도록 해야 한다. "
   ]
  },
  {
   "cell_type": "markdown",
   "id": "cc260fe7",
   "metadata": {},
   "source": [
    "**문제 7**"
   ]
  },
  {
   "cell_type": "markdown",
   "id": "4a1e4f5c",
   "metadata": {},
   "source": [
    "앞서 사용한 유클리드 호젯법 알고리즘은 양의 정수에 대해서만 옳바르게 작동한다.\n",
    "예를 들어 아래의 경우처럼 잘못 계산한다. \n",
    "참고로 최대공약수는 항상 양수이어야 한다.\n",
    "\n",
    "```python\n",
    ">> gcd(8, -2)\n",
    "-2\n",
    "```\n",
    "\n",
    "이는 음의 분수를 사용할 때 `Fraction` 클래스의 기능에 문제가 발생할 수 있음을 의미한다.\n",
    "\n",
    "유클리드 호젯법 대신에 다른 알고리즘을 사용하는 `gcd()` 함수를 구현하고\n",
    "이를 `Fraction` 클래스에 활용하는 예제를 제시하라.\n",
    "단, 양수, 음수 모두 문제없이 처리해야 한다."
   ]
  },
  {
   "cell_type": "markdown",
   "id": "098257b4",
   "metadata": {},
   "source": [
    "**문제 8**"
   ]
  },
  {
   "cell_type": "markdown",
   "id": "86c07a11",
   "metadata": {},
   "source": [
    "`__radd__()` 메서드가 `__add__()` 어떻게 다른지 확인하고\n",
    "활용예제를 제시하라."
   ]
  },
  {
   "cell_type": "markdown",
   "id": "280719fb",
   "metadata": {},
   "source": [
    "**문제 9**"
   ]
  },
  {
   "cell_type": "markdown",
   "id": "5e89e34a",
   "metadata": {},
   "source": [
    "`__iadd__()` 메서드가 `__add__()` 어떻게 다른지 확인하고\n",
    "활용예제를 제시하라."
   ]
  },
  {
   "cell_type": "markdown",
   "id": "0f9a4999",
   "metadata": {},
   "source": [
    "**문제 10**"
   ]
  },
  {
   "cell_type": "markdown",
   "id": "e9f532b3",
   "metadata": {},
   "source": [
    "컴퓨터가 제공하는 부동소수점은 불완전하다.\n",
    "예를 들어, 아래 코드는 100만분의 1을 100만번 더했을 때 \n",
    "1이 계산되지 않음을 보여준다."
   ]
  },
  {
   "cell_type": "code",
   "execution_count": 4,
   "id": "0efa98a7",
   "metadata": {},
   "outputs": [
    {
     "name": "stdout",
     "output_type": "stream",
     "text": [
      "1.000000000007918\n",
      "False\n"
     ]
    }
   ],
   "source": [
    "x = 0.000001\n",
    "y = 0\n",
    "\n",
    "for _ in range(1000000):\n",
    "    y += x\n",
    "\n",
    "print(y)\n",
    "print(y == 1)"
   ]
  },
  {
   "cell_type": "markdown",
   "id": "29787b22",
   "metadata": {},
   "source": [
    "분수 클래스 `Fraction`를 이용하면 보다 엄밀한 계산이 가능함을 보여라."
   ]
  }
 ],
 "metadata": {
  "kernelspec": {
   "display_name": "Python 3 (ipykernel)",
   "language": "python",
   "name": "python3"
  },
  "language_info": {
   "codemirror_mode": {
    "name": "ipython",
    "version": 3
   },
   "file_extension": ".py",
   "mimetype": "text/x-python",
   "name": "python",
   "nbconvert_exporter": "python",
   "pygments_lexer": "ipython3",
   "version": "3.9.7"
  }
 },
 "nbformat": 4,
 "nbformat_minor": 5
}
