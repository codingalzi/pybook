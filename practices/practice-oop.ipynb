{
 "cells": [
  {
   "cell_type": "markdown",
   "id": "d85ece54",
   "metadata": {},
   "source": [
    "# (연습문제) 객체 지향 프로그래밍"
   ]
  },
  {
   "cell_type": "markdown",
   "id": "ec8115ea",
   "metadata": {},
   "source": [
    "`Turtle` 모듈을 활용한다. "
   ]
  },
  {
   "cell_type": "markdown",
   "id": "1105d99b",
   "metadata": {},
   "source": [
    "## 문제 1"
   ]
  },
  {
   "cell_type": "markdown",
   "id": "44078d16",
   "metadata": {},
   "source": [
    "[레플릿: polygon](https://replit.com/@codingalzi/polygon)에서 다음과 같이 정의된\n",
    "`polygon(t, length, n)` 함수는 한 변의 길이가 `length`인 정 n-각형을 그린다.\n",
    "단, `t`는 거북이 객체를 가리킨다."
   ]
  },
  {
   "cell_type": "markdown",
   "id": "59af29e8",
   "metadata": {},
   "source": [
    "```python\n",
    "def polygon(t, length, n):\n",
    "    turn = 360/n  # 회전 각도\n",
    "    for _ in range(n):\n",
    "        t.forward(length)\n",
    "        t.left(turn)\n",
    "```"
   ]
  },
  {
   "cell_type": "markdown",
   "id": "1bca0560",
   "metadata": {},
   "source": [
    "`polygon()` 함수를 이용하여 원을 그리는 `circle()` 함수를 구현하여라.\n",
    "단, 거북이 인자를 가리키는 `t`와 원의 반지름을 가리키는 `r` 두 개의 매개변수를 사용한다.\n",
    "\n",
    "힌트: 원을 정 n-각형을 이용하여 근사적으로 그릴 수 있다. 단, n이 매우 커야 한다. \n",
    "또한 매우 큰 n에 대해 정 n-각형의 한 변의 길이가 `length`일 때 다음 식이 성립한다.\n",
    "\n",
    "    원둘레 = 2 * math.pi * r = length * n\n",
    "    \n",
    "따라서 반지름이 `r`인 원을 정 n-각형으로 구현하려면\n",
    "한 변의 길이가 다음과 같아야 한다.\n",
    "\n",
    "    length = (2 * math.pi * r)/n"
   ]
  },
  {
   "cell_type": "markdown",
   "id": "abce19a9",
   "metadata": {},
   "source": [
    "답:"
   ]
  },
  {
   "cell_type": "markdown",
   "id": "b089397a",
   "metadata": {},
   "source": [
    "아래 `circle()` 함수는 원을 100각형으로 그린다.\n",
    "반지름이 클 때는 `n`을 보다 키워줄 필요가 있다."
   ]
  },
  {
   "cell_type": "markdown",
   "id": "3a72dd4a",
   "metadata": {},
   "source": [
    "```python\n",
    "def circle(t, r, n=100):\n",
    "    length = (2 * math.pi * r) / n\n",
    "    polygon(t, length, n)\n",
    "```"
   ]
  },
  {
   "cell_type": "markdown",
   "id": "563eb1c2",
   "metadata": {},
   "source": [
    "[레플릿: circle](https://replit.com/@codingalzi/circle)에서 실행할 수 있다."
   ]
  },
  {
   "cell_type": "markdown",
   "id": "0c139daf",
   "metadata": {},
   "source": [
    "## 문제 2"
   ]
  },
  {
   "cell_type": "markdown",
   "id": "631fa6fd",
   "metadata": {},
   "source": [
    "호는 부채꼴 모양으로 잘린 원의 일부를 가리킨다."
   ]
  },
  {
   "cell_type": "markdown",
   "id": "dc2383eb",
   "metadata": {},
   "source": [
    "<p><div align=\"center\" border=\"1px\"><img src=\"https://raw.githubusercontent.com/codingalzi/pybook/master/jupyter-book/images/circle_slices.png\" width=\"300\"/></div></p>\n",
    "\n",
    "<그림 출처: [wikipedia.org](https://ko.wikipedia.org/wiki/원_(기하학))>"
   ]
  },
  {
   "cell_type": "markdown",
   "id": "13c6c6e9",
   "metadata": {},
   "source": [
    "**질문 1**"
   ]
  },
  {
   "cell_type": "markdown",
   "id": "e83c1804",
   "metadata": {},
   "source": [
    "`polygon()` 함수를 수정하여 정 n-각형을 지정된 `angle` 만큼만 그리는 `polygon_arc()` 함수를 정의하여라."
   ]
  },
  {
   "cell_type": "markdown",
   "id": "d966f9a3",
   "metadata": {},
   "source": [
    "답:"
   ]
  },
  {
   "cell_type": "markdown",
   "id": "12f7e696",
   "metadata": {},
   "source": [
    "`polygon()` 함수의 본문에 사용된 `for` 반복문의 반복횟수를 `angle`에 의존하도록 한다.\n",
    "원을 한 바퀴가 360도이기에 `angle` 만큼 돌기 위해서는 아래 횟수만큼 회전한다.\n",
    "\n",
    "    n * angle / 360"
   ]
  },
  {
   "cell_type": "markdown",
   "id": "49f90542",
   "metadata": {},
   "source": [
    "```python\n",
    "def polygon_arc(t, length, n, angle=360):\n",
    "    turn = 360/n                  # 회전 각도\n",
    "    n_iter = int(n * angle / 360) # 이동 반복 횟수\n",
    "    for _ in range(n_iter):\n",
    "        t.forward(length)\n",
    "        t.left(turn)\n",
    "```"
   ]
  },
  {
   "cell_type": "markdown",
   "id": "ab6bf70d",
   "metadata": {},
   "source": [
    "아래 그림은 한 변의 길이가 40인 16각형을 그릴 때 120도 만큼만, 즉 1/3 정도만 그린 결과를 보여준다.\n",
    "\n",
    "```python\n",
    "polygon_arc(t, 40, 16, 120)\n",
    "```"
   ]
  },
  {
   "cell_type": "markdown",
   "id": "ffe820e5",
   "metadata": {},
   "source": [
    "<p><div align=\"center\" border=\"1px\"><img src=\"https://raw.githubusercontent.com/codingalzi/pybook/master/jupyter-book/images/turtle12.png\" width=\"500\"/></div></p>"
   ]
  },
  {
   "cell_type": "markdown",
   "id": "e24fe9a6",
   "metadata": {},
   "source": [
    "[레플릿: polygon_arc](https://replit.com/@codingalzi/polygonarc)에서 실행할 수 있다."
   ]
  },
  {
   "cell_type": "markdown",
   "id": "6d4c8a3d",
   "metadata": {},
   "source": [
    "**질문 2**"
   ]
  },
  {
   "cell_type": "markdown",
   "id": "025e8fcf",
   "metadata": {},
   "source": [
    "`polygon_arc()` 함수를 수정하여 아래 조건을 만족하는 `arc()` 함수를 구현하라.\n",
    "\n",
    "힌트: `circle()` 함수에 `angle` 매개변수 추가"
   ]
  },
  {
   "cell_type": "markdown",
   "id": "3d9935fd",
   "metadata": {},
   "source": [
    "답:"
   ]
  },
  {
   "cell_type": "markdown",
   "id": "0ef2e3da",
   "metadata": {},
   "source": []
  },
  {
   "cell_type": "markdown",
   "id": "09c47705",
   "metadata": {},
   "source": [
    "## 문제 3"
   ]
  },
  {
   "cell_type": "markdown",
   "id": "999e3543",
   "metadata": {},
   "source": [
    "아래 그림의 도형을 그리는 함수들을 구현하라.\n",
    "\n",
    "힌트: 모범답안을 담고 있는 파이썬 코드가 \n",
    "[여기](http://greenteapress.com/thinkpython2/code/letters.py)에 \n",
    "있음. 단, 앞 링크에 있는 코드는 \n",
    "[이곳](http://greenteapress.com/thinkpython2/code/polygon.py)의 \n",
    "모듈을 불러와야 함."
   ]
  },
  {
   "cell_type": "markdown",
   "id": "50112e9a",
   "metadata": {},
   "source": [
    "<div align=\"center\" border=\"1px\"><img src=\"https://raw.githubusercontent.com/codingalzi/pybook/master/jupyter-book/images/turtle05.png\" width=\"600\"/></div>"
   ]
  }
 ],
 "metadata": {
  "kernelspec": {
   "display_name": "Python 3 (ipykernel)",
   "language": "python",
   "name": "python3"
  },
  "language_info": {
   "codemirror_mode": {
    "name": "ipython",
    "version": 3
   },
   "file_extension": ".py",
   "mimetype": "text/x-python",
   "name": "python",
   "nbconvert_exporter": "python",
   "pygments_lexer": "ipython3",
   "version": "3.11.4"
  }
 },
 "nbformat": 4,
 "nbformat_minor": 5
}
