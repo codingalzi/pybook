{
 "cells": [
  {
   "cell_type": "markdown",
   "id": "d85ece54",
   "metadata": {},
   "source": [
    "# (연습문제) 객체 지향 프로그래밍"
   ]
  },
  {
   "cell_type": "markdown",
   "id": "ec8115ea",
   "metadata": {},
   "source": [
    "`Turtle` 모듈을 활용한다. "
   ]
  },
  {
   "cell_type": "markdown",
   "id": "1105d99b",
   "metadata": {},
   "source": [
    "## 문제 1"
   ]
  },
  {
   "cell_type": "markdown",
   "id": "f918df86",
   "metadata": {},
   "source": [
    "원과 호를 그리는 함수를 구현하라. \n",
    "\n",
    "- 참고: [Think Python: 인터페이스 설계](https://www.flowdas.com/thinkpython/04-case-study-interface-design/)"
   ]
  },
  {
   "cell_type": "markdown",
   "id": "82d37302",
   "metadata": {},
   "source": [
    "**질문 1**"
   ]
  },
  {
   "cell_type": "markdown",
   "id": "1bca0560",
   "metadata": {},
   "source": [
    "앞서 정의한 `polygon` 함수를 이용하여 원을 그리는 함수 `circle`을 구현하라.\n",
    "\n",
    "* 두 개의 매개변수 t와 r을 사용한다.\n",
    "    * `t`: 거북이 인자\n",
    "    * `r`: 반지름\n",
    "* 힌트: 원을 정 n-각형을 이용하여 근사적으로 그릴 수 있다. 단, n이 매우 커야 한다. \n",
    "    * `length * n` = 원둘레."
   ]
  },
  {
   "cell_type": "markdown",
   "id": "df07e5c5",
   "metadata": {},
   "source": [
    "**질문 2**"
   ]
  },
  {
   "cell_type": "markdown",
   "id": "025e8fcf",
   "metadata": {},
   "source": [
    "`circle` 함수를 수정하여 아래 조건을 만족하는 `arc` 함수를 구현하라.\n",
    "* 매개변수 `angle`을 추가한다. \n",
    "* `angle`은 호(arc)를 그릴 때 사용되는 각도이다. \n",
    "* 호는 부채꼴 모양으로 잘린 원의 일부를 가리킨다.\n",
    "* 따라서 `angle = 360`이면 원을 그리게 된다. "
   ]
  },
  {
   "cell_type": "markdown",
   "id": "0ad997da",
   "metadata": {},
   "source": [
    "<div align=\"center\" border=\"1px\"><img src=\"https://raw.githubusercontent.com/codingalzi/pybook/master/jupyter-book/images/circle_slices.png\" width=\"400\"/></div>\n",
    "\n",
    "<그림 출처: [wikipedia.org](https://ko.wikipedia.org/wiki/원_(기하학))>"
   ]
  },
  {
   "cell_type": "markdown",
   "id": "09c47705",
   "metadata": {},
   "source": [
    "## 문제 2"
   ]
  },
  {
   "cell_type": "markdown",
   "id": "999e3543",
   "metadata": {},
   "source": [
    "아래 그림의 도형을 그리는 함수들을 구현하라.\n",
    "\n",
    "힌트: 모범답안을 담고 있는 파이썬 코드가 \n",
    "[여기](http://greenteapress.com/thinkpython2/code/letters.py)에 \n",
    "있음. 단, 앞 링크에 있는 코드는 \n",
    "[이곳](http://greenteapress.com/thinkpython2/code/polygon.py)의 \n",
    "모듈을 불러와야 함."
   ]
  },
  {
   "cell_type": "markdown",
   "id": "50112e9a",
   "metadata": {},
   "source": [
    "<div align=\"center\" border=\"1px\"><img src=\"https://raw.githubusercontent.com/codingalzi/pybook/master/jupyter-book/images/turtle05.png\" width=\"600\"/></div>"
   ]
  },
  {
   "cell_type": "markdown",
   "id": "c51767cf",
   "metadata": {},
   "source": [
    "## 문제 3"
   ]
  }
 ],
 "metadata": {
  "kernelspec": {
   "display_name": "Python 3 (ipykernel)",
   "language": "python",
   "name": "python3"
  },
  "language_info": {
   "codemirror_mode": {
    "name": "ipython",
    "version": 3
   },
   "file_extension": ".py",
   "mimetype": "text/x-python",
   "name": "python",
   "nbconvert_exporter": "python",
   "pygments_lexer": "ipython3",
   "version": "3.11.5"
  }
 },
 "nbformat": 4,
 "nbformat_minor": 5
}
