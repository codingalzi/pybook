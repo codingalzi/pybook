{
 "cells": [
  {
   "cell_type": "markdown",
   "id": "f8ef5e23",
   "metadata": {},
   "source": [
    "# (실습) 상속"
   ]
  },
  {
   "cell_type": "markdown",
   "id": "c1f35814",
   "metadata": {},
   "source": [
    "**Vector 클래스 관련**"
   ]
  },
  {
   "cell_type": "markdown",
   "id": "f6c5fad8",
   "metadata": {},
   "source": [
    "[상속](file://wsl.localhost/Ubuntu-20.04/home/gslee/Documents/GitHub/pybook/jupyter-book/_build/html/inheritance.html#)에서 다룬 `Vector` 클래스를 확장하는 문제들이다. "
   ]
  },
  {
   "cell_type": "markdown",
   "id": "0ddca0cb",
   "metadata": {},
   "source": [
    "**문제 1**"
   ]
  },
  {
   "cell_type": "markdown",
   "id": "6918f383",
   "metadata": {},
   "source": [
    "`__str__()` 메서드를 재정의해서 벡터를 출력할 때 아래 모양으로 출력되도록 하라.\n",
    "\n",
    "```python\n",
    ">>> print(Vector([1, 2, 3]))\n",
    "Vector([1, 2, 3])\n",
    "```"
   ]
  },
  {
   "cell_type": "markdown",
   "id": "4e26d40a",
   "metadata": {},
   "source": [
    "**문제 2**"
   ]
  },
  {
   "cell_type": "markdown",
   "id": "d4892be3",
   "metadata": {},
   "source": [
    "벡터와 정수의 곱셈을 지원하도록 `__mul__()` 메서드를 `Vector` 클래스에서 \n",
    "재정의하라.\n",
    "단, 항목별로 지정된 정수를 곱한 결과로 이뤄진 벡터를 반환한다."
   ]
  },
  {
   "cell_type": "markdown",
   "id": "0f4bce44",
   "metadata": {},
   "source": [
    "**문제 3**"
   ]
  },
  {
   "cell_type": "markdown",
   "id": "20a1fac0",
   "metadata": {},
   "source": [
    "벡터와 정수의 곱셈과 함께 벡터와 벡터의 곱셈을 지원하도록 `__mul__()` 메서드를 `Vector` 클래스에서 \n",
    "재정의하라.\n",
    "단, 두 벡터의 곱은 두 벡터의 길이가 동일한 경우에만 가능하며 항목별로 곱한 값으로 이뤄진 벡터를 반환한다."
   ]
  },
  {
   "cell_type": "markdown",
   "id": "c8cabe34",
   "metadata": {},
   "source": [
    "**문제 4**"
   ]
  },
  {
   "cell_type": "markdown",
   "id": "dea57303",
   "metadata": {},
   "source": [
    "`Vector` 클래스에 항목들의 평균값을 반환하는\n",
    "`mean()` 메서드를 추가하라."
   ]
  },
  {
   "cell_type": "markdown",
   "id": "f6c9af59",
   "metadata": {},
   "source": [
    "**문제 5**"
   ]
  },
  {
   "cell_type": "markdown",
   "id": "c2d3cdb9",
   "metadata": {},
   "source": [
    "`Vector` 클래스에 항목들의 표준편차를 반환하는\n",
    "`std()` 메서드를 추가하라."
   ]
  }
 ],
 "metadata": {
  "kernelspec": {
   "display_name": "Python 3 (ipykernel)",
   "language": "python",
   "name": "python3"
  },
  "language_info": {
   "codemirror_mode": {
    "name": "ipython",
    "version": 3
   },
   "file_extension": ".py",
   "mimetype": "text/x-python",
   "name": "python",
   "nbconvert_exporter": "python",
   "pygments_lexer": "ipython3",
   "version": "3.10.9"
  }
 },
 "nbformat": 4,
 "nbformat_minor": 5
}
