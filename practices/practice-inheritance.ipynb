{
 "cells": [
  {
   "cell_type": "markdown",
   "id": "f8ef5e23",
   "metadata": {},
   "source": [
    "# (실습) 상속"
   ]
  },
  {
   "cell_type": "markdown",
   "id": "b0445128",
   "metadata": {},
   "source": [
    "**문제**"
   ]
  },
  {
   "cell_type": "markdown",
   "id": "d38dc21f",
   "metadata": {},
   "source": [
    "리스트의 경우 객체를 새로 생성하지 않아도 `for` 반복문을 계속해서 적용할 수 있다."
   ]
  },
  {
   "cell_type": "code",
   "execution_count": 14,
   "id": "d10d9390",
   "metadata": {},
   "outputs": [],
   "source": [
    "numList = [1, 2, 3]"
   ]
  },
  {
   "cell_type": "code",
   "execution_count": 15,
   "id": "4ac65fd3",
   "metadata": {},
   "outputs": [
    {
     "name": "stdout",
     "output_type": "stream",
     "text": [
      "1\n",
      "2\n",
      "3\n"
     ]
    }
   ],
   "source": [
    "for item in numList:\n",
    "    print(item)"
   ]
  },
  {
   "cell_type": "code",
   "execution_count": 16,
   "id": "a7df84c6",
   "metadata": {},
   "outputs": [
    {
     "name": "stdout",
     "output_type": "stream",
     "text": [
      "1\n",
      "2\n",
      "3\n"
     ]
    }
   ],
   "source": [
    "for item in numList:\n",
    "    print(item)"
   ]
  },
  {
   "cell_type": "markdown",
   "id": "4969d435",
   "metadata": {},
   "source": [
    "반면에 `OneDArray` 객체는 앞서 살펴 보았듯이 그렇지 않다.\n",
    "`OneDArray` 객체가 리스트처럼 작동하도록 `__next__()` 메서드를 수정하라.\n",
    "\n",
    "힌트: `count` 인스턴스 변수의 초기화를 적절한 위치에서 실행하도록 해야 한다."
   ]
  },
  {
   "cell_type": "code",
   "execution_count": null,
   "id": "c49629a4",
   "metadata": {},
   "outputs": [],
   "source": []
  }
 ],
 "metadata": {
  "kernelspec": {
   "display_name": "Python 3 (ipykernel)",
   "language": "python",
   "name": "python3"
  },
  "language_info": {
   "codemirror_mode": {
    "name": "ipython",
    "version": 3
   },
   "file_extension": ".py",
   "mimetype": "text/x-python",
   "name": "python",
   "nbconvert_exporter": "python",
   "pygments_lexer": "ipython3",
   "version": "3.9.7"
  }
 },
 "nbformat": 4,
 "nbformat_minor": 5
}
