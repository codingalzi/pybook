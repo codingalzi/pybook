{
 "cells": [
  {
   "cell_type": "markdown",
   "id": "f8ef5e23",
   "metadata": {},
   "source": [
    "# (실습) 상속"
   ]
  },
  {
   "cell_type": "markdown",
   "id": "c1f35814",
   "metadata": {},
   "source": [
    "**Vector 클래스 관련**"
   ]
  },
  {
   "cell_type": "markdown",
   "id": "f6c5fad8",
   "metadata": {},
   "source": [
    "[상속](file://wsl.localhost/Ubuntu-20.04/home/gslee/Documents/GitHub/pybook/jupyter-book/_build/html/inheritance.html#)에서 다룬 `Vector` 클래스를 확장하는 문제들이다. "
   ]
  },
  {
   "cell_type": "markdown",
   "id": "0ddca0cb",
   "metadata": {},
   "source": [
    "**문제 1**"
   ]
  },
  {
   "cell_type": "markdown",
   "id": "85b8a34c",
   "metadata": {},
   "source": [
    "벡터와 정수의 곱셈을 지원하도록 `__mul__()` 메서드를 `Vector` 클래스에서 \n",
    "재정의하라."
   ]
  },
  {
   "cell_type": "markdown",
   "id": "0f4bce44",
   "metadata": {},
   "source": [
    "**문제 2**"
   ]
  },
  {
   "cell_type": "markdown",
   "id": "01c1c83e",
   "metadata": {},
   "source": [
    "`Vector` 클래스에 항목들의 평균값을 반환하는\n",
    "`mean()` 메서드를 추가하라."
   ]
  },
  {
   "cell_type": "markdown",
   "id": "c8cabe34",
   "metadata": {},
   "source": [
    "**문제 3**"
   ]
  },
  {
   "cell_type": "markdown",
   "id": "b6718c48",
   "metadata": {},
   "source": [
    "`Vector` 클래스에 항목들의 표준편차를 반환하는\n",
    "`std()` 메서드를 추가하라."
   ]
  },
  {
   "cell_type": "markdown",
   "id": "ac720759",
   "metadata": {},
   "source": [
    "**충돌 탐지 관련**"
   ]
  },
  {
   "cell_type": "markdown",
   "id": "8f65c35e",
   "metadata": {},
   "source": [
    "이어지는 문제들은\n",
    "[사례 연구: 객체 지향 프로그래밍](https://colab.research.google.com/github/codingalzi/pybook/blob/master/jupyter-book/casestudy_oop.ipynb)의\n",
    "코드를 활용한다.\n",
    "코든 아래 링크에서 다운받을 수 있다.\n",
    "\n",
    "https://github.com/codingalzi/pybook/tree/master/jupyter-book/codes/collision_detection"
   ]
  },
  {
   "cell_type": "markdown",
   "id": "31b9be77",
   "metadata": {},
   "source": [
    "코드 파일 중에 `collision_detection.py` 는 객체 충돌을 탐지하는 \n",
    "기본 방식을 소개한다.\n",
    "코드에 포함된 `Sprite` 클래스는 게임에 사용되는 스프라이트 객체를 생성하는 클래스다.\n",
    "\n",
    "```python\n",
    "class Sprite():\n",
    "    def __init__(self, x, y, width, height, image):\n",
    "        self.x = x\n",
    "        self.y = y\n",
    "        self.width = width\n",
    "        self.height = height\n",
    "        self.image = image\n",
    "        \n",
    "    ...\n",
    "```"
   ]
  },
  {
   "cell_type": "markdown",
   "id": "f632bae6",
   "metadata": {},
   "source": [
    "그리고 `inheritance.py` 는 `Sprite` 클래스를 상속하는 `Character` 클래스를 추가로 선언한다.\n",
    "\n",
    "```python\n",
    "# Sprite 클래스 상속 \n",
    "class Character(Sprite):\n",
    "    def __init__(self, x, y, width, height, image, jump=False):\n",
    "        super().__init__(x, y, width, height, image)\n",
    "        self.jump = jump \n",
    "\n",
    "    def hop(self):\n",
    "        if self.jump == True:\n",
    "            self.x += 300\n",
    "```"
   ]
  },
  {
   "cell_type": "markdown",
   "id": "b0445128",
   "metadata": {},
   "source": [
    "**문제 4**"
   ]
  },
  {
   "cell_type": "markdown",
   "id": "761f767e",
   "metadata": {},
   "source": [
    "새로 추가된 `hop()` 메서드의 기능을 설명하라. \n",
    "\n",
    "힌트: 재정의된 `__init__()` 메서드의 `jump` 옵션 인자와의 연관성"
   ]
  },
  {
   "cell_type": "markdown",
   "id": "d975b2c7",
   "metadata": {},
   "source": [
    "**문제 5**"
   ]
  },
  {
   "cell_type": "markdown",
   "id": "e8869d78",
   "metadata": {},
   "source": [
    "`collision_dection.py` 모듈을 임포트 하는 새로운 모듈 `inheritance2.py` 모듈을\n",
    "새로 작성한 다음 \n",
    "`Sprite` 클래스를 상속하는 `Character` 클래스를 선언하라.\n",
    "단, 두 모듈은 동일한 디렉토리에 저장되도록 한다."
   ]
  }
 ],
 "metadata": {
  "kernelspec": {
   "display_name": "Python 3 (ipykernel)",
   "language": "python",
   "name": "python3"
  },
  "language_info": {
   "codemirror_mode": {
    "name": "ipython",
    "version": 3
   },
   "file_extension": ".py",
   "mimetype": "text/x-python",
   "name": "python",
   "nbconvert_exporter": "python",
   "pygments_lexer": "ipython3",
   "version": "3.9.7"
  }
 },
 "nbformat": 4,
 "nbformat_minor": 5
}
