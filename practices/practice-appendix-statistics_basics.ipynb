{
 "cells": [
  {
   "cell_type": "markdown",
   "id": "4ba112a7",
   "metadata": {},
   "source": [
    "# (실습) 부록: 통계 기초 밑바닥부터"
   ]
  },
  {
   "cell_type": "markdown",
   "id": "db6605f6",
   "metadata": {},
   "source": [
    "**문제 1**"
   ]
  },
  {
   "cell_type": "markdown",
   "id": "19b9d373",
   "metadata": {},
   "source": [
    "본문 내용을 넘파이 어레이 객체를 이용하여 구현하라."
   ]
  },
  {
   "cell_type": "markdown",
   "id": "a81857d1",
   "metadata": {},
   "source": [
    "**문제 2**"
   ]
  },
  {
   "cell_type": "markdown",
   "id": "6057f4aa",
   "metadata": {},
   "source": [
    "본문 내용을 판다스 시리즈와 데이터프레임 객체를 이용하여 구현하라."
   ]
  }
 ],
 "metadata": {
  "kernelspec": {
   "display_name": "Python 3 (ipykernel)",
   "language": "python",
   "name": "python3"
  },
  "language_info": {
   "codemirror_mode": {
    "name": "ipython",
    "version": 3
   },
   "file_extension": ".py",
   "mimetype": "text/x-python",
   "name": "python",
   "nbconvert_exporter": "python",
   "pygments_lexer": "ipython3",
   "version": "3.9.7"
  }
 },
 "nbformat": 4,
 "nbformat_minor": 5
}
