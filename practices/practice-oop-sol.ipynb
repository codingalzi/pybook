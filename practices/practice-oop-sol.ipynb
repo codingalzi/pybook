{
 "cells": [
  {
   "cell_type": "markdown",
   "id": "d85ece54",
   "metadata": {},
   "source": [
    "# (연습문제) 객체 지향 프로그래밍"
   ]
  },
  {
   "cell_type": "markdown",
   "id": "fc7b360f",
   "metadata": {},
   "source": [
    "**참고 사항**\n",
    "\n",
    "먼저\n",
    "[객체 지향 프로그래밍](https://codingalzi.github.io/pybook/oop.html)의 내용과\n",
    "[(필수 예제) 객체 지향 프로그래밍](https://colab.research.google.com/github/codingalzi/pybook/blob/master/examples/examples-oop.ipynb)의 예제들을 학습하세요."
   ]
  },
  {
   "cell_type": "markdown",
   "id": "68d1a88d",
   "metadata": {},
   "source": [
    "**주의 사항**\n",
    "\n",
    "* 기존에 작성된 코드 셀과 텍스트 셀은 수정하지 않는다.\n",
    "* 필요한 경우 코드 셀 또는 텍스트 셀을 추가해서 사용한다.\n",
    "* 실습 파일을 제출할 때 구글 드라이브의 링크를 이용하여 누구나 공유할 수 있도록 설정한다."
   ]
  },
  {
   "cell_type": "markdown",
   "id": "dc5485c2",
   "metadata": {},
   "source": [
    "**실행 환경**"
   ]
  },
  {
   "cell_type": "markdown",
   "id": "5b8b11f4",
   "metadata": {},
   "source": [
    "`turtle` 모듈을 이용하기 때문에 레플릿에서 프로그램을 구현한 다음에 주요 코드만 작성한다."
   ]
  },
  {
   "cell_type": "markdown",
   "id": "1105d99b",
   "metadata": {},
   "source": [
    "## 문제 1"
   ]
  },
  {
   "cell_type": "markdown",
   "id": "44078d16",
   "metadata": {},
   "source": [
    "[(레플릿) polygon](https://replit.com/@codingalzi/polygon)에서 다음과 같이 정의된\n",
    "`polygon(t, length, n)` 함수는 한 변의 길이가 `length`인 정 n-각형을 그린다.\n",
    "단, `t`는 거북이 객체를 가리킨다."
   ]
  },
  {
   "cell_type": "markdown",
   "id": "59af29e8",
   "metadata": {},
   "source": [
    "```python\n",
    "def polygon(t, length, n):\n",
    "    turn = 360/n  # 회전 각도\n",
    "    for _ in range(n):\n",
    "        t.forward(length)\n",
    "        t.left(turn)\n",
    "```"
   ]
  },
  {
   "cell_type": "markdown",
   "id": "3c4d94e5",
   "metadata": {},
   "source": [
    "`polygon()` 함수를 이용하여 원을 그리는 `circle()` 함수를 구현하여라.\n",
    "매개 변수는 다음 세 개를 이용한다.\n",
    "\n",
    "- `t`: 거북이 인자\n",
    "- `r`: 원의 반지름\n",
    "- `n`: 정 n-각형을 활용한 원 그리기. `n=100`이 기본값."
   ]
  },
  {
   "cell_type": "markdown",
   "id": "d07d4c19",
   "metadata": {},
   "source": [
    "예를 들어 `circle(bob, 100, n=100)`를 실행하면 아래 모양의 원이 그려져야 한다."
   ]
  },
  {
   "cell_type": "markdown",
   "id": "4184cf2a",
   "metadata": {},
   "source": [
    "<p><div align=\"center\" border=\"1px\"><img src=\"https://raw.githubusercontent.com/codingalzi/pybook/master/jupyter-book/images/turtle16.png\" width=\"500\"/></div></p>"
   ]
  },
  {
   "cell_type": "markdown",
   "id": "abce19a9",
   "metadata": {},
   "source": [
    "답:"
   ]
  },
  {
   "cell_type": "markdown",
   "id": "9da41018",
   "metadata": {},
   "source": [
    "원을 정 n-각형을 이용하여 근사적으로 그릴 수 있다. 단, n이 매우 커야 한다. \n",
    "또한 매우 큰 n에 대해 정 n-각형의 한 변의 길이가 `length`일 때 다음 식이 성립한다.\n",
    "\n",
    "    원둘레 = 2 * math.pi * r = length * n\n",
    "    \n",
    "따라서 반지름이 `r`인 원을 정 n-각형으로 구현하려면\n",
    "한 변의 길이가 다음과 같아야 한다.\n",
    "\n",
    "    length = (2 * math.pi * r)/n"
   ]
  },
  {
   "cell_type": "markdown",
   "id": "b089397a",
   "metadata": {},
   "source": [
    "아래 `circle()` 함수는 원을 100각형으로 그린다.\n",
    "반지름이 클 때는 `n`을 보다 키워줄 필요가 있다."
   ]
  },
  {
   "cell_type": "markdown",
   "id": "3a72dd4a",
   "metadata": {},
   "source": [
    "```python\n",
    "def circle(t, r, n=100):\n",
    "    length = (2 * math.pi * r) / n\n",
    "    polygon(t, length, n)\n",
    "```"
   ]
  },
  {
   "cell_type": "markdown",
   "id": "563eb1c2",
   "metadata": {},
   "source": [
    "참고: [(레플릿) circle](https://replit.com/@codingalzi/circle)에서 실행 가능"
   ]
  },
  {
   "cell_type": "markdown",
   "id": "0c139daf",
   "metadata": {},
   "source": [
    "## 문제 2"
   ]
  },
  {
   "cell_type": "markdown",
   "id": "9eb27078",
   "metadata": {},
   "source": [
    "호는 부채꼴 모양으로 잘린 원의 일부를 가리킨다."
   ]
  },
  {
   "cell_type": "markdown",
   "id": "7ae473f2",
   "metadata": {},
   "source": [
    "<p><div align=\"center\" border=\"1px\"><img src=\"https://raw.githubusercontent.com/codingalzi/pybook/master/jupyter-book/images/circle_slices.png\" width=\"300\"/></div></p>\n",
    "\n",
    "<그림 출처: [wikipedia.org](https://ko.wikipedia.org/wiki/원_(기하학))>"
   ]
  },
  {
   "cell_type": "markdown",
   "id": "13c6c6e9",
   "metadata": {},
   "source": [
    "**질문 1**"
   ]
  },
  {
   "cell_type": "markdown",
   "id": "e83c1804",
   "metadata": {},
   "source": [
    "`polygon()` 함수를 수정하여 정 n-각형을 지정된 `angle` 만큼만 그리는 `polygon_arc()` 함수를 정의하여라.\n",
    "예를 들어 아래 그림은 한 변의 길이가 40인 16각형을 그릴 때 120도 만큼만, 즉 1/3 정도만 그린 결과를 보여준다.\n",
    "\n",
    "```python\n",
    "polygon_arc(t, 40, 16, 120)\n",
    "```"
   ]
  },
  {
   "cell_type": "markdown",
   "id": "3cc61f0d",
   "metadata": {},
   "source": [
    "<p><div align=\"center\" border=\"1px\"><img src=\"https://raw.githubusercontent.com/codingalzi/pybook/master/jupyter-book/images/turtle12.png\" width=\"500\"/></div></p>"
   ]
  },
  {
   "cell_type": "markdown",
   "id": "d966f9a3",
   "metadata": {},
   "source": [
    "답:"
   ]
  },
  {
   "cell_type": "markdown",
   "id": "12f7e696",
   "metadata": {},
   "source": [
    "`polygon()` 함수의 본문에 사용된 `for` 반복문의 반복횟수를 `angle`에 의존하도록 한다.\n",
    "원을 한 바퀴가 360도이기에 `angle` 만큼 돌기 위해서는 아래 횟수만큼 회전한다.\n",
    "\n",
    "    n * angle / 360"
   ]
  },
  {
   "cell_type": "markdown",
   "id": "49f90542",
   "metadata": {},
   "source": [
    "```python\n",
    "def polygon_arc(t, length, n, angle=360):\n",
    "    turn = 360/n                  # 회전 각도\n",
    "    n_iter = int(n * angle / 360) # 이동 반복 횟수\n",
    "    for _ in range(n_iter):\n",
    "        t.forward(length)\n",
    "        t.left(turn)\n",
    "```"
   ]
  },
  {
   "cell_type": "markdown",
   "id": "e24fe9a6",
   "metadata": {},
   "source": [
    "참고: [(레플릿) polygon_arc](https://replit.com/@codingalzi/polygonarc)에서 실행 가능"
   ]
  },
  {
   "cell_type": "markdown",
   "id": "6d4c8a3d",
   "metadata": {},
   "source": [
    "**질문 2**"
   ]
  },
  {
   "cell_type": "markdown",
   "id": "025e8fcf",
   "metadata": {},
   "source": [
    "`polygon_arc()` 함수를 수정하여 호를 그리는 `arc()` 함수를 구현하라.\n",
    "아래 그림은 반지름이 100인 원을 120도 만큼만, 즉 1/3 정도만 그린 결과를 보여준다.\n",
    "\n",
    "```python\n",
    "arc(bob, 100, n=100, angle=120)\n",
    "```\n",
    "\n",
    "힌트: `circle()` 함수에 `angle` 매개 변수 추가"
   ]
  },
  {
   "cell_type": "markdown",
   "id": "dd4b73eb",
   "metadata": {},
   "source": [
    "<p><div align=\"center\" border=\"1px\"><img src=\"https://raw.githubusercontent.com/codingalzi/pybook/master/jupyter-book/images/turtle13.png\" width=\"500\"/></div></p>"
   ]
  },
  {
   "cell_type": "markdown",
   "id": "b2eaa7fd",
   "metadata": {},
   "source": [
    "답:"
   ]
  },
  {
   "cell_type": "markdown",
   "id": "489980cb",
   "metadata": {},
   "source": [
    "`circle()` 함수가 `polygon()` 함수를 이용하듯이\n",
    "`arc()` 함수가 `polygon_arc()` 함수를 이용하면 되다. \n",
    "단, `angle` 매개 변수를 추가하기만 하면 된다."
   ]
  },
  {
   "cell_type": "markdown",
   "id": "4c2b65a3",
   "metadata": {},
   "source": [
    "```python\n",
    "def arc(t, r, n=100, angle=360):\n",
    "    length = (2 * math.pi * r) / n\n",
    "    polygon_arc(t, length, n, angle)\n",
    "```"
   ]
  },
  {
   "cell_type": "markdown",
   "id": "4dafdb55",
   "metadata": {},
   "source": [
    "참고: [(레플릿) arc](https://replit.com/@codingalzi/arc)에서 실행 가능"
   ]
  },
  {
   "cell_type": "markdown",
   "id": "caaf3984",
   "metadata": {},
   "source": [
    "**질문 3**"
   ]
  },
  {
   "cell_type": "markdown",
   "id": "c4b3f878",
   "metadata": {},
   "source": [
    "꽃잎 모양을 그리는 `leaf()` 함수를 구현하라.\n",
    "예를 들어 `leaf(bob, 100, n=300, angle=60)`를 실행하면 다음과 같이 그려져야 한다.\n",
    "\n",
    "힌트: `arc()` 함수 활용"
   ]
  },
  {
   "cell_type": "markdown",
   "id": "45c8a560",
   "metadata": {},
   "source": [
    "<p><div align=\"center\" border=\"1px\"><img src=\"https://raw.githubusercontent.com/codingalzi/pybook/master/jupyter-book/images/turtle14.png\" width=\"500\"/></div></p>"
   ]
  },
  {
   "cell_type": "markdown",
   "id": "51e45030",
   "metadata": {},
   "source": [
    "답:"
   ]
  },
  {
   "cell_type": "markdown",
   "id": "9189ae50",
   "metadata": {},
   "source": [
    "`arc()` 함수를 두 번 적용한다. \n",
    "단, 한 번 적용한 다음에 반대 방향으로 회전을 먼저 해야 한다.\n",
    "예를 들어 `arc(t, r, n, angle)`을 실행한 다음엔 `180-angle`만큼 반시계 방향으로 회전한 다음에\n",
    "`arc(t, r, n, angle)`를 한 번 더 호출하면 출발했던 자리로 되돌아 온다.\n",
    "마지막에 `180-angle` 만큼 한 번 더 반시계 방향으로 회전하면 출발할 때 가리켰던 방향을 다시 가리킨다.\n",
    "\n",
    "설명한 내용을 이용하여 `leaf()` 함수를 다음과 같이 작성한다.\n",
    "매개 변수 `n`과 `angle`은 각각 꽃잎의 길이와 너비를 조절한다."
   ]
  },
  {
   "cell_type": "markdown",
   "id": "17d0d89b",
   "metadata": {},
   "source": [
    "```python\n",
    "def leaf(t, r, n=300, angle=60):\n",
    "    turn = 180-angle\n",
    "    arc(t, r, n, angle)\n",
    "    t.left(turn)\n",
    "    arc(t, r, n, angle)\n",
    "    t.left(turn)\n",
    "```"
   ]
  },
  {
   "cell_type": "markdown",
   "id": "09d4568a",
   "metadata": {},
   "source": [
    "참고: [(레플릿) leaf](https://replit.com/@codingalzi/leaf)에서 실행 가능"
   ]
  },
  {
   "cell_type": "markdown",
   "id": "033bf317",
   "metadata": {},
   "source": [
    "**질문 4**"
   ]
  },
  {
   "cell_type": "markdown",
   "id": "7ff4bf9d",
   "metadata": {},
   "source": [
    "꽃잎 모양을 그리는 `flower()` 함수를 구현하라.\n",
    "예를 들어 `flower(bob, 100, 300, 60, 7)`를 실행하면 다음과 같이 그려져야 한다.\n",
    "\n",
    "힌트: `leaf()` 함수 활용"
   ]
  },
  {
   "cell_type": "markdown",
   "id": "1d12bcb3",
   "metadata": {},
   "source": [
    "<p><div align=\"center\" border=\"1px\"><img src=\"https://raw.githubusercontent.com/codingalzi/pybook/master/jupyter-book/images/turtle15.png\" width=\"500\"/></div></p>"
   ]
  },
  {
   "cell_type": "markdown",
   "id": "ecb0f55d",
   "metadata": {},
   "source": [
    "답:"
   ]
  },
  {
   "cell_type": "markdown",
   "id": "baeb0e02",
   "metadata": {},
   "source": [
    "`leaf()` 함수를 한 번 실행한 다음엔 `360/꽃잎수`만큼 반시계 방향으로 회전시키는 과정을 `꽃잎수`만큼 반복하면된다.\n",
    "아래 코드에서 `leaves`가 꽃잎의 수를 인자로 받는 매기 변수다."
   ]
  },
  {
   "cell_type": "markdown",
   "id": "cc2b3485",
   "metadata": {},
   "source": [
    "```python\n",
    "def flower(t, r, n=300, angle=60, leaves=7):\n",
    "    for _ in range(leaves):\n",
    "        leaf(t, r, n, angle)\n",
    "        t.left(360/leaves) # 회전 각도\n",
    "```"
   ]
  },
  {
   "cell_type": "markdown",
   "id": "b3e13878",
   "metadata": {},
   "source": [
    "꽃잎의 너비를 두껍게 하거나 꽃잎의 수를 늘리면 꽃잎이 중첩되어 보인다.\n",
    "예를 들어 `flower(bob, 100, 300, 60, 20)`는 다음과 같은 꽃잎을 그린다."
   ]
  },
  {
   "cell_type": "markdown",
   "id": "bc389931",
   "metadata": {},
   "source": [
    "<p><div align=\"center\" border=\"1px\"><img src=\"https://raw.githubusercontent.com/codingalzi/pybook/master/jupyter-book/images/turtle17.png\" width=\"500\"/></div></p>"
   ]
  },
  {
   "cell_type": "markdown",
   "id": "1b86013f",
   "metadata": {},
   "source": [
    "참고: [(레플릿) flower](https://replit.com/@codingalzi/flower)에서 실행 가능"
   ]
  }
 ],
 "metadata": {
  "kernelspec": {
   "display_name": "Python 3 (ipykernel)",
   "language": "python",
   "name": "python3"
  },
  "language_info": {
   "codemirror_mode": {
    "name": "ipython",
    "version": 3
   },
   "file_extension": ".py",
   "mimetype": "text/x-python",
   "name": "python",
   "nbconvert_exporter": "python",
   "pygments_lexer": "ipython3",
   "version": "3.11.4"
  }
 },
 "nbformat": 4,
 "nbformat_minor": 5
}
