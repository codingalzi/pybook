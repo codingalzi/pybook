{
 "cells": [
  {
   "cell_type": "markdown",
   "id": "4355d4f8",
   "metadata": {},
   "source": [
    "# (실습) 조건문"
   ]
  },
  {
   "cell_type": "markdown",
   "id": "8e3dbd25",
   "metadata": {},
   "source": [
    "**참고 사항**\n",
    "\n",
    "먼저 \n",
    "[조건문](https://codingalzi.github.io/pybook/conditionals.html)의 내용과\n",
    "[(필수 예제) 조건문](https://colab.research.google.com/github/codingalzi/pybook/blob/master/examples/examples-conditionals.ipynb)의 예제들을 학습하세요."
   ]
  },
  {
   "cell_type": "markdown",
   "id": "bc3b2b1c",
   "metadata": {},
   "source": [
    "**주의 사항**\n",
    "\n",
    "* 기존에 작성된 코드 셀과 텍스트 셀은 수정하지 않는다.\n",
    "* 필요한 경우 코드 셀 또는 텍스트 셀을 추가해서 사용한다.\n",
    "* 실습 파일을 제출할 때 구글 드라이브의 링크를 이용하여 누구나 공유할 수 있도록 설정한다."
   ]
  },
  {
   "cell_type": "markdown",
   "id": "cd2965fb",
   "metadata": {},
   "source": [
    "## 문제 1"
   ]
  },
  {
   "cell_type": "markdown",
   "id": "21341e69",
   "metadata": {},
   "source": [
    "두 개의 양의 정수를 입력 받아 두 정수가 다른지 여부를 코드를 구현하라.\n",
    "단, 두 개의 값이 다를 때 참이라는 논리식을 이용해야 한다.\n",
    "또한 첫째 입력값은 변수 `x`에, \n",
    "둘째 입력값은 변수 `y`에 할당한다.\n",
    "최종적으로 결과에 따라 두 값이 다른지 여부를 확인하는 문장을 출력한다."
   ]
  },
  {
   "cell_type": "markdown",
   "id": "f2d521d4",
   "metadata": {},
   "source": [
    "**답**"
   ]
  },
  {
   "cell_type": "markdown",
   "id": "734f9028",
   "metadata": {},
   "source": [
    "`x`와 `y`가 서로 다른 값을 가리킨지 여부는 논리식 `x != y`로 \n",
    "판단된다.\n",
    "예를 들어 6과 3은 다름을 다음과 같이 확인한다."
   ]
  },
  {
   "cell_type": "code",
   "execution_count": 30,
   "id": "920d7d0c",
   "metadata": {},
   "outputs": [
    {
     "data": {
      "text/plain": [
       "True"
      ]
     },
     "execution_count": 30,
     "metadata": {},
     "output_type": "execute_result"
    }
   ],
   "source": [
    "6 != 3"
   ]
  },
  {
   "cell_type": "markdown",
   "id": "dfcc3bae",
   "metadata": {},
   "source": [
    "반면에 6과 6은 다르지 않다."
   ]
  },
  {
   "cell_type": "code",
   "execution_count": 34,
   "id": "9e04fe6b",
   "metadata": {},
   "outputs": [
    {
     "data": {
      "text/plain": [
       "False"
      ]
     },
     "execution_count": 34,
     "metadata": {},
     "output_type": "execute_result"
    }
   ],
   "source": [
    "6 != 6"
   ]
  },
  {
   "cell_type": "markdown",
   "id": "c928faf8",
   "metadata": {},
   "source": [
    "서로 다른 값인지 여부를 확인하는 논리식 `x != y`를 `if ... else ...` 조건문과 함께 활용하면\n",
    "원하는 코드를 구현할 수 있다."
   ]
  },
  {
   "cell_type": "markdown",
   "id": "bbac33c1",
   "metadata": {},
   "source": [
    "- 6과 3은 다름을 확인"
   ]
  },
  {
   "cell_type": "code",
   "execution_count": 32,
   "id": "996a0f98",
   "metadata": {},
   "outputs": [
    {
     "name": "stdout",
     "output_type": "stream",
     "text": [
      "첫째 양의 정수를 입력하세요: 6\n",
      "둘째 양의 정수를 입력하세요: 3\n",
      "6 와(과) 3 는 다름.\n"
     ]
    }
   ],
   "source": [
    "x = int(input(\"첫째 양의 정수를 입력하세요: \"))\n",
    "y = int(input(\"둘째 양의 정수를 입력하세요: \"))\n",
    "\n",
    "if x != y:\n",
    "    print(x, \"와(과)\", y, \"는 다름.\")\n",
    "else:\n",
    "    print(x, \"와(과)\", y, \"는 다르지 않음.\")"
   ]
  },
  {
   "cell_type": "markdown",
   "id": "7135cfa7",
   "metadata": {},
   "source": [
    "- 6과 6은 다르지 않음을 확인"
   ]
  },
  {
   "cell_type": "code",
   "execution_count": 33,
   "id": "97b74eee",
   "metadata": {},
   "outputs": [
    {
     "name": "stdout",
     "output_type": "stream",
     "text": [
      "첫째 양의 정수를 입력하세요: 6\n",
      "둘째 양의 정수를 입력하세요: 6\n",
      "6 와(과) 6 는 다르지 않음.\n"
     ]
    }
   ],
   "source": [
    "x = int(input(\"첫째 양의 정수를 입력하세요: \"))\n",
    "y = int(input(\"둘째 양의 정수를 입력하세요: \"))\n",
    "\n",
    "if x != y:\n",
    "    print(x, \"와(과)\", y, \"는 다름.\")\n",
    "else:\n",
    "    print(x, \"와(과)\", y, \"는 다르지 않음.\")"
   ]
  },
  {
   "cell_type": "markdown",
   "id": "e8a987e3",
   "metadata": {},
   "source": [
    "## 문제 2"
   ]
  },
  {
   "cell_type": "markdown",
   "id": "4dd88deb",
   "metadata": {},
   "source": [
    "11에서 20까지의 정수 중에서 2의 배수이지만 4의 배수가 아닌 수를 모두 출력하는 코드를 작성하라.\n",
    "\n",
    "힌트: 리스트, `for` 반복문 활용, 논리/비교 연산자 활용"
   ]
  },
  {
   "cell_type": "markdown",
   "id": "e269fbdb",
   "metadata": {},
   "source": [
    "**답**"
   ]
  },
  {
   "cell_type": "markdown",
   "id": "809fa002",
   "metadata": {},
   "source": [
    "11에서 20까지의 정수를 리스트로 선언한다."
   ]
  },
  {
   "cell_type": "markdown",
   "id": "1e2c039b",
   "metadata": {},
   "source": [
    "```python\n",
    "eleven2tweenty = [11, 12, 13, 14, 15, 16, 17, 18, 19, 20]\n",
    "```"
   ]
  },
  {
   "cell_type": "markdown",
   "id": "5c44bd2a",
   "metadata": {},
   "source": [
    "`num` 변수가 가리키는 값이 2의 배수이지만 4의 배구가 아닐 때 참이되는 논리식은 다음과 같다.\n",
    "\n",
    "```python\n",
    "num % 2 == 0 and not num % 4 == 0\n",
    "```"
   ]
  },
  {
   "cell_type": "markdown",
   "id": "859c67c1",
   "metadata": {},
   "source": [
    "아래 코드는 `eleven2twenty` 리스트에 `for` 반복문을 적용해서\n",
    "2의 배수이지만 4의 배수가 아닌 정수만 화면에 출력한다."
   ]
  },
  {
   "cell_type": "code",
   "execution_count": 38,
   "id": "b41d3e33",
   "metadata": {},
   "outputs": [
    {
     "name": "stdout",
     "output_type": "stream",
     "text": [
      "14 18 "
     ]
    }
   ],
   "source": [
    "eleven2tweenty = [11, 12, 13, 14, 15, 16, 17, 18, 19, 20]\n",
    "\n",
    "for num in eleven2tweenty:\n",
    "    if num % 2 == 0 and not num % 4 == 0:\n",
    "        print(num, end=' ')"
   ]
  },
  {
   "cell_type": "markdown",
   "id": "f2343a1b",
   "metadata": {},
   "source": [
    "## 문제 3"
   ]
  },
  {
   "cell_type": "markdown",
   "id": "915be448",
   "metadata": {},
   "source": [
    "11에서 20까지의 정수 중에서 3의 배수이거나 일의 자리수가 3인 정수만 출력하는 코드를 작성하라.\n",
    "\n",
    "힌트: 리스트, `for` 반복문 활용, 논리/비교 연산자 활용"
   ]
  },
  {
   "cell_type": "markdown",
   "id": "f5909eb5",
   "metadata": {},
   "source": [
    "**답**"
   ]
  },
  {
   "cell_type": "markdown",
   "id": "60b4e707",
   "metadata": {},
   "source": [
    "11에서 20까지의 정수를 리스트로 선언한다."
   ]
  },
  {
   "cell_type": "markdown",
   "id": "c93e3fd8",
   "metadata": {},
   "source": [
    "```python\n",
    "eleven2tweenty = [11, 12, 13, 14, 15, 16, 17, 18, 19, 20]\n",
    "```"
   ]
  },
  {
   "cell_type": "markdown",
   "id": "68cf67fe",
   "metadata": {},
   "source": [
    "`num` 변수가 가리키는 값이 3의 배수이거나 일의 자리수가 3일 때 참이되는 논리식은 다음과 같다.\n",
    "\n",
    "```python\n",
    "num % 3 == 0 and num % 10 == 3\n",
    "```"
   ]
  },
  {
   "cell_type": "markdown",
   "id": "86cbfe02",
   "metadata": {},
   "source": [
    "이유는 일의 자리수가 3인라 하면 10을 나눴을 때 나머지가 3인 수이기 때문이다.\n",
    "아래 코드는 `eleven2twenty` 리스트에 `for` 반복문을 적용해서\n",
    "3의 배수이거나 일의 자리수가 3인 정수만 화면에 출력한다."
   ]
  },
  {
   "cell_type": "code",
   "execution_count": 39,
   "id": "1defd18e",
   "metadata": {},
   "outputs": [
    {
     "name": "stdout",
     "output_type": "stream",
     "text": [
      "12 13 15 18 "
     ]
    }
   ],
   "source": [
    "for num in [11, 12, 13, 14, 15, 16, 17, 18, 19, 20]:\n",
    "    if num % 3 == 0 or num % 10 == 3:\n",
    "        print(num, end=' ')"
   ]
  },
  {
   "cell_type": "markdown",
   "id": "5418cb64",
   "metadata": {
    "id": "MTVs3VVPyzcU"
   },
   "source": [
    "## 문제 4"
   ]
  },
  {
   "cell_type": "markdown",
   "id": "1733ffc8",
   "metadata": {
    "id": "L1ZHNhVTPHo4"
   },
   "source": [
    "아래 코드가 실행중에 오류를 발생시키는 이유를 설명하라."
   ]
  },
  {
   "cell_type": "code",
   "execution_count": 10,
   "id": "5db9483e",
   "metadata": {},
   "outputs": [
    {
     "ename": "ZeroDivisionError",
     "evalue": "division by zero",
     "output_type": "error",
     "traceback": [
      "\u001b[0;31m---------------------------------------------------------------------------\u001b[0m",
      "\u001b[0;31mZeroDivisionError\u001b[0m                         Traceback (most recent call last)",
      "Cell \u001b[0;32mIn[10], line 1\u001b[0m\n\u001b[0;32m----> 1\u001b[0m \u001b[38;5;28;01mif\u001b[39;00m \u001b[38;5;28;01mTrue\u001b[39;00m \u001b[38;5;129;01mand\u001b[39;00m \u001b[38;5;241m3\u001b[39m\u001b[38;5;241m/\u001b[39m\u001b[38;5;241m0\u001b[39m:\n\u001b[1;32m      2\u001b[0m     \u001b[38;5;28mprint\u001b[39m(\u001b[38;5;124m\"\u001b[39m\u001b[38;5;124mB\u001b[39m\u001b[38;5;124m\"\u001b[39m)\n",
      "\u001b[0;31mZeroDivisionError\u001b[0m: division by zero"
     ]
    }
   ],
   "source": [
    "if True and 3/0:\n",
    "    print(\"B\")"
   ]
  },
  {
   "cell_type": "markdown",
   "id": "842d1228",
   "metadata": {},
   "source": [
    "**답**"
   ]
  },
  {
   "cell_type": "markdown",
   "id": "e2a5f2d2",
   "metadata": {},
   "source": [
    "먼저 오류가 어디서 왜 발생했는가에 대한 정보를 확인한다.\n",
    "오류 정보의 맨 마지막 줄에 있는 아래 정보는\n",
    "0으로 나눗셈을 시도했음을 알려준다.\n",
    "\n",
    "```\n",
    "ZeroDivisionError: division by zero\n",
    "```\n",
    "\n",
    "그리고 아래 오류 정보는 위 코드의 1번 줄에서 오류가 발생했음을 알려준다.\n",
    "\n",
    "```\n",
    "----> 1 if True and 3/0:\n",
    "```\n",
    "\n",
    "즉 `if` 조건문에 사용된 조건식인 `True and 3/0`에 문제가 있다는 말이다.\n",
    "\n",
    "`True and 3/0`은 우선 논리 연산자 `and`를 사용한다.\n",
    "그리고 `and` 연산자를 사용하는 논리식의 참/거짓 여부는\n",
    "먼저 첫째 인자의 참/거짓 여부를 확인한다.\n",
    "그런데 첫째 인자인 `True`는 (항상) 참이다.\n",
    "따라서 둘째 인자인 `3/0`의 참/거짓 여부를 확인한다.\n",
    "그리고 여기서 3을 0으로 나눈 결과를 확인하려할 때 문제가 발생한다.\n",
    "0을 이용한 나눗셈은 허용되지 않기에 오류가 발생한다.\n",
    "\n",
    "`if` 조건문에 사용되는 조건식의 참/거짓 여부를 판단할 때 오류가 발생하기에\n",
    "본문에 사용된 `print()` 함수 호출은 아예 발생하지 않는다."
   ]
  },
  {
   "cell_type": "markdown",
   "id": "06ca213a",
   "metadata": {
    "id": "MTVs3VVPyzcU"
   },
   "source": [
    "## 문제 5"
   ]
  },
  {
   "cell_type": "markdown",
   "id": "094e4e56",
   "metadata": {},
   "source": [
    "사용자로부터 키(cm 단위)와 몸무게(kg 단위)를 입력받아 체질량지수(BMI)를 구하는 코드를 작성하여라.\n",
    "\n",
    "```\n",
    "BMI = 몸무게 / (키 * 0.01)**2\n",
    "```\n",
    "\n",
    "또한 BMI 수치에 따른 체중 분류는 다음과 같다.\n",
    "\n",
    "| BMI 수치 | 체중 분류 |\n",
    "| :--- | :--- |\n",
    "| BMI <= 18.5 | 저체중 |\n",
    "| 18.5 < BMI <= 23 | 정상 |\n",
    "| 23 < BMI <= 25 | 과체중 |\n",
    "| 25 < BMI <= 30 | 비만 |\n",
    "| BMI > 30 | 고도비만 |\n",
    "\n",
    "또한 BMI 결과에 따라 아래 다섯 개의 문장 중에 하나가 출력되어야 한다.\n",
    "\n",
    "```\n",
    "\"BMI는 저체중입니다.\n",
    "\"BMI는 정상 수치입니다.\n",
    "\"BMI는 과체중입니다.\n",
    "\"BMI는 비만입니다.\n",
    "\"BMI는 고도 비만입니다.\n",
    "```"
   ]
  },
  {
   "cell_type": "markdown",
   "id": "cd33bd57",
   "metadata": {},
   "source": [
    "**답**"
   ]
  },
  {
   "cell_type": "markdown",
   "id": "2918c034",
   "metadata": {},
   "source": [
    "BMI 수치를 서로 중첩되지 않은 3개 이상의 구간으로 나눠야 한다.\n",
    "이런 경우 `if ... elif ... elif ... else ...` 명령문을 활용하면 좋다."
   ]
  },
  {
   "cell_type": "markdown",
   "id": "c366c100",
   "metadata": {},
   "source": [
    "- 몸무게 70kg, 키 178cm 인 경우"
   ]
  },
  {
   "cell_type": "code",
   "execution_count": 13,
   "id": "372476e0",
   "metadata": {},
   "outputs": [
    {
     "name": "stdout",
     "output_type": "stream",
     "text": [
      "몸무게를 kg 단위로 숫자만 입력하세요: 70\n",
      "키를 cm 단위로 숫자만 입력하세요: 178\n",
      "BMI는 정상 수치입니다.\n"
     ]
    }
   ],
   "source": [
    "weight = int(input(\"몸무게를 kg 단위로 숫자만 입력하세요: \"))\n",
    "height = int(input(\"키를 cm 단위로 숫자만 입력하세요: \"))\n",
    "\n",
    "BMI = weight / (height * 0.01)**2\n",
    "\n",
    "if BMI <= 18.5:\n",
    "    print(\"BMI는 저체중입니다.\")\n",
    "elif 18.5 < BMI <= 23:\n",
    "    print(\"BMI는 정상 수치입니다.\")\n",
    "elif 23 < BMI <= 25:\n",
    "    print(\"BMI는 과체중입니다.\")\n",
    "elif 25 < BMI <= 30:\n",
    "    print(\"BMI는 비만입니다.\")\n",
    "else:\n",
    "    print(\"BMI는 고도 비만입니다.\")"
   ]
  },
  {
   "cell_type": "markdown",
   "id": "bb98b338",
   "metadata": {},
   "source": [
    "- 몸무게 95kg, 키 176cm 인 경우"
   ]
  },
  {
   "cell_type": "code",
   "execution_count": 14,
   "id": "22c090c8",
   "metadata": {},
   "outputs": [
    {
     "name": "stdout",
     "output_type": "stream",
     "text": [
      "몸무게를 kg 단위로 숫자만 입력하세요: 95\n",
      "키를 cm 단위로 숫자만 입력하세요: 176\n",
      "BMI는 고도 비만입니다.\n"
     ]
    }
   ],
   "source": [
    "weight = int(input(\"몸무게를 kg 단위로 숫자만 입력하세요: \"))\n",
    "height = int(input(\"키를 cm 단위로 숫자만 입력하세요: \"))\n",
    "\n",
    "BMI = weight / (height * 0.01)**2\n",
    "\n",
    "if BMI <= 18.5:\n",
    "    print(\"BMI는 저체중입니다.\")\n",
    "elif 18.5 < BMI <= 23:\n",
    "    print(\"BMI는 정상 수치입니다.\")\n",
    "elif 23 < BMI <= 25:\n",
    "    print(\"BMI는 과체중입니다.\")\n",
    "elif 25 < BMI <= 30:\n",
    "    print(\"BMI는 비만입니다.\")\n",
    "else:\n",
    "    print(\"BMI는 고도 비만입니다.\")"
   ]
  },
  {
   "cell_type": "markdown",
   "id": "d895ef45",
   "metadata": {},
   "source": [
    "## 문제 6"
   ]
  },
  {
   "cell_type": "markdown",
   "id": "aecfcca8",
   "metadata": {},
   "source": [
    "연도 `year`의 윤년 여부는 아래 기준에 따라 판단된다.\n",
    "\n",
    "- 4의 배수인 경우 윤년,\n",
    "- 하지만 100의 배수인 경우는 평년,\n",
    "- 그래도 400의 배수인 경우는 무조건 윤년!\n",
    "\n",
    "위 기준을 하나의 논리식으로 표현하여 `year`가 윤년인지 여부를 판단하라.\n",
    "\n",
    "단, `and`, `or`, `not` 등을 이용하는 표현식 하나와 `if ... else ... ` 명령문을 사용한다.\\\n",
    "즉 중첩 조건문 또는 `if ... elif ... else ...` 등은 사용하지 않아야 한다."
   ]
  },
  {
   "cell_type": "markdown",
   "id": "a5cd1bca",
   "metadata": {},
   "source": [
    "**답**"
   ]
  },
  {
   "cell_type": "markdown",
   "id": "c02d52f5",
   "metadata": {},
   "source": [
    "위 기준을 논리식으로 표현하려면 먼저 `year`의 4의 배수 여부, 100의 배수 여부, 400의 배수 여부를 표현해야 한다.\n",
    "\n",
    "- 4의 배수 여부: `year % 4 == 0`\n",
    "- 100의 배수 여부: `year % 100 == 0`\n",
    "- 400의 배수 여부: `year % 400 == 0`\n",
    "\n",
    "이제 위 세 개의 표현식을 조합해야 한다.\n",
    "\n",
    "먼저 400의 배수는 무조건 윤년이다.\n",
    "그리고 400의 배수가 아니라면 4의 배수이면서 동시에 100의 배수가 아니어야 한다.\n",
    "따라서 위 세 기준을 다음과 같이 하나의 문장으로 표현할 수 있다.\n",
    "\n",
    "```\n",
    "400의 배수인 경우이거나 4의 배수이지만 100의 배수가 아닌 경우에 윤년이다.\n",
    "```\n",
    "\n",
    "예를 들어 2024년이 윤년인지 여부는 아래 표현식으로 결정된다."
   ]
  },
  {
   "cell_type": "code",
   "execution_count": null,
   "id": "0ccf64c1",
   "metadata": {},
   "outputs": [
    {
     "data": {
      "text/plain": [
       "True"
      ]
     },
     "metadata": {},
     "output_type": "display_data"
    }
   ],
   "source": [
    "year = 2024\n",
    "\n",
    "(year % 400 == 0) or (year % 4 == 0 and year % 100 != 0)"
   ]
  },
  {
   "cell_type": "markdown",
   "id": "bf03f308",
   "metadata": {},
   "source": [
    "아래 표현식을 사용해도 된다."
   ]
  },
  {
   "cell_type": "code",
   "execution_count": null,
   "id": "1022fcab",
   "metadata": {},
   "outputs": [
    {
     "data": {
      "text/plain": [
       "True"
      ]
     },
     "metadata": {},
     "output_type": "display_data"
    }
   ],
   "source": [
    "year = 2024\n",
    "\n",
    "(year % 400 == 0) or (year % 4 == 0 and not year % 100 == 0)"
   ]
  },
  {
   "cell_type": "markdown",
   "id": "f8d5754e",
   "metadata": {},
   "source": [
    "`not`, `and`, `or`의 순으로 연산자 우선순위가 높기에 아래처럼 괄호를 전혀 사용하지 않다고 된다."
   ]
  },
  {
   "cell_type": "code",
   "execution_count": null,
   "id": "2dca1e7d",
   "metadata": {},
   "outputs": [
    {
     "data": {
      "text/plain": [
       "True"
      ]
     },
     "metadata": {},
     "output_type": "display_data"
    }
   ],
   "source": [
    "year = 2024\n",
    "\n",
    "year % 400 == 0 or year % 4 == 0 and not year % 100 == 0"
   ]
  },
  {
   "cell_type": "markdown",
   "id": "8d7c0100",
   "metadata": {},
   "source": [
    "아래 코드는 임의의 연도에 대해 윤년 여부를 판단하기 위해 사용자로부터 연도를 입력받는다."
   ]
  },
  {
   "cell_type": "markdown",
   "id": "df11fed5",
   "metadata": {},
   "source": [
    "- 2024년"
   ]
  },
  {
   "cell_type": "code",
   "execution_count": 1,
   "id": "0acad07c",
   "metadata": {},
   "outputs": [
    {
     "name": "stdout",
     "output_type": "stream",
     "text": [
      "2024 년은 윤년입니다.\n"
     ]
    }
   ],
   "source": [
    "year = int(input(\"연도를 입력하세요: \"))\n",
    "\n",
    "if year % 400 == 0 or year % 4 == 0 and not year % 100 == 0:\n",
    "    print(year, \"년은 윤년입니다.\")\n",
    "else:\n",
    "    print(year, \"년은 평년입니다.\")"
   ]
  },
  {
   "cell_type": "markdown",
   "id": "f756a99e",
   "metadata": {},
   "source": [
    "- 1900년"
   ]
  },
  {
   "cell_type": "code",
   "execution_count": null,
   "id": "3a05b7df",
   "metadata": {},
   "outputs": [
    {
     "name": "stdout",
     "output_type": "stream",
     "text": [
      "연도를 입력하세요: 1900\n",
      "1900 년은 평년입니다.\n"
     ]
    }
   ],
   "source": [
    "year = int(input(\"연도를 입력하세요: \"))\n",
    "\n",
    "if year % 400 == 0 or year % 4 == 0 and not year % 100 == 0:\n",
    "    print(year, \"년은 윤년입니다.\")\n",
    "else:\n",
    "    print(year, \"년은 평년입니다.\")"
   ]
  },
  {
   "cell_type": "markdown",
   "id": "822177bf",
   "metadata": {},
   "source": [
    "- 2000년"
   ]
  },
  {
   "cell_type": "code",
   "execution_count": null,
   "id": "c3a79dd1",
   "metadata": {},
   "outputs": [
    {
     "name": "stdout",
     "output_type": "stream",
     "text": [
      "연도를 입력하세요: 2000\n",
      "2000 년은 윤년입니다.\n"
     ]
    }
   ],
   "source": [
    "year = int(input(\"연도를 입력하세요: \"))\n",
    "\n",
    "if year % 400 == 0 or year % 4 == 0 and not year % 100 == 0:\n",
    "    print(year, \"년은 윤년입니다.\")\n",
    "else:\n",
    "    print(year, \"년은 평년입니다.\")"
   ]
  },
  {
   "cell_type": "markdown",
   "id": "5d832ad4",
   "metadata": {},
   "source": [
    "- 2025년"
   ]
  },
  {
   "cell_type": "code",
   "execution_count": null,
   "id": "3fc018b1",
   "metadata": {},
   "outputs": [
    {
     "name": "stdout",
     "output_type": "stream",
     "text": [
      "연도를 입력하세요: 2025\n",
      "2025 년은 평년입니다.\n"
     ]
    }
   ],
   "source": [
    "year = int(input(\"연도를 입력하세요: \"))\n",
    "\n",
    "if year % 400 == 0 or year % 4 == 0 and not year % 100 == 0:\n",
    "    print(year, \"년은 윤년입니다.\")\n",
    "else:\n",
    "    print(year, \"년은 평년입니다.\")"
   ]
  },
  {
   "cell_type": "markdown",
   "id": "1904cc67",
   "metadata": {},
   "source": [
    "## 문제 7"
   ]
  },
  {
   "cell_type": "markdown",
   "id": "e8828b79",
   "metadata": {},
   "source": [
    "아래 코드는 세 개의 막대 길이에 해당하는 부동소수점을 입력받아\n",
    "삼각형을 그릴 수 있는지 여부를 판단한다."
   ]
  },
  {
   "cell_type": "code",
   "execution_count": 1,
   "id": "0fddcf0f",
   "metadata": {},
   "outputs": [
    {
     "name": "stdout",
     "output_type": "stream",
     "text": [
      "첫째 막대 길이: 3.6\n",
      "둘째 막대 길이: 2.9\n",
      "셋째 막대 길이: 4.1\n",
      "삼각형 가능\n"
     ]
    }
   ],
   "source": [
    "a = float(input(\"첫째 막대 길이: \"))\n",
    "b = float(input(\"둘째 막대 길이: \"))\n",
    "c = float(input(\"셋째 막대 길이: \"))\n",
    "\n",
    "if a >= b + c or b >= a + c or c >= a + b:\n",
    "    print(\"삼각형 불가능\")\n",
    "else:\n",
    "    print(\"삼각형 가능\")"
   ]
  },
  {
   "cell_type": "markdown",
   "id": "079508e0",
   "metadata": {},
   "source": [
    "위 코드를 수정해서\n",
    "`or` 연산자를 사용하는 논리식 `a >= b + c or b >= a + c or c >= a + b` 대신에\n",
    "`a >= b + c`, `b >= a + c`, `c >= a + b` 세 개의 논리식을 따로따로 사용하도록 하라.\n",
    "\n",
    "힌트: `if ... elif ... else ...` 명령문 활용"
   ]
  },
  {
   "cell_type": "markdown",
   "id": "ac967c0d",
   "metadata": {},
   "source": [
    "**답**"
   ]
  },
  {
   "cell_type": "markdown",
   "id": "4c7ba1a5",
   "metadata": {},
   "source": [
    "다음과 같이 표현할 수도 있다."
   ]
  },
  {
   "cell_type": "markdown",
   "id": "9c4449ee",
   "metadata": {},
   "source": [
    "다음 세 가지 경우가 동시에 참일 수는 없다.\n",
    "\n",
    "- `a >= b + c`\n",
    "- `b >= a + c`\n",
    "- `c >= a + b` \n",
    "\n",
    "따라서 위 세 경우를 차례대로 `if ... elif ... elif ... else ...`로 처리할 수 있다."
   ]
  },
  {
   "cell_type": "code",
   "execution_count": 41,
   "id": "aae72d9a",
   "metadata": {},
   "outputs": [
    {
     "name": "stdout",
     "output_type": "stream",
     "text": [
      "첫째 막대 길이: 11.3\n",
      "둘째 막대 길이: 25.7\n",
      "셋째 막대 길이: 18.8\n",
      "삼각형 가능\n"
     ]
    }
   ],
   "source": [
    "a = float(input(\"첫째 막대 길이: \"))\n",
    "b = float(input(\"둘째 막대 길이: \"))\n",
    "c = float(input(\"셋째 막대 길이: \"))\n",
    "\n",
    "if a >= b + c:\n",
    "    print(\"삼각형 불가능\")\n",
    "elif b >= a + c:\n",
    "    print(\"삼각형 불가능\")\n",
    "elif c >= a + b:\n",
    "    print(\"삼각형 불가능\")\n",
    "else:\n",
    "    print(\"삼각형 가능\")"
   ]
  },
  {
   "cell_type": "code",
   "execution_count": 40,
   "id": "1bca013e",
   "metadata": {},
   "outputs": [
    {
     "name": "stdout",
     "output_type": "stream",
     "text": [
      "첫째 막대 길이: 11.7\n",
      "둘째 막대 길이: 32.9\n",
      "셋째 막대 길이: 20.1\n",
      "삼각형 불가능\n"
     ]
    }
   ],
   "source": [
    "a = float(input(\"첫째 막대 길이: \"))\n",
    "b = float(input(\"둘째 막대 길이: \"))\n",
    "c = float(input(\"셋째 막대 길이: \"))\n",
    "\n",
    "if a >= b + c:\n",
    "    print(\"삼각형 불가능\")\n",
    "elif b >= a + c:\n",
    "    print(\"삼각형 불가능\")\n",
    "elif c >= a + b:\n",
    "    print(\"삼각형 불가능\")\n",
    "else:\n",
    "    print(\"삼각형 가능\")"
   ]
  },
  {
   "cell_type": "markdown",
   "id": "9b34feea",
   "metadata": {},
   "source": [
    "## 문제 8"
   ]
  },
  {
   "cell_type": "markdown",
   "id": "c2dc7f4e",
   "metadata": {},
   "source": [
    "직사각형 모양의 바닥에 정사각형 모양의 타일을 깔 때\n",
    "타일은 온장을 그대로 사용할 수도 있고, 잘라서 일부분만 사용할 수도 있다.\n",
    "타일의 크기는 가로, 세로 모두 30cm이며, 잘라서 사용한 타일의 나머지는 사용하지 않는다.\n",
    "\n",
    "가로와 세로 각각 400cm, 500cm 인 바닥을 타일로 덮기 위해 필요한 온장 타일과 잘라서 사용한 타일의 개수의 합을\n",
    "계산하는 코드는 다음과 같다."
   ]
  },
  {
   "cell_type": "code",
   "execution_count": 8,
   "id": "4b174f7d",
   "metadata": {},
   "outputs": [
    {
     "name": "stdout",
     "output_type": "stream",
     "text": [
      "필요한 타일의 수: 238\n"
     ]
    }
   ],
   "source": [
    "width = 400\n",
    "height = 500\n",
    "tile_length = 30\n",
    "\n",
    "num_full_width = width // tile_length\n",
    "num_full_height = height // tile_length\n",
    "\n",
    "# 온장 타일 개수\n",
    "num_full = num_full_width * num_full_height\n",
    "\n",
    "# 잘린 타일 개수\n",
    "if width % tile_length == 0:\n",
    "    if height % tile_length == 0:\n",
    "        num_part = 0\n",
    "    else:\n",
    "        num_part = num_full_width\n",
    "\n",
    "else:\n",
    "    if height % tile_length == 0:\n",
    "        num_part = num_full_height\n",
    "    else:\n",
    "        num_part = num_full_width + num_full_height + 1\n",
    "\n",
    "# 온장 타일과 잘라딘 타일 수\n",
    "print(\"필요한 타일의 수:\", num_full + num_part)"
   ]
  },
  {
   "cell_type": "markdown",
   "id": "796acd30",
   "metadata": {},
   "source": [
    "중첩 조건문 대신 `if ... elif ... elif ... else ...` 명령문을 사용하도록\n",
    "위 코드를 수정하라.\n",
    "\n",
    "힌트: 논리 연산자 활용"
   ]
  },
  {
   "cell_type": "code",
   "execution_count": 6,
   "id": "3c0fa1d5",
   "metadata": {},
   "outputs": [],
   "source": [
    "# 코드를 작성한다.\n",
    "# 필요하면 코드셀 또는 텍스트셀을 추가할 수 있습니다.\n",
    "\n",
    "width = 400\n",
    "height = 500\n",
    "tile_length = 30\n",
    "\n",
    "num_full_width = width // tile_length\n",
    "num_full_height = height // tile_length\n",
    "\n",
    "# 온장 타일 개수\n",
    "num_full = num_full_width * num_full_height\n",
    "\n",
    "# 코드를 이어서 작성하세요.\n",
    "\n"
   ]
  },
  {
   "cell_type": "markdown",
   "id": "9c40f9ea",
   "metadata": {},
   "source": [
    "**답**"
   ]
  },
  {
   "cell_type": "markdown",
   "id": "303148d0",
   "metadata": {},
   "source": [
    "다음 중첩 `if ... else ...` 문을 살펴 보면\n",
    "아래 두 논리식의 참/거짓 여부에 따른 네 가지 경우로 나뉜다.\n",
    "\n",
    "- `width % tile_length == 0`\n",
    "- `height % tile_length == 0`"
   ]
  },
  {
   "cell_type": "markdown",
   "id": "10dd70fb",
   "metadata": {},
   "source": [
    "```python\n",
    "if width % tile_length == 0:\n",
    "    if height % tile_length == 0:\n",
    "        num_part = 0\n",
    "    else:\n",
    "        num_part = num_full_width\n",
    "\n",
    "else:\n",
    "    if height % tile_length == 0:\n",
    "        num_part = num_full_height\n",
    "    else:\n",
    "        num_part = num_full_width + num_full_height + 1\n",
    "```"
   ]
  },
  {
   "cell_type": "markdown",
   "id": "51dd325f",
   "metadata": {},
   "source": [
    "따라서 네 가지 경우를 `and` 논리 연산자를 이용하여 다음처럼 표현할 수 있다.\n",
    "\n",
    "- `width % tile_length == 0 and height % tile_length == 0`\n",
    "- `width % tile_length == 0 and height % tile_length != 0`\n",
    "- `width % tile_length != 0 and height % tile_length == 0`\n",
    "- `width % tile_length != 0 and height % tile_length != 0`\n",
    "\n",
    "아래 코드는 위 네 가지 경우를 `if ... elif ... elif ... else ...` 명령문으로 표현하였다.\n",
    "마지막 경우는 `else`로 처리되었음에 주의한다."
   ]
  },
  {
   "cell_type": "code",
   "execution_count": 42,
   "id": "a295ef1f",
   "metadata": {},
   "outputs": [
    {
     "name": "stdout",
     "output_type": "stream",
     "text": [
      "필요한 타일의 수: 238\n"
     ]
    }
   ],
   "source": [
    "width = 400\n",
    "height = 500\n",
    "tile_length = 30\n",
    "\n",
    "num_full_width = width // tile_length\n",
    "num_full_height = height // tile_length\n",
    "\n",
    "# 온장 타일 개수\n",
    "num_full = num_full_width * num_full_height\n",
    "\n",
    "# 잘린 타일 개수\n",
    "if width % tile_length == 0 and height % tile_length == 0:\n",
    "    num_part = 0\n",
    "elif width % tile_length == 0 and height % tile_length != 0:\n",
    "    num_part = num_full_width\n",
    "elif width % tile_length != 0 and height % tile_length == 0:\n",
    "    num_part = num_full_height\n",
    "else:\n",
    "    num_part = num_full_width + num_full_height + 1\n",
    "\n",
    "# 온장 타일과 잘라딘 타일 수\n",
    "print(\"필요한 타일의 수:\", num_full + num_part)"
   ]
  }
 ],
 "metadata": {
  "kernelspec": {
   "display_name": "Python 3 (ipykernel)",
   "language": "python",
   "name": "python3"
  },
  "language_info": {
   "codemirror_mode": {
    "name": "ipython",
    "version": 3
   },
   "file_extension": ".py",
   "mimetype": "text/x-python",
   "name": "python",
   "nbconvert_exporter": "python",
   "pygments_lexer": "ipython3",
   "version": "3.11.5"
  }
 },
 "nbformat": 4,
 "nbformat_minor": 5
}
