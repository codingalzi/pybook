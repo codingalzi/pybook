{
 "cells": [
  {
   "cell_type": "markdown",
   "id": "4355d4f8",
   "metadata": {},
   "source": [
    "# (실습) 조건문"
   ]
  },
  {
   "cell_type": "markdown",
   "id": "33b9f9c3",
   "metadata": {},
   "source": [
    "## 문제"
   ]
  },
  {
   "cell_type": "markdown",
   "id": "412449c6",
   "metadata": {},
   "source": [
    "두 정수와 함께 호출되었을 때 첫째 인자가 둘째 인자의 배수인지 여부를 반환값으로 \n",
    "계산하는 함수 `is_divisible()` 함수를 정의한다.\n",
    "다음 두 개의 매개 변수를 사용한다.\n",
    "\n",
    "- `x`: 첫째 매개 변수. 정수 인자 받기.\n",
    "- `y`: 둘째 매개 변수. 정수 인자 받기."
   ]
  },
  {
   "cell_type": "code",
   "execution_count": 3,
   "id": "d0e6d08e",
   "metadata": {},
   "outputs": [],
   "source": [
    "# 코드를 작성한다.\n",
    "# 필요하면 코드셀 또는 텍스트셀을 추가할 수 있습니다.\n",
    "\n"
   ]
  },
  {
   "cell_type": "markdown",
   "id": "ca746cd7",
   "metadata": {},
   "source": [
    "**답**"
   ]
  },
  {
   "cell_type": "markdown",
   "id": "922fff0e",
   "metadata": {},
   "source": [
    "`x`가 `y`의 배수인지 여부는 논리식 `x % y == 0`로 판단되기에 해당 논리식을 반환값으로 지정하면 된다.\n",
    "따라서 아래와 같이 간단하게 `is_divisible()` 함수를 정의할 수 있다."
   ]
  },
  {
   "cell_type": "code",
   "execution_count": 4,
   "id": "2ab08cc7",
   "metadata": {},
   "outputs": [],
   "source": [
    "def is_divisible(x, y):\n",
    "    return x % y == 0"
   ]
  },
  {
   "cell_type": "code",
   "execution_count": 5,
   "id": "accbbed3",
   "metadata": {},
   "outputs": [
    {
     "data": {
      "text/plain": [
       "False"
      ]
     },
     "execution_count": 5,
     "metadata": {},
     "output_type": "execute_result"
    }
   ],
   "source": [
    "is_divisible(6, 4)"
   ]
  },
  {
   "cell_type": "code",
   "execution_count": 6,
   "id": "81bdec34",
   "metadata": {},
   "outputs": [
    {
     "data": {
      "text/plain": [
       "True"
      ]
     },
     "execution_count": 6,
     "metadata": {},
     "output_type": "execute_result"
    }
   ],
   "source": [
    "is_divisible(6, 3)"
   ]
  },
  {
   "cell_type": "markdown",
   "id": "21f1d12d",
   "metadata": {},
   "source": [
    "그런데 함수를 아래와 같이 정의하는 것을 먼저 생각했을 수도 있다.\n",
    "하지만 아래 코드는 실제로 동의어 반복을 쓰고 있다.\n",
    "왜냐면 반환값이 `if` 조건문에 사용된 논리식 `x % y == 0`과 동일한 값이기 때문이다."
   ]
  },
  {
   "cell_type": "code",
   "execution_count": 4,
   "id": "1d9089f3",
   "metadata": {},
   "outputs": [],
   "source": [
    "def is_divisible(x, y):\n",
    "    if x % y == 0:\n",
    "        return True\n",
    "    else:\n",
    "        return False"
   ]
  },
  {
   "cell_type": "markdown",
   "id": "5d4fae65",
   "metadata": {},
   "source": [
    "`is_divisible()` 함수처럼 부울값을 반환하는 함수는 함수 호출 표현식을 바로 논리식으로 활용할 수 있다.\n",
    "예를 들어 아래 코드는 `x`가 `y`의 배수일 때 그 사실을 문장으로 확인해준다."
   ]
  },
  {
   "cell_type": "code",
   "execution_count": 8,
   "id": "795d72d6",
   "metadata": {},
   "outputs": [
    {
     "name": "stdout",
     "output_type": "stream",
     "text": [
      "16 을(를) 4 (으)로 나눌 수 있다.\n"
     ]
    }
   ],
   "source": [
    "x = 16\n",
    "y = 4\n",
    "\n",
    "if is_divisible(x, y):\n",
    "    print(x, '을(를)', y, '(으)로 나눌 수 있다.')"
   ]
  },
  {
   "cell_type": "markdown",
   "id": "e38e2861",
   "metadata": {},
   "source": [
    "**문제 2**"
   ]
  },
  {
   "cell_type": "markdown",
   "id": "e7d78b78",
   "metadata": {},
   "source": [
    "`time` 모듈에 UTC(Coordinated Universal Time)를 알려주는 `time()` 함수가 포함되어 있다.\n",
    "`time()` 함수는 일종의 컴퓨터 시간의 생일인 1970년 1월 1일을 기준으로 \n",
    "함수의 호출 순간까지 흐른 시간을 초 단위로 반환한다."
   ]
  },
  {
   "cell_type": "code",
   "execution_count": 3,
   "id": "8dea55a7",
   "metadata": {},
   "outputs": [
    {
     "name": "stdout",
     "output_type": "stream",
     "text": [
      "1648371613.0191061\n"
     ]
    }
   ],
   "source": [
    "import time\n",
    "x = time.time()\n",
    "\n",
    "print(x)"
   ]
  },
  {
   "cell_type": "markdown",
   "id": "70f972c0",
   "metadata": {},
   "source": [
    "현재의 UTC를 시, 분, 초 단위로 변환하는\n",
    "함수 `time_convert()` 함수를 구현하라.\n",
    "단, 반환값은 아래 포맷을 갖춘 문자열이어야 하며,\n",
    "초는 반올림해서 계산한다.\n",
    "\n",
    "```python\n",
    "시-분-초\n",
    "```\n",
    "\n",
    "힌트: `divmod()` 함수를 활용할 수 있다."
   ]
  },
  {
   "cell_type": "code",
   "execution_count": 4,
   "id": "72cc29e4",
   "metadata": {
    "id": "Zy1oRDipLoZk"
   },
   "outputs": [],
   "source": [
    "# 아래 코드에서 pass 를 적절한 명령문으로, None 을 적절한 표현식으로 대체하라.\n",
    "\n",
    "def time_convert():\n",
    "    pass\n",
    "\n",
    "    return None"
   ]
  },
  {
   "cell_type": "code",
   "execution_count": 5,
   "id": "fe0f3f5d",
   "metadata": {
    "colab": {
     "base_uri": "https://localhost:8080/"
    },
    "executionInfo": {
     "elapsed": 591,
     "status": "ok",
     "timestamp": 1616980079158,
     "user": {
      "displayName": "HJ Kim",
      "photoUrl": "",
      "userId": "16634276932240017990"
     },
     "user_tz": -540
    },
    "id": "LoH5ptaxhPTh",
    "outputId": "203743fb-f4c4-486a-ab8c-c891cc24d1c9"
   },
   "outputs": [],
   "source": [
    "# 아래 코드의 주석 기호를 제거하고 실행하면 아래 모양의 결과가 나와야 한다.\n",
    "# '457875-29-17'\n",
    "\n",
    "# time_convert()"
   ]
  },
  {
   "cell_type": "markdown",
   "id": "fc695b76",
   "metadata": {},
   "source": [
    "**문제 3**"
   ]
  },
  {
   "cell_type": "markdown",
   "id": "f1072099",
   "metadata": {},
   "source": [
    "오늘의 요일을 확인하여 0에서 6 사이의 정수를 반환하는 함수\n",
    "`wday2num()` 함수를 구현하라.\n",
    "단, 다음 조건을 만족해야 한다.\n",
    "\n",
    "- 일(Sun), 월(Mon), 화(Tue), 수(Wed), 목(Thu), 금(Fri), 토(Sat) 순서대로 0, 1, 2, 3, 4, 5, 6 을 사용한다.\n",
    "- 하나의 매개변수 `wday` 를 사용하며, 키워드 인자로 `\"Sun\"`을 사용한다.\n",
    "- 지정된 `wday` 와 오늘의 요일이 일치하면 \n",
    "    해당 요일도 함께 튜플로 반환한다.\n",
    "    \n",
    "힌트: `time.ctime()` 함수 활용."
   ]
  },
  {
   "cell_type": "code",
   "execution_count": 7,
   "id": "b59b16a9",
   "metadata": {},
   "outputs": [
    {
     "data": {
      "text/plain": [
       "'Sun Mar 27 18:00:13 2022'"
      ]
     },
     "execution_count": 7,
     "metadata": {},
     "output_type": "execute_result"
    }
   ],
   "source": [
    "time.ctime()"
   ]
  },
  {
   "cell_type": "code",
   "execution_count": 8,
   "id": "231a0b69",
   "metadata": {},
   "outputs": [
    {
     "data": {
      "text/plain": [
       "'Sun Mar 27 18:00:13 2022'"
      ]
     },
     "execution_count": 8,
     "metadata": {},
     "output_type": "execute_result"
    }
   ],
   "source": [
    "time.ctime(time.time())"
   ]
  },
  {
   "cell_type": "code",
   "execution_count": 9,
   "id": "6d78f2bb",
   "metadata": {
    "id": "Zy1oRDipLoZk"
   },
   "outputs": [],
   "source": [
    "# 아래 코드에서 pass 를 적절한 명령문으로, None 을 적절한 표현식으로 대체하라.\n",
    "\n",
    "def wday2num(wday=None):\n",
    "    pass\n",
    "\n",
    "    return None"
   ]
  },
  {
   "cell_type": "code",
   "execution_count": 10,
   "id": "78c4e218",
   "metadata": {
    "id": "Zy1oRDipLoZk"
   },
   "outputs": [],
   "source": [
    "# wday2num(wday=\"Mon\")\n",
    "# wday2num(wday=\"Sun\")"
   ]
  },
  {
   "cell_type": "markdown",
   "id": "e6857870",
   "metadata": {},
   "source": [
    "**문제 4**"
   ]
  },
  {
   "cell_type": "markdown",
   "id": "af2ac26c",
   "metadata": {},
   "source": [
    "페르마의 마지막 정리는 정수 $n$ 이 2보다 클 때, \n",
    "아래 식을 만족하는 세 개의 양의 정수 $a$, $b$, $c$ 가 존재하지 않는다고 말한다.\n",
    "\n",
    "$$\n",
    "a^n + b^n = c^n \n",
    "$$\n",
    "\n",
    "$n$, $a$, $b$, $c$ 네 개의 값이 주어졌을 때 위 등식이 성립하는지 여부를 판단하는 함수\n",
    "`fermat()` 를 구현하라.\n",
    "단, 다음 조건을 만족해야 한다.\n",
    "\n",
    "- `n`, `a`, `b`, `c` 네 개의 매개변수를 사용한다.\n",
    "- `n` 에 2보다 같거나 작은 수가 인자로 사용되면 `False`를 반환한다.\n",
    "- `n` 에 2보다 큰 경우 위 식이 성립하면 `True`, 아니면 `False` 를 반환한다."
   ]
  },
  {
   "cell_type": "code",
   "execution_count": 11,
   "id": "6493e8ea",
   "metadata": {
    "id": "Zy1oRDipLoZk"
   },
   "outputs": [],
   "source": [
    "# 아래 코드에서 pass 를 적절한 명령문으로, None 을 적절한 표현식으로 대체하라.\n",
    "\n",
    "def fermat(n, a, b, c):\n",
    "    pass\n",
    "\n",
    "    return None"
   ]
  },
  {
   "cell_type": "code",
   "execution_count": 12,
   "id": "1d0150cc",
   "metadata": {
    "colab": {
     "base_uri": "https://localhost:8080/"
    },
    "executionInfo": {
     "elapsed": 591,
     "status": "ok",
     "timestamp": 1616980079158,
     "user": {
      "displayName": "HJ Kim",
      "photoUrl": "",
      "userId": "16634276932240017990"
     },
     "user_tz": -540
    },
    "id": "LoH5ptaxhPTh",
    "outputId": "203743fb-f4c4-486a-ab8c-c891cc24d1c9"
   },
   "outputs": [],
   "source": [
    "# 아래 코드의 주석 기호를 제거하고 실행했을 때 오류가 발생하지 않아야 함.\n",
    "\n",
    "# assert fermat(2, 3, 5, 7) == False\n",
    "# assert fermat(3, 17, 3, 22) == False"
   ]
  },
  {
   "cell_type": "markdown",
   "id": "8cbebd75",
   "metadata": {},
   "source": [
    "**문제 5**"
   ]
  },
  {
   "cell_type": "markdown",
   "id": "41bf63c4",
   "metadata": {},
   "source": [
    "세 개의 막대를 이용하여 삼각형을 만들 수 있는지 여부를 판단하는 함수\n",
    "`triangle()` 함수를 구현하라.\n",
    "단, 다음 조건을 만족해야 한다.\n",
    "\n",
    "- 세 개의 양의 정수를 입력받는다.\n",
    "- 삼각형을 만들 수 있으면 `True`, 아니면 `False`를 반환한다.\n",
    "\n",
    "힌트: 막대 하나의 길이가 다른 두 막대의 길이의 합보다 크면 삼각형을 만들 수 없다."
   ]
  },
  {
   "cell_type": "code",
   "execution_count": 13,
   "id": "7a11eb8b",
   "metadata": {
    "id": "Zy1oRDipLoZk"
   },
   "outputs": [],
   "source": [
    "# 아래 코드에서 pass 를 적절한 명령문으로, None 을 적절한 표현식으로 대체하라.\n",
    "\n",
    "def triangle(a, b, c):\n",
    "    pass\n",
    "\n",
    "    return None"
   ]
  },
  {
   "cell_type": "code",
   "execution_count": 14,
   "id": "97353a5c",
   "metadata": {
    "colab": {
     "base_uri": "https://localhost:8080/"
    },
    "executionInfo": {
     "elapsed": 591,
     "status": "ok",
     "timestamp": 1616980079158,
     "user": {
      "displayName": "HJ Kim",
      "photoUrl": "",
      "userId": "16634276932240017990"
     },
     "user_tz": -540
    },
    "id": "LoH5ptaxhPTh",
    "outputId": "203743fb-f4c4-486a-ab8c-c891cc24d1c9"
   },
   "outputs": [],
   "source": [
    "# 아래 코드의 주석 기호를 제거하고 실행했을 때 오류가 발생하지 않아야 함.\n",
    "\n",
    "# assert triangle(3, 5, 7) == True\n",
    "# assert triangle(17, 3, 22) == False"
   ]
  },
  {
   "cell_type": "markdown",
   "id": "c234a67f",
   "metadata": {},
   "source": [
    "**문제 6**"
   ]
  },
  {
   "cell_type": "markdown",
   "id": "c6c9afed",
   "metadata": {},
   "source": [
    "'racecar', '토마토', 'stats'와 같이 앞뒤를 뒤집어도 \n",
    "똑같은 문자열을 **회문**(palindrome)이라고 한다. \n",
    "문자열이 주어질 때, 그 문자열이 회문이면 `Success` 를, 아니면 `Fail` 을 반환하는 함수\n",
    "`palindrome()` 를 작성하여라.\n",
    "\n",
    "힌트: 문자열 인덱싱, 슬라이싱 활용"
   ]
  },
  {
   "cell_type": "code",
   "execution_count": 15,
   "id": "f96af980",
   "metadata": {
    "id": "Zy1oRDipLoZk"
   },
   "outputs": [],
   "source": [
    "# 아래 코드에서 pass 를 적절한 명령문으로, None 을 적절한 표현식으로 대체하라.\n",
    "\n",
    "def palindrome(aString):\n",
    "    pass\n",
    "\n",
    "    return None"
   ]
  },
  {
   "cell_type": "code",
   "execution_count": 16,
   "id": "65514e9f",
   "metadata": {
    "colab": {
     "base_uri": "https://localhost:8080/"
    },
    "executionInfo": {
     "elapsed": 591,
     "status": "ok",
     "timestamp": 1616980079158,
     "user": {
      "displayName": "HJ Kim",
      "photoUrl": "",
      "userId": "16634276932240017990"
     },
     "user_tz": -540
    },
    "id": "LoH5ptaxhPTh",
    "outputId": "203743fb-f4c4-486a-ab8c-c891cc24d1c9"
   },
   "outputs": [],
   "source": [
    "# 아래 코드의 주석 기호를 제거하고 실행했을 때 오류가 발생하지 않아야 함.\n",
    "\n",
    "# assert palindrome(\"racecar\") == \"Success\"\n",
    "# assert palindrome(\"tomato\") == \"Fail\"\n",
    "# assert palindrome(\"기러기\") == \"Success\"\n",
    "# assert palindrome(\"인싸 의사의 싸인\") == \"Success\"\n",
    "# assert palindrome(\"다시 합창합시다\") == \"Fail\""
   ]
  },
  {
   "cell_type": "markdown",
   "id": "f0925f3e",
   "metadata": {},
   "source": [
    "**문제 7**"
   ]
  },
  {
   "cell_type": "markdown",
   "id": "70737c8e",
   "metadata": {},
   "source": [
    "이전 문제의 `palindrome()` 함수가 문자열에 포함된 공백(space)을 무시하도록 수정하라."
   ]
  },
  {
   "cell_type": "code",
   "execution_count": 17,
   "id": "9e20c394",
   "metadata": {
    "id": "Zy1oRDipLoZk"
   },
   "outputs": [],
   "source": [
    "# 아래 코드에서 pass 를 적절한 명령문으로, None 을 적절한 표현식으로 대체하라.\n",
    "\n",
    "def palindrome(aString):\n",
    "    pass\n",
    "\n",
    "    return None"
   ]
  },
  {
   "cell_type": "code",
   "execution_count": 18,
   "id": "df098186",
   "metadata": {
    "colab": {
     "base_uri": "https://localhost:8080/"
    },
    "executionInfo": {
     "elapsed": 591,
     "status": "ok",
     "timestamp": 1616980079158,
     "user": {
      "displayName": "HJ Kim",
      "photoUrl": "",
      "userId": "16634276932240017990"
     },
     "user_tz": -540
    },
    "id": "LoH5ptaxhPTh",
    "outputId": "203743fb-f4c4-486a-ab8c-c891cc24d1c9"
   },
   "outputs": [],
   "source": [
    "# 아래 코드의 주석 기호를 제거하고 실행했을 때 오류가 발생하지 않아야 함.\n",
    "\n",
    "# assert palindrome(\"race car\") == \"Success\"\n",
    "# assert palindrome(\"tom ato\") == \"Fail\"\n",
    "# assert palindrome(\"인싸의사의 싸인\") == \"Success\"\n",
    "# assert palindrome(\"다시 합창합시다\") == \"Success\""
   ]
  }
 ],
 "metadata": {
  "kernelspec": {
   "display_name": "Python 3 (ipykernel)",
   "language": "python",
   "name": "python3"
  },
  "language_info": {
   "codemirror_mode": {
    "name": "ipython",
    "version": 3
   },
   "file_extension": ".py",
   "mimetype": "text/x-python",
   "name": "python",
   "nbconvert_exporter": "python",
   "pygments_lexer": "ipython3",
   "version": "3.11.4"
  }
 },
 "nbformat": 4,
 "nbformat_minor": 5
}
