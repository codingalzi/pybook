{
 "cells": [
  {
   "cell_type": "markdown",
   "id": "0bff1ebd",
   "metadata": {},
   "source": [
    "**문제**"
   ]
  },
  {
   "cell_type": "markdown",
   "id": "d89d072d",
   "metadata": {
    "id": "LI2MPm0oix4t"
   },
   "source": [
    "자연수 n 이 주어졌을 때, 1의 자릿수가 3의 배수이면 입력값의 세 배를, 아니면 두 배를 반환하는 \n",
    "함수 `three_or_not()` 함수를 구현하라.\n",
    "\n",
    "힌트: 나머지 연산자를 활용한다."
   ]
  },
  {
   "cell_type": "code",
   "execution_count": 1,
   "id": "554dcd24",
   "metadata": {
    "id": "Zy1oRDipLoZk"
   },
   "outputs": [],
   "source": [
    "# 아래 코드에서 pass 를 적절한 명령문으로, None 을 적절한 표현식으로 대체하라.\n",
    "\n",
    "def three_or_not(n):\n",
    "    pass\n",
    "\n",
    "    return None"
   ]
  },
  {
   "cell_type": "code",
   "execution_count": 2,
   "id": "a3153f7a",
   "metadata": {
    "colab": {
     "base_uri": "https://localhost:8080/"
    },
    "executionInfo": {
     "elapsed": 591,
     "status": "ok",
     "timestamp": 1616980079158,
     "user": {
      "displayName": "HJ Kim",
      "photoUrl": "",
      "userId": "16634276932240017990"
     },
     "user_tz": -540
    },
    "id": "LoH5ptaxhPTh",
    "outputId": "203743fb-f4c4-486a-ab8c-c891cc24d1c9"
   },
   "outputs": [],
   "source": [
    "# 아래 코드의 주석 기호를 제거하고 실행했을 때 오류가 발생하지 않아야 함.\n",
    "\n",
    "# assert three_or_not(10) == 30\n",
    "# assert three_or_not(24) == 48"
   ]
  },
  {
   "cell_type": "markdown",
   "id": "fffa349f",
   "metadata": {},
   "source": [
    "**문제**"
   ]
  },
  {
   "cell_type": "markdown",
   "id": "76913838",
   "metadata": {},
   "source": [
    "`time` 모듈에 그리니치 평균시(Greenwich Mean Time, GMT)를 알려주는 `time()` 함수가 포함되어 있다.\n",
    "`time()` 함수는 1970년 1월 1일을 기준으로 하는 일종의 컴퓨터 생일 시간을 기준으로\n",
    "호출 순간까지 흐른 시간을 초 단위로 반환한다."
   ]
  },
  {
   "cell_type": "code",
   "execution_count": 7,
   "id": "70f34c36",
   "metadata": {},
   "outputs": [
    {
     "name": "stdout",
     "output_type": "stream",
     "text": [
      "1648352236.9490833\n"
     ]
    }
   ],
   "source": [
    "import time\n",
    "x = time.time()\n",
    "\n",
    "print(x)"
   ]
  },
  {
   "cell_type": "markdown",
   "id": "67c1abc2",
   "metadata": {},
   "source": [
    "현재의 그리니치 표준시를 시, 분, 초 단위로 변환하는\n",
    "함수 `time_convert()` 함수를 구현하라.\n",
    "단, 반환값은 아래 포맷을 갖춘 문자열이어야 하며,\n",
    "초는 반올림해서 계산한다.\n",
    "\n",
    "```python\n",
    "시-분-초\n",
    "```\n",
    "\n",
    "힌트: `divmod()` 함수를 활용할 수 있다."
   ]
  },
  {
   "cell_type": "code",
   "execution_count": 4,
   "id": "87f8a76f",
   "metadata": {
    "id": "Zy1oRDipLoZk"
   },
   "outputs": [],
   "source": [
    "# 아래 코드에서 pass 를 적절한 명령문으로, None 을 적절한 표현식으로 대체하라.\n",
    "\n",
    "def time_convert(n):\n",
    "    pass\n",
    "\n",
    "    return None"
   ]
  },
  {
   "cell_type": "code",
   "execution_count": 5,
   "id": "24d23c30",
   "metadata": {
    "colab": {
     "base_uri": "https://localhost:8080/"
    },
    "executionInfo": {
     "elapsed": 591,
     "status": "ok",
     "timestamp": 1616980079158,
     "user": {
      "displayName": "HJ Kim",
      "photoUrl": "",
      "userId": "16634276932240017990"
     },
     "user_tz": -540
    },
    "id": "LoH5ptaxhPTh",
    "outputId": "203743fb-f4c4-486a-ab8c-c891cc24d1c9"
   },
   "outputs": [],
   "source": [
    "# 아래 코드의 주석 기호를 제거하고 실행하면 아래 모양의 결과가 나와야 한다.\n",
    "# '457875-29-17'\n",
    "\n",
    "# time_convert()"
   ]
  },
  {
   "cell_type": "markdown",
   "id": "ac9fa1c4",
   "metadata": {},
   "source": [
    "**문제**"
   ]
  },
  {
   "cell_type": "markdown",
   "id": "258a83b8",
   "metadata": {},
   "source": [
    "Fermat’s Last Theorem says that there are no positive integers $a$, $b$, and $c$ such that\n",
    "\n",
    "$$\n",
    "a^n + b^n = c^n \n",
    "$$\n",
    "\n",
    "for any values of $n$ greater than 2.\n",
    "\n",
    "1. Write a function named check_fermat that takes four parameters—a, b, c and n—and checks to see if Fermat’s theorem holds. If n is greater than 2 and\n",
    "an + bn = cn \n",
    "the program should print, “Holy smokes, Fermat was wrong!” Otherwise the program should print, “No, that doesn’t work.”\n",
    "\n",
    "1. Write a function that prompts the user to input values for a, b, c and n, converts them to integers, and uses check_fermat to check whether they violate Fermat’s theorem."
   ]
  },
  {
   "cell_type": "markdown",
   "id": "e34bd43c",
   "metadata": {},
   "source": [
    "**문제**"
   ]
  },
  {
   "cell_type": "markdown",
   "id": "1dfca955",
   "metadata": {},
   "source": [
    "If you are given three sticks, you may or may not be able to arrange them in a triangle. For example, if one of the sticks is 12 inches long and the other two are one inch long, you will not be able to get the short sticks to meet in the middle. For any three lengths, there is a simple test to see if it is possible to form a triangle:\n",
    "\n",
    "If any of the three lengths is greater than the sum of the other two, then you cannot form a triangle. Otherwise, you can. (If the sum of two lengths equals the third, they form what is called a “degenerate” triangle.)\n",
    "\n",
    "1. Write a function named is_triangle that takes three integers as arguments, and that prints either “Yes” or “No”, depending on whether you can or cannot form a triangle from sticks with the given lengths.\n",
    "\n",
    "1. Write a function that prompts the user to input three stick lengths, converts them to integers, and uses is_triangle to check whether sticks with the given lengths can form a triangle."
   ]
  },
  {
   "cell_type": "markdown",
   "id": "f74c2d37",
   "metadata": {},
   "source": [
    "**문제**"
   ]
  },
  {
   "cell_type": "markdown",
   "id": "0af67468",
   "metadata": {},
   "source": []
  },
  {
   "cell_type": "markdown",
   "id": "a8031b3d",
   "metadata": {},
   "source": [
    "**문제**"
   ]
  },
  {
   "cell_type": "markdown",
   "id": "f472d5b9",
   "metadata": {},
   "source": []
  },
  {
   "cell_type": "markdown",
   "id": "29cbe230",
   "metadata": {},
   "source": [
    "**문제**"
   ]
  },
  {
   "cell_type": "markdown",
   "id": "1f56d886",
   "metadata": {},
   "source": []
  },
  {
   "cell_type": "markdown",
   "id": "000735c7",
   "metadata": {},
   "source": [
    "**문제**"
   ]
  },
  {
   "cell_type": "markdown",
   "id": "2c270022",
   "metadata": {},
   "source": []
  },
  {
   "cell_type": "markdown",
   "id": "49a18026",
   "metadata": {},
   "source": [
    "**문제**"
   ]
  },
  {
   "cell_type": "markdown",
   "id": "2d8ae6a0",
   "metadata": {},
   "source": []
  },
  {
   "cell_type": "markdown",
   "id": "5deb3a49",
   "metadata": {},
   "source": [
    "**문제**"
   ]
  },
  {
   "cell_type": "markdown",
   "id": "b1834f53",
   "metadata": {},
   "source": []
  },
  {
   "cell_type": "markdown",
   "id": "da9c171e",
   "metadata": {},
   "source": [
    "**문제**"
   ]
  },
  {
   "cell_type": "markdown",
   "id": "d110d90b",
   "metadata": {},
   "source": []
  },
  {
   "cell_type": "markdown",
   "id": "05a6baa9",
   "metadata": {},
   "source": [
    "**문제**"
   ]
  },
  {
   "cell_type": "markdown",
   "id": "86c08042",
   "metadata": {},
   "source": []
  },
  {
   "cell_type": "markdown",
   "id": "2b19bd8a",
   "metadata": {},
   "source": [
    "**문제**"
   ]
  },
  {
   "cell_type": "markdown",
   "id": "ec389eb1",
   "metadata": {},
   "source": []
  },
  {
   "cell_type": "markdown",
   "id": "69df5389",
   "metadata": {},
   "source": [
    "**문제**"
   ]
  },
  {
   "cell_type": "markdown",
   "id": "5ac75955",
   "metadata": {},
   "source": []
  },
  {
   "cell_type": "markdown",
   "id": "cb138489",
   "metadata": {},
   "source": [
    "**문제**"
   ]
  },
  {
   "cell_type": "markdown",
   "id": "fd5a9f14",
   "metadata": {},
   "source": []
  },
  {
   "cell_type": "markdown",
   "id": "122045e2",
   "metadata": {},
   "source": [
    "**문제**"
   ]
  },
  {
   "cell_type": "markdown",
   "id": "618167db",
   "metadata": {},
   "source": []
  },
  {
   "cell_type": "markdown",
   "id": "68abe503",
   "metadata": {},
   "source": [
    "**문제**"
   ]
  },
  {
   "cell_type": "markdown",
   "id": "667346bf",
   "metadata": {},
   "source": []
  },
  {
   "cell_type": "markdown",
   "id": "37720fa7",
   "metadata": {},
   "source": [
    "**문제**"
   ]
  },
  {
   "cell_type": "markdown",
   "id": "3d3acbec",
   "metadata": {},
   "source": []
  },
  {
   "cell_type": "markdown",
   "id": "de17bc96",
   "metadata": {},
   "source": [
    "**문제**"
   ]
  },
  {
   "cell_type": "markdown",
   "id": "d0a2e1e4",
   "metadata": {},
   "source": []
  },
  {
   "cell_type": "markdown",
   "id": "ca1faf22",
   "metadata": {},
   "source": [
    "**문제**"
   ]
  },
  {
   "cell_type": "markdown",
   "id": "cf348fc4",
   "metadata": {},
   "source": []
  },
  {
   "cell_type": "markdown",
   "id": "080c0df6",
   "metadata": {},
   "source": [
    "**문제**"
   ]
  },
  {
   "cell_type": "markdown",
   "id": "d57c594e",
   "metadata": {},
   "source": []
  },
  {
   "cell_type": "markdown",
   "id": "229c85dc",
   "metadata": {},
   "source": [
    "**문제**"
   ]
  },
  {
   "cell_type": "markdown",
   "id": "cb12a740",
   "metadata": {},
   "source": []
  },
  {
   "cell_type": "markdown",
   "id": "23e62890",
   "metadata": {},
   "source": [
    "**문제**"
   ]
  },
  {
   "cell_type": "markdown",
   "id": "b4728605",
   "metadata": {},
   "source": []
  }
 ],
 "metadata": {
  "kernelspec": {
   "display_name": "Python 3 (ipykernel)",
   "language": "python",
   "name": "python3"
  },
  "language_info": {
   "codemirror_mode": {
    "name": "ipython",
    "version": 3
   },
   "file_extension": ".py",
   "mimetype": "text/x-python",
   "name": "python",
   "nbconvert_exporter": "python",
   "pygments_lexer": "ipython3",
   "version": "3.9.7"
  }
 },
 "nbformat": 4,
 "nbformat_minor": 5
}
