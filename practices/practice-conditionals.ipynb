{
 "cells": [
  {
   "cell_type": "markdown",
   "id": "4355d4f8",
   "metadata": {},
   "source": [
    "# (실습) 조건문"
   ]
  },
  {
   "cell_type": "markdown",
   "id": "bc3b2b1c",
   "metadata": {},
   "source": [
    "**주의 사항**\n",
    "\n",
    "* 기존에 작성된 코드 셀과 텍스트 셀은 수정하지 않는다.\n",
    "* 필요한 경우 코드 셀 또는 텍스트 셀을 추가해서 사용한다.\n",
    "* 실습 파일을 제출할 때 구글 드라이브의 링크를 이용하여 누구나 공유할 수 있도록 설정한다."
   ]
  },
  {
   "cell_type": "markdown",
   "id": "5140d50d",
   "metadata": {},
   "source": [
    "**참고:** 먼저 [(필수 예제) 조건문](https://colab.research.google.com/github/codingalzi/pybook/blob/master/practices/examples-conditionals.ipynb)의 예제를 학습하세요."
   ]
  },
  {
   "cell_type": "markdown",
   "id": "0b9a8cb4",
   "metadata": {},
   "source": [
    "## 문제 1"
   ]
  },
  {
   "cell_type": "markdown",
   "id": "335c7c2a",
   "metadata": {},
   "source": [
    "두 개의 양의 정수를 입력 받아 두 정수가 다른지 여부를 코드를 구현하라.\n",
    "단, 두 개의 값이 다를 때 참이라는 논리식을 이용해야 한다.\n",
    "또한 첫째 입력값은 변수 `x`에, \n",
    "둘째 입력값은 변수 `y`에 할당한다.\n",
    "최종적으로 결과에 따라 두 값이 다른지 여부를 확인하는 문장을 출력한다."
   ]
  },
  {
   "cell_type": "code",
   "execution_count": 1,
   "id": "bbe4d990",
   "metadata": {},
   "outputs": [],
   "source": [
    "# 코드를 작성한다.\n",
    "# 필요하면 코드셀 또는 텍스트셀을 추가할 수 있습니다.\n",
    "\n"
   ]
  },
  {
   "cell_type": "markdown",
   "id": "8addf77f",
   "metadata": {},
   "source": [
    "## 문제 2"
   ]
  },
  {
   "cell_type": "markdown",
   "id": "c03cd6d1",
   "metadata": {},
   "source": [
    "11에서 20까지의 정수 중에서 2의 배수이지만 4의 배수가 아닌 수를 모두 출력하는 코드를 작성하라.\n",
    "\n",
    "힌트: 리스트, `for` 반복문 활용, 논리/비교 연산자 활용"
   ]
  },
  {
   "cell_type": "code",
   "execution_count": 1,
   "id": "95ed9bd8",
   "metadata": {},
   "outputs": [],
   "source": [
    "# 코드를 작성한다.\n",
    "# 필요하면 코드셀 또는 텍스트셀을 추가할 수 있습니다.\n",
    "\n"
   ]
  },
  {
   "cell_type": "markdown",
   "id": "b099e209",
   "metadata": {},
   "source": [
    "## 문제 3"
   ]
  },
  {
   "cell_type": "markdown",
   "id": "5e740095",
   "metadata": {},
   "source": [
    "11에서 20까지의 정수 중에서 3의 배수이거나 일의 자리수가 3인 정수만 출력하는 코드를 작성하라.\n",
    "\n",
    "힌트: 리스트, `for` 반복문 활용, 논리/비교 연산자 활용"
   ]
  },
  {
   "cell_type": "code",
   "execution_count": 1,
   "id": "5865030d",
   "metadata": {},
   "outputs": [],
   "source": [
    "# 코드를 작성한다.\n",
    "# 필요하면 코드셀 또는 텍스트셀을 추가할 수 있습니다.\n",
    "\n"
   ]
  },
  {
   "cell_type": "markdown",
   "id": "85cb1e22",
   "metadata": {
    "id": "MTVs3VVPyzcU"
   },
   "source": [
    "## 문제 4"
   ]
  },
  {
   "cell_type": "markdown",
   "id": "c215d464",
   "metadata": {},
   "source": [
    "아래 코드를 실행했을 때 리스트 `[]`의 의미를 설명하라."
   ]
  },
  {
   "cell_type": "code",
   "execution_count": 15,
   "id": "cca9536f",
   "metadata": {},
   "outputs": [
    {
     "name": "stdout",
     "output_type": "stream",
     "text": [
      "거짓인 경우라서 실행됨!\n"
     ]
    }
   ],
   "source": [
    "if []:\n",
    "    print(\"참인 경우라서 실행됨!\")\n",
    "else:\n",
    "    print(\"거짓인 경우라서 실행됨!\")"
   ]
  },
  {
   "cell_type": "markdown",
   "id": "b1ba6551",
   "metadata": {},
   "source": [
    "*실행 결과 설명*\n",
    "\n",
    "..."
   ]
  },
  {
   "cell_type": "markdown",
   "id": "9cd4b94b",
   "metadata": {
    "id": "MTVs3VVPyzcU"
   },
   "source": [
    "## 문제 5"
   ]
  },
  {
   "cell_type": "markdown",
   "id": "1733ffc8",
   "metadata": {
    "id": "L1ZHNhVTPHo4"
   },
   "source": [
    "아래 코드가 실행중에 오류를 발생시키는 이유를 설명하라."
   ]
  },
  {
   "cell_type": "code",
   "execution_count": 10,
   "id": "5db9483e",
   "metadata": {},
   "outputs": [
    {
     "ename": "ZeroDivisionError",
     "evalue": "division by zero",
     "output_type": "error",
     "traceback": [
      "\u001b[0;31m---------------------------------------------------------------------------\u001b[0m",
      "\u001b[0;31mZeroDivisionError\u001b[0m                         Traceback (most recent call last)",
      "Cell \u001b[0;32mIn[10], line 1\u001b[0m\n\u001b[0;32m----> 1\u001b[0m \u001b[38;5;28;01mif\u001b[39;00m \u001b[38;5;28;01mTrue\u001b[39;00m \u001b[38;5;129;01mand\u001b[39;00m \u001b[38;5;241m3\u001b[39m\u001b[38;5;241m/\u001b[39m\u001b[38;5;241m0\u001b[39m:\n\u001b[1;32m      2\u001b[0m     \u001b[38;5;28mprint\u001b[39m(\u001b[38;5;124m\"\u001b[39m\u001b[38;5;124mB\u001b[39m\u001b[38;5;124m\"\u001b[39m)\n",
      "\u001b[0;31mZeroDivisionError\u001b[0m: division by zero"
     ]
    }
   ],
   "source": [
    "if True and 3/0:\n",
    "    print(\"B\")"
   ]
  },
  {
   "cell_type": "markdown",
   "id": "f3d7f5d2",
   "metadata": {},
   "source": [
    "*실행 결과 설명*\n",
    "\n",
    "..."
   ]
  },
  {
   "cell_type": "markdown",
   "id": "5e40676e",
   "metadata": {},
   "source": [
    "## 문제 6"
   ]
  },
  {
   "cell_type": "markdown",
   "id": "094e4e56",
   "metadata": {},
   "source": [
    "사용자로부터 키(cm 단위)와 몸무게(kg 단위)를 입력받아 체질량지수(BMI)를 구하는 코드를 작성하여라.\n",
    "\n",
    "```\n",
    "BMI = 몸무게 / (키 * 0.01)**2\n",
    "```\n",
    "\n",
    "또한 BMI 수치에 따른 체중 분류는 다음과 같다.\n",
    "\n",
    "| BMI 수치 | 체중 분류 |\n",
    "| :--- | :--- |\n",
    "| BMI <= 18.5 | 저체중 |\n",
    "| 18.5 < BMI <= 23 | 정상 |\n",
    "| 23 < BMI <= 25 | 과체중 |\n",
    "| 25 < BMI <= 30 | 비만 |\n",
    "| BMI > 30 | 고도비만 |\n",
    "\n",
    "또한 BMI 결과에 따라 아래 다섯 개의 문장 중에 하나가 출력되어야 한다.\n",
    "\n",
    "```\n",
    "\"BMI는 저체중입니다.\n",
    "\"BMI는 정상 수치입니다.\n",
    "\"BMI는 과체중입니다.\n",
    "\"BMI는 비만입니다.\n",
    "\"BMI는 고도 비만입니다.\n",
    "```"
   ]
  },
  {
   "cell_type": "code",
   "execution_count": 1,
   "id": "926260b9",
   "metadata": {},
   "outputs": [],
   "source": [
    "# 코드를 작성한다.\n",
    "# 필요하면 코드셀 또는 텍스트셀을 추가할 수 있습니다.\n",
    "\n"
   ]
  },
  {
   "cell_type": "markdown",
   "id": "777409a4",
   "metadata": {},
   "source": [
    "## 문제 7"
   ]
  },
  {
   "cell_type": "markdown",
   "id": "5b4aa34a",
   "metadata": {},
   "source": [
    "사용자가 연도를 입력했을 때 윤년 여부를 판단하는 코드를 작성하라.\n",
    "단, 아래 세 개의 논리식만 사용하며, `and`, `or`, `not` 등의 논리 연산자는 사용하지 않는다.\n",
    "또한 `if ... elif ... else ...` 명령문을 이용한다.\n",
    "\n",
    "- `year % 400 == 0`\n",
    "- `year % 100 == 0`\n",
    "- `year % 4 == 0`\n",
    "\n",
    "윤년과 평년 여부는 다음 세 가지 규칙으로 판단한다. \n",
    "\n",
    "- 4의 배수인 경우 윤년,\n",
    "- 하지만 100의 배수인 경우는 평년,\n",
    "- 그래도 400의 배수인 경우는 무조건 윤년!\n",
    "\n",
    "예를 들어 아래 연도는 모두 윤년이다.\n",
    "\n",
    "- 1988, 2024: 4의 배수이면서 100의 배수 아님\n",
    "- 2000: 100의 배수이지만 400의 배수임\n",
    "    \n",
    "반면에 아래 연도는 모두 윤년이 아니다.\n",
    "\n",
    "- 1900: 4의 배수이지만 100의 배수임. 그리고 400의 배수 아님.\n",
    "- 2023: 4의 배수 아님."
   ]
  },
  {
   "cell_type": "code",
   "execution_count": 1,
   "id": "5243cb6f",
   "metadata": {},
   "outputs": [],
   "source": [
    "# 코드를 작성한다.\n",
    "# 필요하면 코드셀 또는 텍스트셀을 추가할 수 있습니다.\n",
    "\n"
   ]
  },
  {
   "cell_type": "markdown",
   "id": "a60f621b",
   "metadata": {},
   "source": [
    "## 문제 8"
   ]
  },
  {
   "cell_type": "markdown",
   "id": "47f70b53",
   "metadata": {},
   "source": [
    "아래 코드는 세 개의 막대 길이에 해당하는 부동소수점을 입력받아\n",
    "삼각형을 그릴 수 있는지 여부를 판단한다."
   ]
  },
  {
   "cell_type": "code",
   "execution_count": 1,
   "id": "bf008e93",
   "metadata": {},
   "outputs": [
    {
     "name": "stdout",
     "output_type": "stream",
     "text": [
      "첫째 막대 길이: 3.6\n",
      "둘째 막대 길이: 2.9\n",
      "셋째 막대 길이: 4.1\n",
      "삼각형 가능\n"
     ]
    }
   ],
   "source": [
    "a = float(input(\"첫째 막대 길이: \"))\n",
    "b = float(input(\"둘째 막대 길이: \"))\n",
    "c = float(input(\"셋째 막대 길이: \"))\n",
    "\n",
    "if a >= b + c or b >= a + c or c >= a + b:\n",
    "    print(\"삼각형 불가능\")\n",
    "else:\n",
    "    print(\"삼각형 가능\")"
   ]
  },
  {
   "cell_type": "markdown",
   "id": "0b9fca13",
   "metadata": {},
   "source": [
    "위 코드를 수정해서\n",
    "`or` 연산자를 사용하는 논리식 `a >= b + c or b >= a + c or c >= a + b` 대신에\n",
    "`a >= b + c`, `b >= a + c`, `c >= a + b` 세 개의 논리식을 따로따로 사용하도록 하라.\n",
    "\n",
    "힌트: `if ... elif ... else ...` 명령문 활용"
   ]
  },
  {
   "cell_type": "code",
   "execution_count": 1,
   "id": "33bd54d7",
   "metadata": {},
   "outputs": [],
   "source": [
    "# 코드를 작성한다.\n",
    "# 필요하면 코드셀 또는 텍스트셀을 추가할 수 있습니다.\n",
    "\n"
   ]
  },
  {
   "cell_type": "markdown",
   "id": "0ceeab03",
   "metadata": {},
   "source": [
    "## 문제 9"
   ]
  },
  {
   "cell_type": "markdown",
   "id": "c2dc7f4e",
   "metadata": {},
   "source": [
    "직사각형 모양의 바닥에 정사각형 모양의 타일을 깔 때\n",
    "타일은 온장을 그대로 사용할 수도 있고, 잘라서 일부분만 사용할 수도 있다.\n",
    "타일의 크기는 가로, 세로 모두 30cm이며, 잘라서 사용한 타일의 나머지는 사용하지 않는다.\n",
    "\n",
    "가로와 세로 각각 400cm, 500cm 인 바닥을 타일로 덮기 위해 필요한 온장 타일과 잘라서 사용한 타일의 개수의 합을\n",
    "계산하는 코드는 다음과 같다."
   ]
  },
  {
   "cell_type": "code",
   "execution_count": 8,
   "id": "4b174f7d",
   "metadata": {},
   "outputs": [
    {
     "name": "stdout",
     "output_type": "stream",
     "text": [
      "필요한 타일의 수: 238\n"
     ]
    }
   ],
   "source": [
    "width = 400\n",
    "height = 500\n",
    "tile_length = 30\n",
    "\n",
    "num_full_width = width // tile_length\n",
    "num_full_height = height // tile_length\n",
    "\n",
    "# 온장 타일 개수\n",
    "num_full = num_full_width * num_full_height\n",
    "\n",
    "# 잘린 타일 개수\n",
    "if width % tile_length == 0:\n",
    "    if height % tile_length == 0:\n",
    "        num_part = 0\n",
    "    else:\n",
    "        num_part = num_full_width\n",
    "\n",
    "else:\n",
    "    if height % tile_length == 0:\n",
    "        num_part = num_full_height\n",
    "    else:\n",
    "        num_part = num_full_width + num_full_height + 1\n",
    "\n",
    "# 온장 타일과 잘라딘 타일 수\n",
    "print(\"필요한 타일의 수:\", num_full + num_part)"
   ]
  },
  {
   "cell_type": "markdown",
   "id": "796acd30",
   "metadata": {},
   "source": [
    "중첩 조건문 대신 `if ... elif ... elif ... else ...` 명령문을 사용하도록\n",
    "위 코드를 수정하라.\n",
    "\n",
    "힌트: 논리 연산자 활용"
   ]
  },
  {
   "cell_type": "code",
   "execution_count": 6,
   "id": "3c0fa1d5",
   "metadata": {},
   "outputs": [],
   "source": [
    "# 코드를 작성한다.\n",
    "# 필요하면 코드셀 또는 텍스트셀을 추가할 수 있습니다.\n",
    "\n",
    "width = 400\n",
    "height = 500\n",
    "tile_length = 30\n",
    "\n",
    "num_full_width = width // tile_length\n",
    "num_full_height = height // tile_length\n",
    "\n",
    "# 온장 타일 개수\n",
    "num_full = num_full_width * num_full_height\n",
    "\n",
    "# 코드를 이어서 작성하세요.\n",
    "\n"
   ]
  }
 ],
 "metadata": {
  "kernelspec": {
   "display_name": "Python 3 (ipykernel)",
   "language": "python",
   "name": "python3"
  },
  "language_info": {
   "codemirror_mode": {
    "name": "ipython",
    "version": 3
   },
   "file_extension": ".py",
   "mimetype": "text/x-python",
   "name": "python",
   "nbconvert_exporter": "python",
   "pygments_lexer": "ipython3",
   "version": "3.11.4"
  }
 },
 "nbformat": 4,
 "nbformat_minor": 5
}
