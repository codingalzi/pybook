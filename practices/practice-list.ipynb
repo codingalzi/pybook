{
 "cells": [
  {
   "cell_type": "markdown",
   "metadata": {
    "id": "6HxPOS4SqZ2t"
   },
   "source": [
    "**문제**"
   ]
  },
  {
   "cell_type": "markdown",
   "metadata": {
    "id": "6HxPOS4SqZ2t"
   },
   "source": [
    "`sorted()` 함수는 리스트를 크기 기준 오름차순으로 정렬한다. "
   ]
  },
  {
   "cell_type": "code",
   "execution_count": 1,
   "metadata": {
    "colab": {
     "base_uri": "https://localhost:8080/"
    },
    "id": "dkk2cqIiqkLh",
    "outputId": "2893d300-b575-4a36-f7c4-a83d35dddf9a"
   },
   "outputs": [
    {
     "data": {
      "text/plain": [
       "[1, 2, 3, 4, 5]"
      ]
     },
     "execution_count": 1,
     "metadata": {},
     "output_type": "execute_result"
    }
   ],
   "source": [
    "a_list = [3, 2, 1, 4, 5]\n",
    "sorted_list = sorted(a_list)\n",
    "sorted_list"
   ]
  },
  {
   "cell_type": "markdown",
   "metadata": {
    "id": "ng7hQMCTq9yh"
   },
   "source": [
    "아래 코드에서 `rev_sorted_list` 변수가 `a_list`를 크기 기준 오름차순으로 정렬한 리스트를 참조하도록 `None` 값을 적절한 표현식으로 대체하라.\n",
    "\n",
    "즉, 아래가 성립해야 한다.\n",
    "\n",
    "```python\n",
    "rev_sorted_list = [5, 4, 3, 2, 1]\n",
    "```\n",
    "\n",
    "힌트: `sorted()` 함수의 키워드 인자 활용"
   ]
  },
  {
   "cell_type": "code",
   "execution_count": 2,
   "metadata": {
    "colab": {
     "base_uri": "https://localhost:8080/"
    },
    "id": "mrYqh9_qq5Dp",
    "outputId": "b3eb2c9d-e0c4-4de3-aa22-d04089a886b9"
   },
   "outputs": [
    {
     "name": "stdout",
     "output_type": "stream",
     "text": [
      "None\n"
     ]
    }
   ],
   "source": [
    "# None을 sorted(a_list, ...) 형식의 표현식으로 대체해야 함\n",
    "# sorted() 함수의 키워드 인자를 반드시 사용해야 함.\n",
    "# 단순히 리스트를 입력하면 0점 처리됨.\n",
    "\n",
    "rev_sorted_list = None\n",
    "\n",
    "print(rev_sorted_list)"
   ]
  },
  {
   "cell_type": "markdown",
   "metadata": {
    "id": "_jbOaYOv4GO0"
   },
   "source": [
    "**문제**"
   ]
  },
  {
   "cell_type": "markdown",
   "metadata": {
    "id": "_jbOaYOv4GO0"
   },
   "source": [
    "`datetime` 모듈의 `datetime` 객체가 아래와 같이 주어졌다.\n",
    "\n",
    "```python\n",
    "dt = datetime(2021, 3, 14, 15, 5, 20)\n",
    "```\n",
    "\n",
    "변수 `current_time`이 아래 문자열을 가리키도록 아래 코드를 완성하라."
   ]
  },
  {
   "cell_type": "code",
   "execution_count": 3,
   "metadata": {
    "id": "Du-N2j9QXzxK"
   },
   "outputs": [],
   "source": [
    "current_time_string = \"오늘은 2021년 3월 14일이고, 현재 시각은 오후 3시 5분 20초입니다.\""
   ]
  },
  {
   "cell_type": "markdown",
   "metadata": {
    "id": "CCTPSOZ-X1O7"
   },
   "source": [
    "힌트: datetime 객체의 다양한 메서드 활용 및 적절한 f-문자열 지정\n",
    "\n",
    "- 참고: [datetime 클래스 문서](https://docs.python.org/ko/3/library/datetime.html)\n",
    "- 참고: [f-문자열 포매팅](https://wikidocs.net/13#f)"
   ]
  },
  {
   "cell_type": "code",
   "execution_count": 4,
   "metadata": {
    "id": "7DG6gVYH5F69"
   },
   "outputs": [],
   "source": [
    "from datetime import datetime, date, time\n",
    "\n",
    "dt = datetime(2021, 3, 14, 15, 5, 20)"
   ]
  },
  {
   "cell_type": "code",
   "execution_count": 5,
   "metadata": {
    "id": "3r7wlGp15psQ"
   },
   "outputs": [],
   "source": [
    "# 추가 코드가 필요하면 여기에 작성\n",
    "\n"
   ]
  },
  {
   "cell_type": "code",
   "execution_count": 6,
   "metadata": {
    "colab": {
     "base_uri": "https://localhost:8080/"
    },
    "id": "gBn1qhcT5Wei",
    "outputId": "51f50cf1-a19c-48f8-fd2e-aa84de1de69b"
   },
   "outputs": [
    {
     "name": "stdout",
     "output_type": "stream",
     "text": [
      "None\n"
     ]
    }
   ],
   "source": [
    "# None을 적절한 f-문자열로 대체하라.\n",
    "# datetime 객체의 다양한 메서드를 사용할 것.\n",
    "# current_time_string에 사용된 문자열을 그대로 작성할 경우 0점 처리됨.\n",
    "\n",
    "current_time = None\n",
    "\n",
    "print(current_time)"
   ]
  },
  {
   "cell_type": "markdown",
   "metadata": {
    "id": "AvifUNZOvSkU"
   },
   "source": [
    "**문제**"
   ]
  },
  {
   "cell_type": "markdown",
   "metadata": {
    "id": "AvifUNZOvSkU"
   },
   "source": [
    "0부터 10까지의 수 중에서 3의 배수를 제외한 항목으로 이루어진 리스트를 \n",
    "생성하도록 아래 코드를 완성하라.\n",
    "\n",
    "즉, `list10` 변수는 최종적으로 아래 값을 가리켜야 한다.\n",
    "\n",
    "```python\n",
    "[1, 2, 4, 5, 7, 8, 10]\n",
    "```\n",
    "\n",
    "힌트: `for` 반복문과 `continue` 예약어 활용"
   ]
  },
  {
   "cell_type": "code",
   "execution_count": 7,
   "metadata": {
    "colab": {
     "base_uri": "https://localhost:8080/"
    },
    "id": "glnrGCIZvuwT",
    "outputId": "d935be85-e587-4c24-8481-1a510672f7e3"
   },
   "outputs": [
    {
     "name": "stdout",
     "output_type": "stream",
     "text": [
      "[]\n"
     ]
    }
   ],
   "source": [
    "# pass 예약어를 적절한 코드로 대체하세요.\n",
    "# for 반복문을 range() 함수와 함께 활용\n",
    "\n",
    "list10 = []\n",
    "\n",
    "pass\n",
    "\n",
    "print(list10)"
   ]
  },
  {
   "cell_type": "markdown",
   "metadata": {
    "id": "2cFz6sWv2nXs"
   },
   "source": [
    "**문제**"
   ]
  },
  {
   "cell_type": "markdown",
   "metadata": {
    "id": "2cFz6sWv2nXs"
   },
   "source": [
    "리스트를 입력 받아 사전으로 변환하는 `list_enum()` 함수를 정의하라.\n",
    "단, 키는 항목의 인덱스를 사용한다.\n",
    "\n",
    "예제:\n",
    "\n",
    "```python\n",
    "list_enum(['a', 'b', 'c']) = {0: 'a', 1: 'b', 2: 'c'}\n",
    "list_enum([4, 6, 9, 2]) = {0: 4, 1: 6, 2: 9, 3: 2}\n",
    "```\n",
    "\n",
    "힌트: `enumerate()` 함수 활용"
   ]
  },
  {
   "cell_type": "code",
   "execution_count": 8,
   "metadata": {
    "id": "EPsXQ6Uk3u_c"
   },
   "outputs": [],
   "source": [
    "# 추가 코드가 필요하면 여기에 작성\n",
    "\n"
   ]
  },
  {
   "cell_type": "code",
   "execution_count": 9,
   "metadata": {
    "colab": {
     "base_uri": "https://localhost:8080/"
    },
    "id": "-RXW9NFN4Ck5",
    "outputId": "adf53c89-e96a-4832-dae4-8f12393cff6e"
   },
   "outputs": [
    {
     "name": "stdout",
     "output_type": "stream",
     "text": [
      "{}\n",
      "{}\n"
     ]
    }
   ],
   "source": [
    "# pass 부분을 적절한 코드로 대체할 것\n",
    "\n",
    "def list_enum(xs):\n",
    "    idx_dict = {}\n",
    "    \n",
    "    pass\n",
    "\n",
    "    return idx_dict\n",
    "\n",
    "print(list_enum(['a', 'b', 'c']))\n",
    "print(list_enum([4, 6, 9, 2]))"
   ]
  },
  {
   "cell_type": "markdown",
   "metadata": {
    "id": "EJXE5h5ThUOs"
   },
   "source": [
    "**문제**"
   ]
  },
  {
   "cell_type": "markdown",
   "metadata": {
    "id": "EJXE5h5ThUOs"
   },
   "source": [
    "문자열로 이루어진 리스트가 입력되었을 때 아래 항목들을 갖는 사전 객체를 반환하는 함수 `list2dic()` 함수를 구현하라.\n",
    "\n",
    "반한된 사전의 항목은 아래 형식을 갖는다.\n",
    "\n",
    "- 키(key): 리스트에 사용된 항목\n",
    "- 값(value): 키(key)가 리스트에서 사용된 횟수\n",
    "\n",
    "힌트: `list2dic()` 함수는 아래와 같이 작동해야 한다.\n",
    "\n",
    "```\n",
    "list2dic([2, 5, 2, 3, 3, 2]) = {2: [0, 2, 5], 3: [3, 4], 5: [1]}\n",
    "list2dic([15, 3, 15, 1, 3, 8]) = {1: [3], 3: [1, 4], 8: [5], 15: [0, 2]}\n",
    "```\n",
    "\n",
    "힌트: `enumerate()` 함수, 리스트의 `count()` 메서드,\n",
    "`collections` 모듈의 `defaultdict` 클래스를 이용한다.\n",
    "\n",
    "참고: [사전 기본값 처리](https://www.daleseo.com/python-collections-defaultdict/)"
   ]
  },
  {
   "cell_type": "code",
   "execution_count": 10,
   "metadata": {
    "id": "7HwOqPEkjZRf"
   },
   "outputs": [],
   "source": [
    "from collections import defaultdict"
   ]
  },
  {
   "cell_type": "code",
   "execution_count": 11,
   "metadata": {
    "id": "nR-KsYAWKK8u"
   },
   "outputs": [],
   "source": [
    "# 추가 코드가 필요하면 여기에 작성\n",
    "\n"
   ]
  },
  {
   "cell_type": "code",
   "execution_count": 12,
   "metadata": {
    "colab": {
     "base_uri": "https://localhost:8080/"
    },
    "id": "bdFl6zxWKGpI",
    "outputId": "941f0683-d6fa-4035-d208-a6393b39ca99"
   },
   "outputs": [
    {
     "name": "stdout",
     "output_type": "stream",
     "text": [
      "None\n",
      "None\n"
     ]
    }
   ],
   "source": [
    "# pass 부분을 적절한 코드로 대체할 것\n",
    "# None 값을 적절한 표현식으로 대체할 것\n",
    "\n",
    "def list2dic(xs):\n",
    "    pass\n",
    "\n",
    "    return None\n",
    "\n",
    "print(list2dic([2, 5, 2, 3, 3, 2]))\n",
    "print(list2dic([15, 3, 15, 1, 3, 8]))"
   ]
  },
  {
   "cell_type": "markdown",
   "metadata": {
    "id": "IVMgvZTidFz0"
   },
   "source": [
    "**문제**"
   ]
  },
  {
   "cell_type": "markdown",
   "metadata": {
    "id": "IVMgvZTidFz0"
   },
   "source": [
    "리스트를 인자로 받아서 사용된 항목의 개수를 반환하는 함수 \n",
    "`count_elem()`를 구현하라.\n",
    "단, 중복 항목은 하나로 간주한다.\n",
    "\n",
    "`count_elem()` 함수는 아래와 같이 작동해야 한다.\n",
    "\n",
    "```\n",
    "count_elem([2, 5, 2, 3, 3, 8, 2, 7]) = 5\n",
    "count_elem([15, 3, 15, 1, 3]) = 3\n",
    "```\n",
    "\n",
    "힌트: `set()` 함수 활용"
   ]
  },
  {
   "cell_type": "code",
   "execution_count": 13,
   "metadata": {
    "id": "9aJlY1rLdyyh"
   },
   "outputs": [],
   "source": [
    "# 추가 코드가 필요하면 여기에 작성\n",
    "\n"
   ]
  },
  {
   "cell_type": "code",
   "execution_count": 14,
   "metadata": {
    "colab": {
     "base_uri": "https://localhost:8080/"
    },
    "id": "zzipN9zjKCSx",
    "outputId": "7463b911-fc6c-42f1-8ef7-95092ce436b5"
   },
   "outputs": [
    {
     "name": "stdout",
     "output_type": "stream",
     "text": [
      "None\n",
      "None\n"
     ]
    }
   ],
   "source": [
    "# pass 부분을 적절한 코드로 대체할 것\n",
    "# None 값을 적절한 표현식으로 대체할 것\n",
    "\n",
    "def count_elem(xs):\n",
    "    pass\n",
    "\n",
    "    return None\n",
    "\n",
    "print(count_elem([2, 5, 2, 3, 3, 8, 2, 7]))\n",
    "print(count_elem([15, 3, 15, 1, 3]))"
   ]
  },
  {
   "cell_type": "markdown",
   "metadata": {
    "id": "CDZgxQlTz20T"
   },
   "source": [
    "**문제**"
   ]
  },
  {
   "cell_type": "markdown",
   "metadata": {
    "id": "CDZgxQlTz20T"
   },
   "source": [
    "0부터 10까지의 자연수 중에서 3으로 나눈 나머지가 2인 수의 제곱으로 이루어진 리스트를 조건제시법으로 정의하라.\n",
    "즉, 아래 리스트를 조건제시법으로 생성해야 한다.\n",
    "\n",
    "```python\n",
    "[4, 25, 64]\n",
    "```\n",
    "\n",
    "힌트: 리스트 조건제시법(comprehension) 활용"
   ]
  },
  {
   "cell_type": "code",
   "execution_count": 15,
   "metadata": {
    "id": "xfZ5Mrdt053H"
   },
   "outputs": [],
   "source": [
    "# 필요한 코드가 있다면 아래에 추가\n",
    "\n"
   ]
  },
  {
   "cell_type": "code",
   "execution_count": 16,
   "metadata": {
    "colab": {
     "base_uri": "https://localhost:8080/"
    },
    "id": "VSIThrw0KiaW",
    "outputId": "58686e17-c210-4750-d9cb-2aebbea5ec9f"
   },
   "outputs": [
    {
     "name": "stdout",
     "output_type": "stream",
     "text": [
      "None\n"
     ]
    }
   ],
   "source": [
    "# None 값을 적절한 리스트 조건제시법으로 대체할 것\n",
    "\n",
    "list_modulo3 = None\n",
    "\n",
    "print(list_modulo3)"
   ]
  },
  {
   "cell_type": "markdown",
   "metadata": {},
   "source": [
    "**문제**"
   ]
  },
  {
   "cell_type": "markdown",
   "metadata": {},
   "source": [
    "영어단어를 입력받아 알파벳순으로 출력하는 코드를 작성하여라.\n",
    "예를 들어, `python` 을 입력하면, `hopty` 를 출력한다.\n",
    "단, 모두 소문자로 변환해서 출력한다.\n",
    "\n",
    "힌트: `list` 를 이용한다."
   ]
  }
 ],
 "metadata": {
  "colab": {
   "name": "pydata-quiz01-solutions.ipynb",
   "provenance": []
  },
  "kernelspec": {
   "display_name": "Python 3 (ipykernel)",
   "language": "python",
   "name": "python3"
  },
  "language_info": {
   "codemirror_mode": {
    "name": "ipython",
    "version": 3
   },
   "file_extension": ".py",
   "mimetype": "text/x-python",
   "name": "python",
   "nbconvert_exporter": "python",
   "pygments_lexer": "ipython3",
   "version": "3.9.7"
  }
 },
 "nbformat": 4,
 "nbformat_minor": 1
}
