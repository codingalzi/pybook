{
 "cells": [
  {
   "cell_type": "markdown",
   "metadata": {},
   "source": [
    "# (연습) 문자열 "
   ]
  },
  {
   "cell_type": "markdown",
   "metadata": {},
   "source": [
    "## 문제"
   ]
  },
  {
   "cell_type": "markdown",
   "metadata": {},
   "source": [
    "`time` 모듈의 `ctime()` 함수를 인자 없이 호출하면 현재 시각을\n",
    "서양식으로 표현된 문자열로 반환한다."
   ]
  },
  {
   "cell_type": "code",
   "execution_count": 52,
   "metadata": {},
   "outputs": [
    {
     "data": {
      "text/plain": [
       "'Wed Apr 10 00:10:03 2024'"
      ]
     },
     "execution_count": 52,
     "metadata": {},
     "output_type": "execute_result"
    }
   ],
   "source": [
    "import time\n",
    "\n",
    "current_time = time.ctime()\n",
    "current_time"
   ]
  },
  {
   "cell_type": "markdown",
   "metadata": {},
   "source": [
    "`ctime()` 함수의 반환값을 \n",
    "이용하여 오늘의 날짜와 요일을 한국식으로 화면에 출력하는 함수 `today()`를 선언하라.\n",
    "단, 인자는 사용하지 않으며 `time` 모듈의 다른 함수는 절대 사용하지 않는다.\n",
    "또한 문자열 자료형의 `split()` 메서드와 f-문자열을 반드시 활용한다."
   ]
  },
  {
   "cell_type": "markdown",
   "metadata": {},
   "source": [
    "힌트: \n",
    "\n",
    "- 아래 두 개의 리스트의 인덱스를 활용하여 영어식 요일 표현을 한국식 요일 표현으로 대체한다."
   ]
  },
  {
   "cell_type": "code",
   "execution_count": 108,
   "metadata": {},
   "outputs": [],
   "source": [
    "weekdays_en = ['Sun', 'Mon', 'Tue', 'Wed', 'Thu', 'Fri', 'Sat']\n",
    "weekdays_kr = ['일', '월', '화', '수', '목', '금', '토']"
   ]
  },
  {
   "cell_type": "markdown",
   "metadata": {},
   "source": [
    "- 아래 리스트의 인덱스를 이용하여 영어식 월(month) 표현을 1, 2, ... 12 숫자 표현으로 대체한다."
   ]
  },
  {
   "cell_type": "code",
   "execution_count": 107,
   "metadata": {},
   "outputs": [],
   "source": [
    "months_en = ['Jan', 'Feb', 'Mar', 'Apr', 'May', 'Jun', 'Jul', 'Aug', 'Sep', 'Oct', 'Nov', 'Dec']"
   ]
  },
  {
   "cell_type": "markdown",
   "metadata": {},
   "source": [
    "- 리스트의 `index()` 메서드는 찾는 항목이 위차한 곳의 인덱스를 반환한다.\n",
    "    예를 들어 아래 코드는 `weekdays_en` 리스트에서 화요일을 의미하는 `Tue` 항목이 위치한 곳의 인덱스를 확인한다."
   ]
  },
  {
   "cell_type": "code",
   "execution_count": 109,
   "metadata": {},
   "outputs": [
    {
     "data": {
      "text/plain": [
       "2"
      ]
     },
     "execution_count": 109,
     "metadata": {},
     "output_type": "execute_result"
    }
   ],
   "source": [
    "weekdays_en.index(\"Tue\")"
   ]
  },
  {
   "cell_type": "markdown",
   "metadata": {},
   "source": [
    "**답**"
   ]
  },
  {
   "cell_type": "markdown",
   "metadata": {},
   "source": [
    "`time.ctime()` 함수는 요일, 월, 일, 시간, 년도 순으로 구성된 문자열을 반환한다.\n",
    "그리고 반환된 문자열에 포함된 요일, 월, 일 등은 공백으로 구분된다.\n",
    "따라서 `split()` 메서드를 적용하면 요일, 월, 일, 시간, 년도로 구성된 리스트가 생성된다."
   ]
  },
  {
   "cell_type": "code",
   "execution_count": 110,
   "metadata": {},
   "outputs": [
    {
     "data": {
      "text/plain": [
       "['Wed', 'Apr', '10', '00:10:03', '2024']"
      ]
     },
     "execution_count": 110,
     "metadata": {},
     "output_type": "execute_result"
    }
   ],
   "source": [
    "ctime_split = current_time.split()\n",
    "ctime_split"
   ]
  },
  {
   "cell_type": "markdown",
   "metadata": {},
   "source": [
    "따라서 요일은 위 리스트의 0번 인덱스에, 연도는 -1번 또는 4번 인덱스에,\n",
    "월과 일은 각각 1번과 2번 인덱스에 위치한다.\n",
    "이를 이용하여 요일과 날짜를 출력하면 다음과 같다."
   ]
  },
  {
   "cell_type": "code",
   "execution_count": 111,
   "metadata": {},
   "outputs": [
    {
     "name": "stdout",
     "output_type": "stream",
     "text": [
      "날짜: 2024년 Apr월 10일\n",
      "요일: Wed요일\n"
     ]
    }
   ],
   "source": [
    "year = ctime_split[-1]\n",
    "month = ctime_split[1]\n",
    "day = ctime_split[2]\n",
    "weekday = ctime_split[0]\n",
    "\n",
    "print(\"날짜:\", f\"{year}년 {month}월 {day}일\")\n",
    "print(\"요일:\", f\"{weekday}요일\")"
   ]
  },
  {
   "cell_type": "markdown",
   "metadata": {},
   "source": [
    "그런데 요일과 월 표현이 모두 영어 단어로 되어 있어서 매우 어색하다.\n",
    "한글 요일로 변환하기 위해 `weekdays_en`과 `weekday_kr` 리스트를 이용한다.\n",
    "이때 리스트의 `index()` 메서드를 다음과 같이 활용한다."
   ]
  },
  {
   "cell_type": "code",
   "execution_count": 114,
   "metadata": {},
   "outputs": [
    {
     "data": {
      "text/plain": [
       "'수'"
      ]
     },
     "execution_count": 114,
     "metadata": {},
     "output_type": "execute_result"
    }
   ],
   "source": [
    "weekday_index = weekdays_en.index(weekday)\n",
    "weekday_kr = weekdays_kr[weekday_index]\n",
    "weekday_kr"
   ]
  },
  {
   "cell_type": "markdown",
   "metadata": {},
   "source": [
    "영어식 월 표현을 숫자로 변환하는 것은 보다 간단하다."
   ]
  },
  {
   "cell_type": "code",
   "execution_count": 116,
   "metadata": {},
   "outputs": [
    {
     "data": {
      "text/plain": [
       "4"
      ]
     },
     "execution_count": 116,
     "metadata": {},
     "output_type": "execute_result"
    }
   ],
   "source": [
    "month_kr = months_en.index(month) + 1\n",
    "month_kr"
   ]
  },
  {
   "cell_type": "markdown",
   "metadata": {},
   "source": [
    "위 내용을 이용하여 `today()` 함수를 다음과 같이 구현한다."
   ]
  },
  {
   "cell_type": "code",
   "execution_count": 117,
   "metadata": {
    "id": "Zy1oRDipLoZk"
   },
   "outputs": [],
   "source": [
    "def today():\n",
    "    ctime_split = current_time.split()\n",
    "    year = ctime_split[-1]\n",
    "    month = ctime_split[1]\n",
    "    day = ctime_split[2]\n",
    "    weekday = ctime_split[0]\n",
    "    \n",
    "    weekday_index = weekdays_en.index(weekday)\n",
    "    weekday_kr = weekdays_kr[weekday_index]\n",
    "    \n",
    "    month_kr = months_en.index(month) + 1\n",
    "\n",
    "\n",
    "    print(\"날짜:\", f\"{year}년 {month_kr}월 {day}일\")\n",
    "    print(\"요일:\", f\"{weekday_kr}요일\")"
   ]
  },
  {
   "cell_type": "code",
   "execution_count": 118,
   "metadata": {
    "id": "Zy1oRDipLoZk"
   },
   "outputs": [
    {
     "name": "stdout",
     "output_type": "stream",
     "text": [
      "날짜: 2024년 4월 10일\n",
      "요일: 수요일\n"
     ]
    }
   ],
   "source": [
    "today()"
   ]
  },
  {
   "cell_type": "markdown",
   "metadata": {},
   "source": [
    "## 문제"
   ]
  },
  {
   "cell_type": "markdown",
   "metadata": {},
   "source": [
    "하나의 문자열과 함께 호출되면 공백 문자뿐만 아니라 아래 문자열에 포함된 모든 기호가 제거된 문자열을 반환하는\n",
    "`no_nonWord()` 함수를 정의하라."
   ]
  },
  {
   "cell_type": "code",
   "execution_count": 34,
   "metadata": {},
   "outputs": [],
   "source": [
    "nonWord_chr = ' .,!?'"
   ]
  },
  {
   "cell_type": "markdown",
   "metadata": {},
   "source": [
    "힌트: 문자열 자료형의 `replace()` 메서드와 `for` 반복문"
   ]
  },
  {
   "cell_type": "markdown",
   "metadata": {},
   "source": [
    "**답**"
   ]
  },
  {
   "cell_type": "code",
   "execution_count": 37,
   "metadata": {},
   "outputs": [
    {
     "data": {
      "text/plain": [
       "'여보게저기저게보여'"
      ]
     },
     "execution_count": 37,
     "metadata": {},
     "output_type": "execute_result"
    }
   ],
   "source": [
    "word = \"여보게, 저기 저게 보여?\"\n",
    "\n",
    "for chr in nonWord_chr:\n",
    "    word = word.replace(chr, \"\")\n",
    "    \n",
    "word"
   ]
  },
  {
   "cell_type": "code",
   "execution_count": 39,
   "metadata": {},
   "outputs": [],
   "source": [
    "def no_nonWord(word):\n",
    "    for chr in nonWord_chr:\n",
    "        word = word.replace(chr, \"\")\n",
    "\n",
    "    return word"
   ]
  },
  {
   "cell_type": "code",
   "execution_count": 40,
   "metadata": {},
   "outputs": [
    {
     "data": {
      "text/plain": [
       "'여보게저기저게보여'"
      ]
     },
     "execution_count": 40,
     "metadata": {},
     "output_type": "execute_result"
    }
   ],
   "source": [
    "no_nonWord(\"여보게, 저기 저게 보여?\")"
   ]
  },
  {
   "cell_type": "code",
   "execution_count": 48,
   "metadata": {},
   "outputs": [
    {
     "data": {
      "text/plain": [
       "'다시합창합시다'"
      ]
     },
     "execution_count": 48,
     "metadata": {},
     "output_type": "execute_result"
    }
   ],
   "source": [
    "no_nonWord(\"다시! 합창합시다.\")"
   ]
  },
  {
   "cell_type": "markdown",
   "metadata": {},
   "source": [
    "## 문제"
   ]
  },
  {
   "cell_type": "markdown",
   "metadata": {},
   "source": [
    "'기러기', '토마토', '우영우', 'bob', 'eye', `pop`와 같이\n",
    "앞으로 읽어도, 뒤로 읽어도 동일한 문자열을 **회문**<font size='2'>palindrome</font>이라 부른다. "
   ]
  },
  {
   "cell_type": "markdown",
   "metadata": {},
   "source": [
    "**질문 1**"
   ]
  },
  {
   "cell_type": "markdown",
   "metadata": {},
   "source": [
    "하나의 문자열과 함께 호출되었얼 때 회문 여부를 `True`/`False`로 반환하는\n",
    "`palindrome()` 를 작성하라.\n",
    "단, 공백은 무시되고 대소문자도 구분하지 않는다.\n",
    "\n",
    "힌트: 문자열 자료형의 `replace()`, `lower()` 메서드,  문자열 슬라이싱 등 활용"
   ]
  },
  {
   "cell_type": "code",
   "execution_count": 11,
   "metadata": {},
   "outputs": [],
   "source": [
    "def palindrome(word):\n",
    "    word_ = word.lower()\n",
    "    word_ = word_.replace(\" \", \"\")\n",
    "    return word_ == word_[::-1]"
   ]
  },
  {
   "cell_type": "code",
   "execution_count": 13,
   "metadata": {},
   "outputs": [],
   "source": [
    "def palindrome(word):\n",
    "    word_ = word.lower().replace(\" \", \"\")\n",
    "    return word_ == word_[::-1]"
   ]
  },
  {
   "cell_type": "code",
   "execution_count": 14,
   "metadata": {},
   "outputs": [],
   "source": [
    "assert palindrome(\"Bob\") == True\n",
    "assert palindrome(\"tomato\") == False\n",
    "assert palindrome(\"기러기\") == True\n",
    "assert palindrome(\"인싸 의사의 싸인\") == True\n",
    "assert palindrome(\"다시 합창합시다\") == True\n",
    "assert palindrome(\"여보게, 저기 저게 보여?\") == False"
   ]
  },
  {
   "cell_type": "markdown",
   "metadata": {},
   "source": [
    "**질문 2**"
   ]
  },
  {
   "cell_type": "markdown",
   "metadata": {},
   "source": [
    "하나의 문자열과 함께 호출되었얼 때 회문 여부를 `True`/`False`로 반환하는\n",
    "`palindrome()` 를 작성하라.\n",
    "단, 공백과 대소문자뿐만 아니라 점, 쉼표, 느낌표, 물음표, 하이픈 등도 무시한다.\n",
    "\n",
    "힌트: 문자열 자료형의 `replace()`, `lower()` 메서드,  문자열 슬라이싱 등 활용"
   ]
  },
  {
   "cell_type": "markdown",
   "metadata": {},
   "source": [
    "**답**"
   ]
  },
  {
   "cell_type": "code",
   "execution_count": 46,
   "metadata": {},
   "outputs": [],
   "source": [
    "def palindrome(word):\n",
    "    word_ = word.lower()\n",
    "    word_ = no_nonWord(word_)\n",
    "    return word_ == word_[::-1]"
   ]
  },
  {
   "cell_type": "code",
   "execution_count": 49,
   "metadata": {},
   "outputs": [],
   "source": [
    "assert palindrome(\"Bob\") == True\n",
    "assert palindrome(\"tomato\") == False\n",
    "assert palindrome(\"기러기\") == True\n",
    "assert palindrome(\"인싸 의사의 싸인\") == True\n",
    "assert palindrome(\"다시! 합창합시다.\") == True\n",
    "assert palindrome(\"여보게, 저기 저게 보여?\") == True"
   ]
  },
  {
   "cell_type": "code",
   "execution_count": null,
   "metadata": {},
   "outputs": [],
   "source": []
  },
  {
   "cell_type": "code",
   "execution_count": null,
   "metadata": {},
   "outputs": [],
   "source": []
  },
  {
   "cell_type": "code",
   "execution_count": null,
   "metadata": {},
   "outputs": [],
   "source": []
  },
  {
   "cell_type": "code",
   "execution_count": null,
   "metadata": {},
   "outputs": [],
   "source": []
  },
  {
   "cell_type": "markdown",
   "metadata": {},
   "source": [
    "## 문제"
   ]
  },
  {
   "cell_type": "markdown",
   "metadata": {},
   "source": [
    "문자열 연산을 이용하여 다음의 실행 결과가 나오도록 코드를 다양한 방식으로 작성한다."
   ]
  },
  {
   "cell_type": "code",
   "execution_count": 4,
   "metadata": {},
   "outputs": [],
   "source": [
    "hello = \"안녕하세요.\""
   ]
  },
  {
   "cell_type": "markdown",
   "metadata": {},
   "source": [
    "- 경우 1\n",
    "\n",
    "    ```\n",
    "    안녕하세요. 안녕하세요. 안녕하세요.\n",
    "    ```"
   ]
  },
  {
   "cell_type": "code",
   "execution_count": 7,
   "metadata": {},
   "outputs": [
    {
     "name": "stdout",
     "output_type": "stream",
     "text": [
      "안녕하세요. 안녕하세요. 안녕하세요.\n",
      "안녕하세요. 안녕하세요. 안녕하세요. \n"
     ]
    }
   ],
   "source": [
    "# print() 함수를 적절히 활용한다.\n",
    "\n",
    "print(hello, hello, hello)\n",
    "\n",
    "# 또는\n",
    "\n",
    "hello_space = hello + \" \"\n",
    "print(hello_space * 3)"
   ]
  },
  {
   "cell_type": "markdown",
   "metadata": {},
   "source": [
    "- 경우 2\n",
    "\n",
    "    ```\n",
    "    안녕하세요.\n",
    "    안녕하세요.\n",
    "    안녕하세요.\n",
    "    안녕하세요.\n",
    "    안녕하세요.\n",
    "    ```"
   ]
  },
  {
   "cell_type": "code",
   "execution_count": 18,
   "metadata": {},
   "outputs": [
    {
     "name": "stdout",
     "output_type": "stream",
     "text": [
      "안녕하세요.\n",
      "안녕하세요.\n",
      "안녕하세요.\n",
      "안녕하세요.\n",
      "안녕하세요.\n"
     ]
    }
   ],
   "source": [
    "# for 명령문, range() 함수, print() 함수 등을 적절히 활용한다.\n",
    "\n",
    "for item in range(1, 6):\n",
    "    print(hello)\n",
    "    "
   ]
  },
  {
   "cell_type": "markdown",
   "metadata": {},
   "source": [
    "또는"
   ]
  },
  {
   "cell_type": "code",
   "execution_count": 19,
   "metadata": {},
   "outputs": [
    {
     "name": "stdout",
     "output_type": "stream",
     "text": [
      "안녕하세요.\n",
      "안녕하세요.\n",
      "안녕하세요.\n",
      "안녕하세요.\n",
      "안녕하세요.\n"
     ]
    }
   ],
   "source": [
    "for item in [1, 2, 3, 4, 5]:\n",
    "    print(hello)"
   ]
  },
  {
   "cell_type": "markdown",
   "metadata": {},
   "source": [
    "아래 방식도 가능하긴 하지만 매우 나쁜 코딩 습관이다."
   ]
  },
  {
   "cell_type": "code",
   "execution_count": 20,
   "metadata": {},
   "outputs": [
    {
     "name": "stdout",
     "output_type": "stream",
     "text": [
      "안녕하세요.\n",
      "안녕하세요.\n",
      "안녕하세요.\n",
      "안녕하세요.\n",
      "안녕하세요.\n"
     ]
    }
   ],
   "source": [
    "print(hello)\n",
    "print(hello)\n",
    "print(hello)\n",
    "print(hello)\n",
    "print(hello)"
   ]
  },
  {
   "cell_type": "markdown",
   "metadata": {},
   "source": [
    "**문제**"
   ]
  },
  {
   "cell_type": "markdown",
   "metadata": {},
   "source": [
    "문자열 메서드를 활용하는 문제다. 사용가능한 문자열 메서드는 다음과 같다.\n",
    "\n",
    "- `strip()`\n",
    "- `split()`\n",
    "- `replace()`\n",
    "- `upper()`\n",
    "- `lower()`\n",
    "- `capitalize()`\n",
    "- `title()`\n",
    "- `startswith()`\n",
    "- `endswith()`"
   ]
  },
  {
   "cell_type": "markdown",
   "metadata": {
    "id": "kkbD-sw3IsYs"
   },
   "source": [
    "`fruit` 변수는 과일 이름으로 구성된 문자열을 가리킨다."
   ]
  },
  {
   "cell_type": "code",
   "execution_count": 1,
   "metadata": {
    "id": "kkbD-sw3IsYs"
   },
   "outputs": [],
   "source": [
    "fruit = \"banana apple orange pineapple mango strawberry cherry\""
   ]
  },
  {
   "cell_type": "markdown",
   "metadata": {
    "id": "kkbD-sw3IsYs"
   },
   "source": [
    "(1) 각 과일 단어의 첫 알파벳을 대문자로 변경하여 다음과 같이 출력하는 코드를 작성하라.\n",
    "\n",
    "```python\n",
    "Banana Apple Orange Pineapple Mango Strawberry Cherry\n",
    "```"
   ]
  },
  {
   "cell_type": "markdown",
   "metadata": {
    "id": "c0s_ArvDKJBO"
   },
   "source": [
    "(2) `fruit` 변수로부터 대문자 Y를 추출하는 코드를 작성하여라."
   ]
  },
  {
   "cell_type": "markdown",
   "metadata": {},
   "source": [
    "**문제**"
   ]
  },
  {
   "cell_type": "markdown",
   "metadata": {
    "id": "ngzxeTGTpXrG"
   },
   "source": [
    "아래 노래 가사를 활용하는 문제이다."
   ]
  },
  {
   "cell_type": "code",
   "execution_count": 7,
   "metadata": {
    "id": "ngzxeTGTpXrG"
   },
   "outputs": [],
   "source": [
    "song = \"When you are smiling, the whole world smiles with you\"ㄴ"
   ]
  },
  {
   "cell_type": "markdown",
   "metadata": {
    "id": "ngzxeTGTpXrG"
   },
   "source": [
    "`count()` 메서드를 이용하여 알파벳 `w`가 대, 소문자 구분 없이 사용된 횟수를 확인하라."
   ]
  },
  {
   "cell_type": "markdown",
   "metadata": {
    "id": "Wf5NSC6DSSky"
   },
   "source": [
    "**문제**"
   ]
  },
  {
   "cell_type": "markdown",
   "metadata": {
    "id": "Wf5NSC6DSSky"
   },
   "source": [
    "아래와 같이 선언된 `lyrics`변수가 있다."
   ]
  },
  {
   "cell_type": "code",
   "execution_count": 10,
   "metadata": {
    "id": "Wf5NSC6DSSky"
   },
   "outputs": [],
   "source": [
    "lyrics = \" When you're smiling, the whole world smiles with you \""
   ]
  },
  {
   "cell_type": "markdown",
   "metadata": {
    "id": "Wf5NSC6DSSky"
   },
   "source": [
    "다음 문제들을 특정 메소드를 사용하여 한 줄 코드로 해결하라."
   ]
  },
  {
   "cell_type": "markdown",
   "metadata": {
    "id": "Wf5NSC6DSSky"
   },
   "source": [
    "(1) 문자열 양 끝에 있는 스페이스를 삭제하고, 모든 문자는 대문자로 변환된 문자열을 생성하라."
   ]
  },
  {
   "cell_type": "markdown",
   "metadata": {
    "id": "Wf5NSC6DSSky"
   },
   "source": [
    "(2) 문자열 양 끝에 있는 스페이스를 삭제하고, \n",
    "`When you're smiling`이 아닌 \n",
    "`When you are smiling` 문장이 포함된 문자열을 생성한다."
   ]
  },
  {
   "cell_type": "markdown",
   "metadata": {
    "id": "Wf5NSC6DSSky"
   },
   "source": [
    "(3) 위 문자열이 `W`로 시작하는지 여부를 판단하는 코드를 작성하여라. "
   ]
  },
  {
   "cell_type": "markdown",
   "metadata": {
    "id": "Wf5NSC6DSSky"
   },
   "source": [
    "(4) 아래와 같은 결과를 출력하는 코드를 작성하여라.\n",
    "\n",
    "```python\n",
    "[\"when\", \"you're\", \"smiling,\", \"the\", \"whole\", \"world\", \"smiles\", \"with\", \"you\"]\n",
    "```"
   ]
  },
  {
   "cell_type": "markdown",
   "metadata": {},
   "source": [
    "**문제**"
   ]
  },
  {
   "cell_type": "markdown",
   "metadata": {},
   "source": [
    "다음 함수들은 모두 문자열이 소문자를 포함하고 있는지 여부를 조사하도록 구현되었지만 \n",
    "일부는 제대로 작동하지 않는다. \n",
    "각각의 함수마다, 함수가 실제로 무엇을 하는지 설명하라. (인자는 문자열이 들어오는 경우를 다룬다.)"
   ]
  },
  {
   "cell_type": "code",
   "execution_count": 1,
   "metadata": {},
   "outputs": [],
   "source": [
    "def any_lowercase1(s):\n",
    "    for c in s:\n",
    "        if c.islower():\n",
    "            return True\n",
    "        else:\n",
    "            return False\n",
    "\n",
    "def any_lowercase2(s):\n",
    "    for c in s:\n",
    "        if 'c'.islower():\n",
    "            return 'True'\n",
    "        else:\n",
    "            return 'False'\n",
    "\n",
    "def any_lowercase3(s):\n",
    "    for c in s:\n",
    "        flag = c.islower()\n",
    "    return flag\n",
    "\n",
    "def any_lowercase4(s):\n",
    "    flag = False\n",
    "    for c in s:\n",
    "        flag = flag or c.islower()\n",
    "    return flag\n",
    "\n",
    "def any_lowercase5(s):\n",
    "    for c in s:\n",
    "        if not c.islower():\n",
    "            return False\n",
    "    return True"
   ]
  },
  {
   "cell_type": "markdown",
   "metadata": {},
   "source": [
    "**문제**"
   ]
  },
  {
   "cell_type": "markdown",
   "metadata": {},
   "source": [
    "문자열의 `find` 메서드에 대응하는 `find` 함수를 정의하라.\n",
    "즉, 아래 조건을 만족하는 `find` 함수를 정의해야 한다.\n",
    "\n",
    "* `word1`, `word2`, `position` 세 개의 인자를 받는다.\n",
    "* `word1`, `word2`는 문자열을 입력값으로 기대한다.\n",
    "* `word1`이 `word2`를 부분문자열로 포함할 경우 부분문자열의 시작위치를 리턴하고,\n",
    "    포함하지 않을 경우 -1을 리턴한다.\n",
    "* `position` 매개변수는 정수를 입력값으로 기대한다.\n",
    "* `position`을 통해 전달된 정수는 탐색을 시작할 위치를 나타낸다."
   ]
  },
  {
   "cell_type": "code",
   "execution_count": null,
   "metadata": {},
   "outputs": [],
   "source": []
  }
 ],
 "metadata": {
  "colab": {
   "authorship_tag": "ABX9TyMc9fB9lcJwW8sP+Iso3pm1",
   "collapsed_sections": [],
   "name": "실습답안3.ipynb",
   "provenance": []
  },
  "kernelspec": {
   "display_name": "Python 3 (ipykernel)",
   "language": "python",
   "name": "python3"
  },
  "language_info": {
   "codemirror_mode": {
    "name": "ipython",
    "version": 3
   },
   "file_extension": ".py",
   "mimetype": "text/x-python",
   "name": "python",
   "nbconvert_exporter": "python",
   "pygments_lexer": "ipython3",
   "version": "3.11.5"
  }
 },
 "nbformat": 4,
 "nbformat_minor": 1
}
