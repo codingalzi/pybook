{
 "cells": [
  {
   "cell_type": "markdown",
   "metadata": {
    "id": "L8A-HAiKG89Y"
   },
   "source": [
    "# (연습) 문자열"
   ]
  },
  {
   "cell_type": "markdown",
   "metadata": {
    "id": "lRR-xYZbG89c"
   },
   "source": [
    "**참고 사항**\n",
    "\n",
    "먼저 \n",
    "[문자열](https://codingalzi.github.io/pybook/strings.html)의 내용과\n",
    "[(필수 예제) 문자열](https://colab.research.google.com/github/codingalzi/pybook/blob/master/examples/examples-strings.ipynb)의 예제들을 학습하세요."
   ]
  },
  {
   "cell_type": "markdown",
   "metadata": {
    "id": "MgBCG_zE0A9f"
   },
   "source": [
    "**주의 사항**\n",
    "\n",
    "* 기존에 작성된 코드 셀과 텍스트 셀은 수정하지 않는다.\n",
    "* 필요한 경우 코드 셀 또는 텍스트 셀을 추가해서 사용한다.\n",
    "* 실습 파일을 제출할 때 구글 드라이브의 링크를 이용하여 누구나 공유할 수 있도록 설정한다."
   ]
  },
  {
   "cell_type": "markdown",
   "metadata": {
    "id": "X5Oe7XpsG89e"
   },
   "source": [
    "## 문제 1"
   ]
  },
  {
   "cell_type": "markdown",
   "metadata": {
    "id": "VSn2CdFhG89e"
   },
   "source": [
    "**질문 1**"
   ]
  },
  {
   "cell_type": "markdown",
   "metadata": {
    "id": "V4Wu6ptQG89e"
   },
   "source": [
    "아래 부동소수점을 소수점 이하 셋째 자리까지만 출력되도록 f-문자열을 활용하라."
   ]
  },
  {
   "cell_type": "code",
   "execution_count": null,
   "metadata": {
    "id": "l8kjKNyCG89f"
   },
   "outputs": [],
   "source": [
    "num = 23.36778\n",
    "num1 = -84.99888"
   ]
  },
  {
   "cell_type": "code",
   "execution_count": null,
   "metadata": {
    "id": "3pwriIcoG89g"
   },
   "outputs": [],
   "source": [
    "# 코드를 작성한다.\n",
    "# 필요하면 코드셀 또는 텍스트셀을 추가할 수 있습니다.\n",
    "\n"
   ]
  },
  {
   "cell_type": "markdown",
   "metadata": {
    "id": "35W9fC7AG89h"
   },
   "source": [
    "**질문 2**"
   ]
  },
  {
   "cell_type": "markdown",
   "metadata": {
    "id": "9FxPEBxHG89h"
   },
   "source": [
    "아래 부동소수점의 소수점을 모두 버리로 정수 부문만 출력되도록 f-문자열을 활용하라.\n",
    "또한 정수는 총 10칸을 차지하도록 한다.\n",
    "단, `int()` 함수는 사용하지 않는다."
   ]
  },
  {
   "cell_type": "code",
   "execution_count": null,
   "metadata": {
    "id": "sBHaafA2G89h"
   },
   "outputs": [],
   "source": [
    "num2 = 23.36778\n",
    "num3 = 8223.62874636778"
   ]
  },
  {
   "cell_type": "code",
   "execution_count": null,
   "metadata": {
    "id": "Xt6WtTeDG89i"
   },
   "outputs": [],
   "source": [
    "# 코드를 작성한다.\n",
    "# 필요하면 코드셀 또는 텍스트셀을 추가할 수 있습니다.\n",
    "\n"
   ]
  },
  {
   "cell_type": "markdown",
   "metadata": {
    "id": "uY774PbTG89i"
   },
   "source": [
    "**질문 3**"
   ]
  },
  {
   "cell_type": "markdown",
   "metadata": {
    "id": "B-W-qmmqG89i"
   },
   "source": [
    "아래 두 개의 부동소수점을 총 15 칸을 차지하도록 f-문자열을 활용하라.\n",
    "또한 소수점 이하 다섯째 자리까지만 출력되록 한다.\n",
    "단 모든 정수는 오른쪽으로 정렬되어야 하며 앞쪽 빈칸은 `+` 기호로 채운다."
   ]
  },
  {
   "cell_type": "code",
   "execution_count": null,
   "metadata": {
    "id": "eiSdZ1MVG89i"
   },
   "outputs": [],
   "source": [
    "num4 = 887223.8348161\n",
    "num5 = 6833.127230009267"
   ]
  },
  {
   "cell_type": "code",
   "execution_count": null,
   "metadata": {
    "id": "6vbNZ_I7G89j"
   },
   "outputs": [],
   "source": [
    "# 코드를 작성한다.\n",
    "# 필요하면 코드셀 또는 텍스트셀을 추가할 수 있습니다.\n",
    "\n"
   ]
  },
  {
   "cell_type": "markdown",
   "metadata": {
    "id": "2M-IGYEtG89j"
   },
   "source": [
    "## 문제 2"
   ]
  },
  {
   "cell_type": "markdown",
   "metadata": {
    "id": "nTMepquaG89j"
   },
   "source": [
    "영어 문장을 인자로 입력받았을 때 모음과 자음의 개수를 확인하는 함수를 구현하려 한다.\n",
    "단, 모음 알파벳으로 구성된 아래 문자열을 이용한다."
   ]
  },
  {
   "cell_type": "code",
   "execution_count": null,
   "metadata": {
    "id": "gZWe7-u-G89j"
   },
   "outputs": [],
   "source": [
    "vowels='AEIOUaeiou'"
   ]
  },
  {
   "cell_type": "markdown",
   "metadata": {
    "id": "GP61txvIG89j"
   },
   "source": [
    "**질문 1**"
   ]
  },
  {
   "cell_type": "markdown",
   "metadata": {
    "id": "C7s_mme6G89j"
   },
   "source": [
    "영어 문장을 인자로 입력받았을 때 모음의 개수를 확인하는 `count_vowels()` 함수를 작성하라."
   ]
  },
  {
   "cell_type": "code",
   "execution_count": null,
   "metadata": {
    "id": "KezLigYKG89k"
   },
   "outputs": [],
   "source": [
    "# 코드를 작성한다.\n",
    "# 필요하면 코드셀 또는 텍스트셀을 추가할 수 있습니다.\n",
    "\n"
   ]
  },
  {
   "cell_type": "markdown",
   "metadata": {
    "id": "OJhak0OxG89k"
   },
   "source": [
    "**질문 2**"
   ]
  },
  {
   "cell_type": "markdown",
   "metadata": {
    "id": "6HjuTiUBG89k"
   },
   "source": [
    "영어 문장을 인자로 입력받았을 때 자음의 개수를 확인하는 `count_consonants()` 함수를 작성하라."
   ]
  },
  {
   "cell_type": "markdown",
   "metadata": {
    "id": "PlPBkMrkG89k"
   },
   "source": [
    "힌트: `in` 연산자와 문자열 `isalpha()` 메서드"
   ]
  },
  {
   "cell_type": "code",
   "execution_count": null,
   "metadata": {
    "id": "_esf3AjLG89k"
   },
   "outputs": [],
   "source": [
    "# 코드를 작성한다.\n",
    "# 필요하면 코드셀 또는 텍스트셀을 추가할 수 있습니다.\n",
    "\n"
   ]
  },
  {
   "cell_type": "markdown",
   "metadata": {
    "id": "6_RVGCAPG89k"
   },
   "source": [
    "## 문제 3"
   ]
  },
  {
   "cell_type": "markdown",
   "metadata": {
    "id": "wvnR9UvGG89l"
   },
   "source": [
    "다음 세 개의 함수는 모두 입력된 문자열이 소문자를 포함하고 있는지 여부를 조사하도록 구현되었지만\n",
    "하나만 제대로 작동한다.\n",
    "어느 함수가 제대로 작동하는지 확인한 다음 그 이유를 설명하라.\n",
    "또한 다른 두 함수가 적절하게 구현되지 않은 이유를 설명하라."
   ]
  },
  {
   "cell_type": "code",
   "execution_count": null,
   "metadata": {
    "id": "kGb91wrXG89l"
   },
   "outputs": [],
   "source": [
    "def any_lowercase1(text):\n",
    "    for c in text:\n",
    "        flag = c.islower()\n",
    "    return flag\n",
    "\n",
    "def any_lowercase2(text):\n",
    "    for c in text:\n",
    "        if not c.islower():\n",
    "            return False\n",
    "    return True\n",
    "\n",
    "def any_lowercase3(text):\n",
    "    flag = False\n",
    "    for c in text:\n",
    "        if c.islower():\n",
    "            flag = True\n",
    "    return flag"
   ]
  },
  {
   "cell_type": "code",
   "execution_count": null,
   "metadata": {
    "id": "A0HNUN1PG89l"
   },
   "outputs": [],
   "source": [
    "# 코드를 작성한다.\n",
    "# 필요하면 코드셀 또는 텍스트셀을 추가할 수 있습니다.\n",
    "\n"
   ]
  },
  {
   "cell_type": "markdown",
   "metadata": {
    "id": "6aa9fb5f"
   },
   "source": [
    "## 문제 4"
   ]
  },
  {
   "cell_type": "markdown",
   "metadata": {
    "id": "b9d29417"
   },
   "source": [
    "변수와 함수의 이름을 지정할 때 **카멜**<font size = \"2\">camel</font> 표기법 또는\n",
    "**팟홀**<font size=\"2\">pothole</font> 표기법(**스네이크**<font size=\"2\">snake</font> 표기법으로도 불림)을\n",
    "사용한다.\n",
    "\n",
    "* 카멜 표기법 : 소문자로 시작하고, 이어지는 단어의 시작은 대문자로 작성하는 표기법.\n",
    "    - 예제: `userName`, `printMessage`, `countA` 등.\n",
    "\n",
    "* 팟홀 표기법 또는 스네이크 표기법 : 모두 소문자를 사용하고, 단어 사이에 밑줄기호(`_`)를 사용하는 표기법.\n",
    "    - 예제: `user_name`, `print_message`, `count_a` 등.   "
   ]
  },
  {
   "cell_type": "markdown",
   "metadata": {
    "id": "c1hdGva7G89l"
   },
   "source": [
    "팟홀 표기법을 카멜 표기법으로 변환하는 `pothole2camel()` 함수를 구현하라.\n",
    "\n",
    "힌트: 문자열 `capitalize()`메서드와 `split()` 메서드 활용"
   ]
  },
  {
   "cell_type": "code",
   "execution_count": null,
   "metadata": {
    "id": "wF6Pm8DnG89m"
   },
   "outputs": [],
   "source": [
    "# 코드를 작성한다.\n",
    "# 필요하면 코드셀 또는 텍스트셀을 추가할 수 있습니다.\n",
    "\n"
   ]
  },
  {
   "cell_type": "markdown",
   "metadata": {
    "id": "ZcfpV6tpG89m"
   },
   "source": [
    "## 문제 5"
   ]
  },
  {
   "cell_type": "markdown",
   "metadata": {
    "id": "DvxRPuPIG89m"
   },
   "source": [
    "`time` 모듈의 `ctime()` 함수를 인자 없이 호출하면 현재 시각을\n",
    "서양식으로 표현된 문자열로 반환한다."
   ]
  },
  {
   "cell_type": "code",
   "execution_count": null,
   "metadata": {
    "id": "ygDSyHzbG89m",
    "outputId": "45581158-8850-4673-e656-bcd050ae4187"
   },
   "outputs": [
    {
     "data": {
      "text/plain": [
       "'Sun Apr 14 14:33:05 2024'"
      ]
     },
     "execution_count": 33,
     "metadata": {},
     "output_type": "execute_result"
    }
   ],
   "source": [
    "import time\n",
    "\n",
    "current_time = time.ctime()\n",
    "current_time"
   ]
  },
  {
   "cell_type": "markdown",
   "metadata": {
    "id": "IXFZfcpiG89n"
   },
   "source": [
    "`ctime()` 함수의 반환값을\n",
    "이용하여 오늘의 날짜를 한국식으로 화면에 출력하는 함수 `today()`를 선언하라.\n",
    "단, 인자는 사용하지 않으며 `time` 모듈의 다른 함수는 절대 사용하지 않는다.\n",
    "또한 문자열 `split()` 메서드와 f-문자열을 반드시 활용한다."
   ]
  },
  {
   "cell_type": "markdown",
   "metadata": {
    "id": "AWTeqoIoG89n"
   },
   "source": [
    "힌트:\n",
    "\n",
    "(1) 아래 두 개의 리스트의 인덱스를 활용하여 영어식 요일 표현을 한국식 요일 표현으로 대체한다."
   ]
  },
  {
   "cell_type": "code",
   "execution_count": null,
   "metadata": {
    "id": "NBRx1L4DG89s"
   },
   "outputs": [],
   "source": [
    "weekdays_en = ['Sun', 'Mon', 'Tue', 'Wed', 'Thu', 'Fri', 'Sat']\n",
    "weekdays_kr = ['일', '월', '화', '수', '목', '금', '토']"
   ]
  },
  {
   "cell_type": "markdown",
   "metadata": {
    "id": "kKBWKPaAG89s"
   },
   "source": [
    "(2) 아래 리스트의 인덱스를 이용하여 영어식 월(month) 표현을 1, 2, ... 12 숫자 표현으로 대체한다."
   ]
  },
  {
   "cell_type": "code",
   "execution_count": null,
   "metadata": {
    "id": "uBbYwlqYG89t"
   },
   "outputs": [],
   "source": [
    "months_en = ['Jan', 'Feb', 'Mar', 'Apr', 'May', 'Jun', 'Jul', 'Aug', 'Sep', 'Oct', 'Nov', 'Dec']"
   ]
  },
  {
   "cell_type": "code",
   "execution_count": null,
   "metadata": {
    "id": "J891dEp-G89t"
   },
   "outputs": [],
   "source": [
    "# 코드를 작성한다.\n",
    "# 필요하면 코드셀 또는 텍스트셀을 추가할 수 있습니다.\n",
    "\n"
   ]
  },
  {
   "cell_type": "markdown",
   "metadata": {
    "id": "MlKmJe8kG89t"
   },
   "source": [
    "## 문제 6"
   ]
  },
  {
   "cell_type": "markdown",
   "metadata": {
    "id": "0LR1XKJtG89t"
   },
   "source": [
    "`fruits` 변수가 아래와 같이 과일 이름으로 구성된 문자열을 가리킨다."
   ]
  },
  {
   "cell_type": "code",
   "execution_count": null,
   "metadata": {
    "id": "ECmWZdrVG89t"
   },
   "outputs": [],
   "source": [
    "fruits = \"banana apple orange pineapple mango strawberry cherry\""
   ]
  },
  {
   "cell_type": "markdown",
   "metadata": {
    "id": "5GiooHrTG89t"
   },
   "source": [
    "`fruits` 변수를 이용하여 아래 문자열을 생성하는 코드를 작성하라.\n",
    "\n",
    "```\n",
    "Banana, Apple, Orange, Pineapple, Mango, Strawberry, Cherry\n",
    "```\n",
    "힌트: 문자열 `split()`, `capitalize()`, `join()` 메서드 활용"
   ]
  },
  {
   "cell_type": "code",
   "execution_count": null,
   "metadata": {
    "id": "189RUz5XG89u"
   },
   "outputs": [],
   "source": [
    "# 코드를 작성한다.\n",
    "# 필요하면 코드셀 또는 텍스트셀을 추가할 수 있습니다.\n",
    "\n"
   ]
  },
  {
   "cell_type": "markdown",
   "metadata": {
    "id": "0uibgA72G89u"
   },
   "source": [
    "## 문제 7"
   ]
  },
  {
   "cell_type": "markdown",
   "metadata": {
    "id": "yV9Pca8HG89u"
   },
   "source": [
    "ROT13 은 단어의 각 문자를 13 자리만큼 회전시키는 방식의 간단한 암호 법이다.\n",
    "문자를 회전한다는 것은 알파벳 상의 위치를 이동한다는 뜻이다.\n",
    "예를 들어, `'a'` 를 3 만큼 이동하면 `'d'` 가,\n",
    "`'z'` 를 1 만큼 이동하면 `'a'` 가 된다."
   ]
  },
  {
   "cell_type": "markdown",
   "metadata": {
    "id": "S37lTlI-G89u"
   },
   "source": [
    "**질문 1**"
   ]
  },
  {
   "cell_type": "markdown",
   "metadata": {
    "id": "5baUB-I-G89u"
   },
   "source": [
    "다음 하나의 매개변수를 사용하는 `encrypt()` 함수를 구현하라.\n",
    "\n",
    "- `word`: 영어 문장 문자열\n",
    "\n",
    "함수의 반환값은 문장에 포함된 모든 영어 알파벳을 13 자리만큼 회전시킨 문자열이다.\n",
    "단, 모든 문자는 소문자로 변환한다.\n",
    "또한 `ord()` 함수와 `chr()` 함수를 반드시 활용한다."
   ]
  },
  {
   "cell_type": "code",
   "execution_count": null,
   "metadata": {
    "id": "9c8_g6xnG89v"
   },
   "outputs": [],
   "source": [
    "# 코드를 작성한다.\n",
    "# 필요하면 코드셀 또는 텍스트셀을 추가할 수 있습니다.\n",
    "\n"
   ]
  },
  {
   "cell_type": "markdown",
   "metadata": {
    "id": "_icrXGLdG89v"
   },
   "source": [
    "**질문 2**"
   ]
  },
  {
   "cell_type": "markdown",
   "metadata": {
    "id": "0HKBViYdG89v"
   },
   "source": [
    "소문자와 대문자를 그대로 유지하도록 `encrypt()` 함수를 수정하라."
   ]
  },
  {
   "cell_type": "code",
   "execution_count": null,
   "metadata": {
    "id": "1D7eo_sLG89v"
   },
   "outputs": [],
   "source": [
    "# 코드를 작성한다.\n",
    "# 필요하면 코드셀 또는 텍스트셀을 추가할 수 있습니다.\n",
    "\n"
   ]
  }
 ],
 "metadata": {
  "colab": {
   "provenance": []
  },
  "kernelspec": {
   "display_name": "Python 3 (ipykernel)",
   "language": "python",
   "name": "python3"
  },
  "language_info": {
   "codemirror_mode": {
    "name": "ipython",
    "version": 3
   },
   "file_extension": ".py",
   "mimetype": "text/x-python",
   "name": "python",
   "nbconvert_exporter": "python",
   "pygments_lexer": "ipython3",
   "version": "3.11.5"
  }
 },
 "nbformat": 4,
 "nbformat_minor": 1
}
