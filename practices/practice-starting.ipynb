{
 "cells": [
  {
   "cell_type": "markdown",
   "metadata": {},
   "source": [
    "# (연습) 프로그래밍 맛보기"
   ]
  },
  {
   "cell_type": "markdown",
   "metadata": {},
   "source": [
    "**참고 사항**\n",
    "\n",
    "먼저 \n",
    "[프로그래밍 맛보기](https://codingalzi.github.io/pybook/starting.html)의 내용과\n",
    "[(필수 예제) 프로그래밍 맛보기](https://colab.research.google.com/github/codingalzi/pybook/blob/master/practices/examples-starting.ipynb)의 예제들을 학습하세요."
   ]
  },
  {
   "cell_type": "markdown",
   "metadata": {
    "id": "MgBCG_zE0A9f"
   },
   "source": [
    "**주의 사항**\n",
    "\n",
    "* 기존에 작성된 코드 셀과 텍스트 셀은 수정하지 않는다.\n",
    "* 필요한 경우 코드 셀 또는 텍스트 셀을 추가해서 사용한다.\n",
    "* 실습 파일을 제출할 때 구글 드라이브의 링크를 이용하여 누구나 공유할 수 있도록 설정한다."
   ]
  },
  {
   "cell_type": "markdown",
   "metadata": {},
   "source": [
    "## 문제 1 "
   ]
  },
  {
   "cell_type": "markdown",
   "metadata": {},
   "source": [
    "아래 명령문들을 실행해서 오류가 발생하는 경우 오류의 종류와 원인을 설명하고 수정하라.\n",
    "오류가 발생하지 않으면 실행 결과를 설명한다."
   ]
  },
  {
   "cell_type": "markdown",
   "metadata": {},
   "source": [
    "**코드 1**"
   ]
  },
  {
   "cell_type": "code",
   "execution_count": null,
   "metadata": {},
   "outputs": [],
   "source": [
    "print(\"Hello World)"
   ]
  },
  {
   "cell_type": "code",
   "execution_count": null,
   "metadata": {},
   "outputs": [],
   "source": [
    "# 코드를 작성한다.\n",
    "# 필요하면 코드셀 또는 텍스트셀을 추가할 수 있습니다.\n",
    "\n"
   ]
  },
  {
   "cell_type": "markdown",
   "metadata": {},
   "source": [
    "**코드 2**"
   ]
  },
  {
   "cell_type": "code",
   "execution_count": null,
   "metadata": {},
   "outputs": [],
   "source": [
    "print(21 8)"
   ]
  },
  {
   "cell_type": "code",
   "execution_count": null,
   "metadata": {},
   "outputs": [],
   "source": [
    "# 코드를 작성한다.\n",
    "# 필요하면 코드셀 또는 텍스트셀을 추가할 수 있습니다.\n",
    "\n"
   ]
  },
  {
   "cell_type": "markdown",
   "metadata": {},
   "source": [
    "**코드 3**"
   ]
  },
  {
   "cell_type": "code",
   "execution_count": null,
   "metadata": {},
   "outputs": [],
   "source": [
    "print(2++2)"
   ]
  },
  {
   "cell_type": "code",
   "execution_count": null,
   "metadata": {},
   "outputs": [],
   "source": [
    "# 코드를 작성한다.\n",
    "# 필요하면 코드셀 또는 텍스트셀을 추가할 수 있습니다.\n",
    "\n"
   ]
  },
  {
   "cell_type": "markdown",
   "metadata": {},
   "source": [
    "## 문제 2 "
   ]
  },
  {
   "cell_type": "markdown",
   "metadata": {},
   "source": [
    "변수 선언과 할당 명령문 관련 주의해야할 점들을 다룬다.\n",
    "아래 명령문들을 실행해서 오류가 발생하는 경우 오류의 종류와 원인을 설명하고 수정하라."
   ]
  },
  {
   "cell_type": "markdown",
   "metadata": {},
   "source": [
    "**코드 1**"
   ]
  },
  {
   "cell_type": "code",
   "execution_count": null,
   "metadata": {},
   "outputs": [],
   "source": [
    "x = 2;"
   ]
  },
  {
   "cell_type": "code",
   "execution_count": null,
   "metadata": {},
   "outputs": [],
   "source": [
    "# 코드를 작성한다.\n",
    "# 필요하면 코드셀 또는 텍스트셀을 추가할 수 있습니다.\n",
    "\n"
   ]
  },
  {
   "cell_type": "markdown",
   "metadata": {},
   "source": [
    "**코드 2**"
   ]
  },
  {
   "cell_type": "code",
   "execution_count": null,
   "metadata": {},
   "outputs": [],
   "source": [
    "z = x y"
   ]
  },
  {
   "cell_type": "code",
   "execution_count": null,
   "metadata": {},
   "outputs": [],
   "source": [
    "# 코드를 작성한다.\n",
    "# 필요하면 코드셀 또는 텍스트셀을 추가할 수 있습니다.\n",
    "\n"
   ]
  },
  {
   "cell_type": "markdown",
   "metadata": {},
   "source": [
    "**코드 3**"
   ]
  },
  {
   "cell_type": "code",
   "execution_count": null,
   "metadata": {},
   "outputs": [],
   "source": [
    "even = 3\n",
    "odd = 17\n",
    "print(even + oddd)"
   ]
  },
  {
   "cell_type": "code",
   "execution_count": null,
   "metadata": {},
   "outputs": [],
   "source": [
    "# 코드를 작성한다.\n",
    "# 필요하면 코드셀 또는 텍스트셀을 추가할 수 있습니다.\n",
    "\n"
   ]
  },
  {
   "cell_type": "markdown",
   "metadata": {},
   "source": [
    "**코드 4**"
   ]
  },
  {
   "cell_type": "code",
   "execution_count": null,
   "metadata": {},
   "outputs": [],
   "source": [
    "x = 3\n",
    "zero = 0\n",
    "\n",
    "print(x/zero)"
   ]
  },
  {
   "cell_type": "code",
   "execution_count": null,
   "metadata": {},
   "outputs": [],
   "source": [
    "# 코드를 작성한다.\n",
    "# 필요하면 코드셀 또는 텍스트셀을 추가할 수 있습니다.\n",
    "\n"
   ]
  },
  {
   "cell_type": "markdown",
   "metadata": {
    "id": "6jxFns8v0EeE"
   },
   "source": [
    "## 문제 3"
   ]
  },
  {
   "cell_type": "markdown",
   "metadata": {},
   "source": [
    "다음 두 수식이 동일한 값으로 계산되는 이유를 연산자 우선순위 개념을 이용하여 설명하라."
   ]
  },
  {
   "cell_type": "code",
   "execution_count": null,
   "metadata": {},
   "outputs": [],
   "source": [
    "2**3 / (2 + 3)"
   ]
  },
  {
   "cell_type": "code",
   "execution_count": null,
   "metadata": {},
   "outputs": [],
   "source": [
    "(2**3) / (2 + 3)"
   ]
  },
  {
   "cell_type": "markdown",
   "metadata": {},
   "source": [
    "*실행 결과 설명*\n",
    "\n",
    "..."
   ]
  },
  {
   "cell_type": "markdown",
   "metadata": {},
   "source": [
    "## 문제 4 "
   ]
  },
  {
   "cell_type": "markdown",
   "metadata": {},
   "source": [
    "먼저 아래와 같이 두 개의 변수를 선언한다."
   ]
  },
  {
   "cell_type": "code",
   "execution_count": null,
   "metadata": {},
   "outputs": [],
   "source": [
    "width = 17\n",
    "height = 12.0\n",
    "delimiter = '.'  # delimiter = 구분자"
   ]
  },
  {
   "cell_type": "markdown",
   "metadata": {},
   "source": [
    "다음에 오는 각각의 표현식들에 대해, 표현식의 값과 자료형을 확인하라."
   ]
  },
  {
   "cell_type": "markdown",
   "metadata": {},
   "source": [
    "**코드 1: `width // 2`**"
   ]
  },
  {
   "cell_type": "code",
   "execution_count": null,
   "metadata": {},
   "outputs": [],
   "source": [
    "# 코드를 작성한다.\n",
    "# 필요하면 코드셀 또는 텍스트셀을 추가할 수 있습니다.\n",
    "\n"
   ]
  },
  {
   "cell_type": "markdown",
   "metadata": {},
   "source": [
    "**코드 2: `width / 2`**"
   ]
  },
  {
   "cell_type": "code",
   "execution_count": null,
   "metadata": {},
   "outputs": [],
   "source": [
    "# 코드를 작성한다.\n",
    "# 필요하면 코드셀 또는 텍스트셀을 추가할 수 있습니다.\n",
    "\n"
   ]
  },
  {
   "cell_type": "markdown",
   "metadata": {},
   "source": [
    "**코드 3: `width / 2.0`**"
   ]
  },
  {
   "cell_type": "code",
   "execution_count": null,
   "metadata": {},
   "outputs": [],
   "source": [
    "# 코드를 작성한다.\n",
    "# 필요하면 코드셀 또는 텍스트셀을 추가할 수 있습니다.\n",
    "\n"
   ]
  },
  {
   "cell_type": "markdown",
   "metadata": {},
   "source": [
    "**코드 4: `height / 3`**"
   ]
  },
  {
   "cell_type": "code",
   "execution_count": null,
   "metadata": {},
   "outputs": [],
   "source": [
    "# 코드를 작성한다.\n",
    "# 필요하면 코드셀 또는 텍스트셀을 추가할 수 있습니다.\n",
    "\n"
   ]
  },
  {
   "cell_type": "markdown",
   "metadata": {},
   "source": [
    "**코드 5: `1 + 2 * 5`**"
   ]
  },
  {
   "cell_type": "code",
   "execution_count": null,
   "metadata": {},
   "outputs": [],
   "source": [
    "# 코드를 작성한다.\n",
    "# 필요하면 코드셀 또는 텍스트셀을 추가할 수 있습니다.\n",
    "\n"
   ]
  },
  {
   "cell_type": "markdown",
   "metadata": {},
   "source": [
    "**코드 6: `1.0 + 2 * 5`**"
   ]
  },
  {
   "cell_type": "code",
   "execution_count": null,
   "metadata": {},
   "outputs": [],
   "source": [
    "# 코드를 작성한다.\n",
    "# 필요하면 코드셀 또는 텍스트셀을 추가할 수 있습니다.\n",
    "\n"
   ]
  },
  {
   "cell_type": "markdown",
   "metadata": {},
   "source": [
    "**코드 7: `delimiter * 5`**"
   ]
  },
  {
   "cell_type": "code",
   "execution_count": null,
   "metadata": {},
   "outputs": [],
   "source": [
    "# 코드를 작성한다.\n",
    "# 필요하면 코드셀 또는 텍스트셀을 추가할 수 있습니다.\n",
    "\n"
   ]
  },
  {
   "cell_type": "markdown",
   "metadata": {
    "id": "v1Z9csmB0dNW"
   },
   "source": [
    "## 문제 5"
   ]
  },
  {
   "cell_type": "markdown",
   "metadata": {},
   "source": [
    "**코드 1**"
   ]
  },
  {
   "cell_type": "markdown",
   "metadata": {
    "id": "oMsxIe_500xd"
   },
   "source": [
    "아래 내용의 논리식을 할당받는 변수 `p1`을 선언한 후에 `p1`에 할당된 진리값을 확인하라.\n",
    "\n",
    "> 5가 7보다 크거나 같은지 여부 판단"
   ]
  },
  {
   "cell_type": "code",
   "execution_count": null,
   "metadata": {},
   "outputs": [],
   "source": [
    "# 코드를 작성한다.\n",
    "# 필요하면 코드셀 또는 텍스트셀을 추가할 수 있습니다.\n",
    "\n"
   ]
  },
  {
   "cell_type": "markdown",
   "metadata": {},
   "source": [
    "**코드 2**"
   ]
  },
  {
   "cell_type": "markdown",
   "metadata": {
    "id": "oMsxIe_500xd"
   },
   "source": [
    "아래 내용의 논리식을 할당받는 변수 `p2`를 선언한 후에 `p2`에 할당된 진리값을 확인하라.\n",
    "\n",
    "> \"Hello\"가 \"hello\" 보다 작은지 여부 판단\n",
    "\n",
    "참고: 두 문자열 사이의 크기비교가 가능하다. 알파벳 순서로 하며 대문자가 소문자보다 작다고 판단된다."
   ]
  },
  {
   "cell_type": "code",
   "execution_count": null,
   "metadata": {},
   "outputs": [],
   "source": [
    "# 코드를 작성한다.\n",
    "# 필요하면 코드셀 또는 텍스트셀을 추가할 수 있습니다.\n",
    "\n"
   ]
  },
  {
   "cell_type": "markdown",
   "metadata": {
    "id": "PRQLSWmi0sAF"
   },
   "source": [
    "## 문제 6"
   ]
  },
  {
   "cell_type": "markdown",
   "metadata": {
    "id": "PRQLSWmi0sAF"
   },
   "source": [
    "`dogs`와 `cats` 두 변수를 다음과 같이 선언한다."
   ]
  },
  {
   "cell_type": "code",
   "execution_count": null,
   "metadata": {
    "id": "PRQLSWmi0sAF"
   },
   "outputs": [],
   "source": [
    "dogs = '12'\n",
    "cats = '7'"
   ]
  },
  {
   "cell_type": "markdown",
   "metadata": {
    "id": "PRQLSWmi0sAF"
   },
   "source": [
    "강아지가 고양이보다 몇 마리 더 많은지를 아래 형식으로 \n",
    "출력하는 코드를 작성하라.\n",
    "\n",
    "> 강아지가 고양이보다 5 마리 더 많다."
   ]
  },
  {
   "cell_type": "markdown",
   "metadata": {
    "id": "PRQLSWmi0sAF"
   },
   "source": [
    "힌트: `int()` 함수를 이용한다. \n",
    "`int()` 함수는 정수 모양의 문자열을 실제 정수로 변환한다.\n",
    "\n",
    "```python\n",
    ">>> int('12')\n",
    "12\n",
    "```"
   ]
  },
  {
   "cell_type": "code",
   "execution_count": null,
   "metadata": {},
   "outputs": [],
   "source": [
    "# 코드를 작성한다.\n",
    "# 필요하면 코드셀 또는 텍스트셀을 추가할 수 있습니다.\n",
    "\n"
   ]
  },
  {
   "cell_type": "markdown",
   "metadata": {
    "id": "oMsxIe_500xd"
   },
   "source": [
    "## 문제 7"
   ]
  },
  {
   "cell_type": "markdown",
   "metadata": {
    "id": "jLCnfgsk06WQ"
   },
   "source": [
    "변수 `x`에 정수 17을 할당했을 때 \n",
    "변수 `x`가 가리키는 값이 짝수면 0을,\n",
    "홀수면 1을 출력하는 코드를 `if ... else ...` 조건문을 이용하여 작성하라."
   ]
  },
  {
   "cell_type": "code",
   "execution_count": null,
   "metadata": {},
   "outputs": [],
   "source": [
    "# 코드를 작성한다.\n",
    "# 필요하면 코드셀 또는 텍스트셀을 추가할 수 있습니다.\n",
    "\n"
   ]
  },
  {
   "cell_type": "markdown",
   "metadata": {},
   "source": [
    "## 문제 8"
   ]
  },
  {
   "cell_type": "markdown",
   "metadata": {
    "id": "DxP4L1g30ZpC"
   },
   "source": [
    "100만원을 복리로 연이자 5%인 예금에 3년간 은행에 맡겼을 때\n",
    "3년 후에 수령할 금액을 계산하는 코드를 다양한 변수를 활용하여 구현하라.\n",
    "단, 다음 형식으로 출력한다.\n",
    "\n",
    "> 3년 후 받을 원금 + 이자는 OOO 원입니다."
   ]
  },
  {
   "cell_type": "markdown",
   "metadata": {},
   "source": [
    "복리계산은 아래 식을 따른다."
   ]
  },
  {
   "cell_type": "markdown",
   "metadata": {},
   "source": [
    "> 원리합계 ＝ 원금 * (1 ＋ 연금리/일년에 이자받는횟수) ** (일년에 이자받는횟수 * 기간)"
   ]
  },
  {
   "cell_type": "markdown",
   "metadata": {},
   "source": [
    "복리 개념과 계산법에 대해서는 아래 링크를 참고한다.\n",
    "\n",
    "- [복리 개념과 계산법](https://a2-finance.com/ko/calculators/%EB%AA%A8%EB%93%A0-%EA%B3%84%EC%82%B0%EA%B8%B0/%EB%B3%B5%EB%A6%AC-%EA%B3%84%EC%82%B0%EA%B8%B0)"
   ]
  },
  {
   "cell_type": "markdown",
   "metadata": {},
   "source": [
    "아래 변수를 활용한다.\n",
    "\n",
    "- principal = 원금\n",
    "- rate = 연이자율\n",
    "- period = 저축기간(년)\n",
    "- savings = 원리합계"
   ]
  },
  {
   "cell_type": "code",
   "execution_count": null,
   "metadata": {},
   "outputs": [],
   "source": [
    "# 코드를 작성한다.\n",
    "# 필요하면 코드셀 또는 텍스트셀을 추가할 수 있습니다.\n",
    "\n"
   ]
  },
  {
   "cell_type": "markdown",
   "metadata": {},
   "source": [
    "## 문제 9"
   ]
  },
  {
   "cell_type": "markdown",
   "metadata": {},
   "source": [
    "다음 역삼각형 모양을 출력하는 코드를 작성하라.\n",
    "두 개의 별 기호 사이에 공백(space)가 사용됨에 주의한다.\n",
    "공백도 하나의 기호로 취급된다.\n",
    "단, `while` 반복문을 이용한다.\n",
    "\n",
    "```\n",
    "* * * * *  \n",
    "* * * *  \n",
    "* * *  \n",
    "* *  \n",
    "*\n",
    "```"
   ]
  },
  {
   "cell_type": "markdown",
   "metadata": {},
   "source": [
    "## 문제 10"
   ]
  },
  {
   "cell_type": "markdown",
   "metadata": {
    "id": "akoVfOTao55r"
   },
   "source": [
    "`for` 반복문을 이용하여 아래 실행결과가 나오는 프로그램을 작성하라.\n",
    "단, `\"안녕하세요\"` 문자열이 코드에 단 한 번만 언급되어야 한다.\n",
    "\n",
    "```\n",
    "안녕하세요.\n",
    "안녕하세요.\n",
    "안녕하세요.\n",
    "안녕하세요.\n",
    "안녕하세요.\n",
    "```\n",
    "\n",
    "힌트: 리스트 활용"
   ]
  },
  {
   "cell_type": "code",
   "execution_count": null,
   "metadata": {},
   "outputs": [],
   "source": [
    "# 코드를 작성한다.\n",
    "# 필요하면 코드셀 또는 텍스트셀을 추가할 수 있습니다.\n",
    "\n"
   ]
  },
  {
   "cell_type": "markdown",
   "metadata": {},
   "source": [
    "## 문제 11"
   ]
  },
  {
   "cell_type": "markdown",
   "metadata": {},
   "source": [
    "아래 코드를 실행했을 때 리스트 `[]`의 의미를 설명하라."
   ]
  },
  {
   "cell_type": "code",
   "execution_count": 5,
   "metadata": {},
   "outputs": [
    {
     "name": "stdout",
     "output_type": "stream",
     "text": [
      "거짓인 경우라서 실행됨!\n"
     ]
    }
   ],
   "source": [
    "if []:\n",
    "    print(\"참인 경우라서 실행됨!\")\n",
    "else:\n",
    "    print(\"거짓인 경우라서 실행됨!\")"
   ]
  },
  {
   "cell_type": "markdown",
   "metadata": {},
   "source": [
    "*실행 결과 설명*\n",
    "\n",
    "..."
   ]
  }
 ],
 "metadata": {
  "colab": {
   "authorship_tag": "ABX9TyM4m5Xn0Khai6I6+Jd6ukU+",
   "collapsed_sections": [],
   "name": "practice-starting.ipynb",
   "provenance": []
  },
  "kernelspec": {
   "display_name": "Python 3 (ipykernel)",
   "language": "python",
   "name": "python3"
  },
  "language_info": {
   "codemirror_mode": {
    "name": "ipython",
    "version": 3
   },
   "file_extension": ".py",
   "mimetype": "text/x-python",
   "name": "python",
   "nbconvert_exporter": "python",
   "pygments_lexer": "ipython3",
   "version": "3.11.5"
  }
 },
 "nbformat": 4,
 "nbformat_minor": 1
}
