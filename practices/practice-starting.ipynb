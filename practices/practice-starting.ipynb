{
 "cells": [
  {
   "cell_type": "markdown",
   "metadata": {},
   "source": [
    "# (실습) 프로그래밍 시작하기"
   ]
  },
  {
   "cell_type": "markdown",
   "metadata": {
    "id": "MgBCG_zE0A9f"
   },
   "source": [
    "**주의 사항**\n",
    "\n",
    "* 기존에 작성된 코드셀/텍스트셀은 수정하지 않는다.\n",
    "* 필요한 경우 코드셀 또는 텍스트셀을 추가할 수 있다.\n",
    "* 실습 파일을 구글 드라이브에서 링크로 누구가 공유할 수 있도록 설정하세요."
   ]
  },
  {
   "cell_type": "markdown",
   "metadata": {},
   "source": [
    "**문제 1** "
   ]
  },
  {
   "cell_type": "markdown",
   "metadata": {},
   "source": [
    "아래 명령문들을 실행해서 오류가 발생하는 경우 오류를 설명하고 수정하라.\n",
    "\n",
    "```python\n",
    "print(\"Hello World\"\n",
    "print(\"Hello World)\n",
    "print('Hello World\")\n",
    "print(+2)\n",
    "print(2++2)\n",
    "print(023)\n",
    "print(21 8)\n",
    "```"
   ]
  },
  {
   "cell_type": "code",
   "execution_count": 1,
   "metadata": {},
   "outputs": [],
   "source": [
    "# 코드를 작성하세요.\n",
    "# 필요하면 코드셀 또는 텍스트셀을 추가할 수 있습니다.\n",
    "\n"
   ]
  },
  {
   "cell_type": "markdown",
   "metadata": {},
   "source": [
    "**문제 2** "
   ]
  },
  {
   "cell_type": "markdown",
   "metadata": {},
   "source": [
    "변수 선언과 할당 관련 주의해야할 점들을 다룬다.\n",
    "아래 명령문들을 실행해서 오류가 발생하는 경우 오류를 설명하고 수정하라.\n",
    "\n",
    "```python\n",
    "23 = n\n",
    "x = y = 1\n",
    "x = 2;\n",
    "y = x + 1.\n",
    "z = x y\n",
    "```"
   ]
  },
  {
   "cell_type": "code",
   "execution_count": 2,
   "metadata": {},
   "outputs": [],
   "source": [
    "# 코드를 작성하세요.\n",
    "# 필요하면 코드셀 또는 텍스트셀을 추가할 수 있습니다.\n",
    "\n"
   ]
  },
  {
   "cell_type": "markdown",
   "metadata": {
    "id": "6jxFns8v0EeE"
   },
   "source": [
    "**문제 3**"
   ]
  },
  {
   "cell_type": "markdown",
   "metadata": {
    "id": "6jxFns8v0EeE"
   },
   "source": [
    "연산자를 이용해 수식으로 표현해보고 그 결과를 확인하여라.\n",
    "\n",
    "* 정수 25와 정수 12를 더하시오.\n",
    "* 정수 13에서 정수 19를 빼시오.\n",
    "* 정수 92과 부동소수점 8.0 을 곱하시오.\n",
    "* 부동소수점 81.5을 부동소수점 2.0으로 나누시오.\n",
    "* 정수 7를 5로 나눴을 때, 몫을 구하시오.\n",
    "* 정수 100을 정수 7로 나눈 나머지를 구하시오.\n",
    "* 정수 3의 세제곱을 구하시오."
   ]
  },
  {
   "cell_type": "code",
   "execution_count": 3,
   "metadata": {},
   "outputs": [],
   "source": [
    "# 코드를 작성하세요.\n",
    "# 필요하면 코드셀 또는 텍스트셀을 추가할 수 있습니다.\n",
    "\n"
   ]
  },
  {
   "cell_type": "markdown",
   "metadata": {
    "id": "xygzJ5410LMv"
   },
   "source": [
    "**문제 4**"
   ]
  },
  {
   "cell_type": "markdown",
   "metadata": {
    "id": "xygzJ5410LMv"
   },
   "source": [
    "다음 각각의 자료형을 확인하는 코드를 작성하라.\n",
    "\n",
    "* `3`\n",
    "* `3.0`\n",
    "* `'3'`\n",
    "* `'3.0'`\n",
    "* `\"3\"`\n",
    "* `\"3.0\"`"
   ]
  },
  {
   "cell_type": "code",
   "execution_count": 4,
   "metadata": {},
   "outputs": [],
   "source": [
    "# 코드를 작성하세요.\n",
    "# 필요하면 코드셀 또는 텍스트셀을 추가할 수 있습니다.\n",
    "\n"
   ]
  },
  {
   "cell_type": "markdown",
   "metadata": {},
   "source": [
    "**문제 5** "
   ]
  },
  {
   "cell_type": "markdown",
   "metadata": {},
   "source": [
    "아래와 같이 변수들이 선언되었다고 가정하자.\n",
    "\n",
    "```python\n",
    "width = 17\n",
    "height = 12.0\n",
    "delimiter = '.'\n",
    "```\n",
    "\n",
    "다음에 오는 각각의 표현식들에 대해, 표현식의 값과 자료형을 확인하라.\n",
    "\n",
    "```python\n",
    "width//2\n",
    "width/2\n",
    "width/2.0\n",
    "height/3\n",
    "1+2*5\n",
    "delimiter*5\n",
    "```"
   ]
  },
  {
   "cell_type": "code",
   "execution_count": 5,
   "metadata": {},
   "outputs": [],
   "source": [
    "# 코드를 작성하세요.\n",
    "# 필요하면 코드셀 또는 텍스트셀을 추가할 수 있습니다.\n",
    "\n"
   ]
  },
  {
   "cell_type": "markdown",
   "metadata": {
    "id": "BR35apnL0Tf9"
   },
   "source": [
    "**문제 6**"
   ]
  },
  {
   "cell_type": "markdown",
   "metadata": {
    "id": "BR35apnL0Tf9"
   },
   "source": [
    "1$\\text{m}^2$는 0.3025평이다. \n",
    "84$\\text{m}^2$는 몇 평인가? \n",
    "반대로 30평은 몇 $\\text{m}^2$인가?"
   ]
  },
  {
   "cell_type": "code",
   "execution_count": 6,
   "metadata": {},
   "outputs": [],
   "source": [
    "# 코드를 작성하세요.\n",
    "# 필요하면 코드셀 또는 텍스트셀을 추가할 수 있습니다.\n",
    "\n"
   ]
  },
  {
   "cell_type": "markdown",
   "metadata": {
    "id": "ZH4Xviwf0O_s"
   },
   "source": [
    "**문제 7**"
   ]
  },
  {
   "cell_type": "markdown",
   "metadata": {
    "id": "ZH4Xviwf0O_s"
   },
   "source": [
    "우유 가격은 820원이고, 아이스크림 가격은 1500원이다.\n",
    "아이스크림은 3개이상 구입시 5%를 할인해준다.\n",
    "우유 2개와 아이스크림 3개를 구입할 때 지불해야 하는 가격을 변수를 활용하여 코드로 작성하여라.\n",
    "\n",
    "힌트: 변수를 이용한다."
   ]
  },
  {
   "cell_type": "code",
   "execution_count": 7,
   "metadata": {},
   "outputs": [],
   "source": [
    "# 코드를 작성하세요.\n",
    "# 필요하면 코드셀 또는 텍스트셀을 추가할 수 있습니다.\n",
    "\n"
   ]
  },
  {
   "cell_type": "markdown",
   "metadata": {
    "id": "DxP4L1g30ZpC"
   },
   "source": [
    "**문제 8**"
   ]
  },
  {
   "cell_type": "markdown",
   "metadata": {
    "id": "DxP4L1g30ZpC"
   },
   "source": [
    "100만원을 월이율 3%인 예금에 1년간 복리로 은행에 맡겼다.\n",
    "1년 후에 받는 돈은 얼마인지를 확인하는 코드를 작성하여라.\n",
    "단, 다음 형식으로 출력하라.\n",
    "\n",
    "> 1년 후 받는 원금 + 이자는 OOO원입니다.\n",
    "\n",
    "힌트: 변수를 이용한다."
   ]
  },
  {
   "cell_type": "code",
   "execution_count": 8,
   "metadata": {},
   "outputs": [],
   "source": [
    "# 코드를 작성하세요.\n",
    "# 필요하면 코드셀 또는 텍스트셀을 추가할 수 있습니다.\n",
    "\n"
   ]
  },
  {
   "cell_type": "markdown",
   "metadata": {
    "id": "v1Z9csmB0dNW"
   },
   "source": [
    "**문제 9**"
   ]
  },
  {
   "cell_type": "markdown",
   "metadata": {
    "id": "v1Z9csmB0dNW"
   },
   "source": [
    "문자열 연산을 이용하여 다음의 실행 결과가 나오도록 코드를 \n",
    "다양한 방식으로 작성하여라\n",
    "\n",
    "- 경우 1\n",
    "\n",
    "    ```\n",
    "    안녕하세요. 안녕하세요. 안녕하세요.\n",
    "    ```\n",
    "\n",
    "- 경우 2\n",
    "\n",
    "    ```\n",
    "    안녕하세요.\n",
    "    안녕하세요.\n",
    "    안녕하세요.\n",
    "    안녕하세요.\n",
    "    안녕하세요.\n",
    "    ```"
   ]
  },
  {
   "cell_type": "code",
   "execution_count": 9,
   "metadata": {},
   "outputs": [],
   "source": [
    "# 코드를 작성하세요.\n",
    "# 필요하면 코드셀 또는 텍스트셀을 추가할 수 있습니다.\n",
    "\n"
   ]
  },
  {
   "cell_type": "markdown",
   "metadata": {
    "id": "PRQLSWmi0sAF"
   },
   "source": [
    "**문제 10**"
   ]
  },
  {
   "cell_type": "markdown",
   "metadata": {
    "id": "PRQLSWmi0sAF"
   },
   "source": [
    "`dogs`와 `cats` 두 개의 변수가 다음과 같이 선언되었다.\n",
    "\n",
    "```python\n",
    "dogs = '12'\n",
    "cats = '7'\n",
    "```\n",
    "\n",
    "1. `dogs`와 `cats` 변수에 할당된 값의 자료형을 확인하여라.  \n",
    "1. 강아지가 고양이보다 몇 마리 더 많은지 확인하는 코드를 작성하여라. \n",
    "    출력된 결과는 아래와 같은 형식이어야 한다.\n",
    "\n",
    "    > 강아지가 고양이보다 n 마리 더 많다.\n",
    "\n",
    "힌트: `int()` 함수 또는 `float()` 함수를 이용할 수 있다."
   ]
  },
  {
   "cell_type": "code",
   "execution_count": 10,
   "metadata": {},
   "outputs": [],
   "source": [
    "# 코드를 작성하세요.\n",
    "# 필요하면 코드셀 또는 텍스트셀을 추가할 수 있습니다.\n",
    "\n"
   ]
  },
  {
   "cell_type": "markdown",
   "metadata": {
    "id": "oMsxIe_500xd"
   },
   "source": [
    "**문제 11**"
   ]
  },
  {
   "cell_type": "markdown",
   "metadata": {
    "id": "oMsxIe_500xd"
   },
   "source": [
    "1. 변수할당과 연산기호를 이용해 아래 내용을 논리식으로 표현하라.\n",
    "\n",
    "    - `p1`: `3`과 `4`가 다른지 여부 판단<br>\n",
    "    - `p2`: `\"hello\"`와 `\"hi\"`가 같은지 여부 판단<br>\n",
    "    - `p3`: `2`가 `8`보다 작거나 같은지 여부 판단<br>\n",
    "    - `p4`: `12`가 `20`보다 큰지 여부 판단<br><br>\n",
    "\n",
    "1. 아래의 결과가 `True`인지 `False`인지 판단하는 논리식을 작성하라.\n",
    "\n",
    "    - `p1 and p3`\n",
    "    - `p2 and not p4`\n",
    "    - `p3 or p4`"
   ]
  },
  {
   "cell_type": "code",
   "execution_count": 11,
   "metadata": {},
   "outputs": [],
   "source": [
    "# 코드를 작성하세요.\n",
    "# 필요하면 코드셀 또는 텍스트셀을 추가할 수 있습니다.\n",
    "\n"
   ]
  },
  {
   "cell_type": "markdown",
   "metadata": {
    "id": "jLCnfgsk06WQ"
   },
   "source": [
    "**문제 12**"
   ]
  },
  {
   "cell_type": "markdown",
   "metadata": {
    "id": "jLCnfgsk06WQ"
   },
   "source": [
    "15, 28이 각각 짝수인지 홀수인지를 판별하는 코드를 작성하여라.\n",
    "출력된 결과는 아래와 같은 형식이다.\n",
    "\n",
    "> 15는 짝수인가요? False  \n",
    "> 28은 짝수인가요? True"
   ]
  },
  {
   "cell_type": "code",
   "execution_count": 12,
   "metadata": {},
   "outputs": [],
   "source": [
    "# 코드를 작성하세요.\n",
    "# 필요하면 코드셀 또는 텍스트셀을 추가할 수 있습니다.\n",
    "\n"
   ]
  },
  {
   "cell_type": "markdown",
   "metadata": {
    "id": "SjFpmZ5r0_zh"
   },
   "source": [
    "**문제 13**"
   ]
  },
  {
   "cell_type": "markdown",
   "metadata": {
    "id": "SjFpmZ5r0_zh"
   },
   "source": [
    "아래의 표는 어느 마트의 단위당 판매 가격이다.\n",
    "\n",
    " |제목|단위|가격|\n",
    " |:----:|:----:|----|\n",
    " |사과|1개|5,400원|\n",
    " |돼지고기|100g|2,480원|\n",
    " |달걀|10개|7,980원|\n",
    " |우유|1개|2,560원|\n",
    " |오이|1개|2,250원|\n",
    "\n",
    " A는 이 마트에서 사과 3개와 돼지고기 600g, 달걀 5개를 구매하려고 한다. \n",
    " A는 총 비용을 구하는 프로그램을 작성하기 위해 아래와 같이 변수를 선언하였다.\n",
    " \n",
    "```python\n",
    "apple = '3'\n",
    "pork = '600'\n",
    "egg = '5'\n",
    "```\n",
    "\n",
    "위 변수들을 활용하여 \n",
    "아래와 같은 형식으로 총 비용을 출력하는 프로그램을 작성하라.\n",
    "\n",
    "> 사과 3개, 돼지고기 600g, 달걀 5개를 구매하는 총 비용은 OOO 원이다. "
   ]
  },
  {
   "cell_type": "code",
   "execution_count": 13,
   "metadata": {},
   "outputs": [],
   "source": [
    "# 코드를 작성하세요.\n",
    "# 필요하면 코드셀 또는 텍스트셀을 추가할 수 있습니다.\n",
    "\n"
   ]
  },
  {
   "cell_type": "markdown",
   "metadata": {},
   "source": [
    "**문제 14**"
   ]
  },
  {
   "cell_type": "markdown",
   "metadata": {},
   "source": [
    "반지름이 $r$인 구의 부피는 $\\frac{4}{3} \\pi r^3$ 이다. 반지름이 5인 구의 부피는 얼마인가?\n",
    "\n"
   ]
  },
  {
   "cell_type": "code",
   "execution_count": 14,
   "metadata": {},
   "outputs": [],
   "source": [
    "# 코드를 작성하세요.\n",
    "# 필요하면 코드셀 또는 텍스트셀을 추가할 수 있습니다.\n",
    "\n"
   ]
  },
  {
   "cell_type": "markdown",
   "metadata": {},
   "source": [
    "**문제 15**"
   ]
  },
  {
   "cell_type": "markdown",
   "metadata": {},
   "source": [
    "책의 정가는 권당 24,950원이지만, 각 권당 10% 의 할인을 받는다고 가정하자.\n",
    "책 한 권의 운송료는 2,000원 이고, 두 권째 부터는 권당 500원을 추가로 내야 한다.\n",
    "60권을 사서 배송을 받고자 하면 얼마를 지불해야 하는가?"
   ]
  },
  {
   "cell_type": "code",
   "execution_count": 15,
   "metadata": {},
   "outputs": [],
   "source": [
    "# 코드를 작성하세요.\n",
    "# 필요하면 코드셀 또는 텍스트셀을 추가할 수 있습니다.\n",
    "\n"
   ]
  },
  {
   "cell_type": "markdown",
   "metadata": {},
   "source": [
    "**문제 16**"
   ]
  },
  {
   "cell_type": "markdown",
   "metadata": {},
   "source": [
    "오전 6시 52분에 집을 떠나서, 가볍게 (km당 8분 15초 소요) 1km를 뛰고, \n",
    "이어서 좀 빠르게 (km당 7분 12초 소요) 3km를 뛴 후, 다시 가볍게 1km를 마저 달려 집으로 돌아오면 \n",
    "집에 도착하는 시간은 언제인가?"
   ]
  },
  {
   "cell_type": "code",
   "execution_count": 16,
   "metadata": {},
   "outputs": [],
   "source": [
    "# 코드를 작성하세요.\n",
    "# 필요하면 코드셀 또는 텍스트셀을 추가할 수 있습니다.\n",
    "\n"
   ]
  },
  {
   "cell_type": "markdown",
   "metadata": {},
   "source": [
    "**문제 17**"
   ]
  },
  {
   "cell_type": "markdown",
   "metadata": {},
   "source": [
    "만약 10km를 43분 30초 만에 달렸다면, 마일(mile)당 소요 시간은 얼마인가? \n",
    "시간당 마일로 계산한 평균 속도는 얼마인가? \n",
    "단, 1마일은 1.61 킬로미터로 계산한다."
   ]
  },
  {
   "cell_type": "code",
   "execution_count": 17,
   "metadata": {},
   "outputs": [],
   "source": [
    "# 코드를 작성하세요.\n",
    "# 필요하면 코드셀 또는 텍스트셀을 추가할 수 있습니다.\n",
    "\n"
   ]
  },
  {
   "cell_type": "markdown",
   "metadata": {},
   "source": [
    "**문제 18**"
   ]
  },
  {
   "cell_type": "markdown",
   "metadata": {},
   "source": [
    "1부터 10까지의 합을 계산하는 코드를 `for` 반복문을 이용하여 구현하라.\n",
    "\n",
    "힌트: 리스트를 활용한다."
   ]
  },
  {
   "cell_type": "code",
   "execution_count": 17,
   "metadata": {},
   "outputs": [],
   "source": [
    "# 코드를 작성하세요.\n",
    "# 필요하면 코드셀 또는 텍스트셀을 추가할 수 있습니다.\n",
    "\n"
   ]
  }
 ],
 "metadata": {
  "colab": {
   "authorship_tag": "ABX9TyM4m5Xn0Khai6I6+Jd6ukU+",
   "collapsed_sections": [],
   "name": "practice-starting.ipynb",
   "provenance": []
  },
  "kernelspec": {
   "display_name": "Python 3 (ipykernel)",
   "language": "python",
   "name": "python3"
  },
  "language_info": {
   "codemirror_mode": {
    "name": "ipython",
    "version": 3
   },
   "file_extension": ".py",
   "mimetype": "text/x-python",
   "name": "python",
   "nbconvert_exporter": "python",
   "pygments_lexer": "ipython3",
   "version": "3.9.7"
  }
 },
 "nbformat": 4,
 "nbformat_minor": 1
}
