{
 "cells": [
  {
   "cell_type": "markdown",
   "id": "bd286fa2",
   "metadata": {},
   "source": [
    "# (실습) 모음 자료형 3부: 이터러블, 이터레이터, 제너레이터"
   ]
  },
  {
   "cell_type": "markdown",
   "id": "f8d9a601",
   "metadata": {},
   "source": [
    "**문제 1**"
   ]
  },
  {
   "cell_type": "markdown",
   "id": "7953bb77",
   "metadata": {},
   "source": [
    "임의로 중첩된 리스트를 풀어헤쳐 중첩이 없는 리스트를 생성하는\n",
    "`flatten()` 함수를 제너레이터 함수를 이용하여 구현하라.\n",
    "단, 재귀를 이용할 수 있다.\n",
    "\n",
    "참고: [stackoverflow: 임의로 중첩된 리스트 납작하게 만들기](https://stackoverflow.com/questions/10823877/what-is-the-fastest-way-to-flatten-arbitrarily-nested-lists-in-python)"
   ]
  },
  {
   "cell_type": "code",
   "execution_count": 1,
   "id": "34ed814f",
   "metadata": {},
   "outputs": [],
   "source": [
    "# pass 를 적절한 명령문으로 대체하라.\n",
    "# 단 일반함수가 아닌 제너레이터로 정의해야 한다.\n",
    "# 즉, return 이 아닌 yield 키워드가 사용되어야 한다.\n",
    "\n",
    "def flatten(container):\n",
    "    pass"
   ]
  },
  {
   "cell_type": "code",
   "execution_count": 2,
   "id": "85a756f1",
   "metadata": {},
   "outputs": [],
   "source": [
    "nests = [1, 2, [3, 4, [5],['hi']], [6, [[[7, 'hello']]]]]\n",
    "\n",
    "# assert list(flassten(nests)) == [1, 2, 3, 4, 5, 'hi', 6, 7, 'hello']"
   ]
  }
 ],
 "metadata": {
  "kernelspec": {
   "display_name": "Python 3 (ipykernel)",
   "language": "python",
   "name": "python3"
  },
  "language_info": {
   "codemirror_mode": {
    "name": "ipython",
    "version": 3
   },
   "file_extension": ".py",
   "mimetype": "text/x-python",
   "name": "python",
   "nbconvert_exporter": "python",
   "pygments_lexer": "ipython3",
   "version": "3.9.7"
  }
 },
 "nbformat": 4,
 "nbformat_minor": 5
}
