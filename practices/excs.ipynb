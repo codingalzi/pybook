{
 "cells": [
  {
   "cell_type": "markdown",
   "id": "bd286fa2",
   "metadata": {},
   "source": [
    "## 모음자료형"
   ]
  },
  {
   "cell_type": "markdown",
   "id": "d32f57f0",
   "metadata": {},
   "source": [
    "**문제**"
   ]
  },
  {
   "cell_type": "markdown",
   "id": "3cba19ed",
   "metadata": {},
   "source": [
    "문자열 `a:b:c:d` 을 이용하여 문자열 `a#b#c#d` 생성하는 코드를 작성하라.\n",
    "\n",
    "힌트: 문자열의 메서드를 활용한다."
   ]
  },
  {
   "cell_type": "markdown",
   "id": "20c1f72d",
   "metadata": {},
   "source": [
    "**문제**"
   ]
  },
  {
   "cell_type": "markdown",
   "id": "f6d0ffec",
   "metadata": {},
   "source": [
    "`[1, 3, 5, 4, 2]` 리스트를 `[5, 4, 3, 2, 1]`로 만들어 보자.\n",
    "\n",
    "힌트: 리스트의 메서드를 활용한다."
   ]
  },
  {
   "cell_type": "markdown",
   "id": "107b0ac5",
   "metadata": {},
   "source": [
    "**문제**"
   ]
  },
  {
   "cell_type": "markdown",
   "id": "62d426fe",
   "metadata": {},
   "source": [
    "리스트 `['Life', 'is', 'too', 'short']` 를 이용하여\n",
    "문자열 `\"Life is too short\"` 을 생성하는 코드를 작성하라.\n",
    "\n",
    "힌트: 리스트의 메서드를 사용한다."
   ]
  },
  {
   "cell_type": "markdown",
   "id": "a59c34c1",
   "metadata": {},
   "source": [
    "**문제**"
   ]
  },
  {
   "cell_type": "markdown",
   "id": "fee470e9",
   "metadata": {},
   "source": [
    "튜플 `(1, 2, 3)`을 이용하여 튜플 `(1, 2, 3, 4)` 를 생성하는 코드를 작성하라."
   ]
  },
  {
   "cell_type": "markdown",
   "id": "c903a7e9",
   "metadata": {},
   "source": [
    "**문제**"
   ]
  },
  {
   "cell_type": "markdown",
   "id": "ed3f99c0",
   "metadata": {
    "id": "kkbD-sw3IsYs"
   },
   "source": [
    "과일 이름으로 구성된 문자열 하나가 주어졌다."
   ]
  },
  {
   "cell_type": "code",
   "execution_count": null,
   "id": "78aca09f",
   "metadata": {
    "id": "kkbD-sw3IsYs"
   },
   "outputs": [],
   "source": [
    "fruit = \"banana apple orange pineapple mango strawberry cherry\""
   ]
  },
  {
   "cell_type": "markdown",
   "id": "426f4b1d",
   "metadata": {
    "id": "dBAG4HeAKjNv"
   },
   "source": [
    "(1) `fruit` 변수로부터 her 문자열을 추출하는 코드를 작성하여라."
   ]
  },
  {
   "cell_type": "markdown",
   "id": "4f045447",
   "metadata": {
    "id": "E9PvHGphK_qP"
   },
   "source": [
    "(2) `fruit` 변수로부터 oae 문자열을 추출하는 코드를 작성하여라."
   ]
  },
  {
   "cell_type": "markdown",
   "id": "8f3c6505",
   "metadata": {
    "id": "9c62tWuBLr5c"
   },
   "source": [
    "(3) `fruit` 변수로부터 yrrehc 문자열을 추출하는 코드를 작성하여라."
   ]
  },
  {
   "cell_type": "markdown",
   "id": "b6226657",
   "metadata": {},
   "source": [
    "**문제**"
   ]
  },
  {
   "cell_type": "markdown",
   "id": "a9dba354",
   "metadata": {
    "id": "B33dgBTeoy23"
   },
   "source": [
    "다음 문자열이 주어졌다.\n",
    "\n",
    "```python\n",
    "'n o r t h w e s t e r n'\n",
    "```\n",
    "\n",
    "위 문자열을 이용하여 아래 문자열을 생성하는 코드를 작성하라.\n",
    "\n",
    "```python\n",
    "'Northwestern'\n",
    "```"
   ]
  },
  {
   "cell_type": "markdown",
   "id": "41c065fc",
   "metadata": {},
   "source": [
    "**문제**"
   ]
  },
  {
   "cell_type": "markdown",
   "id": "bbaf693d",
   "metadata": {
    "id": "ngzxeTGTpXrG"
   },
   "source": [
    "아래 노래 가사를 활용하는 문제이다."
   ]
  },
  {
   "cell_type": "code",
   "execution_count": null,
   "id": "27b32097",
   "metadata": {
    "id": "ngzxeTGTpXrG"
   },
   "outputs": [],
   "source": [
    "song = \"When you are smiling, the whole world smiles with you\""
   ]
  },
  {
   "cell_type": "markdown",
   "id": "eef051a7",
   "metadata": {
    "id": "ngzxeTGTpXrG"
   },
   "source": [
    "(1) `for` 문을 사용하여 `song`에서 `a`가 등장하는 횟수를 구하는 코드를 작성하라.  "
   ]
  },
  {
   "cell_type": "markdown",
   "id": "0b6edc8d",
   "metadata": {
    "id": "S2R5xEZyrCYh"
   },
   "source": [
    "(2) 반복문을 사용하여  `song`에서 대소문자 구별없이 `w`가 등장하는 횟수를 구하는 코드를 작성하라."
   ]
  },
  {
   "cell_type": "markdown",
   "id": "f006c64e",
   "metadata": {},
   "source": [
    "**문제**"
   ]
  },
  {
   "cell_type": "markdown",
   "id": "a2c4b184",
   "metadata": {
    "id": "cdWbYJ-Ws00D"
   },
   "source": [
    "`num`이 가리키는 정수가 3으로 시작하거나 3을 포함하는 경우에는\n",
    "`num` 의 세제곱을 출력하고, \n",
    "아닌 경우에는 `num` 에서 2를 뺀 값을 출력하는 코드를 작성하라."
   ]
  },
  {
   "cell_type": "markdown",
   "id": "cd54c655",
   "metadata": {},
   "source": [
    "**문제**"
   ]
  },
  {
   "cell_type": "markdown",
   "id": "ac3799da",
   "metadata": {
    "id": "KSHjiCE0nlrM"
   },
   "source": [
    "정수 나눗셈의 몫을 계산하는 코드를 `while` 반복문을 이용하여 구현한다.\n",
    "단, 몫 연산자 `//` 는 절대 사용하지 않으며, 덧셈과 뺄셈만 사용한다. \n",
    "\n",
    "```\n",
    "number = 43\n",
    "divisor = 7\n",
    "answer = 0\n",
    "```"
   ]
  },
  {
   "cell_type": "markdown",
   "id": "a7b6d318",
   "metadata": {
    "id": "gMpJAk7d9-9H"
   },
   "source": [
    "**문제**"
   ]
  },
  {
   "cell_type": "markdown",
   "id": "366bacf4",
   "metadata": {
    "id": "gMpJAk7d9-9H"
   },
   "source": [
    "어느 한 택배의 무게에 따른 가격표가 다음과 같다.\n",
    "\n",
    "| 5kg 미만 | 5kg 이상~10kg 미만 | 10kg 이상 |\n",
    "|:-------:|:--------------------:|:---------:|\n",
    "|5.000원 | 8,000원| 10,000원|\n",
    "\n",
    "우편물의 무게가 주어졌을 때, 택배 가격을 알려주는 프로그램을 만들어라.  "
   ]
  },
  {
   "cell_type": "markdown",
   "id": "36c1a392",
   "metadata": {
    "id": "j5Yd_UXFuSHE"
   },
   "source": [
    "**문제**"
   ]
  },
  {
   "cell_type": "markdown",
   "id": "5348f9c2",
   "metadata": {
    "id": "j5Yd_UXFuSHE"
   },
   "source": [
    "0부터 100까지의 숫자 중에서 3의 배수와 7의 배수를 모두 찾아 출력한 다음, \n",
    "찾은 수들을 모두 더하여 아래와 같이 출력하는 코드를 작성하여라.\n",
    "\n",
    "```python\n",
    "0~100의 숫자 중 3의 배수와 7의 배수들의 합은 OOO이다.\n",
    "```"
   ]
  },
  {
   "cell_type": "markdown",
   "id": "ec75ffd9",
   "metadata": {
    "id": "7zN5nuZEGlZS"
   },
   "source": [
    "**문제**"
   ]
  },
  {
   "cell_type": "markdown",
   "id": "22084b40",
   "metadata": {
    "id": "7zN5nuZEGlZS"
   },
   "source": [
    "임의의 자연수 n이 주어졌을 때, 1부터 n까지의 자연수 중에서 3의 배수이거나 \n",
    "3을 포함하는 숫자들의 합을 구하여라. "
   ]
  },
  {
   "cell_type": "markdown",
   "id": "3633f567",
   "metadata": {
    "id": "DL3G4F7CmkA1"
   },
   "source": [
    "**문제**"
   ]
  },
  {
   "cell_type": "markdown",
   "id": "a8f072f0",
   "metadata": {
    "id": "DL3G4F7CmkA1"
   },
   "source": [
    "자연수 n이 주어졌을 때, n의 약수를 모두 출력하는 코드를 작성하여라. 단, n은 임의로 둔다."
   ]
  }
 ],
 "metadata": {
  "language_info": {
   "name": "python"
  }
 },
 "nbformat": 4,
 "nbformat_minor": 5
}
