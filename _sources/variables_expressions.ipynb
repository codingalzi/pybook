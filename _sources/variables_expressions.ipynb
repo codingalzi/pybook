{
 "cells": [
  {
   "cell_type": "markdown",
   "metadata": {},
   "source": [
    "# 변수, 값, 표현식"
   ]
  },
  {
   "cell_type": "markdown",
   "metadata": {},
   "source": [
    "파이썬과 같은 (명령형) 프로그래밍언어의 핵심 기능 중의 하나가 \n",
    "바로 (컴퓨터 메모리에) 저장된 값을 조작하는 일이다.\n",
    "값을 저장하고 조작하기 위해 값을 가리키는 이름이 필요하며\n",
    "이를 위해 변수를 사용한다.\n",
    "컴퓨터 프로그램은 간단하게 말해 변수를 조작하여 원하는 값을\n",
    "만들어내는 명령문의 모음집이라고 할 수 있다.\n",
    "\n",
    "이번 장에서는 변수의 활용법과 함께 \n",
    "파이썬에서 기본으로 제공하는 값의 종류, 값을 표현하는 표현식에 대해 알아본다."
   ]
  },
  {
   "cell_type": "markdown",
   "metadata": {},
   "source": [
    "## 변수와 값"
   ]
  },
  {
   "cell_type": "markdown",
   "metadata": {},
   "source": [
    "**변수**<font size=\"2\">variable</font>는 한마디로 말해\n",
    "(컴퓨터 메모리에) 저장된 값을 가리키는 이름이다.\n",
    "반면에 **값**<font size=\"2\">value</font>은 컴퓨터에 저장해서\n",
    "활용할 수 있는 대상이며, \n",
    "정수와 유한 소수가 컴퓨터가 다룰 수 있는 대표적인 값들이다.\n",
    "\n",
    "그리고 '가', '나', '다', 'a', 'b', 'c', '1', '2', '3', '!', ':', '_' 등의 임의의 문자, 숫자, 기호로 \n",
    "구성된 단어를 가리키는 문자열이 있다.\n",
    "예를 들어, '파이썬 좋아요;)', 'Hello, World!', '12.3 - 2.8' 등이 문자열이다.\n",
    "이외에 파이썬은 리스트, 튜플, 집합, 사전 등 다양한 종류의 값을 제공한다."
   ]
  },
  {
   "cell_type": "markdown",
   "metadata": {},
   "source": [
    ":::{admonition} 변수 활용\n",
    ":class: tip\n",
    "\n",
    "아주 단순하게 말해서 변수를 적절하게 활용하여 원하는 결과를 만들어 내도록 하는 것이\n",
    "컴퓨터 프로그램이라고 할 수 있다.\n",
    "그만큼 변수의 적절한 활용이 중요하다.\n",
    ":::"
   ]
  },
  {
   "cell_type": "markdown",
   "metadata": {},
   "source": [
    "### 변수 할당"
   ]
  },
  {
   "cell_type": "markdown",
   "metadata": {},
   "source": [
    "하나의 값을 가리키는 변수를 사용하기 위해서\n",
    "**변수 할당**<font size=\"2\">variable assignment</font>을 명령해서 변수로 선언해야 한다.\n",
    "변수 할당 명령문의 형식은 다음과 같다.\n",
    "\n",
    "```python\n",
    "변수 = 값\n",
    "```\n",
    "\n",
    "예를 들어, 아래 다섯 개의 할당 명령문은 서로 다른 종류의 값을 가리키는 다섯 개의 변수를\n",
    "선언한다."
   ]
  },
  {
   "cell_type": "code",
   "execution_count": 1,
   "metadata": {},
   "outputs": [],
   "source": [
    "greetings = '안녕하세요!'\n",
    "num = 17\n",
    "pi = 3.1415926535897932\n",
    "scores = (92, 87, 100)\n",
    "languages = [\"Python\", \"JavaScript\", \"Rust\", \"C++\"]"
   ]
  },
  {
   "cell_type": "markdown",
   "metadata": {},
   "source": [
    "- `greetings` 변수: `'안녕하세요!'` 라는 문장을 가리킨다.\n",
    "    단, 변수 이름과는 달리 값으로 사용되는 단어와 문장은 \n",
    "    항상 짝은따옴표 또는 큰따옴표로 감싸져야 한다.\n",
    "- `num` 변수: 정수 `17`을 가리킨다.\n",
    "- `pi` 변수: 유한소수 `3.1415926535897932`를 가리킨다.\n",
    "    유한소수는 공식적으로 \n",
    "    부동소수점<font size=\"2\">floating point</font>이라 불린다.\n",
    "- `scores` 변수: 세 개의 점수로 구성된 튜플을 가리킨다.\n",
    "- `languages` 변수: 네 개의 프로그래밍언어로 구성된 리스트를 가리킨다.\n",
    "\n",
    "선언된 변수는 할당된 값과 동등하게 취급된다."
   ]
  },
  {
   "cell_type": "code",
   "execution_count": 2,
   "metadata": {},
   "outputs": [
    {
     "data": {
      "text/plain": [
       "'안녕하세요!'"
      ]
     },
     "execution_count": 2,
     "metadata": {},
     "output_type": "execute_result"
    }
   ],
   "source": [
    "greetings"
   ]
  },
  {
   "cell_type": "code",
   "execution_count": 3,
   "metadata": {},
   "outputs": [
    {
     "data": {
      "text/plain": [
       "19"
      ]
     },
     "execution_count": 3,
     "metadata": {},
     "output_type": "execute_result"
    }
   ],
   "source": [
    "num + 2"
   ]
  },
  {
   "cell_type": "code",
   "execution_count": 4,
   "metadata": {},
   "outputs": [
    {
     "data": {
      "text/plain": [
       "6.283185307179586"
      ]
     },
     "execution_count": 4,
     "metadata": {},
     "output_type": "execute_result"
    }
   ],
   "source": [
    "2 * pi"
   ]
  },
  {
   "cell_type": "code",
   "execution_count": 5,
   "metadata": {},
   "outputs": [
    {
     "data": {
      "text/plain": [
       "93.0"
      ]
     },
     "execution_count": 5,
     "metadata": {},
     "output_type": "execute_result"
    }
   ],
   "source": [
    "mean = (scores[0] + scores[1] + scores[2])/3\n",
    "mean"
   ]
  },
  {
   "cell_type": "code",
   "execution_count": 6,
   "metadata": {},
   "outputs": [
    {
     "name": "stdout",
     "output_type": "stream",
     "text": [
      "['파이썬', '자바스크립트', '스칼라', '루비']\n"
     ]
    }
   ],
   "source": [
    "print(languages)"
   ]
  },
  {
   "cell_type": "markdown",
   "metadata": {},
   "source": [
    "그런데 변수가 가리키는 값은 변경될 수 있다.\n",
    "예를 들어, 변수 `num`에 `18`을 새롭게 할당하면\n",
    "이제는 `17`이 아닌 `18`을 가리킨다."
   ]
  },
  {
   "cell_type": "code",
   "execution_count": 7,
   "metadata": {},
   "outputs": [],
   "source": [
    "num = 18"
   ]
  },
  {
   "cell_type": "code",
   "execution_count": 8,
   "metadata": {},
   "outputs": [
    {
     "data": {
      "text/plain": [
       "20"
      ]
     },
     "execution_count": 8,
     "metadata": {},
     "output_type": "execute_result"
    }
   ],
   "source": [
    "num + 2"
   ]
  },
  {
   "cell_type": "markdown",
   "metadata": {},
   "source": [
    "업데이트된 변수의 값을 동일한 변수 이름을 이용하여 가리키도록 할 수 있다.\n",
    "아래 코드는 변수 `num`이\n",
    "원래 가리키던 값 18의 두 배인 36일 가리키도록 한다."
   ]
  },
  {
   "cell_type": "code",
   "execution_count": 9,
   "metadata": {},
   "outputs": [
    {
     "name": "stdout",
     "output_type": "stream",
     "text": [
      "36\n"
     ]
    }
   ],
   "source": [
    "num = num * 2\n",
    "print(num)"
   ]
  },
  {
   "cell_type": "markdown",
   "metadata": {},
   "source": [
    ":::{admonition} 파이썬 튜터와 프레임\n",
    ":class: info\n",
    "\n",
    "변수 할당은 **컴퓨터 메모리** 상에서 이루어지며,\n",
    "변수와 변수에 할당된 값 사이의 관계는 \n",
    "**프레임**<font size=\"2\">frame</font>을 통해 관리된다.\n",
    "컴퓨터 메모리 상에서 일어나는 변화를 직접 눈으로 볼 수는 없다. \n",
    "하지만 **파이썬 튜터**([https://pythontutor.com/](https://pythontutor.com/))를 \n",
    "이용하면 프레임의 변화를 시각적으로 추적할 수 있다.\n",
    "앞서 변수 다섯 개의 할당을 실행하면 프레임이 어떻게 변하는지\n",
    "[파이썬 튜터: 변수 할당](https://pythontutor.com/visualize.html#code=greetings%20%3D%20'%EC%95%88%EB%85%95%ED%95%98%EC%84%B8%EC%9A%94!'%0Anum%20%3D%2017%0Api%20%3D%203.1415926535897932%0Ascores%20%3D%20%2892,%2087,%20100%29%0Alanguages%20%3D%20%5B%22Python%22,%20%22JavaScript%22,%20%22Rust%22,%20%22C%2B%2B%22%5D%0A%0Amean%20%3D%20%28scores%5B0%5D%20%2B%20scores%5B1%5D%20%2B%20scores%5B2%5D%29/3%0Aprint%28mean%29%0A%0Aprint%28%22%3D%3D%3D%22%29%0A%0Aprint%28num%29%0A%0Anum%20%3D%2018%0Aprint%28num%29%0A%0Anum%20%3D%20num%20%2B%202%0Aprint%28num%29&cumulative=false&curInstr=0&heapPrimitives=nevernest&mode=display&origin=opt-frontend.js&py=3&rawInputLstJSON=%5B%5D&textReferences=false)에 \n",
    "접속해서 확인할 수 있다.\n",
    "\n",
    "파이썬튜터의 사용법은 다음과 같다.\n",
    "\n",
    "* 해당 사이트에 접속해서 코드 확인 및 수정 후 <kbd>Visualize Execution</kbd> 버튼을 누른다.\n",
    "* 이후 화면에서 <kbd>Next></kbd> 버튼을 반복해서 누르면\n",
    "    각각의 명령문이 차례대로 실행되는 과정에서 발생하는 프레임의 변화를 확인할 수 있다.\n",
    "* **Global frame**은 **전역 변수**<font size=\"2\">global variable</font>를 \n",
    "    담당하는 **전역 프레임**을 가리킨다.\n",
    "    전역 변수에 대한 정의는 나중에 소개한다.\n",
    ":::"
   ]
  },
  {
   "cell_type": "markdown",
   "metadata": {},
   "source": [
    "### 변수 이름짓기"
   ]
  },
  {
   "cell_type": "markdown",
   "metadata": {},
   "source": [
    "변수의 이름은 임의로 정할 수 있지만 할당되는 값과 연관된 이름을 사용할 것을 권장한다.\n",
    "예를 들어, 농구 시합에서 A 팀의 점수 72와 B 팀의 점수 80을 \n",
    "가리키는 두 개의 변수를 \n",
    "\n",
    "```python\n",
    "x = 72\n",
    "y = 80\n",
    "```\n",
    "\n",
    "이라고 하기 보다는\n",
    "\n",
    "```python\n",
    "A_score = 72\n",
    "B_score = 80\n",
    "```\n",
    "\n",
    "라고 하는 것이 프로그래밍에 보다 많은 도움이 된다."
   ]
  },
  {
   "cell_type": "markdown",
   "metadata": {},
   "source": [
    "**변수 이름짓기 규칙**"
   ]
  },
  {
   "cell_type": "markdown",
   "metadata": {},
   "source": [
    "변수의 이름을 지을 때 지켜야 하는 규칙이 몇 개 있다.\n",
    "\n",
    "* 알파벳, 숫자, 밑줄(_, underscore) 등을 조합해서 임의로 조합해서 사용한다.\n",
    "* 마침표(.), 연산 기호(+, -, *, /, !, %), 골뱅이 기호(@), 물결 기호(~), \n",
    "    공백<font size=\"2\">space</font> 은 사용할 수 없다.\n",
    "* 숫자로 시작할 수 없다.\n",
    "* 파이썬에서 특별한 역할을 수행하는 \n",
    "    **키워드**<font size=\"2\">keyword</font>는 사용할 수 없다.\n",
    "\n",
    "    파이썬 프로그래밍 언어의 키워드는 파이썬 최신 버전 기준으로 총 35개이다.\n",
    "    각 키워드의 역할은 필요할 때마다 설명될 것이다. \n",
    "\n",
    "    ```python\n",
    "    False      await      else       import     pass\n",
    "    None       break      except     in         raise\n",
    "    True       class      finally    is         return\n",
    "    and        continue   for        lambda     try\n",
    "    as         def        from       nonlocal   while\n",
    "    assert     del        global     not        with\n",
    "    async      elif       if         or         yield\n",
    "    ```"
   ]
  },
  {
   "cell_type": "markdown",
   "metadata": {},
   "source": [
    "허용되지 않는 사례 몇 가지를 살펴보자."
   ]
  },
  {
   "cell_type": "markdown",
   "metadata": {},
   "source": [
    "* 숫자로 시작\n",
    "\n",
    "    ```python\n",
    "    >>> 3dogs = '강아지 세 마리'\n",
    "      File \"<stdin>\", line 1\n",
    "        3dogs = '강아지 세 마리'\n",
    "         ^\n",
    "    SyntaxError: invalid syntax\n",
    "    ```"
   ]
  },
  {
   "cell_type": "markdown",
   "metadata": {},
   "source": [
    "* 공백 사용\n",
    "\n",
    "    ```python\n",
    "    >>> big number = 1000000\n",
    "      File \"<stdin>\", line 1\n",
    "        big number = 1000000\n",
    "            ^\n",
    "    SyntaxError: invalid syntax\n",
    "    ```"
   ]
  },
  {
   "cell_type": "markdown",
   "metadata": {},
   "source": [
    "* 키워드 사용: 예를 들어, `False`는 거짓을 나타내는 \n",
    "    부울값<font size=\"2\">Boolean value</font>이기에 \n",
    "    다른 의미로 사용될 수 없다.\n",
    "\n",
    "    ```python\n",
    "    >>> False = 0\n",
    "      File \"<stdin>\", line 1\n",
    "        False = 0\n",
    "        ^\n",
    "    SyntaxError: cannot assign to False\n",
    "    ```"
   ]
  },
  {
   "cell_type": "markdown",
   "metadata": {},
   "source": [
    "**소문자와 대문자 구분하기**"
   ]
  },
  {
   "cell_type": "markdown",
   "metadata": {},
   "source": [
    "프로그래밍에서 영어 알파벳의 소문자와 대문자는 엄연히 구분된다.\n",
    "예를 들어, `'hello'`와 `'Hello'`는 서로 다른 문자열이다.\n",
    "\n",
    "아래 코드에서 사용된 두 개의 등호 기호 연산자는 양 옆에 위치한 두 개의 값이 동일한 값을 가리키는지 여부,\n",
    "즉 등가 여부를 판단한다. \n",
    "`hello`와 `Hello`는 서로 다른 문자열로 판단되기에 `False`로 계산된다."
   ]
  },
  {
   "cell_type": "code",
   "execution_count": 10,
   "metadata": {},
   "outputs": [
    {
     "data": {
      "text/plain": [
       "False"
      ]
     },
     "execution_count": 10,
     "metadata": {},
     "output_type": "execute_result"
    }
   ],
   "source": [
    "'hello' == 'Hello'"
   ]
  },
  {
   "cell_type": "markdown",
   "metadata": {},
   "source": [
    "또한 규정은 아니지만 변수 이름은 관습적으로 소문자로 시작한다.\n",
    "파이썬의 경우 대문자로 시작하는 이름은 주로 \n",
    "**클래스**<font size=\"2\">class</font>를 선언할 때 사용한다.\n",
    "클래스는 나중에 자세히 다룬다."
   ]
  },
  {
   "cell_type": "markdown",
   "metadata": {},
   "source": [
    "**한글 사용**"
   ]
  },
  {
   "cell_type": "markdown",
   "metadata": {},
   "source": [
    "한글 단어, 심지어 자음과 모음도 독립적으로 사용할 수 있다."
   ]
  },
  {
   "cell_type": "code",
   "execution_count": 11,
   "metadata": {},
   "outputs": [],
   "source": [
    "헬로 = 'hello'"
   ]
  },
  {
   "cell_type": "markdown",
   "metadata": {},
   "source": [
    "아래 식에서 덧셈 기호(`+`)는 두 문자열과 함께 사용될 때\n",
    "두 문자열을 차례대로 이어 붙여\n",
    "새로운 문자열을 생성하는 연산자이다."
   ]
  },
  {
   "cell_type": "code",
   "execution_count": 12,
   "metadata": {},
   "outputs": [
    {
     "data": {
      "text/plain": [
       "'hello!'"
      ]
     },
     "execution_count": 12,
     "metadata": {},
     "output_type": "execute_result"
    }
   ],
   "source": [
    "헬로 + '!'"
   ]
  },
  {
   "cell_type": "code",
   "execution_count": 13,
   "metadata": {},
   "outputs": [],
   "source": [
    "ㅎㄹ = '헬로'"
   ]
  },
  {
   "cell_type": "code",
   "execution_count": 14,
   "metadata": {},
   "outputs": [
    {
     "data": {
      "text/plain": [
       "'헬로!'"
      ]
     },
     "execution_count": 14,
     "metadata": {},
     "output_type": "execute_result"
    }
   ],
   "source": [
    "ㅎㄹ + '!'"
   ]
  },
  {
   "cell_type": "markdown",
   "metadata": {},
   "source": [
    ":::{admonition} 주의\n",
    ":class: caution\n",
    "\n",
    "프로그램을 작성할 때 변수, 함수 등의 이름으로 한글을 사용하는 일은 \n",
    "아직 일반적이지 않다.\n",
    "하지만 변수가 가리키는 값으로는 한글 등 다양한 언어가 활용된다.\n",
    ":::"
   ]
  },
  {
   "cell_type": "markdown",
   "metadata": {},
   "source": [
    "## 함수와 표현식"
   ]
  },
  {
   "cell_type": "markdown",
   "metadata": {},
   "source": [
    "### 연산자"
   ]
  },
  {
   "cell_type": "markdown",
   "metadata": {},
   "source": [
    "일반적으로 **연산**<font size=\"2\">operation</font>은 사칙연산 등 \n",
    "수<font size='2'>number</font>를 대상으로 하는 **계산**을 의미한다.\n",
    "하지만 연산은 수 이외에도 두 문자열의 이어 붙이기 등 다른 종류의 값을 대상으로도 실행될 수 있다.\n",
    "이렇게 특정 종류의 값을 대상으로 계산을 수행하도록 하는 기호를\n",
    "**연산자**<font size=\"2\">operator</font>라 부르며,\n",
    "가장 많이 사용되는 연산자는 다음과 같다.\n",
    "\n",
    "* 사칙 연산자: 덧셈(`+`), 뺄셈(`-`), 곱셈(`*`), 나눗셈(`/`)\n",
    "* 비교 연산자: 작다(`<`), 크다(`>`), 작거나 같다(`<=`), 크거나 같다(`>=`)\n",
    "\n",
    "위 연산자들이 수 연산에 사용되는 경우 수학에서 배운\n",
    "연산 개념과 동일하다.\n",
    "하지만 앞서 살펴보았듯이 수가 아닌 다른 종류의 값들을 대상으로 하면 기능이 달라질 수 있다."
   ]
  },
  {
   "cell_type": "code",
   "execution_count": 15,
   "metadata": {},
   "outputs": [],
   "source": [
    "first = '파이썬, '\n",
    "second = '안녕!'"
   ]
  },
  {
   "cell_type": "code",
   "execution_count": 16,
   "metadata": {},
   "outputs": [
    {
     "data": {
      "text/plain": [
       "'파이썬, 안녕!'"
      ]
     },
     "execution_count": 16,
     "metadata": {},
     "output_type": "execute_result"
    }
   ],
   "source": [
    "first + second"
   ]
  },
  {
   "cell_type": "code",
   "execution_count": 17,
   "metadata": {},
   "outputs": [
    {
     "data": {
      "text/plain": [
       "'I love python! I love python! I love python! I love python! '"
      ]
     },
     "execution_count": 17,
     "metadata": {},
     "output_type": "execute_result"
    }
   ],
   "source": [
    "'I love python! ' * 4"
   ]
  },
  {
   "cell_type": "markdown",
   "metadata": {},
   "source": [
    ":::{admonition} 연산자 우선순위\n",
    ":class: info\n",
    "\n",
    "하나의 표현식이 나타내는 값은\n",
    "표현식에 사용된 연산자를 실행하여 계산된다.\n",
    "사칙연산자 등 많이 사용되는 수학 연산자의 \n",
    "우선순위는 일반적으로 알려진 것과 동일하다.\n",
    "\n",
    "* 괄호 안에 있는 표현식을 가장 먼저 계산한다. \n",
    "    \n",
    "    ```python\n",
    "    2*(3-1) => 2*2 => 4\n",
    "    (1+1)**(5-2) => 2**(5-2) => 2**3 => 8\n",
    "    ```\n",
    "    \n",
    "* 거듭제곱의 우선순위가 사칙연산보다 높다.\n",
    "\n",
    "    ```python\n",
    "    3**2*2 => (3**2)*2 => 9*2 => 18\n",
    "    3*2**2 => 3*(2**2) => 3*4 => 12\n",
    "    ```\n",
    "    \n",
    "* 곱셈과 나눗셈을 덧셈과 뺄셈보다 먼저 계산한다. \n",
    "\n",
    "    ```python\n",
    "    2*3-1 => (2*3)-1 => 6-1 => 5\n",
    "    6+4/2 => 6+(4/2) => 6+2 => 8\n",
    "    ```\n",
    "    \n",
    "* 곱셈과 나눗셈은 서로 우선순위가 같다.\n",
    "* 덧셈과 뺄쎔도 서로 우선순위가 같다.\n",
    "* 같은 우선순위를 갖는 연산자가 연속해서 나오면 (거듭제곱을 제외하고) 왼쪽에서 오른쪽으로 계산된다. \n",
    "\n",
    "    ```python\n",
    "    60/2*3 => (60/2)*3 => 30*3 => 90\n",
    "    ```\n",
    "    \n",
    "* 거듭제곱이 연속해서 나오면 오른쪽에서 왼쪽으로 계산된다. \n",
    "\n",
    "    ```python\n",
    "    2**3**2 => 2**(3**2) => 2**9 => 512\n",
    "    ```\n",
    ":::"
   ]
  },
  {
   "cell_type": "markdown",
   "metadata": {},
   "source": [
    "### 함수"
   ]
  },
  {
   "cell_type": "markdown",
   "metadata": {},
   "source": [
    "**수학에서의 함수**"
   ]
  },
  {
   "cell_type": "markdown",
   "metadata": {},
   "source": [
    "수학에서의 함수는 다음과 같이 사칙연산과 거듭제곱을 포함하여\n",
    "삼각함수와 지수 및 로그 함수 등\n",
    "주어진 값을 이용하여 새로운 값을 계산한다.\n",
    "\n",
    "- $f(x) = ax + b$, \n",
    "- $g(x, y) = a x^2 + b y^2$, \n",
    "- $pow(x, y) = x ^ y$\n",
    "- $h(x) = \\sin x$,\n",
    "- $k(x) = \\log x$,\n",
    "- $root(x) = \\sqrt{x}$"
   ]
  },
  {
   "cell_type": "markdown",
   "metadata": {},
   "source": [
    "언급된 함수 중에서 $\\sin$ 과 $\\log$, 그리고 제곱근 함수 $\\sqrt{\\,\\,\\,}$ 등은 \n",
    "`math` 모듈에 포함되어 있다.\n",
    "아나콘다 패키지를 설치한 경우 `numpy` 모듈도 많은 함수를 제공한다.\n",
    "\n",
    "언급된 함수들을 사용하려면 먼저 해당 모듈을 불러와야 한다. \n",
    "예를 들어 `math` 모듈을 사용하려면 다음과 같이 한다."
   ]
  },
  {
   "cell_type": "code",
   "execution_count": 18,
   "metadata": {},
   "outputs": [],
   "source": [
    "import math"
   ]
  },
  {
   "cell_type": "markdown",
   "metadata": {},
   "source": [
    "그러면 `sin()`, `log()`, `sqrt()` 함수 등을 이용할 수 있다.\n",
    "단, 불러온 모듈 이름과 함께 사용한다.\n",
    "\n",
    "- $\\sin(\\pi/2)$"
   ]
  },
  {
   "cell_type": "code",
   "execution_count": 19,
   "metadata": {},
   "outputs": [
    {
     "data": {
      "text/plain": [
       "0.9999996829318346"
      ]
     },
     "execution_count": 19,
     "metadata": {},
     "output_type": "execute_result"
    }
   ],
   "source": [
    "# 원주율 \n",
    "pi = 3.14\n",
    "\n",
    "math.sin(pi/2)"
   ]
  },
  {
   "cell_type": "markdown",
   "metadata": {},
   "source": [
    "- $\\sqrt{2}$"
   ]
  },
  {
   "cell_type": "code",
   "execution_count": 20,
   "metadata": {},
   "outputs": [
    {
     "data": {
      "text/plain": [
       "1.4142135623730951"
      ]
     },
     "execution_count": 20,
     "metadata": {},
     "output_type": "execute_result"
    }
   ],
   "source": [
    "math.sqrt(2)"
   ]
  },
  {
   "cell_type": "markdown",
   "metadata": {},
   "source": [
    "`math.log()`는 자연로그 함수를 가리킨다."
   ]
  },
  {
   "cell_type": "markdown",
   "metadata": {},
   "source": [
    "- $\\log(10)$"
   ]
  },
  {
   "cell_type": "code",
   "execution_count": 21,
   "metadata": {},
   "outputs": [
    {
     "data": {
      "text/plain": [
       "0.9969486348916096"
      ]
     },
     "execution_count": 21,
     "metadata": {},
     "output_type": "execute_result"
    }
   ],
   "source": [
    "math.log(2.71)"
   ]
  },
  {
   "cell_type": "markdown",
   "metadata": {},
   "source": [
    "상용로그 함수는 다음과 같다."
   ]
  },
  {
   "cell_type": "markdown",
   "metadata": {},
   "source": [
    "- $\\log_{10}(10)$"
   ]
  },
  {
   "cell_type": "code",
   "execution_count": 22,
   "metadata": {},
   "outputs": [
    {
     "data": {
      "text/plain": [
       "1.0"
      ]
     },
     "execution_count": 22,
     "metadata": {},
     "output_type": "execute_result"
    }
   ],
   "source": [
    "math.log10(10)"
   ]
  },
  {
   "cell_type": "markdown",
   "metadata": {},
   "source": [
    "**프로그래밍에서의 함수**"
   ]
  },
  {
   "cell_type": "markdown",
   "metadata": {},
   "source": [
    "앞서 보았듯이 수학에서의 함수를 프로그래밍에서 그대로 사용한다.\n",
    "하지만 프로그래밍에서 함수의 의미는 수학에서의 함수와는\n",
    "다른 역할도 가질 수 있다.\n",
    "\n",
    "예를 들어, \n",
    "`print()` 함수는 어떤 값을 계산하는 일은 하지 않고\n",
    "지정된 값을 화면에 출력하는 기능을 수행한다.\n",
    "프로그래밍에서의 함수의 기능에 대한 자세한 설명은\n",
    "{numref}`%s장 <ch:functions>`에서 다룬다.\n",
    "여기서는 앞서 수학에서 사용되는 함수들을 프로그래밍에서\n",
    "동일한 방식으로 사용할 수 있다는 점만을 강조한다."
   ]
  },
  {
   "cell_type": "markdown",
   "metadata": {},
   "source": [
    "(sec:representation)=\n",
    "### 표현식"
   ]
  },
  {
   "cell_type": "markdown",
   "metadata": {},
   "source": [
    "`'안녕하세요!'`, `18`, `3.1415926535897932` 등은 변수에 할당하거나 \n",
    "연산 등에 사용할 수 있는 값이다. \n",
    "그리고 `num`이 하나의 값을 가리키면 다음 표현들 모두 각각 하나의 값을 가리킨다.\n",
    "\n",
    "```python\n",
    "num + 2\n",
    "math.sqrt(num)\n",
    "(1, num+2, math.sqrt(num))\n",
    "['파이썬', '좋아요]\n",
    "hello' + ' python'\n",
    "('hello', ' python')\n",
    "```\n",
    "\n",
    "이처럼 값들을 이용한 연산과 함수 적용, 값들의 리스트 또는 튜플 등 새로운 값을 무한정 만들어 낼 수 있다.\n",
    "이렇게 다양한 방식으로 값을 표현하는 데에 사용되는 식을 \n",
    "**표현식**<font size=\"2\">expression</font>이라 부른다."
   ]
  },
  {
   "cell_type": "markdown",
   "metadata": {},
   "source": [
    "::::{admonition} 주의\n",
    ":class: caution\n",
    "\n",
    "표현식을 작성할 때 사용되는 연산자나 함수의 특성을 고려해야 한다.\n",
    "예를 들어, 곱셈 연산자는 두 개의 인자를 받는데, \n",
    "정수 또는 유한소수 두 개의 곱을 표현하거나\n",
    "문자열과 정수의 곲을 표현해야 한다.\n",
    "만약에 두 문자열의 곱을 계산하려 하면 오류가 발생한다.\n",
    "즉, 적절한 표현식으로 인정받지 못한다.\n",
    "\n",
    "```python\n",
    ">>> '파이썬' * '좋아요'\n",
    "Traceback (most recent call last):\n",
    "  File \"<stdin>\", line 1, in <module>\n",
    "TypeError: can't multiply sequence by non-int of type 'str'\n",
    "```\n",
    "\n",
    "동일한 이유로 아래 표현식들도 허용되지 않는다. \n",
    "\n",
    "```python\n",
    "'파이썬' - 'k-팝'\n",
    "3 / '피자'\n",
    "```\n",
    "::::"
   ]
  },
  {
   "cell_type": "markdown",
   "metadata": {},
   "source": [
    "## 값과 자료형"
   ]
  },
  {
   "cell_type": "markdown",
   "metadata": {},
   "source": [
    "모든 값들은 각각 고유의 **자료형**<font size=\"2\">data type</font>을 갖는다.\n",
    "예를 들어,\n",
    "\n",
    "* `-2`, `-1`, `0,` `1`, `2`, ... 등 **정수**의 자료형은 `int`이고,\n",
    "* `3.141592`, `2.71`, `-0.23` 등 유한소수의 자료형은 **부동소수점** 자료형인 `float`이고,\n",
    "* `'강아지'`, `'Hello, World!'`, `'파이썬은 재밌어요!'` 등의 단어 또는 문장의 자료형은\n",
    "    **문자열** 자료형인 `str`이다. "
   ]
  },
  {
   "cell_type": "markdown",
   "metadata": {},
   "source": [
    "### 변수의 자료형"
   ]
  },
  {
   "cell_type": "markdown",
   "metadata": {},
   "source": [
    "선언된 변수의 자료형은 변수가 현재 가리키는 값의 자료형과 동일하다."
   ]
  },
  {
   "cell_type": "code",
   "execution_count": 23,
   "metadata": {},
   "outputs": [
    {
     "data": {
      "text/plain": [
       "int"
      ]
     },
     "execution_count": 23,
     "metadata": {},
     "output_type": "execute_result"
    }
   ],
   "source": [
    "num = 18\n",
    "type(num)"
   ]
  },
  {
   "cell_type": "markdown",
   "metadata": {},
   "source": [
    "변수에 할당된 값이 달라지면 변수의 자료형도 달라질 수 있다."
   ]
  },
  {
   "cell_type": "code",
   "execution_count": 24,
   "metadata": {},
   "outputs": [
    {
     "data": {
      "text/plain": [
       "float"
      ]
     },
     "execution_count": 24,
     "metadata": {},
     "output_type": "execute_result"
    }
   ],
   "source": [
    "num = 3.14\n",
    "type(num)"
   ]
  },
  {
   "cell_type": "code",
   "execution_count": 25,
   "metadata": {},
   "outputs": [
    {
     "data": {
      "text/plain": [
       "str"
      ]
     },
     "execution_count": 25,
     "metadata": {},
     "output_type": "execute_result"
    }
   ],
   "source": [
    "num = '3.14'\n",
    "type(num)"
   ]
  },
  {
   "cell_type": "markdown",
   "metadata": {},
   "source": [
    "### 표현식의 자료형"
   ]
  },
  {
   "cell_type": "markdown",
   "metadata": {},
   "source": [
    "`3 * 2`, `\"Hello, Python\" + \"!\"`, `math.sqrt(2)`, `x/2` 등의 표현식의 자료형은\n",
    "표현식이 표현하는 값의 자료형을 갖는다.\n",
    "반면에 튜플과 리스트의 자료형은 사용된 항목의 자료형에 상관 없다.\n",
    "즉, 튜플 언제나 튜플이고 리스트는 언제나 리스트이다."
   ]
  },
  {
   "cell_type": "markdown",
   "metadata": {},
   "source": [
    "아래 표는 표현식과 해당 표현식이 표현하는 값, 그리고 값의 자료형 사이의 관계를 보여준다.\n",
    "단, `x` 는 정수 `3`을 가리킨다고 가정한다.\n",
    "\n",
    "| 표현식 | 값 | 자료형 |\n",
    "| ---   |--- | ---   |\n",
    "| `x`  | `3`  | `int` |\n",
    "| `x/2`  | `1.5`  | `float` |\n",
    "| `3 * 2` | `6` | `int` |\n",
    "| `\"Hello, Python\" + \"!\"` | `\"Hello, Python!\"` | `str`|\n",
    "| `math.sqrt(2)` | `1.4142135623730951`| `float` |\n",
    "| `(x/2 - 1) < 0` | `False` | `bool` |\n",
    "| `(1, x/2-1, x+x+1)`  | `(1, 0.5, 7)`  | `tuple` |\n",
    "| `[x, x*3/2, x**3+1]`  | `[3, 4.5, 28]`  | `list` |"
   ]
  },
  {
   "cell_type": "markdown",
   "metadata": {},
   "source": [
    "### `type()` 함수"
   ]
  },
  {
   "cell_type": "markdown",
   "metadata": {},
   "source": [
    "`type()` 함수는 인자로 사용된 값과 표현식의 자료형을 확인해준다."
   ]
  },
  {
   "cell_type": "code",
   "execution_count": 26,
   "metadata": {},
   "outputs": [
    {
     "data": {
      "text/plain": [
       "int"
      ]
     },
     "execution_count": 26,
     "metadata": {},
     "output_type": "execute_result"
    }
   ],
   "source": [
    "type(-7)"
   ]
  },
  {
   "cell_type": "code",
   "execution_count": 27,
   "metadata": {},
   "outputs": [
    {
     "data": {
      "text/plain": [
       "float"
      ]
     },
     "execution_count": 27,
     "metadata": {},
     "output_type": "execute_result"
    }
   ],
   "source": [
    "type(3.141592)"
   ]
  },
  {
   "cell_type": "code",
   "execution_count": 28,
   "metadata": {},
   "outputs": [
    {
     "data": {
      "text/plain": [
       "str"
      ]
     },
     "execution_count": 28,
     "metadata": {},
     "output_type": "execute_result"
    }
   ],
   "source": [
    "type('파이썬 좋아요!')"
   ]
  },
  {
   "cell_type": "code",
   "execution_count": 29,
   "metadata": {},
   "outputs": [
    {
     "data": {
      "text/plain": [
       "tuple"
      ]
     },
     "execution_count": 29,
     "metadata": {},
     "output_type": "execute_result"
    }
   ],
   "source": [
    "x = 3\n",
    "type((1, x/2-1, x+x+1))"
   ]
  },
  {
   "cell_type": "code",
   "execution_count": 30,
   "metadata": {},
   "outputs": [
    {
     "data": {
      "text/plain": [
       "list"
      ]
     },
     "execution_count": 30,
     "metadata": {},
     "output_type": "execute_result"
    }
   ],
   "source": [
    "type([x, x*3/2, x**3+1])"
   ]
  },
  {
   "cell_type": "markdown",
   "metadata": {},
   "source": [
    "### 수 표기법 주의사항"
   ]
  },
  {
   "cell_type": "markdown",
   "metadata": {},
   "source": [
    "수<font size=\"2\">number</font>를 표기할 때 다음 사항들에 주의해야 한다.\n",
    "\n",
    "첫째, `'17'`, `'3.2'` 등은 따옴표로 둘러싸여 있어서\n",
    "수가 아닌 숫자 기호들로 이루어진 문자열이며,\n",
    "연산이 다르게 작동한다. "
   ]
  },
  {
   "cell_type": "code",
   "execution_count": 31,
   "metadata": {},
   "outputs": [
    {
     "data": {
      "text/plain": [
       "str"
      ]
     },
     "execution_count": 31,
     "metadata": {},
     "output_type": "execute_result"
    }
   ],
   "source": [
    "type('17')"
   ]
  },
  {
   "cell_type": "code",
   "execution_count": 32,
   "metadata": {},
   "outputs": [
    {
     "data": {
      "text/plain": [
       "'1.73.2'"
      ]
     },
     "execution_count": 32,
     "metadata": {},
     "output_type": "execute_result"
    }
   ],
   "source": [
    "'1.7' + '3.2'"
   ]
  },
  {
   "cell_type": "markdown",
   "metadata": {},
   "source": [
    "둘째, 수를 표기할 때 쉼표(콤마)를 사용하면 다른 의미로 해석된다.\n",
    "예를 들어 `1,000,000` 이라고 입력하면 백만이 아니라 1, 0, 0 세 개의 수를 항목으로 갖는 \n",
    "길이가 3인 튜플 자료형으로 인식된다.\n",
    "**튜플**<font size=\"2\">tuple</font>은 여러 개의 값을 \n",
    "하나로 묶어서 사용하는 값을 가리키며\n",
    "나중에 자세히 다룬다."
   ]
  },
  {
   "cell_type": "code",
   "execution_count": 33,
   "metadata": {},
   "outputs": [],
   "source": [
    "저는튜플입니다 = 1,000,000"
   ]
  },
  {
   "cell_type": "code",
   "execution_count": 34,
   "metadata": {},
   "outputs": [
    {
     "data": {
      "text/plain": [
       "tuple"
      ]
     },
     "execution_count": 34,
     "metadata": {},
     "output_type": "execute_result"
    }
   ],
   "source": [
    "type(저는튜플입니다)"
   ]
  },
  {
   "cell_type": "code",
   "execution_count": 35,
   "metadata": {},
   "outputs": [
    {
     "name": "stdout",
     "output_type": "stream",
     "text": [
      "(1, 0, 0)\n"
     ]
    }
   ],
   "source": [
    "print(저는튜플입니다)"
   ]
  },
  {
   "cell_type": "markdown",
   "metadata": {},
   "source": [
    "셋째, 0으로 시작하면 안된다.\n",
    "예를 들어 서울 지역의 우편번호는 0으로 시작하는데\n",
    "이런 우편번호를 정수처럼 작성하면 문제가 발생한다.\n",
    "\n",
    "```python\n",
    "# 우편번호\n",
    ">>> zipcode = 03048\n",
    "  File \"<stdin>\", line 1\n",
    "    zipcode = 03048\n",
    "                  ^\n",
    "SyntaxError: leading zeros in decimal integer literals are not permitted; use an 0o prefix for octal integers\n",
    "```    \n",
    "\n",
    "우편번호는 사실 구역 식별용이기에 \n",
    "고유명사처럼 문자열로 처리하는 게 맞다."
   ]
  },
  {
   "cell_type": "code",
   "execution_count": 36,
   "metadata": {},
   "outputs": [],
   "source": [
    "# 우편번호\n",
    "zipcode = '03048'"
   ]
  },
  {
   "cell_type": "markdown",
   "metadata": {},
   "source": [
    "## 연습문제"
   ]
  },
  {
   "cell_type": "markdown",
   "metadata": {},
   "source": [
    "참고: [(실습) 변수, 값, 표현식](https://colab.research.google.com/github/codingalzi/pybook/blob/master/practices/practice-variables_expressions.ipynb)"
   ]
  }
 ],
 "metadata": {
  "kernelspec": {
   "display_name": "Python 3 (ipykernel)",
   "language": "python",
   "name": "python3"
  },
  "language_info": {
   "codemirror_mode": {
    "name": "ipython",
    "version": 3
   },
   "file_extension": ".py",
   "mimetype": "text/x-python",
   "name": "python",
   "nbconvert_exporter": "python",
   "pygments_lexer": "ipython3",
   "version": "3.10.6"
  },
  "toc": {
   "base_numbering": 1,
   "nav_menu": {},
   "number_sections": false,
   "sideBar": true,
   "skip_h1_title": false,
   "title_cell": "목차",
   "title_sidebar": "Contents",
   "toc_cell": true,
   "toc_position": {},
   "toc_section_display": true,
   "toc_window_display": true
  },
  "vscode": {
   "interpreter": {
    "hash": "6c86b3592b6800d985c04531f2c445f0fa6967131b8dd6395a925f7622e55602"
   }
  }
 },
 "nbformat": 4,
 "nbformat_minor": 4
}
