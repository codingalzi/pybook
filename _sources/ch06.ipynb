{
 "cells": [
  {
   "cell_type": "markdown",
   "metadata": {},
   "source": [
    "# 함수"
   ]
  },
  {
   "cell_type": "markdown",
   "metadata": {},
   "source": [
    "프로그램은 명령문의 합성으로 구현된다. \n",
    "그런데 특정 기능을 수행하는 명령문의 일부가 너무 길거나,\n",
    "반복적으로 사용되어 보다 편하게 사용하고 싶거나\n",
    "프로그램을 보다 체계적으로 구현하도록 하고 싶을 때가 있다.\n",
    "그럴 때 특정 기능을 수행하는 명령문에 이름을 주고\n",
    "필요에 따라 해당 이름을 대신 활용할 수 있다.\n",
    "\n",
    "예를 들어 `print('함수란 ...')`는 실행되면 \n",
    "`print()` 함수에 내재된\n",
    "명령문이 작동하여 모니터 화면에 \n",
    "문자열 `함수란 ...`을 출력한다.\n",
    "그런데 `print()` 함수에 내재된 어떤 명령문이 정확히 무슨 일을 하는지\n",
    "사용자는 쉽게 알지 못하고 또 굳이 알 필요도 없다. \n",
    "화면에 문자열을 출력하고 싶을 때 `print()` 함수를 \n",
    "사용할 수 있다는 사실만 기억하고 있으면 된다.\n",
    "\n",
    "이렇게 함수는 함수의 이름에 가려진 명령문을 대행하며\n",
    "해당 명령문을 실행하려면 지정된 함수를 \n",
    "**호출**<font size=\"2\">call</font>하면 된다."
   ]
  },
  {
   "cell_type": "markdown",
   "metadata": {},
   "source": [
    "## 함수 호출"
   ]
  },
  {
   "cell_type": "markdown",
   "metadata": {},
   "source": [
    "**함수 호출**<font size=\"2\">function call</font>은\n",
    "함수 이름과 연관된 명령문을 실행하도록 하는 일종의 명령문이다.\n",
    "함수 호출의 일반적인 형식은 다음과 같다. \n",
    "\n",
    "```python\n",
    "함수이름(인자1, 인자2, ..., 인자n)\n",
    "```"
   ]
  },
  {
   "cell_type": "markdown",
   "metadata": {},
   "source": [
    "`print()` 함수를 호출하는 방식은 다음과 같다."
   ]
  },
  {
   "cell_type": "code",
   "execution_count": 26,
   "metadata": {},
   "outputs": [
    {
     "name": "stdout",
     "output_type": "stream",
     "text": [
      "함수란 ...\n"
     ]
    }
   ],
   "source": [
    "print('함수란 ...')"
   ]
  },
  {
   "cell_type": "markdown",
   "metadata": {},
   "source": [
    "`int()` 함수는 소수점 이하를 버리는 명령문을 실행한다."
   ]
  },
  {
   "cell_type": "code",
   "execution_count": 26,
   "metadata": {},
   "outputs": [
    {
     "data": {
      "text/plain": [
       "3"
      ]
     },
     "execution_count": 26,
     "metadata": {},
     "output_type": "execute_result"
    }
   ],
   "source": [
    "int(3.14)"
   ]
  },
  {
   "cell_type": "markdown",
   "metadata": {},
   "source": [
    "`type()` 함수는 인자의 자료형을 확인하는 명령문을 실행한다."
   ]
  },
  {
   "cell_type": "code",
   "execution_count": 12,
   "metadata": {},
   "outputs": [
    {
     "data": {
      "text/plain": [
       "float"
      ]
     },
     "execution_count": 12,
     "metadata": {},
     "output_type": "execute_result"
    }
   ],
   "source": [
    "type(2.37)"
   ]
  },
  {
   "cell_type": "markdown",
   "metadata": {},
   "source": [
    "### 함수의 인자"
   ]
  },
  {
   "cell_type": "markdown",
   "metadata": {},
   "source": [
    "모든 함수는 호출될 때 적절한 개수의 인자를 사용해야 한다.\n",
    "그렇지 않은 경우 오류가 발생한다. \n",
    "예를 들어, `type()` 함수는 1개 또는 3개의 인자와 함께 \n",
    "호출되어야 하며, 그렇지 않은 경우 아래와 같은 \n",
    "오류가 발생한다.\n",
    "\n",
    "```python\n",
    ">>> type()\n",
    "Traceback (most recent call last):\n",
    "  File \"<stdin>\", line 1, in <module>\n",
    "TypeError: type() takes 1 or 3 arguments\n",
    "```"
   ]
  },
  {
   "cell_type": "markdown",
   "metadata": {},
   "source": [
    ":::{admonition} 세 개의 인자를 사용하는 `type()` 함수\n",
    ":class: info\n",
    "\n",
    "`type(2.37)`처럼 하나의 인자를 사용하면 인자의 자료형을 확인해준다.\n",
    "반면에 세 개의 인자를 사용하는 경우는 특정 클래스의 객체를 \n",
    "생성할 때 사용하며, 여기서는 자세히 다루지 않는다.\n",
    ":::"
   ]
  },
  {
   "cell_type": "markdown",
   "metadata": {},
   "source": [
    "### 함수의 반환값과 `return` 키워드"
   ]
  },
  {
   "cell_type": "markdown",
   "metadata": {},
   "source": [
    "함수를 호출하면 함수에 의해 지정된 명령문을 실행한 후에\n",
    "최종적으로 어떤 값을 \n",
    "반환<font size=\"2\">return</font>하기도 한다.\n",
    "반환값은 `return 반환값` 형식의 명령문으로 지정된다.\n",
    "\n",
    "예를 들어 `int(3.14)`는 정수 `3`을, \n",
    "`type(2.37)`은 부동소수점의 자료형인 `float`를\n",
    "함수 실행의 결괏값으로 반환하며,\n",
    "반환된 값은 다른 연산에 재활용될 수 있다."
   ]
  },
  {
   "cell_type": "code",
   "execution_count": 1,
   "metadata": {},
   "outputs": [
    {
     "data": {
      "text/plain": [
       "4"
      ]
     },
     "execution_count": 1,
     "metadata": {},
     "output_type": "execute_result"
    }
   ],
   "source": [
    "y = int(3.14)\n",
    "y + 1"
   ]
  },
  {
   "cell_type": "markdown",
   "metadata": {},
   "source": [
    ":::{admonition} 자료형과 값\n",
    ":class: info\n",
    "\n",
    "`int`, `float` 등과 같은 자료형도 하나의 값으로 취급한다. \n",
    "앞으로 보겠지만, 파이썬에서 다루는 모든 **객체**<font size=\"2\">object</font>는\n",
    "값으로 사용될 수 있다.\n",
    ":::"
   ]
  },
  {
   "cell_type": "markdown",
   "metadata": {},
   "source": [
    "### `print()` 함수와 `None` 값"
   ]
  },
  {
   "cell_type": "markdown",
   "metadata": {},
   "source": [
    "파이썬은 모든 함수가 반환값을 갖도록 강제한다.\n",
    "`print()` 함수처럼 반환값이 없는 것처럼 보이는 함수도\n",
    "공식적으로는 아무런 의미가 없는 값을 의미하는 `None`을\n",
    "반환값으로 사용한다.\n",
    "\n",
    "`None`은 `NoneType` 자료형에 속하는 하나의 값이다.\n",
    "따라서 변수 할당에 사용되어 저장될 수 있다.\n",
    "하지만 연산 등에 사용하면 오류가 발생한다.\n",
    "즉, 아무런 기능을 수행하지 못한다. \n",
    "\n",
    "```python\n",
    ">>> x = None\n",
    ">>> x + 1\n",
    "Traceback (most recent call last):\n",
    "  File \"<stdin>\", line 1, in <module>\n",
    "TypeError: unsupported operand type(s) for +: 'NoneType' and 'int'\n",
    "```"
   ]
  },
  {
   "cell_type": "markdown",
   "metadata": {},
   "source": [
    "`print()` 함수에 의해 \n",
    "화면에 출력되는 문자열은 반환값이 아니고\n",
    "화면에 지정된 값을 출력하는 명령문의 실행 결과에 불과하다.\n",
    "함수의 반환값은 변수에 할당해서 활용할 수 있지만 \n",
    "화면에 출력된 문자열은 그럴 수 없다는 데서 `print()` 함수의 반환값이\n",
    "없다는 것을 확인할 수 있다.\n",
    "\n",
    "예를 들어 아래 할당 명령문을 실행할 때 화면에 보여지는 `3.14`는 \n",
    "변수 `x`가 가리키는 값이 아니다."
   ]
  },
  {
   "cell_type": "code",
   "execution_count": 6,
   "metadata": {},
   "outputs": [
    {
     "name": "stdout",
     "output_type": "stream",
     "text": [
      "3.14\n"
     ]
    }
   ],
   "source": [
    "x = print(3.14)"
   ]
  },
  {
   "cell_type": "markdown",
   "metadata": {},
   "source": [
    "변수 `x`는 `None`을 가리킨다."
   ]
  },
  {
   "cell_type": "code",
   "execution_count": 8,
   "metadata": {},
   "outputs": [
    {
     "name": "stdout",
     "output_type": "stream",
     "text": [
      "None\n"
     ]
    }
   ],
   "source": [
    "print(x)"
   ]
  },
  {
   "cell_type": "markdown",
   "metadata": {},
   "source": [
    "## 형변환 함수"
   ]
  },
  {
   "cell_type": "markdown",
   "metadata": {},
   "source": [
    "부동소수점 또는 정수 모양의 문자열을 정수로 변환하는 `int()` 함수는\n",
    "하나의 자료형을 다른 자료형으로 변환된 값을 반환한다.\n",
    "이처럼 자료형을 변환하는 것을 **형변환**<font size=\"2\">type casting</font>라 하며\n",
    "파이썬은 다양한 형변환 함수를 제공한다.\n",
    "`int()` 이외에 대표적으로 정수 또는 부동소수점 모양의 문자열을 부동소수점으로\n",
    "변환하는 `float()` 함수,\n",
    "모든 값을 문자열로 변환하는 `str()` 함수가 있다. "
   ]
  },
  {
   "cell_type": "code",
   "execution_count": 14,
   "metadata": {},
   "outputs": [
    {
     "data": {
      "text/plain": [
       "3"
      ]
     },
     "execution_count": 14,
     "metadata": {},
     "output_type": "execute_result"
    }
   ],
   "source": [
    "int(3.14)"
   ]
  },
  {
   "cell_type": "code",
   "execution_count": 20,
   "metadata": {},
   "outputs": [
    {
     "data": {
      "text/plain": [
       "3"
      ]
     },
     "execution_count": 20,
     "metadata": {},
     "output_type": "execute_result"
    }
   ],
   "source": [
    "int('3')"
   ]
  },
  {
   "cell_type": "code",
   "execution_count": 15,
   "metadata": {},
   "outputs": [
    {
     "data": {
      "text/plain": [
       "27.0"
      ]
     },
     "execution_count": 15,
     "metadata": {},
     "output_type": "execute_result"
    }
   ],
   "source": [
    "float(27)"
   ]
  },
  {
   "cell_type": "code",
   "execution_count": 17,
   "metadata": {},
   "outputs": [
    {
     "data": {
      "text/plain": [
       "27.25"
      ]
     },
     "execution_count": 17,
     "metadata": {},
     "output_type": "execute_result"
    }
   ],
   "source": [
    "float('27.25')"
   ]
  },
  {
   "cell_type": "code",
   "execution_count": 18,
   "metadata": {},
   "outputs": [
    {
     "data": {
      "text/plain": [
       "'3.15'"
      ]
     },
     "execution_count": 18,
     "metadata": {},
     "output_type": "execute_result"
    }
   ],
   "source": [
    "str(3.15)"
   ]
  },
  {
   "cell_type": "code",
   "execution_count": 19,
   "metadata": {},
   "outputs": [
    {
     "data": {
      "text/plain": [
       "'22'"
      ]
     },
     "execution_count": 19,
     "metadata": {},
     "output_type": "execute_result"
    }
   ],
   "source": [
    "str(22)"
   ]
  },
  {
   "cell_type": "markdown",
   "metadata": {},
   "source": [
    "## 수학 함수"
   ]
  },
  {
   "cell_type": "markdown",
   "metadata": {},
   "source": [
    "$\\sin x$, $\\cos x$, $\\sqrt{x}$, $\\log x$, $e^x$ 등\n",
    "수학에서 많이 사용되는 함수를 파이썬에서 기본으로 제공한다. "
   ]
  },
  {
   "cell_type": "markdown",
   "metadata": {},
   "source": [
    "### `math` 모듈"
   ]
  },
  {
   "cell_type": "markdown",
   "metadata": {},
   "source": [
    "파이썬에서 기본으로 제공하는 다양한 수학 함수를 사용하려면 먼저\n",
    "`math` 라는 모듈<font size=\"2\">module</font>을 \n",
    "불러와야<font size=\"2\">import</font> 한다.\n",
    "모듈은 {numref}`%s 장 <ch:module>`에서 자세히 살펴볼 것이며, \n",
    "여기서는 모듈이 다양한 함수를 모아 놓은 파이썬 코드 파일이라는 \n",
    "사실 정도만 기억하면 된다.\n",
    "`math` 모듈을 불러오는 방식은 다음과 같다."
   ]
  },
  {
   "cell_type": "code",
   "execution_count": 11,
   "metadata": {},
   "outputs": [],
   "source": [
    "import math"
   ]
  },
  {
   "cell_type": "markdown",
   "metadata": {},
   "source": [
    ":::{admonition} 자료형과 값\n",
    ":class: info\n",
    "\n",
    "앞서 언급했듯이 파이썬에 다루는 모든 객체는 특정 \n",
    "자료형에 속하는 하나의 값이다.\n",
    "`math` 모듈 조차도 하나의 값이며\n",
    "`module` 자료형에 속한다.\n",
    "\n",
    "```python\n",
    ">>> type(math)\n",
    "<class 'module'>\n",
    "```\n",
    ":::"
   ]
  },
  {
   "cell_type": "markdown",
   "metadata": {},
   "source": [
    "모듈에 포함된 함수를 호출하려면 모듈과 함수를 구두점으로 구분해서 명시해야 한다.\n",
    "예를 들어 정수 10을 밑으로 하는 상용로그 함수 $\\log_{10}$에 해당하는 \n",
    "`log10()` 함수를 사용하는 방법은 다음과 같다."
   ]
  },
  {
   "cell_type": "code",
   "execution_count": 33,
   "metadata": {},
   "outputs": [
    {
     "data": {
      "text/plain": [
       "1.0"
      ]
     },
     "execution_count": 33,
     "metadata": {},
     "output_type": "execute_result"
    }
   ],
   "source": [
    "math.log10(10)"
   ]
  },
  {
   "cell_type": "code",
   "execution_count": 38,
   "metadata": {},
   "outputs": [
    {
     "data": {
      "text/plain": [
       "100.0"
      ]
     },
     "execution_count": 38,
     "metadata": {},
     "output_type": "execute_result"
    }
   ],
   "source": [
    "10 ** math.log10(100)"
   ]
  },
  {
   "cell_type": "markdown",
   "metadata": {},
   "source": [
    "`math.log()`는 자연로그 함수($\\ln = \\log_e$)를 가리킨다."
   ]
  },
  {
   "cell_type": "code",
   "execution_count": 45,
   "metadata": {},
   "outputs": [
    {
     "data": {
      "text/plain": [
       "2.302585092994046"
      ]
     },
     "execution_count": 45,
     "metadata": {},
     "output_type": "execute_result"
    }
   ],
   "source": [
    "math.log(10)"
   ]
  },
  {
   "cell_type": "code",
   "execution_count": 20,
   "metadata": {},
   "outputs": [
    {
     "data": {
      "text/plain": [
       "1.0"
      ]
     },
     "execution_count": 20,
     "metadata": {},
     "output_type": "execute_result"
    }
   ],
   "source": [
    "math.log(2.718281828459045)"
   ]
  },
  {
   "cell_type": "markdown",
   "metadata": {},
   "source": [
    "`math.sqrt()`는 제곱근 함수 $\\sqrt{x}$를 가리킨다."
   ]
  },
  {
   "cell_type": "code",
   "execution_count": 12,
   "metadata": {},
   "outputs": [
    {
     "data": {
      "text/plain": [
       "1.4142135623730951"
      ]
     },
     "execution_count": 12,
     "metadata": {},
     "output_type": "execute_result"
    }
   ],
   "source": [
    "math.sqrt(2)"
   ]
  },
  {
   "cell_type": "markdown",
   "metadata": {},
   "source": [
    "`math.exp()`는 지수 함수 $e^x$를 가리킨다."
   ]
  },
  {
   "cell_type": "code",
   "execution_count": 14,
   "metadata": {},
   "outputs": [
    {
     "data": {
      "text/plain": [
       "2.718281828459045"
      ]
     },
     "execution_count": 14,
     "metadata": {},
     "output_type": "execute_result"
    }
   ],
   "source": [
    "math.exp(1)"
   ]
  },
  {
   "cell_type": "markdown",
   "metadata": {},
   "source": [
    "::::{prf:example}\n",
    ":label: degree2radian\n",
    "\n",
    "일반각의 각도<font size=\"2\">degree</font>를 \n",
    "호도법의 라디안<font size=\"2\">radian</font>으로 \n",
    "변환하는 공식은 다음과 같다.\n",
    "\n",
    "$$\n",
    "\\text{라디안} = \\frac{\\text{각도}}{180} \\, \\pi\n",
    "$$\n",
    "\n",
    "일반각 90도를 라디안으로 변환한 후에 \n",
    "사인<font size=\"2\">sine</font>값을 계산하는 과정은 다음과 같다.\n",
    "`math.pi`는 원주율을 가리킨다.\n",
    "\n",
    "```python\n",
    ">>> degree = 90\n",
    ">>> radian = degree / 180.0 * math.pi\n",
    ">>> math.sin(radian)\n",
    "1.0\n",
    "```"
   ]
  },
  {
   "cell_type": "markdown",
   "metadata": {},
   "source": [
    "### NumPy 패키지"
   ]
  },
  {
   "cell_type": "markdown",
   "metadata": {},
   "source": [
    "[넘파이<font size=\"2\">NumPy</font>](https://numpy.org)는 \n",
    "행렬, 다차원 배열 등을 효율적으로 빠르게 \n",
    "처리하는 많은 수학 함수를 지원하는 파이썬 라이브러리 패키지이며\n",
    "데이터분석, 계산과학 등 컴퓨터를 이용한 계산이 필요한 영역에서 많이 활용된다.\n",
    "파이썬의 기본 패키지에는 없지만\n",
    "[아나콘다<font size=\"2\">Anaconda</font>](https://www.anaconda.com)에는\n",
    "포함되어 있다."
   ]
  },
  {
   "cell_type": "markdown",
   "metadata": {},
   "source": [
    ":::{admonition} 모듈과 패키지\n",
    ":class: info\n",
    "\n",
    "패키지<font size=\"2\">package</font>는 일종의 모듈 모음집이다.\n",
    "즉, 많이 활용되는 함수 등을 기능과 분야별로 여러 개의 모듈로 분류해서 모아놓은 것을 가리킨다.\n",
    "모듈과 패키지를 파일과 폴더에 비유할 수 있다. \n",
    "하나의 폴더 안에 내용에 따라 여러 개의 파일로 정리하는 것과 유사하다.\n",
    "파일이 많아지면 폴더를 여러 개의 하위 폴더로 분류해서 파일을 분류하는 것처럼\n",
    "패키지를 여러 개의 하위 패키지로 구분하기도 한다.\n",
    "하위 패키지에 포함된 모듈의 활용법도 기본적으로 모듈의 함수를 사용하는 방법과 동일하다.\n",
    "나중에 그래프를 그릴 때 필요한 패키지와 모듈을 사용해야 할 때 활용 예제를 보게 될 것이다.\n",
    ":::"
   ]
  },
  {
   "cell_type": "markdown",
   "metadata": {},
   "source": [
    "넘파이 패키지는 앞서 언급한 `math` 모듈에서 지원하는 함수들을 포함해서 보다 많은 함수와 기능을 지원한다.\n",
    "앞으로 필요할 때마다 하나씩 넘파이 모듈의 기능을 활용할 것이다. \n",
    "넘파이를 사용하려면 먼저 `numpy` 모듈을 불러오면 된다.\n",
    "그런데 `numpy`를 보통 `np`라는 약칭으로 \n",
    "아래처럼 불러온다."
   ]
  },
  {
   "cell_type": "code",
   "execution_count": 10,
   "metadata": {},
   "outputs": [],
   "source": [
    "import numpy as np"
   ]
  },
  {
   "cell_type": "markdown",
   "metadata": {},
   "source": [
    "모듈에 포함된 함수를 사용하는 방식은 `math.sqrt()` 처럼 구두점을 사용한다.\n",
    "다만 모듈 이름대신 지정한 약칭을 사용해야 한다.\n",
    "`numpy` 모듈에 포함된 수학 함수의 이름은 `math` 모듈의 경우와 기본적으로 동일하다."
   ]
  },
  {
   "cell_type": "code",
   "execution_count": 4,
   "metadata": {},
   "outputs": [
    {
     "data": {
      "text/plain": [
       "1.0"
      ]
     },
     "execution_count": 4,
     "metadata": {},
     "output_type": "execute_result"
    }
   ],
   "source": [
    "np.log10(10)"
   ]
  },
  {
   "cell_type": "code",
   "execution_count": 5,
   "metadata": {},
   "outputs": [
    {
     "data": {
      "text/plain": [
       "1.000631880307906"
      ]
     },
     "execution_count": 5,
     "metadata": {},
     "output_type": "execute_result"
    }
   ],
   "source": [
    "np.log(2.72)"
   ]
  },
  {
   "cell_type": "code",
   "execution_count": 6,
   "metadata": {},
   "outputs": [
    {
     "data": {
      "text/plain": [
       "1.4142135623730951"
      ]
     },
     "execution_count": 6,
     "metadata": {},
     "output_type": "execute_result"
    }
   ],
   "source": [
    "np.sqrt(2)"
   ]
  },
  {
   "cell_type": "code",
   "execution_count": 21,
   "metadata": {},
   "outputs": [
    {
     "data": {
      "text/plain": [
       "2.718281828459045"
      ]
     },
     "execution_count": 21,
     "metadata": {},
     "output_type": "execute_result"
    }
   ],
   "source": [
    "np.exp(1)"
   ]
  },
  {
   "cell_type": "code",
   "execution_count": 9,
   "metadata": {},
   "outputs": [
    {
     "data": {
      "text/plain": [
       "1.0"
      ]
     },
     "execution_count": 9,
     "metadata": {},
     "output_type": "execute_result"
    }
   ],
   "source": [
    "degree = 90\n",
    "radian = degree / 180.0 * np.pi\n",
    "np.sin(radian)"
   ]
  },
  {
   "cell_type": "markdown",
   "metadata": {},
   "source": [
    ":::{admonition} 동일 이름의 두 함수\n",
    ":class: warning\n",
    "\n",
    "`math`, `numpy` 두 모듈에 포함된 많은 함수가 동일한 이름을 사용한다.\n",
    "하지만 함수의 이름이 갖다고 해서 동일한 함수는 아니다.\n",
    "서로 다른 모듈에 속하는 동일 이름의 함수는\n",
    "비록 반환값이 같을 수는 있어도 반환값 계산에 사용된 명령문은\n",
    "기본적으로 다르다. \n",
    "실제로 `numpy` 모듈이 제공하는 수학 함수가 `math` 모듈이\n",
    "제공하는 동일 이름의 수학 함수보다 실행속도가 빠른 경우가 많다. \n",
    ":::"
   ]
  },
  {
   "cell_type": "markdown",
   "metadata": {},
   "source": [
    "## 함수 정의하기"
   ]
  },
  {
   "cell_type": "markdown",
   "metadata": {},
   "source": [
    "파이썬에서 함수를 사용자가 임의로 정의해서 사용할 수 있다.\n",
    "함수를 정의하는 방식은 다음과 같다.\n",
    "\n",
    "```python\n",
    "def 함수이름(매개변수1, 매개변수2, ..., 매개변수n):\n",
    "    명령문\n",
    "```\n",
    "\n",
    "`def` 키워드로 시작하는 첫쨋줄은 함수의 기본 정보를 담은 **헤더**<font size=\"2\">header</font>이고\n",
    "나머지는 함수의 본문<font size=\"2\">body</font>이다.\n",
    "함수의 본문은 함수가 호출되었을 때 실행해야 하는 명령문을 담는다.\n",
    "\n",
    "문법적으로 다음 두 가지 사항에 주의해야 한다.\n",
    "\n",
    "- 함수의 이름은 변수의 이름을 짓는 경우와 동일한 조건을 따라야 한다.\n",
    "- 함수 본체에 사용되는 명령문은 들여쓰며, 보통 탭<font size=\"2\">tab</font> 키 한 번 누르는 것에 \n",
    "    해당한다."
   ]
  },
  {
   "cell_type": "markdown",
   "metadata": {},
   "source": [
    "### 함수의 반환값"
   ]
  },
  {
   "cell_type": "markdown",
   "metadata": {},
   "source": [
    "함수의 반환값은 본문에 사용된 명령문을 실행하다가\n",
    "어느 순간 `return 표현식` 모양의 기본 명령문을 실행하는 순간 결정된다.\n",
    "함수는 그순간 지정된 `표현식`이 가리키는 값을 반환하면서 실행을 멈춘다.\n",
    "\n",
    "`return 표현식`이 실행되지 않은 채 함수의 실행이 멈추면 \n",
    "그 함수의 반환값은 `print()` 함수의 경우처럼 `None`으로 자동 지정된다.\n",
    "단, 오류로 인해 실행이 멈추는 경우엔 반환값이 전혀 지정되지 않는다."
   ]
  },
  {
   "cell_type": "markdown",
   "metadata": {},
   "source": [
    "### 매개변수와 인자"
   ]
  },
  {
   "cell_type": "markdown",
   "metadata": {},
   "source": [
    "**매개변수**<font size=\"2\">parameter</font>는\n",
    "함수 호출에 사용되는 **인자**<font size=\"2\">argument</font>를\n",
    "함수 본체 명령문에 전달하는 역할을 수행한다.\n",
    "전달방식은 각 매개변수가 지정된 인자를 가리키도록 하는 변수 할당을 통해 이루어진다.\n",
    "\n",
    "함수 호출이 다음과 같이 진행되었다고 가정하자.\n",
    "\n",
    "```python\n",
    "함수이름(인자1, 인자2, ..., 인자n)\n",
    "```\n",
    "\n",
    "그러면 함수의 본문에 포함된 명령문이 실행되기 이전에 다음 할당 명령문이 먼저 실행된다.\n",
    "\n",
    "```python\n",
    "매개변수1 = 인자1\n",
    "매개변수2 = 인자2\n",
    "...\n",
    "매개변수n = 인자n\n",
    "```"
   ]
  },
  {
   "cell_type": "markdown",
   "metadata": {},
   "source": [
    "::::{prf:example} 인자를 받지 않는 함수\n",
    ":label: no_parameter\n",
    "\n",
    "매개변수를 사용하지 않는 함수라 하더라도\n",
    "함수호출은 괄호를 반드시 사용해야 한다.\n",
    "\n",
    "예를 들어 아래 함수는 인자 없이 호출해야 한다.\n",
    "\n",
    "```python\n",
    ">>> def myPrint():\n",
    "...     print(\"인자 없어요!\")\n",
    "...\n",
    ">>> myPrint()\n",
    "인자 없어요!\n",
    "```"
   ]
  },
  {
   "cell_type": "markdown",
   "metadata": {},
   "source": [
    "::::{prf:example}\n",
    ":label: myAdd\n",
    "\n",
    "두 숫자의 합을 계산하는 함수 `myAdd`를 아래와 같이 직접 정의할 수 있다.\n",
    "더해야 할 두 개의 값을 입력받아야 하기에 두 개의 매개변수가 필요하다.\n",
    "\n",
    "```python\n",
    "def myAdd(left, right):\n",
    "    z = left + right\n",
    "    return z\n",
    "```\n",
    "\n",
    "이제 `myAdd(-2, 5)`를 실행하면 아래 명령문이 실행된다.\n",
    "\n",
    "```python\n",
    "left = -2\n",
    "right = 5\n",
    "z = left + right\n",
    "```\n",
    "\n",
    "결국 `z`는 정수 `3`을 가리키게 되어 함수의 실행은 3을 반환<font size=\"2\">return</font>하면서 종료한다.\n",
    "::::"
   ]
  },
  {
   "cell_type": "markdown",
   "metadata": {},
   "source": [
    "### 키워드 인자"
   ]
  },
  {
   "cell_type": "markdown",
   "metadata": {},
   "source": [
    "`print()` 함수를 이용하여 화면에 출력할 때 여러 개의 인자를 사용하면\n",
    "각 인자를 공백<font size=\"2\">space</font>로 구분하여 함께 한 줄에 출력한다."
   ]
  },
  {
   "cell_type": "code",
   "execution_count": 37,
   "metadata": {},
   "outputs": [
    {
     "name": "stdout",
     "output_type": "stream",
     "text": [
      "Hello, Python !\n"
     ]
    }
   ],
   "source": [
    "print('Hello,', 'Python', '!')"
   ]
  },
  {
   "cell_type": "markdown",
   "metadata": {},
   "source": [
    "그런데 각각의 인자를 서로 다른 줄에 출력하려면 아래와 같이 해야 한다."
   ]
  },
  {
   "cell_type": "code",
   "execution_count": 39,
   "metadata": {},
   "outputs": [
    {
     "name": "stdout",
     "output_type": "stream",
     "text": [
      "Hello,\n",
      "Python\n",
      "!\n"
     ]
    }
   ],
   "source": [
    "print('Hello,', 'Python', '!', sep='\\n')"
   ]
  },
  {
   "cell_type": "markdown",
   "metadata": {},
   "source": [
    "`sep='\\n'`의 `sep`은 `print()` 함수의 숨겨진 매개변수이며\n",
    "인자를 굳이 지정하지 않으면 **키워드 인자**<font size=\"2\">keyword argument</font>로 \n",
    "지정된 값을 사용한다.\n",
    "매개변수 `sep`의 원래 키워드 인자는 한 칸 띄어쓰기를 의미하는 문자열(`' '`)이며,\n",
    "사용된 인자들을 한 칸씩 띄어서 한 줄에 보여주도록 한다.\n",
    "\n",
    "`print()`함수에는\n",
    "`sep` 이외에 `end`, `file`, `flush`가\n",
    "키워드 인자를 갖는 매개변수이다.\n",
    "실제로 `print()` 함수의 헤더는 다음과 같다.\n",
    "\n",
    "```python\n",
    "print(value, ..., sep=' ', end='\\n', file=sys.stdout, flush=False)\n",
    "```\n",
    "\n",
    "- 둘째 매개변수 자리에 위치한 `...`은 화면에 출력할 여러 개의 값이 인자로 사용될 수 있음을 의미한다.\n",
    "- `end='\\n'` 매개변수는 지정된 인자들을 출력한 후에 기본적으로 줄바꿈을 실행하는 것을 의미한다."
   ]
  },
  {
   "cell_type": "markdown",
   "metadata": {},
   "source": [
    ":::{admonition} `file`과 `flush` 매개변수\n",
    ":class: info\n",
    "\n",
    "`print()` 함수의 `file`과 `flush` 두 매개변수는 특별한 경우에 활용되며\n",
    "간단한 예제는 [print() 함수의 새로운 면모](https://velog.io/@janeljs/python-print-sep-end-file-flush)\n",
    "블로그에서 확인할 수 있다.\n",
    ":::"
   ]
  },
  {
   "cell_type": "markdown",
   "metadata": {},
   "source": [
    "::::{prf:example}\n",
    ":label: keyword_argument\n",
    "\n",
    "아래 함수는 `myAdd()` 처럼 두 개의 숫자를 입력받아 합을 구한다.\n",
    "다만 둘째 매개변수가 10을 키워드 인자로 사용한다.\n",
    "\n",
    "```python\n",
    "def myAdd10(left, right=10):\n",
    "    add10 = left + right\n",
    "    return add10\n",
    "```\n",
    "\n",
    "따라서 둘째 인자를 반드시 입력하지 않아도 되며,\n",
    "그럴 경우 둘째 인자는 10으로 지정된다.\n",
    "\n",
    "```python\n",
    ">>> myAdd10(5) # right=10\n",
    "15\n",
    "```\n",
    "\n",
    "둘째 인자를 별도로 지정할 수도 있다.\n",
    "\n",
    "```python\n",
    ">>> myAdd10(5, right=20)\n",
    "25\n",
    "```\n",
    "::::"
   ]
  },
  {
   "cell_type": "markdown",
   "metadata": {},
   "source": [
    "### 함수 합성과 표현식"
   ]
  },
  {
   "cell_type": "markdown",
   "metadata": {},
   "source": [
    "수학에서 $f$, $g$ 두 개의 함수를 합성해서 새로운 함수 $f\\circ g$ 를 \n",
    "다음과 같이 정의한다.\n",
    "\n",
    "$$\n",
    "(f\\circ g) (x) := f(g(x))\n",
    "$$\n",
    "\n",
    "동일한 방식으로 표현식을 생성할 수 있다.\n",
    "아래 코드는 곱셈, 나눗셈, 사인 함수의 합성을 활용한 표현식을\n",
    "변수 할당에 사용한다."
   ]
  },
  {
   "cell_type": "code",
   "execution_count": 35,
   "metadata": {},
   "outputs": [
    {
     "name": "stdout",
     "output_type": "stream",
     "text": [
      "1.0\n"
     ]
    }
   ],
   "source": [
    "x = math.sin(degree / 360.0 * 2 * math.pi)\n",
    "print(x)"
   ]
  },
  {
   "cell_type": "markdown",
   "metadata": {},
   "source": [
    "표현식은 함수와 변수, 정수, 유리수, 문자열 등을 조합하여\n",
    "하나의 값(value)을 표현하도록 작성된 식이라고 \n",
    "{numref}`%s 절 <sec:representation>`에서 언급했다.\n",
    "그런데 `f(x1, ..., xn)`와 같은 함수 호출 표현식은 또한 \n",
    "함수 본문에 지정된 명령문을 실행하며,\n",
    "실행 도중 `return` 명령문을 만나면 \n",
    "지정된 값을 반환한다. \n",
    "\n",
    "예를 들어 아래 코드에서 변수 `x`가 가리키는 값은 지수승 함수 `np.exp()`가\n",
    "`np.log(2)`를 인자로 사용했을 때의 반환값을 가리킨다."
   ]
  },
  {
   "cell_type": "code",
   "execution_count": 34,
   "metadata": {},
   "outputs": [
    {
     "name": "stdout",
     "output_type": "stream",
     "text": [
      "2.0\n"
     ]
    }
   ],
   "source": [
    "x = np.exp(np.log(x+1))\n",
    "print(x)"
   ]
  },
  {
   "cell_type": "markdown",
   "metadata": {},
   "source": [
    "## 함수호출 실행과정"
   ]
  },
  {
   "cell_type": "markdown",
   "metadata": {},
   "source": [
    "함수호출 과정을 좀 더 자세히 살펴보자.\n",
    "예를 들어, 아래 함수 표현식이 가리키는 값이 어떤 순서대로 계산되는가를 확인하고 한다.\n",
    "\n",
    "```python\n",
    "mul(add(2, mul(0x4, 0x6)), add(0x3, 0o5))\n",
    "```\n",
    "\n",
    "* `add` 함수와 `mul` 함수는 각각 두 숫자의 합과 곱을 계산하는 함수이며, \n",
    "    `operator` 모듈에 포함되어 있다.\n",
    "* `0x`로 시작하는 숫자는 16진법을 의미한다.\n",
    "* `0o`로 시작하는 숫자는 8진법을 의미한다."
   ]
  },
  {
   "cell_type": "code",
   "execution_count": 27,
   "metadata": {},
   "outputs": [
    {
     "data": {
      "text/plain": [
       "208"
      ]
     },
     "execution_count": 27,
     "metadata": {},
     "output_type": "execute_result"
    }
   ],
   "source": [
    "from operator import add, mul\n",
    "\n",
    "mul(add(2, mul(0x4, 0x6)), add(0x3, 0o5))"
   ]
  },
  {
   "cell_type": "markdown",
   "metadata": {},
   "source": [
    "최종적으로 208이 계산되는 과정을 그림으로 나타내면 다음과 같다.\n",
    "아래 그림에서 &#9312; ~ &#9319;번 사이의 번호가 배정된 네모상자로 둘러싸인 부분이 \n",
    "현재 실행중인 함수호출 또는 함수호출의 결과값을 나타낸다."
   ]
  },
  {
   "cell_type": "markdown",
   "metadata": {},
   "source": [
    "<div align=\"center\"><img src=\"https://raw.githubusercontent.com/codingalzi/pybook/master/notebooks/images/fun_call.png\" style=\"width:600px;\"></div>"
   ]
  },
  {
   "cell_type": "markdown",
   "metadata": {},
   "source": [
    "### 예제"
   ]
  },
  {
   "cell_type": "markdown",
   "metadata": {},
   "source": [
    "[PythonTutor: 함수호출 실행과정](http://pythontutor.com/visualize.html#code=def%20myAdd%28left,%20right%29%3A%0A%20%20%20%20return%20left%2Bright%0A%20%20%20%20%0Adef%20myMul%28left,%20right%29%3A%0A%20%20%20%20return%20left*right%0A%0AmyMul%28myAdd%282,%20myMul%280x4,%200x6%29%29,%20myAdd%280x3,%200o5%29%29&cumulative=false&curInstr=0&heapPrimitives=nevernest&mode=display&origin=opt-frontend.js&py=3&rawInputLstJSON=%5B%5D&textReferences=false)에서\n",
    "앞서 사용한 표현식과 동일하게 작동하는 표현식이 계산되는 과정을 살펴볼 수 있다.\n",
    "\n",
    "**주의:** `add`, `mul`과 같이 파이썬에서 이미 정의된 내장함수들의 계산과정은 시각화해서 보여지지 않는다.\n",
    "그래서 동일하게 작동하는 `myAdd`와 `myMul`을 새로 정의하였다.\n",
    "함수의 이름만 다를 뿐 동일한 표현식이다."
   ]
  },
  {
   "cell_type": "markdown",
   "metadata": {},
   "source": [
    "## 지역변수와 전역변수"
   ]
  },
  {
   "cell_type": "markdown",
   "metadata": {},
   "source": [
    "함수를 선언할 때 사용되는 매개변수와 함수 본체에서 선언되는 변수는 함수가 실행되는 동안에만 의미를 갖는 변수들이며,\n",
    "이런 변수들을 **지역변수**라 부른다. \n",
    "지역변수 가인 변수들은 **전역변수**라 부른다.\n",
    "\n",
    "예를 들어, `hour_to_min` 함수를 정의할 때 사용된 \n",
    "`hour`와 본체에서 선언된 `minutes` 변수는 모두 지역함수이며,\n",
    "`two_hour` 는 함수 밖에서 선언된 전역변수이다."
   ]
  },
  {
   "cell_type": "code",
   "execution_count": 30,
   "metadata": {},
   "outputs": [],
   "source": [
    "def hour_to_min(hour):\n",
    "    minutes = hour * 60\n",
    "    return minutes"
   ]
  },
  {
   "cell_type": "markdown",
   "metadata": {},
   "source": [
    "지역변수들은 함수 밖에서는 어떤 의미도 갖지 않는다. 예를 들어, 아래 코드를 실행하면 오류가 발생한다."
   ]
  },
  {
   "cell_type": "code",
   "execution_count": 31,
   "metadata": {},
   "outputs": [
    {
     "ename": "NameError",
     "evalue": "name 'minutes' is not defined",
     "output_type": "error",
     "traceback": [
      "\u001b[0;31m---------------------------------------------------------------------------\u001b[0m",
      "\u001b[0;31mNameError\u001b[0m                                 Traceback (most recent call last)",
      "\u001b[0;32m<ipython-input-31-e7e4f4b2bcc2>\u001b[0m in \u001b[0;36m<module>\u001b[0;34m\u001b[0m\n\u001b[1;32m      1\u001b[0m \u001b[0mtwo_hour\u001b[0m \u001b[0;34m=\u001b[0m \u001b[0mhour_to_min\u001b[0m\u001b[0;34m(\u001b[0m\u001b[0;36m2\u001b[0m\u001b[0;34m)\u001b[0m\u001b[0;34m\u001b[0m\u001b[0;34m\u001b[0m\u001b[0m\n\u001b[0;32m----> 2\u001b[0;31m \u001b[0mprint\u001b[0m\u001b[0;34m(\u001b[0m\u001b[0mminutes\u001b[0m\u001b[0;34m)\u001b[0m\u001b[0;34m\u001b[0m\u001b[0;34m\u001b[0m\u001b[0m\n\u001b[0m",
      "\u001b[0;31mNameError\u001b[0m: name 'minutes' is not defined"
     ]
    }
   ],
   "source": [
    "two_hour = hour_to_min(2)\n",
    "print(minutes)"
   ]
  },
  {
   "cell_type": "markdown",
   "metadata": {},
   "source": [
    "물론 아래의 경우도 오류가 발생한다."
   ]
  },
  {
   "cell_type": "code",
   "execution_count": 32,
   "metadata": {},
   "outputs": [
    {
     "ename": "NameError",
     "evalue": "name 'hour' is not defined",
     "output_type": "error",
     "traceback": [
      "\u001b[0;31m---------------------------------------------------------------------------\u001b[0m",
      "\u001b[0;31mNameError\u001b[0m                                 Traceback (most recent call last)",
      "\u001b[0;32m<ipython-input-32-eadd17c83928>\u001b[0m in \u001b[0;36m<module>\u001b[0;34m\u001b[0m\n\u001b[1;32m      1\u001b[0m \u001b[0mtwo_hour\u001b[0m \u001b[0;34m=\u001b[0m \u001b[0mhour_to_min\u001b[0m\u001b[0;34m(\u001b[0m\u001b[0;36m2\u001b[0m\u001b[0;34m)\u001b[0m\u001b[0;34m\u001b[0m\u001b[0;34m\u001b[0m\u001b[0m\n\u001b[0;32m----> 2\u001b[0;31m \u001b[0mprint\u001b[0m\u001b[0;34m(\u001b[0m\u001b[0mhour\u001b[0m\u001b[0;34m)\u001b[0m\u001b[0;34m\u001b[0m\u001b[0;34m\u001b[0m\u001b[0m\n\u001b[0m",
      "\u001b[0;31mNameError\u001b[0m: name 'hour' is not defined"
     ]
    }
   ],
   "source": [
    "two_hour = hour_to_min(2)\n",
    "print(hour)"
   ]
  },
  {
   "cell_type": "markdown",
   "metadata": {},
   "source": [
    "위에서 오류가 발생하는 이유는 `hour_to_min` 함수가 인자 2와 함께 실행되어 종료가 되면 \n",
    "실행도중에 선언되어 사용된 `hour`와 `minutes` 변수의 의미도 완전히 사라지기 때문이다.\n",
    "\n",
    "**참고:**\n",
    "[PythonTutor:지역변수 전역변수](http://pythontutor.com/visualize.html#code=def%20hour_to_min%28hour%29%3A%0A%20%20%20%20minutes%20%3D%20hour%20*%2060%0A%20%20%20%20return%20minutes%0A%0Atwo_hour%20%3D%20hour_to_min%282%29%0Aprint%28minutes%29&cumulative=false&curInstr=0&heapPrimitives=nevernest&mode=display&origin=opt-frontend.js&py=3&rawInputLstJSON=%5B%5D&textReferences=false)에서\n",
    "`hour`와 `minutes`의 생존주기, 즉, 언제 생성되고 언제 사라지는지를 확인할 수 있다."
   ]
  },
  {
   "cell_type": "markdown",
   "metadata": {},
   "source": [
    "## 함수호출과 스택 다이어그램"
   ]
  },
  {
   "cell_type": "markdown",
   "metadata": {},
   "source": [
    "함수를 호출하여 실행을 하면 컴퓨터 메모리의 스택(stack) 영역에 함수의 호출과 실행과정, \n",
    "그리고 실행 결과값과 관련된 정보의 변화가 일어난다. \n",
    "이런 정보의 변화를 **프레임**(frame)으로 다루며, \n",
    "프레임은 모든 함수와 변수의 생성, 호출, 삭제 과정을 기록한다.\n",
    "\n",
    "또한 하나의 함수가 호출될 때마다 하나의 프레임이 임시로 생성되었다가 함수의 실행이 종료되면 해당 함수의\n",
    "반환값을 다른 프레임에 넘겨 준 후에 사라지는 과정이 반복된다. 이렇게 특정 함수호출과 관련된 프레임을 **지역 프레임**이라 \n",
    "부른다.\n",
    "반면에 프로그램이 실생되는 전 과정동안 살아 있는 프레임을 **전역 프레임**이라 부른다. \n",
    "\n",
    "예를 들어, 앞서 지역변수와 전역변수를 설명하면서 사용한 코드를 \n",
    "[PythonTutor:지역변수 전역변수](http://pythontutor.com/visualize.html#code=def%20hour_to_min%28hour%29%3A%0A%20%20%20%20minutes%20%3D%20hour%20*%2060%0A%20%20%20%20return%20minutes%0A%0Atwo_hour%20%3D%20hour_to_min%282%29%0Aprint%28minutes%29&cumulative=false&curInstr=0&heapPrimitives=nevernest&mode=display&origin=opt-frontend.js&py=3&rawInputLstJSON=%5B%5D&textReferences=false)에서 \n",
    "실행하면서 프레임의 변화를 살펴볼 수 있다. \n",
    "\n",
    "위 프로그램을 한 단계씩 실행할 때 아래 사항들에 생각하면서 메모리 상태의 변화를 살펴보아야 한다. \n",
    "\n",
    "* 전역변수와 함수들은 전역 프레임(global frame)에서 다룬다.\n",
    "* 지역변수들은 함수가 호출되면 생성되어 지역변수들의 정보를 다루다가, 함수의 실행이 종료되면 \n",
    "    모든 정보와 함께 사라진다. \n",
    "    예를 들어, 마지막 그림에서 `minutes` 값을 확인하고자 할 때 오류가 발생하는 이유가 \n",
    "    `hour_to_min` 함수가 호출될 때 생성된 지역 프레임이 함수의 실행이 종료되면 사라지기 때문이라는 \n",
    "    점을 눈으로 확인할 수 있다.\n",
    "\n",
    "반면에 재귀함수의 실행과정 동안 많은 프레임의 생성과 소멸이 발생한다.\n",
    "그리고 이런 프레임들의 변화가 스택(stack) 형식으로 이루어지는데,\n",
    "따라서 그와 같은 프레임들의 변화를 **스택 다이어그램**(stack diagram)이라 부른다.\n",
    "\n",
    "에를 들어,\n",
    "[PythonTutor: 콜라츠 추측](http://pythontutor.com/visualize.html#code=def%20collatz%28num%29%3A%0A%20%20%20%20if%20num%20%3D%3D%201%3A%0A%20%20%20%20%20%20%20%20print%28num%29%0A%20%20%20%20%20%20%20%20return%200%0A%20%20%20%20elif%20num%252%20%3D%3D%200%3A%0A%20%20%20%20%20%20%20%20print%28num,%20end%3D',%20'%29%0A%20%20%20%20%20%20%20%20return%20collatz%28num//2%29%20%2B%201%0A%20%20%20%20else%3A%0A%20%20%20%20%20%20%20%20print%28num,%20end%3D',%20'%29%0A%20%20%20%20%20%20%20%20return%20collatz%28num*3%20%2B%201%29%20%2B%201%0A%20%20%20%20%20%20%20%20%0Acollatz%287%29&cumulative=false&curInstr=0&heapPrimitives=nevernest&mode=display&origin=opt-frontend.js&py=3&rawInputLstJSON=%5B%5D&textReferences=false)에서\n",
    "재귀함수 호출 과정 동안 메모리에서 벌어지는 프레임의 생성과 소멸 과정,\n",
    "즉, 스택 다이어그램의 변화를 살펴볼 수 있다."
   ]
  },
  {
   "cell_type": "markdown",
   "metadata": {},
   "source": [
    "## 동적 타이핑 vs. 정적 타이핑"
   ]
  },
  {
   "cell_type": "markdown",
   "metadata": {},
   "source": [
    "함수는 임의의 값을 인자로 받는다. \n",
    "하지만 함수마다 다룰 수 있는 값들의 자료형이 존재하며,\n",
    "다룰 수 없는 자료형의 값이 인자로 사용되면 오류가 발생한다.\n",
    "\n",
    "예를 들어, `type` 함수는 모든 자료형의 값을 다룰 수 있지만,\n",
    "`abs` 함수는 정수와 실수는 다루지만, 문자열을 \n",
    "인자로 사용하면 오류가 발생한다. "
   ]
  },
  {
   "cell_type": "code",
   "execution_count": 55,
   "metadata": {},
   "outputs": [
    {
     "ename": "TypeError",
     "evalue": "bad operand type for abs(): 'str'",
     "output_type": "error",
     "traceback": [
      "\u001b[0;31m---------------------------------------------------------------------------\u001b[0m",
      "\u001b[0;31mTypeError\u001b[0m                                 Traceback (most recent call last)",
      "\u001b[0;32m<ipython-input-55-472c41872a21>\u001b[0m in \u001b[0;36m<module>\u001b[0;34m\u001b[0m\n\u001b[0;32m----> 1\u001b[0;31m \u001b[0mabs\u001b[0m\u001b[0;34m(\u001b[0m\u001b[0;34m'-3.3'\u001b[0m\u001b[0;34m)\u001b[0m\u001b[0;34m\u001b[0m\u001b[0;34m\u001b[0m\u001b[0m\n\u001b[0m",
      "\u001b[0;31mTypeError\u001b[0m: bad operand type for abs(): 'str'"
     ]
    }
   ],
   "source": [
    "abs('-3.3')"
   ]
  },
  {
   "cell_type": "markdown",
   "metadata": {},
   "source": [
    "이렇듯, 파이썬 함수는 임의의 값에 적용될 수 있지만,\n",
    "인자의 자료형을 파이썬 해석기가 파악해서 적용가능 여부를 판단한다.\n",
    "이런 기능을 **동적 타이핑**이라 부른다.\n",
    "즉, 처음부터 인자의 자료형을 지정하거나 확인하는 게 아니라\n",
    "프로그램을 실행하는 도중에 사용되는 함수 인자들의 자료형을 확인한다는 의미이다.\n",
    "이는 함수가 다루는 모든 값에 대해 동일하다. "
   ]
  },
  {
   "cell_type": "markdown",
   "metadata": {},
   "source": [
    "### 파이썬과 정적 타이핑"
   ]
  },
  {
   "cell_type": "markdown",
   "metadata": {},
   "source": [
    "C, Java 등 많은 프로그래밍 언어는 동적 타이핑 대신에 **정적 타이핑**(static typing)을 지원한다.\n",
    "즉, 함수나 변수를 선언할 때 사용되는 변수들의 자료형과 인자 및 반환값의 자료형을 \n",
    "애초부터 명시해야 하며 지정된 자료형이 사용되지 않을 경우 오류를 발생시킨다.\n",
    "\n",
    "파이썬은 3.6 버전부터 정적 타이핑 형식을 지원한다. \n",
    "다만 C, Java의 자료형과 관련된 엄격함은 전혀 존재하지 않으며, \n",
    "그냥 정적 타이핑의 형식만 빌려왔다.\n",
    "\n",
    "즉, **자료형 명시**(type annotations)를 지원할 뿐이며, \n",
    "실제로는 동적 타이핑 형식으로 문법과 실행 과정을 확인하고 제어한다.\n",
    "\n",
    "예를 들어, `myAdd` 함수를 아래와 같이 선언할 수 있다."
   ]
  },
  {
   "cell_type": "code",
   "execution_count": 56,
   "metadata": {},
   "outputs": [],
   "source": [
    "def myAdd(a: float, b: float) -> float:\n",
    "    return a + b"
   ]
  },
  {
   "cell_type": "markdown",
   "metadata": {},
   "source": [
    "`myAdd` 함수는 부동소수점의 합을 계산함수라는 의도를 \n",
    "명확히 하기 위해 `float`라는 자료형을 입력값와 반환값에 대해 명시하였다.\n",
    "\n",
    "그래서 위 함수는 마치 부동소수점에 대해서만 작동하는 것처럼 보인다.\n",
    "하지만 이는 `myAdd` 함수는 여전히 다른 자료형의 값들을 \n",
    "인자로 사용할 수 있다."
   ]
  },
  {
   "cell_type": "code",
   "execution_count": 57,
   "metadata": {},
   "outputs": [
    {
     "name": "stdout",
     "output_type": "stream",
     "text": [
      "15\n",
      "[1, 2, 3]\n",
      "저 잠깐만요!\n"
     ]
    }
   ],
   "source": [
    "print(myAdd(10, 5))\n",
    "print(myAdd([1, 2], [3]))\n",
    "print(myAdd(\"저 \", \"잠깐만요!\"))"
   ]
  },
  {
   "cell_type": "markdown",
   "metadata": {},
   "source": [
    "즉, 자료형의 명시는 함수 정의의 의도를 전달하는 역할만 수행하며,\n",
    "파이썬이 정적타이피을 지원한다는 의미는 아님에 주의해야 한다."
   ]
  },
  {
   "cell_type": "markdown",
   "metadata": {},
   "source": [
    "### 고계 함수와 제1종 객체"
   ]
  },
  {
   "cell_type": "markdown",
   "metadata": {},
   "source": [
    "파이썬에서는 함수도 하나의 값으로 간주된다.\n",
    "이렇게 하나의 값으로 간주되는 객체를\n",
    "**제1종 객체**(first-class object)라고 부른다.\n",
    "제1종 객체로 간주되는 값은 변수에 할당되거나, 함수의 인자 또는 반환값으로 사용될 수 있다.\n",
    "\n",
    "함수를 인자로 받거나 내주는 값으로 사용하는 함수를 **고계 함수**(higher-order function)라 부른다."
   ]
  },
  {
   "cell_type": "markdown",
   "metadata": {},
   "source": [
    "## 연습문제 "
   ]
  },
  {
   "cell_type": "markdown",
   "metadata": {},
   "source": [
    "1. 다음 조건을 만족시키는 `right_justify`라는 함수를 정의하라.\n",
    "    * 인자는 하나만 받으며, 매개변수는 `s`라 부른다.\n",
    "    * 문자열 하나를 인자로 받아 실행하면 해당 문자열의 끝이 20번째 칸에 위치하도록 \n",
    "        입력받은 문자열 앞에 충분한 공백이 위치하도록 출력(print)한다. \n",
    "\n",
    "    ```python\n",
    "    >>> right_justify('monty')\n",
    "                       monty\n",
    "    ```                                                                 \n",
    "\n",
    "    힌트: 문자열 결합 및 반복, 그리고 문자열의 길이를 되돌려주는 내장함수 `len` 활용 가능.\n",
    "    <br><br>\n",
    "1. 파이썬은 정의된 함수도 하나의 값으로 취급한다. \n",
    "    따라서 함수를 다른 함수의 인자로 사용하거나 변수에 할당되는 값으로 사용될 수 있다. \n",
    "    예를 들어, 아래에 정의된 `do_twice` 함수는 함수 `f`를 인자로 입력받으면\n",
    "    그 함수를 두 번 호출하여 실행하도록 하는 함수이다. \n",
    "    \n",
    "    ```python\n",
    "    def do_twice(f):\n",
    "        f()\n",
    "        f()\n",
    "    ```\n",
    "    \n",
    "    그리고 `print_spam` 이라는 함수를 두 번 호출하도록 `do_twice`를 활용하고자 하면 \n",
    "    아래와 같이 프로그램을 작성하면 된다.\n",
    "    \n",
    "    ```python\n",
    "    def print_spam():\n",
    "        print('spam')\n",
    "\n",
    "    do_twice(print_spam)\n",
    "    ```\n",
    "    \n",
    "    1. 이 프로그램을 직접 입력해서 실행해 보라.\n",
    "    1. 아래 조건을 만족하도록 `do_twice` 함수를 수정하라. \n",
    "        * 두 개의 인자를 사용한다.\n",
    "        * 첫째 매개변수는 하나의 인자를 받는 함수를 인자로 입력받는다.\n",
    "        * 둘째 매개변수는 첫째 인자에 사용된 함수의 인자로 사용될 수 있는 값을 인자로 입력받는다.\n",
    "        * 첫째 인자로 사용된 함수를 둘째 인자로 사용된 값을 이용하여 두 번 연속 호출한다. \n",
    "    1. 아래 조건을 만족하도록 `do_four` 함수를 수정하라. \n",
    "        * 두 개의 인자를 사용한다.\n",
    "        * 첫째 매개변수는 하나의 인자를 받는 함수를 인자로 입력받는다.\n",
    "        * 둘째 매개변수는 첫째 인자에 사용된 함수의 인자로 사용될 수 있는 값을 인자로 입력받는다.\n",
    "        * 첫째 인자로 사용된 함수를 둘째 인자로 사용된 값을 이용하여 네 번 연속 호출한다. \n",
    "        * 앞서 정의된 `do_twice` 함수를 반드시 활용한다.\n",
    "    <br><br>\n",
    "    답: http://greenteapress.com/thinkpython2/code/do_four.py\n",
    "<br><br>\n",
    "1. 다음과 같은 격자를 그리는 함수를 작성하라.\n",
    "\n",
    "    ```\n",
    "    + - - - - + - - - - +\n",
    "    |         |         |\n",
    "    |         |         |\n",
    "    |         |         |\n",
    "    |         |         |\n",
    "    + - - - - + - - - - +\n",
    "    |         |         |\n",
    "    |         |         |\n",
    "    |         |         |\n",
    "    |         |         |\n",
    "    + - - - - + - - - - +\n",
    "    ```\n",
    "\n",
    "    힌트: 한 줄에 하나 이상의 값을 출력하려면 `print` 함수에 여러 인자를 사용하면 된다.\n",
    "\n",
    "    ```python\n",
    "    print('+', '-')\n",
    "    ```\n",
    "\n",
    "    `print` 함수는 기본적으로 줄바꿈을 실행한다.\n",
    "    줄바꿈을 하지 않기 위해서는 에를 들어 아래와 같이 실행하면 된다.\n",
    "\n",
    "    ```python\n",
    "    print('+', end=' ')\n",
    "    print('-')\n",
    "    ```\n",
    "\n",
    "    위 프로그램을 실행하면 `+ -` 형식으로 출력된다. \n",
    "<br><br>\n",
    "1. 4개의 행과 4개의 열을 갖는 격자를 그리는 함수를 작성하라.\n",
    "\n",
    "    답: http://greenteapress.com/thinkpython2/code/grid.py\n",
    "    <br><br>\n",
    "    이 연습문제는 아래 책의 Oualline에 포함된 연습문제를 응용하였다. \n",
    "\n",
    "        Practical C Programming, Third Edition, O’Reilly Media, 1997.\n",
    "<br><br>\n",
    "1. 위 함수를 일반화 하라. 즉, 입력값 n이 주어지면\n",
    "    n개의 행과 n개의 열을 갖는 격자를 그리는 함수를 작성하라."
   ]
  }
 ],
 "metadata": {
  "kernelspec": {
   "display_name": "Python 3 (ipykernel)",
   "language": "python",
   "name": "python3"
  },
  "language_info": {
   "codemirror_mode": {
    "name": "ipython",
    "version": 3
   },
   "file_extension": ".py",
   "mimetype": "text/x-python",
   "name": "python",
   "nbconvert_exporter": "python",
   "pygments_lexer": "ipython3",
   "version": "3.9.7"
  }
 },
 "nbformat": 4,
 "nbformat_minor": 1
}
