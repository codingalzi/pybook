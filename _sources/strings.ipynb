{
 "cells": [
  {
   "attachments": {},
   "cell_type": "markdown",
   "id": "f0a3fe4a",
   "metadata": {},
   "source": [
    "(ch:strings)=\n",
    "# 문자열"
   ]
  },
  {
   "attachments": {},
   "cell_type": "markdown",
   "id": "790aa85f",
   "metadata": {},
   "source": [
    "## 소개"
   ]
  },
  {
   "attachments": {},
   "cell_type": "markdown",
   "id": "5dd3ce28",
   "metadata": {},
   "source": [
    "문자들을 나열한 값들을 일컫는 자료형으로 작은 따옴표(`'`) 또는 큰 따옴표(`\"`)를 사용한다. \n",
    "\n",
    "```python\n",
    "'Hello, Python!'\n",
    "```\n",
    "\n",
    "```python\n",
    "\"Hello, Python!\"\n",
    "```"
   ]
  },
  {
   "attachments": {},
   "cell_type": "markdown",
   "id": "84716f29",
   "metadata": {},
   "source": [
    "문자열은 순차 자료형이며, 따라서 항목의 순서 또는 개수가 다르면 서로 다른 문자열로 처리된다."
   ]
  },
  {
   "cell_type": "code",
   "execution_count": 1,
   "id": "c0f5cd3c",
   "metadata": {},
   "outputs": [
    {
     "data": {
      "text/plain": [
       "False"
      ]
     },
     "execution_count": 1,
     "metadata": {},
     "output_type": "execute_result"
    }
   ],
   "source": [
    "'ab' == 'ba'"
   ]
  },
  {
   "cell_type": "code",
   "execution_count": 2,
   "id": "42b79729",
   "metadata": {},
   "outputs": [
    {
     "data": {
      "text/plain": [
       "False"
      ]
     },
     "execution_count": 2,
     "metadata": {},
     "output_type": "execute_result"
    }
   ],
   "source": [
    "'aa' == 'aaa'"
   ]
  },
  {
   "attachments": {},
   "cell_type": "markdown",
   "id": "bef09417",
   "metadata": {},
   "source": [
    "**빈 문자열**\n",
    "\n",
    "빈 문자열은 아무것도 포함하지 않는 문자열이다.\n",
    "빈 문자열을 만드는 방법은 다음 세 가지 방법이 있다.\n",
    "\n",
    "```python\n",
    "empty_str = ''\n",
    "empty_str = \"\"\n",
    "empty_str = str()\n",
    "```"
   ]
  },
  {
   "attachments": {},
   "cell_type": "markdown",
   "id": "34d02622",
   "metadata": {},
   "source": [
    "### 문자열 연산"
   ]
  },
  {
   "attachments": {},
   "cell_type": "markdown",
   "id": "6e8d53d3-81eb-446d-b4d6-1f7c82484699",
   "metadata": {},
   "source": [
    "**`in` 연산자** \n",
    "\n",
    "문자열의 일부로 포함된 부분 문자열인지 여부를 판단하는 논리 연산자이다. "
   ]
  },
  {
   "cell_type": "code",
   "execution_count": 3,
   "id": "089fbce8-65ff-4ea0-8ad3-a671758de90d",
   "metadata": {},
   "outputs": [
    {
     "data": {
      "text/plain": [
       "True"
      ]
     },
     "execution_count": 3,
     "metadata": {},
     "output_type": "execute_result"
    }
   ],
   "source": [
    "'app' in 'apple'"
   ]
  },
  {
   "cell_type": "code",
   "execution_count": 4,
   "id": "837c97f7-8f37-4813-9057-f5d21e6af336",
   "metadata": {},
   "outputs": [
    {
     "data": {
      "text/plain": [
       "False"
      ]
     },
     "execution_count": 4,
     "metadata": {},
     "output_type": "execute_result"
    }
   ],
   "source": [
    "'h' in 'banana' "
   ]
  },
  {
   "cell_type": "code",
   "execution_count": 5,
   "id": "47af3f0c-9ba7-426b-b313-5a9ae5582ae6",
   "metadata": {},
   "outputs": [
    {
     "data": {
      "text/plain": [
       "True"
      ]
     },
     "execution_count": 5,
     "metadata": {},
     "output_type": "execute_result"
    }
   ],
   "source": [
    "'ca' not in 'coconut'"
   ]
  },
  {
   "attachments": {},
   "cell_type": "markdown",
   "id": "4e6995d4",
   "metadata": {},
   "source": [
    "**크기 비교 연산**"
   ]
  },
  {
   "attachments": {},
   "cell_type": "markdown",
   "id": "a15a03b9",
   "metadata": {},
   "source": [
    "문자열은 사전식의 순서를 사용하며 공백문자, 소문자, 대문자 순으로 크기가 정해진다."
   ]
  },
  {
   "cell_type": "code",
   "execution_count": 6,
   "id": "6f82b898",
   "metadata": {},
   "outputs": [
    {
     "data": {
      "text/plain": [
       "True"
      ]
     },
     "execution_count": 6,
     "metadata": {},
     "output_type": "execute_result"
    }
   ],
   "source": [
    "'a' >= 'A'"
   ]
  },
  {
   "cell_type": "code",
   "execution_count": 7,
   "id": "8cbb87a2",
   "metadata": {},
   "outputs": [
    {
     "data": {
      "text/plain": [
       "False"
      ]
     },
     "execution_count": 7,
     "metadata": {},
     "output_type": "execute_result"
    }
   ],
   "source": [
    "'apple' < 'Hello, World!'"
   ]
  },
  {
   "cell_type": "code",
   "execution_count": 8,
   "id": "37c4c4ce",
   "metadata": {},
   "outputs": [
    {
     "data": {
      "text/plain": [
       "False"
      ]
     },
     "execution_count": 8,
     "metadata": {},
     "output_type": "execute_result"
    }
   ],
   "source": [
    "'Hello, World!' < ' hello'"
   ]
  },
  {
   "attachments": {},
   "cell_type": "markdown",
   "id": "2e51dd9b",
   "metadata": {},
   "source": [
    "**`min()`/`max()` 함수**"
   ]
  },
  {
   "attachments": {},
   "cell_type": "markdown",
   "id": "4404bc1e",
   "metadata": {},
   "source": [
    "문자열에 사용된 가장 작은 또는 가장 큰 값의 기호를 반환한다."
   ]
  },
  {
   "cell_type": "code",
   "execution_count": 9,
   "id": "ef48931a",
   "metadata": {},
   "outputs": [
    {
     "data": {
      "text/plain": [
       "'p'"
      ]
     },
     "execution_count": 9,
     "metadata": {},
     "output_type": "execute_result"
    }
   ],
   "source": [
    "max('apple')"
   ]
  },
  {
   "cell_type": "code",
   "execution_count": 10,
   "id": "20fedc91",
   "metadata": {},
   "outputs": [
    {
     "data": {
      "text/plain": [
       "'r'"
      ]
     },
     "execution_count": 10,
     "metadata": {},
     "output_type": "execute_result"
    }
   ],
   "source": [
    "max('Hello, World!')"
   ]
  },
  {
   "cell_type": "code",
   "execution_count": 11,
   "id": "c10e6db1",
   "metadata": {},
   "outputs": [
    {
     "data": {
      "text/plain": [
       "'a'"
      ]
     },
     "execution_count": 11,
     "metadata": {},
     "output_type": "execute_result"
    }
   ],
   "source": [
    "min('banana')"
   ]
  },
  {
   "cell_type": "code",
   "execution_count": 12,
   "id": "03f0745d",
   "metadata": {},
   "outputs": [
    {
     "data": {
      "text/plain": [
       "' '"
      ]
     },
     "execution_count": 12,
     "metadata": {},
     "output_type": "execute_result"
    }
   ],
   "source": [
    "min('Hello, World!')"
   ]
  },
  {
   "attachments": {},
   "cell_type": "markdown",
   "id": "afc68940-a4e2-42f5-92ea-a0adf8b2dc8e",
   "metadata": {},
   "source": [
    "**`len()` 함수**\n",
    "\n",
    "문자열의 길이, 즉 문자열에 포함된 기호의 개수를 반환한다."
   ]
  },
  {
   "cell_type": "code",
   "execution_count": 13,
   "id": "356e853e-8468-4f8d-8a85-139433dab0f1",
   "metadata": {},
   "outputs": [
    {
     "data": {
      "text/plain": [
       "5"
      ]
     },
     "execution_count": 13,
     "metadata": {},
     "output_type": "execute_result"
    }
   ],
   "source": [
    "len('apple')"
   ]
  },
  {
   "cell_type": "code",
   "execution_count": 14,
   "id": "bfd270c5-95ca-4ecb-8454-ec35c55fc52f",
   "metadata": {},
   "outputs": [
    {
     "data": {
      "text/plain": [
       "13"
      ]
     },
     "execution_count": 14,
     "metadata": {},
     "output_type": "execute_result"
    }
   ],
   "source": [
    "len('hello, world!')"
   ]
  },
  {
   "attachments": {},
   "cell_type": "markdown",
   "id": "7322d96a",
   "metadata": {},
   "source": [
    "화이트 스페이스는 모두 하나의 기호로 간주된다."
   ]
  },
  {
   "cell_type": "code",
   "execution_count": 15,
   "id": "b2fc7615",
   "metadata": {},
   "outputs": [
    {
     "data": {
      "text/plain": [
       "14"
      ]
     },
     "execution_count": 15,
     "metadata": {},
     "output_type": "execute_result"
    }
   ],
   "source": [
    "len('hello,\\t\\nworld!')"
   ]
  },
  {
   "attachments": {},
   "cell_type": "markdown",
   "id": "a85e268b-49a7-4d42-9738-96c6d5e004fa",
   "metadata": {},
   "source": [
    "### 문자열 인덱싱"
   ]
  },
  {
   "attachments": {},
   "cell_type": "markdown",
   "id": "9c38cc2c-8ab3-4a97-a414-e63a1ada4305",
   "metadata": {},
   "source": [
    "문자열에 포함된 모든 문자는 인덱스<font size = \"2\">index</font>라는 고유한 번호를 갖는다.\n",
    "인덱스는 0부터 시작하며, 오른쪽으로 한 문자씩 이동할 때마다 증가한다.\n",
    "**인덱싱**<font size = \"2\">indexing</font>은 인덱스를 활용하여 문자열에 포함된 특정 문자를 확인한다."
   ]
  },
  {
   "cell_type": "code",
   "execution_count": 16,
   "id": "1632af09",
   "metadata": {},
   "outputs": [],
   "source": [
    "colors = 'red, blue, yellow'"
   ]
  },
  {
   "cell_type": "code",
   "execution_count": 17,
   "id": "d596653f",
   "metadata": {},
   "outputs": [
    {
     "data": {
      "text/plain": [
       "'r'"
      ]
     },
     "execution_count": 17,
     "metadata": {},
     "output_type": "execute_result"
    }
   ],
   "source": [
    "colors[0] #0번 인덱스 값"
   ]
  },
  {
   "cell_type": "code",
   "execution_count": 18,
   "id": "e256b856-af80-42d6-a0ce-2d9d787a7e05",
   "metadata": {},
   "outputs": [
    {
     "data": {
      "text/plain": [
       "'b'"
      ]
     },
     "execution_count": 18,
     "metadata": {},
     "output_type": "execute_result"
    }
   ],
   "source": [
    "colors[5] #3번 인덱스 값"
   ]
  },
  {
   "attachments": {},
   "cell_type": "markdown",
   "id": "7559128f-c98c-4939-b02f-d1e8a2d0a2c7",
   "metadata": {},
   "source": [
    "문자열의 길이와 같거나 큰 인덱스를 사용하면 오류가 발생한다. \n",
    "\n",
    "```python\n",
    ">>> len(colors)\n",
    "17\n",
    ">>> colors[50]\n",
    "IndexError                                Traceback (most recent call last)\n",
    "/tmp/ipykernel_1817/3232567937.py in <module>\n",
    "----> 1 colors[50]\n",
    "\n",
    "IndexError: string index out of range\n",
    "```"
   ]
  },
  {
   "attachments": {},
   "cell_type": "markdown",
   "id": "931036c1-1df6-406c-990d-7c23627730a2",
   "metadata": {},
   "source": [
    "인덱스 값으로 음의 정수를 사용할 수 있다. \n",
    "-1을 마지막 문자의 인덱스로 사용하고, 왼쪽으로 한 문자씩 이동할 때마다 감소한다.  "
   ]
  },
  {
   "cell_type": "code",
   "execution_count": 19,
   "id": "7ac4b3da-194f-4540-9ed2-1ecd0b20bb4c",
   "metadata": {},
   "outputs": [
    {
     "data": {
      "text/plain": [
       "'w'"
      ]
     },
     "execution_count": 19,
     "metadata": {},
     "output_type": "execute_result"
    }
   ],
   "source": [
    "colors[-1] # 오른쪽 끝에 위치한 문자"
   ]
  },
  {
   "cell_type": "code",
   "execution_count": 20,
   "id": "279d307c-5d35-4ac2-ab78-374351634612",
   "metadata": {},
   "outputs": [
    {
     "data": {
      "text/plain": [
       "'o'"
      ]
     },
     "execution_count": 20,
     "metadata": {},
     "output_type": "execute_result"
    }
   ],
   "source": [
    "colors[-2] # 오른쪽 끝에서 두 번째 문자"
   ]
  },
  {
   "attachments": {},
   "cell_type": "markdown",
   "id": "1483771a",
   "metadata": {},
   "source": [
    "### 문자열 슬라이싱"
   ]
  },
  {
   "attachments": {},
   "cell_type": "markdown",
   "id": "6ff7500f-0825-4ea7-8096-8c0072e7235e",
   "metadata": {
    "tags": []
   },
   "source": [
    "인덱스의 특정 구간에 해당하는 부분 문자열을 확인하려 할 때는 \n",
    "**슬라이싱**<font size = \"2\">slicing</font>을 사용한다.\n",
    "슬라이싱은 다음과 같이 실행한다.  \n",
    "\n",
    "* 시작 인덱스 : 해당 인덱스부터 문자 확인\n",
    "* 끝 인덱스 : 해당 인덱스 이전까지의 문자 확인\n",
    "* 계단: 시작 인덱스부터 몇 계단씩 건너뛰며 문자를 추출할지 결정. \n",
    "    계단의 크기가 1이면 생략 가능."
   ]
  },
  {
   "cell_type": "code",
   "execution_count": 21,
   "id": "a8a02eab-a16d-4b62-a7f9-fd6675368f55",
   "metadata": {},
   "outputs": [],
   "source": [
    "colors = 'red, blue, yellow'"
   ]
  },
  {
   "attachments": {},
   "cell_type": "markdown",
   "id": "23912c81-c71d-47c3-9aa2-573e8867f26f",
   "metadata": {},
   "source": [
    "`colors`에서 `red`를 추출하고 싶다면 다음과 같이 하면 된다. "
   ]
  },
  {
   "cell_type": "code",
   "execution_count": 22,
   "id": "fbebed05",
   "metadata": {},
   "outputs": [
    {
     "data": {
      "text/plain": [
       "'red'"
      ]
     },
     "execution_count": 22,
     "metadata": {},
     "output_type": "execute_result"
    }
   ],
   "source": [
    "colors[0 : 3 : 1]"
   ]
  },
  {
   "attachments": {},
   "cell_type": "markdown",
   "id": "e9235d41-72ce-469f-b71f-5f2ee9f12b93",
   "metadata": {},
   "source": [
    "`colors`에서 `b`부터 끝까지 하나씩 건너서 추출하려면 다음과 같이 하면 된다. "
   ]
  },
  {
   "cell_type": "code",
   "execution_count": 23,
   "id": "b9016767-c4b3-4f19-aa57-37f3baf0167e",
   "metadata": {},
   "outputs": [
    {
     "data": {
      "text/plain": [
       "'bu,ylo'"
      ]
     },
     "execution_count": 23,
     "metadata": {},
     "output_type": "execute_result"
    }
   ],
   "source": [
    "colors[5 : len(colors) : 2]"
   ]
  },
  {
   "attachments": {},
   "cell_type": "markdown",
   "id": "d2500f09-12fe-407c-b396-09c94da53578",
   "metadata": {},
   "source": [
    "양의 정수와 음의 정수를 섞어서 인덱스로 사용할 수 있다."
   ]
  },
  {
   "cell_type": "code",
   "execution_count": 24,
   "id": "b0d3b26d-5f98-49e6-ae6f-f32d2b42875b",
   "metadata": {},
   "outputs": [
    {
     "data": {
      "text/plain": [
       "'bu,ylo'"
      ]
     },
     "execution_count": 24,
     "metadata": {},
     "output_type": "execute_result"
    }
   ],
   "source": [
    "colors[5 : -1 : 2]"
   ]
  },
  {
   "attachments": {},
   "cell_type": "markdown",
   "id": "b7f8c0ba-3e3b-45c2-ad2c-9f911cb6aa8d",
   "metadata": {},
   "source": [
    "시작인덱스, 끝인덱스, 계단 각각의 인자는 경우에 따라 생략될 수도 있다. \n",
    "그럴 때는 각각의 위치에 대해 설정된 기본값이 사용된다.\n",
    "\n",
    "* `시작 인덱스`의 기본값 : `0`  \n",
    "* `끝 인덱스`의 기본값 : 문자열의 길이  \n",
    "* `계단`의 기본값 : `1`"
   ]
  },
  {
   "cell_type": "code",
   "execution_count": 25,
   "id": "c26ea62e-c1d2-46fa-b4c3-09cdf756b032",
   "metadata": {},
   "outputs": [
    {
     "data": {
      "text/plain": [
       "'red'"
      ]
     },
     "execution_count": 25,
     "metadata": {},
     "output_type": "execute_result"
    }
   ],
   "source": [
    "colors[ : 3 : ]"
   ]
  },
  {
   "cell_type": "code",
   "execution_count": 26,
   "id": "0ab0f20a-f247-4baf-8d55-d9bdf4024594",
   "metadata": {},
   "outputs": [
    {
     "data": {
      "text/plain": [
       "'red'"
      ]
     },
     "execution_count": 26,
     "metadata": {},
     "output_type": "execute_result"
    }
   ],
   "source": [
    "colors[ : 3] #계단을 생략할 떄는 콜론(:)도 함께 생략가능"
   ]
  },
  {
   "cell_type": "code",
   "execution_count": 27,
   "id": "80f73adf-2d2c-4d05-8c73-ec6a482c7335",
   "metadata": {},
   "outputs": [
    {
     "data": {
      "text/plain": [
       "'bu,ylo'"
      ]
     },
     "execution_count": 27,
     "metadata": {},
     "output_type": "execute_result"
    }
   ],
   "source": [
    "colors[5 : : 2]"
   ]
  },
  {
   "attachments": {},
   "cell_type": "markdown",
   "id": "086a978f",
   "metadata": {},
   "source": [
    "**역순 슬라이싱**\n",
    "\n",
    "슬라이싱은 기본적으로 작은 인덱스에서 큰 인덱스 방향으로 확인한다. \n",
    "하지만 역순으로 확인하고자 한다면 계단에 음의 정수를 사용하면 된다.\n",
    "계단이 `-1`이고, 시작 인덱스와 끝 인덱스를 생략하면 문자열 전체를 역순으로 확인한다."
   ]
  },
  {
   "cell_type": "code",
   "execution_count": 28,
   "id": "ff7ed75c",
   "metadata": {},
   "outputs": [
    {
     "data": {
      "text/plain": [
       "'wolley ,eulb ,der'"
      ]
     },
     "execution_count": 28,
     "metadata": {},
     "output_type": "execute_result"
    }
   ],
   "source": [
    "colors[ : : -1]"
   ]
  },
  {
   "attachments": {},
   "cell_type": "markdown",
   "id": "cacb82d7",
   "metadata": {},
   "source": [
    ":::{admonition} 주의\n",
    ":class: caution  \n",
    "\n",
    "문자열은 불변 자료형이라 인덱싱 또는 슬라이싱을 사용하여 값의 일부를 변경할 수 없다.\n",
    "\n",
    "```python\n",
    ">>> a_word = 'hello'\n",
    ">>> a_word[0] = 'H'\n",
    "TypeError                                 Traceback (most recent call last)\n",
    "/tmp/ipykernel_1817/217255829.py in <module>\n",
    "      1 a_word = 'hello'\n",
    "----> 2 a_word[0] = 'H'\n",
    "\n",
    "TypeError: 'str' object does not support item assignment\n",
    "```\n",
    ":::"
   ]
  },
  {
   "attachments": {},
   "cell_type": "markdown",
   "id": "55989729",
   "metadata": {},
   "source": [
    "### 문자열 메서드 "
   ]
  },
  {
   "attachments": {},
   "cell_type": "markdown",
   "id": "d12183aa-af4a-4207-9c4f-49b2419f75cc",
   "metadata": {},
   "source": [
    "문자열 자료형에만 사용하는 함수들이 있다. 이와같이 특정 자료형에만 사용하는 함수들을 메서드<font size = \"2\">method</font>라 부른다.\n",
    "메서드는 일반적인 함수들과는 달리, 특정 자료형의 값을 먼저 언급하고 바로 이어서 점(`.`)을 찍은 다음 호출한다."
   ]
  },
  {
   "attachments": {},
   "cell_type": "markdown",
   "id": "b5f17304",
   "metadata": {},
   "source": [
    "문자열 자료형이 제공하는 주요 메서드는 아래 표와 같다. "
   ]
  },
  {
   "attachments": {},
   "cell_type": "markdown",
   "id": "79185a79-a39c-4306-9be3-ab280dc40e13",
   "metadata": {},
   "source": [
    "|메서드|설명|\n",
    "|:---|:---|\n",
    "|`count()`|지정된 문자열이 등장한 횟수 반환|\n",
    "|`find()`|지정된 문자열이 처음 등장한 위치 반환. 지정된 문자열이 없다면 -1반환|\n",
    "|`index()`|지정된 문자열이 처음 등장한 위치 반환. 지정된 문자열이 없다면 오류발생|\n",
    "|`lower()`|문자열에 사용된 문자를 모두 소문자로 변환한 문자열 반환|`words.lower()`|\n",
    "|`upper()`|문자열에 사용된 문자를 모두 대문자로 변환한 문자열 반환|`words.upper()`|\n",
    "|`replace()`|하나의 문자열을 다른 문자열로 대체한 문자열 반환|`words.replace('so ', '')`|\n",
    "|`lstrip()`|문자열 왼쪽에서 지정된 부분 문자열을 삭제한 문자열 반환. 지정된 부분 문자열이 없는 경우 왼쪽 공백들을 삭제한 문자열 반환|\n",
    "|`rstrip()`|문자열 오른쪽에서 지정된 부분 문자열을 삭제한 문자열 반환. 지정된 부분 문자열이 없는 경우 오른쪽 공백들을 삭제한 문자열 반환|\n",
    "|`strip()`|문자열 양쪽에서 지정된 부분 문자열을 삭제한 문자열 반환. 지정된 문자열이 없는 경우 양쪽 공백들을 삭제한 문자열 반환|\n",
    "|`split()`|문자열을 지정된 기준으로 쪼개서 생성된 문자열들로 구성된 리스트 반환. 지정된 문자열이 없는 경우 공백을 기준 사용|\n",
    "|`join()`|지정된 문자열에 포함된 모든 문자들 사이에 지정된 문자열이 삽입된 문자열 반환|"
   ]
  },
  {
   "attachments": {},
   "cell_type": "markdown",
   "id": "93c7d2cd",
   "metadata": {},
   "source": [
    "**`count()` 메서드**"
   ]
  },
  {
   "cell_type": "code",
   "execution_count": 29,
   "id": "869ed2fe",
   "metadata": {},
   "outputs": [],
   "source": [
    "words = \" My life is so cool, my life is so cool \""
   ]
  },
  {
   "cell_type": "code",
   "execution_count": 30,
   "id": "45340a57",
   "metadata": {},
   "outputs": [
    {
     "data": {
      "text/plain": [
       "2"
      ]
     },
     "execution_count": 30,
     "metadata": {},
     "output_type": "execute_result"
    }
   ],
   "source": [
    "words.count('so')"
   ]
  },
  {
   "attachments": {},
   "cell_type": "markdown",
   "id": "5f256f1e",
   "metadata": {},
   "source": [
    "**`find()` 메서드**"
   ]
  },
  {
   "cell_type": "code",
   "execution_count": 31,
   "id": "f9cc9acd",
   "metadata": {},
   "outputs": [
    {
     "data": {
      "text/plain": [
       "4"
      ]
     },
     "execution_count": 31,
     "metadata": {},
     "output_type": "execute_result"
    }
   ],
   "source": [
    "words.find('life')"
   ]
  },
  {
   "attachments": {},
   "cell_type": "markdown",
   "id": "cfc1e51b",
   "metadata": {},
   "source": [
    "**`index()` 메서드**"
   ]
  },
  {
   "cell_type": "code",
   "execution_count": 32,
   "id": "8eed87ab",
   "metadata": {},
   "outputs": [
    {
     "data": {
      "text/plain": [
       "1"
      ]
     },
     "execution_count": 32,
     "metadata": {},
     "output_type": "execute_result"
    }
   ],
   "source": [
    "words.index('My')"
   ]
  },
  {
   "attachments": {},
   "cell_type": "markdown",
   "id": "c9aba52e",
   "metadata": {},
   "source": [
    "**`lower()` 메서드**"
   ]
  },
  {
   "cell_type": "code",
   "execution_count": 33,
   "id": "2a2c9d04",
   "metadata": {},
   "outputs": [
    {
     "data": {
      "text/plain": [
       "' my life is so cool, my life is so cool '"
      ]
     },
     "execution_count": 33,
     "metadata": {},
     "output_type": "execute_result"
    }
   ],
   "source": [
    "words.lower()"
   ]
  },
  {
   "attachments": {},
   "cell_type": "markdown",
   "id": "502f4b2e",
   "metadata": {},
   "source": [
    "**`upper()` 메서드**"
   ]
  },
  {
   "cell_type": "code",
   "execution_count": 34,
   "id": "42cad500",
   "metadata": {},
   "outputs": [
    {
     "data": {
      "text/plain": [
       "' MY LIFE IS SO COOL, MY LIFE IS SO COOL '"
      ]
     },
     "execution_count": 34,
     "metadata": {},
     "output_type": "execute_result"
    }
   ],
   "source": [
    "words.upper()"
   ]
  },
  {
   "attachments": {},
   "cell_type": "markdown",
   "id": "fdfd47b4",
   "metadata": {},
   "source": [
    "**`replace()` 메서드**"
   ]
  },
  {
   "cell_type": "code",
   "execution_count": 35,
   "id": "f4480c4c",
   "metadata": {},
   "outputs": [
    {
     "data": {
      "text/plain": [
       "' My life is thatcool, my life is thatcool '"
      ]
     },
     "execution_count": 35,
     "metadata": {},
     "output_type": "execute_result"
    }
   ],
   "source": [
    "words.replace('so ', 'that')"
   ]
  },
  {
   "attachments": {},
   "cell_type": "markdown",
   "id": "ca9e389e",
   "metadata": {},
   "source": [
    "**`lstrip()` 메서드**"
   ]
  },
  {
   "cell_type": "code",
   "execution_count": 36,
   "id": "bd464876",
   "metadata": {},
   "outputs": [
    {
     "data": {
      "text/plain": [
       "'My life is so cool, my life is so cool '"
      ]
     },
     "execution_count": 36,
     "metadata": {},
     "output_type": "execute_result"
    }
   ],
   "source": [
    "words.lstrip()"
   ]
  },
  {
   "attachments": {},
   "cell_type": "markdown",
   "id": "02e26450",
   "metadata": {},
   "source": [
    "**`rstrip()` 메서드**"
   ]
  },
  {
   "cell_type": "code",
   "execution_count": 37,
   "id": "bf0f4c92",
   "metadata": {},
   "outputs": [
    {
     "data": {
      "text/plain": [
       "' My life is so cool, my life is so cool'"
      ]
     },
     "execution_count": 37,
     "metadata": {},
     "output_type": "execute_result"
    }
   ],
   "source": [
    "words.rstrip()"
   ]
  },
  {
   "attachments": {},
   "cell_type": "markdown",
   "id": "b6e3eeaa",
   "metadata": {},
   "source": [
    "**`strip()` 메서드**"
   ]
  },
  {
   "cell_type": "code",
   "execution_count": 38,
   "id": "fa399768",
   "metadata": {},
   "outputs": [
    {
     "data": {
      "text/plain": [
       "'My life is so cool, my life is so cool'"
      ]
     },
     "execution_count": 38,
     "metadata": {},
     "output_type": "execute_result"
    }
   ],
   "source": [
    "words.strip()"
   ]
  },
  {
   "attachments": {},
   "cell_type": "markdown",
   "id": "e597a1d5",
   "metadata": {},
   "source": [
    "**`split()` 메서드**"
   ]
  },
  {
   "cell_type": "code",
   "execution_count": 39,
   "id": "c98572a8",
   "metadata": {},
   "outputs": [
    {
     "data": {
      "text/plain": [
       "['My', 'life', 'is', 'so', 'cool,', 'my', 'life', 'is', 'so', 'cool']"
      ]
     },
     "execution_count": 39,
     "metadata": {},
     "output_type": "execute_result"
    }
   ],
   "source": [
    "words.split()"
   ]
  },
  {
   "attachments": {},
   "cell_type": "markdown",
   "id": "8ce09a8b",
   "metadata": {},
   "source": [
    "**`join()` 메서드**"
   ]
  },
  {
   "cell_type": "code",
   "execution_count": 40,
   "id": "e060d9f0",
   "metadata": {},
   "outputs": [
    {
     "data": {
      "text/plain": [
       "'H--e--l--l--o'"
      ]
     },
     "execution_count": 40,
     "metadata": {},
     "output_type": "execute_result"
    }
   ],
   "source": [
    "'--'.join('Hello')"
   ]
  },
  {
   "attachments": {},
   "cell_type": "markdown",
   "id": "3856cb4a",
   "metadata": {},
   "source": [
    "## 연습문제"
   ]
  },
  {
   "attachments": {},
   "cell_type": "markdown",
   "id": "17fcce4f",
   "metadata": {},
   "source": [
    "참고: [(실습) 문자열](https://colab.research.google.com/github/codingalzi/pybook/blob/master/practices/practice-strings.ipynb)"
   ]
  }
 ],
 "metadata": {
  "kernelspec": {
   "display_name": "Python 3 (ipykernel)",
   "language": "python",
   "name": "python3"
  },
  "language_info": {
   "codemirror_mode": {
    "name": "ipython",
    "version": 3
   },
   "file_extension": ".py",
   "mimetype": "text/x-python",
   "name": "python",
   "nbconvert_exporter": "python",
   "pygments_lexer": "ipython3",
   "version": "3.10.9"
  },
  "toc-autonumbering": true,
  "vscode": {
   "interpreter": {
    "hash": "6c86b3592b6800d985c04531f2c445f0fa6967131b8dd6395a925f7622e55602"
   }
  }
 },
 "nbformat": 4,
 "nbformat_minor": 5
}
