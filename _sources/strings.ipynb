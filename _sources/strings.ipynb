{
 "cells": [
  {
   "cell_type": "markdown",
   "id": "f0a3fe4a",
   "metadata": {},
   "source": [
    "(ch:strings)=\n",
    "# 문자열"
   ]
  },
  {
   "cell_type": "markdown",
   "id": "c34a84d9",
   "metadata": {},
   "source": [
    "문자열은 문자와 기호를 나열한 값들을 일컫는 값으로 작은 따옴표(`'`) 또는 큰 따옴표(`\"`)로 감싸인다."
   ]
  },
  {
   "cell_type": "code",
   "execution_count": 17,
   "id": "773d8cd0",
   "metadata": {},
   "outputs": [],
   "source": [
    "hello_python = 'Hello, Python!'"
   ]
  },
  {
   "cell_type": "code",
   "execution_count": 18,
   "id": "58e28570",
   "metadata": {},
   "outputs": [],
   "source": [
    "like_python = \"파이썬 좋아!\""
   ]
  },
  {
   "cell_type": "markdown",
   "id": "2e8adfa8",
   "metadata": {},
   "source": [
    "문자열을 화면에 출력하기 위해 \n",
    "`print()` 함수를 문자열과 함께 호출하면\n",
    "문자열을 감싸는 따옴표는 보여주지 않는다."
   ]
  },
  {
   "cell_type": "code",
   "execution_count": 19,
   "id": "00f785aa",
   "metadata": {},
   "outputs": [
    {
     "name": "stdout",
     "output_type": "stream",
     "text": [
      "Hello, Python!\n"
     ]
    }
   ],
   "source": [
    "print(hello_python)"
   ]
  },
  {
   "cell_type": "code",
   "execution_count": 20,
   "id": "55257fcf",
   "metadata": {},
   "outputs": [
    {
     "name": "stdout",
     "output_type": "stream",
     "text": [
      "파이썬 좋아!\n"
     ]
    }
   ],
   "source": [
    "print(like_python)"
   ]
  },
  {
   "cell_type": "markdown",
   "id": "16f0c610",
   "metadata": {},
   "source": [
    "어떤 문자나 기호고 포함하지 않은 경우를 빈 문자열이라 하며 문자열로 간주한다.\n",
    "빈 문자열을 만드는 방법은 다음 세 가지 방법이 있다."
   ]
  },
  {
   "cell_type": "code",
   "execution_count": 9,
   "id": "266f0211",
   "metadata": {},
   "outputs": [],
   "source": [
    "empty_str1 = ''\n",
    "empty_str2 = \"\"\n",
    "empty_str3 = str()"
   ]
  },
  {
   "cell_type": "markdown",
   "id": "be627bb4",
   "metadata": {},
   "source": [
    "빈 문자열을 출력하면 아무 것도 보이지 않는다."
   ]
  },
  {
   "cell_type": "code",
   "execution_count": 10,
   "id": "7a174112",
   "metadata": {},
   "outputs": [
    {
     "name": "stdout",
     "output_type": "stream",
     "text": [
      "\n"
     ]
    }
   ],
   "source": [
    "print(empty_str1)"
   ]
  },
  {
   "cell_type": "markdown",
   "id": "799725f2",
   "metadata": {},
   "source": [
    "## 이스케이프 시퀀스"
   ]
  },
  {
   "cell_type": "markdown",
   "id": "703eea06",
   "metadata": {},
   "source": [
    "큰따옴표로 감싸인 문자열에 작은따옴표가 포함될 수 있다.\n",
    "이는 큰따옴표를 이용한 문자열의 시작과 끝이 작은따옴표가 포함되었음에도 불구하고 명확하기 때문이다."
   ]
  },
  {
   "cell_type": "code",
   "execution_count": 21,
   "id": "1b2c06da",
   "metadata": {},
   "outputs": [
    {
     "name": "stdout",
     "output_type": "stream",
     "text": [
      "I'am a fan of python\n"
     ]
    }
   ],
   "source": [
    "fan_python = \"I'am a fan of python\"\n",
    "print(fan_python)"
   ]
  },
  {
   "cell_type": "markdown",
   "id": "ca0dc334",
   "metadata": {},
   "source": [
    "동일한 이유로 작은따옴표로 감싸인 문자열이 큰따옴표를 포함할 수 있다."
   ]
  },
  {
   "cell_type": "code",
   "execution_count": 23,
   "id": "e916f544",
   "metadata": {},
   "outputs": [
    {
     "name": "stdout",
     "output_type": "stream",
     "text": [
      "나도 \"그렇다\" 라고 답했다.\n"
     ]
    }
   ],
   "source": [
    "me_too = '나도 \"그렇다\" 라고 답했다.'\n",
    "print(me_too)"
   ]
  },
  {
   "cell_type": "markdown",
   "id": "85fc7325",
   "metadata": {},
   "source": [
    "반면에 큰따옴표로 감싸진 문자열에 큰따옴표를,\n",
    "작따옴표로 감싸진 문자열에 작은따옴표를 그냥 사용할 수는 없다.\n",
    "이유는 문자열의 끝이 명확하지 않기 때문이다."
   ]
  },
  {
   "cell_type": "code",
   "execution_count": 30,
   "id": "af078181",
   "metadata": {},
   "outputs": [
    {
     "ename": "SyntaxError",
     "evalue": "unterminated string literal (detected at line 1) (813724077.py, line 1)",
     "output_type": "error",
     "traceback": [
      "\u001b[0;36m  Cell \u001b[0;32mIn[30], line 1\u001b[0;36m\u001b[0m\n\u001b[0;31m    fan_python_1 = 'I'am a fan of python'\u001b[0m\n\u001b[0m                                        ^\u001b[0m\n\u001b[0;31mSyntaxError\u001b[0m\u001b[0;31m:\u001b[0m unterminated string literal (detected at line 1)\n"
     ]
    }
   ],
   "source": [
    "fan_python_1 = 'I'am a fan of python'"
   ]
  },
  {
   "cell_type": "code",
   "execution_count": 29,
   "id": "e566bc14",
   "metadata": {},
   "outputs": [
    {
     "ename": "SyntaxError",
     "evalue": "invalid syntax (3601346811.py, line 1)",
     "output_type": "error",
     "traceback": [
      "\u001b[0;36m  Cell \u001b[0;32mIn[29], line 1\u001b[0;36m\u001b[0m\n\u001b[0;31m    me_too_1 = \"나도 \"그렇다\" 라고 답했다.\"\u001b[0m\n\u001b[0m                    ^\u001b[0m\n\u001b[0;31mSyntaxError\u001b[0m\u001b[0;31m:\u001b[0m invalid syntax\n"
     ]
    }
   ],
   "source": [
    "me_too_1 = \"나도 \"그렇다\" 라고 답했다.\""
   ]
  },
  {
   "cell_type": "markdown",
   "id": "d047b5b6",
   "metadata": {},
   "source": [
    "위와 같은 오류를 방지하기 위해 문자열을 감싸는 문자열과 포함된 문자열을 항상 다르게 할 수는 없다.\n",
    "예를 들어 아래의 경우처럼 큰따옴표와 작은 따옴표가 모두 사용되는 경우가 그렇다."
   ]
  },
  {
   "cell_type": "markdown",
   "id": "986157dd",
   "metadata": {},
   "source": [
    "```python\n",
    "\"I've also said \"yes\"!\"\n",
    "```"
   ]
  },
  {
   "cell_type": "markdown",
   "id": "34280008",
   "metadata": {},
   "source": [
    "또는"
   ]
  },
  {
   "cell_type": "markdown",
   "id": "ae616057",
   "metadata": {},
   "source": [
    "```python\n",
    "'I've also said \"yes\"!'\n",
    "```"
   ]
  },
  {
   "cell_type": "markdown",
   "id": "105a9e43",
   "metadata": {},
   "source": [
    "이런 경우엔 이스케이프 문자를 사용한다.\n",
    "**이스케이스 문자**<font size='2'>escape character</font>는 \n",
    "문자와 기호의 원래 기능과는 다르게 작동하도록 하는 문자열이다.\n",
    "모든 이스케이프 문자는 백슬래시<font size='2'>backslach</font> 기호 `\\`로 시작하며 \n",
    "다음 이스케이프 문자가 많이 사용된다.\n",
    "\n",
    "| 이스케이프 문자 | 의미 |\n",
    "| :---: | :--- |\n",
    "| `\\'` | 작은따옴표 |\n",
    "| `\\\"` | 큰따옴표 |\n",
    "| `\\\\` | 백슬래시 |\n",
    "| `\\n` | 줄바꿈 |\n",
    "| `\\t` | 탭추가 |"
   ]
  },
  {
   "cell_type": "markdown",
   "id": "241a34e6",
   "metadata": {},
   "source": [
    ":::{admonition} 백슬래시 기호(&#x5C;)와 원화 기호(&#x20a9;)\n",
    ":class: note\n",
    "\n",
    "백슬래시 키는 키보드의 <kbd>Enter</kbd> 키 바로 위에 위치하는데\n",
    "한글 키보드의 경우 원화 기호 키 <kbd>&#x20a9;</kbd> 가 대신 \n",
    "자리잡고 있을 수 있다.\n",
    "그리고 모니터 화면에도 사용하는 운영체제의 언어 설정에 따라\n",
    "원화 기호(&#x20a9;)와 백슬래시 기호(&#x5C;) 둘 중에 하나로만 보인다.\n",
    "하지만 단순한 언어 설정의 차이일 뿐 기능은 동일하다.\n",
    ":::"
   ]
  },
  {
   "cell_type": "markdown",
   "id": "a0d61bc3",
   "metadata": {},
   "source": [
    "**인용부호 활용**"
   ]
  },
  {
   "cell_type": "markdown",
   "id": "1251fdc7",
   "metadata": {},
   "source": [
    "이스케이프 문자를 이용하면 큰따옴표와 작은따옴표를 제한없이 활용할 수 있다.\n",
    "`print()` 함수는 또한 이스케이프 문자의 기능을 적절히 반영해서 화면에 출력한다."
   ]
  },
  {
   "cell_type": "code",
   "execution_count": 27,
   "id": "b62fede6",
   "metadata": {},
   "outputs": [
    {
     "name": "stdout",
     "output_type": "stream",
     "text": [
      "I've also said \"yes\"!\n"
     ]
    }
   ],
   "source": [
    "said_yes_1 = \"I\\'ve also said \\\"yes\\\"!\"\n",
    "print(said_yes_1)"
   ]
  },
  {
   "cell_type": "code",
   "execution_count": 28,
   "id": "335c1f2a",
   "metadata": {},
   "outputs": [
    {
     "name": "stdout",
     "output_type": "stream",
     "text": [
      "I've also said \"yes\"!\n"
     ]
    }
   ],
   "source": [
    "said_yes_2 = 'I\\'ve also said \\\"yes\\\"!'\n",
    "print(said_yes_2)"
   ]
  },
  {
   "cell_type": "markdown",
   "id": "d1fc9567",
   "metadata": {},
   "source": [
    "**백슬래시 기호**"
   ]
  },
  {
   "cell_type": "markdown",
   "id": "2480ac4a",
   "metadata": {},
   "source": [
    "백슬래시 기호를 이스케이프 문자의 기능이 아닌 백슬래시 기호 자체로 문자열에 포함시키고자 \n",
    "할 때는 백슬래시를 두 번 연속 사용한다."
   ]
  },
  {
   "cell_type": "code",
   "execution_count": 42,
   "id": "c3b1a02b",
   "metadata": {},
   "outputs": [],
   "source": [
    "using_backslash = '백슬래시 기호 \\\\는 이스케이프 문자를 만들 때 사용함.'"
   ]
  },
  {
   "cell_type": "markdown",
   "id": "3a7e1d8c",
   "metadata": {},
   "source": [
    "`\\\\`에서 첫째 백슬래시는 이스케이프 기능으로, 둘째 백슬래시는 백슬래시 문자 자체로 이해된다."
   ]
  },
  {
   "cell_type": "code",
   "execution_count": 44,
   "id": "aec6101b",
   "metadata": {},
   "outputs": [
    {
     "name": "stdout",
     "output_type": "stream",
     "text": [
      "백슬래시 기호 \\는 이스케이프 문자를 만들 때 사용함.\n"
     ]
    }
   ],
   "source": [
    "print(using_backslash)"
   ]
  },
  {
   "cell_type": "markdown",
   "id": "fa52194a",
   "metadata": {},
   "source": [
    "**줄바꿈**"
   ]
  },
  {
   "cell_type": "markdown",
   "id": "fbd3d3a0",
   "metadata": {},
   "source": [
    "`\\n`은 줄바꿈을 의미하는 이스케이프 문자다."
   ]
  },
  {
   "cell_type": "code",
   "execution_count": 34,
   "id": "fca5cba8",
   "metadata": {},
   "outputs": [],
   "source": [
    "two_lines = '첫째줄\\n둘째줄.'"
   ]
  },
  {
   "cell_type": "markdown",
   "id": "73a1d59f",
   "metadata": {},
   "source": [
    "`print()` 함수를 이용하면 실제 의도한 대로 두 줄로 표현된다."
   ]
  },
  {
   "cell_type": "code",
   "execution_count": 33,
   "id": "999f6f1d",
   "metadata": {},
   "outputs": [
    {
     "name": "stdout",
     "output_type": "stream",
     "text": [
      "첫째줄\n",
      "둘째줄.\n"
     ]
    }
   ],
   "source": [
    "print(two_lines)"
   ]
  },
  {
   "cell_type": "markdown",
   "id": "675f05bd",
   "metadata": {},
   "source": [
    "**탭 추가**"
   ]
  },
  {
   "cell_type": "markdown",
   "id": "d5abecc9",
   "metadata": {},
   "source": [
    "`\\t`는 두 문자열 사이에 탭을 추가하는 이스케이프 문자다.\n",
    "탭은 보통 네 개의 스페이스키를 누르는 것에 해당한다."
   ]
  },
  {
   "cell_type": "code",
   "execution_count": 39,
   "id": "1dd01dc3",
   "metadata": {},
   "outputs": [],
   "source": [
    "using_tabs = '하나\\t둘\\t셋'"
   ]
  },
  {
   "cell_type": "markdown",
   "id": "a9f71e3b",
   "metadata": {},
   "source": [
    "`print()` 함수를 이용하면 탭이 두 번 사용되었음을 확인할 수 있다."
   ]
  },
  {
   "cell_type": "code",
   "execution_count": 41,
   "id": "8a541ca7",
   "metadata": {},
   "outputs": [
    {
     "name": "stdout",
     "output_type": "stream",
     "text": [
      "하나\t둘\t셋\n"
     ]
    }
   ],
   "source": [
    "print(using_tabs)"
   ]
  },
  {
   "cell_type": "markdown",
   "id": "0b44b368",
   "metadata": {},
   "source": [
    "### 날 문자열"
   ]
  },
  {
   "cell_type": "markdown",
   "id": "dfd4ffeb",
   "metadata": {},
   "source": [
    "앞서의 경우처럼 작은따옴표, 큰따옴표, 특수 문자에 대해 백슬래시를 사용하냐,\n",
    "그렇지 않냐를 걱정하는 것 대신에\n",
    "**날 문자열**<font size=\"2\">raw string</font>을 사용하면 보다 편리하다.\n",
    "날 문자열은 문자열 앞에 `r`을 추가해서 얻어지며\n",
    "그러면 문자열 안에 포함된 모든 특수 문자들의 기능이 제거된다."
   ]
  },
  {
   "cell_type": "code",
   "execution_count": 45,
   "id": "e7f31cbe",
   "metadata": {},
   "outputs": [
    {
     "name": "stdout",
     "output_type": "stream",
     "text": [
      "C:\\some\n",
      "ame\n"
     ]
    }
   ],
   "source": [
    "print('C:\\some\\name')  # 일반 문자열 사용. 줄바꿈 적용됨."
   ]
  },
  {
   "cell_type": "code",
   "execution_count": 46,
   "id": "1fe1a2bb",
   "metadata": {},
   "outputs": [
    {
     "name": "stdout",
     "output_type": "stream",
     "text": [
      "C:\\some\\name\n"
     ]
    }
   ],
   "source": [
    "print(r'C:\\some\\name')  # 날 문자열 사용. 줄바꿈 없음."
   ]
  },
  {
   "cell_type": "markdown",
   "id": "34d02622",
   "metadata": {},
   "source": [
    "## 문자열 연산"
   ]
  },
  {
   "cell_type": "markdown",
   "id": "5f5043ed",
   "metadata": {},
   "source": [
    "**`+`와 `*` 연산자**"
   ]
  },
  {
   "cell_type": "markdown",
   "id": "78959a30",
   "metadata": {},
   "source": [
    "문자열의 `+` 와 `*` 두 기호를 이용한 연산을 지원한다.\n",
    "\n",
    "`+` 연산자는 두 문자열을 이어붙인다."
   ]
  },
  {
   "cell_type": "code",
   "execution_count": 47,
   "id": "d8409423",
   "metadata": {},
   "outputs": [
    {
     "data": {
      "text/plain": [
       "'hellopython'"
      ]
     },
     "execution_count": 47,
     "metadata": {},
     "output_type": "execute_result"
    }
   ],
   "source": [
    "'hello' + 'python'"
   ]
  },
  {
   "cell_type": "code",
   "execution_count": 48,
   "id": "489e30fa",
   "metadata": {},
   "outputs": [
    {
     "data": {
      "text/plain": [
       "'hello, python'"
      ]
     },
     "execution_count": 48,
     "metadata": {},
     "output_type": "execute_result"
    }
   ],
   "source": [
    "'hello, ' + 'python'"
   ]
  },
  {
   "cell_type": "markdown",
   "id": "95ec1082",
   "metadata": {},
   "source": [
    "`*` 연산자는 정수와 문자열을 인자로 받아 정수 만큼 복제해서 이어붙인다."
   ]
  },
  {
   "cell_type": "code",
   "execution_count": 49,
   "id": "6dc1be0b",
   "metadata": {},
   "outputs": [
    {
     "data": {
      "text/plain": [
       "'hellohellohello'"
      ]
     },
     "execution_count": 49,
     "metadata": {},
     "output_type": "execute_result"
    }
   ],
   "source": [
    "3 * 'hello'"
   ]
  },
  {
   "cell_type": "code",
   "execution_count": 50,
   "id": "870f0cb8",
   "metadata": {},
   "outputs": [
    {
     "data": {
      "text/plain": [
       "'hello, hello, python'"
      ]
     },
     "execution_count": 50,
     "metadata": {},
     "output_type": "execute_result"
    }
   ],
   "source": [
    "2 * 'hello, ' + \"python\""
   ]
  },
  {
   "cell_type": "markdown",
   "id": "6e8d53d3-81eb-446d-b4d6-1f7c82484699",
   "metadata": {},
   "source": [
    "**`in` 연산자** \n",
    "\n",
    "문자열의 일부로 포함된 부분 문자열인지 여부를 판단하는 논리 연산자이다. "
   ]
  },
  {
   "cell_type": "code",
   "execution_count": 3,
   "id": "089fbce8-65ff-4ea0-8ad3-a671758de90d",
   "metadata": {},
   "outputs": [
    {
     "data": {
      "text/plain": [
       "True"
      ]
     },
     "execution_count": 3,
     "metadata": {},
     "output_type": "execute_result"
    }
   ],
   "source": [
    "'app' in 'apple'"
   ]
  },
  {
   "cell_type": "code",
   "execution_count": 4,
   "id": "837c97f7-8f37-4813-9057-f5d21e6af336",
   "metadata": {},
   "outputs": [
    {
     "data": {
      "text/plain": [
       "False"
      ]
     },
     "execution_count": 4,
     "metadata": {},
     "output_type": "execute_result"
    }
   ],
   "source": [
    "'h' in 'banana' "
   ]
  },
  {
   "cell_type": "code",
   "execution_count": 5,
   "id": "47af3f0c-9ba7-426b-b313-5a9ae5582ae6",
   "metadata": {},
   "outputs": [
    {
     "data": {
      "text/plain": [
       "True"
      ]
     },
     "execution_count": 5,
     "metadata": {},
     "output_type": "execute_result"
    }
   ],
   "source": [
    "'ca' not in 'coconut'"
   ]
  },
  {
   "cell_type": "markdown",
   "id": "7d78d685",
   "metadata": {},
   "source": [
    "빈 문자열과 함께 `in` 연산자를 사용하면 항상 거짓이 된다."
   ]
  },
  {
   "cell_type": "code",
   "execution_count": 11,
   "id": "ffaa0a03",
   "metadata": {},
   "outputs": [
    {
     "data": {
      "text/plain": [
       "False"
      ]
     },
     "execution_count": 11,
     "metadata": {},
     "output_type": "execute_result"
    }
   ],
   "source": [
    "'a' in \"\""
   ]
  },
  {
   "cell_type": "code",
   "execution_count": 12,
   "id": "43122d98",
   "metadata": {},
   "outputs": [
    {
     "data": {
      "text/plain": [
       "False"
      ]
     },
     "execution_count": 12,
     "metadata": {},
     "output_type": "execute_result"
    }
   ],
   "source": [
    "'b' in str()"
   ]
  },
  {
   "cell_type": "markdown",
   "id": "4e6995d4",
   "metadata": {},
   "source": [
    "**크기 비교 연산**"
   ]
  },
  {
   "cell_type": "markdown",
   "id": "a15a03b9",
   "metadata": {},
   "source": [
    "문자열은 사전식의 순서를 사용하며 공백문자, 소문자, 대문자 순으로 크기가 정해진다."
   ]
  },
  {
   "cell_type": "code",
   "execution_count": 6,
   "id": "6f82b898",
   "metadata": {},
   "outputs": [
    {
     "data": {
      "text/plain": [
       "True"
      ]
     },
     "execution_count": 6,
     "metadata": {},
     "output_type": "execute_result"
    }
   ],
   "source": [
    "'a' >= 'A'"
   ]
  },
  {
   "cell_type": "code",
   "execution_count": 7,
   "id": "8cbb87a2",
   "metadata": {},
   "outputs": [
    {
     "data": {
      "text/plain": [
       "False"
      ]
     },
     "execution_count": 7,
     "metadata": {},
     "output_type": "execute_result"
    }
   ],
   "source": [
    "'apple' < 'Hello, World!'"
   ]
  },
  {
   "cell_type": "code",
   "execution_count": 8,
   "id": "37c4c4ce",
   "metadata": {},
   "outputs": [
    {
     "data": {
      "text/plain": [
       "False"
      ]
     },
     "execution_count": 8,
     "metadata": {},
     "output_type": "execute_result"
    }
   ],
   "source": [
    "'Hello, World!' < ' hello'"
   ]
  },
  {
   "cell_type": "markdown",
   "id": "0871084c",
   "metadata": {},
   "source": [
    "빈 문자열은 다른 문자열보다 항상 작다."
   ]
  },
  {
   "cell_type": "code",
   "execution_count": 13,
   "id": "8a776be0",
   "metadata": {},
   "outputs": [
    {
     "data": {
      "text/plain": [
       "True"
      ]
     },
     "execution_count": 13,
     "metadata": {},
     "output_type": "execute_result"
    }
   ],
   "source": [
    "empty_str1 < 'a'"
   ]
  },
  {
   "cell_type": "markdown",
   "id": "2e51dd9b",
   "metadata": {},
   "source": [
    "**`min()`/`max()` 함수**"
   ]
  },
  {
   "cell_type": "markdown",
   "id": "4404bc1e",
   "metadata": {},
   "source": [
    "문자열에 사용된 가장 작은 또는 가장 큰 값의 기호를 반환한다."
   ]
  },
  {
   "cell_type": "code",
   "execution_count": 9,
   "id": "ef48931a",
   "metadata": {},
   "outputs": [
    {
     "data": {
      "text/plain": [
       "'p'"
      ]
     },
     "execution_count": 9,
     "metadata": {},
     "output_type": "execute_result"
    }
   ],
   "source": [
    "max('apple')"
   ]
  },
  {
   "cell_type": "code",
   "execution_count": 10,
   "id": "20fedc91",
   "metadata": {},
   "outputs": [
    {
     "data": {
      "text/plain": [
       "'r'"
      ]
     },
     "execution_count": 10,
     "metadata": {},
     "output_type": "execute_result"
    }
   ],
   "source": [
    "max('Hello, World!')"
   ]
  },
  {
   "cell_type": "code",
   "execution_count": 11,
   "id": "c10e6db1",
   "metadata": {},
   "outputs": [
    {
     "data": {
      "text/plain": [
       "'a'"
      ]
     },
     "execution_count": 11,
     "metadata": {},
     "output_type": "execute_result"
    }
   ],
   "source": [
    "min('banana')"
   ]
  },
  {
   "cell_type": "code",
   "execution_count": 12,
   "id": "03f0745d",
   "metadata": {},
   "outputs": [
    {
     "data": {
      "text/plain": [
       "' '"
      ]
     },
     "execution_count": 12,
     "metadata": {},
     "output_type": "execute_result"
    }
   ],
   "source": [
    "min('Hello, World!')"
   ]
  },
  {
   "cell_type": "markdown",
   "id": "a3c5c738",
   "metadata": {},
   "source": [
    "빈 문자열은 최대, 최소가 존재하지 않는다. \n",
    "따라서 `min()`, `max()` 함수와 함께 호출하면 오류가 발생한다."
   ]
  },
  {
   "cell_type": "code",
   "execution_count": 14,
   "id": "79ef201d",
   "metadata": {},
   "outputs": [
    {
     "ename": "ValueError",
     "evalue": "max() arg is an empty sequence",
     "output_type": "error",
     "traceback": [
      "\u001b[0;31m---------------------------------------------------------------------------\u001b[0m",
      "\u001b[0;31mValueError\u001b[0m                                Traceback (most recent call last)",
      "Cell \u001b[0;32mIn[14], line 1\u001b[0m\n\u001b[0;32m----> 1\u001b[0m \u001b[38;5;28mmax\u001b[39m(empty_str1)\n",
      "\u001b[0;31mValueError\u001b[0m: max() arg is an empty sequence"
     ]
    }
   ],
   "source": [
    "max(empty_str1)"
   ]
  },
  {
   "cell_type": "markdown",
   "id": "afc68940-a4e2-42f5-92ea-a0adf8b2dc8e",
   "metadata": {},
   "source": [
    "**`len()` 함수**\n",
    "\n",
    "문자열의 길이, 즉 문자열에 포함된 기호의 개수를 반환한다."
   ]
  },
  {
   "cell_type": "code",
   "execution_count": 13,
   "id": "356e853e-8468-4f8d-8a85-139433dab0f1",
   "metadata": {},
   "outputs": [
    {
     "data": {
      "text/plain": [
       "5"
      ]
     },
     "execution_count": 13,
     "metadata": {},
     "output_type": "execute_result"
    }
   ],
   "source": [
    "len('apple')"
   ]
  },
  {
   "cell_type": "code",
   "execution_count": 14,
   "id": "bfd270c5-95ca-4ecb-8454-ec35c55fc52f",
   "metadata": {},
   "outputs": [
    {
     "data": {
      "text/plain": [
       "13"
      ]
     },
     "execution_count": 14,
     "metadata": {},
     "output_type": "execute_result"
    }
   ],
   "source": [
    "len('hello, world!')"
   ]
  },
  {
   "cell_type": "markdown",
   "id": "7322d96a",
   "metadata": {},
   "source": [
    "화이트 스페이스는 모두 하나의 기호로 간주된다."
   ]
  },
  {
   "cell_type": "code",
   "execution_count": 15,
   "id": "b2fc7615",
   "metadata": {},
   "outputs": [
    {
     "data": {
      "text/plain": [
       "14"
      ]
     },
     "execution_count": 15,
     "metadata": {},
     "output_type": "execute_result"
    }
   ],
   "source": [
    "len('hello,\\t\\nworld!')"
   ]
  },
  {
   "cell_type": "markdown",
   "id": "d384dcf7",
   "metadata": {},
   "source": [
    "빈 문자열의 길이는 0이다."
   ]
  },
  {
   "cell_type": "code",
   "execution_count": 15,
   "id": "1950846d",
   "metadata": {},
   "outputs": [
    {
     "data": {
      "text/plain": [
       "0"
      ]
     },
     "execution_count": 15,
     "metadata": {},
     "output_type": "execute_result"
    }
   ],
   "source": [
    "len(empty_str2)"
   ]
  },
  {
   "cell_type": "markdown",
   "id": "4dbe7a8b",
   "metadata": {},
   "source": [
    "## 순차 자료형: 문자열"
   ]
  },
  {
   "cell_type": "markdown",
   "id": "e21eb2f1",
   "metadata": {},
   "source": [
    "문자열은 포함된 문자와 기호의 순서를 중요하게 여기는\n",
    "**순차 자료형**<font size='2'>sequence type</font>이다.\n",
    "따라서 문자열의 항목으로 포함된 문자와 기호의 순서 또는 개수가 다르면 서로 다른 문자열로 처리된다."
   ]
  },
  {
   "cell_type": "code",
   "execution_count": 1,
   "id": "37d0c38e",
   "metadata": {},
   "outputs": [
    {
     "data": {
      "text/plain": [
       "False"
      ]
     },
     "execution_count": 1,
     "metadata": {},
     "output_type": "execute_result"
    }
   ],
   "source": [
    "'ab' == 'ba'"
   ]
  },
  {
   "cell_type": "code",
   "execution_count": 2,
   "id": "852a5115",
   "metadata": {},
   "outputs": [
    {
     "data": {
      "text/plain": [
       "False"
      ]
     },
     "execution_count": 2,
     "metadata": {},
     "output_type": "execute_result"
    }
   ],
   "source": [
    "'aa' == 'aaa'"
   ]
  },
  {
   "cell_type": "markdown",
   "id": "8c4140e3",
   "metadata": {},
   "source": [
    "영어 알파벳의 경우 대소문자도 구별된다."
   ]
  },
  {
   "cell_type": "code",
   "execution_count": 1,
   "id": "14ff89d1",
   "metadata": {},
   "outputs": [
    {
     "data": {
      "text/plain": [
       "False"
      ]
     },
     "execution_count": 1,
     "metadata": {},
     "output_type": "execute_result"
    }
   ],
   "source": [
    "\"python\" == \"Python\""
   ]
  },
  {
   "cell_type": "markdown",
   "id": "a85e268b-49a7-4d42-9738-96c6d5e004fa",
   "metadata": {},
   "source": [
    "### 문자열 인덱싱"
   ]
  },
  {
   "cell_type": "markdown",
   "id": "9c38cc2c-8ab3-4a97-a414-e63a1ada4305",
   "metadata": {},
   "source": [
    "문자열은 문자 여러 개의 나열이며 문자들 사이의 순서가 중요하다.\n",
    "이때 문자열 왼편에 위치한 문자부터 차례대로 0, 1, 2, 3 등의\n",
    "**인덱스**<font size=\"2\">index</font>를 부여받는다.\n",
    "**인덱싱**<font size=\"2\">indexing</font>은 \n",
    "인덱스를 이용하여 문자열의 항목을 확인하는 기능이다."
   ]
  },
  {
   "cell_type": "code",
   "execution_count": 16,
   "id": "1632af09",
   "metadata": {},
   "outputs": [],
   "source": [
    "colors = 'red, blue, yellow'"
   ]
  },
  {
   "cell_type": "code",
   "execution_count": 17,
   "id": "d596653f",
   "metadata": {},
   "outputs": [
    {
     "data": {
      "text/plain": [
       "'r'"
      ]
     },
     "execution_count": 17,
     "metadata": {},
     "output_type": "execute_result"
    }
   ],
   "source": [
    "colors[0] #0번 인덱스 값"
   ]
  },
  {
   "cell_type": "code",
   "execution_count": 18,
   "id": "e256b856-af80-42d6-a0ce-2d9d787a7e05",
   "metadata": {},
   "outputs": [
    {
     "data": {
      "text/plain": [
       "'b'"
      ]
     },
     "execution_count": 18,
     "metadata": {},
     "output_type": "execute_result"
    }
   ],
   "source": [
    "colors[5] #3번 인덱스 값"
   ]
  },
  {
   "cell_type": "markdown",
   "id": "7559128f-c98c-4939-b02f-d1e8a2d0a2c7",
   "metadata": {},
   "source": [
    "문자열의 길이와 같거나 큰 인덱스를 사용하면 오류가 발생한다. \n",
    "\n",
    "```python\n",
    ">>> len(colors)\n",
    "17\n",
    ">>> colors[50]\n",
    "IndexError                                Traceback (most recent call last)\n",
    "/tmp/ipykernel_1817/3232567937.py in <module>\n",
    "----> 1 colors[50]\n",
    "\n",
    "IndexError: string index out of range\n",
    "```"
   ]
  },
  {
   "cell_type": "markdown",
   "id": "931036c1-1df6-406c-990d-7c23627730a2",
   "metadata": {},
   "source": [
    "인덱스를 문자열 오른쪽에서부터 차례대로 -1, -2, -3 등 음수로 지정할 수도 있다."
   ]
  },
  {
   "cell_type": "code",
   "execution_count": 19,
   "id": "7ac4b3da-194f-4540-9ed2-1ecd0b20bb4c",
   "metadata": {},
   "outputs": [
    {
     "data": {
      "text/plain": [
       "'w'"
      ]
     },
     "execution_count": 19,
     "metadata": {},
     "output_type": "execute_result"
    }
   ],
   "source": [
    "colors[-1] # 오른쪽 끝에 위치한 문자"
   ]
  },
  {
   "cell_type": "code",
   "execution_count": 20,
   "id": "279d307c-5d35-4ac2-ab78-374351634612",
   "metadata": {},
   "outputs": [
    {
     "data": {
      "text/plain": [
       "'o'"
      ]
     },
     "execution_count": 20,
     "metadata": {},
     "output_type": "execute_result"
    }
   ],
   "source": [
    "colors[-2] # 오른쪽 끝에서 두 번째 문자"
   ]
  },
  {
   "cell_type": "markdown",
   "id": "1483771a",
   "metadata": {},
   "source": [
    "### 문자열 슬라이싱"
   ]
  },
  {
   "cell_type": "markdown",
   "id": "6ff7500f-0825-4ea7-8096-8c0072e7235e",
   "metadata": {
    "tags": []
   },
   "source": [
    "인덱스의 특정 구간에 해당하는 부분 문자열을 확인하려 할 때는 \n",
    "**슬라이싱**<font size = \"2\">slicing</font>을 사용한다.\n",
    "슬라이싱은 다음과 같이 실행한다.  \n",
    "\n",
    "* 시작 인덱스 : 시작 인덱스부터 문자 확인\n",
    "* 끝 인덱스 : 끝 인덱스 이전까지의 문자 확인\n",
    "* 보폭: 시작 인덱스부터 몇 보폭씩 건너뛰며 문자를 추출할지 결정. \n",
    "    보폭의 크기가 1이면 생략 가능."
   ]
  },
  {
   "cell_type": "code",
   "execution_count": 51,
   "id": "a8a02eab-a16d-4b62-a7f9-fd6675368f55",
   "metadata": {},
   "outputs": [],
   "source": [
    "colors = 'red, blue, yellow'"
   ]
  },
  {
   "cell_type": "markdown",
   "id": "23912c81-c71d-47c3-9aa2-573e8867f26f",
   "metadata": {},
   "source": [
    "`colors`에서 `red`를 추출하고 싶다면 다음과 같이 하면 된다. "
   ]
  },
  {
   "cell_type": "code",
   "execution_count": 58,
   "id": "fbebed05",
   "metadata": {},
   "outputs": [
    {
     "data": {
      "text/plain": [
       "'red'"
      ]
     },
     "execution_count": 58,
     "metadata": {},
     "output_type": "execute_result"
    }
   ],
   "source": [
    "colors[0:3]"
   ]
  },
  {
   "cell_type": "code",
   "execution_count": 59,
   "id": "751e319e",
   "metadata": {},
   "outputs": [
    {
     "data": {
      "text/plain": [
       "'red'"
      ]
     },
     "execution_count": 59,
     "metadata": {},
     "output_type": "execute_result"
    }
   ],
   "source": [
    "colors[0:3:1]"
   ]
  },
  {
   "cell_type": "markdown",
   "id": "e9235d41-72ce-469f-b71f-5f2ee9f12b93",
   "metadata": {},
   "source": [
    "`colors`에서 `b`부터 끝까지 하나씩 건너서 추출하려면 다음과 같이 하면 된다. "
   ]
  },
  {
   "cell_type": "code",
   "execution_count": 60,
   "id": "b9016767-c4b3-4f19-aa57-37f3baf0167e",
   "metadata": {},
   "outputs": [
    {
     "data": {
      "text/plain": [
       "'bu,ylo'"
      ]
     },
     "execution_count": 60,
     "metadata": {},
     "output_type": "execute_result"
    }
   ],
   "source": [
    "colors[5:len(colors):2]"
   ]
  },
  {
   "cell_type": "markdown",
   "id": "d2500f09-12fe-407c-b396-09c94da53578",
   "metadata": {},
   "source": [
    "양의 정수와 음의 정수를 섞어서 인덱스로 사용할 수 있다."
   ]
  },
  {
   "cell_type": "code",
   "execution_count": 61,
   "id": "b0d3b26d-5f98-49e6-ae6f-f32d2b42875b",
   "metadata": {},
   "outputs": [
    {
     "data": {
      "text/plain": [
       "'bu,ylo'"
      ]
     },
     "execution_count": 61,
     "metadata": {},
     "output_type": "execute_result"
    }
   ],
   "source": [
    "colors[5:-1:2]"
   ]
  },
  {
   "cell_type": "markdown",
   "id": "b7f8c0ba-3e3b-45c2-ad2c-9f911cb6aa8d",
   "metadata": {},
   "source": [
    "시작인덱스, 끝인덱스, 보폭 각각의 인자는 경우에 따라 생략될 수도 있다. \n",
    "그럴 때는 각각의 위치에 대해 설정된 기본값이 사용된다.\n",
    "\n",
    "* `시작 인덱스`의 기본값 : `0`  \n",
    "* `끝 인덱스`의 기본값 : 문자열의 길이  \n",
    "* `보폭`의 기본값 : `1`"
   ]
  },
  {
   "cell_type": "code",
   "execution_count": 62,
   "id": "c26ea62e-c1d2-46fa-b4c3-09cdf756b032",
   "metadata": {},
   "outputs": [
    {
     "data": {
      "text/plain": [
       "'red'"
      ]
     },
     "execution_count": 62,
     "metadata": {},
     "output_type": "execute_result"
    }
   ],
   "source": [
    "colors[:3:]"
   ]
  },
  {
   "cell_type": "code",
   "execution_count": 63,
   "id": "0ab0f20a-f247-4baf-8d55-d9bdf4024594",
   "metadata": {},
   "outputs": [
    {
     "data": {
      "text/plain": [
       "'red'"
      ]
     },
     "execution_count": 63,
     "metadata": {},
     "output_type": "execute_result"
    }
   ],
   "source": [
    "colors[:3] #보폭을 생략할 떄는 콜론(:)도 함께 생략가능"
   ]
  },
  {
   "cell_type": "code",
   "execution_count": 64,
   "id": "80f73adf-2d2c-4d05-8c73-ec6a482c7335",
   "metadata": {},
   "outputs": [
    {
     "data": {
      "text/plain": [
       "'bu,ylo'"
      ]
     },
     "execution_count": 64,
     "metadata": {},
     "output_type": "execute_result"
    }
   ],
   "source": [
    "colors[5::2]"
   ]
  },
  {
   "cell_type": "markdown",
   "id": "99428d4f",
   "metadata": {},
   "source": [
    "문자열의 인덱스 범위를 벗어나는 값으로 슬라이싱을 실행해도 오류가 발생하지 않는다.\n",
    "대신 문자열의 좌 또는 우 끝까지만 슬라이싱이 적용된다."
   ]
  },
  {
   "cell_type": "code",
   "execution_count": 65,
   "id": "5306c6e2",
   "metadata": {},
   "outputs": [
    {
     "data": {
      "text/plain": [
       "'bu,ylo'"
      ]
     },
     "execution_count": 65,
     "metadata": {},
     "output_type": "execute_result"
    }
   ],
   "source": [
    "colors[5:100:2]"
   ]
  },
  {
   "cell_type": "markdown",
   "id": "086a978f",
   "metadata": {},
   "source": [
    "**역순 슬라이싱**\n",
    "\n",
    "슬라이싱은 기본적으로 작은 인덱스에서 큰 인덱스 방향으로 확인한다. \n",
    "하지만 역순으로 확인하고자 한다면 보폭에 음의 정수를 사용하면 된다.\n",
    "보폭이 `-1`이고, 시작 인덱스와 끝 인덱스를 생략하면 문자열 전체를 역순으로 확인한다."
   ]
  },
  {
   "cell_type": "code",
   "execution_count": 57,
   "id": "ff7ed75c",
   "metadata": {},
   "outputs": [
    {
     "data": {
      "text/plain": [
       "'wolley ,eulb ,der'"
      ]
     },
     "execution_count": 57,
     "metadata": {},
     "output_type": "execute_result"
    }
   ],
   "source": [
    "colors[::-1]"
   ]
  },
  {
   "cell_type": "code",
   "execution_count": 56,
   "id": "31fc6b6a",
   "metadata": {},
   "outputs": [
    {
     "data": {
      "text/plain": [
       "'olley '"
      ]
     },
     "execution_count": 56,
     "metadata": {},
     "output_type": "execute_result"
    }
   ],
   "source": [
    "colors[-2:-8:-1]"
   ]
  },
  {
   "cell_type": "markdown",
   "id": "e736e8b4",
   "metadata": {},
   "source": [
    "### 문자열 변경"
   ]
  },
  {
   "cell_type": "markdown",
   "id": "f4e4c102",
   "metadata": {},
   "source": [
    "문자열은 불변 자료형이라 인덱싱 또는 슬라이싱을 사용하여 값의 일부를 변경할 수 없다."
   ]
  },
  {
   "cell_type": "code",
   "execution_count": 70,
   "id": "8d648835",
   "metadata": {},
   "outputs": [
    {
     "ename": "TypeError",
     "evalue": "'str' object does not support item assignment",
     "output_type": "error",
     "traceback": [
      "\u001b[0;31m---------------------------------------------------------------------------\u001b[0m",
      "\u001b[0;31mTypeError\u001b[0m                                 Traceback (most recent call last)",
      "Cell \u001b[0;32mIn[70], line 2\u001b[0m\n\u001b[1;32m      1\u001b[0m word \u001b[38;5;241m=\u001b[39m \u001b[38;5;124m'\u001b[39m\u001b[38;5;124mhello\u001b[39m\u001b[38;5;124m'\u001b[39m\n\u001b[0;32m----> 2\u001b[0m word[\u001b[38;5;241m0\u001b[39m] \u001b[38;5;241m=\u001b[39m \u001b[38;5;124m'\u001b[39m\u001b[38;5;124mH\u001b[39m\u001b[38;5;124m'\u001b[39m\n",
      "\u001b[0;31mTypeError\u001b[0m: 'str' object does not support item assignment"
     ]
    }
   ],
   "source": [
    "word = 'hello'\n",
    "word[0] = 'H'"
   ]
  },
  {
   "cell_type": "markdown",
   "id": "55ec5f41",
   "metadata": {},
   "source": [
    "문자열을 수정하는 대신 인덱싱, 슬라이싱, 문자열 연산을 활용하여 \n",
    "필요한 문자열을 생성해야 한다."
   ]
  },
  {
   "cell_type": "code",
   "execution_count": 71,
   "id": "905ce524",
   "metadata": {},
   "outputs": [
    {
     "data": {
      "text/plain": [
       "'Hello'"
      ]
     },
     "execution_count": 71,
     "metadata": {},
     "output_type": "execute_result"
    }
   ],
   "source": [
    "'H' + word[1:]"
   ]
  },
  {
   "cell_type": "markdown",
   "id": "55989729",
   "metadata": {},
   "source": [
    "## 문자열 메서드 "
   ]
  },
  {
   "cell_type": "markdown",
   "id": "d12183aa-af4a-4207-9c4f-49b2419f75cc",
   "metadata": {},
   "source": [
    "문자열 자료형에만 사용하는 함수들이 있다. 이와같이 특정 자료형에만 사용하는 함수들을 메서드<font size = \"2\">method</font>라 부른다.\n",
    "메서드는 일반적인 함수들과는 달리, 특정 자료형의 값을 먼저 언급하고 바로 이어서 점(`.`)을 찍은 다음 호출한다."
   ]
  },
  {
   "cell_type": "markdown",
   "id": "b5f17304",
   "metadata": {},
   "source": [
    "문자열 자료형이 제공하는 주요 메서드는 아래 표와 같다. "
   ]
  },
  {
   "cell_type": "markdown",
   "id": "79185a79-a39c-4306-9be3-ab280dc40e13",
   "metadata": {},
   "source": [
    "|메서드|설명|\n",
    "|:---|:---|\n",
    "|`count()`|지정된 문자열이 등장한 횟수 반환|\n",
    "|`find()`|지정된 문자열이 처음 등장한 위치 반환. 지정된 문자열이 없다면 -1반환|\n",
    "|`index()`|지정된 문자열이 처음 등장한 위치 반환. 지정된 문자열이 없다면 오류발생|\n",
    "|`lower()`|문자열에 사용된 문자를 모두 소문자로 변환한 문자열 반환|`words.lower()`|\n",
    "|`upper()`|문자열에 사용된 문자를 모두 대문자로 변환한 문자열 반환|`words.upper()`|\n",
    "|`replace()`|하나의 문자열을 다른 문자열로 대체한 문자열 반환|`words.replace('so ', '')`|\n",
    "|`lstrip()`|문자열 왼쪽에서 지정된 부분 문자열을 삭제한 문자열 반환. 지정된 부분 문자열이 없는 경우 왼쪽 공백들을 삭제한 문자열 반환|\n",
    "|`rstrip()`|문자열 오른쪽에서 지정된 부분 문자열을 삭제한 문자열 반환. 지정된 부분 문자열이 없는 경우 오른쪽 공백들을 삭제한 문자열 반환|\n",
    "|`strip()`|문자열 양쪽에서 지정된 부분 문자열을 삭제한 문자열 반환. 지정된 문자열이 없는 경우 양쪽 공백들을 삭제한 문자열 반환|\n",
    "|`split()`|문자열을 지정된 기준으로 쪼개서 생성된 문자열들로 구성된 리스트 반환. 지정된 문자열이 없는 경우 공백을 기준 사용|\n",
    "|`join()`|지정된 문자열에 포함된 모든 문자들 사이에 지정된 문자열이 삽입된 문자열 반환|"
   ]
  },
  {
   "cell_type": "markdown",
   "id": "93c7d2cd",
   "metadata": {},
   "source": [
    "**`count()` 메서드**"
   ]
  },
  {
   "cell_type": "code",
   "execution_count": 29,
   "id": "869ed2fe",
   "metadata": {},
   "outputs": [],
   "source": [
    "words = \" My life is so cool, my life is so cool \""
   ]
  },
  {
   "cell_type": "code",
   "execution_count": 30,
   "id": "45340a57",
   "metadata": {},
   "outputs": [
    {
     "data": {
      "text/plain": [
       "2"
      ]
     },
     "execution_count": 30,
     "metadata": {},
     "output_type": "execute_result"
    }
   ],
   "source": [
    "words.count('so')"
   ]
  },
  {
   "cell_type": "markdown",
   "id": "5f256f1e",
   "metadata": {},
   "source": [
    "**`find()` 메서드**"
   ]
  },
  {
   "cell_type": "code",
   "execution_count": 31,
   "id": "f9cc9acd",
   "metadata": {},
   "outputs": [
    {
     "data": {
      "text/plain": [
       "4"
      ]
     },
     "execution_count": 31,
     "metadata": {},
     "output_type": "execute_result"
    }
   ],
   "source": [
    "words.find('life')"
   ]
  },
  {
   "cell_type": "markdown",
   "id": "cfc1e51b",
   "metadata": {},
   "source": [
    "**`index()` 메서드**"
   ]
  },
  {
   "cell_type": "code",
   "execution_count": 32,
   "id": "8eed87ab",
   "metadata": {},
   "outputs": [
    {
     "data": {
      "text/plain": [
       "1"
      ]
     },
     "execution_count": 32,
     "metadata": {},
     "output_type": "execute_result"
    }
   ],
   "source": [
    "words.index('My')"
   ]
  },
  {
   "cell_type": "markdown",
   "id": "c9aba52e",
   "metadata": {},
   "source": [
    "**`lower()` 메서드**"
   ]
  },
  {
   "cell_type": "code",
   "execution_count": 33,
   "id": "2a2c9d04",
   "metadata": {},
   "outputs": [
    {
     "data": {
      "text/plain": [
       "' my life is so cool, my life is so cool '"
      ]
     },
     "execution_count": 33,
     "metadata": {},
     "output_type": "execute_result"
    }
   ],
   "source": [
    "words.lower()"
   ]
  },
  {
   "cell_type": "markdown",
   "id": "502f4b2e",
   "metadata": {},
   "source": [
    "**`upper()` 메서드**"
   ]
  },
  {
   "cell_type": "code",
   "execution_count": 34,
   "id": "42cad500",
   "metadata": {},
   "outputs": [
    {
     "data": {
      "text/plain": [
       "' MY LIFE IS SO COOL, MY LIFE IS SO COOL '"
      ]
     },
     "execution_count": 34,
     "metadata": {},
     "output_type": "execute_result"
    }
   ],
   "source": [
    "words.upper()"
   ]
  },
  {
   "cell_type": "markdown",
   "id": "fdfd47b4",
   "metadata": {},
   "source": [
    "**`replace()` 메서드**"
   ]
  },
  {
   "cell_type": "code",
   "execution_count": 35,
   "id": "f4480c4c",
   "metadata": {},
   "outputs": [
    {
     "data": {
      "text/plain": [
       "' My life is thatcool, my life is thatcool '"
      ]
     },
     "execution_count": 35,
     "metadata": {},
     "output_type": "execute_result"
    }
   ],
   "source": [
    "words.replace('so ', 'that')"
   ]
  },
  {
   "cell_type": "markdown",
   "id": "ca9e389e",
   "metadata": {},
   "source": [
    "**`lstrip()` 메서드**"
   ]
  },
  {
   "cell_type": "code",
   "execution_count": 36,
   "id": "bd464876",
   "metadata": {},
   "outputs": [
    {
     "data": {
      "text/plain": [
       "'My life is so cool, my life is so cool '"
      ]
     },
     "execution_count": 36,
     "metadata": {},
     "output_type": "execute_result"
    }
   ],
   "source": [
    "words.lstrip()"
   ]
  },
  {
   "cell_type": "markdown",
   "id": "02e26450",
   "metadata": {},
   "source": [
    "**`rstrip()` 메서드**"
   ]
  },
  {
   "cell_type": "code",
   "execution_count": 37,
   "id": "bf0f4c92",
   "metadata": {},
   "outputs": [
    {
     "data": {
      "text/plain": [
       "' My life is so cool, my life is so cool'"
      ]
     },
     "execution_count": 37,
     "metadata": {},
     "output_type": "execute_result"
    }
   ],
   "source": [
    "words.rstrip()"
   ]
  },
  {
   "cell_type": "markdown",
   "id": "b6e3eeaa",
   "metadata": {},
   "source": [
    "**`strip()` 메서드**"
   ]
  },
  {
   "cell_type": "code",
   "execution_count": 38,
   "id": "fa399768",
   "metadata": {},
   "outputs": [
    {
     "data": {
      "text/plain": [
       "'My life is so cool, my life is so cool'"
      ]
     },
     "execution_count": 38,
     "metadata": {},
     "output_type": "execute_result"
    }
   ],
   "source": [
    "words.strip()"
   ]
  },
  {
   "cell_type": "markdown",
   "id": "e597a1d5",
   "metadata": {},
   "source": [
    "**`split()` 메서드**"
   ]
  },
  {
   "cell_type": "code",
   "execution_count": 39,
   "id": "c98572a8",
   "metadata": {},
   "outputs": [
    {
     "data": {
      "text/plain": [
       "['My', 'life', 'is', 'so', 'cool,', 'my', 'life', 'is', 'so', 'cool']"
      ]
     },
     "execution_count": 39,
     "metadata": {},
     "output_type": "execute_result"
    }
   ],
   "source": [
    "words.split()"
   ]
  },
  {
   "cell_type": "markdown",
   "id": "8ce09a8b",
   "metadata": {},
   "source": [
    "**`join()` 메서드**"
   ]
  },
  {
   "cell_type": "code",
   "execution_count": 40,
   "id": "e060d9f0",
   "metadata": {},
   "outputs": [
    {
     "data": {
      "text/plain": [
       "'H--e--l--l--o'"
      ]
     },
     "execution_count": 40,
     "metadata": {},
     "output_type": "execute_result"
    }
   ],
   "source": [
    "'--'.join('Hello')"
   ]
  },
  {
   "cell_type": "markdown",
   "id": "3856cb4a",
   "metadata": {},
   "source": [
    "## 연습문제"
   ]
  },
  {
   "cell_type": "markdown",
   "id": "17fcce4f",
   "metadata": {},
   "source": [
    "참고: [(실습) 문자열](https://colab.research.google.com/github/codingalzi/pybook/blob/master/practices/practice-strings.ipynb)"
   ]
  }
 ],
 "metadata": {
  "kernelspec": {
   "display_name": "Python 3 (ipykernel)",
   "language": "python",
   "name": "python3"
  },
  "language_info": {
   "codemirror_mode": {
    "name": "ipython",
    "version": 3
   },
   "file_extension": ".py",
   "mimetype": "text/x-python",
   "name": "python",
   "nbconvert_exporter": "python",
   "pygments_lexer": "ipython3",
   "version": "3.11.4"
  },
  "toc-autonumbering": true,
  "vscode": {
   "interpreter": {
    "hash": "6c86b3592b6800d985c04531f2c445f0fa6967131b8dd6395a925f7622e55602"
   }
  }
 },
 "nbformat": 4,
 "nbformat_minor": 5
}
