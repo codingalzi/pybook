{
 "cells": [
  {
   "cell_type": "markdown",
   "metadata": {},
   "source": [
    "# 반복문"
   ]
  },
  {
   "cell_type": "markdown",
   "metadata": {},
   "source": [
    "특정 명령문을 반복<font size=\"2\">iteration</font> 실행하는 장치인 \n",
    "반복문<font size=\"2\">loop statement</font>을 소개한다."
   ]
  },
  {
   "cell_type": "markdown",
   "metadata": {},
   "source": [
    "## 변수 재할당과 변수 업데이트"
   ]
  },
  {
   "cell_type": "markdown",
   "metadata": {},
   "source": [
    "변수 재할당<font size=\"2\">variable reassignment</font>은\n",
    "변수가 가리키는 값은 변경하는 것이다.\n",
    "예를 들어 아래 코드는 변수 `x`가 가리키는 값을 5에서 7로 재할당한다.\n",
    "반면에 변수 `y`는 계속해서 5를 가리킨다.\n",
    "\n",
    "```python\n",
    ">>> x = 5\n",
    ">>> y = x\n",
    ">>> x = 7\n",
    ">>> x + y\n",
    "12\n",
    "```"
   ]
  },
  {
   "cell_type": "markdown",
   "metadata": {},
   "source": [
    "반복문의 핵심은 특정 변수가 가리키는 이전에 가리키던 값을 이용하여 생성된 다른 값으로 재할당하는\n",
    "하는 것이며, 이를 \n",
    "**변수 없데이트**<font size=\"2\">variable update</font>라 한다. \n",
    "대표적으로 아래와 같은 표현식이 많이 사용된다.\n",
    "\n",
    "```python\n",
    ">>> x = x + 1\n",
    "```\n",
    "\n",
    "위 할당문은 변수 `x`가 가리키던 값에 1을 더한 값을 다시 \n",
    "변수 `x`에 할당하라고 명령한다. \n",
    "만약에 변수 `x` 가 0을 가리키고 있었다면 위 명령문이 반복 실행될 때마다\n",
    "`x`가 가리키는 값은 1, 2, 3 등으로 계속해서 변한다.\n",
    "\n",
    "반면에 아래 명령문은 변수 `x`가 가리키는 값을 \n",
    "1만큼 줄여서 재할당한다.\n",
    "\n",
    "```python\n",
    ">>> x = x - 1\n",
    "```\n",
    "\n",
    "반복문의 핵심중의 하나가 바로 변수 업데이트이다. "
   ]
  },
  {
   "cell_type": "markdown",
   "metadata": {},
   "source": [
    "## while 반복문"
   ]
  },
  {
   "cell_type": "markdown",
   "metadata": {},
   "source": [
    "동일한 작업을 반복...."
   ]
  },
  {
   "cell_type": "markdown",
   "metadata": {},
   "source": [
    "## for 반복문"
   ]
  }
 ],
 "metadata": {
  "kernelspec": {
   "display_name": "Python 3 (ipykernel)",
   "language": "python",
   "name": "python3"
  },
  "language_info": {
   "codemirror_mode": {
    "name": "ipython",
    "version": 3
   },
   "file_extension": ".py",
   "mimetype": "text/x-python",
   "name": "python",
   "nbconvert_exporter": "python",
   "pygments_lexer": "ipython3",
   "version": "3.9.7"
  }
 },
 "nbformat": 4,
 "nbformat_minor": 1
}
