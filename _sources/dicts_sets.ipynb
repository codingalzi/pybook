{
 "cells": [
  {
   "cell_type": "markdown",
   "id": "97dde457",
   "metadata": {},
   "source": [
    "(ch:dicts-sets)=\n",
    "# 사전과 집합"
   ]
  },
  {
   "cell_type": "markdown",
   "id": "ac0cd5d3",
   "metadata": {},
   "source": [
    "두 개의 비순차 자료형 사전과 집합을 소개한다.\n",
    "비순차 자료형은 문자열, 리스트, 튜플과는 달리 순서를 따지지 않으며 항목의 중복도 허용하지 않는다.\n",
    "사전은 프로그래밍언어에 따라 연관배열, 맵 등으로 불리기도 하며 매우 다양하게 활용된다.\n",
    "집합과 사전은 해시 가능한 값만을 이용하기에 해시 가능성도 함께 소개한다. \n",
    "이후에는 논리식을 이용하여 간편하게 리스트와 정의하는 조건제시법을 다룬다."
   ]
  },
  {
   "cell_type": "markdown",
   "id": "0b8afc70",
   "metadata": {
    "tags": []
   },
   "source": [
    "## 사전 "
   ]
  },
  {
   "cell_type": "markdown",
   "id": "c2a79eaf",
   "metadata": {
    "tags": []
   },
   "source": [
    "사전 자료형은 **키**<font size = \"2\">key</font>와 **값**<font size = \"2\">value</font>의\n",
    "쌍으로 구성된 항목들의 집합이며, **딕셔너리**<font size = \"2\">dictionary</font> 라고도 불린다.\n",
    "예를 들어, `'Hello'` 와 `'World'` 를 키로, `'안녕'`, `'세계'` 를 각각의 키에 대한 값으로\n",
    "갖는 사전은 다음과 같다.\n",
    "\n",
    "```python\n",
    "{'Hello':'안녕', 'World':'세계'}\n",
    "```"
   ]
  },
  {
   "cell_type": "markdown",
   "id": "fbc7ef2b-bbb9-44ff-9078-740d1c17fdbd",
   "metadata": {},
   "source": [
    "**빈 사전**"
   ]
  },
  {
   "cell_type": "markdown",
   "id": "2e8e8b8b-c4ce-4c3a-9939-d47d8422b920",
   "metadata": {},
   "source": [
    "빈 사전은 아무것도 포함하지 않는 사전을 의미한다. 빈 사전를 만드는 방법은 아래와 같다. "
   ]
  },
  {
   "cell_type": "code",
   "execution_count": 1,
   "id": "08d97d1a-9b6a-4187-a55d-c0840b138703",
   "metadata": {},
   "outputs": [
    {
     "data": {
      "text/plain": [
       "{}"
      ]
     },
     "execution_count": 1,
     "metadata": {},
     "output_type": "execute_result"
    }
   ],
   "source": [
    "empty_dict = {}\n",
    "empty_dict"
   ]
  },
  {
   "cell_type": "markdown",
   "id": "784743b9",
   "metadata": {},
   "source": [
    "다음 방식도 가능하다."
   ]
  },
  {
   "cell_type": "code",
   "execution_count": 2,
   "id": "a306b262",
   "metadata": {},
   "outputs": [
    {
     "data": {
      "text/plain": [
       "{}"
      ]
     },
     "execution_count": 2,
     "metadata": {},
     "output_type": "execute_result"
    }
   ],
   "source": [
    "empty_dict = dict()\n",
    "empty_dict"
   ]
  },
  {
   "cell_type": "markdown",
   "id": "1c25b417",
   "metadata": {},
   "source": [
    "**`dict()` 함수**\n",
    "\n",
    "키-값의 튜플 형식의 항목을 갖는 모음 자료형을 사전으로 변환한다. \n",
    "단, 키로 사용되는 값은 해시 가능해야 한다."
   ]
  },
  {
   "cell_type": "code",
   "execution_count": 3,
   "id": "9b214b74",
   "metadata": {},
   "outputs": [
    {
     "data": {
      "text/plain": [
       "{'Hello': '안녕', 'World': '세계', 'Programming': '프로그래밍'}"
      ]
     },
     "execution_count": 3,
     "metadata": {},
     "output_type": "execute_result"
    }
   ],
   "source": [
    "data = [('Hello', '안녕'), ('World', '세계'), ('Programming', '프로그래밍')]\n",
    "dict(data)"
   ]
  },
  {
   "cell_type": "markdown",
   "id": "ad720853",
   "metadata": {},
   "source": [
    "`zip()` 함수를 활용하면 편리하다."
   ]
  },
  {
   "cell_type": "code",
   "execution_count": 4,
   "id": "71e22d50",
   "metadata": {},
   "outputs": [
    {
     "data": {
      "text/plain": [
       "{'a': 1, 'b': 2, 'c': 3, 'd': 4, 'e': 5}"
      ]
     },
     "execution_count": 4,
     "metadata": {},
     "output_type": "execute_result"
    }
   ],
   "source": [
    "data = zip('abcde', [1, 2, 3, 4, 5])\n",
    "data_dict = dict(data)\n",
    "data_dict"
   ]
  },
  {
   "cell_type": "markdown",
   "id": "e0f71d63",
   "metadata": {},
   "source": [
    "**사전과 반복문**"
   ]
  },
  {
   "cell_type": "markdown",
   "id": "b5f86f3c",
   "metadata": {},
   "source": [
    "사전에 대한 반복문은 키<font size='2'>key</font>에 대해 실행된다."
   ]
  },
  {
   "cell_type": "code",
   "execution_count": 5,
   "id": "985d76f4",
   "metadata": {},
   "outputs": [
    {
     "name": "stdout",
     "output_type": "stream",
     "text": [
      "a b c d e "
     ]
    }
   ],
   "source": [
    "for item in data_dict:\n",
    "    print(item, end=' ')"
   ]
  },
  {
   "cell_type": "markdown",
   "id": "78dba8fa",
   "metadata": {},
   "source": [
    "키와 값의 쌍에 대해 반복문을 실행하려면 `items()` 메서드를 이용한다. \n",
    "단, 키와 값 각각에 대해 변수를 지정하는 게 좋다."
   ]
  },
  {
   "cell_type": "code",
   "execution_count": 6,
   "id": "8ebf051b",
   "metadata": {},
   "outputs": [
    {
     "name": "stdout",
     "output_type": "stream",
     "text": [
      "       a 키의 값: 1\n",
      "       b 키의 값: 2\n",
      "       c 키의 값: 3\n",
      "       d 키의 값: 4\n",
      "       e 키의 값: 5\n"
     ]
    }
   ],
   "source": [
    "for key, value in data_dict.items():\n",
    "    print(f\"{key:>8} 키의 값: {value}\")"
   ]
  },
  {
   "cell_type": "markdown",
   "id": "a8f89071",
   "metadata": {},
   "source": [
    "항목을 쪼개서 사용할 수도 있다."
   ]
  },
  {
   "cell_type": "code",
   "execution_count": 7,
   "id": "d8e9e296",
   "metadata": {},
   "outputs": [
    {
     "name": "stdout",
     "output_type": "stream",
     "text": [
      "       a 키의 값: 1\n",
      "       b 키의 값: 2\n",
      "       c 키의 값: 3\n",
      "       d 키의 값: 4\n",
      "       e 키의 값: 5\n"
     ]
    }
   ],
   "source": [
    "for item in data_dict.items():\n",
    "    key = item[0]\n",
    "    value = item[1]\n",
    "    print(f\"{key:>8} 키의 값: {value}\")"
   ]
  },
  {
   "cell_type": "markdown",
   "id": "39a0e64a",
   "metadata": {},
   "source": [
    "값에 대해 반복문을 실행하려면 `values()` 메서드를 이용한다. "
   ]
  },
  {
   "cell_type": "code",
   "execution_count": 8,
   "id": "3856c2b1",
   "metadata": {},
   "outputs": [
    {
     "name": "stdout",
     "output_type": "stream",
     "text": [
      "1 2 3 4 5 "
     ]
    }
   ],
   "source": [
    "for item in data_dict.values():\n",
    "    print(item, end=' ')"
   ]
  },
  {
   "cell_type": "markdown",
   "id": "59f8d6f2-2be8-462d-bd2d-80544238c8de",
   "metadata": {},
   "source": [
    "**`in` 연산자**\n",
    "\n",
    "사전의 키로 사용되었는 여부를 알려주는 논리 연산자다."
   ]
  },
  {
   "cell_type": "code",
   "execution_count": 9,
   "id": "daaf2553-7e40-4d01-9325-547d32d353cf",
   "metadata": {},
   "outputs": [
    {
     "data": {
      "text/plain": [
       "False"
      ]
     },
     "execution_count": 9,
     "metadata": {},
     "output_type": "execute_result"
    }
   ],
   "source": [
    "'city' in {\"name\": \"강현\", \"age\": \"3\"} "
   ]
  },
  {
   "cell_type": "markdown",
   "id": "1f68439b",
   "metadata": {},
   "source": [
    "`in`의 부정은 `not in`을 사용한다. 즉\n",
    "키로 사용되지 않았는지 여부를 뭍는다."
   ]
  },
  {
   "cell_type": "code",
   "execution_count": 10,
   "id": "1779d3ca-01f1-4b94-b549-272b5e68808a",
   "metadata": {},
   "outputs": [
    {
     "data": {
      "text/plain": [
       "True"
      ]
     },
     "execution_count": 10,
     "metadata": {},
     "output_type": "execute_result"
    }
   ],
   "source": [
    "'city' not in {\"name\": \"강현\", \"age\": \"3\"} "
   ]
  },
  {
   "cell_type": "markdown",
   "id": "2fb53924",
   "metadata": {},
   "source": [
    "**`len()` 함수**\n",
    "\n",
    "사전에 포함된 항목의 개수를 반환한다."
   ]
  },
  {
   "cell_type": "code",
   "execution_count": 11,
   "id": "96605a0b",
   "metadata": {},
   "outputs": [
    {
     "data": {
      "text/plain": [
       "2"
      ]
     },
     "execution_count": 11,
     "metadata": {},
     "output_type": "execute_result"
    }
   ],
   "source": [
    "len({\"name\": \"강현\", \"age\": \"3\"}) "
   ]
  },
  {
   "cell_type": "markdown",
   "id": "aa272959",
   "metadata": {},
   "source": [
    "### 사전 키 인덱싱 "
   ]
  },
  {
   "cell_type": "markdown",
   "id": "e170b2bf-fda4-48c1-ad26-e05a252f7670",
   "metadata": {},
   "source": [
    "사전에 사용된 키를 이용한 인덱싱이 지원된다. \n",
    "예를 들어, 아래 딕셔너리 `dic`에서 `'Hello'`에 대응하는 값을 확인하고자 하면  \n",
    "다음과 같이 대괄호를 사용하는 인덱싱을 이용한다. "
   ]
  },
  {
   "cell_type": "code",
   "execution_count": 12,
   "id": "d8a14725-7fcb-4c66-878c-b5984d4fd7de",
   "metadata": {},
   "outputs": [
    {
     "data": {
      "text/plain": [
       "'안녕'"
      ]
     },
     "execution_count": 12,
     "metadata": {},
     "output_type": "execute_result"
    }
   ],
   "source": [
    "dic = {'Hello' : '안녕', 'World' : '세계'}\n",
    "dic['Hello']"
   ]
  },
  {
   "cell_type": "markdown",
   "id": "361d7385",
   "metadata": {},
   "source": [
    "존재하지 않는 키로 값을 추출하려고 하면, 오류가 발생한다. "
   ]
  },
  {
   "cell_type": "code",
   "execution_count": 13,
   "id": "75df92a8",
   "metadata": {},
   "outputs": [
    {
     "ename": "KeyError",
     "evalue": "'Python'",
     "output_type": "error",
     "traceback": [
      "\u001b[0;31m---------------------------------------------------------------------------\u001b[0m",
      "\u001b[0;31mKeyError\u001b[0m                                  Traceback (most recent call last)",
      "Cell \u001b[0;32mIn[13], line 1\u001b[0m\n\u001b[0;32m----> 1\u001b[0m dic[\u001b[38;5;124m'\u001b[39m\u001b[38;5;124mPython\u001b[39m\u001b[38;5;124m'\u001b[39m]\n",
      "\u001b[0;31mKeyError\u001b[0m: 'Python'"
     ]
    }
   ],
   "source": [
    "dic['Python']"
   ]
  },
  {
   "cell_type": "markdown",
   "id": "681d54c1",
   "metadata": {},
   "source": [
    "### 항목 추가, 업데이트, 삭제"
   ]
  },
  {
   "cell_type": "markdown",
   "id": "618f137d-a6b9-41b1-b93c-2bcd87a1803b",
   "metadata": {},
   "source": [
    "아래와 같은 형식으로 사전에 항목을 추가하거나 업데이트 한다.\n",
    "\n",
    "```python\n",
    "사전[key] = value\n",
    "```   \n",
    "\n",
    "예를 들어, `dic`에 `Python : 파이썬` 항목을 다음과 같이 추가할 수 있다."
   ]
  },
  {
   "cell_type": "code",
   "execution_count": 14,
   "id": "4bf19159-ab0d-41a0-b83c-58e90ae4d730",
   "metadata": {},
   "outputs": [
    {
     "data": {
      "text/plain": [
       "{'Hello': '안녕', 'World': '세계', 'Python': '파이썬'}"
      ]
     },
     "execution_count": 14,
     "metadata": {},
     "output_type": "execute_result"
    }
   ],
   "source": [
    "dic['Python'] = '파이썬'\n",
    "\n",
    "dic"
   ]
  },
  {
   "cell_type": "markdown",
   "id": "660ed0ad",
   "metadata": {},
   "source": [
    "이미 사용된 키를 이용하면 키와 연결된 값이 업데이트 된다."
   ]
  },
  {
   "cell_type": "code",
   "execution_count": 15,
   "id": "c17f9966",
   "metadata": {},
   "outputs": [
    {
     "data": {
      "text/plain": [
       "{'Hello': '안녕', 'World': '세상', 'Python': '파이썬'}"
      ]
     },
     "execution_count": 15,
     "metadata": {},
     "output_type": "execute_result"
    }
   ],
   "source": [
    "dic['World'] = '세상'\n",
    "dic"
   ]
  },
  {
   "cell_type": "markdown",
   "id": "47294da8-1afd-4ee1-8342-ed9a1be819f0",
   "metadata": {},
   "source": [
    "사전의 항목은 `del` 명령어에 키를 지정하여 삭제한다."
   ]
  },
  {
   "cell_type": "code",
   "execution_count": 16,
   "id": "2151b31d-e90b-4512-b116-90ad57c39630",
   "metadata": {},
   "outputs": [
    {
     "data": {
      "text/plain": [
       "{'Hello': '안녕', 'Python': '파이썬'}"
      ]
     },
     "execution_count": 16,
     "metadata": {},
     "output_type": "execute_result"
    }
   ],
   "source": [
    "del dic['World']\n",
    "dic"
   ]
  },
  {
   "cell_type": "markdown",
   "id": "62c6c0cc",
   "metadata": {},
   "source": [
    "### 사전 메서드 "
   ]
  },
  {
   "cell_type": "markdown",
   "id": "5280e1d5-9c12-4a87-81d3-33e4d8c6585c",
   "metadata": {},
   "source": [
    "사전 자료형이 제공하는 주요 메서드는 아래와 같다."
   ]
  },
  {
   "cell_type": "markdown",
   "id": "b6933275",
   "metadata": {},
   "source": [
    ":::{list-table} 사전 주요 메서드\n",
    ":widths: 12 10 38\n",
    ":header-rows: 1\n",
    ":name: dict-methods\n",
    "\n",
    "*   - 기능\n",
    "    - 메서드\n",
    "    - 설명\n",
    "*   - 키 확인\n",
    "    - `keys()`\n",
    "    - 사전에 사용된 키로 구성된 순차 자료형 값 반환\n",
    "*   - 값 확인\n",
    "    - `values()`\n",
    "    - 사전에 사용된 값으로 구성된 순차 자료형 값 반환\n",
    "*   - 키와 값 확인\n",
    "    - `items()`\n",
    "    - 사전에 사용된 키와 값의 순서쌍으로 구성된 순차 자료형 값 반환\n",
    "*   - 값 반환\n",
    "    - `get()`\n",
    "    - 지정된 키에 대한 값 반환\n",
    ":::"
   ]
  },
  {
   "cell_type": "code",
   "execution_count": 17,
   "id": "3d2f4a4c",
   "metadata": {},
   "outputs": [],
   "source": [
    "dic = {'Hello' : '안녕', 'World' : '세계'}"
   ]
  },
  {
   "cell_type": "markdown",
   "id": "bbc1d17f",
   "metadata": {},
   "source": [
    "**`keys()` 메서드: 키로 이루어진 모음 자료형 반환**"
   ]
  },
  {
   "cell_type": "code",
   "execution_count": 18,
   "id": "9659b231",
   "metadata": {},
   "outputs": [
    {
     "data": {
      "text/plain": [
       "dict_keys(['Hello', 'World'])"
      ]
     },
     "execution_count": 18,
     "metadata": {},
     "output_type": "execute_result"
    }
   ],
   "source": [
    "dic.keys()"
   ]
  },
  {
   "cell_type": "markdown",
   "id": "ebdb3dbc",
   "metadata": {},
   "source": [
    "**`values()` 메서드: 값으로 이루어진 모음 자료형 반환**"
   ]
  },
  {
   "cell_type": "code",
   "execution_count": 19,
   "id": "375346e7",
   "metadata": {},
   "outputs": [
    {
     "data": {
      "text/plain": [
       "dict_values(['안녕', '세계'])"
      ]
     },
     "execution_count": 19,
     "metadata": {},
     "output_type": "execute_result"
    }
   ],
   "source": [
    "dic.values()"
   ]
  },
  {
   "cell_type": "markdown",
   "id": "d6c51278",
   "metadata": {},
   "source": [
    "**`items()` 메서드: (키, 값) 모양의 쌍으로 이루어진 모음 자료형 반환**"
   ]
  },
  {
   "cell_type": "code",
   "execution_count": 20,
   "id": "c0aed9b6",
   "metadata": {},
   "outputs": [
    {
     "data": {
      "text/plain": [
       "dict_items([('Hello', '안녕'), ('World', '세계')])"
      ]
     },
     "execution_count": 20,
     "metadata": {},
     "output_type": "execute_result"
    }
   ],
   "source": [
    "dic.items()"
   ]
  },
  {
   "cell_type": "markdown",
   "id": "19f33add",
   "metadata": {},
   "source": [
    "**`get()` 메서드: 지정된 키와 연관된 값 반환**"
   ]
  },
  {
   "cell_type": "code",
   "execution_count": 21,
   "id": "3af0c38a",
   "metadata": {},
   "outputs": [
    {
     "data": {
      "text/plain": [
       "'안녕'"
      ]
     },
     "execution_count": 21,
     "metadata": {},
     "output_type": "execute_result"
    }
   ],
   "source": [
    "dic.get('Hello')"
   ]
  },
  {
   "cell_type": "markdown",
   "id": "4102254c",
   "metadata": {},
   "source": [
    "존재하지 않는 키를 사용하면 기본값으로 `None`이 사용된다."
   ]
  },
  {
   "cell_type": "code",
   "execution_count": 22,
   "id": "41da7ee6",
   "metadata": {},
   "outputs": [],
   "source": [
    "dic.get('hello')"
   ]
  },
  {
   "cell_type": "markdown",
   "id": "54f2b9d1",
   "metadata": {},
   "source": [
    "키가 사용되지 않았을 때 기본값을 바꾸려면 둘째 인자를 지정한다."
   ]
  },
  {
   "cell_type": "code",
   "execution_count": 23,
   "id": "44966d5a",
   "metadata": {},
   "outputs": [
    {
     "data": {
      "text/plain": [
       "'해당 키가 없어요.'"
      ]
     },
     "execution_count": 23,
     "metadata": {},
     "output_type": "execute_result"
    }
   ],
   "source": [
    "dic.get('hello', \"해당 키가 없어요.\")"
   ]
  },
  {
   "cell_type": "markdown",
   "id": "48c15909",
   "metadata": {},
   "source": [
    "**예제**"
   ]
  },
  {
   "cell_type": "markdown",
   "id": "22cf2f53",
   "metadata": {},
   "source": [
    "6명 정보를 이용하여 키는 이름, 값은 해당 이름의 정보를 담은 리스트를 사용하는 사전을\n",
    "가리키는 `info_dict` 변수를 선언하라."
   ]
  },
  {
   "cell_type": "code",
   "execution_count": 24,
   "id": "392a5b65",
   "metadata": {},
   "outputs": [],
   "source": [
    "info_list = [['김강현', '010-1234-5678', 20, 172.5, '제주'],\n",
    "             ['황현', '02-9871-1234', 19, 163.5, '서울'],\n",
    "             ['남궁수현', '01-3456-7891', 21, 156.7, '경기'],\n",
    "             ['최흥선', '070-4321-1111', 21, 187.2, '부산'],\n",
    "             ['김선주', '010-3333-8888', 22, 164.6, '광주'],\n",
    "             ['함중아', '010-7654-2345', 18, 178.3, '강원']]"
   ]
  },
  {
   "cell_type": "markdown",
   "id": "1e25089f",
   "metadata": {},
   "source": [
    "답:"
   ]
  },
  {
   "cell_type": "markdown",
   "id": "6873d163",
   "metadata": {},
   "source": [
    "6명 각자의 이름을 키로, 나머지 정보로 구성된 리스트를 값으로 사용하는 사전을 구성한다.\n",
    "이를 위해 `for` 반복문과 {numref}`%s절 <sec:unpacking>`의 리스트 해체를 이용한다.\n",
    "먼저 `info_list`의 항목은 아래 형식임에 주의한다.\n",
    "\n",
    "```python\n",
    "person = ['김강현', '010-1234-5678', 20, 172.5, '제주']\n",
    "```\n",
    "\n",
    "위 리스트를 이름과 나머지로 구분하기 위해 다음과 같이 리스트 해체를 이용한다.\n",
    "\n",
    "```python\n",
    "name, *rest = person\n",
    "```\n",
    "\n",
    "그러면 `name`은 이름을, `rest`는 나머지 항목으로 구성된 리스트를 가리키게 되어\n",
    "두 변수를 다음과 같이 선언한 것과 동일하다.\n",
    "\n",
    "```python\n",
    "name = person[0]\n",
    "rest = person[1:]\n",
    "```\n",
    "\n",
    "위 설명을 정리해서 `info_dict` 변수를 아래와 같이 선언한다."
   ]
  },
  {
   "cell_type": "code",
   "execution_count": 25,
   "id": "72517ffe",
   "metadata": {},
   "outputs": [],
   "source": [
    "info_dict = dict()\n",
    "\n",
    "for person in info_list:\n",
    "    name, *rest = person\n",
    "    info_dict[name] = rest"
   ]
  },
  {
   "cell_type": "code",
   "execution_count": 26,
   "id": "36703605",
   "metadata": {},
   "outputs": [
    {
     "data": {
      "text/plain": [
       "{'김강현': ['010-1234-5678', 20, 172.5, '제주'],\n",
       " '황현': ['02-9871-1234', 19, 163.5, '서울'],\n",
       " '남궁수현': ['01-3456-7891', 21, 156.7, '경기'],\n",
       " '최흥선': ['070-4321-1111', 21, 187.2, '부산'],\n",
       " '김선주': ['010-3333-8888', 22, 164.6, '광주'],\n",
       " '함중아': ['010-7654-2345', 18, 178.3, '강원']}"
      ]
     },
     "execution_count": 26,
     "metadata": {},
     "output_type": "execute_result"
    }
   ],
   "source": [
    "info_dict    "
   ]
  },
  {
   "cell_type": "markdown",
   "id": "32913583",
   "metadata": {},
   "source": [
    "예를 들어 김선주의 정보를 보고 싶으면 다음과 같이 실행한다."
   ]
  },
  {
   "cell_type": "code",
   "execution_count": 27,
   "id": "27e55c98",
   "metadata": {},
   "outputs": [
    {
     "data": {
      "text/plain": [
       "['010-3333-8888', 22, 164.6, '광주']"
      ]
     },
     "execution_count": 27,
     "metadata": {},
     "output_type": "execute_result"
    }
   ],
   "source": [
    "info_dict['김선주']"
   ]
  },
  {
   "cell_type": "markdown",
   "id": "b0550d0c",
   "metadata": {},
   "source": [
    "**예제**"
   ]
  },
  {
   "cell_type": "markdown",
   "id": "3ee73e01",
   "metadata": {},
   "source": [
    "이름을 물으면 나이를 확인해주는 `name_age()` 함수를 선언하라.\n",
    "단, 이름이 없으면 \"정보 없음\"을 반환해야 한다.\n",
    "\n",
    "힌트: `get()` 사전 메서드 활용"
   ]
  },
  {
   "cell_type": "markdown",
   "id": "dbbc069e",
   "metadata": {},
   "source": [
    "답:"
   ]
  },
  {
   "cell_type": "markdown",
   "id": "b92feca6",
   "metadata": {},
   "source": [
    "앞서 선언한 `info_dict` 변수를 활용할 수 있다. \n",
    "이유는 이름을 사용하여 인덱싱을 적용하면 전화번호, 나이, 키, 출생지 정보로 구성된 리스트가 확인된다.\n",
    "따라서 인덱싱으로 쉽게 나이를 확인할 수 있다.\n",
    "\n",
    "그런데 키 인덱싱을 활용할 때 키가 사용되지 않았다면 오류가 발생한다.\n",
    "따라서 `try-except` 명령문을 이용하여 다음과 같이 `name_age()` 함수를 구현할 수 있다."
   ]
  },
  {
   "cell_type": "code",
   "execution_count": 28,
   "id": "17b07924",
   "metadata": {},
   "outputs": [],
   "source": [
    "def name_age(name):\n",
    "    try:\n",
    "        info = info_dict[name]\n",
    "        return info[1]\n",
    "    except KeyError:\n",
    "        return \"정보없음\""
   ]
  },
  {
   "cell_type": "markdown",
   "id": "4b7d46f2",
   "metadata": {},
   "source": [
    "반면에 `get()` 메서드를 활용하면 오류 없이 코드가 실행된다.\n",
    "다면 반환값이 `None`인지 여부를 구분해야 한다."
   ]
  },
  {
   "cell_type": "code",
   "execution_count": 29,
   "id": "7119571f",
   "metadata": {},
   "outputs": [],
   "source": [
    "def name_age(name):\n",
    "    info = info_dict.get(name)\n",
    "    # info가 None이 아닌지 여부 판단\n",
    "    if info:\n",
    "        return info[1]\n",
    "    else:\n",
    "        return \"정보없음\""
   ]
  },
  {
   "cell_type": "markdown",
   "id": "911f662d",
   "metadata": {},
   "source": [
    "그런데 사전에 키가 없을 때 반환되는 값을 `정보 없음`으로 지정할 수 있다.\n",
    "다만 이름이 정보에 포함된 경우 1번 인덱스의 값을 반환해야 하기에\n",
    "정보가 없을 때에도 `정보 없음`이 어떤 리스트의 1번 인덱스의 값으로 위치시키는 게 좋다.\n",
    "그러면 리스트 인덱싱을 결과에 상관없이 적용할 수 있다.\n",
    "결과적으로 다음과 같이 `name_age()` 함수를 정의할 수 있다."
   ]
  },
  {
   "cell_type": "code",
   "execution_count": 30,
   "id": "ad4f9b16",
   "metadata": {},
   "outputs": [],
   "source": [
    "def name_age(name):\n",
    "    age = info_dict.get(name, [None, '정보 없음'])[1]\n",
    "    return age"
   ]
  },
  {
   "cell_type": "markdown",
   "id": "8740e2ac",
   "metadata": {},
   "source": [
    "김선주의 나이를 확인하자."
   ]
  },
  {
   "cell_type": "code",
   "execution_count": 31,
   "id": "0f10d4f1",
   "metadata": {},
   "outputs": [
    {
     "data": {
      "text/plain": [
       "22"
      ]
     },
     "execution_count": 31,
     "metadata": {},
     "output_type": "execute_result"
    }
   ],
   "source": [
    "name_age('김선주')"
   ]
  },
  {
   "cell_type": "markdown",
   "id": "69210da1",
   "metadata": {},
   "source": [
    "함중아의 나이는?"
   ]
  },
  {
   "cell_type": "code",
   "execution_count": 32,
   "id": "25f0eb18",
   "metadata": {},
   "outputs": [
    {
     "data": {
      "text/plain": [
       "18"
      ]
     },
     "execution_count": 32,
     "metadata": {},
     "output_type": "execute_result"
    }
   ],
   "source": [
    "name_age('함중아')"
   ]
  },
  {
   "cell_type": "markdown",
   "id": "8ef64081",
   "metadata": {},
   "source": [
    "반면에 최강현은 정보가 없다."
   ]
  },
  {
   "cell_type": "code",
   "execution_count": 33,
   "id": "5c5394bd",
   "metadata": {},
   "outputs": [
    {
     "data": {
      "text/plain": [
       "'정보 없음'"
      ]
     },
     "execution_count": 33,
     "metadata": {},
     "output_type": "execute_result"
    }
   ],
   "source": [
    "name_age('최강현')"
   ]
  },
  {
   "cell_type": "markdown",
   "id": "2736e577",
   "metadata": {},
   "source": [
    "## 집합"
   ]
  },
  {
   "cell_type": "markdown",
   "id": "c84dbda6",
   "metadata": {},
   "source": [
    "집합 자료형은 수학에서 다루는 집합처럼 작동하도록 만든 비순차 모음 자료형이며\n",
    "다음과 같이 중괄호를 사용하여 정의된다.\n",
    "집합은 항목의 중복을 허용하지 않고, 항목들 사이의 순서 또한 무시된다. \n",
    "따라서 인덱싱이나 슬라이싱을 지원하지 않는다.\n",
    "\n",
    "`{항목1, 항목2, 항목3, ..., 항목n}`"
   ]
  },
  {
   "cell_type": "code",
   "execution_count": 34,
   "id": "04782085",
   "metadata": {},
   "outputs": [
    {
     "data": {
      "text/plain": [
       "{4, 9.2, True, 'apple'}"
      ]
     },
     "execution_count": 34,
     "metadata": {},
     "output_type": "execute_result"
    }
   ],
   "source": [
    "a_set = {4, 4, 9.2, \"apple\", True, 4}\n",
    "a_set"
   ]
  },
  {
   "cell_type": "markdown",
   "id": "a5a87b97",
   "metadata": {},
   "source": [
    "**공집합**\n",
    "\n",
    "공집합<font size = \"2\">empty set</font>은 아무것도 포함하지 않는 집합을 의미한다. \n",
    "공집합를 만드는 방법은 아래와 같다. "
   ]
  },
  {
   "cell_type": "code",
   "execution_count": 35,
   "id": "c1590ed3",
   "metadata": {},
   "outputs": [
    {
     "data": {
      "text/plain": [
       "set()"
      ]
     },
     "execution_count": 35,
     "metadata": {},
     "output_type": "execute_result"
    }
   ],
   "source": [
    "empty_set = set()\n",
    "empty_set"
   ]
  },
  {
   "cell_type": "markdown",
   "id": "f841c16d",
   "metadata": {},
   "source": [
    "`{}`은 빈 사전을 가리킨에 주의한다."
   ]
  },
  {
   "cell_type": "code",
   "execution_count": 36,
   "id": "b1cbe55a",
   "metadata": {},
   "outputs": [
    {
     "data": {
      "text/plain": [
       "dict"
      ]
     },
     "execution_count": 36,
     "metadata": {},
     "output_type": "execute_result"
    }
   ],
   "source": [
    "a = {}\n",
    "type(a)"
   ]
  },
  {
   "cell_type": "markdown",
   "id": "db376e02",
   "metadata": {},
   "source": [
    "**`set()` 함수**\n",
    "\n",
    "임의의 모음 자료형을 집합으로 변환한다.\n",
    "이 과정에서 순서와 중복이 무시된다."
   ]
  },
  {
   "cell_type": "code",
   "execution_count": 37,
   "id": "c43098a1",
   "metadata": {},
   "outputs": [
    {
     "data": {
      "text/plain": [
       "{1, 2, 5}"
      ]
     },
     "execution_count": 37,
     "metadata": {},
     "output_type": "execute_result"
    }
   ],
   "source": [
    "set([5, 1, 1, 2, 5, 5, 1])"
   ]
  },
  {
   "cell_type": "code",
   "execution_count": 38,
   "id": "0930cdc3",
   "metadata": {},
   "outputs": [
    {
     "data": {
      "text/plain": [
       "{1, 3, 9}"
      ]
     },
     "execution_count": 38,
     "metadata": {},
     "output_type": "execute_result"
    }
   ],
   "source": [
    "set((1, 3, 3, 9, 1))"
   ]
  },
  {
   "cell_type": "markdown",
   "id": "3618efa1",
   "metadata": {},
   "source": [
    "순차 자료형의 항목에서 중복을 제거하고 싶을 때 `set()` 함수가 유용하게 활용된다.\n",
    "예를 들어 아래 코드는 리스트에서 중복된 항목이 삭제된, \n",
    "하지만 동일한 항목을 포함한 새로운 리스트를 생성한다.\n",
    "단, 기존 리스트에서 사용된 항목들의 순서는 보존되지 않음에 주의한다."
   ]
  },
  {
   "cell_type": "code",
   "execution_count": 39,
   "id": "8c6970d5",
   "metadata": {},
   "outputs": [
    {
     "data": {
      "text/plain": [
       "[1, 2, 5]"
      ]
     },
     "execution_count": 39,
     "metadata": {},
     "output_type": "execute_result"
    }
   ],
   "source": [
    "list(set([5, 1, 1, 2, 5, 5, 1]))"
   ]
  },
  {
   "cell_type": "markdown",
   "id": "c7db9eff",
   "metadata": {},
   "source": [
    "**`in` 연산자**\n",
    "\n",
    "집합의 항목(원소)으로 등장하는지 여부를 알려주는 논리 연산자다."
   ]
  },
  {
   "cell_type": "code",
   "execution_count": 40,
   "id": "20113099",
   "metadata": {},
   "outputs": [
    {
     "data": {
      "text/plain": [
       "True"
      ]
     },
     "execution_count": 40,
     "metadata": {},
     "output_type": "execute_result"
    }
   ],
   "source": [
    "1 in {1, 2, 3, 9, 4}"
   ]
  },
  {
   "cell_type": "code",
   "execution_count": 41,
   "id": "9c400d62",
   "metadata": {},
   "outputs": [
    {
     "data": {
      "text/plain": [
       "True"
      ]
     },
     "execution_count": 41,
     "metadata": {},
     "output_type": "execute_result"
    }
   ],
   "source": [
    "'a' not in {1, 'b', True, 9}"
   ]
  },
  {
   "cell_type": "markdown",
   "id": "19cbf790",
   "metadata": {},
   "source": [
    "**`len()` 함수**\n",
    "\n",
    "집합에 포함된 항목의 개수를 반환한다."
   ]
  },
  {
   "cell_type": "code",
   "execution_count": 42,
   "id": "35898331",
   "metadata": {},
   "outputs": [
    {
     "data": {
      "text/plain": [
       "5"
      ]
     },
     "execution_count": 42,
     "metadata": {},
     "output_type": "execute_result"
    }
   ],
   "source": [
    "len({1, 3, 5, 7, 9})"
   ]
  },
  {
   "cell_type": "markdown",
   "id": "3ae0dbf7",
   "metadata": {},
   "source": [
    "(sec:set-methods)=\n",
    "### 집합 메서드  "
   ]
  },
  {
   "cell_type": "markdown",
   "id": "35462152",
   "metadata": {},
   "source": [
    "집합 자료형이 제공하는 주요 메서드는 아래와 같다."
   ]
  },
  {
   "cell_type": "markdown",
   "id": "20a37b2e",
   "metadata": {},
   "source": [
    ":::{list-table} 사전 주요 메서드\n",
    ":widths: 12 10 38\n",
    ":header-rows: 1\n",
    ":name: set-methods\n",
    "\n",
    "*   - 기능\n",
    "    - 메서드\n",
    "    - 설명\n",
    "*   - 합집합\n",
    "    - `union()`\n",
    "    - `A.union(B)`: `A` $\\cup$ `B` 반환\n",
    "*   - 교집합\n",
    "    - `intersection()`\n",
    "    - `A.intersection(B)`: `A` $\\cap$ `B` 반환\n",
    "*   - 차집합\n",
    "    - `difference()`\n",
    "    - `A.difference(B)`: `A - B`, 즉, `A`에만 포함된 항목들의 집합 반환\n",
    "*   - 부분집합 여부\n",
    "    - `issubset()`\n",
    "    - `A.issubset(B)`: `A`가 `B`의 부분집합일 때 `True` 반환\n",
    "*   - 항목 추가\n",
    "    - `add()`\n",
    "    - `A.add(c)`: 집합 `A`에 항목 `c` 추가. 반환값 `None`\n",
    "*   - 학목 삭제\n",
    "    - `remove()`\n",
    "    - `A.remove(c)`: 집합 `A`에서 항목 `c` 삭제. 반환값 `None`\n",
    ":::"
   ]
  },
  {
   "cell_type": "markdown",
   "id": "b8b8bb9b",
   "metadata": {},
   "source": [
    "여기서는 집합 메서드를 자세히 다루지 않는다.\n",
    "이유는 각각의 메서드의 기능이 중, 고등학교에서 배운 집합 연산과 동일하기 때문이다."
   ]
  },
  {
   "cell_type": "markdown",
   "id": "12e43239",
   "metadata": {},
   "source": [
    "- 합집합 생성"
   ]
  },
  {
   "cell_type": "code",
   "execution_count": 43,
   "id": "6077ea7f",
   "metadata": {},
   "outputs": [],
   "source": [
    "A = {1, 2, 3}\n",
    "B = {2, 4}"
   ]
  },
  {
   "cell_type": "code",
   "execution_count": 44,
   "id": "24cc2f8a",
   "metadata": {},
   "outputs": [
    {
     "data": {
      "text/plain": [
       "{1, 2, 3, 4}"
      ]
     },
     "execution_count": 44,
     "metadata": {},
     "output_type": "execute_result"
    }
   ],
   "source": [
    "A.union(B)"
   ]
  },
  {
   "cell_type": "markdown",
   "id": "98466759",
   "metadata": {},
   "source": [
    "- 교집합 생성"
   ]
  },
  {
   "cell_type": "code",
   "execution_count": 45,
   "id": "9f4d90ba",
   "metadata": {},
   "outputs": [
    {
     "data": {
      "text/plain": [
       "{2}"
      ]
     },
     "execution_count": 45,
     "metadata": {},
     "output_type": "execute_result"
    }
   ],
   "source": [
    "A.intersection(B)"
   ]
  },
  {
   "cell_type": "markdown",
   "id": "206a4ba4",
   "metadata": {},
   "source": [
    "- 차집합 생성"
   ]
  },
  {
   "cell_type": "code",
   "execution_count": 46,
   "id": "0da50d69",
   "metadata": {},
   "outputs": [
    {
     "data": {
      "text/plain": [
       "{1, 3}"
      ]
     },
     "execution_count": 46,
     "metadata": {},
     "output_type": "execute_result"
    }
   ],
   "source": [
    "A.difference(B)"
   ]
  },
  {
   "cell_type": "markdown",
   "id": "7db413e9",
   "metadata": {},
   "source": [
    "- 부분집합 여부 확인"
   ]
  },
  {
   "cell_type": "code",
   "execution_count": 47,
   "id": "c617fb61",
   "metadata": {},
   "outputs": [
    {
     "data": {
      "text/plain": [
       "False"
      ]
     },
     "execution_count": 47,
     "metadata": {},
     "output_type": "execute_result"
    }
   ],
   "source": [
    "A.issubset(B)"
   ]
  },
  {
   "cell_type": "code",
   "execution_count": 48,
   "id": "aff06d68",
   "metadata": {},
   "outputs": [
    {
     "data": {
      "text/plain": [
       "True"
      ]
     },
     "execution_count": 48,
     "metadata": {},
     "output_type": "execute_result"
    }
   ],
   "source": [
    "A.issubset(A.union(B))"
   ]
  },
  {
   "cell_type": "markdown",
   "id": "c11acc37",
   "metadata": {},
   "source": [
    "- 항목(원소) 추가"
   ]
  },
  {
   "cell_type": "code",
   "execution_count": 49,
   "id": "63c98928",
   "metadata": {},
   "outputs": [],
   "source": [
    "A.add(5)"
   ]
  },
  {
   "cell_type": "code",
   "execution_count": 50,
   "id": "e25d351b",
   "metadata": {},
   "outputs": [
    {
     "data": {
      "text/plain": [
       "{1, 2, 3, 5}"
      ]
     },
     "execution_count": 50,
     "metadata": {},
     "output_type": "execute_result"
    }
   ],
   "source": [
    "A"
   ]
  },
  {
   "cell_type": "markdown",
   "id": "e2c9ffdd",
   "metadata": {},
   "source": [
    "- 항목(원소) 삭제"
   ]
  },
  {
   "cell_type": "code",
   "execution_count": 51,
   "id": "e150038d",
   "metadata": {},
   "outputs": [],
   "source": [
    "A.remove(5)"
   ]
  },
  {
   "cell_type": "code",
   "execution_count": 52,
   "id": "262c8bda",
   "metadata": {},
   "outputs": [
    {
     "data": {
      "text/plain": [
       "{1, 2, 3}"
      ]
     },
     "execution_count": 52,
     "metadata": {},
     "output_type": "execute_result"
    }
   ],
   "source": [
    "A"
   ]
  },
  {
   "cell_type": "markdown",
   "id": "3e2c9270",
   "metadata": {},
   "source": [
    "여기서는 아래 예제를 이용하여 중복을 없애는 `set()` 함수의 유용성을 소개한다."
   ]
  },
  {
   "cell_type": "markdown",
   "id": "5c88b8f7",
   "metadata": {},
   "source": [
    "**예제**"
   ]
  },
  {
   "cell_type": "markdown",
   "id": "5a6a1a6b",
   "metadata": {},
   "source": [
    "`info_dict`를 이용하여 키는 나이, 값은 해당 나이를 갖는 사람의 수를 사용하는 사전을 가리키는 \n",
    "`age_count_dict`를 선언하라."
   ]
  },
  {
   "cell_type": "markdown",
   "id": "d824902b",
   "metadata": {},
   "source": [
    "답:"
   ]
  },
  {
   "cell_type": "markdown",
   "id": "853f4080",
   "metadata": {},
   "source": [
    "`info_dict`는 다음과 같다."
   ]
  },
  {
   "cell_type": "code",
   "execution_count": 53,
   "id": "c4117d0d",
   "metadata": {},
   "outputs": [
    {
     "data": {
      "text/plain": [
       "{'김강현': ['010-1234-5678', 20, 172.5, '제주'],\n",
       " '황현': ['02-9871-1234', 19, 163.5, '서울'],\n",
       " '남궁수현': ['01-3456-7891', 21, 156.7, '경기'],\n",
       " '최흥선': ['070-4321-1111', 21, 187.2, '부산'],\n",
       " '김선주': ['010-3333-8888', 22, 164.6, '광주'],\n",
       " '함중아': ['010-7654-2345', 18, 178.3, '강원']}"
      ]
     },
     "execution_count": 53,
     "metadata": {},
     "output_type": "execute_result"
    }
   ],
   "source": [
    "info_dict"
   ]
  },
  {
   "cell_type": "markdown",
   "id": "c267e7f0",
   "metadata": {},
   "source": [
    "먼저 나이로 구성된 리스트를 생성한다."
   ]
  },
  {
   "cell_type": "code",
   "execution_count": 54,
   "id": "c908e8ed",
   "metadata": {},
   "outputs": [
    {
     "name": "stdout",
     "output_type": "stream",
     "text": [
      "[20, 19, 21, 21, 22, 18]\n"
     ]
    }
   ],
   "source": [
    "ages = []\n",
    "\n",
    "for person in info_list:\n",
    "    ages.append(person[2])\n",
    "    \n",
    "print(ages)"
   ]
  },
  {
   "cell_type": "markdown",
   "id": "925500a0",
   "metadata": {},
   "source": [
    "리스트에 포함된 나이를 확인하기 위해 중복을 제거한다.\n",
    "이를 위해 집합 자료형으로 변환시킨다."
   ]
  },
  {
   "cell_type": "code",
   "execution_count": 55,
   "id": "3fe9c030",
   "metadata": {},
   "outputs": [
    {
     "data": {
      "text/plain": [
       "{18, 19, 20, 21, 22}"
      ]
     },
     "execution_count": 55,
     "metadata": {},
     "output_type": "execute_result"
    }
   ],
   "source": [
    "ages_set = set(ages)\n",
    "ages_set"
   ]
  },
  {
   "cell_type": "markdown",
   "id": "bf0e4cb5",
   "metadata": {},
   "source": [
    "`ages_set` 집합에 포함된 각각의 항목을 대상으로 `count()` 리스트 메서드를 적용하면 원하는 \n",
    "사전을 생성할 수 있다."
   ]
  },
  {
   "cell_type": "code",
   "execution_count": 56,
   "id": "21d215b5",
   "metadata": {},
   "outputs": [],
   "source": [
    "age_count_dict = dict()\n",
    "\n",
    "for age in ages_set:\n",
    "    age_count_dict[age] = ages.count(age)"
   ]
  },
  {
   "cell_type": "code",
   "execution_count": 57,
   "id": "908d9dc0",
   "metadata": {},
   "outputs": [
    {
     "data": {
      "text/plain": [
       "{18: 1, 19: 1, 20: 1, 21: 2, 22: 1}"
      ]
     },
     "execution_count": 57,
     "metadata": {},
     "output_type": "execute_result"
    }
   ],
   "source": [
    "age_count_dict"
   ]
  },
  {
   "cell_type": "markdown",
   "id": "fd37e52e",
   "metadata": {},
   "source": [
    "### 해시 가능성"
   ]
  },
  {
   "cell_type": "markdown",
   "id": "1c5f2570",
   "metadata": {},
   "source": [
    "집합의 항목으로 리스트, 사전, 집합과 같은 가변 자료형은 사용할 수 없다."
   ]
  },
  {
   "cell_type": "code",
   "execution_count": 58,
   "id": "3753d07c",
   "metadata": {},
   "outputs": [
    {
     "ename": "TypeError",
     "evalue": "unhashable type: 'list'",
     "output_type": "error",
     "traceback": [
      "\u001b[0;31m---------------------------------------------------------------------------\u001b[0m",
      "\u001b[0;31mTypeError\u001b[0m                                 Traceback (most recent call last)",
      "Cell \u001b[0;32mIn[58], line 1\u001b[0m\n\u001b[0;32m----> 1\u001b[0m {[\u001b[38;5;241m1\u001b[39m, \u001b[38;5;241m3\u001b[39m], \u001b[38;5;241m4\u001b[39m}\n",
      "\u001b[0;31mTypeError\u001b[0m: unhashable type: 'list'"
     ]
    }
   ],
   "source": [
    "{[1, 3], 4}"
   ]
  },
  {
   "cell_type": "markdown",
   "id": "037dfbf2",
   "metadata": {
    "tags": []
   },
   "source": [
    "사전의 키 또한 리스트를 키로 사용할 수 없다."
   ]
  },
  {
   "cell_type": "code",
   "execution_count": 59,
   "id": "97dfe9d7",
   "metadata": {},
   "outputs": [
    {
     "ename": "TypeError",
     "evalue": "unhashable type: 'list'",
     "output_type": "error",
     "traceback": [
      "\u001b[0;31m---------------------------------------------------------------------------\u001b[0m",
      "\u001b[0;31mTypeError\u001b[0m                                 Traceback (most recent call last)",
      "Cell \u001b[0;32mIn[59], line 1\u001b[0m\n\u001b[0;32m----> 1\u001b[0m no_list_keys \u001b[38;5;241m=\u001b[39m {[\u001b[38;5;241m1\u001b[39m, \u001b[38;5;241m2\u001b[39m]: \u001b[38;5;124m\"\u001b[39m\u001b[38;5;124m리스트는 키로 사용할 수 없음\u001b[39m\u001b[38;5;124m\"\u001b[39m}\n",
      "\u001b[0;31mTypeError\u001b[0m: unhashable type: 'list'"
     ]
    }
   ],
   "source": [
    "no_list_keys = {[1, 2]: \"리스트는 키로 사용할 수 없음\"}"
   ]
  },
  {
   "cell_type": "markdown",
   "id": "1bd2cb7d",
   "metadata": {},
   "source": [
    "이유는 리스트 등의 가변 자료형은 해시 가능하지 않기 때문이다."
   ]
  },
  {
   "cell_type": "markdown",
   "id": "48a4d449",
   "metadata": {},
   "source": [
    "**`hash()` 함수**"
   ]
  },
  {
   "cell_type": "markdown",
   "id": "96d36afd",
   "metadata": {},
   "source": [
    "파이썬 객체의 해시 가능성은 `hash()` 함수의 인자로 사용될 수 있는가에 의해 결정된다.\n",
    "즉 `hash()` 함수와 함께 호출됐을 때 오류가 발생하지 않아야 한다.\n",
    "이렇게 `hash()` 함수와 함께 호출되었을 때 오류가 발생하지 않은 값을\n",
    "**해시 가능**<font size=\"2\">hashable</font>하다고 부른다.\n",
    "\n",
    "해시 가능한 값에 대해 `hash()` 함수의 반환값은 특정 정수이며\n",
    "서로 다른 두 값은 서로 다른 반환값을 갖는다.\n",
    "즉, 조금이라도 다른 해시 가능한 값이 인자로 지정되면 다른 값을 계산한다."
   ]
  },
  {
   "cell_type": "code",
   "execution_count": 5,
   "id": "875bda95",
   "metadata": {},
   "outputs": [
    {
     "data": {
      "text/plain": [
       "-6307178578295685641"
      ]
     },
     "execution_count": 5,
     "metadata": {},
     "output_type": "execute_result"
    }
   ],
   "source": [
    "hash('123')"
   ]
  },
  {
   "cell_type": "code",
   "execution_count": 61,
   "id": "3289f491",
   "metadata": {},
   "outputs": [
    {
     "data": {
      "text/plain": [
       "3543337771683958828"
      ]
     },
     "execution_count": 61,
     "metadata": {},
     "output_type": "execute_result"
    }
   ],
   "source": [
    "hash('123 ')"
   ]
  },
  {
   "cell_type": "code",
   "execution_count": 62,
   "id": "5b5f5c58",
   "metadata": {},
   "outputs": [
    {
     "data": {
      "text/plain": [
       "-1070212610609621906"
      ]
     },
     "execution_count": 62,
     "metadata": {},
     "output_type": "execute_result"
    }
   ],
   "source": [
    "hash((1, 3, 4))"
   ]
  },
  {
   "cell_type": "code",
   "execution_count": 63,
   "id": "d3ac7e8a",
   "metadata": {},
   "outputs": [
    {
     "data": {
      "text/plain": [
       "-4363729961677198915"
      ]
     },
     "execution_count": 63,
     "metadata": {},
     "output_type": "execute_result"
    }
   ],
   "source": [
    "hash((1, 2, 4))"
   ]
  },
  {
   "cell_type": "markdown",
   "id": "32d5b0ee",
   "metadata": {},
   "source": [
    ":::{admonition} 해시 함수의 반환값\n",
    ":class: note\n",
    "\n",
    "`hash()` 함수의 반환값이 실행할 때마다 달라질 수 있다.\n",
    "이는 보안상의 이유로 무작위 기능이 적용되기 때문이다.\n",
    "항상 고정된 값을 반환하는 해시 함수도 있지만 여기서는 다루지 않는다.\n",
    ":::"
   ]
  },
  {
   "cell_type": "markdown",
   "id": "1912a744",
   "metadata": {},
   "source": [
    "반면에 리스트 등 가변 자료형의 객체는 해시 가능하지 않다."
   ]
  },
  {
   "cell_type": "code",
   "execution_count": 64,
   "id": "2244c5d3",
   "metadata": {},
   "outputs": [
    {
     "ename": "TypeError",
     "evalue": "unhashable type: 'list'",
     "output_type": "error",
     "traceback": [
      "\u001b[0;31m---------------------------------------------------------------------------\u001b[0m",
      "\u001b[0;31mTypeError\u001b[0m                                 Traceback (most recent call last)",
      "Cell \u001b[0;32mIn[64], line 1\u001b[0m\n\u001b[0;32m----> 1\u001b[0m \u001b[38;5;28mhash\u001b[39m([\u001b[38;5;241m1\u001b[39m, \u001b[38;5;241m3\u001b[39m])\n",
      "\u001b[0;31mTypeError\u001b[0m: unhashable type: 'list'"
     ]
    }
   ],
   "source": [
    "hash([1, 3])"
   ]
  },
  {
   "cell_type": "markdown",
   "id": "314e8076",
   "metadata": {},
   "source": [
    "리스트를 포함한 튜플도 해시 가능하지 않다."
   ]
  },
  {
   "cell_type": "code",
   "execution_count": 65,
   "id": "9235873f",
   "metadata": {},
   "outputs": [
    {
     "ename": "TypeError",
     "evalue": "unhashable type: 'list'",
     "output_type": "error",
     "traceback": [
      "\u001b[0;31m---------------------------------------------------------------------------\u001b[0m",
      "\u001b[0;31mTypeError\u001b[0m                                 Traceback (most recent call last)",
      "Cell \u001b[0;32mIn[65], line 1\u001b[0m\n\u001b[0;32m----> 1\u001b[0m \u001b[38;5;28mhash\u001b[39m(([\u001b[38;5;241m1\u001b[39m, \u001b[38;5;241m2\u001b[39m], \u001b[38;5;241m3\u001b[39m))\n",
      "\u001b[0;31mTypeError\u001b[0m: unhashable type: 'list'"
     ]
    }
   ],
   "source": [
    "hash(([1, 2], 3))"
   ]
  },
  {
   "cell_type": "markdown",
   "id": "0c9855e5",
   "metadata": {},
   "source": [
    "집합에 해시 가능한 값만 포함될 수 있는 이유는 두 항목을 구별하기 위해 `hash()` 함수를 이용하기 때문이다.\n",
    "반면에 리스트 등과 같은 가변 자료형의 값은 언제든 변할 수 있기에 정체를\n",
    "제대로 파악할 수 없다."
   ]
  },
  {
   "cell_type": "markdown",
   "id": "cab31a57-ed44-4b0f-9f34-2239177b48aa",
   "metadata": {},
   "source": [
    "(sec-comprehension)=\n",
    "## 조건제시법"
   ]
  },
  {
   "cell_type": "markdown",
   "id": "3019197a-0694-4a74-8037-29ad43f29531",
   "metadata": {},
   "source": [
    "조건제시법<font size = \"2\">comprehension</font>을 이용하여 \n",
    "리스트, 집합, 사전을 정의할 수 있다."
   ]
  },
  {
   "cell_type": "markdown",
   "id": "840a733d-3076-40f5-b2f4-be02a15dd942",
   "metadata": {},
   "source": [
    "**리스트 조건제시법**"
   ]
  },
  {
   "cell_type": "markdown",
   "id": "618fb88e",
   "metadata": {},
   "source": [
    "수학에서 0과 10사이에 있는 홀수들의 제곱을 원소로 갖는 집합을 조건제시법으로 표현하면\n",
    "다음과 같다.\n",
    "\n",
    "$$\\{ x^2 \\mid 0 \\le x \\le 10, \\text{ 단 $x$는 홀수} \\}$$"
   ]
  },
  {
   "cell_type": "markdown",
   "id": "c83233a6",
   "metadata": {},
   "source": [
    "0과 10 사이에 있는 홀수들의 제곱을 항목으로 갖는 리스트를 `for` 반복문으로 구현해 보자."
   ]
  },
  {
   "cell_type": "code",
   "execution_count": 66,
   "id": "e829825b",
   "metadata": {},
   "outputs": [
    {
     "data": {
      "text/plain": [
       "[1, 9, 25, 49, 81]"
      ]
     },
     "execution_count": 66,
     "metadata": {},
     "output_type": "execute_result"
    }
   ],
   "source": [
    "zero2ten_odd = []\n",
    "\n",
    "for x in range(11):\n",
    "    if x%2 == 1:\n",
    "        zero2ten_odd.append(x**2)\n",
    "\n",
    "zero2ten_odd"
   ]
  },
  {
   "cell_type": "markdown",
   "id": "54d5a899",
   "metadata": {},
   "source": [
    "조건제시법을 이용하여 보다 간단하게 리스트를 생성할 수 있다."
   ]
  },
  {
   "cell_type": "code",
   "execution_count": 67,
   "id": "f51b20e2",
   "metadata": {},
   "outputs": [
    {
     "data": {
      "text/plain": [
       "[1, 9, 25, 49, 81]"
      ]
     },
     "execution_count": 67,
     "metadata": {},
     "output_type": "execute_result"
    }
   ],
   "source": [
    "zero2ten_odd = [x**2 for x in range(11) if x%2 == 1]\n",
    "zero2ten_odd"
   ]
  },
  {
   "cell_type": "markdown",
   "id": "3a4023f3",
   "metadata": {},
   "source": [
    "위 두 코드를 비교하면 조건제시법의 작동원리를 이해할 수 있을 것이다. "
   ]
  },
  {
   "cell_type": "markdown",
   "id": "f5488991",
   "metadata": {},
   "source": [
    "**집합 조건제시법**"
   ]
  },
  {
   "cell_type": "markdown",
   "id": "757abf07",
   "metadata": {},
   "source": [
    "위 결과를 집합으로 구현하면 다음과 같다."
   ]
  },
  {
   "cell_type": "code",
   "execution_count": 68,
   "id": "95ea0a35",
   "metadata": {},
   "outputs": [
    {
     "data": {
      "text/plain": [
       "{1, 9, 25, 49, 81}"
      ]
     },
     "execution_count": 68,
     "metadata": {},
     "output_type": "execute_result"
    }
   ],
   "source": [
    "zero2ten_odd_set = {x**2 for x in range(11) if x%2 == 1}\n",
    "zero2ten_odd_set"
   ]
  },
  {
   "cell_type": "markdown",
   "id": "189a66c4",
   "metadata": {},
   "source": [
    "**사전 조건제시법**"
   ]
  },
  {
   "cell_type": "markdown",
   "id": "88287018",
   "metadata": {},
   "source": [
    "조건제시법을 이용하여 사전을 생성하는 과정도 유사하다. \n",
    "아래 코드는 0부터 10 사이의 홀수를 키로, 홀수의 제곱은 값으로 갖는 항목으로 구성된 사전을 생성한다."
   ]
  },
  {
   "cell_type": "code",
   "execution_count": 69,
   "id": "2b80111c",
   "metadata": {},
   "outputs": [
    {
     "data": {
      "text/plain": [
       "{1: 1, 3: 9, 5: 25, 7: 49, 9: 81}"
      ]
     },
     "execution_count": 69,
     "metadata": {},
     "output_type": "execute_result"
    }
   ],
   "source": [
    "odd_squares = {x : x**2 for x in range(11) if x%2 == 1}\n",
    "odd_squares"
   ]
  },
  {
   "cell_type": "markdown",
   "id": "39caa271-f70b-47d9-9745-7376b9f5afd5",
   "metadata": {},
   "source": [
    "반면에 아래 코드는 문장에 포함된 단어를 키로, 단어의 길이를 값으로 갖는 항목들로 구성된 사전을 생성한다."
   ]
  },
  {
   "cell_type": "code",
   "execution_count": 70,
   "id": "70337ff3",
   "metadata": {},
   "outputs": [
    {
     "name": "stdout",
     "output_type": "stream",
     "text": [
      "['파이썬은', '범용', '프로그래밍', '언어입니다.']\n"
     ]
    }
   ],
   "source": [
    "words = '파이썬은 범용 프로그래밍 언어입니다.'.split()\n",
    "print(words)"
   ]
  },
  {
   "cell_type": "code",
   "execution_count": 71,
   "id": "dc774891",
   "metadata": {},
   "outputs": [
    {
     "data": {
      "text/plain": [
       "{'파이썬은': 4, '범용': 2, '프로그래밍': 5, '언어입니다.': 6}"
      ]
     },
     "execution_count": 71,
     "metadata": {},
     "output_type": "execute_result"
    }
   ],
   "source": [
    "len_dict = {k : len(k) for k in words}\n",
    "len_dict"
   ]
  },
  {
   "cell_type": "markdown",
   "id": "af79ef73-80e6-45dc-a6f1-8635a0bd9660",
   "metadata": {},
   "source": [
    "## 필수 예제"
   ]
  },
  {
   "cell_type": "markdown",
   "id": "3439498a",
   "metadata": {},
   "source": [
    "참고: [(필수 예제) 사전과 집합](https://colab.research.google.com/github/codingalzi/pybook/blob/master/examples/examples-dicts_sets.ipynb)"
   ]
  },
  {
   "cell_type": "markdown",
   "id": "537f648a",
   "metadata": {},
   "source": [
    "## 연습문제"
   ]
  },
  {
   "cell_type": "markdown",
   "id": "d96e15f2",
   "metadata": {},
   "source": [
    "참고: [(실습) 사전과 집합](https://colab.research.google.com/github/codingalzi/pybook/blob/master/practices/practice-dicts_sets.ipynb)"
   ]
  }
 ],
 "metadata": {
  "kernelspec": {
   "display_name": "Python 3 (ipykernel)",
   "language": "python",
   "name": "python3"
  },
  "language_info": {
   "codemirror_mode": {
    "name": "ipython",
    "version": 3
   },
   "file_extension": ".py",
   "mimetype": "text/x-python",
   "name": "python",
   "nbconvert_exporter": "python",
   "pygments_lexer": "ipython3",
   "version": "3.11.5"
  },
  "toc-autonumbering": true
 },
 "nbformat": 4,
 "nbformat_minor": 5
}
