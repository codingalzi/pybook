{
 "cells": [
  {
   "cell_type": "markdown",
   "id": "1d901e8a",
   "metadata": {},
   "source": [
    "(ch:turtle-graphics)=\n",
    "# 거북이 그래픽"
   ]
  },
  {
   "cell_type": "markdown",
   "id": "02a0315c",
   "metadata": {},
   "source": [
    "게임 프로그래밍을 지원하는 파이썬의 기본 라이브러리를 소개한다."
   ]
  },
  {
   "cell_type": "markdown",
   "id": "e9594930",
   "metadata": {},
   "source": [
    "## `turtle` 모듈"
   ]
  },
  {
   "cell_type": "markdown",
   "id": "b31977b0",
   "metadata": {},
   "source": [
    "`turtle` 모듈은 간단한 2차원 컴퓨터 그래픽스를 지원하는 다양한 도구를 제공하며, \n",
    "파이썬에 기본 모듈로 포함되어 있다. \n",
    "[IDLE 를 이용](https://aisw.tistory.com/5)하여 아래 명령문을 실행하면 그림 창이 하나 새로 나타나고 \n",
    "그 안에 아래와 같은 그림이 그려져야 한다."
   ]
  },
  {
   "cell_type": "markdown",
   "id": "96a2687d",
   "metadata": {},
   "source": [
    "```python\n",
    "import turtle\n",
    "\n",
    "def draw_circle(turtle, color, size, x, y):\n",
    "    turtle.penup()\n",
    "    turtle.color(color)\n",
    "    turtle.fillcolor(color)\n",
    "    turtle.goto(x,y)\n",
    "    turtle.begin_fill()\n",
    "    turtle.pendown()\n",
    "    turtle.circle(size)\n",
    "    turtle.penup()\n",
    "    turtle.end_fill()\n",
    "    turtle.pendown()\n",
    "\n",
    "tommy = turtle.Turtle()\n",
    "tommy.shape(\"turtle\")\n",
    "tommy.speed(500)\n",
    "\n",
    "draw_circle(tommy, \"green\", 50, 25, 0)\n",
    "draw_circle(tommy, \"blue\", 50, 0, 0)\n",
    "draw_circle(tommy, \"yellow\", 50, -25, 0)\n",
    "\n",
    "tommy.penup()\n",
    "tommy.goto(0,-50)\n",
    "tommy.color('black')\n",
    "tommy.write(\"파이썬 함께 배워요!\", align=\"center\", font=(None, 16, \"bold\"))\n",
    "tommy.goto(0,-80)\n",
    "```"
   ]
  },
  {
   "cell_type": "markdown",
   "id": "2ec16c27",
   "metadata": {},
   "source": [
    "<div align=\"center\" border=\"1px\"><img src=\"https://raw.githubusercontent.com/codingalzi/pybook/master/jupyter-book/images/trinket01.png\" width=\"400\"/></div>"
   ]
  },
  {
   "cell_type": "markdown",
   "id": "35de8db3",
   "metadata": {},
   "source": [
    "## 실전 거북이 프로그래밍"
   ]
  },
  {
   "cell_type": "markdown",
   "id": "7e7be406",
   "metadata": {},
   "source": [
    "`turtle` 모듈의 활용법과 거북이 그래픽을 이용한 프로그래밍 학습은\n",
    "[트링킷<font size=\"2\">Trinket</font>](https://trinket.io) 사이트의\n",
    "[Python Turtle 소개](https://leegys_gmail_com.trinket.io/python-turtle)에서\n",
    "상세히 다룬다."
   ]
  }
 ],
 "metadata": {
  "kernelspec": {
   "display_name": "Python 3 (ipykernel)",
   "language": "python",
   "name": "python3"
  },
  "language_info": {
   "codemirror_mode": {
    "name": "ipython",
    "version": 3
   },
   "file_extension": ".py",
   "mimetype": "text/x-python",
   "name": "python",
   "nbconvert_exporter": "python",
   "pygments_lexer": "ipython3",
   "version": "3.11.4"
  }
 },
 "nbformat": 4,
 "nbformat_minor": 5
}
