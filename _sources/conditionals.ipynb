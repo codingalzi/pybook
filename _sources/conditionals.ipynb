{
 "cells": [
  {
   "cell_type": "markdown",
   "metadata": {},
   "source": [
    "# 조건문"
   ]
  },
  {
   "cell_type": "markdown",
   "metadata": {},
   "source": [
    "특정 조건의 성립여부에 따라 다른 코드를 실행하게 만드는 명령문이다.\n",
    "조건문을 이용하여 보다 다양한 기능을 갖는 프로그램을 구현할 수 있다."
   ]
  },
  {
   "cell_type": "markdown",
   "metadata": {},
   "source": [
    "## `if ... else ...` 명령문"
   ]
  },
  {
   "cell_type": "markdown",
   "metadata": {},
   "source": [
    "**조건문**<font size=\"2\">conditional statement</font>의 일반적인 형식은 다음과 같다.\n",
    "\n",
    "```python\n",
    "if 논리식:\n",
    "    명령문1\n",
    "else:\n",
    "    명령문2\n",
    "```\n",
    "\n",
    "- `명령문1`: 논리식이 참일 때 실행\n",
    "- `명령문2`: 논리식이 거짓일 때 실행"
   ]
  },
  {
   "cell_type": "markdown",
   "metadata": {},
   "source": [
    "예를 들어 아래 코드는 실행되는 순간 변수 `x`가 가리키는 값이 0보다 작으면 `'x는 음수'`가,\n",
    "그렇지 않으면 `'x는 음수 아님'`이 화면에 출력된다."
   ]
  },
  {
   "cell_type": "code",
   "execution_count": 45,
   "metadata": {},
   "outputs": [
    {
     "name": "stdout",
     "output_type": "stream",
     "text": [
      "x는 음수\n"
     ]
    }
   ],
   "source": [
    "x = -1\n",
    "\n",
    "if x < 0:\n",
    "    print('x는 음수')\n",
    "else:\n",
    "    print('x는 음수 아님')    "
   ]
  },
  {
   "cell_type": "markdown",
   "metadata": {},
   "source": [
    "`else` 키워드 부분을 사용하지 않아도 된다.\n",
    "아래 코드에서 변수 `x`가 가리키는 값이 0보다 작을 때 `'x는 음수'`가 출력된다."
   ]
  },
  {
   "cell_type": "code",
   "execution_count": 1,
   "metadata": {},
   "outputs": [
    {
     "name": "stdout",
     "output_type": "stream",
     "text": [
      "x는 음수\n",
      "음수만 처리합니다.\n"
     ]
    }
   ],
   "source": [
    "x = -1\n",
    "\n",
    "if x < 0:\n",
    "    print('x는 음수')\n",
    "    \n",
    "print(\"음수만 처리합니다.\")"
   ]
  },
  {
   "cell_type": "markdown",
   "metadata": {},
   "source": [
    "변수 `x`가 가리키는 값이 0보다 같거나 큰 경우는 무시된다."
   ]
  },
  {
   "cell_type": "code",
   "execution_count": 2,
   "metadata": {},
   "outputs": [
    {
     "name": "stdout",
     "output_type": "stream",
     "text": [
      "음수만 처리합니다.\n"
     ]
    }
   ],
   "source": [
    "x = 2\n",
    "\n",
    "if x < 0:\n",
    "    print('x는 음수')\n",
    "    \n",
    "print(\"음수만 처리합니다.\")"
   ]
  },
  {
   "cell_type": "markdown",
   "metadata": {
    "tags": []
   },
   "source": [
    "(sec:cond-expressions)=\n",
    "## 논리식"
   ]
  },
  {
   "cell_type": "markdown",
   "metadata": {},
   "source": [
    "조건문의 헤더<font size='2'>header</font>는 \n",
    "`if` 키워드와 참 또는 거짓을 가리키는 **논리식**으로 구성된다.\n",
    "예를 들어, 두 표현식의 등가 여부를 판단하는 연산자 `==`를\n",
    "이용한 논리식은 다음과 같다."
   ]
  },
  {
   "cell_type": "markdown",
   "metadata": {},
   "source": [
    "- 참인 등가 논리식"
   ]
  },
  {
   "cell_type": "code",
   "execution_count": 3,
   "metadata": {},
   "outputs": [
    {
     "data": {
      "text/plain": [
       "True"
      ]
     },
     "execution_count": 3,
     "metadata": {},
     "output_type": "execute_result"
    }
   ],
   "source": [
    "5 == 4 + 1"
   ]
  },
  {
   "cell_type": "markdown",
   "metadata": {},
   "source": [
    "- 거짓인 등가 논리식"
   ]
  },
  {
   "cell_type": "code",
   "execution_count": 4,
   "metadata": {},
   "outputs": [
    {
     "data": {
      "text/plain": [
       "False"
      ]
     },
     "execution_count": 4,
     "metadata": {},
     "output_type": "execute_result"
    }
   ],
   "source": [
    "3 + 2 ==  3 * 2"
   ]
  },
  {
   "cell_type": "markdown",
   "metadata": {},
   "source": [
    "두 표현식이 서로 다른 값을 가리키는지 여부를 판단하는 연산자는 `!=`이며,\n",
    "`==` 와 반대로 작동한다."
   ]
  },
  {
   "cell_type": "code",
   "execution_count": 1,
   "metadata": {},
   "outputs": [
    {
     "data": {
      "text/plain": [
       "False"
      ]
     },
     "execution_count": 1,
     "metadata": {},
     "output_type": "execute_result"
    }
   ],
   "source": [
    "5 != 4 + 1"
   ]
  },
  {
   "cell_type": "code",
   "execution_count": 2,
   "metadata": {},
   "outputs": [
    {
     "data": {
      "text/plain": [
       "True"
      ]
     },
     "execution_count": 2,
     "metadata": {},
     "output_type": "execute_result"
    }
   ],
   "source": [
    "3 + 2 !=  3 * 2"
   ]
  },
  {
   "cell_type": "markdown",
   "metadata": {},
   "source": [
    "### `bool` 유형"
   ]
  },
  {
   "cell_type": "markdown",
   "metadata": {},
   "source": [
    "논리식이 표현하는 값은 `True`와 `False` 중에 하나이며,\n",
    "이 두 값으로만 구성된 자료형을 부울 자료형이라 부르며, \n",
    "`bool`이 부울 자료형을 가리킨다."
   ]
  },
  {
   "cell_type": "code",
   "execution_count": 1,
   "metadata": {},
   "outputs": [
    {
     "data": {
      "text/plain": [
       "bool"
      ]
     },
     "execution_count": 1,
     "metadata": {},
     "output_type": "execute_result"
    }
   ],
   "source": [
    "type(True)"
   ]
  },
  {
   "cell_type": "code",
   "execution_count": 1,
   "metadata": {},
   "outputs": [
    {
     "data": {
      "text/plain": [
       "bool"
      ]
     },
     "execution_count": 1,
     "metadata": {},
     "output_type": "execute_result"
    }
   ],
   "source": [
    "type(False)"
   ]
  },
  {
   "cell_type": "code",
   "execution_count": 6,
   "metadata": {},
   "outputs": [
    {
     "data": {
      "text/plain": [
       "bool"
      ]
     },
     "execution_count": 6,
     "metadata": {},
     "output_type": "execute_result"
    }
   ],
   "source": [
    "type(5 == 4 + 1)"
   ]
  },
  {
   "cell_type": "code",
   "execution_count": 7,
   "metadata": {},
   "outputs": [
    {
     "data": {
      "text/plain": [
       "bool"
      ]
     },
     "execution_count": 7,
     "metadata": {},
     "output_type": "execute_result"
    }
   ],
   "source": [
    "type(3 + 2 !=  3 * 2)"
   ]
  },
  {
   "cell_type": "markdown",
   "metadata": {},
   "source": [
    "### 비교 연산자"
   ]
  },
  {
   "cell_type": "markdown",
   "metadata": {},
   "source": [
    "논리식은 기본적으로 등식, 부등식 등의 **비교 연산자**를 이용하여 표현하며,\n",
    "**논리 연산자**를 이용하여 보다 복잡한 논리식을 구성한다.\n",
    "\n",
    "비교 연산자는 수, 문자열 등의 크기를 비교할 수 있으며\n",
    "대표적인 비교 연산자는 아래와 같다.\n",
    "\n",
    "|연산 기호|의미|예시|실행 결과|\n",
    "|:----------:|:----------:|:----------:|:--------:|\n",
    "|`<`|작다|`2 < 1`|`False`|\n",
    "|`<=`|작거나 같다|`1 <= 2`|`True`|\n",
    "|`>`|크다|`2 > 1`|`True`|\n",
    "|`>=`|크거나 같다|`1 >= 2`|`False`|\n",
    "|`==`|같다|`3 == 2 * 1`|`False`|\n",
    "|`!=`|같지 않다|`1 != '1'`|`True`|"
   ]
  },
  {
   "cell_type": "markdown",
   "metadata": {},
   "source": [
    "자료형이 다른 두 값에 대해서 `==` 연산자는 기본적으로 거짓으로 판정한다."
   ]
  },
  {
   "cell_type": "code",
   "execution_count": 3,
   "metadata": {},
   "outputs": [
    {
     "data": {
      "text/plain": [
       "False"
      ]
     },
     "execution_count": 3,
     "metadata": {},
     "output_type": "execute_result"
    }
   ],
   "source": [
    "1.0 == '1.0'"
   ]
  },
  {
   "cell_type": "markdown",
   "metadata": {},
   "source": [
    "하지만 정수는 부동소수점으로 취급하기에 예를 들어 1과 1.0은 등가라고 판정한다."
   ]
  },
  {
   "cell_type": "code",
   "execution_count": 8,
   "metadata": {},
   "outputs": [
    {
     "data": {
      "text/plain": [
       "True"
      ]
     },
     "execution_count": 8,
     "metadata": {},
     "output_type": "execute_result"
    }
   ],
   "source": [
    "1 == 1.0"
   ]
  },
  {
   "cell_type": "markdown",
   "metadata": {},
   "source": [
    "**문자열 비교 연산자**"
   ]
  },
  {
   "cell_type": "markdown",
   "metadata": {},
   "source": [
    "문자열도 비교 연산자를 지원하며 알파벳 순서를 따르는 순서 개념을 사용한다."
   ]
  },
  {
   "cell_type": "code",
   "execution_count": 4,
   "metadata": {},
   "outputs": [
    {
     "data": {
      "text/plain": [
       "True"
      ]
     },
     "execution_count": 4,
     "metadata": {},
     "output_type": "execute_result"
    }
   ],
   "source": [
    "'apple' < 'banana'"
   ]
  },
  {
   "cell_type": "markdown",
   "metadata": {},
   "source": [
    "영어 알파벳의 경우 대문자가 소문자보다 작다고 판단한다."
   ]
  },
  {
   "cell_type": "code",
   "execution_count": 5,
   "metadata": {},
   "outputs": [
    {
     "data": {
      "text/plain": [
       "False"
      ]
     },
     "execution_count": 5,
     "metadata": {},
     "output_type": "execute_result"
    }
   ],
   "source": [
    "'apple' < 'Apple'"
   ]
  },
  {
   "cell_type": "markdown",
   "metadata": {},
   "source": [
    "### 논리 연산자"
   ]
  },
  {
   "cell_type": "markdown",
   "metadata": {},
   "source": [
    "영어의 *and*, *or*, *not* 의 개념과 거의(!) 유사하게 작동하는\n",
    "세 개의 논리 연산자를 이용하여 보다 복잡한 논리식을 구현할 수 있다."
   ]
  },
  {
   "cell_type": "markdown",
   "metadata": {},
   "source": [
    "- `A and B`: `A`와 `B` 모두 참일 때만 참으로 판정됨\n",
    "- `A or B`: `A`가 참이거나 `A`가 거짓일 때 `B`가 참이면 참으로 판정됨\n",
    "- `not A`: `A` 가 거짓일 때만 참"
   ]
  },
  {
   "cell_type": "markdown",
   "metadata": {},
   "source": [
    "|연산 기호|의미|예시|실행 결과|\n",
    "|:----------:|:----------:|:----------:|:--------:|\n",
    "|`and`|그리고|`1==2 and 3==2+1`|`False`|\n",
    "|`or`|또는|`1==2 and 3==2+1`|`True`|\n",
    "|`not`|부정|`not 1==2`|`True`|"
   ]
  },
  {
   "cell_type": "markdown",
   "metadata": {},
   "source": [
    "**우선 순위**"
   ]
  },
  {
   "cell_type": "markdown",
   "metadata": {},
   "source": [
    "논리 연산자들 사이의 우선순위는 `not`, `and`, `or`  순으로 높다."
   ]
  },
  {
   "cell_type": "markdown",
   "metadata": {},
   "source": [
    "- 예제 1"
   ]
  },
  {
   "cell_type": "markdown",
   "metadata": {},
   "source": [
    "```python\n",
    "not a > b and b > c\n",
    "```\n",
    "\n",
    "는\n",
    "\n",
    "```python\n",
    "(not a > b) and b > c\n",
    "```\n",
    "\n",
    "와는 서로 등가이지만\n",
    "\n",
    "```python\n",
    "not (a > b and b > c)\n",
    "```\n",
    "\n",
    "와는 아래 예제에서 볼 수 있듯이 서로 다른 값을 표현한다."
   ]
  },
  {
   "cell_type": "code",
   "execution_count": 4,
   "metadata": {},
   "outputs": [
    {
     "name": "stdout",
     "output_type": "stream",
     "text": [
      "False\n",
      "False\n",
      "True\n"
     ]
    }
   ],
   "source": [
    "a = -23\n",
    "b = -7\n",
    "c = 1\n",
    "\n",
    "print(not a > b and b > c)\n",
    "print((not a > b) and b > c)\n",
    "print(not (a > b and b > c))"
   ]
  },
  {
   "cell_type": "markdown",
   "metadata": {},
   "source": [
    "- 예제 2"
   ]
  },
  {
   "cell_type": "markdown",
   "metadata": {},
   "source": [
    "```python\n",
    "a > b and b > c or c < d\n",
    "```\n",
    "\n",
    "는\n",
    "\n",
    "```python\n",
    "(a > b and b > c) or c < d\n",
    "```\n",
    "\n",
    "와는 서로 등가이지만\n",
    "\n",
    "```python\n",
    "a > b and (b > c or c < d)\n",
    "```\n",
    "\n",
    "와는 그렇지 않다."
   ]
  },
  {
   "cell_type": "code",
   "execution_count": 3,
   "metadata": {},
   "outputs": [
    {
     "name": "stdout",
     "output_type": "stream",
     "text": [
      "True\n",
      "True\n",
      "False\n"
     ]
    }
   ],
   "source": [
    "a = -23\n",
    "b = -7\n",
    "c = 1\n",
    "d = 28\n",
    "\n",
    "print(a > b and b > c or c < d)\n",
    "print((a > b and b > c) or c < d)\n",
    "print(a > b and (b > c or c < d))"
   ]
  },
  {
   "cell_type": "markdown",
   "metadata": {},
   "source": [
    "- 예제 3"
   ]
  },
  {
   "cell_type": "markdown",
   "metadata": {},
   "source": [
    "```python\n",
    "a > b or b > c and c < d\n",
    "```\n",
    "\n",
    "는\n",
    "\n",
    "```python\n",
    "a > b or (b > c and c < d)\n",
    "```\n",
    "\n",
    "와는 서로 등가이지만\n",
    "\n",
    "```python\n",
    "(a > b or b > c) and c < d)\n",
    "```\n",
    "\n",
    "와는 그렇지 않다."
   ]
  },
  {
   "cell_type": "code",
   "execution_count": 9,
   "metadata": {},
   "outputs": [
    {
     "name": "stdout",
     "output_type": "stream",
     "text": [
      "True\n",
      "True\n",
      "False\n"
     ]
    }
   ],
   "source": [
    "a = -2\n",
    "b = -7\n",
    "c = 1\n",
    "d = 0\n",
    "\n",
    "print(a > b or b > c and c < d)\n",
    "print(a > b or (b > c and c < d))\n",
    "print((a > b or b > c) and c < d)"
   ]
  },
  {
   "cell_type": "markdown",
   "metadata": {},
   "source": [
    "**`bool()` 형변환 함수**"
   ]
  },
  {
   "cell_type": "markdown",
   "metadata": {},
   "source": [
    "`bool()` 함수는 인자의 상태에 따라 `True` 또는 `False`를 반환한다.\n",
    "예를 들어, 0이 아닌 수는 참, 0은 거짓으로 처리된다."
   ]
  },
  {
   "cell_type": "code",
   "execution_count": 10,
   "metadata": {},
   "outputs": [
    {
     "data": {
      "text/plain": [
       "False"
      ]
     },
     "execution_count": 10,
     "metadata": {},
     "output_type": "execute_result"
    }
   ],
   "source": [
    "bool(0)"
   ]
  },
  {
   "cell_type": "code",
   "execution_count": 12,
   "metadata": {},
   "outputs": [
    {
     "data": {
      "text/plain": [
       "False"
      ]
     },
     "execution_count": 12,
     "metadata": {},
     "output_type": "execute_result"
    }
   ],
   "source": [
    "bool(0.0)"
   ]
  },
  {
   "cell_type": "code",
   "execution_count": 13,
   "metadata": {},
   "outputs": [
    {
     "data": {
      "text/plain": [
       "True"
      ]
     },
     "execution_count": 13,
     "metadata": {},
     "output_type": "execute_result"
    }
   ],
   "source": [
    "bool(17.1)"
   ]
  },
  {
   "cell_type": "markdown",
   "metadata": {},
   "source": [
    "`None`, 빈 문자열, 빈 리스트 또한 거짓으로 간주된다."
   ]
  },
  {
   "cell_type": "code",
   "execution_count": 14,
   "metadata": {},
   "outputs": [
    {
     "data": {
      "text/plain": [
       "False"
      ]
     },
     "execution_count": 14,
     "metadata": {},
     "output_type": "execute_result"
    }
   ],
   "source": [
    "bool(None)"
   ]
  },
  {
   "cell_type": "code",
   "execution_count": 19,
   "metadata": {},
   "outputs": [
    {
     "data": {
      "text/plain": [
       "False"
      ]
     },
     "execution_count": 19,
     "metadata": {},
     "output_type": "execute_result"
    }
   ],
   "source": [
    "bool('')"
   ]
  },
  {
   "cell_type": "code",
   "execution_count": 16,
   "metadata": {},
   "outputs": [
    {
     "data": {
      "text/plain": [
       "False"
      ]
     },
     "execution_count": 16,
     "metadata": {},
     "output_type": "execute_result"
    }
   ],
   "source": [
    "bool([])"
   ]
  },
  {
   "cell_type": "markdown",
   "metadata": {},
   "source": [
    "0, `None`, 빈 리스트와는 달리 무언가 있다는 것을 나타내는 값은 모두 참으로 간주된다."
   ]
  },
  {
   "cell_type": "code",
   "execution_count": 17,
   "metadata": {},
   "outputs": [
    {
     "data": {
      "text/plain": [
       "True"
      ]
     },
     "execution_count": 17,
     "metadata": {},
     "output_type": "execute_result"
    }
   ],
   "source": [
    "bool([1])"
   ]
  },
  {
   "cell_type": "code",
   "execution_count": 18,
   "metadata": {},
   "outputs": [
    {
     "data": {
      "text/plain": [
       "True"
      ]
     },
     "execution_count": 18,
     "metadata": {},
     "output_type": "execute_result"
    }
   ],
   "source": [
    "bool('abc')"
   ]
  },
  {
   "cell_type": "markdown",
   "metadata": {},
   "source": [
    "그런데 정수, 리스트, 문자열 등을 논리식에 사용할 때\n",
    "`bool()` 형변환 함수를 사용하지 않아도 된다.\n",
    "이유는 마치 `bool()` 형변환 함수가 적용된 것처럼 처리되기 때문이다."
   ]
  },
  {
   "cell_type": "code",
   "execution_count": 28,
   "metadata": {},
   "outputs": [
    {
     "data": {
      "text/plain": [
       "False"
      ]
     },
     "execution_count": 28,
     "metadata": {},
     "output_type": "execute_result"
    }
   ],
   "source": [
    "1 and False"
   ]
  },
  {
   "cell_type": "code",
   "execution_count": 29,
   "metadata": {},
   "outputs": [
    {
     "data": {
      "text/plain": [
       "True"
      ]
     },
     "execution_count": 29,
     "metadata": {},
     "output_type": "execute_result"
    }
   ],
   "source": [
    "0 or True"
   ]
  },
  {
   "cell_type": "code",
   "execution_count": 31,
   "metadata": {},
   "outputs": [
    {
     "data": {
      "text/plain": [
       "False"
      ]
     },
     "execution_count": 31,
     "metadata": {},
     "output_type": "execute_result"
    }
   ],
   "source": [
    "[1] and (1 < 0)"
   ]
  },
  {
   "cell_type": "code",
   "execution_count": 32,
   "metadata": {},
   "outputs": [
    {
     "data": {
      "text/plain": [
       "False"
      ]
     },
     "execution_count": 32,
     "metadata": {},
     "output_type": "execute_result"
    }
   ],
   "source": [
    "None or (1 < 0)"
   ]
  },
  {
   "cell_type": "markdown",
   "metadata": {},
   "source": [
    "**`and`와 `or` 연산자**"
   ]
  },
  {
   "cell_type": "markdown",
   "metadata": {},
   "source": [
    "`and` 와 `or` 두 연산자는 영어 단어 _and_ 와 _or_ 와는 조금 다르게 작동한다. \n",
    "예를 들어, 아래와 같이  `False and 3/0`를 실행하면 `False`로 계산되는데\n",
    "좀 이상하다. \n",
    "왜냐하면 `3/0` 이 `ZeroDivisionError` 라는 오류를 발생시켜야 할 것으로\n",
    "기대되기 때문이다."
   ]
  },
  {
   "cell_type": "code",
   "execution_count": 33,
   "metadata": {},
   "outputs": [
    {
     "data": {
      "text/plain": [
       "False"
      ]
     },
     "execution_count": 33,
     "metadata": {},
     "output_type": "execute_result"
    }
   ],
   "source": [
    "False and 3/0"
   ]
  },
  {
   "cell_type": "markdown",
   "metadata": {},
   "source": [
    "실제로 `3/0 and False` 를 실행하면 `3/0`을 먼저 확인하기에 오류가 발생한다. "
   ]
  },
  {
   "cell_type": "code",
   "execution_count": 34,
   "metadata": {},
   "outputs": [
    {
     "ename": "ZeroDivisionError",
     "evalue": "division by zero",
     "output_type": "error",
     "traceback": [
      "\u001b[0;31m---------------------------------------------------------------------------\u001b[0m",
      "\u001b[0;31mZeroDivisionError\u001b[0m                         Traceback (most recent call last)",
      "Cell \u001b[0;32mIn[34], line 1\u001b[0m\n\u001b[0;32m----> 1\u001b[0m \u001b[38;5;241m3\u001b[39m\u001b[38;5;241m/\u001b[39m\u001b[38;5;241m0\u001b[39m \u001b[38;5;129;01mand\u001b[39;00m \u001b[38;5;28;01mFalse\u001b[39;00m\n",
      "\u001b[0;31mZeroDivisionError\u001b[0m: division by zero"
     ]
    }
   ],
   "source": [
    "3/0 and False"
   ]
  },
  {
   "cell_type": "markdown",
   "metadata": {},
   "source": [
    "`False and 3/0` 를 실행할 때 오류가 발생하지 않은 이유는 \n",
    "`x and y`에서 `x`가 참일 때만 `y` 를 확인하기 때문이다.\n",
    "따라서 만약 `x`가 거짓으로 판명되면 논리식 전체를 바로 거짓으로 계산한다.\n",
    "즉, `x and y`는 `x`가 거짓일 때만 `y`를 확인하는데\n",
    "`False and 3/0`에서 `and` 연산자의 첫째 인자가 `False` 이기에\n",
    "둘째 인자인 `3/0`의 참, 거짓 여부는 아예 확인하지 않는다."
   ]
  },
  {
   "cell_type": "markdown",
   "metadata": {},
   "source": [
    "아래 코드는 `or` 연산자도 영어 단어 _or_와 조금 다르게 작동함을 보여준다."
   ]
  },
  {
   "cell_type": "code",
   "execution_count": 52,
   "metadata": {},
   "outputs": [
    {
     "data": {
      "text/plain": [
       "True"
      ]
     },
     "execution_count": 52,
     "metadata": {},
     "output_type": "execute_result"
    }
   ],
   "source": [
    "True or 3/0"
   ]
  },
  {
   "cell_type": "markdown",
   "metadata": {},
   "source": [
    "반면에 아래 코드를 실행하면 오류가 발생한다. "
   ]
  },
  {
   "cell_type": "code",
   "execution_count": 53,
   "metadata": {},
   "outputs": [
    {
     "ename": "ZeroDivisionError",
     "evalue": "division by zero",
     "output_type": "error",
     "traceback": [
      "\u001b[0;31m---------------------------------------------------------------------------\u001b[0m",
      "\u001b[0;31mZeroDivisionError\u001b[0m                         Traceback (most recent call last)",
      "Cell \u001b[0;32mIn[53], line 1\u001b[0m\n\u001b[0;32m----> 1\u001b[0m \u001b[38;5;241m3\u001b[39m\u001b[38;5;241m/\u001b[39m\u001b[38;5;241m0\u001b[39m \u001b[38;5;129;01mor\u001b[39;00m \u001b[38;5;28;01mTrue\u001b[39;00m\n",
      "\u001b[0;31mZeroDivisionError\u001b[0m: division by zero"
     ]
    }
   ],
   "source": [
    "3/0 or True"
   ]
  },
  {
   "cell_type": "markdown",
   "metadata": {},
   "source": [
    "`True or 3/0` 를 실행할 때 오류가 발생하지 않은 이유는 \n",
    "`x or y`에서 `x`가 거짓일 때만 `y` 를 확인하기 때문이다.\n",
    "따라서 만약 `x`가 참으로 판명되면 논리식 전체를 바로 참으로 계산한다.\n",
    "즉, `x or y`는 `x`가 거짓일 때만 `y`를 확인하는데\n",
    "`True or 3/0`에서 `or` 연산자의 첫째 인자가 `True` 이기에\n",
    "둘째 인자인 `3/0`의 참, 거짓 여부는 아예 확인하지 않는다."
   ]
  },
  {
   "cell_type": "markdown",
   "metadata": {},
   "source": [
    "## `if ... elif ... else ...` 명령문"
   ]
  },
  {
   "cell_type": "markdown",
   "metadata": {},
   "source": [
    "참, 거짓 여부를 판단해야 하는 경우가 세 개 이상일 때 조건문에 `elif` 키워드를 추가로 사용한다.\n",
    "예를 들어 아래 코드는 `x`와 `y`의 크기 비교를 위해 작을 때, 클 때, 같을 때 세 가지 경우로 판단한다."
   ]
  },
  {
   "cell_type": "code",
   "execution_count": 36,
   "metadata": {},
   "outputs": [
    {
     "name": "stdout",
     "output_type": "stream",
     "text": [
      "x가 y보다 작다\n"
     ]
    }
   ],
   "source": [
    "x = -2\n",
    "y = 3\n",
    "\n",
    "if x < y:\n",
    "    print('x가 y보다 작다')\n",
    "elif x > y:\n",
    "    print('x가 y보다 크다')\n",
    "else:\n",
    "    print('x와 y가 같다')"
   ]
  },
  {
   "cell_type": "markdown",
   "metadata": {},
   "source": [
    "`elif`는 영어의 ''else if''의 줄임말이며,\n",
    "사용하는 경우의 수 만큼 사용될 수 있다.\n",
    "`if`와 `elif` 문에 사용된 조건은 위에서부터 차례대로 확인되어\n",
    "참이되는 경우의 명령문이 실행되며 그러면 나머지 경우는 무시된다.\n",
    "따라서 위 코드의 조건문이 나타내는 세 가지 경우는 다음과 같다.\n",
    "\n",
    "- `x < y`가 참인 경우\n",
    "- `x < y`가 거짓이면서 `x > y`가 참인 경우\n",
    "- `x < y`와 `x > y` 모두 거짓인 경우, 즉 `x == y` 가 참인 경우"
   ]
  },
  {
   "cell_type": "markdown",
   "metadata": {},
   "source": [
    "이처럼 `if ... elif ... else ...` 에 사용된 논리식은 항상 이전의 논리식이 거짓임을 가정한다."
   ]
  },
  {
   "cell_type": "markdown",
   "metadata": {},
   "source": [
    "**예제**"
   ]
  },
  {
   "cell_type": "markdown",
   "metadata": {},
   "source": [
    "아래 코드는 `y`를 5로 나눈 나머지에 따라 다른 명령문을 다음과 같이 지정할 수 있다."
   ]
  },
  {
   "cell_type": "code",
   "execution_count": 43,
   "metadata": {},
   "outputs": [
    {
     "name": "stdout",
     "output_type": "stream",
     "text": [
      "나머지가 4\n"
     ]
    }
   ],
   "source": [
    "y = 4\n",
    "x = y % 5\n",
    "\n",
    "if x == 0:\n",
    "    print('나머지가 0')\n",
    "elif x == 1:\n",
    "    print('나머지가 1')\n",
    "elif x == 2:\n",
    "    print('나머지가 2')\n",
    "elif x == 3:\n",
    "    print('나머지가 3')\n",
    "else:\n",
    "    print('나머지가 4')"
   ]
  },
  {
   "cell_type": "markdown",
   "metadata": {},
   "source": [
    "`else`는 이전에 사용된 모든 논리식이 거짓일 때\n",
    "실행할 명령문을 지정하며 불필요할 경우 생략이 가능하다.\n",
    "위 코드에서 사용된 `else` 대신에\n",
    "아래 코드에서철 `elif`를 한 번 더 써도 동일한 결과가 나온다."
   ]
  },
  {
   "cell_type": "code",
   "execution_count": 44,
   "metadata": {},
   "outputs": [
    {
     "name": "stdout",
     "output_type": "stream",
     "text": [
      "나머지가 4\n"
     ]
    }
   ],
   "source": [
    "y = 4\n",
    "x = y % 5\n",
    "\n",
    "if x == 0:\n",
    "    print('나머지가 0')\n",
    "elif x == 1:\n",
    "    print('나머지가 1')\n",
    "elif x == 2:\n",
    "    print('나머지가 2')\n",
    "elif x == 3:\n",
    "    print('나머지가 3')\n",
    "elif x == 4:\n",
    "    print('나머지가 4')"
   ]
  },
  {
   "cell_type": "markdown",
   "metadata": {},
   "source": [
    "**예제**"
   ]
  },
  {
   "cell_type": "markdown",
   "metadata": {},
   "source": [
    "주어진 세 개의 정수 `a`, `b`, `c`중에서 최댓값을 확인하려면\n",
    "아래처럼 세 수를 비교해서 나머지 두 수보다 큰 값을 최댓값으로 정한다.\n",
    "\n",
    "- `a`가 `b`와 `c` 모두 보다 같거나 큰 경우: `a`가 최댓값\n",
    "- `b`가 `a`와 `c` 모두 보다 같거나 큰 경우: `b`가 최댓값\n",
    "- `c`가 `a`와 `b` 모두 보다 같거나 큰 경우: `c`가 최댓값"
   ]
  },
  {
   "cell_type": "code",
   "execution_count": 13,
   "metadata": {},
   "outputs": [
    {
     "name": "stdout",
     "output_type": "stream",
     "text": [
      "최댓값: 10\n"
     ]
    }
   ],
   "source": [
    "a = 3\n",
    "b = 7\n",
    "c = 10\n",
    "\n",
    "if a >= b and a >= c:\n",
    "    print(\"최댓값:\", a)\n",
    "elif b >= a and b >= c:\n",
    "    print(\"최댓값:\", b)\n",
    "elif c >= a and c >= b:\n",
    "    print(\"최댓값:\", c)"
   ]
  },
  {
   "cell_type": "markdown",
   "metadata": {},
   "source": [
    "그런데 위 코드에서 마지막 `elif` 명령문을 `else`로 대체해도 된다."
   ]
  },
  {
   "cell_type": "code",
   "execution_count": 14,
   "metadata": {},
   "outputs": [
    {
     "name": "stdout",
     "output_type": "stream",
     "text": [
      "최댓값: 10\n"
     ]
    }
   ],
   "source": [
    "a = 3\n",
    "b = 7\n",
    "c = 10\n",
    "\n",
    "if a >= b and a >= c:\n",
    "    print(\"최댓값:\", a)\n",
    "elif b >= a and b >= c:\n",
    "    print(\"최댓값:\", b)\n",
    "else:\n",
    "    print(\"최댓값:\", c)"
   ]
  },
  {
   "cell_type": "markdown",
   "metadata": {},
   "source": [
    "실제로 `a >= b and a >= c`과 `b >= a and b >= c` 모두 거짓인 경우 `a`, `b` 모두 `c` 보다 작다.\n",
    "이유는 [필수 예제](https://colab.research.google.com/github/codingalzi/pybook/blob/master/practices/examples-conditionals.ipynb)를 참고한다."
   ]
  },
  {
   "cell_type": "markdown",
   "metadata": {},
   "source": [
    "## 논리 연산자와 중첩 조건문"
   ]
  },
  {
   "cell_type": "markdown",
   "metadata": {},
   "source": [
    "`elif` 키워드는 사실 없어도 된다.\n",
    "예를 들어 아래 코드는 주어진 두 값을 비교할 때\n",
    "크거나, 작거나, 또는 같다의 세 경우를 \n",
    "다음과 같이 구분해서 처리한다.\n",
    "\n",
    "- `if`: `x < y`가 참인 경우 처리\n",
    "- `else`: `x < y`가 거짓인 경우. 따라서 `x > y`와 `x == y` 두 경우를 처리해야 함.\n",
    "    - `if`: `x < y`가 거짓이라는 전제 하에 `x > y`가 참인 경우 처리\n",
    "    - `else`: `x < y`가 거짓이라는 전제 하에 `x == y`가 참인 경우 처리"
   ]
  },
  {
   "cell_type": "code",
   "execution_count": 55,
   "metadata": {},
   "outputs": [
    {
     "name": "stdout",
     "output_type": "stream",
     "text": [
      "x가 y보다 작다\n"
     ]
    }
   ],
   "source": [
    "x = -2\n",
    "y = 3\n",
    "\n",
    "if x < y:\n",
    "    print('x가 y보다 작다')\n",
    "else:\n",
    "    if x > y:\n",
    "        print('x가 y보다 크다')\n",
    "    else:\n",
    "        print('x와 y가 같다')"
   ]
  },
  {
   "cell_type": "markdown",
   "metadata": {},
   "source": [
    "그런데 많은 경우 논리 연산자를 활용하면 중첩 조건문을 굳이 사용하지 않아도 된다.\n",
    "예를 들어 아래 코드는 중첩 조건문을 사용하여 `x`가 0보다 크면서 동시에 10보다 작은 경우를 다룬다."
   ]
  },
  {
   "cell_type": "code",
   "execution_count": 60,
   "metadata": {},
   "outputs": [
    {
     "name": "stdout",
     "output_type": "stream",
     "text": [
      "x가 0보다 크고 동시에 10보다 작다.\n"
     ]
    }
   ],
   "source": [
    "x = 3\n",
    "\n",
    "if 0 < x:\n",
    "    if x < 10:\n",
    "        print('x가 0보다 크고 동시에 10보다 작다.')"
   ]
  },
  {
   "cell_type": "markdown",
   "metadata": {},
   "source": [
    "`print()` 함수가 `0 < x`와 `x < 10` 두 조건을 모두 만족하는 경우에만\n",
    "실행되기에 아래와 같이 `and` 연산자를 이용할 수 있다."
   ]
  },
  {
   "cell_type": "code",
   "execution_count": 61,
   "metadata": {},
   "outputs": [
    {
     "name": "stdout",
     "output_type": "stream",
     "text": [
      "x가 0보다 크고 동시에 10보다 작다.\n"
     ]
    }
   ],
   "source": [
    "x = 3\n",
    "\n",
    "if 0 < x and x < 10:\n",
    "    print('x가 0보다 크고 동시에 10보다 작다.')"
   ]
  },
  {
   "cell_type": "markdown",
   "metadata": {},
   "source": [
    "참고로 `0 < x and x < 10` 을 `0 < x < 10`로 표현할 수 있다."
   ]
  },
  {
   "cell_type": "code",
   "execution_count": 62,
   "metadata": {},
   "outputs": [
    {
     "name": "stdout",
     "output_type": "stream",
     "text": [
      "x가 0보다 크고 동시에 10보다 작다.\n"
     ]
    }
   ],
   "source": [
    "x = 3\n",
    "\n",
    "if 0 < x < 10:\n",
    "    print('x가 0보다 크고 동시에 10보다 작다.')"
   ]
  },
  {
   "cell_type": "markdown",
   "metadata": {},
   "source": [
    "## 필수 예제"
   ]
  },
  {
   "cell_type": "markdown",
   "metadata": {},
   "source": [
    "참고: [(필수 예제) 조건문](https://colab.research.google.com/github/codingalzi/pybook/blob/master/examples/examples-conditionals.ipynb)"
   ]
  },
  {
   "cell_type": "markdown",
   "metadata": {},
   "source": [
    "## 연습문제 "
   ]
  },
  {
   "cell_type": "markdown",
   "metadata": {},
   "source": [
    "참고: [(실습) 조건문](https://colab.research.google.com/github/codingalzi/pybook/blob/master/practices/practice-conditionals.ipynb)"
   ]
  }
 ],
 "metadata": {
  "kernelspec": {
   "display_name": "Python 3 (ipykernel)",
   "language": "python",
   "name": "python3"
  },
  "language_info": {
   "codemirror_mode": {
    "name": "ipython",
    "version": 3
   },
   "file_extension": ".py",
   "mimetype": "text/x-python",
   "name": "python",
   "nbconvert_exporter": "python",
   "pygments_lexer": "ipython3",
   "version": "3.11.5"
  }
 },
 "nbformat": 4,
 "nbformat_minor": 1
}
