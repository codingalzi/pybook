{
 "cells": [
  {
   "cell_type": "markdown",
   "metadata": {},
   "source": [
    "# 프로그래밍 시작하기"
   ]
  },
  {
   "cell_type": "markdown",
   "metadata": {},
   "source": [
    "In the following examples, input and output are distinguished by the presence or absence of prompts (>>> and …): to repeat the example, you must type everything after the prompt, when the prompt appears; lines that do not begin with a prompt are output from the interpreter. Note that a secondary prompt on a line by itself in an example means you must type a blank line; this is used to end a multi-line command."
   ]
  },
  {
   "cell_type": "markdown",
   "metadata": {},
   "source": [
    "You can toggle the display of prompts and output by clicking on >>> in the upper-right corner of an example box. If you hide the prompts and output for an example, then you can easily copy and paste the input lines into your interpreter."
   ]
  },
  {
   "cell_type": "markdown",
   "metadata": {},
   "source": [
    "Many of the examples in this manual, even those entered at the interactive prompt, include comments. Comments in Python start with the hash character, #, and extend to the end of the physical line. A comment may appear at the start of a line or following whitespace or code, but not within a string literal. A hash character within a string literal is just a hash character. Since comments are to clarify code and are not interpreted by Python, they may be omitted when typing in examples.\n",
    "\n",
    "Some examples:"
   ]
  },
  {
   "cell_type": "code",
   "execution_count": 1,
   "metadata": {},
   "outputs": [],
   "source": [
    "# this is the first comment\n",
    "spam = 1  # and this is the second comment\n",
    "          # ... and now a third!\n",
    "text = \"# This is not a comment because it's inside quotes.\""
   ]
  },
  {
   "cell_type": "markdown",
   "metadata": {},
   "source": [
    "## 3.1. Using Python as a Calculator"
   ]
  },
  {
   "cell_type": "markdown",
   "metadata": {},
   "source": [
    "Let’s try some simple Python commands. Start the interpreter and wait for the primary prompt, >>>. (It shouldn’t take long.)"
   ]
  },
  {
   "cell_type": "markdown",
   "metadata": {},
   "source": [
    "### 3.1.1. Numbers"
   ]
  },
  {
   "cell_type": "markdown",
   "metadata": {},
   "source": [
    "The interpreter acts as a simple calculator: you can type an expression at it and it will write the value. Expression syntax is straightforward: the operators +, -, * and / work just like in most other languages (for example, Pascal or C); parentheses (()) can be used for grouping. For example:\n",
    "\n",
    "```python\n",
    ">>> 2 + 2\n",
    "4\n",
    ">>> 50 - 5*6\n",
    "20\n",
    ">>> (50 - 5*6) / 4\n",
    "5.0\n",
    ">>> 8 / 5  # division always returns a floating point number\n",
    "1.6\n",
    "```"
   ]
  },
  {
   "cell_type": "markdown",
   "metadata": {},
   "source": [
    "The integer numbers (e.g. 2, 4, 20) have type int, the ones with a fractional part (e.g. 5.0, 1.6) have type float. We will see more about numeric types later in the tutorial.\n",
    "\n",
    "Division (/) always returns a float. To do floor division and get an integer result (discarding any fractional result) you can use the // operator; to calculate the remainder you can use %:\n",
    "\n",
    "```python\n",
    ">>> 17 / 3  # classic division returns a float\n",
    "5.666666666666667\n",
    ">>>\n",
    ">>> 17 // 3  # floor division discards the fractional part\n",
    "5\n",
    ">>> 17 % 3  # the % operator returns the remainder of the division\n",
    "2\n",
    ">>> 5 * 3 + 2  # floored quotient * divisor + remainder\n",
    "17\n",
    "```"
   ]
  },
  {
   "cell_type": "markdown",
   "metadata": {},
   "source": [
    "With Python, it is possible to use the ** operator to calculate powers:\n",
    "\n",
    "```python\n",
    ">>> 5 ** 2  # 5 squared\n",
    "25\n",
    ">>> 2 ** 7  # 2 to the power of 7\n",
    "128\n",
    "```\n",
    "\n",
    "**주의**\n",
    "\n",
    "Since ** has higher precedence than -, -3**2 will be interpreted as -(3**2) and thus result in -9. To avoid this and get 9, you can use (-3)**2."
   ]
  },
  {
   "cell_type": "markdown",
   "metadata": {},
   "source": [
    "The equal sign (=) is used to assign a value to a variable. Afterwards, no result is displayed before the next interactive prompt:\n",
    "\n",
    "```python\n",
    ">>> width = 20\n",
    ">>> height = 5 * 9\n",
    ">>> width * height\n",
    "900\n",
    "```"
   ]
  },
  {
   "cell_type": "markdown",
   "metadata": {},
   "source": [
    "If a variable is not “defined” (assigned a value), trying to use it will give you an error:\n",
    "\n",
    "```python\n",
    ">>> n  # try to access an undefined variable\n",
    "Traceback (most recent call last):\n",
    "  File \"<stdin>\", line 1, in <module>\n",
    "NameError: name 'n' is not defined\n",
    "```"
   ]
  },
  {
   "cell_type": "markdown",
   "metadata": {},
   "source": [
    "There is full support for floating point; operators with mixed type operands convert the integer operand to floating point:\n",
    "\n",
    "```python\n",
    ">>> 4 * 3.75 - 1\n",
    "14.0\n",
    "```"
   ]
  },
  {
   "cell_type": "markdown",
   "metadata": {},
   "source": [
    "In interactive mode, the last printed expression is assigned to the variable _. This means that when you are using Python as a desk calculator, it is somewhat easier to continue calculations, for example:\n",
    "\n",
    "```python\n",
    ">>> tax = 12.5 / 100\n",
    ">>> price = 100.50\n",
    ">>> price * tax\n",
    "12.5625\n",
    ">>> price + _\n",
    "113.0625\n",
    ">>> round(_, 2)\n",
    "113.06\n",
    "```"
   ]
  },
  {
   "cell_type": "markdown",
   "metadata": {},
   "source": [
    "This variable should be treated as read-only by the user. Don’t explicitly assign a value to it — you would create an independent local variable with the same name masking the built-in variable with its magic behavior.\n",
    "\n",
    "In addition to int and float, Python supports other types of numbers, such as Decimal and Fraction. Python also has built-in support for complex numbers, and uses the j or J suffix to indicate the imaginary part (e.g. 3+5j)."
   ]
  },
  {
   "cell_type": "markdown",
   "metadata": {},
   "source": [
    "### 3.1.2. Strings"
   ]
  },
  {
   "cell_type": "markdown",
   "metadata": {},
   "source": [
    "Besides numbers, Python can also manipulate strings, which can be expressed in several ways. They can be enclosed in single quotes ('...') or double quotes (\"...\") with the same result. "
   ]
  },
  {
   "cell_type": "markdown",
   "metadata": {},
   "source": [
    "**주의**\n",
    "\n",
    "Unlike other languages, special characters such as \\n have the same meaning with both single ('...') and double (\"...\") quotes. The only difference between the two is that within single quotes you don’t need to escape \" (but you have to escape \\') and vice versa."
   ]
  },
  {
   "cell_type": "markdown",
   "metadata": {},
   "source": [
    "\\ can be used to escape quotes:\n",
    "\n",
    "```python\n",
    ">>> 'spam eggs'  # single quotes\n",
    "'spam eggs'\n",
    ">>> 'doesn\\'t'  # use \\' to escape the single quote...\n",
    "\"doesn't\"\n",
    ">>> \"doesn't\"  # ...or use double quotes instead\n",
    "\"doesn't\"\n",
    ">>> '\"Yes,\" they said.'\n",
    "'\"Yes,\" they said.'\n",
    ">>> \"\\\"Yes,\\\" they said.\"\n",
    "'\"Yes,\" they said.'\n",
    ">>> '\"Isn\\'t,\" they said.'\n",
    "'\"Isn\\'t,\" they said.'\n",
    "```"
   ]
  },
  {
   "cell_type": "markdown",
   "metadata": {},
   "source": [
    "In the interactive interpreter, the output string is enclosed in quotes and special characters are escaped with backslashes. While this might sometimes look different from the input (the enclosing quotes could change), the two strings are equivalent. The string is enclosed in double quotes if the string contains a single quote and no double quotes, otherwise it is enclosed in single quotes. The print() function produces a more readable output, by omitting the enclosing quotes and by printing escaped and special characters:\n",
    "\n",
    "```python\n",
    ">>> '\"Isn\\'t,\" they said.'\n",
    "'\"Isn\\'t,\" they said.'\n",
    ">>> print('\"Isn\\'t,\" they said.')\n",
    "\"Isn't,\" they said.\n",
    ">>> s = 'First line.\\nSecond line.'  # \\n means newline\n",
    ">>> s  # without print(), \\n is included in the output\n",
    "'First line.\\nSecond line.'\n",
    ">>> print(s)  # with print(), \\n produces a new line\n",
    "First line.\n",
    "Second line.\n",
    "```"
   ]
  },
  {
   "cell_type": "markdown",
   "metadata": {},
   "source": [
    "If you don’t want characters prefaced by \\ to be interpreted as special characters, you can use raw strings by adding an r before the first quote:\n",
    "\n",
    "```python\n",
    ">>> print('C:\\some\\name')  # here \\n means newline!\n",
    "C:\\some\n",
    "ame\n",
    ">>> print(r'C:\\some\\name')  # note the r before the quote\n",
    "C:\\some\\name\n",
    "```"
   ]
  },
  {
   "cell_type": "markdown",
   "metadata": {},
   "source": [
    "String literals can span multiple lines. One way is using triple-quotes: \"\"\"...\"\"\" or '''...'''. End of lines are automatically included in the string, but it’s possible to prevent this by adding a \\ at the end of the line. The following example:\n",
    "\n",
    "```python\n",
    "print(\"\"\"\\\n",
    "Usage: thingy [OPTIONS]\n",
    "     -h                        Display this usage message\n",
    "     -H hostname               Hostname to connect to\n",
    "\"\"\")\n",
    "```\n",
    "produces the following output (note that the initial newline is not included):\n",
    "\n",
    "```\n",
    "Usage: thingy [OPTIONS]\n",
    "     -h                        Display this usage message\n",
    "     -H hostname               Hostname to connect to\n",
    "```"
   ]
  },
  {
   "cell_type": "markdown",
   "metadata": {},
   "source": [
    "Strings can be concatenated (glued together) with the + operator, and repeated with *:\n",
    "\n",
    "```python\n",
    ">>> # 3 times 'un', followed by 'ium'\n",
    ">>> 3 * 'un' + 'ium'\n",
    "'unununium'\n",
    "```"
   ]
  },
  {
   "cell_type": "markdown",
   "metadata": {},
   "source": [
    "Two or more string literals (i.e. the ones enclosed between quotes) next to each other are automatically concatenated.\n",
    "\n",
    "```python\n",
    ">>> 'Py' 'thon'\n",
    "'Python'\n",
    "```"
   ]
  },
  {
   "cell_type": "markdown",
   "metadata": {},
   "source": [
    "This feature is particularly useful when you want to break long strings:\n",
    "\n",
    "```python\n",
    ">>> text = ('Put several strings within parentheses '\n",
    "...         'to have them joined together.')\n",
    ">>> text\n",
    "'Put several strings within parentheses to have them joined together.'\n",
    "```"
   ]
  },
  {
   "cell_type": "markdown",
   "metadata": {},
   "source": [
    "This only works with two literals though, not with variables or expressions:\n",
    "\n",
    "```python\n",
    ">>> prefix = 'Py'\n",
    ">>> prefix 'thon'  # can't concatenate a variable and a string literal\n",
    "  File \"<stdin>\", line 1\n",
    "    prefix 'thon'\n",
    "                ^\n",
    "SyntaxError: invalid syntax\n",
    ">>> ('un' * 3) 'ium'\n",
    "  File \"<stdin>\", line 1\n",
    "    ('un' * 3) 'ium'\n",
    "                   ^\n",
    "SyntaxError: invalid syntax\n",
    "```"
   ]
  },
  {
   "cell_type": "markdown",
   "metadata": {},
   "source": [
    "If you want to concatenate variables or a variable and a literal, use +:\n",
    "\n",
    "```python\n",
    ">>> prefix + 'thon'\n",
    "'Python'\n",
    "```"
   ]
  },
  {
   "cell_type": "markdown",
   "metadata": {},
   "source": [
    "Strings can be indexed (subscripted), with the first character having index 0. There is no separate character type; a character is simply a string of size one:\n",
    "\n",
    "```python\n",
    ">>> word = 'Python'\n",
    ">>> word[0]  # character in position 0\n",
    "'P'\n",
    ">>> word[5]  # character in position 5\n",
    "'n'\n",
    "```"
   ]
  },
  {
   "cell_type": "markdown",
   "metadata": {},
   "source": [
    "Indices may also be negative numbers, to start counting from the right:\n",
    "\n",
    "```python\n",
    ">>> word[-1]  # last character\n",
    "'n'\n",
    ">>> word[-2]  # second-last character\n",
    "'o'\n",
    ">>> word[-6]\n",
    "'P'\n",
    "```"
   ]
  },
  {
   "cell_type": "markdown",
   "metadata": {},
   "source": [
    "Note that since -0 is the same as 0, negative indices start from -1.\n",
    "\n",
    "In addition to indexing, slicing is also supported. While indexing is used to obtain individual characters, slicing allows you to obtain substring:\n",
    "\n",
    "```python\n",
    ">>> word[0:2]  # characters from position 0 (included) to 2 (excluded)\n",
    "'Py'\n",
    ">>> word[2:5]  # characters from position 2 (included) to 5 (excluded)\n",
    "'tho'\n",
    "```"
   ]
  },
  {
   "cell_type": "markdown",
   "metadata": {},
   "source": [
    "Slice indices have useful defaults; an omitted first index defaults to zero, an omitted second index defaults to the size of the string being sliced.\n",
    "\n",
    "```python\n",
    ">>> word[:2]   # character from the beginning to position 2 (excluded)\n",
    "'Py'\n",
    ">>> word[4:]   # characters from position 4 (included) to the end\n",
    "'on'\n",
    ">>> word[-2:]  # characters from the second-last (included) to the end\n",
    "'on'\n",
    "```"
   ]
  },
  {
   "cell_type": "markdown",
   "metadata": {},
   "source": [
    "Note how the start is always included, and the end always excluded. This makes sure that s[:i] + s[i:] is always equal to s:\n",
    "\n",
    "```python\n",
    ">>> word[:2] + word[2:]\n",
    "'Python'\n",
    ">>> word[:4] + word[4:]\n",
    "'Python'\n",
    "```"
   ]
  },
  {
   "cell_type": "markdown",
   "metadata": {},
   "source": [
    "One way to remember how slices work is to think of the indices as pointing between characters, with the left edge of the first character numbered 0. Then the right edge of the last character of a string of n characters has index n, for example:\n",
    "\n",
    "     +---+---+---+---+---+---+\n",
    "     | P | y | t | h | o | n |\n",
    "     +---+---+---+---+---+---+\n",
    "     0   1   2   3   4   5   6\n",
    "    -6  -5  -4  -3  -2  -1"
   ]
  },
  {
   "cell_type": "markdown",
   "metadata": {},
   "source": [
    "The first row of numbers gives the position of the indices 0…6 in the string; the second row gives the corresponding negative indices. The slice from i to j consists of all characters between the edges labeled i and j, respectively.\n",
    "\n",
    "For non-negative indices, the length of a slice is the difference of the indices, if both are within bounds. For example, the length of word[1:3] is 2."
   ]
  },
  {
   "cell_type": "markdown",
   "metadata": {},
   "source": [
    "Attempting to use an index that is too large will result in an error:\n",
    "\n",
    "```python\n",
    ">>> word[42]  # the word only has 6 characters\n",
    "Traceback (most recent call last):\n",
    "  File \"<stdin>\", line 1, in <module>\n",
    "IndexError: string index out of range\n",
    "```"
   ]
  },
  {
   "cell_type": "markdown",
   "metadata": {},
   "source": [
    "However, out of range slice indexes are handled gracefully when used for slicing:\n",
    "\n",
    "```python\n",
    ">>> word[4:42]\n",
    "'on'\n",
    ">>> word[42:]\n",
    "''\n",
    "```"
   ]
  },
  {
   "cell_type": "markdown",
   "metadata": {},
   "source": [
    "Python strings cannot be changed — they are immutable. Therefore, assigning to an indexed position in the string results in an error:\n",
    "\n",
    "```python\n",
    ">>> word[0] = 'J'\n",
    "Traceback (most recent call last):\n",
    "  File \"<stdin>\", line 1, in <module>\n",
    "TypeError: 'str' object does not support item assignment\n",
    ">>> word[2:] = 'py'\n",
    "Traceback (most recent call last):\n",
    "  File \"<stdin>\", line 1, in <module>\n",
    "TypeError: 'str' object does not support item assignment\n",
    "```"
   ]
  },
  {
   "cell_type": "markdown",
   "metadata": {},
   "source": [
    "If you need a different string, you should create a new one:\n",
    "\n",
    "```python\n",
    ">>> 'J' + word[1:]\n",
    "'Jython'\n",
    ">>> word[:2] + 'py'\n",
    "'Pypy'\n",
    "```"
   ]
  },
  {
   "cell_type": "markdown",
   "metadata": {},
   "source": [
    "The built-in function len() returns the length of a string:\n",
    "\n",
    "```python\n",
    ">>> s = 'supercalifragilisticexpialidocious'\n",
    ">>> len(s)\n",
    "34\n",
    "```"
   ]
  },
  {
   "cell_type": "markdown",
   "metadata": {},
   "source": [
    "**See also**\n",
    "\n",
    "Text Sequence Type — str\n",
    "Strings are examples of sequence types, and support the common operations supported by such types.\n",
    "\n",
    "String Methods\n",
    "Strings support a large number of methods for basic transformations and searching.\n",
    "\n",
    "Formatted string literals\n",
    "String literals that have embedded expressions.\n",
    "\n",
    "Format String Syntax\n",
    "Information about string formatting with str.format().\n",
    "\n",
    "printf-style String Formatting\n",
    "The old formatting operations invoked when strings are the left operand of the % operator are described in more detail here.\n",
    "```"
   ]
  },
  {
   "cell_type": "markdown",
   "metadata": {},
   "source": [
    "### 3.1.3. Lists"
   ]
  },
  {
   "cell_type": "markdown",
   "metadata": {},
   "source": [
    "Python knows a number of compound data types, used to group together other values. The most versatile is the list, which can be written as a list of comma-separated values (items) between square brackets. Lists might contain items of different types, but usually the items all have the same type.\n",
    "\n",
    "```python\n",
    ">>> squares = [1, 4, 9, 16, 25]\n",
    ">>> squares\n",
    "[1, 4, 9, 16, 25]\n",
    "```"
   ]
  },
  {
   "cell_type": "markdown",
   "metadata": {},
   "source": [
    "Like strings (and all other built-in sequence types), lists can be indexed and sliced:\n",
    "\n",
    "```python\n",
    ">>> squares[0]  # indexing returns the item\n",
    "1\n",
    ">>> squares[-1]\n",
    "25\n",
    ">>> squares[-3:]  # slicing returns a new list\n",
    "[9, 16, 25]\n",
    "```"
   ]
  },
  {
   "cell_type": "markdown",
   "metadata": {},
   "source": [
    "All slice operations return a new list containing the requested elements. This means that the following slice returns a shallow copy of the list:\n",
    "\n",
    "```python\n",
    ">>> squares[:]\n",
    "[1, 4, 9, 16, 25]\n",
    "```"
   ]
  },
  {
   "cell_type": "markdown",
   "metadata": {},
   "source": [
    "Lists also support operations like concatenation:\n",
    "\n",
    "```python\n",
    ">>> squares + [36, 49, 64, 81, 100]\n",
    "[1, 4, 9, 16, 25, 36, 49, 64, 81, 100]\n",
    "```"
   ]
  },
  {
   "cell_type": "markdown",
   "metadata": {},
   "source": [
    "Unlike strings, which are immutable, lists are a mutable type, i.e. it is possible to change their content:\n",
    "\n",
    "```python\n",
    ">>> cubes = [1, 8, 27, 65, 125]  # something's wrong here\n",
    ">>> 4 ** 3  # the cube of 4 is 64, not 65!\n",
    "64\n",
    ">>> cubes[3] = 64  # replace the wrong value\n",
    ">>> cubes\n",
    "[1, 8, 27, 64, 125]\n",
    "```"
   ]
  },
  {
   "cell_type": "markdown",
   "metadata": {},
   "source": [
    "You can also add new items at the end of the list, by using the append() method (we will see more about methods later):\n",
    "\n",
    "```python\n",
    ">>> cubes.append(216)  # add the cube of 6\n",
    ">>> cubes.append(7 ** 3)  # and the cube of 7\n",
    ">>> cubes\n",
    "[1, 8, 27, 64, 125, 216, 343]\n",
    "```"
   ]
  },
  {
   "cell_type": "markdown",
   "metadata": {},
   "source": [
    "Assignment to slices is also possible, and this can even change the size of the list or clear it entirely:\n",
    "\n",
    "```python\n",
    ">>> letters = ['a', 'b', 'c', 'd', 'e', 'f', 'g']\n",
    ">>> letters\n",
    "['a', 'b', 'c', 'd', 'e', 'f', 'g']\n",
    ">>> # replace some values\n",
    ">>> letters[2:5] = ['C', 'D', 'E']\n",
    ">>> letters\n",
    "['a', 'b', 'C', 'D', 'E', 'f', 'g']\n",
    ">>> # now remove them\n",
    ">>> letters[2:5] = []\n",
    ">>> letters\n",
    "['a', 'b', 'f', 'g']\n",
    ">>> # clear the list by replacing all the elements with an empty list\n",
    ">>> letters[:] = []\n",
    ">>> letters\n",
    "[]\n",
    "```"
   ]
  },
  {
   "cell_type": "markdown",
   "metadata": {},
   "source": [
    "The built-in function len() also applies to lists:\n",
    "\n",
    "```python\n",
    ">>> letters = ['a', 'b', 'c', 'd']\n",
    ">>> len(letters)\n",
    "4\n",
    "```"
   ]
  },
  {
   "cell_type": "markdown",
   "metadata": {},
   "source": [
    "It is possible to nest lists (create lists containing other lists), for example:\n",
    "\n",
    "```python\n",
    ">>> a = ['a', 'b', 'c']\n",
    ">>> n = [1, 2, 3]\n",
    ">>> x = [a, n]\n",
    ">>> x\n",
    "[['a', 'b', 'c'], [1, 2, 3]]\n",
    ">>> x[0]\n",
    "['a', 'b', 'c']\n",
    ">>> x[0][1]\n",
    "'b'\n",
    "```"
   ]
  },
  {
   "cell_type": "markdown",
   "metadata": {},
   "source": [
    "## 3.2. First Steps Towards Programming"
   ]
  },
  {
   "cell_type": "markdown",
   "metadata": {},
   "source": [
    "Of course, we can use Python for more complicated tasks than adding two and two together. For instance, we can write an initial sub-sequence of the Fibonacci series as follows:\n",
    "\n",
    "```python\n",
    ">>> # Fibonacci series:\n",
    "... # the sum of two elements defines the next\n",
    "... a, b = 0, 1\n",
    ">>> while a < 10:\n",
    "...     print(a)\n",
    "...     a, b = b, a+b\n",
    "...\n",
    "0\n",
    "1\n",
    "1\n",
    "2\n",
    "3\n",
    "5\n",
    "8\n",
    "```"
   ]
  },
  {
   "cell_type": "markdown",
   "metadata": {},
   "source": [
    "This example introduces several new features.\n",
    "\n",
    "- The first line contains a multiple assignment: the variables a and b simultaneously get the new values 0 and 1. On the last line this is used again, demonstrating that the expressions on the right-hand side are all evaluated first before any of the assignments take place. The right-hand side expressions are evaluated from the left to the right.\n",
    "\n",
    "- The while loop executes as long as the condition (here: a < 10) remains true. In Python, like in C, any non-zero integer value is true; zero is false. The condition may also be a string or list value, in fact any sequence; anything with a non-zero length is true, empty sequences are false. The test used in the example is a simple comparison. The standard comparison operators are written the same as in C: < (less than), > (greater than), == (equal to), <= (less than or equal to), >= (greater than or equal to) and != (not equal to).\n",
    "\n",
    "- The body of the loop is indented: indentation is Python’s way of grouping statements. At the interactive prompt, you have to type a tab or space(s) for each indented line. In practice you will prepare more complicated input for Python with a text editor; all decent text editors have an auto-indent facility. When a compound statement is entered interactively, it must be followed by a blank line to indicate completion (since the parser cannot guess when you have typed the last line). Note that each line within a basic block must be indented by the same amount.\n",
    "\n",
    "- The `print()` function writes the value of the argument(s) it is given. It differs from just writing the expression you want to write (as we did earlier in the calculator examples) in the way it handles multiple arguments, floating point quantities, and strings. Strings are printed without quotes, and a space is inserted between items, so you can format things nicely, like this:"
   ]
  },
  {
   "cell_type": "markdown",
   "metadata": {},
   "source": [
    "```python\n",
    ">>> i = 256*256\n",
    ">>> print('The value of i is', i)\n",
    "The value of i is 65536\n",
    "```"
   ]
  },
  {
   "cell_type": "markdown",
   "metadata": {},
   "source": [
    "The keyword argument end can be used to avoid the newline after the output, or end the output with a different string:\n",
    "\n",
    "```python\n",
    ">>> a, b = 0, 1\n",
    ">>> while a < 1000:\n",
    "...     print(a, end=',')\n",
    "...     a, b = b, a+b\n",
    "...\n",
    "0,1,1,2,3,5,8,13,21,34,55,89,144,233,377,610,987,\n",
    "```"
   ]
  }
 ],
 "metadata": {
  "kernelspec": {
   "display_name": "Python 3 (ipykernel)",
   "language": "python",
   "name": "python3"
  },
  "language_info": {
   "codemirror_mode": {
    "name": "ipython",
    "version": 3
   },
   "file_extension": ".py",
   "mimetype": "text/x-python",
   "name": "python",
   "nbconvert_exporter": "python",
   "pygments_lexer": "ipython3",
   "version": "3.9.7"
  },
  "toc": {
   "base_numbering": 1,
   "nav_menu": {},
   "number_sections": false,
   "sideBar": true,
   "skip_h1_title": false,
   "title_cell": "목차",
   "title_sidebar": "Contents",
   "toc_cell": true,
   "toc_position": {},
   "toc_section_display": true,
   "toc_window_display": true
  }
 },
 "nbformat": 4,
 "nbformat_minor": 4
}
