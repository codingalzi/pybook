{
 "cells": [
  {
   "cell_type": "markdown",
   "id": "3efee1fe",
   "metadata": {},
   "source": [
    "(case:inheritance)=\n",
    "# 사례 연구: 상속"
   ]
  },
  {
   "cell_type": "markdown",
   "id": "8cd45412",
   "metadata": {},
   "source": [
    "## 클래스 상속"
   ]
  },
  {
   "cell_type": "markdown",
   "id": "c00961bc",
   "metadata": {},
   "source": [
    "{numref}`%s장 <ch:oop>`에서 사용한 `Sprite` 클래스를 상속해서\n",
    "캐릭터에 새로운 기능을 추가한다."
   ]
  },
  {
   "cell_type": "markdown",
   "id": "1a7394fe",
   "metadata": {},
   "source": [
    "**참고**\n",
    "\n",
    "여기서 사용하는 코드는\n",
    "[(레플릿) 충돌 감지 - 상속 1](https://replit.com/@codingrg/collisiondectioninheritance1#main.py)에서\n",
    "확인하고 직접 실행할 수 있다."
   ]
  },
  {
   "cell_type": "markdown",
   "id": "68fe5802",
   "metadata": {},
   "source": [
    "**기본 설정**\n",
    "\n",
    "기본 설정은 이전과 동일하다."
   ]
  },
  {
   "cell_type": "markdown",
   "id": "d1e84183",
   "metadata": {},
   "source": [
    "```python\n",
    "import turtle\n",
    "import math\n",
    "\n",
    "wn = turtle.Screen()\n",
    "wn.bgcolor(\"black\")\n",
    "wn.title(\"Collision Detection by @TokyoEdtech\")\n",
    "wn.tracer(0)\n",
    "\n",
    "pen = turtle.Turtle()\n",
    "pen.speed(0)\n",
    "pen.hideturtle()\n",
    "\n",
    "shapes = [\"wizard.gif\", \"goblin.gif\", \"pacman.gif\", \"cherry.gif\", \"bar.gif\", \"ball.gif\", \"x.gif\"]\n",
    "\n",
    "for shape in shapes:\n",
    "    wn.register_shape(shape)\n",
    "    \n",
    "```    "
   ]
  },
  {
   "cell_type": "markdown",
   "id": "0a79138d",
   "metadata": {},
   "source": [
    "**스프라이트 클래스**"
   ]
  },
  {
   "cell_type": "markdown",
   "id": "37c849cc",
   "metadata": {},
   "source": [
    "이전에 정의했던 `Sprite` 클래스는 다음과 같다."
   ]
  },
  {
   "cell_type": "markdown",
   "id": "e8577830",
   "metadata": {},
   "source": [
    "```python\n",
    "class Sprite():\n",
    "    \n",
    "    ## 생성자: 스프라이트의 위치, 가로/세로 크기, 이미지 지정\n",
    "\n",
    "    def __init__(self, x, y, width, height, image):\n",
    "        self.x = x\n",
    "        self.y = y\n",
    "        self.width = width\n",
    "        self.height = height\n",
    "        self.image = image\n",
    "\n",
    "    ## 스프라이트 메서드\n",
    "\n",
    "    # 지정된 위치로 스프라이트 이동 후 도장 찍기\n",
    "    def render(self, pen):\n",
    "        pen.goto(self.x, self.y)\n",
    "        pen.shape(self.image)\n",
    "        pen.stamp()\n",
    "\n",
    "    # 충돌 감지 방법 1: 두 스프라이트의 중심이 일치할 때 충돌 발생\n",
    "    def is_overlapping_collision(self, other):\n",
    "        if self.x == other.x and self.y == other.y:\n",
    "            return True\n",
    "        else:\n",
    "            return False\n",
    "\n",
    "    # 충돌 감지 방법 2: 두 스프라이트 사이의 거리가 두 객체의 너비의 평균값 보다 작을 때 충돌 발생\n",
    "    def is_distance_collision(self, other):\n",
    "        distance = (((self.x-other.x) ** 2) + ((self.y-other.y) ** 2)) ** 0.5\n",
    "        if distance < (self.width + other.width)/2.0:\n",
    "            return True\n",
    "        else:\n",
    "            return False\n",
    "\n",
    "    # 충돌 감지 방법 3: 각각의 스프라이트를 둘러썬 경계상자가 겹칠 때 충돌 발생\n",
    "    # aabb: Axis Aligned Bounding Box\n",
    "    def is_aabb_collision(self, other):\n",
    "        x_collision = (math.fabs(self.x - other.x) * 2) < (self.width + other.width)\n",
    "        y_collision = (math.fabs(self.y - other.y) * 2) < (self.height + other.height)\n",
    "        return (x_collision and y_collision)\n",
    "```    "
   ]
  },
  {
   "cell_type": "markdown",
   "id": "fad3be9a",
   "metadata": {},
   "source": [
    "**스프라이트 클래스 상속**"
   ]
  },
  {
   "cell_type": "markdown",
   "id": "81a654e8",
   "metadata": {},
   "source": [
    "`Sprite` 클래스를 상속하면서 `Character` 클래스를 정의한다.\n",
    "생성자 함수가 조금 달라지며,\n",
    "객체의 점프 기능을 담당하는 `hop()` 메서드가 추가된다.\n",
    "하지만 `hop()` 함수를 실행했을 때\n",
    "점프 기능이 지정된 경우에만 작동하도록 설정한다."
   ]
  },
  {
   "cell_type": "markdown",
   "id": "2efb9500",
   "metadata": {},
   "source": [
    "```python\n",
    "class Character(Sprite):\n",
    "\tdef __init__(self, x, y, width, height, image, jump=False):\n",
    "\t\tsuper().__init__(x, y, width, height, image) # 부모 클래스의 초기화 그대로 활용\n",
    "\t\tself.jump = jump                             # jump 기능 지정\n",
    "\n",
    "\t# 점프 기능 담당 메서드: jump=True일 경우에만 작동.\n",
    "    def hop(self):\n",
    "\t\tif self.jump == True:\n",
    "\t\t\tself.x += 300\n",
    "```    "
   ]
  },
  {
   "cell_type": "markdown",
   "id": "836e5769",
   "metadata": {},
   "source": [
    "**객체 생성**"
   ]
  },
  {
   "cell_type": "markdown",
   "id": "feb9f17d",
   "metadata": {},
   "source": [
    "부모 클래스와 자식 클래스 모두를 이용하여 객체를 생성할 수 있다.\n",
    "`wizard`와 `pacman`은 `Character` 클래스의 인스턴스로, \n",
    "나머지는 `Sprite` 클래스의 인스턴스로 선언된다.\n",
    "또한 `pacman` 객체는 점프 기능도 갖는다.\n",
    "`wizard` 객체는 점프 기능을 제대로 갖추지 못했기에 `Sprite` 클래스의 인스턴스와 \n",
    "동일한 기능만 수행한다."
   ]
  },
  {
   "cell_type": "markdown",
   "id": "73c0c011",
   "metadata": {},
   "source": [
    "```python\n",
    "wizard = Character(-128, 200, 128, 128, \"wizard.gif\")\n",
    "goblin = Sprite(128, 200, 108, 128, \"goblin.gif\")\n",
    "\n",
    "pacman = Character(-128, 0, 128, 128, \"pacman.gif\", jump=True)\n",
    "cherry = Sprite(128, 0, 128, 128, \"cherry.gif\")\n",
    "\n",
    "bar = Sprite(0, -400, 128, 24, \"bar.gif\")\n",
    "ball = Sprite(0,-200, 32, 32, \"ball.gif\")\n",
    "\n",
    "# 스프라이트 모음 리스트\n",
    "sprites = [wizard, goblin, pacman, cherry, bar, ball]\n",
    "```    "
   ]
  },
  {
   "cell_type": "markdown",
   "id": "6a181a80",
   "metadata": {},
   "source": [
    "**이벤트와 콜백 함수**\n",
    "\n",
    "팩맨의 점프 기능을 담당하는 콜백 함수와 이벤트 처리 기능이 추가된다."
   ]
  },
  {
   "cell_type": "markdown",
   "id": "863be02f",
   "metadata": {},
   "source": [
    "```python\n",
    "# 고블린 이동\n",
    "def move_goblin():\n",
    "    goblin.x -= 64\n",
    "\n",
    "# 팩맨 이동\n",
    "def move_pacman():\n",
    "    pacman.x += 30\n",
    "\n",
    "# 팩맨 점프\n",
    "def jump_pacman():\n",
    "    pacman.x += 300\n",
    "\n",
    "# 야구공 이동\n",
    "def move_ball():\n",
    "    ball.y -= 24\n",
    "\n",
    "# 이벤트 처리\n",
    "wn.listen()\n",
    "wn.onkeypress(move_goblin, \"Left\")  # 왼쪽 방향 화살표 입력\n",
    "wn.onkeypress(move_pacman, \"Right\") # 오른쪽 방향 화살표 입력\n",
    "wn.onkeypress(jump_pacman, \"space\") # 스페이크 키 입력\n",
    "wn.onkeypress(move_ball, \"Down\")    # 아래방향 화살표 입력\n",
    "```    "
   ]
  },
  {
   "cell_type": "markdown",
   "id": "b9bad0c6",
   "metadata": {},
   "source": [
    "**게임 실행**\n",
    "\n",
    "게임 실행 코드는 이전과 동일하다."
   ]
  },
  {
   "cell_type": "markdown",
   "id": "71aa92a5",
   "metadata": {},
   "source": [
    "```python\n",
    "while True:\n",
    "    \n",
    "    # 각 스프라이트 위치 이동 및 도장 찍기\n",
    "    for sprite in sprites:\n",
    "        sprite.render(pen)\n",
    "        \n",
    "    # 충돌 여부 확인\n",
    "    if wizard.is_overlapping_collision(goblin):\n",
    "        wizard.image = \"x.gif\"\n",
    "        \n",
    "    if pacman.is_distance_collision(cherry):\n",
    "        cherry.image = \"x.gif\"\n",
    "        \n",
    "    if bar.is_aabb_collision(ball):\n",
    "        ball.image = \"x.gif\"\n",
    "        \n",
    "    wn.update() # 화면 업데이트\n",
    "    pen.clear() # 스프라이트 이동흔적 삭제\n",
    "```    "
   ]
  },
  {
   "cell_type": "markdown",
   "id": "3b1a21c9",
   "metadata": {},
   "source": [
    "## 모듈 활용 클래스 상속"
   ]
  },
  {
   "cell_type": "markdown",
   "id": "e7e44de5",
   "metadata": {},
   "source": [
    "다른 파이썬 파일(모듈)에 정의된 `Sprite` 클래스를 상속하는 `Character` 클래스를 선언한다."
   ]
  },
  {
   "cell_type": "markdown",
   "id": "43dee8a0",
   "metadata": {},
   "source": [
    "**참고**\n",
    "\n",
    "여기서 사용하는 코드는\n",
    "[(레플릿) 충돌 감지 - 상속 2](https://replit.com/@codingrg/collisiondetectioninheritance2#main.py)에서\n",
    "확인하고 직접 실행할 수 있다.\n",
    "레플릿 사이트의 특성상 주 실행파일의 이름은 `main.py` 이어야 한다. \n",
    "따라서 `Sprite` 클래스는 `collision_detection.py` 라는 다른 파일에 정의되어 있다."
   ]
  },
  {
   "cell_type": "markdown",
   "id": "ae592492",
   "metadata": {},
   "source": [
    "**파일 구성**\n",
    "\n",
    "아래 두 개의 파일로 구성된다.\n",
    "\n",
    "- `collision_detection.py`: 캔버스 기본 설정과 `Sprite` 클래스 정의\n",
    "- `main.py`: `Character` 클래스 정의와 실행에 필요한 모든 코드"
   ]
  },
  {
   "cell_type": "markdown",
   "id": "1c2f73a8",
   "metadata": {},
   "source": [
    "**`collision_dection.py` 파일**"
   ]
  },
  {
   "cell_type": "markdown",
   "id": "225b08f0",
   "metadata": {},
   "source": [
    "캔버스 기본 설정과 `Sprite` 클래스의 정의가 포함된다."
   ]
  },
  {
   "cell_type": "markdown",
   "id": "27638c69",
   "metadata": {},
   "source": [
    "```python\n",
    "import turtle\n",
    "import math\n",
    "\n",
    "wn = turtle.Screen()\n",
    "wn.bgcolor(\"black\")\n",
    "wn.title(\"Collision Detection by @TokyoEdtech\")\n",
    "wn.tracer(0)\n",
    "\n",
    "pen = turtle.Turtle()\n",
    "pen.speed(0)\n",
    "pen.hideturtle()\n",
    "\n",
    "shapes = [\"wizard.gif\", \"goblin.gif\", \"pacman.gif\", \"cherry.gif\", \"bar.gif\", \"ball.gif\", \"x.gif\"]\n",
    "\n",
    "for shape in shapes:\n",
    "    wn.register_shape(shape)\n",
    "    \n",
    "class Sprite():\n",
    "    \n",
    "    ## 생성자: 스프라이트의 위치, 가로/세로 크기, 이미지 지정\n",
    "\n",
    "    def __init__(self, x, y, width, height, image):\n",
    "        self.x = x\n",
    "        self.y = y\n",
    "        self.width = width\n",
    "        self.height = height\n",
    "        self.image = image\n",
    "\n",
    "    ## 스프라이트 메서드\n",
    "\n",
    "    # 지정된 위치로 스프라이트 이동 후 도장 찍기\n",
    "    def render(self, pen):\n",
    "        pen.goto(self.x, self.y)\n",
    "        pen.shape(self.image)\n",
    "        pen.stamp()\n",
    "\n",
    "    # 충돌 감지 방법 1: 두 스프라이트의 중심이 일치할 때 충돌 발생\n",
    "    def is_overlapping_collision(self, other):\n",
    "        if self.x == other.x and self.y == other.y:\n",
    "            return True\n",
    "        else:\n",
    "            return False\n",
    "\n",
    "    # 충돌 감지 방법 2: 두 스프라이트 사이의 거리가 두 객체의 너비의 평균값 보다 작을 때 충돌 발생\n",
    "    def is_distance_collision(self, other):\n",
    "        distance = (((self.x-other.x) ** 2) + ((self.y-other.y) ** 2)) ** 0.5\n",
    "        if distance < (self.width + other.width)/2.0:\n",
    "            return True\n",
    "        else:\n",
    "            return False\n",
    "\n",
    "    # 충돌 감지 방법 3: 각각의 스프라이트를 둘러썬 경계상자가 겹칠 때 충돌 발생\n",
    "    # aabb: Axis Aligned Bounding Box\n",
    "    def is_aabb_collision(self, other):\n",
    "        x_collision = (math.fabs(self.x - other.x) * 2) < (self.width + other.width)\n",
    "        y_collision = (math.fabs(self.y - other.y) * 2) < (self.height + other.height)\n",
    "        return (x_collision and y_collision)\n",
    "```    "
   ]
  },
  {
   "cell_type": "markdown",
   "id": "ddd10f70",
   "metadata": {},
   "source": [
    "**`main.py` 파일**"
   ]
  },
  {
   "cell_type": "markdown",
   "id": "85bf4854",
   "metadata": {},
   "source": [
    "실행 관련 나머지 코드를 포함한다.\n",
    "단, `Sprite` 클래스가 선언된 `collision_detection` 모듈에서 필요한 모든 것을 불러온다."
   ]
  },
  {
   "cell_type": "markdown",
   "id": "e6935dd4",
   "metadata": {},
   "source": [
    "```python\n",
    "from collision_detection import *\n",
    "\n",
    "class Character(Sprite):\n",
    "\tdef __init__(self, x, y, width, height, image, jump=False):\n",
    "\t\tsuper().__init__(x, y, width, height, image) # 부모 클래스의 초기화 그대로 활용\n",
    "\t\tself.jump = jump                             # jump 기능 지정\n",
    "\n",
    "\t# 점프 기능 담당 메서드: jump=True일 경우에만 작동.\n",
    "    def hop(self):\n",
    "\t\tif self.jump == True:\n",
    "\t\t\tself.x += 300\n",
    "\n",
    "wizard = Character(-128, 200, 128, 128, \"wizard.gif\")\n",
    "goblin = Sprite(128, 200, 108, 128, \"goblin.gif\")\n",
    "\n",
    "pacman = Character(-128, 0, 128, 128, \"pacman.gif\", jump=True)\n",
    "cherry = Sprite(128, 0, 128, 128, \"cherry.gif\")\n",
    "\n",
    "bar = Sprite(0, -400, 128, 24, \"bar.gif\")\n",
    "ball = Sprite(0,-200, 32, 32, \"ball.gif\")\n",
    "\n",
    "# 스프라이트 모음 리스트\n",
    "sprites = [wizard, goblin, pacman, cherry, bar, ball]\n",
    "\n",
    "# 고블린 이동\n",
    "def move_goblin():\n",
    "    goblin.x -= 64\n",
    "\n",
    "# 팩맨 이동\n",
    "def move_pacman():\n",
    "    pacman.x += 30\n",
    "\n",
    "# 팩맨 점프\n",
    "def jump_pacman():\n",
    "    pacman.x += 300\n",
    "\n",
    "# 야구공 이동\n",
    "def move_ball():\n",
    "    ball.y -= 24\n",
    "\n",
    "# 이벤트 처리\n",
    "wn.listen()\n",
    "wn.onkeypress(move_goblin, \"Left\")  # 왼쪽 방향 화살표 입력\n",
    "wn.onkeypress(move_pacman, \"Right\") # 오른쪽 방향 화살표 입력\n",
    "wn.onkeypress(jump_pacman, \"space\") # 스페이크 키 입력\n",
    "wn.onkeypress(move_ball, \"Down\")    # 아래방향 화살표 입력\n",
    "\n",
    "while True:\n",
    "    \n",
    "    # 각 스프라이트 위치 이동 및 도장 찍기\n",
    "    for sprite in sprites:\n",
    "        sprite.render(pen)\n",
    "        \n",
    "    # 충돌 여부 확인\n",
    "    if wizard.is_overlapping_collision(goblin):\n",
    "        wizard.image = \"x.gif\"\n",
    "        \n",
    "    if pacman.is_distance_collision(cherry):\n",
    "        cherry.image = \"x.gif\"\n",
    "        \n",
    "    if bar.is_aabb_collision(ball):\n",
    "        ball.image = \"x.gif\"\n",
    "        \n",
    "    wn.update() # 화면 업데이트\n",
    "    pen.clear() # 스프라이트 이동흔적 삭제\n",
    "```    "
   ]
  }
 ],
 "metadata": {
  "kernelspec": {
   "display_name": "Python 3 (ipykernel)",
   "language": "python",
   "name": "python3"
  },
  "language_info": {
   "codemirror_mode": {
    "name": "ipython",
    "version": 3
   },
   "file_extension": ".py",
   "mimetype": "text/x-python",
   "name": "python",
   "nbconvert_exporter": "python",
   "pygments_lexer": "ipython3",
   "version": "3.10.9"
  }
 },
 "nbformat": 4,
 "nbformat_minor": 5
}
