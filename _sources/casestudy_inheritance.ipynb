{
 "cells": [
  {
   "cell_type": "markdown",
   "id": "3efee1fe",
   "metadata": {},
   "source": [
    "(case:inheritance)=\n",
    "# 사례 연구: 상속"
   ]
  },
  {
   "cell_type": "markdown",
   "id": "8bd4d794",
   "metadata": {},
   "source": [
    "- 참고: [파이썬 실전 프로젝트: 거북이 클래스/객체(인스턴스) 생성](https://opentutorials.org/module/2980/23827)"
   ]
  },
  {
   "cell_type": "markdown",
   "id": "26445544",
   "metadata": {},
   "source": [
    "```python\n",
    "import turtle\n",
    " \n",
    "t1 = turtle.Turtle() # t1 이라는 거북이 인스턴스 생성\n",
    "t2 = turtle.Turtle() # t2 라는 거북이 인스턴스 생성\n",
    " \n",
    "t1.shape('turtle')\n",
    "t1.color('red')\n",
    "t1.fd(50)\n",
    " \n",
    "t2.shape('turtle')\n",
    "t2.color('blue')\n",
    "t2.left(90)\n",
    "t2.fd(70)\n",
    " \n",
    "turtle.exitonclick() # 클릭시 창을 닫아주는 명령어\n",
    "```"
   ]
  },
  {
   "cell_type": "markdown",
   "id": "6fa9f346",
   "metadata": {},
   "source": [
    "```python\n",
    "class Turtle_new(turtle.Turtle):\n",
    "    def box(self, pos_x, pos_y, x, y, color):\n",
    "        self.penup()\n",
    "        self.goto(pos_x - x/2,pos_y - y/2)\n",
    "        self.pendown()\n",
    "        self.speed('fast')\n",
    "        self.color(color)\n",
    "        self.begin_fill()\n",
    "        self.fd(x)\n",
    "        self.left(90)\n",
    "        self.fd(y)\n",
    "        self.left(90)\n",
    "        self.fd(x)\n",
    "        self.left(90)\n",
    "        self.fd(y)\n",
    "        self.left(90)\n",
    "        self.end_fill()\n",
    " \n",
    "t3 = Turtle_new()\n",
    " \n",
    "t3.fd(100)\n",
    "t3.box(-50,-150,80,50,'blue')\n",
    " \n",
    "turtle.exitonclick()\n",
    "```"
   ]
  },
  {
   "cell_type": "markdown",
   "id": "a8fa44b9",
   "metadata": {},
   "source": [
    "```python\n",
    "t1 = Turtle_new()\n",
    "t2 = Turtle_new()\n",
    "t3 = Turtle_new()\n",
    "\n",
    "t1.shape('turtle')\n",
    "t1.color('red')\n",
    "t1.fd(50)\n",
    "t1.box(100,0,50,50,'red')\n",
    " \n",
    "t2.shape('turtle')\n",
    "t2.color('blue')\n",
    "t2.left(90)\n",
    "t2.fd(70)\n",
    "t2.box(0,100,50,50,'blue')\n",
    " \n",
    "t3.shape('turtle')\n",
    "t3.color('green')\n",
    "t3.box(-50,0,80,50,'green')\n",
    "```"
   ]
  }
 ],
 "metadata": {
  "kernelspec": {
   "display_name": "Python 3 (ipykernel)",
   "language": "python",
   "name": "python3"
  },
  "language_info": {
   "codemirror_mode": {
    "name": "ipython",
    "version": 3
   },
   "file_extension": ".py",
   "mimetype": "text/x-python",
   "name": "python",
   "nbconvert_exporter": "python",
   "pygments_lexer": "ipython3",
   "version": "3.10.9"
  }
 },
 "nbformat": 4,
 "nbformat_minor": 5
}
