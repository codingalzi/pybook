{
 "cells": [
  {
   "cell_type": "markdown",
   "metadata": {},
   "source": [
    "(ch:exception_handling)=\n",
    "# 프로그램 오류와 예외처리"
   ]
  },
  {
   "cell_type": "markdown",
   "metadata": {},
   "source": [
    "## 프로그램 오류와 디버깅"
   ]
  },
  {
   "cell_type": "markdown",
   "metadata": {},
   "source": [
    "오류 없는 완벽한 프로그램은 현실적으로 불가능하며, 프로그램을 구현하고 실행하면 거의 항상 오류가 발생한다.\n",
    "프로그래밍 단계에서부터 발생할 수 있는 오류의 종류와 원인을 미리 예상해서\n",
    "오류가 발생하더라도 시스템이 다운되지 않도록 대비해야 한다.\n",
    "\n",
    "예를 들어, 변수 이름으로 `class` 등의 지정어를 사용하거나, `odd~job` 또는 `US$`처럼 \n",
    "허용되지 않은 기호를 포함하는 경우에 파이썬 실행기는 \n",
    "**오류**<font size=\"2\">error</font>를 발생시키며 곧바로 프로그램의 실행을 멈춘다.\n",
    "예를 들어, 아래와 같이 변수 이름에 공백을 사용하여 실행한 결과를 확인해 보자.\n",
    "\n",
    "```python\n",
    ">>> bad name = 5\n",
    "  File \"<stdin>\", line 1\n",
    "    bad name = 5\n",
    "        ^\n",
    "SyntaxError: invalid syntax\n",
    "```    \n",
    "\n",
    "오류가 발생하면 오류의 원인을 찾아 해결해야 한다.\n",
    "이렇게 프로그램의 오류를 찾아 해결하는 과정을 **디버깅**(debugging)이라 부른다.\n",
    "\n",
    "프로그램의 오류는 크게 세 가지 유형으로 나뉜다."
   ]
  },
  {
   "cell_type": "markdown",
   "metadata": {},
   "source": [
    "**구문 오류**"
   ]
  },
  {
   "cell_type": "markdown",
   "metadata": {},
   "source": [
    "변수의 이름을 잘못 지정하면 `SyntaxError: invalid syntax`와 \n",
    "같은 **구문 오류**<font size=\"2\">syntax error</font>가 발생한다.\n",
    "구문 오류는 실행기가 프로그램을 실행하기 전에 일종의 문법 검사를 통해 찾아낸다."
   ]
  },
  {
   "cell_type": "markdown",
   "metadata": {},
   "source": [
    "**런타임 오류**"
   ]
  },
  {
   "cell_type": "markdown",
   "metadata": {},
   "source": [
    "**런타임 오류**<font size=\"2\">runtime error</font>는 \n",
    "프로그램이 실행되는 중간에 발생하는 오류이다.\n",
    "프로그램 실행 중간에 예외 상황을 발생시키는 오류라는 의미에서 런타임 오류를 \n",
    "**예외**<font size=\"2\">exception</font>라고 부르기도 한다.\n",
    "런타임 오류는 다양한 경우에 발생한다.\n",
    "여기서는 두 가지 경우를 살펴본다."
   ]
  },
  {
   "cell_type": "markdown",
   "metadata": {},
   "source": [
    "::::{prf:example} ZeroDivisionError\n",
    ":label: zerodivision\n",
    "\n",
    "런타임 에러의 대표적인 예는 **0으로 나누기 오류**이다.\n",
    "\n",
    "```python\n",
    ">>> num = 0\n",
    ">>> print(3/num)\n",
    "Traceback (most recent call last):\n",
    "  File \"<stdin>\", line 1, in <module>\n",
    "ZeroDivisionError: division by zero\n",
    "```\n",
    "\n",
    "`ZeroDivisionError` 라고 표시되는데,\n",
    "이는 0으로 나눗셈을 시도하는 경우 발생한다. \n",
    "`3/num`은 문법적으로 전혀 문제가 없지만 실제 계산 중에 `num`에 할당된 값이 0이라는 것으로 확인되어\n",
    "오류가 발생한다.\n",
    "::::"
   ]
  },
  {
   "cell_type": "markdown",
   "metadata": {},
   "source": [
    "::::{prf:example} NameError\n",
    ":label: nameerror\n",
    "\n",
    "아래 코드를 실행하면 'a_number' 라는 이름이 선언되어 있지 않기 때문에 문제가 발생한다.\n",
    "\n",
    "```python\n",
    ">>> a_Number = 327.68\n",
    ">>> b = a_number * 3\n",
    "Traceback (most recent call last):\n",
    "  File \"<stdin>\", line 1, in <module>\n",
    "NameError: name 'a_number' is not defined\n",
    "```\n",
    "\n",
    "자세히 살펴보면 'a_number'와 'a_Number' 둘 중에 하나는 오타임을 알 수 있다.\n",
    "::::"
   ]
  },
  {
   "cell_type": "markdown",
   "metadata": {},
   "source": [
    "**의미 오류**"
   ]
  },
  {
   "cell_type": "markdown",
   "metadata": {},
   "source": [
    "프로그램 실행은 잘 되지만 원하는 결과를 가져오지 못한다면 프로그램\n",
    "어딘가에 논리적 오류가 존재한다는 의미이다.\n",
    "이와같은 오류를 \n",
    "**의미 오류**<font size=\"2\">semantic error</font>라 부르며,\n",
    "발생원인은 다양하며,\n",
    "프로그램이 정상적으로 작동하기 때문에 구문 오류나 런타임 오류와는 다르게\n",
    "오류의 원인을 바로 확인하기 어려울 수 있다.\n",
    "\n",
    "수학 문제를 풀다가 계산실수를 하거나, 기호를 다르게 적거나, \n",
    "문제를 잘못 이해했거나 해서\n",
    "풀 수 있었던 문제를 틀렸던 경험이 있을 것이다.\n",
    "프로그래밍 과정에서도 유사한 실수를 수없이 하게 된다.\n",
    "예를 들어, 아래 프로그램은 두 배 계산 대신에 제곱 계산을 하는 실수를 보여준다."
   ]
  },
  {
   "cell_type": "code",
   "execution_count": 29,
   "metadata": {},
   "outputs": [
    {
     "name": "stdout",
     "output_type": "stream",
     "text": [
      "입력한 값 3 의 두 배는 9 입니다.\n"
     ]
    }
   ],
   "source": [
    "num = 3\n",
    "doubleNum = num ** 2\n",
    "\n",
    "print(\"입력한 값\", num, \"의 두 배는\", doubleNum, \"입니다.\")"
   ]
  },
  {
   "cell_type": "markdown",
   "metadata": {},
   "source": [
    "두 배하려면 `num * 2`를 사용했어야 하는데 실수로 `num ** 2`를 사용하여서\n",
    "결과적으로 입력한 값의 제곱을 계산하게 된다.\n",
    "수천, 수만 줄로 이루어진 프로그램에서 이런 형식의 오류의 원인을 찾는 일은\n",
    "경우에 따라 모래사장에서 바늘찾기처럼 매우 어렵거나 불가능할 수 있다."
   ]
  },
  {
   "cell_type": "markdown",
   "metadata": {},
   "source": [
    "## 예외 처리"
   ]
  },
  {
   "cell_type": "markdown",
   "metadata": {},
   "source": [
    "**참고:** 수 알아맞히기 코드와 연관지어 설명할 것."
   ]
  },
  {
   "cell_type": "markdown",
   "metadata": {},
   "source": [
    "발생할 수 있는 오류에 미리 대비하는 것을 **예외 처리**<font size='2'>exception handling</font>라 한다.\n",
    "여기서는 함수에 적절하지 않은 인자가 사용될 때 발생하는 오류를 이용하여\n",
    "예외 처리의 사용법을 살펴본다."
   ]
  },
  {
   "cell_type": "markdown",
   "metadata": {},
   "source": [
    "예외 처리의 기본 형식은 다음과 같다.\n",
    "\n",
    "```python\n",
    "try:\n",
    "    code1\n",
    "except:\n",
    "    code2\n",
    "```\n",
    "\n",
    "* 먼저 `code1` 이 실행된다.\n",
    "    실행 과정 중에 오류가 발생하지 않으면 `code2` 부분은 건너 뛴다.\n",
    "* 반면에 `code1` 실행중에 오류가 발생하면 `code2` 를 대신 실행한다."
   ]
  },
  {
   "cell_type": "markdown",
   "metadata": {},
   "source": [
    "**예제**"
   ]
  },
  {
   "cell_type": "markdown",
   "metadata": {},
   "source": [
    "아래 코드는 `float()` 함수의 인자로 부동소수점 형식이 아닌 문자열이 입력되었을 때\n",
    "코드 실행을 멈추는 대신 입력값에 어떤 문제가 있는지 정보를 출력하도록 하였다."
   ]
  },
  {
   "cell_type": "code",
   "execution_count": null,
   "metadata": {},
   "outputs": [
    {
     "name": "stdout",
     "output_type": "stream",
     "text": [
      "부동소수점 모양의 문자열이 아닙니다.\n"
     ]
    }
   ],
   "source": [
    "x = '123f2'\n",
    "\n",
    "try:\n",
    "    print(float(x))\n",
    "except:\n",
    "    print('부동소수점 모양의 문자열이 아닙니다.')"
   ]
  },
  {
   "cell_type": "markdown",
   "metadata": {},
   "source": [
    "**예제**"
   ]
  },
  {
   "cell_type": "markdown",
   "metadata": {},
   "source": [
    "아래 함수는 부동소수점 모양이 아닌 문자열이 인자로 사용되면 해당 문자열을 그대로 반환하도록 한다."
   ]
  },
  {
   "cell_type": "code",
   "execution_count": null,
   "metadata": {},
   "outputs": [],
   "source": [
    "def attempt_float(x):\n",
    "    try:\n",
    "        return float(x)\n",
    "    except:\n",
    "        return x"
   ]
  },
  {
   "cell_type": "code",
   "execution_count": null,
   "metadata": {},
   "outputs": [
    {
     "data": {
      "text/plain": [
       "1.2345"
      ]
     },
     "metadata": {},
     "output_type": "display_data"
    }
   ],
   "source": [
    "attempt_float('1.2345')"
   ]
  },
  {
   "cell_type": "code",
   "execution_count": null,
   "metadata": {},
   "outputs": [
    {
     "data": {
      "text/plain": [
       "'부동소수점 모양의 문자열이 아닙니다.'"
      ]
     },
     "metadata": {},
     "output_type": "display_data"
    }
   ],
   "source": [
    "attempt_float('부동소수점 모양의 문자열이 아닙니다.')"
   ]
  },
  {
   "cell_type": "markdown",
   "metadata": {},
   "source": [
    "예외 처리 과정에서 특정 종류의 오류만 처리하도록 지정할 수 있다.\n",
    "예를 들어, `ValueError` 만 처리하려면 다음과 같이 지정한다.\n",
    "\n",
    "```python\n",
    "try:\n",
    "    code1\n",
    "except ValueError:\n",
    "    code2\n",
    "```"
   ]
  },
  {
   "cell_type": "code",
   "execution_count": null,
   "metadata": {},
   "outputs": [
    {
     "name": "stdout",
     "output_type": "stream",
     "text": [
      "부동소수점 모양의 문자열이 아닙니다.\n"
     ]
    }
   ],
   "source": [
    "x = '123f2'\n",
    "\n",
    "try:\n",
    "    print(float(x))\n",
    "except ValueError:\n",
    "    print('부동소수점 모양의 문자열이 아닙니다.')"
   ]
  },
  {
   "cell_type": "markdown",
   "metadata": {},
   "source": [
    "그런데 오류 종류를 명시하면 다른 종류의 오류는 처리하지 못한다.\n",
    "아래 코드는 `float()` 함수의 인자로 튜플이 입력되어 처리할 수 없어서 \n",
    "`TypeError`가 실행중에 발생한다.\n",
    "그런데 `except ValueError`만 처리하도록 설정되어 있어서\n",
    "예외 처리가 제대로 실행되지 못하고 결국에 프로그램 실행이 중간에 멈춰버린다.\n",
    "`TypeError` 오류가 발생하는 이유는\n",
    "`float()` 함수가 문자열만 처리하도록 정의되었기 때문이다."
   ]
  },
  {
   "cell_type": "markdown",
   "metadata": {},
   "source": [
    "```python\n",
    "x = (1, 2)\n",
    "\n",
    "try:\n",
    "    print(float(x))\n",
    "except ValueError:\n",
    "    print('부동소수점 모양의 문자열이 아닙니다.')\n",
    "\n",
    "---------------------------------------------------------------------------\n",
    "\n",
    "TypeError                                 Traceback (most recent call last)\n",
    "\n",
    "<ipython-input-23-e3c8c4c378a2> in <module>\n",
    "\n",
    "      2 \n",
    "\n",
    "      3 try:\n",
    "\n",
    "----> 4     print(float(x))\n",
    "\n",
    "      5 except ValueError:\n",
    "\n",
    "      6     print('부동소수점 모양의 문자열이 아닙니다.')\n",
    "\n",
    "\n",
    "\n",
    "TypeError: float() argument must be a string or a number, not 'tuple'\n",
    "```"
   ]
  },
  {
   "cell_type": "markdown",
   "metadata": {},
   "source": [
    "이에 대한 해결책은 오류를 명시하지 않거나 아래처럼 여러 오류를 처리하도록 설정하는 것이다."
   ]
  },
  {
   "cell_type": "code",
   "execution_count": null,
   "metadata": {},
   "outputs": [
    {
     "name": "stdout",
     "output_type": "stream",
     "text": [
      "사용된 인자에 문제가 있습니다.\n"
     ]
    }
   ],
   "source": [
    "x = (1, 2)\n",
    "\n",
    "try:\n",
    "    print(float(x))\n",
    "except (ValueError, TypeError):\n",
    "    print('사용된 인자에 문제가 있습니다.')"
   ]
  },
  {
   "cell_type": "markdown",
   "metadata": {},
   "source": [
    "**`finally` 블록**"
   ]
  },
  {
   "cell_type": "markdown",
   "metadata": {},
   "source": [
    "`try` 블록에서의 오류 발생 여부와 상관 없이 특정 코드를 무조건 실행하도록 하기 위해 `finally` 블록을 사용한다.\n",
    "즉, `try` 블록 실행 중에 오류가 발생하더라도 `finally` 블록은 실행한 후에 코드의 실행을 멈춘다."
   ]
  },
  {
   "cell_type": "markdown",
   "metadata": {},
   "source": [
    "```python\n",
    "x = (1, 2)\n",
    "\n",
    "try:\n",
    "    print(float(x))\n",
    "finally:\n",
    "    print('인자값의 자료형고 형식이 중요합니다.')\n",
    "\n",
    "인자값의 자료형고 형식이 중요합니다.\n",
    "---------------------------------------------------------------------------\n",
    "\n",
    "TypeError                                 Traceback (most recent call last)\n",
    "\n",
    "<ipython-input-30-966f6e98066e> in <module>\n",
    "\n",
    "      2 \n",
    "\n",
    "      3 try:\n",
    "\n",
    "----> 4     print(float(x))\n",
    "\n",
    "      5 finally:\n",
    "\n",
    "      6     print('인자값의 자료형고 형식이 중요합니다.')\n",
    "\n",
    "\n",
    "\n",
    "TypeError: float() argument must be a string or a number, not 'tuple'\n",
    "```"
   ]
  },
  {
   "cell_type": "markdown",
   "metadata": {},
   "source": [
    "`except` 블록에서 예외 처리가 잘 되면 코드 실행은 이어진다."
   ]
  },
  {
   "cell_type": "code",
   "execution_count": null,
   "metadata": {},
   "outputs": [
    {
     "name": "stdout",
     "output_type": "stream",
     "text": [
      "사용된 인자에 문제가 있습니다.\n",
      "인자값의 자료형고 형식이 중요합니다.\n",
      "프로그램이 계속 실행됩니다.\n"
     ]
    }
   ],
   "source": [
    "x = (1, 2)\n",
    "\n",
    "try:\n",
    "    print(float(x))\n",
    "except:\n",
    "    print('사용된 인자에 문제가 있습니다.')\n",
    "finally:\n",
    "    print('인자값의 자료형고 형식이 중요합니다.')\n",
    "    \n",
    "print(\"프로그램이 계속 실행됩니다.\")"
   ]
  },
  {
   "cell_type": "markdown",
   "metadata": {},
   "source": [
    "**`else` 블록**"
   ]
  },
  {
   "cell_type": "markdown",
   "metadata": {},
   "source": [
    "`try` 블록이 성공적으로 실행되었을 때만 특정 코드를 실행시키고자 할 때 `else` 블록을 사용한다."
   ]
  },
  {
   "cell_type": "code",
   "execution_count": null,
   "metadata": {},
   "outputs": [
    {
     "name": "stdout",
     "output_type": "stream",
     "text": [
      "123.4567\n",
      "올바른 입력값이 사용되었습니다.\n",
      "인자값의 자료형고 형식이 중요합니다.\n",
      "프로그램이 계속 실행됩니다.\n"
     ]
    }
   ],
   "source": [
    "x = '123.4567'\n",
    "\n",
    "try:\n",
    "    print(float(x))\n",
    "except:\n",
    "    print('사용된 인자에 문제가 있습니다.')\n",
    "else:\n",
    "    print('올바른 입력값이 사용되었습니다.')\n",
    "finally:\n",
    "    print('인자값의 자료형고 형식이 중요합니다.')\n",
    "    \n",
    "print(\"프로그램이 계속 실행됩니다.\")"
   ]
  },
  {
   "cell_type": "markdown",
   "metadata": {},
   "source": [
    "## 업그레이드 5편: `continue` 명령문"
   ]
  },
  {
   "cell_type": "markdown",
   "metadata": {},
   "source": [
    "아래 코드는 `try-except` 명령문을 이용하여 예외 처리를 추가하였다.\n",
    "`except` 블록에는 `continue` 명령문을 작성하여\n",
    "정수가 아닌 값이 입력되면 다시 입력값을 지정하도록 유도한다. \n",
    "\n",
    "`continue` 명령문은 현재 실행중인 `while` 반복문을\n",
    "다시 시작하라고 지정할 때 사용하는 명령문이다.\n",
    "따라서 정수가 아닌 값이 입력되면 `while` 명령문의 처음으로 돌아가서 \n",
    "게임 참여자에게 입력값을 다시 요구한다."
   ]
  },
  {
   "cell_type": "markdown",
   "metadata": {},
   "source": [
    "```python\n",
    "from random import randint\n",
    "\n",
    "print(\"수 알아맞히기 게임에 환영합니다.\")\n",
    "\n",
    "secret = randint(1,100)\n",
    "guess = -1\n",
    "\n",
    "while guess != secret:\n",
    "    \n",
    "    try:  # 정수 입력이 아닌 경우 대처             \n",
    "        guess = int(input(\"1부터 100 사이의 정수 하나를 입력하세요: \"))\n",
    "    except: \n",
    "        continue  # while 반복문의 처음으로 돌아가기\n",
    "\n",
    "    if guess == 0:\n",
    "        break\n",
    "\n",
    "    if guess == secret:\n",
    "        print(\"맞았습니다!\")\n",
    "    elif guess > secret:\n",
    "        print(\"너무 커요!\")\n",
    "    else:\n",
    "        print(\"너무 작아요!\")\n",
    "\n",
    "print(\"게임 종료!\")\n",
    "```"
   ]
  },
  {
   "cell_type": "markdown",
   "metadata": {},
   "source": [
    ":::{admonition} `continue` 와 `for` 반복문\n",
    ":class: info\n",
    "\n",
    "`continue` 명령문은 `for` 반복문과 사용되면\n",
    "현재의 경우를 무시하고 다음 경우로 이동하라는 기능으로 작동한다.\n",
    "예를 들어 아래 코드를 실행하면 `num` 변수가 홀수를 가리킬 때는 무시되어 \n",
    "결국 짝수만 출력한다.\n",
    "\n",
    "```python\n",
    "for num in [1, 2, 3, 4, 5]:\n",
    "    if num != 0:\n",
    "        continue\n",
    "    print(num)\n",
    "\n",
    "print(\"홀수는 무시했습니다.\")    \n",
    "```\n",
    "\n",
    "```python\n",
    "2\n",
    "4\n",
    "홀수는 무시했습니다.\n",
    "```\n",
    ":::"
   ]
  },
  {
   "cell_type": "markdown",
   "metadata": {},
   "source": [
    "## 연습문제"
   ]
  },
  {
   "cell_type": "markdown",
   "metadata": {},
   "source": [
    "참고: [(실습) 사례 연구: 프로그램 구상](https://colab.research.google.com/github/codingalzi/pybook/blob/master/practices/practice-casestudy_planning.ipynb)"
   ]
  }
 ],
 "metadata": {
  "kernelspec": {
   "display_name": "Python 3 (ipykernel)",
   "language": "python",
   "name": "python3"
  },
  "language_info": {
   "codemirror_mode": {
    "name": "ipython",
    "version": 3
   },
   "file_extension": ".py",
   "mimetype": "text/x-python",
   "name": "python",
   "nbconvert_exporter": "python",
   "pygments_lexer": "ipython3",
   "version": "3.11.5"
  },
  "toc": {
   "base_numbering": 1,
   "nav_menu": {},
   "number_sections": false,
   "sideBar": true,
   "skip_h1_title": false,
   "title_cell": "목차",
   "title_sidebar": "Contents",
   "toc_cell": false,
   "toc_position": {},
   "toc_section_display": true,
   "toc_window_display": true
  },
  "vscode": {
   "interpreter": {
    "hash": "ad0f3c8a064f687cbf898a0868fd45ba1c7e928ac8a0404f7c241d812ddc1e76"
   }
  }
 },
 "nbformat": 4,
 "nbformat_minor": 1
}
