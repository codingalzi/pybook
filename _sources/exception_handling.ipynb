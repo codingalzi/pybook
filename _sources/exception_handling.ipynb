{
 "cells": [
  {
   "cell_type": "markdown",
   "metadata": {},
   "source": [
    "(ch:exception_handling)=\n",
    "# 프로그램 오류와 예외 처리"
   ]
  },
  {
   "cell_type": "markdown",
   "metadata": {},
   "source": [
    "프로그램을 구현하다보면 여러 종류의 오류를 경험한다.\n",
    "파이썬 프로그래밍 중에 가장 많이 발생하는 오류와\n",
    "대처방안을 소개한다."
   ]
  },
  {
   "cell_type": "markdown",
   "metadata": {},
   "source": [
    "## 프로그램 오류와 디버깅"
   ]
  },
  {
   "cell_type": "markdown",
   "metadata": {},
   "source": [
    "프로그램의 오류는 크게 세 가지 유형으로 나뉜다.\n",
    "오류가 발생하면 프로그램 개발자는 오류의 원인을 찾아 해결해야 한다.\n",
    "이렇게 프로그램의 오류를 찾아 해결하는 과정을 **디버깅**<font size='2'>debugging</font>이라 부르며,\n",
    "파이썬 실행기는 오류가 발생할 경우 디버깅에 도움되는 정보를 제공한다."
   ]
  },
  {
   "cell_type": "markdown",
   "metadata": {},
   "source": [
    "### 구문 오류"
   ]
  },
  {
   "cell_type": "markdown",
   "metadata": {},
   "source": [
    "변수 이름으로 예를 들어 `False`, `if`, `return` 등\n",
    "파이썬에서 특별한 기능을 갖는 키워드를 사용하거나,\n",
    "`bad name`, `odd~job`, `US$` 등처럼 \n",
    "변수 이름짓기에 허용되지 방식을 사용하면\n",
    "`SyntaxError: invalid syntax`와 \n",
    "같은 **구문 오류**<font size=\"2\">syntax error</font>가 발생한다. "
   ]
  },
  {
   "cell_type": "code",
   "execution_count": 1,
   "metadata": {},
   "outputs": [
    {
     "ename": "SyntaxError",
     "evalue": "invalid syntax (651457723.py, line 1)",
     "output_type": "error",
     "traceback": [
      "\u001b[0;36m  Cell \u001b[0;32mIn[1], line 1\u001b[0;36m\u001b[0m\n\u001b[0;31m    bad name = 5\u001b[0m\n\u001b[0m        ^\u001b[0m\n\u001b[0;31mSyntaxError\u001b[0m\u001b[0;31m:\u001b[0m invalid syntax\n"
     ]
    }
   ],
   "source": [
    "bad name = 5"
   ]
  },
  {
   "cell_type": "markdown",
   "metadata": {},
   "source": [
    "구문 오류는 명령문 구성 문법에 어긋난다는 의미이며 파이썬 실행기가 \n",
    "프로그램을 실행하기 전에 일종의 문법 검사를 통해 찾아낸다."
   ]
  },
  {
   "cell_type": "markdown",
   "metadata": {},
   "source": [
    "### 런타임 오류"
   ]
  },
  {
   "cell_type": "markdown",
   "metadata": {},
   "source": [
    "**런타임 오류**<font size=\"2\">runtime error</font>는 \n",
    "프로그램이 실행되는 도중에 발생하는 오류이다.\n",
    "프로그램의 실행을 중단시키는 예외 상황이라는 의미에서 런타임 오류를 \n",
    "**예외**<font size=\"2\">exception</font>라고 부르기도 한다.\n",
    "런타임 오류는 다양한 경우에 발생한다.\n",
    "여기서는 네 종류의 런타임 오류를 살펴본다."
   ]
  },
  {
   "cell_type": "markdown",
   "metadata": {},
   "source": [
    "**런타임 오류 예제 1: 0으로 나누기 오류**"
   ]
  },
  {
   "cell_type": "markdown",
   "metadata": {},
   "source": [
    "런타임 에러의 대표적인 예는 0으로 나누기 오류다.\n",
    "`ZeroDivisionError` 라고 표시되는데,\n",
    "이는 `num`이 0을 가리키고 있기에 결국 0으로 나눗셈을 시도하기 때문에 발생한다. "
   ]
  },
  {
   "cell_type": "code",
   "execution_count": 2,
   "metadata": {},
   "outputs": [
    {
     "ename": "ZeroDivisionError",
     "evalue": "division by zero",
     "output_type": "error",
     "traceback": [
      "\u001b[0;31m---------------------------------------------------------------------------\u001b[0m",
      "\u001b[0;31mZeroDivisionError\u001b[0m                         Traceback (most recent call last)",
      "Cell \u001b[0;32mIn[2], line 2\u001b[0m\n\u001b[1;32m      1\u001b[0m num \u001b[38;5;241m=\u001b[39m \u001b[38;5;241m0\u001b[39m\n\u001b[0;32m----> 2\u001b[0m \u001b[38;5;28mprint\u001b[39m(\u001b[38;5;241m3\u001b[39m \u001b[38;5;241m/\u001b[39m num)\n",
      "\u001b[0;31mZeroDivisionError\u001b[0m: division by zero"
     ]
    }
   ],
   "source": [
    "num = 0\n",
    "print(3 / num)"
   ]
  },
  {
   "cell_type": "markdown",
   "metadata": {},
   "source": [
    "참고로 `3/num`은 구문<font size='2'>syntax</font> 측면에서는 전혀 문제 없다.\n",
    "이유는 실제로 `3/num`이 계산될 때까지는\n",
    "변수 `num`에 할당된 값이 0이 될 수도, 되지 않을 수도 있기에\n",
    "겉모양만 보고는 실행이 가능한지 여부를 알 수 없기 때문이다."
   ]
  },
  {
   "cell_type": "markdown",
   "metadata": {},
   "source": [
    "**런타임 오류 예제 2: 변수 이름 오류**"
   ]
  },
  {
   "cell_type": "markdown",
   "metadata": {},
   "source": [
    "아래 코드를 실행하면 `a_number` 라는 변수가 선언되어 있지 않기 때문에 문제가 발생한다.\n",
    "`NameError`라고 표시되는데, 이 오류는 선언되지 않은 변수가 사용될 때 발생한다.\n",
    "자세히 살펴보면 `a_number`와 `a_Number` 둘 중에 하나는 오타임을 알 수 있다."
   ]
  },
  {
   "cell_type": "code",
   "execution_count": 3,
   "metadata": {},
   "outputs": [
    {
     "ename": "NameError",
     "evalue": "name 'a_number' is not defined",
     "output_type": "error",
     "traceback": [
      "\u001b[0;31m---------------------------------------------------------------------------\u001b[0m",
      "\u001b[0;31mNameError\u001b[0m                                 Traceback (most recent call last)",
      "Cell \u001b[0;32mIn[3], line 2\u001b[0m\n\u001b[1;32m      1\u001b[0m a_Number \u001b[38;5;241m=\u001b[39m \u001b[38;5;241m327.68\u001b[39m\n\u001b[0;32m----> 2\u001b[0m b \u001b[38;5;241m=\u001b[39m a_number \u001b[38;5;241m*\u001b[39m \u001b[38;5;241m3\u001b[39m\n",
      "\u001b[0;31mNameError\u001b[0m: name 'a_number' is not defined"
     ]
    }
   ],
   "source": [
    "a_Number = 327.68\n",
    "b = a_number * 3"
   ]
  },
  {
   "cell_type": "markdown",
   "metadata": {},
   "source": [
    "**런타임 오류 예제 3: 자료형 오류**"
   ]
  },
  {
   "cell_type": "markdown",
   "metadata": {},
   "source": [
    "아래 코드는 `float()` 함수를 리스트와 함께 호출한다.\n",
    "그런데 `float()` 함수는 `str`, `int`, `float` 세 종류의 자료형만 인자로 사용하기로 정의되어 있다.\n",
    "따라서 함수 인자의 자료형이 틀렸다는 의미의 `TypeError`가 발생하며 코드의 실행이 멈춘다.\n",
    "따라서 마지막 `print()` 함수의 호출은 실행되지 않는다."
   ]
  },
  {
   "cell_type": "code",
   "execution_count": 4,
   "metadata": {},
   "outputs": [
    {
     "ename": "TypeError",
     "evalue": "float() argument must be a string or a real number, not 'list'",
     "output_type": "error",
     "traceback": [
      "\u001b[0;31m---------------------------------------------------------------------------\u001b[0m",
      "\u001b[0;31mTypeError\u001b[0m                                 Traceback (most recent call last)",
      "Cell \u001b[0;32mIn[4], line 3\u001b[0m\n\u001b[1;32m      1\u001b[0m x \u001b[38;5;241m=\u001b[39m [\u001b[38;5;241m1\u001b[39m, \u001b[38;5;241m2\u001b[39m]\n\u001b[0;32m----> 3\u001b[0m \u001b[38;5;28mprint\u001b[39m(\u001b[38;5;28mfloat\u001b[39m(x))\n\u001b[1;32m      4\u001b[0m \u001b[38;5;28mprint\u001b[39m(\u001b[38;5;124m\"\u001b[39m\u001b[38;5;124m프로그램 실행 완료!\u001b[39m\u001b[38;5;124m\"\u001b[39m)\n",
      "\u001b[0;31mTypeError\u001b[0m: float() argument must be a string or a real number, not 'list'"
     ]
    }
   ],
   "source": [
    "x = [1, 2]\n",
    "\n",
    "print(float(x))\n",
    "print(\"프로그램 실행 완료!\")"
   ]
  },
  {
   "cell_type": "markdown",
   "metadata": {},
   "source": [
    "**런타임 오류 예제 4: 값의 형식 오류**"
   ]
  },
  {
   "cell_type": "markdown",
   "metadata": {},
   "source": [
    "아래 코드는 `float()` 함수를 `123f2`라는 문자열을 가리키는 변수 `x`와 함께 호출한다.\n",
    "인자의 자료형이 `str` 이기에 `float()` 함수의 인자로 사용될 자격이 있다.\n",
    "하지만 지정된 문자열이 부동소수점 형식이 아니기에 인자의 형식이 올바르지 않다는 의미의\n",
    "`ValueError`가 발생하며 코드의 실행이 멈춘다.\n",
    "따라서 마지막 `print()` 함수의 호출은 실행되지 않는다."
   ]
  },
  {
   "cell_type": "code",
   "execution_count": 5,
   "metadata": {},
   "outputs": [
    {
     "ename": "ValueError",
     "evalue": "could not convert string to float: '123f2'",
     "output_type": "error",
     "traceback": [
      "\u001b[0;31m---------------------------------------------------------------------------\u001b[0m",
      "\u001b[0;31mValueError\u001b[0m                                Traceback (most recent call last)",
      "Cell \u001b[0;32mIn[5], line 3\u001b[0m\n\u001b[1;32m      1\u001b[0m x \u001b[38;5;241m=\u001b[39m \u001b[38;5;124m'\u001b[39m\u001b[38;5;124m123f2\u001b[39m\u001b[38;5;124m'\u001b[39m\n\u001b[0;32m----> 3\u001b[0m \u001b[38;5;28mprint\u001b[39m(\u001b[38;5;28mfloat\u001b[39m(x))\n\u001b[1;32m      4\u001b[0m \u001b[38;5;28mprint\u001b[39m(\u001b[38;5;124m\"\u001b[39m\u001b[38;5;124m프로그램 실행 완료!\u001b[39m\u001b[38;5;124m\"\u001b[39m)\n",
      "\u001b[0;31mValueError\u001b[0m: could not convert string to float: '123f2'"
     ]
    }
   ],
   "source": [
    "x = '123f2'\n",
    "\n",
    "print(float(x))\n",
    "print(\"프로그램 실행 완료!\")"
   ]
  },
  {
   "cell_type": "markdown",
   "metadata": {},
   "source": [
    "### 의미 오류"
   ]
  },
  {
   "cell_type": "markdown",
   "metadata": {},
   "source": [
    "프로그램은 오류 없이 잘 실행되지만 원하는 결과를 만들지 못한다면 프로그램 어딘가에\n",
    "논리적 오류가 존재한다는 의미이다.\n",
    "이와같은 오류를 \n",
    "**의미 오류**<font size=\"2\">semantic error</font>라 부르며 발생원인은 매우 다양하다.\n",
    "\n",
    "프로그램이 정상적으로 작동하기 때문에 구문 오류나 런타임 오류와는 다르게\n",
    "오류의 원인을 바로 확인하기 어려울 수도 있다.\n",
    "수학 문제를 풀다가 계산 실수를 하거나, 기호를 다르게 적거나, \n",
    "문제를 잘못 이해했거나 해서 풀 수 있었던 문제를 틀렸던 경험이 있을 것이다.\n",
    "프로그래밍에서도 유사한 실수가 많이 발생한다.\n",
    "\n",
    "예를 들어, 아래 프로그램은 두 배 계산 대신에 제곱 계산을 하는 실수를 범한 경우이다."
   ]
  },
  {
   "cell_type": "code",
   "execution_count": 6,
   "metadata": {},
   "outputs": [
    {
     "name": "stdout",
     "output_type": "stream",
     "text": [
      "입력한 값 3 의 두 배는 9 입니다.\n"
     ]
    }
   ],
   "source": [
    "num = 3\n",
    "doubleNum = num ** 2\n",
    "\n",
    "print(\"입력한 값\", num, \"의 두 배는\", doubleNum, \"입니다.\")"
   ]
  },
  {
   "cell_type": "markdown",
   "metadata": {},
   "source": [
    "두 배하려면 `num * 2`를 사용했어야 하는데 실수로 `num ** 2`를 사용하여서\n",
    "결과적으로 입력한 값의 제곱을 계산하게 된다.\n",
    "수천, 수만 줄로 이루어진 프로그램에서 이런 형식의 오류의 원인을 찾는 일은\n",
    "경우에 따라 모래사장에서 바늘찾기처럼 매우 어렵거나 불가능할 수 있다."
   ]
  },
  {
   "cell_type": "markdown",
   "metadata": {},
   "source": [
    "## 예외 처리"
   ]
  },
  {
   "cell_type": "markdown",
   "metadata": {},
   "source": [
    "오류가 발생할 수 있는 상황에 미리 대비하는 것이 **예외 처리**<font size='2'>exception handling</font>이며,\n",
    "아래 형식을 따른다.\n",
    "\n",
    "```python\n",
    "try:\n",
    "    code1\n",
    "except:\n",
    "    code2\n",
    "```\n",
    "\n",
    "의미는 다음과 같다.\n",
    "\n",
    "- 먼저 `try` 키워드의 본문인 `code1` 이 실행된다.\n",
    "    실행 과정 중에 오류가 발생하지 않으면 `except` 키워드의 본문인 `code2` 부분은 건너 뛴다.\n",
    "- 만약 `code1` 실행중에 오류가 발생하면 바로 이어서 `code2` 를 실행한다."
   ]
  },
  {
   "cell_type": "markdown",
   "metadata": {},
   "source": [
    "예를 들어 아래 코드는 \n",
    "`ValueError`로 인해 코드 실행이 멈추는 대신 \n",
    "입력값에 어떤 문제가 있는지 정보를 출력한다.\n",
    "이유는 `try`의 본문에 있는 코드가 실행할 때 오류가 발생하면\n",
    "바로 `except`의 본문에 있는 코드가 실행되도록 약속되었기 때문이다.\n",
    "또한 코드의 실행은 계속 이어져서 마지막 줄의 `print()` 함수도 호출되어\n",
    "프로그램이 제대로 실행되었음을 확인해준다."
   ]
  },
  {
   "cell_type": "code",
   "execution_count": 7,
   "metadata": {},
   "outputs": [
    {
     "name": "stdout",
     "output_type": "stream",
     "text": [
      "부동소수점 모양의 문자열이 아닙니다.\n",
      "프로그램 실행 완료!\n"
     ]
    }
   ],
   "source": [
    "x = '123f2'\n",
    "\n",
    "try:\n",
    "    print(float(x))\n",
    "except:\n",
    "    print('부동소수점 모양의 문자열이 아닙니다.')\n",
    "    \n",
    "print(\"프로그램 실행 완료!\")"
   ]
  },
  {
   "cell_type": "markdown",
   "metadata": {},
   "source": [
    "**오류 종류를 지정하는 예외 처리**"
   ]
  },
  {
   "cell_type": "markdown",
   "metadata": {},
   "source": [
    "특정 종류의 오류가 발생할 때만 예외 처리를 실행하도록 할 수 있다.\n",
    "예를 들어 아래 형식은\n",
    "`ValueError`가 발생할 때만 예외 처리를 실행한다.\n",
    "\n",
    "```python\n",
    "try:\n",
    "    code1\n",
    "except ValueError:\n",
    "    code2\n",
    "```"
   ]
  },
  {
   "cell_type": "markdown",
   "metadata": {},
   "source": [
    "따라서 `ValueError`가 발생해서 예외 처리를 한 이전 코드를 다음과 같이 작성해도 동일한 결과를 얻는다."
   ]
  },
  {
   "cell_type": "code",
   "execution_count": 8,
   "metadata": {},
   "outputs": [
    {
     "name": "stdout",
     "output_type": "stream",
     "text": [
      "부동소수점 모양의 문자열이 아닙니다.\n",
      "프로그램 실행 완료!\n"
     ]
    }
   ],
   "source": [
    "x = '123f2'\n",
    "\n",
    "try:\n",
    "    print(float(x))\n",
    "except ValueError:\n",
    "    print('부동소수점 모양의 문자열이 아닙니다.')\n",
    "    \n",
    "print(\"프로그램 실행 완료!\")"
   ]
  },
  {
   "cell_type": "markdown",
   "metadata": {},
   "source": [
    "그런데 오류의 종류를 명시하면 다른 종류의 오류는 처리하지 못한다.\n",
    "예를 들어 아래 코드는 `float()` 함수의 인자로 튜플이 입력되어 처리할 수 없어서 \n",
    "`TypeError`가 실행중에 발생한다.\n",
    "그런데 `ValueError`만 처리하도록 설정되어 있어서\n",
    "예외 처리가 제대로 실행되지 못하고 결국에 프로그램 실행이 중간에 멈춰버린다."
   ]
  },
  {
   "cell_type": "code",
   "execution_count": 9,
   "metadata": {},
   "outputs": [
    {
     "ename": "TypeError",
     "evalue": "float() argument must be a string or a real number, not 'list'",
     "output_type": "error",
     "traceback": [
      "\u001b[0;31m---------------------------------------------------------------------------\u001b[0m",
      "\u001b[0;31mTypeError\u001b[0m                                 Traceback (most recent call last)",
      "Cell \u001b[0;32mIn[9], line 4\u001b[0m\n\u001b[1;32m      1\u001b[0m x \u001b[38;5;241m=\u001b[39m [\u001b[38;5;241m1\u001b[39m, \u001b[38;5;241m2\u001b[39m]\n\u001b[1;32m      3\u001b[0m \u001b[38;5;28;01mtry\u001b[39;00m:\n\u001b[0;32m----> 4\u001b[0m     \u001b[38;5;28mprint\u001b[39m(\u001b[38;5;28mfloat\u001b[39m(x))\n\u001b[1;32m      5\u001b[0m \u001b[38;5;28;01mexcept\u001b[39;00m \u001b[38;5;167;01mValueError\u001b[39;00m:\n\u001b[1;32m      6\u001b[0m     \u001b[38;5;28mprint\u001b[39m(\u001b[38;5;124m'\u001b[39m\u001b[38;5;124m부동소수점 모양의 문자열이 아닙니다.\u001b[39m\u001b[38;5;124m'\u001b[39m)\n",
      "\u001b[0;31mTypeError\u001b[0m: float() argument must be a string or a real number, not 'list'"
     ]
    }
   ],
   "source": [
    "x = [1, 2]\n",
    "\n",
    "try:\n",
    "    print(float(x))\n",
    "except ValueError:\n",
    "    print('부동소수점 모양의 문자열이 아닙니다.')\n",
    "    \n",
    "print(\"프로그램 실행 완료!\")"
   ]
  },
  {
   "cell_type": "markdown",
   "metadata": {},
   "source": [
    "이에 대한 해결책은 오류의 종류를 명시하지 않거나 아래처럼 여러 종류의 오류를 처리하도록 지정하는 것이다."
   ]
  },
  {
   "cell_type": "code",
   "execution_count": 10,
   "metadata": {},
   "outputs": [
    {
     "name": "stdout",
     "output_type": "stream",
     "text": [
      "사용된 인자에 문제가 있습니다.\n",
      "프로그램 실행 완료!\n"
     ]
    }
   ],
   "source": [
    "x = [1, 2]\n",
    "\n",
    "try:\n",
    "    print(float(x))\n",
    "except (ValueError, TypeError):\n",
    "    print('사용된 인자에 문제가 있습니다.')\n",
    "\n",
    "print(\"프로그램 실행 완료!\")    "
   ]
  },
  {
   "cell_type": "markdown",
   "metadata": {},
   "source": [
    "## 필수 예제"
   ]
  },
  {
   "cell_type": "markdown",
   "metadata": {},
   "source": [
    "참고: [(필수 예제) 프로그램 오류와 예외 처리](https://colab.research.google.com/github/codingalzi/pybook/blob/master/examples/examples-exception_handling.ipynb)"
   ]
  },
  {
   "cell_type": "markdown",
   "metadata": {},
   "source": [
    "## 연습문제"
   ]
  },
  {
   "cell_type": "markdown",
   "metadata": {},
   "source": [
    "참고: [(실습) 프로그램 오류와 예외 처리](https://colab.research.google.com/github/codingalzi/pybook/blob/master/practices/practice-exception_handling.ipynb)"
   ]
  }
 ],
 "metadata": {
  "kernelspec": {
   "display_name": "Python 3 (ipykernel)",
   "language": "python",
   "name": "python3"
  },
  "language_info": {
   "codemirror_mode": {
    "name": "ipython",
    "version": 3
   },
   "file_extension": ".py",
   "mimetype": "text/x-python",
   "name": "python",
   "nbconvert_exporter": "python",
   "pygments_lexer": "ipython3",
   "version": "3.11.4"
  },
  "toc": {
   "base_numbering": 1,
   "nav_menu": {},
   "number_sections": false,
   "sideBar": true,
   "skip_h1_title": false,
   "title_cell": "목차",
   "title_sidebar": "Contents",
   "toc_cell": false,
   "toc_position": {},
   "toc_section_display": true,
   "toc_window_display": true
  },
  "vscode": {
   "interpreter": {
    "hash": "ad0f3c8a064f687cbf898a0868fd45ba1c7e928ac8a0404f7c241d812ddc1e76"
   }
  }
 },
 "nbformat": 4,
 "nbformat_minor": 1
}
