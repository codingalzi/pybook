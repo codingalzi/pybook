{
 "cells": [
  {
   "cell_type": "markdown",
   "id": "3efee1fe",
   "metadata": {},
   "source": [
    "(ch:inheritance)=\n",
    "# 상속"
   ]
  },
  {
   "cell_type": "markdown",
   "id": "202f73fe",
   "metadata": {},
   "source": [
    "**슬라이드**\n",
    "\n",
    "본문 내용을 요약한 [슬라이드](https://github.com/codingalzi/algopy/raw/master/slides/slides-oop-inheritance.pdf)를 다운로드할 수 있다."
   ]
  },
  {
   "cell_type": "markdown",
   "id": "6ba3b4e2",
   "metadata": {},
   "source": [
    "## 상속이란?"
   ]
  },
  {
   "cell_type": "markdown",
   "id": "53600e33",
   "metadata": {},
   "source": [
    "클래스를 선언할 때 다른 클래스의 속성과 메서드를 \n",
    "**상속**<font size='2'>inheritance</font>해서 활용할 수 있다.\n",
    "상속을 받는 클래스를 **자식 클래스** 또는 **하위 클래스**, \n",
    "상속을 하는 클래스를 **부모 클래스** 또는 **상위 클래스**라고 부른다. "
   ]
  },
  {
   "cell_type": "markdown",
   "id": "ac5241b8",
   "metadata": {},
   "source": [
    "상속을 이용하여 클래스를 정의하는 방식은 다음과 같다.\n",
    "\n",
    "```python\n",
    "class 자식클래스(부모클래스):\n",
    "    클래스 본문\n",
    "```"
   ]
  },
  {
   "cell_type": "markdown",
   "id": "636abf07",
   "metadata": {},
   "source": [
    "## 모음 자료형의 상속 체계"
   ]
  },
  {
   "cell_type": "markdown",
   "id": "1c13719c",
   "metadata": {},
   "source": [
    "아래 그림은 파이썬 모음 자료형의 상속 체계를 보여준다. \n",
    "예를 들어, `list` 클래스는 `Sequence` 클래스를 상속하며,\n",
    "`Sequence`는 `Collection` 클래를 상속한다. \n",
    "이렁 이유로 \"리스트는 순차<font size='2'>Sequence</font> 자료형이다\" 등으로 말한다.\n",
    "이와 달리 항목들의 순서를 고려하지 않는 `dict`와 `set` 은 순차 자료형이 아니다."
   ]
  },
  {
   "cell_type": "markdown",
   "id": "6c98baa5",
   "metadata": {},
   "source": [
    "<div align=\"center\"><img src=\"https://runestone.academy/ns/books/published/pythonds3/_images/inheritance1.png\" width=\"70%\"></div>\n",
    "\n",
    "<그림 출처: [Problem Solving with Algorithms and Data Structures using Python의 1.13 절](https://runestone.academy/ns/books/published/pythonds3/Introduction/ObjectOrientedProgramminginPythonDefiningClasses.html)>"
   ]
  },
  {
   "cell_type": "markdown",
   "id": "af390a80",
   "metadata": {},
   "source": [
    "`list`, `tuple`, `str` 클래스 모두 `Sequence` 클래스를 상속하기에\n",
    "인덱싱, 슬라이싱 등 자신들의 항목을 다루는 공통된 방식을 갖는다.\n",
    "반면에 각 자료형은 고유의 메서드도 제공한다.\n",
    "이렇듯 한 클래스의 여러 자식 클래스는 서로 공통된 요소와 함께 \n",
    "각 자식 클래스 고유의 요소를 갖는다."
   ]
  },
  {
   "cell_type": "markdown",
   "id": "3559aeda",
   "metadata": {},
   "source": [
    "클래스를 상속할 때의 가장 큰 장점은 다음과 같다. \n",
    "\n",
    "- 첫째, 기존에 작성된 코드를 필요에 따라 수정하고 재활용 할 수 있다.\n",
    "- 둘째, 자식 클래스의 인스턴스들 사이의 관계를 보다 잘 이해할 수 있다."
   ]
  },
  {
   "cell_type": "markdown",
   "id": "27a5f1c9",
   "metadata": {},
   "source": [
    "여기서는 `Vector` 클래스를 선언할 때 상속을 어떻게 활용하는지 보여준다."
   ]
  },
  {
   "cell_type": "markdown",
   "id": "5fa6ad09",
   "metadata": {},
   "source": [
    "## Vector 클래스"
   ]
  },
  {
   "cell_type": "markdown",
   "id": "05f54b3d",
   "metadata": {},
   "source": [
    "벡터는 정수 또는 부동소수점으로 이루어진 리스트와 유사한 모음 자료형이다.\n",
    "Numpy의 1차원 어레이<font size='2'>array</font>가 대표적인 벡터 자료형이다.\n",
    "벡터는 벡터 자체의 길이, 내적 등 리스트와는 다른 속성과 기능을 제공한다."
   ]
  },
  {
   "cell_type": "markdown",
   "id": "ddd1b04c",
   "metadata": {},
   "source": [
    "**벡터 내적**"
   ]
  },
  {
   "cell_type": "markdown",
   "id": "d26a8e32",
   "metadata": {},
   "source": [
    "길이(항목의 개수)가 동일한 두 벡터의 내적은 동일한 위치의 두 항목의 곱셈의 합이다. \n",
    "예를 들어 `[2, 3, 4]` 와 `[5, 6, 9]` 두 벡터의 내적은 다음과 같다.\n",
    "\n",
    "```python\n",
    "2 * 5 + 3 * 6 + 4 * 9\n",
    "```"
   ]
  },
  {
   "cell_type": "markdown",
   "id": "0272dd3d",
   "metadata": {},
   "source": [
    "**`Vector` 클래스 선언**"
   ]
  },
  {
   "cell_type": "markdown",
   "id": "4b42b0ba",
   "metadata": {},
   "source": [
    "아래 코드는 `list` 클래스를 상속하면서 벡터 내적 연산을 지원하는 `Vector` 클래스를\n",
    "정의한다.\n",
    "\n",
    "- `super().__init__()`: 부모 클래스의 생성자 호출.\n",
    "    자식 클래스의 생성자를 호출할 때 호출되면\n",
    "    부모 클래스의 속성과 메서드를 모두 상속받음.\n",
    "- `dot()` 메서드: 추가되는 메서드. 두 벡터의 내적 반환.\n",
    "- `len` 속성: 추가되는 인스턴스 속성. 벡터의 길이."
   ]
  },
  {
   "cell_type": "code",
   "execution_count": 1,
   "id": "1e931d57",
   "metadata": {},
   "outputs": [],
   "source": [
    "class Vector(list):\n",
    "    # Vector 클래스 생성자 재정의\n",
    "    def __init__(self, items):\n",
    "        \"\"\"\n",
    "        - list 클래스 상속\n",
    "        - items: 벡터로 사용될 리스트\n",
    "        \"\"\"\n",
    "        \n",
    "        # 부모 클래스 생성자 호출\n",
    "        super().__init__(items)\n",
    "        \n",
    "        # 속성 추가\n",
    "        self.len = self.__len__()\n",
    "            \n",
    "    # 내적 메서드\n",
    "    def dot(self, other):\n",
    "        \"\"\"\n",
    "        벡터 내적\n",
    "        \"\"\"\n",
    "\n",
    "        # 벡터의 길이가 다르면 실행 오류 발생\n",
    "        if self.len != other.len:\n",
    "            raise RuntimeError(\"두 벡터의 길이가 달라요!\")\n",
    "\n",
    "        # 내적 계산: 각 항목들의 곱의 합\n",
    "        # 리스트를 상속하기에 인덱싱 사용 가능\n",
    "        sum = 0\n",
    "        for i in range(self.len):\n",
    "            sum += self[i] * other[i]\n",
    "\n",
    "        return sum"
   ]
  },
  {
   "cell_type": "markdown",
   "id": "f28eb3c4",
   "metadata": {},
   "source": [
    "**벡터 객체 활용**"
   ]
  },
  {
   "cell_type": "markdown",
   "id": "3b753ef0",
   "metadata": {},
   "source": [
    "두 개의 벡터를 생성하자."
   ]
  },
  {
   "cell_type": "code",
   "execution_count": 2,
   "id": "31d89a08",
   "metadata": {},
   "outputs": [],
   "source": [
    "x = Vector([2, 3, 4])\n",
    "y = Vector([5, 6, 9])"
   ]
  },
  {
   "cell_type": "markdown",
   "id": "c4f1167e",
   "metadata": {},
   "source": [
    "`__str__()` 등 리스트의 모든 매직 메서드와\n",
    "`append()` 등의 다른 모든 메서드,\n",
    "그리고 인덱싱, 슬라이싱 등 \n",
    "리스트의 모든 기능을 활용할 수 있다."
   ]
  },
  {
   "cell_type": "markdown",
   "id": "a971dd33",
   "metadata": {},
   "source": [
    "- `__str__()` 메서드 지원"
   ]
  },
  {
   "cell_type": "code",
   "execution_count": 3,
   "id": "ccf8db5c",
   "metadata": {},
   "outputs": [
    {
     "name": "stdout",
     "output_type": "stream",
     "text": [
      "[2, 3, 4]\n"
     ]
    }
   ],
   "source": [
    "print(x)"
   ]
  },
  {
   "cell_type": "markdown",
   "id": "81e0c980",
   "metadata": {},
   "source": [
    "* 내적: 내적 연산도 잘 작동함"
   ]
  },
  {
   "cell_type": "code",
   "execution_count": 4,
   "id": "a7882855",
   "metadata": {},
   "outputs": [
    {
     "data": {
      "text/plain": [
       "64"
      ]
     },
     "execution_count": 4,
     "metadata": {},
     "output_type": "execute_result"
    }
   ],
   "source": [
    "x.dot(y) # 2*5 + 3*6 + 4*9"
   ]
  },
  {
   "cell_type": "markdown",
   "id": "ec8580e2",
   "metadata": {},
   "source": [
    "## 메서드 재정의"
   ]
  },
  {
   "cell_type": "markdown",
   "id": "7e8cf6f2",
   "metadata": {},
   "source": [
    "부모 클래스로부터 상속 받은 인스턴스 메서드의 일부를 재정의해야 하는 경우가 발생할 수 있다."
   ]
  },
  {
   "cell_type": "markdown",
   "id": "ccdcf0c0",
   "metadata": {},
   "source": [
    "### `append()`, `pop()` 메서드 재정의"
   ]
  },
  {
   "cell_type": "markdown",
   "id": "7dcee669",
   "metadata": {},
   "source": [
    "`append()` 메서드도 잘 작동한다."
   ]
  },
  {
   "cell_type": "code",
   "execution_count": 5,
   "id": "8c91a239",
   "metadata": {},
   "outputs": [
    {
     "data": {
      "text/plain": [
       "[2, 3, 4, 5]"
      ]
     },
     "execution_count": 5,
     "metadata": {},
     "output_type": "execute_result"
    }
   ],
   "source": [
    "x.append(5)\n",
    "x"
   ]
  },
  {
   "cell_type": "markdown",
   "id": "72f25b3a",
   "metadata": {},
   "source": [
    "그런데 벡터에 포함된 항목의 수, 즉 `len` 속성의 값이 4로 변하지 않는다."
   ]
  },
  {
   "cell_type": "code",
   "execution_count": 6,
   "id": "919444be",
   "metadata": {},
   "outputs": [
    {
     "data": {
      "text/plain": [
       "3"
      ]
     },
     "execution_count": 6,
     "metadata": {},
     "output_type": "execute_result"
    }
   ],
   "source": [
    "x.len"
   ]
  },
  {
   "cell_type": "markdown",
   "id": "7d25b756",
   "metadata": {},
   "source": [
    "반면에 리스트의 `__len__()` 메서드는 정상적으로 작동한다."
   ]
  },
  {
   "cell_type": "code",
   "execution_count": 7,
   "id": "67b825cd",
   "metadata": {},
   "outputs": [
    {
     "data": {
      "text/plain": [
       "4"
      ]
     },
     "execution_count": 7,
     "metadata": {},
     "output_type": "execute_result"
    }
   ],
   "source": [
    "x.__len__()"
   ]
  },
  {
   "cell_type": "markdown",
   "id": "b138f531",
   "metadata": {},
   "source": [
    "`__len__()` 메서드를 활용하는 `len()` 함수도 동일하게 잘 작동한다."
   ]
  },
  {
   "cell_type": "code",
   "execution_count": 8,
   "id": "7686d7d0",
   "metadata": {},
   "outputs": [
    {
     "data": {
      "text/plain": [
       "4"
      ]
     },
     "execution_count": 8,
     "metadata": {},
     "output_type": "execute_result"
    }
   ],
   "source": [
    "len(x)"
   ]
  },
  {
   "cell_type": "markdown",
   "id": "6e186d4e",
   "metadata": {},
   "source": [
    "`len` 속성이 변경된 항목의 개수를 제대로 반영하지 못하는\n",
    "이유는 벡터의 항목이 변할 때 항목의 개수를 재확인해주지 않기 때문이다.\n",
    "\n",
    "이 문제를 해결하려면 `append()`, `pop()` 등 항목의 개수에 영향을 주는 메서드가\n",
    "실행되면 자동으로 항목의 수를 조정하도록 해야 한다.\n",
    "여기서는 예시를 위해 상속받은 `append()`와 `pop()` 두 메서드를 재정의 한다."
   ]
  },
  {
   "cell_type": "code",
   "execution_count": 9,
   "id": "95835e4c",
   "metadata": {},
   "outputs": [],
   "source": [
    "class Vector(list):\n",
    "    # Vector 클래스 생성자 재정의\n",
    "    def __init__(self, items):\n",
    "        \"\"\"\n",
    "        - list 클래스 상속\n",
    "        - items: 벡터로 사용될 리스트\n",
    "        \"\"\"\n",
    "        \n",
    "        # 부모 클래스 생성자 호출\n",
    "        super().__init__(items)\n",
    "        \n",
    "        # 속성 추가\n",
    "        self.len = self.__len__()\n",
    "            \n",
    "    # 내적 메서드\n",
    "    def dot(self, other):\n",
    "        \"\"\"\n",
    "        벡터 내적\n",
    "        \"\"\"\n",
    "\n",
    "        # 벡터의 길이가 다르면 실행 오류 발생\n",
    "        if self.len != other.len:\n",
    "            raise RuntimeError(\"두 벡터의 길이가 달라요!\")\n",
    "\n",
    "        # 내적 계산: 각 항목들의 곱의 합\n",
    "        # 리스트를 상속하기에 인덱싱 사용 가능\n",
    "        sum = 0\n",
    "        for i in range(self.len):\n",
    "            sum += self[i] * other[i]\n",
    "\n",
    "        return sum\n",
    "    \n",
    "    # append() 메서드 재정의\n",
    "    def append(self, item):\n",
    "        super().append(item)  # 부모 클래스의 append() 메서드 호출\n",
    "        self.len = self.__len__() # 항목 수 다시 확인\n",
    "\n",
    "    # pop() 메서드 재정의\n",
    "    def pop(self, idx=-1):\n",
    "        popped = super().pop(idx) # 부모 클래스의 pop() 메서드 호출\n",
    "        self.len = self.__len__() # 항목 수 다시 확인\n",
    "        return popped"
   ]
  },
  {
   "cell_type": "markdown",
   "id": "2a99fae8",
   "metadata": {},
   "source": [
    "다시 두 개의 벡터를 생성하자."
   ]
  },
  {
   "cell_type": "code",
   "execution_count": 10,
   "id": "3b5db6dc",
   "metadata": {},
   "outputs": [],
   "source": [
    "x = Vector([2, 3, 4])\n",
    "y = Vector([5, 6, 9])"
   ]
  },
  {
   "cell_type": "markdown",
   "id": "6f35f0e6",
   "metadata": {},
   "source": [
    "* `append()` 메서드 (다시)"
   ]
  },
  {
   "cell_type": "code",
   "execution_count": 11,
   "id": "28397733",
   "metadata": {},
   "outputs": [
    {
     "data": {
      "text/plain": [
       "[2, 3, 4, 5]"
      ]
     },
     "execution_count": 11,
     "metadata": {},
     "output_type": "execute_result"
    }
   ],
   "source": [
    "x.append(5)\n",
    "x"
   ]
  },
  {
   "cell_type": "markdown",
   "id": "ebed9b55",
   "metadata": {},
   "source": [
    "이제 벡터의 길이가 달라진게 확인된다."
   ]
  },
  {
   "cell_type": "code",
   "execution_count": 12,
   "id": "088f466a",
   "metadata": {},
   "outputs": [
    {
     "data": {
      "text/plain": [
       "4"
      ]
     },
     "execution_count": 12,
     "metadata": {},
     "output_type": "execute_result"
    }
   ],
   "source": [
    "x.len"
   ]
  },
  {
   "cell_type": "code",
   "execution_count": 13,
   "id": "46e3387d",
   "metadata": {},
   "outputs": [
    {
     "data": {
      "text/plain": [
       "4"
      ]
     },
     "execution_count": 13,
     "metadata": {},
     "output_type": "execute_result"
    }
   ],
   "source": [
    "x.__len__()"
   ]
  },
  {
   "cell_type": "code",
   "execution_count": 14,
   "id": "ed49071d",
   "metadata": {},
   "outputs": [
    {
     "data": {
      "text/plain": [
       "4"
      ]
     },
     "execution_count": 14,
     "metadata": {},
     "output_type": "execute_result"
    }
   ],
   "source": [
    "len(x)"
   ]
  },
  {
   "cell_type": "markdown",
   "id": "a0014a3e",
   "metadata": {},
   "source": [
    "* `pop()` 메서드"
   ]
  },
  {
   "cell_type": "code",
   "execution_count": 15,
   "id": "142c6f42",
   "metadata": {},
   "outputs": [
    {
     "data": {
      "text/plain": [
       "5"
      ]
     },
     "execution_count": 15,
     "metadata": {},
     "output_type": "execute_result"
    }
   ],
   "source": [
    "x.pop()"
   ]
  },
  {
   "cell_type": "code",
   "execution_count": 16,
   "id": "b7d36338",
   "metadata": {},
   "outputs": [
    {
     "data": {
      "text/plain": [
       "[2, 3, 4]"
      ]
     },
     "execution_count": 16,
     "metadata": {},
     "output_type": "execute_result"
    }
   ],
   "source": [
    "x"
   ]
  },
  {
   "cell_type": "code",
   "execution_count": 17,
   "id": "a76b782d",
   "metadata": {},
   "outputs": [
    {
     "data": {
      "text/plain": [
       "3"
      ]
     },
     "execution_count": 17,
     "metadata": {},
     "output_type": "execute_result"
    }
   ],
   "source": [
    "x.pop(1)"
   ]
  },
  {
   "cell_type": "code",
   "execution_count": 18,
   "id": "7d42d15b",
   "metadata": {},
   "outputs": [
    {
     "data": {
      "text/plain": [
       "[2, 4]"
      ]
     },
     "execution_count": 18,
     "metadata": {},
     "output_type": "execute_result"
    }
   ],
   "source": [
    "x"
   ]
  },
  {
   "cell_type": "markdown",
   "id": "81d5fc03",
   "metadata": {},
   "source": [
    "벡터의 길이도 달라진다."
   ]
  },
  {
   "cell_type": "code",
   "execution_count": 19,
   "id": "a952d4f5",
   "metadata": {},
   "outputs": [
    {
     "data": {
      "text/plain": [
       "2"
      ]
     },
     "execution_count": 19,
     "metadata": {},
     "output_type": "execute_result"
    }
   ],
   "source": [
    "x.len"
   ]
  },
  {
   "cell_type": "code",
   "execution_count": 20,
   "id": "1b3c4715",
   "metadata": {},
   "outputs": [
    {
     "data": {
      "text/plain": [
       "2"
      ]
     },
     "execution_count": 20,
     "metadata": {},
     "output_type": "execute_result"
    }
   ],
   "source": [
    "x.__len__()"
   ]
  },
  {
   "cell_type": "code",
   "execution_count": 21,
   "id": "cdea0114",
   "metadata": {},
   "outputs": [
    {
     "data": {
      "text/plain": [
       "2"
      ]
     },
     "execution_count": 21,
     "metadata": {},
     "output_type": "execute_result"
    }
   ],
   "source": [
    "len(x)"
   ]
  },
  {
   "cell_type": "markdown",
   "id": "ade994ab",
   "metadata": {},
   "source": [
    "**인덱싱/슬라이싱**"
   ]
  },
  {
   "cell_type": "markdown",
   "id": "5fbb4e82",
   "metadata": {},
   "source": [
    "인덱싱, 슬라이싱 등 재정의 되지 않은 리스트의 다른 기능은 동일하게 작동한다."
   ]
  },
  {
   "cell_type": "markdown",
   "id": "e18c65cf",
   "metadata": {},
   "source": [
    "* 인덱싱"
   ]
  },
  {
   "cell_type": "code",
   "execution_count": 22,
   "id": "ee7021c8",
   "metadata": {},
   "outputs": [
    {
     "data": {
      "text/plain": [
       "2"
      ]
     },
     "execution_count": 22,
     "metadata": {},
     "output_type": "execute_result"
    }
   ],
   "source": [
    "x[0]"
   ]
  },
  {
   "cell_type": "markdown",
   "id": "6bce27e0",
   "metadata": {},
   "source": [
    "* 슬라이싱"
   ]
  },
  {
   "cell_type": "code",
   "execution_count": 23,
   "id": "acf41df0",
   "metadata": {},
   "outputs": [
    {
     "data": {
      "text/plain": [
       "[2, 4]"
      ]
     },
     "execution_count": 23,
     "metadata": {},
     "output_type": "execute_result"
    }
   ],
   "source": [
    "x[:2]"
   ]
  },
  {
   "cell_type": "markdown",
   "id": "1cb1601f",
   "metadata": {},
   "source": [
    "**외부 함수 선언: 메서드 활용**"
   ]
  },
  {
   "cell_type": "markdown",
   "id": "58f635b4",
   "metadata": {},
   "source": [
    "`len(x)` 을 실행하면 실제로는 `x.__len__()` 이 실행된다.\n",
    "이처럼 자주 활용되는 메서드를 일반 함수로 선언해서 활용하면 편리할 수 있다.\n",
    "예를 들어, 벡터의 내적을 자주 계산하는 경우가 그렇다.\n",
    "\n",
    "아래 `dot()` 함수는 벡터 인자에 대해서만 작동하도록 구현되었다."
   ]
  },
  {
   "cell_type": "code",
   "execution_count": 24,
   "id": "372a838e",
   "metadata": {},
   "outputs": [],
   "source": [
    "def dot(x, y):\n",
    "    assert isinstance(x, Vector) and isinstance(y, Vector)\n",
    "    \n",
    "    return x.dot(y)"
   ]
  },
  {
   "cell_type": "code",
   "execution_count": 25,
   "id": "c6b0186a",
   "metadata": {},
   "outputs": [
    {
     "data": {
      "text/plain": [
       "[2, 4, 7]"
      ]
     },
     "execution_count": 25,
     "metadata": {},
     "output_type": "execute_result"
    }
   ],
   "source": [
    "x.append(7)\n",
    "x"
   ]
  },
  {
   "cell_type": "code",
   "execution_count": 26,
   "id": "c8f402ec",
   "metadata": {},
   "outputs": [
    {
     "data": {
      "text/plain": [
       "97"
      ]
     },
     "execution_count": 26,
     "metadata": {},
     "output_type": "execute_result"
    }
   ],
   "source": [
    "dot(x, y)"
   ]
  },
  {
   "cell_type": "markdown",
   "id": "36d9c71c",
   "metadata": {},
   "source": [
    "정의된 대로 실제로는 `Vector` 클래스의 `dot()` 메서드가 실행된다."
   ]
  },
  {
   "cell_type": "code",
   "execution_count": 27,
   "id": "e309efbf",
   "metadata": {},
   "outputs": [
    {
     "data": {
      "text/plain": [
       "True"
      ]
     },
     "execution_count": 27,
     "metadata": {},
     "output_type": "execute_result"
    }
   ],
   "source": [
    "x.dot(y) == dot(x, y)"
   ]
  },
  {
   "cell_type": "markdown",
   "id": "7e58a227",
   "metadata": {},
   "source": [
    "### `__add__()` 매직 메서드 재정의: 벡터 합"
   ]
  },
  {
   "cell_type": "markdown",
   "id": "2bf324f1",
   "metadata": {},
   "source": [
    "넘파이 어레이의 경우처럼\n",
    "길이가 동일한 두 벡터의 합(`+`)을 항목별 합으로 정의하려 한다.\n",
    "그러려면 `__add__()` 매직 메서드를 재정의해야 한다."
   ]
  },
  {
   "cell_type": "code",
   "execution_count": 28,
   "id": "0d755fbe",
   "metadata": {},
   "outputs": [],
   "source": [
    "class Vector(list):\n",
    "    # Vector 클래스 생성자 재정의\n",
    "    def __init__(self, items):\n",
    "        \"\"\"\n",
    "        - list 클래스 상속\n",
    "        - items: 벡터로 사용될 리스트\n",
    "        \"\"\"\n",
    "        \n",
    "        # 부모 클래스 생성자 호출\n",
    "        super().__init__(items)\n",
    "        \n",
    "        # 속성 추가\n",
    "        self.len = self.__len__()\n",
    "            \n",
    "    # 벡터 합 메서드 재정의\n",
    "    def __add__(self, other):\n",
    "        \"\"\"\n",
    "        벡터 합\n",
    "        \"\"\"\n",
    "\n",
    "        # 벡터의 길이가 다르면 실행 오류 발생\n",
    "        if self.len != other.len:\n",
    "            raise RuntimeError(\"두 벡터의 길이가 달라요!\")\n",
    "\n",
    "        # 벡터 합 계산: 각 항목들의 합으로 이루어진 벡터\n",
    "        new_list = []\n",
    "        \n",
    "        for i in range(self.len):\n",
    "            item = self[i] + other[i]\n",
    "            new_list.append(item)\n",
    "\n",
    "        return Vector(new_list)\n",
    "\n",
    "    # append() 메서드 재정의\n",
    "    def append(self, item):\n",
    "        super().append(item)  # 부모 클래스의 append() 메서드 호출\n",
    "        self.len = self.__len__() # 항목 수 다시 확인\n",
    "\n",
    "    # pop() 메서드 재정의\n",
    "    def pop(self, idx=-1):\n",
    "        popped = super().pop(idx) # 부모 클래스의 pop() 메서드 호출\n",
    "        self.len = self.__len__() # 항목 수 다시 확인\n",
    "        return popped\n",
    "    \n",
    "    # 내적 메서드\n",
    "    def dot(self, other):\n",
    "        \"\"\"\n",
    "        벡터 내적\n",
    "        \"\"\"\n",
    "\n",
    "        # 벡터의 길이가 다르면 실행 오류 발생\n",
    "        if self.len != other.len:\n",
    "            raise RuntimeError(\"두 벡터의 길이가 달라요!\")\n",
    "\n",
    "        # 내적 계산: 각 항목들의 곱의 합\n",
    "        # 리스트를 상속하기에 인덱싱 사용 가능\n",
    "        sum = 0\n",
    "        for i in range(self.len):\n",
    "            sum += self[i] * other[i]\n",
    "\n",
    "        return sum\n",
    "    \n",
    "# dot 함수도 새로 정의해야 함.\n",
    "def dot(x, y):\n",
    "    assert isinstance(x, Vector) and isinstance(y, Vector)\n",
    "    \n",
    "    return x.dot(y)"
   ]
  },
  {
   "cell_type": "markdown",
   "id": "055758bd",
   "metadata": {},
   "source": [
    "클래스를 수정하면 인스턴스를 새로 생성해야\n",
    "변경된 내용이 반영된다."
   ]
  },
  {
   "cell_type": "code",
   "execution_count": 29,
   "id": "07d3192a",
   "metadata": {},
   "outputs": [],
   "source": [
    "x = Vector([2, 3, 4])\n",
    "y = Vector([5, 6, 9])"
   ]
  },
  {
   "cell_type": "markdown",
   "id": "a7609789",
   "metadata": {},
   "source": [
    "이제 벡터의 합이 원하는 대로 지원된다."
   ]
  },
  {
   "cell_type": "code",
   "execution_count": 30,
   "id": "732f3ad5",
   "metadata": {},
   "outputs": [
    {
     "data": {
      "text/plain": [
       "[7, 9, 13]"
      ]
     },
     "execution_count": 30,
     "metadata": {},
     "output_type": "execute_result"
    }
   ],
   "source": [
    "x + y"
   ]
  },
  {
   "cell_type": "markdown",
   "id": "9003de17",
   "metadata": {},
   "source": [
    "## 연습문제"
   ]
  },
  {
   "cell_type": "markdown",
   "id": "31b9be77",
   "metadata": {},
   "source": [
    "참고: [(실습) 상속](https://colab.research.google.com/github/codingalzi/algopy/blob/master/excs/exc-oop-inheritance.ipynb)"
   ]
  }
 ],
 "metadata": {
  "kernelspec": {
   "display_name": "Python 3 (ipykernel)",
   "language": "python",
   "name": "python3"
  },
  "language_info": {
   "codemirror_mode": {
    "name": "ipython",
    "version": 3
   },
   "file_extension": ".py",
   "mimetype": "text/x-python",
   "name": "python",
   "nbconvert_exporter": "python",
   "pygments_lexer": "ipython3",
   "version": "3.12.2"
  }
 },
 "nbformat": 4,
 "nbformat_minor": 5
}
