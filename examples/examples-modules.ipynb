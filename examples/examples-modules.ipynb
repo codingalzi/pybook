{
  "cells": [
    {
      "cell_type": "markdown",
      "id": "3cb1f679",
      "metadata": {
        "id": "3cb1f679"
      },
      "source": [
        "# (필수 예제) 모듈"
      ]
    },
    {
      "cell_type": "markdown",
      "id": "8ca4c478",
      "metadata": {
        "id": "8ca4c478"
      },
      "source": [
        "**참고 사항**\n",
        "\n",
        "먼저 [모듈](https://codingalzi.github.io/pybook/modules.html) 내용을 학습하세요."
      ]
    },
    {
      "cell_type": "markdown",
      "id": "701397c0",
      "metadata": {
        "id": "701397c0"
      },
      "source": [
        "## 예제 1"
      ]
    },
    {
      "cell_type": "markdown",
      "id": "dce6fd80",
      "metadata": {
        "id": "dce6fd80"
      },
      "source": [
        "**질문 1**"
      ]
    },
    {
      "cell_type": "markdown",
      "id": "088a43ba",
      "metadata": {
        "id": "088a43ba"
      },
      "source": [
        "`random` 모듈의 `randrange()` 함수를 이용하여 0부터 5까지의 정수 중에서\n",
        "무작위로 하나의 정수를 생성하는 함수를 세 번 호출하라.\n",
        "단, `random` 모듈은 아래와같이 불러온다."
      ]
    },
    {
      "cell_type": "code",
      "execution_count": null,
      "id": "bb807591",
      "metadata": {
        "id": "bb807591"
      },
      "outputs": [],
      "source": [
        "import random"
      ]
    },
    {
      "cell_type": "markdown",
      "id": "f43a6b5a",
      "metadata": {
        "id": "f43a6b5a"
      },
      "source": [
        "**답**"
      ]
    },
    {
      "cell_type": "markdown",
      "id": "f91240f1",
      "metadata": {
        "id": "f91240f1"
      },
      "source": [
        "`randrange()` 함수는 하나의 양의 정수 `n`과 함께 호출되면\n",
        "0부터 `n-1` 까지의 정수 중에서 무작위로 하나의 정수를 반환한다.\n",
        "따라서 0부터 5까지의 정수 중에서 하나를 무작위로 생성하려면\n",
        "6을 인자로 사용해서 호출한다."
      ]
    },
    {
      "cell_type": "code",
      "execution_count": null,
      "id": "3c1a5932",
      "metadata": {
        "id": "3c1a5932",
        "outputId": "98ef1df4-a6aa-4efe-de97-1d8b2d5b1baa"
      },
      "outputs": [
        {
          "data": {
            "text/plain": [
              "5"
            ]
          },
          "execution_count": 5,
          "metadata": {},
          "output_type": "execute_result"
        }
      ],
      "source": [
        "random.randrange(6)"
      ]
    },
    {
      "cell_type": "code",
      "execution_count": null,
      "id": "05ecba79",
      "metadata": {
        "id": "05ecba79",
        "outputId": "26fddaaf-326b-495e-b26a-3983ac037f92"
      },
      "outputs": [
        {
          "data": {
            "text/plain": [
              "0"
            ]
          },
          "execution_count": 6,
          "metadata": {},
          "output_type": "execute_result"
        }
      ],
      "source": [
        "random.randrange(6)"
      ]
    },
    {
      "cell_type": "code",
      "execution_count": null,
      "id": "bb9f43be",
      "metadata": {
        "id": "bb9f43be",
        "outputId": "359f8fd0-b6b0-4cee-ae3a-1ccb9c3a73e7"
      },
      "outputs": [
        {
          "data": {
            "text/plain": [
              "4"
            ]
          },
          "execution_count": 7,
          "metadata": {},
          "output_type": "execute_result"
        }
      ],
      "source": [
        "random.randrange(6)"
      ]
    },
    {
      "cell_type": "markdown",
      "id": "d9e9476c",
      "metadata": {
        "id": "d9e9476c"
      },
      "source": [
        "**질문 2**"
      ]
    },
    {
      "cell_type": "markdown",
      "id": "337610fa",
      "metadata": {
        "id": "337610fa"
      },
      "source": [
        "`random` 모듈의 `randrange()` 함수를 이용하여 5부터 10까지의 정수 중에서\n",
        "무작위로 하나의 정수를 생성하는 함수를 세 번 호출하라.\n",
        "단, `random` 모듈은 아래와같이 불러온다."
      ]
    },
    {
      "cell_type": "code",
      "execution_count": null,
      "id": "3e0a509d",
      "metadata": {
        "id": "3e0a509d"
      },
      "outputs": [],
      "source": [
        "import random"
      ]
    },
    {
      "cell_type": "markdown",
      "id": "6a65941b",
      "metadata": {
        "id": "6a65941b"
      },
      "source": [
        "**답**"
      ]
    },
    {
      "cell_type": "markdown",
      "id": "64e43d89",
      "metadata": {
        "id": "64e43d89"
      },
      "source": [
        "`randrange()` 함수는 두 개의 양의 정수 `n`, `m`과 함께 호출되면\n",
        "`n`부터 `m-1` 까지의 정수 중에서 무작위로 하나의 정수를 반환한다.\n",
        "따라서 5부터 10까지의 정수 중에서 하나를 무작위로 생성하려면\n",
        "5와 11을 인자로 사용해서 호출한다."
      ]
    },
    {
      "cell_type": "code",
      "execution_count": null,
      "id": "836bb7c8",
      "metadata": {
        "id": "836bb7c8",
        "outputId": "a751003b-f2db-4070-e2d6-98b8fd146adf"
      },
      "outputs": [
        {
          "data": {
            "text/plain": [
              "10"
            ]
          },
          "execution_count": 9,
          "metadata": {},
          "output_type": "execute_result"
        }
      ],
      "source": [
        "random.randrange(5, 11)"
      ]
    },
    {
      "cell_type": "code",
      "execution_count": null,
      "id": "548262b1",
      "metadata": {
        "id": "548262b1",
        "outputId": "f5671775-4a71-4855-b7e4-2f69313fed73"
      },
      "outputs": [
        {
          "data": {
            "text/plain": [
              "9"
            ]
          },
          "execution_count": 10,
          "metadata": {},
          "output_type": "execute_result"
        }
      ],
      "source": [
        "random.randrange(5, 11)"
      ]
    },
    {
      "cell_type": "code",
      "execution_count": null,
      "id": "1cedcd2d",
      "metadata": {
        "id": "1cedcd2d",
        "outputId": "5064cc94-ab59-473c-fd24-3b8cffc9c480"
      },
      "outputs": [
        {
          "data": {
            "text/plain": [
              "7"
            ]
          },
          "execution_count": 11,
          "metadata": {},
          "output_type": "execute_result"
        }
      ],
      "source": [
        "random.randrange(5, 11)"
      ]
    },
    {
      "cell_type": "markdown",
      "id": "346d1c75",
      "metadata": {
        "id": "346d1c75"
      },
      "source": [
        "**질문 3**"
      ]
    },
    {
      "cell_type": "markdown",
      "id": "75563a72",
      "metadata": {
        "id": "75563a72"
      },
      "source": [
        "아래 코드의 실행 결과를 이용하여 `randrange()` 함수를 세 개의 인자와 함께 호출되었을 때의 기능을 설명하라."
      ]
    },
    {
      "cell_type": "code",
      "execution_count": null,
      "id": "04681548",
      "metadata": {
        "id": "04681548"
      },
      "outputs": [],
      "source": [
        "import random"
      ]
    },
    {
      "cell_type": "code",
      "execution_count": null,
      "id": "4a7b1591",
      "metadata": {
        "id": "4a7b1591",
        "outputId": "5fbebbd9-a67a-44fc-ccae-948dea841e19"
      },
      "outputs": [
        {
          "name": "stdout",
          "output_type": "stream",
          "text": [
            "7\n",
            "9\n",
            "1\n",
            "7\n",
            "5\n"
          ]
        }
      ],
      "source": [
        "for _ in [0, 1, 2, 3, 4]:\n",
        "    print(random.randrange(1, 10, 2))"
      ]
    },
    {
      "cell_type": "code",
      "execution_count": null,
      "id": "b16b179d",
      "metadata": {
        "id": "b16b179d",
        "outputId": "29f09aad-80a0-401f-9f2a-e4445ade513e"
      },
      "outputs": [
        {
          "name": "stdout",
          "output_type": "stream",
          "text": [
            "3\n",
            "9\n",
            "6\n",
            "9\n",
            "3\n"
          ]
        }
      ],
      "source": [
        "for _ in [0, 1, 2, 3, 4]:\n",
        "    print(random.randrange(0, 10, 3))"
      ]
    },
    {
      "cell_type": "markdown",
      "id": "a5967ad2",
      "metadata": {
        "id": "a5967ad2"
      },
      "source": [
        "**답**"
      ]
    },
    {
      "cell_type": "markdown",
      "id": "ea818a18",
      "metadata": {
        "id": "ea818a18"
      },
      "source": [
        "`randrange(a, b, c)` 형식으로 함수 호출이 되면\n",
        "`a`에서 `b` 이전 까지의 구간에서 값을 무작위로 선택할 때 아래에 언급된 값 중에서 하나 선택한다.\n",
        "\n",
        "    a, a+c, a+2*c, a+3*c, ..."
      ]
    },
    {
      "cell_type": "markdown",
      "id": "7ac7d394",
      "metadata": {
        "id": "7ac7d394"
      },
      "source": [
        "따라서\n",
        "\n",
        "- `randrange(1, 10, 2)`: 1부터 9까지의 홀수 중에서 무작위로 하나 선택\n",
        "- `randrange(0, 10, 3)`: 0부터 9까지의 수 중에서 3의 배수를 무작위로 하나 선택"
      ]
    },
    {
      "cell_type": "markdown",
      "id": "075e1995",
      "metadata": {
        "id": "075e1995"
      },
      "source": [
        "## 예제 2"
      ]
    },
    {
      "cell_type": "markdown",
      "id": "6255864d",
      "metadata": {
        "id": "6255864d"
      },
      "source": [
        "`random` 모듈의 `randrange()` 함수와 `randint()` 함수의 공통점과 차이점을\n",
        "예를 이용하여 설명하라."
      ]
    },
    {
      "cell_type": "markdown",
      "id": "01e3ba37",
      "metadata": {
        "id": "01e3ba37"
      },
      "source": [
        "**답**"
      ]
    },
    {
      "cell_type": "markdown",
      "id": "a02dba1a",
      "metadata": {
        "id": "a02dba1a"
      },
      "source": [
        "`randint()` 함수는 `randrange()` 함수를 이용해서 다음과 같이 정의되었다.\n",
        "\n",
        "```python\n",
        "randint(a, b) = randrange(a, b+1)\n",
        "```"
      ]
    },
    {
      "cell_type": "markdown",
      "id": "c35ed094",
      "metadata": {
        "id": "c35ed094"
      },
      "source": [
        "따라서 `randint(a, b)`로 호출되면 무작위로 선택할 수 있는 정수의 구간이\n",
        "`a`에서 `b`까지이다.\n",
        "반면에 `randint(a, b)`로 호출되면 `b`는 포함되지 않는다."
      ]
    },
    {
      "cell_type": "markdown",
      "id": "a02443d1",
      "metadata": {
        "id": "a02443d1"
      },
      "source": [
        "예를 들어 아래 코드는 실행할 때마다 1 또는 2가 반환값으로 지정된다."
      ]
    },
    {
      "cell_type": "code",
      "execution_count": null,
      "id": "f5edf644",
      "metadata": {
        "id": "f5edf644",
        "outputId": "343e30bb-067c-4814-d8c9-298f395b048d"
      },
      "outputs": [
        {
          "data": {
            "text/plain": [
              "2"
            ]
          },
          "execution_count": 18,
          "metadata": {},
          "output_type": "execute_result"
        }
      ],
      "source": [
        "import random\n",
        "\n",
        "random.randint(1, 2)"
      ]
    },
    {
      "cell_type": "code",
      "execution_count": null,
      "id": "11dc09f4",
      "metadata": {
        "id": "11dc09f4",
        "outputId": "58ccc5ad-0472-4953-bad3-6ea50308fdff"
      },
      "outputs": [
        {
          "data": {
            "text/plain": [
              "1"
            ]
          },
          "execution_count": 19,
          "metadata": {},
          "output_type": "execute_result"
        }
      ],
      "source": [
        "import random\n",
        "\n",
        "random.randint(1, 2)"
      ]
    },
    {
      "cell_type": "code",
      "execution_count": null,
      "id": "3c9b7c2f",
      "metadata": {
        "id": "3c9b7c2f",
        "outputId": "7412e565-826b-482b-ab62-4487a68f9df2"
      },
      "outputs": [
        {
          "data": {
            "text/plain": [
              "2"
            ]
          },
          "execution_count": 22,
          "metadata": {},
          "output_type": "execute_result"
        }
      ],
      "source": [
        "import random\n",
        "\n",
        "random.randint(1, 2)"
      ]
    },
    {
      "cell_type": "markdown",
      "id": "03061013",
      "metadata": {
        "id": "03061013"
      },
      "source": [
        "반면에 아래 코드는 항상 1만 생성된다. 이유는 탐색 구간에 2는 포함되지 않기 때문이다."
      ]
    },
    {
      "cell_type": "code",
      "execution_count": null,
      "id": "d7120b78",
      "metadata": {
        "id": "d7120b78",
        "outputId": "11ce5335-6b01-4460-e4e2-391d2c92b3b9"
      },
      "outputs": [
        {
          "data": {
            "text/plain": [
              "1"
            ]
          },
          "execution_count": 20,
          "metadata": {},
          "output_type": "execute_result"
        }
      ],
      "source": [
        "import random\n",
        "\n",
        "random.randrange(1, 2)"
      ]
    },
    {
      "cell_type": "code",
      "execution_count": null,
      "id": "dda8979b",
      "metadata": {
        "id": "dda8979b",
        "outputId": "d063f393-1f97-4e4f-fb07-27c6a05fea33"
      },
      "outputs": [
        {
          "data": {
            "text/plain": [
              "1"
            ]
          },
          "execution_count": 21,
          "metadata": {},
          "output_type": "execute_result"
        }
      ],
      "source": [
        "import random\n",
        "\n",
        "random.randrange(1, 2)"
      ]
    },
    {
      "cell_type": "code",
      "execution_count": null,
      "id": "3db09f39",
      "metadata": {
        "id": "3db09f39",
        "outputId": "a18fecba-6e67-4087-c46d-715a10b96256"
      },
      "outputs": [
        {
          "data": {
            "text/plain": [
              "1"
            ]
          },
          "execution_count": 23,
          "metadata": {},
          "output_type": "execute_result"
        }
      ],
      "source": [
        "import random\n",
        "\n",
        "random.randrange(1, 2)"
      ]
    },
    {
      "cell_type": "markdown",
      "id": "f871b968",
      "metadata": {
        "id": "f871b968"
      },
      "source": [
        "## 예제 3"
      ]
    },
    {
      "cell_type": "markdown",
      "id": "472862ab",
      "metadata": {
        "id": "472862ab"
      },
      "source": [
        "`randdom` 모듈의 `randint()` 함수를 이용하여 주사위 던지기를\n",
        "시뮬레이션 하는 코드를 구현하라."
      ]
    },
    {
      "cell_type": "markdown",
      "id": "15d69136",
      "metadata": {
        "id": "15d69136"
      },
      "source": [
        "**답 1**"
      ]
    },
    {
      "cell_type": "markdown",
      "id": "9f5e3d81",
      "metadata": {
        "id": "9f5e3d81"
      },
      "source": [
        "주사위는 1부터 6까지의 숫자로 표기된 6개의 면을 갖는 정육면체다.\n",
        "주사위 자체는 생략하고 주사위를 던진 결과만을 고려한다면\n",
        " `randint(1, 6)` 함수 표현식으로 주사위를 대신할 수 있다.\n",
        "이유는 언급된 표현식을 실행할 때마다 1부터 6 사이의 정수가 하나 선택되는데\n",
        "이 과정을 주사위를 던져서 하나의 수를 얻는 과정에 비유할 수 있기 때문이다."
      ]
    },
    {
      "cell_type": "markdown",
      "id": "2547e31f",
      "metadata": {
        "id": "2547e31f"
      },
      "source": [
        "아래 코드를 실행할 때마다 1에서 6 사이의 정수 하나가 선택된다.\n",
        "즉, 아래 코드가 주사위 던지기를 시뮬레이션 한다."
      ]
    },
    {
      "cell_type": "code",
      "execution_count": null,
      "id": "da54afa0",
      "metadata": {
        "id": "da54afa0",
        "outputId": "c9e42487-4333-4aad-e163-220d75e2a552"
      },
      "outputs": [
        {
          "name": "stdout",
          "output_type": "stream",
          "text": [
            "주사위를 던집니다.\n",
            "2 이(가) 나왔습니다.\n"
          ]
        }
      ],
      "source": [
        "import random\n",
        "\n",
        "print(\"주사위를 던집니다.\")\n",
        "\n",
        "dice_number = random.randint(1, 6)\n",
        "print(dice_number, \"이(가) 나왔습니다.\")"
      ]
    },
    {
      "cell_type": "markdown",
      "id": "1fef78f5",
      "metadata": {
        "id": "1fef78f5"
      },
      "source": [
        "**답 2**"
      ]
    },
    {
      "cell_type": "markdown",
      "id": "a87909d5",
      "metadata": {
        "id": "a87909d5"
      },
      "source": [
        "반면에 정육면체 주사위까지는 아니지만 주사위를 던졌을 때\n",
        "윗쪽면에 보여지는 숫자 이미지를 모방하는 문자열을 이용하여\n",
        "주사위 던지기를 아래처럼 시뮬레이션 할 수 있다."
      ]
    },
    {
      "cell_type": "markdown",
      "id": "8a63d8fa",
      "metadata": {
        "id": "8a63d8fa"
      },
      "source": [
        "```\n",
        "숫자:\n",
        "\n",
        "   1           2           3           4           5           6\n",
        "\n",
        "숫자 이미지:\n",
        "\n",
        "|     |     |0    |     |0    |     |0   0|     |0   0|     |0   0|\n",
        "|  0  |     |     |     |  0  |     |     |     |  0  |     |0   0|\n",
        "|     |     |    0|     |    0|     |0   0|     |0   0|     |0   0|\n",
        "```"
      ]
    },
    {
      "cell_type": "markdown",
      "id": "4cbe66f2",
      "metadata": {
        "id": "4cbe66f2"
      },
      "source": [
        "아래 `prince_dice()` 함수는 지정된 숫자의 이미지를 출력한다."
      ]
    },
    {
      "cell_type": "code",
      "execution_count": null,
      "id": "c9cfffa8",
      "metadata": {
        "id": "c9cfffa8"
      },
      "outputs": [],
      "source": [
        "def print_dice(dice_number):\n",
        "    if dice_number == 1:\n",
        "        print(\"|     |\")\n",
        "        print(\"|  0  |\")\n",
        "        print(\"|     |\")\n",
        "    if dice_number == 2:\n",
        "        print(\"|0    |\")\n",
        "        print(\"|     |\")\n",
        "        print(\"|    0|\")\n",
        "    if dice_number == 3:\n",
        "        print(\"|0    |\")\n",
        "        print(\"|  0  |\")\n",
        "        print(\"|    0|\")\n",
        "    if dice_number == 4:\n",
        "        print(\"|0   0|\")\n",
        "        print(\"|     |\")\n",
        "        print(\"|0   0|\")\n",
        "    if dice_number == 5:\n",
        "        print(\"|0   0|\")\n",
        "        print(\"|  0  |\")\n",
        "        print(\"|0   0|\")\n",
        "    if dice_number == 6:\n",
        "        print(\"|0   0|\")\n",
        "        print(\"|0   0|\")\n",
        "        print(\"|0   0|\")"
      ]
    },
    {
      "cell_type": "markdown",
      "id": "98f8064e",
      "metadata": {
        "id": "98f8064e"
      },
      "source": [
        "- 1에 해당하는 이미지"
      ]
    },
    {
      "cell_type": "code",
      "execution_count": null,
      "id": "fd4a6e28",
      "metadata": {
        "id": "fd4a6e28",
        "outputId": "f143cc3a-e21e-4839-c7fd-64224fd2261f"
      },
      "outputs": [
        {
          "name": "stdout",
          "output_type": "stream",
          "text": [
            "|     |\n",
            "|  0  |\n",
            "|     |\n"
          ]
        }
      ],
      "source": [
        "print_dice(1)"
      ]
    },
    {
      "cell_type": "markdown",
      "id": "cc373169",
      "metadata": {
        "id": "cc373169"
      },
      "source": [
        "- 3에 해당하는 이미지"
      ]
    },
    {
      "cell_type": "code",
      "execution_count": null,
      "id": "0b21816e",
      "metadata": {
        "id": "0b21816e",
        "outputId": "a8b1bb54-a664-441f-f8b2-3d6ba9423408"
      },
      "outputs": [
        {
          "name": "stdout",
          "output_type": "stream",
          "text": [
            "|0    |\n",
            "|  0  |\n",
            "|    0|\n"
          ]
        }
      ],
      "source": [
        "print_dice(3)"
      ]
    },
    {
      "cell_type": "markdown",
      "id": "17259764",
      "metadata": {
        "id": "17259764"
      },
      "source": [
        "- 6에 해당하는 이미지"
      ]
    },
    {
      "cell_type": "code",
      "execution_count": null,
      "id": "1d41166f",
      "metadata": {
        "id": "1d41166f",
        "outputId": "06b5072f-8e46-4a39-c57c-0979fa792170"
      },
      "outputs": [
        {
          "name": "stdout",
          "output_type": "stream",
          "text": [
            "|0   0|\n",
            "|0   0|\n",
            "|0   0|\n"
          ]
        }
      ],
      "source": [
        "print_dice(6)"
      ]
    },
    {
      "cell_type": "markdown",
      "id": "351a737e",
      "metadata": {
        "id": "351a737e"
      },
      "source": [
        "위 함수를 이용하여 주사위 던지기를 최종적으로 아래 코드로 구현한다.\n",
        "아래 코드는 실행할 때마다 무작위로 1부터 6 사이의 값에 해당하는 이미지를 출력한다."
      ]
    },
    {
      "cell_type": "code",
      "execution_count": null,
      "id": "116ed416",
      "metadata": {
        "id": "116ed416",
        "outputId": "cab8ff5e-5b7f-42b9-8f42-e60ef0b60ecb"
      },
      "outputs": [
        {
          "name": "stdout",
          "output_type": "stream",
          "text": [
            "주사위를 던집니다.\n",
            "\n",
            "\n",
            "|0   0|\n",
            "|  0  |\n",
            "|0   0|\n"
          ]
        }
      ],
      "source": [
        "import random\n",
        "\n",
        "print(\"주사위를 던집니다.\")\n",
        "print(\"\\n\")\n",
        "\n",
        "dice_number = random.randint(1, 6)\n",
        "\n",
        "print_dice(dice_number)"
      ]
    },
    {
      "cell_type": "code",
      "execution_count": null,
      "id": "ade6364f",
      "metadata": {
        "id": "ade6364f",
        "outputId": "65e6d3bb-21c3-418b-da03-ebd2cb5cef31"
      },
      "outputs": [
        {
          "name": "stdout",
          "output_type": "stream",
          "text": [
            "주사위를 던집니다.\n",
            "\n",
            "\n",
            "|0   0|\n",
            "|     |\n",
            "|0   0|\n"
          ]
        }
      ],
      "source": [
        "import random\n",
        "\n",
        "print(\"주사위를 던집니다.\")\n",
        "print(\"\\n\")\n",
        "\n",
        "dice_number = random.randint(1, 6)\n",
        "\n",
        "print_dice(dice_number)"
      ]
    },
    {
      "cell_type": "markdown",
      "id": "12913fc6",
      "metadata": {
        "id": "12913fc6"
      },
      "source": [
        "## 예제 4"
      ]
    },
    {
      "cell_type": "markdown",
      "id": "b3948dab",
      "metadata": {
        "id": "b3948dab"
      },
      "source": [
        "이전 예제의 주사위 던지기 코드를 수정하여 사용자로부터 `Y`를 입력받는 동안 주사위를 반복해서 던지는 프로그램을 구현하라.\n",
        "\n",
        "힌트: `while` 반복문과 `input()` 함수 활용"
      ]
    },
    {
      "cell_type": "markdown",
      "id": "401d642e",
      "metadata": {
        "id": "401d642e"
      },
      "source": [
        "**답**"
      ]
    },
    {
      "cell_type": "markdown",
      "id": "f4f76645",
      "metadata": {
        "id": "f4f76645"
      },
      "source": [
        "이전 코드는 주사위를 한 번 던지는 것을 구현한다.\n",
        "그리고 사용자로부터 입력받은 문자열이 `Y`인 동안 반복해서 주사위를 던지려면\n",
        "이전 코드를 `while` 반복문의 본문으로 사용한다.\n",
        "\n",
        "`while 논리식`에 사용되는 논리식은\n",
        "사용자가 입력한 알파벳이 `'Y'`인지 여부를 판단해야 한다.\n",
        "예를 들어 `rolling` 변수가 사용자의 입력값을 가리킨다고 가정할 때\n",
        "다음과 같이 `while` 반복문을 시작할 수 있다.\n",
        "\n",
        "```\n",
        "while rolling == 'Y':\n",
        "    본문\n",
        "```\n",
        "\n",
        "또한 `while` 반복문의 본문에서 주사위 한 번 던지기가 완료되면\n",
        "곧바로 주사위를 계속해서 던질지 여부를 묻고\n",
        "그 결과를 `rolling` 변수에 재할당한다.\n",
        "그러면 사용자의 답변 여부에 따라 주사위 던지기를 반복할지가 결정된다.\n",
        "\n",
        "위 설명을 정리하면 다음과 같이 주사위 반복 던지기를 구현할 수 있다."
      ]
    },
    {
      "cell_type": "code",
      "execution_count": null,
      "id": "f508a88b",
      "metadata": {
        "id": "f508a88b",
        "outputId": "b66d7743-ba15-4e23-efac-730c4ffbfba4"
      },
      "outputs": [
        {
          "name": "stdout",
          "output_type": "stream",
          "text": [
            "주사위 던지기를 시작하려면 Y를 누르세요! Y\n",
            "주사위를 던집니다.\n",
            "\n",
            "\n",
            "|0    |\n",
            "|  0  |\n",
            "|    0|\n",
            "\n",
            "\n",
            "계속하고 싶으면 Y를 누르세요: Y\n",
            "주사위를 던집니다.\n",
            "\n",
            "\n",
            "|     |\n",
            "|  0  |\n",
            "|     |\n",
            "\n",
            "\n",
            "계속하고 싶으면 Y를 누르세요: no\n"
          ]
        }
      ],
      "source": [
        "import random\n",
        "\n",
        "rolling = input(\"주사위 던지기를 시작하려면 Y를 누르세요! \")\n",
        "\n",
        "while rolling == \"Y\":\n",
        "    print(\"주사위를 던집니다.\")\n",
        "    print(\"\\n\")\n",
        "\n",
        "    dice_number = random.randint(1, 6)\n",
        "\n",
        "    print_dice(dice_number)\n",
        "    print(\"\\n\")\n",
        "\n",
        "    rolling = input(\"계속하고 싶으면 Y를 누르세요: \")"
      ]
    },
    {
      "cell_type": "markdown",
      "id": "71b7239e",
      "metadata": {
        "id": "71b7239e"
      },
      "source": [
        "## 예제 5"
      ]
    },
    {
      "cell_type": "markdown",
      "id": "33f15f94",
      "metadata": {
        "id": "33f15f94"
      },
      "source": [
        "`random` 모듈의 `randrange()` 함수, 따라서 `randint()` 함수는\n",
        "지정된 정수 구간에서 균등한 확률로 하나의 정수를 선택한다.\n",
        "이를 확인하는 코드를 작성하라.\n",
        "예를 들어 `randint(1, 6)`을 10만 번 호출했을 때\n",
        "1이 선택되는 경우가 전체의 1/6, 즉 0.1666 정도임을 확인하는 코드를 작성하라."
      ]
    },
    {
      "cell_type": "code",
      "execution_count": null,
      "id": "ba480bb3",
      "metadata": {
        "id": "ba480bb3",
        "outputId": "b2a91f5c-c40a-471e-c759-723e43d2d4cb"
      },
      "outputs": [
        {
          "data": {
            "text/plain": [
              "0.16666666666666666"
            ]
          },
          "execution_count": 14,
          "metadata": {},
          "output_type": "execute_result"
        }
      ],
      "source": [
        "1/6"
      ]
    },
    {
      "cell_type": "markdown",
      "id": "116d886e",
      "metadata": {
        "id": "116d886e"
      },
      "source": [
        "힌트: `while` 반복문, `random.randint()` 함수 활용"
      ]
    },
    {
      "cell_type": "markdown",
      "id": "9e27a478",
      "metadata": {
        "id": "9e27a478"
      },
      "source": [
        "**답**"
      ]
    },
    {
      "cell_type": "markdown",
      "id": "c621f12f",
      "metadata": {
        "id": "c621f12f"
      },
      "source": [
        "`random.randint(1, 6)`를 10만 번 호출해서 반환값이 1인지 여부를 확인하는 코드는 다음과 같다."
      ]
    },
    {
      "cell_type": "markdown",
      "id": "f52ad450",
      "metadata": {
        "id": "f52ad450"
      },
      "source": [
        "```\n",
        "total = 100_000\n",
        "\n",
        "toss = 0\n",
        "while toss < total:\n",
        "    random.randint(1, 6) == 1\n",
        "    toss += 1\n",
        "```"
      ]
    },
    {
      "cell_type": "markdown",
      "id": "74b1828d",
      "metadata": {
        "id": "74b1828d"
      },
      "source": [
        "1부터 6까지의 정수 중에서 무작위로 선택된 값이 1인 경우가 몇 번이었는지를 기억하는 변수 `count`를 추가한다.\n",
        "`while` 반복문이 시작하기 전에 0으로 초기화 한 다음에\n",
        "해당 경우가 발생할 때마다 1씩 커지도록 하면 된다."
      ]
    },
    {
      "cell_type": "markdown",
      "id": "32f0af71",
      "metadata": {
        "id": "32f0af71"
      },
      "source": [
        "```\n",
        "total = 100_000\n",
        "count = 0\n",
        "\n",
        "toss = 0\n",
        "while toss < total:\n",
        "    if random.randint(1, 6) == 1:\n",
        "        count += 1\n",
        "    toss += 1\n",
        "```"
      ]
    },
    {
      "cell_type": "markdown",
      "id": "3a7c6993",
      "metadata": {
        "id": "3a7c6993"
      },
      "source": [
        "끝으로 `count`에 저장된 값을 10만으로 나누면 1이 나온 비율이 계산된다.\n",
        "지금까지의 설명을 코드로 구현하면 다음과 같다."
      ]
    },
    {
      "cell_type": "code",
      "execution_count": null,
      "id": "adbba79b",
      "metadata": {
        "id": "adbba79b",
        "outputId": "99e2850a-b4c4-4ec9-f7d8-ffc9184ddfcd"
      },
      "outputs": [
        {
          "name": "stdout",
          "output_type": "stream",
          "text": [
            "1이 나온 비율: 0.16572\n"
          ]
        }
      ],
      "source": [
        "# import random\n",
        "\n",
        "total = 100_000\n",
        "count = 0\n",
        "\n",
        "toss = 0\n",
        "while toss < total:\n",
        "    if random.randint(1, 6) == 1:\n",
        "        count += 1\n",
        "    toss += 1\n",
        "\n",
        "print(\"1이 나온 비율:\", count/total)"
      ]
    },
    {
      "cell_type": "markdown",
      "id": "b0f9fffa",
      "metadata": {
        "id": "b0f9fffa"
      },
      "source": [
        "동전 던지기를 많이 할 수록 1이 나온 비율이 보다 1/6에 가까워진다."
      ]
    },
    {
      "cell_type": "markdown",
      "id": "93472e1a",
      "metadata": {
        "id": "93472e1a"
      },
      "source": [
        "- 1백만 번 던질 때"
      ]
    },
    {
      "cell_type": "code",
      "execution_count": null,
      "id": "1cb2f2c0",
      "metadata": {
        "id": "1cb2f2c0",
        "outputId": "1ff3238a-07a2-428c-de3b-64ab5eb25a95"
      },
      "outputs": [
        {
          "name": "stdout",
          "output_type": "stream",
          "text": [
            "1이 나온 비율: 0.166631\n"
          ]
        }
      ],
      "source": [
        "# import random\n",
        "\n",
        "total = 1_000_000\n",
        "count = 0\n",
        "\n",
        "toss = 0\n",
        "while toss < total:\n",
        "    if random.randint(1, 6) == 1:\n",
        "        count += 1\n",
        "    toss += 1\n",
        "\n",
        "print(\"1이 나온 비율:\", count/total)"
      ]
    },
    {
      "cell_type": "markdown",
      "id": "bc90df61",
      "metadata": {
        "id": "bc90df61"
      },
      "source": [
        "- 1천만 번 던질 때"
      ]
    },
    {
      "cell_type": "code",
      "execution_count": null,
      "id": "eed03cfd",
      "metadata": {
        "id": "eed03cfd",
        "outputId": "aa226d5b-7651-46bd-d73c-b7023de64beb"
      },
      "outputs": [
        {
          "name": "stdout",
          "output_type": "stream",
          "text": [
            "1이 나온 비율: 0.1665179\n"
          ]
        }
      ],
      "source": [
        "# import random\n",
        "\n",
        "total = 10_000_000\n",
        "count = 0\n",
        "\n",
        "toss = 0\n",
        "while toss < total:\n",
        "    if random.randint(1, 6) == 1:\n",
        "        count += 1\n",
        "    toss += 1\n",
        "\n",
        "print(\"1이 나온 비율:\", count/total)"
      ]
    },
    {
      "cell_type": "markdown",
      "id": "a621f7aa",
      "metadata": {
        "id": "a621f7aa"
      },
      "source": [
        "## 예제 6"
      ]
    },
    {
      "cell_type": "markdown",
      "id": "c4f5ec6f",
      "metadata": {
        "id": "c4f5ec6f"
      },
      "source": [
        "컴퓨터는 일반적으로 명령문을 가능한 한 빠르게 실행하려 한다.\n",
        "하지만 의도적으로 천천히 일을 진행시켜야 하는 경우 `time` 모듈의 `sleep()` 함수를 유용하게 활용할 수 있다.\n",
        "\n",
        "예를 들어 아래 코드를 실행하면 매우 빠르게 실행된다."
      ]
    },
    {
      "cell_type": "code",
      "execution_count": null,
      "id": "fe1f4341",
      "metadata": {
        "id": "fe1f4341",
        "outputId": "6660a2e5-30c7-4dd5-f74e-53f2d53e3133"
      },
      "outputs": [
        {
          "name": "stdout",
          "output_type": "stream",
          "text": [
            "0\n",
            "1\n",
            "2\n",
            "3\n",
            "4\n"
          ]
        }
      ],
      "source": [
        "count = 0\n",
        "\n",
        "while count < 5:\n",
        "    print(count)\n",
        "    count += 1"
      ]
    },
    {
      "cell_type": "markdown",
      "id": "3f2b97e8",
      "metadata": {
        "id": "3f2b97e8"
      },
      "source": [
        "반면에 아래 코드를 실행하면 1초에 한 번 `count`를 재할당하여 5초 정도 걸린다."
      ]
    },
    {
      "cell_type": "code",
      "execution_count": null,
      "id": "10d2a6e9",
      "metadata": {
        "id": "10d2a6e9",
        "outputId": "d049aa87-4c12-4846-a643-de56380bd42b"
      },
      "outputs": [
        {
          "name": "stdout",
          "output_type": "stream",
          "text": [
            "0\n",
            "1\n",
            "2\n",
            "3\n",
            "4\n"
          ]
        }
      ],
      "source": [
        "import time\n",
        "\n",
        "count = 0\n",
        "while count < 5:\n",
        "    print(count)\n",
        "    count += 1\n",
        "    time.sleep(1)"
      ]
    },
    {
      "cell_type": "markdown",
      "id": "c792ee6c",
      "metadata": {
        "id": "c792ee6c"
      },
      "source": [
        "`time` 모듈의 `time()` 함수를 이용하여 위 두 코드의 실행시간을 비교하라."
      ]
    },
    {
      "cell_type": "markdown",
      "id": "0f687302",
      "metadata": {
        "id": "0f687302"
      },
      "source": [
        "**답**"
      ]
    },
    {
      "cell_type": "markdown",
      "id": "88306144",
      "metadata": {
        "id": "88306144"
      },
      "source": [
        "`time` 모듈의 `time()` 함수는 호출되는 순간 컴퓨터 시간의 기원으로부터 흐른 시간을\n",
        "초 단위의 부동소수점으로 계산해서 반환한다.\n",
        "이 점을 이용하여 코드의 처음과 끝에서 `time()` 함수를 호출하여 차이를 계산하면\n",
        "코드의 실행시간이 계산된다."
      ]
    },
    {
      "cell_type": "markdown",
      "id": "5ec8fd10",
      "metadata": {
        "id": "5ec8fd10"
      },
      "source": [
        "- 첫째 코드 실행시간: 약 1만 분의 5초"
      ]
    },
    {
      "cell_type": "code",
      "execution_count": null,
      "id": "275ce1da",
      "metadata": {
        "id": "275ce1da",
        "outputId": "260ae3c1-4a81-4433-e773-d6e5f6a8805a"
      },
      "outputs": [
        {
          "name": "stdout",
          "output_type": "stream",
          "text": [
            "0\n",
            "1\n",
            "2\n",
            "3\n",
            "4\n",
            "코드 실행시간: 0.0007152557373046875 초\n"
          ]
        }
      ],
      "source": [
        "start = time.time()\n",
        "\n",
        "count = 0\n",
        "\n",
        "while count < 5:\n",
        "    print(count)\n",
        "    count += 1\n",
        "\n",
        "end = time.time()\n",
        "\n",
        "print(\"코드 실행시간:\", end - start, \"초\")"
      ]
    },
    {
      "cell_type": "markdown",
      "id": "dd4ecbb2",
      "metadata": {
        "id": "dd4ecbb2"
      },
      "source": [
        "- 둘째 코드 실행시간: 약 5초"
      ]
    },
    {
      "cell_type": "code",
      "execution_count": null,
      "id": "f4ac2b80",
      "metadata": {
        "id": "f4ac2b80",
        "outputId": "5e791fca-6b6d-429c-b247-20c6316f581b"
      },
      "outputs": [
        {
          "name": "stdout",
          "output_type": "stream",
          "text": [
            "0\n",
            "1\n",
            "2\n",
            "3\n",
            "4\n",
            "코드 실행시간: 5.008046627044678 초\n"
          ]
        }
      ],
      "source": [
        "start = time.time()\n",
        "\n",
        "count = 0\n",
        "while count < 5:\n",
        "    print(count)\n",
        "    count += 1\n",
        "    time.sleep(1)\n",
        "\n",
        "end = time.time()\n",
        "\n",
        "print(\"코드 실행시간:\", end - start, \"초\")"
      ]
    },
    {
      "cell_type": "markdown",
      "id": "28fc63f3",
      "metadata": {
        "id": "28fc63f3"
      },
      "source": [
        "## 예제 7"
      ]
    },
    {
      "cell_type": "markdown",
      "id": "7cc2b840",
      "metadata": {
        "id": "7cc2b840"
      },
      "source": [
        "베스킨라빈스 31 게임은 두 사람이 참여하며 마지막에 31을 부른 사람이 지는 게임으로 규칙은 다음과 같다.\n",
        "\n",
        "* 참여자들은 번갈아가며 1부터 31까지의 수를 순서대로 부른다.\n",
        "* 한번에 1~3개의 수를 부를 수 있다.\n",
        "\n",
        "예를 들어, playerA가 1, 2, 3을 부르면, playerB는 4 또는 4, 5 또는 4, 5, 6을 부를 수 있다.\n",
        "\n",
        "playerA와 playerB가 번갈아서 1에서 3 사이의 수를 입력하면 다음처럼\n",
        "1부터 31 사이의 정수를 차례대로 지정된 수 만큼 언급하는 코드를 작성하라."
      ]
    },
    {
      "cell_type": "markdown",
      "id": "43bde94c",
      "metadata": {
        "id": "43bde94c"
      },
      "source": [
        "```\n",
        "playerA 차례입니다.\n",
        "부를 숫자의 개수를 입력하세요 (1, 2, 3만 입력 가능): 3\n",
        "playerA: 1\n",
        "playerA: 2\n",
        "playerA: 3\n",
        "\n",
        "playerB 차례입니다.\n",
        "부를 숫자의 개수를 입력하세요 (1, 2, 3만 입력 가능): 2\n",
        "playerB: 4\n",
        "playerB: 5\n",
        "\n",
        "playerA 차례입니다.\n",
        "부를 숫자의 개수를 입력하세요 (1, 2, 3만 입력 가능): 1\n",
        "playerA: 6\n",
        "\n",
        "등등\n",
        "\n",
        "```"
      ]
    },
    {
      "cell_type": "markdown",
      "id": "2deb89a7",
      "metadata": {
        "id": "2deb89a7"
      },
      "source": [
        "**답**"
      ]
    },
    {
      "cell_type": "markdown",
      "id": "3d80accf",
      "metadata": {
        "id": "3d80accf"
      },
      "source": [
        "베스킨라빈스 31 게임의 진행에 필요한 구성 요소를 확장하면서 프로그램을 완성한다."
      ]
    },
    {
      "cell_type": "markdown",
      "id": "3792ccca",
      "metadata": {
        "id": "3792ccca"
      },
      "source": [
        "**구성요소 1: 원하는 수 만큼의 숫자 이어 부르기**"
      ]
    },
    {
      "cell_type": "markdown",
      "id": "8efe7302",
      "metadata": {
        "id": "8efe7302"
      },
      "source": [
        "먼저 몇 개의 수를 부를지 선택한 다음 마지막으로 언급된 숫자 다음부터 차례대로 언급한 수 만큼의 숫자를 출력하는 코드는 다음과 같다.\n",
        "아래 코드는 마지막으로 언급된 숫자가 22라고 가정하고 두 개의 숫자를 부르겠다고 지정한 결과를 보여준다.\n",
        "\n",
        "- `call = 22`: 마지막으로 언급된 숫자"
      ]
    },
    {
      "cell_type": "code",
      "execution_count": null,
      "id": "c73943ae",
      "metadata": {
        "id": "c73943ae",
        "outputId": "ffaa5e13-f9f6-4d32-89a0-b3726caee195",
        "colab": {
          "base_uri": "https://localhost:8080/"
        }
      },
      "outputs": [
        {
          "output_type": "stream",
          "name": "stdout",
          "text": [
            "부를 숫자의 개수를 입력하세요 (1, 2, 3만 입력 가능): 2\n",
            "23\n",
            "24\n"
          ]
        }
      ],
      "source": [
        "call = 22   # 마지막으로 언급된 숫자 기억\n",
        "\n",
        "number = int(input(\"부를 숫자의 개수를 입력하세요 (1, 2, 3만 입력 가능): \"))\n",
        "\n",
        "count = 0\n",
        "while count < number:\n",
        "    call += 1\n",
        "    print(call)\n",
        "    count += 1"
      ]
    },
    {
      "cell_type": "markdown",
      "id": "566ba47d",
      "metadata": {
        "id": "566ba47d"
      },
      "source": [
        "**구성요소 2: 게임 참여자 두 명이 번갈아 가며 원하는 수 만큼의 숫자 이어 부르기**"
      ]
    },
    {
      "cell_type": "markdown",
      "id": "c5ef2317",
      "metadata": {
        "id": "c5ef2317"
      },
      "source": [
        "아래 코드는 두 명의 게임 참여자가 번갈아 가며 원하는 수 만큼이 숫자를 차례대로 언급하도록 한다.\n",
        "시작은 0부터 출발하여 게임 진행을 단순화하기 위해 7을 부르는 사람이 지도록 하였다.\n",
        "\n",
        "- `final = 7`: 언급되면 지는 숫자"
      ]
    },
    {
      "cell_type": "markdown",
      "id": "cdba49f9",
      "metadata": {
        "id": "cdba49f9"
      },
      "source": [
        "**참고:**\n",
        "\n",
        "코드에 사용된 `break` 명령문은 누군가 31을 부르는 순간 해당 `break` 명령문을 포함한\n",
        "`while` 명령문이 더 이상 실행되지 않도록 한다."
      ]
    },
    {
      "cell_type": "code",
      "execution_count": null,
      "id": "f4d4909d",
      "metadata": {
        "id": "f4d4909d",
        "outputId": "a1c8c3e9-9c77-4eb5-913c-3c6411491219"
      },
      "outputs": [
        {
          "name": "stdout",
          "output_type": "stream",
          "text": [
            "부를 숫자의 개수를 입력하세요 (1, 2, 3만 입력 가능): 2\n",
            "1\n",
            "2\n",
            "\n",
            "\n",
            "부를 숫자의 개수를 입력하세요 (1, 2, 3만 입력 가능): 3\n",
            "3\n",
            "4\n",
            "5\n",
            "\n",
            "\n",
            "부를 숫자의 개수를 입력하세요 (1, 2, 3만 입력 가능): 1\n",
            "6\n",
            "\n",
            "\n",
            "부를 숫자의 개수를 입력하세요 (1, 2, 3만 입력 가능): 2\n",
            "7\n",
            "졌습니다.\n",
            "\n",
            "\n"
          ]
        }
      ],
      "source": [
        "import random\n",
        "\n",
        "final = 7 # 언급되면 지는 숫자\n",
        "call = 0  # 마지막으로 언급된 숫자 기억\n",
        "\n",
        "while call < final:\n",
        "\n",
        "    number = int(input(\"부를 숫자의 개수를 입력하세요 (1, 2, 3만 입력 가능): \"))\n",
        "\n",
        "    count = 0\n",
        "    while count < number:\n",
        "        call += 1\n",
        "        print(call)\n",
        "        if call == final:\n",
        "            print(\"졌습니다.\")\n",
        "            break\n",
        "        count += 1\n",
        "\n",
        "    print(\"\\n\")"
      ]
    },
    {
      "cell_type": "markdown",
      "id": "df58123d",
      "metadata": {
        "id": "df58123d"
      },
      "source": [
        "**구성요소 3: 숫자를 불러야 하는 참여자 지정**"
      ]
    },
    {
      "cell_type": "markdown",
      "id": "4e4e1918",
      "metadata": {
        "id": "4e4e1918"
      },
      "source": [
        "아래 코드는 게임이 진행되는 동안 숫자를 부를 참여자를 지정하는 방식을 보여준다.\n",
        "\n",
        "- `player = 0`: 숫자를 불러야 하는 게임 참여자. 0은 playerA, 1은 playerB.\n",
        "- `player = (player + 1) % 2`: 게임이 진행될 때마다 숫자를 부를 게임 참여자 바꾸기"
      ]
    },
    {
      "cell_type": "code",
      "execution_count": null,
      "id": "6063f7b5",
      "metadata": {
        "id": "6063f7b5",
        "outputId": "e129aa45-d391-42ba-b034-84a71aab3e65"
      },
      "outputs": [
        {
          "name": "stdout",
          "output_type": "stream",
          "text": [
            "playerA 차례입니다.\n",
            "playerB 차례입니다.\n",
            "playerA 차례입니다.\n",
            "playerB 차례입니다.\n",
            "playerA 차례입니다.\n",
            "playerB 차례입니다.\n",
            "playerA 차례입니다.\n"
          ]
        }
      ],
      "source": [
        "import random\n",
        "\n",
        "final = 7  # 언급되면 지는 숫자\n",
        "call = 0   # 마지막으로 언급된 숫자 기억\n",
        "player = 0 # 숫자를 불러야 하는 게임 참여자. 0은 playerA, 1은 playerB.\n",
        "\n",
        "while call < final:\n",
        "\n",
        "    if player == 1:\n",
        "        player_name = 'playerB'\n",
        "    else:\n",
        "        player_name = 'playerA'\n",
        "\n",
        "    print(player_name + \" 차례입니다.\")\n",
        "\n",
        "    player = (player + 1) % 2\n",
        "\n",
        "    call += 1\n"
      ]
    },
    {
      "cell_type": "markdown",
      "id": "31e7abe7",
      "metadata": {
        "id": "31e7abe7"
      },
      "source": [
        "**게임 완성**"
      ]
    },
    {
      "cell_type": "markdown",
      "id": "b5fcb6af",
      "metadata": {
        "id": "b5fcb6af"
      },
      "source": [
        "앞서 설명한 3 개의 게임 구성요소를 종합하여 베스킨라벤스 31 게임을 다음과 같이 구현한다."
      ]
    },
    {
      "cell_type": "code",
      "execution_count": 6,
      "id": "1d1ac922",
      "metadata": {
        "id": "1d1ac922",
        "outputId": "84eac93d-d973-4f0f-a64d-1f2e9b05c6b9",
        "colab": {
          "base_uri": "https://localhost:8080/"
        }
      },
      "outputs": [
        {
          "output_type": "stream",
          "name": "stdout",
          "text": [
            "playerA 차례입니다.\n",
            "부를 숫자의 개수를 입력하세요 (1, 2, 3만 입력 가능): 2\n",
            "playerA: 1\n",
            "playerA: 2\n",
            "\n",
            "\n",
            "playerB 차례입니다.\n",
            "부를 숫자의 개수를 입력하세요 (1, 2, 3만 입력 가능): 3\n",
            "playerB: 3\n",
            "playerB: 4\n",
            "playerB: 5\n",
            "\n",
            "\n",
            "playerA 차례입니다.\n",
            "부를 숫자의 개수를 입력하세요 (1, 2, 3만 입력 가능): 1\n",
            "playerA: 6\n",
            "\n",
            "\n",
            "playerB 차례입니다.\n",
            "부를 숫자의 개수를 입력하세요 (1, 2, 3만 입력 가능): 2\n",
            "playerB: 7\n",
            "playerB: 8\n",
            "\n",
            "\n",
            "playerA 차례입니다.\n",
            "부를 숫자의 개수를 입력하세요 (1, 2, 3만 입력 가능): 2\n",
            "playerA: 9\n",
            "playerA: 10\n",
            "\n",
            "\n",
            "playerB 차례입니다.\n",
            "부를 숫자의 개수를 입력하세요 (1, 2, 3만 입력 가능): 3\n",
            "playerB: 11\n",
            "playerB: 12\n",
            "playerB: 13\n",
            "\n",
            "\n",
            "playerA 차례입니다.\n",
            "부를 숫자의 개수를 입력하세요 (1, 2, 3만 입력 가능): 1\n",
            "playerA: 14\n",
            "\n",
            "\n",
            "playerB 차례입니다.\n",
            "부를 숫자의 개수를 입력하세요 (1, 2, 3만 입력 가능): 1\n",
            "playerB: 15\n",
            "\n",
            "\n",
            "playerA 차례입니다.\n",
            "부를 숫자의 개수를 입력하세요 (1, 2, 3만 입력 가능): 3\n",
            "playerA: 16\n",
            "playerA: 17\n",
            "playerA: 18\n",
            "\n",
            "\n",
            "playerB 차례입니다.\n",
            "부를 숫자의 개수를 입력하세요 (1, 2, 3만 입력 가능): 3\n",
            "playerB: 19\n",
            "playerB: 20\n",
            "playerB: 21\n",
            "\n",
            "\n",
            "playerA 차례입니다.\n",
            "부를 숫자의 개수를 입력하세요 (1, 2, 3만 입력 가능): 1\n",
            "playerA: 22\n",
            "\n",
            "\n",
            "playerB 차례입니다.\n",
            "부를 숫자의 개수를 입력하세요 (1, 2, 3만 입력 가능): 2\n",
            "playerB: 23\n",
            "playerB: 24\n",
            "\n",
            "\n",
            "playerA 차례입니다.\n",
            "부를 숫자의 개수를 입력하세요 (1, 2, 3만 입력 가능): 2\n",
            "playerA: 25\n",
            "playerA: 26\n",
            "\n",
            "\n",
            "playerB 차례입니다.\n",
            "부를 숫자의 개수를 입력하세요 (1, 2, 3만 입력 가능): 3\n",
            "playerB: 27\n",
            "playerB: 28\n",
            "playerB: 29\n",
            "\n",
            "\n",
            "playerA 차례입니다.\n",
            "부를 숫자의 개수를 입력하세요 (1, 2, 3만 입력 가능): 1\n",
            "playerA: 30\n",
            "\n",
            "\n",
            "playerB 차례입니다.\n",
            "부를 숫자의 개수를 입력하세요 (1, 2, 3만 입력 가능): 2\n",
            "playerB: 31\n",
            "playerB: 졌습니다\n",
            "\n",
            "\n"
          ]
        }
      ],
      "source": [
        "import random\n",
        "\n",
        "final = 31 # 언급되면 지는 숫자\n",
        "call = 0   # 마지막으로 언급된 숫자 기억\n",
        "player = 0 # 숫자를 불러야 하는 게임 참여자. 0은 playerA, 1은 playerB를 가리킴.\n",
        "\n",
        "while call < final:\n",
        "\n",
        "    if player == 1:\n",
        "        player_name = 'playerB'\n",
        "    else:\n",
        "        player_name = 'playerA'\n",
        "\n",
        "    print(player_name + \" 차례입니다.\")\n",
        "\n",
        "    number = int(input(\"부를 숫자의 개수를 입력하세요 (1, 2, 3만 입력 가능): \"))\n",
        "\n",
        "    count = 0\n",
        "    while count < number:\n",
        "        call += 1\n",
        "        print(player_name+\":\", call)\n",
        "        if call == final:\n",
        "            print(player_name+\": 졌습니다\")\n",
        "            break\n",
        "        count += 1\n",
        "\n",
        "    print(\"\\n\")\n",
        "\n",
        "    player = (player + 1) % 2\n"
      ]
    },
    {
      "cell_type": "markdown",
      "id": "6b0d81a8",
      "metadata": {
        "id": "6b0d81a8"
      },
      "source": [
        "## 예제 8"
      ]
    },
    {
      "cell_type": "markdown",
      "id": "8caba1a9",
      "metadata": {
        "id": "8caba1a9"
      },
      "source": [
        "사람 대 컴퓨터의 베스킨라벤스 31 게임을 구현하라.\n",
        "단, 사람이 먼저 시작하고 컴퓨터는 임의로 1~3개의 수를 부르도록 한다.\n",
        "또한 사람이 항상 이기는 전략이 있는지 확인한 후에 해당 전략을 활용하여 게임을 진행하라."
      ]
    },
    {
      "cell_type": "markdown",
      "id": "ece90d01",
      "metadata": {
        "id": "ece90d01"
      },
      "source": [
        "**답**"
      ]
    },
    {
      "cell_type": "markdown",
      "id": "8f78299a",
      "metadata": {
        "id": "8f78299a"
      },
      "source": [
        "**사람과 컴퓨터 구분**"
      ]
    },
    {
      "cell_type": "markdown",
      "id": "77c6386c",
      "metadata": {
        "id": "77c6386c"
      },
      "source": [
        "숫자를 부를 차례가 사람이면 몇 개를 부를지 지정하라 하고\n",
        "컴퓨터 차례이면 부를 숫자의 개수를 `random.randint()` 함수를 이용하여\n",
        "1에서 3 사이에서 무작위로 선택하도록 한다."
      ]
    },
    {
      "cell_type": "markdown",
      "id": "eaf619fd",
      "metadata": {
        "id": "eaf619fd"
      },
      "source": [
        "- 사람이 숫자를 부를 차례인 경우"
      ]
    },
    {
      "cell_type": "code",
      "execution_count": null,
      "id": "a7731aee",
      "metadata": {
        "id": "a7731aee",
        "outputId": "d0e220d1-7166-420d-9c65-7a63ba38b520"
      },
      "outputs": [
        {
          "name": "stdout",
          "output_type": "stream",
          "text": [
            "부를 숫자의 개수를 입력하세요 (1, 2, 3만 입력 가능): 2\n",
            "부를 숫자의 개수: 2 개\n"
          ]
        }
      ],
      "source": [
        "player = 0\n",
        "\n",
        "if player == 0:\n",
        "    number = int(input(\"부를 숫자의 개수를 입력하세요 (1, 2, 3만 입력 가능): \"))\n",
        "else:\n",
        "    number = random.randint(1, 3)\n",
        "\n",
        "print(\"부를 숫자의 개수:\", number, \"개\")"
      ]
    },
    {
      "cell_type": "markdown",
      "id": "4459895e",
      "metadata": {
        "id": "4459895e"
      },
      "source": [
        "- 컴퓨터가 숫자를 부를 차례인 경우"
      ]
    },
    {
      "cell_type": "code",
      "execution_count": null,
      "id": "03569bd8",
      "metadata": {
        "id": "03569bd8",
        "outputId": "4621bdd4-9c67-4d60-8758-f7be5374dccc"
      },
      "outputs": [
        {
          "name": "stdout",
          "output_type": "stream",
          "text": [
            "부를 숫자의 개수: 1 개\n"
          ]
        }
      ],
      "source": [
        "player = 1\n",
        "\n",
        "if player == 0:\n",
        "    number = int(input(\"부를 숫자의 개수를 입력하세요 (1, 2, 3만 입력 가능): \"))\n",
        "else:\n",
        "    number = random.randint(1, 3)\n",
        "\n",
        "print(\"부를 숫자의 개수:\", number, \"개\")"
      ]
    },
    {
      "cell_type": "markdown",
      "id": "0117bacf",
      "metadata": {
        "id": "0117bacf"
      },
      "source": [
        "**승리 전략**"
      ]
    },
    {
      "cell_type": "markdown",
      "id": "4d7ce3cf",
      "metadata": {
        "id": "4d7ce3cf"
      },
      "source": [
        "사람이 playerA, 컴퓨터가 playerB 역할을 수행하도록 한다.\n",
        "그리고 사람이 항상 4로 나눌 때 나머지가 2인 수까지만 부르는 전략을 따르면 항상 이긴다.\n",
        "이유는 다음과 같다.\n",
        "\n",
        "- 컴퓨터가 31을 부르도록 하기 위해 사람이 30을 불러야 한다.\n",
        "- 컴퓨터가 30을 부르지 못하도록 하기 위해 사람이 26을 불러야 한다.\n",
        "- 컴퓨터가 26을 부르지 못하도록 하기 위해 사람이 22을 불러야 한다.\n",
        "- ...\n",
        "- 컴퓨터가 6을 부르지 못하도록 하기 위해 사람이 2을 불러야 한다.\n",
        "- 사람이 처음 시작할 때 1과 2를 부른다."
      ]
    },
    {
      "cell_type": "markdown",
      "id": "b476c9a8",
      "metadata": {
        "id": "b476c9a8"
      },
      "source": [
        "아래 코드를 실행할 때\n",
        "사람이 먼저 1과 2를 부르고 앞서 설명한 전략을 이용하여\n",
        "컴퓨터가 부르는 숫자의 개수에 대응하도록 하면 반드시 컴퓨터가 지게 됨을 확인할 수 있다.\n",
        "즉, 사람은 어떤 경우에도 2, 4, 8, ..., 26, 30을 부르면 반드시 게임을 이긴다."
      ]
    },
    {
      "cell_type": "code",
      "execution_count": 7,
      "id": "6e8274ad",
      "metadata": {
        "id": "6e8274ad",
        "outputId": "6b41f594-c4d0-491b-d916-23f4a4f7c32c",
        "colab": {
          "base_uri": "https://localhost:8080/"
        }
      },
      "outputs": [
        {
          "output_type": "stream",
          "name": "stdout",
          "text": [
            "playerA 차례입니다.\n",
            "부를 숫자의 개수를 입력하세요 (1, 2, 3만 입력 가능): 2\n",
            "playerA: 1\n",
            "playerA: 2\n",
            "\n",
            "\n",
            "playerB 차례입니다.\n",
            "playerB: 3\n",
            "\n",
            "\n",
            "playerA 차례입니다.\n",
            "부를 숫자의 개수를 입력하세요 (1, 2, 3만 입력 가능): 1\n",
            "playerA: 4\n",
            "\n",
            "\n",
            "playerB 차례입니다.\n",
            "playerB: 5\n",
            "\n",
            "\n",
            "playerA 차례입니다.\n",
            "부를 숫자의 개수를 입력하세요 (1, 2, 3만 입력 가능): 1\n",
            "playerA: 6\n",
            "\n",
            "\n",
            "playerB 차례입니다.\n",
            "playerB: 7\n",
            "playerB: 8\n",
            "\n",
            "\n",
            "playerA 차례입니다.\n",
            "부를 숫자의 개수를 입력하세요 (1, 2, 3만 입력 가능): 2\n",
            "playerA: 9\n",
            "playerA: 10\n",
            "\n",
            "\n",
            "playerB 차례입니다.\n",
            "playerB: 11\n",
            "playerB: 12\n",
            "playerB: 13\n",
            "\n",
            "\n",
            "playerA 차례입니다.\n",
            "부를 숫자의 개수를 입력하세요 (1, 2, 3만 입력 가능): 1\n",
            "playerA: 14\n",
            "\n",
            "\n",
            "playerB 차례입니다.\n",
            "playerB: 15\n",
            "\n",
            "\n",
            "playerA 차례입니다.\n",
            "부를 숫자의 개수를 입력하세요 (1, 2, 3만 입력 가능): 3\n",
            "playerA: 16\n",
            "playerA: 17\n",
            "playerA: 18\n",
            "\n",
            "\n",
            "playerB 차례입니다.\n",
            "playerB: 19\n",
            "\n",
            "\n",
            "playerA 차례입니다.\n",
            "부를 숫자의 개수를 입력하세요 (1, 2, 3만 입력 가능): 3\n",
            "playerA: 20\n",
            "playerA: 21\n",
            "playerA: 22\n",
            "\n",
            "\n",
            "playerB 차례입니다.\n",
            "playerB: 23\n",
            "playerB: 24\n",
            "playerB: 25\n",
            "\n",
            "\n",
            "playerA 차례입니다.\n",
            "부를 숫자의 개수를 입력하세요 (1, 2, 3만 입력 가능): 1\n",
            "playerA: 26\n",
            "\n",
            "\n",
            "playerB 차례입니다.\n",
            "playerB: 27\n",
            "playerB: 28\n",
            "\n",
            "\n",
            "playerA 차례입니다.\n",
            "부를 숫자의 개수를 입력하세요 (1, 2, 3만 입력 가능): 2\n",
            "playerA: 29\n",
            "playerA: 30\n",
            "\n",
            "\n",
            "playerB 차례입니다.\n",
            "playerB: 31\n",
            "playerB: 졌습니다.\n",
            "\n",
            "\n"
          ]
        }
      ],
      "source": [
        "import random\n",
        "\n",
        "final = 31 # 언급되면 지는 숫자\n",
        "call = 0   # 마지막으로 언급된 숫자 기억\n",
        "player = 0 # 숫자를 불러야 하는 게임 참여자. 0은 playerA, 1은 playerB를 가리킴.\n",
        "\n",
        "while call < final:\n",
        "\n",
        "    if player == 1:\n",
        "        player_name = 'playerB'\n",
        "    else:\n",
        "        player_name = 'playerA'\n",
        "\n",
        "    print(player_name + \" 차례입니다.\")\n",
        "\n",
        "    if player == 0:\n",
        "        number = int(input(\"부를 숫자의 개수를 입력하세요 (1, 2, 3만 입력 가능): \"))\n",
        "    else:\n",
        "        number = random.randint(1, 3)\n",
        "\n",
        "    count = 0\n",
        "    while count < number:\n",
        "        call += 1\n",
        "        print(player_name+\":\", call)\n",
        "        if call == final:\n",
        "            print(player_name+\": 졌습니다.\")\n",
        "            break\n",
        "        count += 1\n",
        "\n",
        "    print(\"\\n\")\n",
        "\n",
        "    player = (player + 1) % 2\n"
      ]
    }
  ],
  "metadata": {
    "kernelspec": {
      "display_name": "Python 3 (ipykernel)",
      "language": "python",
      "name": "python3"
    },
    "language_info": {
      "codemirror_mode": {
        "name": "ipython",
        "version": 3
      },
      "file_extension": ".py",
      "mimetype": "text/x-python",
      "name": "python",
      "nbconvert_exporter": "python",
      "pygments_lexer": "ipython3",
      "version": "3.11.4"
    },
    "colab": {
      "provenance": []
    }
  },
  "nbformat": 4,
  "nbformat_minor": 5
}