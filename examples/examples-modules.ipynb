{
 "cells": [
  {
   "cell_type": "markdown",
   "metadata": {},
   "source": [
    "# (실습) 모듈"
   ]
  },
  {
   "cell_type": "markdown",
   "metadata": {},
   "source": [
    "참고: [(실습) 파일](http://localhost:8888/notebooks/pybook/practices/practice-files.ipynb)에 있는 연습문제를 먼저 해결해야 한다."
   ]
  },
  {
   "cell_type": "markdown",
   "metadata": {},
   "source": [
    "**기본 설정**"
   ]
  },
  {
   "cell_type": "markdown",
   "metadata": {},
   "source": [
    "필요한 모듈 불러오기"
   ]
  },
  {
   "cell_type": "code",
   "execution_count": 1,
   "metadata": {},
   "outputs": [],
   "source": [
    "from pathlib import Path\n",
    "from urllib.request import urlretrieve"
   ]
  },
  {
   "cell_type": "markdown",
   "metadata": {},
   "source": [
    "데이터 텍스트 파일 서버 주소"
   ]
  },
  {
   "cell_type": "code",
   "execution_count": 2,
   "metadata": {},
   "outputs": [],
   "source": [
    "base_url = \"https://raw.githubusercontent.com/codingalzi/pybook/master/jupyter-book/data/\""
   ]
  },
  {
   "cell_type": "markdown",
   "metadata": {},
   "source": [
    "다운로드 경로: 현재 작업 디렉토리의 `data` 하위 디렉토리"
   ]
  },
  {
   "cell_type": "code",
   "execution_count": 3,
   "metadata": {},
   "outputs": [],
   "source": [
    "# 데이터 저장위치 지정과 생성\n",
    "data_path = Path() / \"data\"\n",
    "data_path.mkdir(parents=True, exist_ok=True)"
   ]
  },
  {
   "cell_type": "code",
   "execution_count": 4,
   "metadata": {},
   "outputs": [],
   "source": [
    "# 코드 파일 저장위치 지정과 생성\n",
    "code_path = Path() / \"codes\"\n",
    "code_path.mkdir(parents=True, exist_ok=True)"
   ]
  },
  {
   "cell_type": "markdown",
   "metadata": {},
   "source": [
    "파일 서버에서 지정된 파일을 동일한 파일명으로 지정된 디렉토리에 저장하는 함수"
   ]
  },
  {
   "cell_type": "code",
   "execution_count": 5,
   "metadata": {},
   "outputs": [],
   "source": [
    "def myWget(path, filename):\n",
    "    # 다운로드 대상 파일 경로\n",
    "    file_url = base_url + filename\n",
    "\n",
    "    # 저장 경로와 파일명\n",
    "    target_path = path / filename\n",
    "\n",
    "    return urlretrieve(file_url, target_path)"
   ]
  },
  {
   "cell_type": "markdown",
   "metadata": {
    "id": "gSF_tBKvfg9V"
   },
   "source": [
    "`shopA.txt`, `shopB.txt` 두 파일은 각각 쇼핑몰A와 쇼핑몰B에서 판매하는 상품의 가격을 담고 있다.\n",
    "먼저 해당 파일을 다운로드 한다.\n",
    "다운로드 경로는 현재 작업 디렉토리의 `data` 하위 디렉토리이다. "
   ]
  },
  {
   "cell_type": "code",
   "execution_count": 6,
   "metadata": {},
   "outputs": [
    {
     "data": {
      "text/plain": [
       "(PosixPath('data/shopA.txt'), <http.client.HTTPMessage at 0x7f80d46fba90>)"
      ]
     },
     "execution_count": 6,
     "metadata": {},
     "output_type": "execute_result"
    }
   ],
   "source": [
    "myWget(data_path, \"shopA.txt\")"
   ]
  },
  {
   "cell_type": "code",
   "execution_count": 7,
   "metadata": {},
   "outputs": [
    {
     "data": {
      "text/plain": [
       "(PosixPath('data/shopB.txt'), <http.client.HTTPMessage at 0x7f80d7782d00>)"
      ]
     },
     "execution_count": 7,
     "metadata": {},
     "output_type": "execute_result"
    }
   ],
   "source": [
    "myWget(data_path, \"shopB.txt\")"
   ]
  },
  {
   "cell_type": "markdown",
   "metadata": {},
   "source": [
    "**문제 1**"
   ]
  },
  {
   "cell_type": "markdown",
   "metadata": {},
   "source": [
    "[(실습) 파일](http://localhost:8888/notebooks/pybook/practices/practice-files.ipynb)에서 \n",
    "구현한 `shopping()`, `item_price()` 두 함수를 포함한 \n",
    "`price.py` 모듈을 `code_path` 경로의 디렉토리에 생성하여 저장하라.\n",
    "\n",
    "주의사항: 구글 코랩에서 파이썬 코드 파일을 직접 작성하기는 간단하지 않다.\n",
    "대신에 자신의 구글 드라이브, 깃허브에 먼저 `price.py` 파일을 저장해 놓은 상태에서\n",
    "`myWget()` 함수를 이용하도록 한다.\n",
    "이때 `base_url` 값을 다르게 지정하거나 `myWget()` 함수가 다른 서버 주소를 이용하도록 수정해야 한다."
   ]
  },
  {
   "cell_type": "code",
   "execution_count": 8,
   "metadata": {},
   "outputs": [],
   "source": [
    "# 코드를 작성하라.\n",
    "\n"
   ]
  },
  {
   "cell_type": "markdown",
   "metadata": {},
   "source": [
    "**문제 2**"
   ]
  },
  {
   "cell_type": "markdown",
   "metadata": {},
   "source": [
    "[(실습) 파일](http://localhost:8888/notebooks/pybook/practices/practice-files.ipynb)에서 \n",
    "구현한 `price_comparison()`를 새로 구현하라. \n",
    "단, 앞서 저장한 `price.py` 모듈을 활용한다."
   ]
  },
  {
   "cell_type": "code",
   "execution_count": 9,
   "metadata": {},
   "outputs": [],
   "source": [
    "# 아래 주석을 제거한 다음에 코드를 완성하라.\n",
    "\n",
    "# import ...\n",
    "\n",
    "def price_comparison(item):\n",
    "    ...\n",
    "    "
   ]
  },
  {
   "cell_type": "code",
   "execution_count": 10,
   "metadata": {},
   "outputs": [
    {
     "name": "stdout",
     "output_type": "stream",
     "text": [
      "None\n"
     ]
    }
   ],
   "source": [
    "print(price_comparison('김치'))"
   ]
  }
 ],
 "metadata": {
  "colab": {
   "authorship_tag": "ABX9TyOLBviyewguMuduVaW2lBmN",
   "collapsed_sections": [],
   "name": "practice-files.ipynb",
   "provenance": []
  },
  "kernelspec": {
   "display_name": "Python 3 (ipykernel)",
   "language": "python",
   "name": "python3"
  },
  "language_info": {
   "codemirror_mode": {
    "name": "ipython",
    "version": 3
   },
   "file_extension": ".py",
   "mimetype": "text/x-python",
   "name": "python",
   "nbconvert_exporter": "python",
   "pygments_lexer": "ipython3",
   "version": "3.11.5"
  }
 },
 "nbformat": 4,
 "nbformat_minor": 1
}
