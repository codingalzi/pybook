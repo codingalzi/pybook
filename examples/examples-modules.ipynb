{
 "cells": [
  {
   "cell_type": "markdown",
   "id": "3cb1f679",
   "metadata": {},
   "source": [
    "# (필수 예제) 모듈"
   ]
  },
  {
   "cell_type": "markdown",
   "id": "8ca4c478",
   "metadata": {},
   "source": [
    "- 아래 예제들은 파이썬 프로그래밍의 기초 개념을 다룬다.\n",
    "- 본인이 먼저 예제를 해결하는 코드를 작성하고 설명하려고 시도한다.\n",
    "- 필요한 경우 예제의 질문에 대해 작성된 코드의 설명을 먼저 이해하려고 노력한다.\n",
    "- 이해된 코드를 직접 타이핑 하면서 작성한 후에 실행해 본다.\n",
    "- 오타 등으로 인한 오류가 발생하면 스스로 오류를 제거하도록 노력한다.\n",
    "- 본인이 직접 작성한 코드의 실행결과가 모범답안과 다를 경우 문제점을 파악한다.\n",
    "- 본인이 직접 작성한 코드와 모범답안의 실행결과가 동일한 경우 두 코드의 차이점을 분석한다."
   ]
  },
  {
   "cell_type": "markdown",
   "id": "701397c0",
   "metadata": {},
   "source": [
    "## 예제 1"
   ]
  },
  {
   "cell_type": "markdown",
   "id": "dce6fd80",
   "metadata": {},
   "source": [
    "**질문 1**"
   ]
  },
  {
   "cell_type": "markdown",
   "id": "088a43ba",
   "metadata": {},
   "source": [
    "`random` 모듈의 `randrange()` 함수를 이용하여 0부터 5까지의 정수 중에서\n",
    "무작위로 하나의 정수를 생성하는 함수를 세 번 호출하라."
   ]
  },
  {
   "cell_type": "markdown",
   "id": "f43a6b5a",
   "metadata": {},
   "source": [
    "**답**"
   ]
  },
  {
   "cell_type": "markdown",
   "id": "f91240f1",
   "metadata": {},
   "source": [
    "`random.randrange()` 함수는 하나의 양의 정수 `n`과 함께 호출되면\n",
    "0부터 `n-1` 까지의 정수 중에서 무작위로 하나의 정수를 반환한다.\n",
    "따라서 0부터 5까지의 정수 중에서 하나를 무작위로 생성하려면\n",
    "6을 인자로 사용해서 호출한다."
   ]
  },
  {
   "cell_type": "code",
   "execution_count": 4,
   "id": "f003edb4",
   "metadata": {},
   "outputs": [],
   "source": [
    "import random"
   ]
  },
  {
   "cell_type": "code",
   "execution_count": 30,
   "id": "3c1a5932",
   "metadata": {},
   "outputs": [
    {
     "data": {
      "text/plain": [
       "1"
      ]
     },
     "execution_count": 30,
     "metadata": {},
     "output_type": "execute_result"
    }
   ],
   "source": [
    "random.randrange(6)"
   ]
  },
  {
   "cell_type": "code",
   "execution_count": 31,
   "id": "05ecba79",
   "metadata": {},
   "outputs": [
    {
     "data": {
      "text/plain": [
       "1"
      ]
     },
     "execution_count": 31,
     "metadata": {},
     "output_type": "execute_result"
    }
   ],
   "source": [
    "random.randrange(6)"
   ]
  },
  {
   "cell_type": "code",
   "execution_count": 32,
   "id": "bb9f43be",
   "metadata": {},
   "outputs": [
    {
     "data": {
      "text/plain": [
       "5"
      ]
     },
     "execution_count": 32,
     "metadata": {},
     "output_type": "execute_result"
    }
   ],
   "source": [
    "random.randrange(6)"
   ]
  },
  {
   "cell_type": "markdown",
   "id": "d9e9476c",
   "metadata": {},
   "source": [
    "**질문 2**"
   ]
  },
  {
   "cell_type": "markdown",
   "id": "337610fa",
   "metadata": {},
   "source": [
    "`random` 모듈의 `randrange()` 함수를 이용하여 5부터 10까지의 정수 중에서\n",
    "무작위로 하나의 정수를 생성하는 함수를 세 번 호출하라."
   ]
  },
  {
   "cell_type": "markdown",
   "id": "6a65941b",
   "metadata": {},
   "source": [
    "**답**"
   ]
  },
  {
   "cell_type": "markdown",
   "id": "64e43d89",
   "metadata": {},
   "source": [
    "`random.randrange()` 함수는 두 개의 양의 정수 `n`, `m`과 함께 호출되면\n",
    "`n`부터 `m-1` 까지의 정수 중에서 무작위로 하나의 정수를 반환한다.\n",
    "따라서 5부터 10까지의 정수 중에서 하나를 무작위로 생성하려면\n",
    "5와 11을 인자로 사용해서 호출한다."
   ]
  },
  {
   "cell_type": "code",
   "execution_count": 33,
   "id": "836bb7c8",
   "metadata": {},
   "outputs": [
    {
     "data": {
      "text/plain": [
       "7"
      ]
     },
     "execution_count": 33,
     "metadata": {},
     "output_type": "execute_result"
    }
   ],
   "source": [
    "random.randrange(5, 11)"
   ]
  },
  {
   "cell_type": "code",
   "execution_count": 34,
   "id": "548262b1",
   "metadata": {},
   "outputs": [
    {
     "data": {
      "text/plain": [
       "10"
      ]
     },
     "execution_count": 34,
     "metadata": {},
     "output_type": "execute_result"
    }
   ],
   "source": [
    "random.randrange(5, 11)"
   ]
  },
  {
   "cell_type": "code",
   "execution_count": 35,
   "id": "1cedcd2d",
   "metadata": {},
   "outputs": [
    {
     "data": {
      "text/plain": [
       "8"
      ]
     },
     "execution_count": 35,
     "metadata": {},
     "output_type": "execute_result"
    }
   ],
   "source": [
    "random.randrange(5, 11)"
   ]
  },
  {
   "cell_type": "markdown",
   "id": "346d1c75",
   "metadata": {},
   "source": [
    "**질문 3**"
   ]
  },
  {
   "cell_type": "markdown",
   "id": "75563a72",
   "metadata": {},
   "source": [
    "아래 코드의 실행 결과를 이용하여 `randrange()` 함수를 세 개의 인자와 함께 호출되었을 때의 기능을 설명하라."
   ]
  },
  {
   "cell_type": "code",
   "execution_count": 7,
   "id": "04681548",
   "metadata": {},
   "outputs": [
    {
     "name": "stdout",
     "output_type": "stream",
     "text": [
      "1\n",
      "9\n",
      "9\n",
      "3\n",
      "1\n"
     ]
    }
   ],
   "source": [
    "for count in range(5):\n",
    "    print(random.randrange(1, 10, 2))"
   ]
  },
  {
   "cell_type": "code",
   "execution_count": 8,
   "id": "b16b179d",
   "metadata": {},
   "outputs": [
    {
     "name": "stdout",
     "output_type": "stream",
     "text": [
      "0\n",
      "3\n",
      "0\n",
      "6\n",
      "6\n"
     ]
    }
   ],
   "source": [
    "for count in range(5):\n",
    "    print(random.randrange(0, 10, 3))"
   ]
  },
  {
   "cell_type": "markdown",
   "id": "a5967ad2",
   "metadata": {},
   "source": [
    "**답**"
   ]
  },
  {
   "cell_type": "markdown",
   "id": "ea818a18",
   "metadata": {},
   "source": [
    "`random.randrange(a, b, c)` 형식으로 함수 호출이 되면\n",
    "`a`에서 `b` 이전 까지의 구간에서 값을 무작위로 선택할 때 아래에 언급된 값 중에서 하나 선택한다.\n",
    "\n",
    "    a, a+3, a+6, a+9, ..."
   ]
  },
  {
   "cell_type": "markdown",
   "id": "7ac7d394",
   "metadata": {},
   "source": [
    "따라서 \n",
    "\n",
    "- `random.randrange(1, 10, 2)`: 1부터 9까지의 홀수 중에서 무작위로 하나 선택\n",
    "- `random.randrange(0, 10, 3)`: 0부터 9까지의 수 중에서 3의 배수를 무작위로 하나 선택"
   ]
  },
  {
   "cell_type": "markdown",
   "id": "075e1995",
   "metadata": {},
   "source": [
    "## 예제 2"
   ]
  },
  {
   "cell_type": "markdown",
   "id": "6255864d",
   "metadata": {},
   "source": [
    "`random` 모듈의 `randrange()` 함수와 `randint()` 함수의 공통점과 차이점을\n",
    "예를 이용하여 설명하라."
   ]
  },
  {
   "cell_type": "markdown",
   "id": "01e3ba37",
   "metadata": {},
   "source": [
    "**답**"
   ]
  },
  {
   "cell_type": "markdown",
   "id": "a02dba1a",
   "metadata": {},
   "source": [
    "`randint()` 함수는 `randrange()` 함수를 이용해서 다음과 같이 정의되었다.\n",
    "\n",
    "```python\n",
    "randint(a, b) = randrange(a, b+1)\n",
    "```"
   ]
  },
  {
   "cell_type": "markdown",
   "id": "c35ed094",
   "metadata": {},
   "source": [
    "따라서 `randint(a, b)`로 호출되면 무작위로 선택할 수 있는 정수의 구간이\n",
    "`a`에서 `b`까지이다. \n",
    "반면에 `randint(a, b)`로 호출되면 `b`는 포함되지 않는다."
   ]
  },
  {
   "cell_type": "markdown",
   "id": "a02443d1",
   "metadata": {},
   "source": [
    "예를 들어 아래 코드는 실행할 때마다 1 또는 2가 반환값으로 지정된다."
   ]
  },
  {
   "cell_type": "code",
   "execution_count": 41,
   "id": "f5edf644",
   "metadata": {},
   "outputs": [
    {
     "data": {
      "text/plain": [
       "2"
      ]
     },
     "execution_count": 41,
     "metadata": {},
     "output_type": "execute_result"
    }
   ],
   "source": [
    "import random\n",
    "\n",
    "random.randint(1, 2)"
   ]
  },
  {
   "cell_type": "markdown",
   "id": "03061013",
   "metadata": {},
   "source": [
    "반면에 아래 코드는 항상 1만 생성된다. 이유는 탐색 구간에 2는 포함되지 않기 때문이다."
   ]
  },
  {
   "cell_type": "code",
   "execution_count": 44,
   "id": "d7120b78",
   "metadata": {},
   "outputs": [
    {
     "data": {
      "text/plain": [
       "1"
      ]
     },
     "execution_count": 44,
     "metadata": {},
     "output_type": "execute_result"
    }
   ],
   "source": [
    "import random\n",
    "\n",
    "random.randrange(1, 2)"
   ]
  },
  {
   "cell_type": "markdown",
   "id": "f871b968",
   "metadata": {},
   "source": [
    "## 예제 3"
   ]
  },
  {
   "cell_type": "markdown",
   "id": "472862ab",
   "metadata": {},
   "source": [
    "`randdom` 모듈의 `randint()` 함수를 이용하여 주사위를 한 번 던지는 코드를 구현하라."
   ]
  },
  {
   "cell_type": "markdown",
   "id": "15d69136",
   "metadata": {},
   "source": [
    "**답**"
   ]
  },
  {
   "cell_type": "markdown",
   "id": "9f5e3d81",
   "metadata": {},
   "source": [
    "주사위는 1부터 6까지의 숫자에 해당하는 그림으로 구성된 정육면체이다.\n",
    "\n",
    "```\n",
    "   1           2           3           4           5           6\n",
    "\n",
    "|     |     |0    |     |0    |     |0   0|     |0   0|     |0   0|\n",
    "|  0  |     |     |     |  0  |     |     |     |  0  |     |0   0|\n",
    "|     |     |    0|     |    0|     |0   0|     |0   0|     |0   0|\n",
    "```"
   ]
  },
  {
   "cell_type": "markdown",
   "id": "351a737e",
   "metadata": {},
   "source": [
    "아래 코드는 `random.randint(1, 6)`에 의해 선택되는 값에 해당하는 그림을 화면에 출력하고\n",
    "선택된 숫자를 알려준다."
   ]
  },
  {
   "cell_type": "code",
   "execution_count": 39,
   "id": "116ed416",
   "metadata": {},
   "outputs": [
    {
     "name": "stdout",
     "output_type": "stream",
     "text": [
      "주사위를 던집니다.\n",
      "\n",
      "\n",
      "|0   0|\n",
      "|     |\n",
      "|0   0|\n",
      "\n",
      "\n",
      "4 이(가) 나왔습니다.\n"
     ]
    }
   ],
   "source": [
    "import random\n",
    "\n",
    "to_continue =\"Y\"\n",
    "\n",
    "print(\"주사위를 던집니다.\")\n",
    "print(\"\\n\")\n",
    "\n",
    "dice_number = random.randint(1, 6)\n",
    "\n",
    "if dice_number == 1:\n",
    "    print(\"|     |\")\n",
    "    print(\"|  0  |\")\n",
    "    print(\"|     |\")\n",
    "if dice_number == 2:\n",
    "    print(\"|0    |\")\n",
    "    print(\"|     |\")\n",
    "    print(\"|    0|\")\n",
    "if dice_number == 3:\n",
    "    print(\"|0    |\")\n",
    "    print(\"|  0  |\")\n",
    "    print(\"|    0|\")\n",
    "if dice_number == 4:\n",
    "    print(\"|0   0|\")\n",
    "    print(\"|     |\")\n",
    "    print(\"|0   0|\")\n",
    "if dice_number == 5:\n",
    "    print(\"|0   0|\")\n",
    "    print(\"|  0  |\")\n",
    "    print(\"|0   0|\")\n",
    "if dice_number == 6:\n",
    "    print(\"|0   0|\")\n",
    "    print(\"|0   0|\")\n",
    "    print(\"|0   0|\")\n",
    "\n",
    "print(\"\\n\")\n",
    "print(dice_number, \"이(가) 나왔습니다.\")"
   ]
  },
  {
   "cell_type": "markdown",
   "id": "12913fc6",
   "metadata": {},
   "source": [
    "## 예제 4"
   ]
  },
  {
   "cell_type": "markdown",
   "id": "b3948dab",
   "metadata": {},
   "source": [
    "이전 예제의 코드를 수정하여 사용자로부터 `Y`를 입력받는 동안 주사위를 반복해서 던지는 프로그램을 구현하라.\n",
    "\n",
    "힌트: `while` 반복문과 `input()` 함수 활용"
   ]
  },
  {
   "cell_type": "markdown",
   "id": "401d642e",
   "metadata": {},
   "source": [
    "**답**"
   ]
  },
  {
   "cell_type": "markdown",
   "id": "f4f76645",
   "metadata": {},
   "source": [
    "이전 코드는 주사위를 한 번 던지는 것을 구현한다.\n",
    "그리고 사용자로부터 입력받은 문자열이 `Y`인 동안 반복해서 주사위를 던지려면\n",
    "이전 코드를 `while` 반복문의 본문으로 사용한다.\n",
    "단, `while 논리식`에 사용되는 논리식은\n",
    "사용자가 입력한 알파벳이 `'Y'`인지 여부를 판단해야 한다.\n",
    "예를 들어 `rolling` 변수가 사용자의 입력값을 가리킨다 하면\n",
    "다음과 같이 `while` 반복문을 시작한다.\n",
    "\n",
    "```\n",
    "while rolling == 'Y':\n",
    "    본문\n",
    "```\n",
    "\n",
    "또한 `while` 반복문의 본문에서 주사위 한 번 던지기기 완료하면\n",
    "곧바로 주사위를 계속해서 던질지 여부를 묻고\n",
    "그 결과를 `rolling` 변수에 재할당한다.\n",
    "그러면 사용자의 답변 여부에 따라 주사위 던지기를 반복할지가 결정된다.\n",
    "\n",
    "위 설명을 정리하면 다음과 같이 주사위 반복 던지기를 구현할 수 있다."
   ]
  },
  {
   "cell_type": "code",
   "execution_count": 3,
   "id": "1ba27929",
   "metadata": {},
   "outputs": [
    {
     "name": "stdout",
     "output_type": "stream",
     "text": [
      "주사위 던지기를 시작하려면 Y를 누르세요! Y\n",
      "주사위를 던집니다.\n",
      "\n",
      "\n",
      "|0    |\n",
      "|  0  |\n",
      "|    0|\n",
      "\n",
      "\n",
      "3 이(가) 나왔습니다.\n",
      "\n",
      "===\n",
      "\n",
      "계속하고 싶으면 Y를 누르세요: Y\n",
      "주사위를 던집니다.\n",
      "\n",
      "\n",
      "|0   0|\n",
      "|0   0|\n",
      "|0   0|\n",
      "\n",
      "\n",
      "6 이(가) 나왔습니다.\n",
      "\n",
      "===\n",
      "\n",
      "계속하고 싶으면 Y를 누르세요: Y\n",
      "주사위를 던집니다.\n",
      "\n",
      "\n",
      "|     |\n",
      "|  0  |\n",
      "|     |\n",
      "\n",
      "\n",
      "1 이(가) 나왔습니다.\n",
      "\n",
      "===\n",
      "\n",
      "계속하고 싶으면 Y를 누르세요: y\n"
     ]
    }
   ],
   "source": [
    "import random\n",
    "\n",
    "rolling = input(\"주사위 던지기를 시작하려면 Y를 누르세요! \")\n",
    "\n",
    "while rolling == \"Y\":\n",
    "    print(\"주사위를 던집니다.\")\n",
    "    print(\"\\n\")\n",
    "    \n",
    "    dice_number = random.randint(1, 6)\n",
    "\n",
    "    if dice_number == 1:\n",
    "        print(\"|     |\")\n",
    "        print(\"|  0  |\")\n",
    "        print(\"|     |\")\n",
    "    if dice_number == 2:\n",
    "        print(\"|0    |\")\n",
    "        print(\"|     |\")\n",
    "        print(\"|    0|\")\n",
    "    if dice_number == 3:\n",
    "        print(\"|0    |\")\n",
    "        print(\"|  0  |\")\n",
    "        print(\"|    0|\")\n",
    "    if dice_number == 4:\n",
    "        print(\"|0   0|\")\n",
    "        print(\"|     |\")\n",
    "        print(\"|0   0|\")\n",
    "    if dice_number == 5:\n",
    "        print(\"|0   0|\")\n",
    "        print(\"|  0  |\")\n",
    "        print(\"|0   0|\")\n",
    "    if dice_number == 6:\n",
    "        print(\"|0   0|\")\n",
    "        print(\"|0   0|\")\n",
    "        print(\"|0   0|\")\n",
    "\n",
    "    print(\"\\n\")\n",
    "    print(dice_number, \"이(가) 나왔습니다.\")\n",
    "    print(\"\\n===\\n\")\n",
    "    \n",
    "    rolling = input(\"계속하고 싶으면 Y를 누르세요: \")"
   ]
  },
  {
   "cell_type": "markdown",
   "id": "71b7239e",
   "metadata": {},
   "source": [
    "## 예제 5"
   ]
  },
  {
   "cell_type": "markdown",
   "id": "33f15f94",
   "metadata": {},
   "source": [
    "`random.randrange()` 함수, 따라서 `random.randint()` 함수는\n",
    "지정된 정수 구간에서 균등한 확률로 하나의 정수를 선택한다.\n",
    "이를 확인하는 코드를 작성하라.\n",
    "예를 들어 `random.randint(1, 6)`을 10만 번 호출했을 때\n",
    "1이 선택되는 경우가 전체의 1/6, 즉 0.1666 정도임을 확인하는 코드를 작성하라."
   ]
  },
  {
   "cell_type": "code",
   "execution_count": 28,
   "id": "ba480bb3",
   "metadata": {},
   "outputs": [
    {
     "data": {
      "text/plain": [
       "0.16666666666666666"
      ]
     },
     "execution_count": 28,
     "metadata": {},
     "output_type": "execute_result"
    }
   ],
   "source": [
    "1/6"
   ]
  },
  {
   "cell_type": "markdown",
   "id": "116d886e",
   "metadata": {},
   "source": [
    "힌트: `for` 반복문, `range()` 함수, `random.randint()` 함수 활용"
   ]
  },
  {
   "cell_type": "markdown",
   "id": "9e27a478",
   "metadata": {},
   "source": [
    "**답**"
   ]
  },
  {
   "cell_type": "markdown",
   "id": "c621f12f",
   "metadata": {},
   "source": [
    "`random.randint(1, 6)`를 10만 번 호출해서 반환값이 1인지 여부를 확인하는 코드는 다음과 같다."
   ]
  },
  {
   "cell_type": "markdown",
   "id": "f52ad450",
   "metadata": {},
   "source": [
    "```\n",
    "total = 100000\n",
    "\n",
    "for _ in range(total):\n",
    "    random.randint(1, 6) == 1\n",
    "```"
   ]
  },
  {
   "cell_type": "markdown",
   "id": "74b1828d",
   "metadata": {},
   "source": [
    "1부터 6까지의 정수 중에서 무작위로 선택된 값이 1인 경우가 몇 번이었는지를 기억하는 변수 `count`를 추가한다.\n",
    "`for` 반복문이 시작하기 전에 0으로 초기화 한 다음에 \n",
    "해당 경우가 발생할 때마다 1식 커지도록 하면 된다."
   ]
  },
  {
   "cell_type": "markdown",
   "id": "bafa729f",
   "metadata": {},
   "source": [
    "```\n",
    "total = 100000\n",
    "count = 0\n",
    "\n",
    "for _ in range(total):\n",
    "    if random.randint(1, 6) == 1:\n",
    "        count += 1\n",
    "```"
   ]
  },
  {
   "cell_type": "markdown",
   "id": "d5254b35",
   "metadata": {},
   "source": [
    "마지막으로 `count`에 저장된 값을 10만으로 나눈다.\n",
    "\n",
    "지금까지의 설명을 코드로 구현하면 다음과 같다."
   ]
  },
  {
   "cell_type": "code",
   "execution_count": 26,
   "id": "dac03807",
   "metadata": {},
   "outputs": [
    {
     "name": "stdout",
     "output_type": "stream",
     "text": [
      "0.16615\n"
     ]
    }
   ],
   "source": [
    "import random\n",
    "\n",
    "total = 100000\n",
    "count = 0\n",
    "\n",
    "for _ in range(total):\n",
    "    if random.randint(1, 6) == 1:\n",
    "        count += 1\n",
    "        \n",
    "print(count / total)\n",
    "    "
   ]
  },
  {
   "cell_type": "markdown",
   "id": "a621f7aa",
   "metadata": {},
   "source": [
    "## 예제 6"
   ]
  },
  {
   "cell_type": "markdown",
   "id": "cee52d72",
   "metadata": {},
   "source": [
    "이전 문제 함수화!"
   ]
  }
 ],
 "metadata": {
  "kernelspec": {
   "display_name": "Python 3 (ipykernel)",
   "language": "python",
   "name": "python3"
  },
  "language_info": {
   "codemirror_mode": {
    "name": "ipython",
    "version": 3
   },
   "file_extension": ".py",
   "mimetype": "text/x-python",
   "name": "python",
   "nbconvert_exporter": "python",
   "pygments_lexer": "ipython3",
   "version": "3.11.5"
  }
 },
 "nbformat": 4,
 "nbformat_minor": 5
}
