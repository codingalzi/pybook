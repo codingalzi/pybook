{
 "cells": [
  {
   "cell_type": "markdown",
   "id": "3cb1f679",
   "metadata": {},
   "source": [
    "# (필수 예제) 모듈"
   ]
  },
  {
   "cell_type": "markdown",
   "id": "8ca4c478",
   "metadata": {},
   "source": [
    "- 아래 예제들은 파이썬 프로그래밍의 기초 개념을 다룬다.\n",
    "- 본인이 먼저 예제를 해결하는 코드를 작성하고 설명하려고 시도한다.\n",
    "- 필요한 경우 예제의 질문에 대해 작성된 코드의 설명을 먼저 이해하려고 노력한다.\n",
    "- 이해된 코드를 직접 타이핑 하면서 작성한 후에 실행해 본다.\n",
    "- 오타 등으로 인한 오류가 발생하면 스스로 오류를 제거하도록 노력한다.\n",
    "- 본인이 직접 작성한 코드의 실행결과가 모범답안과 다를 경우 문제점을 파악한다.\n",
    "- 본인이 직접 작성한 코드와 모범답안의 실행결과가 동일한 경우 두 코드의 차이점을 분석한다."
   ]
  },
  {
   "cell_type": "markdown",
   "id": "701397c0",
   "metadata": {},
   "source": [
    "## 예제 1"
   ]
  },
  {
   "cell_type": "markdown",
   "id": "c9ff6e51",
   "metadata": {},
   "source": [
    "**질문 1**"
   ]
  },
  {
   "cell_type": "markdown",
   "id": "088a43ba",
   "metadata": {},
   "source": [
    "`random` 모듈의 `randrange()` 함수를 이용하여 0부터 5까지의 정수 중에서\n",
    "무작위로 하나의 정수를 생성하는 함수를 세 번 호출하라."
   ]
  },
  {
   "cell_type": "markdown",
   "id": "f43a6b5a",
   "metadata": {},
   "source": [
    "**답**"
   ]
  },
  {
   "cell_type": "markdown",
   "id": "f91240f1",
   "metadata": {},
   "source": [
    "`random.randrange()` 함수는 하나의 양의 정수 `n`과 함께 호출되면\n",
    "0부터 `n-1` 까지의 정수 중에서 무작위로 하나의 정수를 반환한다.\n",
    "따라서 0부터 5까지의 정수 중에서 하나를 무작위로 생성하려면\n",
    "6을 인자로 사용해서 호출한다."
   ]
  },
  {
   "cell_type": "code",
   "execution_count": 29,
   "id": "f003edb4",
   "metadata": {},
   "outputs": [],
   "source": [
    "import random"
   ]
  },
  {
   "cell_type": "code",
   "execution_count": 30,
   "id": "3c1a5932",
   "metadata": {},
   "outputs": [
    {
     "data": {
      "text/plain": [
       "1"
      ]
     },
     "execution_count": 30,
     "metadata": {},
     "output_type": "execute_result"
    }
   ],
   "source": [
    "random.randrange(6)"
   ]
  },
  {
   "cell_type": "code",
   "execution_count": 31,
   "id": "05ecba79",
   "metadata": {},
   "outputs": [
    {
     "data": {
      "text/plain": [
       "1"
      ]
     },
     "execution_count": 31,
     "metadata": {},
     "output_type": "execute_result"
    }
   ],
   "source": [
    "random.randrange(6)"
   ]
  },
  {
   "cell_type": "code",
   "execution_count": 32,
   "id": "bb9f43be",
   "metadata": {},
   "outputs": [
    {
     "data": {
      "text/plain": [
       "5"
      ]
     },
     "execution_count": 32,
     "metadata": {},
     "output_type": "execute_result"
    }
   ],
   "source": [
    "random.randrange(6)"
   ]
  },
  {
   "cell_type": "markdown",
   "id": "92ec4a55",
   "metadata": {},
   "source": [
    "**질문 2**"
   ]
  },
  {
   "cell_type": "markdown",
   "id": "337610fa",
   "metadata": {},
   "source": [
    "`random` 모듈의 `randrange()` 함수를 이용하여 5부터 10까지의 정수 중에서\n",
    "무작위로 하나의 정수를 생성하는 함수를 세 번 호출하라."
   ]
  },
  {
   "cell_type": "markdown",
   "id": "6a65941b",
   "metadata": {},
   "source": [
    "**답**"
   ]
  },
  {
   "cell_type": "markdown",
   "id": "64e43d89",
   "metadata": {},
   "source": [
    "`random.randrange()` 함수는 두 개의 양의 정수 `n`, `m`과 함께 호출되면\n",
    "`n`부터 `m-1` 까지의 정수 중에서 무작위로 하나의 정수를 반환한다.\n",
    "따라서 5부터 10까지의 정수 중에서 하나를 무작위로 생성하려면\n",
    "5와 11을 인자로 사용해서 호출한다."
   ]
  },
  {
   "cell_type": "code",
   "execution_count": 33,
   "id": "836bb7c8",
   "metadata": {},
   "outputs": [
    {
     "data": {
      "text/plain": [
       "7"
      ]
     },
     "execution_count": 33,
     "metadata": {},
     "output_type": "execute_result"
    }
   ],
   "source": [
    "random.randrange(5, 11)"
   ]
  },
  {
   "cell_type": "code",
   "execution_count": 34,
   "id": "548262b1",
   "metadata": {},
   "outputs": [
    {
     "data": {
      "text/plain": [
       "10"
      ]
     },
     "execution_count": 34,
     "metadata": {},
     "output_type": "execute_result"
    }
   ],
   "source": [
    "random.randrange(5, 11)"
   ]
  },
  {
   "cell_type": "code",
   "execution_count": 35,
   "id": "1cedcd2d",
   "metadata": {},
   "outputs": [
    {
     "data": {
      "text/plain": [
       "8"
      ]
     },
     "execution_count": 35,
     "metadata": {},
     "output_type": "execute_result"
    }
   ],
   "source": [
    "random.randrange(5, 11)"
   ]
  },
  {
   "cell_type": "markdown",
   "id": "b73737aa",
   "metadata": {},
   "source": [
    "## 예제 2"
   ]
  },
  {
   "cell_type": "markdown",
   "id": "4ce30c6b",
   "metadata": {},
   "source": [
    "아래 코드는 사용자가 1부터 10 사이의 정수 하나를 입력하여 \n",
    "비밀인 `secret` 변수에 할당된 값을 맞히는 게임 프로그램이다."
   ]
  },
  {
   "cell_type": "code",
   "execution_count": 44,
   "id": "f0da2ee9",
   "metadata": {},
   "outputs": [
    {
     "name": "stdout",
     "output_type": "stream",
     "text": [
      "1부터 10 사이의 정수 하나를 입력하세요: 7\n",
      "맞았습니다!\n",
      "게임 종료!\n"
     ]
    }
   ],
   "source": [
    "secret = 7\n",
    "guess = int(input(\"1부터 10 사이의 정수 하나를 입력하세요: \"))\n",
    "\n",
    "if guess == secret:\n",
    "    print(\"맞았습니다!\")\n",
    "else:\n",
    "    print(\"틀렸습니다!\")\n",
    "\n",
    "print(\"게임 종료!\")"
   ]
  },
  {
   "cell_type": "markdown",
   "id": "f207be80",
   "metadata": {},
   "source": [
    "그런데 비밀이 7로 고정되어 있어서 한 번 답을 맞히면 더 이상 재미가 없다.\n",
    "따라서 프로그램을 실행할 때마다 `secret`에 할당되는 값을 `random` 모듈의 `randint()` 함수를\n",
    "이용하여 지정하도록 위 코드를 수정하라."
   ]
  },
  {
   "cell_type": "markdown",
   "id": "d792fc53",
   "metadata": {},
   "source": [
    "**답**"
   ]
  },
  {
   "cell_type": "markdown",
   "id": "f59d5a27",
   "metadata": {},
   "source": [
    "`random` 모듈을 불러온 다음에 `random.randint()` 함수의 반환값을\n",
    "`secret` 변수에 할당한다.\n",
    "`random.randint(a, b)`를 호출하면 `random.randrange(a, b)`와는 달리 구간에\n",
    "`a`에서 `b`까지, 즉, `b`까지 포함됨에 주의한다."
   ]
  },
  {
   "cell_type": "code",
   "execution_count": 45,
   "id": "7e3d8410",
   "metadata": {},
   "outputs": [
    {
     "name": "stdout",
     "output_type": "stream",
     "text": [
      "1부터 10 사이의 정수 하나를 입력하세요: 7\n",
      "틀렸습니다!\n",
      "게임 종료!\n"
     ]
    }
   ],
   "source": [
    "import random\n",
    "\n",
    "secret = random.randint(1, 10)\n",
    "guess = int(input(\"1부터 10 사이의 정수 하나를 입력하세요: \"))\n",
    "\n",
    "if guess == secret:\n",
    "    print(\"맞았습니다!\")\n",
    "else:\n",
    "    print(\"틀렸습니다!\")\n",
    "\n",
    "print(\"게임 종료!\")"
   ]
  },
  {
   "cell_type": "markdown",
   "id": "c603abd5",
   "metadata": {},
   "source": [
    "## 예제 3"
   ]
  },
  {
   "cell_type": "markdown",
   "id": "10b5b654",
   "metadata": {},
   "source": [
    "`random` 모듈의 `seek()` 함수"
   ]
  },
  {
   "cell_type": "code",
   "execution_count": 49,
   "id": "bc75de75",
   "metadata": {},
   "outputs": [
    {
     "data": {
      "text/plain": [
       "9"
      ]
     },
     "execution_count": 49,
     "metadata": {},
     "output_type": "execute_result"
    }
   ],
   "source": [
    "import random\n",
    "\n",
    "random.seed(17)\n",
    "\n",
    "random.randint(1, 10)"
   ]
  },
  {
   "cell_type": "code",
   "execution_count": 50,
   "id": "bd2b8ef6",
   "metadata": {},
   "outputs": [
    {
     "data": {
      "text/plain": [
       "9"
      ]
     },
     "execution_count": 50,
     "metadata": {},
     "output_type": "execute_result"
    }
   ],
   "source": [
    "import random\n",
    "\n",
    "random.seed(17)\n",
    "\n",
    "random.randint(1, 10)"
   ]
  }
 ],
 "metadata": {
  "kernelspec": {
   "display_name": "Python 3 (ipykernel)",
   "language": "python",
   "name": "python3"
  },
  "language_info": {
   "codemirror_mode": {
    "name": "ipython",
    "version": 3
   },
   "file_extension": ".py",
   "mimetype": "text/x-python",
   "name": "python",
   "nbconvert_exporter": "python",
   "pygments_lexer": "ipython3",
   "version": "3.11.5"
  }
 },
 "nbformat": 4,
 "nbformat_minor": 5
}
