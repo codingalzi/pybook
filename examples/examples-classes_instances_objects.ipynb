{
  "cells": [
    {
      "cell_type": "markdown",
      "metadata": {
        "id": "gjfaNQLbWpoq"
      },
      "source": [
        "# (필수 예제) 클래스, 인스턴스, 객체"
      ]
    },
    {
      "cell_type": "markdown",
      "metadata": {
        "id": "dfpJaAAUWpov"
      },
      "source": [
        "**참고 사항**\n",
        "\n",
        "먼저\n",
        "[클래스, 인스턴스, 객체](https://codingalzi.github.io/pybook/classes_instances_objects.html)의 내용을 학습하세요."
      ]
    },
    {
      "cell_type": "markdown",
      "metadata": {
        "id": "5nSY46mxWpow"
      },
      "source": [
        "**참고**"
      ]
    },
    {
      "cell_type": "markdown",
      "metadata": {
        "id": "rMFLsYWgWpox"
      },
      "source": [
        "[OOP in Python: Classes](https://python-textbok.readthedocs.io/en/latest/Classes.html) 내용을 활용합니다."
      ]
    },
    {
      "cell_type": "markdown",
      "metadata": {
        "id": "vV30yFCYWpox"
      },
      "source": [
        "**`datetime` 모듈**"
      ]
    },
    {
      "cell_type": "markdown",
      "metadata": {
        "id": "eemWG1VWWpoy"
      },
      "source": [
        "`datetime` 모듈은 날짜와 시간을 다루는 클래스를 제공한다."
      ]
    },
    {
      "cell_type": "code",
      "execution_count": 1,
      "metadata": {
        "id": "6oOIMA9pWpoy"
      },
      "outputs": [],
      "source": [
        "import datetime"
      ]
    },
    {
      "cell_type": "markdown",
      "metadata": {
        "id": "5xF6fZMTWpo0"
      },
      "source": [
        "`datetime` 모듈의 `date` 클래스는 날짜 정보를 `(년, 월, 일)` 형식으로 저장한다.\n",
        "예를 들어 2024년 5월 30일을 아래와 같이 저장하면\n",
        "변수 `d`는 언급된 날짜의 정보를 `date` 클래스의 객체로 저장한다."
      ]
    },
    {
      "cell_type": "code",
      "execution_count": 2,
      "metadata": {
        "colab": {
          "base_uri": "https://localhost:8080/"
        },
        "id": "A1nLKiatWpo0",
        "outputId": "a42f268a-045f-4dc3-dcf6-114426eceac6"
      },
      "outputs": [
        {
          "output_type": "execute_result",
          "data": {
            "text/plain": [
              "datetime.date(2024, 5, 30)"
            ]
          },
          "metadata": {},
          "execution_count": 2
        }
      ],
      "source": [
        "d = datetime.date(2024, 5, 30)\n",
        "d"
      ]
    },
    {
      "cell_type": "markdown",
      "metadata": {
        "id": "ETpJO5SlWpo1"
      },
      "source": [
        "`date` 객체에 저장된 년, 월, 일 정보는 각각 `year`, `month`, `day` 속성으로 확인된다."
      ]
    },
    {
      "cell_type": "code",
      "execution_count": 3,
      "metadata": {
        "colab": {
          "base_uri": "https://localhost:8080/"
        },
        "id": "4q_T01nTWpo2",
        "outputId": "a08c0cfd-d400-45d4-813b-cb9aa2c7eb61"
      },
      "outputs": [
        {
          "output_type": "stream",
          "name": "stdout",
          "text": [
            "변수 d에 저장된 날짜: 2024년 5월 30일\n"
          ]
        }
      ],
      "source": [
        "print(f\"변수 d에 저장된 날짜: {d.year}년 {d.month}월 {d.day}일\")"
      ]
    },
    {
      "cell_type": "markdown",
      "metadata": {
        "id": "ZjCKzXAxWpo2"
      },
      "source": [
        "`date` 클래스의 `today()` 메서드는 호출되는 순간의 날짜를 저장한 `date` 객체를 생성한다."
      ]
    },
    {
      "cell_type": "code",
      "execution_count": 5,
      "metadata": {
        "colab": {
          "base_uri": "https://localhost:8080/"
        },
        "id": "anptz2rEWpo2",
        "outputId": "109dc505-6d3e-4b19-d781-1ebef1785fe7"
      },
      "outputs": [
        {
          "output_type": "execute_result",
          "data": {
            "text/plain": [
              "datetime.date(2024, 6, 8)"
            ]
          },
          "metadata": {},
          "execution_count": 5
        }
      ],
      "source": [
        "today = datetime.date.today()\n",
        "today"
      ]
    },
    {
      "cell_type": "code",
      "execution_count": 6,
      "metadata": {
        "colab": {
          "base_uri": "https://localhost:8080/"
        },
        "id": "oV923Zo4Wpo2",
        "outputId": "e5c5c70a-5d40-4dff-c195-6c25bfc8543e"
      },
      "outputs": [
        {
          "output_type": "stream",
          "name": "stdout",
          "text": [
            "오늘 날짜: 2024년 6월 8일\n"
          ]
        }
      ],
      "source": [
        "print(f\"오늘 날짜: {today.year}년 {today.month}월 {today.day}일\")"
      ]
    },
    {
      "cell_type": "markdown",
      "metadata": {
        "id": "lxqWf22mWpo3"
      },
      "source": [
        "참고: `today()` 메서드는 클래스의 인스턴스를 생성하지 않아도 사용할 수 있는 메서드다.\n",
        "이런 메서드를 **클래스 메서드**라 부른다.\n",
        "클래스 메서드와 인스턴스 메서드와의 자세한 차이점과 활용법은\n",
        "[클래스 고급 활용법 3](https://codingalzi.github.io/pybook/classes_advanced_3.html)에서 설명한다."
      ]
    },
    {
      "cell_type": "markdown",
      "metadata": {
        "id": "HysGUe4lWpo3"
      },
      "source": [
        "**`Person` 클래스 선언**"
      ]
    },
    {
      "cell_type": "markdown",
      "metadata": {
        "id": "2Wic7lwzWpo3"
      },
      "source": [
        "아래 코드는 개인정보를 저장하는 클래스를 선언한다."
      ]
    },
    {
      "cell_type": "code",
      "execution_count": 7,
      "metadata": {
        "id": "QEsB7dlEWpo3"
      },
      "outputs": [],
      "source": [
        "class Person:\n",
        "\n",
        "    def __init__(self, name, surname, birthdate, address, telephone, email):\n",
        "        self.name = name\n",
        "        self.surname = surname\n",
        "        self.birthdate = birthdate\n",
        "\n",
        "        self.address = address\n",
        "        self.telephone = telephone\n",
        "        self.email = email\n",
        "\n",
        "    def age(self): # 나이 계산\n",
        "        today = datetime.date.today()\n",
        "        age = today.year - self.birthdate.year\n",
        "\n",
        "        if today < datetime.date(today.year, self.birthdate.month, self.birthdate.day):\n",
        "            age -= 1\n",
        "\n",
        "        return age"
      ]
    },
    {
      "cell_type": "markdown",
      "metadata": {
        "id": "EG25CtrRWpo3"
      },
      "source": [
        "**`Person` 클래스의 인스턴스 선언**"
      ]
    },
    {
      "cell_type": "markdown",
      "metadata": {
        "id": "ioobBFcoWpo3"
      },
      "source": [
        "아래와 같이 Jane Doe라는 사람의 개인 정보를 담은 객체를 생성하여\n",
        "`jDoe` 변수에 할당한다.\n",
        "생년월일에 필요한 정보는 `date` 객체를 이용한다."
      ]
    },
    {
      "cell_type": "code",
      "execution_count": 9,
      "metadata": {
        "id": "YKDIIwf_Wpo3"
      },
      "outputs": [],
      "source": [
        "jDoe = Person(\"Jane\",\n",
        "              \"Doe\",\n",
        "              datetime.date(1992, 3, 12),\n",
        "              \"No. 12 Short Street, Greenville\",\n",
        "              \"555 456 0987\",\n",
        "              \"jane.doe@example.com\")"
      ]
    },
    {
      "cell_type": "markdown",
      "metadata": {
        "id": "3GBw8mytWpo4"
      },
      "source": [
        "## 예제 1"
      ]
    },
    {
      "cell_type": "markdown",
      "metadata": {
        "id": "b8Eb8tq1Wpo4"
      },
      "source": [
        "`jDoe` 객체를 생성할 때 `__init__()` 생성자 메서드가 실제로 호출되는 방식을 설명하라."
      ]
    },
    {
      "cell_type": "markdown",
      "metadata": {
        "id": "M6M0jVOdWpo4"
      },
      "source": [
        "답:"
      ]
    },
    {
      "cell_type": "markdown",
      "metadata": {
        "id": "nh7NDv0bWpo4"
      },
      "source": [
        "실제로는 다음과 호출된다."
      ]
    },
    {
      "cell_type": "markdown",
      "metadata": {
        "id": "mXHKS0EYWpo4"
      },
      "source": [
        "```python\n",
        "__init__(jDoe,\n",
        "         \"Jane\",\n",
        "         \"Doe\",\n",
        "         datetime.date(1992, 3, 12),\n",
        "         \"No. 12 Short Street, Greenville\",\n",
        "         \"555 456 0987\",\n",
        "         \"jane.doe@example.com\")\n",
        "```"
      ]
    },
    {
      "cell_type": "markdown",
      "metadata": {
        "id": "1cJ1njglWpo4"
      },
      "source": [
        "## 예제 2"
      ]
    },
    {
      "cell_type": "markdown",
      "metadata": {
        "id": "xgSJDJ18Wpo4"
      },
      "source": [
        "`jDoe`의 이메일 주소를 확인하는 코드를 작성하라."
      ]
    },
    {
      "cell_type": "markdown",
      "metadata": {
        "id": "ROHol9D2Wpo4"
      },
      "source": [
        "답:"
      ]
    },
    {
      "cell_type": "code",
      "execution_count": 10,
      "metadata": {
        "colab": {
          "base_uri": "https://localhost:8080/"
        },
        "id": "X3JKzoLGWpo5",
        "outputId": "7c904aa0-7438-4a87-efbd-a0d2c7aa8e7e"
      },
      "outputs": [
        {
          "output_type": "stream",
          "name": "stdout",
          "text": [
            "이메일: jane.doe@example.com\n"
          ]
        }
      ],
      "source": [
        "print(\"이메일:\", jDoe.email)"
      ]
    },
    {
      "cell_type": "markdown",
      "metadata": {
        "id": "kJLBzq7qWpo5"
      },
      "source": [
        "## 예제 3"
      ]
    },
    {
      "cell_type": "markdown",
      "metadata": {
        "id": "ytpBOvzIWpo5"
      },
      "source": [
        "Jane Doe의 나이를 확인하는 코드를 작성하라."
      ]
    },
    {
      "cell_type": "markdown",
      "metadata": {
        "id": "EmVpS4YhWpo5"
      },
      "source": [
        "답:"
      ]
    },
    {
      "cell_type": "code",
      "execution_count": 11,
      "metadata": {
        "colab": {
          "base_uri": "https://localhost:8080/"
        },
        "id": "zQvosPYmWpo5",
        "outputId": "008bb6e6-3942-40f7-dcd4-583af7bfad80"
      },
      "outputs": [
        {
          "output_type": "stream",
          "name": "stdout",
          "text": [
            "나이: 32\n"
          ]
        }
      ],
      "source": [
        "print(\"나이:\", jDoe.age())"
      ]
    },
    {
      "cell_type": "markdown",
      "metadata": {
        "id": "zDrOOLIaWpo5"
      },
      "source": [
        "## 예제 4"
      ]
    },
    {
      "cell_type": "markdown",
      "metadata": {
        "id": "q5_MUdf5Wpo5"
      },
      "source": [
        "변수의 활동영역<font size='2'>scope</font>은\n",
        "해당 변수의 의미가 인정되는 코드 영역을 가리킨다.\n",
        "예를 들어 전역 변수는 프로그램 전체에서 의미가 있지만\n",
        "함수 내부에서 선언된 지역 변수는 함수 밖에서는 의미를 갖지 않는다.\n",
        "클래스 내부에서 선언된 변수 또한 자신만의 활동영역을 갖는다."
      ]
    },
    {
      "cell_type": "markdown",
      "metadata": {
        "id": "XAQnKtuMWpo5"
      },
      "source": [
        "다음 클래스 또는 변수들의 역할과 활동영역(scope)을 설명하라.\n",
        "\n",
        "1. `Person`\n",
        "1. `jDoe`\n",
        "1. `surname`\n",
        "1. `self.surname`\n",
        "1. `age` (함수이름)\n",
        "1. `age` (`age` 함수 내부에서 선언된 변수)\n",
        "1. `self.email`"
      ]
    },
    {
      "cell_type": "markdown",
      "metadata": {
        "id": "-1hx_7D8Wpo6"
      },
      "source": [
        "답:"
      ]
    },
    {
      "cell_type": "markdown",
      "metadata": {
        "id": "saqEow_FWpo6"
      },
      "source": [
        "1. `Person`: 클래스 이름. 프로그램 전역에서 사용 가능\n",
        "1. `jDoe`: `Person` 클래스의 인스턴스 이름. 전역변수.\n",
        "1. `surname`: `__init__` 함수의 매개변수.\n",
        "    `__init__` 함수 본체에서만 사용되는 지역변수.\n",
        "1. `self.surname`: 클래스 내부에서만 사용되는 인스턴스 변수. 객체 속성으로는 전역변수로 사용될 수 있음.\n",
        "1. `age` (함수이름): `Person` 클래스의 메서드 이름.\n",
        "    `Person`클래스 내부에서만 사용되는 함수. 객체의 매서드로는 프로그램 전체에서 활용 가능.\n",
        "1. `age` (`age` 함수 내부에서 선언된 변수)\n",
        "    `age` 메서드 내부에서만 사용되는 지역변수.\n",
        "1. `self.email`: 클래스 내부에서만 사용되 인스턴스 변수. 객체 속성으로는 전역변수로 사용될 수 있음."
      ]
    },
    {
      "cell_type": "markdown",
      "metadata": {
        "id": "6rpnkSYCWpo_"
      },
      "source": [
        "## 예제 5"
      ]
    },
    {
      "cell_type": "markdown",
      "metadata": {
        "id": "6FnQRSe9Wpo_"
      },
      "source": [
        "아래 `Person` 클래스는 다른 사람의 전화번호를 저장하는 기능을 포함한다.\n",
        "\n",
        "- `self.phonebook` 인스턴스 변수: 이름과 전화번호를 저장하는 사전 객체\n",
        "- `phoneNumberAdd()` 인스턴스 메서드: 상대방의 이름과 전화번호 추가"
      ]
    },
    {
      "cell_type": "code",
      "execution_count": 14,
      "metadata": {
        "id": "ZxTPUNA1Wpo_"
      },
      "outputs": [],
      "source": [
        "class Person:\n",
        "\n",
        "    def __init__(self, name, surname, birthdate, address, telephone, email):\n",
        "        self.name = name\n",
        "        self.surname = surname\n",
        "        self.birthdate = birthdate\n",
        "\n",
        "        self.address = address\n",
        "        self.telephone = telephone\n",
        "        self.email = email\n",
        "        self.phonebook = dict()\n",
        "\n",
        "    def age(self): # 나이 계산\n",
        "        today = datetime.date.today()\n",
        "        age = today.year - self.birthdate.year\n",
        "\n",
        "        if today < datetime.date(today.year, self.birthdate.month, self.birthdate.day):\n",
        "            age -= 1\n",
        "\n",
        "        return age\n",
        "\n",
        "    def phoneNumberAdd(self, other):\n",
        "        self.phonebook[other.name+\" \"+other.surname] = other.telephone"
      ]
    },
    {
      "cell_type": "markdown",
      "metadata": {
        "id": "bQoWB15nWpo_"
      },
      "source": [
        "아래와 같이 Jane Doe와 Dana Scotty 두 사람의 개인 정보를 담은 객체를 생성한다."
      ]
    },
    {
      "cell_type": "code",
      "execution_count": 15,
      "metadata": {
        "id": "yr0GWiHuWppA"
      },
      "outputs": [],
      "source": [
        "jDoe = Person(\"Jane\",\n",
        "              \"Doe\",\n",
        "              datetime.date(1992, 3, 12),\n",
        "              \"No. 12 Short Street, Greenville\",\n",
        "              \"555 456 0987\",\n",
        "              \"jane.doe@example.com\")"
      ]
    },
    {
      "cell_type": "code",
      "execution_count": 16,
      "metadata": {
        "id": "5h8Mn5wqWppA"
      },
      "outputs": [],
      "source": [
        "dScotty = Person(\"Dana\",\n",
        "                 \"Scotty\",\n",
        "                 datetime.date(1970, 5, 22),\n",
        "                 \"No. 2 Long Street, Bluecity\",\n",
        "                 \"444 654 0135\",\n",
        "                 \"dana.scotty@example.com\")"
      ]
    },
    {
      "cell_type": "markdown",
      "metadata": {
        "id": "KLlyayQEWppA"
      },
      "source": [
        "Jane Doe가 Dana Scotty의 전환번호를 저장한 다음에 저장된 Dana Scotty의 전화번호를 확인하라."
      ]
    },
    {
      "cell_type": "markdown",
      "metadata": {
        "id": "Ok12Dnm8WppA"
      },
      "source": [
        "답:"
      ]
    },
    {
      "cell_type": "code",
      "execution_count": 17,
      "metadata": {
        "id": "riE4If2RWppA"
      },
      "outputs": [],
      "source": [
        "jDoe.phoneNumberAdd(dScotty)"
      ]
    },
    {
      "cell_type": "code",
      "execution_count": 18,
      "metadata": {
        "colab": {
          "base_uri": "https://localhost:8080/"
        },
        "id": "KOYgeoj_WppA",
        "outputId": "363f9ba0-f608-485c-ad40-4443b20b6d78"
      },
      "outputs": [
        {
          "output_type": "stream",
          "name": "stdout",
          "text": [
            "Dana Scotty의 전화번호: 444 654 0135\n"
          ]
        }
      ],
      "source": [
        "print(\"Dana Scotty의 전화번호:\", jDoe.phonebook['Dana Scotty'])"
      ]
    },
    {
      "cell_type": "markdown",
      "metadata": {
        "id": "TOZT6oujWppA"
      },
      "source": [
        "반면에 아래 코드는 Dana Scotty가 Jane Doe의 전환번호를 저장한 다음에 저장된 번호를 확인한다."
      ]
    },
    {
      "cell_type": "code",
      "execution_count": 20,
      "metadata": {
        "id": "h-2sxEswWppA"
      },
      "outputs": [],
      "source": [
        "dScotty.phoneNumberAdd(jDoe)"
      ]
    },
    {
      "cell_type": "code",
      "execution_count": 21,
      "metadata": {
        "colab": {
          "base_uri": "https://localhost:8080/"
        },
        "id": "c0DGWJfwWppB",
        "outputId": "05251eb3-d081-4c7f-c403-bec6a9544e61"
      },
      "outputs": [
        {
          "output_type": "stream",
          "name": "stdout",
          "text": [
            "Jane Doe의 전화번호: 555 456 0987\n"
          ]
        }
      ],
      "source": [
        "print(\"Jane Doe의 전화번호:\", dScotty.phonebook['Jane Doe'])"
      ]
    },
    {
      "cell_type": "code",
      "source": [],
      "metadata": {
        "id": "G-BCwT9se9F4"
      },
      "execution_count": null,
      "outputs": []
    }
  ],
  "metadata": {
    "kernelspec": {
      "display_name": "Python 3 (ipykernel)",
      "language": "python",
      "name": "python3"
    },
    "language_info": {
      "codemirror_mode": {
        "name": "ipython",
        "version": 3
      },
      "file_extension": ".py",
      "mimetype": "text/x-python",
      "name": "python",
      "nbconvert_exporter": "python",
      "pygments_lexer": "ipython3",
      "version": "3.11.5"
    },
    "colab": {
      "provenance": []
    }
  },
  "nbformat": 4,
  "nbformat_minor": 0
}