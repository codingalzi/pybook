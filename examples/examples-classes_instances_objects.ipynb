{
 "cells": [
  {
   "cell_type": "markdown",
   "id": "d85ece54",
   "metadata": {},
   "source": [
    "# (필수 예제) 클래스, 인스턴스, 객체"
   ]
  },
  {
   "cell_type": "markdown",
   "id": "2616d4db",
   "metadata": {},
   "source": [
    "**참고 사항**\n",
    "\n",
    "먼저\n",
    "[클래스, 인스턴스, 객체](https://codingalzi.github.io/pybook/classes_instances_objects.html)의 내용을 학습하세요."
   ]
  },
  {
   "cell_type": "markdown",
   "id": "1464ea6c",
   "metadata": {},
   "source": [
    "**실행 환경**"
   ]
  },
  {
   "cell_type": "markdown",
   "id": "d90e21b9",
   "metadata": {},
   "source": [
    "`turtle` 모듈을 이용하기 때문에 레플릿에서 프로그램을 구현한 다음에 주요 코드만 작성한다."
   ]
  },
  {
   "cell_type": "markdown",
   "id": "16cd891e",
   "metadata": {},
   "source": [
    "## 예제 1"
   ]
  },
  {
   "cell_type": "markdown",
   "id": "a5f76254",
   "metadata": {},
   "source": [
    "[(레플릿) 충돌 감지](https://replit.com/@codingalzi/collisiondetection) 에서\n",
    "게임 실행 중에 사용되는 충돌 감지 함수로\n",
    "`is_distance_collision()` 메서드를 사용하고 실행 결과를 설명하라."
   ]
  },
  {
   "cell_type": "markdown",
   "id": "933d235a",
   "metadata": {},
   "source": [
    "## 예제 2"
   ]
  },
  {
   "cell_type": "markdown",
   "id": "2df630a3",
   "metadata": {},
   "source": [
    "[(레플릿) 충돌 감지](https://replit.com/@codingalzi/collisiondetection) 에서\n",
    "게임 실행 중에 사용되는 충돌 감지 함수로\n",
    "`is_aabb_collision()` 메서드를 사용하고 실행 결과를 설명하라."
   ]
  },
  {
   "cell_type": "markdown",
   "id": "f9c9dd38",
   "metadata": {},
   "source": [
    "## 예제 3"
   ]
  },
  {
   "cell_type": "markdown",
   "id": "71552995",
   "metadata": {},
   "source": [
    "[(레플릿) 충돌 감지](https://replit.com/@codingalzi/collisiondetection) 에서\n",
    "게임 실행 중에 사용되는 충돌 감지 함수로 사용되는 세 메서드의 차이점을 설명하라.\n",
    "\n",
    "- `is_overlapping_collision()` 메서드\n",
    "- `is_distance_collision()` 메서드\n",
    "- `is_aabb_collision()` 메서드"
   ]
  }
 ],
 "metadata": {
  "kernelspec": {
   "display_name": "Python 3 (ipykernel)",
   "language": "python",
   "name": "python3"
  },
  "language_info": {
   "codemirror_mode": {
    "name": "ipython",
    "version": 3
   },
   "file_extension": ".py",
   "mimetype": "text/x-python",
   "name": "python",
   "nbconvert_exporter": "python",
   "pygments_lexer": "ipython3",
   "version": "3.11.5"
  }
 },
 "nbformat": 4,
 "nbformat_minor": 5
}
