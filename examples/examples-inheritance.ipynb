{
 "cells": [
  {
   "cell_type": "markdown",
   "id": "d85ece54",
   "metadata": {},
   "source": [
    "# (필수 예제) 상속"
   ]
  },
  {
   "cell_type": "markdown",
   "id": "ef506d80",
   "metadata": {},
   "source": [
    "**참고 사항**\n",
    "\n",
    "먼저\n",
    "[상속](https://codingalzi.github.io/pybook/inheritance.html)의 내용을 학습하세요."
   ]
  },
  {
   "cell_type": "markdown",
   "id": "1464ea6c",
   "metadata": {},
   "source": [
    "**실행 환경**"
   ]
  },
  {
   "cell_type": "markdown",
   "id": "d90e21b9",
   "metadata": {},
   "source": [
    "`turtle` 모듈을 이용하기 때문에 레플릿에서 프로그램을 구현한 다음에 주요 코드만 작성한다."
   ]
  },
  {
   "cell_type": "markdown",
   "id": "ac720759",
   "metadata": {},
   "source": [
    "**충돌 탐지 관련**"
   ]
  },
  {
   "cell_type": "markdown",
   "id": "31b9be77",
   "metadata": {},
   "source": [
    "코드 파일 중에 `collision_detection.py` 는 객체 충돌을 탐지하는 \n",
    "기본 방식을 소개한다.\n",
    "코드에 포함된 `Sprite` 클래스는 게임에 사용되는 스프라이트 객체를 생성하는 클래스다.\n",
    "\n",
    "```python\n",
    "class Sprite():\n",
    "    def __init__(self, x, y, width, height, image):\n",
    "        self.x = x\n",
    "        self.y = y\n",
    "        self.width = width\n",
    "        self.height = height\n",
    "        self.image = image\n",
    "        \n",
    "    ...\n",
    "```"
   ]
  },
  {
   "cell_type": "markdown",
   "id": "f632bae6",
   "metadata": {},
   "source": [
    "그리고 `inheritance.py` 는 `Sprite` 클래스를 상속하는 `Character` 클래스를 추가로 선언한다.\n",
    "\n",
    "```python\n",
    "# Sprite 클래스 상속 \n",
    "class Character(Sprite):\n",
    "    def __init__(self, x, y, width, height, image, jump=False):\n",
    "        super().__init__(x, y, width, height, image)\n",
    "        self.jump = jump \n",
    "\n",
    "    def hop(self, distance=300):\n",
    "        if self.jump == True:\n",
    "            self.x += distance\n",
    "```"
   ]
  },
  {
   "cell_type": "markdown",
   "id": "0f4fab77",
   "metadata": {},
   "source": [
    "## 예제 1"
   ]
  },
  {
   "cell_type": "markdown",
   "id": "761f767e",
   "metadata": {},
   "source": [
    "새로 추가된 `hop()` 메서드의 기능과 재정의된 `__init__()` 메서드의 `jump` 옵션 인자와의 연관성을 설명하라."
   ]
  }
 ],
 "metadata": {
  "kernelspec": {
   "display_name": "Python 3 (ipykernel)",
   "language": "python",
   "name": "python3"
  },
  "language_info": {
   "codemirror_mode": {
    "name": "ipython",
    "version": 3
   },
   "file_extension": ".py",
   "mimetype": "text/x-python",
   "name": "python",
   "nbconvert_exporter": "python",
   "pygments_lexer": "ipython3",
   "version": "3.11.5"
  }
 },
 "nbformat": 4,
 "nbformat_minor": 5
}
