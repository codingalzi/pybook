{
 "cells": [
  {
   "cell_type": "markdown",
   "id": "d85ece54",
   "metadata": {},
   "source": [
    "# (필수 예제) 상속"
   ]
  },
  {
   "cell_type": "markdown",
   "id": "ac720759",
   "metadata": {},
   "source": [
    "**충돌 탐지 관련**"
   ]
  },
  {
   "cell_type": "markdown",
   "id": "8f65c35e",
   "metadata": {},
   "source": [
    "이어지는 문제들은\n",
    "[사례 연구: 객체 지향 프로그래밍](https://colab.research.google.com/github/codingalzi/pybook/blob/master/jupyter-book/casestudy_oop.ipynb)의\n",
    "코드를 활용한다.\n",
    "코든 아래 링크에서 다운받을 수 있다.\n",
    "\n",
    "https://github.com/codingalzi/pybook/tree/master/jupyter-book/codes/collision_detection"
   ]
  },
  {
   "cell_type": "markdown",
   "id": "31b9be77",
   "metadata": {},
   "source": [
    "코드 파일 중에 `collision_detection.py` 는 객체 충돌을 탐지하는 \n",
    "기본 방식을 소개한다.\n",
    "코드에 포함된 `Sprite` 클래스는 게임에 사용되는 스프라이트 객체를 생성하는 클래스다.\n",
    "\n",
    "```python\n",
    "class Sprite():\n",
    "    def __init__(self, x, y, width, height, image):\n",
    "        self.x = x\n",
    "        self.y = y\n",
    "        self.width = width\n",
    "        self.height = height\n",
    "        self.image = image\n",
    "        \n",
    "    ...\n",
    "```"
   ]
  },
  {
   "cell_type": "markdown",
   "id": "f632bae6",
   "metadata": {},
   "source": [
    "그리고 `inheritance.py` 는 `Sprite` 클래스를 상속하는 `Character` 클래스를 추가로 선언한다.\n",
    "\n",
    "```python\n",
    "# Sprite 클래스 상속 \n",
    "class Character(Sprite):\n",
    "    def __init__(self, x, y, width, height, image, jump=False):\n",
    "        super().__init__(x, y, width, height, image)\n",
    "        self.jump = jump \n",
    "\n",
    "    def hop(self, distance=300):\n",
    "        if self.jump == True:\n",
    "            self.x += distance\n",
    "```"
   ]
  },
  {
   "cell_type": "markdown",
   "id": "0f4fab77",
   "metadata": {},
   "source": [
    "**문제 1**"
   ]
  },
  {
   "cell_type": "markdown",
   "id": "761f767e",
   "metadata": {},
   "source": [
    "새로 추가된 `hop()` 메서드의 기능과 재정의된 `__init__()` 메서드의 `jump` 옵션 인자와의 연관성을 설명하라."
   ]
  },
  {
   "cell_type": "markdown",
   "id": "c03b2d49",
   "metadata": {},
   "source": [
    "**문제 2**"
   ]
  },
  {
   "cell_type": "markdown",
   "id": "a5f76254",
   "metadata": {},
   "source": [
    "[(레플릿) 충돌 감지 - 상속 1](https://replit.com/@codingrg/collisiondectioninheritance1#main.py)에서\n",
    "스페이스 키가 눌릴 때 팩맨 캐릭터가 실제로 공중으로 점프해서 이동하도록 `hop()` 메서드를 수정하라.\n",
    "필요에 따라 추가 키워드 인자를 사용한다면 `jump_packman()` 함수의 키워드 인자도 그에 상응하게 \n",
    "수정해야 함에 주의한다.\n",
    "\n",
    "참고: [Coding A Bouncing Ball](https://thepythoncodingbook.com/2021/08/19/simulating-a-bouncing-ball-in-python/)"
   ]
  },
  {
   "cell_type": "markdown",
   "id": "5f6d3cfb",
   "metadata": {},
   "source": [
    "**문제 3**"
   ]
  },
  {
   "cell_type": "markdown",
   "id": "6ac73934",
   "metadata": {},
   "source": [
    "[(레플릿) 충돌 감지 - 상속 1](https://replit.com/@codingrg/collisiondectioninheritance1#main.py)를 확장해서\n",
    "보다 재밌는 보드게임을 구현하라."
   ]
  }
 ],
 "metadata": {
  "kernelspec": {
   "display_name": "Python 3 (ipykernel)",
   "language": "python",
   "name": "python3"
  },
  "language_info": {
   "codemirror_mode": {
    "name": "ipython",
    "version": 3
   },
   "file_extension": ".py",
   "mimetype": "text/x-python",
   "name": "python",
   "nbconvert_exporter": "python",
   "pygments_lexer": "ipython3",
   "version": "3.11.5"
  }
 },
 "nbformat": 4,
 "nbformat_minor": 5
}
