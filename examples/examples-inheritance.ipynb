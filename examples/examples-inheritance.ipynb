{
 "cells": [
  {
   "cell_type": "markdown",
   "id": "d85ece54",
   "metadata": {},
   "source": [
    "# (필수 예제) 상속"
   ]
  },
  {
   "cell_type": "markdown",
   "id": "ef506d80",
   "metadata": {},
   "source": [
    "**참고 사항**\n",
    "\n",
    "먼저\n",
    "[상속](https://codingalzi.github.io/pybook/inheritance.html)의 내용을 학습하세요."
   ]
  },
  {
   "cell_type": "markdown",
   "id": "0f4fab77",
   "metadata": {},
   "source": [
    "## 예제 1"
   ]
  },
  {
   "cell_type": "markdown",
   "id": "51d9073a",
   "metadata": {},
   "source": [
    "다음은 [상속](https://codingalzi.github.io/pybook/inheritance.html)에서\n",
    "정의한 `Character` 클래스다."
   ]
  },
  {
   "cell_type": "code",
   "execution_count": 1,
   "id": "1fd0365f",
   "metadata": {},
   "outputs": [],
   "source": [
    "class Character:\n",
    "    # 생성자\n",
    "    def __init__(self, name, power, damage, inventory):\n",
    "        self.name = name\n",
    "        self.power = power\n",
    "        self.damage = damage\n",
    "        self.inventory = inventory\n",
    "        \n",
    "    # 자기소개\n",
    "    def introduction(self):\n",
    "        print(f\"이름: {self.name}\")\n",
    "        print(f\"파워: {self.power}\")\n",
    "        print(f\"공격력: {self.damage}\")\n",
    "        print(f\"수트 능력: {self.inventory['suit']}\")\n",
    "        print(f\"무기: {self.inventory['weapon']}\")\n",
    "        \n",
    "    # 파워 정보 확인\n",
    "    def getPower(self):\n",
    "        return self.power\n",
    "    \n",
    "    # 파워 업데이트\n",
    "    def setPower(self, power):\n",
    "        self.power = self.power + power\n",
    "        \n",
    "    # 상대 캐릭터 공격력\n",
    "    def attack(self, other):\n",
    "        print(f\"{self.name}: {other.name} 공격!\")\n",
    "        # 공격력의 10% 만큼 상대 파워 감소시킴\n",
    "        attackPower = self.damage * 0.1 \n",
    "        other.setPower(-attackPower)"
   ]
  },
  {
   "cell_type": "markdown",
   "id": "a71f9c70",
   "metadata": {},
   "source": [
    "`Character` 클래스의 인스턴스 속성 `self.name`에 대한 게터 메서드를 선언한 후에 \n",
    "`attack()` 메서드에 적용하라."
   ]
  },
  {
   "cell_type": "markdown",
   "id": "b37023fc",
   "metadata": {},
   "source": [
    "답:"
   ]
  },
  {
   "cell_type": "markdown",
   "id": "ad33f546",
   "metadata": {},
   "source": [
    "캐릭터 객체의 이름을 확인하는 `getName()` 게터 메서드를 추가한 후에\n",
    "`attack()` 메서드에서 사용된 아래 항목을 수정한다.\n",
    "\n",
    "- `self.name` => `self.getName()`"
   ]
  },
  {
   "cell_type": "code",
   "execution_count": 2,
   "id": "d1c3ab4a",
   "metadata": {},
   "outputs": [],
   "source": [
    "class Character:\n",
    "    # 생성자\n",
    "    def __init__(self, name, power, damage, inventory):\n",
    "        self.name = name\n",
    "        self.power = power\n",
    "        self.damage = damage\n",
    "        self.inventory = inventory\n",
    "        \n",
    "    # 자기소개\n",
    "    def introduction(self):\n",
    "        print(f\"이름: {self.name}\")\n",
    "        print(f\"파워: {self.power}\")\n",
    "        print(f\"공격력: {self.damage}\")\n",
    "        print(f\"수트 능력: {self.inventory['suit']}\")\n",
    "        print(f\"무기: {self.inventory['weapon']}\")\n",
    "        \n",
    "    # 파워 정보 확인\n",
    "    def getPower(self):\n",
    "        return self.power\n",
    "    \n",
    "    # 파워 업데이트\n",
    "    def setPower(self, power):\n",
    "        self.power = self.power + power\n",
    "        \n",
    "    # 이름 확인\n",
    "    def getName(self):\n",
    "        return self.name\n",
    "        \n",
    "    # 상대 캐릭터 공격력\n",
    "    def attack(self, other):\n",
    "        print(f\"{self.getName()}: {other.getName()} 공격!\")\n",
    "        # 공격력의 10% 만큼 상대 파워 감소시킴\n",
    "        attackPower = self.damage * 0.1 \n",
    "        other.setPower(-attackPower)"
   ]
  },
  {
   "cell_type": "code",
   "execution_count": 3,
   "id": "093f6c7d",
   "metadata": {},
   "outputs": [],
   "source": [
    "ironman = Character('아이언맨', 100, 200, {'suit': 500, 'weapon': '레이저'})\n",
    "hulk = Character('헐크', 400, 300, {'suit': 0, 'weapon': '주먹'})"
   ]
  },
  {
   "cell_type": "code",
   "execution_count": 4,
   "id": "c6aaf5eb",
   "metadata": {},
   "outputs": [
    {
     "name": "stdout",
     "output_type": "stream",
     "text": [
      "아이언맨: 헐크 공격!\n"
     ]
    }
   ],
   "source": [
    "ironman.attack(hulk)"
   ]
  },
  {
   "cell_type": "code",
   "execution_count": 5,
   "id": "4ed959af",
   "metadata": {},
   "outputs": [
    {
     "name": "stdout",
     "output_type": "stream",
     "text": [
      "헐크 파워: 380.0\n"
     ]
    }
   ],
   "source": [
    "print(\"헐크 파워:\", hulk.getPower())"
   ]
  },
  {
   "cell_type": "code",
   "execution_count": 6,
   "id": "84a9a74d",
   "metadata": {},
   "outputs": [
    {
     "name": "stdout",
     "output_type": "stream",
     "text": [
      "헐크: 아이언맨 공격!\n"
     ]
    }
   ],
   "source": [
    "hulk.attack(ironman)"
   ]
  },
  {
   "cell_type": "code",
   "execution_count": 7,
   "id": "39ea71dc",
   "metadata": {},
   "outputs": [
    {
     "name": "stdout",
     "output_type": "stream",
     "text": [
      "아이언맨 파워: 70.0\n"
     ]
    }
   ],
   "source": [
    "print(\"아이언맨 파워:\", ironman.getPower())"
   ]
  },
  {
   "cell_type": "markdown",
   "id": "2ad62984",
   "metadata": {},
   "source": [
    "## 예제 2"
   ]
  },
  {
   "cell_type": "markdown",
   "id": "6681f6a0",
   "metadata": {},
   "source": [
    "아래 `FlyingCharacter` 클래스는 `Character` 클래스를 상속하면서 일부 메서드를 오버라이딩(재정의)하거나\n",
    "새로운 메서드를 추가한다."
   ]
  },
  {
   "cell_type": "code",
   "execution_count": 8,
   "id": "2c143578",
   "metadata": {},
   "outputs": [],
   "source": [
    "class FlyingCharacter(Character):\n",
    "    # 생성자: hero 매개변수 추가\n",
    "    def __init__(self, name, power, damage, inventory, hero=True):\n",
    "        super().__init__(name, power, damage, inventory)\n",
    "        \n",
    "        self.hero = hero\n",
    "        \n",
    "        # suit의 능력이 400 이상인 경우 두 배 속력으로 비행\n",
    "        if self.hero and self.inventory['suit'] >= 400:\n",
    "            self.speedUp = 2\n",
    "        else:\n",
    "            self.speedUp = 1\n",
    "    \n",
    "    # 영웅 캐릭터: 경우 지정 속도보다 두 배 빠르게!\n",
    "    def fly(self, speed):\n",
    "        print(f\"{self.name}: {speed*self.speedUp} km/h로 날아요!!!\")\n",
    "        \n",
    "    # attack 메서드 재정의\n",
    "    # 상대 캐릭터 공격력\n",
    "    def attack(self, other):\n",
    "        print(f\"{self.getName()}의 {other.getName()} 공격!\")\n",
    "        \n",
    "        # 영웅이 악당 공격할 때 타격효과 두 배\n",
    "        if self.hero:\n",
    "            attackPower = self.damage * 0.2\n",
    "        else:\n",
    "            attackPower = self.damage * 0.1 \n",
    "        \n",
    "        other.setPower(-attackPower)        "
   ]
  },
  {
   "cell_type": "markdown",
   "id": "4e34e487",
   "metadata": {},
   "source": [
    "부모 클래스의 `introduction()` 메서드를 수정하여 `FlyingCharacter` 객체가 영웅인지 아닌지도 밝히도록 하여라."
   ]
  },
  {
   "cell_type": "markdown",
   "id": "ea0f1d47",
   "metadata": {},
   "source": [
    "답:"
   ]
  },
  {
   "cell_type": "markdown",
   "id": "54772129",
   "metadata": {},
   "source": [
    "`introduction()` 메서드가 객체의 영웅 여부를 함께 출력하도록 오버라이딩한다."
   ]
  },
  {
   "cell_type": "code",
   "execution_count": 9,
   "id": "f31ee6ee",
   "metadata": {},
   "outputs": [],
   "source": [
    "class FlyingCharacter(Character):\n",
    "    # 생성자: hero 매개변수 추가\n",
    "    def __init__(self, name, power, damage, inventory, hero=True):\n",
    "        super().__init__(name, power, damage, inventory)\n",
    "        \n",
    "        self.hero = hero\n",
    "        \n",
    "        # suit의 능력이 400 이상인 경우 두 배 속력으로 비행\n",
    "        if self.hero and self.inventory['suit'] >= 400:\n",
    "            self.speedUp = 2\n",
    "        else:\n",
    "            self.speedUp = 1\n",
    "    \n",
    "    # 영웅 캐릭터: 경우 지정 속도보다 두 배 빠르게!\n",
    "    def fly(self, speed):\n",
    "        print(f\"{self.name}: {speed*self.speedUp} km/h로 날아요!!!\")\n",
    "        \n",
    "    # attack 메서드 재정의\n",
    "    # 상대 캐릭터 공격력\n",
    "    def attack(self, other):\n",
    "        print(f\"{self.getName()}의 {other.getName()} 공격!\")\n",
    "        \n",
    "        # 영웅이 악당 공격할 때 타격효과 두 배\n",
    "        if self.hero:\n",
    "            attackPower = self.damage * 0.2\n",
    "        else:\n",
    "            attackPower = self.damage * 0.1 \n",
    "        \n",
    "        other.setPower(-attackPower)        \n",
    "        \n",
    "    # 자기소개\n",
    "    def introduction(self):\n",
    "        print(f\"이름: {self.name}\")\n",
    "        print(f\"파워: {self.power}\")\n",
    "        print(f\"공격력: {self.damage}\")\n",
    "        print(f\"수트 능력: {self.inventory['suit']}\")\n",
    "        print(f\"무기: {self.inventory['weapon']}\")\n",
    "        if self.hero:\n",
    "            print(\"저는 영웅이에요.\")\n",
    "        else:\n",
    "            print(\"저는 영웅이 아니에요.\")            "
   ]
  },
  {
   "cell_type": "markdown",
   "id": "4bd116d2",
   "metadata": {},
   "source": [
    "`ironman`과 `ultron` 객체를 생성한다."
   ]
  },
  {
   "cell_type": "code",
   "execution_count": 10,
   "id": "e8a0ca1e",
   "metadata": {},
   "outputs": [],
   "source": [
    "ironman = FlyingCharacter('아이언맨', 100, 200, {'suit': 500, 'weapon': '레이저'})\n",
    "ultron = FlyingCharacter('울트론', 400, 300, {'suit': 300, 'weapon': '플라즈마 빔'}, hero=False)"
   ]
  },
  {
   "cell_type": "markdown",
   "id": "0495598f",
   "metadata": {},
   "source": [
    "아이언맨은 영웅이다."
   ]
  },
  {
   "cell_type": "code",
   "execution_count": 11,
   "id": "5d6351f9",
   "metadata": {},
   "outputs": [
    {
     "name": "stdout",
     "output_type": "stream",
     "text": [
      "이름: 아이언맨\n",
      "파워: 100\n",
      "공격력: 200\n",
      "수트 능력: 500\n",
      "무기: 레이저\n",
      "저는 영웅이에요.\n"
     ]
    }
   ],
   "source": [
    "ironman.introduction()"
   ]
  },
  {
   "cell_type": "markdown",
   "id": "c3452e75",
   "metadata": {},
   "source": [
    "울트론은 영웅이 아니다."
   ]
  },
  {
   "cell_type": "code",
   "execution_count": 12,
   "id": "e68d3ce8",
   "metadata": {},
   "outputs": [
    {
     "name": "stdout",
     "output_type": "stream",
     "text": [
      "이름: 울트론\n",
      "파워: 400\n",
      "공격력: 300\n",
      "수트 능력: 300\n",
      "무기: 플라즈마 빔\n",
      "저는 영웅이 아니에요.\n"
     ]
    }
   ],
   "source": [
    "ultron.introduction()"
   ]
  },
  {
   "cell_type": "markdown",
   "id": "da911994",
   "metadata": {},
   "source": [
    "반면에 헐크는 영웅 여부를 밝히지 않는다. \n",
    "즉, 부모 클래스는 자식 클래스에서 수정된 내용을 알지 못한다."
   ]
  },
  {
   "cell_type": "code",
   "execution_count": 13,
   "id": "69c68047",
   "metadata": {},
   "outputs": [
    {
     "name": "stdout",
     "output_type": "stream",
     "text": [
      "이름: 헐크\n",
      "파워: 380.0\n",
      "공격력: 300\n",
      "수트 능력: 0\n",
      "무기: 주먹\n"
     ]
    }
   ],
   "source": [
    "hulk.introduction()"
   ]
  }
 ],
 "metadata": {
  "kernelspec": {
   "display_name": "Python 3 (ipykernel)",
   "language": "python",
   "name": "python3"
  },
  "language_info": {
   "codemirror_mode": {
    "name": "ipython",
    "version": 3
   },
   "file_extension": ".py",
   "mimetype": "text/x-python",
   "name": "python",
   "nbconvert_exporter": "python",
   "pygments_lexer": "ipython3",
   "version": "3.11.4"
  }
 },
 "nbformat": 4,
 "nbformat_minor": 5
}
