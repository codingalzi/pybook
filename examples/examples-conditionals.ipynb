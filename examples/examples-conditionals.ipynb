{
 "cells": [
  {
   "cell_type": "markdown",
   "id": "060683b2",
   "metadata": {},
   "source": [
    "# (필수 예제) 조건문"
   ]
  },
  {
   "cell_type": "markdown",
   "id": "205b8179",
   "metadata": {},
   "source": [
    "- 아래 예제들은 파이썬 프로그래밍의 기초 개념을 다룬다.\n",
    "- 본인이 먼저 예제를 해결하는 코드를 작성하고 설명하려고 시도한다.\n",
    "- 필요한 경우 예제의 질문에 대해 작성된 코드의 설명을 먼저 이해하려고 노력한다.\n",
    "- 이해된 코드를 직접 타이핑 하면서 작성한 후에 실행해 본다.\n",
    "- 오타 등으로 인한 오류가 발생하면 스스로 오류를 제거하도록 노력한다.\n",
    "- 본인이 직접 작성한 코드의 실행결과가 모범답안과 다를 경우 문제점을 파악한다.\n",
    "- 본인이 직접 작성한 코드와 모범답안의 실행결과가 동일한 경우 두 코드의 차이점을 분석한다."
   ]
  },
  {
   "cell_type": "markdown",
   "id": "33b9f9c3",
   "metadata": {},
   "source": [
    "## 예제"
   ]
  },
  {
   "cell_type": "markdown",
   "id": "412449c6",
   "metadata": {},
   "source": [
    "두 개의 양의 정수를 입력 받아 첫째 정수가 둘째 정수의 배수인지 여부를 판단하는 코드를 구현하라.\n",
    "단, 첫째 입력값은 변수 `x`에, \n",
    "둘째 입력값은 변수 `y`에 할당한다.\n",
    "또한 결과에 따라 배수인지 여부를 확인하는 문장을 출력한다."
   ]
  },
  {
   "cell_type": "markdown",
   "id": "ca746cd7",
   "metadata": {},
   "source": [
    "**답**"
   ]
  },
  {
   "cell_type": "markdown",
   "id": "922fff0e",
   "metadata": {},
   "source": [
    "`x`가 `y`의 배수인지 여부는 논리식 `x % y == 0`로 판단된다."
   ]
  },
  {
   "cell_type": "code",
   "execution_count": 15,
   "id": "2ab08cc7",
   "metadata": {},
   "outputs": [
    {
     "data": {
      "text/plain": [
       "True"
      ]
     },
     "execution_count": 15,
     "metadata": {},
     "output_type": "execute_result"
    }
   ],
   "source": [
    "6 % 3 == 0"
   ]
  },
  {
   "cell_type": "code",
   "execution_count": 16,
   "id": "84832be5",
   "metadata": {},
   "outputs": [
    {
     "data": {
      "text/plain": [
       "False"
      ]
     },
     "execution_count": 16,
     "metadata": {},
     "output_type": "execute_result"
    }
   ],
   "source": [
    "6 % 4 == 0"
   ]
  },
  {
   "cell_type": "markdown",
   "id": "bc2395b1",
   "metadata": {},
   "source": [
    "배수 여부를 확인하는 논리식 `x % y == 0`을 `if ... else ...` 조건문과 함께 활용하면\n",
    "원하는 코드를 구현할 수 있다."
   ]
  },
  {
   "cell_type": "markdown",
   "id": "2203ecdf",
   "metadata": {},
   "source": [
    "- 6은 3의 배수임을 확인"
   ]
  },
  {
   "cell_type": "code",
   "execution_count": 17,
   "id": "08c58324",
   "metadata": {},
   "outputs": [
    {
     "name": "stdout",
     "output_type": "stream",
     "text": [
      "첫째 양의 정수를 입력하세요: 6\n",
      "둘째 양의 정수를 입력하세요: 3\n",
      "6 은(는) 3 의 배수임.\n"
     ]
    }
   ],
   "source": [
    "x = int(input(\"첫째 양의 정수를 입력하세요: \"))\n",
    "y = int(input(\"둘째 양의 정수를 입력하세요: \"))\n",
    "\n",
    "if x % y == 0:\n",
    "    print(x, \"은(는)\", y, \"의 배수임.\")\n",
    "else:\n",
    "    print(x, \"은(는)\", y, \"의 배수가 아님.\")    "
   ]
  },
  {
   "cell_type": "markdown",
   "id": "f0b82fea",
   "metadata": {},
   "source": [
    "- 6은 4의 배수가 아님을 확인"
   ]
  },
  {
   "cell_type": "code",
   "execution_count": 18,
   "id": "d619818d",
   "metadata": {},
   "outputs": [
    {
     "name": "stdout",
     "output_type": "stream",
     "text": [
      "첫째 양의 정수를 입력하세요: 6\n",
      "둘째 양의 정수를 입력하세요: 4\n",
      "6 은(는) 4 의 배수가 아님.\n"
     ]
    }
   ],
   "source": [
    "x = int(input(\"첫째 양의 정수를 입력하세요: \"))\n",
    "y = int(input(\"둘째 양의 정수를 입력하세요: \"))\n",
    "\n",
    "if x % y == 0:\n",
    "    print(x, \"은(는)\", y, \"의 배수임.\")\n",
    "else:\n",
    "    print(x, \"은(는)\", y, \"의 배수가 아님.\")    "
   ]
  },
  {
   "cell_type": "markdown",
   "id": "e74c914c",
   "metadata": {
    "id": "MTVs3VVPyzcU"
   },
   "source": [
    "## 예제"
   ]
  },
  {
   "cell_type": "markdown",
   "id": "75170a41",
   "metadata": {
    "id": "L1ZHNhVTPHo4"
   },
   "source": [
    "아래 코드가 실행중에 오류를 발생시키는 이유를 설명하라."
   ]
  },
  {
   "cell_type": "code",
   "execution_count": 6,
   "id": "20ae3659",
   "metadata": {
    "id": "L1ZHNhVTPHo4"
   },
   "outputs": [
    {
     "ename": "ZeroDivisionError",
     "evalue": "division by zero",
     "output_type": "error",
     "traceback": [
      "\u001b[0;31m---------------------------------------------------------------------------\u001b[0m",
      "\u001b[0;31mZeroDivisionError\u001b[0m                         Traceback (most recent call last)",
      "Cell \u001b[0;32mIn[6], line 1\u001b[0m\n\u001b[0;32m----> 1\u001b[0m \u001b[38;5;28;01mif\u001b[39;00m \u001b[38;5;28;01mFalse\u001b[39;00m \u001b[38;5;129;01mor\u001b[39;00m \u001b[38;5;241m3\u001b[39m\u001b[38;5;241m/\u001b[39m\u001b[38;5;241m0\u001b[39m:\n\u001b[1;32m      2\u001b[0m     \u001b[38;5;28mprint\u001b[39m(\u001b[38;5;124m\"\u001b[39m\u001b[38;5;124mA\u001b[39m\u001b[38;5;124m\"\u001b[39m)\n",
      "\u001b[0;31mZeroDivisionError\u001b[0m: division by zero"
     ]
    }
   ],
   "source": [
    "if False or 3/0:\n",
    "    print(\"A\")"
   ]
  },
  {
   "cell_type": "markdown",
   "id": "8af6b50a",
   "metadata": {},
   "source": [
    "**답**"
   ]
  },
  {
   "cell_type": "markdown",
   "id": "80b3f51a",
   "metadata": {},
   "source": [
    "먼저 오류가 어디서 왜 발생했는가에 대한 정보를 확인한다.\n",
    "\n",
    "오류 정보의 맨 마지막 줄에 있는 아래 정보는\n",
    "0으로 나눗셈을 시도했음을 알려준다.\n",
    "\n",
    "```\n",
    "ZeroDivisionError: division by zero\n",
    "```\n",
    "\n",
    "그리고 아래 오류 정보는 위 코드의 1번 줄에서 오류가 발생했음을 알려준다.\n",
    "\n",
    "```\n",
    "----> 1 if False or 3/0:\n",
    "```\n",
    "\n",
    "즉 `if` 조건문에 사용된 조건식인 `False or 3/0`에 문제가 있다는 말이다."
   ]
  },
  {
   "cell_type": "markdown",
   "id": "f0e506b5",
   "metadata": {},
   "source": [
    "`False or 3/0`은 우선 논리 연산자 `or`를 사용한다.\n",
    "그리고 `or` 연산자를 사용하는 논리식의 참/거짓 여부는\n",
    "먼저 첫째 인자의 참/거짓 여부를 확인한다.\n",
    "\n",
    "그런데 첫째 인자인 `False`는 (항상) 거짓이다.\n",
    "따라서 둘째 인자인 `3/0`의 참/거짓 여부를 확인한다.\n",
    "그리고 여기서 3을 0으로 나눈 결과를 확인하려할 때 문제가 발생한다.\n",
    "0을 이용한 나눗셈은 허용되지 않기에 오류가 발생한다.\n",
    "\n",
    "`if` 조건문에 사용되는 조건식의 참/거짓 여부를 판단할 때 오류가 발생하기에\n",
    "본문에 사용된 `print()` 함수 호출은 아예 발생하지 않는다."
   ]
  },
  {
   "cell_type": "markdown",
   "id": "26e1bd70",
   "metadata": {
    "id": "MTVs3VVPyzcU"
   },
   "source": [
    "## 예제"
   ]
  },
  {
   "cell_type": "markdown",
   "id": "7f185ee1",
   "metadata": {},
   "source": [
    "직사각형 모양의 바닥에 정사각형 모양의 타일을 깔 때\n",
    "타일은 온장을 그대로 사용할 수도 있고, 잘라서 일부분만 사용할 수도 있다.\n",
    "타일의 크기는 가로, 세로 모두 30cm이며, 잘라서 사용한 타일의 나머지는 사용하지 않는다.\n",
    "\n",
    "가로와 세로 각각 400cm, 500cm 인 바닥을 타일로 덮기 위해 필요한 온장 타일과 잘라서 사용한 타일의 개수의 합을\n",
    "계산하는 코드를 구현하라.\n",
    "\n",
    "- `width`: 공간의 가로 크기. 단위는 cm.\n",
    "- `height`: 공간의 세로 크기. 단위는 cm.\n",
    "- `tile_length=30`: 타일의 한 변의 크기. 단위는 cm. 기본 키워드 인자는 30.\n",
    "\n",
    "힌트: 중첩 조건문 활용"
   ]
  },
  {
   "cell_type": "markdown",
   "id": "61c8eccd",
   "metadata": {},
   "source": [
    "**답**"
   ]
  },
  {
   "cell_type": "markdown",
   "id": "6ab93e6e",
   "metadata": {},
   "source": [
    "온장의 개수 `num_full`은 공간의 가로와 세로를 타일 한 장의 길이로 나눈 몫을 곱한 값이다.\n",
    "\n",
    "```python\n",
    "num_full_width = width // tile_length\n",
    "num_full_height = height // tile_length\n",
    "\n",
    "num_full = num_full_width * num_full_height # 온장 타일 수\n",
    "```"
   ]
  },
  {
   "cell_type": "markdown",
   "id": "fd94b84c",
   "metadata": {},
   "source": [
    "잘라서 사용한 타일의 개수는 아래 두 경우의 조합에 따라 통 네 개의 경우가 발생한다.\n",
    "\n",
    "- 경우 1: 가로를 타일의 길이로 나눴을 때 나머지가 0인 경우\n",
    "- 경우 2: 세로는 타일의 길이로 나눴을 때 나머지가 0인 경우\n",
    "\n",
    "네 경우 각각에 따라 잘라서 사용한 타일의 개수가 달라진다."
   ]
  },
  {
   "cell_type": "markdown",
   "id": "d944803d",
   "metadata": {},
   "source": [
    "<div align=\"center\"><img src=\"https://raw.githubusercontent.com/codingalzi/pybook/master/jupyter-book/images/exc-functions-02.png\" style=\"width:600px\"></div>"
   ]
  },
  {
   "cell_type": "markdown",
   "id": "c07766c2",
   "metadata": {},
   "source": [
    "4가지 경우에 잘라서 사용한 타일의 수 `num_part`를 계산하는 코드는 다음과 같다."
   ]
  },
  {
   "cell_type": "markdown",
   "id": "cfae928d",
   "metadata": {},
   "source": [
    "```python\n",
    "if width % tile_length == 0:\n",
    "    if height % tile_length == 0:     # 경우 (A)\n",
    "        num_part = 0\n",
    "    else:                             # 경우 (B)\n",
    "        num_part = num_full_width\n",
    "\n",
    "else:\n",
    "    if height % tile_length == 0:    # 경우 (C)\n",
    "        num_part = num_full_height\n",
    "    else:                            # 경우 (D)\n",
    "        num_part = num_full_width + num_full_height + 1\n",
    "```"
   ]
  },
  {
   "cell_type": "markdown",
   "id": "b94bec76",
   "metadata": {},
   "source": [
    "온장 타일 수와 잘라서 사용한 타일의 수의 합은 `num_full + num_part`로 계산되며\n",
    "위 설명을 정리해서 코드를 다음과 구현한다."
   ]
  },
  {
   "cell_type": "code",
   "execution_count": 20,
   "id": "b329beff",
   "metadata": {},
   "outputs": [
    {
     "name": "stdout",
     "output_type": "stream",
     "text": [
      "필요한 타일의 수: 238\n"
     ]
    }
   ],
   "source": [
    "width = 400\n",
    "height = 500\n",
    "tile_length = 30\n",
    "\n",
    "num_full_width = width // tile_length\n",
    "num_full_height = height // tile_length\n",
    "\n",
    "# 온장 타일 개수\n",
    "num_full = num_full_width * num_full_height\n",
    "\n",
    "# 잘린 타일 개수\n",
    "if width % tile_length == 0:\n",
    "    if height % tile_length == 0:\n",
    "        num_part = 0\n",
    "    else:\n",
    "        num_part = num_full_width\n",
    "\n",
    "else:\n",
    "    if height % tile_length == 0:\n",
    "        num_part = num_full_height\n",
    "    else:\n",
    "        num_part = num_full_width + num_full_height + 1\n",
    "\n",
    "# 온장 타일과 잘라딘 타일 수\n",
    "print(\"필요한 타일의 수:\", num_full + num_part)"
   ]
  },
  {
   "cell_type": "markdown",
   "id": "5e40676e",
   "metadata": {},
   "source": [
    "## 예제"
   ]
  },
  {
   "cell_type": "markdown",
   "id": "094e4e56",
   "metadata": {},
   "source": [
    "사용자로부터 키(cm 단위)와 몸무게(kg 단위)를 입력받아 체질량지수(BMI)를 구하는 코드를 작성하여라.\n",
    "\n",
    "```\n",
    "BMI = 몸무게 / (키 * 0.01)**2\n",
    "```\n",
    "\n",
    "또한 BMI 수치에 따른 체중 분류는 다음과 같다.\n",
    "\n",
    "| BMI 수치 | 체중 분류 |\n",
    "| :--- | :--- |\n",
    "| BMI <= 18.5 | 저체중 |\n",
    "| 18.5 < BMI <= 23 | 정상 |\n",
    "| 23 < BMI <= 25 | 과체중 |\n",
    "| 25 < BMI <= 30 | 비만 |\n",
    "| BMI > 30 | 고도비만 |\n",
    "\n",
    "또한 BMI 결과에 따라 아래 다섯 개의 문장 중에 하나가 출력되어야 한다.\n",
    "\n",
    "```\n",
    "\"BMI는 저체중입니다.\n",
    "\"BMI는 정상 수치입니다.\n",
    "\"BMI는 과체중입니다.\n",
    "\"BMI는 비만입니다.\n",
    "\"BMI는 고도 비만입니다.\n",
    "```"
   ]
  },
  {
   "cell_type": "markdown",
   "id": "cd33bd57",
   "metadata": {},
   "source": [
    "**답**"
   ]
  },
  {
   "cell_type": "markdown",
   "id": "2918c034",
   "metadata": {},
   "source": [
    "BMI 수치를 서로 중첩되지 않은 3개 이상의 구간으로 나눠야 한다.\n",
    "이런 경우 `if ... elif ... elif ... else ...` 명령문을 활용하면 좋다."
   ]
  },
  {
   "cell_type": "markdown",
   "id": "c366c100",
   "metadata": {},
   "source": [
    "- 몸무게 70kg, 키 178cm 인 경우"
   ]
  },
  {
   "cell_type": "code",
   "execution_count": 13,
   "id": "372476e0",
   "metadata": {},
   "outputs": [
    {
     "name": "stdout",
     "output_type": "stream",
     "text": [
      "몸무게를 kg 단위로 숫자만 입력하세요: 70\n",
      "키를 cm 단위로 숫자만 입력하세요: 178\n",
      "BMI는 정상 수치입니다.\n"
     ]
    }
   ],
   "source": [
    "weight = int(input(\"몸무게를 kg 단위로 숫자만 입력하세요: \"))\n",
    "height = int(input(\"키를 cm 단위로 숫자만 입력하세요: \"))\n",
    "\n",
    "BMI = weight / (height * 0.01)**2\n",
    "\n",
    "if BMI <= 18.5:\n",
    "    print(\"BMI는 저체중입니다.\")\n",
    "elif 18.5 < BMI <= 23:\n",
    "    print(\"BMI는 정상 수치입니다.\")\n",
    "elif 23 < BMI <= 25:\n",
    "    print(\"BMI는 과체중입니다.\")\n",
    "elif 25 < BMI <= 30:\n",
    "    print(\"BMI는 비만입니다.\")\n",
    "else:\n",
    "    print(\"BMI는 고도 비만입니다.\")"
   ]
  },
  {
   "cell_type": "markdown",
   "id": "bb98b338",
   "metadata": {},
   "source": [
    "- 몸무게 95kg, 키 176cm 인 경우"
   ]
  },
  {
   "cell_type": "code",
   "execution_count": 14,
   "id": "22c090c8",
   "metadata": {},
   "outputs": [
    {
     "name": "stdout",
     "output_type": "stream",
     "text": [
      "몸무게를 kg 단위로 숫자만 입력하세요: 95\n",
      "키를 cm 단위로 숫자만 입력하세요: 176\n",
      "BMI는 고도 비만입니다.\n"
     ]
    }
   ],
   "source": [
    "weight = int(input(\"몸무게를 kg 단위로 숫자만 입력하세요: \"))\n",
    "height = int(input(\"키를 cm 단위로 숫자만 입력하세요: \"))\n",
    "\n",
    "BMI = weight / (height * 0.01)**2\n",
    "\n",
    "if BMI <= 18.5:\n",
    "    print(\"BMI는 저체중입니다.\")\n",
    "elif 18.5 < BMI <= 23:\n",
    "    print(\"BMI는 정상 수치입니다.\")\n",
    "elif 23 < BMI <= 25:\n",
    "    print(\"BMI는 과체중입니다.\")\n",
    "elif 25 < BMI <= 30:\n",
    "    print(\"BMI는 비만입니다.\")\n",
    "else:\n",
    "    print(\"BMI는 고도 비만입니다.\")"
   ]
  },
  {
   "cell_type": "markdown",
   "id": "8cbebd75",
   "metadata": {},
   "source": [
    "**문제 5**"
   ]
  },
  {
   "cell_type": "markdown",
   "id": "41bf63c4",
   "metadata": {},
   "source": [
    "세 개의 막대를 이용하여 삼각형을 만들 수 있는지 여부를 판단하는 함수\n",
    "`triangle()` 함수를 구현하라.\n",
    "단, 다음 조건을 만족해야 한다.\n",
    "\n",
    "- 세 개의 양의 정수를 입력받는다.\n",
    "- 삼각형을 만들 수 있으면 `True`, 아니면 `False`를 반환한다.\n",
    "\n",
    "힌트: 막대 하나의 길이가 다른 두 막대의 길이의 합보다 크면 삼각형을 만들 수 없다."
   ]
  },
  {
   "cell_type": "code",
   "execution_count": 13,
   "id": "7a11eb8b",
   "metadata": {
    "id": "Zy1oRDipLoZk"
   },
   "outputs": [],
   "source": [
    "# 아래 코드에서 pass 를 적절한 명령문으로, None 을 적절한 표현식으로 대체하라.\n",
    "\n",
    "def triangle(a, b, c):\n",
    "    pass\n",
    "\n",
    "    return None"
   ]
  },
  {
   "cell_type": "code",
   "execution_count": 14,
   "id": "97353a5c",
   "metadata": {
    "colab": {
     "base_uri": "https://localhost:8080/"
    },
    "executionInfo": {
     "elapsed": 591,
     "status": "ok",
     "timestamp": 1616980079158,
     "user": {
      "displayName": "HJ Kim",
      "photoUrl": "",
      "userId": "16634276932240017990"
     },
     "user_tz": -540
    },
    "id": "LoH5ptaxhPTh",
    "outputId": "203743fb-f4c4-486a-ab8c-c891cc24d1c9"
   },
   "outputs": [],
   "source": [
    "# 아래 코드의 주석 기호를 제거하고 실행했을 때 오류가 발생하지 않아야 함.\n",
    "\n",
    "# assert triangle(3, 5, 7) == True\n",
    "# assert triangle(17, 3, 22) == False"
   ]
  },
  {
   "cell_type": "markdown",
   "id": "c234a67f",
   "metadata": {},
   "source": [
    "**문제 6**"
   ]
  },
  {
   "cell_type": "markdown",
   "id": "c6c9afed",
   "metadata": {},
   "source": [
    "'racecar', '토마토', 'stats'와 같이 앞뒤를 뒤집어도 \n",
    "똑같은 문자열을 **회문**(palindrome)이라고 한다. \n",
    "문자열이 주어질 때, 그 문자열이 회문이면 `Success` 를, 아니면 `Fail` 을 반환하는 함수\n",
    "`palindrome()` 를 작성하여라.\n",
    "\n",
    "힌트: 문자열 인덱싱, 슬라이싱 활용"
   ]
  },
  {
   "cell_type": "code",
   "execution_count": 15,
   "id": "f96af980",
   "metadata": {
    "id": "Zy1oRDipLoZk"
   },
   "outputs": [],
   "source": [
    "# 아래 코드에서 pass 를 적절한 명령문으로, None 을 적절한 표현식으로 대체하라.\n",
    "\n",
    "def palindrome(aString):\n",
    "    pass\n",
    "\n",
    "    return None"
   ]
  },
  {
   "cell_type": "code",
   "execution_count": 16,
   "id": "65514e9f",
   "metadata": {
    "colab": {
     "base_uri": "https://localhost:8080/"
    },
    "executionInfo": {
     "elapsed": 591,
     "status": "ok",
     "timestamp": 1616980079158,
     "user": {
      "displayName": "HJ Kim",
      "photoUrl": "",
      "userId": "16634276932240017990"
     },
     "user_tz": -540
    },
    "id": "LoH5ptaxhPTh",
    "outputId": "203743fb-f4c4-486a-ab8c-c891cc24d1c9"
   },
   "outputs": [],
   "source": [
    "# 아래 코드의 주석 기호를 제거하고 실행했을 때 오류가 발생하지 않아야 함.\n",
    "\n",
    "# assert palindrome(\"racecar\") == \"Success\"\n",
    "# assert palindrome(\"tomato\") == \"Fail\"\n",
    "# assert palindrome(\"기러기\") == \"Success\"\n",
    "# assert palindrome(\"인싸 의사의 싸인\") == \"Success\"\n",
    "# assert palindrome(\"다시 합창합시다\") == \"Fail\""
   ]
  },
  {
   "cell_type": "markdown",
   "id": "f0925f3e",
   "metadata": {},
   "source": [
    "**문제 7**"
   ]
  },
  {
   "cell_type": "markdown",
   "id": "70737c8e",
   "metadata": {},
   "source": [
    "이전 문제의 `palindrome()` 함수가 문자열에 포함된 공백(space)을 무시하도록 수정하라."
   ]
  },
  {
   "cell_type": "code",
   "execution_count": 17,
   "id": "9e20c394",
   "metadata": {
    "id": "Zy1oRDipLoZk"
   },
   "outputs": [],
   "source": [
    "# 아래 코드에서 pass 를 적절한 명령문으로, None 을 적절한 표현식으로 대체하라.\n",
    "\n",
    "def palindrome(aString):\n",
    "    pass\n",
    "\n",
    "    return None"
   ]
  },
  {
   "cell_type": "code",
   "execution_count": 18,
   "id": "df098186",
   "metadata": {
    "colab": {
     "base_uri": "https://localhost:8080/"
    },
    "executionInfo": {
     "elapsed": 591,
     "status": "ok",
     "timestamp": 1616980079158,
     "user": {
      "displayName": "HJ Kim",
      "photoUrl": "",
      "userId": "16634276932240017990"
     },
     "user_tz": -540
    },
    "id": "LoH5ptaxhPTh",
    "outputId": "203743fb-f4c4-486a-ab8c-c891cc24d1c9"
   },
   "outputs": [],
   "source": [
    "# 아래 코드의 주석 기호를 제거하고 실행했을 때 오류가 발생하지 않아야 함.\n",
    "\n",
    "# assert palindrome(\"race car\") == \"Success\"\n",
    "# assert palindrome(\"tom ato\") == \"Fail\"\n",
    "# assert palindrome(\"인싸의사의 싸인\") == \"Success\"\n",
    "# assert palindrome(\"다시 합창합시다\") == \"Success\""
   ]
  }
 ],
 "metadata": {
  "kernelspec": {
   "display_name": "Python 3 (ipykernel)",
   "language": "python",
   "name": "python3"
  },
  "language_info": {
   "codemirror_mode": {
    "name": "ipython",
    "version": 3
   },
   "file_extension": ".py",
   "mimetype": "text/x-python",
   "name": "python",
   "nbconvert_exporter": "python",
   "pygments_lexer": "ipython3",
   "version": "3.11.4"
  }
 },
 "nbformat": 4,
 "nbformat_minor": 5
}
