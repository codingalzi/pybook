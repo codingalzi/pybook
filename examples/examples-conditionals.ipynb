{
 "cells": [
  {
   "cell_type": "markdown",
   "id": "060683b2",
   "metadata": {
    "id": "060683b2"
   },
   "source": [
    "# (필수 예제) 조건문"
   ]
  },
  {
   "cell_type": "markdown",
   "id": "934e52b4",
   "metadata": {
    "id": "934e52b4"
   },
   "source": [
    "**참고 사항**\n",
    "\n",
    "먼저 [조건문](https://codingalzi.github.io/pybook/conditionals.html) 내용을 학습하세요."
   ]
  },
  {
   "cell_type": "markdown",
   "id": "781057dc",
   "metadata": {
    "id": "781057dc"
   },
   "source": [
    "## 예제 1"
   ]
  },
  {
   "cell_type": "markdown",
   "id": "7fbb0fbb",
   "metadata": {
    "id": "7fbb0fbb"
   },
   "source": [
    "두 개의 양의 정수를 입력 받아 첫째 정수가 둘째 정수의 배수인지 여부를 판단하는 코드를 구현하라.\n",
    "단, 첫째 입력값은 변수 `x`에,\n",
    "둘째 입력값은 변수 `y`에 할당한다.\n",
    "또한 결과에 따라 배수인지 여부를 확인하는 문장을 출력한다."
   ]
  },
  {
   "cell_type": "markdown",
   "id": "15b8869c",
   "metadata": {
    "id": "15b8869c"
   },
   "source": [
    "**답**"
   ]
  },
  {
   "cell_type": "markdown",
   "id": "51e0db68",
   "metadata": {
    "id": "51e0db68"
   },
   "source": [
    "`x`가 `y`의 배수인지 여부는 논리식 `x % y == 0`로 판단된다.\n",
    "예를 들어 6은 3의 배수이지만 4의 배수가 아님을 다음과 같이 확인한다."
   ]
  },
  {
   "cell_type": "code",
   "execution_count": null,
   "id": "eff33f59",
   "metadata": {
    "id": "eff33f59",
    "outputId": "65ca752d-bb98-4468-bdf4-9e314e40629a"
   },
   "outputs": [
    {
     "data": {
      "text/plain": [
       "True"
      ]
     },
     "execution_count": 1,
     "metadata": {},
     "output_type": "execute_result"
    }
   ],
   "source": [
    "6 % 3 == 0"
   ]
  },
  {
   "cell_type": "code",
   "execution_count": null,
   "id": "c4ee1c3c",
   "metadata": {
    "id": "c4ee1c3c",
    "outputId": "cecfb883-48cd-44a9-cb82-b4a2b583398f"
   },
   "outputs": [
    {
     "data": {
      "text/plain": [
       "False"
      ]
     },
     "execution_count": 2,
     "metadata": {},
     "output_type": "execute_result"
    }
   ],
   "source": [
    "6 % 4 == 0"
   ]
  },
  {
   "cell_type": "markdown",
   "id": "4ac9b724",
   "metadata": {
    "id": "4ac9b724"
   },
   "source": [
    "배수 여부를 확인하는 논리식 `x % y == 0`을 `if ... else ...` 조건문과 함께 활용하면\n",
    "원하는 코드를 구현할 수 있다."
   ]
  },
  {
   "cell_type": "markdown",
   "id": "b3368149",
   "metadata": {
    "id": "b3368149"
   },
   "source": [
    "- 6은 3의 배수임을 확인"
   ]
  },
  {
   "cell_type": "code",
   "execution_count": null,
   "id": "be5f7390",
   "metadata": {
    "id": "be5f7390",
    "outputId": "9406f3b3-0fc4-4b0d-dbc0-0b8d67bceb97"
   },
   "outputs": [
    {
     "name": "stdout",
     "output_type": "stream",
     "text": [
      "첫째 양의 정수를 입력하세요: 6\n",
      "둘째 양의 정수를 입력하세요: 3\n",
      "6 은(는) 3 의 배수임.\n"
     ]
    }
   ],
   "source": [
    "x = int(input(\"첫째 양의 정수를 입력하세요: \"))\n",
    "y = int(input(\"둘째 양의 정수를 입력하세요: \"))\n",
    "\n",
    "if x % y == 0:\n",
    "    print(x, \"은(는)\", y, \"의 배수임.\")\n",
    "else:\n",
    "    print(x, \"은(는)\", y, \"의 배수가 아님.\")"
   ]
  },
  {
   "cell_type": "markdown",
   "id": "ed72179e",
   "metadata": {
    "id": "ed72179e"
   },
   "source": [
    "- 6은 4의 배수가 아님을 확인"
   ]
  },
  {
   "cell_type": "code",
   "execution_count": null,
   "id": "1aefa026",
   "metadata": {
    "id": "1aefa026",
    "outputId": "bf7dda1c-9498-46c9-a227-f9fd7cc94392"
   },
   "outputs": [
    {
     "name": "stdout",
     "output_type": "stream",
     "text": [
      "첫째 양의 정수를 입력하세요: 6\n",
      "둘째 양의 정수를 입력하세요: 4\n",
      "6 은(는) 4 의 배수가 아님.\n"
     ]
    }
   ],
   "source": [
    "x = int(input(\"첫째 양의 정수를 입력하세요: \"))\n",
    "y = int(input(\"둘째 양의 정수를 입력하세요: \"))\n",
    "\n",
    "if x % y == 0:\n",
    "    print(x, \"은(는)\", y, \"의 배수임.\")\n",
    "else:\n",
    "    print(x, \"은(는)\", y, \"의 배수가 아님.\")"
   ]
  },
  {
   "cell_type": "markdown",
   "id": "33b9f9c3",
   "metadata": {
    "id": "33b9f9c3"
   },
   "source": [
    "## 예제 2"
   ]
  },
  {
   "cell_type": "markdown",
   "id": "d053b6ee",
   "metadata": {
    "id": "d053b6ee"
   },
   "source": [
    "1에서 10까지의 정수 중에서 3의 배수가 아닌 정수만 출력하는 코드를 작성하라.\n",
    "\n",
    "힌트: 리스트 `[1, 2, 3, 4, 5, 6, 7, 8, 9, 10]`, `for` 반복문 활용, 논리/비교 연산자 활용"
   ]
  },
  {
   "cell_type": "markdown",
   "id": "1d1eb9b2",
   "metadata": {
    "id": "1d1eb9b2"
   },
   "source": [
    "**답**"
   ]
  },
  {
   "cell_type": "markdown",
   "id": "df2e19cf",
   "metadata": {
    "id": "df2e19cf"
   },
   "source": [
    "1에서 10까지의 정수를 리스트로 선언한다."
   ]
  },
  {
   "cell_type": "markdown",
   "id": "bb30eba3",
   "metadata": {
    "id": "bb30eba3"
   },
   "source": [
    "```python\n",
    "one2ten = [1, 2, 3, 4, 5, 6, 7, 8, 9, 10]\n",
    "```"
   ]
  },
  {
   "cell_type": "markdown",
   "id": "3d8730bc",
   "metadata": {
    "id": "3d8730bc"
   },
   "source": [
    "`num` 변수가 가리키는 값이 3의 배수가 아닐 때 참이되는 논리식은 다음과 같다.\n",
    "\n",
    "```python\n",
    "num % 3 != 0\n",
    "```"
   ]
  },
  {
   "cell_type": "markdown",
   "id": "d410e292",
   "metadata": {
    "id": "d410e292"
   },
   "source": [
    "아래 코드는 `one2ten` 리스트에 `for` 반복문을 적용해서 3의 배수가 아닌 정수만 화면에 출력한다."
   ]
  },
  {
   "cell_type": "code",
   "execution_count": null,
   "id": "7ec959e4",
   "metadata": {
    "id": "7ec959e4",
    "outputId": "9d148f62-a4b9-43c1-b16d-bf153c06cf6d"
   },
   "outputs": [
    {
     "name": "stdout",
     "output_type": "stream",
     "text": [
      "1 2 4 5 7 8 10 "
     ]
    }
   ],
   "source": [
    "one2ten = [1, 2, 3, 4, 5, 6, 7, 8, 9, 10]\n",
    "\n",
    "for num in one2ten:\n",
    "    if num % 3 != 0:\n",
    "        print(num, end=' ')"
   ]
  },
  {
   "cell_type": "markdown",
   "id": "f220f47c",
   "metadata": {
    "id": "f220f47c"
   },
   "source": [
    "`num` 변수가 가리키는 값이 3의 배수가 아닐 때 참이되는 논리식은 다음과 같이 `not` 논리 연산자를 이용할 수도 있다.\n",
    "\n",
    "```python\n",
    "not num % 3 == 0\n",
    "```\n",
    "\n",
    "따라서 아래 코드도 동일한 결과를 생성한다."
   ]
  },
  {
   "cell_type": "code",
   "execution_count": null,
   "id": "9b332dbb",
   "metadata": {
    "id": "9b332dbb",
    "outputId": "847ddf80-9d3e-40f0-e07c-fa9295d63fdf"
   },
   "outputs": [
    {
     "name": "stdout",
     "output_type": "stream",
     "text": [
      "1 2 4 5 7 8 10 "
     ]
    }
   ],
   "source": [
    "one2ten = [1, 2, 3, 4, 5, 6, 7, 8, 9, 10]\n",
    "\n",
    "for num in [1, 2, 3, 4, 5, 6, 7, 8, 9, 10]:\n",
    "    if not num % 3 == 0:\n",
    "        print(num, end=' ')"
   ]
  },
  {
   "cell_type": "markdown",
   "id": "7f1a5716",
   "metadata": {
    "id": "7f1a5716"
   },
   "source": [
    "## 예제 3"
   ]
  },
  {
   "cell_type": "markdown",
   "id": "0f6e3ee2",
   "metadata": {
    "id": "0f6e3ee2"
   },
   "source": [
    "1에서 10까지의 정수 중에서 3의 배수 또는 7의 배수를 모두 출력하는 코드를 작성하라.\n",
    "\n",
    "힌트: 리스트 `[1, 2, 3, 4, 5, 6, 7, 8, 9, 10]`, `for` 반복문 활용, 논리/비교 연산자 활용"
   ]
  },
  {
   "cell_type": "markdown",
   "id": "a7ea4a76",
   "metadata": {
    "id": "a7ea4a76"
   },
   "source": [
    "**답**"
   ]
  },
  {
   "cell_type": "markdown",
   "id": "7b28b2df",
   "metadata": {
    "id": "7b28b2df"
   },
   "source": [
    "`num`이 가리키는 값이 3의 배수 또는 7의 배수인 경우에만 `num`을 출력하고자 하면\n",
    "아래 표현식을 이용한다.\n",
    "\n",
    "```python\n",
    "num % 3 == 0 or num % 7 == 0\n",
    "```"
   ]
  },
  {
   "cell_type": "markdown",
   "id": "c42c9cf4",
   "metadata": {
    "id": "c42c9cf4"
   },
   "source": [
    "이제 `num`을 1부터 10까지의 정수를 차례대로 가리키도록 하면서\n",
    "`if` 조건문을 이용하면 3의 배수 또는 7의 배수를 모두 출력할 수 있다.\n",
    "아래 코드가 위 내용을 정리한다."
   ]
  },
  {
   "cell_type": "code",
   "execution_count": null,
   "id": "fa312c51",
   "metadata": {
    "id": "fa312c51",
    "outputId": "cb618b02-7437-4413-f7fc-83355fb90e26"
   },
   "outputs": [
    {
     "name": "stdout",
     "output_type": "stream",
     "text": [
      "3 6 7 9 "
     ]
    }
   ],
   "source": [
    "one2ten = [1, 2, 3, 4, 5, 6, 7, 8, 9, 10]\n",
    "\n",
    "for num in one2ten:\n",
    "    if num % 3 == 0 or num % 7 == 0:\n",
    "        print(num, end=' ')"
   ]
  },
  {
   "cell_type": "markdown",
   "id": "2d5c6ba7",
   "metadata": {
    "id": "2d5c6ba7"
   },
   "source": [
    "## 예제 4"
   ]
  },
  {
   "cell_type": "markdown",
   "id": "44e7deef",
   "metadata": {
    "id": "44e7deef"
   },
   "source": [
    "아래 코드가 실행중에 오류를 발생시키는 이유를 설명하라."
   ]
  },
  {
   "cell_type": "code",
   "execution_count": null,
   "id": "edf5f891",
   "metadata": {
    "id": "edf5f891",
    "outputId": "d6896c2e-c69a-4e9c-cf23-1a916758d7f5"
   },
   "outputs": [
    {
     "ename": "ZeroDivisionError",
     "evalue": "division by zero",
     "output_type": "error",
     "traceback": [
      "\u001b[0;31m---------------------------------------------------------------------------\u001b[0m",
      "\u001b[0;31mZeroDivisionError\u001b[0m                         Traceback (most recent call last)",
      "Cell \u001b[0;32mIn[9], line 1\u001b[0m\n\u001b[0;32m----> 1\u001b[0m \u001b[38;5;28;01mif\u001b[39;00m \u001b[38;5;28;01mFalse\u001b[39;00m \u001b[38;5;129;01mor\u001b[39;00m \u001b[38;5;241m3\u001b[39m\u001b[38;5;241m/\u001b[39m\u001b[38;5;241m0\u001b[39m:\n\u001b[1;32m      2\u001b[0m     \u001b[38;5;28mprint\u001b[39m(\u001b[38;5;124m\"\u001b[39m\u001b[38;5;124mA\u001b[39m\u001b[38;5;124m\"\u001b[39m)\n",
      "\u001b[0;31mZeroDivisionError\u001b[0m: division by zero"
     ]
    }
   ],
   "source": [
    "if False or 3/0:\n",
    "    print(\"A\")"
   ]
  },
  {
   "cell_type": "markdown",
   "id": "0109335c",
   "metadata": {
    "id": "0109335c"
   },
   "source": [
    "**답**"
   ]
  },
  {
   "cell_type": "markdown",
   "id": "616ad040",
   "metadata": {
    "id": "616ad040"
   },
   "source": [
    "먼저 오류가 어디서 왜 발생했는가에 대한 정보를 확인한다.\n",
    "오류 정보의 맨 마지막 줄에 있는 아래 정보는\n",
    "0으로 나눗셈을 시도했음을 알려준다.\n",
    "\n",
    "```\n",
    "ZeroDivisionError: division by zero\n",
    "```\n",
    "\n",
    "그리고 아래 오류 정보는 위 코드의 1번 줄에서 오류가 발생했음을 알려준다.\n",
    "\n",
    "```\n",
    "----> 1 if False or 3/0:\n",
    "```\n",
    "\n",
    "즉 `if` 조건문에 사용된 조건식인 `False or 3/0`에 문제가 있다는 말이다.\n",
    "\n",
    "`False or 3/0`은 우선 논리 연산자 `or`를 사용한다.\n",
    "그리고 `or` 연산자를 사용하는 논리식의 참/거짓 여부는\n",
    "먼저 첫째 인자의 참/거짓 여부를 확인한다.\n",
    "그런데 첫째 인자인 `False`는 (항상) 거짓이다.\n",
    "따라서 둘째 인자인 `3/0`의 참/거짓 여부를 확인한다.\n",
    "그리고 여기서 3을 0으로 나눈 결과를 확인하려할 때 문제가 발생한다.\n",
    "0을 이용한 나눗셈은 허용되지 않기에 오류가 발생한다.\n",
    "\n",
    "`if` 조건문에 사용되는 조건식의 참/거짓 여부를 판단할 때 오류가 발생하기에\n",
    "본문에 사용된 `print()` 함수 호출은 아예 발생하지 않는다."
   ]
  },
  {
   "cell_type": "markdown",
   "id": "90041cb5",
   "metadata": {
    "id": "90041cb5"
   },
   "source": [
    "## 예제 5"
   ]
  },
  {
   "cell_type": "markdown",
   "id": "8e5b46c4",
   "metadata": {
    "id": "8e5b46c4"
   },
   "source": [
    "`a`, `b`, `c`가 세 개의 정수를 가리킨다.\n",
    "\n",
    "아래 두 논리식이 거짓이라고 가정하자.\n",
    "\n",
    "- `a >= b and a >= c`\n",
    "- `b >= a and b >= c`\n",
    "\n",
    "그러면 `a < c and b < c`가 참임을 설명하라."
   ]
  },
  {
   "cell_type": "markdown",
   "id": "9dcd055f",
   "metadata": {
    "id": "9dcd055f"
   },
   "source": [
    "**답**"
   ]
  },
  {
   "cell_type": "markdown",
   "id": "9152fe88",
   "metadata": {
    "id": "9152fe88"
   },
   "source": [
    "먼저 `a >= b and a >= c`가 거짓이기에 `a < b or a < c`가 참이다.\n",
    "`or` 연산자의 정의에 의해 `a < b`가 참이거나 `a < c`가 참이다.\n",
    "따라서 두 가지 경우로 나눠서 살펴 본다.\n",
    "\n",
    "- `a < b`가 참인 경우\n",
    "    - 그러면 `a <= b`가 참이다.\n",
    "    - 그런데 `b >= a and b >= c`가 거짓이기에 결국 `b >= c`가 거짓이다.\n",
    "    - 즉, `b < c`가 참이다.\n",
    "    - 결국 `a < b < c`가 `a < c and b < c`가 참이다.\n",
    "- `a < c`가 참인 경우\n",
    "    - 그런데 `b >= a and b >= c`가 거짓이기에 `b < a` 또는 `b < c`가 참다.\n",
    "    - 만약 `b < a`가 참이면 `b < a < c`가 되어 `a < c and b < c`가 참이다.\n",
    "    - 만약 `b < c`가 참이면 당연히 `a < c and b < c`가 참이다.\n",
    "    \n",
    "즉, 어떤 경우에도 `a < c and b < c`가 참이다."
   ]
  },
  {
   "cell_type": "markdown",
   "id": "32df5a4a",
   "metadata": {
    "id": "32df5a4a"
   },
   "source": [
    "## 예제 6"
   ]
  },
  {
   "cell_type": "markdown",
   "id": "0cebd9e7",
   "metadata": {
    "id": "0cebd9e7"
   },
   "source": [
    "사용자가 연도를 입력했을 때 윤년 여부를 판단하는 코드를 작성하라.\n",
    "단, 아래 세 개의 논리식만 사용하며, `and`, `or`, `not` 등의 논리 연산자는 절대로 사용하지 않아야 한다.\n",
    "\n",
    "- `year % 400 == 0`\n",
    "- `year % 100 == 0`\n",
    "- `year % 4 == 0`\n",
    "\n",
    "힌트: `if ... elif ... else ...` 명령문을 이용한다.\n",
    "또한 윤년과 평년 여부는 다음 세 가지 규칙으로 판단한다.\n",
    "\n",
    "- 4의 배수인 경우 윤년,\n",
    "- 하지만 100의 배수인 경우는 평년,\n",
    "- 그래도 400의 배수인 경우는 무조건 윤년!\n",
    "\n",
    "예를 들어 아래 연도는 모두 윤년이다.\n",
    "\n",
    "- 1988, 2024: 4의 배수이면서 100의 배수 아님\n",
    "- 2000: 100의 배수이지만 400의 배수임\n",
    "    \n",
    "반면에 아래 연도는 모두 윤년이 아니다.\n",
    "\n",
    "- 1900: 4의 배수이지만 100의 배수임. 그리고 400의 배수 아님.\n",
    "- 2023: 4의 배수 아님."
   ]
  },
  {
   "cell_type": "markdown",
   "id": "32ef5de5",
   "metadata": {
    "id": "32ef5de5"
   },
   "source": [
    "**답**"
   ]
  },
  {
   "cell_type": "markdown",
   "id": "1b0c352a",
   "metadata": {
    "id": "1b0c352a"
   },
   "source": [
    "먼저 400의 배수는 100의 배수이고, 또 100의 배수는 4의 배수임에 주목한다.\n",
    "이제 아래 3가지 경우를 차례대로 확인한다.\n",
    "\n",
    "- 400의 배수는 무조건 윤년이기에 먼저 400의 배수 여부를 확인해서 참이면 윤년!\n",
    "- 400의 배수가 아닌데, 100의 배수라면 평년!\n",
    "- 400의 배수도, 100의 배수도 아닌데 4의 배수라면 평년!\n",
    "- 나머지 경우, 즉 4의 배수도 아니라면 평년!\n",
    "\n",
    "`if ... elif ... elif ... else ...` 명령문을 이용하여\n",
    "앞서 언급한 경우를 정확하게 표현할 수 있다."
   ]
  },
  {
   "cell_type": "markdown",
   "id": "52e80dff",
   "metadata": {
    "id": "52e80dff"
   },
   "source": [
    "- 2024년: 윤년"
   ]
  },
  {
   "cell_type": "code",
   "execution_count": null,
   "id": "e539ef6a",
   "metadata": {
    "id": "e539ef6a",
    "outputId": "8fc2c153-99f6-4183-add5-9129a91c4fe6"
   },
   "outputs": [
    {
     "name": "stdout",
     "output_type": "stream",
     "text": [
      "연도를 입력하세요: 2024\n",
      "100의 배수가 아니면서 4의 배수이기에 윤년\n"
     ]
    }
   ],
   "source": [
    "year = int(input(\"연도를 입력하세요: \"))\n",
    "\n",
    "if year % 400 == 0:\n",
    "    print(\"400의 배수이기에 윤년!\")\n",
    "elif year % 100 == 0:\n",
    "    print(\"400의 배수는 아니지만 100의 배수이기에 평년\")\n",
    "elif year % 4 == 0:\n",
    "    print(\"100의 배수가 아니면서 4의 배수이기에 윤년\")\n",
    "else:\n",
    "    print(\"4의 배수가 아니기에 평년\")"
   ]
  },
  {
   "cell_type": "markdown",
   "id": "7565e89a",
   "metadata": {
    "id": "7565e89a"
   },
   "source": [
    "- 1900년: 평년"
   ]
  },
  {
   "cell_type": "code",
   "execution_count": null,
   "id": "e3000b23",
   "metadata": {
    "id": "e3000b23",
    "outputId": "c8ff3aef-cf93-432b-9155-b8e4dded1f1c"
   },
   "outputs": [
    {
     "name": "stdout",
     "output_type": "stream",
     "text": [
      "연도를 입력하세요: 1900\n",
      "400의 배수는 아니지만 100의 배수이기에 평년\n"
     ]
    }
   ],
   "source": [
    "year = int(input(\"연도를 입력하세요: \"))\n",
    "\n",
    "if year % 400 == 0:\n",
    "    print(\"400의 배수이기에 윤년!\")\n",
    "elif year % 100 == 0:\n",
    "    print(\"400의 배수는 아니지만 100의 배수이기에 평년\")\n",
    "elif year % 4 == 0:\n",
    "    print(\"100의 배수가 아니면서 4의 배수이기에 윤년\")\n",
    "else:\n",
    "    print(\"4의 배수가 아니기에 평년\")"
   ]
  },
  {
   "cell_type": "markdown",
   "id": "0c42b1e6",
   "metadata": {
    "id": "0c42b1e6"
   },
   "source": [
    "- 2000년: 윤년"
   ]
  },
  {
   "cell_type": "code",
   "execution_count": null,
   "id": "ab5b84c7",
   "metadata": {
    "id": "ab5b84c7",
    "outputId": "c23b7c8f-a330-4322-f883-b8a6642c3959"
   },
   "outputs": [
    {
     "name": "stdout",
     "output_type": "stream",
     "text": [
      "연도를 입력하세요: 2000\n",
      "400의 배수이기에 윤년!\n"
     ]
    }
   ],
   "source": [
    "year = int(input(\"연도를 입력하세요: \"))\n",
    "\n",
    "if year % 400 == 0:\n",
    "    print(\"400의 배수이기에 윤년!\")\n",
    "elif year % 100 == 0:\n",
    "    print(\"400의 배수는 아니지만 100의 배수이기에 평년\")\n",
    "elif year % 4 == 0:\n",
    "    print(\"100의 배수가 아니면서 4의 배수이기에 윤년\")\n",
    "else:\n",
    "    print(\"4의 배수가 아니기에 평년\")"
   ]
  },
  {
   "cell_type": "markdown",
   "id": "a056970c",
   "metadata": {
    "id": "a056970c"
   },
   "source": [
    "- 2025년: 평년"
   ]
  },
  {
   "cell_type": "code",
   "execution_count": 1,
   "id": "a715b726",
   "metadata": {
    "colab": {
     "base_uri": "https://localhost:8080/"
    },
    "id": "a715b726",
    "outputId": "95f6ab55-1ce0-4934-fa7d-7aa63474b7a6"
   },
   "outputs": [
    {
     "name": "stdout",
     "output_type": "stream",
     "text": [
      "연도를 입력하세요: 2025\n",
      "4의 배수가 아니기에 평년\n"
     ]
    }
   ],
   "source": [
    "year = int(input(\"연도를 입력하세요: \"))\n",
    "\n",
    "if year % 400 == 0:\n",
    "    print(\"400의 배수이기에 윤년!\")\n",
    "elif year % 100 == 0:\n",
    "    print(\"400의 배수는 아니지만 100의 배수이기에 평년\")\n",
    "elif year % 4 == 0:\n",
    "    print(\"100의 배수가 아니면서 4의 배수이기에 윤년\")\n",
    "else:\n",
    "    print(\"4의 배수가 아니기에 평년\")"
   ]
  },
  {
   "cell_type": "markdown",
   "id": "4ac03828",
   "metadata": {
    "id": "4ac03828"
   },
   "source": [
    "## 예제 7"
   ]
  },
  {
   "cell_type": "markdown",
   "id": "929ce655",
   "metadata": {
    "id": "929ce655"
   },
   "source": [
    "세 개의 막대를 이용하여 삼각형을 만들 수 있는지 여부를 판단하는 코드를 작성하라.\n",
    "단, 다음 조건을 만족해야 한다.\n",
    "\n",
    "- 세 개의 막대 길이에 해당하는 양의 부동소수점을 입력받아 각각 `a`, `b`, `c` 변수에 저장한다.\n",
    "- 삼각형을 만들 수 있으면 `True`, 아니면 `False`를 반환한다.\n",
    "\n",
    "힌트: 막대 하나의 길이가 다른 두 막대의 길이의 합보다 작아야 삼각형을 만들 수 있다."
   ]
  },
  {
   "cell_type": "markdown",
   "id": "f07aabab",
   "metadata": {
    "id": "f07aabab"
   },
   "source": [
    "**답**"
   ]
  },
  {
   "cell_type": "markdown",
   "id": "675a119c",
   "metadata": {
    "id": "675a119c"
   },
   "source": [
    "아래 그림에서 확인할 수 있듯이 삼각형의 어떤 하나의 변도 다른 두 변의 합보다 클 수 없다."
   ]
  },
  {
   "cell_type": "markdown",
   "id": "237e021d",
   "metadata": {
    "id": "237e021d"
   },
   "source": [
    "<div align=\"center\"><img src=\"https://raw.githubusercontent.com/codingalzi/pybook/master/jupyter-book/images/triangle01.jpg\" style=\"width:500px\"></div>"
   ]
  },
  {
   "cell_type": "markdown",
   "id": "13fbf904",
   "metadata": {
    "id": "13fbf904"
   },
   "source": [
    "세 변의 길이 `a`, `b`, `c`가 주어졌을 때 어떤 하나의 변이 다른 두 변의 합보다 큰지 여부는\n",
    "`or` 연산자를 활용하는 다음 논리식으로 판단한다.\n",
    "\n",
    "```python\n",
    "a >= b + c or b >= a + c or c >= a + b\n",
    "```\n",
    "\n",
    "아래 코드는 위 논리식의 참/거짓 여부에 따라 삼각형 그리기가 가능한지 여부를 알려준다."
   ]
  },
  {
   "cell_type": "code",
   "execution_count": null,
   "id": "9117699d",
   "metadata": {
    "id": "9117699d",
    "outputId": "f90d14c8-2fed-4a7f-fac6-0b555488508f"
   },
   "outputs": [
    {
     "name": "stdout",
     "output_type": "stream",
     "text": [
      "첫째 막대 길이: 11.3\n",
      "둘째 막대 길이: 25.7\n",
      "셋째 막대 길이: 18.8\n",
      "삼각형 가능\n"
     ]
    }
   ],
   "source": [
    "a = float(input(\"첫째 막대 길이: \"))\n",
    "b = float(input(\"둘째 막대 길이: \"))\n",
    "c = float(input(\"셋째 막대 길이: \"))\n",
    "\n",
    "if a >= b + c or b >= a + c or c >= a + b:\n",
    "    print(\"삼각형 불가능\")\n",
    "else:\n",
    "    print(\"삼각형 가능\")"
   ]
  },
  {
   "cell_type": "code",
   "execution_count": null,
   "id": "b1e25685",
   "metadata": {
    "id": "b1e25685",
    "outputId": "27e1cb71-67af-4bee-f96d-a3c407b43efa"
   },
   "outputs": [
    {
     "name": "stdout",
     "output_type": "stream",
     "text": [
      "첫째 막대 길이: 11.7\n",
      "둘째 막대 길이: 32.9\n",
      "셋째 막대 길이: 20.1\n",
      "삼각형 불가능\n"
     ]
    }
   ],
   "source": [
    "a = float(input(\"첫째 막대 길이: \"))\n",
    "b = float(input(\"둘째 막대 길이: \"))\n",
    "c = float(input(\"셋째 막대 길이: \"))\n",
    "\n",
    "if a >= b + c or b >= a + c or c >= a + b:\n",
    "    print(\"삼각형 불가능\")\n",
    "else:\n",
    "    print(\"삼각형 가능\")"
   ]
  },
  {
   "cell_type": "markdown",
   "id": "9ddd55f6",
   "metadata": {
    "id": "9ddd55f6"
   },
   "source": [
    "## 예제 8"
   ]
  },
  {
   "cell_type": "markdown",
   "id": "7f185ee1",
   "metadata": {
    "id": "7f185ee1"
   },
   "source": [
    "직사각형 모양의 바닥에 정사각형 모양의 타일을 깔 때\n",
    "타일은 온장을 그대로 사용할 수도 있고, 잘라서 일부분만 사용할 수도 있다.\n",
    "타일의 크기는 가로, 세로 모두 30cm이며, 잘라서 사용한 타일의 나머지는 사용하지 않는다.\n",
    "\n",
    "가로와 세로 각각 400cm, 500cm 인 바닥을 타일로 덮기 위해 필요한 온장 타일과 잘라서 사용한 타일의 개수의 합을\n",
    "계산하는 코드를 구현하라.\n",
    "\n",
    "- `width`: 공간의 가로 크기. 단위는 cm.\n",
    "- `height`: 공간의 세로 크기. 단위는 cm.\n",
    "- `tile_length=30`: 타일의 한 변의 크기. 단위는 cm. 기본 키워드 인자는 30.\n",
    "\n",
    "힌트: 중첩 조건문 활용"
   ]
  },
  {
   "cell_type": "markdown",
   "id": "61c8eccd",
   "metadata": {
    "id": "61c8eccd"
   },
   "source": [
    "**답**"
   ]
  },
  {
   "cell_type": "markdown",
   "id": "6ab93e6e",
   "metadata": {
    "id": "6ab93e6e"
   },
   "source": [
    "온장의 개수 `num_full`은 공간의 가로와 세로를 타일 한 장의 길이로 나눈 몫을 곱한 값이다.\n",
    "\n",
    "```python\n",
    "num_full_width = width // tile_length\n",
    "num_full_height = height // tile_length\n",
    "\n",
    "num_full = num_full_width * num_full_height # 온장 타일 수\n",
    "```"
   ]
  },
  {
   "cell_type": "markdown",
   "id": "fd94b84c",
   "metadata": {
    "id": "fd94b84c"
   },
   "source": [
    "잘라서 사용한 타일의 개수는 아래 두 경우의 조합에 따라 통 네 개의 경우가 발생한다.\n",
    "\n",
    "- 경우 1: 가로를 타일의 길이로 나눴을 때 나머지가 0인 경우\n",
    "- 경우 2: 세로는 타일의 길이로 나눴을 때 나머지가 0인 경우\n",
    "\n",
    "네 경우 각각에 따라 잘라서 사용한 타일의 개수가 달라진다."
   ]
  },
  {
   "cell_type": "markdown",
   "id": "d944803d",
   "metadata": {
    "id": "d944803d"
   },
   "source": [
    "<div align=\"center\"><img src=\"https://raw.githubusercontent.com/codingalzi/pybook/master/jupyter-book/images/exc-functions-02.png\" style=\"width:600px\"></div>"
   ]
  },
  {
   "cell_type": "markdown",
   "id": "c07766c2",
   "metadata": {
    "id": "c07766c2"
   },
   "source": [
    "4가지 경우에 잘라서 사용한 타일의 수 `num_part`를 계산하는 코드는 다음과 같다."
   ]
  },
  {
   "cell_type": "markdown",
   "id": "cfae928d",
   "metadata": {
    "id": "cfae928d"
   },
   "source": [
    "```python\n",
    "if width % tile_length == 0:\n",
    "    if height % tile_length == 0:     # 경우 (A)\n",
    "        num_part = 0\n",
    "    else:                             # 경우 (B)\n",
    "        num_part = num_full_width\n",
    "\n",
    "else:\n",
    "    if height % tile_length == 0:    # 경우 (C)\n",
    "        num_part = num_full_height\n",
    "    else:                            # 경우 (D)\n",
    "        num_part = num_full_width + num_full_height + 1\n",
    "```"
   ]
  },
  {
   "cell_type": "markdown",
   "id": "b94bec76",
   "metadata": {
    "id": "b94bec76"
   },
   "source": [
    "온장 타일 수와 잘라서 사용한 타일의 수의 합은 `num_full + num_part`로 계산되며\n",
    "위 설명을 정리해서 코드를 다음과 구현한다."
   ]
  },
  {
   "cell_type": "code",
   "execution_count": null,
   "id": "b329beff",
   "metadata": {
    "id": "b329beff",
    "outputId": "db36fe20-946b-487b-af2f-de10c856aec5"
   },
   "outputs": [
    {
     "name": "stdout",
     "output_type": "stream",
     "text": [
      "필요한 타일의 수: 238\n"
     ]
    }
   ],
   "source": [
    "width = 400\n",
    "height = 500\n",
    "tile_length = 30\n",
    "\n",
    "num_full_width = width // tile_length\n",
    "num_full_height = height // tile_length\n",
    "\n",
    "# 온장 타일 개수\n",
    "num_full = num_full_width * num_full_height\n",
    "\n",
    "# 잘린 타일 개수\n",
    "if width % tile_length == 0:\n",
    "    if height % tile_length == 0:\n",
    "        num_part = 0\n",
    "    else:\n",
    "        num_part = num_full_width\n",
    "\n",
    "else:\n",
    "    if height % tile_length == 0:\n",
    "        num_part = num_full_height\n",
    "    else:\n",
    "        num_part = num_full_width + num_full_height + 1\n",
    "\n",
    "# 온장 타일과 잘라딘 타일 수\n",
    "print(\"필요한 타일의 수:\", num_full + num_part)"
   ]
  }
 ],
 "metadata": {
  "colab": {
   "provenance": []
  },
  "kernelspec": {
   "display_name": "Python 3 (ipykernel)",
   "language": "python",
   "name": "python3"
  },
  "language_info": {
   "codemirror_mode": {
    "name": "ipython",
    "version": 3
   },
   "file_extension": ".py",
   "mimetype": "text/x-python",
   "name": "python",
   "nbconvert_exporter": "python",
   "pygments_lexer": "ipython3",
   "version": "3.11.5"
  }
 },
 "nbformat": 4,
 "nbformat_minor": 5
}
