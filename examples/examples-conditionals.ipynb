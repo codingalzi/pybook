{
 "cells": [
  {
   "cell_type": "markdown",
   "id": "060683b2",
   "metadata": {},
   "source": [
    "# (필수 예제) 조건문"
   ]
  },
  {
   "cell_type": "markdown",
   "id": "9f0e3823",
   "metadata": {
    "id": "MTVs3VVPyzcU"
   },
   "source": [
    "## 예제"
   ]
  },
  {
   "cell_type": "markdown",
   "id": "08d8b6f6",
   "metadata": {},
   "source": [
    "짝수 인자와 함께 호출되면 2로 나눈 값을, \n",
    "홀수 인자와 함께 호출되면 3배에 1을 더한 값을 반환하는\n",
    "`Collatz_simple()` 함수를 정의한다."
   ]
  },
  {
   "cell_type": "code",
   "execution_count": 3,
   "id": "47669c52",
   "metadata": {},
   "outputs": [],
   "source": [
    "# 코드를 작성한다.\n",
    "# 필요하면 코드셀 또는 텍스트셀을 추가할 수 있습니다.\n",
    "\n"
   ]
  },
  {
   "cell_type": "markdown",
   "id": "0d95e817",
   "metadata": {},
   "source": [
    "**답**"
   ]
  },
  {
   "cell_type": "code",
   "execution_count": 9,
   "id": "cc08ede5",
   "metadata": {},
   "outputs": [],
   "source": [
    "def Collatz_simple(num):\n",
    "    if num % 2 == 0:\n",
    "        return num // 2\n",
    "    else:\n",
    "        return num * 3 + 1"
   ]
  },
  {
   "cell_type": "markdown",
   "id": "84574312",
   "metadata": {
    "id": "L1ZHNhVTPHo4"
   },
   "source": [
    "**문제**\n",
    "\n",
    "아래 코드가 실행중에 오류를 발생시키는 이유를 설명하라.\n",
    "\n",
    "```python\n",
    "if 3/0 or True :\n",
    "    print(\"A\")\n",
    "```"
   ]
  },
  {
   "cell_type": "markdown",
   "id": "d483531f",
   "metadata": {},
   "source": [
    "**문제**\n",
    "\n",
    "아래 코드는 실행중에 오류를 발생시키지 않는다. 그 이유를 설명하라.\n",
    "\n",
    "```python\n",
    "if True or 3/0 :\n",
    "    print(\"B\")\n",
    "```"
   ]
  },
  {
   "cell_type": "markdown",
   "id": "26e1bd70",
   "metadata": {
    "id": "MTVs3VVPyzcU"
   },
   "source": [
    "## 문제 5"
   ]
  },
  {
   "cell_type": "markdown",
   "id": "45f1ee6f",
   "metadata": {},
   "source": [
    "**주의사항**: 중첩 조건문으로 해결하였음. 하지만 논리 연산자 `and` 를 활용하면 중첩 조건문을 사용하지 않아도 됨."
   ]
  },
  {
   "cell_type": "markdown",
   "id": "7f185ee1",
   "metadata": {},
   "source": [
    "직사각형 모양의 바닥에 정사각형 모양의 타일을 깔 때\n",
    "타일은 온장을 그대로 사용할 수도 있고, 잘라서 일부분만 사용할 수도 있다.\n",
    "단, 잘라서 사용한 타일의 나머지는 사용하지 않는다.\n",
    "공간의 가로, 세로 크기, 타일의 크기를 cm 단위로 인자로 사용된다.\n",
    "주어진 공간을 타일로 덮기 위해 필요한 온장 타일과 잘라서 사용한 타일의 개수의 합을\n",
    "반환하는 함수 `tiling()`을 구현하라.\n",
    "\n",
    "단 공간 크기의 가로, 세로, 타일의 크기는 정수값으로 입력받는다.\n",
    "즉, `tiling()` 함수의 매개변수는 다음과 같다.\n",
    "\n",
    "- `width`: 공간의 가로 크기. 단위는 cm.\n",
    "- `height`: 공간의 세로 크기. 단위는 cm.\n",
    "- `tile_length=30`: 타일의 한 변의 크기. 단위는 cm. 기본 키워드 인자는 30."
   ]
  },
  {
   "cell_type": "code",
   "execution_count": 3,
   "id": "98ad9593",
   "metadata": {},
   "outputs": [],
   "source": [
    "# 코드를 작성한다.\n",
    "# 필요하면 코드셀 또는 텍스트셀을 추가할 수 있습니다.\n",
    "\n"
   ]
  },
  {
   "cell_type": "markdown",
   "id": "61c8eccd",
   "metadata": {},
   "source": [
    "**답**"
   ]
  },
  {
   "cell_type": "markdown",
   "id": "6ab93e6e",
   "metadata": {},
   "source": [
    "온장의 개수는 공간의 가로와 세로를 타일 한 장의 길이로 나눈 몫을 곱한 값이다.\n",
    "\n",
    "```python\n",
    "num_full_width = width // tile_length\n",
    "num_full_height = height // tile_length\n",
    "\n",
    "num_full = num_full_width * num_full_height # 온장 타일 수\n",
    "```"
   ]
  },
  {
   "cell_type": "markdown",
   "id": "fd94b84c",
   "metadata": {},
   "source": [
    "잘라서 사용한 타일의 개수는 아래 두 경우의 조합에 따라 통 네 개의 경우가 발생한다.\n",
    "\n",
    "- 경우 1: 가로를 타일의 길이로 나눴을 때 나머지가 0인 경우\n",
    "- 경우 2: 세로는 타일의 길이로 나눴을 때 나머지가 0인 경우\n",
    "\n",
    "네 경우 각각에 따라 잘라서 사용한 타일의 개수가 달라진다."
   ]
  },
  {
   "cell_type": "markdown",
   "id": "d944803d",
   "metadata": {},
   "source": [
    "<div align=\"center\"><img src=\"https://raw.githubusercontent.com/codingalzi/pybook/master/jupyter-book/images/exc-functions-02.png\" style=\"width:600px\"></div>"
   ]
  },
  {
   "cell_type": "markdown",
   "id": "cfae928d",
   "metadata": {},
   "source": [
    "```python\n",
    "if width % tile_length == 0:\n",
    "    if height % tile_length == 0:     # 경우 (A)\n",
    "        num_part = 0\n",
    "    else:                             # 경우 (B)\n",
    "        num_part = num_full_width\n",
    "\n",
    "else:\n",
    "    if height % tile_length == 0:    # 경우 (C)\n",
    "        num_part = num_full_height\n",
    "    else:                            # 경우 (D)\n",
    "        num_part = num_full_width + num_full_height + 1\n",
    "```"
   ]
  },
  {
   "cell_type": "markdown",
   "id": "f9127599",
   "metadata": {},
   "source": [
    "코드를 정리해서 `tiling()` 함수를 다음과 같이 구현한다.\n",
    "셋째 인자 `tile_length=30`은 키워드 인자를 사용한다.\n",
    "즉, 타일의 크기는 30이 기본값이다."
   ]
  },
  {
   "cell_type": "code",
   "execution_count": 58,
   "id": "b329beff",
   "metadata": {},
   "outputs": [],
   "source": [
    "def tiling(width, height, tile_length=30):\n",
    "    num_full_width = width // tile_length\n",
    "    num_full_height = height // tile_length\n",
    "\n",
    "    # 온장 타일 개수\n",
    "    num_full = num_full_width * num_full_height\n",
    "\n",
    "    # 잘린 타일 개수\n",
    "    if width % tile_length == 0:\n",
    "        if height % tile_length == 0:\n",
    "            num_part = 0\n",
    "        else:\n",
    "            num_part = num_full_width\n",
    "\n",
    "    else:\n",
    "        if height % tile_length == 0:\n",
    "            num_part = num_full_height\n",
    "        else:\n",
    "            num_part = num_full_width + num_full_height + 1\n",
    "            \n",
    "    return num_full + num_part"
   ]
  },
  {
   "cell_type": "markdown",
   "id": "24744c39",
   "metadata": {},
   "source": [
    "셋째 인자를 지정하지 않으면 30이 대신 사용된다."
   ]
  },
  {
   "cell_type": "code",
   "execution_count": 59,
   "id": "39c64a1e",
   "metadata": {},
   "outputs": [
    {
     "data": {
      "text/plain": [
       "196"
      ]
     },
     "execution_count": 59,
     "metadata": {},
     "output_type": "execute_result"
    }
   ],
   "source": [
    "tiling(400, 400)"
   ]
  },
  {
   "cell_type": "markdown",
   "id": "83efa4a7",
   "metadata": {},
   "source": [
    "30을 지정해도 된다."
   ]
  },
  {
   "cell_type": "code",
   "execution_count": 60,
   "id": "29f7a561",
   "metadata": {},
   "outputs": [
    {
     "data": {
      "text/plain": [
       "196"
      ]
     },
     "execution_count": 60,
     "metadata": {},
     "output_type": "execute_result"
    }
   ],
   "source": [
    "tiling(400, 400, tile_length=30)"
   ]
  },
  {
   "cell_type": "markdown",
   "id": "44103bcc",
   "metadata": {},
   "source": [
    "타일의 크기를 35로 변경하려면 셋째 인자를 지정한다."
   ]
  },
  {
   "cell_type": "code",
   "execution_count": 61,
   "id": "9cf46708",
   "metadata": {},
   "outputs": [
    {
     "data": {
      "text/plain": [
       "144"
      ]
     },
     "execution_count": 61,
     "metadata": {},
     "output_type": "execute_result"
    }
   ],
   "source": [
    "tiling(400, 400, tile_length=35)"
   ]
  },
  {
   "cell_type": "markdown",
   "id": "5e40676e",
   "metadata": {},
   "source": [
    "## 예제"
   ]
  },
  {
   "cell_type": "markdown",
   "id": "fff19ed9",
   "metadata": {},
   "source": [
    "키와 몸무게를 인자로 받아 체질량지수(BMI)를 구하는 코드를 작성하여라.\n",
    "\n",
    "$$\\texttt{BMI} = \\frac{\\texttt{몸무게}}{\\texttt{키}^2}$$\n",
    "\n",
    "단, 몸무게는 킬로그램(kg) 을, 키는 미터(m)를 단위로 사용한다.\n",
    "또한 BMI 수치에 따른 체중 분류는 다음과 같다.\n",
    "\n",
    "| BMI 수치 | 체중 분류 |\n",
    "| :---: | :--- |\n",
    "| BMI <= 18.5 | 저체중 |\n",
    "| 18.5 < BMI <= 23 | 정상 |\n",
    "| 23 < BMI <= 25 | 과체중 |\n",
    "| 25 < BMI <= 30 | 비만 |\n",
    "| BMI > 30 | 고도비만 |\n",
    "\n",
    "입력:\n",
    "\n",
    "```python\n",
    "weight = 72   # 몸무게\n",
    "height = 178  # 키\n",
    "```\n",
    "\n",
    "출력:\n",
    "\n",
    "```python\n",
    "BMI는 정상 수치입니다.\n",
    "```"
   ]
  },
  {
   "cell_type": "code",
   "execution_count": 34,
   "id": "372476e0",
   "metadata": {},
   "outputs": [
    {
     "name": "stdout",
     "output_type": "stream",
     "text": [
      "몸무게를 입력하세요: 70\n",
      "키를 입력하세요: 178\n",
      "BMI는 정상 수치입니다.\n"
     ]
    }
   ],
   "source": [
    "weight = int(input(\"몸무게를 입력하세요: \"))\n",
    "height = int(input(\"키를 입력하세요: \"))\n",
    "\n",
    "BMI = weight / ((height*0.01)**2)\n",
    "\n",
    "if (BMI <= 18.5) :\n",
    "  print(\"BMI는 저체중입니다.\")\n",
    "elif (18.5 < BMI <= 23) :\n",
    "  print(\"BMI는 정상 수치입니다.\")\n",
    "elif (23 < BMI <= 25) :\n",
    "  print(\"BMI는 과체중입니다.\")\n",
    "elif (25 < BMI <= 30) :\n",
    "  print(\"BMI는 비만입니다.\")\n",
    "else :\n",
    "  print(\"BMI는 고도 비만입니다.\")"
   ]
  },
  {
   "cell_type": "markdown",
   "id": "e38e2861",
   "metadata": {},
   "source": [
    "**문제 2**"
   ]
  },
  {
   "cell_type": "markdown",
   "id": "e7d78b78",
   "metadata": {},
   "source": [
    "`time` 모듈에 UTC(Coordinated Universal Time)를 알려주는 `time()` 함수가 포함되어 있다.\n",
    "`time()` 함수는 일종의 컴퓨터 시간의 생일인 1970년 1월 1일을 기준으로 \n",
    "함수의 호출 순간까지 흐른 시간을 초 단위로 반환한다."
   ]
  },
  {
   "cell_type": "code",
   "execution_count": 3,
   "id": "8dea55a7",
   "metadata": {},
   "outputs": [
    {
     "name": "stdout",
     "output_type": "stream",
     "text": [
      "1648371613.0191061\n"
     ]
    }
   ],
   "source": [
    "import time\n",
    "x = time.time()\n",
    "\n",
    "print(x)"
   ]
  },
  {
   "cell_type": "code",
   "execution_count": 4,
   "id": "72cc29e4",
   "metadata": {
    "id": "Zy1oRDipLoZk"
   },
   "outputs": [],
   "source": [
    "# 아래 코드에서 pass 를 적절한 명령문으로, None 을 적절한 표현식으로 대체하라.\n",
    "\n",
    "def time_convert():\n",
    "    pass\n",
    "\n",
    "    return None"
   ]
  },
  {
   "cell_type": "code",
   "execution_count": 5,
   "id": "fe0f3f5d",
   "metadata": {
    "colab": {
     "base_uri": "https://localhost:8080/"
    },
    "executionInfo": {
     "elapsed": 591,
     "status": "ok",
     "timestamp": 1616980079158,
     "user": {
      "displayName": "HJ Kim",
      "photoUrl": "",
      "userId": "16634276932240017990"
     },
     "user_tz": -540
    },
    "id": "LoH5ptaxhPTh",
    "outputId": "203743fb-f4c4-486a-ab8c-c891cc24d1c9"
   },
   "outputs": [],
   "source": [
    "# 아래 코드의 주석 기호를 제거하고 실행하면 아래 모양의 결과가 나와야 한다.\n",
    "# '457875-29-17'\n",
    "\n",
    "# time_convert()"
   ]
  },
  {
   "cell_type": "markdown",
   "id": "fc695b76",
   "metadata": {},
   "source": [
    "**문제 3**"
   ]
  },
  {
   "cell_type": "markdown",
   "id": "f1072099",
   "metadata": {},
   "source": [
    "오늘의 요일을 확인하여 0에서 6 사이의 정수를 반환하는 함수\n",
    "`wday2num()` 함수를 구현하라.\n",
    "단, 다음 조건을 만족해야 한다.\n",
    "\n",
    "- 일(Sun), 월(Mon), 화(Tue), 수(Wed), 목(Thu), 금(Fri), 토(Sat) 순서대로 0, 1, 2, 3, 4, 5, 6 을 사용한다.\n",
    "- 하나의 매개변수 `wday` 를 사용하며, 키워드 인자로 `\"Sun\"`을 사용한다.\n",
    "- 지정된 `wday` 와 오늘의 요일이 일치하면 \n",
    "    해당 요일도 함께 튜플로 반환한다.\n",
    "    \n",
    "힌트: `time.ctime()` 함수 활용."
   ]
  },
  {
   "cell_type": "code",
   "execution_count": 7,
   "id": "b59b16a9",
   "metadata": {},
   "outputs": [
    {
     "data": {
      "text/plain": [
       "'Sun Mar 27 18:00:13 2022'"
      ]
     },
     "execution_count": 7,
     "metadata": {},
     "output_type": "execute_result"
    }
   ],
   "source": [
    "time.ctime()"
   ]
  },
  {
   "cell_type": "code",
   "execution_count": 8,
   "id": "231a0b69",
   "metadata": {},
   "outputs": [
    {
     "data": {
      "text/plain": [
       "'Sun Mar 27 18:00:13 2022'"
      ]
     },
     "execution_count": 8,
     "metadata": {},
     "output_type": "execute_result"
    }
   ],
   "source": [
    "time.ctime(time.time())"
   ]
  },
  {
   "cell_type": "code",
   "execution_count": 9,
   "id": "6d78f2bb",
   "metadata": {
    "id": "Zy1oRDipLoZk"
   },
   "outputs": [],
   "source": [
    "# 아래 코드에서 pass 를 적절한 명령문으로, None 을 적절한 표현식으로 대체하라.\n",
    "\n",
    "def wday2num(wday=None):\n",
    "    pass\n",
    "\n",
    "    return None"
   ]
  },
  {
   "cell_type": "code",
   "execution_count": 10,
   "id": "78c4e218",
   "metadata": {
    "id": "Zy1oRDipLoZk"
   },
   "outputs": [],
   "source": [
    "# wday2num(wday=\"Mon\")\n",
    "# wday2num(wday=\"Sun\")"
   ]
  },
  {
   "cell_type": "markdown",
   "id": "e6857870",
   "metadata": {},
   "source": [
    "**문제 4**"
   ]
  },
  {
   "cell_type": "markdown",
   "id": "af2ac26c",
   "metadata": {},
   "source": [
    "페르마의 마지막 정리는 정수 $n$ 이 2보다 클 때, \n",
    "아래 식을 만족하는 세 개의 양의 정수 $a$, $b$, $c$ 가 존재하지 않는다고 말한다.\n",
    "\n",
    "$$\n",
    "a^n + b^n = c^n \n",
    "$$\n",
    "\n",
    "$n$, $a$, $b$, $c$ 네 개의 값이 주어졌을 때 위 등식이 성립하는지 여부를 판단하는 함수\n",
    "`fermat()` 를 구현하라.\n",
    "단, 다음 조건을 만족해야 한다.\n",
    "\n",
    "- `n`, `a`, `b`, `c` 네 개의 매개변수를 사용한다.\n",
    "- `n` 에 2보다 같거나 작은 수가 인자로 사용되면 `False`를 반환한다.\n",
    "- `n` 에 2보다 큰 경우 위 식이 성립하면 `True`, 아니면 `False` 를 반환한다."
   ]
  },
  {
   "cell_type": "code",
   "execution_count": 11,
   "id": "6493e8ea",
   "metadata": {
    "id": "Zy1oRDipLoZk"
   },
   "outputs": [],
   "source": [
    "# 아래 코드에서 pass 를 적절한 명령문으로, None 을 적절한 표현식으로 대체하라.\n",
    "\n",
    "def fermat(n, a, b, c):\n",
    "    pass\n",
    "\n",
    "    return None"
   ]
  },
  {
   "cell_type": "code",
   "execution_count": 12,
   "id": "1d0150cc",
   "metadata": {
    "colab": {
     "base_uri": "https://localhost:8080/"
    },
    "executionInfo": {
     "elapsed": 591,
     "status": "ok",
     "timestamp": 1616980079158,
     "user": {
      "displayName": "HJ Kim",
      "photoUrl": "",
      "userId": "16634276932240017990"
     },
     "user_tz": -540
    },
    "id": "LoH5ptaxhPTh",
    "outputId": "203743fb-f4c4-486a-ab8c-c891cc24d1c9"
   },
   "outputs": [],
   "source": [
    "# 아래 코드의 주석 기호를 제거하고 실행했을 때 오류가 발생하지 않아야 함.\n",
    "\n",
    "# assert fermat(2, 3, 5, 7) == False\n",
    "# assert fermat(3, 17, 3, 22) == False"
   ]
  },
  {
   "cell_type": "markdown",
   "id": "8cbebd75",
   "metadata": {},
   "source": [
    "**문제 5**"
   ]
  },
  {
   "cell_type": "markdown",
   "id": "41bf63c4",
   "metadata": {},
   "source": [
    "세 개의 막대를 이용하여 삼각형을 만들 수 있는지 여부를 판단하는 함수\n",
    "`triangle()` 함수를 구현하라.\n",
    "단, 다음 조건을 만족해야 한다.\n",
    "\n",
    "- 세 개의 양의 정수를 입력받는다.\n",
    "- 삼각형을 만들 수 있으면 `True`, 아니면 `False`를 반환한다.\n",
    "\n",
    "힌트: 막대 하나의 길이가 다른 두 막대의 길이의 합보다 크면 삼각형을 만들 수 없다."
   ]
  },
  {
   "cell_type": "code",
   "execution_count": 13,
   "id": "7a11eb8b",
   "metadata": {
    "id": "Zy1oRDipLoZk"
   },
   "outputs": [],
   "source": [
    "# 아래 코드에서 pass 를 적절한 명령문으로, None 을 적절한 표현식으로 대체하라.\n",
    "\n",
    "def triangle(a, b, c):\n",
    "    pass\n",
    "\n",
    "    return None"
   ]
  },
  {
   "cell_type": "code",
   "execution_count": 14,
   "id": "97353a5c",
   "metadata": {
    "colab": {
     "base_uri": "https://localhost:8080/"
    },
    "executionInfo": {
     "elapsed": 591,
     "status": "ok",
     "timestamp": 1616980079158,
     "user": {
      "displayName": "HJ Kim",
      "photoUrl": "",
      "userId": "16634276932240017990"
     },
     "user_tz": -540
    },
    "id": "LoH5ptaxhPTh",
    "outputId": "203743fb-f4c4-486a-ab8c-c891cc24d1c9"
   },
   "outputs": [],
   "source": [
    "# 아래 코드의 주석 기호를 제거하고 실행했을 때 오류가 발생하지 않아야 함.\n",
    "\n",
    "# assert triangle(3, 5, 7) == True\n",
    "# assert triangle(17, 3, 22) == False"
   ]
  },
  {
   "cell_type": "markdown",
   "id": "c234a67f",
   "metadata": {},
   "source": [
    "**문제 6**"
   ]
  },
  {
   "cell_type": "markdown",
   "id": "c6c9afed",
   "metadata": {},
   "source": [
    "'racecar', '토마토', 'stats'와 같이 앞뒤를 뒤집어도 \n",
    "똑같은 문자열을 **회문**(palindrome)이라고 한다. \n",
    "문자열이 주어질 때, 그 문자열이 회문이면 `Success` 를, 아니면 `Fail` 을 반환하는 함수\n",
    "`palindrome()` 를 작성하여라.\n",
    "\n",
    "힌트: 문자열 인덱싱, 슬라이싱 활용"
   ]
  },
  {
   "cell_type": "code",
   "execution_count": 15,
   "id": "f96af980",
   "metadata": {
    "id": "Zy1oRDipLoZk"
   },
   "outputs": [],
   "source": [
    "# 아래 코드에서 pass 를 적절한 명령문으로, None 을 적절한 표현식으로 대체하라.\n",
    "\n",
    "def palindrome(aString):\n",
    "    pass\n",
    "\n",
    "    return None"
   ]
  },
  {
   "cell_type": "code",
   "execution_count": 16,
   "id": "65514e9f",
   "metadata": {
    "colab": {
     "base_uri": "https://localhost:8080/"
    },
    "executionInfo": {
     "elapsed": 591,
     "status": "ok",
     "timestamp": 1616980079158,
     "user": {
      "displayName": "HJ Kim",
      "photoUrl": "",
      "userId": "16634276932240017990"
     },
     "user_tz": -540
    },
    "id": "LoH5ptaxhPTh",
    "outputId": "203743fb-f4c4-486a-ab8c-c891cc24d1c9"
   },
   "outputs": [],
   "source": [
    "# 아래 코드의 주석 기호를 제거하고 실행했을 때 오류가 발생하지 않아야 함.\n",
    "\n",
    "# assert palindrome(\"racecar\") == \"Success\"\n",
    "# assert palindrome(\"tomato\") == \"Fail\"\n",
    "# assert palindrome(\"기러기\") == \"Success\"\n",
    "# assert palindrome(\"인싸 의사의 싸인\") == \"Success\"\n",
    "# assert palindrome(\"다시 합창합시다\") == \"Fail\""
   ]
  },
  {
   "cell_type": "markdown",
   "id": "f0925f3e",
   "metadata": {},
   "source": [
    "**문제 7**"
   ]
  },
  {
   "cell_type": "markdown",
   "id": "70737c8e",
   "metadata": {},
   "source": [
    "이전 문제의 `palindrome()` 함수가 문자열에 포함된 공백(space)을 무시하도록 수정하라."
   ]
  },
  {
   "cell_type": "code",
   "execution_count": 17,
   "id": "9e20c394",
   "metadata": {
    "id": "Zy1oRDipLoZk"
   },
   "outputs": [],
   "source": [
    "# 아래 코드에서 pass 를 적절한 명령문으로, None 을 적절한 표현식으로 대체하라.\n",
    "\n",
    "def palindrome(aString):\n",
    "    pass\n",
    "\n",
    "    return None"
   ]
  },
  {
   "cell_type": "code",
   "execution_count": 18,
   "id": "df098186",
   "metadata": {
    "colab": {
     "base_uri": "https://localhost:8080/"
    },
    "executionInfo": {
     "elapsed": 591,
     "status": "ok",
     "timestamp": 1616980079158,
     "user": {
      "displayName": "HJ Kim",
      "photoUrl": "",
      "userId": "16634276932240017990"
     },
     "user_tz": -540
    },
    "id": "LoH5ptaxhPTh",
    "outputId": "203743fb-f4c4-486a-ab8c-c891cc24d1c9"
   },
   "outputs": [],
   "source": [
    "# 아래 코드의 주석 기호를 제거하고 실행했을 때 오류가 발생하지 않아야 함.\n",
    "\n",
    "# assert palindrome(\"race car\") == \"Success\"\n",
    "# assert palindrome(\"tom ato\") == \"Fail\"\n",
    "# assert palindrome(\"인싸의사의 싸인\") == \"Success\"\n",
    "# assert palindrome(\"다시 합창합시다\") == \"Success\""
   ]
  }
 ],
 "metadata": {
  "kernelspec": {
   "display_name": "Python 3 (ipykernel)",
   "language": "python",
   "name": "python3"
  },
  "language_info": {
   "codemirror_mode": {
    "name": "ipython",
    "version": 3
   },
   "file_extension": ".py",
   "mimetype": "text/x-python",
   "name": "python",
   "nbconvert_exporter": "python",
   "pygments_lexer": "ipython3",
   "version": "3.11.4"
  }
 },
 "nbformat": 4,
 "nbformat_minor": 5
}
