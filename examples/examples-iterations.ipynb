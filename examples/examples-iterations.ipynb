{
 "cells": [
  {
   "cell_type": "markdown",
   "id": "2d03d247-e2d3-4afe-ab5e-83dc989ed62d",
   "metadata": {},
   "source": [
    "# (필수 예제) 반복문"
   ]
  },
  {
   "cell_type": "markdown",
   "id": "6c007457",
   "metadata": {
    "id": "akoVfOTao55r"
   },
   "source": [
    "## 예제"
   ]
  },
  {
   "cell_type": "markdown",
   "id": "cce118d6",
   "metadata": {
    "id": "j5Yd_UXFuSHE"
   },
   "source": [
    "0부터 100까지의 숫자 중에서 3 또는 7의 배수를 모두 더한 결과를\n",
    "다음과 같이 출력하는 프로그램을 작성하라.\n",
    "\n",
    "```\n",
    "0~100의 숫자 중 3의 배수와 7의 배수들의 합은 2208이다.\n",
    "```\n"
   ]
  },
  {
   "cell_type": "markdown",
   "id": "8f736040",
   "metadata": {
    "id": "akoVfOTao55r"
   },
   "source": [
    "## 예제"
   ]
  },
  {
   "cell_type": "markdown",
   "id": "b3e55f72",
   "metadata": {
    "id": "7zN5nuZEGlZS"
   },
   "source": [
    "자연수 n이 주어졌을 때, 1부터 n까지의 자연수 중에서 7의 배수이거나 7을 포함하는 수들의 합을\n",
    "계산하는 프로그램을 작성하여 n이 20일 때의 값을 확인하라.\n",
    "\n",
    "힌트: `for` 반복문, `range()` 함수"
   ]
  },
  {
   "cell_type": "markdown",
   "id": "78d4992c",
   "metadata": {
    "id": "akoVfOTao55r"
   },
   "source": [
    "## 예제"
   ]
  },
  {
   "cell_type": "markdown",
   "id": "f9523f8f",
   "metadata": {
    "id": "DL3G4F7CmkA1"
   },
   "source": [
    "자연수 n이 주어졌을 때, n의 약수를 모두 출력하는 프로그램을 작성하여 n이 24일 때\n",
    "다음과 같이 출력되록 하라.\n",
    "\n",
    "```\n",
    "24의 약수: 1 2 3 4 6 8 12 24 \n",
    "```\n",
    "\n",
    "힌트: `for` 반복문, `range()` 함수, `print()` 함수의 `end` 키워드 인자"
   ]
  },
  {
   "cell_type": "markdown",
   "id": "6b4cd828",
   "metadata": {
    "id": "akoVfOTao55r"
   },
   "source": [
    "## 예제"
   ]
  },
  {
   "cell_type": "markdown",
   "id": "cabb0921",
   "metadata": {
    "id": "KSHjiCE0nlrM"
   },
   "source": [
    "`while` 반복문을 이용하여 정수들을 나누어 몫을 구하는 프로그램을 구현한 후에 43을 7로 나눴을 때의 몫을 계산하라. \n",
    "단, 아래 주어진 변수들을 이용한다."
   ]
  },
  {
   "cell_type": "markdown",
   "id": "414f2f2d",
   "metadata": {},
   "source": [
    "```python\n",
    "number = 43\n",
    "divisor = 7\n",
    "answer = 0 # 몫이 담길 변수\n",
    "```"
   ]
  },
  {
   "cell_type": "markdown",
   "id": "cafd5ce2",
   "metadata": {
    "id": "akoVfOTao55r"
   },
   "source": [
    "## 예제"
   ]
  },
  {
   "cell_type": "markdown",
   "id": "6da0885b",
   "metadata": {
    "id": "akoVfOTao55r"
   },
   "source": [
    "아래 실행결과가 나오는 프로그램을 작성하고자 한다.\n",
    "\n",
    "```\n",
    "안녕하세요.\n",
    "안녕하세요.\n",
    "안녕하세요.\n",
    "안녕하세요.\n",
    "안녕하세요.\n",
    "```"
   ]
  },
  {
   "cell_type": "markdown",
   "id": "543d1920",
   "metadata": {},
   "source": [
    "(1) `while` 반복문을 이용하라."
   ]
  },
  {
   "cell_type": "markdown",
   "id": "50cd028b",
   "metadata": {
    "id": "gKYsYYfapdXC"
   },
   "source": [
    "(2) `for` 반복문을 이용하라."
   ]
  },
  {
   "cell_type": "markdown",
   "id": "0529a7ad",
   "metadata": {
    "id": "akoVfOTao55r"
   },
   "source": [
    "## 예제"
   ]
  },
  {
   "cell_type": "markdown",
   "id": "74a8ec99",
   "metadata": {
    "id": "LyuZlArmhYVe"
   },
   "source": [
    "369게임은 자연수 n이 주어졌을 때 1부터 n까지의 자연수를\n",
    "다음 규칙에 따라 출력한다.\n",
    "\n",
    "* 3의 배수이거나 3을 포함하는 경우, 해당하는 수를 출력하는 대신 문자열 `짝`을 출력\n",
    "* 나머지 수는 그대로 출력\n",
    "\n",
    "예를 들어, n이 10인 경우 다음과 같이 출력된다.\n",
    "\n",
    "```\n",
    "1 2 짝 4 5 짝 7 8 짝 10\n",
    "```\n",
    "\n",
    "369게임을 진행하는 프로그램을 구현하여 n이 30일 때의 출력 결과를 확인하라.\n",
    "\n",
    "힌트: `for` 반복문, `%` 연산자, `in` 연산자, `str()` 함수, `print()` 함수의 `end` 키워드 인자"
   ]
  },
  {
   "cell_type": "markdown",
   "id": "d5dc0842",
   "metadata": {
    "id": "akoVfOTao55r"
   },
   "source": [
    "## 예제"
   ]
  },
  {
   "cell_type": "markdown",
   "id": "e19706c0",
   "metadata": {
    "id": "FEiLOk0rkCpe"
   },
   "source": [
    "다음은 369게임의 수정된 규칙이다.\n",
    "\n",
    "* 3의 배수이거나 3을 포함하는 경우, 해당하는 수를 출력하는 대신 문자열 `짝`을 출력\n",
    "* 3의 배수이면서 3을 포함하는 경우, 해당하는 수를 출력하는 대신 문자열 `짝짝`을 출력\n",
    "* 나머지 수는 그대로 출력\n",
    "* 마지막에 `짝`이 몇 번 나왔는지 출력\n",
    "\n",
    "예를 들어, n이 10인 경우 다음과 같이 출력된다.\n",
    "\n",
    "```\n",
    "1 2 짝짝 4 5 짝 7 8 짝 10\n",
    "횟수: 4 번\n",
    "```\n",
    "\n",
    "369게임을 진행하는 프로그램을 구현하여 n이 30일 때의 출력 결과를 확인하라.\n",
    "\n",
    "힌트: `for` 반복문, `%` 연산자, `in` 연산자, `str()` 함수, `print()` 함수의 `end` 키워드 인자"
   ]
  },
  {
   "cell_type": "code",
   "execution_count": null,
   "id": "343b9abf",
   "metadata": {},
   "outputs": [],
   "source": []
  },
  {
   "cell_type": "code",
   "execution_count": null,
   "id": "bbe51430",
   "metadata": {},
   "outputs": [],
   "source": []
  },
  {
   "cell_type": "markdown",
   "id": "ee89a13c",
   "metadata": {},
   "source": [
    "## 예제"
   ]
  },
  {
   "cell_type": "markdown",
   "id": "27c3deba",
   "metadata": {},
   "source": [
    "- `break`와 `continue`를 이용한 예제 만들 것.\n",
    "\n",
    "- 5장 함수의 필수 예제와 연습문제에서 사용된 `while` 반복문 문제를 활용할 수도 있음."
   ]
  },
  {
   "cell_type": "markdown",
   "id": "5561dbff",
   "metadata": {},
   "source": [
    "**`break` 명령문과 `for` 반복문**"
   ]
  },
  {
   "cell_type": "markdown",
   "id": "60ffdaf4",
   "metadata": {},
   "source": [
    "반복문이 실행되다가 `break` 명령문에 다다르는 순간 실행중인 반복문이 바로 종료된다."
   ]
  },
  {
   "cell_type": "markdown",
   "id": "60d06a8b",
   "metadata": {},
   "source": [
    "예를 들어, 아래 코드는 정수 `n`이 소수인지 아닌지 여부를 판단한다.\n",
    "양의 정수가 소수가 되려면 2보다 크고 자신보다 작은 모든 정수에 대해 배수가 아니어야 한다.\n",
    "이 사실을 확인하기 위해 `for` 반복문을 이용한다.\n",
    "\n",
    "- `is_prime` 변수: 처음에 `True`를 가리키다가 `n`을 나누는 2보다 큰 정수가 확인되는 순간 \n",
    "    `False`로 변하게 되어 `n`이 소수가 아님을 기억한다.\n",
    "\n",
    "- `break` 명령문: `n`이 어떤 수의 배수가 되는 순간, 즉 소수가 아님이 밝혀지는 순간 \n",
    "    실행되어 `for` 반복문이 종료되도록 한다.\n",
    "    \n",
    "하지만 `break` 명령문이 실행되지 않았다면 이는 `is_prime` 변수가 계속해서 `True`를\n",
    "가리키기에 최종적으로 `n`이 소수임을 확인하는 문장이 출력된다."
   ]
  },
  {
   "cell_type": "markdown",
   "id": "2d749ff4",
   "metadata": {},
   "source": [
    "- 7은 소수: `for` 반복문에 포함된 `break` 명령문이 실행되지 않음."
   ]
  },
  {
   "cell_type": "code",
   "execution_count": 43,
   "id": "ad371ff2",
   "metadata": {},
   "outputs": [
    {
     "name": "stdout",
     "output_type": "stream",
     "text": [
      "- 7 은(는) 소수다.\n"
     ]
    }
   ],
   "source": [
    "n = 7\n",
    "\n",
    "is_prime = True # 이 값이 계속 유지되면 소수임\n",
    "\n",
    "for x in range(2, n):\n",
    "    if n % x == 0:\n",
    "        is_prime = False\n",
    "        print(\"-\", n, \"=\", x, \"*\", n//x, end=\", \")\n",
    "        print(\"따라서\", n, \"은(는) 소수가 아니다.\")\n",
    "        break\n",
    "\n",
    "if is_prime:\n",
    "    print(\"-\", n, \"은(는) 소수다.\")"
   ]
  },
  {
   "cell_type": "markdown",
   "id": "612233e4",
   "metadata": {},
   "source": [
    "- 6은 소수 아님: 6이 2의 배수임이 확인되는 순간 지정된 문장을 출력하고 `break` 명령문에 의해 `for` 반복문이 종료됨."
   ]
  },
  {
   "cell_type": "code",
   "execution_count": 42,
   "id": "f5302094",
   "metadata": {},
   "outputs": [
    {
     "name": "stdout",
     "output_type": "stream",
     "text": [
      "- 6 = 2 * 3, 따라서 6 은(는) 소수가 아니다.\n"
     ]
    }
   ],
   "source": [
    "n = 6\n",
    "\n",
    "is_prime = True # 이 값이 계속 유지되면 소수임\n",
    "\n",
    "for x in range(2, n):\n",
    "    if n % x == 0:\n",
    "        is_prime = False\n",
    "        print(\"-\", n, \"=\", x, \"*\", n//x, end=\", \")\n",
    "        print(\"따라서\", n, \"은(는) 소수가 아니다.\")\n",
    "        break\n",
    "\n",
    "if is_prime:\n",
    "    print(\"-\", n, \"은(는) 소수다.\")"
   ]
  },
  {
   "cell_type": "markdown",
   "id": "fd81e8c8",
   "metadata": {},
   "source": [
    "**`break` 명령문과 `while` 반복문**"
   ]
  },
  {
   "cell_type": "markdown",
   "id": "0bcafcca",
   "metadata": {},
   "source": [
    "`break` 명령문은 `while` 반복문에서 사용될 때에도 기능은 동일하다.\n",
    "즉 `break` 명령문이 실행되는 순간 `while` 반복문의 실행이 종료된다.\n",
    "\n",
    "예를 들어 아래 코드는 앞서 소개한 \"수 알아맞히기 게임\" 코드를 조금 수정해서\n",
    "사용자가 게임 실행중에 아무 때나 반복문의 실행을 종료하는 기능을 추가하였다.\n",
    "추가된 코드는 다음과 같다.\n",
    "\n",
    "```python\n",
    "if guess == 0:\n",
    "    break\n",
    "```\n",
    "\n",
    "즉, 사용자가 0을 입력하고 <kbd>Enter</kbd>키를 누르면\n",
    "반복문의 실행이 바로 종료되고\n",
    "코드에 남은 이후의 명령문이 실행된다."
   ]
  },
  {
   "cell_type": "code",
   "execution_count": 48,
   "id": "23b44dae",
   "metadata": {},
   "outputs": [
    {
     "name": "stdout",
     "output_type": "stream",
     "text": [
      "수 알아맞히기 게임에 환영합니다.\n",
      "1부터 100 사이의 정수 하나를 입력하세요: 0\n",
      "게임 종료!\n"
     ]
    }
   ],
   "source": [
    "print(\"수 알아맞히기 게임에 환영합니다.\")\n",
    "\n",
    "secret = 17\n",
    "guess = -1   # 이어지는 while 반복문이 최소 한 번은 실행되도록 함\n",
    "\n",
    "while guess != secret:\n",
    "    guess = int(input(\"1부터 100 사이의 정수 하나를 입력하세요: \"))\n",
    "    \n",
    "    if guess == 0:       # 0이 입력되면 반복문 실행 종료\n",
    "        break\n",
    "        \n",
    "    if guess == secret:\n",
    "        print(\"맞았습니다!\")\n",
    "    elif guess > secret:\n",
    "        print(\"너무 커요!\")\n",
    "    else:\n",
    "        print(\"너무 작아요!\")\n",
    "\n",
    "print(\"게임 종료!\")"
   ]
  },
  {
   "cell_type": "markdown",
   "id": "ee04b867",
   "metadata": {},
   "source": [
    "**`break`/`continue` 명령문의 영향 범위**"
   ]
  },
  {
   "cell_type": "markdown",
   "id": "68957d79",
   "metadata": {},
   "source": [
    "`for` 또는 `while` 반복문이 중첩되어 사용되었을 때 \n",
    "내부의 `for`/`while` 반복문에 포함된 `break` 명령문이 실행되면\n",
    "해당 `for`/`while` 반복문만 종료된다."
   ]
  },
  {
   "cell_type": "markdown",
   "id": "7f74e560",
   "metadata": {},
   "source": [
    "예제:"
   ]
  },
  {
   "cell_type": "code",
   "execution_count": 1,
   "id": "faece91a",
   "metadata": {},
   "outputs": [
    {
     "name": "stdout",
     "output_type": "stream",
     "text": [
      "(0, 0)\n",
      "(1, 0)\n",
      "(1, 1)\n",
      "(2, 0)\n",
      "(2, 1)\n",
      "(2, 2)\n",
      "(3, 0)\n",
      "(3, 1)\n",
      "(3, 2)\n",
      "(3, 3)\n"
     ]
    }
   ],
   "source": [
    "for i in range(4):\n",
    "    for j in range(4):\n",
    "        if j > i:\n",
    "            break\n",
    "        print((i, j))"
   ]
  },
  {
   "cell_type": "code",
   "execution_count": 2,
   "id": "4d0a39bf",
   "metadata": {},
   "outputs": [
    {
     "name": "stdout",
     "output_type": "stream",
     "text": [
      "(0, 0)\n",
      "(1, 0)\n",
      "(1, 1)\n",
      "(2, 0)\n",
      "(2, 1)\n",
      "(2, 2)\n",
      "(3, 0)\n",
      "(3, 1)\n",
      "(3, 2)\n",
      "(3, 3)\n"
     ]
    }
   ],
   "source": [
    "for i in range(4):\n",
    "    for j in range(4):\n",
    "        if j > i:\n",
    "            continue\n",
    "        print((i, j))"
   ]
  },
  {
   "cell_type": "markdown",
   "id": "662b7f57",
   "metadata": {},
   "source": [
    "예제:\n",
    "\n",
    "아래 코드는 2부터 10까지의 정수를 대상으로 소수 여부를 확인해준다.\n",
    "그런데 2부터 10까지를 대상으로 하는 외부 `for` 반복문은 `break`와 상관없이 모든 경우를 처리한다."
   ]
  },
  {
   "cell_type": "code",
   "execution_count": 41,
   "id": "859c8d1a",
   "metadata": {},
   "outputs": [
    {
     "name": "stdout",
     "output_type": "stream",
     "text": [
      "- 2 은(는) 소수다.\n",
      "- 3 은(는) 소수다.\n",
      "- 4 = 2 * 2, 따라서 4 은(는) 소수가 아니다.\n",
      "- 5 은(는) 소수다.\n",
      "- 6 = 2 * 3, 따라서 6 은(는) 소수가 아니다.\n",
      "- 7 은(는) 소수다.\n",
      "- 8 = 2 * 4, 따라서 8 은(는) 소수가 아니다.\n",
      "- 9 = 3 * 3, 따라서 9 은(는) 소수가 아니다.\n",
      "- 10 = 2 * 5, 따라서 10 은(는) 소수가 아니다.\n"
     ]
    }
   ],
   "source": [
    "for n in range(2, 11):\n",
    "    is_prime = True # 이 값이 계속 유지되면 소수임\n",
    "\n",
    "    for x in range(2, n):\n",
    "        if n % x == 0:\n",
    "            is_prime = False\n",
    "            print(\"-\", n, \"=\", x, \"*\", n//x, end=\", \")\n",
    "            print(\"따라서\", n, \"은(는) 소수가 아니다.\")\n",
    "            break\n",
    "\n",
    "    if is_prime:\n",
    "        print(\"-\", n, \"은(는) 소수다.\")"
   ]
  },
  {
   "cell_type": "markdown",
   "id": "97a7e374",
   "metadata": {},
   "source": [
    "아래 경우는?"
   ]
  },
  {
   "cell_type": "code",
   "execution_count": 1,
   "id": "cc903d55",
   "metadata": {},
   "outputs": [
    {
     "name": "stdout",
     "output_type": "stream",
     "text": [
      "- 2 은(는) 소수다.\n"
     ]
    }
   ],
   "source": [
    "for n in range(2, 11):\n",
    "    is_prime = True # 이 값이 계속 유지되면 소수임\n",
    "\n",
    "    for x in range(2, n):\n",
    "        if n % x == 0:\n",
    "            is_prime = False\n",
    "            print(\"-\", n, \"=\", x, \"*\", n//x, end=\", \")\n",
    "            print(\"따라서\", n, \"은(는) 소수가 아니다.\")\n",
    "            break\n",
    "\n",
    "    if is_prime:\n",
    "        print(\"-\", n, \"은(는) 소수다.\")\n",
    "        \n",
    "    break"
   ]
  },
  {
   "cell_type": "markdown",
   "id": "a7a0b20d",
   "metadata": {},
   "source": [
    "아래 코드는?"
   ]
  },
  {
   "cell_type": "code",
   "execution_count": 3,
   "id": "211ce237",
   "metadata": {},
   "outputs": [
    {
     "name": "stdout",
     "output_type": "stream",
     "text": [
      "- 2 은(는) 소수다.\n",
      "- 3 은(는) 소수다.\n",
      "- 5 은(는) 소수다.\n",
      "- 7 은(는) 소수다.\n"
     ]
    }
   ],
   "source": [
    "for n in range(2, 11):\n",
    "    is_prime = True # 이 값이 계속 유지되면 소수임\n",
    "\n",
    "    for x in range(2, n):\n",
    "        if n % x == 0:\n",
    "            is_prime = False\n",
    "            continue\n",
    "            \n",
    "    if is_prime:\n",
    "        print(\"-\", n, \"은(는) 소수다.\")"
   ]
  },
  {
   "cell_type": "markdown",
   "id": "51278535",
   "metadata": {},
   "source": [
    "아래 코드는?"
   ]
  },
  {
   "cell_type": "code",
   "execution_count": 4,
   "id": "2afedf03",
   "metadata": {},
   "outputs": [
    {
     "name": "stdout",
     "output_type": "stream",
     "text": [
      "- 2 은(는) 소수다.\n",
      "- 3 은(는) 소수다.\n",
      "- 5 은(는) 소수다.\n",
      "- 7 은(는) 소수다.\n"
     ]
    }
   ],
   "source": [
    "for n in range(2, 10):\n",
    "    is_prime = True # 이 값이 계속 유지되면 소수임\n",
    "\n",
    "    for x in range(2, n):\n",
    "        if n % x == 0:\n",
    "            is_prime = False\n",
    "            continue\n",
    "\n",
    "    if is_prime:\n",
    "        print(\"-\", n, \"은(는) 소수다.\")"
   ]
  },
  {
   "cell_type": "markdown",
   "id": "803cddbd",
   "metadata": {},
   "source": [
    "**`continue` 명령문과 `while` 반복문**"
   ]
  },
  {
   "cell_type": "markdown",
   "id": "68d8b9c4",
   "metadata": {},
   "source": [
    "`while` 반복문의 본문을 실행하다가 `continue` 명령문 차례가 되는 순간\n",
    "바로 다시 `while` 반복문의 처음으로 되돌아 간다.\n",
    "\n",
    "예를 들어 아래 코드는 0보자 작거나 100보다 큰 정수를 입력하면 아래 `if` 조건문에 의해\n",
    "`while guess != secret`로 돌아가서 반복문을 다시 처음부터 실행한다.\n",
    " \n",
    "```python\n",
    "if guess < 0 or guess > 100:\n",
    "    continue\n",
    "```\n",
    "\n",
    "실제로 0 미만 100 초과 값을 세 번 입력한 후에 0을 입력한 결과는 다음과 같다."
   ]
  },
  {
   "cell_type": "code",
   "execution_count": 53,
   "id": "16974978",
   "metadata": {},
   "outputs": [
    {
     "name": "stdout",
     "output_type": "stream",
     "text": [
      "수 알아맞히기 게임에 환영합니다.\n",
      "1부터 100 사이의 정수 하나를 입력하세요: 200\n",
      "1부터 100 사이의 정수 하나를 입력하세요: 140\n",
      "1부터 100 사이의 정수 하나를 입력하세요: -30\n",
      "1부터 100 사이의 정수 하나를 입력하세요: 0\n",
      "게임 종료!\n"
     ]
    }
   ],
   "source": [
    "print(\"수 알아맞히기 게임에 환영합니다.\")\n",
    "\n",
    "secret = 17\n",
    "guess = -1   # 이어지는 while 반복문이 최소 한 번은 실행되도록 함\n",
    "\n",
    "while guess != secret:\n",
    "    guess = int(input(\"1부터 100 사이의 정수 하나를 입력하세요: \"))\n",
    "    \n",
    "    if guess < 0 or guess > 100:   # 0 미만, 100 초과의 값이 입력되면 다시 값을 입력 받도록 함\n",
    "        continue\n",
    "        \n",
    "    if guess == 0:       # 0이 입력되면 반복문 실행 종료\n",
    "        break\n",
    "\n",
    "    if guess == secret:\n",
    "        print(\"맞았습니다!\")\n",
    "    elif guess > secret:\n",
    "        print(\"너무 커요!\")\n",
    "    else:\n",
    "        print(\"너무 작아요!\")\n",
    "\n",
    "print(\"게임 종료!\")"
   ]
  },
  {
   "cell_type": "markdown",
   "id": "d832401b",
   "metadata": {
    "colab_type": "text",
    "id": "Cx5xkJZv3FpY"
   },
   "source": [
    "## 예제"
   ]
  },
  {
   "cell_type": "code",
   "execution_count": 14,
   "id": "164b460f",
   "metadata": {},
   "outputs": [
    {
     "name": "stdout",
     "output_type": "stream",
     "text": [
      "짝수 2을(를) 찾았다.\n",
      "2을(를) 찾았다.\n",
      "3을(를) 찾았다.\n",
      "짝수 4을(를) 찾았다.\n",
      "4을(를) 찾았다.\n",
      "5을(를) 찾았다.\n",
      "짝수 6을(를) 찾았다.\n",
      "6을(를) 찾았다.\n",
      "7을(를) 찾았다.\n",
      "짝수 8을(를) 찾았다.\n",
      "8을(를) 찾았다.\n",
      "9을(를) 찾았다.\n"
     ]
    }
   ],
   "source": [
    "for num in range(2, 10):\n",
    "    if num % 2 == 0:\n",
    "        print(f\"짝수 {num}을(를) 찾았다.\")\n",
    "    print(f\"{num}을(를) 찾았다.\")"
   ]
  },
  {
   "cell_type": "markdown",
   "id": "cacd3be1",
   "metadata": {},
   "source": [
    "## 예제"
   ]
  },
  {
   "cell_type": "markdown",
   "id": "8912d6a7",
   "metadata": {
    "id": "e9ipuJUbWzxo"
   },
   "source": [
    "자연수 인자의 약수로 구성된 리스트를 반환하는 함수를 구현하라."
   ]
  },
  {
   "cell_type": "markdown",
   "id": "0fb1b7e4",
   "metadata": {},
   "source": [
    "주의사항: 아래 코드를 함수로 만들것."
   ]
  },
  {
   "cell_type": "code",
   "execution_count": null,
   "id": "d04875eb",
   "metadata": {
    "colab": {
     "base_uri": "https://localhost:8080/"
    },
    "executionInfo": {
     "elapsed": 3367,
     "status": "ok",
     "timestamp": 1616043949680,
     "user": {
      "displayName": "HJ Kim",
      "photoUrl": "",
      "userId": "16634276932240017990"
     },
     "user_tz": -540
    },
    "id": "9LyiFQJUWL_R",
    "outputId": "c867ef87-fd88-4eb3-8f0c-94bed1f41bf6"
   },
   "outputs": [
    {
     "name": "stdout",
     "output_type": "stream",
     "text": [
      "자연수를 입력하세요 : 6\n",
      "1\n",
      "2\n",
      "3\n",
      "6\n"
     ]
    }
   ],
   "source": [
    "num4 = int(input(\"자연수를 입력하세요 : \"))\n",
    "\n",
    "for i in range(1, num4 + 1) :\n",
    "    if num4 % i == 0:\n",
    "        print(i)"
   ]
  },
  {
   "cell_type": "code",
   "execution_count": null,
   "id": "b7d2712a",
   "metadata": {},
   "outputs": [],
   "source": []
  },
  {
   "cell_type": "markdown",
   "id": "9909a5d0",
   "metadata": {},
   "source": [
    "**문제 1**"
   ]
  },
  {
   "cell_type": "markdown",
   "id": "028c32ae",
   "metadata": {},
   "source": [
    "1부터 9 사이의 자연수 `n`을 입력 받아 구구단에서 `n`단을 아래 형식으로 출력하는 코드를 작성한다.\n",
    "예를 들어 3을 입력하면 3단을 다음과 같이 출력력한다.\n",
    "\n",
    "```\n",
    "3 * 2 = 6\n",
    "3 * 3 = 9\n",
    "3 * 4 = 12\n",
    "3 * 5 = 15\n",
    "3 * 6 = 18\n",
    "3 * 7 = 21\n",
    "3 * 8 = 24\n",
    "3 * 9 = 27\n",
    "```\n",
    "\n",
    "힌트: 2부터 9로 구성된 리스트와 `for` 반복문 활용. 또는 `while` 반복문과 변수 업데이트 활용"
   ]
  },
  {
   "cell_type": "markdown",
   "id": "9f736d25",
   "metadata": {},
   "source": [
    "모범답안:"
   ]
  },
  {
   "cell_type": "markdown",
   "id": "2598f936",
   "metadata": {},
   "source": [
    "- `for` 반복문 활용"
   ]
  },
  {
   "cell_type": "markdown",
   "id": "abea2d85",
   "metadata": {},
   "source": [
    "입력값을 이용하여 구구단을 출력하려면 2부터 9까지의 값이\n",
    "필요하여 이를 위해 아래 리스트를 미리 변수에 할당한다."
   ]
  },
  {
   "cell_type": "code",
   "execution_count": 3,
   "id": "ca11b7df",
   "metadata": {},
   "outputs": [],
   "source": [
    "two2nine = [2, 3, 4, 5, 6, 7, 8, 9]"
   ]
  },
  {
   "cell_type": "markdown",
   "id": "5e722547",
   "metadata": {},
   "source": [
    "위 리스트를 이용하여 `for` 반복문을 다음과 같이 작성한다.\n",
    "`print()`는 실행될 때마다 줄바꿈이 자동으로 진행됨에 주의한다."
   ]
  },
  {
   "cell_type": "code",
   "execution_count": 2,
   "id": "449a7aa0",
   "metadata": {},
   "outputs": [
    {
     "name": "stdout",
     "output_type": "stream",
     "text": [
      "1에서 9 사이의 자연수 입력: 3\n",
      "3 * 2 = 6\n",
      "3 * 3 = 9\n",
      "3 * 4 = 12\n",
      "3 * 5 = 15\n",
      "3 * 6 = 18\n",
      "3 * 7 = 21\n",
      "3 * 8 = 24\n",
      "3 * 9 = 27\n"
     ]
    }
   ],
   "source": [
    "n = int(input(\"1에서 9 사이의 자연수 입력: \"))\n",
    "\n",
    "for item in [2, 3, 4, 5, 6, 7, 8, 9]:\n",
    "    print(n, '*', item, '=', n*item)"
   ]
  },
  {
   "cell_type": "markdown",
   "id": "2a71aeae",
   "metadata": {},
   "source": [
    "- `while` 반복문 활용"
   ]
  },
  {
   "cell_type": "markdown",
   "id": "aab501f4",
   "metadata": {},
   "source": [
    "앞서 `for` 반복문에서 사용된 `item` 변수는 \n",
    "`for` 반복문의 실행될 때\n",
    "2부터 시작해서 차례대로 9까지 할당받는다.\n",
    "이점에 착안해서\n",
    "2부터 시작해서 `while` 반복문의 본문이 실행될 때마다 1씩 커지는\n",
    "방식으로 업데이트되는 변수를 활용한다.\n",
    "\n",
    "아래 코드에서 변수 `num`이 이전 코드에서의 `item` 변수의 역할을 수행한다."
   ]
  },
  {
   "cell_type": "code",
   "execution_count": 5,
   "id": "7aeca112",
   "metadata": {},
   "outputs": [
    {
     "name": "stdout",
     "output_type": "stream",
     "text": [
      "1에서 9 사이의 자연수 입력: 3\n",
      "3 * 2 = 6\n",
      "3 * 3 = 9\n",
      "3 * 4 = 12\n",
      "3 * 5 = 15\n",
      "3 * 6 = 18\n",
      "3 * 7 = 21\n",
      "3 * 8 = 24\n",
      "3 * 9 = 27\n"
     ]
    }
   ],
   "source": [
    "n = int(input(\"1에서 9 사이의 자연수 입력: \"))\n",
    "\n",
    "num = 2\n",
    "while num < 10:\n",
    "    print(n, '*', num, '=', n*num)\n",
    "    num += 1"
   ]
  },
  {
   "cell_type": "markdown",
   "id": "cfe0b9cd",
   "metadata": {},
   "source": [
    "**문제 1**"
   ]
  },
  {
   "cell_type": "markdown",
   "id": "df1ed4a2",
   "metadata": {},
   "source": [
    "양의 정수가 입력되면 1 부터 n 까지의 정수의 합을 구하는 `sum_n()` 함수를 구현하라."
   ]
  },
  {
   "cell_type": "code",
   "execution_count": 1,
   "id": "adc83a94",
   "metadata": {},
   "outputs": [],
   "source": [
    "# pass 와 None 을 각각 적절한 명령문과 반환값으로 대체하라.\n",
    "\n",
    "def sum_n(n):\n",
    "    pass\n",
    "\n",
    "    return None"
   ]
  },
  {
   "cell_type": "code",
   "execution_count": 2,
   "id": "07d8fadc",
   "metadata": {},
   "outputs": [],
   "source": [
    "# 주석기호를 제거하고 실행할 때 오류가 발생하지 않아야 한다.\n",
    "\n",
    "# assert sum_n(3) == 6\n",
    "# assert sum_n(5) == 15\n",
    "# assert sum_n(10) == 55"
   ]
  },
  {
   "cell_type": "markdown",
   "id": "7e7c231a",
   "metadata": {},
   "source": [
    "**문제 2**"
   ]
  },
  {
   "cell_type": "markdown",
   "id": "61c09282",
   "metadata": {},
   "source": [
    "양의 정수가 입력되면 1 부터 n 까지의 정수의 제곱의 합을 구하는 `square_sum()` 함수를 구현하라."
   ]
  },
  {
   "cell_type": "code",
   "execution_count": 3,
   "id": "97b66fb7",
   "metadata": {},
   "outputs": [],
   "source": [
    "# pass 와 None 을 각각 적절한 명령문과 반환값으로 대체하라.\n",
    "\n",
    "def square_sum(n):\n",
    "    pass\n",
    "\n",
    "    return None"
   ]
  },
  {
   "cell_type": "code",
   "execution_count": 4,
   "id": "f8d8994e",
   "metadata": {},
   "outputs": [],
   "source": [
    "# 주석기호를 제거하고 실행할 때 오류가 발생하지 않아야 한다.\n",
    "\n",
    "# assert square_sum(1) == 1\n",
    "# assert square_sum(3) == 14\n",
    "# assert square_sum(5) == 55"
   ]
  },
  {
   "cell_type": "markdown",
   "id": "c8f0287d",
   "metadata": {},
   "source": [
    "**문제 3**"
   ]
  },
  {
   "cell_type": "markdown",
   "id": "816111e8",
   "metadata": {},
   "source": [
    "양의 정수가 입력되면 1 부터 n 까지의 정수의 제곱의 합을 \n",
    "음의 정수가 입력되면 n 부터 -n 까지의 정수의 제곱의 합을 구하는 `square_sum_abs()` 함수를 구현하라."
   ]
  },
  {
   "cell_type": "code",
   "execution_count": 5,
   "id": "dfb05d2c",
   "metadata": {},
   "outputs": [],
   "source": [
    "# pass 와 None 을 각각 적절한 명령문과 반환값으로 대체하라.\n",
    "\n",
    "def square_sum_abs(n):\n",
    "    pass\n",
    "\n",
    "    return None"
   ]
  },
  {
   "cell_type": "code",
   "execution_count": 6,
   "id": "804a87b1",
   "metadata": {},
   "outputs": [],
   "source": [
    "# 주석기호를 제거하고 실행할 때 오류가 발생하지 않아야 한다.\n",
    "\n",
    "# assert square_sum_abs(-1) == 2\n",
    "# assert square_sum_abs(-3) == 28\n",
    "# assert square_sum_abs(5) == 55\n",
    "# assert square_sum_abs(-5) == 110"
   ]
  },
  {
   "cell_type": "markdown",
   "id": "9287aea1",
   "metadata": {},
   "source": [
    "**문제 4**"
   ]
  },
  {
   "cell_type": "markdown",
   "id": "4bbf0706",
   "metadata": {},
   "source": [
    "얌체공을 높은 곳에서 놓아 자연낙하 시키면 바닥에 닿을 때마다 원래 높이의 2/3 만큼 튀어 오른다.\n",
    "하지만 바닥으로부터 1 cm 이하 높이가 되면 더 이상 튀어오르지 않는다.\n",
    "\n",
    "얌체공을 n cm 높이에서 자유낙하 시키면 더 이상 튀어오르지 않을 때까지 튀어오른 공의 높이를 모두 \n",
    "합한 결과를 반환하는 `bouncy()` 함수를 구현하라.\n",
    "단, 반환값은 소숫점 이하 셋째자리에서 반올림한다.\n",
    "\n",
    "힌트: [`round()` 함수](https://www.w3schools.com/python/ref_func_round.asp) 참고"
   ]
  },
  {
   "cell_type": "code",
   "execution_count": 7,
   "id": "0a2d3a78",
   "metadata": {},
   "outputs": [],
   "source": [
    "# pass 와 None 을 각각 적절한 명령문과 반환값으로 대체하라.\n",
    "\n",
    "def bouncy(n):\n",
    "    pass\n",
    "\n",
    "    return None"
   ]
  },
  {
   "cell_type": "code",
   "execution_count": 8,
   "id": "10434f20",
   "metadata": {},
   "outputs": [],
   "source": [
    "# 주석기호를 제거하고 실행할 때 오류가 발생하지 않아야 한다.\n",
    "\n",
    "# assert bouncy(1) == 0\n",
    "# assert bouncy(2) == 2.22\n",
    "# assert bouncy(10) == 18.24"
   ]
  },
  {
   "cell_type": "markdown",
   "id": "f4e7fd14",
   "metadata": {},
   "source": [
    "**문제 5**"
   ]
  },
  {
   "cell_type": "markdown",
   "id": "a75a4330",
   "metadata": {},
   "source": [
    "[반복문](https://codingalzi.github.io/pybook/iterations.html)에서 소개한 \n",
    "`collatz()` 함수는 다음과 같다.\n",
    "\n",
    "```python\n",
    "def collatz(n):\n",
    "    while n != 1:\n",
    "        print(n, end=\" -> \")\n",
    "        if n%2 == 0:\n",
    "            n = n//2\n",
    "        else:\n",
    "            n = n*3 + 1\n",
    "            \n",
    "    print(1)\n",
    "```\n",
    "\n",
    "`while` 반복문이 실행된 횟수를 반환하도록 위 함수를 수정하라.\n",
    "단, 100번 이상 반복하면 실행을 멈추고 -1을 반환하도록 한다."
   ]
  },
  {
   "cell_type": "code",
   "execution_count": 9,
   "id": "966ba37e",
   "metadata": {},
   "outputs": [],
   "source": [
    "# pass 와 None 을 각각 적절한 명령문과 반환값으로 대체하라.\n",
    "\n",
    "def collatz(n):\n",
    "    pass\n",
    "\n",
    "    return None"
   ]
  },
  {
   "cell_type": "code",
   "execution_count": 10,
   "id": "0761ee90",
   "metadata": {},
   "outputs": [],
   "source": [
    "# 주석기호를 제거하고 실행할 때 오류가 발생하지 않아야 한다.\n",
    "\n",
    "# assert collatz(17) == 12\n",
    "# assert collatz(117) == 20\n",
    "# assert collatz(1117) == 44\n",
    "# assert collatz(11117) == -1"
   ]
  },
  {
   "cell_type": "markdown",
   "id": "4c18eb28",
   "metadata": {},
   "source": [
    "**문제 6**"
   ]
  },
  {
   "cell_type": "markdown",
   "id": "06ea6e08",
   "metadata": {},
   "source": [
    "철로 양끝에 서로 마주보고 있는 두 대의 기차 A 와 B 가 있고,\n",
    "기차 A 의 기관차 앞에는 파리 한 마리가 붙어 있다.\n",
    "두 기차 사이의 거리는 d 미터이다.\n",
    "\n",
    "두 기차 A 와 B 가 서로를 향해 달릴 때, \n",
    "파리는 기차 A 에서 기차 B 까지 날아가다가 기차 B 와 부딪히기 직전\n",
    "방향을 바꿔 기차 A 에게 날아가고 다시 기차 A 와 부딪히기 직전 \n",
    "기차 B를 향해 날아가기를 기차 A 와 B 가 부딪힐 때까지 반복한다.\n",
    "기차 A 의 속력은 a m/s, 기차 B의 속력은 b m/s, 파리의 속력은 c m/s 이다.\n",
    "단, c 가 a, b 보다 커서 파리가 기차보다 빨리 달리며,\n",
    "두 기차 사이의 거리 d 가 c 보다 크다.\n",
    "즉, 다음이 성립한다. \n",
    "\n",
    "```\n",
    "a, b < c < d\n",
    "```\n",
    "\n",
    "네 개의 자연수 a, b, c, d 가 주어졌을 때, 두 기차가 충돌하기 직전까지 파리가 날아다닌 거리(m)를 \n",
    "계산하여 반환하는 `fly()`  함수를 구현하라.\n",
    "단, `while` 반복문을 사용해야 한다."
   ]
  },
  {
   "cell_type": "code",
   "execution_count": 11,
   "id": "72af3c7e",
   "metadata": {},
   "outputs": [],
   "source": [
    "# pass 와 None 을 각각 적절한 명령문과 반환값으로 대체하라.\n",
    "def fly(a, b, c, d):\n",
    "    assert a < c < d\n",
    "    assert b < c\n",
    "    \n",
    "    pass\n",
    "\n",
    "    return None    "
   ]
  },
  {
   "cell_type": "code",
   "execution_count": 12,
   "id": "e2c14755",
   "metadata": {},
   "outputs": [],
   "source": [
    "# 주석기호를 제거하고 실행할 때 오류가 발생하지 않아야 한다.\n",
    "\n",
    "# assert fly(3, 5, 8, 16) == 16\n",
    "# assert fly( 5, 8, 11, 39) == 33"
   ]
  },
  {
   "cell_type": "markdown",
   "id": "c7fa01d2",
   "metadata": {},
   "source": [
    "**문제 7**"
   ]
  },
  {
   "cell_type": "markdown",
   "id": "d0abbd52",
   "metadata": {},
   "source": [
    "500원, 100원, 50원, 10원 짜리 동전으로 거스름돈을 지급할 때\n",
    "동전의 개수를 최소화하고자 한다.\n",
    "거슬러 줘야 하는 금액이 n 원일 때, 필요한 동전의 최소 개수를 반환하는\n",
    "`change()` 함수를 구현하라.\n",
    "단, n 은 10의 배수이며 5000보다 작은 정수고, 모든 동전은 무한히 많이 있다고 가정한다. \n",
    "\n",
    "힌트: [탐욕 알고리즘](https://code-lab1.tistory.com/11) 참고. `while` 반복문 활용."
   ]
  },
  {
   "cell_type": "code",
   "execution_count": 13,
   "id": "d51bb9a3",
   "metadata": {},
   "outputs": [],
   "source": [
    "# pass 와 None 을 각각 적절한 명령문과 반환값으로 대체하라.\n",
    "def change(n):\n",
    "    assert (n%10 == 0 and n < 5000)\n",
    "    \n",
    "    pass\n",
    "\n",
    "    return None    "
   ]
  },
  {
   "cell_type": "code",
   "execution_count": 14,
   "id": "6ae649ba",
   "metadata": {},
   "outputs": [],
   "source": [
    "# 아래 주석을 제거하고 실행할 때 오류가 발생하지 않아야 한다.\n",
    "\n",
    "# assert change(1730) == 8"
   ]
  },
  {
   "cell_type": "markdown",
   "id": "024460ab",
   "metadata": {},
   "source": [
    "**문제 8**"
   ]
  },
  {
   "cell_type": "markdown",
   "id": "93f005ad",
   "metadata": {},
   "source": [
    "아래 `findChar()` 함수는 문자열(`word`)에 특정 문자(`char`)가 포함되어 있으면\n",
    "위치한 곳의 인덱스를, 그렇지 않으면 -1을 반환한다.\n",
    "코드에 사용된 `len()` 함수는 주어진 문자열의 길이, 즉 문자열에\n",
    "포함된 문자의 개수를 반환한다."
   ]
  },
  {
   "cell_type": "code",
   "execution_count": 15,
   "id": "d587d3e6",
   "metadata": {},
   "outputs": [],
   "source": [
    "def findChar(word, char):\n",
    "    idx = 0\n",
    "\n",
    "    while idx < len(word):\n",
    "        if word[idx] == char:\n",
    "            return idx\n",
    "    \n",
    "        idx = idx + 1\n",
    "    \n",
    "    return -1"
   ]
  },
  {
   "cell_type": "markdown",
   "id": "61d4cdf0",
   "metadata": {},
   "source": [
    "`findChar()` 함수를 `for` 반복문을 이용하여 구현하라."
   ]
  },
  {
   "cell_type": "code",
   "execution_count": 16,
   "id": "b4f746f7",
   "metadata": {},
   "outputs": [],
   "source": [
    "# pass 와 None 을 각각 적절한 명령문과 반환값으로 대체하라.\n",
    "\n",
    "def findChar_for(word, char):\n",
    "    for letter in word:\n",
    "        pass\n",
    "\n",
    "    return None    "
   ]
  },
  {
   "cell_type": "code",
   "execution_count": 17,
   "id": "4c2c4c76",
   "metadata": {},
   "outputs": [],
   "source": [
    "# 아래 주석을 제거하고 실행할 때 오류가 발생하지 않아야 한다.\n",
    "\n",
    "# assert findChar_for(\"python\", \"o\") == 4\n",
    "# assert findChar_for(\"파이썬이 좋아요\", \"아\") == 6"
   ]
  },
  {
   "cell_type": "markdown",
   "id": "9d60ccc4",
   "metadata": {},
   "source": [
    "**문제 9**"
   ]
  },
  {
   "cell_type": "markdown",
   "id": "29399e6a",
   "metadata": {},
   "source": [
    "아래 조건을 만족시키도록 `findChar()` 함수를 수정하여\n",
    "`findChar_pos()` 함수를 구현하라.\n",
    "\n",
    "* 정수를 입력받는 `position` 매개변수를 추가한다.\n",
    "* `position`을 통해 전달된 정수는 탐색을 시작할 위치를 나타낸다.\n",
    "    즉, 앞서 정의된 `findChar()` 함수는 `position`이 0인 특수한 경우가 되도록 한다."
   ]
  },
  {
   "cell_type": "code",
   "execution_count": 18,
   "id": "01e7642b",
   "metadata": {},
   "outputs": [],
   "source": [
    "# pass 와 None 을 각각 적절한 명령문과 반환값으로 대체하라.\n",
    "\n",
    "def findChar_pos(word, char, pos):\n",
    "    pass\n",
    "\n",
    "    return None    "
   ]
  },
  {
   "cell_type": "code",
   "execution_count": 19,
   "id": "bf77b148",
   "metadata": {},
   "outputs": [],
   "source": [
    "# 아래 주석을 제거하고 실행할 때 오류가 발생하지 않아야 한다.\n",
    "\n",
    "# assert findChar_pos(\"hello world\", \"o\", 0) == 4\n",
    "# assert findChar_pos(\"hello world\", \"o\", 5) == 7"
   ]
  },
  {
   "cell_type": "markdown",
   "id": "0c4249f0",
   "metadata": {},
   "source": [
    "**문제 10**"
   ]
  },
  {
   "cell_type": "markdown",
   "id": "bb90a39c",
   "metadata": {},
   "source": [
    "`findChar_pos()` 함수를 `for` 반복문을 이용하여 구현하라."
   ]
  },
  {
   "cell_type": "code",
   "execution_count": 20,
   "id": "3e46c579",
   "metadata": {},
   "outputs": [],
   "source": [
    "# pass 와 None 을 각각 적절한 명령문과 반환값으로 대체하라.\n",
    "\n",
    "def findChar_pos_for(word, char, pos):\n",
    "    for letter in word:\n",
    "        pass\n",
    "\n",
    "    return None    "
   ]
  },
  {
   "cell_type": "code",
   "execution_count": 21,
   "id": "82ed8277",
   "metadata": {},
   "outputs": [],
   "source": [
    "# 아래 주석을 제거하고 실행할 때 오류가 발생하지 않아야 한다.\n",
    "\n",
    "# assert findChar_pos_for(\"hello world\", \"o\", 0) == 4\n",
    "# assert findChar_pos_for(\"hello world\", \"o\", 5) == 7"
   ]
  },
  {
   "cell_type": "markdown",
   "id": "b06334af",
   "metadata": {},
   "source": [
    "**문제 11**"
   ]
  },
  {
   "cell_type": "markdown",
   "id": "2f97c92d",
   "metadata": {},
   "source": [
    "ROT13 은 단어의 각 문자를 13 자리만큼 회전시키는 방식의 간단한 암호 법이다. \n",
    "\n",
    "문자를 회전한다는 것은 알파벳 상의 위치를 이동한다는 뜻이다. \n",
    "예를 들어, `'a'` 를 3 만큼 이동하면 `'d'` 가, \n",
    "`'z'` 를 1 만큼 이동하면 `'a'` 가 된다.\n",
    "음수에 대해서는 역으로 회전한다.\n",
    "예를 들어, `'d'` 를 -3 만큼 이동하면 `'a'` 가 되고, `'a'` 를 -2 만큼 회전시키면 \n",
    "`'y'` 가 된다.\n",
    "\n",
    "다음 조건을 만족하는 `rotateWord()` 함수를 구현하라.\n",
    "\n",
    "- 문자열과 정수를 인자로 사용한다.\n",
    "- 지정된 정수만큼 문자열을 회전시킨다.\n",
    "\n",
    "힌트: 알파벳과 아스키 코드 사이의 관계를 이어주는\n",
    "[`ord()` 함수와 `chr()` 함수](https://ghdwn0217.tistory.com/60)를 이용한다."
   ]
  },
  {
   "cell_type": "code",
   "execution_count": 22,
   "id": "e1efd7f0",
   "metadata": {},
   "outputs": [],
   "source": [
    "# pass 와 None 을 각각 적절한 명령문과 반환값으로 대체하라.\n",
    "\n",
    "def rotateWord(word, num):\n",
    "    pass\n",
    "\n",
    "    return None    "
   ]
  },
  {
   "cell_type": "code",
   "execution_count": 23,
   "id": "160f48fa",
   "metadata": {},
   "outputs": [],
   "source": [
    "# 아래 주석을 제거하고 실행할 때 오류가 발생하지 않아야 한다.\n",
    "\n",
    "# assert rotateWord(\"cheer\", 7) == \"jolly\"\n",
    "# assert rotateWord(\"melon\", -10) == \"cubed\""
   ]
  },
  {
   "cell_type": "markdown",
   "id": "48251666",
   "metadata": {},
   "source": [
    "**문제 12**"
   ]
  },
  {
   "cell_type": "markdown",
   "id": "6324ad42",
   "metadata": {},
   "source": [
    "다음과 같은 방법으로 (세 자리 수) $\\times$ (세 자리 수) 를 계산할 수 있다.<br><br>\n",
    "\n",
    "<div align=\"center\">\n",
    "<img src=\"https://raw.githubusercontent.com/hj617kim/core_pybook/master/images/ch04/pro01.png\" style=\"width:150px;\">\n",
    "</div>  \n",
    "\n",
    "두 개의 세 자리 수 a 와 b 가 주어질 때, &#9312;, &#9313;, &#9314;, &#9315;에 들어갈 값을 \n",
    "각각 줄변경하여 출력하는 `mult()` 함수를 구현하라.\n",
    "반환값은 두 수의 곱이다.\n",
    "\n",
    "힌트: 문자열 인덱싱과 `for` 반복문 활용"
   ]
  },
  {
   "cell_type": "code",
   "execution_count": 24,
   "id": "d5f99b2f",
   "metadata": {},
   "outputs": [],
   "source": [
    "# pass 와 None 을 각각 적절한 명령문과 반환값으로 대체하라.\n",
    "def mult(a, b):\n",
    "    assert 100 <= a <= 999 \n",
    "    assert 100 <= b <= 999     \n",
    "\n",
    "    pass\n",
    "\n",
    "    return a * b"
   ]
  },
  {
   "cell_type": "code",
   "execution_count": 25,
   "id": "aea9c2f0",
   "metadata": {},
   "outputs": [],
   "source": [
    "# 주석기호를 삭제하고 실행하라.\n",
    "\n",
    "# mult(265, 112)"
   ]
  },
  {
   "cell_type": "markdown",
   "id": "7d591fa8",
   "metadata": {},
   "source": [
    "출력 결과는 다음과 같아야 한다.\n",
    "\n",
    "```python\n",
    "(1) 530   \n",
    "(2) 265  \n",
    "(3) 265 \n",
    "(4) 29680\n",
    "```"
   ]
  },
  {
   "cell_type": "markdown",
   "id": "33b1a81c",
   "metadata": {},
   "source": [
    "**문제 13**"
   ]
  },
  {
   "cell_type": "markdown",
   "id": "86e5c326",
   "metadata": {},
   "source": [
    "피보나찌 수열은 다음과 같이 정의 된다.\n",
    "\n",
    "$$\n",
    "\\begin{align*}\n",
    "F_0 &= 0 \\\\\n",
    "F_1 &= 1 \\\\\n",
    "F_{n+2} &= F_{n+1} + F_{n}\n",
    "\\end{align*}\n",
    "$$\n",
    "\n",
    "for 반복문을 이용하여 피보나찌 수열의 n 번째 값을 반환하는 함수 `fib()` 를 구현하라."
   ]
  },
  {
   "cell_type": "code",
   "execution_count": 28,
   "id": "0aba5c87",
   "metadata": {},
   "outputs": [],
   "source": [
    "# pass 와 None 을 적절한 명령문과 표현식으로 대체하라.\n",
    "# 재귀를 사용할 수 없으며 for 반복문만을 이용해야 한다.\n",
    "\n",
    "def fib(n):\n",
    "    assert isinstance(n, int)\n",
    "    assert n >= 0\n",
    "    \n",
    "    pass\n",
    "\n",
    "    return None"
   ]
  },
  {
   "cell_type": "code",
   "execution_count": 29,
   "id": "28bab1e8",
   "metadata": {},
   "outputs": [],
   "source": [
    "# 아래 코드의 주석해제하고 실행하라.\n",
    "\n",
    "# assert fib(5) == 5\n",
    "# assert fib(8) == 21"
   ]
  },
  {
   "cell_type": "markdown",
   "id": "9401e9f4",
   "metadata": {
    "id": "BR35apnL0Tf9"
   },
   "source": [
    "## 예제 9"
   ]
  },
  {
   "cell_type": "markdown",
   "id": "fb847555",
   "metadata": {},
   "source": [
    "**주의사항**: 5장 필수예제서처럼 함수로 작성하도록 할 것."
   ]
  },
  {
   "cell_type": "markdown",
   "id": "4848bf06",
   "metadata": {
    "id": "DxP4L1g30ZpC"
   },
   "source": [
    "연이자 5%인 정기예금에 1천만원을 10년간 은행에 맡겼을 때\n",
    "10년 후에 수령할 금액을 계산하는 코드를 `while` 반복문을 이용하여 \n",
    "원리합계를 계산하는 코드를 작성한다."
   ]
  },
  {
   "cell_type": "markdown",
   "id": "3007efc4",
   "metadata": {
    "id": "DxP4L1g30ZpC"
   },
   "source": [
    "단, 다음 형식으로 출력하라.\n",
    "\n",
    "> 10년 후 받을 원금 + 이자는 OOO 원입니다."
   ]
  },
  {
   "cell_type": "markdown",
   "id": "d77a1896",
   "metadata": {},
   "source": [
    "원리합계 계산은 아래 식을 따른다."
   ]
  },
  {
   "cell_type": "markdown",
   "id": "11bf1310",
   "metadata": {},
   "source": [
    "> 원리합계 ＝ 원금 +  (1 ＋ 연금리 * 기간)"
   ]
  },
  {
   "cell_type": "markdown",
   "id": "1fb0e35a",
   "metadata": {},
   "source": [
    "모범답안:"
   ]
  },
  {
   "cell_type": "markdown",
   "id": "6e11a210",
   "metadata": {},
   "source": [
    "원리합계 계산 코드는 다음과 같다.\n",
    "\n",
    "```\n",
    "savings = principal * (1 + rate * period)\n",
    "```\n",
    "\n",
    "그런데 할당값으로 사용되는 수식을 풀어쓰면 다음과 같다.\n",
    "\n",
    "```\n",
    "savings = principal + principal * rate * period\n",
    "```\n",
    "\n",
    "그리고 `principal * rate * period`가 총이자에 해당하며\n",
    "변수 `period`에 의존하여 이자가 증가한다.\n",
    "즉 1년 마다 받는 이자인 `principal * rate`를 `period` 기간동안 누적합하면\n",
    "총이자가 된다.\n",
    "이 내용을 `while` 반복문을 이용하여 구현하면 된다."
   ]
  },
  {
   "cell_type": "code",
   "execution_count": 53,
   "id": "c3685613",
   "metadata": {},
   "outputs": [
    {
     "name": "stdout",
     "output_type": "stream",
     "text": [
      "10년 후 받는 원금 + 이자는 15000000.0 원입니다.\n"
     ]
    }
   ],
   "source": [
    "principal = 10000000 # 원금\n",
    "rate = 0.05          # 연이자\n",
    "period = 10         # 10년\n",
    "\n",
    "interests = 0       # 연이자 누적합 저장\n",
    "num_of_years = 1    # while 반복문에 사용되는 변수. 1씩 증가.\n",
    "\n",
    "while num_of_years <= period:\n",
    "    interests = interests + principal * rate\n",
    "    num_of_years = num_of_years + 1\n",
    "\n",
    "savings = principal + interests # 원리합계\n",
    "\n",
    "print(\"10년 후 받는 원금 + 이자는\", savings, \"원입니다.\")"
   ]
  },
  {
   "cell_type": "markdown",
   "id": "eb5285eb",
   "metadata": {
    "id": "F-HeAw53zaeP"
   },
   "source": [
    "## 예제 "
   ]
  },
  {
   "cell_type": "markdown",
   "id": "8fd0d8a3",
   "metadata": {
    "id": "F-HeAw53zaeP"
   },
   "source": [
    "몬티 홀 문제(Monty Hall Problem)가 다음과 같다.\n",
    "\n",
    "어느 TV 방송 프로그램의 사회자는 출연자에게 1, 2, 3으로 구분된 세 개의 문 중에서 \n",
    "한 개를 선택할 기회를 준다. \n",
    "세 개의 문 중에 한 개의 문 뒤에만 자동차가 있고, 다른 두 개의 문 뒤에는 염소가 있다.\n",
    "출연자가 한 개의 문을 선택하면 사회자는 문 뒤의 상품을 확인하기 전에 먼저\n",
    "출연자가 선택하지 않은 문 중에 자동차 상품이 없는 문을 열어 보여주면서 \n",
    "선택한 문을 바꿀 수 있는 기회를 준다.\n",
    "\n",
    "![몬티 홀 문제](https://upload.wikimedia.org/wikipedia/commons/3/3f/Monty_open_door.svg)"
   ]
  },
  {
   "cell_type": "markdown",
   "id": "39befd2f",
   "metadata": {
    "id": "IRWHVAPUq514"
   },
   "source": [
    "다음 각 단계의 내용을 구현해 나가면서 게임을 완성하라."
   ]
  },
  {
   "cell_type": "markdown",
   "id": "d745df29",
   "metadata": {},
   "source": [
    "1단계) \n",
    "\n",
    "아래의 문구를 출력하도록 말줄임표를 적절한 코드로 대체하여 `gameIntro()` 함수를 완성하라.\n",
    "\n",
    "```\n",
    "1, 2, 3으로 표시된 세 개의 문이 있습니다. 그리고 세 개의 문 중 하나의 문 뒤에는 자동차가 있고,  나머지 문 뒤에는 염소가 있습니다. 선택한 문 뒤에 있는 것을 드립니다.\n",
    "```\n",
    "\n",
    "힌트: `print()` 함수"
   ]
  },
  {
   "cell_type": "code",
   "execution_count": 3,
   "id": "fde72fe4",
   "metadata": {
    "executionInfo": {
     "elapsed": 303,
     "status": "ok",
     "timestamp": 1648793687173,
     "user": {
      "displayName": "­정동휘 / 학생 / 건설환경공학부",
      "userId": "09324629371760785592"
     },
     "user_tz": -540
    },
    "id": "ZRCBeOeutPaW"
   },
   "outputs": [],
   "source": [
    "def gameIntro():\n",
    "    ..."
   ]
  },
  {
   "cell_type": "markdown",
   "id": "535f08b5",
   "metadata": {
    "id": "hsB-FYq8qc5z"
   },
   "source": [
    "2단계)\n",
    "\n",
    "1, 2, 3 중에 자동차가 위치할 문의 번호 하나를 임의로 생성하고 \n",
    "출연자로부터 1, 2, 3 중에 하나의 값을 입력받은 후\n",
    "두 값을 반환하는 `chooseDoor()` 함수를 구현하라.\n",
    "\n",
    "힌트) a부터 b사이(양 끝값 포함)의 임의의 정수를 반환하는 `random` 모듈의 `randint(a, b)` 함수"
   ]
  },
  {
   "cell_type": "code",
   "execution_count": 1,
   "id": "32643692",
   "metadata": {},
   "outputs": [],
   "source": [
    "def chooseDoor():\n",
    "    ..."
   ]
  },
  {
   "cell_type": "markdown",
   "id": "04fd42a9",
   "metadata": {
    "id": "iBH2u9fmrOOQ"
   },
   "source": [
    "3단계)\n",
    "\n",
    "아래의 조건을 만족하는 `openDoor()` 함수를 구현하라.\n",
    "\n",
    "* 자동차가 위치한 문의 번호 `answer`와 참여자가 선택한 문의 번호 `chosenDoor`를 인자로 받는다.\n",
    "\n",
    "* 아래와 같이 출력하면서 문 뒤에 염소가 있으면서 참가자가 선택하지 않은 문의 번호를 보여준다.   \n",
    "만약, 참가자가 자동차가 있는 문을 선택했다면, 염소가 있는 작은 번호의 문을 공개한다.  \n",
    "\n",
    "    ```\n",
    "    선택하지 않았던 X번 문 뒤에는 염소가 있습니다. 선택을 변경하시겠습니까? (y/n)\n",
    "    ```\n",
    "\n",
    "* `y`를 선택하면 `chosenDoor`가 출연자가 선택하지도, 진행자가 공개하지도 않은 문의 번호를\n",
    "    가리키도록 한 후에 선택된 문의 번호를 다음과 같이 출력해서 보여준다.\n",
    "\n",
    "    ```\n",
    "    X번 문을 선택했습니다.\n",
    "    ```\n",
    "\n",
    "* `chosenDoor`를 반환한다."
   ]
  },
  {
   "cell_type": "code",
   "execution_count": 2,
   "id": "0069a759",
   "metadata": {},
   "outputs": [],
   "source": [
    "def openDoor(answer, chosenDoor):\n",
    "    ..."
   ]
  },
  {
   "cell_type": "markdown",
   "id": "23e1b4ae",
   "metadata": {
    "id": "aUms6dMeqqLu"
   },
   "source": [
    "4단계)\n",
    "\n",
    "아래의 조건을 만족하는 `checkDoor()` 함수를 만들어라. \n",
    "\n",
    "* 자동차가 위치한 문의 번호 `answer`와 출연자가 최종적으로 선택한 문의 번호 `chosenDoor`를 \n",
    "    인자로 받는다. \n",
    "* `answer`와 `chosenDoor`가 같으면, `축하합니다! X문 뒤에는 자동차가 있습니다.`를 출력하고,   \n",
    "    다르면 `축하합니다! X문 뒤에는 염소가 있습니다.`를 출력하라. "
   ]
  },
  {
   "cell_type": "code",
   "execution_count": 3,
   "id": "c5ac7704",
   "metadata": {},
   "outputs": [],
   "source": [
    "def checkDoor(answer, chosenDoor):\n",
    "    ..."
   ]
  },
  {
   "cell_type": "markdown",
   "id": "dce7573f",
   "metadata": {
    "id": "JqOLrORXRqQr"
   },
   "source": [
    "5단계) \n",
    "\n",
    "1~4단계에서 만든 함수들을 사용하여, 몬티 홀 문제를 진행하는 프로그램을 완성하라. \n",
    "\n",
    "* `gameIntro()`: 게임 설명을 한다.\n",
    "* `chooseDoor()`: 자동차가 위치할 문을 임의로 지정한 다음, \n",
    "    참여자가 문을 선택하도록 한다.\n",
    "* `openDoor()`: 염소가 있는 문 하나를 공개하고, 선택을 변경할 기회를 준다.\n",
    "* `checkDoor()`: 최종적으로 선택한 문 뒤에 무엇이 있는지 공개한다.\n",
    "* 참여자가 원할 때까지 게임을 반복한다.\n",
    "\n",
    "    ```\n",
    "    다시 진행하시겠습니까? (y/n)\n",
    "    ```"
   ]
  },
  {
   "cell_type": "markdown",
   "id": "b32ba4ce",
   "metadata": {
    "id": "Kl_tCY2DUm6g"
   },
   "source": [
    "6단계)\n",
    "\n",
    "몬티 홀 문제에서 처음 선택을 변경하는 경우가 그렇지 않은 경우에 자동차를 받을 확률을\n",
    "계산하는 실험을 수행한다.\n",
    "처음 선택을 항상 변경하는 경우 자동차를 획득할 확률이 2/3 정도이고, 그렇지 않는 경우엔 1/3 정도임을 \n",
    "실험을 통해 확인하라.\n",
    "\n",
    "(1) 처음 선택을 변경하지 않으면서 게임을 1000번 수행할 때 자동차를 받는 횟수를 계산하는 프로그램을 구현하라.\n",
    "\n",
    "(2) 처음 선택을 변경하면서 게임을 1000번 수행할 때 자동차를 받는 횟수를 계산하는 프로그램을 구현하라.\n"
   ]
  },
  {
   "cell_type": "markdown",
   "id": "25fa2d11",
   "metadata": {
    "id": "B7Ho6aECi714"
   },
   "source": [
    "**문제**\n",
    "\n",
    "다음의 내용을 만족하도록 구구단 게임을 구현한다.\n",
    "\n",
    "* 문제의 개수는 1개부터 10개 사이로 무작위로 지정된다.\n",
    "* 2와 9사이의 수 두 개를 무작위로 생성한 후 다음 방식으로 참여자로부터 곱셈의 결과를 입력받는다.\n",
    "\n",
    "    ```python\n",
    "    ans = input(str(a)+\"x\"+str(b)+\"=\")\n",
    "    ```\n",
    "\n",
    "* 게임이 끝나면 몇 문제를 맞혔는지 보여준다.\n",
    "* 게임이 끝나면 게임의 소요시간을 보여준다.\n",
    "\n",
    "힌트) `time` 모듈의 `time()` 함수"
   ]
  },
  {
   "cell_type": "markdown",
   "id": "7cc2b840",
   "metadata": {
    "id": "quPGD-VHwRUO"
   },
   "source": [
    "**문제**\n",
    "\n",
    "배스킨라빈스31 게임은 두 사람이 참여하며 마지막에 31을 부른 사람이 지는 게임으로 규칙은 다음과 같다.\n",
    "\n",
    "* 참여자들은 번갈아가며 1부터 31까지의 수를 순서대로 부른다.\n",
    "* 한번에 1~3개의 수를 부를 수 있다.\n",
    "\n",
    "예를 들어, playerA가 1, 2, 3을 부르면, playerB는 4 또는 4, 5 또는 4, 5, 6를 부를 수 있다.\n",
    "\n",
    "다음 각 단계의 내용을 구현해 나가면서 게임을 완성하라."
   ]
  },
  {
   "cell_type": "markdown",
   "id": "43bde94c",
   "metadata": {},
   "source": [
    "1단계)\n",
    "\n",
    "1에서 3 사이의 수를 입력하면 프로그램이 다음 참여자 대신 지정된 개수의 수를 보여주도록 한다.\n",
    "단, 현재 수를 부르는 참여자를 다음과 같이 함께 보여준다.\n",
    "\n",
    "```\n",
    "부를 숫자의 개수를 입력하세요(1,2,3만 입력 가능) : 3\n",
    "playerA : 1\n",
    "playerA : 2\n",
    "playerA : 3\n",
    "부를 숫자의 개수를 입력하세요(1,2,3만 입력 가능) : 2\n",
    "playerB : 4\n",
    "playerB : 5\n",
    "```"
   ]
  },
  {
   "cell_type": "markdown",
   "id": "8caba1a9",
   "metadata": {
    "id": "KOzCKpFpRmwy"
   },
   "source": [
    "2단계)\n",
    "\n",
    "playerA와 playerB를 각각 computer와 player로 변경한 후에 사람 대 컴퓨터의 배스킨라벤스31 게임을\n",
    "진행하는 프로그램을 구현한다.\n",
    "단, 컴퓨터는 임의로 1~3개의 수를 부른다."
   ]
  },
  {
   "cell_type": "markdown",
   "id": "a665069b",
   "metadata": {
    "id": "KOzCKpFpRmwy"
   },
   "source": [
    "3단계)\n",
    "\n",
    "사람 대 컴퓨터의 배스킨라벤스31 게임을\n",
    "사람이 먼저 시작하고 컴퓨터는 임의로 1~3개의 수를 부르도록 한다.\n",
    "이때 사람이 항상 이기는 전략이 있는지 확인한 후에 해당 전략을 활용하여 게임을 진행하라."
   ]
  },
  {
   "cell_type": "markdown",
   "id": "4c85a949",
   "metadata": {
    "id": "k_s6GJOSw3qH"
   },
   "source": [
    "4단계)\n",
    "\n",
    "사람 대 컴퓨터의 배스킨라벤스31 게임의 시작을 누가할 것인가를\n",
    "가위바위보 게임으로 정할 수 있도록 하라.\n",
    "단, 컴퓨터는 임의로 1~3개의 수를 부르도록 하며 사람은\n",
    "가능한 경우 언제나 승리 전략을 적용할 수 있도록 한다."
   ]
  },
  {
   "cell_type": "markdown",
   "id": "9640996f",
   "metadata": {},
   "source": [
    "## 예제: 제곱근 계산 - 뉴튼 방법"
   ]
  },
  {
   "cell_type": "markdown",
   "id": "45130381",
   "metadata": {},
   "source": [
    "무한 반복을 어떤 값의 근사치를 계산하는 데에 활용하곤 한다.\n",
    "예를 들어, 제곱근을 계산하기 위해\n",
    "**뉴튼 방법**<font size=\"2\">Newton's method</font>에 사용된 알고리즘을\n",
    "무한 반복을 이용하여 구현할 수 있다."
   ]
  },
  {
   "cell_type": "markdown",
   "id": "e5c7aa27",
   "metadata": {},
   "source": [
    "**점화식과 변수 업데이트**"
   ]
  },
  {
   "cell_type": "markdown",
   "id": "5ff9a18d",
   "metadata": {},
   "source": [
    "$a$ 의 제곱근 $\\sqrt{a}$ 는 아래 점화식을 따르는 수열을 이용하여 구할 수 있다.\n",
    "\n",
    "$$\n",
    "\\begin{align*}\n",
    "x_0 &= a\\\\[1ex]\n",
    "x_{n+1} & = \\frac{x_n + \\frac{a}{x_n}}{2}\n",
    "\\end{align*}\n",
    "$$\n",
    "\n",
    "점화식은 파이썬에서 아래와 같은 변수 업데이트로 구현한다.\n",
    "\n",
    "```python\n",
    "x = a\n",
    "x = (x + a/x) / 2\n",
    "```"
   ]
  },
  {
   "cell_type": "markdown",
   "id": "5f97d497",
   "metadata": {},
   "source": [
    "**$\\sqrt{2}$ 계산**"
   ]
  },
  {
   "cell_type": "markdown",
   "id": "f180c239",
   "metadata": {},
   "source": [
    "$\\sqrt{2}$ 를 뉴튼 방법으로 계산해보자.\n",
    "먼저 넘파이 모듈의 `sqrt()` 함수로 계산된 결과를 확인한다."
   ]
  },
  {
   "cell_type": "code",
   "execution_count": 16,
   "id": "52ba265b",
   "metadata": {},
   "outputs": [
    {
     "data": {
      "text/plain": [
       "1.4142135623730951"
      ]
     },
     "execution_count": 16,
     "metadata": {},
     "output_type": "execute_result"
    }
   ],
   "source": [
    "import numpy as np\n",
    "\n",
    "np.sqrt(2)"
   ]
  },
  {
   "cell_type": "markdown",
   "id": "bba53d0a",
   "metadata": {},
   "source": [
    "이제 뉴튼 방법을 적용하기 위해 먼저 `a` 와 `x` 를 지정한다."
   ]
  },
  {
   "cell_type": "code",
   "execution_count": 17,
   "id": "3c146ad9",
   "metadata": {},
   "outputs": [],
   "source": [
    "a = 2\n",
    "x = a"
   ]
  },
  {
   "cell_type": "markdown",
   "id": "ed93a9e0",
   "metadata": {},
   "source": [
    "변수 업데이트를 한 번 해보자."
   ]
  },
  {
   "cell_type": "code",
   "execution_count": 18,
   "id": "ae71e9c3",
   "metadata": {},
   "outputs": [
    {
     "data": {
      "text/plain": [
       "1.5"
      ]
     },
     "execution_count": 18,
     "metadata": {},
     "output_type": "execute_result"
    }
   ],
   "source": [
    "x = (x + a/x) / 2\n",
    "x"
   ]
  },
  {
   "cell_type": "markdown",
   "id": "c9395b7a",
   "metadata": {},
   "source": [
    "한 번 더 하자."
   ]
  },
  {
   "cell_type": "code",
   "execution_count": 19,
   "id": "2be72814",
   "metadata": {},
   "outputs": [
    {
     "data": {
      "text/plain": [
       "1.4166666666666665"
      ]
     },
     "execution_count": 19,
     "metadata": {},
     "output_type": "execute_result"
    }
   ],
   "source": [
    "x = (x + a/x) / 2\n",
    "x"
   ]
  },
  {
   "cell_type": "markdown",
   "id": "b56e79c5",
   "metadata": {},
   "source": [
    "반복할 수록 점점 더 $\\sqrt{2}$에 근접함을 볼 수 있다."
   ]
  },
  {
   "cell_type": "code",
   "execution_count": 20,
   "id": "67857878",
   "metadata": {},
   "outputs": [
    {
     "data": {
      "text/plain": [
       "1.4142156862745097"
      ]
     },
     "execution_count": 20,
     "metadata": {},
     "output_type": "execute_result"
    }
   ],
   "source": [
    "x = (x + a/x) / 2\n",
    "x"
   ]
  },
  {
   "cell_type": "code",
   "execution_count": 21,
   "id": "e8f876c5",
   "metadata": {},
   "outputs": [
    {
     "data": {
      "text/plain": [
       "1.4142135623746899"
      ]
     },
     "execution_count": 21,
     "metadata": {},
     "output_type": "execute_result"
    }
   ],
   "source": [
    "x = (x + a/x) / 2\n",
    "x"
   ]
  },
  {
   "cell_type": "code",
   "execution_count": 22,
   "id": "559d5ccc",
   "metadata": {},
   "outputs": [
    {
     "data": {
      "text/plain": [
       "1.414213562373095"
      ]
     },
     "execution_count": 22,
     "metadata": {},
     "output_type": "execute_result"
    }
   ],
   "source": [
    "x = (x + a/x) / 2\n",
    "x"
   ]
  },
  {
   "cell_type": "markdown",
   "id": "7df014b1",
   "metadata": {},
   "source": [
    "`np.sqrt(2)`의 값과 소수점 이하 15 자리까지 값이 동일해졌다.\n",
    "눈에 보이지 않지만 두 수는 여전히 오차를 갖는다."
   ]
  },
  {
   "cell_type": "code",
   "execution_count": 23,
   "id": "82025a16",
   "metadata": {},
   "outputs": [
    {
     "data": {
      "text/plain": [
       "False"
      ]
     },
     "execution_count": 23,
     "metadata": {},
     "output_type": "execute_result"
    }
   ],
   "source": [
    "x == np.sqrt(2)"
   ]
  },
  {
   "cell_type": "markdown",
   "id": "4354188d",
   "metadata": {},
   "source": [
    "**무한 반복문 활용**"
   ]
  },
  {
   "cell_type": "markdown",
   "id": "c3174ef0",
   "metadata": {},
   "source": [
    "그럼에도 불구하고 일반적으로 제곱근에 충분히 가까운 근사치를 구했다.\n",
    "뉴튼 방법 알고리즘을 반복 적용할 수록 근사치의 정확도는 점점 더 올라간다.\n",
    "즉, 아래 `while` 명령문을 실행하면 `x` 가 가리키는 값은 `a` 의 제곱근이 되거나\n",
    "무한정 가까워진다.\n",
    "\n",
    "```python\n",
    "x = a\n",
    "while True:\n",
    "    x = (x + a/x) / 2                # x 업데이트\n",
    "```"
   ]
  },
  {
   "cell_type": "markdown",
   "id": "f5601c36",
   "metadata": {},
   "source": [
    "그런데 위 `while` 반복문은 무한 반복에 빠진다.\n",
    "이를 방지하기 위한 제동장치가 필요하며 \n",
    "`(x + a/x) / 2`가 가리키는 값을 다른 변수 `y`에 할당하여\n",
    "`x` 와 `y` 의 차이가 없어질 때까지만\n",
    "`while` 반복문이 실행되도록 한다.\n",
    "정리하면 임의의 수 `a`에 대해 아래 명령문을 반복 실행하여 제곱근의 근사치를 계산할 수 있다.\n",
    "\n",
    "1. `y = (x + a/x) / 2` 를 실행한다.\n",
    "1. `x` 와 `y` 가 동일한 값을 가리키면 실행을 멈추고 `y`를 반환한다.\n",
    "1. 그렇지 않으면 `x` 를 `y`의 값으로 업데이트한 후에 1단계로 돌아간다.\n",
    "\n",
    "즉, `np.sqrt()` 함수처럼 작동하는 제곱근 함수를 다음과 같이 정의할 수 있다.\n",
    "\n",
    "```python\n",
    "def my_sqrt(a):\n",
    "    x = a\n",
    "    while True:\n",
    "        y = (x + a/x) / 2\n",
    "        if x == y:                  # 등가이면 실행 중지\n",
    "            break\n",
    "        x = y                       # x 업데이트\n",
    "    return y\n",
    "```"
   ]
  },
  {
   "cell_type": "markdown",
   "id": "867452a4",
   "metadata": {},
   "source": [
    "그런데 이렇게 해도 무한루프에 빠질 가능성이 높다.\n",
    "이유는 아래 조건문에서 사용되는 두 부동소수점의 비교가\n",
    "참이될 가능성이 높지 않기 때문이다.\n",
    "\n",
    "```python\n",
    "if x == y:\n",
    "    break\n",
    "```\n",
    "\n",
    "일반적으로 두 부동소수점<font size=\"2\">floating point</font>의 등가성을 \n",
    "비교하는 일은 매우 조심해서 사용해야 한다.\n",
    "예를 들어 아래와 기대와 다른 결과를 얻을 수 있기 때문이다."
   ]
  },
  {
   "cell_type": "code",
   "execution_count": 24,
   "id": "f037dba5",
   "metadata": {},
   "outputs": [
    {
     "data": {
      "text/plain": [
       "False"
      ]
     },
     "execution_count": 24,
     "metadata": {},
     "output_type": "execute_result"
    }
   ],
   "source": [
    "0.1 + 0.1 + 0.1 == 0.3"
   ]
  },
  {
   "cell_type": "markdown",
   "id": "7e3f2178",
   "metadata": {},
   "source": [
    "이에 대한 이유는 이 강의노트의 수준을 많이 벗어나기에 더 이상 설명하지 않는다."
   ]
  },
  {
   "cell_type": "markdown",
   "id": "5b84747f",
   "metadata": {},
   "source": [
    "**오차 허용 한도**"
   ]
  },
  {
   "cell_type": "markdown",
   "id": "9e736b4c",
   "metadata": {},
   "source": [
    "부동소수점의 등가성 대신 보통은 두 수의 오차가 충분히 작으면\n",
    "실행을 멈추도록 한다.\n",
    "이 아이디어를 `my_sqrt()` 함수에 적용하면 다음과 같다.\n",
    "\n",
    "- `abs()` 함수는 절댓값을 반환한다.\n",
    "- `epsilon`은 오차의 한도를 지정하는 역할을 수행하는 매개 변수이다. \n",
    "    \"엡실론\" 이라고 읽으며 오차 한도를 나타내는 변수 이름으로 많이 사용된다."
   ]
  },
  {
   "cell_type": "code",
   "execution_count": 25,
   "id": "27e72b11",
   "metadata": {},
   "outputs": [],
   "source": [
    "def my_sqrt(a, epsilon):\n",
    "    x = a\n",
    "    while True:\n",
    "        y = (x + a/x) / 2\n",
    "        if abs(x - y) < epsilon:    # 오차 범위 안이면 실행 중지\n",
    "            break\n",
    "        x = y                       # x 업데이트\n",
    "    return y"
   ]
  },
  {
   "cell_type": "markdown",
   "id": "a9f6a5f9",
   "metadata": {},
   "source": [
    "오차 허용 한도를 0.0001로 지정하고 2의 제곱근을 구해보자."
   ]
  },
  {
   "cell_type": "code",
   "execution_count": 26,
   "id": "7b4ec7a7",
   "metadata": {},
   "outputs": [
    {
     "data": {
      "text/plain": [
       "1.4142135623746899"
      ]
     },
     "execution_count": 26,
     "metadata": {},
     "output_type": "execute_result"
    }
   ],
   "source": [
    "my_sqrt(2, 0.0001)"
   ]
  },
  {
   "cell_type": "markdown",
   "id": "666f9cc3",
   "metadata": {},
   "source": [
    "오차 허용 한도를 0.000001로 지정하면 보다 엄밀한 근사치를 얻는다."
   ]
  },
  {
   "cell_type": "code",
   "execution_count": 27,
   "id": "a2ea2acd",
   "metadata": {},
   "outputs": [
    {
     "data": {
      "text/plain": [
       "1.414213562373095"
      ]
     },
     "execution_count": 27,
     "metadata": {},
     "output_type": "execute_result"
    }
   ],
   "source": [
    "my_sqrt(2, 0.000001)"
   ]
  },
  {
   "cell_type": "code",
   "execution_count": null,
   "id": "c49a9082",
   "metadata": {},
   "outputs": [],
   "source": []
  }
 ],
 "metadata": {
  "kernelspec": {
   "display_name": "Python 3 (ipykernel)",
   "language": "python",
   "name": "python3"
  },
  "language_info": {
   "codemirror_mode": {
    "name": "ipython",
    "version": 3
   },
   "file_extension": ".py",
   "mimetype": "text/x-python",
   "name": "python",
   "nbconvert_exporter": "python",
   "pygments_lexer": "ipython3",
   "version": "3.11.4"
  },
  "toc-autonumbering": true,
  "toc-showcode": false,
  "toc-showmarkdowntxt": false
 },
 "nbformat": 4,
 "nbformat_minor": 5
}
