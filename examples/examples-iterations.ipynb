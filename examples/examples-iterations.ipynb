{
 "cells": [
  {
   "cell_type": "markdown",
   "id": "2d03d247-e2d3-4afe-ab5e-83dc989ed62d",
   "metadata": {},
   "source": [
    "# (필수 예제) 반복문"
   ]
  },
  {
   "cell_type": "markdown",
   "id": "9ac19adc",
   "metadata": {
    "id": "akoVfOTao55r"
   },
   "source": [
    "## 예제"
   ]
  },
  {
   "cell_type": "markdown",
   "id": "9165f6fb",
   "metadata": {
    "id": "akoVfOTao55r"
   },
   "source": [
    "`for` 반복문을 이용하여 아래 실행결과가 나오는 프로그램을 작성하고자 한다.\n",
    "즉, `\"안녕하세요\"` 문자열이 코드에 단 한 번만 언급되어야 한다.\n",
    "\n",
    "```\n",
    "안녕하세요.\n",
    "안녕하세요.\n",
    "안녕하세요.\n",
    "안녕하세요.\n",
    "안녕하세요.\n",
    "```\n",
    "\n",
    "힌트: `range()` 함수 활용"
   ]
  },
  {
   "cell_type": "markdown",
   "id": "92870918",
   "metadata": {},
   "source": [
    "**답**"
   ]
  },
  {
   "cell_type": "code",
   "execution_count": 8,
   "id": "e0ce0926",
   "metadata": {},
   "outputs": [
    {
     "name": "stdout",
     "output_type": "stream",
     "text": [
      "안녕하세요.\n",
      "안녕하세요.\n",
      "안녕하세요.\n",
      "안녕하세요.\n",
      "안녕하세요.\n"
     ]
    }
   ],
   "source": [
    "for num in range(5):\n",
    "    print(\"안녕하세요.\")"
   ]
  },
  {
   "cell_type": "markdown",
   "id": "ea99c932",
   "metadata": {},
   "source": [
    "`num` 변수가 반복문의 본문에 사용되지 않고 단순히 횟수를 세는 용도로만 사용된다.\n",
    "이런 경우 변수 이름이 굳이 필요 없으며 대신 밑줄 기호 `_` (영어로 underscore)를 사용하곤 한다."
   ]
  },
  {
   "cell_type": "code",
   "execution_count": 9,
   "id": "3c69c654",
   "metadata": {},
   "outputs": [
    {
     "name": "stdout",
     "output_type": "stream",
     "text": [
      "안녕하세요.\n",
      "안녕하세요.\n",
      "안녕하세요.\n",
      "안녕하세요.\n",
      "안녕하세요.\n"
     ]
    }
   ],
   "source": [
    "for _ in range(5):\n",
    "    print(\"안녕하세요.\")"
   ]
  },
  {
   "cell_type": "markdown",
   "id": "55cee635",
   "metadata": {
    "id": "akoVfOTao55r"
   },
   "source": [
    "## 예제"
   ]
  },
  {
   "cell_type": "markdown",
   "id": "ac1c5e0f",
   "metadata": {
    "id": "j5Yd_UXFuSHE"
   },
   "source": [
    "0부터 100까지의 숫자 중에서 3 또는 7의 배수를 모두 더한 결과를\n",
    "다음과 같이 출력하는 프로그램을 작성하라.\n",
    "\n",
    "```\n",
    "0~100의 숫자 중 3의 배수와 7의 배수들의 합: 2208\n",
    "```\n",
    "\n",
    "힌트: `range()` 함수와 `for` 반복문"
   ]
  },
  {
   "cell_type": "markdown",
   "id": "ddb6f233",
   "metadata": {},
   "source": [
    "**답**"
   ]
  },
  {
   "cell_type": "code",
   "execution_count": 3,
   "id": "10dd0099",
   "metadata": {},
   "outputs": [
    {
     "name": "stdout",
     "output_type": "stream",
     "text": [
      "0~100의 숫자 중 3의 배수와 7의 배수들의 합: 2208\n"
     ]
    }
   ],
   "source": [
    "sum = 0\n",
    "\n",
    "for num in range(0, 101):\n",
    "    if num % 3 == 0 or num % 7 == 0:\n",
    "        sum += num\n",
    "        \n",
    "print(\"0~100의 숫자 중 3의 배수와 7의 배수들의 합:\", sum)"
   ]
  },
  {
   "cell_type": "markdown",
   "id": "93e3c655",
   "metadata": {
    "id": "akoVfOTao55r"
   },
   "source": [
    "## 예제"
   ]
  },
  {
   "cell_type": "markdown",
   "id": "927c1a76",
   "metadata": {
    "id": "DL3G4F7CmkA1"
   },
   "source": [
    "자연수 n이 주어졌을 때, n의 약수를 모두 출력하는 프로그램을 작성하여 n이 24일 때\n",
    "다음과 같이 출력되록 하라.\n",
    "\n",
    "```\n",
    "24의 약수: 1 2 3 4 6 8 12 24 \n",
    "```\n",
    "\n",
    "힌트: `for` 반복문, `range()` 함수, `print()` 함수의 `sep`, ``end` 키워드 인자 활용"
   ]
  },
  {
   "cell_type": "markdown",
   "id": "3cd784de",
   "metadata": {},
   "source": [
    "**답**"
   ]
  },
  {
   "cell_type": "code",
   "execution_count": 6,
   "id": "2cd9c100",
   "metadata": {},
   "outputs": [
    {
     "name": "stdout",
     "output_type": "stream",
     "text": [
      "24의 약수: 1 2 3 4 6 8 12 24 "
     ]
    }
   ],
   "source": [
    "n = 24\n",
    "\n",
    "print(n, \"의 약수:\", sep='', end=' ')\n",
    "for num in range(1, n+1):\n",
    "    if n % num == 0:\n",
    "        print(num, end=\" \")"
   ]
  },
  {
   "cell_type": "markdown",
   "id": "0c0c467a",
   "metadata": {
    "id": "akoVfOTao55r"
   },
   "source": [
    "## 예제"
   ]
  },
  {
   "cell_type": "markdown",
   "id": "f23fc0e5",
   "metadata": {
    "id": "KSHjiCE0nlrM"
   },
   "source": [
    "`while` 반복문을 이용하여 정수들을 나누어 몫을 구하는 프로그램을 구현한 후에 43을 7로 나눴을 때의 몫을 계산하라. \n",
    "단, 아래 주어진 변수들을 이용한다."
   ]
  },
  {
   "cell_type": "code",
   "execution_count": null,
   "id": "108946c1",
   "metadata": {},
   "outputs": [],
   "source": [
    "number = 43\n",
    "divisor = 7\n",
    "\n",
    "answer = 0 # 몫이 담길 변수\n"
   ]
  },
  {
   "cell_type": "markdown",
   "id": "bb10229a",
   "metadata": {
    "id": "akoVfOTao55r"
   },
   "source": [
    "## 예제"
   ]
  },
  {
   "cell_type": "markdown",
   "id": "5341d033",
   "metadata": {
    "id": "LyuZlArmhYVe"
   },
   "source": [
    "369게임은 자연수 n이 주어졌을 때 1부터 n까지의 자연수를\n",
    "다음 규칙에 따라 출력한다.\n",
    "\n",
    "* 3의 배수이거나 3을 포함하는 경우, 해당하는 수를 출력하는 대신 문자열 `짝`을 출력\n",
    "* 나머지 수는 그대로 출력\n",
    "\n",
    "예를 들어, n이 10인 경우 다음과 같이 출력된다.\n",
    "\n",
    "```\n",
    "1 2 짝 4 5 짝 7 8 짝 10\n",
    "```\n",
    "\n",
    "369게임을 진행하는 프로그램을 구현하여 n이 30일 때의 출력 결과를 확인하라.\n",
    "\n",
    "힌트: `for` 반복문, `%` 연산자, `in` 연산자, `str()` 함수, `print()` 함수의 `end` 키워드 인자"
   ]
  },
  {
   "cell_type": "markdown",
   "id": "ae67894a",
   "metadata": {
    "id": "akoVfOTao55r"
   },
   "source": [
    "## 예제"
   ]
  },
  {
   "cell_type": "markdown",
   "id": "250ac87c",
   "metadata": {
    "id": "FEiLOk0rkCpe"
   },
   "source": [
    "다음은 369게임의 수정된 규칙이다.\n",
    "\n",
    "* 3의 배수이거나 3을 포함하는 경우, 해당하는 수를 출력하는 대신 문자열 `짝`을 출력\n",
    "* 3의 배수이면서 3을 포함하는 경우, 해당하는 수를 출력하는 대신 문자열 `짝짝`을 출력\n",
    "* 나머지 수는 그대로 출력\n",
    "* 마지막에 `짝`이 몇 번 나왔는지 출력\n",
    "\n",
    "예를 들어, n이 10인 경우 다음과 같이 출력된다.\n",
    "\n",
    "```\n",
    "1 2 짝짝 4 5 짝 7 8 짝 10\n",
    "횟수: 4 번\n",
    "```\n",
    "\n",
    "369게임을 진행하는 프로그램을 구현하여 n이 30일 때의 출력 결과를 확인하라.\n",
    "\n",
    "힌트: `for` 반복문, `%` 연산자, `in` 연산자, `str()` 함수, `print()` 함수의 `end` 키워드 인자"
   ]
  },
  {
   "cell_type": "code",
   "execution_count": null,
   "id": "86ec907a",
   "metadata": {},
   "outputs": [],
   "source": []
  },
  {
   "cell_type": "code",
   "execution_count": null,
   "id": "eedb4484",
   "metadata": {},
   "outputs": [],
   "source": []
  },
  {
   "cell_type": "markdown",
   "id": "ee89a13c",
   "metadata": {},
   "source": [
    "## 예제"
   ]
  },
  {
   "cell_type": "markdown",
   "id": "27c3deba",
   "metadata": {},
   "source": [
    "- `break`와 `continue`를 이용한 예제 만들 것.\n",
    "\n",
    "- 5장 함수의 필수 예제와 연습문제에서 사용된 `while` 반복문 문제를 활용할 수도 있음."
   ]
  },
  {
   "cell_type": "markdown",
   "id": "5561dbff",
   "metadata": {},
   "source": [
    "**`break` 명령문과 `for` 반복문**"
   ]
  },
  {
   "cell_type": "markdown",
   "id": "60ffdaf4",
   "metadata": {},
   "source": [
    "반복문이 실행되다가 `break` 명령문에 다다르는 순간 실행중인 반복문이 바로 종료된다."
   ]
  },
  {
   "cell_type": "markdown",
   "id": "60d06a8b",
   "metadata": {},
   "source": [
    "예를 들어, 아래 코드는 정수 `n`이 소수인지 아닌지 여부를 판단한다.\n",
    "양의 정수가 소수가 되려면 2보다 크고 자신보다 작은 모든 정수에 대해 배수가 아니어야 한다.\n",
    "이 사실을 확인하기 위해 `for` 반복문을 이용한다.\n",
    "\n",
    "- `is_prime` 변수: 처음에 `True`를 가리키다가 `n`을 나누는 2보다 큰 정수가 확인되는 순간 \n",
    "    `False`로 변하게 되어 `n`이 소수가 아님을 기억한다.\n",
    "\n",
    "- `break` 명령문: `n`이 어떤 수의 배수가 되는 순간, 즉 소수가 아님이 밝혀지는 순간 \n",
    "    실행되어 `for` 반복문이 종료되도록 한다.\n",
    "    \n",
    "하지만 `break` 명령문이 실행되지 않았다면 이는 `is_prime` 변수가 계속해서 `True`를\n",
    "가리키기에 최종적으로 `n`이 소수임을 확인하는 문장이 출력된다."
   ]
  },
  {
   "cell_type": "markdown",
   "id": "2d749ff4",
   "metadata": {},
   "source": [
    "- 7은 소수: `for` 반복문에 포함된 `break` 명령문이 실행되지 않음."
   ]
  },
  {
   "cell_type": "code",
   "execution_count": 43,
   "id": "ad371ff2",
   "metadata": {},
   "outputs": [
    {
     "name": "stdout",
     "output_type": "stream",
     "text": [
      "- 7 은(는) 소수다.\n"
     ]
    }
   ],
   "source": [
    "n = 7\n",
    "\n",
    "is_prime = True # 이 값이 계속 유지되면 소수임\n",
    "\n",
    "for x in range(2, n):\n",
    "    if n % x == 0:\n",
    "        is_prime = False\n",
    "        print(\"-\", n, \"=\", x, \"*\", n//x, end=\", \")\n",
    "        print(\"따라서\", n, \"은(는) 소수가 아니다.\")\n",
    "        break\n",
    "\n",
    "if is_prime:\n",
    "    print(\"-\", n, \"은(는) 소수다.\")"
   ]
  },
  {
   "cell_type": "markdown",
   "id": "612233e4",
   "metadata": {},
   "source": [
    "- 6은 소수 아님: 6이 2의 배수임이 확인되는 순간 지정된 문장을 출력하고 `break` 명령문에 의해 `for` 반복문이 종료됨."
   ]
  },
  {
   "cell_type": "code",
   "execution_count": 42,
   "id": "f5302094",
   "metadata": {},
   "outputs": [
    {
     "name": "stdout",
     "output_type": "stream",
     "text": [
      "- 6 = 2 * 3, 따라서 6 은(는) 소수가 아니다.\n"
     ]
    }
   ],
   "source": [
    "n = 6\n",
    "\n",
    "is_prime = True # 이 값이 계속 유지되면 소수임\n",
    "\n",
    "for x in range(2, n):\n",
    "    if n % x == 0:\n",
    "        is_prime = False\n",
    "        print(\"-\", n, \"=\", x, \"*\", n//x, end=\", \")\n",
    "        print(\"따라서\", n, \"은(는) 소수가 아니다.\")\n",
    "        break\n",
    "\n",
    "if is_prime:\n",
    "    print(\"-\", n, \"은(는) 소수다.\")"
   ]
  },
  {
   "cell_type": "markdown",
   "id": "fd81e8c8",
   "metadata": {},
   "source": [
    "**`break` 명령문과 `while` 반복문**"
   ]
  },
  {
   "cell_type": "markdown",
   "id": "0bcafcca",
   "metadata": {},
   "source": [
    "`break` 명령문은 `while` 반복문에서 사용될 때에도 기능은 동일하다.\n",
    "즉 `break` 명령문이 실행되는 순간 `while` 반복문의 실행이 종료된다.\n",
    "\n",
    "예를 들어 아래 코드는 앞서 소개한 \"수 알아맞히기 게임\" 코드를 조금 수정해서\n",
    "사용자가 게임 실행중에 아무 때나 반복문의 실행을 종료하는 기능을 추가하였다.\n",
    "추가된 코드는 다음과 같다.\n",
    "\n",
    "```python\n",
    "if guess == 0:\n",
    "    break\n",
    "```\n",
    "\n",
    "즉, 사용자가 0을 입력하고 <kbd>Enter</kbd>키를 누르면\n",
    "반복문의 실행이 바로 종료되고\n",
    "코드에 남은 이후의 명령문이 실행된다."
   ]
  },
  {
   "cell_type": "code",
   "execution_count": 48,
   "id": "23b44dae",
   "metadata": {},
   "outputs": [
    {
     "name": "stdout",
     "output_type": "stream",
     "text": [
      "수 알아맞히기 게임에 환영합니다.\n",
      "1부터 100 사이의 정수 하나를 입력하세요: 0\n",
      "게임 종료!\n"
     ]
    }
   ],
   "source": [
    "print(\"수 알아맞히기 게임에 환영합니다.\")\n",
    "\n",
    "secret = 17\n",
    "guess = -1   # 이어지는 while 반복문이 최소 한 번은 실행되도록 함\n",
    "\n",
    "while guess != secret:\n",
    "    guess = int(input(\"1부터 100 사이의 정수 하나를 입력하세요: \"))\n",
    "    \n",
    "    if guess == 0:       # 0이 입력되면 반복문 실행 종료\n",
    "        break\n",
    "        \n",
    "    if guess == secret:\n",
    "        print(\"맞았습니다!\")\n",
    "    elif guess > secret:\n",
    "        print(\"너무 커요!\")\n",
    "    else:\n",
    "        print(\"너무 작아요!\")\n",
    "\n",
    "print(\"게임 종료!\")"
   ]
  },
  {
   "cell_type": "markdown",
   "id": "ee04b867",
   "metadata": {},
   "source": [
    "**`break`/`continue` 명령문의 영향 범위**"
   ]
  },
  {
   "cell_type": "markdown",
   "id": "68957d79",
   "metadata": {},
   "source": [
    "`for` 또는 `while` 반복문이 중첩되어 사용되었을 때 \n",
    "내부의 `for`/`while` 반복문에 포함된 `break` 명령문이 실행되면\n",
    "해당 `for`/`while` 반복문만 종료된다."
   ]
  },
  {
   "cell_type": "markdown",
   "id": "7f74e560",
   "metadata": {},
   "source": [
    "예제:"
   ]
  },
  {
   "cell_type": "code",
   "execution_count": 1,
   "id": "faece91a",
   "metadata": {},
   "outputs": [
    {
     "name": "stdout",
     "output_type": "stream",
     "text": [
      "(0, 0)\n",
      "(1, 0)\n",
      "(1, 1)\n",
      "(2, 0)\n",
      "(2, 1)\n",
      "(2, 2)\n",
      "(3, 0)\n",
      "(3, 1)\n",
      "(3, 2)\n",
      "(3, 3)\n"
     ]
    }
   ],
   "source": [
    "for i in range(4):\n",
    "    for j in range(4):\n",
    "        if j > i:\n",
    "            break\n",
    "        print((i, j))"
   ]
  },
  {
   "cell_type": "code",
   "execution_count": 2,
   "id": "4d0a39bf",
   "metadata": {},
   "outputs": [
    {
     "name": "stdout",
     "output_type": "stream",
     "text": [
      "(0, 0)\n",
      "(1, 0)\n",
      "(1, 1)\n",
      "(2, 0)\n",
      "(2, 1)\n",
      "(2, 2)\n",
      "(3, 0)\n",
      "(3, 1)\n",
      "(3, 2)\n",
      "(3, 3)\n"
     ]
    }
   ],
   "source": [
    "for i in range(4):\n",
    "    for j in range(4):\n",
    "        if j > i:\n",
    "            continue\n",
    "        print((i, j))"
   ]
  },
  {
   "cell_type": "markdown",
   "id": "662b7f57",
   "metadata": {},
   "source": [
    "예제:\n",
    "\n",
    "아래 코드는 2부터 10까지의 정수를 대상으로 소수 여부를 확인해준다.\n",
    "그런데 2부터 10까지를 대상으로 하는 외부 `for` 반복문은 `break`와 상관없이 모든 경우를 처리한다."
   ]
  },
  {
   "cell_type": "code",
   "execution_count": 41,
   "id": "859c8d1a",
   "metadata": {},
   "outputs": [
    {
     "name": "stdout",
     "output_type": "stream",
     "text": [
      "- 2 은(는) 소수다.\n",
      "- 3 은(는) 소수다.\n",
      "- 4 = 2 * 2, 따라서 4 은(는) 소수가 아니다.\n",
      "- 5 은(는) 소수다.\n",
      "- 6 = 2 * 3, 따라서 6 은(는) 소수가 아니다.\n",
      "- 7 은(는) 소수다.\n",
      "- 8 = 2 * 4, 따라서 8 은(는) 소수가 아니다.\n",
      "- 9 = 3 * 3, 따라서 9 은(는) 소수가 아니다.\n",
      "- 10 = 2 * 5, 따라서 10 은(는) 소수가 아니다.\n"
     ]
    }
   ],
   "source": [
    "for n in range(2, 11):\n",
    "    is_prime = True # 이 값이 계속 유지되면 소수임\n",
    "\n",
    "    for x in range(2, n):\n",
    "        if n % x == 0:\n",
    "            is_prime = False\n",
    "            print(\"-\", n, \"=\", x, \"*\", n//x, end=\", \")\n",
    "            print(\"따라서\", n, \"은(는) 소수가 아니다.\")\n",
    "            break\n",
    "\n",
    "    if is_prime:\n",
    "        print(\"-\", n, \"은(는) 소수다.\")"
   ]
  },
  {
   "cell_type": "markdown",
   "id": "97a7e374",
   "metadata": {},
   "source": [
    "아래 경우는?"
   ]
  },
  {
   "cell_type": "code",
   "execution_count": 1,
   "id": "cc903d55",
   "metadata": {},
   "outputs": [
    {
     "name": "stdout",
     "output_type": "stream",
     "text": [
      "- 2 은(는) 소수다.\n"
     ]
    }
   ],
   "source": [
    "for n in range(2, 11):\n",
    "    is_prime = True # 이 값이 계속 유지되면 소수임\n",
    "\n",
    "    for x in range(2, n):\n",
    "        if n % x == 0:\n",
    "            is_prime = False\n",
    "            print(\"-\", n, \"=\", x, \"*\", n//x, end=\", \")\n",
    "            print(\"따라서\", n, \"은(는) 소수가 아니다.\")\n",
    "            break\n",
    "\n",
    "    if is_prime:\n",
    "        print(\"-\", n, \"은(는) 소수다.\")\n",
    "        \n",
    "    break"
   ]
  },
  {
   "cell_type": "markdown",
   "id": "a7a0b20d",
   "metadata": {},
   "source": [
    "아래 코드는?"
   ]
  },
  {
   "cell_type": "code",
   "execution_count": 3,
   "id": "211ce237",
   "metadata": {},
   "outputs": [
    {
     "name": "stdout",
     "output_type": "stream",
     "text": [
      "- 2 은(는) 소수다.\n",
      "- 3 은(는) 소수다.\n",
      "- 5 은(는) 소수다.\n",
      "- 7 은(는) 소수다.\n"
     ]
    }
   ],
   "source": [
    "for n in range(2, 11):\n",
    "    is_prime = True # 이 값이 계속 유지되면 소수임\n",
    "\n",
    "    for x in range(2, n):\n",
    "        if n % x == 0:\n",
    "            is_prime = False\n",
    "            continue\n",
    "            \n",
    "    if is_prime:\n",
    "        print(\"-\", n, \"은(는) 소수다.\")"
   ]
  },
  {
   "cell_type": "markdown",
   "id": "51278535",
   "metadata": {},
   "source": [
    "아래 코드는?"
   ]
  },
  {
   "cell_type": "code",
   "execution_count": 4,
   "id": "2afedf03",
   "metadata": {},
   "outputs": [
    {
     "name": "stdout",
     "output_type": "stream",
     "text": [
      "- 2 은(는) 소수다.\n",
      "- 3 은(는) 소수다.\n",
      "- 5 은(는) 소수다.\n",
      "- 7 은(는) 소수다.\n"
     ]
    }
   ],
   "source": [
    "for n in range(2, 10):\n",
    "    is_prime = True # 이 값이 계속 유지되면 소수임\n",
    "\n",
    "    for x in range(2, n):\n",
    "        if n % x == 0:\n",
    "            is_prime = False\n",
    "            continue\n",
    "\n",
    "    if is_prime:\n",
    "        print(\"-\", n, \"은(는) 소수다.\")"
   ]
  },
  {
   "cell_type": "markdown",
   "id": "803cddbd",
   "metadata": {},
   "source": [
    "**`continue` 명령문과 `while` 반복문**"
   ]
  },
  {
   "cell_type": "markdown",
   "id": "68d8b9c4",
   "metadata": {},
   "source": [
    "`while` 반복문의 본문을 실행하다가 `continue` 명령문 차례가 되는 순간\n",
    "바로 다시 `while` 반복문의 처음으로 되돌아 간다.\n",
    "\n",
    "예를 들어 아래 코드는 0보자 작거나 100보다 큰 정수를 입력하면 아래 `if` 조건문에 의해\n",
    "`while guess != secret`로 돌아가서 반복문을 다시 처음부터 실행한다.\n",
    " \n",
    "```python\n",
    "if guess < 0 or guess > 100:\n",
    "    continue\n",
    "```\n",
    "\n",
    "실제로 0 미만 100 초과 값을 세 번 입력한 후에 0을 입력한 결과는 다음과 같다."
   ]
  },
  {
   "cell_type": "code",
   "execution_count": 53,
   "id": "16974978",
   "metadata": {},
   "outputs": [
    {
     "name": "stdout",
     "output_type": "stream",
     "text": [
      "수 알아맞히기 게임에 환영합니다.\n",
      "1부터 100 사이의 정수 하나를 입력하세요: 200\n",
      "1부터 100 사이의 정수 하나를 입력하세요: 140\n",
      "1부터 100 사이의 정수 하나를 입력하세요: -30\n",
      "1부터 100 사이의 정수 하나를 입력하세요: 0\n",
      "게임 종료!\n"
     ]
    }
   ],
   "source": [
    "print(\"수 알아맞히기 게임에 환영합니다.\")\n",
    "\n",
    "secret = 17\n",
    "guess = -1   # 이어지는 while 반복문이 최소 한 번은 실행되도록 함\n",
    "\n",
    "while guess != secret:\n",
    "    guess = int(input(\"1부터 100 사이의 정수 하나를 입력하세요: \"))\n",
    "    \n",
    "    if guess < 0 or guess > 100:   # 0 미만, 100 초과의 값이 입력되면 다시 값을 입력 받도록 함\n",
    "        continue\n",
    "        \n",
    "    if guess == 0:       # 0이 입력되면 반복문 실행 종료\n",
    "        break\n",
    "\n",
    "    if guess == secret:\n",
    "        print(\"맞았습니다!\")\n",
    "    elif guess > secret:\n",
    "        print(\"너무 커요!\")\n",
    "    else:\n",
    "        print(\"너무 작아요!\")\n",
    "\n",
    "print(\"게임 종료!\")"
   ]
  },
  {
   "cell_type": "markdown",
   "id": "9909a5d0",
   "metadata": {},
   "source": [
    "## 예제"
   ]
  },
  {
   "cell_type": "markdown",
   "id": "028c32ae",
   "metadata": {},
   "source": [
    "1부터 9 사이의 자연수 `n`을 입력 받아 구구단에서 `n`단을 아래 형식으로 출력하는 코드를 \n",
    "`for` 반복문을 이용하여 작성한다.\n",
    "예를 들어 3을 입력하면 3단을 다음과 같이 출력력한다.\n",
    "\n",
    "```\n",
    "3 * 2 = 6\n",
    "3 * 3 = 9\n",
    "3 * 4 = 12\n",
    "3 * 5 = 15\n",
    "3 * 6 = 18\n",
    "3 * 7 = 21\n",
    "3 * 8 = 24\n",
    "3 * 9 = 27\n",
    "```\n",
    "\n",
    "힌트: `range()` 함수 활용"
   ]
  },
  {
   "cell_type": "markdown",
   "id": "9f736d25",
   "metadata": {},
   "source": [
    "모범답안:"
   ]
  },
  {
   "cell_type": "markdown",
   "id": "abea2d85",
   "metadata": {},
   "source": [
    "입력값을 이용하여 구구단을 출력하려면 2부터 9까지의 값이\n",
    "필요하여 이를 위해 아래 리스트를 미리 변수에 할당한다."
   ]
  },
  {
   "cell_type": "code",
   "execution_count": 10,
   "id": "ca11b7df",
   "metadata": {},
   "outputs": [],
   "source": [
    "two2nine = range(2, 10)"
   ]
  },
  {
   "cell_type": "markdown",
   "id": "5e722547",
   "metadata": {},
   "source": [
    "위 리스트를 이용하여 `for` 반복문을 다음과 같이 작성한다.\n",
    "`print()`는 실행될 때마다 줄바꿈이 자동으로 진행됨에 주의한다."
   ]
  },
  {
   "cell_type": "code",
   "execution_count": 11,
   "id": "449a7aa0",
   "metadata": {},
   "outputs": [
    {
     "name": "stdout",
     "output_type": "stream",
     "text": [
      "1에서 9 사이의 자연수 입력: 3\n",
      "3 * 2 = 6\n",
      "3 * 3 = 9\n",
      "3 * 4 = 12\n",
      "3 * 5 = 15\n",
      "3 * 6 = 18\n",
      "3 * 7 = 21\n",
      "3 * 8 = 24\n",
      "3 * 9 = 27\n"
     ]
    }
   ],
   "source": [
    "n = int(input(\"1에서 9 사이의 자연수 입력: \"))\n",
    "\n",
    "for item in two2nine:\n",
    "    print(n, '*', item, '=', n*item)"
   ]
  },
  {
   "cell_type": "markdown",
   "id": "7e7c231a",
   "metadata": {},
   "source": [
    "## 예제"
   ]
  },
  {
   "cell_type": "markdown",
   "id": "61c09282",
   "metadata": {},
   "source": [
    "양의 정수가 입력되면 1 부터 n 까지의 정수의 제곱의 합을 구하는 `square_sum()` 함수를 구현하라."
   ]
  },
  {
   "cell_type": "code",
   "execution_count": 3,
   "id": "97b66fb7",
   "metadata": {},
   "outputs": [],
   "source": [
    "# pass 와 None 을 각각 적절한 명령문과 반환값으로 대체하라.\n",
    "\n",
    "def square_sum(n):\n",
    "    pass\n",
    "\n",
    "    return None"
   ]
  },
  {
   "cell_type": "code",
   "execution_count": 4,
   "id": "f8d8994e",
   "metadata": {},
   "outputs": [],
   "source": [
    "# 주석기호를 제거하고 실행할 때 오류가 발생하지 않아야 한다.\n",
    "\n",
    "# assert square_sum(1) == 1\n",
    "# assert square_sum(3) == 14\n",
    "# assert square_sum(5) == 55"
   ]
  },
  {
   "cell_type": "markdown",
   "id": "9287aea1",
   "metadata": {},
   "source": [
    "## 예제"
   ]
  },
  {
   "cell_type": "markdown",
   "id": "4bbf0706",
   "metadata": {},
   "source": [
    "얌체공을 높은 곳에서 놓아 자연낙하 시키면 바닥에 닿을 때마다 원래 높이의 2/3 만큼 튀어 오른다.\n",
    "하지만 바닥으로부터 1 cm 이하 높이가 되면 더 이상 튀어오르지 않는다.\n",
    "\n",
    "얌체공을 n cm 높이에서 자유낙하 시키면 더 이상 튀어오르지 않을 때까지 튀어오른 공의 높이를 모두 \n",
    "합한 결과를 반환하는 `bouncy()` 함수를 구현하라.\n",
    "단, 반환값은 소숫점 이하 셋째자리에서 반올림한다.\n",
    "\n",
    "힌트: [`round()` 함수](https://www.w3schools.com/python/ref_func_round.asp) 참고"
   ]
  },
  {
   "cell_type": "code",
   "execution_count": 7,
   "id": "0a2d3a78",
   "metadata": {},
   "outputs": [],
   "source": [
    "# pass 와 None 을 각각 적절한 명령문과 반환값으로 대체하라.\n",
    "\n",
    "def bouncy(n):\n",
    "    pass\n",
    "\n",
    "    return None"
   ]
  },
  {
   "cell_type": "code",
   "execution_count": 8,
   "id": "10434f20",
   "metadata": {},
   "outputs": [],
   "source": [
    "# 주석기호를 제거하고 실행할 때 오류가 발생하지 않아야 한다.\n",
    "\n",
    "# assert bouncy(1) == 0\n",
    "# assert bouncy(2) == 2.22\n",
    "# assert bouncy(10) == 18.24"
   ]
  },
  {
   "cell_type": "markdown",
   "id": "9401e9f4",
   "metadata": {
    "id": "BR35apnL0Tf9"
   },
   "source": [
    "## 예제"
   ]
  },
  {
   "cell_type": "markdown",
   "id": "4848bf06",
   "metadata": {
    "id": "DxP4L1g30ZpC"
   },
   "source": [
    "연이자 5%인 정기예금에 1천만원을 10년간 은행에 맡겼을 때\n",
    "10년 후에 수령할 금액을 계산하는 코드를 `while` 반복문을 이용하여 \n",
    "원리합계를 계산하는 코드를 작성한다."
   ]
  },
  {
   "cell_type": "markdown",
   "id": "3007efc4",
   "metadata": {
    "id": "DxP4L1g30ZpC"
   },
   "source": [
    "단, 다음 형식으로 출력하라.\n",
    "\n",
    "> 10년 후 받을 원금 + 이자는 OOO 원입니다."
   ]
  },
  {
   "cell_type": "markdown",
   "id": "d77a1896",
   "metadata": {},
   "source": [
    "원리합계 계산은 아래 식을 따른다."
   ]
  },
  {
   "cell_type": "markdown",
   "id": "11bf1310",
   "metadata": {},
   "source": [
    "> 원리합계 ＝ 원금 +  (1 ＋ 연금리 * 기간)"
   ]
  },
  {
   "cell_type": "markdown",
   "id": "1fb0e35a",
   "metadata": {},
   "source": [
    "모범답안:"
   ]
  },
  {
   "cell_type": "markdown",
   "id": "6e11a210",
   "metadata": {},
   "source": [
    "원리합계 계산 코드는 다음과 같다.\n",
    "\n",
    "```\n",
    "savings = principal * (1 + rate * period)\n",
    "```\n",
    "\n",
    "그런데 할당값으로 사용되는 수식을 풀어쓰면 다음과 같다.\n",
    "\n",
    "```\n",
    "savings = principal + principal * rate * period\n",
    "```\n",
    "\n",
    "그리고 `principal * rate * period`가 총이자에 해당하며\n",
    "변수 `period`에 의존하여 이자가 증가한다.\n",
    "즉 1년 마다 받는 이자인 `principal * rate`를 `period` 기간동안 누적합하면\n",
    "총이자가 된다.\n",
    "이 내용을 `while` 반복문을 이용하여 구현하면 된다."
   ]
  },
  {
   "cell_type": "code",
   "execution_count": 53,
   "id": "c3685613",
   "metadata": {},
   "outputs": [
    {
     "name": "stdout",
     "output_type": "stream",
     "text": [
      "10년 후 받는 원금 + 이자는 15000000.0 원입니다.\n"
     ]
    }
   ],
   "source": [
    "principal = 10000000 # 원금\n",
    "rate = 0.05          # 연이자\n",
    "period = 10         # 10년\n",
    "\n",
    "interests = 0       # 연이자 누적합 저장\n",
    "num_of_years = 1    # while 반복문에 사용되는 변수. 1씩 증가.\n",
    "\n",
    "while num_of_years <= period:\n",
    "    interests = interests + principal * rate\n",
    "    num_of_years = num_of_years + 1\n",
    "\n",
    "savings = principal + interests # 원리합계\n",
    "\n",
    "print(\"10년 후 받는 원금 + 이자는\", savings, \"원입니다.\")"
   ]
  }
 ],
 "metadata": {
  "kernelspec": {
   "display_name": "Python 3 (ipykernel)",
   "language": "python",
   "name": "python3"
  },
  "language_info": {
   "codemirror_mode": {
    "name": "ipython",
    "version": 3
   },
   "file_extension": ".py",
   "mimetype": "text/x-python",
   "name": "python",
   "nbconvert_exporter": "python",
   "pygments_lexer": "ipython3",
   "version": "3.11.4"
  },
  "toc-autonumbering": true,
  "toc-showcode": false,
  "toc-showmarkdowntxt": false
 },
 "nbformat": 4,
 "nbformat_minor": 5
}
