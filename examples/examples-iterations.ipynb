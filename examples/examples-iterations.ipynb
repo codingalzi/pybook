{
 "cells": [
  {
   "cell_type": "markdown",
   "id": "2d03d247-e2d3-4afe-ab5e-83dc989ed62d",
   "metadata": {},
   "source": [
    "# (필수 예제) 반복문"
   ]
  },
  {
   "cell_type": "markdown",
   "id": "af7b54e2",
   "metadata": {
    "id": "akoVfOTao55r"
   },
   "source": [
    "## 예제 1"
   ]
  },
  {
   "cell_type": "markdown",
   "id": "53b0c4e4",
   "metadata": {},
   "source": [
    "2부터 9 사이의 자연수 `n`을 입력 받아 구구단에서 `n`단을 아래 형식으로 출력하는 \n",
    "`times_table()` 함수를 `for` 반복문을 이용하여 작성한다.\n",
    "예를 들어 `time_table(3)`을 호출하면 3단을 다음과 같이 출력력한다.\n",
    "\n",
    "```\n",
    "3 * 2 = 6\n",
    "3 * 3 = 9\n",
    "3 * 4 = 12\n",
    "3 * 5 = 15\n",
    "3 * 6 = 18\n",
    "3 * 7 = 21\n",
    "3 * 8 = 24\n",
    "3 * 9 = 27\n",
    "```\n",
    "\n",
    "힌트: `range()` 함수 활용"
   ]
  },
  {
   "cell_type": "markdown",
   "id": "787c7705",
   "metadata": {},
   "source": [
    "**답**"
   ]
  },
  {
   "cell_type": "markdown",
   "id": "92524f14",
   "metadata": {},
   "source": [
    "입력값을 이용하여 구구단을 출력하려면 2부터 9까지의 값이\n",
    "필요하여 이를 위해 아래 리스트를 미리 변수에 할당한다."
   ]
  },
  {
   "cell_type": "code",
   "execution_count": 3,
   "id": "afaa204e",
   "metadata": {},
   "outputs": [],
   "source": [
    "two2nine = range(2, 10)"
   ]
  },
  {
   "cell_type": "markdown",
   "id": "b183ded2",
   "metadata": {},
   "source": [
    "위 리스트를 이용하여 3단을 출력하는 `for` 반복문을 다음과 같이 작성한다.\n",
    "`print()` 함수는 실행될 때마다 줄바꿈이 자동으로 진행됨에 주의한다."
   ]
  },
  {
   "cell_type": "code",
   "execution_count": 4,
   "id": "dbea44f5",
   "metadata": {},
   "outputs": [
    {
     "name": "stdout",
     "output_type": "stream",
     "text": [
      "3 * 2 = 6\n",
      "3 * 3 = 9\n",
      "3 * 4 = 12\n",
      "3 * 5 = 15\n",
      "3 * 6 = 18\n",
      "3 * 7 = 21\n",
      "3 * 8 = 24\n",
      "3 * 9 = 27\n"
     ]
    }
   ],
   "source": [
    "n = 3\n",
    "\n",
    "for item in two2nine:\n",
    "    print(n, '*', item, '=', n*item)"
   ]
  },
  {
   "cell_type": "markdown",
   "id": "70db359d",
   "metadata": {},
   "source": [
    "앞서 설명한 코드를 정리해서 `times_table()` 함수를 아래처럼 정의할 수 있다."
   ]
  },
  {
   "cell_type": "code",
   "execution_count": 5,
   "id": "7394fa91",
   "metadata": {},
   "outputs": [],
   "source": [
    "two2nine = range(2, 10)\n",
    "\n",
    "def times_table(n):\n",
    "    for item in two2nine:\n",
    "        print(n, '*', item, '=', n*item)"
   ]
  },
  {
   "cell_type": "markdown",
   "id": "3a8678df",
   "metadata": {},
   "source": [
    "그러면 3단은 다음과 같이 표현된다."
   ]
  },
  {
   "cell_type": "code",
   "execution_count": 6,
   "id": "5148f848",
   "metadata": {},
   "outputs": [
    {
     "name": "stdout",
     "output_type": "stream",
     "text": [
      "3 * 2 = 6\n",
      "3 * 3 = 9\n",
      "3 * 4 = 12\n",
      "3 * 5 = 15\n",
      "3 * 6 = 18\n",
      "3 * 7 = 21\n",
      "3 * 8 = 24\n",
      "3 * 9 = 27\n"
     ]
    }
   ],
   "source": [
    "times_table(3)"
   ]
  },
  {
   "cell_type": "markdown",
   "id": "7128a95e",
   "metadata": {},
   "source": [
    "그러면 7단은 다음과 같이 표현된다."
   ]
  },
  {
   "cell_type": "code",
   "execution_count": 7,
   "id": "3fb3dda9",
   "metadata": {},
   "outputs": [
    {
     "name": "stdout",
     "output_type": "stream",
     "text": [
      "7 * 2 = 14\n",
      "7 * 3 = 21\n",
      "7 * 4 = 28\n",
      "7 * 5 = 35\n",
      "7 * 6 = 42\n",
      "7 * 7 = 49\n",
      "7 * 8 = 56\n",
      "7 * 9 = 63\n"
     ]
    }
   ],
   "source": [
    "times_table(7)"
   ]
  },
  {
   "cell_type": "markdown",
   "id": "d0e6dec5",
   "metadata": {},
   "source": [
    "## 예제 2"
   ]
  },
  {
   "cell_type": "markdown",
   "id": "a6ccb977",
   "metadata": {
    "id": "j5Yd_UXFuSHE"
   },
   "source": [
    "0부터 100까지의 숫자 중에서 3 또는 7의 배수를 모두 더한 결과를\n",
    "다음과 같이 출력하는 프로그램을 작성하라.\n",
    "\n",
    "```\n",
    "0~100의 숫자 중 3의 배수와 7의 배수들의 합: 2208\n",
    "```\n",
    "\n",
    "힌트: `range()` 함수와 `for` 반복문 활용"
   ]
  },
  {
   "cell_type": "markdown",
   "id": "2afe8c8a",
   "metadata": {},
   "source": [
    "**답**"
   ]
  },
  {
   "cell_type": "markdown",
   "id": "2807431c",
   "metadata": {},
   "source": [
    "0부터 100까지의 정수들의 구간은 `range(0, 101)`로 표현한다.\n",
    "그리고 `num` 하나의 정수를 가리킬 때 `num`이 3의 배수이거나 7의 배수인지 여부는\n",
    "다음 표현식이 판단한다.\n",
    "\n",
    "```python\n",
    "num % 3 == 0 or num % 7 == 0\n",
    "```\n",
    "\n",
    "이를 정리하여 0부터 100까지의 정수들 중에서 3의 배수이거나 7의 배수의 합을 \n",
    "계산하는 코드를 다음과 같다.\n",
    "`sum` 변수는 3 또는 7의 배수만을 더한 누적합을 기억하는 장치로 이용된다."
   ]
  },
  {
   "cell_type": "code",
   "execution_count": 8,
   "id": "5075af16",
   "metadata": {},
   "outputs": [
    {
     "name": "stdout",
     "output_type": "stream",
     "text": [
      "0~100의 숫자 중 3의 배수와 7의 배수들의 합: 2208\n"
     ]
    }
   ],
   "source": [
    "sum = 0\n",
    "\n",
    "for num in range(0, 101):\n",
    "    if num % 3 == 0 or num % 7 == 0:\n",
    "        sum += num\n",
    "        \n",
    "print(\"0~100의 숫자 중 3의 배수와 7의 배수들의 합:\", sum)"
   ]
  },
  {
   "cell_type": "markdown",
   "id": "faf27e80",
   "metadata": {
    "id": "akoVfOTao55r"
   },
   "source": [
    "## 예제 3"
   ]
  },
  {
   "cell_type": "markdown",
   "id": "8e4c687d",
   "metadata": {
    "id": "DL3G4F7CmkA1"
   },
   "source": [
    "자연수 `n`이 주어졌을 때, 1과 `n`을 제외한 `n`의 약수를 \n",
    "모두 출력하는 `factor()` 함수를 정의하라.\n",
    "예를 들어 `factor(24)`가 호출되었을 때 다음과 같이 출력되어야 한다.\n",
    "\n",
    "```\n",
    "24의 약수: 1 2 3 4 6 8 12 24 \n",
    "```\n",
    "\n",
    "힌트: `for` 반복문, `range()` 함수, `print()` 함수의 `sep`과 `end` 키워드 인자 활용"
   ]
  },
  {
   "cell_type": "markdown",
   "id": "ef2e7c34",
   "metadata": {},
   "source": [
    "**답**"
   ]
  },
  {
   "cell_type": "markdown",
   "id": "d82ff38b",
   "metadata": {},
   "source": [
    "정수 `n`의 약수는 보통 1부터 `n`까지 확인하지만 여기서는 양 끝수는 제외해야 한다.\n",
    "따라서 2부터 `n-1`까지의 정수 구간을 가리키는 `range(2, n)`에 대해 \n",
    "`for` 반복문을 돌리며 약수 여부를 판단한다.\n",
    "약수 여부는 `n`이 나누어 떨어지는가 여부로 판단된다.\n",
    "\n",
    "아래 코드는 `n`의 약수만 출력하는 `for` 반복문이다.\n",
    "\n",
    "```python\n",
    "for num in range(2, n):\n",
    "    if n % num == 0:\n",
    "        print(num, end=\" \")\n",
    "```\n",
    "\n",
    "이를 활용하여 `factor()` 함수를 구현하면 다음과 같다.\n",
    "함수 본문의 첫줄은 `\"...의 약수: \"` 부분을 출력하기 위해 사용된다."
   ]
  },
  {
   "cell_type": "code",
   "execution_count": 9,
   "id": "15bb567e",
   "metadata": {},
   "outputs": [],
   "source": [
    "def factor(n):\n",
    "    print(n, \"의 약수:\", sep='', end=' ')\n",
    "    for num in range(2, n):\n",
    "        if n % num == 0:\n",
    "            print(num, end=\" \")"
   ]
  },
  {
   "cell_type": "code",
   "execution_count": 10,
   "id": "8385f861",
   "metadata": {},
   "outputs": [
    {
     "name": "stdout",
     "output_type": "stream",
     "text": [
      "24의 약수: 2 3 4 6 8 12 "
     ]
    }
   ],
   "source": [
    "factor(24)"
   ]
  },
  {
   "cell_type": "markdown",
   "id": "d761c69f",
   "metadata": {
    "id": "akoVfOTao55r"
   },
   "source": [
    "## 예제 4"
   ]
  },
  {
   "cell_type": "markdown",
   "id": "b19487f8",
   "metadata": {},
   "source": [
    "탱탱볼, 일명 얌체공은 일정 높이에서 떨어뜨리면 반복해서 튀어 오른다.\n",
    "한 번 튀어 오를 때마다 원래 높이의 80% 정도까지 튀어오르고\n",
    "높이가 1cm 이하로 되는 순간 더 이상 튀어 오르지 않는다고 가정한다.\n",
    "\n",
    "높이 `h` cm 에서 얌체공을 놓아서 최종적으로 더 이상 튀어오르지 않을 때까지\n",
    "얌체공이 튀어오른 높이의 총합을 계산하는\n",
    "`bouncy()` 함수를 구현하라.\n",
    "\n",
    "힌트: `while` 반복문 활용"
   ]
  },
  {
   "cell_type": "markdown",
   "id": "04762c5f",
   "metadata": {},
   "source": [
    "**답**"
   ]
  },
  {
   "cell_type": "markdown",
   "id": "cfb4be65",
   "metadata": {},
   "source": [
    "얌체공의 처음 높이를 `jump`라 할 때 `jump`가 가리키는 값이 \n",
    "한 번 튈 때마다 기존의 값에 0.8을 곱한 값으로 업데이트 된다.\n",
    "\n",
    "```python\n",
    "jump = jump * 0.8 \n",
    "```\n",
    "\n",
    "따라서 한 번 튀어오를 때마다 올라간 높이의 누적합 `jump_sum`은\n",
    "다음과 같이 계산된다.\n",
    "\n",
    "```python\n",
    "jump_sum += jump\n",
    "```\n",
    "\n",
    "언급된 두 변수의 초기값은 다음과 같다.\n",
    "\n",
    "```python\n",
    "jump = h\n",
    "jump_sum = 0\n",
    "```\n",
    "\n",
    "`h`는 얌체공의 처음 높이를 가리킨다.\n",
    "\n",
    "위 내용을 정리해서 `bouncy()` 함수를 다음과 같이 구현할 수 있다."
   ]
  },
  {
   "cell_type": "code",
   "execution_count": 11,
   "id": "b429638a",
   "metadata": {},
   "outputs": [],
   "source": [
    "def bouncy(h):\n",
    "    jump = h               # 점푸해서 다다른 높이\n",
    "    jump_sum = 0           # 한 번 튕긴 후 점푸한 높이의 누적 합\n",
    "\n",
    "    while jump > 1:\n",
    "        jump = jump * 0.8 \n",
    "        jump_sum += jump\n",
    "\n",
    "    return jump_sum"
   ]
  },
  {
   "cell_type": "markdown",
   "id": "670c25b7",
   "metadata": {},
   "source": [
    "예를 들어 10cm 높이에서 떨어뜨린 얌체공이 튀어오른 총 높이는 다음과 같다."
   ]
  },
  {
   "cell_type": "code",
   "execution_count": 12,
   "id": "95d30912",
   "metadata": {},
   "outputs": [
    {
     "data": {
      "text/plain": [
       "36.56402616320001"
      ]
     },
     "execution_count": 12,
     "metadata": {},
     "output_type": "execute_result"
    }
   ],
   "source": [
    "bouncy(10)"
   ]
  },
  {
   "cell_type": "markdown",
   "id": "5ee39c98",
   "metadata": {},
   "source": [
    "함수의 본문에 사용된 `print(jump)` 명령문을 추가하면\n",
    "얌체공이 튀어오를 때마다 튀어오를 높이를 출력한다.\n",
    "이처럼 실행과정을 확인하고 싶을 때 `print()` 함수를 유용하게 활용할 수 있다."
   ]
  },
  {
   "cell_type": "code",
   "execution_count": 13,
   "id": "bd183538",
   "metadata": {},
   "outputs": [],
   "source": [
    "def bouncy(h):\n",
    "    jump = h               # 점푸해서 다다른 높이\n",
    "    jump_sum = 0           # 한 번 튕긴 후 점푸한 높이의 누적 합\n",
    "\n",
    "    while jump > 1:\n",
    "        jump = jump * 0.8 \n",
    "        print(jump)\n",
    "        jump_sum += jump\n",
    "\n",
    "    return jump_sum"
   ]
  },
  {
   "cell_type": "code",
   "execution_count": 14,
   "id": "8cf56598",
   "metadata": {},
   "outputs": [
    {
     "name": "stdout",
     "output_type": "stream",
     "text": [
      "8.0\n",
      "6.4\n",
      "5.120000000000001\n",
      "4.096000000000001\n",
      "3.276800000000001\n",
      "2.621440000000001\n",
      "2.097152000000001\n",
      "1.6777216000000008\n",
      "1.3421772800000007\n",
      "1.0737418240000005\n",
      "0.8589934592000005\n"
     ]
    },
    {
     "data": {
      "text/plain": [
       "36.56402616320001"
      ]
     },
     "execution_count": 14,
     "metadata": {},
     "output_type": "execute_result"
    }
   ],
   "source": [
    "bouncy(10)"
   ]
  },
  {
   "cell_type": "markdown",
   "id": "867f0ee8",
   "metadata": {
    "id": "BR35apnL0Tf9"
   },
   "source": [
    "## 예제 5"
   ]
  },
  {
   "cell_type": "markdown",
   "id": "c936671e",
   "metadata": {},
   "source": [
    "정기예금과 관련해서 원금, 연이자, 예치기간이 주어졌을 때 \n",
    "지정된 예치기간 후에 받을 원리합계, 즉, 원금과 이자의 합을 반환하는\n",
    "`total()` 함수를 구현하라.\n",
    "단, 총이자를 계사할 때 `while` 반복문을 반드시 이용한다.\n",
    "\n",
    "예를 들어, 연이자 5%인 정기예금에 1천만원을 10년간 은행에 맡겼을 때\n",
    "10년 후에 수령할 금액은 원금 1천만원에 이자 500만원이 추가되어\n",
    "총 1천5백만원이 된다.\n",
    "\n",
    "힌트: 원리합계 계산 코드는 다음과 같다.\n",
    "\n",
    "```\n",
    "total = principal + principal * rate * period\n",
    "```"
   ]
  },
  {
   "cell_type": "markdown",
   "id": "1fb0e35a",
   "metadata": {},
   "source": [
    "**답**"
   ]
  },
  {
   "cell_type": "markdown",
   "id": "6e11a210",
   "metadata": {},
   "source": [
    "원리합계 계산 코드는 다음과 같다.\n",
    "\n",
    "```\n",
    "total = principal + principal * rate * period\n",
    "```\n",
    "\n",
    "그리고 `principal * rate * period`가 총이자에 해당하며\n",
    "변수 `period`에 의존하여 이자가 증가한다.\n",
    "즉 1년 마다 받는 이자인 `principal * rate`를 `period` 기간동안 누적합하면\n",
    "총이자가 된다.\n",
    "이 내용을 `while` 반복문을 이용하여 구현하면 된다."
   ]
  },
  {
   "cell_type": "code",
   "execution_count": 15,
   "id": "2759387d",
   "metadata": {},
   "outputs": [],
   "source": [
    "def savings(principal, rate=0.05, period=1):\n",
    "\n",
    "    interests = 0       # 연이자 누적합 저장\n",
    "    num_of_years = 1    # while 반복문에 사용되는 변수. 1씩 증가.\n",
    "\n",
    "    while num_of_years <= period:\n",
    "        interests = interests + principal * rate\n",
    "        num_of_years = num_of_years + 1\n",
    "\n",
    "    total = principal + interests # 원리합계\n",
    "\n",
    "    return total"
   ]
  },
  {
   "cell_type": "code",
   "execution_count": 16,
   "id": "c3685613",
   "metadata": {},
   "outputs": [
    {
     "name": "stdout",
     "output_type": "stream",
     "text": [
      "1천만원을 이자 5%로 10년 예치 후 받는 원금 + 이자는 15000000.0 원입니다.\n"
     ]
    }
   ],
   "source": [
    "print(\"1천만원을 이자 5%로 10년 예치 후 받는 원금 + 이자는\", savings(10000000, 0.05, 10), \"원입니다.\")"
   ]
  },
  {
   "cell_type": "markdown",
   "id": "4a7b40b2",
   "metadata": {
    "id": "BR35apnL0Tf9"
   },
   "source": [
    "## 예제 6"
   ]
  },
  {
   "cell_type": "markdown",
   "id": "210ce780",
   "metadata": {},
   "source": [
    "`for`/`while` 반복문에 포함된  `continue` 명령문이 실행되면\n",
    "실행중인 반복문의 처음으로 돌아가서 반복문을 다시 시작한다.\n",
    "특히 `for` 반복문에서는 다음 경우가 실행된다.\n",
    "아래 코드의 실행 결과를 설명하라."
   ]
  },
  {
   "cell_type": "code",
   "execution_count": 17,
   "id": "d7e4cf71",
   "metadata": {},
   "outputs": [
    {
     "name": "stdout",
     "output_type": "stream",
     "text": [
      "- 3 은(는) 홀수다.\n",
      "- 5 은(는) 홀수다.\n",
      "- 7 은(는) 홀수다.\n",
      "- 9 은(는) 홀수다.\n",
      "실행 종료!\n"
     ]
    }
   ],
   "source": [
    "for n in range(2, 10):\n",
    "    is_even = True\n",
    "\n",
    "    if n % 2 == 1:\n",
    "        is_even = False\n",
    "        print(\"-\", n, \"은(는) 홀수다.\")\n",
    "    \n",
    "    continue\n",
    "\n",
    "    if is_even:\n",
    "        print(\"-\", n, \"은(는) 짝수다.\")\n",
    "        \n",
    "print(\"실행 종료!\")        "
   ]
  },
  {
   "cell_type": "markdown",
   "id": "2b658cbc",
   "metadata": {},
   "source": [
    "**답**"
   ]
  },
  {
   "cell_type": "markdown",
   "id": "ccd5576b",
   "metadata": {},
   "source": [
    "`for` 반복문은 `n`이 2부터 10까지의 정수를 차례대로 가리키는 동안 실행된다.\n",
    "\n",
    "- 4번 줄에서 시작하는 `if` 조건문은 `n`이 홀수일 때 홀수임을 확인한다.\n",
    "- 이후에 8번 줄에서 `continue` 명령문이 실행되어 `for` 반복문의 처음으로 돌아가 \n",
    "    `n`이 다음 정수를 가리킨 상태에서 다시 실행된다.\n",
    "- 따라서 10번 줄의 `if` 조건문은 전혀 실행되지 않아서 짝수인 경우는 무시되는 것처럼 보이게 되어 \n",
    "    결국 홀수인 경우에만 홀수임을 확인하는 문장이 출력된다.\n",
    "- `for` 반복문이 종료된 후에 이어지는 명령문이 계속해서 실행되어\n",
    "    마지막 줄의 `print(\"실행 종료!\")`에 의해 코드의 실행이 종료되었음을 확인해준다."
   ]
  },
  {
   "cell_type": "markdown",
   "id": "6aba7009",
   "metadata": {},
   "source": [
    "## 예제 7"
   ]
  },
  {
   "cell_type": "markdown",
   "id": "ece7bd2a",
   "metadata": {},
   "source": [
    "`for`/`while` 반복문에 포함된  `break` 명령문이 실행되면\n",
    "실행중인 반복문의 실행이 종료된다.\n",
    "아래 코드의 실행 결과를 설명하라."
   ]
  },
  {
   "cell_type": "code",
   "execution_count": 18,
   "id": "a4226c31",
   "metadata": {},
   "outputs": [],
   "source": [
    "def prime_check(n):\n",
    "    is_prime = True            # 이 값이 계속 유지되면 소수임\n",
    "\n",
    "    for x in range(2, n):\n",
    "        if n % x == 0:\n",
    "            is_prime = False   # 소수가 아님으로 판정\n",
    "            print(\"-\", n, \"=\", x, \"*\", n//x)\n",
    "            break\n",
    "            print(\"따라서\", n, \"은(는) 소수 아님!\")\n",
    "\n",
    "    if is_prime:\n",
    "        print(\"-\", n, \"은(는) 소수다.\")\n",
    "    else:\n",
    "        print(\" \", n, \"은(는) 소수가 아니다.\")"
   ]
  },
  {
   "cell_type": "code",
   "execution_count": 19,
   "id": "fe082db4",
   "metadata": {},
   "outputs": [
    {
     "name": "stdout",
     "output_type": "stream",
     "text": [
      "- 7 은(는) 소수다.\n"
     ]
    }
   ],
   "source": [
    "prime_check(7)"
   ]
  },
  {
   "cell_type": "code",
   "execution_count": 20,
   "id": "9737facc",
   "metadata": {},
   "outputs": [
    {
     "name": "stdout",
     "output_type": "stream",
     "text": [
      "- 6 = 2 * 3\n",
      "  6 은(는) 소수가 아니다.\n"
     ]
    }
   ],
   "source": [
    "prime_check(6)"
   ]
  },
  {
   "cell_type": "markdown",
   "id": "d34e3ecd",
   "metadata": {},
   "source": [
    "**답**"
   ]
  },
  {
   "cell_type": "markdown",
   "id": "33f17f0d",
   "metadata": {},
   "source": [
    "`prime_check()` 함수는 2보다 같거나 큰 양의 정수 `n`을 인자로 해서 호출되었을 때\n",
    "`n`의 소수 여부에 따라 소수면 소수임을 확인하는 문장을\n",
    "아니면 왜 소수가 아닌지에 대한 설명을 출력한다.\n",
    "\n",
    "양의 정수가 소수가 되려면 2보다 크고 자신보다 작은 모든 정수에 대해 배수가 아니어야 하는데\n",
    "이 사실을 확인하기 위해 `for` 반복문을 이용한다.\n",
    "\n",
    "- `is_prime` 변수: 처음에 `True`를 가리키다가 `n`을 나누는 2보다 큰 정수가 확인되는 순간 \n",
    "    `False`로 변하게 되어 `n`이 소수가 아님을 기억한다.\n",
    "\n",
    "- `break` 명령문: `n`이 어떤 수의 배수가 되는 순간, 즉 소수가 아님이 밝혀지는 순간 \n",
    "    실행되어 `for` 반복문이 종료되도록 한다.\n",
    "    따라서 9번 줄의 `print()` 함수는 실행되지 않는다.\n",
    "    \n",
    "`for` 반복문의 실행이 정상적으로 종료되었듯, 아니면 `break`에 의해 중간이 실행이 중단되었든\n",
    "`if` 조건문은 무조건 실행된다.\n",
    "하지만 `break` 명령문이 실행되지 않았다면 `is_prime` 변수가 계속해서 `True`를\n",
    "가리키기에 최종적으로 `n`이 소수임을 확인하는 문장이 출력된다.\n",
    "\n",
    "반면에 `break` 명령문에 의해 `for` 반복문이 중단되었다면\n",
    "`is_prime`이 `False`를 가리키고 있어야 하기에\n",
    "소수가 아님을 밝히는 문장이 출력된다."
   ]
  },
  {
   "cell_type": "markdown",
   "id": "dfbba536",
   "metadata": {},
   "source": [
    "## 예제 8"
   ]
  },
  {
   "cell_type": "markdown",
   "id": "49e952d0",
   "metadata": {},
   "source": [
    "`for`/`while` 반복문에 포함된  `continue` 명령문이 실행되면\n",
    "실행중인 반복문의 처음으로 돌아가서 반복문을 다시 시작한다.\n",
    "반면에 `for`/`while` 반복문애 포함된 `break` 명령문이 실행되면\n",
    "해당 반복문이 종료된다.\n",
    "아래 코드의 실행 결과를 설명하라."
   ]
  },
  {
   "cell_type": "code",
   "execution_count": 21,
   "id": "940aba5f",
   "metadata": {},
   "outputs": [
    {
     "name": "stdout",
     "output_type": "stream",
     "text": [
      "- 4 = 2 * 2\n",
      "- 6 = 2 * 3\n",
      "- 8 = 2 * 4\n",
      "- 9 = 3 * 3\n",
      "- 10 = 2 * 5\n"
     ]
    }
   ],
   "source": [
    "n = 2\n",
    "while n < 11:\n",
    "    is_prime = True # 이 값이 계속 유지되면 소수임\n",
    "\n",
    "    for x in range(2, n):\n",
    "        if n % x == 0:\n",
    "            is_prime = False\n",
    "            print(\"-\", n, \"=\", x, \"*\", n//x)\n",
    "            break\n",
    "            print(\"따라서\", n, \"은(는) 소수 아님!\")\n",
    "\n",
    "    n += 1\n",
    "    continue\n",
    "    \n",
    "    if is_prime:\n",
    "        print(\"-\", n, \"은(는) 소수다.\")\n",
    "    else:\n",
    "        print(\" \", n, \"은(는) 소수가 아니다.\")"
   ]
  },
  {
   "cell_type": "markdown",
   "id": "59015da3",
   "metadata": {},
   "source": [
    "**답**"
   ]
  },
  {
   "cell_type": "markdown",
   "id": "e322fcd6",
   "metadata": {},
   "source": [
    "2번 줄에서 시작하는 `while` 반복문은 2부터 10까지의 정수를 대상으로 한다.\n",
    "\n",
    "- 변수 `n`이 가리키는 값이 소수가 아닐 때\n",
    "    - 하나의 소인수 분해 예제 출력 후 `break` 명령문에 의해\n",
    "        4번 줄에서 시작하는 내부의 `for` 반복문 실행 종료\n",
    "    - 곧바로 `continue` 명령문이 실행되어 1번 줄의 `for` 반복문을 `n+1`에 대해 실행.\n",
    "\n",
    "- 변수 `n`이 소수를 가리킬 때\n",
    "    - 5번 줄에서 시작하는 `if ...` 조건문의 본문이 실행되지 않아 `break` 명령문이 전혀 실행되지 않음.\n",
    "    - 따라서 `for` 반복문이 정상적으로 실행 종료됨.\n",
    "    \n",
    "- 4번 줄에서 시작하는 내부 반복문의 실행이 종료된 후 곧바로 11번 줄의 `continue` 명령문이 실행되어\n",
    "    1번 줄의 `for` 반복문을 `n+1`에 대해 실행을 이어감.\n",
    "\n",
    "- 따라서 15번 줄부터 시작하는 `if ... else ...` 명령문은 어떤 경우에도 실행되지 않게 되어\n",
    "    소수이다/아니다를 최종적으로 확인하는 문장이 출력되지 않음.\n",
    "    특히 소수인 경우는 무시되는 것처럼 보임."
   ]
  },
  {
   "cell_type": "markdown",
   "id": "3ad65e76",
   "metadata": {},
   "source": [
    "## 예제 9"
   ]
  },
  {
   "cell_type": "markdown",
   "id": "ba73c211",
   "metadata": {},
   "source": [
    "`for`/`while` 반복문이 중첩되어 사용되었을 때 \n",
    "내부의 `for`/`while` 반복문에 포함된 `break` 명령문이 실행되면\n",
    "해당 `for`/`while` 반복문만 종료된다.\n",
    "아래 두 코드가 동일한 내용을 출력하는 이유를 설명하라."
   ]
  },
  {
   "cell_type": "markdown",
   "id": "7007875b",
   "metadata": {},
   "source": [
    "- 코드 1"
   ]
  },
  {
   "cell_type": "code",
   "execution_count": 22,
   "id": "a726a61a",
   "metadata": {},
   "outputs": [
    {
     "name": "stdout",
     "output_type": "stream",
     "text": [
      "[0, 0]\n",
      "[1, 0]\n",
      "[1, 1]\n",
      "[2, 0]\n",
      "[2, 1]\n",
      "[2, 2]\n",
      "[3, 0]\n",
      "[3, 1]\n",
      "[3, 2]\n",
      "[3, 3]\n"
     ]
    }
   ],
   "source": [
    "i = 0\n",
    "while i < 4:\n",
    "    j = 0\n",
    "    while j < 4:\n",
    "        if j > i:\n",
    "            break\n",
    "        print([i, j])\n",
    "        j += 1\n",
    "    i += 1"
   ]
  },
  {
   "cell_type": "markdown",
   "id": "cee98497",
   "metadata": {},
   "source": [
    "- 코드 2"
   ]
  },
  {
   "cell_type": "code",
   "execution_count": 23,
   "id": "18bdeef5",
   "metadata": {},
   "outputs": [
    {
     "name": "stdout",
     "output_type": "stream",
     "text": [
      "[0, 0]\n",
      "[1, 0]\n",
      "[1, 1]\n",
      "[2, 0]\n",
      "[2, 1]\n",
      "[2, 2]\n",
      "[3, 0]\n",
      "[3, 1]\n",
      "[3, 2]\n",
      "[3, 3]\n"
     ]
    }
   ],
   "source": [
    "i = 0\n",
    "while i < 4:\n",
    "    j = 0\n",
    "    while j < 4:\n",
    "        if j > i:\n",
    "            j += 1\n",
    "            continue\n",
    "        print([i, j])\n",
    "        j += 1\n",
    "    i += 1"
   ]
  },
  {
   "cell_type": "markdown",
   "id": "53bc1e2f",
   "metadata": {},
   "source": [
    "**답**"
   ]
  },
  {
   "cell_type": "markdown",
   "id": "55511201",
   "metadata": {},
   "source": [
    "코드 1은 다음과 같이 작동한다."
   ]
  },
  {
   "cell_type": "markdown",
   "id": "090bab1f",
   "metadata": {},
   "source": [
    "- `i`가 0부터 3까지 변함.\n",
    "- 각각의 `i`에 대해 `i < j` 가 거짓인 경우에만 리스트 `[i, j]` 출력.\n",
    "- 각각의 `i`에 대해 `i < j` 가 참이 되는 순간 `break` 명령문이 실행되어\n",
    "    내부의 반복문인 `while j < 4` 의 실행이 종료되고\n",
    "    `i+1`에 대해 외부의 `while i < 4` 반복문 실행\n",
    "- 결론적으로 `i <= j`인 경우에만 `[i, j]` 출력"
   ]
  },
  {
   "cell_type": "markdown",
   "id": "ff588e1c",
   "metadata": {},
   "source": [
    "코드 2는 다음과 같이 작동한다."
   ]
  },
  {
   "cell_type": "markdown",
   "id": "e55bf6bc",
   "metadata": {},
   "source": [
    "- `i`가 0부터 3까지 변함.\n",
    "- 각각의 `i`에 대해 `i < j` 가 거짓인 경우에만 리스트 `[i, j]` 출력.\n",
    "- 각각의 `i`에 대해 `i < j` 가 참이 되는 순간 `continue` 명령문이 실행되어\n",
    "    내부의 반복문인 `while j < 4` 의 처음으로 돌아가서 `j+1`에 대해 해당 반복문이 다시 실행되지만\n",
    "    계속해서 `i < j+1`이 참이 되기에 `j`가 4가 될 때까지 계속해서 `continue` 명령문이 실행된다.\n",
    "    즉, 더 이상의 출력이 실행되지 않은 상태에서 `while j < 4` 반복문의 실행이 종료되고\n",
    "    `i+1`에 대해 외부의 `while i < 4` 반복문 실행\n",
    "- 결국 `continue` 명령문 대신 코드 1에서처럼 `break` 명령문을 사용한 경우와 동일한 결과가 나온다."
   ]
  }
 ],
 "metadata": {
  "kernelspec": {
   "display_name": "Python 3 (ipykernel)",
   "language": "python",
   "name": "python3"
  },
  "language_info": {
   "codemirror_mode": {
    "name": "ipython",
    "version": 3
   },
   "file_extension": ".py",
   "mimetype": "text/x-python",
   "name": "python",
   "nbconvert_exporter": "python",
   "pygments_lexer": "ipython3",
   "version": "3.11.5"
  },
  "toc-autonumbering": true,
  "toc-showcode": false,
  "toc-showmarkdowntxt": false
 },
 "nbformat": 4,
 "nbformat_minor": 5
}
