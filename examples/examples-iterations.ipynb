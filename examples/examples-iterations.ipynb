{
 "cells": [
  {
   "cell_type": "markdown",
   "id": "2d03d247-e2d3-4afe-ab5e-83dc989ed62d",
   "metadata": {},
   "source": [
    "# (필수 예제) 반복문"
   ]
  },
  {
   "cell_type": "markdown",
   "id": "af7b54e2",
   "metadata": {
    "id": "akoVfOTao55r"
   },
   "source": [
    "## 예제 1"
   ]
  },
  {
   "cell_type": "markdown",
   "id": "d9f82188",
   "metadata": {
    "id": "akoVfOTao55r"
   },
   "source": [
    "`for` 반복문을 이용하여 아래 실행결과가 나오는 프로그램을 작성하라.\n",
    "단, `\"안녕하세요\"` 문자열이 코드에 단 한 번만 언급되어야 한다.\n",
    "\n",
    "```\n",
    "안녕하세요.\n",
    "안녕하세요.\n",
    "안녕하세요.\n",
    "안녕하세요.\n",
    "안녕하세요.\n",
    "```\n",
    "\n",
    "힌트: `range()` 함수 활용"
   ]
  },
  {
   "cell_type": "markdown",
   "id": "a66b42fd",
   "metadata": {},
   "source": [
    "**답**"
   ]
  },
  {
   "cell_type": "code",
   "execution_count": 8,
   "id": "b653e356",
   "metadata": {},
   "outputs": [
    {
     "name": "stdout",
     "output_type": "stream",
     "text": [
      "안녕하세요.\n",
      "안녕하세요.\n",
      "안녕하세요.\n",
      "안녕하세요.\n",
      "안녕하세요.\n"
     ]
    }
   ],
   "source": [
    "for num in range(5):\n",
    "    print(\"안녕하세요.\")"
   ]
  },
  {
   "cell_type": "markdown",
   "id": "7a4f09fc",
   "metadata": {},
   "source": [
    "`num` 변수가 반복문의 본문에 사용되지 않고 단순히 횟수를 세는 용도로만 사용된다.\n",
    "이런 경우 변수 이름이 굳이 필요 없으며 대신 밑줄 기호 `_` (영어로 underscore)를 사용하곤 한다."
   ]
  },
  {
   "cell_type": "code",
   "execution_count": 9,
   "id": "c70ec919",
   "metadata": {},
   "outputs": [
    {
     "name": "stdout",
     "output_type": "stream",
     "text": [
      "안녕하세요.\n",
      "안녕하세요.\n",
      "안녕하세요.\n",
      "안녕하세요.\n",
      "안녕하세요.\n"
     ]
    }
   ],
   "source": [
    "for _ in range(5):\n",
    "    print(\"안녕하세요.\")"
   ]
  },
  {
   "cell_type": "markdown",
   "id": "b0d14b6a",
   "metadata": {},
   "source": [
    "## 예제 2"
   ]
  },
  {
   "cell_type": "markdown",
   "id": "53b0c4e4",
   "metadata": {},
   "source": [
    "2부터 9 사이의 자연수 `n`을 입력 받아 구구단에서 `n`단을 아래 형식으로 출력하는 \n",
    "`times_table()` 함수를 `for` 반복문을 이용하여 작성한다.\n",
    "예를 들어 `time_table(3)`을 호출하면 3단을 다음과 같이 출력력한다.\n",
    "\n",
    "```\n",
    "3 * 2 = 6\n",
    "3 * 3 = 9\n",
    "3 * 4 = 12\n",
    "3 * 5 = 15\n",
    "3 * 6 = 18\n",
    "3 * 7 = 21\n",
    "3 * 8 = 24\n",
    "3 * 9 = 27\n",
    "```\n",
    "\n",
    "힌트: `range()` 함수 활용"
   ]
  },
  {
   "cell_type": "markdown",
   "id": "787c7705",
   "metadata": {},
   "source": [
    "**답**"
   ]
  },
  {
   "cell_type": "markdown",
   "id": "92524f14",
   "metadata": {},
   "source": [
    "입력값을 이용하여 구구단을 출력하려면 2부터 9까지의 값이\n",
    "필요하여 이를 위해 아래 리스트를 미리 변수에 할당한다."
   ]
  },
  {
   "cell_type": "code",
   "execution_count": 2,
   "id": "afaa204e",
   "metadata": {},
   "outputs": [],
   "source": [
    "two2nine = range(2, 10)"
   ]
  },
  {
   "cell_type": "markdown",
   "id": "b183ded2",
   "metadata": {},
   "source": [
    "위 리스트를 이용하여 3단을 출력하는 `for` 반복문을 다음과 같이 작성한다.\n",
    "`print()`는 실행될 때마다 줄바꿈이 자동으로 진행됨에 주의한다."
   ]
  },
  {
   "cell_type": "code",
   "execution_count": 3,
   "id": "dbea44f5",
   "metadata": {},
   "outputs": [
    {
     "name": "stdout",
     "output_type": "stream",
     "text": [
      "3 * 2 = 6\n",
      "3 * 3 = 9\n",
      "3 * 4 = 12\n",
      "3 * 5 = 15\n",
      "3 * 6 = 18\n",
      "3 * 7 = 21\n",
      "3 * 8 = 24\n",
      "3 * 9 = 27\n"
     ]
    }
   ],
   "source": [
    "n = 3\n",
    "\n",
    "for item in two2nine:\n",
    "    print(n, '*', item, '=', n*item)"
   ]
  },
  {
   "cell_type": "markdown",
   "id": "70db359d",
   "metadata": {},
   "source": [
    "앞서 설명한 코드를 정리해서 `times_table()` 함수를 아래처럼 정의할 수 있다."
   ]
  },
  {
   "cell_type": "code",
   "execution_count": 5,
   "id": "7394fa91",
   "metadata": {},
   "outputs": [],
   "source": [
    "two2nine = range(2, 10)\n",
    "\n",
    "def times_table(n):\n",
    "    for item in two2nine:\n",
    "        print(n, '*', item, '=', n*item)"
   ]
  },
  {
   "cell_type": "markdown",
   "id": "3a8678df",
   "metadata": {},
   "source": [
    "그러면 3단은 다음과 같이 표현된다."
   ]
  },
  {
   "cell_type": "code",
   "execution_count": 6,
   "id": "5148f848",
   "metadata": {},
   "outputs": [
    {
     "name": "stdout",
     "output_type": "stream",
     "text": [
      "3 * 2 = 6\n",
      "3 * 3 = 9\n",
      "3 * 4 = 12\n",
      "3 * 5 = 15\n",
      "3 * 6 = 18\n",
      "3 * 7 = 21\n",
      "3 * 8 = 24\n",
      "3 * 9 = 27\n"
     ]
    }
   ],
   "source": [
    "times_table(3)"
   ]
  },
  {
   "cell_type": "markdown",
   "id": "7128a95e",
   "metadata": {},
   "source": [
    "그러면 7단은 다음과 같이 표현된다."
   ]
  },
  {
   "cell_type": "code",
   "execution_count": 7,
   "id": "3fb3dda9",
   "metadata": {},
   "outputs": [
    {
     "name": "stdout",
     "output_type": "stream",
     "text": [
      "7 * 2 = 14\n",
      "7 * 3 = 21\n",
      "7 * 4 = 28\n",
      "7 * 5 = 35\n",
      "7 * 6 = 42\n",
      "7 * 7 = 49\n",
      "7 * 8 = 56\n",
      "7 * 9 = 63\n"
     ]
    }
   ],
   "source": [
    "times_table(7)"
   ]
  },
  {
   "cell_type": "markdown",
   "id": "544c0ca7",
   "metadata": {
    "id": "akoVfOTao55r"
   },
   "source": [
    "## 예제 3"
   ]
  },
  {
   "cell_type": "markdown",
   "id": "a6ccb977",
   "metadata": {
    "id": "j5Yd_UXFuSHE"
   },
   "source": [
    "0부터 100까지의 숫자 중에서 3 또는 7의 배수를 모두 더한 결과를\n",
    "다음과 같이 출력하는 프로그램을 작성하라.\n",
    "\n",
    "```\n",
    "0~100의 숫자 중 3의 배수와 7의 배수들의 합: 2208\n",
    "```\n",
    "\n",
    "힌트: `range()` 함수와 `for` 반복문 활용"
   ]
  },
  {
   "cell_type": "markdown",
   "id": "2afe8c8a",
   "metadata": {},
   "source": [
    "**답**"
   ]
  },
  {
   "cell_type": "markdown",
   "id": "2807431c",
   "metadata": {},
   "source": [
    "0부터 100까지의 정수들의 구간은 `range(0, 101)`로 표현한다.\n",
    "그리고 `num` 하나의 정수를 가리킬 때 `num`이 3의 배수이거나 7의 배수인지 여부는\n",
    "다음 표현식이 판단한다.\n",
    "\n",
    "```python\n",
    "num % 3 == 0 or num % 7 == 0\n",
    "```\n",
    "\n",
    "이를 정리하여 0부터 100까지의 정수들 중에서 3의 배수이거나 7의 배수의 합을 \n",
    "계산하는 코드를 다음과 같다.\n",
    "`sum` 변수는 3 또는 7의 배수만을 더한 누적합을 기억하는 장치로 이용된다."
   ]
  },
  {
   "cell_type": "code",
   "execution_count": 8,
   "id": "5075af16",
   "metadata": {},
   "outputs": [
    {
     "name": "stdout",
     "output_type": "stream",
     "text": [
      "0~100의 숫자 중 3의 배수와 7의 배수들의 합: 2208\n"
     ]
    }
   ],
   "source": [
    "sum = 0\n",
    "\n",
    "for num in range(0, 101):\n",
    "    if num % 3 == 0 or num % 7 == 0:\n",
    "        sum += num\n",
    "        \n",
    "print(\"0~100의 숫자 중 3의 배수와 7의 배수들의 합:\", sum)"
   ]
  },
  {
   "cell_type": "markdown",
   "id": "da2616d5",
   "metadata": {
    "id": "akoVfOTao55r"
   },
   "source": [
    "## 예제 4"
   ]
  },
  {
   "cell_type": "markdown",
   "id": "8e4c687d",
   "metadata": {
    "id": "DL3G4F7CmkA1"
   },
   "source": [
    "자연수 `n`이 주어졌을 때, 1과 `n`을 제외한 `n`의 약수를 \n",
    "모두 출력하는 프로그램을 작성하여 `n`이 24일 때\n",
    "다음과 같이 출력되도록 하라.\n",
    "\n",
    "```\n",
    "24의 약수: 1 2 3 4 6 8 12 24 \n",
    "```\n",
    "\n",
    "힌트: `for` 반복문, `range()` 함수, `print()` 함수의 `sep`과 `end` 키워드 인자 활용"
   ]
  },
  {
   "cell_type": "markdown",
   "id": "ef2e7c34",
   "metadata": {},
   "source": [
    "**답**"
   ]
  },
  {
   "cell_type": "code",
   "execution_count": 9,
   "id": "15bb567e",
   "metadata": {},
   "outputs": [
    {
     "name": "stdout",
     "output_type": "stream",
     "text": [
      "24의 약수: 2 3 4 6 8 12 "
     ]
    }
   ],
   "source": [
    "n = 24\n",
    "\n",
    "print(n, \"의 약수:\", sep='', end=' ')\n",
    "for num in range(2, n):\n",
    "    if n % num == 0:\n",
    "        print(num, end=\" \")"
   ]
  },
  {
   "cell_type": "markdown",
   "id": "9287aea1",
   "metadata": {},
   "source": [
    "## 예제 5"
   ]
  },
  {
   "cell_type": "markdown",
   "id": "4bbf0706",
   "metadata": {},
   "source": [
    "얌체공을 높은 곳에서 놓아 자연낙하 시키면 바닥에 닿을 때마다 원래 높이의 2/3 만큼 튀어 오른다.\n",
    "하지만 바닥으로부터 1 cm 이하 높이가 되면 더 이상 튀어오르지 않는다.\n",
    "\n",
    "얌체공을 n cm 높이에서 자유낙하 시키면 더 이상 튀어오르지 않을 때까지 튀어오른 공의 높이를 모두 \n",
    "합한 결과를 반환하는 `bouncy()` 함수를 구현하라.\n",
    "단, 반환값은 소숫점 이하 셋째자리에서 반올림한다.\n",
    "\n",
    "힌트: [`round()` 함수](https://www.w3schools.com/python/ref_func_round.asp) 참고"
   ]
  },
  {
   "cell_type": "code",
   "execution_count": 7,
   "id": "0a2d3a78",
   "metadata": {},
   "outputs": [],
   "source": [
    "# pass 와 None 을 각각 적절한 명령문과 반환값으로 대체하라.\n",
    "\n",
    "def bouncy(n):\n",
    "    pass\n",
    "\n",
    "    return None"
   ]
  },
  {
   "cell_type": "code",
   "execution_count": 8,
   "id": "10434f20",
   "metadata": {},
   "outputs": [],
   "source": [
    "# 주석기호를 제거하고 실행할 때 오류가 발생하지 않아야 한다.\n",
    "\n",
    "# assert bouncy(1) == 0\n",
    "# assert bouncy(2) == 2.22\n",
    "# assert bouncy(10) == 18.24"
   ]
  },
  {
   "cell_type": "markdown",
   "id": "9401e9f4",
   "metadata": {
    "id": "BR35apnL0Tf9"
   },
   "source": [
    "## 예제 6"
   ]
  },
  {
   "cell_type": "markdown",
   "id": "4848bf06",
   "metadata": {
    "id": "DxP4L1g30ZpC"
   },
   "source": [
    "연이자 5%인 정기예금에 1천만원을 10년간 은행에 맡겼을 때\n",
    "10년 후에 수령할 금액을 계산하는 코드를 `while` 반복문을 이용하여 \n",
    "원리합계를 계산하는 코드를 작성한다."
   ]
  },
  {
   "cell_type": "markdown",
   "id": "3007efc4",
   "metadata": {
    "id": "DxP4L1g30ZpC"
   },
   "source": [
    "단, 다음 형식으로 출력하라.\n",
    "\n",
    "> 10년 후 받을 원금 + 이자는 OOO 원입니다."
   ]
  },
  {
   "cell_type": "markdown",
   "id": "d77a1896",
   "metadata": {},
   "source": [
    "원리합계 계산은 아래 식을 따른다."
   ]
  },
  {
   "cell_type": "markdown",
   "id": "11bf1310",
   "metadata": {},
   "source": [
    "> 원리합계 ＝ 원금 +  (1 ＋ 연금리 * 기간)"
   ]
  },
  {
   "cell_type": "markdown",
   "id": "1fb0e35a",
   "metadata": {},
   "source": [
    "**답**"
   ]
  },
  {
   "cell_type": "markdown",
   "id": "6e11a210",
   "metadata": {},
   "source": [
    "원리합계 계산 코드는 다음과 같다.\n",
    "\n",
    "```\n",
    "savings = principal * (1 + rate * period)\n",
    "```\n",
    "\n",
    "그런데 할당값으로 사용되는 수식을 풀어쓰면 다음과 같다.\n",
    "\n",
    "```\n",
    "savings = principal + principal * rate * period\n",
    "```\n",
    "\n",
    "그리고 `principal * rate * period`가 총이자에 해당하며\n",
    "변수 `period`에 의존하여 이자가 증가한다.\n",
    "즉 1년 마다 받는 이자인 `principal * rate`를 `period` 기간동안 누적합하면\n",
    "총이자가 된다.\n",
    "이 내용을 `while` 반복문을 이용하여 구현하면 된다."
   ]
  },
  {
   "cell_type": "code",
   "execution_count": 12,
   "id": "c3685613",
   "metadata": {},
   "outputs": [
    {
     "name": "stdout",
     "output_type": "stream",
     "text": [
      "10년 후 받는 원금 + 이자는 15000000.0 원입니다.\n"
     ]
    }
   ],
   "source": [
    "principal = 10000000 # 원금\n",
    "rate = 0.05          # 연이자\n",
    "period = 10         # 10년\n",
    "\n",
    "interests = 0       # 연이자 누적합 저장\n",
    "num_of_years = 1    # while 반복문에 사용되는 변수. 1씩 증가.\n",
    "\n",
    "while num_of_years <= period:\n",
    "    interests = interests + principal * rate\n",
    "    num_of_years = num_of_years + 1\n",
    "\n",
    "savings = principal + interests # 원리합계\n",
    "\n",
    "print(\"10년 후 받는 원금 + 이자는\", savings, \"원입니다.\")"
   ]
  },
  {
   "cell_type": "markdown",
   "id": "b4a65ba4",
   "metadata": {},
   "source": [
    "## 예제 7"
   ]
  },
  {
   "cell_type": "markdown",
   "id": "a8f4544b",
   "metadata": {},
   "source": [
    "반복문이 실행되다가 `break` 명령문에 다다르는 순간 실행중인 반복문이 바로 종료된다.\n",
    "\n",
    "예를 들어 아래 코드는 2보다 같거나 큰 양의 정수 `n`이 주어졌을 때\n",
    "`n`의 소수 여부에 따라 소수면 소수임을 확인하는 문장을\n",
    "아니면 왜 소수가 아닌지에 대한 설명을 출력한다."
   ]
  },
  {
   "cell_type": "markdown",
   "id": "6409428d",
   "metadata": {},
   "source": [
    "```python\n",
    "is_prime = True # 이 값이 계속 유지되면 소수임\n",
    "\n",
    "for x in range(2, n):\n",
    "    if n % x == 0:\n",
    "        is_prime = False\n",
    "        print(\"-\", n, \"=\", x, \"*\", n//x, end=\", \")\n",
    "        print(\"따라서\", n, \"은(는) 소수가 아니다.\")\n",
    "        break\n",
    "\n",
    "if is_prime:\n",
    "    print(\"-\", n, \"은(는) 소수다.\")\n",
    "```"
   ]
  },
  {
   "cell_type": "markdown",
   "id": "6bfad686",
   "metadata": {},
   "source": [
    "아래 두 코드의 실행 결과를 설명하라."
   ]
  },
  {
   "cell_type": "markdown",
   "id": "010401c8",
   "metadata": {},
   "source": [
    "- 7은 소수: `for` 반복문에 포함된 `break` 명령문이 실행되지 않음."
   ]
  },
  {
   "cell_type": "code",
   "execution_count": 43,
   "id": "39f7eb1f",
   "metadata": {},
   "outputs": [
    {
     "name": "stdout",
     "output_type": "stream",
     "text": [
      "- 7 은(는) 소수다.\n"
     ]
    }
   ],
   "source": [
    "n = 7\n",
    "\n",
    "is_prime = True # 이 값이 계속 유지되면 소수임\n",
    "\n",
    "for x in range(2, n):\n",
    "    if n % x == 0:\n",
    "        is_prime = False\n",
    "        print(\"-\", n, \"=\", x, \"*\", n//x, end=\", \")\n",
    "        print(\"따라서\", n, \"은(는) 소수가 아니다.\")\n",
    "        break\n",
    "\n",
    "if is_prime:\n",
    "    print(\"-\", n, \"은(는) 소수다.\")"
   ]
  },
  {
   "cell_type": "markdown",
   "id": "375426be",
   "metadata": {},
   "source": [
    "- 6은 소수 아님: 6이 2의 배수임이 확인되는 순간 지정된 문장을 출력하고 `break` 명령문에 의해 `for` 반복문이 종료됨."
   ]
  },
  {
   "cell_type": "code",
   "execution_count": 42,
   "id": "c8e697f3",
   "metadata": {},
   "outputs": [
    {
     "name": "stdout",
     "output_type": "stream",
     "text": [
      "- 6 = 2 * 3, 따라서 6 은(는) 소수가 아니다.\n"
     ]
    }
   ],
   "source": [
    "n = 6\n",
    "\n",
    "is_prime = True # 이 값이 계속 유지되면 소수임\n",
    "\n",
    "for x in range(2, n):\n",
    "    if n % x == 0:\n",
    "        is_prime = False\n",
    "        print(\"-\", n, \"=\", x, \"*\", n//x, end=\", \")\n",
    "        print(\"따라서\", n, \"은(는) 소수가 아니다.\")\n",
    "        break\n",
    "\n",
    "if is_prime:\n",
    "    print(\"-\", n, \"은(는) 소수다.\")"
   ]
  },
  {
   "cell_type": "markdown",
   "id": "bd5f9ffd",
   "metadata": {},
   "source": [
    "**답**"
   ]
  },
  {
   "cell_type": "markdown",
   "id": "37914037",
   "metadata": {},
   "source": [
    "위 코드는 정수 `n`에 할당된 값이 소수인지 아닌지 여부를 판단한다.\n",
    "양의 정수가 소수가 되려면 2보다 크고 자신보다 작은 모든 정수에 대해 배수가 아니어야 한다.\n",
    "이 사실을 확인하기 위해 `for` 반복문을 이용한다.\n",
    "\n",
    "- `is_prime` 변수: 처음에 `True`를 가리키다가 `n`을 나누는 2보다 큰 정수가 확인되는 순간 \n",
    "    `False`로 변하게 되어 `n`이 소수가 아님을 기억한다.\n",
    "\n",
    "- `break` 명령문: `n`이 어떤 수의 배수가 되는 순간, 즉 소수가 아님이 밝혀지는 순간 \n",
    "    실행되어 `for` 반복문이 종료되도록 한다.\n",
    "    \n",
    "하지만 `break` 명령문이 실행되지 않았다면 이는 `is_prime` 변수가 계속해서 `True`를\n",
    "가리키기에 최종적으로 `n`이 소수임을 확인하는 문장이 출력된다."
   ]
  },
  {
   "cell_type": "markdown",
   "id": "f16448a5",
   "metadata": {},
   "source": [
    "## 예제 8"
   ]
  },
  {
   "cell_type": "markdown",
   "id": "a656ec1a",
   "metadata": {},
   "source": [
    "`for` 또는 `while` 반복문이 중첩되어 사용되었을 때 \n",
    "내부의 `for`/`while` 반복문에 포함된 `break`/`continue` 명령문이 실행되면\n",
    "해당 `for`/`while` 반복문만 종료된다.\n",
    "\n",
    "아래 코드는 2부터 10까지의 정수를 대상으로 소수 여부를 확인해준다.\n",
    "실행 결과가 어떻게 나왔는지 코드를 설명하라."
   ]
  },
  {
   "cell_type": "code",
   "execution_count": 41,
   "id": "4b88335a",
   "metadata": {},
   "outputs": [
    {
     "name": "stdout",
     "output_type": "stream",
     "text": [
      "- 2 은(는) 소수다.\n",
      "- 3 은(는) 소수다.\n",
      "- 4 = 2 * 2, 따라서 4 은(는) 소수가 아니다.\n",
      "- 5 은(는) 소수다.\n",
      "- 6 = 2 * 3, 따라서 6 은(는) 소수가 아니다.\n",
      "- 7 은(는) 소수다.\n",
      "- 8 = 2 * 4, 따라서 8 은(는) 소수가 아니다.\n",
      "- 9 = 3 * 3, 따라서 9 은(는) 소수가 아니다.\n",
      "- 10 = 2 * 5, 따라서 10 은(는) 소수가 아니다.\n"
     ]
    }
   ],
   "source": [
    "for n in range(2, 11):\n",
    "    is_prime = True # 이 값이 계속 유지되면 소수임\n",
    "\n",
    "    for x in range(2, n):\n",
    "        if n % x == 0:\n",
    "            is_prime = False\n",
    "            print(\"-\", n, \"=\", x, \"*\", n//x, end=\", \")\n",
    "            print(\"따라서\", n, \"은(는) 소수가 아니다.\")\n",
    "            break\n",
    "\n",
    "    if is_prime:\n",
    "        print(\"-\", n, \"은(는) 소수다.\")"
   ]
  },
  {
   "cell_type": "markdown",
   "id": "695321d6",
   "metadata": {},
   "source": [
    "## 예제 9"
   ]
  },
  {
   "cell_type": "markdown",
   "id": "ba73c211",
   "metadata": {},
   "source": [
    "`for` 또는 `while` 반복문이 중첩되어 사용되었을 때 \n",
    "내부의 `for`/`while` 반복문에 포함된 `break`/`continue` 명령문이 실행되면\n",
    "해당 `for`/`while` 반복문만 종료된다.\n",
    "\n",
    "아래 두 코드가 동일한 내용을 출력하는 이유를 설명하라."
   ]
  },
  {
   "cell_type": "markdown",
   "id": "7007875b",
   "metadata": {},
   "source": [
    "- 코드 1"
   ]
  },
  {
   "cell_type": "code",
   "execution_count": 15,
   "id": "a726a61a",
   "metadata": {},
   "outputs": [
    {
     "name": "stdout",
     "output_type": "stream",
     "text": [
      "[0, 0]\n",
      "[1, 0]\n",
      "[1, 1]\n",
      "[2, 0]\n",
      "[2, 1]\n",
      "[2, 2]\n",
      "[3, 0]\n",
      "[3, 1]\n",
      "[3, 2]\n",
      "[3, 3]\n"
     ]
    }
   ],
   "source": [
    "i = 0\n",
    "while i < 4:\n",
    "    j = 0\n",
    "    while j < 4:\n",
    "        if j > i:\n",
    "            break\n",
    "        print([i, j])\n",
    "        j += 1\n",
    "    i += 1"
   ]
  },
  {
   "cell_type": "markdown",
   "id": "cee98497",
   "metadata": {},
   "source": [
    "- 코드 2"
   ]
  },
  {
   "cell_type": "code",
   "execution_count": 17,
   "id": "18bdeef5",
   "metadata": {},
   "outputs": [
    {
     "name": "stdout",
     "output_type": "stream",
     "text": [
      "[0, 0]\n",
      "[1, 0]\n",
      "[1, 1]\n",
      "[2, 0]\n",
      "[2, 1]\n",
      "[2, 2]\n",
      "[3, 0]\n",
      "[3, 1]\n",
      "[3, 2]\n",
      "[3, 3]\n"
     ]
    }
   ],
   "source": [
    "i = 0\n",
    "while i < 4:\n",
    "    j = 0\n",
    "    while j < 4:\n",
    "        if j > i:\n",
    "            j += 1\n",
    "            continue\n",
    "        print([i, j])\n",
    "        j += 1\n",
    "    i += 1"
   ]
  }
 ],
 "metadata": {
  "kernelspec": {
   "display_name": "Python 3 (ipykernel)",
   "language": "python",
   "name": "python3"
  },
  "language_info": {
   "codemirror_mode": {
    "name": "ipython",
    "version": 3
   },
   "file_extension": ".py",
   "mimetype": "text/x-python",
   "name": "python",
   "nbconvert_exporter": "python",
   "pygments_lexer": "ipython3",
   "version": "3.11.5"
  },
  "toc-autonumbering": true,
  "toc-showcode": false,
  "toc-showmarkdowntxt": false
 },
 "nbformat": 4,
 "nbformat_minor": 5
}
