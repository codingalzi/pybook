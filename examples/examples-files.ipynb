{
  "cells": [
    {
      "cell_type": "markdown",
      "metadata": {
        "id": "ev2DmiOdatZ2"
      },
      "source": [
        "# (필수 예제) 파일"
      ]
    },
    {
      "cell_type": "markdown",
      "metadata": {
        "id": "hOxFiCKcatZ_"
      },
      "source": [
        "**참고 사항**\n",
        "\n",
        "1. 먼저 [파일](https://codingalzi.github.io/pybook/files.html) 내용을 학습하세요.\n",
        "2. [YouTube 재생목록](https://www.youtube.com/...)에 예제 풀이 동영상이 있습니다."
      ]
    },
    {
      "cell_type": "markdown",
      "metadata": {
        "id": "oOpecu8lataC"
      },
      "source": [
        "**기본 설정**"
      ]
    },
    {
      "cell_type": "markdown",
      "metadata": {
        "id": "_zbxusP6ataD"
      },
      "source": [
        "파일 저장 경로와 파일 서버 주소를 지정에 필요한 기본 설정을 지정한다."
      ]
    },
    {
      "cell_type": "code",
      "execution_count": 1,
      "metadata": {
        "id": "OQQboxOLataE"
      },
      "outputs": [],
      "source": [
        "from pathlib import Path\n",
        "from urllib.request import urlretrieve"
      ]
    },
    {
      "cell_type": "markdown",
      "metadata": {
        "id": "DNOJkP4lataI"
      },
      "source": [
        "데이터가 저장된 텍스트 파일 서버 주소는 다음과 같다."
      ]
    },
    {
      "cell_type": "code",
      "execution_count": 2,
      "metadata": {
        "id": "cmv3odQFataJ"
      },
      "outputs": [],
      "source": [
        "base_url = \"https://raw.githubusercontent.com/codingalzi/pybook/master/jupyter-book/data/\""
      ]
    },
    {
      "cell_type": "markdown",
      "metadata": {
        "id": "kNtwe_nZataK"
      },
      "source": [
        "현재 작업 디렉토리의 `data` 하위 디렉토리에 파일을 다운로드해서 저장할 준비를 한다."
      ]
    },
    {
      "cell_type": "code",
      "execution_count": 3,
      "metadata": {
        "id": "TTk7yvNoataK"
      },
      "outputs": [],
      "source": [
        "# 저장위치 지정과 생성\n",
        "data_path = Path() / \"data\"\n",
        "data_path.mkdir(parents=True, exist_ok=True)"
      ]
    },
    {
      "cell_type": "markdown",
      "metadata": {
        "id": "tbIpd_GwataL"
      },
      "source": [
        "`myWget()` 함수는 파일 서버에서 지정된 파일을 동일한 파일명으로 지정된 디렉토리에 저장한다."
      ]
    },
    {
      "cell_type": "code",
      "execution_count": 4,
      "metadata": {
        "id": "KMZI_ja1ataM"
      },
      "outputs": [],
      "source": [
        "def myWget(filename):\n",
        "    # 다운로드 대상 파일 경로\n",
        "    file_url = base_url + filename\n",
        "\n",
        "    # 저장 경로와 파일명\n",
        "    target_path = data_path / filename\n",
        "\n",
        "    return urlretrieve(file_url, target_path)"
      ]
    },
    {
      "cell_type": "markdown",
      "metadata": {
        "id": "7aVF4lGsata_"
      },
      "source": [
        "## 예제"
      ]
    },
    {
      "cell_type": "markdown",
      "metadata": {
        "id": "TYyPUUCGata_"
      },
      "source": [
        "[5미터 다이빙 기록 에서 등수를 확인하는 작업](https://codingalzi.github.io/pybook/files.html#sec-exp-diving-5m)과\n",
        "동일한 작업을 10미터 다이빙 기록에 대해 진행하라."
      ]
    },
    {
      "cell_type": "code",
      "execution_count": null,
      "metadata": {
        "id": "0CTYlFkWata_"
      },
      "outputs": [],
      "source": [
        "# 코드를 작성하라.\n",
        "\n"
      ]
    },
    {
      "cell_type": "markdown",
      "metadata": {
        "id": "8n08JJwl7Gw6"
      },
      "source": [
        "## 문제"
      ]
    },
    {
      "cell_type": "code",
      "execution_count": 5,
      "metadata": {
        "id": "c-LuwhWQIsNA"
      },
      "outputs": [],
      "source": [
        "sketch1 = \"Man: Is this the right room for an argument?\\nOther Man: Oh I'm sorry: or the full half hour?\\n(pause)\\nMan: Ah! Just the five minutes.\""
      ]
    },
    {
      "cell_type": "markdown",
      "metadata": {
        "id": "L5MReR7UJFTU"
      },
      "source": [
        "`sketch1` 변수에 할당된 문자열을 `sketch1.txt` 파일에 저장한다."
      ]
    },
    {
      "cell_type": "code",
      "execution_count": 6,
      "metadata": {
        "id": "5SJ-6ctcJQlc"
      },
      "outputs": [],
      "source": [
        "with open('sketch1.txt', 'w') as file:\n",
        "    file.write(sketch1)"
      ]
    },
    {
      "cell_type": "code",
      "execution_count": 7,
      "metadata": {
        "colab": {
          "base_uri": "https://localhost:8080/"
        },
        "id": "CCHR6JJIJdiH",
        "outputId": "daeff948-2daa-4fa5-97ea-8c56f3ba57f8"
      },
      "outputs": [
        {
          "output_type": "stream",
          "name": "stdout",
          "text": [
            "Man: Is this the right room for an argument?\n",
            "Other Man: Oh I'm sorry: or the full half hour?\n",
            "(pause)\n",
            "Man: Ah! Just the five minutes.\n"
          ]
        }
      ],
      "source": [
        "with open('sketch1.txt', 'r') as file:\n",
        "    print(file.read())"
      ]
    },
    {
      "cell_type": "markdown",
      "metadata": {
        "id": "fvJa-GehKbKS"
      },
      "source": [
        "이제 `role_words` 함수를 완성하세요."
      ]
    },
    {
      "cell_type": "code",
      "execution_count": 8,
      "metadata": {
        "id": "Qumo49Jf7Gw7"
      },
      "outputs": [],
      "source": [
        "def role_words(fileName):\n",
        "    with open(fileName) as data:\n",
        "        for each_line in data:\n",
        "            try:\n",
        "                role, spoken = each_line.split(':',1)\n",
        "                print(role+' said:'+spoken,end='')\n",
        "            except:\n",
        "                pass"
      ]
    },
    {
      "cell_type": "code",
      "execution_count": 9,
      "metadata": {
        "id": "z6VMf4qc7Gw8",
        "outputId": "ff37e219-a8b6-4eb1-bee3-69a9d6b60b70",
        "colab": {
          "base_uri": "https://localhost:8080/"
        }
      },
      "outputs": [
        {
          "output_type": "stream",
          "name": "stdout",
          "text": [
            "Man said: Is this the right room for an argument?\n",
            "Other Man said: Oh I'm sorry: or the full half hour?\n",
            "Man said: Ah! Just the five minutes."
          ]
        }
      ],
      "source": [
        "role_words('sketch1.txt')"
      ]
    },
    {
      "cell_type": "markdown",
      "metadata": {
        "id": "3IuhSH6N7Gw9"
      },
      "source": [
        "## 문제"
      ]
    },
    {
      "cell_type": "code",
      "execution_count": 10,
      "metadata": {
        "id": "ynYBdAEU7Gw9"
      },
      "outputs": [],
      "source": [
        "def role_texts(fileName):\n",
        "    with open(fileName) as data, \\\n",
        "        open('dialogues_Man.txt','w') as man, \\\n",
        "        open('dialogues_Other.txt','w') as other:\n",
        "\n",
        "        for each_line in data:\n",
        "            try:\n",
        "                line = each_line.split(':', 1)\n",
        "                line_spoken = line[1].lstrip()\n",
        "                if line[0] == 'Man' :\n",
        "                    man.write(line_spoken)\n",
        "                if line[0] == 'Other Man':\n",
        "                    other.write(line_spoken)\n",
        "            except IndexError:\n",
        "                pass"
      ]
    },
    {
      "cell_type": "code",
      "execution_count": 11,
      "metadata": {
        "id": "9NppNf3o7Gw_"
      },
      "outputs": [],
      "source": [
        "role_texts('sketch1.txt')"
      ]
    },
    {
      "cell_type": "code",
      "execution_count": 12,
      "metadata": {
        "id": "nOgtn2ctK5BQ",
        "outputId": "eec234da-49bb-4301-c2a0-21c76caaad72",
        "colab": {
          "base_uri": "https://localhost:8080/"
        }
      },
      "outputs": [
        {
          "output_type": "stream",
          "name": "stdout",
          "text": [
            "Is this the right room for an argument?\n",
            "Ah! Just the five minutes.\n"
          ]
        }
      ],
      "source": [
        "with open(\"dialogues_Man.txt\") as man:\n",
        "    print(man.read())"
      ]
    },
    {
      "cell_type": "code",
      "execution_count": 13,
      "metadata": {
        "id": "FIdrGoJlLQdX",
        "outputId": "cb15e8c1-adcb-4f12-a893-58367819dde6",
        "colab": {
          "base_uri": "https://localhost:8080/"
        }
      },
      "outputs": [
        {
          "output_type": "stream",
          "name": "stdout",
          "text": [
            "Oh I'm sorry: or the full half hour?\n",
            "\n"
          ]
        }
      ],
      "source": [
        "with open(\"dialogues_Other.txt\") as other:\n",
        "    print(other.read())"
      ]
    },
    {
      "cell_type": "code",
      "execution_count": 13,
      "metadata": {
        "id": "SCYbqVUoataV"
      },
      "outputs": [],
      "source": []
    },
    {
      "cell_type": "code",
      "execution_count": 13,
      "metadata": {
        "id": "a_bnNq18ataV"
      },
      "outputs": [],
      "source": []
    },
    {
      "cell_type": "markdown",
      "metadata": {
        "id": "uvS5YzyT7Gw4"
      },
      "source": [
        "## 문제"
      ]
    },
    {
      "cell_type": "code",
      "execution_count": 14,
      "metadata": {
        "colab": {
          "base_uri": "https://localhost:8080/"
        },
        "id": "qef-EIy_QmBv",
        "outputId": "33438675-49b2-426a-d25d-b99b3cb0f13d"
      },
      "outputs": [
        {
          "output_type": "execute_result",
          "data": {
            "text/plain": [
              "('words.txt', <http.client.HTTPMessage at 0x7bfe345270a0>)"
            ]
          },
          "metadata": {},
          "execution_count": 14
        }
      ],
      "source": [
        "# words.txt 파일 다운로드\n",
        "import urllib.request\n",
        "urllib.request.urlretrieve('http://greenteapress.com/thinkpython2/code/words.txt', 'words.txt')"
      ]
    },
    {
      "cell_type": "code",
      "execution_count": 15,
      "metadata": {
        "id": "h5TUpzMx7Gw4"
      },
      "outputs": [],
      "source": [
        "def txt2list(aFile):\n",
        "    a = []\n",
        "    with open(aFile,'r') as data:\n",
        "        for line in data:\n",
        "            a.append(line.strip())\n",
        "    return a"
      ]
    },
    {
      "cell_type": "code",
      "execution_count": 16,
      "metadata": {
        "colab": {
          "base_uri": "https://localhost:8080/"
        },
        "id": "7sSteOb-7Gw5",
        "outputId": "5127ce41-7383-4436-e108-9b62a45805c4"
      },
      "outputs": [
        {
          "output_type": "stream",
          "name": "stdout",
          "text": [
            "['aa', 'aah', 'aahed', 'aahing', 'aahs', 'aal', 'aalii', 'aaliis', 'aals', 'aardvark']\n"
          ]
        }
      ],
      "source": [
        "print(txt2list('words.txt')[:10])"
      ]
    },
    {
      "cell_type": "code",
      "execution_count": 17,
      "metadata": {
        "colab": {
          "base_uri": "https://localhost:8080/"
        },
        "id": "SLAtRjdUQmBy",
        "outputId": "cb2b5647-69b6-4a1f-905a-505280c8ce12"
      },
      "outputs": [
        {
          "output_type": "stream",
          "name": "stdout",
          "text": [
            "['zymogene', 'zymogenes', 'zymogens', 'zymologies', 'zymology', 'zymoses', 'zymosis', 'zymotic', 'zymurgies', 'zymurgy']\n"
          ]
        }
      ],
      "source": [
        "print(txt2list('words.txt')[-10:])"
      ]
    },
    {
      "cell_type": "markdown",
      "metadata": {
        "id": "dvdsfxiYQmBz"
      },
      "source": [
        "## 문제"
      ]
    },
    {
      "cell_type": "code",
      "execution_count": 18,
      "metadata": {
        "id": "I1VdcGZTataX"
      },
      "outputs": [],
      "source": [
        "def itemSearch(aWordsList, aWord):\n",
        "    if aWord in aWordsList:\n",
        "        return True\n",
        "    else:\n",
        "        return False"
      ]
    },
    {
      "cell_type": "code",
      "execution_count": 19,
      "metadata": {
        "colab": {
          "base_uri": "https://localhost:8080/"
        },
        "id": "ZeCeUuYOQmB1",
        "outputId": "4d15252b-ced8-4de1-bfc1-f4ec1d527780"
      },
      "outputs": [
        {
          "output_type": "stream",
          "name": "stdout",
          "text": [
            "마지막 항목 검색시간: 0.003484초\n"
          ]
        },
        {
          "output_type": "execute_result",
          "data": {
            "text/plain": [
              "True"
            ]
          },
          "metadata": {},
          "execution_count": 19
        }
      ],
      "source": [
        "# 리스트 항목 탐색은 시간이 오래 걸린다.\n",
        "import time\n",
        "\n",
        "words = txt2list('words.txt')\n",
        "\n",
        "exc7A = itemSearch(words, 'aback') == True\n",
        "exc7B = itemSearch(words, 'accru') == False\n",
        "exc7C = itemSearch(words, 'frett') == False\n",
        "exc7D = itemSearch(words, 'reporting') == True\n",
        "\n",
        "# 마지막 단어 검색시간 측정\n",
        "start_time = time.time()\n",
        "exc7E = itemSearch(words, 'zymurgy') == True\n",
        "elapsed_time = time.time() - start_time\n",
        "print(f\"마지막 항목 검색시간: {elapsed_time:.6f}초\")\n",
        "\n",
        "all([exc7A, exc7B, exc7C, exc7D, exc7E])"
      ]
    },
    {
      "cell_type": "markdown",
      "metadata": {
        "id": "bbaMC-3yQmB2"
      },
      "source": [
        "## 문제"
      ]
    },
    {
      "cell_type": "code",
      "execution_count": 20,
      "metadata": {
        "id": "gvgr_eiHQmB3"
      },
      "outputs": [],
      "source": [
        "def binarySearch(aWordsList, aWord):\n",
        "    low = 0\n",
        "    high = len(aWordsList)\n",
        "\n",
        "    while low <= high:\n",
        "        mid = (low + high)//2\n",
        "        if aWordsList[mid] == aWord:\n",
        "            return True\n",
        "        elif aWordsList[mid] < aWord:\n",
        "            low = mid + 1\n",
        "        else:\n",
        "            high = mid - 1\n",
        "\n",
        "    return False"
      ]
    },
    {
      "cell_type": "code",
      "execution_count": 21,
      "metadata": {
        "colab": {
          "base_uri": "https://localhost:8080/"
        },
        "id": "XcOVdPVBQmB4",
        "outputId": "73c99dce-4c18-4def-9adf-ba2fb6da72bb"
      },
      "outputs": [
        {
          "output_type": "stream",
          "name": "stdout",
          "text": [
            "이진탐색이 일반 탐색보다 약 27.4배 빠르다.\n"
          ]
        },
        {
          "output_type": "execute_result",
          "data": {
            "text/plain": [
              "True"
            ]
          },
          "metadata": {},
          "execution_count": 21
        }
      ],
      "source": [
        "# 리스트 항목 탐색은 시간이 오래 걸린다.\n",
        "import time\n",
        "\n",
        "words = txt2list('words.txt')\n",
        "\n",
        "exc8A = binarySearch(words, 'aback') == True\n",
        "exc8B = binarySearch(words, 'accru') == False\n",
        "exc8C = binarySearch(words, 'frett') == False\n",
        "exc8D = binarySearch(words, 'reporting') == True\n",
        "\n",
        "# 마지막 단어 검색시간 측정\n",
        "start_time0 = time.time()\n",
        "exc8E = binarySearch(words, 'zymurgy') == True\n",
        "elapsed_time0 = time.time() - start_time0\n",
        "print(f\"이진탐색이 일반 탐색보다 약 {elapsed_time/elapsed_time0:.1f}배 빠르다.\")\n",
        "\n",
        "all([exc8A, exc8B, exc8C, exc8D, exc8E])"
      ]
    },
    {
      "cell_type": "markdown",
      "metadata": {
        "id": "AM38GJkgQmB5"
      },
      "source": [
        "## 문제"
      ]
    },
    {
      "cell_type": "code",
      "execution_count": 22,
      "metadata": {
        "id": "JdHeR1ANQmB5"
      },
      "outputs": [],
      "source": [
        "def txt2dict(aFile):\n",
        "    a = dict()\n",
        "    with open(aFile) as data:\n",
        "        for item in data:\n",
        "            item = item.strip()\n",
        "            a[item] = True\n",
        "\n",
        "    return a"
      ]
    },
    {
      "cell_type": "code",
      "execution_count": 23,
      "metadata": {
        "id": "99kkYxmcQmB6"
      },
      "outputs": [],
      "source": [
        "def keySearch(aWordsDict, aWord):\n",
        "    if aWord in aWordsDict:\n",
        "        return True\n",
        "    else:\n",
        "        return False"
      ]
    },
    {
      "cell_type": "code",
      "execution_count": 24,
      "metadata": {
        "colab": {
          "base_uri": "https://localhost:8080/"
        },
        "id": "iP-eMVPyQmB7",
        "outputId": "b502c2da-370e-4e7c-836c-19559a934793"
      },
      "outputs": [
        {
          "output_type": "stream",
          "name": "stdout",
          "text": [
            "사전 탐색이 리스트 일반 탐색보다 약 34.0배 빠르다.\n",
            "사전 탐색이 리스트 이진탐색보다 약 1.2배 빠르다.\n"
          ]
        },
        {
          "output_type": "execute_result",
          "data": {
            "text/plain": [
              "True"
            ]
          },
          "metadata": {},
          "execution_count": 24
        }
      ],
      "source": [
        "# 리스트 항목 탐색은 시간이 오래 걸린다.\n",
        "import time\n",
        "\n",
        "words = txt2dict('words.txt')\n",
        "\n",
        "exc9A = keySearch(words, 'aback') == True\n",
        "exc9B = keySearch(words, 'accru') == False\n",
        "exc9C = keySearch(words, 'frett') == False\n",
        "exc9D = keySearch(words, 'reporting') == True\n",
        "\n",
        "# 마지막 단어 검색시간 측정\n",
        "start_time1 = time.time()\n",
        "exc9E = keySearch(words, 'zymurgy') == True\n",
        "elapsed_time1 = time.time() - start_time1\n",
        "print(f\"사전 탐색이 리스트 일반 탐색보다 약 {elapsed_time/elapsed_time1:.1f}배 빠르다.\")\n",
        "print(f\"사전 탐색이 리스트 이진탐색보다 약 {elapsed_time0/elapsed_time1:.1f}배 빠르다.\")\n",
        "\n",
        "all([exc9A, exc9B, exc9C, exc9D, exc9E])"
      ]
    },
    {
      "cell_type": "code",
      "execution_count": 24,
      "metadata": {
        "id": "eCsG9Y3latat"
      },
      "outputs": [],
      "source": []
    },
    {
      "cell_type": "code",
      "execution_count": 24,
      "metadata": {
        "id": "ycpmlXveatat"
      },
      "outputs": [],
      "source": []
    },
    {
      "cell_type": "code",
      "execution_count": 24,
      "metadata": {
        "id": "pXZXuaP9atat"
      },
      "outputs": [],
      "source": []
    },
    {
      "cell_type": "markdown",
      "metadata": {
        "id": "eda-MjX1atau"
      },
      "source": [
        "## 문제"
      ]
    },
    {
      "cell_type": "markdown",
      "metadata": {
        "id": "gSF_tBKvfg9V"
      },
      "source": [
        "`shopA.txt` 파일은 쇼핑몰A에서 판매하는 상품의 가격을 담고 있음을 확인해보자.\n",
        "먼저 해당 파일을 다운로드 한다."
      ]
    },
    {
      "cell_type": "code",
      "execution_count": 25,
      "metadata": {
        "id": "EOTiuZ_satau",
        "outputId": "a0d18bf5-0bdb-4dbe-ae9d-d6e635e27b3e",
        "colab": {
          "base_uri": "https://localhost:8080/"
        }
      },
      "outputs": [
        {
          "output_type": "execute_result",
          "data": {
            "text/plain": [
              "(PosixPath('data/shopA.txt'), <http.client.HTTPMessage at 0x7bfe34527130>)"
            ]
          },
          "metadata": {},
          "execution_count": 25
        }
      ],
      "source": [
        "myWget(\"shopA.txt\")"
      ]
    },
    {
      "cell_type": "markdown",
      "metadata": {
        "id": "rHc7POLHatau"
      },
      "source": [
        "**질문**"
      ]
    },
    {
      "cell_type": "markdown",
      "metadata": {
        "id": "npg48HYuatau"
      },
      "source": [
        "이제 파일 전체 내용을 출력하는 코드를 작성하라.\n",
        "\n",
        "힌트: `with-as` 명령문, `open()` 함수, `readlines()` 또는 `read()` 파일 메서드."
      ]
    },
    {
      "cell_type": "code",
      "execution_count": 26,
      "metadata": {
        "id": "A08NujMuatav",
        "outputId": "52b36e73-92b1-4eff-f38e-b10781880a2d",
        "colab": {
          "base_uri": "https://localhost:8080/"
        }
      },
      "outputs": [
        {
          "output_type": "stream",
          "name": "stdout",
          "text": [
            "#쇼핑몰 A\n",
            "\n",
            "우유 2540원\n",
            "계란 7480원\n",
            "생수 980원\n",
            "짜장라면 3220원\n",
            "두부 1450원\n",
            "콩나물 1680원\n",
            "김 5480원\n",
            "닭고기 5980원\n",
            "식빵 2480원\n",
            "바나나 4980원\n",
            "오레ㄴ지 990원\n",
            "카레 2480원\n",
            "만두 6980원\n",
            "어묵 7980원\n",
            "참치 11880원\n",
            "김치 7980원\n",
            "간장 10800원\n"
          ]
        }
      ],
      "source": [
        "with open(data_path / 'shopA.txt', encoding='utf-8') as f:\n",
        "    lines = f.read()\n",
        "    print(lines)"
      ]
    },
    {
      "cell_type": "code",
      "execution_count": 27,
      "metadata": {
        "id": "HVBa6F89atav",
        "outputId": "2646e26d-df36-4862-cb9c-7b4bd1acc00a",
        "colab": {
          "base_uri": "https://localhost:8080/"
        }
      },
      "outputs": [
        {
          "output_type": "stream",
          "name": "stdout",
          "text": [
            "#쇼핑몰 A\n",
            "\n",
            "우유 2540원\n",
            "계란 7480원\n",
            "생수 980원\n",
            "짜장라면 3220원\n",
            "두부 1450원\n",
            "콩나물 1680원\n",
            "김 5480원\n",
            "닭고기 5980원\n",
            "식빵 2480원\n",
            "바나나 4980원\n",
            "오레ㄴ지 990원\n",
            "카레 2480원\n",
            "만두 6980원\n",
            "어묵 7980원\n",
            "참치 11880원\n",
            "김치 7980원\n",
            "간장 10800원\n"
          ]
        }
      ],
      "source": [
        "with open(data_path / 'shopA.txt', encoding='utf-8') as f:\n",
        "    lines = f.readlines()\n",
        "    for line in lines:\n",
        "        print(line.strip())"
      ]
    },
    {
      "cell_type": "code",
      "execution_count": 28,
      "metadata": {
        "id": "g7YA7ZrSatav",
        "outputId": "ff2f8994-8368-467e-dcbe-916649abf35c",
        "colab": {
          "base_uri": "https://localhost:8080/"
        }
      },
      "outputs": [
        {
          "output_type": "stream",
          "name": "stdout",
          "text": [
            "#쇼핑몰 A\n",
            "\n",
            "우유 2540원\n",
            "계란 7480원\n",
            "생수 980원\n",
            "짜장라면 3220원\n",
            "두부 1450원\n",
            "콩나물 1680원\n",
            "김 5480원\n",
            "닭고기 5980원\n",
            "식빵 2480원\n",
            "바나나 4980원\n",
            "오레ㄴ지 990원\n",
            "카레 2480원\n",
            "만두 6980원\n",
            "어묵 7980원\n",
            "참치 11880원\n",
            "김치 7980원\n",
            "간장 10800원\n"
          ]
        }
      ],
      "source": [
        "with open(data_path / 'shopA.txt', encoding='utf-8') as f:\n",
        "    for line in f:\n",
        "        print(line.strip())"
      ]
    },
    {
      "cell_type": "markdown",
      "metadata": {
        "id": "avuvHUIPataw"
      },
      "source": [
        "**질문**"
      ]
    },
    {
      "cell_type": "markdown",
      "metadata": {
        "id": "dVe6tYetAdhc"
      },
      "source": [
        "`shopA.txt` 파일의 내용을 확인하면, 오타가 있다.\n",
        "'오레ㄴ지' 를 '오렌지'로 변경한 후에\n",
        "`shopA.txt` 파일을 열어 오타가 수정되었는지를 확인하여라.  \n",
        "\n",
        "힌트: 파일의 `read()` 메서드, 문자열의 `replace()` 메서드"
      ]
    },
    {
      "cell_type": "markdown",
      "metadata": {
        "id": "pr7iUIZmataw"
      },
      "source": [
        "* 파일 읽기: `read()` 메서드 활용"
      ]
    },
    {
      "cell_type": "code",
      "execution_count": null,
      "metadata": {
        "id": "EUDlUS6aataw"
      },
      "outputs": [],
      "source": [
        "with open(data_path / 'shopA.txt', encoding='utf-8') as f:\n",
        "    A_lines = f.read()"
      ]
    },
    {
      "cell_type": "markdown",
      "metadata": {
        "id": "flLHIZ_zatax"
      },
      "source": [
        "* 오타 수정: `replace()` 문자열 메서드 활용"
      ]
    },
    {
      "cell_type": "code",
      "execution_count": null,
      "metadata": {
        "id": "qyKrP-bVatax",
        "outputId": "430e71b9-c074-49f9-f6e7-270b23bfeea3"
      },
      "outputs": [
        {
          "name": "stdout",
          "output_type": "stream",
          "text": [
            "#쇼핑몰 A\n",
            "\n",
            "우유 2540원\n",
            "계란 7480원\n",
            "생수 980원\n",
            "짜장라면 3220원\n",
            "두부 1450원\n",
            "콩나물 1680원\n",
            "김 5480원\n",
            "닭고기 5980원\n",
            "식빵 2480원\n",
            "바나나 4980원\n",
            "오렌지 990원\n",
            "카레 2480원\n",
            "만두 6980원\n",
            "어묵 7980원\n",
            "참치 11880원\n",
            "김치 7980원\n",
            "간장 10800원\n"
          ]
        }
      ],
      "source": [
        "A_lines_corrected = A_lines.replace('오레ㄴ지', '오렌지')\n",
        "print(A_lines_corrected)"
      ]
    },
    {
      "cell_type": "markdown",
      "metadata": {
        "id": "RbXY52txatay"
      },
      "source": [
        "* 파일 저장"
      ]
    },
    {
      "cell_type": "code",
      "execution_count": null,
      "metadata": {
        "id": "6MUZLZvxatay"
      },
      "outputs": [],
      "source": [
        "with open(data_path / 'shopA.txt', encoding='utf-8', mode='w') as f:\n",
        "    f.write(A_lines_corrected)"
      ]
    },
    {
      "cell_type": "markdown",
      "metadata": {
        "id": "iW6wOUWdataz"
      },
      "source": [
        "* 파일 내용 확인"
      ]
    },
    {
      "cell_type": "code",
      "execution_count": null,
      "metadata": {
        "id": "kjdPWEFUataz",
        "outputId": "3a3460b6-8bf5-4acf-9af2-80a56c1a618d"
      },
      "outputs": [
        {
          "name": "stdout",
          "output_type": "stream",
          "text": [
            "#쇼핑몰 A\n",
            "\n",
            "우유 2540원\n",
            "계란 7480원\n",
            "생수 980원\n",
            "짜장라면 3220원\n",
            "두부 1450원\n",
            "콩나물 1680원\n",
            "김 5480원\n",
            "닭고기 5980원\n",
            "식빵 2480원\n",
            "바나나 4980원\n",
            "오렌지 990원\n",
            "카레 2480원\n",
            "만두 6980원\n",
            "어묵 7980원\n",
            "참치 11880원\n",
            "김치 7980원\n",
            "간장 10800원\n"
          ]
        }
      ],
      "source": [
        "with open(data_path / 'shopA.txt', encoding='utf-8') as f:\n",
        "    for line in f:\n",
        "        print(line.strip())"
      ]
    },
    {
      "cell_type": "markdown",
      "metadata": {
        "id": "JA5Rw2-Pata0"
      },
      "source": [
        "**질문**"
      ]
    },
    {
      "cell_type": "markdown",
      "metadata": {
        "id": "egoqIohm-4a8"
      },
      "source": [
        "상품명과 가격을 키-값의 쌍으로 갖는 아래 모양의 사전을 `A_dict` 변수가 가리키도록 하라.\n",
        "단, 오타가 수정된 파일을 이용해야 한다.\n",
        "\n",
        "```python\n",
        "{'우유': 2540,\n",
        " '계란': 7480,\n",
        " '생수': 980,\n",
        " '짜장라면': 3220,\n",
        " '두부': 1450,\n",
        " '콩나물': 1680,\n",
        " '김': 5480,\n",
        " '닭고기': 5980,\n",
        " '식빵': 2480,\n",
        " '바나나': 4980,\n",
        " '오렌지': 990,\n",
        " '카레': 2480,\n",
        " '만두': 6980,\n",
        " '어묵': 7980,\n",
        " '참치': 11880,\n",
        " '김치': 7980,\n",
        " '간장': 10800}\n",
        "```"
      ]
    },
    {
      "cell_type": "code",
      "execution_count": null,
      "metadata": {
        "id": "iTc0jUeqata0",
        "outputId": "3cd9dcf4-9dd6-4609-fac0-d6af25083b5f"
      },
      "outputs": [
        {
          "data": {
            "text/plain": [
              "{'우유': 2540,\n",
              " '계란': 7480,\n",
              " '생수': 980,\n",
              " '짜장라면': 3220,\n",
              " '두부': 1450,\n",
              " '콩나물': 1680,\n",
              " '김': 5480,\n",
              " '닭고기': 5980,\n",
              " '식빵': 2480,\n",
              " '바나나': 4980,\n",
              " '오렌지': 990,\n",
              " '카레': 2480,\n",
              " '만두': 6980,\n",
              " '어묵': 7980,\n",
              " '참치': 11880,\n",
              " '김치': 7980,\n",
              " '간장': 10800}"
            ]
          },
          "execution_count": 66,
          "metadata": {},
          "output_type": "execute_result"
        }
      ],
      "source": [
        "with open(data_path / 'shopA.txt', encoding='utf-8') as f:\n",
        "    items_dict = dict()\n",
        "    for line in f:\n",
        "        if line.strip().startswith('#') or line.strip() == '':\n",
        "            continue\n",
        "        item, price = line.strip().split()\n",
        "        items_dict[item] = int(price[:-1])\n",
        "\n",
        "items_dict"
      ]
    },
    {
      "cell_type": "markdown",
      "metadata": {
        "id": "agiH0quMBxIb"
      },
      "source": [
        "**질문**"
      ]
    },
    {
      "cell_type": "code",
      "execution_count": null,
      "metadata": {
        "id": "88mjQ9cRNZ2W"
      },
      "outputs": [],
      "source": [
        "def shopping(shop_file):\n",
        "    with open(data_path / shop_file, encoding='utf-8') as f:\n",
        "        items_dict = dict()\n",
        "        for line in f:\n",
        "            if line.strip().startswith('#') or line.strip() == '':\n",
        "                continue\n",
        "            item, price = line.strip().split()\n",
        "            items_dict[item] = int(price[:-1])\n",
        "\n",
        "    return items_dict"
      ]
    },
    {
      "cell_type": "code",
      "execution_count": null,
      "metadata": {
        "colab": {
          "base_uri": "https://localhost:8080/"
        },
        "outputId": "46bbdfbc-d62d-4f24-fc45-7687133da3b7",
        "id": "4I5iUKh9ata2"
      },
      "outputs": [
        {
          "data": {
            "text/plain": [
              "{'우유': 2540,\n",
              " '계란': 7480,\n",
              " '생수': 980,\n",
              " '짜장라면': 3220,\n",
              " '두부': 1450,\n",
              " '콩나물': 1680,\n",
              " '김': 5480,\n",
              " '닭고기': 5980,\n",
              " '식빵': 2480,\n",
              " '바나나': 4980,\n",
              " '오렌지': 990,\n",
              " '카레': 2480,\n",
              " '만두': 6980,\n",
              " '어묵': 7980,\n",
              " '참치': 11880,\n",
              " '김치': 7980,\n",
              " '간장': 10800}"
            ]
          },
          "execution_count": 87,
          "metadata": {},
          "output_type": "execute_result"
        }
      ],
      "source": [
        "shopping(\"shopA.txt\")"
      ]
    },
    {
      "cell_type": "markdown",
      "metadata": {
        "id": "bMHjMqn2ata2"
      },
      "source": [
        "**질문**"
      ]
    },
    {
      "cell_type": "markdown",
      "metadata": {
        "id": "HjYVtYpwB5C2"
      },
      "source": [
        "쇼핑 리스트와 상품을 인자로 지정하면 상품의 가격을 반환하는 함수 `item_price()` 를 구현하라.\n",
        "\n",
        "힌트: `shopping()` 함수를 이용한다."
      ]
    },
    {
      "cell_type": "code",
      "execution_count": null,
      "metadata": {
        "id": "WOsM3ngUOuAe"
      },
      "outputs": [],
      "source": [
        "def item_price(shop_file, item):\n",
        "    items_dict = shopping(shop_file)\n",
        "    return items_dict[item]"
      ]
    },
    {
      "cell_type": "code",
      "execution_count": null,
      "metadata": {
        "colab": {
          "base_uri": "https://localhost:8080/"
        },
        "outputId": "19ebaab4-d6ec-4b90-f4c4-7e2813bf6ca6",
        "id": "WuujG8upata4"
      },
      "outputs": [
        {
          "name": "stdout",
          "output_type": "stream",
          "text": [
            "7980\n"
          ]
        }
      ],
      "source": [
        "print(item_price(\"shopA.txt\", '김치'))"
      ]
    },
    {
      "cell_type": "markdown",
      "metadata": {
        "id": "vq1USgwuata5"
      },
      "source": [
        "**질문**"
      ]
    },
    {
      "cell_type": "markdown",
      "metadata": {
        "id": "pkua4TgcEgut"
      },
      "source": [
        "`shopB.txt` 파일은 쇼핑몰B에서 판매하는 상품의 가격을 담고 있으며,\n",
        "`shopA.txt` 파일과 동일한 방식으로 다운로드할 수 있다."
      ]
    },
    {
      "cell_type": "code",
      "execution_count": null,
      "metadata": {
        "id": "q5v4Hsf9ata5",
        "outputId": "c0eecdd4-039f-4ab7-b264-387bf9e009d9"
      },
      "outputs": [
        {
          "data": {
            "text/plain": [
              "(PosixPath('data/shopB.txt'), <http.client.HTTPMessage at 0x7f6e82727050>)"
            ]
          },
          "execution_count": 90,
          "metadata": {},
          "output_type": "execute_result"
        }
      ],
      "source": [
        "myWget(\"shopB.txt\")"
      ]
    },
    {
      "cell_type": "markdown",
      "metadata": {
        "id": "QihTUn43ata6"
      },
      "source": [
        "사용자가 상품을 입력하면, 쇼핑몰A와 쇼핑몰B 중 어느 쇼핑몰에서 구입하는 것이 얼마나 저렴한지를 보여주는\n",
        "함수 `price_comparison()`를 작성하라."
      ]
    },
    {
      "cell_type": "code",
      "execution_count": null,
      "metadata": {
        "id": "kCv4ywbiata7"
      },
      "outputs": [],
      "source": [
        "def price_comparison(item):\n",
        "    price_diff = item_price(\"shopA.txt\", item) -item_price(\"shopB.txt\", item)\n",
        "    return abs(price_diff)"
      ]
    },
    {
      "cell_type": "code",
      "execution_count": null,
      "metadata": {
        "id": "dvpm3Om5ata7",
        "outputId": "199a901a-b02d-4298-c914-5908bfa60c27"
      },
      "outputs": [
        {
          "data": {
            "text/plain": [
              "7980"
            ]
          },
          "execution_count": 92,
          "metadata": {},
          "output_type": "execute_result"
        }
      ],
      "source": [
        "item_price(\"ShopA.txt\", '김치')"
      ]
    },
    {
      "cell_type": "code",
      "execution_count": null,
      "metadata": {
        "id": "l-ExH42-ata8",
        "outputId": "77dad2fa-c5f5-4729-8619-63adcf42d343"
      },
      "outputs": [
        {
          "data": {
            "text/plain": [
              "8480"
            ]
          },
          "execution_count": 94,
          "metadata": {},
          "output_type": "execute_result"
        }
      ],
      "source": [
        "item_price(\"ShopB.txt\", '김치')"
      ]
    },
    {
      "cell_type": "code",
      "execution_count": null,
      "metadata": {
        "id": "kBlSlHwyata9",
        "outputId": "d8825053-8f0e-4d08-e1ef-5c685d4a4b1c"
      },
      "outputs": [
        {
          "data": {
            "text/plain": [
              "{'우유': 2270,\n",
              " '계란': 7520,\n",
              " '생수': 1010,\n",
              " '짜장라면': 3210,\n",
              " '두부': 1150,\n",
              " '콩나물': 1980,\n",
              " '김': 5290,\n",
              " '닭고기': 6000,\n",
              " '식빵': 1990,\n",
              " '바나나': 4990,\n",
              " '오렌지': 1050,\n",
              " '카레': 2400,\n",
              " '만두': 7400,\n",
              " '어묵': 6980,\n",
              " '참치': 11580,\n",
              " '김치': 8480,\n",
              " '간장': 9900}"
            ]
          },
          "execution_count": 93,
          "metadata": {},
          "output_type": "execute_result"
        }
      ],
      "source": [
        "shopping(\"ShopB.txt\")"
      ]
    },
    {
      "cell_type": "code",
      "execution_count": null,
      "metadata": {
        "id": "T9EB1Q04ata9",
        "outputId": "48a741f2-08ca-45b3-d575-a3d8e7b5edca"
      },
      "outputs": [
        {
          "name": "stdout",
          "output_type": "stream",
          "text": [
            "500\n"
          ]
        }
      ],
      "source": [
        "print(price_comparison('김치'))"
      ]
    }
  ],
  "metadata": {
    "colab": {
      "provenance": []
    },
    "kernelspec": {
      "display_name": "Python 3 (ipykernel)",
      "language": "python",
      "name": "python3"
    },
    "language_info": {
      "codemirror_mode": {
        "name": "ipython",
        "version": 3
      },
      "file_extension": ".py",
      "mimetype": "text/x-python",
      "name": "python",
      "nbconvert_exporter": "python",
      "pygments_lexer": "ipython3",
      "version": "3.11.7"
    }
  },
  "nbformat": 4,
  "nbformat_minor": 0
}