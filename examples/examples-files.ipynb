{
 "cells": [
  {
   "cell_type": "markdown",
   "metadata": {},
   "source": [
    "# (예제) 파일"
   ]
  },
  {
   "cell_type": "markdown",
   "metadata": {},
   "source": [
    "**기본 설정**"
   ]
  },
  {
   "cell_type": "markdown",
   "metadata": {},
   "source": [
    "파일 저장 경로와 파일 서버 주소를 지정에 필요한 기본 설정을 지정한다."
   ]
  },
  {
   "cell_type": "code",
   "execution_count": 1,
   "metadata": {},
   "outputs": [],
   "source": [
    "from pathlib import Path\n",
    "from urllib.request import urlretrieve"
   ]
  },
  {
   "cell_type": "markdown",
   "metadata": {},
   "source": [
    "데이터가 저장된 텍스트 파일 서버 주소는 다음과 같다."
   ]
  },
  {
   "cell_type": "code",
   "execution_count": 2,
   "metadata": {},
   "outputs": [],
   "source": [
    "base_url = \"https://raw.githubusercontent.com/codingalzi/pybook/master/jupyter-book/data/\""
   ]
  },
  {
   "cell_type": "markdown",
   "metadata": {},
   "source": [
    "현재 작업 디렉토리의 `data` 하위 디렉토리에 파일을 다운로드해서 저장할 준비를 한다."
   ]
  },
  {
   "cell_type": "code",
   "execution_count": 3,
   "metadata": {},
   "outputs": [],
   "source": [
    "# 저장위치 지정과 생성\n",
    "data_path = Path() / \"data\"\n",
    "data_path.mkdir(parents=True, exist_ok=True)"
   ]
  },
  {
   "cell_type": "markdown",
   "metadata": {},
   "source": [
    "`myWget()` 함수는 파일 서버에서 지정된 파일을 동일한 파일명으로 지정된 디렉토리에 저장한다."
   ]
  },
  {
   "cell_type": "code",
   "execution_count": 4,
   "metadata": {},
   "outputs": [],
   "source": [
    "def myWget(filename):\n",
    "    # 다운로드 대상 파일 경로\n",
    "    file_url = base_url + filename\n",
    "\n",
    "    # 저장 경로와 파일명\n",
    "    target_path = data_path / filename\n",
    "\n",
    "    return urlretrieve(file_url, target_path)"
   ]
  },
  {
   "cell_type": "markdown",
   "metadata": {
    "colab_type": "text",
    "id": "8n08JJwl7Gw6"
   },
   "source": [
    "## 문제 7\n",
    "\n",
    "(Think Python) 기본 자료형: 파일 - 연습문제 7번"
   ]
  },
  {
   "cell_type": "code",
   "execution_count": 16,
   "metadata": {
    "colab": {},
    "colab_type": "code",
    "id": "c-LuwhWQIsNA"
   },
   "outputs": [],
   "source": [
    "sketch1 = \"Man: Is this the right room for an argument?\\nOther Man: Oh I'm sorry: or the full half hour?\\n(pause)\\nMan: Ah! Just the five minutes.\""
   ]
  },
  {
   "cell_type": "markdown",
   "metadata": {
    "colab_type": "text",
    "id": "L5MReR7UJFTU"
   },
   "source": [
    "`sketch1` 변수에 할당된 문자열을 `sketch1.txt` 파일에 저장한다."
   ]
  },
  {
   "cell_type": "code",
   "execution_count": 17,
   "metadata": {
    "colab": {},
    "colab_type": "code",
    "id": "5SJ-6ctcJQlc"
   },
   "outputs": [],
   "source": [
    "with open('sketch1.txt', 'w') as file:\n",
    "  file.write(sketch1)"
   ]
  },
  {
   "cell_type": "code",
   "execution_count": 18,
   "metadata": {
    "colab": {
     "base_uri": "https://localhost:8080/",
     "height": 85
    },
    "colab_type": "code",
    "id": "CCHR6JJIJdiH",
    "outputId": "cf042667-1e41-4e45-f270-2804f8fc3006"
   },
   "outputs": [
    {
     "name": "stdout",
     "output_type": "stream",
     "text": [
      "Man: Is this the right room for an argument?\n",
      "Other Man: Oh I'm sorry: or the full half hour?\n",
      "(pause)\n",
      "Man: Ah! Just the five minutes.\n"
     ]
    }
   ],
   "source": [
    "with open('sketch1.txt', 'r') as file:\n",
    "  print(file.read())"
   ]
  },
  {
   "cell_type": "markdown",
   "metadata": {
    "colab_type": "text",
    "id": "fvJa-GehKbKS"
   },
   "source": [
    "이제 `role_words` 함수를 완성하세요."
   ]
  },
  {
   "cell_type": "code",
   "execution_count": 19,
   "metadata": {
    "colab": {},
    "colab_type": "code",
    "id": "Qumo49Jf7Gw7"
   },
   "outputs": [],
   "source": [
    "def role_words(fileName):\n",
    "    with open(fileName) as data:\n",
    "        for each_line in data:\n",
    "            try:\n",
    "                role, spoken = each_line.split(':',1)\n",
    "                print(role+' said:'+spoken,end='')\n",
    "            except:\n",
    "                pass"
   ]
  },
  {
   "cell_type": "code",
   "execution_count": 20,
   "metadata": {
    "colab": {},
    "colab_type": "code",
    "id": "z6VMf4qc7Gw8"
   },
   "outputs": [
    {
     "name": "stdout",
     "output_type": "stream",
     "text": [
      "Man said: Is this the right room for an argument?\n",
      "Other Man said: Oh I'm sorry: or the full half hour?\n",
      "Man said: Ah! Just the five minutes."
     ]
    }
   ],
   "source": [
    "role_words('sketch1.txt')"
   ]
  },
  {
   "cell_type": "markdown",
   "metadata": {
    "colab_type": "text",
    "id": "3IuhSH6N7Gw9"
   },
   "source": [
    "## 문제 8\n",
    "\n",
    "(Think Python) 기본 자료형: 파일 - 연습문제 8번"
   ]
  },
  {
   "cell_type": "code",
   "execution_count": 21,
   "metadata": {
    "colab": {},
    "colab_type": "code",
    "id": "ynYBdAEU7Gw9"
   },
   "outputs": [],
   "source": [
    "def role_texts(fileName):\n",
    "    with open(fileName) as data, \\\n",
    "        open('dialogues_Man.txt','w') as man, \\\n",
    "        open('dialogues_Other.txt','w') as other:\n",
    "\n",
    "        for each_line in data:\n",
    "            try:\n",
    "                line = each_line.split(':', 1)\n",
    "                line_spoken = line[1].lstrip()\n",
    "                if line[0] == 'Man' :\n",
    "                    man.write(line_spoken)\n",
    "                if line[0] == 'Other Man':\n",
    "                    other.write(line_spoken)\n",
    "            except IndexError:\n",
    "                pass"
   ]
  },
  {
   "cell_type": "code",
   "execution_count": 22,
   "metadata": {
    "colab": {},
    "colab_type": "code",
    "id": "9NppNf3o7Gw_"
   },
   "outputs": [],
   "source": [
    "role_texts('sketch1.txt')"
   ]
  },
  {
   "cell_type": "code",
   "execution_count": 23,
   "metadata": {
    "colab": {},
    "colab_type": "code",
    "id": "nOgtn2ctK5BQ"
   },
   "outputs": [
    {
     "name": "stdout",
     "output_type": "stream",
     "text": [
      "Is this the right room for an argument?\n",
      "Ah! Just the five minutes.\n"
     ]
    }
   ],
   "source": [
    "with open(\"dialogues_Man.txt\") as man:\n",
    "  print(man.read())"
   ]
  },
  {
   "cell_type": "code",
   "execution_count": 24,
   "metadata": {
    "colab": {},
    "colab_type": "code",
    "id": "FIdrGoJlLQdX"
   },
   "outputs": [
    {
     "name": "stdout",
     "output_type": "stream",
     "text": [
      "Oh I'm sorry: or the full half hour?\n",
      "\n"
     ]
    }
   ],
   "source": [
    "with open(\"dialogues_Other.txt\") as other:\n",
    "  print(other.read())"
   ]
  },
  {
   "cell_type": "code",
   "execution_count": null,
   "metadata": {},
   "outputs": [],
   "source": []
  },
  {
   "cell_type": "code",
   "execution_count": null,
   "metadata": {},
   "outputs": [],
   "source": []
  },
  {
   "cell_type": "markdown",
   "metadata": {
    "colab_type": "text",
    "id": "uvS5YzyT7Gw4"
   },
   "source": [
    "## 문제 6"
   ]
  },
  {
   "cell_type": "code",
   "execution_count": 13,
   "metadata": {
    "colab": {
     "base_uri": "https://localhost:8080/",
     "height": 34
    },
    "colab_type": "code",
    "id": "qef-EIy_QmBv",
    "outputId": "e02971c9-582f-4a63-fe54-31fd50bf2f9c"
   },
   "outputs": [
    {
     "data": {
      "text/plain": [
       "('words.txt', <http.client.HTTPMessage at 0x7fa3f8406ac8>)"
      ]
     },
     "execution_count": 13,
     "metadata": {},
     "output_type": "execute_result"
    }
   ],
   "source": [
    "# words.txt 파일 다운로드\n",
    "import urllib.request\n",
    "urllib.request.urlretrieve('http://greenteapress.com/thinkpython2/code/words.txt', 'words.txt')"
   ]
  },
  {
   "cell_type": "code",
   "execution_count": 14,
   "metadata": {
    "colab": {},
    "colab_type": "code",
    "id": "h5TUpzMx7Gw4"
   },
   "outputs": [],
   "source": [
    "def txt2list(aFile):\n",
    "    a = []\n",
    "    with open(aFile,'r') as data:\n",
    "        for line in data:\n",
    "            a.append(line.strip())\n",
    "    return a"
   ]
  },
  {
   "cell_type": "code",
   "execution_count": 15,
   "metadata": {
    "colab": {
     "base_uri": "https://localhost:8080/",
     "height": 34
    },
    "colab_type": "code",
    "id": "7sSteOb-7Gw5",
    "outputId": "8daa6ab5-5caf-4591-ce78-ced446454b5f"
   },
   "outputs": [
    {
     "name": "stdout",
     "output_type": "stream",
     "text": [
      "['aa', 'aah', 'aahed', 'aahing', 'aahs', 'aal', 'aalii', 'aaliis', 'aals', 'aardvark']\n"
     ]
    }
   ],
   "source": [
    "print(txt2list('words.txt')[:10])"
   ]
  },
  {
   "cell_type": "code",
   "execution_count": 16,
   "metadata": {
    "colab": {
     "base_uri": "https://localhost:8080/",
     "height": 34
    },
    "colab_type": "code",
    "id": "SLAtRjdUQmBy",
    "outputId": "df6c2e39-5cd4-4cc3-cfcd-6ad928badfdd"
   },
   "outputs": [
    {
     "name": "stdout",
     "output_type": "stream",
     "text": [
      "['zymogene', 'zymogenes', 'zymogens', 'zymologies', 'zymology', 'zymoses', 'zymosis', 'zymotic', 'zymurgies', 'zymurgy']\n"
     ]
    }
   ],
   "source": [
    "print(txt2list('words.txt')[-10:])"
   ]
  },
  {
   "cell_type": "markdown",
   "metadata": {
    "colab_type": "text",
    "id": "dvdsfxiYQmBz"
   },
   "source": [
    "## 문제 7"
   ]
  },
  {
   "cell_type": "code",
   "execution_count": 17,
   "metadata": {
    "colab": {},
    "colab_type": "code",
    "id": "Qumo49Jf7Gw7"
   },
   "outputs": [],
   "source": [
    "def itemSearch(aWordsList, aWord):\n",
    "    if aWord in aWordsList:\n",
    "        return True\n",
    "    else:\n",
    "        return False"
   ]
  },
  {
   "cell_type": "markdown",
   "metadata": {
    "colab_type": "text",
    "id": "3P1LUocQQmB1"
   },
   "source": [
    "### 테스팅\n",
    "\n",
    "**주의:** 수정하지 말 것."
   ]
  },
  {
   "cell_type": "code",
   "execution_count": 18,
   "metadata": {
    "colab": {
     "base_uri": "https://localhost:8080/",
     "height": 52
    },
    "colab_type": "code",
    "id": "ZeCeUuYOQmB1",
    "outputId": "fe0e8183-147e-4ea5-b22c-735639e29b2e"
   },
   "outputs": [
    {
     "name": "stdout",
     "output_type": "stream",
     "text": [
      "마지막 항목 검색시간: 0.001359초\n"
     ]
    },
    {
     "data": {
      "text/plain": [
       "True"
      ]
     },
     "execution_count": 18,
     "metadata": {},
     "output_type": "execute_result"
    }
   ],
   "source": [
    "# 리스트 항목 탐색은 시간이 오래 걸린다.\n",
    "import time\n",
    "\n",
    "words = txt2list('words.txt')\n",
    "\n",
    "exc7A = itemSearch(words, 'aback') == True\n",
    "exc7B = itemSearch(words, 'accru') == False\n",
    "exc7C = itemSearch(words, 'frett') == False\n",
    "exc7D = itemSearch(words, 'reporting') == True\n",
    "\n",
    "# 마지막 단어 검색시간 측정\n",
    "start_time = time.time()\n",
    "exc7E = itemSearch(words, 'zymurgy') == True\n",
    "elapsed_time = time.time() - start_time\n",
    "print(f\"마지막 항목 검색시간: {elapsed_time:.6f}초\")\n",
    "\n",
    "all([exc7A, exc7B, exc7C, exc7D, exc7E])"
   ]
  },
  {
   "cell_type": "markdown",
   "metadata": {
    "colab_type": "text",
    "id": "bbaMC-3yQmB2"
   },
   "source": [
    "## 문제 8\n",
    "\n",
    "(Think Python) 프로그래밍 기본 요소: 집합과 사전 - 연습문제 4번"
   ]
  },
  {
   "cell_type": "code",
   "execution_count": 19,
   "metadata": {
    "colab": {},
    "colab_type": "code",
    "id": "gvgr_eiHQmB3"
   },
   "outputs": [],
   "source": [
    "def binarySearch(aWordsList, aWord):\n",
    "    low = 0\n",
    "    high = len(aWordsList)\n",
    "\n",
    "    while low <= high:\n",
    "        mid = (low + high)//2\n",
    "        if aWordsList[mid] == aWord:\n",
    "            return True\n",
    "        elif aWordsList[mid] < aWord:\n",
    "            low = mid + 1\n",
    "        else:\n",
    "            high = mid - 1\n",
    "\n",
    "    return False"
   ]
  },
  {
   "cell_type": "markdown",
   "metadata": {
    "colab_type": "text",
    "id": "i6WicEPfQmB4"
   },
   "source": [
    "### 테스팅\n",
    "\n",
    "**주의:** 수정하지 말 것."
   ]
  },
  {
   "cell_type": "code",
   "execution_count": 20,
   "metadata": {
    "colab": {
     "base_uri": "https://localhost:8080/",
     "height": 52
    },
    "colab_type": "code",
    "id": "XcOVdPVBQmB4",
    "outputId": "a831540e-f89c-450b-dbbc-517a4d2939f0"
   },
   "outputs": [
    {
     "name": "stdout",
     "output_type": "stream",
     "text": [
      "이진탐색이 일반 탐색보다 약 8.1배 빠르다.\n"
     ]
    },
    {
     "data": {
      "text/plain": [
       "True"
      ]
     },
     "execution_count": 20,
     "metadata": {},
     "output_type": "execute_result"
    }
   ],
   "source": [
    "# 리스트 항목 탐색은 시간이 오래 걸린다.\n",
    "import time\n",
    "\n",
    "words = txt2list('words.txt')\n",
    "\n",
    "exc8A = binarySearch(words, 'aback') == True\n",
    "exc8B = binarySearch(words, 'accru') == False\n",
    "exc8C = binarySearch(words, 'frett') == False\n",
    "exc8D = binarySearch(words, 'reporting') == True\n",
    "\n",
    "# 마지막 단어 검색시간 측정\n",
    "start_time0 = time.time()\n",
    "exc8E = binarySearch(words, 'zymurgy') == True\n",
    "elapsed_time0 = time.time() - start_time0\n",
    "print(f\"이진탐색이 일반 탐색보다 약 {elapsed_time/elapsed_time0:.1f}배 빠르다.\")\n",
    "\n",
    "all([exc8A, exc8B, exc8C, exc8D, exc8E])"
   ]
  },
  {
   "cell_type": "markdown",
   "metadata": {
    "colab_type": "text",
    "id": "AM38GJkgQmB5"
   },
   "source": [
    "## 문제 9\n",
    "\n",
    "(Think Python) 프로그래밍 기본 요소: 집합과 사전 - 연습문제 5번"
   ]
  },
  {
   "cell_type": "code",
   "execution_count": 21,
   "metadata": {
    "colab": {},
    "colab_type": "code",
    "id": "JdHeR1ANQmB5"
   },
   "outputs": [],
   "source": [
    "def txt2dict(aFile):\n",
    "    a = dict()\n",
    "    with open(aFile) as data:\n",
    "        for item in data:\n",
    "            item = item.strip()\n",
    "            a[item] = True\n",
    "      \n",
    "    return a"
   ]
  },
  {
   "cell_type": "code",
   "execution_count": 22,
   "metadata": {
    "colab": {},
    "colab_type": "code",
    "id": "99kkYxmcQmB6"
   },
   "outputs": [],
   "source": [
    "def keySearch(aWordsDict, aWord):\n",
    "    if aWord in aWordsDict:\n",
    "        return True\n",
    "    else:\n",
    "        return False"
   ]
  },
  {
   "cell_type": "markdown",
   "metadata": {
    "colab_type": "text",
    "id": "8ooqRBCyQmB7"
   },
   "source": [
    "### 테스팅\n",
    "\n",
    "**주의:** 수정하지 말 것."
   ]
  },
  {
   "cell_type": "code",
   "execution_count": 23,
   "metadata": {
    "colab": {
     "base_uri": "https://localhost:8080/",
     "height": 70
    },
    "colab_type": "code",
    "id": "iP-eMVPyQmB7",
    "outputId": "4fb4591a-4103-4130-e445-0571c24a1c11"
   },
   "outputs": [
    {
     "name": "stdout",
     "output_type": "stream",
     "text": [
      "사전 탐색이 리스트 일반 탐색보다 약 30.8배 빠르다.\n",
      "사전 탐색이 리스트 이진탐색보다 약 3.8배 빠르다.\n"
     ]
    },
    {
     "data": {
      "text/plain": [
       "True"
      ]
     },
     "execution_count": 23,
     "metadata": {},
     "output_type": "execute_result"
    }
   ],
   "source": [
    "# 리스트 항목 탐색은 시간이 오래 걸린다.\n",
    "import time\n",
    "\n",
    "words = txt2dict('words.txt')\n",
    "\n",
    "exc9A = keySearch(words, 'aback') == True\n",
    "exc9B = keySearch(words, 'accru') == False\n",
    "exc9C = keySearch(words, 'frett') == False\n",
    "exc9D = keySearch(words, 'reporting') == True\n",
    "\n",
    "# 마지막 단어 검색시간 측정\n",
    "start_time1 = time.time()\n",
    "exc9E = keySearch(words, 'zymurgy') == True\n",
    "elapsed_time1 = time.time() - start_time1\n",
    "print(f\"사전 탐색이 리스트 일반 탐색보다 약 {elapsed_time/elapsed_time1:.1f}배 빠르다.\")\n",
    "print(f\"사전 탐색이 리스트 이진탐색보다 약 {elapsed_time0/elapsed_time1:.1f}배 빠르다.\")\n",
    "\n",
    "all([exc9A, exc9B, exc9C, exc9D, exc9E])"
   ]
  },
  {
   "cell_type": "code",
   "execution_count": null,
   "metadata": {},
   "outputs": [],
   "source": []
  },
  {
   "cell_type": "code",
   "execution_count": null,
   "metadata": {},
   "outputs": [],
   "source": []
  },
  {
   "cell_type": "code",
   "execution_count": null,
   "metadata": {},
   "outputs": [],
   "source": []
  },
  {
   "cell_type": "markdown",
   "metadata": {},
   "source": [
    "**쇼핑몰 파일 관련**"
   ]
  },
  {
   "cell_type": "markdown",
   "metadata": {},
   "source": [
    "**문제 1**"
   ]
  },
  {
   "cell_type": "markdown",
   "metadata": {
    "id": "gSF_tBKvfg9V"
   },
   "source": [
    "`shopA.txt` 파일은 쇼핑몰A에서 판매하는 상품의 가격을 담고 있음을 확인해보자.\n",
    "먼저 해당 파일을 다운로드 한다."
   ]
  },
  {
   "cell_type": "code",
   "execution_count": 5,
   "metadata": {},
   "outputs": [
    {
     "data": {
      "text/plain": [
       "(PosixPath('data/shopA.txt'), <http.client.HTTPMessage at 0x7fdac837f760>)"
      ]
     },
     "execution_count": 5,
     "metadata": {},
     "output_type": "execute_result"
    }
   ],
   "source": [
    "myWget(\"shopA.txt\")"
   ]
  },
  {
   "cell_type": "markdown",
   "metadata": {},
   "source": [
    "이제 파일 전체 내용을 출력하는 코드를 작성하라.\n",
    "\n",
    "힌트: `with-as` 명령문, `open()` 함수, `readlines()` 또는 `read()` 파일 메서드."
   ]
  },
  {
   "cell_type": "code",
   "execution_count": 6,
   "metadata": {},
   "outputs": [],
   "source": [
    "# 코드를 작성하세요.\n",
    "\n"
   ]
  },
  {
   "cell_type": "markdown",
   "metadata": {
    "id": "w86OM5AKF6-o"
   },
   "source": [
    "**문제 2**"
   ]
  },
  {
   "cell_type": "markdown",
   "metadata": {
    "id": "dVe6tYetAdhc"
   },
   "source": [
    "`shopA.txt` 파일의 내용을 확인하면, 오타가 있다. \n",
    "'오레ㄴ지' 를 '오렌지'로 변경한 후에\n",
    "`shopA.txt` 파일을 열어 오타가 수정되었는지를 확인하여라.  \n",
    "\n",
    "힌트: 파일의 `read()` 메서드, 문자열의 `replace()` 메서드"
   ]
  },
  {
   "cell_type": "markdown",
   "metadata": {},
   "source": [
    "* 파일 읽기: `read()` 메서드 활용"
   ]
  },
  {
   "cell_type": "code",
   "execution_count": 7,
   "metadata": {},
   "outputs": [],
   "source": [
    "# 파일내용을 하나의 문자열로 생성하는 코드를 작성하라.\n",
    "\n"
   ]
  },
  {
   "cell_type": "markdown",
   "metadata": {},
   "source": [
    "* 오타 수정: `replace()` 문자열 메서드 활용"
   ]
  },
  {
   "cell_type": "code",
   "execution_count": 8,
   "metadata": {},
   "outputs": [],
   "source": [
    "# 오타를 수정하는 코드를 작성하라.\n",
    "\n"
   ]
  },
  {
   "cell_type": "markdown",
   "metadata": {},
   "source": [
    "* 파일 저장"
   ]
  },
  {
   "cell_type": "code",
   "execution_count": 9,
   "metadata": {},
   "outputs": [],
   "source": [
    "# 오타가 수정된 문자열을 파일로 저장하는 코드를 작성하라.\n",
    "\n"
   ]
  },
  {
   "cell_type": "markdown",
   "metadata": {},
   "source": [
    "* 파일 내용 확인"
   ]
  },
  {
   "cell_type": "code",
   "execution_count": 10,
   "metadata": {},
   "outputs": [],
   "source": [
    "# 오타가 수정되었음을 확인하는 코드를 작성하라.\n",
    "\n"
   ]
  },
  {
   "cell_type": "markdown",
   "metadata": {},
   "source": [
    "**문제 3**"
   ]
  },
  {
   "cell_type": "markdown",
   "metadata": {
    "id": "egoqIohm-4a8"
   },
   "source": [
    "상품명과 가격을 키-값의 쌍으로 갖는 아래 모양의 딕셔너리를 만들어라.\n",
    "단, 오타가 수정된 파일을 이용해야 한다.\n",
    "\n",
    "```python\n",
    "{'우유': 2540,\n",
    " '계란': 7480,\n",
    " '생수': 980,\n",
    " '짜장라면': 3220,\n",
    " '두부': 1450,\n",
    " '콩나물': 1680,\n",
    " '김': 5480,\n",
    " '닭고기': 5980,\n",
    " '식빵': 2480,\n",
    " '바나나': 4980,\n",
    " '오렌지': 990,\n",
    " '카레': 2480,\n",
    " '만두': 6980,\n",
    " '어묵': 7980,\n",
    " '참치': 11880,\n",
    " '김치': 7980,\n",
    " '간장': 10800}\n",
    "```"
   ]
  },
  {
   "cell_type": "markdown",
   "metadata": {
    "id": "agiH0quMBxIb"
   },
   "source": [
    "**문제 4** "
   ]
  },
  {
   "cell_type": "markdown",
   "metadata": {
    "id": "agiH0quMBxIb"
   },
   "source": [
    "`shopA.txt` 와 같이 상품명과 가격으로 이루어진 쇼핑 리스트가 포함된 파일의 이름을 입력받으면\n",
    "상품명과 가격을 각각 키와 값으로 갖는 사전 객체를 반환하는 함수 `shopping()` 을 구현하라.\n",
    "\n",
    "힌트: 문제 3을 해결하기 위해 작성한 코드를 이용한다."
   ]
  },
  {
   "cell_type": "code",
   "execution_count": 11,
   "metadata": {
    "colab": {
     "base_uri": "https://localhost:8080/"
    },
    "executionInfo": {
     "elapsed": 618,
     "status": "ok",
     "timestamp": 1619154109230,
     "user": {
      "displayName": "Kyungho Lee",
      "photoUrl": "https://lh3.googleusercontent.com/a-/AOh14GjvtkL3ZVCUbwlviFfrh0VjjiMUuul3z7PbjJVCgQs=s64",
      "userId": "07228708431473169168"
     },
     "user_tz": -540
    },
    "id": "88mjQ9cRNZ2W",
    "outputId": "46bbdfbc-d62d-4f24-fc45-7687133da3b7"
   },
   "outputs": [
    {
     "name": "stdout",
     "output_type": "stream",
     "text": [
      "{}\n"
     ]
    }
   ],
   "source": [
    "# 아래 코드를 완성하라. \n",
    "\n",
    "def shopping(shop_file):\n",
    "    shop_dict = {} # 생성할 사전 객체\n",
    "    \n",
    "    pass\n",
    "\n",
    "    return shop_dict\n",
    "\n",
    "print(shopping(\"shopA.txt\"))"
   ]
  },
  {
   "cell_type": "markdown",
   "metadata": {
    "id": "agiH0quMBxIb"
   },
   "source": [
    "**문제 5**"
   ]
  },
  {
   "cell_type": "markdown",
   "metadata": {
    "id": "HjYVtYpwB5C2"
   },
   "source": [
    "쇼핑 리스트와 상품을 인자로 지정하면 상품의 가격을 반환하는 함수 `item_price()` 를 구현하라.\n",
    "\n",
    "힌트: `shopping()` 함수를 이용한다."
   ]
  },
  {
   "cell_type": "code",
   "execution_count": 12,
   "metadata": {
    "colab": {
     "base_uri": "https://localhost:8080/"
    },
    "executionInfo": {
     "elapsed": 3788,
     "status": "ok",
     "timestamp": 1619154201934,
     "user": {
      "displayName": "Kyungho Lee",
      "photoUrl": "https://lh3.googleusercontent.com/a-/AOh14GjvtkL3ZVCUbwlviFfrh0VjjiMUuul3z7PbjJVCgQs=s64",
      "userId": "07228708431473169168"
     },
     "user_tz": -540
    },
    "id": "WOsM3ngUOuAe",
    "outputId": "19ebaab4-d6ec-4b90-f4c4-7e2813bf6ca6"
   },
   "outputs": [
    {
     "name": "stdout",
     "output_type": "stream",
     "text": [
      "None\n"
     ]
    }
   ],
   "source": [
    "# 함수를 완성하라.\n",
    "\n",
    "def item_price(shop_file, item):\n",
    "    ...\n",
    "\n",
    "print(item_price(\"shopA.txt\", '김치'))"
   ]
  },
  {
   "cell_type": "markdown",
   "metadata": {
    "id": "agiH0quMBxIb"
   },
   "source": [
    "**문제 6**"
   ]
  },
  {
   "cell_type": "markdown",
   "metadata": {
    "id": "pkua4TgcEgut"
   },
   "source": [
    "`shopB.txt` 파일은 쇼핑몰B에서 판매하는 상품의 가격을 담고 있으며,\n",
    "`shopA.txt` 파일과 동일한 방식으로 다운로드할 수 있다."
   ]
  },
  {
   "cell_type": "code",
   "execution_count": 5,
   "metadata": {},
   "outputs": [
    {
     "data": {
      "text/plain": [
       "(PosixPath('data/shopA.txt'), <http.client.HTTPMessage at 0x7fdac837f760>)"
      ]
     },
     "execution_count": 5,
     "metadata": {},
     "output_type": "execute_result"
    }
   ],
   "source": [
    "myWget(\"shopB.txt\")"
   ]
  },
  {
   "cell_type": "markdown",
   "metadata": {
    "id": "pkua4TgcEgut"
   },
   "source": [
    "사용자가 상품을 입력하면, 쇼핑몰A와 쇼핑몰B 중 어느 쇼핑몰에서 구입하는 것이 얼마나 저렴한지를 보여주는\n",
    "함수 `price_comparison()`를 작성하라."
   ]
  },
  {
   "cell_type": "code",
   "execution_count": 16,
   "metadata": {},
   "outputs": [
    {
     "name": "stdout",
     "output_type": "stream",
     "text": [
      "None\n"
     ]
    }
   ],
   "source": [
    "# 코드를 완성하라.\n",
    "\n",
    "def price_comparison(item):\n",
    "    ...\n",
    "    \n",
    "print(price_comparison('김치'))"
   ]
  },
  {
   "cell_type": "markdown",
   "metadata": {},
   "source": [
    "**다이빙 기록 관련**"
   ]
  },
  {
   "cell_type": "markdown",
   "metadata": {},
   "source": [
    "**문제 7**"
   ]
  },
  {
   "cell_type": "markdown",
   "metadata": {},
   "source": [
    "[5미터 다이빙 기록 에서 등수를 확인하는 작업](https://codingalzi.github.io/pybook/files.html#sec-exp-diving-5m)과 \n",
    "동일한 작업을 10미터 다이빙 기록에 대해 진행하라."
   ]
  },
  {
   "cell_type": "code",
   "execution_count": 14,
   "metadata": {},
   "outputs": [],
   "source": [
    "# 코드를 작성하라.\n",
    "\n"
   ]
  },
  {
   "cell_type": "markdown",
   "metadata": {},
   "source": [
    "**문제 8**"
   ]
  },
  {
   "cell_type": "markdown",
   "metadata": {},
   "source": [
    "5미터 다이빙 기록과 10미터 다이빙 기록의 합에 대해 등수를 확인하는 코드를 작성하라."
   ]
  },
  {
   "cell_type": "code",
   "execution_count": 15,
   "metadata": {},
   "outputs": [],
   "source": [
    "# 코드를 작성하라.\n",
    "\n"
   ]
  }
 ],
 "metadata": {
  "colab": {
   "authorship_tag": "ABX9TyOLBviyewguMuduVaW2lBmN",
   "collapsed_sections": [],
   "name": "practice-files.ipynb",
   "provenance": []
  },
  "kernelspec": {
   "display_name": "Python 3 (ipykernel)",
   "language": "python",
   "name": "python3"
  },
  "language_info": {
   "codemirror_mode": {
    "name": "ipython",
    "version": 3
   },
   "file_extension": ".py",
   "mimetype": "text/x-python",
   "name": "python",
   "nbconvert_exporter": "python",
   "pygments_lexer": "ipython3",
   "version": "3.11.5"
  }
 },
 "nbformat": 4,
 "nbformat_minor": 1
}
