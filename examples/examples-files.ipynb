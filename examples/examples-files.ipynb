{
  "cells": [
    {
      "cell_type": "markdown",
      "metadata": {
        "id": "ev2DmiOdatZ2"
      },
      "source": [
        "# (필수 예제) 파일"
      ]
    },
    {
      "cell_type": "markdown",
      "metadata": {
        "id": "hOxFiCKcatZ_"
      },
      "source": [
        "**참고 사항**\n",
        "\n",
        "1. 먼저 [파일](https://codingalzi.github.io/pybook/files.html) 내용을 학습하세요.\n",
        "2. [YouTube 재생목록](https://www.youtube.com/...)에 예제 풀이 동영상이 있습니다."
      ]
    },
    {
      "cell_type": "markdown",
      "metadata": {
        "id": "oOpecu8lataC"
      },
      "source": [
        "**기본 설정**"
      ]
    },
    {
      "cell_type": "markdown",
      "metadata": {
        "id": "_zbxusP6ataD"
      },
      "source": [
        "파일 저장 경로와 파일 서버 주소를 지정에 필요한 기본 설정을 지정한다."
      ]
    },
    {
      "cell_type": "code",
      "execution_count": 1,
      "metadata": {
        "id": "OQQboxOLataE"
      },
      "outputs": [],
      "source": [
        "from pathlib import Path\n",
        "from urllib.request import urlretrieve"
      ]
    },
    {
      "cell_type": "markdown",
      "metadata": {
        "id": "DNOJkP4lataI"
      },
      "source": [
        "데이터가 저장된 텍스트 파일 서버 주소는 다음과 같다."
      ]
    },
    {
      "cell_type": "code",
      "execution_count": 2,
      "metadata": {
        "id": "cmv3odQFataJ"
      },
      "outputs": [],
      "source": [
        "base_url = \"https://raw.githubusercontent.com/codingalzi/pybook/master/jupyter-book/data/\""
      ]
    },
    {
      "cell_type": "markdown",
      "metadata": {
        "id": "kNtwe_nZataK"
      },
      "source": [
        "현재 작업 디렉토리의 `data` 하위 디렉토리에 파일을 다운로드해서 저장할 준비를 한다."
      ]
    },
    {
      "cell_type": "code",
      "execution_count": 3,
      "metadata": {
        "id": "TTk7yvNoataK"
      },
      "outputs": [],
      "source": [
        "# 저장위치 지정과 생성\n",
        "data_path = Path() / \"data\"\n",
        "data_path.mkdir(parents=True, exist_ok=True)"
      ]
    },
    {
      "cell_type": "markdown",
      "metadata": {
        "id": "tbIpd_GwataL"
      },
      "source": [
        "`myWget()` 함수는 파일 서버에서 지정된 파일을 동일한 파일명으로 지정된 디렉토리에 저장한다."
      ]
    },
    {
      "cell_type": "code",
      "execution_count": 4,
      "metadata": {
        "id": "KMZI_ja1ataM"
      },
      "outputs": [],
      "source": [
        "def myWget(filename):\n",
        "    # 다운로드 대상 파일 경로\n",
        "    file_url = base_url + filename\n",
        "\n",
        "    # 저장 경로와 파일명\n",
        "    target_path = data_path / filename\n",
        "\n",
        "    return urlretrieve(file_url, target_path)"
      ]
    },
    {
      "cell_type": "markdown",
      "metadata": {
        "id": "i53ovAJva31b"
      },
      "source": [
        "## 예제 1"
      ]
    },
    {
      "cell_type": "markdown",
      "metadata": {
        "id": "hxmnTZZNa31h"
      },
      "source": [
        "`shopA.txt` 파일은 쇼핑몰A에서 판매하는 상품의 가격을 담고 있음을 확인해보자.\n",
        "먼저 해당 파일을 다운로드 한다."
      ]
    },
    {
      "cell_type": "code",
      "execution_count": null,
      "metadata": {
        "outputId": "ed3ee4b0-4071-4947-8166-bf23ecac348f",
        "colab": {
          "base_uri": "https://localhost:8080/"
        },
        "id": "v21Zgs1Pa31h"
      },
      "outputs": [
        {
          "output_type": "execute_result",
          "data": {
            "text/plain": [
              "(PosixPath('data/shopA.txt'), <http.client.HTTPMessage at 0x7bc253786170>)"
            ]
          },
          "metadata": {},
          "execution_count": 26
        }
      ],
      "source": [
        "myWget(\"shopA.txt\")"
      ]
    },
    {
      "cell_type": "markdown",
      "metadata": {
        "id": "sowikpPba31h"
      },
      "source": [
        "**질문 1**"
      ]
    },
    {
      "cell_type": "markdown",
      "metadata": {
        "id": "xFcJzdEla31h"
      },
      "source": [
        "이제 파일 전체 내용을 출력하는 코드를 작성하라.\n",
        "\n",
        "힌트: `with-as` 명령문, `open()` 함수, `readlines()` 또는 `read()` 파일 메서드."
      ]
    },
    {
      "cell_type": "code",
      "execution_count": null,
      "metadata": {
        "outputId": "1a0310f7-6874-4f27-81c4-2db3528a1754",
        "colab": {
          "base_uri": "https://localhost:8080/"
        },
        "id": "2CgqxTRda31h"
      },
      "outputs": [
        {
          "output_type": "stream",
          "name": "stdout",
          "text": [
            "#쇼핑몰 A\n",
            "\n",
            "우유 2540원\n",
            "계란 7480원\n",
            "생수 980원\n",
            "짜장라면 3220원\n",
            "두부 1450원\n",
            "콩나물 1680원\n",
            "김 5480원\n",
            "닭고기 5980원\n",
            "식빵 2480원\n",
            "바나나 4980원\n",
            "오레ㄴ지 990원\n",
            "카레 2480원\n",
            "만두 6980원\n",
            "어묵 7980원\n",
            "참치 11880원\n",
            "김치 7980원\n",
            "간장 10800원\n"
          ]
        }
      ],
      "source": [
        "with open(data_path / 'shopA.txt', encoding='utf-8') as f:\n",
        "    lines = f.read()\n",
        "    print(lines)"
      ]
    },
    {
      "cell_type": "code",
      "execution_count": null,
      "metadata": {
        "outputId": "c81e71e1-b3d3-4446-8506-dd37b243bda2",
        "colab": {
          "base_uri": "https://localhost:8080/"
        },
        "id": "OH6mR1GZa31h"
      },
      "outputs": [
        {
          "output_type": "stream",
          "name": "stdout",
          "text": [
            "#쇼핑몰 A\n",
            "\n",
            "우유 2540원\n",
            "계란 7480원\n",
            "생수 980원\n",
            "짜장라면 3220원\n",
            "두부 1450원\n",
            "콩나물 1680원\n",
            "김 5480원\n",
            "닭고기 5980원\n",
            "식빵 2480원\n",
            "바나나 4980원\n",
            "오레ㄴ지 990원\n",
            "카레 2480원\n",
            "만두 6980원\n",
            "어묵 7980원\n",
            "참치 11880원\n",
            "김치 7980원\n",
            "간장 10800원\n"
          ]
        }
      ],
      "source": [
        "with open(data_path / 'shopA.txt', encoding='utf-8') as f:\n",
        "    lines = f.readlines()\n",
        "    for line in lines:\n",
        "        print(line.strip())"
      ]
    },
    {
      "cell_type": "code",
      "execution_count": null,
      "metadata": {
        "outputId": "b0d72ac6-c8a8-445a-958c-eed7e0eacace",
        "colab": {
          "base_uri": "https://localhost:8080/"
        },
        "id": "9i-LFiuUa31i"
      },
      "outputs": [
        {
          "output_type": "stream",
          "name": "stdout",
          "text": [
            "#쇼핑몰 A\n",
            "\n",
            "우유 2540원\n",
            "계란 7480원\n",
            "생수 980원\n",
            "짜장라면 3220원\n",
            "두부 1450원\n",
            "콩나물 1680원\n",
            "김 5480원\n",
            "닭고기 5980원\n",
            "식빵 2480원\n",
            "바나나 4980원\n",
            "오레ㄴ지 990원\n",
            "카레 2480원\n",
            "만두 6980원\n",
            "어묵 7980원\n",
            "참치 11880원\n",
            "김치 7980원\n",
            "간장 10800원\n"
          ]
        }
      ],
      "source": [
        "with open(data_path / 'shopA.txt', encoding='utf-8') as f:\n",
        "    for line in f:\n",
        "        print(line.strip())"
      ]
    },
    {
      "cell_type": "markdown",
      "metadata": {
        "id": "ZGbkeIrOa31i"
      },
      "source": [
        "**질문 2**"
      ]
    },
    {
      "cell_type": "markdown",
      "metadata": {
        "id": "qjlRzJvaa31i"
      },
      "source": [
        "`shopA.txt` 파일의 내용을 확인하면, 오타가 있다.\n",
        "'오레ㄴ지' 를 '오렌지'로 변경한 후에\n",
        "`shopA.txt` 파일을 열어 오타가 수정되었는지를 확인하여라.  \n",
        "\n",
        "힌트: 파일의 `read()` 메서드, 문자열의 `replace()` 메서드"
      ]
    },
    {
      "cell_type": "markdown",
      "metadata": {
        "id": "mkuaSuK_a31i"
      },
      "source": [
        "* 파일 읽기: `read()` 메서드 활용"
      ]
    },
    {
      "cell_type": "code",
      "execution_count": null,
      "metadata": {
        "id": "DMAwhApea31i"
      },
      "outputs": [],
      "source": [
        "with open(data_path / 'shopA.txt', encoding='utf-8') as f:\n",
        "    A_lines = f.read()"
      ]
    },
    {
      "cell_type": "markdown",
      "metadata": {
        "id": "CWvN3gJCa31i"
      },
      "source": [
        "* 오타 수정: `replace()` 문자열 메서드 활용"
      ]
    },
    {
      "cell_type": "code",
      "execution_count": null,
      "metadata": {
        "outputId": "a547ed66-3c4f-4de8-cb4a-eb53f6041528",
        "colab": {
          "base_uri": "https://localhost:8080/"
        },
        "id": "wz4pz8cga31i"
      },
      "outputs": [
        {
          "output_type": "stream",
          "name": "stdout",
          "text": [
            "#쇼핑몰 A\n",
            "\n",
            "우유 2540원\n",
            "계란 7480원\n",
            "생수 980원\n",
            "짜장라면 3220원\n",
            "두부 1450원\n",
            "콩나물 1680원\n",
            "김 5480원\n",
            "닭고기 5980원\n",
            "식빵 2480원\n",
            "바나나 4980원\n",
            "오렌지 990원\n",
            "카레 2480원\n",
            "만두 6980원\n",
            "어묵 7980원\n",
            "참치 11880원\n",
            "김치 7980원\n",
            "간장 10800원\n"
          ]
        }
      ],
      "source": [
        "A_lines_corrected = A_lines.replace('오레ㄴ지', '오렌지')\n",
        "print(A_lines_corrected)"
      ]
    },
    {
      "cell_type": "markdown",
      "metadata": {
        "id": "MXqPJRhma31i"
      },
      "source": [
        "* 파일 저장"
      ]
    },
    {
      "cell_type": "code",
      "execution_count": null,
      "metadata": {
        "id": "EkXfahyia31j"
      },
      "outputs": [],
      "source": [
        "with open(data_path / 'shopA.txt', encoding='utf-8', mode='w') as f:\n",
        "    f.write(A_lines_corrected)"
      ]
    },
    {
      "cell_type": "markdown",
      "metadata": {
        "id": "xrY6Dd60a31j"
      },
      "source": [
        "* 파일 내용 확인"
      ]
    },
    {
      "cell_type": "code",
      "execution_count": null,
      "metadata": {
        "outputId": "158ce19a-82bb-4c94-8353-71345bb6dd1d",
        "colab": {
          "base_uri": "https://localhost:8080/"
        },
        "id": "GzoD8AyIa31j"
      },
      "outputs": [
        {
          "output_type": "stream",
          "name": "stdout",
          "text": [
            "#쇼핑몰 A\n",
            "\n",
            "우유 2540원\n",
            "계란 7480원\n",
            "생수 980원\n",
            "짜장라면 3220원\n",
            "두부 1450원\n",
            "콩나물 1680원\n",
            "김 5480원\n",
            "닭고기 5980원\n",
            "식빵 2480원\n",
            "바나나 4980원\n",
            "오렌지 990원\n",
            "카레 2480원\n",
            "만두 6980원\n",
            "어묵 7980원\n",
            "참치 11880원\n",
            "김치 7980원\n",
            "간장 10800원\n"
          ]
        }
      ],
      "source": [
        "with open(data_path / 'shopA.txt', encoding='utf-8') as f:\n",
        "    for line in f:\n",
        "        print(line.strip())"
      ]
    },
    {
      "cell_type": "markdown",
      "metadata": {
        "id": "0Suh2kEta31j"
      },
      "source": [
        "**질문 3**"
      ]
    },
    {
      "cell_type": "markdown",
      "metadata": {
        "id": "ND8mwD4Ta31j"
      },
      "source": [
        "상품명과 가격을 키-값의 쌍으로 갖는 아래 모양의 사전을 `A_dict` 변수가 가리키도록 하라.\n",
        "단, 오타가 수정된 파일을 이용해야 한다.\n",
        "\n",
        "```python\n",
        "{'우유': 2540,\n",
        " '계란': 7480,\n",
        " '생수': 980,\n",
        " '짜장라면': 3220,\n",
        " '두부': 1450,\n",
        " '콩나물': 1680,\n",
        " '김': 5480,\n",
        " '닭고기': 5980,\n",
        " '식빵': 2480,\n",
        " '바나나': 4980,\n",
        " '오렌지': 990,\n",
        " '카레': 2480,\n",
        " '만두': 6980,\n",
        " '어묵': 7980,\n",
        " '참치': 11880,\n",
        " '김치': 7980,\n",
        " '간장': 10800}\n",
        "```"
      ]
    },
    {
      "cell_type": "code",
      "execution_count": null,
      "metadata": {
        "outputId": "e2aa3de4-426d-4747-a2e5-a2261aa5f01b",
        "colab": {
          "base_uri": "https://localhost:8080/"
        },
        "id": "zCasHdE4a31j"
      },
      "outputs": [
        {
          "output_type": "execute_result",
          "data": {
            "text/plain": [
              "{'우유': 2540,\n",
              " '계란': 7480,\n",
              " '생수': 980,\n",
              " '짜장라면': 3220,\n",
              " '두부': 1450,\n",
              " '콩나물': 1680,\n",
              " '김': 5480,\n",
              " '닭고기': 5980,\n",
              " '식빵': 2480,\n",
              " '바나나': 4980,\n",
              " '오렌지': 990,\n",
              " '카레': 2480,\n",
              " '만두': 6980,\n",
              " '어묵': 7980,\n",
              " '참치': 11880,\n",
              " '김치': 7980,\n",
              " '간장': 10800}"
            ]
          },
          "metadata": {},
          "execution_count": 34
        }
      ],
      "source": [
        "with open(data_path / 'shopA.txt', encoding='utf-8') as f:\n",
        "    items_dict = dict()\n",
        "    for line in f:\n",
        "        if line.strip().startswith('#') or line.strip() == '':\n",
        "            continue\n",
        "        item, price = line.strip().split()\n",
        "        items_dict[item] = int(price[:-1])\n",
        "\n",
        "items_dict"
      ]
    },
    {
      "cell_type": "markdown",
      "metadata": {
        "id": "CsQIiyYua31j"
      },
      "source": [
        "**질문 4**"
      ]
    },
    {
      "cell_type": "code",
      "execution_count": null,
      "metadata": {
        "id": "ywLyqzNOa31j"
      },
      "outputs": [],
      "source": [
        "def shopping(shop_file):\n",
        "    with open(data_path / shop_file, encoding='utf-8') as f:\n",
        "        items_dict = dict()\n",
        "        for line in f:\n",
        "            if line.strip().startswith('#') or line.strip() == '':\n",
        "                continue\n",
        "            item, price = line.strip().split()\n",
        "            items_dict[item] = int(price[:-1])\n",
        "\n",
        "    return items_dict"
      ]
    },
    {
      "cell_type": "code",
      "execution_count": null,
      "metadata": {
        "colab": {
          "base_uri": "https://localhost:8080/"
        },
        "outputId": "5d671905-82b1-4fef-d85a-d52a266e0f68",
        "id": "ZtXOllSba31j"
      },
      "outputs": [
        {
          "output_type": "execute_result",
          "data": {
            "text/plain": [
              "{'우유': 2540,\n",
              " '계란': 7480,\n",
              " '생수': 980,\n",
              " '짜장라면': 3220,\n",
              " '두부': 1450,\n",
              " '콩나물': 1680,\n",
              " '김': 5480,\n",
              " '닭고기': 5980,\n",
              " '식빵': 2480,\n",
              " '바나나': 4980,\n",
              " '오렌지': 990,\n",
              " '카레': 2480,\n",
              " '만두': 6980,\n",
              " '어묵': 7980,\n",
              " '참치': 11880,\n",
              " '김치': 7980,\n",
              " '간장': 10800}"
            ]
          },
          "metadata": {},
          "execution_count": 36
        }
      ],
      "source": [
        "shopping(\"shopA.txt\")"
      ]
    },
    {
      "cell_type": "markdown",
      "metadata": {
        "id": "AOybLEusa31k"
      },
      "source": [
        "**질문 5**"
      ]
    },
    {
      "cell_type": "markdown",
      "metadata": {
        "id": "bnyrA_v-a31k"
      },
      "source": [
        "쇼핑 리스트와 상품을 인자로 지정하면 상품의 가격을 반환하는 함수 `item_price()` 를 구현하라.\n",
        "\n",
        "힌트: `shopping()` 함수를 이용한다."
      ]
    },
    {
      "cell_type": "code",
      "execution_count": null,
      "metadata": {
        "id": "OfvVRqaxa31k"
      },
      "outputs": [],
      "source": [
        "def item_price(shop_file, item):\n",
        "    items_dict = shopping(shop_file)\n",
        "    return items_dict[item]"
      ]
    },
    {
      "cell_type": "code",
      "execution_count": null,
      "metadata": {
        "colab": {
          "base_uri": "https://localhost:8080/"
        },
        "outputId": "340c4d2e-04f5-4445-ad97-3cbae1678011",
        "id": "pHNNvMzCa31k"
      },
      "outputs": [
        {
          "output_type": "stream",
          "name": "stdout",
          "text": [
            "7980\n"
          ]
        }
      ],
      "source": [
        "print(item_price(\"shopA.txt\", '김치'))"
      ]
    },
    {
      "cell_type": "markdown",
      "metadata": {
        "id": "cROtfSena31k"
      },
      "source": [
        "**질문 6**"
      ]
    },
    {
      "cell_type": "markdown",
      "metadata": {
        "id": "1nL2yQoBa31k"
      },
      "source": [
        "`shopB.txt` 파일은 쇼핑몰B에서 판매하는 상품의 가격을 담고 있으며,\n",
        "`shopA.txt` 파일과 동일한 방식으로 다운로드할 수 있다."
      ]
    },
    {
      "cell_type": "code",
      "execution_count": null,
      "metadata": {
        "outputId": "c0eecdd4-039f-4ab7-b264-387bf9e009d9",
        "id": "FhMO2oSsa31k"
      },
      "outputs": [
        {
          "data": {
            "text/plain": [
              "(PosixPath('data/shopB.txt'), <http.client.HTTPMessage at 0x7f6e82727050>)"
            ]
          },
          "execution_count": 90,
          "metadata": {},
          "output_type": "execute_result"
        }
      ],
      "source": [
        "myWget(\"shopB.txt\")"
      ]
    },
    {
      "cell_type": "markdown",
      "metadata": {
        "id": "UXjCAoNha31k"
      },
      "source": [
        "사용자가 상품을 입력하면, 쇼핑몰A와 쇼핑몰B 중 어느 쇼핑몰에서 구입하는 것이 얼마나 저렴한지를 보여주는\n",
        "함수 `price_comparison()`를 작성하라."
      ]
    },
    {
      "cell_type": "code",
      "execution_count": null,
      "metadata": {
        "id": "2gWKZ7dta31l"
      },
      "outputs": [],
      "source": [
        "def price_comparison(item):\n",
        "    price_diff = item_price(\"shopA.txt\", item) -item_price(\"shopB.txt\", item)\n",
        "    return abs(price_diff)"
      ]
    },
    {
      "cell_type": "code",
      "execution_count": null,
      "metadata": {
        "outputId": "199a901a-b02d-4298-c914-5908bfa60c27",
        "id": "yH0_nzMqa31l"
      },
      "outputs": [
        {
          "data": {
            "text/plain": [
              "7980"
            ]
          },
          "execution_count": 92,
          "metadata": {},
          "output_type": "execute_result"
        }
      ],
      "source": [
        "item_price(\"ShopA.txt\", '김치')"
      ]
    },
    {
      "cell_type": "code",
      "execution_count": null,
      "metadata": {
        "outputId": "77dad2fa-c5f5-4729-8619-63adcf42d343",
        "id": "uE67ZXZpa31l"
      },
      "outputs": [
        {
          "data": {
            "text/plain": [
              "8480"
            ]
          },
          "execution_count": 94,
          "metadata": {},
          "output_type": "execute_result"
        }
      ],
      "source": [
        "item_price(\"ShopB.txt\", '김치')"
      ]
    },
    {
      "cell_type": "code",
      "execution_count": null,
      "metadata": {
        "outputId": "d8825053-8f0e-4d08-e1ef-5c685d4a4b1c",
        "id": "GKtNT1fLa31l"
      },
      "outputs": [
        {
          "data": {
            "text/plain": [
              "{'우유': 2270,\n",
              " '계란': 7520,\n",
              " '생수': 1010,\n",
              " '짜장라면': 3210,\n",
              " '두부': 1150,\n",
              " '콩나물': 1980,\n",
              " '김': 5290,\n",
              " '닭고기': 6000,\n",
              " '식빵': 1990,\n",
              " '바나나': 4990,\n",
              " '오렌지': 1050,\n",
              " '카레': 2400,\n",
              " '만두': 7400,\n",
              " '어묵': 6980,\n",
              " '참치': 11580,\n",
              " '김치': 8480,\n",
              " '간장': 9900}"
            ]
          },
          "execution_count": 93,
          "metadata": {},
          "output_type": "execute_result"
        }
      ],
      "source": [
        "shopping(\"ShopB.txt\")"
      ]
    },
    {
      "cell_type": "code",
      "execution_count": null,
      "metadata": {
        "outputId": "48a741f2-08ca-45b3-d575-a3d8e7b5edca",
        "id": "z-nZ9RjKa31l"
      },
      "outputs": [
        {
          "name": "stdout",
          "output_type": "stream",
          "text": [
            "500\n"
          ]
        }
      ],
      "source": [
        "print(price_comparison('김치'))"
      ]
    },
    {
      "cell_type": "markdown",
      "metadata": {
        "id": "uvS5YzyT7Gw4"
      },
      "source": [
        "## 예제 2"
      ]
    },
    {
      "cell_type": "code",
      "execution_count": 39,
      "metadata": {
        "colab": {
          "base_uri": "https://localhost:8080/"
        },
        "id": "qef-EIy_QmBv",
        "outputId": "c4295896-3f80-422a-b5c8-2ec3ff8e1778"
      },
      "outputs": [
        {
          "output_type": "execute_result",
          "data": {
            "text/plain": [
              "('words.txt', <http.client.HTTPMessage at 0x7bc253786440>)"
            ]
          },
          "metadata": {},
          "execution_count": 39
        }
      ],
      "source": [
        "# words.txt 파일 다운로드\n",
        "import urllib.request\n",
        "urllib.request.urlretrieve('http://greenteapress.com/thinkpython2/code/words.txt', 'words.txt')"
      ]
    },
    {
      "cell_type": "markdown",
      "source": [
        "**질문 1**"
      ],
      "metadata": {
        "id": "i_9B-dhMXCck"
      }
    },
    {
      "cell_type": "code",
      "execution_count": 40,
      "metadata": {
        "id": "h5TUpzMx7Gw4"
      },
      "outputs": [],
      "source": [
        "def txt2list(aFile):\n",
        "    a = []\n",
        "    with open(aFile,'r') as data:\n",
        "        for line in data:\n",
        "            a.append(line.strip())\n",
        "    return a"
      ]
    },
    {
      "cell_type": "code",
      "execution_count": 41,
      "metadata": {
        "colab": {
          "base_uri": "https://localhost:8080/"
        },
        "id": "7sSteOb-7Gw5",
        "outputId": "73226ac8-34f6-4917-b6bc-aa8374a37db2"
      },
      "outputs": [
        {
          "output_type": "stream",
          "name": "stdout",
          "text": [
            "['aa', 'aah', 'aahed', 'aahing', 'aahs', 'aal', 'aalii', 'aaliis', 'aals', 'aardvark']\n"
          ]
        }
      ],
      "source": [
        "print(txt2list('words.txt')[:10])"
      ]
    },
    {
      "cell_type": "code",
      "execution_count": 42,
      "metadata": {
        "colab": {
          "base_uri": "https://localhost:8080/"
        },
        "id": "SLAtRjdUQmBy",
        "outputId": "5fdb6170-bc17-4ffe-d8c7-c4c7d5ac1221"
      },
      "outputs": [
        {
          "output_type": "stream",
          "name": "stdout",
          "text": [
            "['zymogene', 'zymogenes', 'zymogens', 'zymologies', 'zymology', 'zymoses', 'zymosis', 'zymotic', 'zymurgies', 'zymurgy']\n"
          ]
        }
      ],
      "source": [
        "print(txt2list('words.txt')[-10:])"
      ]
    },
    {
      "cell_type": "code",
      "execution_count": 51,
      "metadata": {
        "colab": {
          "base_uri": "https://localhost:8080/"
        },
        "id": "ZeCeUuYOQmB1",
        "outputId": "9a1c06d1-e2c0-40ed-8037-1641803143e4"
      },
      "outputs": [
        {
          "output_type": "stream",
          "name": "stdout",
          "text": [
            "마지막 항목 검색시간: 0.002705초\n"
          ]
        }
      ],
      "source": [
        "# 리스트 항목 탐색은 시간이 오래 걸린다.\n",
        "import time\n",
        "\n",
        "words = txt2list('words.txt')\n",
        "\n",
        "# 마지막 단어 검색시간 측정\n",
        "start_time = time.time()\n",
        "'zymurgy' in words == True\n",
        "elapsed_time = time.time() - start_time\n",
        "print(f\"마지막 항목 검색시간: {elapsed_time:.6f}초\")"
      ]
    },
    {
      "cell_type": "markdown",
      "metadata": {
        "id": "bbaMC-3yQmB2"
      },
      "source": [
        "**질문 2**"
      ]
    },
    {
      "cell_type": "code",
      "execution_count": 52,
      "metadata": {
        "id": "gvgr_eiHQmB3"
      },
      "outputs": [],
      "source": [
        "def binarySearch(aWordsList, aWord):\n",
        "    low = 0\n",
        "    high = len(aWordsList)\n",
        "\n",
        "    while low <= high:\n",
        "        mid = (low + high)//2\n",
        "        if aWordsList[mid] == aWord:\n",
        "            return True\n",
        "        elif aWordsList[mid] < aWord:\n",
        "            low = mid + 1\n",
        "        else:\n",
        "            high = mid - 1\n",
        "\n",
        "    return False"
      ]
    },
    {
      "cell_type": "code",
      "execution_count": 55,
      "metadata": {
        "colab": {
          "base_uri": "https://localhost:8080/"
        },
        "id": "XcOVdPVBQmB4",
        "outputId": "702190b1-9677-4c5d-9bb8-5b9addeefe4c"
      },
      "outputs": [
        {
          "output_type": "stream",
          "name": "stdout",
          "text": [
            "이진탐색이 일반 탐색보다 약 17.0배 빠르다.\n"
          ]
        }
      ],
      "source": [
        "# 리스트 항목 탐색은 시간이 오래 걸린다.\n",
        "import time\n",
        "\n",
        "# 마지막 단어 검색시간 측정\n",
        "start_time0 = time.time()\n",
        "exc8E = binarySearch(words, 'zymurgy') == True\n",
        "elapsed_time0 = time.time() - start_time0\n",
        "print(f\"이진탐색이 일반 탐색보다 약 {elapsed_time/elapsed_time0:.1f}배 빠르다.\")"
      ]
    },
    {
      "cell_type": "markdown",
      "metadata": {
        "id": "AM38GJkgQmB5"
      },
      "source": [
        "**질문 3**"
      ]
    },
    {
      "cell_type": "code",
      "execution_count": 47,
      "metadata": {
        "id": "JdHeR1ANQmB5"
      },
      "outputs": [],
      "source": [
        "def txt2dict(aFile):\n",
        "    a = dict()\n",
        "    with open(aFile) as data:\n",
        "        for item in data:\n",
        "            item = item.strip()\n",
        "            a[item] = True\n",
        "\n",
        "    return a"
      ]
    },
    {
      "cell_type": "code",
      "execution_count": 48,
      "metadata": {
        "id": "99kkYxmcQmB6"
      },
      "outputs": [],
      "source": [
        "def keySearch(aWordsDict, aWord):\n",
        "    if aWord in aWordsDict:\n",
        "        return True\n",
        "    else:\n",
        "        return False"
      ]
    },
    {
      "cell_type": "code",
      "execution_count": 49,
      "metadata": {
        "colab": {
          "base_uri": "https://localhost:8080/"
        },
        "id": "iP-eMVPyQmB7",
        "outputId": "1cf1747b-9fe2-4e8d-aca6-16a275bcea9a"
      },
      "outputs": [
        {
          "output_type": "stream",
          "name": "stdout",
          "text": [
            "사전 탐색이 리스트 일반 탐색보다 약 36.3배 빠르다.\n",
            "사전 탐색이 리스트 이진탐색보다 약 1.2배 빠르다.\n"
          ]
        },
        {
          "output_type": "execute_result",
          "data": {
            "text/plain": [
              "True"
            ]
          },
          "metadata": {},
          "execution_count": 49
        }
      ],
      "source": [
        "# 리스트 항목 탐색은 시간이 오래 걸린다.\n",
        "import time\n",
        "\n",
        "words = txt2dict('words.txt')\n",
        "\n",
        "exc9A = keySearch(words, 'aback') == True\n",
        "exc9B = keySearch(words, 'accru') == False\n",
        "exc9C = keySearch(words, 'frett') == False\n",
        "exc9D = keySearch(words, 'reporting') == True\n",
        "\n",
        "# 마지막 단어 검색시간 측정\n",
        "start_time1 = time.time()\n",
        "exc9E = keySearch(words, 'zymurgy') == True\n",
        "elapsed_time1 = time.time() - start_time1\n",
        "print(f\"사전 탐색이 리스트 일반 탐색보다 약 {elapsed_time/elapsed_time1:.1f}배 빠르다.\")\n",
        "print(f\"사전 탐색이 리스트 이진탐색보다 약 {elapsed_time0/elapsed_time1:.1f}배 빠르다.\")\n",
        "\n",
        "all([exc9A, exc9B, exc9C, exc9D, exc9E])"
      ]
    }
  ],
  "metadata": {
    "colab": {
      "provenance": []
    },
    "kernelspec": {
      "display_name": "Python 3 (ipykernel)",
      "language": "python",
      "name": "python3"
    },
    "language_info": {
      "codemirror_mode": {
        "name": "ipython",
        "version": 3
      },
      "file_extension": ".py",
      "mimetype": "text/x-python",
      "name": "python",
      "nbconvert_exporter": "python",
      "pygments_lexer": "ipython3",
      "version": "3.11.7"
    }
  },
  "nbformat": 4,
  "nbformat_minor": 0
}