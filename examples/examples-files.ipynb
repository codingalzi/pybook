{
 "cells": [
  {
   "cell_type": "markdown",
   "metadata": {
    "id": "ev2DmiOdatZ2"
   },
   "source": [
    "# (필수 예제) 파일"
   ]
  },
  {
   "cell_type": "markdown",
   "metadata": {
    "id": "hOxFiCKcatZ_"
   },
   "source": [
    "**참고 사항**\n",
    "\n",
    "1. 먼저 [파일](https://codingalzi.github.io/pybook/files.html) 내용을 학습하세요."
   ]
  },
  {
   "cell_type": "markdown",
   "metadata": {
    "id": "oOpecu8lataC"
   },
   "source": [
    "**기본 설정**"
   ]
  },
  {
   "cell_type": "markdown",
   "metadata": {
    "id": "_zbxusP6ataD"
   },
   "source": [
    "파일 저장 경로와 파일 서버 주소를 지정에 필요한 기본 설정을 지정한다."
   ]
  },
  {
   "cell_type": "code",
   "execution_count": 1,
   "metadata": {
    "id": "OQQboxOLataE"
   },
   "outputs": [],
   "source": [
    "from pathlib import Path\n",
    "from urllib.request import urlretrieve"
   ]
  },
  {
   "cell_type": "markdown",
   "metadata": {
    "id": "DNOJkP4lataI"
   },
   "source": [
    "데이터가 저장된 텍스트 파일 서버 주소는 다음과 같다."
   ]
  },
  {
   "cell_type": "code",
   "execution_count": 2,
   "metadata": {
    "id": "cmv3odQFataJ"
   },
   "outputs": [],
   "source": [
    "base_url = \"https://raw.githubusercontent.com/codingalzi/pybook/master/jupyter-book/data/\""
   ]
  },
  {
   "cell_type": "markdown",
   "metadata": {
    "id": "kNtwe_nZataK"
   },
   "source": [
    "현재 작업 디렉토리의 `data` 하위 디렉토리에 파일을 다운로드해서 저장할 준비를 한다."
   ]
  },
  {
   "cell_type": "code",
   "execution_count": 3,
   "metadata": {
    "id": "TTk7yvNoataK"
   },
   "outputs": [],
   "source": [
    "# 저장위치 지정과 생성\n",
    "data_path = Path() / \"data\"\n",
    "data_path.mkdir(parents=True, exist_ok=True)"
   ]
  },
  {
   "cell_type": "markdown",
   "metadata": {
    "id": "tbIpd_GwataL"
   },
   "source": [
    "`myWget()` 함수는 파일 서버에서 지정된 파일을 동일한 파일명으로 지정된 디렉토리에 저장한다."
   ]
  },
  {
   "cell_type": "code",
   "execution_count": 4,
   "metadata": {
    "id": "KMZI_ja1ataM"
   },
   "outputs": [],
   "source": [
    "def myWget(filename):\n",
    "    # 다운로드 대상 파일 경로\n",
    "    file_url = base_url + filename\n",
    "\n",
    "    # 저장 경로와 파일명\n",
    "    target_path = data_path / filename\n",
    "\n",
    "    return urlretrieve(file_url, target_path)"
   ]
  },
  {
   "cell_type": "markdown",
   "metadata": {
    "id": "i53ovAJva31b"
   },
   "source": [
    "## 예제 1"
   ]
  },
  {
   "cell_type": "markdown",
   "metadata": {
    "id": "hxmnTZZNa31h"
   },
   "source": [
    "`shopA.txt` 파일은 쇼핑몰A에서 판매하는 상품의 가격을 담고 있음을 확인해보자.\n",
    "먼저 해당 파일을 다운로드 한다."
   ]
  },
  {
   "cell_type": "code",
   "execution_count": 5,
   "metadata": {
    "colab": {
     "base_uri": "https://localhost:8080/"
    },
    "id": "v21Zgs1Pa31h",
    "outputId": "ed3ee4b0-4071-4947-8166-bf23ecac348f"
   },
   "outputs": [
    {
     "data": {
      "text/plain": [
       "(PosixPath('data/shopA.txt'), <http.client.HTTPMessage at 0x7f6144e6f810>)"
      ]
     },
     "execution_count": 5,
     "metadata": {},
     "output_type": "execute_result"
    }
   ],
   "source": [
    "myWget(\"shopA.txt\")"
   ]
  },
  {
   "cell_type": "markdown",
   "metadata": {
    "id": "sowikpPba31h"
   },
   "source": [
    "**질문 1**"
   ]
  },
  {
   "cell_type": "markdown",
   "metadata": {
    "id": "xFcJzdEla31h"
   },
   "source": [
    "파일 전체 내용을 출력하는 코드를 작성하라.\n",
    "\n",
    "힌트: `with-as` 명령문, `open()` 함수, `readlines()` 또는 `read()` 파일 메서드."
   ]
  },
  {
   "cell_type": "markdown",
   "metadata": {},
   "source": [
    "답 1:"
   ]
  },
  {
   "cell_type": "code",
   "execution_count": 6,
   "metadata": {
    "colab": {
     "base_uri": "https://localhost:8080/"
    },
    "id": "9i-LFiuUa31i",
    "outputId": "b0d72ac6-c8a8-445a-958c-eed7e0eacace"
   },
   "outputs": [
    {
     "name": "stdout",
     "output_type": "stream",
     "text": [
      "#쇼핑몰 A\n",
      "\n",
      "우유 2540원\n",
      "계란 7480원\n",
      "생수 980원\n",
      "짜장라면 3220원\n",
      "두부 1450원\n",
      "콩나물 1680원\n",
      "김 5480원\n",
      "닭고기 5980원\n",
      "식빵 2480원\n",
      "바나나 4980원\n",
      "오레ㄴ지 990원\n",
      "카레 2480원\n",
      "만두 6980원\n",
      "어묵 7980원\n",
      "참치 11880원\n",
      "김치 7980원\n",
      "간장 10800원\n"
     ]
    }
   ],
   "source": [
    "with open(data_path / 'shopA.txt', encoding='utf-8') as f:\n",
    "    for line in f:\n",
    "        print(line.strip())"
   ]
  },
  {
   "cell_type": "markdown",
   "metadata": {},
   "source": [
    "답 2:"
   ]
  },
  {
   "cell_type": "code",
   "execution_count": 7,
   "metadata": {
    "colab": {
     "base_uri": "https://localhost:8080/"
    },
    "id": "2CgqxTRda31h",
    "outputId": "1a0310f7-6874-4f27-81c4-2db3528a1754"
   },
   "outputs": [
    {
     "name": "stdout",
     "output_type": "stream",
     "text": [
      "#쇼핑몰 A\n",
      "\n",
      "우유 2540원\n",
      "계란 7480원\n",
      "생수 980원\n",
      "짜장라면 3220원\n",
      "두부 1450원\n",
      "콩나물 1680원\n",
      "김 5480원\n",
      "닭고기 5980원\n",
      "식빵 2480원\n",
      "바나나 4980원\n",
      "오레ㄴ지 990원\n",
      "카레 2480원\n",
      "만두 6980원\n",
      "어묵 7980원\n",
      "참치 11880원\n",
      "김치 7980원\n",
      "간장 10800원\n"
     ]
    }
   ],
   "source": [
    "with open(data_path / 'shopA.txt', encoding='utf-8') as f:\n",
    "    lines = f.read()\n",
    "    print(lines)"
   ]
  },
  {
   "cell_type": "markdown",
   "metadata": {},
   "source": [
    "답 3:"
   ]
  },
  {
   "cell_type": "code",
   "execution_count": 8,
   "metadata": {
    "colab": {
     "base_uri": "https://localhost:8080/"
    },
    "id": "OH6mR1GZa31h",
    "outputId": "c81e71e1-b3d3-4446-8506-dd37b243bda2"
   },
   "outputs": [
    {
     "name": "stdout",
     "output_type": "stream",
     "text": [
      "#쇼핑몰 A\n",
      "\n",
      "우유 2540원\n",
      "계란 7480원\n",
      "생수 980원\n",
      "짜장라면 3220원\n",
      "두부 1450원\n",
      "콩나물 1680원\n",
      "김 5480원\n",
      "닭고기 5980원\n",
      "식빵 2480원\n",
      "바나나 4980원\n",
      "오레ㄴ지 990원\n",
      "카레 2480원\n",
      "만두 6980원\n",
      "어묵 7980원\n",
      "참치 11880원\n",
      "김치 7980원\n",
      "간장 10800원\n"
     ]
    }
   ],
   "source": [
    "with open(data_path / 'shopA.txt', encoding='utf-8') as f:\n",
    "    lines = f.readlines()\n",
    "    for line in lines:\n",
    "        print(line.strip())"
   ]
  },
  {
   "cell_type": "markdown",
   "metadata": {
    "id": "ZGbkeIrOa31i"
   },
   "source": [
    "**질문 2**"
   ]
  },
  {
   "cell_type": "markdown",
   "metadata": {
    "id": "qjlRzJvaa31i"
   },
   "source": [
    "`shopA.txt` 파일의 내용을 확인하면 '오레ㄴ지'가 '오렌지'로 잘못 적혀 있다.\n",
    "오타를 수정하여라."
   ]
  },
  {
   "cell_type": "markdown",
   "metadata": {},
   "source": [
    "답:"
   ]
  },
  {
   "cell_type": "markdown",
   "metadata": {
    "id": "mkuaSuK_a31i"
   },
   "source": [
    "먼저 파일 내용을 하나의 문자열로 읽어 온다."
   ]
  },
  {
   "cell_type": "code",
   "execution_count": 9,
   "metadata": {
    "id": "DMAwhApea31i"
   },
   "outputs": [],
   "source": [
    "with open(data_path / 'shopA.txt', encoding='utf-8') as f:\n",
    "    shoping_list = f.read()"
   ]
  },
  {
   "cell_type": "markdown",
   "metadata": {
    "id": "CWvN3gJCa31i"
   },
   "source": [
    "`replace()` 문자열 메서드를 활용하여 오타를 수정한다."
   ]
  },
  {
   "cell_type": "code",
   "execution_count": 10,
   "metadata": {
    "colab": {
     "base_uri": "https://localhost:8080/"
    },
    "id": "wz4pz8cga31i",
    "outputId": "a547ed66-3c4f-4de8-cb4a-eb53f6041528"
   },
   "outputs": [
    {
     "name": "stdout",
     "output_type": "stream",
     "text": [
      "#쇼핑몰 A\n",
      "\n",
      "우유 2540원\n",
      "계란 7480원\n",
      "생수 980원\n",
      "짜장라면 3220원\n",
      "두부 1450원\n",
      "콩나물 1680원\n",
      "김 5480원\n",
      "닭고기 5980원\n",
      "식빵 2480원\n",
      "바나나 4980원\n",
      "오렌지 990원\n",
      "카레 2480원\n",
      "만두 6980원\n",
      "어묵 7980원\n",
      "참치 11880원\n",
      "김치 7980원\n",
      "간장 10800원\n"
     ]
    }
   ],
   "source": [
    "shoping_list_corrected = shoping_list.replace('오레ㄴ지', '오렌지')\n",
    "print(shoping_list_corrected)"
   ]
  },
  {
   "cell_type": "markdown",
   "metadata": {
    "id": "MXqPJRhma31i"
   },
   "source": [
    "수정된 내용을 저장한다."
   ]
  },
  {
   "cell_type": "code",
   "execution_count": 11,
   "metadata": {
    "id": "EkXfahyia31j"
   },
   "outputs": [],
   "source": [
    "with open(data_path / 'shopA.txt', encoding='utf-8', mode='w') as f:\n",
    "    f.write(shoping_list_corrected)"
   ]
  },
  {
   "cell_type": "markdown",
   "metadata": {
    "id": "xrY6Dd60a31j"
   },
   "source": [
    "수정된 파일 내용을 읽어보면 오타가 수정되었음을 확인할 수 있다."
   ]
  },
  {
   "cell_type": "code",
   "execution_count": 12,
   "metadata": {
    "colab": {
     "base_uri": "https://localhost:8080/"
    },
    "id": "GzoD8AyIa31j",
    "outputId": "158ce19a-82bb-4c94-8353-71345bb6dd1d"
   },
   "outputs": [
    {
     "name": "stdout",
     "output_type": "stream",
     "text": [
      "#쇼핑몰 A\n",
      "\n",
      "우유 2540원\n",
      "계란 7480원\n",
      "생수 980원\n",
      "짜장라면 3220원\n",
      "두부 1450원\n",
      "콩나물 1680원\n",
      "김 5480원\n",
      "닭고기 5980원\n",
      "식빵 2480원\n",
      "바나나 4980원\n",
      "오렌지 990원\n",
      "카레 2480원\n",
      "만두 6980원\n",
      "어묵 7980원\n",
      "참치 11880원\n",
      "김치 7980원\n",
      "간장 10800원\n"
     ]
    }
   ],
   "source": [
    "with open(data_path / 'shopA.txt', encoding='utf-8') as f:\n",
    "    for line in f:\n",
    "        print(line.strip())"
   ]
  },
  {
   "cell_type": "markdown",
   "metadata": {
    "id": "0Suh2kEta31j"
   },
   "source": [
    "**질문 3**"
   ]
  },
  {
   "cell_type": "markdown",
   "metadata": {
    "id": "ND8mwD4Ta31j"
   },
   "source": [
    "상품명과 가격을 키-값의 쌍으로 갖는 아래 모양의 사전을 \n",
    "반환하는 `shopping()` 함수를 정의하라.\n",
    "\n",
    "```\n",
    "{'우유': 2540,\n",
    " '계란': 7480,\n",
    " '생수': 980,\n",
    " '짜장라면': 3220,\n",
    " '두부': 1450,\n",
    " '콩나물': 1680,\n",
    " '김': 5480,\n",
    " '닭고기': 5980,\n",
    " '식빵': 2480,\n",
    " '바나나': 4980,\n",
    " '오렌지': 990,\n",
    " '카레': 2480,\n",
    " '만두': 6980,\n",
    " '어묵': 7980,\n",
    " '참치': 11880,\n",
    " '김치': 7980,\n",
    " '간장': 10800}\n",
    "```"
   ]
  },
  {
   "cell_type": "markdown",
   "metadata": {},
   "source": [
    "답:"
   ]
  },
  {
   "cell_type": "markdown",
   "metadata": {},
   "source": [
    "파일을 열어 한 줄씩 읽을 때 첫째, 둘째 줄을 무시해야 한다."
   ]
  },
  {
   "cell_type": "code",
   "execution_count": 13,
   "metadata": {
    "id": "ywLyqzNOa31j"
   },
   "outputs": [],
   "source": [
    "def shopping(shop_file):\n",
    "    with open(data_path / shop_file, encoding='utf-8') as f:\n",
    "        items_dict = dict()\n",
    "        for line in f:\n",
    "            if line.strip().startswith('#') or line.strip() == '':\n",
    "                continue\n",
    "            item, price = line.strip().split()\n",
    "            items_dict[item] = int(price[:-1])\n",
    "\n",
    "    return items_dict"
   ]
  },
  {
   "cell_type": "code",
   "execution_count": 14,
   "metadata": {
    "colab": {
     "base_uri": "https://localhost:8080/"
    },
    "id": "ZtXOllSba31j",
    "outputId": "5d671905-82b1-4fef-d85a-d52a266e0f68"
   },
   "outputs": [
    {
     "data": {
      "text/plain": [
       "{'우유': 2540,\n",
       " '계란': 7480,\n",
       " '생수': 980,\n",
       " '짜장라면': 3220,\n",
       " '두부': 1450,\n",
       " '콩나물': 1680,\n",
       " '김': 5480,\n",
       " '닭고기': 5980,\n",
       " '식빵': 2480,\n",
       " '바나나': 4980,\n",
       " '오렌지': 990,\n",
       " '카레': 2480,\n",
       " '만두': 6980,\n",
       " '어묵': 7980,\n",
       " '참치': 11880,\n",
       " '김치': 7980,\n",
       " '간장': 10800}"
      ]
     },
     "execution_count": 14,
     "metadata": {},
     "output_type": "execute_result"
    }
   ],
   "source": [
    "shopping(\"shopA.txt\")"
   ]
  },
  {
   "cell_type": "markdown",
   "metadata": {
    "id": "CsQIiyYua31j"
   },
   "source": [
    "**질문 4**"
   ]
  },
  {
   "cell_type": "markdown",
   "metadata": {
    "id": "bnyrA_v-a31k"
   },
   "source": [
    "쇼핑 리스트와 상품을 인자로 지정하면 상품의 가격을 반환하는 함수 `item_price()` 를 구현하라.\n",
    "\n",
    "힌트: `shopping()` 함수를 이용한다."
   ]
  },
  {
   "cell_type": "markdown",
   "metadata": {},
   "source": [
    "답:"
   ]
  },
  {
   "cell_type": "code",
   "execution_count": 15,
   "metadata": {
    "id": "OfvVRqaxa31k"
   },
   "outputs": [],
   "source": [
    "def item_price(shop_file, item):\n",
    "    items_dict = shopping(shop_file)\n",
    "    return items_dict[item]"
   ]
  },
  {
   "cell_type": "code",
   "execution_count": 16,
   "metadata": {
    "colab": {
     "base_uri": "https://localhost:8080/"
    },
    "id": "pHNNvMzCa31k",
    "outputId": "340c4d2e-04f5-4445-ad97-3cbae1678011"
   },
   "outputs": [
    {
     "name": "stdout",
     "output_type": "stream",
     "text": [
      "7980\n"
     ]
    }
   ],
   "source": [
    "print(item_price(\"shopA.txt\", '김치'))"
   ]
  },
  {
   "cell_type": "markdown",
   "metadata": {
    "id": "AOybLEusa31k"
   },
   "source": [
    "**질문 5**"
   ]
  },
  {
   "cell_type": "markdown",
   "metadata": {
    "id": "1nL2yQoBa31k"
   },
   "source": [
    "`shopB.txt` 파일은 쇼핑몰B에서 판매하는 상품의 가격을 담고 있으며,\n",
    "`shopA.txt` 파일과 동일한 방식으로 다운로드할 수 있다."
   ]
  },
  {
   "cell_type": "code",
   "execution_count": 17,
   "metadata": {
    "id": "FhMO2oSsa31k",
    "outputId": "c0eecdd4-039f-4ab7-b264-387bf9e009d9"
   },
   "outputs": [
    {
     "data": {
      "text/plain": [
       "(PosixPath('data/shopB.txt'), <http.client.HTTPMessage at 0x7f6144e8e650>)"
      ]
     },
     "execution_count": 17,
     "metadata": {},
     "output_type": "execute_result"
    }
   ],
   "source": [
    "myWget(\"shopB.txt\")"
   ]
  },
  {
   "cell_type": "code",
   "execution_count": 18,
   "metadata": {
    "id": "GKtNT1fLa31l",
    "outputId": "d8825053-8f0e-4d08-e1ef-5c685d4a4b1c"
   },
   "outputs": [
    {
     "data": {
      "text/plain": [
       "{'우유': 2270,\n",
       " '계란': 7520,\n",
       " '생수': 1010,\n",
       " '짜장라면': 3210,\n",
       " '두부': 1150,\n",
       " '콩나물': 1980,\n",
       " '김': 5290,\n",
       " '닭고기': 6000,\n",
       " '식빵': 1990,\n",
       " '바나나': 4990,\n",
       " '오렌지': 1050,\n",
       " '카레': 2400,\n",
       " '만두': 7400,\n",
       " '어묵': 6980,\n",
       " '참치': 11580,\n",
       " '김치': 8480,\n",
       " '간장': 9900}"
      ]
     },
     "execution_count": 18,
     "metadata": {},
     "output_type": "execute_result"
    }
   ],
   "source": [
    "shopping(\"ShopB.txt\")"
   ]
  },
  {
   "cell_type": "markdown",
   "metadata": {
    "id": "UXjCAoNha31k"
   },
   "source": [
    "사용자가 상품을 입력하면, 쇼핑몰A와 쇼핑몰B 중 어느 쇼핑몰에서 구입하는 것이 얼마나 저렴한지를 보여주는\n",
    "`price_comparison()` 함수를 작성하라."
   ]
  },
  {
   "cell_type": "markdown",
   "metadata": {},
   "source": [
    "답:"
   ]
  },
  {
   "cell_type": "code",
   "execution_count": 19,
   "metadata": {
    "id": "2gWKZ7dta31l"
   },
   "outputs": [],
   "source": [
    "def price_comparison(item):\n",
    "    price_diff = item_price(\"shopA.txt\", item) -item_price(\"shopB.txt\", item)\n",
    "    return abs(price_diff)"
   ]
  },
  {
   "cell_type": "code",
   "execution_count": 20,
   "metadata": {
    "id": "z-nZ9RjKa31l",
    "outputId": "48a741f2-08ca-45b3-d575-a3d8e7b5edca"
   },
   "outputs": [
    {
     "name": "stdout",
     "output_type": "stream",
     "text": [
      "두 쇼핑몰에서의 김치 가격의 차이는 500원이다.\n"
     ]
    }
   ],
   "source": [
    "print(f\"두 쇼핑몰에서의 김치 가격의 차이는 {price_comparison('김치')}원이다.\")"
   ]
  },
  {
   "cell_type": "markdown",
   "metadata": {},
   "source": [
    "실제로 두 쇼핑몰에서의 김치 가격은 다음과 같다."
   ]
  },
  {
   "cell_type": "code",
   "execution_count": 21,
   "metadata": {
    "id": "yH0_nzMqa31l",
    "outputId": "199a901a-b02d-4298-c914-5908bfa60c27"
   },
   "outputs": [
    {
     "data": {
      "text/plain": [
       "7980"
      ]
     },
     "execution_count": 21,
     "metadata": {},
     "output_type": "execute_result"
    }
   ],
   "source": [
    "item_price(\"ShopA.txt\", '김치')"
   ]
  },
  {
   "cell_type": "code",
   "execution_count": 22,
   "metadata": {
    "id": "uE67ZXZpa31l",
    "outputId": "77dad2fa-c5f5-4729-8619-63adcf42d343"
   },
   "outputs": [
    {
     "data": {
      "text/plain": [
       "8480"
      ]
     },
     "execution_count": 22,
     "metadata": {},
     "output_type": "execute_result"
    }
   ],
   "source": [
    "item_price(\"ShopB.txt\", '김치')"
   ]
  },
  {
   "cell_type": "markdown",
   "metadata": {
    "id": "uvS5YzyT7Gw4"
   },
   "source": [
    "## 예제 2"
   ]
  },
  {
   "cell_type": "markdown",
   "metadata": {},
   "source": [
    "먼저 `words.txt` 파일을 다운로드해서 `data` 하위 폴더에 저장한다."
   ]
  },
  {
   "cell_type": "code",
   "execution_count": 23,
   "metadata": {},
   "outputs": [
    {
     "data": {
      "text/plain": [
       "(PosixPath('data/words.txt'), <http.client.HTTPMessage at 0x7f6144e6f4d0>)"
      ]
     },
     "execution_count": 23,
     "metadata": {},
     "output_type": "execute_result"
    }
   ],
   "source": [
    "myWget('words.txt')"
   ]
  },
  {
   "cell_type": "markdown",
   "metadata": {},
   "source": [
    "`words.txt` 파일에는 다음과 같은 형식으로 113,809 개의 단어가 포함되어 있다."
   ]
  },
  {
   "cell_type": "markdown",
   "metadata": {},
   "source": [
    "```\n",
    "aa\n",
    "aah\n",
    "aahed\n",
    "aahing\n",
    "aahs\n",
    "...\n",
    "zymoses\n",
    "zymosis\n",
    "zymotic\n",
    "zymurgies\n",
    "zymurgy\n",
    "```"
   ]
  },
  {
   "cell_type": "markdown",
   "metadata": {},
   "source": [
    "다음 `text2list()` 함수는 텍스트 파일에 내용을\n",
    "리스트로 불러온다.\n",
    "리스트의 항목은 파일에 포함된 각각의 줄에서 양끝에 있는 화이트 스페이스가 제거된 문자열이다."
   ]
  },
  {
   "cell_type": "code",
   "execution_count": 24,
   "metadata": {
    "id": "h5TUpzMx7Gw4"
   },
   "outputs": [],
   "source": [
    "def txt2list(aFile):\n",
    "    a = []\n",
    "    with open(aFile,'r') as data:\n",
    "        for line in data:\n",
    "            a.append(line.strip())\n",
    "    return a"
   ]
  },
  {
   "cell_type": "markdown",
   "metadata": {},
   "source": [
    "이제 `words.txt`에 총 113,809 줄이 포함되어 있음을 확인할 수 있다."
   ]
  },
  {
   "cell_type": "code",
   "execution_count": 25,
   "metadata": {},
   "outputs": [],
   "source": [
    "words_list = txt2list(data_path / 'words.txt')"
   ]
  },
  {
   "cell_type": "code",
   "execution_count": 26,
   "metadata": {
    "colab": {
     "base_uri": "https://localhost:8080/"
    },
    "id": "7sSteOb-7Gw5",
    "outputId": "73226ac8-34f6-4917-b6bc-aa8374a37db2"
   },
   "outputs": [
    {
     "data": {
      "text/plain": [
       "113809"
      ]
     },
     "execution_count": 26,
     "metadata": {},
     "output_type": "execute_result"
    }
   ],
   "source": [
    "len(words_list)"
   ]
  },
  {
   "cell_type": "markdown",
   "metadata": {},
   "source": [
    "처음 5줄의 내용은 다음과 같다."
   ]
  },
  {
   "cell_type": "code",
   "execution_count": 27,
   "metadata": {},
   "outputs": [
    {
     "data": {
      "text/plain": [
       "['aa', 'aah', 'aahed', 'aahing', 'aahs']"
      ]
     },
     "execution_count": 27,
     "metadata": {},
     "output_type": "execute_result"
    }
   ],
   "source": [
    "words_list[:5]"
   ]
  },
  {
   "cell_type": "markdown",
   "metadata": {},
   "source": [
    "마지막 5줄의 내용은 다음과 같다."
   ]
  },
  {
   "cell_type": "code",
   "execution_count": 28,
   "metadata": {},
   "outputs": [
    {
     "data": {
      "text/plain": [
       "['zymoses', 'zymosis', 'zymotic', 'zymurgies', 'zymurgy']"
      ]
     },
     "execution_count": 28,
     "metadata": {},
     "output_type": "execute_result"
    }
   ],
   "source": [
    "words_list[-5:]"
   ]
  },
  {
   "cell_type": "markdown",
   "metadata": {
    "id": "i_9B-dhMXCck"
   },
   "source": [
    "**질문 1**"
   ]
  },
  {
   "cell_type": "markdown",
   "metadata": {},
   "source": [
    "리스트의 마지막 항목인 `'zymurgy'` 문자열이 리스트에 포함되어 있는지 여부를\n",
    "확인할 때 걸리는 시간을 측정하라.\n",
    "\n",
    "힌트: `time` 모듈의 `time()` 함수 활용"
   ]
  },
  {
   "cell_type": "markdown",
   "metadata": {},
   "source": [
    "답:"
   ]
  },
  {
   "cell_type": "code",
   "execution_count": 29,
   "metadata": {
    "colab": {
     "base_uri": "https://localhost:8080/"
    },
    "id": "ZeCeUuYOQmB1",
    "outputId": "9a1c06d1-e2c0-40ed-8037-1641803143e4"
   },
   "outputs": [],
   "source": [
    "import time\n",
    "\n",
    "last_word = words_list[-1]\n",
    "\n",
    "start_time = time.time() # 탐색 시작 시간\n",
    "\n",
    "assert last_word in words_list\n",
    "\n",
    "elapsed_time = time.time() - start_time # 탐색 종료 시간"
   ]
  },
  {
   "cell_type": "code",
   "execution_count": 30,
   "metadata": {
    "colab": {
     "base_uri": "https://localhost:8080/"
    },
    "id": "ZeCeUuYOQmB1",
    "outputId": "9a1c06d1-e2c0-40ed-8037-1641803143e4"
   },
   "outputs": [
    {
     "name": "stdout",
     "output_type": "stream",
     "text": [
      "마지막 항목 검색시간: 0.001504초\n"
     ]
    }
   ],
   "source": [
    "print(f\"마지막 항목 검색시간: {elapsed_time:.6f}초\")"
   ]
  },
  {
   "cell_type": "markdown",
   "metadata": {
    "id": "bbaMC-3yQmB2"
   },
   "source": [
    "**질문 2**"
   ]
  },
  {
   "cell_type": "markdown",
   "metadata": {},
   "source": [
    "다음 `binarySearch()` 함수는 이진 탐색을 구현한다.\n",
    "이진 탐색에 대한 자세한 설명은 \n",
    "[코딩알지: 이진 탐색](https://codingalzi.github.io/algopy/sort_search_1.html?highlight=이진+탐색#id4)을 \n",
    "참고한다."
   ]
  },
  {
   "cell_type": "code",
   "execution_count": 31,
   "metadata": {
    "id": "gvgr_eiHQmB3"
   },
   "outputs": [],
   "source": [
    "def binarySearch(aWordsList, aWord):\n",
    "    low = 0\n",
    "    high = len(aWordsList)\n",
    "\n",
    "    while low <= high:\n",
    "        mid = (low + high)//2\n",
    "        if aWordsList[mid] == aWord:\n",
    "            return True\n",
    "        elif aWordsList[mid] < aWord:\n",
    "            low = mid + 1\n",
    "        else:\n",
    "            high = mid - 1\n",
    "\n",
    "    return False"
   ]
  },
  {
   "cell_type": "markdown",
   "metadata": {},
   "source": [
    "이진 탐색으로 마지막 단어를 탐색하는 데 걸리는 시간을 측정한 다음에\n",
    "`in` 연산자의 경우보다 몇 배 빠른지/느린지 확인하라."
   ]
  },
  {
   "cell_type": "markdown",
   "metadata": {},
   "source": [
    "답:"
   ]
  },
  {
   "cell_type": "code",
   "execution_count": 32,
   "metadata": {
    "colab": {
     "base_uri": "https://localhost:8080/"
    },
    "id": "ZeCeUuYOQmB1",
    "outputId": "9a1c06d1-e2c0-40ed-8037-1641803143e4"
   },
   "outputs": [],
   "source": [
    "import time\n",
    "\n",
    "last_word = words_list[-1]\n",
    "\n",
    "start_time_bin = time.time() # 탐색 시작 시간\n",
    "\n",
    "assert binarySearch(words_list, last_word)\n",
    "\n",
    "elapsed_time_bin = time.time() - start_time_bin # 탐색 종료 시간"
   ]
  },
  {
   "cell_type": "code",
   "execution_count": 33,
   "metadata": {
    "colab": {
     "base_uri": "https://localhost:8080/"
    },
    "id": "ZeCeUuYOQmB1",
    "outputId": "9a1c06d1-e2c0-40ed-8037-1641803143e4"
   },
   "outputs": [
    {
     "name": "stdout",
     "output_type": "stream",
     "text": [
      "마지막 항목 검색시간: 0.000074초\n"
     ]
    }
   ],
   "source": [
    "print(f\"마지막 항목 검색시간: {elapsed_time_bin:.6f}초\")"
   ]
  },
  {
   "cell_type": "code",
   "execution_count": 34,
   "metadata": {
    "colab": {
     "base_uri": "https://localhost:8080/"
    },
    "id": "ZeCeUuYOQmB1",
    "outputId": "9a1c06d1-e2c0-40ed-8037-1641803143e4"
   },
   "outputs": [
    {
     "name": "stdout",
     "output_type": "stream",
     "text": [
      "이진 탐색이 in 연산자보다 약 20.2배 빠르다.\n"
     ]
    }
   ],
   "source": [
    "print(f\"이진 탐색이 in 연산자보다 약 {elapsed_time/elapsed_time_bin:.1f}배 빠르다.\")"
   ]
  },
  {
   "cell_type": "markdown",
   "metadata": {
    "id": "AM38GJkgQmB5"
   },
   "source": [
    "**질문 3**"
   ]
  },
  {
   "cell_type": "markdown",
   "metadata": {},
   "source": [
    "다음 `text2dict()` 함수는 텍스트 파일에 내용을\n",
    "사전 자료형으로 불러온다.\n",
    "항목의 키는 각 줄의 양끝에서 화이트 스페이스가 제거된 단어이며, 값은 `True`로 지정한다."
   ]
  },
  {
   "cell_type": "code",
   "execution_count": 35,
   "metadata": {
    "id": "JdHeR1ANQmB5"
   },
   "outputs": [],
   "source": [
    "def txt2dict(aFile):\n",
    "    aDict = dict()\n",
    "    with open(aFile) as data:\n",
    "        for item in data:\n",
    "            item = item.strip()\n",
    "            aDict[item] = True\n",
    "\n",
    "    return aDict"
   ]
  },
  {
   "cell_type": "code",
   "execution_count": 36,
   "metadata": {},
   "outputs": [],
   "source": [
    "words_dict = txt2dict('words.txt')"
   ]
  },
  {
   "cell_type": "code",
   "execution_count": 37,
   "metadata": {},
   "outputs": [
    {
     "data": {
      "text/plain": [
       "113809"
      ]
     },
     "execution_count": 37,
     "metadata": {},
     "output_type": "execute_result"
    }
   ],
   "source": [
    "len(words_dict)"
   ]
  },
  {
   "cell_type": "code",
   "execution_count": 38,
   "metadata": {},
   "outputs": [
    {
     "data": {
      "text/plain": [
       "True"
      ]
     },
     "execution_count": 38,
     "metadata": {},
     "output_type": "execute_result"
    }
   ],
   "source": [
    "last_word in words_dict"
   ]
  },
  {
   "cell_type": "code",
   "execution_count": 39,
   "metadata": {},
   "outputs": [
    {
     "data": {
      "text/plain": [
       "True"
      ]
     },
     "execution_count": 39,
     "metadata": {},
     "output_type": "execute_result"
    }
   ],
   "source": [
    "words_dict[last_word]"
   ]
  },
  {
   "cell_type": "markdown",
   "metadata": {},
   "source": [
    "마지막 단어가 키로 포함되었는지 여부를 확인하는 데 걸리는 시간을 측정한 다음에\n",
    "이진 탐색보다 몇 배 빠른지/느린지 확인하라."
   ]
  },
  {
   "cell_type": "markdown",
   "metadata": {},
   "source": [
    "답:"
   ]
  },
  {
   "cell_type": "code",
   "execution_count": 40,
   "metadata": {
    "colab": {
     "base_uri": "https://localhost:8080/"
    },
    "id": "ZeCeUuYOQmB1",
    "outputId": "9a1c06d1-e2c0-40ed-8037-1641803143e4"
   },
   "outputs": [],
   "source": [
    "import time\n",
    "\n",
    "last_word = words_list[-1]\n",
    "\n",
    "start_time_dict = time.time() # 탐색 시작 시간\n",
    "\n",
    "assert last_word in words_dict\n",
    "\n",
    "elapsed_time_dict = time.time() - start_time_dict # 탐색 종료 시간"
   ]
  },
  {
   "cell_type": "code",
   "execution_count": 41,
   "metadata": {
    "colab": {
     "base_uri": "https://localhost:8080/"
    },
    "id": "ZeCeUuYOQmB1",
    "outputId": "9a1c06d1-e2c0-40ed-8037-1641803143e4"
   },
   "outputs": [
    {
     "name": "stdout",
     "output_type": "stream",
     "text": [
      "마지막 항목 검색시간: 0.000053초\n"
     ]
    }
   ],
   "source": [
    "print(f\"마지막 항목 검색시간: {elapsed_time_dict:.6f}초\")"
   ]
  },
  {
   "cell_type": "code",
   "execution_count": 42,
   "metadata": {
    "colab": {
     "base_uri": "https://localhost:8080/"
    },
    "id": "ZeCeUuYOQmB1",
    "outputId": "9a1c06d1-e2c0-40ed-8037-1641803143e4"
   },
   "outputs": [
    {
     "name": "stdout",
     "output_type": "stream",
     "text": [
      "사전 탐색이 이진 탐색보다 약 1.4배 빠르다.\n"
     ]
    }
   ],
   "source": [
    "print(f\"사전 탐색이 이진 탐색보다 약 {elapsed_time_bin/elapsed_time_dict:.1f}배 빠르다.\")"
   ]
  }
 ],
 "metadata": {
  "colab": {
   "provenance": []
  },
  "kernelspec": {
   "display_name": "Python 3 (ipykernel)",
   "language": "python",
   "name": "python3"
  },
  "language_info": {
   "codemirror_mode": {
    "name": "ipython",
    "version": 3
   },
   "file_extension": ".py",
   "mimetype": "text/x-python",
   "name": "python",
   "nbconvert_exporter": "python",
   "pygments_lexer": "ipython3",
   "version": "3.11.4"
  }
 },
 "nbformat": 4,
 "nbformat_minor": 1
}
