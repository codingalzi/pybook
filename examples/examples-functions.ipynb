{
 "cells": [
  {
   "cell_type": "markdown",
   "id": "3cb1f679",
   "metadata": {},
   "source": [
    "# (예제) 함수"
   ]
  },
  {
   "cell_type": "markdown",
   "id": "8ca4c478",
   "metadata": {},
   "source": [
    "- 아래 예제들은 파이썬 프로그래밍의 기초 개념을 다룬다.\n",
    "- 본인이 먼저 예제를 해결하는 코드를 작성하고 설명하려고 시도한다.\n",
    "- 필요한 경우 예제의 질문에 대해 작성된 코드의 설명을 먼저 이해하려고 노력한다.\n",
    "- 이해된 코드를 직접 타이핑 하면서 작성한 후에 실행해 본다.\n",
    "- 오타 등으로 인한 오류가 발생하면 스스로 오류를 제거하도록 노력한다.\n",
    "- 본인이 직접 작성한 코드의 실행결과가 모범답안과 다를 경우 문제점을 파악한다.\n",
    "- 본인이 직접 작성한 코드와 모범답안의 실행결과가 동일한 경우 두 코드의 차이점을 분석한다."
   ]
  },
  {
   "cell_type": "markdown",
   "id": "701397c0",
   "metadata": {},
   "source": [
    "## 예제"
   ]
  },
  {
   "cell_type": "markdown",
   "id": "e4990357",
   "metadata": {},
   "source": [
    "아래 코드의 실행 결과를 설명하라."
   ]
  },
  {
   "cell_type": "code",
   "execution_count": 1,
   "id": "28dfc2fb",
   "metadata": {},
   "outputs": [
    {
     "name": "stdout",
     "output_type": "stream",
     "text": [
      "A\n",
      "C\n",
      "B\n"
     ]
    }
   ],
   "source": [
    "print(\"A\")\n",
    "\n",
    "def func() :\n",
    "    print(\"B\")\n",
    "\n",
    "print(\"C\")\n",
    "\n",
    "func()"
   ]
  },
  {
   "cell_type": "markdown",
   "id": "82745311",
   "metadata": {},
   "source": [
    "**답**"
   ]
  },
  {
   "cell_type": "markdown",
   "id": "23be61e9",
   "metadata": {},
   "source": [
    "코드는 윗줄의 명령문부터 차례대로 실행된다.\n",
    "따라서 아래 순서대로 명령문이 실행된다.\n",
    "\n",
    "- `print(\"A\")` 실행: `'A'` 출력\n",
    "- `func()` 함수 정의 실행\n",
    "- `print(\"C\")` 실행: `\"C\"` 출력\n",
    "- `func()` 함수 호출: `print(\"B\")` 실행. 따라서 `\"B\"` 출력"
   ]
  },
  {
   "cell_type": "markdown",
   "id": "4fcf4efe",
   "metadata": {},
   "source": [
    "## 예제"
   ]
  },
  {
   "cell_type": "markdown",
   "id": "14ca45df",
   "metadata": {
    "id": "w56ZzNAci7yl"
   },
   "source": [
    "아래 코드를 실행할 때 발생하는 오류를 설명하라."
   ]
  },
  {
   "cell_type": "code",
   "execution_count": 2,
   "id": "4ce9bd84",
   "metadata": {
    "id": "w56ZzNAci7yl"
   },
   "outputs": [
    {
     "ename": "NameError",
     "evalue": "name 'func_hi' is not defined",
     "output_type": "error",
     "traceback": [
      "\u001b[0;31m---------------------------------------------------------------------------\u001b[0m",
      "\u001b[0;31mNameError\u001b[0m                                 Traceback (most recent call last)",
      "Cell \u001b[0;32mIn[2], line 1\u001b[0m\n\u001b[0;32m----> 1\u001b[0m func_hi()\n\u001b[1;32m      3\u001b[0m \u001b[38;5;28;01mdef\u001b[39;00m \u001b[38;5;21mfunc_hi\u001b[39m() :\n\u001b[1;32m      4\u001b[0m   \u001b[38;5;28mprint\u001b[39m(\u001b[38;5;124m\"\u001b[39m\u001b[38;5;124mHi\u001b[39m\u001b[38;5;124m\"\u001b[39m)\n",
      "\u001b[0;31mNameError\u001b[0m: name 'func_hi' is not defined"
     ]
    }
   ],
   "source": [
    "func_hi()\n",
    "\n",
    "def func_hi() :\n",
    "  print(\"Hi\")"
   ]
  },
  {
   "cell_type": "markdown",
   "id": "9edd4e59",
   "metadata": {},
   "source": [
    "**답**"
   ]
  },
  {
   "cell_type": "markdown",
   "id": "1f593fe5",
   "metadata": {},
   "source": [
    "코드는 윗줄의 명령문부터 차례대로 실행된다.\n",
    "따라서 `func_hi()` 함수가 먼저 호출되지만 아직 `func_hi()` 함수가 정의되지 않았기에 \n",
    "해당 함수가 아직 정의되지 않았다는 의미의 `NameError` 오류가 발생한다."
   ]
  },
  {
   "cell_type": "markdown",
   "id": "3a982db4",
   "metadata": {},
   "source": [
    "## 예제"
   ]
  },
  {
   "cell_type": "markdown",
   "id": "f07e92b7",
   "metadata": {},
   "source": [
    "아래 코드를 실행했을 때 `square` 변수가 가리키는 값이 3이 아닌 이유를 설명하라."
   ]
  },
  {
   "cell_type": "code",
   "execution_count": 24,
   "id": "04b55c7c",
   "metadata": {},
   "outputs": [
    {
     "name": "stdout",
     "output_type": "stream",
     "text": [
      "289\n"
     ]
    }
   ],
   "source": [
    "number = 17\n",
    "square = 3\n",
    "\n",
    "def square_return(number):\n",
    "    square = number ** 2\n",
    "    return square\n",
    "\n",
    "square = square_return(number)\n",
    "print(square)"
   ]
  },
  {
   "cell_type": "markdown",
   "id": "06543874",
   "metadata": {},
   "source": [
    "**답**"
   ]
  },
  {
   "cell_type": "markdown",
   "id": "fcedb2c0",
   "metadata": {},
   "source": [
    "2"
   ]
  },
  {
   "cell_type": "markdown",
   "id": "224e3ee9",
   "metadata": {},
   "source": [
    "## 예제"
   ]
  },
  {
   "cell_type": "markdown",
   "id": "93d6c41d",
   "metadata": {},
   "source": [
    "아래 코드의 실행 결과를 설명하라."
   ]
  },
  {
   "cell_type": "code",
   "execution_count": 4,
   "id": "cf62ea2a",
   "metadata": {
    "id": "m7hR5DCuhEpo",
    "outputId": "6fb5492e-f4cd-4f9d-bbbc-40f146e2e6e8"
   },
   "outputs": [
    {
     "name": "stdout",
     "output_type": "stream",
     "text": [
      "*\n",
      "while 반복문 반복 횟수: 1\n"
     ]
    }
   ],
   "source": [
    "def counter_func1() :\n",
    "    i = 1\n",
    "    while i < 100 :\n",
    "        print(\"*\" * i)\n",
    "        return i\n",
    "        i += 1\n",
    "\n",
    "count = counter_func1()\n",
    "print(\"while 반복문 반복 횟수:\", count)"
   ]
  },
  {
   "cell_type": "markdown",
   "id": "622478de",
   "metadata": {
    "id": "bNsV9zG4hEpl",
    "outputId": "58d4c7e9-f773-4d68-bb20-6e99c17fe86a"
   },
   "source": [
    "*실행 결과 설명*\n",
    "\n",
    "..."
   ]
  },
  {
   "cell_type": "markdown",
   "id": "8ce0c8c7",
   "metadata": {},
   "source": [
    "## 예제"
   ]
  },
  {
   "cell_type": "markdown",
   "id": "2f3c8e56",
   "metadata": {},
   "source": [
    "아래 코드의 실행 결과를 설명하라."
   ]
  },
  {
   "cell_type": "code",
   "execution_count": 28,
   "id": "b7d9672e",
   "metadata": {
    "id": "m7hR5DCuhEpo",
    "outputId": "6fb5492e-f4cd-4f9d-bbbc-40f146e2e6e8"
   },
   "outputs": [
    {
     "name": "stdout",
     "output_type": "stream",
     "text": [
      "1\n",
      "*\n",
      "2\n",
      "**\n",
      "3\n"
     ]
    },
    {
     "data": {
      "text/plain": [
       "3"
      ]
     },
     "execution_count": 28,
     "metadata": {},
     "output_type": "execute_result"
    }
   ],
   "source": [
    "def counter_func2(num) :\n",
    "    i = 1\n",
    "    while i < num :\n",
    "        print(i)\n",
    "        if i == 3 :\n",
    "            return i\n",
    "        print(\"*\" * i)\n",
    "        i += 1\n",
    "    print(\"=\" * i)\n",
    "    \n",
    "    return i\n",
    "\n",
    "counter_func2(100)"
   ]
  },
  {
   "cell_type": "markdown",
   "id": "fbb60cc2",
   "metadata": {
    "id": "bNsV9zG4hEpl",
    "outputId": "58d4c7e9-f773-4d68-bb20-6e99c17fe86a"
   },
   "source": [
    "*실행 결과 설명*\n",
    "\n",
    "..."
   ]
  },
  {
   "cell_type": "markdown",
   "id": "5ac44927",
   "metadata": {
    "id": "99a9599c"
   },
   "source": [
    "## 예제"
   ]
  },
  {
   "cell_type": "markdown",
   "id": "4efd798f",
   "metadata": {
    "id": "0f28acc8"
   },
   "source": [
    "정수와 함께 호출되면 짝수일 때는 0, 홀수일 때는 1을 반환하는 함수 `even_odd()`를 구현하라."
   ]
  },
  {
   "cell_type": "code",
   "execution_count": 5,
   "id": "df6c769e",
   "metadata": {
    "id": "d6973d68"
   },
   "outputs": [],
   "source": [
    "def even_odd(num):\n",
    "    if num % 2 == 0:\n",
    "        answer = 0\n",
    "    else:\n",
    "        answer = 1  \n",
    "      \n",
    "    return answer"
   ]
  },
  {
   "cell_type": "markdown",
   "id": "d81f32de",
   "metadata": {},
   "source": [
    "`even_odd()` 함수를 이용하여 짝수, 홀수 여부를 판단한 결과를 다른 명령문에 활용할 있다.\n",
    "예를 들어, 아래 `divide_by_2()` 함수는 짝수면 2로 나누고, 홀수면 1을 더한 값을 2로 나눈다."
   ]
  },
  {
   "cell_type": "code",
   "execution_count": 6,
   "id": "34ebb7f8",
   "metadata": {},
   "outputs": [],
   "source": [
    "def divide_by_2(num):\n",
    "    if even_odd(num):\n",
    "        return num // 2\n",
    "    else:\n",
    "        return (num + 1) // 2"
   ]
  },
  {
   "cell_type": "code",
   "execution_count": 7,
   "id": "4ec3851e",
   "metadata": {},
   "outputs": [
    {
     "data": {
      "text/plain": [
       "5"
      ]
     },
     "execution_count": 7,
     "metadata": {},
     "output_type": "execute_result"
    }
   ],
   "source": [
    "divide_by_2(11)"
   ]
  },
  {
   "cell_type": "code",
   "execution_count": 8,
   "id": "59eec365",
   "metadata": {},
   "outputs": [
    {
     "data": {
      "text/plain": [
       "5"
      ]
     },
     "execution_count": 8,
     "metadata": {},
     "output_type": "execute_result"
    }
   ],
   "source": [
    "divide_by_2(10)"
   ]
  },
  {
   "cell_type": "markdown",
   "id": "c9584c82",
   "metadata": {
    "id": "99a9599c"
   },
   "source": [
    "## 예제"
   ]
  },
  {
   "cell_type": "markdown",
   "id": "d89d072d",
   "metadata": {
    "id": "LI2MPm0oix4t"
   },
   "source": [
    "정수 `num`을 인자로 해서 호출되었을 때, 1의 자릿수가 3의 배수이면 입력값의 세 배를, \n",
    "아니면 두 배를 반환하는 함수 `three_or_not()` 함수를 구현하라.\n",
    "매개 변수는 `num` 하나만 사용한다.\n",
    "\n",
    "힌트: 나머지 연산자를 활용한다."
   ]
  },
  {
   "cell_type": "code",
   "execution_count": 9,
   "id": "554dcd24",
   "metadata": {
    "id": "Zy1oRDipLoZk"
   },
   "outputs": [],
   "source": [
    "# 아래 코드에서 pass 를 적절한 명령문으로, None 을 적절한 표현식으로 대체하라.\n",
    "\n",
    "def three_or_not(num):\n",
    "    pass\n",
    "\n",
    "    return None"
   ]
  },
  {
   "cell_type": "code",
   "execution_count": 10,
   "id": "a3153f7a",
   "metadata": {
    "colab": {
     "base_uri": "https://localhost:8080/"
    },
    "executionInfo": {
     "elapsed": 591,
     "status": "ok",
     "timestamp": 1616980079158,
     "user": {
      "displayName": "HJ Kim",
      "photoUrl": "",
      "userId": "16634276932240017990"
     },
     "user_tz": -540
    },
    "id": "LoH5ptaxhPTh",
    "outputId": "203743fb-f4c4-486a-ab8c-c891cc24d1c9"
   },
   "outputs": [],
   "source": [
    "# 아래 코드의 주석 기호를 제거하고 실행했을 때 오류가 발생하지 않아야 함.\n",
    "\n",
    "# assert three_or_not(13) == 39\n",
    "# assert three_or_not(24) == 48"
   ]
  },
  {
   "cell_type": "markdown",
   "id": "4a0599b1",
   "metadata": {
    "id": "BR35apnL0Tf9"
   },
   "source": [
    "## 예제"
   ]
  },
  {
   "cell_type": "markdown",
   "id": "4424fc2d",
   "metadata": {},
   "source": [
    "**질문 1** "
   ]
  },
  {
   "cell_type": "markdown",
   "id": "115d1299",
   "metadata": {},
   "source": [
    "단리로 연이자가 5%인 정기예금이 있다.\n",
    "정기예금에 원금 `principal`을 `period`년 동안 예치했을 때\n",
    "`period`년 후에 수령할 금액을 계산하는 함수 `term_deposit()` 함수를 구현한다.\n",
    "단, 아래 두 개의 매개 변수를 사용한다.\n",
    "\n",
    "- `principal`: 원금\n",
    "- `period`: 예치 기간. 단위는 년.\n",
    "\n",
    "반환값은 원금과 이자를 합친 원리합계이다.\n",
    "원리합계 계산은 아래 식을 따른다.\n",
    "\n",
    "> 원리합계 ＝ 원금 +  (1 ＋ 연금리 * 기간)"
   ]
  },
  {
   "cell_type": "markdown",
   "id": "33c9f8a4",
   "metadata": {
    "id": "DxP4L1g30ZpC"
   },
   "source": [
    "**답**"
   ]
  },
  {
   "cell_type": "markdown",
   "id": "f17c6631",
   "metadata": {
    "id": "DxP4L1g30ZpC"
   },
   "source": [
    "아래 변수를 활용해서 원리합계 수식을 간단하게 구현할 수 있다.\n",
    "\n",
    "- rate = 연이자율\n",
    "- savings = 원리합계"
   ]
  },
  {
   "cell_type": "markdown",
   "id": "68f736c6",
   "metadata": {
    "id": "DxP4L1g30ZpC"
   },
   "source": [
    "> 10년 후 받을 원금 + 이자는 OOO 원입니다."
   ]
  },
  {
   "cell_type": "code",
   "execution_count": 11,
   "id": "7021ed8f",
   "metadata": {},
   "outputs": [],
   "source": [
    "rate = 0.05          # 연이자\n",
    "\n",
    "def term_deposit(principal, period):\n",
    "    savings = principal * (1 + rate * period) # 원리합계\n",
    "    return savings    "
   ]
  },
  {
   "cell_type": "markdown",
   "id": "9209006e",
   "metadata": {},
   "source": [
    "예를 들어 천만원을 10년 정기예금에 맡겼을 때 10년 후에 받는 원리합계는 다음과 같다."
   ]
  },
  {
   "cell_type": "code",
   "execution_count": 12,
   "id": "7471a8d7",
   "metadata": {},
   "outputs": [
    {
     "name": "stdout",
     "output_type": "stream",
     "text": [
      "10 년 후 10000000 에 대해 받는 원금 + 이자는 15000000.0 원입니다.\n"
     ]
    }
   ],
   "source": [
    "principal = 10000000 # 원금\n",
    "period = 10          # 10년\n",
    "savings = term_deposit(principal, period)\n",
    "\n",
    "print(period, \"년 후\", principal, \"에 대해 받는 원금 + 이자는\", round(savings, 2), \"원입니다.\")"
   ]
  },
  {
   "cell_type": "markdown",
   "id": "2a471c93",
   "metadata": {},
   "source": [
    "**질문 2** "
   ]
  },
  {
   "cell_type": "markdown",
   "id": "17ee0906",
   "metadata": {
    "id": "DxP4L1g30ZpC"
   },
   "source": [
    "이자 또한 `term_deposit()` 함수의 셋째 인자로 받을 수 있도록\n",
    "`rate` 매개변수를 셋째 인자로 지정하라.\n",
    "`rate` 변수에 0.05를 기본 키워드 인자도 지정한다."
   ]
  },
  {
   "cell_type": "markdown",
   "id": "3f6513bc",
   "metadata": {
    "id": "DxP4L1g30ZpC"
   },
   "source": [
    "**답**"
   ]
  },
  {
   "cell_type": "code",
   "execution_count": 13,
   "id": "8e01dc6a",
   "metadata": {},
   "outputs": [],
   "source": [
    "def term_deposit(principal, period, rate=0.05):\n",
    "    savings = principal * (1 + rate * period) # 원리합계\n",
    "    return savings    "
   ]
  },
  {
   "cell_type": "markdown",
   "id": "035dc2bc",
   "metadata": {},
   "source": [
    "예를 들어 천만원을 10년 정기예금에 맡겼을 때 10년 후에 받는 원리합계는 다음과 같다."
   ]
  },
  {
   "cell_type": "code",
   "execution_count": 14,
   "id": "f2c1c673",
   "metadata": {},
   "outputs": [
    {
     "name": "stdout",
     "output_type": "stream",
     "text": [
      "10 년 후 10000000 에 대해 받는 원금 + 이자는 15000000.0 원입니다.\n"
     ]
    }
   ],
   "source": [
    "principal = 10000000 # 원금\n",
    "period = 10          # 10년\n",
    "savings = term_deposit(principal, period)\n",
    "\n",
    "print(period, \"년 후\", principal, \"에 대해 받는 원금 + 이자는\", round(savings, 2), \"원입니다.\")"
   ]
  },
  {
   "cell_type": "markdown",
   "id": "eb0d2c35",
   "metadata": {},
   "source": [
    "이자가 3%로 바뀐다면 `rate`에 대한 키워드 인자를 0.03으로 지정한다.\n",
    "그러면 백만원을 3년 정기예금에 복리로 맡겼을 때 3년 후에 받는 원리합계는 다음과 같다."
   ]
  },
  {
   "cell_type": "code",
   "execution_count": 15,
   "id": "67148dfb",
   "metadata": {},
   "outputs": [
    {
     "name": "stdout",
     "output_type": "stream",
     "text": [
      "10 년 후 10000000 에 대해 받는 원금 + 이자는 13000000.0 원입니다.\n"
     ]
    }
   ],
   "source": [
    "principal = 10000000 # 원금\n",
    "period = 10          # 10년\n",
    "savings = term_deposit(principal, period, rate=0.03)\n",
    "\n",
    "print(period, \"년 후\", principal, \"에 대해 받는 원금 + 이자는\", round(savings, 2), \"원입니다.\")"
   ]
  },
  {
   "cell_type": "markdown",
   "id": "210e4ae6",
   "metadata": {},
   "source": [
    "## 예제"
   ]
  },
  {
   "cell_type": "markdown",
   "id": "5bc4aa55",
   "metadata": {},
   "source": [
    "아래 `grid2()` 함수는 2x2 모양의 격자 무늬를 그린다."
   ]
  },
  {
   "cell_type": "code",
   "execution_count": 16,
   "id": "5e3c31f6",
   "metadata": {},
   "outputs": [],
   "source": [
    "pm = \"+ - - \"\n",
    "ps = \"|     \"\n",
    "plus_sign = \"+\"\n",
    "pipe_sign = \"|\"\n",
    "\n",
    "def print_pm2():\n",
    "    print(pm * 2 + plus_sign)\n",
    "\n",
    "def print_ps2():\n",
    "    ps_line = ps * 2 + pipe_sign\n",
    "    print(ps_line, ps_line, sep=\"\\n\")\n",
    "\n",
    "def grid2():\n",
    "    count = 0\n",
    "    while count < 2:\n",
    "        print_pm2()\n",
    "        print_ps2()\n",
    "        count += 1\n",
    "        \n",
    "    print_pm2()"
   ]
  },
  {
   "cell_type": "code",
   "execution_count": 17,
   "id": "55bab60a",
   "metadata": {},
   "outputs": [
    {
     "name": "stdout",
     "output_type": "stream",
     "text": [
      "+ - - + - - +\n",
      "|     |     |\n",
      "|     |     |\n",
      "+ - - + - - +\n",
      "|     |     |\n",
      "|     |     |\n",
      "+ - - + - - +\n"
     ]
    }
   ],
   "source": [
    "grid2()"
   ]
  },
  {
   "cell_type": "markdown",
   "id": "798fddca",
   "metadata": {},
   "source": [
    "아래 조건을 만족하는 `grid()` 함수를 정의하라.\n",
    "\n",
    "- 매개변수 `n` 하나를 사용한다.\n",
    "- `n` 은 사용되는 그려지는 격자 칸의 개수 나타낸다. \n",
    "    즉, `grid(2)` 는 `grid2()` 와 동일한 `2x2` 모양의 격자를 그리며,\n",
    "    `grid(4)` 는 아래처럼 `4x4` 모양의 격자를 그려야 한다.\n",
    "\n",
    "    ```\n",
    "    + - - + - - + - - + - - +\n",
    "    |     |     |     |     |\n",
    "    |     |     |     |     |\n",
    "    + - - + - - + - - + - - +\n",
    "    |     |     |     |     |\n",
    "    |     |     |     |     |\n",
    "    + - - + - - + - - + - - +\n",
    "    |     |     |     |     |\n",
    "    |     |     |     |     |\n",
    "    + - - + - - + - - + - - +\n",
    "    |     |     |     |     |\n",
    "    |     |     |     |     |\n",
    "    + - - + - - + - - + - - +\n",
    "    ```"
   ]
  },
  {
   "cell_type": "code",
   "execution_count": 18,
   "id": "5bc9fbf7",
   "metadata": {},
   "outputs": [],
   "source": [
    "pm = \"+ - - \"\n",
    "ps = \"|     \"\n",
    "plus_sign = \"+\"\n",
    "pipe_sign = \"|\"\n",
    "\n",
    "def pm_line(n):\n",
    "    return pm * n + plus_sign\n",
    "\n",
    "def ps_line(n):\n",
    "    return ps * n + pipe_sign\n",
    "\n",
    "def print_pm(n):\n",
    "    print(pm * n + plus_sign)\n",
    "\n",
    "def print_ps(n):\n",
    "    print(ps_line(n), ps_line(n), sep=\"\\n\")\n",
    "\n",
    "def grid(n):\n",
    "    count = 0\n",
    "    while count < n:\n",
    "        print_pm(n)\n",
    "        print_ps(n)\n",
    "        count += 1\n",
    "        \n",
    "    print(pm_line(n))"
   ]
  },
  {
   "cell_type": "code",
   "execution_count": 19,
   "id": "60d6fd36",
   "metadata": {},
   "outputs": [
    {
     "name": "stdout",
     "output_type": "stream",
     "text": [
      "+ - - + - - + - - + - - +\n",
      "|     |     |     |     |\n",
      "|     |     |     |     |\n",
      "+ - - + - - + - - + - - +\n",
      "|     |     |     |     |\n",
      "|     |     |     |     |\n",
      "+ - - + - - + - - + - - +\n",
      "|     |     |     |     |\n",
      "|     |     |     |     |\n",
      "+ - - + - - + - - + - - +\n",
      "|     |     |     |     |\n",
      "|     |     |     |     |\n",
      "+ - - + - - + - - + - - +\n"
     ]
    }
   ],
   "source": [
    "grid(4)"
   ]
  },
  {
   "cell_type": "code",
   "execution_count": 20,
   "id": "fe4ef60a",
   "metadata": {},
   "outputs": [
    {
     "name": "stdout",
     "output_type": "stream",
     "text": [
      "+ - - + - - + - - + - - + - - + - - +\n",
      "|     |     |     |     |     |     |\n",
      "|     |     |     |     |     |     |\n",
      "+ - - + - - + - - + - - + - - + - - +\n",
      "|     |     |     |     |     |     |\n",
      "|     |     |     |     |     |     |\n",
      "+ - - + - - + - - + - - + - - + - - +\n",
      "|     |     |     |     |     |     |\n",
      "|     |     |     |     |     |     |\n",
      "+ - - + - - + - - + - - + - - + - - +\n",
      "|     |     |     |     |     |     |\n",
      "|     |     |     |     |     |     |\n",
      "+ - - + - - + - - + - - + - - + - - +\n",
      "|     |     |     |     |     |     |\n",
      "|     |     |     |     |     |     |\n",
      "+ - - + - - + - - + - - + - - + - - +\n",
      "|     |     |     |     |     |     |\n",
      "|     |     |     |     |     |     |\n",
      "+ - - + - - + - - + - - + - - + - - +\n"
     ]
    }
   ],
   "source": [
    "grid(6)"
   ]
  },
  {
   "cell_type": "markdown",
   "id": "b2b25317",
   "metadata": {},
   "source": [
    "## 예제"
   ]
  },
  {
   "cell_type": "markdown",
   "id": "3415de69",
   "metadata": {},
   "source": [
    "`grid()` 함수가 실행되었을 때 생성되는 격자의 개수를 반환하도록\n",
    "반환값을 지정하라. \n",
    "단, `while` 반복문을 이용한다."
   ]
  },
  {
   "cell_type": "code",
   "execution_count": 21,
   "id": "06154496",
   "metadata": {},
   "outputs": [],
   "source": [
    "pm = \"+ - - \"\n",
    "ps = \"|     \"\n",
    "plus_sign = \"+\"\n",
    "pipe_sign = \"|\"\n",
    "\n",
    "def pm_line(n):\n",
    "    return pm * n + plus_sign\n",
    "\n",
    "def ps_line(n):\n",
    "    return ps * n + pipe_sign\n",
    "\n",
    "def print_pm(n):\n",
    "    print(pm * n + plus_sign)\n",
    "\n",
    "def print_ps(n):\n",
    "    print(ps_line(n), ps_line(n), sep=\"\\n\")\n",
    "\n",
    "def grid(n):\n",
    "    count = 0\n",
    "    while count < n:\n",
    "        print_pm(n)\n",
    "        print_ps(n)\n",
    "        count += 1\n",
    "        \n",
    "    print(pm_line(n))\n",
    "    return n * n"
   ]
  },
  {
   "cell_type": "code",
   "execution_count": 22,
   "id": "7b1a5b68",
   "metadata": {},
   "outputs": [
    {
     "name": "stdout",
     "output_type": "stream",
     "text": [
      "+ - - + - - +\n",
      "|     |     |\n",
      "|     |     |\n",
      "+ - - + - - +\n",
      "|     |     |\n",
      "|     |     |\n",
      "+ - - + - - +\n",
      "+ - - + - - + - - + - - +\n",
      "|     |     |     |     |\n",
      "|     |     |     |     |\n",
      "+ - - + - - + - - + - - +\n",
      "|     |     |     |     |\n",
      "|     |     |     |     |\n",
      "+ - - + - - + - - + - - +\n",
      "|     |     |     |     |\n",
      "|     |     |     |     |\n",
      "+ - - + - - + - - + - - +\n",
      "|     |     |     |     |\n",
      "|     |     |     |     |\n",
      "+ - - + - - + - - + - - +\n"
     ]
    }
   ],
   "source": [
    "assert grid(2) == 4\n",
    "assert grid(4) == 16"
   ]
  },
  {
   "cell_type": "code",
   "execution_count": null,
   "id": "d4888970",
   "metadata": {},
   "outputs": [],
   "source": []
  },
  {
   "cell_type": "code",
   "execution_count": null,
   "id": "e9e3e624",
   "metadata": {},
   "outputs": [],
   "source": []
  }
 ],
 "metadata": {
  "kernelspec": {
   "display_name": "Python 3 (ipykernel)",
   "language": "python",
   "name": "python3"
  },
  "language_info": {
   "codemirror_mode": {
    "name": "ipython",
    "version": 3
   },
   "file_extension": ".py",
   "mimetype": "text/x-python",
   "name": "python",
   "nbconvert_exporter": "python",
   "pygments_lexer": "ipython3",
   "version": "3.11.5"
  }
 },
 "nbformat": 4,
 "nbformat_minor": 5
}
