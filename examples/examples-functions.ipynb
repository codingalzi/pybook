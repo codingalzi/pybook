{
 "cells": [
  {
   "cell_type": "markdown",
   "id": "3cb1f679",
   "metadata": {},
   "source": [
    "# (예제) 함수"
   ]
  },
  {
   "cell_type": "markdown",
   "id": "8ca4c478",
   "metadata": {},
   "source": [
    "- 아래 예제들은 파이썬 프로그래밍의 기초 개념을 다룬다.\n",
    "- 본인이 먼저 예제를 해결하는 코드를 작성하고 설명하려고 시도한다.\n",
    "- 필요한 경우 예제의 질문에 대해 작성된 코드의 설명을 먼저 이해하려고 노력한다.\n",
    "- 이해된 코드를 직접 타이핑 하면서 작성한 후에 실행해 본다.\n",
    "- 오타 등으로 인한 오류가 발생하면 스스로 오류를 제거하도록 노력한다.\n",
    "- 본인이 직접 작성한 코드의 실행결과가 모범답안과 다를 경우 문제점을 파악한다.\n",
    "- 본인이 직접 작성한 코드와 모범답안의 실행결과가 동일한 경우 두 코드의 차이점을 분석한다."
   ]
  },
  {
   "cell_type": "markdown",
   "id": "701397c0",
   "metadata": {},
   "source": [
    "## 예제 1"
   ]
  },
  {
   "cell_type": "markdown",
   "id": "e4990357",
   "metadata": {},
   "source": [
    "아래 코드의 실행 결과를 설명하라."
   ]
  },
  {
   "cell_type": "code",
   "execution_count": 1,
   "id": "28dfc2fb",
   "metadata": {},
   "outputs": [
    {
     "name": "stdout",
     "output_type": "stream",
     "text": [
      "A\n",
      "C\n",
      "B\n"
     ]
    }
   ],
   "source": [
    "print(\"A\")\n",
    "\n",
    "def func() :\n",
    "    print(\"B\")\n",
    "\n",
    "print(\"C\")\n",
    "\n",
    "func()"
   ]
  },
  {
   "cell_type": "markdown",
   "id": "82745311",
   "metadata": {},
   "source": [
    "**답**"
   ]
  },
  {
   "cell_type": "markdown",
   "id": "23be61e9",
   "metadata": {},
   "source": [
    "코드는 윗줄의 명령문부터 차례대로 실행된다.\n",
    "따라서 아래 순서대로 명령문이 실행된다.\n",
    "\n",
    "- `print(\"A\")` 실행: `'A'` 출력\n",
    "- `func()` 함수 정의 실행\n",
    "- `print(\"C\")` 실행: `\"C\"` 출력\n",
    "- `func()` 함수 호출: `print(\"B\")` 실행. 따라서 `\"B\"` 출력"
   ]
  },
  {
   "cell_type": "markdown",
   "id": "4fcf4efe",
   "metadata": {},
   "source": [
    "## 예제 2"
   ]
  },
  {
   "cell_type": "markdown",
   "id": "14ca45df",
   "metadata": {
    "id": "w56ZzNAci7yl"
   },
   "source": [
    "아래 코드를 실행할 때 발생하는 오류를 설명하라."
   ]
  },
  {
   "cell_type": "code",
   "execution_count": 2,
   "id": "4ce9bd84",
   "metadata": {
    "id": "w56ZzNAci7yl"
   },
   "outputs": [
    {
     "ename": "NameError",
     "evalue": "name 'func_hi' is not defined",
     "output_type": "error",
     "traceback": [
      "\u001b[0;31m---------------------------------------------------------------------------\u001b[0m",
      "\u001b[0;31mNameError\u001b[0m                                 Traceback (most recent call last)",
      "Cell \u001b[0;32mIn[2], line 1\u001b[0m\n\u001b[0;32m----> 1\u001b[0m func_hi()\n\u001b[1;32m      3\u001b[0m \u001b[38;5;28;01mdef\u001b[39;00m \u001b[38;5;21mfunc_hi\u001b[39m() :\n\u001b[1;32m      4\u001b[0m   \u001b[38;5;28mprint\u001b[39m(\u001b[38;5;124m\"\u001b[39m\u001b[38;5;124mHi\u001b[39m\u001b[38;5;124m\"\u001b[39m)\n",
      "\u001b[0;31mNameError\u001b[0m: name 'func_hi' is not defined"
     ]
    }
   ],
   "source": [
    "func_hi()\n",
    "\n",
    "def func_hi() :\n",
    "  print(\"Hi\")"
   ]
  },
  {
   "cell_type": "markdown",
   "id": "9edd4e59",
   "metadata": {},
   "source": [
    "**답**"
   ]
  },
  {
   "cell_type": "markdown",
   "id": "1f593fe5",
   "metadata": {},
   "source": [
    "코드는 윗줄의 명령문부터 차례대로 실행된다.\n",
    "따라서 `func_hi()` 함수가 먼저 호출되지만 아직 `func_hi()` 함수가 정의되지 않았기에 \n",
    "해당 함수가 아직 정의되지 않았다는 의미의 `NameError` 오류가 발생한다."
   ]
  },
  {
   "cell_type": "markdown",
   "id": "3a982db4",
   "metadata": {},
   "source": [
    "## 예제 3"
   ]
  },
  {
   "cell_type": "markdown",
   "id": "f07e92b7",
   "metadata": {},
   "source": [
    "아래 코드를 실행했을 때 `square` 변수가 가리키는 값이 3이 아닌 이유를 설명하라."
   ]
  },
  {
   "cell_type": "code",
   "execution_count": null,
   "id": "04b55c7c",
   "metadata": {},
   "outputs": [],
   "source": [
    "number = 17\n",
    "square = 3\n",
    "\n",
    "def square_return(number):\n",
    "    square = number ** 2\n",
    "    return square + 1\n",
    "\n",
    "square = square_return(number)\n",
    "print(square)"
   ]
  },
  {
   "cell_type": "markdown",
   "id": "06543874",
   "metadata": {},
   "source": [
    "**답**"
   ]
  },
  {
   "cell_type": "markdown",
   "id": "fcedb2c0",
   "metadata": {},
   "source": [
    "위 코드 2번 줄에서 `square` 변수에 3이 할당되었는데, 8번 줄에서 다른 값으로 재할당되었다.\n",
    "재할당된 값은 `square_return(17)`에 의해 반환된 값, 즉 17의 제곱에 1을 더한 290이다.\n",
    "\n",
    "`square_return(17)`의 반환값을 계산하는 과정에서 사용된 지역 변수 `square`는\n",
    "함수의 반환값을 계산하는 데에 사용되었지만\n",
    "함수의 실행이 종료되면 존재의 의미가 사라진다.\n",
    "따라서 이후에 재할당된 전역 변수 `square`와는 무관하다."
   ]
  },
  {
   "cell_type": "markdown",
   "id": "224e3ee9",
   "metadata": {},
   "source": [
    "## 예제 4"
   ]
  },
  {
   "cell_type": "markdown",
   "id": "93d6c41d",
   "metadata": {},
   "source": [
    "아래 코드의 실행 결과를 설명하라."
   ]
  },
  {
   "cell_type": "code",
   "execution_count": 3,
   "id": "cf62ea2a",
   "metadata": {
    "id": "m7hR5DCuhEpo",
    "outputId": "6fb5492e-f4cd-4f9d-bbbc-40f146e2e6e8"
   },
   "outputs": [
    {
     "name": "stdout",
     "output_type": "stream",
     "text": [
      "*\n",
      "while 반복문의 본문 반복 횟수: 1 번\n"
     ]
    }
   ],
   "source": [
    "def counter_func1() :\n",
    "    i = 1\n",
    "    while i < 100 :\n",
    "        print(\"*\" * i)\n",
    "        return i\n",
    "        i += 1\n",
    "\n",
    "count = counter_func1()\n",
    "print(\"while 반복문의 본문 반복 횟수:\", count, \"번\")"
   ]
  },
  {
   "cell_type": "markdown",
   "id": "7352e9bb",
   "metadata": {},
   "source": [
    "**답**"
   ]
  },
  {
   "cell_type": "markdown",
   "id": "e2fec39c",
   "metadata": {},
   "source": [
    "위 코드의 실행 순서는 다음과 같다.\n",
    "\n",
    "- 매개 변수를 사용하지 않는 `counter_func1()` 함수가 정의된다.\n",
    "- `count = counter_func1()` 변수 할당 명령문이 실행된다.\n",
    "    따라서 `count` 변수에 할당할 값을 정하기 위해 `counter_func1()` 함수가 인자 없이 호출된다.\n",
    "- `counter_func1()` 함수 호출\n",
    "    - 변수 `i`에 1이 할당되고 `while` 반복문이 실행된다. \n",
    "    - `i < 100` 이 참이기에 먼저 `\"*\" * 1`, 즉 `\"*\"`가 출력된다.\n",
    "    - `return i` 명령문에 의해 당시 `i`가 가리키는 값인 1을 반환한다.\n",
    "        함수는 실행 도중에 반환값이 지정되는 순간 반환값을 반환하고 바로 실행을 멈춘다.\n",
    "        따라서 변수 업데이트 명령문인 `i += 1`은 실행되지 않은 채 `while` 반복문이 종료된다.\n",
    "- `count` 변수에 1이 할당된 채로 변수 할당 명령문의 실행이 종료된다.\n",
    "- 마지막 줄의 `print()` 명령문이 출력되어 `while` 반복문의 본문이 1번만 실행되었음을 확인한다."
   ]
  },
  {
   "cell_type": "markdown",
   "id": "8ce0c8c7",
   "metadata": {},
   "source": [
    "## 예제 5"
   ]
  },
  {
   "cell_type": "markdown",
   "id": "2f3c8e56",
   "metadata": {},
   "source": [
    "아래 코드의 실행 결과를 설명하라."
   ]
  },
  {
   "cell_type": "code",
   "execution_count": 4,
   "id": "b7d9672e",
   "metadata": {
    "id": "m7hR5DCuhEpo",
    "outputId": "6fb5492e-f4cd-4f9d-bbbc-40f146e2e6e8"
   },
   "outputs": [
    {
     "name": "stdout",
     "output_type": "stream",
     "text": [
      "1\n",
      "*\n",
      "2\n",
      "**\n",
      "3\n",
      "3\n"
     ]
    }
   ],
   "source": [
    "def counter_func2(num) :\n",
    "    i = 1\n",
    "    while i < num :\n",
    "        print(i)\n",
    "        if i == 3 :\n",
    "            return i\n",
    "        print(\"*\" * i)\n",
    "        i += 1\n",
    "    print(\"=\" * i)\n",
    "    \n",
    "    return i\n",
    "\n",
    "print(counter_func2(100))"
   ]
  },
  {
   "cell_type": "markdown",
   "id": "16c32cd2",
   "metadata": {},
   "source": [
    "**답 1**"
   ]
  },
  {
   "cell_type": "markdown",
   "id": "98dcd034",
   "metadata": {},
   "source": [
    "먼저 위 코드의 실행 순서는 다음과 같다.\n",
    "\n",
    "- 하나의 매개 변수를 사용하는 `counter_func2()` 함수가 정의된다.\n",
    "- 마지막 줄의 `print(counter_func2(100))` 함수 호출이 실행된다.\n",
    "    `print()` 함수가 출력할 값을 계산하기 위해 `counter_func2(100)`가 호출된다.\n",
    "    - `counter_func2(100)` 호출\n",
    "        - `num`에 100이 할당된다.\n",
    "        - 변수 `i`에 1이 할당되고 `while` 반복문이 실행된다.\n",
    "        - `i < num` 이 참이기에 먼저 `i`, 즉 1을 출력하고 `if` 조건문을 실행한다.\n",
    "        - 논리식 `i == 3`이 거짓이기에 `if` 조건문을 건너뛴다.\n",
    "        - `\"*\" * i`, 즉 `\"*\"`를 출력한다.\n",
    "        - `i`가 가리키는 값을 2로 업데이트하고 다시 `while` 반복문을 처음으로 돌아간다.\n",
    "            - 여전히 `i < num` 이 참이기에 먼저 `i`, 즉 2를 출력하고`if` 조건문을 실행한다.\n",
    "            - 논리식 `i == 3`이 거짓이기에 `if` 조건문을 건너뛴다.\n",
    "            - `\"*\" * i`, 즉 `\"**\"`를 출력한다.\n",
    "            - `i`가 가리키는 값을 3으로 업데이트하고 다시 `while` 반복문을 처음으로 돌아간다.\n",
    "                - `i < num` 이 참이기에 먼저 `i`, 즉 3을 출력하고 `if` 조건문을 실행한다.\n",
    "                - 논리식 `i == 3`이 참이기에 `i`, 즉 3을 반환하고 함수 호출을 종료한다.\n",
    "                당연히 `while` 반복문의 실행도 종료된다.\n",
    "- 함수 호출이 종료되면서 반환된 3이 `print()` 함수에 의해 출력된다."
   ]
  },
  {
   "cell_type": "markdown",
   "id": "95fb04ca",
   "metadata": {},
   "source": [
    "**답 2**"
   ]
  },
  {
   "cell_type": "markdown",
   "id": "cc96db2e",
   "metadata": {},
   "source": [
    "이전 설명은 코드가 실행되는 과정을 한줄할줄 보여줬다.\n",
    "하지만 다음과 같이 보다 직관적인 설명도 가능하다.\n",
    "\n",
    "- `counter_func2(100)` 이 호출되면 `i`가 가리키는 값이 1에서 3까지 변하는 동안 `while` 반복문이 실행된다.\n",
    "- 이유는 반복문의 본문에 있는 `if` 조건문에 있는 논리식이 `i`가 3일 가리킬 때 참이고 그러면 `return ...` 명령문이\n",
    "    실행되어 함수의 반환값이 정해져서 함수의 실행이 종료되기 때문이다.\n",
    "- 따라서 `i`가 1일 때 정수 1과 별 하나, 2일 때 정수 2와 별 두개, 3일 때는 정수 3만 출력하고 반환값은 3으로 지정된다."
   ]
  },
  {
   "cell_type": "markdown",
   "id": "5ac44927",
   "metadata": {
    "id": "99a9599c"
   },
   "source": [
    "## 예제 6"
   ]
  },
  {
   "cell_type": "markdown",
   "id": "4efd798f",
   "metadata": {
    "id": "0f28acc8"
   },
   "source": [
    "정수와 함께 호출되면 짝수일 때는 0, 홀수일 때는 1을 반환하는 함수 `even_odd()`를 구현하라.\n",
    "사용되는 매개 변수는 하나다.\n",
    "\n",
    "- `num` 매개 변수: 정수 인자를 받는 매개 변수\n",
    "\n",
    "힌트: `if ... else ...` 조건문과 나머지 연산자 `%` 활용"
   ]
  },
  {
   "cell_type": "markdown",
   "id": "9aa0ff31",
   "metadata": {},
   "source": [
    "**답**"
   ]
  },
  {
   "cell_type": "markdown",
   "id": "d1720831",
   "metadata": {},
   "source": [
    "`num`의 인자로 지정되는 정수의 짝수, 홀수 여부는 2로 나눈 나머지가 0인지, 1인지에 의해 결정된다.\n",
    "따라서 `num % 2 == 0` 논리식의 진릿값에 따른 `if` 조건문을 아래처럼 사용한다."
   ]
  },
  {
   "cell_type": "code",
   "execution_count": 5,
   "id": "df6c769e",
   "metadata": {
    "id": "d6973d68"
   },
   "outputs": [],
   "source": [
    "def even_odd(num):\n",
    "    if num % 2 == 0:\n",
    "        answer = 0\n",
    "    else:\n",
    "        answer = 1  \n",
    "      \n",
    "    return answer"
   ]
  },
  {
   "cell_type": "code",
   "execution_count": 6,
   "id": "e930a754",
   "metadata": {},
   "outputs": [
    {
     "data": {
      "text/plain": [
       "0"
      ]
     },
     "execution_count": 6,
     "metadata": {},
     "output_type": "execute_result"
    }
   ],
   "source": [
    "even_odd(10)"
   ]
  },
  {
   "cell_type": "code",
   "execution_count": 7,
   "id": "657eda9b",
   "metadata": {},
   "outputs": [
    {
     "data": {
      "text/plain": [
       "1"
      ]
     },
     "execution_count": 7,
     "metadata": {},
     "output_type": "execute_result"
    }
   ],
   "source": [
    "even_odd(11)"
   ]
  },
  {
   "cell_type": "markdown",
   "id": "766c90ad",
   "metadata": {},
   "source": [
    "참고로 `True`는 정수 1로, `False`는 정수 0으로 간주되기도 한다.\n",
    "형변환 함수 `int()`를 이용하여 확인할 수 있다."
   ]
  },
  {
   "cell_type": "code",
   "execution_count": 8,
   "id": "9b10ba87",
   "metadata": {},
   "outputs": [
    {
     "data": {
      "text/plain": [
       "1"
      ]
     },
     "execution_count": 8,
     "metadata": {},
     "output_type": "execute_result"
    }
   ],
   "source": [
    "int(True)"
   ]
  },
  {
   "cell_type": "code",
   "execution_count": 9,
   "id": "19f9293a",
   "metadata": {},
   "outputs": [
    {
     "data": {
      "text/plain": [
       "0"
      ]
     },
     "execution_count": 9,
     "metadata": {},
     "output_type": "execute_result"
    }
   ],
   "source": [
    "int(False)"
   ]
  },
  {
   "cell_type": "markdown",
   "id": "6ef27f12",
   "metadata": {},
   "source": [
    "이 성질을 이용하면 `even_odd()` 함수를 아래처럼 보다 간단하게 정의할 수 있다.\n",
    "다만 `True`일 때 0을 반환하도록 해야 하기에 `num` 이 짝수면 거짓이되도록 하는 \n",
    "표현식인 `num % 2 != 0`을 이용한다."
   ]
  },
  {
   "cell_type": "code",
   "execution_count": 10,
   "id": "6561bba7",
   "metadata": {
    "id": "d6973d68"
   },
   "outputs": [],
   "source": [
    "def even_odd(num):\n",
    "    return int(num % 2 != 0)"
   ]
  },
  {
   "cell_type": "code",
   "execution_count": 11,
   "id": "cf5d630e",
   "metadata": {},
   "outputs": [
    {
     "data": {
      "text/plain": [
       "0"
      ]
     },
     "execution_count": 11,
     "metadata": {},
     "output_type": "execute_result"
    }
   ],
   "source": [
    "even_odd(10)"
   ]
  },
  {
   "cell_type": "code",
   "execution_count": 12,
   "id": "45a2a378",
   "metadata": {},
   "outputs": [
    {
     "data": {
      "text/plain": [
       "1"
      ]
     },
     "execution_count": 12,
     "metadata": {},
     "output_type": "execute_result"
    }
   ],
   "source": [
    "even_odd(11)"
   ]
  },
  {
   "cell_type": "markdown",
   "id": "50783201",
   "metadata": {},
   "source": [
    "`even_odd()` 함수를 이용하여 짝수, 홀수 여부를 판단한 결과를 다른 명령문에 활용할 있다.\n",
    "예를 들어, 아래 `divide_by_2()` 함수는 짝수면 2로 나누고, 홀수면 1을 더한 값을 2로 나눈다."
   ]
  },
  {
   "cell_type": "code",
   "execution_count": 13,
   "id": "34ebb7f8",
   "metadata": {},
   "outputs": [],
   "source": [
    "def divide_by_2(num):\n",
    "    if even_odd(num):\n",
    "        return (num + 1) // 2\n",
    "    else:\n",
    "        return num // 2"
   ]
  },
  {
   "cell_type": "code",
   "execution_count": 14,
   "id": "4ec3851e",
   "metadata": {},
   "outputs": [
    {
     "data": {
      "text/plain": [
       "6"
      ]
     },
     "execution_count": 14,
     "metadata": {},
     "output_type": "execute_result"
    }
   ],
   "source": [
    "divide_by_2(11)"
   ]
  },
  {
   "cell_type": "code",
   "execution_count": 15,
   "id": "59eec365",
   "metadata": {},
   "outputs": [
    {
     "data": {
      "text/plain": [
       "6"
      ]
     },
     "execution_count": 15,
     "metadata": {},
     "output_type": "execute_result"
    }
   ],
   "source": [
    "divide_by_2(12)"
   ]
  },
  {
   "cell_type": "markdown",
   "id": "d7b81de3",
   "metadata": {},
   "source": [
    "`divide_by_2()`함수의 본문의 `if ...` 조건문에 사용된 `even_odd(num)`은 함수 호출의 결과인 0 또는 1을 가리킨다.\n",
    "앞서 `True`는 1로, `False`는 0으로 간주될 수 있다고 하였는데 그 역도 성립하며\n",
    "아래 코드에서처럼 `bool()` 형변환 함수를 이용하여 확인할 수 있다."
   ]
  },
  {
   "cell_type": "code",
   "execution_count": 16,
   "id": "8d6bd9d0",
   "metadata": {},
   "outputs": [
    {
     "data": {
      "text/plain": [
       "True"
      ]
     },
     "execution_count": 16,
     "metadata": {},
     "output_type": "execute_result"
    }
   ],
   "source": [
    "bool(1)"
   ]
  },
  {
   "cell_type": "code",
   "execution_count": 17,
   "id": "938dce15",
   "metadata": {},
   "outputs": [
    {
     "data": {
      "text/plain": [
       "False"
      ]
     },
     "execution_count": 17,
     "metadata": {},
     "output_type": "execute_result"
    }
   ],
   "source": [
    "bool(0)"
   ]
  },
  {
   "cell_type": "markdown",
   "id": "3b19cc07",
   "metadata": {},
   "source": [
    "그런데 `if ... ` 조건문의 논리식으로 굳이 정수를 부울값으로 형변화는 함수인 `bool()`을 사용할 필요는 없다.\n",
    "이는 파이썬 실행기가 0은 `False`로 0이 아니면 `True`로 처리하기 때문이다."
   ]
  },
  {
   "cell_type": "markdown",
   "id": "c9584c82",
   "metadata": {
    "id": "99a9599c"
   },
   "source": [
    "## 예제 7"
   ]
  },
  {
   "cell_type": "markdown",
   "id": "d89d072d",
   "metadata": {
    "id": "LI2MPm0oix4t"
   },
   "source": [
    "정수 `num`을 인자로 해서 호출되었을 때, 1의 자릿수가 3의 배수이면 입력값의 세 배를, \n",
    "아니면 두 배를 반환하는 함수 `three_or_not()` 함수를 구현하라.\n",
    "매개 변수는 `num` 하나만 사용한다.\n",
    "\n",
    "힌트: 나머지 연산자 `%`를 활용한다."
   ]
  },
  {
   "cell_type": "markdown",
   "id": "2dec5c69",
   "metadata": {},
   "source": [
    "**답**"
   ]
  },
  {
   "cell_type": "markdown",
   "id": "8dd2f32a",
   "metadata": {},
   "source": [
    "정수의 1의 자릿수는 10으로 나눴을 때의 나머지이다. "
   ]
  },
  {
   "cell_type": "code",
   "execution_count": 18,
   "id": "28b034b2",
   "metadata": {},
   "outputs": [
    {
     "data": {
      "text/plain": [
       "3"
      ]
     },
     "execution_count": 18,
     "metadata": {},
     "output_type": "execute_result"
    }
   ],
   "source": [
    "123 % 10"
   ]
  },
  {
   "cell_type": "code",
   "execution_count": 19,
   "id": "0a8cbe22",
   "metadata": {},
   "outputs": [
    {
     "data": {
      "text/plain": [
       "7"
      ]
     },
     "execution_count": 19,
     "metadata": {},
     "output_type": "execute_result"
    }
   ],
   "source": [
    "27 % 10"
   ]
  },
  {
   "cell_type": "markdown",
   "id": "da197a8e",
   "metadata": {},
   "source": [
    "3의 배수 여부는 3으로 나눈 나머지가 0이냐에 의해 결정된다.\n",
    "따라서 `num`을 10으로 나눴을 때의 나머지에 대해 3의 배수 여부를 확인하고\n",
    "그에 따라 `num`의 3배수 또는 2배수를 반환값으로 지정한다."
   ]
  },
  {
   "cell_type": "code",
   "execution_count": 20,
   "id": "554dcd24",
   "metadata": {
    "id": "Zy1oRDipLoZk"
   },
   "outputs": [],
   "source": [
    "def three_or_not(num):\n",
    "    unit = num % 10\n",
    "    if unit % 3 == 0:\n",
    "        return num * 3\n",
    "    else:\n",
    "        return num * 2"
   ]
  },
  {
   "cell_type": "code",
   "execution_count": 21,
   "id": "4061bf2f",
   "metadata": {
    "colab": {
     "base_uri": "https://localhost:8080/"
    },
    "executionInfo": {
     "elapsed": 591,
     "status": "ok",
     "timestamp": 1616980079158,
     "user": {
      "displayName": "HJ Kim",
      "photoUrl": "",
      "userId": "16634276932240017990"
     },
     "user_tz": -540
    },
    "id": "LoH5ptaxhPTh",
    "outputId": "203743fb-f4c4-486a-ab8c-c891cc24d1c9"
   },
   "outputs": [
    {
     "data": {
      "text/plain": [
       "39"
      ]
     },
     "execution_count": 21,
     "metadata": {},
     "output_type": "execute_result"
    }
   ],
   "source": [
    "three_or_not(13)"
   ]
  },
  {
   "cell_type": "code",
   "execution_count": 22,
   "id": "a3153f7a",
   "metadata": {
    "colab": {
     "base_uri": "https://localhost:8080/"
    },
    "executionInfo": {
     "elapsed": 591,
     "status": "ok",
     "timestamp": 1616980079158,
     "user": {
      "displayName": "HJ Kim",
      "photoUrl": "",
      "userId": "16634276932240017990"
     },
     "user_tz": -540
    },
    "id": "LoH5ptaxhPTh",
    "outputId": "203743fb-f4c4-486a-ab8c-c891cc24d1c9"
   },
   "outputs": [
    {
     "data": {
      "text/plain": [
       "48"
      ]
     },
     "execution_count": 22,
     "metadata": {},
     "output_type": "execute_result"
    }
   ],
   "source": [
    "three_or_not(24)"
   ]
  },
  {
   "cell_type": "markdown",
   "id": "4a0599b1",
   "metadata": {
    "id": "BR35apnL0Tf9"
   },
   "source": [
    "## 예제 8"
   ]
  },
  {
   "cell_type": "markdown",
   "id": "4424fc2d",
   "metadata": {},
   "source": [
    "**질문 1** "
   ]
  },
  {
   "cell_type": "markdown",
   "id": "115d1299",
   "metadata": {},
   "source": [
    "단리로 연이자가 5%인 정기예금이 있다.\n",
    "정기예금에 원금 `principal`을 `period`년 동안 예치했을 때\n",
    "`period`년 후에 수령할 금액을 계산하는 함수 `term_deposit()` 함수를 구현한다.\n",
    "단, 아래 두 개의 매개 변수를 사용한다.\n",
    "\n",
    "- `principal`: 원금\n",
    "- `period`: 예치 기간. 단위는 년.\n",
    "\n",
    "반환값은 원금과 이자를 합친 원리합계이다.\n",
    "원리합계 계산은 아래 식을 따른다.\n",
    "\n",
    "> 원리합계 ＝ 원금 +  (1 ＋ 연금리 * 기간)"
   ]
  },
  {
   "cell_type": "markdown",
   "id": "33c9f8a4",
   "metadata": {
    "id": "DxP4L1g30ZpC"
   },
   "source": [
    "**답**"
   ]
  },
  {
   "cell_type": "markdown",
   "id": "f17c6631",
   "metadata": {
    "id": "DxP4L1g30ZpC"
   },
   "source": [
    "아래 변수를 활용해서 원리합계 수식을 간단하게 구현해서 반환값으로 사용한다.\n",
    "\n",
    "- rate = 연이자율\n",
    "- savings = 원리합계"
   ]
  },
  {
   "cell_type": "code",
   "execution_count": 23,
   "id": "7021ed8f",
   "metadata": {},
   "outputs": [],
   "source": [
    "rate = 0.05          # 연이자\n",
    "\n",
    "def term_deposit(principal, period):\n",
    "    savings = principal * (1 + rate * period) # 원리합계\n",
    "    return savings    "
   ]
  },
  {
   "cell_type": "markdown",
   "id": "9209006e",
   "metadata": {},
   "source": [
    "예를 들어 천만원을 10년 정기예금에 맡겼을 때 10년 후에 받는 원리합계는 다음과 같다."
   ]
  },
  {
   "cell_type": "code",
   "execution_count": 24,
   "id": "7471a8d7",
   "metadata": {},
   "outputs": [
    {
     "name": "stdout",
     "output_type": "stream",
     "text": [
      "10 년 후 10000000 에 대해 받는 원금 + 이자는 15000000.0 원입니다.\n"
     ]
    }
   ],
   "source": [
    "principal = 10000000 # 원금\n",
    "period = 10          # 10년\n",
    "savings = term_deposit(principal, period)\n",
    "\n",
    "print(period, \"년 후\", principal, \"에 대해 받는 원금 + 이자는\", round(savings, 2), \"원입니다.\")"
   ]
  },
  {
   "cell_type": "markdown",
   "id": "2a471c93",
   "metadata": {},
   "source": [
    "**질문 2** "
   ]
  },
  {
   "cell_type": "markdown",
   "id": "17ee0906",
   "metadata": {
    "id": "DxP4L1g30ZpC"
   },
   "source": [
    "이자 또한 `term_deposit()` 함수의 셋째 인자로 받을 수 있도록\n",
    "`rate` 매개변수를 셋째 인자로 지정하라.\n",
    "`rate` 변수에 0.05를 기본 키워드 인자도 지정한다."
   ]
  },
  {
   "cell_type": "markdown",
   "id": "3f6513bc",
   "metadata": {
    "id": "DxP4L1g30ZpC"
   },
   "source": [
    "**답**"
   ]
  },
  {
   "cell_type": "markdown",
   "id": "0d97b01e",
   "metadata": {},
   "source": [
    "`term_deposit()` 함수의 셋째 매개 변수로 `rate`를 사용한다.\n",
    "또한 기본 키워드 인자로 0.05를 지정한다.\n",
    "함수의 본문은 이전과 동일하다."
   ]
  },
  {
   "cell_type": "code",
   "execution_count": 25,
   "id": "8e01dc6a",
   "metadata": {},
   "outputs": [],
   "source": [
    "def term_deposit(principal, period, rate=0.05):\n",
    "    savings = principal * (1 + rate * period) # 원리합계\n",
    "    return savings    "
   ]
  },
  {
   "cell_type": "markdown",
   "id": "035dc2bc",
   "metadata": {},
   "source": [
    "예를 들어 천만원을 10년 정기예금에 맡겼을 때 10년 후에 받는 원리합계는 다음과 같다."
   ]
  },
  {
   "cell_type": "code",
   "execution_count": 26,
   "id": "f2c1c673",
   "metadata": {},
   "outputs": [
    {
     "name": "stdout",
     "output_type": "stream",
     "text": [
      "10 년 후 10000000 에 대해 받는 원금 + 이자는 15000000.0 원입니다.\n"
     ]
    }
   ],
   "source": [
    "principal = 10000000 # 원금\n",
    "period = 10          # 10년\n",
    "savings = term_deposit(principal, period)\n",
    "\n",
    "print(period, \"년 후\", principal, \"에 대해 받는 원금 + 이자는\", round(savings, 2), \"원입니다.\")"
   ]
  },
  {
   "cell_type": "markdown",
   "id": "eb0d2c35",
   "metadata": {},
   "source": [
    "이자가 3%로 바뀐다면 `rate`에 대한 키워드 인자를 0.03으로 지정한다.\n",
    "그러면 백만원을 3년 정기예금에 복리로 맡겼을 때 3년 후에 받는 원리합계는 다음과 같다."
   ]
  },
  {
   "cell_type": "code",
   "execution_count": 27,
   "id": "67148dfb",
   "metadata": {},
   "outputs": [
    {
     "name": "stdout",
     "output_type": "stream",
     "text": [
      "10 년 후 10000000 에 대해 받는 원금 + 이자는 13000000.0 원입니다.\n"
     ]
    }
   ],
   "source": [
    "principal = 10000000 # 원금\n",
    "period = 10          # 10년\n",
    "savings = term_deposit(principal, period, rate=0.03)\n",
    "\n",
    "print(period, \"년 후\", principal, \"에 대해 받는 원금 + 이자는\", round(savings, 2), \"원입니다.\")"
   ]
  },
  {
   "cell_type": "markdown",
   "id": "210e4ae6",
   "metadata": {},
   "source": [
    "## 예제 9"
   ]
  },
  {
   "cell_type": "markdown",
   "id": "5bc4aa55",
   "metadata": {},
   "source": [
    "아래 `grid2()` 함수는 2x2 모양의 격자 무늬를 그린다."
   ]
  },
  {
   "cell_type": "code",
   "execution_count": 28,
   "id": "5e3c31f6",
   "metadata": {},
   "outputs": [],
   "source": [
    "pm = \"+ - - \"\n",
    "ps = \"|     \"\n",
    "plus_sign = \"+\"\n",
    "pipe_sign = \"|\"\n",
    "\n",
    "def print_pm2():\n",
    "    print(pm * 2 + plus_sign)\n",
    "\n",
    "def print_ps2():\n",
    "    ps_line = ps * 2 + pipe_sign\n",
    "    print(ps_line, ps_line, sep=\"\\n\")\n",
    "\n",
    "def grid2():\n",
    "    count = 0\n",
    "    while count < 2:\n",
    "        print_pm2()\n",
    "        print_ps2()\n",
    "        count += 1\n",
    "        \n",
    "    print_pm2()"
   ]
  },
  {
   "cell_type": "code",
   "execution_count": 29,
   "id": "6a94a6ae",
   "metadata": {},
   "outputs": [
    {
     "name": "stdout",
     "output_type": "stream",
     "text": [
      "+ - - + - - +\n",
      "|     |     |\n",
      "|     |     |\n",
      "+ - - + - - +\n",
      "|     |     |\n",
      "|     |     |\n",
      "+ - - + - - +\n"
     ]
    }
   ],
   "source": [
    "grid2()"
   ]
  },
  {
   "cell_type": "markdown",
   "id": "e421d279",
   "metadata": {},
   "source": [
    "`grid2()` 함수를 구현하는 코드를 수정해서\n",
    "아래 조건을 만족하는 `grid()` 함수를 정의하라.\n",
    "\n",
    "- 매개변수 `n` 하나를 사용한다."
   ]
  },
  {
   "cell_type": "markdown",
   "id": "798fddca",
   "metadata": {},
   "source": [
    "`n` 은 그려지는 격자 칸의 개수 나타낸다. \n",
    "즉, `grid(2)` 는 `grid2()` 와 동일한 `2x2` 모양의 격자를 그리며,\n",
    "`grid(4)` 는 아래처럼 `4x4` 모양의 격자를 그린다.\n",
    "\n",
    "```\n",
    "+ - - + - - + - - + - - +\n",
    "|     |     |     |     |\n",
    "|     |     |     |     |\n",
    "+ - - + - - + - - + - - +\n",
    "|     |     |     |     |\n",
    "|     |     |     |     |\n",
    "+ - - + - - + - - + - - +\n",
    "|     |     |     |     |\n",
    "|     |     |     |     |\n",
    "+ - - + - - + - - + - - +\n",
    "|     |     |     |     |\n",
    "|     |     |     |     |\n",
    "+ - - + - - + - - + - - +\n",
    "```"
   ]
  },
  {
   "cell_type": "markdown",
   "id": "75466ed7",
   "metadata": {},
   "source": [
    "**답**"
   ]
  },
  {
   "cell_type": "markdown",
   "id": "8169cfc7",
   "metadata": {},
   "source": [
    "주어진 코드를 수정해서 보다 일반화된 기능을 갖는 코드를 구현하려면 먼저\n",
    "기존 코드를 자세히 살펴봐야 한다.\n",
    "\n",
    "`grid2()` 함수는 `print_pm2()` 함수와 `print_ps2()` 함수를 이용한다.\n",
    "따라서 두 함수의 기능을 살펴 보자."
   ]
  },
  {
   "cell_type": "markdown",
   "id": "dc0db4ab",
   "metadata": {},
   "source": [
    "- `print_pm2()` 함수 호출"
   ]
  },
  {
   "cell_type": "code",
   "execution_count": 30,
   "id": "d74a2653",
   "metadata": {},
   "outputs": [
    {
     "name": "stdout",
     "output_type": "stream",
     "text": [
      "+ - - + - - +\n"
     ]
    }
   ],
   "source": [
    "print_pm2()"
   ]
  },
  {
   "cell_type": "markdown",
   "id": "010a6d25",
   "metadata": {},
   "source": [
    "즉, `+ - - `를 두번, 마지막에 `+`를 출력한다."
   ]
  },
  {
   "cell_type": "markdown",
   "id": "6dd33b26",
   "metadata": {},
   "source": [
    "- `print_ps2()` 함수 호출"
   ]
  },
  {
   "cell_type": "code",
   "execution_count": 31,
   "id": "c78d2f0d",
   "metadata": {},
   "outputs": [
    {
     "name": "stdout",
     "output_type": "stream",
     "text": [
      "|     |     |\n",
      "|     |     |\n"
     ]
    }
   ],
   "source": [
    "print_ps2()"
   ]
  },
  {
   "cell_type": "markdown",
   "id": "987f732c",
   "metadata": {},
   "source": [
    "즉, `|     `를 두번, 마지막에 `+`를 출력하는 과정을 두 번 반복한다."
   ]
  },
  {
   "cell_type": "markdown",
   "id": "66c92eb8",
   "metadata": {},
   "source": [
    "결국 `print_pm2()`와 `print_ps2()`를 연속 호출하면 아래 모양이 만들어진다."
   ]
  },
  {
   "cell_type": "code",
   "execution_count": 32,
   "id": "d02f9f04",
   "metadata": {},
   "outputs": [
    {
     "name": "stdout",
     "output_type": "stream",
     "text": [
      "+ - - + - - +\n",
      "|     |     |\n",
      "|     |     |\n"
     ]
    }
   ],
   "source": [
    "print_pm2()\n",
    "print_ps2()"
   ]
  },
  {
   "cell_type": "markdown",
   "id": "f7fca99a",
   "metadata": {},
   "source": [
    "위 코드를 두 번 반복한 다음에 마지막에 다시 `print_pm2()` 를 호출하면 아래 모양이 완성된다."
   ]
  },
  {
   "cell_type": "code",
   "execution_count": 33,
   "id": "c3eaa7b0",
   "metadata": {},
   "outputs": [
    {
     "name": "stdout",
     "output_type": "stream",
     "text": [
      "+ - - + - - +\n",
      "|     |     |\n",
      "|     |     |\n",
      "+ - - + - - +\n",
      "|     |     |\n",
      "|     |     |\n",
      "+ - - + - - +\n"
     ]
    }
   ],
   "source": [
    "count = 0\n",
    "while count < 2:\n",
    "    print_pm2()\n",
    "    print_ps2()\n",
    "    count += 1\n",
    "    \n",
    "print_pm2()"
   ]
  },
  {
   "cell_type": "markdown",
   "id": "ad02b8d2",
   "metadata": {},
   "source": [
    "`grid2()` 함수는 위 코드의 이름에 불과하다.\n",
    "그리고 또 하나의 핵심은 아래 두 변수가 가리키는 문자열을\n",
    "격자무늬의 핵심 구성 단위로 사용한다는 점이다."
   ]
  },
  {
   "cell_type": "code",
   "execution_count": 34,
   "id": "ab77c8bb",
   "metadata": {},
   "outputs": [],
   "source": [
    "pm = \"+ - - \"\n",
    "ps = \"|     \""
   ]
  },
  {
   "cell_type": "markdown",
   "id": "f2e69cdd",
   "metadata": {},
   "source": [
    "이제 양의 정수 `n`이 주어지면 `n x n` 모양의 격자무늬를 출력하는 `grid()` 함수를 구현해보자.\n",
    "그런데 기본 아이디어는 이미 앞서 설명한 `grid2()` 함수의 본문 코드에 모두 포함되어 있다.\n",
    "먼저 격자무늬의 기본 구성 단위는 `pm`과 `ps`가 가리키는 문자열과 동일하다.\n",
    "\n",
    "그리고 `grid()` 함수를 정의하기 위해 `print_pm2()` 함수와 `print_ps2()` 함수를 일반화한 아래 두 함수를 이용한다."
   ]
  },
  {
   "cell_type": "code",
   "execution_count": 35,
   "id": "1962e1ec",
   "metadata": {},
   "outputs": [],
   "source": [
    "def print_pm(n):\n",
    "    print(pm * n + plus_sign)"
   ]
  },
  {
   "cell_type": "code",
   "execution_count": 36,
   "id": "e256ceac",
   "metadata": {},
   "outputs": [],
   "source": [
    "def print_ps(n):\n",
    "    ps_line = ps * n + pipe_sign\n",
    "    print(ps_line, ps_line, sep=\"\\n\")"
   ]
  },
  {
   "cell_type": "markdown",
   "id": "26f25116",
   "metadata": {},
   "source": [
    "인자로 2를 사용하면 두 함수 각각 `print_pm2()` 함수와 `print_ps2()`함수와 동일한 결과를 낸다."
   ]
  },
  {
   "cell_type": "code",
   "execution_count": 37,
   "id": "da3ac58a",
   "metadata": {},
   "outputs": [
    {
     "name": "stdout",
     "output_type": "stream",
     "text": [
      "+ - - + - - +\n"
     ]
    }
   ],
   "source": [
    "print_pm(2)"
   ]
  },
  {
   "cell_type": "code",
   "execution_count": 38,
   "id": "723d858a",
   "metadata": {},
   "outputs": [
    {
     "name": "stdout",
     "output_type": "stream",
     "text": [
      "|     |     |\n",
      "|     |     |\n"
     ]
    }
   ],
   "source": [
    "print_ps(2)"
   ]
  },
  {
   "cell_type": "markdown",
   "id": "427d0ea6",
   "metadata": {},
   "source": [
    "반면에 4를 인자로 하면 오른쪽으로 보다 길어진다."
   ]
  },
  {
   "cell_type": "code",
   "execution_count": 39,
   "id": "13832ed4",
   "metadata": {},
   "outputs": [
    {
     "name": "stdout",
     "output_type": "stream",
     "text": [
      "+ - - + - - + - - + - - +\n"
     ]
    }
   ],
   "source": [
    "print_pm(4)"
   ]
  },
  {
   "cell_type": "code",
   "execution_count": 40,
   "id": "9a3925bd",
   "metadata": {},
   "outputs": [
    {
     "name": "stdout",
     "output_type": "stream",
     "text": [
      "|     |     |     |     |\n",
      "|     |     |     |     |\n"
     ]
    }
   ],
   "source": [
    "print_ps(4)"
   ]
  },
  {
   "cell_type": "markdown",
   "id": "2e9e795d",
   "metadata": {},
   "source": [
    "즉 4칸짜리 격자무늬를 그리는 기초 구조로 활용될 수 있다.\n",
    "두 함수를 연속 실행해보자."
   ]
  },
  {
   "cell_type": "code",
   "execution_count": 41,
   "id": "4b0a81fc",
   "metadata": {},
   "outputs": [
    {
     "name": "stdout",
     "output_type": "stream",
     "text": [
      "+ - - + - - + - - + - - +\n",
      "|     |     |     |     |\n",
      "|     |     |     |     |\n"
     ]
    }
   ],
   "source": [
    "print_pm(4)\n",
    "print_ps(4)"
   ]
  },
  {
   "cell_type": "markdown",
   "id": "aa3354c3",
   "metadata": {},
   "source": [
    "위 코드를 4번 반복하면 `4 x 4` 모양의 격자무늬가 거의 완성된다.\n",
    "반복을 위해 역시 `while` 반복문을 활용하며, 따라서 `grid()` 함수는\n",
    "`grid2()` 함수와 거의 동일하게 구현된다.\n",
    "다만 함수의 본문에 사용되는 함수들 또한 일반화된 함수를 사용할 뿐이다."
   ]
  },
  {
   "cell_type": "code",
   "execution_count": 42,
   "id": "a870e8e4",
   "metadata": {},
   "outputs": [],
   "source": [
    "def grid(n):\n",
    "    count = 0\n",
    "    while count < n:\n",
    "        print_pm(n)\n",
    "        print_ps(n)\n",
    "        count += 1\n",
    "        \n",
    "    print_pm(n)"
   ]
  },
  {
   "cell_type": "markdown",
   "id": "2a11f120",
   "metadata": {},
   "source": [
    "- `n = 4`일 때"
   ]
  },
  {
   "cell_type": "code",
   "execution_count": 43,
   "id": "60d6fd36",
   "metadata": {},
   "outputs": [
    {
     "name": "stdout",
     "output_type": "stream",
     "text": [
      "+ - - + - - + - - + - - +\n",
      "|     |     |     |     |\n",
      "|     |     |     |     |\n",
      "+ - - + - - + - - + - - +\n",
      "|     |     |     |     |\n",
      "|     |     |     |     |\n",
      "+ - - + - - + - - + - - +\n",
      "|     |     |     |     |\n",
      "|     |     |     |     |\n",
      "+ - - + - - + - - + - - +\n",
      "|     |     |     |     |\n",
      "|     |     |     |     |\n",
      "+ - - + - - + - - + - - +\n"
     ]
    }
   ],
   "source": [
    "grid(4)"
   ]
  },
  {
   "cell_type": "markdown",
   "id": "d415fbbc",
   "metadata": {},
   "source": [
    "- `n = 6`일 때"
   ]
  },
  {
   "cell_type": "code",
   "execution_count": 44,
   "id": "fe4ef60a",
   "metadata": {},
   "outputs": [
    {
     "name": "stdout",
     "output_type": "stream",
     "text": [
      "+ - - + - - + - - + - - + - - + - - +\n",
      "|     |     |     |     |     |     |\n",
      "|     |     |     |     |     |     |\n",
      "+ - - + - - + - - + - - + - - + - - +\n",
      "|     |     |     |     |     |     |\n",
      "|     |     |     |     |     |     |\n",
      "+ - - + - - + - - + - - + - - + - - +\n",
      "|     |     |     |     |     |     |\n",
      "|     |     |     |     |     |     |\n",
      "+ - - + - - + - - + - - + - - + - - +\n",
      "|     |     |     |     |     |     |\n",
      "|     |     |     |     |     |     |\n",
      "+ - - + - - + - - + - - + - - + - - +\n",
      "|     |     |     |     |     |     |\n",
      "|     |     |     |     |     |     |\n",
      "+ - - + - - + - - + - - + - - + - - +\n",
      "|     |     |     |     |     |     |\n",
      "|     |     |     |     |     |     |\n",
      "+ - - + - - + - - + - - + - - + - - +\n"
     ]
    }
   ],
   "source": [
    "grid(6)"
   ]
  },
  {
   "cell_type": "markdown",
   "id": "9a32aa9a",
   "metadata": {},
   "source": [
    "결론적으로 이전 코드에서 숫자 2에 해당하는 부분을 모두 매개 변수 `n`으로 대체하였을 뿐이다.\n",
    "이처럼 함수의 일반화는 주로 기존 코드에서 특정 부분을 매개 변수로 대체하는 과정을 따른다."
   ]
  },
  {
   "cell_type": "markdown",
   "id": "b2b25317",
   "metadata": {},
   "source": [
    "## 예제 10"
   ]
  },
  {
   "cell_type": "markdown",
   "id": "3415de69",
   "metadata": {},
   "source": [
    "`grid()` 함수가 실행되었을 때 생성되는 격자의 개수를 반환하도록\n",
    "반환값을 지정하라."
   ]
  },
  {
   "cell_type": "markdown",
   "id": "b094ab05",
   "metadata": {},
   "source": [
    "**답**"
   ]
  },
  {
   "cell_type": "markdown",
   "id": "f346f13e",
   "metadata": {},
   "source": [
    "반환값 지정은 `return ...` 명령문으로 지정된다.\n",
    "다만 반환값 지정 명령문이 어디에 위치하느냐가 매우 중요하다.\n",
    "`grid()` 함수의 기본 기능은 인자 `n`과 호출되었을 때 `n x n` 모양의\n",
    "격자무늬를 그리는 일이다.\n",
    "따라서 앞서 구현된 `grid()` 함수의 본문이 모두 실행된 다음에 \n",
    "출력된 격자무늬에 사용된 격자의 개수인 `n * n`은 \n",
    "함수 본문의 마지막 명령문으로 지정하면 된다."
   ]
  },
  {
   "cell_type": "code",
   "execution_count": 45,
   "id": "ec5e92f9",
   "metadata": {},
   "outputs": [],
   "source": [
    "def grid(n):\n",
    "    count = 0\n",
    "    while count < n:\n",
    "        print_pm(n)\n",
    "        print_ps(n)\n",
    "        count += 1\n",
    "        \n",
    "    print_pm(n)\n",
    "    \n",
    "    return n * n"
   ]
  },
  {
   "cell_type": "markdown",
   "id": "3b444fca",
   "metadata": {},
   "source": [
    "예를 들어 `n = 4`일 때 호출되면 `4 x 4` 모양의 격자무늬를 그리면서 동시에\n",
    "16을 반환한다.\n",
    "반환값이 `None`이 아니기에 변수에 할당해서 활용할 수 있다."
   ]
  },
  {
   "cell_type": "code",
   "execution_count": 46,
   "id": "a174c8e7",
   "metadata": {},
   "outputs": [
    {
     "name": "stdout",
     "output_type": "stream",
     "text": [
      "+ - - + - - + - - + - - +\n",
      "|     |     |     |     |\n",
      "|     |     |     |     |\n",
      "+ - - + - - + - - + - - +\n",
      "|     |     |     |     |\n",
      "|     |     |     |     |\n",
      "+ - - + - - + - - + - - +\n",
      "|     |     |     |     |\n",
      "|     |     |     |     |\n",
      "+ - - + - - + - - + - - +\n",
      "|     |     |     |     |\n",
      "|     |     |     |     |\n",
      "+ - - + - - + - - + - - +\n",
      "격자 개수: 16\n"
     ]
    }
   ],
   "source": [
    "num_of_squares = grid(4)\n",
    "print(\"격자 개수:\", num_of_squares)"
   ]
  }
 ],
 "metadata": {
  "kernelspec": {
   "display_name": "Python 3 (ipykernel)",
   "language": "python",
   "name": "python3"
  },
  "language_info": {
   "codemirror_mode": {
    "name": "ipython",
    "version": 3
   },
   "file_extension": ".py",
   "mimetype": "text/x-python",
   "name": "python",
   "nbconvert_exporter": "python",
   "pygments_lexer": "ipython3",
   "version": "3.11.5"
  }
 },
 "nbformat": 4,
 "nbformat_minor": 5
}
