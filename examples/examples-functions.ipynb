{
 "cells": [
  {
   "cell_type": "markdown",
   "id": "3cb1f679",
   "metadata": {
    "id": "3cb1f679"
   },
   "source": [
    "# (필수 예제) 함수"
   ]
  },
  {
   "cell_type": "markdown",
   "id": "8ca4c478",
   "metadata": {
    "id": "8ca4c478"
   },
   "source": [
    "**참고 사항**\n",
    "\n",
    "1. 먼저 [함수](https://codingalzi.github.io/pybook/functions.html) 내용을 학습하세요.\n",
    "2. [YouTube 재생목록](https://youtube.com/playlist?list=PL5aSjzJqCaPZ5UMrke0Mjyz7BFa7qqDGQ&si=6e2FKxgcoZxhdOrL)에 예제 풀이 동영상이 있습니다."
   ]
  },
  {
   "cell_type": "markdown",
   "id": "701397c0",
   "metadata": {
    "id": "701397c0"
   },
   "source": [
    "## 예제 1"
   ]
  },
  {
   "cell_type": "markdown",
   "id": "e4990357",
   "metadata": {
    "id": "e4990357"
   },
   "source": [
    "아래 코드의 실행 결과를 설명하라."
   ]
  },
  {
   "cell_type": "code",
   "execution_count": null,
   "id": "28dfc2fb",
   "metadata": {
    "id": "28dfc2fb",
    "outputId": "e2a620de-3235-4e26-a28c-6e9fd2219640"
   },
   "outputs": [
    {
     "name": "stdout",
     "output_type": "stream",
     "text": [
      "A\n",
      "C\n",
      "B\n"
     ]
    }
   ],
   "source": [
    "print(\"A\")\n",
    "\n",
    "def func() :\n",
    "    print(\"B\")\n",
    "\n",
    "print(\"C\")\n",
    "\n",
    "func()"
   ]
  },
  {
   "cell_type": "markdown",
   "id": "82745311",
   "metadata": {
    "id": "82745311"
   },
   "source": [
    "**답**"
   ]
  },
  {
   "cell_type": "markdown",
   "id": "23be61e9",
   "metadata": {
    "id": "23be61e9"
   },
   "source": [
    "파이썬 코드는 윗줄의 명령문부터 차례대로 실행되기에 아래 순서대로 명령문이 실행된다.\n",
    "\n",
    "- `print(\"A\")` 실행: `'A'` 출력\n",
    "- `func()` 함수 정의 실행\n",
    "- `print(\"C\")` 실행: `\"C\"` 출력\n",
    "- `func()` 함수 호출: `print(\"B\")` 실행. 따라서 `\"B\"` 출력"
   ]
  },
  {
   "cell_type": "markdown",
   "id": "4fcf4efe",
   "metadata": {
    "id": "4fcf4efe"
   },
   "source": [
    "## 예제 2"
   ]
  },
  {
   "cell_type": "markdown",
   "id": "14ca45df",
   "metadata": {
    "id": "14ca45df"
   },
   "source": [
    "아래 코드를 실행할 때 발생하는 오류를 설명하라."
   ]
  },
  {
   "cell_type": "code",
   "execution_count": null,
   "id": "4ce9bd84",
   "metadata": {
    "id": "4ce9bd84",
    "outputId": "92bfc74c-535e-44c7-98da-61cf5a729b9d"
   },
   "outputs": [
    {
     "ename": "NameError",
     "evalue": "name 'func_hi' is not defined",
     "output_type": "error",
     "traceback": [
      "\u001b[0;31m---------------------------------------------------------------------------\u001b[0m",
      "\u001b[0;31mNameError\u001b[0m                                 Traceback (most recent call last)",
      "Cell \u001b[0;32mIn[2], line 1\u001b[0m\n\u001b[0;32m----> 1\u001b[0m func_hi()\n\u001b[1;32m      3\u001b[0m \u001b[38;5;28;01mdef\u001b[39;00m \u001b[38;5;21mfunc_hi\u001b[39m() :\n\u001b[1;32m      4\u001b[0m   \u001b[38;5;28mprint\u001b[39m(\u001b[38;5;124m\"\u001b[39m\u001b[38;5;124mHi\u001b[39m\u001b[38;5;124m\"\u001b[39m)\n",
      "\u001b[0;31mNameError\u001b[0m: name 'func_hi' is not defined"
     ]
    }
   ],
   "source": [
    "func_hi()\n",
    "\n",
    "def func_hi() :\n",
    "  print(\"Hi\")"
   ]
  },
  {
   "cell_type": "markdown",
   "id": "9edd4e59",
   "metadata": {
    "id": "9edd4e59"
   },
   "source": [
    "**답**"
   ]
  },
  {
   "cell_type": "markdown",
   "id": "1f593fe5",
   "metadata": {
    "id": "1f593fe5"
   },
   "source": [
    "파이썬 코드는 윗줄의 명령문부터 차례대로 실행된다.\n",
    "`func_hi()` 함수가 정의되기 이전에 호출되면 해당 함수가 아직 정의되지 않았다는 의미의 `NameError` 오류가 발생한다.\n",
    "이는 함수 호출 아랫쪽에 `func_hi()` 함수가 정의되어 있다 하더라도 마찬가지다."
   ]
  },
  {
   "cell_type": "markdown",
   "id": "3a982db4",
   "metadata": {
    "id": "3a982db4"
   },
   "source": [
    "## 예제 3"
   ]
  },
  {
   "cell_type": "markdown",
   "id": "f07e92b7",
   "metadata": {
    "id": "f07e92b7"
   },
   "source": [
    "아래 코드를 실행했을 때 `square` 변수가 가리키는 값이 3이 아닌 이유를 설명하라."
   ]
  },
  {
   "cell_type": "code",
   "execution_count": null,
   "id": "04b55c7c",
   "metadata": {
    "id": "04b55c7c",
    "outputId": "2804b699-599a-4d3c-b848-b14b96045108"
   },
   "outputs": [
    {
     "name": "stdout",
     "output_type": "stream",
     "text": [
      "26\n"
     ]
    }
   ],
   "source": [
    "number = 5\n",
    "square = 3\n",
    "\n",
    "def square_return(number):\n",
    "    square = number ** 2\n",
    "    return square + 1\n",
    "\n",
    "square = square_return(number)\n",
    "print(square)"
   ]
  },
  {
   "cell_type": "markdown",
   "id": "06543874",
   "metadata": {
    "id": "06543874"
   },
   "source": [
    "**답**"
   ]
  },
  {
   "cell_type": "markdown",
   "id": "fcedb2c0",
   "metadata": {
    "id": "fcedb2c0"
   },
   "source": [
    "위 코드 2번 줄에서 `square` 변수에 3이 할당되었는데, 8번 줄에서 다른 값으로 재할당되었다.\n",
    "재할당된 값은 `square_return(5)`에 의해 반환된 값, 즉 5의 제곱에 1을 더한 26이다.\n",
    "\n",
    "`square_return(5)`의 반환값을 계산하는 과정에서 사용된 지역 변수 `square`는\n",
    "함수의 반환값을 계산하는 데에 사용되었지만\n",
    "함수의 실행이 종료되면 존재의 의미가 사라진다.\n",
    "따라서 이후에 재할당된 전역 변수 `square`와는 무관하다."
   ]
  },
  {
   "cell_type": "markdown",
   "id": "224e3ee9",
   "metadata": {
    "id": "224e3ee9"
   },
   "source": [
    "## 예제 4"
   ]
  },
  {
   "cell_type": "markdown",
   "id": "93d6c41d",
   "metadata": {
    "id": "93d6c41d"
   },
   "source": [
    "아래 코드의 실행 결과를 설명하라."
   ]
  },
  {
   "cell_type": "code",
   "execution_count": null,
   "id": "cf62ea2a",
   "metadata": {
    "id": "cf62ea2a",
    "outputId": "6fb5492e-f4cd-4f9d-bbbc-40f146e2e6e8"
   },
   "outputs": [
    {
     "name": "stdout",
     "output_type": "stream",
     "text": [
      "*\n",
      "while 반복문의 본문 반복 횟수: 1 번\n"
     ]
    }
   ],
   "source": [
    "def counter_func1() :\n",
    "    i = 1\n",
    "    while i < 100 :\n",
    "        print(\"*\" * i)\n",
    "        return i\n",
    "        i += 1\n",
    "\n",
    "count = counter_func1()\n",
    "print(\"while 반복문의 본문 반복 횟수:\", count, \"번\")"
   ]
  },
  {
   "cell_type": "markdown",
   "id": "7352e9bb",
   "metadata": {
    "id": "7352e9bb"
   },
   "source": [
    "**답**"
   ]
  },
  {
   "cell_type": "markdown",
   "id": "e2fec39c",
   "metadata": {
    "id": "e2fec39c"
   },
   "source": [
    "위 코드의 실행 순서는 다음과 같다.\n",
    "\n",
    "- 매개 변수를 사용하지 않는 `counter_func1()` 함수가 정의된다.\n",
    "- `count = counter_func1()` 변수 할당 명령문이 실행된다.\n",
    "    따라서 `count` 변수에 할당할 값을 정하기 위해 `counter_func1()` 함수가 인자 없이 호출된다.\n",
    "- `counter_func1()` 함수 호출\n",
    "    - 변수 `i`에 1이 할당되고 `while` 반복문이 실행된다.\n",
    "    - `i < 100` 이 참이기에 먼저 `\"*\" * 1`, 즉 `\"*\"`가 출력된다.\n",
    "    - `return i` 명령문에 의해 당시 `i`가 가리키는 값인 1을 반환한다.\n",
    "        함수는 실행 도중에 `return` 명령문에 의해 반환값이 지정되는 순간\n",
    "        바로 지정된 반환값을 반환하면서 실행을 멈춘다.\n",
    "        따라서 변수 업데이트 명령문인 `i += 1`은 실행되지 않은 채 `while` 반복문 또한 종료된다.\n",
    "- `count` 변수에 할당된 값은 함수 호출 과정에서 생성된 지역 변수 `i`가 가리키는 값이며\n",
    "    이 값이 `while` 반복문의 반복 횟수와도 일치한다.\n",
    "- 마지막 줄의 `print()` 명령문이 실행되어 `while` 반복문의 본문이 1번만 실행되었음을 확인해준다."
   ]
  },
  {
   "cell_type": "markdown",
   "id": "8ce0c8c7",
   "metadata": {
    "id": "8ce0c8c7"
   },
   "source": [
    "## 예제 5"
   ]
  },
  {
   "cell_type": "markdown",
   "id": "2f3c8e56",
   "metadata": {
    "id": "2f3c8e56"
   },
   "source": [
    "아래 코드의 실행 결과를 설명하라."
   ]
  },
  {
   "cell_type": "code",
   "execution_count": null,
   "id": "b7d9672e",
   "metadata": {
    "id": "b7d9672e",
    "outputId": "6fb5492e-f4cd-4f9d-bbbc-40f146e2e6e8"
   },
   "outputs": [
    {
     "name": "stdout",
     "output_type": "stream",
     "text": [
      "1\n",
      "*\n",
      "2\n",
      "**\n",
      "3\n",
      "반환값 3\n"
     ]
    }
   ],
   "source": [
    "def counter_func2(num) :\n",
    "    i = 1\n",
    "    while i < num:\n",
    "        print(i)\n",
    "        if i == 3 :\n",
    "            return i\n",
    "        print(\"*\" * i)\n",
    "        i += 1\n",
    "    print(\"=\" * i)\n",
    "    return i\n",
    "\n",
    "return_value = counter_func2(100)\n",
    "print(\"반환값\", return_value)"
   ]
  },
  {
   "cell_type": "markdown",
   "id": "16c32cd2",
   "metadata": {
    "id": "16c32cd2"
   },
   "source": [
    "**답**"
   ]
  },
  {
   "cell_type": "markdown",
   "id": "cc96db2e",
   "metadata": {
    "id": "cc96db2e"
   },
   "source": [
    "- `return_value` 변수에 값을 할당하기 위해 먼저 `counter_func2(100)`를 호출한다.\n",
    "- `counter_func2(100)` 이 호출되면 `i`가 가리키는 값이 1에서 3까지 변하는 동안 `while` 반복문이 실행된다.\n",
    "- 이유는 반복문의 본문에 있는 `if` 조건문에 있는 논리식이 `i`가 3일 가리킬 때 참이고 그러면 `return ...` 명령문이 실행되어\n",
    "함수의 실행이 종료되기 때문이다.\n",
    "- 따라서 `i`가 1일 때 정수 1과 별 하나, 2일 때 정수 2와 별 두개, 3일 때는 정수 3만 출력하고 곧바로 반환값이 3으로 지정된다."
   ]
  },
  {
   "cell_type": "markdown",
   "id": "5ac44927",
   "metadata": {
    "id": "5ac44927"
   },
   "source": [
    "## 예제 6"
   ]
  },
  {
   "cell_type": "markdown",
   "id": "4424fc2d",
   "metadata": {
    "id": "4424fc2d"
   },
   "source": [
    "**질문 1**"
   ]
  },
  {
   "cell_type": "markdown",
   "id": "115d1299",
   "metadata": {
    "id": "115d1299"
   },
   "source": [
    "단리로 연이자율이 5%인 정기예금이 있다.\n",
    "정기예금에 원금 `principal`을 `period`년 동안 예치했을 때\n",
    "`period`년 후에 수령할 금액을 계산하는 함수 `term_deposit()` 함수를 구현하라.\n",
    "단, 아래 두 개의 매개 변수를 사용한다.\n",
    "\n",
    "- `principal`: 원금\n",
    "- `period`: 예치 기간. 단위는 년.\n",
    "\n",
    "반환값은 원금과 이자를 합친 원리합계이다.\n",
    "원리합계 계산은 아래 식을 따른다.\n",
    "\n",
    "    원리합계 ＝ 원금 *  (1 ＋ 연금리 * 기간)"
   ]
  },
  {
   "cell_type": "markdown",
   "id": "33c9f8a4",
   "metadata": {
    "id": "33c9f8a4"
   },
   "source": [
    "**답**"
   ]
  },
  {
   "cell_type": "markdown",
   "id": "f17c6631",
   "metadata": {
    "id": "f17c6631"
   },
   "source": [
    "언급된 두 개의 매개변수와 함께 아래 두 개의 변수를 활용해서 원리합계 수식을 작성한다.\n",
    "\n",
    "- 전역 변수:\n",
    "    - `rate`: 연이자율 할당\n",
    "- 지역 변수\n",
    "    - `savings`: 원리합계 할당"
   ]
  },
  {
   "cell_type": "code",
   "execution_count": null,
   "id": "7021ed8f",
   "metadata": {
    "id": "7021ed8f"
   },
   "outputs": [],
   "source": [
    "rate = 0.05 # 연이자율\n",
    "\n",
    "def term_deposit(principal, period):\n",
    "    savings_ = principal * (1 + rate * period) # 원리합계\n",
    "    return savings_"
   ]
  },
  {
   "cell_type": "markdown",
   "id": "9209006e",
   "metadata": {
    "id": "9209006e"
   },
   "source": [
    "예를 들어 천만원을 10년 정기예금에 맡겼을 때 10년 후에 받는 원리합계는 다음과 같다."
   ]
  },
  {
   "cell_type": "code",
   "execution_count": null,
   "id": "7471a8d7",
   "metadata": {
    "id": "7471a8d7",
    "outputId": "9a0376de-22a2-4b71-98b0-cb2b1358baa7"
   },
   "outputs": [
    {
     "name": "stdout",
     "output_type": "stream",
     "text": [
      "10 년 후 10000000 에 대해 받는 원금 + 이자는 15000000.0 원입니다.\n"
     ]
    }
   ],
   "source": [
    "principal = 10000000 # 원금\n",
    "period = 10          # 10년\n",
    "savings = term_deposit(principal, period)\n",
    "\n",
    "print(period, \"년 후\", principal, \"에 대해 받는 원금 + 이자는\", round(savings, 2), \"원입니다.\")"
   ]
  },
  {
   "cell_type": "markdown",
   "id": "2a471c93",
   "metadata": {
    "id": "2a471c93"
   },
   "source": [
    "**질문 2**"
   ]
  },
  {
   "cell_type": "markdown",
   "id": "17ee0906",
   "metadata": {
    "id": "17ee0906"
   },
   "source": [
    "이자율 또한 `term_deposit()` 함수의 셋째 인자로 받을 수 있도록\n",
    "`rate` 매개변수를 셋째 인자로 지정하라.\n",
    "또한 `rate` 변수에 0.05를 기본 키워드 인자도 지정한다."
   ]
  },
  {
   "cell_type": "markdown",
   "id": "3f6513bc",
   "metadata": {
    "id": "3f6513bc"
   },
   "source": [
    "**답**"
   ]
  },
  {
   "cell_type": "markdown",
   "id": "0d97b01e",
   "metadata": {
    "id": "0d97b01e"
   },
   "source": [
    "`term_deposit()` 함수의 셋째 매개 변수로 `rate`를 사용한다.\n",
    "또한 기본 키워드 인자로 0.05를 지정한다.\n",
    "함수의 본문은 이전과 동일하다.\n",
    "이자율 또한 함수의 인자로 사용할 수 있기에 이전 코드에서 전역 변수로 선언된 `rate` 변수는 사용하지 않는다."
   ]
  },
  {
   "cell_type": "code",
   "execution_count": null,
   "id": "8e01dc6a",
   "metadata": {
    "id": "8e01dc6a"
   },
   "outputs": [],
   "source": [
    "def term_deposit(principal, period, rate=0.05):\n",
    "    savings_ = principal * (1 + rate * period) # 원리합계\n",
    "    return savings_"
   ]
  },
  {
   "cell_type": "markdown",
   "id": "035dc2bc",
   "metadata": {
    "id": "035dc2bc"
   },
   "source": [
    "예를 들어 천만원을 10년 정기예금에 맡겼을 때 10년 후에 받는 원리합계는 다음과 같다."
   ]
  },
  {
   "cell_type": "code",
   "execution_count": null,
   "id": "f2c1c673",
   "metadata": {
    "id": "f2c1c673",
    "outputId": "f3538a74-ceb3-4634-d471-f3dc4a6861b5"
   },
   "outputs": [
    {
     "name": "stdout",
     "output_type": "stream",
     "text": [
      "10 년 후 10000000 에 대해 받는 원금 + 이자는 15000000.0 원입니다.\n"
     ]
    }
   ],
   "source": [
    "principal = 10000000 # 원금\n",
    "period = 10          # 10년\n",
    "savings = term_deposit(principal, period)\n",
    "\n",
    "print(period, \"년 후\", principal, \"에 대해 받는 원금 + 이자는\", round(savings, 2), \"원입니다.\")"
   ]
  },
  {
   "cell_type": "markdown",
   "id": "eb0d2c35",
   "metadata": {
    "id": "eb0d2c35"
   },
   "source": [
    "이자가 3%로 바뀐다면 `rate`에 대한 키워드 인자를 0.03으로 지정한다.\n",
    "그러면 백만원을 3년 정기예금에 복리로 맡겼을 때 3년 후에 받는 원리합계는 다음과 같다."
   ]
  },
  {
   "cell_type": "code",
   "execution_count": null,
   "id": "67148dfb",
   "metadata": {
    "id": "67148dfb",
    "outputId": "b369e1c2-2618-4bb0-b017-2e60162638d8"
   },
   "outputs": [
    {
     "name": "stdout",
     "output_type": "stream",
     "text": [
      "3 년 후 1000000 에 대해 받는 원금 + 이자는 1090000.0 원입니다.\n"
     ]
    }
   ],
   "source": [
    "principal = 1000000 # 원금\n",
    "period = 3          # 3년\n",
    "savings = term_deposit(principal, period, rate=0.03)\n",
    "\n",
    "print(period, \"년 후\", principal, \"에 대해 받는 원금 + 이자는\", round(savings, 2), \"원입니다.\")"
   ]
  },
  {
   "cell_type": "markdown",
   "id": "3f4cc66d",
   "metadata": {
    "id": "3f4cc66d"
   },
   "source": [
    "## 예제 7"
   ]
  },
  {
   "cell_type": "markdown",
   "id": "5bc4aa55",
   "metadata": {
    "id": "5bc4aa55"
   },
   "source": [
    "아래 `grid2()` 함수는 2x2 모양의 격자 무늬를 그린다."
   ]
  },
  {
   "cell_type": "code",
   "execution_count": null,
   "id": "5e3c31f6",
   "metadata": {
    "id": "5e3c31f6"
   },
   "outputs": [],
   "source": [
    "pm = \"+ - - \"\n",
    "ps = \"|     \"\n",
    "plus_sign = \"+\"\n",
    "pipe_sign = \"|\"\n",
    "\n",
    "def print_pm2():\n",
    "    pm_line = pm * 2 + plus_sign\n",
    "    print(pm_line)\n",
    "\n",
    "def print_ps2():\n",
    "    ps_line = ps * 2 + pipe_sign\n",
    "    print(ps_line, ps_line, sep=\"\\n\")\n",
    "\n",
    "def grid2():\n",
    "    count = 0\n",
    "    while count < 2:\n",
    "        print_pm2()\n",
    "        print_ps2()\n",
    "        count += 1\n",
    "\n",
    "    print_pm2()"
   ]
  },
  {
   "cell_type": "code",
   "execution_count": null,
   "id": "6a94a6ae",
   "metadata": {
    "id": "6a94a6ae",
    "outputId": "4981e778-3871-4880-d806-274046b75c2f"
   },
   "outputs": [
    {
     "name": "stdout",
     "output_type": "stream",
     "text": [
      "+ - - + - - +\n",
      "|     |     |\n",
      "|     |     |\n",
      "+ - - + - - +\n",
      "|     |     |\n",
      "|     |     |\n",
      "+ - - + - - +\n"
     ]
    }
   ],
   "source": [
    "grid2()"
   ]
  },
  {
   "cell_type": "markdown",
   "id": "e421d279",
   "metadata": {
    "id": "e421d279"
   },
   "source": [
    "`grid2()` 함수를 구현하는 코드를 수정해서\n",
    "아래 조건을 만족하는 `grid()` 함수를 정의하라.\n",
    "양의 정수를 인자로 받는 매개 변수 `n` 을 사용한다."
   ]
  },
  {
   "cell_type": "markdown",
   "id": "798fddca",
   "metadata": {
    "id": "798fddca"
   },
   "source": [
    "조건:\n",
    "\n",
    "`n` 은 그려지는 격자 칸의 개수를 나타낸다.\n",
    "즉, `grid(2)` 는 `grid2()` 와 동일한 `2x2` 모양의 격자를 그리며,\n",
    "`grid(4)` 는 아래처럼 `4x4` 모양의 격자를 그려야 한다.\n",
    "\n",
    "```\n",
    "+ - - + - - + - - + - - +\n",
    "|     |     |     |     |\n",
    "|     |     |     |     |\n",
    "+ - - + - - + - - + - - +\n",
    "|     |     |     |     |\n",
    "|     |     |     |     |\n",
    "+ - - + - - + - - + - - +\n",
    "|     |     |     |     |\n",
    "|     |     |     |     |\n",
    "+ - - + - - + - - + - - +\n",
    "|     |     |     |     |\n",
    "|     |     |     |     |\n",
    "+ - - + - - + - - + - - +\n",
    "```"
   ]
  },
  {
   "cell_type": "markdown",
   "id": "75466ed7",
   "metadata": {
    "id": "75466ed7"
   },
   "source": [
    "**답**"
   ]
  },
  {
   "cell_type": "markdown",
   "id": "8169cfc7",
   "metadata": {
    "id": "8169cfc7"
   },
   "source": [
    "주어진 코드를 수정해서 보다 일반화된 기능을 갖는 코드를 구현하려면 먼저\n",
    "기존 코드를 자세히 살펴봐야 한다.\n",
    "\n",
    "`grid2()` 함수는 `print_pm2()` 함수와 `print_ps2()` 함수를 이용한다.\n",
    "따라서 두 함수의 기능을 살펴 보자."
   ]
  },
  {
   "cell_type": "markdown",
   "id": "dc0db4ab",
   "metadata": {
    "id": "dc0db4ab"
   },
   "source": [
    "- `print_pm2()` 함수 호출"
   ]
  },
  {
   "cell_type": "code",
   "execution_count": null,
   "id": "d74a2653",
   "metadata": {
    "id": "d74a2653",
    "outputId": "96428bbc-7c04-44d5-d202-084e6465fd17"
   },
   "outputs": [
    {
     "name": "stdout",
     "output_type": "stream",
     "text": [
      "+ - - + - - +\n"
     ]
    }
   ],
   "source": [
    "print_pm2()"
   ]
  },
  {
   "cell_type": "markdown",
   "id": "010a6d25",
   "metadata": {
    "id": "010a6d25"
   },
   "source": [
    "즉, `+ - - `를 두번, 마지막에 `+`를 출력한다."
   ]
  },
  {
   "cell_type": "markdown",
   "id": "6dd33b26",
   "metadata": {
    "id": "6dd33b26"
   },
   "source": [
    "- `print_ps2()` 함수 호출"
   ]
  },
  {
   "cell_type": "code",
   "execution_count": null,
   "id": "c78d2f0d",
   "metadata": {
    "id": "c78d2f0d",
    "outputId": "8861b458-9420-4c8c-91b0-9e640a00da2c"
   },
   "outputs": [
    {
     "name": "stdout",
     "output_type": "stream",
     "text": [
      "|     |     |\n",
      "|     |     |\n"
     ]
    }
   ],
   "source": [
    "print_ps2()"
   ]
  },
  {
   "cell_type": "markdown",
   "id": "987f732c",
   "metadata": {
    "id": "987f732c"
   },
   "source": [
    "즉, `|     `를 두번, 마지막에 `+`를 출력하는 과정을 두 번 반복한다."
   ]
  },
  {
   "cell_type": "markdown",
   "id": "66c92eb8",
   "metadata": {
    "id": "66c92eb8"
   },
   "source": [
    "결국 `print_pm2()`와 `print_ps2()`를 연속 호출하면 아래 모양이 만들어진다."
   ]
  },
  {
   "cell_type": "code",
   "execution_count": null,
   "id": "d02f9f04",
   "metadata": {
    "id": "d02f9f04",
    "outputId": "9309e10a-d086-4d74-ebd4-58b8d57e3acd"
   },
   "outputs": [
    {
     "name": "stdout",
     "output_type": "stream",
     "text": [
      "+ - - + - - +\n",
      "|     |     |\n",
      "|     |     |\n"
     ]
    }
   ],
   "source": [
    "print_pm2()\n",
    "print_ps2()"
   ]
  },
  {
   "cell_type": "markdown",
   "id": "f7fca99a",
   "metadata": {
    "id": "f7fca99a"
   },
   "source": [
    "위 코드를 두 번 반복한 다음에 마지막에 다시 `print_pm2()` 를 호출하면 아래 모양이 완성된다."
   ]
  },
  {
   "cell_type": "code",
   "execution_count": null,
   "id": "c3eaa7b0",
   "metadata": {
    "id": "c3eaa7b0",
    "outputId": "7b3dd079-9c96-47ee-874e-599b0d450f87"
   },
   "outputs": [
    {
     "name": "stdout",
     "output_type": "stream",
     "text": [
      "+ - - + - - +\n",
      "|     |     |\n",
      "|     |     |\n",
      "+ - - + - - +\n",
      "|     |     |\n",
      "|     |     |\n",
      "+ - - + - - +\n"
     ]
    }
   ],
   "source": [
    "count = 0\n",
    "while count < 2:\n",
    "    print_pm2()\n",
    "    print_ps2()\n",
    "    count += 1\n",
    "\n",
    "print_pm2()"
   ]
  },
  {
   "cell_type": "markdown",
   "id": "ad02b8d2",
   "metadata": {
    "id": "ad02b8d2"
   },
   "source": [
    "`grid2()` 함수는 위 코드에 붙힌 이름에 불과하다.\n",
    "\n",
    "위 코드의 또 하나의 핵심은 아래 두 변수가 가리키는 문자열을\n",
    "격자무늬의 핵심 구성 단위로 사용한다는 점이다."
   ]
  },
  {
   "cell_type": "code",
   "execution_count": null,
   "id": "ab77c8bb",
   "metadata": {
    "id": "ab77c8bb"
   },
   "outputs": [],
   "source": [
    "pm = \"+ - - \"\n",
    "ps = \"|     \""
   ]
  },
  {
   "cell_type": "markdown",
   "id": "f2e69cdd",
   "metadata": {
    "id": "f2e69cdd"
   },
   "source": [
    "지금까지의 설명을 참고하면서 양의 정수 `n`이 주어졌을 때,\n",
    "`n x n` 모양의 격자무늬를 출력하는 `grid()` 함수를 구현해보자.\n",
    "이를 위해 아래 두 아이디어를 활용한다.\n",
    "\n",
    "- 먼저 격자무늬의 기본 구성 단위는 `pm`과 `ps`가 가리키는 문자열과 동일하다.\n",
    "- `grid()` 함수를 정의하기 위해 `print_pm2()` 함수와 `print_ps2()` 함수를 일반화한 아래 두 함수를 이용한다."
   ]
  },
  {
   "cell_type": "markdown",
   "id": "dd9efda7",
   "metadata": {
    "id": "dd9efda7"
   },
   "source": [
    "- `print_pm(n)`: `n`이 지정되면 `pm`을 그만큼 반복한다."
   ]
  },
  {
   "cell_type": "code",
   "execution_count": null,
   "id": "1962e1ec",
   "metadata": {
    "id": "1962e1ec"
   },
   "outputs": [],
   "source": [
    "def print_pm(n):\n",
    "    pm_line = pm * n + plus_sign\n",
    "    print(pm_line)"
   ]
  },
  {
   "cell_type": "markdown",
   "id": "374dd6e5",
   "metadata": {
    "id": "374dd6e5"
   },
   "source": [
    "- `print_ps(n)`: `n`이 지정되면 `ps`를 그만큼 반복한다."
   ]
  },
  {
   "cell_type": "code",
   "execution_count": null,
   "id": "e256ceac",
   "metadata": {
    "id": "e256ceac"
   },
   "outputs": [],
   "source": [
    "def print_ps(n):\n",
    "    ps_line = ps * n + pipe_sign\n",
    "    print(ps_line, ps_line, sep=\"\\n\")"
   ]
  },
  {
   "cell_type": "markdown",
   "id": "26f25116",
   "metadata": {
    "id": "26f25116"
   },
   "source": [
    "인자로 2를 사용하면 두 함수 각각 `print_pm2()` 함수와 `print_ps2()`함수와 동일한 결과를 낸다."
   ]
  },
  {
   "cell_type": "code",
   "execution_count": null,
   "id": "da3ac58a",
   "metadata": {
    "id": "da3ac58a",
    "outputId": "5d4d6608-4d4b-4bc2-b483-a13c95595883"
   },
   "outputs": [
    {
     "name": "stdout",
     "output_type": "stream",
     "text": [
      "+ - - + - - +\n"
     ]
    }
   ],
   "source": [
    "print_pm(2)"
   ]
  },
  {
   "cell_type": "code",
   "execution_count": null,
   "id": "723d858a",
   "metadata": {
    "id": "723d858a",
    "outputId": "4556e86e-bb3d-409a-8668-592f5890d014"
   },
   "outputs": [
    {
     "name": "stdout",
     "output_type": "stream",
     "text": [
      "|     |     |\n",
      "|     |     |\n"
     ]
    }
   ],
   "source": [
    "print_ps(2)"
   ]
  },
  {
   "cell_type": "markdown",
   "id": "427d0ea6",
   "metadata": {
    "id": "427d0ea6"
   },
   "source": [
    "반면에 4를 인자로 하면 오른쪽으로 보다 길어진다."
   ]
  },
  {
   "cell_type": "code",
   "execution_count": null,
   "id": "13832ed4",
   "metadata": {
    "id": "13832ed4",
    "outputId": "16e3e792-7768-40b1-ae3a-b90bc40b0b72"
   },
   "outputs": [
    {
     "name": "stdout",
     "output_type": "stream",
     "text": [
      "+ - - + - - + - - + - - +\n"
     ]
    }
   ],
   "source": [
    "print_pm(4)"
   ]
  },
  {
   "cell_type": "code",
   "execution_count": null,
   "id": "9a3925bd",
   "metadata": {
    "id": "9a3925bd",
    "outputId": "ef600158-62ab-41cf-cc16-e5e2dc3b4138"
   },
   "outputs": [
    {
     "name": "stdout",
     "output_type": "stream",
     "text": [
      "|     |     |     |     |\n",
      "|     |     |     |     |\n"
     ]
    }
   ],
   "source": [
    "print_ps(4)"
   ]
  },
  {
   "cell_type": "markdown",
   "id": "2e9e795d",
   "metadata": {
    "id": "2e9e795d"
   },
   "source": [
    "즉 4칸짜리 격자무늬를 그리는 기초 구조로 활용될 수 있다.\n",
    "두 함수를 연속 실행해보자."
   ]
  },
  {
   "cell_type": "code",
   "execution_count": null,
   "id": "4b0a81fc",
   "metadata": {
    "id": "4b0a81fc",
    "outputId": "e664b299-db0b-4d83-a4f7-548a1d1baf8d"
   },
   "outputs": [
    {
     "name": "stdout",
     "output_type": "stream",
     "text": [
      "+ - - + - - + - - + - - +\n",
      "|     |     |     |     |\n",
      "|     |     |     |     |\n"
     ]
    }
   ],
   "source": [
    "print_pm(4)\n",
    "print_ps(4)"
   ]
  },
  {
   "cell_type": "markdown",
   "id": "aa3354c3",
   "metadata": {
    "id": "aa3354c3"
   },
   "source": [
    "위 코드를 4번 반복하면 `4 x 4` 모양의 격자무늬가 거의 완성된다.\n",
    "반복을 위해 역시 `while` 반복문을 활용하며, 따라서 `grid()` 함수는\n",
    "`grid2()` 함수와 거의 동일하게 구현된다.\n",
    "다만 함수의 본문에 사용되는 함수들 또한 일반화된 함수를 사용할 뿐이다."
   ]
  },
  {
   "cell_type": "code",
   "execution_count": null,
   "id": "a870e8e4",
   "metadata": {
    "id": "a870e8e4"
   },
   "outputs": [],
   "source": [
    "def grid(n):\n",
    "    count = 0\n",
    "    while count < n:\n",
    "        print_pm(n)\n",
    "        print_ps(n)\n",
    "        count += 1\n",
    "\n",
    "    print_pm(n)"
   ]
  },
  {
   "cell_type": "markdown",
   "id": "2a11f120",
   "metadata": {
    "id": "2a11f120"
   },
   "source": [
    "- `n = 3`일 때"
   ]
  },
  {
   "cell_type": "code",
   "execution_count": null,
   "id": "60d6fd36",
   "metadata": {
    "id": "60d6fd36",
    "outputId": "f140dc0f-bf23-4073-a81b-8f76b378df36"
   },
   "outputs": [
    {
     "name": "stdout",
     "output_type": "stream",
     "text": [
      "+ - - + - - + - - +\n",
      "|     |     |     |\n",
      "|     |     |     |\n",
      "+ - - + - - + - - +\n",
      "|     |     |     |\n",
      "|     |     |     |\n",
      "+ - - + - - + - - +\n",
      "|     |     |     |\n",
      "|     |     |     |\n",
      "+ - - + - - + - - +\n"
     ]
    }
   ],
   "source": [
    "grid(3)"
   ]
  },
  {
   "cell_type": "markdown",
   "id": "d415fbbc",
   "metadata": {
    "id": "d415fbbc"
   },
   "source": [
    "- `n = 4`일 때"
   ]
  },
  {
   "cell_type": "code",
   "execution_count": null,
   "id": "fe4ef60a",
   "metadata": {
    "id": "fe4ef60a",
    "outputId": "de5f7f5a-10f7-4ce7-b835-dd22a3affbcd"
   },
   "outputs": [
    {
     "name": "stdout",
     "output_type": "stream",
     "text": [
      "+ - - + - - + - - + - - +\n",
      "|     |     |     |     |\n",
      "|     |     |     |     |\n",
      "+ - - + - - + - - + - - +\n",
      "|     |     |     |     |\n",
      "|     |     |     |     |\n",
      "+ - - + - - + - - + - - +\n",
      "|     |     |     |     |\n",
      "|     |     |     |     |\n",
      "+ - - + - - + - - + - - +\n",
      "|     |     |     |     |\n",
      "|     |     |     |     |\n",
      "+ - - + - - + - - + - - +\n"
     ]
    }
   ],
   "source": [
    "grid(4)"
   ]
  },
  {
   "cell_type": "markdown",
   "id": "9a32aa9a",
   "metadata": {
    "id": "9a32aa9a"
   },
   "source": [
    "지금까지 사용된 코드를 정리하면 아래와 같다.\n",
    "결론적으로 이전 코드에서 숫자 2에 해당하는 부분을 모두 매개 변수 `n`으로 대체하였을 뿐이다.\n",
    "이처럼 함수의 일반화는 주로 기존 코드에서 특정 부분을 매개 변수로 대체하는 과정을 따른다."
   ]
  },
  {
   "cell_type": "code",
   "execution_count": null,
   "id": "63c5342b",
   "metadata": {
    "id": "63c5342b"
   },
   "outputs": [],
   "source": [
    "pm = \"+ - - \"\n",
    "ps = \"|     \"\n",
    "plus_sign = \"+\"\n",
    "pipe_sign = \"|\"\n",
    "\n",
    "def print_pm(n):\n",
    "    print(pm * n + plus_sign)\n",
    "\n",
    "def print_ps(n):\n",
    "    ps_line = ps * n + pipe_sign\n",
    "    print(ps_line, ps_line, sep=\"\\n\")\n",
    "\n",
    "def grid(n):\n",
    "    count = 0\n",
    "    while count < n:\n",
    "        print_pm(n)\n",
    "        print_ps(n)\n",
    "        count += 1\n",
    "\n",
    "    print_pm(n)"
   ]
  },
  {
   "cell_type": "markdown",
   "id": "1b14a0cb",
   "metadata": {
    "id": "1b14a0cb"
   },
   "source": [
    "- `n = 6`일 때"
   ]
  },
  {
   "cell_type": "code",
   "execution_count": null,
   "id": "a60053c5",
   "metadata": {
    "id": "a60053c5",
    "outputId": "ed692873-bf17-4b04-c4b3-c6e04504ebc5"
   },
   "outputs": [
    {
     "name": "stdout",
     "output_type": "stream",
     "text": [
      "+ - - + - - + - - + - - + - - + - - +\n",
      "|     |     |     |     |     |     |\n",
      "|     |     |     |     |     |     |\n",
      "+ - - + - - + - - + - - + - - + - - +\n",
      "|     |     |     |     |     |     |\n",
      "|     |     |     |     |     |     |\n",
      "+ - - + - - + - - + - - + - - + - - +\n",
      "|     |     |     |     |     |     |\n",
      "|     |     |     |     |     |     |\n",
      "+ - - + - - + - - + - - + - - + - - +\n",
      "|     |     |     |     |     |     |\n",
      "|     |     |     |     |     |     |\n",
      "+ - - + - - + - - + - - + - - + - - +\n",
      "|     |     |     |     |     |     |\n",
      "|     |     |     |     |     |     |\n",
      "+ - - + - - + - - + - - + - - + - - +\n",
      "|     |     |     |     |     |     |\n",
      "|     |     |     |     |     |     |\n",
      "+ - - + - - + - - + - - + - - + - - +\n"
     ]
    }
   ],
   "source": [
    "grid(6)"
   ]
  },
  {
   "cell_type": "markdown",
   "id": "91db38ac",
   "metadata": {
    "id": "91db38ac"
   },
   "source": [
    "## 예제 8"
   ]
  },
  {
   "cell_type": "markdown",
   "id": "3415de69",
   "metadata": {
    "id": "3415de69"
   },
   "source": [
    "`grid()` 함수가 실행되었을 때 생성되는 격자의 개수를 반환하도록\n",
    "반환값을 지정하라."
   ]
  },
  {
   "cell_type": "markdown",
   "id": "b094ab05",
   "metadata": {
    "id": "b094ab05"
   },
   "source": [
    "**답**"
   ]
  },
  {
   "cell_type": "markdown",
   "id": "f346f13e",
   "metadata": {
    "id": "f346f13e"
   },
   "source": [
    "반환값 지정은 `return ...` 명령문으로 지정된다.\n",
    "다만 반환값 지정 명령문이 어디에 위치하느냐가 매우 중요하다.\n",
    "\n",
    "`grid()` 함수의 기본 기능은 인자 `n`과 호출되었을 때 `n x n` 모양의\n",
    "격자무늬를 그리는 일이다.\n",
    "따라서 앞서 구현된 `grid()` 함수의 본문이 모두 실행된 다음에\n",
    "출력된 격자무늬에 사용된 격자의 개수인 `n * n`을\n",
    "함수 본문의 마지막 명령문으로 지정한다."
   ]
  },
  {
   "cell_type": "code",
   "execution_count": null,
   "id": "ec5e92f9",
   "metadata": {
    "id": "ec5e92f9"
   },
   "outputs": [],
   "source": [
    "def grid(n):\n",
    "    count = 0\n",
    "    while count < n:\n",
    "        print_pm(n)\n",
    "        print_ps(n)\n",
    "        count += 1\n",
    "\n",
    "    print_pm(n)\n",
    "\n",
    "    return n * n"
   ]
  },
  {
   "cell_type": "markdown",
   "id": "3b444fca",
   "metadata": {
    "id": "3b444fca"
   },
   "source": [
    "예를 들어 `n = 4`일 때 호출되면 `4 x 4` 모양의 격자무늬를 그리면서 동시에\n",
    "16을 반환한다.\n",
    "반환값이 `None`이 아니기에 변수에 할당해서 활용할 수 있다."
   ]
  },
  {
   "cell_type": "code",
   "execution_count": null,
   "id": "a174c8e7",
   "metadata": {
    "id": "a174c8e7",
    "outputId": "6fdc9652-1a08-45ab-86cb-036d12df239a"
   },
   "outputs": [
    {
     "name": "stdout",
     "output_type": "stream",
     "text": [
      "+ - - + - - + - - + - - +\n",
      "|     |     |     |     |\n",
      "|     |     |     |     |\n",
      "+ - - + - - + - - + - - +\n",
      "|     |     |     |     |\n",
      "|     |     |     |     |\n",
      "+ - - + - - + - - + - - +\n",
      "|     |     |     |     |\n",
      "|     |     |     |     |\n",
      "+ - - + - - + - - + - - +\n",
      "|     |     |     |     |\n",
      "|     |     |     |     |\n",
      "+ - - + - - + - - + - - +\n",
      "격자 개수: 16\n"
     ]
    }
   ],
   "source": [
    "num_of_squares = grid(4)\n",
    "print(\"격자 개수:\", num_of_squares)"
   ]
  }
 ],
 "metadata": {
  "colab": {
   "provenance": []
  },
  "kernelspec": {
   "display_name": "Python 3 (ipykernel)",
   "language": "python",
   "name": "python3"
  },
  "language_info": {
   "codemirror_mode": {
    "name": "ipython",
    "version": 3
   },
   "file_extension": ".py",
   "mimetype": "text/x-python",
   "name": "python",
   "nbconvert_exporter": "python",
   "pygments_lexer": "ipython3",
   "version": "3.11.5"
  }
 },
 "nbformat": 4,
 "nbformat_minor": 5
}
