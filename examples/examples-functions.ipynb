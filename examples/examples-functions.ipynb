{
 "cells": [
  {
   "cell_type": "markdown",
   "id": "3cb1f679",
   "metadata": {},
   "source": [
    "# (예제) 함수"
   ]
  },
  {
   "cell_type": "markdown",
   "id": "21de311c",
   "metadata": {
    "id": "99a9599c"
   },
   "source": [
    "## 예제"
   ]
  },
  {
   "cell_type": "markdown",
   "id": "3f6a828a",
   "metadata": {
    "id": "0f28acc8"
   },
   "source": [
    "정수와 함께 호출되면 짝수일 때는 0, 홀수일 때는 1을 반환하는 함수 `even_odd()`를 구현하라."
   ]
  },
  {
   "cell_type": "code",
   "execution_count": null,
   "id": "b6eada01",
   "metadata": {
    "id": "d6973d68"
   },
   "outputs": [],
   "source": [
    "def even_odd(num):\n",
    "    if num % 2 == 0:\n",
    "        answer = 0\n",
    "    else:\n",
    "        answer = 1  \n",
    "      \n",
    "    return answer\n",
    "\n",
    "assert even_odd(33) == 1\n",
    "assert even_odd(16) == 0 "
   ]
  },
  {
   "cell_type": "code",
   "execution_count": null,
   "id": "af2afcf5",
   "metadata": {
    "id": "af2ac31d"
   },
   "outputs": [],
   "source": [
    "# 아래 코드의 주석 기호를 제거하고 실행했을 때 오류가 발생하지 않아야 함.\n",
    "\n",
    "# assert even_odd(33) == 1\n",
    "# assert even_odd(16) == 0"
   ]
  },
  {
   "cell_type": "markdown",
   "id": "9e8848ed",
   "metadata": {},
   "source": [
    "## 예제"
   ]
  },
  {
   "cell_type": "markdown",
   "id": "8fecfa9c",
   "metadata": {},
   "source": [
    "아래 코드의 실행 결과를 설명하라."
   ]
  },
  {
   "cell_type": "code",
   "execution_count": 2,
   "id": "cc2b920a",
   "metadata": {},
   "outputs": [
    {
     "name": "stdout",
     "output_type": "stream",
     "text": [
      "A\n",
      "C\n",
      "B\n"
     ]
    }
   ],
   "source": [
    "print(\"A\")\n",
    "\n",
    "def func() :\n",
    "    print(\"B\")\n",
    "\n",
    "print(\"C\")\n",
    "\n",
    "func()"
   ]
  },
  {
   "cell_type": "markdown",
   "id": "2c55e015",
   "metadata": {},
   "source": [
    "## 예제"
   ]
  },
  {
   "cell_type": "markdown",
   "id": "b224900d",
   "metadata": {},
   "source": [
    "아래 코드의 실행 결과를 설명하라."
   ]
  },
  {
   "cell_type": "code",
   "execution_count": 7,
   "id": "e118f252",
   "metadata": {
    "id": "m7hR5DCuhEpo",
    "outputId": "6fb5492e-f4cd-4f9d-bbbc-40f146e2e6e8"
   },
   "outputs": [
    {
     "name": "stdout",
     "output_type": "stream",
     "text": [
      "0\n",
      "\n",
      "1\n",
      "*\n",
      "2\n",
      "**\n",
      "3\n"
     ]
    }
   ],
   "source": [
    "def counter_func() :\n",
    "    i = 0\n",
    "    while i < 100 :\n",
    "        print(i)\n",
    "        if i == 3 :\n",
    "            return None\n",
    "        print(\"*\" * i)\n",
    "        i += 1\n",
    "    print(\"=\" * i)\n",
    "\n",
    "counter_func()"
   ]
  },
  {
   "cell_type": "markdown",
   "id": "c919a9e2",
   "metadata": {
    "id": "bNsV9zG4hEpl",
    "outputId": "58d4c7e9-f773-4d68-bb20-6e99c17fe86a"
   },
   "source": [
    "*실행 결과 설명*\n",
    "\n",
    "..."
   ]
  },
  {
   "cell_type": "markdown",
   "id": "30f24afe",
   "metadata": {},
   "source": [
    "## 예제"
   ]
  },
  {
   "cell_type": "markdown",
   "id": "12424cb0",
   "metadata": {
    "id": "w56ZzNAci7yl"
   },
   "source": [
    "아래 코드를 실행할 때 발생하는 오류를 설명하라."
   ]
  },
  {
   "cell_type": "code",
   "execution_count": 6,
   "id": "23505659",
   "metadata": {
    "id": "w56ZzNAci7yl"
   },
   "outputs": [
    {
     "ename": "NameError",
     "evalue": "name 'func_hi' is not defined",
     "output_type": "error",
     "traceback": [
      "\u001b[0;31m---------------------------------------------------------------------------\u001b[0m",
      "\u001b[0;31mNameError\u001b[0m                                 Traceback (most recent call last)",
      "Cell \u001b[0;32mIn[6], line 1\u001b[0m\n\u001b[0;32m----> 1\u001b[0m func_hi()\n\u001b[1;32m      3\u001b[0m \u001b[38;5;28;01mdef\u001b[39;00m \u001b[38;5;21mfunc_hi\u001b[39m() :\n\u001b[1;32m      4\u001b[0m   \u001b[38;5;28mprint\u001b[39m(\u001b[38;5;124m\"\u001b[39m\u001b[38;5;124mHi\u001b[39m\u001b[38;5;124m\"\u001b[39m)\n",
      "\u001b[0;31mNameError\u001b[0m: name 'func_hi' is not defined"
     ]
    }
   ],
   "source": [
    "func_hi()\n",
    "\n",
    "def func_hi() :\n",
    "  print(\"Hi\")"
   ]
  },
  {
   "cell_type": "markdown",
   "id": "2b8e02bb",
   "metadata": {
    "id": "bNsV9zG4hEpl",
    "outputId": "58d4c7e9-f773-4d68-bb20-6e99c17fe86a"
   },
   "source": [
    "*오류의 원인*\n",
    "\n",
    "..."
   ]
  },
  {
   "cell_type": "markdown",
   "id": "210e4ae6",
   "metadata": {},
   "source": [
    "## 예제"
   ]
  },
  {
   "cell_type": "markdown",
   "id": "5bc4aa55",
   "metadata": {},
   "source": [
    "아래 `grid2()` 함수는 2x2 모양의 격자 무늬를 그린다."
   ]
  },
  {
   "cell_type": "code",
   "execution_count": 12,
   "id": "5e3c31f6",
   "metadata": {},
   "outputs": [],
   "source": [
    "pm = \"+ - - \"\n",
    "ps = \"|     \"\n",
    "plus_sign = \"+\"\n",
    "pipe_sign = \"|\"\n",
    "\n",
    "pm_line = pm * 2 + plus_sign\n",
    "\n",
    "def print_pm2():\n",
    "    print(pm * 2 + plus_sign)\n",
    "\n",
    "def print_ps2():\n",
    "    ps_line = ps * 2 + pipe_sign\n",
    "    print(ps_line, ps_line, sep=\"\\n\")\n",
    "\n",
    "def grid2():\n",
    "    count = 0\n",
    "    while count < 2:\n",
    "        print_pm2()\n",
    "        print_ps2()\n",
    "        count += 1\n",
    "        \n",
    "    print(pm_line)"
   ]
  },
  {
   "cell_type": "code",
   "execution_count": 13,
   "id": "55bab60a",
   "metadata": {},
   "outputs": [
    {
     "name": "stdout",
     "output_type": "stream",
     "text": [
      "+ - - + - - +\n",
      "|     |     |\n",
      "|     |     |\n",
      "+ - - + - - +\n",
      "|     |     |\n",
      "|     |     |\n",
      "+ - - + - - +\n"
     ]
    }
   ],
   "source": [
    "grid2()"
   ]
  },
  {
   "cell_type": "markdown",
   "id": "798fddca",
   "metadata": {},
   "source": [
    "아래 조건을 만족하는 `grid()` 함수를 정의하라.\n",
    "\n",
    "- 매개변수 `n` 하나를 사용한다.\n",
    "- `n` 은 사용되는 그려지는 격자 칸의 개수 나타낸다. \n",
    "    즉, `grid(2)` 는 `grid2()` 와 동일한 `2x2` 모양의 격자를 그리며,\n",
    "    `grid(4)` 는 아래처럼 `4x4` 모양의 격자를 그려야 한다.\n",
    "\n",
    "    ```\n",
    "    + - - + - - + - - + - - +\n",
    "    |     |     |     |     |\n",
    "    |     |     |     |     |\n",
    "    + - - + - - + - - + - - +\n",
    "    |     |     |     |     |\n",
    "    |     |     |     |     |\n",
    "    + - - + - - + - - + - - +\n",
    "    |     |     |     |     |\n",
    "    |     |     |     |     |\n",
    "    + - - + - - + - - + - - +\n",
    "    |     |     |     |     |\n",
    "    |     |     |     |     |\n",
    "    + - - + - - + - - + - - +\n",
    "    ```"
   ]
  },
  {
   "cell_type": "code",
   "execution_count": 13,
   "id": "60d6fd36",
   "metadata": {},
   "outputs": [],
   "source": [
    "# 힌트 1: range() 함수를 활용하라. range() 함수 설명 참고: https://devpouch.tistory.com/70\n",
    "# 힌트 2: grid2() 함수에서 변하는 격자 칸의 개수를 매개변수로 지정하도록 한다.\n",
    "# pass 를 적절한 명령문으로 대체하라.\n",
    "\n",
    "def grid(n):\n",
    "    pass\n",
    "\n",
    "grid(4)"
   ]
  },
  {
   "cell_type": "markdown",
   "id": "b2b25317",
   "metadata": {},
   "source": [
    "## 예제"
   ]
  },
  {
   "cell_type": "markdown",
   "id": "3415de69",
   "metadata": {},
   "source": [
    "`grid()` 함수가 실행되었을 때 생성되는 격자의 개수를 반환하도록\n",
    "반환값을 지정하라. \n",
    "단, `while` 반복문을 이용한다."
   ]
  },
  {
   "cell_type": "code",
   "execution_count": 14,
   "id": "b44671c8",
   "metadata": {},
   "outputs": [],
   "source": [
    "# pass 와 None 을 적절한 명령문과 표현식으로 대체하라.\n",
    "\n",
    "def grid(n):\n",
    "    pass\n",
    "\n",
    "    return None"
   ]
  },
  {
   "cell_type": "code",
   "execution_count": 15,
   "id": "7b1a5b68",
   "metadata": {},
   "outputs": [],
   "source": [
    "# 아래 코드의 주석 기호를 제거하고 실행했을 때 오류가 발생하지 않아야 함.\n",
    "\n",
    "# assert grid(2) == 4\n",
    "# assert grid(4) == 16"
   ]
  },
  {
   "cell_type": "markdown",
   "id": "a80932d0",
   "metadata": {},
   "source": [
    "## 문제"
   ]
  },
  {
   "cell_type": "markdown",
   "id": "7a25674a",
   "metadata": {},
   "source": [
    "`grid_gen()` 함수를 보다 일반화하여 `n` 과 `m` 두 개의 매개변수를 사용하도록 하라. \n",
    "`grid_gen(n, m)` 을 실행하면 `nxm` 모양의 격자가 그려져야 하며\n",
    "격자에 포함된 네모의 개수를 반환하라.\n",
    "단, `while` 반복문을 이용한다.\n",
    "\n",
    "- `n`: 격자 세로 크기\n",
    "- `m`: 격자 가로 크기\n",
    "-  반환값: `n*m`\n",
    "\n",
    "예를 들어, `grid_gen(2, 3)` 을 실행하면 아래 모양의 격자를 그려야 한다.\n",
    "\n",
    "```\n",
    "+ - - + - - + - - +\n",
    "|     |     |     |\n",
    "|     |     |     |\n",
    "+ - - + - - + - - +\n",
    "|     |     |     |\n",
    "|     |     |     |\n",
    "+ - - + - - + - - +\n",
    "```"
   ]
  },
  {
   "cell_type": "code",
   "execution_count": 16,
   "id": "79a72f00",
   "metadata": {},
   "outputs": [],
   "source": [
    "# pass 와 None 을 적절한 명령문과 표현식으로 대체하라.\n",
    "\n",
    "def grid_gen(n, m):\n",
    "    pass\n",
    "\n",
    "    return None"
   ]
  },
  {
   "cell_type": "code",
   "execution_count": 17,
   "id": "bc23c1d4",
   "metadata": {},
   "outputs": [],
   "source": [
    "# 아래 코드의 주석 기호를 제거하고 실행했을 때 오류가 발생하지 않아야 함.\n",
    "\n",
    "# assert grid_gen(2, 3) == 6\n",
    "# assert grid_gen(3, 5) == 15"
   ]
  },
  {
   "cell_type": "markdown",
   "id": "72eea7da",
   "metadata": {},
   "source": [
    "## 문제"
   ]
  },
  {
   "cell_type": "markdown",
   "id": "c0308a62",
   "metadata": {},
   "source": [
    "아래와 같이 정의된 `print_p()` 함수 `grid_gen()` 함수의 정의에 반드시 활용하라.\n",
    "단, `while` 반복문을 이용한다."
   ]
  },
  {
   "cell_type": "code",
   "execution_count": 7,
   "id": "2bd138db",
   "metadata": {},
   "outputs": [],
   "source": [
    "def print_p(s, num, end):\n",
    "    print(s * num + end)"
   ]
  },
  {
   "cell_type": "markdown",
   "id": "1f6f370b",
   "metadata": {},
   "source": [
    "단, 실행 결과는 동일해야 한다."
   ]
  },
  {
   "cell_type": "code",
   "execution_count": 19,
   "id": "9bf4a6f1",
   "metadata": {},
   "outputs": [],
   "source": [
    "# pass 와 None 을 적절한 명령문과 표현식으로 대체하라.\n",
    "\n",
    "def grid_gen(n, m):\n",
    "    pass\n",
    "\n",
    "    return None"
   ]
  },
  {
   "cell_type": "code",
   "execution_count": 20,
   "id": "1071a70a",
   "metadata": {},
   "outputs": [],
   "source": [
    "# 아래 코드의 주석 기호를 제거하고 실행했을 때 오류가 발생하지 않아야 함.\n",
    "\n",
    "# assert grid_gen(2, 3) == 6\n",
    "# assert grid_gen(3, 5) == 15"
   ]
  },
  {
   "cell_type": "markdown",
   "id": "0cd56907",
   "metadata": {},
   "source": [
    "## 부울값 함수와 논리식 관련 문제"
   ]
  },
  {
   "cell_type": "markdown",
   "id": "11046878",
   "metadata": {},
   "source": [
    "부울값을 반환하는 함수는 논리식에 사용되며 복잡한 테스트를 진행할 때 활용하면 좋다.\n",
    "예를 들어 아래 함수는 두 정수를 대상으로 약수, 배수의 관계가 있는지 여부를 판단할 때\n",
    "사용될 수 있다."
   ]
  },
  {
   "cell_type": "code",
   "execution_count": 35,
   "id": "aef834b6",
   "metadata": {},
   "outputs": [],
   "source": [
    "def is_divisible(x, y):\n",
    "    if x % y == 0:\n",
    "        return True\n",
    "    else:\n",
    "        return False"
   ]
  },
  {
   "cell_type": "code",
   "execution_count": 36,
   "id": "039af25d",
   "metadata": {},
   "outputs": [
    {
     "data": {
      "text/plain": [
       "False"
      ]
     },
     "execution_count": 36,
     "metadata": {},
     "output_type": "execute_result"
    }
   ],
   "source": [
    "is_divisible(6, 4)"
   ]
  },
  {
   "cell_type": "code",
   "execution_count": 37,
   "id": "4bdbe7b4",
   "metadata": {},
   "outputs": [
    {
     "data": {
      "text/plain": [
       "True"
      ]
     },
     "execution_count": 37,
     "metadata": {},
     "output_type": "execute_result"
    }
   ],
   "source": [
    "is_divisible(6, 3)"
   ]
  },
  {
   "cell_type": "markdown",
   "id": "2f1be9c7",
   "metadata": {},
   "source": [
    "위 함수를 다음과 같이 보다 간단하게 정의할 수도 있다."
   ]
  },
  {
   "cell_type": "code",
   "execution_count": 38,
   "id": "d55020b9",
   "metadata": {},
   "outputs": [],
   "source": [
    "def is_divisible(x, y):\n",
    "    return x % y == 0"
   ]
  },
  {
   "cell_type": "markdown",
   "id": "6767174e",
   "metadata": {},
   "source": [
    "부울값 함수 호출을 조건문 등에 바로 사용해도 된다."
   ]
  },
  {
   "cell_type": "code",
   "execution_count": 39,
   "id": "59372ab5",
   "metadata": {},
   "outputs": [
    {
     "name": "stdout",
     "output_type": "stream",
     "text": [
      "16 을(를) 4 (으)로 나눌 수 있다.\n"
     ]
    }
   ],
   "source": [
    "x = 16\n",
    "y = 4\n",
    "\n",
    "if is_divisible(x, y):\n",
    "    print(f'{x} 을(를) {y} (으)로 나눌 수 있다.')"
   ]
  },
  {
   "cell_type": "markdown",
   "id": "e1964f97",
   "metadata": {},
   "source": [
    "## 지역 변수와 전역 변수"
   ]
  },
  {
   "cell_type": "markdown",
   "id": "8c478b2d",
   "metadata": {},
   "source": [
    "아래 코드를 이용하여 `square` 변수가 가리키는 값을 확인한다."
   ]
  },
  {
   "cell_type": "code",
   "execution_count": 1,
   "id": "6bacf406",
   "metadata": {},
   "outputs": [
    {
     "name": "stdout",
     "output_type": "stream",
     "text": [
      "289\n",
      "2\n"
     ]
    }
   ],
   "source": [
    "seventeen = 17\n",
    "square = 2\n",
    "\n",
    "def square_return(number):\n",
    "    square = number ** 2\n",
    "    print(square)\n",
    "    return square\n",
    "\n",
    "square_return(seventeen)\n",
    "print(square)"
   ]
  }
 ],
 "metadata": {
  "kernelspec": {
   "display_name": "Python 3 (ipykernel)",
   "language": "python",
   "name": "python3"
  },
  "language_info": {
   "codemirror_mode": {
    "name": "ipython",
    "version": 3
   },
   "file_extension": ".py",
   "mimetype": "text/x-python",
   "name": "python",
   "nbconvert_exporter": "python",
   "pygments_lexer": "ipython3",
   "version": "3.11.5"
  }
 },
 "nbformat": 4,
 "nbformat_minor": 5
}
