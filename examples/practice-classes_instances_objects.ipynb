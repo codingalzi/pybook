{
 "cells": [
  {
   "cell_type": "markdown",
   "id": "72ba1600",
   "metadata": {},
   "source": [
    "# (실습) 클래스, 인스턴스, 객체"
   ]
  },
  {
   "cell_type": "markdown",
   "id": "bcc8fd8e",
   "metadata": {},
   "source": [
    "**참고**\n",
    "\n",
    "[클래스, 인스턴스, 객체](https://codingalzi.github.io/pybook/classes_instances_objects.html)에서\n",
    "소개한 `Fraction` 클래스와 연관된 문제들이다."
   ]
  },
  {
   "cell_type": "code",
   "execution_count": 1,
   "id": "8911fdf9",
   "metadata": {},
   "outputs": [],
   "source": [
    "def gcd(m, n):\n",
    "    while m % n != 0:\n",
    "        m, n = n, m % n\n",
    "    return n\n",
    "\n",
    "class Fraction:\n",
    "    \"\"\"Fraction 클래스\"\"\"\n",
    "\n",
    "    def __init__(self, top, bottom):\n",
    "        \"\"\"생성자 메서드\n",
    "        top: 분자\n",
    "        bottom: 분모\n",
    "        \"\"\"\n",
    "        self.top = top\n",
    "        self.bottom = bottom\n",
    "\n",
    "    def __repr__(self):\n",
    "        return f\"{self.top}/{self.bottom}\"\n",
    "\n",
    "    def __add__(self, other_fraction):\n",
    "        new_top = self.top * other_fraction.bottom + \\\n",
    "                     self.bottom * other_fraction.top\n",
    "        new_bottom = self.bottom * other_fraction.bottom\n",
    "        common = gcd(new_top, new_bottom)\n",
    "        \n",
    "        return Fraction(new_top // common, new_bottom // common)\n",
    "\n",
    "    def __eq__(self, other_fraction):\n",
    "        first_top = self.top * other_fraction.bottom\n",
    "        second_top = other_fraction.top * self.bottom\n",
    "\n",
    "        return first_top == second_top\n",
    "    \n",
    "    def numerator(self):\n",
    "        return self.top\n",
    "\n",
    "    def denominator(self):\n",
    "        return self.bottom\n",
    "    \n",
    "    def to_float(self):\n",
    "        return self.numerator() / self.denominator()\n"
   ]
  },
  {
   "cell_type": "code",
   "execution_count": null,
   "id": "a5623442",
   "metadata": {},
   "outputs": [],
   "source": [
    "f1 = Fraction(2, 3)\n",
    "f2 = Fraction(1, 4)"
   ]
  },
  {
   "cell_type": "markdown",
   "id": "6d31d67f",
   "metadata": {},
   "source": [
    "**문제 1**"
   ]
  },
  {
   "cell_type": "markdown",
   "id": "e9a13f6a",
   "metadata": {},
   "source": [
    "`Fraction` 클래스가 뺄셈, 곱셈, 나눗셈을 지원하도록 \n",
    "다음 연산자들을 구현하라.\n",
    "\n",
    "* `__sub__()`\n",
    "* `__mul__()`\n",
    "* `__truediv__()`"
   ]
  },
  {
   "cell_type": "code",
   "execution_count": 3,
   "id": "be758e75",
   "metadata": {},
   "outputs": [],
   "source": [
    "# 아래 코드의 주석을 해제하고 실행하라.\n",
    "\n",
    "# assert f1 - f2 == Fraction(5, 12)\n",
    "# assert f1 * f2 == Fraction(1, 6)\n",
    "# assert f1 / f2 == Fraction(8, 3)"
   ]
  },
  {
   "cell_type": "markdown",
   "id": "baf89122",
   "metadata": {},
   "source": [
    "**문제 2**"
   ]
  },
  {
   "cell_type": "markdown",
   "id": "1000b8dd",
   "metadata": {},
   "source": [
    "`Fraction` 클래스가 크기비교를 지원하도록\n",
    "다음 비교 연산자들을 구현하라.\n",
    "\n",
    "* `__ne__()`\n",
    "* `__gt__()`\n",
    "* `__ge__()`\n",
    "* `__lt__()`\n",
    "* `__le__()`"
   ]
  },
  {
   "cell_type": "code",
   "execution_count": 4,
   "id": "55e5d4db",
   "metadata": {},
   "outputs": [],
   "source": [
    "# 아래 코드의 주석을 해제하고 실행하라.\n",
    "\n",
    "# assert (f1 != f2) == True\n",
    "# assert (f1 > f2) == True\n",
    "# assert (f1 >= f2) == True\n",
    "# assert (f1 < f2) == False\n",
    "# assert (f1 <= f2) == False"
   ]
  },
  {
   "cell_type": "markdown",
   "id": "bef9ea1a",
   "metadata": {},
   "source": [
    "**문제 3**"
   ]
  },
  {
   "cell_type": "markdown",
   "id": "bfdcfce5",
   "metadata": {},
   "source": [
    "`Fraction` 클래스의 객체가 항상 기약분수의 형태로 분모와 분자를 사용하도록 \n",
    "`__init__()` 메서드를 수정하고 활용예제를 제시하라. \n",
    "\n",
    "힌트: 최대공약수를 계산하는 함수를 활용해야 한다.\n",
    "또한 `__add__()` 등 연산 메서드에서 더 이상 기약분수로 변환할 필요가 없어진다."
   ]
  },
  {
   "cell_type": "markdown",
   "id": "7966e144",
   "metadata": {},
   "source": [
    "**문제 4**"
   ]
  },
  {
   "cell_type": "markdown",
   "id": "0c836c07",
   "metadata": {},
   "source": [
    "분자와 분모로 입력된 값이 정수임을 확인하도록 생성자 메서드를 수정하고 활용예제를 제시하라.\n",
    "정수 이외의 값이 입력되면 예외가 발생하도록 해야 한다.\n",
    "\n",
    "힌트: `isinstance()` 함수, `raise` 키워드, `TypeError` 객체 활용"
   ]
  },
  {
   "cell_type": "markdown",
   "id": "67f8bb46",
   "metadata": {},
   "source": [
    "**문제 5**"
   ]
  },
  {
   "cell_type": "markdown",
   "id": "c34677c7",
   "metadata": {},
   "source": [
    "앞서 사용한 유클리드 호젯법 알고리즘은 양의 정수에 대해서만 옳바르게 작동한다.\n",
    "예를 들어 아래의 경우처럼 잘못 계산한다. \n",
    "참고로 최대공약수는 항상 양수이어야 한다."
   ]
  },
  {
   "cell_type": "markdown",
   "id": "4763aa89",
   "metadata": {},
   "source": [
    "```python\n",
    ">>> gcd(8, -2)\n",
    "-2\n",
    "```"
   ]
  },
  {
   "cell_type": "markdown",
   "id": "86a22cdb",
   "metadata": {},
   "source": [
    "이는 음의 분수를 사용할 때 `Fraction` 클래스의 기능에 문제가 발생할 수 있음을 의미한다.\n",
    "\n",
    "유클리드 호젯법 대신에 다른 알고리즘을 사용하는 `gcd()` 함수를 구현하고\n",
    "이를 `Fraction` 클래스에 활용하는 예제를 제시하라.\n",
    "단, 양수, 음수 모두 문제없이 처리해야 한다."
   ]
  },
  {
   "cell_type": "markdown",
   "id": "098257b4",
   "metadata": {},
   "source": [
    "**문제 6**"
   ]
  },
  {
   "cell_type": "markdown",
   "id": "e9f532b3",
   "metadata": {},
   "source": [
    "컴퓨터가 제공하는 부동소수점은 불완전하다.\n",
    "예를 들어, 아래 코드는 10분의 1을 10번 더했을 때 \n",
    "1이 계산되지 않음을 보여준다."
   ]
  },
  {
   "cell_type": "code",
   "execution_count": 5,
   "id": "03e378e6",
   "metadata": {},
   "outputs": [
    {
     "name": "stdout",
     "output_type": "stream",
     "text": [
      "0.9999999999999999\n",
      "False\n"
     ]
    }
   ],
   "source": [
    "x = 0.1\n",
    "y = 0\n",
    "\n",
    "for _ in range(10): \n",
    "    y += x\n",
    "    \n",
    "print(y)    \n",
    "print(y == 1.0)"
   ]
  },
  {
   "cell_type": "markdown",
   "id": "29787b22",
   "metadata": {},
   "source": [
    "분수 클래스 `Fraction`를 이용하면 보다 엄밀한 계산이 가능함을 보여라.\n",
    "\n",
    "힌트: `to_float()` 메서드 활용"
   ]
  },
  {
   "cell_type": "code",
   "execution_count": 6,
   "id": "e1a9be1c",
   "metadata": {},
   "outputs": [],
   "source": [
    "# pass 를 적적할 코드로 변경한 다음에 assert 문의 주석을 해제하고 실행하라.\n",
    "\n",
    "fx = Fraction(1, 10)\n",
    "fy = Fraction(0, 1)\n",
    "\n",
    "pass\n",
    "\n",
    "# assert fy.to_float() == 1.0"
   ]
  }
 ],
 "metadata": {
  "kernelspec": {
   "display_name": "Python 3 (ipykernel)",
   "language": "python",
   "name": "python3"
  },
  "language_info": {
   "codemirror_mode": {
    "name": "ipython",
    "version": 3
   },
   "file_extension": ".py",
   "mimetype": "text/x-python",
   "name": "python",
   "nbconvert_exporter": "python",
   "pygments_lexer": "ipython3",
   "version": "3.10.9"
  }
 },
 "nbformat": 4,
 "nbformat_minor": 5
}
