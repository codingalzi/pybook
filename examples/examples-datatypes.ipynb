{
 "cells": [
  {
   "cell_type": "markdown",
   "id": "2d03d247-e2d3-4afe-ab5e-83dc989ed62d",
   "metadata": {},
   "source": [
    "# (필수 예제) 기초 자료형"
   ]
  },
  {
   "cell_type": "code",
   "execution_count": 1,
   "id": "7865fd90",
   "metadata": {},
   "outputs": [],
   "source": [
    "from random import randint"
   ]
  },
  {
   "cell_type": "markdown",
   "id": "fd12dc3c",
   "metadata": {},
   "source": [
    "**문제 1**"
   ]
  },
  {
   "cell_type": "markdown",
   "id": "1539888f",
   "metadata": {},
   "source": [
    "1부터 999,999 사이의 임의의 정수가 주어졌을 때 \n",
    "해당 수를 지정된 방식으로 출력하는 코드를 작성하라.\n",
    "\n",
    "예를 들어 123을 아래와 같이 출력해야 한다.\n",
    "\n",
    "```python\n",
    "입력하신 숫자는 000123입니다.\n",
    "```\n",
    "\n",
    "힌트: `randint()` 함수와 문자열 포매팅 활용. "
   ]
  },
  {
   "cell_type": "code",
   "execution_count": 2,
   "id": "7a594361",
   "metadata": {},
   "outputs": [],
   "source": [
    "# 코드를 작성하세요.\n",
    "# 필요하면 코드셀 또는 텍스트셀을 추가할 수 있습니다.\n",
    "\n",
    "# input = randint(1, 999999)"
   ]
  },
  {
   "cell_type": "markdown",
   "id": "e6920a3e",
   "metadata": {},
   "source": [
    "**문제 2**"
   ]
  },
  {
   "cell_type": "markdown",
   "id": "6f1738d6",
   "metadata": {},
   "source": [
    "오늘의 요일이 주어질 때, 100일 후의 요일을 출력하는 코드를 작성하여라.\n",
    "단, 일, 월, 화, 수, 목, 금, 토 각각은 0, 1, 2, 3, 4, 5, 6 으로 대신한다.\n",
    "단, 오늘의 요일은 0부터 6 사이의 수로 무작위적으로 선택된다."
   ]
  },
  {
   "cell_type": "code",
   "execution_count": 3,
   "id": "6d0bc43b",
   "metadata": {},
   "outputs": [],
   "source": [
    "# 코드를 작성하세요.\n",
    "# 필요하면 코드셀 또는 텍스트셀을 추가할 수 있습니다.\n",
    "\n",
    "# today = randint(0, 6)"
   ]
  },
  {
   "cell_type": "markdown",
   "id": "f8b61e28",
   "metadata": {},
   "source": [
    "**문제 3**"
   ]
  },
  {
   "cell_type": "markdown",
   "id": "edab045d",
   "metadata": {},
   "source": [
    "주민등록번호 881120-1068234 등이 주워지면\n",
    "연월일(YYMMDD) 부분과 나머지 부분으로 구분하여 출력하는 코드를 작성하라.\n",
    "단, 주민등록번호는 `randint()` 함수를 이용하여 무작위로 생성한다. \n",
    "뒤 7자리는 1에서 4 사이의 숫자로 시작함에 주의하라. \n",
    "출력은 다음 형식으로 이루워져야 한다.\n",
    "\n",
    "```python\n",
    "생년월일: 881120\n",
    "  나머지: 1068234\n",
    "```\n",
    "\n",
    "힌트: 112500 등 실존하지 않는 생년월일을 피하기 위한 여러 가지 방식이 있을 수 있다. 제한을 가하거나, 아니면 특정 기준에 맞는 값이 나올 때까지 반복하면 된다. 아니면 6자리 수가 아닌 두 자리 수를 세 번 생성하여 결합할 수도 있다. "
   ]
  },
  {
   "cell_type": "code",
   "execution_count": 4,
   "id": "a0a18ca2",
   "metadata": {},
   "outputs": [],
   "source": [
    "# 코드를 작성하세요.\n",
    "# 필요하면 코드셀 또는 텍스트셀을 추가할 수 있습니다."
   ]
  },
  {
   "cell_type": "markdown",
   "id": "df172b35",
   "metadata": {},
   "source": [
    "**문제 4**"
   ]
  },
  {
   "cell_type": "markdown",
   "id": "bb93953a",
   "metadata": {},
   "source": [
    "주민등록번호 뒷자리의 맨 첫 번째 숫자는 성별을 나타낸다. \n",
    "주민등록번호에서 성별을 나타내는 숫자를 \n",
    "아래 형식으로 출력하는 코드를 작성하라.\n",
    "\n",
    "힌트: 문자열 인덱싱을 활용한다."
   ]
  },
  {
   "cell_type": "markdown",
   "id": "daa7d0db",
   "metadata": {},
   "source": [
    "출력:\n",
    "\n",
    "```python\n",
    "성별: 1 (남성)\n",
    "```"
   ]
  },
  {
   "cell_type": "markdown",
   "id": "024c938b",
   "metadata": {},
   "source": [
    "출력:\n",
    "\n",
    "```python\n",
    "성별: 2 (여성)\n",
    "```"
   ]
  },
  {
   "cell_type": "code",
   "execution_count": 5,
   "id": "38449d7a",
   "metadata": {},
   "outputs": [],
   "source": [
    "# 코드를 작성하세요.\n",
    "# 필요하면 코드셀 또는 텍스트셀을 추가할 수 있습니다.\n"
   ]
  },
  {
   "cell_type": "markdown",
   "id": "2ed2bcc5",
   "metadata": {},
   "source": [
    "**문제 5**"
   ]
  },
  {
   "cell_type": "markdown",
   "id": "5b0712cf",
   "metadata": {},
   "source": [
    "다음과 같이 `a`, `b` 두 변수를 선언한 후 `a` 의 두 번째 요솟값을 변경하면 `b` 의 값은 \n",
    "어떻게 되는지 확인하고 그 이유를 설명하라."
   ]
  },
  {
   "cell_type": "code",
   "execution_count": 6,
   "id": "6b7fba36",
   "metadata": {},
   "outputs": [],
   "source": [
    "# a = b = [1, 2, 3]\n",
    "# a[1] = 4\n",
    "# print(b)"
   ]
  },
  {
   "cell_type": "markdown",
   "id": "e651f918",
   "metadata": {},
   "source": [
    "설명하세요.\n",
    "\n",
    "..."
   ]
  },
  {
   "cell_type": "markdown",
   "id": "036a132a",
   "metadata": {},
   "source": [
    "**문제 6**"
   ]
  },
  {
   "cell_type": "markdown",
   "id": "9003b7a9",
   "metadata": {
    "id": "kkbD-sw3IsYs"
   },
   "source": [
    "과일 이름으로 구성된 문자열 하나가 주어졌다."
   ]
  },
  {
   "cell_type": "code",
   "execution_count": 7,
   "id": "fc8642e5",
   "metadata": {
    "id": "kkbD-sw3IsYs"
   },
   "outputs": [],
   "source": [
    "fruit = \"banana apple orange pineapple mango strawberry cherry\""
   ]
  },
  {
   "cell_type": "markdown",
   "id": "4fa6ee61",
   "metadata": {
    "id": "dBAG4HeAKjNv"
   },
   "source": [
    "(1) `fruit` 변수로부터 her 문자열을 추출하는 코드를 작성하여라."
   ]
  },
  {
   "cell_type": "code",
   "execution_count": 8,
   "id": "8afad734",
   "metadata": {},
   "outputs": [],
   "source": [
    "# 코드를 작성하세요.\n",
    "# 필요하면 코드셀 또는 텍스트셀을 추가할 수 있습니다.\n"
   ]
  },
  {
   "cell_type": "markdown",
   "id": "0865ae3e",
   "metadata": {
    "id": "E9PvHGphK_qP"
   },
   "source": [
    "(2) `fruit` 변수로부터 oae 문자열을 추출하는 코드를 작성하여라."
   ]
  },
  {
   "cell_type": "code",
   "execution_count": 9,
   "id": "d4be7124",
   "metadata": {},
   "outputs": [],
   "source": [
    "# 코드를 작성하세요.\n",
    "# 필요하면 코드셀 또는 텍스트셀을 추가할 수 있습니다.\n"
   ]
  },
  {
   "cell_type": "markdown",
   "id": "5caed8e2",
   "metadata": {
    "id": "9c62tWuBLr5c"
   },
   "source": [
    "(3) `fruit` 변수로부터 yrrehc 문자열을 추출하는 코드를 작성하여라."
   ]
  },
  {
   "cell_type": "code",
   "execution_count": 10,
   "id": "f6fb4d57",
   "metadata": {},
   "outputs": [],
   "source": [
    "# 코드를 작성하세요.\n",
    "# 필요하면 코드셀 또는 텍스트셀을 추가할 수 있습니다.\n"
   ]
  },
  {
   "cell_type": "markdown",
   "id": "e613b028",
   "metadata": {},
   "source": [
    "**문제 7**"
   ]
  },
  {
   "cell_type": "markdown",
   "id": "3de55c80",
   "metadata": {
    "id": "B33dgBTeoy23"
   },
   "source": [
    "다음 문자열이 주어졌다.\n",
    "\n",
    "```python\n",
    "'n o r t h w e s t e r n'\n",
    "```\n",
    "\n",
    "위 문자열을 이용하여 아래 문자열을 생성하는 코드를 작성하라.\n",
    "\n",
    "```python\n",
    "'Northwestern'\n",
    "```"
   ]
  },
  {
   "cell_type": "code",
   "execution_count": 11,
   "id": "be2a782b",
   "metadata": {},
   "outputs": [],
   "source": [
    "# 코드를 작성하세요.\n",
    "# 필요하면 코드셀 또는 텍스트셀을 추가할 수 있습니다.\n"
   ]
  },
  {
   "cell_type": "markdown",
   "id": "520b5dab",
   "metadata": {},
   "source": [
    "**문제 8**"
   ]
  },
  {
   "cell_type": "markdown",
   "id": "62b4ffe3",
   "metadata": {
    "id": "ngzxeTGTpXrG"
   },
   "source": [
    "아래 노래 가사를 활용하는 문제이다."
   ]
  },
  {
   "cell_type": "code",
   "execution_count": 12,
   "id": "de3b3096",
   "metadata": {
    "id": "ngzxeTGTpXrG"
   },
   "outputs": [],
   "source": [
    "song = \"When you are smiling, the whole world smiles with you\""
   ]
  },
  {
   "cell_type": "markdown",
   "id": "b8cc3285",
   "metadata": {
    "id": "ngzxeTGTpXrG"
   },
   "source": [
    "(1) `for` 문을 사용하여 `song`에서 `a`가 등장하는 횟수를 구하는 코드를 작성하라.  "
   ]
  },
  {
   "cell_type": "code",
   "execution_count": 13,
   "id": "0450781b",
   "metadata": {},
   "outputs": [],
   "source": [
    "# 코드를 작성하세요.\n",
    "# 필요하면 코드셀 또는 텍스트셀을 추가할 수 있습니다.\n"
   ]
  },
  {
   "cell_type": "markdown",
   "id": "73bd79a3",
   "metadata": {
    "id": "S2R5xEZyrCYh"
   },
   "source": [
    "(2) 반복문을 사용하여  `song`에서 대소문자 구별없이 `w`가 등장하는 횟수를 구하는 코드를 작성하라."
   ]
  },
  {
   "cell_type": "code",
   "execution_count": 14,
   "id": "e559adb3",
   "metadata": {},
   "outputs": [],
   "source": [
    "# 코드를 작성하세요.\n",
    "# 필요하면 코드셀 또는 텍스트셀을 추가할 수 있습니다.\n"
   ]
  },
  {
   "cell_type": "markdown",
   "id": "264f343d",
   "metadata": {},
   "source": [
    "**문제 9**"
   ]
  },
  {
   "cell_type": "markdown",
   "id": "2c45e398",
   "metadata": {
    "id": "cdWbYJ-Ws00D"
   },
   "source": [
    "`num`이 가리키는 정수가 숫자 3을 포함하는 경우에는\n",
    "`num` 의 세 배를 출력하고, \n",
    "아닌 경우에는 `num` 에서 2를 뺀 값을 출력하는 코드를 작성하라.\n",
    "단, `num` 이 가리키는 수는 임의로 생성된 세 자리 수이어야 한다."
   ]
  },
  {
   "cell_type": "code",
   "execution_count": 15,
   "id": "d5d87f68",
   "metadata": {},
   "outputs": [],
   "source": [
    "# 코드를 작성하세요.\n",
    "# 필요하면 코드셀 또는 텍스트셀을 추가할 수 있습니다.\n",
    "\n",
    "# num = 123\n",
    "# 출력: 369"
   ]
  },
  {
   "cell_type": "markdown",
   "id": "93c7f510",
   "metadata": {},
   "source": [
    "**문제 10**"
   ]
  },
  {
   "cell_type": "markdown",
   "id": "8e6d6612",
   "metadata": {
    "id": "KSHjiCE0nlrM"
   },
   "source": [
    "정수 나눗셈의 몫을 계산하는 코드를 `while` 반복문을 이용하여 구현한다.\n",
    "단, 분자와 분모는 임의로 생성하며, 분자는 두 자리 정수, 분모는 한 자리 정수로 제한한다.\n",
    "또한 몫 연산자 `//` 는 허용되지 않으며 덧셈과 뺄셈만 사용한다. "
   ]
  },
  {
   "cell_type": "code",
   "execution_count": 16,
   "id": "5753542f",
   "metadata": {},
   "outputs": [],
   "source": [
    "# 아래 변수를 이용하세요.\n",
    "\n",
    "# number = None\n",
    "# divisor = None\n",
    "# answer = None"
   ]
  },
  {
   "cell_type": "markdown",
   "id": "a9bb5495",
   "metadata": {
    "id": "gMpJAk7d9-9H"
   },
   "source": [
    "**문제 11**"
   ]
  },
  {
   "cell_type": "markdown",
   "id": "2a18be3b",
   "metadata": {
    "id": "gMpJAk7d9-9H"
   },
   "source": [
    "어느 한 택배사의 무게에 따른 가격표가 다음과 같다.\n",
    "\n",
    "| 5kg 미만 | 5kg 이상~10kg 미만 | 10kg 이상 |\n",
    "|:-------:|:--------------------:|:---------:|\n",
    "|5.000원 | 8,000원| 10,000원|\n",
    "\n",
    "우편물의 무게가 임의의 자연수로 주어졌을 때, 택배 가격을 알려주는 프로그램을 만들어라.\n",
    "단, 우편물의 무게는 최대 두 자리 수로 제한한다."
   ]
  },
  {
   "cell_type": "code",
   "execution_count": 17,
   "id": "988922a6",
   "metadata": {},
   "outputs": [],
   "source": [
    "# 코드를 작성하세요.\n",
    "# 필요하면 코드셀 또는 텍스트셀을 추가할 수 있습니다.\n"
   ]
  },
  {
   "cell_type": "markdown",
   "id": "6e53793d",
   "metadata": {
    "id": "j5Yd_UXFuSHE"
   },
   "source": [
    "**문제 12**"
   ]
  },
  {
   "cell_type": "markdown",
   "id": "a8aa77ea",
   "metadata": {
    "id": "j5Yd_UXFuSHE"
   },
   "source": [
    "0부터 100까지의 숫자 중에서 3의 배수와 7의 배수를 모두 찾아 출력한 다음, \n",
    "찾은 수들을 모두 더하여 아래와 같이 출력하는 코드를 작성하여라.\n",
    "\n",
    "```python\n",
    "0~100의 숫자 중 3의 배수와 7의 배수들의 합은 OOO이다.\n",
    "```"
   ]
  },
  {
   "cell_type": "code",
   "execution_count": 18,
   "id": "55b1f86c",
   "metadata": {},
   "outputs": [],
   "source": [
    "# 코드를 작성하세요.\n",
    "# 필요하면 코드셀 또는 텍스트셀을 추가할 수 있습니다.\n"
   ]
  },
  {
   "cell_type": "markdown",
   "id": "03e30c2a",
   "metadata": {
    "id": "7zN5nuZEGlZS"
   },
   "source": [
    "**문제 13**"
   ]
  },
  {
   "cell_type": "markdown",
   "id": "096af73f",
   "metadata": {
    "id": "7zN5nuZEGlZS"
   },
   "source": [
    "임의의 자연수 n이 주어졌을 때, 1부터 n까지의 자연수 중에서 3의 배수이거나 \n",
    "3을 포함하는 숫자들의 합을 구하여라.\n",
    "단, n 은 두 자리의 수로 제한한다."
   ]
  },
  {
   "cell_type": "code",
   "execution_count": 19,
   "id": "d5b08dc5",
   "metadata": {},
   "outputs": [],
   "source": [
    "# 코드를 작성하세요.\n",
    "# 필요하면 코드셀 또는 텍스트셀을 추가할 수 있습니다.\n"
   ]
  },
  {
   "cell_type": "markdown",
   "id": "fd2fc091",
   "metadata": {
    "id": "DL3G4F7CmkA1"
   },
   "source": [
    "**문제 14**"
   ]
  },
  {
   "cell_type": "markdown",
   "id": "67fa0cc6",
   "metadata": {
    "id": "DL3G4F7CmkA1"
   },
   "source": [
    "자연수 n이 주어졌을 때, n의 약수를 모두 출력하는 코드를 작성하여라. \n",
    "단, n 은 두 자리의 수로 제한한다."
   ]
  },
  {
   "cell_type": "code",
   "execution_count": 20,
   "id": "b8c82db8",
   "metadata": {},
   "outputs": [],
   "source": [
    "# 코드를 작성하세요.\n",
    "# 필요하면 코드셀 또는 텍스트셀을 추가할 수 있습니다.\n"
   ]
  },
  {
   "cell_type": "markdown",
   "id": "beba89dc",
   "metadata": {
    "id": "DL3G4F7CmkA1"
   },
   "source": [
    "**문제 15**"
   ]
  },
  {
   "cell_type": "markdown",
   "id": "f9febfa4",
   "metadata": {},
   "source": [
    "일찍 태어난 사람이 늦게 태어난 사람보다 정확히 두 배의 나이를 갖는 경우가 발생한다. \n",
    "예를 들어, 2003년 7월 12일에 태어난 사람과 2006년 9월 30일에 태어난 사람은\n",
    "2009년 12월 19일에 서로의 나이가 딱 두 배가 된다.\n",
    "\n",
    "이를 확인하는 코드를 `Timestamp` 자료형을 이용하여 작성하라."
   ]
  },
  {
   "cell_type": "code",
   "execution_count": 21,
   "id": "04a0dc66",
   "metadata": {},
   "outputs": [],
   "source": [
    "import pandas as pd \n",
    "\n",
    "d1 = pd.Timestamp('2003-07-12')\n",
    "d2 = pd.Timestamp('2006-09-30')"
   ]
  },
  {
   "cell_type": "code",
   "execution_count": 22,
   "id": "291e563f",
   "metadata": {},
   "outputs": [],
   "source": [
    "# 코드를 작성하세요.\n",
    "# 필요하면 코드셀 또는 텍스트셀을 추가할 수 있습니다.\n"
   ]
  },
  {
   "cell_type": "markdown",
   "id": "5d91f83d",
   "metadata": {
    "id": "DL3G4F7CmkA1"
   },
   "source": [
    "**문제 16**"
   ]
  },
  {
   "cell_type": "markdown",
   "id": "db3d1a42",
   "metadata": {},
   "source": [
    "아래 명령문을 실행할 때 오류가 발생한다. 이유가 무엇인가?\n",
    "\n",
    "```python\n",
    "if 3/0 or True:\n",
    "    print(\"나는 출력되지 않아요.\")\n",
    "```\n",
    "\n",
    "이유를 설명하세요."
   ]
  },
  {
   "cell_type": "markdown",
   "id": "d4b81c5f",
   "metadata": {
    "id": "DL3G4F7CmkA1"
   },
   "source": [
    "**문제 17**"
   ]
  },
  {
   "cell_type": "markdown",
   "id": "c5d52f6b",
   "metadata": {},
   "source": [
    "아래 명령문을 실행할 때 오류가 발생하지 않는다. 이유가 무엇인가?\n",
    "\n",
    "```python\n",
    "if True or 3/0:\n",
    "    print(\"오류가 발생하지 않아요.\")\n",
    "```\n",
    "\n",
    "이유를 설명하세요."
   ]
  },
  {
   "cell_type": "markdown",
   "id": "973ea971",
   "metadata": {
    "id": "xygzJ5410LMv"
   },
   "source": [
    "## 예제 5"
   ]
  },
  {
   "cell_type": "markdown",
   "id": "7b0f6ba2",
   "metadata": {},
   "source": [
    "**코드 1**"
   ]
  },
  {
   "cell_type": "markdown",
   "id": "8400d915",
   "metadata": {
    "id": "oMsxIe_500xd"
   },
   "source": [
    "아래 내용의 논리식을 할당받는 변수 `p1`을 선언한 후에 `p1`에 할당된 진리값을 확인한다.\n",
    "\n",
    "> 정수 3과 문자열 '3'이 다른지 여부 판단"
   ]
  },
  {
   "cell_type": "markdown",
   "id": "40cf018a",
   "metadata": {},
   "source": [
    "모범 답안:\n",
    "\n",
    "두 값이 다른지 여부는 `!=` 연산자를 이용하여 표현."
   ]
  },
  {
   "cell_type": "code",
   "execution_count": 1,
   "id": "271a342b",
   "metadata": {},
   "outputs": [
    {
     "data": {
      "text/plain": [
       "True"
      ]
     },
     "execution_count": 1,
     "metadata": {},
     "output_type": "execute_result"
    }
   ],
   "source": [
    "p1 = 3 != '3'\n",
    "p1"
   ]
  },
  {
   "cell_type": "markdown",
   "id": "dbd66cb3",
   "metadata": {},
   "source": [
    "**코드 2**"
   ]
  },
  {
   "cell_type": "markdown",
   "id": "c7670415",
   "metadata": {
    "id": "oMsxIe_500xd"
   },
   "source": [
    "아래 내용의 논리식을 할당받는 변수 `p2`를 선언한 후에 `p2`에 할당된 진리값을 확인한다.\n",
    "\n",
    "> \"파이썬\"과 \"Python\"이 같은지 여부 판단"
   ]
  },
  {
   "cell_type": "markdown",
   "id": "df81a90e",
   "metadata": {},
   "source": [
    "모범 답안:\n",
    "\n",
    "두 값이 같은지 여부는 `==` 연산자를 이용하여 표현."
   ]
  },
  {
   "cell_type": "code",
   "execution_count": 3,
   "id": "29ab627b",
   "metadata": {},
   "outputs": [
    {
     "data": {
      "text/plain": [
       "False"
      ]
     },
     "execution_count": 3,
     "metadata": {},
     "output_type": "execute_result"
    }
   ],
   "source": [
    "p2 = \"파이썬\" == \"Python\"\n",
    "p2"
   ]
  },
  {
   "cell_type": "markdown",
   "id": "44730e73",
   "metadata": {},
   "source": [
    "**코드 3**"
   ]
  },
  {
   "cell_type": "markdown",
   "id": "86e82e36",
   "metadata": {
    "id": "oMsxIe_500xd"
   },
   "source": [
    "아래의 내용을 담은 논리식을 작성하고 `True` 또는 `False`로 계산되는지 실행 결과를 설명한다.\n",
    "\n",
    "> p2와 p1 모두 참인지 여부 판단"
   ]
  },
  {
   "cell_type": "markdown",
   "id": "7fd7b975",
   "metadata": {},
   "source": [
    "모범 답안:"
   ]
  },
  {
   "cell_type": "markdown",
   "id": "bd5bf95e",
   "metadata": {},
   "source": [
    "\"... 와 ...\"는 `and` 연산자에 해당한다.\n",
    "따라서 아래 논리식으로 위 내용을 표현할 수 있다."
   ]
  },
  {
   "cell_type": "code",
   "execution_count": 4,
   "id": "73b07397",
   "metadata": {},
   "outputs": [
    {
     "data": {
      "text/plain": [
       "False"
      ]
     },
     "execution_count": 4,
     "metadata": {},
     "output_type": "execute_result"
    }
   ],
   "source": [
    "p2 and p1"
   ]
  },
  {
   "cell_type": "markdown",
   "id": "ea3ab4b3",
   "metadata": {},
   "source": [
    "`and` 연산자는 인자로 사용된 두 값이 모두 `True` 일 때만 `True`로 계산됨. \n",
    "그런데 `p2`가 `False` 이기에 위 논리식도 `False` 로 계산됨.\n",
    "`p1` 값은 중요하지 않고 확인하지도 않음."
   ]
  },
  {
   "cell_type": "markdown",
   "id": "9df20962",
   "metadata": {},
   "source": [
    "**코드 4**"
   ]
  },
  {
   "cell_type": "markdown",
   "id": "67336c67",
   "metadata": {
    "id": "oMsxIe_500xd"
   },
   "source": [
    "아래의 내용을 담은 논리식을 작성하고 `True` 또는 `False`로 계산되는지 실행 결과를 설명한다.\n",
    "\n",
    "> p1은 참이고 p2는 참이 아닌지 여부 판단"
   ]
  },
  {
   "cell_type": "markdown",
   "id": "0b067b85",
   "metadata": {},
   "source": [
    "모범 답안:"
   ]
  },
  {
   "cell_type": "markdown",
   "id": "a8281cb5",
   "metadata": {},
   "source": [
    "\"... 아닌지\"는 `not` 연산자에 해당하기에 아래와 같이 표현이 가능하다."
   ]
  },
  {
   "cell_type": "code",
   "execution_count": 5,
   "id": "b06162fc",
   "metadata": {},
   "outputs": [
    {
     "data": {
      "text/plain": [
       "True"
      ]
     },
     "execution_count": 5,
     "metadata": {},
     "output_type": "execute_result"
    }
   ],
   "source": [
    "p1 and (not p2)"
   ]
  },
  {
   "cell_type": "markdown",
   "id": "81c27df2",
   "metadata": {},
   "source": [
    "`p2`가 `False`로 계산되기 `not p2`는 `True` 로 계산됨.\n",
    "물론 `p1` 도 `True`이기 때문에 가능함."
   ]
  },
  {
   "cell_type": "markdown",
   "id": "ddab8246",
   "metadata": {},
   "source": [
    "부정 연산자 `not`의 우선순위가 `and`나 `or` 보다 높기에 아래처럼 괄호를 사용하지 않아도 됨."
   ]
  },
  {
   "cell_type": "code",
   "execution_count": 6,
   "id": "eb6e6da7",
   "metadata": {},
   "outputs": [
    {
     "data": {
      "text/plain": [
       "True"
      ]
     },
     "execution_count": 6,
     "metadata": {},
     "output_type": "execute_result"
    }
   ],
   "source": [
    "p1 and not p2"
   ]
  },
  {
   "cell_type": "markdown",
   "id": "7b762e12",
   "metadata": {},
   "source": [
    "**코드 5**"
   ]
  },
  {
   "cell_type": "markdown",
   "id": "153cd07f",
   "metadata": {
    "id": "oMsxIe_500xd"
   },
   "source": [
    "아래의 내용을 담은 논리식을 작성하고 `True` 또는 `False`로 계산되는지 실행 결과를 설명한다.\n",
    "\n",
    "> p1 또는 p2 중에 하나라도 참인지 여부 판단"
   ]
  },
  {
   "cell_type": "markdown",
   "id": "f30c2aa2",
   "metadata": {},
   "source": [
    "모범 답안:"
   ]
  },
  {
   "cell_type": "markdown",
   "id": "001415ef",
   "metadata": {},
   "source": [
    "\"... 또는 ...\"는 `or` 연산자에 해당하며 위 내용을 아래처럼 표현할 수 있다."
   ]
  },
  {
   "cell_type": "code",
   "execution_count": 7,
   "id": "6f960915",
   "metadata": {},
   "outputs": [
    {
     "data": {
      "text/plain": [
       "True"
      ]
     },
     "execution_count": 7,
     "metadata": {},
     "output_type": "execute_result"
    }
   ],
   "source": [
    "p1 or p2"
   ]
  },
  {
   "cell_type": "markdown",
   "id": "99afc562",
   "metadata": {},
   "source": [
    "`or` 연산자는 인자로 사용된 두 값 중에 하나라도 `True`로 계산되면 `True`로 계산됨. \n",
    "그런데 `p1`이 `True`이기에 위 논리식 또한 `True`로 계산됨.\n",
    "`p2` 값은 중요하지 않고 확인하지도 않음."
   ]
  },
  {
   "cell_type": "code",
   "execution_count": null,
   "id": "85bfdf89",
   "metadata": {},
   "outputs": [],
   "source": []
  }
 ],
 "metadata": {
  "kernelspec": {
   "display_name": "Python 3 (ipykernel)",
   "language": "python",
   "name": "python3"
  },
  "language_info": {
   "codemirror_mode": {
    "name": "ipython",
    "version": 3
   },
   "file_extension": ".py",
   "mimetype": "text/x-python",
   "name": "python",
   "nbconvert_exporter": "python",
   "pygments_lexer": "ipython3",
   "version": "3.11.4"
  },
  "toc-autonumbering": true,
  "toc-showcode": false,
  "toc-showmarkdowntxt": false,
  "vscode": {
   "interpreter": {
    "hash": "6c86b3592b6800d985c04531f2c445f0fa6967131b8dd6395a925f7622e55602"
   }
  }
 },
 "nbformat": 4,
 "nbformat_minor": 5
}
