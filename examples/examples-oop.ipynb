{
 "cells": [
  {
   "cell_type": "markdown",
   "id": "d85ece54",
   "metadata": {},
   "source": [
    "# (필수 예제) 객체 지향 프로그래밍"
   ]
  },
  {
   "cell_type": "markdown",
   "id": "ec8115ea",
   "metadata": {},
   "source": [
    "`Turtle` 모듈을 활용한다. "
   ]
  },
  {
   "cell_type": "markdown",
   "id": "16cd891e",
   "metadata": {},
   "source": [
    "## 예제 1"
   ]
  },
  {
   "cell_type": "markdown",
   "id": "529c08f5",
   "metadata": {},
   "source": [
    "다각형을 그리는 함수를 구현한다."
   ]
  },
  {
   "cell_type": "markdown",
   "id": "7fee7f7e",
   "metadata": {},
   "source": [
    "**질문 1**"
   ]
  },
  {
   "cell_type": "markdown",
   "id": "43c14336",
   "metadata": {},
   "source": [
    "아래 기능을 수행하는 함수 `square`를 구현하기\n",
    "* 매개변수 `t` 사용: 인자는 거북이 객체\n",
    "* 실행하면 정사각형 그리기"
   ]
  },
  {
   "cell_type": "markdown",
   "id": "00d0a00a",
   "metadata": {},
   "source": [
    "**질문 2**"
   ]
  },
  {
   "cell_type": "markdown",
   "id": "7aa1e104",
   "metadata": {},
   "source": [
    "`square` 함수에 `length` 매개변수 추가\n",
    "\n",
    "* 정사각형 한 변의 길이가 `length`의 인자값으로 지정"
   ]
  },
  {
   "cell_type": "markdown",
   "id": "80eee9bb",
   "metadata": {},
   "source": [
    "**질문 3**"
   ]
  },
  {
   "cell_type": "markdown",
   "id": "111b0834",
   "metadata": {},
   "source": [
    "`polygon` 함수 구현하기\n",
    "\n",
    "* `square` 함수를 일반화하여 다각형 그리기\n",
    "* 셋째 매개변수 `n` 사용.\n",
    "* 실행하면 한 변의 길이가 `length`인 `n`각형 그리기\n",
    "* 정 n-각형의 외각은 180/n 도 이다.\n",
    "<div align=\"center\" border=\"1px\"><img src=\"https://raw.githubusercontent.com/codingalzi/pybook/master/jupyter-book/images/ExternalAngles.png\" width=\"400\"/></div>\n",
    "\n",
    "<그림 출처: [wikipedia.org](https://ko.wikipedia.org/wiki/내각과_외각)>"
   ]
  },
  {
   "cell_type": "markdown",
   "id": "a7305360",
   "metadata": {},
   "source": [
    "## 예제 2"
   ]
  },
  {
   "cell_type": "markdown",
   "id": "0df2bb46",
   "metadata": {},
   "source": [
    "아래 그림의 도형을 그리는 함수들을 구현하라.\n",
    "\n",
    "힌트: 모범답안을 담고 있는 파이썬 코드가 \n",
    "[여기](http://greenteapress.com/thinkpython2/code/pie.py)에 \n",
    "있음."
   ]
  },
  {
   "cell_type": "markdown",
   "id": "5a69bfda",
   "metadata": {},
   "source": [
    "<div align=\"center\" border=\"1px\"><img src=\"https://raw.githubusercontent.com/codingalzi/pybook/master/jupyter-book/images/turtle04.png\" width=\"600\"/></div>"
   ]
  },
  {
   "cell_type": "markdown",
   "id": "c51767cf",
   "metadata": {},
   "source": [
    "## 예제 "
   ]
  },
  {
   "cell_type": "markdown",
   "id": "89bc04f6",
   "metadata": {},
   "source": [
    "아래와 같은 Spirograph를 그리는 코드를 작성하라.\n",
    "\n",
    "힌트: 모범답안을 담고 있는 파이썬 코드가 \n",
    "[여기](https://www.geeksforgeeks.org/print-a-spirograph-using-turtle-in-python/)에 \n",
    "있음."
   ]
  },
  {
   "cell_type": "markdown",
   "id": "65bb4712",
   "metadata": {},
   "source": [
    "<div align=\"center\" border=\"1px\"><img src=\"https://raw.githubusercontent.com/codingalzi/pybook/master/jupyter-book/images/circle-geek.png\" width=\"400\"/></div>\n",
    "\n",
    "<그림 출처: [geeks for geeks](https://www.geeksforgeeks.org/print-a-spirograph-using-turtle-in-python/)>    "
   ]
  },
  {
   "cell_type": "markdown",
   "id": "cd6cef29",
   "metadata": {},
   "source": [
    "## 예제 4"
   ]
  },
  {
   "cell_type": "markdown",
   "id": "ac07ca03",
   "metadata": {},
   "source": [
    "[아르키메데스 와선(spiral)](https://ko.wikipedia.org/wiki/와선)을 \n",
    "그리는 함수를 구현하라.\n",
    "\n",
    "힌트: 모범답안을 담고 있는 파이썬 코드가 \n",
    "[여기](http://greenteapress.com/thinkpython2/code/spiral.py)에 \n",
    "있음."
   ]
  },
  {
   "cell_type": "markdown",
   "id": "919bb777",
   "metadata": {},
   "source": [
    "<div align=\"center\" border=\"1px\"><img src=\"https://raw.githubusercontent.com/codingalzi/pybook/master/jupyter-book/images/spiral.png\" width=\"400\"/></div>\n",
    "\n",
    "<그림 출처: [wikipedia.org](https://ko.wikipedia.org/wiki/와선)>    "
   ]
  }
 ],
 "metadata": {
  "kernelspec": {
   "display_name": "Python 3 (ipykernel)",
   "language": "python",
   "name": "python3"
  },
  "language_info": {
   "codemirror_mode": {
    "name": "ipython",
    "version": 3
   },
   "file_extension": ".py",
   "mimetype": "text/x-python",
   "name": "python",
   "nbconvert_exporter": "python",
   "pygments_lexer": "ipython3",
   "version": "3.11.5"
  }
 },
 "nbformat": 4,
 "nbformat_minor": 5
}
