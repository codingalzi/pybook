{
 "cells": [
  {
   "cell_type": "markdown",
   "id": "d85ece54",
   "metadata": {},
   "source": [
    "# (필수 예제) 객체 지향 프로그래밍"
   ]
  },
  {
   "cell_type": "markdown",
   "id": "ec8115ea",
   "metadata": {},
   "source": [
    "`Turtle` 모듈을 활용한다. "
   ]
  },
  {
   "cell_type": "markdown",
   "id": "16cd891e",
   "metadata": {},
   "source": [
    "## 예제 1"
   ]
  },
  {
   "cell_type": "markdown",
   "id": "529c08f5",
   "metadata": {},
   "source": [
    "다각형을 그리는 함수를 구현한다."
   ]
  },
  {
   "cell_type": "markdown",
   "id": "7fee7f7e",
   "metadata": {},
   "source": [
    "**질문 1**"
   ]
  },
  {
   "cell_type": "markdown",
   "id": "43c14336",
   "metadata": {},
   "source": [
    "아래 기능을 수행하는 `square()` 함수를 구현하여라.\n",
    "\n",
    "* 매개변수 `t` 사용: 인자는 거북이 객체\n",
    "* 한 변의 길이가 `length`인 정사각형 그리기"
   ]
  },
  {
   "cell_type": "markdown",
   "id": "189cc8a3",
   "metadata": {},
   "source": [
    "예를 들어 `square(t, 100)`을 실행하면 아래와 같이 한 변의 길이가 100인 정사각형이 그려져야 한다."
   ]
  },
  {
   "cell_type": "markdown",
   "id": "252b6125",
   "metadata": {},
   "source": [
    "<div align=\"center\" border=\"1px\"><img src=\"https://raw.githubusercontent.com/codingalzi/pybook/master/jupyter-book/images/turtle19.png\" width=\"500\"/></div>"
   ]
  },
  {
   "cell_type": "markdown",
   "id": "02ce6849",
   "metadata": {},
   "source": [
    "답:"
   ]
  },
  {
   "cell_type": "markdown",
   "id": "3e969397",
   "metadata": {},
   "source": [
    "`square(t, length)`가 실행되었을 때\n",
    "거북이 `t`가 한 변의 길이가 `length`인 정사각형은 아래 코드를 통해 그릴 수 있다."
   ]
  },
  {
   "cell_type": "markdown",
   "id": "49be4978",
   "metadata": {},
   "source": [
    "```python\n",
    "for _ in range(4):\n",
    "    t.forward(length)\n",
    "    t.left(90)\n",
    "```"
   ]
  },
  {
   "cell_type": "markdown",
   "id": "9789a438",
   "metadata": {},
   "source": [
    "따라서 `square()` 함수를 다음과 같이 선언한다."
   ]
  },
  {
   "cell_type": "markdown",
   "id": "d95e057b",
   "metadata": {},
   "source": [
    "```python\n",
    "def square(t, length):\n",
    "  for _ in range(4):\n",
    "    t.forward(length)\n",
    "    t.left(90)\n",
    "```"
   ]
  },
  {
   "cell_type": "markdown",
   "id": "217677e4",
   "metadata": {},
   "source": [
    "참고: [(레플릿) square](https://replit.com/@codingalzi/square)에서 실행 가능"
   ]
  },
  {
   "cell_type": "markdown",
   "id": "00d0a00a",
   "metadata": {},
   "source": [
    "**질문 2**"
   ]
  },
  {
   "cell_type": "markdown",
   "id": "638ea933",
   "metadata": {},
   "source": [
    "다음 조건을 만족시키는 `polygon()` 함수를 구현하여라.\n",
    "\n",
    "* `square()` 함수를 일반화하여 다각형 그리기\n",
    "* 셋째 매개변수 `n` 사용.\n",
    "* 실행하면 한 변의 길이가 `length`인 `n`각형 그리기\n",
    "\n",
    "힌트: 정 n-각형의 외각은 `360/n`"
   ]
  },
  {
   "cell_type": "markdown",
   "id": "111b0834",
   "metadata": {},
   "source": [
    "<p><div align=\"center\" border=\"1px\"><img src=\"https://raw.githubusercontent.com/codingalzi/pybook/master/jupyter-book/images/ExternalAngles.png\" width=\"300\"/></div></p>\n",
    "\n",
    "<그림 출처: [wikipedia.org](https://ko.wikipedia.org/wiki/내각과_외각)>"
   ]
  },
  {
   "cell_type": "markdown",
   "id": "d64820bd",
   "metadata": {},
   "source": [
    "답:"
   ]
  },
  {
   "cell_type": "markdown",
   "id": "317a7128",
   "metadata": {},
   "source": [
    "`polygon()` 함수가 다음 세 개의 인자를 받도록 한다.\n",
    "\n",
    "- `t`: 거북이 객체\n",
    "- `length`: 정사각형 한 변의 길이. 거북이의 전진 거리.\n",
    "- `n`: 정 n 다면체 지정"
   ]
  },
  {
   "cell_type": "markdown",
   "id": "271f415e",
   "metadata": {},
   "source": [
    "다각형을 그릴 때 거북이가 회전하는 각도는 위 그림에서 외각에 해당한다.\n",
    "n-각형의 외각은 360도를 n으로 나눈 값이다.\n",
    "이유는 n-번 회전하면 총 360도를 돌아 제 자리로 돌아오기 때문이다."
   ]
  },
  {
   "cell_type": "markdown",
   "id": "59af29e8",
   "metadata": {},
   "source": [
    "```python\n",
    "def polygon(t, length, n):\n",
    "    angle = 360/n\n",
    "    for _ in range(n):\n",
    "        t.forward(length)\n",
    "        t.left(angle)\n",
    "```"
   ]
  },
  {
   "cell_type": "markdown",
   "id": "7ef4fb11",
   "metadata": {},
   "source": [
    "예를 들어 `polygon(t, 50, 8)`은 한 변의 길이가 50인 정 8-각형을 그린다."
   ]
  },
  {
   "cell_type": "markdown",
   "id": "2f77be74",
   "metadata": {},
   "source": [
    "<div align=\"center\" border=\"1px\"><img src=\"https://raw.githubusercontent.com/codingalzi/pybook/master/jupyter-book/images/turtle18.png\" width=\"500\"/></div>"
   ]
  },
  {
   "cell_type": "markdown",
   "id": "d5e82643",
   "metadata": {},
   "source": [
    "참고: [(레플릿) polygon](https://replit.com/@codingalzi/polygon)에서 실행 가능"
   ]
  },
  {
   "cell_type": "markdown",
   "id": "a7305360",
   "metadata": {},
   "source": [
    "## 예제 2"
   ]
  },
  {
   "cell_type": "markdown",
   "id": "67b5bd80",
   "metadata": {},
   "source": [
    "**질문 1**"
   ]
  },
  {
   "cell_type": "markdown",
   "id": "471c023d",
   "metadata": {},
   "source": [
    "길이가 `r`인 두 등변의 꼭지각이 `2*angle`인 이등변 삼각형을 그리는\n",
    "`isosceles(t, r, angle)` 함수를 구현하라.\n",
    "단, `t`는 이등변 삼각형을 그리는 거북이 객체를 가리킨다.\n",
    "\n",
    "참고: `isosceles`는 '이등변의' 뜻을 가진 영어 단어. '아이사슬리즈' 라고 발음됨."
   ]
  },
  {
   "cell_type": "markdown",
   "id": "0a4e01da",
   "metadata": {},
   "source": [
    "답:"
   ]
  },
  {
   "cell_type": "markdown",
   "id": "27be73d5",
   "metadata": {},
   "source": [
    "`isosceles(t, r, angle)` 함수는 다음과 같이 구현할 수 있다.\n",
    "함수 본문에 사용된 지역 변수 `y`는 \n",
    "등변의 길이가 `r`이고 엇각이 `2*angle`인 이등변 삼각형의 빝변의 길이를 가리킨다."
   ]
  },
  {
   "cell_type": "markdown",
   "id": "6435dcb5",
   "metadata": {},
   "source": [
    "```python\n",
    "def isosceles(t, r, angle):\n",
    "    y = r * math.sin(angle * math.pi / 180) # 밑변의 길이\n",
    "    \n",
    "    # 이등변 삼각형 그리기\n",
    "    t.right(angle)\n",
    "    t.forward(r)\n",
    "    t..left(90+angle)\n",
    "    t.forward(2*y)\n",
    "    t..left(90+angle)\n",
    "    t.forward(r)\n",
    "    t..left(180-angle)\n",
    "```"
   ]
  },
  {
   "cell_type": "markdown",
   "id": "23cacb32",
   "metadata": {},
   "source": [
    "예를 들어 `isosceles(t, 100, 15)`을 호출하면 등변의 길이는 100, 꼭지각은 30도인 이등변 삼각형을 그린다."
   ]
  },
  {
   "cell_type": "markdown",
   "id": "3e3daf40",
   "metadata": {},
   "source": [
    "<div align=\"center\" border=\"1px\"><img src=\"https://raw.githubusercontent.com/codingalzi/pybook/master/jupyter-book/images/turtle10.png\" width=\"500\"/></div>"
   ]
  },
  {
   "cell_type": "markdown",
   "id": "52528467",
   "metadata": {},
   "source": [
    "참고: [(레플릿) isisceles](https://replit.com/@codingalzi/isisceles)에서 실행 가능"
   ]
  },
  {
   "cell_type": "markdown",
   "id": "ab58fe0c",
   "metadata": {},
   "source": [
    "**질문 2**"
   ]
  },
  {
   "cell_type": "markdown",
   "id": "1a6c6db4",
   "metadata": {},
   "source": [
    "다각형 파이 모양을 그리는 프로그램을 작성하라.\n",
    "단, 세 개의 매개 변수를 사용한다.\n",
    "\n",
    "- `t`: 거북이 객체\n",
    "- `n`: 정 n-각형 지정\n",
    "- `r`: 파이를 그릴 때 사용되는 이등변 삼각형의 등변 길이\n",
    "단, \n",
    "길이가 `r`인 두 등변의 꼭지각이 `2*angle`인 이등변 삼각형을 그리는\n",
    "`isosceles(t, r, angle)` 함수를 구현하라.\n",
    "단, `t`는 이등변 삼각형을 그리는 거북이 객체를 가리킨다.\n",
    "\n",
    "힌트: `isosceles()` 함수를 이용한다. "
   ]
  },
  {
   "cell_type": "markdown",
   "id": "feaf32b5",
   "metadata": {},
   "source": [
    "예를 들어 `polygon_pie(t, 5, 60)`은 아래 모양의 5각형 파이를 그려야 한다."
   ]
  },
  {
   "cell_type": "markdown",
   "id": "35e1dc77",
   "metadata": {},
   "source": [
    "<div align=\"center\" border=\"1px\"><img src=\"https://raw.githubusercontent.com/codingalzi/pybook/master/jupyter-book/images/turtle11.png\" width=\"500\"/></div>"
   ]
  },
  {
   "cell_type": "markdown",
   "id": "0ac34bc6",
   "metadata": {},
   "source": [
    "답:"
   ]
  },
  {
   "cell_type": "markdown",
   "id": "e890676a",
   "metadata": {},
   "source": [
    "이등변 삼각형으로 구성된 오각형 파이의 꼭지각은 72도다.\n",
    "등변의 길이가 40이고 꼭지각이 72도인 이등변 삼각형을 5개 그려야 한다.\n",
    "단, 이등변 삼각형을 하나 그릴 때마다 72 도씩 회전해야 한다.\n",
    "아래 코드가 설명한 내용을 구현한다.\n",
    "`t`는 하나의 거북이 객체를 가리킨다."
   ]
  },
  {
   "cell_type": "markdown",
   "id": "8924f544",
   "metadata": {},
   "source": [
    "```python\n",
    "n= 5\n",
    "r = 40\n",
    "\n",
    "angle = 360.0 / n\n",
    "\n",
    "for _ in range(n):\n",
    "    isosceles(t, r, angle/2)\n",
    "    t.left(angle)\n",
    "```"
   ]
  },
  {
   "cell_type": "markdown",
   "id": "efddffe0",
   "metadata": {},
   "source": [
    "**질문 3**"
   ]
  },
  {
   "cell_type": "markdown",
   "id": "0df2bb46",
   "metadata": {},
   "source": [
    "아래 그림에서처럼 n-각형 파이 모양의 도형을 그리는 `polypie(t, n, r)` 함수를 구현하여라.\n",
    "단, `t`는 거북이 객체, `r` 은 이등변 삼각형의 등변의 길이를 가리킨다.\n",
    "\n",
    "힌트: 이전 질문에서 구현한 오각형 파이 코드를 함수로 일반화 한다."
   ]
  },
  {
   "cell_type": "markdown",
   "id": "352c1975",
   "metadata": {},
   "source": [
    "<div align=\"center\" border=\"1px\"><img src=\"https://raw.githubusercontent.com/codingalzi/pybook/master/jupyter-book/images/turtle04.png\" width=\"500\"/></div>"
   ]
  },
  {
   "cell_type": "markdown",
   "id": "bfe33d07",
   "metadata": {},
   "source": [
    "답:"
   ]
  },
  {
   "cell_type": "markdown",
   "id": "1b5d0010",
   "metadata": {},
   "source": [
    "`polypie()`함수는 이전 코드를 본문으로 사용한다.\n",
    "단, `n`과 `r`을 함수의 매개변수로 지정한다."
   ]
  },
  {
   "cell_type": "markdown",
   "id": "3f3dbc87",
   "metadata": {},
   "source": [
    "```python\n",
    "def polypie(t, n, r):\n",
    "    angle = 360.0 / n\n",
    "    for _ in range(n):\n",
    "        isosceles(t, r, angle/2)\n",
    "        t.left(angle)\n",
    "```"
   ]
  },
  {
   "cell_type": "markdown",
   "id": "f9f16f21",
   "metadata": {},
   "source": [
    "아래 코드는 위 그림의 내용을 그대로 그린다.\n",
    "\n",
    "- `move_right()` 함수: 다각형 파이 하나를 완성한 후에 다음 다각형 파이를 그리기 위해 오른쪽으로 이동시킨다.\n",
    "\n",
    "참고: [(레플릿) pie](https://replit.com/@codingalzi/pie)에서 실행 가능"
   ]
  },
  {
   "cell_type": "markdown",
   "id": "c73c501b",
   "metadata": {},
   "source": [
    "```python\n",
    "import math\n",
    "import turtle\n",
    "\n",
    "# Fullscreen the canvas\n",
    "screen = turtle.Screen()\n",
    "screen.setup(1.0, 1.0)\n",
    "\n",
    "# 거북이 이동: 다각형 파이 하나 그리고 오른쪽으로 이동\n",
    "def move_right(t, r):  \n",
    "    t.penup()\n",
    "    t.forward(r*2 + 10)\n",
    "    t.pendown()\n",
    "\n",
    "# 다각형 파이 그리기\n",
    "def polypie(t, n, r):\n",
    "    angle = 360.0 / n\n",
    "    for _ in range(n):\n",
    "        isosceles(t, r, angle/2)\n",
    "        t.left(angle)\n",
    "\n",
    "# 이등변 삼각형 그리기: 등변 길이 r, 꼭지각 2*angle\n",
    "def isosceles(t, r, angle):\n",
    "    y = r * math.sin(angle * math.pi / 180)\n",
    "\n",
    "    t.right(angle)\n",
    "    t.forward(r)\n",
    "    t.left(90+angle)\n",
    "    t.forward(2*y)\n",
    "    t.left(90+angle)\n",
    "    t.forward(r)\n",
    "    t.left(180-angle)\n",
    "\n",
    "# 거북이 객체 생성\n",
    "bob = turtle.Turtle()\n",
    "bob.speed(5)\n",
    "\n",
    "bob.penup()\n",
    "bob.backward(130)\n",
    "bob.pendown()\n",
    "\n",
    "# 다각형 파이 그리기: 5-, 6-, 7-, 8-각형 파이\n",
    "size = 40\n",
    "\n",
    "for n in range(5, 9):\n",
    "    polypie(bob, n, size)\n",
    "    move_right(bob, size)\n",
    "\n",
    "# 마지막에 거북이 숨기기\n",
    "bob.hideturtle()\n",
    "\n",
    "turtle.mainloop()\n",
    "```"
   ]
  }
 ],
 "metadata": {
  "kernelspec": {
   "display_name": "Python 3 (ipykernel)",
   "language": "python",
   "name": "python3"
  },
  "language_info": {
   "codemirror_mode": {
    "name": "ipython",
    "version": 3
   },
   "file_extension": ".py",
   "mimetype": "text/x-python",
   "name": "python",
   "nbconvert_exporter": "python",
   "pygments_lexer": "ipython3",
   "version": "3.11.4"
  }
 },
 "nbformat": 4,
 "nbformat_minor": 5
}
