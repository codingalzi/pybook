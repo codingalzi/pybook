{
 "cells": [
  {
   "cell_type": "markdown",
   "id": "d85ece54",
   "metadata": {},
   "source": [
    "# (필수 예제) 객체 지향 프로그래밍"
   ]
  },
  {
   "cell_type": "markdown",
   "id": "ec8115ea",
   "metadata": {},
   "source": [
    "`Turtle` 모듈을 활용한다. "
   ]
  },
  {
   "cell_type": "markdown",
   "id": "16cd891e",
   "metadata": {},
   "source": [
    "## 예제 1"
   ]
  },
  {
   "cell_type": "markdown",
   "id": "529c08f5",
   "metadata": {},
   "source": [
    "다각형을 그리는 함수를 구현한다."
   ]
  },
  {
   "cell_type": "markdown",
   "id": "7fee7f7e",
   "metadata": {},
   "source": [
    "**질문 1**"
   ]
  },
  {
   "cell_type": "markdown",
   "id": "43c14336",
   "metadata": {},
   "source": [
    "아래 기능을 수행하는 `square()` 함수를 구현하여라.\n",
    "\n",
    "* 매개변수 `t` 사용: 인자는 거북이 객체\n",
    "* 실행하면 정사각형 그리기"
   ]
  },
  {
   "cell_type": "markdown",
   "id": "02ce6849",
   "metadata": {},
   "source": [
    "답:"
   ]
  },
  {
   "cell_type": "markdown",
   "id": "3e969397",
   "metadata": {},
   "source": [
    "`square()` 함수의 인자 `t`가 하나의 거북이 객체라고 가정했을 때\n",
    "한 변의 길이가 100인 정사각형은 아래 코드를 통해 그릴 수 있다."
   ]
  },
  {
   "cell_type": "markdown",
   "id": "49be4978",
   "metadata": {},
   "source": [
    "```python\n",
    "for _ in range(4):\n",
    "    t.forward(100)\n",
    "    t.left(90)\n",
    "```"
   ]
  },
  {
   "cell_type": "markdown",
   "id": "9789a438",
   "metadata": {},
   "source": [
    "따라서 `square()` 함수를 다음과 같이 선언한다."
   ]
  },
  {
   "cell_type": "markdown",
   "id": "d95e057b",
   "metadata": {},
   "source": [
    "```python\n",
    "def square(t):\n",
    "  for _ in range(4):\n",
    "    t.forward(100)\n",
    "    t.left(90)\n",
    "```"
   ]
  },
  {
   "cell_type": "markdown",
   "id": "217677e4",
   "metadata": {},
   "source": [
    "참고: [레플릿: square](https://replit.com/@codingalzi/square)에서 코드 직접 실행 가능"
   ]
  },
  {
   "cell_type": "markdown",
   "id": "00d0a00a",
   "metadata": {},
   "source": [
    "**질문 2**"
   ]
  },
  {
   "cell_type": "markdown",
   "id": "7aa1e104",
   "metadata": {},
   "source": [
    "`square` 함수에 `length` 매개변수를 추가하여 정사각형의 길이를 지정하여라."
   ]
  },
  {
   "cell_type": "markdown",
   "id": "db0d1182",
   "metadata": {},
   "source": [
    "답:"
   ]
  },
  {
   "cell_type": "markdown",
   "id": "958d0858",
   "metadata": {},
   "source": [
    "`square()` 함수가 다음 두 개의 인자를 받도록 한다.\n",
    "\n",
    "- `t`: 거북이 객체\n",
    "- `length`: 정사각형 한 변의 길이. 거북이의 전진 거리."
   ]
  },
  {
   "cell_type": "markdown",
   "id": "95a0c76d",
   "metadata": {},
   "source": [
    "```python\n",
    "def square(t, length):\n",
    "  for _ in range(4):\n",
    "    t.forward(length)\n",
    "    t.left(90)\n",
    "```"
   ]
  },
  {
   "cell_type": "markdown",
   "id": "b2aad2c8",
   "metadata": {},
   "source": [
    "참고: [레플릿: square2](https://replit.com/@codingalzi/square2)에서 코드 직접 실행 가능"
   ]
  },
  {
   "cell_type": "markdown",
   "id": "80eee9bb",
   "metadata": {},
   "source": [
    "**질문 3**"
   ]
  },
  {
   "cell_type": "markdown",
   "id": "638ea933",
   "metadata": {},
   "source": [
    "다음 조건을 만족시키는 `polygon` 함수를 구현하여라.\n",
    "\n",
    "* `square` 함수를 일반화하여 다각형 그리기\n",
    "* 셋째 매개변수 `n` 사용.\n",
    "* 실행하면 한 변의 길이가 `length`인 `n`각형 그리기\n",
    "\n",
    "힌트: 정 n-각형의 외각은 `360/n`"
   ]
  },
  {
   "cell_type": "markdown",
   "id": "111b0834",
   "metadata": {},
   "source": [
    "<p><div align=\"center\" border=\"1px\"><img src=\"https://raw.githubusercontent.com/codingalzi/pybook/master/jupyter-book/images/ExternalAngles.png\" width=\"400\"/></div></p>\n",
    "\n",
    "<그림 출처: [wikipedia.org](https://ko.wikipedia.org/wiki/내각과_외각)>"
   ]
  },
  {
   "cell_type": "markdown",
   "id": "d64820bd",
   "metadata": {},
   "source": [
    "답:"
   ]
  },
  {
   "cell_type": "markdown",
   "id": "317a7128",
   "metadata": {},
   "source": [
    "`polygon()` 함수가 다음 세 개의 인자를 받도록 한다.\n",
    "\n",
    "- `t`: 거북이 객체\n",
    "- `length`: 정사각형 한 변의 길이. 거북이의 전진 거리.\n",
    "- `n`: 정 n 다면체 지정"
   ]
  },
  {
   "cell_type": "markdown",
   "id": "271f415e",
   "metadata": {},
   "source": [
    "다각형을 그릴 때 거북이가 회전하는 각도는 위 그림에서 외각에 해당한다.\n",
    "n-각형의 외각은 360도를 n으로 나눈 값이다.\n",
    "이유는 n-번 회전하면 총 360도를 돌아 제 자리로 돌아오기 때문이다."
   ]
  },
  {
   "cell_type": "markdown",
   "id": "59af29e8",
   "metadata": {},
   "source": [
    "```python\n",
    "def polygon(t, length, n):\n",
    "  angle = 360/n\n",
    "  for _ in range(n):\n",
    "    t.forward(length)\n",
    "    t.left(angle)\n",
    "```"
   ]
  },
  {
   "cell_type": "markdown",
   "id": "d5e82643",
   "metadata": {},
   "source": [
    "참고: [레플릿: polygon](https://replit.com/@codingalzi/polygon)에서 코드 직접 실행 가능"
   ]
  },
  {
   "cell_type": "markdown",
   "id": "a7305360",
   "metadata": {},
   "source": [
    "## 예제 2"
   ]
  },
  {
   "cell_type": "markdown",
   "id": "bff56edd",
   "metadata": {},
   "source": [
    "**질문 1**"
   ]
  },
  {
   "cell_type": "markdown",
   "id": "0a296523",
   "metadata": {},
   "source": [
    "길이가 `r`인 두 등변의 꼭지각이 `2*angle`인 이등변 삼각형을 그리는\n",
    "`isosceles(t, r, angle)` 함수를 구현하라.\n",
    "단, `t`는 이등변 삼각형을 그리는 거북이 객체를 가리킨다."
   ]
  },
  {
   "cell_type": "markdown",
   "id": "88373295",
   "metadata": {},
   "source": [
    "답:"
   ]
  },
  {
   "cell_type": "markdown",
   "id": "e759b092",
   "metadata": {},
   "source": [
    "`isosceles(t, r, angle)` 함수는 다음과 같이 구현할 수 있다.\n",
    "함수 본문에 사용된 지역 변수 `y`는 \n",
    "등변의 길이가 `r`이고 엇각이 `2*angle`인 이등변 삼각형의 빝변의 길이를 가리킨다."
   ]
  },
  {
   "cell_type": "markdown",
   "id": "17d1271b",
   "metadata": {},
   "source": [
    "```python\n",
    "def isosceles(t, r, angle):\n",
    "    y = r * math.sin(angle * math.pi / 180) # 밑변의 길이\n",
    "    \n",
    "    # 이등변 삼각형 그리기\n",
    "    t.rt(angle)\n",
    "    t.fd(r)\n",
    "    t.lt(90+angle)\n",
    "    t.fd(2*y)\n",
    "    t.lt(90+angle)\n",
    "    t.fd(r)\n",
    "    t.lt(180-angle)\n",
    "```"
   ]
  },
  {
   "cell_type": "markdown",
   "id": "046545c0",
   "metadata": {},
   "source": [
    "예를 들어 `isosceles(t, 40, 36)`을 호출하면 등변의 길이는 40, 꼭지각은 72도인 이등변 삼각형을 그린다."
   ]
  },
  {
   "cell_type": "markdown",
   "id": "87d8dd3a",
   "metadata": {},
   "source": [
    "<div align=\"center\" border=\"1px\"><img src=\"https://raw.githubusercontent.com/codingalzi/pybook/master/jupyter-book/images/turtle10.png\" width=\"500\"/></div>"
   ]
  },
  {
   "cell_type": "markdown",
   "id": "cb647e94",
   "metadata": {},
   "source": [
    "**질문 2**"
   ]
  },
  {
   "cell_type": "markdown",
   "id": "63e7cfc8",
   "metadata": {},
   "source": [
    "길이가 `r`인 두 등변의 꼭지각이 `2*angle`인 이등변 삼각형을 그리는\n",
    "`isosceles(t, r, angle)` 함수를 구현하라.\n",
    "단, `t`는 이등변 삼각형을 그리는 거북이 객체를 가리킨다."
   ]
  },
  {
   "cell_type": "markdown",
   "id": "bd0a9478",
   "metadata": {},
   "source": [
    "답:"
   ]
  },
  {
   "cell_type": "markdown",
   "id": "c241a11f",
   "metadata": {},
   "source": [
    "**질문**"
   ]
  },
  {
   "cell_type": "markdown",
   "id": "0df2bb46",
   "metadata": {},
   "source": [
    "아래 그림처럼 n-각형 파이 모양의 도형을 그리는 함수들을 구현하라.\n",
    "\n",
    "힌트: 다음 두 개의 함수를 차례대로 구현한다.\n",
    "\n",
    "- `polypie(t, n, r)` 함수: 거북이 `t`가 `n` 개의 이등변 삼각형으로 구성된 다각형 그리기.\n",
    "    - 이등변 삼각형은 `isosceles(t, r, angle)` 활용. \n",
    "    - 두 이등변의 내각은 `360/n`도.    "
   ]
  },
  {
   "cell_type": "markdown",
   "id": "69df3d3e",
   "metadata": {},
   "source": [
    "참고: `isosceles`는 '이등변의' 뜻을 가진 영어 단어. '아이사슬리즈' 라고 발음됨."
   ]
  },
  {
   "cell_type": "markdown",
   "id": "bfe33d07",
   "metadata": {},
   "source": [
    "답:"
   ]
  },
  {
   "cell_type": "markdown",
   "id": "b9fcb3b0",
   "metadata": {},
   "source": [
    "(1) `isosceles()` 함수 구현"
   ]
  },
  {
   "cell_type": "markdown",
   "id": "1b5d0010",
   "metadata": {},
   "source": [
    "n-각형 파이 모양에는 이등변 삼각형이 n 개 들어간다. \n",
    "따라서 "
   ]
  },
  {
   "cell_type": "markdown",
   "id": "5a69bfda",
   "metadata": {},
   "source": [
    "<div align=\"center\" border=\"1px\"><img src=\"https://raw.githubusercontent.com/codingalzi/pybook/master/jupyter-book/images/turtle04.png\" width=\"500\"/></div>"
   ]
  },
  {
   "cell_type": "markdown",
   "id": "cd6cef29",
   "metadata": {},
   "source": [
    "## 예제 3"
   ]
  },
  {
   "cell_type": "markdown",
   "id": "ac07ca03",
   "metadata": {},
   "source": [
    "[아르키메데스 와선(spiral)](https://ko.wikipedia.org/wiki/와선)을 \n",
    "그리는 함수를 구현하라.\n",
    "\n",
    "힌트: 모범답안을 담고 있는 파이썬 코드가 \n",
    "[여기](http://greenteapress.com/thinkpython2/code/spiral.py)에 \n",
    "있음."
   ]
  },
  {
   "cell_type": "markdown",
   "id": "919bb777",
   "metadata": {},
   "source": [
    "<div align=\"center\" border=\"1px\"><img src=\"https://raw.githubusercontent.com/codingalzi/pybook/master/jupyter-book/images/spiral.png\" width=\"400\"/></div>\n",
    "\n",
    "<그림 출처: [wikipedia.org](https://ko.wikipedia.org/wiki/와선)>    "
   ]
  }
 ],
 "metadata": {
  "kernelspec": {
   "display_name": "Python 3 (ipykernel)",
   "language": "python",
   "name": "python3"
  },
  "language_info": {
   "codemirror_mode": {
    "name": "ipython",
    "version": 3
   },
   "file_extension": ".py",
   "mimetype": "text/x-python",
   "name": "python",
   "nbconvert_exporter": "python",
   "pygments_lexer": "ipython3",
   "version": "3.11.4"
  }
 },
 "nbformat": 4,
 "nbformat_minor": 5
}
