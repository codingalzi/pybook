{
 "cells": [
  {
   "cell_type": "markdown",
   "id": "d85ece54",
   "metadata": {},
   "source": [
    "# (필수 예제) 객체 지향 프로그래밍"
   ]
  },
  {
   "cell_type": "markdown",
   "id": "ec8115ea",
   "metadata": {},
   "source": [
    "`Turtle` 모듈을 활용한다. "
   ]
  },
  {
   "cell_type": "markdown",
   "id": "16cd891e",
   "metadata": {},
   "source": [
    "## 예제 1"
   ]
  },
  {
   "cell_type": "markdown",
   "id": "529c08f5",
   "metadata": {},
   "source": [
    "다각형을 그리는 함수를 구현한다."
   ]
  },
  {
   "cell_type": "markdown",
   "id": "7fee7f7e",
   "metadata": {},
   "source": [
    "**질문 1**"
   ]
  },
  {
   "cell_type": "markdown",
   "id": "43c14336",
   "metadata": {},
   "source": [
    "아래 기능을 수행하는 `square()` 함수를 구현하여라.\n",
    "\n",
    "* 매개변수 `t` 사용: 인자는 거북이 객체\n",
    "* 실행하면 정사각형 그리기"
   ]
  },
  {
   "cell_type": "markdown",
   "id": "c5c44eaf",
   "metadata": {},
   "source": [
    "답:"
   ]
  },
  {
   "cell_type": "markdown",
   "id": "4f9462f1",
   "metadata": {},
   "source": [
    "`square()` 함수의 인자 `t`가 하나의 거북이 객체라고 가정했을 때\n",
    "한 변의 길이가 100인 정사각형은 아래 코드를 통해 그릴 수 있다."
   ]
  },
  {
   "cell_type": "markdown",
   "id": "8487991d",
   "metadata": {},
   "source": [
    "```python\n",
    "for _ in range(4):\n",
    "    t.forward(100)\n",
    "    t.left(90)\n",
    "```"
   ]
  },
  {
   "cell_type": "markdown",
   "id": "99c46d72",
   "metadata": {},
   "source": [
    "따라서 `square()` 함수를 다음과 같이 선언한다."
   ]
  },
  {
   "cell_type": "markdown",
   "id": "4a62f8a4",
   "metadata": {},
   "source": [
    "```python\n",
    "def square(t):\n",
    "  for _ in range(4):\n",
    "    t.forward(100)\n",
    "    t.left(90)\n",
    "```"
   ]
  },
  {
   "cell_type": "markdown",
   "id": "fa393909",
   "metadata": {},
   "source": [
    "참고: [레플릿: square](https://replit.com/@codingalzi/square)에서 코드 직접 실행 가능"
   ]
  },
  {
   "cell_type": "markdown",
   "id": "00d0a00a",
   "metadata": {},
   "source": [
    "**질문 2**"
   ]
  },
  {
   "cell_type": "markdown",
   "id": "7aa1e104",
   "metadata": {},
   "source": [
    "`square` 함수에 `length` 매개변수를 추가하여 정사각형의 길이를 지정하여라."
   ]
  },
  {
   "cell_type": "markdown",
   "id": "810fed78",
   "metadata": {},
   "source": [
    "답:"
   ]
  },
  {
   "cell_type": "markdown",
   "id": "dccbe32a",
   "metadata": {},
   "source": [
    "`square()` 함수가 다음 두 개의 인자를 받도록 한다.\n",
    "\n",
    "- `t`: 거북이 객체\n",
    "- `length`: 정사각형 한 변의 길이. 거북이의 전진 거리."
   ]
  },
  {
   "cell_type": "markdown",
   "id": "615e7f82",
   "metadata": {},
   "source": [
    "```python\n",
    "def square(t, length):\n",
    "  for _ in range(4):\n",
    "    t.forward(length)\n",
    "    t.left(90)\n",
    "```"
   ]
  },
  {
   "cell_type": "markdown",
   "id": "e6f81627",
   "metadata": {},
   "source": [
    "참고: [레플릿: square2](https://replit.com/@codingalzi/square2)에서 코드 직접 실행 가능"
   ]
  },
  {
   "cell_type": "markdown",
   "id": "80eee9bb",
   "metadata": {},
   "source": [
    "**질문 3**"
   ]
  },
  {
   "cell_type": "markdown",
   "id": "00290460",
   "metadata": {},
   "source": [
    "다음 조건을 만족시키는 `polygon` 함수를 구현하여라.\n",
    "\n",
    "* `square` 함수를 일반화하여 다각형 그리기\n",
    "* 셋째 매개변수 `n` 사용.\n",
    "* 실행하면 한 변의 길이가 `length`인 `n`각형 그리기\n",
    "\n",
    "힌트: 정 n-각형의 외각은 `360/n`"
   ]
  },
  {
   "cell_type": "markdown",
   "id": "111b0834",
   "metadata": {},
   "source": [
    "<p><div align=\"center\" border=\"1px\"><img src=\"https://raw.githubusercontent.com/codingalzi/pybook/master/jupyter-book/images/ExternalAngles.png\" width=\"400\"/></div></p>\n",
    "\n",
    "<그림 출처: [wikipedia.org](https://ko.wikipedia.org/wiki/내각과_외각)>"
   ]
  },
  {
   "cell_type": "markdown",
   "id": "6a370168",
   "metadata": {},
   "source": [
    "답:"
   ]
  },
  {
   "cell_type": "markdown",
   "id": "6075b26a",
   "metadata": {},
   "source": [
    "`polygon()` 함수가 다음 세 개의 인자를 받도록 한다.\n",
    "\n",
    "- `t`: 거북이 객체\n",
    "- `length`: 정사각형 한 변의 길이. 거북이의 전진 거리.\n",
    "- `n`: 정 n 다면체 지정"
   ]
  },
  {
   "cell_type": "markdown",
   "id": "3f25f843",
   "metadata": {},
   "source": [
    "다각형을 그릴 때 거북이가 회전하는 각도는 위 그림에서 외각에 해당한다.\n",
    "n-각형의 외각은 360도를 n으로 나눈 값이다.\n",
    "이유는 n-번 회전하면 총 360도를 돌아 제 자리로 돌아오기 때문이다."
   ]
  },
  {
   "cell_type": "markdown",
   "id": "37f99cb3",
   "metadata": {},
   "source": [
    "```python\n",
    "def polygon(t, length, n):\n",
    "  angle = 360/n\n",
    "  for _ in range(n):\n",
    "    t.forward(length)\n",
    "    t.left(angle)\n",
    "```"
   ]
  },
  {
   "cell_type": "markdown",
   "id": "a1ff0527",
   "metadata": {},
   "source": [
    "참고: [레플릿: polygon](https://replit.com/@codingalzi/polygon)에서 코드 직접 실행 가능"
   ]
  },
  {
   "cell_type": "markdown",
   "id": "a7305360",
   "metadata": {},
   "source": [
    "## 예제 2"
   ]
  },
  {
   "cell_type": "markdown",
   "id": "0df2bb46",
   "metadata": {},
   "source": [
    "아래 그림의 도형을 그리는 함수들을 구현하라.\n",
    "\n",
    "힌트: 모범답안을 담고 있는 파이썬 코드가 \n",
    "[여기](http://greenteapress.com/thinkpython2/code/pie.py)에 \n",
    "있음."
   ]
  },
  {
   "cell_type": "markdown",
   "id": "5a69bfda",
   "metadata": {},
   "source": [
    "<div align=\"center\" border=\"1px\"><img src=\"https://raw.githubusercontent.com/codingalzi/pybook/master/jupyter-book/images/turtle04.png\" width=\"600\"/></div>"
   ]
  },
  {
   "cell_type": "markdown",
   "id": "c51767cf",
   "metadata": {},
   "source": [
    "## 예제 "
   ]
  },
  {
   "cell_type": "markdown",
   "id": "89bc04f6",
   "metadata": {},
   "source": [
    "아래와 같은 Spirograph를 그리는 코드를 작성하라.\n",
    "\n",
    "힌트: 모범답안을 담고 있는 파이썬 코드가 \n",
    "[여기](https://www.geeksforgeeks.org/print-a-spirograph-using-turtle-in-python/)에 \n",
    "있음."
   ]
  },
  {
   "cell_type": "markdown",
   "id": "65bb4712",
   "metadata": {},
   "source": [
    "<div align=\"center\" border=\"1px\"><img src=\"https://raw.githubusercontent.com/codingalzi/pybook/master/jupyter-book/images/circle-geek.png\" width=\"400\"/></div>\n",
    "\n",
    "<그림 출처: [geeks for geeks](https://www.geeksforgeeks.org/print-a-spirograph-using-turtle-in-python/)>    "
   ]
  },
  {
   "cell_type": "markdown",
   "id": "cd6cef29",
   "metadata": {},
   "source": [
    "## 예제 4"
   ]
  },
  {
   "cell_type": "markdown",
   "id": "ac07ca03",
   "metadata": {},
   "source": [
    "[아르키메데스 와선(spiral)](https://ko.wikipedia.org/wiki/와선)을 \n",
    "그리는 함수를 구현하라.\n",
    "\n",
    "힌트: 모범답안을 담고 있는 파이썬 코드가 \n",
    "[여기](http://greenteapress.com/thinkpython2/code/spiral.py)에 \n",
    "있음."
   ]
  },
  {
   "cell_type": "markdown",
   "id": "919bb777",
   "metadata": {},
   "source": [
    "<div align=\"center\" border=\"1px\"><img src=\"https://raw.githubusercontent.com/codingalzi/pybook/master/jupyter-book/images/spiral.png\" width=\"400\"/></div>\n",
    "\n",
    "<그림 출처: [wikipedia.org](https://ko.wikipedia.org/wiki/와선)>    "
   ]
  }
 ],
 "metadata": {
  "kernelspec": {
   "display_name": "Python 3 (ipykernel)",
   "language": "python",
   "name": "python3"
  },
  "language_info": {
   "codemirror_mode": {
    "name": "ipython",
    "version": 3
   },
   "file_extension": ".py",
   "mimetype": "text/x-python",
   "name": "python",
   "nbconvert_exporter": "python",
   "pygments_lexer": "ipython3",
   "version": "3.11.4"
  }
 },
 "nbformat": 4,
 "nbformat_minor": 5
}
