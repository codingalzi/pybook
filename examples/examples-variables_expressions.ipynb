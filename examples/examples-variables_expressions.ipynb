{
 "cells": [
  {
   "cell_type": "markdown",
   "id": "2d03d247-e2d3-4afe-ab5e-83dc989ed62d",
   "metadata": {},
   "source": [
    "# (예제) 변수, 값, 표현식"
   ]
  },
  {
   "cell_type": "markdown",
   "id": "01c8fab8",
   "metadata": {},
   "source": [
    "**예제 풀이 안내**\n",
    "\n",
    "- 예제의 질문을 명확하게 이해한 다음에 모범답안의 설명을 읽는다.\n",
    "- 설명을 바탕으로 직접 코드를 작성한다.\n",
    "- 오류가 발생하면 스스로 오류를 제거한다.\n",
    "- 직접 작성한 코드가 모범담안의 코드와 다르지만 동일한 결과를 계산한다면\n",
    "    두 코드 사이의 공통점과 차이점을 확인한다.    "
   ]
  },
  {
   "cell_type": "markdown",
   "id": "827df42a",
   "metadata": {},
   "source": [
    "## 예제"
   ]
  },
  {
   "cell_type": "markdown",
   "id": "83a8cc23",
   "metadata": {},
   "source": [
    "사용자로부터 입력받은 후 입력된 정수의 짝수/홀수 여부를 판정하는 코드를 작성한다.\n",
    "\n",
    "힌트: `input()` 함수와 `int()` 함수 활용"
   ]
  },
  {
   "cell_type": "markdown",
   "id": "52c7bf36",
   "metadata": {},
   "source": [
    "모범답안:"
   ]
  },
  {
   "cell_type": "markdown",
   "id": "e82ddb8b",
   "metadata": {},
   "source": [
    "`input()` 함수를 다음과 같이 이용하여 사용자로부터 정수를 입력 받아\n",
    "변수 `user_input_str`에 할당한다.\n",
    "\n",
    "```python\n",
    "user_input_str = input(\"정수 하나를 입력하세요: \")\n",
    "```\n",
    "\n",
    "`user_input_str`에 할당된 값이 정수 모양의 문자열이기에\n",
    "정수로 형변환하여 `user_input`에 할당한다.\n",
    "\n",
    "```python\n",
    "user_input = int(user_input_str)\n",
    "```\n",
    "\n",
    "이제 `user_input`에 할당된 정수의 짝수/홀수 여부를 2로 나눈 나머지가 0인지 \n",
    "여부에 따라 결정하여 그결과를 출력한다.\n",
    "위 설명을 정리하여 구현하면 다음과 같이 코드를 구현할 수 있다."
   ]
  },
  {
   "cell_type": "code",
   "execution_count": 1,
   "id": "9a92ed52",
   "metadata": {},
   "outputs": [
    {
     "name": "stdout",
     "output_type": "stream",
     "text": [
      "정수 하나를 입력하세요: 5\n",
      "홀수\n"
     ]
    }
   ],
   "source": [
    "user_input_str = input(\"정수 하나를 입력하세요: \")\n",
    "user_input = int(user_input_str)\n",
    "\n",
    "if user_input % 2 == 0:\n",
    "    print(\"짝수\")\n",
    "else:\n",
    "    print(\"홀수\")"
   ]
  },
  {
   "cell_type": "markdown",
   "id": "2ea26995",
   "metadata": {},
   "source": [
    "`input()` 함수와 `int()` 함수를 연속 적용하여 다음과 같이 작성할 수도 있다.\n",
    "\n",
    "```python\n",
    "user_input = int(input(\"정수 하나를 입력하세요: \"))\n",
    "```\n",
    "\n",
    "그러면 먼저 `input()` 함수에 의해 정수 모양의 문자열이 `int()` 함수의 인자로 바로 지정되어\n",
    "최종적으로 정수가 `user_input`에 사용자 입력 정숫값으로 할당된다.\n",
    "\n",
    "이렇게 하면 `user_input_str` 변수가 더 이상 필요없는 보다 간단한 코드가 된다.\n",
    "앞으로 `input()` 함수에 바로 이어 `int()` 함수가 적용되어야 할 때는 이 방식을 기본으로 사용한다."
   ]
  },
  {
   "cell_type": "code",
   "execution_count": 5,
   "id": "64b0b4b8",
   "metadata": {},
   "outputs": [
    {
     "name": "stdout",
     "output_type": "stream",
     "text": [
      "정수 하나를 입력하세요: 8\n",
      "짝수\n"
     ]
    }
   ],
   "source": [
    "user_input = int(input(\"정수 하나를 입력하세요: \"))\n",
    "\n",
    "if user_input % 2 == 0:\n",
    "    print(\"짝수\")\n",
    "else:\n",
    "    print(\"홀수\")"
   ]
  },
  {
   "cell_type": "markdown",
   "id": "0652170f",
   "metadata": {},
   "source": [
    "또는 `if ... else ...` 조건문을 사용하지 않으면서 짝수일 때는 `True`를 홀수일 때는 `False`를 \n",
    "바로 출력하게 할수도 있다."
   ]
  },
  {
   "cell_type": "code",
   "execution_count": 6,
   "id": "2c398780",
   "metadata": {},
   "outputs": [
    {
     "name": "stdout",
     "output_type": "stream",
     "text": [
      "정수 하나를 입력하세요: 17\n",
      "False\n"
     ]
    }
   ],
   "source": [
    "user_input = int(input(\"정수 하나를 입력하세요: \"))\n",
    "\n",
    "print(user_input % 2 == 0)"
   ]
  },
  {
   "cell_type": "markdown",
   "id": "a8cd81ca",
   "metadata": {},
   "source": [
    "## 예제"
   ]
  },
  {
   "cell_type": "markdown",
   "id": "97d4318f",
   "metadata": {},
   "source": [
    "사용자로부터 하나의 정수를 입력받은 후 \n",
    "입력값이 17보다 크면 두 정수의 차이의 제곱을, \n",
    "아니면 입력된 정수를 출력하는 코드를 작성한다.\n",
    "\n",
    "힌트: `input()` 함수와 `int()` 함수 활용"
   ]
  },
  {
   "cell_type": "markdown",
   "id": "bd5f09bf",
   "metadata": {},
   "source": [
    "모범답안:"
   ]
  },
  {
   "cell_type": "markdown",
   "id": "d3b7636b",
   "metadata": {},
   "source": [
    "두 정수의 크기비교를 위해 `>` 연산자를 이용한다.\n",
    "`a`가 표현하는 값이 `b`가 표현하는 값보다 클 때 \n",
    "표현식 `a > b`가 `True`로 계산된다는 사실을 \n",
    "`if ... else ...` 조거문에 적용한다."
   ]
  },
  {
   "cell_type": "markdown",
   "id": "1babe199",
   "metadata": {},
   "source": [
    "- 20을 입력할 때: 9 출력"
   ]
  },
  {
   "cell_type": "code",
   "execution_count": 8,
   "id": "0d3be0d6",
   "metadata": {},
   "outputs": [
    {
     "name": "stdout",
     "output_type": "stream",
     "text": [
      "정수 하나를 입력하세요: 20\n",
      "9\n"
     ]
    }
   ],
   "source": [
    "user_input = int(input(\"정수 하나를 입력하세요: \"))\n",
    "\n",
    "if user_input > 17:\n",
    "    print((user_input - 17)**2)\n",
    "else:\n",
    "    print(user_input)"
   ]
  },
  {
   "cell_type": "markdown",
   "id": "d6fb6521",
   "metadata": {},
   "source": [
    "- 15를 입력할 때: 15 출력"
   ]
  },
  {
   "cell_type": "code",
   "execution_count": 9,
   "id": "e00d6590",
   "metadata": {},
   "outputs": [
    {
     "name": "stdout",
     "output_type": "stream",
     "text": [
      "정수 하나를 입력하세요: 15\n",
      "15\n"
     ]
    }
   ],
   "source": [
    "user_input = int(input(\"정수 하나를 입력하세요: \"))\n",
    "\n",
    "if user_input > 17:\n",
    "    print((user_input - 17)**2)\n",
    "else:\n",
    "    print(user_input)"
   ]
  },
  {
   "cell_type": "markdown",
   "id": "00ad8d4a",
   "metadata": {},
   "source": [
    "## 예제"
   ]
  },
  {
   "cell_type": "markdown",
   "id": "6681b467",
   "metadata": {},
   "source": [
    "사용자로부터 하나의 0이 아닌 한자리 정수 `n` 을 입력받아 `n + nn + nnn` 을 계산하는 코드를 작성한다.\n",
    "곱셈 계산이 아님에 주의한다.\n",
    "예를 들어 5가 입력되면 아래 값이 계산되어야 한다.\n",
    "\n",
    "```\n",
    "5 + 55 + 555 = 615\n",
    "```\n",
    "\n",
    "힌트: `input()` 함수와 `int()` 함수 활용. 문자열 이어붙이기 연산자 `+` 또는 복제 후 이어붙이기 연산자 `*` 활용.\n",
    "\n",
    "주의사항: `int(input())` 형식은 사용하지 않음."
   ]
  },
  {
   "cell_type": "markdown",
   "id": "32e31736",
   "metadata": {},
   "source": [
    "모범답안:"
   ]
  },
  {
   "cell_type": "markdown",
   "id": "e8e25b73",
   "metadata": {},
   "source": [
    "- 문자열 이어붙이기 연산자 `+` 활용"
   ]
  },
  {
   "cell_type": "markdown",
   "id": "29dc4aa0",
   "metadata": {},
   "source": [
    "5를 입력하면 `input()` 함수는 문자열 `'5'`를 입력값으로 지정한다.\n",
    "\n",
    "    n = input(\"정수 하나를 입력하세요: \")\n",
    "\n",
    "이제 `+` 연산자를 이용하여 변수 `n`에 할당된 값을 이어붙인다.\n",
    "예를 들어 문자열 `'5'`를 이어붙이면 `'55'`가 된다.\n",
    "여기에 `int()` 함수를 적용하면 정수 55가 계산된다.\n",
    "유사한 방식으로 정수 555를 계산할 수 있다.\n",
    "\n",
    "위 설명을 코드로 구현하면 다음과 같으며\n",
    "정수 5를 입력해서 `5 + 55 + 555`를 계산한다."
   ]
  },
  {
   "cell_type": "code",
   "execution_count": 11,
   "id": "297481b1",
   "metadata": {},
   "outputs": [
    {
     "name": "stdout",
     "output_type": "stream",
     "text": [
      "정수 하나를 입력하세요: 5\n",
      "615\n"
     ]
    }
   ],
   "source": [
    "n = input(\"정수 하나를 입력하세요: \")\n",
    "nn = n + n\n",
    "nnn = nn + n\n",
    "\n",
    "print(int(n) + int(nn) + int(nnn))"
   ]
  },
  {
   "cell_type": "markdown",
   "id": "ed1d1921",
   "metadata": {},
   "source": [
    "- 문자열 복제 후 이어붙이기 연산자 `*` 활용"
   ]
  },
  {
   "cell_type": "markdown",
   "id": "088a4076",
   "metadata": {},
   "source": [
    "두 변수 `n`과 `nn`을 `*` 연산자를 이용하여 정의한다.\n",
    "실행할 때 7을 입력하여 `7 + 77 + 777 = 861`을 계산한다."
   ]
  },
  {
   "cell_type": "code",
   "execution_count": 13,
   "id": "972e275e",
   "metadata": {},
   "outputs": [
    {
     "name": "stdout",
     "output_type": "stream",
     "text": [
      "정수 하나를 입력하세요: 7\n",
      "861\n"
     ]
    }
   ],
   "source": [
    "n = input(\"정수 하나를 입력하세요: \")\n",
    "nn = n * 2\n",
    "nnn = n * 3\n",
    "\n",
    "print(int(n) + int(nn) + int(nnn))"
   ]
  },
  {
   "cell_type": "markdown",
   "id": "6dfee0d6",
   "metadata": {},
   "source": [
    "참고로 `int(input())` 형식을 사용하면 좀 복잡해진다.\n",
    "예를 들어 다음과 같이 변수 `n`을 정의한 다음에 실행해서 5를 입력한다."
   ]
  },
  {
   "cell_type": "code",
   "execution_count": 14,
   "id": "5e145b70",
   "metadata": {},
   "outputs": [
    {
     "name": "stdout",
     "output_type": "stream",
     "text": [
      "정수 하나를 입력하세요: 5\n"
     ]
    }
   ],
   "source": [
    "n = int(input(\"정수 하나를 입력하세요: \"))"
   ]
  },
  {
   "cell_type": "markdown",
   "id": "3b61855c",
   "metadata": {},
   "source": [
    "그러면 변수 `n`이 정수 5를 가리키기에 이를 이용해서 55와 555를 만들기는 간단하지 않다.\n",
    "물론 가능하기는 하지만 앞서 제시된 모범답안보다 복잡해진다. \n",
    "예를 들어 다음 두 방식이 가능하다."
   ]
  },
  {
   "cell_type": "markdown",
   "id": "712a3a0d",
   "metadata": {},
   "source": [
    "- `str()` 함수 활용: `str()` 함수를 이용하여 다시 문자열로 변환"
   ]
  },
  {
   "cell_type": "code",
   "execution_count": 15,
   "id": "e6eb5184",
   "metadata": {},
   "outputs": [
    {
     "name": "stdout",
     "output_type": "stream",
     "text": [
      "정수 하나를 입력하세요: 5\n",
      "615\n"
     ]
    }
   ],
   "source": [
    "n = int(input(\"정수 하나를 입력하세요: \"))\n",
    "nn = str(n) + str(n)\n",
    "nnn = nn + str(n)\n",
    "\n",
    "print(int(n) + int(nn) + int(nnn))"
   ]
  },
  {
   "cell_type": "markdown",
   "id": "c9d9de16",
   "metadata": {},
   "source": [
    "- 10진법 계산 활용: 예를 들어 55는 5 * 10 + 5, 555는 5 * 100 + 5 * 10 + 5로 계산됨."
   ]
  },
  {
   "cell_type": "code",
   "execution_count": 16,
   "id": "1aa92c37",
   "metadata": {},
   "outputs": [
    {
     "name": "stdout",
     "output_type": "stream",
     "text": [
      "정수 하나를 입력하세요: 5\n",
      "615\n"
     ]
    }
   ],
   "source": [
    "n = int(input(\"정수 하나를 입력하세요: \"))\n",
    "nn = n*10 + 5\n",
    "nnn = n*100 + n*10 + n\n",
    "\n",
    "print(n + nn + nnn)"
   ]
  },
  {
   "cell_type": "markdown",
   "id": "4b89a2c9",
   "metadata": {},
   "source": [
    "## 예제"
   ]
  },
  {
   "cell_type": "markdown",
   "id": "d7bb3157",
   "metadata": {},
   "source": [
    "두 개의 정수를 입력 받아 지정된 형식으로 출력하는 코드를 작성한다.\n",
    "입력된 두 개의 정수는 각각 변수 `a`와 `b`에 저장한다.\n",
    "예를 들어 3과 2가 입력되면 아래처럼 화면에 출력한다.\n",
    "\n",
    "    3 + 2 = 5"
   ]
  },
  {
   "cell_type": "markdown",
   "id": "d2c63555",
   "metadata": {},
   "source": [
    "모범답안:"
   ]
  },
  {
   "cell_type": "markdown",
   "id": "a11ebdac",
   "metadata": {},
   "source": [
    "정수 두 개를 각각 입력받을 수 있도록 `input()` 함수를 두 번 사용한다.\n",
    "첫째 입력값은 정수로 변환해서 `a`에 할당, 둘째 입력값은 `b`에 할당한다.\n",
    "지정된 형식으로의 출력은 `print()` 함수를 이용한다.\n",
    "`print()` 함수에 쉼표를 이용하여 여러 개의 인자를 지정하면\n",
    "각각의 인자가 공백으로 구분되어 한 줄에 출력되는 성질을 이용한다."
   ]
  },
  {
   "cell_type": "code",
   "execution_count": 1,
   "id": "fd4a458c",
   "metadata": {},
   "outputs": [
    {
     "name": "stdout",
     "output_type": "stream",
     "text": [
      "첫째 정수를 입력하세요: 3\n",
      "둘째 정수를 입력하세요: 2\n",
      "3 + 2 = 5\n"
     ]
    }
   ],
   "source": [
    "a = int(input(\"첫째 정수를 입력하세요: \"))\n",
    "b = int(input(\"둘째 정수를 입력하세요: \"))\n",
    "\n",
    "print(a, \"+\", b, \"=\", a + b)"
   ]
  },
  {
   "cell_type": "markdown",
   "id": "4e8a60d1",
   "metadata": {},
   "source": [
    "## 문제"
   ]
  },
  {
   "cell_type": "markdown",
   "id": "04f4861f",
   "metadata": {},
   "source": [
    "두 개의 유한소수를 입력 받아 지정된 형식으로 출력하는 코드를 작성한다.\n",
    "입력된 두 개의 유한소수는 각각 변수 `a`와 `b`에 저장한다.\n",
    "예를 들어 3.3과 5.8이 입력되면 아래처럼 화면에 출력한다.\n",
    "계산 결과는 소수점 이하 셋째 자리에서 반올림한다.\n",
    "\n",
    "    3.3 / 5.8 = 0.57"
   ]
  },
  {
   "cell_type": "markdown",
   "id": "24c571db",
   "metadata": {},
   "source": [
    "모범답안:"
   ]
  },
  {
   "cell_type": "markdown",
   "id": "291c1998",
   "metadata": {},
   "source": [
    "유한소수 두 개를 각각 입력받을 수 있도록 `input()` 함수를 `float()` 함수와 함께 두 번 사용한다\n",
    "첫째 입력값은 정수로 변환해서 `a`에 할당, 둘째 입력값은 `b`에 할당한다.\n",
    "지정된 형식으로의 출력은 `print()` 함수를 이용한다.\n",
    "`print()` 함수에 쉼표를 이용하여 여러 개의 인자를 지정하면\n",
    "각각의 인자가 공백으로 구분되어 한 줄에 출력되는 성질을 이용한다."
   ]
  },
  {
   "cell_type": "code",
   "execution_count": 20,
   "id": "21b33bc8",
   "metadata": {},
   "outputs": [
    {
     "name": "stdout",
     "output_type": "stream",
     "text": [
      "첫째 정수를 입력하세요: 3.3\n",
      "둘째 정수를 입력하세요: 5.8\n",
      "3.3 / 5.8 = 0.57\n"
     ]
    }
   ],
   "source": [
    "a = float(input(\"첫째 정수를 입력하세요: \"))\n",
    "b = float(input(\"둘째 정수를 입력하세요: \"))\n",
    "\n",
    "print(a, \"/\", b, \"=\", round(a / b, 2))"
   ]
  },
  {
   "cell_type": "markdown",
   "id": "6f79b27d",
   "metadata": {},
   "source": [
    "## 예제"
   ]
  },
  {
   "cell_type": "markdown",
   "id": "0f7a3f61",
   "metadata": {},
   "source": [
    "두 개의 부동소수점`x`와 `y`를 입력받아 두 수의 \n",
    "평균값을 아래 형식으로 출력하는 코드를 작성하여라.\n",
    "\n",
    "    2.4 와 5.7 의 평균값: 4.05\n",
    "\n",
    "단, `x`와 `y`의 평균값은 `(x + y)/2`이며, 평균값은 소수점 이하 셋째 자리에서 반올림한다.\n",
    "\n",
    "힌트: `float()` 함수와, `round()` 함수 활용"
   ]
  },
  {
   "cell_type": "markdown",
   "id": "c29c3bab",
   "metadata": {},
   "source": [
    "`round()` 함수의 첫째 인자는 부동소수점, 둘째 인자는 소수점 이하 자릿수를 지정하며\n",
    "반올림을 이용하여 지정된 자릿수까지만 계산한다.\n",
    "활용법은 다음과 같다."
   ]
  },
  {
   "cell_type": "code",
   "execution_count": 9,
   "id": "b57e06f2",
   "metadata": {},
   "outputs": [
    {
     "data": {
      "text/plain": [
       "3.142"
      ]
     },
     "execution_count": 9,
     "metadata": {},
     "output_type": "execute_result"
    }
   ],
   "source": [
    "round(3.141592, 3)"
   ]
  },
  {
   "cell_type": "code",
   "execution_count": 10,
   "id": "4f4a39dc",
   "metadata": {},
   "outputs": [
    {
     "data": {
      "text/plain": [
       "3.14"
      ]
     },
     "execution_count": 10,
     "metadata": {},
     "output_type": "execute_result"
    }
   ],
   "source": [
    "round(3.141592, 2)"
   ]
  },
  {
   "cell_type": "markdown",
   "id": "fec26b8d",
   "metadata": {},
   "source": [
    "모범답안:"
   ]
  },
  {
   "cell_type": "markdown",
   "id": "4cb5cc5e",
   "metadata": {},
   "source": [
    "사용자가 정수가 아닌 유한소수를 입력할 것을 예상해야 하기에\n",
    "`input()` 함수의 결과에 바로 `float()` 함수를 적용한다.\n",
    "그 다음에 평균값을 계산하여 지정된 방식으로 출력한다.\n",
    "단, `round()` 함수를 이용하여 소수점 이하의 자릿수를 2로 지정한다."
   ]
  },
  {
   "cell_type": "code",
   "execution_count": 13,
   "id": "1d72b0a7",
   "metadata": {},
   "outputs": [
    {
     "name": "stdout",
     "output_type": "stream",
     "text": [
      "첫째 유한소수를 입력하세요: 2.4\n",
      "둘째 유한소수를 입력하세요: 5.7\n",
      "2.4 와 5.7 의 평균값: 4.05\n"
     ]
    }
   ],
   "source": [
    "x = float(input(\"첫째 유한소수를 입력하세요: \"))\n",
    "y = float(input(\"둘째 유한소수를 입력하세요: \"))\n",
    "\n",
    "# 평균값\n",
    "mean_arithmetic = (x + y)/2\n",
    "\n",
    "print(x, \"와\", y, \"의 평균값:\", round(mean_arithmetic, 2))"
   ]
  },
  {
   "cell_type": "markdown",
   "id": "41ef7cab",
   "metadata": {},
   "source": [
    "## 문제"
   ]
  },
  {
   "cell_type": "markdown",
   "id": "6cb1991e",
   "metadata": {},
   "source": [
    "두 개의 부동소수점`x`와 `y`를 입력받아 두 수의 \n",
    "조화 평균을 아래 형식으로 출력하는 코드를 작성하여라.\n",
    "\n",
    "    2.4 와 5.7 의 조화평균: 3.38\n",
    "\n",
    "단, `x`와 `y`의 조화평균은 다음과 같이 계산하며, 소수점 이하 셋째 자리에서 반올림한다.\n",
    "\n",
    "    2 / (1/x + 1/y)\n",
    "\n",
    "힌트: `float()` 함수와 `round()` 함수 활용"
   ]
  },
  {
   "cell_type": "markdown",
   "id": "43b0bb5b",
   "metadata": {},
   "source": [
    "모범답안:"
   ]
  },
  {
   "cell_type": "markdown",
   "id": "2a835580",
   "metadata": {},
   "source": [
    "사용자가 정수가 아닌 유한소수를 입력할 것을 예상해야 하기에\n",
    "`input()` 함수의 결과에 바로 `float()` 함수를 적용한다.\n",
    "그 다음에 평균값을 계산하여 지정된 방식으로 출력한다.\n",
    "단, `round()` 함수를 이용하여 소수점 이하의 자릿수를 2로 지정한다."
   ]
  },
  {
   "cell_type": "code",
   "execution_count": 16,
   "id": "6c6a7b28",
   "metadata": {},
   "outputs": [
    {
     "name": "stdout",
     "output_type": "stream",
     "text": [
      "첫째 유한소수를 입력하세요: 2.4\n",
      "둘째 유한소수를 입력하세요: 5.7\n",
      "2.4 와 5.7 의 조화평균: 3.38\n"
     ]
    }
   ],
   "source": [
    "x = float(input(\"첫째 유한소수를 입력하세요: \"))\n",
    "y = float(input(\"둘째 유한소수를 입력하세요: \"))\n",
    "\n",
    "# 평균값\n",
    "mean_harmony = 2 / (1/x + 1/y)\n",
    "\n",
    "print(x, \"와\", y, \"의 조화평균:\", round(mean_harmony, 2))"
   ]
  },
  {
   "cell_type": "markdown",
   "id": "9f726294",
   "metadata": {},
   "source": [
    "## 예제 10"
   ]
  },
  {
   "cell_type": "markdown",
   "id": "f4a72767",
   "metadata": {},
   "source": [
    "대기실에 `N`개의 의자가 일렬로 놓여 있다.\n",
    "어느 두 사람도 이웃하여 앉지 않을 때, 앉을 수 있는 최대 인원수와\n",
    "최소 인원수를 출력하는 코드를 구하여라.\n",
    "입력은 100이하의 자연수이고, 최대와 최소는 공백으로 구분하여 출력한다.\n",
    "단, 자리를 채운 후에는 더 이상 어느 누구도 자리에 앉을 수 없어야 한다.\n",
    "예를 들어 의자가 8개인 경우 아래 방식으로 앉는 것은 허용되지 않는다.\n",
    "아래 표에서 `O`은 채워진 자리를, `X`는 빈자리를 가리킨다.\n",
    "\n",
    "| 불가능 방식 | 이유 |\n",
    "| :---: | :--- |\n",
    "| `XXOXOXOX` | 왼쪽 끝에 한 명 더 앉을 수 있음 |\n",
    "| `XOXXOXXX` | 오른쪽 끝에 한 명 더 앉을 수 있음|\n",
    "\n",
    "의자가 8 개일 때 의자에 앉을 수 있는 최소 인원과 최대 인원은 다음과 같다.\n",
    "\n",
    "| 인원 | 앉는 방식 |\n",
    "| :---: | :---: |\n",
    "| 최소 3명 | `XOXXOXXO` |\n",
    "| 최대 4명 | `OXOXOXOX` |\n",
    "\n",
    "힌트: 2배수와 3배수 여부 이용"
   ]
  },
  {
   "cell_type": "markdown",
   "id": "179c05a1",
   "metadata": {},
   "source": [
    "모범답안:"
   ]
  },
  {
   "cell_type": "markdown",
   "id": "e28e33ab",
   "metadata": {},
   "source": [
    "`N`개의 의자가 있을 때 예를 들어 맨 왼쪽 의자에 앉은 다음에 한 자리 건널 때마다 앉으면 최대 인원이 앉게 된다.\n",
    "즉 두 의자당 하나에 앉으면 된다. 만약 `N`이 홀수이면 맨 오른쪽 자리에 한 명이 더 앉을 수 있다.\n",
    "따라서 `N`이 2배수인지 여부가 중요하다.\n",
    "\n",
    "- `N`이 2의 배수일 때: 최대 인원은 `N//2`\n",
    "- `N`이 2의 배수일 때: 최대 인원은 `N//2 + 1`"
   ]
  },
  {
   "cell_type": "markdown",
   "id": "ca8ead04",
   "metadata": {},
   "source": [
    "반면에 최소 인원은 다음과 같이 계산할 수 있다. \n",
    "먼저 의자가 1개 또는 2개이면 최대 1명 앉을 수 있다.\n",
    "이제부터 의자가 3개 이상이라고 가정한다.\n",
    "먼저 `N = 3`이라고 하자. 그러면 아래 방식으로 1명만 앉을 수 있다.\n",
    "\n",
    "    XOX\n",
    "\n",
    "`N > 3`인 경우는 3배수 여부로 결정된다.\n",
    "\n",
    "- `N`이 3의 배수인 경우: `XOX` 방식을 `N//3` 번 반복한다. 예를 들어 `N = 6`이면 아래 방식으로 최소 인원이 앉는다.\n",
    "\n",
    "        XOXXOX\n",
    "        \n",
    "- `N`이 3의 배수가 아닌 경우: `XOX` 방식을 `N//3` 번 반복한 다음 나머지 하나 또는 두 자리 중에 한 자리에 앉는다.\n",
    "    예를 들어 `N=8`이면 아래 방식으로 최소 인원이 앉는다.\n",
    "\n",
    "        XOXXOXXO"
   ]
  },
  {
   "cell_type": "markdown",
   "id": "3233dc6d",
   "metadata": {},
   "source": [
    "위 설명을 정리하여 코드로 작성하면 다음과 같다."
   ]
  },
  {
   "cell_type": "code",
   "execution_count": 39,
   "id": "32987798",
   "metadata": {},
   "outputs": [
    {
     "name": "stdout",
     "output_type": "stream",
     "text": [
      "정수를 입력하세요: 8\n",
      "최소: 3 명\n",
      "최대: 4 명\n"
     ]
    }
   ],
   "source": [
    "N = int(input(\"정수를 입력하세요: \"))\n",
    "\n",
    "# 최대 인원\n",
    "if (N%2 == 0) :\n",
    "  max = N//2\n",
    "else :\n",
    "  max = (N//2) + 1\n",
    "\n",
    "# 최소 인원\n",
    "if (N%3 == 0) :\n",
    "  min = N//3\n",
    "else :\n",
    "  min = (N//3) + 1\n",
    "\n",
    "print(\"최소:\", min, \"명\")\n",
    "print(\"최대:\", max, \"명\")"
   ]
  }
 ],
 "metadata": {
  "kernelspec": {
   "display_name": "Python 3 (ipykernel)",
   "language": "python",
   "name": "python3"
  },
  "language_info": {
   "codemirror_mode": {
    "name": "ipython",
    "version": 3
   },
   "file_extension": ".py",
   "mimetype": "text/x-python",
   "name": "python",
   "nbconvert_exporter": "python",
   "pygments_lexer": "ipython3",
   "version": "3.11.4"
  },
  "toc-autonumbering": true,
  "toc-showcode": false,
  "toc-showmarkdowntxt": false
 },
 "nbformat": 4,
 "nbformat_minor": 5
}
