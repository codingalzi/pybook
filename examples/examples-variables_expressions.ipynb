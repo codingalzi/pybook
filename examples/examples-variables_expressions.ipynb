{
 "cells": [
  {
   "cell_type": "markdown",
   "id": "2d03d247-e2d3-4afe-ab5e-83dc989ed62d",
   "metadata": {},
   "source": [
    "# (예제) 변수, 값, 표현식"
   ]
  },
  {
   "cell_type": "markdown",
   "id": "01c8fab8",
   "metadata": {},
   "source": [
    "- 아래 예제들은 파이썬 프로그래밍의 기초 개념을 다룬다.\n",
    "- 본인이 먼저 예제를 해결하는 코드를 작성하고 설명하려고 시도한다.\n",
    "- 필요한 경우 예제의 질문에 대해 작성된 코드의 설명을 먼저 이해하려고 노력한다.\n",
    "- 이해된 코드를 직접 타이핑 하면서 작성한 후에 실행해 본다.\n",
    "- 오타 등으로 인한 오류가 발생하면 스스로 오류를 제거하도록 노력한다.\n",
    "- 본인이 직접 작성한 코드의 실행결과가 모범답안과 다를 경우 문제점을 파악한다.\n",
    "- 본인이 직접 작성한 코드와 모범답안의 실행결과가 동일한 경우 두 코드의 차이점을 분석한다."
   ]
  },
  {
   "cell_type": "markdown",
   "id": "827df42a",
   "metadata": {},
   "source": [
    "## 예제"
   ]
  },
  {
   "cell_type": "markdown",
   "id": "1613c870",
   "metadata": {},
   "source": [
    "사용자로부터 입력받은 후 입력된 정수의 짝수/홀수 여부를 판정하는 코드를 작성한다.\n",
    "\n",
    "힌트: `input()` 함수와 `int()` 함수 활용"
   ]
  },
  {
   "cell_type": "markdown",
   "id": "f74526db",
   "metadata": {},
   "source": [
    "모범답안:"
   ]
  },
  {
   "cell_type": "markdown",
   "id": "7a90d398",
   "metadata": {},
   "source": [
    "`input()` 함수를 다음과 같이 이용하여 사용자로부터 정수를 입력 받아\n",
    "변수 `user_input_str`에 할당한다.\n",
    "\n",
    "```python\n",
    "user_input_str = input(\"정수 하나를 입력하세요: \")\n",
    "```\n",
    "\n",
    "`user_input_str`에 할당된 값이 정수 모양의 문자열이기에\n",
    "정수로 형변환하여 `user_input`에 할당한다.\n",
    "\n",
    "```python\n",
    "user_input = int(user_input_str)\n",
    "```\n",
    "\n",
    "이제 `user_input`에 할당된 정수의 짝수/홀수 여부를 2로 나눈 나머지가 0인지 \n",
    "여부에 따라 결정하여 그결과를 출력한다.\n",
    "위 설명을 정리하여 구현하면 다음과 같이 코드를 구현할 수 있다."
   ]
  },
  {
   "cell_type": "code",
   "execution_count": 1,
   "id": "8d0132ee",
   "metadata": {},
   "outputs": [
    {
     "name": "stdout",
     "output_type": "stream",
     "text": [
      "정수 하나를 입력하세요: 5\n",
      "홀수\n"
     ]
    }
   ],
   "source": [
    "user_input_str = input(\"정수 하나를 입력하세요: \")\n",
    "user_input = int(user_input_str)\n",
    "\n",
    "if user_input % 2 == 0:\n",
    "    print(\"짝수\")\n",
    "else:\n",
    "    print(\"홀수\")"
   ]
  },
  {
   "cell_type": "markdown",
   "id": "2f7ba50f",
   "metadata": {},
   "source": [
    "`input()` 함수와 `int()` 함수를 연속 적용하여 다음과 같이 작성할 수도 있다.\n",
    "\n",
    "```python\n",
    "user_input = int(input(\"정수 하나를 입력하세요: \"))\n",
    "```\n",
    "\n",
    "그러면 먼저 `input()` 함수에 의해 정수 모양의 문자열이 `int()` 함수의 인자로 바로 지정되어\n",
    "최종적으로 정수가 `user_input`에 사용자 입력 정숫값으로 할당된다.\n",
    "\n",
    "이렇게 하면 `user_input_str` 변수가 더 이상 필요없는 보다 간단한 코드가 된다.\n",
    "앞으로 `input()` 함수에 바로 이어 `int()` 함수가 적용되어야 할 때는 이 방식을 기본으로 사용한다."
   ]
  },
  {
   "cell_type": "code",
   "execution_count": 5,
   "id": "3e04d90e",
   "metadata": {},
   "outputs": [
    {
     "name": "stdout",
     "output_type": "stream",
     "text": [
      "정수 하나를 입력하세요: 8\n",
      "짝수\n"
     ]
    }
   ],
   "source": [
    "user_input = int(input(\"정수 하나를 입력하세요: \"))\n",
    "\n",
    "if user_input % 2 == 0:\n",
    "    print(\"짝수\")\n",
    "else:\n",
    "    print(\"홀수\")"
   ]
  },
  {
   "cell_type": "markdown",
   "id": "c0f50354",
   "metadata": {},
   "source": [
    "또는 `if ... else ...` 조건문을 사용하지 않으면서 짝수일 때는 `True`를 홀수일 때는 `False`를 \n",
    "바로 출력하게 할수도 있다."
   ]
  },
  {
   "cell_type": "code",
   "execution_count": 6,
   "id": "da0a37e6",
   "metadata": {},
   "outputs": [
    {
     "name": "stdout",
     "output_type": "stream",
     "text": [
      "정수 하나를 입력하세요: 17\n",
      "False\n"
     ]
    }
   ],
   "source": [
    "user_input = int(input(\"정수 하나를 입력하세요: \"))\n",
    "\n",
    "print(user_input % 2 == 0)"
   ]
  },
  {
   "cell_type": "markdown",
   "id": "a8cd81ca",
   "metadata": {},
   "source": [
    "## 예제"
   ]
  },
  {
   "cell_type": "markdown",
   "id": "97d4318f",
   "metadata": {},
   "source": [
    "사용자로부터 하나의 정수를 입력받은 후 \n",
    "입력값이 17보다 크면 두 정수의 차이의 제곱을, \n",
    "아니면 입력된 정수를 출력하는 코드를 작성한다.\n",
    "\n",
    "힌트: `input()` 함수와 `int()` 함수 활용"
   ]
  },
  {
   "cell_type": "markdown",
   "id": "425a8ce2",
   "metadata": {},
   "source": [
    "모범답안:"
   ]
  },
  {
   "cell_type": "markdown",
   "id": "46d4bb18",
   "metadata": {},
   "source": [
    "두 정수의 크기비교를 위해 `>` 연산자를 이용한다.\n",
    "`a`가 표현하는 값이 `b`가 표현하는 값보다 클 때 \n",
    "표현식 `a > b`가 `True`로 계산된다는 사실을 \n",
    "`if ... else ...` 조거문에 적용한다."
   ]
  },
  {
   "cell_type": "markdown",
   "id": "1702f4c8",
   "metadata": {},
   "source": [
    "- 20을 입력할 때: 9 출력"
   ]
  },
  {
   "cell_type": "code",
   "execution_count": 8,
   "id": "80223472",
   "metadata": {},
   "outputs": [
    {
     "name": "stdout",
     "output_type": "stream",
     "text": [
      "정수 하나를 입력하세요: 20\n",
      "9\n"
     ]
    }
   ],
   "source": [
    "user_input = int(input(\"정수 하나를 입력하세요: \"))\n",
    "\n",
    "if user_input > 17:\n",
    "    print((user_input - 17)**2)\n",
    "else:\n",
    "    print(user_input)"
   ]
  },
  {
   "cell_type": "markdown",
   "id": "843af420",
   "metadata": {},
   "source": [
    "- 15를 입력할 때: 15 출력"
   ]
  },
  {
   "cell_type": "code",
   "execution_count": 9,
   "id": "45cc7caf",
   "metadata": {},
   "outputs": [
    {
     "name": "stdout",
     "output_type": "stream",
     "text": [
      "정수 하나를 입력하세요: 15\n",
      "15\n"
     ]
    }
   ],
   "source": [
    "user_input = int(input(\"정수 하나를 입력하세요: \"))\n",
    "\n",
    "if user_input > 17:\n",
    "    print((user_input - 17)**2)\n",
    "else:\n",
    "    print(user_input)"
   ]
  },
  {
   "cell_type": "markdown",
   "id": "00ad8d4a",
   "metadata": {},
   "source": [
    "## 예제"
   ]
  },
  {
   "cell_type": "markdown",
   "id": "6681b467",
   "metadata": {},
   "source": [
    "사용자로부터 하나의 0이 아닌 한자리 정수 `n` 을 입력받아 `n + nn + nnn` 을 계산하는 코드를 작성한다.\n",
    "곱셈 계산이 아님에 주의한다.\n",
    "예를 들어 5가 입력되면 아래 값이 계산되어야 한다.\n",
    "\n",
    "```\n",
    "5 + 55 + 555 = 615\n",
    "```\n",
    "\n",
    "힌트: `input()` 함수와 `int()` 함수 활용. 문자열 이어붙이기 연산자 `+` 또는 복제 후 이어붙이기 연산자 `*` 활용."
   ]
  },
  {
   "cell_type": "markdown",
   "id": "6c27d3f7",
   "metadata": {},
   "source": [
    "모범답안:"
   ]
  },
  {
   "cell_type": "markdown",
   "id": "84e93bbf",
   "metadata": {},
   "source": [
    "- 문자열 이어붙이기 연산자 `+` 활용"
   ]
  },
  {
   "cell_type": "markdown",
   "id": "88bfd962",
   "metadata": {},
   "source": [
    "5를 입력하면 `input()` 함수는 문자열 `'5'`를 입력값으로 지정한다.\n",
    "\n",
    "    n = input(\"정수 하나를 입력하세요: \")\n",
    "\n",
    "이제 `+` 연산자를 이용하여 변수 `n`에 할당된 값을 이어붙인다.\n",
    "예를 들어 문자열 `'5'`를 이어붙이면 `'55'`가 된다.\n",
    "여기에 `int()` 함수를 적용하면 정수 55가 계산된다.\n",
    "유사한 방식으로 정수 555를 계산할 수 있다.\n",
    "\n",
    "위 설명을 코드로 구현하면 다음과 같으며\n",
    "정수 5를 입력해서 `5 + 55 + 555`를 계산한다."
   ]
  },
  {
   "cell_type": "code",
   "execution_count": 11,
   "id": "c2ab0e7b",
   "metadata": {},
   "outputs": [
    {
     "name": "stdout",
     "output_type": "stream",
     "text": [
      "정수 하나를 입력하세요: 5\n",
      "615\n"
     ]
    }
   ],
   "source": [
    "n = input(\"정수 하나를 입력하세요: \")\n",
    "nn = n + n\n",
    "nnn = nn + n\n",
    "\n",
    "print(int(n) + int(nn) + int(nnn))"
   ]
  },
  {
   "cell_type": "markdown",
   "id": "5ee7b396",
   "metadata": {},
   "source": [
    "- 문자열 복제 후 이어붙이기 연산자 `*` 활용"
   ]
  },
  {
   "cell_type": "markdown",
   "id": "6f7cc7b5",
   "metadata": {},
   "source": [
    "두 변수 `n`과 `nn`을 `*` 연산자를 이용하여 정의한다.\n",
    "실행할 때 7을 입력하여 `7 + 77 + 777 = 861`을 계산한다."
   ]
  },
  {
   "cell_type": "code",
   "execution_count": 13,
   "id": "d053d21f",
   "metadata": {},
   "outputs": [
    {
     "name": "stdout",
     "output_type": "stream",
     "text": [
      "정수 하나를 입력하세요: 7\n",
      "861\n"
     ]
    }
   ],
   "source": [
    "n = input(\"정수 하나를 입력하세요: \")\n",
    "nn = n * 2\n",
    "nnn = n * 3\n",
    "\n",
    "print(int(n) + int(nn) + int(nnn))"
   ]
  },
  {
   "cell_type": "markdown",
   "id": "4b89a2c9",
   "metadata": {},
   "source": [
    "## 예제 5"
   ]
  },
  {
   "cell_type": "markdown",
   "id": "a7b1e8ed",
   "metadata": {},
   "source": [
    "두 정수 `a`와 `b`를 입력받아 \n",
    "`a + b`, `a - b`, `a * b`, `a / b`, `a // b`, `a % b`를 \n",
    "출력하는 코드를 작성하여라.\n",
    "\n",
    "힌트: `input()` 함수가 반환하는 값을 저장해서 활용한다.\n",
    "\n",
    "입력:\n",
    "\n",
    "```python\n",
    "a = 3\n",
    "b = 2\n",
    "```\n",
    "\n",
    "출력:\n",
    "\n",
    "```python\n",
    "3 + 2 = 5  \n",
    "3 - 2 = 1\n",
    "3 * 2 = 6 \n",
    "3 / 2 = 1.5\n",
    "3 // 2 = 1\n",
    "3 % 2 = 1\n",
    "```"
   ]
  },
  {
   "cell_type": "code",
   "execution_count": 5,
   "id": "063b1ac4",
   "metadata": {},
   "outputs": [],
   "source": [
    "# 코드를 작성하세요.\n",
    "# 필요하면 코드셀 또는 텍스트셀을 추가할 수 있습니다.\n",
    "\n",
    "# a = input(\"정수를 입력하세요: \")\n",
    "# b = input(\"정수를 입력하세요: \")\n",
    "# 또는\n",
    "# a, b = input(\"정수 두 개를 스페이스로 구분해서 입력하세요: \").split()"
   ]
  },
  {
   "cell_type": "markdown",
   "id": "6f79b27d",
   "metadata": {},
   "source": [
    "## 예제 6"
   ]
  },
  {
   "cell_type": "markdown",
   "id": "40f6dcfd",
   "metadata": {},
   "source": [
    "반지름 $r$ 을 입력 받으면 구의 부피 $\\frac{4}{3} \\pi r^3$ 를 출력한다.\n",
    "힌트: 단 원주율($\\pi$)은 3.141592 로 사용한다.\n",
    "\n",
    "힌트: `input()` 함수가 반환하는 값을 저장해서 활용한다.\n",
    "\n",
    "입력:\n",
    "\n",
    "```python\n",
    "radius = 3\n",
    "```\n",
    "\n",
    "출력:\n",
    "\n",
    "```python\n",
    "반지름이 3 인 구의 부피는 113.097312 이다.\n",
    "```"
   ]
  },
  {
   "cell_type": "code",
   "execution_count": 6,
   "id": "89f22f2a",
   "metadata": {},
   "outputs": [],
   "source": [
    "# 코드를 작성하세요.\n",
    "# 필요하면 코드셀 또는 텍스트셀을 추가할 수 있습니다.\n",
    "\n",
    "# radius = input(\"정수를 입력하세요: \")"
   ]
  },
  {
   "cell_type": "markdown",
   "id": "948e92e4",
   "metadata": {},
   "source": [
    "## 예제 7"
   ]
  },
  {
   "cell_type": "markdown",
   "id": "c29c3bab",
   "metadata": {},
   "source": [
    "두 자연수 $x$와 $y$를 입력받아 두 수의 \n",
    "산술평균<font size = \"2\">arithmetic mean</font>, \n",
    "기하평균<font size = \"2\">geometric mean</font>, \n",
    "조화평균<font size = \"2\">harmonic mean</font>을 \n",
    "출력하는 코드를 작성하여라.\n",
    "단 소수점 둘째자리에서 반올림한다.\n",
    "\n",
    "힌트: 두 자연수 x와 y의 산술평균($M_a$), 기하평균($M_g$), 조화평균($M_h$)을 구하는 식은 아래와 같으며\n",
    "`math` 또는 `numpy` 모듈의 `sqrt()` 함수를 이용하여 제곱근을 계산할 수 있다.\n",
    "\n",
    "$$\n",
    "\\begin{align*}\n",
    "M_a &= \\frac{x + y}{2}\\\\\n",
    "M_g &= \\sqrt{x y} \\\\\n",
    "M_h &= \\frac{2}{\\frac{1}{x} + \\frac{1}{y}}\n",
    "\\end{align*}\n",
    "$$\n",
    "\n",
    "입력:\n",
    "\n",
    "```python\n",
    "x = 3\n",
    "y = 7\n",
    "```\n",
    "\n",
    "출력\n",
    "\n",
    "```python\n",
    "ma = 5.0\n",
    "mg = 4.6\n",
    "mh = 4.2\n",
    "```"
   ]
  },
  {
   "cell_type": "code",
   "execution_count": 7,
   "id": "d3f3d287",
   "metadata": {},
   "outputs": [],
   "source": [
    "# 코드를 작성하세요.\n",
    "# 필요하면 코드셀 또는 텍스트셀을 추가할 수 있습니다.\n",
    "\n",
    "# x = input(\"정수를 입력하세요: \")\n",
    "# y = input(\"정수를 입력하세요: \")\n",
    "# 또는\n",
    "# x, y = input(\"정수 두 개를 스페이스로 구분해서 입력하세요: \").split()"
   ]
  },
  {
   "cell_type": "markdown",
   "id": "2dedefbd",
   "metadata": {},
   "source": [
    "## 예제 8"
   ]
  },
  {
   "cell_type": "markdown",
   "id": "e7c2bb54",
   "metadata": {},
   "source": [
    "다음은 BTS의 버터(Butter) 가사 일부분이다. \n",
    "아래와 같이 문자열을 출력하는 코드를 작성하여라(따옴표 포함).  \n",
    "\n",
    "```\n",
    "Smooth like \"butter\"\n",
    "    Like a criminal undercover\n",
    "        Gon' pop like trouble\n",
    "            Breakin' into your heart like that\n",
    "```\n",
    "\n",
    "힌트: 탭키 문자를 사용한다."
   ]
  },
  {
   "cell_type": "code",
   "execution_count": 8,
   "id": "6bee7904",
   "metadata": {},
   "outputs": [],
   "source": [
    "# 코드를 작성하세요.\n",
    "# 필요하면 코드셀 또는 텍스트셀을 추가할 수 있습니다.\n"
   ]
  },
  {
   "cell_type": "markdown",
   "id": "9632fd8d",
   "metadata": {},
   "source": [
    "## 예제 9"
   ]
  },
  {
   "cell_type": "markdown",
   "id": "eac218aa",
   "metadata": {},
   "source": [
    "가로, 세로 $30cm \\times 30cm$ 크기의 타일이 있다.\n",
    "타일은 온장을 그대로 사용할 수도 있고, 잘라서 일부분만 사용할 수도 있다.\n",
    "단, 잘라서 사용한 타일의 나머지는 사용하지 않는다.\n",
    "타일을 붙혀야 하는 공간의 가로, 세로 크기가 주어졌을 때 타일을 깔기 위해 사용되는 온장 타일과 \n",
    "잘라서 사용한 타일의 개수를 지정된 형식으로 출력하는 코드를 작성하여라.  \n",
    "\n",
    "입력: \n",
    "```python\n",
    "width = 400\n",
    "height = 300\n",
    "```\n",
    "\n",
    "출력: \n",
    "\n",
    "```python\n",
    "온장타일: 130\n",
    "자른타일:  10\n",
    "```"
   ]
  },
  {
   "cell_type": "code",
   "execution_count": 9,
   "id": "6528cdd6",
   "metadata": {},
   "outputs": [],
   "source": [
    "# 코드를 작성하세요.\n",
    "# 필요하면 코드셀 또는 텍스트셀을 추가할 수 있습니다.\n",
    "\n",
    "# width = input(\"정수를 입력하세요: \")\n",
    "# height = input(\"정수를 입력하세요: \")\n",
    "# 또는\n",
    "# width, height = input(\"정수 두 개를 스페이스로 구분해서 입력하세요: \").split()"
   ]
  },
  {
   "cell_type": "markdown",
   "id": "9f726294",
   "metadata": {},
   "source": [
    "## 예제 10"
   ]
  },
  {
   "cell_type": "markdown",
   "id": "5abbc1b0",
   "metadata": {},
   "source": [
    "대기실에 N 개의 의자가 일렬로 놓여 있다.\n",
    "어느 두 사람도 이웃하여 앉지 않을 때, 앉을 수 있는 최대 인원수와\n",
    "최소 인원수를 출력하는 함수 `max_min_chair(N)`를 구현하라.\n",
    "\n",
    "단, N은 양의 정수이고 반드시 한 자리 이상 자리를 채워야 하며 자리를 채운 후에는 더 이상 어느 누구도 위 조건을 만족하며 앉을 수 있는 자리가 없어야 한다.\n",
    "예를 들어 의지가 7개인 경우 아래의 경우들은 허용되지 않는다.\n",
    "\n",
    "- `O`: 자리 앉음\n",
    "- `X`: 아무도 않지 않음\n",
    "\n",
    "```\n",
    "XXOXOXO\n",
    "XOXXOXX\n",
    "```\n",
    "\n",
    "함수의 반환값은 최대인원과 최소인원으로 구성된 튜플이어야 한다.\n",
    "\n",
    "힌트: 2배수, 3배수 여부를 이용한다."
   ]
  },
  {
   "cell_type": "code",
   "execution_count": 1,
   "id": "32987798",
   "metadata": {},
   "outputs": [],
   "source": [
    "# None 적절한 표현식으로 대체한다.\n",
    "\n",
    "def max_min_chair(N):\n",
    "    max = None\n",
    "    min = None\n",
    "\n",
    "    return max, min"
   ]
  },
  {
   "cell_type": "markdown",
   "id": "10229527",
   "metadata": {},
   "source": [
    "아래 코드는 절대로 수정하지 마세요."
   ]
  },
  {
   "cell_type": "code",
   "execution_count": null,
   "id": "bc09ea30",
   "metadata": {},
   "outputs": [],
   "source": [
    "# 아래 코드를 실행할 때 오류가 발생하지 않아야 한다.\n",
    "\n",
    "assert max_min_chair(5) == (3, 2)\n",
    "assert max_min_chair(7) == (4, 3)\n",
    "assert max_min_chair(10) == (5, 4)\n",
    "assert max_min_chair(20) == (10, 7)"
   ]
  },
  {
   "cell_type": "markdown",
   "id": "e5a75b5e",
   "metadata": {},
   "source": [
    "## 예제 11"
   ]
  },
  {
   "cell_type": "markdown",
   "id": "fff19ed9",
   "metadata": {},
   "source": [
    "키와 몸무게를 인자로 받아 체질량지수(BMI)를 구하는 코드를 작성하여라.\n",
    "\n",
    "$$\\texttt{BMI} = \\frac{\\texttt{몸무게}}{\\texttt{키}^2}$$\n",
    "\n",
    "단, 몸무게는 킬로그램(kg) 을, 키는 미터(m)를 단위로 사용한다.\n",
    "또한 BMI 수치에 따른 체중 분류는 다음과 같다.\n",
    "\n",
    "| BMI 수치 | 체중 분류 |\n",
    "| :---: | :--- |\n",
    "| BMI <= 18.5 | 저체중 |\n",
    "| 18.5 < BMI <= 23 | 정상 |\n",
    "| 23 < BMI <= 25 | 과체중 |\n",
    "| 25 < BMI <= 30 | 비만 |\n",
    "| BMI > 30 | 고도비만 |\n",
    "\n",
    "입력:\n",
    "\n",
    "```python\n",
    "weight = 72   # 몸무게\n",
    "height = 178  # 키\n",
    "```\n",
    "\n",
    "출력:\n",
    "\n",
    "```python\n",
    "BMI는 정상 수치입니다.\n",
    "```"
   ]
  },
  {
   "cell_type": "code",
   "execution_count": 2,
   "id": "372476e0",
   "metadata": {},
   "outputs": [],
   "source": [
    "# 코드를 작성하세요.\n",
    "# 필요하면 코드셀 또는 텍스트셀을 추가할 수 있습니다.\n",
    "\n",
    "# weight = input(\"몸무게를 입력하세요: \")\n",
    "# height = input(\"키를 입력하세요: \")"
   ]
  }
 ],
 "metadata": {
  "kernelspec": {
   "display_name": "Python 3 (ipykernel)",
   "language": "python",
   "name": "python3"
  },
  "language_info": {
   "codemirror_mode": {
    "name": "ipython",
    "version": 3
   },
   "file_extension": ".py",
   "mimetype": "text/x-python",
   "name": "python",
   "nbconvert_exporter": "python",
   "pygments_lexer": "ipython3",
   "version": "3.11.5"
  },
  "toc-autonumbering": true,
  "toc-showcode": false,
  "toc-showmarkdowntxt": false
 },
 "nbformat": 4,
 "nbformat_minor": 5
}
