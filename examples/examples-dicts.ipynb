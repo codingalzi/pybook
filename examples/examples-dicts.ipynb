{
 "cells": [
  {
   "cell_type": "markdown",
   "metadata": {
    "id": "eb60dd52"
   },
   "source": [
    "## 예제"
   ]
  },
  {
   "cell_type": "markdown",
   "metadata": {},
   "source": [
    "*사전 문제로 다룰 것!*\n",
    "\n",
    "사용자의 이름과 전화번호를 입력 받으면 다음과 같이 반환하는 \n",
    "`phone_book()` 함수를 구현하라.\n",
    "단, 사용자의 이름은 두 글자에서 네 글자 사이며, \n",
    "핸드폰 번호는 9개에서 11개의 숫자가 다양한 방식으로 주어진다."
   ]
  },
  {
   "cell_type": "code",
   "execution_count": 2,
   "metadata": {
    "colab": {
     "base_uri": "https://localhost:8080/"
    },
    "id": "8c8c762d",
    "outputId": "fa3d1933-052c-4cae-810a-b36828b4df6a"
   },
   "outputs": [
    {
     "name": "stdout",
     "output_type": "stream",
     "text": [
      "('김*현', 5678)\n",
      "('강*', 5678)\n",
      "('김*현이', 5678)\n",
      "('강*이', 5678)\n",
      "('김*현', 5678)\n"
     ]
    }
   ],
   "source": [
    "# pass 와  None을 적절한 명령문과 표현식으로 대체하라.\n",
    "\n",
    "def phone_book(name, phone):\n",
    "    letter_list = list(name)\n",
    "    letter_list[1] = \"*\"\n",
    "    censored_name = \"\".join(letter_list)\n",
    "    censored_phone = int(phone[-4:])\n",
    "\n",
    "    return (censored_name, censored_phone)\n",
    "\n",
    "\n",
    "print(phone_book('김강현', '010-1234-5678'))\n",
    "print(phone_book('강현', '01012345678'))\n",
    "print(phone_book('김강현이', '031-123-5678'))\n",
    "print(phone_book('강현이', '02-123-5678'))\n",
    "print(phone_book('김강현', '010.1234.5678'))\n",
    "\n",
    "assert phone_book('김강현', '010-1234-5678') == ('김*현', 5678)\n",
    "assert phone_book('강현', '01012345678') == ('강*', 5678)\n",
    "assert phone_book('김강현이', '031-123-5678') == ('김*현이', 5678)\n",
    "assert phone_book('강현이', '02-123-5678') == ('강*이', 5678)\n",
    "assert phone_book('김강현', '010.1234.5678') == ('김*현', 5678)\n"
   ]
  },
  {
   "cell_type": "code",
   "execution_count": null,
   "metadata": {},
   "outputs": [],
   "source": []
  },
  {
   "cell_type": "code",
   "execution_count": null,
   "metadata": {},
   "outputs": [],
   "source": []
  },
  {
   "cell_type": "markdown",
   "metadata": {
    "id": "gSF_tBKvfg9V"
   },
   "source": [
    "**문제1) [영어 사전 만들기]**\n",
    "\n",
    "* 각 단계의 내용이 충족되도록 전 단계의 코드를 수정 보완하여라.   \n",
    "예를 들어, 2단계에 작성하는 코드는 1단계와 2단계의 내용이 모두 충족되어야 한다. \n",
    "\n",
    "\n",
    "1단계) 영어 사전에 있는 단어와 뜻은 아래와 같다. \n",
    "```\n",
    "dog - 개\n",
    "cat - 고양이\n",
    "lion - 사자\n",
    "tiger - 호랑이\n",
    "snake - 뱀\n",
    "```\n",
    "\n",
    "영단어는 key, 뜻은 value로 하는 딕셔너리 `eng_dict`을 만들어라. \n",
    "\n"
   ]
  },
  {
   "cell_type": "code",
   "execution_count": null,
   "metadata": {
    "colab": {
     "base_uri": "https://localhost:8080/"
    },
    "executionInfo": {
     "elapsed": 879,
     "status": "ok",
     "timestamp": 1618073146378,
     "user": {
      "displayName": "KyeongRyong Lee",
      "photoUrl": "",
      "userId": "08575822710201651490"
     },
     "user_tz": -540
    },
    "id": "vbQeYUiJNHEe",
    "outputId": "20eca004-b733-4e9f-899e-ccfaacea1d96"
   },
   "outputs": [
    {
     "data": {
      "text/plain": [
       "{'cat': '고양이', 'dog': '개', 'lion': '사자', 'snake': '뱀', 'tiger': '호랑이'}"
      ]
     },
     "execution_count": 1,
     "metadata": {
      "tags": []
     },
     "output_type": "execute_result"
    }
   ],
   "source": [
    "eng_dict = {'dog': '개', 'cat': '고양이', 'lion': '사자', 'tiger': '호랑이', 'snake': '뱀'}\n",
    "eng_dict"
   ]
  },
  {
   "cell_type": "markdown",
   "metadata": {
    "id": "xC5LuDseA62d"
   },
   "source": [
    "2단계) 사용자에게 영단어를 입력받는 코드를 작성하여라. 이때 입력받은 값은 소문자로 변경한다. \n",
    "> 검색할 영단어를 입력하세요 :"
   ]
  },
  {
   "cell_type": "code",
   "execution_count": null,
   "metadata": {
    "colab": {
     "base_uri": "https://localhost:8080/"
    },
    "executionInfo": {
     "elapsed": 19567,
     "status": "ok",
     "timestamp": 1618073165077,
     "user": {
      "displayName": "KyeongRyong Lee",
      "photoUrl": "",
      "userId": "08575822710201651490"
     },
     "user_tz": -540
    },
    "id": "FNbmx6YjNJvS",
    "outputId": "9eaf794c-c997-48db-a839-8253d5087253"
   },
   "outputs": [
    {
     "name": "stdout",
     "output_type": "stream",
     "text": [
      "검색할 영단어를 입력하세요 : dog\n"
     ]
    }
   ],
   "source": [
    "eng_dict = {'dog': '개', 'cat': '고양이', 'lion': '사자', 'tiger': '호랑이', 'snake': '뱀'}\n",
    "\n",
    "a_word = input(\"검색할 영단어를 입력하세요 : \").lower()"
   ]
  },
  {
   "cell_type": "markdown",
   "metadata": {
    "id": "bw0qB6wTA65i"
   },
   "source": [
    "3단계) 사용자가 입력한 단어가 영어 사전에 있다면, 그 뜻을 보여준다. "
   ]
  },
  {
   "cell_type": "markdown",
   "metadata": {
    "id": "mK7tgd_VQYif"
   },
   "source": [
    "해설: 다음과 같이 `in` 연산자를 이용하여 key의 존재 여부를 확인할 수 있다. "
   ]
  },
  {
   "cell_type": "code",
   "execution_count": null,
   "metadata": {
    "colab": {
     "base_uri": "https://localhost:8080/"
    },
    "executionInfo": {
     "elapsed": 23863,
     "status": "ok",
     "timestamp": 1618073169384,
     "user": {
      "displayName": "KyeongRyong Lee",
      "photoUrl": "",
      "userId": "08575822710201651490"
     },
     "user_tz": -540
    },
    "id": "IKX8dhoZNV2V",
    "outputId": "3487cfa9-55da-4c61-9c55-f507e15f324c"
   },
   "outputs": [
    {
     "name": "stdout",
     "output_type": "stream",
     "text": [
      "검색할 영단어를 입력하세요 : dog\n",
      "dog 의 뜻은 개 입니다.\n"
     ]
    }
   ],
   "source": [
    "eng_dict = {'dog': '개', 'cat': '고양이', 'lion': '사자', 'tiger': '호랑이', 'snake': '뱀'}\n",
    "\n",
    "a_word = input(\"검색할 영단어를 입력하세요 : \").lower()\n",
    "\n",
    "if a_word in eng_dict:\n",
    "  print(a_word, \"의 뜻은\", eng_dict[a_word], \"입니다.\")\n",
    "else:\n",
    "  print(a_word, \"은(는) 사전에 존재하지 않는 단어입니다.\")"
   ]
  },
  {
   "cell_type": "markdown",
   "metadata": {
    "id": "_ozKTWN-QqdW"
   },
   "source": [
    "해설: 존재하지 않는 key를 인덱싱하였을 때 `KeyError` 에러가 발생한다는 점을 이용할 수도 있다. "
   ]
  },
  {
   "cell_type": "code",
   "execution_count": null,
   "metadata": {
    "colab": {
     "base_uri": "https://localhost:8080/"
    },
    "executionInfo": {
     "elapsed": 28722,
     "status": "ok",
     "timestamp": 1618073174254,
     "user": {
      "displayName": "KyeongRyong Lee",
      "photoUrl": "",
      "userId": "08575822710201651490"
     },
     "user_tz": -540
    },
    "id": "ukfBpK3xPtIk",
    "outputId": "49872197-6b48-42c3-f7a0-9ce9d29b523f"
   },
   "outputs": [
    {
     "name": "stdout",
     "output_type": "stream",
     "text": [
      "검색할 영단어를 입력하세요 : elephant\n",
      "elephant 은(는) 사전에 존재하지 않는 단어입니다.\n"
     ]
    }
   ],
   "source": [
    "eng_dict = {'dog': '개', 'cat': '고양이', 'lion': '사자', 'tiger': '호랑이', 'snake': '뱀'}\n",
    "\n",
    "a_word = input(\"검색할 영단어를 입력하세요 : \").lower()\n",
    "\n",
    "try:\n",
    "  print(a_word, \"의 뜻은\", eng_dict[a_word], \"입니다.\")\n",
    "except KeyError:\n",
    "  print(a_word, \"은(는) 사전에 존재하지 않는 단어입니다.\")"
   ]
  },
  {
   "cell_type": "markdown",
   "metadata": {
    "id": "b2oFxXGSQ9OL"
   },
   "source": [
    "해설: `dict`의 `get` 메소드를 이용하여 리턴값이 `None`인지 확인하여도 key의 존재 여부를 확인할 수 있다. "
   ]
  },
  {
   "cell_type": "code",
   "execution_count": null,
   "metadata": {
    "colab": {
     "base_uri": "https://localhost:8080/"
    },
    "executionInfo": {
     "elapsed": 33241,
     "status": "ok",
     "timestamp": 1618073178783,
     "user": {
      "displayName": "KyeongRyong Lee",
      "photoUrl": "",
      "userId": "08575822710201651490"
     },
     "user_tz": -540
    },
    "id": "VJQbKOR9QOyo",
    "outputId": "12e65984-5941-4a8b-8e98-20ddebc0329b"
   },
   "outputs": [
    {
     "name": "stdout",
     "output_type": "stream",
     "text": [
      "검색할 영단어를 입력하세요 : dog\n",
      "dog 의 뜻은 개 입니다.\n"
     ]
    }
   ],
   "source": [
    "eng_dict = {'dog': '개', 'cat': '고양이', 'lion': '사자', 'tiger': '호랑이', 'snake': '뱀'}\n",
    "\n",
    "a_word = input(\"검색할 영단어를 입력하세요 : \").lower()\n",
    "\n",
    "meaning = eng_dict.get(a_word)\n",
    "if meaning != None:\n",
    "  print(a_word, \"의 뜻은\", meaning, \"입니다.\")\n",
    "else:\n",
    "  print(a_word, \"은(는) 사전에 존재하지 않는 단어입니다.\")"
   ]
  },
  {
   "cell_type": "markdown",
   "metadata": {
    "id": "8Kg8k8gRRhSS"
   },
   "source": [
    "참조: 다만, 주의할 점은 key가 존재하지만 그 key에 해당하는 value의 값이 `None`일 수도 있어서 의도와 다르게 작동하는 경우가 생길 수 있다. \n",
    "\n",
    "예시를 위해서 asdf라는 단어가 존재하나 그 뜻이 없다고 가정하자. 이를 나타내기 위해 그 뜻에 해당하는 자리에 `None`을 저장했다면 다음과 같은 결과를 얻을 수도 있다. "
   ]
  },
  {
   "cell_type": "code",
   "execution_count": null,
   "metadata": {
    "colab": {
     "base_uri": "https://localhost:8080/"
    },
    "executionInfo": {
     "elapsed": 36579,
     "status": "ok",
     "timestamp": 1618073182133,
     "user": {
      "displayName": "KyeongRyong Lee",
      "photoUrl": "",
      "userId": "08575822710201651490"
     },
     "user_tz": -540
    },
    "id": "_NgTTNOnRoEC",
    "outputId": "5df313ff-1f73-403b-bc34-cb5bec71a9cf"
   },
   "outputs": [
    {
     "name": "stdout",
     "output_type": "stream",
     "text": [
      "검색할 영단어를 입력하세요 : asdf\n",
      "asdf 은(는) 사전에 존재하지 않는 단어입니다.\n"
     ]
    }
   ],
   "source": [
    "eng_dict_example = {'dog': '개', 'cat': '고양이', 'lion': '사자', 'tiger': '호랑이', 'snake': '뱀', 'asdf':None}\n",
    "\n",
    "a_word = input(\"검색할 영단어를 입력하세요 : \").lower()\n",
    "\n",
    "meaning = eng_dict_example.get(a_word)\n",
    "if meaning != None:\n",
    "  print(a_word, \"의 뜻은\", meaning, \"입니다.\")\n",
    "else:\n",
    "  print(a_word, \"은(는) 사전에 존재하지 않는 단어입니다.\")"
   ]
  },
  {
   "cell_type": "markdown",
   "metadata": {
    "id": "Uwd9F0X_JJjW"
   },
   "source": [
    "4단계) 사용자가 프로그램이 종료하길 원할 때까지 단어를 입력받아라. \n",
    "> 검색을 계속 하시겠어요? (y/n)"
   ]
  },
  {
   "cell_type": "markdown",
   "metadata": {
    "id": "mvfcU4knT3Rq"
   },
   "source": [
    "해설: 'n'을 입력한 경우에만 `break`를 통해 반복문을 중지하면 된다. "
   ]
  },
  {
   "cell_type": "code",
   "execution_count": null,
   "metadata": {
    "colab": {
     "base_uri": "https://localhost:8080/"
    },
    "executionInfo": {
     "elapsed": 58016,
     "status": "ok",
     "timestamp": 1618073203580,
     "user": {
      "displayName": "KyeongRyong Lee",
      "photoUrl": "",
      "userId": "08575822710201651490"
     },
     "user_tz": -540
    },
    "id": "EXwOB4R4P36v",
    "outputId": "0ac98aa3-a230-4b9f-f442-3de3ea494cd2"
   },
   "outputs": [
    {
     "name": "stdout",
     "output_type": "stream",
     "text": [
      "검색할 영단어를 입력하세요 : dog\n",
      "dog 의 뜻은 개 입니다.\n",
      "검색을 계속 하시겠어요? (y/n) y\n",
      "검색할 영단어를 입력하세요 : cat\n",
      "cat 의 뜻은 고양이 입니다.\n",
      "검색을 계속 하시겠어요? (y/n) y\n",
      "검색할 영단어를 입력하세요 : elephant\n",
      "elephant 은(는) 사전에 존재하지 않는 단어입니다.\n",
      "검색을 계속 하시겠어요? (y/n) n\n",
      "프로그램을 종료합니다.\n"
     ]
    }
   ],
   "source": [
    "eng_dict = {'dog': '개', 'cat': '고양이', 'lion': '사자', 'tiger': '호랑이', 'snake': '뱀'}\n",
    "\n",
    "while True:\n",
    "  a_word = input(\"검색할 영단어를 입력하세요 : \").lower()\n",
    "\n",
    "  if a_word in eng_dict:\n",
    "    print(a_word, \"의 뜻은\", eng_dict[a_word], \"입니다.\")\n",
    "  else:\n",
    "    print(a_word, \"은(는) 사전에 존재하지 않는 단어입니다.\")\n",
    "  \n",
    "  # 검색을 계속 할지 묻고 계속하지 않을 경우 break를 통해 종료\n",
    "  continue_search = input(\"검색을 계속 하시겠어요? (y/n) \")\n",
    "  if continue_search == 'n':\n",
    "    print(\"프로그램을 종료합니다.\")\n",
    "    break"
   ]
  },
  {
   "cell_type": "markdown",
   "metadata": {
    "id": "VlceXfJSA68R"
   },
   "source": [
    "5단계) 사용자가 입력한 단어가 영어 사전에 없다면, 사용자에게 입력한 단어와 뜻을 사전에 추가할지를 묻는다.  \n",
    "추가를 원하면, 뜻을 입력받아 영어 사전에 추가한다. \n"
   ]
  },
  {
   "cell_type": "code",
   "execution_count": null,
   "metadata": {
    "colab": {
     "base_uri": "https://localhost:8080/"
    },
    "executionInfo": {
     "elapsed": 23754,
     "status": "ok",
     "timestamp": 1618073253811,
     "user": {
      "displayName": "KyeongRyong Lee",
      "photoUrl": "",
      "userId": "08575822710201651490"
     },
     "user_tz": -540
    },
    "id": "iLBZsm4DUIVL",
    "outputId": "fc514fe3-df1d-4042-8c55-155e29fd8253"
   },
   "outputs": [
    {
     "name": "stdout",
     "output_type": "stream",
     "text": [
      "검색할 영단어를 입력하세요 : dog\n",
      "dog 의 뜻은 개 입니다.\n",
      "검색을 계속 하시겠어요? (y/n) y\n",
      "검색할 영단어를 입력하세요 : cat\n",
      "cat 의 뜻은 고양이 입니다.\n",
      "검색을 계속 하시겠어요? (y/n) y\n",
      "검색할 영단어를 입력하세요 : elephant\n",
      "elephant 은(는) 사전에 존재하지 않는 단어입니다.\n",
      "입력한 단어를 사전에 추가하시겠어요? (y/n) y\n",
      "단어의 뜻을 입력해주세요 : 코끼리\n",
      "단어의 뜻이 사전에 추가되었습니다.\n",
      "검색을 계속 하시겠어요? (y/n) y\n",
      "검색할 영단어를 입력하세요 : lion\n",
      "lion 의 뜻은 사자 입니다.\n",
      "검색을 계속 하시겠어요? (y/n) y\n",
      "검색할 영단어를 입력하세요 : elephant\n",
      "elephant 의 뜻은 코끼리 입니다.\n",
      "검색을 계속 하시겠어요? (y/n) n\n",
      "프로그램을 종료합니다.\n"
     ]
    }
   ],
   "source": [
    "eng_dict = {'dog': '개', 'cat': '고양이', 'lion': '사자', 'tiger': '호랑이', 'snake': '뱀'}\n",
    "\n",
    "while True:\n",
    "  a_word = input(\"검색할 영단어를 입력하세요 : \").lower()\n",
    "\n",
    "  if a_word in eng_dict:\n",
    "    print(a_word, \"의 뜻은\", eng_dict[a_word], \"입니다.\")\n",
    "  else:\n",
    "    print(a_word, \"은(는) 사전에 존재하지 않는 단어입니다.\")\n",
    "\n",
    "    # 입력한 단어를 사전에 추가할지 묻고 추가할 경우 뜻을 입력받아 추가한다. \n",
    "    add_a_word = input(\"입력한 단어를 사전에 추가하시겠어요? (y/n) \")\n",
    "    if add_a_word == 'y':\n",
    "      meaning = input(\"단어의 뜻을 입력해주세요 : \")\n",
    "      eng_dict[a_word] = meaning\n",
    "      print(\"단어의 뜻이 사전에 추가되었습니다.\")\n",
    "  \n",
    "  continue_search = input(\"검색을 계속 하시겠어요? (y/n) \")\n",
    "  if continue_search == 'n':\n",
    "    print(\"프로그램을 종료합니다.\")\n",
    "    break"
   ]
  },
  {
   "cell_type": "markdown",
   "metadata": {
    "id": "EFwOsiJZT7H1"
   },
   "source": [
    "**문제2)**  `(1, 2, 3, 4)` 튜플에 정수 `5`를 추가하여 `(1, 2, 3, 4, 5)`를 만들어보자."
   ]
  },
  {
   "cell_type": "markdown",
   "metadata": {
    "id": "c471_6KcV4iW"
   },
   "source": [
    "해설: `5`라는 원소 한 개를 가진 튜플 `(5, )`를 더하면 원하는 튜플을 얻을 수 있다. "
   ]
  },
  {
   "cell_type": "code",
   "execution_count": null,
   "metadata": {
    "colab": {
     "base_uri": "https://localhost:8080/"
    },
    "executionInfo": {
     "elapsed": 749,
     "status": "ok",
     "timestamp": 1618073265798,
     "user": {
      "displayName": "KyeongRyong Lee",
      "photoUrl": "",
      "userId": "08575822710201651490"
     },
     "user_tz": -540
    },
    "id": "hemlGV50VE__",
    "outputId": "570dc7ad-3087-4651-e86c-357ebbbb9116"
   },
   "outputs": [
    {
     "data": {
      "text/plain": [
       "(1, 2, 3, 4, 5)"
      ]
     },
     "execution_count": 10,
     "metadata": {
      "tags": []
     },
     "output_type": "execute_result"
    }
   ],
   "source": [
    "tuple_begin = (1, 2, 3, 4)\n",
    "\n",
    "tuple_end = tuple_begin + (5, )\n",
    "tuple_end"
   ]
  },
  {
   "cell_type": "markdown",
   "metadata": {
    "id": "3cjsYmWoWbWI"
   },
   "source": [
    "해설: 리스트로 변환한 후 적절한 원소를 추가하고 이를 다시 튜플로 변환하여도 된다. "
   ]
  },
  {
   "cell_type": "code",
   "execution_count": null,
   "metadata": {
    "colab": {
     "base_uri": "https://localhost:8080/"
    },
    "executionInfo": {
     "elapsed": 1426,
     "status": "ok",
     "timestamp": 1618073266493,
     "user": {
      "displayName": "KyeongRyong Lee",
      "photoUrl": "",
      "userId": "08575822710201651490"
     },
     "user_tz": -540
    },
    "id": "Abfyu_S2WKx3",
    "outputId": "5021a61d-7ebe-4e9f-d62a-224deaf3b220"
   },
   "outputs": [
    {
     "data": {
      "text/plain": [
       "(1, 2, 3, 4, 5)"
      ]
     },
     "execution_count": 11,
     "metadata": {
      "tags": []
     },
     "output_type": "execute_result"
    }
   ],
   "source": [
    "tuple_begin = (1, 2, 3, 4)\n",
    "\n",
    "list_tuple = list(tuple_begin)\n",
    "list_tuple.append(5)\n",
    "\n",
    "tuple_end = tuple(list_tuple)\n",
    "tuple_end"
   ]
  },
  {
   "cell_type": "markdown",
   "metadata": {
    "id": "kmbiRMmjA6_a"
   },
   "source": [
    "**문제3) [자판기 만들기]**\n",
    "\n",
    "* 각 단계의 내용이 충족되도록 전 단계의 코드를 수정 보완하여라.   \n",
    "예를 들어, 2단계에 작성하는 코드는 1단계와 2단계의 내용이 모두 충족되어야 한다. \n",
    "\n",
    "1단계) 아래 `item_price` 에는 음료와 과자의 가격이 들어 있다. \n",
    "\n",
    "```\n",
    "item_price = \"커피-1050원, 우유-870원, 밀크티-1300원, 새우과자-950원, 감자칩-1100원\"\n",
    "```\n",
    "아래와 같이 딕셔너리로 만들어라.\n",
    "```\n",
    "item_price_dict = {'커피' : 1050, '우유' : 870, '밀크티' : 1300, '새우과자' : 950, '감자칩' : 1100}\n",
    "```\n",
    "\n"
   ]
  },
  {
   "cell_type": "markdown",
   "metadata": {
    "id": "BTzjEDCyY4Fm"
   },
   "source": [
    "해설: 주어진 문자열은 \"물건-가격\" 형태의 문자열이 반점으로 여러 개가 이어져있는 형태이고 가격은 \"원\"이라는 단위가 표시되어 있다. 따라서 반점으로 문자열을 쪼갠 후에 물건과 가격을 추출하면 된다. "
   ]
  },
  {
   "cell_type": "code",
   "execution_count": null,
   "metadata": {
    "colab": {
     "base_uri": "https://localhost:8080/"
    },
    "executionInfo": {
     "elapsed": 1420,
     "status": "ok",
     "timestamp": 1618073266494,
     "user": {
      "displayName": "KyeongRyong Lee",
      "photoUrl": "",
      "userId": "08575822710201651490"
     },
     "user_tz": -540
    },
    "id": "0GP9KE5oXVZr",
    "outputId": "51012a42-da4d-4dbd-f685-90ae30bbbff8"
   },
   "outputs": [
    {
     "name": "stdout",
     "output_type": "stream",
     "text": [
      "{'커피': 1050, '우유': 870, '밀크티': 1300, '새우과자': 950, '감자칩': 1100}\n"
     ]
    }
   ],
   "source": [
    "item_price = \"커피-1050원, 우유-870원, 밀크티-1300원, 새우과자-950원, 감자칩-1100원\"\n",
    "\n",
    "item_list = item_price.split(\", \")\n",
    "\n",
    "item_price_dict = dict()\n",
    "for a_item in item_list:\n",
    "  item_and_price = a_item.split('-')\n",
    "\n",
    "  item = item_and_price[0]\n",
    "  price = int(item_and_price[1].replace('원', ''))\n",
    "\n",
    "  item_price_dict[item] = price\n",
    "\n",
    "print(item_price_dict)"
   ]
  },
  {
   "cell_type": "markdown",
   "metadata": {
    "id": "Fkqk-9qiA7Bq"
   },
   "source": [
    "2단계) 사용자에게 금액을 입력받아라(사용자가 지불하는 돈을 의미한다. 3000원 이하를 입력한다고 가정한다.)\n",
    "\n",
    "> 돈을 넣어주세요(단위 : 원) : "
   ]
  },
  {
   "cell_type": "code",
   "execution_count": null,
   "metadata": {
    "colab": {
     "base_uri": "https://localhost:8080/"
    },
    "executionInfo": {
     "elapsed": 5886,
     "status": "ok",
     "timestamp": 1618073270966,
     "user": {
      "displayName": "KyeongRyong Lee",
      "photoUrl": "",
      "userId": "08575822710201651490"
     },
     "user_tz": -540
    },
    "id": "QTcJSveMZ18A",
    "outputId": "669141dd-ce1c-4520-c299-dc2d63db3d1d"
   },
   "outputs": [
    {
     "name": "stdout",
     "output_type": "stream",
     "text": [
      "돈을 넣어주세요(단위 : 원) : 3000\n"
     ]
    }
   ],
   "source": [
    "item_price = \"커피-1050원, 우유-870원, 밀크티-1300원, 새우과자-950원, 감자칩-1100원\"\n",
    "\n",
    "item_list = item_price.split(\", \")\n",
    "\n",
    "item_price_dict = dict()\n",
    "for a_item in item_list:\n",
    "  item_and_price = a_item.split('-')\n",
    "\n",
    "  item = item_and_price[0]\n",
    "  price = int(item_and_price[1].replace('원', ''))\n",
    "\n",
    "  item_price_dict[item] = price\n",
    "\n",
    "# 돈을 입력받는다.\n",
    "money = int(input(\"돈을 넣어주세요(단위 : 원) : \"))"
   ]
  },
  {
   "cell_type": "markdown",
   "metadata": {
    "id": "cjeYYW6YA7Eq"
   },
   "source": [
    "3단계) 판매하는 전체 물건과 가격을 보여 준 다음, 구매할 물건을 하나 입력받는다.  \n",
    "> 구매할 물건을 입력하세요 : \n"
   ]
  },
  {
   "cell_type": "code",
   "execution_count": null,
   "metadata": {
    "colab": {
     "base_uri": "https://localhost:8080/"
    },
    "executionInfo": {
     "elapsed": 10967,
     "status": "ok",
     "timestamp": 1618073276054,
     "user": {
      "displayName": "KyeongRyong Lee",
      "photoUrl": "",
      "userId": "08575822710201651490"
     },
     "user_tz": -540
    },
    "id": "FXftx27hahoH",
    "outputId": "1bba9442-389e-4e0f-b6ec-98a6ef4aa04f"
   },
   "outputs": [
    {
     "name": "stdout",
     "output_type": "stream",
     "text": [
      "돈을 넣어주세요(단위 : 원) : 3000\n",
      "판매하는 물건은 다음과 같습니다.\n",
      "커피 : 1050 원\n",
      "우유 : 870 원\n",
      "밀크티 : 1300 원\n",
      "새우과자 : 950 원\n",
      "감자칩 : 1100 원\n",
      "구매할 물건을 입력하세요 : 커피\n"
     ]
    }
   ],
   "source": [
    "item_price = \"커피-1050원, 우유-870원, 밀크티-1300원, 새우과자-950원, 감자칩-1100원\"\n",
    "\n",
    "item_list = item_price.split(\", \")\n",
    "\n",
    "item_price_dict = dict()\n",
    "for a_item in item_list:\n",
    "  item_and_price = a_item.split('-')\n",
    "\n",
    "  item = item_and_price[0]\n",
    "  price = int(item_and_price[1].replace('원', ''))\n",
    "\n",
    "  item_price_dict[item] = price\n",
    "\n",
    "money = int(input(\"돈을 넣어주세요(단위 : 원) : \"))\n",
    "\n",
    "# 판매하는 물건을 표시한다.\n",
    "print(\"판매하는 물건은 다음과 같습니다.\")\n",
    "for item in item_price_dict.keys():\n",
    "  price = item_price_dict[item]\n",
    "  print(item, \":\", price, '원')\n",
    "\n",
    "# 사고싶은 물건을 입력받는다. \n",
    "want_to_buy = input(\"구매할 물건을 입력하세요 : \")"
   ]
  },
  {
   "cell_type": "markdown",
   "metadata": {
    "id": "Y526_yoabS3W"
   },
   "source": [
    "참고: 아래와 같이 살 수 있는 항목만 보여주는 것도 가능하다. "
   ]
  },
  {
   "cell_type": "code",
   "execution_count": null,
   "metadata": {
    "colab": {
     "base_uri": "https://localhost:8080/"
    },
    "executionInfo": {
     "elapsed": 22333,
     "status": "ok",
     "timestamp": 1618073287427,
     "user": {
      "displayName": "KyeongRyong Lee",
      "photoUrl": "",
      "userId": "08575822710201651490"
     },
     "user_tz": -540
    },
    "id": "ezs-3GBTbZoo",
    "outputId": "2afa9e84-ff85-426f-dbe3-cadc80bd62f7"
   },
   "outputs": [
    {
     "name": "stdout",
     "output_type": "stream",
     "text": [
      "돈을 넣어주세요(단위 : 원) : 1000\n",
      "판매하는 물건은 다음과 같습니다.\n",
      "우유 : 870 원\n",
      "새우과자 : 950 원\n",
      "구매할 물건을 입력하세요 : 우유\n"
     ]
    }
   ],
   "source": [
    "item_price = \"커피-1050원, 우유-870원, 밀크티-1300원, 새우과자-950원, 감자칩-1100원\"\n",
    "\n",
    "item_list = item_price.split(\", \")\n",
    "\n",
    "item_price_dict = dict()\n",
    "for a_item in item_list:\n",
    "  item_and_price = a_item.split('-')\n",
    "\n",
    "  item = item_and_price[0]\n",
    "  price = int(item_and_price[1].replace('원', ''))\n",
    "\n",
    "  item_price_dict[item] = price\n",
    "\n",
    "money = int(input(\"돈을 넣어주세요(단위 : 원) : \"))\n",
    "\n",
    "print(\"판매하는 물건은 다음과 같습니다.\")\n",
    "for item in item_price_dict.keys():\n",
    "  price = item_price_dict[item]\n",
    "  # 살 수 있는 물건만 표시하도록 조건문을 추가한다. \n",
    "  if price <= money:\n",
    "    print(item, \":\", price, '원')\n",
    "\n",
    "want_to_buy = input(\"구매할 물건을 입력하세요 : \")"
   ]
  },
  {
   "cell_type": "markdown",
   "metadata": {
    "id": "RhMRb8xxA7HB"
   },
   "source": [
    "4단계) 사용자가 2단계)에서 입력한 금액이 구매할 물건의 금액보다 작으면,\n",
    "> 돈이 OOO원 부족합니다.\n",
    "  \n",
    "를 보여주고, 아니면 구매할 물건의 금액과 거스름돈을 보여준다. \n",
    "> OO의 가격은 OOO원이고, 거스름돈은 OOO원입니다. "
   ]
  },
  {
   "cell_type": "code",
   "execution_count": null,
   "metadata": {
    "colab": {
     "base_uri": "https://localhost:8080/"
    },
    "executionInfo": {
     "elapsed": 28507,
     "status": "ok",
     "timestamp": 1618073293607,
     "user": {
      "displayName": "KyeongRyong Lee",
      "photoUrl": "",
      "userId": "08575822710201651490"
     },
     "user_tz": -540
    },
    "id": "Gc4rFtO-cG3i",
    "outputId": "15390b3b-4a65-469b-d099-446c2b8f9816"
   },
   "outputs": [
    {
     "name": "stdout",
     "output_type": "stream",
     "text": [
      "돈을 넣어주세요(단위 : 원) : 3000\n",
      "판매하는 물건은 다음과 같습니다.\n",
      "커피 : 1050 원\n",
      "우유 : 870 원\n",
      "밀크티 : 1300 원\n",
      "새우과자 : 950 원\n",
      "감자칩 : 1100 원\n",
      "구매할 물건을 입력하세요 : 커피\n",
      "커피 의 가격은 1050 원이고, 거스름돈은 1950 원입니다.\n"
     ]
    }
   ],
   "source": [
    "item_price = \"커피-1050원, 우유-870원, 밀크티-1300원, 새우과자-950원, 감자칩-1100원\"\n",
    "\n",
    "item_list = item_price.split(\", \")\n",
    "\n",
    "item_price_dict = dict()\n",
    "for a_item in item_list:\n",
    "  item_and_price = a_item.split('-')\n",
    "\n",
    "  item = item_and_price[0]\n",
    "  price = int(item_and_price[1].replace('원', ''))\n",
    "\n",
    "  item_price_dict[item] = price\n",
    "\n",
    "money = int(input(\"돈을 넣어주세요(단위 : 원) : \"))\n",
    "\n",
    "print(\"판매하는 물건은 다음과 같습니다.\")\n",
    "for item in item_price_dict.keys():\n",
    "  price = item_price_dict[item]\n",
    "  print(item, \":\", price, '원')\n",
    "\n",
    "want_to_buy = input(\"구매할 물건을 입력하세요 : \")\n",
    "if want_to_buy in item_price_dict:\n",
    "  price = item_price_dict[want_to_buy]\n",
    "\n",
    "  if price > money:\n",
    "    shortage = price - money\n",
    "    print('돈이', shortage, '원 부족합니다.')\n",
    "  else:\n",
    "    change = money - price\n",
    "    print(want_to_buy, '의 가격은', price, '원이고, 거스름돈은', change, '원입니다.')"
   ]
  },
  {
   "cell_type": "markdown",
   "metadata": {
    "id": "rRD-_yxbfFII"
   },
   "source": [
    "참고: `print` 함수에 여러 가지 인자를 줘서 순서대로 출력하게 하면 출력된 인자들 사이에 공백이 존재한다. 예를 들어 위 블록의 마지막 `print` 구문의 경우 `\"커피\"`와 `\"의 가격은\"` 사이에 공백이 존재한다. 또, `price`와 `\"원\"` 사이에 공백이, `change`와 `\"원\"` 사이에 공백이 가능하다. "
   ]
  },
  {
   "cell_type": "code",
   "execution_count": null,
   "metadata": {
    "colab": {
     "base_uri": "https://localhost:8080/"
    },
    "executionInfo": {
     "elapsed": 28502,
     "status": "ok",
     "timestamp": 1618073293608,
     "user": {
      "displayName": "KyeongRyong Lee",
      "photoUrl": "",
      "userId": "08575822710201651490"
     },
     "user_tz": -540
    },
    "id": "cmZhvuLof1dy",
    "outputId": "a155c7a0-ce85-4f64-d4f7-f86f377a804a"
   },
   "outputs": [
    {
     "name": "stdout",
     "output_type": "stream",
     "text": [
      "커피 의 가격은 1050 원이고, 거스름돈은 1950 원입니다.\n"
     ]
    }
   ],
   "source": [
    "item = \"커피\"\n",
    "price = 1050\n",
    "change = 1950\n",
    "\n",
    "print(item, '의 가격은', price, '원이고, 거스름돈은', change, '원입니다.')"
   ]
  },
  {
   "cell_type": "markdown",
   "metadata": {
    "id": "ZjGjhka4f7fz"
   },
   "source": [
    "이를 개선하고 싶다면 문자열의 덧셈을 이용하는 방법이 있다. "
   ]
  },
  {
   "cell_type": "code",
   "execution_count": null,
   "metadata": {
    "colab": {
     "base_uri": "https://localhost:8080/"
    },
    "executionInfo": {
     "elapsed": 28495,
     "status": "ok",
     "timestamp": 1618073293608,
     "user": {
      "displayName": "KyeongRyong Lee",
      "photoUrl": "",
      "userId": "08575822710201651490"
     },
     "user_tz": -540
    },
    "id": "le47KUyDgE9U",
    "outputId": "1e4f17b1-1181-4b71-aff5-cefd807f06b7"
   },
   "outputs": [
    {
     "name": "stdout",
     "output_type": "stream",
     "text": [
      "커피의 가격은 1050원이고, 거스름돈은 1950원입니다.\n"
     ]
    }
   ],
   "source": [
    "item = \"커피\"\n",
    "price = 1050\n",
    "change = 1950\n",
    "\n",
    "print(item+'의 가격은', str(price)+'원이고, 거스름돈은', str(change)+'원입니다.')"
   ]
  },
  {
   "cell_type": "markdown",
   "metadata": {
    "id": "x8jd7xp_gOVL"
   },
   "source": [
    "이렇게 정확한 문자열을 출력하면서 더욱 편리한 방법으로 문자열 포맷팅(string formatting)이라는 기능도 존재한다. "
   ]
  },
  {
   "cell_type": "markdown",
   "metadata": {
    "id": "Vzq_vPXkOMnp"
   },
   "source": [
    "5단계) 거스름돈을 줄 때, 1000원, 500원, 100원, 50원, 10원짜리가 각각 몇 개 필요한지 출력해주는 코드를 작성하여라.   \n",
    "단, 지폐와 동전의 개수는 최소가 되도록 한다.  \n",
    "예를 들어, 거스름돈이 2000원이라면, 500원짜리 4개이 아닌 1000원짜리 2장을 준다고 가정한다.\n",
    "\n",
    "> 거스름돈은 1000원 O장, 500원 O개, 100원 O개, 50원 O개, 10원 O개입니다.  "
   ]
  },
  {
   "cell_type": "markdown",
   "metadata": {
    "id": "hX3iMqx9hUMV"
   },
   "source": [
    "해설: 큰돈의 단위부터 최대한 거슬러 줄 수 있도록 몫을 구하고 이때 해당하는 금액을 차감하면서 계산하면 된다. 예를 들어 1950원을 거슬러주어야 한다면, 가장 큰돈의 단위인 1000원부터 몫을 구하여 1장을 거스르고, 남은 잔돈인 950원을 가지고 다시 500원 단위부터 계산한다. "
   ]
  },
  {
   "cell_type": "code",
   "execution_count": null,
   "metadata": {
    "colab": {
     "base_uri": "https://localhost:8080/"
    },
    "executionInfo": {
     "elapsed": 34303,
     "status": "ok",
     "timestamp": 1618073299422,
     "user": {
      "displayName": "KyeongRyong Lee",
      "photoUrl": "",
      "userId": "08575822710201651490"
     },
     "user_tz": -540
    },
    "id": "hogPtNwnA6PR",
    "outputId": "d9a681c8-c82a-4ec4-bcee-920a295649d1"
   },
   "outputs": [
    {
     "name": "stdout",
     "output_type": "stream",
     "text": [
      "돈을 넣어주세요(단위 : 원) : 3000\n",
      "판매하는 물건은 다음과 같습니다.\n",
      "커피 : 1050 원\n",
      "우유 : 870 원\n",
      "밀크티 : 1300 원\n",
      "새우과자 : 950 원\n",
      "감자칩 : 1100 원\n",
      "구매할 물건을 입력하세요 : 커피\n",
      "커피 의 가격은 1050 원이고, 거스름돈은 1950 원입니다.\n",
      "거스름돈은 1000원 1 장, 500원 1 개, 100원 4 개, 50원 1 개, 10원 0 개입니다.\n"
     ]
    }
   ],
   "source": [
    "item_price = \"커피-1050원, 우유-870원, 밀크티-1300원, 새우과자-950원, 감자칩-1100원\"\n",
    "\n",
    "item_list = item_price.split(\", \")\n",
    "\n",
    "item_price_dict = dict()\n",
    "for a_item in item_list:\n",
    "  item_and_price = a_item.split('-')\n",
    "\n",
    "  item = item_and_price[0]\n",
    "  price = int(item_and_price[1].replace('원', ''))\n",
    "\n",
    "  item_price_dict[item] = price\n",
    "\n",
    "money = int(input(\"돈을 넣어주세요(단위 : 원) : \"))\n",
    "\n",
    "print(\"판매하는 물건은 다음과 같습니다.\")\n",
    "for item in item_price_dict.keys():\n",
    "  price = item_price_dict[item]\n",
    "  print(item, \":\", price, '원')\n",
    "\n",
    "want_to_buy = input(\"구매할 물건을 입력하세요 : \")\n",
    "if want_to_buy in item_price_dict:\n",
    "  price = item_price_dict[want_to_buy]\n",
    "\n",
    "  if price > money:\n",
    "    shortage = price - money\n",
    "    print('돈이', shortage, '원 부족합니다.')\n",
    "  else:\n",
    "    change = money - price\n",
    "    print(want_to_buy, '의 가격은', price, '원이고, 거스름돈은', change, '원입니다.')\n",
    "\n",
    "    # 큰돈의 단위부터 몫을 구하고 해당하는 금액을 빼주면서 계산\n",
    "    num_1000 = change // 1000\n",
    "    change -= num_1000 * 1000\n",
    "\n",
    "    num_500 = change // 500\n",
    "    change -= num_500 * 500\n",
    "\n",
    "    num_100 = change // 100\n",
    "    change -= num_100 * 100\n",
    "\n",
    "    num_50 = change // 50\n",
    "    change -= num_50 * 50\n",
    "\n",
    "    num_10 = change // 10\n",
    "    change -= num_10 * 10\n",
    "\n",
    "    print('거스름돈은 1000원', num_1000, '장,', '500원', num_500, '개,', '100원', num_100, '개,', '50원', num_50, '개,', '10원', num_10, '개입니다.')"
   ]
  },
  {
   "cell_type": "markdown",
   "metadata": {
    "id": "jYWzZwT9h0Q5"
   },
   "source": [
    "해설: 아래와 같이 이 과정을 for문으로 처리하는 것도 가능하다. 아래 코드에서 `num_change`라는 딕셔너리에는 돈의 단위가 key로 사용하여 해당하는 value의 값을 해당 돈의 단위에 대해 몇 개를 거슬러 주면 되는지를 담는다. 예를 들어, 1950원을 거슬러 준다면 1000이라는 key를 사용할 때 value는 1장을 뜻하는 1을 넣어준다. "
   ]
  },
  {
   "cell_type": "code",
   "execution_count": null,
   "metadata": {
    "colab": {
     "base_uri": "https://localhost:8080/"
    },
    "executionInfo": {
     "elapsed": 38464,
     "status": "ok",
     "timestamp": 1618073303592,
     "user": {
      "displayName": "KyeongRyong Lee",
      "photoUrl": "",
      "userId": "08575822710201651490"
     },
     "user_tz": -540
    },
    "id": "ysz8bJemhyQY",
    "outputId": "dc812add-9c8a-4d0a-f623-fb6ad5b82ed1"
   },
   "outputs": [
    {
     "name": "stdout",
     "output_type": "stream",
     "text": [
      "돈을 넣어주세요(단위 : 원) : 3000\n",
      "판매하는 물건은 다음과 같습니다.\n",
      "커피 : 1050 원\n",
      "우유 : 870 원\n",
      "밀크티 : 1300 원\n",
      "새우과자 : 950 원\n",
      "감자칩 : 1100 원\n",
      "구매할 물건을 입력하세요 : 커피\n",
      "커피 의 가격은 1050 원이고, 거스름돈은 1950 원입니다.\n",
      "거스름돈은 1000원 1 장, 500원 1 개, 100원 4 개, 50원 1 개, 10원 0 개입니다.\n"
     ]
    }
   ],
   "source": [
    "item_price = \"커피-1050원, 우유-870원, 밀크티-1300원, 새우과자-950원, 감자칩-1100원\"\n",
    "\n",
    "item_list = item_price.split(\", \")\n",
    "\n",
    "item_price_dict = dict()\n",
    "for a_item in item_list:\n",
    "  item_and_price = a_item.split('-')\n",
    "\n",
    "  item = item_and_price[0]\n",
    "  price = int(item_and_price[1].replace('원', ''))\n",
    "\n",
    "  item_price_dict[item] = price\n",
    "\n",
    "money = int(input(\"돈을 넣어주세요(단위 : 원) : \"))\n",
    "\n",
    "print(\"판매하는 물건은 다음과 같습니다.\")\n",
    "for item in item_price_dict.keys():\n",
    "  price = item_price_dict[item]\n",
    "  print(item, \":\", price, '원')\n",
    "\n",
    "want_to_buy = input(\"구매할 물건을 입력하세요 : \")\n",
    "if want_to_buy in item_price_dict:\n",
    "  price = item_price_dict[want_to_buy]\n",
    "\n",
    "  if price > money:\n",
    "    shortage = price - money\n",
    "    print('돈이', shortage, '원 부족합니다.')\n",
    "  else:\n",
    "    change = money - price\n",
    "    print(want_to_buy, '의 가격은', price, '원이고, 거스름돈은', change, '원입니다.')\n",
    "\n",
    "    # 큰돈의 단위부터 몫을 구하고 해당하는 금액을 빼주면서 계산\n",
    "    num_change = dict()\n",
    "    for currency in [1000, 500, 100, 50, 10]:\n",
    "      num_currency = change // currency\n",
    "      change -= num_currency * currency\n",
    "      num_change[currency] = num_currency\n",
    "\n",
    "    print('거스름돈은 1000원', num_change[1000], '장,', '500원', num_change[500], '개,', '100원', num_change[100], '개,', '50원', num_change[50], '개,', '10원', num_change[10], '개입니다.')"
   ]
  },
  {
   "cell_type": "markdown",
   "metadata": {
    "id": "yGKCBVVERm6o"
   },
   "source": [
    "연습을 더 하고 싶다면, 아래의 문제를 풀어보세요!  \n",
    "\n",
    "\n"
   ]
  },
  {
   "cell_type": "markdown",
   "metadata": {
    "id": "OWbUDDtYGL-0"
   },
   "source": [
    "**[추가문제1] 문제1)에서 만든 영어 사전을 기반으로 영어단어 뜻 맞히기 게임을 만들자.**  \n",
    "다음의 내용을 만족하도록 코드를 작성하여라.\n",
    "\n",
    "* 문제의 개수는 참여자가 정한다. \n",
    "* `input()` 함수를 이용하여, 참여자로부터 단어의 뜻을 입력받는다. \n",
    "> OOO : \n",
    "\n",
    "* OOO는 영어 사전에 있는 영단어이다. \n",
    "* 게임이 끝나면 몇 문제를 맞혔는지 알려준다. \n",
    "* 어떤 단어를 틀렸는지 단어와 뜻을 사용자에게 보여준다. \n",
    "* 단어는 랜덤하게 출제된다. 이를 위해 `random` 모듈의 `shuffle()` 함수를 이용할 수 있다. \n",
    "\n",
    "\n",
    "\n",
    "\n",
    "\n",
    "\n"
   ]
  },
  {
   "cell_type": "markdown",
   "metadata": {
    "id": "pCHpwekGHkfq"
   },
   "source": [
    "참고) `random` 모듈의 `shuffle()` 함수는 순서형 자료의 순서를 무작위로 섞어준다.  \n",
    "아래의 코드를 통해 `shuffle()` 함수에 대해 살펴보자. "
   ]
  },
  {
   "cell_type": "code",
   "execution_count": null,
   "metadata": {
    "colab": {
     "base_uri": "https://localhost:8080/"
    },
    "executionInfo": {
     "elapsed": 38459,
     "status": "ok",
     "timestamp": 1618073303593,
     "user": {
      "displayName": "KyeongRyong Lee",
      "photoUrl": "",
      "userId": "08575822710201651490"
     },
     "user_tz": -540
    },
    "id": "7UzCcL3KH0TE",
    "outputId": "da8fd344-3d00-4874-aaf3-c2fe250e5cff"
   },
   "outputs": [
    {
     "name": "stdout",
     "output_type": "stream",
     "text": [
      "[1, 2, 3, 4, 5]\n",
      "[1, 2, 3, 4, 5]\n"
     ]
    }
   ],
   "source": [
    "import random\n",
    "\n",
    "a_list = [1, 2, 3, 4, 5]\n",
    "print(a_list)\n",
    "random.shuffle(a_list)\n",
    "print(a_list)  "
   ]
  },
  {
   "cell_type": "markdown",
   "metadata": {
    "id": "Ym9flGSPjgk-"
   },
   "source": [
    "해설: 아래와 같이 사전이 주어져있다고 하자. "
   ]
  },
  {
   "cell_type": "code",
   "execution_count": null,
   "metadata": {
    "id": "umt95ED0jTfS"
   },
   "outputs": [],
   "source": [
    "eng_dict = {'dog': '개', 'cat': '고양이', 'lion': '사자', 'tiger': '호랑이', 'snake': '뱀'}"
   ]
  },
  {
   "cell_type": "markdown",
   "metadata": {
    "id": "jBrHKjESjkQk"
   },
   "source": [
    "문제의 개수를 아래와 같이 입력받는다."
   ]
  },
  {
   "cell_type": "code",
   "execution_count": null,
   "metadata": {
    "colab": {
     "base_uri": "https://localhost:8080/"
    },
    "executionInfo": {
     "elapsed": 43921,
     "status": "ok",
     "timestamp": 1618073309071,
     "user": {
      "displayName": "KyeongRyong Lee",
      "photoUrl": "",
      "userId": "08575822710201651490"
     },
     "user_tz": -540
    },
    "id": "F8s5FockjlR9",
    "outputId": "dba85800-97e5-489a-b664-6f550dc5166c"
   },
   "outputs": [
    {
     "name": "stdout",
     "output_type": "stream",
     "text": [
      "문제의 개수를 입력하세요 : 3\n"
     ]
    }
   ],
   "source": [
    "num_problem = int(input(\"문제의 개수를 입력하세요 : \"))"
   ]
  },
  {
   "cell_type": "markdown",
   "metadata": {
    "id": "rk3dqFeDjy1H"
   },
   "source": [
    "문제의 개수만큼 단어의 리스트를 만든 후에 각 단어에 대해 `input` 함수를 이용하여 뜻을 입력받는다."
   ]
  },
  {
   "cell_type": "code",
   "execution_count": null,
   "metadata": {
    "colab": {
     "base_uri": "https://localhost:8080/"
    },
    "executionInfo": {
     "elapsed": 52894,
     "status": "ok",
     "timestamp": 1618073318051,
     "user": {
      "displayName": "KyeongRyong Lee",
      "photoUrl": "",
      "userId": "08575822710201651490"
     },
     "user_tz": -540
    },
    "id": "vy68rXLAj36P",
    "outputId": "7cb45ba0-2be7-4c97-93d8-18a0f0e6f48a"
   },
   "outputs": [
    {
     "name": "stdout",
     "output_type": "stream",
     "text": [
      "1번) dog : 개\n",
      "2번) cat : 고양이\n",
      "3번) lion : 사자\n",
      "3 문제 중에서 3 문제를 맞혔습니다.\n"
     ]
    }
   ],
   "source": [
    "word_list = list(eng_dict.keys())\n",
    "word_list = word_list[:num_problem]\n",
    "\n",
    "correct = 0\n",
    "for i in range(num_problem):\n",
    "  word = word_list[i]\n",
    "\n",
    "  user_meaning = input(str(i+1)+\"번) \"+word+\" : \")\n",
    "  meaning = eng_dict[word]\n",
    "\n",
    "  if meaning == user_meaning:\n",
    "    correct += 1\n",
    "\n",
    "print(num_problem, \"문제 중에서\", correct, \"문제를 맞혔습니다.\")"
   ]
  },
  {
   "cell_type": "markdown",
   "metadata": {
    "id": "XdgfaWXKl8es"
   },
   "source": [
    "아래와 같이 틀린 단어를 이후에 보여주기 위하여 `wrong_list`에 틀린 단어를 저장한 후 해당하는 단어들에 대하여 단어의 뜻을 보여준다. "
   ]
  },
  {
   "cell_type": "code",
   "execution_count": null,
   "metadata": {
    "colab": {
     "base_uri": "https://localhost:8080/"
    },
    "executionInfo": {
     "elapsed": 62920,
     "status": "ok",
     "timestamp": 1618073328084,
     "user": {
      "displayName": "KyeongRyong Lee",
      "photoUrl": "",
      "userId": "08575822710201651490"
     },
     "user_tz": -540
    },
    "id": "K6Let1Pql8GI",
    "outputId": "f221154d-a025-4e94-baf7-dff275ca643f"
   },
   "outputs": [
    {
     "name": "stdout",
     "output_type": "stream",
     "text": [
      "1번) dog : 개\n",
      "2번) cat : 고양이\n",
      "3번) lion : 호랑이\n",
      "3 문제 중에서 2 문제를 맞혔습니다.\n",
      "틀린 단어는 다음과 같습니다.\n",
      "lion : 사자\n"
     ]
    }
   ],
   "source": [
    "word_list = list(eng_dict.keys())\n",
    "word_list = word_list[:num_problem]\n",
    "\n",
    "correct = 0\n",
    "wrong_list = []\n",
    "for i in range(num_problem):\n",
    "  word = word_list[i]\n",
    "\n",
    "  user_meaning = input(str(i+1)+\"번) \"+word+\" : \")\n",
    "  meaning = eng_dict[word]\n",
    "\n",
    "  # 단어를 틀린 경우 wrong_list에 단어 추가\n",
    "  if meaning == user_meaning:\n",
    "    correct += 1\n",
    "  else:\n",
    "    wrong_list.append(word)\n",
    "\n",
    "print(num_problem, \"문제 중에서\", correct, \"문제를 맞혔습니다.\")\n",
    "\n",
    "# 틀린 단어가 있는 경우 단어와 뜻을 출력\n",
    "if len(wrong_list) > 0:\n",
    "  print(\"틀린 단어는 다음과 같습니다.\")\n",
    "  for word in wrong_list:\n",
    "    meaning = eng_dict[word]\n",
    "    print(word, ':', meaning)"
   ]
  },
  {
   "cell_type": "markdown",
   "metadata": {
    "id": "L9ELfMKBmzXf"
   },
   "source": [
    "단어를 랜덤하게 출제하기 위하여 `random` 모듈의 `shuffle` 함수를 이용하여 리스트의 순서를 랜덤하게 섞은 후에 필요한 개수만큼 얻어낼 수 있다. "
   ]
  },
  {
   "cell_type": "code",
   "execution_count": null,
   "metadata": {
    "colab": {
     "base_uri": "https://localhost:8080/"
    },
    "executionInfo": {
     "elapsed": 62915,
     "status": "ok",
     "timestamp": 1618073328085,
     "user": {
      "displayName": "KyeongRyong Lee",
      "photoUrl": "",
      "userId": "08575822710201651490"
     },
     "user_tz": -540
    },
    "id": "FfEUbbs2m_Gh",
    "outputId": "0b049d48-115f-4a20-92bf-fc9efbab339e"
   },
   "outputs": [
    {
     "data": {
      "text/plain": [
       "['lion', 'dog', 'cat']"
      ]
     },
     "execution_count": 26,
     "metadata": {
      "tags": []
     },
     "output_type": "execute_result"
    }
   ],
   "source": [
    "# random 모듈 임포트\n",
    "import random\n",
    "\n",
    "word_list = list(eng_dict.keys())\n",
    "random.shuffle(word_list)\n",
    "word_list = word_list[:num_problem]\n",
    "\n",
    "word_list"
   ]
  },
  {
   "cell_type": "markdown",
   "metadata": {
    "id": "m2lnifyxnv0N"
   },
   "source": [
    "참고: 아래와 같이 문제가 매번 다르게 출제됨을 확인할 수 있다. "
   ]
  },
  {
   "cell_type": "code",
   "execution_count": null,
   "metadata": {
    "colab": {
     "base_uri": "https://localhost:8080/"
    },
    "executionInfo": {
     "elapsed": 62909,
     "status": "ok",
     "timestamp": 1618073328086,
     "user": {
      "displayName": "KyeongRyong Lee",
      "photoUrl": "",
      "userId": "08575822710201651490"
     },
     "user_tz": -540
    },
    "id": "sNh9cXvTn0jS",
    "outputId": "47f86084-b6fe-4511-9e45-73daee7fa7d7"
   },
   "outputs": [
    {
     "name": "stdout",
     "output_type": "stream",
     "text": [
      "1 회 문제: ['cat', 'snake', 'lion']\n",
      "2 회 문제: ['cat', 'snake', 'tiger']\n",
      "3 회 문제: ['tiger', 'cat', 'lion']\n",
      "4 회 문제: ['snake', 'cat', 'tiger']\n",
      "5 회 문제: ['lion', 'tiger', 'snake']\n",
      "6 회 문제: ['cat', 'tiger', 'snake']\n",
      "7 회 문제: ['lion', 'snake', 'tiger']\n",
      "8 회 문제: ['dog', 'snake', 'tiger']\n",
      "9 회 문제: ['dog', 'cat', 'lion']\n"
     ]
    }
   ],
   "source": [
    "# random 모듈 임포트\n",
    "import random\n",
    "\n",
    "for i in range(1, 10):\n",
    "  word_list = list(eng_dict.keys())\n",
    "  random.shuffle(word_list)\n",
    "  word_list = word_list[:num_problem]\n",
    "\n",
    "  print(i, \"회 문제:\", word_list)"
   ]
  },
  {
   "cell_type": "markdown",
   "metadata": {
    "id": "zGp3sYuWoNtC"
   },
   "source": [
    "이제 위의 모든 코드를 합쳐서 완전한 코드를 만들면 다음과 같다. "
   ]
  },
  {
   "cell_type": "code",
   "execution_count": null,
   "metadata": {
    "colab": {
     "base_uri": "https://localhost:8080/"
    },
    "executionInfo": {
     "elapsed": 76295,
     "status": "ok",
     "timestamp": 1618073341478,
     "user": {
      "displayName": "KyeongRyong Lee",
      "photoUrl": "",
      "userId": "08575822710201651490"
     },
     "user_tz": -540
    },
    "id": "twp5QTALoNch",
    "outputId": "6d69d4b2-a9e0-439b-9bd6-67030bdf8712"
   },
   "outputs": [
    {
     "name": "stdout",
     "output_type": "stream",
     "text": [
      "문제의 개수를 입력하세요 : 4\n",
      "1번) snake : 고라니\n",
      "2번) cat : 고양이\n",
      "3번) dog : 개\n",
      "4번) tiger : 호랑이\n",
      "4 문제 중에서 3 문제를 맞혔습니다.\n",
      "틀린 단어는 다음과 같습니다.\n",
      "snake : 뱀\n"
     ]
    }
   ],
   "source": [
    "# random 모듈 임포트\n",
    "import random\n",
    "\n",
    "eng_dict = {'dog': '개', 'cat': '고양이', 'lion': '사자', 'tiger': '호랑이', 'snake': '뱀'}\n",
    "\n",
    "# 문제의 개수를 입력\n",
    "num_problem = int(input(\"문제의 개수를 입력하세요 : \"))\n",
    "\n",
    "# 랜덤으로 문제를 출제\n",
    "word_list = list(eng_dict.keys())\n",
    "random.shuffle(word_list)\n",
    "word_list = word_list[:num_problem]\n",
    "\n",
    "# 각 단어에 대하여 문제를 출력하고 사용자가 뜻을 입력\n",
    "correct = 0\n",
    "wrong_list = []\n",
    "for i in range(num_problem):\n",
    "  word = word_list[i]\n",
    "\n",
    "  # 문제를 출력하고 사용자가 뜻을 입력\n",
    "  user_meaning = input(str(i+1)+\"번) \"+word+\" : \")\n",
    "  meaning = eng_dict[word]\n",
    "\n",
    "  if meaning == user_meaning:\n",
    "    # 맞은 경우 correct 카운터 증가\n",
    "    correct += 1\n",
    "  else:\n",
    "    # 단어를 틀린 경우 wrong_list에 단어 추가\n",
    "    wrong_list.append(word)\n",
    "\n",
    "# 맞은 개수 출력\n",
    "print(num_problem, \"문제 중에서\", correct, \"문제를 맞혔습니다.\")\n",
    "\n",
    "# 틀린 단어가 있는 경우 단어와 뜻을 출력\n",
    "if len(wrong_list) > 0:\n",
    "  print(\"틀린 단어는 다음과 같습니다.\")\n",
    "  for word in wrong_list:\n",
    "    meaning = eng_dict[word]\n",
    "    print(word, ':', meaning)"
   ]
  },
  {
   "cell_type": "markdown",
   "metadata": {
    "id": "LdXBTaOkpJdP"
   },
   "source": [
    "참고: 다음과 같이 조금 더 큰 사전에 대한 예시로 100개의 단어를 가진 사전을 이용하여 코드를 돌려볼 수 있다. 여기서 각 단어에 대해 여러 가지의 뜻이 있을 수 있음을 이용하기 위하여 여러 가지 뜻을 \", \"으로 이어붙여놓았다. 또, 이때 영어 단어 뜻 맞히기가 바르게 작동하도록 하기 위하여 여러 가지 뜻 중 하나를 맞을 경우 정답 처리하도록 해당하는 조건문을 수정하였다."
   ]
  },
  {
   "cell_type": "code",
   "execution_count": null,
   "metadata": {
    "colab": {
     "base_uri": "https://localhost:8080/"
    },
    "executionInfo": {
     "elapsed": 11345,
     "status": "ok",
     "timestamp": 1618116526426,
     "user": {
      "displayName": "KyeongRyong Lee",
      "photoUrl": "",
      "userId": "08575822710201651490"
     },
     "user_tz": -540
    },
    "id": "mXSCHodZpJJT",
    "outputId": "e790f824-b174-4a36-f4f3-8d903c3a27c2"
   },
   "outputs": [
    {
     "name": "stdout",
     "output_type": "stream",
     "text": [
      "문제의 개수를 입력하세요 : 3\n",
      "1번) deer : 사슴\n",
      "2번) ground : 땅\n",
      "3번) glass : 유리\n",
      "3 문제 중에서 3 문제를 맞혔습니다.\n"
     ]
    }
   ],
   "source": [
    "# random 모듈 임포트\n",
    "import random\n",
    "\n",
    "# 여러 가지 뜻이 \", \"로 이어져있음\n",
    "eng_dict = {'earth' : '지구, 땅, 지면, 흙', 'flour' : '밀가루', 'problem' : '문제', 'luck' : '운, 행운', 'beer' : '맥주', 'safe' : '안전한', 'photograph' : '사진', 'meat' : '고기', 'support' : '지원하다, 후원하다, 지원', 'deer' : '사슴', 'shop' : '가게, 상점', 'tool' : '연장, 도구, 공구, 수단', 'medicine' : '약, 의학', 'narrow' : '좁은, 한정된, 제한된', 'before' : '전에, 앞에', 'hobby' : '취미', 'across' : '건너서, 가로질러, 맞은편에', 'cost' : '비용', 'empty' : '빈, 공허한', 'search' : '검색, 검색하다, 찾아보다', 'world' : '세계', 'grass' : '잔디', 'pretty' : '예쁜', 'late' : '늦은, 늦게', 'five' : '다섯, 5', 'paint' : '페인트, 물감', 'business' : '사업', 'sleep' : '자다, 잠', 'ship' : '배, 선박', 'right' : '옳은, 올바른, 맞는, 권리, 오른쪽', 'window' : '창문, 창', 'early' : '이른, 일찍', 'probably' : '아마', 'bright' : '밝은, 빛나는, 선명한', 'pair' : '쌍', 'smell' : '냄새', 'good' : '좋은', 'amount' : '양, 총계, 총액, 액수', 'fever' : '열, 발열, 열기', 'enough' : '충분히, 충분한', 'carry' : '나르다, 운반하다', 'duty' : '의무, 임무, 업무, 세금', 'sound' : '소리', 'forest' : '숲', 'earn' : '벌다, 얻다', 'have' : '가지다, 있다, 소유하다', 'warm' : '따뜻한', 'change' : '변하다, 바꾸다, 변화, 거스름돈', 'nearly' : '거의', 'room' : '방', 'star' : '별', 'future' : '미래', 'please' : '부디, 제발', 'last' : '마지막, 마지막의, 계속되다, 지속되다', 'like' : '좋아하다, 처럼', 'pleased' : '기쁜', 'sand' : '모래', 'clever' : '영리한, 똑똑한, 기발한', 'lead' : '이끌다, 연결되다, 이어지다, 선두', 'decide' : '결정하다', 'blood' : '피, 혈액', 'elephant' : '코끼리', 'century' : '세기', 'raise' : '올리다, 일으키다, 발생시키다', 'hear' : '듣다, 들리다', 'careless' : '경솔한, 부주의한', 'understand' : '이해하다', 'forget' : '잊다', 'noise' : '소음, 잡음', 'glass' : '유리', 'shirt' : '셔츠', 'many' : '많은', 'mistake' : '실수, 잘못', 'attack' : '공격, 공격하다', 'which' : '어느, 어떤', 'strong' : '강한', 'listen' : '들리다', 'test' : '시험, 검사, 테스트', 'chair' : '의자', 'bread' : '빵', 'ground' : '바닥, 땅, 땅바닥, 지면', 'period' : '기간, 시기', 'really' : '정말, 실제로, 진짜로', 'iron' : '철', 'mark' : '표시하다, 표시, 점수, 자국', 'marry' : '결혼하다', 'collect' : '모으다, 수집하다', 'base' : '기초, 토대, 베이스, 비열한, 천한', 'wire' : '철사, 전선', 'rich' : '부유한, 풍부한', 'door' : '문', 'provide' : '제공하다, 주다', 'yard' : '마당, 뜰, 야드', 'depend' : '의존하다', 'enter' : '들어가다, 시작하다', 'reply' : '대답하다, 대답, 답장, 답신, 댓글', 'chase' : '뒤쫓다, 좇다, 추적하다, 추적, 추격', 'paper' : '종이, 논문', 'flower' : '꽃', 'give' : '주다'}\n",
    "\n",
    "# 문제의 개수를 입력\n",
    "num_problem = int(input(\"문제의 개수를 입력하세요 : \"))\n",
    "\n",
    "# 랜덤으로 문제를 출제\n",
    "word_list = list(eng_dict.keys())\n",
    "random.shuffle(word_list)\n",
    "word_list = word_list[:num_problem]\n",
    "\n",
    "# 각 단어에 대하여 문제를 출력하고 사용자가 뜻을 입력\n",
    "correct = 0\n",
    "wrong_list = []\n",
    "for i in range(num_problem):\n",
    "  word = word_list[i]\n",
    "\n",
    "  # 문제를 출력하고 사용자가 뜻을 입력\n",
    "  user_meaning = input(str(i+1)+\"번) \"+word+\" : \")\n",
    "  meanings = eng_dict[word].split(\", \")\n",
    "\n",
    "  # 여러 가지 뜻 중 하나를 맞히면 정답 처리\n",
    "  if user_meaning in meanings:\n",
    "    # 맞은 경우 correct 카운터 증가\n",
    "    correct += 1\n",
    "  else:\n",
    "    # 단어를 틀린 경우 wrong_list에 단어 추가\n",
    "    wrong_list.append(word)\n",
    "\n",
    "# 맞은 개수 출력\n",
    "print(num_problem, \"문제 중에서\", correct, \"문제를 맞혔습니다.\")\n",
    "\n",
    "# 틀린 단어가 있는 경우 단어와 뜻을 출력\n",
    "if len(wrong_list) > 0:\n",
    "  print(\"틀린 단어는 다음과 같습니다.\")\n",
    "  for word in wrong_list:\n",
    "    meaning = eng_dict[word]\n",
    "    print(word, ':', meaning)"
   ]
  },
  {
   "cell_type": "markdown",
   "metadata": {
    "id": "Obs6L6ZKPWlk"
   },
   "source": [
    "**[추가문제2] 아래 코드 중 오류가 발생하는 코드를 예측하여 말하고, 코드를 실행시켜 확인하여라.**"
   ]
  },
  {
   "cell_type": "markdown",
   "metadata": {
    "id": "wG0Mt1AgUJQE"
   },
   "source": [
    "참고) 딕셔너리의 키(key)로는 문자열과 숫자(정수, 부동소수점)들을 사용할 수 있고, 튜플이 문자열, 숫자, 튜플들만 포함하면 키로 사용될 수 있다. 반면, 튜플이 직접 또는 간접적으로 가변자료형을 포함하면 키로 사용될 수 없다. 예를 들어, `(1, [2, 3])`이나 `(([1, 2], 3), 4)`는 키로 사용될 수 없다.   "
   ]
  },
  {
   "cell_type": "markdown",
   "metadata": {
    "id": "NvAmefAwSFYW"
   },
   "source": [
    "(1) \n",
    "```\n",
    "dic1 = { 1 : 'a'}\n",
    "dic1\n",
    "```\n"
   ]
  },
  {
   "cell_type": "code",
   "execution_count": null,
   "metadata": {
    "colab": {
     "base_uri": "https://localhost:8080/"
    },
    "executionInfo": {
     "elapsed": 797,
     "status": "ok",
     "timestamp": 1618200911454,
     "user": {
      "displayName": "HJ Kim",
      "photoUrl": "",
      "userId": "16634276932240017990"
     },
     "user_tz": -540
    },
    "id": "_VXNYGGnSItJ",
    "outputId": "e9626c9d-9870-44c4-f737-f6f988b59a9d"
   },
   "outputs": [
    {
     "data": {
      "text/plain": [
       "{1: 'a'}"
      ]
     },
     "execution_count": 3,
     "metadata": {
      "tags": []
     },
     "output_type": "execute_result"
    }
   ],
   "source": [
    "dic1 = { 1 : 'a'}\n",
    "dic1"
   ]
  },
  {
   "cell_type": "markdown",
   "metadata": {
    "id": "wOkJ-sb3TZIv"
   },
   "source": [
    "(2)\n",
    "```\n",
    "dic2 = {1.4 : 'a'}\n",
    "dic2\n",
    "```"
   ]
  },
  {
   "cell_type": "code",
   "execution_count": null,
   "metadata": {
    "colab": {
     "base_uri": "https://localhost:8080/"
    },
    "executionInfo": {
     "elapsed": 683,
     "status": "ok",
     "timestamp": 1618200930263,
     "user": {
      "displayName": "HJ Kim",
      "photoUrl": "",
      "userId": "16634276932240017990"
     },
     "user_tz": -540
    },
    "id": "qkdDBV5tSJPb",
    "outputId": "459ae5bc-b2a8-4af0-f55e-6a7396b968b8"
   },
   "outputs": [
    {
     "data": {
      "text/plain": [
       "{1.4: 'a'}"
      ]
     },
     "execution_count": 5,
     "metadata": {
      "tags": []
     },
     "output_type": "execute_result"
    }
   ],
   "source": [
    "dic2 = {1.4 : 'a'}\n",
    "dic2"
   ]
  },
  {
   "cell_type": "markdown",
   "metadata": {
    "id": "msu-rcUZTc2O"
   },
   "source": [
    "(3) \n",
    "```\n",
    "dic3 = {'abc' : 'a'}\n",
    "dic3\n",
    "```"
   ]
  },
  {
   "cell_type": "code",
   "execution_count": null,
   "metadata": {
    "colab": {
     "base_uri": "https://localhost:8080/"
    },
    "executionInfo": {
     "elapsed": 654,
     "status": "ok",
     "timestamp": 1618200949488,
     "user": {
      "displayName": "HJ Kim",
      "photoUrl": "",
      "userId": "16634276932240017990"
     },
     "user_tz": -540
    },
    "id": "hSHGjrTTSpNo",
    "outputId": "cf747631-1521-465b-b73b-439683928a45"
   },
   "outputs": [
    {
     "data": {
      "text/plain": [
       "{'abc': 'a'}"
      ]
     },
     "execution_count": 6,
     "metadata": {
      "tags": []
     },
     "output_type": "execute_result"
    }
   ],
   "source": [
    "dic3 = {'abc' : 'a'}\n",
    "dic3"
   ]
  },
  {
   "cell_type": "markdown",
   "metadata": {
    "id": "pnFW_CaWTgyz"
   },
   "source": [
    "(4) \n",
    "```\n",
    "dic4 = {[1, 2] : 'a'}\n",
    "dic4\n",
    "```"
   ]
  },
  {
   "cell_type": "code",
   "execution_count": null,
   "metadata": {
    "colab": {
     "base_uri": "https://localhost:8080/",
     "height": 186
    },
    "executionInfo": {
     "elapsed": 1184,
     "status": "error",
     "timestamp": 1618200973077,
     "user": {
      "displayName": "HJ Kim",
      "photoUrl": "",
      "userId": "16634276932240017990"
     },
     "user_tz": -540
    },
    "id": "RgE6zXi_Su7s",
    "outputId": "c4ad4da7-a7c1-4235-beb0-02af1263cee0"
   },
   "outputs": [
    {
     "ename": "TypeError",
     "evalue": "ignored",
     "output_type": "error",
     "traceback": [
      "\u001b[0;31m---------------------------------------------------------------------------\u001b[0m",
      "\u001b[0;31mTypeError\u001b[0m                                 Traceback (most recent call last)",
      "\u001b[0;32m<ipython-input-7-429c51690d48>\u001b[0m in \u001b[0;36m<module>\u001b[0;34m()\u001b[0m\n\u001b[0;32m----> 1\u001b[0;31m \u001b[0mdic4\u001b[0m \u001b[0;34m=\u001b[0m \u001b[0;34m{\u001b[0m\u001b[0;34m[\u001b[0m\u001b[0;36m1\u001b[0m\u001b[0;34m,\u001b[0m \u001b[0;36m2\u001b[0m\u001b[0;34m]\u001b[0m \u001b[0;34m:\u001b[0m \u001b[0;34m'a'\u001b[0m\u001b[0;34m}\u001b[0m\u001b[0;34m\u001b[0m\u001b[0;34m\u001b[0m\u001b[0m\n\u001b[0m\u001b[1;32m      2\u001b[0m \u001b[0mdic4\u001b[0m\u001b[0;34m\u001b[0m\u001b[0;34m\u001b[0m\u001b[0m\n",
      "\u001b[0;31mTypeError\u001b[0m: unhashable type: 'list'"
     ]
    }
   ],
   "source": [
    "dic4 = {[1, 2] : 'a'}\n",
    "dic4"
   ]
  },
  {
   "cell_type": "markdown",
   "metadata": {
    "id": "OdOlcBksTkyo"
   },
   "source": [
    "(5)\n",
    "```\n",
    "dic5 = {(1, 2) : 'a'}\n",
    "dic5\n",
    "```"
   ]
  },
  {
   "cell_type": "code",
   "execution_count": null,
   "metadata": {
    "colab": {
     "base_uri": "https://localhost:8080/"
    },
    "executionInfo": {
     "elapsed": 684,
     "status": "ok",
     "timestamp": 1618200989690,
     "user": {
      "displayName": "HJ Kim",
      "photoUrl": "",
      "userId": "16634276932240017990"
     },
     "user_tz": -540
    },
    "id": "IV1uIWQ7S0pD",
    "outputId": "d8995cf9-a617-4d27-c71f-526ea12818f1"
   },
   "outputs": [
    {
     "data": {
      "text/plain": [
       "{(1, 2): 'a'}"
      ]
     },
     "execution_count": 8,
     "metadata": {
      "tags": []
     },
     "output_type": "execute_result"
    }
   ],
   "source": [
    "dic5 = {(1, 2) : 'a'}\n",
    "dic5"
   ]
  },
  {
   "cell_type": "markdown",
   "metadata": {
    "id": "4jqHN6mgToLd"
   },
   "source": [
    "(6)\n",
    "```\n",
    "dic6 = {('abc', 1) : 'a'}\n",
    "dic6\n",
    "```"
   ]
  },
  {
   "cell_type": "code",
   "execution_count": null,
   "metadata": {
    "colab": {
     "base_uri": "https://localhost:8080/"
    },
    "executionInfo": {
     "elapsed": 765,
     "status": "ok",
     "timestamp": 1618201067702,
     "user": {
      "displayName": "HJ Kim",
      "photoUrl": "",
      "userId": "16634276932240017990"
     },
     "user_tz": -540
    },
    "id": "Qh5N3CB7S4y7",
    "outputId": "47a2eea2-db0a-4dd7-face-14689d61d0c1"
   },
   "outputs": [
    {
     "data": {
      "text/plain": [
       "{('abc', 1): 'a'}"
      ]
     },
     "execution_count": 11,
     "metadata": {
      "tags": []
     },
     "output_type": "execute_result"
    }
   ],
   "source": [
    "dic6 = {('abc', 1) : 'a'}\n",
    "dic6"
   ]
  },
  {
   "cell_type": "markdown",
   "metadata": {
    "id": "LkjqsiExT1GX"
   },
   "source": [
    "(7)\n",
    "```\n",
    "dic7 = {([1, 2], 3): 'a'}\n",
    "dic7\n",
    "```"
   ]
  },
  {
   "cell_type": "code",
   "execution_count": null,
   "metadata": {
    "colab": {
     "base_uri": "https://localhost:8080/",
     "height": 186
    },
    "executionInfo": {
     "elapsed": 840,
     "status": "error",
     "timestamp": 1618201072771,
     "user": {
      "displayName": "HJ Kim",
      "photoUrl": "",
      "userId": "16634276932240017990"
     },
     "user_tz": -540
    },
    "id": "1PRBMLZ2S_aT",
    "outputId": "3cc5848b-9c80-469c-9fa8-5eaf471b2417"
   },
   "outputs": [
    {
     "ename": "TypeError",
     "evalue": "ignored",
     "output_type": "error",
     "traceback": [
      "\u001b[0;31m---------------------------------------------------------------------------\u001b[0m",
      "\u001b[0;31mTypeError\u001b[0m                                 Traceback (most recent call last)",
      "\u001b[0;32m<ipython-input-12-e0a0dd888191>\u001b[0m in \u001b[0;36m<module>\u001b[0;34m()\u001b[0m\n\u001b[0;32m----> 1\u001b[0;31m \u001b[0mdic7\u001b[0m \u001b[0;34m=\u001b[0m \u001b[0;34m{\u001b[0m\u001b[0;34m(\u001b[0m\u001b[0;34m[\u001b[0m\u001b[0;36m1\u001b[0m\u001b[0;34m,\u001b[0m \u001b[0;36m2\u001b[0m\u001b[0;34m]\u001b[0m\u001b[0;34m,\u001b[0m \u001b[0;36m3\u001b[0m\u001b[0;34m)\u001b[0m\u001b[0;34m:\u001b[0m \u001b[0;34m'a'\u001b[0m\u001b[0;34m}\u001b[0m\u001b[0;34m\u001b[0m\u001b[0;34m\u001b[0m\u001b[0m\n\u001b[0m\u001b[1;32m      2\u001b[0m \u001b[0mdic7\u001b[0m\u001b[0;34m\u001b[0m\u001b[0;34m\u001b[0m\u001b[0m\n",
      "\u001b[0;31mTypeError\u001b[0m: unhashable type: 'list'"
     ]
    }
   ],
   "source": [
    "dic7 = {([1, 2], 3): 'a'}\n",
    "dic7"
   ]
  }
 ],
 "metadata": {
  "colab": {
   "authorship_tag": "ABX9TyNlyA65b7/spOhDAsRbmThl",
   "collapsed_sections": [],
   "name": "실습답안7.ipynb",
   "provenance": []
  },
  "kernelspec": {
   "display_name": "Python 3 (ipykernel)",
   "language": "python",
   "name": "python3"
  },
  "language_info": {
   "codemirror_mode": {
    "name": "ipython",
    "version": 3
   },
   "file_extension": ".py",
   "mimetype": "text/x-python",
   "name": "python",
   "nbconvert_exporter": "python",
   "pygments_lexer": "ipython3",
   "version": "3.11.5"
  }
 },
 "nbformat": 4,
 "nbformat_minor": 1
}
