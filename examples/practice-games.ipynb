{
 "cells": [
  {
   "cell_type": "markdown",
   "metadata": {
    "id": "WLyueOhysoiT"
   },
   "source": [
    "**문제2) 배스킨라빈스31 게임 만들기**\n",
    "\n",
    "배스킨라빈스31 게임은 마지막 31을 부른 사람이 지는 게임으로, 아래의 규칙을 따른다.\n",
    "* 참여자들은 번갈아가며 1부터 31까지의 수를 순서대로 부른다.\n",
    "* 한번에 1~3개의 수를 부를 수 있다. \n",
    "\n",
    "예를 들어, playerA가 1,2,3을 부르면, playerB는 4 또는 4,5 또는 4,5,6를 부를 수 있다.   \n",
    "\n",
    "* 각 단계의 내용이 충족되도록 전 단계의 코드를 수정 보완하여라.  \n",
    "예를 들어, 2단계에 작성하는 코드는 1단계와 2단계의 내용이 모두 충족되어야 한다.\n",
    "* 참여자가 두 명만 있다고 가정한다.\n",
    "* 참여자가 부를 숫자의 개수를 입력하면, 프로그램이 변수`num`을 사용하여 부를 숫자를 보여준다.\n",
    "\n",
    "1단계) 변수`num`을 아래와 같이 선언하여라.\n",
    "> `num = 0`  \n",
    "\n"
   ]
  },
  {
   "cell_type": "code",
   "execution_count": null,
   "metadata": {
    "id": "fgNB0RfHLpTy"
   },
   "outputs": [],
   "source": [
    "num = 0"
   ]
  },
  {
   "cell_type": "markdown",
   "metadata": {
    "id": "mgtWv1eZ4uQY"
   },
   "source": [
    "2단계) `input()` 함수를 이용하여 1에서 3사이의 정수를 입력받는 코드를 작성하여라.\n",
    "\n",
    "> 부를 숫자의 개수를 입력하세요(1, 2, 3만 입력 가능) :  \n"
   ]
  },
  {
   "cell_type": "code",
   "execution_count": null,
   "metadata": {
    "id": "udl4bpeiLqcQ",
    "outputId": "4be6484e-bcb1-46b3-d0f0-7e4767fddf04"
   },
   "outputs": [
    {
     "name": "stdout",
     "output_type": "stream",
     "text": [
      "부를 숫자의 개수를 입력하세요(1,2,3만 입력 가능) : 2\n"
     ]
    },
    {
     "data": {
      "text/plain": [
       "'2'"
      ]
     },
     "execution_count": 6,
     "metadata": {
      "tags": []
     },
     "output_type": "execute_result"
    }
   ],
   "source": [
    "num = 0\n",
    "\n",
    "n_call = input(\"부를 숫자의 개수를 입력하세요(1,2,3만 입력 가능) : \")"
   ]
  },
  {
   "cell_type": "markdown",
   "metadata": {
    "id": "Vc5FbBHfQ6Q2"
   },
   "source": [
    "3단계) 아래의 내용을 만족하도록 코드를 작성하여라.\n",
    "* 2단계에서 정수를 입력하지 않는 경우, `정수를 입력하세요`를 출력한다.\n",
    "* 2단계에서 1,2,3을 입력하지 않는 경우, `1,2,3 중 하나를 입력하세요`를 출력한다.\n",
    "* 올바른 값이 입력될 때까지 입력을 요구한다."
   ]
  },
  {
   "cell_type": "code",
   "execution_count": null,
   "metadata": {
    "id": "ajnEpDVHLrIM",
    "outputId": "13b5089a-bffe-4e15-f517-8d5a5e3db3df"
   },
   "outputs": [
    {
     "name": "stdout",
     "output_type": "stream",
     "text": [
      "부를 숫자의 개수를 입력하세요(1,2,3만 입력 가능) : 5\n",
      "1,2,3 중 하나를 입력하세요.\n",
      "부를 숫자의 개수를 입력하세요(1,2,3만 입력 가능) : a\n",
      "정수를 입력하세요.\n",
      "부를 숫자의 개수를 입력하세요(1,2,3만 입력 가능) : 3\n"
     ]
    }
   ],
   "source": [
    "num = 0\n",
    "\n",
    "while True:\n",
    "    try:\n",
    "        n_call = input(\"부를 숫자의 개수를 입력하세요(1,2,3만 입력 가능) : \")\n",
    "        n_call = int(n_call)\n",
    "\n",
    "        if 0 < n_call < 4:\n",
    "            break \n",
    "        else:\n",
    "            print(\"1,2,3 중 하나를 입력하세요.\")\n",
    "\n",
    "    except ValueError:\n",
    "        print(\"정수를 입력하세요.\")"
   ]
  },
  {
   "cell_type": "markdown",
   "metadata": {
    "id": "mrPASZV8PFKc"
   },
   "source": [
    "4단계) 변수`num`를 이용하여, 2단계에서 입력한 수만큼 숫자를 출력하는 코드를 작성하여라.\n",
    "\n",
    "예를 들어, 2단계에서 playerA가 3을 입력했다면, 1,2,3을 아래와 같은 형식으로 출력하여라.\n",
    ">```\n",
    "playerA : 1\n",
    "playerA : 2\n",
    "playerA : 3\n",
    "```"
   ]
  },
  {
   "cell_type": "code",
   "execution_count": null,
   "metadata": {
    "id": "NUWUFNUHLr-p",
    "outputId": "a8543366-8f7d-4f3c-dddc-369b82491085"
   },
   "outputs": [
    {
     "name": "stdout",
     "output_type": "stream",
     "text": [
      "부를 숫자의 개수를 입력하세요(1,2,3만 입력 가능) : 3\n",
      "playerA : 1\n",
      "playerA : 2\n",
      "playerA : 3\n"
     ]
    }
   ],
   "source": [
    "num = 0\n",
    "\n",
    "while True:\n",
    "    try:\n",
    "        n_call = input(\"부를 숫자의 개수를 입력하세요(1,2,3만 입력 가능) : \")\n",
    "        n_call = int(n_call)\n",
    "\n",
    "        if 0 < n_call < 4:\n",
    "            for i in range(n_call):\n",
    "                num += 1\n",
    "                print(\"playerA :\",num)\n",
    "            break \n",
    "        else:\n",
    "            print(\"1,2,3 중 하나를 입력하세요.\")\n",
    "\n",
    "    except ValueError:\n",
    "        print(\"정수를 입력하세요.\")\n"
   ]
  },
  {
   "cell_type": "markdown",
   "metadata": {
    "id": "ACNmZEh2RT__"
   },
   "source": [
    "5단계) 아래의 내용이 만족하도록 코드를 작성하여라.\n",
    "\n",
    "* 1에서 3사이의 정수를 입력받는 코드를 작성하여라.\n",
    "> 부를 숫자의 개수를 입력하세요(1, 2, 3만 입력 가능) :\n",
    "* 정수를 입력하지 않는 경우, `정수를 입력하세요`를 출력한다.\n",
    "* 1,2,3을 입력하지 않는 경우, `1,2,3 중 하나를 입력하세요`를 출력한다.\n",
    "* 올바른 값이 입력될 때까지 입력을 요구한다.\n",
    "* 변수`num`을 이용하여 입력한 수만큼 숫자를 출력하는 코드를 작성하여라.  \n",
    "예를 들어, 2단계에서 playerA가 3을 입력한 상태에서, playerB가 2를 입력하면 4,5를 아래와 같은 형식으로 출력하여라.\n",
    ">```\n",
    "playerB : 4\n",
    "playerB : 5\n",
    "```"
   ]
  },
  {
   "cell_type": "code",
   "execution_count": 1,
   "metadata": {
    "colab": {
     "base_uri": "https://localhost:8080/"
    },
    "executionInfo": {
     "elapsed": 5294,
     "status": "ok",
     "timestamp": 1616997457899,
     "user": {
      "displayName": "HJ Kim",
      "photoUrl": "",
      "userId": "16634276932240017990"
     },
     "user_tz": -540
    },
    "id": "bboSyiumpk0X",
    "outputId": "c2f840ff-9fea-4791-c7b8-0a24cfcdc8a2"
   },
   "outputs": [
    {
     "name": "stdout",
     "output_type": "stream",
     "text": [
      "부를 숫자의 개수를 입력하세요(1,2,3만 입력 가능) : 3\n",
      "playerA : 1\n",
      "playerA : 2\n",
      "playerA : 3\n",
      "부를 숫자의 개수를 입력하세요(1,2,3만 입력 가능) : 2\n",
      "playerB : 4\n",
      "playerB : 5\n"
     ]
    }
   ],
   "source": [
    "num = 0\n",
    "isPlayerA = True\n",
    "\n",
    "while True:\n",
    "    try:\n",
    "      if isPlayerA :\n",
    "        n_call = input(\"부를 숫자의 개수를 입력하세요(1,2,3만 입력 가능) : \")\n",
    "        n_call = int(n_call)\n",
    "\n",
    "        if 0 < n_call < 4:\n",
    "            for i in range(n_call):\n",
    "                num += 1\n",
    "                print(\"playerA :\",num)\n",
    "                \n",
    "            isPlayerA = not isPlayerA\n",
    "        else:\n",
    "            print(\"1,2,3 중 하나를 입력하세요.\")\n",
    "      else :\n",
    "        n_call = input(\"부를 숫자의 개수를 입력하세요(1,2,3만 입력 가능) : \")\n",
    "        n_call = int(n_call)\n",
    "\n",
    "        if 0 < n_call < 4:\n",
    "            for i in range(n_call):\n",
    "                num += 1\n",
    "                print(\"playerB :\",num)\n",
    "                \n",
    "            isPlayerA = not isPlayerA\n",
    "        else:\n",
    "            print(\"1,2,3 중 하나를 입력하세요.\")\n",
    "      \n",
    "      if isPlayerA :\n",
    "        break\n",
    "\n",
    "    except ValueError:\n",
    "        print(\"정수를 입력하세요.\")"
   ]
  },
  {
   "cell_type": "markdown",
   "metadata": {
    "id": "75oHpTJWRma8"
   },
   "source": [
    "## 배스킨라빈스31 게임은 참여자가 번갈아가며 숫자를 부른다.  \n",
    "6단계) 게임이 끝날 때까지 playerA와 playerB에게 번갈아가며 부를 숫자의 개수를 입력받는 코드를 작성하여라.   \n",
    "게임은 누군가 31을 부르면 끝난다. "
   ]
  },
  {
   "cell_type": "code",
   "execution_count": 2,
   "metadata": {
    "colab": {
     "base_uri": "https://localhost:8080/"
    },
    "executionInfo": {
     "elapsed": 21151,
     "status": "ok",
     "timestamp": 1616997544885,
     "user": {
      "displayName": "HJ Kim",
      "photoUrl": "",
      "userId": "16634276932240017990"
     },
     "user_tz": -540
    },
    "id": "iCJrJwowwxzP",
    "outputId": "9461be04-373a-4a76-89b5-22d60b67922a"
   },
   "outputs": [
    {
     "name": "stdout",
     "output_type": "stream",
     "text": [
      "부를 숫자의 개수를 입력하세요(1,2,3만 입력 가능) : 3\n",
      "playerA : 1\n",
      "playerA : 2\n",
      "playerA : 3\n",
      "부를 숫자의 개수를 입력하세요(1,2,3만 입력 가능) : 3\n",
      "playerB : 4\n",
      "playerB : 5\n",
      "playerB : 6\n",
      "부를 숫자의 개수를 입력하세요(1,2,3만 입력 가능) : 3\n",
      "playerA : 7\n",
      "playerA : 8\n",
      "playerA : 9\n",
      "부를 숫자의 개수를 입력하세요(1,2,3만 입력 가능) : 3\n",
      "playerB : 10\n",
      "playerB : 11\n",
      "playerB : 12\n",
      "부를 숫자의 개수를 입력하세요(1,2,3만 입력 가능) : 3\n",
      "playerA : 13\n",
      "playerA : 14\n",
      "playerA : 15\n",
      "부를 숫자의 개수를 입력하세요(1,2,3만 입력 가능) : 3\n",
      "playerB : 16\n",
      "playerB : 17\n",
      "playerB : 18\n",
      "부를 숫자의 개수를 입력하세요(1,2,3만 입력 가능) : 3\n",
      "playerA : 19\n",
      "playerA : 20\n",
      "playerA : 21\n",
      "부를 숫자의 개수를 입력하세요(1,2,3만 입력 가능) : 3\n",
      "playerB : 22\n",
      "playerB : 23\n",
      "playerB : 24\n",
      "부를 숫자의 개수를 입력하세요(1,2,3만 입력 가능) : 3\n",
      "playerA : 25\n",
      "playerA : 26\n",
      "playerA : 27\n",
      "부를 숫자의 개수를 입력하세요(1,2,3만 입력 가능) : 3\n",
      "playerB : 28\n",
      "playerB : 29\n",
      "playerB : 30\n",
      "부를 숫자의 개수를 입력하세요(1,2,3만 입력 가능) : 2\n",
      "playerA : 31\n"
     ]
    }
   ],
   "source": [
    "num = 0\n",
    "isPlayerA = True\n",
    "done = False\n",
    "\n",
    "while not done:\n",
    "    try:\n",
    "      if isPlayerA :\n",
    "        n_call = input(\"부를 숫자의 개수를 입력하세요(1,2,3만 입력 가능) : \")\n",
    "        n_call = int(n_call)\n",
    "\n",
    "        if 0 < n_call < 4:\n",
    "            for i in range(n_call):\n",
    "                num += 1\n",
    "                print(\"playerA :\",num)\n",
    "\n",
    "                if num == 31 :\n",
    "                  done = True\n",
    "                  break\n",
    "                \n",
    "            isPlayerA = not isPlayerA\n",
    "\n",
    "\n",
    "        else:\n",
    "            print(\"1,2,3 중 하나를 입력하세요.\")\n",
    "      else :\n",
    "        n_call = input(\"부를 숫자의 개수를 입력하세요(1,2,3만 입력 가능) : \")\n",
    "        n_call = int(n_call)\n",
    "\n",
    "        if 0 < n_call < 4:\n",
    "            for i in range(n_call):\n",
    "                num += 1\n",
    "                print(\"playerB :\",num)\n",
    "            \n",
    "                if num == 31 :\n",
    "                  done = True\n",
    "                  break\n",
    "\n",
    "            isPlayerA = not isPlayerA\n",
    "            \n",
    "\n",
    "        else:\n",
    "            print(\"1,2,3 중 하나를 입력하세요.\")\n",
    "\n",
    "    except ValueError:\n",
    "        print(\"정수를 입력하세요.\")"
   ]
  },
  {
   "cell_type": "markdown",
   "metadata": {
    "id": "y-pifWL1j6Q6"
   },
   "source": [
    "7단계) 게임이 끝났을 때, 누가 이겼는지 화면에 출력하여라.\n",
    ">```\n",
    "playerA win!\n",
    "playerB win!\n",
    "```"
   ]
  },
  {
   "cell_type": "code",
   "execution_count": null,
   "metadata": {
    "colab": {
     "base_uri": "https://localhost:8080/"
    },
    "executionInfo": {
     "elapsed": 23674,
     "status": "ok",
     "timestamp": 1616984176055,
     "user": {
      "displayName": "HJ Kim",
      "photoUrl": "",
      "userId": "16634276932240017990"
     },
     "user_tz": -540
    },
    "id": "UNKR8iaKt-7G",
    "outputId": "16d9e7b6-2989-4c4f-8a38-30b91693e2ac"
   },
   "outputs": [
    {
     "name": "stdout",
     "output_type": "stream",
     "text": [
      "부를 숫자의 개수를 입력하세요(1,2,3만 입력 가능) : 3\n",
      "playerA : 1\n",
      "playerA : 2\n",
      "playerA : 3\n",
      "부를 숫자의 개수를 입력하세요(1,2,3만 입력 가능) : 3\n",
      "playerB : 4\n",
      "playerB : 5\n",
      "playerB : 6\n",
      "부를 숫자의 개수를 입력하세요(1,2,3만 입력 가능) : 3\n",
      "playerA : 7\n",
      "playerA : 8\n",
      "playerA : 9\n",
      "부를 숫자의 개수를 입력하세요(1,2,3만 입력 가능) : 3\n",
      "playerB : 10\n",
      "playerB : 11\n",
      "playerB : 12\n",
      "부를 숫자의 개수를 입력하세요(1,2,3만 입력 가능) : 3\n",
      "playerA : 13\n",
      "playerA : 14\n",
      "playerA : 15\n",
      "부를 숫자의 개수를 입력하세요(1,2,3만 입력 가능) : 3\n",
      "playerB : 16\n",
      "playerB : 17\n",
      "playerB : 18\n",
      "부를 숫자의 개수를 입력하세요(1,2,3만 입력 가능) : 3\n",
      "playerA : 19\n",
      "playerA : 20\n",
      "playerA : 21\n",
      "부를 숫자의 개수를 입력하세요(1,2,3만 입력 가능) : 3\n",
      "playerB : 22\n",
      "playerB : 23\n",
      "playerB : 24\n",
      "부를 숫자의 개수를 입력하세요(1,2,3만 입력 가능) : 3\n",
      "playerA : 25\n",
      "playerA : 26\n",
      "playerA : 27\n",
      "부를 숫자의 개수를 입력하세요(1,2,3만 입력 가능) : 2\n",
      "playerB : 28\n",
      "playerB : 29\n",
      "부를 숫자의 개수를 입력하세요(1,2,3만 입력 가능) : 3\n",
      "playerA : 30\n",
      "playerA : 31\n",
      "playerB win!\n"
     ]
    }
   ],
   "source": [
    "num = 0\n",
    "isPlayerA = True\n",
    "done = False\n",
    "\n",
    "while not done:\n",
    "    try:\n",
    "      if isPlayerA :\n",
    "        n_call = input(\"부를 숫자의 개수를 입력하세요(1,2,3만 입력 가능) : \")\n",
    "        n_call = int(n_call)\n",
    "\n",
    "        if 0 < n_call < 4:\n",
    "            for i in range(n_call):\n",
    "                num += 1\n",
    "                print(\"playerA :\",num)\n",
    "\n",
    "                if num == 31 :\n",
    "                  done = True\n",
    "                  print(\"playerB win!\")\n",
    "                  break\n",
    "                \n",
    "            isPlayerA = not isPlayerA\n",
    "\n",
    "\n",
    "        else:\n",
    "            print(\"1,2,3 중 하나를 입력하세요.\")\n",
    "      else :\n",
    "        n_call = input(\"부를 숫자의 개수를 입력하세요(1,2,3만 입력 가능) : \")\n",
    "        n_call = int(n_call)\n",
    "\n",
    "        if 0 < n_call < 4:\n",
    "            for i in range(n_call):\n",
    "                num += 1\n",
    "                print(\"playerB :\",num)\n",
    "            \n",
    "                if num == 31 :\n",
    "                  done = True\n",
    "                  print(\"playerA win!\")\n",
    "                  break\n",
    "\n",
    "            isPlayerA = not isPlayerA\n",
    "            \n",
    "\n",
    "        else:\n",
    "            print(\"1,2,3 중 하나를 입력하세요.\")\n",
    "\n",
    "    except ValueError:\n",
    "        print(\"정수를 입력하세요.\")"
   ]
  },
  {
   "cell_type": "markdown",
   "metadata": {
    "id": "UH2ceSKCRmkV"
   },
   "source": [
    "8단계) 6단계까지 중복되는 코드를 찾아 함수로 만들어라. 이때, 함수 이름은 `brGame`으로 한다. "
   ]
  },
  {
   "cell_type": "code",
   "execution_count": null,
   "metadata": {
    "colab": {
     "base_uri": "https://localhost:8080/"
    },
    "executionInfo": {
     "elapsed": 21338,
     "status": "ok",
     "timestamp": 1616997290259,
     "user": {
      "displayName": "HJ Kim",
      "photoUrl": "",
      "userId": "16634276932240017990"
     },
     "user_tz": -540
    },
    "id": "GIdst45wv5Z0",
    "outputId": "2425c574-2b4c-429c-a7d3-c7ba623cff37"
   },
   "outputs": [
    {
     "name": "stdout",
     "output_type": "stream",
     "text": [
      "부를 숫자의 개수를 입력하세요(1,2,3만 입력 가능) : 3\n",
      "playerA 1\n",
      "playerA 2\n",
      "playerA 3\n",
      "부를 숫자의 개수를 입력하세요(1,2,3만 입력 가능) : 3\n",
      "playerB 4\n",
      "playerB 5\n",
      "playerB 6\n",
      "부를 숫자의 개수를 입력하세요(1,2,3만 입력 가능) : 3\n",
      "playerA 7\n",
      "playerA 8\n",
      "playerA 9\n",
      "부를 숫자의 개수를 입력하세요(1,2,3만 입력 가능) : 3\n",
      "playerB 10\n",
      "playerB 11\n",
      "playerB 12\n",
      "부를 숫자의 개수를 입력하세요(1,2,3만 입력 가능) : 3\n",
      "playerA 13\n",
      "playerA 14\n",
      "playerA 15\n",
      "부를 숫자의 개수를 입력하세요(1,2,3만 입력 가능) : 3\n",
      "playerB 16\n",
      "playerB 17\n",
      "playerB 18\n",
      "부를 숫자의 개수를 입력하세요(1,2,3만 입력 가능) : 3\n",
      "playerA 19\n",
      "playerA 20\n",
      "playerA 21\n",
      "부를 숫자의 개수를 입력하세요(1,2,3만 입력 가능) : 3\n",
      "playerB 22\n",
      "playerB 23\n",
      "playerB 24\n",
      "부를 숫자의 개수를 입력하세요(1,2,3만 입력 가능) : 3\n",
      "playerA 25\n",
      "playerA 26\n",
      "playerA 27\n",
      "부를 숫자의 개수를 입력하세요(1,2,3만 입력 가능) : 3\n",
      "playerB 28\n",
      "playerB 29\n",
      "playerB 30\n",
      "부를 숫자의 개수를 입력하세요(1,2,3만 입력 가능) : 3\n",
      "playerA 31\n",
      "playerB win!\n"
     ]
    }
   ],
   "source": [
    "num = 0\n",
    "isPlayerA = True\n",
    "done = False\n",
    "\n",
    "def brGame(player, winner) :\n",
    "  global num, isPlayerA, done\n",
    "\n",
    "  n_call = input(\"부를 숫자의 개수를 입력하세요(1,2,3만 입력 가능) : \")\n",
    "  n_call = int(n_call)\n",
    "\n",
    "  if 0 < n_call < 4:\n",
    "      for i in range(n_call):\n",
    "          num += 1\n",
    "          print(player,num)\n",
    "\n",
    "          if num == 31 :\n",
    "              done = True\n",
    "              print(winner ,\"win!\")\n",
    "              break\n",
    "      isPlayerA = not isPlayerA\n",
    "  else:\n",
    "      print(\"1,2,3 중 하나를 입력하세요.\")\n",
    "\n",
    "\n",
    "while not done:\n",
    "    try:\n",
    "      if isPlayerA :\n",
    "        brGame(\"playerA\", \"playerB\")\n",
    "                \n",
    "      else :\n",
    "        brGame(\"playerB\", \"playerA\")\n",
    "\n",
    "    except ValueError:\n",
    "        print(\"정수를 입력하세요.\")"
   ]
  },
  {
   "cell_type": "markdown",
   "metadata": {
    "id": "crW1xASJkePT"
   },
   "source": [
    "참고) 아래와 같이 배스킨라빈스31 게임을 만들 수도 있다."
   ]
  },
  {
   "cell_type": "code",
   "execution_count": 2,
   "metadata": {
    "colab": {
     "base_uri": "https://localhost:8080/"
    },
    "executionInfo": {
     "elapsed": 16620,
     "status": "ok",
     "timestamp": 1617006307220,
     "user": {
      "displayName": "HJ Kim",
      "photoUrl": "",
      "userId": "16634276932240017990"
     },
     "user_tz": -540
    },
    "id": "v89P_x9GLvO_",
    "outputId": "2e68dc5a-6dbf-4c72-9681-a0e6a6dd0dcf"
   },
   "outputs": [
    {
     "name": "stdout",
     "output_type": "stream",
     "text": [
      "부를 숫자의 개수를 입력하세요(1,2,3만 입력 가능) : 3\n",
      "playerA : 1\n",
      "playerA : 2\n",
      "playerA : 3\n",
      "부를 숫자의 개수를 입력하세요(1,2,3만 입력 가능) : 3\n",
      "playerB : 4\n",
      "playerB : 5\n",
      "playerB : 6\n",
      "부를 숫자의 개수를 입력하세요(1,2,3만 입력 가능) : 2\n",
      "playerA : 7\n",
      "playerA : 8\n",
      "부를 숫자의 개수를 입력하세요(1,2,3만 입력 가능) : 3\n",
      "playerB : 9\n",
      "playerB : 10\n",
      "playerB : 11\n",
      "부를 숫자의 개수를 입력하세요(1,2,3만 입력 가능) : 3\n",
      "playerA : 12\n",
      "playerA : 13\n",
      "playerA : 14\n",
      "부를 숫자의 개수를 입력하세요(1,2,3만 입력 가능) : 2\n",
      "playerB : 15\n",
      "playerB : 16\n",
      "부를 숫자의 개수를 입력하세요(1,2,3만 입력 가능) : 3\n",
      "playerA : 17\n",
      "playerA : 18\n",
      "playerA : 19\n",
      "부를 숫자의 개수를 입력하세요(1,2,3만 입력 가능) : 3\n",
      "playerB : 20\n",
      "playerB : 21\n",
      "playerB : 22\n",
      "부를 숫자의 개수를 입력하세요(1,2,3만 입력 가능) : 3\n",
      "playerA : 23\n",
      "playerA : 24\n",
      "playerA : 25\n",
      "부를 숫자의 개수를 입력하세요(1,2,3만 입력 가능) : 3\n",
      "playerB : 26\n",
      "playerB : 27\n",
      "playerB : 28\n",
      "부를 숫자의 개수를 입력하세요(1,2,3만 입력 가능) : 2\n",
      "playerA : 29\n",
      "playerA : 30\n",
      "부를 숫자의 개수를 입력하세요(1,2,3만 입력 가능) : 1\n",
      "playerB : 31\n",
      "playerA win!\n"
     ]
    }
   ],
   "source": [
    "num = 0\n",
    "isPlayerA = True\n",
    "done = False\n",
    "\n",
    "while not done:\n",
    "    try:\n",
    "        n_call = input(\"부를 숫자의 개수를 입력하세요(1,2,3만 입력 가능) : \")\n",
    "        n_call = int(n_call)\n",
    "\n",
    "        if 0 < n_call < 4:\n",
    "            for i in range(n_call):\n",
    "                num += 1\n",
    "                if isPlayerA:\n",
    "                    print(\"playerA :\",num)\n",
    "                else:\n",
    "                    print(\"playerB :\",num)\n",
    "                \n",
    "                if num == 31:\n",
    "                    done = True\n",
    "                    if isPlayerA:\n",
    "                        print(\"playerB win!\")\n",
    "                    else:\n",
    "                        print(\"playerA win!\")\n",
    "                    break\n",
    "            \n",
    "            isPlayerA = not isPlayerA\n",
    "\n",
    "        else:\n",
    "            print(\"1,2,3 중 하나를 입력하세요.\")\n",
    "\n",
    "    except ValueError:\n",
    "        print(\"정수를 입력하세요.\")"
   ]
  },
  {
   "cell_type": "markdown",
   "metadata": {
    "id": "uk0eT6KqpKBK"
   },
   "source": [
    "computer와 대결하는 배스킨라빈스31 게임을 만들어보자.\n"
   ]
  },
  {
   "cell_type": "markdown",
   "metadata": {
    "id": "KOzCKpFpRmwy"
   },
   "source": [
    "\n",
    "9단계) 아래의 내용을 만족하도록 코드를 작성하여라.\n",
    "* 위의 코드에서 playerA와 playerB는 각각 computer와 player로 변경한다.\n",
    "* computer는 임의로 1~3개의 수를 부른다.\n",
    "\n",
    "참고) 파이썬에서 난수(random number)를 생성하기 위해 `random` 모듈을 사용한다.   \n",
    "`random` 모듈의 `randint(a, b)` 함수는 a부터 b사이(끝값 포함)의 임의의 정수를 리턴한다.  \n",
    "예를 들어, `randint(1, 100)`은 1부터 100사이(1과 100포함)의 임의의 정수를 리턴한다.  "
   ]
  },
  {
   "cell_type": "code",
   "execution_count": 6,
   "metadata": {
    "colab": {
     "base_uri": "https://localhost:8080/"
    },
    "executionInfo": {
     "elapsed": 21593,
     "status": "ok",
     "timestamp": 1617006913378,
     "user": {
      "displayName": "HJ Kim",
      "photoUrl": "",
      "userId": "16634276932240017990"
     },
     "user_tz": -540
    },
    "id": "35yso6SJjvWM",
    "outputId": "02a2bce9-ae7b-4dde-9b4f-1bfad57c3fdb"
   },
   "outputs": [
    {
     "name": "stdout",
     "output_type": "stream",
     "text": [
      "computer 1\n",
      "부를 숫자의 개수를 입력하세요(1,2,3만 입력 가능) : 3\n",
      "player 2\n",
      "player 3\n",
      "player 4\n",
      "computer 5\n",
      "부를 숫자의 개수를 입력하세요(1,2,3만 입력 가능) : 2\n",
      "player 6\n",
      "player 7\n",
      "computer 8\n",
      "computer 9\n",
      "부를 숫자의 개수를 입력하세요(1,2,3만 입력 가능) : 3\n",
      "player 10\n",
      "player 11\n",
      "player 12\n",
      "computer 13\n",
      "computer 14\n",
      "computer 15\n",
      "부를 숫자의 개수를 입력하세요(1,2,3만 입력 가능) : 3\n",
      "player 16\n",
      "player 17\n",
      "player 18\n",
      "computer 19\n",
      "부를 숫자의 개수를 입력하세요(1,2,3만 입력 가능) : 3\n",
      "player 20\n",
      "player 21\n",
      "player 22\n",
      "computer 23\n",
      "computer 24\n",
      "computer 25\n",
      "부를 숫자의 개수를 입력하세요(1,2,3만 입력 가능) : 3\n",
      "player 26\n",
      "player 27\n",
      "player 28\n",
      "computer 29\n",
      "부를 숫자의 개수를 입력하세요(1,2,3만 입력 가능) : 2\n",
      "player 30\n",
      "player 31\n",
      "computer win!\n"
     ]
    }
   ],
   "source": [
    "import random\n",
    "\n",
    "num = 0\n",
    "isComputer = True\n",
    "done = False\n",
    "\n",
    "def brGame(player, winner, n_call) :\n",
    "  global num, isComputer, done\n",
    "\n",
    "  #n_call = input(\"부를 숫자의 개수를 입력하세요(1,2,3만 입력 가능) : \")\n",
    "  n_call = int(n_call)\n",
    "\n",
    "  if 0 < n_call < 4:\n",
    "      for i in range(n_call):\n",
    "          num += 1\n",
    "          print(player,num)\n",
    "\n",
    "          if num == 31 :\n",
    "              done = True\n",
    "              print(winner ,\"win!\")\n",
    "              break\n",
    "      isComputer = not isComputer\n",
    "  else:\n",
    "      print(\"1,2,3 중 하나를 입력하세요.\")\n",
    "\n",
    "\n",
    "while not done:\n",
    "    try:\n",
    "      if isComputer :\n",
    "        n_call = random.randint(1, 3)\n",
    "        brGame(\"computer\", \"player\", n_call)\n",
    "                \n",
    "      else :\n",
    "        n_call = input(\"부를 숫자의 개수를 입력하세요(1,2,3만 입력 가능) : \")\n",
    "        brGame(\"player\", \"computer\", n_call)\n",
    "\n",
    "    except ValueError:\n",
    "        print(\"정수를 입력하세요.\")"
   ]
  },
  {
   "cell_type": "markdown",
   "metadata": {
    "id": "_3c7mzjGmnZY"
   },
   "source": [
    "아래와 같이 컴퓨터와 대결하는 배스킨라빈스 31 게임을 만들 수도 있다."
   ]
  },
  {
   "cell_type": "code",
   "execution_count": 3,
   "metadata": {
    "colab": {
     "base_uri": "https://localhost:8080/"
    },
    "executionInfo": {
     "elapsed": 12365,
     "status": "ok",
     "timestamp": 1617006372054,
     "user": {
      "displayName": "HJ Kim",
      "photoUrl": "",
      "userId": "16634276932240017990"
     },
     "user_tz": -540
    },
    "id": "vC_MKJShLwTB",
    "outputId": "49375042-ddde-404a-8768-f46b7b0df554"
   },
   "outputs": [
    {
     "name": "stdout",
     "output_type": "stream",
     "text": [
      "Computer : 1\n",
      "부를 숫자의 개수를 입력하세요(1,2,3만 입력 가능) : 3\n",
      "Player : 2\n",
      "Player : 3\n",
      "Player : 4\n",
      "Computer : 5\n",
      "Computer : 6\n",
      "Computer : 7\n",
      "부를 숫자의 개수를 입력하세요(1,2,3만 입력 가능) : 3\n",
      "Player : 8\n",
      "Player : 9\n",
      "Player : 10\n",
      "Computer : 11\n",
      "Computer : 12\n",
      "Computer : 13\n",
      "부를 숫자의 개수를 입력하세요(1,2,3만 입력 가능) : 2\n",
      "Player : 14\n",
      "Player : 15\n",
      "Computer : 16\n",
      "Computer : 17\n",
      "Computer : 18\n",
      "부를 숫자의 개수를 입력하세요(1,2,3만 입력 가능) : 3\n",
      "Player : 19\n",
      "Player : 20\n",
      "Player : 21\n",
      "Computer : 22\n",
      "부를 숫자의 개수를 입력하세요(1,2,3만 입력 가능) : 3\n",
      "Player : 23\n",
      "Player : 24\n",
      "Player : 25\n",
      "Computer : 26\n",
      "Computer : 27\n",
      "Computer : 28\n",
      "부를 숫자의 개수를 입력하세요(1,2,3만 입력 가능) : 2\n",
      "Player : 29\n",
      "Player : 30\n",
      "Computer : 31\n",
      "Player win!\n"
     ]
    }
   ],
   "source": [
    "import random\n",
    "\n",
    "num = 0\n",
    "isPlayer = False\n",
    "done = False\n",
    "\n",
    "while not done:\n",
    "    try:\n",
    "        n_call = random.randint(1,3)\n",
    "        if isPlayer:\n",
    "            n_call = input(\"부를 숫자의 개수를 입력하세요(1,2,3만 입력 가능) : \")\n",
    "            n_call = int(n_call)\n",
    "\n",
    "        if 0 < n_call < 4:\n",
    "            for i in range(n_call):\n",
    "                num += 1\n",
    "                if isPlayer:\n",
    "                    print(\"Player :\",num)\n",
    "                else:\n",
    "                    print(\"Computer :\",num)\n",
    "                \n",
    "                if num == 31:\n",
    "                    done = True\n",
    "                    if isPlayer:\n",
    "                        print(\"Computer win!\")\n",
    "                    else:\n",
    "                        print(\"Player win!\")\n",
    "                    break\n",
    "            \n",
    "            isPlayer = not isPlayer\n",
    "\n",
    "        else:\n",
    "            print(\"1,2,3 중 하나를 입력하세요.\")\n",
    "\n",
    "    except ValueError:\n",
    "        print(\"정수를 입력하세요.\")"
   ]
  },
  {
   "cell_type": "markdown",
   "metadata": {
    "id": "GrMIe3hSr8Ph"
   },
   "source": [
    "```\n",
    "\n",
    "\n",
    "\n",
    "\n",
    "\n",
    "\n",
    "\n",
    ".\n",
    "```"
   ]
  },
  {
   "cell_type": "markdown",
   "metadata": {
    "id": "ysvg3cLqm7FZ"
   },
   "source": [
    "연습을 더 하고 싶다면, 아래의 문제를 풀어보세요!\n",
    "\n",
    "**[추가 문제1] 컴퓨터와 대결하는 배스킨라빈스31 게임을 보완해보자.**\n",
    "\n",
    "10단계) 게임의 순서를 player가 정할 수 있도록 하여라. "
   ]
  },
  {
   "cell_type": "code",
   "execution_count": 7,
   "metadata": {
    "colab": {
     "base_uri": "https://localhost:8080/"
    },
    "executionInfo": {
     "elapsed": 20753,
     "status": "ok",
     "timestamp": 1617007212861,
     "user": {
      "displayName": "HJ Kim",
      "photoUrl": "",
      "userId": "16634276932240017990"
     },
     "user_tz": -540
    },
    "id": "3TduOB7LnRbq",
    "outputId": "d5d4d8c6-3074-4abc-d803-311b2b3ef12d"
   },
   "outputs": [
    {
     "name": "stdout",
     "output_type": "stream",
     "text": [
      "먼저 하시겠습니까? Y/N Y\n",
      "부를 숫자의 개수를 입력하세요(1,2,3만 입력 가능) : 3\n",
      "player 1\n",
      "player 2\n",
      "player 3\n",
      "computer 4\n",
      "computer 5\n",
      "computer 6\n",
      "부를 숫자의 개수를 입력하세요(1,2,3만 입력 가능) : 2\n",
      "player 7\n",
      "player 8\n",
      "computer 9\n",
      "computer 10\n",
      "부를 숫자의 개수를 입력하세요(1,2,3만 입력 가능) : 3\n",
      "player 11\n",
      "player 12\n",
      "player 13\n",
      "computer 14\n",
      "computer 15\n",
      "computer 16\n",
      "부를 숫자의 개수를 입력하세요(1,2,3만 입력 가능) : a\n",
      "정수를 입력하세요.\n",
      "부를 숫자의 개수를 입력하세요(1,2,3만 입력 가능) : 3\n",
      "player 17\n",
      "player 18\n",
      "player 19\n",
      "computer 20\n",
      "부를 숫자의 개수를 입력하세요(1,2,3만 입력 가능) : 1\n",
      "player 21\n",
      "computer 22\n",
      "computer 23\n",
      "부를 숫자의 개수를 입력하세요(1,2,3만 입력 가능) : 3\n",
      "player 24\n",
      "player 25\n",
      "player 26\n",
      "computer 27\n",
      "부를 숫자의 개수를 입력하세요(1,2,3만 입력 가능) : 3\n",
      "player 28\n",
      "player 29\n",
      "player 30\n",
      "computer 31\n",
      "player win!\n"
     ]
    }
   ],
   "source": [
    "import random\n",
    "\n",
    "num = 0\n",
    "isComputer = True\n",
    "done = False\n",
    "\n",
    "while True:\n",
    "    isComputer = input(\"먼저 하시겠습니까? Y/N \")\n",
    "    if isComputer=='N':\n",
    "        isComputer = True\n",
    "        break\n",
    "    elif isComputer=='Y':\n",
    "        isComputer = False\n",
    "        break\n",
    "    else:\n",
    "        print(\"Y/N 으로 입력해주세요.\")\n",
    "\n",
    "def brGame(player, winner, n_call) :\n",
    "  global num, isComputer, done\n",
    "\n",
    "  #n_call = input(\"부를 숫자의 개수를 입력하세요(1,2,3만 입력 가능) : \")\n",
    "  n_call = int(n_call)\n",
    "\n",
    "  if 0 < n_call < 4:\n",
    "      for i in range(n_call):\n",
    "          num += 1\n",
    "          print(player,num)\n",
    "\n",
    "          if num == 31 :\n",
    "              done = True\n",
    "              print(winner ,\"win!\")\n",
    "              break\n",
    "      isComputer = not isComputer\n",
    "  else:\n",
    "      print(\"1,2,3 중 하나를 입력하세요.\")\n",
    "\n",
    "\n",
    "while not done:\n",
    "    try:\n",
    "      if isComputer :\n",
    "        n_call = random.randint(1, 3)\n",
    "        brGame(\"computer\", \"player\", n_call)\n",
    "                \n",
    "      else :\n",
    "        n_call = input(\"부를 숫자의 개수를 입력하세요(1,2,3만 입력 가능) : \")\n",
    "        brGame(\"player\", \"computer\", n_call)\n",
    "\n",
    "    except ValueError:\n",
    "        print(\"정수를 입력하세요.\")"
   ]
  },
  {
   "cell_type": "markdown",
   "metadata": {
    "id": "St9UmJPLi7ur"
   },
   "source": [
    "12단계) 게임의 순서를 가위바위보 게임으로 정할 수 있도록 하여라. "
   ]
  },
  {
   "cell_type": "code",
   "execution_count": 9,
   "metadata": {
    "colab": {
     "base_uri": "https://localhost:8080/"
    },
    "executionInfo": {
     "elapsed": 20684,
     "status": "ok",
     "timestamp": 1617007452360,
     "user": {
      "displayName": "HJ Kim",
      "photoUrl": "",
      "userId": "16634276932240017990"
     },
     "user_tz": -540
    },
    "id": "D08-o3hlF9th",
    "outputId": "adc6c8fc-f4f5-4b6c-9772-55cc365f4cf0"
   },
   "outputs": [
    {
     "name": "stdout",
     "output_type": "stream",
     "text": [
      "가위바위보 게임으로 먼저 할 사람을 정합니다.\n",
      "무엇을 내시겠습니까? (0: rock, 1: scissors, 2 : paper 중 숫자로 입력)2\n",
      "이겼습니다! 먼저하세요\n",
      "부를 숫자의 개수를 입력하세요(1,2,3만 입력 가능) : 3\n",
      "player 1\n",
      "player 2\n",
      "player 3\n",
      "computer 4\n",
      "computer 5\n",
      "computer 6\n",
      "부를 숫자의 개수를 입력하세요(1,2,3만 입력 가능) : 2\n",
      "player 7\n",
      "player 8\n",
      "computer 9\n",
      "computer 10\n",
      "computer 11\n",
      "부를 숫자의 개수를 입력하세요(1,2,3만 입력 가능) : 3\n",
      "player 12\n",
      "player 13\n",
      "player 14\n",
      "computer 15\n",
      "computer 16\n",
      "부를 숫자의 개수를 입력하세요(1,2,3만 입력 가능) : 3\n",
      "player 17\n",
      "player 18\n",
      "player 19\n",
      "computer 20\n",
      "부를 숫자의 개수를 입력하세요(1,2,3만 입력 가능) : 3\n",
      "player 21\n",
      "player 22\n",
      "player 23\n",
      "computer 24\n",
      "computer 25\n",
      "computer 26\n",
      "부를 숫자의 개수를 입력하세요(1,2,3만 입력 가능) : 2\n",
      "player 27\n",
      "player 28\n",
      "computer 29\n",
      "computer 30\n",
      "부를 숫자의 개수를 입력하세요(1,2,3만 입력 가능) : 1\n",
      "player 31\n",
      "computer win!\n"
     ]
    }
   ],
   "source": [
    "import random\n",
    "\n",
    "num = 0\n",
    "isComputer = True\n",
    "done = False\n",
    "\n",
    "print(\"가위바위보 게임으로 먼저 할 사람을 정합니다.\")\n",
    "while True:\n",
    "    try:\n",
    "        rsp_player = int(input(\"무엇을 내시겠습니까? (0: rock, 1: scissors, 2 : paper 중 숫자로 입력)\"))\n",
    "        if 0 <= rsp_player < 3:\n",
    "            rsp_com = random.randint(0,2)\n",
    "            if rsp_player == rsp_com:\n",
    "                print(\"비겼습니다. 다시!\")\n",
    "            elif (rsp_player + 1)%3 == rsp_com:\n",
    "                print(\"이겼습니다! 먼저하세요\")\n",
    "                isComputer = False\n",
    "                break\n",
    "            else:\n",
    "                print(\"졌습니다. Computer 먼저합니다.\")\n",
    "                isComputer = True\n",
    "                break\n",
    "        else:\n",
    "            print(\"0,1,2 중 입력해주세요\")\n",
    "    except ValueError:\n",
    "        print(\"숫자로 입력해주세요\")\n",
    "\n",
    "def brGame(player, winner, n_call) :\n",
    "  global num, isComputer, done\n",
    "\n",
    "  #n_call = input(\"부를 숫자의 개수를 입력하세요(1,2,3만 입력 가능) : \")\n",
    "  n_call = int(n_call)\n",
    "\n",
    "  if 0 < n_call < 4:\n",
    "      for i in range(n_call):\n",
    "          num += 1\n",
    "          print(player,num)\n",
    "\n",
    "          if num == 31 :\n",
    "              done = True\n",
    "              print(winner ,\"win!\")\n",
    "              break\n",
    "      isComputer = not isComputer\n",
    "  else:\n",
    "      print(\"1,2,3 중 하나를 입력하세요.\")\n",
    "\n",
    "\n",
    "while not done:\n",
    "    try:\n",
    "      if isComputer :\n",
    "        n_call = random.randint(1, 3)\n",
    "        brGame(\"computer\", \"player\", n_call)\n",
    "                \n",
    "      else :\n",
    "        n_call = input(\"부를 숫자의 개수를 입력하세요(1,2,3만 입력 가능) : \")\n",
    "        brGame(\"player\", \"computer\", n_call)\n",
    "\n",
    "    except ValueError:\n",
    "        print(\"정수를 입력하세요.\")"
   ]
  },
  {
   "cell_type": "markdown",
   "metadata": {
    "id": "B7Ho6aECi714"
   },
   "source": [
    "**[추가문제3] 구구단 게임 만들기**\n",
    "\n",
    "다음의 내용을 만족하도록 코드를 작성하여라.\n",
    "\n",
    "* 문제의 개수는 참여자가 정한다.\n",
    "* `input()` 함수를 이용하여, 참여자로부터 곱셈의 결과를 입력받는다.\n",
    ">`○ × △ = `\n",
    "* `○`와 `△`는 각각 1에서 20(1과 20포함)사이의 임의의 정수이다.\n",
    "* 게임이 끝나면 몇 문제를 맞혔는지 보여준다.\n",
    "* 게임이 끝나면 소요시간을 보여준다.  \n",
    "\n",
    "참고) `time` 모듈은 다양한 시간 관련 함수를 제공한다. 그중 `time` 모듈의 `time` 함수는 특정 시점이후 경과한 시간(초 단위)을 부동소수점 숫자로 반환한다. "
   ]
  },
  {
   "cell_type": "code",
   "execution_count": null,
   "metadata": {
    "id": "3xdNVV09hEpp",
    "outputId": "8aef31a7-b569-4528-b95a-136703fcc2e6"
   },
   "outputs": [
    {
     "name": "stdout",
     "output_type": "stream",
     "text": [
      "문제의 개수는? : 2\n",
      "1 번째 문제입니다.\n",
      "4x6=24\n",
      "2 번째 문제입니다.\n",
      "1x16=15\n",
      "1 개의 문제를 맞추었습니다.\n",
      "소요시간은 3.607287883758545 초 입니다\n"
     ]
    }
   ],
   "source": [
    "import time\n",
    "import random\n",
    "\n",
    "while True:\n",
    "    try:\n",
    "        n = int(input(\"문제의 개수는? : \"))\n",
    "        if n > 0:\n",
    "            count = 0\n",
    "            start = time.time()\n",
    "            for i in range(1,n+1):\n",
    "                print(i,\"번째 문제입니다.\")\n",
    "                a = random.randint(1,20)\n",
    "                b = random.randint(1,20)\n",
    "                ans = input(str(a)+\"x\"+str(b)+\"=\")\n",
    "                try:\n",
    "                    if int(ans) == a*b:\n",
    "                        count += 1\n",
    "                except:\n",
    "                    pass\n",
    "            print(count,\"개의 문제를 맞추었습니다.\")\n",
    "            print(\"소요시간은\",time.time()-start,\"초 입니다\")\n",
    "            break\n",
    "                \n",
    "        else:\n",
    "            print(\"0이상의 숫자를 입력하세요\")\n",
    "    except ValueError:\n",
    "        print(\"숫자로 입력하세요.\")"
   ]
  }
 ],
 "metadata": {
  "colab": {
   "authorship_tag": "ABX9TyM+H2efQ1a9C5ha0VnbupCf",
   "collapsed_sections": [],
   "name": "실습답안5.ipynb",
   "provenance": []
  },
  "kernelspec": {
   "display_name": "Python 3 (ipykernel)",
   "language": "python",
   "name": "python3"
  },
  "language_info": {
   "codemirror_mode": {
    "name": "ipython",
    "version": 3
   },
   "file_extension": ".py",
   "mimetype": "text/x-python",
   "name": "python",
   "nbconvert_exporter": "python",
   "pygments_lexer": "ipython3",
   "version": "3.9.7"
  }
 },
 "nbformat": 4,
 "nbformat_minor": 1
}
