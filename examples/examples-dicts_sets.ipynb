{
 "cells": [
  {
   "cell_type": "markdown",
   "metadata": {
    "id": "dj2QOM4rVDRT"
   },
   "source": [
    "# (필수 예제) 사전과 집합"
   ]
  },
  {
   "cell_type": "markdown",
   "metadata": {
    "id": "oAWioNm1nwNU"
   },
   "source": [
    "**참고 사항**\n",
    "\n",
    "먼저 [사전과 집합](https://codingalzi.github.io/pybook/dicts_sets.html) 내용을 학습하세요."
   ]
  },
  {
   "cell_type": "markdown",
   "metadata": {},
   "source": [
    "## 예제"
   ]
  },
  {
   "cell_type": "markdown",
   "metadata": {
    "id": "gSF_tBKvfg9V"
   },
   "source": [
    "영어 단어는 키로, 단어의 뜻은 값으로 하는 사전이 다음과 같이 주어졌다."
   ]
  },
  {
   "cell_type": "code",
   "execution_count": 26,
   "metadata": {
    "colab": {
     "base_uri": "https://localhost:8080/"
    },
    "executionInfo": {
     "elapsed": 879,
     "status": "ok",
     "timestamp": 1618073146378,
     "user": {
      "displayName": "KyeongRyong Lee",
      "photoUrl": "",
      "userId": "08575822710201651490"
     },
     "user_tz": -540
    },
    "id": "vbQeYUiJNHEe",
    "outputId": "20eca004-b733-4e9f-899e-ccfaacea1d96"
   },
   "outputs": [],
   "source": [
    "eng_dict = {'dog': '개', 'cat': '고양이', 'lion': '사자', 'tiger': '호랑이', 'snake': '뱀'}"
   ]
  },
  {
   "cell_type": "markdown",
   "metadata": {},
   "source": [
    "영어 단어가 인자로 입력되었을 때 사전의 키로 사용되었다면 뜻을 반환하고,\n",
    "아니면 아래 문장을 반환하는 `eng_fun()` 함수를 선언하라.\n",
    "단, 대소문자는 구분하지 않는다.\n",
    "\n",
    "    찾는 단어가 없습니다."
   ]
  },
  {
   "cell_type": "markdown",
   "metadata": {},
   "source": [
    "**답**"
   ]
  },
  {
   "cell_type": "markdown",
   "metadata": {},
   "source": [
    "사전에 키로 사용된 영어 단어는 모두 소문자만 사용한다.\n",
    "따라서 입력값을 먼저 소문자만 사용하도록 한 다음에 키로 사용되었는지 여부를 판단한다."
   ]
  },
  {
   "cell_type": "code",
   "execution_count": 43,
   "metadata": {},
   "outputs": [],
   "source": [
    "def eng_fun(word):\n",
    "    word = word.lower()\n",
    "    if word in eng_dict:\n",
    "        return eng_dict[word]\n",
    "    else:\n",
    "        return '찾는 단어가 없습니다.'"
   ]
  },
  {
   "cell_type": "code",
   "execution_count": 44,
   "metadata": {},
   "outputs": [
    {
     "data": {
      "text/plain": [
       "'개'"
      ]
     },
     "execution_count": 44,
     "metadata": {},
     "output_type": "execute_result"
    }
   ],
   "source": [
    "eng_fun('dog')"
   ]
  },
  {
   "cell_type": "code",
   "execution_count": 45,
   "metadata": {},
   "outputs": [
    {
     "data": {
      "text/plain": [
       "'찾는 단어가 없습니다.'"
      ]
     },
     "execution_count": 45,
     "metadata": {},
     "output_type": "execute_result"
    }
   ],
   "source": [
    "eng_fun('fox')"
   ]
  },
  {
   "cell_type": "markdown",
   "metadata": {},
   "source": [
    "다음과 같이 사전의 `get()` 메서드를 이용하여 `eng_func()` 함수를 선언할 수도 있다."
   ]
  },
  {
   "cell_type": "code",
   "execution_count": 46,
   "metadata": {},
   "outputs": [],
   "source": [
    "def eng_fun(word):\n",
    "    word = word.lower()\n",
    "    return eng_dict.get(word, '찾는 단어가 없어요.')"
   ]
  },
  {
   "cell_type": "code",
   "execution_count": 47,
   "metadata": {},
   "outputs": [
    {
     "data": {
      "text/plain": [
       "'개'"
      ]
     },
     "execution_count": 47,
     "metadata": {},
     "output_type": "execute_result"
    }
   ],
   "source": [
    "eng_fun('dog')"
   ]
  },
  {
   "cell_type": "code",
   "execution_count": 48,
   "metadata": {},
   "outputs": [
    {
     "data": {
      "text/plain": [
       "'찾는 단어가 없어요.'"
      ]
     },
     "execution_count": 48,
     "metadata": {},
     "output_type": "execute_result"
    }
   ],
   "source": [
    "eng_fun('fox')"
   ]
  },
  {
   "cell_type": "markdown",
   "metadata": {},
   "source": [
    "반면에 다음과 같이 사전 인덱싱을 이용하면 찾는 단어가 없는 경우 오류가 발생한다."
   ]
  },
  {
   "cell_type": "code",
   "execution_count": 51,
   "metadata": {},
   "outputs": [],
   "source": [
    "def eng_fun(word):\n",
    "    word = word.lower()\n",
    "    return eng_dict[word]"
   ]
  },
  {
   "cell_type": "code",
   "execution_count": 52,
   "metadata": {},
   "outputs": [
    {
     "data": {
      "text/plain": [
       "'개'"
      ]
     },
     "execution_count": 52,
     "metadata": {},
     "output_type": "execute_result"
    }
   ],
   "source": [
    "eng_fun('dog')"
   ]
  },
  {
   "cell_type": "code",
   "execution_count": 53,
   "metadata": {},
   "outputs": [
    {
     "ename": "KeyError",
     "evalue": "'fox'",
     "output_type": "error",
     "traceback": [
      "\u001b[0;31m---------------------------------------------------------------------------\u001b[0m",
      "\u001b[0;31mKeyError\u001b[0m                                  Traceback (most recent call last)",
      "Cell \u001b[0;32mIn[53], line 1\u001b[0m\n\u001b[0;32m----> 1\u001b[0m eng_fun(\u001b[38;5;124m'\u001b[39m\u001b[38;5;124mfox\u001b[39m\u001b[38;5;124m'\u001b[39m)\n",
      "Cell \u001b[0;32mIn[51], line 3\u001b[0m, in \u001b[0;36meng_fun\u001b[0;34m(word)\u001b[0m\n\u001b[1;32m      1\u001b[0m \u001b[38;5;28;01mdef\u001b[39;00m \u001b[38;5;21meng_fun\u001b[39m(word):\n\u001b[1;32m      2\u001b[0m     word \u001b[38;5;241m=\u001b[39m word\u001b[38;5;241m.\u001b[39mlower()\n\u001b[0;32m----> 3\u001b[0m     \u001b[38;5;28;01mreturn\u001b[39;00m eng_dict[word]\n",
      "\u001b[0;31mKeyError\u001b[0m: 'fox'"
     ]
    }
   ],
   "source": [
    "eng_fun('fox')"
   ]
  },
  {
   "cell_type": "markdown",
   "metadata": {},
   "source": [
    "다음과 같이 예외처리를 이용할 수는 있다."
   ]
  },
  {
   "cell_type": "code",
   "execution_count": 56,
   "metadata": {},
   "outputs": [],
   "source": [
    "def eng_fun(word):\n",
    "    word = word.lower()\n",
    "    try:\n",
    "        return eng_dict[word]\n",
    "    except:\n",
    "        return \"찾는 단어가 없어요.\"   "
   ]
  },
  {
   "cell_type": "code",
   "execution_count": 57,
   "metadata": {},
   "outputs": [
    {
     "data": {
      "text/plain": [
       "'개'"
      ]
     },
     "execution_count": 57,
     "metadata": {},
     "output_type": "execute_result"
    }
   ],
   "source": [
    "eng_fun('dog')"
   ]
  },
  {
   "cell_type": "code",
   "execution_count": 58,
   "metadata": {},
   "outputs": [
    {
     "data": {
      "text/plain": [
       "'찾는 단어가 없어요.'"
      ]
     },
     "execution_count": 58,
     "metadata": {},
     "output_type": "execute_result"
    }
   ],
   "source": [
    "eng_fun('fox')"
   ]
  },
  {
   "cell_type": "markdown",
   "metadata": {},
   "source": [
    "하지만 예외처리를 하는 것보다는 `get()` 메서드를 사용하여 애초에 오류가 발생하지 않도록\n",
    "코드를 작성하는 게 보다 중요하다."
   ]
  },
  {
   "cell_type": "markdown",
   "metadata": {
    "id": "xXklrMuxWNQA"
   },
   "source": [
    "## 예제"
   ]
  },
  {
   "cell_type": "markdown",
   "metadata": {},
   "source": [
    "**질문 1**"
   ]
  },
  {
   "cell_type": "markdown",
   "metadata": {
    "id": "LI2MPm0oix4t"
   },
   "source": [
    "아래 리스트를 리스트 조건제시법으로 정의하라.\n",
    "\n",
    "    [3, 6, 9, 12, 15]"
   ]
  },
  {
   "cell_type": "markdown",
   "metadata": {
    "id": "X6vQwn_CWeXz"
   },
   "source": [
    "**답**"
   ]
  },
  {
   "cell_type": "code",
   "execution_count": 22,
   "metadata": {
    "colab": {
     "base_uri": "https://localhost:8080/"
    },
    "executionInfo": {
     "elapsed": 5,
     "status": "ok",
     "timestamp": 1714436084102,
     "user": {
      "displayName": "liga nega",
      "userId": "04505461106310941438"
     },
     "user_tz": -540
    },
    "id": "IonO7clZ2ce9",
    "outputId": "5c3fb698-633d-43dc-e87c-d2a3c35d79b9"
   },
   "outputs": [
    {
     "name": "stdout",
     "output_type": "stream",
     "text": [
      "[3, 6, 9, 12, 15]\n"
     ]
    }
   ],
   "source": [
    "ans1 = [ 3*x for x in range(1,6) ]\n",
    "print(ans1)"
   ]
  },
  {
   "cell_type": "markdown",
   "metadata": {
    "id": "RQuRt6XpWqsn"
   },
   "source": [
    "또는"
   ]
  },
  {
   "cell_type": "code",
   "execution_count": 20,
   "metadata": {
    "colab": {
     "base_uri": "https://localhost:8080/"
    },
    "executionInfo": {
     "elapsed": 324,
     "status": "ok",
     "timestamp": 1714436089555,
     "user": {
      "displayName": "liga nega",
      "userId": "04505461106310941438"
     },
     "user_tz": -540
    },
    "id": "0YV-yRhOWj-C",
    "outputId": "6a1e236d-6184-4709-f43d-0c3ec6c20bcc"
   },
   "outputs": [
    {
     "name": "stdout",
     "output_type": "stream",
     "text": [
      "[3, 6, 9, 12, 15]\n"
     ]
    }
   ],
   "source": [
    "ans1 = [ x for x in range(1,16) if x % 3 == 0]\n",
    "print(ans1)"
   ]
  },
  {
   "cell_type": "markdown",
   "metadata": {},
   "source": [
    "**질문 2**"
   ]
  },
  {
   "cell_type": "markdown",
   "metadata": {
    "id": "gaOaOgqCVDRc"
   },
   "source": [
    "## 예제"
   ]
  },
  {
   "cell_type": "markdown",
   "metadata": {
    "id": "3-giu8MsVDRX"
   },
   "source": [
    "6명의 정보가 다음과 같다."
   ]
  },
  {
   "cell_type": "code",
   "execution_count": 10,
   "metadata": {
    "executionInfo": {
     "elapsed": 513,
     "status": "ok",
     "timestamp": 1714611074049,
     "user": {
      "displayName": "liga nega",
      "userId": "04505461106310941438"
     },
     "user_tz": -540
    },
    "id": "OTRtTsv1VDRX"
   },
   "outputs": [],
   "source": [
    "kgh = ['김강현', '010-1234-5678', 20, 172.3, '제주']\n",
    "whang = ['황현', '02-9871-1234', 19, 163.5, '서울']\n",
    "namgung = ['남세원', '010-3456-7891', 21, 156.7, '경기']\n",
    "choihs = ['최흥선', '070-4321-1111', 21, 187.2, '부산']\n",
    "sjkim = ['김현선', '010-3333-8888', 22, 164.6, '광주']\n",
    "ja = ['함중아', '010-7654-2345', 18, 178.3, '강원']"
   ]
  },
  {
   "cell_type": "code",
   "execution_count": 11,
   "metadata": {
    "colab": {
     "base_uri": "https://localhost:8080/"
    },
    "executionInfo": {
     "elapsed": 4,
     "status": "ok",
     "timestamp": 1714611074049,
     "user": {
      "displayName": "liga nega",
      "userId": "04505461106310941438"
     },
     "user_tz": -540
    },
    "id": "CuT5NcBVVDRY",
    "outputId": "36cdf39c-406f-43ef-ac33-bef65de1d215"
   },
   "outputs": [
    {
     "data": {
      "text/plain": [
       "[['김강현', '010-1234-5678', 20, 172.3, '제주'],\n",
       " ['황현', '02-9871-1234', 19, 163.5, '서울'],\n",
       " ['남세원', '010-3456-7891', 21, 156.7, '경기'],\n",
       " ['최흥선', '070-4321-1111', 21, 187.2, '부산'],\n",
       " ['김현선', '010-3333-8888', 22, 164.6, '광주'],\n",
       " ['함중아', '010-7654-2345', 18, 178.3, '강원']]"
      ]
     },
     "execution_count": 11,
     "metadata": {},
     "output_type": "execute_result"
    }
   ],
   "source": [
    "info_list = [kgh, whang, namgung, choihs, sjkim, ja]\n",
    "info_list"
   ]
  },
  {
   "cell_type": "markdown",
   "metadata": {},
   "source": [
    "**질문 1**"
   ]
  },
  {
   "cell_type": "markdown",
   "metadata": {
    "id": "rwL-eEcIVDRc"
   },
   "source": [
    "`info_list`에 포함된 6명의 이름과 전화번호만으로 구성된 사전을 가리키는 `phone_dict` 변수를 \n",
    "`for` 반복문을 이용하여 선언하라.\n",
    "단, 키는 이름, 값은 전화번호로 지정하며, 조건제시법은 사용하지 않는다."
   ]
  },
  {
   "cell_type": "markdown",
   "metadata": {},
   "source": [
    "**답**"
   ]
  },
  {
   "cell_type": "code",
   "execution_count": 12,
   "metadata": {},
   "outputs": [],
   "source": [
    "phone_dict = dict()\n",
    "\n",
    "for people in info_list:\n",
    "    name = people[0]\n",
    "    phone_number = people[1]\n",
    "    phone_dict[name] = phone_number"
   ]
  },
  {
   "cell_type": "code",
   "execution_count": 13,
   "metadata": {},
   "outputs": [
    {
     "data": {
      "text/plain": [
       "{'김강현': '010-1234-5678',\n",
       " '황현': '02-9871-1234',\n",
       " '남세원': '010-3456-7891',\n",
       " '최흥선': '070-4321-1111',\n",
       " '김현선': '010-3333-8888',\n",
       " '함중아': '010-7654-2345'}"
      ]
     },
     "execution_count": 13,
     "metadata": {},
     "output_type": "execute_result"
    }
   ],
   "source": [
    "phone_dict    "
   ]
  },
  {
   "cell_type": "markdown",
   "metadata": {},
   "source": [
    "**질문 2**"
   ]
  },
  {
   "cell_type": "markdown",
   "metadata": {
    "id": "rwL-eEcIVDRc"
   },
   "source": [
    "`phone_dict` 변수가 가리키는 값을 조건제시법을 이용하여 선언하라."
   ]
  },
  {
   "cell_type": "markdown",
   "metadata": {},
   "source": [
    "**답**"
   ]
  },
  {
   "cell_type": "code",
   "execution_count": 8,
   "metadata": {},
   "outputs": [],
   "source": [
    "phone_dict = {people[0]:people[1] for people in info_list}"
   ]
  },
  {
   "cell_type": "code",
   "execution_count": 15,
   "metadata": {},
   "outputs": [
    {
     "data": {
      "text/plain": [
       "{'김강현': '010-1234-5678',\n",
       " '황현': '02-9871-1234',\n",
       " '남세원': '010-3456-7891',\n",
       " '최흥선': '070-4321-1111',\n",
       " '김현선': '010-3333-8888',\n",
       " '함중아': '010-7654-2345'}"
      ]
     },
     "execution_count": 15,
     "metadata": {},
     "output_type": "execute_result"
    }
   ],
   "source": [
    "phone_dict"
   ]
  },
  {
   "cell_type": "markdown",
   "metadata": {},
   "source": [
    "**질문 3**"
   ]
  },
  {
   "cell_type": "markdown",
   "metadata": {},
   "source": [
    "`phone_dict`를 이용해서 이름을 지정하면 전화번호를 알려주는 `phone_book()` 함수를 정의하라."
   ]
  },
  {
   "cell_type": "code",
   "execution_count": 16,
   "metadata": {},
   "outputs": [],
   "source": [
    "def phone_book(name):\n",
    "    return phone_dict[name]"
   ]
  },
  {
   "cell_type": "code",
   "execution_count": 17,
   "metadata": {},
   "outputs": [
    {
     "data": {
      "text/plain": [
       "'010-3333-8888'"
      ]
     },
     "execution_count": 17,
     "metadata": {},
     "output_type": "execute_result"
    }
   ],
   "source": [
    "phone_book('김현선')"
   ]
  },
  {
   "cell_type": "code",
   "execution_count": 18,
   "metadata": {},
   "outputs": [
    {
     "data": {
      "text/plain": [
       "'070-4321-1111'"
      ]
     },
     "execution_count": 18,
     "metadata": {},
     "output_type": "execute_result"
    }
   ],
   "source": [
    "phone_book('최흥선')"
   ]
  },
  {
   "cell_type": "markdown",
   "metadata": {},
   "source": [
    "## 예제"
   ]
  },
  {
   "cell_type": "markdown",
   "metadata": {
    "id": "QNlMUg025pIB"
   },
   "source": [
    "아래 문자열을 이용한다."
   ]
  },
  {
   "cell_type": "code",
   "execution_count": 14,
   "metadata": {
    "id": "QNlMUg025pIB"
   },
   "outputs": [],
   "source": [
    "lyrics = \"Twinkle, twinkle, little star. How I wonder what you are.\""
   ]
  },
  {
   "cell_type": "markdown",
   "metadata": {},
   "source": [
    "**질문 1**"
   ]
  },
  {
   "cell_type": "markdown",
   "metadata": {
    "id": "QNlMUg025pIB"
   },
   "source": [
    "위 문자열을 소문자로 변경한 후, 공백을 기준으로 쪼개진 단어들의 리스트를 `lyrics_list` 변수에 할당하라."
   ]
  },
  {
   "cell_type": "code",
   "execution_count": 15,
   "metadata": {
    "colab": {
     "base_uri": "https://localhost:8080/"
    },
    "executionInfo": {
     "elapsed": 526,
     "status": "ok",
     "timestamp": 1617490728878,
     "user": {
      "displayName": "HJ Kim",
      "photoUrl": "",
      "userId": "16634276932240017990"
     },
     "user_tz": -540
    },
    "id": "dNJbcJZO69sX",
    "outputId": "88bb4258-7902-4f03-bac6-a2d8492f6e87"
   },
   "outputs": [
    {
     "data": {
      "text/plain": [
       "['twinkle,',\n",
       " 'twinkle,',\n",
       " 'little',\n",
       " 'star.',\n",
       " 'how',\n",
       " 'i',\n",
       " 'wonder',\n",
       " 'what',\n",
       " 'you',\n",
       " 'are.']"
      ]
     },
     "execution_count": 15,
     "metadata": {},
     "output_type": "execute_result"
    }
   ],
   "source": [
    "lyrics_list = lyrics.lower().split()\n",
    "lyrics_list"
   ]
  },
  {
   "cell_type": "markdown",
   "metadata": {},
   "source": [
    "**질문 2**"
   ]
  },
  {
   "cell_type": "markdown",
   "metadata": {
    "id": "FLqjsgO27LN-"
   },
   "source": [
    "`lyrics_list`의 각 항목의 문자열 길이를 항목으로 갖는 리스트를 만들어라.  \n",
    "예를 들어, `['hello', 'python']`의 경우, 각 항목의 문자열 길이를 항목으로 갖는 리스트는 `[5, 6]` 이다."
   ]
  },
  {
   "cell_type": "code",
   "execution_count": 16,
   "metadata": {
    "colab": {
     "base_uri": "https://localhost:8080/"
    },
    "executionInfo": {
     "elapsed": 534,
     "status": "ok",
     "timestamp": 1617490732179,
     "user": {
      "displayName": "HJ Kim",
      "photoUrl": "",
      "userId": "16634276932240017990"
     },
     "user_tz": -540
    },
    "id": "KCXRsWrt8smD",
    "outputId": "0e61ef40-d660-4352-aeaf-f596623f07a4"
   },
   "outputs": [
    {
     "data": {
      "text/plain": [
       "[8, 8, 6, 5, 3, 1, 6, 4, 3, 4]"
      ]
     },
     "execution_count": 16,
     "metadata": {},
     "output_type": "execute_result"
    }
   ],
   "source": [
    "[len(x) for x in lyrics_list]"
   ]
  },
  {
   "cell_type": "markdown",
   "metadata": {},
   "source": [
    "**질문 3**"
   ]
  },
  {
   "cell_type": "markdown",
   "metadata": {
    "id": "a4iqQYXd9gbo"
   },
   "source": [
    "(3) `lyrics_list`의 항목 중 일부는 콤마(,)나 마침표(.)가 사용되었다. 콤마나 마침표를 제외한 단어의 길이를 표시하도록 (2)의 코드를 수정하여라."
   ]
  },
  {
   "cell_type": "code",
   "execution_count": 17,
   "metadata": {
    "colab": {
     "base_uri": "https://localhost:8080/"
    },
    "executionInfo": {
     "elapsed": 677,
     "status": "ok",
     "timestamp": 1617490869881,
     "user": {
      "displayName": "HJ Kim",
      "photoUrl": "",
      "userId": "16634276932240017990"
     },
     "user_tz": -540
    },
    "id": "XFru5EYy95VL",
    "outputId": "e078fc0a-da77-4ab6-b664-69e565241680"
   },
   "outputs": [
    {
     "data": {
      "text/plain": [
       "[7, 7, 6, 4, 3, 1, 6, 4, 3, 3]"
      ]
     },
     "execution_count": 17,
     "metadata": {},
     "output_type": "execute_result"
    }
   ],
   "source": [
    "[len(x.strip('.').strip(',')) for x in lyrics_list]"
   ]
  },
  {
   "cell_type": "markdown",
   "metadata": {
    "id": "2cFz6sWv2nXs"
   },
   "source": [
    "## 예제"
   ]
  },
  {
   "cell_type": "markdown",
   "metadata": {
    "id": "UD58s85XS_25"
   },
   "source": [
    "정수들의 리스트가 인자로 입력되었을 때 리스트의 항목은 키로,\n",
    "해당 항목이 위치한 곳의 인덱스들의 리스트를 값으로 갖는 사전 객체를 반환하는 \n",
    "`list2dic()` 함수를 구현하라.\n",
    "\n",
    "`list2dic()` 함수는 예를 들어 아래와 같이 작동해야 한다.\n",
    "\n",
    "```\n",
    "list2dic([2, 5, 2, 3, 3, 2]) = {2: [0, 2, 5], 3: [3, 4], 5: [1]}\n",
    "list2dic([15, 3, 15, 1, 3, 8]) = {1: [3], 3: [1, 4], 8: [5], 15: [0, 2]}\n",
    "```\n",
    "\n",
    "힌트: `enumerate()` 함수, 리스트의 `count()` 메서드,\n",
    "`collections` 모듈의 `defaultdict` 클래스를 이용한다."
   ]
  },
  {
   "cell_type": "markdown",
   "metadata": {},
   "source": [
    "**답 1**"
   ]
  },
  {
   "cell_type": "code",
   "execution_count": 82,
   "metadata": {
    "colab": {
     "base_uri": "https://localhost:8080/"
    },
    "id": "bdFl6zxWKGpI",
    "outputId": "941f0683-d6fa-4035-d208-a6393b39ca99"
   },
   "outputs": [],
   "source": [
    "def list2dic(xs):\n",
    "    list_dict = dict()\n",
    "    for i, item in enumerate(xs):\n",
    "        if item in list_dict:\n",
    "            list_dict[item].append(i)\n",
    "        else:\n",
    "            list_dict[item] = [i]\n",
    "\n",
    "    return list_dict"
   ]
  },
  {
   "cell_type": "code",
   "execution_count": 83,
   "metadata": {
    "colab": {
     "base_uri": "https://localhost:8080/"
    },
    "id": "bdFl6zxWKGpI",
    "outputId": "941f0683-d6fa-4035-d208-a6393b39ca99"
   },
   "outputs": [
    {
     "name": "stdout",
     "output_type": "stream",
     "text": [
      "{2: [0, 2, 5], 5: [1], 3: [3, 4]}\n",
      "{15: [0, 2], 3: [1, 4], 1: [3], 8: [5]}\n"
     ]
    }
   ],
   "source": [
    "print(list2dic([2, 5, 2, 3, 3, 2]))\n",
    "print(list2dic([15, 3, 15, 1, 3, 8]))"
   ]
  },
  {
   "cell_type": "markdown",
   "metadata": {},
   "source": [
    "**답 2**"
   ]
  },
  {
   "cell_type": "markdown",
   "metadata": {},
   "source": [
    "`collections` 모듈의 `defaulitdict`를 활용하면 보다 간단하게 함수를 구현할 수 있다."
   ]
  },
  {
   "cell_type": "code",
   "execution_count": 63,
   "metadata": {
    "id": "7HwOqPEkjZRf"
   },
   "outputs": [],
   "source": [
    "from collections import defaultdict"
   ]
  },
  {
   "cell_type": "code",
   "execution_count": 70,
   "metadata": {},
   "outputs": [],
   "source": [
    "list_dict = defaultdict(list)"
   ]
  },
  {
   "cell_type": "code",
   "execution_count": 71,
   "metadata": {},
   "outputs": [
    {
     "data": {
      "text/plain": [
       "defaultdict(list, {})"
      ]
     },
     "execution_count": 71,
     "metadata": {},
     "output_type": "execute_result"
    }
   ],
   "source": [
    "list_dict"
   ]
  },
  {
   "cell_type": "code",
   "execution_count": 73,
   "metadata": {},
   "outputs": [],
   "source": [
    "list_dict[1].append(3)"
   ]
  },
  {
   "cell_type": "code",
   "execution_count": 75,
   "metadata": {},
   "outputs": [],
   "source": [
    "list_dict[2].append(0)"
   ]
  },
  {
   "cell_type": "code",
   "execution_count": 76,
   "metadata": {},
   "outputs": [
    {
     "data": {
      "text/plain": [
       "defaultdict(list, {1: [3], 2: [0]})"
      ]
     },
     "execution_count": 76,
     "metadata": {},
     "output_type": "execute_result"
    }
   ],
   "source": [
    "list_dict"
   ]
  },
  {
   "cell_type": "code",
   "execution_count": 80,
   "metadata": {
    "colab": {
     "base_uri": "https://localhost:8080/"
    },
    "id": "bdFl6zxWKGpI",
    "outputId": "941f0683-d6fa-4035-d208-a6393b39ca99"
   },
   "outputs": [],
   "source": [
    "def list2dic(xs):\n",
    "    list_dict = defaultdict(list)\n",
    "    for i, item in enumerate(xs):\n",
    "        list_dict[item].append(i)\n",
    "\n",
    "    return dict(list_dict)"
   ]
  },
  {
   "cell_type": "code",
   "execution_count": 81,
   "metadata": {
    "colab": {
     "base_uri": "https://localhost:8080/"
    },
    "id": "bdFl6zxWKGpI",
    "outputId": "941f0683-d6fa-4035-d208-a6393b39ca99"
   },
   "outputs": [
    {
     "name": "stdout",
     "output_type": "stream",
     "text": [
      "{2: [0, 2, 5], 5: [1], 3: [3, 4]}\n",
      "{15: [0, 2], 3: [1, 4], 1: [3], 8: [5]}\n"
     ]
    }
   ],
   "source": [
    "print(list2dic([2, 5, 2, 3, 3, 2]))\n",
    "print(list2dic([15, 3, 15, 1, 3, 8]))"
   ]
  },
  {
   "cell_type": "markdown",
   "metadata": {},
   "source": [
    "## 문제"
   ]
  },
  {
   "cell_type": "markdown",
   "metadata": {
    "id": "kmbiRMmjA6_a"
   },
   "source": [
    "아래 `item_price` 에는 음료와 과자의 가격이 들어 있다. "
   ]
  },
  {
   "cell_type": "code",
   "execution_count": 84,
   "metadata": {
    "id": "kmbiRMmjA6_a"
   },
   "outputs": [],
   "source": [
    "item_price = \"커피-1050원, 우유-870원, 밀크티-1300원, 새우과자-950원, 감자칩-1100원\""
   ]
  },
  {
   "cell_type": "markdown",
   "metadata": {},
   "source": [
    "**질문 1**"
   ]
  },
  {
   "cell_type": "markdown",
   "metadata": {
    "id": "kmbiRMmjA6_a"
   },
   "source": [
    "아래와 같은 딕셔너리로 만들어라.\n",
    "\n",
    "    {'커피' : 1050, '우유' : 870, '밀크티' : 1300, '새우과자' : 950, '감자칩' : 1100}"
   ]
  },
  {
   "cell_type": "markdown",
   "metadata": {},
   "source": [
    "**답**"
   ]
  },
  {
   "cell_type": "code",
   "execution_count": 87,
   "metadata": {},
   "outputs": [],
   "source": [
    "item_price_dict = dict()\n",
    "\n",
    "for it_pr in item_price.split(', '):\n",
    "    item, price = it_pr.split('-')\n",
    "    item_price_dict[item] = price"
   ]
  },
  {
   "cell_type": "code",
   "execution_count": 88,
   "metadata": {},
   "outputs": [
    {
     "data": {
      "text/plain": [
       "{'커피': '1050원', '우유': '870원', '밀크티': '1300원', '새우과자': '950원', '감자칩': '1100원'}"
      ]
     },
     "execution_count": 88,
     "metadata": {},
     "output_type": "execute_result"
    }
   ],
   "source": [
    "item_price_dict"
   ]
  },
  {
   "cell_type": "markdown",
   "metadata": {},
   "source": [
    "또는"
   ]
  },
  {
   "cell_type": "code",
   "execution_count": 95,
   "metadata": {},
   "outputs": [],
   "source": [
    "item_price_dict = {it_pr.split('-')[0]: it_pr.split('-')[1] for it_pr in item_price.split(', ')}"
   ]
  },
  {
   "cell_type": "code",
   "execution_count": 92,
   "metadata": {},
   "outputs": [
    {
     "data": {
      "text/plain": [
       "{'커피': '1050원', '우유': '870원', '밀크티': '1300원', '새우과자': '950원', '감자칩': '1100원'}"
      ]
     },
     "execution_count": 92,
     "metadata": {},
     "output_type": "execute_result"
    }
   ],
   "source": [
    "item_price_dict"
   ]
  },
  {
   "cell_type": "markdown",
   "metadata": {},
   "source": [
    "**질문 2**"
   ]
  },
  {
   "cell_type": "markdown",
   "metadata": {},
   "source": [
    "돈의 액수와 구매할 물건을 인자로 입력받았을 때 구매가격과 찾는 물품에 따라\n",
    "다음과 같이 출력하는 `vending_machine()` 함수를 선언하라.\n",
    "\n",
    "```\n",
    "잔돈 300원을 돌려 드립니다.\n",
    "500원 더 투입하세요.\n",
    "찾는 물품이 없습니다.\n",
    "```"
   ]
  },
  {
   "cell_type": "markdown",
   "metadata": {},
   "source": [
    "**답**"
   ]
  },
  {
   "cell_type": "code",
   "execution_count": 109,
   "metadata": {},
   "outputs": [],
   "source": [
    "def vending_machine(money, item):\n",
    "    if item in item_price_dict:\n",
    "        price = int(item_price_dict[item][:-1])\n",
    "        if price <= money:\n",
    "            print(f\"잔돈 {money  - price}원을 돌려 드립니다.\")\n",
    "        else:\n",
    "            print(f\"{price - money}원 더 투입하세요.\")\n",
    "    else:\n",
    "        print(\"찾는 물품이 없습니다.\")        "
   ]
  },
  {
   "cell_type": "code",
   "execution_count": 110,
   "metadata": {},
   "outputs": [
    {
     "name": "stdout",
     "output_type": "stream",
     "text": [
      "잔돈 950원을 돌려 드립니다.\n"
     ]
    }
   ],
   "source": [
    "vending_machine(2000, '커피')"
   ]
  },
  {
   "cell_type": "code",
   "execution_count": 111,
   "metadata": {},
   "outputs": [
    {
     "name": "stdout",
     "output_type": "stream",
     "text": [
      "50원 더 투입하세요.\n"
     ]
    }
   ],
   "source": [
    "vending_machine(1000, '커피')"
   ]
  },
  {
   "cell_type": "code",
   "execution_count": 112,
   "metadata": {},
   "outputs": [
    {
     "name": "stdout",
     "output_type": "stream",
     "text": [
      "찾는 물품이 없습니다.\n"
     ]
    }
   ],
   "source": [
    "vending_machine(1000, '새우깡')"
   ]
  },
  {
   "cell_type": "markdown",
   "metadata": {},
   "source": [
    "## 문제"
   ]
  },
  {
   "cell_type": "markdown",
   "metadata": {
    "id": "OWbUDDtYGL-0"
   },
   "source": [
    "**[추가문제1] 문제1)에서 만든 영어 사전을 기반으로 영어단어 뜻 맞히기 게임을 만들자.**  \n",
    "다음의 내용을 만족하도록 코드를 작성하여라.\n",
    "\n",
    "* 문제의 개수는 참여자가 정한다. \n",
    "* `input()` 함수를 이용하여, 참여자로부터 단어의 뜻을 입력받는다. \n",
    "> OOO : \n",
    "\n",
    "* OOO는 영어 사전에 있는 영단어이다. \n",
    "* 게임이 끝나면 몇 문제를 맞혔는지 알려준다. \n",
    "* 어떤 단어를 틀렸는지 단어와 뜻을 사용자에게 보여준다. \n",
    "* 단어는 랜덤하게 출제된다. 이를 위해 `random` 모듈의 `shuffle()` 함수를 이용할 수 있다. \n",
    "\n",
    "\n",
    "\n",
    "\n",
    "\n",
    "\n"
   ]
  },
  {
   "cell_type": "markdown",
   "metadata": {
    "id": "pCHpwekGHkfq"
   },
   "source": [
    "참고) `random` 모듈의 `shuffle()` 함수는 순서형 자료의 순서를 무작위로 섞어준다.  \n",
    "아래의 코드를 통해 `shuffle()` 함수에 대해 살펴보자. "
   ]
  },
  {
   "cell_type": "code",
   "execution_count": null,
   "metadata": {
    "colab": {
     "base_uri": "https://localhost:8080/"
    },
    "executionInfo": {
     "elapsed": 38459,
     "status": "ok",
     "timestamp": 1618073303593,
     "user": {
      "displayName": "KyeongRyong Lee",
      "photoUrl": "",
      "userId": "08575822710201651490"
     },
     "user_tz": -540
    },
    "id": "7UzCcL3KH0TE",
    "outputId": "da8fd344-3d00-4874-aaf3-c2fe250e5cff"
   },
   "outputs": [
    {
     "name": "stdout",
     "output_type": "stream",
     "text": [
      "[1, 2, 3, 4, 5]\n",
      "[1, 2, 3, 4, 5]\n"
     ]
    }
   ],
   "source": [
    "import random\n",
    "\n",
    "a_list = [1, 2, 3, 4, 5]\n",
    "print(a_list)\n",
    "random.shuffle(a_list)\n",
    "print(a_list)  "
   ]
  },
  {
   "cell_type": "markdown",
   "metadata": {
    "id": "Ym9flGSPjgk-"
   },
   "source": [
    "해설: 아래와 같이 사전이 주어져있다고 하자. "
   ]
  },
  {
   "cell_type": "code",
   "execution_count": null,
   "metadata": {
    "id": "umt95ED0jTfS"
   },
   "outputs": [],
   "source": [
    "eng_dict = {'dog': '개', 'cat': '고양이', 'lion': '사자', 'tiger': '호랑이', 'snake': '뱀'}"
   ]
  },
  {
   "cell_type": "markdown",
   "metadata": {
    "id": "jBrHKjESjkQk"
   },
   "source": [
    "문제의 개수를 아래와 같이 입력받는다."
   ]
  },
  {
   "cell_type": "code",
   "execution_count": null,
   "metadata": {
    "colab": {
     "base_uri": "https://localhost:8080/"
    },
    "executionInfo": {
     "elapsed": 43921,
     "status": "ok",
     "timestamp": 1618073309071,
     "user": {
      "displayName": "KyeongRyong Lee",
      "photoUrl": "",
      "userId": "08575822710201651490"
     },
     "user_tz": -540
    },
    "id": "F8s5FockjlR9",
    "outputId": "dba85800-97e5-489a-b664-6f550dc5166c"
   },
   "outputs": [
    {
     "name": "stdout",
     "output_type": "stream",
     "text": [
      "문제의 개수를 입력하세요 : 3\n"
     ]
    }
   ],
   "source": [
    "num_problem = int(input(\"문제의 개수를 입력하세요 : \"))"
   ]
  },
  {
   "cell_type": "markdown",
   "metadata": {
    "id": "rk3dqFeDjy1H"
   },
   "source": [
    "문제의 개수만큼 단어의 리스트를 만든 후에 각 단어에 대해 `input` 함수를 이용하여 뜻을 입력받는다."
   ]
  },
  {
   "cell_type": "code",
   "execution_count": null,
   "metadata": {
    "colab": {
     "base_uri": "https://localhost:8080/"
    },
    "executionInfo": {
     "elapsed": 52894,
     "status": "ok",
     "timestamp": 1618073318051,
     "user": {
      "displayName": "KyeongRyong Lee",
      "photoUrl": "",
      "userId": "08575822710201651490"
     },
     "user_tz": -540
    },
    "id": "vy68rXLAj36P",
    "outputId": "7cb45ba0-2be7-4c97-93d8-18a0f0e6f48a"
   },
   "outputs": [
    {
     "name": "stdout",
     "output_type": "stream",
     "text": [
      "1번) dog : 개\n",
      "2번) cat : 고양이\n",
      "3번) lion : 사자\n",
      "3 문제 중에서 3 문제를 맞혔습니다.\n"
     ]
    }
   ],
   "source": [
    "word_list = list(eng_dict.keys())\n",
    "word_list = word_list[:num_problem]\n",
    "\n",
    "correct = 0\n",
    "for i in range(num_problem):\n",
    "  word = word_list[i]\n",
    "\n",
    "  user_meaning = input(str(i+1)+\"번) \"+word+\" : \")\n",
    "  meaning = eng_dict[word]\n",
    "\n",
    "  if meaning == user_meaning:\n",
    "    correct += 1\n",
    "\n",
    "print(num_problem, \"문제 중에서\", correct, \"문제를 맞혔습니다.\")"
   ]
  },
  {
   "cell_type": "markdown",
   "metadata": {
    "id": "XdgfaWXKl8es"
   },
   "source": [
    "아래와 같이 틀린 단어를 이후에 보여주기 위하여 `wrong_list`에 틀린 단어를 저장한 후 해당하는 단어들에 대하여 단어의 뜻을 보여준다. "
   ]
  },
  {
   "cell_type": "code",
   "execution_count": null,
   "metadata": {
    "colab": {
     "base_uri": "https://localhost:8080/"
    },
    "executionInfo": {
     "elapsed": 62920,
     "status": "ok",
     "timestamp": 1618073328084,
     "user": {
      "displayName": "KyeongRyong Lee",
      "photoUrl": "",
      "userId": "08575822710201651490"
     },
     "user_tz": -540
    },
    "id": "K6Let1Pql8GI",
    "outputId": "f221154d-a025-4e94-baf7-dff275ca643f"
   },
   "outputs": [
    {
     "name": "stdout",
     "output_type": "stream",
     "text": [
      "1번) dog : 개\n",
      "2번) cat : 고양이\n",
      "3번) lion : 호랑이\n",
      "3 문제 중에서 2 문제를 맞혔습니다.\n",
      "틀린 단어는 다음과 같습니다.\n",
      "lion : 사자\n"
     ]
    }
   ],
   "source": [
    "word_list = list(eng_dict.keys())\n",
    "word_list = word_list[:num_problem]\n",
    "\n",
    "correct = 0\n",
    "wrong_list = []\n",
    "for i in range(num_problem):\n",
    "  word = word_list[i]\n",
    "\n",
    "  user_meaning = input(str(i+1)+\"번) \"+word+\" : \")\n",
    "  meaning = eng_dict[word]\n",
    "\n",
    "  # 단어를 틀린 경우 wrong_list에 단어 추가\n",
    "  if meaning == user_meaning:\n",
    "    correct += 1\n",
    "  else:\n",
    "    wrong_list.append(word)\n",
    "\n",
    "print(num_problem, \"문제 중에서\", correct, \"문제를 맞혔습니다.\")\n",
    "\n",
    "# 틀린 단어가 있는 경우 단어와 뜻을 출력\n",
    "if len(wrong_list) > 0:\n",
    "  print(\"틀린 단어는 다음과 같습니다.\")\n",
    "  for word in wrong_list:\n",
    "    meaning = eng_dict[word]\n",
    "    print(word, ':', meaning)"
   ]
  },
  {
   "cell_type": "markdown",
   "metadata": {
    "id": "L9ELfMKBmzXf"
   },
   "source": [
    "단어를 랜덤하게 출제하기 위하여 `random` 모듈의 `shuffle` 함수를 이용하여 리스트의 순서를 랜덤하게 섞은 후에 필요한 개수만큼 얻어낼 수 있다. "
   ]
  },
  {
   "cell_type": "code",
   "execution_count": null,
   "metadata": {
    "colab": {
     "base_uri": "https://localhost:8080/"
    },
    "executionInfo": {
     "elapsed": 62915,
     "status": "ok",
     "timestamp": 1618073328085,
     "user": {
      "displayName": "KyeongRyong Lee",
      "photoUrl": "",
      "userId": "08575822710201651490"
     },
     "user_tz": -540
    },
    "id": "FfEUbbs2m_Gh",
    "outputId": "0b049d48-115f-4a20-92bf-fc9efbab339e"
   },
   "outputs": [
    {
     "data": {
      "text/plain": [
       "['lion', 'dog', 'cat']"
      ]
     },
     "execution_count": 26,
     "metadata": {
      "tags": []
     },
     "output_type": "execute_result"
    }
   ],
   "source": [
    "# random 모듈 임포트\n",
    "import random\n",
    "\n",
    "word_list = list(eng_dict.keys())\n",
    "random.shuffle(word_list)\n",
    "word_list = word_list[:num_problem]\n",
    "\n",
    "word_list"
   ]
  },
  {
   "cell_type": "markdown",
   "metadata": {
    "id": "m2lnifyxnv0N"
   },
   "source": [
    "참고: 아래와 같이 문제가 매번 다르게 출제됨을 확인할 수 있다. "
   ]
  },
  {
   "cell_type": "code",
   "execution_count": null,
   "metadata": {
    "colab": {
     "base_uri": "https://localhost:8080/"
    },
    "executionInfo": {
     "elapsed": 62909,
     "status": "ok",
     "timestamp": 1618073328086,
     "user": {
      "displayName": "KyeongRyong Lee",
      "photoUrl": "",
      "userId": "08575822710201651490"
     },
     "user_tz": -540
    },
    "id": "sNh9cXvTn0jS",
    "outputId": "47f86084-b6fe-4511-9e45-73daee7fa7d7"
   },
   "outputs": [
    {
     "name": "stdout",
     "output_type": "stream",
     "text": [
      "1 회 문제: ['cat', 'snake', 'lion']\n",
      "2 회 문제: ['cat', 'snake', 'tiger']\n",
      "3 회 문제: ['tiger', 'cat', 'lion']\n",
      "4 회 문제: ['snake', 'cat', 'tiger']\n",
      "5 회 문제: ['lion', 'tiger', 'snake']\n",
      "6 회 문제: ['cat', 'tiger', 'snake']\n",
      "7 회 문제: ['lion', 'snake', 'tiger']\n",
      "8 회 문제: ['dog', 'snake', 'tiger']\n",
      "9 회 문제: ['dog', 'cat', 'lion']\n"
     ]
    }
   ],
   "source": [
    "# random 모듈 임포트\n",
    "import random\n",
    "\n",
    "for i in range(1, 10):\n",
    "  word_list = list(eng_dict.keys())\n",
    "  random.shuffle(word_list)\n",
    "  word_list = word_list[:num_problem]\n",
    "\n",
    "  print(i, \"회 문제:\", word_list)"
   ]
  },
  {
   "cell_type": "markdown",
   "metadata": {
    "id": "zGp3sYuWoNtC"
   },
   "source": [
    "이제 위의 모든 코드를 합쳐서 완전한 코드를 만들면 다음과 같다. "
   ]
  },
  {
   "cell_type": "code",
   "execution_count": null,
   "metadata": {
    "colab": {
     "base_uri": "https://localhost:8080/"
    },
    "executionInfo": {
     "elapsed": 76295,
     "status": "ok",
     "timestamp": 1618073341478,
     "user": {
      "displayName": "KyeongRyong Lee",
      "photoUrl": "",
      "userId": "08575822710201651490"
     },
     "user_tz": -540
    },
    "id": "twp5QTALoNch",
    "outputId": "6d69d4b2-a9e0-439b-9bd6-67030bdf8712"
   },
   "outputs": [
    {
     "name": "stdout",
     "output_type": "stream",
     "text": [
      "문제의 개수를 입력하세요 : 4\n",
      "1번) snake : 고라니\n",
      "2번) cat : 고양이\n",
      "3번) dog : 개\n",
      "4번) tiger : 호랑이\n",
      "4 문제 중에서 3 문제를 맞혔습니다.\n",
      "틀린 단어는 다음과 같습니다.\n",
      "snake : 뱀\n"
     ]
    }
   ],
   "source": [
    "# random 모듈 임포트\n",
    "import random\n",
    "\n",
    "eng_dict = {'dog': '개', 'cat': '고양이', 'lion': '사자', 'tiger': '호랑이', 'snake': '뱀'}\n",
    "\n",
    "# 문제의 개수를 입력\n",
    "num_problem = int(input(\"문제의 개수를 입력하세요 : \"))\n",
    "\n",
    "# 랜덤으로 문제를 출제\n",
    "word_list = list(eng_dict.keys())\n",
    "random.shuffle(word_list)\n",
    "word_list = word_list[:num_problem]\n",
    "\n",
    "# 각 단어에 대하여 문제를 출력하고 사용자가 뜻을 입력\n",
    "correct = 0\n",
    "wrong_list = []\n",
    "for i in range(num_problem):\n",
    "  word = word_list[i]\n",
    "\n",
    "  # 문제를 출력하고 사용자가 뜻을 입력\n",
    "  user_meaning = input(str(i+1)+\"번) \"+word+\" : \")\n",
    "  meaning = eng_dict[word]\n",
    "\n",
    "  if meaning == user_meaning:\n",
    "    # 맞은 경우 correct 카운터 증가\n",
    "    correct += 1\n",
    "  else:\n",
    "    # 단어를 틀린 경우 wrong_list에 단어 추가\n",
    "    wrong_list.append(word)\n",
    "\n",
    "# 맞은 개수 출력\n",
    "print(num_problem, \"문제 중에서\", correct, \"문제를 맞혔습니다.\")\n",
    "\n",
    "# 틀린 단어가 있는 경우 단어와 뜻을 출력\n",
    "if len(wrong_list) > 0:\n",
    "  print(\"틀린 단어는 다음과 같습니다.\")\n",
    "  for word in wrong_list:\n",
    "    meaning = eng_dict[word]\n",
    "    print(word, ':', meaning)"
   ]
  },
  {
   "cell_type": "markdown",
   "metadata": {
    "id": "LdXBTaOkpJdP"
   },
   "source": [
    "참고: 다음과 같이 조금 더 큰 사전에 대한 예시로 100개의 단어를 가진 사전을 이용하여 코드를 돌려볼 수 있다. 여기서 각 단어에 대해 여러 가지의 뜻이 있을 수 있음을 이용하기 위하여 여러 가지 뜻을 \", \"으로 이어붙여놓았다. 또, 이때 영어 단어 뜻 맞히기가 바르게 작동하도록 하기 위하여 여러 가지 뜻 중 하나를 맞을 경우 정답 처리하도록 해당하는 조건문을 수정하였다."
   ]
  },
  {
   "cell_type": "code",
   "execution_count": null,
   "metadata": {
    "colab": {
     "base_uri": "https://localhost:8080/"
    },
    "executionInfo": {
     "elapsed": 11345,
     "status": "ok",
     "timestamp": 1618116526426,
     "user": {
      "displayName": "KyeongRyong Lee",
      "photoUrl": "",
      "userId": "08575822710201651490"
     },
     "user_tz": -540
    },
    "id": "mXSCHodZpJJT",
    "outputId": "e790f824-b174-4a36-f4f3-8d903c3a27c2"
   },
   "outputs": [
    {
     "name": "stdout",
     "output_type": "stream",
     "text": [
      "문제의 개수를 입력하세요 : 3\n",
      "1번) deer : 사슴\n",
      "2번) ground : 땅\n",
      "3번) glass : 유리\n",
      "3 문제 중에서 3 문제를 맞혔습니다.\n"
     ]
    }
   ],
   "source": [
    "# random 모듈 임포트\n",
    "import random\n",
    "\n",
    "# 여러 가지 뜻이 \", \"로 이어져있음\n",
    "eng_dict = {'earth' : '지구, 땅, 지면, 흙', 'flour' : '밀가루', 'problem' : '문제', 'luck' : '운, 행운', 'beer' : '맥주', 'safe' : '안전한', 'photograph' : '사진', 'meat' : '고기', 'support' : '지원하다, 후원하다, 지원', 'deer' : '사슴', 'shop' : '가게, 상점', 'tool' : '연장, 도구, 공구, 수단', 'medicine' : '약, 의학', 'narrow' : '좁은, 한정된, 제한된', 'before' : '전에, 앞에', 'hobby' : '취미', 'across' : '건너서, 가로질러, 맞은편에', 'cost' : '비용', 'empty' : '빈, 공허한', 'search' : '검색, 검색하다, 찾아보다', 'world' : '세계', 'grass' : '잔디', 'pretty' : '예쁜', 'late' : '늦은, 늦게', 'five' : '다섯, 5', 'paint' : '페인트, 물감', 'business' : '사업', 'sleep' : '자다, 잠', 'ship' : '배, 선박', 'right' : '옳은, 올바른, 맞는, 권리, 오른쪽', 'window' : '창문, 창', 'early' : '이른, 일찍', 'probably' : '아마', 'bright' : '밝은, 빛나는, 선명한', 'pair' : '쌍', 'smell' : '냄새', 'good' : '좋은', 'amount' : '양, 총계, 총액, 액수', 'fever' : '열, 발열, 열기', 'enough' : '충분히, 충분한', 'carry' : '나르다, 운반하다', 'duty' : '의무, 임무, 업무, 세금', 'sound' : '소리', 'forest' : '숲', 'earn' : '벌다, 얻다', 'have' : '가지다, 있다, 소유하다', 'warm' : '따뜻한', 'change' : '변하다, 바꾸다, 변화, 거스름돈', 'nearly' : '거의', 'room' : '방', 'star' : '별', 'future' : '미래', 'please' : '부디, 제발', 'last' : '마지막, 마지막의, 계속되다, 지속되다', 'like' : '좋아하다, 처럼', 'pleased' : '기쁜', 'sand' : '모래', 'clever' : '영리한, 똑똑한, 기발한', 'lead' : '이끌다, 연결되다, 이어지다, 선두', 'decide' : '결정하다', 'blood' : '피, 혈액', 'elephant' : '코끼리', 'century' : '세기', 'raise' : '올리다, 일으키다, 발생시키다', 'hear' : '듣다, 들리다', 'careless' : '경솔한, 부주의한', 'understand' : '이해하다', 'forget' : '잊다', 'noise' : '소음, 잡음', 'glass' : '유리', 'shirt' : '셔츠', 'many' : '많은', 'mistake' : '실수, 잘못', 'attack' : '공격, 공격하다', 'which' : '어느, 어떤', 'strong' : '강한', 'listen' : '들리다', 'test' : '시험, 검사, 테스트', 'chair' : '의자', 'bread' : '빵', 'ground' : '바닥, 땅, 땅바닥, 지면', 'period' : '기간, 시기', 'really' : '정말, 실제로, 진짜로', 'iron' : '철', 'mark' : '표시하다, 표시, 점수, 자국', 'marry' : '결혼하다', 'collect' : '모으다, 수집하다', 'base' : '기초, 토대, 베이스, 비열한, 천한', 'wire' : '철사, 전선', 'rich' : '부유한, 풍부한', 'door' : '문', 'provide' : '제공하다, 주다', 'yard' : '마당, 뜰, 야드', 'depend' : '의존하다', 'enter' : '들어가다, 시작하다', 'reply' : '대답하다, 대답, 답장, 답신, 댓글', 'chase' : '뒤쫓다, 좇다, 추적하다, 추적, 추격', 'paper' : '종이, 논문', 'flower' : '꽃', 'give' : '주다'}\n",
    "\n",
    "# 문제의 개수를 입력\n",
    "num_problem = int(input(\"문제의 개수를 입력하세요 : \"))\n",
    "\n",
    "# 랜덤으로 문제를 출제\n",
    "word_list = list(eng_dict.keys())\n",
    "random.shuffle(word_list)\n",
    "word_list = word_list[:num_problem]\n",
    "\n",
    "# 각 단어에 대하여 문제를 출력하고 사용자가 뜻을 입력\n",
    "correct = 0\n",
    "wrong_list = []\n",
    "for i in range(num_problem):\n",
    "  word = word_list[i]\n",
    "\n",
    "  # 문제를 출력하고 사용자가 뜻을 입력\n",
    "  user_meaning = input(str(i+1)+\"번) \"+word+\" : \")\n",
    "  meanings = eng_dict[word].split(\", \")\n",
    "\n",
    "  # 여러 가지 뜻 중 하나를 맞히면 정답 처리\n",
    "  if user_meaning in meanings:\n",
    "    # 맞은 경우 correct 카운터 증가\n",
    "    correct += 1\n",
    "  else:\n",
    "    # 단어를 틀린 경우 wrong_list에 단어 추가\n",
    "    wrong_list.append(word)\n",
    "\n",
    "# 맞은 개수 출력\n",
    "print(num_problem, \"문제 중에서\", correct, \"문제를 맞혔습니다.\")\n",
    "\n",
    "# 틀린 단어가 있는 경우 단어와 뜻을 출력\n",
    "if len(wrong_list) > 0:\n",
    "  print(\"틀린 단어는 다음과 같습니다.\")\n",
    "  for word in wrong_list:\n",
    "    meaning = eng_dict[word]\n",
    "    print(word, ':', meaning)"
   ]
  },
  {
   "cell_type": "markdown",
   "metadata": {
    "id": "Obs6L6ZKPWlk"
   },
   "source": [
    "**[추가문제2] 아래 코드 중 오류가 발생하는 코드를 예측하여 말하고, 코드를 실행시켜 확인하여라.**"
   ]
  },
  {
   "cell_type": "markdown",
   "metadata": {
    "id": "wG0Mt1AgUJQE"
   },
   "source": [
    "참고) 딕셔너리의 키(key)로는 문자열과 숫자(정수, 부동소수점)들을 사용할 수 있고, 튜플이 문자열, 숫자, 튜플들만 포함하면 키로 사용될 수 있다. 반면, 튜플이 직접 또는 간접적으로 가변자료형을 포함하면 키로 사용될 수 없다. 예를 들어, `(1, [2, 3])`이나 `(([1, 2], 3), 4)`는 키로 사용될 수 없다.   "
   ]
  },
  {
   "cell_type": "markdown",
   "metadata": {
    "id": "NvAmefAwSFYW"
   },
   "source": [
    "(1) \n",
    "```\n",
    "dic1 = { 1 : 'a'}\n",
    "dic1\n",
    "```\n"
   ]
  },
  {
   "cell_type": "code",
   "execution_count": null,
   "metadata": {
    "colab": {
     "base_uri": "https://localhost:8080/"
    },
    "executionInfo": {
     "elapsed": 797,
     "status": "ok",
     "timestamp": 1618200911454,
     "user": {
      "displayName": "HJ Kim",
      "photoUrl": "",
      "userId": "16634276932240017990"
     },
     "user_tz": -540
    },
    "id": "_VXNYGGnSItJ",
    "outputId": "e9626c9d-9870-44c4-f737-f6f988b59a9d"
   },
   "outputs": [
    {
     "data": {
      "text/plain": [
       "{1: 'a'}"
      ]
     },
     "execution_count": 3,
     "metadata": {
      "tags": []
     },
     "output_type": "execute_result"
    }
   ],
   "source": [
    "dic1 = { 1 : 'a'}\n",
    "dic1"
   ]
  },
  {
   "cell_type": "markdown",
   "metadata": {
    "id": "wOkJ-sb3TZIv"
   },
   "source": [
    "(2)\n",
    "```\n",
    "dic2 = {1.4 : 'a'}\n",
    "dic2\n",
    "```"
   ]
  },
  {
   "cell_type": "code",
   "execution_count": null,
   "metadata": {
    "colab": {
     "base_uri": "https://localhost:8080/"
    },
    "executionInfo": {
     "elapsed": 683,
     "status": "ok",
     "timestamp": 1618200930263,
     "user": {
      "displayName": "HJ Kim",
      "photoUrl": "",
      "userId": "16634276932240017990"
     },
     "user_tz": -540
    },
    "id": "qkdDBV5tSJPb",
    "outputId": "459ae5bc-b2a8-4af0-f55e-6a7396b968b8"
   },
   "outputs": [
    {
     "data": {
      "text/plain": [
       "{1.4: 'a'}"
      ]
     },
     "execution_count": 5,
     "metadata": {
      "tags": []
     },
     "output_type": "execute_result"
    }
   ],
   "source": [
    "dic2 = {1.4 : 'a'}\n",
    "dic2"
   ]
  },
  {
   "cell_type": "markdown",
   "metadata": {
    "id": "msu-rcUZTc2O"
   },
   "source": [
    "(3) \n",
    "```\n",
    "dic3 = {'abc' : 'a'}\n",
    "dic3\n",
    "```"
   ]
  },
  {
   "cell_type": "code",
   "execution_count": null,
   "metadata": {
    "colab": {
     "base_uri": "https://localhost:8080/"
    },
    "executionInfo": {
     "elapsed": 654,
     "status": "ok",
     "timestamp": 1618200949488,
     "user": {
      "displayName": "HJ Kim",
      "photoUrl": "",
      "userId": "16634276932240017990"
     },
     "user_tz": -540
    },
    "id": "hSHGjrTTSpNo",
    "outputId": "cf747631-1521-465b-b73b-439683928a45"
   },
   "outputs": [
    {
     "data": {
      "text/plain": [
       "{'abc': 'a'}"
      ]
     },
     "execution_count": 6,
     "metadata": {
      "tags": []
     },
     "output_type": "execute_result"
    }
   ],
   "source": [
    "dic3 = {'abc' : 'a'}\n",
    "dic3"
   ]
  },
  {
   "cell_type": "markdown",
   "metadata": {
    "id": "pnFW_CaWTgyz"
   },
   "source": [
    "(4) \n",
    "```\n",
    "dic4 = {[1, 2] : 'a'}\n",
    "dic4\n",
    "```"
   ]
  },
  {
   "cell_type": "code",
   "execution_count": null,
   "metadata": {
    "colab": {
     "base_uri": "https://localhost:8080/",
     "height": 186
    },
    "executionInfo": {
     "elapsed": 1184,
     "status": "error",
     "timestamp": 1618200973077,
     "user": {
      "displayName": "HJ Kim",
      "photoUrl": "",
      "userId": "16634276932240017990"
     },
     "user_tz": -540
    },
    "id": "RgE6zXi_Su7s",
    "outputId": "c4ad4da7-a7c1-4235-beb0-02af1263cee0"
   },
   "outputs": [
    {
     "ename": "TypeError",
     "evalue": "ignored",
     "output_type": "error",
     "traceback": [
      "\u001b[0;31m---------------------------------------------------------------------------\u001b[0m",
      "\u001b[0;31mTypeError\u001b[0m                                 Traceback (most recent call last)",
      "\u001b[0;32m<ipython-input-7-429c51690d48>\u001b[0m in \u001b[0;36m<module>\u001b[0;34m()\u001b[0m\n\u001b[0;32m----> 1\u001b[0;31m \u001b[0mdic4\u001b[0m \u001b[0;34m=\u001b[0m \u001b[0;34m{\u001b[0m\u001b[0;34m[\u001b[0m\u001b[0;36m1\u001b[0m\u001b[0;34m,\u001b[0m \u001b[0;36m2\u001b[0m\u001b[0;34m]\u001b[0m \u001b[0;34m:\u001b[0m \u001b[0;34m'a'\u001b[0m\u001b[0;34m}\u001b[0m\u001b[0;34m\u001b[0m\u001b[0;34m\u001b[0m\u001b[0m\n\u001b[0m\u001b[1;32m      2\u001b[0m \u001b[0mdic4\u001b[0m\u001b[0;34m\u001b[0m\u001b[0;34m\u001b[0m\u001b[0m\n",
      "\u001b[0;31mTypeError\u001b[0m: unhashable type: 'list'"
     ]
    }
   ],
   "source": [
    "dic4 = {[1, 2] : 'a'}\n",
    "dic4"
   ]
  },
  {
   "cell_type": "markdown",
   "metadata": {
    "id": "OdOlcBksTkyo"
   },
   "source": [
    "(5)\n",
    "```\n",
    "dic5 = {(1, 2) : 'a'}\n",
    "dic5\n",
    "```"
   ]
  },
  {
   "cell_type": "code",
   "execution_count": null,
   "metadata": {
    "colab": {
     "base_uri": "https://localhost:8080/"
    },
    "executionInfo": {
     "elapsed": 684,
     "status": "ok",
     "timestamp": 1618200989690,
     "user": {
      "displayName": "HJ Kim",
      "photoUrl": "",
      "userId": "16634276932240017990"
     },
     "user_tz": -540
    },
    "id": "IV1uIWQ7S0pD",
    "outputId": "d8995cf9-a617-4d27-c71f-526ea12818f1"
   },
   "outputs": [
    {
     "data": {
      "text/plain": [
       "{(1, 2): 'a'}"
      ]
     },
     "execution_count": 8,
     "metadata": {
      "tags": []
     },
     "output_type": "execute_result"
    }
   ],
   "source": [
    "dic5 = {(1, 2) : 'a'}\n",
    "dic5"
   ]
  },
  {
   "cell_type": "markdown",
   "metadata": {
    "id": "4jqHN6mgToLd"
   },
   "source": [
    "(6)\n",
    "```\n",
    "dic6 = {('abc', 1) : 'a'}\n",
    "dic6\n",
    "```"
   ]
  },
  {
   "cell_type": "code",
   "execution_count": null,
   "metadata": {
    "colab": {
     "base_uri": "https://localhost:8080/"
    },
    "executionInfo": {
     "elapsed": 765,
     "status": "ok",
     "timestamp": 1618201067702,
     "user": {
      "displayName": "HJ Kim",
      "photoUrl": "",
      "userId": "16634276932240017990"
     },
     "user_tz": -540
    },
    "id": "Qh5N3CB7S4y7",
    "outputId": "47a2eea2-db0a-4dd7-face-14689d61d0c1"
   },
   "outputs": [
    {
     "data": {
      "text/plain": [
       "{('abc', 1): 'a'}"
      ]
     },
     "execution_count": 11,
     "metadata": {
      "tags": []
     },
     "output_type": "execute_result"
    }
   ],
   "source": [
    "dic6 = {('abc', 1) : 'a'}\n",
    "dic6"
   ]
  },
  {
   "cell_type": "markdown",
   "metadata": {
    "id": "LkjqsiExT1GX"
   },
   "source": [
    "(7)\n",
    "```\n",
    "dic7 = {([1, 2], 3): 'a'}\n",
    "dic7\n",
    "```"
   ]
  },
  {
   "cell_type": "code",
   "execution_count": null,
   "metadata": {
    "colab": {
     "base_uri": "https://localhost:8080/",
     "height": 186
    },
    "executionInfo": {
     "elapsed": 840,
     "status": "error",
     "timestamp": 1618201072771,
     "user": {
      "displayName": "HJ Kim",
      "photoUrl": "",
      "userId": "16634276932240017990"
     },
     "user_tz": -540
    },
    "id": "1PRBMLZ2S_aT",
    "outputId": "3cc5848b-9c80-469c-9fa8-5eaf471b2417"
   },
   "outputs": [
    {
     "ename": "TypeError",
     "evalue": "ignored",
     "output_type": "error",
     "traceback": [
      "\u001b[0;31m---------------------------------------------------------------------------\u001b[0m",
      "\u001b[0;31mTypeError\u001b[0m                                 Traceback (most recent call last)",
      "\u001b[0;32m<ipython-input-12-e0a0dd888191>\u001b[0m in \u001b[0;36m<module>\u001b[0;34m()\u001b[0m\n\u001b[0;32m----> 1\u001b[0;31m \u001b[0mdic7\u001b[0m \u001b[0;34m=\u001b[0m \u001b[0;34m{\u001b[0m\u001b[0;34m(\u001b[0m\u001b[0;34m[\u001b[0m\u001b[0;36m1\u001b[0m\u001b[0;34m,\u001b[0m \u001b[0;36m2\u001b[0m\u001b[0;34m]\u001b[0m\u001b[0;34m,\u001b[0m \u001b[0;36m3\u001b[0m\u001b[0;34m)\u001b[0m\u001b[0;34m:\u001b[0m \u001b[0;34m'a'\u001b[0m\u001b[0;34m}\u001b[0m\u001b[0;34m\u001b[0m\u001b[0;34m\u001b[0m\u001b[0m\n\u001b[0m\u001b[1;32m      2\u001b[0m \u001b[0mdic7\u001b[0m\u001b[0;34m\u001b[0m\u001b[0;34m\u001b[0m\u001b[0m\n",
      "\u001b[0;31mTypeError\u001b[0m: unhashable type: 'list'"
     ]
    }
   ],
   "source": [
    "dic7 = {([1, 2], 3): 'a'}\n",
    "dic7"
   ]
  },
  {
   "cell_type": "markdown",
   "metadata": {
    "id": "IVMgvZTidFz0"
   },
   "source": [
    "## 예제"
   ]
  },
  {
   "cell_type": "markdown",
   "metadata": {
    "id": "eoxWecFRS_25"
   },
   "source": [
    "리스트를 인자로 받아서 사용된 항목의 개수를 반환하는 함수\n",
    "`count_elem()`를 구현하라.\n",
    "단, 중복 항목은 하나로 간주한다.\n",
    "\n",
    "`count_elem()` 함수는 아래와 같이 작동해야 한다.\n",
    "\n",
    "```\n",
    "count_elem([2, 5, 2, 3, 3, 8, 2, 7]) = 5\n",
    "count_elem([15, 3, 15, 1, 3]) = 3\n",
    "```\n",
    "\n",
    "힌트: `set()` 함수 활용"
   ]
  },
  {
   "cell_type": "code",
   "execution_count": null,
   "metadata": {
    "id": "9aJlY1rLdyyh"
   },
   "outputs": [],
   "source": [
    "# 추가 코드가 필요하면 여기에 작성\n",
    "\n"
   ]
  },
  {
   "cell_type": "code",
   "execution_count": null,
   "metadata": {
    "colab": {
     "base_uri": "https://localhost:8080/"
    },
    "id": "zzipN9zjKCSx",
    "outputId": "7463b911-fc6c-42f1-8ef7-95092ce436b5"
   },
   "outputs": [
    {
     "name": "stdout",
     "output_type": "stream",
     "text": [
      "None\n",
      "None\n"
     ]
    }
   ],
   "source": [
    "# pass 부분을 적절한 코드로 대체할 것\n",
    "# None 값을 적절한 표현식으로 대체할 것\n",
    "\n",
    "def count_elem(xs):\n",
    "    pass\n",
    "\n",
    "    return None\n",
    "\n",
    "print(count_elem([2, 5, 2, 3, 3, 8, 2, 7]))\n",
    "print(count_elem([15, 3, 15, 1, 3]))"
   ]
  },
  {
   "cell_type": "markdown",
   "metadata": {
    "id": "CDZgxQlTz20T"
   },
   "source": [
    "## 예제"
   ]
  },
  {
   "cell_type": "markdown",
   "metadata": {
    "id": "i10f9WXES_26"
   },
   "source": [
    "0부터 10까지의 자연수 중에서 3으로 나눈 나머지가 2인 수의 제곱으로 이루어진 리스트를 조건제시법으로 정의하라.\n",
    "즉, 아래 리스트를 조건제시법으로 생성해야 한다.\n",
    "\n",
    "```python\n",
    "[4, 25, 64]\n",
    "```\n",
    "\n",
    "힌트: 리스트 조건제시법(comprehension) 활용"
   ]
  },
  {
   "cell_type": "code",
   "execution_count": null,
   "metadata": {
    "id": "xfZ5Mrdt053H"
   },
   "outputs": [],
   "source": [
    "# 필요한 코드가 있다면 아래에 추가\n",
    "\n"
   ]
  },
  {
   "cell_type": "code",
   "execution_count": null,
   "metadata": {
    "colab": {
     "base_uri": "https://localhost:8080/"
    },
    "id": "VSIThrw0KiaW",
    "outputId": "58686e17-c210-4750-d9cb-2aebbea5ec9f"
   },
   "outputs": [
    {
     "name": "stdout",
     "output_type": "stream",
     "text": [
      "None\n"
     ]
    }
   ],
   "source": [
    "# None 값을 적절한 리스트 조건제시법으로 대체할 것\n",
    "\n",
    "list_modulo3 = None\n",
    "\n",
    "print(list_modulo3)"
   ]
  },
  {
   "cell_type": "code",
   "execution_count": null,
   "metadata": {},
   "outputs": [],
   "source": []
  }
 ],
 "metadata": {
  "colab": {
   "authorship_tag": "ABX9TyNlyA65b7/spOhDAsRbmThl",
   "collapsed_sections": [],
   "name": "실습답안7.ipynb",
   "provenance": []
  },
  "kernelspec": {
   "display_name": "Python 3 (ipykernel)",
   "language": "python",
   "name": "python3"
  },
  "language_info": {
   "codemirror_mode": {
    "name": "ipython",
    "version": 3
   },
   "file_extension": ".py",
   "mimetype": "text/x-python",
   "name": "python",
   "nbconvert_exporter": "python",
   "pygments_lexer": "ipython3",
   "version": "3.11.4"
  }
 },
 "nbformat": 4,
 "nbformat_minor": 1
}
