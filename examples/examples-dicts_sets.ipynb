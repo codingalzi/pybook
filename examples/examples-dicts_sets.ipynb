{
 "cells": [
  {
   "cell_type": "markdown",
   "metadata": {
    "id": "dj2QOM4rVDRT"
   },
   "source": [
    "# (필수 예제) 사전과 집합"
   ]
  },
  {
   "cell_type": "markdown",
   "metadata": {
    "id": "oAWioNm1nwNU"
   },
   "source": [
    "**참고 사항**\n",
    "\n",
    "먼저 [사전과 집합](https://codingalzi.github.io/pybook/dicts_sets.html) 내용을 학습하세요."
   ]
  },
  {
   "cell_type": "markdown",
   "metadata": {},
   "source": [
    "## 예제 1"
   ]
  },
  {
   "cell_type": "markdown",
   "metadata": {
    "id": "Obs6L6ZKPWlk"
   },
   "source": [
    "아래 코드 중 오류가 발생하는 코드를 예측하여 말하고, 코드를 실행시켜 확인하여라."
   ]
  },
  {
   "cell_type": "markdown",
   "metadata": {},
   "source": [
    "**질문 1**"
   ]
  },
  {
   "cell_type": "code",
   "execution_count": 1,
   "metadata": {
    "colab": {
     "base_uri": "https://localhost:8080/"
    },
    "executionInfo": {
     "elapsed": 797,
     "status": "ok",
     "timestamp": 1618200911454,
     "user": {
      "displayName": "HJ Kim",
      "photoUrl": "",
      "userId": "16634276932240017990"
     },
     "user_tz": -540
    },
    "id": "_VXNYGGnSItJ",
    "outputId": "e9626c9d-9870-44c4-f737-f6f988b59a9d"
   },
   "outputs": [
    {
     "data": {
      "text/plain": [
       "{1: 'a'}"
      ]
     },
     "execution_count": 1,
     "metadata": {},
     "output_type": "execute_result"
    }
   ],
   "source": [
    "dic1 = { 1 : 'a'}\n",
    "dic1"
   ]
  },
  {
   "cell_type": "markdown",
   "metadata": {},
   "source": [
    "**답**"
   ]
  },
  {
   "cell_type": "markdown",
   "metadata": {},
   "source": [
    "사전의 키는 해시 가능해야 하는데, 정수는 해시 가능하다."
   ]
  },
  {
   "cell_type": "code",
   "execution_count": 2,
   "metadata": {},
   "outputs": [
    {
     "data": {
      "text/plain": [
       "1"
      ]
     },
     "execution_count": 2,
     "metadata": {},
     "output_type": "execute_result"
    }
   ],
   "source": [
    "hash(1)"
   ]
  },
  {
   "cell_type": "markdown",
   "metadata": {},
   "source": [
    "**질문 2**"
   ]
  },
  {
   "cell_type": "code",
   "execution_count": 3,
   "metadata": {
    "colab": {
     "base_uri": "https://localhost:8080/"
    },
    "executionInfo": {
     "elapsed": 654,
     "status": "ok",
     "timestamp": 1618200949488,
     "user": {
      "displayName": "HJ Kim",
      "photoUrl": "",
      "userId": "16634276932240017990"
     },
     "user_tz": -540
    },
    "id": "hSHGjrTTSpNo",
    "outputId": "cf747631-1521-465b-b73b-439683928a45"
   },
   "outputs": [
    {
     "data": {
      "text/plain": [
       "{'abc': 'a'}"
      ]
     },
     "execution_count": 3,
     "metadata": {},
     "output_type": "execute_result"
    }
   ],
   "source": [
    "dic3 = {'abc' : 'a'}\n",
    "dic3"
   ]
  },
  {
   "cell_type": "markdown",
   "metadata": {},
   "source": [
    "**답**"
   ]
  },
  {
   "cell_type": "markdown",
   "metadata": {},
   "source": [
    "사전의 키는 해시 가능해야 하는데, 문자열 해시 가능하다."
   ]
  },
  {
   "cell_type": "code",
   "execution_count": 4,
   "metadata": {},
   "outputs": [
    {
     "data": {
      "text/plain": [
       "-2898649570265123009"
      ]
     },
     "execution_count": 4,
     "metadata": {},
     "output_type": "execute_result"
    }
   ],
   "source": [
    "hash('abc')"
   ]
  },
  {
   "cell_type": "markdown",
   "metadata": {},
   "source": [
    "**질문 3**"
   ]
  },
  {
   "cell_type": "code",
   "execution_count": 5,
   "metadata": {
    "colab": {
     "base_uri": "https://localhost:8080/",
     "height": 186
    },
    "executionInfo": {
     "elapsed": 1184,
     "status": "error",
     "timestamp": 1618200973077,
     "user": {
      "displayName": "HJ Kim",
      "photoUrl": "",
      "userId": "16634276932240017990"
     },
     "user_tz": -540
    },
    "id": "RgE6zXi_Su7s",
    "outputId": "c4ad4da7-a7c1-4235-beb0-02af1263cee0"
   },
   "outputs": [
    {
     "ename": "TypeError",
     "evalue": "unhashable type: 'list'",
     "output_type": "error",
     "traceback": [
      "\u001b[0;31m---------------------------------------------------------------------------\u001b[0m",
      "\u001b[0;31mTypeError\u001b[0m                                 Traceback (most recent call last)",
      "Cell \u001b[0;32mIn[5], line 1\u001b[0m\n\u001b[0;32m----> 1\u001b[0m dic4 \u001b[38;5;241m=\u001b[39m {[\u001b[38;5;241m1\u001b[39m, \u001b[38;5;241m2\u001b[39m] : \u001b[38;5;124m'\u001b[39m\u001b[38;5;124ma\u001b[39m\u001b[38;5;124m'\u001b[39m}\n\u001b[1;32m      2\u001b[0m dic4\n",
      "\u001b[0;31mTypeError\u001b[0m: unhashable type: 'list'"
     ]
    }
   ],
   "source": [
    "dic4 = {[1, 2] : 'a'}\n",
    "dic4"
   ]
  },
  {
   "cell_type": "markdown",
   "metadata": {},
   "source": [
    "**답**"
   ]
  },
  {
   "cell_type": "markdown",
   "metadata": {},
   "source": [
    "사전의 키는 해시 가능해야 하는데, 리스트는 해시 가능하지 않다."
   ]
  },
  {
   "cell_type": "code",
   "execution_count": 6,
   "metadata": {},
   "outputs": [
    {
     "ename": "TypeError",
     "evalue": "unhashable type: 'list'",
     "output_type": "error",
     "traceback": [
      "\u001b[0;31m---------------------------------------------------------------------------\u001b[0m",
      "\u001b[0;31mTypeError\u001b[0m                                 Traceback (most recent call last)",
      "Cell \u001b[0;32mIn[6], line 1\u001b[0m\n\u001b[0;32m----> 1\u001b[0m \u001b[38;5;28mhash\u001b[39m([\u001b[38;5;241m1\u001b[39m, \u001b[38;5;241m2\u001b[39m])\n",
      "\u001b[0;31mTypeError\u001b[0m: unhashable type: 'list'"
     ]
    }
   ],
   "source": [
    "hash([1, 2])"
   ]
  },
  {
   "cell_type": "markdown",
   "metadata": {},
   "source": [
    "## 예제 2"
   ]
  },
  {
   "cell_type": "markdown",
   "metadata": {
    "id": "gSF_tBKvfg9V"
   },
   "source": [
    "영어 단어는 키로, 단어의 뜻은 값으로 하는 사전이 다음과 같이 주어졌다."
   ]
  },
  {
   "cell_type": "code",
   "execution_count": 7,
   "metadata": {
    "colab": {
     "base_uri": "https://localhost:8080/"
    },
    "executionInfo": {
     "elapsed": 879,
     "status": "ok",
     "timestamp": 1618073146378,
     "user": {
      "displayName": "KyeongRyong Lee",
      "photoUrl": "",
      "userId": "08575822710201651490"
     },
     "user_tz": -540
    },
    "id": "vbQeYUiJNHEe",
    "outputId": "20eca004-b733-4e9f-899e-ccfaacea1d96"
   },
   "outputs": [],
   "source": [
    "eng_dict = {'dog': '개', 'cat': '고양이', 'lion': '사자', 'tiger': '호랑이', 'snake': '뱀'}"
   ]
  },
  {
   "cell_type": "markdown",
   "metadata": {},
   "source": [
    "영어 단어가 인자로 입력되었을 때 사전의 키로 사용되었다면 뜻을 반환하고,\n",
    "아니면 아래 문장을 반환하는 `eng_fun()` 함수를 선언하라.\n",
    "단, 대소문자는 구분하지 않는다.\n",
    "\n",
    "    찾는 단어가 없습니다."
   ]
  },
  {
   "cell_type": "markdown",
   "metadata": {},
   "source": [
    "**답**"
   ]
  },
  {
   "cell_type": "markdown",
   "metadata": {},
   "source": [
    "사전에 키로 사용된 영어 단어는 모두 소문자만 사용한다.\n",
    "따라서 입력값을 먼저 소문자만 사용하도록 한 다음에 키로 사용되었는지 여부를 판단한다."
   ]
  },
  {
   "cell_type": "code",
   "execution_count": 8,
   "metadata": {},
   "outputs": [],
   "source": [
    "def eng_fun(word):\n",
    "    word = word.lower()\n",
    "    if word in eng_dict:\n",
    "        return eng_dict[word]\n",
    "    else:\n",
    "        return '찾는 단어가 없습니다.'"
   ]
  },
  {
   "cell_type": "code",
   "execution_count": 9,
   "metadata": {},
   "outputs": [
    {
     "data": {
      "text/plain": [
       "'개'"
      ]
     },
     "execution_count": 9,
     "metadata": {},
     "output_type": "execute_result"
    }
   ],
   "source": [
    "eng_fun('dog')"
   ]
  },
  {
   "cell_type": "code",
   "execution_count": 10,
   "metadata": {},
   "outputs": [
    {
     "data": {
      "text/plain": [
       "'찾는 단어가 없습니다.'"
      ]
     },
     "execution_count": 10,
     "metadata": {},
     "output_type": "execute_result"
    }
   ],
   "source": [
    "eng_fun('fox')"
   ]
  },
  {
   "cell_type": "markdown",
   "metadata": {},
   "source": [
    "다음과 같이 사전의 `get()` 메서드를 이용하여 `eng_func()` 함수를 선언할 수도 있다."
   ]
  },
  {
   "cell_type": "code",
   "execution_count": 11,
   "metadata": {},
   "outputs": [],
   "source": [
    "def eng_fun(word):\n",
    "    word = word.lower()\n",
    "    return eng_dict.get(word, '찾는 단어가 없어요.')"
   ]
  },
  {
   "cell_type": "code",
   "execution_count": 12,
   "metadata": {},
   "outputs": [
    {
     "data": {
      "text/plain": [
       "'개'"
      ]
     },
     "execution_count": 12,
     "metadata": {},
     "output_type": "execute_result"
    }
   ],
   "source": [
    "eng_fun('dog')"
   ]
  },
  {
   "cell_type": "code",
   "execution_count": 13,
   "metadata": {},
   "outputs": [
    {
     "data": {
      "text/plain": [
       "'찾는 단어가 없어요.'"
      ]
     },
     "execution_count": 13,
     "metadata": {},
     "output_type": "execute_result"
    }
   ],
   "source": [
    "eng_fun('fox')"
   ]
  },
  {
   "cell_type": "markdown",
   "metadata": {},
   "source": [
    "반면에 다음과 같이 사전 인덱싱을 이용하면 찾는 단어가 없는 경우 오류가 발생한다."
   ]
  },
  {
   "cell_type": "code",
   "execution_count": 14,
   "metadata": {},
   "outputs": [],
   "source": [
    "def eng_fun(word):\n",
    "    word = word.lower()\n",
    "    return eng_dict[word]"
   ]
  },
  {
   "cell_type": "code",
   "execution_count": 15,
   "metadata": {},
   "outputs": [
    {
     "data": {
      "text/plain": [
       "'개'"
      ]
     },
     "execution_count": 15,
     "metadata": {},
     "output_type": "execute_result"
    }
   ],
   "source": [
    "eng_fun('dog')"
   ]
  },
  {
   "cell_type": "code",
   "execution_count": 16,
   "metadata": {},
   "outputs": [
    {
     "ename": "KeyError",
     "evalue": "'fox'",
     "output_type": "error",
     "traceback": [
      "\u001b[0;31m---------------------------------------------------------------------------\u001b[0m",
      "\u001b[0;31mKeyError\u001b[0m                                  Traceback (most recent call last)",
      "Cell \u001b[0;32mIn[16], line 1\u001b[0m\n\u001b[0;32m----> 1\u001b[0m eng_fun(\u001b[38;5;124m'\u001b[39m\u001b[38;5;124mfox\u001b[39m\u001b[38;5;124m'\u001b[39m)\n",
      "Cell \u001b[0;32mIn[14], line 3\u001b[0m, in \u001b[0;36meng_fun\u001b[0;34m(word)\u001b[0m\n\u001b[1;32m      1\u001b[0m \u001b[38;5;28;01mdef\u001b[39;00m \u001b[38;5;21meng_fun\u001b[39m(word):\n\u001b[1;32m      2\u001b[0m     word \u001b[38;5;241m=\u001b[39m word\u001b[38;5;241m.\u001b[39mlower()\n\u001b[0;32m----> 3\u001b[0m     \u001b[38;5;28;01mreturn\u001b[39;00m eng_dict[word]\n",
      "\u001b[0;31mKeyError\u001b[0m: 'fox'"
     ]
    }
   ],
   "source": [
    "eng_fun('fox')"
   ]
  },
  {
   "cell_type": "markdown",
   "metadata": {},
   "source": [
    "다음과 같이 예외처리를 이용할 수는 있다."
   ]
  },
  {
   "cell_type": "code",
   "execution_count": 17,
   "metadata": {},
   "outputs": [],
   "source": [
    "def eng_fun(word):\n",
    "    word = word.lower()\n",
    "    try:\n",
    "        return eng_dict[word]\n",
    "    except:\n",
    "        return \"찾는 단어가 없어요.\"   "
   ]
  },
  {
   "cell_type": "code",
   "execution_count": 18,
   "metadata": {},
   "outputs": [
    {
     "data": {
      "text/plain": [
       "'개'"
      ]
     },
     "execution_count": 18,
     "metadata": {},
     "output_type": "execute_result"
    }
   ],
   "source": [
    "eng_fun('dog')"
   ]
  },
  {
   "cell_type": "code",
   "execution_count": 19,
   "metadata": {},
   "outputs": [
    {
     "data": {
      "text/plain": [
       "'찾는 단어가 없어요.'"
      ]
     },
     "execution_count": 19,
     "metadata": {},
     "output_type": "execute_result"
    }
   ],
   "source": [
    "eng_fun('fox')"
   ]
  },
  {
   "cell_type": "markdown",
   "metadata": {},
   "source": [
    "하지만 예외처리를 하는 것보다는 `get()` 메서드를 사용하여 애초에 오류가 발생하지 않도록\n",
    "코드를 작성하는 게 보다 중요하다."
   ]
  },
  {
   "cell_type": "markdown",
   "metadata": {
    "id": "2cFz6sWv2nXs"
   },
   "source": [
    "## 예제 3"
   ]
  },
  {
   "cell_type": "markdown",
   "metadata": {
    "id": "UD58s85XS_25"
   },
   "source": [
    "정수들의 리스트가 인자로 입력되었을 때 리스트의 항목은 키로,\n",
    "해당 항목이 위치한 곳의 인덱스들의 리스트를 값으로 갖는 사전 객체를 반환하는 \n",
    "`list2dic()` 함수를 구현하라.\n",
    "\n",
    "`list2dic()` 함수는 예를 들어 아래와 같이 작동해야 한다.\n",
    "\n",
    "```\n",
    "list2dic([2, 5, 2, 3, 3, 2]) = {2: [0, 2, 5], 3: [3, 4], 5: [1]}\n",
    "list2dic([15, 3, 15, 1, 3, 8]) = {1: [3], 3: [1, 4], 8: [5], 15: [0, 2]}\n",
    "```\n",
    "\n",
    "힌트: `enumerate()` 함수, 리스트의 `count()` 메서드,\n",
    "`collections` 모듈의 `defaultdict` 클래스를 이용한다."
   ]
  },
  {
   "cell_type": "markdown",
   "metadata": {},
   "source": [
    "**답 1**"
   ]
  },
  {
   "cell_type": "code",
   "execution_count": 20,
   "metadata": {
    "colab": {
     "base_uri": "https://localhost:8080/"
    },
    "id": "bdFl6zxWKGpI",
    "outputId": "941f0683-d6fa-4035-d208-a6393b39ca99"
   },
   "outputs": [],
   "source": [
    "def list2dic(xs):\n",
    "    list_dict = dict()\n",
    "    for i, item in enumerate(xs):\n",
    "        if item in list_dict:\n",
    "            list_dict[item].append(i)\n",
    "        else:\n",
    "            list_dict[item] = [i]\n",
    "\n",
    "    return list_dict"
   ]
  },
  {
   "cell_type": "code",
   "execution_count": 21,
   "metadata": {
    "colab": {
     "base_uri": "https://localhost:8080/"
    },
    "id": "bdFl6zxWKGpI",
    "outputId": "941f0683-d6fa-4035-d208-a6393b39ca99"
   },
   "outputs": [
    {
     "name": "stdout",
     "output_type": "stream",
     "text": [
      "{2: [0, 2, 5], 5: [1], 3: [3, 4]}\n",
      "{15: [0, 2], 3: [1, 4], 1: [3], 8: [5]}\n"
     ]
    }
   ],
   "source": [
    "print(list2dic([2, 5, 2, 3, 3, 2]))\n",
    "print(list2dic([15, 3, 15, 1, 3, 8]))"
   ]
  },
  {
   "cell_type": "markdown",
   "metadata": {},
   "source": [
    "**답 2**"
   ]
  },
  {
   "cell_type": "markdown",
   "metadata": {},
   "source": [
    "`collections` 모듈의 `defaulitdict`를 활용하면 보다 간단하게 함수를 구현할 수 있다."
   ]
  },
  {
   "cell_type": "code",
   "execution_count": 22,
   "metadata": {
    "id": "7HwOqPEkjZRf"
   },
   "outputs": [],
   "source": [
    "from collections import defaultdict"
   ]
  },
  {
   "cell_type": "code",
   "execution_count": 23,
   "metadata": {},
   "outputs": [],
   "source": [
    "list_dict = defaultdict(list)"
   ]
  },
  {
   "cell_type": "code",
   "execution_count": 24,
   "metadata": {},
   "outputs": [
    {
     "data": {
      "text/plain": [
       "defaultdict(list, {})"
      ]
     },
     "execution_count": 24,
     "metadata": {},
     "output_type": "execute_result"
    }
   ],
   "source": [
    "list_dict"
   ]
  },
  {
   "cell_type": "code",
   "execution_count": 25,
   "metadata": {},
   "outputs": [],
   "source": [
    "list_dict[1].append(3)"
   ]
  },
  {
   "cell_type": "code",
   "execution_count": 26,
   "metadata": {},
   "outputs": [],
   "source": [
    "list_dict[2].append(0)"
   ]
  },
  {
   "cell_type": "code",
   "execution_count": 27,
   "metadata": {},
   "outputs": [
    {
     "data": {
      "text/plain": [
       "defaultdict(list, {1: [3], 2: [0]})"
      ]
     },
     "execution_count": 27,
     "metadata": {},
     "output_type": "execute_result"
    }
   ],
   "source": [
    "list_dict"
   ]
  },
  {
   "cell_type": "code",
   "execution_count": 28,
   "metadata": {
    "colab": {
     "base_uri": "https://localhost:8080/"
    },
    "id": "bdFl6zxWKGpI",
    "outputId": "941f0683-d6fa-4035-d208-a6393b39ca99"
   },
   "outputs": [],
   "source": [
    "def list2dic(xs):\n",
    "    list_dict = defaultdict(list)\n",
    "    for i, item in enumerate(xs):\n",
    "        list_dict[item].append(i)\n",
    "\n",
    "    return dict(list_dict)"
   ]
  },
  {
   "cell_type": "code",
   "execution_count": 29,
   "metadata": {
    "colab": {
     "base_uri": "https://localhost:8080/"
    },
    "id": "bdFl6zxWKGpI",
    "outputId": "941f0683-d6fa-4035-d208-a6393b39ca99"
   },
   "outputs": [
    {
     "name": "stdout",
     "output_type": "stream",
     "text": [
      "{2: [0, 2, 5], 5: [1], 3: [3, 4]}\n",
      "{15: [0, 2], 3: [1, 4], 1: [3], 8: [5]}\n"
     ]
    }
   ],
   "source": [
    "print(list2dic([2, 5, 2, 3, 3, 2]))\n",
    "print(list2dic([15, 3, 15, 1, 3, 8]))"
   ]
  },
  {
   "cell_type": "markdown",
   "metadata": {
    "id": "xXklrMuxWNQA"
   },
   "source": [
    "## 예제 4"
   ]
  },
  {
   "cell_type": "markdown",
   "metadata": {},
   "source": [
    "**질문 1**"
   ]
  },
  {
   "cell_type": "markdown",
   "metadata": {
    "id": "LI2MPm0oix4t"
   },
   "source": [
    "아래 리스트를 리스트 조건제시법으로 정의하라.\n",
    "\n",
    "    [3, 6, 9, 12, 15]"
   ]
  },
  {
   "cell_type": "markdown",
   "metadata": {
    "id": "X6vQwn_CWeXz"
   },
   "source": [
    "**답**"
   ]
  },
  {
   "cell_type": "code",
   "execution_count": 50,
   "metadata": {
    "colab": {
     "base_uri": "https://localhost:8080/"
    },
    "executionInfo": {
     "elapsed": 5,
     "status": "ok",
     "timestamp": 1714436084102,
     "user": {
      "displayName": "liga nega",
      "userId": "04505461106310941438"
     },
     "user_tz": -540
    },
    "id": "IonO7clZ2ce9",
    "outputId": "5c3fb698-633d-43dc-e87c-d2a3c35d79b9"
   },
   "outputs": [
    {
     "name": "stdout",
     "output_type": "stream",
     "text": [
      "[3, 6, 9, 12, 15]\n"
     ]
    }
   ],
   "source": [
    "multiples_3 = [ 3*x for x in range(1,6) ]\n",
    "print(multiples_3)"
   ]
  },
  {
   "cell_type": "markdown",
   "metadata": {
    "id": "RQuRt6XpWqsn"
   },
   "source": [
    "또는"
   ]
  },
  {
   "cell_type": "code",
   "execution_count": 51,
   "metadata": {
    "colab": {
     "base_uri": "https://localhost:8080/"
    },
    "executionInfo": {
     "elapsed": 324,
     "status": "ok",
     "timestamp": 1714436089555,
     "user": {
      "displayName": "liga nega",
      "userId": "04505461106310941438"
     },
     "user_tz": -540
    },
    "id": "0YV-yRhOWj-C",
    "outputId": "6a1e236d-6184-4709-f43d-0c3ec6c20bcc"
   },
   "outputs": [
    {
     "name": "stdout",
     "output_type": "stream",
     "text": [
      "[3, 6, 9, 12, 15]\n"
     ]
    }
   ],
   "source": [
    "multiples_3 = [ x for x in range(1,16) if x % 3 == 0]\n",
    "print(multiples_3)"
   ]
  },
  {
   "cell_type": "markdown",
   "metadata": {},
   "source": [
    "**질문 2**"
   ]
  },
  {
   "cell_type": "markdown",
   "metadata": {
    "id": "i10f9WXES_26"
   },
   "source": [
    "0부터 20까지의 자연수 중에서 3으로 나눈 나머지가 2이면서 짝수인 수의 제곱으로 이루어진 리스트를 조건제시법으로 정의하라.\n",
    "즉, 아래 리스트를 조건제시법으로 생성해야 한다.\n",
    "\n",
    "```python\n",
    "[4, 64, 196, 400]\n",
    "```"
   ]
  },
  {
   "cell_type": "markdown",
   "metadata": {
    "id": "xfZ5Mrdt053H"
   },
   "source": [
    "**답**"
   ]
  },
  {
   "cell_type": "code",
   "execution_count": 32,
   "metadata": {
    "colab": {
     "base_uri": "https://localhost:8080/"
    },
    "id": "VSIThrw0KiaW",
    "outputId": "58686e17-c210-4750-d9cb-2aebbea5ec9f"
   },
   "outputs": [
    {
     "name": "stdout",
     "output_type": "stream",
     "text": [
      "[4, 64, 196, 400]\n"
     ]
    }
   ],
   "source": [
    "list_modulo3 = [x**2 for x in range(0, 21) if x%3 == 2 and x%2 == 0]\n",
    "\n",
    "print(list_modulo3)"
   ]
  },
  {
   "cell_type": "markdown",
   "metadata": {
    "id": "gaOaOgqCVDRc"
   },
   "source": [
    "## 예제 5"
   ]
  },
  {
   "cell_type": "markdown",
   "metadata": {
    "id": "3-giu8MsVDRX"
   },
   "source": [
    "6명의 정보가 다음과 같다."
   ]
  },
  {
   "cell_type": "code",
   "execution_count": 33,
   "metadata": {
    "executionInfo": {
     "elapsed": 513,
     "status": "ok",
     "timestamp": 1714611074049,
     "user": {
      "displayName": "liga nega",
      "userId": "04505461106310941438"
     },
     "user_tz": -540
    },
    "id": "OTRtTsv1VDRX"
   },
   "outputs": [],
   "source": [
    "kgh = ['김강현', '010-1234-5678', 20, 172.3, '제주']\n",
    "whang = ['황현', '02-9871-1234', 19, 163.5, '서울']\n",
    "namgung = ['남세원', '010-3456-7891', 21, 156.7, '경기']\n",
    "choihs = ['최흥선', '070-4321-1111', 21, 187.2, '부산']\n",
    "sjkim = ['김현선', '010-3333-8888', 22, 164.6, '광주']\n",
    "ja = ['함중아', '010-7654-2345', 18, 178.3, '강원']"
   ]
  },
  {
   "cell_type": "code",
   "execution_count": 34,
   "metadata": {
    "colab": {
     "base_uri": "https://localhost:8080/"
    },
    "executionInfo": {
     "elapsed": 4,
     "status": "ok",
     "timestamp": 1714611074049,
     "user": {
      "displayName": "liga nega",
      "userId": "04505461106310941438"
     },
     "user_tz": -540
    },
    "id": "CuT5NcBVVDRY",
    "outputId": "36cdf39c-406f-43ef-ac33-bef65de1d215"
   },
   "outputs": [
    {
     "data": {
      "text/plain": [
       "[['김강현', '010-1234-5678', 20, 172.3, '제주'],\n",
       " ['황현', '02-9871-1234', 19, 163.5, '서울'],\n",
       " ['남세원', '010-3456-7891', 21, 156.7, '경기'],\n",
       " ['최흥선', '070-4321-1111', 21, 187.2, '부산'],\n",
       " ['김현선', '010-3333-8888', 22, 164.6, '광주'],\n",
       " ['함중아', '010-7654-2345', 18, 178.3, '강원']]"
      ]
     },
     "execution_count": 34,
     "metadata": {},
     "output_type": "execute_result"
    }
   ],
   "source": [
    "info_list = [kgh, whang, namgung, choihs, sjkim, ja]\n",
    "info_list"
   ]
  },
  {
   "cell_type": "markdown",
   "metadata": {},
   "source": [
    "**질문 1**"
   ]
  },
  {
   "cell_type": "markdown",
   "metadata": {
    "id": "rwL-eEcIVDRc"
   },
   "source": [
    "`info_list`에 포함된 6명의 이름과 전화번호만으로 구성된 사전을 가리키는 `phone_dict` 변수를 \n",
    "`for` 반복문을 이용하여 선언하라.\n",
    "단, 키는 이름, 값은 전화번호로 지정하며, 조건제시법은 사용하지 않는다."
   ]
  },
  {
   "cell_type": "markdown",
   "metadata": {},
   "source": [
    "**답**"
   ]
  },
  {
   "cell_type": "code",
   "execution_count": 35,
   "metadata": {},
   "outputs": [],
   "source": [
    "phone_dict = dict()\n",
    "\n",
    "for people in info_list:\n",
    "    name = people[0]\n",
    "    phone_number = people[1]\n",
    "    phone_dict[name] = phone_number"
   ]
  },
  {
   "cell_type": "code",
   "execution_count": 36,
   "metadata": {},
   "outputs": [
    {
     "data": {
      "text/plain": [
       "{'김강현': '010-1234-5678',\n",
       " '황현': '02-9871-1234',\n",
       " '남세원': '010-3456-7891',\n",
       " '최흥선': '070-4321-1111',\n",
       " '김현선': '010-3333-8888',\n",
       " '함중아': '010-7654-2345'}"
      ]
     },
     "execution_count": 36,
     "metadata": {},
     "output_type": "execute_result"
    }
   ],
   "source": [
    "phone_dict    "
   ]
  },
  {
   "cell_type": "markdown",
   "metadata": {},
   "source": [
    "**질문 2**"
   ]
  },
  {
   "cell_type": "markdown",
   "metadata": {
    "id": "rwL-eEcIVDRc"
   },
   "source": [
    "`phone_dict` 변수가 가리키는 값을 조건제시법을 이용하여 선언하라."
   ]
  },
  {
   "cell_type": "markdown",
   "metadata": {},
   "source": [
    "**답**"
   ]
  },
  {
   "cell_type": "code",
   "execution_count": 37,
   "metadata": {},
   "outputs": [],
   "source": [
    "phone_dict = {people[0]:people[1] for people in info_list}"
   ]
  },
  {
   "cell_type": "code",
   "execution_count": 38,
   "metadata": {},
   "outputs": [
    {
     "data": {
      "text/plain": [
       "{'김강현': '010-1234-5678',\n",
       " '황현': '02-9871-1234',\n",
       " '남세원': '010-3456-7891',\n",
       " '최흥선': '070-4321-1111',\n",
       " '김현선': '010-3333-8888',\n",
       " '함중아': '010-7654-2345'}"
      ]
     },
     "execution_count": 38,
     "metadata": {},
     "output_type": "execute_result"
    }
   ],
   "source": [
    "phone_dict"
   ]
  },
  {
   "cell_type": "markdown",
   "metadata": {},
   "source": [
    "**질문 3**"
   ]
  },
  {
   "cell_type": "markdown",
   "metadata": {},
   "source": [
    "`phone_dict`를 이용해서 이름을 지정하면 전화번호를 알려주는 `phone_book()` 함수를 정의하라."
   ]
  },
  {
   "cell_type": "code",
   "execution_count": 39,
   "metadata": {},
   "outputs": [],
   "source": [
    "def phone_book(name):\n",
    "    return phone_dict[name]"
   ]
  },
  {
   "cell_type": "code",
   "execution_count": 40,
   "metadata": {},
   "outputs": [
    {
     "data": {
      "text/plain": [
       "'010-3333-8888'"
      ]
     },
     "execution_count": 40,
     "metadata": {},
     "output_type": "execute_result"
    }
   ],
   "source": [
    "phone_book('김현선')"
   ]
  },
  {
   "cell_type": "code",
   "execution_count": 41,
   "metadata": {},
   "outputs": [
    {
     "data": {
      "text/plain": [
       "'070-4321-1111'"
      ]
     },
     "execution_count": 41,
     "metadata": {},
     "output_type": "execute_result"
    }
   ],
   "source": [
    "phone_book('최흥선')"
   ]
  },
  {
   "cell_type": "markdown",
   "metadata": {},
   "source": [
    "## 예제 6"
   ]
  },
  {
   "cell_type": "markdown",
   "metadata": {
    "id": "QNlMUg025pIB"
   },
   "source": [
    "아래 문자열을 이용한다."
   ]
  },
  {
   "cell_type": "code",
   "execution_count": 42,
   "metadata": {
    "id": "QNlMUg025pIB"
   },
   "outputs": [],
   "source": [
    "lyrics = \"Twinkle, twinkle, little star. How I wonder what you are.\""
   ]
  },
  {
   "cell_type": "markdown",
   "metadata": {},
   "source": [
    "**질문 1**"
   ]
  },
  {
   "cell_type": "markdown",
   "metadata": {
    "id": "QNlMUg025pIB"
   },
   "source": [
    "위 문자열을 소문자로 변경한 후, 공백을 기준으로 쪼개진 단어들의 리스트를 `lyrics_list` 변수에 할당하라."
   ]
  },
  {
   "cell_type": "code",
   "execution_count": 43,
   "metadata": {
    "colab": {
     "base_uri": "https://localhost:8080/"
    },
    "executionInfo": {
     "elapsed": 526,
     "status": "ok",
     "timestamp": 1617490728878,
     "user": {
      "displayName": "HJ Kim",
      "photoUrl": "",
      "userId": "16634276932240017990"
     },
     "user_tz": -540
    },
    "id": "dNJbcJZO69sX",
    "outputId": "88bb4258-7902-4f03-bac6-a2d8492f6e87"
   },
   "outputs": [
    {
     "data": {
      "text/plain": [
       "['twinkle,',\n",
       " 'twinkle,',\n",
       " 'little',\n",
       " 'star.',\n",
       " 'how',\n",
       " 'i',\n",
       " 'wonder',\n",
       " 'what',\n",
       " 'you',\n",
       " 'are.']"
      ]
     },
     "execution_count": 43,
     "metadata": {},
     "output_type": "execute_result"
    }
   ],
   "source": [
    "lyrics_list = lyrics.lower().split()\n",
    "lyrics_list"
   ]
  },
  {
   "cell_type": "markdown",
   "metadata": {},
   "source": [
    "**질문 2**"
   ]
  },
  {
   "cell_type": "markdown",
   "metadata": {
    "id": "FLqjsgO27LN-"
   },
   "source": [
    "`lyrics_list`의 각 항목의 문자열 길이를 항목으로 갖는 리스트를 만들어라.  \n",
    "예를 들어, `['hello', 'python']`의 경우, 각 항목의 문자열 길이를 항목으로 갖는 리스트는 `[5, 6]` 이다."
   ]
  },
  {
   "cell_type": "code",
   "execution_count": 44,
   "metadata": {
    "colab": {
     "base_uri": "https://localhost:8080/"
    },
    "executionInfo": {
     "elapsed": 534,
     "status": "ok",
     "timestamp": 1617490732179,
     "user": {
      "displayName": "HJ Kim",
      "photoUrl": "",
      "userId": "16634276932240017990"
     },
     "user_tz": -540
    },
    "id": "KCXRsWrt8smD",
    "outputId": "0e61ef40-d660-4352-aeaf-f596623f07a4"
   },
   "outputs": [
    {
     "data": {
      "text/plain": [
       "[8, 8, 6, 5, 3, 1, 6, 4, 3, 4]"
      ]
     },
     "execution_count": 44,
     "metadata": {},
     "output_type": "execute_result"
    }
   ],
   "source": [
    "[len(x) for x in lyrics_list]"
   ]
  },
  {
   "cell_type": "markdown",
   "metadata": {},
   "source": [
    "**질문 3**"
   ]
  },
  {
   "cell_type": "markdown",
   "metadata": {
    "id": "a4iqQYXd9gbo"
   },
   "source": [
    "(3) `lyrics_list`의 항목 중 일부는 콤마(,)나 마침표(.)가 사용되었다. 콤마나 마침표를 제외한 단어의 길이를 표시하도록 (2)의 코드를 수정하여라."
   ]
  },
  {
   "cell_type": "code",
   "execution_count": 45,
   "metadata": {
    "colab": {
     "base_uri": "https://localhost:8080/"
    },
    "executionInfo": {
     "elapsed": 677,
     "status": "ok",
     "timestamp": 1617490869881,
     "user": {
      "displayName": "HJ Kim",
      "photoUrl": "",
      "userId": "16634276932240017990"
     },
     "user_tz": -540
    },
    "id": "XFru5EYy95VL",
    "outputId": "e078fc0a-da77-4ab6-b664-69e565241680"
   },
   "outputs": [
    {
     "data": {
      "text/plain": [
       "[7, 7, 6, 4, 3, 1, 6, 4, 3, 3]"
      ]
     },
     "execution_count": 45,
     "metadata": {},
     "output_type": "execute_result"
    }
   ],
   "source": [
    "[len(x.strip('.').strip(',')) for x in lyrics_list]"
   ]
  },
  {
   "cell_type": "markdown",
   "metadata": {
    "id": "IVMgvZTidFz0"
   },
   "source": [
    "## 예제 7"
   ]
  },
  {
   "cell_type": "markdown",
   "metadata": {
    "id": "eoxWecFRS_25"
   },
   "source": [
    "리스트를 인자로 받아서 사용된 항목의 개수를 반환하는 함수\n",
    "`count_elem()`를 구현하라.\n",
    "단, 중복 항목은 하나로 간주한다.\n",
    "\n",
    "```\n",
    "count_elem([2, 5, 2, 3, 3, 8, 2, 7]) = 5\n",
    "count_elem([15, 3, 15, 1, 3]) = 3\n",
    "```"
   ]
  },
  {
   "cell_type": "markdown",
   "metadata": {},
   "source": [
    "**답**"
   ]
  },
  {
   "cell_type": "code",
   "execution_count": 46,
   "metadata": {
    "colab": {
     "base_uri": "https://localhost:8080/"
    },
    "id": "zzipN9zjKCSx",
    "outputId": "7463b911-fc6c-42f1-8ef7-95092ce436b5"
   },
   "outputs": [
    {
     "name": "stdout",
     "output_type": "stream",
     "text": [
      "5\n",
      "3\n"
     ]
    }
   ],
   "source": [
    "def count_elem(xs):\n",
    "    return len(set(xs))\n",
    "\n",
    "print(count_elem([2, 5, 2, 3, 3, 8, 2, 7]))\n",
    "print(count_elem([15, 3, 15, 1, 3]))"
   ]
  },
  {
   "cell_type": "markdown",
   "metadata": {},
   "source": [
    "## 예제 8"
   ]
  },
  {
   "cell_type": "markdown",
   "metadata": {},
   "source": [
    "교육 참가자 명단과 수료자 명단이 아래처럼 리스트로 주어다."
   ]
  },
  {
   "cell_type": "code",
   "execution_count": 47,
   "metadata": {},
   "outputs": [],
   "source": [
    "participant = ['Apeach', 'Ryan', 'Muzi', 'Choonsik', 'Neo', 'Tube']\n",
    "completion = ['Ryan', 'Muzi', 'Neo', 'Choonsik']"
   ]
  },
  {
   "cell_type": "markdown",
   "metadata": {},
   "source": [
    "수료하지 못한 사람들의 명단을 리스트로 출력하는 코드를 작성하여라.\n",
    "단, 참여자 중 동명이인은 없고, 순서는 중요하지 않다. "
   ]
  },
  {
   "cell_type": "markdown",
   "metadata": {},
   "source": [
    "**답**"
   ]
  },
  {
   "cell_type": "code",
   "execution_count": 48,
   "metadata": {},
   "outputs": [
    {
     "data": {
      "text/plain": [
       "['Apeach', 'Tube']"
      ]
     },
     "execution_count": 48,
     "metadata": {},
     "output_type": "execute_result"
    }
   ],
   "source": [
    "unfinished = list(set(participant) - set(completion))\n",
    "unfinished"
   ]
  },
  {
   "cell_type": "markdown",
   "metadata": {},
   "source": [
    "또는"
   ]
  },
  {
   "cell_type": "code",
   "execution_count": 49,
   "metadata": {},
   "outputs": [
    {
     "data": {
      "text/plain": [
       "['Apeach', 'Tube']"
      ]
     },
     "execution_count": 49,
     "metadata": {},
     "output_type": "execute_result"
    }
   ],
   "source": [
    "unfinished = list(set(participant).difference(set(completion)))\n",
    "unfinished"
   ]
  }
 ],
 "metadata": {
  "colab": {
   "authorship_tag": "ABX9TyNlyA65b7/spOhDAsRbmThl",
   "collapsed_sections": [],
   "provenance": []
  },
  "kernelspec": {
   "display_name": "Python 3 (ipykernel)",
   "language": "python",
   "name": "python3"
  },
  "language_info": {
   "codemirror_mode": {
    "name": "ipython",
    "version": 3
   },
   "file_extension": ".py",
   "mimetype": "text/x-python",
   "name": "python",
   "nbconvert_exporter": "python",
   "pygments_lexer": "ipython3",
   "version": "3.11.4"
  }
 },
 "nbformat": 4,
 "nbformat_minor": 1
}
