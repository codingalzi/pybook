{
 "cells": [
  {
   "cell_type": "markdown",
   "metadata": {},
   "source": [
    "# (필수 예제) 프로그래밍 맛보기"
   ]
  },
  {
   "cell_type": "markdown",
   "metadata": {},
   "source": [
    "**참고 사항**\n",
    "\n",
    "1. 먼저 [프로그래밍 맛보기](https://codingalzi.github.io/pybook/starting.html) 내용을 학습하세요.\n",
    "2. [YouTube 재생목록](https://www.youtube.com/playlist?list=PL5aSjzJqCaPbH03sCvDg2DfOAdcXF0eKo)에 예제 풀이 동영상이 있습니다."
   ]
  },
  {
   "cell_type": "markdown",
   "metadata": {},
   "source": [
    "## 예제 1 "
   ]
  },
  {
   "cell_type": "markdown",
   "metadata": {},
   "source": [
    "아래 명령문들을 실행해서 오류가 발생하는 경우 오류의 종류와 원인을 설명하고 수정한다.\n",
    "오류가 발생하지 않으면 실행 결과를 설명한다."
   ]
  },
  {
   "cell_type": "markdown",
   "metadata": {},
   "source": [
    "**코드 1**"
   ]
  },
  {
   "cell_type": "code",
   "execution_count": 1,
   "metadata": {},
   "outputs": [
    {
     "ename": "SyntaxError",
     "evalue": "incomplete input (353226650.py, line 1)",
     "output_type": "error",
     "traceback": [
      "\u001b[0;36m  Cell \u001b[0;32mIn[1], line 1\u001b[0;36m\u001b[0m\n\u001b[0;31m    print(\"Hello World\"\u001b[0m\n\u001b[0m                       ^\u001b[0m\n\u001b[0;31mSyntaxError\u001b[0m\u001b[0;31m:\u001b[0m incomplete input\n"
     ]
    }
   ],
   "source": [
    "print(\"Hello World\""
   ]
  },
  {
   "cell_type": "markdown",
   "metadata": {},
   "source": [
    "**답**"
   ]
  },
  {
   "cell_type": "markdown",
   "metadata": {},
   "source": [
    "- 오류 종류: SyntaxError(구문 오류)\n",
    "\n",
    "- 오류 원인: print() 함수의 인자는 소괄호로 감싸져야 하는데 닫는 괄호가 없음."
   ]
  },
  {
   "cell_type": "code",
   "execution_count": 2,
   "metadata": {},
   "outputs": [
    {
     "name": "stdout",
     "output_type": "stream",
     "text": [
      "Hello World\n"
     ]
    }
   ],
   "source": [
    "# 오류가 수정된 코드\n",
    "\n",
    "print(\"Hello World\")"
   ]
  },
  {
   "cell_type": "markdown",
   "metadata": {},
   "source": [
    "**코드 2**"
   ]
  },
  {
   "cell_type": "code",
   "execution_count": 3,
   "metadata": {},
   "outputs": [
    {
     "ename": "SyntaxError",
     "evalue": "unterminated string literal (detected at line 1) (2803455855.py, line 1)",
     "output_type": "error",
     "traceback": [
      "\u001b[0;36m  Cell \u001b[0;32mIn[3], line 1\u001b[0;36m\u001b[0m\n\u001b[0;31m    print('Hello World\")\u001b[0m\n\u001b[0m          ^\u001b[0m\n\u001b[0;31mSyntaxError\u001b[0m\u001b[0;31m:\u001b[0m unterminated string literal (detected at line 1)\n"
     ]
    }
   ],
   "source": [
    "print('Hello World\")"
   ]
  },
  {
   "cell_type": "markdown",
   "metadata": {},
   "source": [
    "**답**"
   ]
  },
  {
   "cell_type": "markdown",
   "metadata": {},
   "source": [
    "- 오류 종류: SyntaxError(구문 오류)\n",
    "\n",
    "- 오류 원인: 문자열은 동일한 인용부호로 감싸져야 함. 여는 인용부호는 작은따옴표인데 닫는 인용부호는 큰따옴표임. 동일한 따옴표를 사용해야 함."
   ]
  },
  {
   "cell_type": "code",
   "execution_count": 4,
   "metadata": {},
   "outputs": [
    {
     "name": "stdout",
     "output_type": "stream",
     "text": [
      "Hello World\n"
     ]
    }
   ],
   "source": [
    "# 오류가 수정된 코드\n",
    "\n",
    "print('Hello World')"
   ]
  },
  {
   "cell_type": "markdown",
   "metadata": {},
   "source": [
    "또는"
   ]
  },
  {
   "cell_type": "code",
   "execution_count": 5,
   "metadata": {},
   "outputs": [
    {
     "name": "stdout",
     "output_type": "stream",
     "text": [
      "Hello World\n"
     ]
    }
   ],
   "source": [
    "print(\"Hello World\")"
   ]
  },
  {
   "cell_type": "markdown",
   "metadata": {},
   "source": [
    "**코드 3**"
   ]
  },
  {
   "cell_type": "code",
   "execution_count": 6,
   "metadata": {},
   "outputs": [
    {
     "name": "stdout",
     "output_type": "stream",
     "text": [
      "2\n"
     ]
    }
   ],
   "source": [
    "print(+2)"
   ]
  },
  {
   "cell_type": "markdown",
   "metadata": {},
   "source": [
    "**답**"
   ]
  },
  {
   "cell_type": "markdown",
   "metadata": {},
   "source": [
    "오류가 발생하지 않음. `+2`는 양의 정수 2로 처리됨."
   ]
  },
  {
   "cell_type": "markdown",
   "metadata": {},
   "source": [
    "**코드 4**"
   ]
  },
  {
   "cell_type": "code",
   "execution_count": 7,
   "metadata": {},
   "outputs": [
    {
     "ename": "SyntaxError",
     "evalue": "leading zeros in decimal integer literals are not permitted; use an 0o prefix for octal integers (1292398223.py, line 1)",
     "output_type": "error",
     "traceback": [
      "\u001b[0;36m  Cell \u001b[0;32mIn[7], line 1\u001b[0;36m\u001b[0m\n\u001b[0;31m    print(023)\u001b[0m\n\u001b[0m          ^\u001b[0m\n\u001b[0;31mSyntaxError\u001b[0m\u001b[0;31m:\u001b[0m leading zeros in decimal integer literals are not permitted; use an 0o prefix for octal integers\n"
     ]
    }
   ],
   "source": [
    "print(023)"
   ]
  },
  {
   "cell_type": "markdown",
   "metadata": {},
   "source": [
    "**답**"
   ]
  },
  {
   "cell_type": "markdown",
   "metadata": {},
   "source": [
    "- 오류 종류: SyntaxError(구문 오류)\n",
    "\n",
    "- 오류 원인: 정수, 부동소수점 등은 0으로 시작할 수 없음."
   ]
  },
  {
   "cell_type": "code",
   "execution_count": 8,
   "metadata": {},
   "outputs": [
    {
     "name": "stdout",
     "output_type": "stream",
     "text": [
      "23\n"
     ]
    }
   ],
   "source": [
    "# 오류가 수정된 코드\n",
    "\n",
    "print(23)"
   ]
  },
  {
   "cell_type": "markdown",
   "metadata": {},
   "source": [
    "또는 문자열 `023`을 의도했지만 미처 인용부호를 사용하지 않은 경우일 수도 있음.\n",
    "문자열은 인용부호로 감싸이면 어떠한 기호의 나열도 허용됨."
   ]
  },
  {
   "cell_type": "code",
   "execution_count": 9,
   "metadata": {},
   "outputs": [
    {
     "name": "stdout",
     "output_type": "stream",
     "text": [
      "023\n"
     ]
    }
   ],
   "source": [
    "# 오류가 수정된 코드\n",
    "\n",
    "print('023')"
   ]
  },
  {
   "cell_type": "markdown",
   "metadata": {},
   "source": [
    "단, 문자열과 수는 모양이 같아도 서로 다른 값임에 주의한다.\n",
    "예를 들어 정수 23과 문자열 `'23'`은 다른 값이다.\n",
    "물론 자료형도 다르다."
   ]
  },
  {
   "cell_type": "code",
   "execution_count": 10,
   "metadata": {},
   "outputs": [
    {
     "data": {
      "text/plain": [
       "False"
      ]
     },
     "execution_count": 10,
     "metadata": {},
     "output_type": "execute_result"
    }
   ],
   "source": [
    "23 == '23'"
   ]
  },
  {
   "cell_type": "markdown",
   "metadata": {},
   "source": [
    "## 예제 2 "
   ]
  },
  {
   "cell_type": "markdown",
   "metadata": {},
   "source": [
    "변수 할당 명령문 관련 주의해야할 점들을 다룬다.\n",
    "아래 명령문들을 실행해서 오류가 발생하는 경우 오류의 종류와 원인을 설명하고 수정한다."
   ]
  },
  {
   "cell_type": "markdown",
   "metadata": {},
   "source": [
    "**코드 1**"
   ]
  },
  {
   "cell_type": "code",
   "execution_count": 13,
   "metadata": {},
   "outputs": [
    {
     "ename": "SyntaxError",
     "evalue": "cannot assign to literal here. Maybe you meant '==' instead of '='? (2807011745.py, line 1)",
     "output_type": "error",
     "traceback": [
      "\u001b[0;36m  Cell \u001b[0;32mIn[13], line 1\u001b[0;36m\u001b[0m\n\u001b[0;31m    23 = n\u001b[0m\n\u001b[0m    ^\u001b[0m\n\u001b[0;31mSyntaxError\u001b[0m\u001b[0;31m:\u001b[0m cannot assign to literal here. Maybe you meant '==' instead of '='?\n"
     ]
    }
   ],
   "source": [
    "23 = n"
   ]
  },
  {
   "cell_type": "markdown",
   "metadata": {},
   "source": [
    "**답**"
   ]
  },
  {
   "cell_type": "markdown",
   "metadata": {},
   "source": [
    "- 오류 종류: SyntaxError(구문 오류)\n",
    "\n",
    "- 오류 원인: 변수 할당 명령문의 등호 기호 왼쪽에 변수가, 오른쪽에 할당되는 값이 위치해야 함.\n",
    "    변수는 숫자로 시작할 수 없음."
   ]
  },
  {
   "cell_type": "code",
   "execution_count": 14,
   "metadata": {},
   "outputs": [],
   "source": [
    "# 오류가 수정된 코드 작성\n",
    "\n",
    "n = 23"
   ]
  },
  {
   "cell_type": "markdown",
   "metadata": {},
   "source": [
    "**코드 2**"
   ]
  },
  {
   "cell_type": "code",
   "execution_count": 15,
   "metadata": {},
   "outputs": [],
   "source": [
    "x = y = 1"
   ]
  },
  {
   "cell_type": "markdown",
   "metadata": {},
   "source": [
    "**답**"
   ]
  },
  {
   "cell_type": "markdown",
   "metadata": {},
   "source": [
    "오류 발생하지 않음. x, y 모두 1을 할당 받음.\n",
    "즉 아래 코드를 간단하게 표현한 것임.\n",
    "하지만 추천되지 않음. \n",
    "이유는 한줄에 하나의 변수를 선언하면 나중에 코드를 이해할 때 보다 쉽게 이해됨.\n",
    "즉, 한줄에 하나의 명령문만 사용하기 추천."
   ]
  },
  {
   "cell_type": "code",
   "execution_count": 16,
   "metadata": {},
   "outputs": [],
   "source": [
    "x = 1\n",
    "y = 1"
   ]
  },
  {
   "cell_type": "markdown",
   "metadata": {},
   "source": [
    "**코드 3**"
   ]
  },
  {
   "cell_type": "code",
   "execution_count": 17,
   "metadata": {},
   "outputs": [
    {
     "ename": "NameError",
     "evalue": "name 'k' is not defined",
     "output_type": "error",
     "traceback": [
      "\u001b[0;31m---------------------------------------------------------------------------\u001b[0m",
      "\u001b[0;31mNameError\u001b[0m                                 Traceback (most recent call last)",
      "Cell \u001b[0;32mIn[17], line 1\u001b[0m\n\u001b[0;32m----> 1\u001b[0m y \u001b[38;5;241m=\u001b[39m k \u001b[38;5;241m+\u001b[39m \u001b[38;5;241m1.\u001b[39m\n",
      "\u001b[0;31mNameError\u001b[0m: name 'k' is not defined"
     ]
    }
   ],
   "source": [
    "y = k + 1."
   ]
  },
  {
   "cell_type": "markdown",
   "metadata": {},
   "source": [
    "**답**"
   ]
  },
  {
   "cell_type": "markdown",
   "metadata": {},
   "source": [
    "- 오류 종류: NameError(이름 오류)\n",
    "\n",
    "- 오류 원인: 선언되지 않은 변수 `k` 가 사용됨. 즉 `k` 가리키는 값이 지정되지 않았음."
   ]
  },
  {
   "cell_type": "markdown",
   "metadata": {},
   "source": [
    "`k`를 먼저 선언하면 해결된다."
   ]
  },
  {
   "cell_type": "code",
   "execution_count": 18,
   "metadata": {},
   "outputs": [],
   "source": [
    "# 오류가 수정된 코드 작성\n",
    "\n",
    "# k를 먼저 선언\n",
    "k = 3\n",
    "\n",
    "y = k + 1"
   ]
  },
  {
   "cell_type": "markdown",
   "metadata": {
    "id": "6jxFns8v0EeE"
   },
   "source": [
    "## 예제 3"
   ]
  },
  {
   "cell_type": "markdown",
   "metadata": {
    "id": "6jxFns8v0EeE"
   },
   "source": [
    "먼저 아래와 같이 두 개의 변수를 선언한다."
   ]
  },
  {
   "cell_type": "code",
   "execution_count": 19,
   "metadata": {},
   "outputs": [],
   "source": [
    "rows = 17\n",
    "two_semicolons = ';;'"
   ]
  },
  {
   "cell_type": "markdown",
   "metadata": {},
   "source": [
    "다음에 오는 각각의 표현식들에 대해, 표현식의 값과 자료형을 확인한다."
   ]
  },
  {
   "cell_type": "markdown",
   "metadata": {},
   "source": [
    "**코드 1: `rows + 2`**"
   ]
  },
  {
   "cell_type": "code",
   "execution_count": 20,
   "metadata": {},
   "outputs": [
    {
     "data": {
      "text/plain": [
       "19"
      ]
     },
     "execution_count": 20,
     "metadata": {},
     "output_type": "execute_result"
    }
   ],
   "source": [
    "rows + 2"
   ]
  },
  {
   "cell_type": "code",
   "execution_count": 21,
   "metadata": {},
   "outputs": [
    {
     "data": {
      "text/plain": [
       "int"
      ]
     },
     "execution_count": 21,
     "metadata": {},
     "output_type": "execute_result"
    }
   ],
   "source": [
    "type(rows + 2)"
   ]
  },
  {
   "cell_type": "markdown",
   "metadata": {},
   "source": [
    "* `rows - 2.0`"
   ]
  },
  {
   "cell_type": "code",
   "execution_count": 22,
   "metadata": {},
   "outputs": [
    {
     "data": {
      "text/plain": [
       "15.0"
      ]
     },
     "execution_count": 22,
     "metadata": {},
     "output_type": "execute_result"
    }
   ],
   "source": [
    "rows - 2.0"
   ]
  },
  {
   "cell_type": "code",
   "execution_count": 23,
   "metadata": {},
   "outputs": [
    {
     "data": {
      "text/plain": [
       "float"
      ]
     },
     "execution_count": 23,
     "metadata": {},
     "output_type": "execute_result"
    }
   ],
   "source": [
    "type(rows - 2.0)"
   ]
  },
  {
   "cell_type": "markdown",
   "metadata": {},
   "source": [
    "**코드 2: `rows / 2`**"
   ]
  },
  {
   "cell_type": "code",
   "execution_count": 24,
   "metadata": {},
   "outputs": [
    {
     "data": {
      "text/plain": [
       "8.5"
      ]
     },
     "execution_count": 24,
     "metadata": {},
     "output_type": "execute_result"
    }
   ],
   "source": [
    "rows / 2"
   ]
  },
  {
   "cell_type": "code",
   "execution_count": 25,
   "metadata": {},
   "outputs": [
    {
     "data": {
      "text/plain": [
       "float"
      ]
     },
     "execution_count": 25,
     "metadata": {},
     "output_type": "execute_result"
    }
   ],
   "source": [
    "type(rows / 2)"
   ]
  },
  {
   "cell_type": "markdown",
   "metadata": {},
   "source": [
    "**코드 3: `rows // 2`**"
   ]
  },
  {
   "cell_type": "code",
   "execution_count": 26,
   "metadata": {},
   "outputs": [
    {
     "data": {
      "text/plain": [
       "8"
      ]
     },
     "execution_count": 26,
     "metadata": {},
     "output_type": "execute_result"
    }
   ],
   "source": [
    "rows // 2"
   ]
  },
  {
   "cell_type": "code",
   "execution_count": 27,
   "metadata": {},
   "outputs": [
    {
     "data": {
      "text/plain": [
       "int"
      ]
     },
     "execution_count": 27,
     "metadata": {},
     "output_type": "execute_result"
    }
   ],
   "source": [
    "type(rows // 2)"
   ]
  },
  {
   "cell_type": "markdown",
   "metadata": {},
   "source": [
    "**코드 4: `rows % 2`**"
   ]
  },
  {
   "cell_type": "code",
   "execution_count": 28,
   "metadata": {},
   "outputs": [
    {
     "data": {
      "text/plain": [
       "1"
      ]
     },
     "execution_count": 28,
     "metadata": {},
     "output_type": "execute_result"
    }
   ],
   "source": [
    "rows % 2"
   ]
  },
  {
   "cell_type": "code",
   "execution_count": 29,
   "metadata": {},
   "outputs": [
    {
     "data": {
      "text/plain": [
       "int"
      ]
     },
     "execution_count": 29,
     "metadata": {},
     "output_type": "execute_result"
    }
   ],
   "source": [
    "type(rows % 2)"
   ]
  },
  {
   "cell_type": "markdown",
   "metadata": {
    "id": "6jxFns8v0EeE"
   },
   "source": [
    "**코드 5: `rows`의 세제곱을 (2 + 3)으로 나누기**"
   ]
  },
  {
   "cell_type": "code",
   "execution_count": 30,
   "metadata": {},
   "outputs": [
    {
     "data": {
      "text/plain": [
       "982.6"
      ]
     },
     "execution_count": 30,
     "metadata": {},
     "output_type": "execute_result"
    }
   ],
   "source": [
    "rows**3 / (2 + 3)"
   ]
  },
  {
   "cell_type": "code",
   "execution_count": 31,
   "metadata": {},
   "outputs": [
    {
     "data": {
      "text/plain": [
       "float"
      ]
     },
     "execution_count": 31,
     "metadata": {},
     "output_type": "execute_result"
    }
   ],
   "source": [
    "type(rows**3 / (2 + 3))"
   ]
  },
  {
   "cell_type": "markdown",
   "metadata": {},
   "source": [
    "그런데 아래와 같이 하면 틀린 값이 나온다."
   ]
  },
  {
   "cell_type": "code",
   "execution_count": 32,
   "metadata": {},
   "outputs": [
    {
     "data": {
      "text/plain": [
       "2459.5"
      ]
     },
     "execution_count": 32,
     "metadata": {},
     "output_type": "execute_result"
    }
   ],
   "source": [
    "rows**3 / 2 + 3"
   ]
  },
  {
   "cell_type": "markdown",
   "metadata": {},
   "source": [
    "이유는 나눗셈 연산자 `/`의 우선순위가 덧셈 연산자 `+` 보다 높아서 위 수식은 아래 수식과 동일한\n",
    "값을 계산하기 때문이다."
   ]
  },
  {
   "cell_type": "code",
   "execution_count": 33,
   "metadata": {},
   "outputs": [
    {
     "data": {
      "text/plain": [
       "2459.5"
      ]
     },
     "execution_count": 33,
     "metadata": {},
     "output_type": "execute_result"
    }
   ],
   "source": [
    "(rows**3 / 2) + 3"
   ]
  },
  {
   "cell_type": "markdown",
   "metadata": {},
   "source": [
    "**코드 6: `two_semicolons * 3`**"
   ]
  },
  {
   "cell_type": "code",
   "execution_count": 34,
   "metadata": {},
   "outputs": [
    {
     "data": {
      "text/plain": [
       "';;;;;;'"
      ]
     },
     "execution_count": 34,
     "metadata": {},
     "output_type": "execute_result"
    }
   ],
   "source": [
    "two_semicolons * 3"
   ]
  },
  {
   "cell_type": "code",
   "execution_count": 35,
   "metadata": {},
   "outputs": [
    {
     "data": {
      "text/plain": [
       "str"
      ]
     },
     "execution_count": 35,
     "metadata": {},
     "output_type": "execute_result"
    }
   ],
   "source": [
    "type(two_semicolons * 3)"
   ]
  },
  {
   "cell_type": "markdown",
   "metadata": {
    "id": "xygzJ5410LMv"
   },
   "source": [
    "## 예제 4"
   ]
  },
  {
   "cell_type": "markdown",
   "metadata": {},
   "source": [
    "3과 3.0의 자료형이 다름에도 불구하고 아래 수식은 오류없이 6.0으로 계산된다."
   ]
  },
  {
   "cell_type": "code",
   "execution_count": 36,
   "metadata": {},
   "outputs": [
    {
     "data": {
      "text/plain": [
       "6.0"
      ]
     },
     "execution_count": 36,
     "metadata": {},
     "output_type": "execute_result"
    }
   ],
   "source": [
    "3 + 3.0"
   ]
  },
  {
   "cell_type": "markdown",
   "metadata": {},
   "source": [
    "반면에 아래 수식을 계산하려 하면 오류가 발생한다."
   ]
  },
  {
   "cell_type": "code",
   "execution_count": 37,
   "metadata": {},
   "outputs": [
    {
     "ename": "TypeError",
     "evalue": "unsupported operand type(s) for +: 'int' and 'str'",
     "output_type": "error",
     "traceback": [
      "\u001b[0;31m---------------------------------------------------------------------------\u001b[0m",
      "\u001b[0;31mTypeError\u001b[0m                                 Traceback (most recent call last)",
      "Cell \u001b[0;32mIn[37], line 1\u001b[0m\n\u001b[0;32m----> 1\u001b[0m \u001b[38;5;241m3\u001b[39m \u001b[38;5;241m+\u001b[39m \u001b[38;5;124m'\u001b[39m\u001b[38;5;124m3.0\u001b[39m\u001b[38;5;124m'\u001b[39m\n",
      "\u001b[0;31mTypeError\u001b[0m: unsupported operand type(s) for +: 'int' and 'str'"
     ]
    }
   ],
   "source": [
    "3 + '3.0'"
   ]
  },
  {
   "cell_type": "markdown",
   "metadata": {},
   "source": [
    "이유는 숫자로서의 3과 문자열로서의 `'3.0'`의 덧셈 연산은 정의되어 있지 않기 때문이다.\n",
    "그런데 아래 수식은 계산이 허용된다.\n",
    "곱셈 연산자 `*`를 정수와 문자열과 함께 실행하면 문자열을 지정된 정수만큼 복제해서 이어붙인다.\n",
    "따라서 3.03이 세 번 반복된 문자열이 계산된다."
   ]
  },
  {
   "cell_type": "code",
   "execution_count": 38,
   "metadata": {},
   "outputs": [
    {
     "data": {
      "text/plain": [
       "'3.03.03.0'"
      ]
     },
     "execution_count": 38,
     "metadata": {},
     "output_type": "execute_result"
    }
   ],
   "source": [
    "3 * '3.0'"
   ]
  },
  {
   "cell_type": "markdown",
   "metadata": {},
   "source": [
    "그런데 유한소수 모양의 문자열을 부동소수점 자료형으로 변환하여 3 + 3.0이\n",
    "계산되도록 할 수 있다. \n",
    "이를 위해 `float()` 함수를 활용한다.\n",
    "`float()` 함수는 부동소수점 모양의 문자열을 실제 부동소수점으로 변환시킨다."
   ]
  },
  {
   "cell_type": "code",
   "execution_count": 39,
   "metadata": {},
   "outputs": [
    {
     "data": {
      "text/plain": [
       "6.0"
      ]
     },
     "execution_count": 39,
     "metadata": {},
     "output_type": "execute_result"
    }
   ],
   "source": [
    "3 + float('3.0')"
   ]
  },
  {
   "cell_type": "markdown",
   "metadata": {},
   "source": [
    "단, `float()` 함수에 부동소수점 모양이 아닌 인자를 사용하면 오류가 발생한다."
   ]
  },
  {
   "cell_type": "code",
   "execution_count": 40,
   "metadata": {},
   "outputs": [
    {
     "ename": "ValueError",
     "evalue": "could not convert string to float: '3-1'",
     "output_type": "error",
     "traceback": [
      "\u001b[0;31m---------------------------------------------------------------------------\u001b[0m",
      "\u001b[0;31mValueError\u001b[0m                                Traceback (most recent call last)",
      "Cell \u001b[0;32mIn[40], line 1\u001b[0m\n\u001b[0;32m----> 1\u001b[0m \u001b[38;5;28mfloat\u001b[39m(\u001b[38;5;124m'\u001b[39m\u001b[38;5;124m3-1\u001b[39m\u001b[38;5;124m'\u001b[39m)\n",
      "\u001b[0;31mValueError\u001b[0m: could not convert string to float: '3-1'"
     ]
    }
   ],
   "source": [
    "float('3-1')"
   ]
  },
  {
   "cell_type": "markdown",
   "metadata": {
    "id": "xygzJ5410LMv"
   },
   "source": [
    "## 예제 5"
   ]
  },
  {
   "cell_type": "markdown",
   "metadata": {},
   "source": [
    "**코드 1**"
   ]
  },
  {
   "cell_type": "markdown",
   "metadata": {
    "id": "oMsxIe_500xd"
   },
   "source": [
    "아래 내용의 논리식을 할당받는 변수 `p1`을 선언한 후에 `p1`에 할당된 진리값을 확인한다.\n",
    "\n",
    "> 3과 4가 다른지 여부 판단"
   ]
  },
  {
   "cell_type": "markdown",
   "metadata": {},
   "source": [
    "모범 답안:\n",
    "\n",
    "두 값이 다른지 여부는 `!=` 연산자를 이용하여 표현."
   ]
  },
  {
   "cell_type": "code",
   "execution_count": 41,
   "metadata": {},
   "outputs": [
    {
     "data": {
      "text/plain": [
       "True"
      ]
     },
     "execution_count": 41,
     "metadata": {},
     "output_type": "execute_result"
    }
   ],
   "source": [
    "p1 = 3 != 4\n",
    "p1"
   ]
  },
  {
   "cell_type": "markdown",
   "metadata": {},
   "source": [
    "**코드 2**"
   ]
  },
  {
   "cell_type": "markdown",
   "metadata": {
    "id": "oMsxIe_500xd"
   },
   "source": [
    "아래 내용의 논리식을 할당받는 변수 `p2`를 선언한 후에 `p2`에 할당된 진리값을 확인한다.\n",
    "\n",
    "> \"hello\"와 \"hi\"가 같은지 여부 판단"
   ]
  },
  {
   "cell_type": "markdown",
   "metadata": {},
   "source": [
    "모범 답안:\n",
    "\n",
    "두 값이 같은지 여부는 `==` 연산자를 이용하여 표현."
   ]
  },
  {
   "cell_type": "code",
   "execution_count": 42,
   "metadata": {},
   "outputs": [
    {
     "data": {
      "text/plain": [
       "False"
      ]
     },
     "execution_count": 42,
     "metadata": {},
     "output_type": "execute_result"
    }
   ],
   "source": [
    "p2 = \"hello\" == \"hi\"\n",
    "p2"
   ]
  },
  {
   "cell_type": "markdown",
   "metadata": {
    "id": "PRQLSWmi0sAF"
   },
   "source": [
    "## 예제 6"
   ]
  },
  {
   "cell_type": "markdown",
   "metadata": {
    "id": "jLCnfgsk06WQ"
   },
   "source": [
    "15, 28이 각각 짝수인지 또는 홀수인지를 판별하는 코드를 작성한다.\n",
    "출력된 결과는 아래와 같은 형식이다.\n",
    "\n",
    "> 15는 짝수인가요? False  \n",
    "> 28은 짝수인가요? True\n",
    "\n",
    "힌트: 짝수는 2로 나눴을 때 나머지가 0이다."
   ]
  },
  {
   "cell_type": "markdown",
   "metadata": {},
   "source": [
    "**답**\n",
    "\n",
    "15가 짝수인지 여부는 `15 % 2 == 0` 가 `True`로 계산되는지로 확인함."
   ]
  },
  {
   "cell_type": "code",
   "execution_count": 47,
   "metadata": {},
   "outputs": [
    {
     "name": "stdout",
     "output_type": "stream",
     "text": [
      "15는 짝수인가요? False\n",
      "28는 짝수인가요? True\n"
     ]
    }
   ],
   "source": [
    "print(\"15는 짝수인가요?\", 15 % 2 == 0)\n",
    "print(\"28는 짝수인가요?\", 28 % 2 == 0)"
   ]
  },
  {
   "cell_type": "markdown",
   "metadata": {
    "id": "oMsxIe_500xd"
   },
   "source": [
    "## 예제 7"
   ]
  },
  {
   "cell_type": "markdown",
   "metadata": {
    "id": "BR35apnL0Tf9"
   },
   "source": [
    "1$\\text{m}^2$는 0.3025평이다. \n",
    "84$\\text{m}^2$는 몇 평인가? \n",
    "반대로 30평은 몇 $\\text{m}^2$인지 계산하는 코드를 작성한다.\n",
    "또한 결과가 아래 형식으로 출력되도록 한다.\n",
    "\n",
    "> 84제곱미터: 25.41 평  \n",
    "> 30평: 99.17355371900827 제곱미터"
   ]
  },
  {
   "cell_type": "markdown",
   "metadata": {},
   "source": [
    "**답**"
   ]
  },
  {
   "cell_type": "markdown",
   "metadata": {},
   "source": [
    "먼저 유용하게 활용할 수 있는 변수를 선언한다.\n",
    "어떤 변수가 필요한지, 왜 필요한지를 판단하는 일이 중요하다.\n",
    "\n",
    "- `one_squaremeter`: 1 제곱미터에 해당하는 평수\n",
    "- `eightyfour_squaremeter`: 84 제곱미터에 해당하는 평수\n",
    "- `one_pyeong`: 1 평에 해당하는 제곱미터\n",
    "- `thirty_pyeong`: 30평에 해당하는 제곱미터"
   ]
  },
  {
   "cell_type": "code",
   "execution_count": 48,
   "metadata": {},
   "outputs": [],
   "source": [
    "one_squaremeter = 0.3025\n",
    "eightyfour_squaremeter = 84 * one_squaremeter\n",
    "one_pyeong = 1 / one_squaremeter\n",
    "thirty_pyeong = 30 * one_pyeong"
   ]
  },
  {
   "cell_type": "markdown",
   "metadata": {},
   "source": [
    "선언된 변수를 이용하여 아래와 같이 문장을 출력한다."
   ]
  },
  {
   "cell_type": "code",
   "execution_count": 49,
   "metadata": {},
   "outputs": [
    {
     "name": "stdout",
     "output_type": "stream",
     "text": [
      "84제곱미터: 25.41 평\n",
      "30평: 99.17355371900827 제곱미터\n"
     ]
    }
   ],
   "source": [
    "print(\"84제곱미터:\", eightyfour_squaremeter, '평')\n",
    "print(\"30평:\", thirty_pyeong, '제곱미터')"
   ]
  },
  {
   "cell_type": "markdown",
   "metadata": {
    "id": "BR35apnL0Tf9"
   },
   "source": [
    "## 예제 8"
   ]
  },
  {
   "cell_type": "markdown",
   "metadata": {
    "id": "DxP4L1g30ZpC"
   },
   "source": [
    "연이자 5%인 정기예금에 1천만원을 10년간 은행에 맡겼을 때\n",
    "10년 후에 수령할 금액을 계산하는 코드를 다양한 변수를 활용하여 구현한다.\n",
    "단, 다음 형식으로 출력하라.\n",
    "\n",
    "> 10년 후 받을 원금 + 이자는 OOO 원입니다."
   ]
  },
  {
   "cell_type": "markdown",
   "metadata": {},
   "source": [
    "원리합계 계산은 아래 식을 따른다."
   ]
  },
  {
   "cell_type": "markdown",
   "metadata": {},
   "source": [
    "> 원리합계 ＝ 원금 *  (1 ＋ 연금리 * 기간)"
   ]
  },
  {
   "cell_type": "markdown",
   "metadata": {},
   "source": [
    "**답**\n",
    "\n",
    "아래 변수를 활용해서 원리합계 수식을 간단하게 구현할 수 있다.\n",
    "\n",
    "- principal = 원금\n",
    "- rate = 연이자율\n",
    "- period = 저축기간(년)\n",
    "- savings = 원리합계"
   ]
  },
  {
   "cell_type": "code",
   "execution_count": 52,
   "metadata": {},
   "outputs": [
    {
     "name": "stdout",
     "output_type": "stream",
     "text": [
      "10년 후 받는 원금 + 이자는 15000000.0 원입니다.\n"
     ]
    }
   ],
   "source": [
    "principal = 10000000 # 원금\n",
    "rate = 0.05          # 연이자\n",
    "period = 10           # 10년\n",
    "\n",
    "savings = principal * (1 + rate * period) # 원리합계\n",
    "\n",
    "print(\"10년 후 받는 원금 + 이자는\", savings, \"원입니다.\")"
   ]
  },
  {
   "cell_type": "markdown",
   "metadata": {},
   "source": [
    "## 예제 9"
   ]
  },
  {
   "cell_type": "markdown",
   "metadata": {},
   "source": [
    "다음 삼각형 모양을 출력하는 코드를 작성한다.\n",
    "두 개의 별 기호 사이에 공백(space)이 사용됨에 주의한다.\n",
    "공백도 하나의 기호로 취급된다.\n",
    "단, `for` 반복문을 이용한다.\n",
    "\n",
    "```\n",
    "* \n",
    "* * \n",
    "* * * \n",
    "* * * * \n",
    "* * * * * \n",
    "```"
   ]
  },
  {
   "cell_type": "markdown",
   "metadata": {},
   "source": [
    "**답**"
   ]
  },
  {
   "cell_type": "markdown",
   "metadata": {},
   "source": [
    "별 기호와 공백으로 구성된 문자열, 즉 `\"* \"`이 차례대로 1, 2, 3, 4, 5 번씩 반복되는 규칙성을 먼저 파악한다.\n",
    "또한 이런 규칙성은 일반적으로 반복문을 이용하여 쉽게 구현할 수 있다.\n",
    "문자열의 반복은 복제 후 이어붙이기 연산자 `*`를 사용한다."
   ]
  },
  {
   "cell_type": "markdown",
   "metadata": {
    "id": "jEKQnlUXxDw7"
   },
   "source": [
    "`for` 반복문은 보통 리스트와 함께 사용된다. 이때 사용되는 변수는 \n",
    "각각의 항목을 직접 가리킨다는 사실을 이용한다.\n",
    "예를 들어 아래 코드에서 `stars` 변수는 `for` 반복문의 본문이 실행될 때마다\n",
    "차례대로 1, 2, 3, 4, 5이 할당된다.\n",
    "또한 `print()` 함수는 실행될 때마다 줄바꿈을 항상 실행한다."
   ]
  },
  {
   "cell_type": "code",
   "execution_count": 4,
   "metadata": {
    "colab": {
     "base_uri": "https://localhost:8080/"
    },
    "id": "PXq22dmjrJlB",
    "outputId": "7e10ad7b-7b84-43da-a3db-87d31affd5d1"
   },
   "outputs": [
    {
     "name": "stdout",
     "output_type": "stream",
     "text": [
      " *\n",
      " * *\n",
      " * * *\n",
      " * * * *\n",
      " * * * * *\n"
     ]
    }
   ],
   "source": [
    "num_of_stars = [1, 2, 3, 4, 5]\n",
    "\n",
    "for stars in num_of_stars:\n",
    "    print(\" *\" * stars)"
   ]
  },
  {
   "cell_type": "markdown",
   "metadata": {},
   "source": [
    "**비추천 답안**"
   ]
  },
  {
   "cell_type": "markdown",
   "metadata": {},
   "source": [
    "아래 방식은 추천하지 않는다."
   ]
  },
  {
   "cell_type": "code",
   "execution_count": 5,
   "metadata": {},
   "outputs": [
    {
     "name": "stdout",
     "output_type": "stream",
     "text": [
      "*\n",
      "* *\n",
      "* * *\n",
      "* * * *\n",
      "* * * * *\n"
     ]
    }
   ],
   "source": [
    "print(\"*\")\n",
    "print(\"* *\")\n",
    "print(\"* * *\")\n",
    "print(\"* * * *\")\n",
    "print(\"* * * * *\")"
   ]
  },
  {
   "cell_type": "markdown",
   "metadata": {},
   "source": [
    "프로그래밍은 사람이 해야하는 일을 컴퓨터가 자동으로 실행하도록 하는 게 주 목적이다.\n",
    "하지만 위와 같은 방식은 사람이 직접 다섯 번 `print()` 함수를 작성해야 한다.\n",
    "만약에 별이 다섯 개가 아니라 천 개, 만 개에서 시작한다면 위와 같은 방식으로\n",
    "프로그램을 작성하는 일은 너무 힘들고 어렵다."
   ]
  },
  {
   "cell_type": "markdown",
   "metadata": {},
   "source": [
    "## 예제 10"
   ]
  },
  {
   "cell_type": "markdown",
   "metadata": {},
   "source": [
    "`while` 반복문을 이용하여 아래 실행결과가 나오는 프로그램을 작성하라.\n",
    "단, `\"안녕하세요\"` 문자열이 코드에 단 한 번만 언급되어야 한다.\n",
    "\n",
    "```\n",
    "안녕하세요.\n",
    "안녕하세요.\n",
    "안녕하세요.\n",
    "안녕하세요.\n",
    "안녕하세요.\n",
    "```"
   ]
  },
  {
   "cell_type": "markdown",
   "metadata": {},
   "source": [
    "**답**"
   ]
  },
  {
   "cell_type": "markdown",
   "metadata": {},
   "source": [
    "`\"안녕하세요\"` 문장을 다섯 번 출력해야 하는데\n",
    "이는 아래 코드를 단순히 다섯 번 반복하도록 하면 된다.\n",
    "\n",
    "```python\n",
    "print(\"안녕하세요.\")\n",
    "```\n",
    "\n",
    "이를 위해 보통 `while` 또는 `for` 반복문을 사용한다.\n",
    "아래 코드는 `while` 반복문을 활용하는 방식을 보여준다."
   ]
  },
  {
   "cell_type": "code",
   "execution_count": 1,
   "metadata": {},
   "outputs": [
    {
     "name": "stdout",
     "output_type": "stream",
     "text": [
      "안녕하세요.\n",
      "안녕하세요.\n",
      "안녕하세요.\n",
      "안녕하세요.\n",
      "안녕하세요.\n"
     ]
    }
   ],
   "source": [
    "num = 1\n",
    "while num < 6:\n",
    "    print(\"안녕하세요.\")\n",
    "    num += 1"
   ]
  },
  {
   "cell_type": "markdown",
   "metadata": {},
   "source": [
    "프로그래밍에서는 카운트를 보통 0부터 시작한다.\n",
    "따라서 다음과 같은 코드를 자주 보게 된다."
   ]
  },
  {
   "cell_type": "code",
   "execution_count": 2,
   "metadata": {},
   "outputs": [
    {
     "name": "stdout",
     "output_type": "stream",
     "text": [
      "안녕하세요.\n",
      "안녕하세요.\n",
      "안녕하세요.\n",
      "안녕하세요.\n",
      "안녕하세요.\n"
     ]
    }
   ],
   "source": [
    "num = 0\n",
    "while num < 5:\n",
    "    print(\"안녕하세요.\")\n",
    "    num += 1"
   ]
  },
  {
   "cell_type": "markdown",
   "metadata": {},
   "source": [
    "## 예제 11"
   ]
  },
  {
   "cell_type": "markdown",
   "metadata": {},
   "source": [
    "아래 코드를 실행했을 때 부동소수점 `27.1`의 의미를 설명하라."
   ]
  },
  {
   "cell_type": "code",
   "execution_count": 3,
   "metadata": {},
   "outputs": [
    {
     "name": "stdout",
     "output_type": "stream",
     "text": [
      "참인 경우라서 실행됨!\n"
     ]
    }
   ],
   "source": [
    "if 27.1:\n",
    "    print(\"참인 경우라서 실행됨!\")"
   ]
  },
  {
   "cell_type": "markdown",
   "metadata": {},
   "source": [
    "**답**"
   ]
  },
  {
   "cell_type": "markdown",
   "metadata": {},
   "source": [
    "파이썬에서 0, 비어있다, 또는 없다의 의미에 해당하는 값은 `False`로,\n",
    "그 이외의 경우엔 참으로 간주된다.\n",
    "이런 의미로 `if 27.1`에 사용된 `27.1`은 부동소수점이면서 0이 아니기에 \n",
    "`True`로 간주되어 조건문의 본문에 포함된 `print()` 함수 호출이 실행된다."
   ]
  }
 ],
 "metadata": {
  "colab": {
   "authorship_tag": "ABX9TyM4m5Xn0Khai6I6+Jd6ukU+",
   "collapsed_sections": [],
   "name": "examples-starting.ipynb",
   "provenance": []
  },
  "kernelspec": {
   "display_name": "Python 3 (ipykernel)",
   "language": "python",
   "name": "python3"
  },
  "language_info": {
   "codemirror_mode": {
    "name": "ipython",
    "version": 3
   },
   "file_extension": ".py",
   "mimetype": "text/x-python",
   "name": "python",
   "nbconvert_exporter": "python",
   "pygments_lexer": "ipython3",
   "version": "3.11.5"
  }
 },
 "nbformat": 4,
 "nbformat_minor": 4
}
