{
 "cells": [
  {
   "cell_type": "markdown",
   "metadata": {},
   "source": [
    "# (필수 예제) 리스트와 튜플"
   ]
  },
  {
   "cell_type": "code",
   "execution_count": null,
   "metadata": {},
   "outputs": [],
   "source": []
  },
  {
   "cell_type": "code",
   "execution_count": null,
   "metadata": {},
   "outputs": [],
   "source": []
  },
  {
   "cell_type": "markdown",
   "metadata": {
    "id": "e8233271"
   },
   "source": [
    "## 예제"
   ]
  },
  {
   "cell_type": "markdown",
   "metadata": {
    "id": "7b1ec1be"
   },
   "source": [
    "`num_list` 변수가 아래처럼 선언되었다."
   ]
  },
  {
   "cell_type": "code",
   "execution_count": 5,
   "metadata": {
    "id": "e3cdd991"
   },
   "outputs": [],
   "source": [
    "num_list = [[1, 2, 3, [4, 5]], [6, 7, 8], 9]"
   ]
  },
  {
   "cell_type": "markdown",
   "metadata": {
    "id": "08c4ddd2"
   },
   "source": [
    "(1) `9`를 츨력하는 코드를 작성하여라.   "
   ]
  },
  {
   "cell_type": "code",
   "execution_count": 6,
   "metadata": {
    "colab": {
     "base_uri": "https://localhost:8080/"
    },
    "id": "219b9ae3",
    "outputId": "0b137a64-f472-4cbe-b667-8747700c3518"
   },
   "outputs": [
    {
     "name": "stdout",
     "output_type": "stream",
     "text": [
      "9\n"
     ]
    }
   ],
   "source": [
    "# pass 적절한 명령문 또는 표현식으로 대체하라.\n",
    "num_list = [[1, 2, 3, [4, 5]], [6, 7, 8], 9]\n",
    "\n",
    "print(num_list[-1])\n"
   ]
  },
  {
   "cell_type": "markdown",
   "metadata": {
    "id": "6ad2f609"
   },
   "source": [
    "(2) `7`를 출력하는 코드를 작성하여라.   "
   ]
  },
  {
   "cell_type": "code",
   "execution_count": 7,
   "metadata": {
    "colab": {
     "base_uri": "https://localhost:8080/"
    },
    "id": "40efea4e",
    "outputId": "44e0ed52-31e9-4ab2-fd4f-8b4c7471e7ff"
   },
   "outputs": [
    {
     "name": "stdout",
     "output_type": "stream",
     "text": [
      "7\n"
     ]
    }
   ],
   "source": [
    "# pass 적절한 명령문 또는 표현식으로 대체하라.\n",
    "num_list = [[1, 2, 3, [4, 5]], [6, 7, 8], 9]\n",
    "\n",
    "print(num_list[1][1])\n"
   ]
  },
  {
   "cell_type": "markdown",
   "metadata": {
    "id": "df7d4671"
   },
   "source": [
    "(3) `[3, [4, 5]]`를 출력하는 코드를 작성하여라.  "
   ]
  },
  {
   "cell_type": "code",
   "execution_count": 8,
   "metadata": {
    "colab": {
     "base_uri": "https://localhost:8080/"
    },
    "id": "90388f2c",
    "outputId": "81b4675e-7b9d-4daa-bc66-0f246527a024"
   },
   "outputs": [
    {
     "name": "stdout",
     "output_type": "stream",
     "text": [
      "[3, [4, 5]]\n"
     ]
    }
   ],
   "source": [
    "# pass 적절한 명령문 또는 표현식으로 대체하라.\n",
    "num_list = [[1, 2, 3, [4, 5]], [6, 7, 8], 9]\n",
    "\n",
    "print(num_list[0][2:4])\n"
   ]
  },
  {
   "cell_type": "markdown",
   "metadata": {
    "id": "e1d3f8c8"
   },
   "source": [
    "**문제 9**"
   ]
  },
  {
   "cell_type": "markdown",
   "metadata": {
    "id": "36126643"
   },
   "source": [
    "어느 평가위원회는 평가 점수 중 최고점과 최저점을 제외한 점수들의 평균을 최종 평가 점수로 부여하려고 한다. \n",
    "선수 A의 점수가 다음 리스트로 주어졌다."
   ]
  },
  {
   "cell_type": "code",
   "execution_count": 10,
   "metadata": {
    "id": "9d75ee5b"
   },
   "outputs": [],
   "source": [
    "A = [85, 96, 78, 88, 81, 92, 73]"
   ]
  },
  {
   "cell_type": "markdown",
   "metadata": {
    "id": "640baea1"
   },
   "source": [
    "선수 A의 최종 평가 점수를 출력하는 코드를 작성하여라.\n",
    "\n",
    "힌트: `sum()` 함수 또는 `numpy.mean()` 함수 활용"
   ]
  },
  {
   "cell_type": "code",
   "execution_count": 11,
   "metadata": {
    "colab": {
     "base_uri": "https://localhost:8080/"
    },
    "id": "26b04a54",
    "outputId": "64310d09-452a-4d9d-c8b7-a87ad38e754d"
   },
   "outputs": [
    {
     "name": "stdout",
     "output_type": "stream",
     "text": [
      "84.8\n"
     ]
    }
   ],
   "source": [
    "# pass 와  None을 적절한 명령문과 표현식으로 대체하라.\n",
    "import numpy\n",
    "\n",
    "A = [85, 96, 78, 88, 81, 92, 73]\n",
    "\n",
    "del A[A.index(max(A))], A[A.index(min(A))]\n",
    "average_A = numpy.mean(A)\n",
    "\n",
    "\n",
    "print(average_A)\n",
    "\n",
    "assert average_A == 84.8\n"
   ]
  },
  {
   "cell_type": "code",
   "execution_count": 12,
   "metadata": {
    "id": "1ff9cf76"
   },
   "outputs": [],
   "source": [
    "# 아래 코드의 주석 기호를 삭제하고 실행할 때 오류가 발생하지 않아야 한다.\n",
    "\n",
    "# assert average_A == 84.8"
   ]
  },
  {
   "cell_type": "markdown",
   "metadata": {
    "id": "6f2a748d"
   },
   "source": [
    "**문제 10**"
   ]
  },
  {
   "cell_type": "markdown",
   "metadata": {
    "id": "7bd89970"
   },
   "source": [
    "리스트을 항목을 내림차순으로 정렬한 값을 반환하는 `rev_list()` 함수를 구현하라."
   ]
  },
  {
   "cell_type": "code",
   "execution_count": 13,
   "metadata": {
    "colab": {
     "base_uri": "https://localhost:8080/"
    },
    "id": "4175bdf6",
    "outputId": "3c32e526-5725-4d68-a674-196947e85eea"
   },
   "outputs": [
    {
     "name": "stdout",
     "output_type": "stream",
     "text": [
      "[4, 2, 2, 1]\n",
      "['f', 'c', 'a']\n",
      "['abd', '_ff', 'ABC']\n"
     ]
    }
   ],
   "source": [
    "# pass 와  None을 적절한 명령문과 표현식으로 대체하라.\n",
    "\n",
    "def rev_list(aList):\n",
    "    aList.sort()\n",
    "    aList.reverse()\n",
    "    \n",
    "    return aList\n",
    "\n",
    "\n",
    "print(rev_list([2, 4, 1, 2]))\n",
    "print(rev_list(['c', 'f', 'a']))\n",
    "print(rev_list(['_ff', 'ABC', 'abd']))\n",
    "\n",
    "assert rev_list([2, 4, 1, 2]) == [4, 2, 2, 1]\n",
    "assert rev_list(['c', 'f', 'a']) == ['f', 'c', 'a']\n",
    "assert rev_list(['_ff', 'ABC', 'abd']) == ['abd', '_ff', 'ABC']\n"
   ]
  },
  {
   "cell_type": "code",
   "execution_count": 14,
   "metadata": {
    "id": "d09f18c3"
   },
   "outputs": [],
   "source": [
    "# 아래 코드의 주석 기호를 삭제하고 실행할 때 오류가 발생하지 않아야 한다.\n",
    "\n",
    "# assert rev_list([2, 4, 1, 2]) == [4, 2, 2, 1]\n",
    "# assert rev_list(['c', 'f', 'a']) == ['f', 'c', 'a']\n",
    "# assert rev_list(['_ff', 'ABC', 'abd']) == ['abd', '_ff', 'ABC']"
   ]
  },
  {
   "cell_type": "markdown",
   "metadata": {
    "id": "47bf8991"
   },
   "source": [
    "**문제 11**"
   ]
  },
  {
   "cell_type": "markdown",
   "metadata": {
    "id": "83a2b626"
   },
   "source": [
    "리스트 `['Life', 'is', 'too', 'short']` 를 이용하여\n",
    "문자열 `\"Life is too short\"` 을 생성하는 코드를 작성하라.\n",
    "단, 리스트의 `pop()` 메서드를 사용해야 한다."
   ]
  },
  {
   "cell_type": "code",
   "execution_count": 15,
   "metadata": {
    "colab": {
     "base_uri": "https://localhost:8080/"
    },
    "id": "104e6207",
    "outputId": "d03a7ea3-3ddc-488f-97fb-0c2a3569521a"
   },
   "outputs": [
    {
     "name": "stdout",
     "output_type": "stream",
     "text": [
      "Life is too short\n"
     ]
    }
   ],
   "source": [
    "# pass 와  None을 적절한 명령문과 표현식으로 대체하라.\n",
    "# 단, 문자열 \"Life is too short\" 이 직접 언급되지 않아야 한다.\n",
    "\n",
    "input_list = ['Life', 'is', 'too', 'short']\n",
    "\n",
    "output_list = []\n",
    "for i in range(len(input_list)):\n",
    "  output_list.append(input_list.pop(0))\n",
    "  output_list.append(\" \")\n",
    "output_list.pop(-1)\n",
    "\n",
    "output_str = \"\".join(output_list)\n",
    "\n",
    "\n",
    "print(output_str)\n",
    "\n",
    "assert output_str == \"Life is too short\"\n"
   ]
  },
  {
   "cell_type": "code",
   "execution_count": 16,
   "metadata": {
    "id": "7e6a4b7b"
   },
   "outputs": [],
   "source": [
    "# 아래 코드의 주석 기호를 삭제하고 실행할 때 오류가 발생하지 않아야 한다.\n",
    "\n",
    "# assert output_str == \"Life is too short\""
   ]
  },
  {
   "cell_type": "markdown",
   "metadata": {
    "id": "c638540c"
   },
   "source": [
    "**문제 12**"
   ]
  },
  {
   "cell_type": "markdown",
   "metadata": {
    "id": "fa3c8b22"
   },
   "source": [
    "정수 `a`와 자연수 `n`을 입력받아, `n`개의 항목을 갖는 리스트를 출력하는 \n",
    "`int_clone()` 함수를 작성하여라.\n",
    "단, 리스트의 항목은 `a`부터 시작하고, 그 다음 항목은 이전 항목보다 `a`만큼 크다.        "
   ]
  },
  {
   "cell_type": "code",
   "execution_count": 17,
   "metadata": {
    "colab": {
     "base_uri": "https://localhost:8080/"
    },
    "id": "fbc85c96",
    "outputId": "af3fa38b-d7fb-4955-8f7f-12de8ab0ce10"
   },
   "outputs": [
    {
     "name": "stdout",
     "output_type": "stream",
     "text": [
      "[3, 6, 9, 12]\n",
      "[2, 4, 6]\n"
     ]
    }
   ],
   "source": [
    "# pass 와  None을 적절한 명령문과 표현식으로 대체하라.\n",
    "\n",
    "def int_clone(a, n):\n",
    "    assert n > 0\n",
    "    \n",
    "    result = []\n",
    "    num = 1\n",
    "    for i in range(n):\n",
    "      result.append(a*num)\n",
    "      num += 1\n",
    "\n",
    "    return result\n",
    "\n",
    "\n",
    "print(int_clone(3, 4))\n",
    "print(int_clone(2, 3))\n",
    "\n",
    "assert int_clone(3, 4) == [3, 6, 9, 12]\n",
    "assert int_clone(2, 3) == [2, 4, 6]\n"
   ]
  },
  {
   "cell_type": "code",
   "execution_count": 18,
   "metadata": {
    "id": "d55a7143"
   },
   "outputs": [],
   "source": [
    "# 아래 코드의 주석 기호를 삭제하고 실행할 때 오류가 발생하지 않아야 한다.\n",
    "\n",
    "# assert int_clone(3, 4) == [3, 6, 9, 12]\n",
    "# assert int_clone(2, 3) == [2, 4, 6]"
   ]
  },
  {
   "cell_type": "markdown",
   "metadata": {
    "id": "96a3365c"
   },
   "source": [
    "**문제 13**"
   ]
  },
  {
   "cell_type": "markdown",
   "metadata": {
    "id": "f6f65528"
   },
   "source": [
    "주어진 정수를 오름차순으로 정렬하여, 리스트 형태로 반환하는 `int2sorted_list()` 함수를 작성하라.\n",
    "단, 양의 정수만 입력값으로 사용한다."
   ]
  },
  {
   "cell_type": "code",
   "execution_count": 19,
   "metadata": {
    "colab": {
     "base_uri": "https://localhost:8080/"
    },
    "id": "f71f7786",
    "outputId": "67273b20-46d5-43a4-d051-80db63a17ca2"
   },
   "outputs": [
    {
     "name": "stdout",
     "output_type": "stream",
     "text": [
      "['1', '2', '3', '4', '5']\n",
      "['3', '4', '5']\n"
     ]
    }
   ],
   "source": [
    "# pass 와  None을 적절한 명령문과 표현식으로 대체하라.\n",
    "\n",
    "def int2sorted_list(an_int):\n",
    "    assert an_int > 0\n",
    "\n",
    "    an_int = list(str(an_int))\n",
    "    an_int.sort()\n",
    "\n",
    "    return an_int\n",
    "\n",
    "\n",
    "print(int2sorted_list(32145))\n",
    "print(int2sorted_list(435))\n",
    "\n",
    "assert int2sorted_list(32145) == ['1', '2', '3', '4', '5']\n",
    "assert int2sorted_list(435) == ['3', '4', '5']\n"
   ]
  },
  {
   "cell_type": "code",
   "execution_count": 20,
   "metadata": {
    "id": "5d645f23"
   },
   "outputs": [],
   "source": [
    "# 아래 코드의 주석 기호를 삭제하고 실행할 때 오류가 발생하지 않아야 한다.\n",
    "\n",
    "# assert int2sorted_list(32145) == ['1', '2', '3', '4', '5']\n",
    "# assert int2sorted_list(435) == ['3', '4', '5']"
   ]
  },
  {
   "cell_type": "markdown",
   "metadata": {
    "id": "9c748f5d"
   },
   "source": [
    "**문제 14**"
   ]
  },
  {
   "cell_type": "markdown",
   "metadata": {
    "id": "af16f521"
   },
   "source": [
    "교육 참가자 명단과 수료자 명단이 아래처럼 리스트로 주어다."
   ]
  },
  {
   "cell_type": "code",
   "execution_count": 21,
   "metadata": {
    "id": "1d533922"
   },
   "outputs": [],
   "source": [
    "participant = ['Apeach', 'Ryan', 'Muzi', 'Choonsik', 'Neo', 'Tube']\n",
    "completion = ['Ryan', 'Muzi', 'Neo', 'Choonsik']"
   ]
  },
  {
   "cell_type": "markdown",
   "metadata": {
    "id": "24680079"
   },
   "source": [
    "수료하지 못한 사람들의 명단을 리스트로 출력하는 코드를 작성하여라.\n",
    "단, 참여자 중 동명이인은 없고, 순서는 중요하지 않다. "
   ]
  },
  {
   "cell_type": "code",
   "execution_count": 22,
   "metadata": {
    "colab": {
     "base_uri": "https://localhost:8080/"
    },
    "id": "53354ffd",
    "outputId": "0823ece7-67b5-4146-bc58-28a97eb4573c"
   },
   "outputs": [
    {
     "name": "stdout",
     "output_type": "stream",
     "text": [
      "['Apeach', 'Tube']\n"
     ]
    }
   ],
   "source": [
    "# pass 와  None을 적절한 명령문과 표현식으로 대체하라.\n",
    "# 단, 답을 직접 언급하지 말아야 한다.\n",
    "\n",
    "participant = ['Apeach', 'Ryan', 'Muzi', 'Choonsik', 'Neo', 'Tube']\n",
    "completion = ['Ryan', 'Muzi', 'Neo', 'Choonsik']\n",
    "\n",
    "for i in completion:\n",
    "  participant.remove(i)\n",
    "\n",
    "unfinished = participant\n",
    "\n",
    "\n",
    "print(unfinished)\n",
    "\n",
    "assert unfinished == ['Apeach', 'Tube']\n"
   ]
  },
  {
   "cell_type": "code",
   "execution_count": 23,
   "metadata": {
    "id": "41881253"
   },
   "outputs": [],
   "source": [
    "# 아래 코드의 주석 기호를 삭제하고 실행할 때 오류가 발생하지 않아야 한다.\n",
    "\n",
    "# assert unfinished == ['Apeach', 'Tube']"
   ]
  },
  {
   "cell_type": "markdown",
   "metadata": {
    "id": "f77664cd"
   },
   "source": [
    "**문제 15**"
   ]
  },
  {
   "cell_type": "markdown",
   "metadata": {
    "id": "7953bb77"
   },
   "source": [
    "임의로 중첩된 리스트를 풀어헤쳐 중첩이 없는 리스트를 생성하는\n",
    "`flatten()` 함수를 `while` 반복문을 이용하여 구현하라.\n",
    "단, 재귀는 허용되지 않는다.\n",
    "\n",
    "참고: 이 문제는 조금 어려우며, [stackoverflow: 임의로 중첩된 리스트 납작하게 만들기](https://stackoverflow.com/questions/10823877/what-is-the-fastest-way-to-flatten-arbitrarily-nested-lists-in-python) 를 참고할 수 있다."
   ]
  },
  {
   "cell_type": "code",
   "execution_count": 24,
   "metadata": {
    "colab": {
     "base_uri": "https://localhost:8080/"
    },
    "id": "aIUQXsd_MGw0",
    "outputId": "60aaf1c1-d567-41b4-e1e8-74ca5e890fff"
   },
   "outputs": [
    {
     "name": "stdout",
     "output_type": "stream",
     "text": [
      "[1, 2, 3, 4, 5, 6, 'hello world']\n"
     ]
    }
   ],
   "source": [
    "def flatten(items, seqtypes=(list, tuple)):\n",
    "    try:\n",
    "        for i, x in enumerate(items):\n",
    "            while isinstance(x, seqtypes):    \n",
    "                items[i:i+1] = x\n",
    "                x = items[i]\n",
    "    except IndexError:\n",
    "        pass\n",
    "    return items\n",
    "\n",
    "\n",
    "print(flatten([1, 2, [3, 4, [5],[]], [6], [\"hello world\"]]))\n",
    "\n",
    "assert flatten([1, 2, [3, 4, [5],[]], [6], [\"hello world\"]]) == [1, 2, 3, 4, 5, 6, 'hello world']\n"
   ]
  },
  {
   "cell_type": "code",
   "execution_count": null,
   "metadata": {},
   "outputs": [],
   "source": []
  },
  {
   "cell_type": "code",
   "execution_count": null,
   "metadata": {},
   "outputs": [],
   "source": []
  },
  {
   "cell_type": "code",
   "execution_count": null,
   "metadata": {},
   "outputs": [],
   "source": []
  },
  {
   "cell_type": "code",
   "execution_count": null,
   "metadata": {},
   "outputs": [],
   "source": []
  },
  {
   "cell_type": "code",
   "execution_count": null,
   "metadata": {},
   "outputs": [],
   "source": []
  },
  {
   "cell_type": "markdown",
   "metadata": {},
   "source": [
    "## 예제 (튜플 관련)"
   ]
  },
  {
   "cell_type": "markdown",
   "metadata": {},
   "source": [
    "거스름돈을 돌려주기 위해 필요한 최소한의 동전 개수를 알아내는 문제다. \n",
    "단, 사용할 수 있는 동전은 500원, 250원, 100원, 50원, 10원 5 종류이다.\n",
    "거슬러 줘야 하는 금액이 n 원일 때, 필요한 동전의 최소 개수를 반환하는\n",
    "`change()` 함수를 구현하라.\n",
    "단, n 은 10의 배수이면서 5000보다 작은 정수이고, \n",
    "모든 동전은 원하는 만큼 충분히 많이 있다고 가정한다. \n",
    "\n",
    "힌트: 거스름돈 지급에 사용되는 동전의 수를 최소화 하려면\n",
    "큰 액수의 동전을 최대한 많이 사용하면 된다.\n",
    "따라서 큰 액수의 동전부터 차례대로 최대한 많이 사용할 수 있는\n",
    "동전의 개수를 `for` 반복문과 `divmod()` 함수를\n",
    "활용하여 구한다.\n",
    "\n",
    "참고: 앞서 설명한 힌트는\n",
    "[탐욕 알고리즘](https://codingalzi.github.io/algopy/greedy_algorithm_1.html)을\n",
    "응용한다."
   ]
  },
  {
   "cell_type": "markdown",
   "metadata": {},
   "source": [
    "## 예제"
   ]
  },
  {
   "cell_type": "markdown",
   "metadata": {
    "id": "e9ipuJUbWzxo"
   },
   "source": [
    "자연수 인자의 약수로 구성된 리스트를 반환하는 함수를 구현하라."
   ]
  },
  {
   "cell_type": "markdown",
   "metadata": {},
   "source": [
    "주의사항: 아래 코드를 함수로 만들것."
   ]
  },
  {
   "cell_type": "code",
   "execution_count": 4,
   "metadata": {
    "colab": {
     "base_uri": "https://localhost:8080/"
    },
    "executionInfo": {
     "elapsed": 3367,
     "status": "ok",
     "timestamp": 1616043949680,
     "user": {
      "displayName": "HJ Kim",
      "photoUrl": "",
      "userId": "16634276932240017990"
     },
     "user_tz": -540
    },
    "id": "9LyiFQJUWL_R",
    "outputId": "c867ef87-fd88-4eb3-8f0c-94bed1f41bf6"
   },
   "outputs": [
    {
     "name": "stdout",
     "output_type": "stream",
     "text": [
      "자연수를 입력하세요 : 5\n",
      "1\n",
      "5\n"
     ]
    }
   ],
   "source": [
    "num4 = int(input(\"자연수를 입력하세요 : \"))\n",
    "\n",
    "for i in range(1, num4 + 1) :\n",
    "    if num4 % i == 0:\n",
    "        print(i)"
   ]
  },
  {
   "cell_type": "markdown",
   "metadata": {
    "colab_type": "text",
    "id": "cVNnSRdTQmCB"
   },
   "source": [
    "## 문제 11\n",
    "\n",
    "(Think Python) 프로그래밍 기본 요소: 집합과 사전 - 연습문제 6번 B"
   ]
  },
  {
   "cell_type": "code",
   "execution_count": 29,
   "metadata": {
    "colab": {},
    "colab_type": "code",
    "id": "r-lzHV2PPGU8"
   },
   "outputs": [],
   "source": [
    "def factorialDynamic(n):\n",
    "    if n >= 0:\n",
    "        known = 1\n",
    "        for k in range(2,n+1):\n",
    "            res = k * known\n",
    "            known = res\n",
    "\n",
    "        return known\n",
    "    else:\n",
    "        return -1"
   ]
  },
  {
   "cell_type": "markdown",
   "metadata": {
    "colab_type": "text",
    "id": "dHiGi-kKQmCC"
   },
   "source": [
    "#### 주의사항\n",
    "\n",
    "* 계산이 가능할 때까지 코드셀을 추가하여 10배씩 늘리며 확인할 것.\n",
    "* 구글 코랩에서는 아마 좀 더 작은 숫자로 시작해야 할 수도 있음."
   ]
  },
  {
   "cell_type": "markdown",
   "metadata": {
    "colab_type": "text",
    "id": "gzA_wOhHQmCD"
   },
   "source": [
    "#### 3000!"
   ]
  },
  {
   "cell_type": "code",
   "execution_count": 30,
   "metadata": {
    "colab": {
     "base_uri": "https://localhost:8080/",
     "height": 34
    },
    "colab_type": "code",
    "id": "xxAofj_oQmCD",
    "outputId": "60e8fae5-a741-4534-f812-f1b45f92a40b"
   },
   "outputs": [
    {
     "name": "stdout",
     "output_type": "stream",
     "text": [
      "0.001821279525756836\n"
     ]
    }
   ],
   "source": [
    "import time\n",
    "\n",
    "start_time2 = time.time()\n",
    "f3000 = factorialDynamic(3000)\n",
    "elapsed_time2 = time.time() - start_time2\n",
    "print(elapsed_time2)"
   ]
  },
  {
   "cell_type": "markdown",
   "metadata": {
    "colab_type": "text",
    "id": "b05BzVvuQmCD"
   },
   "source": [
    "#### 1만!"
   ]
  },
  {
   "cell_type": "code",
   "execution_count": 31,
   "metadata": {
    "colab": {
     "base_uri": "https://localhost:8080/",
     "height": 34
    },
    "colab_type": "code",
    "id": "AOCye9SEQmCE",
    "outputId": "046c4e1e-d899-4294-aa95-af78d28a9fe1"
   },
   "outputs": [
    {
     "name": "stdout",
     "output_type": "stream",
     "text": [
      "0.020607948303222656\n"
     ]
    }
   ],
   "source": [
    "import time\n",
    "\n",
    "start_time2 = time.time()\n",
    "f10k = factorialDynamic(10000)\n",
    "elapsed_time2 = time.time() - start_time2\n",
    "print(elapsed_time2)"
   ]
  },
  {
   "cell_type": "markdown",
   "metadata": {
    "colab_type": "text",
    "id": "hjxYcDG8QmCF"
   },
   "source": [
    "#### 10만!"
   ]
  },
  {
   "cell_type": "code",
   "execution_count": 32,
   "metadata": {
    "colab": {
     "base_uri": "https://localhost:8080/",
     "height": 34
    },
    "colab_type": "code",
    "id": "yTAZJ51WQmCF",
    "outputId": "1b388b2d-d695-4828-8e5c-ba0ace8b2579"
   },
   "outputs": [
    {
     "name": "stdout",
     "output_type": "stream",
     "text": [
      "1.8773136138916016\n"
     ]
    }
   ],
   "source": [
    "import time\n",
    "\n",
    "start_time2 = time.time()\n",
    "f100k = factorialDynamic(100000)\n",
    "elapsed_time2 = time.time() - start_time2\n",
    "print(elapsed_time2)"
   ]
  },
  {
   "cell_type": "markdown",
   "metadata": {
    "colab_type": "text",
    "id": "d_Ino6XwQmCG"
   },
   "source": [
    "#### 100만! 가능?"
   ]
  },
  {
   "cell_type": "code",
   "execution_count": 33,
   "metadata": {
    "colab": {
     "base_uri": "https://localhost:8080/",
     "height": 34
    },
    "colab_type": "code",
    "id": "gRXtXB-3QmCG",
    "outputId": "cfec3dbb-d25c-4fda-8060-28e838c84dd8"
   },
   "outputs": [
    {
     "name": "stdout",
     "output_type": "stream",
     "text": [
      "234.42753386497498\n"
     ]
    }
   ],
   "source": [
    "import time\n",
    "\n",
    "start_time2 = time.time()\n",
    "f1m = factorialDynamic(1000000)\n",
    "elapsed_time2 = time.time() - start_time2\n",
    "print(elapsed_time2)"
   ]
  },
  {
   "cell_type": "markdown",
   "metadata": {
    "colab_type": "text",
    "id": "YnwqfIcIQmCH"
   },
   "source": [
    "#### 1000만! 가능?"
   ]
  },
  {
   "cell_type": "markdown",
   "metadata": {
    "colab_type": "text",
    "id": "kCgL-9-9QmCH"
   },
   "source": [
    "..."
   ]
  },
  {
   "cell_type": "code",
   "execution_count": null,
   "metadata": {},
   "outputs": [],
   "source": []
  },
  {
   "cell_type": "code",
   "execution_count": null,
   "metadata": {},
   "outputs": [],
   "source": []
  },
  {
   "cell_type": "markdown",
   "metadata": {
    "colab_type": "text",
    "id": "NVzDB9xM7Gwy"
   },
   "source": [
    "# 문제 5\n",
    "\n",
    "(Think Python) 프로그래밍 기본 요소: 집합과 사전 - 연습문제 1번"
   ]
  },
  {
   "cell_type": "code",
   "execution_count": 11,
   "metadata": {
    "colab": {},
    "colab_type": "code",
    "id": "ILnzFDsS7Gwy"
   },
   "outputs": [],
   "source": [
    "def has_duplicates(aList):\n",
    "    a = []\n",
    "    for i in aList:\n",
    "        if i in a:\n",
    "            return True\n",
    "        else:\n",
    "            a.append(i)\n",
    "\n",
    "    return False"
   ]
  },
  {
   "cell_type": "markdown",
   "metadata": {
    "colab_type": "text",
    "id": "rB5z249UQmBt"
   },
   "source": [
    "### 테스팅\n",
    "\n",
    "**주의:** 수정하지 말 것."
   ]
  },
  {
   "cell_type": "code",
   "execution_count": 12,
   "metadata": {
    "colab": {
     "base_uri": "https://localhost:8080/",
     "height": 34
    },
    "colab_type": "code",
    "id": "ju8CmaPNQmBt",
    "outputId": "fdcf041d-4cb5-4ca2-c2f3-e6374e710a99"
   },
   "outputs": [
    {
     "data": {
      "text/plain": [
       "True"
      ]
     },
     "execution_count": 12,
     "metadata": {},
     "output_type": "execute_result"
    }
   ],
   "source": [
    "exc5A = has_duplicates([1, 2, 1, 3]) == True\n",
    "exc5B = has_duplicates(['hello', 'hi', 'hey']) == False\n",
    "exc5C = has_duplicates(['a', [1, 2], 1, 2]) == False\n",
    "exc5D = has_duplicates([True, False, [True, True]]) == False\n",
    "exc5E = has_duplicates([[True, False], True, [True, False]]) == True\n",
    "\n",
    "all([exc5A, exc5B, exc5C, exc5D, exc5E])"
   ]
  },
  {
   "cell_type": "markdown",
   "metadata": {
    "colab_type": "text",
    "id": "QgumEG5V7Gwt"
   },
   "source": [
    "## 문제 4\n",
    "\n",
    "(Think Python) 프로그래밍 기본 요소: 함수 - 연습문제 4번"
   ]
  },
  {
   "cell_type": "code",
   "execution_count": 6,
   "metadata": {
    "colab": {},
    "colab_type": "code",
    "id": "VmINI9qY7Gwu"
   },
   "outputs": [],
   "source": [
    "def printItems2(aList, level):\n",
    "    for item in aList:\n",
    "        if isinstance(item, list):\n",
    "            level=level+1\n",
    "            printItems2(item,level)\n",
    "        else:       \n",
    "            print('\\t'*level,item)"
   ]
  },
  {
   "cell_type": "code",
   "execution_count": 7,
   "metadata": {
    "colab": {},
    "colab_type": "code",
    "id": "PP8fDz797Gwv"
   },
   "outputs": [],
   "source": [
    "moBong = [\"기생충\", 2019, [\"설국열차\", 2013, [\"살인의 추억\", 2003]]]"
   ]
  },
  {
   "cell_type": "code",
   "execution_count": 8,
   "metadata": {
    "colab": {},
    "colab_type": "code",
    "id": "12Jd_xxK7Gwx"
   },
   "outputs": [
    {
     "name": "stdout",
     "output_type": "stream",
     "text": [
      " 기생충\n",
      " 2019\n",
      "\t 설국열차\n",
      "\t 2013\n",
      "\t\t 살인의 추억\n",
      "\t\t 2003\n"
     ]
    }
   ],
   "source": [
    "printItems2(moBong, 0)"
   ]
  },
  {
   "cell_type": "markdown",
   "metadata": {
    "colab_type": "text",
    "id": "NVzDB9xM7Gwy"
   },
   "source": [
    "## 문제 5\n",
    "\n",
    "(Think Python) 프로그래밍 기본 요소: 함수 - 연습문제 5번"
   ]
  },
  {
   "cell_type": "code",
   "execution_count": 9,
   "metadata": {
    "colab": {},
    "colab_type": "code",
    "id": "ILnzFDsS7Gwy"
   },
   "outputs": [],
   "source": [
    "def printItems3(aList, level, indent=False):\n",
    "    for item in aList:\n",
    "        if isinstance(item, list):\n",
    "            level=level+1\n",
    "            printItems3(item,level,indent)\n",
    "        else:\n",
    "            if indent==False:\n",
    "                level=0           \n",
    "            print('\\t'*level,item)"
   ]
  },
  {
   "cell_type": "code",
   "execution_count": 10,
   "metadata": {
    "colab": {},
    "colab_type": "code",
    "id": "I3CmQglz7Gw0"
   },
   "outputs": [
    {
     "name": "stdout",
     "output_type": "stream",
     "text": [
      " 기생충\n",
      " 2019\n",
      " 설국열차\n",
      " 2013\n",
      " 살인의 추억\n",
      " 2003\n"
     ]
    }
   ],
   "source": [
    "printItems3(moBong, 0)"
   ]
  },
  {
   "cell_type": "code",
   "execution_count": 11,
   "metadata": {
    "colab": {},
    "colab_type": "code",
    "id": "owbXo3kD7Gw2"
   },
   "outputs": [
    {
     "name": "stdout",
     "output_type": "stream",
     "text": [
      " 기생충\n",
      " 2019\n",
      "\t 설국열차\n",
      "\t 2013\n",
      "\t\t 살인의 추억\n",
      "\t\t 2003\n"
     ]
    }
   ],
   "source": [
    "printItems3(moBong, 0, True)"
   ]
  },
  {
   "cell_type": "markdown",
   "metadata": {
    "colab_type": "text",
    "id": "uvS5YzyT7Gw4"
   },
   "source": [
    "## 문제 6\n",
    "\n",
    "(Think Python) 프로그래밍 기본 요소: 함수 - 연습문제 6번\n",
    "\n",
    "**힌트:**\n",
    "* 2중 while 반복문 활용\n",
    "* 가장 외곽의 리스트 해체(unpacking). 리스트 슬라이싱 활용.\n",
    "* pop 메서드 활용\n",
    "\n",
    "**주의:** 재귀 절대 사용 불가. while 반복문을 사용한다고 해서 재귀가 아닌 것이 아님. 함수 본체에서 자신을 호출하면 재귀함수가 됨."
   ]
  },
  {
   "cell_type": "code",
   "execution_count": 12,
   "metadata": {
    "colab": {},
    "colab_type": "code",
    "id": "h5TUpzMx7Gw4"
   },
   "outputs": [],
   "source": [
    "def printItemsWhile(aList):\n",
    "    newList=aList.copy()\n",
    "    while (newList):\n",
    "        while(newList and isinstance(newList[0], list)):\n",
    "            newList[0:1]=newList[0]\n",
    "        if (newList):\n",
    "            print(newList.pop(0))  "
   ]
  },
  {
   "cell_type": "code",
   "execution_count": 13,
   "metadata": {
    "colab": {},
    "colab_type": "code",
    "id": "7sSteOb-7Gw5"
   },
   "outputs": [
    {
     "name": "stdout",
     "output_type": "stream",
     "text": [
      "기생충\n",
      "2019\n",
      "설국열차\n",
      "2013\n",
      "살인의 추억\n",
      "2003\n"
     ]
    }
   ],
   "source": [
    "printItemsWhile(moBong)"
   ]
  },
  {
   "cell_type": "markdown",
   "metadata": {},
   "source": [
    "참조: [Flatten an irregular list of lists](https://stackoverflow.com/questions/2158395/flatten-an-irregular-list-of-lists)"
   ]
  },
  {
   "cell_type": "code",
   "execution_count": 14,
   "metadata": {},
   "outputs": [],
   "source": [
    "arbList = [[1,2, [3], 2], 3, [3, 5], [[[[1, [1, 2]]]]], 3, 1]"
   ]
  },
  {
   "cell_type": "code",
   "execution_count": 15,
   "metadata": {
    "colab": {},
    "colab_type": "code",
    "id": "7sSteOb-7Gw5"
   },
   "outputs": [
    {
     "name": "stdout",
     "output_type": "stream",
     "text": [
      "1\n",
      "2\n",
      "3\n",
      "2\n",
      "3\n",
      "3\n",
      "5\n",
      "1\n",
      "1\n",
      "2\n",
      "3\n",
      "1\n"
     ]
    }
   ],
   "source": [
    "printItemsWhile(arbList)"
   ]
  },
  {
   "cell_type": "markdown",
   "metadata": {
    "colab_type": "text",
    "id": "O0zMExi77GxA"
   },
   "source": [
    "## 문제 9\n",
    "\n",
    "(Think Python) 기본 자료형: 리스트 - 연습문제 1번"
   ]
  },
  {
   "cell_type": "code",
   "execution_count": 25,
   "metadata": {
    "colab": {},
    "colab_type": "code",
    "id": "7tZi-kdf7GxA"
   },
   "outputs": [],
   "source": [
    "def nested_sum(aList):\n",
    "    total = 0\n",
    "    for element in aList:\n",
    "        if isinstance(element, list):\n",
    "            total += nested_sum(element)\n",
    "        else:\n",
    "            total += element\n",
    "\n",
    "    return total"
   ]
  },
  {
   "cell_type": "markdown",
   "metadata": {
    "colab_type": "text",
    "id": "ShYnyhjX7GxC"
   },
   "source": [
    "**테스팅**\n",
    "\n",
    "**주의:** 수정하지 말 것."
   ]
  },
  {
   "cell_type": "code",
   "execution_count": 26,
   "metadata": {
    "colab": {},
    "colab_type": "code",
    "id": "b1IbPWmJ7GxC"
   },
   "outputs": [
    {
     "data": {
      "text/plain": [
       "True"
      ]
     },
     "execution_count": 26,
     "metadata": {},
     "output_type": "execute_result"
    }
   ],
   "source": [
    "exc9A = nested_sum([[1, 2], [3], [4, 5, 6]]) == 21\n",
    "exc9B = nested_sum([[1, 2], [3], [4, 6]]) == 16\n",
    "exc9C = nested_sum([[1, 2], [3, [5]], [4, 5, 6]]) == 26\n",
    "exc9D = nested_sum([[1, 2, [[[6]]]], [3], [4, 5, 6]]) == 27\n",
    "exc9E = nested_sum([[1, 2], [3], [4, 5, 6, [1, [3, 6]]]]) == 31\n",
    "\n",
    "all([exc9A, exc9B, exc9C, exc9D, exc9E])"
   ]
  },
  {
   "cell_type": "markdown",
   "metadata": {
    "colab_type": "text",
    "id": "4ED7hV4R7GxD"
   },
   "source": [
    "## 문제 10\n",
    "\n",
    "(Think Python) 기본 자료형: 리스트 - 연습문제 2번"
   ]
  },
  {
   "cell_type": "code",
   "execution_count": 27,
   "metadata": {
    "colab": {},
    "colab_type": "code",
    "id": "cSidmM6R7GxD"
   },
   "outputs": [],
   "source": [
    "def cum_sum(aList):\n",
    "    result = []\n",
    "    total = 0\n",
    "    for i in aList:\n",
    "        total += i\n",
    "        result.append(total)\n",
    "\n",
    "    return result"
   ]
  },
  {
   "cell_type": "markdown",
   "metadata": {
    "colab_type": "text",
    "id": "IxNkMRwZ7GxE"
   },
   "source": [
    "**테스팅**\n",
    "\n",
    "**주의:** 수정하지 말 것."
   ]
  },
  {
   "cell_type": "code",
   "execution_count": 28,
   "metadata": {
    "colab": {},
    "colab_type": "code",
    "id": "DtHy87kE8-Sp"
   },
   "outputs": [
    {
     "data": {
      "text/plain": [
       "True"
      ]
     },
     "execution_count": 28,
     "metadata": {},
     "output_type": "execute_result"
    }
   ],
   "source": [
    "exc10A = cum_sum([1, 2, 3, 4]) == [1, 3, 6, 10]\n",
    "exc10B = cum_sum([1, 3, 5, 7, 9]) == [1, 4, 9, 16, 25]\n",
    "exc10C = cum_sum([2, 3, 5, 8, 13, 21]) == [2, 5, 10, 18, 31, 52]\n",
    "exc10D = cum_sum([5, 6, 8, 11]) == [5, 11, 19, 30]\n",
    "exc10E = cum_sum([3, 10, 5, 16, 8, 4, 2, 1]) == [3, 13, 18, 34, 42, 46, 48, 49]\n",
    "\n",
    "all([exc10A, exc10B, exc10C, exc10D, exc10E])"
   ]
  },
  {
   "cell_type": "code",
   "execution_count": null,
   "metadata": {},
   "outputs": [],
   "source": []
  },
  {
   "cell_type": "code",
   "execution_count": null,
   "metadata": {},
   "outputs": [],
   "source": []
  },
  {
   "cell_type": "code",
   "execution_count": null,
   "metadata": {},
   "outputs": [],
   "source": []
  },
  {
   "cell_type": "markdown",
   "metadata": {
    "id": "gSF_tBKvfg9V"
   },
   "source": [
    "**문제1) 아래 리스트는 4중 리스트이다.**\n",
    "\n",
    "`a_nested_list = [0, [1, [2, [3, 4], 5]], 6, [7, 8, 9], 10]`  \n",
    "\n",
    "(1) 위 리스트에서 `7`를 얻는 방법은?"
   ]
  },
  {
   "cell_type": "code",
   "execution_count": null,
   "metadata": {
    "id": "o_m9NzFR1tD_"
   },
   "outputs": [],
   "source": [
    "a_nested_list = [0, [1, [2, [3, 4], 5]], 6, [7, 8, 9], 10]"
   ]
  },
  {
   "cell_type": "code",
   "execution_count": null,
   "metadata": {
    "colab": {
     "base_uri": "https://localhost:8080/"
    },
    "executionInfo": {
     "elapsed": 563,
     "status": "ok",
     "timestamp": 1617421651581,
     "user": {
      "displayName": "­정성엽 / 학생 / 컴퓨터공학부",
      "photoUrl": "",
      "userId": "12165438926956780307"
     },
     "user_tz": -540
    },
    "id": "oY_cICv31wP6",
    "outputId": "f5601149-3e22-4f54-c231-d3d965127c1c"
   },
   "outputs": [
    {
     "data": {
      "text/plain": [
       "7"
      ]
     },
     "execution_count": 3,
     "metadata": {
      "tags": []
     },
     "output_type": "execute_result"
    }
   ],
   "source": [
    "a_nested_list[3][0]"
   ]
  },
  {
   "cell_type": "markdown",
   "metadata": {
    "id": "PusdXITPgxVB"
   },
   "source": [
    "(2) 위 리스트에서 `[2, [3, 4], 5]`를 얻는 방법은?"
   ]
  },
  {
   "cell_type": "code",
   "execution_count": null,
   "metadata": {
    "colab": {
     "base_uri": "https://localhost:8080/"
    },
    "executionInfo": {
     "elapsed": 526,
     "status": "ok",
     "timestamp": 1617421701204,
     "user": {
      "displayName": "­정성엽 / 학생 / 컴퓨터공학부",
      "photoUrl": "",
      "userId": "12165438926956780307"
     },
     "user_tz": -540
    },
    "id": "U4z-dGTH1-0V",
    "outputId": "9e1c0faa-22e6-41ef-9b10-64dc1140241f"
   },
   "outputs": [
    {
     "data": {
      "text/plain": [
       "[2, [3, 4], 5]"
      ]
     },
     "execution_count": 4,
     "metadata": {
      "tags": []
     },
     "output_type": "execute_result"
    }
   ],
   "source": [
    "a_nested_list[1][1]"
   ]
  },
  {
   "cell_type": "markdown",
   "metadata": {
    "id": "j_7rd4kFgV4o"
   },
   "source": [
    "(3) 위 리스트에서 `4`를 얻는 방법은?"
   ]
  },
  {
   "cell_type": "code",
   "execution_count": null,
   "metadata": {
    "colab": {
     "base_uri": "https://localhost:8080/"
    },
    "executionInfo": {
     "elapsed": 556,
     "status": "ok",
     "timestamp": 1617421769129,
     "user": {
      "displayName": "­정성엽 / 학생 / 컴퓨터공학부",
      "photoUrl": "",
      "userId": "12165438926956780307"
     },
     "user_tz": -540
    },
    "id": "Ht0G8w-Z2KBv",
    "outputId": "d50a6b5a-72ea-4f5e-f7a0-cdd44d5aaa2d"
   },
   "outputs": [
    {
     "data": {
      "text/plain": [
       "4"
      ]
     },
     "execution_count": 7,
     "metadata": {
      "tags": []
     },
     "output_type": "execute_result"
    }
   ],
   "source": [
    "a_nested_list[1][1][1][1]"
   ]
  },
  {
   "cell_type": "markdown",
   "metadata": {
    "id": "LI2MPm0oix4t"
   },
   "source": [
    "**문제2) 아래 리스트를 리스트 조건제시법으로 구현하여라**   \n",
    "\n",
    "(1) [3, 6, 9, 12, 15]"
   ]
  },
  {
   "cell_type": "code",
   "execution_count": null,
   "metadata": {
    "colab": {
     "base_uri": "https://localhost:8080/"
    },
    "executionInfo": {
     "elapsed": 514,
     "status": "ok",
     "timestamp": 1617421953459,
     "user": {
      "displayName": "­정성엽 / 학생 / 컴퓨터공학부",
      "photoUrl": "",
      "userId": "12165438926956780307"
     },
     "user_tz": -540
    },
    "id": "IonO7clZ2ce9",
    "outputId": "1a2bc9e9-6953-4a81-92bc-9d61dc36b9d1"
   },
   "outputs": [
    {
     "name": "stdout",
     "output_type": "stream",
     "text": [
      "[3, 6, 9, 12, 15]\n"
     ]
    }
   ],
   "source": [
    "# ans1 = [ 3*x for x in range(1,6) ] or\n",
    "ans1 = [ x for x in range(1,16) if x % 3 == 0]\n",
    "print(ans1)"
   ]
  },
  {
   "cell_type": "markdown",
   "metadata": {
    "id": "r5Z6wNXDYeBw"
   },
   "source": [
    "(2)수학에서 사용되는 대표적인 지수함수인 $f(x) = e^x$는 `math` 모듈의 `exp()`로 정의되어 있다. \n",
    "<center>[ $e^3, e^6, e^9, e^{12}, e^{15}$ ] </center>"
   ]
  },
  {
   "cell_type": "code",
   "execution_count": null,
   "metadata": {
    "colab": {
     "base_uri": "https://localhost:8080/"
    },
    "executionInfo": {
     "elapsed": 816,
     "status": "ok",
     "timestamp": 1617421993152,
     "user": {
      "displayName": "­정성엽 / 학생 / 컴퓨터공학부",
      "photoUrl": "",
      "userId": "12165438926956780307"
     },
     "user_tz": -540
    },
    "id": "rPdA-XCO2jwb",
    "outputId": "b2da55df-d4fb-4e86-fc9a-7339dd928279"
   },
   "outputs": [
    {
     "name": "stdout",
     "output_type": "stream",
     "text": [
      "[20.085536923187668, 403.4287934927351, 8103.083927575384, 162754.79141900392, 3269017.3724721107]\n"
     ]
    }
   ],
   "source": [
    "from math import exp\n",
    "# ans2 = [exp(x) for x in ans1] or\n",
    "# ans2 = [ exp(3**x) for x in range(1,6) ] or\n",
    "ans2 = [ exp(x) for x in range(1,16) if x % 3 == 0]\n",
    "print(ans2)"
   ]
  },
  {
   "cell_type": "markdown",
   "metadata": {
    "id": "O0N9QFrJYrpR"
   },
   "source": [
    "(3) [1, 5, 7, 11, 13, 17, 19]  \n",
    "hint) 2의 배수와 3의 배수가 아닌 1에서 20사이의 정수들을 항목으로 갖는 리스트"
   ]
  },
  {
   "cell_type": "code",
   "execution_count": null,
   "metadata": {
    "colab": {
     "base_uri": "https://localhost:8080/"
    },
    "executionInfo": {
     "elapsed": 551,
     "status": "ok",
     "timestamp": 1617424980552,
     "user": {
      "displayName": "­정성엽 / 학생 / 컴퓨터공학부",
      "photoUrl": "",
      "userId": "12165438926956780307"
     },
     "user_tz": -540
    },
    "id": "c9vXrJ5jCb1o",
    "outputId": "1847f543-e743-4f28-e507-8ecde62de181"
   },
   "outputs": [
    {
     "name": "stdout",
     "output_type": "stream",
     "text": [
      "[1, 5, 7, 11, 13, 17, 19]\n"
     ]
    }
   ],
   "source": [
    "ans3 = [ i for i in range(1,20) if i % 2 != 0 and i % 3 != 0 ]\n",
    "print(ans3)"
   ]
  },
  {
   "cell_type": "markdown",
   "metadata": {
    "id": "rOtfcGMwjxwI"
   },
   "source": [
    "**문제3) 리스트 `['dog', 'cat']`를 `['dog', 'cat', ['tiger', 'eagle']]`로 변경하는 코드를 작성하여라.**  \n",
    "\n"
   ]
  },
  {
   "cell_type": "markdown",
   "metadata": {
    "id": "pvNdy3SgrBK4"
   },
   "source": [
    "(1) 슬라이싱 이용"
   ]
  },
  {
   "cell_type": "code",
   "execution_count": null,
   "metadata": {
    "colab": {
     "base_uri": "https://localhost:8080/"
    },
    "executionInfo": {
     "elapsed": 542,
     "status": "ok",
     "timestamp": 1617485971835,
     "user": {
      "displayName": "HJ Kim",
      "photoUrl": "",
      "userId": "16634276932240017990"
     },
     "user_tz": -540
    },
    "id": "aheNR5WrrDnx",
    "outputId": "b3bd9a94-4876-468d-d024-e2b7edd870e6"
   },
   "outputs": [
    {
     "name": "stdout",
     "output_type": "stream",
     "text": [
      "['dog', 'cat', ['tiger', 'eagle']]\n"
     ]
    }
   ],
   "source": [
    "animal = ['dog', 'cat']\n",
    "animal[2:] = [['tiger', 'eagle']]\n",
    "print(animal)"
   ]
  },
  {
   "cell_type": "markdown",
   "metadata": {
    "id": "8QeD0HIylIT-"
   },
   "source": [
    "(2) `append()` 메소드 이용"
   ]
  },
  {
   "cell_type": "code",
   "execution_count": null,
   "metadata": {
    "colab": {
     "base_uri": "https://localhost:8080/"
    },
    "executionInfo": {
     "elapsed": 594,
     "status": "ok",
     "timestamp": 1617422377212,
     "user": {
      "displayName": "­정성엽 / 학생 / 컴퓨터공학부",
      "photoUrl": "",
      "userId": "12165438926956780307"
     },
     "user_tz": -540
    },
    "id": "LZSffzHA4o6N",
    "outputId": "6cfd1611-2618-42e1-f1d9-872e47418847"
   },
   "outputs": [
    {
     "name": "stdout",
     "output_type": "stream",
     "text": [
      "['dog', 'cat', ['tiger', 'eagle']]\n"
     ]
    }
   ],
   "source": [
    "animal = ['dog', 'cat']\n",
    "animal.append(['tiger', 'eagle'])\n",
    "print(animal)"
   ]
  },
  {
   "cell_type": "markdown",
   "metadata": {
    "id": "CL0sgjc7lLF8"
   },
   "source": [
    "(3) `extend()` 메소드 이용"
   ]
  },
  {
   "cell_type": "code",
   "execution_count": null,
   "metadata": {
    "colab": {
     "base_uri": "https://localhost:8080/"
    },
    "executionInfo": {
     "elapsed": 660,
     "status": "ok",
     "timestamp": 1617422480792,
     "user": {
      "displayName": "­정성엽 / 학생 / 컴퓨터공학부",
      "photoUrl": "",
      "userId": "12165438926956780307"
     },
     "user_tz": -540
    },
    "id": "hExv0_mw4vNL",
    "outputId": "ebe534ef-4a05-4e99-aeff-02b585784fcb"
   },
   "outputs": [
    {
     "name": "stdout",
     "output_type": "stream",
     "text": [
      "['dog', 'cat', ['tiger', 'eagle']]\n"
     ]
    }
   ],
   "source": [
    "animal = ['dog', 'cat']\n",
    "animal.extend([['tiger', 'eagle']])\n",
    "print(animal)"
   ]
  },
  {
   "cell_type": "markdown",
   "metadata": {
    "id": "59dGojCWlinp"
   },
   "source": [
    "(4) `insert()` 메소드 이용"
   ]
  },
  {
   "cell_type": "code",
   "execution_count": null,
   "metadata": {
    "colab": {
     "base_uri": "https://localhost:8080/"
    },
    "executionInfo": {
     "elapsed": 532,
     "status": "ok",
     "timestamp": 1617422541222,
     "user": {
      "displayName": "­정성엽 / 학생 / 컴퓨터공학부",
      "photoUrl": "",
      "userId": "12165438926956780307"
     },
     "user_tz": -540
    },
    "id": "uL-iwQhF5Io3",
    "outputId": "01eafa61-8505-4b03-82ac-1266f416929d"
   },
   "outputs": [
    {
     "name": "stdout",
     "output_type": "stream",
     "text": [
      "['dog', 'cat', ['tiger', 'eagle']]\n"
     ]
    }
   ],
   "source": [
    "animal = ['dog', 'cat']\n",
    "animal.insert(2,['tiger', 'eagle'])\n",
    "print(animal)"
   ]
  },
  {
   "cell_type": "markdown",
   "metadata": {
    "id": "6rbBfU4zeMtO"
   },
   "source": [
    "**문제4) 영어단어를 인자로 받아 알파벳순으로 리턴하는 함수인 `abc()` 함수를 구현하여라.**  \n",
    "\n",
    "```\n",
    "In [3]: abc('dog')\n",
    "Out[3]: 'dgo'\n",
    "```"
   ]
  },
  {
   "cell_type": "code",
   "execution_count": 1,
   "metadata": {
    "executionInfo": {
     "elapsed": 702,
     "status": "ok",
     "timestamp": 1617770058506,
     "user": {
      "displayName": "HJ Kim",
      "photoUrl": "",
      "userId": "16634276932240017990"
     },
     "user_tz": -540
    },
    "id": "5ktqrX1umtyZ"
   },
   "outputs": [],
   "source": [
    "def abc(s) :\n",
    "  a_list = []\n",
    "  a_list.extend(s)\n",
    "  a_list.sort()\n",
    "  ret = \"\"\n",
    "  for i in a_list :\n",
    "    ret += i\n",
    "  return ret"
   ]
  },
  {
   "cell_type": "code",
   "execution_count": 2,
   "metadata": {
    "colab": {
     "base_uri": "https://localhost:8080/",
     "height": 35
    },
    "executionInfo": {
     "elapsed": 695,
     "status": "ok",
     "timestamp": 1617770067594,
     "user": {
      "displayName": "HJ Kim",
      "photoUrl": "",
      "userId": "16634276932240017990"
     },
     "user_tz": -540
    },
    "id": "-uzPU5vinBz4",
    "outputId": "b96dda98-2f31-4776-d1a6-77e18c1341e8"
   },
   "outputs": [
    {
     "data": {
      "application/vnd.google.colaboratory.intrinsic+json": {
       "type": "string"
      },
      "text/plain": [
       "'dgo'"
      ]
     },
     "execution_count": 2,
     "metadata": {
      "tags": []
     },
     "output_type": "execute_result"
    }
   ],
   "source": [
    "abc('dog')"
   ]
  },
  {
   "cell_type": "markdown",
   "metadata": {
    "id": "T2ZcAP3EsYEO"
   },
   "source": [
    "참고) 아래의 내용을 참고하여 코드를 작성할 수도 있다.  \n",
    "* 빈 리스트는 `list()`로 생성할 수 있다. 이때 인자를 문자열로 둔다면 각 문자 단위로 리스트를 만든다. "
   ]
  },
  {
   "cell_type": "code",
   "execution_count": null,
   "metadata": {
    "colab": {
     "base_uri": "https://localhost:8080/"
    },
    "executionInfo": {
     "elapsed": 573,
     "status": "ok",
     "timestamp": 1617486882202,
     "user": {
      "displayName": "HJ Kim",
      "photoUrl": "",
      "userId": "16634276932240017990"
     },
     "user_tz": -540
    },
    "id": "23tfPD-fuvsM",
    "outputId": "aacb8eb4-c2a2-4d47-a8a0-853814ae0e61"
   },
   "outputs": [
    {
     "data": {
      "text/plain": [
       "['H', 'e', 'l', 'l', 'o']"
      ]
     },
     "execution_count": 10,
     "metadata": {
      "tags": []
     },
     "output_type": "execute_result"
    }
   ],
   "source": [
    "list(\"Hello\")"
   ]
  },
  {
   "cell_type": "code",
   "execution_count": null,
   "metadata": {
    "id": "cPFUOEAc5a1-"
   },
   "outputs": [],
   "source": [
    "'''\n",
    "def 함수이름(매개변수1, ..., 매개변수n) : \n",
    "  ...\n",
    "  ...\n",
    "  return \n",
    "'''\n",
    "def abc_v1(s) : \n",
    "  s = list(s)\n",
    "  s.sort()\n",
    "  ret = \"\"\n",
    "  for i in s:\n",
    "    ret += i\n",
    "  return ret"
   ]
  },
  {
   "cell_type": "code",
   "execution_count": null,
   "metadata": {
    "colab": {
     "base_uri": "https://localhost:8080/"
    },
    "executionInfo": {
     "elapsed": 690,
     "status": "ok",
     "timestamp": 1617486243891,
     "user": {
      "displayName": "HJ Kim",
      "photoUrl": "",
      "userId": "16634276932240017990"
     },
     "user_tz": -540
    },
    "id": "cZiphaJo5-ax",
    "outputId": "01123097-720e-4b79-9dd4-0b280ee7afe7"
   },
   "outputs": [
    {
     "name": "stdout",
     "output_type": "stream",
     "text": [
      "dgo\n"
     ]
    }
   ],
   "source": [
    "print(abc_v1(\"dog\"))"
   ]
  },
  {
   "cell_type": "markdown",
   "metadata": {
    "id": "EvMVeeeduz7H"
   },
   "source": [
    "참고) 아래의 내용을 참고하여 코드를 작성할 수도 있다.  \n",
    "* `join()` 메소드는 문자열 메소드\n",
    "  * `'구분자(sep)'.join(문자열)` : 문자열의 각 문자 사이에 구분자(sep)를 넣어서 하나의 문자열로 합하여 반환\n",
    "  * `'구분자(sep)'.join(리스트)` : 리스트의 각 항목 사이에 구분자(sep)를 넣어서 하나의 문자열로 합하여 반환. 이때 리스트의 각 항목은 문자열."
   ]
  },
  {
   "cell_type": "code",
   "execution_count": null,
   "metadata": {
    "colab": {
     "base_uri": "https://localhost:8080/",
     "height": 35
    },
    "executionInfo": {
     "elapsed": 552,
     "status": "ok",
     "timestamp": 1617487655788,
     "user": {
      "displayName": "HJ Kim",
      "photoUrl": "",
      "userId": "16634276932240017990"
     },
     "user_tz": -540
    },
    "id": "Gj0mjbp5xqvZ",
    "outputId": "49229d7a-247a-4a4d-dc7e-5c69d8231547"
   },
   "outputs": [
    {
     "data": {
      "application/vnd.google.colaboratory.intrinsic+json": {
       "type": "string"
      },
      "text/plain": [
       "'H,e,l,l,o'"
      ]
     },
     "execution_count": 11,
     "metadata": {
      "tags": []
     },
     "output_type": "execute_result"
    }
   ],
   "source": [
    "','.join(\"Hello\")"
   ]
  },
  {
   "cell_type": "code",
   "execution_count": null,
   "metadata": {
    "colab": {
     "base_uri": "https://localhost:8080/"
    },
    "executionInfo": {
     "elapsed": 510,
     "status": "ok",
     "timestamp": 1617487751039,
     "user": {
      "displayName": "HJ Kim",
      "photoUrl": "",
      "userId": "16634276932240017990"
     },
     "user_tz": -540
    },
    "id": "_KveN29-xy3w",
    "outputId": "149d0df1-cfef-45c2-eba0-c831d7859b17"
   },
   "outputs": [
    {
     "name": "stdout",
     "output_type": "stream",
     "text": [
      "a-b-c\n",
      "H,e,l,l,o\n"
     ]
    }
   ],
   "source": [
    "print('-'.join([\"a\", \"b\", \"c\"]))\n",
    "print(','.join(list(\"Hello\")))"
   ]
  },
  {
   "cell_type": "markdown",
   "metadata": {
    "id": "9here4gJyvyO"
   },
   "source": [
    "* `sorted()` 함수는 원래의 리스트를 건드리지 않으면서 정렬된 리스트를 생성.  \n",
    "주의) `sort()` 메소드는 원래의 리스트 자체를 변경함."
   ]
  },
  {
   "cell_type": "code",
   "execution_count": null,
   "metadata": {
    "colab": {
     "base_uri": "https://localhost:8080/"
    },
    "executionInfo": {
     "elapsed": 638,
     "status": "ok",
     "timestamp": 1617488068094,
     "user": {
      "displayName": "HJ Kim",
      "photoUrl": "",
      "userId": "16634276932240017990"
     },
     "user_tz": -540
    },
    "id": "AWcXQhzIzEOA",
    "outputId": "e62845b1-59b1-438d-f956-002020e90621"
   },
   "outputs": [
    {
     "name": "stdout",
     "output_type": "stream",
     "text": [
      "[5, 3, 7, 1]\n",
      "[1, 3, 5, 7]\n"
     ]
    }
   ],
   "source": [
    "a_list = [5, 3, 7, 1]\n",
    "sorted_list = sorted(a_list)\n",
    "\n",
    "print(a_list)\n",
    "print(sorted_list)"
   ]
  },
  {
   "cell_type": "code",
   "execution_count": null,
   "metadata": {
    "id": "ieI2HSODsQe9"
   },
   "outputs": [],
   "source": [
    "def abc_v2(s) :\n",
    "  s = list(s)\n",
    "  ret = \"\".join(sorted(s))\n",
    "  return ret\n"
   ]
  },
  {
   "cell_type": "code",
   "execution_count": null,
   "metadata": {
    "colab": {
     "base_uri": "https://localhost:8080/"
    },
    "executionInfo": {
     "elapsed": 483,
     "status": "ok",
     "timestamp": 1617486246449,
     "user": {
      "displayName": "HJ Kim",
      "photoUrl": "",
      "userId": "16634276932240017990"
     },
     "user_tz": -540
    },
    "id": "v4DAcqQfsTC3",
    "outputId": "c2cef55e-cdf3-48c6-f123-eb8d1680ae09"
   },
   "outputs": [
    {
     "name": "stdout",
     "output_type": "stream",
     "text": [
      "dgo\n"
     ]
    }
   ],
   "source": [
    "print(abc_v2(\"dog\"))"
   ]
  },
  {
   "cell_type": "markdown",
   "metadata": {
    "id": "GrMIe3hSr8Ph"
   },
   "source": [
    "```\n",
    "\n",
    "\n",
    "\n",
    "\n",
    "\n",
    "\n",
    "\n",
    ".\n",
    "```"
   ]
  },
  {
   "cell_type": "code",
   "execution_count": null,
   "metadata": {},
   "outputs": [],
   "source": []
  },
  {
   "cell_type": "code",
   "execution_count": null,
   "metadata": {},
   "outputs": [],
   "source": []
  },
  {
   "cell_type": "markdown",
   "metadata": {
    "id": "6HxPOS4SqZ2t"
   },
   "source": [
    "**문제**"
   ]
  },
  {
   "cell_type": "markdown",
   "metadata": {
    "id": "6HxPOS4SqZ2t"
   },
   "source": [
    "`sorted()` 함수는 리스트를 크기 기준 오름차순으로 정렬한다. "
   ]
  },
  {
   "cell_type": "code",
   "execution_count": 1,
   "metadata": {
    "colab": {
     "base_uri": "https://localhost:8080/"
    },
    "id": "dkk2cqIiqkLh",
    "outputId": "2893d300-b575-4a36-f7c4-a83d35dddf9a"
   },
   "outputs": [
    {
     "data": {
      "text/plain": [
       "[1, 2, 3, 4, 5]"
      ]
     },
     "execution_count": 1,
     "metadata": {},
     "output_type": "execute_result"
    }
   ],
   "source": [
    "a_list = [3, 2, 1, 4, 5]\n",
    "sorted_list = sorted(a_list)\n",
    "sorted_list"
   ]
  },
  {
   "cell_type": "markdown",
   "metadata": {
    "id": "ng7hQMCTq9yh"
   },
   "source": [
    "아래 코드에서 `rev_sorted_list` 변수가 `a_list`를 크기 기준 오름차순으로 정렬한 리스트를 참조하도록 `None` 값을 적절한 표현식으로 대체하라.\n",
    "\n",
    "즉, 아래가 성립해야 한다.\n",
    "\n",
    "```python\n",
    "rev_sorted_list = [5, 4, 3, 2, 1]\n",
    "```\n",
    "\n",
    "힌트: `sorted()` 함수의 키워드 인자 활용"
   ]
  },
  {
   "cell_type": "code",
   "execution_count": 2,
   "metadata": {
    "colab": {
     "base_uri": "https://localhost:8080/"
    },
    "id": "mrYqh9_qq5Dp",
    "outputId": "b3eb2c9d-e0c4-4de3-aa22-d04089a886b9"
   },
   "outputs": [
    {
     "name": "stdout",
     "output_type": "stream",
     "text": [
      "None\n"
     ]
    }
   ],
   "source": [
    "# None을 sorted(a_list, ...) 형식의 표현식으로 대체해야 함\n",
    "# sorted() 함수의 키워드 인자를 반드시 사용해야 함.\n",
    "# 단순히 리스트를 입력하면 0점 처리됨.\n",
    "\n",
    "rev_sorted_list = None\n",
    "\n",
    "print(rev_sorted_list)"
   ]
  },
  {
   "cell_type": "markdown",
   "metadata": {
    "id": "_jbOaYOv4GO0"
   },
   "source": [
    "**문제**"
   ]
  },
  {
   "cell_type": "markdown",
   "metadata": {
    "id": "_jbOaYOv4GO0"
   },
   "source": [
    "`datetime` 모듈의 `datetime` 객체가 아래와 같이 주어졌다.\n",
    "\n",
    "```python\n",
    "dt = datetime(2021, 3, 14, 15, 5, 20)\n",
    "```\n",
    "\n",
    "변수 `current_time`이 아래 문자열을 가리키도록 아래 코드를 완성하라."
   ]
  },
  {
   "cell_type": "code",
   "execution_count": 3,
   "metadata": {
    "id": "Du-N2j9QXzxK"
   },
   "outputs": [],
   "source": [
    "current_time_string = \"오늘은 2021년 3월 14일이고, 현재 시각은 오후 3시 5분 20초입니다.\""
   ]
  },
  {
   "cell_type": "markdown",
   "metadata": {
    "id": "CCTPSOZ-X1O7"
   },
   "source": [
    "힌트: datetime 객체의 다양한 메서드 활용 및 적절한 f-문자열 지정\n",
    "\n",
    "- 참고: [datetime 클래스 문서](https://docs.python.org/ko/3/library/datetime.html)\n",
    "- 참고: [f-문자열 포매팅](https://wikidocs.net/13#f)"
   ]
  },
  {
   "cell_type": "code",
   "execution_count": 4,
   "metadata": {
    "id": "7DG6gVYH5F69"
   },
   "outputs": [],
   "source": [
    "from datetime import datetime, date, time\n",
    "\n",
    "dt = datetime(2021, 3, 14, 15, 5, 20)"
   ]
  },
  {
   "cell_type": "code",
   "execution_count": 5,
   "metadata": {
    "id": "3r7wlGp15psQ"
   },
   "outputs": [],
   "source": [
    "# 추가 코드가 필요하면 여기에 작성\n",
    "\n"
   ]
  },
  {
   "cell_type": "code",
   "execution_count": 6,
   "metadata": {
    "colab": {
     "base_uri": "https://localhost:8080/"
    },
    "id": "gBn1qhcT5Wei",
    "outputId": "51f50cf1-a19c-48f8-fd2e-aa84de1de69b"
   },
   "outputs": [
    {
     "name": "stdout",
     "output_type": "stream",
     "text": [
      "None\n"
     ]
    }
   ],
   "source": [
    "# None을 적절한 f-문자열로 대체하라.\n",
    "# datetime 객체의 다양한 메서드를 사용할 것.\n",
    "# current_time_string에 사용된 문자열을 그대로 작성할 경우 0점 처리됨.\n",
    "\n",
    "current_time = None\n",
    "\n",
    "print(current_time)"
   ]
  },
  {
   "cell_type": "markdown",
   "metadata": {
    "id": "AvifUNZOvSkU"
   },
   "source": [
    "**문제**"
   ]
  },
  {
   "cell_type": "markdown",
   "metadata": {
    "id": "AvifUNZOvSkU"
   },
   "source": [
    "0부터 10까지의 수 중에서 3의 배수를 제외한 항목으로 이루어진 리스트를 \n",
    "생성하도록 아래 코드를 완성하라.\n",
    "\n",
    "즉, `list10` 변수는 최종적으로 아래 값을 가리켜야 한다.\n",
    "\n",
    "```python\n",
    "[1, 2, 4, 5, 7, 8, 10]\n",
    "```\n",
    "\n",
    "힌트: `for` 반복문과 `continue` 예약어 활용"
   ]
  },
  {
   "cell_type": "code",
   "execution_count": 7,
   "metadata": {
    "colab": {
     "base_uri": "https://localhost:8080/"
    },
    "id": "glnrGCIZvuwT",
    "outputId": "d935be85-e587-4c24-8481-1a510672f7e3"
   },
   "outputs": [
    {
     "name": "stdout",
     "output_type": "stream",
     "text": [
      "[]\n"
     ]
    }
   ],
   "source": [
    "# pass 예약어를 적절한 코드로 대체하세요.\n",
    "# for 반복문을 range() 함수와 함께 활용\n",
    "\n",
    "list10 = []\n",
    "\n",
    "pass\n",
    "\n",
    "print(list10)"
   ]
  },
  {
   "cell_type": "markdown",
   "metadata": {
    "id": "2cFz6sWv2nXs"
   },
   "source": [
    "**문제**"
   ]
  },
  {
   "cell_type": "markdown",
   "metadata": {
    "id": "2cFz6sWv2nXs"
   },
   "source": [
    "리스트를 입력 받아 사전으로 변환하는 `list_enum()` 함수를 정의하라.\n",
    "단, 키는 항목의 인덱스를 사용한다.\n",
    "\n",
    "예제:\n",
    "\n",
    "```python\n",
    "list_enum(['a', 'b', 'c']) = {0: 'a', 1: 'b', 2: 'c'}\n",
    "list_enum([4, 6, 9, 2]) = {0: 4, 1: 6, 2: 9, 3: 2}\n",
    "```\n",
    "\n",
    "힌트: `enumerate()` 함수 활용"
   ]
  },
  {
   "cell_type": "code",
   "execution_count": 8,
   "metadata": {
    "id": "EPsXQ6Uk3u_c"
   },
   "outputs": [],
   "source": [
    "# 추가 코드가 필요하면 여기에 작성\n",
    "\n"
   ]
  },
  {
   "cell_type": "code",
   "execution_count": 9,
   "metadata": {
    "colab": {
     "base_uri": "https://localhost:8080/"
    },
    "id": "-RXW9NFN4Ck5",
    "outputId": "adf53c89-e96a-4832-dae4-8f12393cff6e"
   },
   "outputs": [
    {
     "name": "stdout",
     "output_type": "stream",
     "text": [
      "{}\n",
      "{}\n"
     ]
    }
   ],
   "source": [
    "# pass 부분을 적절한 코드로 대체할 것\n",
    "\n",
    "def list_enum(xs):\n",
    "    idx_dict = {}\n",
    "    \n",
    "    pass\n",
    "\n",
    "    return idx_dict\n",
    "\n",
    "print(list_enum(['a', 'b', 'c']))\n",
    "print(list_enum([4, 6, 9, 2]))"
   ]
  },
  {
   "cell_type": "markdown",
   "metadata": {
    "id": "EJXE5h5ThUOs"
   },
   "source": [
    "**문제**"
   ]
  },
  {
   "cell_type": "markdown",
   "metadata": {
    "id": "EJXE5h5ThUOs"
   },
   "source": [
    "문자열로 이루어진 리스트가 입력되었을 때 아래 항목들을 갖는 사전 객체를 반환하는 함수 `list2dic()` 함수를 구현하라.\n",
    "\n",
    "반한된 사전의 항목은 아래 형식을 갖는다.\n",
    "\n",
    "- 키(key): 리스트에 사용된 항목\n",
    "- 값(value): 키(key)가 리스트에서 사용된 횟수\n",
    "\n",
    "힌트: `list2dic()` 함수는 아래와 같이 작동해야 한다.\n",
    "\n",
    "```\n",
    "list2dic([2, 5, 2, 3, 3, 2]) = {2: [0, 2, 5], 3: [3, 4], 5: [1]}\n",
    "list2dic([15, 3, 15, 1, 3, 8]) = {1: [3], 3: [1, 4], 8: [5], 15: [0, 2]}\n",
    "```\n",
    "\n",
    "힌트: `enumerate()` 함수, 리스트의 `count()` 메서드,\n",
    "`collections` 모듈의 `defaultdict` 클래스를 이용한다.\n",
    "\n",
    "참고: [사전 기본값 처리](https://www.daleseo.com/python-collections-defaultdict/)"
   ]
  },
  {
   "cell_type": "code",
   "execution_count": 10,
   "metadata": {
    "id": "7HwOqPEkjZRf"
   },
   "outputs": [],
   "source": [
    "from collections import defaultdict"
   ]
  },
  {
   "cell_type": "code",
   "execution_count": 11,
   "metadata": {
    "id": "nR-KsYAWKK8u"
   },
   "outputs": [],
   "source": [
    "# 추가 코드가 필요하면 여기에 작성\n",
    "\n"
   ]
  },
  {
   "cell_type": "code",
   "execution_count": 12,
   "metadata": {
    "colab": {
     "base_uri": "https://localhost:8080/"
    },
    "id": "bdFl6zxWKGpI",
    "outputId": "941f0683-d6fa-4035-d208-a6393b39ca99"
   },
   "outputs": [
    {
     "name": "stdout",
     "output_type": "stream",
     "text": [
      "None\n",
      "None\n"
     ]
    }
   ],
   "source": [
    "# pass 부분을 적절한 코드로 대체할 것\n",
    "# None 값을 적절한 표현식으로 대체할 것\n",
    "\n",
    "def list2dic(xs):\n",
    "    pass\n",
    "\n",
    "    return None\n",
    "\n",
    "print(list2dic([2, 5, 2, 3, 3, 2]))\n",
    "print(list2dic([15, 3, 15, 1, 3, 8]))"
   ]
  },
  {
   "cell_type": "markdown",
   "metadata": {
    "id": "IVMgvZTidFz0"
   },
   "source": [
    "**문제**"
   ]
  },
  {
   "cell_type": "markdown",
   "metadata": {
    "id": "IVMgvZTidFz0"
   },
   "source": [
    "리스트를 인자로 받아서 사용된 항목의 개수를 반환하는 함수 \n",
    "`count_elem()`를 구현하라.\n",
    "단, 중복 항목은 하나로 간주한다.\n",
    "\n",
    "`count_elem()` 함수는 아래와 같이 작동해야 한다.\n",
    "\n",
    "```\n",
    "count_elem([2, 5, 2, 3, 3, 8, 2, 7]) = 5\n",
    "count_elem([15, 3, 15, 1, 3]) = 3\n",
    "```\n",
    "\n",
    "힌트: `set()` 함수 활용"
   ]
  },
  {
   "cell_type": "code",
   "execution_count": 13,
   "metadata": {
    "id": "9aJlY1rLdyyh"
   },
   "outputs": [],
   "source": [
    "# 추가 코드가 필요하면 여기에 작성\n",
    "\n"
   ]
  },
  {
   "cell_type": "code",
   "execution_count": 14,
   "metadata": {
    "colab": {
     "base_uri": "https://localhost:8080/"
    },
    "id": "zzipN9zjKCSx",
    "outputId": "7463b911-fc6c-42f1-8ef7-95092ce436b5"
   },
   "outputs": [
    {
     "name": "stdout",
     "output_type": "stream",
     "text": [
      "None\n",
      "None\n"
     ]
    }
   ],
   "source": [
    "# pass 부분을 적절한 코드로 대체할 것\n",
    "# None 값을 적절한 표현식으로 대체할 것\n",
    "\n",
    "def count_elem(xs):\n",
    "    pass\n",
    "\n",
    "    return None\n",
    "\n",
    "print(count_elem([2, 5, 2, 3, 3, 8, 2, 7]))\n",
    "print(count_elem([15, 3, 15, 1, 3]))"
   ]
  },
  {
   "cell_type": "markdown",
   "metadata": {
    "id": "CDZgxQlTz20T"
   },
   "source": [
    "**문제**"
   ]
  },
  {
   "cell_type": "markdown",
   "metadata": {
    "id": "CDZgxQlTz20T"
   },
   "source": [
    "0부터 10까지의 자연수 중에서 3으로 나눈 나머지가 2인 수의 제곱으로 이루어진 리스트를 조건제시법으로 정의하라.\n",
    "즉, 아래 리스트를 조건제시법으로 생성해야 한다.\n",
    "\n",
    "```python\n",
    "[4, 25, 64]\n",
    "```\n",
    "\n",
    "힌트: 리스트 조건제시법(comprehension) 활용"
   ]
  },
  {
   "cell_type": "code",
   "execution_count": 15,
   "metadata": {
    "id": "xfZ5Mrdt053H"
   },
   "outputs": [],
   "source": [
    "# 필요한 코드가 있다면 아래에 추가\n",
    "\n"
   ]
  },
  {
   "cell_type": "code",
   "execution_count": 16,
   "metadata": {
    "colab": {
     "base_uri": "https://localhost:8080/"
    },
    "id": "VSIThrw0KiaW",
    "outputId": "58686e17-c210-4750-d9cb-2aebbea5ec9f"
   },
   "outputs": [
    {
     "name": "stdout",
     "output_type": "stream",
     "text": [
      "None\n"
     ]
    }
   ],
   "source": [
    "# None 값을 적절한 리스트 조건제시법으로 대체할 것\n",
    "\n",
    "list_modulo3 = None\n",
    "\n",
    "print(list_modulo3)"
   ]
  },
  {
   "cell_type": "markdown",
   "metadata": {},
   "source": [
    "**문제**"
   ]
  },
  {
   "cell_type": "markdown",
   "metadata": {},
   "source": [
    "영어단어를 입력받아 알파벳순으로 출력하는 코드를 작성하여라.\n",
    "예를 들어, `python` 을 입력하면, `hopty` 를 출력한다.\n",
    "단, 모두 소문자로 변환해서 출력한다.\n",
    "\n",
    "힌트: `list` 를 이용한다."
   ]
  },
  {
   "cell_type": "markdown",
   "metadata": {
    "id": "WLyueOhysoiT"
   },
   "source": [
    "**[추가문제1] 어느 모임에 등록하는 참가자들의 리스트를 관리하는 간단한 프로그램 만들기**\n",
    "\n",
    "프로그램은 아래와 같은 일을 할 수 있다.  \n",
    "```\n",
    "1. 참가 여부 확인\n",
    "2. 참가 신청\n",
    "3. 참가 취소\n",
    "4. 참가자명 변경\n",
    "5. 참가명단 확인\n",
    "6. 참가 인원수 확인\n",
    "9. 종료\n",
    "```\n",
    "\n",
    "* 각 단계의 내용이 충족되도록 전 단계의 코드를 수정 보완하여라.   \n",
    "예를 들어, 2단계에 작성하는 코드는 1단계와 2단계의 내용이 모두 충족되어야 한다. \n",
    "\n",
    "* 프로그램이 실행되면, 프로그램이 할 수 있는 일을 번호와 함께 보여주고,   \n",
    "사용자가 수행하길 원하는 항목 번호를 입력받는다. \n",
    "* 프로그램은 사용자가 9번을 선택해야 종료된다. \n",
    "* 사용자가 1번을 선택하면, 확인할 이름을 입력받고 참가자 명단에 있는지 여부를 확인해준다.\n",
    "* 사용자가 2번을 선택하면, 참가 신청할 이름을 입력받고 참가자 명단에 추가한다. \n",
    "* 사용자가 3번을 선택하면, 참가 취소할 이름을 입력받고 참가자 명단에서 제외한다. \n",
    "* 사용자가 4번을 선택하면, 등록한 이름과 수정할 이름을 입력받아서 참가자 명단에 있는 해당 이름을 변경한다. \n",
    "* 사용자가 5번을 선택하면, 참가자 명단을 보여준다.\n",
    "* 사용자가 6번을 선택하면, 참가 인원수를 보여준다. \n",
    "* 사용자가 정수가 아닌 값을 입력하면 정수를 입력하라고 한다.  \n",
    "* 동명이인은 없다고 가정한다.\n",
    "\n",
    "\n"
   ]
  },
  {
   "cell_type": "code",
   "execution_count": 3,
   "metadata": {
    "colab": {
     "base_uri": "https://localhost:8080/"
    },
    "executionInfo": {
     "elapsed": 3494,
     "status": "ok",
     "timestamp": 1617678109773,
     "user": {
      "displayName": "HJ Kim",
      "photoUrl": "",
      "userId": "16634276932240017990"
     },
     "user_tz": -540
    },
    "id": "VnPL2oUj9U9E",
    "outputId": "b88acdd5-7130-41fe-8cd3-00d794b6e7c0"
   },
   "outputs": [
    {
     "name": "stdout",
     "output_type": "stream",
     "text": [
      "1. 참가 여부 확인\n",
      "2. 참가 신청\n",
      "3. 참가 취소\n",
      "4. 참가자명 변경\n",
      "5. 참가명단 확인\n",
      "6. 참가 인원수 확인\n",
      "9. 종료\n",
      "원하는 항목 번호를 입력하세요: 9\n",
      "프로그램이 종료됩니다\n"
     ]
    }
   ],
   "source": [
    "info = \"1. 참가 여부 확인\\n2. 참가 신청\\n3. 참가 취소\\n4. 참가자명 변경\\n5. 참가명단 확인\\n6. 참가 인원수 확인\\n9. 종료\"\n",
    "students = []\n",
    "num = 0\n",
    "\n",
    "while num != 9:\n",
    "  \n",
    "  print(info)\n",
    "  \n",
    "  try:\n",
    "    num = int(input(\"원하는 항목 번호를 입력하세요: \"))\n",
    "  except ValueError:\n",
    "    print(\"정수를 입력해주세요\")\n",
    "    num = 0\n",
    "\n",
    "  if num == 1:\n",
    "    name = input(\"확인할 이름을 입력해주세요: \")\n",
    "    if name in students:\n",
    "      print(name, \"은(는) 참가자 명단에 있습니다.\")\n",
    "    else:\n",
    "      print(name, \"은(는) 참가자 명단에 없습니다.\")\n",
    "    \n",
    "  elif num == 2:\n",
    "    name = input(\"참가자 명단에 추가할 이름을 입력해주세요: \")\n",
    "    if name in students:\n",
    "      print(name, \"이미 참가자 명단에 있습니다.\")\n",
    "    else:\n",
    "      students.append(name)\n",
    "    \n",
    "  elif num == 3:\n",
    "    name = input(\"참가자 명단에서 제거할 이름을 입력해주세요: \")\n",
    "    if name in students:\n",
    "      students.remove(name)\n",
    "      print(name, \"을 참가자 명단에서 제거하였습니다.\")\n",
    "    else:\n",
    "      print(name, \"은(는) 참가자 명단에 없습니다.\")\n",
    "    \n",
    "  elif num == 4:\n",
    "    name, after_name = input(\"참가자 명단에서 등록한 이름과 수정할 이름을 입력해주세요 ex) 등록한이름 수정한이름: \").split()\n",
    "    if name in students:\n",
    "        if after_name in students :\n",
    "          print(after_name, \"은(는) 이미 참가자 명단에 있습니다.\")\n",
    "        else :\n",
    "          name_index = students.index(name)\n",
    "          students[name_index] = after_name\n",
    "          print(name, \"을\", after_name, \"으로 수정하였습니다.\")\n",
    "    else:\n",
    "      print(name, \"은(는) 참가자 명단에 없습니다.\")\n",
    "\n",
    "  elif num == 5:\n",
    "    print(\"참가자 명단은:\", students)\n",
    "    \n",
    "  elif num == 6:\n",
    "    print(\"참가 인원수는:\", len(students))\n",
    "    \n",
    "  elif num == 9:\n",
    "    print(\"프로그램이 종료됩니다\")\n",
    "    break\n",
    "  \n",
    "  "
   ]
  },
  {
   "cell_type": "markdown",
   "metadata": {
    "id": "QNlMUg025pIB"
   },
   "source": [
    "**[추가문제2] 아래와 같은 문자열이 있다.**\n",
    "\n",
    "`lyrics = \"Twinkle, twinkle, little star. How I wonder what you are. Up above the world so high. Like a diamond in the sky. Twinkle, twinkle, little star. How I wonder what you are.\"`  \n",
    "\n",
    "(1) 위 문자열을 소문자로 변경한 후, 공백을 기준으로 리스트를 만들어 `lyrics_list`에 할당하여라."
   ]
  },
  {
   "cell_type": "code",
   "execution_count": null,
   "metadata": {
    "colab": {
     "base_uri": "https://localhost:8080/"
    },
    "executionInfo": {
     "elapsed": 526,
     "status": "ok",
     "timestamp": 1617490728878,
     "user": {
      "displayName": "HJ Kim",
      "photoUrl": "",
      "userId": "16634276932240017990"
     },
     "user_tz": -540
    },
    "id": "dNJbcJZO69sX",
    "outputId": "88bb4258-7902-4f03-bac6-a2d8492f6e87"
   },
   "outputs": [
    {
     "data": {
      "text/plain": [
       "['twinkle,',\n",
       " 'twinkle,',\n",
       " 'little',\n",
       " 'star.',\n",
       " 'how',\n",
       " 'i',\n",
       " 'wonder',\n",
       " 'what',\n",
       " 'you',\n",
       " 'are.',\n",
       " 'up',\n",
       " 'above',\n",
       " 'the',\n",
       " 'world',\n",
       " 'so',\n",
       " 'high.',\n",
       " 'like',\n",
       " 'a',\n",
       " 'diamond',\n",
       " 'in',\n",
       " 'the',\n",
       " 'sky.',\n",
       " 'twinkle,',\n",
       " 'twinkle,',\n",
       " 'little',\n",
       " 'star.',\n",
       " 'how',\n",
       " 'i',\n",
       " 'wonder',\n",
       " 'what',\n",
       " 'you',\n",
       " 'are.']"
      ]
     },
     "execution_count": 18,
     "metadata": {
      "tags": []
     },
     "output_type": "execute_result"
    }
   ],
   "source": [
    "lyrics = \"Twinkle, twinkle, little star. How I wonder what you are. Up above the world so high. Like a diamond in the sky. Twinkle, twinkle, little star. How I wonder what you are.\"\n",
    "lyrics_list = lyrics.lower().split()\n",
    "lyrics_list"
   ]
  },
  {
   "cell_type": "markdown",
   "metadata": {
    "id": "FLqjsgO27LN-"
   },
   "source": [
    "(2) `lyrics_list`의 각 항목의 문자열 길이를 항목으로 갖는 리스트를 만들어라.  \n",
    "예를 들어, `['hello', 'python']`의 경우, 각 항목의 문자열 길이를 항목으로 갖는 리스트는 `[5, 6]` 이다. "
   ]
  },
  {
   "cell_type": "code",
   "execution_count": null,
   "metadata": {
    "colab": {
     "base_uri": "https://localhost:8080/"
    },
    "executionInfo": {
     "elapsed": 534,
     "status": "ok",
     "timestamp": 1617490732179,
     "user": {
      "displayName": "HJ Kim",
      "photoUrl": "",
      "userId": "16634276932240017990"
     },
     "user_tz": -540
    },
    "id": "KCXRsWrt8smD",
    "outputId": "0e61ef40-d660-4352-aeaf-f596623f07a4"
   },
   "outputs": [
    {
     "data": {
      "text/plain": [
       "[8,\n",
       " 8,\n",
       " 6,\n",
       " 5,\n",
       " 3,\n",
       " 1,\n",
       " 6,\n",
       " 4,\n",
       " 3,\n",
       " 4,\n",
       " 2,\n",
       " 5,\n",
       " 3,\n",
       " 5,\n",
       " 2,\n",
       " 5,\n",
       " 4,\n",
       " 1,\n",
       " 7,\n",
       " 2,\n",
       " 3,\n",
       " 4,\n",
       " 8,\n",
       " 8,\n",
       " 6,\n",
       " 5,\n",
       " 3,\n",
       " 1,\n",
       " 6,\n",
       " 4,\n",
       " 3,\n",
       " 4]"
      ]
     },
     "execution_count": 19,
     "metadata": {
      "tags": []
     },
     "output_type": "execute_result"
    }
   ],
   "source": [
    "[len(x) for x in lyrics_list]"
   ]
  },
  {
   "cell_type": "markdown",
   "metadata": {
    "id": "a4iqQYXd9gbo"
   },
   "source": [
    "(3) `lyrics_list`의 항목 중 일부는 콤마(,)나 마침표(.)가 사용되었다. 콤마나 마침표를 제외한 단어의 길이를 표시하도록 (2)의 코드를 수정하여라."
   ]
  },
  {
   "cell_type": "code",
   "execution_count": null,
   "metadata": {
    "colab": {
     "base_uri": "https://localhost:8080/"
    },
    "executionInfo": {
     "elapsed": 677,
     "status": "ok",
     "timestamp": 1617490869881,
     "user": {
      "displayName": "HJ Kim",
      "photoUrl": "",
      "userId": "16634276932240017990"
     },
     "user_tz": -540
    },
    "id": "XFru5EYy95VL",
    "outputId": "e078fc0a-da77-4ab6-b664-69e565241680"
   },
   "outputs": [
    {
     "data": {
      "text/plain": [
       "[7,\n",
       " 7,\n",
       " 6,\n",
       " 4,\n",
       " 3,\n",
       " 1,\n",
       " 6,\n",
       " 4,\n",
       " 3,\n",
       " 3,\n",
       " 2,\n",
       " 5,\n",
       " 3,\n",
       " 5,\n",
       " 2,\n",
       " 4,\n",
       " 4,\n",
       " 1,\n",
       " 7,\n",
       " 2,\n",
       " 3,\n",
       " 3,\n",
       " 7,\n",
       " 7,\n",
       " 6,\n",
       " 4,\n",
       " 3,\n",
       " 1,\n",
       " 6,\n",
       " 4,\n",
       " 3,\n",
       " 3]"
      ]
     },
     "execution_count": 20,
     "metadata": {
      "tags": []
     },
     "output_type": "execute_result"
    }
   ],
   "source": [
    "[len(x.strip('.').strip(',')) for x in lyrics_list]"
   ]
  },
  {
   "cell_type": "markdown",
   "metadata": {
    "id": "tVZCbWCFof1T"
   },
   "source": [
    "**[추가 문제3] 문제2)에 있는 리스트를 `while`반복문과 `for`반복문을 이용해 만들어라**  "
   ]
  },
  {
   "cell_type": "markdown",
   "metadata": {
    "id": "UVOZTpffCt28"
   },
   "source": [
    "\n",
    "**아래 리스트를 반복문으로 구현하여라**   \n",
    "\n",
    "(1) [3, 6, 9, 12, 15]"
   ]
  },
  {
   "cell_type": "code",
   "execution_count": null,
   "metadata": {
    "colab": {
     "base_uri": "https://localhost:8080/"
    },
    "executionInfo": {
     "elapsed": 1121,
     "status": "ok",
     "timestamp": 1617425075919,
     "user": {
      "displayName": "­정성엽 / 학생 / 컴퓨터공학부",
      "photoUrl": "",
      "userId": "12165438926956780307"
     },
     "user_tz": -540
    },
    "id": "UGsmjGloCt29",
    "outputId": "bf37b30f-73a6-4236-a9c5-43a52e09d6fe"
   },
   "outputs": [
    {
     "name": "stdout",
     "output_type": "stream",
     "text": [
      "[3, 6, 9, 12, 15]\n"
     ]
    }
   ],
   "source": [
    "ans = []\n",
    "for i in range(1,16):\n",
    "  if i % 3 == 0:\n",
    "    ans.append(i)\n",
    "\n",
    "print(ans)"
   ]
  },
  {
   "cell_type": "markdown",
   "metadata": {
    "id": "SVXG7heiCt2_"
   },
   "source": [
    "(2)수학에서 사용되는 대표적인 지수함수인 $f(x) = e^x$는 `math` 모듈의 `exp()`로 정의되어 있다. \n",
    "<center>[ $e^3, e^6, e^9, e^{12}, e^{15}$ ] </center>"
   ]
  },
  {
   "cell_type": "code",
   "execution_count": null,
   "metadata": {
    "colab": {
     "base_uri": "https://localhost:8080/"
    },
    "executionInfo": {
     "elapsed": 667,
     "status": "ok",
     "timestamp": 1617425123231,
     "user": {
      "displayName": "­정성엽 / 학생 / 컴퓨터공학부",
      "photoUrl": "",
      "userId": "12165438926956780307"
     },
     "user_tz": -540
    },
    "id": "aMhe6TAJCt3A",
    "outputId": "24a73329-0c67-480c-c189-dc1b87317d40"
   },
   "outputs": [
    {
     "name": "stdout",
     "output_type": "stream",
     "text": [
      "[20.085536923187668, 403.4287934927351, 8103.083927575384, 162754.79141900392, 3269017.3724721107]\n"
     ]
    }
   ],
   "source": [
    "from math import exp\n",
    "ans = []\n",
    "for i in range(1,16):\n",
    "  if i % 3 == 0:\n",
    "    ans.append(exp(i))\n",
    "print(ans)"
   ]
  },
  {
   "cell_type": "markdown",
   "metadata": {
    "id": "qdFNVCkwCt3A"
   },
   "source": [
    "(3) [1, 5, 7, 11, 13, 17, 19]  \n",
    "hint) 2의 배수와 3의 배수가 아닌 1에서 20사이의 정수들을 항목으로 갖는 리스트"
   ]
  },
  {
   "cell_type": "code",
   "execution_count": null,
   "metadata": {
    "colab": {
     "base_uri": "https://localhost:8080/"
    },
    "executionInfo": {
     "elapsed": 591,
     "status": "ok",
     "timestamp": 1617425162013,
     "user": {
      "displayName": "­정성엽 / 학생 / 컴퓨터공학부",
      "photoUrl": "",
      "userId": "12165438926956780307"
     },
     "user_tz": -540
    },
    "id": "2O-cHsGBCt3A",
    "outputId": "5800c22b-ecb3-429c-e7b3-044d3691513c"
   },
   "outputs": [
    {
     "name": "stdout",
     "output_type": "stream",
     "text": [
      "[1, 5, 7, 11, 13, 17, 19]\n"
     ]
    }
   ],
   "source": [
    "ans = []\n",
    "for i in range(1,20):\n",
    "  if i % 2 != 0 and i % 3 != 0:\n",
    "    ans.append(i)\n",
    "print(ans)"
   ]
  },
  {
   "cell_type": "markdown",
   "metadata": {},
   "source": [
    "## 튜플 관련"
   ]
  },
  {
   "cell_type": "markdown",
   "metadata": {
    "id": "2f6f49ed"
   },
   "source": [
    "**문제 8**"
   ]
  },
  {
   "cell_type": "markdown",
   "metadata": {
    "id": "77cfc88e"
   },
   "source": [
    "정수 나눗셈을 실행하여 몫과 나머지를 쌍(tuple)로 반환하는 함수 `divide_qr()` 함수를 구현하라.\n",
    "\n",
    "단, 함수의 본문은 `while` 반복문을 이용해야 하며, 몫 연산자 `//` 또는 나머지 연산자 `%` 는 \n",
    "절대 사용하지 않는다."
   ]
  },
  {
   "cell_type": "code",
   "execution_count": 1,
   "metadata": {
    "colab": {
     "base_uri": "https://localhost:8080/"
    },
    "id": "e62f273e",
    "outputId": "be0245e0-0cb6-4fa0-a1e2-a2b89c316248"
   },
   "outputs": [
    {
     "data": {
      "text/plain": [
       "(0, -18)"
      ]
     },
     "execution_count": 1,
     "metadata": {},
     "output_type": "execute_result"
    }
   ],
   "source": [
    "# 아래 코드에서 pass 와 None 을 각각 적절한 명령문과 적절한 표현식으로 대체하라.\n",
    "# 힌트: round() 함수\n",
    "\n",
    "def divide_qr(numerator, denomenator):\n",
    "  answer = 0\n",
    "  while not numerator < denomenator:\n",
    "    numerator = numerator - denomenator\n",
    "    answer += 1\n",
    "\n",
    "  return (answer, numerator) \n",
    "assert divide_qr(17, 3) == (5, 2)\n",
    "assert divide_qr(28, 7) == (4, 0)\n",
    "divide_qr(-18, 4)\n",
    "\n"
   ]
  },
  {
   "cell_type": "code",
   "execution_count": 7,
   "metadata": {
    "id": "3eee5878"
   },
   "outputs": [],
   "source": [
    "# 아래 코드의 주석 기호를 제거하고 실행했을 때 오류가 발생하지 않아야 함.\n",
    "\n",
    "# assert divide_qr(17, 3) == (5, 2)\n",
    "# assert divide_qr(28, 7) == (4, 0)"
   ]
  },
  {
   "cell_type": "markdown",
   "metadata": {},
   "source": [
    "## 예제"
   ]
  },
  {
   "cell_type": "markdown",
   "metadata": {},
   "source": [
    "직사각형 모양의 바닥에 정사각형 모양의 타일을 깔아야 한다.\n",
    "타일은 온장을 그대로 사용할 수도 있고, 잘라서 일부분만 사용할 수도 있다.\n",
    "단, 잘라서 사용한 타일의 나머지는 사용하지 않는다.\n",
    "\n",
    "공간의 가로, 세로 크기, 타일의 크기를 cm 단위로 인자로 사용되었을 때\n",
    "타일을 깔 때 필요한 온장 타일과 잘라서 사용한 타일의 개수로 \n",
    "이뤄진 튜플을 반환하는 함수 `tiling_tuple()`을 구현하라.\n",
    "단 공간 크기의 가로, 세로, 타일의 크기는 정수라고 가정한다.\n",
    "\n",
    "`tiling()` 함수의 매개변수는 다음과 같이 한다.\n",
    "\n",
    "- `width`: 공간의 가로 크기. 단위는 cm.\n",
    "- `height`: 공간의 세로 크기. 단위는 cm.\n",
    "- `tile_length=30`: 타일의 한 변의 크기. 단위는 cm. 기본 키워드 인자는 30."
   ]
  },
  {
   "cell_type": "code",
   "execution_count": 8,
   "metadata": {},
   "outputs": [],
   "source": [
    "def tiling_tuple(width, height, tile_length=30):\n",
    "    num_full_width = width // tile_length\n",
    "    num_full_height = height // tile_length\n",
    "\n",
    "    num_full = num_full_width * num_full_height\n",
    "\n",
    "    if width % tile_length == 0:\n",
    "        num_part_height = 0    \n",
    "        if height % tile_length == 0:\n",
    "            num_part = 0\n",
    "        else:\n",
    "            num_part = num_full_width\n",
    "\n",
    "    else:\n",
    "        if height % tile_length == 0:\n",
    "            num_part = num_full_height\n",
    "        else:\n",
    "            num_part = num_full_width + num_full_height + 1\n",
    "            \n",
    "    return num_full, num_part"
   ]
  },
  {
   "cell_type": "code",
   "execution_count": 9,
   "metadata": {},
   "outputs": [
    {
     "data": {
      "text/plain": [
       "(169, 27)"
      ]
     },
     "execution_count": 9,
     "metadata": {},
     "output_type": "execute_result"
    }
   ],
   "source": [
    "tiling_tuple(400, 400)"
   ]
  },
  {
   "cell_type": "code",
   "execution_count": 11,
   "metadata": {},
   "outputs": [
    {
     "data": {
      "text/plain": [
       "(121, 23)"
      ]
     },
     "execution_count": 11,
     "metadata": {},
     "output_type": "execute_result"
    }
   ],
   "source": [
    "tiling_tuple(400, 400, 35)"
   ]
  },
  {
   "cell_type": "markdown",
   "metadata": {},
   "source": [
    "## 문제"
   ]
  },
  {
   "cell_type": "markdown",
   "metadata": {},
   "source": [
    "직사각형 모양의 바닥에 정사각형 모양의 타일을 깔아야 한다.\n",
    "타일은 온장을 그대로 사용할 수도 있고, 잘라서 일부분만 사용할 수도 있다.\n",
    "단, 잘라서 사용한 타일의 나머지는 사용하지 않는다.\n",
    "\n",
    "공간의 가로, 세로 크기, 타일의 크기를 cm 단위로 인자로 사용되었을 때\n",
    "타일을 깔 때 필요한 온장 타일과 잘라서 사용한 타일의 개수로 \n",
    "이뤄진 튜플을 반환하는 함수 `tiling_tuple()`을 구현하라.\n",
    "단 공간 크기의 가로, 세로, 타일의 크기는 정수라고 가정한다.\n",
    "\n",
    "`tiling()` 함수의 매개변수는 다음과 같이 한다.\n",
    "\n",
    "- `width`: 공간의 가로 크기. 단위는 cm.\n",
    "- `height`: 공간의 세로 크기. 단위는 cm.\n",
    "- `tile_length=30`: 타일의 한 변의 크기. 단위는 cm. 기본 키워드 인자는 30."
   ]
  },
  {
   "cell_type": "code",
   "execution_count": 8,
   "metadata": {},
   "outputs": [],
   "source": [
    "def tiling_tuple(width, height, tile_length=30):\n",
    "    num_full_width = width // tile_length\n",
    "    num_full_height = height // tile_length\n",
    "\n",
    "    num_full = num_full_width * num_full_height\n",
    "\n",
    "    if width % tile_length == 0:\n",
    "        num_part_height = 0    \n",
    "        if height % tile_length == 0:\n",
    "            num_part = 0\n",
    "        else:\n",
    "            num_part = num_full_width\n",
    "\n",
    "    else:\n",
    "        if height % tile_length == 0:\n",
    "            num_part = num_full_height\n",
    "        else:\n",
    "            num_part = num_full_width + num_full_height + 1\n",
    "            \n",
    "    return num_full, num_part"
   ]
  },
  {
   "cell_type": "code",
   "execution_count": 9,
   "metadata": {},
   "outputs": [
    {
     "data": {
      "text/plain": [
       "(169, 27)"
      ]
     },
     "execution_count": 9,
     "metadata": {},
     "output_type": "execute_result"
    }
   ],
   "source": [
    "tiling_tuple(400, 400)"
   ]
  },
  {
   "cell_type": "code",
   "execution_count": 11,
   "metadata": {},
   "outputs": [
    {
     "data": {
      "text/plain": [
       "(121, 23)"
      ]
     },
     "execution_count": 11,
     "metadata": {},
     "output_type": "execute_result"
    }
   ],
   "source": [
    "tiling_tuple(400, 400, 35)"
   ]
  },
  {
   "cell_type": "markdown",
   "metadata": {},
   "source": [
    "## 예제"
   ]
  },
  {
   "cell_type": "markdown",
   "metadata": {},
   "source": [
    "피보나찌 수열은 다음과 같이 정의 된다.\n",
    "\n",
    "$$\n",
    "\\begin{align*}\n",
    "F_0 &= 0 \\\\\n",
    "F_1 &= 1 \\\\\n",
    "F_{n+2} &= F_{n+1} + F_{n}\n",
    "\\end{align*}\n",
    "$$\n",
    "\n",
    "for 반복문과 길이가 2인 리스트를 이용하여 피보나찌 수열의 n 번째 값을 반환하는 함수 `fib()` 를 구현하라."
   ]
  },
  {
   "cell_type": "code",
   "execution_count": 1,
   "metadata": {},
   "outputs": [],
   "source": [
    "# pass 와 None 을 적절한 명령문과 표현식으로 대체하라.\n",
    "# 재귀를 사용할 수 없으며 for 반복문만을 이용해야 한다.\n",
    "\n",
    "def fib(n):\n",
    "    assert isinstance(n, int)\n",
    "    assert n >= 0\n",
    "    \n",
    "    pass\n",
    "\n",
    "    return None"
   ]
  },
  {
   "cell_type": "code",
   "execution_count": 2,
   "metadata": {},
   "outputs": [],
   "source": [
    "# 아래 코드의 주석해제하고 실행하라.\n",
    "\n",
    "# assert fib(5) == 5\n",
    "# assert fib(8) == 21"
   ]
  },
  {
   "cell_type": "code",
   "execution_count": null,
   "metadata": {},
   "outputs": [],
   "source": []
  },
  {
   "cell_type": "markdown",
   "metadata": {
    "id": "afe9bac7"
   },
   "source": [
    "## 예제"
   ]
  },
  {
   "cell_type": "markdown",
   "metadata": {
    "id": "bef57d51"
   },
   "source": [
    "메뉴와 가격이 공백으로 구분된 두 개의 문자열로 주어졌다."
   ]
  },
  {
   "cell_type": "code",
   "execution_count": null,
   "metadata": {
    "id": "d9f9519d"
   },
   "outputs": [],
   "source": [
    "menu = \"ham bread chicken egg\"\n",
    "prices = \"1200 5000 17000 500\""
   ]
  },
  {
   "cell_type": "markdown",
   "metadata": {
    "id": "13373741"
   },
   "source": [
    "가장 저렴한 메뉴와 가장 비싼 메뉴를 추천하는 문자열을 \n",
    "다음과 같이 출력하는 프로그램을 구현하라.\n",
    "\n",
    "```python\n",
    "가장 저렴한 메뉴: egg  \n",
    "가장 비  싼 메뉴: chicken  \n",
    "```"
   ]
  },
  {
   "cell_type": "code",
   "execution_count": null,
   "metadata": {
    "colab": {
     "base_uri": "https://localhost:8080/"
    },
    "id": "a9fde44d",
    "outputId": "eed3d4e3-0ec3-444c-d53b-eb426e711473"
   },
   "outputs": [
    {
     "name": "stdout",
     "output_type": "stream",
     "text": [
      "가장 저렴한 메뉴: egg\n",
      "가장 비  싼 메뉴: chicken\n"
     ]
    }
   ],
   "source": [
    "# pass 를 적절한 명령문과 표현식으로 대체하라.\n",
    "# 단, 출력해야 하는 문자열이 직접 언급되지 않아야 한다.\n",
    "\n",
    "menu = \"ham bread chicken egg\"\n",
    "prices = \"1200 5000 17000 500\"\n",
    "\n",
    "menu = menu.split()\n",
    "prices = prices.split()\n",
    "prices = list(map(int, prices))\n",
    "\n",
    "order = list(zip(prices,menu))\n",
    "order.sort()\n",
    "expensive = order[-1]\n",
    "cheap = order[0]\n",
    "\n",
    "print(f\"가장 저렴한 메뉴: {cheap[1]}\")\n",
    "print(f\"가장 비  싼 메뉴: {expensive[1]}\")\n"
   ]
  },
  {
   "cell_type": "markdown",
   "metadata": {
    "id": "f68d4fb4"
   },
   "source": [
    "## 예제"
   ]
  },
  {
   "cell_type": "markdown",
   "metadata": {
    "id": "24744bc6"
   },
   "source": [
    "튜플이 인자로 들어오면 튜플의 기존 항목들이 역순으로 추가된 튜플을 반환하는 \n",
    "`tuple_double_rev()` 함수를 구현하라."
   ]
  },
  {
   "cell_type": "code",
   "execution_count": 1,
   "metadata": {
    "colab": {
     "base_uri": "https://localhost:8080/"
    },
    "id": "d7512aaa",
    "outputId": "c36493d5-fc6b-4087-c34a-230201e92ffd"
   },
   "outputs": [
    {
     "name": "stdout",
     "output_type": "stream",
     "text": [
      "(1, 2, 3, 3, 2, 1)\n",
      "('a', 'b', 'b', 'a')\n"
     ]
    }
   ],
   "source": [
    "# pass 와  None을 적절한 명령문과 표현식으로 대체하라.\n",
    "\n",
    "def tuple_double_rev(t):\n",
    "    return t + t[::-1]\n",
    "\n",
    "\n",
    "print(tuple_double_rev((1, 2, 3)))\n",
    "print(tuple_double_rev(('a', 'b')))\n",
    "\n",
    "assert tuple_double_rev((1, 2, 3)) == (1, 2, 3, 3, 2, 1)\n",
    "assert tuple_double_rev(('a', 'b')) == ('a', 'b', 'b', 'a')\n"
   ]
  },
  {
   "cell_type": "code",
   "execution_count": 2,
   "metadata": {
    "id": "0654ee6c"
   },
   "outputs": [],
   "source": [
    "# 아래 코드의 주석 기호를 삭제하고 실행할 때 오류가 발생하지 않아야 한다.\n",
    "\n",
    "# assert tuple_double_rev((1, 2, 3)) == (1, 2, 3, 3, 2, 1)\n",
    "# assert tuple_double_rev(('a', 'b')) == ('a', 'b', 'b', 'a')"
   ]
  },
  {
   "cell_type": "markdown",
   "metadata": {
    "id": "851481ba"
   },
   "source": [
    "## 예제"
   ]
  },
  {
   "cell_type": "markdown",
   "metadata": {
    "id": "261638db"
   },
   "source": [
    "아래 조건을 만족하는 `zip_strings()` 함수를 구현하라.\n",
    "\n",
    "* 세 개의 문자열을 각각 입력 받는 `str1`, `str2`, `str3` 매개 변수를 사용한다.\n",
    "* `str3`가 가리키는 값이 `str1` 과 `str2` 이 가리키는 문자열에 포함된 문자들을\n",
    "    번갈아가며 결합한 결과이면 `True`를, 아니면 `False` 를 반환한다.\n",
    "* 두 문자열의 길이가 다르면, 가능한 데까지만 문자를 번갈아가며 결합하고 나머지는 그대로 적어준다.    \n",
    "\n",
    "힌트: `zip()` 함수 활용 가능."
   ]
  },
  {
   "cell_type": "code",
   "execution_count": 3,
   "metadata": {
    "colab": {
     "base_uri": "https://localhost:8080/"
    },
    "id": "047f15e3",
    "outputId": "04659626-95cc-4e0f-b2e5-dfcdf72fe5b8"
   },
   "outputs": [
    {
     "name": "stdout",
     "output_type": "stream",
     "text": [
      "True\n",
      "True\n",
      "False\n",
      "True\n",
      "True\n",
      "False\n"
     ]
    }
   ],
   "source": [
    "# pass 와  None을 적절한 명령문과 표현식으로 대체하라.\n",
    "\n",
    "def zip_strings(str1, str2, str3):\n",
    "    str1n2 = list(zip(str1, str2))\n",
    "    str1n2_tuple = ()\n",
    "    for i in range(len(str1n2)):\n",
    "      str1n2_tuple += str1n2[i]\n",
    "\n",
    "    str2n1 = list(zip(str2, str1))\n",
    "    str2n1_tuple = ()\n",
    "    for i in range(len(str2n1)):\n",
    "      str2n1_tuple += str2n1[i]\n",
    "\n",
    "    str3_tuple = tuple( str3[ 0: len( str1n2 ) *2 ] )#그대로 적힌 나머지는 필요 없으니 제외\n",
    "\n",
    "    if str1n2_tuple == str3_tuple or str2n1_tuple == str3_tuple:\n",
    "      return True\n",
    "    else:\n",
    "      return False\n",
    "\n",
    "\n",
    "print(zip_strings('dog', 'cat', 'dcoagt'))\n",
    "print(zip_strings('cat', 'dog', 'dcoagt'))\n",
    "print(zip_strings('dog', 'cat', 'cdoagt'))\n",
    "print(zip_strings('computing', 'math','cmoamtphuting'))\n",
    "print(zip_strings('math', 'computing','cmoamtphuting'))\n",
    "print(zip_strings('math', 'computing', 'mcoamtphuting'))\n",
    "\n",
    "assert zip_strings('dog', 'cat', 'dcoagt') == True\n",
    "assert zip_strings('cat', 'dog', 'dcoagt') == True\n",
    "assert zip_strings('dog', 'cat', 'cdoagt') == False\n",
    "assert zip_strings('computing', 'math','cmoamtphuting') == True\n",
    "assert zip_strings('math', 'computing','cmoamtphuting') == True\n",
    "assert zip_strings('math', 'computing', 'mcoamtphuting') == False\n"
   ]
  },
  {
   "cell_type": "code",
   "execution_count": 4,
   "metadata": {
    "id": "11477807"
   },
   "outputs": [],
   "source": [
    "# 아래 코드의 주석 기호를 삭제하고 실행할 때 오류가 발생하지 않아야 한다.\n",
    "\n",
    "# assert zip_strings('dog', 'cat', 'dcoagt') == True\n",
    "# assert zip_strings('cat', 'dog', 'dcoagt') == True\n",
    "# assert zip_strings('dog', 'cat', 'cdoagt') == False\n",
    "# assert zip_strings('computing', 'math','cmoamtphuting') == True\n",
    "# assert zip_strings('math', 'computing','cmoamtphuting') == True\n",
    "# assert zip_strings('math', 'computing', 'mcoamtphuting') == False"
   ]
  },
  {
   "cell_type": "code",
   "execution_count": null,
   "metadata": {},
   "outputs": [],
   "source": []
  },
  {
   "cell_type": "code",
   "execution_count": null,
   "metadata": {},
   "outputs": [],
   "source": []
  }
 ],
 "metadata": {
  "colab": {
   "name": "pydata-quiz01-solutions.ipynb",
   "provenance": []
  },
  "kernelspec": {
   "display_name": "Python 3 (ipykernel)",
   "language": "python",
   "name": "python3"
  },
  "language_info": {
   "codemirror_mode": {
    "name": "ipython",
    "version": 3
   },
   "file_extension": ".py",
   "mimetype": "text/x-python",
   "name": "python",
   "nbconvert_exporter": "python",
   "pygments_lexer": "ipython3",
   "version": "3.11.5"
  }
 },
 "nbformat": 4,
 "nbformat_minor": 1
}
