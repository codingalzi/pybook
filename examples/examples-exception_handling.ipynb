{
 "cells": [
  {
   "cell_type": "markdown",
   "id": "63ac596b",
   "metadata": {},
   "source": [
    "# (필수 예제) 프로그램 오류와 예외처리"
   ]
  },
  {
   "cell_type": "markdown",
   "id": "10fa79ea",
   "metadata": {},
   "source": [
    "## 예제"
   ]
  },
  {
   "cell_type": "markdown",
   "id": "bd15c340",
   "metadata": {},
   "source": [
    "부동소수점 모양이 아닌 문자열이 인자로 사용되면 해당 문자열을 그대로 반환하는 함수를\n",
    "예외 처리 형식으로 구현하라."
   ]
  },
  {
   "cell_type": "code",
   "execution_count": null,
   "id": "53631e25",
   "metadata": {},
   "outputs": [],
   "source": [
    "def attempt_float(x):\n",
    "    try:\n",
    "        return float(x)\n",
    "    except:\n",
    "        return x"
   ]
  },
  {
   "cell_type": "code",
   "execution_count": null,
   "id": "d5b0a743",
   "metadata": {},
   "outputs": [
    {
     "data": {
      "text/plain": [
       "1.2345"
      ]
     },
     "metadata": {},
     "output_type": "display_data"
    }
   ],
   "source": [
    "attempt_float('1.2345')"
   ]
  },
  {
   "cell_type": "code",
   "execution_count": null,
   "id": "87ca4f81",
   "metadata": {},
   "outputs": [
    {
     "data": {
      "text/plain": [
       "'부동소수점 모양의 문자열이 아닙니다.'"
      ]
     },
     "metadata": {},
     "output_type": "display_data"
    }
   ],
   "source": [
    "attempt_float('부동소수점 모양의 문자열이 아닙니다.')"
   ]
  },
  {
   "cell_type": "markdown",
   "id": "0dbe8b13",
   "metadata": {},
   "source": []
  },
  {
   "cell_type": "markdown",
   "id": "c4f5c216",
   "metadata": {},
   "source": [
    "## 예제 "
   ]
  },
  {
   "cell_type": "markdown",
   "id": "7c969e86",
   "metadata": {},
   "source": [
    "아래 코드는 `try-except` 명령문을 이용하여 예외 처리를 추가하였다.\n",
    "`except` 블록에는 `continue` 명령문을 작성하여\n",
    "정수가 아닌 값이 입력되면 다시 입력값을 지정하도록 유도한다. \n",
    "\n",
    "`continue` 명령문은 현재 실행중인 `while` 반복문을\n",
    "다시 시작하라고 지정할 때 사용하는 명령문이다.\n",
    "따라서 정수가 아닌 값이 입력되면 `while` 명령문의 처음으로 돌아가서 \n",
    "게임 참여자에게 입력값을 다시 요구한다.\n",
    "\n",
    "또한 0이 입력되면 게임을 종료한다."
   ]
  },
  {
   "cell_type": "code",
   "execution_count": 1,
   "id": "8ef9166c",
   "metadata": {},
   "outputs": [
    {
     "name": "stdout",
     "output_type": "stream",
     "text": [
      "수 알아맞히기 게임에 환영합니다.\n",
      "1부터 100 사이의 정수 하나를 입력하세요: 10000\n",
      "너무 커요!\n",
      "1부터 100 사이의 정수 하나를 입력하세요: -1\n",
      "너무 작아요!\n",
      "1부터 100 사이의 정수 하나를 입력하세요: 99\n",
      "너무 커요!\n",
      "1부터 100 사이의 정수 하나를 입력하세요: ㅂㅂ\n",
      "1부터 100 사이의 정수 하나를 입력하세요: 0\n",
      "게임 종료!\n"
     ]
    }
   ],
   "source": [
    "from random import randint\n",
    "\n",
    "print(\"수 알아맞히기 게임에 환영합니다.\")\n",
    "\n",
    "secret = randint(1,100)\n",
    "guess = -1\n",
    "\n",
    "while guess != secret:\n",
    "    \n",
    "    try:  # 정수 입력이 아닌 경우 대처             \n",
    "        guess = int(input(\"1부터 100 사이의 정수 하나를 입력하세요: \"))\n",
    "    except: \n",
    "        continue  # while 반복문의 처음으로 돌아가기\n",
    "\n",
    "    if guess == 0:\n",
    "        break\n",
    "\n",
    "    if guess == secret:\n",
    "        print(\"맞았습니다!\")\n",
    "    elif guess > secret:\n",
    "        print(\"너무 커요!\")\n",
    "    else:\n",
    "        print(\"너무 작아요!\")\n",
    "\n",
    "print(\"게임 종료!\")"
   ]
  },
  {
   "cell_type": "markdown",
   "id": "4ab791e2",
   "metadata": {},
   "source": [
    "## 문제"
   ]
  },
  {
   "cell_type": "markdown",
   "id": "372e51f7",
   "metadata": {},
   "source": [
    "아래 코드는 `try-except` 명령문을 이용하여 \n",
    "정수가 아닌 값이 입력되면 다시 입력값을 지정하도록 유도한다. \n",
    "반면에 1부터 100 사이의 정수가 아니면 재입력을 요구하지 않는다.\n",
    "위 코드를 수정하여 1과 100사이의 정수가 아닌 값이 입력되면 재입력을 요구하도록 하라."
   ]
  },
  {
   "cell_type": "code",
   "execution_count": 1,
   "id": "ee6a0b65",
   "metadata": {},
   "outputs": [
    {
     "name": "stdout",
     "output_type": "stream",
     "text": [
      "수 알아맞히기 게임에 환영합니다.\n",
      "1부터 100 사이의 정수 하나를 입력하세요: 10000\n",
      "너무 커요!\n",
      "1부터 100 사이의 정수 하나를 입력하세요: -1\n",
      "너무 작아요!\n",
      "1부터 100 사이의 정수 하나를 입력하세요: 99\n",
      "너무 커요!\n",
      "1부터 100 사이의 정수 하나를 입력하세요: ㅂㅂ\n",
      "1부터 100 사이의 정수 하나를 입력하세요: 0\n",
      "게임 종료!\n"
     ]
    }
   ],
   "source": [
    "from random import randint\n",
    "\n",
    "print(\"수 알아맞히기 게임에 환영합니다.\")\n",
    "\n",
    "secret = randint(1,100)\n",
    "guess = -1\n",
    "\n",
    "while guess != secret:\n",
    "    \n",
    "    try:  # 정수 입력이 아닌 경우 대처             \n",
    "        guess = int(input(\"1부터 100 사이의 정수 하나를 입력하세요: \"))\n",
    "    except: \n",
    "        continue  # while 반복문의 처음으로 돌아가기\n",
    "\n",
    "    if guess == 0:\n",
    "        break\n",
    "\n",
    "    if guess == secret:\n",
    "        print(\"맞았습니다!\")\n",
    "    elif guess > secret:\n",
    "        print(\"너무 커요!\")\n",
    "    else:\n",
    "        print(\"너무 작아요!\")\n",
    "\n",
    "print(\"게임 종료!\")"
   ]
  },
  {
   "cell_type": "code",
   "execution_count": null,
   "id": "0b193d6b",
   "metadata": {},
   "outputs": [],
   "source": []
  },
  {
   "cell_type": "markdown",
   "id": "8bcd32f9",
   "metadata": {},
   "source": [
    "## 문제"
   ]
  },
  {
   "cell_type": "markdown",
   "id": "f3bbdcbb",
   "metadata": {
    "id": "fGjSM-6P2Pl7"
   },
   "source": [
    "두 개의 정수 `a`, `b`를 입력받아 `a/b`를 계산하는 코드를 작성하라.\n",
    "단, 아래의 내용을 만족하도록 코드를 작성한다.\n",
    "\n",
    "* 정수가 아닌 값이 입력될 경우, 정수를 입력하라고 전달한다.\n",
    "* `b`에 `0`이 입력될 경우, 0이 아닌 숫자를 입력하라고 전달한다.\n",
    "* 올바른 값이 입력될 때까지 재입력을 요구한다.\n",
    "\n",
    "\n",
    "힌트: `try-except ValueError-except ZeroDivisionError` 명령문"
   ]
  },
  {
   "cell_type": "markdown",
   "id": "cc4e4253",
   "metadata": {
    "id": "WLyueOhysoiT"
   },
   "source": [
    "## 문제 \n",
    "\n",
    "1~100 사이의 정수맞히기 게임을 만들고자 한다.\n",
    "다음 각 단계의 내용을 구현해 나가면서 게임을 완성하라."
   ]
  },
  {
   "cell_type": "markdown",
   "id": "b25ceca4",
   "metadata": {},
   "source": [
    "1단계)\n",
    "\n",
    "`input()` 함수를 이용하여 1에서 100사이의 정수를 입력받는 코드를 작성하라.\n",
    "예를 들어 입력받은 정수가 17일 때 다음과 같이 화면에 출력돼야 한다.\n",
    "단, 입력받은 수는 바로 `int` 자료형으로 변환해서 활용해야 한다.\n",
    "\n",
    "```\n",
    "1에서 100사이의 정수를 입력하세요.\n",
    "입력하신 정수는 17입니다.\n",
    "```\n",
    "\n",
    "힌트: `print()` 함수, `int()` 함수"
   ]
  },
  {
   "cell_type": "markdown",
   "id": "8e4e7b01",
   "metadata": {
    "id": "9-lYaH2HvZSf"
   },
   "source": [
    "2단계) \n",
    "\n",
    "`answer` 변수가 정수 83을 가리킨다고 가정한다.\n",
    "참여자가 임의의 숫자를 입력하여 `answer`를 맞히면 `성공!`을, 아니면 `실패!`를 출력하는 코드를 작성하라.\n",
    "\n",
    "힌트: `if-else` 명령문"
   ]
  },
  {
   "cell_type": "markdown",
   "id": "cd537c1b",
   "metadata": {
    "id": "dLLlqg4HAdnv"
   },
   "source": [
    "3단계)\n",
    "\n",
    "참여자가 입력한 값이 `answer`와 다를 때, 크면 `너무 큼!`, 작으면 `너무 작음`을 출력하도록 \n",
    "이전 단계의 코드를 수정하라.\n",
    "\n",
    "힌트: `if-elif-else` 명령문"
   ]
  },
  {
   "cell_type": "markdown",
   "id": "2b01235a",
   "metadata": {
    "id": "rGnB263B05vP"
   },
   "source": [
    "4단계)\n",
    "\n",
    "`try-except` 문을 이용하여 참여자가 정수가 아닌 값을 입력하면 `정수를 입력하세요!`를 \n",
    "출력하도록 이전 단계의 코드를 수정하라."
   ]
  },
  {
   "cell_type": "markdown",
   "id": "7d465162",
   "metadata": {
    "id": "uD13hwcV1LFT"
   },
   "source": [
    "5단계)\n",
    "\n",
    "참여자가 1에서 100사이의 정수가 아닌 수를 입력하면 `1에서 100사이의 정수만 입력해야 합니다`를 \n",
    "출력하도록 이전 단계의 코드를 수정하라."
   ]
  },
  {
   "cell_type": "markdown",
   "id": "d54d2ad1",
   "metadata": {
    "id": "Iu1qAqz71b2-"
   },
   "source": [
    "6단계) \n",
    "\n",
    "참여자가 정답을 맞힐 때까지 입력을 요구하도록 이전 단계의 코드를 수정하라.\n",
    "\n",
    "힌트: `while True` 반복문, `break` 키워드"
   ]
  },
  {
   "cell_type": "markdown",
   "id": "34d1ef02",
   "metadata": {
    "id": "d4oQnK9_1ldL"
   },
   "source": [
    "7단계) \n",
    "\n",
    "참여자가 몇 번 시도하여 정답을 맞혔는지 게임이 종료되면서 출력되도록\n",
    "이전 단계의 코드를 수정하라.\n",
    "예를 들어, 3번 만에 답을 맞혔다만 다음처럼 출력해야 한다.\n",
    "\n",
    "```\n",
    "3번 답에 정답을 맞혔습니다.\n",
    "```"
   ]
  },
  {
   "cell_type": "code",
   "execution_count": 1,
   "id": "b1c98e1f",
   "metadata": {},
   "outputs": [],
   "source": [
    "# # 주석을 없앤 다음에 pass 를 적절한 명령문으로 대체하라.\n",
    "\n",
    "# while True:\n",
    "#     try:\n",
    "#         a = int(input(\"첫째 정수를 입력하세요: \"))\n",
    "#         b = int(input(\"둘째 정수를 입력하세요: \"))\n",
    "        \n",
    "#         pass\n",
    "\n",
    "#     except:\n",
    "#         pass\n",
    "\n",
    "# pass"
   ]
  },
  {
   "cell_type": "markdown",
   "id": "fcba6e3d",
   "metadata": {},
   "source": [
    "## 문제"
   ]
  },
  {
   "cell_type": "markdown",
   "id": "c355f9b1",
   "metadata": {},
   "source": [
    "[수 알아맞히기 게임](https://codingalzi.github.io/pybook/casestudy_guessing_numbers.html)이 종료될 때 \n",
    "사용자가 몇 번 만에 정답을 맞혔는지 알려주도록 프로그램을 업그레이드 하라.\n",
    "단, 1과 100 사이의 수를 입력한 경우만 고려한다.\n",
    "\n",
    "힌트: `while` 반복문이 몇 번 실행되는 횟수를 기억하는 변수를 사용한다."
   ]
  },
  {
   "cell_type": "code",
   "execution_count": 3,
   "id": "c241eb58",
   "metadata": {},
   "outputs": [],
   "source": [
    "# 문제 2 코드를 업그레이드 하라.\n"
   ]
  },
  {
   "cell_type": "markdown",
   "id": "673c8c99",
   "metadata": {},
   "source": [
    "## 문제"
   ]
  },
  {
   "cell_type": "markdown",
   "id": "af83745c",
   "metadata": {},
   "source": [
    "[수 알아맞히기 게임](https://codingalzi.github.io/pybook/casestudy_guessing_numbers.html) 실행중에 \n",
    "참여자가 영어 알파벳 `q` 또는 `Q` 를 입력하면 게임이 종료되도록 프로그램을 업그레이드 하라.\n",
    "\n",
    "힌트: `int()` 함수가 사용되는 위치를 다르게 한다."
   ]
  },
  {
   "cell_type": "code",
   "execution_count": 4,
   "id": "c0a4fdb8",
   "metadata": {},
   "outputs": [],
   "source": [
    "# 문제 3 코드를 업그레이드 하라.\n"
   ]
  },
  {
   "cell_type": "markdown",
   "id": "852950fc",
   "metadata": {
    "id": "RJGEd1T44JF0"
   },
   "source": [
    "## 문제\n",
    "\n",
    "숫자 야구 게임은 임의로 정한 3자리의 수(`ans`)를 참여자가 맞히는 게임이며\n",
    "규칙은 다음과 같다.\n",
    "\n",
    "* 1에서 9 사이의 서로 다른 숫자로 이루어진 세 자리 정수를 입력한다.\n",
    "* 참여자가 입력한 수가 `ans`와 다를 경우, 참여자에게 아래 결과 중 하나를 알려준다.\n",
    "  * 숫자와 위치가 맞으면, 스트라이크\n",
    "  * 숫자는 맞지만 위치가 틀리면, 볼\n",
    "  * 숫자와 위치가 모두 틀리면, 아웃  \n",
    "\n",
    "예를 들어, `ans`가 123일 때, 참여자가 456을 입력하면 '아웃', \n",
    "257을 입력하면 '1볼', 273을 입력하면 '1볼 1스트라이크'가 출력된다.\n",
    "\n",
    "다음 각 단계의 내용을 구현해 나가면서 게임을 완성하라.\n",
    "먼저 `ans`가 724를 가리키도록 한다.\n",
    "물론 다른 임의의 세 자리 수로 대체할 수 있다.\n",
    "\n",
    "```python\n",
    "answer = 724\n",
    "```"
   ]
  },
  {
   "cell_type": "markdown",
   "id": "8e99ef3e",
   "metadata": {},
   "source": [
    "1단계) \n",
    "\n",
    "0이 아닌 서로 다른 숫자로 구성된 3자리의 수를 입력받아 `guess` 변수에 `int` 형으로 저장하는 코드를 작성하라."
   ]
  },
  {
   "cell_type": "markdown",
   "id": "87d5d057",
   "metadata": {
    "id": "9clDZ-ajHDJr"
   },
   "source": [
    "2단계) \n",
    "\n",
    "참여자가 입력한 3자리의 수와 `answer`를 비교하여, 스트라이크 수를 출력하라.\n",
    "예를 들어, 2개의 스트라이크가 있다면 다음처럼 출력돼야 한다.\n",
    "\n",
    "```\n",
    "스트라이크: 2개\n",
    "```\n",
    "\n",
    "힌트: `for` 반복문, `range()` 함수"
   ]
  },
  {
   "cell_type": "markdown",
   "id": "e6a24b10",
   "metadata": {
    "id": "9clDZ-ajHDJr"
   },
   "source": [
    "3단계) \n",
    "\n",
    "참여자가 입력한 3자리의 수와 `answer`를 비교하여, 스트라이크와 볼의 수를 출력하라.\n",
    "예를 들어, 1개의 스트라이크와 1개의 볼이 있다면 다음처럼 출력돼야 한다.\n",
    "\n",
    "```\n",
    "스트라이크: 1개\n",
    "볼: 1개\n",
    "```"
   ]
  },
  {
   "cell_type": "markdown",
   "id": "e6ed8014",
   "metadata": {
    "id": "9clDZ-ajHDJr"
   },
   "source": [
    "4단계) \n",
    "\n",
    "참여자가 입력한 3자리의 수와 `answer`를 비교하여,\n",
    "아웃이면 `아웃!`을, 아니면 스트라이크와 볼의 수를 출력하라.\n",
    "예를 들어, 아웃이면 다음처럼 출력돼야 한다.\n",
    "\n",
    "```\n",
    "아웃!\n",
    "```"
   ]
  },
  {
   "cell_type": "markdown",
   "id": "ebd07dc1",
   "metadata": {
    "id": "SzlZ0JuUH-XK"
   },
   "source": [
    "5단계) \n",
    "\n",
    "참여자가 정답을 맞힐 때까지 입력을 요구하라.\n",
    "\n",
    "힌트: `While True` 반복문"
   ]
  },
  {
   "cell_type": "markdown",
   "id": "38bee67f",
   "metadata": {
    "id": "tETga5BZNTQ8"
   },
   "source": [
    "6단계) \n",
    "\n",
    "숫자가 아닌 값을 입력하면, `숫자를 입력하세요!`를 출력하라.\n",
    "\n",
    "힌트: `try-except ValueError` 명령문"
   ]
  },
  {
   "cell_type": "markdown",
   "id": "69d59d57",
   "metadata": {
    "id": "uDtmYVoIIZQ9"
   },
   "source": [
    "7단계) 세 자리 미만의 수를 입력하면, `세 자리의 수를 입력하세요!`를 출력하라.  \n",
    "\n",
    "힌트: `try-except ValueError-except NameError` 명령문"
   ]
  },
  {
   "cell_type": "markdown",
   "id": "634be104",
   "metadata": {},
   "source": [
    "## 문제"
   ]
  },
  {
   "cell_type": "markdown",
   "id": "94460267",
   "metadata": {
    "id": "oamaDleuHqAX"
   },
   "source": [
    "숫자 야구 게임을 다음 조건이 만족되도록 업그레이드 하라.\n",
    "\n",
    "> 참여자가 정답을 맞힐 때까지 게임이 실행된다."
   ]
  },
  {
   "cell_type": "code",
   "execution_count": 6,
   "id": "204e7d3e",
   "metadata": {},
   "outputs": [],
   "source": [
    "# 문제 5 코드를 업그레이드 하라.\n"
   ]
  },
  {
   "cell_type": "markdown",
   "id": "6167db78",
   "metadata": {},
   "source": [
    "## 문제"
   ]
  },
  {
   "cell_type": "markdown",
   "id": "fac2173e",
   "metadata": {
    "id": "oamaDleuHqAX"
   },
   "source": [
    "숫자 야구 게임을 다음 조건이 만족되도록 업그레이드 하라.\n",
    "\n",
    "> 맞혀야 하는 세 자리의 수가 무작위로 지정된다. 단, 0은 포함하지 않는다.\n",
    "\n",
    "힌트: `random.randint()` 함수를 이용한다."
   ]
  },
  {
   "cell_type": "code",
   "execution_count": 7,
   "id": "a5cc126d",
   "metadata": {},
   "outputs": [],
   "source": [
    "# 문제 6 코드를 업그레이드 하라.\n"
   ]
  },
  {
   "cell_type": "markdown",
   "id": "f55bcd38",
   "metadata": {},
   "source": [
    "## 문제"
   ]
  },
  {
   "cell_type": "markdown",
   "id": "ef83064b",
   "metadata": {
    "id": "oamaDleuHqAX"
   },
   "source": [
    "숫자 야구 게임을 다음 조건이 만족되도록 업그레이드 하라.\n",
    "\n",
    "> 게임 참여자가 영어 알파벳 `q` 또는 `Q` 를 입력하면 게임을 종료한다."
   ]
  },
  {
   "cell_type": "code",
   "execution_count": 8,
   "id": "5133cc40",
   "metadata": {},
   "outputs": [],
   "source": [
    "# 문제 7 코드를 업그레이드 하라.\n"
   ]
  },
  {
   "cell_type": "markdown",
   "id": "3846dd62",
   "metadata": {},
   "source": [
    "## 문제"
   ]
  },
  {
   "cell_type": "markdown",
   "id": "a6ddf86d",
   "metadata": {
    "id": "oamaDleuHqAX"
   },
   "source": [
    "숫자 야구 게임을 다음 조건이 만족되도록 업그레이드 하라.\n",
    "\n",
    "> 정수가 아닌 값이 입력되면 무시하고 재입력하도록 한다."
   ]
  },
  {
   "cell_type": "code",
   "execution_count": 9,
   "id": "b1e462dc",
   "metadata": {},
   "outputs": [],
   "source": [
    "# 문제 8 코드를 업그레이드 하라.\n"
   ]
  }
 ],
 "metadata": {
  "kernelspec": {
   "display_name": "Python 3 (ipykernel)",
   "language": "python",
   "name": "python3"
  },
  "language_info": {
   "codemirror_mode": {
    "name": "ipython",
    "version": 3
   },
   "file_extension": ".py",
   "mimetype": "text/x-python",
   "name": "python",
   "nbconvert_exporter": "python",
   "pygments_lexer": "ipython3",
   "version": "3.11.4"
  }
 },
 "nbformat": 4,
 "nbformat_minor": 5
}
