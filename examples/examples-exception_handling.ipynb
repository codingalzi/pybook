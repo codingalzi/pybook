{
 "cells": [
  {
   "cell_type": "markdown",
   "id": "63ac596b",
   "metadata": {
    "id": "63ac596b"
   },
   "source": [
    "# (필수 예제) 프로그램 오류와 예외처리"
   ]
  },
  {
   "cell_type": "markdown",
   "id": "abca766c",
   "metadata": {
    "id": "abca766c"
   },
   "source": [
    "**주의 사항** \n",
    "\n",
    "* 기존에 작성된 코드셀/텍스트셀은 수정하지 않는다.\n",
    "* 필요한 경우 코드셀 또는 텍스트셀을 추가할 수 있다.\n",
    "* 실습 파일을 구글 드라이브에서 링크로 누구가 공유할 수 있도록 설정하세요."
   ]
  },
  {
   "cell_type": "markdown",
   "id": "8bcd32f9",
   "metadata": {
    "id": "8bcd32f9"
   },
   "source": [
    "**문제 1**"
   ]
  },
  {
   "cell_type": "markdown",
   "id": "f3bbdcbb",
   "metadata": {
    "id": "f3bbdcbb"
   },
   "source": [
    "두 개의 정수 `a`, `b`를 입력받아 `a/b`를 계산하는 코드를 작성하여라.\n",
    "단, 아래의 내용을 만족하도록 코드를 작성한다.\n",
    "\n",
    "* 정수가 아닌 값이 입력될 경우, 정수를 입력하라고 전달한다.\n",
    "* `b`에 `0`이 입력될 경우, `0`이 아닌 숫자를 입력하라고 전달한다. \n"
   ]
  },
  {
   "cell_type": "code",
   "execution_count": null,
   "id": "1eec1739",
   "metadata": {
    "colab": {
     "base_uri": "https://localhost:8080/"
    },
    "id": "1eec1739",
    "outputId": "5e7d81ba-e658-4fab-96b3-3682c595606a"
   },
   "outputs": [
    {
     "name": "stdout",
     "output_type": "stream",
     "text": [
      "정수를 하나 입력하세요(a): 3\n",
      "정수를 하나 입력하세요(b): 0\n",
      "0이 아닌 숫자를 입력하세요\n",
      "정수를 하나 입력하세요(a): 3\n",
      "정수를 하나 입력하세요(b): 1.2\n",
      "정수를 입력해주세요\n",
      "정수를 하나 입력하세요(a): 5\n",
      "정수를 하나 입력하세요(b): 5\n",
      "1.0\n"
     ]
    }
   ],
   "source": [
    "# a = input()\n",
    "# b = input()\n",
    "#try, while\n",
    "\n",
    "while True:\n",
    "  try: \n",
    "    a = int(input(\"정수를 하나 입력하세요(a): \"))\n",
    "    b = int(input(\"정수를 하나 입력하세요(b): \"))\n",
    "    \n",
    "    if 0 <= b < 1 :\n",
    "      print(\"0이 아닌 숫자를 입력하세요\")\n",
    "      continue\n",
    "\n",
    "    break\n",
    "\n",
    "  except:\n",
    "    print(\"정수를 입력해주세요\")\n",
    "\n",
    "  \n",
    "print(a/b)\n"
   ]
  },
  {
   "cell_type": "markdown",
   "id": "5b88d1d4",
   "metadata": {
    "id": "5b88d1d4"
   },
   "source": [
    "**문제 2**"
   ]
  },
  {
   "cell_type": "markdown",
   "id": "d17cf62c",
   "metadata": {
    "id": "d17cf62c"
   },
   "source": [
    "[수 알아맞히기 게임](https://codingalzi.github.io/pybook/casestudy_guessing_numbers.html)에서 \n",
    "참여자가 1에서 100까지의 범위를 벗어나는\n",
    "정수를 입력하면 재입력을 요구하도록 업그레이드 하라.\n",
    "\n",
    "힌트: `if` 조건문을 추가로 사용한다."
   ]
  },
  {
   "cell_type": "code",
   "execution_count": null,
   "id": "522e6c8a",
   "metadata": {
    "colab": {
     "base_uri": "https://localhost:8080/"
    },
    "id": "522e6c8a",
    "outputId": "243d9c84-c3c0-49b8-d1f9-1afd36c5642e"
   },
   "outputs": [
    {
     "name": "stdout",
     "output_type": "stream",
     "text": [
      "수 알아맞히기 게임에 환영합니다.\n",
      "1부터 100 사이의 정수 하나를 입력하세요: 0\n",
      "1부터 100 사이의 정수 하나를 입력하세요: 50\n",
      "너무 작아요!\n",
      "1부터 100 사이의 정수 하나를 입력하세요: 75\n",
      "너무 커요!\n",
      "1부터 100 사이의 정수 하나를 입력하세요: 62\n",
      "너무 커요!\n",
      "1부터 100 사이의 정수 하나를 입력하세요: 56\n",
      "너무 커요!\n",
      "1부터 100 사이의 정수 하나를 입력하세요: 53\n",
      "너무 작아요!\n",
      "1부터 100 사이의 정수 하나를 입력하세요: 55\n",
      "너무 커요!\n",
      "1부터 100 사이의 정수 하나를 입력하세요: 54\n",
      "맞았습니다!\n",
      "게임 종료!\n"
     ]
    }
   ],
   "source": [
    "# 아래 코드를 업그레이드 하라.\n",
    "\n",
    "from random import randint\n",
    "\n",
    "print(\"수 알아맞히기 게임에 환영합니다.\")\n",
    "\n",
    "secret = randint(1,100)\n",
    "guess = -1\n",
    "\n",
    "while guess != secret:\n",
    "    \n",
    "     try:  # 정수 입력이 아닌 경우 대처             \n",
    "         guess = int(input(\"1부터 100 사이의 정수 하나를 입력하세요: \"))\n",
    "     except: \n",
    "         continue  # while 반복문의 처음으로 돌아가기\n",
    "\n",
    "\n",
    "     if not (1<= guess <=100):            #추가한 코드\n",
    "       continue\n",
    "   \n",
    "     if guess == secret:\n",
    "         print(\"맞았습니다!\")\n",
    "     elif guess > secret:\n",
    "         print(\"너무 커요!\")\n",
    "     else:\n",
    "         print(\"너무 작아요!\")\n",
    "\n",
    "print(\"게임 종료!\")"
   ]
  },
  {
   "cell_type": "markdown",
   "id": "fcba6e3d",
   "metadata": {
    "id": "fcba6e3d"
   },
   "source": [
    "**문제 3**"
   ]
  },
  {
   "cell_type": "markdown",
   "id": "c355f9b1",
   "metadata": {
    "id": "c355f9b1"
   },
   "source": [
    "[수 알아맞히기 게임](https://codingalzi.github.io/pybook/casestudy_guessing_numbers.html)이 종료될 때 사용자가 \n",
    "몇 번 만에 정답을 맞혔는지 알려주도록 프로그램을 업그레이드 하라.\n",
    "\n",
    "힌트: `while` 반복문이 몇 번 실행되는 횟수를 기억하는 변수를 사용한다."
   ]
  },
  {
   "cell_type": "code",
   "execution_count": null,
   "id": "c241eb58",
   "metadata": {
    "colab": {
     "base_uri": "https://localhost:8080/"
    },
    "id": "c241eb58",
    "outputId": "8cf03f60-9825-4995-cea4-5a0260d36fe4"
   },
   "outputs": [
    {
     "name": "stdout",
     "output_type": "stream",
     "text": [
      "수 알아맞히기 게임에 환영합니다.\n",
      "1부터 100 사이의 정수 하나를 입력하세요: 3222\n",
      "1부터 100 사이의 정수 하나를 입력하세요: 50\n",
      "너무 작아요!\n",
      "1부터 100 사이의 정수 하나를 입력하세요: 75\n",
      "너무 작아요!\n",
      "1부터 100 사이의 정수 하나를 입력하세요: 87\n",
      "너무 작아요!\n",
      "1부터 100 사이의 정수 하나를 입력하세요: 93\n",
      "너무 커요!\n",
      "1부터 100 사이의 정수 하나를 입력하세요: 90\n",
      "너무 커요!\n",
      "1부터 100 사이의 정수 하나를 입력하세요: 89\n",
      "너무 커요!\n",
      "1부터 100 사이의 정수 하나를 입력하세요: 88\n",
      "맞았습니다!\n",
      "게임 종료! 7 번 시도했습니다\n"
     ]
    }
   ],
   "source": [
    "# 문제 2 코드를 업그레이드 하라.\n",
    "from random import randint\n",
    "\n",
    "print(\"수 알아맞히기 게임에 환영합니다.\")\n",
    "\n",
    "secret = randint(1,100)\n",
    "guess = -1\n",
    "c = 0                               #시도 횟수 카운트\n",
    "\n",
    "while guess != secret:\n",
    "        \n",
    "     try:  # 정수 입력이 아닌 경우 대처             \n",
    "         guess = int(input(\"1부터 100 사이의 정수 하나를 입력하세요: \"))\n",
    "     except: \n",
    "         continue  # while 반복문의 처음으로 돌아가기\n",
    "\n",
    "     if guess == 0:\n",
    "         break\n",
    "\n",
    "     if not (1<= guess <=100):            #추가한 코드\n",
    "       continue\n",
    "   \n",
    "     if guess == secret:\n",
    "         print(\"맞았습니다!\")\n",
    "     elif guess > secret:\n",
    "         print(\"너무 커요!\")\n",
    "     else:\n",
    "         print(\"너무 작아요!\")\n",
    "     \n",
    "     c +=1              #최종 시도 횟수\n",
    "\n",
    "print(\"게임 종료!\" , c , \"번 시도했습니다\"  )"
   ]
  },
  {
   "cell_type": "markdown",
   "id": "673c8c99",
   "metadata": {
    "id": "673c8c99"
   },
   "source": [
    "**문제 4**"
   ]
  },
  {
   "cell_type": "markdown",
   "id": "af83745c",
   "metadata": {
    "id": "af83745c"
   },
   "source": [
    "[수 알아맞히기 게임](https://codingalzi.github.io/pybook/casestudy_guessing_numbers.html) 실행중에 \n",
    "참여자가 영어 알파벳 `q` 또는 `Q` 를 입력하면 게임이 종료되도록 프로그램을 업그레이드 하라.\n",
    "\n",
    "힌트: `int()` 함수가 사용되는 위치를 다르게 한다."
   ]
  },
  {
   "cell_type": "code",
   "execution_count": null,
   "id": "c0a4fdb8",
   "metadata": {
    "colab": {
     "base_uri": "https://localhost:8080/"
    },
    "id": "c0a4fdb8",
    "outputId": "470cef9a-e161-4b54-fd21-0feaac6e3ecc"
   },
   "outputs": [
    {
     "name": "stdout",
     "output_type": "stream",
     "text": [
      "수 알아맞히기 게임에 환영합니다.\n",
      "1부터 100 사이의 정수 하나를 입력하세요: 50\n",
      "너무 작아요!\n",
      "1부터 100 사이의 정수 하나를 입력하세요: Q\n",
      "게임 종료! 1 번 시도했습니다\n"
     ]
    }
   ],
   "source": [
    "# 문제 3 코드를 업그레이드 하라.\n",
    "from random import randint\n",
    "\n",
    "print(\"수 알아맞히기 게임에 환영합니다.\")\n",
    "\n",
    "secret = randint(1,100)\n",
    "guess = -1\n",
    "c = 0                               #시도 횟수 카운트\n",
    "\n",
    "while guess != secret:\n",
    "        \n",
    "     try:  # 정수 입력이 아닌 경우 대처             \n",
    "         guess = input(\"1부터 100 사이의 정수 하나를 입력하세요: \")\n",
    "     except: \n",
    "         continue  # while 반복문의 처음으로 돌아가기\n",
    "\n",
    "     if str(guess) == \"q\" :\n",
    "         break\n",
    "     if str(guess) == \"Q\" :\n",
    "       break\n",
    "\n",
    "     if not (1<= int(guess) <=100):            #추가한 코드\n",
    "       continue\n",
    "   \n",
    "     if int(guess) == secret:\n",
    "         print(\"맞았습니다!\")\n",
    "     elif int(guess) > secret:\n",
    "         print(\"너무 커요!\")\n",
    "     else:\n",
    "         print(\"너무 작아요!\")\n",
    "     \n",
    "     c +=1              #최종 시도 횟수\n",
    "\n",
    "print(\"게임 종료!\" , c , \"번 시도했습니다\"  )\n"
   ]
  },
  {
   "cell_type": "markdown",
   "id": "64ab7352",
   "metadata": {
    "id": "64ab7352"
   },
   "source": [
    "**문제 5**"
   ]
  },
  {
   "cell_type": "markdown",
   "id": "fc026162",
   "metadata": {
    "id": "fc026162"
   },
   "source": [
    "숫자 야구 게임은 임의로 정한 세 자리의 수(`answer`)를 참여자가 맞히는 게임으로, 아래의 규칙을 따른다.\n",
    "\n",
    "* 사용되는 수는 1부터 9까지의 서로 다른 숫자이다. \n",
    "* 참여자가 입력한 수가 `answer`와 다를 경우, 참여자에게 아래 기준에 따른 결과를 알려준다.\n",
    "  * 숫자의 위치가 맞으면, 스트라이크\n",
    "  * 숫자는 맞지만 위치가 틀리면, 볼\n",
    "  * 숫자와 위치가 모두 틀리면, 아웃\n",
    "\n",
    "예를 들어, `answer` 가 123 일 때, 참여자가 456 을 입력하면 `아웃` 을, \n",
    "257 을 입력하면 `1볼` 을, \n",
    "273 을 입력하면 `1볼 1스트라이크` 를 출력한다.\n",
    "\n",
    "숫자 야구 게임을 구현하라.\n",
    "단, 맞혀야 하는 세 자리의 수는 157로 지정한다."
   ]
  },
  {
   "cell_type": "code",
   "execution_count": null,
   "id": "fd09d349",
   "metadata": {
    "colab": {
     "base_uri": "https://localhost:8080/"
    },
    "id": "fd09d349",
    "outputId": "9f40e0ee-9016-414d-d480-fbf9dd8faaca"
   },
   "outputs": [
    {
     "name": "stdout",
     "output_type": "stream",
     "text": [
      "숫자를 3자리 입력하세요 : 168\n",
      "1스트라이크\n",
      "숫자를 3자리 입력하세요 : 468\n",
      "아웃\n",
      "숫자를 3자리 입력하세요 : 273\n",
      "1 볼\n",
      "숫자를 3자리 입력하세요 : 157\n",
      "3스트라이크\n",
      "4 회 만에 성공\n"
     ]
    }
   ],
   "source": [
    "# answer = 157\n",
    "answer = str(157)\n",
    "\n",
    "t_c = 0\n",
    "s_c = 0\n",
    "b_c = 0\n",
    "\n",
    "while(s_c< 3):\n",
    "\n",
    "  s_c = 0\n",
    "  b_c = 0\n",
    "\n",
    "  num = str(input(\"숫자를 3자리 입력하세요 : \"))\n",
    "\n",
    "  if len(num) == 3:\n",
    "\n",
    "    for i in range(3):\n",
    "      for j in range(3):\n",
    "        if num[i] == answer[j] and i == j:\n",
    "          s_c +=1\n",
    "        elif num[i] == answer[j] and i !=j:\n",
    "          b_c +=1\n",
    "\n",
    "    if s_c == 0 and b_c ==0:\n",
    "      print(\"아웃\")\n",
    "    else:\n",
    "      output = \"\"\n",
    "\n",
    "      if s_c > 0:\n",
    "        output += \"{}스트라이크\".format(s_c)\n",
    "      if b_c > 0:\n",
    "        output += \" {} 볼\".format(b_c)\n",
    "      print(output.strip())\n",
    "    t_c += 1\n",
    "\n",
    "print(\"{} 회 만에 성공\".format(t_c))\n"
   ]
  },
  {
   "cell_type": "markdown",
   "id": "634be104",
   "metadata": {
    "id": "634be104"
   },
   "source": [
    "**문제 6**"
   ]
  },
  {
   "cell_type": "markdown",
   "id": "94460267",
   "metadata": {
    "id": "94460267"
   },
   "source": [
    "숫자 야구 게임을 다음 조건이 만족되도록 업그레이드 하라.\n",
    "\n",
    "> 참여자가 정답을 맞힐 때까지 게임이 실행된다."
   ]
  },
  {
   "cell_type": "code",
   "execution_count": null,
   "id": "204e7d3e",
   "metadata": {
    "colab": {
     "base_uri": "https://localhost:8080/"
    },
    "id": "204e7d3e",
    "outputId": "c0d430ef-e795-4791-c36e-862440766a00"
   },
   "outputs": [
    {
     "name": "stdout",
     "output_type": "stream",
     "text": [
      "숫자를 3자리 입력하세요 : 394\n",
      "아웃\n",
      "숫자를 3자리 입력하세요 : 607\n",
      "1스트라이크\n",
      "숫자를 3자리 입력하세요 : 612\n",
      "1 볼\n",
      "숫자를 3자리 입력하세요 : 718\n",
      "2 볼\n",
      "숫자를 3자리 입력하세요 : 857\n",
      "2스트라이크\n",
      "숫자를 3자리 입력하세요 : 867\n",
      "1스트라이크\n",
      "숫자를 3자리 입력하세요 : 157\n",
      "3스트라이크\n",
      "7 회 만에 성공\n"
     ]
    }
   ],
   "source": [
    "# 문제 5 코드를 업그레이드 하라.\n",
    "answer = str(157)\n",
    "\n",
    "t_c = 0\n",
    "s_c = 0\n",
    "b_c = 0\n",
    "\n",
    "\n",
    "while(s_c< 3):\n",
    "\n",
    "  s_c = 0\n",
    "  b_c = 0\n",
    "\n",
    "  num = str(input(\"숫자를 3자리 입력하세요 : \"))\n",
    "\n",
    "  if len(num) == 3:\n",
    "\n",
    "    for i in range(3):\n",
    "      for j in range(3):\n",
    "        if num[i] == answer[j] and i == j:\n",
    "          s_c +=1\n",
    "        elif num[i] == answer[j] and i !=j:\n",
    "          b_c +=1\n",
    "\n",
    "    if s_c == 0 and b_c ==0:\n",
    "      print(\"아웃\")\n",
    "    else:\n",
    "      output = \"\"\n",
    "\n",
    "      if s_c > 0:\n",
    "        output += \"{}스트라이크\".format(s_c)\n",
    "      if b_c > 0:\n",
    "        output += \" {} 볼\".format(b_c)\n",
    "      print(output.strip())\n",
    "    t_c += 1\n",
    "\n",
    "print(\"{} 회 만에 성공\".format(t_c))\n",
    "\n"
   ]
  },
  {
   "cell_type": "markdown",
   "id": "6167db78",
   "metadata": {
    "id": "6167db78"
   },
   "source": [
    "**문제 7**"
   ]
  },
  {
   "cell_type": "markdown",
   "id": "fac2173e",
   "metadata": {
    "id": "fac2173e"
   },
   "source": [
    "숫자 야구 게임을 다음 조건이 만족되도록 업그레이드 하라.\n",
    "\n",
    "> 맞혀야 하는 세 자리의 수가 무작위로 지정된다. 단, 0은 포함하지 않는다.\n",
    "\n",
    "힌트: `random.randint()` 함수를 이용한다."
   ]
  },
  {
   "cell_type": "code",
   "execution_count": null,
   "id": "a5cc126d",
   "metadata": {
    "colab": {
     "base_uri": "https://localhost:8080/"
    },
    "id": "a5cc126d",
    "outputId": "48a09673-a476-4c67-e568-3317c55cc678"
   },
   "outputs": [
    {
     "name": "stdout",
     "output_type": "stream",
     "text": [
      "숫자를 3자리 입력하세요 : 157\n",
      "2스트라이크\n",
      "숫자를 3자리 입력하세요 : 156\n",
      "1스트라이크\n",
      "숫자를 3자리 입력하세요 : 187\n",
      "1스트라이크 1 볼\n",
      "숫자를 3자리 입력하세요 : 517\n",
      "1스트라이크 1 볼\n",
      "숫자를 3자리 입력하세요 : 666\n",
      "아웃\n",
      "숫자를 3자리 입력하세요 : 857\n",
      "3스트라이크\n",
      "6 회 만에 성공\n"
     ]
    }
   ],
   "source": [
    "# 문제 6 코드를 업그레이드 하라.\n",
    "\n",
    "import random\n",
    "\n",
    "numbers = []\n",
    "\n",
    "rand_num = str(random.randint(0, 9))\n",
    "\n",
    "for j in range(3):\n",
    "  while rand_num in numbers:\n",
    "    rand_num = str(random.randint(0, 9))\n",
    "  numbers.append(rand_num)\n",
    "\n",
    "\n",
    "t_c = 0\n",
    "s_c = 0\n",
    "b_c = 0\n",
    "\n",
    "\n",
    "while(s_c< 3):\n",
    "\n",
    "  s_c = 0\n",
    "  b_c = 0\n",
    "\n",
    "  num = str(input(\"숫자를 3자리 입력하세요 : \"))\n",
    "\n",
    "  if len(num) == 3:\n",
    "\n",
    "    for i in range(0, 3):\n",
    "      for j in range(0, 3):\n",
    "        if num[i] == numbers[j] and i == j:\n",
    "          s_c +=1\n",
    "        elif num[i] == numbers[j] and i !=j:\n",
    "          b_c +=1\n",
    "\n",
    "    if s_c == 0 and b_c ==0:\n",
    "      print(\"아웃\")\n",
    "    else:\n",
    "      output = \"\"\n",
    "\n",
    "      if s_c > 0:\n",
    "        output += \"{}스트라이크\".format(s_c)\n",
    "      if b_c > 0:\n",
    "        output += \" {} 볼\".format(b_c)\n",
    "      print(output.strip())\n",
    "    t_c += 1\n",
    "\n",
    "print(\"{} 회 만에 성공\".format(t_c))\n"
   ]
  },
  {
   "cell_type": "markdown",
   "id": "f55bcd38",
   "metadata": {
    "id": "f55bcd38"
   },
   "source": [
    "**문제 8**"
   ]
  },
  {
   "cell_type": "markdown",
   "id": "ef83064b",
   "metadata": {
    "id": "ef83064b"
   },
   "source": [
    "숫자 야구 게임을 다음 조건이 만족되도록 업그레이드 하라.\n",
    "\n",
    "> 게임 참여자가 영어 알파벳 `q` 또는 `Q` 를 입력하면 게임을 종료한다."
   ]
  },
  {
   "cell_type": "code",
   "execution_count": null,
   "id": "5133cc40",
   "metadata": {
    "colab": {
     "base_uri": "https://localhost:8080/",
     "height": 266
    },
    "id": "5133cc40",
    "outputId": "21c04700-f36d-4da6-da9c-0b2bc288aa2b"
   },
   "outputs": [
    {
     "name": "stdout",
     "output_type": "stream",
     "text": [
      "숫자를 3자리 입력하세요 : 520\n",
      "아웃\n",
      "숫자를 3자리 입력하세요 : 789\n",
      "1 볼\n",
      "숫자를 3자리 입력하세요 : ㅃ\n",
      "숫자를 3자리 입력하세요 : Q\n"
     ]
    },
    {
     "ename": "SystemExit",
     "evalue": "ignored",
     "output_type": "error",
     "traceback": [
      "An exception has occurred, use %tb to see the full traceback.\n",
      "\u001b[0;31mSystemExit\u001b[0m\u001b[0;31m:\u001b[0m 게임종료\n"
     ]
    },
    {
     "name": "stderr",
     "output_type": "stream",
     "text": [
      "/usr/local/lib/python3.7/dist-packages/IPython/core/interactiveshell.py:2890: UserWarning: To exit: use 'exit', 'quit', or Ctrl-D.\n",
      "  warn(\"To exit: use 'exit', 'quit', or Ctrl-D.\", stacklevel=1)\n"
     ]
    }
   ],
   "source": [
    "# 문제 7 코드를 업그레이드 하라.\n",
    "import random\n",
    "import sys\n",
    "\n",
    "numbers = []\n",
    "\n",
    "rand_num = str(random.randint(0, 9))\n",
    "\n",
    "for j in range(3):\n",
    "  while rand_num in numbers:\n",
    "    rand_num = str(random.randint(0, 9))\n",
    "  numbers.append(rand_num)\n",
    "\n",
    "\n",
    "t_c = 0\n",
    "s_c = 0\n",
    "b_c = 0\n",
    "\n",
    "\n",
    "while(s_c< 3):\n",
    "\n",
    "  s_c = 0\n",
    "  b_c = 0\n",
    "\n",
    "  num = str(input(\"숫자를 3자리 입력하세요 : \"))\n",
    "\n",
    "\n",
    "\n",
    "  if len(num) == 3:\n",
    "\n",
    "    for i in range(0, 3):\n",
    "      for j in range(0, 3):\n",
    "        if num[i] == numbers[j] and i == j:\n",
    "          s_c +=1\n",
    "        elif num[i] == numbers[j] and i !=j:\n",
    "          b_c +=1\n",
    "\n",
    "\n",
    "    if s_c == 0 and b_c ==0:\n",
    "      print(\"아웃\")\n",
    "    else:\n",
    "      output = \"\"\n",
    "\n",
    "    \n",
    "      if s_c > 0:\n",
    "        output += \"{}스트라이크\".format(s_c)\n",
    "      if b_c > 0:\n",
    "        output += \" {} 볼\".format(b_c)\n",
    "      print(output.strip())\n",
    "    t_c += 1\n",
    "  if num == \"q\" :\n",
    "      sys.exit(\"게임종료\")\n",
    "  if num == \"Q\" : \n",
    "    sys.exit(\"게임종료\")\n",
    "  \n",
    "\n",
    "\n",
    "        \n",
    "\n",
    "\n",
    "print(\"{} 회 만에 성공\".format(t_c))"
   ]
  },
  {
   "cell_type": "markdown",
   "id": "3846dd62",
   "metadata": {
    "id": "3846dd62"
   },
   "source": [
    "**문제 9**"
   ]
  },
  {
   "cell_type": "markdown",
   "id": "a6ddf86d",
   "metadata": {
    "id": "a6ddf86d"
   },
   "source": [
    "숫자 야구 게임을 다음 조건이 만족되도록 업그레이드 하라.\n",
    "\n",
    "> 정수가 아닌 값이 입력되면 무시하고 재입력하도록 한다."
   ]
  },
  {
   "cell_type": "code",
   "execution_count": null,
   "id": "b1e462dc",
   "metadata": {
    "colab": {
     "base_uri": "https://localhost:8080/",
     "height": 248
    },
    "id": "b1e462dc",
    "outputId": "4e561fc6-1736-4539-d5a5-0223775a7ed2"
   },
   "outputs": [
    {
     "name": "stdout",
     "output_type": "stream",
     "text": [
      "숫자를 3자리 입력하세요 : 520\n",
      "2 볼\n",
      "숫자를 3자리 입력하세요 : s\n",
      "숫자를 3자리 입력하세요 : s\n",
      "숫자를 3자리 입력하세요 : Q\n"
     ]
    },
    {
     "ename": "SystemExit",
     "evalue": "ignored",
     "output_type": "error",
     "traceback": [
      "An exception has occurred, use %tb to see the full traceback.\n",
      "\u001b[0;31mSystemExit\u001b[0m\u001b[0;31m:\u001b[0m 게임 종료\n"
     ]
    },
    {
     "name": "stderr",
     "output_type": "stream",
     "text": [
      "/usr/local/lib/python3.7/dist-packages/IPython/core/interactiveshell.py:2890: UserWarning: To exit: use 'exit', 'quit', or Ctrl-D.\n",
      "  warn(\"To exit: use 'exit', 'quit', or Ctrl-D.\", stacklevel=1)\n"
     ]
    }
   ],
   "source": [
    "# 문제 8 코드를 업그레이드 하라.\n",
    "import random\n",
    "import sys\n",
    "\n",
    "numbers = []\n",
    "\n",
    "rand_num = str(random.randint(0, 9))\n",
    "\n",
    "for j in range(3):\n",
    "  while rand_num in numbers:\n",
    "    rand_num = str(random.randint(0, 9))\n",
    "  numbers.append(rand_num)\n",
    "\n",
    "\n",
    "t_c = 0\n",
    "s_c = 0\n",
    "b_c = 0\n",
    "\n",
    "\n",
    "while(s_c< 3):\n",
    "\n",
    "  s_c = 0\n",
    "  b_c = 0\n",
    "\n",
    "  num = str(input(\"숫자를 3자리 입력하세요 : \"))\n",
    "\n",
    "\n",
    "\n",
    "  if len(num) == 3:\n",
    "\n",
    "    for i in range(0, 3):\n",
    "      for j in range(0, 3):\n",
    "        if num[i] == numbers[j] and i == j:\n",
    "          s_c +=1\n",
    "        elif num[i] == numbers[j] and i !=j:\n",
    "          b_c +=1\n",
    "\n",
    "\n",
    "    if s_c == 0 and b_c ==0:\n",
    "      print(\"아웃\")\n",
    "    else:\n",
    "      output = \"\"\n",
    "\n",
    "    \n",
    "      if s_c > 0:\n",
    "        output += \"{}스트라이크\".format(s_c)\n",
    "      if b_c > 0:\n",
    "        output += \" {} 볼\".format(b_c)\n",
    "      print(output.strip())\n",
    "    t_c += 1\n",
    "  if num == \"q\" :\n",
    "      sys.exit(\"게임종료\")\n",
    "  if num == \"Q\" :\n",
    "    sys.exit(\"게임 종료\") \n",
    "  \n",
    "\n",
    "\n",
    "        \n",
    "\n",
    "\n",
    "print(\"{} 회 만에 성공\".format(t_c))"
   ]
  }
 ],
 "metadata": {
  "colab": {
   "provenance": []
  },
  "kernelspec": {
   "display_name": "Python 3 (ipykernel)",
   "language": "python",
   "name": "python3"
  },
  "language_info": {
   "codemirror_mode": {
    "name": "ipython",
    "version": 3
   },
   "file_extension": ".py",
   "mimetype": "text/x-python",
   "name": "python",
   "nbconvert_exporter": "python",
   "pygments_lexer": "ipython3",
   "version": "3.11.4"
  }
 },
 "nbformat": 4,
 "nbformat_minor": 5
}
