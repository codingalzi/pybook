{
 "cells": [
  {
   "cell_type": "markdown",
   "id": "63ac596b",
   "metadata": {},
   "source": [
    "# (필수 예제) 프로그램 오류와 예외 처리"
   ]
  },
  {
   "cell_type": "markdown",
   "id": "9b82b762",
   "metadata": {},
   "source": [
    "**참고 사항**\n",
    "\n",
    "먼저 [프로그램 오류와 예외 처리](https://codingalzi.github.io/pybook/exception_handling.html) 내용을 학습하세요."
   ]
  },
  {
   "cell_type": "markdown",
   "id": "10fa79ea",
   "metadata": {},
   "source": [
    "## 예제 1"
   ]
  },
  {
   "cell_type": "markdown",
   "id": "da155a96",
   "metadata": {},
   "source": [
    "아래 명령문들을 실행해서 발생하는 오류의 종류와 원인을\n",
    "아래 형식의 예외 처리를 이용하여 설명하라.\n",
    "\n",
    "```python\n",
    "try:\n",
    "    명령문1\n",
    "except 오류종류 as err:\n",
    "    print(f\"(오류 설명) 오류종류: {err}\")\n",
    "```\n",
    "\n",
    "위 코드의 `명령문1`을 실행할 때 `오류종류`에 해당하는 오류가 발생하면\n",
    "`err`은 오류가 발생한 이유를 설명하는 문자열이 지정된다.\n",
    "따라서 오류의 발생원인을 담은 문장이 화면에 출력된다.\n",
    "\n",
    "반면에 `SyntaxError`, `IndentationError` 등은 프로그램을 실행하기 전에 발견되는\n",
    "오류이기에 `try-except` 명령문을 사용할 의미가 없다.\n",
    "이런 경우엔 오류의 원인을 찾아 제거하라."
   ]
  },
  {
   "cell_type": "markdown",
   "id": "538617f9",
   "metadata": {},
   "source": [
    "**코드 1**"
   ]
  },
  {
   "cell_type": "code",
   "execution_count": 1,
   "id": "2c1f2c32",
   "metadata": {},
   "outputs": [
    {
     "ename": "SyntaxError",
     "evalue": "expected ':' (2899925824.py, line 1)",
     "output_type": "error",
     "traceback": [
      "\u001b[0;36m  Cell \u001b[0;32mIn[1], line 1\u001b[0;36m\u001b[0m\n\u001b[0;31m    try = \"시도해봐!\"\u001b[0m\n\u001b[0m        ^\u001b[0m\n\u001b[0;31mSyntaxError\u001b[0m\u001b[0;31m:\u001b[0m expected ':'\n"
     ]
    }
   ],
   "source": [
    "try = \"시도해봐!\""
   ]
  },
  {
   "cell_type": "markdown",
   "id": "32e2aaa5",
   "metadata": {},
   "source": [
    "**답**"
   ]
  },
  {
   "cell_type": "markdown",
   "id": "9d181479",
   "metadata": {},
   "source": [
    "- `SyntaxError` 발생: `try`는 예외처리에 사용되는 키워드이며 따라서 변수명으로 허용되지 않음."
   ]
  },
  {
   "cell_type": "markdown",
   "id": "3bda6e2b",
   "metadata": {},
   "source": [
    "`SyntaxError`는 코드를 실행하기 전에 발생하는 오류이기 때문에\n",
    "`try-except` 명령문으로 감싸더라도 계속해서 `SyntaxError`가 발생한다.\n",
    "따라서 아래 코드에서처럼 `try1` 등 다른 변수명을 사용해야 한다."
   ]
  },
  {
   "cell_type": "code",
   "execution_count": 2,
   "id": "8e2e5d90",
   "metadata": {},
   "outputs": [],
   "source": [
    "try1 = \"시도해봐!\""
   ]
  },
  {
   "cell_type": "markdown",
   "id": "cb35550c",
   "metadata": {},
   "source": [
    "**코드 2**"
   ]
  },
  {
   "cell_type": "code",
   "execution_count": 3,
   "id": "b773e337",
   "metadata": {},
   "outputs": [
    {
     "ename": "IndexError",
     "evalue": "list index out of range",
     "output_type": "error",
     "traceback": [
      "\u001b[0;31m---------------------------------------------------------------------------\u001b[0m",
      "\u001b[0;31mIndexError\u001b[0m                                Traceback (most recent call last)",
      "Cell \u001b[0;32mIn[3], line 2\u001b[0m\n\u001b[1;32m      1\u001b[0m L1 \u001b[38;5;241m=\u001b[39m [\u001b[38;5;241m1\u001b[39m, \u001b[38;5;241m2\u001b[39m, \u001b[38;5;241m3\u001b[39m]\n\u001b[0;32m----> 2\u001b[0m \u001b[38;5;28mprint\u001b[39m(L1[\u001b[38;5;241m3\u001b[39m])\n",
      "\u001b[0;31mIndexError\u001b[0m: list index out of range"
     ]
    }
   ],
   "source": [
    "L1 = [1, 2, 3]\n",
    "print(L1[3])"
   ]
  },
  {
   "cell_type": "markdown",
   "id": "aaa3c376",
   "metadata": {},
   "source": [
    "**답**"
   ]
  },
  {
   "cell_type": "markdown",
   "id": "d621c5d9",
   "metadata": {},
   "source": [
    "- `IndexError` 발생: 길이가 `n`인 리스트에 사용할 수 있는 인덱스는 `-n`부터 `n-1` 사이의 정수만 해당함."
   ]
  },
  {
   "cell_type": "code",
   "execution_count": 4,
   "id": "80a65767",
   "metadata": {},
   "outputs": [
    {
     "data": {
      "text/plain": [
       "3"
      ]
     },
     "execution_count": 4,
     "metadata": {},
     "output_type": "execute_result"
    }
   ],
   "source": [
    "len(L1)"
   ]
  },
  {
   "cell_type": "markdown",
   "id": "b2e08836",
   "metadata": {},
   "source": [
    "아래와 같이 코드를 수정한다."
   ]
  },
  {
   "cell_type": "code",
   "execution_count": 5,
   "id": "e7b1bb82",
   "metadata": {},
   "outputs": [
    {
     "name": "stdout",
     "output_type": "stream",
     "text": [
      "(오류 설명) IndexError: list index out of range\n"
     ]
    }
   ],
   "source": [
    "L1 = [1, 2, 3]\n",
    "\n",
    "try:\n",
    "    print(L1[3])\n",
    "except IndexError as err:\n",
    "    print(f\"(오류 설명) IndexError: {err}\")    "
   ]
  },
  {
   "cell_type": "markdown",
   "id": "5722e77c",
   "metadata": {},
   "source": [
    "**코드 3**"
   ]
  },
  {
   "cell_type": "code",
   "execution_count": 6,
   "id": "4896c222",
   "metadata": {},
   "outputs": [
    {
     "ename": "IndentationError",
     "evalue": "unexpected indent (2501986646.py, line 3)",
     "output_type": "error",
     "traceback": [
      "\u001b[0;36m  Cell \u001b[0;32mIn[6], line 3\u001b[0;36m\u001b[0m\n\u001b[0;31m    print(i)\u001b[0m\n\u001b[0m    ^\u001b[0m\n\u001b[0;31mIndentationError\u001b[0m\u001b[0;31m:\u001b[0m unexpected indent\n"
     ]
    }
   ],
   "source": [
    "for i in range(5) :\n",
    "    i -= 2\n",
    "        print(i)"
   ]
  },
  {
   "cell_type": "markdown",
   "id": "36257c43",
   "metadata": {},
   "source": [
    "**답**"
   ]
  },
  {
   "cell_type": "markdown",
   "id": "0aee66f2",
   "metadata": {},
   "source": [
    "- `IndentationError` 발생: `for` 반복문의 본문은 아래 코드처럼 들여쓰기가 일정해야 함. "
   ]
  },
  {
   "cell_type": "markdown",
   "id": "7e70ad85",
   "metadata": {},
   "source": [
    "`IndentationError` 또한 코드를 실행하기 전에 발생하는 오류이기 때문에\n",
    "`try-except` 명령문으로 감싸더라도 계속해서 `SyntaxError`가 발생한다."
   ]
  },
  {
   "cell_type": "code",
   "execution_count": 10,
   "id": "e809fe71",
   "metadata": {},
   "outputs": [
    {
     "ename": "IndentationError",
     "evalue": "unexpected indent (1230312819.py, line 4)",
     "output_type": "error",
     "traceback": [
      "\u001b[0;36m  Cell \u001b[0;32mIn[10], line 4\u001b[0;36m\u001b[0m\n\u001b[0;31m    print(i)\u001b[0m\n\u001b[0m    ^\u001b[0m\n\u001b[0;31mIndentationError\u001b[0m\u001b[0;31m:\u001b[0m unexpected indent\n"
     ]
    }
   ],
   "source": [
    "try:\n",
    "    for i in range(5) :\n",
    "        i -= 2\n",
    "            print(i)\n",
    "except:\n",
    "    print(f\"(오류 설명) IndexError: {err}\")    "
   ]
  },
  {
   "cell_type": "markdown",
   "id": "72c39c9e",
   "metadata": {},
   "source": [
    "따라서 아래 처럼 코드를 바로 수정하는 수밖에 없다."
   ]
  },
  {
   "cell_type": "code",
   "execution_count": 7,
   "id": "197b897f",
   "metadata": {},
   "outputs": [
    {
     "name": "stdout",
     "output_type": "stream",
     "text": [
      "-2\n",
      "-1\n",
      "0\n",
      "1\n",
      "2\n"
     ]
    }
   ],
   "source": [
    "for i in range(5) :\n",
    "    i -= 2\n",
    "    print(i)"
   ]
  },
  {
   "cell_type": "markdown",
   "id": "bb827f25",
   "metadata": {},
   "source": [
    "**코드 4**"
   ]
  },
  {
   "cell_type": "code",
   "execution_count": 8,
   "id": "6926fa4e",
   "metadata": {},
   "outputs": [
    {
     "ename": "SyntaxError",
     "evalue": "expected ':' (194950019.py, line 3)",
     "output_type": "error",
     "traceback": [
      "\u001b[0;36m  Cell \u001b[0;32mIn[8], line 3\u001b[0;36m\u001b[0m\n\u001b[0;31m    if x % 3 == 0\u001b[0m\n\u001b[0m                 ^\u001b[0m\n\u001b[0;31mSyntaxError\u001b[0m\u001b[0;31m:\u001b[0m expected ':'\n"
     ]
    }
   ],
   "source": [
    "x = 27\n",
    "\n",
    "if x % 3 == 0\n",
    "    print(x, \"는(은) 3의 배수\")"
   ]
  },
  {
   "cell_type": "markdown",
   "id": "4a912966",
   "metadata": {},
   "source": [
    "**답**"
   ]
  },
  {
   "cell_type": "markdown",
   "id": "1549fdc9",
   "metadata": {},
   "source": [
    "- `SyntaxError` 발생: `if 논리식` 명령문은 아래 코드처럼 항상 콜론(`:`)으로 마무리 해야 함."
   ]
  },
  {
   "cell_type": "markdown",
   "id": "3394838a",
   "metadata": {},
   "source": [
    "`SyntaxError`는 코드를 실행하기 전에 발생하는 오류이기 때문에\n",
    "`try-except` 명령문으로 감싸더라도 계속해서 `SyntaxError`가 발생한다.\n",
    "따라서 아래 처럼 코드를 바로 수정하는 수밖에 없다."
   ]
  },
  {
   "cell_type": "code",
   "execution_count": 9,
   "id": "2130a453",
   "metadata": {},
   "outputs": [
    {
     "name": "stdout",
     "output_type": "stream",
     "text": [
      "27 는(은) 3의 배수\n"
     ]
    }
   ],
   "source": [
    "x = 27\n",
    "\n",
    "if x % 3 == 0:\n",
    "    print(x, \"는(은) 3의 배수\")"
   ]
  },
  {
   "cell_type": "markdown",
   "id": "380b0b78",
   "metadata": {},
   "source": [
    "## 예제 2"
   ]
  },
  {
   "cell_type": "markdown",
   "id": "499cff54",
   "metadata": {},
   "source": [
    "아래처럼 출력을 하는 코드를 구현하려 한다."
   ]
  },
  {
   "cell_type": "markdown",
   "id": "dd372184",
   "metadata": {},
   "source": [
    "```\n",
    "* * * * * \n",
    "  * * * * \n",
    "    * * * \n",
    "      * * \n",
    "        * \n",
    "        * \n",
    "      * * \n",
    "    * * * \n",
    "  * * * * \n",
    "* * * * * \n",
    "```"
   ]
  },
  {
   "cell_type": "markdown",
   "id": "d9e5065c",
   "metadata": {},
   "source": [
    "그런데 아래 코드를 실행하면 원하는 모양이 출력되지 않는다."
   ]
  },
  {
   "cell_type": "code",
   "execution_count": 9,
   "id": "02521736",
   "metadata": {},
   "outputs": [
    {
     "name": "stdout",
     "output_type": "stream",
     "text": [
      "* * * * * \n",
      "* * * * \n",
      "* * * \n",
      "* * \n",
      "* \n",
      "* \n",
      "* * \n",
      "* * * \n",
      "* * * * \n",
      "* * * * * \n"
     ]
    }
   ],
   "source": [
    "num = 0\n",
    "while num < 10:\n",
    "    if num < 5:\n",
    "        stars = 5 - num\n",
    "    else:\n",
    "        stars = num - 4\n",
    "        \n",
    "    print(\"* \" * stars)\n",
    "        \n",
    "    num += 1"
   ]
  },
  {
   "cell_type": "markdown",
   "id": "6b9c2d28",
   "metadata": {},
   "source": [
    "위 코드를 수정하여 원하는 모양이 출력되도록 하라.\n",
    "\n",
    "힌트: 각 행에서 공백 출력을 먼저하도록 한다. 그러기 위해 몇 개의 공백을 출력해야할지 정하는 변수 `spaces`를 선언해서 활용한다.\n",
    "그런다음 위 코드에 공백 출력과 관련된 부분만 새롭게 추가한다."
   ]
  },
  {
   "cell_type": "markdown",
   "id": "b52491c8",
   "metadata": {},
   "source": [
    "**답**"
   ]
  },
  {
   "cell_type": "markdown",
   "id": "99648efb",
   "metadata": {},
   "source": [
    "- 위 코드에서 별을 출력하는 부분은 정확함.\n",
    "- 다만 별 출력 이전에 공백을 추가해야 하기에 출력에 필요한 공백의 크기를 정해야 함.\n",
    "- `num`이 0부터 4까지 변할 때 공백크기는 0부터 8까지 2씩 커짐: `spaces = num * 2`\n",
    "- `num`이 5부터 9까지 변할 때 공백크기는 8부터 0까지 2씩 작아짐: `spaces = (9-num) * 2`\n",
    "- 결론: 아래 코드에서처럼 `spaces` 변수 선언문을 경우에 따라 다르게 선언한 후에 `print()` 함수를 살짝 수정하면 됨."
   ]
  },
  {
   "cell_type": "code",
   "execution_count": 10,
   "id": "f80718f9",
   "metadata": {},
   "outputs": [
    {
     "name": "stdout",
     "output_type": "stream",
     "text": [
      "* * * * * \n",
      "  * * * * \n",
      "    * * * \n",
      "      * * \n",
      "        * \n",
      "        * \n",
      "      * * \n",
      "    * * * \n",
      "  * * * * \n",
      "* * * * * \n"
     ]
    }
   ],
   "source": [
    "num = 0\n",
    "while num < 10:\n",
    "    if num < 5:\n",
    "        stars = 5 - num\n",
    "        spaces = num * 2\n",
    "    else:\n",
    "        stars = num - 4\n",
    "        spaces = (9 - num) * 2\n",
    "        \n",
    "    print(\" \" * spaces + \"* \" * stars)\n",
    "        \n",
    "    num += 1"
   ]
  },
  {
   "cell_type": "markdown",
   "id": "d09d0bee",
   "metadata": {},
   "source": [
    "## 예제 3"
   ]
  },
  {
   "cell_type": "markdown",
   "id": "06f1ffd4",
   "metadata": {},
   "source": [
    "아래처럼 출력하는 코드를 구현하려 한다."
   ]
  },
  {
   "cell_type": "markdown",
   "id": "4290baea",
   "metadata": {},
   "source": [
    "```python\n",
    "[0, 1]\n",
    "[0, 2]\n",
    "[0, 3]\n",
    "[1, 2]\n",
    "[1, 3]\n",
    "[2, 3]\n",
    "```"
   ]
  },
  {
   "cell_type": "markdown",
   "id": "1706be51",
   "metadata": {},
   "source": [
    "그런데 아래 코드를 실행하면 원하는 모양이 출력되지 않는다."
   ]
  },
  {
   "cell_type": "code",
   "execution_count": 11,
   "id": "7f05cfc4",
   "metadata": {},
   "outputs": [
    {
     "name": "stdout",
     "output_type": "stream",
     "text": [
      "[1, 0]\n",
      "[2, 0]\n",
      "[3, 0]\n",
      "[2, 1]\n",
      "[3, 1]\n",
      "[3, 2]\n"
     ]
    }
   ],
   "source": [
    "i = 0\n",
    "while i < 4:\n",
    "    j = 0\n",
    "    while j < 4:\n",
    "        if j > i:\n",
    "            print([j, i])\n",
    "        j += 1\n",
    "    i += 1"
   ]
  },
  {
   "cell_type": "markdown",
   "id": "96b1a347",
   "metadata": {},
   "source": [
    "위 코드를 수정하여 원하는 모양이 출력되도록 하라.\n",
    "\n",
    "힌트: 한 행의 코드만 수정하면 된다."
   ]
  },
  {
   "cell_type": "markdown",
   "id": "a43c3381",
   "metadata": {},
   "source": [
    "**답**"
   ]
  },
  {
   "cell_type": "markdown",
   "id": "ca567e34",
   "metadata": {},
   "source": [
    "- `i`와 `j`가 0부터 3까지 변할 때 `j > i` 일 때만 `print()` 함수 실행\n",
    "- 그런데 출력되는 어레이의 0번과 1번 인덱스의 값의 위치가 서로 바뀜.\n",
    "- 따라서 `print([i, j])`를 `print([j, i])` 대신 사용."
   ]
  },
  {
   "cell_type": "code",
   "execution_count": 12,
   "id": "b2decc97",
   "metadata": {},
   "outputs": [
    {
     "name": "stdout",
     "output_type": "stream",
     "text": [
      "[0, 1]\n",
      "[0, 2]\n",
      "[0, 3]\n",
      "[1, 2]\n",
      "[1, 3]\n",
      "[2, 3]\n"
     ]
    }
   ],
   "source": [
    "i = 0\n",
    "while i < 4:\n",
    "    j = 0\n",
    "    while j < 4:\n",
    "        if j > i:\n",
    "            print([i, j])\n",
    "        j += 1\n",
    "    i += 1"
   ]
  },
  {
   "cell_type": "markdown",
   "id": "848011b8",
   "metadata": {},
   "source": [
    "## 예제 4"
   ]
  },
  {
   "cell_type": "markdown",
   "id": "bd15c340",
   "metadata": {},
   "source": [
    "문자열을 인자로 입력받을 때\n",
    "부동소수점 형식이면 부동소수점으로 변환된 값을,\n",
    "아니면 문자열 그대로를 반환하는 함수 `whether_float()`를\n",
    "예외 처리를 이용하여 구현하라."
   ]
  },
  {
   "cell_type": "markdown",
   "id": "cad5ca3f",
   "metadata": {},
   "source": [
    "**답**"
   ]
  },
  {
   "cell_type": "markdown",
   "id": "79fed765",
   "metadata": {},
   "source": [
    "변수 `x`가 가리키는 문자열이 부동소수점 형식을 갖추지 못한 경우 `float(x)`를 호출하면 \n",
    "`ValueError` 오류가 발생한다."
   ]
  },
  {
   "cell_type": "code",
   "execution_count": 13,
   "id": "0992d463",
   "metadata": {},
   "outputs": [
    {
     "ename": "ValueError",
     "evalue": "could not convert string to float: '3.14abc'",
     "output_type": "error",
     "traceback": [
      "\u001b[0;31m---------------------------------------------------------------------------\u001b[0m",
      "\u001b[0;31mValueError\u001b[0m                                Traceback (most recent call last)",
      "Cell \u001b[0;32mIn[13], line 2\u001b[0m\n\u001b[1;32m      1\u001b[0m x \u001b[38;5;241m=\u001b[39m \u001b[38;5;124m'\u001b[39m\u001b[38;5;124m3.14abc\u001b[39m\u001b[38;5;124m'\u001b[39m\n\u001b[0;32m----> 2\u001b[0m \u001b[38;5;28mfloat\u001b[39m(x)\n",
      "\u001b[0;31mValueError\u001b[0m: could not convert string to float: '3.14abc'"
     ]
    }
   ],
   "source": [
    "x = '3.14abc'\n",
    "float(x)"
   ]
  },
  {
   "cell_type": "markdown",
   "id": "1ef594bb",
   "metadata": {},
   "source": [
    "반면에 부동소수점 형식이면 정상적으로 부동소수점으로 변환된 값을 반환한다."
   ]
  },
  {
   "cell_type": "code",
   "execution_count": 14,
   "id": "4e20b7f5",
   "metadata": {},
   "outputs": [
    {
     "data": {
      "text/plain": [
       "3.14159"
      ]
     },
     "execution_count": 14,
     "metadata": {},
     "output_type": "execute_result"
    }
   ],
   "source": [
    "x = '3.14159'\n",
    "float(x)"
   ]
  },
  {
   "cell_type": "markdown",
   "id": "cdceeca2",
   "metadata": {},
   "source": [
    "따라서 `x`가 주어졌을 때 `float(x)`를 먼저 실행한 다음\n",
    "오류가 발생할 경우에 대해 예외처리를 진행한다.\n",
    "아래 `whether_float()` 함수는 오류가 발생할 경우 `x`를 반환하도록 설정되었다."
   ]
  },
  {
   "cell_type": "code",
   "execution_count": 15,
   "id": "53631e25",
   "metadata": {},
   "outputs": [],
   "source": [
    "def whether_float(x):\n",
    "    try:\n",
    "        return float(x)\n",
    "    except:\n",
    "        return x"
   ]
  },
  {
   "cell_type": "code",
   "execution_count": 16,
   "id": "d5b0a743",
   "metadata": {},
   "outputs": [
    {
     "data": {
      "text/plain": [
       "3.14159"
      ]
     },
     "execution_count": 16,
     "metadata": {},
     "output_type": "execute_result"
    }
   ],
   "source": [
    "whether_float('3.14159')"
   ]
  },
  {
   "cell_type": "code",
   "execution_count": 17,
   "id": "f1a04536",
   "metadata": {},
   "outputs": [
    {
     "data": {
      "text/plain": [
       "'3.14abc'"
      ]
     },
     "execution_count": 17,
     "metadata": {},
     "output_type": "execute_result"
    }
   ],
   "source": [
    "whether_float('3.14abc')"
   ]
  },
  {
   "cell_type": "code",
   "execution_count": 18,
   "id": "c47efa7d",
   "metadata": {},
   "outputs": [
    {
     "data": {
      "text/plain": [
       "'부동소수점 모양의 문자열이 아닙니다.'"
      ]
     },
     "execution_count": 18,
     "metadata": {},
     "output_type": "execute_result"
    }
   ],
   "source": [
    "whether_float('부동소수점 모양의 문자열이 아닙니다.')"
   ]
  },
  {
   "cell_type": "markdown",
   "id": "0dbe8b13",
   "metadata": {},
   "source": [
    "예외처리 단계에서 `ValueError` 만을 다루게 할 수도 있다."
   ]
  },
  {
   "cell_type": "code",
   "execution_count": 19,
   "id": "cb911802",
   "metadata": {},
   "outputs": [],
   "source": [
    "def whether_float(x):\n",
    "    try:\n",
    "        return float(x)\n",
    "    except ValueError:\n",
    "        return x"
   ]
  },
  {
   "cell_type": "code",
   "execution_count": 20,
   "id": "5a639915",
   "metadata": {},
   "outputs": [
    {
     "data": {
      "text/plain": [
       "3.14159"
      ]
     },
     "execution_count": 20,
     "metadata": {},
     "output_type": "execute_result"
    }
   ],
   "source": [
    "whether_float('3.14159')"
   ]
  },
  {
   "cell_type": "code",
   "execution_count": 21,
   "id": "2090ae2f",
   "metadata": {},
   "outputs": [
    {
     "data": {
      "text/plain": [
       "'3.14abc'"
      ]
     },
     "execution_count": 21,
     "metadata": {},
     "output_type": "execute_result"
    }
   ],
   "source": [
    "whether_float('3.14abc')"
   ]
  },
  {
   "cell_type": "code",
   "execution_count": 22,
   "id": "db4d4166",
   "metadata": {},
   "outputs": [
    {
     "data": {
      "text/plain": [
       "'부동소수점 모양의 문자열이 아닙니다.'"
      ]
     },
     "execution_count": 22,
     "metadata": {},
     "output_type": "execute_result"
    }
   ],
   "source": [
    "whether_float('부동소수점 모양의 문자열이 아닙니다.')"
   ]
  },
  {
   "cell_type": "markdown",
   "id": "9eb372e8",
   "metadata": {},
   "source": [
    "## 예제 5"
   ]
  },
  {
   "cell_type": "markdown",
   "id": "4c43cdd4",
   "metadata": {},
   "source": [
    "문자열 인덱싱을 이용하여 문자열에 포함된 문자를 확인할 수 있다.\n",
    "예를 들어 첫째 문자는 0을, 셋째 문자는 2를 인덱스로 활용한다."
   ]
  },
  {
   "cell_type": "code",
   "execution_count": 23,
   "id": "b7c4d232",
   "metadata": {},
   "outputs": [
    {
     "data": {
      "text/plain": [
       "'p'"
      ]
     },
     "execution_count": 23,
     "metadata": {},
     "output_type": "execute_result"
    }
   ],
   "source": [
    "a_string = 'python'\n",
    "\n",
    "a_string[0]"
   ]
  },
  {
   "cell_type": "code",
   "execution_count": 24,
   "id": "ae3cf464",
   "metadata": {},
   "outputs": [
    {
     "data": {
      "text/plain": [
       "'t'"
      ]
     },
     "execution_count": 24,
     "metadata": {},
     "output_type": "execute_result"
    }
   ],
   "source": [
    "a_string[2]"
   ]
  },
  {
   "cell_type": "markdown",
   "id": "8f9d70de",
   "metadata": {},
   "source": [
    "그런데 인덱스로 사용될 수 있는 정수들의 범위는 문자열에 따라 달라진다.\n",
    "`python` 문자열이 6개의 문자로 구성되었기에 인덱스로 사용될 수 있는 정수는\n",
    "0부터 5까지 또는 -6부터 -1까지이다.\n",
    "그 이외의 정수에 대해서는 아래처럼 `IndexError`가 발생한다."
   ]
  },
  {
   "cell_type": "code",
   "execution_count": 25,
   "id": "8323deb7",
   "metadata": {},
   "outputs": [
    {
     "ename": "IndexError",
     "evalue": "string index out of range",
     "output_type": "error",
     "traceback": [
      "\u001b[0;31m---------------------------------------------------------------------------\u001b[0m",
      "\u001b[0;31mIndexError\u001b[0m                                Traceback (most recent call last)",
      "Cell \u001b[0;32mIn[25], line 1\u001b[0m\n\u001b[0;32m----> 1\u001b[0m a_string[\u001b[38;5;241m6\u001b[39m]\n",
      "\u001b[0;31mIndexError\u001b[0m: string index out of range"
     ]
    }
   ],
   "source": [
    "a_string[6]"
   ]
  },
  {
   "cell_type": "code",
   "execution_count": 26,
   "id": "d89153dd",
   "metadata": {},
   "outputs": [
    {
     "ename": "IndexError",
     "evalue": "string index out of range",
     "output_type": "error",
     "traceback": [
      "\u001b[0;31m---------------------------------------------------------------------------\u001b[0m",
      "\u001b[0;31mIndexError\u001b[0m                                Traceback (most recent call last)",
      "Cell \u001b[0;32mIn[26], line 1\u001b[0m\n\u001b[0;32m----> 1\u001b[0m a_string[\u001b[38;5;241m-\u001b[39m\u001b[38;5;241m7\u001b[39m]\n",
      "\u001b[0;31mIndexError\u001b[0m: string index out of range"
     ]
    }
   ],
   "source": [
    "a_string[-7]"
   ]
  },
  {
   "cell_type": "markdown",
   "id": "13c9c2b7",
   "metadata": {},
   "source": [
    "**질문**"
   ]
  },
  {
   "cell_type": "markdown",
   "id": "0aaec0dc",
   "metadata": {},
   "source": [
    "-10부터 10까지의 정수 `n`에 대해 `a_string[n]`을 출력하는 `for` 반복문을 작성하라.\n",
    "단, `IndexError` 오류가 발생할 경우 \"인덱스 범위 벗어남\"을 출력하라.\n",
    "\n",
    "힌트: `try ... except IndexError:` 명령문 활용"
   ]
  },
  {
   "cell_type": "markdown",
   "id": "213d98ad",
   "metadata": {},
   "source": [
    "**답**"
   ]
  },
  {
   "cell_type": "markdown",
   "id": "499e25c1",
   "metadata": {},
   "source": [
    "- `n`이 -10부터 10까지 변할 때 먼저 `a_string[n]`을 실행하도록 함\n",
    "- `n`이 허용된 범위를 넘어설 경우 `IndexError`가 발생할 것이기에 이에 대해 아래 코드처럼 예외처리 실행.\n",
    "- `n`이 -6부터 -1까지 변할 때 한 번, 그리고 0부터 5까지 변할 때 또 한 번 전체 문자가 출력됨."
   ]
  },
  {
   "cell_type": "code",
   "execution_count": 27,
   "id": "baa07257",
   "metadata": {},
   "outputs": [
    {
     "name": "stdout",
     "output_type": "stream",
     "text": [
      "인덱스 범위 벗어남\n",
      "인덱스 범위 벗어남\n",
      "인덱스 범위 벗어남\n",
      "인덱스 범위 벗어남\n",
      "p\n",
      "y\n",
      "t\n",
      "h\n",
      "o\n",
      "n\n",
      "p\n",
      "y\n",
      "t\n",
      "h\n",
      "o\n",
      "n\n",
      "인덱스 범위 벗어남\n",
      "인덱스 범위 벗어남\n",
      "인덱스 범위 벗어남\n",
      "인덱스 범위 벗어남\n",
      "인덱스 범위 벗어남\n"
     ]
    }
   ],
   "source": [
    "a_string = \"python\"\n",
    "\n",
    "for n in range(-10, 11):\n",
    "    try:\n",
    "        print(a_string[n])\n",
    "    except IndexError:\n",
    "        print(\"인덱스 범위 벗어남\")"
   ]
  },
  {
   "cell_type": "markdown",
   "id": "9eaecf70",
   "metadata": {
    "id": "RJGEd1T44JF0"
   },
   "source": [
    "## 예제 6"
   ]
  },
  {
   "cell_type": "markdown",
   "id": "ba4fbf1d",
   "metadata": {
    "id": "RJGEd1T44JF0"
   },
   "source": [
    "숫자 야구 게임은 임의로 정한 세 자리의 수를 참여자가 맞히는 게임이며 규칙은 다음과 같다.\n",
    "\n",
    "- 첫째, 1에서 9 사이의 서로 다른 숫자로 이루어진 세 자리 정수를 입력한다.\n",
    "- 둘째, 세 자리 숫자를 정확하게 맞혔으면 `'홈런'`을 출력한다.\n",
    "- 셋째, 세 자리수를 정확하게 맞히지 못했다면 \n",
    "    참여자가 입력한 수가 맞혀야 하는 세 자리 수와 어떻게 다른지 여부에 따라\n",
    "    참여자에게 아래 규칙에 따른 결과를 출력한다.\n",
    "    \n",
    "    * 숫자와 위치가 맞으면, 스트라이크\n",
    "    * 숫자는 맞지만 위치가 틀리면, 볼\n",
    "    * 숫자와 위치가 모두 틀리면, 아웃  \n",
    "\n",
    "예를 들어, 맞혀야 하는 수가 123일 때 다음과 같이 출력한다.\n",
    "\n",
    "- 참여자가 123을 입력할 때: `'홈런'`\n",
    "- 참여자가 456을 입력할 때: `'아웃'` \n",
    "- 참여자가 257을 입력할 때: `'1 볼'`\n",
    "- 참여자가 273을 입력할 때: `'1 볼 1 스트라이크'`"
   ]
  },
  {
   "cell_type": "markdown",
   "id": "7b228058",
   "metadata": {},
   "source": [
    "아래 코드는 숫자 야구 게임을 실행한다.\n",
    "사용자의 입력값이 정수가 아니면 세 자리 정수를 다시 입력하도록 요구한다."
   ]
  },
  {
   "cell_type": "code",
   "execution_count": 28,
   "id": "63c262a6",
   "metadata": {},
   "outputs": [
    {
     "name": "stdout",
     "output_type": "stream",
     "text": [
      "1에서 9사이의 서로 다른 숫자로 구성된 세자리 정수를 입력하세요: 25.77\n",
      "1에서 9사이의 서로 다른 숫자로 구성된 세자리 정수를 입력하세요: 456\n",
      "아웃\n"
     ]
    }
   ],
   "source": [
    "answer = str(123)\n",
    "\n",
    "while True:\n",
    "    guess = input('1에서 9사이의 서로 다른 숫자로 구성된 세자리 정수를 입력하세요: ')\n",
    "    \n",
    "    # 정수 입력 여부 확인\n",
    "    try:\n",
    "        int(guess)\n",
    "    except ValueError:\n",
    "        continue\n",
    "\n",
    "    ball = 0\n",
    "    strike = 0\n",
    "\n",
    "    for i in range(3):\n",
    "        if answer[i] == guess[i]:\n",
    "            strike += 1\n",
    "        elif guess[i] in answer:\n",
    "            ball += 1\n",
    "\n",
    "    if strike == 3:\n",
    "        print('홈런')\n",
    "    elif strike == 0:\n",
    "        if ball == 0:\n",
    "            print('아웃')\n",
    "        else:\n",
    "            print(ball, '볼')\n",
    "    else:\n",
    "        if ball == 0:\n",
    "            print(strike, '스트라이크')\n",
    "        else:\n",
    "            print(ball, '볼', strike, '스트라이크')\n",
    "            \n",
    "    break"
   ]
  },
  {
   "cell_type": "markdown",
   "id": "57990910",
   "metadata": {},
   "source": [
    "**질문**"
   ]
  },
  {
   "cell_type": "markdown",
   "id": "dc4687c5",
   "metadata": {
    "id": "oamaDleuHqAX"
   },
   "source": [
    "위 코드는 하지만 맞혀야 하는 수가 123으로 고정되었다.\n",
    "맞혀야 하는 세 자리의 수가 무작위로 지정되도록 위 코드를 수정하라.\n",
    "단 숫자 0은 절대로 포함되지 않아야 한다.\n",
    "\n",
    "힌트: `random.randint()` 함수 활용"
   ]
  },
  {
   "cell_type": "markdown",
   "id": "55612916",
   "metadata": {},
   "source": [
    "**답**"
   ]
  },
  {
   "cell_type": "markdown",
   "id": "ecd59ec8",
   "metadata": {},
   "source": [
    "- 세 자리수 생성을 위해 `random.randint(100, 999)` 사용을 사용하면 0을 포함하지 않아야 한다는 조건믈 만족시키기 어려움\n",
    "- 대신 `random.randint(1, 9)`를 세 번 호출하여 0을 포함하지 않는 세 자리수 모양의 문자열 생성 가능.\n",
    "- 이를 위해 아래 코드 활용: `random.randint(1, 9)` 함수를 세 번 호출하여 세 개의 정수로 구성된 문자열 생성.\n",
    "\n",
    "    ```python\n",
    "    answer = ''\n",
    "    for _ in range(3):\n",
    "        answer += str(random.randint(1, 9))\n",
    "    ```"
   ]
  },
  {
   "cell_type": "code",
   "execution_count": 10,
   "id": "7b7907b4",
   "metadata": {},
   "outputs": [
    {
     "name": "stdout",
     "output_type": "stream",
     "text": [
      "1에서 9사이의 서로 다른 숫자로 구성된 세자리 정수를 입력하세요: abc\n",
      "1에서 9사이의 서로 다른 숫자로 구성된 세자리 정수를 입력하세요: 876\n",
      "1 볼\n"
     ]
    }
   ],
   "source": [
    "import random\n",
    "\n",
    "# 맞혀야 하는 세 자리 수 생성. 0을 포함하지 않음.\n",
    "answer = ''\n",
    "while len(answer) < 3:\n",
    "    num = str(random.randint(1, 9))\n",
    "    if num in answer:\n",
    "        continue\n",
    "    \n",
    "    answer += num\n",
    "\n",
    "# 게임 실행\n",
    "while True:\n",
    "    guess = input('1에서 9사이의 서로 다른 숫자로 구성된 세자리 정수를 입력하세요: ')\n",
    "    \n",
    "    # 정수 입력 여부 확인    \n",
    "    try:\n",
    "        int(guess)\n",
    "    except ValueError:\n",
    "        continue\n",
    "\n",
    "    ball = 0\n",
    "    strike = 0\n",
    "\n",
    "    for i in range(3):\n",
    "        if answer[i] == guess[i]:\n",
    "            strike += 1\n",
    "        elif guess[i] in answer:\n",
    "            ball += 1\n",
    "\n",
    "    if strike == 3:\n",
    "        print('홈런')\n",
    "    elif strike == 0:\n",
    "        if ball == 0:\n",
    "            print('아웃')\n",
    "        else:\n",
    "            print(ball, '볼')\n",
    "    else:\n",
    "        if ball == 0:\n",
    "            print(strike, '스트라이크')\n",
    "        else:\n",
    "            print(ball, '볼', strike, '스트라이크')\n",
    "            \n",
    "    break"
   ]
  },
  {
   "cell_type": "markdown",
   "id": "c4f5c216",
   "metadata": {},
   "source": [
    "## 예제 7"
   ]
  },
  {
   "cell_type": "markdown",
   "id": "a5f0db0f",
   "metadata": {},
   "source": [
    "아래 코드는 `secret` 변수에 할당된 17을 맞힐 때까지 정수입력을 반복시킨다."
   ]
  },
  {
   "cell_type": "code",
   "execution_count": 30,
   "id": "1d81e857",
   "metadata": {},
   "outputs": [
    {
     "name": "stdout",
     "output_type": "stream",
     "text": [
      "수 알아맞히기 게임에 환영합니다.\n",
      "1부터 100 사이의 정수 하나를 입력하세요: 50\n",
      "너무 커요!\n",
      "1부터 100 사이의 정수 하나를 입력하세요: 25\n",
      "너무 커요!\n",
      "1부터 100 사이의 정수 하나를 입력하세요: 12\n",
      "너무 작아요!\n",
      "1부터 100 사이의 정수 하나를 입력하세요: 18\n",
      "너무 커요!\n",
      "1부터 100 사이의 정수 하나를 입력하세요: 14\n",
      "너무 작아요!\n",
      "1부터 100 사이의 정수 하나를 입력하세요: 16\n",
      "너무 작아요!\n",
      "1부터 100 사이의 정수 하나를 입력하세요: 17\n",
      "맞았습니다!\n",
      "게임 종료!\n"
     ]
    }
   ],
   "source": [
    "print(\"수 알아맞히기 게임에 환영합니다.\")\n",
    "\n",
    "secret = 17\n",
    "guess = -1   # 이어지는 while 반복문이 최소 한 번은 실행되도록 함\n",
    "\n",
    "while guess != secret:\n",
    "    guess = int(input(\"1부터 100 사이의 정수 하나를 입력하세요: \"))\n",
    "    if guess == secret:\n",
    "        print(\"맞았습니다!\")\n",
    "    elif guess > secret:\n",
    "        print(\"너무 커요!\")\n",
    "    else:\n",
    "        print(\"너무 작아요!\")\n",
    "\n",
    "print(\"게임 종료!\")"
   ]
  },
  {
   "cell_type": "markdown",
   "id": "113bdb10",
   "metadata": {},
   "source": [
    "**질문 1**"
   ]
  },
  {
   "cell_type": "markdown",
   "id": "6d1087f0",
   "metadata": {},
   "source": [
    "그런데 위 코드는 `secret`가 가리키는 값이 일정하기에 \n",
    "한 번 실행한 다음에는 더 이상 재미가 없어진다.\n",
    "게임이 실행될 때마다\n",
    "`secret`가 가리키는 값이 1과 100까지의 정수 중에서 임의로 지정되도록\n",
    "위 코드를 수정하라.\n",
    "\n",
    "힌트: `random` 모듈의 `randint()` 함수 활용"
   ]
  },
  {
   "cell_type": "markdown",
   "id": "f01b8300",
   "metadata": {},
   "source": [
    "**답**"
   ]
  },
  {
   "cell_type": "markdown",
   "id": "f77fcc7c",
   "metadata": {},
   "source": [
    "`secret` 변수가 가리키는 값을 1부터 100 사이의 값으로 임의로 지정하기 위해\n",
    "`random.randint()` 함수를 다음과 같이 이용한다.\n",
    "\n",
    "```python\n",
    "from random import randint\n",
    "\n",
    "secret = randint(1, 100)\n",
    "```\n"
   ]
  },
  {
   "cell_type": "markdown",
   "id": "dd83ff8c",
   "metadata": {},
   "source": [
    "이전 코드에 추가하면 다음과 같다."
   ]
  },
  {
   "cell_type": "code",
   "execution_count": 31,
   "id": "4285fd35",
   "metadata": {},
   "outputs": [
    {
     "name": "stdout",
     "output_type": "stream",
     "text": [
      "수 알아맞히기 게임에 환영합니다.\n",
      "1부터 100 사이의 정수 하나를 입력하세요: 50\n",
      "너무 커요!\n",
      "1부터 100 사이의 정수 하나를 입력하세요: 25\n",
      "너무 커요!\n",
      "1부터 100 사이의 정수 하나를 입력하세요: 12\n",
      "너무 커요!\n",
      "1부터 100 사이의 정수 하나를 입력하세요: 6\n",
      "너무 커요!\n",
      "1부터 100 사이의 정수 하나를 입력하세요: 3\n",
      "너무 작아요!\n",
      "1부터 100 사이의 정수 하나를 입력하세요: 4\n",
      "맞았습니다!\n",
      "게임 종료!\n"
     ]
    }
   ],
   "source": [
    "from random import randint\n",
    "\n",
    "print(\"수 알아맞히기 게임에 환영합니다.\")\n",
    "\n",
    "secret = randint(1, 100)\n",
    "guess = -1   # 이어지는 while 반복문이 최소 한 번은 실행되도록 함\n",
    "\n",
    "while guess != secret:\n",
    "    guess = int(input(\"1부터 100 사이의 정수 하나를 입력하세요: \"))\n",
    "\n",
    "    if guess == secret:\n",
    "        print(\"맞았습니다!\")\n",
    "    elif guess > secret:\n",
    "        print(\"너무 커요!\")\n",
    "    else:\n",
    "        print(\"너무 작아요!\")\n",
    "\n",
    "print(\"게임 종료!\")"
   ]
  },
  {
   "cell_type": "markdown",
   "id": "fd9e1bc8",
   "metadata": {},
   "source": [
    "**질문 2**"
   ]
  },
  {
   "cell_type": "markdown",
   "id": "5265d42e",
   "metadata": {
    "id": "d4oQnK9_1ldL"
   },
   "source": [
    "참여자가 몇 번 시도하여 정답을 맞혔는지 게임이 종료되면서 출력되도록 \n",
    "이전 질문의 답으로 사용된 코드를 수정하라.\n",
    "예를 들어, 7 번 만에 답을 맞혔다만 다음처럼 출력되어야 한다.\n",
    "\n",
    "```\n",
    "7 번 만에 비밀을 맞혔습니다.\n",
    "```"
   ]
  },
  {
   "cell_type": "markdown",
   "id": "3d27b17b",
   "metadata": {},
   "source": [
    "**답**"
   ]
  },
  {
   "cell_type": "markdown",
   "id": "8685b32e",
   "metadata": {},
   "source": [
    "참여자가 정답을 맞히려는 시도 횟수는 `while` 반복문의 실행횟수에 해당한다.\n",
    "따라서 `while` 반복문 실행횟수를 기억하는 `count` 변수를 활용하면 다음과 같다."
   ]
  },
  {
   "cell_type": "code",
   "execution_count": 32,
   "id": "5afbd772",
   "metadata": {},
   "outputs": [
    {
     "name": "stdout",
     "output_type": "stream",
     "text": [
      "수 알아맞히기 게임에 환영합니다.\n",
      "1부터 100 사이의 정수 하나를 입력하세요: 50\n",
      "너무 커요!\n",
      "1부터 100 사이의 정수 하나를 입력하세요: 25\n",
      "너무 작아요!\n",
      "1부터 100 사이의 정수 하나를 입력하세요: 37\n",
      "너무 커요!\n",
      "1부터 100 사이의 정수 하나를 입력하세요: 31\n",
      "너무 작아요!\n",
      "1부터 100 사이의 정수 하나를 입력하세요: 34\n",
      "너무 커요!\n",
      "1부터 100 사이의 정수 하나를 입력하세요: 32\n",
      "너무 작아요!\n",
      "1부터 100 사이의 정수 하나를 입력하세요: 33\n",
      "맞았습니다!\n",
      "7 번 만에 비밀을 맞혔습니다.\n",
      "게임 종료!\n"
     ]
    }
   ],
   "source": [
    "from random import randint\n",
    "\n",
    "print(\"수 알아맞히기 게임에 환영합니다.\")\n",
    "\n",
    "secret = randint(1, 100)\n",
    "guess = -1   # 이어지는 while 반복문이 최소 한 번은 실행되도록 함\n",
    "\n",
    "count = 0\n",
    "\n",
    "while guess != secret:\n",
    "    guess = int(input(\"1부터 100 사이의 정수 하나를 입력하세요: \"))\n",
    "    count += 1\n",
    "\n",
    "    if guess == secret:\n",
    "        print(\"맞았습니다!\")\n",
    "    elif guess > secret:\n",
    "        print(\"너무 커요!\")\n",
    "    else:\n",
    "        print(\"너무 작아요!\")\n",
    "\n",
    "print(count, \"번 만에 비밀을 맞혔습니다.\")\n",
    "print(\"게임 종료!\")"
   ]
  },
  {
   "cell_type": "markdown",
   "id": "8e723edc",
   "metadata": {},
   "source": [
    "**질문 3**"
   ]
  },
  {
   "cell_type": "markdown",
   "id": "4bb52b78",
   "metadata": {},
   "source": [
    "위 코드를 수정하여 정수 입력이 아닌 경우에 재입력을 요구하도록 하라.\n",
    "\n",
    "힌트: `try ... except ...` 명령문과 `continue` 명령문 활용"
   ]
  },
  {
   "cell_type": "markdown",
   "id": "7694cb0e",
   "metadata": {},
   "source": [
    "**답**"
   ]
  },
  {
   "cell_type": "markdown",
   "id": "2edda201",
   "metadata": {},
   "source": [
    "정수 입력이 아니면 `int()` 함수에 의해 `ValueError` 오류가 발생한다.\n",
    "따라서 오류가 발생할 경우를 대비해서 `try ... except ...` 명령문으로 예외처리를\n",
    "다음과 같이 하면 된다.\n",
    "\n",
    "```python\n",
    "try:\n",
    "    guess = int(input(\"1부터 100 사이의 정수 하나를 입력하세요: \"))\n",
    "except: \n",
    "    continue\n",
    "```"
   ]
  },
  {
   "cell_type": "code",
   "execution_count": 33,
   "id": "d198eb1d",
   "metadata": {},
   "outputs": [
    {
     "name": "stdout",
     "output_type": "stream",
     "text": [
      "수 알아맞히기 게임에 환영합니다.\n",
      "1부터 100 사이의 정수 하나를 입력하세요: 45.789\n",
      "1부터 100 사이의 정수 하나를 입력하세요: abc\n",
      "1부터 100 사이의 정수 하나를 입력하세요: 50\n",
      "너무 작아요!\n",
      "1부터 100 사이의 정수 하나를 입력하세요: 75\n",
      "너무 커요!\n",
      "1부터 100 사이의 정수 하나를 입력하세요: 62\n",
      "너무 작아요!\n",
      "1부터 100 사이의 정수 하나를 입력하세요: 68\n",
      "너무 커요!\n",
      "1부터 100 사이의 정수 하나를 입력하세요: 65\n",
      "너무 커요!\n",
      "1부터 100 사이의 정수 하나를 입력하세요: 63\n",
      "너무 작아요!\n",
      "1부터 100 사이의 정수 하나를 입력하세요: 64\n",
      "맞았습니다!\n",
      "게임 종료!\n"
     ]
    }
   ],
   "source": [
    "from random import randint\n",
    "\n",
    "print(\"수 알아맞히기 게임에 환영합니다.\")\n",
    "\n",
    "secret = randint(1, 100)\n",
    "guess = -1   # 이어지는 while 반복문이 최소 한 번은 실행되도록 함\n",
    "\n",
    "while guess != secret:\n",
    "    try:\n",
    "        guess = int(input(\"1부터 100 사이의 정수 하나를 입력하세요: \"))\n",
    "    except:\n",
    "        continue\n",
    "\n",
    "    if guess == secret:\n",
    "        print(\"맞았습니다!\")\n",
    "    elif guess > secret:\n",
    "        print(\"너무 커요!\")\n",
    "    else:\n",
    "        print(\"너무 작아요!\")\n",
    "\n",
    "print(\"게임 종료!\")"
   ]
  }
 ],
 "metadata": {
  "kernelspec": {
   "display_name": "Python 3 (ipykernel)",
   "language": "python",
   "name": "python3"
  },
  "language_info": {
   "codemirror_mode": {
    "name": "ipython",
    "version": 3
   },
   "file_extension": ".py",
   "mimetype": "text/x-python",
   "name": "python",
   "nbconvert_exporter": "python",
   "pygments_lexer": "ipython3",
   "version": "3.11.7"
  }
 },
 "nbformat": 4,
 "nbformat_minor": 5
}
