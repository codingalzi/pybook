{
 "cells": [
  {
   "cell_type": "markdown",
   "metadata": {},
   "source": [
    "# (필수 예제) 문자열"
   ]
  },
  {
   "cell_type": "markdown",
   "metadata": {},
   "source": [
    "**참고 사항**\n",
    "\n",
    "1. 먼저 [문자열](https://codingalzi.github.io/pybook/strings.html) 내용을 학습하세요.\n",
    "2. [YouTube 재생목록](https://www.youtube.com/...)에 예제 풀이 동영상이 있습니다."
   ]
  },
  {
   "cell_type": "markdown",
   "metadata": {},
   "source": [
    "## 예제 1"
   ]
  },
  {
   "cell_type": "markdown",
   "metadata": {},
   "source": [
    "**질문 1**"
   ]
  },
  {
   "cell_type": "markdown",
   "metadata": {},
   "source": [
    "아래 두 개의 부동소수점을 소수점 이하 두 자리까지만 출력되도록 f-문자열을 활용하라."
   ]
  },
  {
   "cell_type": "code",
   "execution_count": 1,
   "metadata": {},
   "outputs": [],
   "source": [
    "num = 23.36778\n",
    "num1 = -84.99888"
   ]
  },
  {
   "cell_type": "markdown",
   "metadata": {},
   "source": [
    "**답**"
   ]
  },
  {
   "cell_type": "markdown",
   "metadata": {},
   "source": [
    "아래 코드는 소수점 이하 셋째 자리에서 반올림한 값을 출력한다."
   ]
  },
  {
   "cell_type": "code",
   "execution_count": 2,
   "metadata": {},
   "outputs": [
    {
     "name": "stdout",
     "output_type": "stream",
     "text": [
      "23.37\n",
      "-85.00\n"
     ]
    }
   ],
   "source": [
    "print(f\"{num:.2f}\")\n",
    "print(f\"{num1:.2f}\")"
   ]
  },
  {
   "cell_type": "markdown",
   "metadata": {},
   "source": [
    "**질문 2**"
   ]
  },
  {
   "cell_type": "markdown",
   "metadata": {},
   "source": [
    "아래 두 개의 부동소수점의 소수점을 모두 버리로 정수 부문만 출력되도록 f-문자열을 활용하라.\n",
    "단, `int()` 함수는 사용하지 않는다."
   ]
  },
  {
   "cell_type": "code",
   "execution_count": 3,
   "metadata": {},
   "outputs": [],
   "source": [
    "num2 = 23.36778\n",
    "num3 = -274.5789"
   ]
  },
  {
   "cell_type": "markdown",
   "metadata": {},
   "source": [
    "**답**"
   ]
  },
  {
   "cell_type": "markdown",
   "metadata": {},
   "source": [
    "아래 코드는 소수점 이하 첫째 자리에서 반올림한 값을 출력한다."
   ]
  },
  {
   "cell_type": "code",
   "execution_count": 4,
   "metadata": {},
   "outputs": [
    {
     "name": "stdout",
     "output_type": "stream",
     "text": [
      "23\n",
      "-275\n"
     ]
    }
   ],
   "source": [
    "print(f\"{num2:.0f}\")\n",
    "print(f\"{num3:.0f}\")"
   ]
  },
  {
   "cell_type": "markdown",
   "metadata": {},
   "source": [
    "**질문 3**"
   ]
  },
  {
   "cell_type": "markdown",
   "metadata": {},
   "source": [
    "아래 두 개의 정수를 총 다섯 칸을 차지하도록 f-문자열을 활용하라.\n",
    "단 모든 정수는 오른쪽으로 정렬되어야 하며 앞쪽 빈칸은 0으로 채운다."
   ]
  },
  {
   "cell_type": "code",
   "execution_count": 5,
   "metadata": {},
   "outputs": [],
   "source": [
    "num4 = 23\n",
    "num5 = 833"
   ]
  },
  {
   "cell_type": "markdown",
   "metadata": {},
   "source": [
    "**답**"
   ]
  },
  {
   "cell_type": "markdown",
   "metadata": {},
   "source": [
    "아래 코드는 총 5칸을 차지하도록 하며 오른쪽으로 정렬시킨다."
   ]
  },
  {
   "cell_type": "code",
   "execution_count": 6,
   "metadata": {},
   "outputs": [
    {
     "name": "stdout",
     "output_type": "stream",
     "text": [
      "00023\n",
      "00833\n"
     ]
    }
   ],
   "source": [
    "print(f\"{num4:0>5d}\")\n",
    "print(f\"{num5:0>5d}\")"
   ]
  },
  {
   "cell_type": "markdown",
   "metadata": {
    "id": "Wf5NSC6DSSky"
   },
   "source": [
    "## 예제 2"
   ]
  },
  {
   "cell_type": "markdown",
   "metadata": {
    "id": "Wf5NSC6DSSky"
   },
   "source": [
    "아래와 같이 선언된 `lyrics`변수가 있다."
   ]
  },
  {
   "cell_type": "code",
   "execution_count": 7,
   "metadata": {
    "id": "Wf5NSC6DSSky"
   },
   "outputs": [],
   "source": [
    "lyrics = \"\\t When you're smiling, the whole world smiles with you.\\n\\t \""
   ]
  },
  {
   "cell_type": "markdown",
   "metadata": {},
   "source": [
    "**질문 1**"
   ]
  },
  {
   "cell_type": "markdown",
   "metadata": {
    "id": "Wf5NSC6DSSky"
   },
   "source": [
    "문자열 양 끝에 있는 화이트 스페이스를 모두 삭제하고, 모든 문자는 소문자로 변환된 문자열을 생성하는\n",
    "한 줄 코드를 작성하라.\n",
    "또한 `\"you're\"` 대신에 `\"you are\"` 가 사용되도록 해야 한다."
   ]
  },
  {
   "cell_type": "markdown",
   "metadata": {},
   "source": [
    "**답**"
   ]
  },
  {
   "cell_type": "markdown",
   "metadata": {},
   "source": [
    "문자열의 양 끝에 있는 공백, 줄바꿈, 탭 등의 화이트 스페이스는 `strip()` 메서드로 제거한다."
   ]
  },
  {
   "cell_type": "code",
   "execution_count": 8,
   "metadata": {
    "id": "Wf5NSC6DSSky"
   },
   "outputs": [
    {
     "data": {
      "text/plain": [
       "\"When you're smiling, the whole world smiles with you.\""
      ]
     },
     "execution_count": 8,
     "metadata": {},
     "output_type": "execute_result"
    }
   ],
   "source": [
    "lyrics.strip()"
   ]
  },
  {
   "cell_type": "markdown",
   "metadata": {},
   "source": [
    "`strip()` 메서드의 반환값 또한 문자열이기에 바로 `lower()` 메서드를 \n",
    "적용하면 모든 철자가 소문자로 변환된 문자열이 생성된다."
   ]
  },
  {
   "cell_type": "code",
   "execution_count": 9,
   "metadata": {},
   "outputs": [
    {
     "data": {
      "text/plain": [
       "\"when you're smiling, the whole world smiles with you.\""
      ]
     },
     "execution_count": 9,
     "metadata": {},
     "output_type": "execute_result"
    }
   ],
   "source": [
    "lyrics.strip().lower()"
   ]
  },
  {
   "cell_type": "markdown",
   "metadata": {},
   "source": [
    "`lower()` 메서드 또한 문자열을 반환하기에 곧바로 `replace()` 메서드를 적용할 수 있다."
   ]
  },
  {
   "cell_type": "code",
   "execution_count": 10,
   "metadata": {},
   "outputs": [
    {
     "data": {
      "text/plain": [
       "'when you are smiling, the whole world smiles with you.'"
      ]
     },
     "execution_count": 10,
     "metadata": {},
     "output_type": "execute_result"
    }
   ],
   "source": [
    "lyrics.strip().lower().replace(\"you're\", \"you are\")"
   ]
  },
  {
   "cell_type": "markdown",
   "metadata": {},
   "source": [
    "**질문 2**"
   ]
  },
  {
   "cell_type": "markdown",
   "metadata": {
    "id": "Wf5NSC6DSSky"
   },
   "source": [
    "`lyrics`가 가리키는 문자열이 대문자 `W`로 시작하는지 여부를 판단하는 한 줄 코드를 작성하라.\n",
    "단, 화이트 스페이스는 무시한다."
   ]
  },
  {
   "cell_type": "markdown",
   "metadata": {},
   "source": [
    "**답**"
   ]
  },
  {
   "cell_type": "markdown",
   "metadata": {},
   "source": [
    "문자열 양 끝의 화이트스페이스를 제거한 다음에 바로 `startswith()` 메서드를 적용한다."
   ]
  },
  {
   "cell_type": "code",
   "execution_count": 11,
   "metadata": {},
   "outputs": [
    {
     "data": {
      "text/plain": [
       "True"
      ]
     },
     "execution_count": 11,
     "metadata": {},
     "output_type": "execute_result"
    }
   ],
   "source": [
    "lyrics.strip().startswith('W')"
   ]
  },
  {
   "cell_type": "markdown",
   "metadata": {},
   "source": [
    "**질문 3**"
   ]
  },
  {
   "cell_type": "markdown",
   "metadata": {
    "id": "Wf5NSC6DSSky"
   },
   "source": [
    "위 문자열이 `you.`로 끝나는지 여부를 판단하는 한 줄 코드를 작성하라.\n",
    "단, 화이트 스페이스는 무시한다."
   ]
  },
  {
   "cell_type": "markdown",
   "metadata": {},
   "source": [
    "**답**"
   ]
  },
  {
   "cell_type": "markdown",
   "metadata": {},
   "source": [
    "문자열 양 끝의 화이트스페이스를 제거한 다음에 바로 `endswith()` 메서드를 적용한다."
   ]
  },
  {
   "cell_type": "code",
   "execution_count": 12,
   "metadata": {},
   "outputs": [
    {
     "data": {
      "text/plain": [
       "True"
      ]
     },
     "execution_count": 12,
     "metadata": {},
     "output_type": "execute_result"
    }
   ],
   "source": [
    "lyrics.strip().endswith('you.')"
   ]
  },
  {
   "cell_type": "markdown",
   "metadata": {},
   "source": [
    "## 예제 3"
   ]
  },
  {
   "cell_type": "markdown",
   "metadata": {},
   "source": [
    "다음 세 개의 함수는 모두 입력된 문자열이 소문자를 포함하고 있는지 여부를 조사하도록 구현되었지만 \n",
    "하나만 제대로 작동한다.\n",
    "어느 함수가 제대로 작동하는지 확인한 다음 그 이유를 설명하라.\n",
    "또한 다른 두 함수가 적절하게 구현되지 않은 이유를 설명하라."
   ]
  },
  {
   "cell_type": "code",
   "execution_count": 13,
   "metadata": {},
   "outputs": [],
   "source": [
    "def any_lowercase1(text):\n",
    "    for c in text:\n",
    "        if c.islower():\n",
    "            return True\n",
    "        else:\n",
    "            return False\n",
    "\n",
    "def any_lowercase2(text):\n",
    "    for c in text:\n",
    "        if 'c'.islower():\n",
    "            return 'True'\n",
    "        else:\n",
    "            return 'False'\n",
    "\n",
    "def any_lowercase3(text):\n",
    "    flag = False\n",
    "    for c in text:\n",
    "        flag = flag or c.islower()\n",
    "    return flag"
   ]
  },
  {
   "cell_type": "markdown",
   "metadata": {},
   "source": [
    "**답**"
   ]
  },
  {
   "cell_type": "markdown",
   "metadata": {},
   "source": [
    "아래 문자열에 대해 위 함수를 테스트한다."
   ]
  },
  {
   "cell_type": "code",
   "execution_count": 14,
   "metadata": {},
   "outputs": [],
   "source": [
    "word1 = \"ABcDE\"\n",
    "word2 = \"ABCDE\""
   ]
  },
  {
   "cell_type": "markdown",
   "metadata": {},
   "source": [
    "**`any_lowercase1()` 함수**"
   ]
  },
  {
   "cell_type": "code",
   "execution_count": 15,
   "metadata": {},
   "outputs": [],
   "source": [
    "def any_lowercase1(text):\n",
    "    for c in text:\n",
    "        if c.islower():\n",
    "            return True\n",
    "        else:\n",
    "            return False"
   ]
  },
  {
   "cell_type": "markdown",
   "metadata": {},
   "source": [
    "인자로 입력되는 문자열의 첫 문자가 소문자의 대소문자 여부를 확인하고 바로 반환값을 지정한다.\n",
    "함수는 반환값이 지정되면 바로 실행을 종료하기에 결국 첫 문자만 확인하고 종료한다.\n",
    "따라서 `word1` 변수가 가리키는 문자열에 소문자 `'c'`가 포함되어 있지만 첫 문자가 대문자이기에 `False`를 반환한다."
   ]
  },
  {
   "cell_type": "code",
   "execution_count": 16,
   "metadata": {},
   "outputs": [
    {
     "data": {
      "text/plain": [
       "False"
      ]
     },
     "execution_count": 16,
     "metadata": {},
     "output_type": "execute_result"
    }
   ],
   "source": [
    "any_lowercase1(word1)"
   ]
  },
  {
   "cell_type": "markdown",
   "metadata": {},
   "source": [
    "**`any_lowercase2()` 함수**"
   ]
  },
  {
   "cell_type": "code",
   "execution_count": 17,
   "metadata": {},
   "outputs": [],
   "source": [
    "def any_lowercase2(text):\n",
    "    for c in text:\n",
    "        if 'c'.islower():\n",
    "            return 'True'\n",
    "        else:\n",
    "            return 'False'"
   ]
  },
  {
   "cell_type": "markdown",
   "metadata": {},
   "source": [
    "`for` 반복문의 본문이 함수의 인자를 전혀 활용하지 않는다.\n",
    "이유는 `if 'c'.islower()` 에서 사용된 `'c'`는 \n",
    "`for c in text`의 `c`와 아무 상관이 없는 영어 알파벳 c 하나로\n",
    "구성된 문자열이기 때문이다.\n",
    "또한 `'c'`가 소문자이기에 결과는 항상 문자열 `'True'`로\n",
    "심지어 부울값 `True`와 아무 상관이 없다."
   ]
  },
  {
   "cell_type": "code",
   "execution_count": 18,
   "metadata": {},
   "outputs": [
    {
     "data": {
      "text/plain": [
       "'True'"
      ]
     },
     "execution_count": 18,
     "metadata": {},
     "output_type": "execute_result"
    }
   ],
   "source": [
    "any_lowercase2(word1)"
   ]
  },
  {
   "cell_type": "code",
   "execution_count": 19,
   "metadata": {},
   "outputs": [
    {
     "data": {
      "text/plain": [
       "'True'"
      ]
     },
     "execution_count": 19,
     "metadata": {},
     "output_type": "execute_result"
    }
   ],
   "source": [
    "any_lowercase2(word2)"
   ]
  },
  {
   "cell_type": "markdown",
   "metadata": {},
   "source": [
    "**`any_lowercase3()` 함수**"
   ]
  },
  {
   "cell_type": "code",
   "execution_count": 20,
   "metadata": {},
   "outputs": [],
   "source": [
    "def any_lowercase3(text):\n",
    "    flag = False\n",
    "    for c in text:\n",
    "        flag = flag or c.islower()\n",
    "    return flag"
   ]
  },
  {
   "cell_type": "markdown",
   "metadata": {},
   "source": [
    "`flag` 변수는 소문자를 찾았는지 여부를 기억한다. \n",
    "`for c in text` 반복문에서 `c`가 `text`에 포함된 문자 하나하나를 가리킬 때\n",
    "소문자를 만나는 순간 `c.lower()`가 `True`가 되고 따라서 `or` 연산자에 의해\n",
    "`flag`이 계속해서 `True`를 가리키게 된다.\n",
    "즉, 소문자가 하나라도 포함되면 `True`를 반환한다."
   ]
  },
  {
   "cell_type": "code",
   "execution_count": 21,
   "metadata": {},
   "outputs": [
    {
     "data": {
      "text/plain": [
       "True"
      ]
     },
     "execution_count": 21,
     "metadata": {},
     "output_type": "execute_result"
    }
   ],
   "source": [
    "any_lowercase3(word1)"
   ]
  },
  {
   "cell_type": "code",
   "execution_count": 22,
   "metadata": {},
   "outputs": [
    {
     "data": {
      "text/plain": [
       "False"
      ]
     },
     "execution_count": 22,
     "metadata": {},
     "output_type": "execute_result"
    }
   ],
   "source": [
    "any_lowercase3(word2)"
   ]
  },
  {
   "cell_type": "markdown",
   "metadata": {},
   "source": [
    "결국 `any_lowercase3()` 만 소문자 포함여부를 제대로 결정한다."
   ]
  },
  {
   "cell_type": "markdown",
   "metadata": {
    "id": "6aa9fb5f"
   },
   "source": [
    "## 예제 4"
   ]
  },
  {
   "cell_type": "markdown",
   "metadata": {
    "id": "b9d29417"
   },
   "source": [
    "변수와 함수의 이름을 지정할 때 **카멜**<font size = \"2\">camel</font> 표기법 또는 \n",
    "**팟홀**<font size=\"2\">pothole</font> 표기법(**스네이크**<font size=\"2\">snake</font> 표기법으로도 불림)을 \n",
    "사용한다.\n",
    "\n",
    "* 카멜 표기법 : 소문자로 시작하고, 이어지는 단어의 시작은 대문자로 작성하는 표기법.\n",
    "    - 예제: `userName`, `printMessage`, `countA` 등. \n",
    "\n",
    "* 팟홀 표기법 또는 스네이크 표기법 : 모두 소문자를 사용하고, 단어 사이에 밑줄기호(`_`)를 사용하는 표기법. \n",
    "    - 예제: `user_name`, `print_message`, `count_a` 등.   "
   ]
  },
  {
   "cell_type": "markdown",
   "metadata": {
    "id": "b9d29417"
   },
   "source": [
    "카멜 표기법을 팟홀 표기법으로 변환하는 `camel2pothole()` 함수를 구현하라.\n",
    "\n",
    "힌트: 문자열 `isupper()`메서드 활용"
   ]
  },
  {
   "cell_type": "markdown",
   "metadata": {},
   "source": [
    "**답**"
   ]
  },
  {
   "cell_type": "markdown",
   "metadata": {},
   "source": [
    "아래 함수는 주어진 문자열에 포함된 알파벳을 대상으로\n",
    "소문자인 경우는 그대로,\n",
    "대문자인 경우엔 소문자로 변환한 다음 밑줄과 함께 연결하는\n",
    "방식으로 새로운 문자열을 생성한다.\n",
    "해당 문자가 대문자인지 여부는 문자열 `isupper()` 메서드로 판단한다."
   ]
  },
  {
   "cell_type": "code",
   "execution_count": 23,
   "metadata": {
    "colab": {
     "base_uri": "https://localhost:8080/"
    },
    "id": "ffc2f7ff",
    "outputId": "515ebc09-864a-4fa8-a50e-6a248556b3ef"
   },
   "outputs": [],
   "source": [
    "def camel2pothole(word):\n",
    "    \n",
    "    # 새 문자열 생성\n",
    "    pothole_word = \"\"\n",
    "    for char in word:\n",
    "        if char.isupper():\n",
    "            pothole_word += \"_\" + char.lower()\n",
    "        else:\n",
    "            pothole_word += char\n",
    "            \n",
    "    return pothole_word"
   ]
  },
  {
   "cell_type": "code",
   "execution_count": 24,
   "metadata": {
    "colab": {
     "base_uri": "https://localhost:8080/"
    },
    "id": "ffc2f7ff",
    "outputId": "515ebc09-864a-4fa8-a50e-6a248556b3ef"
   },
   "outputs": [
    {
     "name": "stdout",
     "output_type": "stream",
     "text": [
      "user_name\n",
      "print_message\n",
      "count_a\n",
      "one_two_three\n"
     ]
    }
   ],
   "source": [
    "print(camel2pothole(\"userName\"))\n",
    "print(camel2pothole(\"printMessage\"))\n",
    "print(camel2pothole(\"countA\"))\n",
    "print(camel2pothole(\"oneTwoThree\"))"
   ]
  },
  {
   "cell_type": "markdown",
   "metadata": {
    "colab_type": "text",
    "id": "yeGqALvE7Gwp"
   },
   "source": [
    "## 예제 5"
   ]
  },
  {
   "cell_type": "markdown",
   "metadata": {},
   "source": [
    "문자열의 `find()` 메서드가 작동하는 방식을 이해하기 위해 `find()` 함수를 직접 정의하려 한다."
   ]
  },
  {
   "cell_type": "markdown",
   "metadata": {},
   "source": [
    "**질문 1**"
   ]
  },
  {
   "cell_type": "markdown",
   "metadata": {},
   "source": [
    "문자열 `find()` 메서드에 대응하는 `find()` 함수를 직접 정의하라.\n",
    "\n",
    "* 매개 변수: 두 개의 문자열을 인자로 받는 `word1`과 `word2` 두 개 사용\n",
    "* `word1`이 `word2`를 부분 문자열로 포함할 경우 부분 문자열이 시작하는 인덱스 반환.\n",
    "    포함하지 않을 경우 -1을 반환.\n",
    "    \n",
    "단, 문자열 인덱싱, 슬라이싱만 사용하고 다른 문자열 메서드는 전혀 사용하지 않아야 한다."
   ]
  },
  {
   "cell_type": "markdown",
   "metadata": {},
   "source": [
    "**답**"
   ]
  },
  {
   "cell_type": "markdown",
   "metadata": {},
   "source": [
    "예를 들어 `'banana'` 문자열은 `'ana'` 문자열을 부분 문자열로 포함한다.\n",
    "`'ana'` 부분 문자열이 `'banana'` 문자열의 어느 인덱스에서 시작하는지를\n",
    "확인하려면 모든 인덱스에 대해 그곳에서부터 `'ana'` 문자열의 시작하는지 여부를 \n",
    "슬라이싱으로 대조하면 된다.\n",
    "\n",
    "예를 들어 1번 인덱스부터 `'ana'` 문자열이 시작하는지 여부는 다음과 같이 확인한다.\n",
    "아래 코드에서 3은 `'ana'` 문자열의 길이를 나타낸다.\n",
    "\n",
    "```python\n",
    "'banana'[1:1+3] == 'ana'\n",
    "```\n",
    "\n",
    "아래 `find()` 함수는 `word1` 문자열이 `word2` 문자열을 부분 문자열로 포함되는지 여부를\n",
    "판단하기 위해 `word1`의 모든 인덱스에 대해 `word2` 부분 문자열과 일치 여부를\n",
    "슬라이싱을 이용하여 확인하는 순간에 해당 인덱스를 반환한다.\n",
    "또한 부분 문자열을 확인하지 못하면 -1을 반환한다."
   ]
  },
  {
   "cell_type": "code",
   "execution_count": 25,
   "metadata": {
    "colab": {},
    "colab_type": "code",
    "id": "JBRiwezF7Gwp"
   },
   "outputs": [],
   "source": [
    "def find(word1, word2):\n",
    "    for idx in range(len(word1)):\n",
    "        if word2 == word1[idx:idx+len(word2)] :\n",
    "            return idx\n",
    "    return -1 "
   ]
  },
  {
   "cell_type": "code",
   "execution_count": 26,
   "metadata": {
    "colab": {},
    "colab_type": "code",
    "id": "AEP4K3Ja7Gws"
   },
   "outputs": [
    {
     "name": "stdout",
     "output_type": "stream",
     "text": [
      "1\n",
      "1\n",
      "3\n",
      "1\n",
      "-1\n"
     ]
    }
   ],
   "source": [
    "print(find('banana', 'ana'))\n",
    "print(find('heyheyhey', 'ey'))\n",
    "print(find('waikiki', 'ki'))\n",
    "print(find('ulala', 'la'))\n",
    "print(find('chukachuka', 'uKa'))"
   ]
  },
  {
   "cell_type": "markdown",
   "metadata": {},
   "source": [
    "**질문 2**"
   ]
  },
  {
   "cell_type": "markdown",
   "metadata": {},
   "source": [
    "부분 문자열의 포함 여부를 지정된 인덱스부터 확인할 수 있도록 위 함수를 수정하라.\n",
    "이를 위해 다음 `position` 매개변수를 셋째 매개변수로 추가한다."
   ]
  },
  {
   "cell_type": "markdown",
   "metadata": {},
   "source": [
    "* `position` 매개변수: 탐색을 시작하는 인덱스 지정. 기본 키워드 인자로 0 사용."
   ]
  },
  {
   "cell_type": "markdown",
   "metadata": {},
   "source": [
    "힌트: `range()` 함수의 구간 변경"
   ]
  },
  {
   "cell_type": "markdown",
   "metadata": {},
   "source": [
    "**답**"
   ]
  },
  {
   "cell_type": "markdown",
   "metadata": {},
   "source": [
    "`find()` 함수의 셋째 매개변수로 `position=0`을 사용한다.\n",
    "즉, 함수의 헤더를 다음과 같이 지정한다.\n",
    "\n",
    "```python\n",
    "def find(word1, word2, position=0)\n",
    "```\n",
    "\n",
    "`position=0`은 부분 문자열 탐색을 시작하는 인덱스를 가리키며 기본값으로 0을 사용한다.\n",
    "즉, `position` 값을 지정하지 않거나 변경하지 않는다면 `word1`이 가리키는\n",
    "문자열의 전 구간을 대상으로 부분 문자열 탐색 여부를 확인한다.\n",
    "\n",
    "반면에 `position` 값을 0이 아닌 다른 값으로 지정하면\n",
    "해당 인덱스부터 탐색을 시작한다.\n",
    "이를 위해 `range()` 함수가 지정하는 아래처럼 구간을 `position`으로 시작하도록 한다.\n",
    "\n",
    "```python\n",
    "range(position, len(word1))\n",
    "```"
   ]
  },
  {
   "cell_type": "markdown",
   "metadata": {},
   "source": [
    "`find()` 함수의 다른 부분은 동일하며, 정리하면 다음과 같다."
   ]
  },
  {
   "cell_type": "code",
   "execution_count": 27,
   "metadata": {},
   "outputs": [],
   "source": [
    "def find(word1, word2, position=0):\n",
    "    for idx in range(position, len(word1)):\n",
    "        if word2 == word1[idx:idx+len(word2)] :\n",
    "            return idx\n",
    "    return -1 "
   ]
  },
  {
   "cell_type": "markdown",
   "metadata": {},
   "source": [
    "- `position=0`을 사용하는 경우"
   ]
  },
  {
   "cell_type": "code",
   "execution_count": 28,
   "metadata": {},
   "outputs": [
    {
     "name": "stdout",
     "output_type": "stream",
     "text": [
      "1\n",
      "1\n",
      "3\n",
      "1\n",
      "-1\n"
     ]
    }
   ],
   "source": [
    "print(find('banana', 'ana'))\n",
    "print(find('heyheyhey', 'ey'))\n",
    "print(find('waikiki', 'ki'))\n",
    "print(find('ulala', 'la'))\n",
    "print(find('chukachuka', 'uKa'))"
   ]
  },
  {
   "cell_type": "markdown",
   "metadata": {},
   "source": [
    "- `position`을 다르게 지정하는 경우"
   ]
  },
  {
   "cell_type": "code",
   "execution_count": 29,
   "metadata": {},
   "outputs": [
    {
     "name": "stdout",
     "output_type": "stream",
     "text": [
      "3\n",
      "4\n",
      "5\n",
      "3\n",
      "-1\n"
     ]
    }
   ],
   "source": [
    "print(find('banana', 'ana', 2))\n",
    "print(find('heyheyhey', 'ey', 3))\n",
    "print(find('waikiki', 'ki', 4))\n",
    "print(find('ulala', 'la', 2))\n",
    "print(find('chukachuka', 'uKa'))"
   ]
  },
  {
   "cell_type": "markdown",
   "metadata": {},
   "source": [
    "## 예제 6"
   ]
  },
  {
   "cell_type": "markdown",
   "metadata": {},
   "source": [
    "어구전철은 주어진 단어에 사용된 철자의 순서를 변경해서 생성되는 단어를 가리킨다.\n",
    "예를 들어 \"python\"과 \"thpyon\" 서로 어구전철 관계다.\n",
    "주어진 두 단어의 어구전철 여부를 판정하는 `is_anagram()` 함수를 다음과 같이 구현할 수 있다."
   ]
  },
  {
   "cell_type": "markdown",
   "metadata": {},
   "source": [
    "**질문 1**"
   ]
  },
  {
   "cell_type": "markdown",
   "metadata": {},
   "source": [
    "주어진 두 단어의 어구전철 관계여부를 판단하는 `is_anagram()` 함수를 선언하라.\n",
    "\n",
    "힌트: `sorted()` 함수 활용"
   ]
  },
  {
   "cell_type": "markdown",
   "metadata": {},
   "source": [
    "**답**"
   ]
  },
  {
   "cell_type": "markdown",
   "metadata": {},
   "source": [
    "`sorted()` 함수는 는 인자로 주어지는 문자열에 포함된 알파벳을 크기 순으로 정렬한 리스트를 반환한다."
   ]
  },
  {
   "cell_type": "code",
   "execution_count": 30,
   "metadata": {},
   "outputs": [
    {
     "data": {
      "text/plain": [
       "['a', 'a', 'a', 'b', 'n', 'n']"
      ]
     },
     "execution_count": 30,
     "metadata": {},
     "output_type": "execute_result"
    }
   ],
   "source": [
    "sorted('banana')"
   ]
  },
  {
   "cell_type": "code",
   "execution_count": 31,
   "metadata": {},
   "outputs": [
    {
     "data": {
      "text/plain": [
       "['e', 'h', 'l', 'l', 'o']"
      ]
     },
     "execution_count": 31,
     "metadata": {},
     "output_type": "execute_result"
    }
   ],
   "source": [
    "sorted('hello')"
   ]
  },
  {
   "cell_type": "markdown",
   "metadata": {},
   "source": [
    "따라서 주어진 두 단어의 어구전철 여부를 `sorted()` 함수의 반환값으로 쉽게 판단할 수 있다."
   ]
  },
  {
   "cell_type": "code",
   "execution_count": 32,
   "metadata": {},
   "outputs": [],
   "source": [
    "def is_anagram(word1, word2):\n",
    "    return sorted(word1) == sorted(word2)"
   ]
  },
  {
   "cell_type": "code",
   "execution_count": 33,
   "metadata": {},
   "outputs": [
    {
     "name": "stdout",
     "output_type": "stream",
     "text": [
      "True\n",
      "False\n"
     ]
    }
   ],
   "source": [
    "print(is_anagram('banana', 'nanaab'))\n",
    "print(is_anagram('hello', 'eoolh'))"
   ]
  },
  {
   "cell_type": "markdown",
   "metadata": {},
   "source": [
    "**질문 1**"
   ]
  },
  {
   "cell_type": "markdown",
   "metadata": {},
   "source": [
    "위 함수는 그런데 공백이 포함되는 경우 정확하게 작동하지 않는다."
   ]
  },
  {
   "cell_type": "code",
   "execution_count": 34,
   "metadata": {},
   "outputs": [
    {
     "data": {
      "text/plain": [
       "False"
      ]
     },
     "execution_count": 34,
     "metadata": {},
     "output_type": "execute_result"
    }
   ],
   "source": [
    "is_anagram('happ y', ' ypp ah')"
   ]
  },
  {
   "cell_type": "markdown",
   "metadata": {},
   "source": [
    "`is_anagram()` 함수가 공백을 무시하도록 하라."
   ]
  },
  {
   "cell_type": "markdown",
   "metadata": {},
   "source": [
    "**답**"
   ]
  },
  {
   "cell_type": "markdown",
   "metadata": {},
   "source": [
    "`sorted()` 함수를 적용하기 전에 `replace()` 메서드를 이용하여 문자열에서 공백을 모두 없애면 된다."
   ]
  },
  {
   "cell_type": "code",
   "execution_count": 35,
   "metadata": {},
   "outputs": [
    {
     "data": {
      "text/plain": [
       "'happy'"
      ]
     },
     "execution_count": 35,
     "metadata": {},
     "output_type": "execute_result"
    }
   ],
   "source": [
    "'ha pp y'.replace(' ', '')"
   ]
  },
  {
   "cell_type": "markdown",
   "metadata": {},
   "source": [
    "따라서 함수를 다음과 같이 수정한다."
   ]
  },
  {
   "cell_type": "code",
   "execution_count": 36,
   "metadata": {},
   "outputs": [],
   "source": [
    "def is_anagram(word1, word2):\n",
    "    return sorted(word1.replace(\" \", \"\")) == sorted(word2.replace(\" \", \"\"))"
   ]
  },
  {
   "cell_type": "code",
   "execution_count": 37,
   "metadata": {},
   "outputs": [
    {
     "data": {
      "text/plain": [
       "True"
      ]
     },
     "execution_count": 37,
     "metadata": {},
     "output_type": "execute_result"
    }
   ],
   "source": [
    "is_anagram('happ y', ' ypp ah')"
   ]
  },
  {
   "cell_type": "markdown",
   "metadata": {},
   "source": [
    "## 예제 7"
   ]
  },
  {
   "cell_type": "markdown",
   "metadata": {},
   "source": [
    "'기러기', '토마토', '우영우', '인싸 의사의 싸인', 'bob', 'eye', 'pop'와 같이\n",
    "앞으로 읽어도, 뒤로 읽어도 동일한 문자열을 **회문**<font size='2'>palindrome</font>이라 부른다.\n",
    "단어 뿐만 아니라 문장이 주어졌을 때 회문인지 여부를 판단하는 함수를 구현하려 한다."
   ]
  },
  {
   "cell_type": "markdown",
   "metadata": {},
   "source": [
    "**질문 1**"
   ]
  },
  {
   "cell_type": "markdown",
   "metadata": {},
   "source": [
    "하나의 문자열과 함께 호출되면 공백 문자뿐만 아니라 아래 문자열에 포함된 모든 기호가 제거된 문자열을 반환하는\n",
    "`no_nonWord()` 함수를 정의하라.\n",
    "\n",
    "    ' .,!?'\n",
    "\n",
    "힌트: 문자열 `replace()` 메서드와 `for` 반복문"
   ]
  },
  {
   "cell_type": "markdown",
   "metadata": {},
   "source": [
    "**답**"
   ]
  },
  {
   "cell_type": "code",
   "execution_count": 38,
   "metadata": {},
   "outputs": [
    {
     "data": {
      "text/plain": [
       "'여보게저기저게보여'"
      ]
     },
     "execution_count": 38,
     "metadata": {},
     "output_type": "execute_result"
    }
   ],
   "source": [
    "nonWord_chr = ' .,!?'\n",
    "word = \"여보게, 저기 저게 보여?\"\n",
    "\n",
    "for chr in nonWord_chr:\n",
    "    word = word.replace(chr, \"\")\n",
    "    \n",
    "word"
   ]
  },
  {
   "cell_type": "code",
   "execution_count": 39,
   "metadata": {},
   "outputs": [],
   "source": [
    "def no_nonWord(word):\n",
    "    nonWord_chr = ' .,!?'\n",
    "    \n",
    "    for chr in nonWord_chr:\n",
    "        word = word.replace(chr, \"\")\n",
    "\n",
    "    return word"
   ]
  },
  {
   "cell_type": "code",
   "execution_count": 40,
   "metadata": {},
   "outputs": [
    {
     "data": {
      "text/plain": [
       "'여보게저기저게보여'"
      ]
     },
     "execution_count": 40,
     "metadata": {},
     "output_type": "execute_result"
    }
   ],
   "source": [
    "no_nonWord(\"여보게, 저기 저게 보여?\")"
   ]
  },
  {
   "cell_type": "code",
   "execution_count": 41,
   "metadata": {},
   "outputs": [
    {
     "data": {
      "text/plain": [
       "'다시합창합시다'"
      ]
     },
     "execution_count": 41,
     "metadata": {},
     "output_type": "execute_result"
    }
   ],
   "source": [
    "no_nonWord(\"다시! 합창합시다.\")"
   ]
  },
  {
   "cell_type": "markdown",
   "metadata": {},
   "source": [
    "**질문 2**"
   ]
  },
  {
   "cell_type": "markdown",
   "metadata": {},
   "source": [
    "하나의 문자열과 함께 호출되었얼 때 회문 여부를 `True`/`False`로 반환하는\n",
    "`palindrome()` 를 작성하라.\n",
    "단, 공백은 무시되고 대소문자도 구분하지 않는다.\n",
    "\n",
    "힌트: 문자열 `replace()`, `lower()` 메서드,  문자열 슬라이싱 등 활용"
   ]
  },
  {
   "cell_type": "code",
   "execution_count": 42,
   "metadata": {},
   "outputs": [],
   "source": [
    "def palindrome(word):\n",
    "    word_ = word.lower().replace(\" \", \"\")\n",
    "    return word_ == word_[::-1]"
   ]
  },
  {
   "cell_type": "code",
   "execution_count": 43,
   "metadata": {},
   "outputs": [],
   "source": [
    "assert palindrome(\"Bob\") == True\n",
    "assert palindrome(\"tomato\") == False\n",
    "assert palindrome(\"기러기\") == True\n",
    "assert palindrome(\"인싸 의사의 싸인\") == True\n",
    "assert palindrome(\"다시 합창합시다\") == True\n",
    "assert palindrome(\"여보게, 저기 저게 보여?\") == False"
   ]
  },
  {
   "cell_type": "markdown",
   "metadata": {},
   "source": [
    "**질문 3**"
   ]
  },
  {
   "cell_type": "markdown",
   "metadata": {},
   "source": [
    "하나의 문자열과 함께 호출되었얼 때 회문 여부를 `True`/`False`로 반환하는\n",
    "`palindrome()` 를 작성하라.\n",
    "단, 공백과 대소문자뿐만 아니라 점, 쉼표, 느낌표, 물음표, 하이픈 등도 무시한다.\n",
    "\n",
    "힌트: 문자열 `replace()`, `lower()` 메서드,  문자열 슬라이싱 등 활용"
   ]
  },
  {
   "cell_type": "markdown",
   "metadata": {},
   "source": [
    "**답**"
   ]
  },
  {
   "cell_type": "code",
   "execution_count": 44,
   "metadata": {},
   "outputs": [],
   "source": [
    "def palindrome(word):\n",
    "    word_ = word.lower()\n",
    "    word_ = no_nonWord(word_)\n",
    "    return word_ == word_[::-1]"
   ]
  },
  {
   "cell_type": "code",
   "execution_count": 45,
   "metadata": {},
   "outputs": [],
   "source": [
    "assert palindrome(\"Bob\") == True\n",
    "assert palindrome(\"tomato\") == False\n",
    "assert palindrome(\"기러기\") == True\n",
    "assert palindrome(\"인싸 의사의 싸인\") == True\n",
    "assert palindrome(\"다시! 합창합시다.\") == True\n",
    "assert palindrome(\"여보게, 저기 저게 보여?\") == True"
   ]
  }
 ],
 "metadata": {
  "colab": {
   "authorship_tag": "ABX9TyMc9fB9lcJwW8sP+Iso3pm1",
   "collapsed_sections": [],
   "name": "실습답안3.ipynb",
   "provenance": []
  },
  "kernelspec": {
   "display_name": "Python 3 (ipykernel)",
   "language": "python",
   "name": "python3"
  },
  "language_info": {
   "codemirror_mode": {
    "name": "ipython",
    "version": 3
   },
   "file_extension": ".py",
   "mimetype": "text/x-python",
   "name": "python",
   "nbconvert_exporter": "python",
   "pygments_lexer": "ipython3",
   "version": "3.11.4"
  }
 },
 "nbformat": 4,
 "nbformat_minor": 1
}
