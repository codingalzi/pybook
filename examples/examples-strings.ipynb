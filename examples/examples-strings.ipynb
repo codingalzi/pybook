{
 "cells": [
  {
   "cell_type": "markdown",
   "metadata": {},
   "source": [
    "# (필수 예제) 문자열"
   ]
  },
  {
   "cell_type": "markdown",
   "metadata": {},
   "source": [
    "**참고 사항**\n",
    "\n",
    "1. 먼저 [문자열](https://codingalzi.github.io/pybook/strings.html) 내용을 학습하세요.\n",
    "2. [YouTube 재생목록](https://www.youtube.com/...)에 예제 풀이 동영상이 있습니다."
   ]
  },
  {
   "cell_type": "markdown",
   "metadata": {},
   "source": [
    "## 예제"
   ]
  },
  {
   "cell_type": "markdown",
   "metadata": {},
   "source": [
    "**질문 1**"
   ]
  },
  {
   "cell_type": "markdown",
   "metadata": {},
   "source": [
    "아래 부동소수점을 소수점 이하 두 자리까지만 출력되도록 f-문자열을 활용하라."
   ]
  },
  {
   "cell_type": "code",
   "execution_count": 1,
   "metadata": {},
   "outputs": [],
   "source": [
    "num = 23.36778\n",
    "num1 = -84.99888"
   ]
  },
  {
   "cell_type": "markdown",
   "metadata": {},
   "source": [
    "**답**"
   ]
  },
  {
   "cell_type": "markdown",
   "metadata": {},
   "source": [
    "아래 코드는 소수점 이하 셋째 자리에서 반올림한 값을 출력한다."
   ]
  },
  {
   "cell_type": "code",
   "execution_count": 2,
   "metadata": {},
   "outputs": [
    {
     "name": "stdout",
     "output_type": "stream",
     "text": [
      "23.37\n",
      "-85.00\n"
     ]
    }
   ],
   "source": [
    "print(f\"{num:.2f}\")\n",
    "print(f\"{num1:.2f}\")"
   ]
  },
  {
   "cell_type": "markdown",
   "metadata": {},
   "source": [
    "**질문 2**"
   ]
  },
  {
   "cell_type": "markdown",
   "metadata": {},
   "source": [
    "아래 부동소수점의 소수점을 모두 버리로 정수 부문만 출력되도록 f-문자열을 활용하라.\n",
    "단, `int()` 함수는 사용하지 않는다."
   ]
  },
  {
   "cell_type": "code",
   "execution_count": 4,
   "metadata": {},
   "outputs": [],
   "source": [
    "num2 = 23.36778\n",
    "num3 = -274.5789"
   ]
  },
  {
   "cell_type": "markdown",
   "metadata": {},
   "source": [
    "**답**"
   ]
  },
  {
   "cell_type": "markdown",
   "metadata": {},
   "source": [
    "아래 코드는 소수점 이하 첫째 자리에서 반올림한 값을 출력한다."
   ]
  },
  {
   "cell_type": "code",
   "execution_count": 5,
   "metadata": {},
   "outputs": [
    {
     "name": "stdout",
     "output_type": "stream",
     "text": [
      "23\n",
      "-275\n"
     ]
    }
   ],
   "source": [
    "print(f\"{num2:.0f}\")\n",
    "print(f\"{num3:.0f}\")"
   ]
  },
  {
   "cell_type": "markdown",
   "metadata": {},
   "source": [
    "**질문 3**"
   ]
  },
  {
   "cell_type": "markdown",
   "metadata": {},
   "source": [
    "아래 두 개의 정수를 총 다섯 칸을 차지하도록 f-문자열을 활용하라.\n",
    "단 모든 정수는 오른쪽으로 정렬되어야 하며 앞쪽 빈칸은 0으로 채운다."
   ]
  },
  {
   "cell_type": "code",
   "execution_count": 6,
   "metadata": {},
   "outputs": [],
   "source": [
    "num4 = 23\n",
    "num5 = 833"
   ]
  },
  {
   "cell_type": "markdown",
   "metadata": {},
   "source": [
    "**답**"
   ]
  },
  {
   "cell_type": "markdown",
   "metadata": {},
   "source": [
    "아래 코드는 총 5칸을 차지하도록 하며 오른쪽으로 정렬시킨다."
   ]
  },
  {
   "cell_type": "code",
   "execution_count": 8,
   "metadata": {},
   "outputs": [
    {
     "name": "stdout",
     "output_type": "stream",
     "text": [
      "00023\n",
      "00833\n"
     ]
    }
   ],
   "source": [
    "print(f\"{num4:0>5d}\")\n",
    "print(f\"{num5:0>5d}\")"
   ]
  },
  {
   "cell_type": "markdown",
   "metadata": {},
   "source": [
    "## 예제"
   ]
  },
  {
   "cell_type": "markdown",
   "metadata": {},
   "source": [
    "영어 문장을 인자로 입력받았을 때 모음의 개수를 확인하는 `count_vowels()` 함수를 작성하라.\n",
    "\n",
    "힌트: 모음 알파벳으로 구성된 아래 문자열과 `in` 연산자 활용"
   ]
  },
  {
   "cell_type": "code",
   "execution_count": 9,
   "metadata": {},
   "outputs": [],
   "source": [
    "vowels='AEIOUaeiou'"
   ]
  },
  {
   "cell_type": "markdown",
   "metadata": {},
   "source": [
    "**답**"
   ]
  },
  {
   "cell_type": "markdown",
   "metadata": {},
   "source": [
    "아래 함수는 인자로 주어진 영어 문장 `text`에 대해 모음이 사용된 횟수를\n",
    "`for` 반복문을 이용하여 계산한다."
   ]
  },
  {
   "cell_type": "code",
   "execution_count": 13,
   "metadata": {},
   "outputs": [],
   "source": [
    "def count_vowels(text):\n",
    "    count = 0\n",
    "    for char in text:\n",
    "        if char in vowels:\n",
    "            count += 1\n",
    "\n",
    "    return count"
   ]
  },
  {
   "cell_type": "code",
   "execution_count": 14,
   "metadata": {},
   "outputs": [
    {
     "data": {
      "text/plain": [
       "2"
      ]
     },
     "execution_count": 14,
     "metadata": {},
     "output_type": "execute_result"
    }
   ],
   "source": [
    "count_vowels(\"O, happy\")"
   ]
  },
  {
   "cell_type": "code",
   "execution_count": 15,
   "metadata": {},
   "outputs": [
    {
     "data": {
      "text/plain": [
       "6"
      ]
     },
     "execution_count": 15,
     "metadata": {},
     "output_type": "execute_result"
    }
   ],
   "source": [
    "count_vowels(\"python data analysis\")"
   ]
  },
  {
   "cell_type": "markdown",
   "metadata": {
    "id": "6aa9fb5f"
   },
   "source": [
    "## 예제"
   ]
  },
  {
   "cell_type": "markdown",
   "metadata": {
    "id": "b9d29417"
   },
   "source": [
    "변수와 함수의 이름을 지정할 때 **카멜**<font size = \"2\">camel</font> 표기법 또는 \n",
    "**팟홀**<font size=\"2\">pothole</font> 표기법(**스네이크**<font size=\"2\">snake</font> 표기법으로도 불림)을 \n",
    "사용한다.\n",
    "\n",
    "* 카멜 표기법 : 소문자로 시작하고, 이어지는 단어의 시작은 대문자로 작성하는 표기법.\n",
    "    - 예제: `userName`, `printMessage`, `countA` 등. \n",
    "\n",
    "* 팟홀 표기법 또는 스네이크 표기법 : 모두 소문자를 사용하고, 단어 사이에 밑줄기호(`_`)를 사용하는 표기법. \n",
    "    - 예제: `user_name`, `print_message`, `count_a` 등.   \n",
    "\n",
    "\n",
    "카멜 표기법을 팟홀 표기법으로 변환하는 `camel2pothole()` 함수를 구현하라.\n",
    "\n",
    "힌트: 문자열 `isupper()`메서드 활용"
   ]
  },
  {
   "cell_type": "markdown",
   "metadata": {},
   "source": [
    "**답**"
   ]
  },
  {
   "cell_type": "markdown",
   "metadata": {},
   "source": [
    "아래 함수는 주어진 문자열에 포함된 알파벳을 대상으로\n",
    "소문자인 경우는 그대로,\n",
    "대문자인 경우엔 소문자로 변환한 다음 밑줄과 함께 연결하는\n",
    "방식으로 새로운 문자열을 생성한다.\n",
    "해당 문자가 대문자인지 여부는 문자열 `isupper()` 메서드로 판단한다."
   ]
  },
  {
   "cell_type": "code",
   "execution_count": 20,
   "metadata": {
    "colab": {
     "base_uri": "https://localhost:8080/"
    },
    "id": "ffc2f7ff",
    "outputId": "515ebc09-864a-4fa8-a50e-6a248556b3ef"
   },
   "outputs": [],
   "source": [
    "def camel2pothole(word):\n",
    "    \n",
    "    # 새 문자열 생성\n",
    "    pothole_word = \"\"\n",
    "    for char in word:\n",
    "        if char.isupper():\n",
    "            pothole_word += \"_\" + char.lower()\n",
    "        else:\n",
    "            pothole_word += char\n",
    "            \n",
    "    return pothole_word"
   ]
  },
  {
   "cell_type": "code",
   "execution_count": 21,
   "metadata": {
    "colab": {
     "base_uri": "https://localhost:8080/"
    },
    "id": "ffc2f7ff",
    "outputId": "515ebc09-864a-4fa8-a50e-6a248556b3ef"
   },
   "outputs": [
    {
     "name": "stdout",
     "output_type": "stream",
     "text": [
      "user_name\n",
      "print_message\n",
      "count_a\n",
      "one_two_three\n"
     ]
    }
   ],
   "source": [
    "print(camel2pothole(\"userName\"))\n",
    "print(camel2pothole(\"printMessage\"))\n",
    "print(camel2pothole(\"countA\"))\n",
    "print(camel2pothole(\"oneTwoThree\"))"
   ]
  },
  {
   "cell_type": "markdown",
   "metadata": {},
   "source": [
    "## 예제"
   ]
  },
  {
   "cell_type": "markdown",
   "metadata": {},
   "source": [
    "다음 세 개의 함수는 모두 입력된 문자열이 소문자를 포함하고 있는지 여부를 조사하도록 구현되었지만 \n",
    "하나만 제대로 작동한다.\n",
    "어느 함수가 제대로 작동하는지 확인한 다음 그 이유를 설명하라.\n",
    "또한 다른 두 함수가 적절하게 구현되지 않은 이유를 설명하라."
   ]
  },
  {
   "cell_type": "code",
   "execution_count": 1,
   "metadata": {},
   "outputs": [],
   "source": [
    "def any_lowercase1(text):\n",
    "    for c in text:\n",
    "        if c.islower():\n",
    "            return True\n",
    "        else:\n",
    "            return False\n",
    "\n",
    "def any_lowercase2(text):\n",
    "    for c in text:\n",
    "        if 'c'.islower():\n",
    "            return 'True'\n",
    "        else:\n",
    "            return 'False'\n",
    "\n",
    "def any_lowercase3(text):\n",
    "    flag = False\n",
    "    for c in text:\n",
    "        flag = flag or c.islower()\n",
    "    return flag"
   ]
  },
  {
   "cell_type": "markdown",
   "metadata": {},
   "source": [
    "**답**"
   ]
  },
  {
   "cell_type": "markdown",
   "metadata": {},
   "source": [
    "아래 문자열에 대해 위 함수를 테스트한다."
   ]
  },
  {
   "cell_type": "code",
   "execution_count": 4,
   "metadata": {},
   "outputs": [],
   "source": [
    "word1 = \"ABcDE\"\n",
    "word2 = \"ABCDE\""
   ]
  },
  {
   "cell_type": "markdown",
   "metadata": {},
   "source": [
    "**`any_lowercase1()` 함수**"
   ]
  },
  {
   "cell_type": "code",
   "execution_count": 5,
   "metadata": {},
   "outputs": [],
   "source": [
    "def any_lowercase1(text):\n",
    "    for c in text:\n",
    "        if c.islower():\n",
    "            return True\n",
    "        else:\n",
    "            return False"
   ]
  },
  {
   "cell_type": "markdown",
   "metadata": {},
   "source": [
    "인자로 입력되는 문자열의 첫 문자가 소문자의 대소문자 여부를 확인하고 바로 반환값을 지정한다.\n",
    "함수는 반환값이 지정되면 바로 실행을 종료하기에 결국 첫 문자만 확인하고 종료한다.\n",
    "따라서 `word1` 변수가 가리키는 문자열에 소문자 `'c'`가 포함되어 있지만 첫 문자가 대문자이기에 `False`를 반환한다."
   ]
  },
  {
   "cell_type": "code",
   "execution_count": 13,
   "metadata": {},
   "outputs": [
    {
     "data": {
      "text/plain": [
       "False"
      ]
     },
     "execution_count": 13,
     "metadata": {},
     "output_type": "execute_result"
    }
   ],
   "source": [
    "any_lowercase1(word1)"
   ]
  },
  {
   "cell_type": "markdown",
   "metadata": {},
   "source": [
    "**`any_lowercase2()` 함수**"
   ]
  },
  {
   "cell_type": "code",
   "execution_count": 6,
   "metadata": {},
   "outputs": [],
   "source": [
    "def any_lowercase2(text):\n",
    "    for c in text:\n",
    "        if 'c'.islower():\n",
    "            return 'True'\n",
    "        else:\n",
    "            return 'False'"
   ]
  },
  {
   "cell_type": "markdown",
   "metadata": {},
   "source": [
    "`for` 반복문의 본문이 함수의 인자를 전혀 활용하지 않는다.\n",
    "이유는 `if 'c'.islower()` 에서 사용된 `'c'`는 \n",
    "`for c in text`의 `c`와 아무 상관이 없는 영어 알파벳 c 하나로\n",
    "구성된 문자열이기 때문이다.\n",
    "또한 `'c'`가 소문자이기에 결과는 항상 문자열 `'True'`로\n",
    "심지어 부울값 `True`와 아무 상관이 없다."
   ]
  },
  {
   "cell_type": "code",
   "execution_count": 12,
   "metadata": {},
   "outputs": [
    {
     "data": {
      "text/plain": [
       "'True'"
      ]
     },
     "execution_count": 12,
     "metadata": {},
     "output_type": "execute_result"
    }
   ],
   "source": [
    "any_lowercase2(word1)"
   ]
  },
  {
   "cell_type": "code",
   "execution_count": null,
   "metadata": {},
   "outputs": [
    {
     "data": {
      "text/plain": [
       "'True'"
      ]
     },
     "metadata": {},
     "output_type": "display_data"
    }
   ],
   "source": [
    "any_lowercase2(word2)"
   ]
  },
  {
   "cell_type": "markdown",
   "metadata": {},
   "source": [
    "**`any_lowercase3()` 함수**"
   ]
  },
  {
   "cell_type": "code",
   "execution_count": 9,
   "metadata": {},
   "outputs": [],
   "source": [
    "def any_lowercase3(text):\n",
    "    flag = False\n",
    "    for c in text:\n",
    "        flag = flag or c.islower()\n",
    "    return flag"
   ]
  },
  {
   "cell_type": "markdown",
   "metadata": {},
   "source": [
    "`flag` 변수는 소문자를 찾았는지 여부를 기억한다. \n",
    "`for c in text` 반복문에서 `c`가 `text`에 포함된 문자 하나하나를 가리킬 때\n",
    "소문자를 만나는 순간 `c.lower()`가 `True`가 되고 따라서 `or` 연산자에 의해\n",
    "`flag`이 계속해서 `True`를 가리키게 된다.\n",
    "즉, 소문자가 하나라도 포함되면 `True`를 반환한다."
   ]
  },
  {
   "cell_type": "code",
   "execution_count": 15,
   "metadata": {},
   "outputs": [
    {
     "data": {
      "text/plain": [
       "True"
      ]
     },
     "execution_count": 15,
     "metadata": {},
     "output_type": "execute_result"
    }
   ],
   "source": [
    "any_lowercase3(word1)"
   ]
  },
  {
   "cell_type": "code",
   "execution_count": 16,
   "metadata": {},
   "outputs": [
    {
     "data": {
      "text/plain": [
       "False"
      ]
     },
     "execution_count": 16,
     "metadata": {},
     "output_type": "execute_result"
    }
   ],
   "source": [
    "any_lowercase3(word2)"
   ]
  },
  {
   "cell_type": "markdown",
   "metadata": {},
   "source": [
    "결국 `any_lowercase3()` 만 소문자 포함여부를 제대로 결정한다."
   ]
  },
  {
   "cell_type": "markdown",
   "metadata": {},
   "source": [
    "## 예제"
   ]
  },
  {
   "cell_type": "markdown",
   "metadata": {},
   "source": [
    "`time` 모듈의 `ctime()` 함수를 인자 없이 호출하면 현재 시각을\n",
    "서양식으로 표현된 문자열로 반환한다."
   ]
  },
  {
   "cell_type": "code",
   "execution_count": 17,
   "metadata": {},
   "outputs": [
    {
     "data": {
      "text/plain": [
       "'Sat Apr 13 23:21:02 2024'"
      ]
     },
     "execution_count": 17,
     "metadata": {},
     "output_type": "execute_result"
    }
   ],
   "source": [
    "import time\n",
    "\n",
    "current_time = time.ctime()\n",
    "current_time"
   ]
  },
  {
   "cell_type": "markdown",
   "metadata": {},
   "source": [
    "**질문 1**"
   ]
  },
  {
   "cell_type": "markdown",
   "metadata": {},
   "source": [
    "`ctime()` 함수의 반환값을 \n",
    "이용하여 현재 시각과 오늘의 요일을 화면에 출력하는 함수 `weekday()`를 선언하라.\n",
    "단, 인자는 사용하지 않으며 `time` 모듈의 다른 함수는 절대 사용하지 않는다.\n",
    "또한 문자열 `split()` 메서드를 반드시 활용한다."
   ]
  },
  {
   "cell_type": "markdown",
   "metadata": {},
   "source": [
    "**답**"
   ]
  },
  {
   "cell_type": "markdown",
   "metadata": {},
   "source": [
    "`time.ctime()` 함수는 요일, 월, 일, 시간, 년도 순으로 구성된 문자열을 반환한다.\n",
    "그리고 반환된 문자열에 포함된 요일, 월, 일 등은 공백으로 구분된다.\n",
    "따라서 `split()` 메서드를 적용하면 요일, 월, 일, 시간, 년도로 구성된 리스트가 생성된다."
   ]
  },
  {
   "cell_type": "code",
   "execution_count": 22,
   "metadata": {},
   "outputs": [
    {
     "data": {
      "text/plain": [
       "['Sat', 'Apr', '13', '23:21:02', '2024']"
      ]
     },
     "execution_count": 22,
     "metadata": {},
     "output_type": "execute_result"
    }
   ],
   "source": [
    "current_time.split()"
   ]
  },
  {
   "cell_type": "markdown",
   "metadata": {},
   "source": [
    "그리고 리스트의 첫째 항목인\n",
    "`current_time.split()[0]`이 요일을 가리킨다.\n",
    "이를 이용하여 `weekday()` 함수를 다음과 같이 구현한다."
   ]
  },
  {
   "cell_type": "code",
   "execution_count": 38,
   "metadata": {
    "id": "Zy1oRDipLoZk"
   },
   "outputs": [],
   "source": [
    "def weekday():\n",
    "    weekday_ = current_time.split()[0]\n",
    "    print(\"요일:\", weekday_)"
   ]
  },
  {
   "cell_type": "code",
   "execution_count": 39,
   "metadata": {
    "id": "Zy1oRDipLoZk"
   },
   "outputs": [
    {
     "name": "stdout",
     "output_type": "stream",
     "text": [
      "요일: Sat\n"
     ]
    }
   ],
   "source": [
    "weekday()"
   ]
  },
  {
   "cell_type": "markdown",
   "metadata": {},
   "source": [
    "**질문 2**"
   ]
  },
  {
   "cell_type": "markdown",
   "metadata": {},
   "source": [
    "`ctime()` 함수의 반환값을 \n",
    "이용하여 오늘의 요일을 한국식으로 화면에 출력하도록 \n",
    "`weekday()` 함수를 수정하라.\n",
    "단, 인자는 사용하지 않으며 `time` 모듈의 다른 함수는 절대 사용하지 않는다.\n",
    "또한 f-문자열을 반드시 활용한다."
   ]
  },
  {
   "cell_type": "markdown",
   "metadata": {},
   "source": [
    "힌트: 아래 두 개의 리스트의 인덱스를 활용하여 영어식 요일 표현을 한국식 요일 표현으로 대체한다."
   ]
  },
  {
   "cell_type": "code",
   "execution_count": 40,
   "metadata": {},
   "outputs": [],
   "source": [
    "weekdays_en = ['Sun', 'Mon', 'Tue', 'Wed', 'Thu', 'Fri', 'Sat']\n",
    "weekdays_kr = ['일', '월', '화', '수', '목', '금', '토']"
   ]
  },
  {
   "cell_type": "markdown",
   "metadata": {},
   "source": [
    "**답**"
   ]
  },
  {
   "cell_type": "markdown",
   "metadata": {},
   "source": [
    "먼저 f-문자열을 사용하여 요일을 출력시키도록 `weekday()` 함수를\n",
    "다음과 같이 수정할 수 있다."
   ]
  },
  {
   "cell_type": "code",
   "execution_count": 43,
   "metadata": {},
   "outputs": [],
   "source": [
    "def weekday():\n",
    "    weekday_ = current_time.split()[0]\n",
    "    print(\"요일:\", f\"{weekday_}요일\")"
   ]
  },
  {
   "cell_type": "code",
   "execution_count": 42,
   "metadata": {},
   "outputs": [
    {
     "name": "stdout",
     "output_type": "stream",
     "text": [
      "요일: Sat요일\n"
     ]
    }
   ],
   "source": [
    "weekday()"
   ]
  },
  {
   "cell_type": "markdown",
   "metadata": {},
   "source": [
    "그런데 요일 표현이 모두 영어 단어로 되어 있어서 매우 어색하다.\n",
    "한글 요일로 변환하기 위해 `weekdays_en`과 `weekday_kr` 리스트를 이용한다.\n",
    "이때 리스트의 `index()` 메서드를 다음과 같이 활용한다.\n",
    "\n",
    "아래 코드는 `weekday_`가 가리키는 영어 표현 요일이 `weekdays_en` 리스트에 위치한 곳의\n",
    "인덱스 정보를 활용하여 그에 해당하는 한글 표현 요일을 `weekday_kr`에 할당한다."
   ]
  },
  {
   "cell_type": "markdown",
   "metadata": {},
   "source": [
    "```python\n",
    "weekday_index = weekdays_en.index(weekday_)\n",
    "weekday_kr = weekdays_kr[weekday_index]\n",
    "```"
   ]
  },
  {
   "cell_type": "markdown",
   "metadata": {},
   "source": [
    "위 내용을 정리하여 `weekday()` 함수를 다음과 같이 정의할 수 있다."
   ]
  },
  {
   "cell_type": "code",
   "execution_count": 46,
   "metadata": {},
   "outputs": [],
   "source": [
    "def weekday():\n",
    "    weekday_ = current_time.split()[0]\n",
    "    weekday_index = weekdays_en.index(weekday_)\n",
    "    weekday_kr = weekdays_kr[weekday_index]\n",
    "    print(\"요일:\", f\"{weekday_kr}요일\")"
   ]
  },
  {
   "cell_type": "code",
   "execution_count": 47,
   "metadata": {},
   "outputs": [
    {
     "name": "stdout",
     "output_type": "stream",
     "text": [
      "요일: 토요일\n"
     ]
    }
   ],
   "source": [
    "weekday()"
   ]
  },
  {
   "cell_type": "markdown",
   "metadata": {},
   "source": [
    "## 예제"
   ]
  },
  {
   "cell_type": "markdown",
   "metadata": {},
   "source": [
    "`fruits` 변수가 아래와 같이 과일 이름으로 구성된 문자열을 가리킨다."
   ]
  },
  {
   "cell_type": "code",
   "execution_count": 27,
   "metadata": {},
   "outputs": [],
   "source": [
    "fruits = \"banana apple orange pineapple mango strawberry cherry\""
   ]
  },
  {
   "cell_type": "markdown",
   "metadata": {},
   "source": [
    "`fruits` 변수를 이용하여 아래 문자열을 생성하는 코드를 작성하라.\n",
    "\n",
    "```\n",
    "Banana, Apple, Orange, Pineapple, Mango, Strawberry, Cherry\n",
    "```\n",
    "힌트: 문자열 `split()`, `capitalize()`, `join()` 메서드 활용"
   ]
  },
  {
   "cell_type": "code",
   "execution_count": 22,
   "metadata": {},
   "outputs": [],
   "source": [
    "fruit_words = fruits.split()\n",
    "\n",
    "cap_words = []\n",
    "for fruit in fruits_words:\n",
    "    words[i] = words[i].capitalize()\n",
    "\n",
    "new_sentence = \", \".join(words)"
   ]
  },
  {
   "cell_type": "code",
   "execution_count": 23,
   "metadata": {
    "id": "kkbD-sw3IsYs"
   },
   "outputs": [],
   "source": [
    "fruits = \"banana apple orange pineapple mango strawberry cherry\""
   ]
  },
  {
   "cell_type": "code",
   "execution_count": 24,
   "metadata": {},
   "outputs": [
    {
     "data": {
      "text/plain": [
       "'Banana, Apple, Orange, Pineapple, Mango, Strawberry, Cherry'"
      ]
     },
     "execution_count": 24,
     "metadata": {},
     "output_type": "execute_result"
    }
   ],
   "source": [
    "word_capitalize(fruits)"
   ]
  },
  {
   "cell_type": "markdown",
   "metadata": {},
   "source": [
    "## 예제"
   ]
  },
  {
   "cell_type": "markdown",
   "metadata": {
    "id": "ngzxeTGTpXrG"
   },
   "source": [
    "아래 노래 가사를 활용하는 문제이다."
   ]
  },
  {
   "cell_type": "code",
   "execution_count": 150,
   "metadata": {
    "id": "ngzxeTGTpXrG"
   },
   "outputs": [],
   "source": [
    "song = \"When you are smiling, the whole world smiles with you\""
   ]
  },
  {
   "cell_type": "markdown",
   "metadata": {
    "id": "ngzxeTGTpXrG"
   },
   "source": [
    "`count()` 메서드를 이용하여 문자열 `wh`가 대, 소문자 구분 없이 사용된 횟수를\n",
    "한 줄 코드를 작성하라."
   ]
  },
  {
   "cell_type": "markdown",
   "metadata": {},
   "source": [
    "**답**"
   ]
  },
  {
   "cell_type": "code",
   "execution_count": 151,
   "metadata": {},
   "outputs": [
    {
     "data": {
      "text/plain": [
       "2"
      ]
     },
     "execution_count": 151,
     "metadata": {},
     "output_type": "execute_result"
    }
   ],
   "source": [
    "song.lower().count('wh')"
   ]
  },
  {
   "cell_type": "markdown",
   "metadata": {
    "id": "Wf5NSC6DSSky"
   },
   "source": [
    "## 예제"
   ]
  },
  {
   "cell_type": "markdown",
   "metadata": {
    "id": "Wf5NSC6DSSky"
   },
   "source": [
    "아래와 같이 선언된 `lyrics`변수가 있다."
   ]
  },
  {
   "cell_type": "code",
   "execution_count": 152,
   "metadata": {
    "id": "Wf5NSC6DSSky"
   },
   "outputs": [],
   "source": [
    "lyrics = \" When you're smiling, the whole world smiles with you.\\n \""
   ]
  },
  {
   "cell_type": "markdown",
   "metadata": {},
   "source": [
    "**질문 1**"
   ]
  },
  {
   "cell_type": "markdown",
   "metadata": {
    "id": "Wf5NSC6DSSky"
   },
   "source": [
    "문자열 양 끝에 있는 화이트 스페이스를 모두 삭제하고, 모든 문자는 대문자로 변환된 문자열을 생성하는\n",
    "한 줄 코드를 작성하라."
   ]
  },
  {
   "cell_type": "code",
   "execution_count": 153,
   "metadata": {},
   "outputs": [
    {
     "data": {
      "text/plain": [
       "\"WHEN YOU'RE SMILING, THE WHOLE WORLD SMILES WITH YOU.\""
      ]
     },
     "execution_count": 153,
     "metadata": {},
     "output_type": "execute_result"
    }
   ],
   "source": [
    "lyrics.strip().upper()"
   ]
  },
  {
   "cell_type": "markdown",
   "metadata": {},
   "source": [
    "**질문 2**"
   ]
  },
  {
   "cell_type": "markdown",
   "metadata": {
    "id": "Wf5NSC6DSSky"
   },
   "source": [
    "위 문자열이 `W`로 시작하는지 여부를 판단하는 한 줄 코드를 작성하라.\n",
    "단, 화이트 스페이스는 무시한다."
   ]
  },
  {
   "cell_type": "code",
   "execution_count": 157,
   "metadata": {},
   "outputs": [
    {
     "data": {
      "text/plain": [
       "True"
      ]
     },
     "execution_count": 157,
     "metadata": {},
     "output_type": "execute_result"
    }
   ],
   "source": [
    "lyrics.strip().startswith('W')"
   ]
  },
  {
   "cell_type": "markdown",
   "metadata": {},
   "source": [
    "## 알고리즘 이해"
   ]
  },
  {
   "cell_type": "markdown",
   "metadata": {
    "colab_type": "text",
    "id": "yeGqALvE7Gwp"
   },
   "source": [
    "## 예제"
   ]
  },
  {
   "cell_type": "markdown",
   "metadata": {},
   "source": [
    "문자열 `find()` 메서드에 대응하는 `find()` 함수를 직접 정의하라.\n",
    "\n",
    "* 매개 변수: 두 개의 문자열을 인자로 받는 `word1`과 `word2` 두 개 사용\n",
    "* `word1`이 `word2`를 부분문자열로 포함할 경우 부분문자열 시작하는 인덱스 반환.\n",
    "    포함하지 않을 경우 -1을 반환.\n",
    "    \n",
    "단, 문자열 인덱싱, 슬라이싱만 사용하고 문자열 메서드는 전혀 사용하지 않아야 한다."
   ]
  },
  {
   "cell_type": "code",
   "execution_count": 160,
   "metadata": {
    "colab": {},
    "colab_type": "code",
    "id": "JBRiwezF7Gwp"
   },
   "outputs": [],
   "source": [
    "def find(word1, word2):\n",
    "    idx = 0\n",
    "    while idx < len(word1):\n",
    "        if word2 == word1[idx:idx+len(word2)] :\n",
    "            return idx\n",
    "        idx = idx + 1      \n",
    "    return -1 "
   ]
  },
  {
   "cell_type": "code",
   "execution_count": 164,
   "metadata": {
    "colab": {},
    "colab_type": "code",
    "id": "AEP4K3Ja7Gws"
   },
   "outputs": [
    {
     "name": "stdout",
     "output_type": "stream",
     "text": [
      "1\n",
      "1\n",
      "3\n",
      "1\n",
      "-1\n"
     ]
    }
   ],
   "source": [
    "print(find('banana', 'ana'))\n",
    "print(find('heyheyhey', 'ey'))\n",
    "print(find('waikiki', 'ki'))\n",
    "print(find('ulala', 'la'))\n",
    "print(find('chukachuka', 'uKa'))"
   ]
  },
  {
   "cell_type": "markdown",
   "metadata": {},
   "source": [
    "## 예제"
   ]
  },
  {
   "cell_type": "markdown",
   "metadata": {},
   "source": [
    "ROT13 은 단어의 각 문자를 13 자리만큼 회전시키는 방식의 간단한 암호 법이다. \n",
    "문자를 회전한다는 것은 알파벳 상의 위치를 이동한다는 뜻이다. \n",
    "예를 들어, `'a'` 를 3 만큼 이동하면 `'d'` 가, \n",
    "`'z'` 를 1 만큼 이동하면 `'a'` 가 된다."
   ]
  },
  {
   "cell_type": "markdown",
   "metadata": {},
   "source": [
    "**질문 1**"
   ]
  },
  {
   "cell_type": "markdown",
   "metadata": {},
   "source": [
    "다음 하나의 매개변수를 사용하는 `encrypt()` 함수를 구현하라.\n",
    "\n",
    "- `word`: 영어 문장 문자열\n",
    "\n",
    "함수의 반환값은 문장의 모든 알파벳을 13 자리만큼 회전시킨 문자열이다.\n",
    "단 모든 문자는 소문자로 변환한다."
   ]
  },
  {
   "cell_type": "markdown",
   "metadata": {},
   "source": [
    "**답**"
   ]
  },
  {
   "cell_type": "code",
   "execution_count": 94,
   "metadata": {},
   "outputs": [],
   "source": [
    "# 영어 소문자 알파벳\n",
    "alphabet_lower = 'abcdefghijklmnopqrstuvwxyz'\n",
    "\n",
    "def encrypt(text):\n",
    "    # 모두 소문자로 변경 후 암호화 진행\n",
    "    text = text.lower()\n",
    "    \n",
    "    # 암호화된 텍스트 생성\n",
    "    encrypted = ''\n",
    "    \n",
    "    # 모든 알파벳을 13자리 만큼 이동\n",
    "    for char in text:\n",
    "        if char.isalpha():\n",
    "            encrypted += alphabet[(alphabet.index(char) + 13) % 26]\n",
    "        else:\n",
    "            encrypted += char\n",
    "            \n",
    "    return encrypted"
   ]
  },
  {
   "cell_type": "code",
   "execution_count": 95,
   "metadata": {},
   "outputs": [
    {
     "data": {
      "text/plain": [
       "'v ybir clguba'"
      ]
     },
     "execution_count": 95,
     "metadata": {},
     "output_type": "execute_result"
    }
   ],
   "source": [
    "encrypt('I love python')"
   ]
  },
  {
   "cell_type": "code",
   "execution_count": 96,
   "metadata": {},
   "outputs": [
    {
     "data": {
      "text/plain": [
       "'i love python'"
      ]
     },
     "execution_count": 96,
     "metadata": {},
     "output_type": "execute_result"
    }
   ],
   "source": [
    "encrypt(encrypt('I love python'))"
   ]
  },
  {
   "cell_type": "code",
   "execution_count": 97,
   "metadata": {},
   "outputs": [
    {
     "data": {
      "text/plain": [
       "'oryvrir zr!'"
      ]
     },
     "execution_count": 97,
     "metadata": {},
     "output_type": "execute_result"
    }
   ],
   "source": [
    "encrypt('Believe me!')"
   ]
  },
  {
   "cell_type": "code",
   "execution_count": 98,
   "metadata": {},
   "outputs": [
    {
     "data": {
      "text/plain": [
       "'believe me!'"
      ]
     },
     "execution_count": 98,
     "metadata": {},
     "output_type": "execute_result"
    }
   ],
   "source": [
    "encrypt(encrypt('Believe me!'))"
   ]
  },
  {
   "cell_type": "markdown",
   "metadata": {},
   "source": [
    "**질문 2**"
   ]
  },
  {
   "cell_type": "markdown",
   "metadata": {},
   "source": [
    "소문자와 대문자를 그대로 유지하도록 `encrypt()` 함수를 수정하라."
   ]
  },
  {
   "cell_type": "markdown",
   "metadata": {},
   "source": [
    "**답**"
   ]
  },
  {
   "cell_type": "code",
   "execution_count": 101,
   "metadata": {},
   "outputs": [],
   "source": [
    "# 영어 소문자 알파벳\n",
    "alphabet_lower = 'abcdefghijklmnopqrstuvwxyz'\n",
    "alphabet_upper = 'ABCDEFGHIJKLMNOPQRSTUVWXYZ'\n",
    "\n",
    "def encrypt(text):\n",
    "    # 암호화된 텍스트 생성\n",
    "    encrypted = ''\n",
    "    \n",
    "    # 알파벳의 대소문자를 구분해서 13자리 만큼 이동\n",
    "    for char in text:\n",
    "        if char.isupper():\n",
    "            encrypted += alphabet_upper[(alphabet_upper.index(char) + 13) % 26]\n",
    "        elif char.islower():\n",
    "            encrypted += alphabet_lower[(alphabet_lower.index(char) + 13) % 26]\n",
    "        else:\n",
    "            encrypted += char\n",
    "            \n",
    "    return encrypted"
   ]
  },
  {
   "cell_type": "code",
   "execution_count": 102,
   "metadata": {},
   "outputs": [
    {
     "data": {
      "text/plain": [
       "'V ybir clguba'"
      ]
     },
     "execution_count": 102,
     "metadata": {},
     "output_type": "execute_result"
    }
   ],
   "source": [
    "encrypt('I love python')"
   ]
  },
  {
   "cell_type": "code",
   "execution_count": 103,
   "metadata": {},
   "outputs": [
    {
     "data": {
      "text/plain": [
       "'I love python'"
      ]
     },
     "execution_count": 103,
     "metadata": {},
     "output_type": "execute_result"
    }
   ],
   "source": [
    "encrypt(encrypt('I love python'))"
   ]
  },
  {
   "cell_type": "code",
   "execution_count": 104,
   "metadata": {},
   "outputs": [
    {
     "data": {
      "text/plain": [
       "'Oryvrir zr!'"
      ]
     },
     "execution_count": 104,
     "metadata": {},
     "output_type": "execute_result"
    }
   ],
   "source": [
    "encrypt('Believe me!')"
   ]
  },
  {
   "cell_type": "code",
   "execution_count": 105,
   "metadata": {},
   "outputs": [
    {
     "data": {
      "text/plain": [
       "'Believe me!'"
      ]
     },
     "execution_count": 105,
     "metadata": {},
     "output_type": "execute_result"
    }
   ],
   "source": [
    "encrypt(encrypt('Believe me!'))"
   ]
  },
  {
   "cell_type": "markdown",
   "metadata": {
    "colab_type": "text",
    "id": "yeGqALvE7Gwp"
   },
   "source": [
    "# 예제"
   ]
  },
  {
   "cell_type": "code",
   "execution_count": 125,
   "metadata": {
    "colab": {},
    "colab_type": "code",
    "id": "JBRiwezF7Gwp"
   },
   "outputs": [],
   "source": [
    "def is_anagram(word1, word2):\n",
    "    return sorted(word1) == sorted(word2)"
   ]
  },
  {
   "cell_type": "code",
   "execution_count": 127,
   "metadata": {
    "colab": {
     "base_uri": "https://localhost:8080/",
     "height": 34
    },
    "colab_type": "code",
    "id": "AEP4K3Ja7Gws",
    "outputId": "29f93dcf-ad21-416e-d51e-f4211729a77c"
   },
   "outputs": [
    {
     "name": "stdout",
     "output_type": "stream",
     "text": [
      "True\n",
      "False\n"
     ]
    }
   ],
   "source": [
    "print(is_anagram('banana', 'nanaab'))\n",
    "print(is_anagram('hello', 'eoolh'))"
   ]
  },
  {
   "cell_type": "code",
   "execution_count": 122,
   "metadata": {
    "colab": {
     "base_uri": "https://localhost:8080/",
     "height": 34
    },
    "colab_type": "code",
    "id": "AEP4K3Ja7Gws",
    "outputId": "29f93dcf-ad21-416e-d51e-f4211729a77c"
   },
   "outputs": [
    {
     "data": {
      "text/plain": [
       "True"
      ]
     },
     "execution_count": 122,
     "metadata": {},
     "output_type": "execute_result"
    }
   ],
   "source": [
    "exc4C = is_anagram('hello', 'eoLLh') == False\n",
    "exc4D = is_anagram('ulala', 'laula') == True\n",
    "exc4E = is_anagram('kebap', 'kebaP') == False\n",
    "\n",
    "all([exc4A, exc4B, exc4C, exc4D, exc4E])"
   ]
  },
  {
   "cell_type": "markdown",
   "metadata": {},
   "source": [
    "## 예제"
   ]
  },
  {
   "cell_type": "markdown",
   "metadata": {},
   "source": [
    "하나의 문자열과 함께 호출되면 공백 문자가 제거된 문자열을 반환하는\n",
    "`no_space()` 함수를 정의하라.\n",
    "\n",
    "힌트: 문자열 `replace()` 메서드"
   ]
  },
  {
   "cell_type": "markdown",
   "metadata": {},
   "source": [
    "**답**"
   ]
  },
  {
   "cell_type": "code",
   "execution_count": 25,
   "metadata": {},
   "outputs": [],
   "source": [
    "word = \"다시 합창합시다\""
   ]
  },
  {
   "cell_type": "code",
   "execution_count": 26,
   "metadata": {},
   "outputs": [
    {
     "data": {
      "text/plain": [
       "'다시합창합시다'"
      ]
     },
     "execution_count": 26,
     "metadata": {},
     "output_type": "execute_result"
    }
   ],
   "source": [
    "word.replace(\" \", \"\")"
   ]
  },
  {
   "cell_type": "code",
   "execution_count": 27,
   "metadata": {},
   "outputs": [],
   "source": [
    "def no_space(word):\n",
    "    return word.replace(\" \", \"\")"
   ]
  },
  {
   "cell_type": "code",
   "execution_count": 29,
   "metadata": {},
   "outputs": [
    {
     "data": {
      "text/plain": [
       "'다시합창합시다'"
      ]
     },
     "execution_count": 29,
     "metadata": {},
     "output_type": "execute_result"
    }
   ],
   "source": [
    "no_space(\"다시 합창합시다\")"
   ]
  },
  {
   "cell_type": "code",
   "execution_count": 30,
   "metadata": {},
   "outputs": [
    {
     "data": {
      "text/plain": [
       "'여보게,저기저게보여?'"
      ]
     },
     "execution_count": 30,
     "metadata": {},
     "output_type": "execute_result"
    }
   ],
   "source": [
    "no_space(\"여보게, 저기 저게 보여?\")"
   ]
  },
  {
   "cell_type": "markdown",
   "metadata": {},
   "source": [
    "## 예제"
   ]
  },
  {
   "cell_type": "markdown",
   "metadata": {},
   "source": [
    "'기러기', '토마토', '우영우', 'bob', 'eye', `pop`와 같이\n",
    "앞으로 읽어도, 뒤로 읽어도 동일한 문자열을 **회문**<font size='2'>palindrome</font>이라 부른다. "
   ]
  },
  {
   "cell_type": "markdown",
   "metadata": {},
   "source": [
    "**질문 1**"
   ]
  },
  {
   "cell_type": "markdown",
   "metadata": {},
   "source": [
    "하나의 문자열과 함께 호출되었얼 때 회문 여부를 `True`/`False`로 반환하는\n",
    "`palindrome()` 를 작성하라.\n",
    "\n",
    "힌트: 문자열 슬라이싱 활용"
   ]
  },
  {
   "cell_type": "markdown",
   "metadata": {},
   "source": [
    "**답**"
   ]
  },
  {
   "cell_type": "code",
   "execution_count": 18,
   "metadata": {
    "id": "Zy1oRDipLoZk"
   },
   "outputs": [],
   "source": [
    "def palindrome(word):\n",
    "    if word == word[::-1]:\n",
    "        return True\n",
    "    else:\n",
    "        return False"
   ]
  },
  {
   "cell_type": "code",
   "execution_count": 19,
   "metadata": {
    "id": "Zy1oRDipLoZk"
   },
   "outputs": [],
   "source": [
    "def palindrome(word):\n",
    "    return word == word[::-1]"
   ]
  },
  {
   "cell_type": "code",
   "execution_count": 20,
   "metadata": {
    "colab": {
     "base_uri": "https://localhost:8080/"
    },
    "executionInfo": {
     "elapsed": 591,
     "status": "ok",
     "timestamp": 1616980079158,
     "user": {
      "displayName": "HJ Kim",
      "photoUrl": "",
      "userId": "16634276932240017990"
     },
     "user_tz": -540
    },
    "id": "LoH5ptaxhPTh",
    "outputId": "203743fb-f4c4-486a-ab8c-c891cc24d1c9"
   },
   "outputs": [],
   "source": [
    "assert palindrome(\"bob\") == True\n",
    "assert palindrome(\"tomato\") == False\n",
    "assert palindrome(\"기러기\") == True\n",
    "assert palindrome(\"인싸 의사의 싸인\") == True\n",
    "assert palindrome(\"다시 합창합시다\") == False\n",
    "assert palindrome(\"여보게, 저기 저게 보여?\") == False"
   ]
  },
  {
   "cell_type": "markdown",
   "metadata": {},
   "source": [
    "**질문 2**"
   ]
  },
  {
   "cell_type": "markdown",
   "metadata": {},
   "source": [
    "이전 질문의 `palindrome()` 함수가 문자열에 포함된 공백(space)을 무시하도록 수정하라.\n",
    "즉 아래 코드의 실행결과도 `True`이어야 한다.\n",
    "\n",
    "```\n",
    "palindrome(\"다시 합창합시다\") \n",
    "```\n",
    "\n",
    "힌트: 문자열 `replace()` 메서드와 문자열 슬라이싱 활용"
   ]
  },
  {
   "cell_type": "code",
   "execution_count": 46,
   "metadata": {
    "id": "Zy1oRDipLoZk"
   },
   "outputs": [],
   "source": [
    "def palindrome(word):\n",
    "    word_ = word.replace(\" \", \"\")\n",
    "    return word_ == word_[::-1]"
   ]
  },
  {
   "cell_type": "code",
   "execution_count": 47,
   "metadata": {
    "colab": {
     "base_uri": "https://localhost:8080/"
    },
    "executionInfo": {
     "elapsed": 591,
     "status": "ok",
     "timestamp": 1616980079158,
     "user": {
      "displayName": "HJ Kim",
      "photoUrl": "",
      "userId": "16634276932240017990"
     },
     "user_tz": -540
    },
    "id": "LoH5ptaxhPTh",
    "outputId": "203743fb-f4c4-486a-ab8c-c891cc24d1c9"
   },
   "outputs": [],
   "source": [
    "assert palindrome(\"bob\") == True\n",
    "assert palindrome(\"tomato\") == False\n",
    "assert palindrome(\"기러기\") == True\n",
    "assert palindrome(\"인싸 의사의 싸인\") == True\n",
    "assert palindrome(\"다시 합창합시다\") == True\n",
    "assert palindrome(\"여보게, 저기 저게 보여?\") == False"
   ]
  },
  {
   "cell_type": "code",
   "execution_count": null,
   "metadata": {},
   "outputs": [],
   "source": []
  }
 ],
 "metadata": {
  "colab": {
   "authorship_tag": "ABX9TyMc9fB9lcJwW8sP+Iso3pm1",
   "collapsed_sections": [],
   "name": "실습답안3.ipynb",
   "provenance": []
  },
  "kernelspec": {
   "display_name": "Python 3 (ipykernel)",
   "language": "python",
   "name": "python3"
  },
  "language_info": {
   "codemirror_mode": {
    "name": "ipython",
    "version": 3
   },
   "file_extension": ".py",
   "mimetype": "text/x-python",
   "name": "python",
   "nbconvert_exporter": "python",
   "pygments_lexer": "ipython3",
   "version": "3.11.4"
  }
 },
 "nbformat": 4,
 "nbformat_minor": 1
}
