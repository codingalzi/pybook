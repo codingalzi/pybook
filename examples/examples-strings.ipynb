{
 "cells": [
  {
   "cell_type": "markdown",
   "metadata": {},
   "source": [
    "# (필수 예제) 문자열"
   ]
  },
  {
   "cell_type": "markdown",
   "metadata": {},
   "source": [
    "**참고 사항**\n",
    "\n",
    "1. 먼저 [문자열](https://codingalzi.github.io/pybook/strings.html) 내용을 학습하세요.\n",
    "2. [YouTube 재생목록](https://www.youtube.com/...)에 예제 풀이 동영상이 있습니다."
   ]
  },
  {
   "cell_type": "markdown",
   "metadata": {},
   "source": [
    "## 문자열 포매팅"
   ]
  },
  {
   "cell_type": "markdown",
   "metadata": {},
   "source": [
    "```\n",
    "18. Write a Python program to print the following floating numbers upto 2 decimal places.\n",
    "\n",
    "Sample Output\n",
    "\n",
    "Floating Point Number = 23.36778\n",
    "\n",
    "Print Number with two Decimal Places = 23.36\n",
    "\n",
    "View Solution\n",
    "\n",
    "19. Write a Python program to print the following floating numbers upto 2 decimal places with a sign\n",
    "\n",
    "Sample Output\n",
    "\n",
    "Floating Point Number1 = -84.99\n",
    "\n",
    "Print Number with a sign and two decimal places = -84.99\n",
    "\n",
    "Floating Point Number2 = 23.36778\n",
    "\n",
    "Print Number with a sign and two decimal places = +23.37\n",
    "\n",
    "View Solution\n",
    "\n",
    "20. Write a Python program to print the following floating numbers with no decimal places\n",
    "\n",
    "Sample Output\n",
    "\n",
    "Floating Point Number = 23.36778\n",
    "\n",
    "No Decimal Places = 23\n",
    "\n",
    "View Solution\n",
    "\n",
    "21. Write a Python program to print the following integers with zeros on the left of specified width\n",
    "\n",
    "Sample Output\n",
    "\n",
    "Number1 = 23\n",
    "\n",
    "Formatted Number1(left padding, width 2) = 23\n",
    "\n",
    "Number2 = 833\n",
    "\n",
    "Formatted Number2(left padding, width 6) = 000833\n",
    "```"
   ]
  },
  {
   "cell_type": "markdown",
   "metadata": {},
   "source": [
    "## 예제"
   ]
  },
  {
   "cell_type": "markdown",
   "metadata": {},
   "source": [
    "영어 단어가 인자로 입력되면 첫째 알파벳과 마지막 알파벳을 교환한 문자열을 반환하는\n",
    "`exchange_FL()` 함수를 정의하라."
   ]
  },
  {
   "cell_type": "code",
   "execution_count": null,
   "metadata": {},
   "outputs": [],
   "source": [
    "def exchange_FL(word):\n",
    "    return word[-1] + word[1:-1] + word[0]"
   ]
  },
  {
   "cell_type": "code",
   "execution_count": null,
   "metadata": {},
   "outputs": [
    {
     "data": {
      "text/plain": [
       "'nythop'"
      ]
     },
     "metadata": {},
     "output_type": "display_data"
    }
   ],
   "source": [
    "exchange_FL('python')"
   ]
  },
  {
   "cell_type": "markdown",
   "metadata": {},
   "source": [
    "## 문제"
   ]
  },
  {
   "cell_type": "markdown",
   "metadata": {},
   "source": [
    "영어 단어가 인자로 입력되면 양수 인덱스에 해당하는 알파벳으로만 구성된 문자열과\n",
    "음수 인덱스에 해당하는 알파벳으로만 구성된 문자열을 `\" - \"` 문자열로 연결한 문자열을 반환하는\n",
    "`separate_even_odd()` 함수를 정의하라."
   ]
  },
  {
   "cell_type": "code",
   "execution_count": null,
   "metadata": {},
   "outputs": [],
   "source": [
    "def separate_even_odd(word):\n",
    "    return word[::2] + \" - \" + word[1::2]"
   ]
  },
  {
   "cell_type": "code",
   "execution_count": null,
   "metadata": {},
   "outputs": [
    {
     "data": {
      "text/plain": [
       "'hlopto - el yhn'"
      ]
     },
     "metadata": {},
     "output_type": "display_data"
    }
   ],
   "source": [
    "separate_even_odd('hello python')"
   ]
  },
  {
   "cell_type": "markdown",
   "metadata": {},
   "source": [
    "## 예제"
   ]
  },
  {
   "cell_type": "markdown",
   "metadata": {},
   "source": [
    "영어 문장을 인자로 입력받았을 때 모음의 개수를 화면에 출력하는 `count_cases()` 함수를 작성하라."
   ]
  },
  {
   "cell_type": "code",
   "execution_count": null,
   "metadata": {},
   "outputs": [],
   "source": [
    "def count_cases(word):\n",
    "    upper=0\n",
    "    lower = 0\n",
    "    for i in word:\n",
    "        if i.isupper():\n",
    "            upper += 1\n",
    "        if i.islower():\n",
    "            lower +=1\n",
    "    print(\"대문자:\", upper)\n",
    "    print(\"소문자:\",lower)"
   ]
  },
  {
   "cell_type": "code",
   "execution_count": null,
   "metadata": {},
   "outputs": [
    {
     "name": "stdout",
     "output_type": "stream",
     "text": [
      "대문자: 3\n",
      "소문자: 8\n"
     ]
    }
   ],
   "source": [
    "count_cases(\"I Love Python.\")"
   ]
  },
  {
   "cell_type": "markdown",
   "metadata": {},
   "source": [
    "## 예제"
   ]
  },
  {
   "cell_type": "markdown",
   "metadata": {},
   "source": [
    "영어로 문장을 입력받았을 때 알파벳 `a`를 알파벳 `e`로 대체한 문자열을 생성하는 코드를 작성하라."
   ]
  },
  {
   "cell_type": "code",
   "execution_count": null,
   "metadata": {},
   "outputs": [
    {
     "name": "stdout",
     "output_type": "stream",
     "text": [
      "Enter a string: apple\n",
      "epple\n"
     ]
    }
   ],
   "source": [
    "word = input(\"Enter a string: \")\n",
    "rep = word.replace('a','e')\n",
    "print(rep)"
   ]
  },
  {
   "cell_type": "markdown",
   "metadata": {},
   "source": [
    "## 예제"
   ]
  },
  {
   "cell_type": "markdown",
   "metadata": {},
   "source": [
    "영어 문장을 인자로 입력받았을 때 모음의 개수를 확인하는 `count_vowels()` 함수를 작성하라."
   ]
  },
  {
   "cell_type": "code",
   "execution_count": null,
   "metadata": {},
   "outputs": [],
   "source": [
    "def count_vowels(word):\n",
    "    vowels='AEIOUaeiou'\n",
    "\n",
    "    count = 0\n",
    "    for char in word:\n",
    "        if char in vowels:\n",
    "            count += 1\n",
    "\n",
    "    return count"
   ]
  },
  {
   "cell_type": "code",
   "execution_count": null,
   "metadata": {},
   "outputs": [
    {
     "data": {
      "text/plain": [
       "2"
      ]
     },
     "metadata": {},
     "output_type": "display_data"
    }
   ],
   "source": [
    "count_vowels(\"O, happy\")"
   ]
  },
  {
   "cell_type": "markdown",
   "metadata": {},
   "source": [
    "## 문제"
   ]
  },
  {
   "cell_type": "markdown",
   "metadata": {},
   "source": [
    "영어 문장이 입력값으로 주어졌을 때 각 단어의 첫글짜를 대문자로 변경한 문자열을 반환하는\n",
    "`word_capitalize()` 함수를 정의하라."
   ]
  },
  {
   "cell_type": "code",
   "execution_count": null,
   "metadata": {},
   "outputs": [],
   "source": [
    "def word_capitalize(sentence):\n",
    "    words = sentence.split()\n",
    "    for i in range(len(words)):\n",
    "        words[i] = words[i].capitalize()\n",
    "\n",
    "    new_sentence = \" \".join(words)\n",
    "    return new_sentence"
   ]
  },
  {
   "cell_type": "code",
   "execution_count": null,
   "metadata": {},
   "outputs": [
    {
     "data": {
      "text/plain": [
       "'I Love You'"
      ]
     },
     "metadata": {},
     "output_type": "display_data"
    }
   ],
   "source": [
    "word_capitalize(\"i love you\")"
   ]
  },
  {
   "cell_type": "code",
   "execution_count": null,
   "metadata": {},
   "outputs": [],
   "source": []
  },
  {
   "cell_type": "code",
   "execution_count": null,
   "metadata": {},
   "outputs": [],
   "source": []
  },
  {
   "cell_type": "code",
   "execution_count": null,
   "metadata": {},
   "outputs": [],
   "source": []
  },
  {
   "cell_type": "code",
   "execution_count": null,
   "metadata": {},
   "outputs": [],
   "source": []
  },
  {
   "cell_type": "code",
   "execution_count": null,
   "metadata": {},
   "outputs": [],
   "source": []
  },
  {
   "cell_type": "code",
   "execution_count": null,
   "metadata": {},
   "outputs": [],
   "source": []
  },
  {
   "cell_type": "code",
   "execution_count": null,
   "metadata": {},
   "outputs": [],
   "source": []
  },
  {
   "cell_type": "code",
   "execution_count": null,
   "metadata": {},
   "outputs": [],
   "source": []
  },
  {
   "cell_type": "code",
   "execution_count": null,
   "metadata": {},
   "outputs": [],
   "source": []
  },
  {
   "cell_type": "code",
   "execution_count": null,
   "metadata": {},
   "outputs": [],
   "source": []
  },
  {
   "cell_type": "markdown",
   "metadata": {},
   "source": [
    "## 예제"
   ]
  },
  {
   "cell_type": "markdown",
   "metadata": {},
   "source": [
    "`time` 모듈의 `ctime()` 함수를 인자 없이 호출하면 현재 시각을\n",
    "서양식으로 표현된 문자열로 반환한다."
   ]
  },
  {
   "cell_type": "code",
   "execution_count": 32,
   "metadata": {},
   "outputs": [
    {
     "data": {
      "text/plain": [
       "'Tue Apr  9 23:35:01 2024'"
      ]
     },
     "execution_count": 32,
     "metadata": {},
     "output_type": "execute_result"
    }
   ],
   "source": [
    "import time\n",
    "\n",
    "current_time = time.ctime()\n",
    "current_time"
   ]
  },
  {
   "cell_type": "markdown",
   "metadata": {},
   "source": [
    "**질문 1**"
   ]
  },
  {
   "cell_type": "markdown",
   "metadata": {},
   "source": [
    "`ctime()` 함수의 반환값을 \n",
    "이용하여 현재 시각과 오늘의 요일을 화면에 출력하는 함수 `weekday()`를 선언하라.\n",
    "단, 인자는 사용하지 않으며 `time` 모듈의 다른 함수는 절대 사용하지 않는다.\n",
    "\n",
    "힌트: 문자열 슬라이싱 활용"
   ]
  },
  {
   "cell_type": "markdown",
   "metadata": {},
   "source": [
    "**답**"
   ]
  },
  {
   "cell_type": "markdown",
   "metadata": {},
   "source": [
    "`time.ctime()` 함수는 요일, 월, 일, 시간, 년도 순으로 구성된 문자열을 반환하며\n",
    "요일은 처음 세 개의 문자로 구성된다.\n",
    "따라서 `time.ctime()` 함수의 처음 세 개의 문자를 슬라이싱으로 추출하면 요일을 확인할 수 있다."
   ]
  },
  {
   "cell_type": "code",
   "execution_count": 39,
   "metadata": {},
   "outputs": [
    {
     "data": {
      "text/plain": [
       "'Tue'"
      ]
     },
     "execution_count": 39,
     "metadata": {},
     "output_type": "execute_result"
    }
   ],
   "source": [
    "current_time[:3]"
   ]
  },
  {
   "cell_type": "markdown",
   "metadata": {},
   "source": [
    "위 내용을 이용하여 `weekday()` 함수를 다음과 같이 구현한다."
   ]
  },
  {
   "cell_type": "code",
   "execution_count": 41,
   "metadata": {
    "id": "Zy1oRDipLoZk"
   },
   "outputs": [],
   "source": [
    "def weekday():\n",
    "    current_time = time.ctime()\n",
    "    print(\"현재 시각:\", current_time)\n",
    "    wday = current_time[:3]\n",
    "    print(\"오늘 요일:\", wday)"
   ]
  },
  {
   "cell_type": "code",
   "execution_count": 42,
   "metadata": {
    "id": "Zy1oRDipLoZk"
   },
   "outputs": [
    {
     "name": "stdout",
     "output_type": "stream",
     "text": [
      "현재 시각: Wed Apr 10 00:18:59 2024\n",
      "오늘 요일: Wed\n"
     ]
    }
   ],
   "source": [
    "weekday()"
   ]
  },
  {
   "cell_type": "markdown",
   "metadata": {},
   "source": [
    "**질문 2**"
   ]
  },
  {
   "cell_type": "markdown",
   "metadata": {},
   "source": [
    "`weekday()`를 구현할 때 문자열의 `split()`을 반드시 활용하라."
   ]
  },
  {
   "cell_type": "markdown",
   "metadata": {},
   "source": [
    "**답**"
   ]
  },
  {
   "cell_type": "markdown",
   "metadata": {},
   "source": [
    "`time.ctime()` 함수는 요일, 월, 일, 시간, 년도 순으로 구성된 문자열을 반환한다.\n",
    "그리고 반환된 문자열에 포함된 요일, 월, 일 등은 공백으로 구분된다.\n",
    "따라서 `split()` 메서드를 적용하면 요일, 월, 일, 시간, 년도로 구성된 리스트가 생성된다."
   ]
  },
  {
   "cell_type": "code",
   "execution_count": 43,
   "metadata": {},
   "outputs": [
    {
     "data": {
      "text/plain": [
       "['Tue', 'Apr', '9', '23:35:01', '2024']"
      ]
     },
     "execution_count": 43,
     "metadata": {},
     "output_type": "execute_result"
    }
   ],
   "source": [
    "current_time.split()"
   ]
  },
  {
   "cell_type": "markdown",
   "metadata": {},
   "source": [
    "위 내용을 이용하여 `weekday()` 함수를 다음과 같이 구현한다."
   ]
  },
  {
   "cell_type": "code",
   "execution_count": 44,
   "metadata": {
    "id": "Zy1oRDipLoZk"
   },
   "outputs": [],
   "source": [
    "def weekday():\n",
    "    current_time = time.ctime()\n",
    "    print(\"현재 시각:\", current_time)\n",
    "    wday = current_time.split()[1]\n",
    "    print(\"오늘 요일:\", wday)"
   ]
  },
  {
   "cell_type": "code",
   "execution_count": 45,
   "metadata": {
    "id": "Zy1oRDipLoZk"
   },
   "outputs": [
    {
     "name": "stdout",
     "output_type": "stream",
     "text": [
      "현재 시각: Wed Apr 10 00:19:36 2024\n",
      "오늘 요일: Apr\n"
     ]
    }
   ],
   "source": [
    "weekday()"
   ]
  },
  {
   "cell_type": "markdown",
   "metadata": {},
   "source": [
    "## 예제"
   ]
  },
  {
   "cell_type": "markdown",
   "metadata": {},
   "source": [
    "하나의 문자열과 함께 호출되면 공백 문자가 제거된 문자열을 반환하는\n",
    "`no_space()` 함수를 정의하라.\n",
    "\n",
    "힌트: 문자열의 `replace()` 메서드"
   ]
  },
  {
   "cell_type": "markdown",
   "metadata": {},
   "source": [
    "**답**"
   ]
  },
  {
   "cell_type": "code",
   "execution_count": 25,
   "metadata": {},
   "outputs": [],
   "source": [
    "word = \"다시 합창합시다\""
   ]
  },
  {
   "cell_type": "code",
   "execution_count": 26,
   "metadata": {},
   "outputs": [
    {
     "data": {
      "text/plain": [
       "'다시합창합시다'"
      ]
     },
     "execution_count": 26,
     "metadata": {},
     "output_type": "execute_result"
    }
   ],
   "source": [
    "word.replace(\" \", \"\")"
   ]
  },
  {
   "cell_type": "code",
   "execution_count": 27,
   "metadata": {},
   "outputs": [],
   "source": [
    "def no_space(word):\n",
    "    return word.replace(\" \", \"\")"
   ]
  },
  {
   "cell_type": "code",
   "execution_count": 29,
   "metadata": {},
   "outputs": [
    {
     "data": {
      "text/plain": [
       "'다시합창합시다'"
      ]
     },
     "execution_count": 29,
     "metadata": {},
     "output_type": "execute_result"
    }
   ],
   "source": [
    "no_space(\"다시 합창합시다\")"
   ]
  },
  {
   "cell_type": "code",
   "execution_count": 30,
   "metadata": {},
   "outputs": [
    {
     "data": {
      "text/plain": [
       "'여보게,저기저게보여?'"
      ]
     },
     "execution_count": 30,
     "metadata": {},
     "output_type": "execute_result"
    }
   ],
   "source": [
    "no_space(\"여보게, 저기 저게 보여?\")"
   ]
  },
  {
   "cell_type": "markdown",
   "metadata": {},
   "source": [
    "## 예제"
   ]
  },
  {
   "cell_type": "markdown",
   "metadata": {},
   "source": [
    "'기러기', '토마토', '우영우', 'bob', 'eye', `pop`와 같이\n",
    "앞으로 읽어도, 뒤로 읽어도 동일한 문자열을 **회문**<font size='2'>palindrome</font>이라 부른다. "
   ]
  },
  {
   "cell_type": "markdown",
   "metadata": {},
   "source": [
    "**질문 1**"
   ]
  },
  {
   "cell_type": "markdown",
   "metadata": {},
   "source": [
    "하나의 문자열과 함께 호출되었얼 때 회문 여부를 `True`/`False`로 반환하는\n",
    "`palindrome()` 를 작성하라.\n",
    "\n",
    "힌트: 문자열 슬라이싱 활용"
   ]
  },
  {
   "cell_type": "markdown",
   "metadata": {},
   "source": [
    "**답**"
   ]
  },
  {
   "cell_type": "code",
   "execution_count": 18,
   "metadata": {
    "id": "Zy1oRDipLoZk"
   },
   "outputs": [],
   "source": [
    "def palindrome(word):\n",
    "    if word == word[::-1]:\n",
    "        return True\n",
    "    else:\n",
    "        return False"
   ]
  },
  {
   "cell_type": "code",
   "execution_count": 19,
   "metadata": {
    "id": "Zy1oRDipLoZk"
   },
   "outputs": [],
   "source": [
    "def palindrome(word):\n",
    "    return word == word[::-1]"
   ]
  },
  {
   "cell_type": "code",
   "execution_count": 20,
   "metadata": {
    "colab": {
     "base_uri": "https://localhost:8080/"
    },
    "executionInfo": {
     "elapsed": 591,
     "status": "ok",
     "timestamp": 1616980079158,
     "user": {
      "displayName": "HJ Kim",
      "photoUrl": "",
      "userId": "16634276932240017990"
     },
     "user_tz": -540
    },
    "id": "LoH5ptaxhPTh",
    "outputId": "203743fb-f4c4-486a-ab8c-c891cc24d1c9"
   },
   "outputs": [],
   "source": [
    "assert palindrome(\"bob\") == True\n",
    "assert palindrome(\"tomato\") == False\n",
    "assert palindrome(\"기러기\") == True\n",
    "assert palindrome(\"인싸 의사의 싸인\") == True\n",
    "assert palindrome(\"다시 합창합시다\") == False\n",
    "assert palindrome(\"여보게, 저기 저게 보여?\") == False"
   ]
  },
  {
   "cell_type": "markdown",
   "metadata": {},
   "source": [
    "**질문 2**"
   ]
  },
  {
   "cell_type": "markdown",
   "metadata": {},
   "source": [
    "이전 질문의 `palindrome()` 함수가 문자열에 포함된 공백(space)을 무시하도록 수정하라.\n",
    "즉 아래 코드의 실행결과도 `True`이어야 한다.\n",
    "\n",
    "```\n",
    "palindrome(\"다시 합창합시다\") \n",
    "```\n",
    "\n",
    "힌트: 문자열의 `replace()` 메서드와 문자열 슬라이싱 활용"
   ]
  },
  {
   "cell_type": "code",
   "execution_count": 46,
   "metadata": {
    "id": "Zy1oRDipLoZk"
   },
   "outputs": [],
   "source": [
    "def palindrome(word):\n",
    "    word_ = word.replace(\" \", \"\")\n",
    "    return word_ == word_[::-1]"
   ]
  },
  {
   "cell_type": "code",
   "execution_count": 47,
   "metadata": {
    "colab": {
     "base_uri": "https://localhost:8080/"
    },
    "executionInfo": {
     "elapsed": 591,
     "status": "ok",
     "timestamp": 1616980079158,
     "user": {
      "displayName": "HJ Kim",
      "photoUrl": "",
      "userId": "16634276932240017990"
     },
     "user_tz": -540
    },
    "id": "LoH5ptaxhPTh",
    "outputId": "203743fb-f4c4-486a-ab8c-c891cc24d1c9"
   },
   "outputs": [],
   "source": [
    "assert palindrome(\"bob\") == True\n",
    "assert palindrome(\"tomato\") == False\n",
    "assert palindrome(\"기러기\") == True\n",
    "assert palindrome(\"인싸 의사의 싸인\") == True\n",
    "assert palindrome(\"다시 합창합시다\") == True\n",
    "assert palindrome(\"여보게, 저기 저게 보여?\") == False"
   ]
  },
  {
   "cell_type": "code",
   "execution_count": null,
   "metadata": {},
   "outputs": [],
   "source": []
  },
  {
   "cell_type": "code",
   "execution_count": null,
   "metadata": {},
   "outputs": [],
   "source": []
  },
  {
   "cell_type": "code",
   "execution_count": null,
   "metadata": {},
   "outputs": [],
   "source": []
  },
  {
   "cell_type": "code",
   "execution_count": null,
   "metadata": {},
   "outputs": [],
   "source": []
  },
  {
   "cell_type": "markdown",
   "metadata": {},
   "source": [
    "## 예제"
   ]
  },
  {
   "cell_type": "markdown",
   "metadata": {
    "id": "LI2MPm0oix4t"
   },
   "source": [
    "자연수 n 이 주어졌을 때, 1 부터 n 까지의 자연수 중에서 3의 배수이거나 \n",
    "숫자 3을 포함하는 숫자들의 합을 구하는 `sum_of_3s()` 함수를 구현하여라."
   ]
  },
  {
   "cell_type": "code",
   "execution_count": 9,
   "metadata": {
    "id": "Zy1oRDipLoZk"
   },
   "outputs": [],
   "source": [
    "# 아래 코드에서 pass 를 적절한 명령문으로, None 을 적절한 표현식으로 대체하라.\n",
    "\n",
    "def sum_of_3s(n):\n",
    "    pass\n",
    "\n",
    "    return None"
   ]
  },
  {
   "cell_type": "code",
   "execution_count": 10,
   "metadata": {
    "colab": {
     "base_uri": "https://localhost:8080/"
    },
    "executionInfo": {
     "elapsed": 591,
     "status": "ok",
     "timestamp": 1616980079158,
     "user": {
      "displayName": "HJ Kim",
      "photoUrl": "",
      "userId": "16634276932240017990"
     },
     "user_tz": -540
    },
    "id": "LoH5ptaxhPTh",
    "outputId": "203743fb-f4c4-486a-ab8c-c891cc24d1c9"
   },
   "outputs": [],
   "source": [
    "# 아래 코드의 주석 기호를 제거하고 실행했을 때 오류가 발생하지 않아야 함.\n",
    "\n",
    "# assert sum_of_3s(10) == 18\n",
    "# assert sum_of_3s(20) == 76"
   ]
  },
  {
   "cell_type": "markdown",
   "metadata": {
    "id": "8WkdD-fQ8Ipt"
   },
   "source": [
    "## 예제"
   ]
  },
  {
   "cell_type": "markdown",
   "metadata": {
    "id": "8WkdD-fQ8Ipt"
   },
   "source": [
    "이름과 주민등록번호를 입력 받아, 아래의 내용을 출력하는 코드를 작성하라.  \n",
    "\n",
    "> ```\n",
    "이름 : OOO\n",
    "나이 : OO 살\n",
    "생일 : OO 월 OO 일\n",
    "```\n",
    "\n",
    "* 주민등록번호는 뒷자리 첫번째까지 입력 받음.\n",
    "* 주민등록번호 뒷자리의 첫 숫자로는 1,2,3,4만 고려."
   ]
  },
  {
   "cell_type": "markdown",
   "metadata": {
    "id": "8WkdD-fQ8Ipt"
   },
   "source": [
    "## 예제"
   ]
  },
  {
   "cell_type": "markdown",
   "metadata": {
    "id": "QVitU9Bt8fj2"
   },
   "source": [
    "아래를 만족하는 간단한 로그인 프로그램을 제작하라.  \n",
    "- 아이디(id)와 비밀번호(pwd)는 임의로 둠.\n",
    "- 사용자에게 아이디(id_input)과 비밀번호(pwd_input)을 입력 받음.\n",
    "- 사용자가 입력한 아이디와 비번이 저장된 것과 같으면  \n",
    "`로그인 되었습니다.`  를 출력하고, 아니면  `로그인 실패했습니다.`를 출력.\n",
    "- 로그인을 실패하면, 아이디와 비밀번호를 재입력.\n",
    "- 3번 로그인을 실패하면, `3회 연속 실패로, 시스템이 종료됩니다`를 출력."
   ]
  },
  {
   "cell_type": "markdown",
   "metadata": {
    "id": "8WkdD-fQ8Ipt"
   },
   "source": [
    "## 예제"
   ]
  },
  {
   "cell_type": "markdown",
   "metadata": {
    "id": "AbGQYpoK7dMd"
   },
   "source": [
    "아래를 만족하는 [단어 맞히기 게임]을 제작하라.  \n",
    "- 영단어(`word` 변수에 할당)를 임의로 둠.\n",
    "- `word`가 몇 글자인지 밑줄기호(`_`)를 사용하여 알려줌. \n",
    "- 사용자가 입력한 알파벳이 `word`에 있다면 밑줄기호 대신 입력한 알파벳을 출력.   \n",
    "ex) `word`가 `'dog'` 일 때, 사용자가 `o`를 입력하면 `_o_` 출력  \n",
    "- 사용자가 단어를 맞힐 때까지 반복\n",
    "- 사용자가 `'힌트'`라고 입력하면, 몇 번째 문자가 알고 싶은가를 묻고, 해당하는 문자 보여줌. 이때, 숫자를 입력하지 않거나 해당하는 인덱스 값이 없는 경우 `잘못 입력했습니다.` 출력\n",
    "\n"
   ]
  },
  {
   "cell_type": "markdown",
   "metadata": {},
   "source": [
    "## 예제"
   ]
  },
  {
   "cell_type": "markdown",
   "metadata": {
    "id": "_2Z1mK5jfnZy"
   },
   "source": [
    "두 정수를 입력받아, 두 정수의 합을 출력하는 코드를 작성하라.\n",
    "단 `input()` 함수를 한 번만 사용한다.\n",
    "\n",
    "힌트: 문자열의 `split()` 메서드 활용"
   ]
  },
  {
   "cell_type": "markdown",
   "metadata": {
    "id": "e5NqDJ8IgNxT"
   },
   "source": [
    "아래와 같이 두 정수를 한 번에 입력받을 수도 있다."
   ]
  },
  {
   "cell_type": "code",
   "execution_count": null,
   "metadata": {
    "colab": {
     "base_uri": "https://localhost:8080/"
    },
    "executionInfo": {
     "elapsed": 4662,
     "status": "ok",
     "timestamp": 1615805982922,
     "user": {
      "displayName": "HJ Kim",
      "photoUrl": "",
      "userId": "16634276932240017990"
     },
     "user_tz": -540
    },
    "id": "ZITmcRMFgMwA",
    "outputId": "fdbe3f4a-7d7a-4d84-bff2-29919d4e8ece"
   },
   "outputs": [
    {
     "name": "stdout",
     "output_type": "stream",
     "text": [
      "두 정수를 콤마(,)로 구분하여 입력하세요 : 5,9\n",
      "5 + 9 =  14\n"
     ]
    }
   ],
   "source": [
    "numA, numB = input(\"두 정수를 콤마(,)로 구분하여 입력하세요 : \").split(\",\")\n",
    "\n",
    "print(numA, \"+\", numB, \"= \", int(numA) + int(numB))"
   ]
  },
  {
   "cell_type": "markdown",
   "metadata": {
    "id": "7pHbvWkChq2y"
   },
   "source": [
    "`map()` 함수를 활용하여 `numA`, `numB` 각각에 `int` 함수를 자동으로 적용할 수 있다.  "
   ]
  },
  {
   "cell_type": "code",
   "execution_count": null,
   "metadata": {
    "colab": {
     "base_uri": "https://localhost:8080/"
    },
    "executionInfo": {
     "elapsed": 4631,
     "status": "ok",
     "timestamp": 1615806028618,
     "user": {
      "displayName": "HJ Kim",
      "photoUrl": "",
      "userId": "16634276932240017990"
     },
     "user_tz": -540
    },
    "id": "sws-1UB5ilOw",
    "outputId": "1642b8e8-0723-4d6b-a882-e74b5d49bc9c"
   },
   "outputs": [
    {
     "name": "stdout",
     "output_type": "stream",
     "text": [
      "두 정수를 콤마(,)로 구분하여 입력하세요 : 5,9\n",
      "5 + 9 =  14\n"
     ]
    }
   ],
   "source": [
    "numA, numB = map(int, input(\"두 정수를 콤마(,)로 구분하여 입력하세요 : \").split(\",\"))\n",
    "print(numA, \"+\", numB, \"= \", numA + numB)"
   ]
  },
  {
   "cell_type": "markdown",
   "metadata": {},
   "source": [
    "## 문제"
   ]
  },
  {
   "cell_type": "markdown",
   "metadata": {},
   "source": [
    "아래 코드는 `orange` 라는 단어에 영어 알파벳 `a` 가 몇 번 나오는가를 \n",
    "센다.\n",
    "바로 `count` 변수가 알파벳 `a` 의 출현횟수를 기억한다."
   ]
  },
  {
   "cell_type": "code",
   "execution_count": 3,
   "metadata": {},
   "outputs": [
    {
     "name": "stdout",
     "output_type": "stream",
     "text": [
      "1\n"
     ]
    }
   ],
   "source": [
    "word = 'orange'\n",
    "char = 'a'\n",
    "count = 0\n",
    "\n",
    "for letter in word:\n",
    "    if letter == char:\n",
    "        count += 1\n",
    "\n",
    "print(count)"
   ]
  },
  {
   "cell_type": "markdown",
   "metadata": {},
   "source": [
    "(1) 문자열과 문자를 인자로 받으면 해당 문자의 출연횟수를 세는 \n",
    "`counting()` 함수를 구현하라."
   ]
  },
  {
   "cell_type": "code",
   "execution_count": 4,
   "metadata": {},
   "outputs": [],
   "source": [
    "# pass 와 None 을 적절한 명령문과 표현식으로 대체하라.\n",
    "\n",
    "def counting(word, char):\n",
    "    pass\n",
    "\n",
    "    return None"
   ]
  },
  {
   "cell_type": "code",
   "execution_count": 5,
   "metadata": {},
   "outputs": [],
   "source": [
    "# 아래 코드의 주석 기호를 제거하고 실행했을 때 오류가 발생하지 않아야 함.\n",
    "\n",
    "# assert counting(\"orange\", \"a\") == 1\n",
    "# assert counting(\"hey hey\", \"y\") == 2"
   ]
  },
  {
   "cell_type": "markdown",
   "metadata": {},
   "source": [
    "(2) 앞서 정의한 `counting()` 함수를 다음 조건이 만족되도록 수정하여\n",
    "`counting_pos()` 함수를 구현한다.\n",
    "\n",
    "* 정수를 입력받는 `position` 매개변수를 추가한다.\n",
    "* `position`을 통해 전달된 정수는 탐색을 시작할 위치를 나타낸다.\n",
    "    즉, 앞서 정의된 `counting()` 함수는 `position`이 0인 특수한 경우가 되도록 한다."
   ]
  },
  {
   "cell_type": "code",
   "execution_count": 7,
   "metadata": {},
   "outputs": [],
   "source": [
    "# pass 와 None 을 적절한 명령문과 표현식으로 대체하라.\n",
    "\n",
    "def counting_pos(word, char, position):\n",
    "    pass\n",
    "\n",
    "    return None"
   ]
  },
  {
   "cell_type": "code",
   "execution_count": 8,
   "metadata": {},
   "outputs": [],
   "source": [
    "# 아래 코드의 주석 기호를 제거하고 실행했을 때 오류가 발생하지 않아야 함.\n",
    "\n",
    "# assert counting_pos(\"orange\", \"a\", 3) == 0\n",
    "# assert counting_pos(\"hey hey\", \"y\", 2) == 2"
   ]
  },
  {
   "cell_type": "markdown",
   "metadata": {
    "id": "c3451dae"
   },
   "source": [
    "## 예제"
   ]
  },
  {
   "cell_type": "markdown",
   "metadata": {
    "id": "702dee7d"
   },
   "source": [
    "다음 조건을 만족시키는 `right_align()`라는 함수를 정의하라.\n",
    "\n",
    "* `s` 라는 매개 변수 하나만 사용한다.\n",
    "* 하나의 문자열과 함께 호출되면 해당 문자열의 끝이 20번째 칸에 위치하는 문자열을 반환한다.\n",
    "    화면에 출력하라."
   ]
  },
  {
   "cell_type": "code",
   "execution_count": 1,
   "metadata": {
    "id": "17e8c571"
   },
   "outputs": [],
   "source": [
    "# 아래 코드에서 pass 와 None 을 각각 적절한 명령문과 적절한 표현식으로 대체하라.\n",
    "def right_align(s):\n",
    "  s = \"%20s\" % s\n",
    "\n",
    "  return s\n",
    " \n",
    "assert right_align('python') == \"              python\"\n",
    "assert right_align('hello python') == \"        hello python\""
   ]
  },
  {
   "cell_type": "code",
   "execution_count": 2,
   "metadata": {
    "id": "51d5dc71"
   },
   "outputs": [],
   "source": [
    "# 아래 코드의 주석 기호를 제거하고 실행했을 때 오류가 발생하지 않아야 함.\n",
    "\n",
    "# assert right_align('python') == \"              python\"\n",
    "# assert right_align('hello python') == \"        hello python\""
   ]
  },
  {
   "cell_type": "markdown",
   "metadata": {},
   "source": [
    "## 예제"
   ]
  },
  {
   "cell_type": "markdown",
   "metadata": {},
   "source": [
    "문자열 연산을 이용하여 다음의 실행 결과가 나오도록 코드를 다양한 방식으로 작성한다.\n",
    "\n",
    "```\n",
    "안녕하세요. 안녕하세요. 안녕하세요.\n",
    "```"
   ]
  },
  {
   "cell_type": "code",
   "execution_count": 3,
   "metadata": {},
   "outputs": [],
   "source": [
    "hello = \"안녕하세요.\""
   ]
  },
  {
   "cell_type": "code",
   "execution_count": 4,
   "metadata": {},
   "outputs": [
    {
     "name": "stdout",
     "output_type": "stream",
     "text": [
      "안녕하세요. 안녕하세요. 안녕하세요. \n"
     ]
    }
   ],
   "source": [
    "hello_space = hello + \" \"\n",
    "print(hello_space * 3)"
   ]
  },
  {
   "cell_type": "markdown",
   "metadata": {},
   "source": [
    "## 예제"
   ]
  },
  {
   "cell_type": "markdown",
   "metadata": {
    "id": "kkbD-sw3IsYs"
   },
   "source": [
    "`fruit` 변수는 과일 이름으로 구성된 문자열을 가리킨다."
   ]
  },
  {
   "cell_type": "code",
   "execution_count": 1,
   "metadata": {
    "id": "kkbD-sw3IsYs"
   },
   "outputs": [],
   "source": [
    "fruit = \"banana apple orange pineapple mango strawberry cherry\""
   ]
  },
  {
   "cell_type": "markdown",
   "metadata": {
    "id": "kkbD-sw3IsYs"
   },
   "source": [
    "(1) 각 과일 단어의 첫 알파벳을 대문자로 변경하여 다음과 같이 출력하는 코드를 작성하라.\n",
    "\n",
    "```python\n",
    "Banana Apple Orange Pineapple Mango Strawberry Cherry\n",
    "```"
   ]
  },
  {
   "cell_type": "markdown",
   "metadata": {
    "id": "c0s_ArvDKJBO"
   },
   "source": [
    "(2) `fruit` 변수로부터 대문자 Y를 추출하는 코드를 작성하여라."
   ]
  },
  {
   "cell_type": "markdown",
   "metadata": {},
   "source": [
    "## 예제"
   ]
  },
  {
   "cell_type": "markdown",
   "metadata": {
    "id": "ngzxeTGTpXrG"
   },
   "source": [
    "아래 노래 가사를 활용하는 문제이다."
   ]
  },
  {
   "cell_type": "code",
   "execution_count": 7,
   "metadata": {
    "id": "ngzxeTGTpXrG"
   },
   "outputs": [],
   "source": [
    "song = \"When you are smiling, the whole world smiles with you\"ㄴ"
   ]
  },
  {
   "cell_type": "markdown",
   "metadata": {
    "id": "ngzxeTGTpXrG"
   },
   "source": [
    "`count()` 메서드를 이용하여 알파벳 `w`가 대, 소문자 구분 없이 사용된 횟수를 확인하라."
   ]
  },
  {
   "cell_type": "markdown",
   "metadata": {
    "id": "Wf5NSC6DSSky"
   },
   "source": [
    "## 예제"
   ]
  },
  {
   "cell_type": "markdown",
   "metadata": {
    "id": "Wf5NSC6DSSky"
   },
   "source": [
    "아래와 같이 선언된 `lyrics`변수가 있다."
   ]
  },
  {
   "cell_type": "code",
   "execution_count": 10,
   "metadata": {
    "id": "Wf5NSC6DSSky"
   },
   "outputs": [],
   "source": [
    "lyrics = \" When you're smiling, the whole world smiles with you \""
   ]
  },
  {
   "cell_type": "markdown",
   "metadata": {
    "id": "Wf5NSC6DSSky"
   },
   "source": [
    "다음 문제들을 특정 메소드를 사용하여 한 줄 코드로 해결하라."
   ]
  },
  {
   "cell_type": "markdown",
   "metadata": {
    "id": "Wf5NSC6DSSky"
   },
   "source": [
    "(1) 문자열 양 끝에 있는 스페이스를 삭제하고, 모든 문자는 대문자로 변환된 문자열을 생성하라."
   ]
  },
  {
   "cell_type": "markdown",
   "metadata": {
    "id": "Wf5NSC6DSSky"
   },
   "source": [
    "(2) 문자열 양 끝에 있는 스페이스를 삭제하고, \n",
    "`When you're smiling`이 아닌 \n",
    "`When you are smiling` 문장이 포함된 문자열을 생성한다."
   ]
  },
  {
   "cell_type": "markdown",
   "metadata": {
    "id": "Wf5NSC6DSSky"
   },
   "source": [
    "(3) 위 문자열이 `W`로 시작하는지 여부를 판단하는 코드를 작성하여라. "
   ]
  },
  {
   "cell_type": "markdown",
   "metadata": {
    "id": "Wf5NSC6DSSky"
   },
   "source": [
    "(4) 아래와 같은 결과를 출력하는 코드를 작성하여라.\n",
    "\n",
    "```python\n",
    "[\"when\", \"you're\", \"smiling,\", \"the\", \"whole\", \"world\", \"smiles\", \"with\", \"you\"]\n",
    "```"
   ]
  },
  {
   "cell_type": "markdown",
   "metadata": {},
   "source": [
    "## 예제"
   ]
  },
  {
   "cell_type": "markdown",
   "metadata": {},
   "source": [
    "다음 함수들은 모두 문자열이 소문자를 포함하고 있는지 여부를 조사하도록 구현되었지만 \n",
    "일부는 제대로 작동하지 않는다. \n",
    "각각의 함수마다, 함수가 실제로 무엇을 하는지 설명하라. (인자는 문자열이 들어오는 경우를 다룬다.)"
   ]
  },
  {
   "cell_type": "code",
   "execution_count": 1,
   "metadata": {},
   "outputs": [],
   "source": [
    "def any_lowercase1(s):\n",
    "    for c in s:\n",
    "        if c.islower():\n",
    "            return True\n",
    "        else:\n",
    "            return False\n",
    "\n",
    "def any_lowercase2(s):\n",
    "    for c in s:\n",
    "        if 'c'.islower():\n",
    "            return 'True'\n",
    "        else:\n",
    "            return 'False'\n",
    "\n",
    "def any_lowercase3(s):\n",
    "    for c in s:\n",
    "        flag = c.islower()\n",
    "    return flag\n",
    "\n",
    "def any_lowercase4(s):\n",
    "    flag = False\n",
    "    for c in s:\n",
    "        flag = flag or c.islower()\n",
    "    return flag\n",
    "\n",
    "def any_lowercase5(s):\n",
    "    for c in s:\n",
    "        if not c.islower():\n",
    "            return False\n",
    "    return True"
   ]
  },
  {
   "cell_type": "markdown",
   "metadata": {
    "colab_type": "text",
    "id": "Vt-ydJZ-7Gwb"
   },
   "source": [
    "## 문제"
   ]
  },
  {
   "cell_type": "code",
   "execution_count": 1,
   "metadata": {
    "colab": {},
    "colab_type": "code",
    "id": "HvjiG_VR7Gwc"
   },
   "outputs": [
    {
     "name": "stdout",
     "output_type": "stream",
     "text": [
      "Jack\n",
      "Kack\n",
      "Lack\n",
      "Mack\n",
      "Nack\n",
      "Oack\n",
      "Pack\n",
      "Quack\n"
     ]
    }
   ],
   "source": [
    "prefixes = 'JKLMNOPQ'\n",
    "suffix = 'ack'\n",
    "\n",
    "for letter in prefixes:\n",
    "    if letter == 'Q':\n",
    "        print(letter+'u'+suffix)\n",
    "    else:\n",
    "        print(letter+suffix)"
   ]
  },
  {
   "cell_type": "markdown",
   "metadata": {
    "colab_type": "text",
    "id": "fxzla3Dm7Gwh"
   },
   "source": [
    "## 문제"
   ]
  },
  {
   "cell_type": "code",
   "execution_count": 2,
   "metadata": {
    "colab": {},
    "colab_type": "code",
    "id": "q0e2y3ra7Gwi"
   },
   "outputs": [],
   "source": [
    "def findChar(word, letter, position=0):\n",
    "    while position < len(word):\n",
    "        if word[position] == letter:\n",
    "            return position\n",
    "        position = position + 1\n",
    "    return -1"
   ]
  },
  {
   "cell_type": "markdown",
   "metadata": {
    "colab_type": "text",
    "id": "ojx2Ym0q7Gwl"
   },
   "source": [
    "**테스팅**\n",
    "\n",
    "**주의:** 수정하지 말 것."
   ]
  },
  {
   "cell_type": "code",
   "execution_count": 3,
   "metadata": {
    "colab": {},
    "colab_type": "code",
    "id": "XRpfNl-g7Gwm"
   },
   "outputs": [
    {
     "data": {
      "text/plain": [
       "True"
      ]
     },
     "execution_count": 3,
     "metadata": {},
     "output_type": "execute_result"
    }
   ],
   "source": [
    "exc2A = findChar('banana', 'a', 2) == 3\n",
    "exc2B = findChar('apple', 'p', 2) ==2\n",
    "exc2C = findChar('hello python', 'o', 5) == 10\n",
    "exc2D = findChar('hello python', 'q') == -1\n",
    "exc2E = findChar('python is the best.', 't', 11) == 17\n",
    "\n",
    "all([exc2A, exc2B, exc2C, exc2D, exc2E])"
   ]
  },
  {
   "cell_type": "markdown",
   "metadata": {
    "colab_type": "text",
    "id": "yeGqALvE7Gwp"
   },
   "source": [
    "## 문제"
   ]
  },
  {
   "cell_type": "code",
   "execution_count": 4,
   "metadata": {
    "colab": {},
    "colab_type": "code",
    "id": "JBRiwezF7Gwp"
   },
   "outputs": [],
   "source": [
    "def find(word1, word2, position=0):\n",
    "    idx = int(position)\n",
    "    while idx < len(word1):\n",
    "        if word2 == word1[idx:idx+len(word2)] :\n",
    "            return idx\n",
    "        idx = idx + 1      \n",
    "    return -1 "
   ]
  },
  {
   "cell_type": "markdown",
   "metadata": {
    "colab_type": "text",
    "id": "WTLhDXXs7Gwr"
   },
   "source": [
    "**테스팅**\n",
    "\n",
    "**주의:** 수정하지 말 것."
   ]
  },
  {
   "cell_type": "code",
   "execution_count": 5,
   "metadata": {
    "colab": {},
    "colab_type": "code",
    "id": "AEP4K3Ja7Gws"
   },
   "outputs": [
    {
     "data": {
      "text/plain": [
       "True"
      ]
     },
     "execution_count": 5,
     "metadata": {},
     "output_type": "execute_result"
    }
   ],
   "source": [
    "exc3A = find('banana', 'ana', 2) == 3\n",
    "exc3B = find('heyheyhey', 'ey', 3) == 4\n",
    "exc3C = find('waikiki', 'ki', 4) == 5\n",
    "exc3D = find('ulala', 'la', 2) == 3\n",
    "exc3E = find('chukachuka', 'uKa') == -1\n",
    "\n",
    "all([exc3A, exc3B, exc3C, exc3D, exc3E])"
   ]
  },
  {
   "cell_type": "markdown",
   "metadata": {},
   "source": [
    "## 예제"
   ]
  },
  {
   "cell_type": "markdown",
   "metadata": {},
   "source": [
    "문자열의 `find` 메서드에 대응하는 `find` 함수를 정의하라.\n",
    "즉, 아래 조건을 만족하는 `find` 함수를 정의해야 한다.\n",
    "\n",
    "* `word1`, `word2`, `position` 세 개의 인자를 받는다.\n",
    "* `word1`, `word2`는 문자열을 입력값으로 기대한다.\n",
    "* `word1`이 `word2`를 부분문자열로 포함할 경우 부분문자열의 시작위치를 리턴하고,\n",
    "    포함하지 않을 경우 -1을 리턴한다.\n",
    "* `position` 매개변수는 정수를 입력값으로 기대한다.\n",
    "* `position`을 통해 전달된 정수는 탐색을 시작할 위치를 나타낸다."
   ]
  },
  {
   "cell_type": "markdown",
   "metadata": {},
   "source": [
    "## 예제"
   ]
  },
  {
   "cell_type": "markdown",
   "metadata": {},
   "source": [
    "영어단어를 입력받아 알파벳순으로 출력하는 코드를 작성하라.\n",
    "예를 들어, `dog`를 입력하면, `dgo`를 출력한다."
   ]
  },
  {
   "cell_type": "markdown",
   "metadata": {
    "colab_type": "text",
    "id": "yeGqALvE7Gwp"
   },
   "source": [
    "# 예제"
   ]
  },
  {
   "cell_type": "code",
   "execution_count": 9,
   "metadata": {
    "colab": {},
    "colab_type": "code",
    "id": "JBRiwezF7Gwp"
   },
   "outputs": [],
   "source": [
    "def is_anagram(word1, word2):\n",
    "    return sorted(word1) == sorted(word2)"
   ]
  },
  {
   "cell_type": "markdown",
   "metadata": {
    "colab_type": "text",
    "id": "WTLhDXXs7Gwr"
   },
   "source": [
    "### 테스팅\n",
    "\n",
    "**주의:** 수정하지 말 것."
   ]
  },
  {
   "cell_type": "code",
   "execution_count": 10,
   "metadata": {
    "colab": {
     "base_uri": "https://localhost:8080/",
     "height": 34
    },
    "colab_type": "code",
    "id": "AEP4K3Ja7Gws",
    "outputId": "29f93dcf-ad21-416e-d51e-f4211729a77c"
   },
   "outputs": [
    {
     "data": {
      "text/plain": [
       "True"
      ]
     },
     "execution_count": 10,
     "metadata": {},
     "output_type": "execute_result"
    }
   ],
   "source": [
    "exc4A = is_anagram('banana', 'nanaab') == True\n",
    "exc4B = is_anagram('hello', 'eollh') == True\n",
    "exc4C = is_anagram('hello', 'eoLLh') == False\n",
    "exc4D = is_anagram('ulala', 'laula') == True\n",
    "exc4E = is_anagram('kebap', 'kebaP') == False\n",
    "\n",
    "all([exc4A, exc4B, exc4C, exc4D, exc4E])"
   ]
  },
  {
   "cell_type": "markdown",
   "metadata": {},
   "source": [
    "# 문제"
   ]
  },
  {
   "cell_type": "markdown",
   "metadata": {},
   "source": [
    "`is_anagram()` 함수가 공백을 무시하도록 하라."
   ]
  },
  {
   "cell_type": "code",
   "execution_count": null,
   "metadata": {},
   "outputs": [],
   "source": [
    "def is_anagram(word1, word2):\n",
    "    return sorted(word1.replace(\" \", \"\")) == sorted(word2.replace(\" \", \"\"))"
   ]
  },
  {
   "cell_type": "code",
   "execution_count": null,
   "metadata": {},
   "outputs": [
    {
     "data": {
      "text/plain": [
       "True"
      ]
     },
     "metadata": {},
     "output_type": "display_data"
    }
   ],
   "source": [
    "is_anagram('happ y', 'ypp ah')"
   ]
  },
  {
   "cell_type": "markdown",
   "metadata": {},
   "source": [
    "## 예제"
   ]
  },
  {
   "cell_type": "markdown",
   "metadata": {},
   "source": [
    "아래 `findChar()` 함수는 문자열(`word`)에 특정 문자(`char`)가 포함되어 있으면\n",
    "위치한 곳의 인덱스를, 그렇지 않으면 -1을 반환한다.\n",
    "코드에 사용된 `len()` 함수는 주어진 문자열의 길이, 즉 문자열에\n",
    "포함된 문자의 개수를 반환한다."
   ]
  },
  {
   "cell_type": "code",
   "execution_count": 5,
   "metadata": {},
   "outputs": [],
   "source": [
    "def findChar(word, char):\n",
    "    idx = 0\n",
    "\n",
    "    while idx < len(word):\n",
    "        if word[idx] == char:\n",
    "            return idx\n",
    "    \n",
    "        idx = idx + 1\n",
    "    \n",
    "    return -1"
   ]
  },
  {
   "cell_type": "markdown",
   "metadata": {},
   "source": [
    "`findChar()` 함수를 `for` 반복문을 이용하여 구현하라."
   ]
  },
  {
   "cell_type": "code",
   "execution_count": 6,
   "metadata": {},
   "outputs": [],
   "source": [
    "# pass 와 None 을 각각 적절한 명령문과 반환값으로 대체하라.\n",
    "\n",
    "def findChar_for(word, char):\n",
    "    for letter in word:\n",
    "        pass\n",
    "\n",
    "    return None    "
   ]
  },
  {
   "cell_type": "code",
   "execution_count": 7,
   "metadata": {},
   "outputs": [],
   "source": [
    "# 아래 주석을 제거하고 실행할 때 오류가 발생하지 않아야 한다.\n",
    "\n",
    "# assert findChar_for(\"python\", \"o\") == 4\n",
    "# assert findChar_for(\"파이썬이 좋아요\", \"아\") == 6"
   ]
  },
  {
   "cell_type": "markdown",
   "metadata": {},
   "source": [
    "## 문제"
   ]
  },
  {
   "cell_type": "markdown",
   "metadata": {},
   "source": [
    "아래 조건을 만족시키도록 `findChar()` 함수를 수정하여\n",
    "`findChar_pos()` 함수를 구현하라.\n",
    "\n",
    "* 정수를 입력받는 `position` 매개변수를 추가한다.\n",
    "* `position`을 통해 전달된 정수는 탐색을 시작할 위치를 나타낸다.\n",
    "    즉, 앞서 정의된 `findChar()` 함수는 `position`이 0인 특수한 경우가 되도록 한다."
   ]
  },
  {
   "cell_type": "code",
   "execution_count": 8,
   "metadata": {},
   "outputs": [],
   "source": [
    "# pass 와 None 을 각각 적절한 명령문과 반환값으로 대체하라.\n",
    "\n",
    "def findChar_pos(word, char, pos):\n",
    "    pass\n",
    "\n",
    "    return None    "
   ]
  },
  {
   "cell_type": "code",
   "execution_count": 9,
   "metadata": {},
   "outputs": [],
   "source": [
    "# 아래 주석을 제거하고 실행할 때 오류가 발생하지 않아야 한다.\n",
    "\n",
    "# assert findChar_pos(\"hello world\", \"o\", 0) == 4\n",
    "# assert findChar_pos(\"hello world\", \"o\", 5) == 7"
   ]
  },
  {
   "cell_type": "markdown",
   "metadata": {},
   "source": [
    "## 문제"
   ]
  },
  {
   "cell_type": "markdown",
   "metadata": {},
   "source": [
    "`findChar_pos()` 함수를 `for` 반복문을 이용하여 구현하라."
   ]
  },
  {
   "cell_type": "code",
   "execution_count": 10,
   "metadata": {},
   "outputs": [],
   "source": [
    "# pass 와 None 을 각각 적절한 명령문과 반환값으로 대체하라.\n",
    "\n",
    "def findChar_pos_for(word, char, pos):\n",
    "    for letter in word:\n",
    "        pass\n",
    "\n",
    "    return None    "
   ]
  },
  {
   "cell_type": "code",
   "execution_count": 11,
   "metadata": {},
   "outputs": [],
   "source": [
    "# 아래 주석을 제거하고 실행할 때 오류가 발생하지 않아야 한다.\n",
    "\n",
    "# assert findChar_pos_for(\"hello world\", \"o\", 0) == 4\n",
    "# assert findChar_pos_for(\"hello world\", \"o\", 5) == 7"
   ]
  },
  {
   "cell_type": "markdown",
   "metadata": {},
   "source": [
    "**문제 11**"
   ]
  },
  {
   "cell_type": "markdown",
   "metadata": {},
   "source": [
    "ROT13 은 단어의 각 문자를 13 자리만큼 회전시키는 방식의 간단한 암호 법이다. \n",
    "\n",
    "문자를 회전한다는 것은 알파벳 상의 위치를 이동한다는 뜻이다. \n",
    "예를 들어, `'a'` 를 3 만큼 이동하면 `'d'` 가, \n",
    "`'z'` 를 1 만큼 이동하면 `'a'` 가 된다.\n",
    "음수에 대해서는 역으로 회전한다.\n",
    "예를 들어, `'d'` 를 -3 만큼 이동하면 `'a'` 가 되고, `'a'` 를 -2 만큼 회전시키면 \n",
    "`'y'` 가 된다.\n",
    "\n",
    "다음 조건을 만족하는 `rotateWord()` 함수를 구현하라.\n",
    "\n",
    "- 문자열과 정수를 인자로 사용한다.\n",
    "- 지정된 정수만큼 문자열을 회전시킨다.\n",
    "\n",
    "힌트: 알파벳과 아스키 코드 사이의 관계를 이어주는\n",
    "[`ord()` 함수와 `chr()` 함수](https://ghdwn0217.tistory.com/60)를 이용한다."
   ]
  },
  {
   "cell_type": "code",
   "execution_count": 12,
   "metadata": {},
   "outputs": [],
   "source": [
    "# pass 와 None 을 각각 적절한 명령문과 반환값으로 대체하라.\n",
    "\n",
    "def rotateWord(word, num):\n",
    "    pass\n",
    "\n",
    "    return None    "
   ]
  },
  {
   "cell_type": "code",
   "execution_count": 13,
   "metadata": {},
   "outputs": [],
   "source": [
    "# 아래 주석을 제거하고 실행할 때 오류가 발생하지 않아야 한다.\n",
    "\n",
    "# assert rotateWord(\"cheer\", 7) == \"jolly\"\n",
    "# assert rotateWord(\"melon\", -10) == \"cubed\""
   ]
  },
  {
   "cell_type": "code",
   "execution_count": null,
   "metadata": {},
   "outputs": [],
   "source": []
  }
 ],
 "metadata": {
  "colab": {
   "authorship_tag": "ABX9TyMc9fB9lcJwW8sP+Iso3pm1",
   "collapsed_sections": [],
   "name": "실습답안3.ipynb",
   "provenance": []
  },
  "kernelspec": {
   "display_name": "Python 3 (ipykernel)",
   "language": "python",
   "name": "python3"
  },
  "language_info": {
   "codemirror_mode": {
    "name": "ipython",
    "version": 3
   },
   "file_extension": ".py",
   "mimetype": "text/x-python",
   "name": "python",
   "nbconvert_exporter": "python",
   "pygments_lexer": "ipython3",
   "version": "3.11.5"
  }
 },
 "nbformat": 4,
 "nbformat_minor": 1
}
