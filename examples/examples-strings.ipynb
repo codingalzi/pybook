{
  "cells": [
    {
      "cell_type": "markdown",
      "metadata": {
        "id": "9zVio-ty6QO4"
      },
      "source": [
        "# (필수 예제) 문자열"
      ]
    },
    {
      "cell_type": "markdown",
      "metadata": {
        "id": "MUpfRwsR6QO7"
      },
      "source": [
        "**참고 사항**\n",
        "\n",
        "1. 먼저 [문자열](https://codingalzi.github.io/pybook/strings.html) 내용을 학습하세요.\n",
        "2. [YouTube 재생목록](https://www.youtube.com/...)에 예제 풀이 동영상이 있습니다."
      ]
    },
    {
      "cell_type": "markdown",
      "metadata": {
        "id": "fwI-roZd6QO7"
      },
      "source": [
        "## 예제 1"
      ]
    },
    {
      "cell_type": "markdown",
      "metadata": {
        "id": "do7SmI1i6QO8"
      },
      "source": [
        "**질문 1**"
      ]
    },
    {
      "cell_type": "markdown",
      "metadata": {
        "id": "_GZlPgD76QO8"
      },
      "source": [
        "아래 두 개의 부동소수점을 소수점 이하 두 자리까지만 출력되도록 f-문자열을 활용하라."
      ]
    },
    {
      "cell_type": "code",
      "execution_count": null,
      "metadata": {
        "id": "3OdADiPC6QO8"
      },
      "outputs": [],
      "source": [
        "num = 23.36778\n",
        "num1 = -84.99888"
      ]
    },
    {
      "cell_type": "markdown",
      "metadata": {
        "id": "zfBsMRto6QO9"
      },
      "source": [
        "**답**"
      ]
    },
    {
      "cell_type": "markdown",
      "metadata": {
        "id": "9KYxGU096QO9"
      },
      "source": [
        "아래 코드는 소수점 이하 셋째 자리에서 반올림한 값을 출력한다."
      ]
    },
    {
      "cell_type": "code",
      "execution_count": null,
      "metadata": {
        "id": "ItSRtcyZ6QO-",
        "outputId": "61bf4003-ffb8-4f07-da12-3d71daabf331"
      },
      "outputs": [
        {
          "name": "stdout",
          "output_type": "stream",
          "text": [
            "23.37\n",
            "-85.00\n"
          ]
        }
      ],
      "source": [
        "print(f\"{num:.2f}\")\n",
        "print(f\"{num1:.2f}\")"
      ]
    },
    {
      "cell_type": "markdown",
      "metadata": {
        "id": "-ksKk7I36QO-"
      },
      "source": [
        "**질문 2**"
      ]
    },
    {
      "cell_type": "markdown",
      "metadata": {
        "id": "6Z80st3r6QO-"
      },
      "source": [
        "아래 두 개의 부동소수점의 소수점을 모두 버리고 정수 부문만 출력되도록 f-문자열을 활용하라.\n",
        "단, `int()` 함수는 사용하지 않는다."
      ]
    },
    {
      "cell_type": "code",
      "execution_count": null,
      "metadata": {
        "id": "THVac7RE6QO_"
      },
      "outputs": [],
      "source": [
        "num2 = 23.36778\n",
        "num3 = -274.5789"
      ]
    },
    {
      "cell_type": "markdown",
      "metadata": {
        "id": "ld00BxQl6QO_"
      },
      "source": [
        "**답**"
      ]
    },
    {
      "cell_type": "markdown",
      "metadata": {
        "id": "ag1pQqKg6QO_"
      },
      "source": [
        "아래 코드는 소수점 이하 첫째 자리에서 반올림한 값을 출력한다."
      ]
    },
    {
      "cell_type": "code",
      "execution_count": null,
      "metadata": {
        "id": "UtpOnbuY6QO_",
        "outputId": "e41538bb-dd44-40b0-c494-db317e3e1fb2"
      },
      "outputs": [
        {
          "name": "stdout",
          "output_type": "stream",
          "text": [
            "23\n",
            "-275\n"
          ]
        }
      ],
      "source": [
        "print(f\"{num2:.0f}\")\n",
        "print(f\"{num3:.0f}\")"
      ]
    },
    {
      "cell_type": "markdown",
      "metadata": {
        "id": "BIq5kqv3TaKk"
      },
      "source": [
        "반면에 `int()` 함수는 반올림을 고려하지 않는다."
      ]
    },
    {
      "cell_type": "code",
      "execution_count": null,
      "metadata": {
        "outputId": "e41538bb-dd44-40b0-c494-db317e3e1fb2",
        "id": "w2RLiY6tTaKk"
      },
      "outputs": [
        {
          "name": "stdout",
          "output_type": "stream",
          "text": [
            "23\n",
            "-274\n"
          ]
        }
      ],
      "source": [
        "print(f\"{int(num2)}\")\n",
        "print(f\"{int(num3)}\")"
      ]
    },
    {
      "cell_type": "markdown",
      "metadata": {
        "id": "pjEGdHRa6QO_"
      },
      "source": [
        "**질문 3**"
      ]
    },
    {
      "cell_type": "markdown",
      "metadata": {
        "id": "Uwh6j_J66QO_"
      },
      "source": [
        "아래 두 개의 정수를 총 다섯 칸을 차지하도록 f-문자열을 활용하라.\n",
        "단 모든 정수는 오른쪽으로 정렬되어야 하며 앞쪽 빈칸은 0으로 채운다."
      ]
    },
    {
      "cell_type": "code",
      "execution_count": null,
      "metadata": {
        "id": "nyMfqDi76QO_"
      },
      "outputs": [],
      "source": [
        "num4 = 23\n",
        "num5 = 833"
      ]
    },
    {
      "cell_type": "markdown",
      "metadata": {
        "id": "YFTl1hVD6QO_"
      },
      "source": [
        "**답**"
      ]
    },
    {
      "cell_type": "markdown",
      "metadata": {
        "id": "XzOAVARn6QPA"
      },
      "source": [
        "아래 코드는 총 5칸을 차지하도록 하며 오른쪽으로 정렬시킨다."
      ]
    },
    {
      "cell_type": "code",
      "execution_count": null,
      "metadata": {
        "id": "hDdvGQnI6QPA",
        "outputId": "ad0611b7-9fb8-4f91-ac25-50d76b995c6b"
      },
      "outputs": [
        {
          "name": "stdout",
          "output_type": "stream",
          "text": [
            "00023\n",
            "00833\n"
          ]
        }
      ],
      "source": [
        "print(f\"{num4:0>5d}\")\n",
        "print(f\"{num5:0>5d}\")"
      ]
    },
    {
      "cell_type": "markdown",
      "metadata": {
        "id": "Wf5NSC6DSSky"
      },
      "source": [
        "## 예제 2"
      ]
    },
    {
      "cell_type": "markdown",
      "metadata": {
        "id": "HBNg3Fak6QPA"
      },
      "source": [
        "아래와 같이 선언된 `lyrics`변수가 있다."
      ]
    },
    {
      "cell_type": "code",
      "execution_count": null,
      "metadata": {
        "id": "lTgLisXn6QPA"
      },
      "outputs": [],
      "source": [
        "lyrics = \"\\t When you're smiling, the whole world smiles with you.\\n\\t \""
      ]
    },
    {
      "cell_type": "markdown",
      "metadata": {
        "id": "cipwoxlq6QPA"
      },
      "source": [
        "**질문 1**"
      ]
    },
    {
      "cell_type": "markdown",
      "metadata": {
        "id": "1rBLvn4a6QPA"
      },
      "source": [
        "문자열 양 끝에 있는 화이트 스페이스를 모두 삭제하고, 모든 문자는 소문자로 변환된 문자열을 생성하는\n",
        "한 줄 코드를 작성하라.\n",
        "또한 `\"you're\"` 대신에 `\"you are\"` 가 사용되도록 해야 한다."
      ]
    },
    {
      "cell_type": "markdown",
      "metadata": {
        "id": "EOMwO06_6QPA"
      },
      "source": [
        "**답**"
      ]
    },
    {
      "cell_type": "markdown",
      "metadata": {
        "id": "hH0TdSeT6QPA"
      },
      "source": [
        "문자열의 양 끝에 있는 공백, 줄바꿈, 탭 등의 화이트 스페이스는 `strip()` 메서드로 제거한다."
      ]
    },
    {
      "cell_type": "code",
      "execution_count": null,
      "metadata": {
        "id": "Ge6OooMn6QPA",
        "outputId": "decde541-1a8d-4a89-de78-86da71b32a2b"
      },
      "outputs": [
        {
          "data": {
            "text/plain": [
              "\"When you're smiling, the whole world smiles with you.\""
            ]
          },
          "execution_count": 10,
          "metadata": {},
          "output_type": "execute_result"
        }
      ],
      "source": [
        "lyrics.strip()"
      ]
    },
    {
      "cell_type": "markdown",
      "metadata": {
        "id": "9W69aD-r6QPB"
      },
      "source": [
        "`strip()` 메서드의 반환값 또한 문자열이기에 바로 `lower()` 메서드를\n",
        "적용하면 모든 철자가 소문자로 변환된 문자열이 생성된다."
      ]
    },
    {
      "cell_type": "code",
      "execution_count": null,
      "metadata": {
        "id": "GibyM6Ty6QPB",
        "outputId": "6907ab79-f442-406f-9562-03c3d43580c6"
      },
      "outputs": [
        {
          "data": {
            "text/plain": [
              "\"when you're smiling, the whole world smiles with you.\""
            ]
          },
          "execution_count": 11,
          "metadata": {},
          "output_type": "execute_result"
        }
      ],
      "source": [
        "lyrics.strip().lower()"
      ]
    },
    {
      "cell_type": "markdown",
      "metadata": {
        "id": "r47CyH9O6QPB"
      },
      "source": [
        "`lower()` 메서드 또한 문자열을 반환하기에 곧바로 `replace()` 메서드를 적용할 수 있다."
      ]
    },
    {
      "cell_type": "code",
      "execution_count": null,
      "metadata": {
        "id": "Es4NSd1J6QPB",
        "outputId": "d83ed2e7-804c-4e56-c815-55e0ef9c725a"
      },
      "outputs": [
        {
          "data": {
            "text/plain": [
              "'when you are smiling, the whole world smiles with you.'"
            ]
          },
          "execution_count": 12,
          "metadata": {},
          "output_type": "execute_result"
        }
      ],
      "source": [
        "lyrics.strip().lower().replace(\"you're\", \"you are\")"
      ]
    },
    {
      "cell_type": "markdown",
      "metadata": {
        "id": "AAKP36qg6QPB"
      },
      "source": [
        "**질문 2**"
      ]
    },
    {
      "cell_type": "markdown",
      "metadata": {
        "id": "RyE8SkQy6QPB"
      },
      "source": [
        "`lyrics`가 가리키는 문자열이 대문자 `W`로 시작하는지 여부를 판단하는 한 줄 코드를 작성하라.\n",
        "단, 화이트 스페이스는 무시한다."
      ]
    },
    {
      "cell_type": "markdown",
      "metadata": {
        "id": "0PlS1z1x6QPB"
      },
      "source": [
        "**답**"
      ]
    },
    {
      "cell_type": "markdown",
      "metadata": {
        "id": "5PHyQjur6QPB"
      },
      "source": [
        "문자열 양 끝의 화이트스페이스를 제거한 다음에 바로 `startswith()` 메서드를 적용한다."
      ]
    },
    {
      "cell_type": "code",
      "execution_count": null,
      "metadata": {
        "id": "8NEiHlqQ6QPB",
        "outputId": "9b930bfc-a72f-4c54-b98f-7ce16b42d7a5"
      },
      "outputs": [
        {
          "data": {
            "text/plain": [
              "True"
            ]
          },
          "execution_count": 13,
          "metadata": {},
          "output_type": "execute_result"
        }
      ],
      "source": [
        "lyrics.strip().startswith('W')"
      ]
    },
    {
      "cell_type": "markdown",
      "metadata": {
        "id": "JdKcV9ob6QPC"
      },
      "source": [
        "**질문 3**"
      ]
    },
    {
      "cell_type": "markdown",
      "metadata": {
        "id": "qEgA3H-D6QPE"
      },
      "source": [
        "위 문자열이 `you.`로 끝나는지 여부를 판단하는 한 줄 코드를 작성하라.\n",
        "단, 화이트 스페이스는 무시한다."
      ]
    },
    {
      "cell_type": "markdown",
      "metadata": {
        "id": "wwjqWXMy6QPF"
      },
      "source": [
        "**답**"
      ]
    },
    {
      "cell_type": "markdown",
      "metadata": {
        "id": "VkTuYEuH6QPF"
      },
      "source": [
        "문자열 양 끝의 화이트스페이스를 제거한 다음에 바로 `endswith()` 메서드를 적용한다."
      ]
    },
    {
      "cell_type": "code",
      "execution_count": null,
      "metadata": {
        "id": "0_ky4bz66QPF",
        "outputId": "56dfa376-f1aa-408b-e8a4-ac06edcd253b"
      },
      "outputs": [
        {
          "data": {
            "text/plain": [
              "True"
            ]
          },
          "execution_count": 14,
          "metadata": {},
          "output_type": "execute_result"
        }
      ],
      "source": [
        "lyrics.strip().endswith('you.')"
      ]
    },
    {
      "cell_type": "markdown",
      "metadata": {
        "id": "FyKeHzRw6QPF"
      },
      "source": [
        "## 예제 3"
      ]
    },
    {
      "cell_type": "markdown",
      "metadata": {
        "id": "0cTXWxru6QPF"
      },
      "source": [
        "다음 세 개의 함수는 모두 입력된 문자열이 소문자를 포함하고 있는지 여부를 조사하도록 구현되었지만\n",
        "하나만 제대로 작동한다.\n",
        "어느 함수가 제대로 작동하는지 확인한 다음 그 이유를 설명하라.\n",
        "또한 다른 두 함수가 적절하게 구현되지 않은 이유를 설명하라."
      ]
    },
    {
      "cell_type": "code",
      "execution_count": null,
      "metadata": {
        "id": "7bm0_oaR6QPF"
      },
      "outputs": [],
      "source": [
        "def any_lowercase1(text):\n",
        "    for c in text:\n",
        "        if c.islower():\n",
        "            return True\n",
        "        else:\n",
        "            return False\n",
        "\n",
        "def any_lowercase2(text):\n",
        "    for c in text:\n",
        "        if 'c'.islower():\n",
        "            return 'True'\n",
        "        else:\n",
        "            return 'False'\n",
        "\n",
        "def any_lowercase3(text):\n",
        "    flag = False\n",
        "    for c in text:\n",
        "        flag = flag or c.islower()\n",
        "    return flag"
      ]
    },
    {
      "cell_type": "markdown",
      "metadata": {
        "id": "yNxIbAtDTaKr"
      },
      "source": [
        "위 코드에 사용된 `islower()` 메서드는 지정된 문자열이 모두 대문자 알파벳을 포함하지 않는지 여부를 판단한다.\n",
        "즉, 소문자와 기타 기호만 포함할 때 `True`를 반환한다."
      ]
    },
    {
      "cell_type": "code",
      "execution_count": null,
      "metadata": {
        "id": "nLU9P9F7TaKr",
        "outputId": "9ec27206-e7e0-4ffd-cf29-95e79f2d40c3"
      },
      "outputs": [
        {
          "data": {
            "text/plain": [
              "True"
            ]
          },
          "execution_count": 16,
          "metadata": {},
          "output_type": "execute_result"
        }
      ],
      "source": [
        "'abc'.islower()"
      ]
    },
    {
      "cell_type": "code",
      "execution_count": null,
      "metadata": {
        "id": "sbRdsg2QTaKr",
        "outputId": "1e5ed482-9443-49ea-da9e-d21020ef1ba4"
      },
      "outputs": [
        {
          "data": {
            "text/plain": [
              "False"
            ]
          },
          "execution_count": 17,
          "metadata": {},
          "output_type": "execute_result"
        }
      ],
      "source": [
        "'Abc'.islower()"
      ]
    },
    {
      "cell_type": "code",
      "execution_count": null,
      "metadata": {
        "id": "xXqPpyy5TaKr",
        "outputId": "440006ac-4991-49b7-be46-d22ba822f38e"
      },
      "outputs": [
        {
          "data": {
            "text/plain": [
              "True"
            ]
          },
          "execution_count": 18,
          "metadata": {},
          "output_type": "execute_result"
        }
      ],
      "source": [
        "'abc !'.islower()"
      ]
    },
    {
      "cell_type": "markdown",
      "metadata": {
        "id": "pcc_nr3WTaKr"
      },
      "source": [
        "`isupper()` 메서드는 반대로 판단한다."
      ]
    },
    {
      "cell_type": "code",
      "execution_count": null,
      "metadata": {
        "id": "oXpweTOcTaKr",
        "outputId": "e82b7031-1ba1-47be-c843-1cc4a1349d91"
      },
      "outputs": [
        {
          "data": {
            "text/plain": [
              "False"
            ]
          },
          "execution_count": 23,
          "metadata": {},
          "output_type": "execute_result"
        }
      ],
      "source": [
        "'aBC'.isupper()"
      ]
    },
    {
      "cell_type": "code",
      "execution_count": null,
      "metadata": {
        "id": "egP3pPcdTaKr",
        "outputId": "2305c19e-b30f-49db-ed6b-389437e5b721"
      },
      "outputs": [
        {
          "data": {
            "text/plain": [
              "True"
            ]
          },
          "execution_count": 24,
          "metadata": {},
          "output_type": "execute_result"
        }
      ],
      "source": [
        "'ABC'.isupper()"
      ]
    },
    {
      "cell_type": "code",
      "execution_count": null,
      "metadata": {
        "id": "GKS3bVzXTaKs",
        "outputId": "f6d4e08e-b8fb-4eab-870c-4576245f9f11"
      },
      "outputs": [
        {
          "data": {
            "text/plain": [
              "True"
            ]
          },
          "execution_count": 25,
          "metadata": {},
          "output_type": "execute_result"
        }
      ],
      "source": [
        "'ABC !'.isupper()"
      ]
    },
    {
      "cell_type": "markdown",
      "metadata": {
        "id": "wbr3oGfV6QPF"
      },
      "source": [
        "**답**"
      ]
    },
    {
      "cell_type": "markdown",
      "metadata": {
        "id": "vGNGUmFX6QPF"
      },
      "source": [
        "아래 문자열에 대해 위 함수를 테스트한다."
      ]
    },
    {
      "cell_type": "code",
      "execution_count": null,
      "metadata": {
        "id": "m0VroGx_6QPF"
      },
      "outputs": [],
      "source": [
        "word1 = \"ABcDE\"\n",
        "word2 = \"ABCDE\""
      ]
    },
    {
      "cell_type": "markdown",
      "metadata": {
        "id": "pu7FMHqW6QPG"
      },
      "source": [
        "**`any_lowercase1()` 함수**"
      ]
    },
    {
      "cell_type": "code",
      "execution_count": null,
      "metadata": {
        "id": "EOIIb9vM6QPG"
      },
      "outputs": [],
      "source": [
        "def any_lowercase1(text):\n",
        "    for c in text:\n",
        "        if c.islower():\n",
        "            return True\n",
        "        else:\n",
        "            return False"
      ]
    },
    {
      "cell_type": "markdown",
      "metadata": {
        "id": "qmIe2PfA6QPG"
      },
      "source": [
        "인자로 입력되는 문자열의 첫 문자가 소문자의 대소문자 여부를 확인하고 바로 반환값을 지정한다.\n",
        "함수는 반환값이 지정되면 바로 실행을 종료하기에 결국 첫 문자만 확인하고 종료한다.\n",
        "따라서 `word1` 변수가 가리키는 문자열에 소문자 `'c'`가 포함되어 있지만 첫 문자가 대문자이기에 `False`를 반환한다."
      ]
    },
    {
      "cell_type": "code",
      "execution_count": null,
      "metadata": {
        "id": "cGJ_M8jD6QPG",
        "outputId": "308f1d75-4d79-4ba1-bc58-923f51fc2816"
      },
      "outputs": [
        {
          "data": {
            "text/plain": [
              "False"
            ]
          },
          "execution_count": 16,
          "metadata": {},
          "output_type": "execute_result"
        }
      ],
      "source": [
        "any_lowercase1(word1)"
      ]
    },
    {
      "cell_type": "markdown",
      "metadata": {
        "id": "ewDDFzO76QPG"
      },
      "source": [
        "**`any_lowercase2()` 함수**"
      ]
    },
    {
      "cell_type": "code",
      "execution_count": null,
      "metadata": {
        "id": "AVSLpbeF6QPG"
      },
      "outputs": [],
      "source": [
        "def any_lowercase2(text):\n",
        "    for c in text:\n",
        "        if 'c'.islower():\n",
        "            return 'True'\n",
        "        else:\n",
        "            return 'False'"
      ]
    },
    {
      "cell_type": "markdown",
      "metadata": {
        "id": "uu-rCiVR6QPG"
      },
      "source": [
        "`for` 반복문의 본문이 함수의 인자를 전혀 활용하지 않는다.\n",
        "이유는 `if 'c'.islower()` 에서 사용된 `'c'`는\n",
        "`for c in text`의 `c`와 아무 상관이 없는 영어 알파벳 c 하나로\n",
        "구성된 문자열이기 때문이다.\n",
        "또한 `'c'`가 소문자이기에 결과는 항상 문자열 `'True'`로\n",
        "심지어 부울값 `True`와 아무 상관이 없다."
      ]
    },
    {
      "cell_type": "code",
      "execution_count": null,
      "metadata": {
        "id": "vQoC1i-66QPG",
        "outputId": "975101e6-9a86-4719-94ae-ffc8d631f6d2"
      },
      "outputs": [
        {
          "data": {
            "text/plain": [
              "'True'"
            ]
          },
          "execution_count": 18,
          "metadata": {},
          "output_type": "execute_result"
        }
      ],
      "source": [
        "any_lowercase2(word1)"
      ]
    },
    {
      "cell_type": "code",
      "execution_count": null,
      "metadata": {
        "id": "bbxt4lP66QPH",
        "outputId": "46bdaf02-227d-42c9-83bd-3d66e83bed6a"
      },
      "outputs": [
        {
          "data": {
            "text/plain": [
              "'True'"
            ]
          },
          "execution_count": 19,
          "metadata": {},
          "output_type": "execute_result"
        }
      ],
      "source": [
        "any_lowercase2(word2)"
      ]
    },
    {
      "cell_type": "markdown",
      "metadata": {
        "id": "43wb50pO6QPH"
      },
      "source": [
        "**`any_lowercase3()` 함수**"
      ]
    },
    {
      "cell_type": "code",
      "execution_count": null,
      "metadata": {
        "id": "GXrseHYe6QPH"
      },
      "outputs": [],
      "source": [
        "def any_lowercase3(text):\n",
        "    flag = False\n",
        "    for c in text:\n",
        "        flag = flag or c.islower()\n",
        "    return flag"
      ]
    },
    {
      "cell_type": "markdown",
      "metadata": {
        "id": "_R-JNT916QPH"
      },
      "source": [
        "`flag` 변수는 소문자를 찾았는지 여부를 기억한다.\n",
        "`for c in text` 반복문에서 `c`가 `text`에 포함된 문자 하나하나를 가리킬 때\n",
        "소문자를 만나는 순간 `c.lower()`가 `True`가 되고 따라서 `or` 연산자에 의해\n",
        "`flag`이 계속해서 `True`를 가리키게 된다.\n",
        "즉, 소문자가 하나라도 포함되면 `True`를 반환한다."
      ]
    },
    {
      "cell_type": "code",
      "execution_count": null,
      "metadata": {
        "id": "7tpZP5-z6QPH",
        "outputId": "4ef626a4-0fa5-4907-a336-6c9e07187179"
      },
      "outputs": [
        {
          "data": {
            "text/plain": [
              "True"
            ]
          },
          "execution_count": 21,
          "metadata": {},
          "output_type": "execute_result"
        }
      ],
      "source": [
        "any_lowercase3(word1)"
      ]
    },
    {
      "cell_type": "code",
      "execution_count": null,
      "metadata": {
        "id": "BgIQkhSP6QPH",
        "outputId": "687ac77c-7c02-4b06-894d-5a8971da22f5"
      },
      "outputs": [
        {
          "data": {
            "text/plain": [
              "False"
            ]
          },
          "execution_count": 22,
          "metadata": {},
          "output_type": "execute_result"
        }
      ],
      "source": [
        "any_lowercase3(word2)"
      ]
    },
    {
      "cell_type": "markdown",
      "metadata": {
        "id": "isAs83m46QPH"
      },
      "source": [
        "결국 `any_lowercase3()` 만 소문자 포함여부를 제대로 결정한다."
      ]
    },
    {
      "cell_type": "markdown",
      "metadata": {
        "id": "tQ4kF-oU6QPH"
      },
      "source": [
        "## 예제 4"
      ]
    },
    {
      "cell_type": "markdown",
      "metadata": {
        "id": "QCy_T3tc6QPI"
      },
      "source": [
        "문자열 `a:b:c:d` 을 이용하여 문자열 `a#b#c#d` 생성하는 코드를 작성하라.\n",
        "\n",
        "힌트: `split()`와 `join()` 메서드 활용"
      ]
    },
    {
      "cell_type": "markdown",
      "metadata": {
        "id": "-FZVza5l6QPI"
      },
      "source": [
        "**답**"
      ]
    },
    {
      "cell_type": "code",
      "execution_count": null,
      "metadata": {
        "id": "QAh2J9My6QPI",
        "outputId": "5644a069-9779-4098-8a21-c32c3ac63631"
      },
      "outputs": [
        {
          "data": {
            "text/plain": [
              "'a#b#c#d'"
            ]
          },
          "execution_count": 3,
          "metadata": {},
          "output_type": "execute_result"
        }
      ],
      "source": [
        "abcd_colons = 'a:b:c:d'\n",
        "abcd_list = abcd_colons.split(':')\n",
        "\"#\".join(abcd_list)"
      ]
    },
    {
      "cell_type": "markdown",
      "metadata": {
        "id": "6aa9fb5f"
      },
      "source": [
        "## 예제 5"
      ]
    },
    {
      "cell_type": "markdown",
      "metadata": {
        "id": "b9d29417"
      },
      "source": [
        "변수와 함수의 이름을 지정할 때 **낙타**<font size = \"2\">camel</font> 표기법 또는\n",
        "**팟홀**<font size=\"2\">pothole</font> 표기법을 사용한다.\n",
        "\n",
        "* 낙타 표기법: 소문자로 시작하고, 이어지는 단어의 시작은 대문자로 작성하는 표기법.\n",
        "    - 예제: `userName`, `printMessage`, `countA` 등.\n",
        "\n",
        "* 팟홀 표기법: 모두 소문자를 사용하고, 단어 사이에 밑줄기호(`_`)를 사용하는 표기법.\n",
        "    - 예제: `user_name`, `print_message`, `count_a` 등.   "
      ]
    },
    {
      "cell_type": "markdown",
      "metadata": {
        "id": "UIXHHol56QPI"
      },
      "source": [
        "낙타 표기법을 팟홀 표기법으로 변환하는 `camel2pothole()` 함수를 구현하라.\n",
        "\n",
        "힌트: 문자열 `isupper()`메서드 활용"
      ]
    },
    {
      "cell_type": "markdown",
      "metadata": {
        "id": "mQcpWQR-6QPI"
      },
      "source": [
        "**답**"
      ]
    },
    {
      "cell_type": "markdown",
      "metadata": {
        "id": "3yBtIdqd6QPI"
      },
      "source": [
        "아래 함수는 주어진 문자열에 포함된 알파벳을 대상으로\n",
        "소문자인 경우는 그대로,\n",
        "대문자인 경우엔 소문자로 변환한 다음 밑줄과 함께 연결하는\n",
        "방식으로 새로운 문자열을 생성한다.\n",
        "해당 문자가 대문자인지 여부는 문자열 `isupper()` 메서드로 판단한다."
      ]
    },
    {
      "cell_type": "code",
      "execution_count": null,
      "metadata": {
        "id": "ffc2f7ff"
      },
      "outputs": [],
      "source": [
        "def camel2pothole(word):\n",
        "\n",
        "    # 새 문자열 생성\n",
        "    pothole_word = \"\"\n",
        "    for char in word:\n",
        "        if char.isupper():\n",
        "            pothole_word += \"_\" + char.lower()\n",
        "        else:\n",
        "            pothole_word += char\n",
        "\n",
        "    return pothole_word"
      ]
    },
    {
      "cell_type": "code",
      "execution_count": null,
      "metadata": {
        "colab": {
          "base_uri": "https://localhost:8080/"
        },
        "id": "-PBMpzv_6QPK",
        "outputId": "515ebc09-864a-4fa8-a50e-6a248556b3ef"
      },
      "outputs": [
        {
          "name": "stdout",
          "output_type": "stream",
          "text": [
            "user_name\n",
            "print_message\n",
            "count_a\n",
            "one_two_three\n"
          ]
        }
      ],
      "source": [
        "print(camel2pothole(\"userName\"))\n",
        "print(camel2pothole(\"printMessage\"))\n",
        "print(camel2pothole(\"countA\"))\n",
        "print(camel2pothole(\"oneTwoThree\"))"
      ]
    },
    {
      "cell_type": "markdown",
      "metadata": {
        "id": "ufFGOMkJ6QPK"
      },
      "source": [
        "## 예제 6"
      ]
    },
    {
      "cell_type": "markdown",
      "metadata": {
        "id": "VP3BD1M96QPK"
      },
      "source": [
        "문자열의 `find()` 메서드가 작동하는 방식을 이해하기 위해 `find()` 함수를 직접 정의하려 한다."
      ]
    },
    {
      "cell_type": "markdown",
      "metadata": {
        "id": "sWbYM_mh6QPK"
      },
      "source": [
        "**질문 1**"
      ]
    },
    {
      "cell_type": "markdown",
      "metadata": {
        "id": "f5NlUbUp6QPK"
      },
      "source": [
        "문자열 `find()` 메서드에 대응하는 `find()` 함수를 직접 정의하라.\n",
        "\n",
        "* 매개 변수: 두 개의 문자열을 인자로 받는 `word1`과 `word2` 두 개 사용\n",
        "* `word1`이 `word2`를 부분 문자열로 포함할 경우 부분 문자열이 시작하는 인덱스 반환.\n",
        "    포함하지 않을 경우 -1을 반환.\n",
        "    \n",
        "단, 문자열 인덱싱, 슬라이싱만 사용하고 다른 문자열 메서드는 전혀 사용하지 않아야 한다."
      ]
    },
    {
      "cell_type": "markdown",
      "metadata": {
        "id": "Vy2kloDA6QPK"
      },
      "source": [
        "**답**"
      ]
    },
    {
      "cell_type": "markdown",
      "metadata": {
        "id": "n7hU5-3p6QPK"
      },
      "source": [
        "예를 들어 `'banana'` 문자열은 `'ana'` 문자열을 부분 문자열로 포함한다.\n",
        "`'ana'` 부분 문자열이 `'banana'` 문자열의 어느 인덱스에서 시작하는지를\n",
        "확인하려면 모든 인덱스에 대해 그곳에서부터 `'ana'` 문자열의 시작하는지 여부를\n",
        "슬라이싱으로 대조하면 된다.\n",
        "\n",
        "예를 들어 1번 인덱스부터 `'ana'` 문자열이 시작하는지 여부는 다음과 같이 확인한다.\n",
        "아래 코드에서 3은 `'ana'` 문자열의 길이를 나타낸다.\n",
        "\n",
        "```python\n",
        "'banana'[1:1+3] == 'ana'\n",
        "```\n",
        "\n",
        "아래 `find()` 함수는 `word1` 문자열이 `word2` 문자열을 부분 문자열로 포함되는지 여부를\n",
        "판단하기 위해 `word1`의 모든 인덱스에 대해 `word2` 부분 문자열과 일치 여부를\n",
        "슬라이싱을 이용하여 확인하는 순간에 해당 인덱스를 반환한다.\n",
        "또한 부분 문자열을 확인하지 못하면 -1을 반환한다."
      ]
    },
    {
      "cell_type": "code",
      "execution_count": null,
      "metadata": {
        "id": "JBRiwezF7Gwp"
      },
      "outputs": [],
      "source": [
        "def find(word1, word2):\n",
        "    for idx in range(len(word1)):\n",
        "        if word2 == word1[idx:idx+len(word2)] :\n",
        "            return idx\n",
        "    return -1"
      ]
    },
    {
      "cell_type": "code",
      "execution_count": null,
      "metadata": {
        "id": "AEP4K3Ja7Gws",
        "outputId": "34a139fc-ecd9-4a06-acb4-ab7dba0666a1"
      },
      "outputs": [
        {
          "name": "stdout",
          "output_type": "stream",
          "text": [
            "1\n",
            "1\n",
            "3\n",
            "1\n",
            "-1\n"
          ]
        }
      ],
      "source": [
        "print(find('banana', 'ana'))\n",
        "print(find('heyheyhey', 'ey'))\n",
        "print(find('waikiki', 'ki'))\n",
        "print(find('ulala', 'la'))\n",
        "print(find('chukachuka', 'uKa'))"
      ]
    },
    {
      "cell_type": "markdown",
      "metadata": {
        "id": "wZe345Pl6QPL"
      },
      "source": [
        "**질문 2**"
      ]
    },
    {
      "cell_type": "markdown",
      "metadata": {
        "id": "BCcOp2Tv6QPL"
      },
      "source": [
        "부분 문자열의 포함 여부를 지정된 인덱스부터 확인할 수 있도록 위 함수를 수정하라.\n",
        "이를 위해 다음 `position` 매개변수를 셋째 매개변수로 추가한다."
      ]
    },
    {
      "cell_type": "markdown",
      "metadata": {
        "id": "HmASn4Lm6QPL"
      },
      "source": [
        "* `position` 매개변수: 탐색을 시작하는 인덱스 지정. 기본 키워드 인자로 0 사용."
      ]
    },
    {
      "cell_type": "markdown",
      "metadata": {
        "id": "_Ig7GRvy6QPL"
      },
      "source": [
        "힌트: `range()` 함수의 구간 변경"
      ]
    },
    {
      "cell_type": "markdown",
      "metadata": {
        "id": "hNlNt6fb6QPL"
      },
      "source": [
        "**답**"
      ]
    },
    {
      "cell_type": "markdown",
      "metadata": {
        "id": "kLnXkB2E6QPL"
      },
      "source": [
        "`find()` 함수의 셋째 매개변수로 `position=0`을 사용한다.\n",
        "즉, 함수의 헤더를 다음과 같이 지정한다.\n",
        "\n",
        "```python\n",
        "def find(word1, word2, position=0)\n",
        "```\n",
        "\n",
        "`position=0`은 부분 문자열 탐색을 시작하는 인덱스를 가리키며 기본값으로 0을 사용한다.\n",
        "즉, `position` 값을 지정하지 않거나 변경하지 않는다면 `word1`이 가리키는\n",
        "문자열의 전 구간을 대상으로 부분 문자열 탐색 여부를 확인한다.\n",
        "\n",
        "반면에 `position` 값을 0이 아닌 다른 값으로 지정하면\n",
        "해당 인덱스부터 탐색을 시작한다.\n",
        "이를 위해 `range()` 함수가 지정하는 아래처럼 구간을 `position`으로 시작하도록 한다.\n",
        "\n",
        "```python\n",
        "range(position, len(word1))\n",
        "```"
      ]
    },
    {
      "cell_type": "markdown",
      "metadata": {
        "id": "puaWjomT6QPL"
      },
      "source": [
        "`find()` 함수의 다른 부분은 동일하며, 정리하면 다음과 같다."
      ]
    },
    {
      "cell_type": "code",
      "execution_count": null,
      "metadata": {
        "id": "dBs4TZuS6QPL"
      },
      "outputs": [],
      "source": [
        "def find(word1, word2, position=0):\n",
        "    for idx in range(position, len(word1)):\n",
        "        if word2 == word1[idx:idx+len(word2)] :\n",
        "            return idx\n",
        "    return -1"
      ]
    },
    {
      "cell_type": "markdown",
      "metadata": {
        "id": "ZVsekV_76QPM"
      },
      "source": [
        "- `position=0`을 사용하는 경우"
      ]
    },
    {
      "cell_type": "code",
      "execution_count": null,
      "metadata": {
        "id": "vYVWv-8c6QPM",
        "outputId": "b8ff72e3-0d07-4b84-903b-f9a27c653833"
      },
      "outputs": [
        {
          "name": "stdout",
          "output_type": "stream",
          "text": [
            "1\n",
            "1\n",
            "3\n",
            "1\n",
            "-1\n"
          ]
        }
      ],
      "source": [
        "print(find('banana', 'ana'))\n",
        "print(find('heyheyhey', 'ey'))\n",
        "print(find('waikiki', 'ki'))\n",
        "print(find('ulala', 'la'))\n",
        "print(find('chukachuka', 'uKa'))"
      ]
    },
    {
      "cell_type": "markdown",
      "metadata": {
        "id": "6qcjePY96QPM"
      },
      "source": [
        "- `position`을 다르게 지정하는 경우"
      ]
    },
    {
      "cell_type": "code",
      "execution_count": null,
      "metadata": {
        "id": "irKwPqsd6QPM",
        "outputId": "f93bc447-078a-43b7-d23d-7a637e205d99"
      },
      "outputs": [
        {
          "name": "stdout",
          "output_type": "stream",
          "text": [
            "3\n",
            "4\n",
            "5\n",
            "3\n",
            "-1\n"
          ]
        }
      ],
      "source": [
        "print(find('banana', 'ana', 2))\n",
        "print(find('heyheyhey', 'ey', 3))\n",
        "print(find('waikiki', 'ki', 4))\n",
        "print(find('ulala', 'la', 2))\n",
        "print(find('chukachuka', 'uKa'))"
      ]
    },
    {
      "cell_type": "markdown",
      "metadata": {
        "id": "njCAOrwZ6QPM"
      },
      "source": [
        "## 예제 7"
      ]
    },
    {
      "cell_type": "markdown",
      "metadata": {
        "id": "bD_HDNHe6QPM"
      },
      "source": [
        "어구전철은 주어진 단어에 사용된 철자의 순서를 변경해서 생성되는 단어를 가리킨다.\n",
        "예를 들어 \"python\"과 \"thpyon\" 서로 어구전철 관계다.\n",
        "주어진 두 단어의 어구전철 여부를 판정하는 `is_anagram()` 함수를 다음과 같이 구현할 수 있다."
      ]
    },
    {
      "cell_type": "markdown",
      "metadata": {
        "id": "x4765kuV6QPM"
      },
      "source": [
        "**질문 1**"
      ]
    },
    {
      "cell_type": "markdown",
      "metadata": {
        "id": "KFxlo4Rx6QPM"
      },
      "source": [
        "주어진 두 단어의 어구전철 관계여부를 판단하는 `is_anagram()` 함수를 선언하라.\n",
        "\n",
        "힌트: `sorted()` 함수 활용"
      ]
    },
    {
      "cell_type": "markdown",
      "metadata": {
        "id": "qyyn305l6QPM"
      },
      "source": [
        "**답**"
      ]
    },
    {
      "cell_type": "markdown",
      "metadata": {
        "id": "PI8LYNCF6QPM"
      },
      "source": [
        "`sorted()` 함수는 는 인자로 주어지는 문자열에 포함된 알파벳을 크기 순으로 정렬한 리스트를 반환한다."
      ]
    },
    {
      "cell_type": "code",
      "execution_count": null,
      "metadata": {
        "id": "POgBAY8a6QPN",
        "outputId": "72a6790c-1e65-484e-d41d-a87c151275a3"
      },
      "outputs": [
        {
          "data": {
            "text/plain": [
              "['a', 'a', 'a', 'b', 'n', 'n']"
            ]
          },
          "execution_count": 30,
          "metadata": {},
          "output_type": "execute_result"
        }
      ],
      "source": [
        "sorted('banana')"
      ]
    },
    {
      "cell_type": "code",
      "execution_count": null,
      "metadata": {
        "id": "ggWV5-zi6QPN",
        "outputId": "41833f72-119d-48c6-8004-c28772ae3e01"
      },
      "outputs": [
        {
          "data": {
            "text/plain": [
              "['e', 'h', 'l', 'l', 'o']"
            ]
          },
          "execution_count": 31,
          "metadata": {},
          "output_type": "execute_result"
        }
      ],
      "source": [
        "sorted('hello')"
      ]
    },
    {
      "cell_type": "markdown",
      "metadata": {
        "id": "IvD3VXRT6QPN"
      },
      "source": [
        "따라서 주어진 두 단어의 어구전철 여부를 `sorted()` 함수의 반환값으로 쉽게 판단할 수 있다."
      ]
    },
    {
      "cell_type": "code",
      "execution_count": null,
      "metadata": {
        "id": "kDAs0GPM6QPN"
      },
      "outputs": [],
      "source": [
        "def is_anagram(word1, word2):\n",
        "    return sorted(word1) == sorted(word2)"
      ]
    },
    {
      "cell_type": "code",
      "execution_count": null,
      "metadata": {
        "id": "XIkbwFCR6QPN",
        "outputId": "fff80233-c721-4cbe-c37d-aa7eb50857e3"
      },
      "outputs": [
        {
          "name": "stdout",
          "output_type": "stream",
          "text": [
            "True\n",
            "False\n"
          ]
        }
      ],
      "source": [
        "print(is_anagram('banana', 'nanaab'))\n",
        "print(is_anagram('hello', 'eoolh'))"
      ]
    },
    {
      "cell_type": "markdown",
      "metadata": {
        "id": "MkQyH5dl6QPN"
      },
      "source": [
        "**질문 1**"
      ]
    },
    {
      "cell_type": "markdown",
      "metadata": {
        "id": "Kx3OZl_V6QPN"
      },
      "source": [
        "위 함수는 그런데 공백이 포함되는 경우 정확하게 작동하지 않는다."
      ]
    },
    {
      "cell_type": "code",
      "execution_count": null,
      "metadata": {
        "id": "5GKwCUDh6QPN",
        "outputId": "acc8b3c4-4a3b-45a5-acb7-29d0ed3290ce"
      },
      "outputs": [
        {
          "data": {
            "text/plain": [
              "False"
            ]
          },
          "execution_count": 34,
          "metadata": {},
          "output_type": "execute_result"
        }
      ],
      "source": [
        "is_anagram('happ y', ' ypp ah')"
      ]
    },
    {
      "cell_type": "markdown",
      "metadata": {
        "id": "8MQVzSxj6QPN"
      },
      "source": [
        "`is_anagram()` 함수가 공백을 무시하도록 하라."
      ]
    },
    {
      "cell_type": "markdown",
      "metadata": {
        "id": "qlY6w4mT6QPN"
      },
      "source": [
        "**답**"
      ]
    },
    {
      "cell_type": "markdown",
      "metadata": {
        "id": "S3AQP3Ia6QPO"
      },
      "source": [
        "`sorted()` 함수를 적용하기 전에 `replace()` 메서드를 이용하여 문자열에서 공백을 모두 없애면 된다."
      ]
    },
    {
      "cell_type": "code",
      "execution_count": null,
      "metadata": {
        "id": "a6Kh8ssc6QPO",
        "outputId": "79cecc94-dd94-4598-bebc-0d2bcb26d5fe"
      },
      "outputs": [
        {
          "data": {
            "text/plain": [
              "'happy'"
            ]
          },
          "execution_count": 35,
          "metadata": {},
          "output_type": "execute_result"
        }
      ],
      "source": [
        "'ha pp y'.replace(' ', '')"
      ]
    },
    {
      "cell_type": "markdown",
      "metadata": {
        "id": "_1rIcUfz6QPO"
      },
      "source": [
        "따라서 함수를 다음과 같이 수정한다."
      ]
    },
    {
      "cell_type": "code",
      "execution_count": null,
      "metadata": {
        "id": "ThKCq9pb6QPO"
      },
      "outputs": [],
      "source": [
        "def is_anagram(word1, word2):\n",
        "    return sorted(word1.replace(\" \", \"\")) == sorted(word2.replace(\" \", \"\"))"
      ]
    },
    {
      "cell_type": "code",
      "execution_count": null,
      "metadata": {
        "id": "-lXYHl4k6QPO",
        "outputId": "f7f6c410-2d10-47b8-b615-762531689ed1"
      },
      "outputs": [
        {
          "data": {
            "text/plain": [
              "True"
            ]
          },
          "execution_count": 37,
          "metadata": {},
          "output_type": "execute_result"
        }
      ],
      "source": [
        "is_anagram('happ y', ' ypp ah')"
      ]
    },
    {
      "cell_type": "markdown",
      "metadata": {
        "id": "wSPKF11w6QPO"
      },
      "source": [
        "## 예제 8"
      ]
    },
    {
      "cell_type": "markdown",
      "metadata": {
        "id": "C3FomUWr6QPO"
      },
      "source": [
        "'기러기', '토마토', '우영우', '인싸 의사의 싸인', 'bob', 'eye', 'pop'와 같이\n",
        "앞으로 읽어도, 뒤로 읽어도 동일한 문자열을 **회문**<font size='2'>palindrome</font>이라 부른다.\n",
        "단어 뿐만 아니라 문장이 주어졌을 때 회문인지 여부를 판단하는 함수를 구현하려 한다."
      ]
    },
    {
      "cell_type": "markdown",
      "metadata": {
        "id": "WUez-ss66QPO"
      },
      "source": [
        "**질문 1**"
      ]
    },
    {
      "cell_type": "markdown",
      "metadata": {
        "id": "Zzp2yzH-6QPO"
      },
      "source": [
        "하나의 문자열과 함께 호출되면 공백 문자뿐만 아니라 아래 문자열에 포함된 모든 기호가 제거된 문자열을 반환하는\n",
        "`no_nonWord()` 함수를 정의하라.\n",
        "\n",
        "    ' .,!?'\n",
        "\n",
        "힌트: 문자열 `replace()` 메서드와 `for` 반복문"
      ]
    },
    {
      "cell_type": "markdown",
      "metadata": {
        "id": "KDplQJUq6QPP"
      },
      "source": [
        "**답**"
      ]
    },
    {
      "cell_type": "code",
      "execution_count": null,
      "metadata": {
        "id": "rIafUu146QPP",
        "outputId": "11720065-7088-4df3-d705-046ff98eb9dc"
      },
      "outputs": [
        {
          "data": {
            "text/plain": [
              "'여보게저기저게보여'"
            ]
          },
          "execution_count": 38,
          "metadata": {},
          "output_type": "execute_result"
        }
      ],
      "source": [
        "nonWord_chr = ' .,!?'\n",
        "word = \"여보게, 저기 저게 보여?\"\n",
        "\n",
        "for chr in nonWord_chr:\n",
        "    word = word.replace(chr, \"\")\n",
        "\n",
        "word"
      ]
    },
    {
      "cell_type": "code",
      "execution_count": null,
      "metadata": {
        "id": "DMVblacg6QPP"
      },
      "outputs": [],
      "source": [
        "def no_nonWord(word):\n",
        "    nonWord_chr = ' .,!?'\n",
        "\n",
        "    for chr in nonWord_chr:\n",
        "        word = word.replace(chr, \"\")\n",
        "\n",
        "    return word"
      ]
    },
    {
      "cell_type": "code",
      "execution_count": null,
      "metadata": {
        "id": "HboUNqTz6QPP",
        "outputId": "db8cadf2-be33-4bc1-c776-da64a04a1869"
      },
      "outputs": [
        {
          "data": {
            "text/plain": [
              "'여보게저기저게보여'"
            ]
          },
          "execution_count": 40,
          "metadata": {},
          "output_type": "execute_result"
        }
      ],
      "source": [
        "no_nonWord(\"여보게, 저기 저게 보여?\")"
      ]
    },
    {
      "cell_type": "code",
      "execution_count": null,
      "metadata": {
        "id": "KdcwT8lS6QPP",
        "outputId": "c58ff658-27cc-4096-fafb-ca3c74c7442a"
      },
      "outputs": [
        {
          "data": {
            "text/plain": [
              "'다시합창합시다'"
            ]
          },
          "execution_count": 41,
          "metadata": {},
          "output_type": "execute_result"
        }
      ],
      "source": [
        "no_nonWord(\"다시! 합창합시다.\")"
      ]
    },
    {
      "cell_type": "markdown",
      "metadata": {
        "id": "ymhkUKzw6QPP"
      },
      "source": [
        "**질문 2**"
      ]
    },
    {
      "cell_type": "markdown",
      "metadata": {
        "id": "j35n0kUs6QPP"
      },
      "source": [
        "하나의 문자열과 함께 호출되었얼 때 회문 여부를 `True`/`False`로 반환하는\n",
        "`palindrome()` 를 작성하라.\n",
        "단, 공백은 무시되고 대소문자도 구분하지 않는다.\n",
        "\n",
        "힌트: 문자열 `replace()`, `lower()` 메서드,  문자열 슬라이싱 등 활용"
      ]
    },
    {
      "cell_type": "code",
      "execution_count": null,
      "metadata": {
        "id": "q9RPC8yc6QPP"
      },
      "outputs": [],
      "source": [
        "def palindrome(word):\n",
        "    word_ = word.lower().replace(\" \", \"\")\n",
        "    return word_ == word_[::-1]"
      ]
    },
    {
      "cell_type": "code",
      "execution_count": null,
      "metadata": {
        "id": "Iu8Wq5Pr6QPQ"
      },
      "outputs": [],
      "source": [
        "assert palindrome(\"Bob\") == True\n",
        "assert palindrome(\"tomato\") == False\n",
        "assert palindrome(\"기러기\") == True\n",
        "assert palindrome(\"인싸 의사의 싸인\") == True\n",
        "assert palindrome(\"다시 합창합시다\") == True\n",
        "assert palindrome(\"여보게, 저기 저게 보여?\") == False"
      ]
    },
    {
      "cell_type": "markdown",
      "metadata": {
        "id": "vtL8bE-D6QPQ"
      },
      "source": [
        "**질문 3**"
      ]
    },
    {
      "cell_type": "markdown",
      "metadata": {
        "id": "fZflBZbj6QPQ"
      },
      "source": [
        "하나의 문자열과 함께 호출되었얼 때 회문 여부를 `True`/`False`로 반환하는\n",
        "`palindrome()` 를 작성하라.\n",
        "단, 공백과 대소문자뿐만 아니라 점, 쉼표, 느낌표, 물음표, 하이픈 등도 무시한다.\n",
        "\n",
        "힌트: 문자열 `replace()`, `lower()` 메서드,  문자열 슬라이싱 등 활용"
      ]
    },
    {
      "cell_type": "markdown",
      "metadata": {
        "id": "ohb1u3p36QPQ"
      },
      "source": [
        "**답**"
      ]
    },
    {
      "cell_type": "code",
      "execution_count": null,
      "metadata": {
        "id": "TFaRgrq96QPQ"
      },
      "outputs": [],
      "source": [
        "def palindrome(word):\n",
        "    word_ = word.lower()\n",
        "    word_ = no_nonWord(word_)\n",
        "    return word_ == word_[::-1]"
      ]
    },
    {
      "cell_type": "code",
      "execution_count": null,
      "metadata": {
        "id": "GDEIPu5z6QPQ"
      },
      "outputs": [],
      "source": [
        "assert palindrome(\"Bob\") == True\n",
        "assert palindrome(\"tomato\") == False\n",
        "assert palindrome(\"기러기\") == True\n",
        "assert palindrome(\"인싸 의사의 싸인\") == True\n",
        "assert palindrome(\"다시! 합창합시다.\") == True\n",
        "assert palindrome(\"여보게, 저기 저게 보여?\") == True"
      ]
    }
  ],
  "metadata": {
    "colab": {
      "provenance": []
    },
    "kernelspec": {
      "display_name": "Python 3 (ipykernel)",
      "language": "python",
      "name": "python3"
    },
    "language_info": {
      "codemirror_mode": {
        "name": "ipython",
        "version": 3
      },
      "file_extension": ".py",
      "mimetype": "text/x-python",
      "name": "python",
      "nbconvert_exporter": "python",
      "pygments_lexer": "ipython3",
      "version": "3.11.5"
    }
  },
  "nbformat": 4,
  "nbformat_minor": 0
}