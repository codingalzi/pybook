{
 "cells": [
  {
   "cell_type": "markdown",
   "metadata": {
    "id": "dj2QOM4rVDRT"
   },
   "source": [
    "# (필수 예제) 리스트와 튜플"
   ]
  },
  {
   "cell_type": "markdown",
   "metadata": {},
   "source": [
    "**참고 사항**\n",
    "\n",
    "먼저 [리스트와 튜플](https://codingalzi.github.io/pybook/lists_tuples.html) 내용을 학습하세요."
   ]
  },
  {
   "cell_type": "markdown",
   "metadata": {
    "id": "e8233271"
   },
   "source": [
    "## 예제"
   ]
  },
  {
   "cell_type": "markdown",
   "metadata": {
    "id": "7b1ec1be"
   },
   "source": [
    "`num_list` 변수가 아래처럼 선언되었다."
   ]
  },
  {
   "cell_type": "code",
   "execution_count": 66,
   "metadata": {
    "id": "e3cdd991"
   },
   "outputs": [],
   "source": [
    "num_list = [[1, 2, 3, [4, 5]], [6, 7, 8], 9]"
   ]
  },
  {
   "cell_type": "markdown",
   "metadata": {},
   "source": [
    "**질문 1**"
   ]
  },
  {
   "cell_type": "markdown",
   "metadata": {
    "id": "08c4ddd2"
   },
   "source": [
    "`9`를 츨력하는 코드를 작성하여라.   "
   ]
  },
  {
   "cell_type": "markdown",
   "metadata": {},
   "source": [
    "**답**"
   ]
  },
  {
   "cell_type": "code",
   "execution_count": 68,
   "metadata": {
    "colab": {
     "base_uri": "https://localhost:8080/"
    },
    "id": "219b9ae3",
    "outputId": "0b137a64-f472-4cbe-b667-8747700c3518"
   },
   "outputs": [
    {
     "name": "stdout",
     "output_type": "stream",
     "text": [
      "9\n"
     ]
    }
   ],
   "source": [
    "num_list = [[1, 2, 3, [4, 5]], [6, 7, 8], 9]\n",
    "print(num_list[-1])"
   ]
  },
  {
   "cell_type": "markdown",
   "metadata": {},
   "source": [
    "**질문 2**"
   ]
  },
  {
   "cell_type": "markdown",
   "metadata": {
    "id": "6ad2f609"
   },
   "source": [
    "`7`를 출력하는 코드를 작성하여라.   "
   ]
  },
  {
   "cell_type": "markdown",
   "metadata": {},
   "source": [
    "**답**"
   ]
  },
  {
   "cell_type": "code",
   "execution_count": 69,
   "metadata": {
    "colab": {
     "base_uri": "https://localhost:8080/"
    },
    "id": "40efea4e",
    "outputId": "44e0ed52-31e9-4ab2-fd4f-8b4c7471e7ff"
   },
   "outputs": [
    {
     "name": "stdout",
     "output_type": "stream",
     "text": [
      "7\n"
     ]
    }
   ],
   "source": [
    "num_list = [[1, 2, 3, [4, 5]], [6, 7, 8], 9]\n",
    "print(num_list[1][1])"
   ]
  },
  {
   "cell_type": "markdown",
   "metadata": {},
   "source": [
    "**질문 3**"
   ]
  },
  {
   "cell_type": "markdown",
   "metadata": {
    "id": "df7d4671"
   },
   "source": [
    "`[3, [4, 5]]`를 출력하는 코드를 작성하여라.  "
   ]
  },
  {
   "cell_type": "markdown",
   "metadata": {},
   "source": [
    "**답**"
   ]
  },
  {
   "cell_type": "code",
   "execution_count": 70,
   "metadata": {
    "colab": {
     "base_uri": "https://localhost:8080/"
    },
    "id": "90388f2c",
    "outputId": "81b4675e-7b9d-4daa-bc66-0f246527a024"
   },
   "outputs": [
    {
     "name": "stdout",
     "output_type": "stream",
     "text": [
      "[3, [4, 5]]\n"
     ]
    }
   ],
   "source": [
    "num_list = [[1, 2, 3, [4, 5]], [6, 7, 8], 9]\n",
    "print(num_list[0][2:4])"
   ]
  },
  {
   "cell_type": "markdown",
   "metadata": {
    "id": "NVzDB9xM7Gwy"
   },
   "source": [
    "## 예제"
   ]
  },
  {
   "cell_type": "markdown",
   "metadata": {},
   "source": [
    "리스트에 중복된 항목이 있는지 여부를 판단하는 `has_duplicates()` 함수를 구현하라."
   ]
  },
  {
   "cell_type": "markdown",
   "metadata": {},
   "source": [
    "**답**"
   ]
  },
  {
   "cell_type": "code",
   "execution_count": 54,
   "metadata": {
    "id": "ILnzFDsS7Gwy"
   },
   "outputs": [],
   "source": [
    "def has_duplicates(aList):\n",
    "    a = []\n",
    "    for i in aList:\n",
    "        if i in a:\n",
    "            return True\n",
    "        else:\n",
    "            a.append(i)\n",
    "\n",
    "    return False"
   ]
  },
  {
   "cell_type": "code",
   "execution_count": 55,
   "metadata": {
    "colab": {
     "base_uri": "https://localhost:8080/",
     "height": 34
    },
    "id": "ju8CmaPNQmBt",
    "outputId": "fdcf041d-4cb5-4ca2-c2f3-e6374e710a99"
   },
   "outputs": [
    {
     "data": {
      "text/plain": [
       "True"
      ]
     },
     "execution_count": 55,
     "metadata": {},
     "output_type": "execute_result"
    }
   ],
   "source": [
    "exc5A = has_duplicates([1, 2, 1, 3]) == True\n",
    "exc5B = has_duplicates(['hello', 'hi', 'hey']) == False\n",
    "exc5C = has_duplicates(['a', [1, 2], 1, 2]) == False\n",
    "exc5D = has_duplicates([True, False, [True, True]]) == False\n",
    "exc5E = has_duplicates([[True, False], True, [True, False]]) == True\n",
    "\n",
    "all([exc5A, exc5B, exc5C, exc5D, exc5E])"
   ]
  },
  {
   "cell_type": "markdown",
   "metadata": {
    "id": "9aKR0Xh6YObm"
   },
   "source": [
    "## 예제"
   ]
  },
  {
   "cell_type": "markdown",
   "metadata": {
    "id": "6rbBfU4zeMtO"
   },
   "source": [
    "영어 단어 인자와 함께 호출되면 알파벳순으로 정렬된 문자열을 반환하는 `abc()` 함수를 구현하라.\n",
    "예를 들어 다음과 같이 작동해야 한다.\n",
    "\n",
    "```\n",
    ">>> abc('dog')\n",
    "'dgo'\n",
    "```\n",
    "\n",
    "힌트: 리스트 정렬"
   ]
  },
  {
   "cell_type": "markdown",
   "metadata": {
    "id": "CFd_qTs8YtEC"
   },
   "source": [
    "**답**"
   ]
  },
  {
   "cell_type": "markdown",
   "metadata": {
    "id": "jgLXjlpgaZZg"
   },
   "source": [
    "- 리스트 정렬 메서드 활용"
   ]
  },
  {
   "cell_type": "code",
   "execution_count": 10,
   "metadata": {
    "executionInfo": {
     "elapsed": 525,
     "status": "ok",
     "timestamp": 1714436686824,
     "user": {
      "displayName": "liga nega",
      "userId": "04505461106310941438"
     },
     "user_tz": -540
    },
    "id": "5ktqrX1umtyZ"
   },
   "outputs": [],
   "source": [
    "def abc(s):\n",
    "    list_s = list(s)\n",
    "    list_s.sort()\n",
    "\n",
    "    sorted_str = \"\"\n",
    "    for i in list_s:\n",
    "        sorted_str += i\n",
    "\n",
    "    return sorted_str"
   ]
  },
  {
   "cell_type": "code",
   "execution_count": 11,
   "metadata": {
    "colab": {
     "base_uri": "https://localhost:8080/",
     "height": 35
    },
    "executionInfo": {
     "elapsed": 416,
     "status": "ok",
     "timestamp": 1714436968116,
     "user": {
      "displayName": "liga nega",
      "userId": "04505461106310941438"
     },
     "user_tz": -540
    },
    "id": "ncarNb5tZ_Rn",
    "outputId": "03c4a31d-0dd5-4b54-d70c-9ec866e10759"
   },
   "outputs": [
    {
     "data": {
      "text/plain": [
       "'dgo'"
      ]
     },
     "execution_count": 11,
     "metadata": {},
     "output_type": "execute_result"
    }
   ],
   "source": [
    "abc('dog')"
   ]
  },
  {
   "cell_type": "code",
   "execution_count": 12,
   "metadata": {
    "colab": {
     "base_uri": "https://localhost:8080/",
     "height": 35
    },
    "executionInfo": {
     "elapsed": 346,
     "status": "ok",
     "timestamp": 1714436978774,
     "user": {
      "displayName": "liga nega",
      "userId": "04505461106310941438"
     },
     "user_tz": -540
    },
    "id": "ObEqXsvtaAnu",
    "outputId": "9247332c-66dd-42fa-c3ad-ca9348a64ed3"
   },
   "outputs": [
    {
     "data": {
      "text/plain": [
       "'hnopty'"
      ]
     },
     "execution_count": 12,
     "metadata": {},
     "output_type": "execute_result"
    }
   ],
   "source": [
    "abc(\"python\")"
   ]
  },
  {
   "cell_type": "markdown",
   "metadata": {
    "id": "edbLSoV7arwn"
   },
   "source": [
    "- `join()` 리스트 메서드 활용"
   ]
  },
  {
   "cell_type": "markdown",
   "metadata": {
    "id": "YxAVp86Faxsk"
   },
   "source": [
    "위 `abc()` 함수의 본문에 사용된 `for` 반복문은 사실 `join()` 메서드의 기능을 대신한다."
   ]
  },
  {
   "cell_type": "code",
   "execution_count": 13,
   "metadata": {
    "executionInfo": {
     "elapsed": 3,
     "status": "ok",
     "timestamp": 1714437258486,
     "user": {
      "displayName": "liga nega",
      "userId": "04505461106310941438"
     },
     "user_tz": -540
    },
    "id": "5_-FM6Kwa9Rc"
   },
   "outputs": [],
   "source": [
    "def abc(s):\n",
    "    list_s = list(s)\n",
    "    list_s.sort()\n",
    "\n",
    "    sorted_str = \"\".join(list_s)\n",
    "\n",
    "    return sorted_str"
   ]
  },
  {
   "cell_type": "code",
   "execution_count": 14,
   "metadata": {
    "colab": {
     "base_uri": "https://localhost:8080/",
     "height": 35
    },
    "executionInfo": {
     "elapsed": 343,
     "status": "ok",
     "timestamp": 1714437263350,
     "user": {
      "displayName": "liga nega",
      "userId": "04505461106310941438"
     },
     "user_tz": -540
    },
    "id": "e8lLw28LbHjz",
    "outputId": "ab593c43-c058-49df-be06-2df8dad93b57"
   },
   "outputs": [
    {
     "data": {
      "text/plain": [
       "'dgo'"
      ]
     },
     "execution_count": 14,
     "metadata": {},
     "output_type": "execute_result"
    }
   ],
   "source": [
    "abc('dog')"
   ]
  },
  {
   "cell_type": "code",
   "execution_count": 15,
   "metadata": {
    "colab": {
     "base_uri": "https://localhost:8080/",
     "height": 35
    },
    "executionInfo": {
     "elapsed": 9,
     "status": "ok",
     "timestamp": 1714437270159,
     "user": {
      "displayName": "liga nega",
      "userId": "04505461106310941438"
     },
     "user_tz": -540
    },
    "id": "bBdxv7SJbIuc",
    "outputId": "eea3ed22-9eb0-4447-b79c-792c6c81fb90"
   },
   "outputs": [
    {
     "data": {
      "text/plain": [
       "'hnopty'"
      ]
     },
     "execution_count": 15,
     "metadata": {},
     "output_type": "execute_result"
    }
   ],
   "source": [
    "abc('python')"
   ]
  },
  {
   "cell_type": "markdown",
   "metadata": {
    "id": "1e4sHPXiaeGX"
   },
   "source": [
    "- `sorted()` 함수 활용"
   ]
  },
  {
   "cell_type": "markdown",
   "metadata": {
    "id": "T4BUrj35bOjA"
   },
   "source": [
    "`sort()` 메서드는 해당 리스트 자체를 수정하며 반환값은 `None`이다.\n",
    "반면에 `sorted()` 함수는 수정된 리스트를 반환한다.\n",
    "따라서 두 함수의 활용법이 조금 다르다.\n",
    "\n",
    "아래 코드는 `sorted()` 함수와 문자열 `join()` 메서드를 활용하여 `abc()` 함수를 보다 간단하게 구현한다."
   ]
  },
  {
   "cell_type": "code",
   "execution_count": 74,
   "metadata": {
    "executionInfo": {
     "elapsed": 415,
     "status": "ok",
     "timestamp": 1714437463547,
     "user": {
      "displayName": "liga nega",
      "userId": "04505461106310941438"
     },
     "user_tz": -540
    },
    "id": "ieI2HSODsQe9"
   },
   "outputs": [],
   "source": [
    "def abc(s) :\n",
    "    list_s = list(s)\n",
    "    return \"\".join(sorted(list_s))"
   ]
  },
  {
   "cell_type": "code",
   "execution_count": 75,
   "metadata": {
    "colab": {
     "base_uri": "https://localhost:8080/",
     "height": 35
    },
    "executionInfo": {
     "elapsed": 11,
     "status": "ok",
     "timestamp": 1714437473893,
     "user": {
      "displayName": "liga nega",
      "userId": "04505461106310941438"
     },
     "user_tz": -540
    },
    "id": "v4DAcqQfsTC3",
    "outputId": "076383c0-08a7-4381-d976-e88f7558ac6a"
   },
   "outputs": [
    {
     "data": {
      "text/plain": [
       "'dgo'"
      ]
     },
     "execution_count": 75,
     "metadata": {},
     "output_type": "execute_result"
    }
   ],
   "source": [
    "abc(\"dog\")"
   ]
  },
  {
   "cell_type": "code",
   "execution_count": 76,
   "metadata": {
    "colab": {
     "base_uri": "https://localhost:8080/",
     "height": 35
    },
    "executionInfo": {
     "elapsed": 413,
     "status": "ok",
     "timestamp": 1714437480033,
     "user": {
      "displayName": "liga nega",
      "userId": "04505461106310941438"
     },
     "user_tz": -540
    },
    "id": "KiJONZPsb8FV",
    "outputId": "6c63ca17-5aca-45e0-b34e-4e5a46134343"
   },
   "outputs": [
    {
     "data": {
      "text/plain": [
       "'hnopty'"
      ]
     },
     "execution_count": 76,
     "metadata": {},
     "output_type": "execute_result"
    }
   ],
   "source": [
    "abc('python')"
   ]
  },
  {
   "cell_type": "markdown",
   "metadata": {
    "id": "6HxPOS4SqZ2t"
   },
   "source": [
    "## 예제"
   ]
  },
  {
   "cell_type": "markdown",
   "metadata": {
    "id": "w7aXz4LhS_23"
   },
   "source": [
    "`sorted()` 함수는 리스트를 파이썬이 정한 값들의 크기를 기준으로 오름차순으로 정렬한 리스트를 반환한다."
   ]
  },
  {
   "cell_type": "code",
   "execution_count": 78,
   "metadata": {
    "colab": {
     "base_uri": "https://localhost:8080/"
    },
    "id": "dkk2cqIiqkLh",
    "outputId": "2893d300-b575-4a36-f7c4-a83d35dddf9a"
   },
   "outputs": [
    {
     "data": {
      "text/plain": [
       "[1, 2, 3, 4, 5]"
      ]
     },
     "execution_count": 78,
     "metadata": {},
     "output_type": "execute_result"
    }
   ],
   "source": [
    "num_list = [3, 2, 1, 4, 5]\n",
    "sorted_list = sorted(num_list)\n",
    "sorted_list"
   ]
  },
  {
   "cell_type": "markdown",
   "metadata": {
    "id": "ng7hQMCTq9yh"
   },
   "source": [
    "`rev_sorted_list` 변수가 `num_list`를 크기 기준 오름차순으로 정렬한 리스트를 가리키도록 하라."
   ]
  },
  {
   "cell_type": "markdown",
   "metadata": {},
   "source": [
    "**답**"
   ]
  },
  {
   "cell_type": "markdown",
   "metadata": {},
   "source": [
    "`sorted()` 함수와 `sort()` 리스트 메서드는 모두 `key`와 `reverse` 두 개의 키워드 인자를 사용한다.\n",
    "\n",
    "- `key`: 항목 정렬을 위한 기준. 기본값은 파이썬이 정한 값들의 크기.\n",
    "- `reverse`: 내림차순으로 정렬할지 여부. 기본은 `False`, 즉 오름차순으로 정렬하기."
   ]
  },
  {
   "cell_type": "code",
   "execution_count": 79,
   "metadata": {
    "colab": {
     "base_uri": "https://localhost:8080/"
    },
    "id": "mrYqh9_qq5Dp",
    "outputId": "b3eb2c9d-e0c4-4de3-aa22-d04089a886b9"
   },
   "outputs": [
    {
     "data": {
      "text/plain": [
       "[5, 4, 3, 2, 1]"
      ]
     },
     "execution_count": 79,
     "metadata": {},
     "output_type": "execute_result"
    }
   ],
   "source": [
    "rev_sorted_list = sorted(num_list, reverse=True)\n",
    "rev_sorted_list"
   ]
  },
  {
   "cell_type": "markdown",
   "metadata": {},
   "source": [
    "## 예제"
   ]
  },
  {
   "cell_type": "markdown",
   "metadata": {
    "id": "w7aXz4LhS_23"
   },
   "source": [
    "`sorted()` 함수는 리스트를 파이썬이 정한 값들의 크기를 기준으로 오름차순으로 정렬한 리스트를 반환한다.\n",
    "아래 코드는 튜플로 구성된 리스트를 정렬할 때\n",
    "튜플의 첫째 항목인 문자열들을 대상으로 알파벳 순서를 기준으로 정렬한다.\n",
    "이유는 튜플들의 크기 비교는 먼저 첫째 항목을 기준으로 정하고, \n",
    "첫째 항목의 크기가 동일하면 둘째 항목의 크기를 비교하는 방식으로 결정되기 때문이다."
   ]
  },
  {
   "cell_type": "code",
   "execution_count": 80,
   "metadata": {
    "colab": {
     "base_uri": "https://localhost:8080/"
    },
    "id": "mrYqh9_qq5Dp",
    "outputId": "b3eb2c9d-e0c4-4de3-aa22-d04089a886b9"
   },
   "outputs": [
    {
     "data": {
      "text/plain": [
       "[('four', 4), ('one', 1), ('three', 3), ('two', 2)]"
      ]
     },
     "execution_count": 80,
     "metadata": {},
     "output_type": "execute_result"
    }
   ],
   "source": [
    "my_tuples = [('one', 1), ('three', 3), ('two', 2), ('four', 4)]\n",
    "sorted(my_tuples)"
   ]
  },
  {
   "cell_type": "markdown",
   "metadata": {},
   "source": [
    "리스트의 항목을 튜플의 둘째 항목인 정수를 기준으로 정렬하여 아래와 같은\n",
    "리스트를 생성하는 코드를 구현하라.\n",
    "\n",
    "```python\n",
    "[('one', 1), ('two', 2), ('three', 3), ('four', 4)]\n",
    "```"
   ]
  },
  {
   "cell_type": "markdown",
   "metadata": {},
   "source": [
    "**답**"
   ]
  },
  {
   "cell_type": "markdown",
   "metadata": {},
   "source": [
    "`sorted()` 함수는 `key`와 `reverse` 두 개의 키워드 인자를 사용한다.\n",
    "\n",
    "- `key`: 항목 정렬을 위한 기준. 기본값은 파이썬이 정한 값들의 크기.\n",
    "- `reverse`: 내림차순으로 정렬할지 여부. 기본은 `False`, 즉 오름차순으로 정렬하기."
   ]
  },
  {
   "cell_type": "markdown",
   "metadata": {
    "id": "ng7hQMCTq9yh"
   },
   "source": [
    "아래 코드에서 `num_sorted_list` 변수가 `my_tuples`를 \n",
    "튜플의 둘째 항목인 크기 기준 오름차순으로 정렬한 리스트를 가리키도록 한다.\n",
    "튜플의 둘째 항목을 크기 비교에 활용하도록 `key` 매개변수의 인자로 튜플에서 둘째 인자를 선택하는\n",
    "함수가 사용되었음에 주목한다."
   ]
  },
  {
   "cell_type": "code",
   "execution_count": 81,
   "metadata": {
    "colab": {
     "base_uri": "https://localhost:8080/"
    },
    "id": "mrYqh9_qq5Dp",
    "outputId": "b3eb2c9d-e0c4-4de3-aa22-d04089a886b9"
   },
   "outputs": [
    {
     "data": {
      "text/plain": [
       "[('one', 1), ('two', 2), ('three', 3), ('four', 4)]"
      ]
     },
     "execution_count": 81,
     "metadata": {},
     "output_type": "execute_result"
    }
   ],
   "source": [
    "num_sorted_tuples = sorted(my_tuples, key=lambda x: x[1])\n",
    "num_sorted_tuples"
   ]
  },
  {
   "cell_type": "markdown",
   "metadata": {
    "id": "GN4i__jVVDRz"
   },
   "source": [
    "## 예제"
   ]
  },
  {
   "cell_type": "markdown",
   "metadata": {
    "id": "IGaiA9ovVDRz"
   },
   "source": [
    "피보나찌 수열은 다음과 같이 정의 된다.\n",
    "\n",
    "$$\n",
    "\\begin{align*}\n",
    "F_0 &= 0 \\\\\n",
    "F_1 &= 1 \\\\\n",
    "F_{n+2} &= F_{n+1} + F_{n}\n",
    "\\end{align*}\n",
    "$$\n",
    "\n",
    "for 반복문과 길이가 2인 리스트를 이용하여 피보나찌 수열의 n 번째 값을 반환하는 함수 `fib()` 를 구현하라."
   ]
  },
  {
   "cell_type": "code",
   "execution_count": null,
   "metadata": {
    "id": "2pOab-_eVDRz"
   },
   "outputs": [],
   "source": [
    "# pass 와 None 을 적절한 명령문과 표현식으로 대체하라.\n",
    "# 재귀를 사용할 수 없으며 for 반복문만을 이용해야 한다.\n",
    "\n",
    "def fib(n):\n",
    "    assert isinstance(n, int)\n",
    "    assert n >= 0\n",
    "\n",
    "    pass\n",
    "\n",
    "    return None"
   ]
  },
  {
   "cell_type": "code",
   "execution_count": null,
   "metadata": {
    "id": "Dd4ERgo5VDRz"
   },
   "outputs": [],
   "source": [
    "# 아래 코드의 주석해제하고 실행하라.\n",
    "\n",
    "# assert fib(5) == 5\n",
    "# assert fib(8) == 21"
   ]
  },
  {
   "cell_type": "markdown",
   "metadata": {
    "id": "gaOaOgqCVDRc"
   },
   "source": [
    "## 예제"
   ]
  },
  {
   "cell_type": "markdown",
   "metadata": {
    "id": "3-giu8MsVDRX"
   },
   "source": [
    "6명의 정보가 다음과 같다."
   ]
  },
  {
   "cell_type": "code",
   "execution_count": 39,
   "metadata": {
    "id": "OTRtTsv1VDRX"
   },
   "outputs": [],
   "source": [
    "kgh = ['김강현', '010-1234-5678', 20, 172.3, '제주']\n",
    "whang = ['황현', '02-9871-1234', 19, 163.5, '서울']\n",
    "namgung = ['남세원', '010-3456-7891', 21, 156.7, '경기']\n",
    "choihs = ['최흥선', '070-4321-1111', 21, 187.2, '부산']\n",
    "sjkim = ['김현선', '010-3333-8888', 22, 164.6, '광주']\n",
    "ja = ['함중아', '010-7654-2345', 18, 178.3, '강원']"
   ]
  },
  {
   "cell_type": "markdown",
   "metadata": {
    "id": "HZjMe9FOVDRY"
   },
   "source": [
    "6명의 정보를 하나의 리스트로 묶는다."
   ]
  },
  {
   "cell_type": "code",
   "execution_count": 40,
   "metadata": {
    "id": "CuT5NcBVVDRY",
    "outputId": "c41bde5d-3e8f-45df-db15-23948f921a5a"
   },
   "outputs": [
    {
     "data": {
      "text/plain": [
       "[['김강현', '010-1234-5678', 20, 172.3, '제주'],\n",
       " ['황현', '02-9871-1234', 19, 163.5, '서울'],\n",
       " ['남세원', '010-3456-7891', 21, 156.7, '경기'],\n",
       " ['최흥선', '070-4321-1111', 21, 187.2, '부산'],\n",
       " ['김현선', '010-3333-8888', 22, 164.6, '광주'],\n",
       " ['함중아', '010-7654-2345', 18, 178.3, '강원']]"
      ]
     },
     "execution_count": 40,
     "metadata": {},
     "output_type": "execute_result"
    }
   ],
   "source": [
    "info_list = [kgh, whang, namgung, choihs, sjkim, ja]\n",
    "info_list"
   ]
  },
  {
   "cell_type": "markdown",
   "metadata": {
    "id": "gaOaOgqCVDRc"
   },
   "source": [
    "**질문 1**"
   ]
  },
  {
   "cell_type": "markdown",
   "metadata": {},
   "source": [
    "`info_list`를 이름순으로 정렬하라.\n",
    "\n",
    "힌트: `sort()` 메서드 활용"
   ]
  },
  {
   "cell_type": "markdown",
   "metadata": {},
   "source": [
    "**답**"
   ]
  },
  {
   "cell_type": "markdown",
   "metadata": {},
   "source": [
    "`sort()` 메서드는 리스트의 항목들이 모두 리스트인 경우 첫째 항목의 크기를 기준으로 정렬한다."
   ]
  },
  {
   "cell_type": "code",
   "execution_count": 43,
   "metadata": {},
   "outputs": [
    {
     "data": {
      "text/plain": [
       "[['김강현', '010-1234-5678', 20, 172.3, '제주'],\n",
       " ['김현선', '010-3333-8888', 22, 164.6, '광주'],\n",
       " ['남세원', '010-3456-7891', 21, 156.7, '경기'],\n",
       " ['최흥선', '070-4321-1111', 21, 187.2, '부산'],\n",
       " ['함중아', '010-7654-2345', 18, 178.3, '강원'],\n",
       " ['황현', '02-9871-1234', 19, 163.5, '서울']]"
      ]
     },
     "execution_count": 43,
     "metadata": {},
     "output_type": "execute_result"
    }
   ],
   "source": [
    "info_list.sort()\n",
    "info_list"
   ]
  },
  {
   "cell_type": "markdown",
   "metadata": {
    "id": "gaOaOgqCVDRc"
   },
   "source": [
    "**질문 2**"
   ]
  },
  {
   "cell_type": "markdown",
   "metadata": {
    "id": "rwL-eEcIVDRc"
   },
   "source": [
    "`info_list`에 포함된 6명의 이름과 전화번호만으로 구성된 리스트를 가리키는 `phone_list` 변수를 선언하라.\n",
    "단, `info_list`와 `for` 반복문, 슬라이싱, `append()` 메서드를 반드시 활용한다."
   ]
  },
  {
   "cell_type": "markdown",
   "metadata": {
    "id": "SVJ7icwbVDRc"
   },
   "source": [
    "**답**"
   ]
  },
  {
   "cell_type": "markdown",
   "metadata": {
    "id": "qouPgW4sVDRc"
   },
   "source": [
    "`phone_list`를 빈 리스트로 초기화한 다음에 `for` 반복문과 인덱싱을 이용하여\n",
    "6명 각각의 정보를 담은 리스트에서 전화번호 정보가 위치한 1번 인덱스 항목을 `phone_list`에\n",
    "`append()` 메서드로 추가한다."
   ]
  },
  {
   "cell_type": "code",
   "execution_count": 42,
   "metadata": {
    "id": "l_1Z7v4_VDRf",
    "outputId": "ee3584bb-1e1a-41fc-f4f7-4d02a5a93926"
   },
   "outputs": [
    {
     "data": {
      "text/plain": [
       "[['김강현', '010-1234-5678'],\n",
       " ['김현선', '010-3333-8888'],\n",
       " ['남세원', '010-3456-7891'],\n",
       " ['최흥선', '070-4321-1111'],\n",
       " ['함중아', '010-7654-2345'],\n",
       " ['황현', '02-9871-1234']]"
      ]
     },
     "execution_count": 42,
     "metadata": {},
     "output_type": "execute_result"
    }
   ],
   "source": [
    "phone_list = []                # 전화번호를 저장할 리스트 초기화\n",
    "\n",
    "for person in info_list:\n",
    "    phone_list.append(person[:2]) # 전화번호만 추출해서 phone_list에 추가\n",
    "\n",
    "phone_list"
   ]
  },
  {
   "cell_type": "markdown",
   "metadata": {
    "id": "gaOaOgqCVDRc"
   },
   "source": [
    "**질문 3**"
   ]
  },
  {
   "cell_type": "markdown",
   "metadata": {
    "id": "sBQTTqw8VDRZ"
   },
   "source": [
    "추가로 6명의 몸무게로 구성된 리스트를 가리키는 `weights` 변수를 선언한다."
   ]
  },
  {
   "cell_type": "code",
   "execution_count": 26,
   "metadata": {
    "id": "57X0DKq5VDRZ"
   },
   "outputs": [],
   "source": [
    "weights = [65.3, 51.5, 48.0, 81.4, 53.8, 90.1]"
   ]
  },
  {
   "cell_type": "markdown",
   "metadata": {
    "id": "3-giu8MsVDRX"
   },
   "source": [
    "6명의 키와 몸무게 정보를 이용하여 계산된 6명의 비만도로 구성된 리스트를 생성하라.\n",
    "체질량지수(bmi)는 몸무게(kg)를 키(m)의 제곱으로 나눈 값이다.\n",
    "\n",
    "$$\n",
    "\\mathrm{bmi} = \\frac{\\mathrm{몸무게}}{\\mathrm{키}^2}\n",
    "$$"
   ]
  },
  {
   "cell_type": "markdown",
   "metadata": {
    "id": "iej5sMfIVDRZ"
   },
   "source": [
    "**답**"
   ]
  },
  {
   "cell_type": "markdown",
   "metadata": {
    "id": "pZEOtCOYVDRa"
   },
   "source": [
    "6명의 키를 항목으로 갖는 리스트를 `height_list`가 가리키도록 하자.\n",
    "키 정보는 6명 각각의 정보를 담은 리스트에서 3번 인덱스 항목이기에 다음과 같이\n",
    "`for` 반복문, 인덱싱, `append()` 메서드를 이용하면\n",
    "간단하게 키의 정보만 담은 리스트를 생성할 수 있다."
   ]
  },
  {
   "cell_type": "code",
   "execution_count": 44,
   "metadata": {
    "id": "Yw4dWQT7VDRa"
   },
   "outputs": [],
   "source": [
    "heights_cm = []\n",
    "\n",
    "for person in info_list:\n",
    "    heights_cm.append(person[3])"
   ]
  },
  {
   "cell_type": "code",
   "execution_count": 45,
   "metadata": {
    "id": "Drc8PA9IVDRa",
    "outputId": "5633dc12-7929-4097-be2a-be9523854be5"
   },
   "outputs": [
    {
     "data": {
      "text/plain": [
       "[172.3, 164.6, 156.7, 187.2, 178.3, 163.5]"
      ]
     },
     "execution_count": 45,
     "metadata": {},
     "output_type": "execute_result"
    }
   ],
   "source": [
    "heights_cm"
   ]
  },
  {
   "cell_type": "markdown",
   "metadata": {
    "id": "MJQPv4hGVDRa"
   },
   "source": [
    "이제 6명의 체질량지수로 구성된 리스트를 생성할 수 있다.\n",
    "먼저 키의 단위를 미터로 변환한다.\n",
    "`round()` 함수를 이용하여 소수점 이하 셋째 짜리까지만 계산한다."
   ]
  },
  {
   "cell_type": "code",
   "execution_count": 48,
   "metadata": {
    "id": "pMadpWIIVDRa"
   },
   "outputs": [
    {
     "data": {
      "text/plain": [
       "[1.723, 1.646, 1.567, 1.872, 1.783, 1.635]"
      ]
     },
     "execution_count": 48,
     "metadata": {},
     "output_type": "execute_result"
    }
   ],
   "source": [
    "heights_m = []\n",
    "\n",
    "for num in heights_cm:\n",
    "    num_m = round(num/100, 3)\n",
    "    heights_m.append(num_m)\n",
    "\n",
    "heights_m"
   ]
  },
  {
   "cell_type": "markdown",
   "metadata": {
    "id": "mVFFGI1AVDRa"
   },
   "source": [
    "`i` 번 인덱스에 해당하는 사람의 체질량 지수는 다음과 같이 계산된다.\n",
    "\n",
    "```python\n",
    "bmi = weights[i] / (heights_m[i])**2\n",
    "```\n",
    "\n",
    "아래 코드는 체질량지수를 소수점 이하 첫째 자리까지만 계산한다."
   ]
  },
  {
   "cell_type": "code",
   "execution_count": 49,
   "metadata": {
    "id": "cM2dxxzPVDRa",
    "outputId": "bb297439-0174-4ddc-c405-0cae57cd8b57"
   },
   "outputs": [
    {
     "data": {
      "text/plain": [
       "[22.0, 19.0, 19.5, 23.2, 16.9, 33.7]"
      ]
     },
     "execution_count": 49,
     "metadata": {},
     "output_type": "execute_result"
    }
   ],
   "source": [
    "bmis = []\n",
    "\n",
    "for i in range(len(info_list)):\n",
    "    bmi = weights[i] / (heights_m[i])**2 # 체질량지수\n",
    "    bmi = round(bmi, 1)                  # 소수점 둘째 자리에서 반올림\n",
    "    bmis.append(bmi)\n",
    "\n",
    "bmis"
   ]
  },
  {
   "cell_type": "markdown",
   "metadata": {
    "id": "gaOaOgqCVDRc"
   },
   "source": [
    "**질문 4**"
   ]
  },
  {
   "cell_type": "markdown",
   "metadata": {},
   "source": [
    "`info_list`에 6명 각각의 체질량 지수를 추가하라."
   ]
  },
  {
   "cell_type": "markdown",
   "metadata": {},
   "source": [
    "**답**"
   ]
  },
  {
   "cell_type": "markdown",
   "metadata": {
    "id": "U0jWp6WAVDRa"
   },
   "source": [
    "`info_list` 변수가 가리키는 중첩 리스트에 6명 각각의 몸무게와 체질량지수 정보를 추가하기 위해\n",
    "먼저 몸무게와 체질량지수로 구성된 길이가 2인 리스트를 생성한 후에\n",
    "`extend()` 메서드를 이용하여 6명 각각의 정보를 담은 리스트를 확장한다.\n",
    "\n",
    "예를 들어, 김강현의 몸무게와 체질량지수로 구성된 리스트는 다음과 같다."
   ]
  },
  {
   "cell_type": "code",
   "execution_count": 50,
   "metadata": {
    "id": "pyV_M7OyVDRa",
    "outputId": "9726adf4-26f5-4ff5-8df6-7717b345fdeb"
   },
   "outputs": [
    {
     "data": {
      "text/plain": [
       "[65.3, 22.0]"
      ]
     },
     "execution_count": 50,
     "metadata": {},
     "output_type": "execute_result"
    }
   ],
   "source": [
    "kgh_weight_bmi = [weights[0], bmis[0]]\n",
    "kgh_weight_bmi"
   ]
  },
  {
   "cell_type": "markdown",
   "metadata": {
    "id": "OSqf2Au1VDRb"
   },
   "source": [
    "예를 들어 아래 코드는 김강현의 정보를 담은 리스트에 위 리스트를 연결하여 확장한다.\n",
    "`kgh` 변수가 가리키는 리스트를 직접 건드리지 않기 위해\n",
    "`copy()` 메서드를 이용하여 먼저 사본을 만든 다음에 리스트를 확장한다."
   ]
  },
  {
   "cell_type": "code",
   "execution_count": 51,
   "metadata": {
    "id": "VfMW25QVVDRb",
    "outputId": "817ad9ed-09f5-4264-9710-c14f2c58979c"
   },
   "outputs": [
    {
     "data": {
      "text/plain": [
       "['김강현', '010-1234-5678', 20, 172.3, '제주', 65.3, 22.0]"
      ]
     },
     "execution_count": 51,
     "metadata": {},
     "output_type": "execute_result"
    }
   ],
   "source": [
    "kgh_copy = kgh.copy()\n",
    "kgh_copy.extend(kgh_weight_bmi)\n",
    "kgh_copy"
   ]
  },
  {
   "cell_type": "markdown",
   "metadata": {
    "id": "6Gobvxt8VDRb"
   },
   "source": [
    "동일한 작업을 6명 전원에 대해 적용하려면 `info_list`의 항목을 대상으로\n",
    "`for` 반복문을 싱행한다.\n",
    "하지만 아래 방식은 곤란하다.\n",
    "\n",
    "```python\n",
    "for person in info_list:\n",
    "    ...\n",
    "```\n",
    "\n",
    "이유는 `person`이 가리키는 항목의 인덱스 정보를 알아야만 `weights`와 `bmis`에서\n",
    "해당 위치의 항목을 추출할 수 있기 때문이다.\n",
    "\n",
    "해결책으로 `range()` 함수와 인덱싱을 활용한다.\n",
    "그러면 언급된 세 개의 리스트 `info_list`, `weights`, `bmis` 모두에 대해\n",
    "동시에 인덱싱을 적용할 수 있다.\n"
   ]
  },
  {
   "cell_type": "code",
   "execution_count": 52,
   "metadata": {
    "id": "IF6PHK5sVDRb",
    "outputId": "46755ace-8f0d-46d0-9663-5371ab7870e4"
   },
   "outputs": [
    {
     "data": {
      "text/plain": [
       "[['김강현', '010-1234-5678', 20, 172.3, '제주', 65.3, 22.0],\n",
       " ['김현선', '010-3333-8888', 22, 164.6, '광주', 51.5, 19.0],\n",
       " ['남세원', '010-3456-7891', 21, 156.7, '경기', 48.0, 19.5],\n",
       " ['최흥선', '070-4321-1111', 21, 187.2, '부산', 81.4, 23.2],\n",
       " ['함중아', '010-7654-2345', 18, 178.3, '강원', 53.8, 16.9],\n",
       " ['황현', '02-9871-1234', 19, 163.5, '서울', 90.1, 33.7]]"
      ]
     },
     "execution_count": 52,
     "metadata": {},
     "output_type": "execute_result"
    }
   ],
   "source": [
    "for i in range(len(info_list)):\n",
    "    weight_bmi = [weights[i], bmis[i]] # i번째 사람의 몸무게와 체질량지수\n",
    "    info_list[i].extend(weight_bmi)    # i번째 사람의 정보 확장\n",
    "\n",
    "info_list"
   ]
  },
  {
   "cell_type": "markdown",
   "metadata": {
    "id": "2f6f49ed"
   },
   "source": [
    "## 예제"
   ]
  },
  {
   "cell_type": "markdown",
   "metadata": {
    "id": "77cfc88e"
   },
   "source": [
    "정수 나눗셈을 실행하여 몫과 나머지를 튜플로 반환하는 함수 `divide_qr()` 함수를 구현하라.\n",
    "단, 함수의 본문은 `while` 반복문을 이용해야 하며, 몫 연산자 `//` 또는 나머지 연산자 `%` 는\n",
    "절대 사용하지 않는다."
   ]
  },
  {
   "cell_type": "markdown",
   "metadata": {},
   "source": [
    "**답**"
   ]
  },
  {
   "cell_type": "code",
   "execution_count": 61,
   "metadata": {
    "colab": {
     "base_uri": "https://localhost:8080/"
    },
    "id": "e62f273e",
    "outputId": "be0245e0-0cb6-4fa0-a1e2-a2b89c316248"
   },
   "outputs": [],
   "source": [
    "def divide_qr(numerator, denomenator):\n",
    "    quotient = 0\n",
    "    while not numerator < denomenator:\n",
    "        numerator = numerator - denomenator\n",
    "        quotient += 1\n",
    "\n",
    "    return (quotient, numerator)"
   ]
  },
  {
   "cell_type": "code",
   "execution_count": 62,
   "metadata": {
    "colab": {
     "base_uri": "https://localhost:8080/"
    },
    "id": "e62f273e",
    "outputId": "be0245e0-0cb6-4fa0-a1e2-a2b89c316248"
   },
   "outputs": [],
   "source": [
    "assert divide_qr(17, 3) == (5, 2)\n",
    "assert divide_qr(28, 7) == (4, 0)\n",
    "assert divide_qr(-18, 4) == (0, -18)"
   ]
  },
  {
   "cell_type": "markdown",
   "metadata": {
    "id": "bVbUCpbqVDRy"
   },
   "source": [
    "## 예제"
   ]
  },
  {
   "cell_type": "markdown",
   "metadata": {
    "id": "52EUstX_VDRy"
   },
   "source": [
    "직사각형 모양의 바닥에 정사각형 모양의 타일을 깔아야 한다.\n",
    "타일은 온장을 그대로 사용할 수도 있고, 잘라서 일부분만 사용할 수도 있다.\n",
    "단, 잘라서 사용한 타일의 나머지는 사용하지 않는다.\n",
    "\n",
    "공간의 가로, 세로 크기, 타일의 크기를 cm 단위로 인자로 사용되었을 때\n",
    "타일을 깔 때 필요한 온장 타일과 잘라서 사용한 타일의 개수로\n",
    "이뤄진 튜플을 반환하는 함수 `tiling_tuple()`을 구현하라.\n",
    "단 공간 크기의 가로, 세로, 타일의 크기는 정수라고 가정한다.\n",
    "\n",
    "`tiling()` 함수의 매개변수는 다음과 같이 한다.\n",
    "\n",
    "- `width`: 공간의 가로 크기. 단위는 cm.\n",
    "- `height`: 공간의 세로 크기. 단위는 cm.\n",
    "- `tile_length=30`: 타일의 한 변의 크기. 단위는 cm. 기본 키워드 인자는 30."
   ]
  },
  {
   "cell_type": "code",
   "execution_count": 63,
   "metadata": {
    "id": "AidULkfeVDRy"
   },
   "outputs": [],
   "source": [
    "def tiling_tuple(width, height, tile_length=30):\n",
    "    num_full_width = width // tile_length\n",
    "    num_full_height = height // tile_length\n",
    "\n",
    "    num_full = num_full_width * num_full_height\n",
    "\n",
    "    if width % tile_length == 0:\n",
    "        num_part_height = 0\n",
    "        if height % tile_length == 0:\n",
    "            num_part = 0\n",
    "        else:\n",
    "            num_part = num_full_width\n",
    "\n",
    "    else:\n",
    "        if height % tile_length == 0:\n",
    "            num_part = num_full_height\n",
    "        else:\n",
    "            num_part = num_full_width + num_full_height + 1\n",
    "\n",
    "    return num_full, num_part"
   ]
  },
  {
   "cell_type": "code",
   "execution_count": 64,
   "metadata": {
    "id": "GPOAmBpIVDRy",
    "outputId": "e5ed8166-9c6f-43a9-ccca-8ca1d3b19b4a"
   },
   "outputs": [
    {
     "data": {
      "text/plain": [
       "(169, 27)"
      ]
     },
     "execution_count": 64,
     "metadata": {},
     "output_type": "execute_result"
    }
   ],
   "source": [
    "tiling_tuple(400, 400)"
   ]
  },
  {
   "cell_type": "code",
   "execution_count": 65,
   "metadata": {
    "id": "l3emtgDYVDRy",
    "outputId": "c50bfec3-7ffd-49da-be0d-35fb63a2f976"
   },
   "outputs": [
    {
     "data": {
      "text/plain": [
       "(121, 23)"
      ]
     },
     "execution_count": 65,
     "metadata": {},
     "output_type": "execute_result"
    }
   ],
   "source": [
    "tiling_tuple(400, 400, 35)"
   ]
  }
 ],
 "metadata": {
  "colab": {
   "provenance": [
    {
     "file_id": "https://github.com/codingalzi/pybook/blob/master/examples/examples-lists_tuples.ipynb",
     "timestamp": 1714435671204
    }
   ]
  },
  "kernelspec": {
   "display_name": "Python 3 (ipykernel)",
   "language": "python",
   "name": "python3"
  },
  "language_info": {
   "codemirror_mode": {
    "name": "ipython",
    "version": 3
   },
   "file_extension": ".py",
   "mimetype": "text/x-python",
   "name": "python",
   "nbconvert_exporter": "python",
   "pygments_lexer": "ipython3",
   "version": "3.11.5"
  }
 },
 "nbformat": 4,
 "nbformat_minor": 1
}
