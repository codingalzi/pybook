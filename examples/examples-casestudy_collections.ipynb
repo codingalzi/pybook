{
 "cells": [
  {
   "cell_type": "markdown",
   "id": "bd286fa2",
   "metadata": {},
   "source": [
    "# (필수 예제) 사례 연구: 이터러블, 이터레이터, 제너레이터"
   ]
  },
  {
   "cell_type": "markdown",
   "id": "f8d9a601",
   "metadata": {},
   "source": [
    "**문제 1**"
   ]
  },
  {
   "cell_type": "markdown",
   "id": "7953bb77",
   "metadata": {},
   "source": [
    "`range()` 함수와 동일하게 작동하는 `generate_range()` 제너레이터 함수를 구현하라."
   ]
  },
  {
   "cell_type": "code",
   "execution_count": 1,
   "id": "a2123620",
   "metadata": {},
   "outputs": [],
   "source": [
    "# pass 를 적절한 명령문으로 대체하라.\n",
    "# 단 일반함수가 아닌 제너레이터로 정의해야 한다.\n",
    "# 즉, return 이 아닌 yield 키워드가 사용되어야 한다.\n",
    "\n",
    "def generate_range(end):\n",
    "    pass"
   ]
  },
  {
   "cell_type": "code",
   "execution_count": 2,
   "id": "34ed814f",
   "metadata": {},
   "outputs": [],
   "source": [
    "# assert list(generate_range(5)) == list(range(5))"
   ]
  },
  {
   "cell_type": "markdown",
   "id": "b9e0a518",
   "metadata": {},
   "source": [
    "**문제 2**"
   ]
  },
  {
   "cell_type": "markdown",
   "id": "6f755364",
   "metadata": {},
   "source": [
    "이번엔 인자를 두 개 사용해도 \n",
    "`range()` 함수와 동일하게 작동하는 `generate_range()` 제너레이터 함수를 구현하라."
   ]
  },
  {
   "cell_type": "code",
   "execution_count": 3,
   "id": "43de1389",
   "metadata": {},
   "outputs": [],
   "source": [
    "# pass 를 적절한 명령문으로 대체하라.\n",
    "# 단 일반함수가 아닌 제너레이터로 정의해야 한다.\n",
    "# 즉, return 이 아닌 yield 키워드가 사용되어야 한다.\n",
    "\n",
    "def generate_range(start):\n",
    "    pass"
   ]
  },
  {
   "cell_type": "code",
   "execution_count": 4,
   "id": "9b9ff5f3",
   "metadata": {},
   "outputs": [],
   "source": [
    "# assert list(generate_range(1, 5)) == list(range(1, 5))"
   ]
  },
  {
   "cell_type": "markdown",
   "id": "af6cb744",
   "metadata": {},
   "source": [
    "**문제 3**"
   ]
  },
  {
   "cell_type": "markdown",
   "id": "26c5c311",
   "metadata": {},
   "source": [
    "이번엔 인자를 세 개 사용해도 \n",
    "`range()` 함수와 동일하게 작동하는 `generate_range()` 제너레이터 함수를 구현하라."
   ]
  },
  {
   "cell_type": "code",
   "execution_count": 5,
   "id": "2749d14f",
   "metadata": {},
   "outputs": [],
   "source": [
    "# pass 를 적절한 명령문으로 대체하라.\n",
    "# 단 일반함수가 아닌 제너레이터로 정의해야 한다.\n",
    "# 즉, return 이 아닌 yield 키워드가 사용되어야 한다.\n",
    "\n",
    "def generate_range(start, end, step):\n",
    "    pass"
   ]
  },
  {
   "cell_type": "code",
   "execution_count": 6,
   "id": "f9a9ed68",
   "metadata": {},
   "outputs": [],
   "source": [
    "# assert list(generate_range(1, 5, 2)) == list(range(1, 5, 2))"
   ]
  },
  {
   "cell_type": "markdown",
   "id": "23c06900",
   "metadata": {},
   "source": [
    "**문제 4**"
   ]
  },
  {
   "cell_type": "markdown",
   "id": "cd2945f4",
   "metadata": {},
   "source": [
    "임의로 중첩된 리스트를 풀어헤쳐 중첩이 없는 리스트를 생성하는\n",
    "`flatten()` 함수를 제너레이터 함수를 이용하여 구현하라.\n",
    "단, 재귀를 이용할 수 있다.\n",
    "\n",
    "참고: [stackoverflow: 임의로 중첩된 리스트 납작하게 만들기](https://stackoverflow.com/questions/10823877/what-is-the-fastest-way-to-flatten-arbitrarily-nested-lists-in-python)"
   ]
  },
  {
   "cell_type": "code",
   "execution_count": 7,
   "id": "e8f1257d",
   "metadata": {},
   "outputs": [],
   "source": [
    "# pass 를 적절한 명령문으로 대체하라.\n",
    "# 단 일반함수가 아닌 제너레이터로 정의해야 한다.\n",
    "# 즉, return 이 아닌 yield 키워드가 사용되어야 한다.\n",
    "\n",
    "def flatten(container):\n",
    "    pass"
   ]
  },
  {
   "cell_type": "code",
   "execution_count": 8,
   "id": "8bdf8d32",
   "metadata": {},
   "outputs": [],
   "source": [
    "nests = [1, 2, [3, 4, [5],['hi']], [6, [[[7, 'hello']]]]]\n",
    "\n",
    "# assert list(flatten(nests)) == [1, 2, 3, 4, 5, 'hi', 6, 7, 'hello']"
   ]
  },
  {
   "cell_type": "markdown",
   "id": "d1df8fdd",
   "metadata": {},
   "source": [
    "**문제 5**"
   ]
  },
  {
   "cell_type": "markdown",
   "id": "c34a9353",
   "metadata": {},
   "source": [
    "다음 라이브니츠 공식<font size='2'>Leibniz formula</font>을 이용하여 \n",
    "원주율 PI를 소수점 이하 다섯째 자리까지 구하라. \n",
    "단, 제너레이터 함수를 이용한다.\n",
    "\n",
    "$$\n",
    "\\pi = 4 \\sum_{i=1}^{\\infty} \\frac{(-1)^{n+1}}{2n-1}\n",
    "$$\n",
    "\n",
    "또한 소수점 5째 자리까지 구하기 위해 필요한 $i$ 의 최소값을 알아내야 한다."
   ]
  },
  {
   "cell_type": "code",
   "execution_count": null,
   "id": "fb67341b",
   "metadata": {},
   "outputs": [],
   "source": []
  },
  {
   "cell_type": "markdown",
   "id": "062c3eb9",
   "metadata": {
    "id": "062c3eb9"
   },
   "source": [
    "**문제 15**"
   ]
  },
  {
   "cell_type": "markdown",
   "id": "51a9964c",
   "metadata": {
    "id": "51a9964c"
   },
   "source": [
    "리스트가 주어졌을 때 각 항목의 제곱들의 합을 계산하는 함수 `square_sum()` 함수를 구현하라.\n",
    "단, `map()` 함수를 이용해야 하며,\n",
    "`square_sum()` 함수의 정의에 사용되는 지역 함수 이외의 함수를 정의할 수 없다.\n",
    "\n",
    "힌트: `sum()` 과 `list()` 함수를 활용. 지역 함수 활용."
   ]
  },
  {
   "cell_type": "code",
   "execution_count": null,
   "id": "55fc26c2",
   "metadata": {
    "id": "55fc26c2"
   },
   "outputs": [],
   "source": [
    "# pass 와 None 을 적절한 명령문과 표현식으로 대체하라.\n",
    "# square_sum() 함수의 본문에는 지역 함수를 정의할 수 있다.\n",
    "\n",
    "def square_sum(aList):\n",
    "  return sum(list(map(lambda x : x ** 2, aList)))\n",
    "assert square_sum([2, 3]) == 13\n",
    "assert square_sum([3, 5, 7]) == 83 "
   ]
  },
  {
   "cell_type": "code",
   "execution_count": null,
   "id": "f939c6c2",
   "metadata": {
    "id": "f939c6c2"
   },
   "outputs": [],
   "source": [
    "# 아래 코드의 주석 기호를 제거하고 실행했을 때 오류가 발생하지 않아야 함.\n",
    "\n",
    "# assert square_sum([2, 3]) == 13\n",
    "# assert square_sum([3, 5, 7]) == 83"
   ]
  },
  {
   "cell_type": "markdown",
   "id": "8acb8ffb",
   "metadata": {
    "id": "8acb8ffb"
   },
   "source": [
    "**문제 16**"
   ]
  },
  {
   "cell_type": "markdown",
   "id": "ee1282c3",
   "metadata": {
    "id": "ee1282c3"
   },
   "source": [
    "주어진 리스트에서 양수만 모아 새로운 리스트를 생성하여 반환하는 함수 `positive_list()`를 구현하라.\n",
    "단, `filter()` 함수를 활용하며,\n",
    "`positive_list()` 함수의 정의에 사용되는 지역 함수 이외의 함수를 정의할 수 없다.\n",
    "\n",
    "힌트: 지역 함수 활용"
   ]
  },
  {
   "cell_type": "code",
   "execution_count": null,
   "id": "f6d909fd",
   "metadata": {
    "id": "f6d909fd"
   },
   "outputs": [],
   "source": [
    "# pass 와 None 을 적절한 명령문과 표현식으로 대체하라.\n",
    "# positive_list() 함수의 본문에는 지역 함수를 정의할 수 있다.\n",
    "\n",
    "def positive_list(aList):\n",
    "  return list(filter(lambda x : x>0, aList))\n",
    "  \n",
    "assert positive_list([-1, 1, 2, -2, 3, -3]) == [1, 2, 3]\n",
    "assert positive_list([-17, 5, 22, -100]) == [5, 22]   "
   ]
  },
  {
   "cell_type": "code",
   "execution_count": null,
   "id": "ac88b5c8",
   "metadata": {
    "id": "ac88b5c8"
   },
   "outputs": [],
   "source": [
    "# 아래 코드의 주석 기호를 제거하고 실행했을 때 오류가 발생하지 않아야 함.\n",
    "\n",
    "# assert positive_list([-1, 1, 2, -2, 3, -3]) == [1, 2, 3]\n",
    "# assert positive_list([-17, 5, 22, -100]) == [5, 22]"
   ]
  },
  {
   "cell_type": "code",
   "execution_count": null,
   "id": "9771631b",
   "metadata": {},
   "outputs": [],
   "source": []
  }
 ],
 "metadata": {
  "kernelspec": {
   "display_name": "Python 3 (ipykernel)",
   "language": "python",
   "name": "python3"
  },
  "language_info": {
   "codemirror_mode": {
    "name": "ipython",
    "version": 3
   },
   "file_extension": ".py",
   "mimetype": "text/x-python",
   "name": "python",
   "nbconvert_exporter": "python",
   "pygments_lexer": "ipython3",
   "version": "3.11.4"
  }
 },
 "nbformat": 4,
 "nbformat_minor": 5
}
