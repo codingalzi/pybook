{
 "cells": [
  {
   "cell_type": "markdown",
   "metadata": {
    "id": "MuuHWFCw16-o"
   },
   "source": [
    "# (실습) 모듈"
   ]
  },
  {
   "cell_type": "markdown",
   "metadata": {
    "id": "V8qqHXrd16-v"
   },
   "source": [
    "참고: [(실습) 파일](http://localhost:8888/notebooks/pybook/practices/practice-files.ipynb)에 있는 연습문제를 먼저 해결해야 한다."
   ]
  },
  {
   "cell_type": "markdown",
   "metadata": {
    "id": "QIKuIPDA16-w"
   },
   "source": [
    "**기본 설정**"
   ]
  },
  {
   "cell_type": "markdown",
   "metadata": {
    "id": "PvcBa5dx16-w"
   },
   "source": [
    "필요한 모듈 불러오기"
   ]
  },
  {
   "cell_type": "code",
   "execution_count": null,
   "metadata": {
    "id": "e_g396o916-x"
   },
   "outputs": [],
   "source": [
    "from pathlib import Path\n",
    "from urllib.request import urlretrieve"
   ]
  },
  {
   "cell_type": "markdown",
   "metadata": {
    "id": "9RIAlL5y16-z"
   },
   "source": [
    "데이터 텍스트 파일 서버 주소"
   ]
  },
  {
   "cell_type": "code",
   "execution_count": null,
   "metadata": {
    "id": "SyVB7sbH16-z"
   },
   "outputs": [],
   "source": []
  },
  {
   "cell_type": "markdown",
   "metadata": {
    "id": "ik4xhvXy16-0"
   },
   "source": [
    "다운로드 경로: 현재 작업 디렉토리의 `data` 하위 디렉토리"
   ]
  },
  {
   "cell_type": "code",
   "execution_count": null,
   "metadata": {
    "id": "0jB3n39V16-1"
   },
   "outputs": [],
   "source": [
    "# 데이터 저장위치 지정과 생성\n",
    "data_path = Path() / \"data\"\n",
    "data_path.mkdir(parents=True, exist_ok=True)"
   ]
  },
  {
   "cell_type": "code",
   "execution_count": null,
   "metadata": {
    "id": "y4lojdcn16-2"
   },
   "outputs": [],
   "source": [
    "# 코드 파일 저장위치 지정과 생성\n",
    "code_path = Path() / \"codes\"\n",
    "code_path.mkdir(parents=True, exist_ok=True)"
   ]
  },
  {
   "cell_type": "code",
   "execution_count": null,
   "metadata": {
    "id": "q_t_jDe_V-NO"
   },
   "outputs": [],
   "source": [
    "target_path_price = code_path / \"price.py\""
   ]
  },
  {
   "cell_type": "markdown",
   "metadata": {
    "id": "M3XgSA3716-3"
   },
   "source": [
    "파일 서버에서 지정된 파일을 동일한 파일명으로 지정된 디렉토리에 저장하는 함수"
   ]
  },
  {
   "cell_type": "code",
   "execution_count": null,
   "metadata": {
    "id": "I_huXexA16-4"
   },
   "outputs": [],
   "source": [
    "def myWget(path, filename):\n",
    "    if filename == \"price.py\" or filename == \"__init__.py\":\n",
    "      base_url = \"https://raw.githubusercontent.com/chang-hee-Lee/chang-go/main/\"\n",
    "    elif filename == \"shopA.txt\" or filename == \"shopB.txt\":\n",
    "      base_url = \"https://raw.githubusercontent.com/codingalzi/pybook/master/jupyter-book/data/\"\n",
    "      pass  \n",
    "    # 다운로드 대상 파일 경로\n",
    "    file_url = base_url + filename\n",
    "\n",
    "    # 저장 경로와 파일명\n",
    "    target_path = path / filename\n",
    "\n",
    "    return urlretrieve(file_url, target_path)"
   ]
  },
  {
   "cell_type": "markdown",
   "metadata": {
    "id": "gSF_tBKvfg9V"
   },
   "source": [
    "`shopA.txt`, `shopB.txt` 두 파일은 각각 쇼핑몰A와 쇼핑몰B에서 판매하는 상품의 가격을 담고 있다.\n",
    "먼저 해당 파일을 다운로드 한다.\n",
    "다운로드 경로는 현재 작업 디렉토리의 `data` 하위 디렉토리이다. "
   ]
  },
  {
   "cell_type": "code",
   "execution_count": null,
   "metadata": {
    "colab": {
     "base_uri": "https://localhost:8080/"
    },
    "id": "A3ZCZltR16-5",
    "outputId": "4425a742-609c-4841-b1f5-60af2765e7c1"
   },
   "outputs": [
    {
     "data": {
      "text/plain": [
       "(PosixPath('data/shopA.txt'), <http.client.HTTPMessage at 0x7f9487d6b150>)"
      ]
     },
     "execution_count": 20,
     "metadata": {},
     "output_type": "execute_result"
    }
   ],
   "source": [
    "myWget(data_path, \"shopA.txt\")"
   ]
  },
  {
   "cell_type": "code",
   "execution_count": null,
   "metadata": {
    "colab": {
     "base_uri": "https://localhost:8080/"
    },
    "id": "Z0JkQsHj16-6",
    "outputId": "85c3bb16-5827-43b3-cb1b-f7b8157e8e6e"
   },
   "outputs": [
    {
     "data": {
      "text/plain": [
       "(PosixPath('data/shopB.txt'), <http.client.HTTPMessage at 0x7f9487dbbdd0>)"
      ]
     },
     "execution_count": 21,
     "metadata": {},
     "output_type": "execute_result"
    }
   ],
   "source": [
    "myWget(data_path, \"shopB.txt\")"
   ]
  },
  {
   "cell_type": "code",
   "execution_count": null,
   "metadata": {
    "colab": {
     "base_uri": "https://localhost:8080/"
    },
    "id": "bHtrvo388ccJ",
    "outputId": "aed2d7da-1684-4bdf-ffd6-beb8fff5d296"
   },
   "outputs": [
    {
     "name": "stdout",
     "output_type": "stream",
     "text": [
      "#쇼핑몰 A\n",
      "\n",
      "우유 2540원\n",
      "계란 7480원\n",
      "생수 980원\n",
      "짜장라면 3220원\n",
      "두부 1450원\n",
      "콩나물 1680원\n",
      "김 5480원\n",
      "닭고기 5980원\n",
      "식빵 2480원\n",
      "바나나 4980원\n",
      "오렌지 990원\n",
      "카레 2480원\n",
      "만두 6980원\n",
      "어묵 7980원\n",
      "참치 11880원\n",
      "김치 7980원\n",
      "간장 10800원\n"
     ]
    }
   ],
   "source": [
    "with open(\"./data/shopA.txt\", mode='r', encoding='utf-8') as f:\n",
    "    lines = f.read()\n",
    "x = lines.replace(\"오레ㄴ지\", \"오렌지\")\n",
    "with open(\"./data/shopA.txt\",'w') as f:\n",
    "      for i in x:\n",
    "         f.write(i)\n",
    "with open(\"./data/shopA.txt\") as f:\n",
    "  for line in f:\n",
    "    print(line.strip())             "
   ]
  },
  {
   "cell_type": "code",
   "execution_count": null,
   "metadata": {
    "colab": {
     "base_uri": "https://localhost:8080/"
    },
    "id": "8YnkvBg09Ax7",
    "outputId": "8c929d85-e51c-4171-87a1-531908c67d33"
   },
   "outputs": [
    {
     "name": "stdout",
     "output_type": "stream",
     "text": [
      "#쇼핑몰 B\n",
      "\n",
      "우유 2270원\n",
      "계란 7520원\n",
      "생수 1010원\n",
      "짜장라면 3210원\n",
      "두부 1150원\n",
      "콩나물 1980원\n",
      "김 5290원\n",
      "닭고기 6000원\n",
      "식빵 1990원\n",
      "바나나 4990원\n",
      "오렌지 1050원\n",
      "카레 2400원\n",
      "만두 7400원\n",
      "어묵 6980원\n",
      "참치 11580원\n",
      "김치 8480원\n",
      "간장 9900원\n"
     ]
    }
   ],
   "source": [
    "with open(\"./data/shopB.txt\") as f:\n",
    "  for i in f:\n",
    "    print(i.strip())"
   ]
  },
  {
   "cell_type": "markdown",
   "metadata": {
    "id": "g9soMU3J16-6"
   },
   "source": [
    "**문제 1**"
   ]
  },
  {
   "cell_type": "markdown",
   "metadata": {
    "id": "s3R11Qml16-7"
   },
   "source": [
    "[(실습) 파일](http://localhost:8888/notebooks/pybook/practices/practice-files.ipynb)에서 \n",
    "구현한 `shopping()`, `item_price()` 두 함수를 포함한 \n",
    "`price.py` 모듈을 `code_path` 경로의 디렉토리에 생성하여 저장하라.\n",
    "\n",
    "주의사항: 구글 코랩에서 파이썬 코드 파일을 직접 작성하기는 간단하지 않다.\n",
    "대신에 자신의 구글 드라이브, 깃허브에 먼저 `price.py` 파일을 저장해 놓은 상태에서\n",
    "`myWget()` 함수를 이용하도록 한다.\n",
    "이때 `base_url` 값을 다르게 지정하거나 `myWget()` 함수가 다른 서버 주소를 이용하도록 수정해야 한다."
   ]
  },
  {
   "cell_type": "code",
   "execution_count": null,
   "metadata": {
    "colab": {
     "base_uri": "https://localhost:8080/"
    },
    "id": "QZTlF8QngcCc",
    "outputId": "0b45aa11-534f-4f28-ea1d-7f0be35ee3c6"
   },
   "outputs": [
    {
     "data": {
      "text/plain": [
       "(PosixPath('codes/price.py'), <http.client.HTTPMessage at 0x7f948e4ee310>)"
      ]
     },
     "execution_count": 22,
     "metadata": {},
     "output_type": "execute_result"
    }
   ],
   "source": [
    "myWget(code_path, \"price.py\")"
   ]
  },
  {
   "cell_type": "code",
   "execution_count": null,
   "metadata": {
    "colab": {
     "base_uri": "https://localhost:8080/"
    },
    "id": "va2Lab9pqVa0",
    "outputId": "1d5e2b50-8bcb-4ed5-b4a4-4fa5a062836d"
   },
   "outputs": [
    {
     "data": {
      "text/plain": [
       "(PosixPath('codes/__init__.py'), <http.client.HTTPMessage at 0x7f9487dbf290>)"
      ]
     },
     "execution_count": 23,
     "metadata": {},
     "output_type": "execute_result"
    }
   ],
   "source": [
    "myWget(code_path, \"__init__.py\")"
   ]
  },
  {
   "cell_type": "code",
   "execution_count": null,
   "metadata": {
    "colab": {
     "base_uri": "https://localhost:8080/"
    },
    "id": "X46z-7rK16-7",
    "outputId": "a9fe51dc-e409-4f88-bea0-72147dbb7c90"
   },
   "outputs": [
    {
     "name": "stdout",
     "output_type": "stream",
     "text": [
      "# shopping() 함수\n",
      "\n",
      "import re\n",
      "\n",
      "\n",
      "\n",
      "def shopping(shop_file):\n",
      "\n",
      "  \n",
      "\n",
      "  with open(\"./data/\" + shop_file , mode = 'r', encoding = 'utf-8') as f:\n",
      "\n",
      "    lines = f.readlines()\n",
      "\n",
      "    shop_dict = {}\n",
      "\n",
      "    for line in lines:\n",
      "\n",
      "      xx = line.strip()\n",
      "\n",
      "      if xx == '':\n",
      "\n",
      "        continue\n",
      "\n",
      "      name, cost = xx.split()\n",
      "\n",
      "      if  cost != 'A' and cost != 'B':\n",
      "\n",
      "        shop_dict[name] = cost  \n",
      "\n",
      "  \n",
      "\n",
      "  R_shop = shop_dict.values()\n",
      "\n",
      "  D = str(R_shop).replace('원', '')\n",
      "\n",
      "  D = D.replace('dict_values', '')\n",
      "\n",
      "  D = re.sub('[-=+,#/\\?:^$.@*\\\"※~&%ㆍ!』\\\\‘|\\(\\)\\[\\]\\<\\>`\\'…》]', '', D)\n",
      "\n",
      "  D = D.split()\n",
      "\n",
      "  \n",
      "\n",
      "  return dict(zip(shop_dict.keys(), D))\n",
      "\n",
      "      \n",
      "\n",
      "# item_price() 함수\n",
      "\n",
      "\n",
      "\n",
      "def item_price(shop_file, item):\n",
      "\n",
      "    \n",
      "\n",
      "  with open(\"./data/\" + shop_file , mode = 'r', encoding = 'utf-8') as f:\n",
      "\n",
      "    lines = f.readlines()\n",
      "\n",
      "    shop_dict = {}\n",
      "\n",
      "    for line in lines:\n",
      "\n",
      "      xx = line.strip()\n",
      "\n",
      "      if xx == '':\n",
      "\n",
      "        continue\n",
      "\n",
      "      name, cost = xx.split()\n",
      "\n",
      "      if cost != 'A':\n",
      "\n",
      "        shop_dict[name] = cost \n",
      "\n",
      "\n",
      "\n",
      "  R_shop = shop_dict.values()\n",
      "\n",
      "  D = str(R_shop).replace('원', '')\n",
      "\n",
      "  D = D.replace('dict_values', '')\n",
      "\n",
      "  D = re.sub('[-=+,#/\\?:^$.@*\\\"※~&%ㆍ!』\\\\‘|\\(\\)\\[\\]\\<\\>`\\'…》]', '',D)\n",
      "\n",
      "  D = D.split()\n",
      "\n",
      "  return dict(zip(shop_dict.keys(), D))[item], '원'\n",
      "\n",
      "\n",
      "\n",
      "\"HELLO\"\n",
      "\n"
     ]
    }
   ],
   "source": [
    "# 코드를 작성하라.\n",
    "\n",
    "with open(\"./codes/price.py\") as f:\n",
    "  for line in f:\n",
    "    print(line)"
   ]
  },
  {
   "cell_type": "code",
   "execution_count": null,
   "metadata": {
    "colab": {
     "base_uri": "https://localhost:8080/"
    },
    "id": "2kjGIr0Kriw9",
    "outputId": "3635eb4f-8f66-4cd2-d998-7493a7fb1198"
   },
   "outputs": [
    {
     "data": {
      "text/plain": [
       "['',\n",
       " '/content',\n",
       " '/env/python',\n",
       " '/usr/lib/python37.zip',\n",
       " '/usr/lib/python3.7',\n",
       " '/usr/lib/python3.7/lib-dynload',\n",
       " '/usr/local/lib/python3.7/dist-packages',\n",
       " '/usr/lib/python3/dist-packages',\n",
       " '/usr/local/lib/python3.7/dist-packages/IPython/extensions',\n",
       " '/root/.ipython',\n",
       " '/content/codes',\n",
       " '/content/codes']"
      ]
     },
     "execution_count": 25,
     "metadata": {},
     "output_type": "execute_result"
    }
   ],
   "source": [
    "import sys\n",
    "code_path.absolute()\n",
    "sys.path.append(str(code_path.absolute()))\n",
    "sys.path"
   ]
  },
  {
   "cell_type": "code",
   "execution_count": null,
   "metadata": {
    "id": "EWPebFnWzfe2"
   },
   "outputs": [],
   "source": [
    "import price"
   ]
  },
  {
   "cell_type": "markdown",
   "metadata": {
    "id": "EQd0omWt16-7"
   },
   "source": [
    "**문제 2**"
   ]
  },
  {
   "cell_type": "markdown",
   "metadata": {
    "id": "2zwOIWJH16-8"
   },
   "source": [
    "[(실습) 파일](http://localhost:8888/notebooks/pybook/practices/practice-files.ipynb)에서 \n",
    "구현한 `price_comparison()`를 새로 구현하라. \n",
    "단, 앞서 저장한 `price.py` 모듈을 활용한다."
   ]
  },
  {
   "cell_type": "code",
   "execution_count": null,
   "metadata": {
    "colab": {
     "base_uri": "https://localhost:8080/"
    },
    "id": "6AF2KPK416-8",
    "outputId": "1da6b172-53df-44af-b1ed-9053e820a37e"
   },
   "outputs": [
    {
     "name": "stdout",
     "output_type": "stream",
     "text": [
      "('shopA', 500)\n"
     ]
    }
   ],
   "source": [
    "# 아래 주석을 제거한 다음에 코드를 완성하라.\n",
    "\n",
    "import price\n",
    "\n",
    "def price_comparison(item):\n",
    "    \n",
    "    if int(price.shopping(\"shopA.txt\")[item]) > int(price.shopping(\"shopB.txt\")[item]):\n",
    "      return \"shopB\", int(price.shopping(\"shopA.txt\")[item]) - int(price.shopping(\"shopB.txt\")[item])\n",
    "    elif int(price.shopping(\"shopA.txt\")[item]) < int(price.shopping(\"shopB.txt\")[item]):\n",
    "      return \"shopA\", int(price.shopping(\"shopB.txt\")[item]) - int(price.shopping(\"shopA.txt\")[item])\n",
    "\n",
    "      \n",
    "    \n",
    "print(price_comparison('김치'))"
   ]
  },
  {
   "cell_type": "code",
   "execution_count": null,
   "metadata": {
    "colab": {
     "base_uri": "https://localhost:8080/"
    },
    "id": "7w-xMafB16-8",
    "outputId": "9913582b-57af-4024-b3f9-7714e3a96d58"
   },
   "outputs": [
    {
     "name": "stdout",
     "output_type": "stream",
     "text": [
      "('shopA', 500)\n"
     ]
    }
   ],
   "source": [
    "print(price_comparison('김치'))"
   ]
  },
  {
   "cell_type": "code",
   "execution_count": null,
   "metadata": {
    "colab": {
     "base_uri": "https://localhost:8080/"
    },
    "id": "uClpUuXG7TXD",
    "outputId": "70c2b116-3e40-4552-e889-375c0aea114f"
   },
   "outputs": [
    {
     "name": "stdout",
     "output_type": "stream",
     "text": [
      "('shopA', 10)\n"
     ]
    }
   ],
   "source": [
    "print(price_comparison('바나나'))"
   ]
  },
  {
   "cell_type": "code",
   "execution_count": null,
   "metadata": {
    "colab": {
     "base_uri": "https://localhost:8080/"
    },
    "id": "zYJ1zTCh7kHL",
    "outputId": "e2ce443c-f50b-4796-afac-4872b5e3092f"
   },
   "outputs": [
    {
     "name": "stdout",
     "output_type": "stream",
     "text": [
      "('shopB', 190)\n"
     ]
    }
   ],
   "source": [
    "print(price_comparison('김'))"
   ]
  },
  {
   "cell_type": "code",
   "execution_count": null,
   "metadata": {
    "colab": {
     "base_uri": "https://localhost:8080/"
    },
    "id": "Qr5wot1-77p9",
    "outputId": "47839879-c522-4dcf-fd5b-a2bbb4b50b51"
   },
   "outputs": [
    {
     "name": "stdout",
     "output_type": "stream",
     "text": [
      "('shopA', 60)\n"
     ]
    }
   ],
   "source": [
    "print(price_comparison('오렌지'))"
   ]
  },
  {
   "cell_type": "code",
   "execution_count": null,
   "metadata": {
    "colab": {
     "base_uri": "https://localhost:8080/"
    },
    "id": "elRV75cy-r4Y",
    "outputId": "c2952816-4f7e-4de0-d95f-e7f3bdafb6e7"
   },
   "outputs": [
    {
     "name": "stdout",
     "output_type": "stream",
     "text": [
      "('shopA', 30)\n"
     ]
    }
   ],
   "source": [
    "print(price_comparison('생수'))"
   ]
  }
 ],
 "metadata": {
  "colab": {
   "provenance": []
  },
  "kernelspec": {
   "display_name": "Python 3 (ipykernel)",
   "language": "python",
   "name": "python3"
  },
  "language_info": {
   "codemirror_mode": {
    "name": "ipython",
    "version": 3
   },
   "file_extension": ".py",
   "mimetype": "text/x-python",
   "name": "python",
   "nbconvert_exporter": "python",
   "pygments_lexer": "ipython3",
   "version": "3.11.4"
  }
 },
 "nbformat": 4,
 "nbformat_minor": 1
}
