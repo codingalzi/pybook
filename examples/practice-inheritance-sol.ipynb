{
 "cells": [
  {
   "cell_type": "markdown",
   "id": "f8ef5e23",
   "metadata": {},
   "source": [
    "# (실습) 상속"
   ]
  },
  {
   "cell_type": "markdown",
   "id": "c1f35814",
   "metadata": {},
   "source": [
    "**Vector 클래스 관련**"
   ]
  },
  {
   "cell_type": "markdown",
   "id": "f6c5fad8",
   "metadata": {},
   "source": [
    "[상속](https://codingalzi.github.io/pybook/inheritance.html)에서 다룬 `Vector` 클래스를 확장하는 문제들이다."
   ]
  },
  {
   "cell_type": "code",
   "execution_count": 1,
   "id": "1b445a0f",
   "metadata": {},
   "outputs": [],
   "source": [
    "# list 클래스 상속\n",
    "\n",
    "class Vector(list):\n",
    "    # Vector 클래스 생성자 재정의\n",
    "    def __init__(self, items):\n",
    "        \"\"\"\n",
    "        - list 클래스 상속\n",
    "        - items: 벡터로 사용될 리스트\n",
    "        \"\"\"\n",
    "        \n",
    "        # 부모 클래스 생성자 호출\n",
    "        super().__init__(items)\n",
    "        \n",
    "        # 속성 추가\n",
    "        self.len = self.__len__()\n",
    "            \n",
    "    # 벡터 합 메서드 재정의\n",
    "    def __add__(self, other):\n",
    "        \"\"\"\n",
    "        벡터 합\n",
    "        \"\"\"\n",
    "\n",
    "        # 벡터의 길이가 다르면 실행 오류 발생\n",
    "        if self.len != other.len:\n",
    "            raise RuntimeError(\"두 벡터의 길이가 달라요!\")\n",
    "\n",
    "        # 벡터 합 계산: 각 항목들의 합으로 이루어진 벡터\n",
    "        new_list = []\n",
    "        \n",
    "        for i in range(self.len):\n",
    "            item = self[i] + other[i]\n",
    "            new_list.append(item)\n",
    "\n",
    "        return Vector(new_list)\n",
    "\n",
    "    # append() 메서드 재정의\n",
    "    def append(self, item):\n",
    "        super().append(item)  # 부모 클래스의 append() 메서드 호출\n",
    "        self.len += 1         # 벡터 길이 1 증가\n",
    "\n",
    "    # pop() 메서드 재정의\n",
    "    def pop(self, idx=-1):\n",
    "        super().pop(idx)     # 부모 클래스의 pop() 메서드 호출\n",
    "        self.len -= 1         # 벡터 길이 1 감소\n",
    "\n",
    "    \n",
    "    # 내적 메서드\n",
    "    def dot(self, other):\n",
    "        \"\"\"\n",
    "        벡터 내적\n",
    "        \"\"\"\n",
    "\n",
    "        # 벡터의 길이가 다르면 실행 오류 발생\n",
    "        if self.len != other.len:\n",
    "            raise RuntimeError(\"두 벡터의 길이가 달라요!\")\n",
    "\n",
    "        # 내적 계산: 각 항목들의 곱의 합\n",
    "        # 리스트를 상속하기에 인덱싱 사용 가능\n",
    "        sum = 0\n",
    "        for i in range(self.len):\n",
    "            sum += self[i] * other[i]\n",
    "\n",
    "        return sum\n",
    "    \n",
    "    def __str__(self):\n",
    "        return f\"Vector({list(self)})\"\n",
    "    \n",
    "    # 벡터와 벡터 또는 벡터와 정수의 곱 메서드 재정의\n",
    "    def __mul__(self, other):\n",
    "        # 벡터와 벡터의 곱\n",
    "        if isinstance(other, Vector):\n",
    "        # 벡터의 길이가 다르면 실행 오류 발생\n",
    "            if self.len != other.len:\n",
    "                raise RuntimeError(\"두 벡터의 길이가 달라요!\")\n",
    "\n",
    "        # 벡터와 정수의 곱: 동일한 길이의 벡터 생성\n",
    "        if isinstance(other, int):\n",
    "            other = Vector([other] * self.len)\n",
    "        \n",
    "        # 벡터 곱 계산: 각 항목들의 곱으로 이루어진 벡터\n",
    "        new_list = []\n",
    "        \n",
    "        for i in range(self.len):\n",
    "            item = self[i] * other[i]\n",
    "            new_list.append(item)\n",
    "\n",
    "        return Vector(new_list)\n",
    "    \n",
    "    # 정수와 벡터의 곱 메서드 재정의\n",
    "    def __rmul__(self, other):\n",
    "        return self.__mul__(other)\n",
    "    \n",
    "    def mean(self):\n",
    "        return sum(self) / len(self)\n",
    "    \n",
    "    def std(self):\n",
    "        m = self.mean()\n",
    "        return (sum([(x-m)**2 for x in self]) / len(self))**0.5 \n",
    "    \n",
    "\n",
    "    "
   ]
  },
  {
   "cell_type": "code",
   "execution_count": 2,
   "id": "856403e2",
   "metadata": {},
   "outputs": [],
   "source": [
    "v1 = Vector([1, 2, 3])\n",
    "v2 = Vector([4, 5, 6])"
   ]
  },
  {
   "cell_type": "markdown",
   "id": "0ddca0cb",
   "metadata": {},
   "source": [
    "**문제 1**"
   ]
  },
  {
   "cell_type": "markdown",
   "id": "6918f383",
   "metadata": {},
   "source": [
    "`__str__()` 메서드를 재정의해서 벡터를 출력할 때 아래 모양으로 출력되도록 하라.\n",
    "\n",
    "```python\n",
    ">>> print(Vector([1, 2, 3]))\n",
    "Vector([1, 2, 3])\n",
    "```"
   ]
  },
  {
   "cell_type": "code",
   "execution_count": 3,
   "id": "b8940f06",
   "metadata": {},
   "outputs": [
    {
     "name": "stdout",
     "output_type": "stream",
     "text": [
      "Vector([1, 2, 3])\n"
     ]
    }
   ],
   "source": [
    "print(v1)"
   ]
  },
  {
   "cell_type": "markdown",
   "id": "4e26d40a",
   "metadata": {},
   "source": [
    "**문제 2**"
   ]
  },
  {
   "cell_type": "markdown",
   "id": "d4892be3",
   "metadata": {},
   "source": [
    "벡터와 정수의 곱셈을 지원하도록 `__mul__()` 메서드를 `Vector` 클래스에서 \n",
    "재정의하라.\n",
    "단, 항목별로 지정된 정수를 곱한 결과로 이뤄진 벡터를 반환한다.\n",
    "\n",
    "또한 정수와 벡터의 곱셈이 동일한 방식으로 작동하도록 `__rmul__()` 메서드를 재정의하라."
   ]
  },
  {
   "cell_type": "code",
   "execution_count": 4,
   "id": "538eded9",
   "metadata": {},
   "outputs": [
    {
     "data": {
      "text/plain": [
       "[5, 10, 15]"
      ]
     },
     "execution_count": 4,
     "metadata": {},
     "output_type": "execute_result"
    }
   ],
   "source": [
    "v1 * 5"
   ]
  },
  {
   "cell_type": "code",
   "execution_count": 5,
   "id": "4564f451",
   "metadata": {},
   "outputs": [
    {
     "data": {
      "text/plain": [
       "[20, 25, 30]"
      ]
     },
     "execution_count": 5,
     "metadata": {},
     "output_type": "execute_result"
    }
   ],
   "source": [
    "5 * v2"
   ]
  },
  {
   "cell_type": "markdown",
   "id": "0f4bce44",
   "metadata": {},
   "source": [
    "**문제 3**"
   ]
  },
  {
   "cell_type": "markdown",
   "id": "20a1fac0",
   "metadata": {},
   "source": [
    "벡터와 정수의 곱셈과 함께 벡터와 벡터의 곱셈을 지원하도록 `__mul__()` 메서드를 `Vector` 클래스에서 \n",
    "재정의하라.\n",
    "단, 두 벡터의 곱은 두 벡터의 길이가 동일한 경우에만 가능하며 항목별로 곱한 값으로 이뤄진 벡터를 반환한다."
   ]
  },
  {
   "cell_type": "code",
   "execution_count": 6,
   "id": "9042053f",
   "metadata": {},
   "outputs": [
    {
     "data": {
      "text/plain": [
       "[4, 10, 18]"
      ]
     },
     "execution_count": 6,
     "metadata": {},
     "output_type": "execute_result"
    }
   ],
   "source": [
    "v1 * v2"
   ]
  },
  {
   "cell_type": "markdown",
   "id": "c8cabe34",
   "metadata": {},
   "source": [
    "**문제 4**"
   ]
  },
  {
   "cell_type": "markdown",
   "id": "dea57303",
   "metadata": {},
   "source": [
    "`Vector` 클래스에 항목들의 평균값을 반환하는\n",
    "`mean()` 메서드를 추가하라."
   ]
  },
  {
   "cell_type": "code",
   "execution_count": 7,
   "id": "beadc56d",
   "metadata": {},
   "outputs": [
    {
     "data": {
      "text/plain": [
       "2.0"
      ]
     },
     "execution_count": 7,
     "metadata": {},
     "output_type": "execute_result"
    }
   ],
   "source": [
    "v1.mean()"
   ]
  },
  {
   "cell_type": "code",
   "execution_count": 8,
   "id": "e79fd7c2",
   "metadata": {},
   "outputs": [
    {
     "data": {
      "text/plain": [
       "10.0"
      ]
     },
     "execution_count": 8,
     "metadata": {},
     "output_type": "execute_result"
    }
   ],
   "source": [
    "(v1*5).mean()"
   ]
  },
  {
   "cell_type": "code",
   "execution_count": 9,
   "id": "7d9dce71",
   "metadata": {},
   "outputs": [
    {
     "data": {
      "text/plain": [
       "5.0"
      ]
     },
     "execution_count": 9,
     "metadata": {},
     "output_type": "execute_result"
    }
   ],
   "source": [
    "v2.mean()"
   ]
  },
  {
   "cell_type": "markdown",
   "id": "f6c9af59",
   "metadata": {},
   "source": [
    "**문제 5**"
   ]
  },
  {
   "cell_type": "markdown",
   "id": "c2d3cdb9",
   "metadata": {},
   "source": [
    "`Vector` 클래스에 항목들의 표준편차를 반환하는\n",
    "`std()` 메서드를 추가하라."
   ]
  },
  {
   "cell_type": "code",
   "execution_count": 10,
   "id": "f0094a25",
   "metadata": {},
   "outputs": [
    {
     "data": {
      "text/plain": [
       "0.816496580927726"
      ]
     },
     "execution_count": 10,
     "metadata": {},
     "output_type": "execute_result"
    }
   ],
   "source": [
    "v1.std()"
   ]
  },
  {
   "cell_type": "code",
   "execution_count": 11,
   "id": "b6f48353",
   "metadata": {},
   "outputs": [
    {
     "data": {
      "text/plain": [
       "5.734883511361751"
      ]
     },
     "execution_count": 11,
     "metadata": {},
     "output_type": "execute_result"
    }
   ],
   "source": [
    "(v1 * v2).std()"
   ]
  }
 ],
 "metadata": {
  "kernelspec": {
   "display_name": "Python 3 (ipykernel)",
   "language": "python",
   "name": "python3"
  },
  "language_info": {
   "codemirror_mode": {
    "name": "ipython",
    "version": 3
   },
   "file_extension": ".py",
   "mimetype": "text/x-python",
   "name": "python",
   "nbconvert_exporter": "python",
   "pygments_lexer": "ipython3",
   "version": "3.10.9"
  }
 },
 "nbformat": 4,
 "nbformat_minor": 5
}
