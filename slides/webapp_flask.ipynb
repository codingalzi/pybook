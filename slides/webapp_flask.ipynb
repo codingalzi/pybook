{
 "cells": [
  {
   "cell_type": "markdown",
   "id": "a54dc87d",
   "metadata": {},
   "source": [
    "# (부록) 웹앱: Flask"
   ]
  },
  {
   "cell_type": "markdown",
   "id": "73bbd38f",
   "metadata": {},
   "source": [
    "## HTML"
   ]
  },
  {
   "cell_type": "markdown",
   "id": "acdb01e7",
   "metadata": {},
   "source": [
    "참고: [생활코딩 HTML](https://opentutorials.org/course/3084)"
   ]
  },
  {
   "cell_type": "markdown",
   "id": "fd0c2a8d",
   "metadata": {},
   "source": [
    "## CSS"
   ]
  },
  {
   "cell_type": "markdown",
   "id": "e92faf6b",
   "metadata": {},
   "source": [
    "참고: [생활 코딩 CSS](https://opentutorials.org/course/3086)"
   ]
  },
  {
   "cell_type": "markdown",
   "id": "36141bc7",
   "metadata": {},
   "source": [
    "## Flask"
   ]
  },
  {
   "cell_type": "markdown",
   "id": "d1078c32",
   "metadata": {},
   "source": [
    "참고: [생활코딩 Flask Web Framework](https://opentutorials.org/course/4904)"
   ]
  },
  {
   "cell_type": "markdown",
   "id": "da5b5889",
   "metadata": {},
   "source": [
    "## 연습문제"
   ]
  },
  {
   "cell_type": "markdown",
   "id": "f3727d80",
   "metadata": {},
   "source": [
    "참고 1: [(실습) 생활코딩: HTML](https://colab.research.google.com/github/codingalzi/pybook/blob/master/practices/practice-opentutorials-html.ipynb)"
   ]
  },
  {
   "cell_type": "markdown",
   "id": "71f8b4fa",
   "metadata": {},
   "source": [
    "참고 2: [(실습) 생활코딩: CSS](https://colab.research.google.com/github/codingalzi/pybook/blob/master/practices/practice-opentutorials-css.ipynb)"
   ]
  },
  {
   "cell_type": "markdown",
   "id": "4a2e2215",
   "metadata": {},
   "source": [
    "참고 3: [(실습) 생활코딩: Flask](https://colab.research.google.com/github/codingalzi/pybook/blob/master/practices/practice-opentutorials-flask.ipynb)"
   ]
  }
 ],
 "metadata": {
  "kernelspec": {
   "display_name": "Python 3 (ipykernel)",
   "language": "python",
   "name": "python3"
  },
  "language_info": {
   "codemirror_mode": {
    "name": "ipython",
    "version": 3
   },
   "file_extension": ".py",
   "mimetype": "text/x-python",
   "name": "python",
   "nbconvert_exporter": "python",
   "pygments_lexer": "ipython3",
   "version": "3.9.7"
  }
 },
 "nbformat": 4,
 "nbformat_minor": 5
}
