{
 "cells": [
  {
   "cell_type": "markdown",
   "id": "d1da4144-f1ac-4593-a623-1603d759af12",
   "metadata": {},
   "source": [
    "# 기초 자료형"
   ]
  },
  {
   "cell_type": "markdown",
   "id": "a7d11ed4-358c-46f2-a7ee-57622c6ce8a8",
   "metadata": {},
   "source": [
    "일반적으로 **자료형**으로 불리는 **자료 유형**<font size = \"2\">data type</font>은 \n",
    "사용되는 값과 관련된 많은 정보를 제공한다.\n",
    "파이썬 실행기<font size = \"2\">python interpreter</font>는\n",
    "자료형에 포함된 정보를 이용하여 주어진 값의 사용법을 확인하고 이용한다.\n",
    "이번 장에서는 파이썬 프로그래밍 언어가 제공하는 네 종류의 기초 자료형 간단히 살펴본다.\n",
    "\n",
    "* 정수\n",
    "* 부동소수점\n",
    "* 부울값\n",
    "* 문자열"
   ]
  },
  {
   "cell_type": "markdown",
   "id": "d96f5282-8c49-4e4f-9048-f12eebce419b",
   "metadata": {},
   "source": [
    "## 정수"
   ]
  },
  {
   "cell_type": "markdown",
   "id": "2d53794f-5d27-4f97-a5d1-f6faef5e9271",
   "metadata": {},
   "source": [
    "일반적으로 알고 있는 -2, -1, 0, 1, 2 등의 정수(자연수, 0, 음의 정수)는 `int` 자료형의 값이다."
   ]
  },
  {
   "cell_type": "code",
   "execution_count": 1,
   "id": "bcf0653d",
   "metadata": {},
   "outputs": [
    {
     "data": {
      "text/plain": [
       "int"
      ]
     },
     "execution_count": 1,
     "metadata": {},
     "output_type": "execute_result"
    }
   ],
   "source": [
    "type(1234)"
   ]
  },
  {
   "cell_type": "code",
   "execution_count": 2,
   "id": "9484e3b6",
   "metadata": {},
   "outputs": [
    {
     "data": {
      "text/plain": [
       "int"
      ]
     },
     "execution_count": 2,
     "metadata": {},
     "output_type": "execute_result"
    }
   ],
   "source": [
    "type(-872490)"
   ]
  },
  {
   "cell_type": "markdown",
   "id": "6bcbafa6",
   "metadata": {},
   "source": [
    "정수는 덧셈, 뺄셈, 곱셈, 나눗셈 등의 사칙연산을 포함한 다양한 연산에 사용된다. "
   ]
  },
  {
   "cell_type": "code",
   "execution_count": 3,
   "id": "8868d892",
   "metadata": {},
   "outputs": [
    {
     "name": "stdout",
     "output_type": "stream",
     "text": [
      "7331054\n"
     ]
    }
   ],
   "source": [
    "x = 1234 + 7329820\n",
    "print(x)"
   ]
  },
  {
   "cell_type": "code",
   "execution_count": 4,
   "id": "8a6e47fc",
   "metadata": {},
   "outputs": [
    {
     "name": "stdout",
     "output_type": "stream",
     "text": [
      "-7286606\n"
     ]
    }
   ],
   "source": [
    "x = 43214 - 7329820\n",
    "print(x)"
   ]
  },
  {
   "cell_type": "code",
   "execution_count": 5,
   "id": "1da310dd",
   "metadata": {},
   "outputs": [
    {
     "name": "stdout",
     "output_type": "stream",
     "text": [
      "6560357485860\n"
     ]
    }
   ],
   "source": [
    "x = 895023 * 7329820\n",
    "print(x)"
   ]
  },
  {
   "cell_type": "markdown",
   "id": "ade676fa",
   "metadata": {},
   "source": [
    "`//` 는 정수 나눗셈의 몫을 계산한다."
   ]
  },
  {
   "cell_type": "code",
   "execution_count": 6,
   "id": "d223be95",
   "metadata": {},
   "outputs": [
    {
     "name": "stdout",
     "output_type": "stream",
     "text": [
      "5939\n"
     ]
    }
   ],
   "source": [
    "x = 7329820 // 1234\n",
    "print(x)"
   ]
  },
  {
   "cell_type": "markdown",
   "id": "c0670a10",
   "metadata": {},
   "source": [
    "`%` 는 정수 나눗셈의 나머지를 계산한다."
   ]
  },
  {
   "cell_type": "code",
   "execution_count": 7,
   "id": "4e313183",
   "metadata": {},
   "outputs": [
    {
     "name": "stdout",
     "output_type": "stream",
     "text": [
      "1094\n"
     ]
    }
   ],
   "source": [
    "x = 7329820 % 1234\n",
    "print(x)"
   ]
  },
  {
   "cell_type": "markdown",
   "id": "6624460c",
   "metadata": {},
   "source": [
    "일반적인 나눗셈은 `/` 가 계산한다. 하지만 실행 결과는 정수가 아닌 부동소수점이다."
   ]
  },
  {
   "cell_type": "code",
   "execution_count": 8,
   "id": "cb4e6c2a",
   "metadata": {},
   "outputs": [
    {
     "name": "stdout",
     "output_type": "stream",
     "text": [
      "5939.886547811993\n"
     ]
    }
   ],
   "source": [
    "x = 7329820 / 1234\n",
    "print(x)"
   ]
  },
  {
   "cell_type": "markdown",
   "id": "2f65accb-e9c8-4fd7-930d-0a11ae5f186d",
   "metadata": {},
   "source": [
    "## 부동소수점"
   ]
  },
  {
   "cell_type": "markdown",
   "id": "0eda0dc5",
   "metadata": {},
   "source": [
    "**부동소수점**은 1.2, 0.333, -1.2, -3.7680, 4.0 등의 유한 소수를 가리키며 `float` 유형의 값이다."
   ]
  },
  {
   "cell_type": "code",
   "execution_count": 9,
   "id": "76e57324",
   "metadata": {},
   "outputs": [
    {
     "data": {
      "text/plain": [
       "float"
      ]
     },
     "execution_count": 9,
     "metadata": {},
     "output_type": "execute_result"
    }
   ],
   "source": [
    "type(1.2)"
   ]
  },
  {
   "cell_type": "code",
   "execution_count": 10,
   "id": "c5b28485",
   "metadata": {},
   "outputs": [
    {
     "data": {
      "text/plain": [
       "float"
      ]
     },
     "execution_count": 10,
     "metadata": {},
     "output_type": "execute_result"
    }
   ],
   "source": [
    "type(-3.7680)"
   ]
  },
  {
   "cell_type": "markdown",
   "id": "4654dfce",
   "metadata": {},
   "source": [
    "부동소수점은 원래 실수를 컴퓨터에서 다루기 위해 개발되었으나\n",
    "컴퓨터의 한계로 실제로는 유한 소수만을 다룬다.\n",
    "예를 들어 3.14, 3.141592 등으로 무리수인 원주율 $\\pi$를 소수점 이하 적당한 자리에서 끊어서 사용한다.\n",
    "소수점 이하 몇 째 자리에서 끊느냐에 따라 계산의 정밀도<font size='2'>precision</font>가 달라진다."
   ]
  },
  {
   "cell_type": "code",
   "execution_count": 11,
   "id": "1cd63777",
   "metadata": {},
   "outputs": [],
   "source": [
    "pi = 3.141592 # 원주율"
   ]
  },
  {
   "cell_type": "markdown",
   "id": "ccd85fe9",
   "metadata": {},
   "source": [
    "정수와 마찬가지로 사칙연산 등 다양한 연산을 지원한다."
   ]
  },
  {
   "cell_type": "code",
   "execution_count": 12,
   "id": "bac8e0a2",
   "metadata": {},
   "outputs": [
    {
     "data": {
      "text/plain": [
       "5.4"
      ]
     },
     "execution_count": 12,
     "metadata": {},
     "output_type": "execute_result"
    }
   ],
   "source": [
    "2.1 + 3.3"
   ]
  },
  {
   "cell_type": "markdown",
   "id": "03b16489",
   "metadata": {},
   "source": [
    "정수와의 연산도 가능한데, 이때 정수를 부동소수점으로 취급한다. \n",
    "예를 들어 3은 3.0으로 처리된다."
   ]
  },
  {
   "cell_type": "code",
   "execution_count": 13,
   "id": "f14393f9",
   "metadata": {},
   "outputs": [
    {
     "data": {
      "text/plain": [
       "5.3"
      ]
     },
     "execution_count": 13,
     "metadata": {},
     "output_type": "execute_result"
    }
   ],
   "source": [
    "2.3 + 3"
   ]
  },
  {
   "cell_type": "code",
   "execution_count": 14,
   "id": "d2663c66",
   "metadata": {},
   "outputs": [
    {
     "data": {
      "text/plain": [
       "5.3"
      ]
     },
     "execution_count": 14,
     "metadata": {},
     "output_type": "execute_result"
    }
   ],
   "source": [
    "2.3 + 3.0"
   ]
  },
  {
   "cell_type": "markdown",
   "id": "119a81bf-61bf-4253-8777-ea800667a235",
   "metadata": {
    "tags": []
   },
   "source": [
    "### 정수와 부동소수점 연산"
   ]
  },
  {
   "cell_type": "markdown",
   "id": "1c0ca5b2-fb96-4eb5-960a-4f82f83702f1",
   "metadata": {},
   "source": [
    "파이썬이 제공하는 기초 연산을 표로 정리하면 아래와 같다. "
   ]
  },
  {
   "cell_type": "markdown",
   "id": "dccba24e-042e-4e97-b383-174877cab403",
   "metadata": {},
   "source": [
    "|연산 기호|의미|예시|실행 결과|\n",
    "|:----------:|:----------:|:----------:|:--------:|\n",
    "|`+`|덧셈| `3 + 4` |`7`|\n",
    "|`-`|뺄셈| `7 - 2` | `5`|\n",
    "|`*`|곱셈| `2 * 6` | `12`|\n",
    "|`/`|나눗셈|`14 / 4`|`3.5`|\n",
    "|`**`|지수승|`2 ** 3`|`8`|\n",
    "|`//`|몫|`9 // 2`|`4`|\n",
    "|`%`|나머지|`3 % 2`|`1`|"
   ]
  },
  {
   "cell_type": "markdown",
   "id": "24953824",
   "metadata": {},
   "source": [
    "나눗셈은 항상 부동소수점을 계산한다."
   ]
  },
  {
   "cell_type": "code",
   "execution_count": 15,
   "id": "d98df96f",
   "metadata": {},
   "outputs": [
    {
     "data": {
      "text/plain": [
       "2.3333333333333335"
      ]
     },
     "execution_count": 15,
     "metadata": {},
     "output_type": "execute_result"
    }
   ],
   "source": [
    "7 / 3"
   ]
  },
  {
   "cell_type": "markdown",
   "id": "35d1dea3",
   "metadata": {},
   "source": [
    "나머지 연산은 부동소수점이 인자로 사용되면 부동소수점을,\n",
    "그렇지 않으면 정수를 계산한다. "
   ]
  },
  {
   "cell_type": "code",
   "execution_count": 16,
   "id": "69b7ebb6",
   "metadata": {},
   "outputs": [
    {
     "data": {
      "text/plain": [
       "5.0"
      ]
     },
     "execution_count": 16,
     "metadata": {},
     "output_type": "execute_result"
    }
   ],
   "source": [
    "3.0 + 2"
   ]
  },
  {
   "cell_type": "code",
   "execution_count": 17,
   "id": "a0c03149",
   "metadata": {},
   "outputs": [
    {
     "data": {
      "text/plain": [
       "8"
      ]
     },
     "execution_count": 17,
     "metadata": {},
     "output_type": "execute_result"
    }
   ],
   "source": [
    "2 ** 3"
   ]
  },
  {
   "cell_type": "code",
   "execution_count": 18,
   "id": "322de446",
   "metadata": {},
   "outputs": [
    {
     "data": {
      "text/plain": [
       "3.0"
      ]
     },
     "execution_count": 18,
     "metadata": {},
     "output_type": "execute_result"
    }
   ],
   "source": [
    "9 ** 0.5"
   ]
  },
  {
   "cell_type": "markdown",
   "id": "f0a7c597",
   "metadata": {},
   "source": [
    "몫과 나머지 연산도 동일하다. \n",
    "다만 `5.1 // 3.3`, `5.1 % 3.3` 과 같이 분모가 정수가 아닌 경우는 잘 사용되지 않는다. "
   ]
  },
  {
   "cell_type": "code",
   "execution_count": 19,
   "id": "3071fd38",
   "metadata": {},
   "outputs": [
    {
     "data": {
      "text/plain": [
       "-3"
      ]
     },
     "execution_count": 19,
     "metadata": {},
     "output_type": "execute_result"
    }
   ],
   "source": [
    "-7 // 3"
   ]
  },
  {
   "cell_type": "code",
   "execution_count": 20,
   "id": "0fc35f68",
   "metadata": {},
   "outputs": [
    {
     "data": {
      "text/plain": [
       "2"
      ]
     },
     "execution_count": 20,
     "metadata": {},
     "output_type": "execute_result"
    }
   ],
   "source": [
    "-7 % 3"
   ]
  },
  {
   "cell_type": "code",
   "execution_count": 21,
   "id": "9153e130-dada-456f-809d-dbf43d3d767b",
   "metadata": {},
   "outputs": [
    {
     "data": {
      "text/plain": [
       "-3.0"
      ]
     },
     "execution_count": 21,
     "metadata": {},
     "output_type": "execute_result"
    }
   ],
   "source": [
    "-7.0 // 3"
   ]
  },
  {
   "cell_type": "code",
   "execution_count": 22,
   "id": "b1108f2e",
   "metadata": {},
   "outputs": [
    {
     "data": {
      "text/plain": [
       "2.0"
      ]
     },
     "execution_count": 22,
     "metadata": {},
     "output_type": "execute_result"
    }
   ],
   "source": [
    "-7 % 3.0"
   ]
  },
  {
   "cell_type": "markdown",
   "id": "873dbbcf-53af-4e70-ab8e-b30a20b45fc7",
   "metadata": {},
   "source": [
    ":::{admonition} 참고 \n",
    ":class: info\n",
    "\n",
    "몫과 나머지 연산은 초등학교에서 배운 것과 동일하다.\n",
    "즉, `(a // b) * b + (a % b)` 를 계산하면 정확하게 `a` 가 된다.\n",
    "\n",
    "```python\n",
    ">>> -7 == (-7 // 3) * 3 + (-7 % 3)\n",
    "True\n",
    ":::"
   ]
  },
  {
   "cell_type": "markdown",
   "id": "ba1b2504-15f8-4d9f-b54e-c40314831398",
   "metadata": {
    "tags": []
   },
   "source": [
    "## 문자열"
   ]
  },
  {
   "cell_type": "markdown",
   "id": "2220f305",
   "metadata": {},
   "source": [
    "**문자열**<font size=\"2\">string</font>은 문자 기호로 이루어진 단어, 문구 등을 가리킨다.\n",
    "키보드에 포함된 영문 알파벳, 한글 자음과 모음 등을 기본적으로 사용한다.\n",
    "문자열은 세 가지 방식으로 작성될 수 있다."
   ]
  },
  {
   "cell_type": "markdown",
   "id": "67be17c4",
   "metadata": {},
   "source": [
    "**작은따옴표 활용**"
   ]
  },
  {
   "cell_type": "code",
   "execution_count": 23,
   "id": "12a02336",
   "metadata": {},
   "outputs": [
    {
     "name": "stdout",
     "output_type": "stream",
     "text": [
      "안녕하세요.\n"
     ]
    }
   ],
   "source": [
    "s = '안녕하세요.'\n",
    "print(s)"
   ]
  },
  {
   "cell_type": "markdown",
   "id": "a43c33b8",
   "metadata": {},
   "source": [
    "**큰따옴표 활용**"
   ]
  },
  {
   "cell_type": "code",
   "execution_count": 24,
   "id": "21861aa8",
   "metadata": {},
   "outputs": [
    {
     "name": "stdout",
     "output_type": "stream",
     "text": [
      "안녕하세요.\n"
     ]
    }
   ],
   "source": [
    "s = \"안녕하세요.\"\n",
    "print(s)"
   ]
  },
  {
   "cell_type": "markdown",
   "id": "4784fd07",
   "metadata": {},
   "source": [
    "**연속된 세 개의 작은 또는 큰따옴표 활용**\n",
    "\n",
    "여러 줄로 이루어진 문자열 작성에 사용된다."
   ]
  },
  {
   "cell_type": "code",
   "execution_count": 25,
   "id": "afeaa85d",
   "metadata": {},
   "outputs": [
    {
     "name": "stdout",
     "output_type": "stream",
     "text": [
      "안녕.\n",
      "잘 지내?\n"
     ]
    }
   ],
   "source": [
    "s = '''안녕.\n",
    "잘 지내?'''\n",
    "\n",
    "print(s)"
   ]
  },
  {
   "cell_type": "code",
   "execution_count": 26,
   "id": "9504b264",
   "metadata": {},
   "outputs": [
    {
     "name": "stdout",
     "output_type": "stream",
     "text": [
      "안녕.\n",
      "잘 지내?\n"
     ]
    }
   ],
   "source": [
    "s = \"\"\"안녕.\n",
    "잘 지내?\"\"\"\n",
    "\n",
    "print(s)"
   ]
  },
  {
   "cell_type": "markdown",
   "id": "7707db8f",
   "metadata": {},
   "source": [
    "스페이스와 탭을 활용해서 생성된 여백<font size=\"2\">white space</font>도 문자열로 처리된다."
   ]
  },
  {
   "cell_type": "code",
   "execution_count": 27,
   "id": "2909d33b",
   "metadata": {},
   "outputs": [
    {
     "name": "stdout",
     "output_type": "stream",
     "text": [
      "안녕.\n",
      "    잘 지내?\n"
     ]
    }
   ],
   "source": [
    "s = '''안녕.\n",
    "    잘 지내?'''\n",
    "\n",
    "print(s)"
   ]
  },
  {
   "cell_type": "code",
   "execution_count": 28,
   "id": "9f7bdec2",
   "metadata": {},
   "outputs": [
    {
     "name": "stdout",
     "output_type": "stream",
     "text": [
      "안녕.\n",
      "    잘 지내?\n"
     ]
    }
   ],
   "source": [
    "s = \"\"\"안녕.\n",
    "    잘 지내?\"\"\"\n",
    "\n",
    "print(s)"
   ]
  },
  {
   "cell_type": "markdown",
   "id": "99c73c75",
   "metadata": {},
   "source": [
    ":::{admonition} 유니코드 문자\n",
    ":class: info\n",
    "\n",
    "키보드 상에 존재하지 않는 다른 기호나 문자도 **유니코드**<font size=\"2\">Unicode</font> \n",
    "형식으로 지원된다.\n",
    "유니코드는 전 세계의 모든 문자를 컴퓨터에서 일관되게 표현하고 다룰 수 있도록 설계된 \n",
    "표준화된 체계이다.\n",
    "대표적으로 서유럽 언어에서 많이 사용되는 \n",
    "&#xE0;, &#xE2;, &#xE7;, &#xE8;,&#xFC; 등 특수 알파벳 등이\n",
    "유니코드로 지원된다.\n",
    "\n",
    "또한 이모티콘도 지원된다. \n",
    "예를 들어 웃는 얼굴의 이모티콘을 나타내는 문자열은 다음과 같다. \n",
    "\n",
    "```python\n",
    ">>> s = '\\U0001f600'\n",
    ">>> s\n",
    "'😀'\n",
    ">>> s * 2\n",
    "'😀😀'\n",
    "```\n",
    "\n",
    "유니코드로 지원되는 모든 이모티콘은 [Emoji Charts](https://unicode.org/emoji/charts/emoji-list.html)에서\n",
    "확인할 수 있다. 단, `U+`로 시작하는 부분을 `U000` 으로 대체해서 사용해야 한다. \n",
    ":::"
   ]
  },
  {
   "cell_type": "markdown",
   "id": "120b46c6",
   "metadata": {},
   "source": [
    "### 백슬래시와 기능 해제 문자"
   ]
  },
  {
   "cell_type": "markdown",
   "id": "42f1f95e",
   "metadata": {},
   "source": [
    "문자열 자체에 따옴표가 포함되면 조심해야 한다.\n",
    "예를 들어, 작은따옴표가 포함된 문자열을 다음과 같이 지정하면 오류가 발생한다.\n",
    "\n",
    "```python\n",
    ">>> s = 'Python's grammar'\n",
    "  File \"<stdin>\", line 1\n",
    "    s = 'Python's grammar'\n",
    "                ^\n",
    "SyntaxError: invalid syntax\n",
    "```\n",
    "\n",
    "이유는 작은따옴표로 문자열의 시작을 지정했기 때문에\n",
    "`Python's` 에 사용된 작은따옴표가 \n",
    "문자열의 끝을 의미하게 되는데\n",
    "이후에도 문자열이 이어지게 되어 결국 문자열의 끝이 불분명해져서\n",
    "구문 오류를 뜻하는 `SyntaxError`가 발생한다.\n",
    "\n",
    "이런 종류의 오류를 방지하는 다양한 방식이 존재하지만,\n",
    "여기서는 **백슬래시**<font size=\"2\">backslash</font> 기호 (`\\`)를 \n",
    "따옴표 바로 앞에 추가하는 방식만 소개한다."
   ]
  },
  {
   "cell_type": "code",
   "execution_count": 29,
   "id": "71dd2bd8",
   "metadata": {},
   "outputs": [
    {
     "name": "stdout",
     "output_type": "stream",
     "text": [
      "Python's grammar\n"
     ]
    }
   ],
   "source": [
    "s = 'Python\\'s grammar'\n",
    "print(s)"
   ]
  },
  {
   "cell_type": "markdown",
   "id": "ddd0c384",
   "metadata": {},
   "source": [
    ":::{admonition} 슬래시 기호(&#x5C;)와 원화 기호(&#x20a9;)\n",
    ":class: info\n",
    "\n",
    "백슬래시 키는 키보드의 <kbd>Enter</kbd> 키 바로 위에 위치하는데\n",
    "한글 키보드의 경우 원화 기호 키 <kbd>&#x20a9;</kbd> 가 대신 \n",
    "자리잡고 있을 수 있다.\n",
    "그리고 모니터 화면에도 사용하는 운영체제의 언어 설정에 따라\n",
    "원화 기호(&#x20a9;)와 백슬래시 기호(&#x5C;) 둘 중에 하나로만 보인다.\n",
    "하지만 단순한 언어 설정의 차이일 뿐 기능은 동일하다.\n",
    ":::"
   ]
  },
  {
   "cell_type": "markdown",
   "id": "735d8eef",
   "metadata": {},
   "source": [
    "백슬래시는 이처럼 특정 문자와 함께 사용되면 특별한 기능을 갖는\n",
    "**기능 해제 문자**<font size=\"2\">escape character</font>를 구성한다.\n",
    "가장 많이 사용되는 기능 해제 문자의 목록은 다음과 같다.\n",
    "\n",
    "| 기능 해제 문자 | 의미 |\n",
    "| :---: | :---:    |\n",
    "| `\\'` | 작은따옴표 |\n",
    "| `\\\"` | 큰따옴표 |\n",
    "| `\\\\` | 백슬래시 기호 |\n",
    "| `\\n` | 줄바꿈 |\n",
    "| `\\t` | 탭 |"
   ]
  },
  {
   "cell_type": "markdown",
   "id": "8d100ebc",
   "metadata": {},
   "source": [
    ":::{prf:example}\n",
    ":label: exp_backslash\n",
    "\n",
    "예를 들어 백슬래시 두 개를 포함한 문자열을 지정하려면 따라서 \n",
    "네 개의 백슬래시를 사용한다.\n",
    "즉, 백슬래시 문자를 하나의 문자로 표현하려면 항상 짝수 개의 백슬래시가 사용되어야 한다.\n",
    "\n",
    "```python\n",
    ">>> print(\"\\\\\\\\\")\n",
    "\\\\\n",
    "```\n",
    ":::"
   ]
  },
  {
   "cell_type": "markdown",
   "id": "768c7c1d-d157-46a4-8bc1-f117a07434d8",
   "metadata": {
    "tags": []
   },
   "source": [
    "### 문자열 기초 연산"
   ]
  },
  {
   "cell_type": "markdown",
   "id": "3d46c384-2da9-45d2-a2b3-9999d19a2f48",
   "metadata": {},
   "source": [
    "|연산 기호|의미|예시|실행 결과|\n",
    "|:----------:|:----------:|:----------:|:--------:|\n",
    "|`+`|이어붙이기| `'Hello ' + 'python'` |`'Hello python'`|\n",
    "|`*`|연속 복제| `3 * 'Hello '` | `Hello Hello Hello `|\n",
    "| | | `'Hello ' * 3` | `Hello Hello Hello `|"
   ]
  },
  {
   "cell_type": "markdown",
   "id": "b43a12de",
   "metadata": {},
   "source": [
    "덧셈 기호는 두 문자열을 이어붙인다."
   ]
  },
  {
   "cell_type": "code",
   "execution_count": 30,
   "id": "71d8b977-cb8b-42fb-8b3b-80f626981a97",
   "metadata": {},
   "outputs": [
    {
     "name": "stdout",
     "output_type": "stream",
     "text": [
      "안녕, 강현\n"
     ]
    }
   ],
   "source": [
    "name = \"강현\"\n",
    "print(\"안녕, \" + name)"
   ]
  },
  {
   "cell_type": "markdown",
   "id": "2ea8b91b",
   "metadata": {},
   "source": [
    "문자열 하나와 양의 정수의 연산은 지정된 정수 만큼 문자열을 복제하여 이어붙인다."
   ]
  },
  {
   "cell_type": "code",
   "execution_count": 31,
   "id": "9bb56e8b-d261-4be9-ae65-61ab1472c42e",
   "metadata": {},
   "outputs": [
    {
     "data": {
      "text/plain": [
       "'Hello Hello Hello '"
      ]
     },
     "execution_count": 31,
     "metadata": {},
     "output_type": "execute_result"
    }
   ],
   "source": [
    "\"Hello \" * 3"
   ]
  },
  {
   "cell_type": "code",
   "execution_count": 32,
   "id": "9366dbd1-88b0-4c2c-87b4-0e4e66392c67",
   "metadata": {},
   "outputs": [
    {
     "data": {
      "text/plain": [
       "'Hi Hi '"
      ]
     },
     "execution_count": 32,
     "metadata": {},
     "output_type": "execute_result"
    }
   ],
   "source": [
    "2 * \"Hi \""
   ]
  },
  {
   "cell_type": "markdown",
   "id": "2a624756",
   "metadata": {},
   "source": [
    "양의 정수가 아니면 빈 문자열로 계산된다."
   ]
  },
  {
   "cell_type": "code",
   "execution_count": 33,
   "id": "c6cb973b",
   "metadata": {},
   "outputs": [
    {
     "data": {
      "text/plain": [
       "''"
      ]
     },
     "execution_count": 33,
     "metadata": {},
     "output_type": "execute_result"
    }
   ],
   "source": [
    "\"Hello \" * 0"
   ]
  },
  {
   "cell_type": "code",
   "execution_count": 34,
   "id": "0b27ec0a",
   "metadata": {},
   "outputs": [
    {
     "data": {
      "text/plain": [
       "''"
      ]
     },
     "execution_count": 34,
     "metadata": {},
     "output_type": "execute_result"
    }
   ],
   "source": [
    "\"Hello \" * -2"
   ]
  },
  {
   "cell_type": "markdown",
   "id": "c234c816-e844-497d-b320-a3984d48ec93",
   "metadata": {},
   "source": [
    ":::{admonition} 주의\n",
    ":class: caution  \n",
    "연산자는 사용되는 인자의 자료형에 민감하다.\n",
    "예를 들어 `2 + 'hello'`는 오류를 발생시킨다. \n",
    "\n",
    "```python\n",
    ">>> 2 + 'hello'\n",
    "Traceback (most recent call last):\n",
    "  File \"<stdin>\", line 1, in <module>\n",
    "TypeError: unsupported operand type(s) for +: 'int' and 'str'\n",
    "```\n",
    ":::"
   ]
  },
  {
   "cell_type": "markdown",
   "id": "d22789f3-8b09-41ae-952b-1b89e286f474",
   "metadata": {
    "tags": []
   },
   "source": [
    "### 화이트 스페이스"
   ]
  },
  {
   "cell_type": "markdown",
   "id": "932a0630-ebab-4907-aa63-1419069437f5",
   "metadata": {},
   "source": [
    "**화이트 스페이스**<font size=\"2\">whitespace</font>는 \n",
    "화면상 보이지 않는 여백을 가리키는 문자를 의미한다.\n",
    "`string` 모듈의 `whitespace` 변수가 화이트 스페이스 문자를 모두 포함한다."
   ]
  },
  {
   "cell_type": "code",
   "execution_count": 35,
   "id": "1bbb7148-38f7-4a48-ba0c-c6d33a11640d",
   "metadata": {},
   "outputs": [
    {
     "data": {
      "text/plain": [
       "' \\t\\n\\r\\x0b\\x0c'"
      ]
     },
     "execution_count": 35,
     "metadata": {},
     "output_type": "execute_result"
    }
   ],
   "source": [
    "import string\n",
    "\n",
    "string.whitespace"
   ]
  },
  {
   "cell_type": "markdown",
   "id": "449a5fb1",
   "metadata": {},
   "source": [
    "`' \\t\\n\\r\\x0b\\x0c'` 의 맨 왼쪽에는 스페이스 바를 한 번 눌렀을 때\n",
    "발생하는 여백 문자 `' '` 이 위치한다.\n",
    "위 문자열에 포함된 각 화이트 스페이스 기호의 의미는 다음과 같다."
   ]
  },
  {
   "cell_type": "markdown",
   "id": "fc875118-391d-402d-96bc-fbb6502318f1",
   "metadata": {},
   "source": [
    "| 기호 | 설명 |\n",
    "| :---: | :---: |\n",
    "| `' '`  | 스페이스<font size = \"2\">space</font>| \n",
    "| `'\\t'` | 탭<font size = \"2\">tab</font>| \n",
    "| `'\\n'` | 줄 변경<font size = \"2\">new line</font>|\n",
    "| `\\r` | 캐리지 리턴<font size = \"2\">carriage return</font>|\n",
    "| `'\\v'` 또는 `'\\x0b'` | 수직탭<font size = \"2\">vertical tab</font>|\n",
    "| `'\\f'` 또는 `'\\x0c` | 폼피드<font size = \"2\">form feed</font>|"
   ]
  },
  {
   "cell_type": "markdown",
   "id": "fef7bdc1",
   "metadata": {},
   "source": [
    "이중에 스페이스, 줄 변경, 탭이 가장 많이 사용되며,\n",
    "다른 화이트 스페이스는 여기서는 다루지 않는다."
   ]
  },
  {
   "cell_type": "code",
   "execution_count": 36,
   "id": "2a97ddd8-b249-4099-82f7-04c15779e2cd",
   "metadata": {},
   "outputs": [
    {
     "name": "stdout",
     "output_type": "stream",
     "text": [
      " 1\n",
      "2\t3\n"
     ]
    }
   ],
   "source": [
    "print(' 1\\n2\\t3')"
   ]
  },
  {
   "cell_type": "markdown",
   "id": "4790ddea-5387-405c-8fad-1ba2cc6afe2e",
   "metadata": {},
   "source": [
    ":::{admonition} `''` 대 `' '`\n",
    ":class: info\n",
    "\n",
    "빈 문자열<font size = \"2\">empty string</font> \n",
    "`''` 는 아무런 문자도 포함하지 않았기 때문에 문자열의 길이 즉, 문자열에 포함된 문자의 개수가 0이다.\n",
    "반면 `' '` 는 눈에 보이지는 않지만 스페이스 여백 하나를 포함하는 문자열이며, 따라서 길이가 1이다. \n",
    "\n",
    "C, 자바 등의 언어에서는 길이가 1인 문자열을 **character** 자료형으로 별도 관리하며,\n",
    "보통 `char` 로 표기한다. \n",
    "하지만 파이썬은 character 자료형을 제공하지 않는다.\n",
    ":::"
   ]
  },
  {
   "cell_type": "markdown",
   "id": "0e33dd73-050f-42cb-8b5f-696a14e7d00b",
   "metadata": {
    "tags": []
   },
   "source": [
    ":::{prf:example}\n",
    ":label: exp_backslash_escape\n",
    "\n",
    "화이트 스페이스가 기능을 발휘하지 않고 그 자체로 문자열에 포함되도록 하려면\n",
    "앞서 언급한 백슬래시 자체를 기능 해제 문자로 표현한다. \n",
    "\n",
    "```python\n",
    ">>> print(\"Hello\\\\n World\")\n",
    "Hello\\n World\n",
    "\n",
    ">>> print(\"Hello\\\\t World\")\n",
    "Hello\\t World\n",
    "```\n",
    ":::"
   ]
  },
  {
   "cell_type": "markdown",
   "id": "9e94c652",
   "metadata": {},
   "source": [
    "### 날 문자열"
   ]
  },
  {
   "cell_type": "markdown",
   "id": "373bd988-5c89-4763-8941-b20be415f334",
   "metadata": {},
   "source": [
    "**날 문자열**<font size=\"2\">raw string</font>은 \n",
    "'가공되지 않은'의 의미를 갖는 영어 단어 *raw* 의 첫 글자인 `'r'` 이\n",
    "추가된 문자열이다. \n",
    "기능 해제 문자가 날 문자열에 포함되더라도 특별한 기능을\n",
    "발휘하지 못한다."
   ]
  },
  {
   "cell_type": "code",
   "execution_count": 37,
   "id": "26f0f71e",
   "metadata": {},
   "outputs": [
    {
     "name": "stdout",
     "output_type": "stream",
     "text": [
      "Hello\\ World\n"
     ]
    }
   ],
   "source": [
    "print(r\"Hello\\ World\")"
   ]
  },
  {
   "cell_type": "code",
   "execution_count": 38,
   "id": "f001fdbb-de32-4ce6-bd06-7451e08eecce",
   "metadata": {},
   "outputs": [
    {
     "name": "stdout",
     "output_type": "stream",
     "text": [
      "Hello\\n World\n"
     ]
    }
   ],
   "source": [
    "print(r\"Hello\\n World\")"
   ]
  },
  {
   "cell_type": "code",
   "execution_count": 39,
   "id": "7ae0db1a-75f5-4692-af0d-d50789ca9259",
   "metadata": {},
   "outputs": [
    {
     "name": "stdout",
     "output_type": "stream",
     "text": [
      "Hello\\t World\n"
     ]
    }
   ],
   "source": [
    "print(r\"Hello\\t World\")"
   ]
  },
  {
   "cell_type": "markdown",
   "id": "ebd823c4",
   "metadata": {},
   "source": [
    "### 문자열 포매팅"
   ]
  },
  {
   "cell_type": "markdown",
   "id": "11eb5ed7",
   "metadata": {},
   "source": [
    "**문자열 포매팅**<font size=\"2\">string formatting</font>은\n",
    "문자열 안에 변수 또는 표현식을 사용하여 변하는 값을\n",
    "반영하여 문자열을 생성하도록 한다.\n",
    "여러 방식이 있지만 여기서는 가장 최신 방법인 \n",
    "**f-문자열**<font size=\"2\">f-string</font>을 \n",
    "활용하는 방법을 소개한다.\n",
    "f-문자열은 문자열 앞에 `f`를 붙이며, \n",
    "문자열 안에 임의의 표현식이 중괄호로 감싸여서 사용될 수 있다."
   ]
  },
  {
   "cell_type": "code",
   "execution_count": 1,
   "id": "3682ba82",
   "metadata": {},
   "outputs": [
    {
     "name": "stdout",
     "output_type": "stream",
     "text": [
      "강현이는 만으로 2살이다.\n"
     ]
    }
   ],
   "source": [
    "name = '강현'\n",
    "age = 3\n",
    "s = f'{name}이는 만으로 {age-1}살이다.'\n",
    "print(s)"
   ]
  },
  {
   "cell_type": "code",
   "execution_count": 41,
   "id": "a3263032",
   "metadata": {},
   "outputs": [
    {
     "name": "stdout",
     "output_type": "stream",
     "text": [
      "강현이의 동생은 1살이다\n"
     ]
    }
   ],
   "source": [
    "s1 = f'{name}이의 동생은 {age - 2}살이다'\n",
    "print(s1)"
   ]
  },
  {
   "cell_type": "markdown",
   "id": "92ce6f0c",
   "metadata": {},
   "source": [
    "출력되는 문자열의 길이를 지정하고 좌우로 정렬할 수 있다."
   ]
  },
  {
   "cell_type": "code",
   "execution_count": 42,
   "id": "2c271e25",
   "metadata": {},
   "outputs": [],
   "source": [
    "s = 'hi'"
   ]
  },
  {
   "cell_type": "code",
   "execution_count": 43,
   "id": "848e965f",
   "metadata": {},
   "outputs": [
    {
     "name": "stdout",
     "output_type": "stream",
     "text": [
      "hi        \n",
      "        hi\n",
      "    hi    \n"
     ]
    }
   ],
   "source": [
    "print(f'{s:<10}')\n",
    "print(f'{s:>10}')\n",
    "print(f'{s:^10}')"
   ]
  },
  {
   "cell_type": "markdown",
   "id": "03f6e8d1",
   "metadata": {},
   "source": [
    "남은 자리를 지정된 문자로 채울 수 있다."
   ]
  },
  {
   "cell_type": "code",
   "execution_count": 44,
   "id": "35dcafc8",
   "metadata": {},
   "outputs": [
    {
     "name": "stdout",
     "output_type": "stream",
     "text": [
      "hi++++++++\n",
      "00000000hi\n",
      "----hi----\n"
     ]
    }
   ],
   "source": [
    "print(f'{s:+<10}')\n",
    "print(f'{s:0>10}')\n",
    "print(f'{s:-^10}')"
   ]
  },
  {
   "cell_type": "markdown",
   "id": "56d607f3",
   "metadata": {},
   "source": [
    "부동소수점의 소수점 이하 자릿수를 지정하려면 `{표현식:.1f}` 와 같은 형식을 사용한다."
   ]
  },
  {
   "cell_type": "code",
   "execution_count": 45,
   "id": "d5c8816f",
   "metadata": {},
   "outputs": [
    {
     "name": "stdout",
     "output_type": "stream",
     "text": [
      "17.1\n",
      "17.12\n",
      "17.123\n"
     ]
    }
   ],
   "source": [
    "num = 17.123456789\n",
    "\n",
    "print(f'{num:.1f}')\n",
    "print(f'{num:.2f}')\n",
    "print(f'{num:.3f}')"
   ]
  },
  {
   "cell_type": "markdown",
   "id": "311a821e",
   "metadata": {},
   "source": [
    "전체 자릿수를 지정하려면 `{표현식:3.2f}` 와 같은 형식을 사용한다."
   ]
  },
  {
   "cell_type": "code",
   "execution_count": 46,
   "id": "0e4d158a",
   "metadata": {},
   "outputs": [
    {
     "name": "stdout",
     "output_type": "stream",
     "text": [
      "          17.12\n"
     ]
    }
   ],
   "source": [
    "print(f'{num:15.2f}')"
   ]
  },
  {
   "cell_type": "markdown",
   "id": "50c5cc45",
   "metadata": {},
   "source": [
    "좌우 정렬도 가능하다."
   ]
  },
  {
   "cell_type": "code",
   "execution_count": 47,
   "id": "1e78359c",
   "metadata": {},
   "outputs": [
    {
     "name": "stdout",
     "output_type": "stream",
     "text": [
      "17.12346       \n",
      "       17.12346\n",
      "000000017.12346\n"
     ]
    }
   ],
   "source": [
    "print(f'{num:<15.5f}')\n",
    "print(f'{num:>15.5f}')\n",
    "print(f'{num:0>15.5f}')"
   ]
  },
  {
   "cell_type": "markdown",
   "id": "2eb3e9e7-7fac-400b-a90a-9361e2b9b69f",
   "metadata": {
    "tags": []
   },
   "source": [
    "(sec:boolean_value)=\n",
    "## 부울값"
   ]
  },
  {
   "cell_type": "markdown",
   "id": "72395d4f",
   "metadata": {},
   "source": [
    "### `bool` 유형"
   ]
  },
  {
   "cell_type": "markdown",
   "id": "f0e1f96a-773c-495f-b01a-9d9d96055c16",
   "metadata": {},
   "source": [
    "`bool` 유형은 참과 거짓을 의미하는 `True`와 `False` 두 개의 값만 갖는다."
   ]
  },
  {
   "cell_type": "code",
   "execution_count": 48,
   "id": "28b61dee",
   "metadata": {},
   "outputs": [
    {
     "data": {
      "text/plain": [
       "bool"
      ]
     },
     "execution_count": 48,
     "metadata": {},
     "output_type": "execute_result"
    }
   ],
   "source": [
    "type(True)"
   ]
  },
  {
   "cell_type": "code",
   "execution_count": 49,
   "id": "e604f947",
   "metadata": {},
   "outputs": [
    {
     "data": {
      "text/plain": [
       "bool"
      ]
     },
     "execution_count": 49,
     "metadata": {},
     "output_type": "execute_result"
    }
   ],
   "source": [
    "d = False\n",
    "type(d)"
   ]
  },
  {
   "cell_type": "markdown",
   "id": "0236232e",
   "metadata": {},
   "source": [
    "(sec:boolean_expression)=\n",
    "### 논리식"
   ]
  },
  {
   "cell_type": "markdown",
   "id": "9c43ca31",
   "metadata": {},
   "source": [
    "**논리식**은 `True`와 `False` 두 개의 값중 하나를 가리키는 표현식이다.\n",
    "예를 들어, 두 표현식의 등가 여부를 판단하는 연산자 `==`를\n",
    "이용한 논리식은 다음과 같다."
   ]
  },
  {
   "cell_type": "code",
   "execution_count": 50,
   "id": "24573c06",
   "metadata": {},
   "outputs": [
    {
     "data": {
      "text/plain": [
       "True"
      ]
     },
     "execution_count": 50,
     "metadata": {},
     "output_type": "execute_result"
    }
   ],
   "source": [
    "5 == 4 + 1"
   ]
  },
  {
   "cell_type": "code",
   "execution_count": 51,
   "id": "5e476560",
   "metadata": {},
   "outputs": [
    {
     "data": {
      "text/plain": [
       "False"
      ]
     },
     "execution_count": 51,
     "metadata": {},
     "output_type": "execute_result"
    }
   ],
   "source": [
    "3 + 2 ==  3 * 2"
   ]
  },
  {
   "cell_type": "markdown",
   "id": "473cb401",
   "metadata": {},
   "source": [
    ":::{admonition} `==` vs. `=`\n",
    ":class: warning\n",
    "\n",
    "표현식 A와 B가 동일한 값을 표현하거나 가리킬 때 서로 **등가**<font size=\"2\">equality</font>라고 말하며,\n",
    "이때 `A == B`를 `True`로 간주한다.\n",
    "예를 들어 `3 + 1`과 `2 * 2`가 동일한 값을 나타낸다는 사실은\n",
    "아래 코드와 같이 실행할 때 결과가 `True`로 나오는 것으로 확인된다.\n",
    "\n",
    "```python\n",
    ">>> 3 + 1 == 2 * 2\n",
    "True\n",
    "```\n",
    "\n",
    "반면에 `3 + 1 == 2 * 1`는 서로 등가가 아니라고 판명된다.\n",
    "\n",
    "```python\n",
    ">>> 3 + 1 == 2 * 1\n",
    "False\n",
    "```\n",
    "\n",
    "반면에 하나의 등호 기호 `=` 는 변수 할당에 사용되는 특별한 기호이다.\n",
    "만약 `x = 3` 이 변수 `x`와 정수 `3`이 등가임을 의미한다면\n",
    "`3 = x` 또한 의미가 있어야 한다.\n",
    "그런데 이는 허용되지 않는 구문이다. \n",
    "파이썬을 포함한 대부분의 프로그래밍 언어는 변수를 선언할 때 변수는 등호 기호 왼편애 위치하도록 강요한다.\n",
    "\n",
    "```python\n",
    ">>> x = 3\n",
    ">>> 3 = x\n",
    "  File \"<stdin>\", line 1\n",
    "    3 = x\n",
    "    ^\n",
    "SyntaxError: cannot assign to literal\n",
    "```\n",
    ":::"
   ]
  },
  {
   "cell_type": "markdown",
   "id": "b0dd14b6",
   "metadata": {},
   "source": [
    "두 표현식이 서로 다른 값을 가리키는지 여부, 즉 등가성의 반대를 판단하는 연산자는 `!=`이며,\n",
    "`==` 와 반대로 작동한다."
   ]
  },
  {
   "cell_type": "code",
   "execution_count": 1,
   "id": "68c24f03",
   "metadata": {},
   "outputs": [
    {
     "data": {
      "text/plain": [
       "False"
      ]
     },
     "execution_count": 1,
     "metadata": {},
     "output_type": "execute_result"
    }
   ],
   "source": [
    "5 != 4 + 1"
   ]
  },
  {
   "cell_type": "code",
   "execution_count": 53,
   "id": "754621bb",
   "metadata": {},
   "outputs": [
    {
     "data": {
      "text/plain": [
       "True"
      ]
     },
     "execution_count": 53,
     "metadata": {},
     "output_type": "execute_result"
    }
   ],
   "source": [
    "3 + 2 !=  3 * 2"
   ]
  },
  {
   "cell_type": "markdown",
   "id": "f25f8bac",
   "metadata": {},
   "source": [
    "### 비교 연산자"
   ]
  },
  {
   "cell_type": "markdown",
   "id": "3e735eca",
   "metadata": {},
   "source": [
    "논리식은 기본적으로 등식, 부등식 등의 **비교 연산자**를 이용하여 표현하며,\n",
    "**논리 연산자**를 이용하여 보다 복잡한 논리식을 구성한다.\n",
    "\n",
    "비교 연산자는 수, 문자열 등의 크기를 비교할 수 있으며\n",
    "아래 연산자를 지원한다.\n",
    "\n",
    "|연산 기호|의미|예시|실행 결과|\n",
    "|:----------:|:----------:|:----------:|:--------:|\n",
    "|`<`|작다|`2 < 1`|`False`|\n",
    "|`<=`|작거나 같다|`1 <= 2`|`True`|\n",
    "|`>`|크다|`2 > 1`|`True`|\n",
    "|`>=`|크거나 같다|`1 >= 2`|`False`|\n",
    "|`==`|같다|`3 == 2 * 1`|`False`|\n",
    "|`!=`|같지 않다|`1 != '1'`|`True`|"
   ]
  },
  {
   "cell_type": "markdown",
   "id": "015a7830",
   "metadata": {},
   "source": [
    "두 값의 등가 여부를 판단하는 `==` 연산자는 \n",
    "자료형이 다르면 무조건 거짓으로 판정한다."
   ]
  },
  {
   "cell_type": "code",
   "execution_count": 54,
   "id": "d32cc903",
   "metadata": {},
   "outputs": [
    {
     "data": {
      "text/plain": [
       "False"
      ]
     },
     "execution_count": 54,
     "metadata": {},
     "output_type": "execute_result"
    }
   ],
   "source": [
    "1.0 == '1.0'"
   ]
  },
  {
   "cell_type": "markdown",
   "id": "e0f543de",
   "metadata": {},
   "source": [
    "하지만 정수는 부동소수점으로 취급하기에 \n",
    "예를 들어 1과 1.0은 등가라고 판정한다."
   ]
  },
  {
   "cell_type": "code",
   "execution_count": 55,
   "id": "fbc3dd2b",
   "metadata": {},
   "outputs": [
    {
     "data": {
      "text/plain": [
       "True"
      ]
     },
     "execution_count": 55,
     "metadata": {},
     "output_type": "execute_result"
    }
   ],
   "source": [
    "1 == 1.0"
   ]
  },
  {
   "cell_type": "markdown",
   "id": "aee70682",
   "metadata": {},
   "source": [
    "문자열도 비교 연산자를 지원하며\n",
    "사전식 순서 개념을 사용한다."
   ]
  },
  {
   "cell_type": "code",
   "execution_count": 56,
   "id": "96db1494",
   "metadata": {},
   "outputs": [
    {
     "data": {
      "text/plain": [
       "True"
      ]
     },
     "execution_count": 56,
     "metadata": {},
     "output_type": "execute_result"
    }
   ],
   "source": [
    "'apple' < 'banana'"
   ]
  },
  {
   "cell_type": "markdown",
   "id": "13e96f97",
   "metadata": {},
   "source": [
    "영어 알파벳의 경우 대문자가 소문자보다 작다고 판단한다."
   ]
  },
  {
   "cell_type": "code",
   "execution_count": 57,
   "id": "4281ea77",
   "metadata": {},
   "outputs": [
    {
     "data": {
      "text/plain": [
       "False"
      ]
     },
     "execution_count": 57,
     "metadata": {},
     "output_type": "execute_result"
    }
   ],
   "source": [
    "'apple' < 'Apple'"
   ]
  },
  {
   "cell_type": "markdown",
   "id": "60928960",
   "metadata": {},
   "source": [
    "::::{prf:example}\n",
    ":label: exp_comparison\n",
    "\n",
    "변수 `x`가 가리키는 값이 짝수이면 2로 나눈 값을,\n",
    "그렇지 않으면 두 배한 값을 출력하도록 해보자.\n",
    "\n",
    "정수의 짝수 여부는 2로 나눈 나머지가 0 또는 1인지 여부로 판단할 수 있다.\n",
    "파이썬의 나머지 연산자는 `%` 이다.\n",
    "\n",
    "```python\n",
    ">>> 21 % 6\n",
    "3\n",
    ">>> 21 % 4\n",
    "1\n",
    "```\n",
    "\n",
    "따라서 다음 논리식이 짝수 여부를 판단한다.\n",
    "\n",
    "```python\n",
    "x % 2 == 0\n",
    "```\n",
    "\n",
    "반면에 몫을 계산하는 연산자는 `//` 이다.\n",
    "\n",
    "```python\n",
    ">>> 27 // 6\n",
    "4\n",
    ">>> 27 // 4\n",
    "6\n",
    "```\n",
    "\n",
    "정리하면 짝수일 때와 홀수일 때 지정된 일을 하도록 하는 명령문은 다음과 같다.\n",
    "\n",
    "```python\n",
    "if x % 2 == 0:\n",
    "    print(x // 2)\n",
    "else:\n",
    "    print(x * 2)\n",
    "```\n",
    "::::"
   ]
  },
  {
   "cell_type": "markdown",
   "id": "a81e9b7f-825a-4724-8c0b-9bf779ab918f",
   "metadata": {},
   "source": [
    "### 논리 연산자"
   ]
  },
  {
   "cell_type": "markdown",
   "id": "acfdfe0a",
   "metadata": {},
   "source": [
    "영어의 *and*, *or*, *not* 의 개념과 거의(!) 유사하게 작동하는\n",
    "세 개의 논리 연산자를 이용하여 보다 복잡한 논리식을 구현할 수 있다."
   ]
  },
  {
   "cell_type": "markdown",
   "id": "adf4147f-08f0-40ea-9774-c93643e35b6f",
   "metadata": {},
   "source": [
    "|연산 기호|의미|예시|실행 결과|\n",
    "|:----------:|:----------:|:----------:|:--------:|\n",
    "|`and`|그리고|`1==2 and 3==2+1`|`False`|\n",
    "|`or`|또는|`1==2 and 3==2+1`|`True`|\n",
    "|`not`|부정|`not 1==2`|`True`|"
   ]
  },
  {
   "cell_type": "markdown",
   "id": "48c511aa",
   "metadata": {},
   "source": [
    "논리 연산자들 사이의 우선순위는 `not` 이 가장 높고 `and` 와 `or` 는 동등하다.\n",
    "예를 들어\n",
    "\n",
    "```python\n",
    "not a > b and b > c\n",
    "```\n",
    "\n",
    "는\n",
    "\n",
    "```python\n",
    "(not a > b) and b > c\n",
    "```\n",
    "\n",
    "와는 서로 등가이지만\n",
    "\n",
    "```python\n",
    "not (a > b and b > c)\n",
    "```\n",
    "\n",
    "와는 일반적으로 서로 다른 값을 가리킨다."
   ]
  },
  {
   "cell_type": "markdown",
   "id": "0e392f34",
   "metadata": {},
   "source": [
    "파이썬이 제공하는 편리 기능 중에 하나로 \n",
    "논리 연산자의 인자로 논리식이 아닌 값이 사용될 수 있다.\n",
    "예를 들어, 0이 아닌 수는 참, 0은 거짓으로 처리된다."
   ]
  },
  {
   "cell_type": "code",
   "execution_count": 58,
   "id": "ccdbd3ba",
   "metadata": {},
   "outputs": [
    {
     "data": {
      "text/plain": [
       "True"
      ]
     },
     "execution_count": 58,
     "metadata": {},
     "output_type": "execute_result"
    }
   ],
   "source": [
    "17 and True"
   ]
  },
  {
   "cell_type": "markdown",
   "id": "c9b72891",
   "metadata": {},
   "source": [
    "이외에 `None`은 거짓, 빈 리스트는 거짓으로 그렇지 않은 리스트는 참으로 등등처럼\n",
    "많은 값들에 대해 비어 있거나 또는 의미가 없는 값은 거짓으로\n",
    "그렇지 않으면 참으로 처리한다.\n",
    "하지만 이런 방식은 코드의 이해를 어렵게 만들 수 있기에 조심해서 사용해야 한다."
   ]
  },
  {
   "cell_type": "markdown",
   "id": "d24695af",
   "metadata": {},
   "source": [
    ":::{prf:example}\n",
    ":label: logical_op1\n",
    "\n",
    "세 개의 수 중에서 최댓값을 출력하는 코드는 다음과 같다.\n",
    "\n",
    "```python\n",
    "a = 3\n",
    "b = 7\n",
    "c = -1\n",
    "\n",
    "if a > b and a > c:\n",
    "    print(a)\n",
    "elif a > b and not a > c:\n",
    "    print(c)\n",
    "elif not a > b and b > c:\n",
    "    print(b)\n",
    "else:\n",
    "    print(c)\n",
    "```\n",
    ":::"
   ]
  },
  {
   "cell_type": "markdown",
   "id": "25064d13",
   "metadata": {},
   "source": [
    ":::{prf:example}\n",
    ":label: logical_op2\n",
    "\n",
    "세 개의 수가 주어졌을 때 \n",
    "양수가 최소 하나라도 있는 경우에만 `True`를 출력하도록 하는 코드는 다음과 같다.\n",
    "\n",
    "```python\n",
    "a = -23\n",
    "b = -7\n",
    "c = 1\n",
    "\n",
    "if a > 0 or b > 0 or not c <= 0:\n",
    "    print(True)\n",
    "else:\n",
    "    print(False)\n",
    "```\n",
    ":::"
   ]
  },
  {
   "cell_type": "markdown",
   "id": "66c62e52",
   "metadata": {},
   "source": [
    ":::{admonition} 참고 \n",
    ":class: info\n",
    "\n",
    "`and` 와 `or` 가 자연어의 *and* 와 *or* 와는 조금 다르게 작동한다. \n",
    "예를 들어, 아래와 같이  `False and 3/0`를 실행하면 `False`로 계산되는데\n",
    "좀 이상하다. \n",
    "왜냐하면 `3/0` 이 `ZeroDivisionError` 라는 오류를 발생시켜야 할 것으로\n",
    "기대되기 때문이다.\n",
    "\n",
    "```python\n",
    ">>> False and 3/0\n",
    "False\n",
    "```\n",
    "\n",
    "실제로 `3/0 and False` 를 실행하면 `3/0`을 먼저 확인하기에 오류가 발생한다. \n",
    "\n",
    "```python\n",
    ">>> 3/0 and False\n",
    "Traceback (most recent call last):\n",
    "  File \"<stdin>\", line 1, in <module>\n",
    "ZeroDivisionError: division by zero\n",
    "```\n",
    "\n",
    "`False and 3/0` 를 실행할 때 오류가 발생하지 않은 이유는 \n",
    "`x and y`는 `x`가 참일 때만 `y` 를 확인하기 때문이다.\n",
    "`x` 를 먼저 확인해서 거짓으로 판명되면 논리식 전체를 바로 거짓으로 계산한다.\n",
    "반면에 `x or y`는 `x`가 거짓일 때만 `y`를 확인한다.\n",
    "즉, `x`를 먼저 확인해서 참이되면 논리식 전체를 참으로 계산한다.\n",
    "\n",
    ":::"
   ]
  },
  {
   "cell_type": "markdown",
   "id": "3cf818fd-1694-48fd-a75a-ee664a72241c",
   "metadata": {},
   "source": [
    "(sec:type_casting)=\n",
    "## 형변환"
   ]
  },
  {
   "cell_type": "markdown",
   "id": "b8cc1a4d",
   "metadata": {},
   "source": [
    "`2.3 + 3`을 실행하면 파이썬 실행기<font size=\"2\">interpreter</font>는\n",
    "내부적으로 정수를 부동소수점으로 형변환하는 함수 `float()`를 이용하여\n",
    "정수 `3`을 부동소수점 `3.0`으로 유형을 변환한 후에\n",
    "덧셈을 처리한다. \n",
    "이렇게 값의 유형을 적절하게 자동 변환하는 기능을 \n",
    "**형변환**<font size=\"2\">type casting</font>이라 부른다."
   ]
  },
  {
   "cell_type": "code",
   "execution_count": 59,
   "id": "c93c63e4",
   "metadata": {},
   "outputs": [
    {
     "data": {
      "text/plain": [
       "3.0"
      ]
     },
     "execution_count": 59,
     "metadata": {},
     "output_type": "execute_result"
    }
   ],
   "source": [
    "float(3)"
   ]
  },
  {
   "cell_type": "code",
   "execution_count": 3,
   "id": "66511cce",
   "metadata": {},
   "outputs": [
    {
     "data": {
      "text/plain": [
       "True"
      ]
     },
     "execution_count": 3,
     "metadata": {},
     "output_type": "execute_result"
    }
   ],
   "source": [
    "(2.3 + 3) == (2.3 + float(3))"
   ]
  },
  {
   "cell_type": "markdown",
   "id": "87e20fba",
   "metadata": {},
   "source": [
    "`float()` 함수 이외에 `int()`, `str()`, `bool()` 등 다양한 형변환 함수가 제공된다."
   ]
  },
  {
   "cell_type": "markdown",
   "id": "81b510e3",
   "metadata": {},
   "source": [
    ":::{admonition} `float` 대 `float()`\n",
    ":class: tip\n",
    "\n",
    "`float`는 부동소수점 자료형을 가리키기도 하고 \n",
    "형변환 함수를 가리키기도 한다. \n",
    "여기서는 자료형과 함수 이름을 구분하기 위해 \n",
    "함수는 `int()`, `float()`, `str()` 등처럼\n",
    "함수 이름과 괄호를 함께 사용하는 표기법 관행을 따른다.\n",
    ":::"
   ]
  },
  {
   "cell_type": "markdown",
   "id": "cff637ae",
   "metadata": {},
   "source": [
    "**`int()` 함수**\n",
    "\n",
    "정수 모양의 문자열 또는 부동소수점을 정수로 변환한다."
   ]
  },
  {
   "cell_type": "code",
   "execution_count": 60,
   "id": "cd473e7d",
   "metadata": {},
   "outputs": [
    {
     "data": {
      "text/plain": [
       "5"
      ]
     },
     "execution_count": 60,
     "metadata": {},
     "output_type": "execute_result"
    }
   ],
   "source": [
    "int('5')"
   ]
  },
  {
   "cell_type": "code",
   "execution_count": 61,
   "id": "60e8db25-e25b-4167-9930-4e15237016ee",
   "metadata": {},
   "outputs": [
    {
     "data": {
      "text/plain": [
       "4"
      ]
     },
     "execution_count": 61,
     "metadata": {},
     "output_type": "execute_result"
    }
   ],
   "source": [
    "int(4.8)"
   ]
  },
  {
   "cell_type": "markdown",
   "id": "98a7275e",
   "metadata": {},
   "source": [
    "`True`와 `False`는 각각 1과 0으로 취급된다."
   ]
  },
  {
   "cell_type": "code",
   "execution_count": 62,
   "id": "da74d2d0-2da7-4c1c-890f-aa23dbf4c26f",
   "metadata": {},
   "outputs": [
    {
     "data": {
      "text/plain": [
       "1"
      ]
     },
     "execution_count": 62,
     "metadata": {},
     "output_type": "execute_result"
    }
   ],
   "source": [
    "int(True)"
   ]
  },
  {
   "cell_type": "code",
   "execution_count": 63,
   "id": "41e6a06f",
   "metadata": {},
   "outputs": [
    {
     "data": {
      "text/plain": [
       "0"
      ]
     },
     "execution_count": 63,
     "metadata": {},
     "output_type": "execute_result"
    }
   ],
   "source": [
    "int(False)"
   ]
  },
  {
   "cell_type": "markdown",
   "id": "c9d42a7b",
   "metadata": {},
   "source": [
    "**`float()` 함수**\n",
    "\n",
    "유한소수 모양의 문자열 또는 정수 등을 부동소수점으로 변환한다."
   ]
  },
  {
   "cell_type": "code",
   "execution_count": 64,
   "id": "826ce962-2222-4742-b1f7-ff0d54401fcf",
   "metadata": {},
   "outputs": [
    {
     "data": {
      "text/plain": [
       "7.0"
      ]
     },
     "execution_count": 64,
     "metadata": {},
     "output_type": "execute_result"
    }
   ],
   "source": [
    "float(7)"
   ]
  },
  {
   "cell_type": "code",
   "execution_count": 65,
   "id": "d6316142",
   "metadata": {},
   "outputs": [
    {
     "data": {
      "text/plain": [
       "7.0"
      ]
     },
     "execution_count": 65,
     "metadata": {},
     "output_type": "execute_result"
    }
   ],
   "source": [
    "float('7')"
   ]
  },
  {
   "cell_type": "code",
   "execution_count": 66,
   "id": "a4ff8cd8",
   "metadata": {},
   "outputs": [
    {
     "data": {
      "text/plain": [
       "7.9"
      ]
     },
     "execution_count": 66,
     "metadata": {},
     "output_type": "execute_result"
    }
   ],
   "source": [
    "float('7.9')"
   ]
  },
  {
   "cell_type": "markdown",
   "id": "85580664",
   "metadata": {},
   "source": [
    ":::{admonition} 주의 \n",
    ":class: caution  \n",
    "`int()`함수의 인자로 문자열을 사용할 때는 그 모양이 정수의 모양을 갖추어야 한다.\n",
    "\n",
    "```python\n",
    ">>> int('5.1')\n",
    "Traceback (most recent call last):\n",
    "  File \"<stdin>\", line 1, in <module>\n",
    "ValueError: invalid literal for int() with base 10: '5.1'\n",
    "```\n",
    "\n",
    "`float()` 함수의 문자열 인자는 정수 또는 부동소수점 모양이어야 한다. \n",
    "\n",
    "```python\n",
    ">>> float('5.2a')\n",
    "Traceback (most recent call last):\n",
    "  File \"<stdin>\", line 1, in <module>\n",
    "ValueError: could not convert string to float: '5.2a'\n",
    "```\n",
    ":::"
   ]
  },
  {
   "cell_type": "markdown",
   "id": "01c14401",
   "metadata": {},
   "source": [
    "**`str()` 함수**\n",
    "\n",
    "임의의 값을 문자열로 변환한다."
   ]
  },
  {
   "cell_type": "code",
   "execution_count": 67,
   "id": "abffd3a1-0604-4c27-b539-7c985eaf7558",
   "metadata": {},
   "outputs": [
    {
     "data": {
      "text/plain": [
       "'6'"
      ]
     },
     "execution_count": 67,
     "metadata": {},
     "output_type": "execute_result"
    }
   ],
   "source": [
    "str(6)"
   ]
  },
  {
   "cell_type": "code",
   "execution_count": 68,
   "id": "00f9265d",
   "metadata": {},
   "outputs": [
    {
     "data": {
      "text/plain": [
       "'7.6'"
      ]
     },
     "execution_count": 68,
     "metadata": {},
     "output_type": "execute_result"
    }
   ],
   "source": [
    "str(7.6)"
   ]
  },
  {
   "cell_type": "code",
   "execution_count": 69,
   "id": "71ddbfe7",
   "metadata": {},
   "outputs": [
    {
     "data": {
      "text/plain": [
       "'False'"
      ]
     },
     "execution_count": 69,
     "metadata": {},
     "output_type": "execute_result"
    }
   ],
   "source": [
    "str(False)"
   ]
  },
  {
   "cell_type": "markdown",
   "id": "501f54c6",
   "metadata": {},
   "source": [
    "**`bool()` 함수**\n",
    "\n",
    "임의의 값을 `True` 또는 `False` 로 변환한다.\n",
    "`0`, `0.0`, `''`(빈 문자열) 등처럼 0, 비어 있는 것, 의미 없는 것등은 `False` 로\n",
    "그렇지 않으면 `True` 로 지정한다."
   ]
  },
  {
   "cell_type": "code",
   "execution_count": 70,
   "id": "c3a7b91c",
   "metadata": {},
   "outputs": [
    {
     "data": {
      "text/plain": [
       "False"
      ]
     },
     "execution_count": 70,
     "metadata": {},
     "output_type": "execute_result"
    }
   ],
   "source": [
    "bool(0)"
   ]
  },
  {
   "cell_type": "code",
   "execution_count": 71,
   "id": "8baa4ffa",
   "metadata": {},
   "outputs": [
    {
     "data": {
      "text/plain": [
       "True"
      ]
     },
     "execution_count": 71,
     "metadata": {},
     "output_type": "execute_result"
    }
   ],
   "source": [
    "bool(2)"
   ]
  },
  {
   "cell_type": "code",
   "execution_count": 72,
   "id": "795ff69a",
   "metadata": {},
   "outputs": [
    {
     "data": {
      "text/plain": [
       "False"
      ]
     },
     "execution_count": 72,
     "metadata": {},
     "output_type": "execute_result"
    }
   ],
   "source": [
    "bool(0.0)"
   ]
  },
  {
   "cell_type": "code",
   "execution_count": 73,
   "id": "9e74c8eb",
   "metadata": {},
   "outputs": [
    {
     "data": {
      "text/plain": [
       "True"
      ]
     },
     "execution_count": 73,
     "metadata": {},
     "output_type": "execute_result"
    }
   ],
   "source": [
    "bool(0.01)"
   ]
  },
  {
   "cell_type": "code",
   "execution_count": 74,
   "id": "be2347ce",
   "metadata": {},
   "outputs": [
    {
     "data": {
      "text/plain": [
       "False"
      ]
     },
     "execution_count": 74,
     "metadata": {},
     "output_type": "execute_result"
    }
   ],
   "source": [
    "bool('')"
   ]
  },
  {
   "cell_type": "code",
   "execution_count": 75,
   "id": "45d8d497",
   "metadata": {},
   "outputs": [
    {
     "data": {
      "text/plain": [
       "True"
      ]
     },
     "execution_count": 75,
     "metadata": {},
     "output_type": "execute_result"
    }
   ],
   "source": [
    "bool('Hello')"
   ]
  },
  {
   "cell_type": "markdown",
   "id": "859c182c",
   "metadata": {},
   "source": [
    "## 기타 자료형"
   ]
  },
  {
   "cell_type": "markdown",
   "id": "0b4b6e22",
   "metadata": {},
   "source": [
    "파이썬은 많은 자료형을 제공한다. \n",
    "정수, 부동소수점, 문자열, 부울값 등 기초 자료형 이외에 파이썬이 함께\n",
    "기본으로 제공하는 자료형은 {numref}`%s장 <ch:collections>`에서 자세히 다룰\n",
    "리스트, 튜플, 사전, 집합 등의 \n",
    "**모음**<font size=\"2\">collection</font> 자료형이 있다.\n",
    "\n",
    "파이썬에 추가 모듈 또는 패키지를 설치하면 더 많은 자료형이 함께 제공된다.\n",
    "그리고 필요에 따라 직접 새로운 자료형을 정의해서 사용할 수 있는 기능도\n",
    "파이썬이 제공한다.\n",
    "자료형을 직접 정의하는 방법은 나중에 \n",
    "{numref}`%s장 <ch:classes>`에서 \n",
    "클래스를 다룰 때 자세히 살펴볼 것이다."
   ]
  },
  {
   "cell_type": "markdown",
   "id": "bbaa7e9f",
   "metadata": {},
   "source": [
    "## 연습문제"
   ]
  },
  {
   "cell_type": "markdown",
   "id": "8fe16c63",
   "metadata": {},
   "source": [
    "참고: [(실습) 기초 자료형](https://colab.research.google.com/github/codingalzi/pybook/blob/master/practices/practice-datatypes.ipynb)"
   ]
  }
 ],
 "metadata": {
  "kernelspec": {
   "display_name": "Python 3 (ipykernel)",
   "language": "python",
   "name": "python3"
  },
  "language_info": {
   "codemirror_mode": {
    "name": "ipython",
    "version": 3
   },
   "file_extension": ".py",
   "mimetype": "text/x-python",
   "name": "python",
   "nbconvert_exporter": "python",
   "pygments_lexer": "ipython3",
   "version": "3.9.13"
  },
  "vscode": {
   "interpreter": {
    "hash": "6c86b3592b6800d985c04531f2c445f0fa6967131b8dd6395a925f7622e55602"
   }
  }
 },
 "nbformat": 4,
 "nbformat_minor": 5
}
