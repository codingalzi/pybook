{
 "cells": [
  {
   "cell_type": "markdown",
   "id": "97dde457",
   "metadata": {
    "slideshow": {
     "slide_type": "slide"
    }
   },
   "source": [
    "# 12장 모음 자료형 2부: 집합, 사전, `range`, 조건제시법"
   ]
  },
  {
   "cell_type": "markdown",
   "id": "840a733d-3076-40f5-b2f4-be02a15dd942",
   "metadata": {
    "slideshow": {
     "slide_type": "slide"
    }
   },
   "source": [
    "### 조건제시법"
   ]
  },
  {
   "cell_type": "markdown",
   "id": "547eec00",
   "metadata": {},
   "source": [
    "- 조건제시법<font size='2'>comprehension</font>: 원소들의 특징을 지정하는 방식으로 집합을 정의하는 방법"
   ]
  },
  {
   "cell_type": "markdown",
   "id": "618fb88e",
   "metadata": {},
   "source": [
    "- 0과 10사이에 있는 홀수들의 제곱을 원소로 갖는 집합 표현법\n",
    "\n",
    "    $$\\{ x^2 \\mid 0 \\le x \\le 10, \\text{ 단 $x$는 홀수} \\}$$"
   ]
  },
  {
   "cell_type": "markdown",
   "id": "63b14c58",
   "metadata": {
    "slideshow": {
     "slide_type": "slide"
    }
   },
   "source": [
    "### 리스트 조건제시법"
   ]
  },
  {
   "cell_type": "markdown",
   "id": "c83233a6",
   "metadata": {
    "slideshow": {
     "slide_type": ""
    }
   },
   "source": [
    "- `for` 반복문을 이용한 리스트 생성"
   ]
  },
  {
   "cell_type": "code",
   "execution_count": 1,
   "id": "e829825b",
   "metadata": {},
   "outputs": [
    {
     "data": {
      "text/plain": [
       "[1, 9, 25, 49, 81]"
      ]
     },
     "execution_count": 1,
     "metadata": {},
     "output_type": "execute_result"
    }
   ],
   "source": [
    "zero2ten_odd = []\n",
    "\n",
    "for x in range(11):\n",
    "    if x%2 == 1:\n",
    "        zero2ten_odd.append(x**2)\n",
    "\n",
    "zero2ten_odd"
   ]
  },
  {
   "cell_type": "markdown",
   "id": "54d5a899",
   "metadata": {
    "slideshow": {
     "slide_type": ""
    }
   },
   "source": [
    "- 리스트 조건제시법 이용"
   ]
  },
  {
   "cell_type": "code",
   "execution_count": 2,
   "id": "f51b20e2",
   "metadata": {},
   "outputs": [
    {
     "data": {
      "text/plain": [
       "[1, 9, 25, 49, 81]"
      ]
     },
     "execution_count": 2,
     "metadata": {},
     "output_type": "execute_result"
    }
   ],
   "source": [
    "zero2ten_odd = [x**2 for x in range(11) if x%2 == 1]\n",
    "zero2ten_odd"
   ]
  },
  {
   "cell_type": "markdown",
   "id": "f5488991",
   "metadata": {
    "slideshow": {
     "slide_type": "slide"
    }
   },
   "source": [
    "### 집합 조건제시법"
   ]
  },
  {
   "cell_type": "markdown",
   "id": "96acf0d6",
   "metadata": {},
   "source": [
    "- 집합을 생성할 때 활용 가능"
   ]
  },
  {
   "cell_type": "code",
   "execution_count": 3,
   "id": "95ea0a35",
   "metadata": {},
   "outputs": [
    {
     "data": {
      "text/plain": [
       "{1, 9, 25, 49, 81}"
      ]
     },
     "execution_count": 3,
     "metadata": {},
     "output_type": "execute_result"
    }
   ],
   "source": [
    "zero2ten_odd_set = {x**2 for x in range(11) if x%2 == 1}\n",
    "zero2ten_odd_set"
   ]
  },
  {
   "cell_type": "markdown",
   "id": "189a66c4",
   "metadata": {
    "slideshow": {
     "slide_type": "slide"
    }
   },
   "source": [
    "### 사전 조건제시법"
   ]
  },
  {
   "cell_type": "markdown",
   "id": "02e9e3d9",
   "metadata": {},
   "source": [
    "- 사전을 생성할 때 활용 가능"
   ]
  },
  {
   "cell_type": "markdown",
   "id": "c737c86f",
   "metadata": {},
   "source": [
    "- 예제: `words` 에 포함된 단어를 키로, 단어의 길이를 값으로 사용하는 항목으로 구성된 사전"
   ]
  },
  {
   "cell_type": "code",
   "execution_count": 4,
   "id": "dc774891",
   "metadata": {},
   "outputs": [
    {
     "data": {
      "text/plain": [
       "['파이썬은', '범용', '프로그래밍', '언어입니다.']"
      ]
     },
     "execution_count": 4,
     "metadata": {},
     "output_type": "execute_result"
    }
   ],
   "source": [
    "words = '파이썬은 범용 프로그래밍 언어입니다.'.split()\n",
    "words"
   ]
  },
  {
   "cell_type": "code",
   "execution_count": 5,
   "id": "2e84f3b0-e452-4426-8bbf-fc74b3d52f96",
   "metadata": {},
   "outputs": [
    {
     "data": {
      "text/plain": [
       "{'파이썬은': 4, '범용': 2, '프로그래밍': 5, '언어입니다.': 6}"
      ]
     },
     "execution_count": 5,
     "metadata": {},
     "output_type": "execute_result"
    }
   ],
   "source": [
    "len_dict = {k : len(k) for k in words}\n",
    "len_dict"
   ]
  },
  {
   "cell_type": "markdown",
   "id": "8ca4fb68",
   "metadata": {
    "slideshow": {
     "slide_type": "slide"
    }
   },
   "source": [
    "- 예제: 0부터 10 사이의 홀수를 키로, 제곱을 값으로 갖는 항목들로 이뤄진 사전"
   ]
  },
  {
   "cell_type": "code",
   "execution_count": 6,
   "id": "da7f6b83",
   "metadata": {},
   "outputs": [
    {
     "data": {
      "text/plain": [
       "{1: 1, 3: 9, 5: 25, 7: 49, 9: 81}"
      ]
     },
     "execution_count": 6,
     "metadata": {},
     "output_type": "execute_result"
    }
   ],
   "source": [
    "odd_squares = {x : x**2 for x in range(11) if x%2 == 1}\n",
    "odd_squares"
   ]
  }
 ],
 "metadata": {
  "celltoolbar": "Slideshow",
  "kernelspec": {
   "display_name": "Python 3 (ipykernel)",
   "language": "python",
   "name": "python3"
  },
  "language_info": {
   "codemirror_mode": {
    "name": "ipython",
    "version": 3
   },
   "file_extension": ".py",
   "mimetype": "text/x-python",
   "name": "python",
   "nbconvert_exporter": "python",
   "pygments_lexer": "ipython3",
   "version": "3.9.13"
  },
  "toc-autonumbering": true
 },
 "nbformat": 4,
 "nbformat_minor": 5
}
