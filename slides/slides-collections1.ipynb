{
 "cells": [
  {
   "cell_type": "markdown",
   "id": "f0a3fe4a",
   "metadata": {
    "slideshow": {
     "slide_type": "slide"
    }
   },
   "source": [
    "# 11장 모음 자료형 1부: 문자열, 리스트, 튜플"
   ]
  },
  {
   "cell_type": "markdown",
   "id": "ad413e5f",
   "metadata": {
    "slideshow": {
     "slide_type": "slide"
    }
   },
   "source": [
    "### 주요 내용"
   ]
  },
  {
   "cell_type": "markdown",
   "id": "2ae0dce0",
   "metadata": {},
   "source": [
    "- 기본 모음 자료형"
   ]
  },
  {
   "cell_type": "markdown",
   "id": "f046299a",
   "metadata": {},
   "source": [
    "- 순차형 모음 자료형(시퀀스): 문자열, 리스트, 튜플"
   ]
  },
  {
   "cell_type": "markdown",
   "id": "6d0dc8c2",
   "metadata": {},
   "source": [
    "- 순차 자료형 해체"
   ]
  },
  {
   "cell_type": "markdown",
   "id": "53cf1a0a",
   "metadata": {},
   "source": [
    "- 유용한 함수: `enumerate()`, `zip()`"
   ]
  },
  {
   "cell_type": "markdown",
   "id": "09abc7e9",
   "metadata": {
    "slideshow": {
     "slide_type": "slide"
    }
   },
   "source": [
    "### 기본 모음 자료형"
   ]
  },
  {
   "cell_type": "markdown",
   "id": "356f3681",
   "metadata": {},
   "source": [
    "- 모음 자료형<font size = \"2\">collection data types</font>: 여러 개의 값을 항목으로 포함하는 값들의 자료형"
   ]
  },
  {
   "cell_type": "markdown",
   "id": "b2c51007",
   "metadata": {},
   "source": [
    "- **컨테이너**<font size=\"2\">container</font>라고도 부름"
   ]
  },
  {
   "cell_type": "markdown",
   "id": "98b14e49",
   "metadata": {},
   "source": [
    "- 파이썬이 제공하는 다섯 가지 기본 모음 자료형\n",
    "\n",
    "    ```\n",
    "    문자열, 리스트, 튜플, 집합, 사전\n",
    "    ```"
   ]
  },
  {
   "cell_type": "markdown",
   "id": "8c676365",
   "metadata": {
    "slideshow": {
     "slide_type": "slide"
    }
   },
   "source": [
    "### 스칼라 자료형"
   ]
  },
  {
   "cell_type": "markdown",
   "id": "46316bbf",
   "metadata": {},
   "source": [
    "- 정수, 부동소수점, 불리언 등은 하나의 값으로만 구성된 자료형"
   ]
  },
  {
   "cell_type": "markdown",
   "id": "aeea4b72",
   "metadata": {
    "slideshow": {
     "slide_type": "slide"
    }
   },
   "source": [
    "### 모음 자료형 구분 1: 순서 존재 여부"
   ]
  },
  {
   "cell_type": "markdown",
   "id": "83fba176",
   "metadata": {},
   "source": [
    "- 순차 자료형: 문자열, 리스트, 튜플"
   ]
  },
  {
   "cell_type": "markdown",
   "id": "adbf2e56",
   "metadata": {},
   "source": [
    "- 비순차 자료형: 집합, 사전"
   ]
  },
  {
   "cell_type": "markdown",
   "id": "f3309fc4",
   "metadata": {
    "slideshow": {
     "slide_type": "slide"
    }
   },
   "source": [
    "### 모음 자료형 구분 2: 변경 허용 여부"
   ]
  },
  {
   "cell_type": "markdown",
   "id": "75d07705",
   "metadata": {},
   "source": [
    "- 가변<font size = \"2\">mutable</font> 자료형: 리스트, 집합, 사전\n",
    "    - **시퀀스**<font size='2'>sequences</font>라고도 함"
   ]
  },
  {
   "cell_type": "markdown",
   "id": "e4793c46-cf15-452f-83bd-abb5c011689f",
   "metadata": {},
   "source": [
    "- 불변<font size = \"2\">immutable</font> 자료형: 문자열, 튜플"
   ]
  },
  {
   "cell_type": "markdown",
   "id": "301bfb69",
   "metadata": {
    "slideshow": {
     "slide_type": "slide"
    }
   },
   "source": [
    "### 불변 자료형: 튜플"
   ]
  },
  {
   "cell_type": "markdown",
   "id": "375145f7",
   "metadata": {},
   "source": [
    "- 튜플은 불변 자료형이라 값을 수정할 수 없다. "
   ]
  },
  {
   "cell_type": "code",
   "execution_count": 1,
   "id": "f6ef0497",
   "metadata": {},
   "outputs": [
    {
     "ename": "TypeError",
     "evalue": "'tuple' object does not support item assignment",
     "output_type": "error",
     "traceback": [
      "\u001b[1;31m---------------------------------------------------------------------------\u001b[0m",
      "\u001b[1;31mTypeError\u001b[0m                                 Traceback (most recent call last)",
      "\u001b[1;32m~\\AppData\\Local\\Temp\\ipykernel_4612\\347940049.py\u001b[0m in \u001b[0;36m<module>\u001b[1;34m\u001b[0m\n\u001b[0;32m      1\u001b[0m \u001b[0ma_tuple\u001b[0m \u001b[1;33m=\u001b[0m \u001b[1;33m(\u001b[0m\u001b[1;36m3\u001b[0m\u001b[1;33m,\u001b[0m \u001b[1;36m15\u001b[0m\u001b[1;33m,\u001b[0m \u001b[1;36m9\u001b[0m\u001b[1;33m,\u001b[0m \u001b[1;36m12\u001b[0m\u001b[1;33m,\u001b[0m \u001b[1;36m7\u001b[0m\u001b[1;33m,\u001b[0m \u001b[1;36m14\u001b[0m\u001b[1;33m,\u001b[0m \u001b[1;36m10\u001b[0m\u001b[1;33m)\u001b[0m\u001b[1;33m\u001b[0m\u001b[1;33m\u001b[0m\u001b[0m\n\u001b[1;32m----> 2\u001b[1;33m \u001b[0ma_tuple\u001b[0m\u001b[1;33m[\u001b[0m\u001b[1;36m0\u001b[0m\u001b[1;33m]\u001b[0m \u001b[1;33m=\u001b[0m \u001b[1;36m100\u001b[0m\u001b[1;33m\u001b[0m\u001b[1;33m\u001b[0m\u001b[0m\n\u001b[0m",
      "\u001b[1;31mTypeError\u001b[0m: 'tuple' object does not support item assignment"
     ]
    }
   ],
   "source": [
    "a_tuple = (3, 15, 9, 12, 7, 14, 10)\n",
    "a_tuple[0] = 100"
   ]
  },
  {
   "cell_type": "markdown",
   "id": "ad1d0ea1",
   "metadata": {
    "slideshow": {
     "slide_type": "slide"
    }
   },
   "source": [
    "### 튜플 주의사항"
   ]
  },
  {
   "cell_type": "markdown",
   "id": "bef4f2c0",
   "metadata": {},
   "source": [
    "- 아래 `tup` 이 가리키는 튜플의 첫번째 항목은 가변 자료형인 리스트 `[1, 2]`임"
   ]
  },
  {
   "cell_type": "code",
   "execution_count": 2,
   "id": "96bb0e00",
   "metadata": {},
   "outputs": [],
   "source": [
    "tup = ([1, 2], 10, 100)"
   ]
  },
  {
   "cell_type": "markdown",
   "id": "a71540da",
   "metadata": {},
   "source": [
    "- 변수 `tup` 과 튜플 사이의 관계는 아래 그림이 참고"
   ]
  },
  {
   "cell_type": "markdown",
   "id": "9c383ad6",
   "metadata": {},
   "source": [
    "<div align=\"center\">\n",
    "    <img src=\"https://raw.githubusercontent.com/codingalzi/pybook/master/jupyter-book/images/hj617kim/ch04/tuple01.png\" style=\"width:275px;\">\n",
    "</div>"
   ]
  },
  {
   "cell_type": "markdown",
   "id": "20c52028",
   "metadata": {
    "slideshow": {
     "slide_type": "slide"
    }
   },
   "source": [
    "- 아래와 같이 첫번째 항목 자체는 변경이 가능"
   ]
  },
  {
   "cell_type": "code",
   "execution_count": 3,
   "id": "b57d6c9e",
   "metadata": {},
   "outputs": [
    {
     "data": {
      "text/plain": [
       "([1, 2, 3], 10, 100)"
      ]
     },
     "execution_count": 3,
     "metadata": {},
     "output_type": "execute_result"
    }
   ],
   "source": [
    "tup[0].append(3)\n",
    "tup"
   ]
  },
  {
   "cell_type": "markdown",
   "id": "a2afcb06-2d96-4368-b6e9-0c1522a8978d",
   "metadata": {},
   "source": [
    "<div align=\"center\">\n",
    "    <img src=\"https://raw.githubusercontent.com/codingalzi/pybook/master/jupyter-book/images/hj617kim/ch04/tuple02.png\" style=\"width:300px;\">\n",
    "</div>"
   ]
  },
  {
   "cell_type": "markdown",
   "id": "0bacab05",
   "metadata": {
    "slideshow": {
     "slide_type": "slide"
    }
   },
   "source": [
    "###  순차 자료형 해체"
   ]
  },
  {
   "cell_type": "code",
   "execution_count": 4,
   "id": "4ce29e56",
   "metadata": {},
   "outputs": [
    {
     "data": {
      "text/plain": [
       "'1'"
      ]
     },
     "execution_count": 4,
     "metadata": {},
     "output_type": "execute_result"
    }
   ],
   "source": [
    "a, b = \"12\"\n",
    "a"
   ]
  },
  {
   "cell_type": "code",
   "execution_count": 5,
   "id": "7e55119c",
   "metadata": {},
   "outputs": [
    {
     "data": {
      "text/plain": [
       "5"
      ]
     },
     "execution_count": 5,
     "metadata": {},
     "output_type": "execute_result"
    }
   ],
   "source": [
    "c, d, e = [3, 4, 5]\n",
    "e"
   ]
  },
  {
   "cell_type": "code",
   "execution_count": 6,
   "id": "8c32026d",
   "metadata": {},
   "outputs": [
    {
     "data": {
      "text/plain": [
       "7"
      ]
     },
     "execution_count": 6,
     "metadata": {},
     "output_type": "execute_result"
    }
   ],
   "source": [
    "f, g = (6, 7)\n",
    "g"
   ]
  },
  {
   "cell_type": "markdown",
   "id": "dd89530f",
   "metadata": {
    "slideshow": {
     "slide_type": "slide"
    }
   },
   "source": [
    "### 밑줄 기호 `_` 활용"
   ]
  },
  {
   "cell_type": "code",
   "execution_count": 7,
   "id": "ce7517ec",
   "metadata": {},
   "outputs": [
    {
     "name": "stdout",
     "output_type": "stream",
     "text": [
      "8\n"
     ]
    }
   ],
   "source": [
    "c, _, e = [3, 4, 5]\n",
    "print(c + e)"
   ]
  },
  {
   "cell_type": "markdown",
   "id": "23840bcd",
   "metadata": {
    "slideshow": {
     "slide_type": "slide"
    }
   },
   "source": [
    "### 주의사항"
   ]
  },
  {
   "cell_type": "markdown",
   "id": "fde70851",
   "metadata": {},
   "source": [
    "- 항목의 개수와 변수의 개수가 일치하지 않으면 오류가 발생"
   ]
  },
  {
   "cell_type": "code",
   "execution_count": 8,
   "id": "88d86bdf",
   "metadata": {},
   "outputs": [
    {
     "ename": "ValueError",
     "evalue": "too many values to unpack (expected 2)",
     "output_type": "error",
     "traceback": [
      "\u001b[1;31m---------------------------------------------------------------------------\u001b[0m",
      "\u001b[1;31mValueError\u001b[0m                                Traceback (most recent call last)",
      "\u001b[1;32m~\\AppData\\Local\\Temp\\ipykernel_4612\\1486361304.py\u001b[0m in \u001b[0;36m<module>\u001b[1;34m\u001b[0m\n\u001b[1;32m----> 1\u001b[1;33m \u001b[0mc\u001b[0m\u001b[1;33m,\u001b[0m \u001b[0me\u001b[0m \u001b[1;33m=\u001b[0m \u001b[1;33m[\u001b[0m\u001b[1;36m3\u001b[0m\u001b[1;33m,\u001b[0m \u001b[1;36m4\u001b[0m\u001b[1;33m,\u001b[0m \u001b[1;36m5\u001b[0m\u001b[1;33m]\u001b[0m\u001b[1;33m\u001b[0m\u001b[1;33m\u001b[0m\u001b[0m\n\u001b[0m",
      "\u001b[1;31mValueError\u001b[0m: too many values to unpack (expected 2)"
     ]
    }
   ],
   "source": [
    "c, e = [3, 4, 5]"
   ]
  },
  {
   "cell_type": "markdown",
   "id": "d66dce6d",
   "metadata": {
    "slideshow": {
     "slide_type": "slide"
    }
   },
   "source": [
    "### 별표 기호 `*` 활용"
   ]
  },
  {
   "cell_type": "markdown",
   "id": "efe94f61",
   "metadata": {},
   "source": [
    "- 앞에 몇 개의 값에만 변수 할당에 사용하고 나머지는 하나의 리스트로 묶어서 퉁쳐버릴 수 있음"
   ]
  },
  {
   "cell_type": "code",
   "execution_count": 9,
   "id": "7377fbec",
   "metadata": {},
   "outputs": [
    {
     "data": {
      "text/plain": [
       "[3, 4, 5]"
      ]
     },
     "execution_count": 9,
     "metadata": {},
     "output_type": "execute_result"
    }
   ],
   "source": [
    "values = (1, 2, 3, 4, 5)\n",
    "a, b, *rest = values\n",
    "rest"
   ]
  },
  {
   "cell_type": "markdown",
   "id": "b67c3db5",
   "metadata": {
    "slideshow": {
     "slide_type": "slide"
    }
   },
   "source": [
    "- 나머지 항목들을 무시하고 싶다면, 별표와 밑줄을 함께 사용"
   ]
  },
  {
   "cell_type": "code",
   "execution_count": 10,
   "id": "c5b34d57",
   "metadata": {},
   "outputs": [
    {
     "data": {
      "text/plain": [
       "1"
      ]
     },
     "execution_count": 10,
     "metadata": {},
     "output_type": "execute_result"
    }
   ],
   "source": [
    "a, b, *_ = values\n",
    "a"
   ]
  },
  {
   "cell_type": "markdown",
   "id": "35b4d84b",
   "metadata": {
    "slideshow": {
     "slide_type": "slide"
    }
   },
   "source": [
    "## 순차 자료형에 유용한 함수"
   ]
  },
  {
   "cell_type": "markdown",
   "id": "2760d401",
   "metadata": {
    "slideshow": {
     "slide_type": "slide"
    }
   },
   "source": [
    "### `enumerate()` 함수"
   ]
  },
  {
   "cell_type": "markdown",
   "id": "fef06b3e",
   "metadata": {},
   "source": [
    "- 리스트의 항목과 인덱스를 쌍으로 갖는 모음 자료형의 객체 생성"
   ]
  },
  {
   "cell_type": "code",
   "execution_count": 11,
   "id": "9d005c5c",
   "metadata": {},
   "outputs": [],
   "source": [
    "some_list = ['foo', 'bar', 'baz', 'pyt', 'thon']"
   ]
  },
  {
   "cell_type": "code",
   "execution_count": 12,
   "id": "8a83c650",
   "metadata": {},
   "outputs": [
    {
     "data": {
      "text/plain": [
       "<enumerate at 0x1d8b38c6c00>"
      ]
     },
     "execution_count": 12,
     "metadata": {},
     "output_type": "execute_result"
    }
   ],
   "source": [
    "enumerate(some_list)"
   ]
  },
  {
   "cell_type": "code",
   "execution_count": 13,
   "id": "dcd7d718",
   "metadata": {},
   "outputs": [
    {
     "data": {
      "text/plain": [
       "[(0, 'foo'), (1, 'bar'), (2, 'baz'), (3, 'pyt'), (4, 'thon')]"
      ]
     },
     "execution_count": 13,
     "metadata": {},
     "output_type": "execute_result"
    }
   ],
   "source": [
    "list(enumerate(some_list))"
   ]
  },
  {
   "cell_type": "markdown",
   "id": "d7541659",
   "metadata": {
    "slideshow": {
     "slide_type": "slide"
    }
   },
   "source": [
    "### `enumerate()` 함수 활용 예제 1"
   ]
  },
  {
   "cell_type": "markdown",
   "id": "bec52c6a",
   "metadata": {},
   "source": [
    "- 짝수 인덱스의 항목만 추출"
   ]
  },
  {
   "cell_type": "code",
   "execution_count": 14,
   "id": "274ed66f",
   "metadata": {},
   "outputs": [
    {
     "name": "stdout",
     "output_type": "stream",
     "text": [
      "foo\n",
      "baz\n",
      "thon\n"
     ]
    }
   ],
   "source": [
    "for i, v in enumerate(some_list):\n",
    "    if i % 2 == 0:\n",
    "        print(v)"
   ]
  },
  {
   "cell_type": "markdown",
   "id": "a526a056",
   "metadata": {
    "slideshow": {
     "slide_type": "slide"
    }
   },
   "source": [
    "### `enumerate()` 함수 활용 예제 2"
   ]
  },
  {
   "cell_type": "markdown",
   "id": "b9ee4a85",
   "metadata": {},
   "source": [
    "- `(항목, 인덱스)` 형식의 튜플들의 리스트 생성"
   ]
  },
  {
   "cell_type": "code",
   "execution_count": 15,
   "id": "b1f949c0",
   "metadata": {},
   "outputs": [
    {
     "data": {
      "text/plain": [
       "[('foo', 0), ('bar', 1), ('baz', 2), ('pyt', 3), ('thon', 4)]"
      ]
     },
     "execution_count": 15,
     "metadata": {},
     "output_type": "execute_result"
    }
   ],
   "source": [
    "mapping = []\n",
    "\n",
    "for i, v in enumerate(some_list):\n",
    "    mapping.append((v, i))\n",
    "\n",
    "mapping"
   ]
  },
  {
   "cell_type": "markdown",
   "id": "f26977cf",
   "metadata": {
    "slideshow": {
     "slide_type": "slide"
    }
   },
   "source": [
    "### `zip()` 함수"
   ]
  },
  {
   "cell_type": "markdown",
   "id": "eb36ae32",
   "metadata": {},
   "source": [
    "- 문자열, 리스트, 튜플 등 순차 자료형 여러 개를 묶어 하나의 값 생성\n",
    "- 각 순차 자료형의 값에 사용된 순서를 그래도 반영"
   ]
  },
  {
   "cell_type": "code",
   "execution_count": 16,
   "id": "5ac7dcf4-ca1d-4c17-976b-f6c938dae73d",
   "metadata": {},
   "outputs": [
    {
     "data": {
      "text/plain": [
       "<zip at 0x1d8b38c0180>"
      ]
     },
     "execution_count": 16,
     "metadata": {},
     "output_type": "execute_result"
    }
   ],
   "source": [
    "zip(\"abc\", [1, 2, 3])"
   ]
  },
  {
   "cell_type": "code",
   "execution_count": 17,
   "id": "8acf22d5",
   "metadata": {},
   "outputs": [
    {
     "data": {
      "text/plain": [
       "[('a', 1), ('b', 2), ('c', 3)]"
      ]
     },
     "execution_count": 17,
     "metadata": {},
     "output_type": "execute_result"
    }
   ],
   "source": [
    "list(zip(\"abc\", [1, 2, 3]))"
   ]
  },
  {
   "cell_type": "markdown",
   "id": "61851fbb",
   "metadata": {
    "slideshow": {
     "slide_type": "slide"
    }
   },
   "source": [
    "- 여러 개의 모음 자료형을 짝짓는 것도 가능\n",
    "- 길이가 다르면 가장 짧은 길이까지만 짝지음"
   ]
  },
  {
   "cell_type": "code",
   "execution_count": 18,
   "id": "00a73657",
   "metadata": {},
   "outputs": [
    {
     "data": {
      "text/plain": [
       "[('a', 1, 5), ('b', 2, 10), ('c', 3, 15)]"
      ]
     },
     "execution_count": 18,
     "metadata": {},
     "output_type": "execute_result"
    }
   ],
   "source": [
    "list(zip(\"abcdefgh\",(1, 2, 3, 4, 5), [5, 10, 15]))"
   ]
  },
  {
   "cell_type": "markdown",
   "id": "af73a679",
   "metadata": {
    "slideshow": {
     "slide_type": "slide"
    }
   },
   "source": [
    "### `zip()` 함수 활용 예제: 동시 반복"
   ]
  },
  {
   "cell_type": "code",
   "execution_count": 19,
   "id": "e129b5b2",
   "metadata": {},
   "outputs": [
    {
     "name": "stdout",
     "output_type": "stream",
     "text": [
      "문자: a\n",
      "숫자: 0\n",
      "문자: b\n",
      "숫자: 1\n",
      "문자: c\n",
      "숫자: 2\n"
     ]
    }
   ],
   "source": [
    "letters = ['a', 'b', 'c']\n",
    "numbers = [0, 1, 2]\n",
    "for l, n in zip(letters, numbers):\n",
    "    print(f'문자: {l}')\n",
    "    print(f'숫자: {n}')"
   ]
  }
 ],
 "metadata": {
  "celltoolbar": "Slideshow",
  "kernelspec": {
   "display_name": "Python 3 (ipykernel)",
   "language": "python",
   "name": "python3"
  },
  "language_info": {
   "codemirror_mode": {
    "name": "ipython",
    "version": 3
   },
   "file_extension": ".py",
   "mimetype": "text/x-python",
   "name": "python",
   "nbconvert_exporter": "python",
   "pygments_lexer": "ipython3",
   "version": "3.10.6"
  },
  "toc-autonumbering": true,
  "vscode": {
   "interpreter": {
    "hash": "6c86b3592b6800d985c04531f2c445f0fa6967131b8dd6395a925f7622e55602"
   }
  }
 },
 "nbformat": 4,
 "nbformat_minor": 5
}
