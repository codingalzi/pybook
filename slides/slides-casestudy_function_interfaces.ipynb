{
 "cells": [
  {
   "cell_type": "markdown",
   "id": "1d901e8a",
   "metadata": {
    "slideshow": {
     "slide_type": "slide"
    }
   },
   "source": [
    "# 7. 사례 연구: 함수 인터페이스"
   ]
  },
  {
   "cell_type": "markdown",
   "id": "6748a08a",
   "metadata": {
    "slideshow": {
     "slide_type": "slide"
    }
   },
   "source": [
    "## 개요"
   ]
  },
  {
   "cell_type": "markdown",
   "id": "3edc344c",
   "metadata": {},
   "source": [
    "- `turtle` 모듈 활용: 2차원 컴퓨터 그래픽스 지원"
   ]
  },
  {
   "cell_type": "markdown",
   "id": "e15f4846",
   "metadata": {},
   "source": [
    "- 반복문과 함수의 활용"
   ]
  },
  {
   "cell_type": "markdown",
   "id": "cecb5447",
   "metadata": {},
   "source": [
    "- 객체 지향 프로그래밍(OOP) 맛보기"
   ]
  },
  {
   "cell_type": "markdown",
   "id": "e9594930",
   "metadata": {
    "slideshow": {
     "slide_type": "slide"
    }
   },
   "source": [
    "## 7.1. `turtle` 모듈"
   ]
  },
  {
   "cell_type": "markdown",
   "id": "96a2687d",
   "metadata": {
    "slideshow": {
     "slide_type": "slide"
    }
   },
   "source": [
    "```python\n",
    "import turtle\n",
    "\n",
    "wn = turtle.Screen()\n",
    "bob = turtle.Turtle()\n",
    "\n",
    "bob.forward(150)\n",
    "bob.left(90)    \n",
    "bob.forward(75) \n",
    "```\n",
    "\n",
    "<div align=\"center\" border=\"1px\"><img src=\"https://raw.githubusercontent.com/codingalzi/pybook/master/jupyter-book/images/turtle01.png\" width=\"300\"/></div>"
   ]
  },
  {
   "cell_type": "markdown",
   "id": "b1d9dea9",
   "metadata": {
    "slideshow": {
     "slide_type": "slide"
    }
   },
   "source": [
    "### Trinket 사이트 활용"
   ]
  },
  {
   "cell_type": "markdown",
   "id": "74a2af0b",
   "metadata": {},
   "source": [
    "- 구글 코랩 사용 불가\n",
    "\n",
    "- [트링킷<font size=\"2\">Trinket</font>](https://trinket.io)이 거북이 그래픽스 지원"
   ]
  },
  {
   "cell_type": "markdown",
   "id": "5e3adee3",
   "metadata": {
    "slideshow": {
     "slide_type": ""
    }
   },
   "source": [
    "<div align=\"center\" border=\"1px\"><img src=\"https://raw.githubusercontent.com/codingalzi/pybook/master/jupyter-book/images/trinket.png\" width=\"800\"/></div>"
   ]
  },
  {
   "cell_type": "markdown",
   "id": "1ddfdf61",
   "metadata": {
    "slideshow": {
     "slide_type": "slide"
    }
   },
   "source": [
    "### 캔버스와 거북이 객체"
   ]
  },
  {
   "cell_type": "markdown",
   "id": "3c39dfa4",
   "metadata": {},
   "source": [
    "- `turtle.Screen()`: 캔버스 객체를 하나 생성. 하나만 생성 가능."
   ]
  },
  {
   "cell_type": "markdown",
   "id": "53c32c85",
   "metadata": {},
   "source": [
    "- `Turtle` 클래스: 거북이 객체(인스턴스) 생성. 여러 개 생성 가능."
   ]
  },
  {
   "cell_type": "markdown",
   "id": "0065dda2",
   "metadata": {
    "slideshow": {
     "slide_type": "slide"
    }
   },
   "source": [
    "### 거북이 객체 주요 메서드"
   ]
  },
  {
   "cell_type": "markdown",
   "id": "aff153f9",
   "metadata": {},
   "source": [
    "| 메서드 | 단축어 | 의미 |\n",
    "| :---   | :---   | :--- |\n",
    "| forward() | fd()    | 전진 |\n",
    "| left()   | lt()     | 반시계방향 회전 |\n",
    "| backward() | bd()   | 후진 |\n",
    "| right()  | rt()     | 시계방향 회전 |\n",
    "| pendown() | pd()/down() | 펜 내리기 |\n",
    "| penup() | pu()/up() | 펜 들기 |\n",
    "| showturtle() | st() | 거북이 보이기 |\n",
    "| hideturtle() | ht() | 거북이 숨기기 |"
   ]
  },
  {
   "cell_type": "markdown",
   "id": "d26e1be0",
   "metadata": {
    "slideshow": {
     "slide_type": "slide"
    }
   },
   "source": [
    "## 7.2. 반복문 활용"
   ]
  },
  {
   "cell_type": "markdown",
   "id": "5b79d898",
   "metadata": {
    "slideshow": {
     "slide_type": "slide"
    }
   },
   "source": [
    "### 복붙 보단 반복문!"
   ]
  },
  {
   "cell_type": "markdown",
   "id": "6c16f2ac",
   "metadata": {},
   "source": [
    "- 복붙\n",
    "\n",
    "    ```python\n",
    "    bob.fd(100)\n",
    "    bob.lt(90)\n",
    "    bob.fd(100)\n",
    "    bob.lt(90)\n",
    "    bob.fd(100)\n",
    "    bob.lt(90)\n",
    "    bob.fd(100)\n",
    "    bob.lt(90)\n",
    "    ```"
   ]
  },
  {
   "cell_type": "markdown",
   "id": "2309c6e1",
   "metadata": {},
   "source": [
    "- for 반복문\n",
    "\n",
    "    ```python\n",
    "    for i in range(4):\n",
    "        bob.fd(100)\n",
    "        bob.lt(90)\n",
    "    ```"
   ]
  },
  {
   "cell_type": "markdown",
   "id": "90efcc01",
   "metadata": {
    "slideshow": {
     "slide_type": "slide"
    }
   },
   "source": [
    "### 예제: 여러 개의 거북이 객체 활용"
   ]
  },
  {
   "cell_type": "markdown",
   "id": "7a355073",
   "metadata": {},
   "source": [
    "- 두 개의 Turtle 클래스의 인스턴스 사용\n",
    "- 두 객체의 속성 구분 가능"
   ]
  },
  {
   "cell_type": "markdown",
   "id": "ef378b90",
   "metadata": {
    "slideshow": {
     "slide_type": "slide"
    }
   },
   "source": [
    "```python\n",
    "import turtle\n",
    "\n",
    "wn = turtle.Screen()\n",
    "wn.bgcolor(\"lightyellow\") \n",
    "# wn.title(\"Hello, Bob and Alice!\")\n",
    "\n",
    "# bob 생성\n",
    "bob = turtle.Turtle()\n",
    "\n",
    "# alice 생성\n",
    "alice = turtle.Turtle()\n",
    "alice.shape(\"turtle\")\n",
    "alice.color(\"red\")   \n",
    "\n",
    "alice.penup()        \n",
    "alice.backward(100)  \n",
    "alice.pendown()      작함\n",
    "\n",
    "# bob 으로 사각형 그리기\n",
    "for i in range(4):\n",
    "    bob.forward(100)\n",
    "    bob.left(90)\n",
    "\n",
    "# alice로 삼각형 그리기\n",
    "for i in range(3):\n",
    "    alice.forward(100)\n",
    "    alice.right(120) \n",
    "\n",
    "# wn.mainloop()      \n",
    "```"
   ]
  },
  {
   "cell_type": "markdown",
   "id": "dda21ffe",
   "metadata": {
    "slideshow": {
     "slide_type": "slide"
    }
   },
   "source": [
    "<div align=\"center\" border=\"1px\"><img src=\"https://raw.githubusercontent.com/codingalzi/pybook/master/jupyter-book/images/turtle05.png\" width=\"500\"/></div>"
   ]
  },
  {
   "cell_type": "markdown",
   "id": "021ccb65",
   "metadata": {
    "slideshow": {
     "slide_type": "slide"
    }
   },
   "source": [
    "## 7.3. 함수화와 일반화"
   ]
  },
  {
   "cell_type": "markdown",
   "id": "3c0823e0",
   "metadata": {
    "slideshow": {
     "slide_type": "slide"
    }
   },
   "source": [
    "### 함수 구현 과정"
   ]
  },
  {
   "cell_type": "markdown",
   "id": "05a31621",
   "metadata": {},
   "source": [
    "* 함수를 사용하지 않는 간단한 프로그램 작성"
   ]
  },
  {
   "cell_type": "markdown",
   "id": "47ae18b4",
   "metadata": {},
   "source": [
    "* 함수화: 작성한 프로그램이 잘 작동하면 하나의 함수로 선언"
   ]
  },
  {
   "cell_type": "markdown",
   "id": "5d77939d",
   "metadata": {},
   "source": [
    "* 일반화: 적절한 매개변수<font size='2'>parameters</font>를 추가하여 함수의 기능 확장"
   ]
  },
  {
   "cell_type": "markdown",
   "id": "8f4d92c3",
   "metadata": {},
   "source": [
    "* 원하는 수준의 함수를 얻을 때까지 위 과정 반복"
   ]
  },
  {
   "cell_type": "markdown",
   "id": "3a7caaa5",
   "metadata": {
    "slideshow": {
     "slide_type": "slide"
    }
   },
   "source": [
    "### 함수화 예제"
   ]
  },
  {
   "cell_type": "markdown",
   "id": "7e34a0ea",
   "metadata": {},
   "source": [
    "- 사각형을 그리는 거북이를 지정하는 함수\n",
    "\n",
    "```python\n",
    "def square(t):\n",
    "    for i in range(4):\n",
    "        t.fd(100)\n",
    "        t.lt(90)\n",
    "\n",
    "square(bob)\n",
    "```\n",
    "\n",
    "<div align=\"center\" border=\"1px\"><img src=\"https://raw.githubusercontent.com/codingalzi/pybook/master/jupyter-book/images/turtle02.png\" width=\"300\"/></div>"
   ]
  },
  {
   "cell_type": "markdown",
   "id": "a68dfd1f",
   "metadata": {
    "slideshow": {
     "slide_type": "slide"
    }
   },
   "source": [
    "### 일반화 예제: 길이 매개변수 추가"
   ]
  },
  {
   "cell_type": "markdown",
   "id": "d00b7717",
   "metadata": {
    "slideshow": {
     "slide_type": ""
    }
   },
   "source": [
    "```python\n",
    "def square(t, length):\n",
    "    for i in range(4):\n",
    "        t.fd(length)\n",
    "        t.lt(90)\n",
    "```\n",
    "\n",
    "```python\n",
    " square(bob, 100)\n",
    "```\n",
    "\n",
    "```python\n",
    " square(bob, 50)\n",
    "```"
   ]
  },
  {
   "cell_type": "markdown",
   "id": "e3f9756e",
   "metadata": {
    "slideshow": {
     "slide_type": "slide"
    }
   },
   "source": [
    "### 함수화 예제: 다각형 그리기"
   ]
  },
  {
   "cell_type": "markdown",
   "id": "258d96e9",
   "metadata": {},
   "source": [
    "```python\n",
    "def polygon(t, n, length):\n",
    "    angle = 360 / n\n",
    "    for i in range(n):\n",
    "        t.fd(length)\n",
    "        t.lt(angle)\n",
    "\n",
    "polygon(bob, 7, 70)\n",
    "```\n",
    "\n",
    "<div align=\"center\" border=\"1px\"><img src=\"https://raw.githubusercontent.com/codingalzi/pybook/master/jupyter-book/images/turtle03.png\" width=\"300\"/></div>"
   ]
  },
  {
   "cell_type": "markdown",
   "id": "a9015c6c",
   "metadata": {
    "slideshow": {
     "slide_type": "slide"
    }
   },
   "source": [
    "### 함수화 예제: 키워드 인자 활용"
   ]
  },
  {
   "cell_type": "markdown",
   "id": "7af6d006",
   "metadata": {},
   "source": [
    "```python\n",
    "def polygon(t, n=7, length=70):\n",
    "    angle = 360 / n\n",
    "\n",
    "    for i in range(n):\n",
    "        t.fd(length)\n",
    "        t.lt(angle)\n",
    "```\n",
    "\n",
    "```python\n",
    " polygon(bob)\n",
    "```"
   ]
  },
  {
   "cell_type": "markdown",
   "id": "02034838",
   "metadata": {
    "slideshow": {
     "slide_type": "slide"
    }
   },
   "source": [
    "## 7.4. 함수 인터페이스"
   ]
  },
  {
   "cell_type": "markdown",
   "id": "75690b0c",
   "metadata": {
    "slideshow": {
     "slide_type": "slide"
    }
   },
   "source": [
    "### 함수 사용법 요약문"
   ]
  },
  {
   "cell_type": "markdown",
   "id": "7d09cb22",
   "metadata": {},
   "source": [
    "- 어떤 매개변수 사용?"
   ]
  },
  {
   "cell_type": "markdown",
   "id": "4359e961",
   "metadata": {},
   "source": [
    "- 함수의 기능, 즉 함수가 하는 일은?"
   ]
  },
  {
   "cell_type": "markdown",
   "id": "3b5f18c9",
   "metadata": {},
   "source": [
    "- 함수의 반환값은?"
   ]
  },
  {
   "cell_type": "markdown",
   "id": "620213db",
   "metadata": {
    "slideshow": {
     "slide_type": "slide"
    }
   },
   "source": [
    "### 예제: 원의 크기가 반지름에 의존"
   ]
  },
  {
   "cell_type": "markdown",
   "id": "bd7cf8eb",
   "metadata": {},
   "source": [
    "```python\n",
    "def circle(t, r):\n",
    "    circumference = 2 * math.pi * r\n",
    "    n = 50                         \n",
    "    length = circumference / n     \n",
    "    polygon(t, n, length)          \n",
    "\n",
    "circle(bob, 200)\n",
    "```\n",
    "\n",
    "<div align=\"center\" border=\"1px\"><img src=\"https://raw.githubusercontent.com/codingalzi/pybook/master/jupyter-book/images/turtle04.png\" width=\"300\"/></div>"
   ]
  },
  {
   "cell_type": "markdown",
   "id": "71a1317f",
   "metadata": {
    "slideshow": {
     "slide_type": "slide"
    }
   },
   "source": [
    "### 원의 크기 일정하게 유지하기"
   ]
  },
  {
   "cell_type": "markdown",
   "id": "5616f4b6",
   "metadata": {},
   "source": [
    "```python\n",
    "def circle(t, r):\n",
    "    circumference = 2 * math.pi * r\n",
    "    \n",
    "    n = int(circumference / 3) + 3  # 원둘레의 1/3 정도에 해당하는 선분 수\n",
    "    length = circumference / n      # 약 3 정도의 값\n",
    "    \n",
    "    polygon(t, n, length)\n",
    "    \n",
    "    return n\n",
    "```"
   ]
  },
  {
   "cell_type": "markdown",
   "id": "70899250",
   "metadata": {
    "slideshow": {
     "slide_type": "slide"
    }
   },
   "source": [
    "## 7.5. 리팩토링: 코드 재구성"
   ]
  },
  {
   "cell_type": "markdown",
   "id": "5624ca0a",
   "metadata": {
    "slideshow": {
     "slide_type": "slide"
    }
   },
   "source": [
    "### 원과 호"
   ]
  },
  {
   "cell_type": "markdown",
   "id": "6c7965e8",
   "metadata": {
    "slideshow": {
     "slide_type": ""
    }
   },
   "source": [
    "<div align=\"center\" border=\"1px\"><img src=\"https://raw.githubusercontent.com/codingalzi/pybook/master/jupyter-book/images/circle_slices.png\" width=\"300\"/></div>"
   ]
  },
  {
   "cell_type": "markdown",
   "id": "9c21f577",
   "metadata": {},
   "source": [
    "- 호를 새로 구현\n",
    "\n",
    "```python\n",
    "def arc(t, r, angle):\n",
    "    arc_length = 2 * math.pi * r * angle / 360\n",
    "    n = int(arc_length / 3) + 1 \n",
    "    step_length = arc_length / n\n",
    "    step_angle = angle / n      \n",
    "\n",
    "    for i in range(n):\n",
    "        t.fd(step_length)\n",
    "        t.lt(step_angle)\n",
    "```"
   ]
  },
  {
   "cell_type": "markdown",
   "id": "1259495b",
   "metadata": {
    "slideshow": {
     "slide_type": "slide"
    }
   },
   "source": [
    "### 보조 함수 활용"
   ]
  },
  {
   "cell_type": "markdown",
   "id": "0f3ff070",
   "metadata": {
    "slideshow": {
     "slide_type": ""
    }
   },
   "source": [
    "```python\n",
    "def polyline(t, n, length, angle):\n",
    "    for i in range(n):\n",
    "        t.fd(length)\n",
    "        t.lt(angle)\n",
    "\n",
    "def polygon(t, n, length):\n",
    "    angle = 360.0 / n\n",
    "\n",
    "    polyline(t, n, length, angle)\n",
    "\n",
    "def arc(t, r, angle):\n",
    "    arc_length = 2 * math.pi * r * angle / 360\n",
    "    n = int(arc_length / 3) + 1\n",
    "    step_length = arc_length / n\n",
    "    step_angle = float(angle) / n\n",
    "    \n",
    "    polyline(t, n, step_length, step_angle)\n",
    "\n",
    "def circle(t, r):\n",
    "    arc(t, r, 360)\n",
    "```"
   ]
  },
  {
   "cell_type": "markdown",
   "id": "c045b266",
   "metadata": {
    "slideshow": {
     "slide_type": "slide"
    }
   },
   "source": [
    "## 7.6. 독스트링: 문서화 문자열"
   ]
  },
  {
   "cell_type": "markdown",
   "id": "59465899",
   "metadata": {},
   "source": [
    "```python\n",
    "def polyline(t, n, length, angle):\n",
    "    \"\"\"t: 거북이 객체\n",
    "    n: 선분 그리기 반복 횟수\n",
    "    length: 선분의 길이\n",
    "    angle: 회전 각도. 즉, 두 선분 사이의 각도\n",
    "    \n",
    "    지정된 크기와 각도를 이용하여 거북이 t 가 n 개의 선분을 그린다.\n",
    "    \"\"\"    \n",
    "\n",
    "    for i in range(n):\n",
    "        t.fd(length)\n",
    "        t.lt(angle)\n",
    "```\n",
    "\n",
    "```python\n",
    "help(polyline)\n",
    "```\n",
    "```python\n",
    "Help on fuction polyline in module __main__:\n",
    "    \n",
    "polyline(t, n, length, angle)\n",
    "t: 거북이 객체\n",
    "n: 선분 그리기 반복 횟수\n",
    "length: 선분의 길이\n",
    "angle: 회전 각도. 즉, 두 선분 사이의 각도\n",
    "\n",
    "지정된 크기와 각도를 이용하여 거북이 t 가 n 개의 선분을 그린다.\n",
    "```"
   ]
  }
 ],
 "metadata": {
  "celltoolbar": "Slideshow",
  "kernelspec": {
   "display_name": "Python 3 (ipykernel)",
   "language": "python",
   "name": "python3"
  },
  "language_info": {
   "codemirror_mode": {
    "name": "ipython",
    "version": 3
   },
   "file_extension": ".py",
   "mimetype": "text/x-python",
   "name": "python",
   "nbconvert_exporter": "python",
   "pygments_lexer": "ipython3",
   "version": "3.10.6"
  }
 },
 "nbformat": 4,
 "nbformat_minor": 5
}
