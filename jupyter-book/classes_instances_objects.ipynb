{
 "cells": [
  {
   "cell_type": "markdown",
   "id": "3efee1fe",
   "metadata": {},
   "source": [
    "(ch:classes_instances_objects)=\n",
    "# 클래스, 인스턴스, 객체"
   ]
  },
  {
   "cell_type": "markdown",
   "id": "059cfda7",
   "metadata": {},
   "source": [
    "**감사의 글** \n",
    "\n",
    "아래 내용은 [(유튜브) Python Game Coding: Introduction to Collision Detection](https://www.youtube.com/watch?v=bFURdsszto0)의 내용을 참고합니다.\n",
    "자료의 공유를 허가한 [TokyoEdtech](https://www.youtube.com/c/TokyoEdTech)에게 감사드립니다."
   ]
  },
  {
   "cell_type": "markdown",
   "id": "17d7b13a",
   "metadata": {},
   "source": [
    "**주요 내용**\n",
    "\n",
    "파이썬은 객체 지향 프로그래밍 언어이다.\n",
    "객체 지향 프로그래밍 언어의 가장 큰 장점 중의 하나로,\n",
    "사용자가 직접 필요한 자료형을 클래스로 정의하고 객체를 생성하여 활용할 수 있다."
   ]
  },
  {
   "cell_type": "markdown",
   "id": "eba16e26",
   "metadata": {},
   "source": [
    "**준비사항**\n",
    "\n",
    "여기서 사용하는 코드는 두 객체의 충돌을 감지하는 다양한 방법을 보여주며,\n",
    "[TokyoEdtech의 깃허브](https://github.com/wynand1004/Projects/tree/master/Collision%20Detection)에서\n",
    "제공하는 코드를 활용한다.\n",
    "`turtle` 모듈을 사용하기에 구글 코랩에서는 실행되지 않는다.\n",
    "대신 [레플릿](https://replit.com/~) 이용을 권장한다. \n",
    "여기서 사용하는 코드 또한\n",
    "[(레플릿) 충돌 감지](https://replit.com/@codingrg/collisiondetection#main.py)에서\n",
    "확인하고 직접 실행할 수 있다.\n",
    "\n",
    "주의사항: 레플릿 사이트의 특성상 주 실행파일의 이름은 `main.py` 이어야 한다.\n",
    "\n",
    "오프라인 환경에서 실행하려면 \n",
    "먼저 아래 코드의 실행에 필요한 [이미지 파일과 소스코드](https://github.com/codingalzi/pybook/raw/master/jupyter-book/codes/collision_detection.zip)를 다운로드 한다.\n",
    "다운로드한 파일의 압축을 푼 다음에 `collision_dection.py` 파일을 VS Code 편집기 등에서\n",
    "적절한 실행 명령문을 이용하여 실행한다. 터미널 창에서는 아래와 같이 실행하면 된다.\n",
    "\n",
    "```bash\n",
    "$ python collision_detection.py\n",
    "```\n",
    "\n",
    "달러 기호는 터미널에서 명령문을 입력하는 곳을 가리킨다. 따라서 타이핑하지 않음에 주의한다."
   ]
  },
  {
   "cell_type": "markdown",
   "id": "fd9b0bf8",
   "metadata": {},
   "source": [
    "## 클래스 선언과 생성자"
   ]
  },
  {
   "cell_type": "markdown",
   "id": "084b735b",
   "metadata": {},
   "source": [
    "### 클래스 선언"
   ]
  },
  {
   "cell_type": "markdown",
   "id": "032f0b08",
   "metadata": {},
   "source": [
    "스프라이트들의 클래스를 정의해보자.\n",
    "클래스 정의는 다음 형식으로 이루어진다."
   ]
  },
  {
   "cell_type": "code",
   "execution_count": 1,
   "id": "9c735e77",
   "metadata": {},
   "outputs": [],
   "source": [
    "class Sprite:\n",
    "    ...\n",
    "    # 속성 지정 및 메서드 선언"
   ]
  },
  {
   "cell_type": "markdown",
   "id": "0cf5be4c",
   "metadata": {},
   "source": [
    "`Sprite` 클래스의 속성으로 스프라이트의 모양에 대한 정보 등이 저장된다.\n",
    "`Sprite` 클래스가 제공해야 하는 메서드로\n",
    "예를 들어 스프라이트의 이동, 충돌감지 기능 등이 포함된다."
   ]
  },
  {
   "cell_type": "markdown",
   "id": "f8cb6e9c",
   "metadata": {},
   "source": [
    "### 생성자"
   ]
  },
  {
   "cell_type": "markdown",
   "id": "38d315bf",
   "metadata": {},
   "source": [
    "모든 파이썬 클래스는 인스턴스<font size='2'>instance</font>를 생성하는 **생성자** 메서드를 포함해야 한다.\n",
    "파이썬 클래스의 생성자는 항상 `__init__()` 함수로 구현된다.\n",
    "생성자는 생성되는 인스턴스의 속성<font size='2'>attributes</font>으로 저장될 정보와 관련된 값을 \n",
    "인자로 받는다.\n",
    "`Sprite` 클래스의 생성자는 생성되는 객체의 처음 위치, 크기, 모양 등을 결정하는 요소를 지정한다."
   ]
  },
  {
   "cell_type": "code",
   "execution_count": 2,
   "id": "cdf42278",
   "metadata": {},
   "outputs": [],
   "source": [
    "class Sprite:\n",
    "    def __init__(self,  x, y, width, height, image):\n",
    "        \"\"\"생성자 메서드\n",
    "        x: x-좌표\n",
    "        y: y-좌표\n",
    "        width: 가로 크기\n",
    "        height: 세로 크기\n",
    "        image: 모양\n",
    "        \"\"\"\n",
    "\n",
    "        self.x = x\n",
    "        self.y = y\n",
    "        self.width = width\n",
    "        self.height = height\n",
    "        self.image = image"
   ]
  },
  {
   "cell_type": "markdown",
   "id": "42cec8ca",
   "metadata": {},
   "source": [
    ":::{admonition} 인스턴스 초기 설정\n",
    ":class: info\n",
    "\n",
    "엄밀히 말하면 `__init__()` 메서드는 객체를 생성하는 게 아니라\n",
    "생성되는 객체의 초기 설정을 담당하지만\n",
    "생성자라는 표현이 일반적으로 사용된다.\n",
    ":::"
   ]
  },
  {
   "cell_type": "markdown",
   "id": "90a26680",
   "metadata": {},
   "source": [
    "## 인스턴스와 객체"
   ]
  },
  {
   "cell_type": "markdown",
   "id": "a9af534b",
   "metadata": {},
   "source": [
    "### 인스턴스 생성"
   ]
  },
  {
   "cell_type": "markdown",
   "id": "f5a0ee42",
   "metadata": {},
   "source": [
    "`Sprite` 클래스의 **인스턴스**<font size='2'>instance</font>, \n",
    "즉 하나의 스프라이트에 해당하는 **객체**<font size='2'>object</font>를 생성하는 방식은 다음과 같다."
   ]
  },
  {
   "cell_type": "code",
   "execution_count": 4,
   "id": "a178c362",
   "metadata": {},
   "outputs": [],
   "source": [
    "wizard = Sprite(-128, 200, 128, 128, \"wizard.gif\")"
   ]
  },
  {
   "cell_type": "markdown",
   "id": "fe150640",
   "metadata": {},
   "source": [
    "그러면 생성자 함수 `__init__()`가 아래 인자들과 함께 호출된다.\n",
    "\n",
    "    -128, 200, 128, 128, \"wizard.gif\""
   ]
  },
  {
   "cell_type": "markdown",
   "id": "fcca7c3c",
   "metadata": {},
   "source": [
    "메모리 상에서 `f35` 변수가 가리키는 분수 객체는 아래와 같이 구성된다."
   ]
  },
  {
   "cell_type": "markdown",
   "id": "8cf6666d",
   "metadata": {},
   "source": [
    "<div align=\"center\" border=\"1px\"><img src=\"https://raw.githubusercontent.com/codingalzi/pybook/master/jupyter-book/images/Sprite1.png\" width=\"80%\"></div>"
   ]
  },
  {
   "cell_type": "markdown",
   "id": "cce84f7d",
   "metadata": {},
   "source": [
    ":::{admonition} `self`의 역할\n",
    ":class: info\n",
    "\n",
    "`f35 = Sprite(3, 5)` 방식으로 변수 할당이 실행되면\n",
    "파이썬 실행기<font size='2'>interpreter</font>는 다음을 싱행한다.\n",
    "\n",
    "```python\n",
    ">>> __init__(f35, 3, 5)\n",
    "```\n",
    "\n",
    "즉, `self` 매개변수는 현재 생성되는 객체를 인자로 사용한다.\n",
    ":::"
   ]
  },
  {
   "cell_type": "markdown",
   "id": "463ac91d",
   "metadata": {},
   "source": [
    "### 인스턴스 변수와 속성"
   ]
  },
  {
   "cell_type": "markdown",
   "id": "833c15a1",
   "metadata": {},
   "source": [
    "**인스턴스 변수**<font size='2'>instance variable</font>는\n",
    "클래스 내부에서 `self`와 함께 선언된 변수를 가리킨다.\n",
    "`Sprite` 클래스의 인스턴스 변수는 `self.top` 과 `self.bottom` 두 개다.\n",
    "인스턴스 변수는 해당 클래스의 영역<font size='2'>scope</font>에서만 의미를 가지며,\n",
    "일반적으로 생성자가 실행되는 동안 선언되지만\n",
    "클래스 내부 어디에서도 일반 전역 변수처럼 선언될 수도 있다.\n",
    "\n",
    "클래스의 인스턴스는 인스턴스 변수가 가리키는 값을 속성을 갖게 되며,\n",
    "이런 의미에서 인스턴스 변수가 가리키는 값을 \n",
    "**인스턴스 속성**<font size=\"2\">instance attribute</font>이라 부른다.\n",
    "인스턴스 속성은 따라서 클래스의 인스턴스가 생성되어야만 의미를 갖는다.\n",
    "\n",
    "인스턴스 변수 이외에 `self` 를 사용하지 않는 \n",
    "**클래스 변수**<font size='2'>class variable</font> 가 선언될 수도 있지만\n",
    "여기서는 다루지 않는다.\n",
    "\n",
    "`f35` 가 가리키는 객체의 인스턴스 변수와 인스턴스 속성을 각각 키와 값으로 갖는 \n",
    "항목들의 사전을 `__dict__` 의 속성으로 확인한다.\n",
    "`__dict__` 는 모든 객체에 기본으로 포함되는 속성 중에 하나다."
   ]
  },
  {
   "cell_type": "code",
   "execution_count": 4,
   "id": "2f9ea922",
   "metadata": {},
   "outputs": [
    {
     "data": {
      "text/plain": [
       "{'top': 3, 'bottom': 5}"
      ]
     },
     "execution_count": 4,
     "metadata": {},
     "output_type": "execute_result"
    }
   ],
   "source": [
    "f35.__dict__"
   ]
  },
  {
   "cell_type": "markdown",
   "id": "125d9d4f",
   "metadata": {},
   "source": [
    "모든 객체에 기본으로 포함된 속성 중에 해당 객체의 클래스 정보를 가리키는 `__class__` 속성도 \n",
    "종종 사용된다."
   ]
  },
  {
   "cell_type": "code",
   "execution_count": 5,
   "id": "cfd2260a",
   "metadata": {},
   "outputs": [
    {
     "data": {
      "text/plain": [
       "__main__.Fraction"
      ]
     },
     "execution_count": 5,
     "metadata": {},
     "output_type": "execute_result"
    }
   ],
   "source": [
    "f35.__class__"
   ]
  },
  {
   "cell_type": "markdown",
   "id": "722f7266",
   "metadata": {},
   "source": [
    "`__main__` 은 현재 실행되는 코드가 저장된 모듈을 가리킨다.\n",
    "따라서 `__main__.Sprite` 는 현재 파일에서 정의된 `Sprite` 클래스의 객체라는\n",
    "사실을 확인해준다."
   ]
  },
  {
   "cell_type": "markdown",
   "id": "413a710b",
   "metadata": {},
   "source": [
    "## 인스턴스 메서드"
   ]
  },
  {
   "cell_type": "markdown",
   "id": "a2f534fe",
   "metadata": {},
   "source": [
    "클래스 내부에 선언된 함수를 메서드라 부른다. \n",
    "이중에 첫째 매개변수로 `self` 를 사용하는 함수가 인스턴스 메서드다.\n",
    "인스턴스 메서드는 클래스의 인스턴스가 생성되어야만 활용될 수 있다.\n",
    "인스턴스 메서드 이외에 클래스 메서드, 정적 메서드 등이 있지만 여기서는 다루지 않는다."
   ]
  },
  {
   "cell_type": "markdown",
   "id": "8b65e427",
   "metadata": {},
   "source": [
    "### 매직 메서드"
   ]
  },
  {
   "cell_type": "markdown",
   "id": "0c66601e",
   "metadata": {},
   "source": [
    "매직 메서드<font size='2'>magic method</font>는 클래스에 기본적으로 포함되는 메서드다.\n",
    "매직 메서드의 이름은 밑줄 두 개로 감싸지며, \n",
    "클래스가 기본적으로 갖춰야 하는 기능을 제공한다.\n",
    "\n",
    "클래스에 기본으로 포함된 매직 메서드를 `dir()` 함수를 이용하여 확인할 수 있다.\n",
    "그러면 `__class__`, `__dict__` 등과 같은 기본 속성과 함께 다른 다양한 기본 속성과\n",
    "매직 메서드의 리스트를 확인할 수 있다."
   ]
  },
  {
   "cell_type": "code",
   "execution_count": 6,
   "id": "72b829a6",
   "metadata": {},
   "outputs": [
    {
     "data": {
      "text/plain": [
       "['__class__',\n",
       " '__delattr__',\n",
       " '__dict__',\n",
       " '__dir__',\n",
       " '__doc__',\n",
       " '__eq__',\n",
       " '__format__',\n",
       " '__ge__',\n",
       " '__getattribute__',\n",
       " '__gt__',\n",
       " '__hash__',\n",
       " '__init__',\n",
       " '__init_subclass__',\n",
       " '__le__',\n",
       " '__lt__',\n",
       " '__module__',\n",
       " '__ne__',\n",
       " '__new__',\n",
       " '__reduce__',\n",
       " '__reduce_ex__',\n",
       " '__repr__',\n",
       " '__setattr__',\n",
       " '__sizeof__',\n",
       " '__str__',\n",
       " '__subclasshook__',\n",
       " '__weakref__',\n",
       " 'bottom',\n",
       " 'top']"
      ]
     },
     "execution_count": 6,
     "metadata": {},
     "output_type": "execute_result"
    }
   ],
   "source": [
    "dir(f35)"
   ]
  },
  {
   "cell_type": "markdown",
   "id": "f21d14be",
   "metadata": {},
   "source": [
    "이중에 중요한 매직 메서드 몇 개를 살펴본다."
   ]
  },
  {
   "cell_type": "markdown",
   "id": "d07a8441",
   "metadata": {},
   "source": [
    "**`__str__()` 메서드**\n",
    "\n",
    "`f35` 는 '3/5'에 해당하는 분수를 가리킨다.\n",
    "그런데 `print()` 함수를 이용하여 이 사실을 확인하려면 \n",
    "이상한 결과만 확인한다."
   ]
  },
  {
   "cell_type": "code",
   "execution_count": 7,
   "id": "d3b47c87",
   "metadata": {},
   "outputs": [
    {
     "name": "stdout",
     "output_type": "stream",
     "text": [
      "<__main__.Fraction object at 0x7fc09211a0a0>\n"
     ]
    }
   ],
   "source": [
    "print(f35)"
   ]
  },
  {
   "cell_type": "markdown",
   "id": "cc02cd39",
   "metadata": {},
   "source": [
    "이유는 `Sprite` 클래스가 자신의 인스턴스를 소개하는 기능을 제공하지 않았기 때문이다. \n",
    "이런 상황에서 `f35` 입장에서는 자신이 어떤 클래스의 인스턴스이며 \n",
    "자신이 저장된 메모리 주소만을 알려주게 된다.\n",
    "\n",
    "클래스의 인스턴스가 제대로 자신을 소개하도록 하려면 `__str__()` 메서드를\n",
    "사용하가 직접 정의해야 한다. \n",
    "즉, `__str__()` 메서드는 해당 클래스의 인스턴스를 `print()` 함수를 통해\n",
    "어떻게 보여줄 것인가를 문자열로 지정하는 함수로 활용된다."
   ]
  },
  {
   "cell_type": "markdown",
   "id": "944a9d2e",
   "metadata": {},
   "source": [
    "`Sprite` 클래스를 선언할 때 `__str__()` 메서드를 아래처럼 재정의(overriding) 해보자."
   ]
  },
  {
   "cell_type": "code",
   "execution_count": 8,
   "id": "8eee66b5",
   "metadata": {},
   "outputs": [],
   "source": [
    "class Sprite:\n",
    "    \"\"\"Sprite 클래스\"\"\"\n",
    "\n",
    "    def __init__(self, top, bottom):\n",
    "        \"\"\"생성자 메서드\n",
    "        top: 분자\n",
    "        bottom: 분모\n",
    "        \"\"\"\n",
    "        self.top = top\n",
    "        self.bottom = bottom\n",
    "\n",
    "    def __str__(self):\n",
    "        return f\"{self.top}/{self.bottom}\"  # 3/5, 1/2 형식으로 출력"
   ]
  },
  {
   "cell_type": "markdown",
   "id": "c077871a",
   "metadata": {},
   "source": [
    "클래스를 재정의 했으면 객체로 새로 생성해야 한다."
   ]
  },
  {
   "cell_type": "code",
   "execution_count": 9,
   "id": "51d5d153",
   "metadata": {},
   "outputs": [],
   "source": [
    "f35 = Sprite(3, 5)"
   ]
  },
  {
   "cell_type": "markdown",
   "id": "851c2f3e",
   "metadata": {},
   "source": [
    "이제 `print()` 함수를 실행하면\n",
    "3/5, 1/2 등의 형식으로 출력한다."
   ]
  },
  {
   "cell_type": "code",
   "execution_count": 10,
   "id": "6b9674b6",
   "metadata": {},
   "outputs": [
    {
     "name": "stdout",
     "output_type": "stream",
     "text": [
      "3/5\n"
     ]
    }
   ],
   "source": [
    "print(f35)"
   ]
  },
  {
   "cell_type": "code",
   "execution_count": 11,
   "id": "357ffa09",
   "metadata": {},
   "outputs": [
    {
     "name": "stdout",
     "output_type": "stream",
     "text": [
      "피자의 3/5를 먹었다.\n"
     ]
    }
   ],
   "source": [
    "print(f\"피자의 {f35}를 먹었다.\")"
   ]
  },
  {
   "cell_type": "markdown",
   "id": "64d1feb2",
   "metadata": {},
   "source": [
    "`__str__()` 메서드를 직접 호출해도 동일한 결과를 얻는다. "
   ]
  },
  {
   "cell_type": "code",
   "execution_count": 12,
   "id": "e75c4386",
   "metadata": {},
   "outputs": [
    {
     "data": {
      "text/plain": [
       "'3/5'"
      ]
     },
     "execution_count": 12,
     "metadata": {},
     "output_type": "execute_result"
    }
   ],
   "source": [
    "f35.__str__()"
   ]
  },
  {
   "cell_type": "markdown",
   "id": "c9e59c71",
   "metadata": {},
   "source": [
    "`str()` 함수는 인자로 사용된 객체가 제공하는 `__str__()` 메서드를 내부에서 호출한다."
   ]
  },
  {
   "cell_type": "code",
   "execution_count": 13,
   "id": "10c6292c",
   "metadata": {},
   "outputs": [
    {
     "data": {
      "text/plain": [
       "'3/5'"
      ]
     },
     "execution_count": 13,
     "metadata": {},
     "output_type": "execute_result"
    }
   ],
   "source": [
    "str(f35) # f35.__str__()"
   ]
  },
  {
   "cell_type": "markdown",
   "id": "a68e6d76",
   "metadata": {},
   "source": [
    "**`__repr__()` 메서드**\n",
    "\n",
    "`print()` 함수는 잘 작동한다.\n",
    "하지만 그냥 `f35` 를 확인하려하면 여전히 제대로 보여지지 않는다."
   ]
  },
  {
   "cell_type": "code",
   "execution_count": 14,
   "id": "5e69cb6d",
   "metadata": {},
   "outputs": [
    {
     "data": {
      "text/plain": [
       "<__main__.Fraction at 0x7fc0900952b0>"
      ]
     },
     "execution_count": 14,
     "metadata": {},
     "output_type": "execute_result"
    }
   ],
   "source": [
    "f35"
   ]
  },
  {
   "cell_type": "markdown",
   "id": "1060b1b0",
   "metadata": {},
   "source": [
    "이를 해결하려면 `__repr__()` 메서드를 `__str__()` 메서드처럼 추가해야 한다."
   ]
  },
  {
   "cell_type": "code",
   "execution_count": 15,
   "id": "920f36f5",
   "metadata": {},
   "outputs": [],
   "source": [
    "class Sprite:\n",
    "    \"\"\"Sprite 클래스\"\"\"\n",
    "\n",
    "    def __init__(self, top, bottom):\n",
    "        \"\"\"생성자 메서드\n",
    "        top: 분자\n",
    "        bottom: 분모\n",
    "        \"\"\"\n",
    "        self.top = top\n",
    "        self.bottom = bottom\n",
    "\n",
    "    def __str__(self):\n",
    "        return f\"{self.top}/{self.bottom}\"  # 3/5, 1/2 형식으로 출력\n",
    "    \n",
    "    def __repr__(self):\n",
    "        return f\"{self.top}/{self.bottom}\"  # 3/5, 1/2 형식으로 출력"
   ]
  },
  {
   "cell_type": "code",
   "execution_count": 16,
   "id": "658b9217",
   "metadata": {},
   "outputs": [],
   "source": [
    "f35 = Sprite(3, 5)"
   ]
  },
  {
   "cell_type": "code",
   "execution_count": 17,
   "id": "86d81ae1",
   "metadata": {},
   "outputs": [
    {
     "data": {
      "text/plain": [
       "3/5"
      ]
     },
     "execution_count": 17,
     "metadata": {},
     "output_type": "execute_result"
    }
   ],
   "source": [
    "f35"
   ]
  },
  {
   "cell_type": "markdown",
   "id": "d1197ba8",
   "metadata": {},
   "source": [
    "`__repr__()` 를 `__str__()` 와 다르게 정의해도 된다."
   ]
  },
  {
   "cell_type": "code",
   "execution_count": 18,
   "id": "ec720bcd",
   "metadata": {},
   "outputs": [],
   "source": [
    "class Sprite:\n",
    "    \"\"\"Sprite 클래스\"\"\"\n",
    "\n",
    "    def __init__(self, top, bottom):\n",
    "        \"\"\"생성자 메서드\n",
    "        top: 분자\n",
    "        bottom: 분모\n",
    "        \"\"\"\n",
    "        self.top = top\n",
    "        self.bottom = bottom\n",
    "\n",
    "    def __str__(self):\n",
    "        return f\"{self.top}/{self.bottom}\"  # 3/5, 1/2 형식으로 출력\n",
    "    \n",
    "    def __repr__(self):\n",
    "        return f\"{self.bottom}분의 {self.top}\"  # 5분의 3 형식으로 출력"
   ]
  },
  {
   "cell_type": "code",
   "execution_count": 19,
   "id": "b94eb3b7",
   "metadata": {},
   "outputs": [],
   "source": [
    "f35 = Sprite(3, 5)"
   ]
  },
  {
   "cell_type": "code",
   "execution_count": 20,
   "id": "04314ac8",
   "metadata": {},
   "outputs": [
    {
     "data": {
      "text/plain": [
       "5분의 3"
      ]
     },
     "execution_count": 20,
     "metadata": {},
     "output_type": "execute_result"
    }
   ],
   "source": [
    "f35"
   ]
  },
  {
   "cell_type": "code",
   "execution_count": 21,
   "id": "afb6f200",
   "metadata": {},
   "outputs": [
    {
     "name": "stdout",
     "output_type": "stream",
     "text": [
      "3/5\n"
     ]
    }
   ],
   "source": [
    "print(f35)"
   ]
  },
  {
   "cell_type": "markdown",
   "id": "b34f6653",
   "metadata": {},
   "source": [
    "`__repr__()` 메서드를 `__str__()` 대신 사용할 수 있다."
   ]
  },
  {
   "cell_type": "code",
   "execution_count": 22,
   "id": "8480192f",
   "metadata": {},
   "outputs": [],
   "source": [
    "class Sprite:\n",
    "    \"\"\"Sprite 클래스\"\"\"\n",
    "\n",
    "    def __init__(self, top, bottom):\n",
    "        \"\"\"생성자 메서드\n",
    "        top: 분자\n",
    "        bottom: 분모\n",
    "        \"\"\"\n",
    "        self.top = top\n",
    "        self.bottom = bottom\n",
    "\n",
    "#     def __str__(self):\n",
    "#         return f\"{self.top}/{self.bottom}\"  # 3/5, 1/2 형식으로 출력\n",
    "    \n",
    "    def __repr__(self):\n",
    "        return f\"{self.bottom}분의 {self.top}\"  # 5분의 3 형식으로 출력"
   ]
  },
  {
   "cell_type": "code",
   "execution_count": 23,
   "id": "254ca226",
   "metadata": {},
   "outputs": [],
   "source": [
    "f35 = Sprite(3, 5)"
   ]
  },
  {
   "cell_type": "code",
   "execution_count": 24,
   "id": "9a6a89da",
   "metadata": {},
   "outputs": [
    {
     "data": {
      "text/plain": [
       "5분의 3"
      ]
     },
     "execution_count": 24,
     "metadata": {},
     "output_type": "execute_result"
    }
   ],
   "source": [
    "f35"
   ]
  },
  {
   "cell_type": "code",
   "execution_count": 25,
   "id": "ffef8e79",
   "metadata": {},
   "outputs": [
    {
     "name": "stdout",
     "output_type": "stream",
     "text": [
      "5분의 3\n"
     ]
    }
   ],
   "source": [
    "print(f35)"
   ]
  },
  {
   "cell_type": "markdown",
   "id": "289eee1e",
   "metadata": {},
   "source": [
    "따라서 `__repr__()` 와 `__str__()` 를 동일하게 작동하게 하려면\n",
    "`__repr__()` 메서드 하나만 구현하면 된다."
   ]
  },
  {
   "cell_type": "code",
   "execution_count": 26,
   "id": "151047dd",
   "metadata": {},
   "outputs": [],
   "source": [
    "class Sprite:\n",
    "    \"\"\"Sprite 클래스\"\"\"\n",
    "\n",
    "    def __init__(self, top, bottom):\n",
    "        \"\"\"생성자 메서드\n",
    "        top: 분자\n",
    "        bottom: 분모\n",
    "        \"\"\"\n",
    "        self.top = top\n",
    "        self.bottom = bottom\n",
    "\n",
    "    def __repr__(self):\n",
    "        return f\"{self.top}/{self.bottom}\"  # 3/5, 1/2 형식으로 출력"
   ]
  },
  {
   "cell_type": "markdown",
   "id": "00133c1d",
   "metadata": {},
   "source": [
    "**`__add__()` 메서드**\n",
    "\n",
    "아래 두 개의 이용하여 분수의 덧셈이 가능한지 확인해보자."
   ]
  },
  {
   "cell_type": "code",
   "execution_count": 27,
   "id": "604fb4cf",
   "metadata": {},
   "outputs": [],
   "source": [
    "f14 = Sprite(1, 4)\n",
    "f12 = Sprite(1, 2)"
   ]
  },
  {
   "cell_type": "markdown",
   "id": "1c649315",
   "metadata": {},
   "source": [
    "그런데 분수의 덧셈을 시도하면 오류가 발생한다."
   ]
  },
  {
   "cell_type": "markdown",
   "id": "3d4451d7",
   "metadata": {},
   "source": [
    "```python\n",
    ">>> f1 + f2\n",
    "TypeError                                 Traceback (most recent call last)\n",
    "<ipython-input-13-ad0256b81ae0> in <module>\n",
    "----> 1 f1 + f2\n",
    "\n",
    "TypeError: unsupported operand type(s) for +: 'Sprite' and 'Sprite'\n",
    "```"
   ]
  },
  {
   "cell_type": "markdown",
   "id": "00178ecd",
   "metadata": {},
   "source": [
    "이유는 덧셈 연산자 `+`가 `Sprite` 클래스의 인스턴스에 대해 지원되지 않기 때문이다. \n",
    "\n",
    "덧셈, 뺄셈 등 사칙연산에 대해 일반적으로 사용되는 기호를 사용하려면\n",
    "각각의 기호에 해당하는 매직 메서드를 선언해야 한다. \n",
    "예를 들어 분수의 덧셈을 위해 `+` 연산자를 사용하려면 \n",
    "`Sprite` 클래스에 `__add__()` 메서드가 적절하게 정의되어 있어야 한다."
   ]
  },
  {
   "cell_type": "markdown",
   "id": "961f68ee",
   "metadata": {},
   "source": [
    ":::{admonition} 분수의 덧셈\n",
    ":class: info\n",
    "\n",
    "분수의 덧셈은 아래와 같이 정의된다.\n",
    "\n",
    "$$\\frac {a}{b} + \\frac {c}{d} = \\frac {ad}{bd} + \\frac {cb}{bd} = \\frac{ad+cb}{bd}$$\n",
    ":::\n",
    "\n",
    "분수의 덧셈을 지원하는 `__add__()` 메서드를 `Sprite` 클래스에 추가하자."
   ]
  },
  {
   "cell_type": "code",
   "execution_count": 28,
   "id": "f44d2594",
   "metadata": {},
   "outputs": [],
   "source": [
    "class Sprite:\n",
    "    \"\"\"Sprite 클래스\"\"\"\n",
    "\n",
    "    def __init__(self, top, bottom):\n",
    "        \"\"\"생성자 메서드\n",
    "        top: 분자\n",
    "        bottom: 분모\n",
    "        \"\"\"\n",
    "        self.top = top\n",
    "        self.bottom = bottom\n",
    "\n",
    "    def __repr__(self):\n",
    "        return f\"{self.top}/{self.bottom}\"\n",
    "\n",
    "    def __add__(self, other):\n",
    "        new_top = self.top * other.bottom + self.bottom * other.top\n",
    "        new_bottom = self.bottom * other.bottom\n",
    "\n",
    "        return Sprite(new_top, new_bottom)"
   ]
  },
  {
   "cell_type": "markdown",
   "id": "e2441203",
   "metadata": {},
   "source": [
    "이제 `Sprite`의 인스턴스는 생성자 이외에 `__repr__()` 와 `__add__()` 두 개의 메서드를 더 갖는다."
   ]
  },
  {
   "cell_type": "markdown",
   "id": "2b20f8e2",
   "metadata": {},
   "source": [
    "<div align=\"center\" border=\"1px\"><img src=\"https://raw.githubusercontent.com/codingalzi/pybook/master/jupyter-book/images/Sprite2.png\" width=\"80%\"></div>"
   ]
  },
  {
   "cell_type": "markdown",
   "id": "d8d79a3a",
   "metadata": {},
   "source": [
    "덧셈도 잘 작동한다."
   ]
  },
  {
   "cell_type": "code",
   "execution_count": 29,
   "id": "0d77901d",
   "metadata": {},
   "outputs": [
    {
     "data": {
      "text/plain": [
       "6/8"
      ]
     },
     "execution_count": 29,
     "metadata": {},
     "output_type": "execute_result"
    }
   ],
   "source": [
    "f14 = Sprite(1, 4)\n",
    "f12 = Sprite(1, 2)\n",
    "\n",
    "f14 + f12"
   ]
  },
  {
   "cell_type": "markdown",
   "id": "84bfb0f7",
   "metadata": {},
   "source": [
    "실제로는 `__add__()` 메서드가 다음처럼 호출된다."
   ]
  },
  {
   "cell_type": "code",
   "execution_count": 30,
   "id": "2bfedb2e",
   "metadata": {},
   "outputs": [
    {
     "data": {
      "text/plain": [
       "6/8"
      ]
     },
     "execution_count": 30,
     "metadata": {},
     "output_type": "execute_result"
    }
   ],
   "source": [
    "f14.__add__(f12)"
   ]
  },
  {
   "cell_type": "markdown",
   "id": "afe1faaa",
   "metadata": {},
   "source": [
    "그런데 덧셈의 결과가 기약분수의 형태가 아니다. \n",
    "기약분수를 계산하려면 최대공약수(gcd)를 계산하는 알고리즘이 필요하다."
   ]
  },
  {
   "cell_type": "markdown",
   "id": "6ff1faa7",
   "metadata": {},
   "source": [
    ":::{admonition} 유클리드 호젯법\n",
    ":class: info\n",
    "\n",
    "두 개의 정수 $m$과 $n$의 최대공약수를 가장 빠르고 효율적으로 계산하는 기법은 유클리드 호젯법이다.\n",
    "\n",
    "- $m$을 $n$으로 나눌 수 있으면 $n$이 최대공약수이다.\n",
    "- 그렇지 않으면 $n$과 $m\\,\\%\\, n$의 최대공약수가 원하는 최대공약수이다.\n",
    ":::"
   ]
  },
  {
   "cell_type": "markdown",
   "id": "87e842e6",
   "metadata": {},
   "source": [
    "아래 `gcd()` 함수는 유클리드 호젯섭을 구현한다."
   ]
  },
  {
   "cell_type": "code",
   "execution_count": 31,
   "id": "4dd134f2",
   "metadata": {},
   "outputs": [],
   "source": [
    "def gcd(m, n):\n",
    "    while m % n != 0:\n",
    "        m, n = n, m % n\n",
    "    return n"
   ]
  },
  {
   "cell_type": "code",
   "execution_count": 32,
   "id": "e44406db",
   "metadata": {},
   "outputs": [
    {
     "name": "stdout",
     "output_type": "stream",
     "text": [
      "2\n",
      "4\n"
     ]
    }
   ],
   "source": [
    "print(gcd(6, 14))\n",
    "print(gcd(8, 20))"
   ]
  },
  {
   "cell_type": "markdown",
   "id": "6b288207",
   "metadata": {},
   "source": [
    "`gcd()` 함수를 `__add__()` 함수의 정의에 활용하자. "
   ]
  },
  {
   "cell_type": "code",
   "execution_count": 33,
   "id": "e8107808",
   "metadata": {},
   "outputs": [],
   "source": [
    "class Sprite:\n",
    "    \"\"\"Sprite 클래스\"\"\"\n",
    "\n",
    "    def __init__(self, top, bottom):\n",
    "        \"\"\"생성자 메서드\n",
    "        top: 분자\n",
    "        bottom: 분모\n",
    "        \"\"\"\n",
    "        self.top = top\n",
    "        self.bottom = bottom\n",
    "\n",
    "    def __repr__(self):\n",
    "        return f\"{self.top}/{self.bottom}\"\n",
    "\n",
    "    def __add__(self, other):\n",
    "        new_top = self.top * other.bottom + \\\n",
    "                     self.bottom * other.top\n",
    "        new_bottom = self.bottom * other.bottom\n",
    "        common = gcd(new_top, new_bottom)\n",
    "        \n",
    "        return Sprite(new_top // common, new_bottom // common)"
   ]
  },
  {
   "cell_type": "markdown",
   "id": "25686567",
   "metadata": {},
   "source": [
    "이제 8/6 이 아니라 3/4 을 반환한다."
   ]
  },
  {
   "cell_type": "code",
   "execution_count": 34,
   "id": "7477f07a",
   "metadata": {},
   "outputs": [
    {
     "data": {
      "text/plain": [
       "3/4"
      ]
     },
     "execution_count": 34,
     "metadata": {},
     "output_type": "execute_result"
    }
   ],
   "source": [
    "f14 = Sprite(1, 4)\n",
    "f12 = Sprite(1, 2)\n",
    "\n",
    "f14 + f12"
   ]
  },
  {
   "cell_type": "markdown",
   "id": "e3be611c",
   "metadata": {},
   "source": [
    "**`__eq__()` 메서드**\n",
    "\n",
    "두 객체의 **동일성**<font size='2'>identity</font>은 두 객체가 \n",
    "동일한 메모리 주소에 저장되었는가에 따라 결정된다.\n",
    "반면에 메모리의 주소가 아니라 객체가 표현하는 값의 동일성 여부에 따라\n",
    "두 값을 비교 판정하는 것은 **동등성**<font size='2'>equality</font>과 관련된다.\n",
    "\n",
    "예를 들어, 아래 두 객체 모두 분수 1/2 를 객체를 가리키지만 서로 독립적으로 생성되었기에\n",
    "서로 다른 메모리에 저장되며, 따라서 두 변수 `f1`와 `f2`는 서로 다른 객체를 참조한다.\n",
    "따라서 두 변수가 가리키는 값은 서로 동일하지 않다고 판정된다."
   ]
  },
  {
   "cell_type": "code",
   "execution_count": 35,
   "id": "c47c6ae5",
   "metadata": {},
   "outputs": [
    {
     "name": "stdout",
     "output_type": "stream",
     "text": [
      "False\n",
      "False\n"
     ]
    }
   ],
   "source": [
    "f1 = Sprite(1, 2)\n",
    "f2 = Sprite(1, 2)\n",
    "\n",
    "print(f1 == f2)\n",
    "print(f1 is f2)"
   ]
  },
  {
   "cell_type": "markdown",
   "id": "f715c534",
   "metadata": {},
   "source": [
    "<div align=\"center\" border=\"1px\"><img src=\"https://raw.githubusercontent.com/codingalzi/pybook/master/jupyter-book/images/Sprite3.png\" width=\"80%\"></div>"
   ]
  },
  {
   "cell_type": "markdown",
   "id": "6ff66a66",
   "metadata": {},
   "source": [
    "반면에 아래처럼 두 변수가 참조하는 객체를 동일(identical)하게 하면 당연히 다른 결과가 나온다."
   ]
  },
  {
   "cell_type": "code",
   "execution_count": 36,
   "id": "4ba3447e",
   "metadata": {},
   "outputs": [
    {
     "name": "stdout",
     "output_type": "stream",
     "text": [
      "True\n",
      "True\n"
     ]
    }
   ],
   "source": [
    "f1 = Sprite(1, 2)\n",
    "f2 = f1\n",
    "\n",
    "print(f1 == f2)\n",
    "print(f1 is f2)"
   ]
  },
  {
   "cell_type": "markdown",
   "id": "ab673930",
   "metadata": {},
   "source": [
    "<div align=\"center\" border=\"1px\"><img src=\"https://raw.githubusercontent.com/codingalzi/pybook/master/jupyter-book/images/Sprite4.png\" width=\"80%\"></div>"
   ]
  },
  {
   "cell_type": "markdown",
   "id": "00cab37b",
   "metadata": {},
   "source": [
    "반면에 **깊은 동등성**은 두 객체가 (의도된) 동일한 값을 가리키는가 여부를 결정하며, \n",
    "이를 위해 `__eq__` 매직 메서드를 이용한다."
   ]
  },
  {
   "cell_type": "markdown",
   "id": "ec55825d",
   "metadata": {},
   "source": [
    ":::{admonition} 분수의 동등성\n",
    "\n",
    "두 분수의 동등성은 아래와 같이 정의된다.\n",
    "\n",
    "$$\\frac {a}{b} = \\frac {c}{d} \\Longleftrightarrow ad = bc$$\n",
    ":::"
   ]
  },
  {
   "cell_type": "markdown",
   "id": "b3cd66a7",
   "metadata": {},
   "source": [
    "분수의 동등성을 구현한 `__eq__()` 메서드를 `Sprite` 클래스에 추가하자."
   ]
  },
  {
   "cell_type": "code",
   "execution_count": 37,
   "id": "5d32f339",
   "metadata": {},
   "outputs": [],
   "source": [
    "class Sprite:\n",
    "    \"\"\"Sprite 클래스\"\"\"\n",
    "\n",
    "    def __init__(self, top, bottom):\n",
    "        \"\"\"생성자 메서드\n",
    "        top: 분자\n",
    "        bottom: 분모\n",
    "        \"\"\"\n",
    "        self.top = top\n",
    "        self.bottom = bottom\n",
    "\n",
    "    def __repr__(self):\n",
    "        return f\"{self.top}/{self.bottom}\"\n",
    "\n",
    "    def __add__(self, other):\n",
    "        new_top = self.top * other.bottom + \\\n",
    "                     self.bottom * other.top\n",
    "        new_bottom = self.bottom * other.bottom\n",
    "        common = gcd(new_top, new_bottom)\n",
    "        \n",
    "        return Sprite(new_top // common, new_bottom // common)\n",
    "\n",
    "    def __eq__(self, other):\n",
    "        first_top = self.top * other.bottom\n",
    "        second_top = other.top * self.bottom\n",
    "\n",
    "        return first_top == second_top"
   ]
  },
  {
   "cell_type": "markdown",
   "id": "f1ba961d",
   "metadata": {},
   "source": [
    "이제 동등성이 의도한대로 작동한다."
   ]
  },
  {
   "cell_type": "code",
   "execution_count": 38,
   "id": "c515be72",
   "metadata": {},
   "outputs": [
    {
     "name": "stdout",
     "output_type": "stream",
     "text": [
      "True\n",
      "False\n"
     ]
    }
   ],
   "source": [
    "f1 = Sprite(1, 2)\n",
    "f2 = Sprite(1, 2)\n",
    "\n",
    "print(f1 == f2)\n",
    "print(f1 is f2)"
   ]
  },
  {
   "cell_type": "markdown",
   "id": "6abf60ff",
   "metadata": {},
   "source": [
    "`f1 == f2` 는 `__eq__()` 메서드를 다음과 같이 호출한다."
   ]
  },
  {
   "cell_type": "code",
   "execution_count": 39,
   "id": "bdd9d2c0",
   "metadata": {},
   "outputs": [
    {
     "data": {
      "text/plain": [
       "True"
      ]
     },
     "execution_count": 39,
     "metadata": {},
     "output_type": "execute_result"
    }
   ],
   "source": [
    "f1.__eq__(f2)"
   ]
  },
  {
   "cell_type": "markdown",
   "id": "d51608b9",
   "metadata": {},
   "source": [
    "보다 다양한 매직 메서드에 대해서는 연습문제를 참고한다."
   ]
  },
  {
   "cell_type": "markdown",
   "id": "337b8003",
   "metadata": {},
   "source": [
    ":::{admonition} `self` 와 `other`\n",
    "\n",
    "`f14.__add__(f12)` 이  실행되면 실제로는 `__add__()` 메서드가 다음과 같이 호출된다.\n",
    "\n",
    "```python\n",
    "__add__(f14, f12)\n",
    "```\n",
    "\n",
    "즉, `self=f14`, `other=f12` 가 인자로 사용된다.\n",
    "하지만 `f14` 를 기준(self)으로 해서 다른 값(other)과의 연산을 실행한다는 의미를\n",
    "강조하기 위해 관행적으로 `self` 와 `other` 를 매개변수로 사용한다.\n",
    "\n",
    "이런 관행은 덧셈과 동등성 비교 등 모든 이항 연산자를 정의할 때 활용된다.\n",
    "예를 들어 `f1 == f2`, \n",
    "즉 `f1.__eq__(f2)`는 파이썬 실행기의 내부에서 `__eq__(f1, f2)` 로 처리된다.\n",
    ":::"
   ]
  },
  {
   "cell_type": "markdown",
   "id": "a98c9f11",
   "metadata": {},
   "source": [
    "### 인스턴스 메서드"
   ]
  },
  {
   "cell_type": "markdown",
   "id": "9aaea72c",
   "metadata": {},
   "source": [
    "매직 메서드 이외에 클래스에게 다른 기능을 제공할 수 있다. \n",
    "인스턴스 메서드를 정의하는 방식은 매직 메서드의 경우와 동일하다."
   ]
  },
  {
   "cell_type": "markdown",
   "id": "a2fc92eb",
   "metadata": {},
   "source": [
    "**분모와 분자 추출**"
   ]
  },
  {
   "cell_type": "markdown",
   "id": "46fce7c5",
   "metadata": {},
   "source": [
    "`Sprite` 클래스의 객체인 분수로부터 분자와 분모를 반환하는 `numerator()` 메서드와\n",
    "`denominator()` 메서드를 구현하자."
   ]
  },
  {
   "cell_type": "code",
   "execution_count": 40,
   "id": "654bf06a",
   "metadata": {},
   "outputs": [],
   "source": [
    "class Sprite:\n",
    "    \"\"\"Sprite 클래스\"\"\"\n",
    "\n",
    "    def __init__(self, top, bottom):\n",
    "        \"\"\"생성자 메서드\n",
    "        top: 분자\n",
    "        bottom: 분모\n",
    "        \"\"\"\n",
    "        self.top = top\n",
    "        self.bottom = bottom\n",
    "\n",
    "    def __repr__(self):\n",
    "        return f\"{self.top}/{self.bottom}\"\n",
    "\n",
    "    def __add__(self, other):\n",
    "        new_top = self.top * other.bottom + \\\n",
    "                     self.bottom * other.top\n",
    "        new_bottom = self.bottom * other.bottom\n",
    "        common = gcd(new_top, new_bottom)\n",
    "        \n",
    "        return Sprite(new_top // common, new_bottom // common)\n",
    "\n",
    "    def __eq__(self, other):\n",
    "        first_top = self.top * other.bottom\n",
    "        second_top = other.top * self.bottom\n",
    "\n",
    "        return first_top == second_top\n",
    "    \n",
    "    def numerator(self):\n",
    "        return self.top\n",
    "\n",
    "    def denominator(self):\n",
    "        return self.bottom"
   ]
  },
  {
   "cell_type": "code",
   "execution_count": 41,
   "id": "bf1d9c86",
   "metadata": {},
   "outputs": [],
   "source": [
    "f3 = Sprite(2, 3)"
   ]
  },
  {
   "cell_type": "markdown",
   "id": "362adaa8",
   "metadata": {},
   "source": [
    "2/3의 분자는 2."
   ]
  },
  {
   "cell_type": "code",
   "execution_count": 42,
   "id": "b9dfd1bb",
   "metadata": {},
   "outputs": [
    {
     "data": {
      "text/plain": [
       "2"
      ]
     },
     "execution_count": 42,
     "metadata": {},
     "output_type": "execute_result"
    }
   ],
   "source": [
    "f3.numerator()"
   ]
  },
  {
   "cell_type": "markdown",
   "id": "00e2bed8",
   "metadata": {},
   "source": [
    "2/3의 분모는 3."
   ]
  },
  {
   "cell_type": "code",
   "execution_count": 43,
   "id": "91d38c10",
   "metadata": {},
   "outputs": [
    {
     "data": {
      "text/plain": [
       "3"
      ]
     },
     "execution_count": 43,
     "metadata": {},
     "output_type": "execute_result"
    }
   ],
   "source": [
    "f3.denominator()"
   ]
  },
  {
   "cell_type": "markdown",
   "id": "0a18ad8e",
   "metadata": {},
   "source": [
    "**부동소수점으로의 변환**"
   ]
  },
  {
   "cell_type": "markdown",
   "id": "1a725d47",
   "metadata": {},
   "source": [
    "분수를 부동소수점으로 변환하는 `to_float()` 메서드를 구현해보자."
   ]
  },
  {
   "cell_type": "code",
   "execution_count": 44,
   "id": "1ad3d2b3",
   "metadata": {},
   "outputs": [],
   "source": [
    "class Sprite:\n",
    "    \"\"\"Sprite 클래스\"\"\"\n",
    "\n",
    "    def __init__(self, top, bottom):\n",
    "        \"\"\"생성자 메서드\n",
    "        top: 분자\n",
    "        bottom: 분모\n",
    "        \"\"\"\n",
    "        self.top = top\n",
    "        self.bottom = bottom\n",
    "\n",
    "    def __repr__(self):\n",
    "        return f\"{self.top}/{self.bottom}\"\n",
    "\n",
    "    def __add__(self, other):\n",
    "        new_top = self.top * other.bottom + \\\n",
    "                     self.bottom * other.top\n",
    "        new_bottom = self.bottom * other.bottom\n",
    "        common = gcd(new_top, new_bottom)\n",
    "        \n",
    "        return Sprite(new_top // common, new_bottom // common)\n",
    "\n",
    "    def __eq__(self, other):\n",
    "        first_top = self.top * other.bottom\n",
    "        second_top = other.top * self.bottom\n",
    "\n",
    "        return first_top == second_top\n",
    "    \n",
    "    def numerator(self):\n",
    "        return self.top\n",
    "\n",
    "    def denominator(self):\n",
    "        return self.bottom\n",
    "    \n",
    "    def to_float(self):\n",
    "        return self.numerator() / self.denominator()"
   ]
  },
  {
   "cell_type": "code",
   "execution_count": 45,
   "id": "f591114e",
   "metadata": {},
   "outputs": [],
   "source": [
    "f3 = Sprite(2, 3)"
   ]
  },
  {
   "cell_type": "code",
   "execution_count": 46,
   "id": "0da42e45",
   "metadata": {},
   "outputs": [
    {
     "data": {
      "text/plain": [
       "0.6666666666666666"
      ]
     },
     "execution_count": 46,
     "metadata": {},
     "output_type": "execute_result"
    }
   ],
   "source": [
    "f3.to_float()"
   ]
  },
  {
   "cell_type": "markdown",
   "id": "5a48cc9f",
   "metadata": {},
   "source": [
    "**예제: 라이프니츠 공식**"
   ]
  },
  {
   "cell_type": "markdown",
   "id": "8ec4a55f",
   "metadata": {},
   "source": [
    "라이프니츠 공식을 이용하여 원주율을 임의로 정밀한 수준까지 계산할 수 있다.\n",
    "\n",
    "$$\n",
    "\\begin{align*}\n",
    "\\pi & = 4 \\left( \\frac 1 1 - \\frac 1 3 + \\frac 1 5 - \\frac 1 7 + \\frac 1 9 - \\frac{1}{11} + \\frac{1}{13} - \\frac{1}{15} + \\frac{1}{17} - \\frac{1}{19} + \\cdots \\right) \\\\\n",
    "& = 4 \\sum_{k=0}^{\\infty} \\left( \\frac{1}{4k + 1} - \\frac{1}{4k + 3} \\right) \\\\\n",
    "& = \\sum_{k=0}^{\\infty}  \\frac{8}{(4k + 1)(4k + 3)} \\\\\n",
    "\\end{align*}\n",
    "$$"
   ]
  },
  {
   "cell_type": "markdown",
   "id": "a35d0ee9",
   "metadata": {},
   "source": [
    "아래 `leibniz()` 함수는 `Sprite` 객체를 이용하여\n",
    "라이프니츠 공식을 구현한다.\n",
    "`leibniz(n)` 은 처음 `n` 개의 분수를 더한다."
   ]
  },
  {
   "cell_type": "code",
   "execution_count": 47,
   "id": "2f37160a",
   "metadata": {},
   "outputs": [],
   "source": [
    "def leibniz(n):\n",
    "    pi_sum = Sprite(0, 1)\n",
    "    for k in range(n):\n",
    "        kth_item = Sprite(8, (4*k + 1) * (4*k + 3))  # 분수 연산\n",
    "        pi_sum += kth_item\n",
    "        \n",
    "    return pi_sum.to_float()"
   ]
  },
  {
   "cell_type": "code",
   "execution_count": 48,
   "id": "f592b978",
   "metadata": {},
   "outputs": [
    {
     "data": {
      "text/plain": [
       "3.0916238066678385"
      ]
     },
     "execution_count": 48,
     "metadata": {},
     "output_type": "execute_result"
    }
   ],
   "source": [
    "leibniz(10)"
   ]
  },
  {
   "cell_type": "code",
   "execution_count": 49,
   "id": "fec8ac8b",
   "metadata": {},
   "outputs": [
    {
     "data": {
      "text/plain": [
       "3.1365926848388166"
      ]
     },
     "execution_count": 49,
     "metadata": {},
     "output_type": "execute_result"
    }
   ],
   "source": [
    "leibniz(100)"
   ]
  },
  {
   "cell_type": "code",
   "execution_count": 50,
   "id": "72d2034e",
   "metadata": {},
   "outputs": [
    {
     "data": {
      "text/plain": [
       "3.141092653621043"
      ]
     },
     "execution_count": 50,
     "metadata": {},
     "output_type": "execute_result"
    }
   ],
   "source": [
    "leibniz(1000)"
   ]
  },
  {
   "cell_type": "markdown",
   "id": "0bf0a21d",
   "metadata": {},
   "source": [
    "하지만 더 이상의 계산은 매우 어렵다. \n",
    "예를 들어 `leibniz(10000)` 은 언제 끝날지 모른다.\n",
    "이유는 이런 분수 형식의 계산이\n",
    "너무 오래 걸리기 때문이다. \n",
    "실제로 분수 덧셈의 통분에 사용되는 시간과 메모리 사용량이 \n",
    "매우 크다.\n",
    "\n",
    "반면에 지난 수 십년동안 부동소수점 연산의 정확도와 속도를 최적하는 노력의 결과로\n",
    "부동소수점을 사용하는 연산은 매우 빠르고 보다 많은 반복무의 실행을 지원한다."
   ]
  },
  {
   "cell_type": "code",
   "execution_count": 51,
   "id": "3a2c4808",
   "metadata": {},
   "outputs": [],
   "source": [
    "def leibniz_float(n):\n",
    "    pi_sum = 0\n",
    "    for k in range(n):\n",
    "        kth_item = 8/((4*k + 1) * (4*k + 3))  # 부동소수점 연산\n",
    "        pi_sum += kth_item\n",
    "        \n",
    "    return pi_sum"
   ]
  },
  {
   "cell_type": "code",
   "execution_count": 52,
   "id": "62ed8da6",
   "metadata": {},
   "outputs": [
    {
     "data": {
      "text/plain": [
       "3.141092653621038"
      ]
     },
     "execution_count": 52,
     "metadata": {},
     "output_type": "execute_result"
    }
   ],
   "source": [
    "leibniz_float(1000)"
   ]
  },
  {
   "cell_type": "code",
   "execution_count": 53,
   "id": "cb7603a0",
   "metadata": {},
   "outputs": [
    {
     "data": {
      "text/plain": [
       "3.1415426535898203"
      ]
     },
     "execution_count": 53,
     "metadata": {},
     "output_type": "execute_result"
    }
   ],
   "source": [
    "leibniz_float(10000)"
   ]
  },
  {
   "cell_type": "code",
   "execution_count": 54,
   "id": "7d223020",
   "metadata": {},
   "outputs": [
    {
     "data": {
      "text/plain": [
       "3.141592153589902"
      ]
     },
     "execution_count": 54,
     "metadata": {},
     "output_type": "execute_result"
    }
   ],
   "source": [
    "leibniz_float(1000000)"
   ]
  },
  {
   "cell_type": "markdown",
   "id": "22be2e2c",
   "metadata": {},
   "source": [
    "## 연습문제"
   ]
  },
  {
   "cell_type": "markdown",
   "id": "31b9be77",
   "metadata": {},
   "source": [
    "참고: [(실습) 클래스, 인스턴스, 객체](https://colab.research.google.com/github/codingalzi/pybook/blob/master/practices/practice-classes_instances_objects.ipynb)"
   ]
  }
 ],
 "metadata": {
  "kernelspec": {
   "display_name": "Python 3 (ipykernel)",
   "language": "python",
   "name": "python3"
  },
  "language_info": {
   "codemirror_mode": {
    "name": "ipython",
    "version": 3
   },
   "file_extension": ".py",
   "mimetype": "text/x-python",
   "name": "python",
   "nbconvert_exporter": "python",
   "pygments_lexer": "ipython3",
   "version": "3.11.5"
  }
 },
 "nbformat": 4,
 "nbformat_minor": 5
}
