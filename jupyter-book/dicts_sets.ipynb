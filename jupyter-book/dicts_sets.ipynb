{
 "cells": [
  {
   "attachments": {},
   "cell_type": "markdown",
   "id": "97dde457",
   "metadata": {},
   "source": [
    "(ch:dicts-sets)=\n",
    "# 사전과 집합"
   ]
  },
  {
   "attachments": {},
   "cell_type": "markdown",
   "id": "d9e44c88",
   "metadata": {},
   "source": [
    "**주요 내용**"
   ]
  },
  {
   "attachments": {},
   "cell_type": "markdown",
   "id": "74d748ee",
   "metadata": {},
   "source": [
    "- 집합과 사전\n",
    "- 해시 가능성\n",
    "- 형 변환 함수\n",
    "- `range` 객체\n",
    "- 리스트/사전 조건제시법\n",
    "- 모음 자료형과 `for` 반복문"
   ]
  },
  {
   "attachments": {},
   "cell_type": "markdown",
   "id": "ce25e2cd",
   "metadata": {},
   "source": [
    "**슬라이드**\n",
    "\n",
    "본문 내용을 요약한 [슬라이드](https://github.com/codingalzi/pybook/raw/master/slides/slides-collections2.pdf)를 \n",
    "다운로드할 수 있다."
   ]
  },
  {
   "attachments": {},
   "cell_type": "markdown",
   "id": "ed673955",
   "metadata": {},
   "source": [
    "## 집합"
   ]
  },
  {
   "attachments": {},
   "cell_type": "markdown",
   "id": "40b629c1",
   "metadata": {},
   "source": [
    "집합 자료형은 수학에서 다루는 집합처럼 작동하도록 만든 비순차 모음 자료형이며\n",
    "다음과 같이 중괄호를 사용하여 정의된다.\n",
    "집합은 항목의 중복을 허용하지 않고, 항목들 사이의 순서는 무시된다. \n",
    "따라서 인덱싱이나 슬라이싱을 지원하지 않는다.\n",
    "\n",
    "`{항목1, 항목2, 항목3, ..., 항목n}`"
   ]
  },
  {
   "cell_type": "code",
   "execution_count": 1,
   "id": "ae3d28cf",
   "metadata": {},
   "outputs": [
    {
     "data": {
      "text/plain": [
       "{4, 9.2, True, 'apple'}"
      ]
     },
     "execution_count": 1,
     "metadata": {},
     "output_type": "execute_result"
    }
   ],
   "source": [
    "a_set = {4, 4, 9.2, \"apple\", True, 4}\n",
    "a_set"
   ]
  },
  {
   "attachments": {},
   "cell_type": "markdown",
   "id": "fda90b2f",
   "metadata": {},
   "source": [
    "**공집합**\n",
    "\n",
    "공집합<font size = \"2\">empty set</font>은 아무것도 포함하지 않는 집합을 의미한다. \n",
    "공집합를 만드는 방법은 아래와 같다. "
   ]
  },
  {
   "cell_type": "code",
   "execution_count": 2,
   "id": "65ea874f",
   "metadata": {},
   "outputs": [
    {
     "data": {
      "text/plain": [
       "set()"
      ]
     },
     "execution_count": 2,
     "metadata": {},
     "output_type": "execute_result"
    }
   ],
   "source": [
    "empty_set = set()\n",
    "empty_set"
   ]
  },
  {
   "attachments": {},
   "cell_type": "markdown",
   "id": "09caf019",
   "metadata": {},
   "source": [
    ":::{admonition} 주의  \n",
    ":class: caution  \n",
    "\n",
    "빈 집합을 만들 때는 `set()`을 사용해야 한다. `{}`은 이어서 소개할 \n",
    "빈 사전<font size=\"2\">empty dictionary</font>을 가리킨다.\n",
    "\n",
    "```python\n",
    ">>> a = {}\n",
    ">>> type(a)\n",
    "dict\n",
    "```\n",
    ":::"
   ]
  },
  {
   "attachments": {},
   "cell_type": "markdown",
   "id": "1344739b",
   "metadata": {},
   "source": [
    "### 해시 가능성"
   ]
  },
  {
   "attachments": {},
   "cell_type": "markdown",
   "id": "f3c2bd5a",
   "metadata": {},
   "source": [
    "집합의 항목으로 리스트 등 가변 자료형은 사용할 수 없다.\n",
    "\n",
    "```python\n",
    ">>> {[1, 3], 4}\n",
    "TypeError                                 Traceback (most recent call last)\n",
    "/tmp/ipykernel_1817/2739416386.py in <module>\n",
    "----> 1 {[1, 3], 4}\n",
    "\n",
    "TypeError: unhashable type: 'list'\n",
    "```\n",
    "\n",
    "이유는 가변 자료형이 해시 가능하지 않기 때문이다."
   ]
  },
  {
   "attachments": {},
   "cell_type": "markdown",
   "id": "290ba43d",
   "metadata": {},
   "source": [
    "파이썬 객체의 해시 가능성은 `hash()` 함수의 인자로 사용될 수 있는가에 의해 결정된다.\n",
    "즉 `hash()` 함수와 함께 호출됐을 때 오류가 발생하지 않아야 한다.\n",
    "이렇게 `hash()` 함수의 인자로 사용될 수 있는 값을\n",
    "**해시 가능**<font size=\"2\">hashable</font>하다고 부른다.\n",
    "\n",
    "해시 가능한 인자에 대해 `hash()` 함수의 반환값은 특정 정수이며\n",
    "서로 다른 인자에 대해 서로 다른 정수를 반환한다.\n",
    "즉, 조금이라도 다른 해시 가능한 객체가 인자로 지정되면 다른 값을 계산한다."
   ]
  },
  {
   "cell_type": "code",
   "execution_count": 3,
   "id": "32e7f41d",
   "metadata": {},
   "outputs": [
    {
     "data": {
      "text/plain": [
       "-2942655733060632167"
      ]
     },
     "execution_count": 3,
     "metadata": {},
     "output_type": "execute_result"
    }
   ],
   "source": [
    "hash('123')"
   ]
  },
  {
   "cell_type": "code",
   "execution_count": 4,
   "id": "722b2644",
   "metadata": {},
   "outputs": [
    {
     "data": {
      "text/plain": [
       "7692959542629320319"
      ]
     },
     "execution_count": 4,
     "metadata": {},
     "output_type": "execute_result"
    }
   ],
   "source": [
    "hash('123 ')"
   ]
  },
  {
   "cell_type": "code",
   "execution_count": 5,
   "id": "c59865fa",
   "metadata": {},
   "outputs": [
    {
     "data": {
      "text/plain": [
       "-1070212610609621906"
      ]
     },
     "execution_count": 5,
     "metadata": {},
     "output_type": "execute_result"
    }
   ],
   "source": [
    "hash((1, 3, 4))"
   ]
  },
  {
   "cell_type": "code",
   "execution_count": 6,
   "id": "8a730356",
   "metadata": {},
   "outputs": [
    {
     "data": {
      "text/plain": [
       "-4363729961677198915"
      ]
     },
     "execution_count": 6,
     "metadata": {},
     "output_type": "execute_result"
    }
   ],
   "source": [
    "hash((1, 2, 4))"
   ]
  },
  {
   "attachments": {},
   "cell_type": "markdown",
   "id": "75364ad4",
   "metadata": {},
   "source": [
    "반면에 리스트 등 가변 자료형의 객체는 해시 가능하지 않다."
   ]
  },
  {
   "attachments": {},
   "cell_type": "markdown",
   "id": "47c60b81",
   "metadata": {},
   "source": [
    "```python\n",
    ">>> hash([1, 3])\n",
    "TypeError                                 Traceback (most recent call last)\n",
    "~\\AppData\\Local\\Temp\\ipykernel_20092\\1655639645.py in <module>\n",
    "----> 1 hash([1, 3])\n",
    "\n",
    "TypeError: unhashable type: 'list'\n",
    "```"
   ]
  },
  {
   "attachments": {},
   "cell_type": "markdown",
   "id": "8e7b5e8e",
   "metadata": {},
   "source": [
    "리스트를 포함한 튜플도 해시 가능하지 않다."
   ]
  },
  {
   "attachments": {},
   "cell_type": "markdown",
   "id": "e5a1c7dc",
   "metadata": {},
   "source": [
    "```python\n",
    ">>> hash(([1, 2], 3))\n",
    "TypeError                                 Traceback (most recent call last)\n",
    "~\\AppData\\Local\\Temp\\ipykernel_20092\\587436505.py in <module>\n",
    "----> 1 hash(([1, 2], 3))\n",
    "\n",
    "TypeError: unhashable type: 'list'\n",
    "```"
   ]
  },
  {
   "attachments": {},
   "cell_type": "markdown",
   "id": "584cc99b",
   "metadata": {},
   "source": [
    "집합에 해시 가능한 값만 포함될 수 있는 이유는 두 항목을 구별하기 위해 `hash()` 함수를 이용하기 때문이다.\n",
    "반면에 리스트 등과 같은 가변 자료형의 값은 언제든 변할 수 있기에 정체를\n",
    "제대로 파악할 수 없다."
   ]
  },
  {
   "attachments": {},
   "cell_type": "markdown",
   "id": "d87ed4da",
   "metadata": {},
   "source": [
    "### 집합 연산"
   ]
  },
  {
   "attachments": {},
   "cell_type": "markdown",
   "id": "6d420a55-c41c-4a58-94cd-472bf0537065",
   "metadata": {},
   "source": [
    "**`in` 연산자**\n",
    "\n",
    "집합의 항목(원소)으로 등장하는지 여부를 알려주는 논리 연산자다."
   ]
  },
  {
   "cell_type": "code",
   "execution_count": 7,
   "id": "17cb28cc-42d0-4546-a4c0-3c43b1308f71",
   "metadata": {},
   "outputs": [
    {
     "data": {
      "text/plain": [
       "True"
      ]
     },
     "execution_count": 7,
     "metadata": {},
     "output_type": "execute_result"
    }
   ],
   "source": [
    "1 in {1, 2, 3, 9, 4}"
   ]
  },
  {
   "cell_type": "code",
   "execution_count": 8,
   "id": "7f0fccfb-fcc8-4dfe-91f4-765c8ae27916",
   "metadata": {},
   "outputs": [
    {
     "data": {
      "text/plain": [
       "True"
      ]
     },
     "execution_count": 8,
     "metadata": {},
     "output_type": "execute_result"
    }
   ],
   "source": [
    "'a' not in {1, 'b', True, 9}"
   ]
  },
  {
   "attachments": {},
   "cell_type": "markdown",
   "id": "ed1eda65",
   "metadata": {},
   "source": [
    "**`len()` 함수**\n",
    "\n",
    "집합에 포함된 항목의 개수를 반환한다."
   ]
  },
  {
   "cell_type": "code",
   "execution_count": 9,
   "id": "d4c60489",
   "metadata": {},
   "outputs": [
    {
     "data": {
      "text/plain": [
       "5"
      ]
     },
     "execution_count": 9,
     "metadata": {},
     "output_type": "execute_result"
    }
   ],
   "source": [
    "len({1, 3, 5, 7, 9})"
   ]
  },
  {
   "attachments": {},
   "cell_type": "markdown",
   "id": "41e0d9c1",
   "metadata": {},
   "source": [
    "**`min()`/`max()` 함수**\n",
    "\n",
    "항목 중에서 최솟값/최댓값을 확인한다.\n",
    "단, 기본적으로 모든 값의 자료형이 갖고 크기 비교가 가능해야 한다. "
   ]
  },
  {
   "cell_type": "code",
   "execution_count": 10,
   "id": "ca3cf0d6",
   "metadata": {},
   "outputs": [
    {
     "data": {
      "text/plain": [
       "9"
      ]
     },
     "execution_count": 10,
     "metadata": {},
     "output_type": "execute_result"
    }
   ],
   "source": [
    "max({1, 3, 5, 7, 9})"
   ]
  },
  {
   "cell_type": "code",
   "execution_count": 11,
   "id": "a409e703",
   "metadata": {},
   "outputs": [
    {
     "data": {
      "text/plain": [
       "1"
      ]
     },
     "execution_count": 11,
     "metadata": {},
     "output_type": "execute_result"
    }
   ],
   "source": [
    "min({1, 3, 5, 7, 9})"
   ]
  },
  {
   "attachments": {},
   "cell_type": "markdown",
   "id": "dc73831b",
   "metadata": {},
   "source": [
    "(sec:set-methods)=\n",
    "### 집합 메서드  "
   ]
  },
  {
   "attachments": {},
   "cell_type": "markdown",
   "id": "77c077ac-a751-4279-b24a-12c22b397c6c",
   "metadata": {},
   "source": [
    "집합 자료형이 제공하는 주요 메서드는 아래와 같다."
   ]
  },
  {
   "attachments": {},
   "cell_type": "markdown",
   "id": "f1cf58a3-c068-42f4-81c6-9d716eb5f8c7",
   "metadata": {},
   "source": [
    "|메서드|설명|\n",
    "|:----------|:----------|\n",
    "|`set.union()`|합집합 반환|\n",
    "|`set.intersection()`|교집합 반환|\n",
    "|`set.difference()`|차집합 반환|\n",
    "|`set.issubset()`|부분 집합 여부를 판단하여 반환|\n",
    "|`set.add()`|항목추가. 반환값은 `None`|\n",
    "|`set.remove()`|특정 항목 삭제. 반환값은 `None`|\n",
    "|`set.pop()`|임의의 항목 삭제. 반환값은 삭제하는 항목. 공집합에 사용하면 오류 발생|\n",
    "|`set.clear()`|모든 항목을 삭제. 반환값은 `None`|\n",
    "|`set.update()`|여러 개의 항목 한번에 추가. 반환값은 `None`|"
   ]
  },
  {
   "attachments": {},
   "cell_type": "markdown",
   "id": "adeaa229",
   "metadata": {},
   "source": [
    "**`union()` 메서드: 합집합**"
   ]
  },
  {
   "cell_type": "code",
   "execution_count": 12,
   "id": "b08a84c9",
   "metadata": {},
   "outputs": [
    {
     "data": {
      "text/plain": [
       "{1, 2, 3, 4}"
      ]
     },
     "execution_count": 12,
     "metadata": {},
     "output_type": "execute_result"
    }
   ],
   "source": [
    "{1, 2}.union({3, 4})"
   ]
  },
  {
   "attachments": {},
   "cell_type": "markdown",
   "id": "d2a4fcd4",
   "metadata": {},
   "source": [
    "**`intersection()` 메서드: 교집합**"
   ]
  },
  {
   "cell_type": "code",
   "execution_count": 13,
   "id": "e384b6c4",
   "metadata": {},
   "outputs": [
    {
     "data": {
      "text/plain": [
       "{3}"
      ]
     },
     "execution_count": 13,
     "metadata": {},
     "output_type": "execute_result"
    }
   ],
   "source": [
    "{1, 2, 3}.intersection({3, 4})"
   ]
  },
  {
   "attachments": {},
   "cell_type": "markdown",
   "id": "89c34593",
   "metadata": {},
   "source": [
    "**`difference()` 메서드: 집합 뺄셈**"
   ]
  },
  {
   "cell_type": "code",
   "execution_count": 14,
   "id": "0841c5fe",
   "metadata": {},
   "outputs": [
    {
     "data": {
      "text/plain": [
       "{1, 2}"
      ]
     },
     "execution_count": 14,
     "metadata": {},
     "output_type": "execute_result"
    }
   ],
   "source": [
    "{1, 2, 3}.difference({3, 4})"
   ]
  },
  {
   "attachments": {},
   "cell_type": "markdown",
   "id": "45a87665",
   "metadata": {},
   "source": [
    "**`issubset()` 메서드: 부분집합 관계**"
   ]
  },
  {
   "cell_type": "code",
   "execution_count": 15,
   "id": "6f0780ec",
   "metadata": {},
   "outputs": [
    {
     "data": {
      "text/plain": [
       "False"
      ]
     },
     "execution_count": 15,
     "metadata": {},
     "output_type": "execute_result"
    }
   ],
   "source": [
    "{1, 2, 3}.issubset({3, 4})"
   ]
  },
  {
   "cell_type": "code",
   "execution_count": 16,
   "id": "c0f6ad06",
   "metadata": {},
   "outputs": [
    {
     "data": {
      "text/plain": [
       "True"
      ]
     },
     "execution_count": 16,
     "metadata": {},
     "output_type": "execute_result"
    }
   ],
   "source": [
    "{1, 2, 3}.issubset({1, 2, 3, 4})"
   ]
  },
  {
   "attachments": {},
   "cell_type": "markdown",
   "id": "bab03dcd",
   "metadata": {},
   "source": [
    "**`add()` 메서드: 항목 추가**"
   ]
  },
  {
   "cell_type": "code",
   "execution_count": 17,
   "id": "a75aa97f-b179-46f8-a972-b3e491e0cb0c",
   "metadata": {},
   "outputs": [
    {
     "data": {
      "text/plain": [
       "{1, 2, 3, 4, 8}"
      ]
     },
     "execution_count": 17,
     "metadata": {},
     "output_type": "execute_result"
    }
   ],
   "source": [
    "a_set = {1, 2, 3, 4}\n",
    "a_set.add(8)\n",
    "a_set"
   ]
  },
  {
   "attachments": {},
   "cell_type": "markdown",
   "id": "02cfa29d",
   "metadata": {},
   "source": [
    "**`remove()` 메서드: 지정된 항목 제거**"
   ]
  },
  {
   "cell_type": "code",
   "execution_count": 18,
   "id": "8122cbd0-02f3-4d76-bfed-3649c27b7086",
   "metadata": {},
   "outputs": [
    {
     "data": {
      "text/plain": [
       "{2, 3, 4, 8}"
      ]
     },
     "execution_count": 18,
     "metadata": {},
     "output_type": "execute_result"
    }
   ],
   "source": [
    "a_set.remove(1)\n",
    "a_set"
   ]
  },
  {
   "attachments": {},
   "cell_type": "markdown",
   "id": "a3c5d9ee",
   "metadata": {},
   "source": [
    "**`pop()` 메서드: 임의 항목 제거**"
   ]
  },
  {
   "cell_type": "code",
   "execution_count": 19,
   "id": "59d2f4d3",
   "metadata": {},
   "outputs": [
    {
     "data": {
      "text/plain": [
       "2"
      ]
     },
     "execution_count": 19,
     "metadata": {},
     "output_type": "execute_result"
    }
   ],
   "source": [
    "a_set.pop()"
   ]
  },
  {
   "cell_type": "code",
   "execution_count": 20,
   "id": "11f53844-f993-43df-b324-64eabaf6de43",
   "metadata": {},
   "outputs": [
    {
     "data": {
      "text/plain": [
       "{3, 4, 8}"
      ]
     },
     "execution_count": 20,
     "metadata": {},
     "output_type": "execute_result"
    }
   ],
   "source": [
    "a_set"
   ]
  },
  {
   "attachments": {},
   "cell_type": "markdown",
   "id": "7970c1d1",
   "metadata": {},
   "source": [
    "**`clear()` 메서드: 모든 항목 제거**"
   ]
  },
  {
   "cell_type": "code",
   "execution_count": 21,
   "id": "6c07bae2-2976-4874-8bba-8d2d1a954000",
   "metadata": {},
   "outputs": [
    {
     "data": {
      "text/plain": [
       "set()"
      ]
     },
     "execution_count": 21,
     "metadata": {},
     "output_type": "execute_result"
    }
   ],
   "source": [
    "a_set.clear()\n",
    "a_set"
   ]
  },
  {
   "attachments": {},
   "cell_type": "markdown",
   "id": "5131d0ef",
   "metadata": {},
   "source": [
    "**`update()` 메서드: 여러 항목 추가**"
   ]
  },
  {
   "cell_type": "code",
   "execution_count": 22,
   "id": "31eb9b14-2517-44ea-bc3a-e8d39f16b525",
   "metadata": {},
   "outputs": [
    {
     "data": {
      "text/plain": [
       "{5, 10, 15}"
      ]
     },
     "execution_count": 22,
     "metadata": {},
     "output_type": "execute_result"
    }
   ],
   "source": [
    "a_set.update({5, 10, 15})\n",
    "a_set"
   ]
  },
  {
   "attachments": {},
   "cell_type": "markdown",
   "id": "0b8afc70",
   "metadata": {
    "tags": []
   },
   "source": [
    "## 사전 "
   ]
  },
  {
   "attachments": {},
   "cell_type": "markdown",
   "id": "c2a79eaf",
   "metadata": {
    "tags": []
   },
   "source": [
    "사전 자료형은 **키**<font size = \"2\">key</font>와 **값**<font size = \"2\">value</font>의\n",
    "쌍으로 구성된 항목들의 집합이며, **딕셔너리**<font size = \"2\">dictionary</font> 라고도 불린다.\n",
    "예를 들어, `'Hello'` 와 `'World'` 를 키로, `'안녕'`, `'세계'` 를 각 키에 대한 값으로\n",
    "갖는 사전은 다음과 같다.\n",
    "\n",
    "```python\n",
    "{'Hello':'안녕', 'World':'세계'}\n",
    "```"
   ]
  },
  {
   "attachments": {},
   "cell_type": "markdown",
   "id": "0880afbe-0cc8-4e50-90f4-151cbadf4f15",
   "metadata": {
    "tags": []
   },
   "source": [
    ":::{admonition} 사전의 키와 해시 가능성\n",
    ":class: info\n",
    "\n",
    "사전의 키는 앞서 집합과 관련해서 설명한 것과 동일한 이유로 \n",
    "정수, 부동소수점, 문자열, 튜플 등 해시 가능한 객체만 가능하다.\n",
    ":::"
   ]
  },
  {
   "attachments": {},
   "cell_type": "markdown",
   "id": "fbc7ef2b-bbb9-44ff-9078-740d1c17fdbd",
   "metadata": {},
   "source": [
    "**빈 사전**"
   ]
  },
  {
   "attachments": {},
   "cell_type": "markdown",
   "id": "2e8e8b8b-c4ce-4c3a-9939-d47d8422b920",
   "metadata": {},
   "source": [
    "빈 사전은 아무것도 포함하지 않는 사전을 의미한다. 빈 사전를 만드는 방법은 아래와 같다. "
   ]
  },
  {
   "cell_type": "code",
   "execution_count": 23,
   "id": "08d97d1a-9b6a-4187-a55d-c0840b138703",
   "metadata": {},
   "outputs": [
    {
     "data": {
      "text/plain": [
       "{}"
      ]
     },
     "execution_count": 23,
     "metadata": {},
     "output_type": "execute_result"
    }
   ],
   "source": [
    "empty_dict = {}\n",
    "empty_dict"
   ]
  },
  {
   "attachments": {},
   "cell_type": "markdown",
   "id": "784743b9",
   "metadata": {},
   "source": [
    "다음 방식도 가능하다."
   ]
  },
  {
   "cell_type": "code",
   "execution_count": 24,
   "id": "a306b262",
   "metadata": {},
   "outputs": [
    {
     "data": {
      "text/plain": [
       "{}"
      ]
     },
     "execution_count": 24,
     "metadata": {},
     "output_type": "execute_result"
    }
   ],
   "source": [
    "empty_dict = dict()\n",
    "empty_dict"
   ]
  },
  {
   "attachments": {},
   "cell_type": "markdown",
   "id": "e1bb26b2",
   "metadata": {},
   "source": [
    "### 사전 연산"
   ]
  },
  {
   "attachments": {},
   "cell_type": "markdown",
   "id": "59f8d6f2-2be8-462d-bd2d-80544238c8de",
   "metadata": {},
   "source": [
    "**`in` 연산자**\n",
    "\n",
    "사전의 키로 사용되었는 여부를 알려주는 논리 연산자다."
   ]
  },
  {
   "cell_type": "code",
   "execution_count": 25,
   "id": "daaf2553-7e40-4d01-9325-547d32d353cf",
   "metadata": {},
   "outputs": [
    {
     "data": {
      "text/plain": [
       "False"
      ]
     },
     "execution_count": 25,
     "metadata": {},
     "output_type": "execute_result"
    }
   ],
   "source": [
    "'city' in {\"name\": \"강현\", \"age\": \"3\"} "
   ]
  },
  {
   "attachments": {},
   "cell_type": "markdown",
   "id": "1f68439b",
   "metadata": {},
   "source": [
    "`in`의 부정은 `not in`을 사용한다. 즉\n",
    "키로 사용되지 않았는지 여부를 뭍는다."
   ]
  },
  {
   "cell_type": "code",
   "execution_count": 26,
   "id": "1779d3ca-01f1-4b94-b549-272b5e68808a",
   "metadata": {},
   "outputs": [
    {
     "data": {
      "text/plain": [
       "True"
      ]
     },
     "execution_count": 26,
     "metadata": {},
     "output_type": "execute_result"
    }
   ],
   "source": [
    "'city' not in {\"name\": \"강현\", \"age\": \"3\"} "
   ]
  },
  {
   "attachments": {},
   "cell_type": "markdown",
   "id": "2fb53924",
   "metadata": {},
   "source": [
    "**`len()` 함수**\n",
    "\n",
    "사전에 포함된 항목의 개수를 반환한다."
   ]
  },
  {
   "cell_type": "code",
   "execution_count": 27,
   "id": "96605a0b",
   "metadata": {},
   "outputs": [
    {
     "data": {
      "text/plain": [
       "2"
      ]
     },
     "execution_count": 27,
     "metadata": {},
     "output_type": "execute_result"
    }
   ],
   "source": [
    "len({\"name\": \"강현\", \"age\": \"3\"}) "
   ]
  },
  {
   "attachments": {},
   "cell_type": "markdown",
   "id": "acb8f670",
   "metadata": {},
   "source": [
    "**`min()`/`max()` 함수**\n",
    "\n",
    "키로 사용된 값들 중에서 최솟값/최댓값을 확인한다.\n",
    "단, 키들의 기본적으로 자료형이 같고 크기 비교가 가능해야 한다."
   ]
  },
  {
   "cell_type": "code",
   "execution_count": 28,
   "id": "59a9ebfd-a3d4-484d-af81-240f17016f46",
   "metadata": {},
   "outputs": [
    {
     "data": {
      "text/plain": [
       "3"
      ]
     },
     "execution_count": 28,
     "metadata": {},
     "output_type": "execute_result"
    }
   ],
   "source": [
    "max({1 : 'one', 2 : 'two', 3 : 'three'})"
   ]
  },
  {
   "cell_type": "code",
   "execution_count": 29,
   "id": "77a66921-c177-4c97-8c8f-a5c96d97f7ed",
   "metadata": {},
   "outputs": [
    {
     "data": {
      "text/plain": [
       "1"
      ]
     },
     "execution_count": 29,
     "metadata": {},
     "output_type": "execute_result"
    }
   ],
   "source": [
    "min({1 : 'one', 2 : 'two', 3 : 'three'})"
   ]
  },
  {
   "attachments": {},
   "cell_type": "markdown",
   "id": "aa272959",
   "metadata": {},
   "source": [
    "### 사전 인덱싱 "
   ]
  },
  {
   "attachments": {},
   "cell_type": "markdown",
   "id": "e170b2bf-fda4-48c1-ad26-e05a252f7670",
   "metadata": {},
   "source": [
    "사전에 사용된 키를 이용한 인덱싱이 지원된다. \n",
    "예를 들어, 아래 딕셔너리 `dic`에서 `'Hello'`에 대응하는 값을 확인하고자 하면  \n",
    "다음과 같이 대괄호를 사용하는 인덱싱을 이용한다. "
   ]
  },
  {
   "cell_type": "code",
   "execution_count": 30,
   "id": "d8a14725-7fcb-4c66-878c-b5984d4fd7de",
   "metadata": {},
   "outputs": [
    {
     "data": {
      "text/plain": [
       "'안녕'"
      ]
     },
     "execution_count": 30,
     "metadata": {},
     "output_type": "execute_result"
    }
   ],
   "source": [
    "dic = {'Hello' : '안녕', 'World' : '세계'}\n",
    "dic['Hello']"
   ]
  },
  {
   "attachments": {},
   "cell_type": "markdown",
   "id": "0b9250f9-9288-49e2-a4e7-29f845900e10",
   "metadata": {},
   "source": [
    "존재하지 않는 키로 값을 추출하려고 하면, 오류가 발생한다. \n",
    "\n",
    "```python\n",
    ">>> dic['Python']\n",
    "KeyError                                  Traceback (most recent call last)\n",
    "/tmp/ipykernel_1817/1517958361.py in <module>\n",
    "----> 1 dic['Python']\n",
    "\n",
    "KeyError: 'Python'\n",
    "```"
   ]
  },
  {
   "attachments": {},
   "cell_type": "markdown",
   "id": "681d54c1",
   "metadata": {},
   "source": [
    "### 항목의 추가와 업데이트"
   ]
  },
  {
   "attachments": {},
   "cell_type": "markdown",
   "id": "618f137d-a6b9-41b1-b93c-2bcd87a1803b",
   "metadata": {},
   "source": [
    "아래와 같은 형식으로 사전에 항목을 추가하거나 업데이트 한다.\n",
    "\n",
    "```python\n",
    "사전[key] = value\n",
    "```   \n",
    "\n",
    "예를 들어, `dic`에 `Python : 파이썬` 항목을 다음과 같이 추가할 수 있다."
   ]
  },
  {
   "cell_type": "code",
   "execution_count": 31,
   "id": "4bf19159-ab0d-41a0-b83c-58e90ae4d730",
   "metadata": {},
   "outputs": [
    {
     "data": {
      "text/plain": [
       "{'Hello': '안녕', 'World': '세계', 'Python': '파이썬'}"
      ]
     },
     "execution_count": 31,
     "metadata": {},
     "output_type": "execute_result"
    }
   ],
   "source": [
    "dic['Python'] = '파이썬'\n",
    "\n",
    "dic"
   ]
  },
  {
   "attachments": {},
   "cell_type": "markdown",
   "id": "660ed0ad",
   "metadata": {},
   "source": [
    "이미 사용된 키를 이용하면 키와 연결된 값이 업데이트 된다."
   ]
  },
  {
   "cell_type": "code",
   "execution_count": 32,
   "id": "c17f9966",
   "metadata": {},
   "outputs": [
    {
     "data": {
      "text/plain": [
       "{'Hello': '안녕', 'World': '세상', 'Python': '파이썬'}"
      ]
     },
     "execution_count": 32,
     "metadata": {},
     "output_type": "execute_result"
    }
   ],
   "source": [
    "dic['World'] = '세상'\n",
    "dic"
   ]
  },
  {
   "attachments": {},
   "cell_type": "markdown",
   "id": "0c0dfcf1",
   "metadata": {},
   "source": [
    "### 항목 삭제"
   ]
  },
  {
   "attachments": {},
   "cell_type": "markdown",
   "id": "47294da8-1afd-4ee1-8342-ed9a1be819f0",
   "metadata": {},
   "source": [
    "사전의 항목은 `del` 명령어를 사용하여 키를 지정하여 삭제한다."
   ]
  },
  {
   "cell_type": "code",
   "execution_count": 33,
   "id": "2151b31d-e90b-4512-b116-90ad57c39630",
   "metadata": {},
   "outputs": [
    {
     "data": {
      "text/plain": [
       "{'Hello': '안녕', 'Python': '파이썬'}"
      ]
     },
     "execution_count": 33,
     "metadata": {},
     "output_type": "execute_result"
    }
   ],
   "source": [
    "del dic['World']\n",
    "dic"
   ]
  },
  {
   "attachments": {},
   "cell_type": "markdown",
   "id": "62c6c0cc",
   "metadata": {},
   "source": [
    "### 사전 메서드 "
   ]
  },
  {
   "attachments": {},
   "cell_type": "markdown",
   "id": "5280e1d5-9c12-4a87-81d3-33e4d8c6585c",
   "metadata": {},
   "source": [
    "사전 자료형이 제공하는 주요 메서드는 아래와 같다."
   ]
  },
  {
   "attachments": {},
   "cell_type": "markdown",
   "id": "bc1f4cb5-b141-45b9-8532-e4fd5b4dcdd9",
   "metadata": {},
   "source": [
    "|메서드|설명|\n",
    "|:----------|:----------|\n",
    "|`dict.keys()`|사전에 사용된 key들을 모두 모아서 리스트와 비슷한 자료형을 만들어서 반환|\n",
    "|`dict.values()`|사전에 사용된 value들을 모두 모아서 리스트와 비슷한 자료형을 만들어서 반환\n",
    "|`dict.items()`|사전에 사용된 item들을 모두 모아서 리스트와 비슷한 자료형으로 만들어서 반환|\n",
    "|`dict.get()`|key에 대응되는 value를 반환. 존재하지 않는 key를 사용하면 `None`을 반환\n",
    "|`dict.update()`|다른 사전과 합함. 반환값은 `None`|\n",
    "|`dict.pop()`|key에 해당하는 항목을 삭제. 반환값은 key에 대응하는 value. key가 존재하지 않으면 오류 발생.|\n",
    "|`dict.clear()`|사전 안의 모든 항목들을 삭제. 반환값은 `None`|"
   ]
  },
  {
   "cell_type": "code",
   "execution_count": 34,
   "id": "3d2f4a4c",
   "metadata": {},
   "outputs": [],
   "source": [
    "dic = {'Hello' : '안녕', 'World' : '세계'}"
   ]
  },
  {
   "attachments": {},
   "cell_type": "markdown",
   "id": "bbc1d17f",
   "metadata": {},
   "source": [
    "**`keys()` 메서드: 키로 이루어진 모음 자료형 반환**"
   ]
  },
  {
   "cell_type": "code",
   "execution_count": 35,
   "id": "9659b231",
   "metadata": {},
   "outputs": [
    {
     "data": {
      "text/plain": [
       "dict_keys(['Hello', 'World'])"
      ]
     },
     "execution_count": 35,
     "metadata": {},
     "output_type": "execute_result"
    }
   ],
   "source": [
    "dic.keys()"
   ]
  },
  {
   "attachments": {},
   "cell_type": "markdown",
   "id": "ebdb3dbc",
   "metadata": {},
   "source": [
    "**`values()` 메서드: 값으로 이루어진 모음 자료형 반환**"
   ]
  },
  {
   "cell_type": "code",
   "execution_count": 36,
   "id": "375346e7",
   "metadata": {},
   "outputs": [
    {
     "data": {
      "text/plain": [
       "dict_values(['안녕', '세계'])"
      ]
     },
     "execution_count": 36,
     "metadata": {},
     "output_type": "execute_result"
    }
   ],
   "source": [
    "dic.values()"
   ]
  },
  {
   "attachments": {},
   "cell_type": "markdown",
   "id": "d6c51278",
   "metadata": {},
   "source": [
    "**`items()` 메서드: (키, 값) 모양의 쌍으로 이루어진 모음 자료형 반환**"
   ]
  },
  {
   "cell_type": "code",
   "execution_count": 37,
   "id": "c0aed9b6",
   "metadata": {},
   "outputs": [
    {
     "data": {
      "text/plain": [
       "dict_items([('Hello', '안녕'), ('World', '세계')])"
      ]
     },
     "execution_count": 37,
     "metadata": {},
     "output_type": "execute_result"
    }
   ],
   "source": [
    "dic.items()"
   ]
  },
  {
   "attachments": {},
   "cell_type": "markdown",
   "id": "19f33add",
   "metadata": {},
   "source": [
    "**`get()` 메서드: 지정된 키와 연관된 값 반환**"
   ]
  },
  {
   "cell_type": "code",
   "execution_count": 38,
   "id": "3af0c38a",
   "metadata": {},
   "outputs": [
    {
     "data": {
      "text/plain": [
       "'안녕'"
      ]
     },
     "execution_count": 38,
     "metadata": {},
     "output_type": "execute_result"
    }
   ],
   "source": [
    "dic.get('Hello')"
   ]
  },
  {
   "attachments": {},
   "cell_type": "markdown",
   "id": "4102254c",
   "metadata": {},
   "source": [
    "존재하지 않는 키를 사용하면 기본값으로 `None`이 사용된다."
   ]
  },
  {
   "cell_type": "code",
   "execution_count": 39,
   "id": "41da7ee6",
   "metadata": {},
   "outputs": [],
   "source": [
    "dic.get('hello')"
   ]
  },
  {
   "attachments": {},
   "cell_type": "markdown",
   "id": "54f2b9d1",
   "metadata": {},
   "source": [
    "키가 사용되지 않았을 때 기본값을 바꾸려면 둘째 인자를 지정한다."
   ]
  },
  {
   "cell_type": "code",
   "execution_count": 40,
   "id": "44966d5a",
   "metadata": {},
   "outputs": [
    {
     "data": {
      "text/plain": [
       "'해당 키가 없어요.'"
      ]
     },
     "execution_count": 40,
     "metadata": {},
     "output_type": "execute_result"
    }
   ],
   "source": [
    "dic.get('hello', \"해당 키가 없어요.\")"
   ]
  },
  {
   "attachments": {},
   "cell_type": "markdown",
   "id": "067dd003",
   "metadata": {},
   "source": [
    "**`update()` 메서드: 여러 항목 추가**"
   ]
  },
  {
   "cell_type": "code",
   "execution_count": 41,
   "id": "53cd4d40",
   "metadata": {},
   "outputs": [],
   "source": [
    "dic.update({'Python' : '파이썬', 'Programming' : '프로그래밍'})"
   ]
  },
  {
   "cell_type": "code",
   "execution_count": 42,
   "id": "c1268cd5-b9f9-4b36-93bd-a15ca1f41906",
   "metadata": {},
   "outputs": [
    {
     "data": {
      "text/plain": [
       "{'Hello': '안녕', 'World': '세계', 'Python': '파이썬', 'Programming': '프로그래밍'}"
      ]
     },
     "execution_count": 42,
     "metadata": {},
     "output_type": "execute_result"
    }
   ],
   "source": [
    "dic"
   ]
  },
  {
   "attachments": {},
   "cell_type": "markdown",
   "id": "be47ac05",
   "metadata": {},
   "source": [
    "**`pop()` 메서드: 지정된 키 항목 삭제. 반환값은 키와 연관된 값**"
   ]
  },
  {
   "cell_type": "code",
   "execution_count": 43,
   "id": "b7195043",
   "metadata": {},
   "outputs": [
    {
     "data": {
      "text/plain": [
       "'파이썬'"
      ]
     },
     "execution_count": 43,
     "metadata": {},
     "output_type": "execute_result"
    }
   ],
   "source": [
    "dic.pop('Python')"
   ]
  },
  {
   "cell_type": "code",
   "execution_count": 44,
   "id": "64c6dbd9-c7f3-4d32-959e-b255d2872a7b",
   "metadata": {},
   "outputs": [
    {
     "data": {
      "text/plain": [
       "{'Hello': '안녕', 'World': '세계', 'Programming': '프로그래밍'}"
      ]
     },
     "execution_count": 44,
     "metadata": {},
     "output_type": "execute_result"
    }
   ],
   "source": [
    "dic"
   ]
  },
  {
   "attachments": {},
   "cell_type": "markdown",
   "id": "e3b4a496",
   "metadata": {},
   "source": [
    "**`clear()` 메서드: 전체 항목 삭제**"
   ]
  },
  {
   "cell_type": "code",
   "execution_count": 45,
   "id": "eeb429bf",
   "metadata": {},
   "outputs": [],
   "source": [
    "dic.clear()"
   ]
  },
  {
   "cell_type": "code",
   "execution_count": 46,
   "id": "3f59b7f1-2288-41ac-8d7f-2da2d986264c",
   "metadata": {},
   "outputs": [
    {
     "data": {
      "text/plain": [
       "{}"
      ]
     },
     "execution_count": 46,
     "metadata": {},
     "output_type": "execute_result"
    }
   ],
   "source": [
    "dic"
   ]
  },
  {
   "attachments": {},
   "cell_type": "markdown",
   "id": "319de1c9-4138-4724-93d2-314961929185",
   "metadata": {},
   "source": [
    "## 형변환 함수"
   ]
  },
  {
   "attachments": {},
   "cell_type": "markdown",
   "id": "c4b09723-6104-4109-bb66-6eb41b1cca9d",
   "metadata": {},
   "source": [
    "**`list()` 함수**\n",
    "\n",
    "임의의 모음 자료형을 리스트로 변환한다."
   ]
  },
  {
   "cell_type": "code",
   "execution_count": 47,
   "id": "ab903b39-5f15-4675-bc4b-dca1ddbe3433",
   "metadata": {},
   "outputs": [
    {
     "data": {
      "text/plain": [
       "['a', 'b', 'c']"
      ]
     },
     "execution_count": 47,
     "metadata": {},
     "output_type": "execute_result"
    }
   ],
   "source": [
    "list('abc')"
   ]
  },
  {
   "cell_type": "code",
   "execution_count": 48,
   "id": "8f212274-ca48-4ed1-98bc-8134d50e1fdd",
   "metadata": {},
   "outputs": [
    {
     "data": {
      "text/plain": [
       "[1, 2, 3]"
      ]
     },
     "execution_count": 48,
     "metadata": {},
     "output_type": "execute_result"
    }
   ],
   "source": [
    "list((1, 2, 3))"
   ]
  },
  {
   "cell_type": "code",
   "execution_count": 49,
   "id": "841be636-0d7a-4ff7-882d-6c3cf7e5c068",
   "metadata": {},
   "outputs": [
    {
     "data": {
      "text/plain": [
       "[1, 2, 5]"
      ]
     },
     "execution_count": 49,
     "metadata": {},
     "output_type": "execute_result"
    }
   ],
   "source": [
    "list({1, 2, 5})"
   ]
  },
  {
   "attachments": {},
   "cell_type": "markdown",
   "id": "af77034e",
   "metadata": {},
   "source": [
    "사전은 여러 방식으로 변환된다."
   ]
  },
  {
   "cell_type": "code",
   "execution_count": 50,
   "id": "6a45e702",
   "metadata": {},
   "outputs": [],
   "source": [
    "dic = {'Hello' : '안녕', 'World' : '세계'}"
   ]
  },
  {
   "attachments": {},
   "cell_type": "markdown",
   "id": "01616c30",
   "metadata": {},
   "source": [
    "* 키 리스트"
   ]
  },
  {
   "cell_type": "code",
   "execution_count": 51,
   "id": "f99dc9c6",
   "metadata": {},
   "outputs": [
    {
     "data": {
      "text/plain": [
       "['Hello', 'World']"
      ]
     },
     "execution_count": 51,
     "metadata": {},
     "output_type": "execute_result"
    }
   ],
   "source": [
    "list(dic)"
   ]
  },
  {
   "cell_type": "code",
   "execution_count": 52,
   "id": "9d88008a",
   "metadata": {},
   "outputs": [
    {
     "data": {
      "text/plain": [
       "['Hello', 'World']"
      ]
     },
     "execution_count": 52,
     "metadata": {},
     "output_type": "execute_result"
    }
   ],
   "source": [
    "list(dic.keys())"
   ]
  },
  {
   "attachments": {},
   "cell_type": "markdown",
   "id": "9b7b367a",
   "metadata": {},
   "source": [
    "* 값 리스트"
   ]
  },
  {
   "cell_type": "code",
   "execution_count": 53,
   "id": "6a5faf9f",
   "metadata": {},
   "outputs": [
    {
     "data": {
      "text/plain": [
       "['안녕', '세계']"
      ]
     },
     "execution_count": 53,
     "metadata": {},
     "output_type": "execute_result"
    }
   ],
   "source": [
    "list(dic.values())"
   ]
  },
  {
   "attachments": {},
   "cell_type": "markdown",
   "id": "184a9a41",
   "metadata": {},
   "source": [
    "* (키, 값) 리스트"
   ]
  },
  {
   "cell_type": "code",
   "execution_count": 54,
   "id": "375cb576-1017-42ac-a1db-4dfb887088e7",
   "metadata": {},
   "outputs": [
    {
     "data": {
      "text/plain": [
       "[('Hello', '안녕'), ('World', '세계')]"
      ]
     },
     "execution_count": 54,
     "metadata": {},
     "output_type": "execute_result"
    }
   ],
   "source": [
    "list(dic.items())"
   ]
  },
  {
   "attachments": {},
   "cell_type": "markdown",
   "id": "44f98162-6279-4b8b-a0aa-114d29526871",
   "metadata": {},
   "source": [
    "**`tuple()` 함수**\n",
    "\n",
    "임의의 모음 자료형을 튜플로 변환한다."
   ]
  },
  {
   "cell_type": "code",
   "execution_count": 55,
   "id": "446ce8ca-63e0-45ae-af89-60ca347bca90",
   "metadata": {},
   "outputs": [
    {
     "data": {
      "text/plain": [
       "('a', 'b', 'c')"
      ]
     },
     "execution_count": 55,
     "metadata": {},
     "output_type": "execute_result"
    }
   ],
   "source": [
    "tuple('abc')"
   ]
  },
  {
   "cell_type": "code",
   "execution_count": 56,
   "id": "628b9998-dcb9-4754-bc17-8ee168ec8193",
   "metadata": {},
   "outputs": [
    {
     "data": {
      "text/plain": [
       "(1, 2, 3)"
      ]
     },
     "execution_count": 56,
     "metadata": {},
     "output_type": "execute_result"
    }
   ],
   "source": [
    "tuple([1, 2, 3])"
   ]
  },
  {
   "cell_type": "code",
   "execution_count": 57,
   "id": "04c5e64b-e018-4b2a-b5e0-03a76294437a",
   "metadata": {},
   "outputs": [
    {
     "data": {
      "text/plain": [
       "(1, 2, 5)"
      ]
     },
     "execution_count": 57,
     "metadata": {},
     "output_type": "execute_result"
    }
   ],
   "source": [
    "tuple({1, 2, 5})"
   ]
  },
  {
   "attachments": {},
   "cell_type": "markdown",
   "id": "6f4b3964",
   "metadata": {},
   "source": [
    "사전에 대해서는 `list()` 함수와 동일한 방식으로 작동한다."
   ]
  },
  {
   "cell_type": "code",
   "execution_count": 58,
   "id": "22525881",
   "metadata": {},
   "outputs": [],
   "source": [
    "dic = {'Hello' : '안녕', 'World' : '세계'}"
   ]
  },
  {
   "cell_type": "code",
   "execution_count": 59,
   "id": "20939c2f",
   "metadata": {},
   "outputs": [
    {
     "data": {
      "text/plain": [
       "('Hello', 'World')"
      ]
     },
     "execution_count": 59,
     "metadata": {},
     "output_type": "execute_result"
    }
   ],
   "source": [
    "tuple(dic)"
   ]
  },
  {
   "cell_type": "code",
   "execution_count": 60,
   "id": "d1765553",
   "metadata": {},
   "outputs": [
    {
     "data": {
      "text/plain": [
       "('Hello', 'World')"
      ]
     },
     "execution_count": 60,
     "metadata": {},
     "output_type": "execute_result"
    }
   ],
   "source": [
    "tuple(dic.keys())"
   ]
  },
  {
   "cell_type": "code",
   "execution_count": 61,
   "id": "0db866d7",
   "metadata": {},
   "outputs": [
    {
     "data": {
      "text/plain": [
       "('안녕', '세계')"
      ]
     },
     "execution_count": 61,
     "metadata": {},
     "output_type": "execute_result"
    }
   ],
   "source": [
    "tuple(dic.values())"
   ]
  },
  {
   "cell_type": "code",
   "execution_count": 62,
   "id": "d34c4768",
   "metadata": {},
   "outputs": [
    {
     "data": {
      "text/plain": [
       "(('Hello', '안녕'), ('World', '세계'))"
      ]
     },
     "execution_count": 62,
     "metadata": {},
     "output_type": "execute_result"
    }
   ],
   "source": [
    "tuple(dic.items())"
   ]
  },
  {
   "attachments": {},
   "cell_type": "markdown",
   "id": "1641da91-649c-49f3-b652-1055e59bc440",
   "metadata": {},
   "source": [
    "**`set()` 함수**\n",
    "\n",
    "임의의 모음 자료형을 집합으로 변환한다.\n",
    "이 과정에서 순서와 중복이 무시된다."
   ]
  },
  {
   "cell_type": "code",
   "execution_count": 63,
   "id": "3fbe1fa9-ec0d-421a-80aa-af40af935397",
   "metadata": {},
   "outputs": [
    {
     "data": {
      "text/plain": [
       "{'a', 'b', 'c'}"
      ]
     },
     "execution_count": 63,
     "metadata": {},
     "output_type": "execute_result"
    }
   ],
   "source": [
    "set('abc')"
   ]
  },
  {
   "cell_type": "code",
   "execution_count": 64,
   "id": "53fd9901-484d-4a91-8882-7b0c8c06697e",
   "metadata": {},
   "outputs": [
    {
     "data": {
      "text/plain": [
       "{1, 2, 5}"
      ]
     },
     "execution_count": 64,
     "metadata": {},
     "output_type": "execute_result"
    }
   ],
   "source": [
    "set([1, 1, 2, 5])"
   ]
  },
  {
   "cell_type": "code",
   "execution_count": 65,
   "id": "fd916e01-1ce2-4705-97d6-9621b5ac7dab",
   "metadata": {},
   "outputs": [
    {
     "data": {
      "text/plain": [
       "{1, 3, 9}"
      ]
     },
     "execution_count": 65,
     "metadata": {},
     "output_type": "execute_result"
    }
   ],
   "source": [
    "set((1, 3, 3, 9, 1))"
   ]
  },
  {
   "cell_type": "code",
   "execution_count": 66,
   "id": "6d13d87f",
   "metadata": {},
   "outputs": [],
   "source": [
    "dic = {'Hello' : '안녕', 'World' : '세계'}"
   ]
  },
  {
   "cell_type": "code",
   "execution_count": 67,
   "id": "afff66cc",
   "metadata": {},
   "outputs": [
    {
     "data": {
      "text/plain": [
       "{'Hello', 'World'}"
      ]
     },
     "execution_count": 67,
     "metadata": {},
     "output_type": "execute_result"
    }
   ],
   "source": [
    "set(dic)"
   ]
  },
  {
   "cell_type": "code",
   "execution_count": 68,
   "id": "9cc860af",
   "metadata": {},
   "outputs": [
    {
     "data": {
      "text/plain": [
       "{'Hello', 'World'}"
      ]
     },
     "execution_count": 68,
     "metadata": {},
     "output_type": "execute_result"
    }
   ],
   "source": [
    "set(dic.keys())"
   ]
  },
  {
   "cell_type": "code",
   "execution_count": 69,
   "id": "56d15cc0",
   "metadata": {},
   "outputs": [
    {
     "data": {
      "text/plain": [
       "{'세계', '안녕'}"
      ]
     },
     "execution_count": 69,
     "metadata": {},
     "output_type": "execute_result"
    }
   ],
   "source": [
    "set(dic.values())"
   ]
  },
  {
   "cell_type": "code",
   "execution_count": 70,
   "id": "d3420396",
   "metadata": {},
   "outputs": [
    {
     "data": {
      "text/plain": [
       "{('Hello', '안녕'), ('World', '세계')}"
      ]
     },
     "execution_count": 70,
     "metadata": {},
     "output_type": "execute_result"
    }
   ],
   "source": [
    "set(dic.items())"
   ]
  },
  {
   "attachments": {},
   "cell_type": "markdown",
   "id": "d78bc2b3-00b0-4f26-a9b5-6e1c4f20560d",
   "metadata": {},
   "source": [
    "**`dict()` 함수**\n",
    "\n",
    "키-값의 튜플 형식의 항목을 갖는 모음 자료형을 사전으로 변환한다. \n",
    "단, 키로 사용되는 값은 해시 가능해야 한다."
   ]
  },
  {
   "cell_type": "code",
   "execution_count": 71,
   "id": "c3c288b6-042a-4140-b9f1-eb301bcc247a",
   "metadata": {},
   "outputs": [
    {
     "data": {
      "text/plain": [
       "{'Hello': '안녕', 'World': '세계', 'Programming': '프로그래밍'}"
      ]
     },
     "execution_count": 71,
     "metadata": {},
     "output_type": "execute_result"
    }
   ],
   "source": [
    "data = [('Hello', '안녕'), ('World', '세계'), ('Programming', '프로그래밍')]\n",
    "dict(data)"
   ]
  },
  {
   "attachments": {},
   "cell_type": "markdown",
   "id": "68da4e79",
   "metadata": {},
   "source": [
    "`zip()` 함수를 활용하면 편리하다."
   ]
  },
  {
   "cell_type": "code",
   "execution_count": 72,
   "id": "dc22c48d-575f-45c6-b8c7-42c4332176e8",
   "metadata": {},
   "outputs": [
    {
     "data": {
      "text/plain": [
       "{'a': 1, 'b': 2, 'c': 3, 'd': 4, 'e': 5}"
      ]
     },
     "execution_count": 72,
     "metadata": {},
     "output_type": "execute_result"
    }
   ],
   "source": [
    "data = zip('abcde', [1, 2, 3, 4, 5])\n",
    "dict(data)"
   ]
  },
  {
   "attachments": {},
   "cell_type": "markdown",
   "id": "7089f5a4",
   "metadata": {},
   "source": [
    "## `range` 객체"
   ]
  },
  {
   "attachments": {},
   "cell_type": "markdown",
   "id": "db05fa1a",
   "metadata": {},
   "source": [
    "`range` 객체는 리스트, 튜플 등과 매우 유사하며, `range()` 함수를 이용하여 생성한다.\n",
    "예를 들어, `range(3)`는 0부터 2까지의 정수를 포함하는 리스트로 간주될 수 있다.\n",
    "하지만, `range()` 함수의 반환값은 `range` 이며 항목을 바로 확인할 수는 없다."
   ]
  },
  {
   "cell_type": "code",
   "execution_count": 73,
   "id": "51b0d071",
   "metadata": {},
   "outputs": [
    {
     "data": {
      "text/plain": [
       "range(0, 3)"
      ]
     },
     "execution_count": 73,
     "metadata": {},
     "output_type": "execute_result"
    }
   ],
   "source": [
    "range(3)"
   ]
  },
  {
   "attachments": {},
   "cell_type": "markdown",
   "id": "e9a359a3",
   "metadata": {},
   "source": [
    "`range` 자료형의 항목을 확인하려면 `for` 반복문을 사용하던가\n",
    "리스트 또는 튜플로 형변환을 해야 한다."
   ]
  },
  {
   "cell_type": "code",
   "execution_count": 74,
   "id": "ad32248e",
   "metadata": {},
   "outputs": [
    {
     "name": "stdout",
     "output_type": "stream",
     "text": [
      "0\n",
      "1\n",
      "2\n"
     ]
    }
   ],
   "source": [
    "for item in range(3):\n",
    "    print(item)"
   ]
  },
  {
   "cell_type": "code",
   "execution_count": 75,
   "id": "ae0ded3a",
   "metadata": {},
   "outputs": [
    {
     "data": {
      "text/plain": [
       "[0, 1, 2]"
      ]
     },
     "execution_count": 75,
     "metadata": {},
     "output_type": "execute_result"
    }
   ],
   "source": [
    "list(range(3))"
   ]
  },
  {
   "cell_type": "code",
   "execution_count": 76,
   "id": "2a3544cd",
   "metadata": {},
   "outputs": [
    {
     "data": {
      "text/plain": [
       "(0, 1, 2)"
      ]
     },
     "execution_count": 76,
     "metadata": {},
     "output_type": "execute_result"
    }
   ],
   "source": [
    "tuple(range(3))"
   ]
  },
  {
   "attachments": {},
   "cell_type": "markdown",
   "id": "a70b923a",
   "metadata": {},
   "source": [
    "`range()` 함수는 최대 세 개의 인자를 받으며 각 인자의 기능은 리스트의 슬라이싱 기능과 동일하다."
   ]
  },
  {
   "cell_type": "code",
   "execution_count": 77,
   "id": "c6a8dba4",
   "metadata": {},
   "outputs": [
    {
     "data": {
      "text/plain": [
       "[1, 3, 5, 7]"
      ]
     },
     "execution_count": 77,
     "metadata": {},
     "output_type": "execute_result"
    }
   ],
   "source": [
    "list(range(1, 9, 2))"
   ]
  },
  {
   "cell_type": "code",
   "execution_count": 78,
   "id": "42d78752",
   "metadata": {},
   "outputs": [
    {
     "data": {
      "text/plain": [
       "[9, 7, 5, 3, 1]"
      ]
     },
     "execution_count": 78,
     "metadata": {},
     "output_type": "execute_result"
    }
   ],
   "source": [
    "list(range(9, 0, -2))"
   ]
  },
  {
   "attachments": {},
   "cell_type": "markdown",
   "id": "6824e48a",
   "metadata": {},
   "source": [
    "하나의 인자만 사용하면 구간의 끝을 의미하며, 구간의 시작은 0이 된다.\n",
    "셋째 인자는 생략되면 1이 기본값으로 사용된다."
   ]
  },
  {
   "cell_type": "code",
   "execution_count": 79,
   "id": "edf65aee",
   "metadata": {},
   "outputs": [
    {
     "data": {
      "text/plain": [
       "True"
      ]
     },
     "execution_count": 79,
     "metadata": {},
     "output_type": "execute_result"
    }
   ],
   "source": [
    "range(3) == range(0, 3)"
   ]
  },
  {
   "cell_type": "code",
   "execution_count": 80,
   "id": "7ae79f00",
   "metadata": {},
   "outputs": [
    {
     "data": {
      "text/plain": [
       "True"
      ]
     },
     "execution_count": 80,
     "metadata": {},
     "output_type": "execute_result"
    }
   ],
   "source": [
    "range(3) == range(0, 3, 1)"
   ]
  },
  {
   "attachments": {},
   "cell_type": "markdown",
   "id": "cab31a57-ed44-4b0f-9f34-2239177b48aa",
   "metadata": {},
   "source": [
    "(sec-comprehension)=\n",
    "## 조건제시법"
   ]
  },
  {
   "attachments": {},
   "cell_type": "markdown",
   "id": "3019197a-0694-4a74-8037-29ad43f29531",
   "metadata": {},
   "source": [
    "조건제시법<font size = \"2\">comprehension</font>을 이용하여 \n",
    "리스트, 집합, 사전을 정의할 수 있다."
   ]
  },
  {
   "attachments": {},
   "cell_type": "markdown",
   "id": "840a733d-3076-40f5-b2f4-be02a15dd942",
   "metadata": {},
   "source": [
    "**리스트 조건제시법**"
   ]
  },
  {
   "attachments": {},
   "cell_type": "markdown",
   "id": "618fb88e",
   "metadata": {},
   "source": [
    "수학에서 0과 10사이에 있는 홀수들의 제곱을 원소로 갖는 집합을 조건제시법으로 표현하면\n",
    "다음과 같다.\n",
    "\n",
    "$$\\{ x^2 \\mid 0 \\le x \\le 10, \\text{ 단 $x$는 홀수} \\}$$"
   ]
  },
  {
   "attachments": {},
   "cell_type": "markdown",
   "id": "c83233a6",
   "metadata": {},
   "source": [
    "0과 10 사이에 있는 홀수들의 제곱을 항목으로 갖는 리스트를 `for` 반복문으로 구현해 보자."
   ]
  },
  {
   "cell_type": "code",
   "execution_count": 81,
   "id": "e829825b",
   "metadata": {},
   "outputs": [
    {
     "data": {
      "text/plain": [
       "[1, 9, 25, 49, 81]"
      ]
     },
     "execution_count": 81,
     "metadata": {},
     "output_type": "execute_result"
    }
   ],
   "source": [
    "zero2ten_odd = []\n",
    "\n",
    "for x in range(11):\n",
    "    if x%2 == 1:\n",
    "        zero2ten_odd.append(x**2)\n",
    "\n",
    "zero2ten_odd"
   ]
  },
  {
   "attachments": {},
   "cell_type": "markdown",
   "id": "54d5a899",
   "metadata": {},
   "source": [
    "조건제시법을 이용하여 보다 간단하게 리스트를 생성할 수 있다."
   ]
  },
  {
   "cell_type": "code",
   "execution_count": 82,
   "id": "f51b20e2",
   "metadata": {},
   "outputs": [
    {
     "data": {
      "text/plain": [
       "[1, 9, 25, 49, 81]"
      ]
     },
     "execution_count": 82,
     "metadata": {},
     "output_type": "execute_result"
    }
   ],
   "source": [
    "zero2ten_odd = [x**2 for x in range(11) if x%2 == 1]\n",
    "zero2ten_odd"
   ]
  },
  {
   "attachments": {},
   "cell_type": "markdown",
   "id": "3a4023f3",
   "metadata": {},
   "source": [
    "위 두 코드를 비교하면 조건제시법의 작동원리를 이해할 수 있을 것이다. "
   ]
  },
  {
   "attachments": {},
   "cell_type": "markdown",
   "id": "f5488991",
   "metadata": {},
   "source": [
    "**집합 조건제시법**"
   ]
  },
  {
   "attachments": {},
   "cell_type": "markdown",
   "id": "757abf07",
   "metadata": {},
   "source": [
    "위 결과를 집합으로 구현하면 다음과 같다."
   ]
  },
  {
   "cell_type": "code",
   "execution_count": 83,
   "id": "95ea0a35",
   "metadata": {},
   "outputs": [
    {
     "data": {
      "text/plain": [
       "{1, 9, 25, 49, 81}"
      ]
     },
     "execution_count": 83,
     "metadata": {},
     "output_type": "execute_result"
    }
   ],
   "source": [
    "zero2ten_odd_set = {x**2 for x in range(11) if x%2 == 1}\n",
    "zero2ten_odd_set"
   ]
  },
  {
   "attachments": {},
   "cell_type": "markdown",
   "id": "189a66c4",
   "metadata": {},
   "source": [
    "**사전 조건제시법**"
   ]
  },
  {
   "attachments": {},
   "cell_type": "markdown",
   "id": "39caa271-f70b-47d9-9745-7376b9f5afd5",
   "metadata": {},
   "source": [
    "조건제시법을 이용하여 사전을 생성하는 과정도 유사하다. \n",
    "아래 코드는 문장에 포함된 단어를 키로, 단어의 길이를 값으로 갖는 항목들로 구성된 사전을 생성한다."
   ]
  },
  {
   "cell_type": "code",
   "execution_count": 84,
   "id": "dc774891",
   "metadata": {},
   "outputs": [
    {
     "data": {
      "text/plain": [
       "['파이썬은', '범용', '프로그래밍', '언어입니다.']"
      ]
     },
     "execution_count": 84,
     "metadata": {},
     "output_type": "execute_result"
    }
   ],
   "source": [
    "words = '파이썬은 범용 프로그래밍 언어입니다.'.split()\n",
    "words"
   ]
  },
  {
   "attachments": {},
   "cell_type": "markdown",
   "id": "740aa12c",
   "metadata": {},
   "source": [
    "`words` 에 포함된 단어와 단어의 길이로 짝을 이룬 항목으로 구성된 사전은 다음과 같다."
   ]
  },
  {
   "cell_type": "code",
   "execution_count": 85,
   "id": "2e84f3b0-e452-4426-8bbf-fc74b3d52f96",
   "metadata": {},
   "outputs": [
    {
     "data": {
      "text/plain": [
       "{'파이썬은': 4, '범용': 2, '프로그래밍': 5, '언어입니다.': 6}"
      ]
     },
     "execution_count": 85,
     "metadata": {},
     "output_type": "execute_result"
    }
   ],
   "source": [
    "len_dict = {k : len(k) for k in words}\n",
    "len_dict"
   ]
  },
  {
   "attachments": {},
   "cell_type": "markdown",
   "id": "a722acdb",
   "metadata": {},
   "source": [
    "아래 코드는 0부터 10 사이의 홀수를 키로, 홀수의 제곱은 값으로 갖는 항목으로 구성된 사전을 생성한다."
   ]
  },
  {
   "cell_type": "code",
   "execution_count": 86,
   "id": "75440ff7",
   "metadata": {},
   "outputs": [
    {
     "data": {
      "text/plain": [
       "{1: 1, 3: 9, 5: 25, 7: 49, 9: 81}"
      ]
     },
     "execution_count": 86,
     "metadata": {},
     "output_type": "execute_result"
    }
   ],
   "source": [
    "odd_squares = {x : x**2 for x in range(11) if x%2 == 1}\n",
    "odd_squares"
   ]
  },
  {
   "attachments": {},
   "cell_type": "markdown",
   "id": "b40dc746",
   "metadata": {},
   "source": [
    "## 모음 자료형과 `for` 반복문"
   ]
  },
  {
   "attachments": {},
   "cell_type": "markdown",
   "id": "4fcfc42d",
   "metadata": {},
   "source": [
    "앞서 소개된 모든 모음 자료형은 `for` 반복문과 함께 사용될 수 있다."
   ]
  },
  {
   "attachments": {},
   "cell_type": "markdown",
   "id": "2cd1b199",
   "metadata": {},
   "source": [
    "* 문자열과 반복문"
   ]
  },
  {
   "cell_type": "code",
   "execution_count": 87,
   "id": "79d1f391",
   "metadata": {},
   "outputs": [
    {
     "name": "stdout",
     "output_type": "stream",
     "text": [
      "P y t h o n   i s   l o v e l y ! "
     ]
    }
   ],
   "source": [
    "aString = \"Python is lovely!\"\n",
    "\n",
    "for chr in aString:\n",
    "    print(chr, end=' ')"
   ]
  },
  {
   "attachments": {},
   "cell_type": "markdown",
   "id": "93f66779",
   "metadata": {},
   "source": [
    "* 리스트와 반복문"
   ]
  },
  {
   "cell_type": "code",
   "execution_count": 88,
   "id": "c1053681",
   "metadata": {},
   "outputs": [
    {
     "name": "stdout",
     "output_type": "stream",
     "text": [
      "['P', 'y', 't', 'h', 'o', 'n', ' ', 'i', 's', ' ', 'l', 'o', 'v', 'e', 'l', 'y', '!']\n"
     ]
    }
   ],
   "source": [
    "aList = list(aString)\n",
    "print(aList)"
   ]
  },
  {
   "cell_type": "code",
   "execution_count": 89,
   "id": "4f6852e4",
   "metadata": {},
   "outputs": [
    {
     "name": "stdout",
     "output_type": "stream",
     "text": [
      "P y t h o n   i s   l o v e l y ! "
     ]
    }
   ],
   "source": [
    "for item in aList:\n",
    "    print(item, end=' ')"
   ]
  },
  {
   "attachments": {},
   "cell_type": "markdown",
   "id": "7f2b76fb",
   "metadata": {},
   "source": [
    "* 튜플과 반복문"
   ]
  },
  {
   "cell_type": "code",
   "execution_count": 90,
   "id": "4797bebf",
   "metadata": {},
   "outputs": [
    {
     "name": "stdout",
     "output_type": "stream",
     "text": [
      "('P', 'y', 't', 'h', 'o', 'n', ' ', 'i', 's', ' ', 'l', 'o', 'v', 'e', 'l', 'y', '!')\n"
     ]
    }
   ],
   "source": [
    "aTuple = tuple(aString)\n",
    "print(aTuple)"
   ]
  },
  {
   "cell_type": "code",
   "execution_count": 91,
   "id": "cae18526",
   "metadata": {},
   "outputs": [
    {
     "name": "stdout",
     "output_type": "stream",
     "text": [
      "P y t h o n   i s   l o v e l y ! "
     ]
    }
   ],
   "source": [
    "for item in aTuple:\n",
    "    print(item, end=' ')"
   ]
  },
  {
   "attachments": {},
   "cell_type": "markdown",
   "id": "f2ce771f",
   "metadata": {},
   "source": [
    "* 집합과 반복문"
   ]
  },
  {
   "cell_type": "code",
   "execution_count": 92,
   "id": "6fdca927",
   "metadata": {},
   "outputs": [
    {
     "name": "stdout",
     "output_type": "stream",
     "text": [
      "{'P', 't', '!', 'y', 'n', 'h', 'o', 'v', ' ', 'l', 'i', 's', 'e'}\n"
     ]
    }
   ],
   "source": [
    "aSet = set(aString)\n",
    "print(aSet)"
   ]
  },
  {
   "attachments": {},
   "cell_type": "markdown",
   "id": "fbdf6e06",
   "metadata": {},
   "source": [
    "집합은 중복을 허용하지 않음에 주의하라."
   ]
  },
  {
   "cell_type": "code",
   "execution_count": 93,
   "id": "16d8259d",
   "metadata": {},
   "outputs": [
    {
     "name": "stdout",
     "output_type": "stream",
     "text": [
      "P t ! y n h o v   l i s e "
     ]
    }
   ],
   "source": [
    "for item in aSet:\n",
    "    print(item, end=' ')"
   ]
  },
  {
   "attachments": {},
   "cell_type": "markdown",
   "id": "6f09ca35",
   "metadata": {},
   "source": [
    "* 사전과 반복문"
   ]
  },
  {
   "cell_type": "code",
   "execution_count": 94,
   "id": "3004adc5",
   "metadata": {},
   "outputs": [
    {
     "data": {
      "text/plain": [
       "{'Python': 6, 'is': 2, 'a': 1, 'general': 7, 'purpose': 7, 'language': 8}"
      ]
     },
     "execution_count": 94,
     "metadata": {},
     "output_type": "execute_result"
    }
   ],
   "source": [
    "words = 'Python is a general purpose language'.split()\n",
    "len_dict = {k : len(k) for k in words}\n",
    "len_dict"
   ]
  },
  {
   "attachments": {},
   "cell_type": "markdown",
   "id": "28bff8ec",
   "metadata": {},
   "source": [
    "사전에 대한 반복문은 키<font size='2'>key</font>에 대해 실행된다."
   ]
  },
  {
   "cell_type": "code",
   "execution_count": 95,
   "id": "812c00d2",
   "metadata": {},
   "outputs": [
    {
     "name": "stdout",
     "output_type": "stream",
     "text": [
      "Python is a general purpose language "
     ]
    }
   ],
   "source": [
    "for item in len_dict:\n",
    "    print(item, end=' ')"
   ]
  },
  {
   "attachments": {},
   "cell_type": "markdown",
   "id": "89f3acfa",
   "metadata": {},
   "source": [
    "키와 값의 쌍에 대해 반복문을 실행하려면 `items()` 메서드를 이용한다. \n",
    "단, 키와 값 각각에 대해 변수를 지정하는 게 좋다."
   ]
  },
  {
   "cell_type": "code",
   "execution_count": 96,
   "id": "c42d7582",
   "metadata": {},
   "outputs": [
    {
     "name": "stdout",
     "output_type": "stream",
     "text": [
      "  Python 키의 값: 6\n",
      "      is 키의 값: 2\n",
      "       a 키의 값: 1\n",
      " general 키의 값: 7\n",
      " purpose 키의 값: 7\n",
      "language 키의 값: 8\n"
     ]
    }
   ],
   "source": [
    "for key, value in len_dict.items():\n",
    "    print(f\"{key:>8} 키의 값: {value}\")"
   ]
  },
  {
   "attachments": {},
   "cell_type": "markdown",
   "id": "934b5483",
   "metadata": {},
   "source": [
    "항목을 쪼개서 사용할 수도 있다."
   ]
  },
  {
   "cell_type": "code",
   "execution_count": 97,
   "id": "b2c8bd94",
   "metadata": {},
   "outputs": [
    {
     "name": "stdout",
     "output_type": "stream",
     "text": [
      "  Python 키의 값: 6\n",
      "      is 키의 값: 2\n",
      "       a 키의 값: 1\n",
      " general 키의 값: 7\n",
      " purpose 키의 값: 7\n",
      "language 키의 값: 8\n"
     ]
    }
   ],
   "source": [
    "for item in len_dict.items():\n",
    "    key = item[0]\n",
    "    value = item[1]\n",
    "    print(f\"{key:>8} 키의 값: {value}\")"
   ]
  },
  {
   "attachments": {},
   "cell_type": "markdown",
   "id": "3a81adbf",
   "metadata": {},
   "source": [
    "값에 대해 반복문을 실행하려면 `values()` 메서드를 이용한다. "
   ]
  },
  {
   "cell_type": "code",
   "execution_count": 98,
   "id": "9f40dd23",
   "metadata": {},
   "outputs": [
    {
     "name": "stdout",
     "output_type": "stream",
     "text": [
      "6 2 1 7 7 8 "
     ]
    }
   ],
   "source": [
    "for item in len_dict.values():\n",
    "    print(item, end=' ')"
   ]
  },
  {
   "attachments": {},
   "cell_type": "markdown",
   "id": "ada2708c",
   "metadata": {},
   "source": [
    "* `zip` 과 반복문"
   ]
  },
  {
   "cell_type": "code",
   "execution_count": 99,
   "id": "c3038a2c",
   "metadata": {},
   "outputs": [
    {
     "name": "stdout",
     "output_type": "stream",
     "text": [
      "('a', 1, 5)\n",
      "('b', 2, 10)\n",
      "('c', 3, 15)\n"
     ]
    }
   ],
   "source": [
    "aZip = zip(\"abcdefgh\",(1, 2, 3, 4, 5), [5, 10, 15])\n",
    "\n",
    "for item in aZip:\n",
    "    print(item)"
   ]
  },
  {
   "attachments": {},
   "cell_type": "markdown",
   "id": "12583b8d",
   "metadata": {},
   "source": [
    "항목별로 변수를 지정하여 활용할 수도 있다."
   ]
  },
  {
   "cell_type": "code",
   "execution_count": 100,
   "id": "1fce7257",
   "metadata": {},
   "outputs": [
    {
     "name": "stdout",
     "output_type": "stream",
     "text": [
      "(a, 1, 5)\n",
      "(b, 2, 10)\n",
      "(c, 3, 15)\n"
     ]
    }
   ],
   "source": [
    "aZip = zip(\"abcdefgh\",(1, 2, 3, 4, 5), [5, 10, 15])\n",
    "\n",
    "for chr, tup, lst in aZip:\n",
    "    print(f\"({chr}, {tup}, {lst})\")"
   ]
  },
  {
   "attachments": {},
   "cell_type": "markdown",
   "id": "88e2c538",
   "metadata": {},
   "source": [
    "* `range` 와 반복문"
   ]
  },
  {
   "cell_type": "code",
   "execution_count": 101,
   "id": "9d786527",
   "metadata": {},
   "outputs": [
    {
     "name": "stdout",
     "output_type": "stream",
     "text": [
      "1의 제곱: 1\n",
      "3의 제곱: 9\n",
      "5의 제곱: 25\n",
      "7의 제곱: 49\n",
      "9의 제곱: 81\n"
     ]
    }
   ],
   "source": [
    "for item in range(1, 10, 2):\n",
    "    print(f\"{item}의 제곱: {item**2}\")"
   ]
  },
  {
   "attachments": {},
   "cell_type": "markdown",
   "id": "af79ef73-80e6-45dc-a6f1-8635a0bd9660",
   "metadata": {},
   "source": [
    "## 연습문제"
   ]
  },
  {
   "attachments": {},
   "cell_type": "markdown",
   "id": "3439498a",
   "metadata": {},
   "source": [
    "참고: [(실습) 모음 자료형 2부: 집합, 사전, `range`, 조건제시법](https://colab.research.google.com/github/codingalzi/pybook/blob/master/practices/practice-collections2.ipynb)"
   ]
  }
 ],
 "metadata": {
  "kernelspec": {
   "display_name": "Python 3 (ipykernel)",
   "language": "python",
   "name": "python3"
  },
  "language_info": {
   "codemirror_mode": {
    "name": "ipython",
    "version": 3
   },
   "file_extension": ".py",
   "mimetype": "text/x-python",
   "name": "python",
   "nbconvert_exporter": "python",
   "pygments_lexer": "ipython3",
   "version": "3.9.13"
  },
  "toc-autonumbering": true
 },
 "nbformat": 4,
 "nbformat_minor": 5
}
