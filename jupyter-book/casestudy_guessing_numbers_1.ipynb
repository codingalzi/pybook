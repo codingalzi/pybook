{
 "cells": [
  {
   "cell_type": "markdown",
   "metadata": {},
   "source": [
    "### 예제: 숫자맞히기 게임 <a id='guessing'></a>"
   ]
  },
  {
   "cell_type": "markdown",
   "metadata": {},
   "source": [
    "아래 파이썬 코드의 의미를 알아보자. \n",
    "찬찬히 읽으면 파이썬 언어를 전혀 모른다 해도\n",
    "의미를 어느정도 이해할 수 있다."
   ]
  },
  {
   "cell_type": "markdown",
   "metadata": {},
   "source": [
    "```python\n",
    "print(\"숫자맞히기 게임에 환영합니다.\")\n",
    "\n",
    "secret = 9\n",
    "guess = int(input(\"0부터 20 사이의 숫자 하나를 입력하세요: \"))\n",
    "\n",
    "if guess == secret:\n",
    "    print(\"맞았습니다!\")\n",
    "else:\n",
    "    print(\"틀렸습니다!\")\n",
    "\n",
    "print(\"게임 종료!\")\n",
    "```"
   ]
  },
  {
   "cell_type": "markdown",
   "metadata": {},
   "source": [
    "위 코드를 설명하면 다음과 같다.\n",
    "\n",
    "* 숫자 9를 맞히는 게임이다.\n",
    "* 참여자가 임의의 숫자를 입력하여 숫자 9를 맞추면 \"맞았습니다!\"를,\n",
    "    아니면 \"틀렸습니다!\"를 화면에 출력한다. \n",
    "* 사용된 프로그램 요소\n",
    "    * 파이썬 지정어(keyword): `if`, `else`\n",
    "    * 변수: `secret`, `guess`\n",
    "    * 함수: `int`, `input`, `print`\n",
    "* 주의사항: \n",
    "    * 아마도 `int`의 의미만 불확실할 것이며 다른 것들은 의미가 명확하다.\n",
    "    * 들여쓰기 또한 파이썬 프로그래밍의 규칙에 포함된다.\n"
   ]
  },
  {
   "cell_type": "code",
   "execution_count": null,
   "metadata": {},
   "outputs": [],
   "source": []
  },
  {
   "cell_type": "code",
   "execution_count": null,
   "metadata": {},
   "outputs": [],
   "source": []
  },
  {
   "cell_type": "code",
   "execution_count": 1,
   "metadata": {},
   "outputs": [
    {
     "name": "stdout",
     "output_type": "stream",
     "text": [
      "숫자맞히기 게임에 환영합니다.\n"
     ]
    }
   ],
   "source": [
    "print(\"숫자맞히기 게임에 환영합니다.\")"
   ]
  },
  {
   "cell_type": "markdown",
   "metadata": {},
   "source": [
    "* `print` 함수: 지정된 문장을 화면에 출력한다."
   ]
  },
  {
   "cell_type": "code",
   "execution_count": 2,
   "metadata": {},
   "outputs": [
    {
     "name": "stdout",
     "output_type": "stream",
     "text": [
      "0부터 20 사이의 숫자 하나를 입력하세요: 18\n"
     ]
    }
   ],
   "source": [
    "guess = int(input(\"0부터 20 사이의 숫자 하나를 입력하세요: \"))"
   ]
  },
  {
   "cell_type": "code",
   "execution_count": null,
   "metadata": {},
   "outputs": [],
   "source": []
  },
  {
   "cell_type": "code",
   "execution_count": null,
   "metadata": {},
   "outputs": [],
   "source": []
  },
  {
   "cell_type": "markdown",
   "metadata": {},
   "source": [
    "특정 조건의 성립여부에 따라 다른 일을 실행하게 만드는 명령문을 **조건 제어문**이라 부른다. \n",
    "숫자 맞추기 게임에서 사용된 조건 제어문은 아래와 같다. \n",
    "\n",
    "```python\n",
    "if guess == secret:\n",
    "    print(\"맞았습니다!\")\n",
    "else:\n",
    "    print(\"틀렸습니다!\")\n",
    "```\n",
    "\n",
    "즉, `guess` 변수가 가리키는 사용자 입력값과 `secret` 변수가 가리키는 맞춰야 하는 값의\n",
    "동일여부에 따라 다른 일을 실행한다. "
   ]
  },
  {
   "cell_type": "code",
   "execution_count": null,
   "metadata": {},
   "outputs": [],
   "source": []
  },
  {
   "cell_type": "code",
   "execution_count": null,
   "metadata": {},
   "outputs": [],
   "source": []
  },
  {
   "cell_type": "markdown",
   "metadata": {},
   "source": [
    "숫자 맞추기 게임의 소스코드를 바로 실행할 수 있다.\n",
    "실행할 때 숫자를 하나 입력해야 하는데, 예를 들어, 13을 입력해보자."
   ]
  },
  {
   "cell_type": "code",
   "execution_count": 16,
   "metadata": {},
   "outputs": [
    {
     "name": "stdout",
     "output_type": "stream",
     "text": [
      "숫자맞히기 게임에 환영합니다.\n",
      "0부터 20 사이의 숫자 하나를 입력하세요: 13\n",
      "틀렸습니다!\n",
      "게임 종료!\n"
     ]
    }
   ],
   "source": [
    "print(\"숫자맞히기 게임에 환영합니다.\")\n",
    "\n",
    "secret = 9\n",
    "guess = int(input(\"0부터 20 사이의 숫자 하나를 입력하세요: \"))\n",
    "\n",
    "if guess == secret:\n",
    "    print(\"맞았습니다!\")\n",
    "else:\n",
    "    print(\"틀렸습니다!\")\n",
    "\n",
    "print(\"게임 종료!\")"
   ]
  },
  {
   "cell_type": "code",
   "execution_count": null,
   "metadata": {},
   "outputs": [],
   "source": []
  },
  {
   "cell_type": "code",
   "execution_count": null,
   "metadata": {},
   "outputs": [],
   "source": []
  },
  {
   "cell_type": "markdown",
   "metadata": {},
   "source": [
    "## 개발 대상 프로그램 구상"
   ]
  },
  {
   "cell_type": "markdown",
   "metadata": {},
   "source": [
    "특정 기능을 갖는 프로그램의 구현하려면 어떻게 구현할지 구상하는 과정을 먼저 수행해야 한다. \n",
    "예를 들어, 숫자맞히기 게임을 개발에 필요한 프로그래밍 요소들을 확인하고,\n",
    "어떻게 배치할 것인가에 대한 구상을 아래와 같이 할 수 있다.\n",
    "\n",
    "1. 게임 구현에 필요한 프로그래밍 요소\n",
    "    * 사용자로부터 숫자를 입력받기: `input` 함수\n",
    "    * 두 개의 숫자 비교하기: 동치비교 연산자 (`==`)\n",
    "    * 동치비교 결과에 따라 다른 일 수행하기: `if` 조건 제어문\n",
    "    * 화면에 출력하기: `print` 함수\n",
    "1. 프로그래밍 요소 배치\n",
    "    * 맞혀야 할 숫자 지정하기\n",
    "    * 사용자로부터 숫자 입력 받기\n",
    "    * 맞혀야 할 숫자와 입력된 숫자를 비교한 결과에 따라 다른 명령문 실행하기\n",
    "    * 프로그램 실행 결과 화면에 출력하기"
   ]
  },
  {
   "cell_type": "markdown",
   "metadata": {},
   "source": [
    "\"숫자맞히기 게임\"의 소스코드를 앞서 설명한 구상과정을 \n",
    "생각하면서 다시 한 번 살펴보면 아래와 같다.\n",
    "\n",
    "아래 코드는 앞서 실행한 코드와 동일하다. \n",
    "다만 각각의 명령문이 왜 그곳에 위치하였는가를 설명한 주석이 포함되어 있다.\n",
    "\n",
    "**주의:** **주석**은 소스코드의 구성요소를 설명하는 일반 언어로 작성된 문장이며,\n",
    "프로그램을 실행에 아무런 영향을 주지 않는다. 즉, 프로그램 실행과정에서 무시된다.\n",
    "한 줄짜기 주석은 샵(`#`)기호로 시작한다."
   ]
  },
  {
   "cell_type": "code",
   "execution_count": 17,
   "metadata": {},
   "outputs": [
    {
     "name": "stdout",
     "output_type": "stream",
     "text": [
      "숫자맞히기 게임에 환영합니다.\n",
      "0부터 20 사이의 숫자 하나를 입력하세요: 13\n",
      "틀렸습니다!\n",
      "게임 종료!\n"
     ]
    }
   ],
   "source": [
    "# 환영인사 출력\n",
    "print(\"숫자맞히기 게임에 환영합니다.\")\n",
    "\n",
    "# 맞혀야 하는 숫자 지정\n",
    "secret = 9\n",
    "# 사용자로부터 숫자 입력받기\n",
    "# 입력할 숫자의 범위를 함께 지정함.\n",
    "guess = int(input(\"0부터 20 사이의 숫자 하나를 입력하세요: \"))\n",
    "\n",
    "# 두 숫자를 비교하여 결과에 따라 다른 명령문 실행하기\n",
    "if guess == secret:\n",
    "    print(\"맞았습니다!\")\n",
    "else:\n",
    "    print(\"틀렸습니다!\")\n",
    "\n",
    "# 종료 확인 출력    \n",
    "print(\"게임 종료!\")"
   ]
  },
  {
   "cell_type": "markdown",
   "metadata": {},
   "source": [
    "## 프로그램 업그레이드 1 <a id='upgrade1'></a>"
   ]
  },
  {
   "cell_type": "markdown",
   "metadata": {},
   "source": [
    "앞서 설명한 [숫자맞히기 게임](#guessing)의 소스코드는 사용자에게 불공평한 게임을 제공한다. \n",
    "맞춰야 하는 숫자에 대한 아무런 정보를 주지 않기 때문이다.\n",
    "\n",
    "형평성을 높이기 위해 사용자가 입력한 값이 맞추어야 하는 숫자와 비교해서 \n",
    "큰지, 작은지, 같은지 여부를 알려줄 수 있도록 프로그램을 작성해야 한다."
   ]
  },
  {
   "cell_type": "markdown",
   "metadata": {},
   "source": [
    "### 크기 비교 연산자"
   ]
  },
  {
   "cell_type": "markdown",
   "metadata": {},
   "source": [
    "크기 비교 연산자 `<`, `>`, `<=`, `>=`는 \n",
    "각각 작다, 크다, 작거나 같다, 크거나 같다를 판단한다. "
   ]
  },
  {
   "cell_type": "code",
   "execution_count": 18,
   "metadata": {},
   "outputs": [
    {
     "data": {
      "text/plain": [
       "True"
      ]
     },
     "execution_count": 18,
     "metadata": {},
     "output_type": "execute_result"
    }
   ],
   "source": [
    "0 < 1"
   ]
  },
  {
   "cell_type": "code",
   "execution_count": 19,
   "metadata": {},
   "outputs": [
    {
     "data": {
      "text/plain": [
       "False"
      ]
     },
     "execution_count": 19,
     "metadata": {},
     "output_type": "execute_result"
    }
   ],
   "source": [
    "1 >= 3"
   ]
  },
  {
   "cell_type": "markdown",
   "metadata": {},
   "source": [
    "크기 비교 연산자를 활용하여 숫자맞히기 게임을 구현하면 다음과 같다.\n",
    "예를 들어, 13을 입력하면 \"너무 커요!\"를, \n",
    "7을 입력하면 \"너무 작아요!\"를 출력한다."
   ]
  },
  {
   "cell_type": "code",
   "execution_count": 20,
   "metadata": {},
   "outputs": [
    {
     "name": "stdout",
     "output_type": "stream",
     "text": [
      "숫자맞히기 게임에 환영합니다.\n",
      "0부터 20 사이의 숫자 하나를 입력하세요: 13\n",
      "너무 커요!\n",
      "게임 종료!\n"
     ]
    }
   ],
   "source": [
    "print(\"숫자맞히기 게임에 환영합니다.\")\n",
    "\n",
    "secret = 9\n",
    "guess = int(input(\"0부터 20 사이의 숫자 하나를 입력하세요: \"))\n",
    "\n",
    "if guess == secret:\n",
    "    print(\"맞았습니다!\")\n",
    "else:\n",
    "    if guess > secret:\n",
    "        print(\"너무 커요!\")\n",
    "    else:\n",
    "        print(\"너무 작아요!\")\n",
    "\n",
    "print(\"게임 종료!\")"
   ]
  },
  {
   "cell_type": "code",
   "execution_count": 21,
   "metadata": {},
   "outputs": [
    {
     "name": "stdout",
     "output_type": "stream",
     "text": [
      "숫자맞히기 게임에 환영합니다.\n",
      "0부터 20 사이의 숫자 하나를 입력하세요: 7\n",
      "너무 작아요!\n",
      "게임 종료!\n"
     ]
    }
   ],
   "source": [
    "print(\"숫자맞히기 게임에 환영합니다.\")\n",
    "\n",
    "secret = 9\n",
    "guess = int(input(\"0부터 20 사이의 숫자 하나를 입력하세요: \"))\n",
    "\n",
    "if guess == secret:\n",
    "    print(\"맞았습니다!\")\n",
    "else:\n",
    "    if guess > secret:\n",
    "        print(\"너무 커요!\")\n",
    "    else:\n",
    "        print(\"너무 작아요!\")\n",
    "\n",
    "print(\"게임 종료!\")"
   ]
  },
  {
   "cell_type": "markdown",
   "metadata": {},
   "source": [
    "### 중첩 조건 제어문"
   ]
  },
  {
   "cell_type": "markdown",
   "metadata": {},
   "source": [
    "`if`와 `else`의 본체에는 임의의 파이썬 명령문이 사용될 수 있다.\n",
    "따라서 또다른 조건 제어문이 사용될 수 있다.\n",
    "이와 같은 조건문을 중첩 조건 제어문이라 부른다. \n",
    "\n",
    "예를 들어, 위 코드에서 사용된 중첩 조건 제어문은 아래와 같다.\n",
    "\n",
    "```python\n",
    "if guess == secret:\n",
    "    print(\"맞았습니다!\")\n",
    "else:\n",
    "    if guess > secret:\n",
    "        print(\"너무 커요!\")\n",
    "    else:\n",
    "        print(\"너무 작아요!\")\n",
    "```"
   ]
  },
  {
   "cell_type": "markdown",
   "metadata": {},
   "source": [
    "### 들여쓰기"
   ]
  },
  {
   "cell_type": "markdown",
   "metadata": {},
   "source": [
    "파이썬 소스코드를 작성할 때 경우에 따라 들여쓰기를 반드시 사용해야 한다.\n",
    "위 숫자맞히기 게임의 소스코드에서 들여쓰기가 반드시 사용되는 곳은 아래와 같다. \n",
    "\n",
    "* 7번 줄: `if`문의 본체\n",
    "* 9번-13번 줄: `else`문의 본체\n",
    "* 10번, 12번 줄: 중첩된 조건 제어문의 본체\n",
    "\n",
    "조건 제어문 이외에 나중에 설명할 `while`과 `for` 반복문의 본체에도 들여쓰기가 적용되어야 한다.\n",
    "이와같이 조건 제어문, 반복문 등을 한 번 사용할 때마다 \n",
    "들여쓰기 횟수, 즉 **들여쓰기 수준**이 1씩 증가한다. \n",
    "\n",
    "들여쓰기의 정도는 사용자가 정한다.\n",
    "보통 탭(tab) 키를 사용하거나, 스페이스 키를 두 번 또는 네 번 사용한다.\n",
    "단, 동일한 수준의 들여쓰기가 적용받는 명령문은 동일한 정도로 들여써져야 한다. \n",
    "\n",
    "예를 들어 아래와 같이 작성하면 오류가 발생한다. \n",
    "\n",
    "```python\n",
    "if guess == secret:\n",
    "    print(\"맞았습니다!\")\n",
    "else:\n",
    "    if guess > secret:\n",
    "        print(\"너무 커요!\")\n",
    "        else:\n",
    "            print(\"너무 작아요!\")\n",
    "```"
   ]
  },
  {
   "cell_type": "markdown",
   "metadata": {},
   "source": [
    "### 조건 제어문 일반화"
   ]
  },
  {
   "cell_type": "markdown",
   "metadata": {},
   "source": [
    "앞서 사용한 중첩 조건 제어문은 사실 필요하지 않다. \n",
    "바로 위 코드를 보면 `guess`와 `secret`가 가리키는 두 값이 같거나, 크거나, 그렇지 않을 때 등 \n",
    "세 가지 경우를 다룬다.\n",
    "\n",
    "이런 경우 굳이 중첩 조건 제어문을 사용하는 대신에 아래와 같이 일반화된 조건 제어문을 사용하는 것이 좋다.\n",
    "이유는 아무래도 중첩 조건 제어문은 코드를 이해하는 데에 좀 더 복잡할 수 있기 때문이다.\n",
    "\n",
    "```python\n",
    "if guess == secret:\n",
    "    print(\"맞았습니다!\")\n",
    "elif guess > secret:\n",
    "    print(\"너무 커요!\")\n",
    "else:\n",
    "    print(\"너무 작아요!\")\n",
    "```\n",
    "\n",
    "일반화된 조건 제어문의 형식은 다음과 같다.\n",
    "\n",
    "```python\n",
    "if 조건식_1:\n",
    "    명령문_1\n",
    "elif 조건식_2:\n",
    "    명령문_2\n",
    "\n",
    "...\n",
    "\n",
    "elif 조건식_n:\n",
    "    명령문_n\n",
    "else:\n",
    "    명령문\n",
    "```\n",
    "\n",
    "단, `else` 부분은 생략 가능."
   ]
  },
  {
   "cell_type": "markdown",
   "metadata": {},
   "source": [
    "일반화된 조건 제어문을 활용하여 숫자맞히기 게임을 구현하면 다음과 같으며,\n",
    "앞서 중첩 조건 제어문을 사용한 코드와 동일하게 작동함을 확인할 수 있다."
   ]
  },
  {
   "cell_type": "code",
   "execution_count": 22,
   "metadata": {},
   "outputs": [
    {
     "name": "stdout",
     "output_type": "stream",
     "text": [
      "숫자맞히기 게임에 환영합니다.\n",
      "0부터 20 사이의 숫자 하나를 입력하세요: 13\n",
      "너무 커요!\n",
      "게임 종료!\n"
     ]
    }
   ],
   "source": [
    "print(\"숫자맞히기 게임에 환영합니다.\")\n",
    "\n",
    "secret = 9\n",
    "guess = int(input(\"0부터 20 사이의 숫자 하나를 입력하세요: \"))\n",
    "\n",
    "if guess == secret:\n",
    "    print(\"맞았습니다!\")\n",
    "elif guess > secret:\n",
    "    print(\"너무 커요!\")\n",
    "else:\n",
    "    print(\"너무 작아요!\")\n",
    "\n",
    "print(\"게임 종료!\")"
   ]
  },
  {
   "cell_type": "code",
   "execution_count": 23,
   "metadata": {},
   "outputs": [
    {
     "name": "stdout",
     "output_type": "stream",
     "text": [
      "숫자맞히기 게임에 환영합니다.\n",
      "0부터 20 사이의 숫자 하나를 입력하세요: 7\n",
      "너무 작아요!\n",
      "게임 종료!\n"
     ]
    }
   ],
   "source": [
    "print(\"숫자맞히기 게임에 환영합니다.\")\n",
    "\n",
    "secret = 9\n",
    "guess = int(input(\"0부터 20 사이의 숫자 하나를 입력하세요: \"))\n",
    "\n",
    "if guess == secret:\n",
    "    print(\"맞았습니다!\")\n",
    "elif guess > secret:\n",
    "    print(\"너무 커요!\")\n",
    "else:\n",
    "    print(\"너무 작아요!\")\n",
    "\n",
    "print(\"게임 종료!\")"
   ]
  },
  {
   "cell_type": "markdown",
   "metadata": {},
   "source": [
    "## 프로그램 업그레이드 2 <a id='upgrade2'></a>"
   ]
  },
  {
   "cell_type": "markdown",
   "metadata": {},
   "source": [
    "[프로그램 업그레이드 1](#upgrade1) 수정한 코드는 원래 코드보다 게임의 형평성을 좀 더 보장한다.\n",
    "그런데 문제가 여전히 남아 있다.\n",
    "바로 추측한 값이 틀려도 게임이 바로 멈춘다는 점이다.\n",
    "즉, 새로운 추측을 하려면 게임을 다시 실행해야만 한다.\n",
    "\n",
    "답을 맞출 때까지 게임이 반복되도록 코드를 수정해보자."
   ]
  },
  {
   "cell_type": "markdown",
   "metadata": {},
   "source": [
    "### `while` 반복문"
   ]
  },
  {
   "cell_type": "markdown",
   "metadata": {},
   "source": [
    "`while` 반복문은 특정 조건이 성립하는 동안 특정 코드(반복문의 본체)를 반복해서 실행한다.\n",
    "`while` 반복문의 형식은 아래와 같다.\n",
    "\n",
    "```python\n",
    "while 조건식:\n",
    "    명령문\n",
    "```\n",
    "\n",
    "* `조건식`: 조건 제어문에 사용되는 조건식과 동일하다.\n",
    "* `명령문`: `while` 반복문의 본체라 부름. \n",
    "    * 임의의 파이썬 명령문이 사용될 수 있으며, \n",
    "        `조건식`이 참(`True`)인 동안 반복적으로 실행된다.\n",
    "    * 반드시 들여쓰기를 사용해야 함."
   ]
  },
  {
   "cell_type": "markdown",
   "metadata": {},
   "source": [
    "#### 예제: 숫자맞히기 게임 업그레이드 구상하기"
   ]
  },
  {
   "cell_type": "markdown",
   "metadata": {},
   "source": [
    "정답을 맞힐 때까지 사용자로부터 계속해서 입력을 받을 수 있어야 한다.\n",
    "이를 위해 `while` 반복문을 사용하려면,\n",
    "조건식과 본체에 사용될 명령문을 지정해야 한다.\n",
    "\n",
    "* 조건식: 사용자가 정답을 맞힐 때까지 멈추지 않게 해야 한다. \n",
    "    따라서 사용자가 입력한 숫자가 정답과 다르다는 조건을 사용해야 한다.\n",
    "* 본체 명령문: 사용자에게 새로운 숫자를 입력하도록 하고, \n",
    "    입력받은 숫자를 정답과 비교하여 맞았는지, 아니면 어떻게 다른지 정보를 전달해야 한다. \n",
    "    "
   ]
  },
  {
   "cell_type": "markdown",
   "metadata": {},
   "source": [
    "### 비동치비교 연산자"
   ]
  },
  {
   "cell_type": "markdown",
   "metadata": {},
   "source": [
    "비동치비교 연산자 `!=`는 동치비교 연산자 `==`와 정반대의 값을 계산한다.\n",
    "즉, 비교되는 두 값이 다르면 `True`, 같으면 `False`를 계산한다."
   ]
  },
  {
   "cell_type": "code",
   "execution_count": 24,
   "metadata": {},
   "outputs": [
    {
     "data": {
      "text/plain": [
       "True"
      ]
     },
     "execution_count": 24,
     "metadata": {},
     "output_type": "execute_result"
    }
   ],
   "source": [
    "0 != 1"
   ]
  },
  {
   "cell_type": "code",
   "execution_count": 25,
   "metadata": {},
   "outputs": [
    {
     "data": {
      "text/plain": [
       "False"
      ]
     },
     "execution_count": 25,
     "metadata": {},
     "output_type": "execute_result"
    }
   ],
   "source": [
    "1 != 1"
   ]
  },
  {
   "cell_type": "markdown",
   "metadata": {},
   "source": [
    "이제 앞서 구상한 내용을 토대로 하여 아래와 같이 `while` 반복문을 활용할 수 있다.\n",
    "예를 들어, 7, 13, 9를 차례대로 입력하면 \"너무 커요!\", \"\"너무 커요!\", \"맞았습니다\"를 연속으로 출력한다."
   ]
  },
  {
   "cell_type": "code",
   "execution_count": 26,
   "metadata": {},
   "outputs": [
    {
     "name": "stdout",
     "output_type": "stream",
     "text": [
      "숫자맞추기 게임에 환영합니다.\n",
      "0부터 20 사이의 숫자 하나를 입력하세요: 7\n",
      "너무 작아요!\n",
      "0부터 20 사이의 숫자 하나를 입력하세요: 13\n",
      "너무 커요!\n",
      "0부터 20 사이의 숫자 하나를 입력하세요: 9\n",
      "맞았습니다!\n",
      "게임 종료!\n"
     ]
    }
   ],
   "source": [
    "print(\"숫자맞히기 게임에 환영합니다.\")\n",
    "\n",
    "secret = 9\n",
    "guess = -1\n",
    "\n",
    "while guess != secret:\n",
    "    guess = int(input(\"0부터 20 사이의 숫자 하나를 입력하세요: \"))\n",
    "    if guess == secret:\n",
    "        print(\"맞았습니다!\")\n",
    "    elif guess > secret:\n",
    "        print(\"너무 커요!\")\n",
    "    else:\n",
    "        print(\"너무 작아요!\")\n",
    "\n",
    "print(\"게임 종료!\")"
   ]
  },
  {
   "cell_type": "markdown",
   "metadata": {},
   "source": [
    "#### 주의사항\n",
    "\n",
    "위 코드 4번 줄에서 `guess` 변수를 0에서 20사이의 값 이외의 숫자로 초기화한다.\n",
    "이유는 두 가지이다. \n",
    "\n",
    "* `while` 반복문의 조건식에서 `guess` 변수가 가리키는 값을 확인하려면 `guess` 변수가 이미 선언되어 있어야 한다.\n",
    "* `while` 반복문의 본체가 한 번 이상 실행되려면 조건식이 처음에 거짓과 동일한 값이어야 한다.\n",
    "    그런데 사용자가 0에서 20 사이의 값을 입력할 것이기에 그 이외의 수인 -1을 사용하였다.\n",
    "    물론, -2, 30 등 다른 수가 사용될 수도 있다. "
   ]
  },
  {
   "cell_type": "markdown",
   "metadata": {},
   "source": [
    "## 프로그램 업그레이드 3 <a id='upgrade3'></a>"
   ]
  },
  {
   "cell_type": "markdown",
   "metadata": {},
   "source": [
    "앞서 [프로그램 업그레이드 2](#upgrade2)에서 개선한 코드는 상당히 훌륭하다. \n",
    "사용자가 숨은 값을 맞출 수 있도록 유도하며, 숫자 9를 맞혀야만 종료된다.\n",
    "\n",
    "그런데 위 게임은 한 번 하면 더 이상 사용하지 않는다. \n",
    "맞혀야 하는 숫자가 항상 9이기 때문이다.\n",
    "따라서 위 게임을 좀 더 흥미롭게 만들기 위해서 맞혀야 하는 숫자를 게임이 실행될 때마다 임의로 변하도록 바꿀 필요가 있다."
   ]
  },
  {
   "cell_type": "markdown",
   "metadata": {},
   "source": [
    "### `random` 모듈"
   ]
  },
  {
   "cell_type": "markdown",
   "metadata": {},
   "source": [
    "임의의 정수를 생성하기 위해 `randint` 함수를 이용하는 방법이 있다.\n",
    "`randint` 함수는 두 개의 정수 인자를 받으면 두 정수를 양끝으로 갖는 구간에서 임의의 값을 정하여 리턴한다.\n",
    "예를 들어, 0부터 20사이의 정수 중에서 임의의 값을 선택하려면 `randint(0, 20)`이라 작성하면 된다.\n",
    "\n",
    "그런데 `randint` 함수는 덧셈, 뺄셈 등 사칙연산과는 달리,\n",
    "먼저 `random` 이라는 모듈을 불러와야(import) 사용할 수 있다.\n",
    "\n",
    "**모듈**(module)은 파이썬 소스코드를 담은 파일이며, 확장자로 py를 사용한다.\n",
    "모듈은 서로 연관이 있는 다양한 함수들을 하나의 파일로 묶어 놓을 때 유용하게 사용한다.\n",
    "\n",
    "예를 들어, `random` 모듈, 즉, `random.py` 파일 안에는 무작위수 생성과 관련된 \n",
    "다양한 함수들이 포함되어 있으며,\n",
    "지정된 구간 사이에서 임의의 정수를 생성하는 `randint` 함수가 그중에 하나이다."
   ]
  },
  {
   "cell_type": "markdown",
   "metadata": {},
   "source": [
    "#### 모듈 불러오기"
   ]
  },
  {
   "cell_type": "markdown",
   "metadata": {},
   "source": [
    "특정 모듈을 불러오는 여러 방식이 있다. \n",
    "\n",
    "여기서는 특정 모듈에 포함된 특정 함수만을 불러오는 방식만 소개한다.\n",
    "예를 들어, `random` 모델에 포함된 `randint` 함수를 사용하려면\n",
    "아래와 같이 불러와야 한다."
   ]
  },
  {
   "cell_type": "code",
   "execution_count": 27,
   "metadata": {},
   "outputs": [],
   "source": [
    "from random import randint"
   ]
  },
  {
   "cell_type": "markdown",
   "metadata": {},
   "source": [
    "`randint` 함수가 어떻게 작동하는지를 확인하기 위해 아래 명령을 반복해서 실행해 보는 게 좋다."
   ]
  },
  {
   "cell_type": "code",
   "execution_count": 28,
   "metadata": {},
   "outputs": [
    {
     "data": {
      "text/plain": [
       "9"
      ]
     },
     "execution_count": 28,
     "metadata": {},
     "output_type": "execute_result"
    }
   ],
   "source": [
    "randint(0, 20)"
   ]
  },
  {
   "cell_type": "code",
   "execution_count": 29,
   "metadata": {},
   "outputs": [
    {
     "data": {
      "text/plain": [
       "16"
      ]
     },
     "execution_count": 29,
     "metadata": {},
     "output_type": "execute_result"
    }
   ],
   "source": [
    "randint(0, 20)"
   ]
  },
  {
   "cell_type": "code",
   "execution_count": 30,
   "metadata": {},
   "outputs": [
    {
     "data": {
      "text/plain": [
       "0"
      ]
     },
     "execution_count": 30,
     "metadata": {},
     "output_type": "execute_result"
    }
   ],
   "source": [
    "randint(0, 20)"
   ]
  },
  {
   "cell_type": "markdown",
   "metadata": {},
   "source": [
    "#### 예제: `randint` 함수 활용 방법 구상하기"
   ]
  },
  {
   "cell_type": "markdown",
   "metadata": {},
   "source": [
    "숫자맞히기 게임에 무작위수 생성 기능을 추가하고자 하려면,\n",
    "`secret` 변수가 가리키는 숫자를  고정된 숫자 9가 아니라\n",
    "아래와 같이 `randint` 함수가 0과 20 사이에서 임의로 생성하는 값으로 지정해야 한다.\n",
    "\n",
    "```python\n",
    "secret = randint(0, 20)\n",
    "```\n",
    "\n",
    "앞서 구상한 내용을 토대로 하여 아래와 같이 `randint` 함수를 활용하면,\n",
    "소스코드 개발자 또한 맞혀야 하는 숫자를 알 수 없게 된다.\n",
    "\n",
    "아래 게임을 여러 번 실행하면서 게임의 성능을 확인해보자."
   ]
  },
  {
   "cell_type": "code",
   "execution_count": 1,
   "metadata": {},
   "outputs": [
    {
     "name": "stdout",
     "output_type": "stream",
     "text": [
      "숫자맞히기 게임에 환영합니다.\n",
      "0부터 20 사이의 숫자 하나를 입력하세요: 10\n",
      "너무 작아요!\n",
      "0부터 20 사이의 숫자 하나를 입력하세요: 15\n",
      "너무 작아요!\n",
      "0부터 20 사이의 숫자 하나를 입력하세요: 18\n",
      "너무 작아요!\n",
      "0부터 20 사이의 숫자 하나를 입력하세요: 19\n",
      "너무 작아요!\n",
      "0부터 20 사이의 숫자 하나를 입력하세요: 20\n",
      "맞았습니다!\n",
      "게임 종료!\n"
     ]
    }
   ],
   "source": [
    "from random import randint\n",
    "\n",
    "print(\"숫자맞히기 게임에 환영합니다.\")\n",
    "\n",
    "secret = randint(0,20)\n",
    "guess = -1\n",
    "\n",
    "while guess != secret:\n",
    "    guess = int(input(\"0부터 20 사이의 숫자 하나를 입력하세요: \"))\n",
    "    if guess == secret:\n",
    "        print(\"맞았습니다!\")\n",
    "    elif guess > secret:\n",
    "        print(\"너무 커요!\")\n",
    "    else:\n",
    "        print(\"너무 작아요!\")\n",
    "\n",
    "print(\"게임 종료!\")"
   ]
  },
  {
   "cell_type": "code",
   "execution_count": 32,
   "metadata": {},
   "outputs": [
    {
     "name": "stdout",
     "output_type": "stream",
     "text": [
      "숫자맞추기 게임에 환영합니다.\n",
      "0부터 20 사이의 숫자 하나를 입력하세요: 10\n",
      "너무 커요!\n",
      "0부터 20 사이의 숫자 하나를 입력하세요: 5\n",
      "너무 커요!\n",
      "0부터 20 사이의 숫자 하나를 입력하세요: 3\n",
      "너무 커요!\n",
      "0부터 20 사이의 숫자 하나를 입력하세요: 2\n",
      "너무 커요!\n",
      "0부터 20 사이의 숫자 하나를 입력하세요: 1\n",
      "맞았습니다!\n",
      "게임 종료!\n"
     ]
    }
   ],
   "source": [
    "from random import randint\n",
    "\n",
    "print(\"숫자맞추기 게임에 환영합니다.\")\n",
    "\n",
    "secret = randint(0,20)\n",
    "guess = -1\n",
    "\n",
    "while guess != secret:\n",
    "    guess = int(input(\"0부터 20 사이의 숫자 하나를 입력하세요: \"))\n",
    "    if guess == secret:\n",
    "        print(\"맞았습니다!\")\n",
    "    elif guess > secret:\n",
    "        print(\"너무 커요!\")\n",
    "    else:\n",
    "        print(\"너무 작아요!\")\n",
    "\n",
    "print(\"게임 종료!\")"
   ]
  },
  {
   "cell_type": "markdown",
   "metadata": {},
   "source": [
    "## 추가자료"
   ]
  },
  {
   "cell_type": "markdown",
   "metadata": {},
   "source": [
    "앞서 배운 내용에서 사용된 파이썬 프로그래밍 언어의 요소들에 대한 보다 자세한 설명은\n",
    "[프로그래밍 기본 요소: 변수, 표현식, 명령문](https://github.com/liganega/ProgInPython/blob/master/notebooks/PiPy01B-Variables_Expressions_Commands.ipynb)에서\n",
    "확인할 수 있다."
   ]
  },
  {
   "cell_type": "markdown",
   "metadata": {},
   "source": [
    "## 연습문제"
   ]
  },
  {
   "cell_type": "markdown",
   "metadata": {},
   "source": [
    "1. 숫자맞히기 게임에서 입력된 숫자가 0과 20사이의 값이 아니면 재입력을 요구하도록 할 수 방법을 생각해서 프로그램을 업그레이드 하라.\n",
    "    <br><br>\n",
    "    (힌트: 부울 연산자 논리곱(`and`)과 논리합(`or`)을 활용할 수 있으며, \n",
    "    논리식과 논리연산자에 대한 설명은 \n",
    "    [씽크 파이썬: 조건문과 재귀](https://www.flowdas.com/thinkpython/05-conditionals-and-recursion/)를\n",
    "    참고한다.)\n",
    "    <br><br>\n",
    "1. 숫자맞히기 게임이 종료될 때 사용자가 몇 번 만에 정답을 맞혔는지 알려주도록 \n",
    "    프로그램을 수정하라."
   ]
  }
 ],
 "metadata": {
  "kernelspec": {
   "display_name": "Python 3 (ipykernel)",
   "language": "python",
   "name": "python3"
  },
  "language_info": {
   "codemirror_mode": {
    "name": "ipython",
    "version": 3
   },
   "file_extension": ".py",
   "mimetype": "text/x-python",
   "name": "python",
   "nbconvert_exporter": "python",
   "pygments_lexer": "ipython3",
   "version": "3.9.7"
  },
  "toc": {
   "base_numbering": 1,
   "nav_menu": {},
   "number_sections": false,
   "sideBar": true,
   "skip_h1_title": false,
   "title_cell": "목차",
   "title_sidebar": "Contents",
   "toc_cell": false,
   "toc_position": {},
   "toc_section_display": true,
   "toc_window_display": true
  }
 },
 "nbformat": 4,
 "nbformat_minor": 1
}
