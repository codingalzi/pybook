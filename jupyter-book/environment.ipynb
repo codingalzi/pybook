{
 "cells": [
  {
   "cell_type": "markdown",
   "id": "fec541de",
   "metadata": {},
   "source": [
    "# 프로그래밍 환경"
   ]
  },
  {
   "cell_type": "markdown",
   "id": "fde0f4b5",
   "metadata": {},
   "source": [
    "파이썬으로 프로그램을 작성하려면 프로그래밍 환경을 준비해야 한다.\n",
    "파이썬 프로그래밍 환경은 크게 오프라인 환경과 온라인 환경으로 나뉜다.\n",
    "\n",
    "- 온라인 환경: 웹브라우저를 이용하여 특정 사이트에서 파이썬 편집기와 파이썬 실행기를 활용하는 환경\n",
    "- 오프라인 환경: 파이썬 편집기와 파이썬 실행기를 개인 컴퓨터에 직접 설치해서 활용하는 환경\n",
    "\n",
    "프로그래밍이 처음이라면 먼저 온라인 방식을 사용해서 파이썬과 어느 정도 친숙해진 다음에 오프라인 방식을 시도할 것을 추천한다."
   ]
  },
  {
   "cell_type": "markdown",
   "id": "32883d80",
   "metadata": {},
   "source": [
    "## 오프라인 환경"
   ]
  },
  {
   "cell_type": "markdown",
   "id": "ad79282f",
   "metadata": {},
   "source": [
    "개발자가 직접 자신의 컴퓨터에 프로그래밍 환경을 설정할 수 있다.\n",
    "다양한 방식이 존재하지만 여기서는 아나콘다 파이썬 패키지를 이용하는 방법만 소개한다."
   ]
  },
  {
   "cell_type": "markdown",
   "id": "1b0815b2",
   "metadata": {},
   "source": [
    "### 아나콘다 파이썬 패키지"
   ]
  },
  {
   "cell_type": "markdown",
   "id": "e3ac0cdd",
   "metadata": {},
   "source": [
    "파이썬 개발환경 설치가 처음이라면 \n",
    "데이터 분석 관련 중요 라이브러리, 스파이더 편집기, 주피터 노트북을 모두 포함하는\n",
    "[아나콘다<font size='2'>Anaconda</font> 파이썬 패키지](https://www.anaconda.com)를 추천한다.\n",
    "자세한 설치 요령은 아래 링크의 설명을 참고한다.\n",
    "\n",
    "- [아나콘다 설치](https://codingalzi.github.io/pybook/environment_setting.html#sec-anaconda-install)"
   ]
  },
  {
   "cell_type": "markdown",
   "id": "c183d8a8",
   "metadata": {},
   "source": [
    "### 아나콘다와 주피터 노트북"
   ]
  },
  {
   "cell_type": "markdown",
   "id": "7cec437d",
   "metadata": {},
   "source": [
    "주피터 노트북<font size='2'>Jupyter notebook</font>은 웹브라우저에서 파이썬 프로그램을 직접 실행하면서 \n",
    "동시에 문서 작성을 지원하는 일종의 문서 편집기이다. "
   ]
  },
  {
   "cell_type": "markdown",
   "id": "9fdfb33d",
   "metadata": {},
   "source": [
    "<div align=\"center\"><img src=\"https://raw.githubusercontent.com/codingalzi/datapy/master/jupyter-book/images/JupyterServer.jpg\" style=\"width:750px\"></div>"
   ]
  },
  {
   "cell_type": "markdown",
   "id": "72a832cd",
   "metadata": {},
   "source": [
    "주피터 노트북은 셀<font size='2'>cell</font>이라 불리는 작은 입력창으로 구성된다.\n",
    "셀은 크게 코드 셀과 텍스트 셀로 구분된다.\n",
    "\n",
    "- 코드 셀: 파이썬 코드를 작성하고 실행할 수 있는 셀\n",
    "- 텍스트 셀: 일반 문서를 작성할 수 있는 셀"
   ]
  },
  {
   "cell_type": "markdown",
   "id": "000ffd98",
   "metadata": {},
   "source": [
    "<div align=\"center\"><img src=\"https://raw.githubusercontent.com/codingalzi/datapy/master/jupyter-book/images/jupyter-1.png\" style=\"width:750px\"></div>"
   ]
  },
  {
   "cell_type": "markdown",
   "id": "cc6a5c57",
   "metadata": {},
   "source": [
    "아나콘다의 설치 과정과 주피터 노트북의 기초 사용법에 대한 보다 상세한 설명을 아래 링크에서 확인할 수 있다.\n",
    "\n",
    "- [나도코딩: 아나콘다 환경 설정 및 주피터 노트북 사용법](https://youtu.be/dJfq-eCi7KI?si=gvHP7QO6hLSr6xxj&t=19)"
   ]
  },
  {
   "cell_type": "markdown",
   "id": "a4034c34",
   "metadata": {},
   "source": [
    "### 아나콘다와 비주얼 스튜디오 코드(VS Code)"
   ]
  },
  {
   "cell_type": "markdown",
   "id": "b7c018b5",
   "metadata": {},
   "source": [
    "주피터 노트북<font size='2'>Jupyter notebook</font>은 웹브라우저에서 파이썬 프로그램을 직접 실행하면서 \n",
    "동시에 문서 작성을 지원하는 일종의 문서 편집기이다. \n",
    "\n",
    "주피터 노트북은 셀<font size='2'>cell</font>이라 불리는 작은 입력창으로 구성된다.\n",
    "셀은 크게 코드 셀과 텍스트 셀로 구분된다.\n",
    "\n",
    "- 코드 셀: 파이썬 코드를 작성하고 실행할 수 있는 셀\n",
    "- 텍스트 셀: 일반 문서를 작성할 수 있는 셀"
   ]
  },
  {
   "cell_type": "markdown",
   "id": "a74dce71",
   "metadata": {},
   "source": [
    "## 온라인 환경"
   ]
  },
  {
   "cell_type": "markdown",
   "id": "f49f0ee6",
   "metadata": {},
   "source": [
    "### 구글 코랩"
   ]
  },
  {
   "cell_type": "markdown",
   "id": "ce1a9d72",
   "metadata": {},
   "source": [
    "[구글 코랩<font size=\"2\">Google Colab</font>](https://colab.research.google.com/?hl=ko)은 \n",
    "파이썬 전용 온라인 주피터 노트북을 제공한다.\n",
    "웹브라우저를 이용하여 접속하면 어떤 준비 없이 바로 파이썬 프로그래밍을 시작할 수 있다."
   ]
  },
  {
   "cell_type": "markdown",
   "id": "51fc89aa",
   "metadata": {},
   "source": [
    "구글 코랩의 사용법은 아래 링크를 활용한다.\n",
    "\n",
    "- 입문용: [유튜버 봉수골 개발자 이선비의 동영상](https://www.youtube.com/watch?v=91E0qenm7W4)\n",
    "- 구글 코랩 고급 기능 설명: [TensorFlow 팀의 동영상](https://www.youtube.com/watch?v=rNgswRZ2C1Y)"
   ]
  },
  {
   "cell_type": "markdown",
   "id": "ddfcda4f",
   "metadata": {},
   "source": [
    "구글 코랩을 사용하다 보면 \n",
    "특정 라이브러리를 설치해야하는 경우가 발생할 수 있는데 그럴 때는 `pip` 파이썬 라이브러리 관리자를 \n",
    "이용하여 설치하면 된다.\n",
    "예를 들어 웹페이지에 포함된 내용에서 특정 정보를 추출하는 데에 유용한 많은 도구를 제공하는 \n",
    "`beautifulsoup4` 라이브러리를 추가 설치하려면 아래 명령문을 주피터 노트북 코드셀에서 실행한다."
   ]
  },
  {
   "cell_type": "markdown",
   "id": "17918005",
   "metadata": {},
   "source": [
    "```bash\n",
    "!pip install beautifulsoup4\n",
    "```"
   ]
  },
  {
   "cell_type": "markdown",
   "id": "69852175",
   "metadata": {},
   "source": [
    "`pip`은 파이썬 명령어가 아니라 컴퓨터 운영체제 관리에 사용되는 쉘<font size='2'>shell</font> 명령어이다. \n",
    "이런 쉘 명령어를 쉘 터미널이 아닌 주피터 노트북 셀<font size=\"2\">cell</font>에서 실행하려면 \n",
    "느낌표(`!`)를 함께 사용한다."
   ]
  },
  {
   "cell_type": "markdown",
   "id": "8b358906",
   "metadata": {},
   "source": [
    ":::{admonition} 쉘과 터미널\n",
    ":class: note\n",
    "\n",
    "**쉘**<font size='2'>shell</font>은 컴퓨터 운영체제의 기능과 서비스를 관리하거나 \n",
    "구현하는 데에 사용되는 명령문<font size='2'>command lines</font>을 실행하는 \n",
    "실행기<font size='2'>interpreter</font>이다.\n",
    "즉, 사용자와 컴퓨터 커널<font size='2'>kernel</font>을 연결하는 다리 역할을 수행한다.\n",
    "쉘이 실행하는 명령문을 쉘 스크립트<font size='2'>shell script</font>라 부른다.\n",
    "다양한 종류의 쉘이 존재하지만, \n",
    "리눅스의 기본 쉘인 bash shell(배시 쉘)과 맥 OSX의 zsh(Z 쉘)이 가장 많이 사용된다.\n",
    "반면에 **터미널**<font size='2'>terminal</font>은 쉘 스크립트를 작성하고 실행시킬 수 있는 \n",
    "사용자 인터페이스<font size='2'>user interface</font>(UI)이며\n",
    "**콘솔**<font size='2'>console</font>이라고도 불린다.\n",
    ":::"
   ]
  },
  {
   "cell_type": "markdown",
   "id": "b13d11b3",
   "metadata": {},
   "source": [
    "윈도우 사용자의 경우 아나콘다 패키지와 함께 설치된 `Anaconda Prompt (anaconda3)` 터미널을 이용할 수 있다.\n",
    "\n",
    "- Anaconda Prompt (anaconda3) 실행하기\n",
    "\n",
    "<div align=\"center\"><img src=\"https://raw.githubusercontent.com/codingalzi/datapy/master/jupyter-book/images/anaconda_prompt.jpg\" style=\"width:750px\"></div>\n",
    "\n",
    "<br>\n",
    "\n",
    "- Anaconda Prompt (anaconda3) 터미널\n",
    "\n",
    "<div align=\"center\"><img src=\"https://raw.githubusercontent.com/codingalzi/pybook/master/jupyter-book/images/anaconda_prompt_start.jpg\" style=\"width:750px\"></div>"
   ]
  },
  {
   "cell_type": "markdown",
   "id": "aa75a844",
   "metadata": {},
   "source": [
    "## 오프라인 통합 개발 환경(IDE)"
   ]
  },
  {
   "cell_type": "markdown",
   "id": "3267a039",
   "metadata": {},
   "source": [
    "대형 프로젝트를 진행하면 많은 코드 파일을 \n",
    "작성하고 관리해야 한다.\n",
    "이때 코드 편집과 실행, 디버깅, 파일 관리 등 \n",
    "프로그래밍 관련 모든 작업을 통합해서 지원하는 \n",
    "통합 개발 환경을 사용한다.\n",
    "일명 **IDE**<font size=\"2\">Interactive Development Environment</font>라고 불리는\n",
    "통합 개발 환경을 지원하는 대표적인 상용 앱과 무료 앱은 다음과 같다.\n",
    "\n",
    "* [파이참<font size=\"2\">Pycharm</font>](https://www.jetbrains.com/pycharm): 가장 인기있는 상용 프로그램.\n",
    "    Pro 와 Community 두 버전을 지원하며 입문자는 무료 버전인 Community 추천.\n",
    "* [비주얼 스튜디오 코드<font size=\"2\">Visual Studio Code</font>](https://code.visualstudio.com/docs/languages/python): \n",
    "    마이크로소프트에서 지원하며, 현재 가장 인기 있는 무료 프로그램.\n",
    "    파이썬 뿐만 아니라 거의 모든 프로그래밍 언어를 위한 통합 개발 환경 지원.\n",
    "\n",
    "여기서는 일명 **VS Code**라 불리는 \n",
    "비주얼 스튜디오 코드를 사용할 것을 추천한다.\n",
    "VS Code의 설치 과정과 사용법은 {ref}`sec:vs_code`와\n",
    "[생활코딩의 동영상](https://www.youtube.com/watch?v=K8qVH8V0VvY&t=337s)을\n",
    "참고한다."
   ]
  },
  {
   "cell_type": "markdown",
   "id": "25298162",
   "metadata": {},
   "source": [
    "## IPython 소개"
   ]
  },
  {
   "cell_type": "markdown",
   "id": "a55e4ffc",
   "metadata": {},
   "source": [
    "### 대화식 프로그래밍"
   ]
  },
  {
   "cell_type": "markdown",
   "id": "bc89dc46",
   "metadata": {},
   "source": [
    "주피터 노트북의 코드 셀<font size=\"2\">code cell</font>은 \n",
    "대화식 프로그래밍<font size=\"2\">interactive programming</font>을 지원하는 \n",
    "[IPython](https://ipython.org)을 활용한다.\n",
    "Anaconda Prompt (anaconda3) 터미널에서 IPython 콘솔을 사용하는 방식은 다음과 같다."
   ]
  },
  {
   "cell_type": "markdown",
   "id": "4e065ac1",
   "metadata": {},
   "source": [
    "<div align=\"center\"><img src=\"https://raw.githubusercontent.com/codingalzi/pybook/master/jupyter-book/images/anaconda_ipython.jpg\" style=\"width:750px\"></div>"
   ]
  },
  {
   "cell_type": "markdown",
   "id": "613db48f",
   "metadata": {},
   "source": [
    "아래 사진은 주피터 노트북의 코드 셀에서 IPython이 작동하는 형식을 보여준다."
   ]
  },
  {
   "cell_type": "markdown",
   "id": "205a824e",
   "metadata": {},
   "source": [
    "<div align=\"center\"><img src=\"https://raw.githubusercontent.com/codingalzi/datapy/master/jupyter-book/images/jupyter-1.png\" style=\"width:750px\"></div>"
   ]
  },
  {
   "cell_type": "markdown",
   "id": "95e7f16e",
   "metadata": {},
   "source": [
    "반면에 파이썬이 기본으로 지원하는 python 콘솔은 다음 모양의 대화식 코딩을 지원한다."
   ]
  },
  {
   "cell_type": "markdown",
   "id": "99e5292f",
   "metadata": {},
   "source": [
    "<div align=\"center\"><img src=\"https://raw.githubusercontent.com/codingalzi/pybook/master/jupyter-book/images/anaconda_python.jpg\" style=\"width:750px\"></div>"
   ]
  }
 ],
 "metadata": {
  "kernelspec": {
   "display_name": "Python 3 (ipykernel)",
   "language": "python",
   "name": "python3"
  },
  "language_info": {
   "codemirror_mode": {
    "name": "ipython",
    "version": 3
   },
   "file_extension": ".py",
   "mimetype": "text/x-python",
   "name": "python",
   "nbconvert_exporter": "python",
   "pygments_lexer": "ipython3",
   "version": "3.11.5"
  },
  "toc-autonumbering": false,
  "vscode": {
   "interpreter": {
    "hash": "ad0f3c8a064f687cbf898a0868fd45ba1c7e928ac8a0404f7c241d812ddc1e76"
   }
  }
 },
 "nbformat": 4,
 "nbformat_minor": 5
}
