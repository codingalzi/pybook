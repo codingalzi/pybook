{
 "cells": [
  {
   "cell_type": "markdown",
   "id": "0676b693-737d-41ce-b2fb-723f5244ebbf",
   "metadata": {},
   "source": [
    "# 컴퓨터 프로그래밍"
   ]
  },
  {
   "cell_type": "markdown",
   "id": "39b8e67f",
   "metadata": {},
   "source": [
    "## 컴퓨터 프로그램"
   ]
  },
  {
   "cell_type": "markdown",
   "id": "3b793116",
   "metadata": {},
   "source": [
    "**컴퓨터 프로그램**<font size='2'>computer program</font>은 주어진 문제를 해결하기 위해\n",
    "컴퓨터가 수행해야 할 작업 목록을 특정 프로그래밍 언어로 작성한 \n",
    "**명령문**의 모음이다. \n",
    "명령문의 모음을 일반적으로 **소프트웨어**<font size=\"2\">software</font>라 부른다.\n",
    "프로그램의 핵심은 문제 해결을 위한 알고리즘이며, \n",
    "사용되는 알고리즘에 따라 결과는 같지만 내부적으로는 다르게 작동하는 프로그램이 구현된다. \n",
    "또한 동일한 알고리즘이더라도 사용하는 프로그래밍 언어에 따라 다르게 \n",
    "기본적으로 다르게 구현해야 한다. \n",
    "이처럼 문제 해결을 위한 컴퓨터 프로그램을 구현하는 과정이\n",
    "**컴퓨터 프로그래밍**<font size=\"2\">computer programming</font>이다.\n",
    "일상적으로 **프로그래밍**이라 하며 **코딩**<font size=\"2\">coding</font>이 동의어로 사용된다.\n",
    "다만 프로그래밍은 전문 프로그래머<font size=\"2\">programmer</font>의 직업과 관련된 개념으로,\n",
    "코딩은 \"코드를 작성한다\"는 보다 구체적인 일의 의미로 구분해서 사용하기도 한다."
   ]
  },
  {
   "cell_type": "markdown",
   "id": "b9aa52ee",
   "metadata": {},
   "source": [
    ":::{admonition} 소프트웨어, 프로그램, 소스 코드, 코드, 명령문\n",
    ":class: tip\n",
    "\n",
    "소프트웨어, 프로그램, 소스 코드(원시 코드), 코드, 명령문 등이 특별한 구분 없이 \n",
    "사용되곤 한다. \n",
    "언급된 다섯 개념을 엄밀히 구분하는 기준은 없지만 일반적인 용도를 살펴 보았을 때\n",
    "다음과 같이 구분할 수 있다.\n",
    "\n",
    "- 소프트웨어: 컴퓨터 프로그램을 일반적으로 가리키는 표현\n",
    "- 프로그램: 특정 문제를 해결하는 하나의 컴퓨터 프로그램.\n",
    "- 소스 코드: 프로그램 구현에 사용된 명령문 모음집\n",
    "- 코드: 소스 코드의 일부 또는 전체.\n",
    "- 명령문: 소스 코드의 구성 요소 또는 일부.\n",
    ":::"
   ]
  },
  {
   "cell_type": "markdown",
   "id": "944d8f41",
   "metadata": {},
   "source": [
    "## 프로그래밍 언어"
   ]
  },
  {
   "cell_type": "markdown",
   "id": "04191a57-f950-4b26-927d-1f8103df89b8",
   "metadata": {},
   "source": [
    "**프로그래밍 언어**<font size=\"2\">programming language</font>는 \n",
    "컴퓨터 프로그램을 구현할 때 사용하는 언어다. \n",
    "한국어, 영어 등 자연어와 마찬가지로 다양한 언어가 있으며,\n",
    "일반적으로 저수준 언어와 고수준 언어로 나눈다.\n",
    "**저수준 언어**는 기계어<font size=\"2\">machine language</font>, \n",
    "어셈블리어<font size=\"2\">assembly language</font> 등\n",
    "컴퓨터가 이해하기 쉽게 작성되어 사람은 이해하기 어려운 프로그래밍 언어를 가리킨다. \n",
    "반면에 **고수준 언어**/high-level language</font>는\n",
    "사람이 이해하기 쉽게 이해할 수 있는 명령문과 \n",
    "**구문**<font size='2'>syntax</font>을 제공하는 프로그래밍 언어다.\n",
    "파이썬<font size=\"2\">python</font>, C, C++, C#, 자바<font size=\"2\">Java</font>, \n",
    "자바스크립트<font size=\"2\">Javascript</font>, 스위프트<font size=\"2\">Swift</font>  등 잘 알려진 대부분의 프로그래밍 언어들이 고수준 언어다.\n",
    "고수준 언어로 만들어진 프로그램은 번역기 또는 실행기를 이용하여\n",
    "기계어로 변경해야만 컴퓨터에서 실행될 수 있다."
   ]
  },
  {
   "cell_type": "markdown",
   "id": "15475ffe-3cbf-427a-a605-fdf9094609c3",
   "metadata": {},
   "source": [
    "보통 **컴파일러**<font size=\"2\">compiler</font>로 불리는 **번역기**는 \n",
    "특정 프로그래밍 언어를 다른 프로그래밍 언어로 변환하는 언어 번역 프로그램을 말한다.\n",
    "변환 과정을 **컴파일**<font size=\"2\">compilation</font>이라 하며,\n",
    "주로 고수준 언어를 컴퓨터가 이해할 수 있는 기계어로 변역하는 데에 사용된다.\n",
    "C, C++, C#, 자바 등이 번역기를 사용하는 대표적인 프로그래밍 언어이며,\n",
    "해당 언어로 구현된 프로그램은 먼저 소스코드 전체가 기계어로 변역된 후에야 컴퓨터로 실행될 수 있다."
   ]
  },
  {
   "cell_type": "markdown",
   "id": "0edc5709-8743-4c41-ae23-daf62f66478e",
   "metadata": {},
   "source": [
    "번역기와 달리 **실행기**<font size=\"2\">interpreter</font>(인터프리터)는 \n",
    "소스코드를 한 줄씩 해석하여 컴퓨터에 의해 바로 실행되도록 하는 소프트웨어다. \n",
    "파이썬, 루비, 자바스크립트, R 등과 같은 실행기를 사용하는 고수준 언어는\n",
    "코드를 한 줄씩 실행하는\n",
    "**대화식 프로그래밍**<font size=\"2\">interactive programming</font>을 지원한다."
   ]
  },
  {
   "cell_type": "markdown",
   "id": "65ececd2-50ec-4146-b358-1f67ff2ebfdd",
   "metadata": {},
   "source": [
    "## 파이썬"
   ]
  },
  {
   "cell_type": "markdown",
   "id": "420f758f",
   "metadata": {},
   "source": [
    "파이썬<font size=\"1\">Python</font>은 실행기를 사용하는 고수준 프로그래밍 언어다.\n",
    "컴퓨터로 다루는 모든 문제의 해결에 사용될 수 있는 \n",
    "**범용 프로그래밍 언어**<font size=\"1\">general-purpose programming language</font>로 1991년 귀도 반 로섬<font size=\"1\">Guido van Rossum</font>에 의해 소개되었다.\n",
    "\n",
    ":::{admonition} 도메인 특화 언어\n",
    ":class: info\n",
    "\n",
    "범용 프로그래밍 언어와는 다르게 특정 영역(도메인)의 문제 해결에만 사용되는\n",
    "프로그래밍 언어를 **도메인 특화 언어**<font size='2'>domain-specific language</font>라\n",
    "부른다. 웹페이지 구현에 사용되는 HTML, CSS 등이 대표적인 도메인 특화 언어다.\n",
    ":::"
   ]
  },
  {
   "cell_type": "markdown",
   "id": "acec813b",
   "metadata": {},
   "source": [
    "기존 프로그래밍 언어들의 한계를 극복하고자 만들어진 파이썬은 \n",
    "자연어와 유사할 정도로 간결하고 쉬운 문법을 제공한다.\n",
    "예를 들어, 아래의 파이썬 코드는 0과 9 사이의 숫자 중에 3을 입력하면\n",
    "'맞았습니다'를, 아니면 '틀렸습니다'를 출력하는 숫자맞히기 게임을 구현한다.\n",
    "\n",
    "```python\n",
    "print(\"숫자맞히기 게임에 환영합니다.\")\n",
    "\n",
    "secret = '3'\n",
    "guess = input(\"0부터 9 사이의 숫자 하나를 입력하세요: \")\n",
    "\n",
    "if guess == secret:\n",
    "    print(\"맞았습니다!\")\n",
    "else:\n",
    "    print(\"틀렸습니다!\")\n",
    "\n",
    "print(\"게임 종료!\")\n",
    "```\n",
    "\n",
    "프로그래밍에 대한 경험이 전혀 없는 사람도 위 파이썬 코드의 의미를 대략적으로 \n",
    "유추할 수 있다.\n",
    "이렇듯 파이썬 언어는 자연어와 유사하여 입문자 교육용으로도 많이 사용된다."
   ]
  },
  {
   "cell_type": "markdown",
   "id": "0494b075",
   "metadata": {},
   "source": [
    "이뿐만 아니라 파이썬은 다양한 분야에서 사용할 수 있는 수 많은 라이브러리를 제공한다.프로그래밍 언어의 라이브러리는 필요에 따라 언제든 활용할 수 있는 코드들의 모음집이다. \n",
    "파이썬이 제공하는 강력한 라이브러리는 더 적은 코드로 더 많은 프로그램을\n",
    "효율적으로 구현할 수 있도록 도와준다.\n",
    "\n",
    "- 데이터 과학: SciPy, Numpy, Pandas, Matplotlib\n",
    "- 머신러닝: Scikit-learn, TensorFlow, Keras, PyTorch\n",
    "- 데이터베이스: PyMySQL, mysql-connector-python\n",
    "- 웹 프레임워크: Django, Flask, Pylongs, Pyramid, web2py\n",
    "- 게임: Turtle, PyGame"
   ]
  },
  {
   "cell_type": "markdown",
   "id": "e29c5690-4ca3-41b0-9638-5b9cf3140758",
   "metadata": {},
   "source": [
    "파이썬은 OOP,  즉 **객체 지향 프로그래밍**<font size=\"1\">Object-Oriented Programming</font>을 지원한다.\n",
    "OOP는 객체들 사이의 유기적 관계를 중시하는 프로그래밍 기법이다. \n",
    "파이썬이 다루는 모든 대상은 객체로 설계되어 있어서 \n",
    "OOP를 쉽게 적용할 수 있고,\n",
    "따라서 데이터 분석, 머신러닝, 데이터베이스, 웹 프레임워크, 게임 등 \n",
    "다양한 분야에서 유용하게 활용된다.\n",
    "파이썬 이외에 C++, C#, 자바, 자바스크립트, 스위프트 등도\n",
    "OOP를 지원한다.\n",
    "OOP와 대비하여 보통 문제 해결과정의 순차적 묘사를 중시하는 \n",
    "**절차 지향 프로그래밍**<font size=\"2\">procedural programming</font>을 언급한다. \n",
    "대표적인 절차 지향 프로그래밍 언어로 C와 HTML이 있다."
   ]
  },
  {
   "cell_type": "markdown",
   "id": "d13c943b-5bd0-43c5-ad57-087c130474a2",
   "metadata": {},
   "source": [
    "지금까지 살펴본 파이썬의 특징으로 인해  파이썬의 인기는 날이 갈수록 높아지고 있다. \n",
    "프로그래밍 언어들의 인기도를 측정하는 \n",
    "[TIOBE 인덱스](https://www.tiobe.com/tiobe-index)에 \n",
    "따르면, 2023년 2월 기준 가장 인기있는 프로그래밍 언어는 파이썬이다."
   ]
  },
  {
   "cell_type": "markdown",
   "id": "93f38a89",
   "metadata": {},
   "source": [
    "<div align=\"center\"><img src=\"https://raw.githubusercontent.com/codingalzi/datapy/master/jupyter-book/images/tiobe-index.jpg\" style=\"width:750px\"></div>"
   ]
  },
  {
   "cell_type": "markdown",
   "id": "4594298e",
   "metadata": {},
   "source": [
    "## 파이썬 명령문"
   ]
  },
  {
   "cell_type": "markdown",
   "id": "f6a4902d",
   "metadata": {},
   "source": [
    "컴퓨터에 명령을 내리려면\n",
    "**명령문**<font size=\"2\">statement</font>을 작성해야 하며,\n",
    "이를 위해 하나의 프로그래밍 언어를 선택해야 한다. \n",
    "모든 프로그래밍 언어는 고유의 명령문 작성 규칙을 제공하며,\n",
    "언어의 특성에 따라 명령문 작성법과 작성된 명령문의 모양이 많이 다를 수 있다."
   ]
  },
  {
   "cell_type": "markdown",
   "id": "e3b84662",
   "metadata": {},
   "source": [
    "파이썬 명령문은 **기초 명령문**을 \n",
    "지정된 규칙에 따라 합성해서 생성한다.\n",
    "파이썬이 제공하는 기초 명령문은 다음과 같다.\n",
    "\n",
    "* 변수 할당\n",
    "* `if` 조건문\n",
    "* `for` 반복문\n",
    "* `while` 반복문\n",
    "\n",
    "또한 명령문을 합성하여 새로운 명령문을 만들 수 있다.\n",
    "**프로그램**<font size=\"2\">program</font>은 바로 \n",
    "특정 명령을 의도한대로 수행하는 명령문을 가리키는\n",
    "일상 언어 표현이다."
   ]
  },
  {
   "cell_type": "markdown",
   "id": "36a69832",
   "metadata": {},
   "source": [
    "[파이썬 명령문의 엄밀한 정의](https://docs.python.org/3/reference/compound_stmts.html)는 \n",
    "꽤 복잡하다.\n",
    "웬만해서는 알 필요 없으며,\n",
    "원하는 기능을 옳바르게 수행하는 프로그램을 구현하는 훈련과\n",
    "작업을 통해 자연스럽게 명령문에 친숙해지는 것이 일반적이다.\n",
    "하지만 실행기<font size='2'>interpreter</font>, \n",
    "번역기<font size='2'>compiler</font> 등을 직접 구현해야 하는 \n",
    "전문가는 이런 내용을 정확히 알아야 한다.\n",
    "\n",
    "앞으로 다양한 파이썬 명령문을 작성하는 방식을 하나씩 소개한다. \n",
    "프로그래밍을 잘한다 함은 바로 문제 해결에 적절한 명령문을 작성한다는 의미이다. "
   ]
  }
 ],
 "metadata": {
  "kernelspec": {
   "display_name": "Python 3 (ipykernel)",
   "language": "python",
   "name": "python3"
  },
  "language_info": {
   "codemirror_mode": {
    "name": "ipython",
    "version": 3
   },
   "file_extension": ".py",
   "mimetype": "text/x-python",
   "name": "python",
   "nbconvert_exporter": "python",
   "pygments_lexer": "ipython3",
   "version": "3.10.6"
  },
  "vscode": {
   "interpreter": {
    "hash": "4f1c27f6da107cbb19cc7f388eb21cff313e366dc533bc97937a0f5f8534034c"
   }
  }
 },
 "nbformat": 4,
 "nbformat_minor": 5
}
