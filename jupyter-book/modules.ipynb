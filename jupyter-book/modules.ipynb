{
 "cells": [
  {
   "cell_type": "markdown",
   "metadata": {},
   "source": [
    "(ch:modules)=\n",
    "# 모듈"
   ]
  },
  {
   "cell_type": "markdown",
   "metadata": {},
   "source": [
    "**모듈**<font size='2'>module</font>은 이미 선언된 함수, 변수, 클래스의 정의가\n",
    "포함된 소스코드 파일이며, 파일명의 확장자는 `.py`이다.\n",
    "예를 들어 `math` 모듈은 다양한 수학에서 많이 활용되는 함수와 상수의 정의를,\n",
    "`random` 모듈은 무작위로 수를 생성하고 계산하는 다양한 함수의 정의를 포함한다.\n",
    "여기서는 이 두 모듈을 이용하여 모듈과 모듈에 포함된 함수, 변수 등을 \n",
    "활용하는 일반적인 방법을 소개한다."
   ]
  },
  {
   "cell_type": "markdown",
   "metadata": {},
   "source": [
    "현재 작성중인 파이썬 코드 파일이 아닌 누군가에 의해 이미 작성된\n",
    "모듈에 포함된 함수, 변수, 클래스 등을 사용하려면 먼저 해당 모듈을 불러와야 하며\n",
    "보통 다음 세 가지 방식으로 모듈을 불러온다.\n",
    "\n",
    "- `import 모듈명`\n",
    "- `from 모듈명 import ...`\n",
    "- `import 모듈명 as 모듈별칭`"
   ]
  },
  {
   "cell_type": "markdown",
   "metadata": {},
   "source": [
    "## 모듈 활용법 1: `import 모듈명`"
   ]
  },
  {
   "cell_type": "markdown",
   "metadata": {},
   "source": [
    "예를 들어 1부터 5까지의 정수 중에서 무작위로 하나의 정수를 계산하는\n",
    "함수가 필요할 때 `random` 모듈의 `randint()` 함수를 활용할 수 있다.\n",
    "이를 위해 먼저 `random` 모듈을 불러온다."
   ]
  },
  {
   "cell_type": "code",
   "execution_count": 2,
   "metadata": {},
   "outputs": [],
   "source": [
    "import random"
   ]
  },
  {
   "cell_type": "markdown",
   "metadata": {},
   "source": [
    "이제 `randint()` 함수를 다음과 같이 호출할 때마다 1부터 5까지의 정수 중에서 \n",
    "하나의 정수가 무작위로 반환된다."
   ]
  },
  {
   "cell_type": "code",
   "execution_count": 39,
   "metadata": {},
   "outputs": [
    {
     "data": {
      "text/plain": [
       "4"
      ]
     },
     "execution_count": 39,
     "metadata": {},
     "output_type": "execute_result"
    }
   ],
   "source": [
    "random.randint(1, 5)"
   ]
  },
  {
   "cell_type": "code",
   "execution_count": 41,
   "metadata": {},
   "outputs": [
    {
     "data": {
      "text/plain": [
       "3"
      ]
     },
     "execution_count": 41,
     "metadata": {},
     "output_type": "execute_result"
    }
   ],
   "source": [
    "random.randint(1, 5)"
   ]
  },
  {
   "cell_type": "markdown",
   "metadata": {},
   "source": [
    "그리고 `random` 모듈의 `random()` 함수는 구간 `[0, 1)`, 즉 0 이상, 1 미만 사이의 구간에서 무작위로 하나의 부동소수점을\n",
    "생성한다.\n",
    "아래 코드는 `random()` 모듈을 세 번 호출할 때마다 매번 무작위로 새로운 부동소수점이\n",
    "생성됨을 보여준다."
   ]
  },
  {
   "cell_type": "code",
   "execution_count": 23,
   "metadata": {},
   "outputs": [
    {
     "name": "stdout",
     "output_type": "stream",
     "text": [
      "0.9604947743238768\n",
      "0.2896253777644655\n",
      "0.7661074377979527\n"
     ]
    }
   ],
   "source": [
    "for i in range(3):\n",
    "    print(random.random())"
   ]
  },
  {
   "cell_type": "markdown",
   "metadata": {},
   "source": [
    "즉 모듈에 포함된 함수를 사용하려면 점을 사이에 두고 모듈 이름과 함수를 함께 표현한다."
   ]
  },
  {
   "cell_type": "markdown",
   "metadata": {},
   "source": [
    ":::{admonition} `random` 모듈과 `random()` 함수\n",
    ":class: note\n",
    "\n",
    "함수와 모듈의 이름이 동일하기에 구분을 위해서라도 \n",
    "함수에는 항상 소괄호 `()`를 의도적으로 붙여서 함수임을 강조한다.\n",
    ":::"
   ]
  },
  {
   "cell_type": "markdown",
   "metadata": {},
   "source": [
    "**`random.seed()` 함수**"
   ]
  },
  {
   "cell_type": "markdown",
   "metadata": {},
   "source": [
    "`random` 모듈에 포함된 함수들은 기본적으로 호출될 때마다 무작위로 수를 생성하기에\n",
    "호출될 때마다 다른 값을 반환한다.\n",
    "실제로는 파이썬 실행기가 무작위 수 생성 기능의 사용 횟수에 따라\n",
    "함수가 반환해야 하는 값을 차례대로 지정한다.\n",
    "\n",
    "따라서 무작위로 수를 생성하는 함수를 실행할 때마다 동일한 값이 생성되도록 하려면\n",
    "무작위수 생성 기능의 사용 횟수를 초기화하면 된다.\n",
    "이를 위해 `random.seed()` 함수를 이용한다.\n",
    "인자는 0보다 같거나 큰 정수가 사용된다.\n",
    "예를 들어 아래 코드는 무작위수 생성 기능이 17번 사용되었다고 가정하도록 한다."
   ]
  },
  {
   "cell_type": "code",
   "execution_count": 7,
   "metadata": {},
   "outputs": [],
   "source": [
    "random.seed(17)"
   ]
  },
  {
   "cell_type": "markdown",
   "metadata": {},
   "source": [
    "`random.seed()` 함수와 함께 `random` 모듈의 함수를 호출하면 항상 동일한 결과를 얻는다.\n",
    "아래 코드는 `random.seed()` 함수를 이용하면\n",
    "매번 동일한 결과가 나온다는 사실을 보여준다."
   ]
  },
  {
   "cell_type": "code",
   "execution_count": 8,
   "metadata": {},
   "outputs": [
    {
     "name": "stdout",
     "output_type": "stream",
     "text": [
      "0.5219839097124932\n",
      "0.5219839097124932\n",
      "0.5219839097124932\n"
     ]
    }
   ],
   "source": [
    "for i in range(3):\n",
    "    random.seed(17)\n",
    "    print(random.random())"
   ]
  },
  {
   "cell_type": "markdown",
   "metadata": {},
   "source": [
    "`random.seed()` 함수의 인자를 달리하면 다른 결과를 얻는다."
   ]
  },
  {
   "cell_type": "code",
   "execution_count": 9,
   "metadata": {},
   "outputs": [
    {
     "name": "stdout",
     "output_type": "stream",
     "text": [
      "0.8444218515250481\n",
      "0.8444218515250481\n",
      "0.8444218515250481\n"
     ]
    }
   ],
   "source": [
    "for i in range(3):\n",
    "    random.seed(0)\n",
    "    print(random.random())"
   ]
  },
  {
   "cell_type": "markdown",
   "metadata": {},
   "source": [
    "## 모듈 활용법 2: `from 모듈명 import ...`"
   ]
  },
  {
   "cell_type": "markdown",
   "metadata": {},
   "source": [
    "수학에서 많이 사용되는 `log`, `sin`, `cos` 등의 함수의 정의는 `math` 모듈에 포함되어 있다.\n",
    "예를 들어 아래 코드는 정수 2의 자연로그값을 계산한다."
   ]
  },
  {
   "cell_type": "code",
   "execution_count": 50,
   "metadata": {},
   "outputs": [
    {
     "data": {
      "text/plain": [
       "0.6931471805599453"
      ]
     },
     "execution_count": 50,
     "metadata": {},
     "output_type": "execute_result"
    }
   ],
   "source": [
    "import math\n",
    "\n",
    "math.log(2)"
   ]
  },
  {
   "cell_type": "markdown",
   "metadata": {},
   "source": [
    "`math` 모듈엔 원주율 `pi`와 같은 중요한 상수도 변수로 정의되어 있으며 사용방법은 동일하다.\n",
    "단 변수는 소괄호 기호가 사용되지 않는다."
   ]
  },
  {
   "cell_type": "code",
   "execution_count": 8,
   "metadata": {},
   "outputs": [
    {
     "data": {
      "text/plain": [
       "3.141592653589793"
      ]
     },
     "execution_count": 8,
     "metadata": {},
     "output_type": "execute_result"
    }
   ],
   "source": [
    "math.pi"
   ]
  },
  {
   "cell_type": "markdown",
   "metadata": {},
   "source": [
    "`sin()`, `cos()` 등의 함수도 제공된다.\n",
    "아래 두 코드는 앞서 언급한 원주율 변수 `math.pi`를 인자로 활용한다."
   ]
  },
  {
   "cell_type": "code",
   "execution_count": 9,
   "metadata": {},
   "outputs": [
    {
     "data": {
      "text/plain": [
       "1.0"
      ]
     },
     "execution_count": 9,
     "metadata": {},
     "output_type": "execute_result"
    }
   ],
   "source": [
    "math.sin(math.pi/2)"
   ]
  },
  {
   "cell_type": "code",
   "execution_count": 11,
   "metadata": {},
   "outputs": [
    {
     "data": {
      "text/plain": [
       "-1.0"
      ]
     },
     "execution_count": 11,
     "metadata": {},
     "output_type": "execute_result"
    }
   ],
   "source": [
    "math.cos(math.pi)"
   ]
  },
  {
   "cell_type": "markdown",
   "metadata": {},
   "source": [
    "그런데 `log`, `sin` 등의 함수를 자주 사용한다면\n",
    "`math.log()` 또는 `math.sin()` 처럼 \n",
    "매번 `math` 모듈명과 함께 함수 호출을 실행하는 게 불편할 수 있다.\n",
    "그런 경우 `from ... import ...` 명령문을 사용하면 보다 편리하게\n",
    "자주 활용하는 함수를 호출할 수 있다.\n",
    "예를 들어 아래 코드는 `math` 모듈에 `log()` 함수와 `sin()` 함수, 그리고 원주율 `pi` 변수만 불러온다."
   ]
  },
  {
   "cell_type": "code",
   "execution_count": 51,
   "metadata": {},
   "outputs": [],
   "source": [
    "from math import log, sin, pi"
   ]
  },
  {
   "cell_type": "markdown",
   "metadata": {},
   "source": [
    "이제 `log()`, `sin()` 두 함수와 `pi` 변수를 `math` 모듈을 언급하지 않은 채 사용할 수 있다."
   ]
  },
  {
   "cell_type": "code",
   "execution_count": 52,
   "metadata": {},
   "outputs": [
    {
     "data": {
      "text/plain": [
       "0.6931471805599453"
      ]
     },
     "execution_count": 52,
     "metadata": {},
     "output_type": "execute_result"
    }
   ],
   "source": [
    "log(2)"
   ]
  },
  {
   "cell_type": "code",
   "execution_count": 53,
   "metadata": {},
   "outputs": [
    {
     "data": {
      "text/plain": [
       "3.141592653589793"
      ]
     },
     "execution_count": 53,
     "metadata": {},
     "output_type": "execute_result"
    }
   ],
   "source": [
    "pi"
   ]
  },
  {
   "cell_type": "code",
   "execution_count": 54,
   "metadata": {},
   "outputs": [
    {
     "data": {
      "text/plain": [
       "1.0"
      ]
     },
     "execution_count": 54,
     "metadata": {},
     "output_type": "execute_result"
    }
   ],
   "source": [
    "sin(pi/2)"
   ]
  },
  {
   "cell_type": "markdown",
   "metadata": {},
   "source": [
    "반면에 `from math import log, sin, pi` 명령문에서\n",
    "언급되지 않은 `cos()` 함수는 `math` 모듈을 언급하지 않고는 사용할 수 없다.\n",
    "예를 들어 아래 코드를 실행하면 `cos` 함수가 정의되어 있지 않다는 의미에서\n",
    "`NameError` 오류가 발생한다."
   ]
  },
  {
   "cell_type": "code",
   "execution_count": 55,
   "metadata": {},
   "outputs": [
    {
     "ename": "NameError",
     "evalue": "name 'cos' is not defined",
     "output_type": "error",
     "traceback": [
      "\u001b[0;31m---------------------------------------------------------------------------\u001b[0m",
      "\u001b[0;31mNameError\u001b[0m                                 Traceback (most recent call last)",
      "Cell \u001b[0;32mIn[55], line 1\u001b[0m\n\u001b[0;32m----> 1\u001b[0m cos(pi)\n",
      "\u001b[0;31mNameError\u001b[0m: name 'cos' is not defined"
     ]
    }
   ],
   "source": [
    "cos(pi)"
   ]
  },
  {
   "cell_type": "markdown",
   "metadata": {},
   "source": [
    "## 모듈 활용법 3: `import 모듈명 as 모듈별칭`"
   ]
  },
  {
   "cell_type": "markdown",
   "metadata": {},
   "source": [
    "그런데 모듈명을 명시하지 않으면 사용되는 함수의 출처가 불명확해질 수 있다.\n",
    "따라서 자주 사용되는 모듈명에 보다 간단한 별칭을 대신 지정하여 함수 호출에 활용할 수 있다.\n",
    "예를 들어 아래 코드는 `math` 모듈의 별칭을 `m`으로 지정하면서 불러온다."
   ]
  },
  {
   "cell_type": "code",
   "execution_count": 56,
   "metadata": {},
   "outputs": [],
   "source": [
    "import math as m"
   ]
  },
  {
   "cell_type": "markdown",
   "metadata": {},
   "source": [
    "그러면 `math` 모듈에 포함된 모든 함수와 변수를 `m.log()`, `m.pi` 등으로 사용할 수 있다."
   ]
  },
  {
   "cell_type": "code",
   "execution_count": 57,
   "metadata": {},
   "outputs": [
    {
     "data": {
      "text/plain": [
       "0.6931471805599453"
      ]
     },
     "execution_count": 57,
     "metadata": {},
     "output_type": "execute_result"
    }
   ],
   "source": [
    "m.log(2)"
   ]
  },
  {
   "cell_type": "code",
   "execution_count": 58,
   "metadata": {},
   "outputs": [
    {
     "data": {
      "text/plain": [
       "3.141592653589793"
      ]
     },
     "execution_count": 58,
     "metadata": {},
     "output_type": "execute_result"
    }
   ],
   "source": [
    "m.pi"
   ]
  },
  {
   "cell_type": "code",
   "execution_count": 59,
   "metadata": {},
   "outputs": [
    {
     "data": {
      "text/plain": [
       "1.0"
      ]
     },
     "execution_count": 59,
     "metadata": {},
     "output_type": "execute_result"
    }
   ],
   "source": [
    "m.sin(m.pi/2)"
   ]
  },
  {
   "cell_type": "code",
   "execution_count": 60,
   "metadata": {},
   "outputs": [
    {
     "data": {
      "text/plain": [
       "-1.0"
      ]
     },
     "execution_count": 60,
     "metadata": {},
     "output_type": "execute_result"
    }
   ],
   "source": [
    "m.cos(m.pi)"
   ]
  },
  {
   "cell_type": "markdown",
   "metadata": {},
   "source": [
    "## 필수 예제"
   ]
  },
  {
   "cell_type": "markdown",
   "metadata": {},
   "source": [
    "참고: [(필수 예제) 모듈](https://colab.research.google.com/github/codingalzi/pybook/blob/master/examples/examples-modules.ipynb)"
   ]
  },
  {
   "cell_type": "markdown",
   "metadata": {},
   "source": [
    "## 연습문제 "
   ]
  },
  {
   "cell_type": "markdown",
   "metadata": {},
   "source": [
    "참고: [(연습) 모듈](https://colab.research.google.com/github/codingalzi/pybook/blob/master/practices/practice-modules.ipynb)"
   ]
  }
 ],
 "metadata": {
  "kernelspec": {
   "display_name": "Python 3 (ipykernel)",
   "language": "python",
   "name": "python3"
  },
  "language_info": {
   "codemirror_mode": {
    "name": "ipython",
    "version": 3
   },
   "file_extension": ".py",
   "mimetype": "text/x-python",
   "name": "python",
   "nbconvert_exporter": "python",
   "pygments_lexer": "ipython3",
   "version": "3.11.5"
  },
  "vscode": {
   "interpreter": {
    "hash": "6c86b3592b6800d985c04531f2c445f0fa6967131b8dd6395a925f7622e55602"
   }
  }
 },
 "nbformat": 4,
 "nbformat_minor": 1
}
