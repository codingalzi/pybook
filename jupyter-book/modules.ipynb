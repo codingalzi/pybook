{
 "cells": [
  {
   "cell_type": "markdown",
   "metadata": {},
   "source": [
    "(ch:module)=\n",
    "# 모듈"
   ]
  },
  {
   "cell_type": "markdown",
   "metadata": {},
   "source": [
    "한 번 구현한 함수, 상수, 변수, 클래스, 객체 등을 \n",
    "다른 파이썬 파일 또는 코드에서 공유하여 사용하면 프로그램을 보다 효율적으로 구현할 수 있다.\n",
    "이를 위해 **모듈**<font size='2'>module</font>을 활용한다.\n",
    "파이썬의 모듈은 간단하게 말하면 하나의 파이썬 소스코드 파일이며, 확장자로 \".py\" 가 사용된다.\n",
    "하나의 모듈은 서로 연관된 함수, 클래스 등을 포함한다. \n",
    "\n",
    "예를 들어 `math` 모듈은 다양한 수학 함수를,\n",
    "`random` 모듈은 무작위수를 생성하는 많은 함수를,\n",
    "`turtle` 모듈은 간단한 그래픽 관련 함수와 클래스를 제공한다."
   ]
  },
  {
   "cell_type": "markdown",
   "metadata": {},
   "source": [
    "## 모듈, 패키지, 라이브러리, 프레임워크"
   ]
  },
  {
   "cell_type": "markdown",
   "metadata": {},
   "source": [
    "하나의 모듈이 독립적으로 제공되기도 하지만 다른 모듈과 함께 하나의 모음집으로 제공되기도 한다.\n",
    "모음의 크기와 용도에 따라 패키지, 라이브러리, 프레임워크 등 다양한 이름으로 불린다. "
   ]
  },
  {
   "cell_type": "markdown",
   "metadata": {},
   "source": [
    "**패키지**<font size='2'>package</font>는 모듈을 모아놓은 디렉토리(폴더)이며, \n",
    "`__init__.py` 모듈을 반드시 포함해야 한다.\n",
    "패키지 안에 하위 패키지가 포함될 수 있으며, 각 하위 패키지 모두 `__init__,py` 모듈을 \n",
    "포함해야 한다. \n",
    "`__init__.py` 모듈은 해당 패키지가 사용될 때 필요한 기본 설정을 담당한다. "
   ]
  },
  {
   "cell_type": "markdown",
   "metadata": {},
   "source": [
    "<div align=\"center\"><img src=\"https://pythongeeks.org/wp-content/uploads/2021/12/structure-of-packages.webp\" style=\"width:500px;\"></div>\n",
    "\n",
    "<그림 출처: [Python Packages with Examples](https://pythongeeks.org/python-packages/)>"
   ]
  },
  {
   "cell_type": "markdown",
   "metadata": {},
   "source": [
    "**라이브러리**<font size='2'>library</font>는\n",
    "모듈, 패키지 등 재사용이 가능한 코드의 모음을 통칭헤서 부르는 이름이다.\n",
    "패키지가 하위 패키지를 포함하기에 라이브러리로 불리기도 하지만\n",
    "라이브러리는 여러 개의 패키지로 이루어진 모음집으로 하나의 패키지와 구분된다.\n",
    "[파이썬 표준 라이브러리](https://docs.python.org/3/library/)에서 \n",
    "기본으로 제공되는 패키지와 모듈을 확인할 수 있다.\n",
    "\n",
    "반면에 게임 프로그래밍에 사용되는 Pygame, 데이터 분석에 필수인 Numpy, Pandas, Matplotlib,\n",
    "웹에서 필요한 데이터 수집에 유용한 BeautifulSoup,\n",
    "머신러닝/딥러닝 분야의 Tensorflow, Keras, PyTorch 등이\n",
    "대표적인 제3자 파이썬 라이브러리다."
   ]
  },
  {
   "cell_type": "markdown",
   "metadata": {},
   "source": [
    "**프레임워크**<font size='2'>framework</font>는 라이브러리 보다 포괄적인 개념이다.\n",
    "라이브러리가 필요한 도구와 도구 모음집을 제공하는 반면에\n",
    "프레임워크는 라이브러리를 적용하는 전반적인 틀<font size='2'>frame</font>과 \n",
    "기본 구조<font size='2'>architecture</font>를 제공한다.\n",
    "\n",
    "예를 들어, 플라스크<font size='2'>Flask</font> 프레임워크는 웹서버 개발에 적절한 틀과 구조를,\n",
    "장고<font size='2'>Django</font> 프레임워크는 웹 어플리케이션 구현에 최적의 틀과 구조를 제공한다.\n",
    "사용자는 해당 프레임워크가 제공하는 틀과 구조에 맞춰 적절한 코드를 작성하면 원하는 결과를\n",
    "프레임워크를 사용하지 않을 때에 비해 훨씬 쉽고 빠르게 구현한다."
   ]
  },
  {
   "cell_type": "markdown",
   "metadata": {},
   "source": [
    "파이썬 표준 라이브러리에 포함되지 않은 제3자가 제공하는 모듈, 패키지, 라이브러리, 프레임워크 등을 \n",
    "이용하려면 추가적으로 설치해야 한다. \n",
    "설치는 일반적으로 `pip` 이라는 파이썬 패키지 인스톨러를 \n",
    "터미널에서 실행하는 방식을 사용한다.\n",
    "예를 들어 넘파이 모듈을 설치하려면 다음 명령을 실행한다. \n",
    "\n",
    "```bash\n",
    "pip install numpy\n",
    "```\n",
    "\n",
    "주피터 노트북에서도 동일한 방식으로 설치할 수 있다.\n",
    "단, 아래 처럼 느낌표로 시작해야 한다.\n",
    "\n",
    "```python\n",
    "!pip install numpy\n",
    "```"
   ]
  },
  {
   "cell_type": "markdown",
   "metadata": {},
   "source": [
    "모듈, 패키지, 라이브러리, 프레임워크 중에서 가장 작은 단위인 모듈만 \n",
    "불러와서<font size='2'>import</font> 모듈에 포함된 함수, 클래스 등을 사용할 수 있다.\n",
    "모듈을 불러오는 기본 방식은 다음과 같다.\n",
    "\n",
    "```python\n",
    "import 모듈명\n",
    "```\n",
    "\n",
    "반면에 모듈이 아닌 패키지를 불러올 수도 있지만 그러려면 패키지 폴더에 있는 `__init__.py` 모듈에 \n",
    "해당 패키지를 불러올 때 기본적으로 함께 불러오는 모듈이 지정되어 있어야 한다. \n",
    "보다 자세한 사항은 \n",
    "[코딩도장: 패키지에서 from import 응용하기](https://dojang.io/mod/page/view.php?id=2450)를 참고할 수 있다."
   ]
  },
  {
   "cell_type": "markdown",
   "metadata": {},
   "source": [
    "모듈은 크게 세 종류로 나뉜다.\n",
    "\n",
    "* 내장 모듈: \n",
    "    `math`, `urllib.request`, `random`, `turtle`, `os`, `sys` 등 \n",
    "    파이썬을 설치할 때 기본으로 제공되는 모듈\n",
    "* 제3자 라이브러리<font size='2'>third-party library</font> 모듈: \n",
    "    `numpy.random`, `matplotlib.pyplot`, `pygame.mixer` 등 \n",
    "    제3자가 제공한 라이브러리에 포함된 모듈\n",
    "* 사용자 정의 모듈: \n",
    "    개인 프로젝트를 위해 직접 작성한 파이썬 코드 파일"
   ]
  },
  {
   "cell_type": "markdown",
   "metadata": {},
   "source": [
    "## 모듈 불러오기"
   ]
  },
  {
   "cell_type": "markdown",
   "metadata": {},
   "source": [
    "예를 들어, `math` 모듈을 활용하는 방식은 다음과 같다."
   ]
  },
  {
   "cell_type": "markdown",
   "metadata": {},
   "source": [
    "**방식 1: `import ...`**"
   ]
  },
  {
   "cell_type": "markdown",
   "metadata": {},
   "source": [
    "먼저 `math` 모듈 불러온 다음에 모듈에 포함된 임의의 함수를 사용한다."
   ]
  },
  {
   "cell_type": "code",
   "execution_count": 1,
   "metadata": {},
   "outputs": [],
   "source": [
    "import math"
   ]
  },
  {
   "cell_type": "markdown",
   "metadata": {},
   "source": [
    "`log()` 함수를 호출하려면 다음처럼 모듈과 함수를 점(`.`)으로 구분해서 함께 사용한다."
   ]
  },
  {
   "cell_type": "code",
   "execution_count": 2,
   "metadata": {},
   "outputs": [
    {
     "data": {
      "text/plain": [
       "0.6931471805599453"
      ]
     },
     "execution_count": 2,
     "metadata": {},
     "output_type": "execute_result"
    }
   ],
   "source": [
    "math.log(2)"
   ]
  },
  {
   "cell_type": "markdown",
   "metadata": {},
   "source": [
    "`sin()`, `cos()` 함수 사용법도 동일하다."
   ]
  },
  {
   "cell_type": "code",
   "execution_count": 3,
   "metadata": {},
   "outputs": [
    {
     "data": {
      "text/plain": [
       "0.8939966636005579"
      ]
     },
     "execution_count": 3,
     "metadata": {},
     "output_type": "execute_result"
    }
   ],
   "source": [
    "math.sin(90)"
   ]
  },
  {
   "cell_type": "code",
   "execution_count": 4,
   "metadata": {},
   "outputs": [
    {
     "data": {
      "text/plain": [
       "-0.4480736161291701"
      ]
     },
     "execution_count": 4,
     "metadata": {},
     "output_type": "execute_result"
    }
   ],
   "source": [
    "math.cos(90)"
   ]
  },
  {
   "cell_type": "markdown",
   "metadata": {},
   "source": [
    "**방식 2: `from ... import ...`**"
   ]
  },
  {
   "cell_type": "markdown",
   "metadata": {},
   "source": [
    "모듈에 포함된 특정 함수만 뽑아와서 사용할 수도 있다.\n",
    "그러려면 `from-import` 키워드를 사용한다.\n",
    "아래 코드는 `math` 모듈에 `log()` 함수와 `sin()` 함수 두 개만 불러온다."
   ]
  },
  {
   "cell_type": "code",
   "execution_count": 6,
   "metadata": {},
   "outputs": [],
   "source": [
    "from math import log, sin"
   ]
  },
  {
   "cell_type": "markdown",
   "metadata": {},
   "source": [
    "이제 `log()`, `sin()` 두 함수는 독립적으로 사용된다."
   ]
  },
  {
   "cell_type": "code",
   "execution_count": 7,
   "metadata": {},
   "outputs": [
    {
     "data": {
      "text/plain": [
       "0.6931471805599453"
      ]
     },
     "execution_count": 7,
     "metadata": {},
     "output_type": "execute_result"
    }
   ],
   "source": [
    "log(2)"
   ]
  },
  {
   "cell_type": "code",
   "execution_count": 8,
   "metadata": {},
   "outputs": [
    {
     "data": {
      "text/plain": [
       "0.8939966636005579"
      ]
     },
     "execution_count": 8,
     "metadata": {},
     "output_type": "execute_result"
    }
   ],
   "source": [
    "sin(90)"
   ]
  },
  {
   "cell_type": "markdown",
   "metadata": {},
   "source": [
    "하지만 `cos()` 함수는 모듈 이름없이 독립적으로 사용할 수 없다."
   ]
  },
  {
   "cell_type": "markdown",
   "metadata": {},
   "source": [
    "```python\n",
    ">>> cos(90)\n",
    "NameError                                 Traceback (most recent call last)\n",
    "/tmp/ipykernel_305/157168676.py in <module>\n",
    "----> 1 cos(90)\n",
    "\n",
    "NameError: name 'cos' is not defined\n",
    "```"
   ]
  },
  {
   "cell_type": "markdown",
   "metadata": {},
   "source": [
    "아래 방식으로 `math` 모듈에 포함된 모든 함수, 클래스 등을 한꺼번에 불러올 수 있다.\n",
    "\n",
    "```python\n",
    "from math import *\n",
    "```\n",
    "\n",
    "하지만 이 방식은 권장되지 않는다. \n",
    "이유는 기존에 사용된 함수, 변수 등의 이름과 충돌이 발생할 수 있기 때문이다."
   ]
  },
  {
   "cell_type": "markdown",
   "metadata": {},
   "source": [
    ":::{admonition} 별표(`*`) 의 의미\n",
    ":class: tip\n",
    "\n",
    "프로그래밍 분야에서 별표(`*`)는 모든 파일, 모든 이름 등을 가리킬 때 사용한다. \n",
    ":::"
   ]
  },
  {
   "cell_type": "markdown",
   "metadata": {},
   "source": [
    "**방식 3: `import ... as ...`**"
   ]
  },
  {
   "cell_type": "markdown",
   "metadata": {},
   "source": [
    "모듈이나 패키지를 불러올 때 별칭을 지정하여 활용할 수 있다.\n",
    "많이 사용되는 모듈이나 패키지는 많은 사람들이 관습적으로 사용하는 별칭이 있다.\n",
    "`numpy` 패키지의 경우 보통 `np`로 줄여 부른다.\n",
    "별칭을 사용하는 방식은 다음과 같다."
   ]
  },
  {
   "cell_type": "code",
   "execution_count": 5,
   "metadata": {},
   "outputs": [],
   "source": [
    "import numpy as np"
   ]
  },
  {
   "cell_type": "markdown",
   "metadata": {},
   "source": [
    "넘파이 패키지에 `random` 모듈이 포함되어 있으며\n",
    "파이썬의 기본 라이브러리인 `random` 보다 많은 기능을 갖춘 함수를 포함한다."
   ]
  },
  {
   "cell_type": "code",
   "execution_count": 6,
   "metadata": {},
   "outputs": [
    {
     "data": {
      "text/plain": [
       "0.8831259654220845"
      ]
     },
     "execution_count": 6,
     "metadata": {},
     "output_type": "execute_result"
    }
   ],
   "source": [
    "np.random.random()"
   ]
  },
  {
   "cell_type": "markdown",
   "metadata": {},
   "source": [
    "패키지나 모듈을 불러올 때 별칭을 지정하면 반드시 별칭으로 사용해야 한다.\n",
    "그렇지 않으면 오류가 발생한다."
   ]
  },
  {
   "cell_type": "markdown",
   "metadata": {},
   "source": [
    "```python\n",
    ">>> numpy.random.random()\n",
    "NameError                                 Traceback (most recent call last)\n",
    "/tmp/ipykernel_3215/3003934882.py in <module>\n",
    "----> 1 numpy.random.random()\n",
    "\n",
    "NameError: name 'numpy' is not defined\n",
    "```"
   ]
  },
  {
   "cell_type": "markdown",
   "metadata": {},
   "source": [
    "## 사용자 정의 모듈"
   ]
  },
  {
   "cell_type": "markdown",
   "metadata": {},
   "source": [
    "아래 코드를 담고 있는 `wc.py` 파일을 모듈로 불러와서 활용해보자. "
   ]
  },
  {
   "cell_type": "markdown",
   "metadata": {},
   "source": [
    "```python\n",
    "def linecount(file_name):\n",
    "    count = 0\n",
    "    with open(file_name) as f:\n",
    "        for line in f:\n",
    "            count += 1\n",
    "    return count\n",
    "```"
   ]
  },
  {
   "cell_type": "markdown",
   "metadata": {},
   "source": [
    "먼저 위 코드를 다운로드한다. "
   ]
  },
  {
   "cell_type": "code",
   "execution_count": 8,
   "metadata": {},
   "outputs": [],
   "source": [
    "def linecount(file_name):\n",
    "    count = 0\n",
    "    with open(file_name) as f:\n",
    "        for line in f:\n",
    "            count += 1\n",
    "    return count"
   ]
  },
  {
   "cell_type": "code",
   "execution_count": 9,
   "metadata": {},
   "outputs": [
    {
     "data": {
      "text/plain": [
       "11"
      ]
     },
     "execution_count": 9,
     "metadata": {},
     "output_type": "execute_result"
    }
   ],
   "source": [
    "linecount('./data/results5m.txt')"
   ]
  },
  {
   "cell_type": "markdown",
   "metadata": {},
   "source": [
    "<div align=\"center\"><img src=\"https://raw.githubusercontent.com/codingalzi/pybook/master/jupyter-book/images/wc1.png\" style=\"width:600px;\"></div>"
   ]
  },
  {
   "cell_type": "markdown",
   "metadata": {},
   "source": [
    "### `__init__.py` 파일 작성\n",
    "\n",
    "현재 작업 디렉토리가 아닌 다른 디렉토리에 포함된 모듈을 불러오려면 \n",
    "해당 디렉토리에 `__init__.py` 파일이 생성되어 있어야 한다.\n",
    "따라서 `codes` 라는 하위 디렉토리에 포함된 파일들의 리스를 확인하면 `wc.py` 와 `__init__.py` \n",
    "두 개의 파일이 포함되어 있어야 한다.\n",
    "\n",
    "**주의:** `__init__.py` 파일은 아무 내용이 없는 빈 파일이어도 된다. 다른 용도는 여기서 다루지 않는다."
   ]
  },
  {
   "cell_type": "markdown",
   "metadata": {},
   "source": [
    "#### 현재 작업 디렉토리 확인"
   ]
  },
  {
   "cell_type": "markdown",
   "metadata": {},
   "source": [
    "파이썬 명령어를 이용하여 현재 작업 디렉토리(current working directory, 줄임말: cwd)를\n",
    "확인하는 방법은 다음과 같다."
   ]
  },
  {
   "cell_type": "code",
   "execution_count": 11,
   "metadata": {},
   "outputs": [
    {
     "name": "stdout",
     "output_type": "stream",
     "text": [
      "/home/gslee/Documents/GitHub/pybook/jupyter-book\n"
     ]
    }
   ],
   "source": [
    "import os\n",
    "cwd = os.getcwd()\n",
    "print(cwd)"
   ]
  },
  {
   "cell_type": "markdown",
   "metadata": {},
   "source": [
    "현재 작업 디렉토리에 `codes`라는 디렉토리 포함여부 확인은 다음과 같다."
   ]
  },
  {
   "cell_type": "code",
   "execution_count": 12,
   "metadata": {},
   "outputs": [
    {
     "data": {
      "text/plain": [
       "False"
      ]
     },
     "execution_count": 12,
     "metadata": {},
     "output_type": "execute_result"
    }
   ],
   "source": [
    "'codes' in os.listdir(cwd)"
   ]
  },
  {
   "cell_type": "markdown",
   "metadata": {},
   "source": [
    "`codes` 디렉토리에 포함된 파일들의 리스트 확인하면 `wc.py`와 `__init__.py` 두 파일이\n",
    "포함되어 있음을 볼 수 있다."
   ]
  },
  {
   "cell_type": "code",
   "execution_count": 13,
   "metadata": {},
   "outputs": [],
   "source": [
    "# os.listdir(\"./codes\") # 해결 필요"
   ]
  },
  {
   "cell_type": "markdown",
   "metadata": {},
   "source": [
    "### 사용자 정의 모듈 불러오기"
   ]
  },
  {
   "cell_type": "markdown",
   "metadata": {},
   "source": [
    "`wc.py` 모듈에 포함되어 있는 `linecount` 함수를 활용하기 위해서\n",
    "먼저 `wc.py` 모듈을 불러와야 한다."
   ]
  },
  {
   "cell_type": "markdown",
   "metadata": {},
   "source": [
    "#### 현재 작업 디렉토리 모듈 불러오기"
   ]
  },
  {
   "cell_type": "markdown",
   "metadata": {},
   "source": [
    "만약 `wc.py` 모듈이 현재 디렉토리에 포함되어 있다면 아래와 같이 불러오면 된다.\n",
    "\n",
    "```\n",
    "import wc\n",
    "```\n",
    "\n",
    "또한 `wc.py`에 작성된 코드 마지막 줄을 아래와 같이 작성해야 오류가 발생하지 않는다.\n",
    "    \n",
    "```python\n",
    "print(linecount('wc.py'))\n",
    "```"
   ]
  },
  {
   "cell_type": "markdown",
   "metadata": {},
   "source": [
    "#### 경로 설정 문제"
   ]
  },
  {
   "cell_type": "markdown",
   "metadata": {},
   "source": [
    "그런데 `wc.py` 모듈이 현재 디렉토리의 하위 디렉토리인 `codes` 에 포함되어 있기 때문에 \n",
    "불러오기 과정이 좀 더 복잡하다. \n",
    "단순히 `import wc` 명령어를 사용하면 모듈을 찾을 수 없다는 오류(`ModuleNotFoundError`)가 발생한다."
   ]
  },
  {
   "cell_type": "markdown",
   "metadata": {},
   "source": [
    "```python\n",
    "import wc\n",
    "ModuleNotFoundError                       Traceback (most recent call last)\n",
    "/tmp/ipykernel_3243/816188502.py in <module>\n",
    "----> 1 import wc\n",
    "\n",
    "ModuleNotFoundError: No module named 'wc'\n",
    "```"
   ]
  },
  {
   "cell_type": "markdown",
   "metadata": {},
   "source": [
    "이와 같이 현재 작업디렉토리가 아닌 곳에 포함된 사용자 정의 모듈은 다른 방식으로 불러와야 한다.\n",
    "다양한 방식이 있지만 여기서는 __라이브러리 경로(library path)__에 특정 디렉토리를 추가하는 방식을 사용한다.\n",
    "\n",
    "**주의:** 여기서 라이브러리 경로에 특정 경로를 추가하는 방식은 임시적이다.\n",
    "라이브러리 경로를 영구적으로 변경하려면 다른 방식을 따라야 한다."
   ]
  },
  {
   "cell_type": "markdown",
   "metadata": {},
   "source": [
    "#### 파이썬 라이브러리 경로 확인하기"
   ]
  },
  {
   "cell_type": "markdown",
   "metadata": {},
   "source": [
    "먼저 파이썬이 기본적으로 사용하는 라이브러리들의 경로를 확인해보자.\n",
    "`sys.path` 변수에 파이썬이 기본적으로 지원하는 라이브러리들의 경로가 리스트로 저장되어 있다."
   ]
  },
  {
   "cell_type": "code",
   "execution_count": 14,
   "metadata": {},
   "outputs": [
    {
     "data": {
      "text/plain": [
       "['/home/gslee/Documents/GitHub/pybook/jupyter-book',\n",
       " '/home/gslee/anaconda3/lib/python39.zip',\n",
       " '/home/gslee/anaconda3/lib/python3.9',\n",
       " '/home/gslee/anaconda3/lib/python3.9/lib-dynload',\n",
       " '',\n",
       " '/home/gslee/anaconda3/lib/python3.9/site-packages',\n",
       " '/home/gslee/anaconda3/lib/python3.9/site-packages/locket-0.2.1-py3.9.egg',\n",
       " '/home/gslee/anaconda3/lib/python3.9/site-packages/IPython/extensions',\n",
       " '/home/gslee/.ipython']"
      ]
     },
     "execution_count": 14,
     "metadata": {},
     "output_type": "execute_result"
    }
   ],
   "source": [
    "import sys\n",
    "sys.path"
   ]
  },
  {
   "cell_type": "markdown",
   "metadata": {},
   "source": [
    "#### 파이썬 라이브러리 경로에 임시 경로 추가하기"
   ]
  },
  {
   "cell_type": "markdown",
   "metadata": {},
   "source": [
    "`sys.path` 에 저장된 라이브러리들의 경로들의 리스트에 원하는 경로를 추가한다.\n",
    "\n",
    "여기서는 현재 작업디렉토리의 하위 폴더인 `codes`를 경로에 추가하며, \n",
    "리스트에 항목을 추가하는 `append` 메소드를 활용한다."
   ]
  },
  {
   "cell_type": "code",
   "execution_count": 15,
   "metadata": {},
   "outputs": [],
   "source": [
    "sys.path.append(cwd + \"/codes\")"
   ]
  },
  {
   "cell_type": "markdown",
   "metadata": {},
   "source": [
    "이제 새로운 경로가 추가된 것을 확인할 수 있다."
   ]
  },
  {
   "cell_type": "code",
   "execution_count": 16,
   "metadata": {},
   "outputs": [
    {
     "data": {
      "text/plain": [
       "['/home/gslee/Documents/GitHub/pybook/jupyter-book',\n",
       " '/home/gslee/anaconda3/lib/python39.zip',\n",
       " '/home/gslee/anaconda3/lib/python3.9',\n",
       " '/home/gslee/anaconda3/lib/python3.9/lib-dynload',\n",
       " '',\n",
       " '/home/gslee/anaconda3/lib/python3.9/site-packages',\n",
       " '/home/gslee/anaconda3/lib/python3.9/site-packages/locket-0.2.1-py3.9.egg',\n",
       " '/home/gslee/anaconda3/lib/python3.9/site-packages/IPython/extensions',\n",
       " '/home/gslee/.ipython',\n",
       " '/home/gslee/Documents/GitHub/pybook/jupyter-book/codes']"
      ]
     },
     "execution_count": 16,
     "metadata": {},
     "output_type": "execute_result"
    }
   ],
   "source": [
    "sys.path"
   ]
  },
  {
   "cell_type": "markdown",
   "metadata": {},
   "source": [
    "#### 라이브러리 경로에 포함된 디렉토리의 모듈 불러오기"
   ]
  },
  {
   "cell_type": "markdown",
   "metadata": {},
   "source": [
    "라이브러리 경로에 포함된 디렉토리의 모듈은 현재 디렉토리에 포함된 모듈을 불러오는 것처럼 하면 된다."
   ]
  },
  {
   "cell_type": "code",
   "execution_count": 17,
   "metadata": {},
   "outputs": [
    {
     "ename": "ModuleNotFoundError",
     "evalue": "No module named 'wc'",
     "output_type": "error",
     "traceback": [
      "\u001b[0;31m---------------------------------------------------------------------------\u001b[0m",
      "\u001b[0;31mModuleNotFoundError\u001b[0m                       Traceback (most recent call last)",
      "\u001b[0;32m/tmp/ipykernel_3257/816188502.py\u001b[0m in \u001b[0;36m<module>\u001b[0;34m\u001b[0m\n\u001b[0;32m----> 1\u001b[0;31m \u001b[0;32mimport\u001b[0m \u001b[0mwc\u001b[0m\u001b[0;34m\u001b[0m\u001b[0;34m\u001b[0m\u001b[0m\n\u001b[0m",
      "\u001b[0;31mModuleNotFoundError\u001b[0m: No module named 'wc'"
     ]
    }
   ],
   "source": [
    "import wc"
   ]
  },
  {
   "cell_type": "markdown",
   "metadata": {},
   "source": [
    "이제 `wc`가 누군지를 물으면 아래와 같이 답한다."
   ]
  },
  {
   "cell_type": "code",
   "execution_count": null,
   "metadata": {},
   "outputs": [],
   "source": [
    "wc"
   ]
  },
  {
   "cell_type": "markdown",
   "metadata": {},
   "source": [
    "즉, `wc`는 모듈이라는 정보와 `wc.py` 파일이 저장된 위치 정보를 보여준다."
   ]
  },
  {
   "cell_type": "markdown",
   "metadata": {},
   "source": [
    "### `__name__` 속성과 `__main__` 함수"
   ]
  },
  {
   "cell_type": "markdown",
   "metadata": {},
   "source": [
    "#### `__name__` 속성"
   ]
  },
  {
   "cell_type": "markdown",
   "metadata": {},
   "source": [
    "파이썬에서 함수, 클래스, 모듈 등은 `__name__`이라는 특별한 속성을 가지며,\n",
    "항상 자기 자신을 가리킨다.\n",
    "\n",
    "예를 들어, 아래 함수를 살펴보자."
   ]
  },
  {
   "cell_type": "code",
   "execution_count": null,
   "metadata": {},
   "outputs": [],
   "source": [
    "def myName():\n",
    "    pass"
   ]
  },
  {
   "cell_type": "markdown",
   "metadata": {},
   "source": [
    "이제 `myName` 함수의 `__name__` 속성을 확인해보자.\n",
    "속성 확인은 자료형의 메서드를 호출하는 방식과 비슷하다.\n",
    "다만, 속성은 함수가 아니기에 괄호를 사용하지 않는다."
   ]
  },
  {
   "cell_type": "code",
   "execution_count": null,
   "metadata": {},
   "outputs": [],
   "source": [
    "myName.__name__"
   ]
  },
  {
   "cell_type": "markdown",
   "metadata": {},
   "source": [
    "모듈도 `__name__` 속성을 갖는다. `wc.py` 모듈의 `__name__` 속성을 확인해보자."
   ]
  },
  {
   "cell_type": "code",
   "execution_count": null,
   "metadata": {},
   "outputs": [],
   "source": [
    "wc.__name__"
   ]
  },
  {
   "cell_type": "markdown",
   "metadata": {},
   "source": [
    "앞으로 좀 더 구체적으로 배우게 될 클래스 역시 `__name__` 속성을 갖는다.\n",
    "사실 지금까지 살펴본 모든 자료형 역시 클래스이다. \n",
    "예를 들어, 사전 자료형의 `__name__` 속성은 아래와 같다."
   ]
  },
  {
   "cell_type": "code",
   "execution_count": null,
   "metadata": {},
   "outputs": [],
   "source": [
    "dict.__name__"
   ]
  },
  {
   "cell_type": "markdown",
   "metadata": {},
   "source": [
    "#### `__main__` 함수"
   ]
  },
  {
   "cell_type": "markdown",
   "metadata": {},
   "source": [
    "`wc.py` 모듈을 임포트할 때 앞서 `os`와 `sys` 모듈을 임포트할 때와는 달리 숫자 `7`을 출력한다.\n",
    "이유는 모듈을 임포트할 때 모듈 안에 포함된 코드가 실행되기 때문인데, \n",
    "`wc.py` 파일의 경우에는 마지막 줄에 있는 아래 명령어가 실행되기 때문이다.\n",
    "\n",
    "```python\n",
    "print(linecount('./codes/wc.py'))\n",
    "```\n",
    "\n",
    "`linecount` 함수는 인자로 지정된 파일에 포함된 내용의 줄 수(line number)를 계산해서 내준다.\n",
    "따라서 위 명령문은 `wc.py` 파일에 포함된 내용이 몇 줄인가를 확인해준다.\n",
    "\n",
    "그런데 사실 `print(linecount('./codes/wc.py'))` 명령문은 `linecount` 함수가 \n",
    "제대로 작동하는가를 확인하는 용도로 작성된 코드이며, \n",
    "모듈을 불러와서 활용하기 위해서는 굳이 실행할 필요가 없다.\n",
    "이런 경우에 모듈의 `__name__` 속성을 이용하여 아래와 같이 작성하면 모듈을 임포트할 때 굳이 실행할 필요가 \n",
    "없는 코드를 모듈에 포함시킬 수 있다.\n",
    "\n",
    "```python\n",
    "if __name__ == '__main__':\n",
    "    print(linecount('./codes/wc.py'))\n",
    "```\n",
    "\n",
    "위와 같이 작성하면 `import wc`를 실행해도 `if __name__ == '__main__':`에 포함된 코드는 실행되지 않는다."
   ]
  },
  {
   "cell_type": "markdown",
   "metadata": {},
   "source": [
    "<div align=\"center\"><img src=\"https://raw.githubusercontent.com/codingalzi/pybook/master/notebooks/images/wc5.png\" style=\"width:600px;\"></div>"
   ]
  },
  {
   "cell_type": "markdown",
   "metadata": {},
   "source": [
    "반면에 터미널을 이용해서 현재 작업 디렉토리에서  `python codes/wc.py` 형태로 `wc.py` 코드를 직접 실행하면 \n",
    "`if __name__ == '__main__'` 조건문의 본체가 실행된다."
   ]
  },
  {
   "cell_type": "markdown",
   "metadata": {},
   "source": [
    "<div align=\"center\"><img src=\"https://raw.githubusercontent.com/codingalzi/pybook/master/notebooks/images/wc4.png\" style=\"width:600px;\"></div>"
   ]
  },
  {
   "cell_type": "markdown",
   "metadata": {},
   "source": [
    "`__main__` 함수의 이런 기능은 C, Java 등에서 의무적으로 사용되는 `main` 함수와 유사한 기능을 수행한다. \n",
    "`Repl.it` 사이트에서 main 모듈이 기본적으로 실행되는 이유가 이런 전통에서 유래한다."
   ]
  },
  {
   "cell_type": "markdown",
   "metadata": {},
   "source": [
    "### 모듈 다시 불러오기"
   ]
  },
  {
   "cell_type": "markdown",
   "metadata": {},
   "source": [
    "한 번 불러온 모듈을 다시 불러오면 모듈 내용이 또 실행되지는 않는다."
   ]
  },
  {
   "cell_type": "code",
   "execution_count": null,
   "metadata": {},
   "outputs": [],
   "source": [
    "import wc"
   ]
  },
  {
   "cell_type": "markdown",
   "metadata": {},
   "source": [
    "### 불러온 모듈 활용하기"
   ]
  },
  {
   "cell_type": "markdown",
   "metadata": {},
   "source": [
    "어떤 종류의 모듈이든 한 번 불러온 모듈을 활용하는 방법은 동일하다.\n",
    "우리가 작성하고 불러온 `wc` 모듈에 포함된 `linecount` 함수를 활용하는 방법도 동일하다.\n",
    "예를 들어, `wc.py` 파일에 포함된 코드의 줄의 수를 알고자 하면 아래와 같이 실행한다."
   ]
  },
  {
   "cell_type": "code",
   "execution_count": null,
   "metadata": {},
   "outputs": [],
   "source": [
    "wc.linecount('./codes/wc.py')"
   ]
  },
  {
   "cell_type": "markdown",
   "metadata": {},
   "source": [
    "반면에 `codes` 디렉토리에 포함된 `__init__.py` 파일은 비어있음을 아래와 같이 확인할 수 있다."
   ]
  },
  {
   "cell_type": "code",
   "execution_count": null,
   "metadata": {},
   "outputs": [],
   "source": [
    "wc.linecount('./codes/__init__.py')"
   ]
  },
  {
   "cell_type": "markdown",
   "metadata": {},
   "source": [
    "### 별칭 사용"
   ]
  },
  {
   "cell_type": "markdown",
   "metadata": {},
   "source": [
    "패키지나 모듈 또한 종류에 상관없이 별칭을 사용할 수 있다.\n",
    "예를 들어, `wc` 모듈을 `wordCount` 라고 별칭을 지정하면서 불러올 수 있다."
   ]
  },
  {
   "cell_type": "code",
   "execution_count": null,
   "metadata": {},
   "outputs": [],
   "source": [
    "import wc as wordCount"
   ]
  },
  {
   "cell_type": "markdown",
   "metadata": {},
   "source": [
    "이제는 `wc` 대신에 `wordCount`를 사용할 수 있다."
   ]
  },
  {
   "cell_type": "code",
   "execution_count": null,
   "metadata": {},
   "outputs": [],
   "source": [
    "wordCount.linecount('./codes/wc.py')"
   ]
  },
  {
   "cell_type": "code",
   "execution_count": null,
   "metadata": {},
   "outputs": [],
   "source": [
    "wordCount.linecount('./codes/__init__.py')"
   ]
  },
  {
   "cell_type": "markdown",
   "metadata": {},
   "source": [
    "## 연습문제 "
   ]
  },
  {
   "cell_type": "markdown",
   "metadata": {},
   "source": [
    "1. ..."
   ]
  }
 ],
 "metadata": {
  "kernelspec": {
   "display_name": "Python 3 (ipykernel)",
   "language": "python",
   "name": "python3"
  },
  "language_info": {
   "codemirror_mode": {
    "name": "ipython",
    "version": 3
   },
   "file_extension": ".py",
   "mimetype": "text/x-python",
   "name": "python",
   "nbconvert_exporter": "python",
   "pygments_lexer": "ipython3",
   "version": "3.9.7"
  }
 },
 "nbformat": 4,
 "nbformat_minor": 1
}
