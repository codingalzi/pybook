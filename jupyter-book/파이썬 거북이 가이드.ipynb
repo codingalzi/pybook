{
 "cells": [
  {
   "cell_type": "markdown",
   "id": "3cda3e4c",
   "metadata": {},
   "source": [
    "# The Beginner's Guide to Python `turtle`"
   ]
  },
  {
   "cell_type": "markdown",
   "id": "a0424923",
   "metadata": {},
   "source": [
    "**참고:** https://realpython.com/beginners-guide-python-`turtle`/#changing-the-screen-title"
   ]
  },
  {
   "cell_type": "markdown",
   "id": "16a5a965",
   "metadata": {},
   "source": [
    "## Getting to Know the Python `turtle` module"
   ]
  },
  {
   "cell_type": "markdown",
   "id": "45389d74",
   "metadata": {},
   "source": [
    "`turtle` is a pre-installed Python module that enables users to create pictures and shapes by providing them with a virtual canvas. The onscreen pen that you use for drawing is called the `turtle` and this is what gives the module its name.\n",
    "\n",
    "With the Python `turtle` module, you can draw and create various types of shapes and images. Here's a sample of the kinds of drawings you can make with `turtle`:\n",
    "\n",
    "![Python turtle Initial Demo](https://files.realpython.com/media/Turtle_Initial_Demo_GIF.923f9cc7d490.gif)\n",
    "\n",
    "This is just one of many different drawings you can make using the Python `turtle` module. Most developers use `turtle` to draw shapes, create designs, and make images. Others use `turtle` to create mini-games and animations, just like the one you saw above."
   ]
  },
  {
   "cell_type": "markdown",
   "id": "8a1c8453",
   "metadata": {},
   "source": [
    "## Getting Started With `turtle`"
   ]
  },
  {
   "cell_type": "markdown",
   "id": "1d328cc5",
   "metadata": {},
   "source": [
    "The good thing about `turtle` is that it's a built-in module, so you don't need to install any new packages. All you need to do is import the module into your Python environment.\n",
    "\n",
    "A **module** is a set of important functions and methods that you can access to make your programming easier. The Python `turtle` module contains all the methods and functions that you'll need to create your images. To access a Python module, you need to `import` it into your Python environment, like this:\n",
    "\n",
    "```python\n",
    ">>> import turtle\n",
    "```\n",
    "\n",
    "Now that you have turtle in your Python environment, you can begin programming with it. `turtle` is a graphical module, which means you'll need to create a separate window (called the **screen**) to carry out each drawing command. You can create this screen by initializing a variable for it.\n",
    "\n",
    "```python\n",
    ">>> s = turtle.getscreen()\n",
    "```\n",
    "\n",
    "You should see a separate window open up:\n",
    "\n",
    "![Python turtle Initial Screen New](https://files.realpython.com/media/Screenshot_2019-12-10_at_7.40.34_AM.86e4071c3bb4.png)\n",
    "\n",
    "This window is called the screen. It's where you can view the output of your code. The little black triangular shape in the middle of the screen is called the **turtle**."
   ]
  },
  {
   "cell_type": "markdown",
   "id": "978e6905",
   "metadata": {},
   "source": [
    "Next, you initialize the variable t, which you'll then use throughout the program to refer to the turtle:\n",
    "\n",
    "```python\n",
    ">>> t = turtle.turtle()\n",
    "```\n",
    "\n",
    "You now have your screen and your turtle. The screen acts as a canvas, while the turtle acts like a pen. You can program the turtle to move around the screen. The turtle has certain changeable characteristics, like size, color, and speed. It always points in a specific direction, and will move in that direction unless you tell it otherwise:\n",
    "\n",
    "- When it's **up**, it means that no line will be drawn when it moves.\n",
    "- When it's **down**, it means that a line will be drawn when it moves.\n",
    "\n",
    "In the next section, you'll explore the different ways of programming with the Python `turtle` module."
   ]
  },
  {
   "cell_type": "markdown",
   "id": "4fb2b8f3",
   "metadata": {},
   "source": [
    "## Programming With `turtle`"
   ]
  },
  {
   "cell_type": "markdown",
   "id": "44cd5c69",
   "metadata": {},
   "source": [
    "The first thing you'll learn when it comes to programming with the Python `turtle` module is how to make the `turtle` move in the direction you want it to go. Next, you'll learn how to customize your `turtle` and its environment. Finally, you'll learn a couple of extra commands with which you can perform some special tasks."
   ]
  },
  {
   "cell_type": "markdown",
   "id": "8ba291f7",
   "metadata": {},
   "source": [
    "### Moving the `turtle`"
   ]
  },
  {
   "cell_type": "markdown",
   "id": "2ddf454f",
   "metadata": {},
   "source": [
    "There are four directions that a `turtle` can move in:\n",
    "\n",
    "- Forward\n",
    "- Backward\n",
    "- Left\n",
    "- Right\n",
    "\n",
    "The `turtle` moves `.forward()` or `.backward()` in the direction that it's facing. \n",
    "You can change this direction by turning it `.left()` or `.right()` by a certain degree. \n",
    "You can try each of these commands like so:\n",
    "\n",
    "```python\n",
    ">>> t.right(90)\n",
    ">>> t.forward(100)\n",
    ">>> t.left(90)\n",
    ">>> t.backward(100)\n",
    "```\n",
    "\n",
    "When you run these commands, the `turtle` will turn right by ninety degrees, go forward by a hundred units, turn left by ninety degrees, and move backward by a hundred units. You can see how this looks in the image below:\n",
    "\n",
    "![Python `turtle` Moving Updated](https://files.realpython.com/media/Update_-_Moving_Turtle_VIDEO_GIF.61623cf40fed.gif)\n",
    "\n",
    "You can use the shortened versions of these commands as well:\n",
    "\n",
    "- `t.rt()` instead of `t.right()`\n",
    "- `t.fd()` instead of `t.forward()`\n",
    "- `t.lt()` instead of `t.left()`\n",
    "- `t.bk()` instead of `t.backward()`"
   ]
  },
  {
   "cell_type": "markdown",
   "id": "5fa55def",
   "metadata": {},
   "source": [
    "You can also draw a line from your current position to any other arbitrary position on the screen. This is done with the help of coordinates:\n",
    "\n",
    "![Python turtle Coordinates New](https://files.realpython.com/media/Turtle_EDIT_Graph.790c213ce0ba.jpg)\n",
    "\n",
    "The screen is divided into four quadrants. The point where the `turtle` is initially positioned at the beginning of your program is (0,0). This is called **Home**. "
   ]
  },
  {
   "cell_type": "markdown",
   "id": "2c16a0bf",
   "metadata": {},
   "source": [
    "To move the `turtle` to any other area on the screen, you use .goto() and enter the coordinates like this:\n",
    "\n",
    "```python\n",
    ">>> t.goto(100,100)\n",
    "```\n",
    "\n",
    "Your output will look like this:\n",
    "\n",
    "![Python turtle GOTO NEWER](https://files.realpython.com/media/TURTLE_EDIT_GOTO_GIF.ac9b7de34b40.gif)\n",
    "\n",
    "You've drawn a line from your current position to the point (100,100) on the screen.\n",
    "\n",
    "To bring the `turtle` back to its home position, you type the following:\n",
    "\n",
    "```python\n",
    ">>> t.home()\n",
    "```\n",
    "\n",
    "This is like a shortcut command that sends the `turtle` back to the point (0,0). \n",
    "It's quicker than typing `t.goto(0,0)`."
   ]
  },
  {
   "cell_type": "markdown",
   "id": "01781cbf",
   "metadata": {},
   "source": [
    "### Drawing a Shape"
   ]
  },
  {
   "cell_type": "markdown",
   "id": "ef042218",
   "metadata": {},
   "source": [
    "Now that you know the movements of the `turtle`, you can move on to making actual shapes. You can start by drawing **polygons** since they all consist of straight lines connected at certain angles. Here's an example that you can try:\n",
    "\n",
    "```python\n",
    ">>> t.fd(100)\n",
    ">>> t.rt(90)\n",
    ">>> t.fd(100)\n",
    ">>> t.rt(90)\n",
    ">>> t.fd(100)\n",
    ">>> t.rt(90)\n",
    ">>> t.fd(100)\n",
    "```\n",
    "\n",
    "Your output will look like this:\n",
    "\n",
    "![Python `turtle` Square Edit Newer](https://files.realpython.com/media/TURTLE_SQUARE_EDIT.626bc3fccd67.gif)\n",
    "\n",
    "Well done! You've just drawn a square. In this way, the `turtle` can be programmed to create different shapes and images.\n",
    "\n",
    "Now, try drawing a rectangle, using this code as a template. Remember, in a rectangle, all four sides are not equal. You'll need to change the code accordingly. Once you do that, you can even try creating other polygons by increasing the number of sides and changing the angles."
   ]
  },
  {
   "cell_type": "markdown",
   "id": "dcdc7e49",
   "metadata": {},
   "source": [
    "### Drawing Preset Figures"
   ]
  },
  {
   "cell_type": "markdown",
   "id": "1f076262",
   "metadata": {},
   "source": [
    "Suppose you want to draw a circle. If you attempt to draw it in the same way as you drew the square, then it would be extremely tedious, and you'd have to spend a lot of time just for that one shape. Thankfully, the Python `turtle` module provides a solution for this. You can use a single command to draw a circle:\n",
    "\n",
    "```python\n",
    ">>> t.circle(60)\n",
    "```\n",
    "\n",
    "You'll get an output like this:\n",
    "\n",
    "![Python `turtle` Circle Updated](https://files.realpython.com/media/Update_-_Turtle_Circle_GIF.14906fdf5060.gif)\n",
    "\n",
    "The number within the parentheses is the radius of the circle. You can increase or decrease the size of the circle by changing the value of its radius."
   ]
  },
  {
   "cell_type": "markdown",
   "id": "9cf9f6ff",
   "metadata": {},
   "source": [
    "In the same way, you can also draw a dot, which is nothing but a filled-in circle. Type in this command:\n",
    "\n",
    "```python\n",
    ">>> t.dot(20)\n",
    "```\n",
    "\n",
    "You'll get a filled-in circle like this:\n",
    "\n",
    "![Python `turtle` Dot Update](https://files.realpython.com/media/Turtle_Dot_Pic.8f171e2c7d98.png)\n",
    "\n",
    "The number within the brackets is the diameter of the dot. Just like with the circle, you can increase or decrease the size of the dot by changing the value of its diameter.\n",
    "\n",
    "Great job so far! You've learned how to move the `turtle` around and create different shapes with it. In the next few sections, you'll see how you can customize your `turtle` and its environment, based on your requirements."
   ]
  },
  {
   "cell_type": "markdown",
   "id": "d35db81a",
   "metadata": {},
   "source": [
    "### Changing the Screen Color"
   ]
  },
  {
   "cell_type": "markdown",
   "id": "96660f5f",
   "metadata": {},
   "source": [
    "By default, `turtle` always opens up a screen with a white background. However, you can change the color of the screen at any time using the following command:\n",
    "\n",
    "```python\n",
    ">>> turtle.bgcolor(\"blue\")\n",
    "```\n",
    "\n",
    "You can replace `\"blue\"` with any other color. Try `\"green\"` or `\"red\"`. You'll get a result like this:\n",
    "\n",
    "![Python turtle Background Color](https://files.realpython.com/media/1-BG_COLOR-GIF.8619d9e1783f.gif)\n",
    "\n",
    "You can use a variety of colors for your screen just by typing in their hex code number. To learn more about using different colors, check out the Python `turtle` module documentation."
   ]
  },
  {
   "cell_type": "markdown",
   "id": "bb920b0c",
   "metadata": {},
   "source": [
    "### Changing the Screen Title"
   ]
  },
  {
   "cell_type": "markdown",
   "id": "6748dfbe",
   "metadata": {},
   "source": [
    "Sometimes, you may want to change the title of your screen. You can make it more personal, like \"My `turtle` Program\", or more suitable to what you're working on, like \"Drawing Shapes With `turtle`\". You can change the title of your screen with the help of this command:\n",
    "\n",
    "```python\n",
    ">>> `turtle`.title(\"My `turtle` Program\")\n",
    "```\n",
    "\n",
    "Your title bar will now display this:\n",
    "\n",
    "![Python `turtle` Screen Title Updated](https://files.realpython.com/media/Change_in_Screen_Title_UPDATE.bf645f90e3d0.jpg)\n",
    "\n",
    "In this way, you can change the heading of your screen according to your preference."
   ]
  },
  {
   "cell_type": "markdown",
   "id": "0ca3413f",
   "metadata": {},
   "source": [
    "### Changing the `turtle` Size"
   ]
  },
  {
   "cell_type": "markdown",
   "id": "801db89b",
   "metadata": {},
   "source": [
    "You can increase or decrease the size of the onscreen `turtle` to make it bigger or smaller. This changes only the size of the shape without affecting the output of the pen as it draws on the screen. Try typing in the following commands:\n",
    "\n",
    "```python\n",
    ">>> t.shapesize(1,5,10)\n",
    ">>> t.shapesize(10,5,1)\n",
    ">>> t.shapesize(1,10,5)\n",
    ">>> t.shapesize(10,1,5)\n",
    "```\n",
    "Your outputs will look like this:\n",
    "\n",
    "![Python `turtle` Shape Size Updated](https://files.realpython.com/media/Turtle_Shape_Size_Updated_GIF.3f31c5f85340.gif)\n",
    "\n",
    "The numbers given are the parameters for the size of the `turtle`:\n",
    "\n",
    "- Stretch length\n",
    "- Stretch width\n",
    "- Outline width\n",
    "\n",
    "You can change these according to your preference. In the example given above, you can see a visible difference in the appearance of the `turtle`. For more information on how you can change the size of the `turtle`, check out the Python `turtle` module documentation."
   ]
  },
  {
   "cell_type": "markdown",
   "id": "45e2fcf8",
   "metadata": {},
   "source": [
    "### Changing the Pen Size"
   ]
  },
  {
   "cell_type": "markdown",
   "id": "e39257b3",
   "metadata": {},
   "source": [
    "The previous command changed the size of the `turtle`'s shape only. However, sometimes, you may need to increase or decrease the thickness of your pen. You can do this using the following command:\n",
    "\n",
    "```python\n",
    ">>> t.pensize(5)\n",
    ">>> t.forward(100)\n",
    "```\n",
    "\n",
    "This results in an outcome like this:\n",
    "\n",
    "![Python `turtle` Pen Size More NEW](https://files.realpython.com/media/Pen_Size_GIF.4d1fb1beefd6.gif)\n",
    "\n",
    "As you can see, the size of your pen is now five times the original size (which was one). Try drawing some more lines of various sizes, and compare the difference in thickness between them."
   ]
  },
  {
   "cell_type": "markdown",
   "id": "fee61231",
   "metadata": {},
   "source": [
    "### Changing the turtle and Pen Color"
   ]
  },
  {
   "cell_type": "markdown",
   "id": "92d0153a",
   "metadata": {},
   "source": [
    "When you first open a new screen, the turtle starts out as a black figure and draws with black ink. Based on your requirements, you can do two things:\n",
    "\n",
    "- Change the color of the turtle: This changes the fill color.\n",
    "- Change the color of the pen: This changes the outline or the ink color.\n",
    "\n",
    "You can even choose both of these if you wish. Before you change the colors, increase the size of your turtle to help you see the color difference more clearly. Type in this code:\n",
    "\n",
    "```python\n",
    ">>> t.shapesize(3,3,3)\n",
    "```\n",
    "\n",
    "Now, to change the color of the turtle (or the fill), you type the following:\n",
    "\n",
    "```python\n",
    ">>> t.fillcolor(\"red\")\n",
    "```\n",
    "\n",
    "Your turtle will look like this:\n",
    "\n",
    "![Python turtle Fill Color Red](https://files.realpython.com/media/Turtle_Fill_Color_Red_Update.216d34fcf201.png)"
   ]
  },
  {
   "cell_type": "markdown",
   "id": "e5337583",
   "metadata": {},
   "source": [
    "To change the color of the pen (or the outline), you type the following:\n",
    "\n",
    "```python\n",
    ">>> t.pencolor(\"green\")\n",
    "```\n",
    "\n",
    "Your turtle will look like this:\n",
    "\n",
    "![Python turtle Pen Color Updated Green](https://files.realpython.com/media/Turtle_Pen_Color_Updated.362202ac18cb.png)"
   ]
  },
  {
   "cell_type": "markdown",
   "id": "c23e05bf",
   "metadata": {},
   "source": [
    "To change the color of both, you type the following:\n",
    "\n",
    "```python\n",
    ">>> t.color(\"green\", \"red\")\n",
    "```\n",
    "\n",
    "Your turtle will look like this:\n",
    "\n",
    "![Python turtle Color Single Line Updated](https://files.realpython.com/media/Turtle_Color_One_Line_Green_and_Red_Updated.060568e73634.png)\n",
    "\n",
    "Here, the first color is for the pen, and the second is for the fill. Note that changing the color of the pen and the fill also changes the color of the onscreen turtle accordingly."
   ]
  },
  {
   "cell_type": "markdown",
   "id": "44fd8272",
   "metadata": {},
   "source": [
    "### Filling in an Image"
   ]
  },
  {
   "cell_type": "markdown",
   "id": "6a69dc54",
   "metadata": {},
   "source": [
    "Coloring in an image usually makes it look better, doesn't it? The Python `turtle` module gives you the option to add color to your drawings. Try typing in the following code and see what happens:\n",
    "\n",
    "```python\n",
    ">>> t.begin_fill()\n",
    ">>> t.fd(100)\n",
    ">>> t.lt(120)\n",
    ">>> t.fd(100)\n",
    ">>> t.lt(120)\n",
    ">>> t.fd(100)\n",
    ">>> t.end_fill()\n",
    "```\n",
    "\n",
    "When you execute this code, you'll get a triangle that's filled in with a solid color, like this:\n",
    "\n",
    "![Python turtle Begin Fill End Fill New](https://files.realpython.com/media/Turtle_Begin_End_Fill_GIF.849f73374a22.gif)\n",
    "\n",
    "When you use .begin_fill(), you're telling your program that you're going to be drawing a closed shape which will need to be filled in. Then, you use .end_fill() to indicate that you're done creating your shape and it can now be filled in."
   ]
  },
  {
   "cell_type": "markdown",
   "id": "d7b46f28",
   "metadata": {},
   "source": [
    "### Changing the `turtle` Shape"
   ]
  },
  {
   "cell_type": "markdown",
   "id": "7c3ec820",
   "metadata": {},
   "source": [
    "The initial shape of the turtle isn't really a turtle, but a triangular figure. However, you can change the way the turtle looks, and you do have a couple of options when it comes to doing so. You can have a look at some of them by typing in the following commands:\n",
    "\n",
    "```python\n",
    ">>> t.shape(\"turtle\")\n",
    ">>> t.shape(\"arrow\")\n",
    ">>> t.shape(\"circle\")\n",
    "```\n",
    "\n",
    "The shape of the turtle will change accordingly, like this:\n",
    "\n",
    "![Python turtle Shapes](https://files.realpython.com/media/4-Turtle_Shape-Gif.daf6a648bd8c.gif)\n",
    "\n",
    "You have a couple of other options that you can try as well:\n",
    "\n",
    "- Square\n",
    "- Arrow\n",
    "- Circle\n",
    "- turtle\n",
    "- Triangle\n",
    "- Classic\n",
    "\n",
    "The classic shape is the original shape. \n",
    "Check out the Python `turtle` module [documentation](https://docs.python.org/3/library/turtle.html#turtle.shape)\n",
    "to learn more about the types of shapes that you can use."
   ]
  },
  {
   "cell_type": "markdown",
   "id": "c3c95e14",
   "metadata": {},
   "source": [
    "### Changing the Pen Speed"
   ]
  },
  {
   "cell_type": "markdown",
   "id": "add6b39d",
   "metadata": {},
   "source": [
    "The turtle generally moves at a moderate pace. If you want to decrease or increase the speed to make your turtle move slower or faster, then you can do so by typing the following:\n",
    "\n",
    "```python\n",
    ">>> t.speed(1)\n",
    ">>> t.forward(100)\n",
    ">>> t.speed(10)\n",
    ">>> t.forward(100)\n",
    "```\n",
    "\n",
    "This code will first decrease the speed and move the turtle forward, then increase the speed and move the turtle forward again, like this:\n",
    "\n",
    "![Python turtle Speed Updated](https://files.realpython.com/media/Update_-_Turtle_Speed_1_and_10.a35c56e8f016.gif)\n",
    "\n",
    "The speed can be any number ranging from 0 (the slowest speed) to 10 (the highest speed). You can play around with your code to see how fast or slow the turtle will go."
   ]
  },
  {
   "cell_type": "markdown",
   "id": "c07b33ed",
   "metadata": {},
   "source": [
    "### Customizing in One Line"
   ]
  },
  {
   "cell_type": "markdown",
   "id": "c3b74888",
   "metadata": {},
   "source": [
    "Suppose you want to set your turtle's characteristics to the following:\n",
    "\n",
    "- Pen color: purple\n",
    "- Fill color: orange\n",
    "- Pen size: 10\n",
    "- Pen speed: 9\n",
    "\n",
    "From what you've just learned, the code should look something like this:\n",
    "\n",
    "```python\n",
    ">>> t.pencolor(\"purple\")\n",
    ">>> t.fillcolor(\"orange\")\n",
    ">>> t.pensize(10)\n",
    ">>> t.speed(9)\n",
    ">>> t.begin_fill()\n",
    ">>> t.circle(90)\n",
    ">>> t.end_fill()\n",
    "```\n",
    "\n",
    "Or you can reduce your workload by altering the parameters in just a single line of code, like this:\n",
    "\n",
    "```python\n",
    ">>> t.pen(pencolor=\"purple\", fillcolor=\"orange\", pensize=10, speed=9)\n",
    ">>> t.begin_fill()\n",
    ">>> t.circle(90)\n",
    ">>> t.end_fill()\n",
    "```\n",
    "\n",
    "This will give you a result like this:\n",
    "\n",
    "![Python turtle Single Line Pen Newer](https://files.realpython.com/media/TURTLE_EDIT_SINGLE_LINE_CUSTOMISATION_GIF.c30c0839af72.gif)\n",
    "\n",
    "This single line of code changed the entire pen, without you having to change each characteristic individually. To learn more about this command, check out the Python `turtle` module documentation.\n",
    "\n",
    "Great job! Now that you've learned to customize your turtle and the screen, take a look at some other important commands that are required while drawing with the Python `turtle` module."
   ]
  },
  {
   "cell_type": "markdown",
   "id": "59aaae6a",
   "metadata": {},
   "source": [
    "### Picking the Pen Up and Down"
   ]
  },
  {
   "cell_type": "markdown",
   "id": "8e19dfb8",
   "metadata": {},
   "source": [
    "Sometimes, you may want to move your turtle to another point on the screen without drawing anything on the screen itself. To do this, you use .penup(). Then, when you want to start drawing again, you use .pendown(). Give it a shot using the code that you used previously to draw a square. Try typing the following code:\n",
    "\n",
    "```python\n",
    ">>> t.fd(100)\n",
    ">>> t.rt(90)\n",
    ">>> t.penup()\n",
    ">>> t.fd(100)\n",
    ">>> t.rt(90)\n",
    ">>> t.pendown()\n",
    ">>> t.fd(100)\n",
    ">>> t.rt(90)\n",
    ">>> t.penup()\n",
    ">>> t.fd(100)\n",
    ">>> t.pendown()\n",
    "```\n",
    "\n",
    "When you run this code, your output will look like this:\n",
    "\n",
    "![Python turtle Pen Up Pen Down Edit](https://files.realpython.com/media/Screenshot_2019-10-01_at_9.22.37_PM.20eeea07c674.png)\n",
    "\n",
    "Here, you've obtained two parallel lines instead of a square by adding some extra commands in between the original program."
   ]
  },
  {
   "cell_type": "markdown",
   "id": "b48a52c1",
   "metadata": {},
   "source": [
    "### Leaving a Stamp"
   ]
  },
  {
   "cell_type": "markdown",
   "id": "dcb9ad0c",
   "metadata": {},
   "source": [
    "You have the option of leaving a stamp of your turtle on the screen, which is nothing but an imprint of the turtle. Try typing in this code to see how it works:\n",
    "\n",
    "```python\n",
    ">>> t.stamp()\n",
    "8\n",
    ">>> t.fd(100)\n",
    ">>> t.stamp()\n",
    "9\n",
    ">>> t.fd(100)\n",
    "```\n",
    "\n",
    "Your output will look like this:\n",
    "\n",
    "![Python turtle Stamps Edit](https://files.realpython.com/media/RP_STAMPS_GIF.05609e29d05f.gif)\n",
    "\n",
    "The numbers that appear are the turtle's location or **stamp ID**. Now, if you want to remove a particular stamp, then just use the following:\n",
    "\n",
    "```python\n",
    ">>> t.clearstamp(8)\n",
    "```\n",
    "\n",
    "This will clear the one with the stamp ID of 8."
   ]
  },
  {
   "cell_type": "markdown",
   "id": "430c094e",
   "metadata": {},
   "source": [
    "### Cloning Your turtle"
   ]
  },
  {
   "cell_type": "markdown",
   "id": "baf2669f",
   "metadata": {},
   "source": [
    "Sometimes, you may need to have more than one turtle on your screen. You'll see an example of this later on in the final project. For now, you can get another turtle by cloning your current turtle into your environment. Try running this code to create a clone turtle, c, and then move both the turtles on the screen:\n",
    "\n",
    "```python\n",
    ">>> c = t.clone()\n",
    ">>> t.color(\"magenta\")\n",
    ">>> c.color(\"red\")\n",
    ">>> t.circle(100)\n",
    ">>> c.circle(60)\n",
    "```\n",
    "\n",
    "The output will look like this:\n",
    "\n",
    "![Python turtle Clone NEWER](https://files.realpython.com/media/TURTLE_EDIT_CLONE_GIF.1736204d0292.gif)\n",
    "\n",
    "Now that you have an idea of some important commands from the Python `turtle` module, you're ready to move on to a few more concepts that you'll need to understand. These concepts are very much needed when it comes to programming in any language."
   ]
  },
  {
   "cell_type": "markdown",
   "id": "b9958930",
   "metadata": {},
   "source": [
    "## Using Loops and Conditional Statements"
   ]
  },
  {
   "cell_type": "markdown",
   "id": "2cbca4fb",
   "metadata": {},
   "source": [
    "When you get into higher-level programming, you'll find yourself using **loops and conditional statements** very often. That's why, in this section, you'll be going through a couple of turtle programs that make use of these types of commands. This will give you a practical approach when it comes to understanding these concepts. Before you begin, however, here are three definitions for you to keep in mind:\n",
    "\n",
    "1. **Loops** are a set of instructions that are continuously repeated until a particular condition is satisfied.\n",
    "2. **Conditional statements** carry out a certain task based on a condition that's satisfied.\n",
    "3. **Indentations** are used to define blocks of code, especially when using loops and conditional statements. In general, you create an indentation by tapping the <kbd>Tab</kbd> key on the keyboard.\n",
    "\n",
    "Now, let's go ahead and explore these commands!"
   ]
  },
  {
   "cell_type": "markdown",
   "id": "c336c56c",
   "metadata": {},
   "source": [
    "### `for` Loops"
   ]
  },
  {
   "cell_type": "markdown",
   "id": "c0d1b507",
   "metadata": {},
   "source": [
    "Do you remember the program that you used to create a square? You had to repeat the same line of code four times, like this:\n",
    "\n",
    "```python\n",
    ">>> t.fd(100)\n",
    ">>> t.rt(90)\n",
    ">>> t.fd(100)\n",
    ">>> t.rt(90)\n",
    ">>> t.fd(100)\n",
    ">>> t.rt(90)\n",
    ">>> t.fd(100)\n",
    ">>> t.rt(90)\n",
    "```\n",
    "\n",
    "A much shorter way to do this is with the help of a for loop. Try running this code:\n",
    "\n",
    "```python\n",
    ">>> for i in range(4):\n",
    "...     t.fd(100)\n",
    "...     t.rt(90)\n",
    "```\n",
    "\n",
    "Here, the i is like a counter that starts from zero and keeps increasing by 1. When you say in range(4), you're telling the program that the value of this i should be less than 4. It will terminate the program before i reaches 4.\n",
    "\n",
    "Here's a breakdown of how the program works:\n",
    "\n",
    "1. At `i = 0`, the turtle moves forward by 100 units and then turns 90 degrees to the right.\n",
    "2. At `i = 0 + 1 = 1`, the turtle moves forward by 100 units and then turns 90 degrees to the right.\n",
    "3. At `i = 1 + 1 = 2`, the turtle moves forward by 100 units and then turns 90 degrees to the right.\n",
    "4. At `i = 2 + 1 = 3`, the turtle moves forward by 100 units and then turns 90 degrees to the right.\n",
    "\n",
    "The turtle will then exit the loop. To check the value of i, type i and then press the <kbd>Enter</kbd> key. \n",
    "You'll get the value of i equal to 3:\n",
    "\n",
    "```python\n",
    ">>> i\n",
    "3\n",
    "```\n",
    "\n",
    "Note that the whitespace that comes before line 2 and line 3 in the program is the indentation. This indicates that all 3 lines form a single block of code."
   ]
  },
  {
   "cell_type": "markdown",
   "id": "ebe05826",
   "metadata": {},
   "source": [
    "### `while` Loops"
   ]
  },
  {
   "cell_type": "markdown",
   "id": "535fc81b",
   "metadata": {},
   "source": [
    "The while loop is used to perform a certain task while a condition is still satisfied. If the condition is no longer satisfied, then your code will terminate the process. You can use a while loop to create a series of circles by typing in this code:\n",
    "\n",
    "```python\n",
    ">>> n=10\n",
    ">>> while n <= 40:\n",
    "...     t.circle(n)\n",
    "...     n = n+10\n",
    "```\n",
    "\n",
    "When you run this code, you'll see the circles appearing one after the other, and each new circle will be larger than the previous one:\n",
    "\n",
    "![Python turtle While Loop Edited Newer](https://files.realpython.com/media/TURTLE_EDIT_WHILE_LOOP_GIF.c0b9eae029cc.gif)\n",
    "\n",
    "Here, n is used as a counter. You'll need to specify by how much you want the value of n to increase in each loop. Take a look at this mini walk-through to see how the program works:\n",
    "\n",
    "1. At `n = 10`, the turtle draws a circle with a radius of 10 units. After that, the value of n is increased by 10.\n",
    "2. At `n = 20`, the turtle draws a circle with a radius of 20 units. Once again, the value of n is increased by 10.\n",
    "3. At `n = 30`, the turtle draws a circle with a radius of 30 units. For the third time, the value of n is increased by 10.\n",
    "4. At `n = 40`, the turtle draws a circle with a radius of 40 units. For the last time, the value of n is increased by 10.\n",
    "5. At `n = 50`, n is no longer less than or equal to 40. The loop is terminated."
   ]
  },
  {
   "cell_type": "markdown",
   "id": "bebe816d",
   "metadata": {},
   "source": [
    "### Conditional Statements"
   ]
  },
  {
   "cell_type": "markdown",
   "id": "c634f8f9",
   "metadata": {},
   "source": [
    "You use conditional statements to check if a given condition is true. If it is, then the corresponding command is executed. Try typing in this program:\n",
    "\n",
    "```python\n",
    ">>> u = input(\"Would you like me to draw a shape? Type yes or no: \")\n",
    ">>> if u == \"yes\":\n",
    "...     t.circle(50)\n",
    "```\n",
    "\n",
    "`input()` is used to obtain input from the user. Here, it will store the user's response under the variable u. Next, it will compare the value of u with the condition provided and check whether the value of u is \"yes\". If it's \"yes\", then your program draws a circle. If the user types in anything else, then the program won't do anything.\n",
    "\n",
    "When you add an `else` clause to an if statement, you can specify two results based on whether the condition is true or false. Let's see this in a program:\n",
    "\n",
    "```python\n",
    ">>> u = input(\"Would you like me to draw a shape? Type yes or no: \")\n",
    ">>> if u == \"yes\":\n",
    "...     t.circle(50)\n",
    ">>> else:\n",
    "...     print(\"Okay\")\n",
    "```\n",
    "\n",
    "Here, you tell the program to display a particular output even when the user does not say \"yes\". You use `print()` to display some pre-defined characters on the screen.\n",
    "\n",
    "Note that the user doesn't need to type \"no\". They can type anything else, in which case, the result will always be \"Okay\", because you're not explicitly telling the program that the user needs to type \"no\". Not to worry, however, as that can be fixed. You can add an elif clause to provide the program with several conditions and their respective outputs, as you can observe here:\n",
    "\n",
    "```python\n",
    ">>> u = input(\"Would you like me to draw a shape? Type yes or no: \")\n",
    ">>> if u == \"yes\":\n",
    "...     t.circle(50)\n",
    ">>> elif u == \"no\":\n",
    "...     print(\"Okay\")\n",
    ">>> else:\n",
    "...     print(\"Invalid Reply\")\n",
    "```\n",
    "\n",
    "As you can see, this program now has more than one outcome, depending on the input it receives. Here's how this code works:\n",
    "\n",
    "- If you type in \"yes\", then the code processes the input and draws a circle, as per your instructions.\n",
    "- If you type in \"no\", then the code prints out \"Okay\" and your program is terminated.\n",
    "- If you type in anything else, like \"Hello\" or \"Sandwich\", then the code prints \"Invalid Reply\" and your program is terminated.\n",
    "\n",
    "Note that this program is case-sensitive, so when you're trying it out, be sure to put the strings in upper-case or lower-case accordingly."
   ]
  },
  {
   "cell_type": "markdown",
   "id": "e4248f9a",
   "metadata": {},
   "source": [
    "## Final Project: The Python turtle Race"
   ]
  },
  {
   "cell_type": "markdown",
   "id": "5bfbdd62",
   "metadata": {},
   "source": [
    "So far, you've learned how to customize your turtle environment, program your turtle to move around the screen, and use loops and conditional statements to improve your code. Now it's time for the most important part of your programming journey. In this section, you'll be implementing all that you've learned into a single program by creating a fun game that you can play with your friends.\n",
    "\n",
    "Before you begin, here's what you need to know about the game:\n",
    "\n",
    "1. **The Objective:** The player whose turtle reaches its home first wins the game.\n",
    "\n",
    "2. **How to Play:**\n",
    "\n",
    "    - Each player rolls a dice to get a number.\n",
    "    - The player then moves their turtle by that many steps.\n",
    "    - The players alternate turns until one of them wins.\n",
    "\n",
    "3. **The Structure:**\n",
    "\n",
    "    - Each player had a turtle indicated by a different color. You can have more than two players, but for the sake of this tutorial, you'll be creating a two-player game.\n",
    "    - Each turtle has a home position that it must reach.\n",
    "    - Each player uses a die to choose a value at random for their turn. In your program, the die is represented by a list of numbers from 1 to 6.\n",
    "\n",
    "Now that you've understood the logic of the game, you can go ahead and begin creating it! First, you'll need to set up the environment."
   ]
  },
  {
   "cell_type": "markdown",
   "id": "51da87f3",
   "metadata": {},
   "source": [
    "### Setting Up the Game Environment"
   ]
  },
  {
   "cell_type": "markdown",
   "id": "952668f0",
   "metadata": {},
   "source": [
    "Start by importing the Python `turtle` module. After this, import the built-in random module, which you'll use randomly select an item from a list:\n",
    "\n",
    "```python\n",
    ">>> import turtle\n",
    ">>> import random\n",
    "```\n",
    "\n",
    "Once these libraries are successfully called into your environment, you can proceed with the rest of your program."
   ]
  },
  {
   "cell_type": "markdown",
   "id": "210dcadf",
   "metadata": {},
   "source": [
    "### Setting Up the turtles and Homes"
   ]
  },
  {
   "cell_type": "markdown",
   "id": "35fa41e4",
   "metadata": {},
   "source": [
    "You now have to create the two turtles that will represent the players. Each turtle will be a different color, corresponding to the different players. Here, player one is green and player two is blue:\n",
    "\n",
    "```python\n",
    ">>> player_one = turtle.turtle()\n",
    ">>> player_one.color(\"green\")\n",
    ">>> player_one.shape(\"turtle\")\n",
    ">>> player_one.penup()\n",
    ">>> player_one.goto(-200,100)\n",
    ">>> player_two = player_one.clone()\n",
    ">>> player_two.color(\"blue\")\n",
    ">>> player_two.penup()\n",
    ">>> player_two.goto(-200,-100)\n",
    "```\n",
    "\n",
    "Onece you've created the turtles, you place them at their starting positions and make sure that these positions are aligned. Note that you created player two's turtle by cloning player one's turtle, changing its color, and placing it at a different starting point.\n",
    "\n",
    "You now need to set up homes for the turtles. These homes will act as the finishing points for each turtle. Each of the turtles' homes will be represented by a circle. Here, you need to make sure that both homes are equidistant from the starting point:\n",
    "\n",
    "```python\n",
    ">>> player_one.goto(300,60)\n",
    ">>> player_one.pendown()\n",
    ">>> player_one.circle(40)\n",
    ">>> player_one.penup()\n",
    ">>> player_one.goto(-200,100)\n",
    ">>> player_two.goto(300,-140)\n",
    ">>> player_two.pendown()\n",
    ">>> player_two.circle(40)\n",
    ">>> player_two.penup()\n",
    ">>> player_two.goto(-200,-100)\n",
    "```\n",
    "\n",
    "After drawing the respective homes, you send the turtles back to their starting positions:\n",
    "\n",
    "![Python turtle Race Setup Updated](https://files.realpython.com/media/UPDATE_Turtle_Race_Setup_Blue_and_Green.16e6da3cc20d.png)\n",
    "\n",
    "Awesome! The visual aspects of your game are complete. You can now create the die that you'll be using to play the game."
   ]
  },
  {
   "cell_type": "markdown",
   "id": "87d2db5e",
   "metadata": {},
   "source": [
    "### Creating the Die"
   ]
  },
  {
   "cell_type": "markdown",
   "id": "2fed147a",
   "metadata": {},
   "source": [
    "You can create a virtual die for your game with a list, which is an ordered sequence of items. In real life, you might prepare grocery lists and to-do lists to help you stay organized. In Python, lists work in a similar way.\n",
    "\n",
    "In this case, you'll be using a list to create your die. First, you define your list of numbers in ascending order from 1 to 6. You can define a list by giving it a name and then enclosing its items within square brackets, like this:\n",
    "\n",
    "```python\n",
    ">>> die = [1,2,3,4,5,6]\n",
    "```\n",
    "\n",
    "This list has now become your die. To roll the dice, all you have to do is program your system to randomly select a number from it. The number that is selected will be considered as the output of the die."
   ]
  },
  {
   "cell_type": "markdown",
   "id": "4b0aa473",
   "metadata": {},
   "source": [
    "### Developing the Game"
   ]
  },
  {
   "cell_type": "markdown",
   "id": "ce99b237",
   "metadata": {},
   "source": [
    "It's time to develop the code for the rest of the game. You'll be using loops and conditional statements here, so you need to be careful with the indentations and spaces. To start, take a look at the steps your program will need to take to run the game:\n",
    "\n",
    "1. Step 1: You'll start by telling your program to check if either turtle has reached its home.\n",
    "2. Step 2: If they haven't, then you'll tell your program to allow the players to continue trying.\n",
    "3. Step 3: In each loop, you tell your program to roll the die by randomly picking a number from the list.\n",
    "4. Step 4: You then tell it to move the respective turtle accordingly, with the number of steps based on the outcome of this random selection.\n",
    "\n",
    "The program keeps repeating this process, and stops once one of the turtles reaches the goal. Here's how the code looks:"
   ]
  },
  {
   "cell_type": "markdown",
   "id": "bf8a30a5",
   "metadata": {},
   "source": [
    "```python\n",
    ">>> for i in range(20):\n",
    "...     if player_one.pos() >= (300,100):\n",
    "...             print(\"Player One Wins!\")\n",
    "...             break\n",
    "...     elif player_two.pos() >= (300,-100):\n",
    "...             print(\"Player Two Wins!\")\n",
    "...             break\n",
    "...     else:\n",
    "...             player_one_turn = input(\"Press 'Enter' to roll the die \")\n",
    "...             die_outcome = random.choice(die)\n",
    "...             print(\"The result of the die roll is: \")\n",
    "...             print(die_outcome)\n",
    "...             print(\"The number of steps will be: \")\n",
    "...             print(20*die_outcome)\n",
    "...             player_one.fd(20*die_outcome)\n",
    "...             player_two_turn = input(\"Press 'Enter' to roll the die \")\n",
    "...             die_outcome = random.choice(die)\n",
    "...             print(\"The result of the die roll is: \")\n",
    "...             print(die_outcome)\n",
    "...             print(\"The number of steps will be: \")\n",
    "...             print(20*die_outcome)\n",
    "...             player_two.fd(20*die_outcome)\n",
    "```\n",
    "\n",
    "Your final output will look a little something like this:\n",
    "\n",
    "![Python turtle Race Updated](https://files.realpython.com/media/Update_-_Turtle_Race_Green_and_Blue.b1ee6be37a9f.gif)"
   ]
  },
  {
   "cell_type": "markdown",
   "id": "7b74b6ac",
   "metadata": {},
   "source": [
    "In summary, this is what the code is doing:\n",
    "\n",
    "1. Line 1 sets up a for loop with a range from 1 to 20.\n",
    "\n",
    "2. Lines 2 through 7 check if either player has reached their goal. If one of them has, then the program prints out the corresponding statement and breaks the loop.\n",
    "\n",
    "3. Line 8 moves the program on to the next set of steps if neither player has won.\n",
    "\n",
    "4. Line 9 prints out a statement asking player one to press the Enter key to roll the die.\n",
    "\n",
    "5. Line 10 takes a random value from the list die and stores it in die_outcome.\n",
    "\n",
    "6. Line 11 prints a statement prior to displaying the outcome of the dice roll.\n",
    "\n",
    "7. Line 12 prints the dice outcome.\n",
    "\n",
    "8. Line 14 multiplies this value by 20 to reduce the overall number of steps required to complete the game.\n",
    "\n",
    "9. Line 15 moves player one's `turtle` forward by this number of steps.\n",
    "\n",
    "10. Lines 16 to 22 repeat these steps for player two.\n",
    "\n",
    "The entire for loop is repeated until one of the player's `turtle`s reaches the final position.\n",
    "\n",
    "Remember, you can customize the game however you want, so go ahead and play around with it! You can add more `turtle`s, change the colors, change the speed, or even create some obstacles to challenge your players. It's all up to you as the developer of the game!"
   ]
  },
  {
   "cell_type": "markdown",
   "id": "4138c6fd",
   "metadata": {},
   "source": [
    "## Conclusion"
   ]
  },
  {
   "cell_type": "markdown",
   "id": "1fc800a8",
   "metadata": {},
   "source": [
    "In this tutorial, you've learned how to program with the Python `turtle` module and grasped some very important programming concepts. You know how to deal with variable initialization, loops, conditional statements, indentations, lists, and operators. This is a great start for you, especially if you're new to the Python programming language!\n",
    "\n",
    "Now you can:\n",
    "\n",
    "- Set up the Python `turtle` module\n",
    "- Move your turtle around\n",
    "- Customize your turtle and its environment\n",
    "- Program your turtle\n",
    "- Use basic programming concepts\n",
    "- Create a game that you can play with friends\n",
    "\n",
    "Now you're ready to venture into some higher-level Python programming. To progress further in your Python journey, check out Introduction to Python and 11 Beginner Tips for Learning Python Programming. Just remember to work hard and keep practicing, and you'll find that you're a Python expert in no time!"
   ]
  },
  {
   "cell_type": "markdown",
   "id": "ae27c878",
   "metadata": {},
   "source": [
    "**Watch Now:** This tutorial has a related video course created by the Real Python team. Watch it together with the written tutorial to deepen your understanding: [Python `turtle` for Beginners](https://realpython.com/courses/python-`turtle`-beginners/)"
   ]
  }
 ],
 "metadata": {
  "kernelspec": {
   "display_name": "Python 3 (ipykernel)",
   "language": "python",
   "name": "python3"
  },
  "language_info": {
   "codemirror_mode": {
    "name": "ipython",
    "version": 3
   },
   "file_extension": ".py",
   "mimetype": "text/x-python",
   "name": "python",
   "nbconvert_exporter": "python",
   "pygments_lexer": "ipython3",
   "version": "3.11.4"
  }
 },
 "nbformat": 4,
 "nbformat_minor": 5
}
