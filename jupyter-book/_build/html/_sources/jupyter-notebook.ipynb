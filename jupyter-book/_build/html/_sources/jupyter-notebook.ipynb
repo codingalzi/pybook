{
 "cells": [
  {
   "cell_type": "markdown",
   "id": "d5218d27",
   "metadata": {},
   "source": [
    "# 주피터 노트북"
   ]
  },
  {
   "cell_type": "markdown",
   "id": "3e3c4ba7",
   "metadata": {},
   "source": [
    "## 코드 셀"
   ]
  },
  {
   "cell_type": "markdown",
   "id": "c3d14b87",
   "metadata": {},
   "source": [
    "코드 셀에서는 파이썬 코드를 작성하고 실행할 수 있다."
   ]
  },
  {
   "cell_type": "code",
   "execution_count": 1,
   "id": "3fd8ce1e",
   "metadata": {},
   "outputs": [
    {
     "name": "stdout",
     "output_type": "stream",
     "text": [
      "숫자맞히기 게임에 환영합니다.\n",
      "0부터 9 사이의 숫자 하나를 입력하세요: 3\n",
      "맞았습니다!\n",
      "게임 종료!\n"
     ]
    }
   ],
   "source": [
    "print(\"숫자맞히기 게임에 환영합니다.\")\n",
    "\n",
    "secret = '3'\n",
    "guess = input(\"0부터 9 사이의 숫자 하나를 입력하세요: \")\n",
    "\n",
    "if guess == secret:\n",
    "    print(\"맞았습니다!\")\n",
    "else:\n",
    "    print(\"틀렸습니다!\")\n",
    "\n",
    "print(\"게임 종료!\")"
   ]
  },
  {
   "cell_type": "markdown",
   "id": "eeb340e9",
   "metadata": {},
   "source": [
    "## 텍스트 셀"
   ]
  },
  {
   "cell_type": "markdown",
   "id": "39ad00c8",
   "metadata": {},
   "source": [
    "텍스트 셀은 MS 워드, 한컴 오피스 등과 유사한 문서 편집기 기능을 지원한다.\n",
    "특히 문서 작성에 유용한 아래 두 언어를 지원한다.\n",
    "\n",
    "- HTML\n",
    "- 마크다운"
   ]
  },
  {
   "cell_type": "markdown",
   "id": "e332f79d",
   "metadata": {},
   "source": [
    "예를 들어 이미지를 문서에 삽입할 수도 있다."
   ]
  },
  {
   "cell_type": "markdown",
   "id": "e0879ee6",
   "metadata": {},
   "source": [
    "<div align=\"center\"><img src=\"https://raw.githubusercontent.com/codingalzi/pybook/master/jupyter-book/images/tiobe-index.jpg\" style=\"width:750px\"></div>"
   ]
  },
  {
   "cell_type": "code",
   "execution_count": null,
   "id": "51fc2354",
   "metadata": {},
   "outputs": [],
   "source": []
  },
  {
   "cell_type": "code",
   "execution_count": null,
   "id": "276451e0",
   "metadata": {},
   "outputs": [],
   "source": []
  },
  {
   "cell_type": "code",
   "execution_count": null,
   "id": "d00a03be",
   "metadata": {},
   "outputs": [],
   "source": []
  },
  {
   "cell_type": "code",
   "execution_count": null,
   "id": "6cb3ca7c",
   "metadata": {},
   "outputs": [],
   "source": []
  },
  {
   "cell_type": "code",
   "execution_count": null,
   "id": "f1cca371",
   "metadata": {},
   "outputs": [],
   "source": []
  },
  {
   "cell_type": "code",
   "execution_count": null,
   "id": "8f7f395e",
   "metadata": {},
   "outputs": [],
   "source": []
  },
  {
   "cell_type": "code",
   "execution_count": null,
   "id": "424677ca",
   "metadata": {},
   "outputs": [],
   "source": []
  },
  {
   "cell_type": "code",
   "execution_count": null,
   "id": "0ecadf59",
   "metadata": {},
   "outputs": [],
   "source": []
  }
 ],
 "metadata": {
  "kernelspec": {
   "display_name": "Python 3 (ipykernel)",
   "language": "python",
   "name": "python3"
  },
  "language_info": {
   "codemirror_mode": {
    "name": "ipython",
    "version": 3
   },
   "file_extension": ".py",
   "mimetype": "text/x-python",
   "name": "python",
   "nbconvert_exporter": "python",
   "pygments_lexer": "ipython3",
   "version": "3.11.5"
  }
 },
 "nbformat": 4,
 "nbformat_minor": 5
}
