{
 "cells": [
  {
   "cell_type": "markdown",
   "id": "c9188d90",
   "metadata": {},
   "source": [
    "(ch:classes)=\n",
    "# (부록) 클래스의 기본 요소"
   ]
  },
  {
   "cell_type": "markdown",
   "id": "989d63bc",
   "metadata": {},
   "source": [
    "**수정해야할 사항**\n",
    "\n",
    "- {ref}`ch:classes_instances_objects` 의 `MSDie` 클래스 대신 `Fraction` 클래스를 이용하여 설명할 것.\n",
    "- 많은 연산자가 [연습문제](https://colab.research.google.com/github/codingalzi/pybook/blob/master/practices/practice-classes_instances_objects.ipynb) 에서 해결되었음. 활용할 것."
   ]
  },
  {
   "cell_type": "markdown",
   "id": "6c598020",
   "metadata": {},
   "source": [
    "**참고:** 아래 내용은 [Problem Solving with Algorithms and Data Structures using Python](https://runestone.academy/ns/books/published/pythonds3/index.html)의 2장 내용을 \n",
    "일부 활용한다. "
   ]
  },
  {
   "attachments": {},
   "cell_type": "markdown",
   "id": "014462c6",
   "metadata": {},
   "source": [
    "## 출력 가능 클래스"
   ]
  },
  {
   "cell_type": "markdown",
   "id": "219fd20b",
   "metadata": {},
   "source": [
    "클래스를 선언할 때 아래 사항들을 기본적으로 지원하도록 해야 한다. \n",
    "\n",
    "* 문서화: __독스트링__(docstring) 기능을 이용하여 해당 클래스의 기능과 사용법을 설명한다.\n",
    "    세 개의 큰 따옴표(`\"\"\"`)로 감싸인 문장으로 작성된다.\n",
    "\n",
    "* 출력\n",
    "    * `__str__()` 메서드: `print()`함수를 이용하여 해당 인스턴스를 출력할 때 활용된다.\n",
    "    * `__repr__()` 메서드: `print()` 함수의 영향이 미치지 못하는 곳에서 객체를 보여줄 때 활용된다.\n",
    "\n",
    "다면체 주사위 클래스를 선언하는 과정을 살펴보면서 클래스 선언에 기본적으로 필요한 요소를 살펴본다."
   ]
  },
  {
   "cell_type": "markdown",
   "id": "34af4183",
   "metadata": {},
   "source": [
    "**예제: 주사위 클래스 `MSDie`**"
   ]
  },
  {
   "cell_type": "markdown",
   "id": "cc5fb78b",
   "metadata": {},
   "source": [
    "다면체 주사위 객체를 인스턴스로 갖는 `MSDie` 클래스를 선언한 후에 한 단계씩 \n",
    "업데이트 하는 과정을 살펴본다. \n",
    "생성되는 주사위는 지정된 개수의 면을 갖는다. \n",
    "즉, 4면체, 6면체, 7면체 등 다면체 주사위 객체를 생성할 수 있도록 생성자를 정의한다.\n",
    "또한 주사위 객체를 생성할 때 주사위가 가리키는 값을 하나 무작위로 지정하도록 한 다음에\n",
    "필요에 따라 주사위 굴리기를 실행하고 그 결과를 저장하도록 한다."
   ]
  },
  {
   "cell_type": "code",
   "execution_count": 1,
   "id": "8e361e70",
   "metadata": {},
   "outputs": [],
   "source": [
    "import random\n",
    "\n",
    "class MSDie:\n",
    "    \"\"\"\n",
    "    다면체 주사위\n",
    "    \n",
    "    인스턴스 변수: \n",
    "        num_sides: 면 개수\n",
    "        current_value: 주사위를 굴린 결과\n",
    "    \"\"\"\n",
    "\n",
    "    def __init__(self, num_sides):\n",
    "        self.num_sides = num_sides\n",
    "        self.current_value = self.roll()   # 주사위 굴리기 먼저 실행\n",
    "\n",
    "    def roll(self):   # 주사위 굴리기\n",
    "        self.current_value = random.randrange(1, self.num_sides+1)\n",
    "        return self.current_value"
   ]
  },
  {
   "cell_type": "markdown",
   "id": "8f2bb819",
   "metadata": {},
   "source": [
    "6면체 주사위 객체를 하나 생성하여 5번 굴린 결과를 확인한다."
   ]
  },
  {
   "cell_type": "code",
   "execution_count": 2,
   "id": "409f788e",
   "metadata": {},
   "outputs": [
    {
     "name": "stdout",
     "output_type": "stream",
     "text": [
      "<__main__.MSDie object at 0x7faa98601be0> 4\n",
      "<__main__.MSDie object at 0x7faa98601be0> 3\n",
      "<__main__.MSDie object at 0x7faa98601be0> 1\n",
      "<__main__.MSDie object at 0x7faa98601be0> 5\n",
      "<__main__.MSDie object at 0x7faa98601be0> 5\n"
     ]
    }
   ],
   "source": [
    "my_die = MSDie(6)\n",
    "\n",
    "for i in range(5):\n",
    "    print(my_die, my_die.current_value)\n",
    "    my_die.roll()    # 주사위 새로 굴리기"
   ]
  },
  {
   "cell_type": "code",
   "execution_count": 3,
   "id": "9e09241a",
   "metadata": {},
   "outputs": [
    {
     "name": "stdout",
     "output_type": "stream",
     "text": [
      "[<__main__.MSDie object at 0x7faa98601d90>, <__main__.MSDie object at 0x7faa98601b20>]\n"
     ]
    }
   ],
   "source": [
    "d_list = [MSDie(6), MSDie(20)]\n",
    "print(d_list)"
   ]
  },
  {
   "cell_type": "markdown",
   "id": "fde95eb5",
   "metadata": {},
   "source": [
    "`print(my_die)`가 `num_sides`와 `current_value`를 활용하여 적절한 출력을\n",
    "만들어 내도록 하려면 `__str__()` 메서드가 적절한 문자열을 출력하도록 해야 한다.\n",
    "또한 리스트의 항목으로 사용된 경우처럼 `print()` 함수가 영향을 미치지 못하는 곳에서\n",
    "객체를 적절하게 출력하도록 하려면 `__repr__()` 메서드의 반환값을\n",
    "적절한 문자열로 지정해야 한다.\n",
    "이유는 \n",
    "리스트를 `print()` 함수의 인자로 사용하면\n",
    "리스트의 항목을 출력하기 위해 `__repr__()` 메서드가 사용된다."
   ]
  },
  {
   "cell_type": "code",
   "execution_count": 4,
   "id": "1d7811b1",
   "metadata": {},
   "outputs": [],
   "source": [
    "import random\n",
    "\n",
    "class MSDie:\n",
    "    \"\"\"\n",
    "    다면체 주사위\n",
    "    \n",
    "    인스턴스 변수: \n",
    "        num_sides: 면 개수\n",
    "        current_value: 주사위를 굴린 결과\n",
    "    \"\"\"\n",
    "\n",
    "    def __init__(self, num_sides):\n",
    "        self.num_sides = num_sides\n",
    "        self.current_value = self.roll()   # 주사위 굴리기 먼저 실행\n",
    "\n",
    "    def roll(self):   # 주사위 굴리기\n",
    "        self.current_value = random.randrange(1, self.num_sides+1)\n",
    "        return self.current_value\n",
    "\n",
    "    def __str__(self):\n",
    "        return str(self.current_value)\n",
    "\n",
    "    def __repr__(self):\n",
    "        return f\"MSDie({self.num_sides}): {self.current_value}\""
   ]
  },
  {
   "cell_type": "code",
   "execution_count": 5,
   "id": "21b634ef",
   "metadata": {},
   "outputs": [
    {
     "name": "stdout",
     "output_type": "stream",
     "text": [
      "4\n",
      "2\n",
      "6\n",
      "4\n",
      "1\n"
     ]
    }
   ],
   "source": [
    "my_die = MSDie(6)\n",
    "for i in range(5):\n",
    "    print(my_die)\n",
    "    my_die.roll()"
   ]
  },
  {
   "cell_type": "code",
   "execution_count": 6,
   "id": "e86a43ea",
   "metadata": {},
   "outputs": [
    {
     "name": "stdout",
     "output_type": "stream",
     "text": [
      "[MSDie(6): 1, MSDie(20): 5]\n"
     ]
    }
   ],
   "source": [
    "d_list = [MSDie(6), MSDie(20)]\n",
    "print(d_list)"
   ]
  },
  {
   "cell_type": "markdown",
   "id": "85a83923",
   "metadata": {},
   "source": [
    "## 비교 가능 클래스"
   ]
  },
  {
   "cell_type": "markdown",
   "id": "b96ef1ba",
   "metadata": {},
   "source": [
    "두 개의 주사위 객체의 동등성(equality) 여부를 어떻게 판단할까? \n",
    "두 주사위가 가리키는 값이 같을 때? 주사위 면의 수가 다르면?\n",
    "두 주사위의 크기 비교는 어떻게?\n",
    "\n",
    "아래 질문들에 답하려면 객체 비교와 관련된 아래 메서드 일부 또는 전체를 구현해야 한다.\n",
    "\n",
    "* `__lt__`: 작다 연산자(`<`) 지원\n",
    "* `__gt__`: 크다 연산자(`>`) 지원\n",
    "* `__eq__`: 동등성 연산자(`==`) 지원\n",
    "* `__le__`: 작거나 같다 연산자(`<=`) 지원\n",
    "* `__ge__`: 크거나 같다 연산자(`>=`) 지원\n",
    "* `__ne__`: 비동등성(`!=`) 지원\n",
    "\n",
    "여기서는 두 주사의 크기 비교를 주사위가 가리키는 값(`current_value`)을 이용하여 지정한다."
   ]
  },
  {
   "cell_type": "code",
   "execution_count": 7,
   "id": "55b3a240",
   "metadata": {},
   "outputs": [],
   "source": [
    "import random\n",
    "\n",
    "class MSDie:\n",
    "    \"\"\"\n",
    "    다면체 주사위\n",
    "    \n",
    "    인스턴스 변수: \n",
    "        num_sides: 면 개수\n",
    "        current_value: 주사위를 굴린 결과\n",
    "    \"\"\"\n",
    "\n",
    "    def __init__(self, num_sides):\n",
    "        self.num_sides = num_sides\n",
    "        self.current_value = self.roll()   # 주사위 굴리기 먼저 실행\n",
    "\n",
    "    def roll(self):   # 주사위 굴리기\n",
    "        self.current_value = random.randrange(1, self.num_sides+1)\n",
    "        return self.current_value\n",
    "\n",
    "    def __str__(self):\n",
    "        return str(self.current_value)\n",
    "\n",
    "    def __repr__(self):\n",
    "        return \"MSDie({}) : {}\".format(self.num_sides, self.current_value)\n",
    "\n",
    "    def __eq__(self,other):\n",
    "        return self.current_value == other.current_value\n",
    "\n",
    "    def __lt__(self,other):\n",
    "        return self.current_value < other.current_value\n",
    "\n",
    "    def __le__(self, other):\n",
    "        return self.current_value <= other.current_value    "
   ]
  },
  {
   "cell_type": "markdown",
   "id": "f41735c1",
   "metadata": {},
   "source": [
    "비교 연산자들의 활용법은 모두 아래 형식을 따른다.\n",
    "\n",
    "```python\n",
    "__eq__(self, other)\n",
    "```\n",
    "\n",
    "- `self`: 비교 중심 객체\n",
    "- `other`: 비교 대상 객체"
   ]
  },
  {
   "cell_type": "code",
   "execution_count": 8,
   "id": "a8e33014",
   "metadata": {},
   "outputs": [
    {
     "name": "stdout",
     "output_type": "stream",
     "text": [
      "False\n",
      "False\n",
      "False\n"
     ]
    }
   ],
   "source": [
    "x = MSDie(6)\n",
    "y = MSDie(7)\n",
    "\n",
    "x.current_value = 6\n",
    "y.current_value = 5\n",
    "\n",
    "print(x == y)\n",
    "print(x < y)\n",
    "print(x<=y)"
   ]
  },
  {
   "cell_type": "markdown",
   "id": "c17d3d2f",
   "metadata": {},
   "source": [
    "**최소로 필요한 비교 연산자**\n",
    "\n",
    "앞서 `__gt__()`, `__ge__()`, `__ne__()` 메서드를 정의하지 않았지만\n",
    "자동으로 지원된다. "
   ]
  },
  {
   "cell_type": "code",
   "execution_count": 9,
   "id": "314635be",
   "metadata": {},
   "outputs": [
    {
     "name": "stdout",
     "output_type": "stream",
     "text": [
      "True\n",
      "True\n",
      "True\n"
     ]
    }
   ],
   "source": [
    "print(x > y)\n",
    "print(x>=y)\n",
    "print(x != y)"
   ]
  },
  {
   "cell_type": "markdown",
   "id": "4475ffcc",
   "metadata": {},
   "source": [
    "**동등성 대 동일성**"
   ]
  },
  {
   "cell_type": "code",
   "execution_count": 10,
   "id": "00165490",
   "metadata": {},
   "outputs": [
    {
     "name": "stdout",
     "output_type": "stream",
     "text": [
      "True\n",
      "False\n"
     ]
    }
   ],
   "source": [
    "x.current_value = 6\n",
    "y.current_value = 6\n",
    "\n",
    "print(x == y)    # 동등성\n",
    "print(x is y)    # 동일성"
   ]
  },
  {
   "cell_type": "markdown",
   "id": "a9f94eb3",
   "metadata": {},
   "source": [
    "## 공개 여부"
   ]
  },
  {
   "cell_type": "markdown",
   "id": "652f78de",
   "metadata": {},
   "source": [
    "자바<font size='2'>Java</font> 프로그래밍 언어의 클래스 선언에 사용되는 \n",
    "private, default, protected, public 등과 같은\n",
    "접근 제어자는 파이썬에서 지원되지 않는다.\n",
    "\n",
    "파이썬 클래스의 모든 것은 원칙적으로 공개(public)되며 접근 및 수정될 수 있다.\n",
    "하지만 일부 변수와 메서드는 특별한 방식으로 이름을 지어 외부 노출을 최대한 줄인다. \n",
    "\n",
    "* 두 개의 밑줄(\"`__`\")로 시작하기: 숨기고자 하는 속성 변수와 메서드 이름\n",
    "* 한 개의 밑줄(\"`_`\")로 시작하기: 굳이 사용자가 알 필요 없는 속성 변수와 메서드 이름\n",
    "\n",
    "아래 코드는 MSDie 클래스의 생성자를 조금 수정하였다.\n",
    "수정된 내용은 주사위를 굴렸을 때 나온 값에 `__hidden1`을 곱한 후에 `_hidden2`로 \n",
    "나눈 결과를 `current_value`로 가리키도록 하였다."
   ]
  },
  {
   "cell_type": "code",
   "execution_count": 11,
   "id": "d01a8af0",
   "metadata": {},
   "outputs": [],
   "source": [
    "import random\n",
    "\n",
    "class MSDie:\n",
    "    \"\"\"\n",
    "    다면체 주사위\n",
    "    \n",
    "    인스턴스 변수: \n",
    "        num_sides: 면 개수\n",
    "        current_value: 주사위를 굴린 결과\n",
    "    \"\"\"\n",
    "\n",
    "    def __init__(self, num_sides):\n",
    "        self.__hidden1 = 3                  # 숨긴 변수: 네임 맹글링\n",
    "        self._hidden2 = 7                   # 숨긴 변수\n",
    "        \n",
    "        self.num_sides = num_sides\n",
    "        self.current_value = self.roll()\n",
    "\n",
    "    def roll(self):\n",
    "        randNum = random.randrange(1, self.num_sides+1)\n",
    "        self.current_value = (self.__hidden1 * randNum) % self._hidden2 \n",
    "        return self.current_value"
   ]
  },
  {
   "cell_type": "code",
   "execution_count": 12,
   "id": "6bdcd429",
   "metadata": {},
   "outputs": [],
   "source": [
    "x = MSDie(6)"
   ]
  },
  {
   "cell_type": "code",
   "execution_count": 13,
   "id": "ddf7850e",
   "metadata": {},
   "outputs": [
    {
     "data": {
      "text/plain": [
       "4"
      ]
     },
     "execution_count": 13,
     "metadata": {},
     "output_type": "execute_result"
    }
   ],
   "source": [
    "x.current_value"
   ]
  },
  {
   "cell_type": "markdown",
   "id": "a35c5d36",
   "metadata": {},
   "source": [
    "그런데 두 밑줄로 시작하는 `__hidden1` 속성은 인스턴스 변수로 확인되지 않는다."
   ]
  },
  {
   "cell_type": "markdown",
   "id": "b1db6386",
   "metadata": {},
   "source": [
    "```python\n",
    ">>> x.__hidden1\n",
    "AttributeError                            Traceback (most recent call last)\n",
    "<ipython-input-14-5b793c2c1cb0> in <module>\n",
    "----> 1 x.__hidden1\n",
    "\n",
    "AttributeError: 'MSDie' object has no attribute '__hidden1'\n",
    "```"
   ]
  },
  {
   "cell_type": "markdown",
   "id": "15c4efb3",
   "metadata": {},
   "source": [
    "반면에 하나의 밑줄로 시작하는 `_hidden2` 속성은 인스턴스 변수로 값이 확인된다."
   ]
  },
  {
   "cell_type": "code",
   "execution_count": 14,
   "id": "1de9928f",
   "metadata": {},
   "outputs": [
    {
     "data": {
      "text/plain": [
       "7"
      ]
     },
     "execution_count": 14,
     "metadata": {},
     "output_type": "execute_result"
    }
   ],
   "source": [
    "x._hidden2"
   ]
  },
  {
   "cell_type": "markdown",
   "id": "07ddea56",
   "metadata": {},
   "source": [
    "**`__dict__` 변수**"
   ]
  },
  {
   "cell_type": "markdown",
   "id": "5203c932",
   "metadata": {},
   "source": [
    "객체 `x`가 갖는 인스턴스 속성을 확인하면 다음과 같이 \n",
    "속성 변수와 해당 속성값으로 이루어진 사전을 얻는다."
   ]
  },
  {
   "cell_type": "code",
   "execution_count": 15,
   "id": "064c58d1",
   "metadata": {},
   "outputs": [
    {
     "data": {
      "text/plain": [
       "{'_MSDie__hidden1': 3, '_hidden2': 7, 'num_sides': 6, 'current_value': 4}"
      ]
     },
     "execution_count": 15,
     "metadata": {},
     "output_type": "execute_result"
    }
   ],
   "source": [
    "x.__dict__"
   ]
  },
  {
   "cell_type": "markdown",
   "id": "d2ec2b6f",
   "metadata": {},
   "source": [
    "그런데 `__hidden1` 변수 대신에 `_MSDie__hidden1` 이 확인된다.\n",
    "이처럼 두 개의 밑줄로 시작하는 변수의 이름이 내부적으로 클래스 이름이 붙는 방식으로 변경된다.\n",
    "이를 __네임 맹글링__(name mangling)이라 한다. \n",
    "변경된 이름을 이용하면 속성이 확인된다."
   ]
  },
  {
   "cell_type": "code",
   "execution_count": 16,
   "id": "dc104c97",
   "metadata": {},
   "outputs": [
    {
     "data": {
      "text/plain": [
       "3"
      ]
     },
     "execution_count": 16,
     "metadata": {},
     "output_type": "execute_result"
    }
   ],
   "source": [
    "x._MSDie__hidden1"
   ]
  },
  {
   "cell_type": "markdown",
   "id": "a0a849f1",
   "metadata": {},
   "source": [
    "## 게터와 세터"
   ]
  },
  {
   "cell_type": "markdown",
   "id": "08aed894",
   "metadata": {},
   "source": [
    "반면에 하나의 밑줄을 사용하는 `_hidden2`는 숨길 것 까지는 아니지만 클래스 내부에서만\n",
    "사용되는 것을 반영한 이름이다. \n",
    "이런 변수와 메서드는 사용자가 직접 값을 수정하기 보다는 \n",
    "**세터**<font size='2'>setter</font>와 \n",
    "**게터**<font size='2'>getter</font> 메서드를 이용하여\n",
    "외부와 내부를 중개하는 역할을 수행하도록 하는 것이 좋다. \n",
    "이유는 사용자 입장에서 최소한의 정보를 이용하여 객체 속성 정보를 확인하고 이용하도록 만들기 위해서이다. \n",
    "\n",
    "아래 코드는 `current_value`를 지정하고 확인하는 게터,\n",
    "그리고 `_hidden2`를 확인하고 지정하는 게터와 세터를 선언한다."
   ]
  },
  {
   "cell_type": "code",
   "execution_count": 17,
   "id": "8a73bad3",
   "metadata": {},
   "outputs": [],
   "source": [
    "import random\n",
    "\n",
    "class MSDie:\n",
    "    \"\"\"\n",
    "    다면체 주사위\n",
    "    \n",
    "    인스턴스 변수: \n",
    "        num_sides: 면 개수\n",
    "        current_value: 주사위를 굴린 결과\n",
    "    \"\"\"\n",
    "\n",
    "    def __init__(self, num_sides):\n",
    "        self.__hidden1 = 3\n",
    "        self._hidden2 = 7\n",
    "        \n",
    "        self.num_sides = num_sides\n",
    "        self.current_value = self.roll()\n",
    "\n",
    "    def roll(self):\n",
    "        randNum = random.randrange(1, self.num_sides+1)\n",
    "        self.current_value = (self.__hidden1 * randNum) % self._hidden2 \n",
    "        return self.current_value\n",
    "        \n",
    "    # 게터\n",
    "    def get_value(self):\n",
    "        return self.current_value\n",
    "    \n",
    "    # 게터\n",
    "    def get_hidden2(self):\n",
    "        return self._hidden2\n",
    "\n",
    "    # 세터\n",
    "    def set_hidden2(self, num):\n",
    "        self._hidden2 = num"
   ]
  },
  {
   "cell_type": "code",
   "execution_count": 18,
   "id": "68047685",
   "metadata": {},
   "outputs": [],
   "source": [
    "x = MSDie(6)"
   ]
  },
  {
   "cell_type": "markdown",
   "id": "65a04b60",
   "metadata": {},
   "source": [
    "`current_value` 값을 직접 확인해보자."
   ]
  },
  {
   "cell_type": "code",
   "execution_count": 19,
   "id": "51b9cc98",
   "metadata": {},
   "outputs": [
    {
     "data": {
      "text/plain": [
       "3"
      ]
     },
     "execution_count": 19,
     "metadata": {},
     "output_type": "execute_result"
    }
   ],
   "source": [
    "x.current_value"
   ]
  },
  {
   "cell_type": "markdown",
   "id": "cb4a1ea5",
   "metadata": {},
   "source": [
    "게터 메서드를 이용할 수도 있다."
   ]
  },
  {
   "cell_type": "code",
   "execution_count": 20,
   "id": "107c4377",
   "metadata": {},
   "outputs": [
    {
     "data": {
      "text/plain": [
       "3"
      ]
     },
     "execution_count": 20,
     "metadata": {},
     "output_type": "execute_result"
    }
   ],
   "source": [
    "x.get_value()"
   ]
  },
  {
   "cell_type": "markdown",
   "id": "43b7c018",
   "metadata": {},
   "source": [
    "현재의 `_hidden2` 속성 또한 게터 메서드로 확인해보자."
   ]
  },
  {
   "cell_type": "code",
   "execution_count": 21,
   "id": "f53525cb",
   "metadata": {},
   "outputs": [
    {
     "data": {
      "text/plain": [
       "7"
      ]
     },
     "execution_count": 21,
     "metadata": {},
     "output_type": "execute_result"
    }
   ],
   "source": [
    "x.get_hidden2()"
   ]
  },
  {
   "cell_type": "markdown",
   "id": "745f01e5",
   "metadata": {},
   "source": [
    "`x._hidden2` 가 가리키는 값을 세터 메서드를 이용하여 11로 변경해보자."
   ]
  },
  {
   "cell_type": "code",
   "execution_count": 22,
   "id": "29fa9baf",
   "metadata": {},
   "outputs": [
    {
     "name": "stdout",
     "output_type": "stream",
     "text": [
      "11\n"
     ]
    }
   ],
   "source": [
    "x.set_hidden2(11)\n",
    "print(x.get_hidden2())"
   ]
  },
  {
   "cell_type": "markdown",
   "id": "2bbc5633",
   "metadata": {},
   "source": [
    "## 데코레이터"
   ]
  },
  {
   "cell_type": "markdown",
   "id": "044decaa",
   "metadata": {},
   "source": [
    "게터 메서드와 세터 메서드는 인스턴스 속성을 확인하고 변경한다.\n",
    "따라서 마치 하나의 인스턴스 변수처럼 다룰 수 있으면 보다 편할 것이다.\n",
    "여기서는 파이썬의 데코레이터를 이용하면 이것이 가능하게 만드는 것을 보인다.\n",
    "\n",
    "**데코레이터**<font size='2'>decorator</font>는 선언되는 함수에 다른 \n",
    "기능을 추가하는 도구이다.\n",
    "파이썬은 다양한 종류의 데코레이터를 제공한다.\n",
    "하지만 여기서는 게터와 세터를 지정하는 데코레이터만 소개한다.\n",
    "\n",
    "예를 들어, 게터 메서드 바로 이전에 `property` 데코레이터를 지정하면\n",
    "해당 게터 메서드는 인스턴스 변수처럼 사용될 수 있다.\n",
    "또한 세터 메서드 앞에 `게터메서드.setter` 형식의 데코레이터를 지정하면\n",
    "해당 세터 메서드를 인스턴스 변수를 업데이트 하듯이 값을 재할당할 수 있다."
   ]
  },
  {
   "cell_type": "code",
   "execution_count": 23,
   "id": "ca680524",
   "metadata": {},
   "outputs": [],
   "source": [
    "import random\n",
    "\n",
    "class MSDie:\n",
    "    \"\"\"\n",
    "    다면체 주사위\n",
    "    \n",
    "    인스턴스 변수: \n",
    "        num_sides: 면 개수\n",
    "        current_value: 주사위를 굴린 결과\n",
    "    \"\"\"\n",
    "\n",
    "    def __init__(self, num_sides):\n",
    "        self.__hidden1 = 3\n",
    "        self._hidden2 = 7\n",
    "        \n",
    "        self.num_sides = num_sides\n",
    "        self.current_value = self.roll()\n",
    "\n",
    "    def roll(self):\n",
    "        randNum = random.randrange(1, self.num_sides+1)\n",
    "        self.current_value = (self.__hidden1 * randNum) % self._hidden2 \n",
    "        return self.current_value\n",
    "\n",
    "    # 게터\n",
    "    @property\n",
    "    def value_get(self):\n",
    "        return self.current_value\n",
    "        \n",
    "    # 게터\n",
    "    @property\n",
    "    def hidden2_get(self):\n",
    "        return self._hidden2\n",
    "\n",
    "    # 세터\n",
    "    @hidden2_get.setter\n",
    "    def hidden2_set(self, num):\n",
    "        self._hidden2 = num"
   ]
  },
  {
   "cell_type": "code",
   "execution_count": 24,
   "id": "0cdaa206",
   "metadata": {},
   "outputs": [],
   "source": [
    "x = MSDie(6)"
   ]
  },
  {
   "cell_type": "code",
   "execution_count": 25,
   "id": "e06873b8",
   "metadata": {},
   "outputs": [
    {
     "data": {
      "text/plain": [
       "4"
      ]
     },
     "execution_count": 25,
     "metadata": {},
     "output_type": "execute_result"
    }
   ],
   "source": [
    "x.current_value"
   ]
  },
  {
   "cell_type": "code",
   "execution_count": 26,
   "id": "8951a8ff",
   "metadata": {},
   "outputs": [
    {
     "data": {
      "text/plain": [
       "4"
      ]
     },
     "execution_count": 26,
     "metadata": {},
     "output_type": "execute_result"
    }
   ],
   "source": [
    "x.value_get"
   ]
  },
  {
   "cell_type": "markdown",
   "id": "0077a13a",
   "metadata": {},
   "source": [
    "`x._hidden2` 가 가리키는 값을 11로 변경해보자.\n",
    "그에 맞게 다른 속성도 변한다."
   ]
  },
  {
   "cell_type": "code",
   "execution_count": 27,
   "id": "25b21711",
   "metadata": {},
   "outputs": [],
   "source": [
    "x.hidden2_set = 11  # x.hidden2_set(11) 에 해당"
   ]
  },
  {
   "cell_type": "code",
   "execution_count": 28,
   "id": "823a036f",
   "metadata": {},
   "outputs": [
    {
     "data": {
      "text/plain": [
       "11"
      ]
     },
     "execution_count": 28,
     "metadata": {},
     "output_type": "execute_result"
    }
   ],
   "source": [
    "x.hidden2_get       # x.hidden2 에 해당"
   ]
  },
  {
   "cell_type": "markdown",
   "id": "c03552e5",
   "metadata": {},
   "source": [
    "데코레이터를 사용하면 심지어 게터와 세터를 동일한 이름으로 지정할 수 있다."
   ]
  },
  {
   "cell_type": "code",
   "execution_count": 29,
   "id": "5c2ec55b",
   "metadata": {},
   "outputs": [],
   "source": [
    "import random\n",
    "\n",
    "class MSDie:\n",
    "    \"\"\"\n",
    "    다면체 주사위\n",
    "    \n",
    "    인스턴스 변수: \n",
    "        num_sides: 면 개수\n",
    "        current_value: 주사위를 굴린 결과\n",
    "    \"\"\"\n",
    "\n",
    "    def __init__(self, num_sides):\n",
    "        self.__hidden1 = 3                  # 네임 맹글링\n",
    "        self._hidden2 = 7\n",
    "        self.num_sides = num_sides\n",
    "        self.current_value = self.roll()    # 주사위 굴리기 먼저 실행\n",
    "\n",
    "    def roll(self):   # 주사위 굴리기\n",
    "        randNum = random.randrange(1, self.num_sides+1)\n",
    "        self.current_value = (self.__hidden1 * randNum) % self._hidden2 \n",
    "        return self.current_value\n",
    "\n",
    "    @property\n",
    "    def value_get(self):\n",
    "        return self.current_value\n",
    "\n",
    "    # _hidden2의 게터\n",
    "    @property\n",
    "    def hidden2(self):\n",
    "        return self._hidden2\n",
    "\n",
    "    # _hidden2의 세터\n",
    "    @hidden2.setter\n",
    "    def hidden2(self, num):\n",
    "        self._hidden2 = num"
   ]
  },
  {
   "cell_type": "code",
   "execution_count": 30,
   "id": "0e3004dc",
   "metadata": {},
   "outputs": [],
   "source": [
    "x = MSDie(6)"
   ]
  },
  {
   "cell_type": "markdown",
   "id": "dd48b8b6",
   "metadata": {},
   "source": [
    "`x._hidden2` 의 값을 11로 바꾼다."
   ]
  },
  {
   "cell_type": "code",
   "execution_count": 31,
   "id": "58b8f8f1",
   "metadata": {},
   "outputs": [],
   "source": [
    "x.hidden2 = 11"
   ]
  },
  {
   "cell_type": "markdown",
   "id": "c9cf9c86",
   "metadata": {},
   "source": [
    "11로 변경된 것을 확인한다."
   ]
  },
  {
   "cell_type": "code",
   "execution_count": 32,
   "id": "6f9ddd39",
   "metadata": {},
   "outputs": [
    {
     "data": {
      "text/plain": [
       "11"
      ]
     },
     "execution_count": 32,
     "metadata": {},
     "output_type": "execute_result"
    }
   ],
   "source": [
    "x.hidden2"
   ]
  },
  {
   "cell_type": "markdown",
   "id": "cce84f7d",
   "metadata": {},
   "source": [
    ":::{admonition} 주의 사항\n",
    ":class: warning\n",
    "\n",
    "게터와 세터의 이름을 동일하게 적용하는 경우\n",
    "세터 메서드를 직접 호출하면 오류가 발생할 수 있다.\n",
    "\n",
    "```python\n",
    ">>> x.hidden2(11)\n",
    "TypeError                                 Traceback (most recent call last)\n",
    "/tmp/ipykernel_8430/3341417680.py in <module>\n",
    "----> 1 x.hidden2(11)\n",
    "\n",
    "TypeError: 'int' object is not callable\n",
    "```\n",
    "\n",
    "이유는 `hidden2` 가 인스턴스 변수처럼 작동하기 때문이며, \n",
    "위의 경우 정수 11을 가리키며, \n",
    "`hidden2(11)` 은 따라서 `11(11)` 이라는 실행이 불가능한 함수 호출로 처리되기 때문이다.\n",
    ":::"
   ]
  },
  {
   "cell_type": "markdown",
   "id": "65ce77fc",
   "metadata": {},
   "source": [
    "## 연습문제"
   ]
  },
  {
   "cell_type": "markdown",
   "id": "3d21a45e",
   "metadata": {},
   "source": [
    "참고: [(실습) 클래스의 기본 요소](https://colab.research.google.com/github/codingalzi/pybook/blob/master/practices/practice-proper_classes.ipynb)"
   ]
  }
 ],
 "metadata": {
  "kernelspec": {
   "display_name": "base",
   "language": "python",
   "name": "python3"
  },
  "language_info": {
   "codemirror_mode": {
    "name": "ipython",
    "version": 3
   },
   "file_extension": ".py",
   "mimetype": "text/x-python",
   "name": "python",
   "nbconvert_exporter": "python",
   "pygments_lexer": "ipython3",
   "version": "3.9.12 (main, Apr  4 2022, 05:22:27) [MSC v.1916 64 bit (AMD64)]"
  },
  "vscode": {
   "interpreter": {
    "hash": "6c86b3592b6800d985c04531f2c445f0fa6967131b8dd6395a925f7622e55602"
   }
  }
 },
 "nbformat": 4,
 "nbformat_minor": 5
}
