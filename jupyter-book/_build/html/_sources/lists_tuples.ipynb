{
 "cells": [
  {
   "cell_type": "markdown",
   "id": "f0a3fe4a",
   "metadata": {},
   "source": [
    "(ch:lists-tuples)=\n",
    "# 리스트와 튜플"
   ]
  },
  {
   "cell_type": "markdown",
   "id": "c18d2e09",
   "metadata": {},
   "source": [
    "아래 표에 여섯 명의 이름, 전화번호, 나이, 키, 출생지 정보가 담겨 있다.\n",
    "\n",
    "| 이름 | 전화번호 | 나이 | 키 | 출생지 |\n",
    "| :---: | :---: | :---: | :---: | :---: |\n",
    "| 김강현 | 010-1234-5678 | 20 | 172.3 | 제주 |\n",
    "| 황현   | 02-9871-1234 | 19 | 163.5 | 서울 |\n",
    "| 남세원 | 010-3456-7891 | 21 | 156.7 | 경기 |\n",
    "| 최흥선 | 070-4321-1111 | 21 | 187.2 | 부산 |\n",
    "| 김현선 | 010-3333-8888 | 22 | 164.6 | 광주 |\n",
    "| 함중아 | 010-7654-2345 | 18 | 178.3 | 강원 |"
   ]
  },
  {
   "cell_type": "markdown",
   "id": "b8ffcf2c",
   "metadata": {},
   "source": [
    "예를 들어 김강현, 최흥선 등의 전화번호를 알고 싶으면 이름 칸에서 \n",
    "김강현과 최흥선이 위치한 행을 찾아 전화번호를 확인하면 된다.\n",
    "하지만 만약에 여섯 명이 아니라 수천, 수만명의 정보를 담겨 있다면\n",
    "특정인의 전화번호, 나이, 키, 출생지 등을 확인하는 일이 매우 어려워진다.\n",
    "\n",
    "반면에 컴퓨터는 컴퓨터는 일런 일을 매우 빠르고 정확하게 처리한다.\n",
    "단, 컴퓨터가 정보를 처리할 수 있도록 먼저 위 표의 내용을 \n",
    "하나의 값으로 저장되어 있어야 한다.\n",
    "\n",
    "이름, 전화번호, 나이, 키 각각은 문자열, 정수, 부동소수점 등 \n",
    "적절한 자료형의 값으로 변수에 할당하여 저장할 수 있다.\n",
    "예를 들어 김강현의 데이터는 아래와 같이 다룰 수 있다."
   ]
  },
  {
   "cell_type": "code",
   "execution_count": 1,
   "id": "e9be9ab4",
   "metadata": {},
   "outputs": [],
   "source": [
    "kgh_name = '김강현'\n",
    "kgh_phone = '010-1234-5678'\n",
    "kgh_age = 20\n",
    "kgh_height = 172.3\n",
    "kgh_birthplace = '제주'"
   ]
  },
  {
   "cell_type": "markdown",
   "id": "b644d8b1",
   "metadata": {},
   "source": [
    "반면에 지금까지 살펴 본 기초 자료형만으로는 아래 질문에 제대로 답할 수 없다.\n",
    "\n",
    "- 표에 언급된 여섯 명의 이름으로 구성된 목록을 하나의 값으로 다룰 수 있을까? \n",
    "- 이름과 전화번호를 하나의 쌍으로 묶어서 전화번호부를 만든 다음에 이름을 입력하면 전화번호를 확인하는 프로그램을 작성할 수 있을까?\n",
    "\n",
    "즉, 기초 자료형 이외에 여러 개의 값을 하나로 묶어 처리할 수 있는 기능이 필요하다."
   ]
  },
  {
   "cell_type": "markdown",
   "id": "ae50a4f8",
   "metadata": {},
   "source": [
    "## 파이썬 내장 자료 구조"
   ]
  },
  {
   "cell_type": "markdown",
   "id": "fadd2315",
   "metadata": {},
   "source": [
    "파이썬은 여러 개의 값을 하나의 값으로 묶어 처리할 수 있도록 도와주는 네 개의 \n",
    "**내장 자료 구조**<font size='2'>built-in data structure</font>를 제공한다.\n",
    "여기서 내장<font size='2'>built-in</font>이라 함은 코드를 작성할 때 다른 추가 설정 없이\n",
    "바로 사용할 수 있음을 의미한다.\n",
    "\n",
    "반면에 **자료 구조**<font size='2'>data structure</font>는 여러 개의 값으로 구성된 보다 복잡한 대상을 가리킨다.\n",
    "그리고 파이썬은 이런 대상도 하나의 값으로 취급한다.\n",
    "즉 리스트, 튜플, 사전, 집합 또한 하나의 값이다."
   ]
  },
  {
   "cell_type": "markdown",
   "id": "9bb909dd",
   "metadata": {},
   "source": [
    "<div align=\"center\" border=\"1px\"><img src=\"https://raw.githubusercontent.com/codingalzi/pybook/master/jupyter-book/images/built-in-types.png\" width=\"350\"/></div>\n",
    "<br>"
   ]
  },
  {
   "cell_type": "markdown",
   "id": "e10f7c6b",
   "metadata": {},
   "source": [
    "### 모음 자료형 대 스칼라 자료형"
   ]
  },
  {
   "cell_type": "markdown",
   "id": "6c222496",
   "metadata": {},
   "source": [
    "리스트, 튜플, 사전, 집합은 각자 고유의 방식으로 여러 개의 값을 모아서 하나의 값으로 다룬다.\n",
    "모음 자료형의 값에 포함된 항목의 수는 일반적으로 `len()` 함수를 이용하여 확인할 수 있다.\n",
    "여러 개의 값을 모아 항목으로 포함한다는 의미에서 이들을 **모음 자료형**이라 부르며 경우에 따라\n",
    "**컬렉션**<font size='2'>collection</font>, **컨테이너**<font size='2'>container</font> 등으로도 불린다.\n",
    "반면에 정수, 부동소수점, 불리언 등은 하나의 값으로만 구성되었다는 의미에서\n",
    "**스칼라**<font size='2'>scalar</font> 자료형이라 부른다."
   ]
  },
  {
   "cell_type": "markdown",
   "id": "c99dd84a",
   "metadata": {},
   "source": [
    "이것이 가능한 이유는 파이썬에서 다루는 모든 것이 **객체**<font size='2'>object</font>로 정의되기 때문이다.\n",
    "파이썬 객체는 일반적으로 값과 값과 관련된 속성을 저장하며, \n",
    "저장된 값과 속성을 다룰 수 있는 다양한 기능을 제공한다.\n",
    "\n",
    "객체의 엄밀한 정의는 {numref}`%s <ch:classes_instances_objects>`장에서 클래스를 설명할 때 다룬다.\n",
    "여기서는 변수에 할당될 수 있는 값을 표현하는 전문 용어로 이해하면 된다."
   ]
  },
  {
   "cell_type": "markdown",
   "id": "4697b3da",
   "metadata": {},
   "source": [
    "### 모음 자료형 구분"
   ]
  },
  {
   "cell_type": "markdown",
   "id": "adbf2e56",
   "metadata": {},
   "source": [
    "모음 자료형을 일반적으로 다음 두 가지 기준으로 구분한다.\n",
    "\n",
    "첫째, 항목의 순서와 중복 허용 여부\n",
    "\n",
    "- **순차 자료형**<font size=\"2\">sequence type</font>: 항목의 순서와 항목의 중복 사용 허용. **시퀀스**<font size='2'>sequences</font>라고도 불림.\n",
    "- **비순차 자료형**<font size='2'>non-sequence type</font>: 항목의 순서와 중복된 항목 무시"
   ]
  },
  {
   "cell_type": "markdown",
   "id": "e4793c46-cf15-452f-83bd-abb5c011689f",
   "metadata": {},
   "source": [
    "둘째, 항목 변경의 허용 여부\n",
    "\n",
    "- **가변 자료형**<font size = \"2\">mutable type</font>: 항목의 추가, 삭제, 변경 등 허용\n",
    "- **불변 자료형**<font size = \"2\">immutable type</font>: 생성된 객체의 어떠한 변경도 불가능"
   ]
  },
  {
   "cell_type": "markdown",
   "id": "7a1ebeb3",
   "metadata": {},
   "source": [
    "리스트와 튜플은 모두 순서를 고려하는 순차 자료형이다.\n",
    "{numref}`%s장 <ch:strings>`에서 살펴 본 문자열 또한 순차 모음 자료형으로 간주된다.\n",
    "반면에 리스트는 수정이 가능한 가변 자료형이지만 튜플은 불변 자료형이다.\n",
    "그리고 사전과 집합은 비순차 자료형이면서 동시에 가변 자료형이다."
   ]
  },
  {
   "cell_type": "markdown",
   "id": "9d500676",
   "metadata": {},
   "source": [
    "### 순차 자료형: 리스트, 튜플, 문자열"
   ]
  },
  {
   "cell_type": "markdown",
   "id": "6f3e38c2",
   "metadata": {},
   "source": [
    "문자열에 대해서처럼 리스트, 튜플 자료형에 대해서도 다음 세 가지 기능을 거의 동일한 방식으로 적용할 수 있다.\n",
    "\n",
    "- `in` 연산자\n",
    "- 인덱싱과 슬라이싱\n",
    "- `for` 반복문\n",
    "\n",
    "여기서는 리스트와 튜플, 즉 두 개의 순차(시퀀스) 자료형을 생성, 수정, 활용하는 다양한 방식을 살펴보고,\n",
    "다음 장에서는 비순차 자료형인 사전과 집합을 소개한다."
   ]
  },
  {
   "cell_type": "markdown",
   "id": "c81dbb46",
   "metadata": {},
   "source": [
    "(sec:list)=\n",
    "## 리스트"
   ]
  },
  {
   "cell_type": "markdown",
   "id": "09fe65c1",
   "metadata": {},
   "source": [
    "리스트는 관련된 값들을 모아서 하나의 값으로 취급하는 자료형이다.\n",
    "대괄호 `[]`로 항목들의 목록을 감싸고, 각각의 항목은 쉼표 `,`로 구분한다. \n",
    "예를 들어 위 표에 포함된 이름으로 구성된 리스트를 \n",
    "가리키는 변수 `name_list`는 다음과 같이 선언한다."
   ]
  },
  {
   "cell_type": "code",
   "execution_count": 2,
   "id": "4a55397e",
   "metadata": {},
   "outputs": [],
   "source": [
    "name_list = ['김강현', '황현', '남세원', '최흥선', '김현선', '함중아']"
   ]
  },
  {
   "cell_type": "markdown",
   "id": "096200ca-cea4-49d3-af8e-154aed4af5aa",
   "metadata": {},
   "source": [
    "그리고 아래 `one2five` 변수는 1부터 5까지의 정수로 구성된 리스트를 가리킨다."
   ]
  },
  {
   "cell_type": "code",
   "execution_count": 3,
   "id": "67c56924-64ab-4ae6-bdb3-14b79bc698e0",
   "metadata": {},
   "outputs": [],
   "source": [
    "one2five = [1, 2, 3, 4, 5]"
   ]
  },
  {
   "cell_type": "markdown",
   "id": "6a8c095a",
   "metadata": {},
   "source": [
    "**리스트 항목의 자료형**"
   ]
  },
  {
   "cell_type": "markdown",
   "id": "5d28ecca-f3a0-434e-8dd1-fe80856e821f",
   "metadata": {},
   "source": [
    "리스트의 항목이 반드시 동일한 자료형을 가질 필요는 없으며,\n",
    "서로 다른 자료형의 항목이 사용될 수도 있다.\n",
    "예를 들어 아래 리스트는 김강현과 황현의 이름, 전화번호, 나이, 키, 출생지로 구성된 \n",
    "리스트를 정의한다.\n",
    "전화번호가 문자열로 지정되었음에 주의한다."
   ]
  },
  {
   "cell_type": "code",
   "execution_count": 4,
   "id": "8f1b2cf7-6e9a-4b6f-a2ed-ef5a79a4ea1d",
   "metadata": {},
   "outputs": [],
   "source": [
    "kgh = ['김강현', '010-1234-5678', 20, 172.3, '제주']"
   ]
  },
  {
   "cell_type": "code",
   "execution_count": 5,
   "id": "4313814e",
   "metadata": {},
   "outputs": [],
   "source": [
    "whang = ['황현', '02-9871-1234', 19, 163.5, '서울'] # 황현 정보"
   ]
  },
  {
   "cell_type": "markdown",
   "id": "fb507221",
   "metadata": {},
   "source": [
    "**빈 리스트**"
   ]
  },
  {
   "cell_type": "markdown",
   "id": "9e6f50e0",
   "metadata": {},
   "source": [
    "빈 리스트는 아무것도 포함하지 않는 리스트를 의미한다.\n",
    "다음 두 가지 방식으로 빈 리스트를 선언할 수 있다."
   ]
  },
  {
   "cell_type": "markdown",
   "id": "749a9fb0",
   "metadata": {},
   "source": [
    "- 방법 1: 대괄호 활용"
   ]
  },
  {
   "cell_type": "code",
   "execution_count": 6,
   "id": "30f9e204",
   "metadata": {},
   "outputs": [],
   "source": [
    "empty_list = []"
   ]
  },
  {
   "cell_type": "markdown",
   "id": "c243df19",
   "metadata": {},
   "source": [
    "- 방법 2: `list()` 함수 활용"
   ]
  },
  {
   "cell_type": "code",
   "execution_count": 7,
   "id": "07d7377e",
   "metadata": {},
   "outputs": [],
   "source": [
    "empty_list = list()"
   ]
  },
  {
   "cell_type": "markdown",
   "id": "0f4db4c6",
   "metadata": {},
   "source": [
    "**중첩 리스트**"
   ]
  },
  {
   "cell_type": "markdown",
   "id": "555a3a70",
   "metadata": {},
   "source": [
    "임의의 값이 리스트의 항목으로 사용될 수 있다.\n",
    "따라서 리스트가 다른 리스트의 항목으로 허용된다.\n",
    "아래 코드는 김강현과 황현 두 사람의 정보로 구성된 길이가 2인 리트스를 정의한다."
   ]
  },
  {
   "cell_type": "code",
   "execution_count": 8,
   "id": "7fb8149b",
   "metadata": {},
   "outputs": [],
   "source": [
    "kgh_whang = [kgh, whang] # 김강현, 황현 두 사람 정보"
   ]
  },
  {
   "cell_type": "markdown",
   "id": "71fbd67f",
   "metadata": {},
   "source": [
    "확인하면 리스트의 리스트, 즉 중첩 리스트가 된다."
   ]
  },
  {
   "cell_type": "code",
   "execution_count": 9,
   "id": "dd94231c",
   "metadata": {},
   "outputs": [
    {
     "data": {
      "text/plain": [
       "[['김강현', '010-1234-5678', 20, 172.3, '제주'],\n",
       " ['황현', '02-9871-1234', 19, 163.5, '서울']]"
      ]
     },
     "execution_count": 9,
     "metadata": {},
     "output_type": "execute_result"
    }
   ],
   "source": [
    "kgh_whang"
   ]
  },
  {
   "cell_type": "markdown",
   "id": "230bdb4b",
   "metadata": {},
   "source": [
    "`kgh_whang`이 가리키는 리스트에 포함된 항목의 개수, 리스트의 길이는 2다. "
   ]
  },
  {
   "cell_type": "code",
   "execution_count": 10,
   "id": "825ded9b",
   "metadata": {},
   "outputs": [
    {
     "data": {
      "text/plain": [
       "2"
      ]
     },
     "execution_count": 10,
     "metadata": {},
     "output_type": "execute_result"
    }
   ],
   "source": [
    "len(kgh_whang)"
   ]
  },
  {
   "cell_type": "markdown",
   "id": "3e6bf97e",
   "metadata": {},
   "source": [
    "반면에 `kgh`와 `whang` 두 변수가 가리키는 리스트의 길이는 5다.\n",
    "즉, 중첩 리스트의 길이는 항목으로 사용된 리스트의 길이와 무관하다."
   ]
  },
  {
   "cell_type": "code",
   "execution_count": 11,
   "id": "e2df28c2",
   "metadata": {},
   "outputs": [
    {
     "data": {
      "text/plain": [
       "5"
      ]
     },
     "execution_count": 11,
     "metadata": {},
     "output_type": "execute_result"
    }
   ],
   "source": [
    "len(kgh)"
   ]
  },
  {
   "cell_type": "code",
   "execution_count": 12,
   "id": "e51c4e81",
   "metadata": {},
   "outputs": [
    {
     "data": {
      "text/plain": [
       "5"
      ]
     },
     "execution_count": 12,
     "metadata": {},
     "output_type": "execute_result"
    }
   ],
   "source": [
    "len(whang)"
   ]
  },
  {
   "cell_type": "markdown",
   "id": "2df23e74",
   "metadata": {},
   "source": [
    "아래 코드에서 `info_list`는 나머지 4명의 정보까지 항목으로 포함하는 (중첩) 리스트를 가리킨다."
   ]
  },
  {
   "cell_type": "code",
   "execution_count": 13,
   "id": "372baa4d",
   "metadata": {},
   "outputs": [],
   "source": [
    "namgung = ['남세원', '010-3456-7891', 21, 156.7, '경기']\n",
    "choihs = ['최흥선', '070-4321-1111', 21, 187.2, '부산']\n",
    "sjkim = ['김현선', '010-3333-8888', 22, 164.6, '광주']\n",
    "ja = ['함중아', '010-7654-2345', 18, 178.3, '강원']"
   ]
  },
  {
   "cell_type": "code",
   "execution_count": 14,
   "id": "45fd1038",
   "metadata": {},
   "outputs": [
    {
     "data": {
      "text/plain": [
       "[['김강현', '010-1234-5678', 20, 172.3, '제주'],\n",
       " ['황현', '02-9871-1234', 19, 163.5, '서울'],\n",
       " ['남세원', '010-3456-7891', 21, 156.7, '경기'],\n",
       " ['최흥선', '070-4321-1111', 21, 187.2, '부산'],\n",
       " ['김현선', '010-3333-8888', 22, 164.6, '광주'],\n",
       " ['함중아', '010-7654-2345', 18, 178.3, '강원']]"
      ]
     },
     "execution_count": 14,
     "metadata": {},
     "output_type": "execute_result"
    }
   ],
   "source": [
    "info_list = [kgh, whang, namgung, choihs, sjkim, ja]\n",
    "info_list"
   ]
  },
  {
   "cell_type": "markdown",
   "id": "4c4ef021",
   "metadata": {},
   "source": [
    "`info_list` 변수가 가리키는 리스트의 길이는 6이다."
   ]
  },
  {
   "cell_type": "code",
   "execution_count": 15,
   "id": "9b0714f9",
   "metadata": {},
   "outputs": [
    {
     "data": {
      "text/plain": [
       "6"
      ]
     },
     "execution_count": 15,
     "metadata": {},
     "output_type": "execute_result"
    }
   ],
   "source": [
    "len(info_list)"
   ]
  },
  {
   "cell_type": "markdown",
   "id": "41393003",
   "metadata": {},
   "source": [
    "**리스트는 시퀀스!**"
   ]
  },
  {
   "cell_type": "markdown",
   "id": "87c9242f",
   "metadata": {},
   "source": [
    "리스트는 시퀀스 자료형이기에 항목의 순서가 다르거나 특정 항목의 개수가 다르면 서로 다른 리스트로 간주된다."
   ]
  },
  {
   "cell_type": "markdown",
   "id": "4d6c0ea0",
   "metadata": {},
   "source": [
    "- 순서가 다른 경우: `one2five`는 1부터 5까지의 순서로 되어 있기에 5부터 1까지로 구성된 리스트와 다르다고 간주된다."
   ]
  },
  {
   "cell_type": "code",
   "execution_count": 16,
   "id": "4918c7c2",
   "metadata": {},
   "outputs": [
    {
     "data": {
      "text/plain": [
       "True"
      ]
     },
     "execution_count": 16,
     "metadata": {},
     "output_type": "execute_result"
    }
   ],
   "source": [
    "one2five != [5, 4, 3, 2, 1]"
   ]
  },
  {
   "cell_type": "markdown",
   "id": "c28d0aa3",
   "metadata": {},
   "source": [
    "- 특정 항목의 개수가 다른 경우: `name_list`에는 김강현이 한 번 사용되었기에 두 번 사용된 리스트와는 다른 리스트로 간주된다."
   ]
  },
  {
   "cell_type": "code",
   "execution_count": 17,
   "id": "f4d8d242",
   "metadata": {},
   "outputs": [
    {
     "data": {
      "text/plain": [
       "True"
      ]
     },
     "execution_count": 17,
     "metadata": {},
     "output_type": "execute_result"
    }
   ],
   "source": [
    "name_list != ['김강현', '김강현', '황현', '남세원', '최흥선', '김현선', '함중아']"
   ]
  },
  {
   "cell_type": "markdown",
   "id": "6f8dc594",
   "metadata": {},
   "source": [
    "### 리스트 연산"
   ]
  },
  {
   "cell_type": "markdown",
   "id": "846288a5",
   "metadata": {},
   "source": [
    "문자열을 포함하여 여기서 소개하는 리스트와 튜플,\n",
    "그리고 다음 장에서 소개하는 사전, 집합에 대해서\n",
    "`in` 연산자를 이용하여 항목의 포함 여부를 확인한다."
   ]
  },
  {
   "cell_type": "markdown",
   "id": "c5984f75-6dbb-411d-90b8-56e5bb23b279",
   "metadata": {},
   "source": [
    "**`in` 연산자**"
   ]
  },
  {
   "cell_type": "markdown",
   "id": "d0db8c3a",
   "metadata": {},
   "source": [
    "예를 들어 3은 `one2five` 리스트에 포함되어 있다."
   ]
  },
  {
   "cell_type": "code",
   "execution_count": 18,
   "id": "1deda97c-fb46-46d7-aba3-8d2ef4366928",
   "metadata": {},
   "outputs": [
    {
     "data": {
      "text/plain": [
       "True"
      ]
     },
     "execution_count": 18,
     "metadata": {},
     "output_type": "execute_result"
    }
   ],
   "source": [
    "3 in [1, 2, 3, 4, 5]"
   ]
  },
  {
   "cell_type": "markdown",
   "id": "ef814444",
   "metadata": {},
   "source": [
    "반면에 이강현이란 이름은 김강현의 정보를 담은 리스트인 `kgh`에 포함되어 있지 않다."
   ]
  },
  {
   "cell_type": "code",
   "execution_count": 19,
   "id": "342e2994-0594-49e3-8bcf-b6367c8acb09",
   "metadata": {},
   "outputs": [
    {
     "data": {
      "text/plain": [
       "False"
      ]
     },
     "execution_count": 19,
     "metadata": {},
     "output_type": "execute_result"
    }
   ],
   "source": [
    "'이강현' in name_list"
   ]
  },
  {
   "cell_type": "markdown",
   "id": "ffd171e3",
   "metadata": {},
   "source": [
    "물론 김강현은 들어 있다."
   ]
  },
  {
   "cell_type": "code",
   "execution_count": 20,
   "id": "916f0899",
   "metadata": {},
   "outputs": [
    {
     "data": {
      "text/plain": [
       "True"
      ]
     },
     "execution_count": 20,
     "metadata": {},
     "output_type": "execute_result"
    }
   ],
   "source": [
    "'김강현' in name_list"
   ]
  },
  {
   "cell_type": "markdown",
   "id": "32530ec3",
   "metadata": {},
   "source": [
    "**`+`와 `*` 연산자**"
   ]
  },
  {
   "cell_type": "markdown",
   "id": "c1980e07",
   "metadata": {},
   "source": [
    "문자열, 리스트, 튜플 세 종류의 시퀀스 자료형 모두 이어붙이기 연산(`+`)과 복제 연산(`*`)을 지원한다.\n",
    "먼저, `+` 연산자는 리스트 두 개를 이어붙여서 새로운 리스트를 생성한다."
   ]
  },
  {
   "cell_type": "code",
   "execution_count": 21,
   "id": "dd7f79c6",
   "metadata": {},
   "outputs": [
    {
     "data": {
      "text/plain": [
       "['a', 'b', 'c', 'd', 'e']"
      ]
     },
     "execution_count": 21,
     "metadata": {},
     "output_type": "execute_result"
    }
   ],
   "source": [
    "['a', 'b'] + ['c', 'd', 'e']"
   ]
  },
  {
   "cell_type": "markdown",
   "id": "05bfddf6",
   "metadata": {},
   "source": [
    "`*` 연산자는 리스트와 양의 정수를 대상으로 하며 리스트를 지정된 정수 만큼 복제해서 이어붙이는 방식으로 새로운 리스트를 생성한다.\n",
    "정수와 리스트의 순서는 상관 없다."
   ]
  },
  {
   "cell_type": "code",
   "execution_count": 22,
   "id": "fbb4ade4",
   "metadata": {},
   "outputs": [
    {
     "data": {
      "text/plain": [
       "['a', 'b', 'c', 'a', 'b', 'c', 'a', 'b', 'c']"
      ]
     },
     "execution_count": 22,
     "metadata": {},
     "output_type": "execute_result"
    }
   ],
   "source": [
    "a2c = ['a', 'b', 'c']\n",
    "\n",
    "a2c * 3"
   ]
  },
  {
   "cell_type": "code",
   "execution_count": 23,
   "id": "77ba5c16",
   "metadata": {},
   "outputs": [
    {
     "data": {
      "text/plain": [
       "[1, 2, 3, 4, 5, 1, 2, 3, 4, 5]"
      ]
     },
     "execution_count": 23,
     "metadata": {},
     "output_type": "execute_result"
    }
   ],
   "source": [
    "2 * one2five"
   ]
  },
  {
   "cell_type": "markdown",
   "id": "4d80b453",
   "metadata": {},
   "source": [
    "### 인덱싱과 슬라이싱"
   ]
  },
  {
   "cell_type": "markdown",
   "id": "fcf82ff3-bf87-4f8d-81f9-76c6aea2fe57",
   "metadata": {},
   "source": [
    "문자열, 리스트, 튜플 등 모든 시퀀스 자료형은 대괄호와 정수를 사용하는 인덱싱과 슬라이싱을 지원하며,\n",
    "사용 방식도 거의 동일하다."
   ]
  },
  {
   "cell_type": "markdown",
   "id": "c1a425dc",
   "metadata": {},
   "source": [
    "**인덱싱**"
   ]
  },
  {
   "cell_type": "markdown",
   "id": "92eb8053",
   "metadata": {},
   "source": [
    "리스트 인덱싱은 정수 인덱스가 가리키는 위치의 항목을 확인하거나 수정할 때 사용한다.\n",
    "예를 들어 김강현의 정보를 담은 리스트 `kgh` 에서 이름은 0번 인덱스에 위치한다."
   ]
  },
  {
   "cell_type": "code",
   "execution_count": 24,
   "id": "7dd2dd70",
   "metadata": {},
   "outputs": [
    {
     "name": "stdout",
     "output_type": "stream",
     "text": [
      "['김강현', '010-1234-5678', 20, 172.3, '제주']\n"
     ]
    }
   ],
   "source": [
    "print(kgh)"
   ]
  },
  {
   "cell_type": "code",
   "execution_count": 25,
   "id": "a3a5a245",
   "metadata": {},
   "outputs": [
    {
     "data": {
      "text/plain": [
       "'김강현'"
      ]
     },
     "execution_count": 25,
     "metadata": {},
     "output_type": "execute_result"
    }
   ],
   "source": [
    "kgh[0]"
   ]
  },
  {
   "cell_type": "markdown",
   "id": "19fc0746",
   "metadata": {},
   "source": [
    "김강현의 전화번호는 1번 인덱스에 위치한다."
   ]
  },
  {
   "cell_type": "code",
   "execution_count": 26,
   "id": "c0a225e6",
   "metadata": {},
   "outputs": [
    {
     "data": {
      "text/plain": [
       "'010-1234-5678'"
      ]
     },
     "execution_count": 26,
     "metadata": {},
     "output_type": "execute_result"
    }
   ],
   "source": [
    "kgh[1]"
   ]
  },
  {
   "cell_type": "markdown",
   "id": "72b8de7e",
   "metadata": {},
   "source": [
    "-1, -2, -3 등 음수 인덱스는 리스트 오른쪽에서부터 위치를 찾는다.\n",
    "따라서 김강현의 출생지는 -1번 인덱스로 확인한다."
   ]
  },
  {
   "cell_type": "code",
   "execution_count": 27,
   "id": "30bd19d4",
   "metadata": {},
   "outputs": [
    {
     "data": {
      "text/plain": [
       "'제주'"
      ]
     },
     "execution_count": 27,
     "metadata": {},
     "output_type": "execute_result"
    }
   ],
   "source": [
    "kgh[-1]"
   ]
  },
  {
   "cell_type": "markdown",
   "id": "efaeace8",
   "metadata": {},
   "source": [
    "-1번 인덱스는 리스트의 길이에서 1을 뺀 인덱스와 동일한 위치를 가리킨다.\n",
    "즉, 다음이 성립한다."
   ]
  },
  {
   "cell_type": "code",
   "execution_count": 28,
   "id": "695e1396",
   "metadata": {},
   "outputs": [
    {
     "data": {
      "text/plain": [
       "True"
      ]
     },
     "execution_count": 28,
     "metadata": {},
     "output_type": "execute_result"
    }
   ],
   "source": [
    "kgh_last_index = len(kgh) - 1\n",
    "kgh[kgh_last_index] == kgh[-1]"
   ]
  },
  {
   "cell_type": "markdown",
   "id": "7d13538a",
   "metadata": {},
   "source": [
    "김강현의 키는 리스트의 오른쪽 끝에서 두 번째 항목이기에 -2번 인덱스로 확인된다."
   ]
  },
  {
   "cell_type": "code",
   "execution_count": 29,
   "id": "2d2e135f",
   "metadata": {},
   "outputs": [
    {
     "data": {
      "text/plain": [
       "172.3"
      ]
     },
     "execution_count": 29,
     "metadata": {},
     "output_type": "execute_result"
    }
   ],
   "source": [
    "kgh[-2]"
   ]
  },
  {
   "cell_type": "markdown",
   "id": "e93c2a13",
   "metadata": {},
   "source": [
    "리스트는 항목을 수정할 수 있는 가변 자료형이며\n",
    "인덱싱을 이용하여 특정 위치의 항목을 수정할 수 있다.\n",
    "예를 들어 아래 코드는 김강현의 출생지를 제주가 아닌 제주시로 수정한다."
   ]
  },
  {
   "cell_type": "code",
   "execution_count": 30,
   "id": "7eb5a8d2",
   "metadata": {},
   "outputs": [],
   "source": [
    "kgh[kgh_last_index] = '제주시' # kgh의 마지막 인덱스에 '제주시'를 수정"
   ]
  },
  {
   "cell_type": "markdown",
   "id": "fd26a66c",
   "metadata": {},
   "source": [
    "물론 -1번 인덱스도 사용할 수 있다."
   ]
  },
  {
   "cell_type": "code",
   "execution_count": 31,
   "id": "fd0f5964",
   "metadata": {},
   "outputs": [],
   "source": [
    "kgh[-1] = '제주시'"
   ]
  },
  {
   "cell_type": "markdown",
   "id": "9d07b9e6",
   "metadata": {},
   "source": [
    "김강현의 출생지 정보가 제주시로 변경되었다."
   ]
  },
  {
   "cell_type": "code",
   "execution_count": 32,
   "id": "e94adebe",
   "metadata": {},
   "outputs": [
    {
     "data": {
      "text/plain": [
       "['김강현', '010-1234-5678', 20, 172.3, '제주시']"
      ]
     },
     "execution_count": 32,
     "metadata": {},
     "output_type": "execute_result"
    }
   ],
   "source": [
    "kgh"
   ]
  },
  {
   "cell_type": "markdown",
   "id": "4b18d570",
   "metadata": {},
   "source": [
    "**인덱스 허용 범위**"
   ]
  },
  {
   "cell_type": "markdown",
   "id": "fddfb670",
   "metadata": {},
   "source": [
    "리스트 인덱싱에 사용되는 인덱스는 리스트의 길이에 의해 결정된다.\n",
    "예를 들어 김강현의 정보를 담은 리스트의 길이가 5이기 때문에 \n",
    "-5부터 4까지의 정수만 인덱싱에 허용된다.\n",
    "지정된 범위를 벗어난 인덱스를 사용하면 \n",
    "지정된 인덱스의 범위를 벗어났다(list index out of range)는\n",
    "설명과 함께 `IndexError`오류가 발생한다."
   ]
  },
  {
   "cell_type": "code",
   "execution_count": 33,
   "id": "f02c21c5",
   "metadata": {},
   "outputs": [
    {
     "ename": "IndexError",
     "evalue": "list index out of range",
     "output_type": "error",
     "traceback": [
      "\u001b[0;31m---------------------------------------------------------------------------\u001b[0m",
      "\u001b[0;31mIndexError\u001b[0m                                Traceback (most recent call last)",
      "Cell \u001b[0;32mIn[33], line 1\u001b[0m\n\u001b[0;32m----> 1\u001b[0m kgh[\u001b[38;5;241m5\u001b[39m]\n",
      "\u001b[0;31mIndexError\u001b[0m: list index out of range"
     ]
    }
   ],
   "source": [
    "kgh[5]"
   ]
  },
  {
   "cell_type": "markdown",
   "id": "c63e5042",
   "metadata": {},
   "source": [
    "**슬라이싱**"
   ]
  },
  {
   "cell_type": "markdown",
   "id": "274a93b5",
   "metadata": {},
   "source": [
    "슬라이싱은 두 개의 인덱스로 지정된 구간에 포함된 항목들을 확인하거나 수정할 때 사용한다.\n",
    "경우에 따라 몇 걸음씩 건너뛸지 지정하기도 한다. \n",
    "\n",
    "- 시작 인덱스: 슬라이싱 구간 시작 인덱스. 생략되면 0을 기본값으로 사용.\n",
    "- 끝 인덱스: 슬라이싱 구간 끝 인덱스. 이 인덱스 이전 인덱스까지 항목 확인. 생략되면 오른쪽 끝까지를 의미함.\n",
    "- 보폭: 구간 시작부터 몇 개씩 건너뛰며 항목을 확인할 것인지 결정. 보폭이 1이면 생략 가능.\n",
    "\n",
    "예를 들어 김강현의 이름, 전화번호, 나이, 키는 0번부터 3번 인덱스에 위치하기에\n",
    "대괄호 안에 `0:4`를 입력하여 0번 인덱스부터 4번 인덱스 이전인 3번 인덱스의 항목으로\n",
    "구성된 리스트가 확인된다."
   ]
  },
  {
   "cell_type": "code",
   "execution_count": 34,
   "id": "faaeb17b",
   "metadata": {},
   "outputs": [
    {
     "data": {
      "text/plain": [
       "['김강현', '010-1234-5678', 20, 172.3]"
      ]
     },
     "execution_count": 34,
     "metadata": {},
     "output_type": "execute_result"
    }
   ],
   "source": [
    "kgh[0:4]"
   ]
  },
  {
   "cell_type": "markdown",
   "id": "757ceb6a",
   "metadata": {},
   "source": [
    "보폭이 1인 경우와 동일하다."
   ]
  },
  {
   "cell_type": "code",
   "execution_count": 35,
   "id": "a40bcfb3",
   "metadata": {},
   "outputs": [
    {
     "data": {
      "text/plain": [
       "['김강현', '010-1234-5678', 20, 172.3]"
      ]
     },
     "execution_count": 35,
     "metadata": {},
     "output_type": "execute_result"
    }
   ],
   "source": [
    "kgh[0:4:1]"
   ]
  },
  {
   "cell_type": "markdown",
   "id": "b37ed9cc",
   "metadata": {},
   "source": [
    "시작 인덱스가 0이면 생략해도 된다. 단 콜론은 그대로 둬야 한다."
   ]
  },
  {
   "cell_type": "code",
   "execution_count": 36,
   "id": "3ea95200",
   "metadata": {},
   "outputs": [
    {
     "data": {
      "text/plain": [
       "['김강현', '010-1234-5678', 20, 172.3]"
      ]
     },
     "execution_count": 36,
     "metadata": {},
     "output_type": "execute_result"
    }
   ],
   "source": [
    "kgh[:4]"
   ]
  },
  {
   "cell_type": "markdown",
   "id": "4630ebd3",
   "metadata": {},
   "source": [
    "슬라이싱의 결과는 항상 리스트이다.\n",
    "구간의 크기가 1이라 해도 그렇다.\n",
    "예를 들어 아래 코드는 김강현의 전화번호로만 구성되어 길이가 1인 리스트가 확인된다."
   ]
  },
  {
   "cell_type": "code",
   "execution_count": 37,
   "id": "8b4effdf-8818-424a-82f6-22c0f11ac538",
   "metadata": {},
   "outputs": [
    {
     "data": {
      "text/plain": [
       "['010-1234-5678']"
      ]
     },
     "execution_count": 37,
     "metadata": {},
     "output_type": "execute_result"
    }
   ],
   "source": [
    "kgh[1:2]"
   ]
  },
  {
   "cell_type": "markdown",
   "id": "704ac345",
   "metadata": {},
   "source": [
    "보폭을 1보다 크게 지정하면 지정된 보폭만큼 건너 뛰며 항목을 확인한 결과를 리스트로 보여준다.\n",
    "예를 들어 김강현의 전화번오와 키를 함께 확인하려면 1번과 3번 인덱스를 확인해야 하기에\n",
    "다음과 같이 보폭을 2로 지정한다."
   ]
  },
  {
   "cell_type": "code",
   "execution_count": 38,
   "id": "6d2edf5f",
   "metadata": {},
   "outputs": [
    {
     "data": {
      "text/plain": [
       "['010-1234-5678', 172.3]"
      ]
     },
     "execution_count": 38,
     "metadata": {},
     "output_type": "execute_result"
    }
   ],
   "source": [
    "kgh[1:4:2]"
   ]
  },
  {
   "cell_type": "markdown",
   "id": "fa85a1f3",
   "metadata": {},
   "source": [
    "이름과 키를 확인하려면 0번부터 끝까지를 구간으로 하면서 보폭을 3으로 지정한다. "
   ]
  },
  {
   "cell_type": "code",
   "execution_count": 39,
   "id": "6a4f8c33",
   "metadata": {},
   "outputs": [
    {
     "data": {
      "text/plain": [
       "['김강현', 172.3]"
      ]
     },
     "execution_count": 39,
     "metadata": {},
     "output_type": "execute_result"
    }
   ],
   "source": [
    "kgh[0::3]"
   ]
  },
  {
   "cell_type": "markdown",
   "id": "008511c9",
   "metadata": {},
   "source": [
    "시작 인덱스를 생략해도 된다."
   ]
  },
  {
   "cell_type": "code",
   "execution_count": 40,
   "id": "ff839bfe",
   "metadata": {},
   "outputs": [
    {
     "data": {
      "text/plain": [
       "['김강현', 172.3]"
      ]
     },
     "execution_count": 40,
     "metadata": {},
     "output_type": "execute_result"
    }
   ],
   "source": [
    "kgh[::3]"
   ]
  },
  {
   "cell_type": "markdown",
   "id": "89ebfcae",
   "metadata": {},
   "source": [
    "리스트 전체를 대상으로 슬라이싱하려면 아래와 같이 한다."
   ]
  },
  {
   "cell_type": "code",
   "execution_count": 41,
   "id": "a2fd86ba",
   "metadata": {},
   "outputs": [
    {
     "data": {
      "text/plain": [
       "['김강현', '010-1234-5678', 20, 172.3, '제주시']"
      ]
     },
     "execution_count": 41,
     "metadata": {},
     "output_type": "execute_result"
    }
   ],
   "source": [
    "kgh[:]"
   ]
  },
  {
   "cell_type": "markdown",
   "id": "8723ac84",
   "metadata": {},
   "source": [
    "또는"
   ]
  },
  {
   "cell_type": "code",
   "execution_count": 42,
   "id": "3b5f9dea",
   "metadata": {},
   "outputs": [
    {
     "data": {
      "text/plain": [
       "['김강현', '010-1234-5678', 20, 172.3, '제주시']"
      ]
     },
     "execution_count": 42,
     "metadata": {},
     "output_type": "execute_result"
    }
   ],
   "source": [
    "kgh[::] # kgh 전체 대상 슬라이싱. 스텝은 1이 기본값."
   ]
  },
  {
   "cell_type": "markdown",
   "id": "d9059acf",
   "metadata": {},
   "source": [
    "슬라이싱에 리스트의 크기를 벗어나는 인덱스를 사용하더라도 오류가 발생하지 않는다.\n",
    "대신 허용되는 인덱스의 구간에 대해서만 슬라이싱이 적용된다.\n",
    "아래 코드는 5번 인덱스부터 9번 인덱스까지 확인하려 하지만 해당 인덱스의 위치를\n",
    "찾을 수 없기에 빈 리스트를 생성한다."
   ]
  },
  {
   "cell_type": "code",
   "execution_count": 43,
   "id": "d5f1792c",
   "metadata": {},
   "outputs": [
    {
     "data": {
      "text/plain": [
       "[]"
      ]
     },
     "execution_count": 43,
     "metadata": {},
     "output_type": "execute_result"
    }
   ],
   "source": [
    "kgh[5:10]"
   ]
  },
  {
   "cell_type": "markdown",
   "id": "ef963650",
   "metadata": {},
   "source": [
    "아래 코드는 0번 인덱스부터 7번 인덱스까지 확인하려 하지만 결국엔 4번 인덱스까지만 확인하게 된다."
   ]
  },
  {
   "cell_type": "code",
   "execution_count": 44,
   "id": "15edf461",
   "metadata": {},
   "outputs": [
    {
     "data": {
      "text/plain": [
       "['김강현', '010-1234-5678', 20, 172.3, '제주시']"
      ]
     },
     "execution_count": 44,
     "metadata": {},
     "output_type": "execute_result"
    }
   ],
   "source": [
    "kgh[0:8]"
   ]
  },
  {
   "cell_type": "markdown",
   "id": "7def74af",
   "metadata": {},
   "source": [
    "보폭을 2 이상으로 지정해도 허용된 인덱스의 범위를 벗어난 인덱스는 무시된다."
   ]
  },
  {
   "cell_type": "code",
   "execution_count": 45,
   "id": "ec08ad9a",
   "metadata": {},
   "outputs": [
    {
     "data": {
      "text/plain": [
       "['김강현', 20, '제주시']"
      ]
     },
     "execution_count": 45,
     "metadata": {},
     "output_type": "execute_result"
    }
   ],
   "source": [
    "kgh[0:8:2]"
   ]
  },
  {
   "cell_type": "markdown",
   "id": "0ef3af37",
   "metadata": {},
   "source": [
    "**역순 슬라이싱**"
   ]
  },
  {
   "cell_type": "markdown",
   "id": "6dfc21fa",
   "metadata": {},
   "source": [
    "슬라이싱은 기본적으로 작은 인덱스에서 큰 인덱스 방향으로 확인한다. \n",
    "음수 보폭을 지정하면 큰 인덱스에서 작은 인덱스 방향으로 움직이는 역순 슬라이싱이 실행된다.\n",
    "\n",
    "\n",
    "예를 들어, 아래 코드는 보폭이 -1이고, 시작 인덱스와 끝 인덱스를 생략하면 문자열 전체를 역순으로 확인한다.\n",
    "이 기법은 리스트 항목들의 순서를 뒤집는 데에 자주 활용된다."
   ]
  },
  {
   "cell_type": "code",
   "execution_count": 46,
   "id": "befbf4a2",
   "metadata": {},
   "outputs": [
    {
     "data": {
      "text/plain": [
       "['제주시', 172.3, 20, '010-1234-5678', '김강현']"
      ]
     },
     "execution_count": 46,
     "metadata": {},
     "output_type": "execute_result"
    }
   ],
   "source": [
    "kgh[:: -1]"
   ]
  },
  {
   "cell_type": "markdown",
   "id": "0b0166c5",
   "metadata": {},
   "source": [
    "보폭이 음수이면서 시작 인덱스가 끝 인덱스보다 작으면 빈 리스트가 생성된다."
   ]
  },
  {
   "cell_type": "code",
   "execution_count": 47,
   "id": "f06509a9",
   "metadata": {},
   "outputs": [
    {
     "data": {
      "text/plain": [
       "[]"
      ]
     },
     "execution_count": 47,
     "metadata": {},
     "output_type": "execute_result"
    }
   ],
   "source": [
    "kgh[2:5:-1]"
   ]
  },
  {
   "cell_type": "markdown",
   "id": "887de005",
   "metadata": {},
   "source": [
    "시작 인덱스가 끝 인덱스보다 크면 구간의 오른쪽부터 항목을 확인한다 점만 다를 뿐이다.\n",
    "아래 코드는 -2번 인덱스부터 왼쪽으로 두 걸음씩 건너 뛰며 슬라이싱을 진행한다.\n",
    "역순 인덱싱에서 끝 인덱스가 생략되면 왼쪽 끝까지를 의미힌다."
   ]
  },
  {
   "cell_type": "code",
   "execution_count": 48,
   "id": "495293c8",
   "metadata": {},
   "outputs": [
    {
     "data": {
      "text/plain": [
       "[172.3, '010-1234-5678']"
      ]
     },
     "execution_count": 48,
     "metadata": {},
     "output_type": "execute_result"
    }
   ],
   "source": [
    "kgh[-2::-2]"
   ]
  },
  {
   "cell_type": "markdown",
   "id": "2dee6681",
   "metadata": {},
   "source": [
    "**구간 수정**"
   ]
  },
  {
   "cell_type": "markdown",
   "id": "b6a3af7b",
   "metadata": {},
   "source": [
    "슬라이싱을 이용하여 리스트의 지정된 구간을 다른 리스트로 대체할 수 있다.\n",
    "아래 코드는 김강현의 키와 출생지를 동시에 수정한다."
   ]
  },
  {
   "cell_type": "code",
   "execution_count": 49,
   "id": "3838eead-09d1-48bf-af64-b50951b7f8d9",
   "metadata": {},
   "outputs": [
    {
     "data": {
      "text/plain": [
       "['김강현', '010-1234-5678', 20, 172.5, '제주']"
      ]
     },
     "execution_count": 49,
     "metadata": {},
     "output_type": "execute_result"
    }
   ],
   "source": [
    "kgh[3:] = [172.5, '제주']\n",
    "\n",
    "kgh"
   ]
  },
  {
   "cell_type": "markdown",
   "id": "b544f8ad",
   "metadata": {},
   "source": [
    "슬라이싱 구간의 크기와 새롭게 대체하는 리스트의 크기가 다를 수 있다.\n",
    "설명을 위해 다음 리스트를 이용한다."
   ]
  },
  {
   "cell_type": "code",
   "execution_count": 50,
   "id": "29d4bc10",
   "metadata": {},
   "outputs": [],
   "source": [
    "a2f = ['a', 'b', 'c', 'd', 'e', 'f']"
   ]
  },
  {
   "cell_type": "markdown",
   "id": "de883745",
   "metadata": {},
   "source": [
    "소문자 c와 d를 대문자 C와 D로 수정하고 곧바로 대문자 X를 추가하고자 한다면\n",
    "2번, 3번 인덱스 구간을 슬라이싱하면서 동시에 값을 다음과 같이 3개 지정하면 된다."
   ]
  },
  {
   "cell_type": "code",
   "execution_count": 51,
   "id": "f3fa5d98",
   "metadata": {},
   "outputs": [
    {
     "data": {
      "text/plain": [
       "['a', 'b', 'C', 'D', 'Z', 'e', 'f']"
      ]
     },
     "execution_count": 51,
     "metadata": {},
     "output_type": "execute_result"
    }
   ],
   "source": [
    "a2f[2:4] = ['C', 'D', 'Z']\n",
    "a2f"
   ]
  },
  {
   "cell_type": "markdown",
   "id": "66d8a6f5",
   "metadata": {},
   "source": [
    "만약 보폭을 2이상으로 지정하면 슬라이싱된 항목의 개수와 새롭게 지정된 리스트의 길이가 같아야 한다.\n",
    "아래 코드는 홀수 인덱스에 위치한 항목을 모두 해당 인덱스로 대체한다."
   ]
  },
  {
   "cell_type": "code",
   "execution_count": 52,
   "id": "c6808ebc",
   "metadata": {},
   "outputs": [
    {
     "data": {
      "text/plain": [
       "['a', 1, 'C', 3, 'Z', 5, 'f']"
      ]
     },
     "execution_count": 52,
     "metadata": {},
     "output_type": "execute_result"
    }
   ],
   "source": [
    "a2f[1::2] = [1, 3, 5]\n",
    "a2f"
   ]
  },
  {
   "cell_type": "markdown",
   "id": "6b9e6f4a",
   "metadata": {},
   "source": [
    "보폭이 1이 아닌 경우 \n",
    "대체 리스트의 길이가 슬라이싱된 항목의 개수와 다르면 두 리스트의 크기가 다르다는 설명과 함께 `ValueError`가 발생한다.\n",
    "아래 코드는 슬라이싱된 항목은 2개이지만 길이가 3인 리스트를 대체 리스트로 지정하기에 오류가 발생한다."
   ]
  },
  {
   "cell_type": "code",
   "execution_count": 53,
   "id": "7ddf9bee",
   "metadata": {
    "scrolled": true
   },
   "outputs": [
    {
     "ename": "ValueError",
     "evalue": "attempt to assign sequence of size 3 to extended slice of size 2",
     "output_type": "error",
     "traceback": [
      "\u001b[0;31m---------------------------------------------------------------------------\u001b[0m",
      "\u001b[0;31mValueError\u001b[0m                                Traceback (most recent call last)",
      "Cell \u001b[0;32mIn[53], line 1\u001b[0m\n\u001b[0;32m----> 1\u001b[0m a2f[:\u001b[38;5;241m3\u001b[39m:\u001b[38;5;241m2\u001b[39m] \u001b[38;5;241m=\u001b[39m [\u001b[38;5;124m'\u001b[39m\u001b[38;5;124mX\u001b[39m\u001b[38;5;124m'\u001b[39m, \u001b[38;5;124m'\u001b[39m\u001b[38;5;124mY\u001b[39m\u001b[38;5;124m'\u001b[39m, \u001b[38;5;124m'\u001b[39m\u001b[38;5;124mZ\u001b[39m\u001b[38;5;124m'\u001b[39m]\n",
      "\u001b[0;31mValueError\u001b[0m: attempt to assign sequence of size 3 to extended slice of size 2"
     ]
    }
   ],
   "source": [
    "a2f[:3:2] = ['X', 'Y', 'Z']"
   ]
  },
  {
   "cell_type": "markdown",
   "id": "9a1694f9",
   "metadata": {},
   "source": [
    "### 중첩 리스트의 인덱싱/슬라이싱/반복문"
   ]
  },
  {
   "cell_type": "markdown",
   "id": "a2a3610b",
   "metadata": {},
   "source": [
    "중첩 리스트는 리스트의 항목 또한 리스트이기 때문에 \n",
    "항목의 항목을 확인/추출/변경 하려면 인덱싱, 슬라이싱, `for` 반복문을\n",
    "연속적으로 또는중첩해서 적용해야 한다."
   ]
  },
  {
   "cell_type": "markdown",
   "id": "82af0492",
   "metadata": {},
   "source": [
    "**인덱싱 연속 적용**"
   ]
  },
  {
   "cell_type": "markdown",
   "id": "33862a8c",
   "metadata": {},
   "source": [
    "예를 들어 김강현의 이름은 `info_list`의 첫째 항목 리스트의 첫째 항목이다."
   ]
  },
  {
   "cell_type": "code",
   "execution_count": 54,
   "id": "02c3cb9f",
   "metadata": {},
   "outputs": [
    {
     "data": {
      "text/plain": [
       "[['김강현', '010-1234-5678', 20, 172.5, '제주'],\n",
       " ['황현', '02-9871-1234', 19, 163.5, '서울'],\n",
       " ['남세원', '010-3456-7891', 21, 156.7, '경기'],\n",
       " ['최흥선', '070-4321-1111', 21, 187.2, '부산'],\n",
       " ['김현선', '010-3333-8888', 22, 164.6, '광주'],\n",
       " ['함중아', '010-7654-2345', 18, 178.3, '강원']]"
      ]
     },
     "execution_count": 54,
     "metadata": {},
     "output_type": "execute_result"
    }
   ],
   "source": [
    "info_list"
   ]
  },
  {
   "cell_type": "markdown",
   "id": "d6ea4243",
   "metadata": {},
   "source": [
    "따라서 김강현의 이름은 다음과 같이 확인한다."
   ]
  },
  {
   "cell_type": "code",
   "execution_count": 55,
   "id": "bf35f44d",
   "metadata": {},
   "outputs": [
    {
     "data": {
      "text/plain": [
       "'김강현'"
      ]
     },
     "execution_count": 55,
     "metadata": {},
     "output_type": "execute_result"
    }
   ],
   "source": [
    "kgh_name = info_list[0]\n",
    "kgh_name[0]"
   ]
  },
  {
   "cell_type": "markdown",
   "id": "65670354",
   "metadata": {},
   "source": [
    "인덱싱을 연속 적용하는 과정을 다음과 같이 줄여서 하나의 표현식으로 나타낼 수 있다."
   ]
  },
  {
   "cell_type": "code",
   "execution_count": 56,
   "id": "e2db713f",
   "metadata": {},
   "outputs": [
    {
     "data": {
      "text/plain": [
       "'김강현'"
      ]
     },
     "execution_count": 56,
     "metadata": {},
     "output_type": "execute_result"
    }
   ],
   "source": [
    "info_list[0][0]"
   ]
  },
  {
   "cell_type": "markdown",
   "id": "073e80ae",
   "metadata": {},
   "source": [
    "반면에 아래 코드는 황현의 이름과 나이를 확인한다."
   ]
  },
  {
   "cell_type": "code",
   "execution_count": 57,
   "id": "34e85615",
   "metadata": {},
   "outputs": [
    {
     "name": "stdout",
     "output_type": "stream",
     "text": [
      "황현의 나이: 19세\n"
     ]
    }
   ],
   "source": [
    "hwang_name = info_list[1][0]\n",
    "hwang_age = info_list[1][2]\n",
    "\n",
    "print(f\"{hwang_name}의 나이: {hwang_age}세\")"
   ]
  },
  {
   "cell_type": "markdown",
   "id": "8693a053",
   "metadata": {},
   "source": [
    "**인덱싱과 슬라이싱 연속 적용**"
   ]
  },
  {
   "cell_type": "markdown",
   "id": "ff2fbba3",
   "metadata": {},
   "source": [
    "인덱싱과 슬라이싱을 조합해서 연속 적용할 수 있다.\n",
    "아래 코드는 홀수 인덱스에 위치한 황현, 최흥선, 함중아의 나이만 확인한다."
   ]
  },
  {
   "cell_type": "code",
   "execution_count": 58,
   "id": "670abd73",
   "metadata": {},
   "outputs": [
    {
     "name": "stdout",
     "output_type": "stream",
     "text": [
      "황현:\t19세\n",
      "최흥선:\t21세\n",
      "함중아:\t18세\n"
     ]
    }
   ],
   "source": [
    "for person in info_list[1::2]:\n",
    "    print(f\"{person[0]}:\\t{person[2]}세\")"
   ]
  },
  {
   "cell_type": "markdown",
   "id": "2b3b826e",
   "metadata": {},
   "source": [
    "반면에 아래 코드는 4번 인덱스에 위치한 김현선의 이름, 전화번호, 나이를 확인한다."
   ]
  },
  {
   "cell_type": "code",
   "execution_count": 59,
   "id": "1c3a49e8",
   "metadata": {},
   "outputs": [
    {
     "data": {
      "text/plain": [
       "['김현선', '010-3333-8888', 22]"
      ]
     },
     "execution_count": 59,
     "metadata": {},
     "output_type": "execute_result"
    }
   ],
   "source": [
    "info_list[4][:3]"
   ]
  },
  {
   "cell_type": "markdown",
   "id": "a2264c50",
   "metadata": {},
   "source": [
    "**중첩 반복문**"
   ]
  },
  {
   "cell_type": "markdown",
   "id": "4d64529b",
   "metadata": {},
   "source": [
    "2중으로 중첩된 `for` 반복문을 사용하여 6명 각자의 정보를 일일이 나열할 수 있다."
   ]
  },
  {
   "cell_type": "code",
   "execution_count": 60,
   "id": "d9129d9c",
   "metadata": {},
   "outputs": [
    {
     "name": "stdout",
     "output_type": "stream",
     "text": [
      "김강현\n",
      "010-1234-5678\n",
      "20\n",
      "172.5\n",
      "제주\n",
      "\n",
      "황현\n",
      "02-9871-1234\n",
      "19\n",
      "163.5\n",
      "서울\n",
      "\n",
      "남세원\n",
      "010-3456-7891\n",
      "21\n",
      "156.7\n",
      "경기\n",
      "\n",
      "최흥선\n",
      "070-4321-1111\n",
      "21\n",
      "187.2\n",
      "부산\n",
      "\n",
      "김현선\n",
      "010-3333-8888\n",
      "22\n",
      "164.6\n",
      "광주\n",
      "\n",
      "함중아\n",
      "010-7654-2345\n",
      "18\n",
      "178.3\n",
      "강원\n",
      "\n"
     ]
    }
   ],
   "source": [
    "for person in info_list:  # 6명 모두를 대상으로 반복\n",
    "    for item in person:\n",
    "        print(item)       # 한 사람의 모든 정보 출력. 항목들 사이는 탭으로 구분\n",
    "\n",
    "    print()               # 사람들 사이의 구분을 위해 줄 바꿈"
   ]
  },
  {
   "cell_type": "markdown",
   "id": "1be907dd",
   "metadata": {},
   "source": [
    "`print()` 함수의 `end='\\n'` 키워드 옵션을 변경하여 한 줄에 한 사람 정보를 모두 출력할 수 있다."
   ]
  },
  {
   "cell_type": "code",
   "execution_count": 61,
   "id": "a33656f4",
   "metadata": {},
   "outputs": [
    {
     "name": "stdout",
     "output_type": "stream",
     "text": [
      "김강현\t010-1234-5678\t20\t172.5\t제주\t\n",
      "황현\t02-9871-1234\t19\t163.5\t서울\t\n",
      "남세원\t010-3456-7891\t21\t156.7\t경기\t\n",
      "최흥선\t070-4321-1111\t21\t187.2\t부산\t\n",
      "김현선\t010-3333-8888\t22\t164.6\t광주\t\n",
      "함중아\t010-7654-2345\t18\t178.3\t강원\t\n"
     ]
    }
   ],
   "source": [
    "for person in info_list:\n",
    "    for item in person:\n",
    "        print(item, end='\\t') # 한 사람의 정보는 탭으로 구분\n",
    "\n",
    "    print()             "
   ]
  },
  {
   "cell_type": "markdown",
   "id": "1b874113",
   "metadata": {},
   "source": [
    "아래 코드는 나이가 21살인 사람의 정보만 출력한다."
   ]
  },
  {
   "cell_type": "code",
   "execution_count": 62,
   "id": "1df99aac",
   "metadata": {},
   "outputs": [
    {
     "name": "stdout",
     "output_type": "stream",
     "text": [
      "남세원\t010-3456-7891\t21\t156.7\t경기\t\n",
      "최흥선\t070-4321-1111\t21\t187.2\t부산\t\n"
     ]
    }
   ],
   "source": [
    "for person in info_list:\n",
    "    if 21 == person[2]:           # 나이가 21살인 사람만 선택\n",
    "        for item in person:\n",
    "            print(item, end='\\t')\n",
    "    \n",
    "        print()"
   ]
  },
  {
   "cell_type": "markdown",
   "id": "dc0d3b01",
   "metadata": {},
   "source": [
    "  반면에 이름에 \"현\" 자가 포함된 사람의 정보만 출력하러면 다음과 같이 한다."
   ]
  },
  {
   "cell_type": "code",
   "execution_count": 63,
   "id": "e050a173",
   "metadata": {},
   "outputs": [
    {
     "name": "stdout",
     "output_type": "stream",
     "text": [
      "김강현\t010-1234-5678\t20\t172.5\t제주\t\n",
      "황현\t02-9871-1234\t19\t163.5\t서울\t\n",
      "김현선\t010-3333-8888\t22\t164.6\t광주\t\n"
     ]
    }
   ],
   "source": [
    "for person in info_list:\n",
    "    if '현' in person[0]: # 이름에 \"현\" 자가 포함된 사람만 선택\n",
    "        for item in person:\n",
    "            print(item, end='\\t')\n",
    "    \n",
    "        print()"
   ]
  },
  {
   "cell_type": "markdown",
   "id": "2d4dc2e9",
   "metadata": {},
   "source": [
    "\"현\"으로 끝나는 경우만 다루려면 `endswith()` 문자열 메서드를 이용한다."
   ]
  },
  {
   "cell_type": "code",
   "execution_count": 64,
   "id": "9571cd0e",
   "metadata": {},
   "outputs": [
    {
     "name": "stdout",
     "output_type": "stream",
     "text": [
      "김강현\t010-1234-5678\t20\t172.5\t제주\t\n",
      "황현\t02-9871-1234\t19\t163.5\t서울\t\n"
     ]
    }
   ],
   "source": [
    "for person in info_list:\n",
    "    if person[0].endswith('현'): # 이름이 \"현\" 자로 끝나는 사람만 선택\n",
    "        for item in person:\n",
    "            print(item, end='\\t')\n",
    "    \n",
    "        print()"
   ]
  },
  {
   "cell_type": "markdown",
   "id": "abb08a29",
   "metadata": {},
   "source": [
    "`startswith()` 문자열 메서드를 이용하여 김씨 성만 추출할 수도 있다."
   ]
  },
  {
   "cell_type": "code",
   "execution_count": 65,
   "id": "1166841e",
   "metadata": {},
   "outputs": [
    {
     "name": "stdout",
     "output_type": "stream",
     "text": [
      "김강현\t010-1234-5678\t20\t172.5\t제주\t\n",
      "김현선\t010-3333-8888\t22\t164.6\t광주\t\n"
     ]
    }
   ],
   "source": [
    "for person in info_list:\n",
    "    if person[0].startswith('김'): # 김씨 성 정보만 선택\n",
    "        for item in person:\n",
    "            print(item, end='\\t')\n",
    "    \n",
    "        print()"
   ]
  },
  {
   "cell_type": "markdown",
   "id": "2f3ba194",
   "metadata": {},
   "source": [
    "### 리스트 메서드 "
   ]
  },
  {
   "cell_type": "markdown",
   "id": "b478407f",
   "metadata": {},
   "source": [
    "모음 자료형의 기본 용도는 여러 개의 값을 모아 하나의 값으로 다루면서 \n",
    "필요에 따라 유용한 항목을 탐색하고 추출하는 기능이다.\n",
    "{numref}`%s장 <ch:strings>`에서 살펴 본 문자열 메서드처럼\n",
    "리스트 자료형에 대해서만 사용할 수 있는 함수들인 \n",
    "리스트 메서드가 다양하게 제공된다.\n",
    "\n",
    "문자열 자료형과는 달리 리스트는 변경을 허용하는 가변 자료형이기에\n",
    "항목의 탐색과 추출뿐만 아니라 항목의 추가와 삭제, 항목들의 정렬을\n",
    "수행하는 메서드도 제공된다.\n",
    "가장 활용도가 높은 리스트 메서드는 다음과 같다."
   ]
  },
  {
   "cell_type": "markdown",
   "id": "8d2c117d",
   "metadata": {},
   "source": [
    ":::{list-table} 리스트 주요 메서드\n",
    ":widths: 12 10 38\n",
    ":header-rows: 1\n",
    ":name: list-methods\n",
    "\n",
    "*   - 기능\n",
    "    - 메서드\n",
    "    - 설명\n",
    "*   - 복사\n",
    "    - `copy()`\n",
    "    - 리스트의 사본 반환.\n",
    "*   - 추가/삽입/확장\n",
    "    - `append()`\n",
    "    - 리스트 끝에 항목 추가. 반환값은 `None`\n",
    "*   - \n",
    "    - `insert()`\n",
    "    - 지정된 인덱스에 항목 삽입. 반환값은 `None`\n",
    "*   - \n",
    "    - `extend()`\n",
    "    - 다른 리스트를 연결하여 확장. 반환값은 `None`\n",
    "*   - 삭제\n",
    "    - `pop()`\n",
    "    - 지정된 인덱스의 항목 삭제 후 반환.\n",
    "*   - \n",
    "    - `remove()`\n",
    "    - 가장 왼쪽에 위치한 지정된 항목 삭제. 반환값은 `None`\n",
    "*   - 정렬\n",
    "    - `sort()`\n",
    "    - 리스트의 항목을 크기 순으로 정렬. 반환값은 `None`\n",
    "*   - \n",
    "    - `reverse()`\n",
    "    - 리스트의 항목들 순서 뒤집기. 반환값은 `None`\n",
    "*   - 탐색\n",
    "    - `count()`\n",
    "    - 리스트에서 지정된 항목이 등장한 횟수 반환\n",
    "*   -\n",
    "    - `index()`\n",
    "    - 지정된 항목이 처음 사용된 인덱스 반환\n",
    ":::"
   ]
  },
  {
   "cell_type": "markdown",
   "id": "a2add2da",
   "metadata": {},
   "source": [
    ":::{admonition} 문자열 수정 메서드\n",
    ":class: note\n",
    "\n",
    "위 표에서 반환값이 `None`이라고 명시된 메서드는 리스트 자체가 수정됨을 의미한다.\n",
    ":::"
   ]
  },
  {
   "cell_type": "markdown",
   "id": "cac47bc1",
   "metadata": {},
   "source": [
    "6명의 키와 몸무게 정보를 이용하여 비만도를 측정하는 체질량지수(BMI)를 계산해서 활용하는 과정을 통해 \n",
    "{numref}`Table %s <list-methods>`에 포함된 주요 리스트 메서드의 기능을 소개한다.\n",
    "\n",
    "6명의 기본 정보는 다음과 같다."
   ]
  },
  {
   "cell_type": "code",
   "execution_count": 66,
   "id": "6a0902d5",
   "metadata": {},
   "outputs": [
    {
     "data": {
      "text/plain": [
       "[['김강현', '010-1234-5678', 20, 172.5, '제주'],\n",
       " ['황현', '02-9871-1234', 19, 163.5, '서울'],\n",
       " ['남세원', '010-3456-7891', 21, 156.7, '경기'],\n",
       " ['최흥선', '070-4321-1111', 21, 187.2, '부산'],\n",
       " ['김현선', '010-3333-8888', 22, 164.6, '광주'],\n",
       " ['함중아', '010-7654-2345', 18, 178.3, '강원']]"
      ]
     },
     "execution_count": 66,
     "metadata": {},
     "output_type": "execute_result"
    }
   ],
   "source": [
    "info_list"
   ]
  },
  {
   "cell_type": "markdown",
   "id": "e1a489dd",
   "metadata": {},
   "source": [
    "추가로 `weight_list` 변수가 6명의 몸무게로 구성된 리스트를 가리킨다고 가정한다."
   ]
  },
  {
   "cell_type": "code",
   "execution_count": 67,
   "id": "96291e87",
   "metadata": {},
   "outputs": [],
   "source": [
    "weight_list = [65.3, 51.5, 48.0, 81.4, 53.8, 90.1]"
   ]
  },
  {
   "cell_type": "markdown",
   "id": "afbd6967",
   "metadata": {},
   "source": [
    "체질량지수는 몸무게(kg)를 키(m)의 제곱으로 나눈 값이다. \n",
    "\n",
    "$$\n",
    "\\mathrm{bmi} = \\frac{\\mathrm{몸무게(kg)}}{\\mathrm{키(m)}^2}\n",
    "$$"
   ]
  },
  {
   "cell_type": "markdown",
   "id": "f41a72c0",
   "metadata": {},
   "source": [
    "**`copy()` 메서드**"
   ]
  },
  {
   "cell_type": "markdown",
   "id": "420977ce",
   "metadata": {},
   "source": [
    "리스트는 가변 자료형이기에 인덱싱, 슬라이싱을 포함하여 아래에서 소개하는 많은 메서드에 의해\n",
    "수정될 수 있다. \n",
    "하지만 경우에 따라 주어진 리스트는 전혀 건드리지 않으면서 리스트를 이용할 필요가 있다.\n",
    "그럴 때 `copy()` 메서드로 사본을 만들어 이용한다.\n",
    "\n",
    "예를 들어, 아래 코드는 변수 `x`가 가리키는 리스트의 사본을 만들어 변수 `y`에 할당한다.\n",
    "그 다음에 `y`가 가리키는 리스트의 0번 인덱스 항목을 수정하지만 변수 `x`가 \n",
    "가리키는 리스트는 전혀 변하지 않는다."
   ]
  },
  {
   "cell_type": "code",
   "execution_count": 68,
   "id": "99eddec0",
   "metadata": {},
   "outputs": [
    {
     "name": "stdout",
     "output_type": "stream",
     "text": [
      "y: [10, 2, 3]\n",
      "x: [1, 2, 3]\n"
     ]
    }
   ],
   "source": [
    "x  = [1, 2, 3]\n",
    "y = x.copy()\n",
    "y[0] = 10      # 0번 인데스 항목 수정\n",
    "\n",
    "print(\"y:\", y) # 수정됨\n",
    "print(\"x:\", x) # 불변"
   ]
  },
  {
   "cell_type": "markdown",
   "id": "28262409",
   "metadata": {},
   "source": [
    "아래 그림은 두 변수 `x`와 `y`가 선언된 순간의 메모리 상태를 보여준다.\n",
    "`x`와 `y`가 동일하게 생겼지만 각각 서로 다른 리스트 객체를 가리킨다."
   ]
  },
  {
   "cell_type": "markdown",
   "id": "5cd3ed8d",
   "metadata": {},
   "source": [
    "<div align=\"center\" border=\"1px\"><img src=\"https://raw.githubusercontent.com/codingalzi/pybook/master/jupyter-book/images/list-copy-01.png\" width=\"800\"/></div>\n",
    "\n",
    "<p><div style=\"text-align: center\">&lt;그림 출처: <a href=\"https://pythontutor.com/render.html#code=x%20%20%3D%20%5B1,%202,%203%5D%0Ay%20%3D%20x.copy%28%29%0Ay%5B0%5D%20%3D%2010&cumulative=false&curInstr=0&heapPrimitives=nevernest&mode=display&origin=opt-frontend.js&py=3&rawInputLstJSON=%5B%5D&textReferences=false\">Python Tutor</a>&gt;</div></p>"
   ]
  },
  {
   "cell_type": "markdown",
   "id": "d83be4b7",
   "metadata": {},
   "source": [
    "아래 그림은 `y`가 가리키는 리스트의 첫째 항목이 10으로 업데이트된 이후의 메모리 상태를 보여주며,\n",
    "변수 `x`가 가리키는 리스트는 전혀 수정되지 않는다."
   ]
  },
  {
   "cell_type": "markdown",
   "id": "93dd0b68",
   "metadata": {},
   "source": [
    "<div align=\"center\" border=\"1px\"><img src=\"https://raw.githubusercontent.com/codingalzi/pybook/master/jupyter-book/images/list-copy-02.png\" width=\"800\"/></div>\n",
    "\n",
    "<p><div style=\"text-align: center\">&lt;그림 출처: <a href=\"https://pythontutor.com/render.html#code=x%20%20%3D%20%5B1,%202,%203%5D%0Ay%20%3D%20x.copy%28%29%0Ay%5B0%5D%20%3D%2010&cumulative=false&curInstr=0&heapPrimitives=nevernest&mode=display&origin=opt-frontend.js&py=3&rawInputLstJSON=%5B%5D&textReferences=false\">Python Tutor</a>&gt;</div></p>"
   ]
  },
  {
   "cell_type": "markdown",
   "id": "c5fb208e",
   "metadata": {},
   "source": [
    "반면에 아래 코드에서처럼 사본을 만들지 않으면 리스트 원본이 함께 수정된다.\n",
    "이유는 `x`와 `y`가 동일한 리스트 객체를 가리키기 때문이다. "
   ]
  },
  {
   "cell_type": "code",
   "execution_count": null,
   "id": "c86c95df",
   "metadata": {},
   "outputs": [],
   "source": [
    "x  = [1, 2, 3]\n",
    "y = x\n",
    "y[0] = 10      # 0번 인데스 항목 수정\n",
    "\n",
    "print(\"x:\", x)\n",
    "print(\"y:\", y)"
   ]
  },
  {
   "cell_type": "markdown",
   "id": "762a835b",
   "metadata": {},
   "source": [
    "아래 그림은 두 변수 `x`와 `y`가 선언된 순간의 메모리 상태를 보여준다.\n",
    "`x`와 `y`가 동일한 리스트 객체를 가리킨다."
   ]
  },
  {
   "cell_type": "markdown",
   "id": "674e40df",
   "metadata": {},
   "source": [
    "<div align=\"center\" border=\"1px\"><img src=\"https://raw.githubusercontent.com/codingalzi/pybook/master/jupyter-book/images/list-copy-03.png\" width=\"800\"/></div>\n",
    "\n",
    "<p><div style=\"text-align: center\">&lt;그림 출처: <a href=\"https://pythontutor.com/render.html#code=x%20%20%3D%20%5B1,%202,%203%5D%0Ay%20%3D%20x%0Ay%5B0%5D%20%3D%2010&cumulative=false&curInstr=0&heapPrimitives=nevernest&mode=display&origin=opt-frontend.js&py=3&rawInputLstJSON=%5B%5D&textReferences=false\">Python Tutor</a>&gt;</div></p>"
   ]
  },
  {
   "cell_type": "markdown",
   "id": "16bb2f0c",
   "metadata": {},
   "source": [
    "아래 그림은 `y`가 가리키는 리스트의 첫째 항목이 10으로 업데이트되면\n",
    "`x`가 동일한 리스트를 가리키기에 0번 인덱스 항목이 똑같이 10이 된다."
   ]
  },
  {
   "cell_type": "markdown",
   "id": "97fa11d9",
   "metadata": {},
   "source": [
    "<div align=\"center\" border=\"1px\"><img src=\"https://raw.githubusercontent.com/codingalzi/pybook/master/jupyter-book/images/list-copy-04.png\" width=\"800\"/></div>\n",
    "\n",
    "<p><div style=\"text-align: center\">&lt;그림 출처: <a href=\"https://pythontutor.com/render.html#code=x%20%20%3D%20%5B1,%202,%203%5D%0Ay%20%3D%20x%0Ay%5B0%5D%20%3D%2010&cumulative=false&curInstr=0&heapPrimitives=nevernest&mode=display&origin=opt-frontend.js&py=3&rawInputLstJSON=%5B%5D&textReferences=false\">Python Tutor</a>&gt;</div></p>"
   ]
  },
  {
   "cell_type": "markdown",
   "id": "02675f0d-305a-4264-9daa-00d7df37dd23",
   "metadata": {},
   "source": [
    "**`append()` 메서드**"
   ]
  },
  {
   "cell_type": "markdown",
   "id": "578e921e",
   "metadata": {},
   "source": [
    "6명의 키 정보로 구성된 리스트를 `height_list`가 가리키도록 하자.\n",
    "키 정보는 각 리스트에서 3번 인덱스 항목이기에 다음과 같이\n",
    "`for` 반복문과 인덱싱을 이용하면 쉽게 리스트로 추출할 수 있다."
   ]
  },
  {
   "cell_type": "code",
   "execution_count": null,
   "id": "be4a274a",
   "metadata": {},
   "outputs": [],
   "source": [
    "height_list = []\n",
    "\n",
    "for person in info_list:\n",
    "    height_list += [person[3]] # 이어붙이기\n",
    "\n",
    "height_list"
   ]
  },
  {
   "cell_type": "markdown",
   "id": "d062e5f9",
   "metadata": {},
   "source": [
    "위 코드는 이전처럼 이어붙이기 연산자인 `+`를 이용하였는데\n",
    "`+` 연산자는 이어서 소개할 `extend()` 메서드와 유사한 기능을 갖는다.\n",
    "반면에 `append()` 메서드는 기존 리스트의 끝에 하나의 항목을 추가한다.\n",
    "이 기능을 이용하여 위 코드를 수정하면 다음과 같다."
   ]
  },
  {
   "cell_type": "code",
   "execution_count": null,
   "id": "2fe8eda9",
   "metadata": {},
   "outputs": [],
   "source": [
    "height_list = []\n",
    "\n",
    "for person in info_list:\n",
    "    height_list.append(person[3]) # append() 메서드를 사용하여 리스트에 항목 추가\n",
    "\n",
    "height_list"
   ]
  },
  {
   "cell_type": "markdown",
   "id": "912f8ae1",
   "metadata": {},
   "source": [
    "이제 6명의 체질량지수로 구성된 리스트를 생성할 수 있다.\n",
    "i번 인덱스에 해당하는 사람의 체질량 지수는 다음과 같이 계산된다.\n",
    "\n",
    "```python\n",
    "bmi = weight_list[i] / (height_list[i]/100)**2\n",
    "```\n",
    "\n",
    "`(height_list[i]/100)`는 센티미터(cm) 단위를 미터(m) 단위로 변경한다.\n",
    "또한 체질량지수를 소수점 이하 둘째 자리에서 반올림해서 보다 간단하게 표현하기 위해 `round()` 함수도 이용한다.\n",
    "`round()` 함수는 반올림을 이용하여 소수점 이하 자리수를 제한한다. \n",
    "아래 코드는 체질량지수를 소수점 이하 첫째 자리까지만 계산한다."
   ]
  },
  {
   "cell_type": "code",
   "execution_count": null,
   "id": "92c4634d",
   "metadata": {},
   "outputs": [],
   "source": [
    "bmi_list = []\n",
    "\n",
    "for i in range(len(info_list)):\n",
    "    bmi = weight_list[i] / (height_list[i]/100)**2  # 체질량지수\n",
    "    bmi = round(bmi, 1)                             # 소수점 둘째 자리에서 반올림\n",
    "    bmi_list.append(bmi)\n",
    "\n",
    "bmi_list"
   ]
  },
  {
   "cell_type": "markdown",
   "id": "084ba6f1",
   "metadata": {},
   "source": [
    "**`insert()` 메서드**"
   ]
  },
  {
   "cell_type": "markdown",
   "id": "590a51bc",
   "metadata": {},
   "source": [
    "`append()` 메서드는 리스트의 끝에 항목을 추가한다.\n",
    "반면에 `insert()` 메서드는 특정 위치에 항목을 삽입한다.\n",
    "항목이 삽입되면 원래 그 위치를 포함해서 오른쪽에 위치했던 항목들은\n",
    "모두 한 칸씩 오른쪽으로 이동된다.\n",
    "\n",
    "아래 코드는 1번 인덱스 자리에 2를 삽입하여 1부터 4까지의 정수로 구성된 리스트를 완성한다."
   ]
  },
  {
   "cell_type": "code",
   "execution_count": null,
   "id": "29aa728e",
   "metadata": {},
   "outputs": [],
   "source": [
    "x = [1, 3, 4]\n",
    "x.insert(1, 2) # 1번 인덱스에 2 삽입\n",
    "x"
   ]
  },
  {
   "cell_type": "markdown",
   "id": "90b91d18",
   "metadata": {},
   "source": [
    "아래 코드는 `height_list`를 `insert()` 메서드를 이용하여 생성한다.\n",
    "그리고 삽입을 일부러 0번 인덱스로 한다. \n",
    "그러면 `info_list`의 항목을 역순으로 선택해야 하기에 역순 슬라이싱을 이용한다."
   ]
  },
  {
   "cell_type": "code",
   "execution_count": null,
   "id": "9466a864",
   "metadata": {},
   "outputs": [],
   "source": [
    "height_list = []\n",
    "\n",
    "for person in info_list[::-1]:\n",
    "    height_list.insert(0, person[3]) # 0번 인덱스에 키 정보 삽입\n",
    "\n",
    "height_list"
   ]
  },
  {
   "cell_type": "markdown",
   "id": "4b003abe",
   "metadata": {},
   "source": [
    "`append()` 메서드처럼 마지막 항목으로 추가하기 위해 -1을 첫째 인자로 지정하고 \n",
    "역순 슬라이싱을 사용하지 않으면 다른 결과가 나옴에 주의한다.\n",
    "이유는 기존에 위치한 마지막 인덱스가 뒤로 오른쪽으로 밀리기 때문이다.\n",
    "즉, 가장 먼저 리스트에 삽입된 이강현의 키가 계속해서 오른쪽에 밀린다. "
   ]
  },
  {
   "cell_type": "code",
   "execution_count": null,
   "id": "2610af28",
   "metadata": {},
   "outputs": [],
   "source": [
    "height_list = []\n",
    "\n",
    "for person in info_list:\n",
    "    height_list.insert(-1, person[3]) # 0번 인덱스에 키 정보 삽입\n",
    "\n",
    "height_list"
   ]
  },
  {
   "cell_type": "markdown",
   "id": "ed99fe30",
   "metadata": {},
   "source": [
    "`append()` 메서드처럼 마지막 항목으로 추가하려면 인덱스 위치를 리스트의 길이보다 같거나 큰 값을 지정하면 된다."
   ]
  },
  {
   "cell_type": "code",
   "execution_count": null,
   "id": "d8a16471",
   "metadata": {},
   "outputs": [],
   "source": [
    "height_list = []\n",
    "\n",
    "for person in info_list:\n",
    "    height_list.insert(len(height_list), person[3]) # 0번 인덱스에 키 정보 삽입\n",
    "\n",
    "height_list"
   ]
  },
  {
   "cell_type": "markdown",
   "id": "0ce729f4",
   "metadata": {},
   "source": [
    "**`extend()` 메서드**"
   ]
  },
  {
   "cell_type": "markdown",
   "id": "daff38f1",
   "metadata": {},
   "source": [
    "`info_list` 변수가 가리키는 중첩 리스트에 6명 각각의 몸무게와 체질량지수 정보를 추가하기 위해\n",
    "먼저 몸무게와 체질량지수로 구성된 길이가 2인 리스트를 생성한 후에\n",
    "`extend()` 메서드를 이용하여 6명 각각의 정보를 담은 리스트를 확장한다.\n",
    "\n",
    "예를 들어, 김강현의 몸무게와 체질량지수로 구성된 리스트는 다음과 같다."
   ]
  },
  {
   "cell_type": "code",
   "execution_count": null,
   "id": "4b4010f0",
   "metadata": {},
   "outputs": [],
   "source": [
    "kgh_weight_bmi = [weight_list[0], bmi_list[0]]\n",
    "kgh_weight_bmi"
   ]
  },
  {
   "cell_type": "markdown",
   "id": "757e2fab",
   "metadata": {},
   "source": [
    "아래 코드는 김강현의 정보를 담은 리스트에 위 리스트를 연결하여 확장한다.\n",
    "`kgh` 변수가 가리키는 리스트를 직접 건드리지 않기 위해\n",
    "`copy()` 메서드를 이용하여 먼저 사본을 만든 다음에 리스트를 확장한다."
   ]
  },
  {
   "cell_type": "code",
   "execution_count": null,
   "id": "3d2ee71b",
   "metadata": {},
   "outputs": [],
   "source": [
    "kgh_copy = kgh.copy()\n",
    "kgh_copy.extend(kgh_weight_bmi)\n",
    "kgh_copy"
   ]
  },
  {
   "cell_type": "markdown",
   "id": "ba5d231a",
   "metadata": {},
   "source": [
    "동일한 작업을 6명 전원에 대해 적용하려면 `info_list`의 항목을 대상으로\n",
    "`for` 반복문을 싱행한다. \n",
    "하지만 아래 방식은 곤란하다.\n",
    "\n",
    "```python\n",
    "for person in info_list:\n",
    "    ...\n",
    "```\n",
    "\n",
    "이유는 `info`가 가리키는 항목의 인덱스 정보를 알아야만 `weight_list`와 `bmi_list`에서\n",
    "해당 위치의 항목을 추출할 수 있기 때문이다.\n",
    "\n",
    "해결책으로 `range()` 함수와 인덱싱을 활용한다.\n",
    "그러면 언급된 세 개의 리스트 `info_list`, `weight_list`, `bmi_list` 모두에 대해\n",
    "동시에 인덱싱을 적용할 수 있다.\n"
   ]
  },
  {
   "cell_type": "code",
   "execution_count": null,
   "id": "ef0592c2",
   "metadata": {},
   "outputs": [],
   "source": [
    "for i in range(len(info_list)):\n",
    "    weight_bmi_i = [weight_list[i], bmi_list[i]] # i번째 사람의 몸무게와 체질량지수\n",
    "    info_list[i].extend(weight_bmi_i)            # i번째 사람의 정보 확장\n",
    "\n",
    "info_list"
   ]
  },
  {
   "cell_type": "code",
   "execution_count": null,
   "id": "63d384a2",
   "metadata": {},
   "outputs": [],
   "source": [
    "kgh"
   ]
  },
  {
   "cell_type": "markdown",
   "id": "24bf499b",
   "metadata": {},
   "source": [
    ":::{admonition} `extend()` 메서드 대 이어붙이기 `+` 연산자\n",
    ":class: note\n",
    "\n",
    "`+` 연산자는 리스트 두개를 이어붙여 완전히 새로운 리스트를 생성한다.\n",
    "\n",
    "```python\n",
    ">>> kgh = ['김강현', '010-1234-5678', 20, 172.5, '제주', 65.3, 21.9]\n",
    ">>> kgh_weight_bmi = [65.3, 21.9]\n",
    ">>> kgh + kgh_wedith_bmi\n",
    "['김강현', '010-1234-5678', 20, 172.5, '제주', 65.3, 21.9, 65.3, 21.9]\n",
    ">>> kgh # 변경되지 않음\n",
    "['김강현', '010-1234-5678', 20, 172.5, '제주', 65.3, 21.0]\n",
    "```\n",
    "\n",
    "반면에 `extend()` 메서드는 기존 리스트에 새로운 리스트를 이어붙이는 방식으로 확장한다.\n",
    "즉, 기존의 리스트를 수정한다.\n",
    "\n",
    "```python\n",
    ">>> kgh.extend(kgh_wedith_bmi)\n",
    ">>> kgh # 확장됨\n",
    "['김강현', '010-1234-5678', 20, 172.5, '제주', 65.3, 21.9, 65.3, 21.9]\n",
    "```\n",
    ":::"
   ]
  },
  {
   "cell_type": "markdown",
   "id": "fe649079-71ea-4b80-8c72-0cd3561d0b16",
   "metadata": {},
   "source": [
    "**`pop()` 메서드**"
   ]
  },
  {
   "cell_type": "markdown",
   "id": "7db53f73",
   "metadata": {},
   "source": [
    "`pop()` 메서드는 지정된 인덱스의 항목을 반환하는 동시에 리스트에서 삭제한다.\n",
    "설명을 위해 6명의 이름으로 구성된 아래 리스트를 이용한다."
   ]
  },
  {
   "cell_type": "code",
   "execution_count": null,
   "id": "ead6cc8b",
   "metadata": {},
   "outputs": [],
   "source": [
    "name_list"
   ]
  },
  {
   "cell_type": "markdown",
   "id": "8b8a7248",
   "metadata": {},
   "source": [
    "남세원 이름을 리스트에서 삭제하면서 동시에 반환하려면 남세원이 위치한 곳의 인덱스인 2를 인자로 지정한다."
   ]
  },
  {
   "cell_type": "code",
   "execution_count": null,
   "id": "23d92bb8",
   "metadata": {},
   "outputs": [],
   "source": [
    "namgung_name = name_list.pop(2)"
   ]
  },
  {
   "cell_type": "markdown",
   "id": "3d4769c2",
   "metadata": {},
   "source": [
    "2번 인덱스의 항목인 남세원이 `name_list`에서 삭제되었다.\n",
    "삭제된 항목의 오른쪽에 위치한 항목은 한 칸씩 왼쪽으로 이동한다."
   ]
  },
  {
   "cell_type": "code",
   "execution_count": null,
   "id": "2920416f",
   "metadata": {},
   "outputs": [],
   "source": [
    "name_list"
   ]
  },
  {
   "cell_type": "markdown",
   "id": "70225a19",
   "metadata": {},
   "source": [
    "`pop()` 함수는 삭제된 이름을 반환하며, 해당 이름이 `namgung_name`에 할당되었다."
   ]
  },
  {
   "cell_type": "code",
   "execution_count": null,
   "id": "b4d1ee36",
   "metadata": {},
   "outputs": [],
   "source": [
    "namgung_name"
   ]
  },
  {
   "cell_type": "markdown",
   "id": "dc85f19c",
   "metadata": {},
   "source": [
    "`name_list`를 원래대로 되돌려 놓기 위해 `insert()` 메서드를 이용하여 2번 인덱스에 이름을 삽입한다."
   ]
  },
  {
   "cell_type": "code",
   "execution_count": null,
   "id": "f2a9a0a7-bcab-42d9-a371-0aeba82911f3",
   "metadata": {},
   "outputs": [],
   "source": [
    "name_list.insert(2, namgung_name)"
   ]
  },
  {
   "cell_type": "code",
   "execution_count": null,
   "id": "70c74540",
   "metadata": {},
   "outputs": [],
   "source": [
    "name_list"
   ]
  },
  {
   "cell_type": "markdown",
   "id": "33fc64f7",
   "metadata": {},
   "source": [
    "`pop()` 메서드의 인자를 지정하지 않으면 -1이 인자로 사용되어 마지막 항목이 삭제된 후 반환된다."
   ]
  },
  {
   "cell_type": "code",
   "execution_count": null,
   "id": "9490ed73",
   "metadata": {},
   "outputs": [],
   "source": [
    "name_list.pop()"
   ]
  },
  {
   "cell_type": "markdown",
   "id": "9cdc0c41",
   "metadata": {},
   "source": [
    "마지막 항목이기에 이번엔 `append()` 메서드로 함중아 이름을 항목으로 되돌린다."
   ]
  },
  {
   "cell_type": "code",
   "execution_count": null,
   "id": "80caa1b0",
   "metadata": {},
   "outputs": [],
   "source": [
    "name_list.append('함중아')"
   ]
  },
  {
   "cell_type": "code",
   "execution_count": null,
   "id": "eb9c8b4a",
   "metadata": {},
   "outputs": [],
   "source": [
    "name_list"
   ]
  },
  {
   "cell_type": "markdown",
   "id": "b85380cb",
   "metadata": {},
   "source": [
    "아래 코드는 `pop()` 메서드를 이용하여 `info_list`에서 몸무게와 체질량지수 항목을 삭제한다.\n",
    "6명 각각의 리스트에서 오른쪽 맨 끝에 위치한 두 개의 항목을 삭제하면 되기에 `pop()` 메서드를 두 번씩 적용한다."
   ]
  },
  {
   "cell_type": "code",
   "execution_count": null,
   "id": "95253e0f",
   "metadata": {},
   "outputs": [],
   "source": [
    "for person in info_list:\n",
    "    person.pop()\n",
    "    person.pop()\n",
    "\n",
    "info_list"
   ]
  },
  {
   "cell_type": "markdown",
   "id": "e3722388-e3c2-4702-af2c-772ec90228b7",
   "metadata": {},
   "source": [
    "**`remove()` 메서드**"
   ]
  },
  {
   "cell_type": "markdown",
   "id": "fac70c6c",
   "metadata": {},
   "source": [
    "`remove()` 메서드는 리스트에서 지정된 항목을 삭제할 뿐 해당 항목을 반환하지 않는다.\n",
    "반환값은 없다는 의에서 `None`을 반환한다.\n",
    "동일한 항목이 여러 번 사용되었을 경우 가장 왼편에 위치한 항목을 삭제한다.\n",
    "\n",
    "연습을 위해 먼저 김강현 이름을 항목의 2번 인덱스에 추가한다."
   ]
  },
  {
   "cell_type": "code",
   "execution_count": null,
   "id": "e0b40320-65d7-4fb3-adea-9a62bd7450f0",
   "metadata": {},
   "outputs": [],
   "source": [
    "name_list.insert(2, '김강현')\n",
    "name_list"
   ]
  },
  {
   "cell_type": "markdown",
   "id": "f954ec59",
   "metadata": {},
   "source": [
    "김강현 이름을 리스트에서 삭제하자."
   ]
  },
  {
   "cell_type": "code",
   "execution_count": null,
   "id": "196c9eff",
   "metadata": {},
   "outputs": [],
   "source": [
    "name_list.remove('김강현')"
   ]
  },
  {
   "cell_type": "markdown",
   "id": "53084319",
   "metadata": {},
   "source": [
    "0번 인덱스에 위치한 김강현 이름이 삭제되었지만, 2번 인덱스에 위치했던 김강현 이름은 남아 있다."
   ]
  },
  {
   "cell_type": "code",
   "execution_count": null,
   "id": "f90e9af8",
   "metadata": {},
   "outputs": [],
   "source": [
    "name_list"
   ]
  },
  {
   "cell_type": "markdown",
   "id": "3061f01f",
   "metadata": {},
   "source": [
    "김강현 이름을 완전히 삭제하려면 한 번 더 `remove()` 를 적용해야 한다."
   ]
  },
  {
   "cell_type": "code",
   "execution_count": null,
   "id": "7f82b1ae",
   "metadata": {},
   "outputs": [],
   "source": [
    "name_list.remove('김강현')\n",
    "name_list"
   ]
  },
  {
   "cell_type": "markdown",
   "id": "0c573cf7",
   "metadata": {},
   "source": [
    "`name_list`를 복원하기 위해 `insert()` 메서드를 이용한다."
   ]
  },
  {
   "cell_type": "code",
   "execution_count": null,
   "id": "8d880142",
   "metadata": {},
   "outputs": [],
   "source": [
    "name_list.insert(0, '김강현')\n",
    "name_list"
   ]
  },
  {
   "cell_type": "markdown",
   "id": "672b9a26-8867-47e7-ad50-a300d3497c87",
   "metadata": {},
   "source": [
    "**`sort()` 메서드**"
   ]
  },
  {
   "cell_type": "markdown",
   "id": "aa1de5aa",
   "metadata": {},
   "source": [
    "리스트의 각 항목들 사이의 크기를 비교할 수 있는 경우 `sort()` 메서드는 항목을 크기 순으로 정렬하는\n",
    "방식으로 주어진 리스트를 변경한다. \n",
    "즉, 주어진 리스트를 변경하는 것이지 새로운 리스트를 생성하는 것이 아님에 주의한다."
   ]
  },
  {
   "cell_type": "markdown",
   "id": "e75d9f14",
   "metadata": {},
   "source": [
    "예를 들어 아래 코드는 `name_list`의 항목을 6명의 이름 순서로 정렬해보자.\n",
    "먼저 `name_list`에 포함된 이름의 순서는 다음과 같다."
   ]
  },
  {
   "cell_type": "code",
   "execution_count": null,
   "id": "9579a3db",
   "metadata": {},
   "outputs": [],
   "source": [
    "name_list"
   ]
  },
  {
   "cell_type": "markdown",
   "id": "a13331de",
   "metadata": {},
   "source": [
    "`sort()` 메서드로 정렬하면 가나다 순으로 정렬된다."
   ]
  },
  {
   "cell_type": "code",
   "execution_count": null,
   "id": "646f6256-1645-4d38-9420-5e383be63feb",
   "metadata": {},
   "outputs": [],
   "source": [
    "name_list.sort()"
   ]
  },
  {
   "cell_type": "code",
   "execution_count": null,
   "id": "d599e8e9",
   "metadata": {},
   "outputs": [],
   "source": [
    "name_list"
   ]
  },
  {
   "cell_type": "markdown",
   "id": "17700215",
   "metadata": {},
   "source": [
    "`reverse=True` 키워드 인자를 지정하면 이름 역순으로 정렬한다."
   ]
  },
  {
   "cell_type": "code",
   "execution_count": null,
   "id": "8d53f8c5",
   "metadata": {},
   "outputs": [],
   "source": [
    "name_list.sort(reverse=True)"
   ]
  },
  {
   "cell_type": "code",
   "execution_count": null,
   "id": "3257a500",
   "metadata": {},
   "outputs": [],
   "source": [
    "name_list"
   ]
  },
  {
   "cell_type": "markdown",
   "id": "5a4f4a7f",
   "metadata": {},
   "source": [
    "아래 코드는 6명의 몸무게를 크기 순으로 정렬한다.\n",
    "먼저 원래 몸무게는 다음과 같다."
   ]
  },
  {
   "cell_type": "code",
   "execution_count": null,
   "id": "c643bf80",
   "metadata": {},
   "outputs": [],
   "source": [
    "weight_list"
   ]
  },
  {
   "cell_type": "markdown",
   "id": "ee2804a7",
   "metadata": {},
   "source": [
    "리스트의 항목이 부동소수점이기에 이번에는 수의 크기 순으로 정렬한다."
   ]
  },
  {
   "cell_type": "code",
   "execution_count": null,
   "id": "786c5dad",
   "metadata": {},
   "outputs": [],
   "source": [
    "weight_list.sort()"
   ]
  },
  {
   "cell_type": "code",
   "execution_count": null,
   "id": "e90d4d6a",
   "metadata": {},
   "outputs": [],
   "source": [
    "weight_list"
   ]
  },
  {
   "cell_type": "markdown",
   "id": "7acf28b0",
   "metadata": {},
   "source": [
    "크기 역순으로 정렬도 가능하다."
   ]
  },
  {
   "cell_type": "code",
   "execution_count": null,
   "id": "3238d5f6",
   "metadata": {},
   "outputs": [],
   "source": [
    "weight_list.sort(reverse=True)"
   ]
  },
  {
   "cell_type": "code",
   "execution_count": null,
   "id": "8fe22264",
   "metadata": {},
   "outputs": [],
   "source": [
    "weight_list"
   ]
  },
  {
   "cell_type": "markdown",
   "id": "41e57169",
   "metadata": {},
   "source": [
    "`info_list`와 같은 보다 복잡한 리스트로 정렬이 가능하다.\n",
    "아래 코드는 6명의 정보를 이름 순으로 정렬한다."
   ]
  },
  {
   "cell_type": "code",
   "execution_count": null,
   "id": "8d486982",
   "metadata": {},
   "outputs": [],
   "source": [
    "info_list.sort()\n",
    "\n",
    "info_list"
   ]
  },
  {
   "cell_type": "markdown",
   "id": "fa3e4a09",
   "metadata": {},
   "source": [
    "위 코드가 어째서 이름 순으로 정렬하는지, 그리고 예를 들어 키 순으로 정렬할 수도 있는데 어떻게 하는 것인지 \n",
    "등에 대해서는 여기서 다루는 대신\n",
    "[Programiz: Python List sort()](https://www.programiz.com/python-programming/methods/list/sort)의 설명을\n",
    "읽을 것을 권장한다."
   ]
  },
  {
   "cell_type": "markdown",
   "id": "05a6ffe0-e1b5-4867-84c4-36f2babfce0e",
   "metadata": {},
   "source": [
    "**`reverse()` 메서드**"
   ]
  },
  {
   "cell_type": "markdown",
   "id": "9a2a76a1",
   "metadata": {},
   "source": [
    "리스트의 순서를 단순히 뒤집기 위해서는 `reverse()` 메서드를 적용한다.\n",
    "예를 들어 김강현의 정보에 담긴 항목의 순서를 뒤집어 보자.\n",
    "먼저 김강현의 정보는 원래 다음과 같이 이름, 전화번호, 나이, 키, 출생지 순으로\n",
    "저장되어 있다."
   ]
  },
  {
   "cell_type": "code",
   "execution_count": null,
   "id": "bf448acf",
   "metadata": {},
   "outputs": [],
   "source": [
    "kgh"
   ]
  },
  {
   "cell_type": "markdown",
   "id": "c4a97596",
   "metadata": {},
   "source": [
    "김강현의 정보를 출생지, 키, 나이, 전화번호, 이름 순으로 정렬하기 위해\n",
    "`reverse()` 메서드를 정렬한다."
   ]
  },
  {
   "cell_type": "code",
   "execution_count": null,
   "id": "89e8ff24-c305-483c-9572-7bbf80f5af5b",
   "metadata": {},
   "outputs": [],
   "source": [
    "kgh.reverse()\n",
    "kgh"
   ]
  },
  {
   "cell_type": "markdown",
   "id": "f712fce2",
   "metadata": {},
   "source": [
    "`reverse()` 메서드를 한 번 더 적용하면 원래 순서대로 돌아온다."
   ]
  },
  {
   "cell_type": "code",
   "execution_count": null,
   "id": "cc885ac3",
   "metadata": {},
   "outputs": [],
   "source": [
    "kgh.reverse()\n",
    "kgh"
   ]
  },
  {
   "cell_type": "markdown",
   "id": "8d9a241a-fd6a-4d03-a3a8-1b0c2555de8a",
   "metadata": {},
   "source": [
    "**`index()` 메서드**"
   ]
  },
  {
   "cell_type": "markdown",
   "id": "273164c1",
   "metadata": {},
   "source": [
    "인자로 지정된 항목이 위치한 인덱스를 반환한다.\n",
    "항목이 여러 번 사용된 경우 가장 왼쪽에 위치한 곳의 인덱스를 선택한다.\n",
    "예를 `[1, 2, 3, 1, 2, 3]`에서 2가 두 번 사용되었지만 \n",
    "1번 인덱스에서 가장 먼저 사용된다."
   ]
  },
  {
   "cell_type": "code",
   "execution_count": null,
   "id": "afd8cc2b",
   "metadata": {},
   "outputs": [],
   "source": [
    "[1, 2, 3, 1, 2, 3].index(2)"
   ]
  },
  {
   "cell_type": "markdown",
   "id": "2845babf",
   "metadata": {},
   "source": [
    "김강현의 이름은 `kgh`가 가리키는 리스트의 0번 인덱스에 위치한다."
   ]
  },
  {
   "cell_type": "code",
   "execution_count": null,
   "id": "e1d3174a-de75-4af1-b3d3-057a43a4bf46",
   "metadata": {},
   "outputs": [],
   "source": [
    "kgh.index('김강현')"
   ]
  },
  {
   "cell_type": "markdown",
   "id": "d263a9a6",
   "metadata": {},
   "source": [
    "나이는 2번 인덱스에 위치한다."
   ]
  },
  {
   "cell_type": "code",
   "execution_count": null,
   "id": "25208a7e",
   "metadata": {},
   "outputs": [],
   "source": [
    "kgh.index(20)"
   ]
  },
  {
   "cell_type": "markdown",
   "id": "b3678dd4",
   "metadata": {},
   "source": [
    "리스트의 항목으로 존재하지 않으면 `ValueError` 오류가 발생한다."
   ]
  },
  {
   "cell_type": "markdown",
   "id": "9ab9f7a0",
   "metadata": {},
   "source": [
    "```python\n",
    ">>> kgh.index('대한민국')\n",
    "Traceback (most recent call last):\n",
    "  File \"<stdin>\", line 1, in <module>\n",
    "ValueError: '대한민국' is not in list\n",
    "```"
   ]
  },
  {
   "cell_type": "markdown",
   "id": "5a3597de-4ae3-4279-a122-df755161cb82",
   "metadata": {},
   "source": [
    "**`count()` 메서드**"
   ]
  },
  {
   "cell_type": "markdown",
   "id": "b3dd65d7",
   "metadata": {},
   "source": [
    "인자로 지정된 항목이 리스트에 몇 번 사용되었는지를 반환한다.\n",
    "예를 들어, `[1, 2, 3, 1, 2]`에 1과 2는 두 번, 3은 한 번 사용된다."
   ]
  },
  {
   "cell_type": "code",
   "execution_count": null,
   "id": "7510fe9b-99d1-451e-bd2b-ea7d01d2c94a",
   "metadata": {},
   "outputs": [],
   "source": [
    "[1, 2, 3, 1, 2].count(1)"
   ]
  },
  {
   "cell_type": "code",
   "execution_count": null,
   "id": "f5d30ed2",
   "metadata": {},
   "outputs": [],
   "source": [
    "[1, 2, 3, 1, 2].count(2)"
   ]
  },
  {
   "cell_type": "code",
   "execution_count": null,
   "id": "b5f4b8bd",
   "metadata": {},
   "outputs": [],
   "source": [
    "[1, 2, 3, 1, 2].count(3)"
   ]
  },
  {
   "cell_type": "markdown",
   "id": "c7ec8227",
   "metadata": {},
   "source": [
    "항목이 아니면 0을 반환한다."
   ]
  },
  {
   "cell_type": "code",
   "execution_count": null,
   "id": "7e1c709b",
   "metadata": {},
   "outputs": [],
   "source": [
    "[1, 2, 3, 1, 2].count(4)"
   ]
  },
  {
   "cell_type": "markdown",
   "id": "37f3b6a4",
   "metadata": {},
   "source": [
    "### 리스트 연습문제"
   ]
  },
  {
   "cell_type": "markdown",
   "id": "253cac8b",
   "metadata": {},
   "source": [
    "`info_list` 변수는 6명의 정보를 담은 중첩 리스트를 가리킨다."
   ]
  },
  {
   "cell_type": "code",
   "execution_count": null,
   "id": "4454678b",
   "metadata": {},
   "outputs": [],
   "source": [
    "info_list"
   ]
  },
  {
   "cell_type": "markdown",
   "id": "527dc7a4",
   "metadata": {},
   "source": [
    "**문제 1**"
   ]
  },
  {
   "cell_type": "markdown",
   "id": "95c56582",
   "metadata": {},
   "source": [
    "`info_list`에 포함된 6명의 전화번호만으로 구성된 리스트를 가리키는 `phone_list` 변수를 선언하라.\n",
    "단, `info_list`와 `for` 반복문, 인덱싱, `append()` 메서드를 반드시 활용한다."
   ]
  },
  {
   "cell_type": "markdown",
   "id": "ce9e7682",
   "metadata": {},
   "source": [
    "*견본 답안*"
   ]
  },
  {
   "cell_type": "markdown",
   "id": "33cdff03",
   "metadata": {},
   "source": [
    "`phone_list`를 빈 리스트로 초기화한 다음에 `for` 반복문과 인덱싱을 이용하여\n",
    "6명 각각의 정보를 담은 리스트에서 전화번호 정보가 위치한 1번 인덱스 항목을 `phone_list`에 \n",
    "`append()` 메서드로 추가한다."
   ]
  },
  {
   "cell_type": "code",
   "execution_count": null,
   "id": "d77980d8",
   "metadata": {},
   "outputs": [],
   "source": [
    "phone_list = []                # 전화번호를 저장할 리스트 초기화\n",
    "for person in info_list:\n",
    "    phone_list.append(person[1]) # 전화번호만 추출해서 phone_list에 추가\n",
    "\n",
    "phone_list"
   ]
  },
  {
   "cell_type": "markdown",
   "id": "aaa093ff",
   "metadata": {},
   "source": [
    "**문제 2**"
   ]
  },
  {
   "cell_type": "markdown",
   "id": "2357887d",
   "metadata": {},
   "source": [
    "`info_list`에 포함된 6명의 출생지로 구성된 리스트를 가리키는 `birthplace_list` 변수를 선언하면서\n",
    "동시에 `info_list`에서 출생지 정보를 삭제하라.\n",
    "즉, `info_list`가 다음 모양의 중첩 리스트를 가리켜야 한다.\n",
    "\n",
    "```python\n",
    "[['김강현', '010-1234-5678', 20, 172.5],\n",
    " ['황현', '02-9871-1234', 19, 163.5],\n",
    " ['남세원', '01-3456-7891', 21, 156.7],\n",
    " ['최흥선', '070-4321-1111', 21, 187.2],\n",
    " ['김현선', '010-3333-8888', 22, 164.6],\n",
    " ['함중아', '010-7654-2345', 18, 178.3]]\n",
    "```\n",
    "\n",
    "단, `info_list`와 `for` 반복문, `pop()` 메서드를 반드시 활용한다."
   ]
  },
  {
   "cell_type": "markdown",
   "id": "8efbc3a0",
   "metadata": {},
   "source": [
    "*견본 답안*"
   ]
  },
  {
   "cell_type": "markdown",
   "id": "c695f703",
   "metadata": {},
   "source": [
    "`pop()` 메서드는 인자를 지정하지 않으면 리스트의 마지막 항목을 반환하면서 동시에 리스트에서 삭제한다.\n",
    "이점만 이용하면 `birthplace_list`는 `phone_list`와 거의 유사한 방식으로 정의된다."
   ]
  },
  {
   "cell_type": "code",
   "execution_count": null,
   "id": "e1adc9f6",
   "metadata": {},
   "outputs": [],
   "source": [
    "birthplace_list = []\n",
    "for person in info_list:\n",
    "    birthplace_list.append(person.pop()) # 출생지를 리스트에서 삭제하면서 동시에 birthplace_list에 추가\n",
    "\n",
    "birthplace_list"
   ]
  },
  {
   "cell_type": "markdown",
   "id": "9dbe7763",
   "metadata": {},
   "source": [
    "출생지가 모든 사람의 정보에서 삭제되었음을 확인할 수 있다."
   ]
  },
  {
   "cell_type": "code",
   "execution_count": null,
   "id": "ece850bb",
   "metadata": {},
   "outputs": [],
   "source": [
    "info_list"
   ]
  },
  {
   "cell_type": "markdown",
   "id": "2e42ba26",
   "metadata": {},
   "source": [
    "**문제 3**"
   ]
  },
  {
   "cell_type": "markdown",
   "id": "cda753d2",
   "metadata": {},
   "source": [
    "6명 중에서 나이가 21세인 사람은 몇 명인지 확인하는 코드를 작성하라.\n",
    "단, 리스트의 `count()` 메서드를 이용한다."
   ]
  },
  {
   "cell_type": "markdown",
   "id": "c8b9f760",
   "metadata": {},
   "source": [
    "*견본 답안*"
   ]
  },
  {
   "cell_type": "markdown",
   "id": "9886eceb",
   "metadata": {},
   "source": [
    "먼저 나이만을 추출해서 담은 `age_list`를 `phone_list`와 유사하게 선언한 다음에\n",
    "`count()` 메서드를 적용한다."
   ]
  },
  {
   "cell_type": "code",
   "execution_count": null,
   "id": "84c8b8fd",
   "metadata": {},
   "outputs": [],
   "source": [
    "age_list = []               # 나이 정보만 저장할 리스트\n",
    "for person in info_list:\n",
    "    age_list.append(person[2])\n",
    "\n",
    "age_list.count(21)          # 21살인 사람의 수 확인"
   ]
  },
  {
   "cell_type": "markdown",
   "id": "924069a1",
   "metadata": {},
   "source": [
    "**문제 4**"
   ]
  },
  {
   "cell_type": "markdown",
   "id": "2179276a",
   "metadata": {},
   "source": [
    "리스트의 `count()` 메서드처럼 작동하는 `item_count()`를 구현하라.\n",
    "예를 들어 다음 표현식이 참이어야 한다.\n",
    "\n",
    "```python\n",
    "item_count(age_list, 21) == age_list.count(2)\n",
    "```"
   ]
  },
  {
   "cell_type": "markdown",
   "id": "11d8daf6",
   "metadata": {},
   "source": [
    "*견본 답안*"
   ]
  },
  {
   "cell_type": "code",
   "execution_count": null,
   "id": "7ccd01ff",
   "metadata": {},
   "outputs": [],
   "source": [
    "def item_count(xs, item):\n",
    "    count = 0\n",
    "    for x in xs:\n",
    "        if x == item:\n",
    "            count += 1\n",
    "    return count"
   ]
  },
  {
   "cell_type": "code",
   "execution_count": null,
   "id": "35fc02c9",
   "metadata": {},
   "outputs": [],
   "source": [
    "item_count(age_list, 21)"
   ]
  },
  {
   "cell_type": "markdown",
   "id": "6aff5820-dd1b-41ab-8ca1-24f8559efcf8",
   "metadata": {},
   "source": [
    "(sec:tuple)=\n",
    "## 튜플"
   ]
  },
  {
   "cell_type": "markdown",
   "id": "b08c7bcc-d0e5-4cd6-86fa-9ad9788affd7",
   "metadata": {},
   "source": [
    "튜플은 리스트와 아주 비슷하다.\n",
    "다만 한 번 생성되면 항목의 추가, 삭제, 변경 등 일체의 수정이 불가능한 \n",
    "불변<font size = \"2\">immutable</font> 자료형이라는 점이 다르다.\n",
    "튜플의 항목을 수정하지 않고 활용하는 방법은 리스트의 그것과 동일하다.\n",
    "예를 들어, 연산, 인덱싱, 슬라싱, `for` 반복문 활용 등은 리스트의 경우와 완전히 동일하다."
   ]
  },
  {
   "cell_type": "markdown",
   "id": "0eccfd93",
   "metadata": {},
   "source": [
    "튜플은 항목들을 소괄호 `()`로  감싸고, 각각 항목은 쉼표(`,`)로 구분된다. \n",
    "예를 들어, 1부터 5까지의 정수로 구성된 튜플을 가리키는 변수를 다음과 같이 선언한다."
   ]
  },
  {
   "cell_type": "code",
   "execution_count": null,
   "id": "e8a85626-a3ce-411d-a92f-51edc46947fc",
   "metadata": {},
   "outputs": [],
   "source": [
    "one2five_tuple = (1, 2, 3, 4, 5)"
   ]
  },
  {
   "cell_type": "markdown",
   "id": "c62c4b3e",
   "metadata": {},
   "source": [
    "다음 튜플은 영어 알파벳 a부터 c까지로 구성된다."
   ]
  },
  {
   "cell_type": "code",
   "execution_count": null,
   "id": "d948b423-6eac-4054-8bc8-c9f59c25e48c",
   "metadata": {},
   "outputs": [],
   "source": [
    "a2c_tuple = ('a','b', 'c')"
   ]
  },
  {
   "cell_type": "markdown",
   "id": "22c36bd1",
   "metadata": {},
   "source": [
    "소괄호를 생략해도 튜플로 자동 처리된다."
   ]
  },
  {
   "cell_type": "code",
   "execution_count": null,
   "id": "4df43577",
   "metadata": {},
   "outputs": [],
   "source": [
    "a2c_tuple = 'a','b', 'c'\n",
    "a2c_tuple"
   ]
  },
  {
   "cell_type": "markdown",
   "id": "b9a03641",
   "metadata": {},
   "source": [
    "길이가 1인 튜플인 경우 항목 뒤에 반드시 쉽표를 붙혀야 한다."
   ]
  },
  {
   "cell_type": "code",
   "execution_count": null,
   "id": "3f9e14b1",
   "metadata": {},
   "outputs": [],
   "source": [
    "tup_3 = (3, )\n",
    "type(tup_3)"
   ]
  },
  {
   "cell_type": "markdown",
   "id": "b06e3fe6",
   "metadata": {},
   "source": [
    "쉼표를 사용하지 않으면 튜플로 간주되지 않을 수 있다.\n",
    "아래 코드에서 `non_tup_3`은 3을 포함한 튜플이 아닌 정수 3을 가리킨다."
   ]
  },
  {
   "cell_type": "code",
   "execution_count": null,
   "id": "a4dfe37f",
   "metadata": {},
   "outputs": [],
   "source": [
    "non_tup_3 = (3)\n",
    "type(non_tup_3)"
   ]
  },
  {
   "cell_type": "markdown",
   "id": "82faff66-f146-48ed-940e-5a6450498ce5",
   "metadata": {},
   "source": [
    "튜플의 항목으로 여러 종류의 값이 사용될 수 있다.\n",
    "다음 `mixed_tuple`은 항목으로 정수, 부동소수점, 문자열, 부울값, 리스트, 튜플을 포함한다."
   ]
  },
  {
   "cell_type": "code",
   "execution_count": null,
   "id": "0279923b-5861-40c8-a1d6-3de16feb2b0e",
   "metadata": {},
   "outputs": [],
   "source": [
    "mixed_tuple = (1, 2.3, 'abc', False, ['ab', 'c'], (2, 4))"
   ]
  },
  {
   "cell_type": "markdown",
   "id": "356e5b41-d849-4734-bf6a-082c231b2849",
   "metadata": {},
   "source": [
    "**빈 튜플**"
   ]
  },
  {
   "cell_type": "markdown",
   "id": "d0324840",
   "metadata": {},
   "source": [
    "빈 튜플<font size='2'>empty tuple</font>은 아무것도 포함하지 않는 튜플을 의미한다.\n",
    "다음 두 가지 방식으로 빈 튜플을 선언할 수 있다."
   ]
  },
  {
   "cell_type": "markdown",
   "id": "3825a720",
   "metadata": {},
   "source": [
    "- 방법 1: 소괄호 활용"
   ]
  },
  {
   "cell_type": "code",
   "execution_count": null,
   "id": "0a87c490",
   "metadata": {},
   "outputs": [],
   "source": [
    "empty_tuple = ()"
   ]
  },
  {
   "cell_type": "markdown",
   "id": "247d050e",
   "metadata": {},
   "source": [
    "- 방법 2: `tuple()` 함수 활용"
   ]
  },
  {
   "cell_type": "code",
   "execution_count": null,
   "id": "7131faee",
   "metadata": {},
   "outputs": [],
   "source": [
    "empty_tuple = tuple()"
   ]
  },
  {
   "cell_type": "markdown",
   "id": "a76bc339",
   "metadata": {},
   "source": [
    "**중첩 튜플**"
   ]
  },
  {
   "cell_type": "code",
   "execution_count": null,
   "id": "5df8c5c1",
   "metadata": {},
   "outputs": [],
   "source": []
  },
  {
   "cell_type": "code",
   "execution_count": null,
   "id": "31941951",
   "metadata": {},
   "outputs": [],
   "source": []
  },
  {
   "cell_type": "code",
   "execution_count": null,
   "id": "3ba31264",
   "metadata": {},
   "outputs": [],
   "source": []
  },
  {
   "cell_type": "code",
   "execution_count": null,
   "id": "4152053c",
   "metadata": {},
   "outputs": [],
   "source": []
  },
  {
   "cell_type": "markdown",
   "id": "4cfc08cb",
   "metadata": {},
   "source": [
    "### 튜플 연산"
   ]
  },
  {
   "cell_type": "markdown",
   "id": "4b3812b3-9b56-4635-b695-d4a65c41b74a",
   "metadata": {},
   "source": [
    "**`in` 연산자**\n",
    "\n",
    "튜플의 항목으로 등장하는지 여부를 알려주는 논리 연산자이다."
   ]
  },
  {
   "cell_type": "code",
   "execution_count": null,
   "id": "b34d0a47-eab7-4414-a6b8-491fa8248ad3",
   "metadata": {},
   "outputs": [],
   "source": [
    "'1' in ('a', 'bc', 'd', 'e')"
   ]
  },
  {
   "cell_type": "code",
   "execution_count": null,
   "id": "3b57264e-5662-421c-a762-2e0c451f3ca6",
   "metadata": {},
   "outputs": [],
   "source": [
    "'d' in ('a', 'bc', 'd', 'e')"
   ]
  },
  {
   "cell_type": "code",
   "execution_count": null,
   "id": "b976cc80-1313-4ad5-861a-1278f54bc546",
   "metadata": {},
   "outputs": [],
   "source": [
    "'f' not in ('a', 'bc', 'd', 'e')"
   ]
  },
  {
   "cell_type": "markdown",
   "id": "f40c9d9e",
   "metadata": {
    "tags": []
   },
   "source": [
    "**이어붙이기/복제**\n",
    "\n",
    "리스트의 경우처럼 튜플도 이어붙이기와 복제 연산을 사용한다."
   ]
  },
  {
   "cell_type": "code",
   "execution_count": null,
   "id": "24f059fa-f66f-456f-b1cd-4b9560b51075",
   "metadata": {},
   "outputs": [],
   "source": [
    "('a', 'b') + ('b', 'c', 'd')"
   ]
  },
  {
   "cell_type": "code",
   "execution_count": null,
   "id": "6d2b2308-2a81-466c-99b9-80761b88c645",
   "metadata": {},
   "outputs": [],
   "source": [
    "('a', 'b') * 2"
   ]
  },
  {
   "cell_type": "markdown",
   "id": "6b21d96c-0469-4c3d-b394-12b1912c3d55",
   "metadata": {},
   "source": [
    "**`len()`함수**\n",
    "\n",
    "튜플의 길이, 즉 튜플에 포함된 항목의 개수를 반환한다."
   ]
  },
  {
   "cell_type": "code",
   "execution_count": null,
   "id": "70ef4d93-5e90-4908-bfba-5192d669c11c",
   "metadata": {},
   "outputs": [],
   "source": [
    "len(('a', 'b', 'c', 'd'))"
   ]
  },
  {
   "cell_type": "markdown",
   "id": "c17977ea-debe-410a-872d-52ee7d27cb4c",
   "metadata": {},
   "source": [
    "**`min()`/`max()` 함수**\n",
    "\n",
    "항목 중에서 최솟값 또는 최댓값을 확인한다.\n",
    "단, 기본적으로 모든 값의 자료형이 갖고 크기 비교가 가능해야 한다. "
   ]
  },
  {
   "cell_type": "code",
   "execution_count": null,
   "id": "202b46d8-acf5-44c3-8c64-32d1a4b22078",
   "metadata": {},
   "outputs": [],
   "source": [
    "max((2, 9, 11, 20, 3))"
   ]
  },
  {
   "cell_type": "code",
   "execution_count": null,
   "id": "d7eabe08-0266-4134-98c7-88aab3b9e207",
   "metadata": {},
   "outputs": [],
   "source": [
    "min((2, 9, 11, 20, 3))"
   ]
  },
  {
   "cell_type": "markdown",
   "id": "8b02686a-3f8e-4b2d-9302-fe83a915cdaf",
   "metadata": {},
   "source": [
    "### 튜플 인덱싱/슬라이싱"
   ]
  },
  {
   "cell_type": "markdown",
   "id": "e9e6eb74-3b33-4f6e-a2e3-ba6a99f0f74d",
   "metadata": {},
   "source": [
    "튜플도 문자열과 리스트처럼 인덱싱과 슬라이싱이 가능하다. "
   ]
  },
  {
   "cell_type": "code",
   "execution_count": null,
   "id": "2f1973c8",
   "metadata": {},
   "outputs": [],
   "source": [
    "a_tuple = (3, 15, 9, 12, 7, 14, 10)"
   ]
  },
  {
   "cell_type": "code",
   "execution_count": null,
   "id": "c8aa1af1",
   "metadata": {},
   "outputs": [],
   "source": [
    "a_tuple[0]"
   ]
  },
  {
   "cell_type": "code",
   "execution_count": null,
   "id": "578895c6",
   "metadata": {},
   "outputs": [],
   "source": [
    "a_tuple[-1]"
   ]
  },
  {
   "cell_type": "code",
   "execution_count": null,
   "id": "c074b2de-e3b7-4438-95e4-d6b164d558f2",
   "metadata": {},
   "outputs": [],
   "source": [
    "a_tuple[2:6:2]"
   ]
  },
  {
   "cell_type": "markdown",
   "id": "b7ef959d-41a1-418f-b6fa-9704ec36723a",
   "metadata": {},
   "source": [
    "튜플은 불변 자료형이라 값을 수정할 수 없다. \n",
    "예를 들어, 아래와 같이 인덱싱을 사용하여 튜플의 항목을 변경하려고 하면 오류가 발생한다.   \n",
    "\n",
    "```python\n",
    ">>> a_tuple = (3, 15, 9, 12, 7, 14, 10)\n",
    ">>> a_tuple[0] = 100\n",
    "TypeError                                 Traceback (most recent call last)\n",
    "/tmp/ipykernel_1817/347940049.py in <module>\n",
    "      1 a_tuple = (3, 15, 9, 12, 7, 14, 10)\n",
    "----> 2 a_tuple[0] = 100\n",
    "\n",
    "TypeError: 'tuple' object does not support item assignment\n",
    "```"
   ]
  },
  {
   "cell_type": "markdown",
   "id": "bef4f2c0",
   "metadata": {},
   "source": [
    "튜플이 변경 불가능한 자료형이라고 해서 튜플의 모든 항목이 모두 변경 불가능해야 하는 것은 아니다. \n",
    "예를 들어, 아래 `tup` 이 가리키는 튜플의 첫번째 항목은 `[1, 2]`이고, 리스트는 변경가능한 자료형이다."
   ]
  },
  {
   "cell_type": "code",
   "execution_count": null,
   "id": "96bb0e00",
   "metadata": {},
   "outputs": [],
   "source": [
    "tup = ([1, 2], 10, 100)"
   ]
  },
  {
   "cell_type": "markdown",
   "id": "a71540da",
   "metadata": {},
   "source": [
    "변수 `tup` 과 튜플 사이의 관계는 아래 그림이 잘 보여준다."
   ]
  },
  {
   "cell_type": "markdown",
   "id": "9c383ad6",
   "metadata": {},
   "source": [
    "<div align=\"center\">\n",
    "    <img src=\"https://raw.githubusercontent.com/codingalzi/pybook/master/jupyter-book/images/hj617kim/ch04/tuple01.png\" style=\"width:275px;\">\n",
    "</div>"
   ]
  },
  {
   "cell_type": "markdown",
   "id": "20c52028",
   "metadata": {},
   "source": [
    "따라서 아래와 같이 첫번째 항목 자체는 변경이 가능하다. "
   ]
  },
  {
   "cell_type": "code",
   "execution_count": null,
   "id": "b57d6c9e",
   "metadata": {},
   "outputs": [],
   "source": [
    "tup[0].append(3)"
   ]
  },
  {
   "cell_type": "markdown",
   "id": "91917f9e",
   "metadata": {},
   "source": [
    "실제로 `tup` 의 첫째 항목이 변경되었음을 확인할 수 있다."
   ]
  },
  {
   "cell_type": "code",
   "execution_count": null,
   "id": "06d9a8d3",
   "metadata": {},
   "outputs": [],
   "source": [
    "tup"
   ]
  },
  {
   "cell_type": "markdown",
   "id": "a2afcb06-2d96-4368-b6e9-0c1522a8978d",
   "metadata": {},
   "source": [
    "<div align=\"center\">\n",
    "    <img src=\"https://raw.githubusercontent.com/codingalzi/pybook/master/jupyter-book/images/hj617kim/ch04/tuple02.png\" style=\"width:300px;\">\n",
    "</div>"
   ]
  },
  {
   "cell_type": "markdown",
   "id": "1e638ebd-6708-4f2a-b704-dfc04fae59f7",
   "metadata": {},
   "source": [
    "### 튜플 메서드"
   ]
  },
  {
   "cell_type": "markdown",
   "id": "3cfcfbf4-b37f-4fd9-ab7e-e959fb4181f2",
   "metadata": {},
   "source": [
    "튜플 자료형의 메서드는 많지 않다. 많이 사용되는 두 개의 메소드를 살펴보자.   \n",
    "\n",
    "|메서드|설명|\n",
    "|:----------|:----------|\n",
    "|`count()`|지정된 항목이 등장한 횟수 반환|\n",
    "|`index()`|지정된 항목이 처음 위치한 인덱스 반환|"
   ]
  },
  {
   "cell_type": "code",
   "execution_count": null,
   "id": "8b3c8f02",
   "metadata": {},
   "outputs": [],
   "source": [
    "num_tuple = (1, 2, 3, 1, 3, 5, 5, 10, 15)"
   ]
  },
  {
   "cell_type": "markdown",
   "id": "dc2c1f39",
   "metadata": {},
   "source": [
    "**`count()` 메서드**"
   ]
  },
  {
   "cell_type": "code",
   "execution_count": null,
   "id": "f1b74028",
   "metadata": {},
   "outputs": [],
   "source": [
    "num_tuple.count(1)"
   ]
  },
  {
   "cell_type": "markdown",
   "id": "a0902072",
   "metadata": {},
   "source": [
    "**`index()` 메서드**"
   ]
  },
  {
   "cell_type": "code",
   "execution_count": null,
   "id": "d72d55de-9061-49a5-8f78-27521b764fd2",
   "metadata": {},
   "outputs": [],
   "source": [
    "num_tuple.index(5)"
   ]
  },
  {
   "cell_type": "markdown",
   "id": "92eea060",
   "metadata": {},
   "source": [
    "##  순차 자료형 해체"
   ]
  },
  {
   "cell_type": "markdown",
   "id": "36ff691b",
   "metadata": {},
   "source": [
    "순자 자료형의 항목 각각에 대해 변수 할당을 진행할 수 있다.\n",
    "단, 사용되는 변수의 수는 항목의 수와 일치해야 한다."
   ]
  },
  {
   "cell_type": "code",
   "execution_count": null,
   "id": "c62277ce",
   "metadata": {},
   "outputs": [],
   "source": [
    "a, b = \"12\""
   ]
  },
  {
   "cell_type": "code",
   "execution_count": null,
   "id": "5859fbbb",
   "metadata": {},
   "outputs": [],
   "source": [
    "print(a, type(a)) # 타입은 문자열이다.\n",
    "print(b)"
   ]
  },
  {
   "cell_type": "code",
   "execution_count": null,
   "id": "728a739c",
   "metadata": {},
   "outputs": [],
   "source": [
    "c, d, e = [3, 4, 5]"
   ]
  },
  {
   "cell_type": "code",
   "execution_count": null,
   "id": "ad0a072c",
   "metadata": {},
   "outputs": [],
   "source": [
    "print(c) \n",
    "print(d) \n",
    "print(e) "
   ]
  },
  {
   "cell_type": "code",
   "execution_count": null,
   "id": "6ec536fd",
   "metadata": {},
   "outputs": [],
   "source": [
    "f, g = (6, 7)"
   ]
  },
  {
   "cell_type": "code",
   "execution_count": null,
   "id": "b0f25e95",
   "metadata": {},
   "outputs": [],
   "source": [
    "print(f) \n",
    "print(g) "
   ]
  },
  {
   "cell_type": "markdown",
   "id": "bf099ac4",
   "metadata": {},
   "source": [
    "**밑줄 기호 `_` 활용**\n",
    "\n",
    "변수의 이름이 굳이 필요 없다면 밑줄<font size = \"2\">underscore</font>(`_`) 기호를\n",
    "대신 사용할 수 있다.\n",
    "예를 들어, 둘째 값에 대한 변수가 필요없다면 아래와 같이 해체할 수 있다. "
   ]
  },
  {
   "cell_type": "code",
   "execution_count": null,
   "id": "867fea71",
   "metadata": {},
   "outputs": [],
   "source": [
    "c, _, e = [3, 4, 5]\n",
    "print(c + e)"
   ]
  },
  {
   "cell_type": "markdown",
   "id": "65c10f88",
   "metadata": {},
   "source": [
    ":::{admonition} 주의   \n",
    ":class: caution  \n",
    "항목의 개수와 변수의 개수가 일치하지 않으면 오류가 발생한다.\n",
    "오류를 피하려면 위해 밑줄 등을 반드시 활용해야 한다.\n",
    "\n",
    "```python\n",
    ">>> c, e = [3, 4, 5]\n",
    "ValueError                                Traceback (most recent call last)\n",
    "/tmp/ipykernel_1817/4065688922.py in <module>\n",
    "----> 1 c, e = [3, 4, 5]\n",
    "      2 print(c + e)\n",
    "\n",
    "ValueError: too many values to unpack (expected 2)\n",
    "```\n",
    ":::"
   ]
  },
  {
   "cell_type": "markdown",
   "id": "ec512290",
   "metadata": {},
   "source": [
    "**별표 기호 `*` 활용**\n",
    "\n",
    "앞에 몇 개의 값에만 변수 할당에 사용하고 나머지는 하나의 리스트로 묶어서 퉁쳐버릴 수도 있다.\n",
    "이를 위해 별표 기호<font size = \"2\">asterisk</font>(`*`)를 하나의 변수명과 함께 사용한다. "
   ]
  },
  {
   "cell_type": "code",
   "execution_count": null,
   "id": "41025824",
   "metadata": {},
   "outputs": [],
   "source": [
    "values = (1, 2, 3, 4, 5)\n",
    "a, b, *rest = values"
   ]
  },
  {
   "cell_type": "code",
   "execution_count": null,
   "id": "d990be6c",
   "metadata": {},
   "outputs": [],
   "source": [
    "print(a)\n",
    "print(b)\n",
    "print(rest)"
   ]
  },
  {
   "cell_type": "markdown",
   "id": "2744f170",
   "metadata": {},
   "source": [
    "나머지 항목들을 무시하고 싶다면, 별표와 밑줄을 함께 사용한다. "
   ]
  },
  {
   "cell_type": "code",
   "execution_count": null,
   "id": "3801f9cd",
   "metadata": {},
   "outputs": [],
   "source": [
    "a, b, *_ = values"
   ]
  },
  {
   "cell_type": "code",
   "execution_count": null,
   "id": "0b0bb0bd",
   "metadata": {},
   "outputs": [],
   "source": [
    "print(a)\n",
    "print(b)"
   ]
  },
  {
   "cell_type": "markdown",
   "id": "35b4d84b",
   "metadata": {},
   "source": [
    "## 순차 자료형에 유용한 함수"
   ]
  },
  {
   "cell_type": "markdown",
   "id": "d4a8d632",
   "metadata": {},
   "source": [
    "문자열, 튜플, 리스트처럼 항목들의 순서가 중요한 순차 자료형과 함께 유용하게 사용되는 네 개의 함수를 소개한다."
   ]
  },
  {
   "cell_type": "markdown",
   "id": "2760d401",
   "metadata": {},
   "source": [
    "### `enumerate()` 함수"
   ]
  },
  {
   "cell_type": "markdown",
   "id": "5cf9c3dc",
   "metadata": {},
   "source": [
    "튜플과 리스트의 인덱스를 튜플과 리스트 자체에서 눈으로 확인할 수 없다.\n",
    "하지만 항목과 해당 항목의 인덱스 정보를 함께 활용해야 할 때가 있는데\n",
    "이때 `enumerate()` 함수가 매우 유용하다."
   ]
  },
  {
   "cell_type": "code",
   "execution_count": null,
   "id": "9d005c5c",
   "metadata": {},
   "outputs": [],
   "source": [
    "some_list = ['foo', 'bar', 'baz', 'pyt', 'thon']"
   ]
  },
  {
   "cell_type": "markdown",
   "id": "851ac4e4",
   "metadata": {},
   "source": [
    "`enumerate()` 함수는 리스트를 받아서\n",
    "리스트의 항목과 인덱스를 쌍으로 갖는 모음 자료형의 객체를 준비시킨다.\n",
    "이렇게 준비된 객체를 직접 확인할 수는 없다."
   ]
  },
  {
   "cell_type": "code",
   "execution_count": null,
   "id": "8a83c650",
   "metadata": {},
   "outputs": [],
   "source": [
    "enumerate(some_list)"
   ]
  },
  {
   "cell_type": "markdown",
   "id": "be388b8c",
   "metadata": {},
   "source": [
    "리스트로 환원하면 인덱스와 항목의 튜플로 이루어져 있음을 확인 수 있다."
   ]
  },
  {
   "cell_type": "code",
   "execution_count": null,
   "id": "c62996a9",
   "metadata": {},
   "outputs": [],
   "source": [
    "list(enumerate(some_list))"
   ]
  },
  {
   "cell_type": "markdown",
   "id": "7710e1c4",
   "metadata": {},
   "source": [
    "**예제**"
   ]
  },
  {
   "cell_type": "markdown",
   "id": "5dfcf8b9",
   "metadata": {},
   "source": [
    "인덱스를 활용하여 원하는 항목만 추출할 수 있다.\n",
    "예를 들어, 아래 코드는 짝수 인덱스의 값들만 출력하도록 한다.\n",
    "인덱스와 항목으로 구성된 길이가 2인 튜플을 해체하기 위해\n",
    "`i`와 `v`를 바로 이용함에 주의하라."
   ]
  },
  {
   "cell_type": "code",
   "execution_count": null,
   "id": "274ed66f",
   "metadata": {},
   "outputs": [],
   "source": [
    "for i, v in enumerate(some_list):\n",
    "    if i % 2 == 0:\n",
    "        print(v)"
   ]
  },
  {
   "cell_type": "markdown",
   "id": "21912c37",
   "metadata": {},
   "source": [
    "`enumerate()` 함수를 사용하지 않으면서 동일한 기능을 구현하려면\n",
    "인덱스를 직접 이용해야 한다."
   ]
  },
  {
   "cell_type": "code",
   "execution_count": null,
   "id": "479293f8",
   "metadata": {},
   "outputs": [],
   "source": [
    "for i in range(len(some_list)):\n",
    "    if i & 2 == 0:\n",
    "        print(some_list[i])"
   ]
  },
  {
   "cell_type": "markdown",
   "id": "79c4ce84",
   "metadata": {},
   "source": [
    "**예제**"
   ]
  },
  {
   "cell_type": "markdown",
   "id": "c630040f",
   "metadata": {},
   "source": [
    "아래 코드는 인덱스와 리스트의 항목의 순서를 바꾼 튜플의 \n",
    "리스트를 생성한다."
   ]
  },
  {
   "cell_type": "code",
   "execution_count": null,
   "id": "b1f949c0",
   "metadata": {},
   "outputs": [],
   "source": [
    "mapping = []\n",
    "\n",
    "for i, v in enumerate(some_list):\n",
    "    mapping.append((v, i))\n",
    "\n",
    "mapping"
   ]
  },
  {
   "cell_type": "markdown",
   "id": "36671203",
   "metadata": {},
   "source": [
    "`enumerate()` 함수를 사용하지 않으면서 동일한 기능을 구현하려면\n",
    "인덱스를 직접 이용해야 한다."
   ]
  },
  {
   "cell_type": "code",
   "execution_count": null,
   "id": "e351cf4e",
   "metadata": {},
   "outputs": [],
   "source": [
    "mapping = []\n",
    "\n",
    "for i in range(len(some_list)):\n",
    "    mapping.append((some_list[i], i))\n",
    "\n",
    "mapping"
   ]
  },
  {
   "cell_type": "markdown",
   "id": "f26977cf",
   "metadata": {},
   "source": [
    "### `zip()` 함수"
   ]
  },
  {
   "cell_type": "markdown",
   "id": "eb36ae32",
   "metadata": {},
   "source": [
    "문자열, 리스트, 튜플 등 순차 자료형 여러 개를 묶어 하나의 값으로 만든다.\n",
    "이때, 각 순차 자료형의 값에 사용된 순서를 반영한다.\n",
    "단, `zip()` 함수의 반환값은 구체적으로 명시되지 않는다. "
   ]
  },
  {
   "cell_type": "code",
   "execution_count": null,
   "id": "5ac7dcf4-ca1d-4c17-976b-f6c938dae73d",
   "metadata": {},
   "outputs": [],
   "source": [
    "zip(\"abc\", [1, 2, 3])"
   ]
  },
  {
   "cell_type": "markdown",
   "id": "7347fd32",
   "metadata": {},
   "source": [
    "`for` 반복문을 이용하여 항목을 확인할 수는 있다."
   ]
  },
  {
   "cell_type": "code",
   "execution_count": null,
   "id": "04f0b9f2",
   "metadata": {},
   "outputs": [],
   "source": [
    "for item in zip(\"abc\", [1, 2, 3]):\n",
    "    print(item)"
   ]
  },
  {
   "cell_type": "markdown",
   "id": "78adb683-0f5a-4116-87a9-b6014a24654d",
   "metadata": {},
   "source": [
    "아니면 `list()`함수를 이용하여 튜플 리스트로 변환할 수도 있다."
   ]
  },
  {
   "cell_type": "code",
   "execution_count": null,
   "id": "a8eabe99-ff16-4d0e-947c-2d23398ef5f3",
   "metadata": {},
   "outputs": [],
   "source": [
    "list(zip(\"abc\", [1, 2, 3]))"
   ]
  },
  {
   "cell_type": "markdown",
   "id": "61851fbb",
   "metadata": {},
   "source": [
    "여러 개의 모음 자료형을 짝짓는 것도 가능하다.\n",
    "단. 길이가 다르면 가장 짧은 길이에 맞춰서 짝을 짓고, 나머지는 버린다."
   ]
  },
  {
   "cell_type": "code",
   "execution_count": null,
   "id": "00a73657",
   "metadata": {},
   "outputs": [],
   "source": [
    "list(zip(\"abcdefgh\",(1, 2, 3, 4, 5), [5, 10, 15]))"
   ]
  },
  {
   "cell_type": "markdown",
   "id": "af73a679",
   "metadata": {},
   "source": [
    "**동시 반복**"
   ]
  },
  {
   "cell_type": "markdown",
   "id": "dce0b412",
   "metadata": {},
   "source": [
    "`zip()` 을 이용하면 여러 개의 리스트, 튜플을 대상으로 동시에 반복문을 돌릴 수 있다."
   ]
  },
  {
   "cell_type": "code",
   "execution_count": null,
   "id": "e129b5b2",
   "metadata": {},
   "outputs": [],
   "source": [
    "letters = ['a', 'b', 'c']\n",
    "numbers = [0, 1, 2]\n",
    "for l, n in zip(letters, numbers):\n",
    "    print(f'문자: {l}', end=', ')\n",
    "    print(f'숫자: {n}')"
   ]
  },
  {
   "cell_type": "markdown",
   "id": "304a8ad8",
   "metadata": {},
   "source": [
    "`zip()` 함수를 사용하지 않으면 2중으로 중첩된 `for` 반복문과\n",
    "인덱싱을 함께 이용해야 한다."
   ]
  },
  {
   "cell_type": "code",
   "execution_count": null,
   "id": "ab38bac9",
   "metadata": {},
   "outputs": [],
   "source": [
    "for idx1 in range(len(letters)):\n",
    "    for idx2 in range(len(numbers)):\n",
    "        if idx1 == idx2:\n",
    "            print(f'문자: {letters[idx1]}', end=', ')\n",
    "            print(f'숫자: {numbers[idx2]}')"
   ]
  },
  {
   "cell_type": "code",
   "execution_count": null,
   "id": "f91b8c70",
   "metadata": {},
   "outputs": [],
   "source": [
    "letters = ['a', 'b', 'c']\n",
    "numbers = [0, 1, 2]\n",
    "operators = ['*', '/', '+']\n",
    "for l, n, o in zip(letters, numbers, operators):\n",
    "    print(f'문자: {l}', end=', ')\n",
    "    print(f'숫자: {n}', end=', ')\n",
    "    print(f'연산자: {o}')\n"
   ]
  },
  {
   "cell_type": "markdown",
   "id": "5ffdcb64",
   "metadata": {},
   "source": [
    "`zip()` 함수를 사용하지 않으면 3중으로 중첩된 `for` 반복문과\n",
    "인덱싱을 함께 이용해야 한다."
   ]
  },
  {
   "cell_type": "code",
   "execution_count": null,
   "id": "bfb80a4e",
   "metadata": {},
   "outputs": [],
   "source": [
    "for idx1 in range(len(letters)):\n",
    "    for idx2 in range(len(numbers)):\n",
    "        for idx3 in range(len(numbers)):\n",
    "            if idx1 == idx2 and idx2 == idx3:\n",
    "                print(f'문자: {letters[idx1]}', end=', ')\n",
    "                print(f'숫자: {numbers[idx2]}', end=', ')\n",
    "                print(f'연산자: {numbers[idx3]}')                "
   ]
  },
  {
   "cell_type": "markdown",
   "id": "3856cb4a",
   "metadata": {},
   "source": [
    "## 연습문제"
   ]
  },
  {
   "cell_type": "markdown",
   "id": "17fcce4f",
   "metadata": {},
   "source": [
    "참고: [(실습) 리스트와 튜플](https://colab.research.google.com/github/codingalzi/pybook/blob/master/practices/practice-lists_tuples.ipynb)"
   ]
  }
 ],
 "metadata": {
  "kernelspec": {
   "display_name": "Python 3 (ipykernel)",
   "language": "python",
   "name": "python3"
  },
  "language_info": {
   "codemirror_mode": {
    "name": "ipython",
    "version": 3
   },
   "file_extension": ".py",
   "mimetype": "text/x-python",
   "name": "python",
   "nbconvert_exporter": "python",
   "pygments_lexer": "ipython3",
   "version": "3.11.4"
  },
  "toc-autonumbering": true,
  "vscode": {
   "interpreter": {
    "hash": "6c86b3592b6800d985c04531f2c445f0fa6967131b8dd6395a925f7622e55602"
   }
  }
 },
 "nbformat": 4,
 "nbformat_minor": 5
}
