{
 "cells": [
  {
   "cell_type": "markdown",
   "id": "3efee1fe",
   "metadata": {},
   "source": [
    "(ch:classes_instances_objects)=\n",
    "# 클래스, 인스턴스, 객체"
   ]
  },
  {
   "cell_type": "markdown",
   "id": "2774ec0d",
   "metadata": {},
   "source": [
    "**참고** \n",
    "\n",
    "아래 내용은 [Problem Solving with Algorithms and Data Structures using Python](https://runestone.academy/ns/books/published/pythonds3/index.html)의 1.13 절 내용을 \n",
    "일부 활용한다. "
   ]
  },
  {
   "cell_type": "markdown",
   "id": "c40bc08a",
   "metadata": {},
   "source": [
    "**주요 내용**\n",
    "\n",
    "파이썬은 객체 지향 프로그래밍 언어이다.\n",
    "객체 지향 프로그래밍 언어의 가장 큰 장점 중의 하나로,\n",
    "사용자가 직접 필요한 자료형을 클래스로 정의하고 객체를 생성하여 활용할 수 있다.\n",
    "\n",
    "여기서는 `fractions` 모듈에 포함된 `Fraction` 클래스를\n",
    "직접 정의하는 과정을 다루면서 클래스, 인스턴, 객체 개념을 소개한다. \n",
    "`Fraction` 클래스는 `1/2`, `2/7` 처럼 기약분수들의 자료형 역할을 수행하고\n",
    "분수들의 덧셈, 크기 비교 등을 지원하도록 할 것이다. "
   ]
  },
  {
   "cell_type": "markdown",
   "id": "fd9b0bf8",
   "metadata": {},
   "source": [
    "## 클래스 선언과 생성자"
   ]
  },
  {
   "cell_type": "markdown",
   "id": "084b735b",
   "metadata": {},
   "source": [
    "### 클래스 선언"
   ]
  },
  {
   "cell_type": "markdown",
   "id": "032f0b08",
   "metadata": {},
   "source": [
    "분수들의 클래스를 정의해보자.\n",
    "클래스 정의는 다음 형식으로 이루어진다."
   ]
  },
  {
   "cell_type": "code",
   "execution_count": 1,
   "id": "9c735e77",
   "metadata": {},
   "outputs": [],
   "source": [
    "class Fraction:\n",
    "    ...\n",
    "    # 속성 지정 및 메서드 선언"
   ]
  },
  {
   "cell_type": "markdown",
   "id": "0cf5be4c",
   "metadata": {},
   "source": [
    "`Fraction` 클래스의 속성으로 \"임의의 정수인 분자와 0이 아닌 임의의 정수인 분모\"에 \n",
    "대한 정보가 저장된다.\n",
    "`Fraction` 클래스가 제공해야 하는 메서드로\n",
    "예를 들어 분수의 사칙연산, 크기 비교 등이 포함된다."
   ]
  },
  {
   "cell_type": "markdown",
   "id": "f8cb6e9c",
   "metadata": {},
   "source": [
    "### 생성자"
   ]
  },
  {
   "cell_type": "markdown",
   "id": "38d315bf",
   "metadata": {},
   "source": [
    "모든 파이썬 클래스는 인스턴스<font size='2'>instance</font>를 생성하는 **생성자**인 \n",
    "`__init__()` 메서드를 포함해야 한다. \n",
    "생성자는 생성되는 인스턴스의 속성<font size='2'>attributes</font>으로 저장될 정보와 관련된 값을 \n",
    "인자로 받는다.\n",
    "`Fraction` 클래스의 생성자는 분자와 분모에 해당하는 값을 받아 저장하는 기능을 수행한다."
   ]
  },
  {
   "cell_type": "code",
   "execution_count": 2,
   "id": "cdf42278",
   "metadata": {},
   "outputs": [],
   "source": [
    "class Fraction:\n",
    "    def __init__(self, top, bottom):\n",
    "        \"\"\"생성자 메서드\n",
    "        top: 분자\n",
    "        bottom: 분모\n",
    "        \"\"\"\n",
    "\n",
    "        self.top = top\n",
    "        self.bottom = bottom"
   ]
  },
  {
   "cell_type": "markdown",
   "id": "42cec8ca",
   "metadata": {},
   "source": [
    ":::{admonition} 인스턴스 초기 설정\n",
    ":class: info\n",
    "\n",
    "엄밀히 말하면 `__init__()` 메서드는 객체를 생성하는 게 아니라\n",
    "생성되는 객체의 초기 설정을 담당하지만\n",
    "생성자라는 표현이 일반적으로 사용된다.\n",
    ":::"
   ]
  },
  {
   "cell_type": "markdown",
   "id": "90a26680",
   "metadata": {},
   "source": [
    "## 인스턴스와 객체"
   ]
  },
  {
   "cell_type": "markdown",
   "id": "a9af534b",
   "metadata": {},
   "source": [
    "### 인스턴스 생성"
   ]
  },
  {
   "cell_type": "markdown",
   "id": "fe150640",
   "metadata": {},
   "source": [
    "`Fraction` 클래스의 **인스턴스**<font size='2'>instance</font>, \n",
    "즉 하나의 분수에 해당하는 **객체**<font size='2'>object</font>를 생성하는 방식은 다음과 같다.\n",
    "\n",
    "```python\n",
    ">>> Fraction(3, 5)\n",
    "```\n",
    "\n",
    "그러면 생성자 함수 `__init__()` 가 분자에 해당하는 3, 분모에 해당하는 5를 인자로 사용하여\n",
    "호출된다.\n",
    "아래 코드는 `3/5` 에 해당하는 객체, 즉 `Fraction` 클래스의 인스턴스를 가리키는 \n",
    "`f35` 변수를 선언한다."
   ]
  },
  {
   "cell_type": "code",
   "execution_count": 3,
   "id": "9853bc25",
   "metadata": {},
   "outputs": [],
   "source": [
    "f35 = Fraction(3, 5)"
   ]
  },
  {
   "cell_type": "markdown",
   "id": "fcca7c3c",
   "metadata": {},
   "source": [
    "메모리 상에서 `f35` 변수가 가리키는 분수 객체는 아래와 같이 구성된다."
   ]
  },
  {
   "cell_type": "markdown",
   "id": "8cf6666d",
   "metadata": {},
   "source": [
    "<div align=\"center\" border=\"1px\"><img src=\"https://raw.githubusercontent.com/codingalzi/pybook/master/jupyter-book/images/fraction1.png\" width=\"80%\"></div>"
   ]
  },
  {
   "cell_type": "markdown",
   "id": "cce84f7d",
   "metadata": {},
   "source": [
    ":::{admonition} `self`의 역할\n",
    ":class: info\n",
    "\n",
    "`f35 = Fraction(3, 5)` 방식으로 변수 할당이 실행되면\n",
    "파이썬 해석기는 다음을 싱행한다.\n",
    "\n",
    "```python\n",
    ">>> __init__(f35, 3, 5)\n",
    "```\n",
    "\n",
    "즉, `self` 매개변수는 현재 생성되는 객체를 인자로 사용한다.\n",
    ":::"
   ]
  },
  {
   "cell_type": "markdown",
   "id": "463ac91d",
   "metadata": {},
   "source": [
    "### 인스턴스 변수와 속성"
   ]
  },
  {
   "cell_type": "markdown",
   "id": "833c15a1",
   "metadata": {},
   "source": [
    "**인스턴스 변수**<font size='2'>instance variable</font>는\n",
    "클래스 내부에서 `self`와 함께 선언된 변수를 가리킨다.\n",
    "`Fraction` 클래스의 인스턴스 변수는 `self.top` 과 `self.bottom` 두 개다.\n",
    "인스턴스 변수는 해당 클래스의 영역<font size='2'>scope</font> 내에서만 의미를 갖는다.\n",
    "인스턴스 변수는 일반적으로 생성자가 실행되는 동안 선언되지만\n",
    "클래스 내부 어딘가에서 일반 전역 변수처럼 선언될 수도 있다.\n",
    "\n",
    "클래스의 인스턴스는 인스턴스 변수가 가리키는 값을 속성을 갖게 되며,\n",
    "이런 의미에서 인스턴스 변수가 가리키는 값을 \n",
    "**인스턴스 속성**<font size=\"2\">instance attribute</font>이라 부른다.\n",
    "인스턴스 속성은 따라서 클래스의 인스턴스가 생성되어야만 의미를 갖는다.\n",
    "\n",
    "인스턴스 변수 이외에 `self` 를 사용하지 않는 \n",
    "**클래스 변수**<font size='2'>class variable</font> 가 선언될 수도 있지만\n",
    "이에 대해서는 나중에 자세히 소개한다.\n",
    "\n",
    "`f35` 가 가리키는 객체의 인스턴스 변수와 인스턴스 속성을 각각 키와 값으로 갖는 \n",
    "항목들의 사전을 `__dict__` 의 속성으로 확인한다.\n",
    "`__dict__` 는 모든 객체에 기본으로 포함되는 속성 중에 하나다."
   ]
  },
  {
   "cell_type": "code",
   "execution_count": 4,
   "id": "2a9c0567",
   "metadata": {},
   "outputs": [
    {
     "data": {
      "text/plain": [
       "{'top': 3, 'bottom': 5}"
      ]
     },
     "execution_count": 4,
     "metadata": {},
     "output_type": "execute_result"
    }
   ],
   "source": [
    "f35.__dict__"
   ]
  },
  {
   "cell_type": "markdown",
   "id": "a65b297d",
   "metadata": {},
   "source": [
    "모든 객체에 기본으로 포함된 속성 중에 해당 객체의 클래스 정보를 가리키는 `__class__` 속성도 \n",
    "종종 사용된다."
   ]
  },
  {
   "cell_type": "code",
   "execution_count": 5,
   "id": "e1f82475",
   "metadata": {},
   "outputs": [
    {
     "data": {
      "text/plain": [
       "__main__.Fraction"
      ]
     },
     "execution_count": 5,
     "metadata": {},
     "output_type": "execute_result"
    }
   ],
   "source": [
    "f35.__class__"
   ]
  },
  {
   "cell_type": "markdown",
   "id": "9c0b7198",
   "metadata": {},
   "source": [
    "`__main__` 은 현재 실행되는 코드가 저장된 모듈을 가리킨다.\n",
    "따라서 `__main__.Fraction` 는 현재 파일에서 정의된 `Fraction` 클래스의 객체라는\n",
    "사실을 확인해준다."
   ]
  },
  {
   "cell_type": "markdown",
   "id": "413a710b",
   "metadata": {},
   "source": [
    "## 인스턴스 메서드"
   ]
  },
  {
   "cell_type": "markdown",
   "id": "d0865439",
   "metadata": {},
   "source": [
    "클래스 내부에 선언된 함수를 메서드라 부른다. \n",
    "이중에 첫째 매개변수로 `self` 를 사용하는 함수가 인스턴스 메서드다.\n",
    "인스턴스 메서드는 클래스의 인스턴스가 생성되어야만 활용될 수 있다.\n",
    "인스턴스 메서드 이외에 클래스 메서드, 정적 메서드 등이 있지만 여기서는 다루지 않는다."
   ]
  },
  {
   "cell_type": "markdown",
   "id": "8b65e427",
   "metadata": {},
   "source": [
    "### 매직 메서드"
   ]
  },
  {
   "cell_type": "markdown",
   "id": "3acb582b",
   "metadata": {},
   "source": [
    "매직 메서드<font size='2'>magic method</font>는 클래스에 기본적으로 포함되는 메서드다.\n",
    "매직 메서드의 이름은 밑줄 두 개로 감싸지며, \n",
    "클래스가 기본적으로 갖춰야 하는 기능을 제공한다.\n",
    "\n",
    "클래스에 기본으로 포함된 매직 메서드를 `dir()` 함수를 이용하여 확인할 수 있다.\n",
    "그러면 `__class__`, `__dict__` 등과 같은 기본 속성과 함께 다른 다양한 기본 속성과\n",
    "매직 메서드의 리스트를 확인할 수 있다."
   ]
  },
  {
   "cell_type": "code",
   "execution_count": 6,
   "id": "4d65c305",
   "metadata": {},
   "outputs": [
    {
     "data": {
      "text/plain": [
       "['__class__',\n",
       " '__delattr__',\n",
       " '__dict__',\n",
       " '__dir__',\n",
       " '__doc__',\n",
       " '__eq__',\n",
       " '__format__',\n",
       " '__ge__',\n",
       " '__getattribute__',\n",
       " '__gt__',\n",
       " '__hash__',\n",
       " '__init__',\n",
       " '__init_subclass__',\n",
       " '__le__',\n",
       " '__lt__',\n",
       " '__module__',\n",
       " '__ne__',\n",
       " '__new__',\n",
       " '__reduce__',\n",
       " '__reduce_ex__',\n",
       " '__repr__',\n",
       " '__setattr__',\n",
       " '__sizeof__',\n",
       " '__str__',\n",
       " '__subclasshook__',\n",
       " '__weakref__',\n",
       " 'bottom',\n",
       " 'top']"
      ]
     },
     "execution_count": 6,
     "metadata": {},
     "output_type": "execute_result"
    }
   ],
   "source": [
    "dir(f35)"
   ]
  },
  {
   "cell_type": "markdown",
   "id": "f46960b4",
   "metadata": {},
   "source": [
    "이중에 중요한 매직 메서드 몇 개를 살펴본다."
   ]
  },
  {
   "cell_type": "markdown",
   "id": "d07a8441",
   "metadata": {},
   "source": [
    "**`__str__()` 메서드**\n",
    "\n",
    "`f35` 는 '3/5'에 해당하는 분수를 가리킨다.\n",
    "그런데 `print()` 함수를 이용하여 이 사실을 확인하려면 \n",
    "이상한 결과만 확인한다."
   ]
  },
  {
   "cell_type": "code",
   "execution_count": 7,
   "id": "5fd09c24",
   "metadata": {},
   "outputs": [
    {
     "name": "stdout",
     "output_type": "stream",
     "text": [
      "<__main__.Fraction object at 0x7fa6ee5785b0>\n"
     ]
    }
   ],
   "source": [
    "print(f35)"
   ]
  },
  {
   "cell_type": "markdown",
   "id": "cc02cd39",
   "metadata": {},
   "source": [
    "이유는 `Fraction` 클래스가 자신의 인스턴스를 소개하는 기능을 제공하지 않았기 때문이다. \n",
    "이런 상황에서 `f35` 입장에서는 자신이 어떤 클래스의 인스턴스이며 \n",
    "자신이 저장된 메모리 주소만을 알려주게 된다.\n",
    "\n",
    "클래스의 인스턴스가 제대로 자신을 소개하도록 하려면 `__str__()` 메서드를\n",
    "사용하가 직접 정의해야 한다. \n",
    "즉, `__str__()` 메서드는 해당 클래스의 인스턴스를 `print()` 함수를 통해\n",
    "어떻게 보여줄 것인가를 문자열로 지정하는 함수로 활용된다."
   ]
  },
  {
   "cell_type": "markdown",
   "id": "944a9d2e",
   "metadata": {},
   "source": [
    "`Fraction` 클래스를 선언할 때 `__str__()` 메서드를 아래처럼 재정의(overriding) 해보자."
   ]
  },
  {
   "cell_type": "code",
   "execution_count": 8,
   "id": "3c95410d",
   "metadata": {},
   "outputs": [],
   "source": [
    "class Fraction:\n",
    "    \"\"\"Fraction 클래스\"\"\"\n",
    "\n",
    "    def __init__(self, top, bottom):\n",
    "        \"\"\"생성자 메서드\n",
    "        top: 분자\n",
    "        bottom: 분모\n",
    "        \"\"\"\n",
    "        self.top = top\n",
    "        self.bottom = bottom\n",
    "\n",
    "    def __str__(self):\n",
    "        return f\"{self.top}/{self.bottom}\"  # 3/5, 1/2 형식으로 출력"
   ]
  },
  {
   "cell_type": "markdown",
   "id": "b0100921",
   "metadata": {},
   "source": [
    "클래스를 재정의 했으면 객체로 새로 생성해야 한다."
   ]
  },
  {
   "cell_type": "code",
   "execution_count": 9,
   "id": "49ea1af0",
   "metadata": {},
   "outputs": [],
   "source": [
    "f35 = Fraction(3, 5)"
   ]
  },
  {
   "cell_type": "markdown",
   "id": "851c2f3e",
   "metadata": {},
   "source": [
    "이제 `print()` 함수를 실행하면\n",
    "3/5, 1/2 등의 형식으로 출력한다."
   ]
  },
  {
   "cell_type": "code",
   "execution_count": 10,
   "id": "f844552b",
   "metadata": {},
   "outputs": [
    {
     "name": "stdout",
     "output_type": "stream",
     "text": [
      "3/5\n"
     ]
    }
   ],
   "source": [
    "print(f35)"
   ]
  },
  {
   "cell_type": "code",
   "execution_count": 11,
   "id": "ff6ccab6",
   "metadata": {},
   "outputs": [
    {
     "name": "stdout",
     "output_type": "stream",
     "text": [
      "피자의 3/5를 먹었다.\n"
     ]
    }
   ],
   "source": [
    "print(f\"피자의 {f35}를 먹었다.\")"
   ]
  },
  {
   "cell_type": "markdown",
   "id": "64d1feb2",
   "metadata": {},
   "source": [
    "`__str__()` 메서드를 직접 호출해도 동일한 결과를 얻는다. "
   ]
  },
  {
   "cell_type": "code",
   "execution_count": 12,
   "id": "139eb6bc",
   "metadata": {},
   "outputs": [
    {
     "data": {
      "text/plain": [
       "'3/5'"
      ]
     },
     "execution_count": 12,
     "metadata": {},
     "output_type": "execute_result"
    }
   ],
   "source": [
    "f35.__str__()"
   ]
  },
  {
   "cell_type": "markdown",
   "id": "c9e59c71",
   "metadata": {},
   "source": [
    "`str()` 함수는 인자로 사용된 객체가 제공하는 `__str__()` 메서드를 내부에서 호출한다."
   ]
  },
  {
   "cell_type": "code",
   "execution_count": 13,
   "id": "86ac92b5",
   "metadata": {},
   "outputs": [
    {
     "data": {
      "text/plain": [
       "'3/5'"
      ]
     },
     "execution_count": 13,
     "metadata": {},
     "output_type": "execute_result"
    }
   ],
   "source": [
    "str(f35) # f35.__str__()"
   ]
  },
  {
   "cell_type": "markdown",
   "id": "943ab4ac",
   "metadata": {},
   "source": [
    "**`__repr__()` 메서드**\n",
    "\n",
    "`print()` 함수는 잘 작동한다.\n",
    "하지만 그냥 `f35` 를 확인하려하면 여전히 제대로 보여지지 않는다."
   ]
  },
  {
   "cell_type": "code",
   "execution_count": 14,
   "id": "e477d8d5",
   "metadata": {},
   "outputs": [
    {
     "data": {
      "text/plain": [
       "<__main__.Fraction at 0x7fa6ec4f2af0>"
      ]
     },
     "execution_count": 14,
     "metadata": {},
     "output_type": "execute_result"
    }
   ],
   "source": [
    "f35"
   ]
  },
  {
   "cell_type": "markdown",
   "id": "9adeb79a",
   "metadata": {},
   "source": [
    "이를 해결하려면 `__repr__()` 메서드를 `__str__()` 메서드처럼 추가해야 한다."
   ]
  },
  {
   "cell_type": "code",
   "execution_count": 15,
   "id": "61ec794d",
   "metadata": {},
   "outputs": [],
   "source": [
    "class Fraction:\n",
    "    \"\"\"Fraction 클래스\"\"\"\n",
    "\n",
    "    def __init__(self, top, bottom):\n",
    "        \"\"\"생성자 메서드\n",
    "        top: 분자\n",
    "        bottom: 분모\n",
    "        \"\"\"\n",
    "        self.top = top\n",
    "        self.bottom = bottom\n",
    "\n",
    "    def __str__(self):\n",
    "        return f\"{self.top}/{self.bottom}\"  # 3/5, 1/2 형식으로 출력\n",
    "    \n",
    "    def __repr__(self):\n",
    "        return f\"{self.top}/{self.bottom}\"  # 3/5, 1/2 형식으로 출력"
   ]
  },
  {
   "cell_type": "code",
   "execution_count": 16,
   "id": "3c58d2e3",
   "metadata": {},
   "outputs": [],
   "source": [
    "f35 = Fraction(3, 5)"
   ]
  },
  {
   "cell_type": "code",
   "execution_count": 17,
   "id": "ecfdb4c3",
   "metadata": {},
   "outputs": [
    {
     "data": {
      "text/plain": [
       "3/5"
      ]
     },
     "execution_count": 17,
     "metadata": {},
     "output_type": "execute_result"
    }
   ],
   "source": [
    "f35"
   ]
  },
  {
   "cell_type": "markdown",
   "id": "eaceb1ce",
   "metadata": {},
   "source": [
    "`__repr__()` 를 `__str__()` 와 다르게 정의해도 된다."
   ]
  },
  {
   "cell_type": "code",
   "execution_count": 18,
   "id": "a8a0a498",
   "metadata": {},
   "outputs": [],
   "source": [
    "class Fraction:\n",
    "    \"\"\"Fraction 클래스\"\"\"\n",
    "\n",
    "    def __init__(self, top, bottom):\n",
    "        \"\"\"생성자 메서드\n",
    "        top: 분자\n",
    "        bottom: 분모\n",
    "        \"\"\"\n",
    "        self.top = top\n",
    "        self.bottom = bottom\n",
    "\n",
    "    def __str__(self):\n",
    "        return f\"{self.top}/{self.bottom}\"  # 3/5, 1/2 형식으로 출력\n",
    "    \n",
    "    def __repr__(self):\n",
    "        return f\"{self.bottom}분의 {self.top}\"  # 5분의 3 형식으로 출력"
   ]
  },
  {
   "cell_type": "code",
   "execution_count": 19,
   "id": "0853f44c",
   "metadata": {},
   "outputs": [],
   "source": [
    "f35 = Fraction(3, 5)"
   ]
  },
  {
   "cell_type": "code",
   "execution_count": 20,
   "id": "ab89585d",
   "metadata": {},
   "outputs": [
    {
     "data": {
      "text/plain": [
       "5분의 3"
      ]
     },
     "execution_count": 20,
     "metadata": {},
     "output_type": "execute_result"
    }
   ],
   "source": [
    "f35"
   ]
  },
  {
   "cell_type": "code",
   "execution_count": 21,
   "id": "9fa3408e",
   "metadata": {},
   "outputs": [
    {
     "name": "stdout",
     "output_type": "stream",
     "text": [
      "3/5\n"
     ]
    }
   ],
   "source": [
    "print(f35)"
   ]
  },
  {
   "cell_type": "markdown",
   "id": "f4b55bf7",
   "metadata": {},
   "source": [
    "`__repr__()` 메서드를 `__str__()` 대신 사용할 수 있다."
   ]
  },
  {
   "cell_type": "code",
   "execution_count": 22,
   "id": "33a27462",
   "metadata": {},
   "outputs": [],
   "source": [
    "class Fraction:\n",
    "    \"\"\"Fraction 클래스\"\"\"\n",
    "\n",
    "    def __init__(self, top, bottom):\n",
    "        \"\"\"생성자 메서드\n",
    "        top: 분자\n",
    "        bottom: 분모\n",
    "        \"\"\"\n",
    "        self.top = top\n",
    "        self.bottom = bottom\n",
    "\n",
    "#     def __str__(self):\n",
    "#         return f\"{self.top}/{self.bottom}\"  # 3/5, 1/2 형식으로 출력\n",
    "    \n",
    "    def __repr__(self):\n",
    "        return f\"{self.bottom}분의 {self.top}\"  # 5분의 3 형식으로 출력"
   ]
  },
  {
   "cell_type": "code",
   "execution_count": 23,
   "id": "2a43a873",
   "metadata": {},
   "outputs": [],
   "source": [
    "f35 = Fraction(3, 5)"
   ]
  },
  {
   "cell_type": "code",
   "execution_count": 24,
   "id": "3f5ce2b6",
   "metadata": {},
   "outputs": [
    {
     "data": {
      "text/plain": [
       "5분의 3"
      ]
     },
     "execution_count": 24,
     "metadata": {},
     "output_type": "execute_result"
    }
   ],
   "source": [
    "f35"
   ]
  },
  {
   "cell_type": "code",
   "execution_count": 25,
   "id": "efac9e6b",
   "metadata": {},
   "outputs": [
    {
     "name": "stdout",
     "output_type": "stream",
     "text": [
      "5분의 3\n"
     ]
    }
   ],
   "source": [
    "print(f35)"
   ]
  },
  {
   "cell_type": "markdown",
   "id": "592bee26",
   "metadata": {},
   "source": [
    "따라서 `__repr__()` 와 `__str__()` 를 동일하게 작동하게 하려면\n",
    "`__repr__()` 메서드 하나만 구현하면 된다."
   ]
  },
  {
   "cell_type": "code",
   "execution_count": 26,
   "id": "6385ad2f",
   "metadata": {},
   "outputs": [],
   "source": [
    "class Fraction:\n",
    "    \"\"\"Fraction 클래스\"\"\"\n",
    "\n",
    "    def __init__(self, top, bottom):\n",
    "        \"\"\"생성자 메서드\n",
    "        top: 분자\n",
    "        bottom: 분모\n",
    "        \"\"\"\n",
    "        self.top = top\n",
    "        self.bottom = bottom\n",
    "\n",
    "    def __repr__(self):\n",
    "        return f\"{self.top}/{self.bottom}\"  # 3/5, 1/2 형식으로 출력"
   ]
  },
  {
   "cell_type": "markdown",
   "id": "14440821",
   "metadata": {},
   "source": [
    "**`__add__()` 메서드**\n",
    "\n",
    "아래 두 개의 이용하여 분수의 덧셈이 가능한지 확인해보자."
   ]
  },
  {
   "cell_type": "code",
   "execution_count": 27,
   "id": "4a99f81a",
   "metadata": {},
   "outputs": [],
   "source": [
    "f14 = Fraction(1, 4)\n",
    "f12 = Fraction(1, 2)"
   ]
  },
  {
   "cell_type": "markdown",
   "id": "d698b6b7",
   "metadata": {},
   "source": [
    "그런데 분수의 덧셈을 시도하면 오류가 발생한다."
   ]
  },
  {
   "cell_type": "markdown",
   "id": "96a41768",
   "metadata": {},
   "source": [
    "```>>> f1 + f2\n",
    "TypeError                                 Traceback (most recent call last)\n",
    "<ipython-input-13-ad0256b81ae0> in <module>\n",
    "----> 1 f1 + f2\n",
    "\n",
    "TypeError: unsupported operand type(s) for +: 'Fraction' and 'Fraction'\n",
    "```"
   ]
  },
  {
   "cell_type": "markdown",
   "id": "00178ecd",
   "metadata": {},
   "source": [
    "이유는 덧셈 연산자 `+`가 `Fraction` 클래스의 인스턴스에 대해 지원되지 않기 때문이다. \n",
    "\n",
    "덧셈, 뺄셈 등 사칙연산에 대해 일반적으로 사용되는 기호를 사용하려면\n",
    "각각의 기호에 해당하는 매직 메서드를 선언해야 한다. \n",
    "예를 들어 분수의 덧셈을 위해 `+` 연산자를 사용하려면 \n",
    "`Fraction` 클래스에 `__add__()` 메서드가 적절하게 정의되어 있어야 한다."
   ]
  },
  {
   "cell_type": "markdown",
   "id": "961f68ee",
   "metadata": {},
   "source": [
    ":::{admonition} 분수의 덧셈\n",
    ":class: info\n",
    "\n",
    "분수의 덧셈은 아래와 같이 정의된다.\n",
    "\n",
    "$$\\frac {a}{b} + \\frac {c}{d} = \\frac {ad}{bd} + \\frac {cb}{bd} = \\frac{ad+cb}{bd}$$\n",
    ":::\n",
    "\n",
    "분수의 덧셈을 지원하는 `__add__()` 메서드를 `Fraction` 클래스에 추가하자."
   ]
  },
  {
   "cell_type": "code",
   "execution_count": 41,
   "id": "8173f501",
   "metadata": {},
   "outputs": [],
   "source": [
    "class Fraction:\n",
    "    \"\"\"Fraction 클래스\"\"\"\n",
    "\n",
    "    def __init__(self, top, bottom):\n",
    "        \"\"\"생성자 메서드\n",
    "        top: 분자\n",
    "        bottom: 분모\n",
    "        \"\"\"\n",
    "        self.top = top\n",
    "        self.bottom = bottom\n",
    "\n",
    "    def __str__(self):\n",
    "        return f\"{self.top}/{self.bottom}\"\n",
    "\n",
    "    def __add__(self, other_fraction):\n",
    "        new_top = self.top * other_fraction.bottom + self.bottom * other_fraction.top\n",
    "        new_bottom = self.bottom * other_fraction.bottom\n",
    "\n",
    "        return Fraction(new_top, new_bottom)"
   ]
  },
  {
   "cell_type": "code",
   "execution_count": 43,
   "id": "3cd40fc4",
   "metadata": {},
   "outputs": [
    {
     "name": "stdout",
     "output_type": "stream",
     "text": [
      "6/8\n"
     ]
    }
   ],
   "source": [
    "f14 = Fraction(1, 4)\n",
    "f12 = Fraction(1, 2)\n",
    "print(f14 + f12)"
   ]
  },
  {
   "cell_type": "markdown",
   "id": "afe1faaa",
   "metadata": {},
   "source": [
    "덧셈이 잘 작동하지만 결과값이 기약분수의 형태가 아니다. \n",
    "기약분수를 계산하려면 최대공약수(gcd)를 계산하는 알고리즘이 필요하다."
   ]
  },
  {
   "cell_type": "markdown",
   "id": "6ff1faa7",
   "metadata": {},
   "source": [
    ":::{prf:example} 유클리드 호젯법\n",
    ":label: euclid_gcd\n",
    "\n",
    "두 개의 정수 $m$과 $n$의 최대공약수를 가장 빠르고 효율적으로 계산하는 기법은 유클리드 호젯법이다.\n",
    "\n",
    "- $m$을 $n$으로 나눌 수 있으면 $n$이 최대공약수이다.\n",
    "- 그렇지 않으면 $n$과 $m\\,\\%\\, n$의 최대공약수가 원하는 최대공약수이다.\n",
    ":::"
   ]
  },
  {
   "cell_type": "markdown",
   "id": "87e842e6",
   "metadata": {},
   "source": [
    "위 기법을 구현하면 다음과 같다."
   ]
  },
  {
   "cell_type": "code",
   "execution_count": null,
   "id": "320b0273",
   "metadata": {},
   "outputs": [],
   "source": [
    "def gcd(m, n):\n",
    "    while m % n != 0:\n",
    "        m, n = n, m % n\n",
    "    return n"
   ]
  },
  {
   "cell_type": "code",
   "execution_count": null,
   "id": "7abe9925",
   "metadata": {},
   "outputs": [],
   "source": [
    "print(gcd(20, 10))\n",
    "print(gcd(20, 30))"
   ]
  },
  {
   "cell_type": "markdown",
   "id": "6b288207",
   "metadata": {},
   "source": [
    "`gcd()` 함수를 `__add__()` 함수의 정의에 활용하자. "
   ]
  },
  {
   "cell_type": "code",
   "execution_count": null,
   "id": "7ee87d27",
   "metadata": {},
   "outputs": [],
   "source": [
    "class Fraction:\n",
    "    \"\"\"Fraction 클래스\"\"\"\n",
    "\n",
    "    def __init__(self, top, bottom):\n",
    "        \"\"\"생성자 메서드\n",
    "        top: 분자\n",
    "        bottom: 분모\n",
    "        \"\"\"\n",
    "        self.top = top\n",
    "        self.bottom = bottom\n",
    "\n",
    "    def __str__(self):\n",
    "        return f\"{self.top}/{self.bottom}\"\n",
    "\n",
    "    def __add__(self, other_fraction):\n",
    "        new_num = self.top * other_fraction.den + \\\n",
    "                     self.bottom * other_fraction.num\n",
    "        new_den = self.bottom * other_fraction.den\n",
    "        common = gcd(new_num, new_den)\n",
    "        \n",
    "        return Fraction(new_num // common, new_den // common)"
   ]
  },
  {
   "cell_type": "markdown",
   "id": "cc0a21d0",
   "metadata": {},
   "source": [
    "이제 `Fraction`의 인스턴스는 생성자를 제외하고 두 개의 메서드를 더 갖는다."
   ]
  },
  {
   "cell_type": "markdown",
   "id": "24d8c160",
   "metadata": {},
   "source": [
    "<figure>\n",
    "<img src=\"https://raw.githubusercontent.com/codingalzi/problem_solving_with_algorithms/master/_sources/Introduction/Figures/fraction2.png\" width=\"50%\">\n",
    "</figure>"
   ]
  },
  {
   "cell_type": "markdown",
   "id": "25686567",
   "metadata": {},
   "source": [
    "이제 8/6이 아니라 3/4를 반환한다."
   ]
  },
  {
   "cell_type": "code",
   "execution_count": null,
   "id": "5ee91937",
   "metadata": {},
   "outputs": [],
   "source": [
    "f1 = Fraction(1, 4)\n",
    "f2 = Fraction(1, 2)\n",
    "f3 = f1 + f2\n",
    "print(f3)"
   ]
  },
  {
   "cell_type": "markdown",
   "id": "8efb2d74",
   "metadata": {},
   "source": [
    "**`__eq__()` 메서드: 객체의 동등성과 동일성**\n",
    "\n",
    "두 객체의 __동일성__(identity) 여부는 비교되는 두 객체가 동일한 메모리 주소에 저장되었는가에 따라 결정된다.\n",
    "반면에 메모리의 주소가 아니라 객체가 표현하는 값의 동일성 여부에 따라\n",
    "두 값을 비교 판정하는 것은 __동등성__(equality) 여부이다. \n",
    "\n",
    "예를 들어, 아래 두 객체 모두 분수 1/2를 객체를 가리키지만 서로 독립적으로 생성되었기에\n",
    "서로 다른 메모리에 저장되며, 따라서 두 변수 `x`와 `y`는 서로 다른 객체를 참조한다.\n",
    "따라서 두 변수가 참조하는 값은 동등하지 않다고 판정된다.\n",
    "이와같이 두 값의 동등성을 판단하는 것을 __얕은 동등성__(shallow equality)이라 부른다."
   ]
  },
  {
   "cell_type": "markdown",
   "id": "630d2b21",
   "metadata": {},
   "source": [
    "x = Fraction(1, 2)\n",
    "y = Fraction(1, 2)\n",
    "x == y"
   ]
  },
  {
   "cell_type": "markdown",
   "id": "dda993f7",
   "metadata": {},
   "source": [
    "물론 두 객체가 동일하지 않다고 판단된다."
   ]
  },
  {
   "cell_type": "markdown",
   "id": "75a129f2",
   "metadata": {},
   "source": [
    "x is y"
   ]
  },
  {
   "cell_type": "markdown",
   "id": "fd3fc4a0",
   "metadata": {},
   "source": [
    "__참고__: [PythonTutor-얕은 동등성](https://pythontutor.com/visualize.html#code=class%20Fraction%3A%0A%20%20%20%20%22%22%22Fraction%20%ED%81%B4%EB%9E%98%EC%8A%A4%22%22%22%0A%0A%20%20%20%20def%20__init__%28self,%20top,%20bottom%29%3A%0A%20%20%20%20%20%20%20%20%22%22%22%EC%83%9D%EC%84%B1%EC%9E%90%20%EB%A9%94%EC%84%9C%EB%93%9C%0A%20%20%20%20%20%20%20%20top%3A%20%EB%B6%84%EC%9E%90%0A%20%20%20%20%20%20%20%20bottom%3A%20%EB%B6%84%EB%AA%A8%0A%20%20%20%20%20%20%20%20%22%22%22%0A%20%20%20%20%20%20%20%20self.top%20%3D%20top%0A%20%20%20%20%20%20%20%20self.bottom%20%3D%20bottom%0A%0A%20%20%20%20def%20__str__%28self%29%3A%0A%20%20%20%20%20%20%20%20return%20f%22%7Bself.top%7D/%7Bself.bottom%7D%22%0A%0A%20%20%20%20def%20__add__%28self,%20other_fraction%29%3A%0A%20%20%20%20%20%20%20%20new_num%20%3D%20self.top%20*%20other_fraction.den%20%2B%20%5C%0A%20%20%20%20%20%20%20%20%20%20%20%20%20%20%20%20%20%20%20%20%20self.bottom%20*%20other_fraction.num%0A%20%20%20%20%20%20%20%20new_den%20%3D%20self.bottom%20*%20other_fraction.den%0A%20%20%20%20%20%20%20%20common%20%3D%20gcd%28new_num,%20new_den%29%0A%20%20%20%20%20%20%20%20%0A%20%20%20%20%20%20%20%20return%20Fraction%28new_num%20//%20common,%20new_den%20//%20common%29%0A%0Ax%20%3D%20Fraction%281,%202%29%0Ay%20%3D%20Fraction%281,%202%29%0Aprint%28x%20%3D%3D%20y%29&cumulative=false&curInstr=0&heapPrimitives=nevernest&mode=display&origin=opt-frontend.js&py=3&rawInputLstJSON=%5B%5D&textReferences=false)"
   ]
  },
  {
   "cell_type": "markdown",
   "id": "6ff66a66",
   "metadata": {},
   "source": [
    "반면에 아래처럼 두 변수가 참조하는 객체를 동일(identical)하게 하면 당연히 다른 결과가 나온다."
   ]
  },
  {
   "cell_type": "markdown",
   "id": "042aaa08",
   "metadata": {},
   "source": [
    "x = Fraction(1, 2)\n",
    "y = x\n",
    "print(x == y)\n",
    "print(x is y)"
   ]
  },
  {
   "cell_type": "markdown",
   "id": "8985396b",
   "metadata": {},
   "source": [
    "<figure>\n",
    "<img src=\"https://raw.githubusercontent.com/codingalzi/problem_solving_with_algorithms/master/_sources/Introduction/Figures/fraction3.png\" width=\"80%\">\n",
    "</figure>"
   ]
  },
  {
   "cell_type": "markdown",
   "id": "b3cd66a7",
   "metadata": {},
   "source": [
    "반면에 __깊은 동등성__(deep equality)은 두 객체가 (의도된) 동일한 값을\n",
    "가리키는가 여부를 결정하며, 이를 위해 \n",
    "`__eq__` 매직 메서드를 이용한다.\n",
    "두 분수의 동등성은 아래와 같이 정의된다.\n",
    "\n",
    "$$\\frac {a}{b} = \\frac {c}{d} \\Longleftrightarrow ad = bc$$\n",
    "\n",
    "이를 구현하는 `__eq__()` 메서드를 `Fraction` 클래스에 추가하자."
   ]
  },
  {
   "cell_type": "markdown",
   "id": "1d6c4289",
   "metadata": {},
   "source": [
    "class Fraction:\n",
    "    \"\"\"Fraction 클래스\"\"\"\n",
    "\n",
    "    def __init__(self, top, bottom):\n",
    "        \"\"\"생성자 메서드\n",
    "        top: 분자\n",
    "        bottom: 분모\n",
    "        \"\"\"\n",
    "        self.top = top\n",
    "        self.bottom = bottom\n",
    "\n",
    "    def __str__(self):\n",
    "        return f\"{self.top}/{self.bottom}\"\n",
    "\n",
    "    def __add__(self, other_fraction):\n",
    "        new_num = self.top * other_fraction.den + \\\n",
    "                     self.bottom * other_fraction.num\n",
    "        new_den = self.bottom * other_fraction.den\n",
    "        common = gcd(new_num, new_den)\n",
    "        \n",
    "        return Fraction(new_num // common, new_den // common)\n",
    "\n",
    "    def __eq__(self, other_fraction):\n",
    "        first_num = self.top * other_fraction.den\n",
    "        second_num = other_fraction.num * self.bottom\n",
    "\n",
    "        return first_num == second_num"
   ]
  },
  {
   "cell_type": "markdown",
   "id": "f1ba961d",
   "metadata": {},
   "source": [
    "이제 동등성이 의도한대로 작동한다."
   ]
  },
  {
   "cell_type": "markdown",
   "id": "6c2a616b",
   "metadata": {},
   "source": [
    "x = Fraction(1, 2)\n",
    "y = Fraction(1, 2)\n",
    "print(x == y)"
   ]
  },
  {
   "cell_type": "markdown",
   "id": "82148226",
   "metadata": {},
   "source": [
    "동일성은 동등성과 상관없이 전혀 변하지 않는다."
   ]
  },
  {
   "cell_type": "markdown",
   "id": "3a03e37b",
   "metadata": {},
   "source": [
    "x = Fraction(1, 2)\n",
    "y = Fraction(2, 3)\n",
    "print(x == y)"
   ]
  },
  {
   "cell_type": "markdown",
   "id": "a0ae30ad",
   "metadata": {},
   "source": [
    "**`__dir__()` 메서드**\n",
    "\n",
    "객체의 모든 속성과 메서드를 확인하기 위해 아래와 같이 실행한다. "
   ]
  },
  {
   "cell_type": "markdown",
   "id": "a9006ffe",
   "metadata": {},
   "source": [
    "x.__dir__()"
   ]
  },
  {
   "cell_type": "markdown",
   "id": "3a3a2e2e",
   "metadata": {},
   "source": [
    "예를 들어, `__class__` 변수는 객체가 속하는 클래스 이름을 속성값으로 갖는다."
   ]
  },
  {
   "cell_type": "markdown",
   "id": "6d96c839",
   "metadata": {},
   "source": [
    "x.__class__"
   ]
  },
  {
   "cell_type": "markdown",
   "id": "a98c9f11",
   "metadata": {},
   "source": [
    "### 기타 메서드"
   ]
  },
  {
   "cell_type": "markdown",
   "id": "1a725d47",
   "metadata": {},
   "source": [
    "- 분수를 부동소수점으로 변환 메서드 등등"
   ]
  },
  {
   "cell_type": "markdown",
   "id": "22be2e2c",
   "metadata": {},
   "source": [
    "## 연습문제"
   ]
  },
  {
   "cell_type": "markdown",
   "id": "31b9be77",
   "metadata": {},
   "source": [
    "참고: [(실습) 클래스, 인스턴스, 객체](https://colab.research.google.com/github/codingalzi/pybook/blob/master/practices/practice-classes_instances_objects.ipynb)"
   ]
  }
 ],
 "metadata": {
  "kernelspec": {
   "display_name": "Python 3 (ipykernel)",
   "language": "python",
   "name": "python3"
  },
  "language_info": {
   "codemirror_mode": {
    "name": "ipython",
    "version": 3
   },
   "file_extension": ".py",
   "mimetype": "text/x-python",
   "name": "python",
   "nbconvert_exporter": "python",
   "pygments_lexer": "ipython3",
   "version": "3.9.7"
  }
 },
 "nbformat": 4,
 "nbformat_minor": 5
}
