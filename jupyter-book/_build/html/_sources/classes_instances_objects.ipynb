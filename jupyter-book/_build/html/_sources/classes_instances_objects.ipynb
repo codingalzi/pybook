{
 "cells": [
  {
   "cell_type": "markdown",
   "id": "3efee1fe",
   "metadata": {},
   "source": [
    "(ch:classes_instances_objects)=\n",
    "# 클래스, 인스턴스, 객체"
   ]
  },
  {
   "cell_type": "markdown",
   "id": "2774ec0d",
   "metadata": {},
   "source": [
    "**참고:** 아래 내용은 [Problem Solving with Algorithms and Data Structures using Python](https://runestone.academy/ns/books/published/pythonds3/index.html)의 1.13 절 내용을 \n",
    "일부 활용한다. "
   ]
  },
  {
   "cell_type": "markdown",
   "id": "c0917575",
   "metadata": {},
   "source": [
    "파이썬은 객체 지향 프로그래밍 언어이다.\n",
    "객체 지향 프로그래밍 언어의 가장 큰 장점 중의 하나로,\n",
    "사용자가 직접 필요한 자료형을 클래스로 정의하고 객체를 생성하여 활용할 수 있다.\n",
    "\n",
    "여기서는 분수 자료형인 `Fraction` 클래스를 정의하기 위해 다양하며 필요한 \n",
    "__상태__<font size='2'>state</font>와 __메서드__<font size='2'>method</font>를\n",
    "추가하는 과정을 자세히 소개한다."
   ]
  },
  {
   "cell_type": "markdown",
   "id": "fd9b0bf8",
   "metadata": {},
   "source": [
    "## 클래스 선언"
   ]
  },
  {
   "cell_type": "markdown",
   "id": "0cf5be4c",
   "metadata": {},
   "source": [
    "분수들의 클래스를 자료형으로 정의해보자.\n",
    "`Fraction` 클래스의 상태는 아래 정보를 담는다.\n",
    "\n",
    "- 임의의 정수인 분자와 0이 아닌 임의의 정수인 분모\n",
    "\n",
    "`Fraction` 클래스는 기본적으로 분수들의 사칙연산 기능을 제공해야 한다.\n",
    "또한 '3/5'와 같이 표현할 수 있어야 하며, 사칙연산의 계산결과는\n",
    "모두 기약분수로 표현되도록 한다.\n",
    "\n",
    "파이썬을 이용한 클래스 정의 형식은 다음과 같다.\n",
    "\n",
    "```python\n",
    "class Fraction:\n",
    "    \n",
    "    # 상태 지정 및 메서드 선언\n",
    "```"
   ]
  },
  {
   "cell_type": "markdown",
   "id": "f8cb6e9c",
   "metadata": {},
   "source": [
    "## 생성자"
   ]
  },
  {
   "cell_type": "markdown",
   "id": "38d315bf",
   "metadata": {},
   "source": [
    "모든 파이썬 클래스는 인스턴스<font size='2'>instance</font>를 생성하는 **생성자**인 \n",
    "`__init__()` 메서드를 포함해야 한다. \n",
    "생성자는 생성되는 인스턴스의 속성<font size='2'>attributes</font>으로 저장될 정보와 관련된 값을 \n",
    "인자로 받는다.\n",
    "`Fraction` 클래스의 생성자는 분자와 분모에 해당하는 값을 받아 저장하는 기능을 수행한다."
   ]
  },
  {
   "cell_type": "code",
   "execution_count": 1,
   "id": "01f65ce1",
   "metadata": {},
   "outputs": [],
   "source": [
    "class Fraction:\n",
    "    \"\"\"Fraction 클래스\"\"\"\n",
    "    def __init__(self, top, bottom):\n",
    "        \"\"\"생성자 메서드\n",
    "        top: 분자\n",
    "        bottom: 분모\n",
    "        \"\"\"\n",
    "\n",
    "        self.num = top\n",
    "        self.den = bottom"
   ]
  },
  {
   "cell_type": "markdown",
   "id": "90a26680",
   "metadata": {},
   "source": [
    "## 인스턴스"
   ]
  },
  {
   "cell_type": "markdown",
   "id": "fe150640",
   "metadata": {},
   "source": [
    "`Fraction` 클래스의 **인스턴스**<font size='2'>instance</font>, \n",
    "즉 하나의 분수에 해당하는 **객체**<font size='2'>object</font>를 생성하는 방식은 다음과 같다.\n",
    "\n",
    "```python\n",
    "Fraction(3, 5)\n",
    "```\n",
    "\n",
    "그러면 생성자 함수 `__init__()` 가 분자에 해당하는 3, 분모에 해당하는 5를 인자로 사용하여\n",
    "호출된다.\n",
    "아래 코드는 `3/5` 에 해당하는 객체, 즉 `Fraction` 클래스의 인스턴스를 가리키는 \n",
    "`my_fraction` 변수를 선언한다."
   ]
  },
  {
   "cell_type": "code",
   "execution_count": 2,
   "id": "2ad9e324",
   "metadata": {},
   "outputs": [],
   "source": [
    "my_fraction = Fraction(3, 5)"
   ]
  },
  {
   "cell_type": "markdown",
   "id": "8cf6666d",
   "metadata": {},
   "source": [
    "<figure>\n",
    "<img src=\"https://raw.githubusercontent.com/codingalzi/problem_solving_with_algorithms/master/_sources/Introduction/Figures/fraction1.png\" width=\"50%\">\n",
    "</figure>"
   ]
  },
  {
   "cell_type": "markdown",
   "id": "cce84f7d",
   "metadata": {},
   "source": [
    ":::{admonition} `self`의 역할\n",
    ":class: info\n",
    "\n",
    "`my_fraction = Fraction(3, 5)` 방식으로 변수 할당이 실행되면\n",
    "파이썬 해석기는 다음을 싱행한다.\n",
    "\n",
    "```python\n",
    "__init__(my_fraction, 3, 5)\n",
    "```\n",
    "\n",
    "즉, `self` 매개변수는 현재 생성되는 객체를 인자로 사용한다.\n",
    ":::"
   ]
  },
  {
   "cell_type": "markdown",
   "id": "463ac91d",
   "metadata": {},
   "source": [
    "## 인스턴스 변수와 속성"
   ]
  },
  {
   "cell_type": "markdown",
   "id": "833c15a1",
   "metadata": {},
   "source": [
    "클래스에서 선언된 `self.num` 과 `self.den` 은 \n",
    "**인스턴스 변수**<font size='2'>instance variable</font>다.\n",
    "인스턴스 변수는 해당 클래스의 영역 내에서만 의미를 가지며\n",
    "기본적으로 생성자가 실행되는 과정, 즉\n",
    "클래스의 인스턴스가 생성되는 과정에서 선언된다.\n",
    "\n",
    "**인스턴스 속성**<font size=\"2\">instance attribute</font>은 \n",
    "인스턴스 변수에 할당된 값이며,\n",
    "생성된 객체의 속성을 나타낸다.\n",
    "\n",
    "인스턴스 변수는 생성자 이외에도 클래스 내부에서 다른 방식으로 선언될 수 있다.\n",
    "\n"
   ]
  },
  {
   "cell_type": "markdown",
   "id": "92ca0237",
   "metadata": {},
   "source": [
    ":::{admonition} 클래스 변수\n",
    ":class: info\n",
    "\n",
    "클래스 내부에서 선언되는 변수는\n",
    "`self` 와 함께 선언되는 인스턴스 변수와\n",
    "`self` 를 사용하지 않는 **클래스 변수**<font size='2'>class variable</font> 로\n",
    "구분된다.\n",
    "여기서는 인스턴스 변수만 다루며 클래스 변수는 이어지는\n",
    "{numref}`%s장 <ch:classes>`에서 소개한다.\n",
    ":::"
   ]
  },
  {
   "cell_type": "markdown",
   "id": "8b65e427",
   "metadata": {},
   "source": [
    "## 매직 메서드"
   ]
  },
  {
   "cell_type": "markdown",
   "id": "d07a8441",
   "metadata": {},
   "source": [
    "**`__str__()` 메서드**\n",
    "\n",
    "`my_frantion`이 가리키는 분수는 '3/5'에 해당하는 분수이다. \n",
    "그런데 `print()` 함수를 이용하여 이 사실을 확인하려면 \n",
    "이상한 결과만 확인한다."
   ]
  },
  {
   "cell_type": "code",
   "execution_count": 3,
   "id": "90a3e294",
   "metadata": {},
   "outputs": [
    {
     "name": "stdout",
     "output_type": "stream",
     "text": [
      "<__main__.Fraction object at 0x7f4286dc2760>\n"
     ]
    }
   ],
   "source": [
    "print(my_fraction)"
   ]
  },
  {
   "cell_type": "markdown",
   "id": "cc02cd39",
   "metadata": {},
   "source": [
    "이유는 `Fraction` 클래스가 자신의 인스턴스를 소개하는 기능을 제공하지 않았기 때문이다. \n",
    "결국 `my_fraction` 입장에서는 자신이 어떤 클래스의 인스턴스이며 \n",
    "자신이 저장된 메모리 주소만을 알려준다. "
   ]
  },
  {
   "cell_type": "markdown",
   "id": "e6472d34",
   "metadata": {},
   "source": [
    "파이썬의 모든 클래스는 생성자와 함께 기본적으로 포함하는 메서드 목록이 있다. \n",
    "이유는 파이썬의 모든 클래스는 기본적으로 최상위 클래스인 `object` 클래스를 \n",
    "상속한다.\n",
    "따라서 `Fraction` 클래스의 엄밀한 정의는 다음과 같다. "
   ]
  },
  {
   "cell_type": "code",
   "execution_count": 4,
   "id": "3cc4cea3",
   "metadata": {},
   "outputs": [],
   "source": [
    "class Fraction(object):\n",
    "    \"\"\"Fraction 클래스\"\"\"\n",
    "\n",
    "    def __init__(self, top, bottom):\n",
    "        \"\"\"생성자 메서드\n",
    "        top: 분자\n",
    "        bottom: 분모\n",
    "        \"\"\"\n",
    "        self.num = top\n",
    "        self.den = bottom"
   ]
  },
  {
   "cell_type": "markdown",
   "id": "69ef494e",
   "metadata": {},
   "source": [
    "상속을 통해 `__init__()` 등 기본으로 지정된 메서드를 여러 개 함께 상속한다.\n",
    "이렇게 자동으로 상속받으며 두 개의 밑줄이 양쪽을 감싼느 메서드를 __매직 메서드__(magic method)라 부르며,\n",
    "이중에 `__str__()` 메서드도 포함된다.\n",
    "이 사실을  `dir()` 함수를 이용하여 확인할 수 있다."
   ]
  },
  {
   "cell_type": "code",
   "execution_count": 5,
   "id": "5882adf6",
   "metadata": {},
   "outputs": [
    {
     "data": {
      "text/plain": [
       "['__class__',\n",
       " '__delattr__',\n",
       " '__dict__',\n",
       " '__dir__',\n",
       " '__doc__',\n",
       " '__eq__',\n",
       " '__format__',\n",
       " '__ge__',\n",
       " '__getattribute__',\n",
       " '__gt__',\n",
       " '__hash__',\n",
       " '__init__',\n",
       " '__init_subclass__',\n",
       " '__le__',\n",
       " '__lt__',\n",
       " '__module__',\n",
       " '__ne__',\n",
       " '__new__',\n",
       " '__reduce__',\n",
       " '__reduce_ex__',\n",
       " '__repr__',\n",
       " '__setattr__',\n",
       " '__sizeof__',\n",
       " '__str__',\n",
       " '__subclasshook__',\n",
       " '__weakref__']"
      ]
     },
     "execution_count": 5,
     "metadata": {},
     "output_type": "execute_result"
    }
   ],
   "source": [
    "dir(Fraction)"
   ]
  },
  {
   "cell_type": "markdown",
   "id": "1082cf5f",
   "metadata": {},
   "source": [
    "언급된 매직메서드 각자는 고유의 역할을 수행하기에 준비되었지만 대부분 본체가 없는,\n",
    "즉 제대로 정의되지 않은 채로 상속된다. \n",
    "이 중에 `__str__()` 메서드는 해당 클래스의 인스턴스를 `print()` 함수를 통해\n",
    "어떻게 보여줄 것인가를 문자열로 지정하는 함수로 활용된다."
   ]
  },
  {
   "cell_type": "markdown",
   "id": "944a9d2e",
   "metadata": {},
   "source": [
    "`Fraction` 클래스를 선언할 때 `__str__()` 메서드를 아래처럼 재정의(overriding) 해보자."
   ]
  },
  {
   "cell_type": "code",
   "execution_count": 6,
   "id": "f38ef3f0",
   "metadata": {},
   "outputs": [],
   "source": [
    "class Fraction:\n",
    "    \"\"\"Fraction 클래스\"\"\"\n",
    "\n",
    "    def __init__(self, top, bottom):\n",
    "        \"\"\"생성자 메서드\n",
    "        top: 분자\n",
    "        bottom: 분모\n",
    "        \"\"\"\n",
    "        self.num = top\n",
    "        self.den = bottom\n",
    "\n",
    "    def __str__(self):\n",
    "        return f\"{self.num}/{self.den}\""
   ]
  },
  {
   "cell_type": "code",
   "execution_count": 7,
   "id": "1dea7418",
   "metadata": {},
   "outputs": [],
   "source": [
    "my_fraction = Fraction(3, 5)"
   ]
  },
  {
   "cell_type": "markdown",
   "id": "851c2f3e",
   "metadata": {},
   "source": [
    "이제 `print()` 함수가 원했던 대로 작동한다."
   ]
  },
  {
   "cell_type": "code",
   "execution_count": 8,
   "id": "0e028151",
   "metadata": {},
   "outputs": [
    {
     "name": "stdout",
     "output_type": "stream",
     "text": [
      "3/5\n"
     ]
    }
   ],
   "source": [
    "print(my_fraction)"
   ]
  },
  {
   "cell_type": "markdown",
   "id": "64d1feb2",
   "metadata": {},
   "source": [
    "`__str__()` 메서드를 직접 호출해도 동일한 결과를 얻는다. "
   ]
  },
  {
   "cell_type": "code",
   "execution_count": 9,
   "id": "ca08a80a",
   "metadata": {},
   "outputs": [
    {
     "data": {
      "text/plain": [
       "'3/5'"
      ]
     },
     "execution_count": 9,
     "metadata": {},
     "output_type": "execute_result"
    }
   ],
   "source": [
    "my_fraction.__str__()"
   ]
  },
  {
   "cell_type": "code",
   "execution_count": 10,
   "id": "adcd246a",
   "metadata": {},
   "outputs": [
    {
     "name": "stdout",
     "output_type": "stream",
     "text": [
      "피자의 3/5를 먹었다.\n"
     ]
    }
   ],
   "source": [
    "print(f\"피자의 {my_fraction}를 먹었다.\")"
   ]
  },
  {
   "cell_type": "markdown",
   "id": "c9e59c71",
   "metadata": {},
   "source": [
    "`str()` 함수는 인자로 사용된 객체가 제공하는 `__str__()` 메서드를 내부에서 호출한다."
   ]
  },
  {
   "cell_type": "code",
   "execution_count": 11,
   "id": "67ed3b58",
   "metadata": {},
   "outputs": [
    {
     "data": {
      "text/plain": [
       "'3/5'"
      ]
     },
     "execution_count": 11,
     "metadata": {},
     "output_type": "execute_result"
    }
   ],
   "source": [
    "str(my_fraction)"
   ]
  },
  {
   "cell_type": "markdown",
   "id": "00178ecd",
   "metadata": {},
   "source": [
    "**`__add__()` 메서드**\n",
    "\n",
    "분수의 덧셈을 시도하면 오류가 발생한다.\n",
    "\n",
    "```python\n",
    "f1 = Fraction(1, 4)\n",
    "f2 = Fraction(1, 2)\n",
    "\n",
    "f1 + f2\n",
    "---------------------------------------------------------------------------\n",
    "TypeError                                 Traceback (most recent call last)\n",
    "<ipython-input-13-ad0256b81ae0> in <module>\n",
    "----> 1 f1 + f2\n",
    "\n",
    "TypeError: unsupported operand type(s) for +: 'Fraction' and 'Fraction'\n",
    "```\n",
    "\n",
    "이유는 덧셈 연산자 `+`가 `Fraction` 클래스의 인스턴스에 대해 지원되지 않기 때문이다. \n",
    "\n",
    "덧셈, 뺄셈 등 사칙연산에 대해 일반적으로 사용되는 기호를 사용하려면\n",
    "각각의 기호에 해당하는 매직 메서드를 선언해야 한다. \n",
    "예를 들어 분수의 덧셈을 위해 `+` 연산자를 사용하려면 \n",
    "`Fraction` 클래스에 `__add__()` 메서드가 적절하게 정의되어 있어야 한다.\n",
    "그러면 아래 표현식은 `f1 + f2`에 해당하는 값을 가리키게 된다.\n",
    "\n",
    "```python\n",
    "f1.__add__(f2)\n",
    "```"
   ]
  },
  {
   "cell_type": "markdown",
   "id": "961f68ee",
   "metadata": {},
   "source": [
    "분수의 덧셈은 아래와 같이 정의된다.\n",
    "\n",
    "$$\\frac {a}{b} + \\frac {c}{d} = \\frac {ad}{bd} + \\frac {cb}{bd} = \\frac{ad+cb}{bd}$$\n",
    "\n",
    "이를 구현하는 `__add__()` 메서드를 `Fraction` 클래스에 추가하자."
   ]
  },
  {
   "cell_type": "code",
   "execution_count": 12,
   "id": "4199c75f",
   "metadata": {},
   "outputs": [],
   "source": [
    "class Fraction:\n",
    "    \"\"\"Fraction 클래스\"\"\"\n",
    "\n",
    "    def __init__(self, top, bottom):\n",
    "        \"\"\"생성자 메서드\n",
    "        top: 분자\n",
    "        bottom: 분모\n",
    "        \"\"\"\n",
    "        self.num = top\n",
    "        self.den = bottom\n",
    "\n",
    "    def __str__(self):\n",
    "        return f\"{self.num}/{self.den}\"\n",
    "\n",
    "    def __add__(self, other_fraction):\n",
    "        new_num = self.num * other_fraction.den + \\\n",
    "                    self.den * other_fraction.num\n",
    "        new_den = self.den * other_fraction.den\n",
    "\n",
    "        return Fraction(new_num, new_den)"
   ]
  },
  {
   "cell_type": "code",
   "execution_count": 13,
   "id": "83853462",
   "metadata": {},
   "outputs": [
    {
     "name": "stdout",
     "output_type": "stream",
     "text": [
      "6/8\n"
     ]
    }
   ],
   "source": [
    "f1 = Fraction(1, 4)\n",
    "f2 = Fraction(1, 2)\n",
    "f3 = f1 + f2\n",
    "print(f3)"
   ]
  },
  {
   "cell_type": "markdown",
   "id": "afe1faaa",
   "metadata": {},
   "source": [
    "덧셈이 잘 작동하지만 결과값이 기약분수의 형태가 아니다. \n",
    "기약분수를 계산하려면 최대공약수(gcd)를 계산하는 알고리즘이 필요하다."
   ]
  },
  {
   "cell_type": "markdown",
   "id": "6ff1faa7",
   "metadata": {},
   "source": [
    ":::{prf:example} 유클리드 호젯법\n",
    ":label: euclid_gcd\n",
    "\n",
    "두 개의 정수 $m$과 $n$의 최대공약수를 가장 빠르고 효율적으로 계산하는 기법은 유클리드 호젯법이다.\n",
    "\n",
    "- $m$을 $n$으로 나눌 수 있으면 $n$이 최대공약수이다.\n",
    "- 그렇지 않으면 $n$과 $m\\,\\%\\, n$의 최대공약수가 원하는 최대공약수이다.\n",
    ":::"
   ]
  },
  {
   "cell_type": "markdown",
   "id": "87e842e6",
   "metadata": {},
   "source": [
    "위 기법을 구현하면 다음과 같다."
   ]
  },
  {
   "cell_type": "code",
   "execution_count": 14,
   "id": "4159d72c",
   "metadata": {},
   "outputs": [],
   "source": [
    "def gcd(m, n):\n",
    "    while m % n != 0:\n",
    "        m, n = n, m % n\n",
    "    return n"
   ]
  },
  {
   "cell_type": "code",
   "execution_count": 15,
   "id": "50de8de4",
   "metadata": {},
   "outputs": [
    {
     "name": "stdout",
     "output_type": "stream",
     "text": [
      "10\n",
      "10\n"
     ]
    }
   ],
   "source": [
    "print(gcd(20, 10))\n",
    "print(gcd(20, 30))"
   ]
  },
  {
   "cell_type": "markdown",
   "id": "6b288207",
   "metadata": {},
   "source": [
    "`gcd()` 함수를 `__add__()` 함수의 정의에 활용하자. "
   ]
  },
  {
   "cell_type": "code",
   "execution_count": 16,
   "id": "0ce6ba3a",
   "metadata": {},
   "outputs": [],
   "source": [
    "class Fraction:\n",
    "    \"\"\"Fraction 클래스\"\"\"\n",
    "\n",
    "    def __init__(self, top, bottom):\n",
    "        \"\"\"생성자 메서드\n",
    "        top: 분자\n",
    "        bottom: 분모\n",
    "        \"\"\"\n",
    "        self.num = top\n",
    "        self.den = bottom\n",
    "\n",
    "    def __str__(self):\n",
    "        return f\"{self.num}/{self.den}\"\n",
    "\n",
    "    def __add__(self, other_fraction):\n",
    "        new_num = self.num * other_fraction.den + \\\n",
    "                     self.den * other_fraction.num\n",
    "        new_den = self.den * other_fraction.den\n",
    "        common = gcd(new_num, new_den)\n",
    "        \n",
    "        return Fraction(new_num // common, new_den // common)"
   ]
  },
  {
   "cell_type": "markdown",
   "id": "cc0a21d0",
   "metadata": {},
   "source": [
    "이제 `Fraction`의 인스턴스는 생성자를 제외하고 두 개의 메서드를 더 갖는다."
   ]
  },
  {
   "cell_type": "markdown",
   "id": "24d8c160",
   "metadata": {},
   "source": [
    "<figure>\n",
    "<img src=\"https://raw.githubusercontent.com/codingalzi/problem_solving_with_algorithms/master/_sources/Introduction/Figures/fraction2.png\" width=\"50%\">\n",
    "</figure>"
   ]
  },
  {
   "cell_type": "markdown",
   "id": "25686567",
   "metadata": {},
   "source": [
    "이제 8/6이 아니라 3/4를 반환한다."
   ]
  },
  {
   "cell_type": "code",
   "execution_count": 17,
   "id": "86bdc50a",
   "metadata": {},
   "outputs": [
    {
     "name": "stdout",
     "output_type": "stream",
     "text": [
      "3/4\n"
     ]
    }
   ],
   "source": [
    "f1 = Fraction(1, 4)\n",
    "f2 = Fraction(1, 2)\n",
    "f3 = f1 + f2\n",
    "print(f3)"
   ]
  },
  {
   "cell_type": "markdown",
   "id": "8efb2d74",
   "metadata": {},
   "source": [
    "**`__eq__()` 메서드: 객체의 동등성과 동일성**\n",
    "\n",
    "두 객체의 __동일성__(identity) 여부는 비교되는 두 객체가 동일한 메모리 주소에 저장되었는가에 따라 결정된다.\n",
    "반면에 메모리의 주소가 아니라 객체가 표현하는 값의 동일성 여부에 따라\n",
    "두 값을 비교 판정하는 것은 __동등성__(equality) 여부이다. \n",
    "\n",
    "예를 들어, 아래 두 객체 모두 분수 1/2를 객체를 가리키지만 서로 독립적으로 생성되었기에\n",
    "서로 다른 메모리에 저장되며, 따라서 두 변수 `x`와 `y`는 서로 다른 객체를 참조한다.\n",
    "따라서 두 변수가 참조하는 값은 동등하지 않다고 판정된다.\n",
    "이와같이 두 값의 동등성을 판단하는 것을 __얕은 동등성__(shallow equality)이라 부른다."
   ]
  },
  {
   "cell_type": "code",
   "execution_count": 18,
   "id": "9fcc4873",
   "metadata": {},
   "outputs": [
    {
     "data": {
      "text/plain": [
       "False"
      ]
     },
     "execution_count": 18,
     "metadata": {},
     "output_type": "execute_result"
    }
   ],
   "source": [
    "x = Fraction(1, 2)\n",
    "y = Fraction(1, 2)\n",
    "x == y"
   ]
  },
  {
   "cell_type": "markdown",
   "id": "dda993f7",
   "metadata": {},
   "source": [
    "물론 두 객체가 동일하지 않다고 판단된다."
   ]
  },
  {
   "cell_type": "code",
   "execution_count": 19,
   "id": "6986cae3",
   "metadata": {},
   "outputs": [
    {
     "data": {
      "text/plain": [
       "False"
      ]
     },
     "execution_count": 19,
     "metadata": {},
     "output_type": "execute_result"
    }
   ],
   "source": [
    "x is y"
   ]
  },
  {
   "cell_type": "markdown",
   "id": "fd3fc4a0",
   "metadata": {},
   "source": [
    "__참고__: [PythonTutor-얕은 동등성](https://pythontutor.com/visualize.html#code=class%20Fraction%3A%0A%20%20%20%20%22%22%22Fraction%20%ED%81%B4%EB%9E%98%EC%8A%A4%22%22%22%0A%0A%20%20%20%20def%20__init__%28self,%20top,%20bottom%29%3A%0A%20%20%20%20%20%20%20%20%22%22%22%EC%83%9D%EC%84%B1%EC%9E%90%20%EB%A9%94%EC%84%9C%EB%93%9C%0A%20%20%20%20%20%20%20%20top%3A%20%EB%B6%84%EC%9E%90%0A%20%20%20%20%20%20%20%20bottom%3A%20%EB%B6%84%EB%AA%A8%0A%20%20%20%20%20%20%20%20%22%22%22%0A%20%20%20%20%20%20%20%20self.num%20%3D%20top%0A%20%20%20%20%20%20%20%20self.den%20%3D%20bottom%0A%0A%20%20%20%20def%20__str__%28self%29%3A%0A%20%20%20%20%20%20%20%20return%20f%22%7Bself.num%7D/%7Bself.den%7D%22%0A%0A%20%20%20%20def%20__add__%28self,%20other_fraction%29%3A%0A%20%20%20%20%20%20%20%20new_num%20%3D%20self.num%20*%20other_fraction.den%20%2B%20%5C%0A%20%20%20%20%20%20%20%20%20%20%20%20%20%20%20%20%20%20%20%20%20self.den%20*%20other_fraction.num%0A%20%20%20%20%20%20%20%20new_den%20%3D%20self.den%20*%20other_fraction.den%0A%20%20%20%20%20%20%20%20common%20%3D%20gcd%28new_num,%20new_den%29%0A%20%20%20%20%20%20%20%20%0A%20%20%20%20%20%20%20%20return%20Fraction%28new_num%20//%20common,%20new_den%20//%20common%29%0A%0Ax%20%3D%20Fraction%281,%202%29%0Ay%20%3D%20Fraction%281,%202%29%0Aprint%28x%20%3D%3D%20y%29&cumulative=false&curInstr=0&heapPrimitives=nevernest&mode=display&origin=opt-frontend.js&py=3&rawInputLstJSON=%5B%5D&textReferences=false)"
   ]
  },
  {
   "cell_type": "markdown",
   "id": "6ff66a66",
   "metadata": {},
   "source": [
    "반면에 아래처럼 두 변수가 참조하는 객체를 동일(identical)하게 하면 당연히 다른 결과가 나온다."
   ]
  },
  {
   "cell_type": "code",
   "execution_count": 20,
   "id": "47579a90",
   "metadata": {},
   "outputs": [
    {
     "name": "stdout",
     "output_type": "stream",
     "text": [
      "True\n",
      "True\n"
     ]
    }
   ],
   "source": [
    "x = Fraction(1, 2)\n",
    "y = x\n",
    "print(x == y)\n",
    "print(x is y)"
   ]
  },
  {
   "cell_type": "markdown",
   "id": "8985396b",
   "metadata": {},
   "source": [
    "<figure>\n",
    "<img src=\"https://raw.githubusercontent.com/codingalzi/problem_solving_with_algorithms/master/_sources/Introduction/Figures/fraction3.png\" width=\"80%\">\n",
    "</figure>"
   ]
  },
  {
   "cell_type": "markdown",
   "id": "b3cd66a7",
   "metadata": {},
   "source": [
    "반면에 __깊은 동등성__(deep equality)은 두 객체가 (의도된) 동일한 값을\n",
    "가리키는가 여부를 결정하며, 이를 위해 \n",
    "`__eq__` 매직 메서드를 이용한다.\n",
    "두 분수의 동등성은 아래와 같이 정의된다.\n",
    "\n",
    "$$\\frac {a}{b} = \\frac {c}{d} \\Longleftrightarrow ad = bc$$\n",
    "\n",
    "이를 구현하는 `__eq__()` 메서드를 `Fraction` 클래스에 추가하자."
   ]
  },
  {
   "cell_type": "code",
   "execution_count": 21,
   "id": "65649750",
   "metadata": {},
   "outputs": [],
   "source": [
    "class Fraction:\n",
    "    \"\"\"Fraction 클래스\"\"\"\n",
    "\n",
    "    def __init__(self, top, bottom):\n",
    "        \"\"\"생성자 메서드\n",
    "        top: 분자\n",
    "        bottom: 분모\n",
    "        \"\"\"\n",
    "        self.num = top\n",
    "        self.den = bottom\n",
    "\n",
    "    def __str__(self):\n",
    "        return f\"{self.num}/{self.den}\"\n",
    "\n",
    "    def __add__(self, other_fraction):\n",
    "        new_num = self.num * other_fraction.den + \\\n",
    "                     self.den * other_fraction.num\n",
    "        new_den = self.den * other_fraction.den\n",
    "        common = gcd(new_num, new_den)\n",
    "        \n",
    "        return Fraction(new_num // common, new_den // common)\n",
    "\n",
    "    def __eq__(self, other_fraction):\n",
    "        first_num = self.num * other_fraction.den\n",
    "        second_num = other_fraction.num * self.den\n",
    "\n",
    "        return first_num == second_num"
   ]
  },
  {
   "cell_type": "markdown",
   "id": "f1ba961d",
   "metadata": {},
   "source": [
    "이제 동등성이 의도한대로 작동한다."
   ]
  },
  {
   "cell_type": "code",
   "execution_count": 22,
   "id": "83ff05a7",
   "metadata": {},
   "outputs": [
    {
     "name": "stdout",
     "output_type": "stream",
     "text": [
      "True\n"
     ]
    }
   ],
   "source": [
    "x = Fraction(1, 2)\n",
    "y = Fraction(1, 2)\n",
    "print(x == y)"
   ]
  },
  {
   "cell_type": "markdown",
   "id": "82148226",
   "metadata": {},
   "source": [
    "동일성은 동등성과 상관없이 전혀 변하지 않는다."
   ]
  },
  {
   "cell_type": "code",
   "execution_count": 23,
   "id": "4b0fe6b2",
   "metadata": {},
   "outputs": [
    {
     "name": "stdout",
     "output_type": "stream",
     "text": [
      "False\n"
     ]
    }
   ],
   "source": [
    "x = Fraction(1, 2)\n",
    "y = Fraction(2, 3)\n",
    "print(x == y)"
   ]
  },
  {
   "cell_type": "markdown",
   "id": "a0ae30ad",
   "metadata": {},
   "source": [
    "**`__dir__()` 메서드**\n",
    "\n",
    "객체의 모든 속성과 메서드를 확인하기 위해 아래와 같이 실행한다. "
   ]
  },
  {
   "cell_type": "code",
   "execution_count": 24,
   "id": "0fd28183",
   "metadata": {},
   "outputs": [
    {
     "data": {
      "text/plain": [
       "['num',\n",
       " 'den',\n",
       " '__module__',\n",
       " '__doc__',\n",
       " '__init__',\n",
       " '__str__',\n",
       " '__add__',\n",
       " '__eq__',\n",
       " '__dict__',\n",
       " '__weakref__',\n",
       " '__hash__',\n",
       " '__repr__',\n",
       " '__getattribute__',\n",
       " '__setattr__',\n",
       " '__delattr__',\n",
       " '__lt__',\n",
       " '__le__',\n",
       " '__ne__',\n",
       " '__gt__',\n",
       " '__ge__',\n",
       " '__new__',\n",
       " '__reduce_ex__',\n",
       " '__reduce__',\n",
       " '__subclasshook__',\n",
       " '__init_subclass__',\n",
       " '__format__',\n",
       " '__sizeof__',\n",
       " '__dir__',\n",
       " '__class__']"
      ]
     },
     "execution_count": 24,
     "metadata": {},
     "output_type": "execute_result"
    }
   ],
   "source": [
    "x.__dir__()"
   ]
  },
  {
   "cell_type": "markdown",
   "id": "3a3a2e2e",
   "metadata": {},
   "source": [
    "예를 들어, `__class__` 변수는 객체가 속하는 클래스 이름을 속성값으로 갖는다."
   ]
  },
  {
   "cell_type": "code",
   "execution_count": 25,
   "id": "d51cee35",
   "metadata": {},
   "outputs": [
    {
     "data": {
      "text/plain": [
       "__main__.Fraction"
      ]
     },
     "execution_count": 25,
     "metadata": {},
     "output_type": "execute_result"
    }
   ],
   "source": [
    "x.__class__"
   ]
  },
  {
   "cell_type": "markdown",
   "id": "1a725d47",
   "metadata": {},
   "source": [
    "기타 다른 메서드들은 앞으로 필요할 때마다 설명된다."
   ]
  },
  {
   "cell_type": "markdown",
   "id": "22be2e2c",
   "metadata": {},
   "source": [
    "## 연습문제"
   ]
  },
  {
   "cell_type": "markdown",
   "id": "31b9be77",
   "metadata": {},
   "source": [
    "참고: [(실습) 클래스, 인스턴스, 객체](https://colab.research.google.com/github/codingalzi/pybook/blob/master/practices/practice-classes_instances_objects.ipynb)"
   ]
  }
 ],
 "metadata": {
  "kernelspec": {
   "display_name": "Python 3 (ipykernel)",
   "language": "python",
   "name": "python3"
  },
  "language_info": {
   "codemirror_mode": {
    "name": "ipython",
    "version": 3
   },
   "file_extension": ".py",
   "mimetype": "text/x-python",
   "name": "python",
   "nbconvert_exporter": "python",
   "pygments_lexer": "ipython3",
   "version": "3.9.7"
  }
 },
 "nbformat": 4,
 "nbformat_minor": 5
}
