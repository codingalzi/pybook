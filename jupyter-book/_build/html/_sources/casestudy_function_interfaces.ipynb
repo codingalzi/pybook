{
 "cells": [
  {
   "cell_type": "markdown",
   "id": "1d901e8a",
   "metadata": {},
   "source": [
    "# 사례 연구: 함수 인터페이스"
   ]
  },
  {
   "cell_type": "markdown",
   "id": "cecb5447",
   "metadata": {},
   "source": [
    "`turtle` 모듈을 이용하여 다양한 그림을 그리는 함수를 직접 구현하면서\n",
    "반복문과 함수의 활용을 좀 더 자세히 살펴본다.\n",
    "또한 클래스, 인스턴스, 메서드 등을 활용하는 객체 지향 프로그래밍(OOP)의\n",
    "기본 구성 요소를 소개한다."
   ]
  },
  {
   "cell_type": "markdown",
   "id": "e9594930",
   "metadata": {},
   "source": [
    "## `turtle` 모듈"
   ]
  },
  {
   "cell_type": "markdown",
   "id": "6ec51ed2",
   "metadata": {},
   "source": [
    "`turtle` 모듈은 간단한 그림을 그리는 다양한 도구를 제공하며, \n",
    "파이썬에 기본 모듈로 포함되어 있다. \n",
    "[IDLE 를 이용](https://aisw.tistory.com/5)하여 아래 명령문을 실행하면 그림 창이 하나 새로 나타나고 \n",
    "그 안에 정해진 그림이 그려져야 한다."
   ]
  },
  {
   "cell_type": "markdown",
   "id": "f9c42aaf",
   "metadata": {},
   "source": [
    "```python\n",
    "import turtle\n",
    "\n",
    "wn = turtle.Screen()      # 캔버스 하나 생성\n",
    "bob = turtle.Turtle()    # bob 란 이름의 거북이 하나 생성. 기본 모양은 화살촉\n",
    "\n",
    "bob.forward(150)         # 바라보는 방향으로 150 픽셀 전진\n",
    "bob.left(90)             # 왼쪽으로 90도 회전\n",
    "bob.forward(75)          # 바라보는 방향으로 75 픽셀 전진\n",
    "\n",
    "wn.exitonclick()          # 캔버스에 클릭할 때까지 대기\n",
    "# wn.mainloop()             # X 버튼을 눌러 창을 닫을 때까지 대기\n",
    "```"
   ]
  },
  {
   "cell_type": "markdown",
   "id": "2ec16c27",
   "metadata": {},
   "source": [
    "<div align=\"center\" border=\"1px\"><img src=\"https://raw.githubusercontent.com/codingalzi/pybook/master/jupyter-book/images/turtle01.png\" width=\"300\"/></div>"
   ]
  },
  {
   "cell_type": "markdown",
   "id": "0e89ccb9",
   "metadata": {},
   "source": [
    ":::{admonition} Trinket 사이트\n",
    ":class: info\n",
    "\n",
    "반면에 구글 코랩 등 대부분의 온라인 사이트에서는 지원되지 않는다. \n",
    "하지만 다행히도 [트링킷<font size=\"2\">Trinket</font>](https://trinket.io)이 거북이 그래픽스를 지원한다.\n",
    ":::"
   ]
  },
  {
   "cell_type": "markdown",
   "id": "659eaffa",
   "metadata": {},
   "source": [
    "**캔버스와 거북이 객체**\n",
    "\n",
    "`turtle.Screen()` 은 `Screen` 클래스의 인스턴스, 즉 캔버스 객체를 하나 생성한다.\n",
    "단, 캔버스 객체는 하나만 생성할 수 있다. \n",
    "이렇게 하나의 인스턴스만 허용하는 클래스를 **싱글톤 클래스**<font size='2'>singleton class</font>라 한다.\n",
    "\n",
    "반면에 `Turtle` 클래스를 포함하여 파이썬의 클래스는 일반적으로 임의의 개수의 인스턴스 생성을 허용한다."
   ]
  },
  {
   "cell_type": "markdown",
   "id": "aff153f9",
   "metadata": {},
   "source": [
    "**거북이 메서드**\n",
    "\n",
    "거북이를 움직이게 하거나 거북이의 상태를 지정하는 많은 \n",
    "[`Turtle` 클래스의 메서드](https://docs.python.org/3/library/turtle.html)가 존재한다.\n",
    "그중 일부는 단축어를 갖는데 가장 많이 사용되는 메서는 다음과 같다.\n",
    "\n",
    "| 메서드 | 단축어 | 의미 |\n",
    "| :---   | :---   | :--- |\n",
    "| forward() | fd()    | 전진 |\n",
    "| left()   | lt()     | 반시계방향 회전 |\n",
    "| backward() | bd()   | 후진 |\n",
    "| right()  | rt()     | 시계방향 회전 |\n",
    "| pendown() | pd()/down() | 펜 내리기 |\n",
    "| penup() | pu()/up() | 펜 들기 |\n",
    "| showturtle() | st() | 거북이 보이기 |\n",
    "| hideturtle() | ht() | 거북이 숨기기 |\n",
    "\n"
   ]
  },
  {
   "cell_type": "markdown",
   "id": "d26e1be0",
   "metadata": {},
   "source": [
    "## 단순 반복"
   ]
  },
  {
   "cell_type": "markdown",
   "id": "36b51161",
   "metadata": {},
   "source": [
    "아래 명령문은 정사각형을 그린다.\n",
    "\n",
    "```python\n",
    "bob.fd(100)\n",
    "bob.lt(90)\n",
    "\n",
    "bob.fd(100)\n",
    "bob.lt(90)\n",
    "\n",
    "bob.fd(100)\n",
    "bob.lt(90)\n",
    "\n",
    "bob.fd(100)\n",
    "bob.lt(90)\n",
    "```"
   ]
  },
  {
   "cell_type": "markdown",
   "id": "33102a0a",
   "metadata": {},
   "source": [
    "하지만 다음과 같이 `for` 반복문을 이용하면 보다 효율적인 코드를 얻는다.\n",
    "\n",
    "```python\n",
    "for i in range(4):\n",
    "    bob.fd(100)\n",
    "    bob.lt(90)\n",
    "```"
   ]
  },
  {
   "cell_type": "markdown",
   "id": "7a4deaf6",
   "metadata": {},
   "source": [
    ":::{prf:example} 객체 중심 프로그래밍(OOP)\n",
    ":label: exp_oop\n",
    "\n",
    "클래스를 이용하여 생성한 객체(클래스의 인스턴스)들은 기본적으로 상호 독립적으로 활용된다. \n",
    "하지만 경우에 따라 객체들 사이에 상호 교감도 가능하게 할 수 있다. \n",
    "각각의 객체가 수행하는 기능과 객체들 사이의 교감을 중심으로 하는 일이\n",
    "**객체 중심 프로그래밍**<font size='2'>Object-Oriented Programming</font>(OOP)의 핵심이다.\n",
    "\n",
    "여기서는 Turtle 클래스의 인스턴스를 두 개 생성하여, 생성된 두 객체를 상호 독립적으로 활용하는 방법을 설명한다. 객체들 사이의 교감을 구현하는 방식은 나중에 다룰 것이다.\n",
    "\n",
    "아래 코드에서 Turtle 클래스의 인스턴스가 두 번 생성되었다. \n",
    "`alice` 객체에 대해서만 인스턴스의 속성을 변경하는 메서드가 추가로 사용되었다.\n",
    "`alice` 의 속성을 변경한다 하더라도 `bob` 의 속성은 전혀 변하지 않는다.\n",
    "\n",
    "- `shape()` 메서드: 해당 인스턴스의 펜 모양 지정\n",
    "- `color()` 메서드: 해당 인스턴스의 선 색깔 지정\n",
    "\n",
    "코드를 실행하면 `bob` 은 정사각형을, `alice`는 빨강 역삼각형을 그린다.\n",
    "\n",
    "\n",
    "```python\n",
    "import turtle\n",
    "\n",
    "wn = turtle.Screen()\n",
    "wn.bgcolor(\"lightyellow\")               # 배경화면 색깔 정하기\n",
    "wn.title(\"Hello, Bob and Alice!\")       # 그래픽 제목 정하기\n",
    "\n",
    "# bob 생성\n",
    "bob = turtle.Turtle()\n",
    "\n",
    "# alice 생성\n",
    "alice = turtle.Turtle()\n",
    "alice.shape(\"turtle\")                   # 펜 모양을 거북이로 변경\n",
    "alice.color(\"red\")                      # 선 색깔을 빨강으로 변경\n",
    "\n",
    "alice.penup()                           # 펜 들기: 선 그리지 않음\n",
    "alice.backward(100)                     # 뒤로 100픽셀 이동\n",
    "alice.pendown()                         # 펜 내리기: 선 그리기 시작함\n",
    "\n",
    "# bob 으로 사각형 그리기\n",
    "for i in range(4):\n",
    "    bob.forward(100)\n",
    "    bob.left(90)\n",
    "\n",
    "# alice로 삼각형 그리기\n",
    "for i in range(3):\n",
    "    alice.forward(100)\n",
    "    alice.right(120)                    # 시계방향으로 회전\n",
    "\n",
    "wn.mainloop()                           # X 버튼을 누를 때까지 캔버스 유지\n",
    "```\n",
    ":::"
   ]
  },
  {
   "cell_type": "markdown",
   "id": "dda21ffe",
   "metadata": {},
   "source": [
    "<div align=\"center\" border=\"1px\"><img src=\"https://raw.githubusercontent.com/codingalzi/pybook/master/jupyter-book/images/turtle05.png\" width=\"300\"/></div>"
   ]
  },
  {
   "cell_type": "markdown",
   "id": "021ccb65",
   "metadata": {},
   "source": [
    "## 캡슐화와 일반화"
   ]
  },
  {
   "cell_type": "markdown",
   "id": "8f4d92c3",
   "metadata": {},
   "source": [
    "프로그램을 구현에 가장 필수적인 요소는 \n",
    "**캡슐화**<font size=\"2\">encapsulation</font>와 \n",
    "**일반화**<font size=\"2\">generalization</font>이다.\n",
    "\n",
    "1. 함수를 사용하지 않는 간단한 프로그램 작성\n",
    "1. (캡슐화) 작성한 프로그램이 잘 작동하면 변수에 의존하지 않는 부분을 함수로 감싸 하나의 캡슐처럼 만든다.\n",
    "1. (일반화) 함수에 적절한 매개변수<font size='2'>parameter</font>를 \n",
    "    추가하여 함수가 보다 다양한 기능을 갖도록 한다.\n",
    "1. 원하는 수준의 함수를 얻을 때까지 위 과정을 반복한다.\n",
    "1. (리팩토링) 프로그램에서 중복되는 부분을 캡슐화하여 함수로 만들 수 있는지 잘 살펴본다."
   ]
  },
  {
   "cell_type": "markdown",
   "id": "2db0e62d",
   "metadata": {},
   "source": [
    "앞서 다룬 코드에서 출발하여 캡슐화와 일반화를 연습한다. "
   ]
  },
  {
   "cell_type": "markdown",
   "id": "3a7caaa5",
   "metadata": {},
   "source": [
    "### 캡슐화"
   ]
  },
  {
   "cell_type": "markdown",
   "id": "47730339",
   "metadata": {},
   "source": [
    "거북이를 지정해서 사각형을 그리도록 하는 함수는 다음과 같다.\n",
    "\n",
    "```python\n",
    "def square(t):\n",
    "    for i in range(4):\n",
    "        t.fd(100)\n",
    "        t.lt(90)\n",
    "```\n",
    "\n",
    "그러면 `square()` 함수를 `bob` 과 함께 호출하면 `bob` 지정된 크기의 정사각형을 그린다.\n",
    "\n",
    "```\n",
    ">>> square(bob)\n",
    "```"
   ]
  },
  {
   "cell_type": "markdown",
   "id": "de04d971",
   "metadata": {},
   "source": [
    "<div align=\"center\" border=\"1px\"><img src=\"https://raw.githubusercontent.com/codingalzi/pybook/master/jupyter-book/images/turtle02.png\" width=\"300\"/></div>"
   ]
  },
  {
   "cell_type": "markdown",
   "id": "aac6f6c5",
   "metadata": {},
   "source": [
    "다른 거북이를 지정하면 해당 거북이가 정사각형을 그린다.\n",
    "\n",
    "```python\n",
    "alice = turtle.Turtle()\n",
    "square(alice)\n",
    "```"
   ]
  },
  {
   "cell_type": "markdown",
   "id": "4cdfaa50",
   "metadata": {},
   "source": [
    "### 일반화"
   ]
  },
  {
   "cell_type": "markdown",
   "id": "d00b7717",
   "metadata": {},
   "source": [
    "**길이 매개변수 추가**\n",
    "\n",
    "정사각형의 길이를 지정할 수 있도록 하기위해 `length` 매개변수를 추가한다.\n",
    "위 함수와 다른 점은 한 변의 길이를 나타냈던 100 대신에 `length` 매개변수를 사용한다는 것 뿐이다.\n",
    "\n",
    "```python\n",
    "def square(t, length):\n",
    "    for i in range(4):\n",
    "        t.fd(length)\n",
    "        t.lt(90)\n",
    "```\n",
    "\n",
    "그러면 다양한 크기의 정사각형을 그릴 수 있다.\n",
    "\n",
    "```python\n",
    ">>> square(bob, 100)\n",
    ">>> square(bob, 50)\n",
    "```"
   ]
  },
  {
   "cell_type": "markdown",
   "id": "c9361707",
   "metadata": {},
   "source": [
    "**다각형 그리기**\n",
    "\n",
    "다각형을 그리는 함수는 거북이와 길이를 지정하는 매개변수 이외의 몇 각형인가를 결정하는\n",
    "매개변수도 필요하다.\n",
    "다음 `polygon()` 함수가 `square()` 함수를 일반화한다."
   ]
  },
  {
   "cell_type": "markdown",
   "id": "cd3ea483",
   "metadata": {},
   "source": [
    "```python\n",
    "def polygon(t, n, length):\n",
    "    angle = 360 / n\n",
    "\n",
    "    for i in range(n):\n",
    "        t.fd(length)\n",
    "        t.lt(angle)\n",
    "```\n",
    "\n",
    "다음은 정7각형을 그린다.\n",
    "\n",
    "```python\n",
    ">>> polygon(bob, 7, 70)\n",
    "```"
   ]
  },
  {
   "cell_type": "markdown",
   "id": "fe00b7bb",
   "metadata": {},
   "source": [
    "<div align=\"center\" border=\"1px\"><img src=\"https://raw.githubusercontent.com/codingalzi/pybook/master/jupyter-book/images/turtle03.png\" width=\"300\"/></div>"
   ]
  },
  {
   "cell_type": "markdown",
   "id": "7af6d006",
   "metadata": {},
   "source": [
    "**키워드 인자 활용**\n",
    "\n",
    "만약에 기본적으로 한 변의 길이가 70인 정7각을 그리고 경우에 따라 다른 값을 사용하고자 한다면\n",
    "`n=7` 과 `length=70` 을 키워드 인자로 지정하면 된다.\n",
    "\n",
    "```python\n",
    "def polygon(t, n=7, length=70):\n",
    "    angle = 360 / n\n",
    "\n",
    "    for i in range(n):\n",
    "        t.fd(length)\n",
    "        t.lt(angle)\n",
    "```\n",
    "\n",
    "그러면 `n` 과 `length` 에 대한 값을 지정하지 않아도 동일한 정7각형을 얻는다.\n",
    "\n",
    "```python\n",
    ">>> polygon(bob)\n",
    "```"
   ]
  },
  {
   "cell_type": "markdown",
   "id": "02034838",
   "metadata": {},
   "source": [
    "## 함수의 인터페이스"
   ]
  },
  {
   "cell_type": "markdown",
   "id": "3b5f18c9",
   "metadata": {},
   "source": [
    "함수의 인터페이스는 함수 사용법의 요약문이다. \n",
    "\n",
    "- 어떤 매개변수 사용?\n",
    "- 함수가 하는 일은?\n",
    "- 함수의 반환값은?\n",
    "\n",
    "사용자가 함수를 적절하게 사용하기 위해 전혀 불편함이 없도록 인터페이스를 구현해야 한다."
   ]
  },
  {
   "cell_type": "markdown",
   "id": "bd7cf8eb",
   "metadata": {},
   "source": [
    "예를 들어, 반지름이 주어졌을 때 지정된 거북이가 원을 그리는 `circle()` 함수를 다음과 같이 구현할 수 있다.\n",
    "거북이는 원둘레를 50등분한 길이로 이루어진 다각형으로 표현한다.\n",
    "다각형은 `polygon()` 함수를 이용하여 그린다.\n",
    "\n",
    "```python\n",
    "import math\n",
    "\n",
    "def circle(t, r):\n",
    "    circumference = 2 * math.pi * r  # 원둘레의 길이\n",
    "    \n",
    "    n = 50                           # 50-각형 그리기\n",
    "    length = circumference / n       # 50-각형의 한 변의 길이\n",
    "    \n",
    "    polygon(t, n, length)            # 다각형 그리기\n",
    "```"
   ]
  },
  {
   "cell_type": "markdown",
   "id": "6945fac5",
   "metadata": {},
   "source": [
    "반지름이 200 픽셀인 원은 다음과 같다.\n",
    "\n",
    "```python\n",
    ">>> circle(bob, 200)\n",
    "```"
   ]
  },
  {
   "cell_type": "markdown",
   "id": "40612522",
   "metadata": {},
   "source": [
    "<div align=\"center\" border=\"1px\"><img src=\"https://raw.githubusercontent.com/codingalzi/pybook/master/jupyter-book/images/turtle04.png\" width=\"300\"/></div>"
   ]
  },
  {
   "cell_type": "markdown",
   "id": "d2b4cf1e",
   "metadata": {},
   "source": [
    "원을 매우 큰 n 을 이용하여 n-각형으로 표현한다.\n",
    "다만 위 코드에서는 n=50 을 사용하며, \n",
    "n-각형 한 변의 길이를 원둘레를 50 등분한 값으로 지정한다.\n",
    "하지만 이렇게 하면 n-각형의 한 변의 길이가 반지름이 큰 원에 대해서는 너무 크고,\n",
    "작은 원에 대해서는 너무 작다.\n",
    "\n",
    "n 을 함수의 매개변수로 지정하여 따로 입력받게할 수도 있지만\n",
    "그보다는 다각형의 변의 개수를 반지름에 의존하게 하고,\n",
    "n-각형의 한 변의 길이는 3 정도로 제한하는 게 보다 좋다.\n",
    "3픽셀은 부드러운 곡선을 갖는 원을 그리는 데 충분히 작으면서\n",
    "동시에 원을 효율적으로 그리는데 적절하다.\n",
    "\n",
    "아래 코드에 사용된 `circumference / n` 약 3 정도의 값을 갖는다.\n",
    "또한 n 값에 사용된 `+3`은 최소 3각형을 그리도록 보장하기 위함이다."
   ]
  },
  {
   "cell_type": "markdown",
   "id": "5616f4b6",
   "metadata": {},
   "source": [
    "```python\n",
    "def circle(t, r):\n",
    "    circumference = 2 * math.pi * r\n",
    "    \n",
    "    n = int(circumference / 3) + 3  # 원둘레의 1/3 정도에 해당하는 선분 수\n",
    "    length = circumference / n      # 약 3 정도의 값\n",
    "    \n",
    "    polygon(t, n, length)\n",
    "```"
   ]
  },
  {
   "cell_type": "markdown",
   "id": "70899250",
   "metadata": {},
   "source": [
    "## 리팩토링"
   ]
  },
  {
   "cell_type": "markdown",
   "id": "e9cad43f",
   "metadata": {},
   "source": [
    "프로그램을 개선하기 위해 코드를 재배치 하거나 재구성 하는 기법이 \n",
    "**리팩토링**<font size='2'>refactoring</font>이다. \n",
    "\n",
    "프로젝트를 시작할 때 모든 것을 고려할 수 있다면 처음부터 모든 상황에 유연하게\n",
    "대처하는 프로그램을 작성할 수 있을 것이다.\n",
    "하지만 일반적으로는 그렇게 일이 진행되지는 못한다.\n",
    "따라서 문제에 대한 이해가 깊어지면서 처음에 구현된 프로그램을 개선하기 위해\n",
    "리팩토링을 진행하게 된다. \n",
    "\n",
    "여기서는 `circle()` 함수를 리팩토링 과정을 통해 원의 호<font size='2'>arc</font>를\n",
    "그리는 함수를 구현환다. \n",
    "\n",
    "먼저 `circle()` 함수의 본문에 `polygon()` 함수가 사용됨에 주의한다.\n",
    "이유는 다각형은 원의 호를 그리는 데에 별로 도움되지 않기 때문이다.\n",
    "즉, `circle()` 과 `polygon()` 을 원의 호를 그리는 데에 사용할 수 없다. "
   ]
  },
  {
   "cell_type": "markdown",
   "id": "ffeeadc1",
   "metadata": {},
   "source": [
    "원의 호는 원의 일부이다.\n",
    "따라서 원의 둘레를 그리는 과정을 호의 크기에 맞춰 멈추도록 해야 하며,\n",
    "이 방식으로 `circle()` 함수를 수정하면 \n",
    "다음 `arc()` 함수를 얻는다.\n",
    "`angle` 매개변수는 호와 두 지름으로 구성된 부채꼴의 중심각을 입력받는다.\n",
    "\n",
    "```python\n",
    "def arc(t, r, angle):\n",
    "    arc_length = 2 * math.pi * r * angle / 360\n",
    "    n = int(arc_length / 3) + 1   # 호의 길이의 1/3 에 해당\n",
    "    step_length = arc_length / n  # 선분의 길이\n",
    "    step_angle = angle / n        # 호의 중심각의 1/n 에 해당\n",
    "    \n",
    "    for i in range(n):\n",
    "        t.fd(step_length)\n",
    "        t.lt(step_angle)\n",
    "```"
   ]
  },
  {
   "cell_type": "markdown",
   "id": "0f3ff070",
   "metadata": {},
   "source": [
    "`arc()` 함수의 본체에 사용된 `for` 반복문은 \n",
    "`polygon()` 함수의 본체와 매우 닮았다.\n",
    "차이점은 `n` 이 호의 길이, 즉 중심각에 의존한다는 점 뿐이다. \n",
    "\n",
    "이 점에 착안하여 아래 폴리라인 함수 `polyline()` 를 구현한다.\n",
    "\n",
    "```python\n",
    "def polyline(t, n, length, angle):\n",
    "    for i in range(n):\n",
    "        t.fd(length)\n",
    "        t.lt(angle)\n",
    "```"
   ]
  },
  {
   "cell_type": "markdown",
   "id": "8da924a7",
   "metadata": {},
   "source": [
    "이제 `arc()` 함수와 `polygon()` 함수 모두 `polyline` 함수를 이용하여 다시 구현할 수 있다.\n",
    "\n",
    "```python\n",
    "def polygon(t, n, length):\n",
    "    angle = 360.0 / n\n",
    "\n",
    "    polyline(t, n, length, angle)  # 360 도를 n 등분하여 n 번 회전하면 360도 회전함\n",
    "\n",
    "def arc(t, r, angle):\n",
    "    arc_length = 2 * math.pi * r * angle / 360\n",
    "    n = int(arc_length / 3) + 1\n",
    "    step_length = arc_length / n\n",
    "    step_angle = float(angle) / n\n",
    "    \n",
    "    polyline(t, n, step_length, step_angle)\n",
    "```"
   ]
  },
  {
   "cell_type": "markdown",
   "id": "0b12c274",
   "metadata": {},
   "source": [
    "`circle()` 함수는 `arc()` 함수의 특별한 경우이다.\n",
    "\n",
    "```python\n",
    "def circle(t, r):\n",
    "    arc(t, r, 360)\n",
    "```"
   ]
  },
  {
   "cell_type": "markdown",
   "id": "c045b266",
   "metadata": {},
   "source": [
    "## 문서화 문자열"
   ]
  },
  {
   "cell_type": "markdown",
   "id": "a99985c3",
   "metadata": {},
   "source": [
    "함수의 인터페이스를 설명하는 주석을 **문서화 문자열**, \n",
    "영어로는 독스트링<font size='2'>docstring</font>이라 한다.\n",
    "문서화 문자열은 함수의 본체가 시작되기 전에 세 개의 큰 따옴표로 감싼 주석으로 작성된다."
   ]
  },
  {
   "cell_type": "markdown",
   "id": "59465899",
   "metadata": {},
   "source": [
    "```python\n",
    "def polyline(t, n, length, angle):\n",
    "    \"\"\"t: 거북이 객체\n",
    "    n: 선분 그리기 반복 횟수\n",
    "    length: 선분의 길이\n",
    "    angle: 회전 각도. 즉, 두 선분 사이의 각도\n",
    "    \n",
    "    지정된 크기와 각도를 이용하여 거북이 t 가 n 개의 선분을 그린다.\n",
    "    \"\"\"    \n",
    "\n",
    "    for i in range(n):\n",
    "        t.fd(length)\n",
    "        t.lt(angle)\n",
    "```"
   ]
  },
  {
   "cell_type": "markdown",
   "id": "f623d34d",
   "metadata": {},
   "source": [
    "문서화 문자열은 함수의 정보를 확인하는 데에 사용된다.\n",
    "\n",
    "```python\n",
    ">>> help(polyline)\n",
    "```\n",
    "\n",
    "```python\n",
    "Help on fuction polyline in module __main__:\n",
    "    \n",
    "polyline(t, n, length, angle)\n",
    "t: 거북이 객체\n",
    "n: 선분 그리기 반복 횟수\n",
    "length: 선분의 길이\n",
    "angle: 회전 각도. 즉, 두 선분 사이의 각도\n",
    "\n",
    "지정된 크기와 각도를 이용하여 거북이 t 가 n 개의 선분을 그린다.\n",
    "```"
   ]
  },
  {
   "cell_type": "markdown",
   "id": "ee218f21",
   "metadata": {},
   "source": [
    "## 사전조건 대 사후조건"
   ]
  },
  {
   "cell_type": "markdown",
   "id": "43bbc127",
   "metadata": {},
   "source": [
    "함수를 호출하려면 적절한 인자를 사용해야 하며,\n",
    "그렇지 않으면 실행중에 오류가 발생한다.\n",
    "예를 들어, `arc()` 함수의 `t` 매개변수에는 거북이 객체를,\n",
    "`n` 은 양의 정수,\n",
    "`length` 와 `angle` 은 양수 이어야 한다.\n",
    "\n",
    "이런 조건들이 `arc()` 함수의 **사전 조건**<font size='2'>pre-condition</font>이다.\n",
    "즉, 선조건이 만족되게 하는 인자들을 사용해야만 함수가 제대로 실행된다.\n",
    "반면에 함수의 실행이 끝나면 만족해야 하는 조건은 **사후 조건**<font size='2'>post-condition</font>이다.\n",
    "\n",
    "만약에 사전 조건을 충족하는 인자가 사용되었지만 사후 조건이 성립하지 않는 결과를 얻게 된다면,\n",
    "함수가 제대로 구현되지 않았음을 의미한다."
   ]
  },
  {
   "cell_type": "markdown",
   "id": "57187d6c",
   "metadata": {},
   "source": [
    "## 연습 문제"
   ]
  },
  {
   "cell_type": "markdown",
   "id": "d03a16c9",
   "metadata": {},
   "source": [
    "참고: [(실습) 사례 연구: 함수 인터페이스](https://colab.research.google.com/github/codingalzi/pybook/blob/master/practices/practice-casestudy_function_interfaces.ipynb)"
   ]
  }
 ],
 "metadata": {
  "kernelspec": {
   "display_name": "Python 3 (ipykernel)",
   "language": "python",
   "name": "python3"
  },
  "language_info": {
   "codemirror_mode": {
    "name": "ipython",
    "version": 3
   },
   "file_extension": ".py",
   "mimetype": "text/x-python",
   "name": "python",
   "nbconvert_exporter": "python",
   "pygments_lexer": "ipython3",
   "version": "3.9.7"
  }
 },
 "nbformat": 4,
 "nbformat_minor": 5
}
