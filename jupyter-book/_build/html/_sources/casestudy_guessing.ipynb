{
 "cells": [
  {
   "cell_type": "markdown",
   "metadata": {},
   "source": [
    "**문제**"
   ]
  },
  {
   "cell_type": "markdown",
   "metadata": {
    "id": "Jy6Ch8eK3A70"
   },
   "source": [
    "키와 몸무게를 인자로 받아 체질량지수(BMI)를 구하는 코드를 작성하여라. 아래의 사항들을 참고한다.\n",
    "\n",
    "$$\\texttt{BMI} = \\frac{\\texttt{weight}}{\\texttt{height}^2}$$\n",
    "\n",
    "* 단위 :\n",
    "  * 몸무게(weight) : `kg`\n",
    "  * 키(height) : `m`\n",
    "\n",
    "* `BMI` 수치에 따른 체중 분류\n",
    "  * `BMI <= 18.5` 이면 저체중\n",
    "  * `18.5 < BMI <= 23` 이면 정상\n",
    "  * `23 < BMI <= 25` 이면 과체중\n",
    "  * `25 < BMI <= 30` 이면 비만\n",
    "  * `BMI > 30` 이면 고도비만"
   ]
  },
  {
   "cell_type": "markdown",
   "metadata": {},
   "source": [
    "**문제**"
   ]
  },
  {
   "cell_type": "markdown",
   "metadata": {
    "id": "fGjSM-6P2Pl7"
   },
   "source": [
    "두 개의 정수 `a`, `b`를 입력받아 `a/b`를 계산하는 코드를 작성하여라.\n",
    "\n",
    "단, 아래의 내용을 만족하도록 코드를 작성한다.\n",
    "* 정수가 아닌 값이 입력될 경우, 정수를 입력하라고 전달한다.\n",
    "* `b`에 `0`이 입력될 경우, 0이 아닌 숫자를 입력하라고 전달한다. \n",
    "* 올바른 값이 입력될 때까지 입력을 요구한다. "
   ]
  },
  {
   "cell_type": "markdown",
   "metadata": {
    "colab": {
     "base_uri": "https://localhost:8080/"
    },
    "executionInfo": {
     "elapsed": 5480,
     "status": "ok",
     "timestamp": 1616260389428,
     "user": {
      "displayName": "Kyungho Lee",
      "photoUrl": "https://lh3.googleusercontent.com/a-/AOh14GjvtkL3ZVCUbwlviFfrh0VjjiMUuul3z7PbjJVCgQs=s64",
      "userId": "07228708431473169168"
     },
     "user_tz": -540
    },
    "id": "lSvrlIOHtdfo",
    "outputId": "e1880e24-3f51-414e-bcff-3c3648091f1c"
   },
   "source": [
    "```python\n",
    "while True:\n",
    "\n",
    "  try :\n",
    "    a = int(input(\"정수 a를 입력해주세요: \"))\n",
    "    b = int(input(\"정수 b를 입력해주세요: \"))\n",
    "\n",
    "    a_over_b = a/b\n",
    "    print(\"a/b = \", a_over_b)\n",
    "    break\n",
    "\n",
    "  except ValueError:\n",
    "    print(\"정수를 입력해주세요\")\n",
    "\n",
    "  except ZeroDivisionError:\n",
    "    print(\"0이 아닌 b를 입력해주세요\")\n",
    "```"
   ]
  },
  {
   "cell_type": "markdown",
   "metadata": {},
   "source": [
    "**문제**"
   ]
  },
  {
   "cell_type": "markdown",
   "metadata": {
    "id": "RJGEd1T44JF0"
   },
   "source": [
    "숫자 야구 게임 코드를 작성하여라.\n",
    "\n",
    "숫자 야구 게임은 임의로 정한 3자리의 수(`ans`)를 참여자가 맞히는 게임으로, 아래의 규칙을 따른다.\n",
    "* 사용되는 수는 1~9까지의 서로 다른 정수이다. \n",
    "* 참여자가 입력한 수가 `ans`와 다를 경우, 참여자에게 결과를 알려준다.\n",
    "  * 숫자와 위치가 맞으면, 스트라이크\n",
    "  * 숫자는 맞지만 위치가 틀리면, 볼\n",
    "  * 숫자와 위치가 모두 틀리면, 아웃  \n",
    "\n",
    "예를 들어, ans가 123 일 때, 참여자가 456을 입력하면 '아웃', 257을 입력하면 '1볼', 273을 입력하면 '1볼 1스트라이크'이다. \n",
    "\n",
    "\n",
    "* 각 단계의 내용이 충족되도록 전 단계의 코드를 수정 보완하여라.  \n",
    "예를 들어, 2단계에 작성하는 코드는 1단계와 2단계의 내용이 모두 충족되어야 한다.\n",
    "* 3자리 수를 하나 선택하여 `ans` 변수에 할당한다.  \n",
    "`ans = 157   # 다른 값으로 변경 가능`"
   ]
  },
  {
   "cell_type": "markdown",
   "metadata": {
    "id": "9clDZ-ajHDJr"
   },
   "source": [
    "참여자가 입력한 3자리의 수와 `ans`를 비교하여, 스트라이크가 몇 인지를 출력하여라. "
   ]
  },
  {
   "cell_type": "markdown",
   "metadata": {
    "colab": {
     "base_uri": "https://localhost:8080/"
    },
    "executionInfo": {
     "elapsed": 2462,
     "status": "ok",
     "timestamp": 1616260642757,
     "user": {
      "displayName": "Kyungho Lee",
      "photoUrl": "https://lh3.googleusercontent.com/a-/AOh14GjvtkL3ZVCUbwlviFfrh0VjjiMUuul3z7PbjJVCgQs=s64",
      "userId": "07228708431473169168"
     },
     "user_tz": -540
    },
    "id": "z38jfitiuqRU",
    "outputId": "e6de0505-5d13-4c0f-8d53-e2385b871896"
   },
   "source": [
    "```python\n",
    "ans = 157\n",
    "ans = str(ans)\n",
    "\n",
    "baseball_input = input(\"3자리의 수를 입력하세요: \")\n",
    "\n",
    "count_strike = 0\n",
    "\n",
    "for i in range(3):\n",
    "  if ans[i] == baseball_input[i]:\n",
    "    count_strike += 1\n",
    "\n",
    "print(count_strike, \" 스트라이크!\") \n",
    "```"
   ]
  },
  {
   "cell_type": "markdown",
   "metadata": {},
   "source": [
    "**문제**"
   ]
  },
  {
   "cell_type": "markdown",
   "metadata": {
    "id": "oamaDleuHqAX"
   },
   "source": [
    "**[추가 문제1] 문제4)를 완성해보자.**  \n",
    "3단계) 참여자가 입력한 3자리의 수와 `ans`를 비교하여, 스트라이크와 볼이 몇 인지를 출력하여라."
   ]
  },
  {
   "cell_type": "code",
   "execution_count": null,
   "metadata": {
    "colab": {
     "base_uri": "https://localhost:8080/"
    },
    "executionInfo": {
     "elapsed": 4073,
     "status": "ok",
     "timestamp": 1616260797462,
     "user": {
      "displayName": "Kyungho Lee",
      "photoUrl": "https://lh3.googleusercontent.com/a-/AOh14GjvtkL3ZVCUbwlviFfrh0VjjiMUuul3z7PbjJVCgQs=s64",
      "userId": "07228708431473169168"
     },
     "user_tz": -540
    },
    "id": "MmSQwqf8pFII",
    "outputId": "27ba201d-0b71-4f61-f2ea-573d615984b5"
   },
   "outputs": [],
   "source": [
    "ans = 157\n",
    "ans = str(ans)\n",
    "\n",
    "baseball_input = input(\"3자리의 수를 입력하세요: \")\n",
    "\n",
    "count_strike = 0\n",
    "count_ball = 0\n",
    "\n",
    "for i in range(3):\n",
    "\n",
    "  if ans[i] in baseball_input:\n",
    "\n",
    "    if ans[i] == baseball_input[i]:\n",
    "      count_strike = count_strike + 1\n",
    "    else:\n",
    "      count_ball = count_ball + 1\n",
    "\n",
    "print(count_strike, \" 스트라이크!\", count_ball, \" 볼!\")\n",
    " "
   ]
  },
  {
   "cell_type": "markdown",
   "metadata": {
    "id": "5NI0d6taOdQo"
   },
   "source": [
    "4단계) 참여자가 입력한 3자리의 수와 `ans`를 비교하여, 아웃이면 아웃을, 아니면 스트라이크와 볼이 몇 인지를 출력하여라."
   ]
  },
  {
   "cell_type": "code",
   "execution_count": null,
   "metadata": {
    "colab": {
     "base_uri": "https://localhost:8080/"
    },
    "executionInfo": {
     "elapsed": 4658,
     "status": "ok",
     "timestamp": 1616318819902,
     "user": {
      "displayName": "Kyungho Lee",
      "photoUrl": "https://lh3.googleusercontent.com/a-/AOh14GjvtkL3ZVCUbwlviFfrh0VjjiMUuul3z7PbjJVCgQs=s64",
      "userId": "07228708431473169168"
     },
     "user_tz": -540
    },
    "id": "d_R30EDupqZm",
    "outputId": "aa0f25e6-5d04-4026-fc93-9d7fa247cbf5"
   },
   "outputs": [],
   "source": [
    "ans = 157\n",
    "ans = str(ans)\n",
    "\n",
    "baseball_input = input(\"3자리의 수를 입력하세요: \")\n",
    "\n",
    "count_strike = 0\n",
    "count_ball = 0\n",
    "\n",
    "for i in range(3):\n",
    "\n",
    "  if ans[i] in baseball_input:\n",
    "\n",
    "    if ans[i] == baseball_input[i]:\n",
    "      count_strike = count_strike + 1\n",
    "    else:\n",
    "      count_ball = count_ball + 1\n",
    "\n",
    "if count_strike + count_ball == 0:\n",
    "  print(\"아웃!\")\n",
    "else:\n",
    "  print(count_strike, \" 스트라이크!\", count_ball, \" 볼!\")\n",
    " "
   ]
  },
  {
   "cell_type": "markdown",
   "metadata": {
    "id": "SzlZ0JuUH-XK"
   },
   "source": [
    "5단계) 참여자가 정답을 맞힐 때까지 입력을 요구하여라."
   ]
  },
  {
   "cell_type": "code",
   "execution_count": null,
   "metadata": {
    "colab": {
     "base_uri": "https://localhost:8080/"
    },
    "executionInfo": {
     "elapsed": 10698,
     "status": "ok",
     "timestamp": 1616260882342,
     "user": {
      "displayName": "Kyungho Lee",
      "photoUrl": "https://lh3.googleusercontent.com/a-/AOh14GjvtkL3ZVCUbwlviFfrh0VjjiMUuul3z7PbjJVCgQs=s64",
      "userId": "07228708431473169168"
     },
     "user_tz": -540
    },
    "id": "3pBLwSdUp08h",
    "outputId": "d97075cb-b8de-4633-8ff7-3676489f585e"
   },
   "outputs": [],
   "source": [
    "ans = 157\n",
    "ans = str(ans)\n",
    "\n",
    "while True:\n",
    "\n",
    "  baseball_input = input(\"3자리의 수를 입력하세요: \")\n",
    "\n",
    "  count_strike = 0\n",
    "  count_ball = 0\n",
    "\n",
    "  for i in range(3):\n",
    "\n",
    "    if ans[i] in baseball_input:\n",
    "\n",
    "      if ans[i] == baseball_input[i]:\n",
    "        count_strike = count_strike + 1\n",
    "      else:1\n",
    "        count_ball = count_ball + 1\n",
    "\n",
    "  if count_strike + count_ball == 0:\n",
    "    print(\"아웃!\")\n",
    "  else:\n",
    "    print(count_strike, \" 스트라이크!\", count_ball, \" 볼!\")\n",
    "    if count_strike == 3:\n",
    "      print(\"게임 끝!\")\n",
    "      break\n",
    "  "
   ]
  },
  {
   "cell_type": "markdown",
   "metadata": {
    "id": "tETga5BZNTQ8"
   },
   "source": [
    "6단계) 숫자가 아닌 값을 입력하면, `숫자를 입력하세요`를 출력하여라."
   ]
  },
  {
   "cell_type": "code",
   "execution_count": null,
   "metadata": {
    "colab": {
     "base_uri": "https://localhost:8080/"
    },
    "executionInfo": {
     "elapsed": 8576,
     "status": "ok",
     "timestamp": 1616260990178,
     "user": {
      "displayName": "Kyungho Lee",
      "photoUrl": "https://lh3.googleusercontent.com/a-/AOh14GjvtkL3ZVCUbwlviFfrh0VjjiMUuul3z7PbjJVCgQs=s64",
      "userId": "07228708431473169168"
     },
     "user_tz": -540
    },
    "id": "LWKltvJJqCW7",
    "outputId": "183b4499-601c-4124-e837-a77fa9cacffa"
   },
   "outputs": [],
   "source": [
    "ans = 157\n",
    "ans = str(ans)\n",
    "\n",
    "while True:\n",
    "\n",
    "  try:\n",
    "\n",
    "    baseball_input = input(\"3자리의 수를 입력하세요: \")\n",
    "\n",
    "    baseball_int = int(baseball_input)\n",
    "\n",
    "    count_strike = 0\n",
    "    count_ball = 0\n",
    "\n",
    "    for i in range(3):\n",
    "\n",
    "      if ans[i] in baseball_input:\n",
    "\n",
    "        if ans[i] == baseball_input[i]:\n",
    "          count_strike = count_strike + 1\n",
    "        else:\n",
    "          count_ball = count_ball + 1\n",
    "\n",
    "    if count_strike + count_ball == 0:\n",
    "      print(\"아웃!\")\n",
    "    else:\n",
    "      print(count_strike, \" 스트라이크!\", count_ball, \" 볼!\")\n",
    "      if count_strike == 3:\n",
    "        print(\"게임 끝!\")\n",
    "        break\n",
    "  \n",
    "  except ValueError:\n",
    "    print(\"숫자를 입력하세요\")"
   ]
  },
  {
   "cell_type": "markdown",
   "metadata": {
    "id": "EgTrxzDnGkGV"
   },
   "source": [
    "[note] while문은 반드시 loop를 빠져나올 수 있도록 코드를 고려한다"
   ]
  },
  {
   "cell_type": "markdown",
   "metadata": {
    "id": "uDtmYVoIIZQ9"
   },
   "source": [
    "7단계) 세 자리 미만의 수를 입력하면, `세 자리의 수를 입력하세요`를 출력하여라.  \n"
   ]
  },
  {
   "cell_type": "code",
   "execution_count": null,
   "metadata": {
    "colab": {
     "base_uri": "https://localhost:8080/"
    },
    "executionInfo": {
     "elapsed": 12448,
     "status": "ok",
     "timestamp": 1616261086202,
     "user": {
      "displayName": "Kyungho Lee",
      "photoUrl": "https://lh3.googleusercontent.com/a-/AOh14GjvtkL3ZVCUbwlviFfrh0VjjiMUuul3z7PbjJVCgQs=s64",
      "userId": "07228708431473169168"
     },
     "user_tz": -540
    },
    "id": "qi4-sbXoqZIO",
    "outputId": "43c2abbc-19a0-4e0c-f150-77b9a266c0b8"
   },
   "outputs": [],
   "source": [
    "ans = 157\n",
    "ans = str(ans)\n",
    "\n",
    "while True:\n",
    "\n",
    "  try:\n",
    "\n",
    "    baseball_input = input(\"3자리의 수를 입력하세요: \")\n",
    "\n",
    "    baseball_int = int(baseball_input)\n",
    "    baseball_3digit = baseball_input[2]\n",
    "    \n",
    "\n",
    "    count_strike = 0\n",
    "    count_ball = 0\n",
    "\n",
    "    for i in range(3):\n",
    "\n",
    "      if ans[i] in baseball_input:\n",
    "\n",
    "        if ans[i] == baseball_input[i]:\n",
    "          count_strike = count_strike + 1\n",
    "        else:\n",
    "          count_ball = count_ball + 1\n",
    "\n",
    "    if count_strike + count_ball == 0:\n",
    "      print(\"아웃!\")\n",
    "    else:\n",
    "      print(count_strike, \" 스트라이크!\", count_ball, \" 볼!\")\n",
    "      if count_strike == 3:\n",
    "        print(\"게임 끝!\")\n",
    "        break\n",
    "  \n",
    "  except ValueError:\n",
    "    print(\"숫자를 입력하세요\")\n",
    "    \n",
    "  except IndexError:\n",
    "    print(\"세 자리의 수를 입력하세요\")"
   ]
  }
 ],
 "metadata": {
  "colab": {
   "authorship_tag": "ABX9TyO4sq7/xuTtPUP0Hlr64dXd",
   "collapsed_sections": [],
   "name": "실습답안4.ipynb",
   "provenance": []
  },
  "kernelspec": {
   "display_name": "Python 3 (ipykernel)",
   "language": "python",
   "name": "python3"
  },
  "language_info": {
   "codemirror_mode": {
    "name": "ipython",
    "version": 3
   },
   "file_extension": ".py",
   "mimetype": "text/x-python",
   "name": "python",
   "nbconvert_exporter": "python",
   "pygments_lexer": "ipython3",
   "version": "3.9.7"
  }
 },
 "nbformat": 4,
 "nbformat_minor": 1
}
