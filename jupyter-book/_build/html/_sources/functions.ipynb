{
 "cells": [
  {
   "cell_type": "markdown",
   "metadata": {},
   "source": [
    "(ch:functions)=\n",
    "# 함수"
   ]
  },
  {
   "cell_type": "markdown",
   "metadata": {},
   "source": [
    "프로그램은 명령문의 합성으로 구현된다.\n",
    "많은 프로그램은 몇 백 또는 몇 천 줄의 명령문으로 구성된다.\n",
    "경우에 따라 몇 십만, 몇 백만 줄 이상의 명령문으로 구성되기도 한다.\n",
    "몇 백 줄 이상의 명령문으로 구성된 프로그램을 구현하다 보면 \n",
    "특정 기능을 수행하는 명령문을 반복해서 사용하곤 한다.\n",
    "반복적으로 활용되는 명령문에 이름을 주고 필요에 따라 해당 이름을 활용하면\n",
    "프로그램을 보다 체계적으로 구성할 수 있다.\n",
    "이처럼 특정 코드에 이름을 지어준 것이 함수다."
   ]
  },
  {
   "cell_type": "markdown",
   "metadata": {},
   "source": [
    "**슬라이드**"
   ]
  },
  {
   "cell_type": "markdown",
   "metadata": {},
   "source": [
    "본문 내용을 요약한 [슬라이드](https://github.com/codingalzi/pybook/raw/master/slides/slides-functions.pdf)를 \n",
    "다운로드할 수 있다."
   ]
  },
  {
   "cell_type": "markdown",
   "metadata": {},
   "source": [
    "## 함수 호출과 표현식"
   ]
  },
  {
   "cell_type": "markdown",
   "metadata": {},
   "source": [
    "**함수 호출**"
   ]
  },
  {
   "cell_type": "markdown",
   "metadata": {},
   "source": [
    "아래 코드를 실행하면 `\"함수란 특정 명령문을 대신한다.\"` 라는 문장이 화면에 출력된다."
   ]
  },
  {
   "cell_type": "code",
   "execution_count": 1,
   "metadata": {},
   "outputs": [
    {
     "name": "stdout",
     "output_type": "stream",
     "text": [
      "함수란 특정 명령문을 대신한다.\n"
     ]
    }
   ],
   "source": [
    "print('함수란', '특정 명령문을 대신한다.')"
   ]
  },
  {
   "cell_type": "markdown",
   "metadata": {},
   "source": [
    "`print()` 함수가 대신하는 명령문이 작동하여 인자로 지정된 아래 두 문자열을\n",
    "공백을 사이에 두고 연속적으로 화면에 출력한다.\n",
    "\n",
    "- 첫째 인자: `함수란`\n",
    "- 둘째 인자: `특정 명령문을 대신한다.`"
   ]
  },
  {
   "cell_type": "markdown",
   "metadata": {},
   "source": [
    "`print()` 함수가 대신하는 명령문이 정확히 무슨 일을 하는지 사용자는 쉽게 알지 못하고 또 굳이 알 필요도 없다. \n",
    "화면에 문자열 등의 값을 출력하고 싶을 때 `print()` 함수를 사용한다는 사실만 알면 된다."
   ]
  },
  {
   "cell_type": "markdown",
   "metadata": {},
   "source": [
    "함수는 아래 형식의 **함수 호출**<font size=\"2\">function call</font>을 통해 활용된다.\n",
    "\n",
    "```python\n",
    "함수이름(인자1, 인자2, ..., 인자n)\n",
    "```"
   ]
  },
  {
   "cell_type": "markdown",
   "metadata": {},
   "source": [
    "함수 호출에 필요한 인자의 수는 함수의 정의에 의존한다.\n",
    "`print()` 함수는 한 개 이상의 인자를 사용할 수 있고,\n",
    "`int()`, `float()` 등의 형변환 함수는 보통 하나의 인자를 사용한다."
   ]
  },
  {
   "cell_type": "code",
   "execution_count": 2,
   "metadata": {},
   "outputs": [
    {
     "data": {
      "text/plain": [
       "3"
      ]
     },
     "execution_count": 2,
     "metadata": {},
     "output_type": "execute_result"
    }
   ],
   "source": [
    "int(\"3\")"
   ]
  },
  {
   "cell_type": "code",
   "execution_count": 3,
   "metadata": {},
   "outputs": [
    {
     "data": {
      "text/plain": [
       "3.14"
      ]
     },
     "execution_count": 3,
     "metadata": {},
     "output_type": "execute_result"
    }
   ],
   "source": [
    "float(\"3.14\")"
   ]
  },
  {
   "cell_type": "markdown",
   "metadata": {},
   "source": [
    "인자가 전혀 필요 없는 경우도 있는데 그런 경우에도 \n",
    "함수 호출은 열고닫기 소괄호 `()`를 반드시 사용해야 한다.\n",
    "예를 들어 `int()` 함수와 `float()` 함수를 인자 없이 호출하면 각각 0과 0.0을 계산한다."
   ]
  },
  {
   "cell_type": "code",
   "execution_count": 4,
   "metadata": {},
   "outputs": [
    {
     "data": {
      "text/plain": [
       "0"
      ]
     },
     "execution_count": 4,
     "metadata": {},
     "output_type": "execute_result"
    }
   ],
   "source": [
    "int()"
   ]
  },
  {
   "cell_type": "code",
   "execution_count": 5,
   "metadata": {},
   "outputs": [
    {
     "data": {
      "text/plain": [
       "0.0"
      ]
     },
     "execution_count": 5,
     "metadata": {},
     "output_type": "execute_result"
    }
   ],
   "source": [
    "float()"
   ]
  },
  {
   "cell_type": "markdown",
   "metadata": {},
   "source": [
    "반면에 `print()` 함수를 인자 없이 호출하면 아무 것도 출력되지 않는다."
   ]
  },
  {
   "cell_type": "code",
   "execution_count": 6,
   "metadata": {},
   "outputs": [
    {
     "name": "stdout",
     "output_type": "stream",
     "text": [
      "\n"
     ]
    }
   ],
   "source": [
    "print()"
   ]
  },
  {
   "cell_type": "markdown",
   "metadata": {},
   "source": [
    "**함수 호출 표현식**"
   ]
  },
  {
   "cell_type": "markdown",
   "metadata": {},
   "source": [
    "함수 호출 표현식이 값을 표현하는 대표적인 표현식({numref}`%s절 <sec:expressions>`)이다.\n",
    "예를 들어 `int(3.14)`는 정수 `3`을, \n",
    "`float('3.14')`는 부동소수점 `3.14`를\n",
    "`type(3.14)`는 부동소수점의 자료형인 `float`를\n",
    "`type('3.14')`는 문자열의 자료형인 `str`을 계산하는데\n",
    "이렇게 함수 호출에 의해 계산된 값이 바로 함수 호출 표현식이 표현하는 값이다."
   ]
  },
  {
   "cell_type": "code",
   "execution_count": 7,
   "metadata": {},
   "outputs": [
    {
     "data": {
      "text/plain": [
       "3"
      ]
     },
     "execution_count": 7,
     "metadata": {},
     "output_type": "execute_result"
    }
   ],
   "source": [
    "int(3.14)"
   ]
  },
  {
   "cell_type": "code",
   "execution_count": 8,
   "metadata": {},
   "outputs": [
    {
     "data": {
      "text/plain": [
       "3.14"
      ]
     },
     "execution_count": 8,
     "metadata": {},
     "output_type": "execute_result"
    }
   ],
   "source": [
    "float('3.14')"
   ]
  },
  {
   "cell_type": "code",
   "execution_count": 9,
   "metadata": {},
   "outputs": [
    {
     "data": {
      "text/plain": [
       "float"
      ]
     },
     "execution_count": 9,
     "metadata": {},
     "output_type": "execute_result"
    }
   ],
   "source": [
    "type(3.14)"
   ]
  },
  {
   "cell_type": "code",
   "execution_count": 10,
   "metadata": {},
   "outputs": [
    {
     "data": {
      "text/plain": [
       "str"
      ]
     },
     "execution_count": 10,
     "metadata": {},
     "output_type": "execute_result"
    }
   ],
   "source": [
    "type('3.14')"
   ]
  },
  {
   "cell_type": "markdown",
   "metadata": {},
   "source": [
    ":::{admonition} 값의 종류\n",
    ":class: note\n",
    "\n",
    "파이썬과 같은 프로그래밍 언어는 3, 3.14 등의 수 이외에 문자열, 리스트 등 다양한 종류의 값을 사용한다.\n",
    "심지어 부동소수점  3.14의 자료형인 `float`, 문자열 `'3.14'`의 자료형인 `str` 조차 값으로 취급된다.\n",
    "하지만 프로그래밍 언어마다 값의 종류가 다르며, 파이썬 이외의 언어를 학습할 때\n",
    "언어 고유의 값이 어떻게 다른지를 이해하면 보다 빠르게 해당 언어의 특징을 파악할 수 있다.\n",
    ":::"
   ]
  },
  {
   "cell_type": "markdown",
   "metadata": {},
   "source": [
    "함수에 의해 계산된 값은 저장되어 필요에 따라 활용될 수 있다.\n",
    "예를 들어 아래 코드는 `int()` 함수가 계산한 결과를 제곱한다."
   ]
  },
  {
   "cell_type": "code",
   "execution_count": 11,
   "metadata": {},
   "outputs": [
    {
     "data": {
      "text/plain": [
       "9"
      ]
     },
     "execution_count": 11,
     "metadata": {},
     "output_type": "execute_result"
    }
   ],
   "source": [
    "y = int(3.14)\n",
    "y**2"
   ]
  },
  {
   "cell_type": "markdown",
   "metadata": {},
   "source": [
    "반면에 아래 코드는 값의 자료형에 따라 다른 연산을 실행한다."
   ]
  },
  {
   "cell_type": "code",
   "execution_count": 12,
   "metadata": {},
   "outputs": [
    {
     "name": "stdout",
     "output_type": "stream",
     "text": [
      "3.143.14\n"
     ]
    }
   ],
   "source": [
    "x = '3.14'\n",
    "\n",
    "if type(x) == str:\n",
    "    print(x * 2)\n",
    "else:\n",
    "    print(x / 2 )"
   ]
  },
  {
   "cell_type": "markdown",
   "metadata": {},
   "source": [
    "## 함수 정의"
   ]
  },
  {
   "cell_type": "markdown",
   "metadata": {},
   "source": [
    "사용자가 아래 형식으로 임의로 함수를 정의해서 사용할 수 있다.\n",
    "\n",
    "```python\n",
    "def 함수이름(매개변수1, 매개변수2, ...):\n",
    "    명령문\n",
    "```\n",
    "\n",
    "키워드 `def` 로 시작하는 줄은 함수의 기본 정보를 담은 **헤더**<font size=\"2\">header</font>이고\n",
    "나머지는 함수의 **본문**<font size=\"2\">body</font>이다.\n",
    "함수의 본문은 함수가 호출되었을 때 실행해야 하는 명령문을 담는다.\n",
    "\n",
    "함수를 정의할 때 다음 세 가지 사항에 주의한다.\n",
    "\n",
    "- 함수 이름과 매개 변수 이름: 변수 이름 짓기와 동일한 조건을 따른다.\n",
    "- 매개 변수의 수와 각 매개 변수의 역할은 함수를 정의하는 사용자가 정한다.\n",
    "- 함수의 헤더의 끝에 콜론 `:`을 작성하고, 함수 본문에 사용되는 명령문은 들여쓴다. 들여쓰기는 보통 <kbd>Tab</kbd> 키를 이용한다."
   ]
  },
  {
   "cell_type": "markdown",
   "metadata": {},
   "source": [
    "### 매개 변수와 인자"
   ]
  },
  {
   "cell_type": "markdown",
   "metadata": {},
   "source": [
    "**매개 변수**<font size=\"2\">parameter</font>는 **함수의 본문에서만 사용되는 변수**이며\n",
    "함수를 호출할 때 사용하는 **인자**<font size=\"2\">argument</font>를\n",
    "함수 본문의 명령문에 전달한다.\n",
    "예를 들어 아래 코드는 정수 또는 부동소수점 두 개가 주어지면\n",
    "두 수의 합을 계산하는 함수 `myAdd`를 정의한다.\n",
    "두 개의 수를 인자로 받아 합을 계산해야 하기에 두 개의 매개 변수를 사용한다.\n",
    "\n",
    "- `left` 매개 변수: 덧셈 연산의 첫째 인자\n",
    "- `right` 매개 변수: 덧셈의 연산의 둘째 인자"
   ]
  },
  {
   "cell_type": "code",
   "execution_count": 13,
   "metadata": {},
   "outputs": [],
   "source": [
    "def myAdd(left, right):\n",
    "    sum = left + right\n",
    "    return sum"
   ]
  },
  {
   "cell_type": "markdown",
   "metadata": {},
   "source": [
    "이제 `myAdd()` 함수를 두 개의 인자와 함께 호출하면 두 인자의 합을 계산한다.\n",
    "예를 들어 아래 코드는 -2와 5의 합을 계산한다."
   ]
  },
  {
   "cell_type": "code",
   "execution_count": 14,
   "metadata": {},
   "outputs": [
    {
     "data": {
      "text/plain": [
       "3"
      ]
     },
     "execution_count": 14,
     "metadata": {},
     "output_type": "execute_result"
    }
   ],
   "source": [
    "myAdd(-2, 5)"
   ]
  },
  {
   "cell_type": "markdown",
   "metadata": {},
   "source": [
    "### 함수의 반환값과 함수 호출 표현식"
   ]
  },
  {
   "cell_type": "markdown",
   "metadata": {},
   "source": [
    "`myAdd(-2, 5)` 가 호출되었을 때 파이썬 실행기 내부에서 실제로 실행되는 명령문은\n",
    "두 단계로 구성된다."
   ]
  },
  {
   "cell_type": "markdown",
   "metadata": {},
   "source": [
    "첫째, 매개 변수 각각에 대해 주어진 인자의 순서대로 변수 할당 명령문이 실행된다.\n",
    "`left`와 `right` 두 매개 변수가 함수의 본문에서 사용될 때 \n",
    "이렇게 할당된 값을 이용한다.\n",
    "이런 의미에서 매개 변수가 인자를 함수의 본문에 전달한다고 말한다\n",
    "\n",
    "```python\n",
    "left = -2\n",
    "right = 5\n",
    "```"
   ]
  },
  {
   "cell_type": "markdown",
   "metadata": {},
   "source": [
    "둘째, `myAdd()` 함수의 본문에 사용된 명령문이 차례대로 실행된다.\n",
    "즉 `sum = left + right` 명령문이 실행되어 `sum` 변수에 정수 3이 할당된다.\n",
    "끝으로 `return sum` 명령문이 실행된 후에 바로 함수 호출의 실행 과정이 종료된다.\n",
    "\n",
    "```python\n",
    "sum = left + right\n",
    "return sum\n",
    "```"
   ]
  },
  {
   "cell_type": "markdown",
   "metadata": {},
   "source": [
    "함수는 호출되면 앞서 설명한 대로 매개 변수에 지정된 인자를 할당된 다음에\n",
    "본문 명령문이 차례대로 실행된다.\n",
    "그러다가 아래 모양의 반환 명령문이 실행되는 순간 바로 함수 호출의 실행을 종료한다.\n",
    "\n",
    "```python\n",
    "return 표현식\n",
    "```\n",
    "\n",
    "그런데 함수 호출의 실행을 완전히 종료하기 전에 `return` 명령문에 지정된 `표현식`이 \n",
    "표현하는 값을 **반환값**으로 지정한다.\n",
    "예를 들어 `myAdd(-2, 5)`가 호출되면 `sum` 변수에 할당된 3이 함수의 종료와 함께\n",
    "반환값으로 지정된다.\n",
    "\n",
    "반환값으로 지정된 값은 다른 계산에 사용되거나 변수에 할당될 수 있다.\n",
    "예를 들어 아래 코드는 `myAdd(-2, 5)` 함수 호출의 반환값을 변수 할당에 활용한다."
   ]
  },
  {
   "cell_type": "code",
   "execution_count": 15,
   "metadata": {},
   "outputs": [],
   "source": [
    "sum_of_minus2_5 = myAdd(-2, 5)"
   ]
  },
  {
   "cell_type": "markdown",
   "metadata": {},
   "source": [
    "반면에 아래 코드는 반환값을 바로 곱셈 연산에 활용한다."
   ]
  },
  {
   "cell_type": "code",
   "execution_count": 16,
   "metadata": {},
   "outputs": [
    {
     "data": {
      "text/plain": [
       "9"
      ]
     },
     "execution_count": 16,
     "metadata": {},
     "output_type": "execute_result"
    }
   ],
   "source": [
    "myAdd(-2, 5) * 3"
   ]
  },
  {
   "cell_type": "markdown",
   "metadata": {},
   "source": [
    "이처럼 함수의 반환값은 `myAdd(-2, 5)`처럼 함수 호출과 동일하게 표현된다.\n",
    "즉, 함수 호출 표현식 자체가 함수의 반환값을 나타내는 표현식으로 사용된다."
   ]
  },
  {
   "cell_type": "markdown",
   "metadata": {},
   "source": [
    "### `None` 반환값"
   ]
  },
  {
   "cell_type": "markdown",
   "metadata": {},
   "source": [
    "아래 코드에 정의된 `double_print()` 함수의 정의는 `return ...` 명령문을 사용하지 않는다.\n",
    "즉, 반환값을 지정하지 않는다."
   ]
  },
  {
   "cell_type": "code",
   "execution_count": 17,
   "metadata": {},
   "outputs": [],
   "source": [
    "def double_int(num_param):\n",
    "    square_param = num_param * 2"
   ]
  },
  {
   "cell_type": "markdown",
   "metadata": {},
   "source": [
    "`return ...` 명령문이 없는 함수를 호출하면 반환값이 지정되지 않는다.\n",
    "예를 들어 `double_int(5)`를 실행해도 아무런 값이 표시되지 않는다."
   ]
  },
  {
   "cell_type": "code",
   "execution_count": 18,
   "metadata": {},
   "outputs": [],
   "source": [
    "double_int(5)"
   ]
  },
  {
   "cell_type": "markdown",
   "metadata": {},
   "source": [
    "아래 코드처럼 `double_int(5)`에 의해 계산된 값을 화면에 출력하려 하면\n",
    "`None` 이라는 이상한 값이 출력된다."
   ]
  },
  {
   "cell_type": "code",
   "execution_count": 19,
   "metadata": {},
   "outputs": [
    {
     "name": "stdout",
     "output_type": "stream",
     "text": [
      "None\n"
     ]
    }
   ],
   "source": [
    "print(double_int(5))"
   ]
  },
  {
   "cell_type": "markdown",
   "metadata": {},
   "source": [
    "앞서 설명한 대로 `double_int(5)`가 호출되면\n",
    "아래 코드가 실행된다.\n",
    "\n",
    "```\n",
    "num_param = 5\n",
    "square_param = num_param * 2\n",
    "```\n",
    "\n",
    "따라서 `square_param` 변수에 10이 할당되는데 이후에 실행할 아무런 명령문도 없기에\n",
    "반환값이 지정되지 않은 채 함수의 실행이 종료된다.\n",
    "파이썬 실행기는 이런 경우에 반환값을 `None`으로 강제 지정한다.\n",
    "\n",
    "따라서 `double_int()` 함수는 실제로는 \n",
    "아래 코드처럼 정의된 것으로 간주된다."
   ]
  },
  {
   "cell_type": "code",
   "execution_count": 20,
   "metadata": {},
   "outputs": [],
   "source": [
    "def double_int(num_param):\n",
    "    square_param = num_param * 2\n",
    "    return None"
   ]
  },
  {
   "cell_type": "markdown",
   "metadata": {},
   "source": [
    "함수가 실행되는 과정에서 활용된 변수와 값은 반환값을 제외하고 \n",
    "모두 함수의 실행이 종료되는 순간 컴퓨터 메모리에서 삭제되어 더 이상 사용될 수 없다.\n",
    "예를 들어, `num_param`과 `square_param`은 더 이상 존재하지 않기에\n",
    "아래 두 코드를 실행하면 모두 변수가 존재하지 않는다는 의미의\n",
    "`NameError` 오류가 발생한다."
   ]
  },
  {
   "cell_type": "code",
   "execution_count": 21,
   "metadata": {},
   "outputs": [
    {
     "ename": "NameError",
     "evalue": "name 'num_param' is not defined",
     "output_type": "error",
     "traceback": [
      "\u001b[0;31m---------------------------------------------------------------------------\u001b[0m",
      "\u001b[0;31mNameError\u001b[0m                                 Traceback (most recent call last)",
      "Cell \u001b[0;32mIn[21], line 1\u001b[0m\n\u001b[0;32m----> 1\u001b[0m num_param\n",
      "\u001b[0;31mNameError\u001b[0m: name 'num_param' is not defined"
     ]
    }
   ],
   "source": [
    "num_param"
   ]
  },
  {
   "cell_type": "code",
   "execution_count": 22,
   "metadata": {},
   "outputs": [
    {
     "ename": "NameError",
     "evalue": "name 'square_param' is not defined",
     "output_type": "error",
     "traceback": [
      "\u001b[0;31m---------------------------------------------------------------------------\u001b[0m",
      "\u001b[0;31mNameError\u001b[0m                                 Traceback (most recent call last)",
      "Cell \u001b[0;32mIn[22], line 1\u001b[0m\n\u001b[0;32m----> 1\u001b[0m square_param\n",
      "\u001b[0;31mNameError\u001b[0m: name 'square_param' is not defined"
     ]
    }
   ],
   "source": [
    "square_param"
   ]
  },
  {
   "cell_type": "markdown",
   "metadata": {},
   "source": [
    "따라서 함수 호출 과정에서 계산된 값들 중에 일부를 함수 호출이 끝난 후에도 활용하려면\n",
    "반환값으로 지정하는 방법 외엔 없다."
   ]
  },
  {
   "cell_type": "markdown",
   "metadata": {},
   "source": [
    "**None 값**"
   ]
  },
  {
   "cell_type": "markdown",
   "metadata": {},
   "source": [
    "`None`도 하나의 값이라서 변수 할당에 사용되어 저장될 수 있다.\n",
    "하지만 연산 등에 사용하면 \n",
    "연산에 사용될 수 없는 자료형의 값을 사용했다는 의미의 `TypeError` 오류가 발생한다."
   ]
  },
  {
   "cell_type": "code",
   "execution_count": 23,
   "metadata": {},
   "outputs": [
    {
     "name": "stdout",
     "output_type": "stream",
     "text": [
      "None\n"
     ]
    }
   ],
   "source": [
    "x = double_int(5)\n",
    "print(x)"
   ]
  },
  {
   "cell_type": "code",
   "execution_count": 24,
   "metadata": {},
   "outputs": [
    {
     "ename": "TypeError",
     "evalue": "unsupported operand type(s) for +: 'NoneType' and 'int'",
     "output_type": "error",
     "traceback": [
      "\u001b[0;31m---------------------------------------------------------------------------\u001b[0m",
      "\u001b[0;31mTypeError\u001b[0m                                 Traceback (most recent call last)",
      "Cell \u001b[0;32mIn[24], line 1\u001b[0m\n\u001b[0;32m----> 1\u001b[0m y \u001b[38;5;241m=\u001b[39m x \u001b[38;5;241m+\u001b[39m \u001b[38;5;241m1\u001b[39m\n",
      "\u001b[0;31mTypeError\u001b[0m: unsupported operand type(s) for +: 'NoneType' and 'int'"
     ]
    }
   ],
   "source": [
    "y = x + 1"
   ]
  },
  {
   "cell_type": "markdown",
   "metadata": {},
   "source": [
    "마치 기호 0이 하나도 없다를 표현하는 숫자인 것처럼 `None`은 아무런 의미도 갖지 않아서 활용할 수 없는 값을 가리킨다.\n",
    "`None`은 앞서 본 것처럼 함수의 반환값이 필요하지 않은 경우에 사용되는 역할\n",
    "이외에도 다른 용도로 활용되며 앞으로 다른 예제를 통해 `None` 값의 활용법을 배울 것이다."
   ]
  },
  {
   "cell_type": "markdown",
   "metadata": {},
   "source": [
    "**print() 함수의 반환값**"
   ]
  },
  {
   "cell_type": "markdown",
   "metadata": {},
   "source": [
    "반환값이 `None`인 대표적인 함수는 `print()` 함수이다.\n",
    "그런데 `print()` 함수를 아래와 같이 활용하면 마치 인자를 그대로 반환하는 것처럼 보인다."
   ]
  },
  {
   "cell_type": "code",
   "execution_count": 25,
   "metadata": {},
   "outputs": [
    {
     "name": "stdout",
     "output_type": "stream",
     "text": [
      "3.14\n"
     ]
    }
   ],
   "source": [
    "print(3.14)"
   ]
  },
  {
   "cell_type": "markdown",
   "metadata": {},
   "source": [
    "하지만 화면에 출력되는 문자열은 반환값이 아니다.\n",
    "다만 `print()` 함수의 본문에 포함된 명령문 중에서\n",
    "지정된 값을 화면에 출력하는 명령문이 실행된 결과에 불과하다.\n",
    "앞서 설명한 대로 `print(3.14)`의 반환값은 `None`임을 아래 코드가 확인해준다.\n",
    "\n",
    "먼저 `print(3.14)` 가 가리키는 값을 변수 `x`에 할당하자.\n",
    "아래 코드를 실행했을 때 보여지는 3.14는 반환값이 아니라 지정된 인자가 화면에 출력된 결과이다."
   ]
  },
  {
   "cell_type": "code",
   "execution_count": 26,
   "metadata": {},
   "outputs": [
    {
     "name": "stdout",
     "output_type": "stream",
     "text": [
      "3.14\n"
     ]
    }
   ],
   "source": [
    "x = print(3.14)"
   ]
  },
  {
   "cell_type": "markdown",
   "metadata": {},
   "source": [
    "`x`에 할당된 값을 확인하려 하면 아무 것도 보여지지 않는다."
   ]
  },
  {
   "cell_type": "code",
   "execution_count": 27,
   "metadata": {},
   "outputs": [],
   "source": [
    "x"
   ]
  },
  {
   "cell_type": "markdown",
   "metadata": {},
   "source": [
    "화면에 출력하도록 해야 겨우 `None`으로 확인된다."
   ]
  },
  {
   "cell_type": "code",
   "execution_count": 28,
   "metadata": {},
   "outputs": [
    {
     "name": "stdout",
     "output_type": "stream",
     "text": [
      "None\n"
     ]
    }
   ],
   "source": [
    "print(x)"
   ]
  },
  {
   "cell_type": "markdown",
   "metadata": {},
   "source": [
    "(sec:keyword-arguments)=\n",
    "## 위치 인자와 키워드 인자"
   ]
  },
  {
   "cell_type": "markdown",
   "metadata": {},
   "source": [
    "함수의 인자는 **위치 인자**와 **키워드 인자** 두 종류로 구분된다.\n",
    "\n",
    "- 위치 인자<font size=\"2\">positional argument</font>: 반드시 지정해야 하는 인자\n",
    "- 키워드 인자<font size=\"2\">keyword argument</font>: 필요에 따라 추가로 지정할 수 있는 인자\n",
    "\n",
    "함수를 정의할 때 \n",
    "한 종류의 인자만 사용하도록 해도 되고 두 종류의 인자를 섞어서 사용하도록 해도 된다.\n",
    "단, 두 종류의 인자를 모두 사용하도록 하려면 \n",
    "위치 인자를 먼저, 키워드 인자를 나중에 오도록 해야 한다.\n",
    "파이썬 프로그래밍에서 매우 유용하게 활용되는 \n",
    "`print()` 함수와 `range()` 함수를 이용하여 위치 인자와 키워드 인자의 활용법을 소개한다."
   ]
  },
  {
   "cell_type": "markdown",
   "metadata": {},
   "source": [
    "**`print()` 함수의 인자**"
   ]
  },
  {
   "cell_type": "markdown",
   "metadata": {},
   "source": [
    "여러 개의 값을 화면에 출력하려면 `print()` 함수에 여러 개의 인자를 지정하여 호출한다.\n",
    "그러면 인자들이 공백으로 구분되어 함께 한 줄에 출력된다.\n",
    "예를 들어 아래 코드는 `안녕`, `파이썬`, `!` 세 개의 문자열을 공백으로 구분하면서 한 줄에 출력한다."
   ]
  },
  {
   "cell_type": "code",
   "execution_count": 29,
   "metadata": {},
   "outputs": [
    {
     "name": "stdout",
     "output_type": "stream",
     "text": [
      "파이썬 안녕 !\n"
     ]
    }
   ],
   "source": [
    "print('파이썬', '안녕', '!')"
   ]
  },
  {
   "cell_type": "markdown",
   "metadata": {},
   "source": [
    "출력 대상으로 지정된 세 개의 인자가 공백으로 구분되어 한 줄에 출력되는 이유는\n",
    "`sep`이라는 숨겨진 키워드 인자때문이다.\n",
    "위 코드를 실행하면 파이썬 실행기는 실제로는 아래 코드를 실행한다."
   ]
  },
  {
   "cell_type": "code",
   "execution_count": 30,
   "metadata": {},
   "outputs": [
    {
     "name": "stdout",
     "output_type": "stream",
     "text": [
      "파이썬 안녕 !\n"
     ]
    }
   ],
   "source": [
    "print('파이썬', '안녕', '!', sep=' ')"
   ]
  },
  {
   "cell_type": "markdown",
   "metadata": {},
   "source": [
    "변수 할당 명령문 형식처럼 생긴 `sep=' '`은 화면에 출력해야할 인자들을 공백으로 구분하여 한 줄에 출력하도록 한다.\n",
    "그런데 키워드 인자에 할당된 값은 임의로 바꿀 수 있다.\n",
    "예를 들어, 출력 대상으로 지정된 각각의 인자를 하이픈 기호`'-'`로 구분하려면\n",
    "즉, 인자와 인자를 하이픈으로 연결하려면 \n",
    "아래 코드에서처럼 키워드 인자 `sep`에 문자열 `'-'`이 할당되도록 한다."
   ]
  },
  {
   "cell_type": "code",
   "execution_count": 31,
   "metadata": {},
   "outputs": [
    {
     "name": "stdout",
     "output_type": "stream",
     "text": [
      "파이썬-안녕-!\n"
     ]
    }
   ],
   "source": [
    "print('파이썬', '안녕', '!', sep='-')"
   ]
  },
  {
   "cell_type": "markdown",
   "metadata": {},
   "source": [
    "위 코드에서 `print()` 함수를 호출할 때 사용된 위치 인자와 키워드 인자는 다음과 같다.\n",
    "\n",
    "- 위치 인자: 화면 출력에 사용되는 세 개의 인자, `'파이썬'`, `'안녕'`, `'!'`\n",
    "- 키워드 인자: `sep` 매개 변수에 할당된 문자열 `'-'`"
   ]
  },
  {
   "cell_type": "markdown",
   "metadata": {},
   "source": [
    "`print()` 함수의 위치 인자는 0개 이상 원하는 만큼 사용될 수 있다.\n",
    "반면에 키워드 인자는 `sep` 이외에 `end`, `file`, `flush` 매개 변수에 할당될 수 있다.\n",
    "실제로 `print()` 함수의 헤더는 다음과 같다.\n",
    "\n",
    "```python\n",
    "print(value, ..., sep=' ', end='\\n', file=sys.stdout, flush=False)\n",
    "```\n",
    "\n",
    "매개 변수 각각의 역할은 다음과 같다.\n",
    "키워드 인자들은 특별한 기능을 수행하며, 그 기능을 그대로 사용하는 경우\n",
    "함수 호출 과정에서 굳이 언급할 필요가 없다."
   ]
  },
  {
   "cell_type": "markdown",
   "metadata": {},
   "source": [
    "- `value`: 위치 인자. 출력에 사용할 값 하나를 인자로 받을 수 있음.\n",
    "- 말줄임표(`...`): 여러 개의 위치 인자를 사용할 수 있음을 의미함.\n",
    "- `sep=' `: `sep` 매개 변수에 공백 문자 하나로 구성된 문자열이 기본 키워드 인자로 지정됨.\n",
    "- `end='\\n'`: `end` 매개 변수에 줄바꿈 문자 하나로 구성된 문자열이 기본 키워드 인자로 지정됨.\n",
    "- `file=sys.stdout`: `file` 매개 변수에 `sys.stdout`이 기본 키워드 인자로 지정됨.\n",
    "- `flush=False`: `flush` 매개 변수에 `False`가 기본 키워드 인자로 지정됨."
   ]
  },
  {
   "cell_type": "markdown",
   "metadata": {},
   "source": [
    "앞서 설명한 것처럼 `sep` 매개 변수의 키워드 인자는 출력해야할 값들을 구분하는 방식을 지정한다.\n",
    "`end` 매개 변수의 키워드 인자는 값들을 출력한 다음에 할 일을 지정한다.\n",
    "기본 키워드 인자가 줄바꿈이기에 `print()` 함수를 호출한 다음엔 항상 줄바꿈이 실행된다.\n",
    "만약에 빈 문자열 `''`을 `end` 매개 변수에 할당하면 줄바꿈을 하지 않는다. \n",
    "아래 두 코드를 비교하면 `end` 매개 변수의 역할을 확인할 수 있다."
   ]
  },
  {
   "cell_type": "markdown",
   "metadata": {},
   "source": [
    "- 기본 키워드 인자를 그대로 사용한 경우: 첫째 `print()` 함수 호출에 의해 `'파이썬 안녕 !'`이 출력된 후에\n",
    "    줄바꿈이 이뤄지고 그 다음에 둘째 `print()` 함수 호출에 의해 `'==='` 문자열이 출력됨."
   ]
  },
  {
   "cell_type": "code",
   "execution_count": 32,
   "metadata": {},
   "outputs": [
    {
     "name": "stdout",
     "output_type": "stream",
     "text": [
      "파이썬 안녕 !\n",
      "===\n"
     ]
    }
   ],
   "source": [
    "print('파이썬', '안녕', '!')\n",
    "print('===')"
   ]
  },
  {
   "cell_type": "markdown",
   "metadata": {},
   "source": [
    "- `end` 매개 변수의 인자를 빈 문자열로 지정한 경우: 첫째 `print()` 함수 호출에 의해 `'파이썬 안녕 !'`이 출력된 후에\n",
    "    줄바꿈을 하지 않은 채로 둘째 `print()` 함수 호출에 의해 `'==='` 문자열이 출력됨."
   ]
  },
  {
   "cell_type": "code",
   "execution_count": 33,
   "metadata": {},
   "outputs": [
    {
     "name": "stdout",
     "output_type": "stream",
     "text": [
      "파이썬 안녕 !===\n"
     ]
    }
   ],
   "source": [
    "print('파이썬', '안녕', '!', end='')\n",
    "print('===')"
   ]
  },
  {
   "cell_type": "markdown",
   "metadata": {},
   "source": [
    "키워드 인자를 다른 값으로 지정하기 위해 매개 변수를 함께 사용함에 주의한다.\n",
    "반드시 그럴 필요는 없지만 오류가 발생할 위험이 커지기에 추천되지 않는다."
   ]
  },
  {
   "cell_type": "markdown",
   "metadata": {},
   "source": [
    ":::{admonition} `file`과 `flush` 매개 변수\n",
    ":class: info\n",
    "\n",
    "`print()` 함수의 `file`과 `flush` 두 매개 변수는 특별한 경우에 활용되며\n",
    "간단한 예제는 [이곳](https://velog.io/@janeljs/안녕-print-sep-end-file-flush)에서 확인할 수 있다.\n",
    ":::"
   ]
  },
  {
   "cell_type": "markdown",
   "metadata": {},
   "source": [
    "**키워드 인자 사용 함수 정의**"
   ]
  },
  {
   "cell_type": "markdown",
   "metadata": {},
   "source": [
    "아래 코드는 `myAdd10()` 함수를 키워드 인자를 이용하여\n",
    "정의하는 방식을 보여준다. \n",
    "사용된 두 매개 변수의 역할은 다음과 같다.\n",
    "\n",
    "- `left`: 덧셈의 왼쪽 인자로 사용될 값을 할당받을 매개 변수\n",
    "- `right`: 덧셈의 오른쪽 인자로 사용될 값을 할당받을 매개 변수. 10이 기본 키워드 인자로 지정됨."
   ]
  },
  {
   "cell_type": "code",
   "execution_count": 34,
   "metadata": {},
   "outputs": [],
   "source": [
    "def myAdd10(left, right=10):\n",
    "    add10 = left + right\n",
    "    return add10"
   ]
  },
  {
   "cell_type": "markdown",
   "metadata": {},
   "source": [
    "아래 코드에서처럼 `myAdd10()` 함수를 호출할 때 둘째 인자가 생략되면 자동으로 10이 대신 사용되어\n",
    "인자가 주어지면 10을 더한 값이 반환되는 함수처럼 사용된다."
   ]
  },
  {
   "cell_type": "code",
   "execution_count": 35,
   "metadata": {},
   "outputs": [
    {
     "data": {
      "text/plain": [
       "15"
      ]
     },
     "execution_count": 35,
     "metadata": {},
     "output_type": "execute_result"
    }
   ],
   "source": [
    "myAdd10(5) # right=10"
   ]
  },
  {
   "cell_type": "markdown",
   "metadata": {},
   "source": [
    "위 코드는 아래 코드와 동일하게 작동한다."
   ]
  },
  {
   "cell_type": "code",
   "execution_count": 36,
   "metadata": {},
   "outputs": [
    {
     "data": {
      "text/plain": [
       "15"
      ]
     },
     "execution_count": 36,
     "metadata": {},
     "output_type": "execute_result"
    }
   ],
   "source": [
    "myAdd10(5, right=10)"
   ]
  },
  {
   "cell_type": "markdown",
   "metadata": {},
   "source": [
    "10이 아닌 다른 값을 `right` 매개 변수의 키워드 인자로 지정하려면 \n",
    "아래 코드와 같이 함수 호출을 실행한다."
   ]
  },
  {
   "cell_type": "code",
   "execution_count": 37,
   "metadata": {},
   "outputs": [
    {
     "data": {
      "text/plain": [
       "25"
      ]
     },
     "execution_count": 37,
     "metadata": {},
     "output_type": "execute_result"
    }
   ],
   "source": [
    "myAdd10(5, right=20)"
   ]
  },
  {
   "cell_type": "markdown",
   "metadata": {},
   "source": [
    "## 람다 함수"
   ]
  },
  {
   "cell_type": "markdown",
   "metadata": {},
   "source": [
    "파이썬은 람다<font size='2'>lambda</font> 함수를 사용하면 간결하게 코드를 작성할 수 있다. 람다 함수의 형식은 아래와 같다.  \n",
    "\n",
    "```\n",
    "lambda arguments : expression\n",
    "```  \n",
    "\n",
    "예제와 함께 살펴보자. 예를 들어, 숫자를 인자로 받아 5를 더한 값을 반환하는 함수는 아래와 같이 정의할 수 있다. "
   ]
  },
  {
   "cell_type": "code",
   "execution_count": 40,
   "metadata": {},
   "outputs": [
    {
     "name": "stdout",
     "output_type": "stream",
     "text": [
      "20\n",
      "30\n"
     ]
    }
   ],
   "source": [
    "def plus_10(n) :\n",
    "    return n + 10\n",
    "\n",
    "print(plus_10(10))\n",
    "print(plus_10(20))"
   ]
  },
  {
   "cell_type": "markdown",
   "metadata": {},
   "source": [
    "동일한 기능의 함수를 람다 함수를 사용하면, 아래와 같이 작성할 수 있다. "
   ]
  },
  {
   "cell_type": "code",
   "execution_count": 41,
   "metadata": {},
   "outputs": [
    {
     "data": {
      "text/plain": [
       "<function __main__.<lambda>(a)>"
      ]
     },
     "execution_count": 41,
     "metadata": {},
     "output_type": "execute_result"
    }
   ],
   "source": [
    "lambda a : a + 10"
   ]
  },
  {
   "cell_type": "markdown",
   "metadata": {},
   "source": [
    "두 인자의 곱을 반환하는 함수는 아래와 같이 정의할 수 있다. "
   ]
  },
  {
   "cell_type": "code",
   "execution_count": 42,
   "metadata": {},
   "outputs": [
    {
     "data": {
      "text/plain": [
       "<function __main__.<lambda>(a, b)>"
      ]
     },
     "execution_count": 42,
     "metadata": {},
     "output_type": "execute_result"
    }
   ],
   "source": [
    "lambda a, b : a * b"
   ]
  },
  {
   "cell_type": "markdown",
   "metadata": {},
   "source": [
    "**람다 함수 호출**"
   ]
  },
  {
   "cell_type": "markdown",
   "metadata": {},
   "source": [
    "람다 함수는 이름이 없기에 호출하려면 함수 전체를 사용해야 한다. "
   ]
  },
  {
   "cell_type": "code",
   "execution_count": 43,
   "metadata": {},
   "outputs": [
    {
     "data": {
      "text/plain": [
       "15"
      ]
     },
     "execution_count": 43,
     "metadata": {},
     "output_type": "execute_result"
    }
   ],
   "source": [
    "(lambda a : a + 10)(5)"
   ]
  },
  {
   "cell_type": "code",
   "execution_count": 44,
   "metadata": {},
   "outputs": [
    {
     "data": {
      "text/plain": [
       "10"
      ]
     },
     "execution_count": 44,
     "metadata": {},
     "output_type": "execute_result"
    }
   ],
   "source": [
    "(lambda a, b : a * b)(2, 5)"
   ]
  },
  {
   "cell_type": "markdown",
   "metadata": {},
   "source": [
    "**람다 함수 활용**"
   ]
  },
  {
   "cell_type": "markdown",
   "metadata": {},
   "source": [
    "람다 함수는 한 번만 사용할 함수를 정의할 때 사용하면 좋다. \n",
    "예를 들어, 리스트 `[1, 2, 3, 4, 5]`의 각 항목을 제곱한 다음 5를 더한 값을 항목으로 갖는 리스트 `[6, 9, 14, 21, 30]`을 만들 때, \n",
    "다음과 같이 코드를 작성할 수 있다. "
   ]
  },
  {
   "cell_type": "code",
   "execution_count": 45,
   "metadata": {},
   "outputs": [
    {
     "data": {
      "text/plain": [
       "[6, 9, 14, 21, 30]"
      ]
     },
     "execution_count": 45,
     "metadata": {},
     "output_type": "execute_result"
    }
   ],
   "source": [
    "list(map(lambda x : x ** 2 + 5, [1, 2, 3, 4, 5]))"
   ]
  },
  {
   "cell_type": "markdown",
   "metadata": {},
   "source": [
    "## 지역 변수와 전역 변수"
   ]
  },
  {
   "cell_type": "markdown",
   "metadata": {},
   "source": [
    "함수를 선언할 때 사용되는 매개 변수와 함수 본문에서 선언되는 변수는 \n",
    "함수가 실행되는 동안에만 의미를 가지며, \n",
    "이런 의미에서 **지역 변수**<font size=\"2\">local variable</font>라 한다.\n",
    "반면에 함수 밖에서도 의미를 갖는 변수는 **전역 변수**<font size=\"2\">global variable</font>이다. \n",
    "\n",
    "아래 코드에서 `hour_to_min()` 함수는 시간을 분으로 변환한 값을 반환한다. \n",
    "매개 변수 `hour`와 함수 본문에서 선언된 `minutes` 변수는 모두 지역 변수이다.\n",
    "반면에 `two_hour` `hour_to_min(2)`의 실행 결괏값을 가리키는 전역 변수이다. "
   ]
  },
  {
   "cell_type": "code",
   "execution_count": 46,
   "metadata": {},
   "outputs": [],
   "source": [
    "def hour2min(hour):\n",
    "    minutes = hour * 60\n",
    "    return minutes\n",
    "\n",
    "two_hour = hour2min(2)"
   ]
  },
  {
   "cell_type": "markdown",
   "metadata": {},
   "source": [
    "위 코드의 실행 결과 `two_hour` 변수는 120을 가리킨다."
   ]
  },
  {
   "cell_type": "code",
   "execution_count": 47,
   "metadata": {},
   "outputs": [
    {
     "name": "stdout",
     "output_type": "stream",
     "text": [
      "2 시간은 120 분입니다.\n"
     ]
    }
   ],
   "source": [
    "print(\"2 시간은\", two_hour, \"분입니다.\")"
   ]
  },
  {
   "cell_type": "markdown",
   "metadata": {},
   "source": [
    "반면에 `minutes`와 `hour` 두 지역변수는 더 이상 존재하지 않으며\n",
    "두 변수가 가리키는 값을 확인하려 시도하면 이름이 존재하지 않음을 의미하는\n",
    "`NameError` 오류가 발생한다. "
   ]
  },
  {
   "cell_type": "markdown",
   "metadata": {},
   "source": [
    "```python\n",
    "In [21]: print(minutes)\n",
    "         ---------------------------------------------------------------------------\n",
    "         Traceback (most recent call last):\n",
    "           File \"<stdin>\", line 1, in <module>\n",
    "         NameError: name 'minutes' is not defined\n",
    "```"
   ]
  },
  {
   "cell_type": "markdown",
   "metadata": {},
   "source": [
    "```python\n",
    "In [22]: print(hour)\n",
    "         ---------------------------------------------------------------------------\n",
    "         Traceback (most recent call last):\n",
    "           File \"<stdin>\", line 1, in <module>\n",
    "         NameError: name 'hour' is not defined\n",
    "```"
   ]
  },
  {
   "cell_type": "markdown",
   "metadata": {},
   "source": [
    "[PythonTutor:지역 변수와 전역 변수 1](http://pythontutor.com/visualize.html#code=def%20hour_to_min%28hour%29%3A%0A%20%20%20%20minutes%20%3D%20hour%20*%2060%0A%20%20%20%20return%20minutes%0A%0Atwo_hour%20%3D%20hour_to_min%282%29%0Aprint%28minutes%29&cumulative=false&curInstr=0&heapPrimitives=nevernest&mode=display&origin=opt-frontend.js&py=3&rawInputLstJSON=%5B%5D&textReferences=false)에서\n",
    "`hour`와 `minutes`의 생존주기, 즉, 언제 생성되고 언제 사라지는지를 시각적으로 확인할 수 있다."
   ]
  },
  {
   "cell_type": "markdown",
   "metadata": {},
   "source": [
    ":::{admonition} 파이썬 튜터와 프레임\n",
    ":class: info\n",
    "\n",
    "변수 할당은 **컴퓨터 메모리** 상에서 이루어지며,\n",
    "변수와 변수에 할당된 값 사이의 관계는 \n",
    "**프레임**<font size=\"2\">frame</font>을 통해 관리된다.\n",
    "컴퓨터 메모리 상에서 일어나는 변화를 직접 눈으로 볼 수는 없다. \n",
    "하지만 **파이썬 튜터**([https://pythontutor.com/](https://pythontutor.com/))를 \n",
    "이용하면 프레임의 변화를 시각적으로 추적할 수 있다.\n",
    "앞서 변수 다섯 개의 할당을 실행하면 프레임이 어떻게 변하는지\n",
    "[파이썬 튜터: 변수 할당](https://pythontutor.com/visualize.html#code=greetings%20%3D%20'%EC%95%88%EB%85%95%ED%95%98%EC%84%B8%EC%9A%94!'%0Anum%20%3D%2017%0Api%20%3D%203.1415926535897932%0Ascores%20%3D%20%2892,%2087,%20100%29%0Alanguages%20%3D%20%5B%22Python%22,%20%22JavaScript%22,%20%22Rust%22,%20%22C%2B%2B%22%5D%0A%0Amean%20%3D%20%28scores%5B0%5D%20%2B%20scores%5B1%5D%20%2B%20scores%5B2%5D%29/3%0Aprint%28mean%29%0A%0Aprint%28%22%3D%3D%3D%22%29%0A%0Aprint%28num%29%0A%0Anum%20%3D%2018%0Aprint%28num%29%0A%0Anum%20%3D%20num%20%2B%202%0Aprint%28num%29&cumulative=false&curInstr=0&heapPrimitives=nevernest&mode=display&origin=opt-frontend.js&py=3&rawInputLstJSON=%5B%5D&textReferences=false)에 \n",
    "접속해서 확인할 수 있다.\n",
    "\n",
    "파이썬튜터의 사용법은 다음과 같다.\n",
    "\n",
    "* 해당 사이트에 접속해서 코드 확인 및 수정 후 <kbd>Visualize Execution</kbd> 버튼을 누른다.\n",
    "* 이후 화면에서 <kbd>Next></kbd> 버튼을 반복해서 누르면\n",
    "    각각의 명령문이 차례대로 실행되는 과정에서 발생하는 프레임의 변화를 확인할 수 있다.\n",
    "* **Global frame**은 **전역 변수**<font size=\"2\">global variable</font>를 \n",
    "    담당하는 **전역 프레임**을 가리킨다.\n",
    "    전역 변수에 대한 정의는 나중에 소개한다.\n",
    ":::"
   ]
  },
  {
   "cell_type": "markdown",
   "metadata": {},
   "source": [
    ":::{prf:example}\n",
    ":label: local_global1\n",
    "\n",
    "아래 코드에서 `one_hour` 가 전역 변수와 지역 변수로 사용된다.\n",
    "하지만 두 변수는 서로 상관이 없으며\n",
    "맨 마지막에 호출되는 `print(one_hour)` 는 60을 출력한다. \n",
    "\n",
    "```python\n",
    "one_hour = 60       # 1시간은 60분\n",
    "\n",
    "def hour2min(hour):\n",
    "    one_hour = 600  # 600분으로 오타\n",
    "    minutes = hour * one_hour\n",
    "    return minutes\n",
    "\n",
    "two_hour = hour2min(2)\n",
    "\n",
    "print(one_hour)\n",
    "```\n",
    "\n",
    "[PythonTutor:지역 변수와 전역 변수 2](https://pythontutor.com/visualize.html#code=one_hour%20%3D%2060%20%20%20%20%20%20%20%23%201%EC%8B%9C%EA%B0%84%EC%9D%80%2060%EB%B6%84%0A%0Adef%20hour2min%28hour%29%3A%0A%20%20%20%20one_hour%20%3D%20600%20%20%23%20600%EB%B6%84%EC%9C%BC%EB%A1%9C%20%EC%98%A4%ED%83%80%0A%20%20%20%20minutes%20%3D%20hour%20*%20one_hour%0A%20%20%20%20return%20minutes%0A%0Atwo_hour%20%3D%20hour2min%282%29%0A%0Aprint%28one_hour%29&cumulative=false&curInstr=0&heapPrimitives=nevernest&mode=display&origin=opt-frontend.js&py=3&rawInputLstJSON=%5B%5D&textReferences=false)에서 `one_hour` 의 두 역할을 시각적으로 확인할 수 있다.\n",
    ":::"
   ]
  },
  {
   "cell_type": "markdown",
   "metadata": {},
   "source": [
    ":::{prf:example}\n",
    ":label: local_global2\n",
    "\n",
    "반면에 아래 코드에서 `one_hour` 는 하나의 전역 변수로만 사용된다.\n",
    "함수 내에서 `global` 명령문으로 변수를 지정한 후에 해당 전역 변수를\n",
    "함수 본체에서 수정하면 함수 밖에도 영향을 미친다. \n",
    "따라서 맨 마지막에 호출되는 `print(one_hour)` 는 600을 출력한다. \n",
    "\n",
    "```python\n",
    "one_hour = 60  # 1시간은 60분\n",
    "\n",
    "def hour2min(hour):\n",
    "    global one_hour\n",
    "    one_hour = 600\n",
    "    minutes = hour * one_hour\n",
    "    return minutes\n",
    "\n",
    "two_hour = hour2min(2)\n",
    "\n",
    "print(one_hour)\n",
    "```\n",
    "[PythonTutor:지역 변수와 전역 변수 3](https://pythontutor.com/visualize.html#code=one_hour%20%3D%2060%20%20%20%20%20%20%20%23%201%EC%8B%9C%EA%B0%84%EC%9D%80%2060%EB%B6%84%0A%0Adef%20hour2min%28hour%29%3A%0A%20%20%20%20global%20one_hour%0A%20%20%20%20one_hour%20%3D%20600%20%20%23%20600%EB%B6%84%EC%9C%BC%EB%A1%9C%20%EC%98%A4%ED%83%80%0A%20%20%20%20minutes%20%3D%20hour%20*%20one_hour%0A%20%20%20%20return%20minutes%0A%0Atwo_hour%20%3D%20hour2min%282%29%0A%0Aprint%28one_hour%29&cumulative=false&curInstr=0&heapPrimitives=nevernest&mode=display&origin=opt-frontend.js&py=3&rawInputLstJSON=%5B%5D&textReferences=false)에서 `global one_hour` 의 의미를 \n",
    "시각적으로 확인할 수 있다.\n",
    ":::"
   ]
  },
  {
   "cell_type": "markdown",
   "metadata": {},
   "source": [
    "## 프레임과 콜 스택"
   ]
  },
  {
   "cell_type": "markdown",
   "metadata": {},
   "source": [
    "파이썬 프로그램의 실행은 기본적으로 \n",
    "\"위에서 아래로\"와 \"왼쪽에서 오른쪽으로\"의 두 기준으로\n",
    "더 이상 실행할 명령문이 없을 때까지 진행된다.\n",
    "\n",
    "그런데 프로그램 실행 도중에 \n",
    "함수 호출이 발생하면 함수의 실행이 종료될 때까지 이후 명령문은 대기한다. \n",
    "함수 호출은 프로그램 실행 도중에 발생하는 일종의 \"나들이\"이다. \n",
    "즉, 프로그램 실행 도중 잠시 일을 멈추고 다른 일을 먼저 완료하는 기능이며\n",
    "나들이 도중에 얻어진 결과물을 이어서 활용할 수 있다.\n",
    "\n",
    "물론 함수 본문에서 다른 함수를 호출할 수도 있기 때문에 \n",
    "프로그램의 실행은 무한정 복잡해질 수 있다.\n",
    "다행히도 파이썬 해석기가 프로그램의 실행 과정을 철저하게 \n",
    "추적하고 관리한다. "
   ]
  },
  {
   "cell_type": "markdown",
   "metadata": {},
   "source": [
    "**프레임**"
   ]
  },
  {
   "cell_type": "markdown",
   "metadata": {},
   "source": [
    "함수가 실행되는 동안 발생하는 모든 정보는 컴퓨터 메모리 상에서\n",
    "**프레임**<font size=\"2\">frame</font> 형식으로 관리된다.\n",
    "프레임은 하나의 함수가 실행되는 동안 발생하는 지역 변수의 생성 및 값 할당, \n",
    "할당된 값 업데이트 등을 관리한다.\n",
    "함수의 실행과 함께 스택<font size='2'>stack</font> 메모리 영역에서 생성된 프레임은 함수의 실행이 종료되면 스택에서 사라진다.\n",
    "하지만 함수의 반환값은 지정된 변수에 할당되거나 다른 함수의 인자로 전달된다.\n",
    "\n",
    "다음 코드를 이용하여 함수 호출과 프레임 생성 및 사멸의 관계를 알아보자."
   ]
  },
  {
   "cell_type": "code",
   "execution_count": 48,
   "metadata": {},
   "outputs": [
    {
     "name": "stdout",
     "output_type": "stream",
     "text": [
      "2 시간은 7200 초입니다.\n"
     ]
    }
   ],
   "source": [
    "def hour2min(hour):\n",
    "    min = hour * 60\n",
    "    return min\n",
    "\n",
    "def hour2sec(hour):\n",
    "    min = hour2min(hour)\n",
    "    sec = 60 * min\n",
    "    return sec\n",
    "\n",
    "print(\"2 시간은\", hour2sec(2), \"초입니다.\")"
   ]
  },
  {
   "cell_type": "markdown",
   "metadata": {},
   "source": [
    "아래 그림은 `hour2sec(2)`가 실행되면 이어서 바로 `hour2min(2)`가 호출되어\n",
    "`hour`와 `min` 두 지역 변수로 구성된 프레임이 포함된 콜 스택의 상태를 보여준다.\n",
    "\n",
    "<div align=\"center\"><img src=\"https://raw.githubusercontent.com/codingalzi/pybook/master/jupyter-book/images/stack-diagram.jpg\" style=\"width:275px;\"></div>\n",
    "\n",
    "- 맨 위 프레임: Global frame은 전역적<font size=\"2\">global</font>으로 \n",
    "    사용 가능한 함수 이름과 전역 변수를 관리한다.\n",
    "- 가운데 프레임: hour2sec 프레임은 `hour2sec()` 함수가 호출되면서 \n",
    "    생성된 프레임이며, 매개 변수 `hour`가 \n",
    "    지역 변수로 포함되어 있다.\n",
    "- 맨 아래 프레임: hour2min 프레임은 \n",
    "    변수 할당문 `min = hour2min(hour)`를 실행하면 먼저 \n",
    "    `hour2min()` 함수가 호출되기에 새로 생성된 프레임이다.\n",
    "    매개 변수 `hour`와 지역 변수 `min`이 포함된다.\n",
    "- hour2sec 프레임의 지역 변수 `sec`은 `hour2min(hour)` 의 반환값이 정해지면 그때 포함된다.\n",
    "\n",
    "위 코드의 전체 실행 과정을 \n",
    "[PythonTutor: 프레임의 생성과 사멸](https://pythontutor.com/visualize.html#code=def%20hour2min%28hour%29%3A%0A%20%20%20%20min%20%3D%20hour%20*%2060%0A%20%20%20%20return%20min%0A%0Adef%20hour2sec%28hour%29%3A%0A%20%20%20%20min%20%3D%20hour2min%28hour%29%0A%20%20%20%20sec%20%3D%2060%20*%20min%0A%20%20%20%20return%20sec%0A%0Aprint%28%222%20%EC%8B%9C%EA%B0%84%EC%9D%80%22,%20hour2sec%282%29,%20%22%EC%B4%88%EC%9E%85%EB%8B%88%EB%8B%A4.%22%29&cumulative=false&curInstr=0&heapPrimitives=nevernest&mode=display&origin=opt-frontend.js&py=3&rawInputLstJSON=%5B%5D&textReferences=false)에서\n",
    "확인해 보면 함수 호출이 발생할 때마다 프레임이 생성되고 또 함수의 실행이 완료될 때마다\n",
    "해당 함수의 프레임이 사멸하는 것을 확인할 수 있다."
   ]
  },
  {
   "cell_type": "markdown",
   "metadata": {},
   "source": [
    "**콜 스택**"
   ]
  },
  {
   "cell_type": "markdown",
   "metadata": {},
   "source": [
    "프레임은 생성된 순서 역순으로 사멸한다.\n",
    "즉, 가장 나중에 생성된 프레임이 가장 먼저,\n",
    "가장 먼저 생성된 프레임이 가장 나중에 사멸한다. \n",
    "이렇게 작동하는 구조가 **스택**<font size=\"2\">stack</font> 이기에\n",
    "함수의 프레임으로 구성된 스택을 **콜 스택**<font size=\"2\">call stack</font>이라 부른다.\n",
    "**스택 다이어그램**(stack diagram)은 콜 스택의 변화를 다이어그램으로 표현한다.\n",
    "위 프로그램의 실행 과정에서의 \n",
    "스택 다이어그램의 변화는 다음과 같다.\n",
    "\n",
    "- 프레임 생성 순서\n",
    "\n",
    "```\n",
    "Global frame => hour2sec 프레임 => hour2min 프레임\n",
    "```\n",
    "\n",
    "- 프레임 사멸 순서\n",
    "\n",
    "```\n",
    "hour2min 프레임 => hour2sec 프레임 => Global frame\n",
    "```"
   ]
  },
  {
   "cell_type": "markdown",
   "metadata": {},
   "source": [
    "## 연습문제 "
   ]
  },
  {
   "cell_type": "markdown",
   "metadata": {},
   "source": [
    "참고: [(실습) 함수](https://colab.research.google.com/github/codingalzi/pybook/blob/master/practices/practice-functions.ipynb)"
   ]
  }
 ],
 "metadata": {
  "kernelspec": {
   "display_name": "Python 3 (ipykernel)",
   "language": "python",
   "name": "python3"
  },
  "language_info": {
   "codemirror_mode": {
    "name": "ipython",
    "version": 3
   },
   "file_extension": ".py",
   "mimetype": "text/x-python",
   "name": "python",
   "nbconvert_exporter": "python",
   "pygments_lexer": "ipython3",
   "version": "3.11.4"
  },
  "vscode": {
   "interpreter": {
    "hash": "6c86b3592b6800d985c04531f2c445f0fa6967131b8dd6395a925f7622e55602"
   }
  }
 },
 "nbformat": 4,
 "nbformat_minor": 1
}
