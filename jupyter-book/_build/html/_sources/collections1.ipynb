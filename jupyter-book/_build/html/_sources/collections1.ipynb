{
 "cells": [
  {
   "cell_type": "markdown",
   "id": "3b6fc277",
   "metadata": {},
   "source": [
    "(ch:collections)=\n",
    "# 모음 자료형 1부"
   ]
  },
  {
   "cell_type": "markdown",
   "id": "98b14e49",
   "metadata": {},
   "source": [
    "모음 자료형<font size = \"2\">Collection Data Types</font>은\n",
    "여러 개의 값을 항목으로 포함하는 값들의 자료형이다.\n",
    "파이썬은 아래 다섯 가지 모음 자료형을 기본으로 제공한다.\n",
    "\n",
    "```\n",
    "문자열, 리스트, 튜플, 집합, 사전\n",
    "```\n",
    "\n",
    "모음 자료형을 구분하는 여러가지 기준이 있다.\n",
    "\n",
    "첫째, 리스트처럼 항목들 사이의 순서를 중요하게 고려하고 항목의 중복 사용을 허용하는 \n",
    "순차<font size=\"2\">sequential</font> 자료형과 \n",
    "집합처럼 그렇지 않은 비순차 자료형으로 나뉜다.\n",
    "\n",
    "- 순차 자료형: 문자열, 리스트, 튜플\n",
    "- 비순차 자료형: 집합, 사전"
   ]
  },
  {
   "cell_type": "markdown",
   "id": "e4793c46-cf15-452f-83bd-abb5c011689f",
   "metadata": {},
   "source": [
    "둘째, 항목 변경의 허용여부에 따라 불변<font size = \"2\">immutable</font> 자료형과 \n",
    "가변<font size = \"2\">mutable</font> 자료형으로 나뉜다.\n",
    "\n",
    "- 가변 자료형: 리스트, 집합, 사전\n",
    "- 불변 자료형: 문자열, 튜플"
   ]
  },
  {
   "cell_type": "markdown",
   "id": "293d36bf",
   "metadata": {},
   "source": [
    "먼저 순차 자료형을 다룬다."
   ]
  },
  {
   "cell_type": "markdown",
   "id": "a4422a33-c82a-4d09-abb5-baac208658f0",
   "metadata": {
    "tags": []
   },
   "source": [
    "(sec:string)=\n",
    "## 문자열"
   ]
  },
  {
   "cell_type": "markdown",
   "id": "b3692f7f",
   "metadata": {},
   "source": [
    "문자들을 나열한 값들을 일컫는 자료형으로 작은 따옴표(`'`) 또는 큰 따옴표(`\"`)를 사용한다. \n",
    "\n",
    "```python\n",
    "'Hello, Python!'\n",
    "```\n",
    "\n",
    "```python\n",
    "\"Hello, Python!\"\n",
    "```"
   ]
  },
  {
   "cell_type": "markdown",
   "id": "1143fafb",
   "metadata": {},
   "source": [
    "문자열은 순차 자료형이며, 따라서 항목의 순서 또는 개수가 다르면 서로 다른 문자열로 처리된다."
   ]
  },
  {
   "cell_type": "code",
   "execution_count": 1,
   "id": "b2a65895",
   "metadata": {},
   "outputs": [
    {
     "data": {
      "text/plain": [
       "False"
      ]
     },
     "execution_count": 1,
     "metadata": {},
     "output_type": "execute_result"
    }
   ],
   "source": [
    "'ab' == 'ba'"
   ]
  },
  {
   "cell_type": "code",
   "execution_count": 2,
   "id": "b53a7f7c",
   "metadata": {},
   "outputs": [
    {
     "data": {
      "text/plain": [
       "False"
      ]
     },
     "execution_count": 2,
     "metadata": {},
     "output_type": "execute_result"
    }
   ],
   "source": [
    "'aa' == 'aaa'"
   ]
  },
  {
   "cell_type": "markdown",
   "id": "ca37af4b",
   "metadata": {},
   "source": [
    "**빈 문자열**\n",
    "\n",
    "빈 문자열은 아무것도 포함하지 않는 문자열이다.\n",
    "빈 문자열을 만드는 방법은 다음 세 가지 방법이 있다.\n",
    "\n",
    "```python\n",
    "empty_str = ''\n",
    "empty_str = \"\"\n",
    "empty_str = str()\n",
    "```"
   ]
  },
  {
   "cell_type": "markdown",
   "id": "c780f957",
   "metadata": {},
   "source": [
    "### 문자열 연산"
   ]
  },
  {
   "cell_type": "markdown",
   "id": "6e8d53d3-81eb-446d-b4d6-1f7c82484699",
   "metadata": {},
   "source": [
    "**`in` 연산자** \n",
    "\n",
    "문자열의 일부로 포함된 부분 문자열인지 여부를 판단하는 논리 연산자이다. "
   ]
  },
  {
   "cell_type": "code",
   "execution_count": 3,
   "id": "089fbce8-65ff-4ea0-8ad3-a671758de90d",
   "metadata": {},
   "outputs": [
    {
     "data": {
      "text/plain": [
       "True"
      ]
     },
     "execution_count": 3,
     "metadata": {},
     "output_type": "execute_result"
    }
   ],
   "source": [
    "'app' in 'apple'"
   ]
  },
  {
   "cell_type": "code",
   "execution_count": 4,
   "id": "837c97f7-8f37-4813-9057-f5d21e6af336",
   "metadata": {},
   "outputs": [
    {
     "data": {
      "text/plain": [
       "False"
      ]
     },
     "execution_count": 4,
     "metadata": {},
     "output_type": "execute_result"
    }
   ],
   "source": [
    "'h' in 'banana' "
   ]
  },
  {
   "cell_type": "code",
   "execution_count": 5,
   "id": "47af3f0c-9ba7-426b-b313-5a9ae5582ae6",
   "metadata": {},
   "outputs": [
    {
     "data": {
      "text/plain": [
       "True"
      ]
     },
     "execution_count": 5,
     "metadata": {},
     "output_type": "execute_result"
    }
   ],
   "source": [
    "'ca' not in 'coconut'"
   ]
  },
  {
   "cell_type": "markdown",
   "id": "9949ee94",
   "metadata": {},
   "source": [
    "**크기 비교 연산**"
   ]
  },
  {
   "cell_type": "markdown",
   "id": "fdaefba2",
   "metadata": {},
   "source": [
    "문자열은 사전식의 순서를 사용하며 공백문자, 소문자, 대문자 순으로 크기가 정해진다."
   ]
  },
  {
   "cell_type": "code",
   "execution_count": 6,
   "id": "f486f473",
   "metadata": {},
   "outputs": [
    {
     "data": {
      "text/plain": [
       "True"
      ]
     },
     "execution_count": 6,
     "metadata": {},
     "output_type": "execute_result"
    }
   ],
   "source": [
    "'a' >= 'A'"
   ]
  },
  {
   "cell_type": "code",
   "execution_count": 7,
   "id": "1d76374b",
   "metadata": {},
   "outputs": [
    {
     "data": {
      "text/plain": [
       "False"
      ]
     },
     "execution_count": 7,
     "metadata": {},
     "output_type": "execute_result"
    }
   ],
   "source": [
    "'apple' < 'Hello, World!'"
   ]
  },
  {
   "cell_type": "code",
   "execution_count": 8,
   "id": "d8bb3e49",
   "metadata": {},
   "outputs": [
    {
     "data": {
      "text/plain": [
       "False"
      ]
     },
     "execution_count": 8,
     "metadata": {},
     "output_type": "execute_result"
    }
   ],
   "source": [
    "'Hello, World!' < ' hello'"
   ]
  },
  {
   "cell_type": "markdown",
   "id": "ec4d1a7b",
   "metadata": {},
   "source": [
    "**`min()`/`max()` 함수**"
   ]
  },
  {
   "cell_type": "markdown",
   "id": "608e1855",
   "metadata": {},
   "source": [
    "문자열에 사용된 가장 작은 또는 가장 큰 값의 기호를 반환한다."
   ]
  },
  {
   "cell_type": "code",
   "execution_count": 9,
   "id": "067e93d9",
   "metadata": {},
   "outputs": [
    {
     "data": {
      "text/plain": [
       "'p'"
      ]
     },
     "execution_count": 9,
     "metadata": {},
     "output_type": "execute_result"
    }
   ],
   "source": [
    "max('apple')"
   ]
  },
  {
   "cell_type": "code",
   "execution_count": 10,
   "id": "aff416f5",
   "metadata": {},
   "outputs": [
    {
     "data": {
      "text/plain": [
       "'r'"
      ]
     },
     "execution_count": 10,
     "metadata": {},
     "output_type": "execute_result"
    }
   ],
   "source": [
    "max('Hello, World!')"
   ]
  },
  {
   "cell_type": "code",
   "execution_count": 11,
   "id": "9ac019ac",
   "metadata": {},
   "outputs": [
    {
     "data": {
      "text/plain": [
       "'a'"
      ]
     },
     "execution_count": 11,
     "metadata": {},
     "output_type": "execute_result"
    }
   ],
   "source": [
    "min('banana')"
   ]
  },
  {
   "cell_type": "code",
   "execution_count": 12,
   "id": "04174c71",
   "metadata": {},
   "outputs": [
    {
     "data": {
      "text/plain": [
       "' '"
      ]
     },
     "execution_count": 12,
     "metadata": {},
     "output_type": "execute_result"
    }
   ],
   "source": [
    "min('Hello, World!')"
   ]
  },
  {
   "cell_type": "markdown",
   "id": "afc68940-a4e2-42f5-92ea-a0adf8b2dc8e",
   "metadata": {},
   "source": [
    "**`len()` 함수**\n",
    "\n",
    "문자열의 길이, 즉 문자열에 포함된 기호의 개수를 반환한다."
   ]
  },
  {
   "cell_type": "code",
   "execution_count": 13,
   "id": "356e853e-8468-4f8d-8a85-139433dab0f1",
   "metadata": {},
   "outputs": [
    {
     "data": {
      "text/plain": [
       "5"
      ]
     },
     "execution_count": 13,
     "metadata": {},
     "output_type": "execute_result"
    }
   ],
   "source": [
    "len('apple')"
   ]
  },
  {
   "cell_type": "code",
   "execution_count": 14,
   "id": "bfd270c5-95ca-4ecb-8454-ec35c55fc52f",
   "metadata": {},
   "outputs": [
    {
     "data": {
      "text/plain": [
       "13"
      ]
     },
     "execution_count": 14,
     "metadata": {},
     "output_type": "execute_result"
    }
   ],
   "source": [
    "len('hello, world!')"
   ]
  },
  {
   "cell_type": "markdown",
   "id": "0dea30c9",
   "metadata": {},
   "source": [
    "화이트 스페이스는 모두 하나의 기호로 간주된다."
   ]
  },
  {
   "cell_type": "code",
   "execution_count": 15,
   "id": "dcaa1188",
   "metadata": {},
   "outputs": [
    {
     "data": {
      "text/plain": [
       "14"
      ]
     },
     "execution_count": 15,
     "metadata": {},
     "output_type": "execute_result"
    }
   ],
   "source": [
    "len('hello,\\t\\nworld!')"
   ]
  },
  {
   "cell_type": "markdown",
   "id": "a85e268b-49a7-4d42-9738-96c6d5e004fa",
   "metadata": {},
   "source": [
    "### 문자열 인덱싱"
   ]
  },
  {
   "cell_type": "markdown",
   "id": "9c38cc2c-8ab3-4a97-a414-e63a1ada4305",
   "metadata": {},
   "source": [
    "문자열에 포함된 모든 문자는 인덱스<font size = \"2\">index</font>라는 고유한 번호를 갖는다.\n",
    "인덱스는 0부터 시작하며, 오른쪽으로 한 문자씩 이동할 때마다 증가한다.\n",
    "**인덱싱**<font size = \"2\">indexing</font>은 인덱스를 활용하여 문자열에 포함된 특정 문자를 확인한다."
   ]
  },
  {
   "cell_type": "code",
   "execution_count": 16,
   "id": "ddfcdf0c",
   "metadata": {},
   "outputs": [],
   "source": [
    "colors = 'red, blue, yellow'"
   ]
  },
  {
   "cell_type": "code",
   "execution_count": 17,
   "id": "6bf9aa35",
   "metadata": {},
   "outputs": [
    {
     "data": {
      "text/plain": [
       "'r'"
      ]
     },
     "execution_count": 17,
     "metadata": {},
     "output_type": "execute_result"
    }
   ],
   "source": [
    "colors[0] #0번 인덱스 값"
   ]
  },
  {
   "cell_type": "code",
   "execution_count": 18,
   "id": "e256b856-af80-42d6-a0ce-2d9d787a7e05",
   "metadata": {},
   "outputs": [
    {
     "data": {
      "text/plain": [
       "'b'"
      ]
     },
     "execution_count": 18,
     "metadata": {},
     "output_type": "execute_result"
    }
   ],
   "source": [
    "colors[5] #3번 인덱스 값"
   ]
  },
  {
   "cell_type": "markdown",
   "id": "7559128f-c98c-4939-b02f-d1e8a2d0a2c7",
   "metadata": {},
   "source": [
    "문자열의 길이와 같거나 큰 인덱스를 사용하면 오류가 발생한다. \n",
    "\n",
    "```python\n",
    ">>> len(colors)\n",
    "17\n",
    ">>> colors[50]\n",
    "IndexError                                Traceback (most recent call last)\n",
    "/tmp/ipykernel_1817/3232567937.py in <module>\n",
    "----> 1 colors[50]\n",
    "\n",
    "IndexError: string index out of range\n",
    "```"
   ]
  },
  {
   "cell_type": "markdown",
   "id": "931036c1-1df6-406c-990d-7c23627730a2",
   "metadata": {},
   "source": [
    "인덱스 값으로 음의 정수를 사용할 수 있다. \n",
    "-1을 마지막 문자의 인덱스로 사용하고, 왼쪽으로 한 문자씩 이동할 때마다 감소한다.  "
   ]
  },
  {
   "cell_type": "code",
   "execution_count": 19,
   "id": "7ac4b3da-194f-4540-9ed2-1ecd0b20bb4c",
   "metadata": {},
   "outputs": [
    {
     "data": {
      "text/plain": [
       "'w'"
      ]
     },
     "execution_count": 19,
     "metadata": {},
     "output_type": "execute_result"
    }
   ],
   "source": [
    "colors[-1] # 오른쪽 끝에 위치한 문자"
   ]
  },
  {
   "cell_type": "code",
   "execution_count": 20,
   "id": "279d307c-5d35-4ac2-ab78-374351634612",
   "metadata": {},
   "outputs": [
    {
     "data": {
      "text/plain": [
       "'o'"
      ]
     },
     "execution_count": 20,
     "metadata": {},
     "output_type": "execute_result"
    }
   ],
   "source": [
    "colors[-2] # 오른쪽 끝에서 두 번째 문자"
   ]
  },
  {
   "cell_type": "markdown",
   "id": "6e58a0b4",
   "metadata": {},
   "source": [
    "### 문자열 슬라이싱"
   ]
  },
  {
   "cell_type": "markdown",
   "id": "6ff7500f-0825-4ea7-8096-8c0072e7235e",
   "metadata": {
    "tags": []
   },
   "source": [
    "인덱스의 특정 구간에 해당하는 부분 문자열을 확인하려 할 때는 \n",
    "**슬라이싱**<font size = \"2\">slicing</font>을 사용한다.\n",
    "슬라이싱은 다음과 같이 실행한다.  \n",
    "\n",
    "* 시작 인덱스 : 해당 인덱스부터 문자 확인\n",
    "* 끝 인덱스 : 해당 인덱스 이전까지의 문자 확인\n",
    "* 계단: 시작 인덱스부터 몇 계단씩 건너뛰며 문자를 추출할지 결정. \n",
    "    계단의 크기가 1이면 생략 가능."
   ]
  },
  {
   "cell_type": "code",
   "execution_count": 21,
   "id": "a8a02eab-a16d-4b62-a7f9-fd6675368f55",
   "metadata": {},
   "outputs": [],
   "source": [
    "colors = 'red, blue, yellow'"
   ]
  },
  {
   "cell_type": "markdown",
   "id": "23912c81-c71d-47c3-9aa2-573e8867f26f",
   "metadata": {},
   "source": [
    "`colors`에서 `red`를 추출하고 싶다면 다음과 같이 하면 된다. "
   ]
  },
  {
   "cell_type": "code",
   "execution_count": 22,
   "id": "05a2ae6f",
   "metadata": {},
   "outputs": [
    {
     "data": {
      "text/plain": [
       "'red'"
      ]
     },
     "execution_count": 22,
     "metadata": {},
     "output_type": "execute_result"
    }
   ],
   "source": [
    "colors[0 : 3 : 1]"
   ]
  },
  {
   "cell_type": "markdown",
   "id": "e9235d41-72ce-469f-b71f-5f2ee9f12b93",
   "metadata": {},
   "source": [
    "`colors`에서 `b`부터 끝까지 하나씩 건너서 추출하려면 다음과 같이 하면 된다. "
   ]
  },
  {
   "cell_type": "code",
   "execution_count": 23,
   "id": "b9016767-c4b3-4f19-aa57-37f3baf0167e",
   "metadata": {},
   "outputs": [
    {
     "data": {
      "text/plain": [
       "'bu,ylo'"
      ]
     },
     "execution_count": 23,
     "metadata": {},
     "output_type": "execute_result"
    }
   ],
   "source": [
    "colors[5 : len(colors) : 2]"
   ]
  },
  {
   "cell_type": "markdown",
   "id": "d2500f09-12fe-407c-b396-09c94da53578",
   "metadata": {},
   "source": [
    "양의 정수와 음의 정수를 섞어서 인덱스로 사용할 수 있다."
   ]
  },
  {
   "cell_type": "code",
   "execution_count": 24,
   "id": "b0d3b26d-5f98-49e6-ae6f-f32d2b42875b",
   "metadata": {},
   "outputs": [
    {
     "data": {
      "text/plain": [
       "'bu,ylo'"
      ]
     },
     "execution_count": 24,
     "metadata": {},
     "output_type": "execute_result"
    }
   ],
   "source": [
    "colors[5 : -1 : 2]"
   ]
  },
  {
   "cell_type": "markdown",
   "id": "b7f8c0ba-3e3b-45c2-ad2c-9f911cb6aa8d",
   "metadata": {},
   "source": [
    "시작인덱스, 끝인덱스, 계단 각각의 인자는 경우에 따라 생략될 수도 있다. \n",
    "그럴 때는 각각의 위치에 대해 설정된 기본값이 사용된다.\n",
    "\n",
    "* `시작 인덱스`의 기본값 : `0`  \n",
    "* `끝 인덱스`의 기본값 : 문자열의 길이  \n",
    "* `계단`의 기본값 : `1`"
   ]
  },
  {
   "cell_type": "code",
   "execution_count": 25,
   "id": "c26ea62e-c1d2-46fa-b4c3-09cdf756b032",
   "metadata": {},
   "outputs": [
    {
     "data": {
      "text/plain": [
       "'red'"
      ]
     },
     "execution_count": 25,
     "metadata": {},
     "output_type": "execute_result"
    }
   ],
   "source": [
    "colors[ : 3 : ]"
   ]
  },
  {
   "cell_type": "code",
   "execution_count": 26,
   "id": "0ab0f20a-f247-4baf-8d55-d9bdf4024594",
   "metadata": {},
   "outputs": [
    {
     "data": {
      "text/plain": [
       "'red'"
      ]
     },
     "execution_count": 26,
     "metadata": {},
     "output_type": "execute_result"
    }
   ],
   "source": [
    "colors[ : 3] #계단을 생략할 떄는 콜론(:)도 함께 생략가능"
   ]
  },
  {
   "cell_type": "code",
   "execution_count": 27,
   "id": "80f73adf-2d2c-4d05-8c73-ec6a482c7335",
   "metadata": {},
   "outputs": [
    {
     "data": {
      "text/plain": [
       "'bu,ylo'"
      ]
     },
     "execution_count": 27,
     "metadata": {},
     "output_type": "execute_result"
    }
   ],
   "source": [
    "colors[5 : : 2]"
   ]
  },
  {
   "cell_type": "markdown",
   "id": "6b552205",
   "metadata": {},
   "source": [
    "**역순 슬라이싱**\n",
    "\n",
    "슬라이싱은 기본적으로 작은 인덱스에서 큰 인덱스 방향으로 확인한다. \n",
    "하지만 역순으로 확인하고자 한다면 계단에 음의 정수를 사용하면 된다.\n",
    "계단이 `-1`이고, 시작 인덱스와 끝 인덱스를 생략하면 문자열 전체를 역순으로 확인한다."
   ]
  },
  {
   "cell_type": "code",
   "execution_count": 28,
   "id": "94cc07ca",
   "metadata": {},
   "outputs": [
    {
     "data": {
      "text/plain": [
       "'wolley ,eulb ,der'"
      ]
     },
     "execution_count": 28,
     "metadata": {},
     "output_type": "execute_result"
    }
   ],
   "source": [
    "colors[ : : -1]"
   ]
  },
  {
   "cell_type": "markdown",
   "id": "333bcb55",
   "metadata": {},
   "source": [
    ":::{admonition} 주의\n",
    ":class: caution  \n",
    "\n",
    "문자열은 불변 자료형이라 인덱싱 또는 슬라이싱을 사용하여 값의 일부를 변경할 수 없다.\n",
    "\n",
    "```python\n",
    ">>> a_word = 'hello'\n",
    ">>> a_word[0] = 'H'\n",
    "TypeError                                 Traceback (most recent call last)\n",
    "/tmp/ipykernel_1817/217255829.py in <module>\n",
    "      1 a_word = 'hello'\n",
    "----> 2 a_word[0] = 'H'\n",
    "\n",
    "TypeError: 'str' object does not support item assignment\n",
    "```\n",
    ":::"
   ]
  },
  {
   "cell_type": "markdown",
   "id": "012a5574",
   "metadata": {},
   "source": [
    "### 문자열 메서드 "
   ]
  },
  {
   "cell_type": "markdown",
   "id": "d12183aa-af4a-4207-9c4f-49b2419f75cc",
   "metadata": {},
   "source": [
    "문자열 자료형에만 사용하는 함수들이 있다. 이와같이 특정 자료형에만 사용하는 함수들을 메서드<font size = \"2\">method</font>라 부른다.\n",
    "메서드는 일반적인 함수들과는 달리, 특정 자료형의 값을 먼저 언급하고 바로 이어서 점(`.`)을 찍은 다음 호출한다."
   ]
  },
  {
   "cell_type": "markdown",
   "id": "ebdc4c8e",
   "metadata": {},
   "source": [
    "문자열 자료형이 제공하는 주요 메서드는 아래 표와 같다. "
   ]
  },
  {
   "cell_type": "markdown",
   "id": "79185a79-a39c-4306-9be3-ab280dc40e13",
   "metadata": {},
   "source": [
    "|메서드|설명|\n",
    "|:---|:---|\n",
    "|`count()`|지정된 문자열이 등장한 횟수 반환|\n",
    "|`find()`|지정된 문자열이 처음 등장한 위치 반환. 지정된 문자열이 없다면 -1반환|\n",
    "|`index()`|지정된 문자열이 처음 등장한 위치 반환. 지정된 문자열이 없다면 오류발생|\n",
    "|`lower()`|문자열에 사용된 문자를 모두 소문자로 변환한 문자열 반환|`words.lower()`|\n",
    "|`upper()`|문자열에 사용된 문자를 모두 대문자로 변환한 문자열 반환|`words.upper()`|\n",
    "|`replace()`|하나의 문자열을 다른 문자열로 대체한 문자열 반환|`words.replace('so ', '')`|\n",
    "|`lstrip()`|문자열 왼쪽에서 지정된 부분 문자열을 삭제한 문자열 반환. 지정된 부분 문자열이 없는 경우 왼쪽 공백들을 삭제한 문자열 반환|\n",
    "|`rstrip()`|문자열 오른쪽에서 지정된 부분 문자열을 삭제한 문자열 반환. 지정된 부분 문자열이 없는 경우 오른쪽 공백들을 삭제한 문자열 반환|\n",
    "|`strip()`|문자열 양쪽에서 지정된 부분 문자열을 삭제한 문자열 반환. 지정된 문자열이 없는 경우 양쪽 공백들을 삭제한 문자열 반환|\n",
    "|`split()`|문자열을 지정된 기준으로 쪼개서 생성된 문자열들로 구성된 리스트 반환. 지정된 문자열이 없는 경우 공백을 기준 사용|\n",
    "|`join()`|지정된 문자열에 포함된 모든 문자들 사이에 지정된 문자열이 삽입된 문자열 반환|"
   ]
  },
  {
   "cell_type": "markdown",
   "id": "db8e7e50",
   "metadata": {},
   "source": [
    "**`count()` 메서드**"
   ]
  },
  {
   "cell_type": "code",
   "execution_count": 29,
   "id": "b96c4cff",
   "metadata": {},
   "outputs": [],
   "source": [
    "words = \" My life is so cool, my life is so cool \""
   ]
  },
  {
   "cell_type": "code",
   "execution_count": 30,
   "id": "7c42fa70",
   "metadata": {},
   "outputs": [
    {
     "data": {
      "text/plain": [
       "2"
      ]
     },
     "execution_count": 30,
     "metadata": {},
     "output_type": "execute_result"
    }
   ],
   "source": [
    "words.count('so')"
   ]
  },
  {
   "cell_type": "markdown",
   "id": "d1e3d6c6",
   "metadata": {},
   "source": [
    "**`find()` 메서드**"
   ]
  },
  {
   "cell_type": "code",
   "execution_count": 138,
   "id": "af340c5a",
   "metadata": {},
   "outputs": [
    {
     "data": {
      "text/plain": [
       "4"
      ]
     },
     "execution_count": 138,
     "metadata": {},
     "output_type": "execute_result"
    }
   ],
   "source": [
    "words.find('life')"
   ]
  },
  {
   "cell_type": "markdown",
   "id": "133b5837",
   "metadata": {},
   "source": [
    "**`index()` 메서드**"
   ]
  },
  {
   "cell_type": "code",
   "execution_count": 139,
   "id": "53254c08",
   "metadata": {},
   "outputs": [
    {
     "data": {
      "text/plain": [
       "1"
      ]
     },
     "execution_count": 139,
     "metadata": {},
     "output_type": "execute_result"
    }
   ],
   "source": [
    "words.index('My')"
   ]
  },
  {
   "cell_type": "markdown",
   "id": "a8dd5b12",
   "metadata": {},
   "source": [
    "**`lower()` 메서드**"
   ]
  },
  {
   "cell_type": "code",
   "execution_count": 140,
   "id": "0d94708e",
   "metadata": {},
   "outputs": [
    {
     "data": {
      "text/plain": [
       "' my life is so cool, my life is so cool '"
      ]
     },
     "execution_count": 140,
     "metadata": {},
     "output_type": "execute_result"
    }
   ],
   "source": [
    "words.lower()"
   ]
  },
  {
   "cell_type": "markdown",
   "id": "6729cd04",
   "metadata": {},
   "source": [
    "**`upper()` 메서드**"
   ]
  },
  {
   "cell_type": "code",
   "execution_count": 141,
   "id": "c6bdda25",
   "metadata": {},
   "outputs": [
    {
     "data": {
      "text/plain": [
       "' MY LIFE IS SO COOL, MY LIFE IS SO COOL '"
      ]
     },
     "execution_count": 141,
     "metadata": {},
     "output_type": "execute_result"
    }
   ],
   "source": [
    "words.upper()"
   ]
  },
  {
   "cell_type": "markdown",
   "id": "d8b8ed7b",
   "metadata": {},
   "source": [
    "**`replace()` 메서드**"
   ]
  },
  {
   "cell_type": "code",
   "execution_count": 142,
   "id": "5e190c3a",
   "metadata": {},
   "outputs": [
    {
     "data": {
      "text/plain": [
       "' My life is thatcool, my life is thatcool '"
      ]
     },
     "execution_count": 142,
     "metadata": {},
     "output_type": "execute_result"
    }
   ],
   "source": [
    "words.replace('so ', 'that')"
   ]
  },
  {
   "cell_type": "markdown",
   "id": "b4555be2",
   "metadata": {},
   "source": [
    "**`lstrip()` 메서드**"
   ]
  },
  {
   "cell_type": "code",
   "execution_count": 143,
   "id": "c0db5a20",
   "metadata": {},
   "outputs": [
    {
     "data": {
      "text/plain": [
       "'My life is so cool, my life is so cool '"
      ]
     },
     "execution_count": 143,
     "metadata": {},
     "output_type": "execute_result"
    }
   ],
   "source": [
    "words.lstrip()"
   ]
  },
  {
   "cell_type": "markdown",
   "id": "f587416a",
   "metadata": {},
   "source": [
    "**`rstrip()` 메서드**"
   ]
  },
  {
   "cell_type": "code",
   "execution_count": 144,
   "id": "d21ea341",
   "metadata": {},
   "outputs": [
    {
     "data": {
      "text/plain": [
       "' My life is so cool, my life is so cool'"
      ]
     },
     "execution_count": 144,
     "metadata": {},
     "output_type": "execute_result"
    }
   ],
   "source": [
    "words.rstrip()"
   ]
  },
  {
   "cell_type": "markdown",
   "id": "a41881d7",
   "metadata": {},
   "source": [
    "**`strip()` 메서드**"
   ]
  },
  {
   "cell_type": "code",
   "execution_count": 145,
   "id": "3732054c",
   "metadata": {},
   "outputs": [
    {
     "data": {
      "text/plain": [
       "'My life is so cool, my life is so cool'"
      ]
     },
     "execution_count": 145,
     "metadata": {},
     "output_type": "execute_result"
    }
   ],
   "source": [
    "words.strip()"
   ]
  },
  {
   "cell_type": "markdown",
   "id": "9e9e9286",
   "metadata": {},
   "source": [
    "**`split()` 메서드**"
   ]
  },
  {
   "cell_type": "code",
   "execution_count": 146,
   "id": "35066b92",
   "metadata": {},
   "outputs": [
    {
     "data": {
      "text/plain": [
       "['My', 'life', 'is', 'so', 'cool,', 'my', 'life', 'is', 'so', 'cool']"
      ]
     },
     "execution_count": 146,
     "metadata": {},
     "output_type": "execute_result"
    }
   ],
   "source": [
    "words.split()"
   ]
  },
  {
   "cell_type": "markdown",
   "id": "9d2916be",
   "metadata": {},
   "source": [
    "**`join()` 메서드**"
   ]
  },
  {
   "cell_type": "code",
   "execution_count": 148,
   "id": "6747f41c",
   "metadata": {},
   "outputs": [
    {
     "data": {
      "text/plain": [
       "'H--e--l--l--o'"
      ]
     },
     "execution_count": 148,
     "metadata": {},
     "output_type": "execute_result"
    }
   ],
   "source": [
    "'--'.join('Hello')"
   ]
  },
  {
   "cell_type": "markdown",
   "id": "6c5cce51-c29c-4e86-a8a5-ee0991f56750",
   "metadata": {},
   "source": [
    "(sec:list)=\n",
    "## 리스트"
   ]
  },
  {
   "cell_type": "markdown",
   "id": "096200ca-cea4-49d3-af8e-154aed4af5aa",
   "metadata": {},
   "source": [
    "리스트는 유한개의 값들을 모아서 하나의 값으로 취급하는 자료형이다.\n",
    "대괄호(`[]`)를 사용하고, 각 항목은 콤마(`,`)로 구분한다. "
   ]
  },
  {
   "cell_type": "code",
   "execution_count": 41,
   "id": "67c56924-64ab-4ae6-bdb3-14b79bc698e0",
   "metadata": {},
   "outputs": [
    {
     "data": {
      "text/plain": [
       "[1, 2, 3, 4, 5]"
      ]
     },
     "execution_count": 41,
     "metadata": {},
     "output_type": "execute_result"
    }
   ],
   "source": [
    "[1, 2, 3, 4, 5]"
   ]
  },
  {
   "cell_type": "code",
   "execution_count": 42,
   "id": "7e221cc8-4207-49f9-b4da-ddea3c1a420e",
   "metadata": {},
   "outputs": [
    {
     "data": {
      "text/plain": [
       "['a', 'b', 'c']"
      ]
     },
     "execution_count": 42,
     "metadata": {},
     "output_type": "execute_result"
    }
   ],
   "source": [
    "['a', 'b', 'c']"
   ]
  },
  {
   "cell_type": "markdown",
   "id": "5d28ecca-f3a0-434e-8dd1-fe80856e821f",
   "metadata": {},
   "source": [
    "리스트는 아래와 같이 서로 다른 자료형의 항목들을 포함할 수 있다."
   ]
  },
  {
   "cell_type": "code",
   "execution_count": 43,
   "id": "8f1b2cf7-6e9a-4b6f-a2ed-ef5a79a4ea1d",
   "metadata": {},
   "outputs": [],
   "source": [
    "mixed_list = [1, 2.3, 'abc', True, [1, 2], ('a', 'b')]"
   ]
  },
  {
   "cell_type": "markdown",
   "id": "e002db42",
   "metadata": {},
   "source": [
    "리스트는 순차 자료형이며, 따라서 항목의 순서 또는 개수가 다르면 서로 다른 리스트로 처리된다."
   ]
  },
  {
   "cell_type": "code",
   "execution_count": 44,
   "id": "7438c574",
   "metadata": {},
   "outputs": [
    {
     "data": {
      "text/plain": [
       "False"
      ]
     },
     "execution_count": 44,
     "metadata": {},
     "output_type": "execute_result"
    }
   ],
   "source": [
    "[1, 2] == [2, 1]"
   ]
  },
  {
   "cell_type": "code",
   "execution_count": 45,
   "id": "e5366df8",
   "metadata": {},
   "outputs": [
    {
     "data": {
      "text/plain": [
       "False"
      ]
     },
     "execution_count": 45,
     "metadata": {},
     "output_type": "execute_result"
    }
   ],
   "source": [
    "[1] == [1, 1]"
   ]
  },
  {
   "cell_type": "markdown",
   "id": "fb4310c9-35c0-4c8d-bf94-0a49a7b03830",
   "metadata": {},
   "source": [
    "**빈 리스트**\n",
    "\n",
    "빈 리스트<font size = \"2\">empty list</font>는 아무것도 포함하지 않는 리스트를 의미한다.\n",
    "빈 리스트를 만드는 방법은 아래와 같다. \n",
    "\n",
    "```python\n",
    "empty_list = []\n",
    "empty_list = list()\n",
    "```"
   ]
  },
  {
   "cell_type": "markdown",
   "id": "de43cbf7",
   "metadata": {},
   "source": [
    "아래 `a_singleton`은 빈 리스트가 아니라 빈 리스트를 포함하는 리스트를 가리킨다."
   ]
  },
  {
   "cell_type": "code",
   "execution_count": 46,
   "id": "70b7adf4",
   "metadata": {},
   "outputs": [
    {
     "name": "stdout",
     "output_type": "stream",
     "text": [
      "[[]]\n"
     ]
    }
   ],
   "source": [
    "a_singleton = [[]]\n",
    "print(a_singleton)"
   ]
  },
  {
   "cell_type": "markdown",
   "id": "ddc749ef",
   "metadata": {},
   "source": [
    "### 리스트 연산"
   ]
  },
  {
   "cell_type": "markdown",
   "id": "c5984f75-6dbb-411d-90b8-56e5bb23b279",
   "metadata": {},
   "source": [
    "**`in` 연산자**\n",
    "\n",
    "리스트의 항목으로 등장하는지 여부를 알려주는 논리 연산자이다."
   ]
  },
  {
   "cell_type": "code",
   "execution_count": 47,
   "id": "1deda97c-fb46-46d7-aba3-8d2ef4366928",
   "metadata": {},
   "outputs": [
    {
     "data": {
      "text/plain": [
       "True"
      ]
     },
     "execution_count": 47,
     "metadata": {},
     "output_type": "execute_result"
    }
   ],
   "source": [
    "3 in [1, 2, 3, 4, 5]"
   ]
  },
  {
   "cell_type": "code",
   "execution_count": 48,
   "id": "342e2994-0594-49e3-8bcf-b6367c8acb09",
   "metadata": {},
   "outputs": [
    {
     "data": {
      "text/plain": [
       "False"
      ]
     },
     "execution_count": 48,
     "metadata": {},
     "output_type": "execute_result"
    }
   ],
   "source": [
    "'a' in [1, 2, 3, 4, 5]"
   ]
  },
  {
   "cell_type": "code",
   "execution_count": 49,
   "id": "93633e8d-fce5-4c41-a3eb-d7076a5e3565",
   "metadata": {},
   "outputs": [
    {
     "data": {
      "text/plain": [
       "True"
      ]
     },
     "execution_count": 49,
     "metadata": {},
     "output_type": "execute_result"
    }
   ],
   "source": [
    "'a' not in [1, 2, 3, 4, 5]"
   ]
  },
  {
   "cell_type": "markdown",
   "id": "3b3e6040-6600-42f4-830c-21cb27d5d2e2",
   "metadata": {
    "tags": []
   },
   "source": [
    "**이어붙이기/복제**\n",
    "\n",
    "문자열의 경우처럼 리스트도 이어붙이기와 복제 연산을 사용한다."
   ]
  },
  {
   "cell_type": "code",
   "execution_count": 50,
   "id": "8bb8e1a2-5f00-404c-923d-9d1bb5c51494",
   "metadata": {},
   "outputs": [
    {
     "data": {
      "text/plain": [
       "['a', 'b', 'b', 'c', 'd']"
      ]
     },
     "execution_count": 50,
     "metadata": {},
     "output_type": "execute_result"
    }
   ],
   "source": [
    "['a', 'b'] + ['b', 'c', 'd']"
   ]
  },
  {
   "cell_type": "code",
   "execution_count": 51,
   "id": "6e9bce64-bc93-40d8-8332-466cd7c40029",
   "metadata": {},
   "outputs": [
    {
     "data": {
      "text/plain": [
       "['a', 'b', 'a', 'b']"
      ]
     },
     "execution_count": 51,
     "metadata": {},
     "output_type": "execute_result"
    }
   ],
   "source": [
    "['a', 'b'] * 2"
   ]
  },
  {
   "cell_type": "code",
   "execution_count": 52,
   "id": "f921b8c8",
   "metadata": {},
   "outputs": [
    {
     "data": {
      "text/plain": [
       "['a', 'b', 'a', 'b']"
      ]
     },
     "execution_count": 52,
     "metadata": {},
     "output_type": "execute_result"
    }
   ],
   "source": [
    "2 * ['a', 'b']"
   ]
  },
  {
   "cell_type": "markdown",
   "id": "5f239334-9c1c-4e79-8b3f-68b9a8e6498b",
   "metadata": {},
   "source": [
    "**`min()`/`max()` 함수**\n",
    "\n",
    "항목 중에서 최솟값 또는 최댓값을 확인한다."
   ]
  },
  {
   "cell_type": "code",
   "execution_count": 53,
   "id": "6836b87f",
   "metadata": {},
   "outputs": [],
   "source": [
    "a_list = [3, 15, 9, 12]"
   ]
  },
  {
   "cell_type": "code",
   "execution_count": 54,
   "id": "fca42487-2264-44a9-95e3-b367ec7770d3",
   "metadata": {},
   "outputs": [
    {
     "data": {
      "text/plain": [
       "15"
      ]
     },
     "execution_count": 54,
     "metadata": {},
     "output_type": "execute_result"
    }
   ],
   "source": [
    "max(a_list)"
   ]
  },
  {
   "cell_type": "code",
   "execution_count": 55,
   "id": "d18ce7af-dc09-4e82-830a-8bdacf22eafe",
   "metadata": {},
   "outputs": [
    {
     "data": {
      "text/plain": [
       "3"
      ]
     },
     "execution_count": 55,
     "metadata": {},
     "output_type": "execute_result"
    }
   ],
   "source": [
    "min(a_list)"
   ]
  },
  {
   "cell_type": "markdown",
   "id": "290e9e44",
   "metadata": {},
   "source": [
    "**`len()`함수** \n",
    "\n",
    "리스트의 길이, 즉 리스트에 포함된 항목의 개수를 반환한다."
   ]
  },
  {
   "cell_type": "code",
   "execution_count": 56,
   "id": "157ab8ad",
   "metadata": {},
   "outputs": [
    {
     "data": {
      "text/plain": [
       "4"
      ]
     },
     "execution_count": 56,
     "metadata": {},
     "output_type": "execute_result"
    }
   ],
   "source": [
    "len(a_list)"
   ]
  },
  {
   "cell_type": "markdown",
   "id": "1622c562",
   "metadata": {},
   "source": [
    "### 리스트 인덱싱/슬라이싱"
   ]
  },
  {
   "cell_type": "markdown",
   "id": "fcf82ff3-bf87-4f8d-81f9-76c6aea2fe57",
   "metadata": {},
   "source": [
    "리스트도 문자열처럼 인덱싱과 슬라이싱을 지원하며\n",
    "사용방식도 거의 동일하다."
   ]
  },
  {
   "cell_type": "code",
   "execution_count": 57,
   "id": "7698211c",
   "metadata": {},
   "outputs": [],
   "source": [
    "a_list = [3, 15, 9, 12, 7, 14, 10]"
   ]
  },
  {
   "cell_type": "code",
   "execution_count": 58,
   "id": "f8bb7fbf",
   "metadata": {},
   "outputs": [
    {
     "data": {
      "text/plain": [
       "3"
      ]
     },
     "execution_count": 58,
     "metadata": {},
     "output_type": "execute_result"
    }
   ],
   "source": [
    "a_list[0]"
   ]
  },
  {
   "cell_type": "code",
   "execution_count": 59,
   "id": "7893a82b",
   "metadata": {},
   "outputs": [
    {
     "data": {
      "text/plain": [
       "10"
      ]
     },
     "execution_count": 59,
     "metadata": {},
     "output_type": "execute_result"
    }
   ],
   "source": [
    "a_list[-1]"
   ]
  },
  {
   "cell_type": "code",
   "execution_count": 60,
   "id": "7022de72",
   "metadata": {},
   "outputs": [
    {
     "data": {
      "text/plain": [
       "[9, 12, 7]"
      ]
     },
     "execution_count": 60,
     "metadata": {},
     "output_type": "execute_result"
    }
   ],
   "source": [
    "a_list[2 : 5]"
   ]
  },
  {
   "cell_type": "code",
   "execution_count": 61,
   "id": "8b4effdf-8818-424a-82f6-22c0f11ac538",
   "metadata": {},
   "outputs": [
    {
     "data": {
      "text/plain": [
       "[9, 7]"
      ]
     },
     "execution_count": 61,
     "metadata": {},
     "output_type": "execute_result"
    }
   ],
   "source": [
    "a_list[2 : 6 : 2]"
   ]
  },
  {
   "cell_type": "code",
   "execution_count": 62,
   "id": "8cdb5591",
   "metadata": {},
   "outputs": [
    {
     "data": {
      "text/plain": [
       "[10, 14, 7, 12, 9, 15, 3]"
      ]
     },
     "execution_count": 62,
     "metadata": {},
     "output_type": "execute_result"
    }
   ],
   "source": [
    "a_list[:: -1]"
   ]
  },
  {
   "cell_type": "markdown",
   "id": "417dd776-6ad4-434a-9c7e-a8da7deaa533",
   "metadata": {},
   "source": [
    "리스트는 가변 자료형이라 값을 변경할 수 있다.\n",
    "예를 들어, 인덱싱을 사용하여 `a_list[3]`을 `12`에서 `100`으로 변경할 수 있다. "
   ]
  },
  {
   "cell_type": "code",
   "execution_count": 63,
   "id": "12e0d701-06c7-4d78-9804-f0a4ff82a3db",
   "metadata": {},
   "outputs": [
    {
     "name": "stdout",
     "output_type": "stream",
     "text": [
      "[3, 15, 9, 100, 7, 14, 10]\n"
     ]
    }
   ],
   "source": [
    "a_list[3] = 100\n",
    "\n",
    "print(a_list)"
   ]
  },
  {
   "cell_type": "markdown",
   "id": "5ea4d883-34c2-4263-a8fe-fa4ae0dff50d",
   "metadata": {},
   "source": [
    "이번에는 슬라이싱을 사용하여 2번 인덱스 값부터 5번 인덱스 값 전까지를 1과 11로 변경해보자. "
   ]
  },
  {
   "cell_type": "code",
   "execution_count": 64,
   "id": "3838eead-09d1-48bf-af64-b50951b7f8d9",
   "metadata": {},
   "outputs": [
    {
     "name": "stdout",
     "output_type": "stream",
     "text": [
      "[3, 15, 1, 11, 14, 10]\n"
     ]
    }
   ],
   "source": [
    "a_list[2 : 5] = [1, 11]\n",
    "\n",
    "print(a_list)"
   ]
  },
  {
   "cell_type": "markdown",
   "id": "a899d891",
   "metadata": {},
   "source": [
    "**`del` 명령어**"
   ]
  },
  {
   "cell_type": "markdown",
   "id": "d02128b3-881b-4468-8654-619429c26006",
   "metadata": {},
   "source": [
    "`del` 명령어를 사용하여 리스트의 일부 또는 전체를 삭제할 수 있다. "
   ]
  },
  {
   "cell_type": "code",
   "execution_count": 65,
   "id": "bb9efbb0",
   "metadata": {},
   "outputs": [
    {
     "name": "stdout",
     "output_type": "stream",
     "text": [
      "[3, 15, 1, 11, 14, 10]\n"
     ]
    }
   ],
   "source": [
    "print(a_list)"
   ]
  },
  {
   "cell_type": "code",
   "execution_count": 66,
   "id": "c9100bcb-50e9-462c-8b4e-e5389a8a79fa",
   "metadata": {},
   "outputs": [
    {
     "name": "stdout",
     "output_type": "stream",
     "text": [
      "[15, 1, 11, 14, 10]\n"
     ]
    }
   ],
   "source": [
    "del a_list[0]\n",
    "print(a_list)"
   ]
  },
  {
   "cell_type": "markdown",
   "id": "a5ef0413",
   "metadata": {},
   "source": [
    ":::{admonition} 주의\n",
    ":class: caution  \n",
    "\n",
    "`del` 명령어로 리스트를 메모리에서 삭제할 수 있다. \n",
    "이런 경우 리스트를 사용하려 하면 오류가 발생한다.\n",
    "\n",
    "```python\n",
    ">>> del a_list\n",
    ">>> print(a_list)\n",
    "---------------------------------------------------------------------------\n",
    "NameError                                 Traceback (most recent call last)\n",
    "/tmp/ipykernel_647/65709556.py in <module>\n",
    "----> 1 print(a_list)\n",
    "\n",
    "NameError: name 'a_list' is not defined\n",
    "```\n",
    ":::"
   ]
  },
  {
   "cell_type": "markdown",
   "id": "9b111694",
   "metadata": {},
   "source": [
    "### 리스트 메서드 "
   ]
  },
  {
   "cell_type": "markdown",
   "id": "fc727cbd-911f-48ab-90d0-71f56bd4d122",
   "metadata": {},
   "source": [
    "리스트 자료형이 제공하는 주요 메서드는 아래와 같다."
   ]
  },
  {
   "cell_type": "markdown",
   "id": "85600008-c8b2-44d3-9ed9-166cbb45062a",
   "metadata": {},
   "source": [
    "|메서드|설명|\n",
    "|:----------|:----------|\n",
    "|`list.append()`|리스트 끝에 항목 추가. 반환값은 `None`|\n",
    "|`list.extend()`|리스트를 연결하여 확장. 반환값은 `None`|\n",
    "|`list.insert()`|지정된 인덱스에 항목 추가. 반환값은 `None`|\n",
    "|`list.pop()`|지정된 인덱스의 항목 삭제 후 삭제된 값 반환. 인덱스를 지정하지 않으면 마지막 항목 삭제 후 삭제된 값 반환|\n",
    "|`list.remove()`|지정된 항목이 처음으로 사용된 위치에서 삭제. 반환값은 `None`|\n",
    "|`list.sort()`|리스트의 항목을 크기 순으로 정렬. 반환값은 `None`|\n",
    "|`list.reverse()`|리스트의 항목들 순서 뒤집기. 반환값은 `None`|\n",
    "|`list.index()`|지정된 항목이 처음 위치한 인덱스 반환|\n",
    "|`list.count()`|지정된 항목이 등장한 횟수 반환|\n",
    "\n"
   ]
  },
  {
   "cell_type": "code",
   "execution_count": 67,
   "id": "e2602f21-ecc5-4bc1-835f-b017b54be96c",
   "metadata": {},
   "outputs": [],
   "source": [
    "food = ['banana', 'apple', 'coconut', 'apple']"
   ]
  },
  {
   "cell_type": "markdown",
   "id": "02675f0d-305a-4264-9daa-00d7df37dd23",
   "metadata": {},
   "source": [
    "**`append()` 메서드**"
   ]
  },
  {
   "cell_type": "code",
   "execution_count": 68,
   "id": "c96a80aa-b5ed-43ff-9c3a-d9134c1470d9",
   "metadata": {},
   "outputs": [
    {
     "name": "stdout",
     "output_type": "stream",
     "text": [
      "None\n"
     ]
    }
   ],
   "source": [
    "print(food.append('durian'))"
   ]
  },
  {
   "cell_type": "code",
   "execution_count": 69,
   "id": "c5b6c325-23ed-4bcd-9b8b-b33b0560e71b",
   "metadata": {},
   "outputs": [
    {
     "data": {
      "text/plain": [
       "['banana', 'apple', 'coconut', 'apple', 'durian']"
      ]
     },
     "execution_count": 69,
     "metadata": {},
     "output_type": "execute_result"
    }
   ],
   "source": [
    "food"
   ]
  },
  {
   "cell_type": "markdown",
   "id": "1d579de0-7078-467c-8be3-d1ab0d4a6c1b",
   "metadata": {},
   "source": [
    "리스트 끝에 `eggplant`와 `fig`를 아래와 같이 추가해보자. "
   ]
  },
  {
   "cell_type": "code",
   "execution_count": 70,
   "id": "892c31ae-54e7-4bbf-899e-e71ad55877a0",
   "metadata": {},
   "outputs": [
    {
     "data": {
      "text/plain": [
       "['banana', 'apple', 'coconut', 'apple', 'durian', ['eggplant', 'fig']]"
      ]
     },
     "execution_count": 70,
     "metadata": {},
     "output_type": "execute_result"
    }
   ],
   "source": [
    "food.append(['eggplant', 'fig'])\n",
    "\n",
    "food"
   ]
  },
  {
   "cell_type": "markdown",
   "id": "f52aa9d8-d244-4066-9709-0c23d32432e6",
   "metadata": {},
   "source": [
    "그러면 `food` 리스트 끝에 두 개의 항목이 추가되는 것이 아니라 `['eggplant', 'fig']`리스트가 추가된 것을 볼 수 있다.  \n",
    "지금은 `del`을 사용하여 추가된 마지막 항목을 삭제한다. "
   ]
  },
  {
   "cell_type": "code",
   "execution_count": 71,
   "id": "e9539079-8431-42d3-a9ad-80a634c65a96",
   "metadata": {},
   "outputs": [],
   "source": [
    "del food[-1]"
   ]
  },
  {
   "cell_type": "markdown",
   "id": "cbf050ee-2182-438c-a9c0-af3137d84842",
   "metadata": {},
   "source": [
    "두 개의 항목을 리스트에 추가하고자 한다면 `append()` 메서드를 두 번 적용하거나 `extend()` 메서드를 사용하면 된다.  "
   ]
  },
  {
   "cell_type": "markdown",
   "id": "f3d5d996-a473-4d86-b668-777d603e0284",
   "metadata": {},
   "source": [
    "**`extend()` 메서드**"
   ]
  },
  {
   "cell_type": "code",
   "execution_count": 72,
   "id": "345cb73b-bb27-4f32-a238-3cc82dd3b771",
   "metadata": {},
   "outputs": [
    {
     "data": {
      "text/plain": [
       "['banana', 'apple', 'coconut', 'apple', 'durian', 'eggplant', 'fig']"
      ]
     },
     "execution_count": 72,
     "metadata": {},
     "output_type": "execute_result"
    }
   ],
   "source": [
    "food.extend(['eggplant', 'fig'])\n",
    "food"
   ]
  },
  {
   "cell_type": "markdown",
   "id": "92d3cbee-0c01-4176-b4b8-016cfe21139b",
   "metadata": {},
   "source": [
    ":::{admonition} 참고   \n",
    ":class: info   \n",
    "두 개의 리스트를 덧셈 기호를 이용하여 확장할 수도 있지만, 원래의 리스트를 변경하는 것이 아니라 새로운 리스트를 생성한다.\n",
    "\n",
    "```python\n",
    ">>> food = ['banana', 'apple', 'coconut', 'apple']\n",
    ">>> food + ['eggplant', 'fig']\n",
    "['banana', 'apple', 'coconut', 'apple', 'eggplant', 'fig']\n",
    ">>> food\n",
    "['banana', 'apple', 'coconut', 'apple']\n",
    "```\n",
    ":::"
   ]
  },
  {
   "cell_type": "markdown",
   "id": "bd781433",
   "metadata": {},
   "source": [
    "**`insert()` 메서드**"
   ]
  },
  {
   "cell_type": "code",
   "execution_count": 73,
   "id": "3f84c768-2bea-46e2-9bb9-ead6e9faf362",
   "metadata": {},
   "outputs": [
    {
     "data": {
      "text/plain": [
       "['banana',\n",
       " 'blueberry',\n",
       " 'apple',\n",
       " 'coconut',\n",
       " 'apple',\n",
       " 'durian',\n",
       " 'eggplant',\n",
       " 'fig']"
      ]
     },
     "execution_count": 73,
     "metadata": {},
     "output_type": "execute_result"
    }
   ],
   "source": [
    "food.insert(1, 'blueberry')\n",
    "food"
   ]
  },
  {
   "cell_type": "markdown",
   "id": "fe649079-71ea-4b80-8c72-0cd3561d0b16",
   "metadata": {},
   "source": [
    "**`pop()` 메서드**"
   ]
  },
  {
   "cell_type": "code",
   "execution_count": 74,
   "id": "a0e6c54a",
   "metadata": {},
   "outputs": [
    {
     "data": {
      "text/plain": [
       "'banana'"
      ]
     },
     "execution_count": 74,
     "metadata": {},
     "output_type": "execute_result"
    }
   ],
   "source": [
    "food.pop(0)"
   ]
  },
  {
   "cell_type": "code",
   "execution_count": 75,
   "id": "f2a9a0a7-bcab-42d9-a371-0aeba82911f3",
   "metadata": {},
   "outputs": [
    {
     "data": {
      "text/plain": [
       "['blueberry', 'apple', 'coconut', 'apple', 'durian', 'eggplant', 'fig']"
      ]
     },
     "execution_count": 75,
     "metadata": {},
     "output_type": "execute_result"
    }
   ],
   "source": [
    "food"
   ]
  },
  {
   "cell_type": "code",
   "execution_count": 76,
   "id": "e4f9588b",
   "metadata": {},
   "outputs": [
    {
     "data": {
      "text/plain": [
       "'fig'"
      ]
     },
     "execution_count": 76,
     "metadata": {},
     "output_type": "execute_result"
    }
   ],
   "source": [
    "food.pop()"
   ]
  },
  {
   "cell_type": "code",
   "execution_count": 77,
   "id": "24f96301-da8e-489d-8522-b8ddb4ed1ede",
   "metadata": {},
   "outputs": [
    {
     "data": {
      "text/plain": [
       "['blueberry', 'apple', 'coconut', 'apple', 'durian', 'eggplant']"
      ]
     },
     "execution_count": 77,
     "metadata": {},
     "output_type": "execute_result"
    }
   ],
   "source": [
    "food"
   ]
  },
  {
   "cell_type": "markdown",
   "id": "e3722388-e3c2-4702-af2c-772ec90228b7",
   "metadata": {},
   "source": [
    "**`remove()` 메서드**"
   ]
  },
  {
   "cell_type": "code",
   "execution_count": 78,
   "id": "e0b40320-65d7-4fb3-adea-9a62bd7450f0",
   "metadata": {},
   "outputs": [
    {
     "data": {
      "text/plain": [
       "['blueberry', 'coconut', 'apple', 'durian', 'eggplant']"
      ]
     },
     "execution_count": 78,
     "metadata": {},
     "output_type": "execute_result"
    }
   ],
   "source": [
    "food.remove('apple')\n",
    "food"
   ]
  },
  {
   "cell_type": "markdown",
   "id": "672b9a26-8867-47e7-ad50-a300d3497c87",
   "metadata": {},
   "source": [
    "**`sort()` 메서드**"
   ]
  },
  {
   "cell_type": "code",
   "execution_count": 79,
   "id": "646f6256-1645-4d38-9420-5e383be63feb",
   "metadata": {},
   "outputs": [
    {
     "data": {
      "text/plain": [
       "['apple', 'blueberry', 'coconut', 'durian', 'eggplant']"
      ]
     },
     "execution_count": 79,
     "metadata": {},
     "output_type": "execute_result"
    }
   ],
   "source": [
    "food.sort()\n",
    "food"
   ]
  },
  {
   "cell_type": "markdown",
   "id": "cdfb749a",
   "metadata": {},
   "source": [
    "`reverse=True` 옵션 인자를 사용하면 역순으로 정렬한다."
   ]
  },
  {
   "cell_type": "code",
   "execution_count": 80,
   "id": "3790bdf9",
   "metadata": {},
   "outputs": [
    {
     "data": {
      "text/plain": [
       "['eggplant', 'durian', 'coconut', 'blueberry', 'apple']"
      ]
     },
     "execution_count": 80,
     "metadata": {},
     "output_type": "execute_result"
    }
   ],
   "source": [
    "food.sort(reverse=True)\n",
    "food"
   ]
  },
  {
   "cell_type": "markdown",
   "id": "05a6ffe0-e1b5-4867-84c4-36f2babfce0e",
   "metadata": {},
   "source": [
    "**`reverse()` 메서드**"
   ]
  },
  {
   "cell_type": "code",
   "execution_count": 81,
   "id": "b1c0074d",
   "metadata": {},
   "outputs": [],
   "source": [
    "food = ['banana', 'apple1', 'coconut', 'apple2']"
   ]
  },
  {
   "cell_type": "code",
   "execution_count": 82,
   "id": "89e8ff24-c305-483c-9572-7bbf80f5af5b",
   "metadata": {},
   "outputs": [
    {
     "data": {
      "text/plain": [
       "['apple2', 'coconut', 'apple1', 'banana']"
      ]
     },
     "execution_count": 82,
     "metadata": {},
     "output_type": "execute_result"
    }
   ],
   "source": [
    "food.reverse()\n",
    "food"
   ]
  },
  {
   "cell_type": "markdown",
   "id": "ba8f5b08",
   "metadata": {},
   "source": [
    "`sort()`와 `reverse()` 메서드를 연속으로 적용하면 역순으로 정렬하게 된다."
   ]
  },
  {
   "cell_type": "code",
   "execution_count": 83,
   "id": "e86ec566",
   "metadata": {},
   "outputs": [
    {
     "data": {
      "text/plain": [
       "['coconut', 'banana', 'apple2', 'apple1']"
      ]
     },
     "execution_count": 83,
     "metadata": {},
     "output_type": "execute_result"
    }
   ],
   "source": [
    "food = ['banana', 'apple1', 'coconut', 'apple2']\n",
    "food.sort()\n",
    "food.reverse()\n",
    "food"
   ]
  },
  {
   "cell_type": "markdown",
   "id": "ef497822",
   "metadata": {},
   "source": [
    "`sort()` 메서드를 `reverse=True` 옵션 인자와 함께 사용하는 것과 동일한 결과를 생성한다."
   ]
  },
  {
   "cell_type": "code",
   "execution_count": 151,
   "id": "df7a1a42",
   "metadata": {},
   "outputs": [
    {
     "data": {
      "text/plain": [
       "['coconut', 'banana', 'apple2', 'apple1']"
      ]
     },
     "execution_count": 151,
     "metadata": {},
     "output_type": "execute_result"
    }
   ],
   "source": [
    "food = ['banana', 'apple1', 'coconut', 'apple2']\n",
    "food.sort(reverse=True)\n",
    "food"
   ]
  },
  {
   "cell_type": "markdown",
   "id": "8d9a241a-fd6a-4d03-a3a8-1b0c2555de8a",
   "metadata": {},
   "source": [
    "**`index()` 메서드**"
   ]
  },
  {
   "cell_type": "code",
   "execution_count": 152,
   "id": "e1d3174a-de75-4af1-b3d3-057a43a4bf46",
   "metadata": {},
   "outputs": [
    {
     "data": {
      "text/plain": [
       "0"
      ]
     },
     "execution_count": 152,
     "metadata": {},
     "output_type": "execute_result"
    }
   ],
   "source": [
    "food.index('coconut')"
   ]
  },
  {
   "cell_type": "markdown",
   "id": "5a3597de-4ae3-4279-a122-df755161cb82",
   "metadata": {},
   "source": [
    "**`count()` 메서드**"
   ]
  },
  {
   "cell_type": "code",
   "execution_count": 153,
   "id": "7510fe9b-99d1-451e-bd2b-ea7d01d2c94a",
   "metadata": {},
   "outputs": [
    {
     "data": {
      "text/plain": [
       "1"
      ]
     },
     "execution_count": 153,
     "metadata": {},
     "output_type": "execute_result"
    }
   ],
   "source": [
    "food.count('apple2')"
   ]
  },
  {
   "cell_type": "markdown",
   "id": "6aff5820-dd1b-41ab-8ca1-24f8559efcf8",
   "metadata": {},
   "source": [
    "(sec:tuple)=\n",
    "## 튜플"
   ]
  },
  {
   "cell_type": "markdown",
   "id": "b08c7bcc-d0e5-4cd6-86fa-9ad9788affd7",
   "metadata": {},
   "source": [
    "튜플은 리스트와 거의 비슷하지만, 변경 불가능<font size = \"2\">immutable</font>하다는 점이 다르다.\n",
    "따라서 튜플을 활용하는 메서드가 많이 제공되지 않는다.\n",
    "소괄호 `()`를 사용하고, 각 항목은 콤마(`,`)로 구분한다. "
   ]
  },
  {
   "cell_type": "code",
   "execution_count": 109,
   "id": "e8a85626-a3ce-411d-a92f-51edc46947fc",
   "metadata": {},
   "outputs": [
    {
     "data": {
      "text/plain": [
       "(1, 2, 3, 4, 5)"
      ]
     },
     "execution_count": 109,
     "metadata": {},
     "output_type": "execute_result"
    }
   ],
   "source": [
    "(1, 2, 3, 4, 5)"
   ]
  },
  {
   "cell_type": "code",
   "execution_count": 110,
   "id": "d948b423-6eac-4054-8bc8-c9f59c25e48c",
   "metadata": {},
   "outputs": [
    {
     "data": {
      "text/plain": [
       "('a', 'b', 'c', 'd')"
      ]
     },
     "execution_count": 110,
     "metadata": {},
     "output_type": "execute_result"
    }
   ],
   "source": [
    "('a','b', 'c', 'd')"
   ]
  },
  {
   "cell_type": "markdown",
   "id": "ae75aa1d",
   "metadata": {},
   "source": [
    "소괄호를 사용하지 않아도 튜플로 처리된다."
   ]
  },
  {
   "cell_type": "code",
   "execution_count": 113,
   "id": "7e34ea4b",
   "metadata": {},
   "outputs": [
    {
     "data": {
      "text/plain": [
       "('a', 'b', 'c', 'd')"
      ]
     },
     "execution_count": 113,
     "metadata": {},
     "output_type": "execute_result"
    }
   ],
   "source": [
    "a_tuple = 'a','b', 'c', 'd'\n",
    "a_tuple"
   ]
  },
  {
   "cell_type": "markdown",
   "id": "bd975236",
   "metadata": {},
   "source": [
    "길이가 1인 튜플인 경우 항목 뒤에 반드시 쉽표를 붙혀야 한다."
   ]
  },
  {
   "cell_type": "code",
   "execution_count": 115,
   "id": "026a2b4a",
   "metadata": {},
   "outputs": [
    {
     "data": {
      "text/plain": [
       "tuple"
      ]
     },
     "execution_count": 115,
     "metadata": {},
     "output_type": "execute_result"
    }
   ],
   "source": [
    "tup1 = (3, )\n",
    "type(tup1)"
   ]
  },
  {
   "cell_type": "markdown",
   "id": "ada1b589",
   "metadata": {},
   "source": [
    "그렇지 않으면 튜플로 간주되지 않는다."
   ]
  },
  {
   "cell_type": "code",
   "execution_count": 116,
   "id": "63802e24",
   "metadata": {},
   "outputs": [
    {
     "data": {
      "text/plain": [
       "int"
      ]
     },
     "execution_count": 116,
     "metadata": {},
     "output_type": "execute_result"
    }
   ],
   "source": [
    "tup1 = (3)\n",
    "type(tup1)"
   ]
  },
  {
   "cell_type": "markdown",
   "id": "82faff66-f146-48ed-940e-5a6450498ce5",
   "metadata": {},
   "source": [
    "튜플 또한 여러 종류의 값을 포함할 수 있다."
   ]
  },
  {
   "cell_type": "code",
   "execution_count": 117,
   "id": "0279923b-5861-40c8-a1d6-3de16feb2b0e",
   "metadata": {},
   "outputs": [
    {
     "data": {
      "text/plain": [
       "(1, 2.3, 'abc', False, ['ab', 'c'], (2, 4))"
      ]
     },
     "execution_count": 117,
     "metadata": {},
     "output_type": "execute_result"
    }
   ],
   "source": [
    "mixed_tuple = (1, 2.3, 'abc', False, ['ab', 'c'], (2, 4))\n",
    "mixed_tuple"
   ]
  },
  {
   "cell_type": "markdown",
   "id": "356e5b41-d849-4734-bf6a-082c231b2849",
   "metadata": {},
   "source": [
    "**빈 튜플**\n",
    "\n",
    "빈 튜플은 아무것도 포함하지 않는 튜플을 의미한다. 빈 튜플를 만드는 방법은 아래와 같다. \n",
    "\n",
    "```python\n",
    "empty_tuple = ()\n",
    "empty_tuple = tuple()\n",
    "```"
   ]
  },
  {
   "cell_type": "markdown",
   "id": "32ede6a0",
   "metadata": {},
   "source": [
    "### 튜플 연산"
   ]
  },
  {
   "cell_type": "markdown",
   "id": "4b3812b3-9b56-4635-b695-d4a65c41b74a",
   "metadata": {},
   "source": [
    "**`in` 연산자**\n",
    "\n",
    "튜플의 항목으로 등장하는지 여부를 알려주는 논리 연산자이다."
   ]
  },
  {
   "cell_type": "code",
   "execution_count": 119,
   "id": "b34d0a47-eab7-4414-a6b8-491fa8248ad3",
   "metadata": {},
   "outputs": [
    {
     "data": {
      "text/plain": [
       "False"
      ]
     },
     "execution_count": 119,
     "metadata": {},
     "output_type": "execute_result"
    }
   ],
   "source": [
    "'1' in ('a', 'bc', 'd', 'e')"
   ]
  },
  {
   "cell_type": "code",
   "execution_count": 120,
   "id": "3b57264e-5662-421c-a762-2e0c451f3ca6",
   "metadata": {},
   "outputs": [
    {
     "data": {
      "text/plain": [
       "True"
      ]
     },
     "execution_count": 120,
     "metadata": {},
     "output_type": "execute_result"
    }
   ],
   "source": [
    "'d' in ('a', 'bc', 'd', 'e')"
   ]
  },
  {
   "cell_type": "code",
   "execution_count": 121,
   "id": "b976cc80-1313-4ad5-861a-1278f54bc546",
   "metadata": {},
   "outputs": [
    {
     "data": {
      "text/plain": [
       "True"
      ]
     },
     "execution_count": 121,
     "metadata": {},
     "output_type": "execute_result"
    }
   ],
   "source": [
    "'f' not in ('a', 'bc', 'd', 'e')"
   ]
  },
  {
   "cell_type": "markdown",
   "id": "e84ce6ce",
   "metadata": {
    "tags": []
   },
   "source": [
    "**이어붙이기/복제**\n",
    "\n",
    "리스트의 경우처럼 튜플도 이어붙이기와 복제 연산을 사용한다."
   ]
  },
  {
   "cell_type": "code",
   "execution_count": 122,
   "id": "24f059fa-f66f-456f-b1cd-4b9560b51075",
   "metadata": {},
   "outputs": [
    {
     "data": {
      "text/plain": [
       "('a', 'b', 'b', 'c', 'd')"
      ]
     },
     "execution_count": 122,
     "metadata": {},
     "output_type": "execute_result"
    }
   ],
   "source": [
    "('a', 'b') + ('b', 'c', 'd')"
   ]
  },
  {
   "cell_type": "code",
   "execution_count": 123,
   "id": "6d2b2308-2a81-466c-99b9-80761b88c645",
   "metadata": {},
   "outputs": [
    {
     "data": {
      "text/plain": [
       "('a', 'b', 'a', 'b')"
      ]
     },
     "execution_count": 123,
     "metadata": {},
     "output_type": "execute_result"
    }
   ],
   "source": [
    "('a', 'b') * 2"
   ]
  },
  {
   "cell_type": "markdown",
   "id": "6b21d96c-0469-4c3d-b394-12b1912c3d55",
   "metadata": {},
   "source": [
    "**`len()`함수**\n",
    "\n",
    "튜플의 길이, 즉 튜플에 포함된 항목의 개수를 반환한다."
   ]
  },
  {
   "cell_type": "code",
   "execution_count": 124,
   "id": "70ef4d93-5e90-4908-bfba-5192d669c11c",
   "metadata": {},
   "outputs": [
    {
     "data": {
      "text/plain": [
       "4"
      ]
     },
     "execution_count": 124,
     "metadata": {},
     "output_type": "execute_result"
    }
   ],
   "source": [
    "len(('a', 'b', 'c', 'd'))"
   ]
  },
  {
   "cell_type": "markdown",
   "id": "c17977ea-debe-410a-872d-52ee7d27cb4c",
   "metadata": {},
   "source": [
    "**`min()`/`max()` 함수**\n",
    "\n",
    "항목 중에서 최솟값 또는 최댓값을 확인한다."
   ]
  },
  {
   "cell_type": "code",
   "execution_count": 125,
   "id": "202b46d8-acf5-44c3-8c64-32d1a4b22078",
   "metadata": {},
   "outputs": [
    {
     "data": {
      "text/plain": [
       "20"
      ]
     },
     "execution_count": 125,
     "metadata": {},
     "output_type": "execute_result"
    }
   ],
   "source": [
    "max((2, 9, 11, 20, 3))"
   ]
  },
  {
   "cell_type": "code",
   "execution_count": 126,
   "id": "d7eabe08-0266-4134-98c7-88aab3b9e207",
   "metadata": {},
   "outputs": [
    {
     "data": {
      "text/plain": [
       "2"
      ]
     },
     "execution_count": 126,
     "metadata": {},
     "output_type": "execute_result"
    }
   ],
   "source": [
    "min((2, 9, 11, 20, 3))"
   ]
  },
  {
   "cell_type": "markdown",
   "id": "8b02686a-3f8e-4b2d-9302-fe83a915cdaf",
   "metadata": {},
   "source": [
    "### 튜플 인덱싱/슬라이싱"
   ]
  },
  {
   "cell_type": "markdown",
   "id": "e9e6eb74-3b33-4f6e-a2e3-ba6a99f0f74d",
   "metadata": {},
   "source": [
    "튜플도 문자열과 리스트처럼 인덱싱과 슬라이싱이 가능하다. "
   ]
  },
  {
   "cell_type": "code",
   "execution_count": 129,
   "id": "1b9fb193",
   "metadata": {},
   "outputs": [],
   "source": [
    "a_tuple = (3, 15, 9, 12, 7, 14, 10)"
   ]
  },
  {
   "cell_type": "code",
   "execution_count": 130,
   "id": "d02165d1",
   "metadata": {},
   "outputs": [
    {
     "data": {
      "text/plain": [
       "3"
      ]
     },
     "execution_count": 130,
     "metadata": {},
     "output_type": "execute_result"
    }
   ],
   "source": [
    "a_tuple[0]"
   ]
  },
  {
   "cell_type": "code",
   "execution_count": 131,
   "id": "3eee1e74",
   "metadata": {},
   "outputs": [
    {
     "data": {
      "text/plain": [
       "10"
      ]
     },
     "execution_count": 131,
     "metadata": {},
     "output_type": "execute_result"
    }
   ],
   "source": [
    "a_tuple[-1]"
   ]
  },
  {
   "cell_type": "code",
   "execution_count": 132,
   "id": "c074b2de-e3b7-4438-95e4-d6b164d558f2",
   "metadata": {},
   "outputs": [
    {
     "data": {
      "text/plain": [
       "(9, 7)"
      ]
     },
     "execution_count": 132,
     "metadata": {},
     "output_type": "execute_result"
    }
   ],
   "source": [
    "a_tuple[2:6:2]"
   ]
  },
  {
   "cell_type": "markdown",
   "id": "b7ef959d-41a1-418f-b6fa-9704ec36723a",
   "metadata": {},
   "source": [
    "튜플은 불변 자료형이라 값을 수정할 수 없다. \n",
    "예를 들어, 아래와 같이 인덱싱을 사용하여 튜플의 항목을 변경하려고 하면 오류가 발생한다.   \n",
    "\n",
    "```python\n",
    ">>> a_tuple = (3, 15, 9, 12, 7, 14, 10)\n",
    ">>> a_tuple[0] = 100\n",
    "TypeError                                 Traceback (most recent call last)\n",
    "/tmp/ipykernel_1817/347940049.py in <module>\n",
    "      1 a_tuple = (3, 15, 9, 12, 7, 14, 10)\n",
    "----> 2 a_tuple[0] = 100\n",
    "\n",
    "TypeError: 'tuple' object does not support item assignment\n",
    "```"
   ]
  },
  {
   "cell_type": "markdown",
   "id": "90f6a381",
   "metadata": {},
   "source": [
    "튜플이 변경 불가능한 자료형이라고 해서 튜플의 모든 항목이 모두 변경 불가능해야 하는 것은 아니다. \n",
    "예를 들어, 아래 `tup` 이 가리키는 튜플의 첫번째 항목은 `[1, 2]`이고, 리스트는 변경가능한 자료형이다."
   ]
  },
  {
   "cell_type": "code",
   "execution_count": 134,
   "id": "bb7f7cb2",
   "metadata": {},
   "outputs": [],
   "source": [
    "tup = ([1, 2], 10, 100)"
   ]
  },
  {
   "cell_type": "markdown",
   "id": "f0e3c3ca",
   "metadata": {},
   "source": [
    "변수 `tup` 과 튜플 사이의 관계는 아래 그림에서 보여준다."
   ]
  },
  {
   "cell_type": "markdown",
   "id": "e85ce2a6",
   "metadata": {},
   "source": [
    "<div align=\"center\">\n",
    "    <img src=\"https://raw.githubusercontent.com/hj617kim/core_pybook/master/images/ch04/tuple01.png\" style=\"width:275px;\">\n",
    "</div>"
   ]
  },
  {
   "cell_type": "markdown",
   "id": "160d854f",
   "metadata": {},
   "source": [
    "따라서 아래와 같이 첫번째 항목 자체는 변경이 가능하다. "
   ]
  },
  {
   "cell_type": "code",
   "execution_count": 135,
   "id": "5aa6ae43",
   "metadata": {},
   "outputs": [],
   "source": [
    "tup[0].append(3)"
   ]
  },
  {
   "cell_type": "markdown",
   "id": "3c17a539",
   "metadata": {},
   "source": [
    "실제로 `tup` 의 첫째 항목이 변경되었음을 확인할 수 있다."
   ]
  },
  {
   "cell_type": "code",
   "execution_count": 137,
   "id": "98c6dca0",
   "metadata": {},
   "outputs": [
    {
     "data": {
      "text/plain": [
       "([1, 2, 3], 10, 100)"
      ]
     },
     "execution_count": 137,
     "metadata": {},
     "output_type": "execute_result"
    }
   ],
   "source": [
    "tup"
   ]
  },
  {
   "cell_type": "markdown",
   "id": "a2afcb06-2d96-4368-b6e9-0c1522a8978d",
   "metadata": {},
   "source": [
    "<div align=\"center\">\n",
    "    <img src=\"https://raw.githubusercontent.com/hj617kim/core_pybook/master/images/ch04/tuple02.png\" style=\"width:300px;\">\n",
    "</div>"
   ]
  },
  {
   "cell_type": "markdown",
   "id": "1e638ebd-6708-4f2a-b704-dfc04fae59f7",
   "metadata": {},
   "source": [
    "### 튜플 메서드"
   ]
  },
  {
   "cell_type": "markdown",
   "id": "3cfcfbf4-b37f-4fd9-ab7e-e959fb4181f2",
   "metadata": {},
   "source": [
    "튜플은 불변 자료형이라 메서드가 별로 없다. 많이 사용되는 두 개의 메소드를 살펴보자.   \n",
    "\n",
    "|메서드|설명|\n",
    "|:----------:|:----------:|\n",
    "|`tuple.count()`|지정된 항목이 등장한 횟수 반환|\n",
    "|`tuple.index()`|지정된 항목이 처음 위치한 인덱스 반환|"
   ]
  },
  {
   "cell_type": "code",
   "execution_count": 101,
   "id": "d72d55de-9061-49a5-8f78-27521b764fd2",
   "metadata": {},
   "outputs": [
    {
     "name": "stdout",
     "output_type": "stream",
     "text": [
      "2\n",
      "5\n"
     ]
    }
   ],
   "source": [
    "num_tuple = (1, 2, 3, 1, 3, 5, 5, 10, 15)\n",
    "print(num_tuple.count(1))\n",
    "print(num_tuple.index(5))"
   ]
  },
  {
   "cell_type": "markdown",
   "id": "79e1b167-1137-4955-9acc-5cabbe8e03f0",
   "metadata": {},
   "source": [
    "## `zip()` 함수"
   ]
  },
  {
   "cell_type": "markdown",
   "id": "6c84e187-c794-4e11-a0a7-72ddd9d894ab",
   "metadata": {},
   "source": [
    "시퀀스(예, 문자열, 리스트, 튜플) 여러 개의 항목을 순서대로 짝지어 튜플의 리스트 형식의 객체를 생성한다. 자료형이 달라도 된다. 단, `zip()` 함수의 반환값은 구체적으로 명시되지 않는다. "
   ]
  },
  {
   "cell_type": "code",
   "execution_count": 102,
   "id": "5ac7dcf4-ca1d-4c17-976b-f6c938dae73d",
   "metadata": {},
   "outputs": [
    {
     "data": {
      "text/plain": [
       "<zip at 0x7f4676fcb6c0>"
      ]
     },
     "execution_count": 102,
     "metadata": {},
     "output_type": "execute_result"
    }
   ],
   "source": [
    "zip(\"abc\", [1, 2, 3])"
   ]
  },
  {
   "cell_type": "markdown",
   "id": "78adb683-0f5a-4116-87a9-b6014a24654d",
   "metadata": {},
   "source": [
    "`list()`함수를 이용하여 리스트로 변환하면, 쉽게 내용을 확인할 수 있다. "
   ]
  },
  {
   "cell_type": "code",
   "execution_count": 103,
   "id": "a8eabe99-ff16-4d0e-947c-2d23398ef5f3",
   "metadata": {},
   "outputs": [
    {
     "data": {
      "text/plain": [
       "[('a', 1), ('b', 2), ('c', 3)]"
      ]
     },
     "execution_count": 103,
     "metadata": {},
     "output_type": "execute_result"
    }
   ],
   "source": [
    "list(zip(\"abc\", [1, 2, 3]))"
   ]
  },
  {
   "cell_type": "markdown",
   "id": "2ec499ff-f79e-4af5-b3de-387268e2d875",
   "metadata": {},
   "source": [
    "여러 개를 짝짓는 것도 가능하며, 각 자료형의 길이가 다르면 짧은 길이에 맞춰서 짝을 짓는다. "
   ]
  },
  {
   "cell_type": "code",
   "execution_count": 104,
   "id": "6855127c-7c0d-4bc3-bbaf-0f999cbb2b3f",
   "metadata": {},
   "outputs": [
    {
     "data": {
      "text/plain": [
       "[('a', 1, 5), ('b', 2, 10), ('c', 3, 15)]"
      ]
     },
     "execution_count": 104,
     "metadata": {},
     "output_type": "execute_result"
    }
   ],
   "source": [
    "list(zip(\"abcdefgh\",(1, 2, 3, 4, 5), [5, 10, 15]))"
   ]
  },
  {
   "cell_type": "markdown",
   "id": "7cfc75d9-28e6-4144-b016-917493c3e6f3",
   "metadata": {},
   "source": [
    "### 해체 방법"
   ]
  },
  {
   "cell_type": "markdown",
   "id": "e84950c6-7f54-488d-9e93-7022f2e93d0c",
   "metadata": {},
   "source": [
    "시퀀스 항목 각각을 변수에 지정하고자 할 때는 해체하는 방법을 사용한다. 단, 사용되는 변수의 수는 항목의 수와 일치해야 한다.   \n",
    "예를 들어, 세 개의 항목을 갖는 시퀀스를 해체하려면 세 개의 변수가 필요하다. "
   ]
  },
  {
   "cell_type": "code",
   "execution_count": 105,
   "id": "888148ab-d316-4609-bc3f-75f5f6077d37",
   "metadata": {},
   "outputs": [
    {
     "name": "stdout",
     "output_type": "stream",
     "text": [
      "1\n",
      "<class 'str'>\n",
      "2\n",
      "3\n",
      "4\n",
      "5\n",
      "6\n",
      "7\n"
     ]
    }
   ],
   "source": [
    "a, b = \"12\"\n",
    "c, d, e = [3, 4, 5]\n",
    "f, g = (6, 7)\n",
    "print(a) \n",
    "print(type(a)) # 타입은 문자열이다.\n",
    "print(b) #타입 - str\n",
    "print(c) #타입 - int\n",
    "print(d) #타입 - int\n",
    "print(e) #타입 - int\n",
    "print(f) #타입 - int\n",
    "print(g) #타입 - int"
   ]
  },
  {
   "cell_type": "markdown",
   "id": "1e5b9033-2dc2-40ef-96fa-4859255b1b68",
   "metadata": {},
   "source": [
    "굳이 이름을 주지 않아도 되는 항목이 있다면 변수 대신에 밑줄<font size = \"2\">underscore</font>(`_`) 기호를 사용한다.   \n",
    "예를 들어, 변수 `d`가 필요없다면 아래와 같이 해체할 수 있다. "
   ]
  },
  {
   "cell_type": "code",
   "execution_count": 106,
   "id": "ae39b7fa-8d56-4965-bdca-500408d176e7",
   "metadata": {},
   "outputs": [
    {
     "name": "stdout",
     "output_type": "stream",
     "text": [
      "8\n"
     ]
    }
   ],
   "source": [
    "c, _, e = [3, 4, 5]\n",
    "print(c + e)"
   ]
  },
  {
   "cell_type": "markdown",
   "id": "ce7adde4-768b-41bb-8b1c-12bcbeaf9d2c",
   "metadata": {},
   "source": [
    ":::{admonition} 주의   \n",
    ":class: caution  \n",
    "시퀀스 항목 각각을 변수에 지정하고자 할 때는 사용되는 변수의 수와 항목의 수는 일치해야 한다.\n",
    "\n",
    "```python\n",
    ">>> c, e = [3, 4, 5]\n",
    "ValueError                                Traceback (most recent call last)\n",
    "/tmp/ipykernel_1817/4065688922.py in <module>\n",
    "----> 1 c, e = [3, 4, 5]\n",
    "      2 print(c + e)\n",
    "\n",
    "ValueError: too many values to unpack (expected 2)\n",
    "```\n",
    ":::"
   ]
  },
  {
   "cell_type": "markdown",
   "id": "b4091c36-e758-4827-92a9-6f764693183b",
   "metadata": {},
   "source": [
    "반면에 앞에 몇 개만 변수에 할당하고 나머지는 하나의 리스트로 묶을 수도 있다. 이를 위해 별표 기호<font size = \"2\">asterisk</font>(`*`)를 하나의 변수명과 함께 사용한다. "
   ]
  },
  {
   "cell_type": "code",
   "execution_count": 107,
   "id": "74d0ad07-39ad-442f-b7ee-4bc5daa8936d",
   "metadata": {},
   "outputs": [
    {
     "name": "stdout",
     "output_type": "stream",
     "text": [
      "1\n",
      "2\n",
      "[3, 4, 5]\n"
     ]
    }
   ],
   "source": [
    "values = (1, 2, 3, 4, 5)\n",
    "a, b, *rest = values\n",
    "print(a)\n",
    "print(b)\n",
    "print(rest)"
   ]
  },
  {
   "cell_type": "markdown",
   "id": "70afca62-7220-464c-895f-ad22150178f0",
   "metadata": {},
   "source": [
    "나머지 항목들을 무시하고 싶다면, 별표와 밑줄을 함께 사용한다. "
   ]
  },
  {
   "cell_type": "code",
   "execution_count": 108,
   "id": "793f7bb4-5fe9-473b-af1d-18043630ce51",
   "metadata": {},
   "outputs": [
    {
     "name": "stdout",
     "output_type": "stream",
     "text": [
      "1\n",
      "2\n"
     ]
    }
   ],
   "source": [
    "a, b, *_ = values\n",
    "print(a)\n",
    "print(b)"
   ]
  }
 ],
 "metadata": {
  "kernelspec": {
   "display_name": "Python 3 (ipykernel)",
   "language": "python",
   "name": "python3"
  },
  "language_info": {
   "codemirror_mode": {
    "name": "ipython",
    "version": 3
   },
   "file_extension": ".py",
   "mimetype": "text/x-python",
   "name": "python",
   "nbconvert_exporter": "python",
   "pygments_lexer": "ipython3",
   "version": "3.9.7"
  },
  "toc-autonumbering": true
 },
 "nbformat": 4,
 "nbformat_minor": 5
}
