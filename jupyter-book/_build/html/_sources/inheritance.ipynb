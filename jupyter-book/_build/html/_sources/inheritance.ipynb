{
 "cells": [
  {
   "cell_type": "markdown",
   "id": "3efee1fe",
   "metadata": {},
   "source": [
    "(ch:inheritance)=\n",
    "# 상속"
   ]
  },
  {
   "cell_type": "markdown",
   "id": "53600e33",
   "metadata": {},
   "source": [
    "**상속**<font size='2'>inheritance</font>은 객체 지향 프로그래밍의 또 다른 주요 요소이다. \n",
    "클래스를 선언할 때 다른 클래스의 속성과 메서드를 상속 받아 활용할 수 있다.\n",
    "상속을 받는 클래스를 **자식 클래스** 또는 **하위 클래스**, \n",
    "상속을 하는 클래스를 **부모 클래스** 또는 **상위 클래스**라고 부른다. "
   ]
  },
  {
   "cell_type": "markdown",
   "id": "ac5241b8",
   "metadata": {},
   "source": [
    "상속을 정의하는 방식은 다음과 같다.\n",
    "\n",
    "```python\n",
    "class 자식클래스(부모클래스):\n",
    "    클래스 본문\n",
    "```"
   ]
  },
  {
   "cell_type": "markdown",
   "id": "636abf07",
   "metadata": {},
   "source": [
    "## 모음 자료형의 상속 체계"
   ]
  },
  {
   "cell_type": "markdown",
   "id": "1c13719c",
   "metadata": {},
   "source": [
    "아래 그림은 파이썬 모음 자료형의 상속 체계를 보여준다. \n",
    "예를 들어, `list` 클래스는 `Sequence` 클래스를 상속하며,\n",
    "`Sequence`는 `Collection` 클래를 상속한다. \n",
    "이렁 이유로 \"리스트는 순차<font size='2'>Sequence</font> 자료형이다\" 등으로 말한다.\n",
    "이와 달리 항목들의 순서를 고려하지 않는 `dict`와 `set` 은 순차 자료형이 아니다."
   ]
  },
  {
   "cell_type": "markdown",
   "id": "6c98baa5",
   "metadata": {},
   "source": [
    "<div align=\"center\"><img src=\"https://raw.githubusercontent.com/codingalzi/problem_solving_with_algorithms/master/_sources/Introduction/Figures/inheritance1.png\" width=\"70%\"></div>\n",
    "\n",
    "<그림 출처: [Problem Solving with Algorithms and Data Structures using Python의 1.13 절](https://runestone.academy/ns/books/published/pythonds3/Introduction/ObjectOrientedProgramminginPythonDefiningClasses.html)>"
   ]
  },
  {
   "cell_type": "markdown",
   "id": "af390a80",
   "metadata": {},
   "source": [
    "`list`, `tuple`, `str` 클래스 모두 `Sequence` 클래스를 상속하기에\n",
    "인덱싱, 슬라이싱 등 자신들의 항목을 다루는 공통된 방식을 갖는다.\n",
    "반면에 각 자료형마다 서로 다른 메서드를 제공한다.\n",
    "이렇듯 한 클래스의 여러 자식 클래스는 서로 공통된 요소와 함께 \n",
    "각 자식 클래스 고유의 요소를 갖는다."
   ]
  },
  {
   "cell_type": "markdown",
   "id": "3559aeda",
   "metadata": {},
   "source": [
    "클래스를 상속할 때의 가장 큰 장점은 \n",
    "첫째, 기존에 작성된 코드를 필요에 따라 수정하고 재활용 할 수 있다는 것과\n",
    "둘째, 자식 클래스의 인스턴스들 사이의 관계를 보다 잘 이해할 수 있다는 것이다. "
   ]
  },
  {
   "cell_type": "markdown",
   "id": "27a5f1c9",
   "metadata": {},
   "source": [
    "두 가지 예제를 이용하여 상속을 설명한다. "
   ]
  },
  {
   "cell_type": "markdown",
   "id": "05d93808",
   "metadata": {},
   "source": [
    "## 벡터의 내적"
   ]
  },
  {
   "cell_type": "markdown",
   "id": "a7c1570e",
   "metadata": {},
   "source": [
    "벡터는 정수 또는 부동소수점의 리스트를 의미하며\n",
    "길이가 같은 두 벡터의 내적은 각 항목끼리의 곱셈의 합이다. \n",
    "예를 들어 `[2, 3, 4]` 와 `[5, 6, 9]` 두 벡터의 내적은 다음과 같다.\n",
    "\n",
    "```python\n",
    "2 * 5 + 3 * 6 + 4 * 9\n",
    "```"
   ]
  },
  {
   "cell_type": "markdown",
   "id": "6b903162",
   "metadata": {},
   "source": [
    "리스트 클래스 `list` 는 벡터의 내적 연산자를 지원하지 않는다.\n",
    "따라서 내적 연산을 지원하도록 `list` 클래스의 기능을 확장해야 한다. "
   ]
  },
  {
   "cell_type": "markdown",
   "id": "5fa6ad09",
   "metadata": {},
   "source": [
    "### Vector 클래스"
   ]
  },
  {
   "cell_type": "markdown",
   "id": "f19b682a",
   "metadata": {},
   "source": [
    "아래 코드는 `list` 클래스를 상속하면서 내적 연산자를 지원하는 `Vector` 클래스를\n",
    "정의한다.\n",
    "\n",
    "- `super().__init__()`: 부모 클래스의 생성자 호출.\n",
    "    자식 클래스의 생성자를 호출할 때 호출되면\n",
    "    부모 클래스의 속성과 메서드를 모두 상속받음.\n",
    "- `dot()` 메서드: 추가되는 메서드. 내적 반환.\n",
    "- `len` 속성: 추가되는 인스턴스 속성. 벡터의 길이."
   ]
  },
  {
   "cell_type": "code",
   "execution_count": 1,
   "id": "1e931d57",
   "metadata": {},
   "outputs": [],
   "source": [
    "# list 클래스 상속\n",
    "\n",
    "class Vector(list):\n",
    "    # Vector 클래스 생성자 재정의\n",
    "    def __init__(self, items):\n",
    "        \"\"\"\n",
    "        - list 클래스 상속\n",
    "        - items: 벡터로 사용될 리스트\n",
    "        \"\"\"\n",
    "        \n",
    "        # 부모 클래스 생성자 호출\n",
    "        super().__init__(items)\n",
    "        \n",
    "        # 속성 추가\n",
    "        self.len = self.__len__()\n",
    "            \n",
    "    # 내적 메서드\n",
    "    def dot(self, other):\n",
    "        \"\"\"\n",
    "        벡터 내적\n",
    "        \"\"\"\n",
    "\n",
    "        # 벡터의 길이가 다르면 실행 오류 발생\n",
    "        if self.len != other.len:\n",
    "            raise RuntimeError(\"두 벡터의 길이가 달라요!\")\n",
    "\n",
    "        # 내적 계산: 각 항목들의 곱의 합\n",
    "        # 리스트를 상속하기에 인덱싱 사용 가능\n",
    "        sum = 0\n",
    "        for i in range(self.len):\n",
    "            sum += self[i] * other[i]\n",
    "\n",
    "        return sum"
   ]
  },
  {
   "cell_type": "markdown",
   "id": "3b753ef0",
   "metadata": {},
   "source": [
    "두 개의 벡터를 생성하자."
   ]
  },
  {
   "cell_type": "code",
   "execution_count": 2,
   "id": "31d89a08",
   "metadata": {},
   "outputs": [],
   "source": [
    "x = Vector([2, 3, 4])\n",
    "y = Vector([5, 6, 9])"
   ]
  },
  {
   "cell_type": "markdown",
   "id": "c4f1167e",
   "metadata": {},
   "source": [
    "`__str__()` 등 리스트의 모든 매직 메서드와\n",
    "`append()` 등의 다른 모든 메서드,\n",
    "그리고 인덱싱, 슬라이싱 등 \n",
    "리스트의 모든 기능을 활용할 수 있다."
   ]
  },
  {
   "cell_type": "markdown",
   "id": "a971dd33",
   "metadata": {},
   "source": [
    "- `__str__()` 메서드"
   ]
  },
  {
   "cell_type": "code",
   "execution_count": 3,
   "id": "ccf8db5c",
   "metadata": {},
   "outputs": [
    {
     "name": "stdout",
     "output_type": "stream",
     "text": [
      "[2, 3, 4]\n"
     ]
    }
   ],
   "source": [
    "print(x)"
   ]
  },
  {
   "cell_type": "markdown",
   "id": "7dcee669",
   "metadata": {},
   "source": [
    "* `append()` 메서드"
   ]
  },
  {
   "cell_type": "code",
   "execution_count": 4,
   "id": "8c91a239",
   "metadata": {},
   "outputs": [
    {
     "data": {
      "text/plain": [
       "[2, 3, 4, 5]"
      ]
     },
     "execution_count": 4,
     "metadata": {},
     "output_type": "execute_result"
    }
   ],
   "source": [
    "x.append(5)\n",
    "x"
   ]
  },
  {
   "cell_type": "markdown",
   "id": "a0014a3e",
   "metadata": {},
   "source": [
    "* `pop()` 메서드"
   ]
  },
  {
   "cell_type": "code",
   "execution_count": 5,
   "id": "b7d36338",
   "metadata": {},
   "outputs": [
    {
     "data": {
      "text/plain": [
       "[2, 3, 4]"
      ]
     },
     "execution_count": 5,
     "metadata": {},
     "output_type": "execute_result"
    }
   ],
   "source": [
    "x.pop()\n",
    "x"
   ]
  },
  {
   "cell_type": "markdown",
   "id": "e18c65cf",
   "metadata": {},
   "source": [
    "* 인덱싱"
   ]
  },
  {
   "cell_type": "code",
   "execution_count": 6,
   "id": "ee7021c8",
   "metadata": {},
   "outputs": [
    {
     "data": {
      "text/plain": [
       "2"
      ]
     },
     "execution_count": 6,
     "metadata": {},
     "output_type": "execute_result"
    }
   ],
   "source": [
    "x[0]"
   ]
  },
  {
   "cell_type": "markdown",
   "id": "6bce27e0",
   "metadata": {},
   "source": [
    "* 슬라이싱"
   ]
  },
  {
   "cell_type": "code",
   "execution_count": 7,
   "id": "acf41df0",
   "metadata": {},
   "outputs": [
    {
     "data": {
      "text/plain": [
       "[2, 4]"
      ]
     },
     "execution_count": 7,
     "metadata": {},
     "output_type": "execute_result"
    }
   ],
   "source": [
    "x[::2]"
   ]
  },
  {
   "cell_type": "markdown",
   "id": "cc7c9464",
   "metadata": {},
   "source": [
    "리스트 클래스에 없던 속성과 메서드도 당연히 지원된다."
   ]
  },
  {
   "cell_type": "markdown",
   "id": "41141fb1",
   "metadata": {},
   "source": [
    "* `len` 속성"
   ]
  },
  {
   "cell_type": "code",
   "execution_count": 8,
   "id": "0b75fe7b",
   "metadata": {},
   "outputs": [
    {
     "data": {
      "text/plain": [
       "3"
      ]
     },
     "execution_count": 8,
     "metadata": {},
     "output_type": "execute_result"
    }
   ],
   "source": [
    "x.len"
   ]
  },
  {
   "cell_type": "markdown",
   "id": "28e57e09",
   "metadata": {},
   "source": [
    "* 내적"
   ]
  },
  {
   "cell_type": "code",
   "execution_count": 9,
   "id": "040f42e3",
   "metadata": {},
   "outputs": [
    {
     "data": {
      "text/plain": [
       "64"
      ]
     },
     "execution_count": 9,
     "metadata": {},
     "output_type": "execute_result"
    }
   ],
   "source": [
    "x.dot(y)"
   ]
  },
  {
   "cell_type": "code",
   "execution_count": 10,
   "id": "68d4dd6b",
   "metadata": {},
   "outputs": [
    {
     "data": {
      "text/plain": [
       "True"
      ]
     },
     "execution_count": 10,
     "metadata": {},
     "output_type": "execute_result"
    }
   ],
   "source": [
    "x.dot(y) == 2 * 5 + 3 * 6 + 4 * 9"
   ]
  },
  {
   "cell_type": "markdown",
   "id": "58f635b4",
   "metadata": {},
   "source": [
    "벡터의 내적을 자주 활용한다면 함수로 지정하는 게 좋다.\n",
    "아래 `dot()` 함수는 벡터 인자에 대해서만 작동하도록 구현되었다."
   ]
  },
  {
   "cell_type": "code",
   "execution_count": 11,
   "id": "372a838e",
   "metadata": {},
   "outputs": [],
   "source": [
    "def dot(x, y):\n",
    "    assert isinstance(x, Vector) and isinstance(y, Vector)\n",
    "    \n",
    "    return x.dot(y)"
   ]
  },
  {
   "cell_type": "code",
   "execution_count": 12,
   "id": "43ee734e",
   "metadata": {},
   "outputs": [
    {
     "data": {
      "text/plain": [
       "True"
      ]
     },
     "execution_count": 12,
     "metadata": {},
     "output_type": "execute_result"
    }
   ],
   "source": [
    "dot(x, y) == x.dot(y)"
   ]
  },
  {
   "cell_type": "markdown",
   "id": "7e58a227",
   "metadata": {},
   "source": [
    "### 메서드 재정의"
   ]
  },
  {
   "cell_type": "markdown",
   "id": "2bf324f1",
   "metadata": {},
   "source": [
    "상속 받은 메서드를 재정의할 수 있다.\n",
    "사실 `Vector` 클래스의 생성자 메서드는\n",
    "부모 클래스인 `list` 클래스의 생성자를 재정의 하였다.\n",
    "생성자 이외의 상속 받은 다른 메서드도 필요에 따라 재정의할 수 있다."
   ]
  },
  {
   "cell_type": "markdown",
   "id": "088a44ac",
   "metadata": {},
   "source": [
    "**벡터 합**"
   ]
  },
  {
   "cell_type": "markdown",
   "id": "579a8ec3",
   "metadata": {},
   "source": [
    "예를 들어, `+` 연산자는 두 개의 리스트를 이어붙인다. \n",
    "반면에 벡터의 덧셈은 동일한 위치의 항목들의 합으로 이루어진 벡터를 계산한다.\n",
    "이런 벡터 연산을 지원하며려 `__add__()` 메서드를 재정의하면 된다."
   ]
  },
  {
   "cell_type": "code",
   "execution_count": 13,
   "id": "0d755fbe",
   "metadata": {},
   "outputs": [],
   "source": [
    "# list 클래스 상속\n",
    "\n",
    "class Vector(list):\n",
    "    # Vector 클래스 생성자 재정의\n",
    "    def __init__(self, items):\n",
    "        \"\"\"\n",
    "        - list 클래스 상속\n",
    "        - items: 벡터로 사용될 리스트\n",
    "        \"\"\"\n",
    "        \n",
    "        # 부모 클래스 생성자 호출\n",
    "        super().__init__(items)\n",
    "        \n",
    "        # 속성 추가\n",
    "        self.len = self.__len__()\n",
    "            \n",
    "    # 내적 메서드\n",
    "    def dot(self, other):\n",
    "        \"\"\"\n",
    "        벡터 내적\n",
    "        \"\"\"\n",
    "\n",
    "        # 벡터의 길이가 다르면 실행 오류 발생\n",
    "        if self.len != other.len:\n",
    "            raise RuntimeError(\"두 벡터의 길이가 달라요!\")\n",
    "\n",
    "        # 내적 계산: 각 항목들의 곱의 합\n",
    "        # 리스트를 상속하기에 인덱싱 사용 가능\n",
    "        sum = 0\n",
    "        for i in range(self.len):\n",
    "            sum += self[i] * other[i]\n",
    "\n",
    "        return sum\n",
    "    \n",
    "    # 벡터 합 메서드\n",
    "    def __add__(self, other):\n",
    "        \"\"\"\n",
    "        벡터 합\n",
    "        \"\"\"\n",
    "\n",
    "        # 벡터의 길이가 다르면 실행 오류 발생\n",
    "        if self.len != other.len:\n",
    "            raise RuntimeError(\"두 벡터의 길이가 달라요!\")\n",
    "\n",
    "        # 벡터 합 계산: 각 항목들의 합으로 이루어진 벡터\n",
    "        new_list = []\n",
    "        \n",
    "        for i in range(self.len):\n",
    "            item = self[i] + other[i]\n",
    "            new_list.append(item)\n",
    "\n",
    "        return Vector(new_list)\n",
    "    \n",
    "# dot 함수도 새로 정의해야 함.\n",
    "def dot(x, y):\n",
    "    assert isinstance(x, Vector) and isinstance(y, Vector)\n",
    "    \n",
    "    return x.dot(y)"
   ]
  },
  {
   "cell_type": "markdown",
   "id": "055758bd",
   "metadata": {},
   "source": [
    "클래스를 수정하면 인스턴스를 새로 생성해야\n",
    "변경된 내용이 반영된다."
   ]
  },
  {
   "cell_type": "code",
   "execution_count": 14,
   "id": "07d3192a",
   "metadata": {},
   "outputs": [],
   "source": [
    "x = Vector([2, 3, 4])\n",
    "y = Vector([5, 6, 9])"
   ]
  },
  {
   "cell_type": "markdown",
   "id": "d7aba86f",
   "metadata": {},
   "source": [
    "벡터 내적은 동일하게 작동한다."
   ]
  },
  {
   "cell_type": "code",
   "execution_count": 15,
   "id": "e25eb3dd",
   "metadata": {},
   "outputs": [
    {
     "data": {
      "text/plain": [
       "64"
      ]
     },
     "execution_count": 15,
     "metadata": {},
     "output_type": "execute_result"
    }
   ],
   "source": [
    "x.dot(y)"
   ]
  },
  {
   "cell_type": "code",
   "execution_count": 16,
   "id": "85c51bb5",
   "metadata": {},
   "outputs": [
    {
     "data": {
      "text/plain": [
       "64"
      ]
     },
     "execution_count": 16,
     "metadata": {},
     "output_type": "execute_result"
    }
   ],
   "source": [
    "dot(x, y)"
   ]
  },
  {
   "cell_type": "markdown",
   "id": "a7609789",
   "metadata": {},
   "source": [
    "벡터의 합이 이제 지원된다."
   ]
  },
  {
   "cell_type": "code",
   "execution_count": 17,
   "id": "732f3ad5",
   "metadata": {},
   "outputs": [
    {
     "data": {
      "text/plain": [
       "[7, 9, 13]"
      ]
     },
     "execution_count": 17,
     "metadata": {},
     "output_type": "execute_result"
    }
   ],
   "source": [
    "x + y"
   ]
  },
  {
   "cell_type": "markdown",
   "id": "9003de17",
   "metadata": {},
   "source": [
    "## 연습문제"
   ]
  },
  {
   "cell_type": "markdown",
   "id": "31b9be77",
   "metadata": {},
   "source": [
    "참고: [(실습) 상속](https://colab.research.google.com/github/codingalzi/pybook/blob/master/practices/practice-inheritance.ipynb)"
   ]
  }
 ],
 "metadata": {
  "kernelspec": {
   "display_name": "Python 3 (ipykernel)",
   "language": "python",
   "name": "python3"
  },
  "language_info": {
   "codemirror_mode": {
    "name": "ipython",
    "version": 3
   },
   "file_extension": ".py",
   "mimetype": "text/x-python",
   "name": "python",
   "nbconvert_exporter": "python",
   "pygments_lexer": "ipython3",
   "version": "3.9.7"
  }
 },
 "nbformat": 4,
 "nbformat_minor": 5
}
