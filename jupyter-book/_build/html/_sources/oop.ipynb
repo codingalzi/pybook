{
 "cells": [
  {
   "cell_type": "markdown",
   "id": "dcad5826",
   "metadata": {},
   "source": [
    "# 객체 지향 프로그래밍"
   ]
  },
  {
   "cell_type": "markdown",
   "id": "5e500d18",
   "metadata": {},
   "source": [
    "**참고:** 아래 내용은 [Problem Solving with Algorithms and Data Structures using Python](https://runestone.academy/ns/books/published/pythonds3/index.html)의 1.13 절을 \n",
    "정리, 요약하는 내용을 일부 담고 있습니다. "
   ]
  },
  {
   "cell_type": "markdown",
   "id": "5164b551",
   "metadata": {},
   "source": [
    "파이썬은 객체 지향 프로그래밍 언어이며,\n",
    "지금까지 다양한 내장 클래스를 이용한 자료형와 자료 구조를 살펴보았다.\n",
    "객체 지향 프로그래밍 언어의 가장 큰 장점 중의 하나는 사용자가 직접\n",
    "문제 해결에 필요한 자료형을 클래스를 이용하여 정의할 수 있는 것이다. \n",
    "\n",
    "여기서는 `Fraction` 클래스를 선언하고 필요한 메서드를 추가하면서\n",
    "새로운 자료형을 선언 과정을 자세히 소개한다.\n",
    "즉, 자료형이 가져야 하는 __상태__(state)와 __기능__(메서드)을 제공하는 과정을\n",
    "자세히 살펴본다."
   ]
  },
  {
   "cell_type": "markdown",
   "id": "3c02425b",
   "metadata": {},
   "source": [
    "## `Fraction` 클래스"
   ]
  },
  {
   "cell_type": "markdown",
   "id": "c3e65582",
   "metadata": {},
   "source": [
    "분수들의 클래스를 자료형으로 정의해보자.\n",
    "`Fraction` 클래스의 상태는 아래 정보를 담는다.\n",
    "\n",
    "- 분수는 임의의 정수를 갖는 분자와 임의의 0이 아닌 정수를 갖는 분모로 구성된다.\n",
    "\n",
    "`Fraction` 클래스는 기본적으로 분수들의 사칙연산 기능을 제공해야 한다.\n",
    "또한 '3/5'와 같이 표현할 수 있어야 하며, 사칙연산의 계산결과는\n",
    "모두 기약분수로 표현되도록 한다.\n",
    "\n",
    "파이썬을 이용한 클래스 정의 형식은 다음과 같다.\n",
    "\n",
    "```python\n",
    "class Fraction:\n",
    "    \n",
    "    # 상태 지정 및 메서드 선언\n",
    "```"
   ]
  },
  {
   "cell_type": "markdown",
   "id": "0661ad1c",
   "metadata": {},
   "source": [
    "## 생성자"
   ]
  },
  {
   "cell_type": "markdown",
   "id": "05365023",
   "metadata": {},
   "source": [
    "모든 파이썬 클래스는 __생성자__라는 `__init__()` 메서드가 포함되어야 한다. \n",
    "생성자는 생성되는 클래스의 인스턴스(instance)의 상태 정보에 필요한 값들을\n",
    "인자로 받는다.\n",
    "`Fraction` 클래스의 경우 분자와 분모에 해당하는 값을 받아 지정된 값으로 \n",
    "이루어진 분수를 하나의 객체로 생성하는 데에 사용한다."
   ]
  },
  {
   "cell_type": "code",
   "execution_count": 1,
   "id": "482c3f63",
   "metadata": {},
   "outputs": [],
   "source": [
    "class Fraction:\n",
    "    \"\"\"Fraction 클래스\"\"\"\n",
    "    def __init__(self, top, bottom):\n",
    "        \"\"\"생성자 메서드\n",
    "        top: 분자\n",
    "        bottom: 분모\n",
    "        \"\"\"\n",
    "        self.num = top\n",
    "        self.den = bottom"
   ]
  },
  {
   "cell_type": "markdown",
   "id": "035a8d24",
   "metadata": {},
   "source": [
    "`Fraction` 클래스의 생성자에 사용된 매개변수(parameter)와 인스턴스 변수는 다음과 같다.\n",
    "\n",
    "- `self`: 생성되는 인스턴스 자신을 가리킴. 파이썬 클래스의 모든 (인스턴스) 메서드의 첫째 인자로 사용됨.\n",
    "    메서드를 호출할 때 `self`에 대한 인자는 사용하지 않음.\n",
    "- `top`: 생성되는 분수의 분자로 사용될 값을 받는 매개변수\n",
    "- `bottom`: 생성되는 분수의 분모로 사용될 값을 받는 매개변수\n",
    "- `self.num`: 생성되는 분수의 분자로 사용되는 값을 가리키는 인스턴스 변수(속성 변수)\n",
    "- `self.den`: 생성되는 분수의 분모로 사용되는 값을 가리키는 인스턴스 변수(속성 변수)\n",
    "\n",
    "`self.num`과 `self.den`이 생성되는 분수의 상태(state)를 저장하는 역할을 수행한다."
   ]
  },
  {
   "cell_type": "markdown",
   "id": "3ce8d485",
   "metadata": {},
   "source": [
    "## 인스턴스 생성"
   ]
  },
  {
   "cell_type": "markdown",
   "id": "98b72603",
   "metadata": {},
   "source": [
    "`Fraction` 클래스의 인스턴스, 즉 __하나의 분수에 해당하는 객체__를 선언하려면\n",
    "생성자 함수는 `__init__()` 메서드를 분자, 분모에 해당하는 인자와 함께 호출해야 한다.\n",
    "생성자를 호출하려면 아래처럼 클래스 이름을 마치 함수처럼 활용한다."
   ]
  },
  {
   "cell_type": "code",
   "execution_count": 2,
   "id": "791a5f0a",
   "metadata": {},
   "outputs": [],
   "source": [
    "my_fraction = Fraction(3, 5)"
   ]
  },
  {
   "cell_type": "markdown",
   "id": "a1dada07",
   "metadata": {},
   "source": [
    "`my_fraction` 변수는 $\\frac {3}{5}$에 해당하는 객체를 가리킨다(<그림 5> 참조)."
   ]
  },
  {
   "cell_type": "markdown",
   "id": "25678e48",
   "metadata": {},
   "source": [
    "<figure>\n",
    "<img src=\"https://raw.githubusercontent.com/codingalzi/problem_solving_with_algorithms/master/_sources/Introduction/Figures/fraction1.png\" width=\"50%\">\n",
    "    <figcaption>그림 5: Fraction 클래스의 인스턴스</figcaption>\n",
    "</figure>"
   ]
  },
  {
   "cell_type": "markdown",
   "id": "84d4464a",
   "metadata": {},
   "source": [
    "## 매직 메서드"
   ]
  },
  {
   "cell_type": "markdown",
   "id": "6d7a4314",
   "metadata": {},
   "source": [
    "`my_frantion`이 가리키는 분수는 '3/5'에 해당하는 분수이다. \n",
    "그런데 `print()` 함수를 이용하여 이 사실을 확인하려면 \n",
    "이상한 결과만 확인한다."
   ]
  },
  {
   "cell_type": "code",
   "execution_count": 3,
   "id": "07b14145",
   "metadata": {},
   "outputs": [
    {
     "name": "stdout",
     "output_type": "stream",
     "text": [
      "<__main__.Fraction object at 0x7f2defdb0070>\n"
     ]
    }
   ],
   "source": [
    "print(my_fraction)"
   ]
  },
  {
   "cell_type": "markdown",
   "id": "1022ec88",
   "metadata": {},
   "source": [
    "이유는 `Fraction` 클래스가 자신의 인스턴스를 소개하는 기능을 제공하지 않았기 때문이다. \n",
    "결국 `my_fraction` 입장에서는 자신이 어떤 클래스의 인스턴스이며 \n",
    "자신이 저장된 메모리 주소만을 알려준다. "
   ]
  },
  {
   "cell_type": "markdown",
   "id": "caa41fbf",
   "metadata": {},
   "source": [
    "**`__str__()` 메서드**"
   ]
  },
  {
   "cell_type": "markdown",
   "id": "2e3ec9ff",
   "metadata": {},
   "source": [
    "파이썬의 모든 클래스는 생성자와 함께 기본적으로 포함하는 메서드 목록이 있다. \n",
    "이유는 파이썬의 모든 클래스는 기본적으로 최상위 클래스인 `object` 클래스를 \n",
    "상속한다.\n",
    "따라서 `Fraction` 클래스의 엄밀한 정의는 다음과 같다. "
   ]
  },
  {
   "cell_type": "code",
   "execution_count": 4,
   "id": "602fde28",
   "metadata": {},
   "outputs": [],
   "source": [
    "class Fraction(object):\n",
    "    \"\"\"Fraction 클래스\"\"\"\n",
    "\n",
    "    def __init__(self, top, bottom):\n",
    "        \"\"\"생성자 메서드\n",
    "        top: 분자\n",
    "        bottom: 분모\n",
    "        \"\"\"\n",
    "        self.num = top\n",
    "        self.den = bottom"
   ]
  },
  {
   "cell_type": "markdown",
   "id": "5fd6a54a",
   "metadata": {},
   "source": [
    "상속을 통해 `__init__()` 등 기본으로 지정된 메서드를 여러 개 함께 상속한다.\n",
    "이렇게 자동으로 상속받으며 두 개의 밑줄이 양쪽을 감싼느 메서드를 __매직 메서드__(magic method)라 부르며,\n",
    "이중에 `__str__()` 메서드도 포함된다.\n",
    "이 사실을  `dir()` 함수를 이용하여 확인할 수 있다."
   ]
  },
  {
   "cell_type": "code",
   "execution_count": 5,
   "id": "0b6936d6",
   "metadata": {},
   "outputs": [
    {
     "data": {
      "text/plain": [
       "['__class__',\n",
       " '__delattr__',\n",
       " '__dict__',\n",
       " '__dir__',\n",
       " '__doc__',\n",
       " '__eq__',\n",
       " '__format__',\n",
       " '__ge__',\n",
       " '__getattribute__',\n",
       " '__gt__',\n",
       " '__hash__',\n",
       " '__init__',\n",
       " '__init_subclass__',\n",
       " '__le__',\n",
       " '__lt__',\n",
       " '__module__',\n",
       " '__ne__',\n",
       " '__new__',\n",
       " '__reduce__',\n",
       " '__reduce_ex__',\n",
       " '__repr__',\n",
       " '__setattr__',\n",
       " '__sizeof__',\n",
       " '__str__',\n",
       " '__subclasshook__',\n",
       " '__weakref__']"
      ]
     },
     "execution_count": 5,
     "metadata": {},
     "output_type": "execute_result"
    }
   ],
   "source": [
    "dir(Fraction)"
   ]
  },
  {
   "cell_type": "markdown",
   "id": "e89b467d",
   "metadata": {},
   "source": [
    "언급된 매직메서드 각자는 고유의 역할을 수행하기에 준비되었지만 대부분 본체가 없는,\n",
    "즉 제대로 정의되지 않은 채로 상속된다. \n",
    "이 중에 `__str__()` 메서드는 해당 클래스의 인스턴스를 `print()` 함수를 통해\n",
    "어떻게 보여줄 것인가를 문자열로 지정하는 함수로 활용된다."
   ]
  },
  {
   "cell_type": "markdown",
   "id": "4a2fc3b2",
   "metadata": {},
   "source": [
    "`Fraction` 클래스를 선언할 때 `__str__()` 메서드를 아래처럼 재정의(overriding) 해보자."
   ]
  },
  {
   "cell_type": "code",
   "execution_count": 6,
   "id": "9a9a76b3",
   "metadata": {},
   "outputs": [],
   "source": [
    "class Fraction:\n",
    "    \"\"\"Fraction 클래스\"\"\"\n",
    "\n",
    "    def __init__(self, top, bottom):\n",
    "        \"\"\"생성자 메서드\n",
    "        top: 분자\n",
    "        bottom: 분모\n",
    "        \"\"\"\n",
    "        self.num = top\n",
    "        self.den = bottom\n",
    "\n",
    "    def __str__(self):\n",
    "        return f\"{self.num}/{self.den}\""
   ]
  },
  {
   "cell_type": "code",
   "execution_count": 7,
   "id": "c34c9ab1",
   "metadata": {},
   "outputs": [],
   "source": [
    "my_fraction = Fraction(3, 5)"
   ]
  },
  {
   "cell_type": "markdown",
   "id": "e0b5c133",
   "metadata": {},
   "source": [
    "이제 `print()` 함수가 원했던 대로 작동한다."
   ]
  },
  {
   "cell_type": "code",
   "execution_count": 8,
   "id": "5a1d4d88",
   "metadata": {},
   "outputs": [
    {
     "name": "stdout",
     "output_type": "stream",
     "text": [
      "3/5\n"
     ]
    }
   ],
   "source": [
    "print(my_fraction)"
   ]
  },
  {
   "cell_type": "markdown",
   "id": "f72dbfbd",
   "metadata": {},
   "source": [
    "`__str__()` 메서드를 직접 호출해도 동일한 결과를 얻는다. "
   ]
  },
  {
   "cell_type": "code",
   "execution_count": 9,
   "id": "bd12fa35",
   "metadata": {},
   "outputs": [
    {
     "data": {
      "text/plain": [
       "'3/5'"
      ]
     },
     "execution_count": 9,
     "metadata": {},
     "output_type": "execute_result"
    }
   ],
   "source": [
    "my_fraction.__str__()"
   ]
  },
  {
   "cell_type": "code",
   "execution_count": 10,
   "id": "6b7d5f71",
   "metadata": {},
   "outputs": [
    {
     "name": "stdout",
     "output_type": "stream",
     "text": [
      "피자의 3/5를 먹었다.\n"
     ]
    }
   ],
   "source": [
    "print(f\"피자의 {my_fraction}를 먹었다.\")"
   ]
  },
  {
   "cell_type": "markdown",
   "id": "5d5ca5e9",
   "metadata": {},
   "source": [
    "`str()` 함수는 인자로 사용된 객체가 제공하는 `__str__()` 메서드를 내부에서 호출한다."
   ]
  },
  {
   "cell_type": "code",
   "execution_count": 11,
   "id": "b63e12b9",
   "metadata": {},
   "outputs": [
    {
     "data": {
      "text/plain": [
       "'3/5'"
      ]
     },
     "execution_count": 11,
     "metadata": {},
     "output_type": "execute_result"
    }
   ],
   "source": [
    "str(my_fraction)"
   ]
  },
  {
   "cell_type": "markdown",
   "id": "68239a28",
   "metadata": {},
   "source": [
    "**`__add__()` 메서드**"
   ]
  },
  {
   "cell_type": "markdown",
   "id": "2d4b9047",
   "metadata": {},
   "source": [
    "분수의 덧셈을 시도하면 오류가 발생한다."
   ]
  },
  {
   "cell_type": "markdown",
   "id": "04b6f84b",
   "metadata": {},
   "source": [
    "```python\n",
    "f1 = Fraction(1, 4)\n",
    "f2 = Fraction(1, 2)\n",
    "\n",
    "f1 + f2\n",
    "---------------------------------------------------------------------------\n",
    "TypeError                                 Traceback (most recent call last)\n",
    "<ipython-input-13-ad0256b81ae0> in <module>\n",
    "----> 1 f1 + f2\n",
    "\n",
    "TypeError: unsupported operand type(s) for +: 'Fraction' and 'Fraction'\n",
    "```"
   ]
  },
  {
   "cell_type": "markdown",
   "id": "e8cbc1b2",
   "metadata": {},
   "source": [
    "이유는 덧셈 연산자 `+`가 `Fraction` 클래스의 인스턴스에 대해 지원되지 않기 때문이다. "
   ]
  },
  {
   "cell_type": "markdown",
   "id": "cd2b49b0",
   "metadata": {},
   "source": [
    "덧셈, 뺄셈 등 사칙연산에 대해 일반적으로 사용되는 기호를 사용하려면\n",
    "각각의 기호에 해당하는 매직 메서드를 선언해야 한다. \n",
    "예를 들어 분수의 덧셈을 위해 `+` 연산자를 사용하려면 \n",
    "`Fraction` 클래스에 `__add__()` 메서드가 적절하게 정의되어 있어야 한다.\n",
    "그러면 아래 표현식은 `f1 + f2`에 해당하는 값을 가리키게 된다."
   ]
  },
  {
   "cell_type": "markdown",
   "id": "176c6149",
   "metadata": {},
   "source": [
    "```python\n",
    "f1.__add__(f2)\n",
    "```"
   ]
  },
  {
   "cell_type": "markdown",
   "id": "4499c20c",
   "metadata": {},
   "source": [
    "분수의 덧셈은 아래와 같이 정의된다.\n",
    "\n",
    "$$\\frac {a}{b} + \\frac {c}{d} = \\frac {ad}{bd} + \\frac {cb}{bd} = \\frac{ad+cb}{bd}$$\n",
    "\n",
    "이를 구현하는 `__add__()` 메서드를 `Fraction` 클래스에 추가하자."
   ]
  },
  {
   "cell_type": "code",
   "execution_count": 12,
   "id": "506abb99",
   "metadata": {},
   "outputs": [],
   "source": [
    "class Fraction:\n",
    "    \"\"\"Fraction 클래스\"\"\"\n",
    "\n",
    "    def __init__(self, top, bottom):\n",
    "        \"\"\"생성자 메서드\n",
    "        top: 분자\n",
    "        bottom: 분모\n",
    "        \"\"\"\n",
    "        self.num = top\n",
    "        self.den = bottom\n",
    "\n",
    "    def __str__(self):\n",
    "        return f\"{self.num}/{self.den}\"\n",
    "\n",
    "    def __add__(self, other_fraction):\n",
    "        new_num = self.num * other_fraction.den + \\\n",
    "                    self.den * other_fraction.num\n",
    "        new_den = self.den * other_fraction.den\n",
    "\n",
    "        return Fraction(new_num, new_den)"
   ]
  },
  {
   "cell_type": "code",
   "execution_count": 13,
   "id": "c811ba26",
   "metadata": {},
   "outputs": [
    {
     "name": "stdout",
     "output_type": "stream",
     "text": [
      "6/8\n"
     ]
    }
   ],
   "source": [
    "f1 = Fraction(1, 4)\n",
    "f2 = Fraction(1, 2)\n",
    "f3 = f1 + f2\n",
    "print(f3)"
   ]
  },
  {
   "cell_type": "markdown",
   "id": "9db571c5",
   "metadata": {},
   "source": [
    "덧셈이 잘 작동하지만 결과값이 기약분수의 형태가 아니다. \n",
    "기약분수를 계산하려면 최대공약수(gcd)를 계산하는 알고리즘이 필요하다."
   ]
  },
  {
   "cell_type": "markdown",
   "id": "168c5c31",
   "metadata": {},
   "source": [
    ":::{prf:example} 유클리드 호젯법\n",
    ":label: euclid_gcd\n",
    "\n",
    "두 개의 정수 $m$과 $n$의 최대공약수를 가장 빠르고 효율적으로 계산하는 기법은 유클리드 호젯법이다.\n",
    "\n",
    "- $m$을 $n$으로 나눌 수 있으면 $n$이 최대공약수이다.\n",
    "- 그렇지 않으면 $n$과 $m\\,\\%\\, n$의 최대공약수가 원하는 최대공약수이다.\n",
    "\n",
    "위 기법을 구현하면 다음과 같다.\n",
    "\n",
    "```python\n",
    "def gcd(m, n):\n",
    "    while m % n != 0:\n",
    "        m, n = n, m % n\n",
    "    return n\n",
    "\n",
    "print(gcd(20, 10))\n",
    "10\n",
    "\n",
    "print(gcd(20, 30))\n",
    "10\n",
    "```\n",
    ":::"
   ]
  },
  {
   "cell_type": "markdown",
   "id": "1e5e66aa",
   "metadata": {},
   "source": [
    "`gcd()` 함수를 `__add__()` 함수의 정의에 활용하자. "
   ]
  },
  {
   "cell_type": "code",
   "execution_count": 17,
   "id": "3d7ca1ad",
   "metadata": {},
   "outputs": [],
   "source": [
    "class Fraction:\n",
    "    \"\"\"Fraction 클래스\"\"\"\n",
    "\n",
    "    def __init__(self, top, bottom):\n",
    "        \"\"\"생성자 메서드\n",
    "        top: 분자\n",
    "        bottom: 분모\n",
    "        \"\"\"\n",
    "        self.num = top\n",
    "        self.den = bottom\n",
    "\n",
    "    def __str__(self):\n",
    "        return f\"{self.num}/{self.den}\"\n",
    "\n",
    "    def __add__(self, other_fraction):\n",
    "        new_num = self.num * other_fraction.den + \\\n",
    "                     self.den * other_fraction.num\n",
    "        new_den = self.den * other_fraction.den\n",
    "        common = gcd(new_num, new_den)\n",
    "        \n",
    "        return Fraction(new_num // common, new_den // common)"
   ]
  },
  {
   "cell_type": "markdown",
   "id": "0db37407",
   "metadata": {},
   "source": [
    "이제 `Fraction`의 인스턴스는 모두 두 개의 메서드를 갖는다(<그림 6>). "
   ]
  },
  {
   "cell_type": "markdown",
   "id": "2b732151",
   "metadata": {},
   "source": [
    "<figure>\n",
    "<img src=\"https://raw.githubusercontent.com/codingalzi/problem_solving_with_algorithms/master/_sources/Introduction/Figures/fraction2.png\" width=\"50%\">\n",
    "    <figcaption>그림 6: 두 개의 메서드를 갖는 Fraction 클래스의 인스턴스</figcaption>\n",
    "</figure>"
   ]
  },
  {
   "cell_type": "markdown",
   "id": "72a0bde1",
   "metadata": {},
   "source": [
    "이제 8/6이 아니라 3/4를 반환한다."
   ]
  },
  {
   "cell_type": "code",
   "execution_count": 18,
   "id": "55a9e0e8",
   "metadata": {},
   "outputs": [
    {
     "name": "stdout",
     "output_type": "stream",
     "text": [
      "3/4\n"
     ]
    }
   ],
   "source": [
    "f1 = Fraction(1, 4)\n",
    "f2 = Fraction(1, 2)\n",
    "f3 = f1 + f2\n",
    "print(f3)"
   ]
  },
  {
   "cell_type": "markdown",
   "id": "df8725dc",
   "metadata": {},
   "source": [
    "### 동등성과 동일성"
   ]
  },
  {
   "cell_type": "markdown",
   "id": "7e1bf0ff",
   "metadata": {},
   "source": [
    "두 객체의 __동일성__(identity) 여부는 비교되는 두 객체가 동일한 메모리 주소에 저장되었는가에 따라 결정된다.\n",
    "반면에 메모리의 주소가 아니라 객체가 표현하는 값의 동일성 여부에 따라\n",
    "두 값을 비교 판정하는 것은 __동등성__(equality) 여부이다. \n",
    "예를 들어, 아래 두 객체 모두 분수 1/2를 객체를 가리키지만 서로 독립적으로 생성되었기에\n",
    "서로 다른 메모리에 저장되며, 따라서 두 변수 `x`와 `y`는 서로 다른 객체를 참조한다.\n",
    "따라서 두 변수가 참조하는 값은 동등하지 않다고 판정된다.\n",
    "이와같이 두 값의 동등성을 판단하는 것을 __얕은 동등성__(shallow equality)이라 부른다."
   ]
  },
  {
   "cell_type": "code",
   "execution_count": 19,
   "id": "e92a1efb",
   "metadata": {},
   "outputs": [
    {
     "data": {
      "text/plain": [
       "False"
      ]
     },
     "execution_count": 19,
     "metadata": {},
     "output_type": "execute_result"
    }
   ],
   "source": [
    "x = Fraction(1, 2)\n",
    "y = Fraction(1, 2)\n",
    "x == y"
   ]
  },
  {
   "cell_type": "markdown",
   "id": "c8dc1251",
   "metadata": {},
   "source": [
    "물론 두 객체가 동일하지 않다고 판단된다."
   ]
  },
  {
   "cell_type": "code",
   "execution_count": 20,
   "id": "46842c5b",
   "metadata": {},
   "outputs": [
    {
     "data": {
      "text/plain": [
       "False"
      ]
     },
     "execution_count": 20,
     "metadata": {},
     "output_type": "execute_result"
    }
   ],
   "source": [
    "x is y"
   ]
  },
  {
   "cell_type": "markdown",
   "id": "01b8e095",
   "metadata": {},
   "source": [
    "__참고__: [PythonTutor-얕은 동등성](https://pythontutor.com/visualize.html#code=class%20Fraction%3A%0A%20%20%20%20%22%22%22Fraction%20%ED%81%B4%EB%9E%98%EC%8A%A4%22%22%22%0A%0A%20%20%20%20def%20__init__%28self,%20top,%20bottom%29%3A%0A%20%20%20%20%20%20%20%20%22%22%22%EC%83%9D%EC%84%B1%EC%9E%90%20%EB%A9%94%EC%84%9C%EB%93%9C%0A%20%20%20%20%20%20%20%20top%3A%20%EB%B6%84%EC%9E%90%0A%20%20%20%20%20%20%20%20bottom%3A%20%EB%B6%84%EB%AA%A8%0A%20%20%20%20%20%20%20%20%22%22%22%0A%20%20%20%20%20%20%20%20self.num%20%3D%20top%0A%20%20%20%20%20%20%20%20self.den%20%3D%20bottom%0A%0A%20%20%20%20def%20__str__%28self%29%3A%0A%20%20%20%20%20%20%20%20return%20f%22%7Bself.num%7D/%7Bself.den%7D%22%0A%0A%20%20%20%20def%20__add__%28self,%20other_fraction%29%3A%0A%20%20%20%20%20%20%20%20new_num%20%3D%20self.num%20*%20other_fraction.den%20%2B%20%5C%0A%20%20%20%20%20%20%20%20%20%20%20%20%20%20%20%20%20%20%20%20%20self.den%20*%20other_fraction.num%0A%20%20%20%20%20%20%20%20new_den%20%3D%20self.den%20*%20other_fraction.den%0A%20%20%20%20%20%20%20%20common%20%3D%20gcd%28new_num,%20new_den%29%0A%20%20%20%20%20%20%20%20%0A%20%20%20%20%20%20%20%20return%20Fraction%28new_num%20//%20common,%20new_den%20//%20common%29%0A%0Ax%20%3D%20Fraction%281,%202%29%0Ay%20%3D%20Fraction%281,%202%29%0Aprint%28x%20%3D%3D%20y%29&cumulative=false&curInstr=0&heapPrimitives=nevernest&mode=display&origin=opt-frontend.js&py=3&rawInputLstJSON=%5B%5D&textReferences=false)"
   ]
  },
  {
   "cell_type": "markdown",
   "id": "d5d1ba83",
   "metadata": {},
   "source": [
    "반면에 아래처럼 두 변수가 참조하는 객체를 동일(identical)하게 하면 당연히 다른 결과가 나온다."
   ]
  },
  {
   "cell_type": "code",
   "execution_count": 21,
   "id": "c7da2c58",
   "metadata": {},
   "outputs": [
    {
     "name": "stdout",
     "output_type": "stream",
     "text": [
      "True\n",
      "True\n"
     ]
    }
   ],
   "source": [
    "x = Fraction(1, 2)\n",
    "y = x\n",
    "print(x == y)\n",
    "print(x is y)"
   ]
  },
  {
   "cell_type": "markdown",
   "id": "e8672a27",
   "metadata": {},
   "source": [
    "<figure>\n",
    "<img src=\"https://raw.githubusercontent.com/codingalzi/problem_solving_with_algorithms/master/_sources/Introduction/Figures/fraction3.png\" width=\"80%\">\n",
    "    <figcaption>표 7: 얕은 동일성 대 깊은 동일성</figcaption>\n",
    "</figure>"
   ]
  },
  {
   "cell_type": "markdown",
   "id": "b2c505ec",
   "metadata": {},
   "source": [
    "반면에 __깊은 동등성__(deep equality)은 두 객체가 (의도된) 동일한 값을\n",
    "가리키는가 여부를 결정하며, 이를 위해 \n",
    "`__eq__` 매직 메서드를 이용한다.\n",
    "두 분수의 동등성은 아래와 같이 정의된다.\n",
    "\n",
    "$$\\frac {a}{b} = \\frac {c}{d} \\Longleftrightarrow ad = bc$$\n",
    "\n",
    "이를 구현하는 `__eq__()` 메서드를 `Fraction` 클래스에 추가하자."
   ]
  },
  {
   "cell_type": "code",
   "execution_count": 22,
   "id": "7211dd90",
   "metadata": {},
   "outputs": [],
   "source": [
    "class Fraction:\n",
    "    \"\"\"Fraction 클래스\"\"\"\n",
    "\n",
    "    def __init__(self, top, bottom):\n",
    "        \"\"\"생성자 메서드\n",
    "        top: 분자\n",
    "        bottom: 분모\n",
    "        \"\"\"\n",
    "        self.num = top\n",
    "        self.den = bottom\n",
    "\n",
    "    def __str__(self):\n",
    "        return f\"{self.num}/{self.den}\"\n",
    "\n",
    "    def __add__(self, other_fraction):\n",
    "        new_num = self.num * other_fraction.den + \\\n",
    "                     self.den * other_fraction.num\n",
    "        new_den = self.den * other_fraction.den\n",
    "        common = gcd(new_num, new_den)\n",
    "        \n",
    "        return Fraction(new_num // common, new_den // common)\n",
    "\n",
    "    def __eq__(self, other_fraction):\n",
    "        first_num = self.num * other_fraction.den\n",
    "        second_num = other_fraction.num * self.den\n",
    "\n",
    "        return first_num == second_num"
   ]
  },
  {
   "cell_type": "code",
   "execution_count": 23,
   "id": "368f42e4",
   "metadata": {},
   "outputs": [
    {
     "name": "stdout",
     "output_type": "stream",
     "text": [
      "True\n"
     ]
    }
   ],
   "source": [
    "x = Fraction(1, 2)\n",
    "y = Fraction(1, 2)\n",
    "print(x == y)"
   ]
  },
  {
   "cell_type": "code",
   "execution_count": 24,
   "id": "91a2e8ac",
   "metadata": {},
   "outputs": [
    {
     "name": "stdout",
     "output_type": "stream",
     "text": [
      "False\n"
     ]
    }
   ],
   "source": [
    "x = Fraction(1, 2)\n",
    "y = Fraction(2, 3)\n",
    "print(x == y)"
   ]
  },
  {
   "cell_type": "markdown",
   "id": "2397a36d",
   "metadata": {},
   "source": [
    "## 연습문제"
   ]
  },
  {
   "cell_type": "markdown",
   "id": "5d3f4cf2",
   "metadata": {},
   "source": [
    "참고: [(실습) 객체 지향 프로그래밍](https://colab.research.google.com/github/codingalzi/pybook/blob/master/practices/practice-oop.ipynb)"
   ]
  }
 ],
 "metadata": {
  "kernelspec": {
   "display_name": "Python 3 (ipykernel)",
   "language": "python",
   "name": "python3"
  },
  "language_info": {
   "codemirror_mode": {
    "name": "ipython",
    "version": 3
   },
   "file_extension": ".py",
   "mimetype": "text/x-python",
   "name": "python",
   "nbconvert_exporter": "python",
   "pygments_lexer": "ipython3",
   "version": "3.9.7"
  }
 },
 "nbformat": 4,
 "nbformat_minor": 5
}
