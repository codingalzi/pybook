{
 "cells": [
  {
   "cell_type": "markdown",
   "metadata": {},
   "source": [
    "# 객체 지향 프로그래밍"
   ]
  },
  {
   "cell_type": "markdown",
   "metadata": {},
   "source": [
    "**객체 지향 프로그래밍**<font size='2'>Object-Oriented Programming</font>은\n",
    "객체들 사이의 유기적인 관계를 묘사하는 프로그래밍 기법이며,\n",
    "줄여서 보통 **OOP**라고 부른다.\n",
    "파이썬, 자바, C++, C#, 루비, 자바스크립트 등 대부분의 프로그래밍 언어가\n",
    "OOP를 지원하는 **객체 지향 언어**다.\n",
    "\n",
    "OOP와 대비되는 개념으로 **절차 지향 프로그래밍**이 있다.\n",
    "절차 지향 프로그래밍은 수행해야 할 일을 순차적으로 처리하는 과정을 묘사하는 것을 가장 중요하게 여기며 \n",
    "프로그램 전체가 유기적으로 연결되도록 만드는 프로그래밍 기법이다. \n",
    "C, HTML 등이 대표적인 절차 지향 프로그래밍언어다.\n",
    "\n",
    "\"해야 할 일을 순차적으로 처리한다\"는 표현은 가장 기초적인 프로그래밍 기법이며,\n",
    "모든 프로그램은 원하는 결과를 얻기 위한 과정을 논리적이며 순차적으로 \n",
    "처리하도록 구현되어야 한다. \n",
    "OOP 역시 예외가 아니다. \n",
    "OOP는 다만 구현해야 할 객체들을 선택하고 객체들 사이의 유기적인 관계를\n",
    "이용하는 과정을 논리적으로 묘사하는 데에 보다 많은 방점을 둘 뿐이다. "
   ]
  },
  {
   "cell_type": "markdown",
   "metadata": {},
   "source": [
    "## OOP와 객체"
   ]
  },
  {
   "cell_type": "markdown",
   "metadata": {},
   "source": [
    "OOP를 이해하려면 아래 두 가지 질문에 답할 수 있어야 한다.\n",
    "\n",
    "1. 객체(object)란 무엇인가?\n",
    "1. \"객체를 중심으로 프로그래밍한다\" 라는 말의 의미는 무엇인가?\n",
    "\n",
    "위 질문들에 대한 직접적인 설명 대신에 `turtle` 모듈의 거북이 그래픽에 포함되는 다양한 객체들을 이용하여 \n",
    "객체가 생성되고 활용되는 과정을 다양한 예제를 통해 소개한다."
   ]
  },
  {
   "cell_type": "markdown",
   "metadata": {},
   "source": [
    "**준비사항**\n",
    "\n",
    "`turtle` 모듈을 사용하기에 구글 코랩은 매우 제한적이다.\n",
    "{numref}`%s장 <ch:turtle-graphics>`에서 활용한\n",
    "[트링킷](https://trinket.io)이 거북이 그래픽을 지원하지만 \n",
    "여기서는 [레플릿](https://replit.com/~) 사이트를 활용한다.\n",
    "이유는 트링킷에서는 `turtle` 모듈의 모든 것을 지원하지는 않고 대신\n",
    "거북이 그래픽 코딩을 간편하게 테스트하는 용도로 만들어졌기 때문이다.\n",
    "여기서 사용하는 코드는 모두 레플릿에서 확인하고 직접 실행할 수 있도록 링크가 함께 제공된다."
   ]
  },
  {
   "cell_type": "markdown",
   "metadata": {},
   "source": [
    "## 거북이 그래픽"
   ]
  },
  {
   "cell_type": "markdown",
   "metadata": {},
   "source": [
    "거북이 그래픽은 파이썬의 기본 라이브러리로 포함된 `turtle` 모듈을 이용한다.\n",
    "거북이 그래픽과 `turtle` 모듈에 대한 상세한 설명은 {numref}`%s장 <ch:turtle-graphics>`을 참고한다.\n",
    "여기서는 간단한 예제를 통해 객체(인스턴스)를 클래스의 인스턴스로 \n",
    "선언하고 활용하는 과정을 소개한다."
   ]
  },
  {
   "cell_type": "markdown",
   "metadata": {},
   "source": [
    "아래 코드를 실행하면 한 변의 길이가 100인 정사각형을 그리는 화살촉의 움직임을 볼 수 있다.\n",
    "\n",
    "참고: [(레플릿) 네모](https://replit.com/@codingalzi/oop)에서 코드 실행 가능"
   ]
  },
  {
   "cell_type": "markdown",
   "metadata": {},
   "source": [
    "```python\n",
    "import turtle\n",
    "\n",
    "wn = turtle.Screen()\n",
    "wn.title(\"Hello, Bob and Alice!\")\n",
    "\n",
    "bob = turtle.Turtle()\n",
    "\n",
    "for _ in range(4):\n",
    "    bob.forward(100)\n",
    "    bob.left(90)\n",
    "\n",
    "wn.mainloop()\n",
    "```"
   ]
  },
  {
   "cell_type": "markdown",
   "metadata": {},
   "source": [
    "<div align=\"center\" border=\"1px\"><img src=\"https://raw.githubusercontent.com/codingalzi/pybook/master/jupyter-book/images/turtle01-1.png\" width=\"500\"/></div>"
   ]
  },
  {
   "cell_type": "markdown",
   "metadata": {},
   "source": [
    "위 코드의 구성 요소를 객체를 중심으로 살펴 보면 다음과 같다."
   ]
  },
  {
   "cell_type": "markdown",
   "metadata": {},
   "source": [
    "**모듈 불러오기**"
   ]
  },
  {
   "cell_type": "markdown",
   "metadata": {},
   "source": [
    "`turtle` 모듈은 거북이 그랙픽에 필요한 다양한 클래스와 함수를 제공한다."
   ]
  },
  {
   "cell_type": "markdown",
   "metadata": {},
   "source": [
    "```python\n",
    "import turtle\n",
    "```"
   ]
  },
  {
   "cell_type": "markdown",
   "metadata": {},
   "source": [
    "**스크린 객체: `Screen` 클래스의 인스턴스**"
   ]
  },
  {
   "cell_type": "markdown",
   "metadata": {},
   "source": [
    "`turtle` 모듈에서 정의된 `Screen` 클래스의 인스턴스를 생성해서 `wn` 변수에 할당한다.\n",
    "`Screen` 클래스의 인스턴스는 그림을 그릴 도화지 한 장에 해당하는 객체다.\n",
    "\n",
    "```python\n",
    "wn = turtle.Screen()\n",
    "```"
   ]
  },
  {
   "cell_type": "markdown",
   "metadata": {},
   "source": [
    "**스크린 객체 메서드**"
   ]
  },
  {
   "cell_type": "markdown",
   "metadata": {},
   "source": [
    "스크린 객체의 타이틀을 지정할 수 있다. \n",
    "기본값은 `Python Turtle Graphics`이지만 `title()` 메서드를 이용하여 별도로 지정할 수 있다.\n",
    "\n",
    "```python\n",
    "wn.title(\"Hello, Bob and Alice!\")\n",
    "```    "
   ]
  },
  {
   "cell_type": "markdown",
   "metadata": {},
   "source": [
    "반면에 아래 `mainloop()` 메서드는 도화지가 `X` 버튼이 눌릴 때까지 사라지지 않도록 한다.\n",
    "\n",
    "```python\n",
    "wn.mainloop()\n",
    "```"
   ]
  },
  {
   "cell_type": "markdown",
   "metadata": {},
   "source": [
    "**거북이 객체: `Turtle` 클래스의 인스턴스**"
   ]
  },
  {
   "cell_type": "markdown",
   "metadata": {},
   "source": [
    "`turtle` 모듈에서 정의된 `Turtle` 클래스의 인스턴스를 하나 생성해서 `bob` 변수에 할당한다.\n",
    "`Turtle` 클래스의 인스턴스는 아래 그림의 화살촉 모양처럼 선을 그리는 펜 역할을 수행하는 객체에 해당한다.\n",
    "\n",
    "```python\n",
    "bob = turtle.Turtle()\n",
    "```"
   ]
  },
  {
   "cell_type": "markdown",
   "metadata": {},
   "source": [
    "<div align=\"center\" border=\"1px\"><img src=\"https://raw.githubusercontent.com/codingalzi/pybook/master/jupyter-book/images/turtle01b-1.png\" width=\"500\"/></div>"
   ]
  },
  {
   "cell_type": "markdown",
   "metadata": {},
   "source": [
    "**거북이 객체 메서드**"
   ]
  },
  {
   "cell_type": "markdown",
   "metadata": {},
   "source": [
    "거북이 객체의 `forward()` 메서드는 펜이 가리 가리키는 방향으로 이동하면서 선을 그리도록 한다.\n",
    "아래 코드는 100만큼 전진시키면서 선을 긋도록 한다.\n",
    "\n",
    "```python\n",
    "bob.forward(100)\n",
    "```"
   ]
  },
  {
   "cell_type": "markdown",
   "metadata": {},
   "source": [
    "<div align=\"center\" border=\"1px\"><img src=\"https://raw.githubusercontent.com/codingalzi/pybook/master/jupyter-book/images/turtle01c-1.png\" width=\"500\"/></div>"
   ]
  },
  {
   "cell_type": "markdown",
   "metadata": {},
   "source": [
    "거북이 객체의 `left()` 메서드는 또한 펜이 가리키는 방향을 기준으로 반시계 방향으로 지정된 각도만큼 회전시킨다.\n",
    "아래 코드는 펜이 가리키는 방향을 90도 반시계 방향으로 회전시킨다.\n",
    "단 이동은 하지 않는다.\n",
    "\n",
    "```python\n",
    "bob.left(90)\n",
    "```"
   ]
  },
  {
   "cell_type": "markdown",
   "metadata": {},
   "source": [
    "<div align=\"center\" border=\"1px\"><img src=\"https://raw.githubusercontent.com/codingalzi/pybook/master/jupyter-book/images/turtle01d-1.png\" width=\"500\"/></div>"
   ]
  },
  {
   "cell_type": "markdown",
   "metadata": {},
   "source": [
    "사각형을 그리기 위해 거북이 객체가 전진과 회전을 총 4번 반복하도록 한다."
   ]
  },
  {
   "cell_type": "markdown",
   "metadata": {},
   "source": [
    "```python\n",
    "for _ in range(4):\n",
    "    bob.forward(100)\n",
    "    bob.left(90)\n",
    "```"
   ]
  },
  {
   "cell_type": "markdown",
   "metadata": {},
   "source": [
    "거북이 객체의 보다 다양한 메서드에 대해서는 {numref}`%s장 <ch:turtle-graphics>`을 참고한다."
   ]
  },
  {
   "cell_type": "markdown",
   "metadata": {},
   "source": [
    "## 객체의 독립성"
   ]
  },
  {
   "cell_type": "markdown",
   "metadata": {},
   "source": [
    "클래스의 인스턴스로 생성된 객체들은 기본적으로 상호 독립적이다.\n",
    "하지만 두 객체 사이의 상호 교감이 가능한 경우도 있다.\n",
    "객체 지향 프로그래밍은 객체 각각이 수행하는 기능과 \n",
    "객체들 사이의 교감을 활용하는 프로그램 기법을 의미한다.\n",
    "\n",
    "여기서는 거북이 객체를 두 개를 상호 독립적으로 활용하는 방법을 소개한다.\n",
    "객체들 사이의 교감을 구현하는 방식은 {numref}`%s장 <ch:classes_instances_objects>`에서 다룬다."
   ]
  },
  {
   "cell_type": "markdown",
   "metadata": {},
   "source": [
    "**예제 1**"
   ]
  },
  {
   "cell_type": "markdown",
   "metadata": {},
   "source": [
    "아래 코드를 실행하면 두 개의 거북이 객체에 의해 검정 사각형 빨강 삼각형이 도화지 위에 그려진다.\n",
    "\n",
    "참고: [(레플릿) 네모-세모](https://replit.com/@codingalzi/ooptrisquare)에서 코드 실행 가능"
   ]
  },
  {
   "cell_type": "markdown",
   "metadata": {},
   "source": [
    "```python\n",
    "import turtle\n",
    "\n",
    "wn = turtle.Screen()\n",
    "wn.title(\"Hello, Bob and Alice!\")\n",
    "\n",
    "# bob 으로 사각형 그리기\n",
    "bob = turtle.Turtle()\n",
    "\n",
    "for _ in range(4):\n",
    "    bob.forward(100)\n",
    "    bob.left(90)\n",
    "\n",
    "# alice로 삼각형 그리기\n",
    "alice = turtle.Turtle()\n",
    "\n",
    "alice.shape(\"turtle\")\n",
    "alice.color(\"red\")\n",
    "\n",
    "alice.penup()\n",
    "alice.backward(100)\n",
    "alice.pendown()\n",
    "\n",
    "for _ in range(3):\n",
    "    alice.forward(100)\n",
    "    alice.right(120) \n",
    "\n",
    "wn.mainloop()\n",
    "```"
   ]
  },
  {
   "cell_type": "markdown",
   "metadata": {},
   "source": [
    "<div align=\"center\" border=\"1px\"><img src=\"https://raw.githubusercontent.com/codingalzi/pybook/master/jupyter-book/images/turtle06-1.png\" width=\"500\"/></div>"
   ]
  },
  {
   "cell_type": "markdown",
   "metadata": {},
   "source": [
    "위 코드에서 `bob`과 `alice` 모두 `Turtle` 클래스의 인스턴스를 가리킨다.\n",
    "`alice`가 가리키는 거북이 객체는 `bob`의 경우와 다르게 다음 두 메서드에 의해 \n",
    "빨강 거북이로 변형된 후에 시계 방향으로 회전하면서 삼각형을 그린다.\n",
    "\n",
    "-  `shape()` 메서드: 거북이 객체의 모양 지정\n",
    "- `color()` 메서드: 거북이 객체의 색 지정. 이동할 때 그려지는 선의 색도 함께 변경됨\n",
    "- `right()` 메서드: 거북이 객체가 바라보는 방향을 기준으로 시계 방향으로 지정된 각도만큼 회전"
   ]
  },
  {
   "cell_type": "markdown",
   "metadata": {},
   "source": [
    "**예제 2**"
   ]
  },
  {
   "cell_type": "markdown",
   "metadata": {},
   "source": [
    "아래 코드를 실행하면 두 개의 거북이 객체에 의해 파랑 회오리와 빨강 회오리가 그려진다.\n",
    "새로이 사용된 메서드는 다음과 같다.\n",
    "\n",
    "- `bgcolor()`: 스크린 객체인 도화지의 바탕화면 색 지정\n",
    "- `penup()`: 거북이 객체의 선 그리기 기능 해제\n",
    "- `stamp()`: 거북이 객체의 모양 도장 찍기\n",
    "\n",
    "참고: [(레플릿) 도장찍기](https://replit.com/@codingalzi/oopstamp)에서 코드 실행 가능"
   ]
  },
  {
   "cell_type": "markdown",
   "metadata": {},
   "source": [
    "```python\n",
    "import turtle\n",
    "\n",
    "wn = turtle.Screen()\n",
    "wn.bgcolor(\"lightyellow\")\n",
    "\n",
    "colors = ['blue', 'red']\n",
    "\n",
    "for i in range(2):\n",
    "    step = 20\n",
    "    angle = 40\n",
    "\n",
    "    t = turtle.Turtle()\n",
    "    t.shape(\"turtle\")\n",
    "    t.color(colors[i])\n",
    "    t.penup()\n",
    "\n",
    "    t.forward(step * i)\n",
    "    for _ in range(26):\n",
    "       t.stamp() \n",
    "       step = step + 5\n",
    "       t.forward(step) \n",
    "       t.right(angle)\n",
    "    \n",
    "wn.mainloop()\n",
    "```"
   ]
  },
  {
   "cell_type": "markdown",
   "metadata": {},
   "source": [
    "<div align=\"center\" border=\"1px\"><img src=\"https://raw.githubusercontent.com/codingalzi/pybook/master/jupyter-book/images/turtle03.png\" width=\"500\"/></div>"
   ]
  },
  {
   "cell_type": "markdown",
   "metadata": {},
   "source": [
    "## 필수 예제"
   ]
  },
  {
   "cell_type": "markdown",
   "metadata": {},
   "source": [
    "참고: [(필수 예제) 객체 지향 프로그래밍](https://colab.research.google.com/github/codingalzi/pybook/blob/master/examples/examples-oop.ipynb)"
   ]
  },
  {
   "cell_type": "markdown",
   "metadata": {},
   "source": [
    "## 연습문제 "
   ]
  },
  {
   "cell_type": "markdown",
   "metadata": {},
   "source": [
    "참고: [(연습) 객체 지향 프로그래밍](https://colab.research.google.com/github/codingalzi/pybook/blob/master/practices/practice-oop.ipynb)"
   ]
  }
 ],
 "metadata": {
  "kernelspec": {
   "display_name": "Python 3 (ipykernel)",
   "language": "python",
   "name": "python3"
  },
  "language_info": {
   "codemirror_mode": {
    "name": "ipython",
    "version": 3
   },
   "file_extension": ".py",
   "mimetype": "text/x-python",
   "name": "python",
   "nbconvert_exporter": "python",
   "pygments_lexer": "ipython3",
   "version": "3.11.4"
  }
 },
 "nbformat": 4,
 "nbformat_minor": 2
}
