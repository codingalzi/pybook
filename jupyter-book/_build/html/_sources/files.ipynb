{
  "cells": [
    {
      "cell_type": "markdown",
      "metadata": {
        "id": "Tlfd5PA8VEm0"
      },
      "source": [
        "(ch:files)=\n",
        "# 파일"
      ]
    },
    {
      "cell_type": "markdown",
      "metadata": {
        "id": "M_hA776YVEm4"
      },
      "source": [
        "열 명의 5미터 다이빙 경기의 점수를 저장한 텍스트 파일에서\n",
        "필요한 정보를 추출하는 과정을 살펴본다.\n",
        "파일의 내용은 다음과 같이 첫째 줄엔 '이름'과 '점수'라는 구분이 표시되어 있으며,\n",
        "둘째 줄부터 총 열 명의 이름과 점수가 기록되어 있다.\n",
        "이름과 점수는 공백<font size='2'>space</font>로 구분된다.\n",
        "\n",
        "```\n",
        "이름  점수\n",
        "권준기  7.13\n",
        "김세윤  8.55\n",
        "나진서  9.02\n",
        "마동탁  8.35\n",
        "서길석  7.86\n",
        "이준용  8.17\n",
        "이차승  9.33\n",
        "차승연  7.11\n",
        "표방호  8.57\n",
        "한석준  8.93\n",
        "```"
      ]
    },
    {
      "cell_type": "markdown",
      "metadata": {
        "id": "XM2hw3jMVEm5"
      },
      "source": [
        "## 파일의 종류와 경로"
      ]
    },
    {
      "cell_type": "markdown",
      "metadata": {
        "id": "p2QVi6kVVEm5"
      },
      "source": [
        "**텍스트 파일과 바이너리 파일**\n",
        "\n",
        "파일은 **텍스트**<font size='2'>text</font> 파일과\n",
        "**바이너리**<font size='2'>binary</font> 파일 두 가지로 나뉜다.\n",
        "\n",
        "바이너리 파일은 한컴 오피스의 한글 파일, MS 워드 파일과 파워포인트 파일,\n",
        "jpg, png, gif 등의 사진 파일 등 특정 소프트웨어를 사용해야만\n",
        "내용을 확인할 수 있는 파일이다.\n",
        "그리고 exe 확장자를 갖는 앱 설치 파일 등도 바이너리 파일이다.\n",
        "\n",
        "반면에 텍스트 파일은 내용을 확인하기 위해 특별한 기능이 필요 없고\n",
        "임의의 텍스트 편집기로 내용을 바로 확인할 수 있다.\n",
        "예를 들어 파이썬 편집기로 열 수도 있다.\n",
        "여기서는 텍스트 파일만을 대상으로 파일 다운로드, 열기, 수정하기 등을 살펴본다."
      ]
    },
    {
      "cell_type": "markdown",
      "metadata": {
        "id": "2QNq9qcoVEm6"
      },
      "source": [
        "**디렉토리와 폴더**\n",
        "\n",
        "디렉토리<font size='2'>directory</font>와 폴더<font size='2'>folder</font>는 동일한 개념이다.\n",
        "다만 리눅스 계열 운영체제에서는 디렉토리를, 윈도우 운영체제에서는 폴더를 선호한다.\n",
        "그리고 리눅스 계열 운영체제에서는 디렉토리를 파일이라고 부르기도 한다.\n",
        "하지만 여기서는 디렉토리를 폴더 개념으로만 사용하며 파일과는 구분한다."
      ]
    },
    {
      "cell_type": "markdown",
      "metadata": {
        "id": "9VN8HNLrVEm6"
      },
      "source": [
        "**경로**\n",
        "\n",
        "경로는 특정 디렉토리 또는 파일의 위치를 나타내는 문자열이다.\n",
        "사용하는 운영체제마다 표현 방법이 다르기에 조심해야 한다.\n",
        "예를 들어 현재 파이썬 코드가 실행되는 디렉토리의 경로는\n",
        "리눅스와 윈도우의 경우 다음과 같이 다르게 표현된다.\n",
        "\n",
        "- 리눅스의 경우: '/home/gslee/Documents/GitHub/pybook/jupyter-book'\n",
        "- 윈도우의 경우: 'C:&#8361;Users&#8361;gslee&#8361;Documents&#8361;GitHub&#8361;pybook&#8361;jupyter-book'\n",
        "\n",
        "하지만 `pathlib` 모듈의 `Path` 자료형을 이용하면 운영체제를 신경쓰지 않고 경로를 다룰 수 있다."
      ]
    },
    {
      "cell_type": "markdown",
      "metadata": {
        "id": "szGRJcjcVEm7"
      },
      "source": [
        "**현재 작업 디렉토리**\n",
        "\n",
        "보통 `cwd` 라고 줄여서 사용되는 **현재 작업 디렉토리**<font size='2'>current working directory</font>는\n",
        "현재 파이썬이 실행되는 디렉토리를 가리킨다.\n",
        "현재 작업 디렉토리를 다음과 같이 확인할 수 있다."
      ]
    },
    {
      "cell_type": "code",
      "execution_count": 1,
      "metadata": {
        "id": "c7ggukF3VEm7",
        "outputId": "25067d41-eecd-4a3d-afb6-fcd2480afeb6",
        "colab": {
          "base_uri": "https://localhost:8080/",
          "height": 36
        }
      },
      "outputs": [
        {
          "output_type": "execute_result",
          "data": {
            "text/plain": [
              "'/content'"
            ],
            "application/vnd.google.colaboratory.intrinsic+json": {
              "type": "string"
            }
          },
          "metadata": {},
          "execution_count": 1
        }
      ],
      "source": [
        "import os\n",
        "\n",
        "os.getcwd()"
      ]
    },
    {
      "cell_type": "markdown",
      "metadata": {
        "id": "agywq903VEm9"
      },
      "source": [
        "**절대경로와 상대경로**\n",
        "\n",
        "앞서 언급한 두 개의 경로는\n",
        "운영체제의 맨 상위 디렉토리를 기준으로 하는 경로라는 의미에서 **절대경로**라 부른다.\n",
        "반면에 **상대경로**는 현재 작업 디렉토리(cwd)를 기준으로 경로를 작성한다.\n",
        "만약에 cwd가 `Documents` 라면, 위 두 개의 경로의 상대경로는 다음과 같다.\n",
        "\n",
        "- 리눅스의 경우: 'GitHub/pybook/jupyter-book'\n",
        "- 윈도우의 경우: 'GitHub&#8361;pybook&#8361;jupyter-book'\n",
        "\n",
        "아래와 같이 사용할 수 있다. 점(`.`)이 현재 작업 디렉토리를 가리킨다.\n",
        "\n",
        "- 리눅스의 경우: './GitHub/pybook/jupyter-book'\n",
        "- 윈도우의 경우: '.&#8361;GitHub&#8361;pybook&#8361;jupyter-book'"
      ]
    },
    {
      "cell_type": "markdown",
      "metadata": {
        "id": "TGBAiR5hVEm9"
      },
      "source": [
        "## 파일 준비"
      ]
    },
    {
      "cell_type": "markdown",
      "metadata": {
        "id": "Dyi6vyP2VEm-"
      },
      "source": [
        "먼저 위에서 언급된 파일을 다운 받아서 파이썬 코딩을 실습하는 디렉토리에 저장한다.\n",
        "여기서는 `data`라는 하위디렉토리에 `results5m.txt`라는 파일로 저장한다."
      ]
    },
    {
      "cell_type": "markdown",
      "metadata": {
        "id": "MMGlDIzBVEm-"
      },
      "source": [
        "**`pathlib.Path` 클래스: 디렉토리 지정**\n",
        "\n",
        "파일을 저장할 디렉토리를 지정한다.\n",
        "이를 위해 `pathlib` 모듈의 `Path` 클래스를 이용한다.\n",
        "`Path` 클래스는 지정된 디렉토리 또는 파일의 경로를 담은 객체를 생성한다.\n",
        "\n",
        "- `Path()` : 현재 작업 디렉토리를 나타내는 객체. `Path('.')` 과 동일한 의미임.\n",
        "- 슬래시 연산자 `/`: 두 개의 경로를 이어붙히는 연산자. 왼쪽 인자는 `Path` 객체, 둘째 인자는 문자열."
      ]
    },
    {
      "cell_type": "code",
      "execution_count": 2,
      "metadata": {
        "id": "krp2UEOqVEm-"
      },
      "outputs": [],
      "source": [
        "from pathlib import Path\n",
        "\n",
        "data_path = Path() / \"data\""
      ]
    },
    {
      "cell_type": "markdown",
      "metadata": {
        "id": "nqVCeNVhVEm-"
      },
      "source": [
        "`Path` 객체는 다양한 정보를 다루는 메서드와 속성을 제공한다.\n",
        "예를 들어, 현재 작업 디렉토리(cwd)의 경로를 확인하려면 `cwd()` 메서드를 실행한다."
      ]
    },
    {
      "cell_type": "code",
      "execution_count": 3,
      "metadata": {
        "id": "MOHwyQOcVEm_",
        "outputId": "7155539c-6831-46f7-d747-6cf109ac2743",
        "colab": {
          "base_uri": "https://localhost:8080/"
        }
      },
      "outputs": [
        {
          "output_type": "execute_result",
          "data": {
            "text/plain": [
              "PosixPath('/content')"
            ]
          },
          "metadata": {},
          "execution_count": 3
        }
      ],
      "source": [
        "data_path.cwd()"
      ]
    },
    {
      "cell_type": "markdown",
      "metadata": {
        "id": "fzOOyaIOVEm_"
      },
      "source": [
        "`name` 속성은 경로가 가리키는 디렉토리 또는 파일 이름을 가리킨다."
      ]
    },
    {
      "cell_type": "code",
      "execution_count": 4,
      "metadata": {
        "id": "MLe6q_VNVEm_",
        "outputId": "adb93dfe-a0be-4c17-babc-7a793b1031e9",
        "colab": {
          "base_uri": "https://localhost:8080/",
          "height": 36
        }
      },
      "outputs": [
        {
          "output_type": "execute_result",
          "data": {
            "text/plain": [
              "'data'"
            ],
            "application/vnd.google.colaboratory.intrinsic+json": {
              "type": "string"
            }
          },
          "metadata": {},
          "execution_count": 4
        }
      ],
      "source": [
        "data_path.name"
      ]
    },
    {
      "cell_type": "markdown",
      "metadata": {
        "id": "Rxvqi-aIVEm_"
      },
      "source": [
        "`parent` 속성은 지정된 경로가 가리키는 디렉토리 또는 파일이 저장된 부모 디렉토리의 이름을 가리킨다.\n",
        "`data_path` 가 현재 디렉토리의 하위 디렉토리인 `data`를 가리키기에\n",
        "그것의 부모 디렉토리인 현재 디렉토리를 가리키는 점(`'.'`) 이 저장된다."
      ]
    },
    {
      "cell_type": "code",
      "execution_count": 5,
      "metadata": {
        "id": "xTYWxIO2VEnA",
        "outputId": "9a570942-fc95-42e8-a68f-0e4b56e1ac26",
        "colab": {
          "base_uri": "https://localhost:8080/"
        }
      },
      "outputs": [
        {
          "output_type": "execute_result",
          "data": {
            "text/plain": [
              "PosixPath('.')"
            ]
          },
          "metadata": {},
          "execution_count": 5
        }
      ],
      "source": [
        "data_path.parent"
      ]
    },
    {
      "cell_type": "markdown",
      "metadata": {
        "id": "L1Wi82wBVEnA"
      },
      "source": [
        "**`Path.mkdir()` 메서드: 디렉토리 생성**\n",
        "\n",
        "`Path` 객체의 `mkdir()` 메서드를 이용하여 지정된 경로에 해당하는 디렉토리를 실제 생성한다.\n",
        "다음 두 개의 옵션 인자를 사용한다.\n",
        "\n",
        "- `parent=True`: 부모 디렉토리가 필요하면 생성할 것. 즉, 파일이 여러 개의 중첩된 폴더 안에 위치하는 경우 사용.\n",
        "- `exist_ok = True`: 디렉토리가 이미 존재하면 그대로 사용할 것. 지정된 디렉토리가 이미 존재하는데 `False`로 설정하면 오류 발생."
      ]
    },
    {
      "cell_type": "code",
      "execution_count": 6,
      "metadata": {
        "id": "IRhOZs81VEnA"
      },
      "outputs": [],
      "source": [
        "data_path.mkdir(parents=True, exist_ok=True)"
      ]
    },
    {
      "cell_type": "markdown",
      "metadata": {
        "id": "a6yJ5ryjVEnA"
      },
      "source": [
        "**`urllib.request.urlretrieve()` 함수: 파일 다운로드**\n",
        "\n",
        "인터넷에 존재하는 파일의 복사본을 지정된 이름으로 다운로드한다.\n",
        "이를 위해 `urllib.request` 모듈의 `urlretrieve()` 함수를 이용한다.\n",
        "\n",
        "- 첫째 인자: 다운로드할 파일 주소\n",
        "- 둘째 인자: 저장할 디렉토리와 파일명으로 구성된 경로\n",
        "- 반환값: 저장된 파일의 경로와 다운로드에 사용된 HTTP 정보로 구성된 튜플.\n",
        "    파일 경로에 표시되는 `PosixPath` 또는 `WindowsPath` 는\n",
        "    각각 리눅스 계열 방식의 경로와 윈도우 방식의 경로를 가리키며\n",
        "    사용하는 운영체제에 따라 결정됨."
      ]
    },
    {
      "cell_type": "code",
      "execution_count": 7,
      "metadata": {
        "id": "kYEBltzHVEnA",
        "outputId": "b988d3cb-cdd7-4ff3-a2ea-0cc0313ddff6",
        "colab": {
          "base_uri": "https://localhost:8080/"
        }
      },
      "outputs": [
        {
          "output_type": "execute_result",
          "data": {
            "text/plain": [
              "(PosixPath('data/results5m.txt'), <http.client.HTTPMessage at 0x78af56919d80>)"
            ]
          },
          "metadata": {},
          "execution_count": 7
        }
      ],
      "source": [
        "from urllib.request import urlretrieve\n",
        "\n",
        "# 파일 서버 기본 주소\n",
        "base_url = \"https://raw.githubusercontent.com/codingalzi/pybook/master/jupyter-book/data/\"\n",
        "# 파일명\n",
        "file_name_5m = \"results5m.txt\"\n",
        "# 파일 주소 전체\n",
        "file_url_5m = base_url + file_name_5m\n",
        "\n",
        "# 저장위치와 저장 파일명\n",
        "target_path_5m = data_path / \"results5m.txt\"\n",
        "\n",
        "# 다운로드와 저장 실행\n",
        "urlretrieve(file_url_5m, target_path_5m)"
      ]
    },
    {
      "cell_type": "markdown",
      "metadata": {
        "id": "heFiYdkEVEnB"
      },
      "source": [
        "**파일 다운로드 함수**\n",
        "\n",
        "앞으로 파일의 이름만 달리하면서 동일한 웹 사이트에서 여러 파일을 다운로드 할 것이다.\n",
        "따라서 다운로드할 파일의 이름만 지정하면 지정된 경로에 동일한 이름으로\n",
        "다운로드하여 저장하는 함수를 선언하는 것이 좋다.\n",
        "\n",
        "아래 `myWget()` 함수의 인자는 다운로드할 파일명을 사용할 것이기에 위 코드에서 파일명을 제외한\n",
        "나머지는 거의 동일하게 사용된다."
      ]
    },
    {
      "cell_type": "code",
      "execution_count": 8,
      "metadata": {
        "id": "GSmm9LIjVEnB"
      },
      "outputs": [],
      "source": [
        "def myWget(filename):\n",
        "    # 다운로드 대상 파일 경로\n",
        "    file_url = base_url + filename\n",
        "\n",
        "    # 저장위치 지정과 생성\n",
        "    data_path = Path() / \"data\"\n",
        "    data_path.mkdir(parents=True, exist_ok=True)\n",
        "\n",
        "    # 저장 경로와 파일명\n",
        "    target_path = data_path / filename\n",
        "\n",
        "    return urlretrieve(file_url, target_path)"
      ]
    },
    {
      "cell_type": "markdown",
      "metadata": {
        "id": "yu21SPrUVEnB"
      },
      "source": [
        "앞서의 긴 코드가 다음 한 줄 코드로 대체된다."
      ]
    },
    {
      "cell_type": "code",
      "execution_count": 9,
      "metadata": {
        "id": "V-OnZnoGVEnB",
        "outputId": "1cdb9701-fc74-4bbc-fdbc-804d8b6f26b0",
        "colab": {
          "base_uri": "https://localhost:8080/"
        }
      },
      "outputs": [
        {
          "output_type": "execute_result",
          "data": {
            "text/plain": [
              "(PosixPath('data/results5m.txt'), <http.client.HTTPMessage at 0x78af5691ab00>)"
            ]
          },
          "metadata": {},
          "execution_count": 9
        }
      ],
      "source": [
        "myWget(\"results5m.txt\")"
      ]
    },
    {
      "cell_type": "markdown",
      "metadata": {
        "id": "sNoMRMUOVEnB"
      },
      "source": [
        "**`open()` 함수: 저장된 파일 불러오기**"
      ]
    },
    {
      "cell_type": "markdown",
      "metadata": {
        "id": "Gxd4gXrEVEnC"
      },
      "source": [
        "컴퓨터에 저장된 파일을 활용하려면 먼저 파일 객체로 불러와야 한다.\n",
        "가장 기본적인 방식으로 `open()` 함수를 이용하여\n",
        "불러온 파일 객체를 변수에 할당한다.\n",
        "\n",
        "```python\n",
        "f = open(파일경로)\n",
        "```\n",
        "\n",
        "다운로드가 잘못 되었거나 다른 곳에 저장되어 있다면 오류가 발생한다.\n",
        "따라서 코드의 안전할 실행을 위해 많은 경우 다음처럼 `try-except` 명령문을\n",
        "이용하여 예외처리를 하기도 한다.\n",
        "`FileNotFoundError` 는 지정된 파일이 존재하지 않을 때 발생하는 오류를 가리킨다.\n",
        "\n",
        "```python\n",
        "try:\n",
        "    f = open(파일경로)\n",
        "except FileNotFoundError:\n",
        "    print(\"열고자 하는 파일이 존재하지 않습니다.\")\n",
        "```\n",
        "\n",
        "하지만 여기서는 그냥 간단한 버전을 사용한다."
      ]
    },
    {
      "cell_type": "code",
      "execution_count": 10,
      "metadata": {
        "id": "wUQS-5AWVEnC"
      },
      "outputs": [],
      "source": [
        "f = open(target_path_5m, encoding='utf-8')"
      ]
    },
    {
      "cell_type": "markdown",
      "metadata": {
        "id": "AFQRVfdDVEnC"
      },
      "source": [
        "위 코드에서 `encoding='utf-8'`은 한글, 스페인어 등 영어에서 사용하지 않는 특수 문자를 사용하는 언어로\n",
        "작성된 문서를 불러올 때 사용한다."
      ]
    },
    {
      "cell_type": "markdown",
      "metadata": {
        "id": "xN6H2fV1VEnC"
      },
      "source": [
        "**파일 내용 확인**"
      ]
    },
    {
      "cell_type": "markdown",
      "metadata": {
        "id": "qzTSV07rVEnC"
      },
      "source": [
        "`f` 변수가 가리키는 값의 자료형은 `_io.TextIOWrapper` 라는\n",
        "이름도 생소한 자료형이다."
      ]
    },
    {
      "cell_type": "code",
      "execution_count": 11,
      "metadata": {
        "id": "nwmQ7HwfVEnC",
        "outputId": "d0eac297-a28a-4fb6-f96d-940a81b6a719",
        "colab": {
          "base_uri": "https://localhost:8080/"
        }
      },
      "outputs": [
        {
          "output_type": "execute_result",
          "data": {
            "text/plain": [
              "_io.TextIOWrapper"
            ]
          },
          "metadata": {},
          "execution_count": 11
        }
      ],
      "source": [
        "type(f)"
      ]
    },
    {
      "cell_type": "markdown",
      "metadata": {
        "id": "sbRL6VUZVEnD"
      },
      "source": [
        "자료형은 전혀 중요하지 않다.\n",
        "대신 파일에 저장된 내용을 확인하려면 아래와 같이 `for` 반복문을\n",
        "사용해야 한다는 점은 기억해야 한다."
      ]
    },
    {
      "cell_type": "code",
      "execution_count": 12,
      "metadata": {
        "id": "B7IDzbVNVEnD",
        "outputId": "b05d0da0-6df6-4652-de30-77b4518949e6",
        "colab": {
          "base_uri": "https://localhost:8080/"
        }
      },
      "outputs": [
        {
          "output_type": "stream",
          "name": "stdout",
          "text": [
            "이름  점수\n",
            "\n",
            "권준기  7.13\n",
            "\n",
            "김세윤  8.55\n",
            "\n",
            "나진서  9.02\n",
            "\n",
            "마동탁  8.35\n",
            "\n",
            "서길석  7.86\n",
            "\n",
            "이준용  8.17\n",
            "\n",
            "이차승  9.33\n",
            "\n",
            "차승연  7.11\n",
            "\n",
            "표방호  8.57\n",
            "\n",
            "한석준  8.93\n"
          ]
        }
      ],
      "source": [
        "for line in f:                   # 한줄씩 내용 출력하기\n",
        "    print(line)"
      ]
    },
    {
      "cell_type": "markdown",
      "metadata": {
        "id": "AIadM9WDVEnD"
      },
      "source": [
        "불러온 파일 객체는 한 번만 사용할 수 있는 {ref}`이터레이터 <sec:iterators>`다."
      ]
    },
    {
      "cell_type": "code",
      "execution_count": 13,
      "metadata": {
        "id": "Eqouuf-wVEnD",
        "outputId": "49c56fd8-26c8-47dc-df20-9715a5415769",
        "colab": {
          "base_uri": "https://localhost:8080/"
        }
      },
      "outputs": [
        {
          "output_type": "execute_result",
          "data": {
            "text/plain": [
              "True"
            ]
          },
          "metadata": {},
          "execution_count": 13
        }
      ],
      "source": [
        "from collections.abc import Iterator\n",
        "\n",
        "isinstance(f, Iterator)"
      ]
    },
    {
      "cell_type": "markdown",
      "metadata": {
        "id": "cHIs2nCyVEnD"
      },
      "source": [
        "`for` 반복문을 다시 실행하면 더 이상 보여주는 게 없다.\n",
        "이유는 이터레이터의 내용을 모두 보여줬기 때문이다."
      ]
    },
    {
      "cell_type": "code",
      "execution_count": 14,
      "metadata": {
        "id": "nNIZKvdrVEnI"
      },
      "outputs": [],
      "source": [
        "for line in f:\n",
        "    print(line)"
      ]
    },
    {
      "cell_type": "markdown",
      "metadata": {
        "id": "VDR1CKImVEnI"
      },
      "source": [
        "따라서 불러온 파일을 다 사용했으면 닫아 주어야 한다.\n",
        "그렇지 않으면 파일에 의도치 않은 수정이 가해질 수 있다."
      ]
    },
    {
      "cell_type": "code",
      "execution_count": 15,
      "metadata": {
        "id": "eblCYzFdVEnJ"
      },
      "outputs": [],
      "source": [
        "f.close()"
      ]
    },
    {
      "cell_type": "markdown",
      "metadata": {
        "id": "Jer6v0vpVEnJ"
      },
      "source": [
        "**`with-as` 키워드 활용**\n",
        "\n",
        "파일을 불러오고 할 일을 다하면 파일 닫기를 자동으로 처리하는 다음 방식으로 진행하는 것이 권장된다."
      ]
    },
    {
      "cell_type": "code",
      "execution_count": 16,
      "metadata": {
        "id": "8gfWxDMUVEnJ",
        "outputId": "ef30ce0d-b86b-4a41-a1b6-3a19aadbcc45",
        "colab": {
          "base_uri": "https://localhost:8080/"
        }
      },
      "outputs": [
        {
          "output_type": "stream",
          "name": "stdout",
          "text": [
            "이름  점수\n",
            "\n",
            "권준기  7.13\n",
            "\n",
            "김세윤  8.55\n",
            "\n",
            "나진서  9.02\n",
            "\n",
            "마동탁  8.35\n",
            "\n",
            "서길석  7.86\n",
            "\n",
            "이준용  8.17\n",
            "\n",
            "이차승  9.33\n",
            "\n",
            "차승연  7.11\n",
            "\n",
            "표방호  8.57\n",
            "\n",
            "한석준  8.93\n"
          ]
        }
      ],
      "source": [
        "with open(target_path_5m) as f:\n",
        "    for line in f:\n",
        "        print(line)"
      ]
    },
    {
      "cell_type": "markdown",
      "metadata": {
        "id": "79E9MjGVVEnJ"
      },
      "source": [
        "**줄 간격 조절**"
      ]
    },
    {
      "cell_type": "markdown",
      "metadata": {
        "id": "6wu98eYaVEnJ"
      },
      "source": [
        "줄 간격이 넓은 이유는 파일을 작성하면서 줄바꾸기를 할 때 사용하는 엔터에 의해 줄바꾸기 기호(`\\n`)가\n",
        "각 줄의 맨 끝에 포함되어 있기 때문이다.\n",
        "`print()` 함수 자체가 출력할 때마다 기본적으로 줄바꿈을 수행하기에 이로 인해\n",
        "결국 줄바꿈이 두 번 이뤄진다.\n",
        "\n",
        "줄바꾸기를 한 번 더 하는 것을 방지하기 위해서 문자열 자료형의 `strip()` 메소드를 활용하여\n",
        "문자열의 양 끝에 있는 공백과 줄바꿈 기호를 없앨 수도 있다.\n",
        "그리고 `mode='r'` 옵션인자를 이용하여 읽기 모드임을 명시하는 게 좋다.\n",
        "\n",
        "언급한 것을 모두 반영하여 파일을 불러오고 내용을 확인하는 코드는 다음과 같다."
      ]
    },
    {
      "cell_type": "code",
      "execution_count": 17,
      "metadata": {
        "id": "3qOYN1SCVEnK",
        "outputId": "08d3ddd9-456e-4df0-f826-c124edb787e3",
        "colab": {
          "base_uri": "https://localhost:8080/"
        }
      },
      "outputs": [
        {
          "output_type": "stream",
          "name": "stdout",
          "text": [
            "이름  점수\n",
            "권준기  7.13\n",
            "김세윤  8.55\n",
            "나진서  9.02\n",
            "마동탁  8.35\n",
            "서길석  7.86\n",
            "이준용  8.17\n",
            "이차승  9.33\n",
            "차승연  7.11\n",
            "표방호  8.57\n",
            "한석준  8.93\n"
          ]
        }
      ],
      "source": [
        "with open(target_path_5m, mode='r') as f:\n",
        "    for line in f:\n",
        "        print(line.strip())"
      ]
    },
    {
      "cell_type": "markdown",
      "metadata": {
        "id": "SgYpUcr0VEnK"
      },
      "source": [
        "**`read()`, `readline()`, `readlines()` 메서드**\n",
        "\n",
        "`read()` 메서드는 파일 내용을 전체를 하나의 문자열로 불러온다."
      ]
    },
    {
      "cell_type": "code",
      "execution_count": 18,
      "metadata": {
        "id": "VQUZcy0JVEnK",
        "outputId": "c45528b7-abb3-4926-dd63-926a01f43432",
        "colab": {
          "base_uri": "https://localhost:8080/",
          "height": 36
        }
      },
      "outputs": [
        {
          "output_type": "execute_result",
          "data": {
            "text/plain": [
              "'이름  점수\\n권준기  7.13\\n김세윤  8.55\\n나진서  9.02\\n마동탁  8.35\\n서길석  7.86\\n이준용  8.17\\n이차승  9.33\\n차승연  7.11\\n표방호  8.57\\n한석준  8.93'"
            ],
            "application/vnd.google.colaboratory.intrinsic+json": {
              "type": "string"
            }
          },
          "metadata": {},
          "execution_count": 18
        }
      ],
      "source": [
        "with open(target_path_5m, mode='r') as f:\n",
        "    lines = f.read()\n",
        "\n",
        "lines"
      ]
    },
    {
      "cell_type": "markdown",
      "metadata": {
        "id": "liLrNKhbVEnK"
      },
      "source": [
        "`print()` 함수를 이용하면 줄바꿈 기호 등을 해석하여 보다 예쁘게 출력한다."
      ]
    },
    {
      "cell_type": "code",
      "execution_count": 19,
      "metadata": {
        "id": "m_gYm6kdVEnK",
        "outputId": "10f2f155-ac0a-485c-a3fa-4378282d7c96",
        "colab": {
          "base_uri": "https://localhost:8080/"
        }
      },
      "outputs": [
        {
          "output_type": "stream",
          "name": "stdout",
          "text": [
            "이름  점수\n",
            "권준기  7.13\n",
            "김세윤  8.55\n",
            "나진서  9.02\n",
            "마동탁  8.35\n",
            "서길석  7.86\n",
            "이준용  8.17\n",
            "이차승  9.33\n",
            "차승연  7.11\n",
            "표방호  8.57\n",
            "한석준  8.93\n"
          ]
        }
      ],
      "source": [
        "print(lines)"
      ]
    },
    {
      "cell_type": "markdown",
      "metadata": {
        "id": "k5Zn5V-MVEnL"
      },
      "source": [
        "`readline()` 메서드는 한 줄씩 반환한다. 일종의 이터레이터의 `__next__()` 메서드와 유사하다."
      ]
    },
    {
      "cell_type": "code",
      "execution_count": 20,
      "metadata": {
        "id": "SLmpXDyKVEnL",
        "outputId": "608562c6-098a-428a-8a87-837fc89a07cc",
        "colab": {
          "base_uri": "https://localhost:8080/"
        }
      },
      "outputs": [
        {
          "output_type": "stream",
          "name": "stdout",
          "text": [
            "이름  점수\n",
            "권준기  7.13\n",
            "김세윤  8.55\n",
            "나진서  9.02\n",
            "마동탁  8.35\n",
            "서길석  7.86\n",
            "이준용  8.17\n",
            "이차승  9.33\n",
            "차승연  7.11\n",
            "표방호  8.57\n",
            "한석준  8.93\n"
          ]
        }
      ],
      "source": [
        "with open(target_path_5m, mode='r') as f:\n",
        "    for _ in range(11):\n",
        "        print(f.readline().strip())"
      ]
    },
    {
      "cell_type": "markdown",
      "metadata": {
        "id": "U73iXZtyVEnL"
      },
      "source": [
        "`readlines()` 메서드는 파일 내용 전체를 리스트로 반환한한다.\n",
        "리스트의 각 항목은 한 줄씩 채워진다."
      ]
    },
    {
      "cell_type": "code",
      "execution_count": 21,
      "metadata": {
        "id": "CIXlKc51VEnL",
        "outputId": "c11e45c0-e9db-4d0a-e0f5-d5a799aa5e01",
        "colab": {
          "base_uri": "https://localhost:8080/"
        }
      },
      "outputs": [
        {
          "output_type": "execute_result",
          "data": {
            "text/plain": [
              "['이름  점수\\n',\n",
              " '권준기  7.13\\n',\n",
              " '김세윤  8.55\\n',\n",
              " '나진서  9.02\\n',\n",
              " '마동탁  8.35\\n',\n",
              " '서길석  7.86\\n',\n",
              " '이준용  8.17\\n',\n",
              " '이차승  9.33\\n',\n",
              " '차승연  7.11\\n',\n",
              " '표방호  8.57\\n',\n",
              " '한석준  8.93']"
            ]
          },
          "metadata": {},
          "execution_count": 21
        }
      ],
      "source": [
        "with open(target_path_5m, mode='r', encoding='utf-8') as f:\n",
        "    lines = f.readlines()\n",
        "\n",
        "lines"
      ]
    },
    {
      "cell_type": "code",
      "execution_count": 22,
      "metadata": {
        "id": "Y5xdruJRVEnL",
        "outputId": "4e49ed9e-ed09-432a-d720-f9c5e6f1eebf",
        "colab": {
          "base_uri": "https://localhost:8080/"
        }
      },
      "outputs": [
        {
          "output_type": "stream",
          "name": "stdout",
          "text": [
            "이름  점수\n",
            "권준기  7.13\n",
            "김세윤  8.55\n",
            "나진서  9.02\n",
            "마동탁  8.35\n",
            "서길석  7.86\n",
            "이준용  8.17\n",
            "이차승  9.33\n",
            "차승연  7.11\n",
            "표방호  8.57\n",
            "한석준  8.93\n"
          ]
        }
      ],
      "source": [
        "for line in lines:\n",
        "    print(line.strip())"
      ]
    },
    {
      "cell_type": "markdown",
      "metadata": {
        "id": "sJUN35m4VEnM"
      },
      "source": [
        "**참고: `Path.open()` 메서드**\n",
        "\n",
        "`Path` 객체의 `open()` 메서드를 이용하여 파일을 열 수도 있다.\n",
        "사용법은 기본적으로 동일하다.\n",
        "실제로 `Path` 객체의 `open()` 메서드를 호출하면 `open()` 함수가 실행된다."
      ]
    },
    {
      "cell_type": "code",
      "execution_count": 23,
      "metadata": {
        "id": "ngR1Rnd7VEnM",
        "outputId": "f266e519-4f60-400e-d8e6-15e4fbbd08ef",
        "colab": {
          "base_uri": "https://localhost:8080/"
        }
      },
      "outputs": [
        {
          "output_type": "stream",
          "name": "stdout",
          "text": [
            "이름  점수\n",
            "권준기  7.13\n",
            "김세윤  8.55\n",
            "나진서  9.02\n",
            "마동탁  8.35\n",
            "서길석  7.86\n",
            "이준용  8.17\n",
            "이차승  9.33\n",
            "차승연  7.11\n",
            "표방호  8.57\n",
            "한석준  8.93\n"
          ]
        }
      ],
      "source": [
        "with target_path_5m.open(mode='r', encoding='utf-8') as f:\n",
        "    for line in f:\n",
        "        print(line.strip())"
      ]
    },
    {
      "cell_type": "markdown",
      "metadata": {
        "id": "fJj3k_8TVEnM"
      },
      "source": [
        "**예제**"
      ]
    },
    {
      "cell_type": "markdown",
      "metadata": {
        "id": "OPK4CHMoVEnM"
      },
      "source": [
        "선수들의 5미터 다이빙 점수를 기준으로 등수를 확인해보자.\n",
        "먼저 선수 이름과 점수 사이의 관계를 담은 정보를 사전으로 선언한다."
      ]
    },
    {
      "cell_type": "code",
      "execution_count": 24,
      "metadata": {
        "id": "iGOhSttjVEnM"
      },
      "outputs": [],
      "source": [
        "# 5m 다이빙 점수 저장.\n",
        "# 키: 선수 이름\n",
        "# 값: 점수\n",
        "\n",
        "scores_5m = {}\n",
        "\n",
        "with open(target_path_5m, mode='r') as f:\n",
        "    for line in f:\n",
        "        name, s_5m = line.strip().split()  # 리스트 해체 활용\n",
        "\n",
        "        try:\n",
        "            scores_5m[name] = float(s_5m)\n",
        "        except:\n",
        "            continue"
      ]
    },
    {
      "cell_type": "markdown",
      "metadata": {
        "id": "Uc7srxQMVEnN"
      },
      "source": [
        "모든 선수의 5미터 다이빙 점수는 다음과 같다."
      ]
    },
    {
      "cell_type": "code",
      "execution_count": 25,
      "metadata": {
        "id": "lbKlqDsGVEnN",
        "outputId": "5c4e9639-4334-47f6-a674-aad722612fcc",
        "colab": {
          "base_uri": "https://localhost:8080/"
        }
      },
      "outputs": [
        {
          "output_type": "execute_result",
          "data": {
            "text/plain": [
              "{'권준기': 7.13,\n",
              " '김세윤': 8.55,\n",
              " '나진서': 9.02,\n",
              " '마동탁': 8.35,\n",
              " '서길석': 7.86,\n",
              " '이준용': 8.17,\n",
              " '이차승': 9.33,\n",
              " '차승연': 7.11,\n",
              " '표방호': 8.57,\n",
              " '한석준': 8.93}"
            ]
          },
          "metadata": {},
          "execution_count": 25
        }
      ],
      "source": [
        "scores_5m"
      ]
    },
    {
      "cell_type": "markdown",
      "metadata": {
        "id": "nENB5rMaVEnN"
      },
      "source": [
        "이제 점수 기준으로 사전을 정렬해보자.\n",
        "그런데 사전 자체는 정렬 기능을 제공하지 않는다.\n",
        "반면에 `items()` 메서드의 반환값에 대해 `sorted()` 함수를 적용한 결과를 응용할 수는 있다.\n",
        "`key` 키워드 인자를 이용해서 아이텀의 둘째 인자인 점수를 기준으로 정렬하려면\n",
        "다음과 같이 정의된 람다 함수를 지정한다."
      ]
    },
    {
      "cell_type": "code",
      "execution_count": 26,
      "metadata": {
        "id": "S5nk01e2VEnN",
        "outputId": "3d76f78f-5097-4373-a7c2-6f1076fa3fe8",
        "colab": {
          "base_uri": "https://localhost:8080/"
        }
      },
      "outputs": [
        {
          "output_type": "execute_result",
          "data": {
            "text/plain": [
              "[('이차승', 9.33),\n",
              " ('나진서', 9.02),\n",
              " ('한석준', 8.93),\n",
              " ('표방호', 8.57),\n",
              " ('김세윤', 8.55),\n",
              " ('마동탁', 8.35),\n",
              " ('이준용', 8.17),\n",
              " ('서길석', 7.86),\n",
              " ('권준기', 7.13),\n",
              " ('차승연', 7.11)]"
            ]
          },
          "metadata": {},
          "execution_count": 26
        }
      ],
      "source": [
        "sorted_scores_5m = sorted(scores_5m.items(), key = lambda item: item[1], reverse=True)\n",
        "sorted_scores_5m"
      ]
    },
    {
      "cell_type": "markdown",
      "metadata": {
        "id": "R_8uk3MPVEnN"
      },
      "source": [
        "5미터 다이빙 경기 결과는 다음과 같다."
      ]
    },
    {
      "cell_type": "code",
      "execution_count": 27,
      "metadata": {
        "id": "9LqJ2JqYVEnO",
        "outputId": "1a356831-1a93-485b-982a-eae5ea46ba5c",
        "colab": {
          "base_uri": "https://localhost:8080/"
        }
      },
      "outputs": [
        {
          "output_type": "stream",
          "name": "stdout",
          "text": [
            "5미터 다이빙 경기 결과\n",
            "\n",
            "  1등: 이차승 9.33\n",
            "  2등: 나진서 9.02\n",
            "  3등: 한석준 8.93\n",
            "  4등: 표방호 8.57\n",
            "  5등: 김세윤 8.55\n",
            "  6등: 마동탁 8.35\n",
            "  7등: 이준용 8.17\n",
            "  8등: 서길석 7.86\n",
            "  9등: 권준기 7.13\n",
            " 10등: 차승연 7.11\n"
          ]
        }
      ],
      "source": [
        "print(\"5미터 다이빙 경기 결과\\n\")\n",
        "\n",
        "count = 1\n",
        "for item in sorted_scores_5m:\n",
        "    print(f\"{count:>3}등: {item[0]} {item[1]}\")\n",
        "    count += 1"
      ]
    },
    {
      "cell_type": "markdown",
      "metadata": {
        "id": "cZk-f1MKVEnO"
      },
      "source": [
        "## 텍스트 파일 생성"
      ]
    },
    {
      "cell_type": "markdown",
      "metadata": {
        "id": "mM7DALlnVEnO"
      },
      "source": [
        "**`mode` 옵션 인자**"
      ]
    },
    {
      "cell_type": "markdown",
      "metadata": {
        "id": "5v_mRr6LVEnO"
      },
      "source": [
        "파일을 열 때 기본적으로 읽기 모드로 열린다.\n",
        "그러면 파일 내용을 읽을 수는 있지만 수정, 추가 등은 불가능하다.\n",
        "수정 및 추가 등을 지원하려면 다른 모드를 지정하고 파일을 열어야 한다.\n",
        "지원되는 모드는 다음과 같다.\n",
        "\n",
        "| 모드 옵션 | 기능 |\n",
        "| :--- | :--- |\n",
        "| 'r' | 파일 처음부터 읽기 |\n",
        "| 'r+' | 기존 파일 처음부터 읽기 및 쓰기. 기존 파일 없으면 오류 발생 |\n",
        "| 'w' | 새 파일 생성 후 쓰기 또는 기존 파일 내용 삭제 후 새로 쓰기 |\n",
        "| 'w+' | 새 파일 생성 후 쓰기 및 읽기. 기존 파일 내용 삭제 후 새로 쓰기 및 읽기 |\n",
        "| 'a' | 기존 파일 끝에 추가하기. 기존 파일 없으면 새로 생성 |\n",
        "| 'a+' | 기존 파일 끝에 추가와 읽기. 기존 파일 없으면 새로 생성 |"
      ]
    },
    {
      "cell_type": "markdown",
      "metadata": {
        "id": "t7IZdD0pVEnO"
      },
      "source": [
        "여기서는 쓰기 모드 활용법을 간단하게 살펴 본다.\n",
        "설명을 위해 10명 선수들의 5미터 다이빙 기록 이외에 아래 10미터 다이빙 기록이\n",
        "담긴 `results10m.txt` 파일을 추가로 활용한다.\n",
        "\n",
        "```\n",
        "이름  점수\n",
        "권준기  9.11\n",
        "김세윤  8.35\n",
        "나진서  7.12\n",
        "마동탁  8.65\n",
        "서길석  9.31\n",
        "이준용  8.71\n",
        "이차승  7.33\n",
        "차승연  9.11\n",
        "표방호  8.75\n",
        "한석준  8.39\n",
        "```"
      ]
    },
    {
      "cell_type": "markdown",
      "metadata": {
        "id": "_C9o_SnmVEnO"
      },
      "source": [
        "이제 아래 방식으로 5미터 기록과 10미터 기록을 함께 담은 `diving_results.txt` 파일을 생성해보자.\n",
        "\n",
        "```\n",
        "이름  5m점수  10m점수\n",
        "권준기  7.13  9.11\n",
        "김세윤  8.55  8.35\n",
        "나진서  9.02  7.12\n",
        "마동탁  8.35  8.65\n",
        "서길석  7.86  9.31\n",
        "이준용  8.17  8.71\n",
        "이차승  9.33  7.33\n",
        "차승연  7.11  9.11\n",
        "표방호  8.57  8.75\n",
        "한석준  8.93  8.39\n",
        "```"
      ]
    },
    {
      "cell_type": "markdown",
      "metadata": {
        "id": "SvVYQtS6VEnP"
      },
      "source": [
        "먼저 `results10m.txt` 파일을 `results5m.txt` 와 동일한 방식으로 다운로드하여 저장한다."
      ]
    },
    {
      "cell_type": "code",
      "execution_count": 28,
      "metadata": {
        "id": "KDHX0TaFVEnP",
        "outputId": "cc3c33fa-a914-4c26-adeb-c8c45e99ad85",
        "colab": {
          "base_uri": "https://localhost:8080/"
        }
      },
      "outputs": [
        {
          "output_type": "execute_result",
          "data": {
            "text/plain": [
              "(PosixPath('data/results10m.txt'), <http.client.HTTPMessage at 0x78af56918f40>)"
            ]
          },
          "metadata": {},
          "execution_count": 28
        }
      ],
      "source": [
        "myWget(\"results10m.txt\")"
      ]
    },
    {
      "cell_type": "markdown",
      "source": [
        "`diving_results.txt` 텍스트 파일에 채울 내용을 준비하자.\n",
        "그러기 위해 파일로부터 이름과 점수를 키와 값으로 사용하는 사전을 생성한다.\n",
        "이를 위해 파일을 불러오기 위해 `open()` 함수 또는 `Path` 객체의 메서드 둘 다 이용할 수 있다."
      ],
      "metadata": {
        "id": "e2V4VJnlXkqm"
      }
    },
    {
      "cell_type": "code",
      "source": [
        "with target_path_5m.open() as f:\n",
        "    results_5m_dict = {}\n",
        "    for line in f:\n",
        "        name, score = line.strip().split()\n",
        "        if score != '점수':\n",
        "            results_5m_dict[name] = score\n",
        "\n",
        "results_5m_dict"
      ],
      "metadata": {
        "id": "RwEreFjyXgDk",
        "outputId": "896d8f2b-2529-4c0c-a90d-e1404565edfe",
        "colab": {
          "base_uri": "https://localhost:8080/"
        }
      },
      "execution_count": 29,
      "outputs": [
        {
          "output_type": "execute_result",
          "data": {
            "text/plain": [
              "{'권준기': '7.13',\n",
              " '김세윤': '8.55',\n",
              " '나진서': '9.02',\n",
              " '마동탁': '8.35',\n",
              " '서길석': '7.86',\n",
              " '이준용': '8.17',\n",
              " '이차승': '9.33',\n",
              " '차승연': '7.11',\n",
              " '표방호': '8.57',\n",
              " '한석준': '8.93'}"
            ]
          },
          "metadata": {},
          "execution_count": 29
        }
      ]
    },
    {
      "cell_type": "code",
      "source": [
        "target_path_10m = data_path / \"results10m.txt\""
      ],
      "metadata": {
        "id": "mSukGDjLW7zi"
      },
      "execution_count": 30,
      "outputs": []
    },
    {
      "cell_type": "code",
      "execution_count": 31,
      "metadata": {
        "id": "5FiqY36QVEnP",
        "outputId": "c4eb4f0f-4766-4ff6-aa5f-3bc6ccfa8e3e",
        "colab": {
          "base_uri": "https://localhost:8080/"
        }
      },
      "outputs": [
        {
          "output_type": "execute_result",
          "data": {
            "text/plain": [
              "{'권준기': '9.11',\n",
              " '김세윤': '8.35',\n",
              " '나진서': '7.12',\n",
              " '마동탁': '8.65',\n",
              " '서길석': '9.31',\n",
              " '이준용': '8.71',\n",
              " '이차승': '7.33',\n",
              " '차승연': '9.11',\n",
              " '표방호': '8.75',\n",
              " '한석준': '8.39'}"
            ]
          },
          "metadata": {},
          "execution_count": 31
        }
      ],
      "source": [
        "with open(target_path_10m) as f:\n",
        "    results_10m_dict = {}\n",
        "    for line in f:\n",
        "        name, score = line.strip().split()\n",
        "        if score != '점수':\n",
        "            results_10m_dict[name] = score\n",
        "\n",
        "results_10m_dict"
      ]
    },
    {
      "cell_type": "markdown",
      "metadata": {
        "id": "FHDJn1TsVEnQ"
      },
      "source": [
        "두 개의 점수로 이루어진 튜플을 값으로 사용하는 사전을 생성한다."
      ]
    },
    {
      "cell_type": "code",
      "execution_count": 32,
      "metadata": {
        "id": "PwlP1tp8VEnQ"
      },
      "outputs": [],
      "source": [
        "diving_results_dict = {}\n",
        "\n",
        "for name in results_5m_dict:\n",
        "    score_5m = results_5m_dict[name]\n",
        "    score_10m = results_10m_dict[name]\n",
        "    diving_results_dict[name] = (score_5m, score_10m)"
      ]
    },
    {
      "cell_type": "code",
      "execution_count": 33,
      "metadata": {
        "id": "oyL7wkw8VEnQ",
        "outputId": "83bcea43-39c6-464f-fba0-17666cbbfe0c",
        "colab": {
          "base_uri": "https://localhost:8080/"
        }
      },
      "outputs": [
        {
          "output_type": "execute_result",
          "data": {
            "text/plain": [
              "{'권준기': ('7.13', '9.11'),\n",
              " '김세윤': ('8.55', '8.35'),\n",
              " '나진서': ('9.02', '7.12'),\n",
              " '마동탁': ('8.35', '8.65'),\n",
              " '서길석': ('7.86', '9.31'),\n",
              " '이준용': ('8.17', '8.71'),\n",
              " '이차승': ('9.33', '7.33'),\n",
              " '차승연': ('7.11', '9.11'),\n",
              " '표방호': ('8.57', '8.75'),\n",
              " '한석준': ('8.93', '8.39')}"
            ]
          },
          "metadata": {},
          "execution_count": 33
        }
      ],
      "source": [
        "diving_results_dict"
      ]
    },
    {
      "cell_type": "markdown",
      "metadata": {
        "id": "1rtpavV6VEnQ"
      },
      "source": [
        "**`write()` 메서드**"
      ]
    },
    {
      "cell_type": "markdown",
      "metadata": {
        "id": "-EyIgpZtVEnR"
      },
      "source": [
        "이제 `diving_results.txt` 텍스트 파일을 생성할 수 있다.\n",
        "이를 위해 `open()` 함수를 `'w'` 모드로 연 다음에\n",
        "앞서 생성된 사전의 키와 값을 적적히 조합하여 파일에 한 줄씩 추가한다.\n",
        "파일에 한 줄을 추가하는 기능은 `write()` 메서드를 이용한다."
      ]
    },
    {
      "cell_type": "code",
      "execution_count": 34,
      "metadata": {
        "id": "izUTTY4VVEnR"
      },
      "outputs": [],
      "source": [
        "with open(data_path / \"diving_results.txt\", \"w\") as f:\n",
        "    f.write(\"이름  5m점수  10m점수\\n\")\n",
        "    for key, scores in diving_results_dict.items():\n",
        "        score1, score2 = scores\n",
        "        line = key + \"  \" + score1 + \"  \" + score2 + \"\\n\"\n",
        "        f.write(line)"
      ]
    },
    {
      "cell_type": "code",
      "execution_count": 35,
      "metadata": {
        "id": "DtCfWDR5VEnR",
        "outputId": "9a3bf456-9036-4738-d148-5da84a188313",
        "colab": {
          "base_uri": "https://localhost:8080/"
        }
      },
      "outputs": [
        {
          "output_type": "stream",
          "name": "stdout",
          "text": [
            "이름  5m점수  10m점수\n",
            "권준기  7.13  9.11\n",
            "김세윤  8.55  8.35\n",
            "나진서  9.02  7.12\n",
            "마동탁  8.35  8.65\n",
            "서길석  7.86  9.31\n",
            "이준용  8.17  8.71\n",
            "이차승  9.33  7.33\n",
            "차승연  7.11  9.11\n",
            "표방호  8.57  8.75\n",
            "한석준  8.93  8.39\n"
          ]
        }
      ],
      "source": [
        "with open(\"data/diving_results.txt\", 'r') as f:\n",
        "    for line in f:\n",
        "        print(line.strip())"
      ]
    },
    {
      "cell_type": "markdown",
      "metadata": {
        "id": "3C8hEgTpVEnR"
      },
      "source": [
        "## 필수 예제"
      ]
    },
    {
      "cell_type": "markdown",
      "metadata": {
        "id": "DwuhAjsDVEnR"
      },
      "source": [
        "참고: [(필수 예제) 파일](https://colab.research.google.com/github/codingalzi/pybook/blob/master/examples/examples-files.ipynb)"
      ]
    },
    {
      "cell_type": "markdown",
      "metadata": {
        "id": "4RdS4CPGVEnS"
      },
      "source": [
        "## 연습문제"
      ]
    },
    {
      "cell_type": "markdown",
      "metadata": {
        "id": "8gj1MNGsVEnS"
      },
      "source": [
        "참고: [(실습) 파일](https://colab.research.google.com/github/codingalzi/pybook/blob/master/practices/practice-files.ipynb)"
      ]
    }
  ],
  "metadata": {
    "kernelspec": {
      "display_name": "Python 3 (ipykernel)",
      "language": "python",
      "name": "python3"
    },
    "language_info": {
      "codemirror_mode": {
        "name": "ipython",
        "version": 3
      },
      "file_extension": ".py",
      "mimetype": "text/x-python",
      "name": "python",
      "nbconvert_exporter": "python",
      "pygments_lexer": "ipython3",
      "version": "3.11.4"
    },
    "vscode": {
      "interpreter": {
        "hash": "6c86b3592b6800d985c04531f2c445f0fa6967131b8dd6395a925f7622e55602"
      }
    },
    "colab": {
      "provenance": []
    }
  },
  "nbformat": 4,
  "nbformat_minor": 0
}