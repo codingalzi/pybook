{
 "cells": [
  {
   "cell_type": "markdown",
   "id": "321669fa",
   "metadata": {},
   "source": [
    "(ch:iterator_generator)=\n",
    "# (부록) 이터러블, 이터레이터, 제너레이터"
   ]
  },
  {
   "cell_type": "markdown",
   "id": "da26a2b9",
   "metadata": {},
   "source": [
    "파이썬은 **덕 타이핑**<font size='2'>duck typing</font>을 지원한다.\n",
    "덕 타이핑은 원래 '오리처럼 걷고 꽥꽥 울면 오리가 맞다\" 라는 속담에서 유래한다.\n",
    "하지만 파이썬에서는 주어진 클래스가 특정 이름의 메소드를 지원하는지 여부에만 관심을 둘 때 사용하는 관용적 표현이다.\n",
    "\n",
    "예를 들어, `__iter__()` 라는 메소드를 지원하는 클래스는 이터러블 자료형이라 불리며\n",
    "`for` 반복문을 작성할 때 사용될 수 있는 모음 자료형 역할을 수행한다."
   ]
  },
  {
   "cell_type": "markdown",
   "id": "a5629633-7931-403a-a8ca-ba59ccce3141",
   "metadata": {},
   "source": [
    "## 이터러블"
   ]
  },
  {
   "cell_type": "markdown",
   "id": "16711f31-cc6f-4826-8e92-23d2aa98fee1",
   "metadata": {},
   "source": [
    "**이터러블**<font size = \"2\">iterable</font> 자료형의 값은\n",
    "필요한 경우 포함된 항목을 한 번에 하나씩 전달할 수 있는 기능을 제공하는 갖는 객체이다.\n",
    "예를 들어 `for` 반복문과 함께 사용될 수 있는\n",
    "모든 시퀀스 자료형(예, 리스트, 튜플, 문자열 등)과 사전 자료형이 이터러블 객체이다."
   ]
  },
  {
   "cell_type": "code",
   "execution_count": 1,
   "id": "b4cdcf16-5caa-428d-b32d-8f5035e90d94",
   "metadata": {},
   "outputs": [
    {
     "name": "stdout",
     "output_type": "stream",
     "text": [
      "1\n",
      "2\n",
      "3\n"
     ]
    }
   ],
   "source": [
    "for i in [1, 2, 3] :\n",
    "    print(i)"
   ]
  },
  {
   "cell_type": "code",
   "execution_count": 2,
   "id": "afa9712d-14be-473f-8979-8c4823785ca7",
   "metadata": {},
   "outputs": [
    {
     "name": "stdout",
     "output_type": "stream",
     "text": [
      "a\n",
      "b\n"
     ]
    }
   ],
   "source": [
    "for k in {'a' : '에이', 'b' : '비'} :\n",
    "    print(k)"
   ]
  },
  {
   "cell_type": "markdown",
   "id": "23e130ba-99dd-4edf-9cb7-c3942c5c5bd2",
   "metadata": {},
   "source": [
    "이터러블 객체의 엄밀한 정의는 `__iter__()` 메서드를 갖는 클래스의 객체이다. \n",
    "`dir()` 함수를 사용하여 `__iter__()` 메서드의 포함여부를 확인할 수 있다."
   ]
  },
  {
   "cell_type": "code",
   "execution_count": 3,
   "id": "f2e9aafe-cf15-477b-b942-65d750229653",
   "metadata": {},
   "outputs": [
    {
     "data": {
      "text/plain": [
       "True"
      ]
     },
     "execution_count": 3,
     "metadata": {},
     "output_type": "execute_result"
    }
   ],
   "source": [
    "a_list = [1, 2, 3]\n",
    "\n",
    "'__iter__' in dir(a_list)"
   ]
  },
  {
   "cell_type": "markdown",
   "id": "ebc97030",
   "metadata": {},
   "source": [
    ":::{admonition} `dir()` 함수\n",
    ":class: info\n",
    "\n",
    "`dir()` 함수는 인자로 사용된 객체의 속성과 메서드의 리스트를 반환한다.\n",
    "\n",
    "```python\n",
    ">>> dir(a_list)\n",
    "['__add__',\n",
    " ...\n",
    " '__iter__',\n",
    " ...\n",
    " 'append',\n",
    " 'clear',\n",
    " 'copy',\n",
    " 'count',\n",
    " 'extend',\n",
    " 'index',\n",
    " 'insert',\n",
    " 'pop',\n",
    " 'remove',\n",
    " 'reverse',\n",
    " 'sort']\n",
    "```\n",
    ":::"
   ]
  },
  {
   "cell_type": "markdown",
   "id": "cc173274",
   "metadata": {},
   "source": [
    "`a_list` 변수가 가리키는 값이 순차 자료형인 리스트이면서 동시에 이터러블 자료형의 객체인지 \n",
    "여부를 판단하기 위해 `isinstance()` 함수를 활용할 수도 있다.\n",
    "하지만 먼저 이터러블 자료형의 클래스인 `Iterable`과 순차 자료형의 클래스인 `Sequence` 을\n",
    "불러와야 한다. "
   ]
  },
  {
   "cell_type": "code",
   "execution_count": 4,
   "id": "71b77091",
   "metadata": {},
   "outputs": [],
   "source": [
    "from collections.abc import Sequence, Iterable"
   ]
  },
  {
   "cell_type": "markdown",
   "id": "e19b0531",
   "metadata": {},
   "source": [
    "아래 표현식은 리스트가 순차 자료형임을 확인해준다."
   ]
  },
  {
   "cell_type": "code",
   "execution_count": 5,
   "id": "10557e38",
   "metadata": {},
   "outputs": [
    {
     "data": {
      "text/plain": [
       "True"
      ]
     },
     "execution_count": 5,
     "metadata": {},
     "output_type": "execute_result"
    }
   ],
   "source": [
    "isinstance(a_list, Sequence)"
   ]
  },
  {
   "cell_type": "markdown",
   "id": "c1095389",
   "metadata": {},
   "source": [
    "아래 표현식은 리스트가 이터러블 자료형임을 확인해준다."
   ]
  },
  {
   "cell_type": "code",
   "execution_count": 6,
   "id": "f751a1c3",
   "metadata": {},
   "outputs": [
    {
     "data": {
      "text/plain": [
       "True"
      ]
     },
     "execution_count": 6,
     "metadata": {},
     "output_type": "execute_result"
    }
   ],
   "source": [
    "isinstance(a_list, Iterable)"
   ]
  },
  {
   "cell_type": "markdown",
   "id": "ee1f4851",
   "metadata": {},
   "source": [
    "반면에 사전은 이터러블이지만 순차 자료형은 아님을 확인할 수 있다."
   ]
  },
  {
   "cell_type": "code",
   "execution_count": 7,
   "id": "3a542622",
   "metadata": {},
   "outputs": [],
   "source": [
    "a_dict = {'a': 1, 'b': 2}"
   ]
  },
  {
   "cell_type": "code",
   "execution_count": 8,
   "id": "0e22cb6a",
   "metadata": {},
   "outputs": [
    {
     "data": {
      "text/plain": [
       "True"
      ]
     },
     "execution_count": 8,
     "metadata": {},
     "output_type": "execute_result"
    }
   ],
   "source": [
    "isinstance(a_dict, Iterable)"
   ]
  },
  {
   "cell_type": "code",
   "execution_count": 9,
   "id": "e4d9168b",
   "metadata": {},
   "outputs": [
    {
     "data": {
      "text/plain": [
       "False"
      ]
     },
     "execution_count": 9,
     "metadata": {},
     "output_type": "execute_result"
    }
   ],
   "source": [
    "isinstance(a_dict, Sequence)"
   ]
  },
  {
   "cell_type": "markdown",
   "id": "3d8f08ab-c051-4e38-af0d-83d7942ba9c6",
   "metadata": {},
   "source": [
    "(sec:iterators)=\n",
    "## 이터레이터"
   ]
  },
  {
   "cell_type": "markdown",
   "id": "a59d4983-4aa4-44e4-a195-e0e66f76c0f1",
   "metadata": {},
   "source": [
    "**이터레이터**<font size = \"2\">iterator</font>는 값을 하나씩 꺼낼 수 있는 객체로, \n",
    "`__next__()` 메서드를 갖는다.\n",
    "예를 들어, 모든 이터러블 객체를 `__iter__()` 메서드를 이용하여 이터레이터로 변환시킬 수 있다."
   ]
  },
  {
   "cell_type": "markdown",
   "id": "080a92dd",
   "metadata": {},
   "source": [
    "<div align=\"center\"><img src=\"https://nvie.com/img/iterable-vs-iterator.png\" style=\"width:600px;\"></div>\n",
    "\n",
    "그림 출처: [Iterables vs. Iterators vs. Generators](https://nvie.com/posts/iterators-vs-generators/)"
   ]
  },
  {
   "cell_type": "markdown",
   "id": "132ef2c6",
   "metadata": {},
   "source": [
    "리스트는 이터러블 객체이기에 `__iter__()` 메서드를 호출할 수 있다.\n",
    "그러면 이터레이터 객체가 하나 생성된다."
   ]
  },
  {
   "cell_type": "code",
   "execution_count": 10,
   "id": "0387e3dd-7c13-4a77-a36f-3b60122ec6be",
   "metadata": {},
   "outputs": [
    {
     "data": {
      "text/plain": [
       "list_iterator"
      ]
     },
     "execution_count": 10,
     "metadata": {},
     "output_type": "execute_result"
    }
   ],
   "source": [
    "a_list = [1, 2, 3]\n",
    "a_iter = a_list.__iter__()\n",
    "\n",
    "type(a_iter)"
   ]
  },
  {
   "cell_type": "markdown",
   "id": "365fb76f",
   "metadata": {},
   "source": [
    "다음 방식으로도 이터레이터임을 확인할 수 있다."
   ]
  },
  {
   "cell_type": "code",
   "execution_count": 11,
   "id": "dde6760c",
   "metadata": {},
   "outputs": [],
   "source": [
    "from collections.abc import Iterator"
   ]
  },
  {
   "cell_type": "code",
   "execution_count": 12,
   "id": "6bc3167a",
   "metadata": {},
   "outputs": [
    {
     "data": {
      "text/plain": [
       "True"
      ]
     },
     "execution_count": 12,
     "metadata": {},
     "output_type": "execute_result"
    }
   ],
   "source": [
    "isinstance(a_iter, Iterator)"
   ]
  },
  {
   "cell_type": "markdown",
   "id": "40bed2ec",
   "metadata": {},
   "source": [
    "이터레시터는 `__next__()` 메서드를 갖는다."
   ]
  },
  {
   "cell_type": "code",
   "execution_count": 13,
   "id": "deb28b3d",
   "metadata": {},
   "outputs": [
    {
     "data": {
      "text/plain": [
       "True"
      ]
     },
     "execution_count": 13,
     "metadata": {},
     "output_type": "execute_result"
    }
   ],
   "source": [
    "'__next__' in dir(a_iter)"
   ]
  },
  {
   "cell_type": "markdown",
   "id": "ef3783e0",
   "metadata": {},
   "source": [
    "반면에 리스트 자체는 이터레이터가 아니다."
   ]
  },
  {
   "cell_type": "code",
   "execution_count": 14,
   "id": "5f9c2fd5",
   "metadata": {},
   "outputs": [
    {
     "data": {
      "text/plain": [
       "False"
      ]
     },
     "execution_count": 14,
     "metadata": {},
     "output_type": "execute_result"
    }
   ],
   "source": [
    "'__next__' in dir(a_list)"
   ]
  },
  {
   "cell_type": "code",
   "execution_count": 15,
   "id": "828c3ec9",
   "metadata": {},
   "outputs": [
    {
     "data": {
      "text/plain": [
       "False"
      ]
     },
     "execution_count": 15,
     "metadata": {},
     "output_type": "execute_result"
    }
   ],
   "source": [
    "isinstance(a_list, Iterator)"
   ]
  },
  {
   "cell_type": "markdown",
   "id": "550166b8",
   "metadata": {},
   "source": [
    "이터레이터는 값을 바로 보여주지 않는다. 이터레이터의 항목은 리스트로 형변환하면 쉽게 확인할 수 있다. "
   ]
  },
  {
   "cell_type": "code",
   "execution_count": 16,
   "id": "9840e475",
   "metadata": {},
   "outputs": [
    {
     "name": "stdout",
     "output_type": "stream",
     "text": [
      "<list_iterator object at 0x7fe5d84d9550>\n"
     ]
    }
   ],
   "source": [
    "print(a_iter)"
   ]
  },
  {
   "cell_type": "markdown",
   "id": "f2be65f5",
   "metadata": {},
   "source": [
    "이터레이터의 항목을 확인하거나 이용하려면 \n",
    "`__next__()` 메서드를 호출해야 한다.\n",
    "그런데 `__next__()` 메서드가 호출될 때마다 포함된 항목이 차례대로 반환된다."
   ]
  },
  {
   "cell_type": "code",
   "execution_count": 17,
   "id": "18bdc429-71ab-4164-ab62-1229fab5d06d",
   "metadata": {},
   "outputs": [
    {
     "data": {
      "text/plain": [
       "1"
      ]
     },
     "execution_count": 17,
     "metadata": {},
     "output_type": "execute_result"
    }
   ],
   "source": [
    "a_iter.__next__() "
   ]
  },
  {
   "cell_type": "code",
   "execution_count": 18,
   "id": "b6c8d708-42dc-43e5-8334-05c57a49abb8",
   "metadata": {},
   "outputs": [
    {
     "data": {
      "text/plain": [
       "2"
      ]
     },
     "execution_count": 18,
     "metadata": {},
     "output_type": "execute_result"
    }
   ],
   "source": [
    "a_iter.__next__()"
   ]
  },
  {
   "cell_type": "code",
   "execution_count": 19,
   "id": "aceac27b-cdf0-4a66-b245-d1d9558dbc22",
   "metadata": {},
   "outputs": [
    {
     "data": {
      "text/plain": [
       "3"
      ]
     },
     "execution_count": 19,
     "metadata": {},
     "output_type": "execute_result"
    }
   ],
   "source": [
    "a_iter.__next__()"
   ]
  },
  {
   "cell_type": "markdown",
   "id": "bef46844-433b-4876-9b5b-236fbc8dbfa8",
   "metadata": {},
   "source": [
    "모든 항목이 반환되면 더 이상 `__next__()` 메서드를 사용할 수 없다.\n",
    "이유는 더 이상 반환해줄 항목이 없기에 실행하면 `StopIteration` 오류를 발생시키기 때문이다.\n",
    "\n",
    "```python\n",
    ">>> a_iter.__next__()\n",
    "StopIteration                             Traceback (most recent call last)\n",
    "/tmp/ipykernel_79/31460938.py in <module>\n",
    "----> 1 a_iter.__next__()\n",
    "\n",
    "StopIteration: \n",
    "```"
   ]
  },
  {
   "cell_type": "markdown",
   "id": "6fb99109",
   "metadata": {},
   "source": [
    "항목을 다시 확인하려면 이터레이터를 다시 생성해야 하고,\n",
    "그러면 다시 첫 항목부터 확인된다."
   ]
  },
  {
   "cell_type": "code",
   "execution_count": 20,
   "id": "89b20a40",
   "metadata": {},
   "outputs": [
    {
     "data": {
      "text/plain": [
       "1"
      ]
     },
     "execution_count": 20,
     "metadata": {},
     "output_type": "execute_result"
    }
   ],
   "source": [
    "a_iter = a_list.__iter__()\n",
    "\n",
    "a_iter.__next__()"
   ]
  },
  {
   "cell_type": "markdown",
   "id": "7586e9c1",
   "metadata": {},
   "source": [
    "**`for` 반복문과 이터러블 자료형**\n",
    "\n",
    "리스트 자체는 이터레이터 자료형이 아니지만 `for` 반복문과 여러 번 사용할 수 있다."
   ]
  },
  {
   "cell_type": "code",
   "execution_count": 21,
   "id": "9b6f59c8",
   "metadata": {},
   "outputs": [
    {
     "name": "stdout",
     "output_type": "stream",
     "text": [
      "1\n",
      "2\n",
      "3\n"
     ]
    }
   ],
   "source": [
    "for i in [1, 2, 3]:\n",
    "    print(i)"
   ]
  },
  {
   "cell_type": "code",
   "execution_count": 22,
   "id": "b9515466",
   "metadata": {},
   "outputs": [
    {
     "name": "stdout",
     "output_type": "stream",
     "text": [
      "1\n",
      "2\n",
      "3\n"
     ]
    }
   ],
   "source": [
    "for i in [1, 2, 3]:\n",
    "    print(i)"
   ]
  },
  {
   "cell_type": "markdown",
   "id": "b8a4911b-709a-4101-a933-31d9608a11e5",
   "metadata": {},
   "source": [
    "이유는 `for` 반복문이 실행될 때마다 이터러블의 `__iter__()`메서드가\n",
    "먼저 호출되어 매번 새로 이터레이터 객체를 생성한다.\n",
    "그런 다음에 `__next__()` 메서드가 실행되는 방식으로 `for` 반복문이 작동한다. "
   ]
  },
  {
   "cell_type": "markdown",
   "id": "4ad84d25",
   "metadata": {},
   "source": [
    "**`range` 객체는 이터러블**\n",
    "\n",
    "`range()` 함수로 생성되는 `range` 객체도 리스트처럼 이터러블 자료형이지만 이터레이터는 아니다."
   ]
  },
  {
   "cell_type": "code",
   "execution_count": 23,
   "id": "003fec8e",
   "metadata": {},
   "outputs": [],
   "source": [
    "a_range = range(5)"
   ]
  },
  {
   "cell_type": "code",
   "execution_count": 24,
   "id": "7ca27c8c",
   "metadata": {},
   "outputs": [
    {
     "data": {
      "text/plain": [
       "True"
      ]
     },
     "execution_count": 24,
     "metadata": {},
     "output_type": "execute_result"
    }
   ],
   "source": [
    "isinstance(a_range, Iterable)"
   ]
  },
  {
   "cell_type": "code",
   "execution_count": 25,
   "id": "f54b042e",
   "metadata": {},
   "outputs": [
    {
     "data": {
      "text/plain": [
       "False"
      ]
     },
     "execution_count": 25,
     "metadata": {},
     "output_type": "execute_result"
    }
   ],
   "source": [
    "isinstance(a_range, Iterator)"
   ]
  },
  {
   "cell_type": "markdown",
   "id": "c6b1a4b3",
   "metadata": {},
   "source": [
    "항목을 미리 만들어 놓지 않기에 미리 보여주지 않는다."
   ]
  },
  {
   "cell_type": "code",
   "execution_count": 26,
   "id": "dd5949b7",
   "metadata": {},
   "outputs": [
    {
     "name": "stdout",
     "output_type": "stream",
     "text": [
      "range(0, 5)\n"
     ]
    }
   ],
   "source": [
    "print(a_range)"
   ]
  },
  {
   "cell_type": "markdown",
   "id": "a6a5a640",
   "metadata": {},
   "source": [
    "하지만 `range` 객체 또한 당연히 `for` 반복문과 함께 유용하게 사용된다."
   ]
  },
  {
   "cell_type": "code",
   "execution_count": 27,
   "id": "3c4348d0",
   "metadata": {},
   "outputs": [
    {
     "name": "stdout",
     "output_type": "stream",
     "text": [
      "0의 제곱은 0.\n",
      "1의 제곱은 1.\n",
      "2의 제곱은 4.\n",
      "3의 제곱은 9.\n",
      "4의 제곱은 16.\n"
     ]
    }
   ],
   "source": [
    "for item in a_range:\n",
    "    print(f\"{item}의 제곱은 {item**2}.\")"
   ]
  },
  {
   "cell_type": "markdown",
   "id": "f4875373-3f9a-4ec4-984d-a3c30fd2a3f5",
   "metadata": {},
   "source": [
    "## 제너레이터 "
   ]
  },
  {
   "cell_type": "markdown",
   "id": "0c8b7b62",
   "metadata": {},
   "source": [
    "**제너레이터**<font size = \"2\">generator</font>는 간단한 방식으로 구현할 수 있는 이터레이터이며,\n",
    "크게 두 가지 방식으로 생성된다.\n",
    "\n",
    "- 제너레이터 함수 활용\n",
    "- 제너레이터 표현식 활용\n",
    "\n",
    "이터러블, 이터레이터, 제너레이터 사이의 관계는 다음과 같다."
   ]
  },
  {
   "cell_type": "markdown",
   "id": "1fa1156d",
   "metadata": {},
   "source": [
    "<div align=\"center\"><img src=\"https://nvie.com/img/relationships.png\" style=\"width:700px;\"></div>\n",
    "\n",
    "그림 출처: [Iterables vs. Iterators vs. Generators](https://nvie.com/posts/iterators-vs-generators/)"
   ]
  },
  {
   "cell_type": "markdown",
   "id": "7d73dbc5-485d-4024-9a04-e3970ff97acf",
   "metadata": {},
   "source": [
    "**제너레이터 함수**\n",
    "\n",
    "제너레이터 함수는 일반 함수와 비슷한 방식으로 정의되는데, `return`키워드 대신 `yield` 키워드를 사용하여\n",
    "`__next__()` 메서드가 반환해야 하는 값을 어떻게 생성할지 지정한다.   \n",
    "\n",
    "예를 들어, 1부터 n의 제곱을 생성하는 제너레이터는 아래와 같이 정의한다. "
   ]
  },
  {
   "cell_type": "code",
   "execution_count": 28,
   "id": "5896ed85-fec0-4371-80a7-97afb1bae551",
   "metadata": {},
   "outputs": [],
   "source": [
    "def squares(n) :\n",
    "    for i in range(1, n + 1) :\n",
    "        yield i ** 2"
   ]
  },
  {
   "cell_type": "markdown",
   "id": "842a3c2d",
   "metadata": {},
   "source": [
    "`squares()` 는 제너레이터만을 생성한다. \n",
    "예를 들어 `squares(5)` 가 제너레이터임을 다음과 같이 확인할 수 있다."
   ]
  },
  {
   "cell_type": "code",
   "execution_count": 29,
   "id": "e517cb1c",
   "metadata": {},
   "outputs": [
    {
     "data": {
      "text/plain": [
       "True"
      ]
     },
     "execution_count": 29,
     "metadata": {},
     "output_type": "execute_result"
    }
   ],
   "source": [
    "from collections.abc import Generator\n",
    "\n",
    "isinstance(squares(5), Generator)"
   ]
  },
  {
   "cell_type": "markdown",
   "id": "cc320a47",
   "metadata": {},
   "source": [
    "앞서 보았듯이 제너레이터는 항목을 미리 모두 만들지 않고 필요할 때마나 하나씩 만들어 반환한다. "
   ]
  },
  {
   "cell_type": "code",
   "execution_count": 30,
   "id": "549430ef-ae3e-41cd-b787-21b6c847b296",
   "metadata": {},
   "outputs": [
    {
     "name": "stdout",
     "output_type": "stream",
     "text": [
      "<generator object squares at 0x7fe5d84d2f90>\n"
     ]
    }
   ],
   "source": [
    "squares_5 = squares(5)\n",
    "print(squares_5)"
   ]
  },
  {
   "cell_type": "code",
   "execution_count": 31,
   "id": "0db8d46b-64ba-447a-9026-91ef0bc31a8b",
   "metadata": {},
   "outputs": [
    {
     "data": {
      "text/plain": [
       "1"
      ]
     },
     "execution_count": 31,
     "metadata": {},
     "output_type": "execute_result"
    }
   ],
   "source": [
    "squares_5.__next__()"
   ]
  },
  {
   "cell_type": "code",
   "execution_count": 32,
   "id": "c24790e6-f345-41e9-a447-4f9d7fe5f623",
   "metadata": {},
   "outputs": [
    {
     "data": {
      "text/plain": [
       "4"
      ]
     },
     "execution_count": 32,
     "metadata": {},
     "output_type": "execute_result"
    }
   ],
   "source": [
    "squares_5.__next__()"
   ]
  },
  {
   "cell_type": "markdown",
   "id": "de4c77cc",
   "metadata": {},
   "source": [
    "`next()` 함수를 사용하면 인자로 사용된 객체의 `__next__()` 메서드가 호출된다."
   ]
  },
  {
   "cell_type": "code",
   "execution_count": 33,
   "id": "4caa83d7-ef94-484f-8a12-cb9a4b64ccba",
   "metadata": {},
   "outputs": [
    {
     "data": {
      "text/plain": [
       "9"
      ]
     },
     "execution_count": 33,
     "metadata": {},
     "output_type": "execute_result"
    }
   ],
   "source": [
    "next(squares_5) # squares_5.__next__()"
   ]
  },
  {
   "cell_type": "markdown",
   "id": "257d2f1c-fcab-49e1-8c7e-531966c8004a",
   "metadata": {},
   "source": [
    ":::{admonition} 주의   \n",
    ":class: caution  \n",
    "\n",
    "`for` 반복문을 사용하더라도 \n",
    "이미 `__next__()` 메서드가 반환된 값의 다음 항목부터 사용됨에 주의하라.\n",
    "\n",
    "```python\n",
    ">>> for x in squares_5:\n",
    ">>>     print(x, end = ' ')\n",
    "16 25 \n",
    "```\n",
    ":::"
   ]
  },
  {
   "cell_type": "markdown",
   "id": "f81519ec",
   "metadata": {},
   "source": [
    "**제너레이터 표현식**\n",
    "\n",
    "조건제시법 방식을 튜플에 적용하면 제너레이터 표현식이 된다.\n",
    "예를 들어, 아래 코드는 튜플이 아닌 \n",
    "앞서 정의한 `squares_5`와 동일하게 작동하는 제너레이터를 생성한다. "
   ]
  },
  {
   "cell_type": "code",
   "execution_count": 34,
   "id": "83874c44-7e42-44df-ad20-137939a6a091",
   "metadata": {},
   "outputs": [
    {
     "data": {
      "text/plain": [
       "True"
      ]
     },
     "execution_count": 34,
     "metadata": {},
     "output_type": "execute_result"
    }
   ],
   "source": [
    "squares_5_new = (i ** 2 for i in range(1, 6))\n",
    "\n",
    "isinstance(squares_5_new, Generator)"
   ]
  },
  {
   "cell_type": "code",
   "execution_count": 35,
   "id": "1a502768-5b67-4182-a0ae-4262e48fb047",
   "metadata": {},
   "outputs": [
    {
     "name": "stdout",
     "output_type": "stream",
     "text": [
      "1 4 9 16 25 "
     ]
    }
   ],
   "source": [
    "for item in squares_5_new:\n",
    "    print(item, end=' ')"
   ]
  },
  {
   "cell_type": "markdown",
   "id": "625d5658",
   "metadata": {},
   "source": [
    "제너레이터는 이터레이터이기에 두 번 연속 사용할 수 없다."
   ]
  },
  {
   "cell_type": "code",
   "execution_count": 36,
   "id": "33e857d4",
   "metadata": {},
   "outputs": [],
   "source": [
    "for item in squares_5_new:\n",
    "    print(item, end=' ')"
   ]
  },
  {
   "cell_type": "markdown",
   "id": "a84c9f39",
   "metadata": {},
   "source": [
    "다시 사용하려면 매번 다시 생성해야 한다."
   ]
  },
  {
   "cell_type": "code",
   "execution_count": 37,
   "id": "759687b8",
   "metadata": {},
   "outputs": [
    {
     "name": "stdout",
     "output_type": "stream",
     "text": [
      "1 4 9 16 25 "
     ]
    }
   ],
   "source": [
    "squares_5_new = (i ** 2 for i in range(1, 6))\n",
    "\n",
    "for item in squares_5_new:\n",
    "    print(item, end=' ')"
   ]
  },
  {
   "cell_type": "markdown",
   "id": "1fcb88c0-6f18-4e24-847c-c764fd14501f",
   "metadata": {},
   "source": [
    "## 이터러블 자료형에 유용한 함수"
   ]
  },
  {
   "cell_type": "markdown",
   "id": "c4e83ae4",
   "metadata": {},
   "source": [
    "**`enumerate()` 함수**\n",
    "\n",
    "`enumerate(iterable, start = 0)` 함수는\n",
    "카운트와 `iterable`의 항목을 튜플로 묶은 형태로 이터레이터를 만들어 반환한다. "
   ]
  },
  {
   "cell_type": "code",
   "execution_count": 38,
   "id": "bb2272ea",
   "metadata": {},
   "outputs": [],
   "source": [
    "seasons = ['봄', '여름', '가을', '겨울']"
   ]
  },
  {
   "cell_type": "code",
   "execution_count": 39,
   "id": "b73b5fb4",
   "metadata": {},
   "outputs": [
    {
     "data": {
      "text/plain": [
       "[(0, '봄'), (1, '여름'), (2, '가을'), (3, '겨울')]"
      ]
     },
     "execution_count": 39,
     "metadata": {},
     "output_type": "execute_result"
    }
   ],
   "source": [
    "list(enumerate(seasons))"
   ]
  },
  {
   "cell_type": "markdown",
   "id": "a0dde008",
   "metadata": {},
   "source": [
    "카운트는 기본적으로 0부터 시작하고 다른 값부터 시작하고 싶다면 `start` 값을 변경해주면 된다. "
   ]
  },
  {
   "cell_type": "code",
   "execution_count": 40,
   "id": "a8edcb65",
   "metadata": {},
   "outputs": [
    {
     "name": "stdout",
     "output_type": "stream",
     "text": [
      "1번 학생은 강현입니다.\n",
      "2번 학생은 나현입니다.\n",
      "3번 학생은 다현입니다.\n"
     ]
    }
   ],
   "source": [
    "class_name = ['강현', '나현', '다현']\n",
    "class_name_enum = enumerate(class_name, 1)\n",
    "\n",
    "for num, name in class_name_enum :\n",
    "    print(f'{num}번 학생은 {name}입니다.')"
   ]
  },
  {
   "cell_type": "markdown",
   "id": "cfb8c45e-5f0d-4136-ad26-be1ffccd162e",
   "metadata": {},
   "source": [
    "**`zip()` 함수**\n",
    "\n",
    "여러 개의 이터러블 값을 인자로 받아 각 항목을 튜플로 묶은 형태로 짝짓기된 항목을\n",
    "생성하는 이터레이터를 만들어 반환한다. "
   ]
  },
  {
   "cell_type": "code",
   "execution_count": 41,
   "id": "17d0ab6d-70e7-4eed-8f1c-50976c46607b",
   "metadata": {},
   "outputs": [
    {
     "name": "stdout",
     "output_type": "stream",
     "text": [
      "강현은 3월달에 태어났다.\n",
      "나현은 2월달에 태어났다.\n",
      "다현은 9월달에 태어났다.\n"
     ]
    }
   ],
   "source": [
    "data_zip = zip(['3월', '2월', '9월'], ['강현', '나현', '다현'])\n",
    "\n",
    "for month, name in data_zip :\n",
    "    print(f'{name}은 {month}달에 태어났다.')"
   ]
  },
  {
   "cell_type": "markdown",
   "id": "0a3a878f",
   "metadata": {},
   "source": [
    "두 이터러블의 길이가 다르면 짧은 길이에 맞춰서 작동한다."
   ]
  },
  {
   "cell_type": "code",
   "execution_count": 42,
   "id": "5062e8e9",
   "metadata": {},
   "outputs": [
    {
     "name": "stdout",
     "output_type": "stream",
     "text": [
      "강현은 3월달에 태어났다.\n",
      "나현은 2월달에 태어났다.\n",
      "다현은 9월달에 태어났다.\n"
     ]
    }
   ],
   "source": [
    "data_zip = zip(['3월', '2월', '9월'], ['강현', '나현', '다현', '상우']) # '상우'는 무시됨.\n",
    "\n",
    "for month, name in data_zip :\n",
    "    print(f'{name}은 {month}달에 태어났다.')"
   ]
  },
  {
   "cell_type": "markdown",
   "id": "4d772bb8",
   "metadata": {},
   "source": [
    "세 개 이상의 이터러블을 짝짓기 할 수도 있다."
   ]
  },
  {
   "cell_type": "code",
   "execution_count": 43,
   "id": "8cfc5746",
   "metadata": {},
   "outputs": [
    {
     "name": "stdout",
     "output_type": "stream",
     "text": [
      "강현은 3월 7일에 태어났다.\n",
      "나현은 2월 23일에 태어났다.\n"
     ]
    }
   ],
   "source": [
    "data_zip = zip(['3월', '2월', '9월'], ['강현', '나현', '다현', '상우'], ['7일', '23일'])\n",
    "\n",
    "for month, name, date in data_zip :\n",
    "    print(f'{name}은 {month} {date}에 태어났다.')"
   ]
  },
  {
   "cell_type": "markdown",
   "id": "4457d63f",
   "metadata": {},
   "source": [
    "**`all()` 함수**\n",
    "\n",
    "이터러블의 모든 항목이 참이면 `True`, 아니면 `False`를 반환한다. "
   ]
  },
  {
   "cell_type": "code",
   "execution_count": 44,
   "id": "31f86531",
   "metadata": {
    "tags": []
   },
   "outputs": [
    {
     "data": {
      "text/plain": [
       "False"
      ]
     },
     "execution_count": 44,
     "metadata": {},
     "output_type": "execute_result"
    }
   ],
   "source": [
    "all([1 != 1+0, True, True, True])"
   ]
  },
  {
   "cell_type": "code",
   "execution_count": 45,
   "id": "ac384146",
   "metadata": {
    "tags": []
   },
   "outputs": [
    {
     "data": {
      "text/plain": [
       "True"
      ]
     },
     "execution_count": 45,
     "metadata": {},
     "output_type": "execute_result"
    }
   ],
   "source": [
    "all([True, 1<=2, 3==2+1, True])"
   ]
  },
  {
   "cell_type": "markdown",
   "id": "628325eb",
   "metadata": {},
   "source": [
    "0은 거짓, 나머지 수는 참으로 간주된다."
   ]
  },
  {
   "cell_type": "code",
   "execution_count": 46,
   "id": "2709d096",
   "metadata": {},
   "outputs": [
    {
     "data": {
      "text/plain": [
       "False"
      ]
     },
     "execution_count": 46,
     "metadata": {},
     "output_type": "execute_result"
    }
   ],
   "source": [
    "all([1 < 2, 3, 0, 2, True])"
   ]
  },
  {
   "cell_type": "markdown",
   "id": "61c8850a-5e66-4176-8ed6-89d65c290793",
   "metadata": {},
   "source": [
    "**`any()` 함수**\n",
    "\n",
    "이터러블의 항목 중 어느 하나라도 참이면 `True`, 아니면 `False`를 반환한다. "
   ]
  },
  {
   "cell_type": "code",
   "execution_count": 47,
   "id": "df7f96b7",
   "metadata": {
    "tags": []
   },
   "outputs": [
    {
     "data": {
      "text/plain": [
       "True"
      ]
     },
     "execution_count": 47,
     "metadata": {},
     "output_type": "execute_result"
    }
   ],
   "source": [
    "any((False, 1, False, False))"
   ]
  },
  {
   "cell_type": "code",
   "execution_count": 48,
   "id": "a2920c38-56bb-4f21-9fcc-556f974ea7ac",
   "metadata": {
    "tags": []
   },
   "outputs": [
    {
     "data": {
      "text/plain": [
       "False"
      ]
     },
     "execution_count": 48,
     "metadata": {},
     "output_type": "execute_result"
    }
   ],
   "source": [
    "any((False, 1 == 3, False, False))"
   ]
  },
  {
   "cell_type": "markdown",
   "id": "a8a0feae-0ddb-4836-b0ad-d7cd29338f0a",
   "metadata": {
    "tags": []
   },
   "source": [
    "**`filter()` 함수**\n",
    "\n",
    "`filter(function, iterable)` 함수는 `function`이 참을 반환하는 `iterable`의 항목들로 \n",
    "이터레이터를 만들어 반환한다."
   ]
  },
  {
   "cell_type": "code",
   "execution_count": 49,
   "id": "80568ab9",
   "metadata": {},
   "outputs": [],
   "source": [
    "def is_even(n) :\n",
    "    if not n % 2 :\n",
    "        return True\n",
    "    else :\n",
    "        return False\n",
    "\n",
    "num = [2, 8, 9, 3, 10, 12]"
   ]
  },
  {
   "cell_type": "code",
   "execution_count": 50,
   "id": "739d2fef-f9b3-470d-b0f4-1ecdd73243e2",
   "metadata": {},
   "outputs": [
    {
     "name": "stdout",
     "output_type": "stream",
     "text": [
      "2 8 10 12 "
     ]
    }
   ],
   "source": [
    "num_iter = filter(is_even, num)\n",
    "\n",
    "for item in num_iter:\n",
    "    print(item, end = ' ')"
   ]
  },
  {
   "cell_type": "markdown",
   "id": "0e30a84e",
   "metadata": {},
   "source": [
    "아래처럼 간단하게 확인할 수도 있다."
   ]
  },
  {
   "cell_type": "code",
   "execution_count": 51,
   "id": "24846fa1-8818-42e6-933a-62eb944ca11a",
   "metadata": {},
   "outputs": [
    {
     "data": {
      "text/plain": [
       "[2, 8, 10, 12]"
      ]
     },
     "execution_count": 51,
     "metadata": {},
     "output_type": "execute_result"
    }
   ],
   "source": [
    "list(filter(is_even, num))"
   ]
  },
  {
   "cell_type": "markdown",
   "id": "8dc153be-a204-4b0e-a752-20b6b96345cd",
   "metadata": {},
   "source": [
    "**`map()` 함수**\n",
    "\n",
    "`map(function, iterable)` 함수는 `iterable`의 모든 항목에 \n",
    "`function`을 적용한 후 그 결과를 돌려주는 이터레이터를 반환한다.  "
   ]
  },
  {
   "cell_type": "code",
   "execution_count": 52,
   "id": "866bc345",
   "metadata": {},
   "outputs": [],
   "source": [
    "def is_even(n) :\n",
    "    if not n % 2 :\n",
    "        return True\n",
    "    else :\n",
    "        return False\n",
    "\n",
    "num = [2, 8, 9, 3, 10, 12]"
   ]
  },
  {
   "cell_type": "code",
   "execution_count": 53,
   "id": "03ca0661-31db-4a46-accf-aeaf4176da8e",
   "metadata": {},
   "outputs": [
    {
     "name": "stdout",
     "output_type": "stream",
     "text": [
      "True True False False True True "
     ]
    }
   ],
   "source": [
    "num_map = map(is_even, num)\n",
    "\n",
    "for item in num_map :\n",
    "    print(item, end = ' ')"
   ]
  },
  {
   "cell_type": "markdown",
   "id": "b0374877",
   "metadata": {},
   "source": [
    "리스트의 각 항목을 제곱하려면 다음과 같이 한다."
   ]
  },
  {
   "cell_type": "code",
   "execution_count": 54,
   "id": "154d1240",
   "metadata": {},
   "outputs": [],
   "source": [
    "def square(x):\n",
    "    return x**2"
   ]
  },
  {
   "cell_type": "code",
   "execution_count": 55,
   "id": "a7de5378",
   "metadata": {},
   "outputs": [
    {
     "data": {
      "text/plain": [
       "[4, 64, 81, 9, 100, 144]"
      ]
     },
     "execution_count": 55,
     "metadata": {},
     "output_type": "execute_result"
    }
   ],
   "source": [
    "list(map(square, num))"
   ]
  },
  {
   "cell_type": "markdown",
   "id": "65e56114",
   "metadata": {},
   "source": [
    "## 적극적 계산과 소극적 계산"
   ]
  },
  {
   "cell_type": "markdown",
   "id": "783f7376",
   "metadata": {},
   "source": [
    "`range` 객체처럼 모든 값을 미리 생성해서 준비해 놓는 대신에 필요할 때 필요한 항목을 생성하는 것을 \n",
    "**소극적**<font size='2'>lazy</font> 계산이라 부른다. \n",
    "반면에 호출 되자마자 바로 실행하는 것은 **적극적**<font size='2'>eager</font> 계산이다.\n",
    "파이썬은 기본적으로 적극적 계산을 사용하지만 제너레이터 경우와 같이 부분적으로\n",
    "소극적 계산을 지원한다."
   ]
  },
  {
   "cell_type": "markdown",
   "id": "eb6de46b",
   "metadata": {},
   "source": [
    "**무한 수열 생성**\n",
    "\n",
    "제너레이터를 이용하면 무한 수열을 다룰 수 있다. \n",
    "이유는 소극적 계산을 따르는 제너레이터는 항상 요구되는 만큼만 생성하기에\n",
    "절대로 무한히 많은 값들을 한꺼번에 다루지 않기 때문이다.\n",
    "\n",
    "예를 들어, 아래 `natural_numbers` 함수는 모든 자연수를 생성할 준비가 된 제너레이터이다."
   ]
  },
  {
   "cell_type": "code",
   "execution_count": 56,
   "id": "b2cd9a99",
   "metadata": {},
   "outputs": [],
   "source": [
    "def natural_numbers():\n",
    "    \"\"\"모든 자연수 생성 가능\"\"\"\n",
    "    n = 1\n",
    "    while True:\n",
    "        yield n\n",
    "        n += 1"
   ]
  },
  {
   "cell_type": "markdown",
   "id": "b6801749",
   "metadata": {},
   "source": [
    "물론 위와 같이 무한 수열을 생성할 수 있는 제너레이터는 매우 조심해서 사용해야 한다.\n",
    "예를 들어 아래와 같이 사용하면 무한 반복(loop)이 발생한다.\n",
    "\n",
    "```python\n",
    "for i in natural_numbers():\n",
    "    print(i)\n",
    "```"
   ]
  },
  {
   "cell_type": "markdown",
   "id": "d4a80fb1",
   "metadata": {},
   "source": [
    "무한히 많은 값을 생성할 수 있는 제너레이터는 `break` 명령문 등을 적절히\n",
    "섞어서 사용해야 한다.\n",
    "예를 들어, 1부터 시작하는 자연수 5개를 항목으로 갖는 리스트는 다음과 생성한다. "
   ]
  },
  {
   "cell_type": "code",
   "execution_count": 57,
   "id": "df1c33ca",
   "metadata": {},
   "outputs": [
    {
     "name": "stdout",
     "output_type": "stream",
     "text": [
      "[1, 2, 3, 4, 5]\n"
     ]
    }
   ],
   "source": [
    "list_5 = []\n",
    "\n",
    "for i in natural_numbers():\n",
    "    if i > 5:\n",
    "        break\n",
    "    list_5.append(i)\n",
    "    \n",
    "print(list_5)"
   ]
  },
  {
   "cell_type": "markdown",
   "id": "fd97b3cd",
   "metadata": {},
   "source": [
    "**무한 피보나찌 수열 생성**\n",
    "\n",
    "아래 코드는 피보나찌 수열을 무한정 생성하는 제너레이터를 정의한다."
   ]
  },
  {
   "cell_type": "code",
   "execution_count": 58,
   "id": "8a0c4388",
   "metadata": {},
   "outputs": [],
   "source": [
    "def fib():\n",
    "    prev, curr = 0, 1\n",
    "    while True:\n",
    "        yield curr\n",
    "        prev, curr = curr, prev + curr"
   ]
  },
  {
   "cell_type": "markdown",
   "id": "f02e2738",
   "metadata": {},
   "source": [
    "피보나찌 수열의 처음 10개 항목은 다음과 같다."
   ]
  },
  {
   "cell_type": "code",
   "execution_count": 59,
   "id": "e942ec9b",
   "metadata": {},
   "outputs": [
    {
     "name": "stdout",
     "output_type": "stream",
     "text": [
      "1 1 2 3 5 8 13 21 34 55 "
     ]
    }
   ],
   "source": [
    "count = 0\n",
    "\n",
    "for item in fib():\n",
    "    if count >= 10:\n",
    "        break\n",
    "        \n",
    "    print(item, end=' ')\n",
    "    count += 1"
   ]
  },
  {
   "cell_type": "markdown",
   "id": "d24a93f6",
   "metadata": {},
   "source": [
    "피보나찌 수열의 처음 n개의 항목을 출력하는 함수는 다음과 같다."
   ]
  },
  {
   "cell_type": "code",
   "execution_count": 60,
   "id": "e9acca81",
   "metadata": {},
   "outputs": [],
   "source": [
    "def fibo(n):\n",
    "    count = 0\n",
    "\n",
    "    for item in fib():\n",
    "        if count >= n:\n",
    "            break\n",
    "\n",
    "        print(item, end=' ')\n",
    "        count += 1"
   ]
  },
  {
   "cell_type": "code",
   "execution_count": 61,
   "id": "5d78d419",
   "metadata": {},
   "outputs": [
    {
     "name": "stdout",
     "output_type": "stream",
     "text": [
      "1 1 2 "
     ]
    }
   ],
   "source": [
    "fibo(3)"
   ]
  },
  {
   "cell_type": "code",
   "execution_count": 62,
   "id": "4fd56d6c",
   "metadata": {},
   "outputs": [
    {
     "name": "stdout",
     "output_type": "stream",
     "text": [
      "1 1 2 3 5 8 13 21 34 55 "
     ]
    }
   ],
   "source": [
    "fibo(10)"
   ]
  },
  {
   "cell_type": "markdown",
   "id": "f7f15d49",
   "metadata": {},
   "source": [
    "## 연습문제"
   ]
  },
  {
   "cell_type": "markdown",
   "id": "fe2cd1b1",
   "metadata": {},
   "source": [
    "참고: [(실습) 사례 연구: 이터러블, 이터레이터, 제너레이터](https://colab.research.google.com/github/codingalzi/pybook/blob/master/practices/practice-casestudy_collections.ipynb)"
   ]
  }
 ],
 "metadata": {
  "kernelspec": {
   "display_name": "Python 3 (ipykernel)",
   "language": "python",
   "name": "python3"
  },
  "language_info": {
   "codemirror_mode": {
    "name": "ipython",
    "version": 3
   },
   "file_extension": ".py",
   "mimetype": "text/x-python",
   "name": "python",
   "nbconvert_exporter": "python",
   "pygments_lexer": "ipython3",
   "version": "3.11.5"
  },
  "vscode": {
   "interpreter": {
    "hash": "ad0f3c8a064f687cbf898a0868fd45ba1c7e928ac8a0404f7c241d812ddc1e76"
   }
  }
 },
 "nbformat": 4,
 "nbformat_minor": 5
}