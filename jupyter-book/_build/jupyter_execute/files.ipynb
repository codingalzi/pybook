{
 "cells": [
  {
   "cell_type": "markdown",
   "metadata": {},
   "source": [
    "(ch:files)=\n",
    "# 파일"
   ]
  },
  {
   "cell_type": "markdown",
   "metadata": {},
   "source": [
    "다이빙 선수 열 명의 5m 다이빙 경기의 점수 데이터를 저장한 텍스트 파일에서 \n",
    "필요한 정보를 추출하는 과정을 살펴본다.\n",
    "파일의 내용은 다음과 같이 첫째 줄엔 '이름'과 '점수'라는 구분이 표시되어 있으며,\n",
    "둘째 줄부터 총 열 명의 이름과 점수가 기록되어 있다.\n",
    "\n",
    "```\n",
    "이름  점수\n",
    "권준기  7.13\n",
    "김세윤  8.55\n",
    "나진서  9.02\n",
    "마동탁  8.35\n",
    "서길석  7.86\n",
    "이준용  8.17\n",
    "이차승  9.33\n",
    "차승연  7.11\n",
    "표방호  8.57\n",
    "한석준  8.93\n",
    "```"
   ]
  },
  {
   "cell_type": "markdown",
   "metadata": {},
   "source": [
    "## 파일의 종류와 경로"
   ]
  },
  {
   "cell_type": "markdown",
   "metadata": {},
   "source": [
    "**텍스트 파일과 바이너리 파일**\n",
    "\n",
    "파일은 텍스트<font size='2'>text</font> 파일과 \n",
    "바이너리<font size='2'>binary</font> 파일 두 가지로 나뉜다.\n",
    "\n",
    "바이너리 파일은 한컴 오피스의 한글 파일, MS 워드 파일과 파워포인트 파일,\n",
    "jpg, png, gif 등의 사진 파일 등 특정 소프트웨어를 사용해야만 \n",
    "내용을 확인할 수 있는 파일이다.\n",
    "그리고 exe 확장자를 갖는 앱 설치 파일 등도 바이너리 파일이다.\n",
    "\n",
    "반면에 텍스트 파일은 내용을 확인하기 위해 특별한 기능이 필요 없고\n",
    "임의의 텍스트 편집기를 사용해도 내용을 바로 확인할 수 있다.\n",
    "여기서는 텍스트 파일만을 대상으로 파이썬 코드를 이용하여 \n",
    "파일 다운로드, 열기, 수정하기 등을 살펴본다."
   ]
  },
  {
   "cell_type": "markdown",
   "metadata": {},
   "source": [
    "**경로**\n",
    "\n",
    "경로는 특정 디렉토리(폴더) 또는 파일의 위치를 나타내는 문자열이다. \n",
    "사용하는 운영체제마다 표현 방법이 다르기에 조심해야 한다.\n",
    "예를 들어 현재 파이썬 코드가 실행되는 디렉토리의 경로는 \n",
    "리눅스와 윈도우의 경우 다음과 같이 다르게 표현된다.\n",
    "\n",
    "- 리눅스의 경우: '/home/gslee/Documents/GitHub/pybook'\n",
    "- 윈도우의 경우: 'C:\\Users\\gslee\\Documents\\GitHub\\pybook'\n",
    "\n",
    "하지만 `pathlib` 모듈의 `Path` 자료형을 이용하면 운영체제를 신경쓰지 않고 경로를 다룰 수 있다."
   ]
  },
  {
   "cell_type": "markdown",
   "metadata": {},
   "source": [
    "**디렉토리와 폴더**\n",
    "\n",
    "디렉토리<font size='2'>directory</font>와 폴더<font size='2'>folder</font>는 동일한 개념이다. \n",
    "다만 리눅스 계열 운영체제에서는 디렉토리를, 윈도우 운영체제에서는 폴더를 선호한다.\n",
    "그리고 리눅스 계열 운영체제에서는 디렉토리를 파일이라고 부르기도 한다.\n",
    "하지만 여기서는 디렉토리를 폴더 개념으로만 사용하며 파일과는 구분한다."
   ]
  },
  {
   "cell_type": "markdown",
   "metadata": {},
   "source": [
    "## 파일 준비"
   ]
  },
  {
   "cell_type": "markdown",
   "metadata": {},
   "source": [
    "먼저 위에서 언급된 파일을 다운 받아서 파이썬 코딩을 실습하는 디렉토리에 저장한다.\n",
    "여기서는 `data`라는 하위디렉토리에 `results5m.txt`라는 파일로 저장한다."
   ]
  },
  {
   "cell_type": "markdown",
   "metadata": {},
   "source": [
    "**`pathlib.Path` 클래스: 디렉토리 지정**\n",
    "\n",
    "파일을 저장할 디렉토리를 지정한다.\n",
    "이를 위해 `pathlib` 모듈의 `Path` 클래스를 이용한다.\n",
    "`Path` 클래스는 지정된 디렉토리 또는 파일의 경로를 담은 객체를 생성한다.\n",
    "\n",
    "- `Path()` : 현재 디렉토리를 나타내는 객체. `Path('.')` 과 동일한 의미임.\n",
    "- 슬래시 연산자 `/`: 두 개의 경로를 이어붙히는 연산자. 왼쪽 인자는 `Path` 객체, 둘째 인자는 문자열."
   ]
  },
  {
   "cell_type": "code",
   "execution_count": 1,
   "metadata": {},
   "outputs": [],
   "source": [
    "from pathlib import Path\n",
    "\n",
    "data_path = Path() / \"data\""
   ]
  },
  {
   "cell_type": "markdown",
   "metadata": {},
   "source": [
    "`Path` 객체는 다양한 정보를 다루는 메서드와 속성을 제공한다.\n",
    "예를 들어, 현재 작업 디렉토리(current working directory)의 경로를 확인하려면 `cwd()` 메서드를 실행한다."
   ]
  },
  {
   "cell_type": "code",
   "execution_count": 2,
   "metadata": {},
   "outputs": [
    {
     "data": {
      "text/plain": [
       "PosixPath('/home/gslee/Documents/GitHub/pybook/jupyter-book')"
      ]
     },
     "execution_count": 2,
     "metadata": {},
     "output_type": "execute_result"
    }
   ],
   "source": [
    "data_path.cwd()"
   ]
  },
  {
   "cell_type": "markdown",
   "metadata": {},
   "source": [
    "`name` 속성은 경로가 가리키는 디렉토리 또는 파일 이름을 저장한다. "
   ]
  },
  {
   "cell_type": "code",
   "execution_count": 3,
   "metadata": {},
   "outputs": [
    {
     "data": {
      "text/plain": [
       "'data'"
      ]
     },
     "execution_count": 3,
     "metadata": {},
     "output_type": "execute_result"
    }
   ],
   "source": [
    "data_path.name"
   ]
  },
  {
   "cell_type": "markdown",
   "metadata": {},
   "source": [
    "`parent` 속성은 지정되 경로가 가리키는 디렉토리 또는 파일이 저장된 부모 디렉토리의 이름을 저장한다.\n",
    "`data_path` 가 현재 디렉토리의 하위 디렉토리인 `data`를 가리키기에\n",
    "그것의 부모 디렉토리인 현재 디렉토리를 가리키는 점(`'.'`) 이 저장된다."
   ]
  },
  {
   "cell_type": "code",
   "execution_count": 4,
   "metadata": {},
   "outputs": [
    {
     "data": {
      "text/plain": [
       "PosixPath('.')"
      ]
     },
     "execution_count": 4,
     "metadata": {},
     "output_type": "execute_result"
    }
   ],
   "source": [
    "data_path.parent"
   ]
  },
  {
   "cell_type": "markdown",
   "metadata": {},
   "source": [
    "**`Path.mkdir()` 메서드: 디렉토리 생성**\n",
    "\n",
    "`Path` 객체의 `mkdir()` 메서드를 이용하여 지정된 경로에 해당하는 디렉토리를 실제 생성한다. \n",
    "다음 두 개의 옵션 인자를 사용한다.\n",
    "\n",
    "- `parent=True`: 부모 디렉토리가 필요하면 생성할 것.\n",
    "- `exist_ok = True`: 디렉토리 이미 존재하면 그대로 사용할 것. "
   ]
  },
  {
   "cell_type": "code",
   "execution_count": 5,
   "metadata": {},
   "outputs": [],
   "source": [
    "data_path.mkdir(parents=True, exist_ok=True)"
   ]
  },
  {
   "cell_type": "markdown",
   "metadata": {},
   "source": [
    "**`urllib.request.urlretrieve()` 함수: 파일 다운로드**\n",
    "\n",
    "인터넷에 존재하는 파일을 지정된 이름으로 다운로드 한다.\n",
    "이를 위해 `urllib.request` 모듈의 `urlretrieve()` 함수를 이용한다.\n",
    "\n",
    "- 첫째 인자: 다운로드할 파일 주소\n",
    "- 둘째 인자: 저장할 디렉토리와 파일명으로 구성된 경로\n",
    "- 반환값: 저장된 파일의 경로와 다운로드에 사용된 웹브라우저 등에 대한 정보로 구성된 튜플.\n",
    "    파일 경로에 표시되는 `PosixPath` 또는 `WindowsPath` 는 \n",
    "    각각 리눅스 계열 방식의 경로와 윈도우 방식의 경로를 가리키며\n",
    "    사용하는 운영체제 마다 둘 중에 한 방식으로 보여질 것이다."
   ]
  },
  {
   "cell_type": "code",
   "execution_count": 6,
   "metadata": {},
   "outputs": [
    {
     "data": {
      "text/plain": [
       "(PosixPath('data/results5m.txt'), <http.client.HTTPMessage at 0x7f716870ec10>)"
      ]
     },
     "execution_count": 6,
     "metadata": {},
     "output_type": "execute_result"
    }
   ],
   "source": [
    "import urllib.request\n",
    "\n",
    "# 파일 서버 기본 주고\n",
    "base_url = \"https://raw.githubusercontent.com/codingalzi/pybook/master/jupyter-book/data/\"\n",
    "# 파일명\n",
    "file_name_5m = \"results5m.txt\"\n",
    "# 파일 주소\n",
    "file_url_5m = base_url + file_name_5m\n",
    "\n",
    "target_path_5m = data_path / \"results5m.txt\"\n",
    "\n",
    "urllib.request.urlretrieve(file_url_5m, target_path_5m)"
   ]
  },
  {
   "cell_type": "markdown",
   "metadata": {},
   "source": [
    "**파일 다운로드 함수**\n",
    "\n",
    "앞으로 파일의 이름만 달리하면서 동일 사이트에서 여러 파일을 다운로드 할 것이다.\n",
    "따라서 위 코드를 다운로드할 파일의 이름만 지정하면 지정된 경로에 동일한 이름으로\n",
    "다운로드하여 저장하는 함수를 선언하는 것이 좋다.\n",
    "즉, 위 코드를 `myWget()` 함수로 캡슐화해보자.\n",
    "\n",
    "함수의 인자는 다운로드할 파일명을 사용할 것이기에 위 코드에서 파일명을 제외한 \n",
    "나머지는 거의 동일하게 사용된다."
   ]
  },
  {
   "cell_type": "code",
   "execution_count": 7,
   "metadata": {},
   "outputs": [],
   "source": [
    "def myWget(filename):\n",
    "    base_url = \"https://raw.githubusercontent.com/codingalzi/pybook/master/jupyter-book/data/\"\n",
    "    file_url = base_url + filename\n",
    "\n",
    "    target_path = data_path / filename\n",
    "\n",
    "    return urllib.request.urlretrieve(file_url, target_path)"
   ]
  },
  {
   "cell_type": "markdown",
   "metadata": {},
   "source": [
    "**`open()` 함수: 저장된 파일 불러오기**"
   ]
  },
  {
   "cell_type": "markdown",
   "metadata": {},
   "source": [
    "저장된 파일을 활용하려면 먼저 불러와야<font size='2'>loading</font> 한다.\n",
    "가장 기본적인 방식으로 `open()` 함수를 이용하여\n",
    "불러온 파일 객체를 변수에 할당한다.\n",
    "\n",
    "```python\n",
    "file = open(파일경로) \n",
    "```\n",
    "\n",
    "하지만 다운로드가 잘못 되었거나 다른 곳에 저장되어 있다면 오류가 발생한다.\n",
    "따라서 코드의 안전할 실행을 위해 많은 경우 다음처럼 `try-except` 명령문을 \n",
    "이용하여 예외처리를 하기도 한다. \n",
    "`FileNotFoundError` 는 지정된 파일이 존재하지 않을 때 발생하는 오류를 가리킨다.\n",
    "\n",
    "```python\n",
    "try:\n",
    "    file = open(파일경로) \n",
    "except FileNotFoundError:\n",
    "    print(\"열고자 하는 파일이 존재하지 않습니다.\")\n",
    "```\n",
    "\n",
    "여기서는 그냥 간단한 버전을 사용한다."
   ]
  },
  {
   "cell_type": "code",
   "execution_count": 8,
   "metadata": {},
   "outputs": [],
   "source": [
    "f = open(target_path_5m)"
   ]
  },
  {
   "cell_type": "markdown",
   "metadata": {},
   "source": [
    "**파일 내용 확인**"
   ]
  },
  {
   "cell_type": "markdown",
   "metadata": {},
   "source": [
    "`f` 변수가 가리키는 값의 자료형은 `_io.TextIOWrapper` 라는 \n",
    "이름도 생소한 자료형이다."
   ]
  },
  {
   "cell_type": "code",
   "execution_count": 9,
   "metadata": {},
   "outputs": [
    {
     "data": {
      "text/plain": [
       "_io.TextIOWrapper"
      ]
     },
     "execution_count": 9,
     "metadata": {},
     "output_type": "execute_result"
    }
   ],
   "source": [
    "type(f)"
   ]
  },
  {
   "cell_type": "markdown",
   "metadata": {},
   "source": [
    "하지만 자료형은 전혀 중요하지 않다.\n",
    "다만 파일에 저장된 내용을 확인하려면 아래와 같이 `for` 반복문을 \n",
    "사용해야 한다는 점은 기억해야 한다."
   ]
  },
  {
   "cell_type": "code",
   "execution_count": 10,
   "metadata": {},
   "outputs": [
    {
     "name": "stdout",
     "output_type": "stream",
     "text": [
      "이름  점수\n",
      "\n",
      "권준기  7.13\n",
      "\n",
      "김세윤  8.55\n",
      "\n",
      "나진서  9.02\n",
      "\n",
      "마동탁  8.35\n",
      "\n",
      "서길석  7.86\n",
      "\n",
      "이준용  8.17\n",
      "\n",
      "이차승  9.33\n",
      "\n",
      "차승연  7.11\n",
      "\n",
      "표방호  8.57\n",
      "\n",
      "한석준  8.93\n"
     ]
    }
   ],
   "source": [
    "for line in f:                   # 각 줄 내용 출력하기\n",
    "    print(line)"
   ]
  },
  {
   "cell_type": "markdown",
   "metadata": {},
   "source": [
    "불러온 파일 객체는 한 번만 사용할 수 있는 이터레이터이다. "
   ]
  },
  {
   "cell_type": "code",
   "execution_count": 11,
   "metadata": {},
   "outputs": [
    {
     "data": {
      "text/plain": [
       "True"
      ]
     },
     "execution_count": 11,
     "metadata": {},
     "output_type": "execute_result"
    }
   ],
   "source": [
    "from collections.abc import Iterator\n",
    "\n",
    "isinstance(f, Iterator)"
   ]
  },
  {
   "cell_type": "markdown",
   "metadata": {},
   "source": [
    "`for` 반복문을 다시 실행하면 더 이상 보여줄게 없다."
   ]
  },
  {
   "cell_type": "code",
   "execution_count": 12,
   "metadata": {},
   "outputs": [],
   "source": [
    "for line in f:\n",
    "    print(line)"
   ]
  },
  {
   "cell_type": "markdown",
   "metadata": {},
   "source": [
    "불러온 파일을 다 사용했으면 닫아 주어야 한다."
   ]
  },
  {
   "cell_type": "code",
   "execution_count": 13,
   "metadata": {},
   "outputs": [],
   "source": [
    "f.close()"
   ]
  },
  {
   "cell_type": "markdown",
   "metadata": {},
   "source": [
    "**`with-as` 키워드 활용**\n",
    "\n",
    "파일을 불러오고 할 일을 다하면 파일 닫기를 자동으로 처리하는 다음 방식으로 진행하는 것이 권장된다."
   ]
  },
  {
   "cell_type": "code",
   "execution_count": 14,
   "metadata": {},
   "outputs": [
    {
     "name": "stdout",
     "output_type": "stream",
     "text": [
      "이름  점수\n",
      "\n",
      "권준기  7.13\n",
      "\n",
      "김세윤  8.55\n",
      "\n",
      "나진서  9.02\n",
      "\n",
      "마동탁  8.35\n",
      "\n",
      "서길석  7.86\n",
      "\n",
      "이준용  8.17\n",
      "\n",
      "이차승  9.33\n",
      "\n",
      "차승연  7.11\n",
      "\n",
      "표방호  8.57\n",
      "\n",
      "한석준  8.93\n"
     ]
    }
   ],
   "source": [
    "with open(\"./data/results5m.txt\") as f:\n",
    "    for line in f: \n",
    "        print(line)"
   ]
  },
  {
   "cell_type": "markdown",
   "metadata": {},
   "source": [
    "줄 사이가 넓은 이유는 파일을 작성하면서 줄바꾸기를 할 때 사용하는 엔터에 의해 줄바꾸기 기호(`\\n`)가\n",
    "각 줄의 맨 끝에 포함되어 있기 때문이다. \n",
    "`print()` 함수 자체가 출력할 때마다 기본적으로 줄바꿈을 수행하기에 이로 인해 \n",
    "결국 줄바꿈을 두 번한다.\n",
    "\n",
    "줄바꾸기를 한 번 더 하는 것을 방지하기 위해서 문자열 자료형의 `strip()` 메소드를 활용하여\n",
    "문자열의 양 끝에 있는 공백과 줄바꿈 기호를 없앨 수도 있다.\n",
    "또한 파일이 한글 문서를 담고 있다면 `open()` 메서드에 `encoding='utf-8'` 옵션 인자를 사용할 것을 추천한다.\n",
    "그리고 `mode='r'` 옵션인자를 이용하여 읽기 모드임을 명시하는 게 좋다.\n",
    "\n",
    "언급한 것을 모두 반영하여 파일을 불러오고 내용을 확인하는 코드는 다음과 같다."
   ]
  },
  {
   "cell_type": "code",
   "execution_count": 15,
   "metadata": {},
   "outputs": [
    {
     "name": "stdout",
     "output_type": "stream",
     "text": [
      "이름  점수\n",
      "권준기  7.13\n",
      "김세윤  8.55\n",
      "나진서  9.02\n",
      "마동탁  8.35\n",
      "서길석  7.86\n",
      "이준용  8.17\n",
      "이차승  9.33\n",
      "차승연  7.11\n",
      "표방호  8.57\n",
      "한석준  8.93\n"
     ]
    }
   ],
   "source": [
    "with open(\"./data/results5m.txt\", mode='r', encoding='utf-8') as f:\n",
    "    for line in f: \n",
    "        print(line.strip())"
   ]
  },
  {
   "cell_type": "markdown",
   "metadata": {},
   "source": [
    "**`read()`, `readline()`, `readlines()` 메서드**\n",
    "\n",
    "`read()` 메서드는 파일 내용을 전체를 하나의 문자열로 불러온다."
   ]
  },
  {
   "cell_type": "code",
   "execution_count": 16,
   "metadata": {},
   "outputs": [
    {
     "data": {
      "text/plain": [
       "'이름  점수\\n권준기  7.13\\n김세윤  8.55\\n나진서  9.02\\n마동탁  8.35\\n서길석  7.86\\n이준용  8.17\\n이차승  9.33\\n차승연  7.11\\n표방호  8.57\\n한석준  8.93'"
      ]
     },
     "execution_count": 16,
     "metadata": {},
     "output_type": "execute_result"
    }
   ],
   "source": [
    "with open(\"./data/results5m.txt\", mode='r', encoding='utf-8') as f:\n",
    "    lines = f.read()\n",
    "    \n",
    "lines"
   ]
  },
  {
   "cell_type": "markdown",
   "metadata": {},
   "source": [
    "`print()` 함수를 이용하면 줄바꿈 기호 등을 해석하여 보다 예쁘게 출력한다."
   ]
  },
  {
   "cell_type": "code",
   "execution_count": 17,
   "metadata": {},
   "outputs": [
    {
     "name": "stdout",
     "output_type": "stream",
     "text": [
      "이름  점수\n",
      "권준기  7.13\n",
      "김세윤  8.55\n",
      "나진서  9.02\n",
      "마동탁  8.35\n",
      "서길석  7.86\n",
      "이준용  8.17\n",
      "이차승  9.33\n",
      "차승연  7.11\n",
      "표방호  8.57\n",
      "한석준  8.93\n"
     ]
    }
   ],
   "source": [
    "print(lines)"
   ]
  },
  {
   "cell_type": "markdown",
   "metadata": {},
   "source": [
    "`readline()` 메서드는 한 줄씩 반환한다. 일종의 이터레이터의 `__next__()` 메서드와 유사하다."
   ]
  },
  {
   "cell_type": "code",
   "execution_count": 18,
   "metadata": {},
   "outputs": [
    {
     "name": "stdout",
     "output_type": "stream",
     "text": [
      "이름  점수\n",
      "권준기  7.13\n",
      "김세윤  8.55\n",
      "나진서  9.02\n",
      "마동탁  8.35\n",
      "서길석  7.86\n",
      "이준용  8.17\n",
      "이차승  9.33\n",
      "차승연  7.11\n",
      "표방호  8.57\n",
      "한석준  8.93\n"
     ]
    }
   ],
   "source": [
    "with open(\"./data/results5m.txt\", mode='r', encoding='utf-8') as f:\n",
    "    for _ in range(11):\n",
    "        print(f.readline().strip())"
   ]
  },
  {
   "cell_type": "markdown",
   "metadata": {},
   "source": [
    "`readlines()` 메서드는 파일 내용 전체를 리스트로 반환한한다.\n",
    "리스트의 각 항목은 한 줄씩 채워진다."
   ]
  },
  {
   "cell_type": "code",
   "execution_count": 19,
   "metadata": {},
   "outputs": [
    {
     "data": {
      "text/plain": [
       "['이름  점수\\n',\n",
       " '권준기  7.13\\n',\n",
       " '김세윤  8.55\\n',\n",
       " '나진서  9.02\\n',\n",
       " '마동탁  8.35\\n',\n",
       " '서길석  7.86\\n',\n",
       " '이준용  8.17\\n',\n",
       " '이차승  9.33\\n',\n",
       " '차승연  7.11\\n',\n",
       " '표방호  8.57\\n',\n",
       " '한석준  8.93']"
      ]
     },
     "execution_count": 19,
     "metadata": {},
     "output_type": "execute_result"
    }
   ],
   "source": [
    "with open(\"./data/results5m.txt\", mode='r', encoding='utf-8') as f:\n",
    "    lines = f.readlines()\n",
    "    \n",
    "lines"
   ]
  },
  {
   "cell_type": "code",
   "execution_count": 20,
   "metadata": {},
   "outputs": [
    {
     "name": "stdout",
     "output_type": "stream",
     "text": [
      "이름  점수\n",
      "권준기  7.13\n",
      "김세윤  8.55\n",
      "나진서  9.02\n",
      "마동탁  8.35\n",
      "서길석  7.86\n",
      "이준용  8.17\n",
      "이차승  9.33\n",
      "차승연  7.11\n",
      "표방호  8.57\n",
      "한석준  8.93\n"
     ]
    }
   ],
   "source": [
    "for line in lines:\n",
    "    print(line.strip())"
   ]
  },
  {
   "cell_type": "markdown",
   "metadata": {},
   "source": [
    "**`Path.open()` 메서드: 저장된 파일 불러오기**\n",
    "\n",
    "`Path` 객체의 `open()` 메서드를 이용하여 파일을 열 수도 있다.\n",
    "기본 사용법은 기본적으로 동일하다.\n",
    "실제로 `Path` 객체의 `open()` 메서드를 호출하면 `open()` 함수가 실행된다."
   ]
  },
  {
   "cell_type": "code",
   "execution_count": 21,
   "metadata": {},
   "outputs": [
    {
     "name": "stdout",
     "output_type": "stream",
     "text": [
      "이름  점수\n",
      "권준기  7.13\n",
      "김세윤  8.55\n",
      "나진서  9.02\n",
      "마동탁  8.35\n",
      "서길석  7.86\n",
      "이준용  8.17\n",
      "이차승  9.33\n",
      "차승연  7.11\n",
      "표방호  8.57\n",
      "한석준  8.93\n"
     ]
    }
   ],
   "source": [
    "with target_path_5m.open(mode='r', encoding='utf-8') as f:\n",
    "    for line in f: \n",
    "        print(line.strip())"
   ]
  },
  {
   "cell_type": "markdown",
   "metadata": {},
   "source": [
    "**`mode` 옵션 인자**"
   ]
  },
  {
   "cell_type": "markdown",
   "metadata": {},
   "source": [
    "파일을 열 때 기본적으로 읽기 모드로 열린다.\n",
    "그러면 파일 내용을 읽을 수는 있지만 수정, 추가 등은 불가능하다.\n",
    "수정 및 추가 등을 지원하려면 파일을 열 때 읽기 모드가 아닌 다른 모드로 열어야 한다.\n",
    "지원되는 모드는 다음과 같다.\n",
    "\n",
    "| 모드 옵션 | 기능 |\n",
    "| :--- | :--- |\n",
    "| 'r' | 파일 처음부터 읽기 |\n",
    "| 'w' | 새 파일 생성 후 쓰기 또는 기존 파일 내용 삭제 후 새로 쓰기 |\n",
    "| 'a' | 기존 파일 끝에 추가하기 |\n",
    "| 'r+' | 새파일 생성 후 쓰기와 읽기. 기존 파일 내용 삭제 |\n",
    "| 'a+' | 기존 파일 끝에 추가와 읽기 |"
   ]
  },
  {
   "cell_type": "markdown",
   "metadata": {},
   "source": [
    "## 텍스트 파일 생성"
   ]
  },
  {
   "cell_type": "markdown",
   "metadata": {},
   "source": [
    "10명 선수들의 5m 다이빙 기록 이외에 아래 10m 다이빙 기록이 담긴 `results10m.txt` 파일이 존재한다.\n",
    "\n",
    "```\n",
    "이름  점수\n",
    "권준기  9.11\n",
    "김세윤  8.35\n",
    "나진서  7.12\n",
    "마동탁  8.65\n",
    "서길석  9.31\n",
    "이준용  8.71\n",
    "이차승  7.33\n",
    "차승연  9.11\n",
    "표방호  8.75\n",
    "한석준  8.39\n",
    "```"
   ]
  },
  {
   "cell_type": "markdown",
   "metadata": {},
   "source": [
    "아래 방식으로 5m 기록과 10m 기록을 함께 담은 `diving_results.txt` 파일을 생성해보자.\n",
    "\n",
    "```\n",
    "이름  5m점수  10m점수\n",
    "권준기  7.13  9.11\n",
    "김세윤  8.55  8.35\n",
    "나진서  9.02  7.12\n",
    "마동탁  8.35  8.65\n",
    "서길석  7.86  9.31\n",
    "이준용  8.17  8.71\n",
    "이차승  9.33  7.33\n",
    "차승연  7.11  9.11\n",
    "표방호  8.57  8.75\n",
    "한석준  8.93  8.39\n",
    "```"
   ]
  },
  {
   "cell_type": "markdown",
   "metadata": {},
   "source": [
    "먼저 `results10m.txt` 파일을 `results5m.txt` 와 동일한 방식으로 다운로드하여 저장한다."
   ]
  },
  {
   "cell_type": "code",
   "execution_count": 22,
   "metadata": {},
   "outputs": [
    {
     "data": {
      "text/plain": [
       "(PosixPath('data/results10m.txt'), <http.client.HTTPMessage at 0x7f716bf8aac0>)"
      ]
     },
     "execution_count": 22,
     "metadata": {},
     "output_type": "execute_result"
    }
   ],
   "source": [
    "myWget(\"results10m.txt\")"
   ]
  },
  {
   "cell_type": "markdown",
   "metadata": {},
   "source": [
    "`diving_results.txt` 텍스트 파일에 채울 내용을 준비하자.\n",
    "그러기 위해 파일로부터 이름과 점수를 키와 값으로 사용하는 사전을 생성한다.\n",
    "이를 위해 파일을 불러오기 위해 `open()` 함수 또는 `Path` 객체의 메서드 둘 다 이용할 수 있지만 \n",
    "여기서는 메서드를 사용한다."
   ]
  },
  {
   "cell_type": "code",
   "execution_count": 23,
   "metadata": {},
   "outputs": [
    {
     "data": {
      "text/plain": [
       "{'권준기': '7.13',\n",
       " '김세윤': '8.55',\n",
       " '나진서': '9.02',\n",
       " '마동탁': '8.35',\n",
       " '서길석': '7.86',\n",
       " '이준용': '8.17',\n",
       " '이차승': '9.33',\n",
       " '차승연': '7.11',\n",
       " '표방호': '8.57',\n",
       " '한석준': '8.93'}"
      ]
     },
     "execution_count": 23,
     "metadata": {},
     "output_type": "execute_result"
    }
   ],
   "source": [
    "with target_path_5m.open() as f:\n",
    "    results_5m_dict = {}\n",
    "    for line in f:\n",
    "        name, score = line.strip().split()\n",
    "        if score != '점수':\n",
    "            results_5m_dict[name] = score\n",
    "        \n",
    "results_5m_dict"
   ]
  },
  {
   "cell_type": "code",
   "execution_count": 24,
   "metadata": {},
   "outputs": [
    {
     "data": {
      "text/plain": [
       "{'권준기': '9.11',\n",
       " '김세윤': '8.35',\n",
       " '나진서': '7.12',\n",
       " '마동탁': '8.65',\n",
       " '서길석': '9.31',\n",
       " '이준용': '8.71',\n",
       " '이차승': '7.33',\n",
       " '차승연': '9.11',\n",
       " '표방호': '8.75',\n",
       " '한석준': '8.39'}"
      ]
     },
     "execution_count": 24,
     "metadata": {},
     "output_type": "execute_result"
    }
   ],
   "source": [
    "with open(\"data/results10m.txt\") as f:\n",
    "    results_10m_dict = {}\n",
    "    for line in f:\n",
    "        name, score = line.strip().split()\n",
    "        if score != '점수':\n",
    "            results_10m_dict[name] = score\n",
    "        \n",
    "results_10m_dict"
   ]
  },
  {
   "cell_type": "markdown",
   "metadata": {},
   "source": [
    "두 개의 점수로 이루어진 튜플을 값으로 사용하는 사전을 생성한다. "
   ]
  },
  {
   "cell_type": "code",
   "execution_count": 25,
   "metadata": {},
   "outputs": [],
   "source": [
    "diving_results_dict = {}\n",
    "\n",
    "for name in results_5m_dict:\n",
    "    score_5m = results_5m_dict[name]\n",
    "    score_10m = results_10m_dict[name]\n",
    "    diving_results_dict[name] = (score_5m, score_10m)"
   ]
  },
  {
   "cell_type": "code",
   "execution_count": 26,
   "metadata": {},
   "outputs": [
    {
     "data": {
      "text/plain": [
       "{'권준기': ('7.13', '9.11'),\n",
       " '김세윤': ('8.55', '8.35'),\n",
       " '나진서': ('9.02', '7.12'),\n",
       " '마동탁': ('8.35', '8.65'),\n",
       " '서길석': ('7.86', '9.31'),\n",
       " '이준용': ('8.17', '8.71'),\n",
       " '이차승': ('9.33', '7.33'),\n",
       " '차승연': ('7.11', '9.11'),\n",
       " '표방호': ('8.57', '8.75'),\n",
       " '한석준': ('8.93', '8.39')}"
      ]
     },
     "execution_count": 26,
     "metadata": {},
     "output_type": "execute_result"
    }
   ],
   "source": [
    "diving_results_dict"
   ]
  },
  {
   "cell_type": "markdown",
   "metadata": {},
   "source": [
    "**파일 객체의 `write()` 메서드**"
   ]
  },
  {
   "cell_type": "markdown",
   "metadata": {},
   "source": [
    "이제 `diving_results.txt` 텍스트 파일을 생성할 수 있다.\n",
    "이를 위해 `open()` 함수를 `'w'` 모드로 연 다음에 \n",
    "앞서 생성된 사전의 키와 값을 적적히 조합하여 파일에 한 줄씩 추가한다.\n",
    "파일에 한 줄을 추가하는 기능은 `write()` 메서드를 이용한다."
   ]
  },
  {
   "cell_type": "code",
   "execution_count": 27,
   "metadata": {},
   "outputs": [],
   "source": [
    "with open(data_path / \"diving_results.txt\", \"w\") as f:\n",
    "    f.write(\"이름  5m점수  10m점수\\n\")\n",
    "    for key, scores in diving_results_dict.items():\n",
    "        score1, score2 = scores\n",
    "        line = key + \"  \" + score1 + \"  \" + score2 + \"\\n\"\n",
    "        f.write(line)\n",
    "    "
   ]
  },
  {
   "cell_type": "code",
   "execution_count": 28,
   "metadata": {},
   "outputs": [
    {
     "name": "stdout",
     "output_type": "stream",
     "text": [
      "이름  5m점수  10m점수\n",
      "권준기  7.13  9.11\n",
      "김세윤  8.55  8.35\n",
      "나진서  9.02  7.12\n",
      "마동탁  8.35  8.65\n",
      "서길석  7.86  9.31\n",
      "이준용  8.17  8.71\n",
      "이차승  9.33  7.33\n",
      "차승연  7.11  9.11\n",
      "표방호  8.57  8.75\n",
      "한석준  8.93  8.39\n"
     ]
    }
   ],
   "source": [
    "with open(\"data/diving_results.txt\", 'r') as f:\n",
    "    for line in f:\n",
    "        print(line.strip())"
   ]
  },
  {
   "cell_type": "markdown",
   "metadata": {},
   "source": [
    "## 점수 확인하기"
   ]
  },
  {
   "cell_type": "markdown",
   "metadata": {},
   "source": [
    "이제 모든 줄이 동일한 모양을 갖고 있다는 점에 착안하여 아래와 같이 각각의 줄에 담긴 \n",
    "내용 중에서 점수에 해당하는 부분을 아래와 같이 확인할 수 있다.\n",
    "\n",
    "**주의:** 리스트의 색인도 문자열의 경우처럼 0부터 시작한다. \n",
    "따라서 리스트의 둘째 항목의 색인은 1인다."
   ]
  },
  {
   "cell_type": "code",
   "execution_count": 29,
   "metadata": {},
   "outputs": [
    {
     "name": "stdout",
     "output_type": "stream",
     "text": [
      "점수\n",
      "7.13\n",
      "8.55\n",
      "9.02\n",
      "8.35\n",
      "7.86\n",
      "8.17\n",
      "9.33\n",
      "7.11\n",
      "8.57\n",
      "8.93\n"
     ]
    }
   ],
   "source": [
    "try:\n",
    "    f = open(\"./data/results5m.txt\", 'r') \n",
    "except FileNotFoundError:\n",
    "    print(\"열고자 하는 파일이 존재하지 않습니다.\")\n",
    "\n",
    "for line in f: \n",
    "    record = line.split()          # 공백으로 쪼개기\n",
    "    print(record[1])\n",
    "\n",
    "f.close() "
   ]
  },
  {
   "cell_type": "markdown",
   "metadata": {},
   "source": [
    "### 1등 점수 확인하기"
   ]
  },
  {
   "cell_type": "markdown",
   "metadata": {},
   "source": [
    "그런데 첫째 줄 내용은 점수를 비교하는 데에 필요없다. \n",
    "따라서 무시하는 방법을 사용하도록 하자.\n",
    "특정 줄을 무시하려면 그 줄이 갖지 않는 특성을 활용해야 한다.\n",
    "실제로 첫째 줄은 `Score`라는 문자열이고\n",
    "둘째 줄부터는 부동소수점 모양의 문자열이다.\n",
    "\n",
    "1등 점수를 확인하려면 부동소수점 모양의 문자열이 아니라\n",
    "진짜로 부동소수점을 다뤄야 한다.\n",
    "따라서 `float` 함수를 이용하여 부동소수점 모양의 문자열을 \n",
    "진짜 부동소수점으로 변환해야 하는데,\n",
    "첫째줄에서 다음과 같은 `ValueError` 오류가 발생할 것이다."
   ]
  },
  {
   "cell_type": "markdown",
   "metadata": {},
   "source": [
    "```python\n",
    ">>> float('Score')\n",
    "ValueError                                Traceback (most recent call last)\n",
    "/tmp/ipykernel_3317/564178523.py in <module>\n",
    "----> 1 float('Score')\n",
    "\n",
    "ValueError: could not convert string to float: 'Score'\n",
    "```"
   ]
  },
  {
   "cell_type": "markdown",
   "metadata": {},
   "source": [
    "따라서 첫째 줄에서 이와같은 오류가 발생할 것을 예상하고\n",
    "이를 예외처리 기법으로 다루면 첫째줄을 무시할 수 있으며,\n",
    "예를 들어 다음과 같이 할 수 있다.\n",
    "\n",
    "**참고:** `for` 또는 `while` 반복문에서 `continue` 명령문이 실행되면\n",
    "실행을 정지하고 바로 해당 반복문의 처음으로 돌아가서 다음 반복을 실행한다.\n",
    "`continue`에 대한 보다 자세한 설명은 \n",
    "[처음코딩: break와 continue](https://opentutorials.org/course/2991/18056)를\n",
    "참조한다."
   ]
  },
  {
   "cell_type": "code",
   "execution_count": 30,
   "metadata": {},
   "outputs": [
    {
     "name": "stdout",
     "output_type": "stream",
     "text": [
      "1등은 9.33점 입니다.\n"
     ]
    }
   ],
   "source": [
    "try:\n",
    "    f = open(\"./data/results5m.txt\", 'r') \n",
    "except FileNotFoundError:\n",
    "    print(\"열고자 하는 파일이 존재하지 않습니다.\")\n",
    "\n",
    "highst_score = 0                   # 1등 점수 저장\n",
    "\n",
    "for line in f: \n",
    "    record = line.split()\n",
    "\n",
    "    try:                           # 첫째 줄 제외\n",
    "        score = float(record[1])\n",
    "    except ValueError:\n",
    "        continue                   # 오류가 발생하는 줄 무시\n",
    "\n",
    "    if highst_score < score:       # 1등 점수와 비교\n",
    "        highst_score = score       # 1등 점수 갱신\n",
    "\n",
    "f.close() \n",
    "\n",
    "print(f\"1등은 {highst_score}점 입니다.\")"
   ]
  },
  {
   "cell_type": "markdown",
   "metadata": {},
   "source": [
    "**주의:** `else` 명령문은 필요하지 않은 경우 생략이 가능하다."
   ]
  },
  {
   "cell_type": "markdown",
   "metadata": {},
   "source": [
    "### 2등, 3등 점수 확인하기"
   ]
  },
  {
   "cell_type": "markdown",
   "metadata": {},
   "source": [
    "이제 2등 점수까지 확인해보자.\n",
    "2등 점수를 기억할 변수가 하나 더 필요하며\n",
    "확인된 점수가 기존의 1등 점수보다 큰지, 2등 점수보다 큰지 여부에 따라 \n",
    "1, 2등 점수를 기억하는 변수의 값들을 \n",
    "업데이트 해야 한다."
   ]
  },
  {
   "cell_type": "code",
   "execution_count": 31,
   "metadata": {},
   "outputs": [
    {
     "name": "stdout",
     "output_type": "stream",
     "text": [
      "1등은 9.33점 입니다.\n",
      "2등은 9.02점 입니다.\n"
     ]
    }
   ],
   "source": [
    "try:\n",
    "    f = open(\"./data/results5m.txt\", 'r') \n",
    "except FileNotFoundError:\n",
    "    print(\"열고자 하는 파일이 존재하지 않습니다.\")\n",
    "\n",
    "highst_score = 0\n",
    "second_highst_score = 0                    # 2등 점수 저장\n",
    "\n",
    "for line in f: \n",
    "    record = line.split()\n",
    "\n",
    "    try: \n",
    "        score = float(record[1])\n",
    "    except ValueError:\n",
    "        continue\n",
    "\n",
    "    if highst_score < score:\n",
    "        second_highst_score = highst_score\n",
    "        highst_score = score\n",
    "    elif second_highst_score < score:      # 2등 점수와 비교\n",
    "        second_highst_score = score        # 2등 점수 갱신\n",
    "\n",
    "f.close() \n",
    "\n",
    "print(f\"1등은 {highst_score}점 입니다.\")\n",
    "print(f\"2등은 {second_highst_score}점 입니다.\")"
   ]
  },
  {
   "cell_type": "markdown",
   "metadata": {},
   "source": [
    "그런데 위와 같은 식으로 3등 점수까지 확인하려면 더 많은 변수와 조건문을 사용해야 하며,\n",
    "코드가 점점 길어진다."
   ]
  },
  {
   "cell_type": "code",
   "execution_count": 32,
   "metadata": {},
   "outputs": [
    {
     "name": "stdout",
     "output_type": "stream",
     "text": [
      "1등은 9.33점 입니다.\n",
      "2등은 9.02점 입니다.\n",
      "3등은 8.93점 입니다.\n"
     ]
    }
   ],
   "source": [
    "try:\n",
    "    f = open(\"./data/results5m.txt\", 'r') \n",
    "except FileNotFoundError:\n",
    "    print(\"열고자 하는 파일이 존재하지 않습니다.\")\n",
    "\n",
    "highst_score = 0\n",
    "second_highst_score = 0\n",
    "third_highst_score = 0                          # 3등 점수 저장\n",
    "\n",
    "for line in f: \n",
    "    record = line.split()\n",
    "\n",
    "    try: \n",
    "        score = float(record[1])\n",
    "    except ValueError:\n",
    "        continue\n",
    "\n",
    "    if highst_score < score:\n",
    "        third_highst_score = second_highst_score\n",
    "        second_highst_score = highst_score\n",
    "        highst_score = score\n",
    "    elif second_highst_score < score:\n",
    "        third_highst_score = second_highst_score\n",
    "        second_highst_score = score\n",
    "    elif third_highst_score < score:             # 3등 점수 확인\n",
    "        third_highst_score = score               # 3등 점수 갱신\n",
    "\n",
    "f.close() \n",
    "\n",
    "print(f\"1등은 {highst_score}점 입니다.\")\n",
    "print(f\"2등은 {second_highst_score}점 입니다.\")\n",
    "print(f\"3등은 {third_highst_score}점 입니다.\")"
   ]
  },
  {
   "cell_type": "markdown",
   "metadata": {},
   "source": [
    "### 프로그램 구상 문제"
   ]
  },
  {
   "cell_type": "markdown",
   "metadata": {},
   "source": [
    "4등, 5등, ... 점수는 어떻게 구하나?\n",
    "위와 같은 방식으로 진행하면 유사한 명령문을 복사-붙이기 형식으로 \n",
    "코드를 계속해서 수정해야 한다.\n",
    "그런데 이렇게 원하는 등수에 따라 코드 자체가 수정되어야 한다면\n",
    "프로그램 구상을 애초부터 잘못했다고 생각해야 한다.\n",
    "\n",
    "위 코드의 근본적인 문제는 선수들의 점수를 따라따로 관리하는 데에 있다.\n",
    "각 선수의 점수를 다른 선수의 점수와 비교해야 하는데\n",
    "선수들의 점수를 하나로 모아서 관리할 수 있으면 \n",
    "선수들간의 비교를 보다 효율적으로 할 수 있다.\n",
    "\n",
    "따라서 선수의 기록을 모아서 한꺼번에 처리하는 기술이 요구된다.\n",
    "여기서는 \n",
    "**[리스트](https://github.com/liganega/ProgInPython/blob/master/notebooks/PiPy04C-Lists.ipynb)** \n",
    "자료형을 활용하여 선수들의 점수를 모은 후\n",
    "리스트 자료형의 메서드를 활용하여 선수들간의 점수를 비교하는 \n",
    "보다 간단한 방법을 소개한다."
   ]
  },
  {
   "cell_type": "markdown",
   "metadata": {},
   "source": [
    "## 프로그램 업그레이드 1: 리스트 정렬 활용"
   ]
  },
  {
   "cell_type": "markdown",
   "metadata": {},
   "source": [
    "몇 등 점수를 알아내야 하는가와 상관없이 동일하게 작동하는\n",
    "프로그램을 구현한다.\n",
    "\n",
    "이를 위해 리스트를 활용하며, 프로그램 구상은 다음과 같다.\n",
    "\n",
    "* 서핑 대회 참가선수들의 기록들을 모아 놓은 리스트를 생성한다.\n",
    "* 선수들의 기록을 점수 순으로 정렬한다.\n",
    "* 정렬된 점수에서 원하는 등수의 점수를 추출한다."
   ]
  },
  {
   "cell_type": "markdown",
   "metadata": {},
   "source": [
    "### 1, 2, 3 등 확인하기"
   ]
  },
  {
   "cell_type": "markdown",
   "metadata": {},
   "source": [
    "리스트 풀어헤치기와 리스트 정렬 기법을 이용하여 1, 2, 3등을 아래와 같이 확인할 수 있다."
   ]
  },
  {
   "cell_type": "code",
   "execution_count": 33,
   "metadata": {},
   "outputs": [
    {
     "name": "stdout",
     "output_type": "stream",
     "text": [
      "1, 2, 3등의 점수는 다음과 같습니다.\n",
      "\n",
      "1등: 9.33\n",
      "2등: 9.02\n",
      "3등: 8.93\n"
     ]
    }
   ],
   "source": [
    "try:\n",
    "    f = open(\"./data/results5m.txt\", 'r') \n",
    "except FileNotFoundError:\n",
    "    print(\"열고자 하는 파일이 존재하지 않습니다.\")\n",
    "\n",
    "score_list = []                           # 점수 저장 용도 리스트 선언\n",
    "\n",
    "for line in f: \n",
    "    name, score = line.split()            # 각 줄을 두 단어의 리스트로 쪼갠 후 풀어헤치기\n",
    "    try:\n",
    "        score_list.append(float(score))   # 첫째 줄 제외. 숫자만 scores 리스트에 추가\n",
    "    except ValueError:\n",
    "        continue\n",
    "\n",
    "f.close() \n",
    "\n",
    "score_list.sort(reverse=True)             # 리스트를 크기 기준 내림차순으로 정렬\n",
    "\n",
    "print(\"1, 2, 3등의 점수는 다음과 같습니다.\\n\") \n",
    "print(f\"1등: {score_list[0]}\")             # 1등 점수 = 0번 인덱스 값\n",
    "print(f\"2등: {score_list[1]}\")             # 2등 점수 = 1번 인덱스 값\n",
    "print(f\"3등: {score_list[2]}\")             # 3등 점수 = 2번 인덱스 값"
   ]
  },
  {
   "cell_type": "markdown",
   "metadata": {},
   "source": [
    "## 프로그램 업그레이드 2: 함수 활용"
   ]
  },
  {
   "cell_type": "markdown",
   "metadata": {},
   "source": [
    "앞서 살펴본 코드를 함수로 추상화하면 원하는 등수의 점수를 함수호출로 간단하게 확인할 수 있다."
   ]
  },
  {
   "cell_type": "markdown",
   "metadata": {},
   "source": [
    "### 프로그램 구상"
   ]
  },
  {
   "cell_type": "markdown",
   "metadata": {},
   "source": [
    "* 위 프로그램에서 변하는 부분은 등수와 관련된 부분이다.\n",
    "* 즉, 등수에 해당하는 것만 제외하면 다른 부분은 전혀 변하지 않는다.\n",
    "* 따라서 등수를 인자로 받는 함수로 추상화하면 된다."
   ]
  },
  {
   "cell_type": "markdown",
   "metadata": {},
   "source": [
    "따라서 함수의 본체에 해당하는 부분은 다음과 같다.\n",
    "\n",
    "```python\n",
    "try:\n",
    "    f = open(\"./data/results5m.txt\", 'r') \n",
    "except FileNotFoundError:\n",
    "    print(\"열고자 하는 파일이 존재하지 않습니다.\")\n",
    "\n",
    "score_list = []\n",
    "\n",
    "for line in f: \n",
    "    name, score = line.split()\n",
    "    try:\n",
    "        score_list.append(float(score))\n",
    "    except ValueError:\n",
    "        continue\n",
    "\n",
    "f.close() \n",
    "\n",
    "score_list.sort(reverse=True)\n",
    "```\n",
    "\n",
    "n등의 점수는 `score_list[n-1]`이다.\n",
    "따라서 함수의 리턴값은 아래와 같다.\n",
    "\n",
    "```python\n",
    "return score_list[n-1]\n",
    "```"
   ]
  },
  {
   "cell_type": "markdown",
   "metadata": {},
   "source": [
    "따라서 아래와 같이 랭킹(`ranking`) 함수를 정의할 수 있다."
   ]
  },
  {
   "cell_type": "code",
   "execution_count": 34,
   "metadata": {},
   "outputs": [],
   "source": [
    "def ranking(n):                                     # n등 점수 요구\n",
    "    try:\n",
    "        f = open(\"./data/results5m.txt\", 'r') \n",
    "    except FileNotFoundError:\n",
    "        print(\"열고자 하는 파일이 존재하지 않습니다.\")\n",
    "\n",
    "    score_list = [] \n",
    "\n",
    "    for line in f: \n",
    "        name, score = line.split() \n",
    "        try:\n",
    "            score_list.append(float(score)) \n",
    "        except:\n",
    "            continue\n",
    "    f.close() \n",
    "\n",
    "    score_list.sort(reverse=True) \n",
    "    \n",
    "    return score_list[n-1]                          # n등 점수 내주기"
   ]
  },
  {
   "cell_type": "markdown",
   "metadata": {},
   "source": [
    "이제 모든 등수의 점수를 쉽게 확일할 수 있다."
   ]
  },
  {
   "cell_type": "code",
   "execution_count": 35,
   "metadata": {},
   "outputs": [
    {
     "data": {
      "text/plain": [
       "9.33"
      ]
     },
     "execution_count": 35,
     "metadata": {},
     "output_type": "execute_result"
    }
   ],
   "source": [
    "ranking(1)"
   ]
  },
  {
   "cell_type": "code",
   "execution_count": 36,
   "metadata": {},
   "outputs": [
    {
     "data": {
      "text/plain": [
       "8.55"
      ]
     },
     "execution_count": 36,
     "metadata": {},
     "output_type": "execute_result"
    }
   ],
   "source": [
    "ranking(5)"
   ]
  },
  {
   "cell_type": "markdown",
   "metadata": {},
   "source": [
    "### 함수 일반화"
   ]
  },
  {
   "cell_type": "markdown",
   "metadata": {},
   "source": [
    "위 함수를 좀 더 일반화할 수 있다.\n",
    "예를 들어, `results5m.txt`에 포함된 내용의 형식과 동일한 어떤\n",
    "분야의 점수기록 파일도 동일한 함수로 각 분야별 등수를 확인할 수 있도록 해보자.\n",
    "\n",
    "그러려면 먼저, `ranking` 함수에서 변하는 부분을 확인해야 하는데,\n",
    "바로 점수기록을 담고 있는 파일명이 해당된다.\n",
    "따라서 그 부분을 함수의 매개변수로 돌려 활용한다.\n",
    "아래 `ranking` 함수의 정의에서 `fileName`이 파일명을 인자로 받아 함수 본체에\n",
    "전달하는 매개변수이다."
   ]
  },
  {
   "cell_type": "code",
   "execution_count": 37,
   "metadata": {},
   "outputs": [],
   "source": [
    "def ranking(n, fileName):                         # fileName 기록파일의 n등 점수 요구\n",
    "    try:\n",
    "        f = open(fileName, 'r') \n",
    "    except FileNotFoundError:\n",
    "        print(\"열고자 하는 파일이 존재하지 않습니다.\")\n",
    "\n",
    "    score_list = [] \n",
    "\n",
    "    for line in f: \n",
    "        name, score = line.split() \n",
    "        try:\n",
    "            score_list.append(float(score)) \n",
    "        except:\n",
    "            continue\n",
    "    f.close() \n",
    "\n",
    "    score_list.sort(reverse=True) \n",
    "    \n",
    "    return score_list[n-1]                        # fileName 기록파일의 n등 점수 내주기"
   ]
  },
  {
   "cell_type": "markdown",
   "metadata": {},
   "source": [
    "이제 `results5m.txt` 기록파일의 1등, 7등 점수는 다음과 같다.\n",
    "\n",
    "**주의:** 기록파일이 `data`라는 하위폴더에 들어있다고 가정한다."
   ]
  },
  {
   "cell_type": "code",
   "execution_count": 38,
   "metadata": {},
   "outputs": [
    {
     "data": {
      "text/plain": [
       "9.33"
      ]
     },
     "execution_count": 38,
     "metadata": {},
     "output_type": "execute_result"
    }
   ],
   "source": [
    "ranking(1,'./data/results5m.txt')"
   ]
  },
  {
   "cell_type": "code",
   "execution_count": 39,
   "metadata": {},
   "outputs": [
    {
     "data": {
      "text/plain": [
       "8.17"
      ]
     },
     "execution_count": 39,
     "metadata": {},
     "output_type": "execute_result"
    }
   ],
   "source": [
    "ranking(7,'./data/results5m.txt')"
   ]
  },
  {
   "cell_type": "markdown",
   "metadata": {},
   "source": [
    "10m 다이빙 시합에서 1등과 7등의 점수는 다음과 같다."
   ]
  },
  {
   "cell_type": "code",
   "execution_count": 40,
   "metadata": {},
   "outputs": [
    {
     "data": {
      "text/plain": [
       "9.31"
      ]
     },
     "execution_count": 40,
     "metadata": {},
     "output_type": "execute_result"
    }
   ],
   "source": [
    "ranking(1,'./data/results10m.txt')"
   ]
  },
  {
   "cell_type": "code",
   "execution_count": 41,
   "metadata": {},
   "outputs": [
    {
     "data": {
      "text/plain": [
       "8.39"
      ]
     },
     "execution_count": 41,
     "metadata": {},
     "output_type": "execute_result"
    }
   ],
   "source": [
    "ranking(7,'./data/results10m.txt')"
   ]
  },
  {
   "cell_type": "markdown",
   "metadata": {},
   "source": [
    "## 심화예제"
   ]
  },
  {
   "cell_type": "markdown",
   "metadata": {},
   "source": [
    "다이빙 대회에 참가한 선수들의 기록을 다룬 파일보다 좀 더 많은 정보를 포함한\n",
    "데이터 파일을 분석하고자 한다.\n",
    "파일에 좀 더 많은 내용이 담겨있지만 데이터 분석 방법은 거의 동일하다."
   ]
  },
  {
   "cell_type": "markdown",
   "metadata": {},
   "source": [
    "안내: [SciPy Lecture: Basic Reductions](https://scipy-lectures.org/intro/numpy/operations.html#basic-reductions)\n",
    "내용을 참조합니다."
   ]
  },
  {
   "cell_type": "markdown",
   "metadata": {},
   "source": [
    "1900년부터 1920년까지 매년 토끼(rabbit), 스라소니(lynx), 당근(carrot)의 개체수를 조사한 자료가 \n",
    "[populations.txt](https://raw.githubusercontent.com/codingalzi/pybook/master/jupyter-book/data/populations.txt)\n",
    "파일에 저장되어 있다.\n",
    "파일 내용을 확인하면 다음과 같다.\n",
    "\n",
    "**주의:** `populations.txt` 파일이 `data`라는 하위 디렉토리에 저장되어 있다고 가정하며,\n",
    "아래 코드를 실행하면 자동으로 지정된 폴더에 저장된다."
   ]
  },
  {
   "cell_type": "code",
   "execution_count": 42,
   "metadata": {},
   "outputs": [
    {
     "data": {
      "text/plain": [
       "(PosixPath('data/populations.txt'),\n",
       " <http.client.HTTPMessage at 0x7f716bfaaf10>)"
      ]
     },
     "execution_count": 42,
     "metadata": {},
     "output_type": "execute_result"
    }
   ],
   "source": [
    "myWget(\"populations.txt\")"
   ]
  },
  {
   "cell_type": "code",
   "execution_count": 43,
   "metadata": {},
   "outputs": [
    {
     "name": "stdout",
     "output_type": "stream",
     "text": [
      "# 연도\t토끼\t스라소니\t당근\n",
      "1900\t30e3\t4e3\t48300\n",
      "1901\t47.2e3\t6.1e3\t48200\n",
      "1902\t70.2e3\t9.8e3\t41500\n",
      "1903\t77.4e3\t35.2e3\t38200\n",
      "1904\t36.3e3\t59.4e3\t40600\n",
      "1905\t20.6e3\t41.7e3\t39800\n",
      "1906\t18.1e3\t19e3\t38600\n",
      "1907\t21.4e3\t13e3\t42300\n",
      "1908\t22e3\t8.3e3\t44500\n",
      "1909\t25.4e3\t9.1e3\t42100\n",
      "1910\t27.1e3\t7.4e3\t46000\n",
      "1911\t40.3e3\t8e3\t46800\n",
      "1912\t57e3\t12.3e3\t43800\n",
      "1913\t76.6e3\t19.5e3\t40900\n",
      "1914\t52.3e3\t45.7e3\t39400\n",
      "1915\t19.5e3\t51.1e3\t39000\n",
      "1916\t11.2e3\t29.7e3\t36700\n",
      "1917\t7.6e3\t15.8e3\t41800\n",
      "1918\t14.6e3\t9.7e3\t43300\n",
      "1919\t16.2e3\t10.1e3\t41300\n",
      "1920\t24.7e3\t8.6e3\t47300\n"
     ]
    }
   ],
   "source": [
    "with open('./data/populations.txt', 'r') as pop_file:\n",
    "    for line in pop_file:\n",
    "        print(line.strip())            # strip 메소드로 양끝 공백 및 줄바꿈 기호 제거"
   ]
  },
  {
   "cell_type": "markdown",
   "metadata": {},
   "source": [
    "위 코드에서, 예를 들어, `47.2e3`는 47.2 곱하기 10의 3승이다.\n",
    "즉,"
   ]
  },
  {
   "cell_type": "code",
   "execution_count": 44,
   "metadata": {},
   "outputs": [
    {
     "data": {
      "text/plain": [
       "47200.0"
      ]
     },
     "execution_count": 44,
     "metadata": {},
     "output_type": "execute_result"
    }
   ],
   "source": [
    "47.2e3"
   ]
  },
  {
   "cell_type": "code",
   "execution_count": 45,
   "metadata": {},
   "outputs": [
    {
     "data": {
      "text/plain": [
       "True"
      ]
     },
     "execution_count": 45,
     "metadata": {},
     "output_type": "execute_result"
    }
   ],
   "source": [
    "47.2e3 == 47.2 * 1000"
   ]
  },
  {
   "cell_type": "markdown",
   "metadata": {},
   "source": [
    "### 당근 개체수의 최대값 구하기"
   ]
  },
  {
   "cell_type": "markdown",
   "metadata": {},
   "source": [
    "이제 당근 개체수가 가장 많았을 때의 값을 알아내고자 하며, \n",
    "앞서 사용한 기술을 그대로 따라하기 위해 `split` 메소드를 활용한다. \n",
    "\n",
    "`results5m.txt` 파일과의 차이점은 두 가지이다.\n",
    "\n",
    "* 맨 윗줄에 항목에 대한 설명이 있지만 주석을 의미하는 샵(`#`) 기호로 시작한다.\n",
    "    이 특징을 활용하여 예외처리 대신에 조건문을 사용할 수 있다.\n",
    "* 각 줄별로 세 개의 공백이 사용되어서, `split` 메소드를 실행하면 \n",
    "    네 개의 문자열로 쪼개질 것이다.\n",
    "    각각의 항목은 차례대로 연도, 토끼 개체수, 스라소니 개체수, 당근 개체수를 가리킨다.\n",
    "    따라서 길이가 4인 리스트가 생성되며, \n",
    "    풀어헤치기를 하려면, 예를 들어, year, rabbit, lynx, carrot 등 \n",
    "    네 개의 변수를 사용해야 한다."
   ]
  },
  {
   "cell_type": "code",
   "execution_count": 46,
   "metadata": {},
   "outputs": [
    {
     "name": "stdout",
     "output_type": "stream",
     "text": [
      "토끼 개체수의 최대값은 77400.0이다.\n"
     ]
    }
   ],
   "source": [
    "with open('./data/populations.txt') as pop_file:\n",
    "    populations = []                                   # 개체수 저장 리스트 선언\n",
    "\n",
    "    for line in pop_file:\n",
    "        if line.startswith('#'):                       # 샵으로 시작하는 맨 윗줄 건너뛰기\n",
    "            continue\n",
    "        else:\n",
    "            year, rabbit, lynx, carrot = line.split()  # 각 줄은 네 개의 숫자로 쪼개짐\n",
    "            populations.append(float(rabbit))           # 토끼 개체수만 저장함\n",
    "\n",
    "populations.sort(reverse=True)                        \n",
    "\n",
    "print(f\"토끼 개체수의 최대값은 {populations[0]}이다.\")"
   ]
  },
  {
   "cell_type": "markdown",
   "metadata": {},
   "source": [
    "### 함수화"
   ]
  },
  {
   "cell_type": "markdown",
   "metadata": {},
   "source": [
    "위 코드를 응용하여 연도별 토끼 개체수를 리턴하는 `rabbitNumber` 함수를 구현할 수 있다.\n",
    "아래 사항에 주의해야 한다.\n",
    "\n",
    "* 연도별로 토끼 개체수를 확인하려면 정렬(sorting)을 사용하지 말아야 한다.\n",
    "* 인자로 1900 ~ 1920 사이의 값이 사용된다.\n",
    "    * 1900년도 토끼의 개체수는 0번 색인을 가진다.\n",
    "    * 1920년도 토끼의 개체수는 20번 색인을 가진다.\n",
    "    * 따라서 특정 년도의 토끼 개체수가 위치하는 항목의 인덱스는 \n",
    "        해당 연도에서 1900을 빼야 한다."
   ]
  },
  {
   "cell_type": "code",
   "execution_count": 47,
   "metadata": {},
   "outputs": [],
   "source": [
    "def rabbitNumber(yr):\n",
    "    with open('./data/populations.txt') as pop_file:\n",
    "        populations = []                          \n",
    "\n",
    "        for line in pop_file:\n",
    "            if line.startswith('#'):              \n",
    "                continue\n",
    "            else:\n",
    "                year, rabbit, lynx, carrot = line.split() \n",
    "                populations.append(float(rabbit))           \n",
    "    \n",
    "    return populations[yr-1900]      # 연도에서 1900을 빼야 해당연도의 인덱스가 됨"
   ]
  },
  {
   "cell_type": "code",
   "execution_count": 48,
   "metadata": {},
   "outputs": [
    {
     "data": {
      "text/plain": [
       "30000.0"
      ]
     },
     "execution_count": 48,
     "metadata": {},
     "output_type": "execute_result"
    }
   ],
   "source": [
    "rabbitNumber(1900)"
   ]
  },
  {
   "cell_type": "code",
   "execution_count": 49,
   "metadata": {},
   "outputs": [
    {
     "data": {
      "text/plain": [
       "24700.0"
      ]
     },
     "execution_count": 49,
     "metadata": {},
     "output_type": "execute_result"
    }
   ],
   "source": [
    "rabbitNumber(1920)"
   ]
  },
  {
   "cell_type": "code",
   "execution_count": 50,
   "metadata": {},
   "outputs": [
    {
     "data": {
      "text/plain": [
       "40300.0"
      ]
     },
     "execution_count": 50,
     "metadata": {},
     "output_type": "execute_result"
    }
   ],
   "source": [
    "rabbitNumber(1911)"
   ]
  },
  {
   "cell_type": "markdown",
   "metadata": {},
   "source": [
    "## 연습문제"
   ]
  },
  {
   "cell_type": "markdown",
   "metadata": {},
   "source": [
    "1. 2등 점수를 확인하는 코드를 아래와 같이 구현할 경우 어떤 문제가 발생하는지 설명하라.\n",
    "```python\n",
    "f = open(\"./data/results5m.txt\") \n",
    "highst_score = 0\n",
    "second_highst_score = 0                    # 2등 점수 저장\n",
    "for line in f: \n",
    "     record = line.split()\n",
    "     try: \n",
    "        score = float(record[1])\n",
    "     except:\n",
    "        continue\n",
    "     if highst_score < score:               # 1, 2등 점수 갱신 경우 확인\n",
    "        highst_score = score\n",
    "     elif second_highst_score < score:      # 2등 점수 갱신 경우 확인\n",
    "        second_highst_score = score\n",
    "     else:\n",
    "        continue\n",
    "f.close() \n",
    "print(\"2등 점수는\", second_highst_score, \"입니다.\")\n",
    "```\n",
    "<br>\n",
    "1. `max` 함수를 이용하여 `ranking` 함수를 구현하라.\n",
    "<br><br>\n",
    "1. `rabbitNumber` 함수를 예를 들어 1921을 인자로 사용하여 호출하면 오류가 발생한다. \n",
    "    `rabbitNumber` 함수를 아래 조건이 만족되도록 수정하라.\n",
    "    * 예외처리를 이용하여 1900~1920을 벗어나는 년도를 인자로 사용하면 아래 문자열이 출력되도록 한다. \n",
    "\n",
    "    > \"해당년도 데이터가 존재하지 않습니다.\"\n",
    "\n",
    "1. `rabitNumber` 함수를 수정하여 연도와 함께 생물종류 또한 인자로 활용하는 함수 \n",
    "    `populationNumber` 함수를 구현하라.\n",
    "    예를 들어, 다음이 성립해야 한다.\n",
    "    \n",
    "    > populationNumber(1915, 'rabit') = rabitNumber(1915)"
   ]
  }
 ],
 "metadata": {
  "kernelspec": {
   "display_name": "Python 3 (ipykernel)",
   "language": "python",
   "name": "python3"
  },
  "language_info": {
   "codemirror_mode": {
    "name": "ipython",
    "version": 3
   },
   "file_extension": ".py",
   "mimetype": "text/x-python",
   "name": "python",
   "nbconvert_exporter": "python",
   "pygments_lexer": "ipython3",
   "version": "3.9.7"
  }
 },
 "nbformat": 4,
 "nbformat_minor": 2
}