{
 "cells": [
  {
   "cell_type": "markdown",
   "id": "3efee1fe",
   "metadata": {},
   "source": [
    "(ch:inheritance)=\n",
    "# 상속"
   ]
  },
  {
   "cell_type": "markdown",
   "id": "a28a618a",
   "metadata": {},
   "source": [
    "클래스와 객체를 보다 실용적으로 활용하는 상속을 소개한다."
   ]
  },
  {
   "cell_type": "markdown",
   "id": "c9706010",
   "metadata": {},
   "source": [
    "## 상속이란?"
   ]
  },
  {
   "cell_type": "markdown",
   "id": "c659c467",
   "metadata": {},
   "source": [
    "**상속**<font size='2'>inheritance</font>은 기존의 **부모 클래스**에서 선언된 속성(변수)과 기능(메서드)을 \n",
    "재활용 또는 수정하거나,필요한 속성과 기능을 추가해서 새로운 **자식 클래스**를 선언하여 \n",
    "객체를 보다 효율적으로 활용하는 OOP의 핵심 기법 중 하나다.\n",
    "\n",
    "클래스 상속은 다음과 같이 정의한다.\n",
    "\n",
    "```python\n",
    "class 자식 클래스(부모 클래스):\n",
    "    본문\n",
    "```"
   ]
  },
  {
   "cell_type": "markdown",
   "id": "d9105f5b",
   "metadata": {},
   "source": [
    "**부모 클래스 예제**"
   ]
  },
  {
   "cell_type": "markdown",
   "id": "8f6b44c0",
   "metadata": {},
   "source": [
    "아래 클래스는 영화 **어벤저스**의 주인공 캐릭터 생성에 활용되는 클래스를 선언한다."
   ]
  },
  {
   "cell_type": "code",
   "execution_count": 1,
   "id": "59a402cf",
   "metadata": {},
   "outputs": [],
   "source": [
    "class Character:\n",
    "    # 생성자\n",
    "    def __init__(self, name, power, damage, inventory):\n",
    "        self.name = name\n",
    "        self.power = power\n",
    "        self.damage = damage\n",
    "        self.inventory = inventory\n",
    "        \n",
    "    # 자기소개\n",
    "    def introduction(self):\n",
    "        print(f\"이름: {self.name}\")\n",
    "        print(f\"파워: {self.power}\")\n",
    "        print(f\"공격력: {self.damage}\")\n",
    "        print(f\"수트 성능: {self.inventory['suit']}\")\n",
    "        print(f\"무기: {self.inventory['weapon']}\")\n",
    "        \n",
    "    # 파워 정보 확인\n",
    "    def getPower(self):\n",
    "        return self.power\n",
    "    \n",
    "    # 파워 업데이트\n",
    "    def setPower(self, power):\n",
    "        self.power = self.power + power\n",
    "        \n",
    "    # 상대 캐릭터 공격력\n",
    "    def attack(self, other):\n",
    "        print(f\"{self.name}: {other.name} 공격!\")\n",
    "        # 공격력의 10% 만큼 상대 파워 감소시킴\n",
    "        attackPower = self.damage * 0.1 \n",
    "        other.setPower(-attackPower)"
   ]
  },
  {
   "cell_type": "markdown",
   "id": "015cc656",
   "metadata": {},
   "source": [
    "예를 들어 아이언맨과 데드풀 캐릭터 객체를 다음과 같이 생성한다."
   ]
  },
  {
   "cell_type": "code",
   "execution_count": 2,
   "id": "455f8ced",
   "metadata": {},
   "outputs": [],
   "source": [
    "ironman = Character('아이언맨', 100, 200, {'suit': 500, 'weapon': '레이저'})\n",
    "deadpool = Character('데드풀', 300, 30, {'suit': 300, 'weapon': '장검'})"
   ]
  },
  {
   "cell_type": "markdown",
   "id": "8e660944",
   "metadata": {},
   "source": [
    "**`Character` 메서드 활용**"
   ]
  },
  {
   "cell_type": "markdown",
   "id": "15229d2a",
   "metadata": {},
   "source": [
    "아이언맨이 자기를 소개할 때 `introduction()` 메서드를 활용한다."
   ]
  },
  {
   "cell_type": "code",
   "execution_count": 3,
   "id": "a51b1daa",
   "metadata": {},
   "outputs": [
    {
     "name": "stdout",
     "output_type": "stream",
     "text": [
      "이름: 아이언맨\n",
      "파워: 100\n",
      "공격력: 200\n",
      "수트 성능: 500\n",
      "무기: 레이저\n"
     ]
    }
   ],
   "source": [
    "ironman.introduction()"
   ]
  },
  {
   "cell_type": "markdown",
   "id": "fa3dcddf",
   "metadata": {},
   "source": [
    "아이언맨 파워의 확인과 업데이트는 각각 `getPower()`와 `setPower()`를 이용한다."
   ]
  },
  {
   "cell_type": "code",
   "execution_count": 4,
   "id": "cab69b13",
   "metadata": {},
   "outputs": [
    {
     "name": "stdout",
     "output_type": "stream",
     "text": [
      "100\n"
     ]
    }
   ],
   "source": [
    "print(ironman.getPower())"
   ]
  },
  {
   "cell_type": "code",
   "execution_count": 5,
   "id": "cb9e4c73",
   "metadata": {},
   "outputs": [
    {
     "name": "stdout",
     "output_type": "stream",
     "text": [
      "150\n"
     ]
    }
   ],
   "source": [
    "ironman.setPower(50)\n",
    "print(ironman.getPower())"
   ]
  },
  {
   "cell_type": "markdown",
   "id": "5fd714e4",
   "metadata": {},
   "source": [
    "`attack()` 메서드는 적을 공격해서 적의 파워를 줄인다.\n",
    "예를 들어, 파워가 100인 침입자가 출현했다고 가정한다. "
   ]
  },
  {
   "cell_type": "code",
   "execution_count": 6,
   "id": "b6c86cea",
   "metadata": {},
   "outputs": [],
   "source": [
    "intruder = Character('적군', 100, 50, {'suit': 100, 'weapon': '독'})"
   ]
  },
  {
   "cell_type": "markdown",
   "id": "caacfc07",
   "metadata": {},
   "source": [
    "이제 데드풀이 침입자를 공격하니 파워가 3만큼 줄게 된다.\n",
    "여기서 3은 데드풀의 공격력의 10분의 1을 가리킨다."
   ]
  },
  {
   "cell_type": "code",
   "execution_count": 7,
   "id": "0501a1b5",
   "metadata": {},
   "outputs": [
    {
     "name": "stdout",
     "output_type": "stream",
     "text": [
      "데드풀: 적군 공격!\n"
     ]
    },
    {
     "data": {
      "text/plain": [
       "97.0"
      ]
     },
     "execution_count": 7,
     "metadata": {},
     "output_type": "execute_result"
    }
   ],
   "source": [
    "deadpool.attack(intruder)\n",
    "intruder.getPower()"
   ]
  },
  {
   "cell_type": "markdown",
   "id": "877248e1",
   "metadata": {},
   "source": [
    ":::{admonition} 게터와 세터\n",
    ":class: note\n",
    "\n",
    "`getPower()`와 `setPower()` 같이 인스턴스의 속성값을 확인하거나 지정하는 메서드를\n",
    "각각 **게터**<font size='2'>getter</font> 메서드와 **세터**<font size='2'>setter</font> 메서드라 부른다.\n",
    "관용적으로 게터/세터 메서드명은 `get`/`set` 접두사를 붙인다.\n",
    ":::"
   ]
  },
  {
   "cell_type": "markdown",
   "id": "e4fdc16d",
   "metadata": {},
   "source": [
    "**자식 클래스 예제**"
   ]
  },
  {
   "cell_type": "markdown",
   "id": "f3f6fb2f",
   "metadata": {},
   "source": [
    "아래 코드는 `Character` 클래스를 상속하면서 비행 능력이 추가된 `FlyingCharacter`를 자식 클래스로 선언한다."
   ]
  },
  {
   "cell_type": "code",
   "execution_count": 8,
   "id": "2cf3bfaa",
   "metadata": {},
   "outputs": [],
   "source": [
    "class FlyingCharacter(Character):\n",
    "    \n",
    "    # fly 기능 추가\n",
    "    def fly(self, speed):\n",
    "        print(f\"{self.name}: {speed} km/h로 날아요!!!\")"
   ]
  },
  {
   "cell_type": "markdown",
   "id": "aa33995b",
   "metadata": {},
   "source": [
    "**속성과 메서드 상속**"
   ]
  },
  {
   "cell_type": "markdown",
   "id": "bea7c3a2",
   "metadata": {},
   "source": [
    "아이언맨에게 비행 능력을 주기위해 `FlyingCharacter` 클래스의 인스턴스로 새로 지정한다."
   ]
  },
  {
   "cell_type": "code",
   "execution_count": 9,
   "id": "55432e58",
   "metadata": {},
   "outputs": [],
   "source": [
    "ironman = FlyingCharacter('아이언맨', 100, 200, {'suit': 500, 'weapon': '레이저'})"
   ]
  },
  {
   "cell_type": "markdown",
   "id": "86e09c44",
   "metadata": {},
   "source": [
    "**자식 클래스는 부모 클래스의 모든 것을 물려 받는다.**"
   ]
  },
  {
   "cell_type": "markdown",
   "id": "8112af70",
   "metadata": {},
   "source": [
    "`isinstance()` 함수를 사용하여 `ironman`은 여전히 `Character` 클래스의 \n",
    "인스턴스임을 확인할 수 있다. \n",
    "즉, 자식 클래스의 인스턴스는 모두 부모 클래스의 인스턴스이기도 하다."
   ]
  },
  {
   "cell_type": "code",
   "execution_count": 10,
   "id": "ab3497e0",
   "metadata": {},
   "outputs": [
    {
     "data": {
      "text/plain": [
       "True"
      ]
     },
     "execution_count": 10,
     "metadata": {},
     "output_type": "execute_result"
    }
   ],
   "source": [
    "isinstance(ironman, Character)"
   ]
  },
  {
   "cell_type": "markdown",
   "id": "3d818863",
   "metadata": {},
   "source": [
    "따라서 `ironman`은 `Character` 클래스의 모든 메서드를 사용할 수 있다."
   ]
  },
  {
   "cell_type": "code",
   "execution_count": 11,
   "id": "f9d77d5d",
   "metadata": {},
   "outputs": [
    {
     "data": {
      "text/plain": [
       "100"
      ]
     },
     "execution_count": 11,
     "metadata": {},
     "output_type": "execute_result"
    }
   ],
   "source": [
    "ironman.getPower()"
   ]
  },
  {
   "cell_type": "markdown",
   "id": "1377a837",
   "metadata": {},
   "source": [
    "아이언맨은 날 수도 있다."
   ]
  },
  {
   "cell_type": "code",
   "execution_count": 12,
   "id": "a0d09d52",
   "metadata": {},
   "outputs": [
    {
     "name": "stdout",
     "output_type": "stream",
     "text": [
      "아이언맨: 100 km/h로 날아요!!!\n"
     ]
    }
   ],
   "source": [
    "ironman.fly(100)"
   ]
  },
  {
   "cell_type": "markdown",
   "id": "18dbb664",
   "metadata": {},
   "source": [
    "**객체 교감**"
   ]
  },
  {
   "cell_type": "markdown",
   "id": "399e3d3d",
   "metadata": {},
   "source": [
    "헐크 캐릭터는 아예 비행 능력이 없으므로 `Character` 클래스의 인스턴스로 선언한다."
   ]
  },
  {
   "cell_type": "code",
   "execution_count": 13,
   "id": "36d11a9f",
   "metadata": {},
   "outputs": [],
   "source": [
    "hulk = Character('헐크', 400, 300, {'suit': 0, 'weapon': '주먹'})"
   ]
  },
  {
   "cell_type": "markdown",
   "id": "6b118c05",
   "metadata": {},
   "source": [
    "앞서 언급한 대로 `ironman` 역시 `Character` 클래스의 기능을 공유한다.\n",
    "따라서, 예를 들어, `ironman`과 `hulk`가 서로 공격할 수 있다.\n",
    "즉, 두 객체가 서로 교감한다."
   ]
  },
  {
   "cell_type": "code",
   "execution_count": 14,
   "id": "1766ceaf",
   "metadata": {},
   "outputs": [
    {
     "name": "stdout",
     "output_type": "stream",
     "text": [
      "아이언맨: 헐크 공격!\n"
     ]
    }
   ],
   "source": [
    "ironman.attack(hulk)"
   ]
  },
  {
   "cell_type": "code",
   "execution_count": 15,
   "id": "67f25f5e",
   "metadata": {},
   "outputs": [
    {
     "name": "stdout",
     "output_type": "stream",
     "text": [
      "헐크: 아이언맨 공격!\n"
     ]
    }
   ],
   "source": [
    "hulk.attack(ironman)"
   ]
  },
  {
   "cell_type": "markdown",
   "id": "9f1aa14c",
   "metadata": {},
   "source": [
    "**부모 클래스의 인스턴스는 자식 클래스의 기능을 갖지 못한다!**"
   ]
  },
  {
   "cell_type": "markdown",
   "id": "d1ca0ead",
   "metadata": {},
   "source": [
    "반면에 헐크는 비행 능력이 없으며 `fly` 메서드를 아예 모른다.\n",
    "아래 코드는 오류발생을 피하기 위해 예외처리를 함께 사용한다."
   ]
  },
  {
   "cell_type": "code",
   "execution_count": 16,
   "id": "b5d44a86",
   "metadata": {},
   "outputs": [
    {
     "name": "stdout",
     "output_type": "stream",
     "text": [
      "헐크: 전 날지 못해요!\n"
     ]
    }
   ],
   "source": [
    "try: \n",
    "    hulk.fly(100)\n",
    "except AttributeError: \n",
    "    print(\"헐크: 전 날지 못해요!\")"
   ]
  },
  {
   "cell_type": "markdown",
   "id": "37315b96",
   "metadata": {},
   "source": [
    "## 메서드 오버라이딩"
   ]
  },
  {
   "cell_type": "markdown",
   "id": "cccf3dea",
   "metadata": {},
   "source": [
    "자식 클래스의 생성자 메서드를 포함하여 부모 클래스로부터 상속받은 모든 메서드를 수정하여\n",
    "부모와는 다른 방식으로 인스턴스를 생성하고 다른 기능을 수행할 수 있다.\n",
    "이처럼 부모 클래스의 메서드를 재정의 하면서 상속하는 방식을 \n",
    "**메서드 오버라이딩**<font size='2'>method overriding</font>이라 부른다."
   ]
  },
  {
   "cell_type": "markdown",
   "id": "a1461f1e",
   "metadata": {},
   "source": [
    "**자식 클래스의 생성자**"
   ]
  },
  {
   "cell_type": "markdown",
   "id": "4c263235",
   "metadata": {},
   "source": [
    "모든 클래스에는 생성자 메서드인 `init()` 메서드가 포함되어야 한다. \n",
    "`FlyingCharacter` 클래스에는 부모 클래스인 `Character` 클래스의 \n",
    "`init()` 메서드를 포함해서 모든 메서드를 상속받는다.\n",
    "\n",
    "`FlyingCharacter`의 인스턴스를 생성할 때 `Character` 클래스의 인스턴스를\n",
    "생성하는 것처럼 네 개의 인자를 사용한 이유가 여기에 있다. \n",
    "실제로 `FlyingCharacter` 클래스의 생성자 메서드를 아래와 같이 선언하는 것과 동일하게 작동한다. \n",
    "\n",
    "```python\n",
    "def __init__(self, name, power, damage, inventory):\n",
    "    super().__init__(name, power, damage, inventory)\n",
    "```\n",
    "\n",
    "위 코드에서 \n",
    "`super()`는 부모 클래스인 `Character` 클래스를 가리킨다.\n",
    "따라서 `super().__init__()`는 부모 클래스의 생성자 호출을 의미한다."
   ]
  },
  {
   "cell_type": "markdown",
   "id": "d2f4ae43",
   "metadata": {},
   "source": [
    "**생성자 오버라이딩**"
   ]
  },
  {
   "cell_type": "markdown",
   "id": "b9fb217d",
   "metadata": {},
   "source": [
    "예를 들어, 아래 `FlyingCharacter` 클래스는 영웅 캐릭터의 `suit` 성능에 따라 비행 속도를 다르게 지정한다.\n",
    "이를 위해 생성자를 새롭게 정의한다\n",
    "\n",
    "- `hero`(영웅) 여부 추가\n",
    "- 영웅 캐릭터 여부와 `self.inventory[suit]` 값의 크기에 따라 `speedUp` 속성을 다르게 설정\n",
    "- 영웅 여부에 따라 정해진 `speedUp` 속성을 `fly()` 메서드에서 활용"
   ]
  },
  {
   "cell_type": "code",
   "execution_count": 17,
   "id": "8126d23a",
   "metadata": {},
   "outputs": [],
   "source": [
    "class FlyingCharacter(Character):\n",
    "    # 생성자: hero 매개변수 추가\n",
    "    def __init__(self, name, power, damage, inventory, hero=True):\n",
    "        super().__init__(name, power, damage, inventory)\n",
    "        \n",
    "        self.hero = hero\n",
    "        \n",
    "        # suit의 성능이 400 이상인 경우 두 배 속력으로 비행\n",
    "        if self.hero and self.inventory['suit'] >= 400:\n",
    "            self.speedUp = 2\n",
    "        else:\n",
    "            self.speedUp = 1\n",
    "    \n",
    "    # 영웅 캐릭터: 경우 지정 속도보다 두 배 빠르게!\n",
    "    def fly(self, speed):\n",
    "        print(f\"{self.name}: {speed*self.speedUp} km/h로 날아요!!!\")\n",
    "        \n",
    "    # attack 메서드 재정의\n",
    "    # 상대 캐릭터 공격력\n",
    "    def attack(self, other):\n",
    "        print(f\"{self.name}의 {other.name} 공격!\")\n",
    "        \n",
    "        # 영웅이 악당 공격할 때 타격효과 두 배\n",
    "        if self.hero:\n",
    "            attackPower = self.damage * 0.2\n",
    "        else:\n",
    "            attackPower = self.damage * 0.1 \n",
    "        \n",
    "        other.setPower(-attackPower)        "
   ]
  },
  {
   "cell_type": "markdown",
   "id": "30cdbeaa",
   "metadata": {},
   "source": [
    "아래 코드는 아이언맨과 울트론을 생성한 후에 시속 100으로 \n",
    "날으라고 할 때 두 캐릭터의 속도가 2배 차이나는 것을 보여준다."
   ]
  },
  {
   "cell_type": "code",
   "execution_count": 18,
   "id": "33fba59d",
   "metadata": {},
   "outputs": [
    {
     "name": "stdout",
     "output_type": "stream",
     "text": [
      "아이언맨의 울트론 공격!\n",
      "울트론의 아이언맨 공격!\n",
      "아이언맨: 200 km/h로 날아요!!!\n",
      "울트론: 100 km/h로 날아요!!!\n"
     ]
    }
   ],
   "source": [
    "ironman = FlyingCharacter('아이언맨', 100, 200, {'suit': 500, 'weapon': '레이저'})\n",
    "ultron = FlyingCharacter('울트론', 400, 300, {'suit': 300, 'weapon': '플라즈마 빔'}, hero=False)\n",
    "\n",
    "ironman.attack(ultron)\n",
    "ultron.attack(ironman)\n",
    "# 비행속도를 100으로 지정하면 아이언맨은 200으로 날아 오름.\n",
    "ironman.fly(100)\n",
    "ultron.fly(100)"
   ]
  },
  {
   "cell_type": "markdown",
   "id": "8e45bec1",
   "metadata": {},
   "source": [
    "**`attack()` 메서드 오버라이딩**"
   ]
  },
  {
   "cell_type": "markdown",
   "id": "cc91edaf",
   "metadata": {},
   "source": [
    "`Character` 클래스의 `attack` 메서드는 공격자의 `damage` 공격력의 10%만큼 상대방 파워를 감소시켰다.\n",
    "반면에 `FlyingChracter`에서 영웅 캐릭터는`damage` 공격력의 10%가 아닌 20%만큼 상대방의 파워를 감소시킨다.\n",
    "따라서 아이언맨과 울트론이 서로 공격할 때 각 캐릭터의 파워가 다르게 줄어든다."
   ]
  },
  {
   "cell_type": "code",
   "execution_count": 19,
   "id": "20e23ed3",
   "metadata": {},
   "outputs": [
    {
     "name": "stdout",
     "output_type": "stream",
     "text": [
      "아이언맨 파워: 70.0\n",
      "울트론 파워: 360.0\n",
      "아이언맨의 울트론 공격!\n",
      "울트론 파워: 320.0\n",
      "울트론의 아이언맨 공격!\n",
      "아이언맨 파워: 40.0\n"
     ]
    }
   ],
   "source": [
    "print('아이언맨 파워:', ironman.getPower())\n",
    "print('울트론 파워:', ultron.getPower())\n",
    "\n",
    "# 10% 타격\n",
    "ironman.attack(ultron)                      \n",
    "print('울트론 파워:', ultron.getPower())\n",
    "\n",
    "# 20% 타격\n",
    "ultron.attack(ironman)\n",
    "print('아이언맨 파워:', ironman.getPower())"
   ]
  },
  {
   "cell_type": "markdown",
   "id": "21e778ba",
   "metadata": {},
   "source": [
    "## 예제: 스프라이트 클래스 상속"
   ]
  },
  {
   "cell_type": "markdown",
   "id": "cdbfa2b1",
   "metadata": {},
   "source": [
    "**감사의 글** \n",
    "\n",
    "아래 내용은 [(유튜브) Python Game Coding: Introduction to Collision Detection](https://www.youtube.com/watch?v=bFURdsszto0)의 내용을 참고합니다."
   ]
  },
  {
   "cell_type": "markdown",
   "id": "1a3dcc58",
   "metadata": {},
   "source": [
    "**준비사항**\n",
    "\n",
    "여기서 사용하는 코드는\n",
    "[(레플릿) 충돌 감지: 상속](https://replit.com/@codingalzi/inheritance)에서\n",
    "확인하고 직접 실행할 수 있다.\n",
    "오프라인 환경에서 실행하려면 먼저 아래 코드의 실행에 필요한 \n",
    "[이미지 파일과 소스코드](https://github.com/codingalzi/pybook/raw/master/jupyter-book/codes/collision_detection.zip)를 \n",
    "다운로드해서 압축을 푼 다음에 `inheritance.py` 파일을 실행하면 된다."
   ]
  },
  {
   "cell_type": "markdown",
   "id": "f4d80692",
   "metadata": {},
   "source": [
    "{numref}`%s장 <ch:classes_instances_objects>`에서 정의한 `Sprite` 클래스를 상속해서\n",
    "일부 캐릭터에 점프 기능을 추가한다."
   ]
  },
  {
   "cell_type": "markdown",
   "id": "afd3048e",
   "metadata": {},
   "source": [
    "**스프라이트 클래스**"
   ]
  },
  {
   "cell_type": "markdown",
   "id": "02b86bfe",
   "metadata": {},
   "source": [
    "{numref}`%s장 <ch:classes_instances_objects>`에서 정의한\n",
    "`Sprite` 클래스는 다음과 같으며, 여기서는 `sprite.py` 파일에 저장되어 있다고 가정한다.\n",
    "저장된 파일을 하나의 모듈로 불러와서 `Sprite` 클래스를 활용한다."
   ]
  },
  {
   "cell_type": "markdown",
   "id": "1d37cb56",
   "metadata": {},
   "source": [
    "```python\n",
    "class Sprite():\n",
    "\n",
    "    ## 생성자: 스프라이트의 위치, 가로/세로 크기, 이미지 지정\n",
    "    def __init__(self, x, y, width, height, image):\n",
    "        \"\"\"\n",
    "        x: x-좌표\n",
    "        y: y-좌표\n",
    "        width: 가로 크기\n",
    "        height: 세로 크기\n",
    "        image: 모양\n",
    "        \"\"\"\n",
    "\n",
    "        self.x = x\n",
    "        self.y = y\n",
    "        self.width = width\n",
    "        self.height = height\n",
    "        self.image = image\n",
    "\n",
    "    ## 인스턴스 메서드\n",
    "\n",
    "    # 지정된 위치로 스프라이트 이동 후 도장 찍기\n",
    "    def render(self, pen):\n",
    "        pen.goto(self.x, self.y)\n",
    "        pen.shape(self.image)\n",
    "        pen.stamp()\n",
    "\n",
    "    # 충돌 감지 방법 1: 두 객체의 중심이 일치할 때\n",
    "    def is_overlapping_collision(self, other):\n",
    "        if self.x == other.x and self.y == other.y:\n",
    "            return True\n",
    "        else:\n",
    "            return False\n",
    "\n",
    "    # 충돌 감지 방법 2: 두 객체 사이의 거리가 두 객체 너비의 평균값 보다 작을 때\n",
    "    def is_distance_collision(self, other):\n",
    "        distance = (((self.x - other.x)**2) + ((self.y - other.y)**2))**0.5\n",
    "        if distance < (self.width + other.width) / 2.0:\n",
    "            return True\n",
    "        else:\n",
    "            return False\n",
    "\n",
    "    # 충돌 감지 방법 3: 객체를 둘러썬 경계상자가 겹칠 때\n",
    "    # aabb: Axis Aligned Bounding Box\n",
    "    def is_aabb_collision(self, other):\n",
    "        x_collision = (math.fabs(self.x - other.x) * 2) < (self.width +\n",
    "                                                           other.width)\n",
    "        y_collision = (math.fabs(self.y - other.y) * 2) < (self.height +\n",
    "                                                           other.height)\n",
    "        return (x_collision and y_collision)\n",
    "```"
   ]
  },
  {
   "cell_type": "markdown",
   "id": "8157fea1",
   "metadata": {},
   "source": [
    "**스프라이트 클래스 상속**"
   ]
  },
  {
   "cell_type": "markdown",
   "id": "f6582fbd",
   "metadata": {},
   "source": [
    "`Sprite` 클래스를 상속하면서 `Character` 클래스를 정의한다.\n",
    "생성자 함수가 조금 달라지며,\n",
    "객체의 점프 기능을 담당하는 `hop()` 메서드가 추가된다.\n",
    "하지만 `hop()` 함수를 실행했을 때\n",
    "점프 기능이 지정된 경우에만 작동하도록 설정한다."
   ]
  },
  {
   "cell_type": "markdown",
   "id": "6a0ec197",
   "metadata": {},
   "source": [
    "```python\n",
    "class Character(Sprite):\n",
    "    def __init__(self, x, y, width, height, image, jump=True):\n",
    "        super().__init__(x, y, width, height, image)\n",
    "        self.jump = jump\n",
    "\n",
    "    # 점프 기능 추가\n",
    "    def hop(self):\n",
    "        if self.jump == True:\n",
    "            self.x += 100\n",
    "```    "
   ]
  },
  {
   "cell_type": "markdown",
   "id": "ab6a6a3c",
   "metadata": {},
   "source": [
    "**스프라이트 객체 생성**"
   ]
  },
  {
   "cell_type": "markdown",
   "id": "a913c179",
   "metadata": {},
   "source": [
    "부모 클래스와 자식 클래스 모두를 이용하여 객체를 생성할 수 있다.\n",
    "`wizard`와 `pacman`은 `Character` 클래스의 인스턴스로, \n",
    "나머지는 `Sprite` 클래스의 인스턴스로 선언된다.\n",
    "또한 `pacman` 객체는 점프 기능도 갖는다.\n",
    "`wizard` 객체는 점프 기능을 제대로 갖추지 못했기에 `Sprite` 클래스의 인스턴스와 \n",
    "동일한 기능만 수행한다."
   ]
  },
  {
   "cell_type": "markdown",
   "id": "30fb9a43",
   "metadata": {},
   "source": [
    "```python\n",
    "## 스프라이트 생성\n",
    "wizard = Character(-128, 200, 128, 128, \"wizard.gif\", jump=False)\n",
    "goblin = Sprite(128, 200, 108, 128, \"goblin.gif\")\n",
    "\n",
    "pacman = Character(-128, 0, 128, 128, \"pacman.gif\")\n",
    "cherry = Sprite(128, 0, 128, 128, \"cherry.gif\")\n",
    "\n",
    "bar = Sprite(0, -400, 128, 24, \"bar.gif\")\n",
    "ball = Sprite(0, -200, 32, 32, \"ball.gif\")\n",
    "\n",
    "# 스프라이트 리스트\n",
    "sprites = [wizard, goblin, cherry, pacman, bar, ball]\n",
    "```    "
   ]
  },
  {
   "cell_type": "markdown",
   "id": "0cad5fb9",
   "metadata": {},
   "source": [
    "참고로 [파이썬 튜터: 상속](https://pythontutor.com/render.html#code=import%20math%0A%0Aclass%20Sprite%28%29%3A%0A%0A%20%20%20%20def%20__init__%28self,%20x,%20y,%20width,%20height,%20image%29%3A%0A%20%20%20%20%20%20%20%20self.x%20%3D%20x%0A%20%20%20%20%20%20%20%20self.y%20%3D%20y%0A%20%20%20%20%20%20%20%20self.width%20%3D%20width%0A%20%20%20%20%20%20%20%20self.height%20%3D%20height%0A%20%20%20%20%20%20%20%20self.image%20%3D%20image%0A%0A%20%20%20%20def%20render%28self,%20pen%29%3A%0A%20%20%20%20%20%20%20%20pen.goto%28self.x,%20self.y%29%0A%20%20%20%20%20%20%20%20pen.shape%28self.image%29%0A%20%20%20%20%20%20%20%20pen.stamp%28%29%0A%0A%20%20%20%20def%20is_overlapping_collision%28self,%20other%29%3A%0A%20%20%20%20%20%20%20%20if%20self.x%20%3D%3D%20other.x%20and%20self.y%20%3D%3D%20other.y%3A%0A%20%20%20%20%20%20%20%20%20%20%20%20return%20True%0A%20%20%20%20%20%20%20%20else%3A%0A%20%20%20%20%20%20%20%20%20%20%20%20return%20False%0A%0A%20%20%20%20def%20is_distance_collision%28self,%20other%29%3A%0A%20%20%20%20%20%20%20%20distance%20%3D%20%28%28%28self.x%20-%20other.x%29**2%29%20%2B%20%28%28self.y%20-%20other.y%29**2%29%29**0.5%0A%20%20%20%20%20%20%20%20if%20distance%20%3C%20%28self.width%20%2B%20other.width%29%20/%202.0%3A%0A%20%20%20%20%20%20%20%20%20%20%20%20return%20True%0A%20%20%20%20%20%20%20%20else%3A%0A%20%20%20%20%20%20%20%20%20%20%20%20return%20False%0A%0A%20%20%20%20def%20is_aabb_collision%28self,%20other%29%3A%0A%20%20%20%20%20%20%20%20x_collision%20%3D%20%28math.fabs%28self.x%20-%20other.x%29%20*%202%29%20%3C%20%28self.width%20%2B%0A%20%20%20%20%20%20%20%20%20%20%20%20%20%20%20%20%20%20%20%20%20%20%20%20%20%20%20%20%20%20%20%20%20%20%20%20%20%20%20%20%20%20%20%20%20%20%20%20%20%20%20%20%20%20%20%20%20%20%20other.width%29%0A%20%20%20%20%20%20%20%20y_collision%20%3D%20%28math.fabs%28self.y%20-%20other.y%29%20*%202%29%20%3C%20%28self.height%20%2B%0A%20%20%20%20%20%20%20%20%20%20%20%20%20%20%20%20%20%20%20%20%20%20%20%20%20%20%20%20%20%20%20%20%20%20%20%20%20%20%20%20%20%20%20%20%20%20%20%20%20%20%20%20%20%20%20%20%20%20%20other.height%29%0A%20%20%20%20%20%20%20%20return%20%28x_collision%20and%20y_collision%29%0A%0Aclass%20Character%28Sprite%29%3A%0A%20%20%20%20def%20__init__%28self,%20x,%20y,%20width,%20height,%20image,%20jump%3DTrue%29%3A%0A%20%20%20%20%20%20%20%20super%28%29.__init__%28x,%20y,%20width,%20height,%20image%29%0A%20%20%20%20%20%20%20%20self.jump%20%3D%20jump%0A%0A%20%20%20%20def%20hop%28self%29%3A%0A%20%20%20%20%20%20%20%20if%20self.jump%20%3D%3D%20True%3A%0A%20%20%20%20%20%20%20%20%20%20%20%20self.x%20%2B%3D%20100%0A%0A%0A%0Awizard%20%3D%20Character%28-128,%20200,%20128,%20128,%20%22wizard.gif%22,%20jump%3DFalse%29%0Apacman%20%3D%20Character%28-128,%200,%20128,%20128,%20%22pacman.gif%22%29&cumulative=false&curInstr=0&heapPrimitives=nevernest&mode=display&origin=opt-frontend.js&py=3&rawInputLstJSON=%5B%5D&textReferences=false)에서\n",
    "상속된 클래스의 생성자가 객체를 생성하는 과정을 살펴볼 수 있다."
   ]
  },
  {
   "cell_type": "markdown",
   "id": "f9429e20",
   "metadata": {},
   "source": [
    "**이벤트, 이벤트 처리, 콜백**\n",
    "\n",
    "팩맨의 점프 기능을 담당하는 콜백 함수와 이벤트 처리 기능이 추가된다."
   ]
  },
  {
   "cell_type": "markdown",
   "id": "a5724b6c",
   "metadata": {},
   "source": [
    "```python\n",
    "# 이벤트 처리: 스페이키 담당\n",
    "turtle.onkey(jump, \"space\")  # 스페이스 키 입력\n",
    "```"
   ]
  },
  {
   "cell_type": "markdown",
   "id": "2caa96ac",
   "metadata": {},
   "source": [
    "```python\n",
    "# 콜백: 점프 가능한 경우 활용\n",
    "def jump():\n",
    "    try:\n",
    "        sprites[sprite_idx].hop()\n",
    "    except AttributeError:\n",
    "        pass\n",
    "```    "
   ]
  },
  {
   "cell_type": "markdown",
   "id": "48c8f5e8",
   "metadata": {},
   "source": [
    "**게임 실행**\n",
    "\n",
    "게임 기본 세팅과 실행 코드는 \n",
    "{numref}`%s장 <ch:classes_instances_objects>`과 동일하다."
   ]
  },
  {
   "cell_type": "markdown",
   "id": "cbb7b1d8",
   "metadata": {},
   "source": [
    "## 필수 예제"
   ]
  },
  {
   "cell_type": "markdown",
   "id": "f0652a65",
   "metadata": {},
   "source": [
    "참고: [(필수 예제) 상속](https://colab.research.google.com/github/codingalzi/pybook/blob/master/examples/examples-inheritance.ipynb)"
   ]
  },
  {
   "cell_type": "markdown",
   "id": "815221f8",
   "metadata": {},
   "source": [
    "## 연습문제"
   ]
  },
  {
   "cell_type": "markdown",
   "id": "542cc954",
   "metadata": {},
   "source": [
    "참고: [(실습) 상속](https://colab.research.google.com/github/codingalzi/pybook/blob/master/practices/practice-inheritance.ipynb)"
   ]
  }
 ],
 "metadata": {
  "kernelspec": {
   "display_name": "Python 3 (ipykernel)",
   "language": "python",
   "name": "python3"
  },
  "language_info": {
   "codemirror_mode": {
    "name": "ipython",
    "version": 3
   },
   "file_extension": ".py",
   "mimetype": "text/x-python",
   "name": "python",
   "nbconvert_exporter": "python",
   "pygments_lexer": "ipython3",
   "version": "3.11.4"
  }
 },
 "nbformat": 4,
 "nbformat_minor": 5
}