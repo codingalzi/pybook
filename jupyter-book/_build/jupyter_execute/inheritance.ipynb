{
 "cells": [
  {
   "cell_type": "markdown",
   "id": "c9188d90",
   "metadata": {},
   "source": [
    "(ch:inheritance)=\n",
    "# 상속"
   ]
  },
  {
   "cell_type": "markdown",
   "id": "cbbb165e",
   "metadata": {},
   "source": [
    "**참고:** 아래 내용은 [Problem Solving with Algorithms and Data Structures using Python](https://runestone.academy/ns/books/published/pythonds3/index.html)의 1.13 절 내용을 \n",
    "일부 활용한다."
   ]
  },
  {
   "cell_type": "markdown",
   "id": "53600e33",
   "metadata": {},
   "source": [
    "__상속__(inheritance)은 객체 지향 프로그래밍의 또 다른 주요 요소이다. \n",
    "클래스를 선언할 때 다른 클래스의 상태(state)와 메서드를 상속 받아 활용할 수 있다.\n",
    "상속을 받는 클래스를 __자식 클래스__ 또는 __하위 클래스__, \n",
    "상속을 해주는 클래스를 __부모 클래스__ 또는 __상위 클래스__라고 부른다. "
   ]
  },
  {
   "cell_type": "markdown",
   "id": "1c13719c",
   "metadata": {},
   "source": [
    "<그림 8>이 파이썬 모음 자료형의 상속 체계를 보여준다. \n",
    "예를 들어, `list` 클래스는 `Sequence` 클래스를 상속하며,\n",
    "`Sequence`는 `Collection` 클래를 상속한다. \n",
    "이를 'is-a' 관계를 표현하면 \"리스트는 시퀀스 모음 자료형이다\" 등으로 말한다.\n",
    "이와 달리 항목들의 순서를 고려하지 않는 `dict`와 `set` 은 \n",
    "`Sequence` 클래스와 'is-a' 관계를 갖지 않는다. "
   ]
  },
  {
   "cell_type": "markdown",
   "id": "6c98baa5",
   "metadata": {},
   "source": [
    "<figure>\n",
    "<img src=\"https://raw.githubusercontent.com/codingalzi/problem_solving_with_algorithms/master/_sources/Introduction/Figures/inheritance1.png\" width=\"70%\">\n",
    "    <figcaption>그림 8: 파이썬 모음 자료형의 상속 체계</figcaption>\n",
    "</figure>"
   ]
  },
  {
   "cell_type": "markdown",
   "id": "af390a80",
   "metadata": {},
   "source": [
    "`list`, `tuple`, `str` 클래스 모두 `Sequence` 클래스를 상속하기에\n",
    "자신들의 객체를 다루는 공통된 방식을 갖는다.\n",
    "반면에 서로 구별되는 각 자료형 고유의 속성과 메서드를 갖는다. \n",
    "이렇듯 자식 클래스는 서로 공통된 요소와 각 자식 클래스 고유의 요소를 함께 갖는다."
   ]
  },
  {
   "cell_type": "markdown",
   "id": "3559aeda",
   "metadata": {},
   "source": [
    "클래스 상속을 활용할 때의 주요 장점은 다음과 같다. \n",
    "- 기존에 작성된 코드를 필요에 따라 수정, 재활용 가능.\n",
    "- 데이터(객체) 사이의 관계를 보다 잘 이해할 수 있음."
   ]
  },
  {
   "cell_type": "markdown",
   "id": "14bb819e",
   "metadata": {},
   "source": [
    "## 추상 클래스 대 구상 클래스"
   ]
  },
  {
   "cell_type": "markdown",
   "id": "352d3798",
   "metadata": {},
   "source": [
    "**참고:** 아래 컨테이너 클래스는 추상 클래스 이야를 먼저 한 후에.\n",
    "구상 클래스는 활용 예제가 필요함."
   ]
  },
  {
   "cell_type": "code",
   "execution_count": null,
   "id": "235c32dd",
   "metadata": {},
   "outputs": [],
   "source": []
  },
  {
   "cell_type": "code",
   "execution_count": null,
   "id": "b5946975",
   "metadata": {},
   "outputs": [],
   "source": []
  },
  {
   "cell_type": "code",
   "execution_count": null,
   "id": "ccd4d4c9",
   "metadata": {},
   "outputs": [],
   "source": []
  },
  {
   "cell_type": "markdown",
   "id": "6d1602df",
   "metadata": {},
   "source": [
    "## 컨테이너 클래스 선언"
   ]
  },
  {
   "cell_type": "markdown",
   "id": "859700ec",
   "metadata": {},
   "source": [
    "모음 자료형을 추상 자료형 클래스를 이용하여 정의하려면\n",
    "경우에 따라 아래 사항을 추가적으로 고려해야 한다.\n",
    "\n",
    "- `len()` 함수 지원\n",
    "- `for` 반복문 지원\n",
    "- 대괄호 (`[]`) 인덱싱 지원"
   ]
  },
  {
   "cell_type": "markdown",
   "id": "b6690384",
   "metadata": {},
   "source": [
    "모음 자료형 객체가 속하는 클래스를 일명 __컨테이너 클래스__라 하며,\n",
    "앞으로 스택, 큐, 그래프, 트리 등을 다룰 때 중요한 역할을 수행한다.\n",
    "여기서는 앞서 언급한 요소들이 필요한 경우에\n",
    "사용되는 매직 메서드들을 알아본다."
   ]
  },
  {
   "cell_type": "markdown",
   "id": "9ae646ce",
   "metadata": {},
   "source": [
    "__예제: 1차원 넘파이 어레이 구현__\n",
    "\n",
    "아래 코드는 1차원 넘파이 어레이에 해당하는 자료형을 리스트를 이용하여 직접 구현한다. \n",
    "일반 리스트의 경우와는 달리 1차원 어레이에 대한 덧셈 연산이 항목별로 이루어진다."
   ]
  },
  {
   "cell_type": "code",
   "execution_count": 1,
   "id": "a9115495",
   "metadata": {},
   "outputs": [],
   "source": [
    "class OneDArray:\n",
    "    def __init__(self, items):\n",
    "        \"\"\"\n",
    "        items: 1차원 어레이 항목으로 사용될 값들. \n",
    "               정수 또는 부동소수점들의 리스트, 튜플 등 모음 자료형 사용.\n",
    "        저장: 리스트 활용\n",
    "        \"\"\" \n",
    "        self.items = list(items)\n",
    "        \n",
    "    def __repr__(self):\n",
    "        return f\"myArray({self.items})\"\n",
    "    \n",
    "    def __add__(self, other):\n",
    "        \"\"\"항목별 덧셈 연산\"\"\"\n",
    "\n",
    "        # 어레이 길이가 동일하지 않으면 오류 발생시킴\n",
    "        # raise와 RuntimeError 활용\n",
    "        if len(self.items) != len(other.items):\n",
    "            raise RuntimeError(\"길이가 달라요!\")\n",
    "\n",
    "        # 항목별 덧셈 실행\n",
    "        main_object = self.items.copy()\n",
    "        for i in range(len(main_object)):\n",
    "            main_object[i] += other.items[i]\n",
    "\n",
    "        return OneDArray(main_object)\n",
    "    \n",
    "oneD1 = OneDArray([2, 3, 4])\n",
    "oneD2 = OneDArray([11, 22, 33])"
   ]
  },
  {
   "cell_type": "markdown",
   "id": "660462a0",
   "metadata": {},
   "source": [
    "덧셈 연산이 항목별로 이루어진다. "
   ]
  },
  {
   "cell_type": "code",
   "execution_count": 2,
   "id": "3aa58953",
   "metadata": {},
   "outputs": [
    {
     "data": {
      "text/plain": [
       "myArray([13, 25, 37])"
      ]
     },
     "execution_count": 2,
     "metadata": {},
     "output_type": "execute_result"
    }
   ],
   "source": [
    "oneD1 + oneD2"
   ]
  },
  {
   "cell_type": "markdown",
   "id": "720c5833",
   "metadata": {},
   "source": [
    "### `len()` 함수 지원"
   ]
  },
  {
   "cell_type": "markdown",
   "id": "8f149ada",
   "metadata": {},
   "source": [
    "그런데 포함된 항목의 개수를 쉽게 확인할 수 없다."
   ]
  },
  {
   "cell_type": "markdown",
   "id": "ec056309",
   "metadata": {},
   "source": [
    "```python\n",
    "len(oneD1)\n",
    "---------------------------------------------------------------------------\n",
    "TypeError                                 Traceback (most recent call last)\n",
    "<ipython-input-29-7d7804051de9> in <module>\n",
    "----> 1 len(oneD1)\n",
    "\n",
    "TypeError: object of type 'OneDArray' has no len()\n",
    "```"
   ]
  },
  {
   "cell_type": "markdown",
   "id": "a7581166",
   "metadata": {},
   "source": [
    "**참고: `list` 자료형을 상속하면 어떻게 되나?**"
   ]
  },
  {
   "cell_type": "markdown",
   "id": "56e8342c",
   "metadata": {},
   "source": [
    "`len()` 함수가 사용되려면 `__len()__` 메서드가 적절하게 선언되어야 한다."
   ]
  },
  {
   "cell_type": "code",
   "execution_count": 3,
   "id": "1ef68c6f",
   "metadata": {},
   "outputs": [],
   "source": [
    "class OneDArray:\n",
    "    def __init__(self, items):\n",
    "        \"\"\"\n",
    "        items: 1차원 어레이 항목으로 사용될 값들. 리스트, 튜플 등 모음 자료형 사용.\n",
    "        저장: 리스트 활용\n",
    "        \"\"\" \n",
    "        self.items = list(items)\n",
    "        \n",
    "    def __repr__(self):\n",
    "        return f\"myArray({self.items})\"\n",
    "    \n",
    "    def __add__(self, other):\n",
    "        \"\"\"항목별 덧셈 연산\"\"\"\n",
    "\n",
    "        # 어레이 길이가 동일하지 않으면 오류 발생시킴\n",
    "        # raise와 RuntimeError 활용\n",
    "        if len(self.items) != len(other.items):\n",
    "            raise RuntimeError(\"길이가 달라요!\")\n",
    "\n",
    "        # 항목별 덧셈 실행\n",
    "        main_object = self.items.copy()\n",
    "        for i in range(len(main_object)):\n",
    "            main_object[i] += other.items[i]\n",
    "\n",
    "        return OneDArray(main_object)\n",
    "\n",
    "    def __len__(self):\n",
    "        return len(self.items)\n",
    "    \n",
    "oneD1 = OneDArray([2, 3, 4])\n",
    "oneD2 = OneDArray([11, 22, 33])"
   ]
  },
  {
   "cell_type": "code",
   "execution_count": 4,
   "id": "6078fb33",
   "metadata": {},
   "outputs": [
    {
     "data": {
      "text/plain": [
       "3"
      ]
     },
     "execution_count": 4,
     "metadata": {},
     "output_type": "execute_result"
    }
   ],
   "source": [
    "len(oneD1)"
   ]
  },
  {
   "cell_type": "markdown",
   "id": "b6c9cf62",
   "metadata": {},
   "source": [
    "**`mean()` 메서드 지원**"
   ]
  },
  {
   "cell_type": "markdown",
   "id": "6062b6d8",
   "metadata": {},
   "source": [
    "`len()` 함수를 이용하여 넘파이 어레이 객체가 제공하는 다양한 메서드를 구현할 수 있다.\n",
    "예를 들어 아래 코드는 항목들의 평균값을 계산하는 메서드를 제공한다."
   ]
  },
  {
   "cell_type": "code",
   "execution_count": 5,
   "id": "dbd20c5f",
   "metadata": {},
   "outputs": [],
   "source": [
    "class OneDArray:\n",
    "    def __init__(self, items):\n",
    "        \"\"\"\n",
    "        items: 1차원 어레이 항목으로 사용될 값들. \n",
    "               정수 또는 부동소수점들의 리스트, 튜플 등 모음 자료형 사용.\n",
    "        저장: 리스트 활용\n",
    "        \"\"\" \n",
    "        self.items = list(items)\n",
    "        \n",
    "    def __repr__(self):\n",
    "        return f\"myArray({self.items})\"\n",
    "    \n",
    "    def __add__(self, other):\n",
    "        \"\"\"항목별 덧셈 연산\"\"\"\n",
    "\n",
    "        # 어레이 길이가 동일하지 않으면 오류 발생시킴\n",
    "        # raise와 RuntimeError 활용\n",
    "        if len(self.items) != len(other.items):\n",
    "            raise RuntimeError(\"길이가 달라요!\")\n",
    "\n",
    "        # 항목별 덧셈 실행\n",
    "        main_object = self.items.copy()\n",
    "        for i in range(len(main_object)):\n",
    "            main_object[i] += other.items[i]\n",
    "\n",
    "        return OneDArray(main_object)\n",
    "\n",
    "    def __len__(self):\n",
    "        return len(self.items)\n",
    "\n",
    "    def mean(self):\n",
    "        \"\"\"항목들의 평균\"\"\"\n",
    "        sum = 0\n",
    "        for item in self.items:\n",
    "            sum += item\n",
    "            \n",
    "        return sum/len(self)\n",
    "    \n",
    "oneD1 = OneDArray([2, 3, 4])\n",
    "oneD2 = OneDArray([11, 22, 33])"
   ]
  },
  {
   "cell_type": "markdown",
   "id": "95af03ef",
   "metadata": {},
   "source": [
    "이제 평균값을 계산할 수 있다."
   ]
  },
  {
   "cell_type": "code",
   "execution_count": 6,
   "id": "38b24fd7",
   "metadata": {},
   "outputs": [
    {
     "data": {
      "text/plain": [
       "3.0"
      ]
     },
     "execution_count": 6,
     "metadata": {},
     "output_type": "execute_result"
    }
   ],
   "source": [
    "oneD1.mean()"
   ]
  },
  {
   "cell_type": "code",
   "execution_count": 7,
   "id": "91fbe631",
   "metadata": {},
   "outputs": [
    {
     "data": {
      "text/plain": [
       "22.0"
      ]
     },
     "execution_count": 7,
     "metadata": {},
     "output_type": "execute_result"
    }
   ],
   "source": [
    "oneD2.mean()"
   ]
  },
  {
   "cell_type": "markdown",
   "id": "cce88ae9",
   "metadata": {},
   "source": [
    "### `for` 반복문 지원"
   ]
  },
  {
   "cell_type": "markdown",
   "id": "c774e058",
   "metadata": {},
   "source": [
    "포함된 항목들을 대상으로 반복문을 실행할 수 없다."
   ]
  },
  {
   "cell_type": "markdown",
   "id": "5dc57f54",
   "metadata": {},
   "source": [
    "```python\n",
    "for x in oneD1:\n",
    "    print(x)\n",
    "---------------------------------------------------------------------------\n",
    "TypeError                                 Traceback (most recent call last)\n",
    "<ipython-input-35-ae2d40dfb17d> in <module>\n",
    "----> 1 for x in oneD1:\n",
    "      2     print(x)\n",
    "\n",
    "TypeError: 'OneDArray' object is not iterable\n",
    "```"
   ]
  },
  {
   "cell_type": "markdown",
   "id": "b6b44c91",
   "metadata": {},
   "source": [
    "아래에서 처럼 `__iter__()`와 `__next__()` 메서드가 적절하게 선언되어야 한다.\n",
    "\n",
    "- `__iter__()` 메서드: 반복적으로 항목을 생성할 수 있는 객체인 이터레이터(iterator) 생성\n",
    "- `__next__()` 메서드: 이터레이터에 포함되는 메서드이며 지정된 순서에 따라 항목을 반환함.\n",
    "    - 함수 본체에서 사용되는 `count`, `max_repeats` 인스턴스 변수는 생성자에서 선언됨."
   ]
  },
  {
   "cell_type": "code",
   "execution_count": 8,
   "id": "a248e516",
   "metadata": {},
   "outputs": [],
   "source": [
    "class OneDArray:\n",
    "    def __init__(self, items):\n",
    "        \"\"\"\n",
    "        items: 1차원 어레이 항목으로 사용될 값들. 리스트, 튜플 등 모음 자료형 사용.\n",
    "        저장: 리스트 활용\n",
    "        \"\"\" \n",
    "        self.items = list(items)\n",
    "        self.count = 0                  # 항목 카운트\n",
    "        self.max_repeats = len(items)   # 항목 카운트 최댓값\n",
    "        \n",
    "    def __repr__(self):\n",
    "        return f\"myArray({self.items})\"\n",
    "    \n",
    "    def __add__(self, other):\n",
    "        \"\"\"항목별 덧셈 연산\"\"\"\n",
    "\n",
    "        # 어레이 길이가 동일하지 않으면 오류 발생시킴\n",
    "        # raise와 RuntimeError 활용\n",
    "        if len(self.items) != len(other.items):\n",
    "            raise RuntimeError(\"길이가 달라요!\")\n",
    "\n",
    "        # 항목별 덧셈 실행\n",
    "        main_object = self.items.copy()\n",
    "        for i in range(len(main_object)):\n",
    "            main_object[i] += other.items[i]\n",
    "\n",
    "        return OneDArray(main_object)\n",
    "    \n",
    "    def __len__(self):\n",
    "        return len(self.items)\n",
    "\n",
    "    def mean(self):\n",
    "        \"\"\"항목들의 평균\"\"\"\n",
    "        sum = 0\n",
    "        for item in self.items:\n",
    "            sum += item\n",
    "            \n",
    "        return sum/len(self)\n",
    "    \n",
    "    def __iter__(self):\n",
    "        return self\n",
    "    \n",
    "    def __next__(self):\n",
    "        if self.count >= self.max_repeats:    # 항목 개수만큼만 반복 허용\n",
    "            raise StopIteration(\"더 이상 항목이 없어요!\")\n",
    "            \n",
    "        next_item = self.items[self.count]\n",
    "        self.count += 1                       # 항목 반환할 때마다 카운트 키우기\n",
    "        return next_item\n",
    "    \n",
    "oneD1 = OneDArray([2, 3, 4])\n",
    "oneD2 = OneDArray([11, 22, 33])        "
   ]
  },
  {
   "cell_type": "markdown",
   "id": "a93b87b3",
   "metadata": {},
   "source": [
    "이제 `for` 반복문이 지원된다."
   ]
  },
  {
   "cell_type": "code",
   "execution_count": 9,
   "id": "46396624",
   "metadata": {},
   "outputs": [],
   "source": [
    "oneD3 = oneD1 + oneD2"
   ]
  },
  {
   "cell_type": "code",
   "execution_count": 10,
   "id": "6610202b",
   "metadata": {},
   "outputs": [
    {
     "name": "stdout",
     "output_type": "stream",
     "text": [
      "13\n",
      "25\n",
      "37\n"
     ]
    }
   ],
   "source": [
    "for x in oneD3:\n",
    "    print(x)"
   ]
  },
  {
   "cell_type": "markdown",
   "id": "2817417c",
   "metadata": {},
   "source": [
    "그런데 `for` 반복문을 한 번만 사용할 수 있다."
   ]
  },
  {
   "cell_type": "code",
   "execution_count": 11,
   "id": "db980876",
   "metadata": {},
   "outputs": [],
   "source": [
    "for x in oneD3:\n",
    "    print(x)"
   ]
  },
  {
   "cell_type": "markdown",
   "id": "27ee3e7b",
   "metadata": {},
   "source": [
    "이유는 `count=3` 이 되어 `__next_()` 메서드가 `StopIteration` 오류를 발생시키가 때문이다."
   ]
  },
  {
   "cell_type": "code",
   "execution_count": 12,
   "id": "2114b5ea",
   "metadata": {},
   "outputs": [
    {
     "data": {
      "text/plain": [
       "3"
      ]
     },
     "execution_count": 12,
     "metadata": {},
     "output_type": "execute_result"
    }
   ],
   "source": [
    "oneD3.count"
   ]
  },
  {
   "cell_type": "markdown",
   "id": "f12d0bb6",
   "metadata": {},
   "source": [
    "```python\n",
    "oneD3.__next__()\n",
    "\n",
    "StopIteration                             Traceback (most recent call last)\n",
    "<ipython-input-41-61e9b06a5a78> in <module>\n",
    "----> 1 oneD3.__next__()\n",
    "\n",
    "<ipython-input-36-e3b35e606009> in __next__(self)\n",
    "     43     def __next__(self):\n",
    "     44         if self.count >= self.max_repeats:    # 항목 개수만큼만 반복 허용\n",
    "---> 45             raise StopIteration(\"더 이상 항목이 없어요!\")\n",
    "     46 \n",
    "     47         next_item = self.items[self.count]\n",
    "\n",
    "StopIteration: 더 이상 항목이 없어요!\n",
    "```"
   ]
  },
  {
   "cell_type": "markdown",
   "id": "1319d734",
   "metadata": {},
   "source": [
    "`for` 문을 다시 사용하려면 객체를 새로 생성해야 한다."
   ]
  },
  {
   "cell_type": "code",
   "execution_count": 13,
   "id": "0d83cc19",
   "metadata": {},
   "outputs": [
    {
     "name": "stdout",
     "output_type": "stream",
     "text": [
      "13\n",
      "25\n",
      "37\n"
     ]
    }
   ],
   "source": [
    "oneD3 = oneD1 + oneD2\n",
    "\n",
    "for x in oneD3:\n",
    "    print(x)"
   ]
  },
  {
   "cell_type": "markdown",
   "id": "b2539c94",
   "metadata": {},
   "source": [
    "### 인덱싱 지원"
   ]
  },
  {
   "cell_type": "markdown",
   "id": "44040523",
   "metadata": {},
   "source": [
    "순차 자료형이 되려면 항목들의 순서를 이용한 인덱싱이 가능해야 한다.\n",
    "그런데 항목들의 순서를 고려해서 항목을 확인하고 수정하고자 하면 오류가 발생한다. "
   ]
  },
  {
   "cell_type": "markdown",
   "id": "dd35d739",
   "metadata": {},
   "source": [
    "```python\n",
    "oneD2[0]\n",
    "---------------------------------------------------------------------------\n",
    "TypeError                                 Traceback (most recent call last)\n",
    "<ipython-input-46-8369793c9173> in <module>\n",
    "----> 1 oneD2[0]\n",
    "\n",
    "TypeError: 'OneDArray' object is not subscriptable\n",
    "```"
   ]
  },
  {
   "cell_type": "markdown",
   "id": "f4f40e88",
   "metadata": {},
   "source": [
    "```python\n",
    "oneD2[0] = 100\n",
    "---------------------------------------------------------------------------\n",
    "TypeError                                 Traceback (most recent call last)\n",
    "<ipython-input-47-8bc71738b965> in <module>\n",
    "----> 1 oneD2[0] = 100\n",
    "\n",
    "TypeError: 'OneDArray' object does not support item assignment\n",
    "```"
   ]
  },
  {
   "cell_type": "markdown",
   "id": "43e29135",
   "metadata": {},
   "source": [
    "아래 두 메서드를 구현해야 한다.\n",
    "\n",
    "- `__getitem__()` 메서드: 대괄호 인덱싱 지원\n",
    "- `__setitem__()` 메서드: 특정 인덱스 항목 업데이트"
   ]
  },
  {
   "cell_type": "markdown",
   "id": "519557e8",
   "metadata": {},
   "source": [
    "이제 드디어 순차 자료형으로 선언할 수 있다.\n",
    "\n",
    "- `Sequence` 클래스 상속\n",
    "\n",
    "**참고:** https://docs.python.org/3/library/collections.abc.html"
   ]
  },
  {
   "cell_type": "code",
   "execution_count": 14,
   "id": "e265766c",
   "metadata": {},
   "outputs": [],
   "source": [
    "from collections.abc import Sequence, Iterable"
   ]
  },
  {
   "cell_type": "code",
   "execution_count": 15,
   "id": "512920b7",
   "metadata": {},
   "outputs": [],
   "source": [
    "class OneDArray(Sequence):\n",
    "    def __init__(self, items):\n",
    "        \"\"\"\n",
    "        items: 1차원 어레이 항목으로 사용될 값들. 리스트, 튜플 등 모음 자료형 사용.\n",
    "        저장: 리스트 활용\n",
    "        \"\"\" \n",
    "        self.items = list(items)\n",
    "        \n",
    "    def __repr__(self):\n",
    "        return f\"myArray({self.items})\"\n",
    "    \n",
    "    def __add__(self, other):\n",
    "        \"\"\"항목별 덧셈 연산\"\"\"\n",
    "\n",
    "        # 어레이 길이가 동일하지 않으면 오류 발생시킴\n",
    "        # raise와 RuntimeError 활용\n",
    "        if len(self.items) != len(other.items):\n",
    "            raise RuntimeError(\"길이가 달라요!\")\n",
    "\n",
    "        # 항목별 덧셈 실행\n",
    "        main_object = self.items.copy()\n",
    "        for i in range(len(main_object)):\n",
    "            main_object[i] += other.items[i]\n",
    "\n",
    "        return OneDArray(main_object)\n",
    "    \n",
    "    def __len__(self):\n",
    "        return len(self.items)\n",
    "\n",
    "    def mean(self):\n",
    "        \"\"\"항목들의 평균\"\"\"\n",
    "        sum = 0\n",
    "        for item in self.items:\n",
    "            sum += item\n",
    "            \n",
    "        return sum/len(self)\n",
    "    \n",
    "# 다음은 굳이 필요 없음: __getitem__() 과 __len__() 만 있으면 됨.\n",
    "#     def __iter__(self):\n",
    "#         return self\n",
    "    \n",
    "#     def __next__(self):\n",
    "#         if self.count >= self.max_repeats:    # 항목 개수만큼만 반복 허용\n",
    "#             raise StopIteration(\"더 이상 항목이 없어요!\")\n",
    "            \n",
    "#         next_item = self.items[self.count]\n",
    "#         self.count += 1                       # 항목 반환할 때마다 카운트 키우기\n",
    "#         return next_item\n",
    "\n",
    "    def __getitem__(self, idx):\n",
    "        return self.items[idx]\n",
    "    \n",
    "    def __setitem__(self, idx, item):\n",
    "        self.items[idx] = item\n",
    "        \n",
    "oneD1 = OneDArray([2, 3, 4])\n",
    "oneD2 = OneDArray([11, 22, 33])"
   ]
  },
  {
   "cell_type": "markdown",
   "id": "f004fc77",
   "metadata": {},
   "source": [
    "`Sequence`와 `Iterable` 클래스를 상속함을 다음과 같이 확인할 수 있다."
   ]
  },
  {
   "cell_type": "code",
   "execution_count": 16,
   "id": "1bc8c9d9",
   "metadata": {},
   "outputs": [
    {
     "data": {
      "text/plain": [
       "True"
      ]
     },
     "execution_count": 16,
     "metadata": {},
     "output_type": "execute_result"
    }
   ],
   "source": [
    "issubclass(OneDArray, Sequence)"
   ]
  },
  {
   "cell_type": "code",
   "execution_count": 17,
   "id": "af7d95e7",
   "metadata": {},
   "outputs": [
    {
     "data": {
      "text/plain": [
       "True"
      ]
     },
     "execution_count": 17,
     "metadata": {},
     "output_type": "execute_result"
    }
   ],
   "source": [
    "issubclass(OneDArray, Iterable)"
   ]
  },
  {
   "cell_type": "code",
   "execution_count": 18,
   "id": "54f8b171",
   "metadata": {},
   "outputs": [
    {
     "data": {
      "text/plain": [
       "11"
      ]
     },
     "execution_count": 18,
     "metadata": {},
     "output_type": "execute_result"
    }
   ],
   "source": [
    "oneD2[0]"
   ]
  },
  {
   "cell_type": "code",
   "execution_count": 19,
   "id": "23556ed9",
   "metadata": {},
   "outputs": [],
   "source": [
    "oneD2[0] = 100"
   ]
  },
  {
   "cell_type": "code",
   "execution_count": 20,
   "id": "e61e57be",
   "metadata": {},
   "outputs": [
    {
     "data": {
      "text/plain": [
       "myArray([100, 22, 33])"
      ]
     },
     "execution_count": 20,
     "metadata": {},
     "output_type": "execute_result"
    }
   ],
   "source": [
    "oneD2"
   ]
  },
  {
   "cell_type": "markdown",
   "id": "23a51d58",
   "metadata": {},
   "source": [
    "__슬라이싱__(slicing)도 지원한다."
   ]
  },
  {
   "cell_type": "code",
   "execution_count": 21,
   "id": "978d0607",
   "metadata": {},
   "outputs": [
    {
     "data": {
      "text/plain": [
       "[22, 33]"
      ]
     },
     "execution_count": 21,
     "metadata": {},
     "output_type": "execute_result"
    }
   ],
   "source": [
    "oneD2[1:3]"
   ]
  },
  {
   "cell_type": "code",
   "execution_count": 22,
   "id": "ce005d73",
   "metadata": {},
   "outputs": [
    {
     "data": {
      "text/plain": [
       "[100, 22, 33]"
      ]
     },
     "execution_count": 22,
     "metadata": {},
     "output_type": "execute_result"
    }
   ],
   "source": [
    "oneD2[0:3]"
   ]
  },
  {
   "cell_type": "code",
   "execution_count": 23,
   "id": "76230083",
   "metadata": {},
   "outputs": [
    {
     "data": {
      "text/plain": [
       "[100, 33]"
      ]
     },
     "execution_count": 23,
     "metadata": {},
     "output_type": "execute_result"
    }
   ],
   "source": [
    "oneD2[0:3:2]"
   ]
  },
  {
   "cell_type": "markdown",
   "id": "a8b05dc4",
   "metadata": {},
   "source": [
    "### 이터러블 자료형과 `__getitem__()` 메서드"
   ]
  },
  {
   "cell_type": "markdown",
   "id": "a2288f86",
   "metadata": {},
   "source": [
    "`__getitem_()` 메서드를 지원하는 클래스는 자동으로 이터레이터가 된다. \n",
    "아래에서 확인할 수 있듯이 `__iter__()` 와 `__next__()` 메서드가 없어도\n",
    "`for` 반복문이 작동한다."
   ]
  },
  {
   "cell_type": "code",
   "execution_count": 24,
   "id": "844408e8",
   "metadata": {},
   "outputs": [],
   "source": [
    "class OneDArray:\n",
    "    def __init__(self, items):\n",
    "        \"\"\"\n",
    "        items: 1차원 어레이 항목으로 사용될 값들. 리스트, 튜플 등 모음 자료형 사용.\n",
    "        저장: 리스트 활용\n",
    "        \"\"\" \n",
    "        self.items = list(items)\n",
    "        \n",
    "    def __repr__(self):\n",
    "        return f\"myArray({self.items})\"\n",
    "    \n",
    "    def __add__(self, other):\n",
    "        \"\"\"항목별 덧셈 연산\"\"\"\n",
    "\n",
    "        # 어레이 길이가 동일하지 않으면 오류 발생시킴\n",
    "        # raise와 RuntimeError 활용\n",
    "        if len(self.items) != len(other.items):\n",
    "            raise RuntimeError(\"길이가 달라요!\")\n",
    "\n",
    "        # 항목별 덧셈 실행\n",
    "        main_object = self.items.copy()\n",
    "        for i in range(len(main_object)):\n",
    "            main_object[i] += other.items[i]\n",
    "\n",
    "        return OneDArray(main_object)\n",
    "    \n",
    "    def __len__(self):\n",
    "        return len(self.items)\n",
    "\n",
    "    def mean(self):\n",
    "        \"\"\"항목들의 평균\"\"\"\n",
    "        sum = 0\n",
    "        for item in self.items:\n",
    "            sum += item\n",
    "            \n",
    "        return sum/len(self)\n",
    "    \n",
    "#     def __iter__(self):\n",
    "#         return self\n",
    "    \n",
    "#     def __next__(self):\n",
    "#         if self.count >= self.max_repeats:    # 항목 개수만큼만 반복 허용\n",
    "#             raise StopIteration(\"더 이상 항목이 없어요!\")\n",
    "            \n",
    "#         next_item = self.items[self.count]\n",
    "#         self.count += 1                       # 항목 반환할 때마다 카운트 키우기\n",
    "#         return next_item\n",
    "\n",
    "    def __getitem__(self, idx):\n",
    "        return self.items[idx]\n",
    "    \n",
    "    def __setitem__(self, idx, item):\n",
    "        self.items[idx] = item\n",
    "        \n",
    "oneD1 = OneDArray([2, 3, 4])\n",
    "oneD2 = OneDArray([11, 22, 33])"
   ]
  },
  {
   "cell_type": "code",
   "execution_count": 25,
   "id": "02379100",
   "metadata": {},
   "outputs": [],
   "source": [
    "oneD3 = oneD1 + oneD2"
   ]
  },
  {
   "cell_type": "code",
   "execution_count": 26,
   "id": "21d1fe15",
   "metadata": {},
   "outputs": [
    {
     "name": "stdout",
     "output_type": "stream",
     "text": [
      "13\n",
      "25\n",
      "37\n"
     ]
    }
   ],
   "source": [
    "for x in oneD3:\n",
    "    print(x)"
   ]
  },
  {
   "cell_type": "markdown",
   "id": "3fac952e",
   "metadata": {},
   "source": [
    "이와 더불어 객체를 새로 생성할 필요없이 반복문을 계속해서 활용할 수도 있다."
   ]
  },
  {
   "cell_type": "code",
   "execution_count": 27,
   "id": "cd56515d",
   "metadata": {},
   "outputs": [
    {
     "name": "stdout",
     "output_type": "stream",
     "text": [
      "13\n",
      "25\n",
      "37\n"
     ]
    }
   ],
   "source": [
    "for x in oneD3:\n",
    "    print(x)"
   ]
  },
  {
   "cell_type": "markdown",
   "id": "3a2fbe0c",
   "metadata": {},
   "source": [
    "## 이터레이터와 제너레이터"
   ]
  },
  {
   "cell_type": "markdown",
   "id": "b4bb62e7",
   "metadata": {},
   "source": [
    "__참고__: 아래 내용은 Vicent Driessen의 \n",
    "[Iterables vs. Iterators vs. Generators](https://nvie.com/posts/iterators-vs-generators/)\n",
    "블로그 내용을 참조합니다."
   ]
  },
  {
   "cell_type": "markdown",
   "id": "d35a26c7",
   "metadata": {},
   "source": [
    "### 이터러블 자료형과 이터레이터"
   ]
  },
  {
   "cell_type": "markdown",
   "id": "520c67ce",
   "metadata": {},
   "source": [
    "__이터러블__(iterable) 자료형은 `__iter__()` 메서드를 지원하는 자료형이다.\n",
    "`__iter__()` 메서드는 이터러블 객체의 항목들을 지정된 순서대로\n",
    "반환할 수 있는 능력을 갖춘 `__next__()` 메서드를 지원하는 __이터레이터__(iterator)를 \n",
    "필요할 때 내부적으로 생성해서 반복문에 활용한다(아래 그림 참조)."
   ]
  },
  {
   "cell_type": "markdown",
   "id": "f865c587",
   "metadata": {},
   "source": [
    "<div align=\"center\"><img src=\"https://nvie.com/img/iterable-vs-iterator.png\" style=\"width:600px;\"></div>\n",
    "\n",
    "그림 출처: [Iterables vs. Iterators vs. Generators](https://nvie.com/posts/iterators-vs-generators/)"
   ]
  },
  {
   "cell_type": "markdown",
   "id": "72a3181d",
   "metadata": {},
   "source": [
    "### 제너레이터"
   ]
  },
  {
   "cell_type": "markdown",
   "id": "97ab57fc",
   "metadata": {},
   "source": [
    "__제너레이터__(generator)는 간단한 방식으로 구현할 수 있는 이터레이터이며,\n",
    "크게 두 가지 방식으로 생성된다.\n",
    "\n",
    "- 제너레이터 함수 활용\n",
    "- 제너레이터 표현식 활용\n",
    "\n",
    "이터러블, 이터레이터, 제너레이터 사이의 관계는 다음과 같다."
   ]
  },
  {
   "cell_type": "markdown",
   "id": "1fa1156d",
   "metadata": {},
   "source": [
    "<div align=\"center\"><img src=\"https://nvie.com/img/relationships.png\" style=\"width:700px;\"></div>\n",
    "\n",
    "그림 출처: [Iterables vs. Iterators vs. Generators](https://nvie.com/posts/iterators-vs-generators/)"
   ]
  },
  {
   "cell_type": "markdown",
   "id": "fda05687",
   "metadata": {},
   "source": [
    "### 제너레이터 함수"
   ]
  },
  {
   "cell_type": "markdown",
   "id": "4aba6b30",
   "metadata": {},
   "source": [
    "아래 코드는 피보나찌 수열을 무한정 생성하는 제너레이터를 정의한다.\n",
    "\n",
    "- `yield`: `return` 키워드 역할 수행. 하지만 실행을 멈추게 하지는 않음.\n",
    "- 한 번 실행될 때마다 지정된 순서로 특정 값을 생성함. \n",
    "    미리 모든 값을 생성하는 것이 아니기에 무한 리스트 등을 정의할 때 사용됨."
   ]
  },
  {
   "cell_type": "code",
   "execution_count": 28,
   "id": "8a0c4388",
   "metadata": {},
   "outputs": [],
   "source": [
    "def fib():\n",
    "    prev, curr = 0, 1\n",
    "    while True:\n",
    "        yield curr\n",
    "        prev, curr = curr, prev + curr"
   ]
  },
  {
   "cell_type": "markdown",
   "id": "7d3d8aa9",
   "metadata": {},
   "source": [
    "제너레이터의 항목을 구하려면 `next()` 함수를 이용한다. \n",
    "내부적으로는 `__next__()` 메서드가 사용된다.\n",
    "이런 의미에서 제너레이터를 하나의 객체로 선언하는 방식으로 사용한다."
   ]
  },
  {
   "cell_type": "code",
   "execution_count": 29,
   "id": "e942ec9b",
   "metadata": {},
   "outputs": [],
   "source": [
    "f = fib()"
   ]
  },
  {
   "cell_type": "code",
   "execution_count": 30,
   "id": "6bf1904d",
   "metadata": {},
   "outputs": [
    {
     "name": "stdout",
     "output_type": "stream",
     "text": [
      "1\n",
      "1\n",
      "2\n",
      "3\n",
      "5\n",
      "8\n",
      "13\n",
      "21\n",
      "34\n",
      "55\n"
     ]
    }
   ],
   "source": [
    "for _ in range(10):\n",
    "    print(next(f))"
   ]
  },
  {
   "cell_type": "markdown",
   "id": "b1d22d49",
   "metadata": {},
   "source": [
    "`__next__()` 가 필요할 때 계속 작동함에 주의해야 한다."
   ]
  },
  {
   "cell_type": "code",
   "execution_count": 31,
   "id": "b74ddf7c",
   "metadata": {},
   "outputs": [
    {
     "name": "stdout",
     "output_type": "stream",
     "text": [
      "89\n",
      "144\n",
      "233\n",
      "377\n",
      "610\n",
      "987\n",
      "1597\n",
      "2584\n",
      "4181\n",
      "6765\n"
     ]
    }
   ],
   "source": [
    "for _ in range(10):\n",
    "    print(next(f))"
   ]
  },
  {
   "cell_type": "markdown",
   "id": "a7453ea1",
   "metadata": {},
   "source": [
    "**__islice()__ 함수**"
   ]
  },
  {
   "cell_type": "markdown",
   "id": "e13c7952",
   "metadata": {},
   "source": [
    "제너레이터 자체는 인덱싱과 슬라이싱을 지원하지 않는다.\n",
    "하지만 __itertools__ 모듈의 __islice()__ 함수를 이용하면 인덱싱과 슬라이싱을 이용할 수 있다.\n",
    "여기서도 `__next__()` 가 필요할 때 계속 작동함에 주의해야 한다."
   ]
  },
  {
   "cell_type": "code",
   "execution_count": 32,
   "id": "10844e55",
   "metadata": {},
   "outputs": [
    {
     "name": "stdout",
     "output_type": "stream",
     "text": [
      "10946\n",
      "17711\n",
      "28657\n",
      "46368\n",
      "75025\n",
      "121393\n",
      "196418\n",
      "317811\n",
      "514229\n",
      "832040\n"
     ]
    }
   ],
   "source": [
    "from itertools import islice\n",
    "\n",
    "for x in islice(f, 0, 10):\n",
    "    print(x)"
   ]
  },
  {
   "cell_type": "markdown",
   "id": "a84de8d5",
   "metadata": {},
   "source": [
    "처음부터 다시 생성하려면 다시 호출해야 한다."
   ]
  },
  {
   "cell_type": "code",
   "execution_count": 33,
   "id": "a763ed4f",
   "metadata": {},
   "outputs": [
    {
     "name": "stdout",
     "output_type": "stream",
     "text": [
      "1\n",
      "1\n",
      "2\n",
      "3\n",
      "5\n",
      "8\n",
      "13\n",
      "21\n",
      "34\n",
      "55\n"
     ]
    }
   ],
   "source": [
    "f = fib()\n",
    "\n",
    "for x in islice(f, 0, 10):\n",
    "    print(x)"
   ]
  },
  {
   "cell_type": "markdown",
   "id": "ea68cfb8",
   "metadata": {},
   "source": [
    "`fib()` 제너레이터를 이터레이터 클래스로 선언하면 다음과 같다."
   ]
  },
  {
   "cell_type": "code",
   "execution_count": 34,
   "id": "460eebf8",
   "metadata": {},
   "outputs": [],
   "source": [
    "class fib:\n",
    "    def __init__(self):\n",
    "        self.prev = 0\n",
    "        self.curr = 1\n",
    "\n",
    "    def __iter__(self):\n",
    "        return self\n",
    "\n",
    "    def __next__(self):\n",
    "        value = self.curr\n",
    "        self.curr += self.prev\n",
    "        self.prev = value\n",
    "        return value"
   ]
  },
  {
   "cell_type": "code",
   "execution_count": 35,
   "id": "86cfd228",
   "metadata": {},
   "outputs": [],
   "source": [
    "f = fib()"
   ]
  },
  {
   "cell_type": "code",
   "execution_count": 36,
   "id": "a40b7efc",
   "metadata": {},
   "outputs": [
    {
     "name": "stdout",
     "output_type": "stream",
     "text": [
      "1\n",
      "1\n",
      "2\n",
      "3\n",
      "5\n",
      "8\n",
      "13\n",
      "21\n",
      "34\n",
      "55\n"
     ]
    }
   ],
   "source": [
    "for _ in range(10):\n",
    "    print(next(f))"
   ]
  },
  {
   "cell_type": "markdown",
   "id": "ebe608b6",
   "metadata": {},
   "source": [
    "### 제너레이터 표현식"
   ]
  },
  {
   "cell_type": "markdown",
   "id": "d068f71f",
   "metadata": {},
   "source": [
    "조건제시법을 이용하여 리스트를 아래와 같이 생성할 수 있다."
   ]
  },
  {
   "cell_type": "code",
   "execution_count": 37,
   "id": "3ecca686",
   "metadata": {},
   "outputs": [
    {
     "data": {
      "text/plain": [
       "[0, 1, 2, 3, 4, 5, 6, 7, 8, 9]"
      ]
     },
     "execution_count": 37,
     "metadata": {},
     "output_type": "execute_result"
    }
   ],
   "source": [
    "numbers = [x for x in range(10)]\n",
    "\n",
    "numbers"
   ]
  },
  {
   "cell_type": "markdown",
   "id": "f1e39303",
   "metadata": {},
   "source": [
    "리스트에 사용되는 대괄호(`[]`) 대신에 튜플에 사용되는 소괄호(`()`)를 사용하면 다르게 작동한다."
   ]
  },
  {
   "cell_type": "code",
   "execution_count": 38,
   "id": "17725976",
   "metadata": {},
   "outputs": [
    {
     "data": {
      "text/plain": [
       "<generator object <genexpr> at 0x7fe15efdf740>"
      ]
     },
     "execution_count": 38,
     "metadata": {},
     "output_type": "execute_result"
    }
   ],
   "source": [
    "lazy_squares = (x * x for x in numbers)\n",
    "\n",
    "lazy_squares"
   ]
  },
  {
   "cell_type": "markdown",
   "id": "c8d2e126",
   "metadata": {},
   "source": [
    "이유는 리스트 조건제시법은 이터레이터인 리스트를 생성하는 반면에\n",
    "소괄호를 사용하면 제너레이터를 생성한다.\n",
    "제너레이터는 리스트와는 달리 항목을 모두 미리 생성하지는 않고 필요할 때 \n",
    "하나씩 `__next__()` 메서드를 활용하여 생성한다.\n",
    "\n",
    "__참고__: `range` 객체 또한 제너레이터이다. \n",
    "반면에 리스트는 항상 모든 항목을 미리 생성해 놓으며, 따라서 제너레이터가 아니다."
   ]
  },
  {
   "cell_type": "code",
   "execution_count": 39,
   "id": "8b5d6dab",
   "metadata": {},
   "outputs": [
    {
     "data": {
      "text/plain": [
       "0"
      ]
     },
     "execution_count": 39,
     "metadata": {},
     "output_type": "execute_result"
    }
   ],
   "source": [
    "next(lazy_squares)"
   ]
  },
  {
   "cell_type": "code",
   "execution_count": 40,
   "id": "3210e297",
   "metadata": {},
   "outputs": [
    {
     "data": {
      "text/plain": [
       "[1, 4, 9, 16, 25, 36, 49, 64, 81]"
      ]
     },
     "execution_count": 40,
     "metadata": {},
     "output_type": "execute_result"
    }
   ],
   "source": [
    "list(lazy_squares)"
   ]
  },
  {
   "cell_type": "markdown",
   "id": "5291042f",
   "metadata": {},
   "source": [
    "## 연습문제"
   ]
  },
  {
   "cell_type": "markdown",
   "id": "d6860cd8",
   "metadata": {},
   "source": [
    "참고: [(실습) 상속](https://colab.research.google.com/github/codingalzi/pybook/blob/master/practices/practice-inheritance.ipynb)"
   ]
  }
 ],
 "metadata": {
  "kernelspec": {
   "display_name": "Python 3 (ipykernel)",
   "language": "python",
   "name": "python3"
  },
  "language_info": {
   "codemirror_mode": {
    "name": "ipython",
    "version": 3
   },
   "file_extension": ".py",
   "mimetype": "text/x-python",
   "name": "python",
   "nbconvert_exporter": "python",
   "pygments_lexer": "ipython3",
   "version": "3.9.7"
  }
 },
 "nbformat": 4,
 "nbformat_minor": 5
}