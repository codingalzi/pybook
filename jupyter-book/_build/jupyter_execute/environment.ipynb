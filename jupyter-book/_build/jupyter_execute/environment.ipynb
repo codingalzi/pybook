{
 "cells": [
  {
   "cell_type": "markdown",
   "id": "ae538f3d-736f-4e4a-98ec-1a98d74eeb61",
   "metadata": {},
   "source": [
    "# 프로그래밍 개발 환경"
   ]
  },
  {
   "cell_type": "markdown",
   "id": "2276cd3c",
   "metadata": {},
   "source": [
    "파이썬으로 프로그래밍을 하려면 적절한 개발환경을 준비해야 하며,\n",
    "오프라인과 온라인 두 가지 방식이 있다.\n",
    "프로그래밍이 처음이라면 먼저 온라인 방식을 사용해서 \n",
    "파이썬과 어느 정도 친숙해진 다음에 오프라인 방식을 시도할 것을 추천한다."
   ]
  },
  {
   "cell_type": "markdown",
   "id": "0556f6b5",
   "metadata": {},
   "source": [
    "## 오프라인 개발 환경"
   ]
  },
  {
   "cell_type": "markdown",
   "id": "47ca9ed3",
   "metadata": {},
   "source": [
    "### 파이썬 설치"
   ]
  },
  {
   "attachments": {},
   "cell_type": "markdown",
   "id": "44b56ee7",
   "metadata": {},
   "source": [
    "파이썬 개발환경 설치가 처음이라면 \n",
    "데이터 분석 관련 중요 라이브러리,\n",
    "스파이더 편집기, \n",
    "주피터 노트북을 모두 포함하는 \n",
    "[아나콘다<font size = \"2\">Anaconda</font>](https://www.anaconda.com/products/individual) 패키지를 설치할 것을 추천한다.\n",
    "자세한 설치 과정은 {ref}`sec:anaconda_install`를 참고한다."
   ]
  },
  {
   "cell_type": "markdown",
   "id": "d52b93af",
   "metadata": {},
   "source": [
    "### 주피터 노트북"
   ]
  },
  {
   "attachments": {},
   "cell_type": "markdown",
   "id": "d5b0863c",
   "metadata": {},
   "source": [
    "간단한 파이썬 코드 설명은 **대화식 프로그래밍**<font size=\"2\">interactive programming</font>을\n",
    "지원하는 **주피터 노트북**<font size=\"2\">Jupyter notebook</font>을 사용한다.\n",
    "주피터 노트북이 지원하는 대화식 프로그래밍은 IPython 콘솔 기능을 이용한다.\n",
    "IPython 콘솔<font size='2'>consol</font>이\n",
    "지원하는 대화식 프로그래밍은 아래와 같다.\n",
    "\n",
    "```python\n",
    "In [1]: print('Hello world')\n",
    "Hello world\n",
    "```\n",
    "\n",
    "반면에 파이썬 자체가 지원하는 콘솔은 다음 모양의 대화식 코딩을 지원한다.\n",
    "\n",
    "```python\n",
    ">>> print('Hello world')\n",
    "Hello world\n",
    "```\n",
    "\n",
    "IPython 콘솔은 파이썬 프로그래밍 이외에 보다 다양한 기능을 지원하며\n",
    "앞으로 필요한 기능을 하나씩 언급할 것이다.\n",
    "\n",
    "주피터 노트북의 실행법은 {ref}`sec:jupyter_notebook`를 참고한다.\n",
    "아나콘다의 설치 과정과 주피터 노트북의 기초 사용법에 대한 보다 상세한 설명은 \n",
    "[유튜버 나도코딩의 동영상](https://www.youtube.com/watch?v=dJfq-eCi7KI&t=2298s)을\n",
    "참고하면 좋다."
   ]
  },
  {
   "cell_type": "markdown",
   "id": "9bac2ce7",
   "metadata": {},
   "source": [
    "### 통합 개발 환경(IDE)"
   ]
  },
  {
   "attachments": {},
   "cell_type": "markdown",
   "id": "e9c35a75",
   "metadata": {},
   "source": [
    "보다 복잡한 파이썬 프로그래밍을 위해서는 코드 편집과 실행, 디버깅 등 \n",
    "프로그래밍 관련 모든 작업을 통합해서 지원하는 \n",
    "통합 개발 환경을 사용한다.\n",
    "일명 **IDE**<font size=\"2\">Interactive Development Environment</font>라고 불리는\n",
    "통합 개발 환경을 지원하는 대표적인 앱은 다음과 같다.\n",
    "\n",
    "* [스파이더<font size=\"2\">Spyder</font>](https://www.spyderide.org/): 아나콘다 패키지에 포함됨.\n",
    "* [파이참<font size=\"2\">Pycharm</font>](https://www.jetbrains.com/pycharm): 가장 인기있는 상용 프로그램.\n",
    "    Pro 와 Community 두 버전을 지원하며 입문자는 무료 버전인 Community 추천.\n",
    "* [비주얼 스튜디오 코드<font size=\"2\">Visual Studio Code</font>](https://code.visualstudio.com/docs/languages/python): \n",
    "    마이크로소프트에서 지원하며, 현재 가장 인기 있는 무료 프로그램.\n",
    "    파이썬 뿐만 아니라 거의 모든 프로그래밍 언어를 위한 통합 개발 환경 지원.\n",
    "* [아톰<font size=\"2\">Atom</font>](https://atom.io): 소스코드 저장소로 가장 유명한 \n",
    "    [깃허브<font size=\"2\">GitHub</font>](https://github.com/)에서 개발한 IDE. \n",
    "    거의 모든 프로그래밍 언어 지원.\n",
    "\n",
    "여기서는 일명 **VS Code**라 불리는 \n",
    "비주얼 스튜디오 코드를 사용할 것을 추천한다.\n",
    "VS Code의 설치 과정과 사용법은 {ref}`sec:vs_code`와\n",
    "[생활코딩의 동영상](https://www.youtube.com/watch?v=K8qVH8V0VvY&t=337s)을\n",
    "참고한다."
   ]
  },
  {
   "cell_type": "markdown",
   "id": "1018a973",
   "metadata": {},
   "source": [
    "## 온라인 개발 환경"
   ]
  },
  {
   "cell_type": "markdown",
   "id": "db9b05aa",
   "metadata": {},
   "source": [
    "파이썬 개발 환경을 지원하는 많은 인터넷 사이트가 존재한다.\n",
    "여기서는 **레플릿**과 **구글 코랩**을 추천한다."
   ]
  },
  {
   "cell_type": "markdown",
   "id": "b2fc404e",
   "metadata": {},
   "source": [
    "### 레플릿"
   ]
  },
  {
   "attachments": {},
   "cell_type": "markdown",
   "id": "3af10e97",
   "metadata": {},
   "source": [
    "[레플릿<font size=\"2\">repl.it</font>](https://replit.com/)은 웹브라우저를 사용하여 \n",
    "온라인 상에서 코드를 작성하여 프로그램을 구현할 수 있는\n",
    "기능을 지원하는 웹사이트이며\n",
    "파이썬, C, C++, C#, 자바 등을 포함해 50여개 이상의 프로그래밍 언어를 지원한다. \n",
    "\n",
    "회원가입 후 로그인하면 바로 선택한 언어의 통합 개발 환경을 사용할 수 있다.\n",
    "회원가입 시 구글 계정을 이용하면 나중에 구글 코랩 사이트와 연동할 때 좀 더 편리할 수 있다.\n",
    "무료 회원인 경우 일부 제한이 있지만 프로그래밍 입문에 필요한 요소는 모두 제공된다.\n",
    "사용법은 {ref}`sec:replit`와\n",
    "[유튜버 알파쿠의 동영상](https://www.youtube.com/watch?v=YVHX62wX_zg)을 참고한다."
   ]
  },
  {
   "cell_type": "markdown",
   "id": "2f59e5f7",
   "metadata": {},
   "source": [
    "### 구글 코랩"
   ]
  },
  {
   "attachments": {},
   "cell_type": "markdown",
   "id": "dde2949c",
   "metadata": {},
   "source": [
    "[구글 코랩<font size=\"2\">Google Colab</font>](https://colab.research.google.com/?hl=ko)은 \n",
    "구글에서 제공하는 파이썬 전용 온라인 주피터 노트북이다.\n",
    "웹브라우저를 이용하여 어떤 준비 없이 바로 파이썬 프로그래밍을 시작할 수 있다.\n",
    "\n",
    "사용법은 {ref}`sec:google_colab`와\n",
    "[유튜버 봉수골 개발자 이선비의 동영상](https://www.youtube.com/watch?v=91E0qenm7W4)을 참고한다.\n",
    "그리고 입문용은 아니지만 구글 코랩만이 지원하는 유용한 고급 기능을 \n",
    "[TensorFlow 팀의 동영상](https://www.youtube.com/watch?v=rNgswRZ2C1Y)에서 확인할 수 있다."
   ]
  }
 ],
 "metadata": {
  "kernelspec": {
   "display_name": "base",
   "language": "python",
   "name": "python3"
  },
  "language_info": {
   "codemirror_mode": {
    "name": "ipython",
    "version": 3
   },
   "file_extension": ".py",
   "mimetype": "text/x-python",
   "name": "python",
   "nbconvert_exporter": "python",
   "pygments_lexer": "ipython3",
   "version": "3.9.12"
  },
  "toc-autonumbering": false,
  "vscode": {
   "interpreter": {
    "hash": "ad0f3c8a064f687cbf898a0868fd45ba1c7e928ac8a0404f7c241d812ddc1e76"
   }
  }
 },
 "nbformat": 4,
 "nbformat_minor": 5
}