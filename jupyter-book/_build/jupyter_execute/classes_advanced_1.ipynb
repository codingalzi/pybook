{
 "cells": [
  {
   "cell_type": "markdown",
   "metadata": {},
   "source": [
    "(ch:classes-advanced-1)=\n",
    "# (부록) 클래스 고급 활용법 1"
   ]
  },
  {
   "cell_type": "markdown",
   "metadata": {},
   "source": [
    "**주요 내용**\n",
    "\n",
    "- `__str__()` 대 `__repr__()`\n",
    "- 비교 가능 클래스\n",
    "- 공개 여부\n",
    "- 컨테이너 클래스"
   ]
  },
  {
   "cell_type": "markdown",
   "metadata": {},
   "source": [
    "**참고**\n",
    "\n",
    "참고: 아래 내용은 [Problem Solving with Algorithms and Data Structures using Python](https://runestone.academy/ns/books/published/pythonds3/index.html)의 2장 내용을 일부 활용한다."
   ]
  },
  {
   "cell_type": "markdown",
   "metadata": {},
   "source": [
    "## 클래스 선언"
   ]
  },
  {
   "cell_type": "markdown",
   "metadata": {},
   "source": [
    "클래스를 선언할 때 기본적으로 아래 요소들이 지원되도록 해야 한다. \n",
    "\n",
    "* 문서화: **문서화 문자열**(독스트링, docstring) 기능을 이용하여 해당 클래스의 기능과 사용법을 설명한다.\n",
    "    세 개의 큰 따옴표(`\"\"\"`)로 감싸인 문장으로 작성한다.\n",
    "* 출력 지원\n",
    "    - `__str__()` 매직 메서드 구현: `print()`함수를 이용하여 해당 인스턴스를 출력할 때 활용한다.\n",
    "    * `__repr__()` 매직 메서드 구현: 대화형 쉘, 디버깅 과정, \n",
    "        또는 `print()` 함수가 영향을 미치지 못하는 곳에서 해당 인스턴스를 출력할 때 활용된다."
   ]
  },
  {
   "cell_type": "markdown",
   "metadata": {},
   "source": [
    "이와 더불어 클래스의 인스턴스들을 대상으로 크기 비교를 하려면 최소 아래 두 매직 메서드를 구현해야 한다.\n",
    "\n",
    "- `__eq__()`: 동등성 비교\n",
    "- `__lt__()`: 작은지 여부 비교\n",
    "\n",
    "경우에 따라 인스턴스 내부에서만 사용되고 외부로 굳이 알려질 필요가 \n",
    "없는 인스턴스 변수 각각에 대해 아래 사항을 지정할 수 있다.\n",
    "\n",
    "- 공개 여부\n",
    "- 읽기 전용 여부"
   ]
  },
  {
   "cell_type": "markdown",
   "metadata": {},
   "source": [
    "리스트, 튜플 처럼 여러 개의 항목을 포함하는 모음 자료형 객체를 선언할 때 사용되는 컨테이너 클래스는 이외에도 `for` 반복문, 인덱싱 등을 지원하는 다양한 메서드를 제공해야 한다."
   ]
  },
  {
   "cell_type": "markdown",
   "metadata": {},
   "source": [
    "두 개의 클래스를 선언하고 기능을 확장시키는 과정을 통해 클래스의 용도에 따라 필요한 매직 메서드들의 기능을 소개한다.\n",
    "매직 메서드의 기본 기능을 설명하기 위해 먼저 다면체 주사위 클래스를 간단하게 선언하여 살펴 본다."
   ]
  },
  {
   "cell_type": "markdown",
   "metadata": {},
   "source": [
    "**다면체 주사위 클래스**"
   ]
  },
  {
   "cell_type": "markdown",
   "metadata": {},
   "source": [
    "다면체 주사위 객체 생성에 사용되는 `MSDie` 클래스를 선언한 후에 한 단계씩 \n",
    "업데이트 하는 과정을 살펴본다. \n",
    "`MSDie` 클래스에 기본으로 포함되는 두 메서드는 다음과 같다.\n",
    "\n",
    "- `__init__()` 메서드: 생성되는 주사위는 지정된 개수의 면을 갖는다. \n",
    "    즉, 4면체, 6면체, 7면체 등 다면체 주사위 객체를 생성할 수 있도록 생성자를 정의한다.\n",
    "- `roll()` 메서드: 주사위 객체를 생성할 때 주사위가 가리키는 값을 하나 무작위로 지정하도록 한 다음에\n",
    "    필요에 따라 주사위 굴리기를 실행하고 그 결과를 저장하도록 한다."
   ]
  },
  {
   "cell_type": "code",
   "execution_count": 1,
   "metadata": {},
   "outputs": [],
   "source": [
    "import random\n",
    "\n",
    "class MSDie:\n",
    "    \"\"\"\n",
    "    다면체 주사위\n",
    "    \n",
    "    인스턴스 변수: \n",
    "        num_sides: 면 개수\n",
    "        current_value: 주사위를 굴린 결과\n",
    "    \"\"\"\n",
    "\n",
    "    def __init__(self, num_sides):\n",
    "        self.num_sides = num_sides\n",
    "        self.current_value = self.roll()   # 주사위 굴리기 먼저 실행\n",
    "\n",
    "    def roll(self):   # 주사위 굴리기\n",
    "        self.current_value = random.randrange(1, self.num_sides+1) # 무작위 생성\n",
    "        return self.current_value"
   ]
  },
  {
   "cell_type": "markdown",
   "metadata": {},
   "source": [
    "6면체 주사위 객체를 하나 생성하여 5번 굴린 결과를 확인한다."
   ]
  },
  {
   "cell_type": "code",
   "execution_count": 2,
   "metadata": {},
   "outputs": [
    {
     "name": "stdout",
     "output_type": "stream",
     "text": [
      "<__main__.MSDie object at 0x7f51f8dfe050> 4\n",
      "<__main__.MSDie object at 0x7f51f8dfe050> 2\n",
      "<__main__.MSDie object at 0x7f51f8dfe050> 2\n",
      "<__main__.MSDie object at 0x7f51f8dfe050> 2\n",
      "<__main__.MSDie object at 0x7f51f8dfe050> 6\n"
     ]
    }
   ],
   "source": [
    "my_die = MSDie(6)\n",
    "\n",
    "for i in range(5):\n",
    "    print(my_die, my_die.current_value)\n",
    "    my_die.roll()    # 주사위 새로 굴리기"
   ]
  },
  {
   "cell_type": "markdown",
   "metadata": {},
   "source": [
    "## 매직 메서드"
   ]
  },
  {
   "cell_type": "markdown",
   "metadata": {},
   "source": [
    "매직 메서드<font size='2'>magic method</font>는 클래스에 기본적으로 포함되는 메서드다.\n",
    "매직 메서드의 이름은 밑줄 두 개로 감싸지며, \n",
    "클래스가 기본적으로 갖춰야 하는 기능을 제공한다.\n",
    "\n",
    "클래스에 기본으로 포함된 매직 메서드를 `dir()` 함수를 이용하여 확인할 수 있다.\n",
    "그러면 `__class__`, `__dict__` 등과 같은 기본 속성과 함께 다른 다양한 기본 속성과\n",
    "매직 메서드의 리스트를 확인할 수 있다."
   ]
  },
  {
   "cell_type": "code",
   "execution_count": 3,
   "metadata": {},
   "outputs": [
    {
     "data": {
      "text/plain": [
       "['__class__',\n",
       " '__delattr__',\n",
       " '__dict__',\n",
       " '__dir__',\n",
       " '__doc__',\n",
       " '__eq__',\n",
       " '__format__',\n",
       " '__ge__',\n",
       " '__getattribute__',\n",
       " '__getstate__',\n",
       " '__gt__',\n",
       " '__hash__',\n",
       " '__init__',\n",
       " '__init_subclass__',\n",
       " '__le__',\n",
       " '__lt__',\n",
       " '__module__',\n",
       " '__ne__',\n",
       " '__new__',\n",
       " '__reduce__',\n",
       " '__reduce_ex__',\n",
       " '__repr__',\n",
       " '__setattr__',\n",
       " '__sizeof__',\n",
       " '__str__',\n",
       " '__subclasshook__',\n",
       " '__weakref__',\n",
       " 'roll']"
      ]
     },
     "execution_count": 3,
     "metadata": {},
     "output_type": "execute_result"
    }
   ],
   "source": [
    "dir(MSDie)"
   ]
  },
  {
   "cell_type": "markdown",
   "metadata": {},
   "source": [
    "이중에 중요한 매직 메서드 몇 개의 기능을 알아본다."
   ]
  },
  {
   "cell_type": "markdown",
   "metadata": {},
   "source": [
    "## 객체 출력"
   ]
  },
  {
   "cell_type": "markdown",
   "metadata": {},
   "source": [
    "`print(my_die)`가 `num_sides`와 `current_value`를 활용하여 적절한 출력을\n",
    "만들어 내도록 하려면 `__str__()` 매직 메서드가 적절한 문자열을 출력하도록 해야 한다."
   ]
  },
  {
   "cell_type": "code",
   "execution_count": 4,
   "metadata": {},
   "outputs": [],
   "source": [
    "import random\n",
    "\n",
    "class MSDie:\n",
    "    \"\"\"\n",
    "    다면체 주사위\n",
    "    \n",
    "    인스턴스 변수: \n",
    "        num_sides: 면 개수\n",
    "        current_value: 주사위를 굴린 결과\n",
    "    \"\"\"\n",
    "\n",
    "    def __init__(self, num_sides):\n",
    "        self.num_sides = num_sides\n",
    "        self.current_value = self.roll()   # 주사위 굴리기 먼저 실행\n",
    "\n",
    "    def roll(self):   # 주사위 굴리기\n",
    "        self.current_value = random.randrange(1, self.num_sides+1)\n",
    "        return self.current_value\n",
    "\n",
    "    def __str__(self):\n",
    "        return f\"MSDie({self.num_sides})\""
   ]
  },
  {
   "cell_type": "code",
   "execution_count": 5,
   "metadata": {},
   "outputs": [
    {
     "name": "stdout",
     "output_type": "stream",
     "text": [
      "MSDie(6) - 가리키는 값은 6\n",
      "MSDie(6) - 가리키는 값은 6\n",
      "MSDie(6) - 가리키는 값은 3\n",
      "MSDie(6) - 가리키는 값은 1\n",
      "MSDie(6) - 가리키는 값은 5\n"
     ]
    }
   ],
   "source": [
    "my_die = MSDie(6)\n",
    "\n",
    "for i in range(5):\n",
    "    print(my_die, \"- 가리키는 값은\", my_die.current_value)\n",
    "    my_die.roll()    # 주사위 새로 굴리기"
   ]
  },
  {
   "cell_type": "markdown",
   "metadata": {},
   "source": [
    "하지만 `print()` 함수를 사용하지 않고 값을 확인하려 하면 제대로 작동하지 않는다."
   ]
  },
  {
   "cell_type": "code",
   "execution_count": 6,
   "metadata": {},
   "outputs": [
    {
     "data": {
      "text/plain": [
       "<__main__.MSDie at 0x7f51f8e10910>"
      ]
     },
     "execution_count": 6,
     "metadata": {},
     "output_type": "execute_result"
    }
   ],
   "source": [
    "my_die"
   ]
  },
  {
   "cell_type": "markdown",
   "metadata": {},
   "source": [
    "`print()` 함수를 사용하더라도 다면체 주사위로 구성된 리스트를 출력하려 하면\n",
    "원하는 대로 작동하지 않는다.\n",
    "즉, 리스트의 항목에 대해서는 `print()` 함수가 영향을 미치지 못한다."
   ]
  },
  {
   "cell_type": "code",
   "execution_count": 7,
   "metadata": {},
   "outputs": [
    {
     "name": "stdout",
     "output_type": "stream",
     "text": [
      "[<__main__.MSDie object at 0x7f51f8e12ad0>, <__main__.MSDie object at 0x7f51f8e12a10>]\n"
     ]
    }
   ],
   "source": [
    "d_list = [MSDie(6), MSDie(20)]\n",
    "print(d_list)"
   ]
  },
  {
   "cell_type": "markdown",
   "metadata": {},
   "source": [
    "이 문제를 해결하려면 `__repr__()` 매직 메서드의 반환값을 적절한 문자열로 지정해야 한다."
   ]
  },
  {
   "cell_type": "code",
   "execution_count": 8,
   "metadata": {},
   "outputs": [],
   "source": [
    "import random\n",
    "\n",
    "class MSDie:\n",
    "    \"\"\"\n",
    "    다면체 주사위\n",
    "    \n",
    "    인스턴스 변수: \n",
    "        num_sides: 면 개수\n",
    "        current_value: 주사위를 굴린 결과\n",
    "    \"\"\"\n",
    "\n",
    "    def __init__(self, num_sides):\n",
    "        self.num_sides = num_sides\n",
    "        self.current_value = self.roll()   # 주사위 굴리기 먼저 실행\n",
    "\n",
    "    def roll(self):   # 주사위 굴리기\n",
    "        self.current_value = random.randrange(1, self.num_sides+1)\n",
    "        return self.current_value\n",
    "\n",
    "    def __str__(self):\n",
    "        return f\"MSDie({self.num_sides})\"\n",
    "\n",
    "    def __repr__(self):\n",
    "        return f\"MSDie({self.num_sides}):{self.current_value}\""
   ]
  },
  {
   "cell_type": "code",
   "execution_count": 9,
   "metadata": {},
   "outputs": [
    {
     "name": "stdout",
     "output_type": "stream",
     "text": [
      "[MSDie(6):2, MSDie(20):5]\n"
     ]
    }
   ],
   "source": [
    "d_list = [MSDie(6), MSDie(20)]\n",
    "print(d_list)"
   ]
  },
  {
   "cell_type": "markdown",
   "metadata": {},
   "source": [
    "앞서 보인 것처럼 `__str__()`과 `__repr__()`를 구분해서 각자의 역할에 따라 \n",
    "객체를 다른 식으로 보여준다. \n",
    "하지만 굳이 구분하지 않겠다면 `__repr__()` 만 정의해도 된다.\n",
    "그러면 `__str__()`이 필요한 경우 대신 `__repr__()`가 사용된다."
   ]
  },
  {
   "cell_type": "code",
   "execution_count": 10,
   "metadata": {},
   "outputs": [],
   "source": [
    "import random\n",
    "\n",
    "class MSDie:\n",
    "    \"\"\"\n",
    "    다면체 주사위\n",
    "    \n",
    "    인스턴스 변수: \n",
    "        num_sides: 면 개수\n",
    "        current_value: 주사위를 굴린 결과\n",
    "    \"\"\"\n",
    "\n",
    "    def __init__(self, num_sides):\n",
    "        self.num_sides = num_sides\n",
    "        self.current_value = self.roll()   # 주사위 굴리기 먼저 실행\n",
    "\n",
    "    def roll(self):   # 주사위 굴리기\n",
    "        self.current_value = random.randrange(1, self.num_sides+1)\n",
    "        return self.current_value\n",
    "\n",
    "    def __repr__(self):\n",
    "        return f\"MSDie({self.num_sides}):{self.current_value}\""
   ]
  },
  {
   "cell_type": "code",
   "execution_count": 11,
   "metadata": {},
   "outputs": [
    {
     "name": "stdout",
     "output_type": "stream",
     "text": [
      "MSDie(6):6\n",
      "MSDie(6):5\n",
      "MSDie(6):3\n",
      "MSDie(6):6\n",
      "MSDie(6):2\n"
     ]
    }
   ],
   "source": [
    "my_die = MSDie(6)\n",
    "\n",
    "for i in range(5):\n",
    "    print(my_die)\n",
    "    my_die.roll()    # 주사위 새로 굴리기"
   ]
  },
  {
   "cell_type": "code",
   "execution_count": 12,
   "metadata": {},
   "outputs": [
    {
     "name": "stdout",
     "output_type": "stream",
     "text": [
      "[MSDie(6):3, MSDie(20):13]\n"
     ]
    }
   ],
   "source": [
    "d_list = [MSDie(6), MSDie(20)]\n",
    "print(d_list)"
   ]
  },
  {
   "cell_type": "markdown",
   "metadata": {},
   "source": [
    "## 객체 비교"
   ]
  },
  {
   "cell_type": "markdown",
   "metadata": {},
   "source": [
    "**비교 연산자**"
   ]
  },
  {
   "cell_type": "markdown",
   "metadata": {},
   "source": [
    "두 주사위 객체의 동등성(equality) 여부를 어떻게 판단할까? \n",
    "두 주사위가 가리키는 값이 같을 때? 주사위 면의 수가 다르면?\n",
    "두 주사위의 크기 비교는 어떻게?\n",
    "이런 질문들에 답하려면 객체 비교와 관련된 몇 개의 매직 메서드를 선언해야 한다.\n",
    "\n",
    "* `__lt__`: 작다 연산자(`<`) 지원\n",
    "* `__gt__`: 크다 연산자(`>`) 지원\n",
    "* `__eq__`: 동등성 연산자(`==`) 지원\n",
    "* `__le__`: 작거나 같다 연산자(`<=`) 지원\n",
    "* `__ge__`: 크거나 같다 연산자(`>=`) 지원\n",
    "* `__ne__`: 비동등성(`!=`) 지원"
   ]
  },
  {
   "cell_type": "markdown",
   "metadata": {},
   "source": [
    "먼저 두 주사의 크기 비교를 주사위가 가리키는 값(`current_value`)만 이용하여 지정한다."
   ]
  },
  {
   "cell_type": "code",
   "execution_count": 13,
   "metadata": {},
   "outputs": [],
   "source": [
    "import random\n",
    "\n",
    "class MSDie:\n",
    "    \"\"\"\n",
    "    다면체 주사위\n",
    "    \n",
    "    인스턴스 변수: \n",
    "        num_sides: 면 개수\n",
    "        current_value: 주사위를 굴린 결과\n",
    "    \"\"\"\n",
    "\n",
    "    def __init__(self, num_sides):\n",
    "        self.num_sides = num_sides\n",
    "        self.current_value = self.roll()   # 주사위 굴리기 먼저 실행\n",
    "\n",
    "    def roll(self):   # 주사위 굴리기\n",
    "        self.current_value = random.randrange(1, self.num_sides+1)\n",
    "        return self.current_value\n",
    "\n",
    "    def __repr__(self):\n",
    "        return \"MSDie({}) : {}\".format(self.num_sides, self.current_value)\n",
    "\n",
    "    # 크기 비교 연산자 지원\n",
    "    \n",
    "    def __eq__(self,other):\n",
    "        return self.current_value == other.current_value\n",
    "\n",
    "    def __lt__(self,other):\n",
    "        return self.current_value < other.current_value\n",
    "\n",
    "    def __le__(self, other):\n",
    "        return self.current_value <= other.current_value    "
   ]
  },
  {
   "cell_type": "markdown",
   "metadata": {},
   "source": [
    "비교 연산자들의 활용법은 모두 아래 형식을 따른다.\n",
    "아래 표현식에서 `self`는 비교의 중심이 되는 객체를, `other`는 비교 대상 객체를 가리킨다.\n",
    "\n",
    "```python\n",
    "__eq__(self, other)\n",
    "```"
   ]
  },
  {
   "cell_type": "code",
   "execution_count": 14,
   "metadata": {},
   "outputs": [
    {
     "name": "stdout",
     "output_type": "stream",
     "text": [
      "False\n",
      "False\n",
      "False\n"
     ]
    }
   ],
   "source": [
    "x = MSDie(6)\n",
    "y = MSDie(7)\n",
    "\n",
    "x.current_value = 6\n",
    "y.current_value = 5\n",
    "\n",
    "print(x == y)\n",
    "print(x < y)\n",
    "print(x <= y)"
   ]
  },
  {
   "cell_type": "markdown",
   "metadata": {},
   "source": [
    "**최소로 필요한 비교 연산자**"
   ]
  },
  {
   "cell_type": "markdown",
   "metadata": {},
   "source": [
    "앞서 `__gt__()`, `__ge__()`, `__ne__()` 매직 메서드를 정의하지 않았지만\n",
    "자동으로 지원된다. "
   ]
  },
  {
   "cell_type": "code",
   "execution_count": 15,
   "metadata": {},
   "outputs": [
    {
     "name": "stdout",
     "output_type": "stream",
     "text": [
      "True\n",
      "True\n",
      "True\n"
     ]
    }
   ],
   "source": [
    "print(x > y)\n",
    "print(x>=y)\n",
    "print(x != y)"
   ]
  },
  {
   "cell_type": "markdown",
   "metadata": {},
   "source": [
    "**모양이 다른 다면체 비교**"
   ]
  },
  {
   "cell_type": "markdown",
   "metadata": {},
   "source": [
    "모양이 다른 다면체 사이의 비교는 무조건 거짓으로 정할 수도 있다."
   ]
  },
  {
   "cell_type": "code",
   "execution_count": 16,
   "metadata": {},
   "outputs": [],
   "source": [
    "import random\n",
    "\n",
    "class MSDie:\n",
    "    \"\"\"\n",
    "    다면체 주사위\n",
    "    \n",
    "    인스턴스 변수: \n",
    "        num_sides: 면 개수\n",
    "        current_value: 주사위를 굴린 결과\n",
    "    \"\"\"\n",
    "\n",
    "    def __init__(self, num_sides):\n",
    "        self.num_sides = num_sides\n",
    "        self.current_value = self.roll()   # 주사위 굴리기 먼저 실행\n",
    "\n",
    "    def roll(self):   # 주사위 굴리기\n",
    "        self.current_value = random.randrange(1, self.num_sides+1)\n",
    "        return self.current_value\n",
    "\n",
    "    def __repr__(self):\n",
    "        return \"MSDie({}) : {}\".format(self.num_sides, self.current_value)\n",
    "\n",
    "    # 크기 비교 연산자 지원\n",
    "    \n",
    "    def __eq__(self,other):\n",
    "        if self.num_sides == other.num_sides:\n",
    "            return self.current_value == other.current_value\n",
    "        else:\n",
    "            return False\n",
    "\n",
    "    def __lt__(self,other):\n",
    "        if self.num_sides == other.num_sides:\n",
    "            return self.current_value < other.current_value\n",
    "        else:\n",
    "            return False\n",
    "\n",
    "    def __le__(self, other):\n",
    "        if self.num_sides == other.num_sides:\n",
    "            return self.current_value <= other.current_value\n",
    "        else:\n",
    "            return False"
   ]
  },
  {
   "cell_type": "markdown",
   "metadata": {},
   "source": [
    "모양이 다른 다면체 두 개를 생성한다."
   ]
  },
  {
   "cell_type": "code",
   "execution_count": 17,
   "metadata": {},
   "outputs": [],
   "source": [
    "x = MSDie(6)\n",
    "y = MSDie(7)"
   ]
  },
  {
   "cell_type": "markdown",
   "metadata": {},
   "source": [
    "이제 모든 비교는 거짓이 된다."
   ]
  },
  {
   "cell_type": "code",
   "execution_count": 18,
   "metadata": {},
   "outputs": [
    {
     "name": "stdout",
     "output_type": "stream",
     "text": [
      "False\n"
     ]
    }
   ],
   "source": [
    "x.current_value = 6\n",
    "y.current_value = 6\n",
    "\n",
    "print(x == y)"
   ]
  },
  {
   "cell_type": "code",
   "execution_count": 19,
   "metadata": {},
   "outputs": [
    {
     "name": "stdout",
     "output_type": "stream",
     "text": [
      "False\n"
     ]
    }
   ],
   "source": [
    "x.current_value = 6\n",
    "y.current_value = 7\n",
    "\n",
    "print(x < y)"
   ]
  },
  {
   "cell_type": "code",
   "execution_count": 20,
   "metadata": {},
   "outputs": [
    {
     "name": "stdout",
     "output_type": "stream",
     "text": [
      "False\n"
     ]
    }
   ],
   "source": [
    "x.current_value = 6\n",
    "y.current_value = 7\n",
    "\n",
    "print(x <= y)"
   ]
  },
  {
   "cell_type": "markdown",
   "metadata": {},
   "source": [
    "모양이 동일해야 가리키는 값을 기준으로 비교한다."
   ]
  },
  {
   "cell_type": "code",
   "execution_count": 21,
   "metadata": {},
   "outputs": [],
   "source": [
    "x = MSDie(6)\n",
    "y = MSDie(6)"
   ]
  },
  {
   "cell_type": "code",
   "execution_count": 22,
   "metadata": {},
   "outputs": [
    {
     "name": "stdout",
     "output_type": "stream",
     "text": [
      "True\n"
     ]
    }
   ],
   "source": [
    "x.current_value = 6\n",
    "y.current_value = 6\n",
    "\n",
    "print(x == y)"
   ]
  },
  {
   "cell_type": "code",
   "execution_count": 23,
   "metadata": {},
   "outputs": [
    {
     "name": "stdout",
     "output_type": "stream",
     "text": [
      "True\n"
     ]
    }
   ],
   "source": [
    "x.current_value = 6\n",
    "y.current_value = 7\n",
    "\n",
    "print(x < y)"
   ]
  },
  {
   "cell_type": "code",
   "execution_count": 24,
   "metadata": {},
   "outputs": [
    {
     "name": "stdout",
     "output_type": "stream",
     "text": [
      "False\n"
     ]
    }
   ],
   "source": [
    "x.current_value = 6\n",
    "y.current_value = 7\n",
    "\n",
    "print(x >= y)"
   ]
  },
  {
   "cell_type": "markdown",
   "metadata": {},
   "source": [
    "## 공개 여부"
   ]
  },
  {
   "cell_type": "markdown",
   "metadata": {},
   "source": [
    "자바 언어의 클래스 선언에 사용되는 private, default, protected, public 등과 같은\n",
    "접근 제어자는 파이썬에서 지원되지 않는다.\n",
    "파이썬에서 클래스의 모든 것은 공개(public)되기에\n",
    "클래스 외부로부터의 접근과 수정이 가능하다.\n",
    "\n",
    "그럼에도 불구하고 일부 변수와 메서드를 특별한 방식으로 이름을 지어 외부 노출을 최대한\n",
    "줄일 수 있다.\n",
    "\n",
    "- 두 개의 밑줄(`__`)로 시작하기: 숨기고자 하는 속성 변수와 메서드 이름\n",
    "- 한 개의 밑줄(`_`)로 시작하기: 숨길 것 까지는 아니지만 \n",
    "    내부용이라 굳이 클래스 외부에서 알 필요까지는 없는 속성 변수와 메서드 이름"
   ]
  },
  {
   "cell_type": "markdown",
   "metadata": {},
   "source": [
    "아래 코드는 MSDie 클래스의 생성자를 조금 수정하였다.\n",
    "수정된 내용은 주사위를 굴렸을 때 나온 값에 `__hidden1`을 곱한 후에 `_hidden2`로 \n",
    "나눈 결과를 `current_value`로 가리키도록 하였다."
   ]
  },
  {
   "cell_type": "code",
   "execution_count": 25,
   "metadata": {},
   "outputs": [],
   "source": [
    "import random\n",
    "\n",
    "class MSDie:\n",
    "    \"\"\"\n",
    "    다면체 주사위\n",
    "    \n",
    "    인스턴스 변수: \n",
    "        num_sides: 면 개수\n",
    "        current_value: 주사위를 굴린 결과\n",
    "    \"\"\"\n",
    "\n",
    "    def __init__(self, num_sides):\n",
    "        self.__hidden1 = 3                  # 이름 뒤섞기\n",
    "        self._hidden2 = 7\n",
    "        self.num_sides = num_sides\n",
    "        self.current_value = self.roll()    # 주사위 굴리기 먼저 실행\n",
    "\n",
    "    def __randNum(self):\n",
    "        return random.randrange(1, self.num_sides+1)\n",
    "\n",
    "    def roll(self):   # 주사위 굴리기\n",
    "        randNum = self.__randNum()\n",
    "        self.current_value = (self.__hidden1 * randNum) % self._hidden2 \n",
    "        return self.current_value"
   ]
  },
  {
   "cell_type": "code",
   "execution_count": 26,
   "metadata": {},
   "outputs": [],
   "source": [
    "x = MSDie(6)"
   ]
  },
  {
   "cell_type": "markdown",
   "metadata": {},
   "source": [
    "현재 가리키는 값이 이제는 `__hidden1`과 `_hidden2`에 의존한다."
   ]
  },
  {
   "cell_type": "code",
   "execution_count": 27,
   "metadata": {},
   "outputs": [
    {
     "data": {
      "text/plain": [
       "2"
      ]
     },
     "execution_count": 27,
     "metadata": {},
     "output_type": "execute_result"
    }
   ],
   "source": [
    "x.current_value"
   ]
  },
  {
   "cell_type": "markdown",
   "metadata": {},
   "source": [
    "그런데 두 밑줄로 시작하는 `__hidden1` 속성은 인스턴스 변수로 확인할 수 없다."
   ]
  },
  {
   "cell_type": "markdown",
   "metadata": {},
   "source": [
    "```python\n",
    ">>> x.__hidden1\n",
    "AttributeError                            Traceback (most recent call last)\n",
    "Input In [18], in <module>\n",
    "----> 1 x.__hidden1\n",
    "\n",
    "AttributeError: 'MSDie' object has no attribute '__hidden1'\n",
    "```"
   ]
  },
  {
   "cell_type": "markdown",
   "metadata": {},
   "source": [
    "반면에 하나의 밑줄로 시작하는 `_hidden2` 속성은 인스턴스 변수로 값이 확인된다."
   ]
  },
  {
   "cell_type": "code",
   "execution_count": 28,
   "metadata": {},
   "outputs": [
    {
     "data": {
      "text/plain": [
       "7"
      ]
     },
     "execution_count": 28,
     "metadata": {},
     "output_type": "execute_result"
    }
   ],
   "source": [
    "x._hidden2"
   ]
  },
  {
   "cell_type": "markdown",
   "metadata": {},
   "source": [
    "함수에 대해서도 동일하게 작동한다.\n",
    "`__randNum()` 함수는 외부에 노출되지 않는다."
   ]
  },
  {
   "cell_type": "markdown",
   "metadata": {},
   "source": [
    "```python\n",
    ">>> x.__randNum()\n",
    "AttributeError                            Traceback (most recent call last)\n",
    "c:\\Users\\gslee\\Documents\\GitHub\\algopy\\jupyter-book\\python_basic_4.ipynb 셀 56 in <cell line: 1>()\n",
    "----> 1 x.__randNum\n",
    "\n",
    "AttributeError: 'MSDie' object has no attribute '__randNum'\n",
    "```"
   ]
  },
  {
   "cell_type": "markdown",
   "metadata": {},
   "source": [
    "**`__dict__` 속성**"
   ]
  },
  {
   "cell_type": "markdown",
   "metadata": {},
   "source": [
    "객체 `x`가 갖는 인스턴스 속성을 확인하면 다음과 같이 \n",
    "속성 변수와 해당 속성값으로 이루어진 사전을 얻는다."
   ]
  },
  {
   "cell_type": "code",
   "execution_count": 29,
   "metadata": {},
   "outputs": [
    {
     "data": {
      "text/plain": [
       "{'_MSDie__hidden1': 3, '_hidden2': 7, 'num_sides': 6, 'current_value': 2}"
      ]
     },
     "execution_count": 29,
     "metadata": {},
     "output_type": "execute_result"
    }
   ],
   "source": [
    "x.__dict__"
   ]
  },
  {
   "cell_type": "markdown",
   "metadata": {},
   "source": [
    "그런데 `__hidden1` 변수 대신에 `_MSDie__hidden1`과 속성값이 확인된다.\n",
    "이처럼 두 개의 밑줄로 시작하는 변수의 이름이 내부적으로 클래스 이름이 붙는 방식으로 변경된다.\n",
    "이를 **이름 뒤섞기**(name mangling)라 한다. \n",
    "변경된 이름을 이용하면 속성이 확인된다."
   ]
  },
  {
   "cell_type": "code",
   "execution_count": 30,
   "metadata": {},
   "outputs": [
    {
     "data": {
      "text/plain": [
       "3"
      ]
     },
     "execution_count": 30,
     "metadata": {},
     "output_type": "execute_result"
    }
   ],
   "source": [
    "x._MSDie__hidden1"
   ]
  },
  {
   "cell_type": "markdown",
   "metadata": {},
   "source": [
    "**`__dir__()` 매직 메서드**"
   ]
  },
  {
   "cell_type": "markdown",
   "metadata": {},
   "source": [
    "객체가 사용할 수 있는 모든 속성과 메서드를 리스트로 보려면\n",
    "`__dir__()` 매직 메서드를 사용한다."
   ]
  },
  {
   "cell_type": "code",
   "execution_count": 31,
   "metadata": {},
   "outputs": [
    {
     "data": {
      "text/plain": [
       "['_MSDie__hidden1',\n",
       " '_hidden2',\n",
       " 'num_sides',\n",
       " 'current_value',\n",
       " '__module__',\n",
       " '__doc__',\n",
       " '__init__',\n",
       " '_MSDie__randNum',\n",
       " 'roll',\n",
       " '__dict__',\n",
       " '__weakref__',\n",
       " '__new__',\n",
       " '__repr__',\n",
       " '__hash__',\n",
       " '__str__',\n",
       " '__getattribute__',\n",
       " '__setattr__',\n",
       " '__delattr__',\n",
       " '__lt__',\n",
       " '__le__',\n",
       " '__eq__',\n",
       " '__ne__',\n",
       " '__gt__',\n",
       " '__ge__',\n",
       " '__reduce_ex__',\n",
       " '__reduce__',\n",
       " '__getstate__',\n",
       " '__subclasshook__',\n",
       " '__init_subclass__',\n",
       " '__format__',\n",
       " '__sizeof__',\n",
       " '__dir__',\n",
       " '__class__']"
      ]
     },
     "execution_count": 31,
     "metadata": {},
     "output_type": "execute_result"
    }
   ],
   "source": [
    "x.__dir__()"
   ]
  },
  {
   "cell_type": "markdown",
   "metadata": {},
   "source": [
    "`dir()` 함수는 `__dir__()` 메서드를 활용한다."
   ]
  },
  {
   "cell_type": "code",
   "execution_count": 32,
   "metadata": {},
   "outputs": [
    {
     "data": {
      "text/plain": [
       "['_MSDie__hidden1',\n",
       " '_MSDie__randNum',\n",
       " '__class__',\n",
       " '__delattr__',\n",
       " '__dict__',\n",
       " '__dir__',\n",
       " '__doc__',\n",
       " '__eq__',\n",
       " '__format__',\n",
       " '__ge__',\n",
       " '__getattribute__',\n",
       " '__getstate__',\n",
       " '__gt__',\n",
       " '__hash__',\n",
       " '__init__',\n",
       " '__init_subclass__',\n",
       " '__le__',\n",
       " '__lt__',\n",
       " '__module__',\n",
       " '__ne__',\n",
       " '__new__',\n",
       " '__reduce__',\n",
       " '__reduce_ex__',\n",
       " '__repr__',\n",
       " '__setattr__',\n",
       " '__sizeof__',\n",
       " '__str__',\n",
       " '__subclasshook__',\n",
       " '__weakref__',\n",
       " '_hidden2',\n",
       " 'current_value',\n",
       " 'num_sides',\n",
       " 'roll']"
      ]
     },
     "execution_count": 32,
     "metadata": {},
     "output_type": "execute_result"
    }
   ],
   "source": [
    "dir(x)"
   ]
  },
  {
   "cell_type": "markdown",
   "metadata": {},
   "source": [
    "위 리스트에서 확인할 수 있듯이 `_MSDie__randNum`가 목록에 포함되어 있으며 호출이 가능하다."
   ]
  },
  {
   "cell_type": "code",
   "execution_count": 33,
   "metadata": {},
   "outputs": [
    {
     "data": {
      "text/plain": [
       "2"
      ]
     },
     "execution_count": 33,
     "metadata": {},
     "output_type": "execute_result"
    }
   ],
   "source": [
    "x._MSDie__randNum()"
   ]
  },
  {
   "cell_type": "markdown",
   "metadata": {},
   "source": [
    "결론적으로 이름 뒤섞기는 일부 속성과 메서드의 이름이 외부로 쉽게 노출되지 않도록 하는 기법이다.\n",
    "단, 완전히 차단하는 것은 아니다."
   ]
  },
  {
   "cell_type": "markdown",
   "metadata": {},
   "source": [
    "## 게터와 세터"
   ]
  },
  {
   "cell_type": "markdown",
   "metadata": {},
   "source": [
    "하나의 밑줄을 사용하는 `_hidden2`는 숨길 것 까지는 아니지만 클래스 내부용이란 사실을 반영한 이름이다. \n",
    "그리고 이런 변수와 메서드는 사용자가 직접 값을 수정하기 보다는 \n",
    "**세터**(setter)와 **게터**(getter) 메서드를 이용하여\n",
    "클래스의 외부와 내부 사이를 중개하도록 하는 것이 좋다. \n",
    "이렇게 하면 사용자 입장에서는 클래스 내부에 대한 최소한의 정보만 이용하여 \n",
    "객체 속성 정보를 확인하고 이용할 수 있다.\n",
    "\n",
    "아래 코드는 `current_value`를 지정하고 확인하는 세터와 게터,\n",
    "그리고 `_hidden2`를 지정하는 세터를 선언한다."
   ]
  },
  {
   "cell_type": "code",
   "execution_count": 34,
   "metadata": {},
   "outputs": [],
   "source": [
    "import random\n",
    "\n",
    "class MSDie:\n",
    "    \"\"\"\n",
    "    다면체 주사위\n",
    "    \n",
    "    인스턴스 변수: \n",
    "        num_sides: 면 개수\n",
    "        current_value: 주사위를 굴린 결과\n",
    "    \"\"\"\n",
    "\n",
    "    def __init__(self, num_sides):\n",
    "        self.__hidden1 = 3                  # 이름 뒤섞기\n",
    "        self._hidden2 = 7\n",
    "        self.num_sides = num_sides\n",
    "        self.current_value = self.roll()    # 주사위 굴리기 먼저 실행\n",
    "\n",
    "    def __randNum(self):\n",
    "        return random.randrange(1, self.num_sides+1)\n",
    "\n",
    "    def roll(self):   # 주사위 굴리기\n",
    "        randNum = self.__randNum()\n",
    "        self.current_value = (self.__hidden1 * randNum) % self._hidden2 \n",
    "        return self.current_value\n",
    "\n",
    "    def get_hidden2(self):\n",
    "        return self._hidden2\n",
    "        \n",
    "    def set_hidden2(self, num):\n",
    "        self._hidden2 = num"
   ]
  },
  {
   "cell_type": "markdown",
   "metadata": {},
   "source": [
    "6면체 주사위 객체를 하나 생성한다."
   ]
  },
  {
   "cell_type": "code",
   "execution_count": 35,
   "metadata": {},
   "outputs": [],
   "source": [
    "x = MSDie(6)"
   ]
  },
  {
   "cell_type": "markdown",
   "metadata": {},
   "source": [
    "현재의 `_hidden2` 가리키는 값은 다음과 같다."
   ]
  },
  {
   "cell_type": "code",
   "execution_count": 36,
   "metadata": {},
   "outputs": [
    {
     "data": {
      "text/plain": [
       "7"
      ]
     },
     "execution_count": 36,
     "metadata": {},
     "output_type": "execute_result"
    }
   ],
   "source": [
    "x._hidden2"
   ]
  },
  {
   "cell_type": "markdown",
   "metadata": {},
   "source": [
    "`_hidden2`가 가리키는 값을 임의의 값으로 변경하려면\n",
    "`set_hidden2()` 메서드를 이용한다."
   ]
  },
  {
   "cell_type": "code",
   "execution_count": 37,
   "metadata": {},
   "outputs": [
    {
     "data": {
      "text/plain": [
       "5"
      ]
     },
     "execution_count": 37,
     "metadata": {},
     "output_type": "execute_result"
    }
   ],
   "source": [
    "x.set_hidden2(5)\n",
    "x.get_hidden2()"
   ]
  },
  {
   "cell_type": "code",
   "execution_count": 38,
   "metadata": {},
   "outputs": [
    {
     "data": {
      "text/plain": [
       "8"
      ]
     },
     "execution_count": 38,
     "metadata": {},
     "output_type": "execute_result"
    }
   ],
   "source": [
    "x.set_hidden2(8)\n",
    "x.get_hidden2()"
   ]
  },
  {
   "cell_type": "markdown",
   "metadata": {},
   "source": [
    "**`@property` 데코레이터**"
   ]
  },
  {
   "cell_type": "markdown",
   "metadata": {},
   "source": [
    "`@property` 데코레이터를 이용하면 `get_hidden2()`와 `set_hidden2()`처럼 게터와 세터 함수를 모두 정의하는 대신에\n",
    "`hidden2()`와 같은 하나의 이름으로 게터와 세터를 정의할 수 있다.\n",
    "또한 선언된 함수를 마치 하나의 인스턴스 변수처럼 활용하는 것이 가능하다.\n",
    "\n",
    "- `@property` 데코레이터: 게터로 선언하는 함수 앞에 지정.\n",
    "- `@게터함수이름.setter` 데코레이터: 세터로 선언하는 함수 앞에 지정"
   ]
  },
  {
   "cell_type": "code",
   "execution_count": 39,
   "metadata": {},
   "outputs": [],
   "source": [
    "import random\n",
    "\n",
    "class MSDie:\n",
    "    \"\"\"\n",
    "    다면체 주사위\n",
    "    \n",
    "    인스턴스 변수: \n",
    "        num_sides: 면 개수\n",
    "        current_value: 주사위를 굴린 결과\n",
    "    \"\"\"\n",
    "\n",
    "    def __init__(self, num_sides):\n",
    "        self.__hidden1 = 3                  # 이름 뒤섞기\n",
    "        self._hidden2 = 7\n",
    "        self.num_sides = num_sides\n",
    "        self.current_value = self.roll()    # 주사위 굴리기 먼저 실행\n",
    "\n",
    "    def __randNum(self):\n",
    "        return random.randrange(1, self.num_sides+1)\n",
    "\n",
    "    def roll(self):   # 주사위 굴리기\n",
    "        randNum = self.__randNum()\n",
    "        self.current_value = (self.__hidden1 * randNum) % self._hidden2 \n",
    "        return self.current_value\n",
    "    \n",
    "    @property\n",
    "    def hidden2(self):\n",
    "        return self._hidden2\n",
    "        \n",
    "    @hidden2.setter\n",
    "    def hidden2(self, num):\n",
    "        self._hidden2 = num"
   ]
  },
  {
   "cell_type": "markdown",
   "metadata": {},
   "source": [
    "6면체 주사위 객체를 하나 생성한다."
   ]
  },
  {
   "cell_type": "code",
   "execution_count": 40,
   "metadata": {},
   "outputs": [],
   "source": [
    "x = MSDie(6)"
   ]
  },
  {
   "cell_type": "markdown",
   "metadata": {},
   "source": [
    "`_hidden2`가 원래 가리키는 값은 다음과 같다."
   ]
  },
  {
   "cell_type": "code",
   "execution_count": 41,
   "metadata": {},
   "outputs": [
    {
     "data": {
      "text/plain": [
       "7"
      ]
     },
     "execution_count": 41,
     "metadata": {},
     "output_type": "execute_result"
    }
   ],
   "source": [
    "x._hidden2"
   ]
  },
  {
   "cell_type": "markdown",
   "metadata": {},
   "source": [
    "그런데 이제는 마치 공개된 하나의 인스턴스 변수처럼 확인할 수도 있다."
   ]
  },
  {
   "cell_type": "code",
   "execution_count": 42,
   "metadata": {},
   "outputs": [
    {
     "data": {
      "text/plain": [
       "7"
      ]
     },
     "execution_count": 42,
     "metadata": {},
     "output_type": "execute_result"
    }
   ],
   "source": [
    "x.hidden2"
   ]
  },
  {
   "cell_type": "markdown",
   "metadata": {},
   "source": [
    "인스턴스 변수 할당을 이용하여 `_hidden2` 변수의 값을 수정할 수도 있다."
   ]
  },
  {
   "cell_type": "code",
   "execution_count": 43,
   "metadata": {},
   "outputs": [],
   "source": [
    "x.hidden2 = 11"
   ]
  },
  {
   "cell_type": "markdown",
   "metadata": {},
   "source": [
    "`_hidden2`가 변경되어 있음을 확인할 수 있다."
   ]
  },
  {
   "cell_type": "code",
   "execution_count": 44,
   "metadata": {},
   "outputs": [
    {
     "data": {
      "text/plain": [
       "11"
      ]
     },
     "execution_count": 44,
     "metadata": {},
     "output_type": "execute_result"
    }
   ],
   "source": [
    "x._hidden2"
   ]
  },
  {
   "cell_type": "markdown",
   "metadata": {},
   "source": [
    ":::{admonition} 데코레이터\n",
    ":class: info\n",
    "\n",
    "파이썬은 데코레이터<font size='2'>decorator</font>라는 기능을 제공하며, **장식자**라고도 불린다.\n",
    "기존에 정의된 함수를 수정하지 않은 채 기능을 추가할 때 사용되며\n",
    "다양한 종류의 기본으로 제공된다.\n",
    "또한 사용자가 직접 데코레이터를 정의해서 활용할 수도 있다.\n",
    "데코레이터에 대한 보다 자세한 내용은 [데코레이터 사용하기](https://dojang.io/mod/page/view.php?id=2427)에서\n",
    "찾아볼 수 있다.\n",
    ":::"
   ]
  },
  {
   "cell_type": "markdown",
   "metadata": {},
   "source": [
    "## 컨테이너 클래스"
   ]
  },
  {
   "cell_type": "markdown",
   "metadata": {},
   "source": [
    "모음 자료형을 추상 자료형 클래스를 이용하여 정의하려면\n",
    "경우에 따라 아래 사항들도 고려해야 한다.\n",
    "\n",
    "- `len()` 함수 지원\n",
    "- `for` 반복문 지원\n",
    "- 대괄호 (`[]`) 인덱싱 지원"
   ]
  },
  {
   "cell_type": "markdown",
   "metadata": {},
   "source": [
    "모음 자료형 객체가 속하는 클래스를 일명 **컨테이너 클래스**라 하며,\n",
    "앞으로 스택, 큐, 그래프, 트리 등을 다룰 때 중요한 역할을 수행한다.\n",
    "여기서는 `Vector` 클래스를 이용하여 앞서 언급한 요소들을 구현하는 과정을 살펴본다."
   ]
  },
  {
   "cell_type": "markdown",
   "metadata": {},
   "source": [
    "### 벡터 자료형 정의"
   ]
  },
  {
   "cell_type": "markdown",
   "metadata": {},
   "source": [
    "아래 코드는 `Vector` 클래스를 직접 구현한다.\n",
    "{ref}`ch:inheritance`에서 정의한 `Vector` 클래스와는 다르게 \n",
    "`list` 클래스를 상속하지 않고, 다만 저장 장치로 이용만 한다."
   ]
  },
  {
   "cell_type": "code",
   "execution_count": 45,
   "metadata": {},
   "outputs": [],
   "source": [
    "class Vector:\n",
    "    def __init__(self, items):\n",
    "        \"\"\"\n",
    "        items: 벡터 항목으로 사용될 값들. \n",
    "               정수 또는 부동소수점들의 리스트, 튜플 등 모음 자료형 사용.\n",
    "        저장: 리스트 활용\n",
    "        \"\"\" \n",
    "        self.items = list(items)\n",
    "        \n",
    "    def __repr__(self):\n",
    "        return f\"myArray({self.items})\"\n",
    "    \n",
    "    def __add__(self, other):\n",
    "        \"\"\"항목별 덧셈 연산\"\"\"\n",
    "\n",
    "        # 벡터 길이가 동일하지 않으면 오류 발생시킴\n",
    "        # raise와 RuntimeError 활용\n",
    "        if len(self.items) != len(other.items):\n",
    "            raise RuntimeError(\"길이가 달라요!\")\n",
    "\n",
    "        # 항목별 덧셈 실행\n",
    "        main_object = self.items.copy()\n",
    "        for i in range(len(main_object)):\n",
    "            main_object[i] += other.items[i]\n",
    "\n",
    "        return Vector(main_object)\n",
    "    \n",
    "oneD1 = Vector([2, 3, 4])\n",
    "oneD2 = Vector([11, 22, 33])"
   ]
  },
  {
   "cell_type": "markdown",
   "metadata": {},
   "source": [
    "덧셈 연산이 항목별로 이루어진다. "
   ]
  },
  {
   "cell_type": "code",
   "execution_count": 46,
   "metadata": {},
   "outputs": [
    {
     "data": {
      "text/plain": [
       "myArray([13, 25, 37])"
      ]
     },
     "execution_count": 46,
     "metadata": {},
     "output_type": "execute_result"
    }
   ],
   "source": [
    "oneD1 + oneD2"
   ]
  },
  {
   "cell_type": "markdown",
   "metadata": {},
   "source": [
    "**`len()` 함수 지원**"
   ]
  },
  {
   "cell_type": "markdown",
   "metadata": {},
   "source": [
    "그런데 포함된 항목의 개수를 쉽게 확인할 수 없다."
   ]
  },
  {
   "cell_type": "markdown",
   "metadata": {},
   "source": [
    "```python\n",
    ">>> len(oneD1)\n",
    "TypeError                                 Traceback (most recent call last)\n",
    "Input In [33], in <module>\n",
    "----> 1 len(oneD1)\n",
    "\n",
    "TypeError: object of type 'Vector' has no len()\n",
    "```"
   ]
  },
  {
   "cell_type": "markdown",
   "metadata": {},
   "source": [
    "`len()` 함수가 사용되려면 `__len()__` 메서드가 적절하게 선언되어야 한다."
   ]
  },
  {
   "cell_type": "code",
   "execution_count": 47,
   "metadata": {},
   "outputs": [],
   "source": [
    "class Vector:\n",
    "    def __init__(self, items):\n",
    "        \"\"\"\n",
    "        items: 벡터 항목으로 사용될 값들. 리스트, 튜플 등 모음 자료형 사용.\n",
    "        저장: 리스트 활용\n",
    "        \"\"\" \n",
    "        self.items = list(items)\n",
    "        \n",
    "    def __repr__(self):\n",
    "        return f\"myArray({self.items})\"\n",
    "    \n",
    "    def __add__(self, other):\n",
    "        \"\"\"항목별 덧셈 연산\"\"\"\n",
    "\n",
    "        # 벡터 길이가 동일하지 않으면 오류 발생시킴\n",
    "        # raise와 RuntimeError 활용\n",
    "        if len(self.items) != len(other.items):\n",
    "            raise RuntimeError(\"길이가 달라요!\")\n",
    "\n",
    "        # 항목별 덧셈 실행\n",
    "        main_object = self.items.copy()\n",
    "        for i in range(len(main_object)):\n",
    "            main_object[i] += other.items[i]\n",
    "\n",
    "        return Vector(main_object)\n",
    "\n",
    "    def __len__(self):\n",
    "        return len(self.items) # self.items가 리스트이기 때문에 작동함\n",
    "    \n",
    "oneD1 = Vector([2, 3, 4])\n",
    "oneD2 = Vector([11, 22, 33])"
   ]
  },
  {
   "cell_type": "code",
   "execution_count": 48,
   "metadata": {},
   "outputs": [
    {
     "data": {
      "text/plain": [
       "3"
      ]
     },
     "execution_count": 48,
     "metadata": {},
     "output_type": "execute_result"
    }
   ],
   "source": [
    "len(oneD1)"
   ]
  },
  {
   "cell_type": "markdown",
   "metadata": {},
   "source": [
    "**평균값과 표준편차**"
   ]
  },
  {
   "cell_type": "markdown",
   "metadata": {},
   "source": [
    "`len()` 함수를 이용하여 넘파이 어레이 객체가 제공하는 다양한 메서드를 구현할 수 있다.\n",
    "예를 들어 아래 코드는 항목들의 평균값과 표준편차를 계산하는 메서드를 제공한다."
   ]
  },
  {
   "cell_type": "code",
   "execution_count": 49,
   "metadata": {},
   "outputs": [],
   "source": [
    "class Vector:\n",
    "    def __init__(self, items):\n",
    "        \"\"\"\n",
    "        items: 벡터 항목으로 사용될 값들. \n",
    "               정수 또는 부동소수점들의 리스트, 튜플 등 모음 자료형 사용.\n",
    "        저장: 리스트 활용\n",
    "        \"\"\" \n",
    "        self.items = list(items)\n",
    "        \n",
    "    def __repr__(self):\n",
    "        return f\"myArray({self.items})\"\n",
    "    \n",
    "    def __add__(self, other):\n",
    "        \"\"\"항목별 덧셈 연산\"\"\"\n",
    "\n",
    "        # 벡터 길이가 동일하지 않으면 오류 발생시킴\n",
    "        # raise와 RuntimeError 활용\n",
    "        if len(self.items) != len(other.items):\n",
    "            raise RuntimeError(\"길이가 달라요!\")\n",
    "\n",
    "        # 항목별 덧셈 실행\n",
    "        main_object = self.items.copy()\n",
    "        for i in range(len(main_object)):\n",
    "            main_object[i] += other.items[i]\n",
    "\n",
    "        return Vector(main_object)\n",
    "\n",
    "    def __len__(self):\n",
    "        return len(self.items) # self.items가 리스트이기 때문에 작동함\n",
    "\n",
    "    def mean(self):\n",
    "        \"\"\"항목들의 평균\"\"\"\n",
    "        sum = 0\n",
    "        for item in self.items:\n",
    "            sum += item\n",
    "            \n",
    "        return sum/len(self)\n",
    "    \n",
    "    def std(self):\n",
    "        \"\"\"항목들의 표준편차\"\"\"\n",
    "        sum = 0\n",
    "        for item in self.items:\n",
    "            sum += (item - self.mean())**2\n",
    "\n",
    "        return (sum/len(self))**(1/2)\n",
    "    \n",
    "oneD1 = Vector([2, 3, 4])\n",
    "oneD2 = Vector([11, 22, 33])"
   ]
  },
  {
   "cell_type": "markdown",
   "metadata": {},
   "source": [
    "이제 평균값과 표준편차를 계산할 수 있다."
   ]
  },
  {
   "cell_type": "markdown",
   "metadata": {},
   "source": [
    "- 평균값"
   ]
  },
  {
   "cell_type": "code",
   "execution_count": 50,
   "metadata": {},
   "outputs": [
    {
     "data": {
      "text/plain": [
       "3.0"
      ]
     },
     "execution_count": 50,
     "metadata": {},
     "output_type": "execute_result"
    }
   ],
   "source": [
    "oneD1.mean()"
   ]
  },
  {
   "cell_type": "code",
   "execution_count": 51,
   "metadata": {},
   "outputs": [
    {
     "data": {
      "text/plain": [
       "22.0"
      ]
     },
     "execution_count": 51,
     "metadata": {},
     "output_type": "execute_result"
    }
   ],
   "source": [
    "oneD2.mean()"
   ]
  },
  {
   "cell_type": "markdown",
   "metadata": {},
   "source": [
    "- 표준편차"
   ]
  },
  {
   "cell_type": "code",
   "execution_count": 52,
   "metadata": {},
   "outputs": [
    {
     "data": {
      "text/plain": [
       "0.816496580927726"
      ]
     },
     "execution_count": 52,
     "metadata": {},
     "output_type": "execute_result"
    }
   ],
   "source": [
    "oneD1.std()"
   ]
  },
  {
   "cell_type": "code",
   "execution_count": 53,
   "metadata": {},
   "outputs": [
    {
     "data": {
      "text/plain": [
       "8.981462390204987"
      ]
     },
     "execution_count": 53,
     "metadata": {},
     "output_type": "execute_result"
    }
   ],
   "source": [
    "oneD2.std()"
   ]
  },
  {
   "cell_type": "markdown",
   "metadata": {},
   "source": [
    "### `for` 반복문 지원"
   ]
  },
  {
   "cell_type": "markdown",
   "metadata": {},
   "source": [
    "아직은 포함된 항목들을 대상으로 반복문을 실행할 수 없다."
   ]
  },
  {
   "cell_type": "markdown",
   "metadata": {},
   "source": [
    "```python\n",
    ">>> for x in oneD1:\n",
    "...     print(x)\n",
    "TypeError                                 Traceback (most recent call last)\n",
    "Input In [39], in <module>\n",
    "----> 1 for x in oneD1:\n",
    "      2     print(x)\n",
    "\n",
    "TypeError: 'Vector' object is not iterable\n",
    "```"
   ]
  },
  {
   "cell_type": "markdown",
   "metadata": {},
   "source": [
    "아래에서 처럼 `__iter__()`와 `__next__()` 메서드가 적절하게 선언되어야 한다.\n",
    "\n",
    "- `__iter__()` 메서드: 반복적으로 항목을 생성할 수 있는 객체인 **이터레이터**(iterator) 생성\n",
    "- `__next__()` 메서드: **이터레이터에 기본으로 포함되는 메서드**이며 지정된 순서에 따라 항목을 반환함.\n",
    "    함수 본체에서 사용되는 `count`, `max_repeats` 인스턴스 변수는 생성자에서 선언되도록 함."
   ]
  },
  {
   "cell_type": "code",
   "execution_count": 54,
   "metadata": {},
   "outputs": [],
   "source": [
    "class Vector:\n",
    "    def __init__(self, items):\n",
    "        \"\"\"\n",
    "        items: 벡터 항목으로 사용될 값들. 리스트, 튜플 등 모음 자료형 사용.\n",
    "        저장: 리스트 활용\n",
    "        \"\"\" \n",
    "        self.items = list(items)\n",
    "        self.count = 0                  # 항목 카운트\n",
    "        self.max_repeats = len(items)   # 항목 카운트 최댓값\n",
    "        \n",
    "    def __repr__(self):\n",
    "        return f\"myArray({self.items})\"\n",
    "    \n",
    "    def __add__(self, other):\n",
    "        \"\"\"항목별 덧셈 연산\"\"\"\n",
    "\n",
    "        # 벡터 길이가 동일하지 않으면 오류 발생시킴\n",
    "        # raise와 RuntimeError 활용\n",
    "        if len(self.items) != len(other.items):\n",
    "            raise RuntimeError(\"길이가 달라요!\")\n",
    "\n",
    "        # 항목별 덧셈 실행\n",
    "        main_object = self.items.copy()\n",
    "        for i in range(len(main_object)):\n",
    "            main_object[i] += other.items[i]\n",
    "\n",
    "        return Vector(main_object)\n",
    "    \n",
    "    def __len__(self):\n",
    "        return len(self.items)\n",
    "\n",
    "    def mean(self):\n",
    "        \"\"\"항목들의 평균\"\"\"\n",
    "        sum = 0\n",
    "        for item in self.items:\n",
    "            sum += item\n",
    "            \n",
    "        return sum/len(self)\n",
    "    \n",
    "    def std(self):\n",
    "        \"\"\"항목들의 표준편차\"\"\"\n",
    "        sum = 0\n",
    "        for item in self.items:\n",
    "            sum += (item - self.mean())**2\n",
    "\n",
    "        return (sum/len(self))**(1/2)\n",
    "\n",
    "    def __iter__(self):\n",
    "        return self\n",
    "    \n",
    "    def __next__(self):\n",
    "        if self.count >= self.max_repeats:    # 항목 개수만큼만 반복 허용\n",
    "            raise StopIteration(\"더 이상 항목이 없어요!\")\n",
    "            \n",
    "        next_item = self.items[self.count]\n",
    "        self.count += 1                       # 항목 반환할 때마다 카운트 키우기\n",
    "        return next_item\n",
    "    \n",
    "oneD1 = Vector([2, 3, 4])\n",
    "oneD2 = Vector([11, 22, 33])        "
   ]
  },
  {
   "cell_type": "markdown",
   "metadata": {},
   "source": [
    "이제 `for` 반복문이 지원된다."
   ]
  },
  {
   "cell_type": "code",
   "execution_count": 55,
   "metadata": {},
   "outputs": [],
   "source": [
    "oneD3 = oneD1 + oneD2"
   ]
  },
  {
   "cell_type": "code",
   "execution_count": 56,
   "metadata": {},
   "outputs": [
    {
     "name": "stdout",
     "output_type": "stream",
     "text": [
      "13\n",
      "25\n",
      "37\n"
     ]
    }
   ],
   "source": [
    "for x in oneD3:\n",
    "    print(x)"
   ]
  },
  {
   "cell_type": "markdown",
   "metadata": {},
   "source": [
    "그런데 `for` 반복문을 한 번만 사용할 수 있다."
   ]
  },
  {
   "cell_type": "code",
   "execution_count": 57,
   "metadata": {},
   "outputs": [],
   "source": [
    "for x in oneD3:\n",
    "    print(x)"
   ]
  },
  {
   "cell_type": "markdown",
   "metadata": {},
   "source": [
    "이유는 `count=3` 이 되어 `__next_()` 메서드가 `StopIteration` 오류를 발생시키가 때문이다."
   ]
  },
  {
   "cell_type": "markdown",
   "metadata": {},
   "source": [
    "```python\n",
    ">>> oneD3.count\n",
    "3\n",
    ">>> oneD3.__next__()\n",
    "StopIteration                             Traceback (most recent call last)\n",
    "Input In [45], in <module>\n",
    "----> 1 oneD3.__next__()\n",
    "\n",
    "Input In [40], in Vector.__next__(self)\n",
    "     43 def __next__(self):\n",
    "     44     if self.count >= self.max_repeats:    # 항목 개수만큼만 반복 허용\n",
    "---> 45         raise StopIteration(\"더 이상 항목이 없어요!\")\n",
    "     47     next_item = self.items[self.count]\n",
    "     48     self.count += 1                       # 항목 반환할 때마다 카운트 키우기\n",
    "\n",
    "StopIteration: 더 이상 항목이 없어요!\n",
    "```"
   ]
  },
  {
   "cell_type": "markdown",
   "metadata": {},
   "source": [
    "`for` 문을 다시 사용하려면 객체를 새로 생성해야 한다."
   ]
  },
  {
   "cell_type": "code",
   "execution_count": 58,
   "metadata": {},
   "outputs": [
    {
     "name": "stdout",
     "output_type": "stream",
     "text": [
      "13\n",
      "25\n",
      "37\n"
     ]
    }
   ],
   "source": [
    "oneD3 = oneD1 + oneD2\n",
    "\n",
    "for x in oneD3:\n",
    "    print(x)"
   ]
  },
  {
   "cell_type": "markdown",
   "metadata": {},
   "source": [
    "### 인덱싱 지원"
   ]
  },
  {
   "cell_type": "markdown",
   "metadata": {},
   "source": [
    "항목들의 순서를 고려해서 항목을 확인하고자 하면 오류가 발생한다. "
   ]
  },
  {
   "cell_type": "markdown",
   "metadata": {},
   "source": [
    "```python\n",
    ">>> oneD2[0]\n",
    "TypeError                                 Traceback (most recent call last)\n",
    "Input In [46], in <module>\n",
    "----> 1 oneD2[0]\n",
    "\n",
    "TypeError: 'Vector' object is not subscriptable\n",
    "```"
   ]
  },
  {
   "cell_type": "markdown",
   "metadata": {},
   "source": [
    "물론 수정도 불가능하다."
   ]
  },
  {
   "cell_type": "markdown",
   "metadata": {},
   "source": [
    "```python\n",
    ">>> oneD2[0] = 100\n",
    "TypeError                                 Traceback (most recent call last)\n",
    "Input In [47], in <module>\n",
    "----> 1 oneD2[0] = 100\n",
    "\n",
    "TypeError: 'Vector' object does not support item assignment\n",
    "```"
   ]
  },
  {
   "cell_type": "markdown",
   "metadata": {},
   "source": [
    "아래 두 메서드를 구현해야 한다.\n",
    "\n",
    "- `__getitem__()` 메서드: 대괄호 인덱싱 지원\n",
    "- `__setitem__()` 메서드: 특정 인덱스 항목 업데이트"
   ]
  },
  {
   "cell_type": "code",
   "execution_count": 59,
   "metadata": {},
   "outputs": [],
   "source": [
    "class Vector:\n",
    "    def __init__(self, items):\n",
    "        \"\"\"\n",
    "        items: 벡터 항목으로 사용될 값들. 리스트, 튜플 등 모음 자료형 사용.\n",
    "        저장: 리스트 활용\n",
    "        \"\"\" \n",
    "        self.items = list(items)\n",
    "        \n",
    "    def __repr__(self):\n",
    "        return f\"myArray({self.items})\"\n",
    "    \n",
    "    def __add__(self, other):\n",
    "        \"\"\"항목별 덧셈 연산\"\"\"\n",
    "\n",
    "        # 벡터 길이가 동일하지 않으면 오류 발생시킴\n",
    "        # raise와 RuntimeError 활용\n",
    "        if len(self.items) != len(other.items):\n",
    "            raise RuntimeError(\"길이가 달라요!\")\n",
    "\n",
    "        # 항목별 덧셈 실행\n",
    "        main_object = self.items.copy()\n",
    "        for i in range(len(main_object)):\n",
    "            main_object[i] += other.items[i]\n",
    "\n",
    "        return Vector(main_object)\n",
    "    \n",
    "    def __len__(self):\n",
    "        return len(self.items)\n",
    "\n",
    "    def mean(self):\n",
    "        \"\"\"항목들의 평균\"\"\"\n",
    "        sum = 0\n",
    "        for item in self.items:\n",
    "            sum += item\n",
    "            \n",
    "        return sum/len(self)\n",
    "    \n",
    "    def std(self):\n",
    "        \"\"\"항목들의 표준편차\"\"\"\n",
    "        sum = 0\n",
    "        for item in self.items:\n",
    "            sum += (item - self.mean())**2\n",
    "\n",
    "        return (sum/len(self))**(1/2)\n",
    "\n",
    "    def __iter__(self):\n",
    "        return self\n",
    "    \n",
    "    def __next__(self):\n",
    "        if self.count >= self.max_repeats:    # 항목 개수만큼만 반복 허용\n",
    "            raise StopIteration(\"더 이상 항목이 없어요!\")\n",
    "            \n",
    "        next_item = self.items[self.count]\n",
    "        self.count += 1                       # 항목 반환할 때마다 카운트 키우기\n",
    "        return next_item\n",
    "\n",
    "    def __getitem__(self, idx):\n",
    "        return self.items[idx]\n",
    "    \n",
    "    def __setitem__(self, idx, item):\n",
    "        self.items[idx] = item\n",
    "        \n",
    "oneD1 = Vector([2, 3, 4])\n",
    "oneD2 = Vector([11, 22, 33])"
   ]
  },
  {
   "cell_type": "markdown",
   "metadata": {},
   "source": [
    "인덱싱이 작동한다."
   ]
  },
  {
   "cell_type": "code",
   "execution_count": 60,
   "metadata": {},
   "outputs": [
    {
     "data": {
      "text/plain": [
       "11"
      ]
     },
     "execution_count": 60,
     "metadata": {},
     "output_type": "execute_result"
    }
   ],
   "source": [
    "oneD2[0]"
   ]
  },
  {
   "cell_type": "markdown",
   "metadata": {},
   "source": [
    "항목 업데이트도 된다."
   ]
  },
  {
   "cell_type": "code",
   "execution_count": 61,
   "metadata": {},
   "outputs": [],
   "source": [
    "oneD2[0] = 100"
   ]
  },
  {
   "cell_type": "code",
   "execution_count": 62,
   "metadata": {},
   "outputs": [
    {
     "data": {
      "text/plain": [
       "myArray([100, 22, 33])"
      ]
     },
     "execution_count": 62,
     "metadata": {},
     "output_type": "execute_result"
    }
   ],
   "source": [
    "oneD2"
   ]
  },
  {
   "cell_type": "markdown",
   "metadata": {},
   "source": [
    "__슬라이싱__(slicing)도 지원한다."
   ]
  },
  {
   "cell_type": "code",
   "execution_count": 63,
   "metadata": {},
   "outputs": [
    {
     "data": {
      "text/plain": [
       "[22, 33]"
      ]
     },
     "execution_count": 63,
     "metadata": {},
     "output_type": "execute_result"
    }
   ],
   "source": [
    "oneD2[1:3]"
   ]
  },
  {
   "cell_type": "code",
   "execution_count": 64,
   "metadata": {},
   "outputs": [
    {
     "data": {
      "text/plain": [
       "[100, 22, 33]"
      ]
     },
     "execution_count": 64,
     "metadata": {},
     "output_type": "execute_result"
    }
   ],
   "source": [
    "oneD2[0:3]"
   ]
  },
  {
   "cell_type": "code",
   "execution_count": 65,
   "metadata": {},
   "outputs": [
    {
     "data": {
      "text/plain": [
       "[100, 33]"
      ]
     },
     "execution_count": 65,
     "metadata": {},
     "output_type": "execute_result"
    }
   ],
   "source": [
    "oneD2[0:3:2]"
   ]
  },
  {
   "cell_type": "markdown",
   "metadata": {},
   "source": [
    "**`__getitem__()` 메서드와 `for` 반복문**"
   ]
  },
  {
   "cell_type": "markdown",
   "metadata": {},
   "source": [
    "`__getitem_()` 메서드가 지원되면 `__iter__()` 와 `__next__()` 메서드가 없어도\n",
    "`for` 반복문이 작동한다."
   ]
  },
  {
   "cell_type": "code",
   "execution_count": 66,
   "metadata": {},
   "outputs": [],
   "source": [
    "class Vector:\n",
    "    def __init__(self, items):\n",
    "        \"\"\"\n",
    "        items: 벡터 항목으로 사용될 값들. 리스트, 튜플 등 모음 자료형 사용.\n",
    "        저장: 리스트 활용\n",
    "        \"\"\" \n",
    "        self.items = list(items)\n",
    "        \n",
    "    def __repr__(self):\n",
    "        return f\"myArray({self.items})\"\n",
    "    \n",
    "    def __add__(self, other):\n",
    "        \"\"\"항목별 덧셈 연산\"\"\"\n",
    "\n",
    "        # 벡터 길이가 동일하지 않으면 오류 발생시킴\n",
    "        # raise와 RuntimeError 활용\n",
    "        if len(self.items) != len(other.items):\n",
    "            raise RuntimeError(\"길이가 달라요!\")\n",
    "\n",
    "        # 항목별 덧셈 실행\n",
    "        main_object = self.items.copy()\n",
    "        for i in range(len(main_object)):\n",
    "            main_object[i] += other.items[i]\n",
    "\n",
    "        return Vector(main_object)\n",
    "    \n",
    "    def __len__(self):\n",
    "        return len(self.items)\n",
    "\n",
    "    def mean(self):\n",
    "        \"\"\"항목들의 평균\"\"\"\n",
    "        sum = 0\n",
    "        for item in self.items:\n",
    "            sum += item\n",
    "            \n",
    "        return sum/len(self)\n",
    "    \n",
    "#     def __iter__(self):\n",
    "#         return self\n",
    "    \n",
    "#     def __next__(self):\n",
    "#         if self.count >= self.max_repeats:    # 항목 개수만큼만 반복 허용\n",
    "#             raise StopIteration(\"더 이상 항목이 없어요!\")\n",
    "            \n",
    "#         next_item = self.items[self.count]\n",
    "#         self.count += 1                       # 항목 반환할 때마다 카운트 키우기\n",
    "#         return next_item\n",
    "\n",
    "    def __getitem__(self, idx):\n",
    "        return self.items[idx]\n",
    "    \n",
    "    def __setitem__(self, idx, item):\n",
    "        self.items[idx] = item\n",
    "        \n",
    "oneD1 = Vector([2, 3, 4])\n",
    "oneD2 = Vector([11, 22, 33])"
   ]
  },
  {
   "cell_type": "code",
   "execution_count": 67,
   "metadata": {},
   "outputs": [],
   "source": [
    "oneD3 = oneD1 + oneD2"
   ]
  },
  {
   "cell_type": "code",
   "execution_count": 68,
   "metadata": {},
   "outputs": [
    {
     "name": "stdout",
     "output_type": "stream",
     "text": [
      "13\n",
      "25\n",
      "37\n"
     ]
    }
   ],
   "source": [
    "for x in oneD3:\n",
    "    print(x)"
   ]
  },
  {
   "cell_type": "markdown",
   "metadata": {},
   "source": [
    "`__iter__()` 와 `__next__()`를 사용하는 경우와는 다르게\n",
    "객체를 새로 생성할 필요없이 반복문을 계속해서 활용할 수도 있다."
   ]
  },
  {
   "cell_type": "code",
   "execution_count": 69,
   "metadata": {},
   "outputs": [
    {
     "name": "stdout",
     "output_type": "stream",
     "text": [
      "13\n",
      "25\n",
      "37\n"
     ]
    }
   ],
   "source": [
    "for x in oneD3:\n",
    "    print(x)"
   ]
  },
  {
   "cell_type": "markdown",
   "metadata": {},
   "source": [
    "## 연습문제"
   ]
  },
  {
   "cell_type": "markdown",
   "metadata": {},
   "source": [
    "1. [(실습) 파이썬 기초 4부: 클래스 기본 요소](https://colab.research.google.com/github/codingalzi/algopy/blob/master/excs/exc-python_basic_4.ipynb)"
   ]
  }
 ],
 "metadata": {
  "kernelspec": {
   "display_name": "Python 3 (ipykernel)",
   "language": "python",
   "name": "python3"
  },
  "language_info": {
   "codemirror_mode": {
    "name": "ipython",
    "version": 3
   },
   "file_extension": ".py",
   "mimetype": "text/x-python",
   "name": "python",
   "nbconvert_exporter": "python",
   "pygments_lexer": "ipython3",
   "version": "3.11.5"
  },
  "vscode": {
   "interpreter": {
    "hash": "6c86b3592b6800d985c04531f2c445f0fa6967131b8dd6395a925f7622e55602"
   }
  }
 },
 "nbformat": 4,
 "nbformat_minor": 4
}