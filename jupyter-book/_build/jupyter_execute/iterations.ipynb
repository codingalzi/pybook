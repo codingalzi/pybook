{
 "cells": [
  {
   "cell_type": "markdown",
   "metadata": {},
   "source": [
    "# 반복문"
   ]
  },
  {
   "cell_type": "markdown",
   "metadata": {},
   "source": [
    "반복 명령문을 이용하면 지정된 명령문을 반복 실행시킬 수 있다.\n",
    "파이썬 프로그래밍 언어는 세 가지 방식으로 명령문을 반복시킬 수 있다.\n",
    "\n",
    "- `for` 반복문\n",
    "- `while` 반복문\n",
    "- 재귀 함수\n",
    "\n",
    "여기서는 {numref}`%s절 <sec:basic-commands>` 에서\n",
    "소개한 `for` 반복문과 `while` 반복문의 보다 많은 활용 예제와 고급 활용법을 소개한다.\n",
    "재귀 함수는 {numref}`%s장 <ch:recursion>`에서 다룬다."
   ]
  },
  {
   "cell_type": "markdown",
   "metadata": {},
   "source": [
    "**슬라이드**\n",
    "\n",
    "본문 내용을 요약한 [슬라이드](https://github.com/codingalzi/pybook/raw/master/slides/slides-iterations.pdf)를 \n",
    "다운로드할 수 있다."
   ]
  },
  {
   "cell_type": "markdown",
   "metadata": {},
   "source": [
    "## `range()` 함수와 `for` 반복문"
   ]
  },
  {
   "cell_type": "markdown",
   "metadata": {},
   "source": [
    "### 리스트 vs `range()` 함수"
   ]
  },
  {
   "cell_type": "markdown",
   "metadata": {},
   "source": [
    "리스트가 주어졌을 때 `for` 반복문을 이용하면 \n",
    "리스트 각각의 항목에 대해 동일한 코드를\n",
    "실행하도록 할 수 있다.\n",
    "예를 들어, 아래 코드는 2부터 10까지의 짝수들의 합을 계산한다.\n",
    "리스트 각각의 항목에 대해 반복되는 아래 명령문이 반복된다. \n",
    "\n",
    "```python\n",
    "sum = sum + item\n",
    "```\n",
    "\n",
    "즉, `sum` 변수에 리스트 각각의 항목을 더한 값을 재할당하는 과정을 반복한다."
   ]
  },
  {
   "cell_type": "code",
   "execution_count": 1,
   "metadata": {},
   "outputs": [
    {
     "name": "stdout",
     "output_type": "stream",
     "text": [
      "2부터 10까지 짝수들의 합: 30\n"
     ]
    }
   ],
   "source": [
    "two2ten_even = [2, 4, 6, 8, 10]\n",
    "\n",
    "sum = 0\n",
    "for item in two2ten_even:\n",
    "    sum = sum + item\n",
    "    \n",
    "print(\"2부터 10까지 짝수들의 합:\", sum)"
   ]
  },
  {
   "cell_type": "markdown",
   "metadata": {},
   "source": [
    "그런데 2부터 1만까지, 아니 2부터 1억까지의 짝수들의 합을 계산하려면\n",
    "`one2ten_even`과 유사한 변수를 선언하기 위해 항목을 5천 개 또는 5천만 개를 갖는\n",
    "리스트를 먼저 표현해야 한다.\n",
    "하지만 이런 일을 사람이 직접 타이핑하기에는 매우 지난하거나\n",
    "불가능하다.\n",
    "\n",
    "파이썬을 포함한 대부분의 프로그래밍 언어는\n",
    "이런 경우를 간단하게 처리할 수 있는 기능을 제공한다.\n",
    "파이썬의 경우엔 `range()` 함수를 활용한다."
   ]
  },
  {
   "cell_type": "markdown",
   "metadata": {},
   "source": [
    "예를 들어 2부터 10까지의 짝수들의 합을 아래와 같이 계산할 수 있다."
   ]
  },
  {
   "cell_type": "code",
   "execution_count": 2,
   "metadata": {},
   "outputs": [
    {
     "name": "stdout",
     "output_type": "stream",
     "text": [
      "2부터 10까지 짝수들의 합: 30\n"
     ]
    }
   ],
   "source": [
    "sum = 0\n",
    "for item in range(2, 11, 2):\n",
    "    sum = sum + item\n",
    "    \n",
    "print(\"2부터 10까지 짝수들의 합:\", sum)"
   ]
  },
  {
   "cell_type": "markdown",
   "metadata": {},
   "source": [
    "그리고 숫자를 하나 바꾸면 2부터 1억까지의 짝수들의 합을 계산할 수 있다."
   ]
  },
  {
   "cell_type": "code",
   "execution_count": 3,
   "metadata": {},
   "outputs": [
    {
     "name": "stdout",
     "output_type": "stream",
     "text": [
      "2부터 1억까지 짝수들의 합: 2500000050000000\n"
     ]
    }
   ],
   "source": [
    "sum = 0\n",
    "for item in range(2, 100000001, 2):\n",
    "    sum = sum + item\n",
    "    \n",
    "print(\"2부터 1억까지 짝수들의 합:\", sum)"
   ]
  },
  {
   "cell_type": "markdown",
   "metadata": {},
   "source": [
    "`range()` 함수는 특정 구간에서 규칙성 있게 분포하는 정수들의 리스트처럼 작동하는 값을 생성한다. 자세한 활용법은 다음과 같다."
   ]
  },
  {
   "cell_type": "markdown",
   "metadata": {},
   "source": [
    "### `range()` 함수 활용법"
   ]
  },
  {
   "cell_type": "markdown",
   "metadata": {},
   "source": [
    "`range()` 함수는 리스트와 매우 유사한 값을 생성한다.\n",
    "예를 들어, `range(10)`는 0부터 10 이전까지, \n",
    "즉 0부터 9까지의 정수를 포함하는 리스트와 유사한 값을 생성한다."
   ]
  },
  {
   "cell_type": "code",
   "execution_count": 4,
   "metadata": {},
   "outputs": [
    {
     "data": {
      "text/plain": [
       "range(0, 10)"
      ]
     },
     "execution_count": 4,
     "metadata": {},
     "output_type": "execute_result"
    }
   ],
   "source": [
    "range(10)"
   ]
  },
  {
   "cell_type": "markdown",
   "metadata": {},
   "source": [
    ":::{admonition} `range` 함수? 클래스?\n",
    ":class: info\n",
    "\n",
    "`range` 는 실제로는 함수가 아니며 {numref}`%s장 <ch:classes_instances_objects>`에서 소개하는\n",
    "개념인 클래스로 정의되었다.\n",
    "하지만 매우 자연스럽게 함수처럼 활용되기에 함수로 많이 불린다.\n",
    ":::"
   ]
  },
  {
   "cell_type": "markdown",
   "metadata": {},
   "source": [
    "0을 첫째 인자로, 10을 둘째 인자로 사용해도 동일한 모양의 값을 생성한다."
   ]
  },
  {
   "cell_type": "code",
   "execution_count": 5,
   "metadata": {},
   "outputs": [
    {
     "data": {
      "text/plain": [
       "range(0, 10)"
      ]
     },
     "execution_count": 5,
     "metadata": {},
     "output_type": "execute_result"
    }
   ],
   "source": [
    "range(0, 10)"
   ]
  },
  {
   "cell_type": "markdown",
   "metadata": {},
   "source": [
    "`range()` 함수가 생성하는 값의 자료형은 `range` 이다."
   ]
  },
  {
   "cell_type": "code",
   "execution_count": 6,
   "metadata": {},
   "outputs": [
    {
     "data": {
      "text/plain": [
       "range"
      ]
     },
     "execution_count": 6,
     "metadata": {},
     "output_type": "execute_result"
    }
   ],
   "source": [
    "type(range(10))"
   ]
  },
  {
   "cell_type": "markdown",
   "metadata": {},
   "source": [
    "그런데 `range(10)`의 내부를 바로 보여주지는 않는다."
   ]
  },
  {
   "cell_type": "code",
   "execution_count": 7,
   "metadata": {},
   "outputs": [
    {
     "name": "stdout",
     "output_type": "stream",
     "text": [
      "range(0, 10)\n"
     ]
    }
   ],
   "source": [
    "print(range(10))"
   ]
  },
  {
   "cell_type": "markdown",
   "metadata": {},
   "source": [
    "`range` 자료형의 값이 내부를 바로 보여주지 않는 이유는\n",
    "{numref}`%s장 <ch:iterator_generator>`에서 설명하지만 지금은 전혀 중요하지 않다.\n",
    "대신 리스트로의 형변환을 통해 `range` 객체에 포함되는 값을 확인할 수 있다는 사실만 기억해 둔다."
   ]
  },
  {
   "cell_type": "code",
   "execution_count": 8,
   "metadata": {},
   "outputs": [
    {
     "data": {
      "text/plain": [
       "[0, 1, 2, 3, 4, 5, 6, 7, 8, 9]"
      ]
     },
     "execution_count": 8,
     "metadata": {},
     "output_type": "execute_result"
    }
   ],
   "source": [
    "list(range(10))"
   ]
  },
  {
   "cell_type": "markdown",
   "metadata": {},
   "source": [
    "`range()` 함수는 `for` 반복문에서 리스트 대신에 매우 유용하게 활용된다.\n",
    "예를 들어 아래 코드는 `range(10)`이\n",
    "리스트 `[0, 1, 2, 3, 4, 5, 6, 7, 8, 9]` 대신 사용될 수 있음을 보여준다.\n",
    "이유는 `item` 변수에 0부터 9까지의 정수가 차례대로 할당되기 때문이다."
   ]
  },
  {
   "cell_type": "code",
   "execution_count": 9,
   "metadata": {},
   "outputs": [
    {
     "name": "stdout",
     "output_type": "stream",
     "text": [
      "item에 할당된 값: 0\n",
      "item에 할당된 값: 1\n",
      "item에 할당된 값: 2\n",
      "item에 할당된 값: 3\n",
      "item에 할당된 값: 4\n",
      "item에 할당된 값: 5\n",
      "item에 할당된 값: 6\n",
      "item에 할당된 값: 7\n",
      "item에 할당된 값: 8\n",
      "item에 할당된 값: 9\n"
     ]
    }
   ],
   "source": [
    "for item in range(10):\n",
    "    print(\"item에 할당된 값:\", item)"
   ]
  },
  {
   "cell_type": "markdown",
   "metadata": {},
   "source": [
    "### `range()` 함수의 인자"
   ]
  },
  {
   "cell_type": "markdown",
   "metadata": {},
   "source": [
    "`range()` 함수는 최소 하나에서 최대 세 개의 위치 인자를 받으며,\n",
    "인자의 개수에 따라 각 인자의 역할이 정해진다.\n",
    "`range(10)`이 `range(0, 10)`과 동일한 모양의 값을 생성한다고 말했듯이\n",
    "하나의 인자만 사용하면 첫째 인자가 0인 두 개의 인자를 사용하는 경우와 동일하며,\n",
    "0부터 10 이전까지의 정수들로 구성된 리스트와 유사한 값을 표현한다."
   ]
  },
  {
   "cell_type": "markdown",
   "metadata": {},
   "source": [
    "`range()` 함수가 표현하는 구간의 시작을 0이 아닌 다른 정수로 하려면 반드시 두 개의 인자를 사용해야 한다.\n",
    "예를 들어, 아래 코드는 2부터 10까지의 정수로 구성된 리스트에 해당하는 값을 계산한다."
   ]
  },
  {
   "cell_type": "code",
   "execution_count": 10,
   "metadata": {},
   "outputs": [],
   "source": [
    "one2ten_range = range(1, 11)"
   ]
  },
  {
   "cell_type": "markdown",
   "metadata": {},
   "source": [
    "실제로 `list()` 형변환 함수를 이용하면 1부터 10까지의 정수를 포함한 리스트로 계산된다."
   ]
  },
  {
   "cell_type": "code",
   "execution_count": 11,
   "metadata": {},
   "outputs": [
    {
     "data": {
      "text/plain": [
       "[1, 2, 3, 4, 5, 6, 7, 8, 9, 10]"
      ]
     },
     "execution_count": 11,
     "metadata": {},
     "output_type": "execute_result"
    }
   ],
   "source": [
    "list(one2ten_range)"
   ]
  },
  {
   "cell_type": "markdown",
   "metadata": {},
   "source": [
    "위 사실을 이용하면 1부터 10까지의 정수의 합을 계산하는 코드를 \n",
    "아래처럼 `for` 반복문과 `range()` 함수를 이용하여 간단하게 구현할 수 있다."
   ]
  },
  {
   "cell_type": "code",
   "execution_count": 12,
   "metadata": {},
   "outputs": [
    {
     "name": "stdout",
     "output_type": "stream",
     "text": [
      "1부터 10까지 정수의 합: 55\n"
     ]
    }
   ],
   "source": [
    "sum = 0\n",
    "for num in range(1, 11):\n",
    "    sum += num           # 간편 변수 업데이트\n",
    "    \n",
    "print(\"1부터 10까지 정수의 합:\", sum)"
   ]
  },
  {
   "cell_type": "markdown",
   "metadata": {},
   "source": [
    "`range()` 함수에 세 개의 인자를 사용하면\n",
    "첫째, 둘째 인자의 의미는 이전과 동일하다.\n",
    "반면에 셋째 인자는 보폭을 가리킨다.\n",
    "예를 들어 1부터 9까지의 정수 중에서 홀수만을\n",
    "대상으로 하는 `range` 객체를 생성한다.\n",
    "이유는 보폭이 2로 지정되었기에 1부터 시작해서 1씩이 아닌 2씩 증가시켜 생성되는 `range` 객체에 포함시키기 때문이다."
   ]
  },
  {
   "cell_type": "code",
   "execution_count": 13,
   "metadata": {},
   "outputs": [
    {
     "data": {
      "text/plain": [
       "[1, 3, 5, 7, 9]"
      ]
     },
     "execution_count": 13,
     "metadata": {},
     "output_type": "execute_result"
    }
   ],
   "source": [
    "list(range(1, 10, 2))"
   ]
  },
  {
   "cell_type": "markdown",
   "metadata": {},
   "source": [
    "보폭을 인자로 사용하려면 반드시 세 개의 인자를 사용해야 한다.\n",
    "예를 들어 0을 짝수 리스트에 포함시키려면 다음과 같이 한다."
   ]
  },
  {
   "cell_type": "code",
   "execution_count": 14,
   "metadata": {},
   "outputs": [
    {
     "data": {
      "text/plain": [
       "[0, 2, 4, 6, 8, 10]"
      ]
     },
     "execution_count": 14,
     "metadata": {},
     "output_type": "execute_result"
    }
   ],
   "source": [
    "list(range(0, 11, 2))"
   ]
  },
  {
   "cell_type": "markdown",
   "metadata": {},
   "source": [
    "구간의 시작이 끝보다 큰데, 보폭을 지정하지 않거나 양수로 지정하면 \n",
    "아무런 값도 포함되지 않는다."
   ]
  },
  {
   "cell_type": "code",
   "execution_count": 15,
   "metadata": {},
   "outputs": [
    {
     "data": {
      "text/plain": [
       "[]"
      ]
     },
     "execution_count": 15,
     "metadata": {},
     "output_type": "execute_result"
    }
   ],
   "source": [
    "list(range(11, 2))  # list(range(11, 2, 1)) 과 동일"
   ]
  },
  {
   "cell_type": "code",
   "execution_count": 16,
   "metadata": {},
   "outputs": [
    {
     "data": {
      "text/plain": [
       "[]"
      ]
     },
     "execution_count": 16,
     "metadata": {},
     "output_type": "execute_result"
    }
   ],
   "source": [
    "list(range(11, 2, 2))"
   ]
  },
  {
   "cell_type": "markdown",
   "metadata": {},
   "source": [
    "이유는 11에서부터 1씩 또는 2씩 커지면서 2 이전까지의 구간에 속하는 정수는 없기 때문이다.\n",
    "하지만 보폭을 음수로 지정하면 크기 역순으로 구성된 정수들을 항목으로 갖는다.\n",
    "\n",
    "예를 들어 아래 코드는 11에서부터 0 이전까지, 즉 1까지의 정수 중에서 홀수만을 항목으로 갖는\n",
    "리스트를 반환한다.\n",
    "단, 구간의 끝이 둘째 인자의 이전인데 이때 **이전**의 의미는 보폭이 양의 정수인지, 음의 정수인지에 따라 달라짐에 유의한다."
   ]
  },
  {
   "cell_type": "code",
   "execution_count": 17,
   "metadata": {},
   "outputs": [
    {
     "data": {
      "text/plain": [
       "[11, 9, 7, 5, 3, 1]"
      ]
     },
     "execution_count": 17,
     "metadata": {},
     "output_type": "execute_result"
    }
   ],
   "source": [
    "list(range(11, 0, -2))"
   ]
  },
  {
   "cell_type": "markdown",
   "metadata": {},
   "source": [
    "## `while` 반복문 활용"
   ]
  },
  {
   "cell_type": "markdown",
   "metadata": {},
   "source": [
    "아래 \"수 알아맞히기 게임\" 코드를 실행한 다음 1부터 100 사이의 정수 하나를 입력하면\n",
    "입력한 값을 `secret` 변수에 할당된 17과 비교해서 \n",
    "맞다, 크다, 또는 작다에 해당하는 경우에 맞게 지정된 문장을 출력한다."
   ]
  },
  {
   "cell_type": "markdown",
   "metadata": {},
   "source": [
    "예를 들어 33을 입력하면 `\"너무 커요!\"`가 출력된다."
   ]
  },
  {
   "cell_type": "code",
   "execution_count": 18,
   "metadata": {},
   "outputs": [
    {
     "name": "stdout",
     "output_type": "stream",
     "text": [
      "수 알아맞히기 게임에 환영합니다.\n",
      "1부터 100 사이의 정수 하나를 입력하세요: 33\n",
      "너무 커요!\n",
      "게임 종료!\n"
     ]
    }
   ],
   "source": [
    "print(\"수 알아맞히기 게임에 환영합니다.\")\n",
    "\n",
    "secret = 17\n",
    "guess = int(input(\"1부터 100 사이의 정수 하나를 입력하세요: \"))\n",
    "\n",
    "if guess == secret:\n",
    "    print(\"맞았습니다!\")\n",
    "elif guess > secret:\n",
    "    print(\"너무 커요!\")\n",
    "else:\n",
    "    print(\"너무 작아요!\")\n",
    "\n",
    "print(\"게임 종료!\")"
   ]
  },
  {
   "cell_type": "markdown",
   "metadata": {},
   "source": [
    "따라서 33보다 작은 15를 입력하면 이번엔 `\"너무 작아요!\"`가 출력된다."
   ]
  },
  {
   "cell_type": "code",
   "execution_count": 19,
   "metadata": {},
   "outputs": [
    {
     "name": "stdout",
     "output_type": "stream",
     "text": [
      "수 알아맞히기 게임에 환영합니다.\n",
      "1부터 100 사이의 정수 하나를 입력하세요: 15\n",
      "너무 작아요!\n",
      "게임 종료!\n"
     ]
    }
   ],
   "source": [
    "print(\"수 알아맞히기 게임에 환영합니다.\")\n",
    "\n",
    "secret = 17\n",
    "guess = int(input(\"1부터 100 사이의 정수 하나를 입력하세요: \"))\n",
    "\n",
    "if guess == secret:\n",
    "    print(\"맞았습니다!\")\n",
    "elif guess > secret:\n",
    "    print(\"너무 커요!\")\n",
    "else:\n",
    "    print(\"너무 작아요!\")\n",
    "\n",
    "print(\"게임 종료!\")"
   ]
  },
  {
   "cell_type": "markdown",
   "metadata": {},
   "source": [
    "다시 15보다 크고 33보다 작은 17을 입력하면 `\"맞았습니다!\"`가 출력된다."
   ]
  },
  {
   "cell_type": "code",
   "execution_count": 20,
   "metadata": {},
   "outputs": [
    {
     "name": "stdout",
     "output_type": "stream",
     "text": [
      "수 알아맞히기 게임에 환영합니다.\n",
      "1부터 100 사이의 정수 하나를 입력하세요: 17\n",
      "맞았습니다!\n",
      "게임 종료!\n"
     ]
    }
   ],
   "source": [
    "print(\"수 알아맞히기 게임에 환영합니다.\")\n",
    "\n",
    "secret = 17\n",
    "guess = int(input(\"1부터 100 사이의 정수 하나를 입력하세요: \"))\n",
    "\n",
    "if guess == secret:\n",
    "    print(\"맞았습니다!\")\n",
    "elif guess > secret:\n",
    "    print(\"너무 커요!\")\n",
    "else:\n",
    "    print(\"너무 작아요!\")\n",
    "\n",
    "print(\"게임 종료!\")"
   ]
  },
  {
   "cell_type": "markdown",
   "metadata": {},
   "source": [
    "위 코드의 문제는 이렇게 정답을 입력할 때까지 코드를 매번 새로 실행해야 한다는 점이다.\n",
    "따러서 정답을 입력할 때까지 반복해서 답을 입력할 수 있도록 하는 게 좋다.\n",
    "\n",
    "아래 코드는 `guess != secret`이 참인 동안,\n",
    "즉 사용자가 입력한 답이 거짓인 동안 다시 `secret`를 예측하는 값을\n",
    "반복해서 입력하도록 한다.\n",
    "사용자가 입력한 값이 틀리면 출력되는 정보에 따라 보다 큰 값 또는\n",
    "보다 작은 값을 입력해서 예측 범위를 줄여나가게 되어\n",
    "결국에는 정답을 입력할 수 있게 된다.\n",
    "\n",
    "`while guess != secret`이 실행되기 전에\n",
    "`guess = -1`로 변수 할당문을 선언하는 이유는 \n",
    "`while` 반복문이 최소 한 번 실행되도록 만들기 위해서이다."
   ]
  },
  {
   "cell_type": "code",
   "execution_count": 22,
   "metadata": {},
   "outputs": [
    {
     "name": "stdout",
     "output_type": "stream",
     "text": [
      "수 알아맞히기 게임에 환영합니다.\n",
      "1부터 100 사이의 정수 하나를 입력하세요: 50\n",
      "너무 커요!\n",
      "1부터 100 사이의 정수 하나를 입력하세요: 10\n",
      "너무 작아요!\n",
      "1부터 100 사이의 정수 하나를 입력하세요: 17\n",
      "맞았습니다!\n",
      "게임 종료!\n"
     ]
    }
   ],
   "source": [
    "print(\"수 알아맞히기 게임에 환영합니다.\")\n",
    "\n",
    "secret = 17\n",
    "guess = -1   # 이어지는 while 반복문이 최소 한 번은 실행되도록 함\n",
    "\n",
    "while guess != secret:\n",
    "    guess = int(input(\"1부터 100 사이의 정수 하나를 입력하세요: \"))\n",
    "    if guess == secret:\n",
    "        print(\"맞았습니다!\")\n",
    "    elif guess > secret:\n",
    "        print(\"너무 커요!\")\n",
    "    else:\n",
    "        print(\"너무 작아요!\")\n",
    "\n",
    "print(\"게임 종료!\")"
   ]
  },
  {
   "cell_type": "markdown",
   "metadata": {},
   "source": [
    "## `break`와 `continue`"
   ]
  },
  {
   "cell_type": "markdown",
   "metadata": {},
   "source": [
    "`for` 또는 `while` 반복문의 실행 도중에\n",
    "`break` 명령문과 `continue` 명령문이 실행되면\n",
    "반복문의 실행을 중간에 중단시키거나 특정 경우를 건너뛰도록 한다.\n",
    "\n",
    "- `break` 명령문: `for`/`while` 반복문의 실행 중단\n",
    "- `continue` 명령문\n",
    "    - `for` 반복문: 현재 처리중인 경우를 바로 건너 뛰고 다음 경우로 넘어감.\n",
    "    - `while` 반복문: `while` 반복문의 처음으로 바로 돌아감."
   ]
  },
  {
   "cell_type": "markdown",
   "metadata": {},
   "source": [
    "**`break` 명령문**"
   ]
  },
  {
   "cell_type": "markdown",
   "metadata": {},
   "source": [
    "아래 프로그램을 실행하면\n",
    "1부터 9까지의 정수를 대상으로\n",
    "차례대로 3의 배수 여부를 판단한다.\n",
    "`num` 변수에 차례대로 1, 2, 3, ... 를 할당할 때마다 3의 배수 여부를 판단한다.\n",
    "    \n",
    "- 3의 배수가 아닐 때: `num`이 가리키는 값이 3의 배수가 아님을 출력함.\n",
    "- 3의 배수인 경우: 3의 배수를 찾았다고 알린 후 바로 `break` 명령문이 실행되어 반복문이 종료됨.\n",
    "    즉, `\"3의 배수 찾았음\"`을 출력하는 바로 다음 줄에 위치한 `print()` 함수의 호출은 실행되지 않음.\n",
    "\n",
    "즉, `num` 변수가 1 또는 2를 가리킬 때는 3의 배수가 아님을 알리고\n",
    "3을 가리킬 때는 3의 배수임을 알리고 바로 `for` 반복문의 실행을 종료시킨다.\n",
    "원래는 `num` 변수가 4, 5, ... 등을 가리키는 경우도 반복해야 하지만 더이상 그러지 않는다.\n",
    "\n",
    "이후 마지막 줄의 `print()` 함수 호출은 실행되어 프로그램의 종료를 알린다.\n",
    "`break`는 자신을 포함한 반복문의 실행을 멈추게 하지만\n",
    "전체 프로그램은 차례대로 끝까지 실행된다."
   ]
  },
  {
   "cell_type": "code",
   "execution_count": 24,
   "metadata": {},
   "outputs": [
    {
     "name": "stdout",
     "output_type": "stream",
     "text": [
      "1 은(는) 3의 배수 아님!\n",
      "2 은(는) 3의 배수 아님!\n",
      "3 은(는) 3의 배수!\n",
      "프로그램 종료!\n"
     ]
    }
   ],
   "source": [
    "for num in range(1, 10):\n",
    "    if num % 3 != 0:\n",
    "        print(num, \"은(는) 3의 배수 아님!\")\n",
    "    else:\n",
    "        print(num, \"은(는) 3의 배수!\")\n",
    "        break\n",
    "        print(\"3의 배수 찾았음\")\n",
    "        \n",
    "print(\"프로그램 종료!\")"
   ]
  },
  {
   "cell_type": "markdown",
   "metadata": {},
   "source": [
    "아래 코드는 위 프로그램을 `while` 반복문으로 구현하였으며\n",
    "실행되는 과정은 위 코드와 동일하다.\n",
    "즉, `num`에 3이 할당되어 3의 배수를 가리키는 순간\n",
    "`break` 명령문이 실행되어 반복문이 바로 멈추고\n",
    "마지막 줄의 `print()` 함수가 호출된다."
   ]
  },
  {
   "cell_type": "code",
   "execution_count": 25,
   "metadata": {},
   "outputs": [
    {
     "name": "stdout",
     "output_type": "stream",
     "text": [
      "1 은(는) 3의 배수 아님!\n",
      "2 은(는) 3의 배수 아님!\n",
      "3 은(는) 3의 배수!\n",
      "프로그램 종료!\n"
     ]
    }
   ],
   "source": [
    "num = 1\n",
    "\n",
    "while num < 10:\n",
    "    if num % 3 != 0:\n",
    "        print(num, \"은(는) 3의 배수 아님!\")\n",
    "    else:\n",
    "        print(num, \"은(는) 3의 배수!\")\n",
    "        break\n",
    "        print(\"3의 배수 찾았음\")\n",
    "        \n",
    "    num += 1\n",
    "        \n",
    "print(\"프로그램 종료!\")"
   ]
  },
  {
   "cell_type": "markdown",
   "metadata": {},
   "source": [
    "**`continue` 명령문**"
   ]
  },
  {
   "cell_type": "markdown",
   "metadata": {},
   "source": [
    "아래 프로그램을 실행하면\n",
    "1부터 9까지의 정수를 대상으로\n",
    "차례대로 3의 배수 여부를 판단한다.\n",
    "\n",
    "`num`이 차례대로 1, 2, 3, ... 등을 할당받을 때마다\n",
    "3의 배수 여부를 판단한다.\n",
    "\n",
    "- `num`에 할당된 값이 3의 배수인 경우: 3의 배수임을 확인하는 문자열 출력\n",
    "- `num`에 할당된 값이 3의 배수가 아닌 경우: `continue` 명령문이 실행되어 \n",
    "    바로 아랫줄의 `print()` 명령문을 실행하지 않고 반복문의 다음 경우로 이동함.\n",
    "    즉, `num`이 다음 항목을 가리키도록 함.\n",
    "\n",
    "결국 `num`이 1부터 시작해서 차례대로 값을 할당받으면 1, 2, 4, 5, 7, 8의 경우는 `continue` 명령문에 의해\n",
    "무시되는 효과가 발생한다."
   ]
  },
  {
   "cell_type": "code",
   "execution_count": 31,
   "metadata": {},
   "outputs": [
    {
     "name": "stdout",
     "output_type": "stream",
     "text": [
      "3 은(는) 3의 배수!\n",
      "6 은(는) 3의 배수!\n",
      "9 은(는) 3의 배수!\n",
      "1과 10 사이에서 3의 배수를 확인했음!\n"
     ]
    }
   ],
   "source": [
    "for num in range(1, 10):\n",
    "    if num % 3 == 0:\n",
    "        print(num, \"은(는) 3의 배수!\")\n",
    "    else:\n",
    "        continue\n",
    "        print(num, \"은(는) 3의 배수 아님!\")\n",
    "\n",
    "print(\"1과 10 사이에서 3의 배수를 확인했음!\")"
   ]
  },
  {
   "cell_type": "markdown",
   "metadata": {},
   "source": [
    "아래 코드는 위 코드와 동일하게 작동한다.\n",
    "대신 `while` 반복문을 사용한다."
   ]
  },
  {
   "cell_type": "code",
   "execution_count": 32,
   "metadata": {},
   "outputs": [
    {
     "name": "stdout",
     "output_type": "stream",
     "text": [
      "3 은(는) 3의 배수!\n",
      "6 은(는) 3의 배수!\n",
      "9 은(는) 3의 배수!\n",
      "1과 10 사이에서 3의 배수를 확인했음!\n"
     ]
    }
   ],
   "source": [
    "num = 0\n",
    "while num < 10:\n",
    "    num += 1\n",
    "    if num % 3 == 0:\n",
    "        print(num, \"은(는) 3의 배수!\")\n",
    "    else:\n",
    "        continue\n",
    "        print(num, \"은(는) 3의 배수 아님!\")\n",
    "        \n",
    "print(\"1과 10 사이에서 3의 배수를 확인했음!\")"
   ]
  },
  {
   "cell_type": "markdown",
   "metadata": {},
   "source": [
    "`num`을 0으로 초기화 하고\n",
    "`num += 1` 명령문을 `while` 반복문이 실행될 때 제일 먼저 실행되도록 함에 주의한다.\n",
    "그렇지 않으면 `num` 값을 1씩 증가시키기가 어려질 수 있다.\n",
    "이유는 `num`에 3이 할당되는 순간 바로 `continue`가 실행되어 `num`이 가리키는 값을\n",
    "1 증가시킬 기회가 제공되지 않기 때문이다.\n",
    "\n",
    "예를 들어 아래 코드를 실행하면 반복문의 실행이 멈추지 않는다.\n",
    "앞서 설명한 대로 `num`에 3이 할당되는 순간 `num`을 재할당하지 못하고\n",
    "다시 반복문의 처음으로 돌아가서 계속해서 `num`을 가리키게 되기 때문이다.\n",
    "\n",
    "```python\n",
    "num = 0\n",
    "while num < 10:\n",
    "    if num % 3 == 0:\n",
    "        print(num, \"은(는) 3의 배수!\")\n",
    "    else:\n",
    "        continue\n",
    "        print(num, \"은(는) 3의 배수 아님!\")\n",
    "\n",
    "    num += 1\n",
    "\n",
    "print(\"1과 10 사이에서 3의 배수를 확인했음!\")\n",
    "```"
   ]
  },
  {
   "cell_type": "markdown",
   "metadata": {},
   "source": [
    "**`break`와 `continue` 명령문의 영향 범위**"
   ]
  },
  {
   "cell_type": "markdown",
   "metadata": {},
   "source": [
    "`break`와 `continue` 명령문은 자신이 포함된 `for`/`while` 반복문의 실행만 멈추게 한다.\n",
    "따라서 실행이 멈춘 반복문에 이어지는 다른 코드는 계속해서 실행된다.\n",
    "\n",
    "예를 들어 동일한 일을 하는 아래 두 코드를 실행하면 1과 2를 출력한 후에 \n",
    "`for`와 `while` 반복문의 실행이 멈춘다.\n",
    "그리고 마지막 줄에 위치한 `print(\"코드 실행 종료\")` 명령문이 실행되어\n",
    "화면에 `\"코드 실행 종료\"`가 출력된다."
   ]
  },
  {
   "cell_type": "markdown",
   "metadata": {},
   "source": [
    "- `for` 반복문"
   ]
  },
  {
   "cell_type": "code",
   "execution_count": 34,
   "metadata": {},
   "outputs": [
    {
     "name": "stdout",
     "output_type": "stream",
     "text": [
      "1\n",
      "2\n",
      "코드 실행 종료!\n"
     ]
    }
   ],
   "source": [
    "for num in range(1, 5):\n",
    "    print(num)\n",
    "    if num == 2:\n",
    "        break\n",
    "    \n",
    "print(\"코드 실행 종료!\")"
   ]
  },
  {
   "cell_type": "markdown",
   "metadata": {},
   "source": [
    "- `while` 반복문"
   ]
  },
  {
   "cell_type": "code",
   "execution_count": 33,
   "metadata": {},
   "outputs": [
    {
     "name": "stdout",
     "output_type": "stream",
     "text": [
      "1\n",
      "2\n",
      "코드 실행 종료!\n"
     ]
    }
   ],
   "source": [
    "num = 1\n",
    "\n",
    "while num < 5:\n",
    "    print(num)\n",
    "    if num == 2:\n",
    "        break\n",
    "    num += 1\n",
    "    \n",
    "print(\"코드 실행 종료!\")"
   ]
  },
  {
   "cell_type": "markdown",
   "metadata": {},
   "source": [
    "## 무한 반복과 `break` 명령문"
   ]
  },
  {
   "cell_type": "markdown",
   "metadata": {},
   "source": [
    "아래 코드를 실행하면 사용자로부터 계속해서 값을 입력받으며\n",
    "절대로 멈추지 않는다.\n",
    "이유는 `while True`에서 사용된 `True` 표현식이 항상 참이기 때문이다."
   ]
  },
  {
   "cell_type": "markdown",
   "metadata": {},
   "source": [
    "```python\n",
    "while True:\n",
    "    line = input('단어입력: ')\n",
    "    print(line)\n",
    "\n",
    "print('종료합니다!')\n",
    "```"
   ]
  },
  {
   "cell_type": "markdown",
   "metadata": {},
   "source": [
    "만약 위 코드를 실행했다면 파이썬 실행기를 강제로 종료시키거나 컴퓨터를 꺼야 한다.\n",
    "이처럼 반복문이 끝나지 않고 계속 실행되는 현상을 \n",
    "**무한 반복**<font size=\"2\">infinite loop</font>라 하며 경우에 따라 **무한 루프**라 불리기도 한다."
   ]
  },
  {
   "cell_type": "markdown",
   "metadata": {},
   "source": [
    "반면에 아래 코드는 사용자로부터 `'중지'` 단어가 입력되는 순간 반복문을 중단하고\n",
    "계속해서 마지막 줄의 `print()` 함수 호출을 실행해서 프로그램의 종료를 알린다."
   ]
  },
  {
   "cell_type": "code",
   "execution_count": 35,
   "metadata": {},
   "outputs": [
    {
     "name": "stdout",
     "output_type": "stream",
     "text": [
      "단어입력: 파이썬\n",
      "파이썬\n",
      "단어입력: 프로그래밍\n",
      "프로그래밍\n",
      "단어입력: 중지\n",
      "종료합니다!\n"
     ]
    }
   ],
   "source": [
    "while True:\n",
    "    line = input('단어입력: ')\n",
    "    if line == '중지':\n",
    "        break\n",
    "    print(line)\n",
    "\n",
    "print('종료합니다!')"
   ]
  },
  {
   "cell_type": "markdown",
   "metadata": {},
   "source": [
    "무한 반복은 게임 프로그래밍에서 자주 사용된다.\n",
    "게임 종료가 언제 이뤄지는가는 게임의 전개 과정에 의존하기에 미리 알 수 없다.\n",
    "따라서 게임 진행 전체를 관장하는 코드는 기본적으로 `while True`로 시작하는 무한 반복을 활용한다.\n",
    "단 게임이 종료되는 조건이 되면 `break` 명령문 등과 같이 반복문의 실행을 종료시키거나\n",
    "프로그램 자체를 종료시키는 특정 명령문이 실행되도록 한다.\n",
    "\n",
    "예를 들어 [거북이 경주 게임](https://leegys_gmail_com.trinket.io/python-turtle#/mini-peurojegteu/geobugi-gyeongju-geim)에서\n",
    "두 마리의 거북이가 목표 지점에 다다르기 위해 경주를 한다.\n",
    "두 마리 중 한 마리의 거북이가 먼저 목표 지점에 다다르면 게임이 멈추는데 그때가 언제인지는\n",
    "미리 알 수 없다.\n",
    "따라서 경주를 진행하는 반복문이 `while True`로 시작하며\n",
    "한 마리의 거북이가 목표 지점에 다다르면 반복문의 실행이 멈추도록 `break` 명령문이 사용되었다."
   ]
  },
  {
   "cell_type": "markdown",
   "metadata": {},
   "source": [
    "## 필수 예제"
   ]
  },
  {
   "cell_type": "markdown",
   "metadata": {},
   "source": [
    "참고: [(필수 예제) 반복문](https://colab.research.google.com/github/codingalzi/pybook/blob/master/examples/examples-iterations.ipynb)"
   ]
  },
  {
   "cell_type": "markdown",
   "metadata": {},
   "source": [
    "## 연습문제"
   ]
  },
  {
   "cell_type": "markdown",
   "metadata": {},
   "source": [
    "참고: [(실습) 반복문](https://colab.research.google.com/github/codingalzi/pybook/blob/master/practices/practice-iterations.ipynb)"
   ]
  }
 ],
 "metadata": {
  "kernelspec": {
   "display_name": "Python 3 (ipykernel)",
   "language": "python",
   "name": "python3"
  },
  "language_info": {
   "codemirror_mode": {
    "name": "ipython",
    "version": 3
   },
   "file_extension": ".py",
   "mimetype": "text/x-python",
   "name": "python",
   "nbconvert_exporter": "python",
   "pygments_lexer": "ipython3",
   "version": "3.11.4"
  },
  "vscode": {
   "interpreter": {
    "hash": "ad0f3c8a064f687cbf898a0868fd45ba1c7e928ac8a0404f7c241d812ddc1e76"
   }
  }
 },
 "nbformat": 4,
 "nbformat_minor": 1
}