{
 "cells": [
  {
   "cell_type": "markdown",
   "metadata": {},
   "source": [
    "# 조건문"
   ]
  },
  {
   "cell_type": "markdown",
   "metadata": {},
   "source": [
    "**조건문**<font size=\"2\">conditional statement</font>은\n",
    "특정 조건의 성립여부에 따라 다른 일을 하게 만드는 명령문이다.\n",
    "조건문의 가장 간단한 형식은 다음과 같다.\n",
    "\n",
    "```python\n",
    "if x < 0:\n",
    "    print('x는 음수')\n",
    "```\n",
    "\n",
    "위 조건문이 실행되는 순간 변수 `x`가 가리키는 값이 0보다 작으면 `'x는 음수'` \n",
    "라는 문장을 출력하고, 그렇지 않으면 다음 명령문으로 넘어간다. \n",
    "\n",
    "조건문의 헤더<font size=\"2\">header</font>는 \n",
    "`if` 키워드와 **조건**<font size=\"2\">condition</font>으로 구성된다.\n",
    "조건은 참 또는 거짓을 가리키는 **논리식**({numref}`%s절 <sec:boolean_expression>`)으로\n",
    "표현되며\n",
    "조건이 참일 때 조건문의 본문이 실행된다.\n",
    "\n",
    "```python\n",
    "if 조건식:\n",
    "    명령문\n",
    "```"
   ]
  },
  {
   "cell_type": "markdown",
   "metadata": {},
   "source": [
    "**슬라이드**\n",
    "\n",
    "본문 내용을 요약한 [슬라이드](https://github.com/codingalzi/pybook/raw/master/slides/slides-conditionals.pdf)를 \n",
    "다운로드할 수 있다."
   ]
  },
  {
   "cell_type": "markdown",
   "metadata": {},
   "source": [
    "## `if-else` 조건문"
   ]
  },
  {
   "cell_type": "markdown",
   "metadata": {},
   "source": [
    "변수 `x`가 가리키는 값이 음수가 아닐 때에는 음수가 아니다 라는 내용도 출력하는\n",
    "기능을 추가하려면 다음과 같이 조건문을 작성한다."
   ]
  },
  {
   "cell_type": "code",
   "execution_count": 1,
   "metadata": {},
   "outputs": [
    {
     "name": "stdout",
     "output_type": "stream",
     "text": [
      "x는 음수\n"
     ]
    }
   ],
   "source": [
    "from random import randint\n",
    "\n",
    "x = randint(-5, 5)\n",
    "\n",
    "if x < 0:\n",
    "    print('x는 음수')\n",
    "else:\n",
    "    print('x는 음수 아님!')"
   ]
  },
  {
   "cell_type": "markdown",
   "metadata": {},
   "source": [
    "이처럼 조건 제어문의 일반적인 형식은 다음과 같다.\n",
    "\n",
    "```python\n",
    "if 조건식:\n",
    "    명령문1\n",
    "else:\n",
    "    명령문2\n",
    "```\n",
    "\n",
    "- `명령문1`: 조건식이 참일 때 실행\n",
    "- `명령문2`: 조건식이 거짓일 때 실행"
   ]
  },
  {
   "cell_type": "markdown",
   "metadata": {},
   "source": [
    "## 조건부 표현식"
   ]
  },
  {
   "cell_type": "markdown",
   "metadata": {},
   "source": [
    "`if-else` 조건문을 이용하여 값을 표현할 수 있으며 조건부 표현식이라 한다.\n",
    "조건부 표현식의 형식은 다음과 같다."
   ]
  },
  {
   "cell_type": "markdown",
   "metadata": {},
   "source": [
    "```python\n",
    "표현식1 if 조건식 else 표현식2\n",
    "```"
   ]
  },
  {
   "cell_type": "markdown",
   "metadata": {},
   "source": [
    "예를 들어, 아래 함수 `my_abs()`는 절댓값을 계산한다.\n",
    "즉, 음수가 들어어면 양수로 변환해서, 양수는 그대로 반환한다."
   ]
  },
  {
   "cell_type": "code",
   "execution_count": 2,
   "metadata": {},
   "outputs": [],
   "source": [
    "def my_abs(x):\n",
    "    absolute = -x  if x < 0 else x\n",
    "    return absolute"
   ]
  },
  {
   "cell_type": "code",
   "execution_count": 3,
   "metadata": {},
   "outputs": [
    {
     "data": {
      "text/plain": [
       "2"
      ]
     },
     "execution_count": 3,
     "metadata": {},
     "output_type": "execute_result"
    }
   ],
   "source": [
    "my_abs(-2)"
   ]
  },
  {
   "cell_type": "code",
   "execution_count": 4,
   "metadata": {},
   "outputs": [
    {
     "data": {
      "text/plain": [
       "17"
      ]
     },
     "execution_count": 4,
     "metadata": {},
     "output_type": "execute_result"
    }
   ],
   "source": [
    "my_abs(17)"
   ]
  },
  {
   "cell_type": "markdown",
   "metadata": {},
   "source": [
    "## `elif` 키워드"
   ]
  },
  {
   "cell_type": "markdown",
   "metadata": {},
   "source": [
    "세 개 이상의 경우를 다루고자 할 경우\n",
    "다음과 같은 형식을 사용한다."
   ]
  },
  {
   "cell_type": "code",
   "execution_count": 5,
   "metadata": {},
   "outputs": [
    {
     "name": "stdout",
     "output_type": "stream",
     "text": [
      "x가 y보다 작다\n"
     ]
    }
   ],
   "source": [
    "x = randint(-5, 5)\n",
    "y = randint(-5, 5)\n",
    "\n",
    "if x < y:\n",
    "    print('x가 y보다 작다')\n",
    "elif x > y:\n",
    "    print('x가 y보다 크다')\n",
    "else:\n",
    "    print('x와 y가 같다')"
   ]
  },
  {
   "cell_type": "markdown",
   "metadata": {},
   "source": [
    "`elif`는 영어의 ''else if''의 줄임말이며,\n",
    "임의로 많이 사용될 수 있고,\n",
    "`else` 는 생략될 수 있지만 사용된다면 항상 마지막에 위치해야 한다.\n",
    "`if`와 `elif` 문에 사용된 조건은 위에서 차례대로 확인되어\n",
    "참이되는 경우의 명령문이 실행되며 나머지 경우는 무조건 무시된다."
   ]
  },
  {
   "cell_type": "markdown",
   "metadata": {},
   "source": [
    "예를 들어 `y`를 5로 나눈 나머지에 따라 다른 명령문을 다음과 같이 지정할 수 있다."
   ]
  },
  {
   "cell_type": "code",
   "execution_count": 6,
   "metadata": {},
   "outputs": [
    {
     "name": "stdout",
     "output_type": "stream",
     "text": [
      "나머지가 3\n"
     ]
    }
   ],
   "source": [
    "x = randint(-5, 5)\n",
    "y = randint(-5, 5)\n",
    "\n",
    "x = y % 5\n",
    "\n",
    "if x == 0:\n",
    "    print('나머지가 0')\n",
    "elif x == 1:\n",
    "    print('나머지가 1')\n",
    "elif x == 2:\n",
    "    print('나머지가 2')\n",
    "elif x == 3:\n",
    "    print('나머지가 3')\n",
    "else:\n",
    "    print('나머지가 4')"
   ]
  },
  {
   "cell_type": "markdown",
   "metadata": {},
   "source": [
    "`else`를 사용하지 않을 수도 있다."
   ]
  },
  {
   "cell_type": "code",
   "execution_count": 7,
   "metadata": {},
   "outputs": [
    {
     "name": "stdout",
     "output_type": "stream",
     "text": [
      "나머지가 2\n"
     ]
    }
   ],
   "source": [
    "x = randint(-5, 5)\n",
    "y = randint(-5, 5)\n",
    "\n",
    "x = y % 5\n",
    "\n",
    "if x == 0:\n",
    "    print('나머지가 0')\n",
    "elif x == 1:\n",
    "    print('나머지가 1')\n",
    "elif x == 2:\n",
    "    print('나머지가 2')\n",
    "elif x == 3:\n",
    "    print('나머지가 3')\n",
    "elif x == 4:\n",
    "    print('나머지가 4')"
   ]
  },
  {
   "cell_type": "markdown",
   "metadata": {},
   "source": [
    "## 중첩 조건문"
   ]
  },
  {
   "cell_type": "markdown",
   "metadata": {},
   "source": [
    "`elif` 키워드는 사실 없어도 된다.\n",
    "예를 들어 크거나, 작거나, 같은 세 가지 경우를 다음과 같이 다룰 수 있다."
   ]
  },
  {
   "cell_type": "code",
   "execution_count": 8,
   "metadata": {},
   "outputs": [
    {
     "name": "stdout",
     "output_type": "stream",
     "text": [
      "x와 y가 같다\n"
     ]
    }
   ],
   "source": [
    "x = randint(-5, 5)\n",
    "y = randint(-5, 5)\n",
    "\n",
    "if x < y:\n",
    "    print('x가 y보다 작다')\n",
    "else:\n",
    "    if x > y:\n",
    "        print('x가 y보다 크다')\n",
    "    else:\n",
    "        print('x와 y가 같다')"
   ]
  },
  {
   "cell_type": "markdown",
   "metadata": {},
   "source": [
    "위와 같이 `if-else` 조건문을 중첩해서 사용하면\n",
    "원하는 대로 경우를 나누어서 처리할 수 있다.\n",
    "경우의 확인 순서는 바깥 쪽에 위치한 경우부터 시작해서\n",
    "점차 `else` 문 안쪽으로 진행한다.\n",
    "\n",
    "일반적으로 3번 이상의 중첩을 사용하는 것은 권장되지 않는다.\n",
    "이유는 경우의 구분이 너무 복잡해질 수 있기 때문이다.\n",
    "가능하면 중첩 조건문 대신에 `elif` 문을 활용할 것이 권장된다."
   ]
  },
  {
   "cell_type": "markdown",
   "metadata": {},
   "source": [
    "## 논리연산자와 중첩 조건문"
   ]
  },
  {
   "cell_type": "markdown",
   "metadata": {},
   "source": [
    "논리 연산자를 활용하여 중첩 조건문의 활용을 피할 수도 있다.\n",
    "\n",
    "아래 코드는 중첩 조건문을 사용하여 `x`가 0보다 크면서 동시에 10보다 작은 경우를 다룬다."
   ]
  },
  {
   "cell_type": "code",
   "execution_count": 9,
   "metadata": {},
   "outputs": [],
   "source": [
    "x = randint(-5, 5)\n",
    "\n",
    "if 0 < x:\n",
    "    if x < 10:\n",
    "        print('x가 0보다 크고 동시에 10보다 작은 경우')"
   ]
  },
  {
   "cell_type": "markdown",
   "metadata": {},
   "source": [
    "`print()` 함수가 `0 < x`와 `x < 10` 두 조건을 모두 만족하는 경우에만\n",
    "실행되기에 아래와 같이 `and` 연산자를 이용하면 굳이 조건문을 \n",
    "중첩으로 사용할 필요가 없다. "
   ]
  },
  {
   "cell_type": "code",
   "execution_count": 10,
   "metadata": {},
   "outputs": [],
   "source": [
    "x = randint(-5, 5)\n",
    "\n",
    "if 0 < x and x < 10:\n",
    "    print('x가 0보다 크고 동시에 10보다 작은 경우')"
   ]
  },
  {
   "cell_type": "markdown",
   "metadata": {},
   "source": [
    "참고로 `0 < x and x < 10` 을 `0 < x < 10`로 표현할 수 있다."
   ]
  },
  {
   "cell_type": "code",
   "execution_count": 11,
   "metadata": {},
   "outputs": [],
   "source": [
    "x = randint(-5, 5)\n",
    "\n",
    "if 0 < x < 10:\n",
    "    print('x가 0보다 크고 동시에 10보다 작은 경우')"
   ]
  },
  {
   "cell_type": "markdown",
   "metadata": {},
   "source": [
    "## 연습문제 "
   ]
  },
  {
   "cell_type": "markdown",
   "metadata": {},
   "source": [
    "참고: [(실습) 조건문](https://colab.research.google.com/github/codingalzi/pybook/blob/master/practices/practice-conditionals.ipynb)"
   ]
  }
 ],
 "metadata": {
  "kernelspec": {
   "display_name": "Python 3 (ipykernel)",
   "language": "python",
   "name": "python3"
  },
  "language_info": {
   "codemirror_mode": {
    "name": "ipython",
    "version": 3
   },
   "file_extension": ".py",
   "mimetype": "text/x-python",
   "name": "python",
   "nbconvert_exporter": "python",
   "pygments_lexer": "ipython3",
   "version": "3.9.7"
  }
 },
 "nbformat": 4,
 "nbformat_minor": 1
}