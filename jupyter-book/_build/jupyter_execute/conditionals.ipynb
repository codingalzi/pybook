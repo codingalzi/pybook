{
 "cells": [
  {
   "cell_type": "markdown",
   "metadata": {},
   "source": [
    "# 조건문"
   ]
  },
  {
   "cell_type": "markdown",
   "metadata": {},
   "source": [
    "**조건문**<font size=\"2\">conditional statement</font>은\n",
    "특정 조건의 성립여부에 따라 다른 일을 하게 만드는 명령문이다.\n",
    "조건문의 가장 간단한 형식은 다음과 같다.\n",
    "\n",
    "```python\n",
    "if x < 0:\n",
    "    print('x는 음수')\n",
    "```\n",
    "\n",
    "위 조건문이 실행되는 순간 변수 `x`가 가리키는 값이 0보다 작으면 `'x는 음수'` \n",
    "라는 문장을 출력하고, 그렇지 않으면 다음 명령문으로 넘어간다. \n",
    "\n",
    "조건문의 헤더<font size=\"2\">header</font>는 \n",
    "`if` 키워드와 **조건**<font size=\"2\">condition</font>으로 구성된다.\n",
    "조건은 참 또는 거짓을 가리키는 **논리식**으로\n",
    "표현되며\n",
    "조건이 참일 때 조건문의 본문이 실행된다.\n",
    "\n",
    "```python\n",
    "if 논리식:\n",
    "    명령문\n",
    "```"
   ]
  },
  {
   "cell_type": "markdown",
   "metadata": {},
   "source": [
    "**슬라이드**\n",
    "\n",
    "본문 내용을 요약한 [슬라이드](https://github.com/codingalzi/pybook/raw/master/slides/slides-conditionals.pdf)를 \n",
    "다운로드할 수 있다."
   ]
  },
  {
   "cell_type": "markdown",
   "metadata": {
    "tags": []
   },
   "source": [
    "(sec:cond-expressions)=\n",
    "## 논리식"
   ]
  },
  {
   "cell_type": "markdown",
   "metadata": {},
   "source": [
    "**논리식**은 `True`와 `False` 두 개의 값중 하나를 가리키는 표현식이다.\n",
    "예를 들어, 두 표현식의 등가 여부를 판단하는 연산자 `==`를\n",
    "이용한 논리식은 다음과 같다."
   ]
  },
  {
   "cell_type": "code",
   "execution_count": 3,
   "metadata": {},
   "outputs": [
    {
     "data": {
      "text/plain": [
       "True"
      ]
     },
     "execution_count": 3,
     "metadata": {},
     "output_type": "execute_result"
    }
   ],
   "source": [
    "5 == 4 + 1"
   ]
  },
  {
   "cell_type": "code",
   "execution_count": 4,
   "metadata": {},
   "outputs": [
    {
     "data": {
      "text/plain": [
       "False"
      ]
     },
     "execution_count": 4,
     "metadata": {},
     "output_type": "execute_result"
    }
   ],
   "source": [
    "3 + 2 ==  3 * 2"
   ]
  },
  {
   "cell_type": "markdown",
   "metadata": {},
   "source": [
    ":::{admonition} `==` vs. `=`\n",
    ":class: warning\n",
    "\n",
    "표현식 A와 B가 동일한 값을 표현하거나 가리킬 때 서로 **등가**<font size=\"2\">equality</font>라고 말하며,\n",
    "이때 `A == B`를 `True`로 간주한다.\n",
    "예를 들어 `3 + 1`과 `2 * 2`가 동일한 값을 나타낸다는 사실은\n",
    "아래 코드와 같이 실행할 때 결과가 `True`로 나오는 것으로 확인된다.\n",
    "\n",
    "```python\n",
    ">>> 3 + 1 == 2 * 2\n",
    "True\n",
    "```\n",
    "\n",
    "반면에 `3 + 1 == 2 * 1`는 서로 등가가 아니라고 판명된다.\n",
    "\n",
    "```python\n",
    ">>> 3 + 1 == 2 * 1\n",
    "False\n",
    "```\n",
    "\n",
    "반면에 하나의 등호 기호 `=` 는 변수 할당에 사용되는 특별한 기호이다.\n",
    "만약 `x = 3` 이 변수 `x`와 정수 `3`이 등가임을 의미한다면\n",
    "`3 = x` 또한 의미가 있어야 한다.\n",
    "그런데 이는 허용되지 않는 구문이다. \n",
    "파이썬을 포함한 대부분의 프로그래밍 언어는 변수를 선언할 때 변수는 등호 기호 왼편애 위치하도록 강요한다.\n",
    "\n",
    "```python\n",
    ">>> x = 3\n",
    ">>> 3 = x\n",
    "  File \"<stdin>\", line 1\n",
    "    3 = x\n",
    "    ^\n",
    "SyntaxError: cannot assign to literal\n",
    "```\n",
    ":::"
   ]
  },
  {
   "cell_type": "markdown",
   "metadata": {},
   "source": [
    "두 표현식이 서로 다른 값을 가리키는지 여부, 즉 등가성의 반대를 판단하는 연산자는 `!=`이며,\n",
    "`==` 와 반대로 작동한다."
   ]
  },
  {
   "cell_type": "code",
   "execution_count": 5,
   "metadata": {},
   "outputs": [
    {
     "data": {
      "text/plain": [
       "False"
      ]
     },
     "execution_count": 5,
     "metadata": {},
     "output_type": "execute_result"
    }
   ],
   "source": [
    "5 != 4 + 1"
   ]
  },
  {
   "cell_type": "code",
   "execution_count": 6,
   "metadata": {},
   "outputs": [
    {
     "data": {
      "text/plain": [
       "True"
      ]
     },
     "execution_count": 6,
     "metadata": {},
     "output_type": "execute_result"
    }
   ],
   "source": [
    "3 + 2 !=  3 * 2"
   ]
  },
  {
   "cell_type": "markdown",
   "metadata": {},
   "source": [
    "### `bool` 유형"
   ]
  },
  {
   "cell_type": "markdown",
   "metadata": {},
   "source": [
    "논리식이 표현하는 값은 `True`와 `False` 중에 하나이며,\n",
    "이 두 값으로만 구성된 자료형이 부울 자료형인 `bool`이다."
   ]
  },
  {
   "cell_type": "code",
   "execution_count": 1,
   "metadata": {},
   "outputs": [
    {
     "data": {
      "text/plain": [
       "bool"
      ]
     },
     "execution_count": 1,
     "metadata": {},
     "output_type": "execute_result"
    }
   ],
   "source": [
    "type(True)"
   ]
  },
  {
   "cell_type": "code",
   "execution_count": 1,
   "metadata": {},
   "outputs": [
    {
     "data": {
      "text/plain": [
       "bool"
      ]
     },
     "execution_count": 1,
     "metadata": {},
     "output_type": "execute_result"
    }
   ],
   "source": [
    "type(False)"
   ]
  },
  {
   "cell_type": "markdown",
   "metadata": {},
   "source": [
    "### 비교 연산자"
   ]
  },
  {
   "cell_type": "markdown",
   "metadata": {},
   "source": [
    "논리식은 기본적으로 등식, 부등식 등의 **비교 연산자**를 이용하여 표현하며,\n",
    "**논리 연산자**를 이용하여 보다 복잡한 논리식을 구성한다.\n",
    "\n",
    "비교 연산자는 수, 문자열 등의 크기를 비교할 수 있으며\n",
    "아래 연산자를 지원한다.\n",
    "\n",
    "|연산 기호|의미|예시|실행 결과|\n",
    "|:----------:|:----------:|:----------:|:--------:|\n",
    "|`<`|작다|`2 < 1`|`False`|\n",
    "|`<=`|작거나 같다|`1 <= 2`|`True`|\n",
    "|`>`|크다|`2 > 1`|`True`|\n",
    "|`>=`|크거나 같다|`1 >= 2`|`False`|\n",
    "|`==`|같다|`3 == 2 * 1`|`False`|\n",
    "|`!=`|같지 않다|`1 != '1'`|`True`|"
   ]
  },
  {
   "cell_type": "markdown",
   "metadata": {},
   "source": [
    "두 값의 등가 여부를 판단하는 `==` 연산자는 \n",
    "자료형이 다르면 무조건 거짓으로 판정한다."
   ]
  },
  {
   "cell_type": "code",
   "execution_count": 7,
   "metadata": {},
   "outputs": [
    {
     "data": {
      "text/plain": [
       "False"
      ]
     },
     "execution_count": 7,
     "metadata": {},
     "output_type": "execute_result"
    }
   ],
   "source": [
    "1.0 == '1.0'"
   ]
  },
  {
   "cell_type": "markdown",
   "metadata": {},
   "source": [
    "하지만 정수는 부동소수점으로 취급하기에 \n",
    "예를 들어 1과 1.0은 등가라고 판정한다."
   ]
  },
  {
   "cell_type": "code",
   "execution_count": 8,
   "metadata": {},
   "outputs": [
    {
     "data": {
      "text/plain": [
       "True"
      ]
     },
     "execution_count": 8,
     "metadata": {},
     "output_type": "execute_result"
    }
   ],
   "source": [
    "1 == 1.0"
   ]
  },
  {
   "cell_type": "markdown",
   "metadata": {},
   "source": [
    "문자열도 비교 연산자를 지원하며\n",
    "사전식 순서 개념을 사용한다."
   ]
  },
  {
   "cell_type": "code",
   "execution_count": 9,
   "metadata": {},
   "outputs": [
    {
     "data": {
      "text/plain": [
       "True"
      ]
     },
     "execution_count": 9,
     "metadata": {},
     "output_type": "execute_result"
    }
   ],
   "source": [
    "'apple' < 'banana'"
   ]
  },
  {
   "cell_type": "markdown",
   "metadata": {},
   "source": [
    "영어 알파벳의 경우 대문자가 소문자보다 작다고 판단한다."
   ]
  },
  {
   "cell_type": "code",
   "execution_count": 10,
   "metadata": {},
   "outputs": [
    {
     "data": {
      "text/plain": [
       "False"
      ]
     },
     "execution_count": 10,
     "metadata": {},
     "output_type": "execute_result"
    }
   ],
   "source": [
    "'apple' < 'Apple'"
   ]
  },
  {
   "cell_type": "markdown",
   "metadata": {},
   "source": [
    "::::{prf:example}\n",
    ":label: exp_comparison\n",
    "\n",
    "변수 `x`가 가리키는 값이 짝수이면 2로 나눈 값을,\n",
    "그렇지 않으면 두 배한 값을 출력하도록 해보자.\n",
    "\n",
    "정수의 짝수 여부는 2로 나눈 나머지가 0 또는 1인지 여부로 판단할 수 있다.\n",
    "파이썬의 나머지 연산자는 `%` 이다.\n",
    "\n",
    "```python\n",
    ">>> 21 % 6\n",
    "3\n",
    ">>> 21 % 4\n",
    "1\n",
    "```\n",
    "\n",
    "따라서 다음 논리식이 짝수 여부를 판단한다.\n",
    "\n",
    "```python\n",
    "x % 2 == 0\n",
    "```\n",
    "\n",
    "반면에 몫을 계산하는 연산자는 `//` 이다.\n",
    "\n",
    "```python\n",
    ">>> 27 // 6\n",
    "4\n",
    ">>> 27 // 4\n",
    "6\n",
    "```\n",
    "\n",
    "정리하면 짝수일 때와 홀수일 때 지정된 일을 하도록 하는 명령문은 다음과 같다.\n",
    "\n",
    "```python\n",
    "if x % 2 == 0:\n",
    "    print(x // 2)\n",
    "else:\n",
    "    print(x * 2)\n",
    "```\n",
    "::::"
   ]
  },
  {
   "cell_type": "markdown",
   "metadata": {},
   "source": [
    "### 논리 연산자"
   ]
  },
  {
   "cell_type": "markdown",
   "metadata": {},
   "source": [
    "영어의 *and*, *or*, *not* 의 개념과 거의(!) 유사하게 작동하는\n",
    "세 개의 논리 연산자를 이용하여 보다 복잡한 논리식을 구현할 수 있다."
   ]
  },
  {
   "cell_type": "markdown",
   "metadata": {},
   "source": [
    "|연산 기호|의미|예시|실행 결과|\n",
    "|:----------:|:----------:|:----------:|:--------:|\n",
    "|`and`|그리고|`1==2 and 3==2+1`|`False`|\n",
    "|`or`|또는|`1==2 and 3==2+1`|`True`|\n",
    "|`not`|부정|`not 1==2`|`True`|"
   ]
  },
  {
   "cell_type": "markdown",
   "metadata": {},
   "source": [
    "논리 연산자들 사이의 우선순위는 `not` 이 가장 높고 `and` 와 `or` 는 동등하다.\n",
    "예를 들어\n",
    "\n",
    "```python\n",
    "not a > b and b > c\n",
    "```\n",
    "\n",
    "는\n",
    "\n",
    "```python\n",
    "(not a > b) and b > c\n",
    "```\n",
    "\n",
    "와는 서로 등가이지만\n",
    "\n",
    "```python\n",
    "not (a > b and b > c)\n",
    "```\n",
    "\n",
    "와는 일반적으로 서로 다른 값을 가리킨다."
   ]
  },
  {
   "cell_type": "markdown",
   "metadata": {},
   "source": [
    "파이썬이 제공하는 편리 기능 중에 하나로 \n",
    "논리 연산자의 인자로 논리식이 아닌 값이 사용될 수 있다.\n",
    "예를 들어, 0이 아닌 수는 참, 0은 거짓으로 처리된다."
   ]
  },
  {
   "cell_type": "code",
   "execution_count": 12,
   "metadata": {},
   "outputs": [
    {
     "data": {
      "text/plain": [
       "True"
      ]
     },
     "execution_count": 12,
     "metadata": {},
     "output_type": "execute_result"
    }
   ],
   "source": [
    "17 and True"
   ]
  },
  {
   "cell_type": "markdown",
   "metadata": {},
   "source": [
    "이외에 `None`은 거짓, 빈 리스트는 거짓으로 그렇지 않은 리스트는 참으로 등등처럼\n",
    "많은 값들에 대해 비어 있거나 또는 의미가 없는 값은 거짓으로\n",
    "그렇지 않으면 참으로 처리한다.\n",
    "하지만 이런 방식은 코드의 이해를 어렵게 만들 수 있기에 조심해서 사용해야 한다."
   ]
  },
  {
   "cell_type": "markdown",
   "metadata": {},
   "source": [
    ":::{prf:example}\n",
    ":label: logical_op1\n",
    "\n",
    "세 개의 수 중에서 최댓값을 출력하는 코드는 다음과 같다.\n",
    "\n",
    "```python\n",
    "a = 3\n",
    "b = 7\n",
    "c = -1\n",
    "\n",
    "if a > b and a > c:\n",
    "    print(a)\n",
    "elif a > b and not a > c:\n",
    "    print(c)\n",
    "elif not a > b and b > c:\n",
    "    print(b)\n",
    "else:\n",
    "    print(c)\n",
    "```\n",
    ":::"
   ]
  },
  {
   "cell_type": "markdown",
   "metadata": {},
   "source": [
    ":::{prf:example}\n",
    ":label: logical_op2\n",
    "\n",
    "세 개의 수가 주어졌을 때 \n",
    "양수가 최소 하나라도 있는 경우에만 `True`를 출력하도록 하는 코드는 다음과 같다.\n",
    "\n",
    "```python\n",
    "a = -23\n",
    "b = -7\n",
    "c = 1\n",
    "\n",
    "if a > 0 or b > 0 or not c <= 0:\n",
    "    print(True)\n",
    "else:\n",
    "    print(False)\n",
    "```\n",
    ":::"
   ]
  },
  {
   "cell_type": "markdown",
   "metadata": {},
   "source": [
    ":::{admonition} 참고 \n",
    ":class: info\n",
    "\n",
    "`and` 와 `or` 가 자연어의 *and* 와 *or* 와는 조금 다르게 작동한다. \n",
    "예를 들어, 아래와 같이  `False and 3/0`를 실행하면 `False`로 계산되는데\n",
    "좀 이상하다. \n",
    "왜냐하면 `3/0` 이 `ZeroDivisionError` 라는 오류를 발생시켜야 할 것으로\n",
    "기대되기 때문이다.\n",
    "\n",
    "```python\n",
    ">>> False and 3/0\n",
    "False\n",
    "```\n",
    "\n",
    "실제로 `3/0 and False` 를 실행하면 `3/0`을 먼저 확인하기에 오류가 발생한다. \n",
    "\n",
    "```python\n",
    ">>> 3/0 and False\n",
    "Traceback (most recent call last):\n",
    "  File \"<stdin>\", line 1, in <module>\n",
    "ZeroDivisionError: division by zero\n",
    "```\n",
    "\n",
    "`False and 3/0` 를 실행할 때 오류가 발생하지 않은 이유는 \n",
    "`x and y`는 `x`가 참일 때만 `y` 를 확인하기 때문이다.\n",
    "`x` 를 먼저 확인해서 거짓으로 판명되면 논리식 전체를 바로 거짓으로 계산한다.\n",
    "반면에 `x or y`는 `x`가 거짓일 때만 `y`를 확인한다.\n",
    "즉, `x`를 먼저 확인해서 참이되면 논리식 전체를 참으로 계산한다.\n",
    "\n",
    ":::"
   ]
  },
  {
   "cell_type": "markdown",
   "metadata": {},
   "source": [
    "## `if-else` 조건문"
   ]
  },
  {
   "cell_type": "markdown",
   "metadata": {},
   "source": [
    "변수 `x`가 가리키는 값이 음수가 아닐 때에는 음수가 아니다 라는 내용도 출력하는\n",
    "기능을 추가하려면 다음과 같이 조건문을 작성한다."
   ]
  },
  {
   "cell_type": "code",
   "execution_count": 13,
   "metadata": {},
   "outputs": [
    {
     "name": "stdout",
     "output_type": "stream",
     "text": [
      "x는 음수 아님!\n"
     ]
    }
   ],
   "source": [
    "from random import randint\n",
    "\n",
    "x = randint(-5, 5)\n",
    "\n",
    "if x < 0:\n",
    "    print('x는 음수')\n",
    "else:\n",
    "    print('x는 음수 아님!')"
   ]
  },
  {
   "cell_type": "markdown",
   "metadata": {},
   "source": [
    "이처럼 조건 제어문의 일반적인 형식은 다음과 같다.\n",
    "\n",
    "```python\n",
    "if 논리식:\n",
    "    명령문1\n",
    "else:\n",
    "    명령문2\n",
    "```\n",
    "\n",
    "- `명령문1`: 논리식이 참일 때 실행\n",
    "- `명령문2`: 논리식이 거짓일 때 실행"
   ]
  },
  {
   "cell_type": "markdown",
   "metadata": {},
   "source": [
    "## 조건부 표현식"
   ]
  },
  {
   "cell_type": "markdown",
   "metadata": {},
   "source": [
    "`if-else` 조건문을 이용하여 값을 표현할 수 있으며 조건부 표현식이라 한다.\n",
    "조건부 표현식의 형식은 다음과 같다."
   ]
  },
  {
   "cell_type": "markdown",
   "metadata": {},
   "source": [
    "```python\n",
    "표현식1 if 논리식 else 표현식2\n",
    "```"
   ]
  },
  {
   "cell_type": "markdown",
   "metadata": {},
   "source": [
    "예를 들어, 아래 함수 `my_abs()`는 절댓값을 계산한다.\n",
    "즉, 음수가 들어어면 양수로 변환해서, 양수는 그대로 반환한다."
   ]
  },
  {
   "cell_type": "code",
   "execution_count": 14,
   "metadata": {},
   "outputs": [],
   "source": [
    "def my_abs(x):\n",
    "    absolute = -x  if x < 0 else x\n",
    "    return absolute"
   ]
  },
  {
   "cell_type": "code",
   "execution_count": 15,
   "metadata": {},
   "outputs": [
    {
     "data": {
      "text/plain": [
       "2"
      ]
     },
     "execution_count": 15,
     "metadata": {},
     "output_type": "execute_result"
    }
   ],
   "source": [
    "my_abs(-2)"
   ]
  },
  {
   "cell_type": "code",
   "execution_count": 16,
   "metadata": {},
   "outputs": [
    {
     "data": {
      "text/plain": [
       "17"
      ]
     },
     "execution_count": 16,
     "metadata": {},
     "output_type": "execute_result"
    }
   ],
   "source": [
    "my_abs(17)"
   ]
  },
  {
   "cell_type": "markdown",
   "metadata": {},
   "source": [
    "## `elif` 키워드"
   ]
  },
  {
   "cell_type": "markdown",
   "metadata": {},
   "source": [
    "세 개 이상의 경우를 다루고자 할 경우\n",
    "다음과 같은 형식을 사용한다."
   ]
  },
  {
   "cell_type": "code",
   "execution_count": 17,
   "metadata": {},
   "outputs": [
    {
     "name": "stdout",
     "output_type": "stream",
     "text": [
      "x가 y보다 크다\n"
     ]
    }
   ],
   "source": [
    "x = randint(-5, 5)\n",
    "y = randint(-5, 5)\n",
    "\n",
    "if x < y:\n",
    "    print('x가 y보다 작다')\n",
    "elif x > y:\n",
    "    print('x가 y보다 크다')\n",
    "else:\n",
    "    print('x와 y가 같다')"
   ]
  },
  {
   "cell_type": "markdown",
   "metadata": {},
   "source": [
    "`elif`는 영어의 ''else if''의 줄임말이며,\n",
    "임의로 많이 사용될 수 있고,\n",
    "`else` 는 생략될 수 있지만 사용된다면 항상 마지막에 위치해야 한다.\n",
    "`if`와 `elif` 문에 사용된 조건은 위에서 차례대로 확인되어\n",
    "참이되는 경우의 명령문이 실행되며 나머지 경우는 무조건 무시된다."
   ]
  },
  {
   "cell_type": "markdown",
   "metadata": {},
   "source": [
    "예를 들어 `y`를 5로 나눈 나머지에 따라 다른 명령문을 다음과 같이 지정할 수 있다."
   ]
  },
  {
   "cell_type": "code",
   "execution_count": 18,
   "metadata": {},
   "outputs": [
    {
     "name": "stdout",
     "output_type": "stream",
     "text": [
      "나머지가 1\n"
     ]
    }
   ],
   "source": [
    "x = randint(-5, 5)\n",
    "y = randint(-5, 5)\n",
    "\n",
    "x = y % 5\n",
    "\n",
    "if x == 0:\n",
    "    print('나머지가 0')\n",
    "elif x == 1:\n",
    "    print('나머지가 1')\n",
    "elif x == 2:\n",
    "    print('나머지가 2')\n",
    "elif x == 3:\n",
    "    print('나머지가 3')\n",
    "else:\n",
    "    print('나머지가 4')"
   ]
  },
  {
   "cell_type": "markdown",
   "metadata": {},
   "source": [
    "`else`를 사용하지 않을 수도 있다."
   ]
  },
  {
   "cell_type": "code",
   "execution_count": 19,
   "metadata": {},
   "outputs": [
    {
     "name": "stdout",
     "output_type": "stream",
     "text": [
      "나머지가 4\n"
     ]
    }
   ],
   "source": [
    "x = randint(-5, 5)\n",
    "y = randint(-5, 5)\n",
    "\n",
    "x = y % 5\n",
    "\n",
    "if x == 0:\n",
    "    print('나머지가 0')\n",
    "elif x == 1:\n",
    "    print('나머지가 1')\n",
    "elif x == 2:\n",
    "    print('나머지가 2')\n",
    "elif x == 3:\n",
    "    print('나머지가 3')\n",
    "elif x == 4:\n",
    "    print('나머지가 4')"
   ]
  },
  {
   "cell_type": "markdown",
   "metadata": {},
   "source": [
    "## 중첩 조건문"
   ]
  },
  {
   "cell_type": "markdown",
   "metadata": {},
   "source": [
    "`elif` 키워드는 사실 없어도 된다.\n",
    "예를 들어 크거나, 작거나, 같은 세 가지 경우를 다음과 같이 다룰 수 있다."
   ]
  },
  {
   "cell_type": "code",
   "execution_count": 8,
   "metadata": {},
   "outputs": [
    {
     "name": "stdout",
     "output_type": "stream",
     "text": [
      "x가 y보다 크다\n"
     ]
    }
   ],
   "source": [
    "x = randint(-5, 5)\n",
    "y = randint(-5, 5)\n",
    "\n",
    "if x < y:\n",
    "    print('x가 y보다 작다')\n",
    "else:\n",
    "    if x > y:\n",
    "        print('x가 y보다 크다')\n",
    "    else:\n",
    "        print('x와 y가 같다')"
   ]
  },
  {
   "cell_type": "markdown",
   "metadata": {},
   "source": [
    "위와 같이 `if-else` 조건문을 중첩해서 사용하면\n",
    "원하는 대로 경우를 나누어서 처리할 수 있다.\n",
    "경우의 확인 순서는 바깥 쪽에 위치한 경우부터 시작해서\n",
    "점차 `else` 문 안쪽으로 진행한다.\n",
    "\n",
    "일반적으로 3번 이상의 중첩을 사용하는 것은 권장되지 않는다.\n",
    "이유는 경우의 구분이 너무 복잡해질 수 있기 때문이다.\n",
    "가능하면 중첩 조건문 대신에 `elif` 문을 활용할 것이 권장된다."
   ]
  },
  {
   "cell_type": "markdown",
   "metadata": {},
   "source": [
    "## 논리연산자와 중첩 조건문"
   ]
  },
  {
   "cell_type": "markdown",
   "metadata": {},
   "source": [
    "논리 연산자를 활용하여 중첩 조건문의 활용을 피할 수도 있다.\n",
    "\n",
    "아래 코드는 중첩 조건문을 사용하여 `x`가 0보다 크면서 동시에 10보다 작은 경우를 다룬다."
   ]
  },
  {
   "cell_type": "code",
   "execution_count": 9,
   "metadata": {},
   "outputs": [],
   "source": [
    "x = randint(-5, 5)\n",
    "\n",
    "if 0 < x:\n",
    "    if x < 10:\n",
    "        print('x가 0보다 크고 동시에 10보다 작은 경우')"
   ]
  },
  {
   "cell_type": "markdown",
   "metadata": {},
   "source": [
    "`print()` 함수가 `0 < x`와 `x < 10` 두 조건을 모두 만족하는 경우에만\n",
    "실행되기에 아래와 같이 `and` 연산자를 이용하면 굳이 조건문을 \n",
    "중첩으로 사용할 필요가 없다. "
   ]
  },
  {
   "cell_type": "code",
   "execution_count": 10,
   "metadata": {},
   "outputs": [],
   "source": [
    "x = randint(-5, 5)\n",
    "\n",
    "if 0 < x and x < 10:\n",
    "    print('x가 0보다 크고 동시에 10보다 작은 경우')"
   ]
  },
  {
   "cell_type": "markdown",
   "metadata": {},
   "source": [
    "참고로 `0 < x and x < 10` 을 `0 < x < 10`로 표현할 수 있다."
   ]
  },
  {
   "cell_type": "code",
   "execution_count": 11,
   "metadata": {},
   "outputs": [
    {
     "name": "stdout",
     "output_type": "stream",
     "text": [
      "x가 0보다 크고 동시에 10보다 작은 경우\n"
     ]
    }
   ],
   "source": [
    "x = randint(-5, 5)\n",
    "\n",
    "if 0 < x < 10:\n",
    "    print('x가 0보다 크고 동시에 10보다 작은 경우')"
   ]
  },
  {
   "cell_type": "markdown",
   "metadata": {},
   "source": [
    "## 연습문제 "
   ]
  },
  {
   "cell_type": "markdown",
   "metadata": {},
   "source": [
    "참고: [(실습) 조건문](https://colab.research.google.com/github/codingalzi/pybook/blob/master/practices/practice-conditionals.ipynb)"
   ]
  }
 ],
 "metadata": {
  "kernelspec": {
   "display_name": "Python 3 (ipykernel)",
   "language": "python",
   "name": "python3"
  },
  "language_info": {
   "codemirror_mode": {
    "name": "ipython",
    "version": 3
   },
   "file_extension": ".py",
   "mimetype": "text/x-python",
   "name": "python",
   "nbconvert_exporter": "python",
   "pygments_lexer": "ipython3",
   "version": "3.11.4"
  }
 },
 "nbformat": 4,
 "nbformat_minor": 1
}