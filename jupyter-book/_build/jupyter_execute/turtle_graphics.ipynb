{
 "cells": [
  {
   "cell_type": "markdown",
   "id": "1d901e8a",
   "metadata": {},
   "source": [
    "(ch:turtle-graphics)=\n",
    "# 거북이 그래픽"
   ]
  },
  {
   "cell_type": "markdown",
   "id": "e9594930",
   "metadata": {},
   "source": [
    "## `turtle` 모듈"
   ]
  },
  {
   "cell_type": "markdown",
   "id": "6ec51ed2",
   "metadata": {},
   "source": [
    "`turtle` 모듈은 간단한 2차원 컴퓨터 그래픽스를 지원하는 다양한 도구를 제공하며, \n",
    "파이썬에 기본 모듈로 포함되어 있다. \n",
    "[IDLE 를 이용](https://aisw.tistory.com/5)하여 아래 명령문을 실행하면 그림 창이 하나 새로 나타나고 \n",
    "그 안에 정해진 그림이 그려져야 한다."
   ]
  },
  {
   "cell_type": "markdown",
   "id": "96a2687d",
   "metadata": {},
   "source": [
    "```python\n",
    "import turtle\n",
    "\n",
    "bob = turtle.Turtle()    # bob 란 이름의 거북이 하나 생성. 기본 모양은 화살촉\n",
    "\n",
    "bob.forward(150)         # 바라보는 방향으로 150 픽셀 전진\n",
    "bob.left(90)             # 왼쪽으로 90도 회전\n",
    "bob.forward(75)          # 바라보는 방향으로 75 픽셀 전진\n",
    "```"
   ]
  },
  {
   "cell_type": "markdown",
   "id": "2ec16c27",
   "metadata": {},
   "source": [
    "<div align=\"center\" border=\"1px\"><img src=\"https://raw.githubusercontent.com/codingalzi/pybook/master/jupyter-book/images/turtle01.png\" width=\"300\"/></div>"
   ]
  },
  {
   "cell_type": "markdown",
   "id": "0e89ccb9",
   "metadata": {},
   "source": [
    "반면에 구글 코랩 등 대부분의 온라인 사이트에서는 지원되지 않는다. \n",
    "하지만 다행히도 [트링킷<font size=\"2\">Trinket</font>](https://trinket.io)이 거북이 그래픽스를 지원한다."
   ]
  },
  {
   "cell_type": "markdown",
   "id": "c5e2be53",
   "metadata": {},
   "source": [
    "## 실전 거북이 프로그래밍"
   ]
  },
  {
   "cell_type": "markdown",
   "id": "b8fae9af",
   "metadata": {},
   "source": [
    "`turtle` 모듈의 활용법과 거북이 그래픽을 이용한 프로그래밍 학습은\n",
    "[Trinkit의 Python Turtle](https://leegys_gmail_com.trinket.io/python-turtle)에서\n",
    "상세히 다룬다."
   ]
  }
 ],
 "metadata": {
  "kernelspec": {
   "display_name": "Python 3 (ipykernel)",
   "language": "python",
   "name": "python3"
  },
  "language_info": {
   "codemirror_mode": {
    "name": "ipython",
    "version": 3
   },
   "file_extension": ".py",
   "mimetype": "text/x-python",
   "name": "python",
   "nbconvert_exporter": "python",
   "pygments_lexer": "ipython3",
   "version": "3.11.5"
  }
 },
 "nbformat": 4,
 "nbformat_minor": 5
}