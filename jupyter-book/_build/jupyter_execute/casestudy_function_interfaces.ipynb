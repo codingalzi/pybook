{
 "cells": [
  {
   "cell_type": "markdown",
   "id": "1d901e8a",
   "metadata": {},
   "source": [
    "# 사례 연구: 함수 인터페이스"
   ]
  },
  {
   "cell_type": "markdown",
   "id": "cecb5447",
   "metadata": {},
   "source": [
    "`turtle` 모듈을 이용하여 다양한 그림을 그리는 함수를 직접 구현하면서\n",
    "반복문과 함수의 활용을 좀 더 자세히 살펴본다.\n",
    "또한 클래스, 인스턴스, 메서드 등을 활용하는 객체 지향 프로그래밍(OOP)의\n",
    "기본 구성 요소를 소개한다."
   ]
  },
  {
   "cell_type": "markdown",
   "id": "e9594930",
   "metadata": {},
   "source": [
    "## `turtle` 모듈"
   ]
  },
  {
   "cell_type": "markdown",
   "id": "6ec51ed2",
   "metadata": {},
   "source": [
    "`turtle` 모듈은 간단한 그림을 그리는 다양한 도구를 제공하며, \n",
    "파이썬에 기본 모듈로 포함되어 있다. \n",
    "[IDLE 를 이용](https://aisw.tistory.com/5)하여 아래 명령문을 실행하면 그림 창이 하나 새로 나타나고 \n",
    "그 안에 정해진 그림이 그려져야 한다."
   ]
  },
  {
   "cell_type": "markdown",
   "id": "f9c42aaf",
   "metadata": {},
   "source": [
    "```python\n",
    "import turtle\n",
    "\n",
    "wn = turtle.Screen()      # 캔버스 하나 생성\n",
    "\n",
    "bob = turtle.Turtle()    # bob 란 이름의 거북이 하나 생성. 기본 모양은 화살촉\n",
    "bob.forward(150)         # 바라보는 방향으로 150 픽셀 전진\n",
    "bob.left(90)             # 왼쪽으로 90도 회전\n",
    "bob.forward(75)          # 바라보는 방향으로 75 픽셀 전진\n",
    "\n",
    "wn.exitonclick()          # 캔버스에 클릭할 때까지 대기\n",
    "# wn.mainloop()             # X 버튼을 눌러 창을 닫을 때까지 대기\n",
    "```"
   ]
  },
  {
   "cell_type": "markdown",
   "id": "2ec16c27",
   "metadata": {},
   "source": [
    "<div align=\"center\" border=\"1px\"><img src=\"https://raw.githubusercontent.com/codingalzi/pybook/master/jupyter-book/images/turtle01.png\" width=\"300\"/></div>"
   ]
  },
  {
   "cell_type": "markdown",
   "id": "0e89ccb9",
   "metadata": {},
   "source": [
    ":::{admonition} Trinket 사이트\n",
    ":class: info\n",
    "\n",
    "반면에 구글 코랩 등 대부분의 온라인 사이트에서는 지원되지 않는다. \n",
    "하지만 다행히도 [트링킷<font size=\"2\">Trinket</font>](https://trinket.io)이 거북이 그래픽스를 지원한다.\n",
    ":::"
   ]
  },
  {
   "cell_type": "markdown",
   "id": "659eaffa",
   "metadata": {},
   "source": [
    "**캔버스와 거북이 객체**\n",
    "\n",
    "`turtle.Screen()` 은 `Screen` 클래스의 인스턴스, 즉 캔버스 객체를 하나 생성한다.\n",
    "단, 캔버스 객체는 하나만 생성할 수 있다. \n",
    "이렇게 하나의 인스턴스만 허용하는 클래스를 **싱글톤 클래스**<font size='2'>singleton class</font>라 한다.\n",
    "\n",
    "반면에 `Turtle` 클래스를 포함하여 파이썬의 클래스는 일반적으로 임의의 개수의 인스턴스 생성을 허용한다."
   ]
  },
  {
   "cell_type": "markdown",
   "id": "aff153f9",
   "metadata": {},
   "source": [
    "**거북이 메서드**\n",
    "\n",
    "거북이를 움직이게 하거나 거북이의 상태를 지정하는 많은 \n",
    "[`Turtle` 클래스의 메서드](https://docs.python.org/3/library/turtle.html)가 존재한다.\n",
    "그중 일부는 단축어를 갖는데 가장 많이 사용되는 메서는 다음과 같다.\n",
    "\n",
    "| 메서드 | 단축어 | 의미 |\n",
    "| :---   | :---   | :--- |\n",
    "| forward() | fd()    | 전진 |\n",
    "| left()   | lt()     | 반시계방향 회전 |\n",
    "| backward() | bd()   | 후진 |\n",
    "| right()  | rt()     | 시계방향 회전 |\n",
    "| pendown() | pd()/down() | 펜 내리기 |\n",
    "| penup() | pu()/up() | 펜 들기 |\n",
    "| showturtle() | st() | 거북이 보이기 |\n",
    "| hideturtle() | ht() | 거북이 숨기기 |\n",
    "\n"
   ]
  },
  {
   "cell_type": "markdown",
   "id": "d26e1be0",
   "metadata": {},
   "source": [
    "## 단순 반복"
   ]
  },
  {
   "cell_type": "markdown",
   "id": "36b51161",
   "metadata": {},
   "source": [
    "아래 명령문은 정사각형을 그린다.\n",
    "\n",
    "```python\n",
    "bob.fd(100)\n",
    "bob.lt(90)\n",
    "\n",
    "bob.fd(100)\n",
    "bob.lt(90)\n",
    "\n",
    "bob.fd(100)\n",
    "bob.lt(90)\n",
    "\n",
    "bob.fd(100)\n",
    "bob.lt(90)\n",
    "```"
   ]
  },
  {
   "cell_type": "markdown",
   "id": "33102a0a",
   "metadata": {},
   "source": [
    "하지만 다음과 같이 `for` 반복문을 이용하면 보다 효율적인 코드를 얻는다.\n",
    "\n",
    "```python\n",
    "for i in range(4):\n",
    "    bob.fd(100)\n",
    "    bob.lt(90)\n",
    "```"
   ]
  },
  {
   "cell_type": "markdown",
   "id": "021ccb65",
   "metadata": {},
   "source": [
    "## 캡슐화와 일반화"
   ]
  },
  {
   "cell_type": "markdown",
   "id": "8f4d92c3",
   "metadata": {},
   "source": [
    "프로그램을 구현에 가장 필수적인 요소는 \n",
    "**캡슐화**<font size=\"2\">encapsulation</font>와 \n",
    "**일반화**<font size=\"2\">generalization</font>이다.\n",
    "\n",
    "1. 함수를 사용하지 않는 간단한 프로그램 작성\n",
    "1. (캡슐화) 작성한 프로그램이 잘 작동하면 변수에 의존하지 않는 부분을 함수로 감싸 하나의 캡슐처럼 만든다.\n",
    "1. (일반화) 함수에 적절한 매개변수<font size='2'>parameter</font>를 \n",
    "    추가하여 함수가 보다 다양한 기능을 갖도록 한다.\n",
    "1. 원하는 수준의 함수를 얻을 때까지 위 과정을 반복한다.\n",
    "1. (리팩토링) 프로그램에서 중복되는 부분을 캡슐화하여 함수로 만들 수 있는지 잘 살펴본다."
   ]
  },
  {
   "cell_type": "markdown",
   "id": "2db0e62d",
   "metadata": {},
   "source": [
    "앞서 다룬 코드에서 출발하여 캡슐화와 일반화를 연습한다. "
   ]
  },
  {
   "cell_type": "markdown",
   "id": "3a7caaa5",
   "metadata": {},
   "source": [
    "## 캡슐화"
   ]
  },
  {
   "cell_type": "markdown",
   "id": "47730339",
   "metadata": {},
   "source": [
    "거북이를 지정해서 사각형을 그리도록 하는 함수는 다음과 같다.\n",
    "\n",
    "```python\n",
    "def square(t):\n",
    "    for i in range(4):\n",
    "        t.fd(100)\n",
    "        t.lt(90)\n",
    "```\n",
    "\n",
    "그러면 `square()` 함수를 `bob` 과 함께 호출하면 `bob` 지정된 크기의 정사각형을 그린다.\n",
    "\n",
    "```\n",
    "square(bob)\n",
    "```"
   ]
  },
  {
   "cell_type": "markdown",
   "id": "de04d971",
   "metadata": {},
   "source": [
    "<div align=\"center\" border=\"1px\"><img src=\"https://raw.githubusercontent.com/codingalzi/pybook/master/jupyter-book/images/turtle02.png\" width=\"300\"/></div>"
   ]
  },
  {
   "cell_type": "markdown",
   "id": "aac6f6c5",
   "metadata": {},
   "source": [
    "다른 거북이를 지정하면 해당 거북이가 정사각형을 그린다.\n",
    "\n",
    "```python\n",
    "alice = turtle.Turtle()\n",
    "square(alice)\n",
    "```"
   ]
  },
  {
   "cell_type": "markdown",
   "id": "4cdfaa50",
   "metadata": {},
   "source": [
    "## 일반화"
   ]
  },
  {
   "cell_type": "markdown",
   "id": "d00b7717",
   "metadata": {},
   "source": [
    "**길이 매개변수 추가**\n",
    "\n",
    "정사각형의 길이를 지정할 수 있도록 하기위해 `length` 매개변수를 추가한다.\n",
    "위 함수와 다른 점은 한 변의 길이를 나타냈던 100 대신에 `length` 매개변수를 사용한다는 것 뿐이다.\n",
    "\n",
    "```python\n",
    "def square(t, length):\n",
    "    for i in range(4):\n",
    "        t.fd(length)\n",
    "        t.lt(90)\n",
    "```\n",
    "\n",
    "그러면 다양한 크기의 정사각형을 그릴 수 있다.\n",
    "\n",
    "```python\n",
    "square(bob, 100)\n",
    "square(bob, 50)\n",
    "```"
   ]
  },
  {
   "cell_type": "markdown",
   "id": "c9361707",
   "metadata": {},
   "source": [
    "**다각형 그리기**\n",
    "\n",
    "다각형을 그리는 함수는 거북이와 길이를 지정하는 매개변수 이외의 몇 각형인가를 결정하는\n",
    "매개변수도 필요하다.\n",
    "다음 `polygon()` 함수가 `square()` 함수를 일반화한다."
   ]
  },
  {
   "cell_type": "markdown",
   "id": "cd3ea483",
   "metadata": {},
   "source": [
    "```python\n",
    "def polygon(t, n, length):\n",
    "    angle = 360 / n\n",
    "    for i in range(n):\n",
    "        t.fd(length)\n",
    "        t.lt(angle)\n",
    "```\n",
    "\n",
    "다음은 정7각형을 그린다.\n",
    "\n",
    "```python\n",
    "polygon(bob, 7, 70)\n",
    "```"
   ]
  },
  {
   "cell_type": "markdown",
   "id": "fe00b7bb",
   "metadata": {},
   "source": [
    "<div align=\"center\" border=\"1px\"><img src=\"https://raw.githubusercontent.com/codingalzi/pybook/master/jupyter-book/images/turtle03.png\" width=\"300\"/></div>"
   ]
  },
  {
   "cell_type": "markdown",
   "id": "7af6d006",
   "metadata": {},
   "source": [
    "**키워드 인자 활용**\n",
    "\n",
    "만약에 기본적으로 한 변의 길이가 70인 정7각을 그리고 경우에 따라 다른 값을 사용하고자 한다면\n",
    "`n=7` 과 `length=70` 을 키워드 인자로 지정하면 된다.\n",
    "\n",
    "```python\n",
    "def polygon(t, n=7, length=70):\n",
    "    angle = 360 / n\n",
    "    for i in range(n):\n",
    "        t.fd(length)\n",
    "        t.lt(angle)\n",
    "```\n",
    "\n",
    "그러면 `n` 과 `length` 에 대한 값을 지정하지 않아도 동일한 정7각형을 얻는다.\n",
    "\n",
    "```python\n",
    "polygon(bob)\n",
    "```"
   ]
  },
  {
   "cell_type": "markdown",
   "id": "02034838",
   "metadata": {},
   "source": [
    "## 인터페이스 디자인"
   ]
  },
  {
   "cell_type": "markdown",
   "id": "4d4281e2",
   "metadata": {},
   "source": [
    "The next step is to write circle, which takes a radius, r, as a parameter. Here is a simple solution that uses polygon to draw a 50-sided polygon:\n",
    "\n",
    "```python\n",
    "import math\n",
    "\n",
    "def circle(t, r):\n",
    "    circumference = 2 * math.pi * r\n",
    "    n = 50\n",
    "    length = circumference / n\n",
    "    polygon(t, n, length)\n",
    "```"
   ]
  },
  {
   "cell_type": "markdown",
   "id": "d2b4cf1e",
   "metadata": {},
   "source": [
    "The first line computes the circumference of a circle with radius r using the formula 2 π r. Since we use math.pi, we have to import math. By convention, import statements are usually at the beginning of the script.\n",
    "\n",
    "n is the number of line segments in our approximation of a circle, so length is the length of each segment. Thus, polygon draws a 50-sided polygon that approximates a circle with radius r.\n",
    "\n",
    "One limitation of this solution is that n is a constant, which means that for very big circles, the line segments are too long, and for small circles, we waste time drawing very small segments. One solution would be to generalize the function by taking n as a parameter. This would give the user (whoever calls circle) more control, but the interface would be less clean."
   ]
  },
  {
   "cell_type": "markdown",
   "id": "035ac51d",
   "metadata": {},
   "source": [
    "The interface of a function is a summary of how it is used: what are the parameters? What does the function do? And what is the return value? An interface is “clean” if it allows the caller to do what they want without dealing with unnecessary details.\n",
    "\n",
    "In this example, r belongs in the interface because it specifies the circle to be drawn. n is less appropriate because it pertains to the details of how the circle should be rendered.\n",
    "\n",
    "Rather than clutter up the interface, it is better to choose an appropriate value of n depending on circumference:"
   ]
  },
  {
   "cell_type": "markdown",
   "id": "5616f4b6",
   "metadata": {},
   "source": [
    "```python\n",
    "def circle(t, r):\n",
    "    circumference = 2 * math.pi * r\n",
    "    n = int(circumference / 3) + 3\n",
    "    length = circumference / n\n",
    "    polygon(t, n, length)\n",
    "```"
   ]
  },
  {
   "cell_type": "markdown",
   "id": "7418245b",
   "metadata": {},
   "source": [
    "Now the number of segments is an integer near circumference/3, so the length of each segment is approximately 3, which is small enough that the circles look good, but big enough to be efficient, and acceptable for any size circle.\n",
    "\n",
    "Adding 3 to n guarantees that the polygon has at least 3 sides."
   ]
  },
  {
   "cell_type": "markdown",
   "id": "70899250",
   "metadata": {},
   "source": [
    "## 4.7  Refactoring"
   ]
  },
  {
   "cell_type": "markdown",
   "id": "9273d1a3",
   "metadata": {},
   "source": [
    "When I wrote circle, I was able to re-use polygon because a many-sided polygon is a good approximation of a circle. But arc is not as cooperative; we can’t use polygon or circle to draw an arc.\n",
    "\n",
    "One alternative is to start with a copy of polygon and transform it into arc. The result might look like this:"
   ]
  },
  {
   "cell_type": "markdown",
   "id": "7bfbb5ce",
   "metadata": {},
   "source": [
    "```python\n",
    "def arc(t, r, angle):\n",
    "    arc_length = 2 * math.pi * r * angle / 360\n",
    "    n = int(arc_length / 3) + 1\n",
    "    step_length = arc_length / n\n",
    "    step_angle = angle / n\n",
    "    \n",
    "    for i in range(n):\n",
    "        t.fd(step_length)\n",
    "        t.lt(step_angle)\n",
    "```"
   ]
  },
  {
   "cell_type": "markdown",
   "id": "caf4d6e7",
   "metadata": {},
   "source": [
    "The second half of this function looks like polygon, but we can’t re-use polygon without changing the interface. We could generalize polygon to take an angle as a third argument, but then polygon would no longer be an appropriate name! Instead, let’s call the more general function polyline:"
   ]
  },
  {
   "cell_type": "markdown",
   "id": "d2a40fd9",
   "metadata": {},
   "source": [
    "```python\n",
    "def polyline(t, n, length, angle):\n",
    "    for i in range(n):\n",
    "        t.fd(length)\n",
    "        t.lt(angle)\n",
    "```"
   ]
  },
  {
   "cell_type": "markdown",
   "id": "7d7fc85e",
   "metadata": {},
   "source": [
    "Now we can rewrite polygon and arc to use polyline:\n",
    "\n",
    "```python\n",
    "def polygon(t, n, length):\n",
    "    angle = 360.0 / n\n",
    "    polyline(t, n, length, angle)\n",
    "\n",
    "def arc(t, r, angle):\n",
    "    arc_length = 2 * math.pi * r * angle / 360\n",
    "    n = int(arc_length / 3) + 1\n",
    "    step_length = arc_length / n\n",
    "    step_angle = float(angle) / n\n",
    "    polyline(t, n, step_length, step_angle)\n",
    "```"
   ]
  },
  {
   "cell_type": "markdown",
   "id": "0b12c274",
   "metadata": {},
   "source": [
    "Finally, we can rewrite circle to use arc:\n",
    "\n",
    "```python\n",
    "def circle(t, r):\n",
    "    arc(t, r, 360)\n",
    "```"
   ]
  },
  {
   "cell_type": "markdown",
   "id": "f8e5fb18",
   "metadata": {},
   "source": [
    "This process—rearranging a program to improve interfaces and facilitate code re-use—is called refactoring. In this case, we noticed that there was similar code in arc and polygon, so we “factored it out” into polyline.\n",
    "\n",
    "If we had planned ahead, we might have written polyline first and avoided refactoring, but often you don’t know enough at the beginning of a project to design all the interfaces. Once you start coding, you understand the problem better. Sometimes refactoring is a sign that you have learned something."
   ]
  },
  {
   "cell_type": "markdown",
   "id": "c045b266",
   "metadata": {},
   "source": [
    "# 4.9  docstring"
   ]
  },
  {
   "cell_type": "markdown",
   "id": "a99985c3",
   "metadata": {},
   "source": [
    "A docstring is a string at the beginning of a function that explains the interface (“doc” is short for “documentation”). Here is an example:"
   ]
  },
  {
   "cell_type": "markdown",
   "id": "59465899",
   "metadata": {},
   "source": [
    "```python\n",
    "def polyline(t, n, length, angle):\n",
    "    \"\"\"Draws n line segments with the given length and\n",
    "    angle (in degrees) between them.  t is a turtle.\n",
    "    \"\"\"    \n",
    "    for i in range(n):\n",
    "        t.fd(length)\n",
    "        t.lt(angle)\n",
    "```"
   ]
  },
  {
   "cell_type": "markdown",
   "id": "e3b132ba",
   "metadata": {},
   "source": [
    "By convention, all docstrings are triple-quoted strings, also known as multiline strings because the triple quotes allow the string to span more than one line.\n",
    "\n",
    "It is terse, but it contains the essential information someone would need to use this function. It explains concisely what the function does (without getting into the details of how it does it). It explains what effect each parameter has on the behavior of the function and what type each parameter should be (if it is not obvious).\n",
    "\n",
    "Writing this kind of documentation is an important part of interface design. A well-designed interface should be simple to explain; if you have a hard time explaining one of your functions, maybe the interface could be improved."
   ]
  },
  {
   "cell_type": "markdown",
   "id": "ee218f21",
   "metadata": {},
   "source": [
    "## 4.10  Debugging"
   ]
  },
  {
   "cell_type": "markdown",
   "id": "43bbc127",
   "metadata": {},
   "source": [
    "An interface is like a contract between a function and a caller. The caller agrees to provide certain parameters and the function agrees to do certain work.\n",
    "\n",
    "For example, polyline requires four arguments: t has to be a Turtle; n has to be an integer; length should be a positive number; and angle has to be a number, which is understood to be in degrees.\n",
    "\n",
    "These requirements are called preconditions because they are supposed to be true before the function starts executing. Conversely, conditions at the end of the function are postconditions. Postconditions include the intended effect of the function (like drawing line segments) and any side effects (like moving the Turtle or making other changes).\n",
    "\n",
    "Preconditions are the responsibility of the caller. If the caller violates a (properly documented!) precondition and the function doesn’t work correctly, the bug is in the caller, not the function.\n",
    "\n",
    "If the preconditions are satisfied and the postconditions are not, the bug is in the function. If your pre- and postconditions are clear, they can help with debugging."
   ]
  },
  {
   "cell_type": "markdown",
   "id": "57187d6c",
   "metadata": {},
   "source": [
    "## 4.12  Exercises"
   ]
  },
  {
   "cell_type": "markdown",
   "id": "963a7f6b",
   "metadata": {},
   "source": [
    "**문제 1**"
   ]
  },
  {
   "cell_type": "markdown",
   "id": "b12cf8d7",
   "metadata": {},
   "source": [
    "Download the code in this chapter from http://thinkpython2.com/code/polygon.py.\n",
    "\n",
    "1. Draw a stack diagram that shows the state of the program while executing circle(bob, radius). You can do the arithmetic by hand or add print statements to the code.\n",
    "\n",
    "1. The version of arc in Section 4.7 is not very accurate because the linear approximation of the circle is always outside the true circle. As a result, the Turtle ends up a few pixels away from the correct destination. My solution shows a way to reduce the effect of this error. Read the code and see if it makes sense to you. If you draw a diagram, you might see how it works.\n",
    "\n",
    "Figure 4.1: Turtle flowers."
   ]
  },
  {
   "cell_type": "markdown",
   "id": "91d8deaf",
   "metadata": {},
   "source": [
    "**문제 2**"
   ]
  },
  {
   "cell_type": "markdown",
   "id": "3896ca43",
   "metadata": {},
   "source": [
    "Write an appropriately general set of functions that can draw flowers as in Figure 4.1.\n",
    "\n",
    "Solution: http://thinkpython2.com/code/flower.py, also requires http://thinkpython2.com/code/polygon.py.\n",
    "\n",
    "\n",
    "Figure 4.2: Turtle pies."
   ]
  },
  {
   "cell_type": "markdown",
   "id": "9886c8c3",
   "metadata": {},
   "source": [
    "**문제 3**"
   ]
  },
  {
   "cell_type": "markdown",
   "id": "61221e62",
   "metadata": {},
   "source": [
    "Write an appropriately general set of functions that can draw shapes as in Figure 4.2.\n",
    "\n",
    "Solution: http://thinkpython2.com/code/pie.py."
   ]
  },
  {
   "cell_type": "markdown",
   "id": "cc4c2262",
   "metadata": {},
   "source": [
    "**문제 4**"
   ]
  },
  {
   "cell_type": "markdown",
   "id": "61e1c5b8",
   "metadata": {},
   "source": [
    "The letters of the alphabet can be constructed from a moderate number of basic elements, like vertical and horizontal lines and a few curves. Design an alphabet that can be drawn with a minimal number of basic elements and then write functions that draw the letters.\n",
    "\n",
    "You should write one function for each letter, with names draw_a, draw_b, etc., and put your functions in a file named letters.py. You can download a “turtle typewriter” from http://thinkpython2.com/code/typewriter.py to help you test your code.\n",
    "\n",
    "You can get a solution from http://thinkpython2.com/code/letters.py; it also requires http://thinkpython2.com/code/polygon.py."
   ]
  },
  {
   "cell_type": "markdown",
   "id": "ded0cb5a",
   "metadata": {},
   "source": [
    "**문제 6**"
   ]
  },
  {
   "cell_type": "markdown",
   "id": "a14a9945",
   "metadata": {},
   "source": [
    "Read about spirals at http://en.wikipedia.org/wiki/Spiral; then write a program that draws an Archimedian spiral (or one of the other kinds). Solution: http://thinkpython2.com/code/spiral.py.\n",
    "\n",
    "Buy this book at Amazon.com"
   ]
  }
 ],
 "metadata": {
  "kernelspec": {
   "display_name": "Python 3 (ipykernel)",
   "language": "python",
   "name": "python3"
  },
  "language_info": {
   "codemirror_mode": {
    "name": "ipython",
    "version": 3
   },
   "file_extension": ".py",
   "mimetype": "text/x-python",
   "name": "python",
   "nbconvert_exporter": "python",
   "pygments_lexer": "ipython3",
   "version": "3.9.7"
  }
 },
 "nbformat": 4,
 "nbformat_minor": 5
}