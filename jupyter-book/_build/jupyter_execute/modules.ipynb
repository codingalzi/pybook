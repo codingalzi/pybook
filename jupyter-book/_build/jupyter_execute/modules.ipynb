{
 "cells": [
  {
   "cell_type": "markdown",
   "metadata": {},
   "source": [
    "(sec:module)=\n",
    "## 모듈"
   ]
  },
  {
   "cell_type": "markdown",
   "metadata": {},
   "source": [
    "한 번 구현한 파이썬 코드를 다른 파이썬 파일의 코드에서 공유해서 사용할 수 있도록 하기 위해 \n",
    "**모듈**<font size='2'>module</font>을 활용한다.\n",
    "파이썬 모듈은 간단하게 말하면 하나의 파이썬 소스코드 파일이며, 확장자로 `.py` 가 사용된다.\n",
    "모듈에는 보통 서로 연관된 함수와 클래스 등을 저장한다. \n",
    "\n",
    "예를 들어 `math` 모듈은 다양한 수학 함수를,\n",
    "`random` 모듈은 무작위수 계산과 관련된 많은 함수를,\n",
    "`turtle` 모듈은 간단한 그래픽 관련 함수와 클래스를 제공한다."
   ]
  },
  {
   "cell_type": "markdown",
   "metadata": {},
   "source": [
    "하나의 모듈이 독립적으로 제공되기도 하지만 다른 모듈과 함께 하나의 모음집으로 제공되기도 한다.\n",
    "모음집의 크기와 용도에 따라 패키지, 라이브러리, 프레임워크 등 다양한 이름으로 불린다. "
   ]
  },
  {
   "cell_type": "markdown",
   "metadata": {},
   "source": [
    "### 모듈 불러오기"
   ]
  },
  {
   "cell_type": "markdown",
   "metadata": {},
   "source": [
    "예를 들어, `math` 모듈을 활용하는 방식은 다음과 같다."
   ]
  },
  {
   "cell_type": "markdown",
   "metadata": {},
   "source": [
    "**방식 1: `import ...`**"
   ]
  },
  {
   "cell_type": "markdown",
   "metadata": {},
   "source": [
    "먼저 `math` 모듈 불러온 다음에 모듈에 포함된 임의의 함수를 사용한다."
   ]
  },
  {
   "cell_type": "code",
   "execution_count": 1,
   "metadata": {},
   "outputs": [],
   "source": [
    "import math"
   ]
  },
  {
   "cell_type": "markdown",
   "metadata": {},
   "source": [
    "`log()` 함수를 호출하려면 다음처럼 모듈과 함수를 점(`.`)으로 구분해서 함께 사용한다."
   ]
  },
  {
   "cell_type": "code",
   "execution_count": 2,
   "metadata": {},
   "outputs": [
    {
     "data": {
      "text/plain": [
       "0.6931471805599453"
      ]
     },
     "execution_count": 2,
     "metadata": {},
     "output_type": "execute_result"
    }
   ],
   "source": [
    "math.log(2)"
   ]
  },
  {
   "cell_type": "markdown",
   "metadata": {},
   "source": [
    "`sin()`, `cos()` 함수 사용법도 동일하다."
   ]
  },
  {
   "cell_type": "code",
   "execution_count": 3,
   "metadata": {},
   "outputs": [
    {
     "data": {
      "text/plain": [
       "0.8939966636005579"
      ]
     },
     "execution_count": 3,
     "metadata": {},
     "output_type": "execute_result"
    }
   ],
   "source": [
    "math.sin(90)"
   ]
  },
  {
   "cell_type": "code",
   "execution_count": 4,
   "metadata": {},
   "outputs": [
    {
     "data": {
      "text/plain": [
       "-0.4480736161291701"
      ]
     },
     "execution_count": 4,
     "metadata": {},
     "output_type": "execute_result"
    }
   ],
   "source": [
    "math.cos(90)"
   ]
  },
  {
   "cell_type": "markdown",
   "metadata": {},
   "source": [
    "원주율($\\pi$)과 오일러 상수($e$)도 제공된다."
   ]
  },
  {
   "cell_type": "code",
   "execution_count": 5,
   "metadata": {},
   "outputs": [
    {
     "data": {
      "text/plain": [
       "3.141592653589793"
      ]
     },
     "execution_count": 5,
     "metadata": {},
     "output_type": "execute_result"
    }
   ],
   "source": [
    "# 원주율\n",
    "\n",
    "math.pi"
   ]
  },
  {
   "cell_type": "code",
   "execution_count": 6,
   "metadata": {},
   "outputs": [
    {
     "data": {
      "text/plain": [
       "2.718281828459045"
      ]
     },
     "execution_count": 6,
     "metadata": {},
     "output_type": "execute_result"
    }
   ],
   "source": [
    "# 오일러 상수\n",
    "\n",
    "math.e"
   ]
  },
  {
   "cell_type": "markdown",
   "metadata": {},
   "source": [
    "**방식 2: `from ... import ...`**"
   ]
  },
  {
   "cell_type": "markdown",
   "metadata": {},
   "source": [
    "모듈에 포함된 특정 함수만 뽑아와서 사용할 수도 있다.\n",
    "그러려면 `from-import` 키워드를 사용한다.\n",
    "아래 코드는 `math` 모듈에 `log()` 함수와 `sin()` 함수 두 개만 불러온다."
   ]
  },
  {
   "cell_type": "code",
   "execution_count": 7,
   "metadata": {},
   "outputs": [],
   "source": [
    "from math import log, sin, pi"
   ]
  },
  {
   "cell_type": "markdown",
   "metadata": {},
   "source": [
    "이제 `log()`, `sin()` 두 함수는 독립적으로 사용된다."
   ]
  },
  {
   "cell_type": "code",
   "execution_count": 8,
   "metadata": {},
   "outputs": [
    {
     "data": {
      "text/plain": [
       "0.6931471805599453"
      ]
     },
     "execution_count": 8,
     "metadata": {},
     "output_type": "execute_result"
    }
   ],
   "source": [
    "log(2)"
   ]
  },
  {
   "cell_type": "code",
   "execution_count": 9,
   "metadata": {},
   "outputs": [
    {
     "data": {
      "text/plain": [
       "0.8939966636005579"
      ]
     },
     "execution_count": 9,
     "metadata": {},
     "output_type": "execute_result"
    }
   ],
   "source": [
    "sin(90)"
   ]
  },
  {
   "cell_type": "markdown",
   "metadata": {},
   "source": [
    "원주율도 독립적으로 사용이 가능하다."
   ]
  },
  {
   "cell_type": "code",
   "execution_count": 10,
   "metadata": {},
   "outputs": [
    {
     "data": {
      "text/plain": [
       "3.141592653589793"
      ]
     },
     "execution_count": 10,
     "metadata": {},
     "output_type": "execute_result"
    }
   ],
   "source": [
    "pi"
   ]
  },
  {
   "cell_type": "markdown",
   "metadata": {},
   "source": [
    "하지만 `cos()` 함수와 오일러 상수는 모듈 이름없이 독립적으로 사용할 수 없다."
   ]
  },
  {
   "cell_type": "markdown",
   "metadata": {},
   "source": [
    "```python\n",
    ">>> cos(90)\n",
    "NameError                                 Traceback (most recent call last)\n",
    "/tmp/ipykernel_305/157168676.py in <module>\n",
    "----> 1 cos(90)\n",
    "\n",
    "NameError: name 'cos' is not defined\n",
    "```"
   ]
  },
  {
   "cell_type": "markdown",
   "metadata": {},
   "source": [
    "아래 방식으로 `math` 모듈에 포함된 모든 함수, 클래스 등을 한꺼번에 불러올 수 있다.\n",
    "\n",
    "```python\n",
    "from math import *\n",
    "```\n",
    "\n",
    "하지만 이 방식은 권장되지 않는다. \n",
    "이유는 기존에 사용된 함수, 변수 등의 이름과 충돌이 발생할 수 있기 때문이다."
   ]
  },
  {
   "cell_type": "markdown",
   "metadata": {},
   "source": [
    ":::{admonition} 별표(`*`) 의 의미\n",
    ":class: tip\n",
    "\n",
    "파이썬 프로그래밍에서 별표(`*`)는 여러 의미를 갖는다.\n",
    "여기서는 모듈에 포함된 모든 것을 가리킨다.\n",
    ":::"
   ]
  },
  {
   "cell_type": "markdown",
   "metadata": {},
   "source": [
    "**방식 3: `import ... as ...`**"
   ]
  },
  {
   "cell_type": "markdown",
   "metadata": {},
   "source": [
    "모듈이나 패키지를 불러올 때 별칭을 지정하여 활용할 수 있다.\n",
    "많이 사용되는 모듈이나 패키지는 많은 사람들이 관습적으로 사용하는 별칭이 있다.\n",
    "`numpy` 패키지의 경우 보통 `np`로 부른다.\n",
    "\n",
    "별칭을 사용하는 방식은 다음과 같다."
   ]
  },
  {
   "cell_type": "code",
   "execution_count": 2,
   "metadata": {},
   "outputs": [],
   "source": [
    "import numpy as np"
   ]
  },
  {
   "cell_type": "markdown",
   "metadata": {},
   "source": [
    "넘파이 패키지에 `random` 모듈이 포함되어 있으며\n",
    "파이썬의 기본 라이브러리인 `random` 모듈보다 다양한 함수를 포함한다.\n",
    "예를 들어, `random` 모듈에 포함된 `random()` 함수는\n",
    "`[0, 1)` 구간내에서 균등 분포를 따르면서 임의의 값을 계산한다."
   ]
  },
  {
   "cell_type": "code",
   "execution_count": 8,
   "metadata": {},
   "outputs": [
    {
     "data": {
      "text/plain": [
       "0.7696406343106839"
      ]
     },
     "execution_count": 8,
     "metadata": {},
     "output_type": "execute_result"
    }
   ],
   "source": [
    "np.random.random()"
   ]
  },
  {
   "cell_type": "markdown",
   "metadata": {},
   "source": [
    "`np.random.random()` 함수는 `[0, 1)` 구간 내에서 균등하게 임의의 수를 선택하기에 \n",
    "선택된 수들의 평균값은 0.5 정도 된다.\n",
    "아래 코드는 선택을 1천번 했을 때 평균값이 0.5 정도임을 보여준다."
   ]
  },
  {
   "cell_type": "code",
   "execution_count": 12,
   "metadata": {},
   "outputs": [
    {
     "data": {
      "text/plain": [
       "0.5249066944225234"
      ]
     },
     "execution_count": 12,
     "metadata": {},
     "output_type": "execute_result"
    }
   ],
   "source": [
    "sum = 0\n",
    "count = 0\n",
    "\n",
    "while count < 1000:\n",
    "    sum += np.random.random()\n",
    "    count += 1\n",
    "    \n",
    "sum/1000"
   ]
  },
  {
   "cell_type": "markdown",
   "metadata": {},
   "source": [
    "패키지나 모듈을 불러올 때 별칭을 지정하면 반드시 별칭으로 사용해야 한다.\n",
    "그렇지 않으면 오류가 발생한다."
   ]
  },
  {
   "cell_type": "markdown",
   "metadata": {},
   "source": [
    "```python\n",
    ">>> numpy.random.random()\n",
    "NameError                                 Traceback (most recent call last)\n",
    "/tmp/ipykernel_3215/3003934882.py in <module>\n",
    "----> 1 numpy.random.random()\n",
    "\n",
    "NameError: name 'numpy' is not defined\n",
    "```"
   ]
  },
  {
   "cell_type": "markdown",
   "metadata": {},
   "source": [
    "`numpy.random` 도 하나의 모듈이기에 그 안에 포함된 `random()` 함수만 따로 불러올 수 있다."
   ]
  },
  {
   "cell_type": "code",
   "execution_count": 13,
   "metadata": {},
   "outputs": [],
   "source": [
    "from numpy.random import random"
   ]
  },
  {
   "cell_type": "markdown",
   "metadata": {},
   "source": [
    "그러면 `random()` 함수를 바로 호출할 수 있다."
   ]
  },
  {
   "cell_type": "code",
   "execution_count": 14,
   "metadata": {},
   "outputs": [
    {
     "data": {
      "text/plain": [
       "0.046082386736983505"
      ]
     },
     "execution_count": 14,
     "metadata": {},
     "output_type": "execute_result"
    }
   ],
   "source": [
    "random()"
   ]
  },
  {
   "cell_type": "markdown",
   "metadata": {},
   "source": [
    ":::{admonition} `numpy.random` 모듈과 `numpy.ranom.random()` 함수\n",
    ":class: warning\n",
    "\n",
    "함수와 모듈이 이름이 동일하지만 함수와 모듈은 당연히 다른 객체이다.\n",
    "여기서는 함수 이름에 항상 소괄호 `()`를 의도적으로 붙여서 함수임을 강조한다.\n",
    ":::"
   ]
  },
  {
   "cell_type": "markdown",
   "metadata": {},
   "source": [
    "**클래스 불러오기**"
   ]
  },
  {
   "cell_type": "markdown",
   "metadata": {},
   "source": [
    "{ref}`ch:casestudy-function-interface`에서 소개한 `turtle` 모듈을 \n",
    "이용한 그래픽은 기본적으로 `Screen`, `Turtle` 두 개의 클래스를 사용한다. \n",
    "`Screen()` 과 `Turtle()` 각각 두 클래스의 인스턴스(객체), \n",
    "즉 하나의 스크린(캔버스) 객체와 하나의 거북이 객체를 생성한다."
   ]
  },
  {
   "cell_type": "markdown",
   "metadata": {},
   "source": [
    "```python\n",
    "from turtle import Screen, Turtle\n",
    "\n",
    "wn = Screen()    # 스크린(캔버스) 객체 생성\n",
    "bob = Turtle()   # 거북이 객체 생성\n",
    "\n",
    "bob.forward(150) # 스크린 위에서 거북이를 150만큼 전진시키기\n",
    "...\n",
    "```"
   ]
  },
  {
   "cell_type": "markdown",
   "metadata": {},
   "source": [
    "클래스와 인스턴스에 대한 이야기는 \n",
    "{numref}`%s장 <ch:oop>` {ref}`ch:oop`에서 자세히 다룬다.\n",
    "여기서는 인스턴스(객체)를 해당 클래스를 자료형으로 갖는 값 정도로 이해하면 된다."
   ]
  },
  {
   "cell_type": "markdown",
   "metadata": {},
   "source": [
    ":::{admonition} 클래스의 인스턴스 생성\n",
    ":class: info\n",
    "\n",
    "`Turtle` 클래스의 인스턴스(객체)를 생성할 때 `Turtle()` 처럼 마치 하나의 함수를 호출하듯이 표현한다.\n",
    "그러면 실제로는 `__init__()` 라는 생성자 함수가 실행되어 해당 클래스의 객체가\n",
    "하나 생성되어 반환된다.\n",
    "클래스는 보통 대문자로 시작하기에 함수 호출과도 쉽게 구분된다.\n",
    ":::"
   ]
  },
  {
   "cell_type": "markdown",
   "metadata": {},
   "source": [
    "## 필수 예제 "
   ]
  },
  {
   "cell_type": "markdown",
   "metadata": {},
   "source": [
    "참고: [(필수 예제) 모듈](https://colab.research.google.com/github/codingalzi/pybook/blob/master/examples/examples-modules.ipynb)"
   ]
  },
  {
   "cell_type": "markdown",
   "metadata": {},
   "source": [
    "## 연습문제 "
   ]
  },
  {
   "cell_type": "markdown",
   "metadata": {},
   "source": [
    "참고: [(연습) 모듈](https://colab.research.google.com/github/codingalzi/pybook/blob/master/practices/practice-modules.ipynb)"
   ]
  }
 ],
 "metadata": {
  "kernelspec": {
   "display_name": "Python 3 (ipykernel)",
   "language": "python",
   "name": "python3"
  },
  "language_info": {
   "codemirror_mode": {
    "name": "ipython",
    "version": 3
   },
   "file_extension": ".py",
   "mimetype": "text/x-python",
   "name": "python",
   "nbconvert_exporter": "python",
   "pygments_lexer": "ipython3",
   "version": "3.11.4"
  },
  "vscode": {
   "interpreter": {
    "hash": "6c86b3592b6800d985c04531f2c445f0fa6967131b8dd6395a925f7622e55602"
   }
  }
 },
 "nbformat": 4,
 "nbformat_minor": 1
}