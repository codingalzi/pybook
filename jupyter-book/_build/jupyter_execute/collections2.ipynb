{
 "cells": [
  {
   "cell_type": "markdown",
   "id": "97dde457",
   "metadata": {},
   "source": [
    "(ch:collections2)=\n",
    "# 모음 자료형 2부"
   ]
  },
  {
   "cell_type": "markdown",
   "id": "74d748ee",
   "metadata": {},
   "source": [
    "집합과 사전 두 개의 비순차 자료형을 살펴본다."
   ]
  },
  {
   "cell_type": "markdown",
   "id": "6dbee952-5a30-4f46-a730-26fa9cad2e11",
   "metadata": {},
   "source": [
    "## 집합"
   ]
  },
  {
   "cell_type": "markdown",
   "id": "c4c57e50-6fcd-4e6e-8dc5-36c15b7460ea",
   "metadata": {},
   "source": [
    "집합 자료형은 수학에서 다루는 집합과 비슷한 자료형으로 형식은 아래와 같다.  \n",
    "\n",
    "`{항목1, 항목2, 항목3, ..., 항목n}`\n",
    "\n",
    "집합은 항목의 중복을 허용하지 않고, 항목들 사이의 순서는 무시된다. \n",
    "따라서 인덱싱이나 슬라이싱을 지원하지 않는다."
   ]
  },
  {
   "cell_type": "code",
   "execution_count": 1,
   "id": "1d3e0ee5-9ea7-455f-9cc7-f2242f3b79a5",
   "metadata": {},
   "outputs": [
    {
     "data": {
      "text/plain": [
       "{4, 9.2, True, 'apple'}"
      ]
     },
     "execution_count": 1,
     "metadata": {},
     "output_type": "execute_result"
    }
   ],
   "source": [
    "a_set = {4, 9.2, \"apple\", True, 4}\n",
    "a_set"
   ]
  },
  {
   "cell_type": "markdown",
   "id": "fd30e27e",
   "metadata": {},
   "source": [
    "집합의 원소는 모두 불변 자료형이어야 한다. 예를 들어 리스트는 집합의 원소가 될 수 없다. \n",
    "\n",
    "```python\n",
    ">>> {[1, 3], 4}\n",
    "TypeError                                 Traceback (most recent call last)\n",
    "/tmp/ipykernel_1817/2739416386.py in <module>\n",
    "----> 1 {[1, 3], 4}\n",
    "\n",
    "TypeError: unhashable type: 'list'\n",
    "```"
   ]
  },
  {
   "cell_type": "markdown",
   "id": "95b07054-ea60-497e-8a96-eb925b1b59a2",
   "metadata": {},
   "source": [
    "**공집합**\n",
    "\n",
    "공집합<font size = \"2\">empty set</font>은 아무것도 포함하지 않는 집합을 의미한다. \n",
    "공공집합를 만드는 방법은 아래와 같다. "
   ]
  },
  {
   "cell_type": "code",
   "execution_count": 2,
   "id": "6a93e932-1f05-4d84-b461-b689187fafb0",
   "metadata": {},
   "outputs": [
    {
     "data": {
      "text/plain": [
       "set()"
      ]
     },
     "execution_count": 2,
     "metadata": {},
     "output_type": "execute_result"
    }
   ],
   "source": [
    "empty_set = set()\n",
    "empty_set"
   ]
  },
  {
   "cell_type": "markdown",
   "id": "c7a538a6-1d42-4f89-96d0-8c231a2e3bca",
   "metadata": {},
   "source": [
    ":::{admonition} 주의  \n",
    ":class: caution  \n",
    "\n",
    "빈 집합을 만들 때는 `set()`을 사용해야 한다. `{}`은 이어서 소개할 \n",
    "빈 사전<font size=\"2\">empty dictionary</font>이다. \n",
    "\n",
    "```python\n",
    ">>> a = {}\n",
    ">>> type(a)\n",
    "dict\n",
    "```\n",
    ":::"
   ]
  },
  {
   "cell_type": "markdown",
   "id": "d87ed4da",
   "metadata": {},
   "source": [
    "### 집합 연산"
   ]
  },
  {
   "cell_type": "markdown",
   "id": "6d420a55-c41c-4a58-94cd-472bf0537065",
   "metadata": {},
   "source": [
    "**`in` 연산자**\n",
    "\n",
    "집합의 항목(원소)으로 등장하는지 여부를 알려주는 논리 연산자다."
   ]
  },
  {
   "cell_type": "code",
   "execution_count": 3,
   "id": "17cb28cc-42d0-4546-a4c0-3c43b1308f71",
   "metadata": {},
   "outputs": [
    {
     "data": {
      "text/plain": [
       "True"
      ]
     },
     "execution_count": 3,
     "metadata": {},
     "output_type": "execute_result"
    }
   ],
   "source": [
    "1 in {1, 2, 3, 9, 4}"
   ]
  },
  {
   "cell_type": "code",
   "execution_count": 4,
   "id": "7f0fccfb-fcc8-4dfe-91f4-765c8ae27916",
   "metadata": {},
   "outputs": [
    {
     "data": {
      "text/plain": [
       "True"
      ]
     },
     "execution_count": 4,
     "metadata": {},
     "output_type": "execute_result"
    }
   ],
   "source": [
    "'a' not in {1, 'b', True, 9}"
   ]
  },
  {
   "cell_type": "markdown",
   "id": "d00d1a9b-fe0e-4a5c-bad5-8ecde3a45158",
   "metadata": {},
   "source": [
    "**합집합, 교집합, 차집합, 부분집합**\n",
    "\n",
    "합집합, 교집합, 차집합 계산과 부분집합 여부 등을 확인하는 연산은 \n",
    "수학에서 사용되는 개념과 동일하게 작동한다.\n",
    "반면에 덧셈과 곱셈 연산자는 지원되지 않는다."
   ]
  },
  {
   "cell_type": "markdown",
   "id": "7d36f79b-7ac5-4dee-9b3d-b4cdfff555a8",
   "metadata": {},
   "source": [
    "|연산자|설명|예시|실행결과|\n",
    "|:----------:|:----------:|:----------:|:----------:|\n",
    "|`\\|`|합집합|`{1, 2} \\| {2, 4}`|`{1, 2, 4}`|\n",
    "|`&`|교집합|`{1, 2} & {2, 4}`|`{2}`|\n",
    "|`-`|차집합|`{1, 2} - {2, 4}`|`{1}`|\n",
    "|`<=`|부분집합 여부|`{1, 2} <= {2, 4}`|`False`|"
   ]
  },
  {
   "cell_type": "code",
   "execution_count": 5,
   "id": "71b59f4a-d2c7-4b93-9a71-0244f5557b6e",
   "metadata": {},
   "outputs": [
    {
     "data": {
      "text/plain": [
       "{1, 2, 3, 4, 5, 6}"
      ]
     },
     "execution_count": 5,
     "metadata": {},
     "output_type": "execute_result"
    }
   ],
   "source": [
    "{1, 2, 3, 4, 5} | {2, 4, 6}"
   ]
  },
  {
   "cell_type": "code",
   "execution_count": 6,
   "id": "963d1528-1106-4913-b099-6b0509a228ca",
   "metadata": {},
   "outputs": [
    {
     "data": {
      "text/plain": [
       "{2, 4}"
      ]
     },
     "execution_count": 6,
     "metadata": {},
     "output_type": "execute_result"
    }
   ],
   "source": [
    "{1, 2, 3, 4, 5} & {2, 4, 6}"
   ]
  },
  {
   "cell_type": "code",
   "execution_count": 7,
   "id": "3c484ccc-3cc5-4561-8ded-1a6cc87eb16d",
   "metadata": {},
   "outputs": [
    {
     "data": {
      "text/plain": [
       "{1, 3, 5}"
      ]
     },
     "execution_count": 7,
     "metadata": {},
     "output_type": "execute_result"
    }
   ],
   "source": [
    "{1, 2, 3, 4, 5} - {2, 4, 6}"
   ]
  },
  {
   "cell_type": "code",
   "execution_count": 8,
   "id": "14687b30-1dc3-4180-a849-65a1b7b93dfd",
   "metadata": {},
   "outputs": [
    {
     "data": {
      "text/plain": [
       "False"
      ]
     },
     "execution_count": 8,
     "metadata": {},
     "output_type": "execute_result"
    }
   ],
   "source": [
    "{1, 2, 3, 4, 5} <= {2, 4, 6}"
   ]
  },
  {
   "cell_type": "code",
   "execution_count": 9,
   "id": "e3c458ac-9d73-4ed5-a73b-b6afb8a80600",
   "metadata": {},
   "outputs": [
    {
     "data": {
      "text/plain": [
       "True"
      ]
     },
     "execution_count": 9,
     "metadata": {},
     "output_type": "execute_result"
    }
   ],
   "source": [
    "{1, 2} <= {1, 2, 3, 4, 5}"
   ]
  },
  {
   "cell_type": "markdown",
   "id": "ed1eda65",
   "metadata": {},
   "source": [
    "**`len()` 함수**\n",
    "\n",
    "집합에 포함된 항목의 개수를 반환한다."
   ]
  },
  {
   "cell_type": "code",
   "execution_count": 10,
   "id": "d4c60489",
   "metadata": {},
   "outputs": [
    {
     "data": {
      "text/plain": [
       "5"
      ]
     },
     "execution_count": 10,
     "metadata": {},
     "output_type": "execute_result"
    }
   ],
   "source": [
    "len({1, 3, 5, 7, 9})"
   ]
  },
  {
   "cell_type": "markdown",
   "id": "41e0d9c1",
   "metadata": {},
   "source": [
    "**`min()`/`max()` 함수**\n",
    "\n",
    "항목 중에서 최솟값/최댓값을 확인한다.\n",
    "단, 기본적으로 모든 값의 자료형이 갖고 크기 비교가 가능해야 한다. "
   ]
  },
  {
   "cell_type": "code",
   "execution_count": 11,
   "id": "ca3cf0d6",
   "metadata": {},
   "outputs": [
    {
     "data": {
      "text/plain": [
       "9"
      ]
     },
     "execution_count": 11,
     "metadata": {},
     "output_type": "execute_result"
    }
   ],
   "source": [
    "max({1, 3, 5, 7, 9})"
   ]
  },
  {
   "cell_type": "code",
   "execution_count": 12,
   "id": "a409e703",
   "metadata": {},
   "outputs": [
    {
     "data": {
      "text/plain": [
       "1"
      ]
     },
     "execution_count": 12,
     "metadata": {},
     "output_type": "execute_result"
    }
   ],
   "source": [
    "min({1, 3, 5, 7, 9})"
   ]
  },
  {
   "cell_type": "markdown",
   "id": "dc73831b",
   "metadata": {},
   "source": [
    "### 집합 메서드  "
   ]
  },
  {
   "cell_type": "markdown",
   "id": "77c077ac-a751-4279-b24a-12c22b397c6c",
   "metadata": {},
   "source": [
    "집합 자료형이 제공하는 주요 메서드는 아래와 같다."
   ]
  },
  {
   "cell_type": "markdown",
   "id": "f1cf58a3-c068-42f4-81c6-9d716eb5f8c7",
   "metadata": {},
   "source": [
    "|메서드|설명|\n",
    "|:----------|:----------|\n",
    "|`set.union()`|합집합 반환|\n",
    "|`set.intersection()`|교집합 반환|\n",
    "|`set.difference()`|차집합 반환|\n",
    "|`set.issubset()`|부분 집합 여부를 판단하여 반환|\n",
    "|`set.add()`|항목추가. 반환값은 `None`|\n",
    "|`set.remove()`|특정 항목 삭제. 반환값은 `None`|\n",
    "|`set.pop()`|임의의 항목 삭제. 반환값은 삭제하는 항목. 공집합에 사용하면 오류 발생|\n",
    "|`set.clear()`|모든 항목을 삭제. 반환값은 `None`|\n",
    "|`set.update()`|여러 개의 항목 한번에 추가. 반환값은 `None`|"
   ]
  },
  {
   "cell_type": "markdown",
   "id": "adeaa229",
   "metadata": {},
   "source": [
    "**`union()` 메서드**"
   ]
  },
  {
   "cell_type": "code",
   "execution_count": 13,
   "id": "b08a84c9",
   "metadata": {},
   "outputs": [
    {
     "data": {
      "text/plain": [
       "{1, 2, 3, 4}"
      ]
     },
     "execution_count": 13,
     "metadata": {},
     "output_type": "execute_result"
    }
   ],
   "source": [
    "{1, 2}.union({3, 4})"
   ]
  },
  {
   "cell_type": "markdown",
   "id": "d2a4fcd4",
   "metadata": {},
   "source": [
    "**`intersection()` 메서드**"
   ]
  },
  {
   "cell_type": "code",
   "execution_count": 14,
   "id": "e384b6c4",
   "metadata": {},
   "outputs": [
    {
     "data": {
      "text/plain": [
       "{3}"
      ]
     },
     "execution_count": 14,
     "metadata": {},
     "output_type": "execute_result"
    }
   ],
   "source": [
    "{1, 2, 3}.intersection({3, 4})"
   ]
  },
  {
   "cell_type": "markdown",
   "id": "89c34593",
   "metadata": {},
   "source": [
    "**`difference()` 메서드**"
   ]
  },
  {
   "cell_type": "code",
   "execution_count": 15,
   "id": "0841c5fe",
   "metadata": {},
   "outputs": [
    {
     "data": {
      "text/plain": [
       "{1, 2}"
      ]
     },
     "execution_count": 15,
     "metadata": {},
     "output_type": "execute_result"
    }
   ],
   "source": [
    "{1, 2, 3}.difference({3, 4})"
   ]
  },
  {
   "cell_type": "markdown",
   "id": "45a87665",
   "metadata": {},
   "source": [
    "**`issubset()` 메서드**"
   ]
  },
  {
   "cell_type": "code",
   "execution_count": 16,
   "id": "6f0780ec",
   "metadata": {},
   "outputs": [
    {
     "data": {
      "text/plain": [
       "False"
      ]
     },
     "execution_count": 16,
     "metadata": {},
     "output_type": "execute_result"
    }
   ],
   "source": [
    "{1, 2, 3}.issubset({3, 4})"
   ]
  },
  {
   "cell_type": "markdown",
   "id": "bab03dcd",
   "metadata": {},
   "source": [
    "**`add()` 메서드**"
   ]
  },
  {
   "cell_type": "code",
   "execution_count": 17,
   "id": "a75aa97f-b179-46f8-a972-b3e491e0cb0c",
   "metadata": {},
   "outputs": [
    {
     "name": "stdout",
     "output_type": "stream",
     "text": [
      "{1, 2, 3, 4, 8}\n"
     ]
    }
   ],
   "source": [
    "a_set = {1, 2, 3, 4}\n",
    "a_set.add(8)\n",
    "print(a_set)"
   ]
  },
  {
   "cell_type": "markdown",
   "id": "02cfa29d",
   "metadata": {},
   "source": [
    "**`remove()` 메서드**"
   ]
  },
  {
   "cell_type": "code",
   "execution_count": 18,
   "id": "8122cbd0-02f3-4d76-bfed-3649c27b7086",
   "metadata": {},
   "outputs": [
    {
     "name": "stdout",
     "output_type": "stream",
     "text": [
      "{2, 3, 4, 8}\n"
     ]
    }
   ],
   "source": [
    "a_set.remove(1)\n",
    "print(a_set)"
   ]
  },
  {
   "cell_type": "markdown",
   "id": "a3c5d9ee",
   "metadata": {},
   "source": [
    "**`pop()` 메서드**"
   ]
  },
  {
   "cell_type": "code",
   "execution_count": 19,
   "id": "11f53844-f993-43df-b324-64eabaf6de43",
   "metadata": {},
   "outputs": [
    {
     "name": "stdout",
     "output_type": "stream",
     "text": [
      "2\n",
      "{3, 4, 8}\n"
     ]
    }
   ],
   "source": [
    "print(a_set.pop())\n",
    "print(a_set)"
   ]
  },
  {
   "cell_type": "markdown",
   "id": "7970c1d1",
   "metadata": {},
   "source": [
    "**`clear()` 메서드**"
   ]
  },
  {
   "cell_type": "code",
   "execution_count": 20,
   "id": "6c07bae2-2976-4874-8bba-8d2d1a954000",
   "metadata": {},
   "outputs": [
    {
     "name": "stdout",
     "output_type": "stream",
     "text": [
      "set()\n"
     ]
    }
   ],
   "source": [
    "a_set.clear()\n",
    "print(a_set)"
   ]
  },
  {
   "cell_type": "markdown",
   "id": "5131d0ef",
   "metadata": {},
   "source": [
    "**`update()` 메서드**"
   ]
  },
  {
   "cell_type": "code",
   "execution_count": 21,
   "id": "31eb9b14-2517-44ea-bc3a-e8d39f16b525",
   "metadata": {},
   "outputs": [
    {
     "name": "stdout",
     "output_type": "stream",
     "text": [
      "{10, 5, 15}\n"
     ]
    }
   ],
   "source": [
    "a_set.update({5, 10, 15})\n",
    "print(a_set)"
   ]
  },
  {
   "cell_type": "markdown",
   "id": "0b8afc70",
   "metadata": {
    "tags": []
   },
   "source": [
    "## 사전 "
   ]
  },
  {
   "cell_type": "markdown",
   "id": "0880afbe-0cc8-4e50-90f4-151cbadf4f15",
   "metadata": {
    "tags": []
   },
   "source": [
    "사전 자료형은 **키**<font size = \"2\">key</font>와 **값**<font size = \"2\">value</font>의\n",
    "쌍으로 이루어진 항목들의 집합이며, **딕셔너리**<font size = \"2\">dictionary</font> 라고도 불린다.\n",
    "사전의 형식은 아래와 같다.   \n",
    "예를 들어, `'Hello'` 와 `'World'` 를 키로, `'안녕'`, `'세계'` 를 각 키에 대한 값으로\n",
    "갖는 사전은 다음과 같다.\n",
    "\n",
    "```python\n",
    "{'Hello' : '안녕', 'World' : '세계'}\n",
    "```"
   ]
  },
  {
   "cell_type": "markdown",
   "id": "6f006ace-bcce-4d2a-a306-f49ac6ecd8ca",
   "metadata": {},
   "source": [
    "정수, 부동소수점, 문자열, 튜플 등 불변 자료형만 사전의 키로 사용될 수 있다.  \n",
    "단, 튜플의 경우 리스트 등 가변 자료형을 포함할 수 없다.\n",
    "이는 키로 사용되는 값은 변하지 않아야 하기 때문이다."
   ]
  },
  {
   "cell_type": "markdown",
   "id": "fbc7ef2b-bbb9-44ff-9078-740d1c17fdbd",
   "metadata": {},
   "source": [
    "**빈 사전**"
   ]
  },
  {
   "cell_type": "markdown",
   "id": "2e8e8b8b-c4ce-4c3a-9939-d47d8422b920",
   "metadata": {},
   "source": [
    "빈 사전은 아무것도 포함하지 않는 사전을 의미한다. 빈 사전를 만드는 방법은 아래와 같다. "
   ]
  },
  {
   "cell_type": "code",
   "execution_count": 22,
   "id": "08d97d1a-9b6a-4187-a55d-c0840b138703",
   "metadata": {},
   "outputs": [
    {
     "data": {
      "text/plain": [
       "{}"
      ]
     },
     "execution_count": 22,
     "metadata": {},
     "output_type": "execute_result"
    }
   ],
   "source": [
    "empty_dict = {}\n",
    "empty_dict = dict()\n",
    "empty_dict"
   ]
  },
  {
   "cell_type": "markdown",
   "id": "e1bb26b2",
   "metadata": {},
   "source": [
    "### 사전 연산"
   ]
  },
  {
   "cell_type": "markdown",
   "id": "59f8d6f2-2be8-462d-bd2d-80544238c8de",
   "metadata": {},
   "source": [
    "**`in` 연산자**\n",
    "\n",
    "사전의 키로 사용되었는 여부를 알려주는 논리 연산자다."
   ]
  },
  {
   "cell_type": "code",
   "execution_count": 23,
   "id": "daaf2553-7e40-4d01-9325-547d32d353cf",
   "metadata": {},
   "outputs": [
    {
     "data": {
      "text/plain": [
       "False"
      ]
     },
     "execution_count": 23,
     "metadata": {},
     "output_type": "execute_result"
    }
   ],
   "source": [
    "'city' in {\"name\": \"강현\", \"age\": \"3\"} "
   ]
  },
  {
   "cell_type": "code",
   "execution_count": 24,
   "id": "1779d3ca-01f1-4b94-b549-272b5e68808a",
   "metadata": {},
   "outputs": [
    {
     "data": {
      "text/plain": [
       "True"
      ]
     },
     "execution_count": 24,
     "metadata": {},
     "output_type": "execute_result"
    }
   ],
   "source": [
    "'city' not in {\"name\": \"강현\", \"age\": \"3\"} "
   ]
  },
  {
   "cell_type": "markdown",
   "id": "2fb53924",
   "metadata": {},
   "source": [
    "**`len()` 함수**\n",
    "\n",
    "사전에 포함된 항목 개수를 반환한다."
   ]
  },
  {
   "cell_type": "code",
   "execution_count": 25,
   "id": "96605a0b",
   "metadata": {},
   "outputs": [
    {
     "data": {
      "text/plain": [
       "2"
      ]
     },
     "execution_count": 25,
     "metadata": {},
     "output_type": "execute_result"
    }
   ],
   "source": [
    "len({\"name\": \"강현\", \"age\": \"3\"}) "
   ]
  },
  {
   "cell_type": "markdown",
   "id": "acb8f670",
   "metadata": {},
   "source": [
    "**`min()`/`max()` 함수**\n",
    "\n",
    "키로 사용된 값들 중에서 최솟값/최댓값을 확인한다.\n",
    "단, 키들의 기본적으로 자료형이 같고 크기 비교가 가능해야 한다."
   ]
  },
  {
   "cell_type": "code",
   "execution_count": 26,
   "id": "59a9ebfd-a3d4-484d-af81-240f17016f46",
   "metadata": {},
   "outputs": [
    {
     "data": {
      "text/plain": [
       "3"
      ]
     },
     "execution_count": 26,
     "metadata": {},
     "output_type": "execute_result"
    }
   ],
   "source": [
    "max({1 : 'one', 2 : 'two', 3 : 'three'})"
   ]
  },
  {
   "cell_type": "code",
   "execution_count": 27,
   "id": "77a66921-c177-4c97-8c8f-a5c96d97f7ed",
   "metadata": {},
   "outputs": [
    {
     "data": {
      "text/plain": [
       "1"
      ]
     },
     "execution_count": 27,
     "metadata": {},
     "output_type": "execute_result"
    }
   ],
   "source": [
    "min({1 : 'one', 2 : 'two', 3 : 'three'})"
   ]
  },
  {
   "cell_type": "markdown",
   "id": "aa272959",
   "metadata": {},
   "source": [
    "### 사전 인덱싱 "
   ]
  },
  {
   "cell_type": "markdown",
   "id": "e170b2bf-fda4-48c1-ad26-e05a252f7670",
   "metadata": {},
   "source": [
    "사전에 사용된 키를 이용한 인덱싱이 지원된다. \n",
    "예를 들어, 아래 딕셔너리 `dic`에서 `'Hello'`에 대응하는 값을 확인하고자 하면  \n",
    "다음과 같이 대괄호를 사용하는 인덱싱을 이용한다. "
   ]
  },
  {
   "cell_type": "code",
   "execution_count": 28,
   "id": "d8a14725-7fcb-4c66-878c-b5984d4fd7de",
   "metadata": {},
   "outputs": [
    {
     "data": {
      "text/plain": [
       "'안녕'"
      ]
     },
     "execution_count": 28,
     "metadata": {},
     "output_type": "execute_result"
    }
   ],
   "source": [
    "dic = {'Hello' : '안녕', 'World' : '세계'}\n",
    "dic['Hello']"
   ]
  },
  {
   "cell_type": "markdown",
   "id": "0b9250f9-9288-49e2-a4e7-29f845900e10",
   "metadata": {},
   "source": [
    "존재하지 않는 키로 값을 추출하려고 하면, 오류가 발생한다. \n",
    "\n",
    "```python\n",
    ">>> dic['Python']\n",
    "KeyError                                  Traceback (most recent call last)\n",
    "/tmp/ipykernel_1817/1517958361.py in <module>\n",
    "----> 1 dic['Python']\n",
    "\n",
    "KeyError: 'Python'\n",
    "```"
   ]
  },
  {
   "cell_type": "markdown",
   "id": "681d54c1",
   "metadata": {},
   "source": [
    "### 항목의 추가와 삭제 "
   ]
  },
  {
   "cell_type": "markdown",
   "id": "618f137d-a6b9-41b1-b93c-2bcd87a1803b",
   "metadata": {},
   "source": [
    "아래와 같은 형식으로 사전에 항목을 추가한다.  \n",
    "\n",
    "```python\n",
    "사전[key] = value\n",
    "```   \n",
    "\n",
    "예를 들어, `dic`에 `Python : 파이썬` 항목을 다음과 같이 추가할 수 있다."
   ]
  },
  {
   "cell_type": "code",
   "execution_count": 29,
   "id": "4bf19159-ab0d-41a0-b83c-58e90ae4d730",
   "metadata": {},
   "outputs": [
    {
     "name": "stdout",
     "output_type": "stream",
     "text": [
      "{'Hello': '안녕', 'World': '세계', 'Python': '파이썬'}\n"
     ]
    }
   ],
   "source": [
    "dic['Python'] = '파이썬'\n",
    "\n",
    "print(dic)"
   ]
  },
  {
   "cell_type": "markdown",
   "id": "660ed0ad",
   "metadata": {},
   "source": [
    "단, 이미 사용된 키를 이용하면 값이 업데이트 된다."
   ]
  },
  {
   "cell_type": "code",
   "execution_count": 30,
   "id": "c17f9966",
   "metadata": {},
   "outputs": [
    {
     "name": "stdout",
     "output_type": "stream",
     "text": [
      "{'Hello': '안녕', 'World': '세상', 'Python': '파이썬'}\n"
     ]
    }
   ],
   "source": [
    "dic['World'] = '세상'\n",
    "print(dic)"
   ]
  },
  {
   "cell_type": "markdown",
   "id": "47294da8-1afd-4ee1-8342-ed9a1be819f0",
   "metadata": {},
   "source": [
    "사전의 항목은 `del` 명령어를 사용하여 삭제한다."
   ]
  },
  {
   "cell_type": "code",
   "execution_count": 31,
   "id": "2151b31d-e90b-4512-b116-90ad57c39630",
   "metadata": {},
   "outputs": [
    {
     "name": "stdout",
     "output_type": "stream",
     "text": [
      "{'Hello': '안녕', 'Python': '파이썬'}\n"
     ]
    }
   ],
   "source": [
    "del dic['World']\n",
    "print(dic)"
   ]
  },
  {
   "cell_type": "markdown",
   "id": "62c6c0cc",
   "metadata": {},
   "source": [
    "### 사전 메서드 "
   ]
  },
  {
   "cell_type": "markdown",
   "id": "5280e1d5-9c12-4a87-81d3-33e4d8c6585c",
   "metadata": {},
   "source": [
    "사전 자료형이 제공하는 주요 메서드는 아래와 같다."
   ]
  },
  {
   "cell_type": "code",
   "execution_count": 32,
   "id": "dca3b348-a88a-49cd-b2cd-a4c208202dc6",
   "metadata": {},
   "outputs": [],
   "source": [
    "dic = {'Hello' : '안녕', 'World' : '세계'}"
   ]
  },
  {
   "cell_type": "markdown",
   "id": "bc1f4cb5-b141-45b9-8532-e4fd5b4dcdd9",
   "metadata": {},
   "source": [
    "|메서드|설명|\n",
    "|:----------|:----------|\n",
    "|`dict.keys()`|사전에 사용된 key들을 모두 모아서 리스트와 비슷한 자료형을 만들어서 반환|\n",
    "|`dict.values()`|사전에 사용된 value들을 모두 모아서 리스트와 비슷한 자료형을 만들어서 반환\n",
    "|`dict.items()`|사전에 사용된 item들을 모두 모아서 리스트와 비슷한 자료형으로 만들어서 반환|\n",
    "|`dict.get()`|key에 대응되는 value를 반환. 존재하지 않는 key를 사용하면 `None`을 반환\n",
    "|`dict.update()`|다른 사전과 합함. 반환값은 `None`|\n",
    "|`dict.pop()`|key에 해당하는 항목을 삭제. 반환값은 key에 대응하는 value. key가 존재하지 않으면 오류 발생.|\n",
    "|`dict.clear()`|사전 안의 모든 항목들을 삭제. 반환값은 `None`|"
   ]
  },
  {
   "cell_type": "markdown",
   "id": "bbc1d17f",
   "metadata": {},
   "source": [
    "**`keys()` 메서드**"
   ]
  },
  {
   "cell_type": "code",
   "execution_count": 33,
   "id": "9659b231",
   "metadata": {},
   "outputs": [
    {
     "data": {
      "text/plain": [
       "dict_keys(['Hello', 'World'])"
      ]
     },
     "execution_count": 33,
     "metadata": {},
     "output_type": "execute_result"
    }
   ],
   "source": [
    "dic.keys()"
   ]
  },
  {
   "cell_type": "markdown",
   "id": "ebdb3dbc",
   "metadata": {},
   "source": [
    "**`values()` 메서드**"
   ]
  },
  {
   "cell_type": "code",
   "execution_count": 34,
   "id": "375346e7",
   "metadata": {},
   "outputs": [
    {
     "data": {
      "text/plain": [
       "dict_values(['안녕', '세계'])"
      ]
     },
     "execution_count": 34,
     "metadata": {},
     "output_type": "execute_result"
    }
   ],
   "source": [
    "dic.values()"
   ]
  },
  {
   "cell_type": "markdown",
   "id": "d6c51278",
   "metadata": {},
   "source": [
    "**`items()` 메서드**"
   ]
  },
  {
   "cell_type": "code",
   "execution_count": 35,
   "id": "c0aed9b6",
   "metadata": {},
   "outputs": [
    {
     "data": {
      "text/plain": [
       "dict_items([('Hello', '안녕'), ('World', '세계')])"
      ]
     },
     "execution_count": 35,
     "metadata": {},
     "output_type": "execute_result"
    }
   ],
   "source": [
    "dic.items()"
   ]
  },
  {
   "cell_type": "markdown",
   "id": "19f33add",
   "metadata": {},
   "source": [
    "**`get()` 메서드**"
   ]
  },
  {
   "cell_type": "code",
   "execution_count": 36,
   "id": "3af0c38a",
   "metadata": {},
   "outputs": [
    {
     "data": {
      "text/plain": [
       "'안녕'"
      ]
     },
     "execution_count": 36,
     "metadata": {},
     "output_type": "execute_result"
    }
   ],
   "source": [
    "dic.get('Hello')"
   ]
  },
  {
   "cell_type": "markdown",
   "id": "4102254c",
   "metadata": {},
   "source": [
    "존재하지 않는 키를 사용하면 기본값으로 `None`이 사용된다."
   ]
  },
  {
   "cell_type": "code",
   "execution_count": 37,
   "id": "41da7ee6",
   "metadata": {},
   "outputs": [],
   "source": [
    "dic.get('hello')"
   ]
  },
  {
   "cell_type": "markdown",
   "id": "54f2b9d1",
   "metadata": {},
   "source": [
    "키가 사용되지 않았을 때 기본값을 바꾸려면 둘째 인자를 지정한다."
   ]
  },
  {
   "cell_type": "code",
   "execution_count": 38,
   "id": "44966d5a",
   "metadata": {},
   "outputs": [
    {
     "data": {
      "text/plain": [
       "'해당 키가 없어요.'"
      ]
     },
     "execution_count": 38,
     "metadata": {},
     "output_type": "execute_result"
    }
   ],
   "source": [
    "dic.get('hello', \"해당 키가 없어요.\")"
   ]
  },
  {
   "cell_type": "markdown",
   "id": "067dd003",
   "metadata": {},
   "source": [
    "**`update()` 메서드**"
   ]
  },
  {
   "cell_type": "code",
   "execution_count": 39,
   "id": "c1268cd5-b9f9-4b36-93bd-a15ca1f41906",
   "metadata": {},
   "outputs": [
    {
     "name": "stdout",
     "output_type": "stream",
     "text": [
      "None\n",
      "{'Hello': '안녕', 'World': '세계', 'Python': '파이썬', 'Programming': '프로그래밍'}\n"
     ]
    }
   ],
   "source": [
    "print(dic.update({'Python' : '파이썬', 'Programming' : '프로그래밍'}))\n",
    "print(dic)"
   ]
  },
  {
   "cell_type": "markdown",
   "id": "be47ac05",
   "metadata": {},
   "source": [
    "**`pop()` 메서드**"
   ]
  },
  {
   "cell_type": "code",
   "execution_count": 40,
   "id": "64c6dbd9-c7f3-4d32-959e-b255d2872a7b",
   "metadata": {},
   "outputs": [
    {
     "name": "stdout",
     "output_type": "stream",
     "text": [
      "파이썬\n",
      "{'Hello': '안녕', 'World': '세계', 'Programming': '프로그래밍'}\n"
     ]
    }
   ],
   "source": [
    "print(dic.pop('Python'))\n",
    "print(dic)"
   ]
  },
  {
   "cell_type": "markdown",
   "id": "e3b4a496",
   "metadata": {},
   "source": [
    "**`clear()` 메서드**"
   ]
  },
  {
   "cell_type": "code",
   "execution_count": 41,
   "id": "3f59b7f1-2288-41ac-8d7f-2da2d986264c",
   "metadata": {},
   "outputs": [
    {
     "name": "stdout",
     "output_type": "stream",
     "text": [
      "None\n",
      "{}\n"
     ]
    }
   ],
   "source": [
    "print(dic.clear())\n",
    "print(dic)"
   ]
  },
  {
   "cell_type": "markdown",
   "id": "319de1c9-4138-4724-93d2-314961929185",
   "metadata": {},
   "source": [
    "## 형변환 함수"
   ]
  },
  {
   "cell_type": "markdown",
   "id": "c4b09723-6104-4109-bb66-6eb41b1cca9d",
   "metadata": {},
   "source": [
    "**`list()` 함수**\n",
    "\n",
    "임의의 모음 자료형을 리스트로 변환한다."
   ]
  },
  {
   "cell_type": "code",
   "execution_count": 42,
   "id": "ab903b39-5f15-4675-bc4b-dca1ddbe3433",
   "metadata": {},
   "outputs": [
    {
     "data": {
      "text/plain": [
       "['a', 'b', 'c']"
      ]
     },
     "execution_count": 42,
     "metadata": {},
     "output_type": "execute_result"
    }
   ],
   "source": [
    "list('abc')"
   ]
  },
  {
   "cell_type": "code",
   "execution_count": 43,
   "id": "8f212274-ca48-4ed1-98bc-8134d50e1fdd",
   "metadata": {},
   "outputs": [
    {
     "data": {
      "text/plain": [
       "[1, 2, 3]"
      ]
     },
     "execution_count": 43,
     "metadata": {},
     "output_type": "execute_result"
    }
   ],
   "source": [
    "list((1, 2, 3))"
   ]
  },
  {
   "cell_type": "code",
   "execution_count": 44,
   "id": "841be636-0d7a-4ff7-882d-6c3cf7e5c068",
   "metadata": {},
   "outputs": [
    {
     "data": {
      "text/plain": [
       "[1, 2, 5]"
      ]
     },
     "execution_count": 44,
     "metadata": {},
     "output_type": "execute_result"
    }
   ],
   "source": [
    "list({1, 2, 5})"
   ]
  },
  {
   "cell_type": "markdown",
   "id": "760efe66",
   "metadata": {},
   "source": [
    "사전은 여러 방식으로 변환된다."
   ]
  },
  {
   "cell_type": "code",
   "execution_count": 45,
   "id": "8ed05ea4",
   "metadata": {},
   "outputs": [],
   "source": [
    "dic = {'Hello' : '안녕', 'World' : '세계'}"
   ]
  },
  {
   "cell_type": "markdown",
   "id": "7c65e5f4",
   "metadata": {},
   "source": [
    "* 키 리스트"
   ]
  },
  {
   "cell_type": "code",
   "execution_count": 46,
   "id": "f87d14a6",
   "metadata": {},
   "outputs": [
    {
     "data": {
      "text/plain": [
       "['Hello', 'World']"
      ]
     },
     "execution_count": 46,
     "metadata": {},
     "output_type": "execute_result"
    }
   ],
   "source": [
    "list(dic)"
   ]
  },
  {
   "cell_type": "code",
   "execution_count": 47,
   "id": "c01a8bb5",
   "metadata": {},
   "outputs": [
    {
     "data": {
      "text/plain": [
       "['Hello', 'World']"
      ]
     },
     "execution_count": 47,
     "metadata": {},
     "output_type": "execute_result"
    }
   ],
   "source": [
    "list(dic.keys())"
   ]
  },
  {
   "cell_type": "markdown",
   "id": "4aac7f6a",
   "metadata": {},
   "source": [
    "* 값 리스트"
   ]
  },
  {
   "cell_type": "code",
   "execution_count": 48,
   "id": "7f25d080",
   "metadata": {},
   "outputs": [
    {
     "data": {
      "text/plain": [
       "['안녕', '세계']"
      ]
     },
     "execution_count": 48,
     "metadata": {},
     "output_type": "execute_result"
    }
   ],
   "source": [
    "list(dic.values())"
   ]
  },
  {
   "cell_type": "markdown",
   "id": "bf63697a",
   "metadata": {},
   "source": [
    "* (키, 값) 리스트"
   ]
  },
  {
   "cell_type": "code",
   "execution_count": 49,
   "id": "375cb576-1017-42ac-a1db-4dfb887088e7",
   "metadata": {},
   "outputs": [
    {
     "data": {
      "text/plain": [
       "[('Hello', '안녕'), ('World', '세계')]"
      ]
     },
     "execution_count": 49,
     "metadata": {},
     "output_type": "execute_result"
    }
   ],
   "source": [
    "list(dic.items())"
   ]
  },
  {
   "cell_type": "markdown",
   "id": "44f98162-6279-4b8b-a0aa-114d29526871",
   "metadata": {},
   "source": [
    "**`tuple()` 함수**\n",
    "\n",
    "임의의 모음 자료형을 튜플로 변환한다."
   ]
  },
  {
   "cell_type": "code",
   "execution_count": 50,
   "id": "446ce8ca-63e0-45ae-af89-60ca347bca90",
   "metadata": {},
   "outputs": [
    {
     "data": {
      "text/plain": [
       "('a', 'b', 'c')"
      ]
     },
     "execution_count": 50,
     "metadata": {},
     "output_type": "execute_result"
    }
   ],
   "source": [
    "tuple('abc')"
   ]
  },
  {
   "cell_type": "code",
   "execution_count": 51,
   "id": "628b9998-dcb9-4754-bc17-8ee168ec8193",
   "metadata": {},
   "outputs": [
    {
     "data": {
      "text/plain": [
       "(1, 2, 3)"
      ]
     },
     "execution_count": 51,
     "metadata": {},
     "output_type": "execute_result"
    }
   ],
   "source": [
    "tuple([1, 2, 3])"
   ]
  },
  {
   "cell_type": "code",
   "execution_count": 52,
   "id": "04c5e64b-e018-4b2a-b5e0-03a76294437a",
   "metadata": {},
   "outputs": [
    {
     "data": {
      "text/plain": [
       "(1, 2, 5)"
      ]
     },
     "execution_count": 52,
     "metadata": {},
     "output_type": "execute_result"
    }
   ],
   "source": [
    "tuple({1, 2, 5})"
   ]
  },
  {
   "cell_type": "markdown",
   "id": "6fe10e15",
   "metadata": {},
   "source": [
    "사전에 대해서는 `list()` 함수와 동일한 방식으로 작동한다."
   ]
  },
  {
   "cell_type": "code",
   "execution_count": 53,
   "id": "6875dc37",
   "metadata": {},
   "outputs": [],
   "source": [
    "dic = {'Hello' : '안녕', 'World' : '세계'}"
   ]
  },
  {
   "cell_type": "code",
   "execution_count": 54,
   "id": "c90b262a",
   "metadata": {},
   "outputs": [
    {
     "data": {
      "text/plain": [
       "('Hello', 'World')"
      ]
     },
     "execution_count": 54,
     "metadata": {},
     "output_type": "execute_result"
    }
   ],
   "source": [
    "tuple(dic)"
   ]
  },
  {
   "cell_type": "code",
   "execution_count": 55,
   "id": "6398b00a",
   "metadata": {},
   "outputs": [
    {
     "data": {
      "text/plain": [
       "('Hello', 'World')"
      ]
     },
     "execution_count": 55,
     "metadata": {},
     "output_type": "execute_result"
    }
   ],
   "source": [
    "tuple(dic.keys())"
   ]
  },
  {
   "cell_type": "code",
   "execution_count": 56,
   "id": "2b8c72bb",
   "metadata": {},
   "outputs": [
    {
     "data": {
      "text/plain": [
       "('안녕', '세계')"
      ]
     },
     "execution_count": 56,
     "metadata": {},
     "output_type": "execute_result"
    }
   ],
   "source": [
    "tuple(dic.values())"
   ]
  },
  {
   "cell_type": "code",
   "execution_count": 57,
   "id": "81a042c2",
   "metadata": {},
   "outputs": [
    {
     "data": {
      "text/plain": [
       "(('Hello', '안녕'), ('World', '세계'))"
      ]
     },
     "execution_count": 57,
     "metadata": {},
     "output_type": "execute_result"
    }
   ],
   "source": [
    "tuple(dic.items())"
   ]
  },
  {
   "cell_type": "markdown",
   "id": "1641da91-649c-49f3-b652-1055e59bc440",
   "metadata": {},
   "source": [
    "**`set()` 함수**\n",
    "\n",
    "임의의 모음 자료형을 집합으로 변환한다.\n",
    "이 과정에서 순서와 중복이 무시된다."
   ]
  },
  {
   "cell_type": "code",
   "execution_count": 58,
   "id": "3fbe1fa9-ec0d-421a-80aa-af40af935397",
   "metadata": {},
   "outputs": [
    {
     "data": {
      "text/plain": [
       "{'a', 'b', 'c'}"
      ]
     },
     "execution_count": 58,
     "metadata": {},
     "output_type": "execute_result"
    }
   ],
   "source": [
    "set('abc')"
   ]
  },
  {
   "cell_type": "code",
   "execution_count": 59,
   "id": "53fd9901-484d-4a91-8882-7b0c8c06697e",
   "metadata": {},
   "outputs": [
    {
     "data": {
      "text/plain": [
       "{1, 2, 5}"
      ]
     },
     "execution_count": 59,
     "metadata": {},
     "output_type": "execute_result"
    }
   ],
   "source": [
    "set([1, 1, 2, 5])"
   ]
  },
  {
   "cell_type": "code",
   "execution_count": 60,
   "id": "fd916e01-1ce2-4705-97d6-9621b5ac7dab",
   "metadata": {},
   "outputs": [
    {
     "data": {
      "text/plain": [
       "{1, 3, 9}"
      ]
     },
     "execution_count": 60,
     "metadata": {},
     "output_type": "execute_result"
    }
   ],
   "source": [
    "set((1, 3, 3, 9, 1))"
   ]
  },
  {
   "cell_type": "code",
   "execution_count": 61,
   "id": "8749a6e9",
   "metadata": {},
   "outputs": [],
   "source": [
    "dic = {'Hello' : '안녕', 'World' : '세계'}"
   ]
  },
  {
   "cell_type": "code",
   "execution_count": 62,
   "id": "10eccdc9",
   "metadata": {},
   "outputs": [
    {
     "data": {
      "text/plain": [
       "{'Hello', 'World'}"
      ]
     },
     "execution_count": 62,
     "metadata": {},
     "output_type": "execute_result"
    }
   ],
   "source": [
    "set(dic)"
   ]
  },
  {
   "cell_type": "code",
   "execution_count": 63,
   "id": "4afd8889",
   "metadata": {},
   "outputs": [
    {
     "data": {
      "text/plain": [
       "{'Hello', 'World'}"
      ]
     },
     "execution_count": 63,
     "metadata": {},
     "output_type": "execute_result"
    }
   ],
   "source": [
    "set(dic.keys())"
   ]
  },
  {
   "cell_type": "code",
   "execution_count": 64,
   "id": "b158f6b6",
   "metadata": {},
   "outputs": [
    {
     "data": {
      "text/plain": [
       "{'세계', '안녕'}"
      ]
     },
     "execution_count": 64,
     "metadata": {},
     "output_type": "execute_result"
    }
   ],
   "source": [
    "set(dic.values())"
   ]
  },
  {
   "cell_type": "code",
   "execution_count": 65,
   "id": "05e58c42",
   "metadata": {},
   "outputs": [
    {
     "data": {
      "text/plain": [
       "{('Hello', '안녕'), ('World', '세계')}"
      ]
     },
     "execution_count": 65,
     "metadata": {},
     "output_type": "execute_result"
    }
   ],
   "source": [
    "set(dic.items())"
   ]
  },
  {
   "cell_type": "markdown",
   "id": "d78bc2b3-00b0-4f26-a9b5-6e1c4f20560d",
   "metadata": {},
   "source": [
    "**`dict()` 함수**\n",
    "\n",
    "키-값의 튜플 형식의 항목을 갖는 모음 자료형을 사전으로 변환한다. \n",
    "단, 키로 사용되는 값은 해시가능이어야 한다."
   ]
  },
  {
   "cell_type": "code",
   "execution_count": 66,
   "id": "c3c288b6-042a-4140-b9f1-eb301bcc247a",
   "metadata": {},
   "outputs": [
    {
     "data": {
      "text/plain": [
       "{'Hello': '안녕', 'World': '세계', 'Programming': '프로그래밍'}"
      ]
     },
     "execution_count": 66,
     "metadata": {},
     "output_type": "execute_result"
    }
   ],
   "source": [
    "data = [('Hello', '안녕'), ('World', '세계'), ('Programming', '프로그래밍')]\n",
    "dict(data)"
   ]
  },
  {
   "cell_type": "code",
   "execution_count": 67,
   "id": "dc22c48d-575f-45c6-b8c7-42c4332176e8",
   "metadata": {},
   "outputs": [
    {
     "data": {
      "text/plain": [
       "{'a': 1, 'b': 2, 'c': 3, 'd': 4, 'e': 5}"
      ]
     },
     "execution_count": 67,
     "metadata": {},
     "output_type": "execute_result"
    }
   ],
   "source": [
    "data = zip('abcde', [1, 2, 3, 4, 5])\n",
    "dict(data)"
   ]
  },
  {
   "cell_type": "code",
   "execution_count": 68,
   "id": "0b7de40e-3b95-424e-a0db-8596cb567ece",
   "metadata": {},
   "outputs": [
    {
     "data": {
      "text/plain": [
       "{'Hello': '안녕', 'World': '세계', 'Programming': '프로그래밍'}"
      ]
     },
     "execution_count": 68,
     "metadata": {},
     "output_type": "execute_result"
    }
   ],
   "source": [
    "dict(Hello = '안녕', World = '세계', Programming = '프로그래밍')"
   ]
  }
 ],
 "metadata": {
  "kernelspec": {
   "display_name": "Python 3 (ipykernel)",
   "language": "python",
   "name": "python3"
  },
  "language_info": {
   "codemirror_mode": {
    "name": "ipython",
    "version": 3
   },
   "file_extension": ".py",
   "mimetype": "text/x-python",
   "name": "python",
   "nbconvert_exporter": "python",
   "pygments_lexer": "ipython3",
   "version": "3.9.7"
  },
  "toc-autonumbering": true
 },
 "nbformat": 4,
 "nbformat_minor": 5
}