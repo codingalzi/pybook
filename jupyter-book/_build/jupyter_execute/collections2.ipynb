{
 "cells": [
  {
   "cell_type": "markdown",
   "id": "97dde457",
   "metadata": {},
   "source": [
    "(ch:collections2)=\n",
    "# 모음 자료형 2부"
   ]
  },
  {
   "cell_type": "markdown",
   "id": "74d748ee",
   "metadata": {},
   "source": [
    "집합과 사전 두 개의 비순차 자료형을 살펴본다."
   ]
  },
  {
   "cell_type": "markdown",
   "id": "6dbee952-5a30-4f46-a730-26fa9cad2e11",
   "metadata": {},
   "source": [
    "## 집합"
   ]
  },
  {
   "cell_type": "markdown",
   "id": "c4c57e50-6fcd-4e6e-8dc5-36c15b7460ea",
   "metadata": {},
   "source": [
    "집합 자료형은 수학에서 다루는 집합과 비슷한 자료형으로 형식은 아래와 같다.  \n",
    "\n",
    "`{항목1, 항목2, 항목3, ..., 항목n}`\n",
    "\n",
    "집합은 항목의 중복을 허용하지 않고, 항목들 사이의 순서는 무시된다. \n",
    "따라서 인덱싱이나 슬라이싱을 지원하지 않는다."
   ]
  },
  {
   "cell_type": "code",
   "execution_count": 1,
   "id": "1d3e0ee5-9ea7-455f-9cc7-f2242f3b79a5",
   "metadata": {},
   "outputs": [
    {
     "data": {
      "text/plain": [
       "{4, 9.2, True, 'apple'}"
      ]
     },
     "execution_count": 1,
     "metadata": {},
     "output_type": "execute_result"
    }
   ],
   "source": [
    "a_set = {4, 9.2, \"apple\", True, 4}\n",
    "a_set"
   ]
  },
  {
   "cell_type": "markdown",
   "id": "fd30e27e",
   "metadata": {},
   "source": [
    ":::{admonition} 참고  \n",
    ":class: info  \n",
    "집합의 원소는 모두 불변 자료형이어야 한다. 예를 들어 리스트는 집합의 원소가 될 수 없다. \n",
    "\n",
    "```python\n",
    ">>> {[1, 3], 4}\n",
    "TypeError                                 Traceback (most recent call last)\n",
    "/tmp/ipykernel_1817/2739416386.py in <module>\n",
    "----> 1 {[1, 3], 4}\n",
    "\n",
    "TypeError: unhashable type: 'list'\n",
    "```\n",
    ":::"
   ]
  },
  {
   "cell_type": "markdown",
   "id": "95b07054-ea60-497e-8a96-eb925b1b59a2",
   "metadata": {},
   "source": [
    "**공집합**\n",
    "\n",
    "공집합<font size = \"2\">empty set</font>은 아무것도 포함하지 않는 집합을 의미한다. \n",
    "공공집합를 만드는 방법은 아래와 같다. "
   ]
  },
  {
   "cell_type": "code",
   "execution_count": 2,
   "id": "6a93e932-1f05-4d84-b461-b689187fafb0",
   "metadata": {},
   "outputs": [
    {
     "data": {
      "text/plain": [
       "set()"
      ]
     },
     "execution_count": 2,
     "metadata": {},
     "output_type": "execute_result"
    }
   ],
   "source": [
    "empty_set = set()\n",
    "empty_set"
   ]
  },
  {
   "cell_type": "markdown",
   "id": "c7a538a6-1d42-4f89-96d0-8c231a2e3bca",
   "metadata": {},
   "source": [
    ":::{admonition} 주의  \n",
    ":class: caution  \n",
    "\n",
    "빈 집합을 만들 때는 `set()`을 사용해야 한다. `{}`은 빈 딕셔너리이다. \n",
    "```python\n",
    ">>> a = {}\n",
    ">>> type(a)\n",
    "dict\n",
    "```\n",
    ":::"
   ]
  },
  {
   "cell_type": "markdown",
   "id": "d87ed4da",
   "metadata": {},
   "source": [
    "### 집합 연산"
   ]
  },
  {
   "cell_type": "markdown",
   "id": "6d420a55-c41c-4a58-94cd-472bf0537065",
   "metadata": {},
   "source": [
    "**`in` 연산자**\n",
    "\n",
    "집합의 항목(원소)으로 등장하는지 여부를 알려주는 논리 연산자다."
   ]
  },
  {
   "cell_type": "code",
   "execution_count": 3,
   "id": "17cb28cc-42d0-4546-a4c0-3c43b1308f71",
   "metadata": {},
   "outputs": [
    {
     "data": {
      "text/plain": [
       "True"
      ]
     },
     "execution_count": 3,
     "metadata": {},
     "output_type": "execute_result"
    }
   ],
   "source": [
    "1 in {1, 2, 3, 9, 4}"
   ]
  },
  {
   "cell_type": "code",
   "execution_count": 4,
   "id": "7f0fccfb-fcc8-4dfe-91f4-765c8ae27916",
   "metadata": {},
   "outputs": [
    {
     "data": {
      "text/plain": [
       "True"
      ]
     },
     "execution_count": 4,
     "metadata": {},
     "output_type": "execute_result"
    }
   ],
   "source": [
    "'a' not in {1, 'b', True, 9}"
   ]
  },
  {
   "cell_type": "markdown",
   "id": "d00d1a9b-fe0e-4a5c-bad5-8ecde3a45158",
   "metadata": {},
   "source": [
    "**집합 연산(수학)**\n",
    "\n",
    "합집합, 교집합, 차집합 계산과 부분집합 여부 등을 확인하는 연산은 \n",
    "수학에서 사용되는 개념과 동일하게 작동한다.\n",
    "반면에 덧셈과 곱셈 연산자는 지원되지 않는다."
   ]
  },
  {
   "cell_type": "markdown",
   "id": "7d36f79b-7ac5-4dee-9b3d-b4cdfff555a8",
   "metadata": {},
   "source": [
    "|연산자|설명|예시|실행결과|\n",
    "|:----------:|:----------:|:----------:|:----------:|\n",
    "|`\\|`|합집합|`{1, 2} \\| {2, 4}`|`{1, 2, 4}`|\n",
    "|`&`|교집합|`{1, 2} & {2, 4}`|`{2}`|\n",
    "|`-`|차집합|`{1, 2} - {2, 4}`|`{1}`|\n",
    "|`<=`|부분집합 여부|`{1, 2} <= {2, 4}`|`False`|"
   ]
  },
  {
   "cell_type": "code",
   "execution_count": 5,
   "id": "71b59f4a-d2c7-4b93-9a71-0244f5557b6e",
   "metadata": {},
   "outputs": [
    {
     "data": {
      "text/plain": [
       "{1, 2, 3, 4, 5, 6}"
      ]
     },
     "execution_count": 5,
     "metadata": {},
     "output_type": "execute_result"
    }
   ],
   "source": [
    "{1, 2, 3, 4, 5} | {2, 4, 6}"
   ]
  },
  {
   "cell_type": "code",
   "execution_count": 6,
   "id": "963d1528-1106-4913-b099-6b0509a228ca",
   "metadata": {},
   "outputs": [
    {
     "data": {
      "text/plain": [
       "{2, 4}"
      ]
     },
     "execution_count": 6,
     "metadata": {},
     "output_type": "execute_result"
    }
   ],
   "source": [
    "{1, 2, 3, 4, 5} & {2, 4, 6}"
   ]
  },
  {
   "cell_type": "code",
   "execution_count": 7,
   "id": "3c484ccc-3cc5-4561-8ded-1a6cc87eb16d",
   "metadata": {},
   "outputs": [
    {
     "data": {
      "text/plain": [
       "{1, 3, 5}"
      ]
     },
     "execution_count": 7,
     "metadata": {},
     "output_type": "execute_result"
    }
   ],
   "source": [
    "{1, 2, 3, 4, 5} - {2, 4, 6}"
   ]
  },
  {
   "cell_type": "code",
   "execution_count": 8,
   "id": "14687b30-1dc3-4180-a849-65a1b7b93dfd",
   "metadata": {},
   "outputs": [
    {
     "data": {
      "text/plain": [
       "False"
      ]
     },
     "execution_count": 8,
     "metadata": {},
     "output_type": "execute_result"
    }
   ],
   "source": [
    "{1, 2, 3, 4, 5} <= {2, 4, 6}"
   ]
  },
  {
   "cell_type": "code",
   "execution_count": 9,
   "id": "e3c458ac-9d73-4ed5-a73b-b6afb8a80600",
   "metadata": {},
   "outputs": [
    {
     "data": {
      "text/plain": [
       "True"
      ]
     },
     "execution_count": 9,
     "metadata": {},
     "output_type": "execute_result"
    }
   ],
   "source": [
    "{1, 2} <= {1, 2, 3, 4, 5}"
   ]
  },
  {
   "cell_type": "markdown",
   "id": "ed1eda65",
   "metadata": {},
   "source": [
    "**`len()` 함수**\n",
    "\n",
    "집합에 포함된 항목의 개수를 반환한다."
   ]
  },
  {
   "cell_type": "code",
   "execution_count": 10,
   "id": "d4c60489",
   "metadata": {},
   "outputs": [
    {
     "data": {
      "text/plain": [
       "5"
      ]
     },
     "execution_count": 10,
     "metadata": {},
     "output_type": "execute_result"
    }
   ],
   "source": [
    "len({1, 3, 5, 7, 9})"
   ]
  },
  {
   "cell_type": "markdown",
   "id": "41e0d9c1",
   "metadata": {},
   "source": [
    "**`min()`/`max()` 함수**\n",
    "\n",
    "항목 중에서 최솟값/최댓값을 확인한다.\n",
    "단, 기본적으로 모든 값의 자료형이 갖고 크기 비교가 가능해야 한다. "
   ]
  },
  {
   "cell_type": "code",
   "execution_count": 11,
   "id": "ca3cf0d6",
   "metadata": {},
   "outputs": [
    {
     "data": {
      "text/plain": [
       "9"
      ]
     },
     "execution_count": 11,
     "metadata": {},
     "output_type": "execute_result"
    }
   ],
   "source": [
    "max({1, 3, 5, 7, 9})"
   ]
  },
  {
   "cell_type": "code",
   "execution_count": 12,
   "id": "a409e703",
   "metadata": {},
   "outputs": [
    {
     "data": {
      "text/plain": [
       "1"
      ]
     },
     "execution_count": 12,
     "metadata": {},
     "output_type": "execute_result"
    }
   ],
   "source": [
    "min({1, 3, 5, 7, 9})"
   ]
  },
  {
   "cell_type": "markdown",
   "id": "dc73831b",
   "metadata": {},
   "source": [
    "### 집합 메서드  "
   ]
  },
  {
   "cell_type": "markdown",
   "id": "77c077ac-a751-4279-b24a-12c22b397c6c",
   "metadata": {},
   "source": [
    "집합 자료형이 제공하는 주요 메서드는 아래와 같다."
   ]
  },
  {
   "cell_type": "markdown",
   "id": "f1cf58a3-c068-42f4-81c6-9d716eb5f8c7",
   "metadata": {},
   "source": [
    "|메서드|설명|\n",
    "|:----------|:----------|\n",
    "|`set.union()`|합집합 반환|\n",
    "|`set.intersection()`|교집합 반환|\n",
    "|`set.difference()`|차집합 반환|\n",
    "|`set.issubset()`|부분 집합 여부를 판단하여 반환|\n",
    "|`set.add()`|항목추가. 반환값은 `None`|\n",
    "|`set.remove()`|특정 항목 삭제. 반환값은 `None`|\n",
    "|`set.pop()`|임의의 항목 삭제. 반환값은 삭제하는 항목. 공집합에 사용하면 오류 발생|\n",
    "|`set.clear()`|모든 항목을 삭제. 반환값은 `None`|\n",
    "|`set.update()`|여러 개의 항목 한번에 추가. 반환값은 `None`|"
   ]
  },
  {
   "cell_type": "markdown",
   "id": "adeaa229",
   "metadata": {},
   "source": [
    "**`union()` 메서드**"
   ]
  },
  {
   "cell_type": "code",
   "execution_count": 13,
   "id": "b08a84c9",
   "metadata": {},
   "outputs": [
    {
     "data": {
      "text/plain": [
       "{1, 2, 3, 4}"
      ]
     },
     "execution_count": 13,
     "metadata": {},
     "output_type": "execute_result"
    }
   ],
   "source": [
    "{1, 2}.union({3, 4})"
   ]
  },
  {
   "cell_type": "markdown",
   "id": "d2a4fcd4",
   "metadata": {},
   "source": [
    "**`intersection()` 메서드**"
   ]
  },
  {
   "cell_type": "code",
   "execution_count": 14,
   "id": "e384b6c4",
   "metadata": {},
   "outputs": [
    {
     "data": {
      "text/plain": [
       "{3}"
      ]
     },
     "execution_count": 14,
     "metadata": {},
     "output_type": "execute_result"
    }
   ],
   "source": [
    "{1, 2, 3}.intersection({3, 4})"
   ]
  },
  {
   "cell_type": "markdown",
   "id": "89c34593",
   "metadata": {},
   "source": [
    "**`difference()` 메서드**"
   ]
  },
  {
   "cell_type": "code",
   "execution_count": 15,
   "id": "0841c5fe",
   "metadata": {},
   "outputs": [
    {
     "data": {
      "text/plain": [
       "{1, 2}"
      ]
     },
     "execution_count": 15,
     "metadata": {},
     "output_type": "execute_result"
    }
   ],
   "source": [
    "{1, 2, 3}.difference({3, 4})"
   ]
  },
  {
   "cell_type": "markdown",
   "id": "45a87665",
   "metadata": {},
   "source": [
    "**`issubset()` 메서드**"
   ]
  },
  {
   "cell_type": "code",
   "execution_count": 16,
   "id": "6f0780ec",
   "metadata": {},
   "outputs": [
    {
     "data": {
      "text/plain": [
       "False"
      ]
     },
     "execution_count": 16,
     "metadata": {},
     "output_type": "execute_result"
    }
   ],
   "source": [
    "{1, 2, 3}.issubset({3, 4})"
   ]
  },
  {
   "cell_type": "markdown",
   "id": "bab03dcd",
   "metadata": {},
   "source": [
    "**`add()` 메서드**"
   ]
  },
  {
   "cell_type": "code",
   "execution_count": 17,
   "id": "a75aa97f-b179-46f8-a972-b3e491e0cb0c",
   "metadata": {},
   "outputs": [
    {
     "name": "stdout",
     "output_type": "stream",
     "text": [
      "{1, 2, 3, 4, 8}\n"
     ]
    }
   ],
   "source": [
    "a_set = {1, 2, 3, 4}\n",
    "a_set.add(8)\n",
    "print(a_set)"
   ]
  },
  {
   "cell_type": "markdown",
   "id": "02cfa29d",
   "metadata": {},
   "source": [
    "**`remove()` 메서드**"
   ]
  },
  {
   "cell_type": "code",
   "execution_count": 18,
   "id": "8122cbd0-02f3-4d76-bfed-3649c27b7086",
   "metadata": {},
   "outputs": [
    {
     "name": "stdout",
     "output_type": "stream",
     "text": [
      "{2, 3, 4, 8}\n"
     ]
    }
   ],
   "source": [
    "a_set.remove(1)\n",
    "print(a_set)"
   ]
  },
  {
   "cell_type": "markdown",
   "id": "a3c5d9ee",
   "metadata": {},
   "source": [
    "**`pop()` 메서드**"
   ]
  },
  {
   "cell_type": "code",
   "execution_count": 19,
   "id": "11f53844-f993-43df-b324-64eabaf6de43",
   "metadata": {},
   "outputs": [
    {
     "name": "stdout",
     "output_type": "stream",
     "text": [
      "2\n",
      "{3, 4, 8}\n"
     ]
    }
   ],
   "source": [
    "print(a_set.pop())\n",
    "print(a_set)"
   ]
  },
  {
   "cell_type": "markdown",
   "id": "7970c1d1",
   "metadata": {},
   "source": [
    "**`clear()` 메서드**"
   ]
  },
  {
   "cell_type": "code",
   "execution_count": 20,
   "id": "6c07bae2-2976-4874-8bba-8d2d1a954000",
   "metadata": {},
   "outputs": [
    {
     "name": "stdout",
     "output_type": "stream",
     "text": [
      "set()\n"
     ]
    }
   ],
   "source": [
    "a_set.clear()\n",
    "print(a_set)"
   ]
  },
  {
   "cell_type": "markdown",
   "id": "5131d0ef",
   "metadata": {},
   "source": [
    "**`update()` 메서드**"
   ]
  },
  {
   "cell_type": "code",
   "execution_count": 21,
   "id": "31eb9b14-2517-44ea-bc3a-e8d39f16b525",
   "metadata": {},
   "outputs": [
    {
     "name": "stdout",
     "output_type": "stream",
     "text": [
      "{10, 5, 15}\n"
     ]
    }
   ],
   "source": [
    "a_set.update({5, 10, 15})\n",
    "print(a_set)"
   ]
  },
  {
   "cell_type": "markdown",
   "id": "0b8afc70",
   "metadata": {
    "tags": []
   },
   "source": [
    "## 사전 "
   ]
  },
  {
   "cell_type": "markdown",
   "id": "0880afbe-0cc8-4e50-90f4-151cbadf4f15",
   "metadata": {
    "tags": []
   },
   "source": [
    "사전 자료형은 **키**<font size = \"2\">key</font>와 **값**<font size = \"2\">value</font>의\n",
    "쌍으로 이루어진 항목들의 집합이며, **딕셔너리**<font size = \"2\">dictionary</font> 라고도 불린다.\n",
    "사전의 형식은 아래와 같다.   \n",
    "예를 들어, `'Hello'` 와 `'World'` 를 키로, `'안녕'`, `'세계'` 를 각 키에 대한 값으로\n",
    "갖는 사전은 다음과 같다.\n",
    "\n",
    "```python\n",
    "{'Hello' : '안녕', 'World' : '세계'}\n",
    "```"
   ]
  },
  {
   "cell_type": "markdown",
   "id": "6f006ace-bcce-4d2a-a306-f49ac6ecd8ca",
   "metadata": {},
   "source": [
    "정수, 부동소수점, 문자열, 튜플 등 불변 자료형만 사전의 키로 사용될 수 있다.  \n",
    "단, 튜플의 경우 리스트 등 가변 자료형을 포함할 수 없다.\n",
    "이는 키로 사용되는 값은 변하지 않아야 하기 때문이다."
   ]
  },
  {
   "cell_type": "markdown",
   "id": "fbc7ef2b-bbb9-44ff-9078-740d1c17fdbd",
   "metadata": {},
   "source": [
    "**빈 사전**"
   ]
  },
  {
   "cell_type": "markdown",
   "id": "2e8e8b8b-c4ce-4c3a-9939-d47d8422b920",
   "metadata": {},
   "source": [
    "빈 사전은 아무것도 포함하지 않는 사전을 의미한다. 빈 사전를 만드는 방법은 아래와 같다. "
   ]
  },
  {
   "cell_type": "code",
   "execution_count": 22,
   "id": "08d97d1a-9b6a-4187-a55d-c0840b138703",
   "metadata": {},
   "outputs": [
    {
     "data": {
      "text/plain": [
       "{}"
      ]
     },
     "execution_count": 22,
     "metadata": {},
     "output_type": "execute_result"
    }
   ],
   "source": [
    "empty_dict = {}\n",
    "empty_dict = dict()\n",
    "empty_dict"
   ]
  },
  {
   "cell_type": "markdown",
   "id": "e1bb26b2",
   "metadata": {},
   "source": [
    "### 사전 연산"
   ]
  },
  {
   "cell_type": "markdown",
   "id": "59f8d6f2-2be8-462d-bd2d-80544238c8de",
   "metadata": {},
   "source": [
    "**`in` 연산자**\n",
    "\n",
    "사전의 키로 사용되었는 여부를 알려주는 논리 연산자다."
   ]
  },
  {
   "cell_type": "code",
   "execution_count": 23,
   "id": "daaf2553-7e40-4d01-9325-547d32d353cf",
   "metadata": {},
   "outputs": [
    {
     "data": {
      "text/plain": [
       "False"
      ]
     },
     "execution_count": 23,
     "metadata": {},
     "output_type": "execute_result"
    }
   ],
   "source": [
    "'city' in {\"name\": \"강현\", \"age\": \"3\"} "
   ]
  },
  {
   "cell_type": "code",
   "execution_count": 24,
   "id": "1779d3ca-01f1-4b94-b549-272b5e68808a",
   "metadata": {},
   "outputs": [
    {
     "data": {
      "text/plain": [
       "True"
      ]
     },
     "execution_count": 24,
     "metadata": {},
     "output_type": "execute_result"
    }
   ],
   "source": [
    "'city' not in {\"name\": \"강현\", \"age\": \"3\"} "
   ]
  },
  {
   "cell_type": "markdown",
   "id": "2fb53924",
   "metadata": {},
   "source": [
    "**`len()` 함수**\n",
    "\n",
    "사전에 포함된 항목 개수를 반환한다."
   ]
  },
  {
   "cell_type": "code",
   "execution_count": 25,
   "id": "96605a0b",
   "metadata": {},
   "outputs": [
    {
     "data": {
      "text/plain": [
       "2"
      ]
     },
     "execution_count": 25,
     "metadata": {},
     "output_type": "execute_result"
    }
   ],
   "source": [
    "len({\"name\": \"강현\", \"age\": \"3\"}) "
   ]
  },
  {
   "cell_type": "markdown",
   "id": "acb8f670",
   "metadata": {},
   "source": [
    "**`min()`/`max()` 함수**\n",
    "\n",
    "키로 사용된 값들 중에서 최솟값/최댓값을 확인한다.\n",
    "단, 키들의 기본적으로 자료형이 같고 크기 비교가 가능해야 한다."
   ]
  },
  {
   "cell_type": "code",
   "execution_count": 26,
   "id": "59a9ebfd-a3d4-484d-af81-240f17016f46",
   "metadata": {},
   "outputs": [
    {
     "data": {
      "text/plain": [
       "3"
      ]
     },
     "execution_count": 26,
     "metadata": {},
     "output_type": "execute_result"
    }
   ],
   "source": [
    "max({1 : 'one', 2 : 'two', 3 : 'three'})"
   ]
  },
  {
   "cell_type": "code",
   "execution_count": 27,
   "id": "77a66921-c177-4c97-8c8f-a5c96d97f7ed",
   "metadata": {},
   "outputs": [
    {
     "data": {
      "text/plain": [
       "1"
      ]
     },
     "execution_count": 27,
     "metadata": {},
     "output_type": "execute_result"
    }
   ],
   "source": [
    "min({1 : 'one', 2 : 'two', 3 : 'three'})"
   ]
  },
  {
   "cell_type": "markdown",
   "id": "aa272959",
   "metadata": {},
   "source": [
    "### 사전 인덱싱 "
   ]
  },
  {
   "cell_type": "markdown",
   "id": "e170b2bf-fda4-48c1-ad26-e05a252f7670",
   "metadata": {},
   "source": [
    "사전에 사용된 키를 이용한 인덱싱이 지원된다. \n",
    "예를 들어, 아래 딕셔너리 `dic`에서 `'Hello'`에 대응하는 값을 확인하고자 하면  \n",
    "다음과 같이 대괄호를 사용하는 인덱싱을 이용한다. "
   ]
  },
  {
   "cell_type": "code",
   "execution_count": 28,
   "id": "d8a14725-7fcb-4c66-878c-b5984d4fd7de",
   "metadata": {},
   "outputs": [
    {
     "data": {
      "text/plain": [
       "'안녕'"
      ]
     },
     "execution_count": 28,
     "metadata": {},
     "output_type": "execute_result"
    }
   ],
   "source": [
    "dic = {'Hello' : '안녕', 'World' : '세계'}\n",
    "dic['Hello']"
   ]
  },
  {
   "cell_type": "markdown",
   "id": "0b9250f9-9288-49e2-a4e7-29f845900e10",
   "metadata": {},
   "source": [
    "존재하지 않는 키로 값을 추출하려고 하면, 오류가 발생한다. \n",
    "\n",
    "```python\n",
    ">>> dic['Python']\n",
    "KeyError                                  Traceback (most recent call last)\n",
    "/tmp/ipykernel_1817/1517958361.py in <module>\n",
    "----> 1 dic['Python']\n",
    "\n",
    "KeyError: 'Python'\n",
    "```"
   ]
  },
  {
   "cell_type": "markdown",
   "id": "681d54c1",
   "metadata": {},
   "source": [
    "### 항목의 추가와 삭제 "
   ]
  },
  {
   "cell_type": "markdown",
   "id": "618f137d-a6b9-41b1-b93c-2bcd87a1803b",
   "metadata": {},
   "source": [
    "아래와 같은 형식으로 사전에 항목을 추가한다.  \n",
    "\n",
    "```python\n",
    "사전[key] = value\n",
    "```   \n",
    "\n",
    "예를 들어, `dic`에 `Python : 파이썬` 항목을 다음과 같이 추가할 수 있다."
   ]
  },
  {
   "cell_type": "code",
   "execution_count": 29,
   "id": "4bf19159-ab0d-41a0-b83c-58e90ae4d730",
   "metadata": {},
   "outputs": [
    {
     "name": "stdout",
     "output_type": "stream",
     "text": [
      "{'Hello': '안녕', 'World': '세계', 'Python': '파이썬'}\n"
     ]
    }
   ],
   "source": [
    "dic['Python'] = '파이썬'\n",
    "\n",
    "print(dic)"
   ]
  },
  {
   "cell_type": "markdown",
   "id": "660ed0ad",
   "metadata": {},
   "source": [
    "단, 이미 사용된 키를 이용하면 값이 업데이트 된다."
   ]
  },
  {
   "cell_type": "code",
   "execution_count": 30,
   "id": "c17f9966",
   "metadata": {},
   "outputs": [
    {
     "name": "stdout",
     "output_type": "stream",
     "text": [
      "{'Hello': '안녕', 'World': '세상', 'Python': '파이썬'}\n"
     ]
    }
   ],
   "source": [
    "dic['World'] = '세상'\n",
    "print(dic)"
   ]
  },
  {
   "cell_type": "markdown",
   "id": "47294da8-1afd-4ee1-8342-ed9a1be819f0",
   "metadata": {},
   "source": [
    "사전의 항목은 `del` 명령어를 사용하여 삭제한다."
   ]
  },
  {
   "cell_type": "code",
   "execution_count": 31,
   "id": "2151b31d-e90b-4512-b116-90ad57c39630",
   "metadata": {},
   "outputs": [
    {
     "name": "stdout",
     "output_type": "stream",
     "text": [
      "{'Hello': '안녕', 'Python': '파이썬'}\n"
     ]
    }
   ],
   "source": [
    "del dic['World']\n",
    "print(dic)"
   ]
  },
  {
   "cell_type": "markdown",
   "id": "62c6c0cc",
   "metadata": {},
   "source": [
    "### 사전 메서드 "
   ]
  },
  {
   "cell_type": "markdown",
   "id": "5280e1d5-9c12-4a87-81d3-33e4d8c6585c",
   "metadata": {},
   "source": [
    "사전 자료형이 제공하는 주요 메서드는 아래와 같다."
   ]
  },
  {
   "cell_type": "code",
   "execution_count": 32,
   "id": "dca3b348-a88a-49cd-b2cd-a4c208202dc6",
   "metadata": {},
   "outputs": [],
   "source": [
    "dic = {'Hello' : '안녕', 'World' : '세계'}"
   ]
  },
  {
   "cell_type": "markdown",
   "id": "bc1f4cb5-b141-45b9-8532-e4fd5b4dcdd9",
   "metadata": {},
   "source": [
    "|메서드|설명|\n",
    "|:----------|:----------|\n",
    "|`dict.keys()`|사전에 사용된 key들을 모두 모아서 리스트와 비슷한 자료형을 만들어서 반환|\n",
    "|`dict.values()`|사전에 사용된 value들을 모두 모아서 리스트와 비슷한 자료형을 만들어서 반환\n",
    "|`dict.items()`|사전에 사용된 item들을 모두 모아서 리스트와 비슷한 자료형으로 만들어서 반환|\n",
    "|`dict.get()`|key에 대응되는 value를 반환. 존재하지 않는 key를 사용하면 `None`을 반환\n",
    "|`dict.update()`|다른 사전과 합함. 반환값은 `None`|\n",
    "|`dict.pop()`|key에 해당하는 항목을 삭제. 반환값은 key에 대응하는 value. key가 존재하지 않으면 오류 발생.|\n",
    "|`dict.clear()`|사전 안의 모든 항목들을 삭제. 반환값은 `None`|"
   ]
  },
  {
   "cell_type": "markdown",
   "id": "bbc1d17f",
   "metadata": {},
   "source": [
    "**`keys()` 메서드**"
   ]
  },
  {
   "cell_type": "code",
   "execution_count": 33,
   "id": "9659b231",
   "metadata": {},
   "outputs": [
    {
     "data": {
      "text/plain": [
       "dict_keys(['Hello', 'World'])"
      ]
     },
     "execution_count": 33,
     "metadata": {},
     "output_type": "execute_result"
    }
   ],
   "source": [
    "dic.keys()"
   ]
  },
  {
   "cell_type": "markdown",
   "id": "ebdb3dbc",
   "metadata": {},
   "source": [
    "**`values()` 메서드**"
   ]
  },
  {
   "cell_type": "code",
   "execution_count": 34,
   "id": "375346e7",
   "metadata": {},
   "outputs": [
    {
     "data": {
      "text/plain": [
       "dict_values(['안녕', '세계'])"
      ]
     },
     "execution_count": 34,
     "metadata": {},
     "output_type": "execute_result"
    }
   ],
   "source": [
    "dic.values()"
   ]
  },
  {
   "cell_type": "markdown",
   "id": "d6c51278",
   "metadata": {},
   "source": [
    "**`items()` 메서드**"
   ]
  },
  {
   "cell_type": "code",
   "execution_count": 35,
   "id": "c0aed9b6",
   "metadata": {},
   "outputs": [
    {
     "data": {
      "text/plain": [
       "dict_items([('Hello', '안녕'), ('World', '세계')])"
      ]
     },
     "execution_count": 35,
     "metadata": {},
     "output_type": "execute_result"
    }
   ],
   "source": [
    "dic.items()"
   ]
  },
  {
   "cell_type": "markdown",
   "id": "19f33add",
   "metadata": {},
   "source": [
    "**`get()` 메서드**"
   ]
  },
  {
   "cell_type": "code",
   "execution_count": 36,
   "id": "3af0c38a",
   "metadata": {},
   "outputs": [
    {
     "data": {
      "text/plain": [
       "'안녕'"
      ]
     },
     "execution_count": 36,
     "metadata": {},
     "output_type": "execute_result"
    }
   ],
   "source": [
    "dic.get('Hello')"
   ]
  },
  {
   "cell_type": "markdown",
   "id": "4102254c",
   "metadata": {},
   "source": [
    "존재하지 않는 키를 사용하면 기본값으로 `None`이 사용된다."
   ]
  },
  {
   "cell_type": "code",
   "execution_count": 37,
   "id": "41da7ee6",
   "metadata": {},
   "outputs": [],
   "source": [
    "dic.get('hello')"
   ]
  },
  {
   "cell_type": "markdown",
   "id": "54f2b9d1",
   "metadata": {},
   "source": [
    "키가 사용되지 않았을 때 기본값을 바꾸려면 둘째 인자를 지정한다."
   ]
  },
  {
   "cell_type": "code",
   "execution_count": 38,
   "id": "44966d5a",
   "metadata": {},
   "outputs": [
    {
     "data": {
      "text/plain": [
       "'해당 키가 없어요.'"
      ]
     },
     "execution_count": 38,
     "metadata": {},
     "output_type": "execute_result"
    }
   ],
   "source": [
    "dic.get('hello', \"해당 키가 없어요.\")"
   ]
  },
  {
   "cell_type": "markdown",
   "id": "067dd003",
   "metadata": {},
   "source": [
    "**`update()` 메서드**"
   ]
  },
  {
   "cell_type": "code",
   "execution_count": 39,
   "id": "c1268cd5-b9f9-4b36-93bd-a15ca1f41906",
   "metadata": {},
   "outputs": [
    {
     "name": "stdout",
     "output_type": "stream",
     "text": [
      "None\n",
      "{'Hello': '안녕', 'World': '세계', 'Python': '파이썬', 'Programming': '프로그래밍'}\n"
     ]
    }
   ],
   "source": [
    "print(dic.update({'Python' : '파이썬', 'Programming' : '프로그래밍'}))\n",
    "print(dic)"
   ]
  },
  {
   "cell_type": "markdown",
   "id": "be47ac05",
   "metadata": {},
   "source": [
    "**`pop()` 메서드**"
   ]
  },
  {
   "cell_type": "code",
   "execution_count": 40,
   "id": "64c6dbd9-c7f3-4d32-959e-b255d2872a7b",
   "metadata": {},
   "outputs": [
    {
     "name": "stdout",
     "output_type": "stream",
     "text": [
      "파이썬\n",
      "{'Hello': '안녕', 'World': '세계', 'Programming': '프로그래밍'}\n"
     ]
    }
   ],
   "source": [
    "print(dic.pop('Python'))\n",
    "print(dic)"
   ]
  },
  {
   "cell_type": "markdown",
   "id": "e3b4a496",
   "metadata": {},
   "source": [
    "**`clear()` 메서드**"
   ]
  },
  {
   "cell_type": "code",
   "execution_count": 41,
   "id": "3f59b7f1-2288-41ac-8d7f-2da2d986264c",
   "metadata": {},
   "outputs": [
    {
     "name": "stdout",
     "output_type": "stream",
     "text": [
      "None\n",
      "{}\n"
     ]
    }
   ],
   "source": [
    "print(dic.clear())\n",
    "print(dic)"
   ]
  },
  {
   "cell_type": "markdown",
   "id": "319de1c9-4138-4724-93d2-314961929185",
   "metadata": {},
   "source": [
    "## 형변환 함수"
   ]
  },
  {
   "cell_type": "markdown",
   "id": "c4b09723-6104-4109-bb66-6eb41b1cca9d",
   "metadata": {},
   "source": [
    "**`list()` 함수**"
   ]
  },
  {
   "cell_type": "markdown",
   "id": "02f9cb30-2240-441a-9ce8-c63862a632ba",
   "metadata": {},
   "source": [
    "`list()` : 리스트형으로 변환."
   ]
  },
  {
   "cell_type": "code",
   "execution_count": 42,
   "id": "ab903b39-5f15-4675-bc4b-dca1ddbe3433",
   "metadata": {},
   "outputs": [
    {
     "data": {
      "text/plain": [
       "['a', 'b', 'c']"
      ]
     },
     "execution_count": 42,
     "metadata": {},
     "output_type": "execute_result"
    }
   ],
   "source": [
    "list('abc')  #문자열의 각 문자를 항목으로 갖는 리스트 반환"
   ]
  },
  {
   "cell_type": "code",
   "execution_count": 43,
   "id": "8f212274-ca48-4ed1-98bc-8134d50e1fdd",
   "metadata": {},
   "outputs": [
    {
     "data": {
      "text/plain": [
       "[1, 2, 3]"
      ]
     },
     "execution_count": 43,
     "metadata": {},
     "output_type": "execute_result"
    }
   ],
   "source": [
    "list((1, 2, 3))"
   ]
  },
  {
   "cell_type": "code",
   "execution_count": 44,
   "id": "841be636-0d7a-4ff7-882d-6c3cf7e5c068",
   "metadata": {},
   "outputs": [
    {
     "data": {
      "text/plain": [
       "[1, 2, 5]"
      ]
     },
     "execution_count": 44,
     "metadata": {},
     "output_type": "execute_result"
    }
   ],
   "source": [
    "list({1, 2, 5})"
   ]
  },
  {
   "cell_type": "code",
   "execution_count": 45,
   "id": "375cb576-1017-42ac-a1db-4dfb887088e7",
   "metadata": {},
   "outputs": [
    {
     "name": "stdout",
     "output_type": "stream",
     "text": [
      "['Hello', 'World']\n",
      "['Hello', 'World']\n",
      "['안녕', '세계']\n",
      "[('Hello', '안녕'), ('World', '세계')]\n"
     ]
    }
   ],
   "source": [
    "dic = {'Hello' : '안녕', 'World' : '세계'}\n",
    "print(list(dic))\n",
    "print(list(dic.keys()))\n",
    "print(list(dic.values()))\n",
    "print(list(dic.items()))"
   ]
  },
  {
   "cell_type": "markdown",
   "id": "44f98162-6279-4b8b-a0aa-114d29526871",
   "metadata": {},
   "source": [
    "**`tuple()` 함수**"
   ]
  },
  {
   "cell_type": "markdown",
   "id": "2bbad64a-4f66-4cdb-9109-3f2a7e7e4df9",
   "metadata": {},
   "source": [
    "`tuple()` : 튜플형으로 변환."
   ]
  },
  {
   "cell_type": "code",
   "execution_count": 46,
   "id": "446ce8ca-63e0-45ae-af89-60ca347bca90",
   "metadata": {},
   "outputs": [
    {
     "data": {
      "text/plain": [
       "('a', 'b', 'c')"
      ]
     },
     "execution_count": 46,
     "metadata": {},
     "output_type": "execute_result"
    }
   ],
   "source": [
    "tuple('abc')"
   ]
  },
  {
   "cell_type": "code",
   "execution_count": 47,
   "id": "628b9998-dcb9-4754-bc17-8ee168ec8193",
   "metadata": {},
   "outputs": [
    {
     "data": {
      "text/plain": [
       "(1, 2, 3)"
      ]
     },
     "execution_count": 47,
     "metadata": {},
     "output_type": "execute_result"
    }
   ],
   "source": [
    "tuple([1, 2, 3])"
   ]
  },
  {
   "cell_type": "code",
   "execution_count": 48,
   "id": "04c5e64b-e018-4b2a-b5e0-03a76294437a",
   "metadata": {},
   "outputs": [
    {
     "data": {
      "text/plain": [
       "(1, 2, 5)"
      ]
     },
     "execution_count": 48,
     "metadata": {},
     "output_type": "execute_result"
    }
   ],
   "source": [
    "tuple({1, 2, 5})"
   ]
  },
  {
   "cell_type": "code",
   "execution_count": 49,
   "id": "9e0f83a1-3fa0-445d-a09d-c858ebeac782",
   "metadata": {},
   "outputs": [
    {
     "name": "stdout",
     "output_type": "stream",
     "text": [
      "('Hello', 'World')\n",
      "('Hello', 'World')\n",
      "('안녕', '세계')\n",
      "(('Hello', '안녕'), ('World', '세계'))\n"
     ]
    }
   ],
   "source": [
    "dic = {'Hello' : '안녕', 'World' : '세계'}\n",
    "print(tuple(dic))\n",
    "print(tuple(dic.keys()))\n",
    "print(tuple(dic.values()))\n",
    "print(tuple(dic.items()))"
   ]
  },
  {
   "cell_type": "markdown",
   "id": "1641da91-649c-49f3-b652-1055e59bc440",
   "metadata": {},
   "source": [
    "**`set()` 함수**"
   ]
  },
  {
   "cell_type": "markdown",
   "id": "c4c46095-5a61-4c07-b96d-1b35c7930f89",
   "metadata": {},
   "source": [
    "`set()` : 집합형으로 변환."
   ]
  },
  {
   "cell_type": "code",
   "execution_count": 50,
   "id": "3fbe1fa9-ec0d-421a-80aa-af40af935397",
   "metadata": {},
   "outputs": [
    {
     "data": {
      "text/plain": [
       "{'a', 'b', 'c'}"
      ]
     },
     "execution_count": 50,
     "metadata": {},
     "output_type": "execute_result"
    }
   ],
   "source": [
    "set('abc')"
   ]
  },
  {
   "cell_type": "code",
   "execution_count": 51,
   "id": "53fd9901-484d-4a91-8882-7b0c8c06697e",
   "metadata": {},
   "outputs": [
    {
     "data": {
      "text/plain": [
       "{1, 2, 5}"
      ]
     },
     "execution_count": 51,
     "metadata": {},
     "output_type": "execute_result"
    }
   ],
   "source": [
    "set([1, 1, 2, 5])"
   ]
  },
  {
   "cell_type": "code",
   "execution_count": 52,
   "id": "fd916e01-1ce2-4705-97d6-9621b5ac7dab",
   "metadata": {},
   "outputs": [
    {
     "data": {
      "text/plain": [
       "{1, 3, 9}"
      ]
     },
     "execution_count": 52,
     "metadata": {},
     "output_type": "execute_result"
    }
   ],
   "source": [
    "set((1, 3, 3, 9, 1))"
   ]
  },
  {
   "cell_type": "code",
   "execution_count": 53,
   "id": "09ccf640-cb04-4de4-a903-aac7abddad8d",
   "metadata": {},
   "outputs": [
    {
     "name": "stdout",
     "output_type": "stream",
     "text": [
      "{'Hi', 'Hello', 'World'}\n",
      "{'Hi', 'Hello', 'World'}\n",
      "{'안녕', '세계'}\n",
      "{('World', '세계'), ('Hello', '안녕'), ('Hi', '안녕')}\n"
     ]
    }
   ],
   "source": [
    "dic = {'Hello' : '안녕', 'World' : '세계', 'Hi' : '안녕'}\n",
    "print(set(dic))\n",
    "print(set(dic.keys()))\n",
    "print(set(dic.values()))\n",
    "print(set(dic.items()))"
   ]
  },
  {
   "cell_type": "markdown",
   "id": "d78bc2b3-00b0-4f26-a9b5-6e1c4f20560d",
   "metadata": {},
   "source": [
    "**`dict()` 함수**"
   ]
  },
  {
   "cell_type": "markdown",
   "id": "c66da86a-a6f1-4a55-a50b-f650816ad5ff",
   "metadata": {},
   "source": [
    "`dict()` : 사전형으로 변환.  \n",
    "\n",
    "사전의 각 항목은 키와 값으로 이루어졌기 때문에 적절하게 짝지어진 데이터를 사용해야 사전을 만들 수 있다."
   ]
  },
  {
   "cell_type": "code",
   "execution_count": 54,
   "id": "c3c288b6-042a-4140-b9f1-eb301bcc247a",
   "metadata": {},
   "outputs": [
    {
     "data": {
      "text/plain": [
       "{'Hello': '안녕', 'World': '세계', 'Programming': '프로그래밍'}"
      ]
     },
     "execution_count": 54,
     "metadata": {},
     "output_type": "execute_result"
    }
   ],
   "source": [
    "data = [('Hello', '안녕'), ('World', '세계'), ('Programming', '프로그래밍')]\n",
    "dict(data)"
   ]
  },
  {
   "cell_type": "code",
   "execution_count": 55,
   "id": "dc22c48d-575f-45c6-b8c7-42c4332176e8",
   "metadata": {},
   "outputs": [
    {
     "data": {
      "text/plain": [
       "{'a': 1, 'b': 2, 'c': 3, 'd': 4, 'e': 5}"
      ]
     },
     "execution_count": 55,
     "metadata": {},
     "output_type": "execute_result"
    }
   ],
   "source": [
    "data = zip('abcde', [1, 2, 3, 4, 5])\n",
    "dict(data)"
   ]
  },
  {
   "cell_type": "code",
   "execution_count": 56,
   "id": "0b7de40e-3b95-424e-a0db-8596cb567ece",
   "metadata": {},
   "outputs": [
    {
     "data": {
      "text/plain": [
       "{'Hello': '안녕', 'World': '세계', 'Programming': '프로그래밍'}"
      ]
     },
     "execution_count": 56,
     "metadata": {},
     "output_type": "execute_result"
    }
   ],
   "source": [
    "dict(Hello = '안녕', World = '세계', Programming = '프로그래밍')"
   ]
  },
  {
   "cell_type": "markdown",
   "id": "cab31a57-ed44-4b0f-9f34-2239177b48aa",
   "metadata": {},
   "source": [
    "## 조건제시법"
   ]
  },
  {
   "cell_type": "markdown",
   "id": "3019197a-0694-4a74-8037-29ad43f29531",
   "metadata": {},
   "source": [
    "리스트, 집합, 사전은 조건제시법<font size = \"2\">comprehension</font>을 이용하여 정의할 수 있다."
   ]
  },
  {
   "cell_type": "markdown",
   "id": "840a733d-3076-40f5-b2f4-be02a15dd942",
   "metadata": {},
   "source": [
    "### 리스트 조건제시법"
   ]
  },
  {
   "cell_type": "markdown",
   "id": "5fb2bf35-4e0c-4e63-9797-4e5dd1f6c5ad",
   "metadata": {},
   "source": [
    "리스트 조건제시법은 수학에서 집합을 정의할 때 사용하는 조건제시법과 매우 유사한다.   \n",
    "\n",
    "* 0과 10사이에 있는 홀수들의 제곱을 원소로 갖는 집합을 조건제시법으로 표현한다.  \n",
    "{ x^2 | 0 <= x <= 10, 단 x는 홀수 }\n",
    "\n",
    "* 집합 기호를 리스트 기호로 대체한다.   \n",
    "[ x^2 | 0 <= x <= 10, 단 x는 홀수 ]  \n",
    "\n",
    "* 집합의 짝대기(|) 기호는 `for`로 대체한다.   \n",
    "[ x^2 for 0 <= x <= 10, 단 x는 홀수 ]  \n",
    "\n",
    "* 짝대기 기호 왼편에 위치한 x^2를 파이썬 수식으로 변경한다. 즉, x ** 2로 변경한다.   \n",
    "[ x ** 2 for 0 <= x <= 10, 단 x는 홀수 ]  \n",
    "\n",
    "* 짝대기 기호 오른편에 위치하고, 변수 x가 어느 범위에서 움직이는지를 설명하는 부등식인 0 <= x <= 10 부분을 파이썬 수식으로 변경한다. 주로, 기존에 정의된 리스트를 사용하거나 `range()` 함수를 사용하여 범위를 x in ... 형식으로 지정한다.   \n",
    "[ x ** 2 for x in range(11), 단 x는 홀수 ]  "
   ]
  },
  {
   "cell_type": "markdown",
   "id": "2018b30f-7a1d-494d-a825-05c9bbff9dce",
   "metadata": {},
   "source": [
    ":::{admonition} `range()` 함수  \n",
    ":class: info  \n",
    "`range()` 함수는 규칙성을 가진 정수들의 모음<font size = \"2\">collection</font>을 반환한다. 반환된 값은 range객체이며, 리스트와 유사하게 작동한다.  \n",
    "\n",
    "`range()` 함수는 인자를 최대 세 개까지 받을 수 있다. 각 인자들의 역할은 슬라이싱에 사용되는 세 개의 인자들의 역할과 동일하다. \n",
    "* `range([start, ] stop [, step])`\n",
    "* `start`의 경우 주어지지 않으면 `0`을 기본값으로 갖는다.\n",
    "* `step`의 경우 주어지지 않으면 `1`을 기본값으로 갖는다.\n",
    "\n",
    "예를 들어, 0부터 10까지의 정수들로 이루어진 `range`객체는 다음과 같이 생성한다.  \n",
    "리스트로 형변환하면 `range(11)` 안에 포함된 항목을 확인할 수 있다. \n",
    "```python\n",
    ">>> print(range(11))\n",
    "range(0, 11)\n",
    ">>> print(list(range(11)))\n",
    "[0, 1, 2, 3, 4, 5, 6, 7, 8, 9, 10]\n",
    "```\n",
    "range형은 불변 시퀀스이다. \n",
    ":::\n"
   ]
  },
  {
   "cell_type": "markdown",
   "id": "6a7d4ee6-4b60-4374-992b-25606e6171fb",
   "metadata": {},
   "source": [
    "* 마지막으로 변수 `x`에 대한 제한조건인 `단 x는 홀수` 부분을 파이썬의 `if` 문장으로 변경한다. 예를 들어, `x는 홀수`는 파이썬의 `x % 2 == 1`로 나타낼 수 있다.  \n",
    "`[x**2 for x in range(11) if x % 2 == 1]`"
   ]
  },
  {
   "cell_type": "code",
   "execution_count": 57,
   "id": "fb434b08-e2b9-4e7d-87ec-3fb3398d2d13",
   "metadata": {},
   "outputs": [
    {
     "data": {
      "text/plain": [
       "[1, 9, 25, 49, 81]"
      ]
     },
     "execution_count": 57,
     "metadata": {},
     "output_type": "execute_result"
    }
   ],
   "source": [
    "a_list = [x**2 for x in range(11) if x % 2 == 1]\n",
    "a_list"
   ]
  },
  {
   "cell_type": "markdown",
   "id": "02553397-1d6d-4054-b83b-bac7c3767eaf",
   "metadata": {},
   "source": [
    ":::{admonition} 참고   \n",
    ":class: info  \n",
    "\n",
    "위의 조건제시법은 다음 장에서 소개하는 `for` 반복문을 활용한 코드와 동일하다.\n",
    "\n",
    "```python\n",
    ">>> a_list = []\n",
    ">>> for x in range(0, 10) :\n",
    "        if x % 2 == 1 :\n",
    "            a_list.append(x ** 2)\n",
    ">>> print(a_list)\n",
    "[1, 9, 25, 49, 81]\n",
    "```\n",
    ":::\n"
   ]
  },
  {
   "cell_type": "markdown",
   "id": "71c1590e-7127-46df-a882-518a56f33b91",
   "metadata": {},
   "source": [
    ":::{admonition} 참고  \n",
    ":class: info  \n",
    "아래와 같이 리스트를 초기화할 때, 리스트 조건제시법을 사용하면 좋다. \n",
    "```python\n",
    ">>> a = [[0] * 5 for x in range(5)]\n",
    ">>> print(a)\n",
    "[[0, 0, 0, 0, 0],\n",
    " [0, 0, 0, 0, 0],\n",
    " [0, 0, 0, 0, 0],\n",
    " [0, 0, 0, 0, 0],\n",
    " [0, 0, 0, 0, 0]]\n",
    "```\n",
    "\n",
    "리스트 `a`는 리스트`b`와 동일하지 않다. \n",
    "```python\n",
    ">>> b = [[0] * 5] * 5\n",
    ">>> print(b)\n",
    "[[0, 0, 0, 0, 0],\n",
    " [0, 0, 0, 0, 0],\n",
    " [0, 0, 0, 0, 0],\n",
    " [0, 0, 0, 0, 0],\n",
    " [0, 0, 0, 0, 0]]\n",
    "```\n",
    "\n",
    "아래 그림처럼 리스트 `a`의 각 항목은 서로 다른 리스트를 참조한다. 반면 리스트 `b`의 각 항목은 하나의 리스트를 참조한다. \n",
    "<div align=\"center\">\n",
    "    <img src=\"https://raw.githubusercontent.com/hj617kim/core_pybook/master/images/ch04/list_comp01.png\" style=\"width:400px;\">\n",
    "</div>\n",
    "\n",
    "이러한 성질로 아래와 같은 일이 발생한다. 예를 들어, `a[2][3] = 1` 코드를 사용하여 리스트 `a`의 3행 4열의 값을 1로 변경하고자 하면, 해당 값이 1로 변경된 것을 볼 수 있다. 반면 `b[2][3] = 1` 코드를 사용한 다음, `b`를 확인해보면 4열의 값이 모두 1로 변경된 것을 볼 수 있다. 즉, 리스트 `b`는 원하는 대로 동작하지 않는다. \n",
    "\n",
    "```python\n",
    ">>> a = [[0] * 5 for x in range(5)]\n",
    ">>> a[2][3] = 1\n",
    "[[0, 0, 0, 0, 0],\n",
    " [0, 0, 0, 0, 0],\n",
    " [0, 0, 0, 1, 0],\n",
    " [0, 0, 0, 0, 0],\n",
    " [0, 0, 0, 0, 0]]\n",
    ">>> b[2][3] = 1\n",
    ">>> print(b)\n",
    "[[0, 0, 0, 1, 0],\n",
    " [0, 0, 0, 1, 0],\n",
    " [0, 0, 0, 1, 0],\n",
    " [0, 0, 0, 1, 0],\n",
    " [0, 0, 0, 1, 0]]\n",
    "```\n",
    ":::\n"
   ]
  },
  {
   "cell_type": "markdown",
   "id": "29026f64",
   "metadata": {},
   "source": [
    "### 집합 조건제시법 "
   ]
  },
  {
   "cell_type": "markdown",
   "id": "319e4287-e198-479d-b530-77fb1d892d3f",
   "metadata": {},
   "source": [
    "조건제시법을 이용하여 집합을 생성하는 과정은 리스트 조건제시법과 비슷하다. "
   ]
  },
  {
   "cell_type": "code",
   "execution_count": 58,
   "id": "12f307a0-b968-495e-82a3-c5326db66b1e",
   "metadata": {},
   "outputs": [
    {
     "name": "stdout",
     "output_type": "stream",
     "text": [
      "['Python', 'is', 'a', 'general', 'purpose', 'language']\n",
      "[6, 2, 1, 7, 7, 8]\n",
      "{1, 2, 6, 7, 8}\n"
     ]
    }
   ],
   "source": [
    "words = 'Python is a general purpose language'.split()\n",
    "print(words)\n",
    "words_len = [len(x) for x in words] # 리스트 조건제시법\n",
    "print(words_len)\n",
    "unique_len = {len(x) for x in words} # 집합 조건제시법\n",
    "print(unique_len)"
   ]
  },
  {
   "cell_type": "markdown",
   "id": "f5488991",
   "metadata": {},
   "source": [
    "### 사전 조건제시법  "
   ]
  },
  {
   "cell_type": "markdown",
   "id": "39caa271-f70b-47d9-9745-7376b9f5afd5",
   "metadata": {},
   "source": [
    "조건제시법을 이용하여 사전을 생성하는 과정도 유사하다. "
   ]
  },
  {
   "cell_type": "code",
   "execution_count": 59,
   "id": "2e84f3b0-e452-4426-8bbf-fc74b3d52f96",
   "metadata": {},
   "outputs": [
    {
     "name": "stdout",
     "output_type": "stream",
     "text": [
      "['Python', 'is', 'a', 'general', 'purpose', 'language']\n",
      "{'Python': 6, 'is': 2, 'a': 1, 'general': 7, 'purpose': 7, 'language': 8}\n"
     ]
    }
   ],
   "source": [
    "words = 'Python is a general purpose language'.split()\n",
    "print(words)\n",
    "len_dict = {k : len(k) for k in words}\n",
    "print(len_dict)"
   ]
  },
  {
   "cell_type": "markdown",
   "id": "af79ef73-80e6-45dc-a6f1-8635a0bd9660",
   "metadata": {},
   "source": [
    "## 연습문제"
   ]
  },
  {
   "cell_type": "markdown",
   "id": "3439498a",
   "metadata": {},
   "source": [
    "참고: [(실습) 모음 자료형](https://colab.research.google.com/github/codingalzi/pybook/blob/master/practices/practice-collections.ipynb)"
   ]
  }
 ],
 "metadata": {
  "kernelspec": {
   "display_name": "Python 3 (ipykernel)",
   "language": "python",
   "name": "python3"
  },
  "language_info": {
   "codemirror_mode": {
    "name": "ipython",
    "version": 3
   },
   "file_extension": ".py",
   "mimetype": "text/x-python",
   "name": "python",
   "nbconvert_exporter": "python",
   "pygments_lexer": "ipython3",
   "version": "3.9.7"
  },
  "toc-autonumbering": true
 },
 "nbformat": 4,
 "nbformat_minor": 5
}