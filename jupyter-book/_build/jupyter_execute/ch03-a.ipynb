{
 "cells": [
  {
   "cell_type": "markdown",
   "metadata": {},
   "source": [
    "# 프로그래밍 시작하기"
   ]
  },
  {
   "cell_type": "markdown",
   "metadata": {},
   "source": [
    "간단한 예제를 이용하여 파이썬 프로그래밍을 맛보기 해본다."
   ]
  },
  {
   "cell_type": "markdown",
   "metadata": {},
   "source": [
    "## 계산기"
   ]
  },
  {
   "cell_type": "markdown",
   "metadata": {},
   "source": [
    "파이썬을 계산기로 활용할 수 있다."
   ]
  },
  {
   "cell_type": "markdown",
   "metadata": {},
   "source": [
    "### 수 연산"
   ]
  },
  {
   "cell_type": "markdown",
   "metadata": {},
   "source": [
    "임의의 연산식을 작성하고 실행하면 연산 결과가 계산되어 보여진다. \n",
    "일반적으로 알려진 사칙연산 규칙이 동일하게 적용된다."
   ]
  },
  {
   "cell_type": "code",
   "execution_count": 1,
   "metadata": {},
   "outputs": [
    {
     "data": {
      "text/plain": [
       "-3"
      ]
     },
     "execution_count": 1,
     "metadata": {},
     "output_type": "execute_result"
    }
   ],
   "source": [
    "-5 + 2"
   ]
  },
  {
   "cell_type": "code",
   "execution_count": 2,
   "metadata": {},
   "outputs": [
    {
     "data": {
      "text/plain": [
       "20"
      ]
     },
     "execution_count": 2,
     "metadata": {},
     "output_type": "execute_result"
    }
   ],
   "source": [
    "50 - 5 * 6"
   ]
  },
  {
   "cell_type": "code",
   "execution_count": 3,
   "metadata": {},
   "outputs": [
    {
     "data": {
      "text/plain": [
       "5.0"
      ]
     },
     "execution_count": 3,
     "metadata": {},
     "output_type": "execute_result"
    }
   ],
   "source": [
    "(50 - 5 * 6) / 4"
   ]
  },
  {
   "cell_type": "code",
   "execution_count": 4,
   "metadata": {},
   "outputs": [
    {
     "data": {
      "text/plain": [
       "5.666666666666667"
      ]
     },
     "execution_count": 4,
     "metadata": {},
     "output_type": "execute_result"
    }
   ],
   "source": [
    "17 / 3"
   ]
  },
  {
   "cell_type": "markdown",
   "metadata": {},
   "source": [
    "`-3`, `5`, `17` 등의 정수는 `int` 라는 정수 자료형에 속하고, \n",
    "`5.0`, `1.6` 등의 소수는 `float`\n",
    "**부동소수점** 자료형에 속한다.\n",
    "나눗셈의 결과는 항상 `float`에 속한다. \n",
    "\n",
    "대다수의 프로그래밍 언어에서 `5` 와 `5.0` 은 서로 다른 \n",
    "**자료형**<font size=\"2\">data type</font>에 속하는 것으로 취급한다.\n",
    "하지만 그럼에도 불구하고 `5` 와 `5.0` 을 동일한 수로 간주하기도 한다. \n",
    "이는 정수와 소수는 원래 다르지만 정수 집합을 소수 집합의 부분집합으로 취급한다는\n",
    "수학 상식과도 일치한다.\n",
    "따라서 정수와 부동소수점이 함께 연산에 사용되는 정수는 모두 부동소수점으로 처리되어\n",
    "계산된다."
   ]
  },
  {
   "cell_type": "code",
   "execution_count": 5,
   "metadata": {},
   "outputs": [
    {
     "data": {
      "text/plain": [
       "14.0"
      ]
     },
     "execution_count": 5,
     "metadata": {},
     "output_type": "execute_result"
    }
   ],
   "source": [
    "4 * 3.75 - 1"
   ]
  },
  {
   "cell_type": "markdown",
   "metadata": {},
   "source": [
    "몫과 나머지는 정수로 계산된다."
   ]
  },
  {
   "cell_type": "code",
   "execution_count": 6,
   "metadata": {},
   "outputs": [
    {
     "data": {
      "text/plain": [
       "5"
      ]
     },
     "execution_count": 6,
     "metadata": {},
     "output_type": "execute_result"
    }
   ],
   "source": [
    "17 // 3   # 몫 계산"
   ]
  },
  {
   "cell_type": "code",
   "execution_count": 7,
   "metadata": {},
   "outputs": [
    {
     "data": {
      "text/plain": [
       "2"
      ]
     },
     "execution_count": 7,
     "metadata": {},
     "output_type": "execute_result"
    }
   ],
   "source": [
    "17 % 3    # 나머지 계산"
   ]
  },
  {
   "cell_type": "markdown",
   "metadata": {},
   "source": [
    "지수승 연산은 `**` 연산자를 이용한다.\n",
    "샵 기호는 이후의 문장을 주석<font size=\"2\">comment</font> 로 처리하도록 한다.\n",
    "즉, 파이썬 해석기에 의해 무시되어 코드 실행과 무관해진다."
   ]
  },
  {
   "cell_type": "code",
   "execution_count": 8,
   "metadata": {},
   "outputs": [
    {
     "data": {
      "text/plain": [
       "25"
      ]
     },
     "execution_count": 8,
     "metadata": {},
     "output_type": "execute_result"
    }
   ],
   "source": [
    "5 ** 2    # 5의 제곱"
   ]
  },
  {
   "cell_type": "code",
   "execution_count": 9,
   "metadata": {},
   "outputs": [
    {
     "data": {
      "text/plain": [
       "128"
      ]
     },
     "execution_count": 9,
     "metadata": {},
     "output_type": "execute_result"
    }
   ],
   "source": [
    "2 ** 7    # 2의 7승"
   ]
  },
  {
   "cell_type": "markdown",
   "metadata": {},
   "source": [
    ":::{admonition} 주의\n",
    ":class: warning\n",
    "\n",
    "지수승 연산이 뺄셈 연산 보다 우선된다.\n",
    "예를 들어 `-3**2`는 `-3`의 제곱인 9가 아닌 `-(3**2)`, 즉 `-9`로 계산된다.\n",
    "혼란을 피하기 위해 괄호 사용을 권장한다.\n",
    ":::"
   ]
  },
  {
   "cell_type": "markdown",
   "metadata": {},
   "source": [
    "### 변수 할당"
   ]
  },
  {
   "cell_type": "markdown",
   "metadata": {},
   "source": [
    "**변수 할당**<font size=\"2\">variable assignment</font>은 \n",
    "변수가 특정 값을 가리키도록 명령하는 것이다.\n",
    "이를 위해 등호 기호 `=` 를 사용한다."
   ]
  },
  {
   "cell_type": "code",
   "execution_count": 10,
   "metadata": {},
   "outputs": [],
   "source": [
    "width = 20\n",
    "height = 5 * 9"
   ]
  },
  {
   "cell_type": "markdown",
   "metadata": {},
   "source": [
    "변수가 가리키는 값을 대신하여 해당 변수를 연산에 사용할 수 있다."
   ]
  },
  {
   "cell_type": "code",
   "execution_count": 11,
   "metadata": {},
   "outputs": [
    {
     "data": {
      "text/plain": [
       "900"
      ]
     },
     "execution_count": 11,
     "metadata": {},
     "output_type": "execute_result"
    }
   ],
   "source": [
    "width * height"
   ]
  },
  {
   "cell_type": "markdown",
   "metadata": {},
   "source": [
    "변수 할당이 지정되지 않는 변수,\n",
    "즉 정의되지 않은 변수는 사용할 수 없다.\n",
    "\n",
    "```python\n",
    ">>> n\n",
    "Traceback (most recent call last):\n",
    "  File \"<stdin>\", line 1, in <module>\n",
    "NameError: name 'n' is not defined\n",
    "```"
   ]
  },
  {
   "cell_type": "markdown",
   "metadata": {},
   "source": [
    "## 문자열"
   ]
  },
  {
   "cell_type": "markdown",
   "metadata": {},
   "source": [
    "**문자열**은 문자와 기호들의 나열을 의미하며 작은따옴표 또는 끈따옴표로 감싸인다.\n",
    "`print()` 함수는 지정된 문자열을 화면에 출력한다.\n",
    "이때 문자열을 감싸는 따옴표를 제고하고 동시에 문자열에 포함된 특별한 기능을 수행하는 문자를\n",
    "적절하게 변환해서 보여준다."
   ]
  },
  {
   "cell_type": "code",
   "execution_count": 12,
   "metadata": {},
   "outputs": [
    {
     "data": {
      "text/plain": [
       "'spam eggs'"
      ]
     },
     "execution_count": 12,
     "metadata": {},
     "output_type": "execute_result"
    }
   ],
   "source": [
    "'spam eggs'"
   ]
  },
  {
   "cell_type": "code",
   "execution_count": 13,
   "metadata": {},
   "outputs": [
    {
     "name": "stdout",
     "output_type": "stream",
     "text": [
      "spam eggs\n"
     ]
    }
   ],
   "source": [
    "print('spam eggs')"
   ]
  },
  {
   "cell_type": "markdown",
   "metadata": {},
   "source": [
    "작은따옴표로 감싸인 문자열이 작은따옴표를 포함하도록 하려면\n",
    "백슬래시 `\\`기호를 작은따옴표 기호 바로 앞에 추가한다."
   ]
  },
  {
   "cell_type": "code",
   "execution_count": 14,
   "metadata": {},
   "outputs": [
    {
     "data": {
      "text/plain": [
       "\"doesn't\""
      ]
     },
     "execution_count": 14,
     "metadata": {},
     "output_type": "execute_result"
    }
   ],
   "source": [
    "'doesn\\'t'"
   ]
  },
  {
   "cell_type": "code",
   "execution_count": 15,
   "metadata": {},
   "outputs": [
    {
     "name": "stdout",
     "output_type": "stream",
     "text": [
      "doesn't\n"
     ]
    }
   ],
   "source": [
    "print('doesn\\'t')"
   ]
  },
  {
   "cell_type": "markdown",
   "metadata": {},
   "source": [
    "큰따옴표로 감싸인 문자열에 작은따옴표를 임의로 포함시킬 수 있다.\n",
    "이는 문자열의 시작과 끝이 작은따옴표에도 불구하고 명확하기 때문이다."
   ]
  },
  {
   "cell_type": "code",
   "execution_count": 16,
   "metadata": {},
   "outputs": [
    {
     "data": {
      "text/plain": [
       "\"doesn't\""
      ]
     },
     "execution_count": 16,
     "metadata": {},
     "output_type": "execute_result"
    }
   ],
   "source": [
    "\"doesn't\""
   ]
  },
  {
   "cell_type": "code",
   "execution_count": 17,
   "metadata": {},
   "outputs": [
    {
     "name": "stdout",
     "output_type": "stream",
     "text": [
      "doesn't\n"
     ]
    }
   ],
   "source": [
    "print(\"doesn't\")"
   ]
  },
  {
   "cell_type": "markdown",
   "metadata": {},
   "source": [
    "동일한 이유로 작은따옴표로 감싸인 문자열이 큰따옴표를 포함해도 된다."
   ]
  },
  {
   "cell_type": "code",
   "execution_count": 18,
   "metadata": {},
   "outputs": [
    {
     "data": {
      "text/plain": [
       "'\"Yes,\" they said.'"
      ]
     },
     "execution_count": 18,
     "metadata": {},
     "output_type": "execute_result"
    }
   ],
   "source": [
    "'\"Yes,\" they said.'"
   ]
  },
  {
   "cell_type": "code",
   "execution_count": 19,
   "metadata": {},
   "outputs": [
    {
     "name": "stdout",
     "output_type": "stream",
     "text": [
      "\"Yes,\" they said.\n"
     ]
    }
   ],
   "source": [
    "print('\"Yes,\" they said.')"
   ]
  },
  {
   "cell_type": "markdown",
   "metadata": {},
   "source": [
    "하지만 큰따옴표로 감싸인 문자열이 큰따옴표를 포함하려면\n",
    "여기서도 백슬래시 기호를 추가해야 한다."
   ]
  },
  {
   "cell_type": "code",
   "execution_count": 20,
   "metadata": {},
   "outputs": [
    {
     "data": {
      "text/plain": [
       "'\"Yes,\" they said.'"
      ]
     },
     "execution_count": 20,
     "metadata": {},
     "output_type": "execute_result"
    }
   ],
   "source": [
    "\"\\\"Yes,\\\" they said.\""
   ]
  },
  {
   "cell_type": "code",
   "execution_count": 21,
   "metadata": {},
   "outputs": [
    {
     "name": "stdout",
     "output_type": "stream",
     "text": [
      "\"Yes,\" they said.\n"
     ]
    }
   ],
   "source": [
    "print(\"\\\"Yes,\\\" they said.\")"
   ]
  },
  {
   "cell_type": "markdown",
   "metadata": {},
   "source": [
    "문자열에 큰따옴표와 작은따옴표가 동시에 포함되면\n",
    "감싸는 따옴표와 동일한 종류의 따옴표는 백슬래시가 추가되어야 한다."
   ]
  },
  {
   "cell_type": "code",
   "execution_count": 22,
   "metadata": {},
   "outputs": [
    {
     "data": {
      "text/plain": [
       "'\"Isn\\'t,\" they said.'"
      ]
     },
     "execution_count": 22,
     "metadata": {},
     "output_type": "execute_result"
    }
   ],
   "source": [
    "'\"Isn\\'t,\" they said.'"
   ]
  },
  {
   "cell_type": "markdown",
   "metadata": {},
   "source": [
    "`print()` 함수는 백슬래시의 모든 특수 기능을 적절히 반영해서 화면에 출력한다."
   ]
  },
  {
   "cell_type": "code",
   "execution_count": 23,
   "metadata": {},
   "outputs": [
    {
     "name": "stdout",
     "output_type": "stream",
     "text": [
      "\"Isn't,\" they said.\n"
     ]
    }
   ],
   "source": [
    "print('\"Isn\\'t,\" they said.')"
   ]
  },
  {
   "cell_type": "markdown",
   "metadata": {},
   "source": [
    "`\\n`은 줄바꿈을 의미하는 문자다."
   ]
  },
  {
   "cell_type": "code",
   "execution_count": 24,
   "metadata": {},
   "outputs": [],
   "source": [
    "s = 'First line.\\nSecond line.'"
   ]
  },
  {
   "cell_type": "markdown",
   "metadata": {},
   "source": [
    "변수 `s` 가 가리키는 문자열은 다음과 같다."
   ]
  },
  {
   "cell_type": "code",
   "execution_count": 25,
   "metadata": {},
   "outputs": [
    {
     "data": {
      "text/plain": [
       "'First line.\\nSecond line.'"
      ]
     },
     "execution_count": 25,
     "metadata": {},
     "output_type": "execute_result"
    }
   ],
   "source": [
    "s"
   ]
  },
  {
   "cell_type": "markdown",
   "metadata": {},
   "source": [
    "`print()` 함수를 이용하면 실제 의도한 대로 두 줄로 표현된다."
   ]
  },
  {
   "cell_type": "code",
   "execution_count": 26,
   "metadata": {},
   "outputs": [
    {
     "name": "stdout",
     "output_type": "stream",
     "text": [
      "First line.\n",
      "Second line.\n"
     ]
    }
   ],
   "source": [
    "print(s)"
   ]
  },
  {
   "cell_type": "markdown",
   "metadata": {},
   "source": [
    "### 날 문자열"
   ]
  },
  {
   "cell_type": "markdown",
   "metadata": {},
   "source": [
    "앞서의 경우처럼 작은따옴표, 큰따옴표, 특수 문자에 대해 백슬래시를 사용하냐,\n",
    "그렇지 않냐를 걱정하는 것 대신에\n",
    "**날 문자열**<font size=\"2\">raw string</font>을 사용하면 보다 편리하다.\n",
    "날 문자열은 문자열 앞에 `r`을 추가해서 얻어지며\n",
    "그러면 문자열 안에 포함된 모든 특수 문자들의 기능이 제거된다."
   ]
  },
  {
   "cell_type": "code",
   "execution_count": 27,
   "metadata": {},
   "outputs": [
    {
     "name": "stdout",
     "output_type": "stream",
     "text": [
      "C:\\some\n",
      "ame\n"
     ]
    }
   ],
   "source": [
    "print('C:\\some\\name')  # 일반 문자열 사용. 줄바꿈 적용됨."
   ]
  },
  {
   "cell_type": "code",
   "execution_count": 28,
   "metadata": {},
   "outputs": [
    {
     "name": "stdout",
     "output_type": "stream",
     "text": [
      "C:\\some\\name\n"
     ]
    }
   ],
   "source": [
    "print(r'C:\\some\\name')  # 날 문자열 사용. 줄바꿈 없음."
   ]
  },
  {
   "cell_type": "markdown",
   "metadata": {},
   "source": [
    "### 여러줄 문자열"
   ]
  },
  {
   "cell_type": "markdown",
   "metadata": {},
   "source": [
    "여러 줄로 작성된 문자열은 항상 세개의 작은따옴표 또는 세 개의 큰따옴표로 감싸져야 한다."
   ]
  },
  {
   "cell_type": "code",
   "execution_count": 29,
   "metadata": {},
   "outputs": [
    {
     "name": "stdout",
     "output_type": "stream",
     "text": [
      "첫째줄(위에 여백 없음!)\n",
      "둘째줄\n",
      "셋째줄\n",
      "\n"
     ]
    }
   ],
   "source": [
    "print(\"\"\"첫째줄(위에 여백 없음!)\n",
    "둘째줄\n",
    "셋째줄\n",
    "\"\"\")"
   ]
  },
  {
   "cell_type": "markdown",
   "metadata": {},
   "source": [
    "하지만 다음과 같이 첫째줄에 비어 있는채로 출력된다."
   ]
  },
  {
   "cell_type": "code",
   "execution_count": 30,
   "metadata": {},
   "outputs": [
    {
     "name": "stdout",
     "output_type": "stream",
     "text": [
      "\n",
      "첫째줄(위에 여백 있음)\n",
      "둘째줄\n",
      "셋째줄\n",
      "\n"
     ]
    }
   ],
   "source": [
    "print(\"\"\"\n",
    "첫째줄(위에 여백 있음)\n",
    "둘째줄\n",
    "셋째줄\n",
    "\"\"\")"
   ]
  },
  {
   "cell_type": "markdown",
   "metadata": {},
   "source": [
    "이를 방지하려면 백슬래시 기호를 추가한다."
   ]
  },
  {
   "cell_type": "code",
   "execution_count": 31,
   "metadata": {},
   "outputs": [
    {
     "name": "stdout",
     "output_type": "stream",
     "text": [
      "첫째줄(위에 여백 없음)\n",
      "둘째줄\n",
      "셋째줄\n",
      "\n"
     ]
    }
   ],
   "source": [
    "print(\"\"\"\\\n",
    "첫째줄(위에 여백 없음)\n",
    "둘째줄\n",
    "셋째줄\n",
    "\"\"\")"
   ]
  },
  {
   "cell_type": "markdown",
   "metadata": {},
   "source": [
    "### 문자열 연산"
   ]
  },
  {
   "cell_type": "markdown",
   "metadata": {},
   "source": [
    "문자열의 `+` 와 `*` 두 기호를 이용한 연산을 지원한다.\n",
    "\n",
    "`+` 연산자는 두 문자열을 이어붙인다."
   ]
  },
  {
   "cell_type": "code",
   "execution_count": 32,
   "metadata": {},
   "outputs": [
    {
     "data": {
      "text/plain": [
       "'hellopython'"
      ]
     },
     "execution_count": 32,
     "metadata": {},
     "output_type": "execute_result"
    }
   ],
   "source": [
    "'hello' + 'python'"
   ]
  },
  {
   "cell_type": "code",
   "execution_count": 33,
   "metadata": {},
   "outputs": [
    {
     "data": {
      "text/plain": [
       "'hello, python'"
      ]
     },
     "execution_count": 33,
     "metadata": {},
     "output_type": "execute_result"
    }
   ],
   "source": [
    "'hello, ' + 'python'"
   ]
  },
  {
   "cell_type": "markdown",
   "metadata": {},
   "source": [
    "`*` 연산자는 정수와 문자열을 인자로 받아 정수 만큼 복제해서 이어붙인다."
   ]
  },
  {
   "cell_type": "code",
   "execution_count": 34,
   "metadata": {},
   "outputs": [
    {
     "data": {
      "text/plain": [
       "'hellohellohello'"
      ]
     },
     "execution_count": 34,
     "metadata": {},
     "output_type": "execute_result"
    }
   ],
   "source": [
    "3 * 'hello'"
   ]
  },
  {
   "cell_type": "code",
   "execution_count": 35,
   "metadata": {},
   "outputs": [
    {
     "data": {
      "text/plain": [
       "'hello, hello, python'"
      ]
     },
     "execution_count": 35,
     "metadata": {},
     "output_type": "execute_result"
    }
   ],
   "source": [
    "2 * 'hello, ' + \"python\""
   ]
  },
  {
   "cell_type": "markdown",
   "metadata": {},
   "source": [
    "### 문자열 인덱싱"
   ]
  },
  {
   "cell_type": "markdown",
   "metadata": {},
   "source": [
    "문자열은 문자 여러 개의 나열이며 문자들 사이의 순서가 중요하다.\n",
    "이때 문자열 왼편에 위치한 문자부터 차례대로 0, 1, 2, ... "
   ]
  },
  {
   "cell_type": "markdown",
   "metadata": {},
   "source": [
    "Strings can be indexed (subscripted), with the first character having index 0. There is no separate character type; a character is simply a string of size one:\n",
    "\n",
    "```python\n",
    ">>> word = 'Python'\n",
    ">>> word[0]  # character in position 0\n",
    "'P'\n",
    ">>> word[5]  # character in position 5\n",
    "'n'\n",
    "```"
   ]
  },
  {
   "cell_type": "markdown",
   "metadata": {},
   "source": [
    "Indices may also be negative numbers, to start counting from the right:\n",
    "\n",
    "```python\n",
    ">>> word[-1]  # last character\n",
    "'n'\n",
    ">>> word[-2]  # second-last character\n",
    "'o'\n",
    ">>> word[-6]\n",
    "'P'\n",
    "```"
   ]
  },
  {
   "cell_type": "markdown",
   "metadata": {},
   "source": [
    "Note that since -0 is the same as 0, negative indices start from -1.\n",
    "\n",
    "In addition to indexing, slicing is also supported. While indexing is used to obtain individual characters, slicing allows you to obtain substring:\n",
    "\n",
    "```python\n",
    ">>> word[0:2]  # characters from position 0 (included) to 2 (excluded)\n",
    "'Py'\n",
    ">>> word[2:5]  # characters from position 2 (included) to 5 (excluded)\n",
    "'tho'\n",
    "```"
   ]
  },
  {
   "cell_type": "markdown",
   "metadata": {},
   "source": [
    "Slice indices have useful defaults; an omitted first index defaults to zero, an omitted second index defaults to the size of the string being sliced.\n",
    "\n",
    "```python\n",
    ">>> word[:2]   # character from the beginning to position 2 (excluded)\n",
    "'Py'\n",
    ">>> word[4:]   # characters from position 4 (included) to the end\n",
    "'on'\n",
    ">>> word[-2:]  # characters from the second-last (included) to the end\n",
    "'on'\n",
    "```"
   ]
  },
  {
   "cell_type": "markdown",
   "metadata": {},
   "source": [
    "Note how the start is always included, and the end always excluded. This makes sure that s[:i] + s[i:] is always equal to s:\n",
    "\n",
    "```python\n",
    ">>> word[:2] + word[2:]\n",
    "'Python'\n",
    ">>> word[:4] + word[4:]\n",
    "'Python'\n",
    "```"
   ]
  },
  {
   "cell_type": "markdown",
   "metadata": {},
   "source": [
    "One way to remember how slices work is to think of the indices as pointing between characters, with the left edge of the first character numbered 0. Then the right edge of the last character of a string of n characters has index n, for example:\n",
    "\n",
    "     +---+---+---+---+---+---+\n",
    "     | P | y | t | h | o | n |\n",
    "     +---+---+---+---+---+---+\n",
    "     0   1   2   3   4   5   6\n",
    "    -6  -5  -4  -3  -2  -1"
   ]
  },
  {
   "cell_type": "markdown",
   "metadata": {},
   "source": [
    "The first row of numbers gives the position of the indices 0…6 in the string; the second row gives the corresponding negative indices. The slice from i to j consists of all characters between the edges labeled i and j, respectively.\n",
    "\n",
    "For non-negative indices, the length of a slice is the difference of the indices, if both are within bounds. For example, the length of word[1:3] is 2."
   ]
  },
  {
   "cell_type": "markdown",
   "metadata": {},
   "source": [
    "Attempting to use an index that is too large will result in an error:\n",
    "\n",
    "```python\n",
    ">>> word[42]  # the word only has 6 characters\n",
    "Traceback (most recent call last):\n",
    "  File \"<stdin>\", line 1, in <module>\n",
    "IndexError: string index out of range\n",
    "```"
   ]
  },
  {
   "cell_type": "markdown",
   "metadata": {},
   "source": [
    "However, out of range slice indexes are handled gracefully when used for slicing:\n",
    "\n",
    "```python\n",
    ">>> word[4:42]\n",
    "'on'\n",
    ">>> word[42:]\n",
    "''\n",
    "```"
   ]
  },
  {
   "cell_type": "markdown",
   "metadata": {},
   "source": [
    "Python strings cannot be changed — they are immutable. Therefore, assigning to an indexed position in the string results in an error:\n",
    "\n",
    "```python\n",
    ">>> word[0] = 'J'\n",
    "Traceback (most recent call last):\n",
    "  File \"<stdin>\", line 1, in <module>\n",
    "TypeError: 'str' object does not support item assignment\n",
    ">>> word[2:] = 'py'\n",
    "Traceback (most recent call last):\n",
    "  File \"<stdin>\", line 1, in <module>\n",
    "TypeError: 'str' object does not support item assignment\n",
    "```"
   ]
  },
  {
   "cell_type": "markdown",
   "metadata": {},
   "source": [
    "If you need a different string, you should create a new one:\n",
    "\n",
    "```python\n",
    ">>> 'J' + word[1:]\n",
    "'Jython'\n",
    ">>> word[:2] + 'py'\n",
    "'Pypy'\n",
    "```"
   ]
  },
  {
   "cell_type": "markdown",
   "metadata": {},
   "source": [
    "The built-in function len() returns the length of a string:\n",
    "\n",
    "```python\n",
    ">>> s = 'supercalifragilisticexpialidocious'\n",
    ">>> len(s)\n",
    "34\n",
    "```"
   ]
  },
  {
   "cell_type": "markdown",
   "metadata": {},
   "source": [
    "### 3.1.3. Lists"
   ]
  },
  {
   "cell_type": "markdown",
   "metadata": {},
   "source": [
    "Python knows a number of compound data types, used to group together other values. The most versatile is the list, which can be written as a list of comma-separated values (items) between square brackets. Lists might contain items of different types, but usually the items all have the same type.\n",
    "\n",
    "```python\n",
    ">>> squares = [1, 4, 9, 16, 25]\n",
    ">>> squares\n",
    "[1, 4, 9, 16, 25]\n",
    "```"
   ]
  },
  {
   "cell_type": "markdown",
   "metadata": {},
   "source": [
    "Like strings (and all other built-in sequence types), lists can be indexed and sliced:\n",
    "\n",
    "```python\n",
    ">>> squares[0]  # indexing returns the item\n",
    "1\n",
    ">>> squares[-1]\n",
    "25\n",
    ">>> squares[-3:]  # slicing returns a new list\n",
    "[9, 16, 25]\n",
    "```"
   ]
  },
  {
   "cell_type": "markdown",
   "metadata": {},
   "source": [
    "All slice operations return a new list containing the requested elements. This means that the following slice returns a shallow copy of the list:\n",
    "\n",
    "```python\n",
    ">>> squares[:]\n",
    "[1, 4, 9, 16, 25]\n",
    "```"
   ]
  },
  {
   "cell_type": "markdown",
   "metadata": {},
   "source": [
    "Lists also support operations like concatenation:\n",
    "\n",
    "```python\n",
    ">>> squares + [36, 49, 64, 81, 100]\n",
    "[1, 4, 9, 16, 25, 36, 49, 64, 81, 100]\n",
    "```"
   ]
  },
  {
   "cell_type": "markdown",
   "metadata": {},
   "source": [
    "Unlike strings, which are immutable, lists are a mutable type, i.e. it is possible to change their content:\n",
    "\n",
    "```python\n",
    ">>> cubes = [1, 8, 27, 65, 125]  # something's wrong here\n",
    ">>> 4 ** 3  # the cube of 4 is 64, not 65!\n",
    "64\n",
    ">>> cubes[3] = 64  # replace the wrong value\n",
    ">>> cubes\n",
    "[1, 8, 27, 64, 125]\n",
    "```"
   ]
  },
  {
   "cell_type": "markdown",
   "metadata": {},
   "source": [
    "You can also add new items at the end of the list, by using the append() method (we will see more about methods later):\n",
    "\n",
    "```python\n",
    ">>> cubes.append(216)  # add the cube of 6\n",
    ">>> cubes.append(7 ** 3)  # and the cube of 7\n",
    ">>> cubes\n",
    "[1, 8, 27, 64, 125, 216, 343]\n",
    "```"
   ]
  },
  {
   "cell_type": "markdown",
   "metadata": {},
   "source": [
    "Assignment to slices is also possible, and this can even change the size of the list or clear it entirely:\n",
    "\n",
    "```python\n",
    ">>> letters = ['a', 'b', 'c', 'd', 'e', 'f', 'g']\n",
    ">>> letters\n",
    "['a', 'b', 'c', 'd', 'e', 'f', 'g']\n",
    ">>> # replace some values\n",
    ">>> letters[2:5] = ['C', 'D', 'E']\n",
    ">>> letters\n",
    "['a', 'b', 'C', 'D', 'E', 'f', 'g']\n",
    ">>> # now remove them\n",
    ">>> letters[2:5] = []\n",
    ">>> letters\n",
    "['a', 'b', 'f', 'g']\n",
    ">>> # clear the list by replacing all the elements with an empty list\n",
    ">>> letters[:] = []\n",
    ">>> letters\n",
    "[]\n",
    "```"
   ]
  },
  {
   "cell_type": "markdown",
   "metadata": {},
   "source": [
    "The built-in function len() also applies to lists:\n",
    "\n",
    "```python\n",
    ">>> letters = ['a', 'b', 'c', 'd']\n",
    ">>> len(letters)\n",
    "4\n",
    "```"
   ]
  },
  {
   "cell_type": "markdown",
   "metadata": {},
   "source": [
    "It is possible to nest lists (create lists containing other lists), for example:\n",
    "\n",
    "```python\n",
    ">>> a = ['a', 'b', 'c']\n",
    ">>> n = [1, 2, 3]\n",
    ">>> x = [a, n]\n",
    ">>> x\n",
    "[['a', 'b', 'c'], [1, 2, 3]]\n",
    ">>> x[0]\n",
    "['a', 'b', 'c']\n",
    ">>> x[0][1]\n",
    "'b'\n",
    "```"
   ]
  },
  {
   "cell_type": "markdown",
   "metadata": {},
   "source": [
    "## 3.2. First Steps Towards Programming"
   ]
  },
  {
   "cell_type": "markdown",
   "metadata": {},
   "source": [
    "Of course, we can use Python for more complicated tasks than adding two and two together. For instance, we can write an initial sub-sequence of the Fibonacci series as follows:\n",
    "\n",
    "```python\n",
    ">>> # Fibonacci series:\n",
    "... # the sum of two elements defines the next\n",
    "... a, b = 0, 1\n",
    ">>> while a < 10:\n",
    "...     print(a)\n",
    "...     a, b = b, a+b\n",
    "...\n",
    "0\n",
    "1\n",
    "1\n",
    "2\n",
    "3\n",
    "5\n",
    "8\n",
    "```"
   ]
  },
  {
   "cell_type": "markdown",
   "metadata": {},
   "source": [
    "This example introduces several new features.\n",
    "\n",
    "- The first line contains a multiple assignment: the variables a and b simultaneously get the new values 0 and 1. On the last line this is used again, demonstrating that the expressions on the right-hand side are all evaluated first before any of the assignments take place. The right-hand side expressions are evaluated from the left to the right.\n",
    "\n",
    "- The while loop executes as long as the condition (here: a < 10) remains true. In Python, like in C, any non-zero integer value is true; zero is false. The condition may also be a string or list value, in fact any sequence; anything with a non-zero length is true, empty sequences are false. The test used in the example is a simple comparison. The standard comparison operators are written the same as in C: < (less than), > (greater than), == (equal to), <= (less than or equal to), >= (greater than or equal to) and != (not equal to).\n",
    "\n",
    "- The body of the loop is indented: indentation is Python’s way of grouping statements. At the interactive prompt, you have to type a tab or space(s) for each indented line. In practice you will prepare more complicated input for Python with a text editor; all decent text editors have an auto-indent facility. When a compound statement is entered interactively, it must be followed by a blank line to indicate completion (since the parser cannot guess when you have typed the last line). Note that each line within a basic block must be indented by the same amount.\n",
    "\n",
    "- The `print()` function writes the value of the argument(s) it is given. It differs from just writing the expression you want to write (as we did earlier in the calculator examples) in the way it handles multiple arguments, floating point quantities, and strings. Strings are printed without quotes, and a space is inserted between items, so you can format things nicely, like this:"
   ]
  },
  {
   "cell_type": "markdown",
   "metadata": {},
   "source": [
    "```python\n",
    ">>> i = 256*256\n",
    ">>> print('The value of i is', i)\n",
    "The value of i is 65536\n",
    "```"
   ]
  },
  {
   "cell_type": "markdown",
   "metadata": {},
   "source": [
    "The keyword argument end can be used to avoid the newline after the output, or end the output with a different string:\n",
    "\n",
    "```python\n",
    ">>> a, b = 0, 1\n",
    ">>> while a < 1000:\n",
    "...     print(a, end=',')\n",
    "...     a, b = b, a+b\n",
    "...\n",
    "0,1,1,2,3,5,8,13,21,34,55,89,144,233,377,610,987,\n",
    "```"
   ]
  }
 ],
 "metadata": {
  "kernelspec": {
   "display_name": "Python 3 (ipykernel)",
   "language": "python",
   "name": "python3"
  },
  "language_info": {
   "codemirror_mode": {
    "name": "ipython",
    "version": 3
   },
   "file_extension": ".py",
   "mimetype": "text/x-python",
   "name": "python",
   "nbconvert_exporter": "python",
   "pygments_lexer": "ipython3",
   "version": "3.9.7"
  },
  "toc": {
   "base_numbering": 1,
   "nav_menu": {},
   "number_sections": false,
   "sideBar": true,
   "skip_h1_title": false,
   "title_cell": "목차",
   "title_sidebar": "Contents",
   "toc_cell": true,
   "toc_position": {},
   "toc_section_display": true,
   "toc_window_display": true
  }
 },
 "nbformat": 4,
 "nbformat_minor": 4
}