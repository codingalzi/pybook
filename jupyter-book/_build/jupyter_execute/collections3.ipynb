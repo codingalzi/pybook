{
 "cells": [
  {
   "cell_type": "markdown",
   "id": "321669fa",
   "metadata": {},
   "source": [
    "(ch:collections3)=\n",
    "# 모음 자료형 3부: range, 조건제시법, 이터레이터, 제너레이터"
   ]
  },
  {
   "cell_type": "markdown",
   "id": "7089f5a4",
   "metadata": {},
   "source": [
    "## `range` 자료형"
   ]
  },
  {
   "cell_type": "markdown",
   "id": "db05fa1a",
   "metadata": {},
   "source": [
    "`range` 자료형은 리스트, 튜플 등과 매우 유사하며, `range()` 함수를 이용하여 생성한다.\n",
    "예를 들어, `range(3)`는 0부터 2까지의 정수를 포함하는 리스트 또는 튜플로 간주될 수 있다.\n",
    "하지만, `range()` 함수의 반환값은 `range` 이며 항목을 바로 확인할 수 없다."
   ]
  },
  {
   "cell_type": "code",
   "execution_count": 1,
   "id": "51b0d071",
   "metadata": {},
   "outputs": [
    {
     "name": "stdout",
     "output_type": "stream",
     "text": [
      "range(0, 3)\n"
     ]
    }
   ],
   "source": [
    "print(range(3))"
   ]
  },
  {
   "cell_type": "markdown",
   "id": "e9a359a3",
   "metadata": {},
   "source": [
    "`range` 자료형의 항목을 확인하려면 `for` 반복문을 사용하던가\n",
    "리스트 또는 튜플로 형변환을 해야 한다."
   ]
  },
  {
   "cell_type": "code",
   "execution_count": 2,
   "id": "ad32248e",
   "metadata": {},
   "outputs": [
    {
     "name": "stdout",
     "output_type": "stream",
     "text": [
      "0\n",
      "1\n",
      "2\n"
     ]
    }
   ],
   "source": [
    "for item in range(3):\n",
    "    print(item)"
   ]
  },
  {
   "cell_type": "code",
   "execution_count": 3,
   "id": "ae0ded3a",
   "metadata": {},
   "outputs": [
    {
     "data": {
      "text/plain": [
       "[0, 1, 2]"
      ]
     },
     "execution_count": 3,
     "metadata": {},
     "output_type": "execute_result"
    }
   ],
   "source": [
    "list(range(3))"
   ]
  },
  {
   "cell_type": "code",
   "execution_count": 4,
   "id": "2a3544cd",
   "metadata": {},
   "outputs": [
    {
     "data": {
      "text/plain": [
       "(0, 1, 2)"
      ]
     },
     "execution_count": 4,
     "metadata": {},
     "output_type": "execute_result"
    }
   ],
   "source": [
    "tuple(range(3))"
   ]
  },
  {
   "cell_type": "markdown",
   "id": "a70b923a",
   "metadata": {},
   "source": [
    "`range()` 함수는 최대 세 개의 인자를 받으며 각 인자의 기능은 리스트 또는 튜플의 슬라이싱에서의\n",
    "기능과 동일하다."
   ]
  },
  {
   "cell_type": "code",
   "execution_count": 5,
   "id": "c6a8dba4",
   "metadata": {},
   "outputs": [
    {
     "data": {
      "text/plain": [
       "[1, 3, 5, 7]"
      ]
     },
     "execution_count": 5,
     "metadata": {},
     "output_type": "execute_result"
    }
   ],
   "source": [
    "list(range(1, 9, 2))"
   ]
  },
  {
   "cell_type": "code",
   "execution_count": 6,
   "id": "36d16a9e",
   "metadata": {},
   "outputs": [
    {
     "data": {
      "text/plain": [
       "(0, 3, 6)"
      ]
     },
     "execution_count": 6,
     "metadata": {},
     "output_type": "execute_result"
    }
   ],
   "source": [
    "tuple(range(0, 9, 3))"
   ]
  },
  {
   "cell_type": "code",
   "execution_count": 7,
   "id": "42d78752",
   "metadata": {},
   "outputs": [
    {
     "data": {
      "text/plain": [
       "[9, 7, 5, 3, 1]"
      ]
     },
     "execution_count": 7,
     "metadata": {},
     "output_type": "execute_result"
    }
   ],
   "source": [
    "list(range(9, 0, -2))"
   ]
  },
  {
   "cell_type": "markdown",
   "id": "6824e48a",
   "metadata": {},
   "source": [
    "하나의 인자만 하용하면 구간의 끝을 의미하며, 구간의 시작은 0이 된다.\n",
    "셋째 인자는 생략되면 1이 기본값으로 사용된다."
   ]
  },
  {
   "cell_type": "code",
   "execution_count": 8,
   "id": "edf65aee",
   "metadata": {},
   "outputs": [
    {
     "data": {
      "text/plain": [
       "True"
      ]
     },
     "execution_count": 8,
     "metadata": {},
     "output_type": "execute_result"
    }
   ],
   "source": [
    "range(3) == range(0, 3)"
   ]
  },
  {
   "cell_type": "code",
   "execution_count": 9,
   "id": "7ae79f00",
   "metadata": {},
   "outputs": [
    {
     "data": {
      "text/plain": [
       "True"
      ]
     },
     "execution_count": 9,
     "metadata": {},
     "output_type": "execute_result"
    }
   ],
   "source": [
    "range(3) == range(0, 3, 1)"
   ]
  },
  {
   "cell_type": "markdown",
   "id": "cab31a57-ed44-4b0f-9f34-2239177b48aa",
   "metadata": {},
   "source": [
    "## 조건제시법"
   ]
  },
  {
   "cell_type": "markdown",
   "id": "3019197a-0694-4a74-8037-29ad43f29531",
   "metadata": {},
   "source": [
    "조건제시법<font size = \"2\">comprehension</font>을 이용하여 \n",
    "리스트, 집합, 사전을 정의할 수 있다."
   ]
  },
  {
   "cell_type": "markdown",
   "id": "840a733d-3076-40f5-b2f4-be02a15dd942",
   "metadata": {},
   "source": [
    "**리스트 조건제시법**"
   ]
  },
  {
   "cell_type": "markdown",
   "id": "618fb88e",
   "metadata": {},
   "source": [
    "수학에서 0과 10사이에 있는 홀수들의 제곱을 원소로 갖는 집합을 조건제시법으로 표현하면\n",
    "다음과 같다.\n",
    "\n",
    "$$\\{ x^2 \\mid 0 \\le x \\le 10, \\text{ 단 $x$는 홀수} \\}$$"
   ]
  },
  {
   "cell_type": "markdown",
   "id": "c83233a6",
   "metadata": {},
   "source": [
    "0과 10 사이에 있는 홀수들의 제곱을 항목으로 갖는 리스트를 `for` 반복문으로 구현해 보자."
   ]
  },
  {
   "cell_type": "code",
   "execution_count": 10,
   "id": "e829825b",
   "metadata": {},
   "outputs": [
    {
     "data": {
      "text/plain": [
       "[1, 9, 25, 49, 81]"
      ]
     },
     "execution_count": 10,
     "metadata": {},
     "output_type": "execute_result"
    }
   ],
   "source": [
    "zero2ten_odd = []\n",
    "\n",
    "for x in range(11):\n",
    "    if x%2 == 1:\n",
    "        zero2ten_odd.append(x**2)\n",
    "\n",
    "zero2ten_odd"
   ]
  },
  {
   "cell_type": "markdown",
   "id": "54d5a899",
   "metadata": {},
   "source": [
    "조건제시법을 이용하여 보다 간단하게 리스트를 생성할 수 있다."
   ]
  },
  {
   "cell_type": "code",
   "execution_count": 11,
   "id": "f51b20e2",
   "metadata": {},
   "outputs": [
    {
     "data": {
      "text/plain": [
       "[1, 9, 25, 49, 81]"
      ]
     },
     "execution_count": 11,
     "metadata": {},
     "output_type": "execute_result"
    }
   ],
   "source": [
    "zero2ten_odd = [ x**2 for x in range(11) if x%2 == 1 ]\n",
    "zero2ten_odd"
   ]
  },
  {
   "cell_type": "markdown",
   "id": "3a4023f3",
   "metadata": {},
   "source": [
    "위 두 코드를 비교하면 조건제시법의 작동원리를 이해할 수 있을 것이다. "
   ]
  },
  {
   "cell_type": "markdown",
   "id": "29026f64",
   "metadata": {},
   "source": [
    "**집합 조건제시법**"
   ]
  },
  {
   "cell_type": "markdown",
   "id": "319e4287-e198-479d-b530-77fb1d892d3f",
   "metadata": {},
   "source": [
    "조건제시법을 이용한 집합 정의도 유사하다."
   ]
  },
  {
   "cell_type": "code",
   "execution_count": 12,
   "id": "7ce5d038",
   "metadata": {},
   "outputs": [
    {
     "data": {
      "text/plain": [
       "['Python', 'is', 'a', 'general', 'purpose', 'language']"
      ]
     },
     "execution_count": 12,
     "metadata": {},
     "output_type": "execute_result"
    }
   ],
   "source": [
    "words = 'Python is a general purpose language'.split()\n",
    "words"
   ]
  },
  {
   "cell_type": "code",
   "execution_count": 13,
   "id": "12f307a0-b968-495e-82a3-c5326db66b1e",
   "metadata": {},
   "outputs": [
    {
     "data": {
      "text/plain": [
       "{1, 2, 6, 7, 8}"
      ]
     },
     "execution_count": 13,
     "metadata": {},
     "output_type": "execute_result"
    }
   ],
   "source": [
    "unique_len = {len(x) for x in words}\n",
    "unique_len"
   ]
  },
  {
   "cell_type": "markdown",
   "id": "f5488991",
   "metadata": {},
   "source": [
    "**사전 조건제시법**"
   ]
  },
  {
   "cell_type": "markdown",
   "id": "39caa271-f70b-47d9-9745-7376b9f5afd5",
   "metadata": {},
   "source": [
    "조건제시법을 이용하여 사전을 생성하는 과정도 유사하다. "
   ]
  },
  {
   "cell_type": "code",
   "execution_count": 14,
   "id": "dc774891",
   "metadata": {},
   "outputs": [
    {
     "data": {
      "text/plain": [
       "['Python', 'is', 'a', 'general', 'purpose', 'language']"
      ]
     },
     "execution_count": 14,
     "metadata": {},
     "output_type": "execute_result"
    }
   ],
   "source": [
    "words = 'Python is a general purpose language'.split()\n",
    "words"
   ]
  },
  {
   "cell_type": "code",
   "execution_count": 15,
   "id": "2e84f3b0-e452-4426-8bbf-fc74b3d52f96",
   "metadata": {},
   "outputs": [
    {
     "data": {
      "text/plain": [
       "{'Python': 6, 'is': 2, 'a': 1, 'general': 7, 'purpose': 7, 'language': 8}"
      ]
     },
     "execution_count": 15,
     "metadata": {},
     "output_type": "execute_result"
    }
   ],
   "source": [
    "len_dict = {k : len(k) for k in words}\n",
    "len_dict"
   ]
  },
  {
   "cell_type": "markdown",
   "id": "68744675-8301-47ce-ae75-64eb379b569e",
   "metadata": {},
   "source": [
    "## 이터러블과 이터레이터"
   ]
  },
  {
   "cell_type": "markdown",
   "id": "a5629633-7931-403a-a8ca-ba59ccce3141",
   "metadata": {},
   "source": [
    "### 이터러블"
   ]
  },
  {
   "cell_type": "markdown",
   "id": "16711f31-cc6f-4826-8e92-23d2aa98fee1",
   "metadata": {},
   "source": [
    "이터러블<font size = \"2\">iterable</font> 또는 이터러블 객체는 값을 한 번에 하나씩 돌려줄 수 있는 반복 가능한 객체로, `for` 반복문과 함께 사용될 수 있다.   \n",
    "예를 들어, 모든 시퀀스 자료형(예, 리스트, 튜플, 문자열 등)은 이터러블하고, 시퀀스 자료형은 아니지만 사전 자료형도 이터러블하다.  "
   ]
  },
  {
   "cell_type": "code",
   "execution_count": 16,
   "id": "b4cdcf16-5caa-428d-b32d-8f5035e90d94",
   "metadata": {},
   "outputs": [
    {
     "name": "stdout",
     "output_type": "stream",
     "text": [
      "1\n",
      "2\n",
      "3\n"
     ]
    }
   ],
   "source": [
    "for i in [1, 2, 3] :\n",
    "    print(i)"
   ]
  },
  {
   "cell_type": "code",
   "execution_count": 17,
   "id": "afa9712d-14be-473f-8979-8c4823785ca7",
   "metadata": {},
   "outputs": [
    {
     "name": "stdout",
     "output_type": "stream",
     "text": [
      "a\n",
      "b\n"
     ]
    }
   ],
   "source": [
    "for k in {'a' : '에이', 'b' : '비'} :\n",
    "    print(k)"
   ]
  },
  {
   "cell_type": "markdown",
   "id": "23e130ba-99dd-4edf-9cb7-c3942c5c5bd2",
   "metadata": {},
   "source": [
    "이터러블 객체는 `__iter__()` 메서드를 가지고 있다."
   ]
  },
  {
   "cell_type": "code",
   "execution_count": 18,
   "id": "f2e9aafe-cf15-477b-b942-65d750229653",
   "metadata": {},
   "outputs": [
    {
     "name": "stdout",
     "output_type": "stream",
     "text": [
      "['__add__', '__class__', '__class_getitem__', '__contains__', '__delattr__', '__delitem__', '__dir__', '__doc__', '__eq__', '__format__', '__ge__', '__getattribute__', '__getitem__', '__gt__', '__hash__', '__iadd__', '__imul__', '__init__', '__init_subclass__', '__iter__', '__le__', '__len__', '__lt__', '__mul__', '__ne__', '__new__', '__reduce__', '__reduce_ex__', '__repr__', '__reversed__', '__rmul__', '__setattr__', '__setitem__', '__sizeof__', '__str__', '__subclasshook__', 'append', 'clear', 'copy', 'count', 'extend', 'index', 'insert', 'pop', 'remove', 'reverse', 'sort']\n"
     ]
    }
   ],
   "source": [
    "a_list = [1, 2, 3]\n",
    "print(dir(a_list)) #dir() 함수를 사용하여 a_list가 어떤 메서드를 가지고 있는지 확인할 수 있다. "
   ]
  },
  {
   "cell_type": "markdown",
   "id": "3d8f08ab-c051-4e38-af0d-83d7942ba9c6",
   "metadata": {},
   "source": [
    "### 이터레이터"
   ]
  },
  {
   "cell_type": "markdown",
   "id": "a59d4983-4aa4-44e4-a195-e0e66f76c0f1",
   "metadata": {},
   "source": [
    "이터레이터<font size = \"2\">iterator</font>는 값을 하나씩 꺼낼 수 있는 객체로, 이터러블의 `__iter__()` 메서드나 내장함수 `iter()`를 사용하여 이터레이터를 만들 수 있다. "
   ]
  },
  {
   "cell_type": "code",
   "execution_count": 19,
   "id": "0387e3dd-7c13-4a77-a36f-3b60122ec6be",
   "metadata": {},
   "outputs": [
    {
     "data": {
      "text/plain": [
       "list_iterator"
      ]
     },
     "execution_count": 19,
     "metadata": {},
     "output_type": "execute_result"
    }
   ],
   "source": [
    "a_list = [1, 2, 3]\n",
    "a_iter = iter(a_list)\n",
    "type(a_iter)"
   ]
  },
  {
   "cell_type": "markdown",
   "id": "6b982be1-b116-45f2-95d4-1d869ae2b1da",
   "metadata": {},
   "source": [
    "이터레이터의 `__next__()` 메서드나 내장함수 `next()`를 반복적으로 호출하면 값을 차례대로 돌려준다.    "
   ]
  },
  {
   "cell_type": "code",
   "execution_count": 20,
   "id": "18bdc429-71ab-4164-ab62-1229fab5d06d",
   "metadata": {},
   "outputs": [
    {
     "data": {
      "text/plain": [
       "1"
      ]
     },
     "execution_count": 20,
     "metadata": {},
     "output_type": "execute_result"
    }
   ],
   "source": [
    "a_iter.__next__() "
   ]
  },
  {
   "cell_type": "code",
   "execution_count": 21,
   "id": "b6c8d708-42dc-43e5-8334-05c57a49abb8",
   "metadata": {},
   "outputs": [
    {
     "data": {
      "text/plain": [
       "2"
      ]
     },
     "execution_count": 21,
     "metadata": {},
     "output_type": "execute_result"
    }
   ],
   "source": [
    "a_iter.__next__()"
   ]
  },
  {
   "cell_type": "code",
   "execution_count": 22,
   "id": "aceac27b-cdf0-4a66-b245-d1d9558dbc22",
   "metadata": {},
   "outputs": [
    {
     "data": {
      "text/plain": [
       "3"
      ]
     },
     "execution_count": 22,
     "metadata": {},
     "output_type": "execute_result"
    }
   ],
   "source": [
    "a_iter.__next__()"
   ]
  },
  {
   "cell_type": "markdown",
   "id": "bef46844-433b-4876-9b5b-236fbc8dbfa8",
   "metadata": {},
   "source": [
    ":::{admonition} 주의  \n",
    ":class: caution  \n",
    "차례대로 이터레이터의 항목을 모두 꺼낸 다음에 `__next__()` 메서드를 실행하면 `StopIteration` 오류가 발생한다. \n",
    "\n",
    "```python\n",
    ">>> a_iter.__next__()\n",
    "StopIteration                             Traceback (most recent call last)\n",
    "/tmp/ipykernel_79/31460938.py in <module>\n",
    "----> 1 a_iter.__next__()\n",
    "\n",
    "StopIteration: \n",
    "```\n",
    ":::\n"
   ]
  },
  {
   "cell_type": "markdown",
   "id": "31843c5f-bfc6-41c5-9a98-d4ef056e2125",
   "metadata": {},
   "source": [
    "이터레이터는 값을 바로 보여주지 않는다. 이터레이터의 항목은 리스트로 형변환하면 쉽게 확인할 수 있다. "
   ]
  },
  {
   "cell_type": "code",
   "execution_count": 23,
   "id": "928761b5-ac38-4ec5-b95e-6a24c9292387",
   "metadata": {},
   "outputs": [
    {
     "name": "stdout",
     "output_type": "stream",
     "text": [
      "<list_iterator object at 0x7f51eaee1370>\n",
      "[1, 2, 3]\n"
     ]
    }
   ],
   "source": [
    "a_list = [1, 2, 3]\n",
    "a_iter = iter(a_list)\n",
    "print(a_iter)\n",
    "print(list(a_iter))"
   ]
  },
  {
   "cell_type": "markdown",
   "id": "b8a4911b-709a-4101-a933-31d9608a11e5",
   "metadata": {},
   "source": [
    ":::{admonition} 참고  \n",
    ":class: info  \n",
    "`for`반복문을 사용할때마다 이터러블의 `__iter__()`메서드는 새로운 이터레이터 객체를 자동으로 만들어주기 때문에 사용자가 직접 이터레이터를 만들 필요는 없다.  \n",
    "예를 들어, 아래와 같이 리스트를 이용하여 `for` 반복문을 실행하면 리스트의 `__iter__()` 메서드가 호출된다. \n",
    "```python\n",
    ">>> a_list = [1, 2, 3]\n",
    ">>> for item in a_list :\n",
    "        print(item)\n",
    "1\n",
    "2\n",
    "3\n",
    "```\n",
    ":::\n"
   ]
  },
  {
   "cell_type": "markdown",
   "id": "f4875373-3f9a-4ec4-984d-a3c30fd2a3f5",
   "metadata": {},
   "source": [
    "### 제너레이터 "
   ]
  },
  {
   "cell_type": "markdown",
   "id": "7d73dbc5-485d-4024-9a04-e3970ff97acf",
   "metadata": {},
   "source": [
    "제너레이터<font size = \"2\">generator</font>는 특별한 이터레이터로, `__iter__()`와 `__next__()` 메서드를 구체적으로 구현할 필요없이 간단하게 이터레이터를 정의할 수 있다. 제너레이터는 함수와 비슷한 방식으로 정의하지만 함수 안에 `return`키워드 대신 `yield` 키워드를 사용하여 생성해야 하는 값들을 지정한다는 점이 다르다.     "
   ]
  },
  {
   "cell_type": "markdown",
   "id": "1343ff6b-8f8c-4b88-9c69-5a69b173e5ea",
   "metadata": {},
   "source": [
    "예를 들어, 1부터 n의 제곱을 생성하는 제너레이터는 아래와 같이 정의한다. "
   ]
  },
  {
   "cell_type": "code",
   "execution_count": 24,
   "id": "5896ed85-fec0-4371-80a7-97afb1bae551",
   "metadata": {},
   "outputs": [],
   "source": [
    "def squares(n) :\n",
    "    for i in range(1, n + 1) :\n",
    "        yield i ** 2"
   ]
  },
  {
   "cell_type": "code",
   "execution_count": 25,
   "id": "549430ef-ae3e-41cd-b787-21b6c847b296",
   "metadata": {},
   "outputs": [
    {
     "data": {
      "text/plain": [
       "generator"
      ]
     },
     "execution_count": 25,
     "metadata": {},
     "output_type": "execute_result"
    }
   ],
   "source": [
    "gen = squares(5)\n",
    "type(gen)"
   ]
  },
  {
   "cell_type": "markdown",
   "id": "e89ec08e-faa3-4871-9b65-8fcd43f3fd39",
   "metadata": {},
   "source": [
    "제너레이터는 지정된 값들을 바로 생성하지 않으며, 생성할 준비만 해두고 필요할 때 값을 생성하여 메모리를 보다 효율적으로 사용할 수 있다.   \n",
    "`__next__()` 메서드나 `next()` 함수를 사용하여 항목을 차례대로 가져올 수 있다.  "
   ]
  },
  {
   "cell_type": "code",
   "execution_count": 26,
   "id": "0db8d46b-64ba-447a-9026-91ef0bc31a8b",
   "metadata": {},
   "outputs": [
    {
     "data": {
      "text/plain": [
       "1"
      ]
     },
     "execution_count": 26,
     "metadata": {},
     "output_type": "execute_result"
    }
   ],
   "source": [
    "gen.__next__()"
   ]
  },
  {
   "cell_type": "code",
   "execution_count": 27,
   "id": "c24790e6-f345-41e9-a447-4f9d7fe5f623",
   "metadata": {},
   "outputs": [
    {
     "data": {
      "text/plain": [
       "4"
      ]
     },
     "execution_count": 27,
     "metadata": {},
     "output_type": "execute_result"
    }
   ],
   "source": [
    "gen.__next__()"
   ]
  },
  {
   "cell_type": "code",
   "execution_count": 28,
   "id": "4caa83d7-ef94-484f-8a12-cb9a4b64ccba",
   "metadata": {},
   "outputs": [
    {
     "data": {
      "text/plain": [
       "9"
      ]
     },
     "execution_count": 28,
     "metadata": {},
     "output_type": "execute_result"
    }
   ],
   "source": [
    "next(gen)"
   ]
  },
  {
   "cell_type": "markdown",
   "id": "93f0416d-f1c8-48ed-bf5b-fab402a9d091",
   "metadata": {},
   "source": [
    "`for` 반복문에 사용하면 그때 필요한 항목을 하나씩 생성한다.  \n",
    "앞에서 `1, 4, 9` 항목을 가져왔기 때문에 `16`과 `25`만 출력된 것을 볼 수 있다. "
   ]
  },
  {
   "cell_type": "code",
   "execution_count": 29,
   "id": "d7026397-6dfb-4c94-9f35-5563722f7ace",
   "metadata": {},
   "outputs": [
    {
     "name": "stdout",
     "output_type": "stream",
     "text": [
      "16 25 "
     ]
    }
   ],
   "source": [
    "for x in gen :\n",
    "    print(x, end = ' ')"
   ]
  },
  {
   "cell_type": "markdown",
   "id": "257d2f1c-fcab-49e1-8c7e-531966c8004a",
   "metadata": {},
   "source": [
    ":::{admonition} 주의   \n",
    ":class: caution  \n",
    "제너레이터도 `__next__()` 메서드가 모든 항목을 순회하면 더 이상 가리키는 값이 없다. 따라서 한 번 더 `for` 반복문을 사용했을 때, 아무 것도 출력하지 않는다. \n",
    "\n",
    "```python\n",
    ">>> for x in gen :\n",
    "        print(x, end = ' ')\n",
    "```\n",
    "\n",
    "동일한 제너레이터를 다시 사용하려면 제너레이터를 다시 생성해야 한다. \n",
    "```python\n",
    ">>> gen = squares(5)\n",
    ">>> for x in gen :\n",
    "        print(x, end = ' ')\n",
    "1 4 9 16 25 \n",
    "```\n",
    ":::\n"
   ]
  },
  {
   "cell_type": "markdown",
   "id": "831d8c36-2d44-4e2d-861f-ec1b0f11b75e",
   "metadata": {},
   "source": [
    "**제너레이터 표현식**  \n",
    "제너레이터는 제너레이터 표현식을 사용하여 만들 수도 있다. 조건제시법과 유사하지만 소괄호(`( )`)로 감싸서 만든다. "
   ]
  },
  {
   "cell_type": "code",
   "execution_count": 30,
   "id": "83874c44-7e42-44df-ad20-137939a6a091",
   "metadata": {},
   "outputs": [
    {
     "data": {
      "text/plain": [
       "generator"
      ]
     },
     "execution_count": 30,
     "metadata": {},
     "output_type": "execute_result"
    }
   ],
   "source": [
    "squares = (i ** 2 for i in range(1, 6))\n",
    "type(squares)"
   ]
  },
  {
   "cell_type": "markdown",
   "id": "6ddbbbc0-62a0-49f6-8f92-8b5a3146c938",
   "metadata": {},
   "source": [
    ":::{admonition} 주의  \n",
    ":class: caution  \n",
    "소괄호로 감싸서 만들지만 튜플 자료형이 아니라 제너레이터이다. \n",
    ":::\n"
   ]
  },
  {
   "cell_type": "code",
   "execution_count": 31,
   "id": "1a502768-5b67-4182-a0ae-4262e48fb047",
   "metadata": {},
   "outputs": [
    {
     "name": "stdout",
     "output_type": "stream",
     "text": [
      "1\n",
      "4\n",
      "9\n",
      "16\n",
      "25\n"
     ]
    }
   ],
   "source": [
    "print(next(squares))\n",
    "print(next(squares))\n",
    "print(next(squares))\n",
    "print(next(squares))\n",
    "print(next(squares))"
   ]
  },
  {
   "cell_type": "code",
   "execution_count": 32,
   "id": "bd46c46c",
   "metadata": {},
   "outputs": [],
   "source": [
    "x = (x**2 for x in range(3))"
   ]
  },
  {
   "cell_type": "code",
   "execution_count": 33,
   "id": "0765c041",
   "metadata": {},
   "outputs": [
    {
     "data": {
      "text/plain": [
       "[0, 1, 4]"
      ]
     },
     "execution_count": 33,
     "metadata": {},
     "output_type": "execute_result"
    }
   ],
   "source": [
    "y = [z for z in x]\n",
    "y"
   ]
  },
  {
   "cell_type": "markdown",
   "id": "1fcb88c0-6f18-4e24-847c-c764fd14501f",
   "metadata": {},
   "source": [
    "### 이터러블에 유용한 내장함수"
   ]
  },
  {
   "cell_type": "markdown",
   "id": "0fbc1efe-a85c-41aa-a103-4583c2bc6329",
   "metadata": {},
   "source": [
    "#### `enumerate()` 함수  \n",
    "`enumerate(iterable, start = 0)` : 카운트와 `iterable`의 항목을 튜플로 묶은 형태로 이터레이터를 만들어 반환한다. 카운트는 기본적으로 0부터 시작하고 다른 값부터 시작하고 싶다면 `start` 값을 변경해주면 된다. "
   ]
  },
  {
   "cell_type": "code",
   "execution_count": 34,
   "id": "b50cf3e5-e330-440e-bb07-4032761c7a93",
   "metadata": {},
   "outputs": [
    {
     "name": "stdout",
     "output_type": "stream",
     "text": [
      "[(0, '봄'), (1, '여름'), (2, '가을'), (3, '겨울')]\n",
      "[(10, '봄'), (11, '여름'), (12, '가을'), (13, '겨울')]\n"
     ]
    }
   ],
   "source": [
    "seasons = ['봄', '여름', '가을', '겨울']\n",
    "print(list(enumerate(seasons)))\n",
    "print(list(enumerate(seasons, start = 10)))"
   ]
  },
  {
   "cell_type": "code",
   "execution_count": 35,
   "id": "945b9efc-5e58-4a03-9039-7f06e7bfb644",
   "metadata": {},
   "outputs": [
    {
     "name": "stdout",
     "output_type": "stream",
     "text": [
      "1번 학생은 강현입니다."
     ]
    },
    {
     "name": "stdout",
     "output_type": "stream",
     "text": [
      "\n",
      "2번 학생은 나현입니다.\n",
      "3번 학생은 다현입니다.\n"
     ]
    }
   ],
   "source": [
    "class_name = ['강현', '나현', '다현']\n",
    "class_name_enum = enumerate(class_name, 1)\n",
    "\n",
    "for num, name in class_name_enum :\n",
    "    print(f'{num}번 학생은 {name}입니다.')"
   ]
  },
  {
   "cell_type": "markdown",
   "id": "cfb8c45e-5f0d-4136-ad26-be1ffccd162e",
   "metadata": {},
   "source": [
    "#### `zip()` 함수"
   ]
  },
  {
   "cell_type": "markdown",
   "id": "75e01b8d-cc5b-4ce5-9710-51869716b39b",
   "metadata": {},
   "source": [
    "여러 개의 이터러블을 인자로 받아 각 항목을 튜플로 묶은 형태로 이터레이터를 만들어 반환한다. "
   ]
  },
  {
   "cell_type": "code",
   "execution_count": 36,
   "id": "17d0ab6d-70e7-4eed-8f1c-50976c46607b",
   "metadata": {},
   "outputs": [
    {
     "name": "stdout",
     "output_type": "stream",
     "text": [
      "강현은 3월달에 태어났다.\n",
      "나현은 2월달에 태어났다.\n",
      "다현은 9월달에 태어났다.\n"
     ]
    }
   ],
   "source": [
    "data_zip = zip(['3월', '2월', '9월'], ['강현', '나현', '다현'])\n",
    "\n",
    "for month, name in data_zip :\n",
    "    print(f'{name}은 {month}달에 태어났다.')"
   ]
  },
  {
   "cell_type": "markdown",
   "id": "d29e7a14-e469-4a9e-ab5e-4007d9d56cf5",
   "metadata": {},
   "source": [
    "#### `all()` 함수    \n",
    "\n",
    "이터러블의 모든 항목이 참이거나 비어있으면 `True`, 아니면 `False`를 반환한다. "
   ]
  },
  {
   "cell_type": "code",
   "execution_count": 37,
   "id": "2fbed1c2-022b-4182-a8ce-6d6682519945",
   "metadata": {},
   "outputs": [
    {
     "name": "stdout",
     "output_type": "stream",
     "text": [
      "False\n",
      "True\n"
     ]
    }
   ],
   "source": [
    "print(all([1, 3, 0, 2, 15])) # 0 == False를 실행하면 True다. 0이 아닌 수는 True이다. \n",
    "print(all([1, 3, 2, 15]))"
   ]
  },
  {
   "cell_type": "markdown",
   "id": "61c8850a-5e66-4176-8ed6-89d65c290793",
   "metadata": {},
   "source": [
    "#### `any()` 함수  \n",
    "\n",
    "이터러블의 항목 중 어느 하나라도 참이면 `True`, 아니면 `False`를 반환한다. "
   ]
  },
  {
   "cell_type": "code",
   "execution_count": 38,
   "id": "a2920c38-56bb-4f21-9fcc-556f974ea7ac",
   "metadata": {
    "tags": []
   },
   "outputs": [
    {
     "name": "stdout",
     "output_type": "stream",
     "text": [
      "True\n",
      "False\n"
     ]
    }
   ],
   "source": [
    "print(any((False, 1, False, False)))\n",
    "print(any((False, 1 == 3, False, False)))"
   ]
  },
  {
   "cell_type": "markdown",
   "id": "a8a0feae-0ddb-4836-b0ad-d7cd29338f0a",
   "metadata": {
    "tags": []
   },
   "source": [
    "#### `filter()` 함수  \n",
    "`filter(function, iterable)`은 `function`이 참을 반환하는 `iterable`의 요소들로 이터레이터를 만들어 반환한다.   "
   ]
  },
  {
   "cell_type": "code",
   "execution_count": 39,
   "id": "739d2fef-f9b3-470d-b0f4-1ecdd73243e2",
   "metadata": {},
   "outputs": [
    {
     "name": "stdout",
     "output_type": "stream",
     "text": [
      "False\n",
      "True\n"
     ]
    }
   ],
   "source": [
    "def is_even(n) :\n",
    "    if not n % 2 :\n",
    "        return True\n",
    "    else :\n",
    "        return False\n",
    "\n",
    "print(is_even(5))\n",
    "print(is_even(10))"
   ]
  },
  {
   "cell_type": "code",
   "execution_count": 40,
   "id": "26171b5f-0b7b-44c0-a7ae-048e1b95928a",
   "metadata": {},
   "outputs": [],
   "source": [
    "num = [2, 8, 9, 3, 10, 12]\n",
    "num_iter = filter(is_even, num)"
   ]
  },
  {
   "cell_type": "code",
   "execution_count": 41,
   "id": "7b12c936-43f7-4984-bc77-d14cd3a223f1",
   "metadata": {},
   "outputs": [
    {
     "name": "stdout",
     "output_type": "stream",
     "text": [
      "2 8 10 12 "
     ]
    }
   ],
   "source": [
    "for item in num_iter :\n",
    "    print(item, end = ' ')"
   ]
  },
  {
   "cell_type": "code",
   "execution_count": 42,
   "id": "24846fa1-8818-42e6-933a-62eb944ca11a",
   "metadata": {},
   "outputs": [
    {
     "data": {
      "text/plain": [
       "[2, 8, 10, 12]"
      ]
     },
     "execution_count": 42,
     "metadata": {},
     "output_type": "execute_result"
    }
   ],
   "source": [
    "num_iter = filter(is_even, num)\n",
    "list(num_iter)"
   ]
  },
  {
   "cell_type": "markdown",
   "id": "8dc153be-a204-4b0e-a752-20b6b96345cd",
   "metadata": {},
   "source": [
    "#### `map()` 함수  \n",
    "`map(function, iterable)` : `iterable`의 모든 항목에 `function`을 적용한 후 그 결과를 돌려주는 이터레이터를 반환한다.  "
   ]
  },
  {
   "cell_type": "code",
   "execution_count": 43,
   "id": "03ca0661-31db-4a46-accf-aeaf4176da8e",
   "metadata": {},
   "outputs": [],
   "source": [
    "def is_even(n) :\n",
    "    if not n % 2 :\n",
    "        return True\n",
    "    else :\n",
    "        return False"
   ]
  },
  {
   "cell_type": "code",
   "execution_count": 44,
   "id": "90c40574-9716-4551-a644-6d49f983aee2",
   "metadata": {},
   "outputs": [],
   "source": [
    "num = [2, 8, 9, 3, 10, 12]\n",
    "num_map = map(is_even, num)"
   ]
  },
  {
   "cell_type": "code",
   "execution_count": 45,
   "id": "903b07b2-0ce3-43c7-9f35-21e3b81580dd",
   "metadata": {},
   "outputs": [
    {
     "name": "stdout",
     "output_type": "stream",
     "text": [
      "True True False False True True "
     ]
    }
   ],
   "source": [
    "for item in num_map :\n",
    "    print(item, end = ' ')"
   ]
  },
  {
   "cell_type": "markdown",
   "id": "af79ef73-80e6-45dc-a6f1-8635a0bd9660",
   "metadata": {},
   "source": [
    "## 연습문제"
   ]
  },
  {
   "cell_type": "markdown",
   "id": "3439498a",
   "metadata": {},
   "source": [
    "참고: [(실습) 모음 자료형](https://colab.research.google.com/github/codingalzi/pybook/blob/master/practices/practice-collections.ipynb)"
   ]
  }
 ],
 "metadata": {
  "kernelspec": {
   "display_name": "Python 3 (ipykernel)",
   "language": "python",
   "name": "python3"
  },
  "language_info": {
   "codemirror_mode": {
    "name": "ipython",
    "version": 3
   },
   "file_extension": ".py",
   "mimetype": "text/x-python",
   "name": "python",
   "nbconvert_exporter": "python",
   "pygments_lexer": "ipython3",
   "version": "3.9.7"
  }
 },
 "nbformat": 4,
 "nbformat_minor": 5
}