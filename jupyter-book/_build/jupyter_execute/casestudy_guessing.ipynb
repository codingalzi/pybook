{
 "cells": [
  {
   "cell_type": "markdown",
   "metadata": {},
   "source": [
    "# 사례 연구: 숫자 알아맞히기"
   ]
  },
  {
   "cell_type": "markdown",
   "metadata": {
    "id": "WLyueOhysoiT"
   },
   "source": [
    "**문제** "
   ]
  },
  {
   "cell_type": "markdown",
   "metadata": {
    "id": "WLyueOhysoiT"
   },
   "source": [
    "1~100 사이의 정수 맞히기 게임 만들기\n",
    "\n",
    "* 각 단계의 내용이 충족되도록 전 단계의 코드를 수정 보완하여라.  \n",
    "    예를 들어, 2단계에 작성하는 코드는 1단계와 2단계의 내용이 모두 충족되어야 한다.\n",
    "* 1~100 사이의 정수를 하나 선택하여 `answer` 변수에 할당한다.  \n",
    "    `answer = 15   # 다른 값으로 변경 가능`"
   ]
  },
  {
   "cell_type": "markdown",
   "metadata": {
    "id": "WLyueOhysoiT"
   },
   "source": [
    "1단계) `input()` 함수를 이용하여 1에서 100사이의 정수를 입력받는 코드를 작성하여라.\n",
    "\n",
    "> 1에서 100사이의 정수를 입력하세요 :  \n",
    "> 입력하신 정수는 OO 입니다."
   ]
  },
  {
   "cell_type": "code",
   "execution_count": 1,
   "metadata": {
    "colab": {
     "base_uri": "https://localhost:8080/"
    },
    "executionInfo": {
     "elapsed": 1601,
     "status": "ok",
     "timestamp": 1616260130258,
     "user": {
      "displayName": "Kyungho Lee",
      "photoUrl": "https://lh3.googleusercontent.com/a-/AOh14GjvtkL3ZVCUbwlviFfrh0VjjiMUuul3z7PbjJVCgQs=s64",
      "userId": "07228708431473169168"
     },
     "user_tz": -540
    },
    "id": "7D-D5sLZsy29",
    "outputId": "a443c332-5452-43fc-daca-32872b159d4a"
   },
   "outputs": [
    {
     "ename": "StdinNotImplementedError",
     "evalue": "raw_input was called, but this frontend does not support input requests.",
     "output_type": "error",
     "traceback": [
      "\u001b[0;31m---------------------------------------------------------------------------\u001b[0m",
      "\u001b[0;31mStdinNotImplementedError\u001b[0m                  Traceback (most recent call last)",
      "\u001b[0;32m/tmp/ipykernel_1314/2672614758.py\u001b[0m in \u001b[0;36m<module>\u001b[0;34m\u001b[0m\n\u001b[0;32m----> 1\u001b[0;31m \u001b[0mnum_input\u001b[0m \u001b[0;34m=\u001b[0m \u001b[0minput\u001b[0m\u001b[0;34m(\u001b[0m\u001b[0;34m\"1에서 100사이의 정수를 입력하세요 :\"\u001b[0m\u001b[0;34m)\u001b[0m\u001b[0;34m\u001b[0m\u001b[0;34m\u001b[0m\u001b[0m\n\u001b[0m\u001b[1;32m      2\u001b[0m \u001b[0mnum_input\u001b[0m \u001b[0;34m=\u001b[0m \u001b[0mint\u001b[0m\u001b[0;34m(\u001b[0m\u001b[0mnum_input\u001b[0m\u001b[0;34m)\u001b[0m\u001b[0;34m\u001b[0m\u001b[0;34m\u001b[0m\u001b[0m\n\u001b[1;32m      3\u001b[0m \u001b[0mprint\u001b[0m\u001b[0;34m(\u001b[0m\u001b[0;34m\"입력하신 정수는\"\u001b[0m\u001b[0;34m,\u001b[0m \u001b[0mnum_input\u001b[0m\u001b[0;34m,\u001b[0m \u001b[0;34m\"입니다.\"\u001b[0m\u001b[0;34m)\u001b[0m\u001b[0;34m\u001b[0m\u001b[0;34m\u001b[0m\u001b[0m\n",
      "\u001b[0;32m~/anaconda3/lib/python3.9/site-packages/ipykernel/kernelbase.py\u001b[0m in \u001b[0;36mraw_input\u001b[0;34m(self, prompt)\u001b[0m\n\u001b[1;32m   1001\u001b[0m         \"\"\"\n\u001b[1;32m   1002\u001b[0m         \u001b[0;32mif\u001b[0m \u001b[0;32mnot\u001b[0m \u001b[0mself\u001b[0m\u001b[0;34m.\u001b[0m\u001b[0m_allow_stdin\u001b[0m\u001b[0;34m:\u001b[0m\u001b[0;34m\u001b[0m\u001b[0;34m\u001b[0m\u001b[0m\n\u001b[0;32m-> 1003\u001b[0;31m             raise StdinNotImplementedError(\n\u001b[0m\u001b[1;32m   1004\u001b[0m                 \u001b[0;34m\"raw_input was called, but this frontend does not support input requests.\"\u001b[0m\u001b[0;34m\u001b[0m\u001b[0;34m\u001b[0m\u001b[0m\n\u001b[1;32m   1005\u001b[0m             )\n",
      "\u001b[0;31mStdinNotImplementedError\u001b[0m: raw_input was called, but this frontend does not support input requests."
     ]
    }
   ],
   "source": [
    "num_input = input(\"1에서 100사이의 정수를 입력하세요 :\")\n",
    "num_input = int(num_input)\n",
    "print(\"입력하신 정수는\", num_input, \"입니다.\")"
   ]
  },
  {
   "cell_type": "markdown",
   "metadata": {
    "id": "9-lYaH2HvZSf"
   },
   "source": [
    "2단계) 참여자가 임의의 숫자를 입력하여 `answer`를 맞히면 `You win!`을, 아니면 `You lose!`를 출력하여라."
   ]
  },
  {
   "cell_type": "code",
   "execution_count": 2,
   "metadata": {
    "colab": {
     "base_uri": "https://localhost:8080/"
    },
    "executionInfo": {
     "elapsed": 2043,
     "status": "ok",
     "timestamp": 1616258916943,
     "user": {
      "displayName": "Kyungho Lee",
      "photoUrl": "https://lh3.googleusercontent.com/a-/AOh14GjvtkL3ZVCUbwlviFfrh0VjjiMUuul3z7PbjJVCgQs=s64",
      "userId": "07228708431473169168"
     },
     "user_tz": -540
    },
    "id": "PdDradr0s6LM",
    "outputId": "e53707fc-dd8c-41d9-c4e7-4e57f035c5d1"
   },
   "outputs": [
    {
     "name": "stdout",
     "output_type": "stream",
     "text": [
      "1에서 100사이의 정수를 입력하세요 :15\n",
      "입력하신 정수는 15 입니다.\n",
      "You win!\n"
     ]
    }
   ],
   "source": [
    "answer = 15\n",
    "\n",
    "num_input = input(\"1에서 100사이의 정수를 입력하세요 :\")\n",
    "num_input = int(num_input)\n",
    "print(\"입력하신 정수는\", num_input, \"입니다.\")\n",
    "\n",
    "if num_input == answer:\n",
    "  print(\"You win!\")\n",
    "else:\n",
    "  print(\"You lose!\")"
   ]
  },
  {
   "cell_type": "code",
   "execution_count": 3,
   "metadata": {
    "colab": {
     "base_uri": "https://localhost:8080/"
    },
    "executionInfo": {
     "elapsed": 2043,
     "status": "ok",
     "timestamp": 1616258916943,
     "user": {
      "displayName": "Kyungho Lee",
      "photoUrl": "https://lh3.googleusercontent.com/a-/AOh14GjvtkL3ZVCUbwlviFfrh0VjjiMUuul3z7PbjJVCgQs=s64",
      "userId": "07228708431473169168"
     },
     "user_tz": -540
    },
    "id": "PdDradr0s6LM",
    "outputId": "e53707fc-dd8c-41d9-c4e7-4e57f035c5d1"
   },
   "outputs": [
    {
     "name": "stdout",
     "output_type": "stream",
     "text": [
      "1에서 100사이의 정수를 입력하세요 :11\n",
      "입력하신 정수는 11 입니다.\n",
      "You lose!\n"
     ]
    }
   ],
   "source": [
    "answer = 15\n",
    "\n",
    "num_input = input(\"1에서 100사이의 정수를 입력하세요 :\")\n",
    "num_input = int(num_input)\n",
    "print(\"입력하신 정수는\", num_input, \"입니다.\")\n",
    "\n",
    "if num_input == answer:\n",
    "  print(\"You win!\")\n",
    "else:\n",
    "  print(\"You lose!\")"
   ]
  },
  {
   "cell_type": "markdown",
   "metadata": {
    "id": "dLLlqg4HAdnv"
   },
   "source": [
    "3단계) 참여자가 입력한 값이 `answer`와 다르다면, 큰지 작은지 여부를 알려줄 수 있는 코드를 작성하여라.\n",
    "\n",
    "ex) 너무 작아요(Too low), 너무 커요(Too high)"
   ]
  },
  {
   "cell_type": "code",
   "execution_count": 4,
   "metadata": {
    "colab": {
     "base_uri": "https://localhost:8080/"
    },
    "executionInfo": {
     "elapsed": 2046,
     "status": "ok",
     "timestamp": 1616260317397,
     "user": {
      "displayName": "Kyungho Lee",
      "photoUrl": "https://lh3.googleusercontent.com/a-/AOh14GjvtkL3ZVCUbwlviFfrh0VjjiMUuul3z7PbjJVCgQs=s64",
      "userId": "07228708431473169168"
     },
     "user_tz": -540
    },
    "id": "5atmQkCbs-zk",
    "outputId": "bba45e41-fd26-43cc-e714-937d5976f6f0"
   },
   "outputs": [
    {
     "name": "stdout",
     "output_type": "stream",
     "text": [
      "1에서 100사이의 정수를 입력하세요 :3\n",
      "입력하신 정수는 3 입니다.\n",
      "You lose!\n",
      "너무 작아요(Too low)\n"
     ]
    }
   ],
   "source": [
    "answer = 15\n",
    "\n",
    "num_input = input(\"1에서 100사이의 정수를 입력하세요 :\")\n",
    "num_input = int(num_input)\n",
    "print(\"입력하신 정수는\", num_input, \"입니다.\")\n",
    "\n",
    "if num_input == answer:\n",
    "  print(\"You win!\")\n",
    "elif num_input > answer:\n",
    "  print(\"You lose!\")\n",
    "  print(\"너무 커요(Too high)\") \n",
    "else: \n",
    "  print(\"You lose!\")\n",
    "  print(\"너무 작아요(Too low)\") \n",
    "\n"
   ]
  },
  {
   "cell_type": "markdown",
   "metadata": {
    "id": "rGnB263B05vP"
   },
   "source": [
    "4단계) `try...except`를 이용하여 참여자가 정수가 아닌 값을 입력하면 `정수를 입력하세요`를 출력하여라."
   ]
  },
  {
   "cell_type": "code",
   "execution_count": 7,
   "metadata": {
    "colab": {
     "base_uri": "https://localhost:8080/"
    },
    "executionInfo": {
     "elapsed": 3008,
     "status": "ok",
     "timestamp": 1616260270497,
     "user": {
      "displayName": "Kyungho Lee",
      "photoUrl": "https://lh3.googleusercontent.com/a-/AOh14GjvtkL3ZVCUbwlviFfrh0VjjiMUuul3z7PbjJVCgQs=s64",
      "userId": "07228708431473169168"
     },
     "user_tz": -540
    },
    "id": "eOLU8Dk9tC1K",
    "outputId": "f9d32e15-1e64-4818-b609-66238ecdc72e"
   },
   "outputs": [
    {
     "name": "stdout",
     "output_type": "stream",
     "text": [
      "1에서 100사이의 정수를 입력하세요 :\n",
      "정수를 입력하세요\n"
     ]
    }
   ],
   "source": [
    "answer = 15\n",
    "\n",
    "try :\n",
    "  num_input = input(\"1에서 100사이의 정수를 입력하세요 :\")\n",
    "  num_input = int(num_input)\n",
    "  print(\"입력하신 정수는\", num_input, \"입니다.\")\n",
    "\n",
    "  if num_input == answer:\n",
    "    print(\"You win!\")\n",
    "  elif num_input > answer:\n",
    "    print(\"You lose!\")\n",
    "    print(\"너무 커요(Too high)\") \n",
    "  else: \n",
    "    print(\"You lose!\")\n",
    "    print(\"너무 작아요(Too low)\") \n",
    "\n",
    "except ValueError:\n",
    "  print(\"정수를 입력하세요\")"
   ]
  },
  {
   "cell_type": "markdown",
   "metadata": {
    "id": "uD13hwcV1LFT"
   },
   "source": [
    "5단계) 참여자가 1에서 100사이의 정수가 아닌 수를 입력하면 `1에서 100사이의 정수만 입력해야 합니다`를 출력하여라."
   ]
  },
  {
   "cell_type": "code",
   "execution_count": 8,
   "metadata": {
    "colab": {
     "base_uri": "https://localhost:8080/"
    },
    "executionInfo": {
     "elapsed": 3327,
     "status": "ok",
     "timestamp": 1616318990212,
     "user": {
      "displayName": "Kyungho Lee",
      "photoUrl": "https://lh3.googleusercontent.com/a-/AOh14GjvtkL3ZVCUbwlviFfrh0VjjiMUuul3z7PbjJVCgQs=s64",
      "userId": "07228708431473169168"
     },
     "user_tz": -540
    },
    "id": "kw71m2UptMXm",
    "outputId": "f5566914-167d-4e76-ee23-9d4d9f5d40ac"
   },
   "outputs": [
    {
     "name": "stdout",
     "output_type": "stream",
     "text": [
      "1에서 100사이의 정수를 입력하세요 :10090\n",
      "1에서 100사이의 정수만 입력해야 합니다\n"
     ]
    }
   ],
   "source": [
    "answer = 15\n",
    "\n",
    "try :\n",
    "  \n",
    "  num_input = input(\"1에서 100사이의 정수를 입력하세요 :\")\n",
    "  num_input = int(num_input)\n",
    "\n",
    "  if 0 <= num_input <= 100:\n",
    "\n",
    "    print(\"입력하신 정수는\", num_input, \"입니다.\")\n",
    "\n",
    "    if num_input == answer:\n",
    "      print(\"You win!\")\n",
    "    elif num_input > answer:\n",
    "      print(\"You lose!\")\n",
    "      print(\"너무 커요(Too high)\") \n",
    "    else: \n",
    "      print(\"You lose!\")\n",
    "      print(\"너무 작아요(Too low)\") \n",
    "    \n",
    "  else:\n",
    "\n",
    "    print(\"1에서 100사이의 정수만 입력해야 합니다\")\n",
    " \n",
    "\n",
    "except ValueError:\n",
    "  print(\"정수를 입력하세요\")"
   ]
  },
  {
   "cell_type": "markdown",
   "metadata": {
    "id": "Iu1qAqz71b2-"
   },
   "source": [
    "6단계) 참여자가 정답을 맞힐 때까지 입력을 요구하여라."
   ]
  },
  {
   "cell_type": "code",
   "execution_count": 9,
   "metadata": {
    "colab": {
     "base_uri": "https://localhost:8080/"
    },
    "executionInfo": {
     "elapsed": 8498,
     "status": "ok",
     "timestamp": 1616259683267,
     "user": {
      "displayName": "Kyungho Lee",
      "photoUrl": "https://lh3.googleusercontent.com/a-/AOh14GjvtkL3ZVCUbwlviFfrh0VjjiMUuul3z7PbjJVCgQs=s64",
      "userId": "07228708431473169168"
     },
     "user_tz": -540
    },
    "id": "3BdNu42MtQyD",
    "outputId": "cdf6be1d-e3a8-4d5c-e73c-d34e3518cd50"
   },
   "outputs": [
    {
     "name": "stdout",
     "output_type": "stream",
     "text": [
      "1에서 100사이의 정수를 입력하세요 :\n",
      "정수를 입력하세요\n",
      "1에서 100사이의 정수를 입력하세요 :3\n",
      "입력하신 정수는 3 입니다.\n",
      "You lose!\n",
      "너무 작아요(Too low)\n",
      "1에서 100사이의 정수를 입력하세요 :2\n",
      "입력하신 정수는 2 입니다.\n",
      "You lose!\n",
      "너무 작아요(Too low)\n",
      "1에서 100사이의 정수를 입력하세요 :4\n",
      "입력하신 정수는 4 입니다.\n",
      "You lose!\n",
      "너무 작아요(Too low)\n",
      "1에서 100사이의 정수를 입력하세요 :89\n",
      "입력하신 정수는 89 입니다.\n",
      "You lose!\n",
      "너무 커요(Too high)\n",
      "1에서 100사이의 정수를 입력하세요 :67\n",
      "입력하신 정수는 67 입니다.\n",
      "You lose!\n",
      "너무 커요(Too high)\n",
      "1에서 100사이의 정수를 입력하세요 :45\n",
      "입력하신 정수는 45 입니다.\n",
      "You lose!\n",
      "너무 커요(Too high)\n",
      "1에서 100사이의 정수를 입력하세요 :30\n",
      "입력하신 정수는 30 입니다.\n",
      "You lose!\n",
      "너무 커요(Too high)\n",
      "1에서 100사이의 정수를 입력하세요 :20\n",
      "입력하신 정수는 20 입니다.\n",
      "You lose!\n",
      "너무 커요(Too high)\n",
      "1에서 100사이의 정수를 입력하세요 :15\n",
      "입력하신 정수는 15 입니다.\n",
      "You win!\n"
     ]
    }
   ],
   "source": [
    "answer = 15\n",
    "\n",
    "while True:\n",
    "\n",
    "  try :\n",
    "    \n",
    "    num_input = input(\"1에서 100사이의 정수를 입력하세요 :\")\n",
    "    num_input = int(num_input)\n",
    "\n",
    "    if 0 <= num_input <= 100:\n",
    "\n",
    "      print(\"입력하신 정수는\", num_input, \"입니다.\")\n",
    "\n",
    "      if num_input == answer:\n",
    "        print(\"You win!\")\n",
    "        break\n",
    "        \n",
    "      elif num_input > answer:\n",
    "        print(\"You lose!\")\n",
    "        print(\"너무 커요(Too high)\") \n",
    "      else: \n",
    "        print(\"You lose!\")\n",
    "        print(\"너무 작아요(Too low)\") \n",
    "      \n",
    "    else:\n",
    "\n",
    "      print(\"1에서 100사이의 정수만 입력해야 합니다\")\n",
    "  \n",
    "\n",
    "  except ValueError:\n",
    "    print(\"정수를 입력하세요\")"
   ]
  },
  {
   "cell_type": "markdown",
   "metadata": {
    "id": "d4oQnK9_1ldL"
   },
   "source": [
    "7단계) 참여자가 몇 번 시도하여 정답을 맞혔는지를 보여줘라. "
   ]
  },
  {
   "cell_type": "code",
   "execution_count": null,
   "metadata": {
    "colab": {
     "base_uri": "https://localhost:8080/"
    },
    "executionInfo": {
     "elapsed": 6243,
     "status": "ok",
     "timestamp": 1616259888000,
     "user": {
      "displayName": "Kyungho Lee",
      "photoUrl": "https://lh3.googleusercontent.com/a-/AOh14GjvtkL3ZVCUbwlviFfrh0VjjiMUuul3z7PbjJVCgQs=s64",
      "userId": "07228708431473169168"
     },
     "user_tz": -540
    },
    "id": "_uMFaYZLtWey",
    "outputId": "9efc058e-c52f-4c5c-877e-9b96264f73de"
   },
   "outputs": [
    {
     "name": "stdout",
     "output_type": "stream",
     "text": [
      "1에서 100사이의 정수를 입력하세요 :101\n",
      "1에서 100사이의 정수만 입력해야 합니다\n",
      "1에서 100사이의 정수를 입력하세요 :1\n",
      "입력하신 정수는 1 입니다.\n",
      "You lose!\n",
      "너무 작아요(Too low)\n",
      "1에서 100사이의 정수를 입력하세요 :15\n",
      "입력하신 정수는 15 입니다.\n",
      "You win!\n",
      "시도하신 횟수는:  3 번 입니다.\n"
     ]
    }
   ],
   "source": [
    "count_trial = 0\n",
    "answer = 15\n",
    "\n",
    "while True:\n",
    "  \n",
    "  try :\n",
    "    \n",
    "    num_input = input(\"1에서 100사이의 정수를 입력하세요 :\")\n",
    "    count_trial = count_trial + 1\n",
    "    num_input = int(num_input)\n",
    "\n",
    "    if 0 <= num_input <= 100:\n",
    "\n",
    "      print(\"입력하신 정수는\", num_input, \"입니다.\")\n",
    "\n",
    "      if num_input == answer:\n",
    "        print(\"You win!\")\n",
    "        print(\"시도하신 횟수는: \", count_trial, '번 입니다.')\n",
    "        break\n",
    "        \n",
    "      elif num_input > answer:\n",
    "        print(\"You lose!\")\n",
    "        print(\"너무 커요(Too high)\") \n",
    "      else: \n",
    "        print(\"You lose!\")\n",
    "        print(\"너무 작아요(Too low)\") \n",
    "      \n",
    "    else:\n",
    "\n",
    "      print(\"1에서 100사이의 정수만 입력해야 합니다\")\n",
    "  \n",
    "\n",
    "  except ValueError:\n",
    "    print(\"정수를 입력하세요\")"
   ]
  },
  {
   "cell_type": "markdown",
   "metadata": {
    "id": "Jy6Ch8eK3A70"
   },
   "source": [
    "**문제2) 키와 몸무게를 인자로 받아 체질량지수(BMI)를 구하는 코드를 작성하여라. 아래의 사항들을 참고한다.**\n",
    "\n",
    "$BMI = \\frac{weight}{height^2}$\n",
    "\n",
    "* 단위 :\n",
    "  * 몸무게(weight) : `kg`\n",
    "  * 키(height) : `m`\n",
    "\n",
    "* `BMI` 수치에 따른 체중 분류\n",
    "  * `BMI <= 18.5` 이면 저체중\n",
    "  * `18.5 < BMI <= 23` 이면 정상\n",
    "  * `23 < BMI <= 25` 이면 과체중\n",
    "  * `25 < BMI <= 30` 이면 비만\n",
    "  * `BMI > 30` 이면 고도비만"
   ]
  },
  {
   "cell_type": "code",
   "execution_count": null,
   "metadata": {
    "colab": {
     "base_uri": "https://localhost:8080/"
    },
    "executionInfo": {
     "elapsed": 13527,
     "status": "ok",
     "timestamp": 1616260112783,
     "user": {
      "displayName": "Kyungho Lee",
      "photoUrl": "https://lh3.googleusercontent.com/a-/AOh14GjvtkL3ZVCUbwlviFfrh0VjjiMUuul3z7PbjJVCgQs=s64",
      "userId": "07228708431473169168"
     },
     "user_tz": -540
    },
    "id": "8i3RLrMctZwq",
    "outputId": "d6884220-723b-4a4f-e023-010e6dec7f80"
   },
   "outputs": [
    {
     "name": "stdout",
     "output_type": "stream",
     "text": [
      "몸무게를 입력해주세요 (kg):100\n",
      "키를 입력해주세요 (m):2.00\n",
      "과체중입니다.\n"
     ]
    }
   ],
   "source": [
    "weight_input = input(\"몸무게를 입력해주세요 (kg):\")\n",
    "weight_input = float(weight_input)\n",
    "\n",
    "height_input = input(\"키를 입력해주세요 (m):\")\n",
    "height_input = float(height_input)\n",
    "\n",
    "BMI = weight_input/(height_input**2)\n",
    "\n",
    "if BMI <= 18.5 :\n",
    "  print(\"저체중입니다.\")\n",
    "\n",
    "elif BMI <= 23 :\n",
    "  print(\"정상체중입니다.\")\n",
    "\n",
    "elif BMI <= 25 :\n",
    "  print(\"과체중입니다.\")\n",
    "\n",
    "elif BMI <= 30 :\n",
    "  print(\"비만입니다.\")\n",
    "\n",
    "else :\n",
    "  print(\"고도비만입니다.\")"
   ]
  },
  {
   "cell_type": "markdown",
   "metadata": {
    "id": "fGjSM-6P2Pl7"
   },
   "source": [
    "**문제3) 두 개의 정수 `a`, `b`를 입력받아 `a/b`를 계산하는 코드를 작성하여라.**\n",
    "\n",
    "단, 아래의 내용을 만족하도록 코드를 작성한다.\n",
    "* 정수가 아닌 값이 입력될 경우, 정수를 입력하라고 전달한다.\n",
    "* `b`에 `0`이 입력될 경우, 0이 아닌 숫자를 입력하라고 전달한다. \n",
    "* 올바른 값이 입력될 때까지 입력을 요구한다. "
   ]
  },
  {
   "cell_type": "code",
   "execution_count": null,
   "metadata": {
    "colab": {
     "base_uri": "https://localhost:8080/"
    },
    "executionInfo": {
     "elapsed": 5480,
     "status": "ok",
     "timestamp": 1616260389428,
     "user": {
      "displayName": "Kyungho Lee",
      "photoUrl": "https://lh3.googleusercontent.com/a-/AOh14GjvtkL3ZVCUbwlviFfrh0VjjiMUuul3z7PbjJVCgQs=s64",
      "userId": "07228708431473169168"
     },
     "user_tz": -540
    },
    "id": "lSvrlIOHtdfo",
    "outputId": "e1880e24-3f51-414e-bcff-3c3648091f1c"
   },
   "outputs": [
    {
     "name": "stdout",
     "output_type": "stream",
     "text": [
      "정수 a를 입력해주세요: 2\n",
      "정수 b를 입력해주세요: 4\n",
      "a/b =  0.5\n"
     ]
    }
   ],
   "source": [
    "\n",
    "while True:\n",
    "\n",
    "  try :\n",
    "    a = int(input(\"정수 a를 입력해주세요: \"))\n",
    "    b = int(input(\"정수 b를 입력해주세요: \"))\n",
    "\n",
    "    a_over_b = a/b\n",
    "    print(\"a/b = \", a_over_b)\n",
    "    break\n",
    "\n",
    "  except ValueError:\n",
    "    print(\"정수를 입력해주세요\")\n",
    "\n",
    "  except ZeroDivisionError:\n",
    "    print(\"0이 아닌 b를 입력해주세요\")\n"
   ]
  },
  {
   "cell_type": "markdown",
   "metadata": {
    "id": "RJGEd1T44JF0"
   },
   "source": [
    "**문제4) 숫자 야구 게임 코드를 작성하여라.**\n",
    "\n",
    "숫자 야구 게임은 임의로 정한 3자리의 수(`ans`)를 참여자가 맞히는 게임으로, 아래의 규칙을 따른다.\n",
    "* 사용되는 수는 1~9까지의 서로 다른 정수이다. \n",
    "* 참여자가 입력한 수가 `ans`와 다를 경우, 참여자에게 결과를 알려준다.\n",
    "  * 숫자와 위치가 맞으면, 스트라이크\n",
    "  * 숫자는 맞지만 위치가 틀리면, 볼\n",
    "  * 숫자와 위치가 모두 틀리면, 아웃  \n",
    "\n",
    "예를 들어, ans가 123 일 때, 참여자가 456을 입력하면 '아웃', 257을 입력하면 '1볼', 273을 입력하면 '1볼 1스트라이크'이다. \n",
    "\n",
    "\n",
    "* 각 단계의 내용이 충족되도록 전 단계의 코드를 수정 보완하여라.  \n",
    "예를 들어, 2단계에 작성하는 코드는 1단계와 2단계의 내용이 모두 충족되어야 한다.\n",
    "* 3자리 수를 하나 선택하여 `ans` 변수에 할당한다.  \n",
    "`ans = 157   # 다른 값으로 변경 가능`\n",
    "\n",
    "1단계) 3자리의 수를 입력받는 코드를 작성하여라.\n",
    "> 3자리의 수를 입력하세요 : "
   ]
  },
  {
   "cell_type": "code",
   "execution_count": null,
   "metadata": {
    "colab": {
     "base_uri": "https://localhost:8080/"
    },
    "executionInfo": {
     "elapsed": 3986,
     "status": "ok",
     "timestamp": 1616318773057,
     "user": {
      "displayName": "Kyungho Lee",
      "photoUrl": "https://lh3.googleusercontent.com/a-/AOh14GjvtkL3ZVCUbwlviFfrh0VjjiMUuul3z7PbjJVCgQs=s64",
      "userId": "07228708431473169168"
     },
     "user_tz": -540
    },
    "id": "t-T1NH1JuoL7",
    "outputId": "43116141-1eef-48ee-fa1c-e465a79d3962"
   },
   "outputs": [
    {
     "name": "stdout",
     "output_type": "stream",
     "text": [
      "3자리의 수를 입력하세요: 123\n"
     ]
    }
   ],
   "source": [
    "baseball_input = input(\"3자리의 수를 입력하세요: \")"
   ]
  },
  {
   "cell_type": "markdown",
   "metadata": {
    "id": "9clDZ-ajHDJr"
   },
   "source": [
    "2단계) 참여자가 입력한 3자리의 수와 `ans`를 비교하여, 스트라이크가 몇 인지를 출력하여라. "
   ]
  },
  {
   "cell_type": "code",
   "execution_count": null,
   "metadata": {
    "colab": {
     "base_uri": "https://localhost:8080/"
    },
    "executionInfo": {
     "elapsed": 2462,
     "status": "ok",
     "timestamp": 1616260642757,
     "user": {
      "displayName": "Kyungho Lee",
      "photoUrl": "https://lh3.googleusercontent.com/a-/AOh14GjvtkL3ZVCUbwlviFfrh0VjjiMUuul3z7PbjJVCgQs=s64",
      "userId": "07228708431473169168"
     },
     "user_tz": -540
    },
    "id": "z38jfitiuqRU",
    "outputId": "e6de0505-5d13-4c0f-8d53-e2385b871896"
   },
   "outputs": [
    {
     "name": "stdout",
     "output_type": "stream",
     "text": [
      "3자리의 수를 입력하세요: 157\n",
      "3  스트라이크!\n"
     ]
    }
   ],
   "source": [
    "ans = 157\n",
    "ans = str(ans)\n",
    "\n",
    "baseball_input = input(\"3자리의 수를 입력하세요: \")\n",
    "\n",
    "count_strike = 0\n",
    "\n",
    "for i in range(3):\n",
    "  if ans[i] == baseball_input[i]:\n",
    "    count_strike += 1\n",
    "\n",
    "print(count_strike, \" 스트라이크!\") \n",
    "\n"
   ]
  },
  {
   "cell_type": "markdown",
   "metadata": {
    "id": "7YQxN_JiJEhe"
   },
   "source": [
    "```\n",
    "\n",
    "\n",
    "\n",
    "\n",
    "\n",
    "\n",
    "\n",
    "\n",
    "\n",
    "\n",
    "\n",
    ".\n",
    "```"
   ]
  },
  {
   "cell_type": "markdown",
   "metadata": {
    "id": "oamaDleuHqAX"
   },
   "source": [
    "연습을 더 하고 싶다면, 아래의 문제를 풀어보세요!\n",
    "\n",
    "**[추가 문제1] 문제4)를 완성해보자.**  \n",
    "3단계) 참여자가 입력한 3자리의 수와 `ans`를 비교하여, 스트라이크와 볼이 몇 인지를 출력하여라."
   ]
  },
  {
   "cell_type": "code",
   "execution_count": null,
   "metadata": {
    "colab": {
     "base_uri": "https://localhost:8080/"
    },
    "executionInfo": {
     "elapsed": 4073,
     "status": "ok",
     "timestamp": 1616260797462,
     "user": {
      "displayName": "Kyungho Lee",
      "photoUrl": "https://lh3.googleusercontent.com/a-/AOh14GjvtkL3ZVCUbwlviFfrh0VjjiMUuul3z7PbjJVCgQs=s64",
      "userId": "07228708431473169168"
     },
     "user_tz": -540
    },
    "id": "MmSQwqf8pFII",
    "outputId": "27ba201d-0b71-4f61-f2ea-573d615984b5"
   },
   "outputs": [
    {
     "name": "stdout",
     "output_type": "stream",
     "text": [
      "3자리의 수를 입력하세요: 715\n",
      "0  스트라이크! 3  볼!\n"
     ]
    }
   ],
   "source": [
    "ans = 157\n",
    "ans = str(ans)\n",
    "\n",
    "baseball_input = input(\"3자리의 수를 입력하세요: \")\n",
    "\n",
    "count_strike = 0\n",
    "count_ball = 0\n",
    "\n",
    "for i in range(3):\n",
    "\n",
    "  if ans[i] in baseball_input:\n",
    "\n",
    "    if ans[i] == baseball_input[i]:\n",
    "      count_strike = count_strike + 1\n",
    "    else:\n",
    "      count_ball = count_ball + 1\n",
    "\n",
    "print(count_strike, \" 스트라이크!\", count_ball, \" 볼!\")\n",
    " "
   ]
  },
  {
   "cell_type": "markdown",
   "metadata": {
    "id": "5NI0d6taOdQo"
   },
   "source": [
    "4단계) 참여자가 입력한 3자리의 수와 `ans`를 비교하여, 아웃이면 아웃을, 아니면 스트라이크와 볼이 몇 인지를 출력하여라."
   ]
  },
  {
   "cell_type": "code",
   "execution_count": null,
   "metadata": {
    "colab": {
     "base_uri": "https://localhost:8080/"
    },
    "executionInfo": {
     "elapsed": 4658,
     "status": "ok",
     "timestamp": 1616318819902,
     "user": {
      "displayName": "Kyungho Lee",
      "photoUrl": "https://lh3.googleusercontent.com/a-/AOh14GjvtkL3ZVCUbwlviFfrh0VjjiMUuul3z7PbjJVCgQs=s64",
      "userId": "07228708431473169168"
     },
     "user_tz": -540
    },
    "id": "d_R30EDupqZm",
    "outputId": "aa0f25e6-5d04-4026-fc93-9d7fa247cbf5"
   },
   "outputs": [
    {
     "name": "stdout",
     "output_type": "stream",
     "text": [
      "3자리의 수를 입력하세요: 234\n",
      "아웃!\n"
     ]
    }
   ],
   "source": [
    "ans = 157\n",
    "ans = str(ans)\n",
    "\n",
    "baseball_input = input(\"3자리의 수를 입력하세요: \")\n",
    "\n",
    "count_strike = 0\n",
    "count_ball = 0\n",
    "\n",
    "for i in range(3):\n",
    "\n",
    "  if ans[i] in baseball_input:\n",
    "\n",
    "    if ans[i] == baseball_input[i]:\n",
    "      count_strike = count_strike + 1\n",
    "    else:\n",
    "      count_ball = count_ball + 1\n",
    "\n",
    "if count_strike + count_ball == 0:\n",
    "  print(\"아웃!\")\n",
    "else:\n",
    "  print(count_strike, \" 스트라이크!\", count_ball, \" 볼!\")\n",
    " "
   ]
  },
  {
   "cell_type": "markdown",
   "metadata": {
    "id": "AYYz3kT_GGMd"
   },
   "source": [
    "들여쓰기를 주의해 주세요!"
   ]
  },
  {
   "cell_type": "markdown",
   "metadata": {
    "id": "SzlZ0JuUH-XK"
   },
   "source": [
    "5단계) 참여자가 정답을 맞힐 때까지 입력을 요구하여라."
   ]
  },
  {
   "cell_type": "code",
   "execution_count": null,
   "metadata": {
    "colab": {
     "base_uri": "https://localhost:8080/"
    },
    "executionInfo": {
     "elapsed": 10698,
     "status": "ok",
     "timestamp": 1616260882342,
     "user": {
      "displayName": "Kyungho Lee",
      "photoUrl": "https://lh3.googleusercontent.com/a-/AOh14GjvtkL3ZVCUbwlviFfrh0VjjiMUuul3z7PbjJVCgQs=s64",
      "userId": "07228708431473169168"
     },
     "user_tz": -540
    },
    "id": "3pBLwSdUp08h",
    "outputId": "d97075cb-b8de-4633-8ff7-3676489f585e"
   },
   "outputs": [
    {
     "name": "stdout",
     "output_type": "stream",
     "text": [
      "3자리의 수를 입력하세요: 123\n",
      "1  스트라이크! 0  볼!\n",
      "3자리의 수를 입력하세요: 145\n",
      "1  스트라이크! 1  볼!\n",
      "3자리의 수를 입력하세요: 512\n",
      "0  스트라이크! 2  볼!\n",
      "3자리의 수를 입력하세요: 14\n",
      "1  스트라이크! 0  볼!\n",
      "3자리의 수를 입력하세요: 157\n",
      "3  스트라이크! 0  볼!\n"
     ]
    }
   ],
   "source": [
    "ans = 157\n",
    "ans = str(ans)\n",
    "\n",
    "while True:\n",
    "\n",
    "  baseball_input = input(\"3자리의 수를 입력하세요: \")\n",
    "\n",
    "  count_strike = 0\n",
    "  count_ball = 0\n",
    "\n",
    "  for i in range(3):\n",
    "\n",
    "    if ans[i] in baseball_input:\n",
    "\n",
    "      if ans[i] == baseball_input[i]:\n",
    "        count_strike = count_strike + 1\n",
    "      else:1\n",
    "        count_ball = count_ball + 1\n",
    "\n",
    "  if count_strike + count_ball == 0:\n",
    "    print(\"아웃!\")\n",
    "  else:\n",
    "    print(count_strike, \" 스트라이크!\", count_ball, \" 볼!\")\n",
    "    if count_strike == 3:\n",
    "      print(\"게임 끝!\")\n",
    "      break\n",
    "  "
   ]
  },
  {
   "cell_type": "markdown",
   "metadata": {
    "id": "tETga5BZNTQ8"
   },
   "source": [
    "6단계) 숫자가 아닌 값을 입력하면, `숫자를 입력하세요`를 출력하여라."
   ]
  },
  {
   "cell_type": "code",
   "execution_count": null,
   "metadata": {
    "colab": {
     "base_uri": "https://localhost:8080/"
    },
    "executionInfo": {
     "elapsed": 8576,
     "status": "ok",
     "timestamp": 1616260990178,
     "user": {
      "displayName": "Kyungho Lee",
      "photoUrl": "https://lh3.googleusercontent.com/a-/AOh14GjvtkL3ZVCUbwlviFfrh0VjjiMUuul3z7PbjJVCgQs=s64",
      "userId": "07228708431473169168"
     },
     "user_tz": -540
    },
    "id": "LWKltvJJqCW7",
    "outputId": "183b4499-601c-4124-e837-a77fa9cacffa"
   },
   "outputs": [
    {
     "name": "stdout",
     "output_type": "stream",
     "text": [
      "3자리의 수를 입력하세요: 123\n",
      "1  스트라이크! 0  볼!\n",
      "3자리의 수를 입력하세요: ㅏ\n",
      "숫자를 입력하세요\n",
      "3자리의 수를 입력하세요: 124\n",
      "1  스트라이크! 0  볼!\n",
      "3자리의 수를 입력하세요: 157\n",
      "3  스트라이크! 0  볼!\n",
      "게임 끝!\n"
     ]
    }
   ],
   "source": [
    "ans = 157\n",
    "ans = str(ans)\n",
    "\n",
    "while True:\n",
    "\n",
    "  try:\n",
    "\n",
    "    baseball_input = input(\"3자리의 수를 입력하세요: \")\n",
    "\n",
    "    baseball_int = int(baseball_input)\n",
    "\n",
    "    count_strike = 0\n",
    "    count_ball = 0\n",
    "\n",
    "    for i in range(3):\n",
    "\n",
    "      if ans[i] in baseball_input:\n",
    "\n",
    "        if ans[i] == baseball_input[i]:\n",
    "          count_strike = count_strike + 1\n",
    "        else:\n",
    "          count_ball = count_ball + 1\n",
    "\n",
    "    if count_strike + count_ball == 0:\n",
    "      print(\"아웃!\")\n",
    "    else:\n",
    "      print(count_strike, \" 스트라이크!\", count_ball, \" 볼!\")\n",
    "      if count_strike == 3:\n",
    "        print(\"게임 끝!\")\n",
    "        break\n",
    "  \n",
    "  except ValueError:\n",
    "    print(\"숫자를 입력하세요\")"
   ]
  },
  {
   "cell_type": "markdown",
   "metadata": {
    "id": "EgTrxzDnGkGV"
   },
   "source": [
    "[note] while문은 반드시 loop를 빠져나올 수 있도록 코드를 고려한다"
   ]
  },
  {
   "cell_type": "markdown",
   "metadata": {
    "id": "uDtmYVoIIZQ9"
   },
   "source": [
    "7단계) 세 자리 미만의 수를 입력하면, `세 자리의 수를 입력하세요`를 출력하여라.  \n"
   ]
  },
  {
   "cell_type": "code",
   "execution_count": null,
   "metadata": {
    "colab": {
     "base_uri": "https://localhost:8080/"
    },
    "executionInfo": {
     "elapsed": 12448,
     "status": "ok",
     "timestamp": 1616261086202,
     "user": {
      "displayName": "Kyungho Lee",
      "photoUrl": "https://lh3.googleusercontent.com/a-/AOh14GjvtkL3ZVCUbwlviFfrh0VjjiMUuul3z7PbjJVCgQs=s64",
      "userId": "07228708431473169168"
     },
     "user_tz": -540
    },
    "id": "qi4-sbXoqZIO",
    "outputId": "43c2abbc-19a0-4e0c-f150-77b9a266c0b8"
   },
   "outputs": [
    {
     "name": "stdout",
     "output_type": "stream",
     "text": [
      "3자리의 수를 입력하세요: 12\n",
      "세 자리의 수를 입력하세요\n",
      "3자리의 수를 입력하세요: 312\n",
      "0  스트라이크! 1  볼!\n",
      "3자리의 수를 입력하세요: 412\n",
      "0  스트라이크! 1  볼!\n",
      "3자리의 수를 입력하세요: 156\n",
      "2  스트라이크! 0  볼!\n",
      "3자리의 수를 입력하세요: 157\n",
      "3  스트라이크! 0  볼!\n",
      "게임 끝!\n"
     ]
    }
   ],
   "source": [
    "ans = 157\n",
    "ans = str(ans)\n",
    "\n",
    "while True:\n",
    "\n",
    "  try:\n",
    "\n",
    "    baseball_input = input(\"3자리의 수를 입력하세요: \")\n",
    "\n",
    "    baseball_int = int(baseball_input)\n",
    "    baseball_3digit = baseball_input[2]\n",
    "    \n",
    "\n",
    "    count_strike = 0\n",
    "    count_ball = 0\n",
    "\n",
    "    for i in range(3):\n",
    "\n",
    "      if ans[i] in baseball_input:\n",
    "\n",
    "        if ans[i] == baseball_input[i]:\n",
    "          count_strike = count_strike + 1\n",
    "        else:\n",
    "          count_ball = count_ball + 1\n",
    "\n",
    "    if count_strike + count_ball == 0:\n",
    "      print(\"아웃!\")\n",
    "    else:\n",
    "      print(count_strike, \" 스트라이크!\", count_ball, \" 볼!\")\n",
    "      if count_strike == 3:\n",
    "        print(\"게임 끝!\")\n",
    "        break\n",
    "  \n",
    "  except ValueError:\n",
    "    print(\"숫자를 입력하세요\")\n",
    "    \n",
    "  except IndexError:\n",
    "    print(\"세 자리의 수를 입력하세요\")"
   ]
  },
  {
   "cell_type": "markdown",
   "metadata": {
    "id": "TQOTnTHOKUha"
   },
   "source": [
    "**[추가문제2] 영어단어를 입력받아 알파벳순으로 출력하는 코드를 작성하여라.**  \n",
    "예를 들어, `dog`를 입력하면, `dgo`를 출력한다."
   ]
  },
  {
   "cell_type": "code",
   "execution_count": null,
   "metadata": {
    "colab": {
     "base_uri": "https://localhost:8080/"
    },
    "executionInfo": {
     "elapsed": 9413,
     "status": "ok",
     "timestamp": 1616340735896,
     "user": {
      "displayName": "Kyungho Lee",
      "photoUrl": "https://lh3.googleusercontent.com/a-/AOh14GjvtkL3ZVCUbwlviFfrh0VjjiMUuul3z7PbjJVCgQs=s64",
      "userId": "07228708431473169168"
     },
     "user_tz": -540
    },
    "id": "b1JvBfgbqyQd",
    "outputId": "6875c827-20f1-440c-ac3a-09b3a00cb847"
   },
   "outputs": [
    {
     "name": "stdout",
     "output_type": "stream",
     "text": [
      "영어단어를 입력해주세요 :fsdddddake\n",
      "알파벳순 : adddddefks\n"
     ]
    }
   ],
   "source": [
    "word_input = input(\"영어단어를 입력해주세요 :\")\n",
    "word_input = word_input.lower() # 소문자로 변환\n",
    "\n",
    "word_output = word_input\n",
    "\n",
    "for i in range(len(word_input)):\n",
    "    \n",
    "  minindex = i\n",
    "  \n",
    "  for j in range(i,len(word_input)):\n",
    "    if word_output[j] < word_output[minindex]: \n",
    "      minindex = j\n",
    "  \n",
    "  word_temp = \"\"  ## i와 minindex의 위치를 교환하기 위한 temp 변수\n",
    "\n",
    "  for k in range(len(word_input)):\n",
    "\n",
    "    if k == i:\n",
    "      word_temp = word_temp + word_output[minindex]\n",
    "    elif k == minindex:\n",
    "      word_temp = word_temp + word_output[i]\n",
    "    else:\n",
    "      word_temp = word_temp + word_output[k]\n",
    "    \n",
    "  word_output = word_temp\n",
    "  \n",
    "print(\"알파벳순 : \" + word_output)"
   ]
  },
  {
   "cell_type": "markdown",
   "metadata": {
    "id": "QpvNXi-7aw45"
   },
   "source": [
    "[note] list를 이용하면 간편하게 풀 수 있다."
   ]
  },
  {
   "cell_type": "markdown",
   "metadata": {
    "id": "L1ZHNhVTPHo4"
   },
   "source": [
    "**[추가문제3] 다음 중 오류가 발생하는 코드는 무엇인가**\n",
    "\n",
    "(a)\n",
    "```\n",
    "if 3/0 or True :\n",
    "  print(\"A\")\n",
    "```\n",
    "\n",
    "(b)\n",
    "```\n",
    "if True or 3/0 :\n",
    "  print(\"B\")\n",
    "```"
   ]
  },
  {
   "cell_type": "code",
   "execution_count": null,
   "metadata": {
    "colab": {
     "base_uri": "https://localhost:8080/",
     "height": 186
    },
    "executionInfo": {
     "elapsed": 672,
     "status": "error",
     "timestamp": 1616261248767,
     "user": {
      "displayName": "Kyungho Lee",
      "photoUrl": "https://lh3.googleusercontent.com/a-/AOh14GjvtkL3ZVCUbwlviFfrh0VjjiMUuul3z7PbjJVCgQs=s64",
      "userId": "07228708431473169168"
     },
     "user_tz": -540
    },
    "id": "m-cUqYYxrWHU",
    "outputId": "fd0d45a2-3778-4786-c610-923fa5785342"
   },
   "outputs": [
    {
     "ename": "ZeroDivisionError",
     "evalue": "ignored",
     "output_type": "error",
     "traceback": [
      "\u001b[0;31m---------------------------------------------------------------------------\u001b[0m",
      "\u001b[0;31mZeroDivisionError\u001b[0m                         Traceback (most recent call last)",
      "\u001b[0;32m<ipython-input-57-09936c6aec90>\u001b[0m in \u001b[0;36m<module>\u001b[0;34m()\u001b[0m\n\u001b[0;32m----> 1\u001b[0;31m \u001b[0;32mif\u001b[0m \u001b[0;36m3\u001b[0m\u001b[0;34m/\u001b[0m\u001b[0;36m0\u001b[0m \u001b[0;32mor\u001b[0m \u001b[0;32mTrue\u001b[0m \u001b[0;34m:\u001b[0m\u001b[0;34m\u001b[0m\u001b[0;34m\u001b[0m\u001b[0m\n\u001b[0m\u001b[1;32m      2\u001b[0m   \u001b[0mprint\u001b[0m\u001b[0;34m(\u001b[0m\u001b[0;34m\"A\"\u001b[0m\u001b[0;34m)\u001b[0m\u001b[0;34m\u001b[0m\u001b[0;34m\u001b[0m\u001b[0m\n",
      "\u001b[0;31mZeroDivisionError\u001b[0m: division by zero"
     ]
    }
   ],
   "source": [
    "if 3/0 or True :\n",
    "  print(\"A\")"
   ]
  },
  {
   "cell_type": "code",
   "execution_count": null,
   "metadata": {
    "colab": {
     "base_uri": "https://localhost:8080/"
    },
    "executionInfo": {
     "elapsed": 1442,
     "status": "ok",
     "timestamp": 1616261256740,
     "user": {
      "displayName": "Kyungho Lee",
      "photoUrl": "https://lh3.googleusercontent.com/a-/AOh14GjvtkL3ZVCUbwlviFfrh0VjjiMUuul3z7PbjJVCgQs=s64",
      "userId": "07228708431473169168"
     },
     "user_tz": -540
    },
    "id": "EXHut6KSrYzn",
    "outputId": "6fada00e-2e25-4278-fdfb-9a4c73548dc0"
   },
   "outputs": [
    {
     "name": "stdout",
     "output_type": "stream",
     "text": [
      "B\n"
     ]
    }
   ],
   "source": [
    "if True or 3/0 :\n",
    "  print(\"B\")"
   ]
  },
  {
   "cell_type": "markdown",
   "metadata": {
    "id": "Wia34c29rZ9n"
   },
   "source": [
    "or 연산은 앞이 True이면 뒤를 계산하지 않고 코드를 실행한다! "
   ]
  }
 ],
 "metadata": {
  "colab": {
   "authorship_tag": "ABX9TyO4sq7/xuTtPUP0Hlr64dXd",
   "collapsed_sections": [],
   "name": "실습답안4.ipynb",
   "provenance": []
  },
  "kernelspec": {
   "display_name": "Python 3 (ipykernel)",
   "language": "python",
   "name": "python3"
  },
  "language_info": {
   "codemirror_mode": {
    "name": "ipython",
    "version": 3
   },
   "file_extension": ".py",
   "mimetype": "text/x-python",
   "name": "python",
   "nbconvert_exporter": "python",
   "pygments_lexer": "ipython3",
   "version": "3.9.7"
  }
 },
 "nbformat": 4,
 "nbformat_minor": 1
}