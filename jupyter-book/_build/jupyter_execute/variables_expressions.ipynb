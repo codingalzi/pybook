{
 "cells": [
  {
   "cell_type": "markdown",
   "metadata": {},
   "source": [
    "# 변수, 값, 표현식"
   ]
  },
  {
   "cell_type": "markdown",
   "metadata": {},
   "source": [
    "프로그래밍 언어를 분류하는 여러 기준 중에 하나가 명령형 프로그래밍 언어인지 여부이다.\n",
    "파이썬은 C, C++, C#, 자바, 자바스크립트, Rust 등처럼 명령형 프로그래밍 언어이다.\n",
    "명령형 프로그래밍언어의 핵심 기능 중의 하나가 \n",
    "바로 컴퓨터 메모리에 저장된 값을 조작하는 일이다.\n",
    "값을 저장하고 조작하기 위해 값을 가리키는 이름이 필요한데\n",
    "이를 위해 변수를 사용한다.\n",
    "\n",
    "컴퓨터 프로그램은 간단하게 말해 변수를 조작하여 원하는 값을\n",
    "만들어내는 명령문의 모음집이라고 할 수 있다.\n",
    "이번 장에서는 변수의 활용법과 함께 \n",
    "파이썬에서 기본으로 제공하는 값의 종류와 값을 표현하는 표현식에 대해 알아본다."
   ]
  },
  {
   "cell_type": "markdown",
   "metadata": {},
   "source": [
    "## 변수와 값"
   ]
  },
  {
   "cell_type": "markdown",
   "metadata": {},
   "source": [
    "**변수**<font size=\"2\">variables</font>는 \n",
    "컴퓨터 메모리에 저장되는 값을 가리키는 이름이다.\n",
    "반면에 **값**<font size=\"2\">values</font>은 컴퓨터에 저장해서\n",
    "활용할 수 있는 대상이며, \n",
    "정수와 유한소수가 대표적인 값들이다.\n",
    "\n",
    "참고로 무리수를 포함한 무한소수는 물론 소수점 이하의 자릿수가 너무 큰 유한소수는\n",
    "컴퓨터의 용향 한계로 인해 제대로 파이썬 등 모든 프로그래밍 언어에서 완벽하게 다뤄지지 못한다.\n",
    "모든 프로그래밍 언어는 유한소수와 무한소수 모두 소수점 이하 적당한 자리에서 끊어서 저장하고 처리한다.\n",
    "어디서 끊는가 또한 프로그램이 활용되는 환경에 따라, \n",
    "컴퓨터 사양에 따라 달라진다.\n",
    "유한소수의 자릿수가 일정하지 않게 처리된다는 의미에서 유한소수의 자료형을\n",
    "일반적으로 **부동소수점**<font size='2'>floating points</font>라 부른다."
   ]
  },
  {
   "cell_type": "markdown",
   "metadata": {},
   "source": [
    "정수, 유한소수와 더불어 `a`, `b`, `c`, `1`, `2`, `3`, `!`, `:`, `_`, `가`, `나`, `다` 등 \n",
    "컴퓨터 키보드를 이용하여 입력할 수 있는 임의의 문자, 숫자, 기호로 \n",
    "구성된 단어를 가리키는 문자열도 값으로 취급된다.\n",
    "예를 들어, `파이썬 좋아요;-)`, `Hello, World!` 등이 문자열 값이다.\n",
    "이외에 파이썬은 리스트, 튜플, 집합, 사전 등 다양한 종류의 값을 제공하며,\n",
    "앞으로 하나씩 상세히 살펴볼 것이다."
   ]
  },
  {
   "cell_type": "markdown",
   "metadata": {},
   "source": [
    "### 변수 할당"
   ]
  },
  {
   "cell_type": "markdown",
   "metadata": {},
   "source": [
    "**변수 할당**<font size=\"2\">variable assignment</font> 명령문은\n",
    "하나의 변수에 하나의 값을 할당하며,\n",
    "이 과정을 통해 이어지는 명령문에서 활용할 수 있는 변수를 **선언**한다.\n",
    "할당된 값은 컴퓨터 메모리 어딘가에 저장되며\n",
    "선언된 변수는 저장된 값이 어디에 저장되어 있는지 있으며 그 값을 가리킨다.\n",
    "따라서 저장된 값을 활용하고 싶을 때 언제든지 선언된 변수를 대신 이용할 수 있다.\n",
    "\n",
    "변수 할당 명령문의 형식은 다음과 같다.\n",
    "\n",
    "```python\n",
    "변수 = 값\n",
    "```\n",
    "\n",
    "예를 들어, 아래 네 개의 할당 명령문은 서로 다른 종류의 값을 가리키는 네 개의 변수를\n",
    "선언한다."
   ]
  },
  {
   "cell_type": "markdown",
   "metadata": {},
   "source": [
    "- `greetings` 변수: `'안녕하세요!'` 라는 문자열을 할당받음."
   ]
  },
  {
   "cell_type": "code",
   "execution_count": 10,
   "metadata": {},
   "outputs": [],
   "source": [
    "greetings = '안녕하세요!'"
   ]
  },
  {
   "cell_type": "markdown",
   "metadata": {},
   "source": [
    "- `num` 변수: 정수 `17`을 할당받음."
   ]
  },
  {
   "cell_type": "code",
   "execution_count": 11,
   "metadata": {},
   "outputs": [],
   "source": [
    "num = 17"
   ]
  },
  {
   "cell_type": "markdown",
   "metadata": {},
   "source": [
    "- `pi` 변수: 유한소수 `3.1415926535897932`를 할당받음."
   ]
  },
  {
   "cell_type": "code",
   "execution_count": 12,
   "metadata": {},
   "outputs": [],
   "source": [
    "pi = 3.1415926535897932"
   ]
  },
  {
   "cell_type": "markdown",
   "metadata": {},
   "source": [
    "- `scores` 변수: 세 개의 시험점수로 구성된 리스트를 할당받음."
   ]
  },
  {
   "cell_type": "code",
   "execution_count": 21,
   "metadata": {},
   "outputs": [],
   "source": [
    "scores = [92, 87, 100]"
   ]
  },
  {
   "cell_type": "markdown",
   "metadata": {},
   "source": [
    "**선언된 변수와 할당된 값**"
   ]
  },
  {
   "cell_type": "markdown",
   "metadata": {},
   "source": [
    "선언된 변수는 할당된 값과 동등하게 취급된다.\n",
    "예를 들어 `'안녕하세요!'` 문자열이 필요하면 \n",
    "`greetings` 변수를 대신 사용한다.\n",
    "아래 코드는 `greetings` 변수가 정확하게 `'안녕하세요!'` 문자열을 가리키고 있음을 보여준다."
   ]
  },
  {
   "cell_type": "code",
   "execution_count": 15,
   "metadata": {},
   "outputs": [
    {
     "data": {
      "text/plain": [
       "'안녕하세요!'"
      ]
     },
     "execution_count": 15,
     "metadata": {},
     "output_type": "execute_result"
    }
   ],
   "source": [
    "greetings"
   ]
  },
  {
   "cell_type": "markdown",
   "metadata": {},
   "source": [
    "변수 `num`과 `pi` 가 각각 정수와 부동소수점을 가리키기에 연산에도 사용할 수 있다."
   ]
  },
  {
   "cell_type": "code",
   "execution_count": 17,
   "metadata": {},
   "outputs": [
    {
     "data": {
      "text/plain": [
       "19"
      ]
     },
     "execution_count": 17,
     "metadata": {},
     "output_type": "execute_result"
    }
   ],
   "source": [
    "num + 2"
   ]
  },
  {
   "cell_type": "code",
   "execution_count": 18,
   "metadata": {},
   "outputs": [
    {
     "data": {
      "text/plain": [
       "6.283185307179586"
      ]
     },
     "execution_count": 18,
     "metadata": {},
     "output_type": "execute_result"
    }
   ],
   "source": [
    "2 * pi"
   ]
  },
  {
   "cell_type": "markdown",
   "metadata": {},
   "source": [
    "변수 `scores`가 시험점수로 구성된 리스트를 가리키기에\n",
    "아래 코드에서처럼 시험점수의 평균값을 리스트 인덱싱을 이용하여 계산할 수 있다.\n",
    "참고로 정수의 나누셈 결과는 항상 부동소수점으로 처리됨에 주의한다."
   ]
  },
  {
   "cell_type": "code",
   "execution_count": 23,
   "metadata": {},
   "outputs": [
    {
     "data": {
      "text/plain": [
       "93.0"
      ]
     },
     "execution_count": 23,
     "metadata": {},
     "output_type": "execute_result"
    }
   ],
   "source": [
    "mean = (scores[0] + scores[1] + scores[2])/3\n",
    "mean"
   ]
  },
  {
   "cell_type": "markdown",
   "metadata": {},
   "source": [
    "**변수 재할당**"
   ]
  },
  {
   "cell_type": "markdown",
   "metadata": {},
   "source": [
    "변수 재할당은 변수에 할당된 값을 다른 값으로 대체하는 일이다.\n",
    "예를 들어 변수 `x`에 정수 5를 할당한다."
   ]
  },
  {
   "cell_type": "code",
   "execution_count": 11,
   "metadata": {},
   "outputs": [],
   "source": [
    "x = 5"
   ]
  },
  {
   "cell_type": "markdown",
   "metadata": {},
   "source": [
    "변수 `x`는 정수 5를 가리킨다."
   ]
  },
  {
   "cell_type": "code",
   "execution_count": 13,
   "metadata": {},
   "outputs": [
    {
     "name": "stdout",
     "output_type": "stream",
     "text": [
      "5\n"
     ]
    }
   ],
   "source": [
    "print(x)"
   ]
  },
  {
   "cell_type": "markdown",
   "metadata": {},
   "source": [
    "이제 변수 할당 명령문을 아래처럼 다시 실행해본다."
   ]
  },
  {
   "cell_type": "code",
   "execution_count": 18,
   "metadata": {},
   "outputs": [],
   "source": [
    "x = 7"
   ]
  },
  {
   "cell_type": "markdown",
   "metadata": {},
   "source": [
    "이제 변수 `x`는 정수 5가 아닌 정수 7을 가리킨다."
   ]
  },
  {
   "cell_type": "code",
   "execution_count": 19,
   "metadata": {},
   "outputs": [
    {
     "name": "stdout",
     "output_type": "stream",
     "text": [
      "7\n"
     ]
    }
   ],
   "source": [
    "print(x)"
   ]
  },
  {
   "cell_type": "markdown",
   "metadata": {},
   "source": [
    "이처럼 변수 할당문을 동일한 변수를 이용하여 다시 실행하면\n",
    "변수가 가리키는 값이 달라진다."
   ]
  },
  {
   "cell_type": "markdown",
   "metadata": {},
   "source": [
    "**변수 업데이트**"
   ]
  },
  {
   "cell_type": "markdown",
   "metadata": {},
   "source": [
    "**변수 업데이트**<font size=\"2\">variable update</font>는\n",
    "이미 선언된 변수에 대해 변수 재할당을 실행할 때 변수 자신의 값을 이용한다.\n",
    "예를 들어 아래 코드는 변수 `x`가 기존에 가리키던 값 7에 1을 더한 값 8을 다시 변수 `x`에 할당한다."
   ]
  },
  {
   "cell_type": "code",
   "execution_count": 20,
   "metadata": {},
   "outputs": [
    {
     "name": "stdout",
     "output_type": "stream",
     "text": [
      "8\n"
     ]
    }
   ],
   "source": [
    "x = x + 1\n",
    "print(x)"
   ]
  },
  {
   "cell_type": "markdown",
   "metadata": {},
   "source": [
    "반면에 아래 명령문은 변수 `x`가 가리키던 값 8에서 1을 뺀 값인 7을 다시 변수 `x`에 할당한다."
   ]
  },
  {
   "cell_type": "code",
   "execution_count": 21,
   "metadata": {},
   "outputs": [
    {
     "name": "stdout",
     "output_type": "stream",
     "text": [
      "7\n"
     ]
    }
   ],
   "source": [
    "x = x - 1\n",
    "print(x)"
   ]
  },
  {
   "cell_type": "markdown",
   "metadata": {},
   "source": [
    "변수 업데이트 명령문을 보다 간편하게 표현할 수 있다.\n",
    "예를 들어 아래 명령문은 `x = x+1`을 대신한다."
   ]
  },
  {
   "cell_type": "code",
   "execution_count": 22,
   "metadata": {},
   "outputs": [],
   "source": [
    "x += 1 # x = x + 1"
   ]
  },
  {
   "cell_type": "code",
   "execution_count": 23,
   "metadata": {},
   "outputs": [
    {
     "name": "stdout",
     "output_type": "stream",
     "text": [
      "8\n"
     ]
    }
   ],
   "source": [
    "print(x)"
   ]
  },
  {
   "cell_type": "markdown",
   "metadata": {},
   "source": [
    "반면에 아래 명령문은 `x = x / 2`를 대신한다."
   ]
  },
  {
   "cell_type": "code",
   "execution_count": 24,
   "metadata": {},
   "outputs": [],
   "source": [
    "x /= 2 # x = x / 2"
   ]
  },
  {
   "cell_type": "code",
   "execution_count": 25,
   "metadata": {},
   "outputs": [
    {
     "name": "stdout",
     "output_type": "stream",
     "text": [
      "4.0\n"
     ]
    }
   ],
   "source": [
    "print(x)"
   ]
  },
  {
   "cell_type": "markdown",
   "metadata": {},
   "source": [
    "프로그래밍에서 많이 사용되는 간편한 변수 업데이트 명령문 형식을 정리하면 다음과 같다.\n",
    "\n",
    "| 간편 변수 업데이트 | 실제 의미 |\n",
    "| :---: | :---: |\n",
    "|`x += 1` |`x = x + 1`|\n",
    "| `x -= 1` | `x = x - 1`|\n",
    "| `x *= 2` | `x = x * 2`|\n",
    "|`x /= 2`|`x = x / 2`|\n",
    "|`x **= 2`|`x = x ** 2`|\n",
    "|`x //= 2`|`x = x // 2`|\n",
    "|`x %= 2`|`x = x % 2`|"
   ]
  },
  {
   "cell_type": "markdown",
   "metadata": {},
   "source": [
    "간편 변수 업데이트 명령문은 `while` 반복문에서 많이 활용된다.\n",
    "예를 들어 {numref}`%s절 <sec:while-iteration-starting>`에서 \n",
    "`while` 반복문을 이용하여 1부터 10까지의 정수들의 합을 계산한 코드는 다음과 같았다."
   ]
  },
  {
   "cell_type": "code",
   "execution_count": 31,
   "metadata": {},
   "outputs": [
    {
     "name": "stdout",
     "output_type": "stream",
     "text": [
      "1부터 10까지 정수의 합: 55\n"
     ]
    }
   ],
   "source": [
    "one2ten = [1, 2, 3, 4, 5, 6, 7, 8, 9, 10]\n",
    "\n",
    "index = 0\n",
    "sum = 0                          # 항목을 차례대로 더한 값. 시작은 0부터.\n",
    "\n",
    "while index < len(one2ten):\n",
    "    sum = sum + one2ten[index] \n",
    "    index = index + 1\n",
    "    \n",
    "print(\"1부터 10까지 정수의 합:\", sum)"
   ]
  },
  {
   "cell_type": "markdown",
   "metadata": {},
   "source": [
    "위 코드에서 `while` 반복문의 본문에서 마지막 명령문으로 사용된\n",
    "`index = index + 1`은 리스트의 항목의 위치를 가리키는 인덱스를 \n",
    "0에서 1씩 키우면서 인덱싱을 적용하기 위해 필요하다.\n",
    "이런 경우 보통 간편 변수 업데이트 명령문을 활용한다."
   ]
  },
  {
   "cell_type": "code",
   "execution_count": 32,
   "metadata": {},
   "outputs": [
    {
     "name": "stdout",
     "output_type": "stream",
     "text": [
      "1부터 10까지 정수의 합: 55\n"
     ]
    }
   ],
   "source": [
    "one2ten = [1, 2, 3, 4, 5, 6, 7, 8, 9, 10]\n",
    "\n",
    "index = 0\n",
    "sum = 0                          # 항목을 차례대로 더한 값. 시작은 0부터.\n",
    "\n",
    "while index < len(one2ten):\n",
    "    sum = sum + one2ten[index] \n",
    "    index += 1                  # 간편 변수 업데이트\n",
    "    \n",
    "print(\"1부터 10까지 정수의 합:\", sum)"
   ]
  },
  {
   "cell_type": "markdown",
   "metadata": {},
   "source": [
    "### 변수 이름짓기"
   ]
  },
  {
   "cell_type": "markdown",
   "metadata": {},
   "source": [
    "변수의 이름은 할당되는 값과 연관된 이름을 사용하는 게 좋다.\n",
    "예를 들어, 농구 시합에서 A 팀의 점수 72와 B 팀의 점수 80을 \n",
    "가리키는 두 개의 변수를 아래와 같이 `x`와 `y`로 하면 \n",
    "코드만 보고서는 변수의 의미를 파악하기 어렵다."
   ]
  },
  {
   "cell_type": "code",
   "execution_count": 33,
   "metadata": {},
   "outputs": [],
   "source": [
    "x = 72\n",
    "y = 80"
   ]
  },
  {
   "cell_type": "markdown",
   "metadata": {},
   "source": [
    "반면에 아래처럼 `A_score`, `B_score` 등으로 변수를 정하면\n",
    "코드에 사용된 변수의 의미를 보다 잘 이해할 수 있다."
   ]
  },
  {
   "cell_type": "code",
   "execution_count": 34,
   "metadata": {},
   "outputs": [],
   "source": [
    "A_score = 72\n",
    "B_score = 80"
   ]
  },
  {
   "cell_type": "markdown",
   "metadata": {},
   "source": [
    "**변수 이름짓기 규칙**"
   ]
  },
  {
   "cell_type": "markdown",
   "metadata": {},
   "source": [
    "변수의 이름을 지을 때 지켜야 하는 몇 가지 규칙이 있다.\n",
    "\n",
    "- 알파벳, 숫자, 밑줄 기호 `_` 등을 임의로 조합한다.\n",
    "- 다음 기호들은 사용할 수 없다.\n",
    "\n",
    "    ```\n",
    "    ., !, +, -, *, /, %, @, ~\n",
    "    ````\n",
    "\n",
    "- 공백<font size='2'>space</font>을 포함할 수 없다.\n",
    "- 숫자로 시작할 수 없다.\n",
    "- 파이썬에서 특별한 역할을 수행하는 아래 **키워드**<font size=\"2\">keyword</font>를\n",
    "    그대로 변수로 사용할 수 없다. \n",
    "    파이썬 프로그래밍 언어의 키워드는 파이썬 최신 버전 기준으로 총 35개이다.\n",
    "    각 키워드의 역할은 필요할 때마다 설명될 것이다. \n",
    "\n",
    "    ```\n",
    "    False      await      else       import     pass\n",
    "    None       break      except     in         raise\n",
    "    True       class      finally    is         return\n",
    "    and        continue   for        lambda     try\n",
    "    as         def        from       nonlocal   while\n",
    "    assert     del        global     not        with\n",
    "    async      elif       if         or         yield\n",
    "    ```"
   ]
  },
  {
   "cell_type": "markdown",
   "metadata": {},
   "source": [
    "변수 이름으로 허용되지 않는 사례 몇 가지를 살펴보자."
   ]
  },
  {
   "cell_type": "markdown",
   "metadata": {},
   "source": [
    "- 숫자로 시작: 숫자로 시작하면 안된다는 의미의 구문 오류(`SyntaxError`)가 발생한다."
   ]
  },
  {
   "cell_type": "code",
   "execution_count": 35,
   "metadata": {},
   "outputs": [
    {
     "ename": "SyntaxError",
     "evalue": "invalid decimal literal (2112157922.py, line 1)",
     "output_type": "error",
     "traceback": [
      "\u001b[0;36m  Cell \u001b[0;32mIn[35], line 1\u001b[0;36m\u001b[0m\n\u001b[0;31m    3dogs = '강아지 세 마리'\u001b[0m\n\u001b[0m    ^\u001b[0m\n\u001b[0;31mSyntaxError\u001b[0m\u001b[0;31m:\u001b[0m invalid decimal literal\n"
     ]
    }
   ],
   "source": [
    "3dogs = '강아지 세 마리'"
   ]
  },
  {
   "cell_type": "markdown",
   "metadata": {},
   "source": [
    "- 마침표 활용: `first.second`를 변수로 지정하면 마침표로 인해 `first`와 `second`가 구분된다.\n",
    "    그런데 `first`의 의미가 미리 지정되지 않았다는 의미의 이름 오류(`NameError`)가 발생한다."
   ]
  },
  {
   "cell_type": "code",
   "execution_count": 39,
   "metadata": {},
   "outputs": [
    {
     "ename": "NameError",
     "evalue": "name 'first' is not defined",
     "output_type": "error",
     "traceback": [
      "\u001b[0;31m---------------------------------------------------------------------------\u001b[0m",
      "\u001b[0;31mNameError\u001b[0m                                 Traceback (most recent call last)",
      "Cell \u001b[0;32mIn[39], line 1\u001b[0m\n\u001b[0;32m----> 1\u001b[0m first\u001b[38;5;241m.\u001b[39msecond \u001b[38;5;241m=\u001b[39m \u001b[38;5;124m\"\u001b[39m\u001b[38;5;124m1, 2\u001b[39m\u001b[38;5;124m\"\u001b[39m\n",
      "\u001b[0;31mNameError\u001b[0m: name 'first' is not defined"
     ]
    }
   ],
   "source": [
    "first.second = \"1, 2\""
   ]
  },
  {
   "cell_type": "markdown",
   "metadata": {},
   "source": [
    "- 공백 사용: 변수 이름에 공백이 허용되 않는다는 의미의 구문 오류(`SyntaxError`)가 발생한다."
   ]
  },
  {
   "cell_type": "code",
   "execution_count": 36,
   "metadata": {},
   "outputs": [
    {
     "ename": "SyntaxError",
     "evalue": "invalid syntax (4202336010.py, line 1)",
     "output_type": "error",
     "traceback": [
      "\u001b[0;36m  Cell \u001b[0;32mIn[36], line 1\u001b[0;36m\u001b[0m\n\u001b[0;31m    big number = 100000000\u001b[0m\n\u001b[0m        ^\u001b[0m\n\u001b[0;31mSyntaxError\u001b[0m\u001b[0;31m:\u001b[0m invalid syntax\n"
     ]
    }
   ],
   "source": [
    "big number = 100000000"
   ]
  },
  {
   "cell_type": "markdown",
   "metadata": {},
   "source": [
    "- 파이썬 키워드 사용: 예를 들어, `False`는 거짓을 나타내는 부울값(진릿값)이기에 \n",
    "    다른 의미로 사용되어서는 안된다는 의미의 구문 오류(`SyntaxError`)가 발생한다."
   ]
  },
  {
   "cell_type": "code",
   "execution_count": 38,
   "metadata": {},
   "outputs": [
    {
     "ename": "SyntaxError",
     "evalue": "cannot assign to False (1160946929.py, line 1)",
     "output_type": "error",
     "traceback": [
      "\u001b[0;36m  Cell \u001b[0;32mIn[38], line 1\u001b[0;36m\u001b[0m\n\u001b[0;31m    False = 0\u001b[0m\n\u001b[0m    ^\u001b[0m\n\u001b[0;31mSyntaxError\u001b[0m\u001b[0;31m:\u001b[0m cannot assign to False\n"
     ]
    }
   ],
   "source": [
    "False = 0"
   ]
  },
  {
   "cell_type": "markdown",
   "metadata": {},
   "source": [
    "**소문자와 대문자 구분하기**"
   ]
  },
  {
   "cell_type": "markdown",
   "metadata": {},
   "source": [
    "프로그래밍에서 영어 알파벳의 소문자와 대문자는 엄연히 구분된다.\n",
    "예를 들어, `'hello'`와 `'Hello'`는 서로 다른 문자열이다."
   ]
  },
  {
   "cell_type": "code",
   "execution_count": 40,
   "metadata": {},
   "outputs": [
    {
     "data": {
      "text/plain": [
       "False"
      ]
     },
     "execution_count": 40,
     "metadata": {},
     "output_type": "execute_result"
    }
   ],
   "source": [
    "'hello' == 'Hello'"
   ]
  },
  {
   "cell_type": "markdown",
   "metadata": {},
   "source": [
    "**한글 사용**"
   ]
  },
  {
   "cell_type": "markdown",
   "metadata": {},
   "source": [
    "한글 단어, 심지어 자음과 모음도 독립적으로 사용할 수 있다.\n",
    "하지만 한글을 이용하여 변수 이름을 짓는 일은 많이 활용되지는 않는다."
   ]
  },
  {
   "cell_type": "code",
   "execution_count": 43,
   "metadata": {},
   "outputs": [],
   "source": [
    "헬로 = 'hello'\n",
    "ㅎㄹ = '헬로'"
   ]
  },
  {
   "cell_type": "markdown",
   "metadata": {},
   "source": [
    "반면에 아래 코드에서처럼 한글 문자열을 변수에 할당해서 활용하는 일은 매우 일반적이다."
   ]
  },
  {
   "cell_type": "code",
   "execution_count": 46,
   "metadata": {},
   "outputs": [
    {
     "name": "stdout",
     "output_type": "stream",
     "text": [
      "hello의 뜻: 안녕하세요\n"
     ]
    }
   ],
   "source": [
    "hello = \"안녕하세요\"\n",
    "print(\"hello의 뜻:\", hello)"
   ]
  },
  {
   "cell_type": "markdown",
   "metadata": {},
   "source": [
    "## 함수와 표현식"
   ]
  },
  {
   "cell_type": "markdown",
   "metadata": {},
   "source": [
    "### 연산자"
   ]
  },
  {
   "cell_type": "markdown",
   "metadata": {},
   "source": [
    "일반적으로 **연산**<font size=\"2\">operation</font>은 사칙연산 등 \n",
    "수<font size='2'>number</font>를 대상으로 하는 **계산**을 의미한다.\n",
    "하지만 연산은 수 이외에도 두 문자열의 이어 붙이기 등 다른 종류의 값을 대상으로도 실행될 수 있다.\n",
    "이렇게 특정 종류의 값을 대상으로 계산을 수행하도록 하는 기호를\n",
    "**연산자**<font size=\"2\">operator</font>라 부르며,\n",
    "가장 많이 사용되는 연산자는 다음과 같다.\n",
    "\n",
    "* 사칙 연산자: 덧셈(`+`), 뺄셈(`-`), 곱셈(`*`), 나눗셈(`/`)\n",
    "* 비교 연산자: 작다(`<`), 크다(`>`), 작거나 같다(`<=`), 크거나 같다(`>=`)\n",
    "\n",
    "위 연산자들이 수 연산에 사용되는 경우 수학에서 배운\n",
    "연산 개념과 동일하다.\n",
    "하지만 앞서 살펴보았듯이 수가 아닌 다른 종류의 값들을 대상으로 하면 기능이 달라질 수 있다."
   ]
  },
  {
   "cell_type": "code",
   "execution_count": 15,
   "metadata": {},
   "outputs": [],
   "source": [
    "first = '파이썬, '\n",
    "second = '안녕!'"
   ]
  },
  {
   "cell_type": "code",
   "execution_count": 16,
   "metadata": {},
   "outputs": [
    {
     "data": {
      "text/plain": [
       "'파이썬, 안녕!'"
      ]
     },
     "execution_count": 16,
     "metadata": {},
     "output_type": "execute_result"
    }
   ],
   "source": [
    "first + second"
   ]
  },
  {
   "cell_type": "code",
   "execution_count": 17,
   "metadata": {},
   "outputs": [
    {
     "data": {
      "text/plain": [
       "'I love python! I love python! I love python! I love python! '"
      ]
     },
     "execution_count": 17,
     "metadata": {},
     "output_type": "execute_result"
    }
   ],
   "source": [
    "'I love python! ' * 4"
   ]
  },
  {
   "cell_type": "markdown",
   "metadata": {},
   "source": [
    ":::{admonition} 연산자 우선순위\n",
    ":class: info\n",
    "\n",
    "하나의 표현식이 나타내는 값은\n",
    "표현식에 사용된 연산자를 실행하여 계산된다.\n",
    "사칙연산자 등 많이 사용되는 수학 연산자의 \n",
    "우선순위는 일반적으로 알려진 것과 동일하다.\n",
    "\n",
    "* 괄호 안에 있는 표현식을 가장 먼저 계산한다. \n",
    "    \n",
    "    ```python\n",
    "    2*(3-1) => 2*2 => 4\n",
    "    (1+1)**(5-2) => 2**(5-2) => 2**3 => 8\n",
    "    ```\n",
    "    \n",
    "* 거듭제곱의 우선순위가 사칙연산보다 높다.\n",
    "\n",
    "    ```python\n",
    "    3**2*2 => (3**2)*2 => 9*2 => 18\n",
    "    3*2**2 => 3*(2**2) => 3*4 => 12\n",
    "    ```\n",
    "    \n",
    "* 곱셈과 나눗셈을 덧셈과 뺄셈보다 먼저 계산한다. \n",
    "\n",
    "    ```python\n",
    "    2*3-1 => (2*3)-1 => 6-1 => 5\n",
    "    6+4/2 => 6+(4/2) => 6+2 => 8\n",
    "    ```\n",
    "    \n",
    "* 곱셈과 나눗셈은 서로 우선순위가 같다.\n",
    "* 덧셈과 뺄쎔도 서로 우선순위가 같다.\n",
    "* 같은 우선순위를 갖는 연산자가 연속해서 나오면 (거듭제곱을 제외하고) 왼쪽에서 오른쪽으로 계산된다. \n",
    "\n",
    "    ```python\n",
    "    60/2*3 => (60/2)*3 => 30*3 => 90\n",
    "    ```\n",
    "    \n",
    "* 거듭제곱이 연속해서 나오면 오른쪽에서 왼쪽으로 계산된다. \n",
    "\n",
    "    ```python\n",
    "    2**3**2 => 2**(3**2) => 2**9 => 512\n",
    "    ```\n",
    ":::"
   ]
  },
  {
   "cell_type": "markdown",
   "metadata": {},
   "source": [
    "### 함수"
   ]
  },
  {
   "cell_type": "markdown",
   "metadata": {},
   "source": [
    "수학에서의 함수는 다음과 같이 사칙연산과 거듭제곱을 포함하여\n",
    "삼각함수와 지수 및 로그 함수 등\n",
    "주어진 값을 이용하여 새로운 값을 계산한다.\n",
    "\n",
    "- $f(x) = ax + b$, \n",
    "- $g(x, y) = a x^2 + b y^2$, \n",
    "- $pow(x, y) = x ^ y$\n",
    "- $h(x) = \\sin x$,\n",
    "- $k(x) = \\log x$,\n",
    "- $root(x) = \\sqrt{x}$"
   ]
  },
  {
   "cell_type": "markdown",
   "metadata": {},
   "source": [
    "언급된 함수 중에서 $\\sin$ 과 $\\log$, 그리고 제곱근 함수 $\\sqrt{\\,\\,\\,}$ 등은 \n",
    "`math` 모듈에 포함되어 있다.\n",
    "아나콘다 패키지를 설치한 경우 `numpy` 모듈도 많은 함수를 제공한다.\n",
    "\n",
    "언급된 함수들을 사용하려면 먼저 해당 모듈을 불러와야 한다. \n",
    "예를 들어 `math` 모듈을 사용하려면 다음과 같이 한다."
   ]
  },
  {
   "cell_type": "code",
   "execution_count": 18,
   "metadata": {},
   "outputs": [],
   "source": [
    "import math"
   ]
  },
  {
   "cell_type": "markdown",
   "metadata": {},
   "source": [
    "그러면 `sin()`, `log()`, `sqrt()` 함수 등을 이용할 수 있다.\n",
    "단, 불러온 모듈 이름과 함께 사용한다.\n",
    "\n",
    "- $\\sin(\\pi/2)$"
   ]
  },
  {
   "cell_type": "code",
   "execution_count": 19,
   "metadata": {},
   "outputs": [
    {
     "data": {
      "text/plain": [
       "0.9999996829318346"
      ]
     },
     "execution_count": 19,
     "metadata": {},
     "output_type": "execute_result"
    }
   ],
   "source": [
    "# 원주율 \n",
    "pi = 3.14\n",
    "\n",
    "math.sin(pi/2)"
   ]
  },
  {
   "cell_type": "markdown",
   "metadata": {},
   "source": [
    "- $\\sqrt{2}$"
   ]
  },
  {
   "cell_type": "code",
   "execution_count": 20,
   "metadata": {},
   "outputs": [
    {
     "data": {
      "text/plain": [
       "1.4142135623730951"
      ]
     },
     "execution_count": 20,
     "metadata": {},
     "output_type": "execute_result"
    }
   ],
   "source": [
    "math.sqrt(2)"
   ]
  },
  {
   "cell_type": "markdown",
   "metadata": {},
   "source": [
    "`math.log()`는 자연로그 함수를 가리킨다."
   ]
  },
  {
   "cell_type": "markdown",
   "metadata": {},
   "source": [
    "- $\\log(10)$"
   ]
  },
  {
   "cell_type": "code",
   "execution_count": 21,
   "metadata": {},
   "outputs": [
    {
     "data": {
      "text/plain": [
       "0.9969486348916096"
      ]
     },
     "execution_count": 21,
     "metadata": {},
     "output_type": "execute_result"
    }
   ],
   "source": [
    "math.log(2.71)"
   ]
  },
  {
   "cell_type": "markdown",
   "metadata": {},
   "source": [
    "상용로그 함수는 다음과 같다."
   ]
  },
  {
   "cell_type": "markdown",
   "metadata": {},
   "source": [
    "- $\\log_{10}(10)$"
   ]
  },
  {
   "cell_type": "code",
   "execution_count": 22,
   "metadata": {},
   "outputs": [
    {
     "data": {
      "text/plain": [
       "1.0"
      ]
     },
     "execution_count": 22,
     "metadata": {},
     "output_type": "execute_result"
    }
   ],
   "source": [
    "math.log10(10)"
   ]
  },
  {
   "cell_type": "markdown",
   "metadata": {},
   "source": [
    "앞서 보았듯이 수학에서의 함수를 프로그래밍에서 그대로 사용한다.\n",
    "하지만 프로그래밍에서 함수의 의미는 수학에서의 함수와는\n",
    "다른 역할도 가질 수 있다.\n",
    "예를 들어, \n",
    "`print()` 함수는 어떤 값을 계산해서 생성하는 일은 하지 않고\n",
    "지정된 값을 화면에 출력하는 기능만 수행한다.\n",
    "프로그래밍에서의 함수의 기능에 대한 자세한 설명은\n",
    "{numref}`%s장 <ch:functions>`에서 다룬다.\n",
    "\n",
    "프로그래밍에서의 함수는 또한 숫자가 아닌 다른 종류의 값도 생성한다.\n",
    "예를 들어 리스트와 같은 수학에서는 없는 값도 생성하는 함수가 존재한다.\n",
    "앞으로 다양한 종류의 함수를 만나게 될 것이다.\n",
    "여기서는 파이썬에서 가장 많이 활용되는 함수 중의 하나인\n",
    "`range()` 함수를 소개한다.\n",
    "`range()` 함수를 이용하면 유용한 리스트를 아주 간단하게 생성할 수 있다."
   ]
  },
  {
   "cell_type": "markdown",
   "metadata": {},
   "source": [
    "### `range()` 함수"
   ]
  },
  {
   "cell_type": "markdown",
   "metadata": {},
   "source": [
    "`range()` 함수는 리스트와 매우 유사한 값을 생성한다.\n",
    "예를 들어, `range(10)`는 0부터 10 이전까지, \n",
    "즉 0부터 9까지의 정수를 포함하는 리스트와 유사한 값을 생성한다."
   ]
  },
  {
   "cell_type": "code",
   "execution_count": 21,
   "metadata": {},
   "outputs": [
    {
     "data": {
      "text/plain": [
       "range(0, 10)"
      ]
     },
     "execution_count": 21,
     "metadata": {},
     "output_type": "execute_result"
    }
   ],
   "source": [
    "range(10)"
   ]
  },
  {
   "cell_type": "markdown",
   "metadata": {},
   "source": [
    "아니면 0을 첫째 인자로, 10을 둘째 인자로 사용해도 동일한 모양의 값을 생성한다."
   ]
  },
  {
   "cell_type": "code",
   "execution_count": 27,
   "metadata": {},
   "outputs": [
    {
     "data": {
      "text/plain": [
       "range(0, 10)"
      ]
     },
     "execution_count": 27,
     "metadata": {},
     "output_type": "execute_result"
    }
   ],
   "source": [
    "range(0, 10)"
   ]
  },
  {
   "cell_type": "markdown",
   "metadata": {},
   "source": [
    "`range()` 함수가 생성하는 값의 자료형은 `range` 이다."
   ]
  },
  {
   "cell_type": "code",
   "execution_count": 29,
   "metadata": {},
   "outputs": [
    {
     "data": {
      "text/plain": [
       "range"
      ]
     },
     "execution_count": 29,
     "metadata": {},
     "output_type": "execute_result"
    }
   ],
   "source": [
    "type(range(10))"
   ]
  },
  {
   "cell_type": "markdown",
   "metadata": {},
   "source": [
    "그런데 `range(10)`의 내부를 바로 보여주지는 않는다."
   ]
  },
  {
   "cell_type": "code",
   "execution_count": 30,
   "metadata": {},
   "outputs": [
    {
     "name": "stdout",
     "output_type": "stream",
     "text": [
      "range(0, 10)\n"
     ]
    }
   ],
   "source": [
    "print(range(10))"
   ]
  },
  {
   "cell_type": "markdown",
   "metadata": {},
   "source": [
    "`range` 객체에 포함되는 값을 확인하는 가장 간단한 방법은 \n",
    "리스트로의 형변환이다."
   ]
  },
  {
   "cell_type": "code",
   "execution_count": 31,
   "metadata": {},
   "outputs": [
    {
     "data": {
      "text/plain": [
       "[0, 1, 2, 3, 4, 5, 6, 7, 8, 9]"
      ]
     },
     "execution_count": 31,
     "metadata": {},
     "output_type": "execute_result"
    }
   ],
   "source": [
    "list(range(10))"
   ]
  },
  {
   "cell_type": "markdown",
   "metadata": {},
   "source": [
    "아니면 `for` 반복문을 이용할 수 있다."
   ]
  },
  {
   "cell_type": "code",
   "execution_count": 25,
   "metadata": {},
   "outputs": [
    {
     "name": "stdout",
     "output_type": "stream",
     "text": [
      "0\n",
      "1\n",
      "2\n",
      "3\n",
      "4\n",
      "5\n",
      "6\n",
      "7\n",
      "8\n",
      "9\n"
     ]
    }
   ],
   "source": [
    "for item in range(10):\n",
    "    print(item)"
   ]
  },
  {
   "cell_type": "markdown",
   "metadata": {},
   "source": [
    "이렇듯 `range()` 함수가 생성하는 `range` 객체는 내부를 바로 보여주지는 않지만\n",
    "`for` 반복문에서 아래와 같은 리스트를 대신해서 유용하게 활용된다."
   ]
  },
  {
   "cell_type": "code",
   "execution_count": 26,
   "metadata": {},
   "outputs": [
    {
     "name": "stdout",
     "output_type": "stream",
     "text": [
      "0\n",
      "1\n",
      "2\n",
      "3\n",
      "4\n",
      "5\n",
      "6\n",
      "7\n",
      "8\n",
      "9\n"
     ]
    }
   ],
   "source": [
    "for item in [0, 1, 2, 3, 4, 5, 6, 7, 8, 9]:\n",
    "    print(item)"
   ]
  },
  {
   "cell_type": "markdown",
   "metadata": {},
   "source": [
    ":::{admonition} `range()` 함수와 이터러블 자료형\n",
    ":class: note\n",
    "\n",
    "`range()` 함수가 생성하는 `range` 객체에 대한 자세한 설명은 {numref}`%s장 <ch:collections3>` 을 참고한다.\n",
    "하지만 파이썬 프로그래밍에 어느 정도 익숙해진 다음에 참고할 것을 추천한다.\n",
    ":::"
   ]
  },
  {
   "cell_type": "markdown",
   "metadata": {},
   "source": [
    "`range()` 함수는 최대 3 개의 인자를 받을 수 있다.\n",
    "`range(10)`이 `range(0, 10)`과 동일한 모양의 값을 생성한다고 말했듯이\n",
    "하나의 인자만 사용하면 첫째 인자가 0인 두 개의 인자를 사용하는 경우와 동일하다."
   ]
  },
  {
   "cell_type": "code",
   "execution_count": 34,
   "metadata": {},
   "outputs": [
    {
     "data": {
      "text/plain": [
       "True"
      ]
     },
     "execution_count": 34,
     "metadata": {},
     "output_type": "execute_result"
    }
   ],
   "source": [
    "range(10) == range(0, 10)"
   ]
  },
  {
   "cell_type": "markdown",
   "metadata": {},
   "source": [
    "그런데 시작을 0이 아닌 다른 정수로 하려면 반드시 두 개의 인자를 사용해야 한다.\n",
    "예를 들어 아래 코드는 1부터 9까지의 정수로 구성된 값을 생성한다."
   ]
  },
  {
   "cell_type": "code",
   "execution_count": 32,
   "metadata": {},
   "outputs": [
    {
     "data": {
      "text/plain": [
       "range(1, 10)"
      ]
     },
     "execution_count": 32,
     "metadata": {},
     "output_type": "execute_result"
    }
   ],
   "source": [
    "range(1, 10)"
   ]
  },
  {
   "cell_type": "code",
   "execution_count": 33,
   "metadata": {},
   "outputs": [
    {
     "data": {
      "text/plain": [
       "[1, 2, 3, 4, 5, 6, 7, 8, 9]"
      ]
     },
     "execution_count": 33,
     "metadata": {},
     "output_type": "execute_result"
    }
   ],
   "source": [
    "list(range(1, 10))"
   ]
  },
  {
   "cell_type": "markdown",
   "metadata": {},
   "source": [
    "`range()` 함수에 세 개의 인자를 사용하면\n",
    "첫째, 둘째 인자의 의미는 이전과 동일하다.\n",
    "그리고 셋째 인자는 보폭을 가리킨다.\n",
    "예를 들어 1부터 9까지의 정수 중에서 홀수만을\n",
    "대상으로 하는 `range` 객체를 생성한다.\n",
    "이유는 보폭이 2로 지정되었기에 1부터 시작해서 1씩이 아닌 2씩 증가시켜 값을 포함시키기 때문이다."
   ]
  },
  {
   "cell_type": "code",
   "execution_count": 37,
   "metadata": {},
   "outputs": [
    {
     "data": {
      "text/plain": [
       "range(1, 10, 2)"
      ]
     },
     "execution_count": 37,
     "metadata": {},
     "output_type": "execute_result"
    }
   ],
   "source": [
    "range(1, 10, 2)"
   ]
  },
  {
   "cell_type": "code",
   "execution_count": 38,
   "metadata": {},
   "outputs": [
    {
     "data": {
      "text/plain": [
       "[1, 3, 5, 7, 9]"
      ]
     },
     "execution_count": 38,
     "metadata": {},
     "output_type": "execute_result"
    }
   ],
   "source": [
    "list(range(1, 10, 2))"
   ]
  },
  {
   "cell_type": "markdown",
   "metadata": {},
   "source": [
    "10보다 같거나 작은 자연수 중에서 짝수만을 포함하는 리스트를 다음과 같이 쉽게 생성할 수 있다."
   ]
  },
  {
   "cell_type": "code",
   "execution_count": 40,
   "metadata": {},
   "outputs": [
    {
     "data": {
      "text/plain": [
       "[2, 4, 6, 8, 10]"
      ]
     },
     "execution_count": 40,
     "metadata": {},
     "output_type": "execute_result"
    }
   ],
   "source": [
    "list(range(2, 11, 2))"
   ]
  },
  {
   "cell_type": "markdown",
   "metadata": {},
   "source": [
    "보폭을 인자로 사용하려면 반드시 세 개의 인자를 사용해야 한다.\n",
    "예를 들어 0을 짝수 리스트에 포함시키려면 다음과 같이 한다."
   ]
  },
  {
   "cell_type": "code",
   "execution_count": 42,
   "metadata": {},
   "outputs": [
    {
     "data": {
      "text/plain": [
       "[0, 2, 4, 6, 8, 10]"
      ]
     },
     "execution_count": 42,
     "metadata": {},
     "output_type": "execute_result"
    }
   ],
   "source": [
    "list(range(0, 11, 2))"
   ]
  },
  {
   "cell_type": "markdown",
   "metadata": {},
   "source": [
    "만약에 0을 생략하면 보폭인자의 역할을 수행하지 않기에 엉뚱한 결과를 얻는다."
   ]
  },
  {
   "cell_type": "code",
   "execution_count": 43,
   "metadata": {},
   "outputs": [
    {
     "data": {
      "text/plain": [
       "[]"
      ]
     },
     "execution_count": 43,
     "metadata": {},
     "output_type": "execute_result"
    }
   ],
   "source": [
    "list(range(11, 2))"
   ]
  },
  {
   "cell_type": "markdown",
   "metadata": {},
   "source": [
    "위 코드는 아무 항목도 포함하지 않는 빈 리스트를 생성한다.\n",
    "이유는 시작은 11인데 2에서 끝나야 하기 때문이다. \n",
    "그런데 셋제 인자로 보폭이 주어지지 않으면 보폭은 자동 1로 지정된다.\n",
    "그런데 보폭이 1이면 11에서 출발해서 1씩 증가하는 방식으로 절대로 2에 도달할 수 없게된다.\n",
    "따라서 어떤 값도 `range(11, 2, 1)` 에 포함되지 못하게 된다."
   ]
  },
  {
   "cell_type": "code",
   "execution_count": 44,
   "metadata": {},
   "outputs": [
    {
     "data": {
      "text/plain": [
       "[]"
      ]
     },
     "execution_count": 44,
     "metadata": {},
     "output_type": "execute_result"
    }
   ],
   "source": [
    "list(range(11, 2, 1))"
   ]
  },
  {
   "cell_type": "markdown",
   "metadata": {},
   "source": [
    "반면에 11에서 1까지의 정수 중에서 홀수만을 역순으로 모아놓은\n",
    "리스트를 생성하기 위해 보폭을 -1로 줄 수 있다."
   ]
  },
  {
   "cell_type": "code",
   "execution_count": 48,
   "metadata": {},
   "outputs": [
    {
     "data": {
      "text/plain": [
       "[11, 9, 7, 5, 3, 1]"
      ]
     },
     "execution_count": 48,
     "metadata": {},
     "output_type": "execute_result"
    }
   ],
   "source": [
    "list(range(11, 0, -2))"
   ]
  },
  {
   "cell_type": "markdown",
   "metadata": {},
   "source": [
    "둘째 인자를 0으로 함에 주의한다.\n",
    "그래야 11부터 1씩 줄어들었을 때 0 이전의 값이 1이 되기 때문이다.\n",
    "다음처럼 1로 하면 1 이전의 값이 2가 되어 1이 포함되지 않게 된다."
   ]
  },
  {
   "cell_type": "code",
   "execution_count": 47,
   "metadata": {},
   "outputs": [
    {
     "data": {
      "text/plain": [
       "[11, 9, 7, 5, 3]"
      ]
     },
     "execution_count": 47,
     "metadata": {},
     "output_type": "execute_result"
    }
   ],
   "source": [
    "list(range(11, 1, -2))"
   ]
  },
  {
   "cell_type": "markdown",
   "metadata": {},
   "source": [
    "따라서 큰 값에서 시작해서 값이 작아지는 쪽으로 리스트나 `range` 객체를 생성하려면\n",
    "음의 정수를 보폭으로 사용한다.\n",
    "예를 들어 아래 코드는 5부터 0까지의 정수를 역순으로 출력한다."
   ]
  },
  {
   "cell_type": "code",
   "execution_count": 49,
   "metadata": {},
   "outputs": [
    {
     "name": "stdout",
     "output_type": "stream",
     "text": [
      "5\n",
      "4\n",
      "3\n",
      "2\n",
      "1\n",
      "0\n"
     ]
    }
   ],
   "source": [
    "for item in range(5, -1, -1):\n",
    "    print(item)"
   ]
  },
  {
   "cell_type": "markdown",
   "metadata": {},
   "source": [
    "(sec:representation)=\n",
    "### 표현식"
   ]
  },
  {
   "cell_type": "markdown",
   "metadata": {},
   "source": [
    "`'안녕하세요!'`, `18`, `3.1415926535897932` 등은 변수에 할당하거나 \n",
    "연산 등에 사용할 수 있는 값이다. \n",
    "그리고 `num`이 하나의 값을 가리키면 다음 표현들 모두 각각 하나의 값을 가리킨다.\n",
    "\n",
    "```python\n",
    "num + 2\n",
    "math.sqrt(num)\n",
    "(1, num+2, math.sqrt(num))\n",
    "['파이썬', '좋아요]\n",
    "hello' + ' python'\n",
    "('hello', ' python')\n",
    "```\n",
    "\n",
    "이처럼 값들을 이용한 연산과 함수 적용, 값들의 리스트 또는 튜플 등 새로운 값을 무한정 만들어 낼 수 있다.\n",
    "이렇게 다양한 방식으로 값을 표현하는 데에 사용되는 식을 \n",
    "**표현식**<font size=\"2\">expression</font>이라 부른다."
   ]
  },
  {
   "cell_type": "markdown",
   "metadata": {},
   "source": [
    "::::{admonition} 주의\n",
    ":class: caution\n",
    "\n",
    "표현식을 작성할 때 사용되는 연산자나 함수의 특성을 고려해야 한다.\n",
    "예를 들어, 곱셈 연산자는 두 개의 인자를 받는데, \n",
    "정수 또는 유한소수 두 개의 곱을 표현하거나\n",
    "문자열과 정수의 곲을 표현해야 한다.\n",
    "만약에 두 문자열의 곱을 계산하려 하면 오류가 발생한다.\n",
    "즉, 적절한 표현식으로 인정받지 못한다.\n",
    "\n",
    "```python\n",
    ">>> '파이썬' * '좋아요'\n",
    "Traceback (most recent call last):\n",
    "  File \"<stdin>\", line 1, in <module>\n",
    "TypeError: can't multiply sequence by non-int of type 'str'\n",
    "```\n",
    "\n",
    "동일한 이유로 아래 표현식들도 허용되지 않는다. \n",
    "\n",
    "```python\n",
    "'파이썬' - 'k-팝'\n",
    "3 / '피자'\n",
    "```\n",
    "::::"
   ]
  },
  {
   "cell_type": "markdown",
   "metadata": {},
   "source": [
    "## 값과 자료형"
   ]
  },
  {
   "cell_type": "markdown",
   "metadata": {},
   "source": [
    "모든 값들은 각각 고유의 **자료형**<font size=\"2\">data type</font>을 갖는다.\n",
    "예를 들어,\n",
    "\n",
    "* `-2`, `-1`, `0,` `1`, `2`, ... 등 **정수**의 자료형은 `int`이고,\n",
    "* `3.141592`, `2.71`, `-0.23` 등 유한소수의 자료형은 **부동소수점** 자료형인 `float`이고,\n",
    "* `'강아지'`, `'Hello, World!'`, `'파이썬은 재밌어요!'` 등의 단어 또는 문장의 자료형은\n",
    "    **문자열** 자료형인 `str`이다. "
   ]
  },
  {
   "cell_type": "markdown",
   "metadata": {},
   "source": [
    "### 변수의 자료형"
   ]
  },
  {
   "cell_type": "markdown",
   "metadata": {},
   "source": [
    "선언된 변수의 자료형은 변수가 현재 가리키는 값의 자료형과 동일하다."
   ]
  },
  {
   "cell_type": "code",
   "execution_count": 23,
   "metadata": {},
   "outputs": [
    {
     "data": {
      "text/plain": [
       "int"
      ]
     },
     "execution_count": 23,
     "metadata": {},
     "output_type": "execute_result"
    }
   ],
   "source": [
    "num = 18\n",
    "type(num)"
   ]
  },
  {
   "cell_type": "markdown",
   "metadata": {},
   "source": [
    "변수에 할당된 값이 달라지면 변수의 자료형도 달라질 수 있다."
   ]
  },
  {
   "cell_type": "code",
   "execution_count": 24,
   "metadata": {},
   "outputs": [
    {
     "data": {
      "text/plain": [
       "float"
      ]
     },
     "execution_count": 24,
     "metadata": {},
     "output_type": "execute_result"
    }
   ],
   "source": [
    "num = 3.14\n",
    "type(num)"
   ]
  },
  {
   "cell_type": "code",
   "execution_count": 25,
   "metadata": {},
   "outputs": [
    {
     "data": {
      "text/plain": [
       "str"
      ]
     },
     "execution_count": 25,
     "metadata": {},
     "output_type": "execute_result"
    }
   ],
   "source": [
    "num = '3.14'\n",
    "type(num)"
   ]
  },
  {
   "cell_type": "markdown",
   "metadata": {},
   "source": [
    "### 표현식의 자료형"
   ]
  },
  {
   "cell_type": "markdown",
   "metadata": {},
   "source": [
    "`3 * 2`, `\"Hello, Python\" + \"!\"`, `math.sqrt(2)`, `x/2` 등의 표현식의 자료형은\n",
    "표현식이 표현하는 값의 자료형을 갖는다.\n",
    "반면에 튜플과 리스트의 자료형은 사용된 항목의 자료형에 상관 없다.\n",
    "즉, 튜플 언제나 튜플이고 리스트는 언제나 리스트이다."
   ]
  },
  {
   "cell_type": "markdown",
   "metadata": {},
   "source": [
    "아래 표는 표현식과 해당 표현식이 표현하는 값, 그리고 값의 자료형 사이의 관계를 보여준다.\n",
    "단, `x` 는 정수 `3`을 가리킨다고 가정한다.\n",
    "\n",
    "| 표현식 | 값 | 자료형 |\n",
    "| ---   |--- | ---   |\n",
    "| `x`  | `3`  | `int` |\n",
    "| `x/2`  | `1.5`  | `float` |\n",
    "| `3 * 2` | `6` | `int` |\n",
    "| `\"Hello, Python\" + \"!\"` | `\"Hello, Python!\"` | `str`|\n",
    "| `math.sqrt(2)` | `1.4142135623730951`| `float` |\n",
    "| `(x/2 - 1) < 0` | `False` | `bool` |\n",
    "| `(1, x/2-1, x+x+1)`  | `(1, 0.5, 7)`  | `tuple` |\n",
    "| `[x, x*3/2, x**3+1]`  | `[3, 4.5, 28]`  | `list` |"
   ]
  },
  {
   "cell_type": "markdown",
   "metadata": {},
   "source": [
    "### `type()` 함수"
   ]
  },
  {
   "cell_type": "markdown",
   "metadata": {},
   "source": [
    "`type()` 함수는 인자로 사용된 값과 표현식의 자료형을 확인해준다."
   ]
  },
  {
   "cell_type": "code",
   "execution_count": 26,
   "metadata": {},
   "outputs": [
    {
     "data": {
      "text/plain": [
       "int"
      ]
     },
     "execution_count": 26,
     "metadata": {},
     "output_type": "execute_result"
    }
   ],
   "source": [
    "type(-7)"
   ]
  },
  {
   "cell_type": "code",
   "execution_count": 27,
   "metadata": {},
   "outputs": [
    {
     "data": {
      "text/plain": [
       "float"
      ]
     },
     "execution_count": 27,
     "metadata": {},
     "output_type": "execute_result"
    }
   ],
   "source": [
    "type(3.141592)"
   ]
  },
  {
   "cell_type": "code",
   "execution_count": 28,
   "metadata": {},
   "outputs": [
    {
     "data": {
      "text/plain": [
       "str"
      ]
     },
     "execution_count": 28,
     "metadata": {},
     "output_type": "execute_result"
    }
   ],
   "source": [
    "type('파이썬 좋아요!')"
   ]
  },
  {
   "cell_type": "code",
   "execution_count": 29,
   "metadata": {},
   "outputs": [
    {
     "data": {
      "text/plain": [
       "tuple"
      ]
     },
     "execution_count": 29,
     "metadata": {},
     "output_type": "execute_result"
    }
   ],
   "source": [
    "x = 3\n",
    "type((1, x/2-1, x+x+1))"
   ]
  },
  {
   "cell_type": "code",
   "execution_count": 30,
   "metadata": {},
   "outputs": [
    {
     "data": {
      "text/plain": [
       "list"
      ]
     },
     "execution_count": 30,
     "metadata": {},
     "output_type": "execute_result"
    }
   ],
   "source": [
    "type([x, x*3/2, x**3+1])"
   ]
  },
  {
   "cell_type": "markdown",
   "metadata": {},
   "source": [
    "### 수 표기법 주의사항"
   ]
  },
  {
   "cell_type": "markdown",
   "metadata": {},
   "source": [
    "수<font size=\"2\">number</font>를 표기할 때 다음 사항들에 주의해야 한다.\n",
    "\n",
    "첫째, `'17'`, `'3.2'` 등은 따옴표로 둘러싸여 있어서\n",
    "수가 아닌 숫자 기호들로 이루어진 문자열이며,\n",
    "연산이 다르게 작동한다. "
   ]
  },
  {
   "cell_type": "code",
   "execution_count": 31,
   "metadata": {},
   "outputs": [
    {
     "data": {
      "text/plain": [
       "str"
      ]
     },
     "execution_count": 31,
     "metadata": {},
     "output_type": "execute_result"
    }
   ],
   "source": [
    "type('17')"
   ]
  },
  {
   "cell_type": "code",
   "execution_count": 32,
   "metadata": {},
   "outputs": [
    {
     "data": {
      "text/plain": [
       "'1.73.2'"
      ]
     },
     "execution_count": 32,
     "metadata": {},
     "output_type": "execute_result"
    }
   ],
   "source": [
    "'1.7' + '3.2'"
   ]
  },
  {
   "cell_type": "markdown",
   "metadata": {},
   "source": [
    "둘째, 수를 표기할 때 쉼표(콤마)를 사용하면 다른 의미로 해석된다.\n",
    "예를 들어 `1,000,000` 이라고 입력하면 백만이 아니라 1, 0, 0 세 개의 수를 항목으로 갖는 \n",
    "길이가 3인 튜플 자료형으로 인식된다.\n",
    "**튜플**<font size=\"2\">tuple</font>은 여러 개의 값을 \n",
    "하나로 묶어서 사용하는 값을 가리키며\n",
    "나중에 자세히 다룬다."
   ]
  },
  {
   "cell_type": "code",
   "execution_count": 33,
   "metadata": {},
   "outputs": [],
   "source": [
    "저는튜플입니다 = 1,000,000"
   ]
  },
  {
   "cell_type": "code",
   "execution_count": 34,
   "metadata": {},
   "outputs": [
    {
     "data": {
      "text/plain": [
       "tuple"
      ]
     },
     "execution_count": 34,
     "metadata": {},
     "output_type": "execute_result"
    }
   ],
   "source": [
    "type(저는튜플입니다)"
   ]
  },
  {
   "cell_type": "code",
   "execution_count": 35,
   "metadata": {},
   "outputs": [
    {
     "name": "stdout",
     "output_type": "stream",
     "text": [
      "(1, 0, 0)\n"
     ]
    }
   ],
   "source": [
    "print(저는튜플입니다)"
   ]
  },
  {
   "cell_type": "markdown",
   "metadata": {},
   "source": [
    "셋째, 0으로 시작하면 안된다.\n",
    "예를 들어 서울 지역의 우편번호는 0으로 시작하는데\n",
    "이런 우편번호를 정수처럼 작성하면 문제가 발생한다.\n",
    "\n",
    "```python\n",
    "# 우편번호\n",
    ">>> zipcode = 03048\n",
    "  File \"<stdin>\", line 1\n",
    "    zipcode = 03048\n",
    "                  ^\n",
    "SyntaxError: leading zeros in decimal integer literals are not permitted; use an 0o prefix for octal integers\n",
    "```    \n",
    "\n",
    "우편번호는 사실 구역 식별용이기에 \n",
    "고유명사처럼 문자열로 처리하는 게 맞다."
   ]
  },
  {
   "cell_type": "code",
   "execution_count": 36,
   "metadata": {},
   "outputs": [],
   "source": [
    "# 우편번호\n",
    "zipcode = '03048'"
   ]
  },
  {
   "cell_type": "markdown",
   "metadata": {},
   "source": [
    "## 연습문제"
   ]
  },
  {
   "cell_type": "markdown",
   "metadata": {},
   "source": [
    "참고: [(실습) 변수, 값, 표현식](https://colab.research.google.com/github/codingalzi/pybook/blob/master/practices/practice-variables_expressions.ipynb)"
   ]
  }
 ],
 "metadata": {
  "kernelspec": {
   "display_name": "Python 3 (ipykernel)",
   "language": "python",
   "name": "python3"
  },
  "language_info": {
   "codemirror_mode": {
    "name": "ipython",
    "version": 3
   },
   "file_extension": ".py",
   "mimetype": "text/x-python",
   "name": "python",
   "nbconvert_exporter": "python",
   "pygments_lexer": "ipython3",
   "version": "3.11.5"
  },
  "toc": {
   "base_numbering": 1,
   "nav_menu": {},
   "number_sections": false,
   "sideBar": true,
   "skip_h1_title": false,
   "title_cell": "목차",
   "title_sidebar": "Contents",
   "toc_cell": true,
   "toc_position": {},
   "toc_section_display": true,
   "toc_window_display": true
  },
  "vscode": {
   "interpreter": {
    "hash": "6c86b3592b6800d985c04531f2c445f0fa6967131b8dd6395a925f7622e55602"
   }
  }
 },
 "nbformat": 4,
 "nbformat_minor": 4
}