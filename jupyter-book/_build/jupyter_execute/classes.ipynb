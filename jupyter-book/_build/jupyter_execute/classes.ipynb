{
 "cells": [
  {
   "cell_type": "markdown",
   "id": "698e04e9",
   "metadata": {},
   "source": [
    "(ch:classes)=\n",
    "# 클래스"
   ]
  },
  {
   "cell_type": "markdown",
   "id": "0086cf63",
   "metadata": {},
   "source": [
    "..."
   ]
  }
 ],
 "metadata": {
  "kernelspec": {
   "display_name": "Python 3 (ipykernel)",
   "language": "python",
   "name": "python3"
  },
  "language_info": {
   "codemirror_mode": {
    "name": "ipython",
    "version": 3
   },
   "file_extension": ".py",
   "mimetype": "text/x-python",
   "name": "python",
   "nbconvert_exporter": "python",
   "pygments_lexer": "ipython3",
   "version": "3.9.7"
  }
 },
 "nbformat": 4,
 "nbformat_minor": 5
}