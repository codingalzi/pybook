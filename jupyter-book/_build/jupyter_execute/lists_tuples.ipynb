{
 "cells": [
  {
   "attachments": {},
   "cell_type": "markdown",
   "id": "f0a3fe4a",
   "metadata": {},
   "source": [
    "(ch:lists-tuples)=\n",
    "# 리스트와 튜플"
   ]
  },
  {
   "attachments": {},
   "cell_type": "markdown",
   "id": "790aa85f",
   "metadata": {},
   "source": [
    "## 시퀀스"
   ]
  },
  {
   "attachments": {},
   "cell_type": "markdown",
   "id": "c18d2e09",
   "metadata": {},
   "source": [
    "아래 표에 여섯 명의 이름, 전화번호, 나이, 키, 출생지 정보를 담겨 있다.\n",
    "\n",
    "| 이름 | 전화번호 | 나이 | 키 | 출생지 |\n",
    "| :---: | :---: | :---: | :---: | :---: |\n",
    "| 김강현 | 010-1234-5678 | 20 | 172.3 | 제주 |\n",
    "| 황현   | 02-9871-1234 | 19 | 163.5 | 서울 |\n",
    "| 남세원 | 010-3456-7891 | 21 | 156.7 | 경기 |\n",
    "| 최흥선 | 070-4321-1111 | 21 | 187.2 | 부산 |\n",
    "| 김현선 | 010-3333-8888 | 22 | 164.6 | 광주 |\n",
    "| 함중아 | 010-7654-2345 | 18 | 178.3 | 강원 |"
   ]
  },
  {
   "attachments": {},
   "cell_type": "markdown",
   "id": "b8ffcf2c",
   "metadata": {},
   "source": [
    "예를 들어 김강현, 최흥선 등의 전화번호를 알고 싶으면 이름 칸에서 \n",
    "김강현과 최흥선이 위치한 행을 찾아 전화번호를 확인하면 된다.\n",
    "하지만 만약에 여섯 명이 아니라 수천, 수만명의 정보를 담겨 있다면\n",
    "특정인의 전화번호, 나이, 키, 출생지 등을 확인하는 일이 더 이상 간단하지 않다.\n",
    "그럴 때는 컴퓨터를 활용해서 검색해야 하는데 \n",
    "컴퓨터는 일런 일을 매우 빠르고 정확하게 처리한다.\n",
    "\n",
    "컴퓨터로 정보를 검색하려면 먼저 위 표의 내용을 컴퓨터 프로그램으로\n",
    "다룰 수 있어야 한다.\n",
    "표에 사용된 이름, 전화번호, 나이, 키 각각은 \n",
    "앞서 소개한 파이선 기초 자료형을 이용하여 다룰 수 있다.\n",
    "한 사람의 이름, 전화번호, 출생지는 각기 하나의 문자열로, \n",
    "나이는 하나의 정수로, 키는 하나의 부동소수점으로 처리한다.\n",
    "예를 들어 김강현의 데이터는 아래와 같이 다룰 수 있다."
   ]
  },
  {
   "cell_type": "code",
   "execution_count": 1,
   "id": "e9be9ab4",
   "metadata": {},
   "outputs": [],
   "source": [
    "kgh_name = '김강현'\n",
    "kgh_phone = '010-1234-5678'\n",
    "kgh_age = 20\n",
    "kgh_height = 172.3\n",
    "kgh_birthplace = '제주'"
   ]
  },
  {
   "attachments": {},
   "cell_type": "markdown",
   "id": "b644d8b1",
   "metadata": {},
   "source": [
    "반면에 예를 들어 표에 사용된 여섯 명의 이름으로 구성된 목록을 하나의 값으로 다룰 수 있을까? \n",
    "이름과 전화번호를 하나의 쌍으로 묶어서 전화번호부를 만든 다음에\n",
    "이름을 입력하면 전화번호를 확인하는 프로그램을 작성할 수 있을까?\n",
    "지금까지 살펴 본 기초 자료형만으로는 이런 일을 처리하는 일은 어려워 보인다.\n",
    "사실 가능하긴 하지만 누구나 쉽게 할 수 있는 일은 아니다.\n",
    "\n",
    "파이썬은 이런 일을 매우 간단하게 처리할 수 있도록 도와주는 네 개의 \n",
    "**내장 자료구조**<font size='2'>built-in data structure</font>\n",
    "리스트, 튜플, 사전, 그리고 집합을 제공한다. \n",
    "여기서 내장이라 함은 코드를 작성할 때 다른 추가 설정 없이 사용할 수 있음을 의미한다."
   ]
  },
  {
   "attachments": {},
   "cell_type": "markdown",
   "id": "9bb909dd",
   "metadata": {},
   "source": [
    "<div align=\"center\" border=\"1px\"><img src=\"https://raw.githubusercontent.com/codingalzi/pybook/master/jupyter-book/images/built-in-types.png\" width=\"350\"/></div>\n",
    "<br>"
   ]
  },
  {
   "attachments": {},
   "cell_type": "markdown",
   "id": "c99dd84a",
   "metadata": {},
   "source": [
    "리스트, 튜플, 사전, 집합은 각자 고유의 방식으로 여러 개의 값을 묶어 하나의 값으로 다룰 수 있는 기능을 제공한다.\n",
    "이런 의미에서 이들을 **모음 자료형**이라 부르며 경우에 따라\n",
    "컬렉션<font size='2'>collection</font>, 컨테이너<font size='2'>container</font> 등으로도 불린다.\n",
    "반면에 정수, 부동소수점, 불리언 등은 하나의 값으로만 구성되었다는 의미에서\n",
    "**스칼라**<font size='2'>scalar</font> 자료형이라 부른다.\n",
    "\n",
    "자료구조는 보통 여러 종률의 자료형의 값으로 구성된 보다 복잡한 구조의 대상을 가리킨다.\n",
    "하지만 파이썬에서는 리스트, 튜플, 사전, 집합 또한 하나의 값으로 처리된다.\n",
    "이것이 가능한 이유는 파이썬에서 다루는 모든 것이 **객체**<font size='2'>object</font>로 정의되기 때문이다.\n",
    "파이썬 객체는 일반적으로 특정의 값들과, 그리고 값들과 관련된 속성을 저장하며, 저장된 값과 속성을 다룰 수 있는 기능을 제공한다.객체의 엄밀한 정의는 나중에 클래스를 설명할 때 다룬다.\n",
    "여기서는 변수에 할당될 수 있는 하나의 값으로 선언될 수 있는 대상 정도로 기억해 둔다.\n",
    "따라서 리스트 객체, 튜플 객체, 사전 객체, 집합 객체 모두 하나의 값으로 변수에 할당될 수 있다."
   ]
  },
  {
   "attachments": {},
   "cell_type": "markdown",
   "id": "adbf2e56",
   "metadata": {},
   "source": [
    "모음 자료형을 일반적으로 다음 두 가지 기준으로 구분한다.\n",
    "\n",
    "첫째, 항목의 순서와 중복 허용 여부\n",
    "\n",
    "- **순차 자료형**<font size=\"2\">sequence type</font>: 항목의 순서와 항목의 중복 사용 허용\n",
    "- **비순차 자료형**<font size='2'>non-sequence type</font>: 항목의 순서와 중복된 항목 무시"
   ]
  },
  {
   "attachments": {},
   "cell_type": "markdown",
   "id": "e4793c46-cf15-452f-83bd-abb5c011689f",
   "metadata": {},
   "source": [
    "둘째, 항목 변경의 허용여부\n",
    "\n",
    "- **가변 자료형**<font size = \"2\">mutable type</font>: 항목의 추가, 삭제, 변경 등 허용\n",
    "- **불변 자료형**<font size = \"2\">immutable type</font>: 생성된 객체의 어떠한 수정도 불가능"
   ]
  },
  {
   "attachments": {},
   "cell_type": "markdown",
   "id": "4e56f031",
   "metadata": {},
   "source": [
    "여기서 소개하는 리스트와 튜플 모두 순서를 고려하는 순차 자료형이다.\n",
    "반면에 리스트는 수정이 가능한 가변 자료형이지만 튜플은 불변 자료형이다.\n",
    "다음 장에서 소개할 사전과 집합은 비순차 자료형이면서 동시에 가변 자료형이다."
   ]
  },
  {
   "attachments": {},
   "cell_type": "markdown",
   "id": "7c4361aa",
   "metadata": {},
   "source": [
    "리스트와 튜플과 같은 순차 자료형을 **시퀀스**<font size='2'>sequences</font>라 부르기도 한다.\n",
    "고등학교 수학에서 다루는 수열 또한 시퀀스의 한 종류이며, 실제로 수열을 영어로 sequence로 부른다.\n",
    "다만 수열은 말 그대로 수의 나열을 가리키지만 리스트와 튜플은 수 이외에도 어떤 종류의 값도 항목으로 사용할 수 있다.\n",
    "예를 들어 위 표에 포함된 이름으로 구성된 리스트와 튜플을 정의할 수 있다.\n",
    "참고로 파이썬에서 리스트는 대괄호 `[]`로, 튜플은 소괄호 `()`로 항목들의 목록을 감싼다."
   ]
  },
  {
   "cell_type": "code",
   "execution_count": 2,
   "id": "c4e7291f",
   "metadata": {},
   "outputs": [],
   "source": [
    "name_list = ['김강현', '황현', '남세원', '최흥선', '김현선', '함중아']\n",
    "name_tuple = ('김강현', '황현', '남세원', '최흥선', '김현선', '함중아')"
   ]
  },
  {
   "attachments": {},
   "cell_type": "markdown",
   "id": "6f3e38c2",
   "metadata": {},
   "source": [
    "파이썬의 또 다른 순차 자료형은 {numref}`%s장 <ch:strings>`에서 살펴 본 문자열이다. \n",
    "그리고 문자열에 대해서처럼 리스트, 튜플 등 순차 자료형에 대해서도 다음 세 가지 기능을 거의 동일하게 적용할 수 있다.\n",
    "\n",
    "- `in` 연산자\n",
    "- 인덱싱과 슬라이싱\n",
    "- `for` 반복문\n",
    "\n",
    "여기서는 리스트와 튜플을 생성하고 수정하고 활용하는 다양한 방식을 살펴보고,\n",
    "다음 장에서는 비순차 자료형인 사전과 집합에 대해 자세히 알아본다."
   ]
  },
  {
   "attachments": {},
   "cell_type": "markdown",
   "id": "c81dbb46",
   "metadata": {},
   "source": [
    "(sec:list)=\n",
    "## 리스트"
   ]
  },
  {
   "attachments": {},
   "cell_type": "markdown",
   "id": "096200ca-cea4-49d3-af8e-154aed4af5aa",
   "metadata": {},
   "source": [
    "리스트는 보통 관련된 값들을 모아서 하나의 값으로 취급하는 자료형이다.\n",
    "대괄호(`[]`)로 항목들의 목록을 감싸고, 각각의 항목은 쉼표(`,`)로 구분한다. \n",
    "예를 들어, 1부터 5까지의 정수로 구성된 리스트를 가리키는 변수를 다음과 같이 선언한다."
   ]
  },
  {
   "cell_type": "code",
   "execution_count": 3,
   "id": "67c56924-64ab-4ae6-bdb3-14b79bc698e0",
   "metadata": {},
   "outputs": [],
   "source": [
    "one2five = [1, 2, 3, 4, 5]"
   ]
  },
  {
   "attachments": {},
   "cell_type": "markdown",
   "id": "d709fb9a",
   "metadata": {},
   "source": [
    "리스트는 수열과 달리 임의의 값을 항목으로 가질 수 있다.\n",
    "아래 리스트는 영어 알파벳 a부터 c까지로 구성된다."
   ]
  },
  {
   "cell_type": "code",
   "execution_count": 4,
   "id": "7e221cc8-4207-49f9-b4da-ddea3c1a420e",
   "metadata": {},
   "outputs": [],
   "source": [
    "a2c = ['a', 'b', 'c']"
   ]
  },
  {
   "attachments": {},
   "cell_type": "markdown",
   "id": "670891ae",
   "metadata": {},
   "source": [
    "앞서 언급한 `name_list`는 표에 언급된 사람들의 이름, 즉 문자열로 구성된 리스트를 가리킨다."
   ]
  },
  {
   "cell_type": "code",
   "execution_count": 5,
   "id": "e9373fcf",
   "metadata": {},
   "outputs": [
    {
     "data": {
      "text/plain": [
       "['김강현', '황현', '남세원', '최흥선', '김현선', '함중아']"
      ]
     },
     "execution_count": 5,
     "metadata": {},
     "output_type": "execute_result"
    }
   ],
   "source": [
    "name_list"
   ]
  },
  {
   "attachments": {},
   "cell_type": "markdown",
   "id": "5d28ecca-f3a0-434e-8dd1-fe80856e821f",
   "metadata": {},
   "source": [
    "리스트의 항목이 반드시 동일한 자료형을 가질 필요는 없으며,\n",
    "서로 다른 자료형의 항목이 사용될 수도 있다.\n",
    "예를 들어 아래 리스트는 김강현의 이름, 전화번호, 나이, 키, 출생지로 구성된 \n",
    "리스트를 정의한다."
   ]
  },
  {
   "cell_type": "code",
   "execution_count": 6,
   "id": "8f1b2cf7-6e9a-4b6f-a2ed-ef5a79a4ea1d",
   "metadata": {},
   "outputs": [],
   "source": [
    "kgh = ['김강현', '010-1234-5678', 20, 172.3, '제주']"
   ]
  },
  {
   "attachments": {},
   "cell_type": "markdown",
   "id": "fb507221",
   "metadata": {},
   "source": [
    "**빈 리스트**"
   ]
  },
  {
   "attachments": {},
   "cell_type": "markdown",
   "id": "9e6f50e0",
   "metadata": {},
   "source": [
    "빈 리스트<font size = \"2\">empty list</font>는 아무것도 포함하지 않는 리스트를 의미한다.\n",
    "다음 두 가지 방식으로 빈 리스트를 선언할 수 있다."
   ]
  },
  {
   "attachments": {},
   "cell_type": "markdown",
   "id": "749a9fb0",
   "metadata": {},
   "source": [
    "- 방법 1: 대괄호 활용"
   ]
  },
  {
   "cell_type": "code",
   "execution_count": 7,
   "id": "30f9e204",
   "metadata": {},
   "outputs": [],
   "source": [
    "empty_list = []"
   ]
  },
  {
   "attachments": {},
   "cell_type": "markdown",
   "id": "c243df19",
   "metadata": {},
   "source": [
    "- 방법 2: `list()` 함수 활용"
   ]
  },
  {
   "cell_type": "code",
   "execution_count": 8,
   "id": "07d7377e",
   "metadata": {},
   "outputs": [],
   "source": [
    "empty_list = list()"
   ]
  },
  {
   "attachments": {},
   "cell_type": "markdown",
   "id": "0f4db4c6",
   "metadata": {},
   "source": [
    "**중첩 리스트**"
   ]
  },
  {
   "attachments": {},
   "cell_type": "markdown",
   "id": "555a3a70",
   "metadata": {},
   "source": [
    "리스트의 항목으로 임의의 값이 사용될 수 있기에 당연히 리스트로 구성된 리스트를 정의할 수도 있다.\n",
    "아래 코드는 김강현과 황현 두 사람의 정보로 구성된 길이가 2인 리트스를 정의한다."
   ]
  },
  {
   "cell_type": "code",
   "execution_count": 9,
   "id": "7fb8149b",
   "metadata": {},
   "outputs": [],
   "source": [
    "whang = ['황현', '02-9871-1234', 19, 163.5, '서울'] # 황현 정보\n",
    "kgh_whang = [kgh, whang] # 김강현, 황현 두 사람 정보"
   ]
  },
  {
   "attachments": {},
   "cell_type": "markdown",
   "id": "71fbd67f",
   "metadata": {},
   "source": [
    "확인하면 리스트의 리스트, 즉 중첩 리스트가 된다."
   ]
  },
  {
   "cell_type": "code",
   "execution_count": 10,
   "id": "dd94231c",
   "metadata": {},
   "outputs": [
    {
     "data": {
      "text/plain": [
       "[['김강현', '010-1234-5678', 20, 172.3, '제주'],\n",
       " ['황현', '02-9871-1234', 19, 163.5, '서울']]"
      ]
     },
     "execution_count": 10,
     "metadata": {},
     "output_type": "execute_result"
    }
   ],
   "source": [
    "kgh_whang"
   ]
  },
  {
   "attachments": {},
   "cell_type": "markdown",
   "id": "230bdb4b",
   "metadata": {},
   "source": [
    "리스트의 길이는 2이다. \n",
    "즉, 항목으로 사용된 리스트의 길이는 전체 리스트의 길이와 무관하다."
   ]
  },
  {
   "cell_type": "code",
   "execution_count": 11,
   "id": "825ded9b",
   "metadata": {},
   "outputs": [
    {
     "data": {
      "text/plain": [
       "2"
      ]
     },
     "execution_count": 11,
     "metadata": {},
     "output_type": "execute_result"
    }
   ],
   "source": [
    "len(kgh_whang)"
   ]
  },
  {
   "attachments": {},
   "cell_type": "markdown",
   "id": "2df23e74",
   "metadata": {},
   "source": [
    "동일한 방식으로 6명의 정보를 담은 중첩 리스트를 정의할 수 있다."
   ]
  },
  {
   "cell_type": "code",
   "execution_count": 12,
   "id": "45fd1038",
   "metadata": {},
   "outputs": [],
   "source": [
    "namgung = ['남세원', '010-3456-7891', 21, 156.7, '경기']\n",
    "choihs = ['최흥선', '070-4321-1111', 21, 187.2, '부산']\n",
    "sjkim = ['김현선', '010-3333-8888', 22, 164.6, '광주']\n",
    "ja = ['함중아', '010-7654-2345', 18, 178.3, '강원']\n",
    "\n",
    "info_list = [kgh, whang, namgung, choihs, sjkim, ja]"
   ]
  },
  {
   "attachments": {},
   "cell_type": "markdown",
   "id": "2004497b",
   "metadata": {},
   "source": [
    "6명 전체 정보를 담은 표를 중첩 리스트로 정희하였다."
   ]
  },
  {
   "cell_type": "code",
   "execution_count": 13,
   "id": "73ef57bf",
   "metadata": {},
   "outputs": [
    {
     "data": {
      "text/plain": [
       "[['김강현', '010-1234-5678', 20, 172.3, '제주'],\n",
       " ['황현', '02-9871-1234', 19, 163.5, '서울'],\n",
       " ['남세원', '010-3456-7891', 21, 156.7, '경기'],\n",
       " ['최흥선', '070-4321-1111', 21, 187.2, '부산'],\n",
       " ['김현선', '010-3333-8888', 22, 164.6, '광주'],\n",
       " ['함중아', '010-7654-2345', 18, 178.3, '강원']]"
      ]
     },
     "execution_count": 13,
     "metadata": {},
     "output_type": "execute_result"
    }
   ],
   "source": [
    "info_list"
   ]
  },
  {
   "attachments": {},
   "cell_type": "markdown",
   "id": "4c4ef021",
   "metadata": {},
   "source": [
    "리스트의 길이는 6이다."
   ]
  },
  {
   "cell_type": "code",
   "execution_count": 14,
   "id": "9b0714f9",
   "metadata": {},
   "outputs": [
    {
     "data": {
      "text/plain": [
       "6"
      ]
     },
     "execution_count": 14,
     "metadata": {},
     "output_type": "execute_result"
    }
   ],
   "source": [
    "len(info_list)"
   ]
  },
  {
   "attachments": {},
   "cell_type": "markdown",
   "id": "41393003",
   "metadata": {},
   "source": [
    "**리스트는 시퀀스!**"
   ]
  },
  {
   "attachments": {},
   "cell_type": "markdown",
   "id": "87c9242f",
   "metadata": {},
   "source": [
    "리스트는 시퀀스이기에 항목의 순서가 다르거나 특정 항목의 개수가 다르면 서로 다른 리스트로 간주된다."
   ]
  },
  {
   "attachments": {},
   "cell_type": "markdown",
   "id": "4d6c0ea0",
   "metadata": {},
   "source": [
    "- 순서가 다른 경우: 항목의 순서가 다르면 서로 다른 리스트로 간주된다."
   ]
  },
  {
   "cell_type": "code",
   "execution_count": 15,
   "id": "4918c7c2",
   "metadata": {},
   "outputs": [
    {
     "data": {
      "text/plain": [
       "True"
      ]
     },
     "execution_count": 15,
     "metadata": {},
     "output_type": "execute_result"
    }
   ],
   "source": [
    "one2five != [5, 4, 3, 2, 1]"
   ]
  },
  {
   "attachments": {},
   "cell_type": "markdown",
   "id": "c28d0aa3",
   "metadata": {},
   "source": [
    "- 특정 항목의 개수가 다른 경우: `name_list`에는 김강현이 한 번 사용되었기에 두 번 사용된 리스트와는 다른 리스트로 간주된다."
   ]
  },
  {
   "cell_type": "code",
   "execution_count": 16,
   "id": "f4d8d242",
   "metadata": {},
   "outputs": [
    {
     "data": {
      "text/plain": [
       "True"
      ]
     },
     "execution_count": 16,
     "metadata": {},
     "output_type": "execute_result"
    }
   ],
   "source": [
    "name_list != ['김강현', '김강현', '황현', '남세원', '최흥선', '김현선', '함중아']"
   ]
  },
  {
   "attachments": {},
   "cell_type": "markdown",
   "id": "6f8dc594",
   "metadata": {},
   "source": [
    "### 리스트 연산"
   ]
  },
  {
   "attachments": {},
   "cell_type": "markdown",
   "id": "1df33d70",
   "metadata": {},
   "source": [
    "문자열, 리스트, 튜플, 사전, 집합 등의 모음 자료형은 모두 항목의 포함 여부를 판단하는 `in` 연산자와 \n",
    "항목의 개수를 확인해주는 `len()` 함수의 인자로 사용된다."
   ]
  },
  {
   "attachments": {},
   "cell_type": "markdown",
   "id": "c5984f75-6dbb-411d-90b8-56e5bb23b279",
   "metadata": {},
   "source": [
    "**`in` 연산자**"
   ]
  },
  {
   "attachments": {},
   "cell_type": "markdown",
   "id": "d0db8c3a",
   "metadata": {},
   "source": [
    "예를 들어 3은 `one2five` 리스트에 포함되어 있다."
   ]
  },
  {
   "cell_type": "code",
   "execution_count": 17,
   "id": "1deda97c-fb46-46d7-aba3-8d2ef4366928",
   "metadata": {},
   "outputs": [
    {
     "data": {
      "text/plain": [
       "True"
      ]
     },
     "execution_count": 17,
     "metadata": {},
     "output_type": "execute_result"
    }
   ],
   "source": [
    "3 in [1, 2, 3, 4, 5]"
   ]
  },
  {
   "attachments": {},
   "cell_type": "markdown",
   "id": "ef814444",
   "metadata": {},
   "source": [
    "반면에 이강현이란 이름은 김강현의 정보를 담은 리스트인 `kgh`에 포함되어 있지 않다."
   ]
  },
  {
   "cell_type": "code",
   "execution_count": 18,
   "id": "342e2994-0594-49e3-8bcf-b6367c8acb09",
   "metadata": {},
   "outputs": [
    {
     "data": {
      "text/plain": [
       "False"
      ]
     },
     "execution_count": 18,
     "metadata": {},
     "output_type": "execute_result"
    }
   ],
   "source": [
    "'이강현' in name_list"
   ]
  },
  {
   "attachments": {},
   "cell_type": "markdown",
   "id": "ffd171e3",
   "metadata": {},
   "source": [
    "물론 김강현은 들어 있다."
   ]
  },
  {
   "cell_type": "code",
   "execution_count": 19,
   "id": "916f0899",
   "metadata": {},
   "outputs": [
    {
     "data": {
      "text/plain": [
       "True"
      ]
     },
     "execution_count": 19,
     "metadata": {},
     "output_type": "execute_result"
    }
   ],
   "source": [
    "'김강현' in name_list"
   ]
  },
  {
   "attachments": {},
   "cell_type": "markdown",
   "id": "4cff8cb9",
   "metadata": {},
   "source": [
    "**`len()` 함수**"
   ]
  },
  {
   "attachments": {},
   "cell_type": "markdown",
   "id": "0a3c8f09",
   "metadata": {},
   "source": [
    "리스트의 길이, 즉 리스트에 포함된 항목의 개수를 확인하려면 `len()` 함수를 적용한다.\n",
    "예를 들어 `one2five` 리스트는 5개의 항목을 갖는다."
   ]
  },
  {
   "cell_type": "code",
   "execution_count": 20,
   "id": "bb391fd1",
   "metadata": {},
   "outputs": [
    {
     "data": {
      "text/plain": [
       "5"
      ]
     },
     "execution_count": 20,
     "metadata": {},
     "output_type": "execute_result"
    }
   ],
   "source": [
    "len(one2five)"
   ]
  },
  {
   "attachments": {},
   "cell_type": "markdown",
   "id": "63ab3a76",
   "metadata": {},
   "source": [
    "표에는 6명의 정보가 들어 있다."
   ]
  },
  {
   "cell_type": "code",
   "execution_count": 21,
   "id": "6b46e016",
   "metadata": {},
   "outputs": [
    {
     "data": {
      "text/plain": [
       "6"
      ]
     },
     "execution_count": 21,
     "metadata": {},
     "output_type": "execute_result"
    }
   ],
   "source": [
    "len(name_list)"
   ]
  },
  {
   "attachments": {},
   "cell_type": "markdown",
   "id": "32530ec3",
   "metadata": {},
   "source": [
    "**`+`와 `*` 연산자**"
   ]
  },
  {
   "attachments": {},
   "cell_type": "markdown",
   "id": "c1980e07",
   "metadata": {},
   "source": [
    "문자열, 리스트, 튜플 세 종류의 시퀀스 모두 이어붙이기 연산(`+`)과 복제 연산(`*`)을 지원한다.\n",
    "먼저, `+` 연산자는 리스트 두 개를 이어붙여서 새로운 리스트를 생성한다."
   ]
  },
  {
   "cell_type": "code",
   "execution_count": 22,
   "id": "dd7f79c6",
   "metadata": {},
   "outputs": [
    {
     "data": {
      "text/plain": [
       "['a', 'b', 'c', 'd', 'e']"
      ]
     },
     "execution_count": 22,
     "metadata": {},
     "output_type": "execute_result"
    }
   ],
   "source": [
    "['a', 'b'] + ['c', 'd', 'e']"
   ]
  },
  {
   "attachments": {},
   "cell_type": "markdown",
   "id": "05bfddf6",
   "metadata": {},
   "source": [
    "`*` 연산자는 리스트와 정수를 대상으로 하며 리스트를 지정된 정수 만큼 복제해서 이어붙이는 방식으로 새로운 리스트를 생성한다.\n",
    "정수와 리스트의 순서는 상관 없다."
   ]
  },
  {
   "cell_type": "code",
   "execution_count": 23,
   "id": "fbb4ade4",
   "metadata": {},
   "outputs": [
    {
     "data": {
      "text/plain": [
       "['a', 'b', 'c', 'a', 'b', 'c', 'a', 'b', 'c']"
      ]
     },
     "execution_count": 23,
     "metadata": {},
     "output_type": "execute_result"
    }
   ],
   "source": [
    "a2c * 3"
   ]
  },
  {
   "cell_type": "code",
   "execution_count": 24,
   "id": "77ba5c16",
   "metadata": {},
   "outputs": [
    {
     "data": {
      "text/plain": [
       "[1, 2, 3, 4, 5, 1, 2, 3, 4, 5]"
      ]
     },
     "execution_count": 24,
     "metadata": {},
     "output_type": "execute_result"
    }
   ],
   "source": [
    "2 * one2five"
   ]
  },
  {
   "attachments": {},
   "cell_type": "markdown",
   "id": "4d80b453",
   "metadata": {},
   "source": [
    "### 인덱싱과 슬라이싱"
   ]
  },
  {
   "attachments": {},
   "cell_type": "markdown",
   "id": "fcf82ff3-bf87-4f8d-81f9-76c6aea2fe57",
   "metadata": {},
   "source": [
    "문자열, 리스트, 튜플 등 모든 시퀀스는 대괄호와 정수를 사용하는 인덱싱과 슬라이싱을 지원하며,\n",
    "사용 방식도 거의 동일하다."
   ]
  },
  {
   "attachments": {},
   "cell_type": "markdown",
   "id": "c1a425dc",
   "metadata": {},
   "source": [
    "**인덱싱**"
   ]
  },
  {
   "attachments": {},
   "cell_type": "markdown",
   "id": "92eb8053",
   "metadata": {},
   "source": [
    "리스트 인덱싱은 정수 인덱스가 가리키는 위치의 항목을 확인하거나 수정할 때 사용한다.\n",
    "예를 들어 김강현의 정보를 담은 리스트 `kgh` 에서 이름은 0번 인덱스에 위치한다."
   ]
  },
  {
   "cell_type": "code",
   "execution_count": 25,
   "id": "7dd2dd70",
   "metadata": {},
   "outputs": [
    {
     "name": "stdout",
     "output_type": "stream",
     "text": [
      "['김강현', '010-1234-5678', 20, 172.3, '제주']\n"
     ]
    }
   ],
   "source": [
    "print(kgh)"
   ]
  },
  {
   "cell_type": "code",
   "execution_count": 26,
   "id": "a3a5a245",
   "metadata": {},
   "outputs": [
    {
     "data": {
      "text/plain": [
       "'김강현'"
      ]
     },
     "execution_count": 26,
     "metadata": {},
     "output_type": "execute_result"
    }
   ],
   "source": [
    "kgh[0] # 이름. 0번 인덱스"
   ]
  },
  {
   "attachments": {},
   "cell_type": "markdown",
   "id": "19fc0746",
   "metadata": {},
   "source": [
    "김강현의 전화번호는 1번 인덱스에 위치한다."
   ]
  },
  {
   "cell_type": "code",
   "execution_count": 27,
   "id": "c0a225e6",
   "metadata": {},
   "outputs": [
    {
     "data": {
      "text/plain": [
       "'010-1234-5678'"
      ]
     },
     "execution_count": 27,
     "metadata": {},
     "output_type": "execute_result"
    }
   ],
   "source": [
    "kgh[1] # 전화번호. 1번 인덱스"
   ]
  },
  {
   "attachments": {},
   "cell_type": "markdown",
   "id": "72b8de7e",
   "metadata": {},
   "source": [
    "-1, -2, -3 등 음수 인덱스는 리스트 오른쪽에서부터 위치를 찾는다.\n",
    "따라서 김강현의 출생지는 -1번 인덱스로 확인한다."
   ]
  },
  {
   "cell_type": "code",
   "execution_count": 28,
   "id": "30bd19d4",
   "metadata": {},
   "outputs": [
    {
     "data": {
      "text/plain": [
       "'제주'"
      ]
     },
     "execution_count": 28,
     "metadata": {},
     "output_type": "execute_result"
    }
   ],
   "source": [
    "kgh[-1] # 출생지. 오른쪽 끝에서 첫번째"
   ]
  },
  {
   "attachments": {},
   "cell_type": "markdown",
   "id": "efaeace8",
   "metadata": {},
   "source": [
    "-1 인덱스는 리스트의 길이에서 1을 뺀 인덱스와 동일한 위치를 가리킨다.\n",
    "즉, 다음이 성립한다."
   ]
  },
  {
   "cell_type": "code",
   "execution_count": 29,
   "id": "695e1396",
   "metadata": {},
   "outputs": [
    {
     "data": {
      "text/plain": [
       "True"
      ]
     },
     "execution_count": 29,
     "metadata": {},
     "output_type": "execute_result"
    }
   ],
   "source": [
    "kgh_last = len(kgh) - 1 # kgh의 마지막 인덱스\n",
    "kgh[kgh_last] == kgh[-1]"
   ]
  },
  {
   "attachments": {},
   "cell_type": "markdown",
   "id": "7d13538a",
   "metadata": {},
   "source": [
    "김강현의 키는 오른쪽 끝에서 두 번째 항목이기에 -2 인덱스로 확인된다."
   ]
  },
  {
   "cell_type": "code",
   "execution_count": 30,
   "id": "2d2e135f",
   "metadata": {},
   "outputs": [
    {
     "data": {
      "text/plain": [
       "172.3"
      ]
     },
     "execution_count": 30,
     "metadata": {},
     "output_type": "execute_result"
    }
   ],
   "source": [
    "kgh[-2] # 키. 오른쪽 끝에서 두번째"
   ]
  },
  {
   "attachments": {},
   "cell_type": "markdown",
   "id": "e93c2a13",
   "metadata": {},
   "source": [
    "문자열, 튜플과는 달리 리스트는 항목을 수정할 수 있는 가변 자료형이며\n",
    "인덱싱을 이용하여 특정 위치의 항목을 수정할 수 있다.\n",
    "예를 들어 아래 코드는 김강현의 출생지를 제주가 아닌 제주시로 수정한다."
   ]
  },
  {
   "cell_type": "code",
   "execution_count": 31,
   "id": "7eb5a8d2",
   "metadata": {},
   "outputs": [],
   "source": [
    "kgh[kgh_last] = '제주시' # kgh의 마지막 인덱스에 '제주시'를 수정"
   ]
  },
  {
   "attachments": {},
   "cell_type": "markdown",
   "id": "fd26a66c",
   "metadata": {},
   "source": [
    "물론 -1 인덱스도 사용해도 된다."
   ]
  },
  {
   "cell_type": "code",
   "execution_count": 32,
   "id": "fd0f5964",
   "metadata": {},
   "outputs": [],
   "source": [
    "kgh[-1] = '제주시'"
   ]
  },
  {
   "attachments": {},
   "cell_type": "markdown",
   "id": "9d07b9e6",
   "metadata": {},
   "source": [
    "김강현의 출생지 정보가 제주시로 변경되었다."
   ]
  },
  {
   "cell_type": "code",
   "execution_count": 33,
   "id": "e94adebe",
   "metadata": {},
   "outputs": [
    {
     "data": {
      "text/plain": [
       "['김강현', '010-1234-5678', 20, 172.3, '제주시']"
      ]
     },
     "execution_count": 33,
     "metadata": {},
     "output_type": "execute_result"
    }
   ],
   "source": [
    "kgh"
   ]
  },
  {
   "attachments": {},
   "cell_type": "markdown",
   "id": "fddfb670",
   "metadata": {},
   "source": [
    "리스트의 길이 이상의 큰 정수 등 허용되지 않는 인덱스를 사용하면 오류가 발생한다.\n",
    "예를 들어 김강현의 정보를 담은 리스트의 길이가 5이기 5보가 같거나 큰 정수 또는\n",
    "-5보다 작은 음의 정수를 인덱스로 사용하면 `IndexError`오류가 발생하며\n",
    "동시에 지정된 인덱스의 범위를 벗어났다(list index out of range)라고 알려준다."
   ]
  },
  {
   "attachments": {},
   "cell_type": "markdown",
   "id": "d98a0a31",
   "metadata": {},
   "source": [
    "```python\n",
    ">>> kgh[5]\n",
    "Traceback (most recent call last):\n",
    "  File \"<stdin>\", line 1, in <module>\n",
    "IndexError: list index out of range\n",
    "```"
   ]
  },
  {
   "attachments": {},
   "cell_type": "markdown",
   "id": "c63e5042",
   "metadata": {},
   "source": [
    "**슬라이싱**"
   ]
  },
  {
   "attachments": {},
   "cell_type": "markdown",
   "id": "274a93b5",
   "metadata": {},
   "source": [
    "슬라이싱은 두 개의 인덱스로 지정된 구간에 포함된 항목들을 확인하거나 수정할 때 사용한다.\n",
    "경우에 따라 몇 걸음씩 건너뛸지 지정하기도 한다. \n",
    "\n",
    "- 시작 인덱스: 슬라이싱 구간 시작 인덱스. 생략되면 0을 기본값으로 사용.\n",
    "- 끝 인덱스: 슬라이싱 구간 끝 인덱스. 이 인덱스 이전 인덱스까지 항목 확인. 생략되면 오른쪽 끝까지를 의미함.\n",
    "- 걸음 수: 구간 시작부터 몇 걸음씩 건너뛰며 항목을 확인할지 결정. 걸음 수가 1이면 생략 가능.\n",
    "\n",
    "예를 들어 김강현의 이름, 전화번호, 나이, 키는 0번부터 3번 인덱스에 위치하기에\n",
    "대괄호 안에 `0:4`를 입력하여 0번 인덱스부터 4번 인덱스 이전인 3번 인덱스의 항목으로\n",
    "구성된 리스트가 확인된다."
   ]
  },
  {
   "cell_type": "code",
   "execution_count": 34,
   "id": "faaeb17b",
   "metadata": {},
   "outputs": [
    {
     "data": {
      "text/plain": [
       "['김강현', '010-1234-5678', 20, 172.3]"
      ]
     },
     "execution_count": 34,
     "metadata": {},
     "output_type": "execute_result"
    }
   ],
   "source": [
    "kgh[0:4]"
   ]
  },
  {
   "attachments": {},
   "cell_type": "markdown",
   "id": "757ceb6a",
   "metadata": {},
   "source": [
    "걸음 수가 1인 경우와 동일하다."
   ]
  },
  {
   "cell_type": "code",
   "execution_count": 35,
   "id": "a40bcfb3",
   "metadata": {},
   "outputs": [
    {
     "data": {
      "text/plain": [
       "['김강현', '010-1234-5678', 20, 172.3]"
      ]
     },
     "execution_count": 35,
     "metadata": {},
     "output_type": "execute_result"
    }
   ],
   "source": [
    "kgh[0:4:1]"
   ]
  },
  {
   "attachments": {},
   "cell_type": "markdown",
   "id": "b37ed9cc",
   "metadata": {},
   "source": [
    "시작 인덱스가 0이면 생략해도 된다. 단 콜론은 그대로 둬야 한다."
   ]
  },
  {
   "cell_type": "code",
   "execution_count": 36,
   "id": "3ea95200",
   "metadata": {},
   "outputs": [
    {
     "data": {
      "text/plain": [
       "['김강현', '010-1234-5678', 20, 172.3]"
      ]
     },
     "execution_count": 36,
     "metadata": {},
     "output_type": "execute_result"
    }
   ],
   "source": [
    "kgh[:4]"
   ]
  },
  {
   "attachments": {},
   "cell_type": "markdown",
   "id": "4630ebd3",
   "metadata": {},
   "source": [
    "슬라이싱의 결과는 항상 리스트이다.\n",
    "구간의 크기가 1이라 해도 그렇다.\n",
    "예를 들어 아래 코드는 김강현의 전화번호로만 구성되어 길이가 1인 리스트가 확인된다."
   ]
  },
  {
   "cell_type": "code",
   "execution_count": 37,
   "id": "8b4effdf-8818-424a-82f6-22c0f11ac538",
   "metadata": {},
   "outputs": [
    {
     "data": {
      "text/plain": [
       "['010-1234-5678']"
      ]
     },
     "execution_count": 37,
     "metadata": {},
     "output_type": "execute_result"
    }
   ],
   "source": [
    "kgh[1:2]"
   ]
  },
  {
   "attachments": {},
   "cell_type": "markdown",
   "id": "704ac345",
   "metadata": {},
   "source": [
    "걸음 수를 1보다 크게 지정하면 지정된 걸음 수만큼 건너 뛰며 항목을 확인한 결과를 리스트로 보여준다.\n",
    "예를 들어 김강현의 전화번오와 키를 함께 확인하려면 1번과 3번 인덱스를 확인해야 하기에\n",
    "인덱스 구간을 다음과 같이 걸음 수를 2로 작성한다."
   ]
  },
  {
   "cell_type": "code",
   "execution_count": 38,
   "id": "6d2edf5f",
   "metadata": {},
   "outputs": [
    {
     "data": {
      "text/plain": [
       "['010-1234-5678', 172.3]"
      ]
     },
     "execution_count": 38,
     "metadata": {},
     "output_type": "execute_result"
    }
   ],
   "source": [
    "kgh[1:4:2]"
   ]
  },
  {
   "attachments": {},
   "cell_type": "markdown",
   "id": "fa85a1f3",
   "metadata": {},
   "source": [
    "이름과 키를 확인하려면 0번부터 끝까지를 구간으로 하면서 걸음 수를 3으로 지정한다. "
   ]
  },
  {
   "cell_type": "code",
   "execution_count": 39,
   "id": "6a4f8c33",
   "metadata": {},
   "outputs": [
    {
     "data": {
      "text/plain": [
       "['김강현', 172.3]"
      ]
     },
     "execution_count": 39,
     "metadata": {},
     "output_type": "execute_result"
    }
   ],
   "source": [
    "kgh[0::3]"
   ]
  },
  {
   "attachments": {},
   "cell_type": "markdown",
   "id": "008511c9",
   "metadata": {},
   "source": [
    "시작 인덱스를 생략해도 된다."
   ]
  },
  {
   "cell_type": "code",
   "execution_count": 40,
   "id": "ff839bfe",
   "metadata": {},
   "outputs": [
    {
     "data": {
      "text/plain": [
       "['김강현', 172.3]"
      ]
     },
     "execution_count": 40,
     "metadata": {},
     "output_type": "execute_result"
    }
   ],
   "source": [
    "kgh[::3]"
   ]
  },
  {
   "attachments": {},
   "cell_type": "markdown",
   "id": "89ebfcae",
   "metadata": {},
   "source": [
    "리스트 전체를 대상으로 슬라이싱하려면 아래와 같이 한다."
   ]
  },
  {
   "cell_type": "code",
   "execution_count": 41,
   "id": "a2fd86ba",
   "metadata": {},
   "outputs": [
    {
     "data": {
      "text/plain": [
       "['김강현', '010-1234-5678', 20, 172.3, '제주시']"
      ]
     },
     "execution_count": 41,
     "metadata": {},
     "output_type": "execute_result"
    }
   ],
   "source": [
    "kgh[:] # kgh 전체 대상 슬라이싱"
   ]
  },
  {
   "attachments": {},
   "cell_type": "markdown",
   "id": "8723ac84",
   "metadata": {},
   "source": [
    "또는"
   ]
  },
  {
   "cell_type": "code",
   "execution_count": 42,
   "id": "3b5f9dea",
   "metadata": {},
   "outputs": [
    {
     "data": {
      "text/plain": [
       "['김강현', '010-1234-5678', 20, 172.3, '제주시']"
      ]
     },
     "execution_count": 42,
     "metadata": {},
     "output_type": "execute_result"
    }
   ],
   "source": [
    "kgh[::] # kgh 전체 대상 슬라이싱. 스텝은 1이 기본값."
   ]
  },
  {
   "attachments": {},
   "cell_type": "markdown",
   "id": "d9059acf",
   "metadata": {},
   "source": [
    "리스트의 크기를 벗어나는 인덱스를 사용하더라도 슬라이싱은 오류를 발생시키지 않는다.\n",
    "이유는 확인할 수 있는 인덱스의 항목만 사용하고 확인할 수 없으면 무시하기 때문이다.\n",
    "아래 코드는 5번 인덱스부터 9번 인덱스까지 확인하려 하지만 해당 인덱스의 위치를\n",
    "찾을 수 없기에 빈 리스트를 생성한다."
   ]
  },
  {
   "cell_type": "code",
   "execution_count": 43,
   "id": "d5f1792c",
   "metadata": {},
   "outputs": [
    {
     "data": {
      "text/plain": [
       "[]"
      ]
     },
     "execution_count": 43,
     "metadata": {},
     "output_type": "execute_result"
    }
   ],
   "source": [
    "kgh[5:10]"
   ]
  },
  {
   "attachments": {},
   "cell_type": "markdown",
   "id": "ef963650",
   "metadata": {},
   "source": [
    "아래 코드는 0번 인덱스부터 7번 인덱스까지 확인하려 하지만 결국엔 4번 인덱스까지만 확인하게 된다."
   ]
  },
  {
   "cell_type": "code",
   "execution_count": 44,
   "id": "15edf461",
   "metadata": {},
   "outputs": [
    {
     "data": {
      "text/plain": [
       "['김강현', '010-1234-5678', 20, 172.3, '제주시']"
      ]
     },
     "execution_count": 44,
     "metadata": {},
     "output_type": "execute_result"
    }
   ],
   "source": [
    "kgh[0:8]"
   ]
  },
  {
   "attachments": {},
   "cell_type": "markdown",
   "id": "7def74af",
   "metadata": {},
   "source": [
    "걸음 수를 2 이상으로 지정해도 범위를 벗어난 인덱스는 무시된다."
   ]
  },
  {
   "cell_type": "code",
   "execution_count": 45,
   "id": "ec08ad9a",
   "metadata": {},
   "outputs": [
    {
     "data": {
      "text/plain": [
       "['김강현', 20, '제주시']"
      ]
     },
     "execution_count": 45,
     "metadata": {},
     "output_type": "execute_result"
    }
   ],
   "source": [
    "kgh[0:8:2]"
   ]
  },
  {
   "attachments": {},
   "cell_type": "markdown",
   "id": "0ef3af37",
   "metadata": {},
   "source": [
    "**역순 슬라이싱**"
   ]
  },
  {
   "attachments": {},
   "cell_type": "markdown",
   "id": "6dfc21fa",
   "metadata": {},
   "source": [
    "슬라이싱은 기본적으로 작은 인덱스에서 큰 인덱스 방향으로 확인한다. 하지만 역순으로 확인하고자 한다면 음의 정수를 걸음 수로 지정하면 된다. \n",
    "걸음 수가 -1이고, 시작 인덱스와 끝 인덱스를 생략하면 문자열 전체를 역순으로 확인하며,\n",
    "리스트 항목들의 순서를 뒤집는 기술로 자주 활용된다."
   ]
  },
  {
   "cell_type": "code",
   "execution_count": 46,
   "id": "befbf4a2",
   "metadata": {},
   "outputs": [
    {
     "data": {
      "text/plain": [
       "['제주시', 172.3, 20, '010-1234-5678', '김강현']"
      ]
     },
     "execution_count": 46,
     "metadata": {},
     "output_type": "execute_result"
    }
   ],
   "source": [
    "kgh[:: -1]"
   ]
  },
  {
   "attachments": {},
   "cell_type": "markdown",
   "id": "0b0166c5",
   "metadata": {},
   "source": [
    "걸음 수가 음수이면 시작 인덱스가 끝 인덱스보다 커야 한다. 그렇지 않으면 빈 리스트가 생성된다."
   ]
  },
  {
   "cell_type": "code",
   "execution_count": 47,
   "id": "f06509a9",
   "metadata": {},
   "outputs": [
    {
     "data": {
      "text/plain": [
       "[]"
      ]
     },
     "execution_count": 47,
     "metadata": {},
     "output_type": "execute_result"
    }
   ],
   "source": [
    "kgh[2:5:-1]"
   ]
  },
  {
   "attachments": {},
   "cell_type": "markdown",
   "id": "887de005",
   "metadata": {},
   "source": [
    "시작 인덱스가 끝 인덱스보다 크면 구간의 시작이 오른쪽이라는 점만 다를 뿐 앞서 설명한 슬라이싱과 동일하게 작동한다.\n",
    "아래 코드는 -2번 인덱스부터 왼쪽으로 두 걸음씩 건너 뛰며 슬라이싱을 진행한다.\n",
    "역순 인덱싱에서 끝 인덱스가 생략되면 왼쪽 끝까지를 의미힌다."
   ]
  },
  {
   "cell_type": "code",
   "execution_count": 48,
   "id": "495293c8",
   "metadata": {},
   "outputs": [
    {
     "data": {
      "text/plain": [
       "[172.3, '010-1234-5678']"
      ]
     },
     "execution_count": 48,
     "metadata": {},
     "output_type": "execute_result"
    }
   ],
   "source": [
    "kgh[-2::-2]"
   ]
  },
  {
   "attachments": {},
   "cell_type": "markdown",
   "id": "2dee6681",
   "metadata": {},
   "source": [
    "**구간 수정**"
   ]
  },
  {
   "attachments": {},
   "cell_type": "markdown",
   "id": "b6a3af7b",
   "metadata": {},
   "source": [
    "리스트는 가변 자료형이기에 슬라이싱을 이용하여 지정된 구간을 다른 리스트로 대체할 수 있다.\n",
    "아래 코드는 김강현의 키와 출생지를 동시에 수정한다."
   ]
  },
  {
   "cell_type": "code",
   "execution_count": 49,
   "id": "3838eead-09d1-48bf-af64-b50951b7f8d9",
   "metadata": {},
   "outputs": [],
   "source": [
    "kgh[3:] = [172.5, '제주']"
   ]
  },
  {
   "attachments": {},
   "cell_type": "markdown",
   "id": "b117b5f7",
   "metadata": {},
   "source": [
    "키와 출생지가 172.3과 제주시에서  172.5와 제주로 바뀐것을 확인할 수 있다."
   ]
  },
  {
   "cell_type": "code",
   "execution_count": 50,
   "id": "5cbaf703",
   "metadata": {},
   "outputs": [
    {
     "data": {
      "text/plain": [
       "['김강현', '010-1234-5678', 20, 172.5, '제주']"
      ]
     },
     "execution_count": 50,
     "metadata": {},
     "output_type": "execute_result"
    }
   ],
   "source": [
    "kgh"
   ]
  },
  {
   "attachments": {},
   "cell_type": "markdown",
   "id": "b544f8ad",
   "metadata": {},
   "source": [
    "슬라이싱 구간의 크기와 새롭게 대체하는 리스트의 크기가 다를 수 있다.\n",
    "설명을 위해 다음 리스트를 이용한다."
   ]
  },
  {
   "cell_type": "code",
   "execution_count": 51,
   "id": "29d4bc10",
   "metadata": {},
   "outputs": [],
   "source": [
    "a2f = ['a', 'b', 'c', 'd', 'e', 'f']"
   ]
  },
  {
   "attachments": {},
   "cell_type": "markdown",
   "id": "de883745",
   "metadata": {},
   "source": [
    "소문자 c와 d를 대문자 C와 D로 수정하고 곧바로 대문자 X를 추가하고자 한다면\n",
    "2번, 3번 인덱스 구간을 슬라이싱하면서 동시에 값을 다음과 같이 3개 지정하면 된다."
   ]
  },
  {
   "cell_type": "code",
   "execution_count": 52,
   "id": "f3fa5d98",
   "metadata": {},
   "outputs": [
    {
     "data": {
      "text/plain": [
       "['a', 'b', 'C', 'D', 'Z', 'e', 'f']"
      ]
     },
     "execution_count": 52,
     "metadata": {},
     "output_type": "execute_result"
    }
   ],
   "source": [
    "a2f[2:4] = ['C', 'D', 'Z']\n",
    "a2f"
   ]
  },
  {
   "attachments": {},
   "cell_type": "markdown",
   "id": "66d8a6f5",
   "metadata": {},
   "source": [
    "만약 걸음 수를 2이상으로 지정하면 슬라이싱된 항목의 개수와 새롭게 지정된 리스트의 길이가 같아야 한다.\n",
    "아래 코드는 홀수 인덱스에 위치한 항목을 모두 해당 인덱스로 대체한다."
   ]
  },
  {
   "cell_type": "code",
   "execution_count": 53,
   "id": "c6808ebc",
   "metadata": {},
   "outputs": [
    {
     "data": {
      "text/plain": [
       "['a', 1, 'C', 3, 'Z', 5, 'f']"
      ]
     },
     "execution_count": 53,
     "metadata": {},
     "output_type": "execute_result"
    }
   ],
   "source": [
    "a2f[1::2] = [1, 3, 5]\n",
    "a2f"
   ]
  },
  {
   "attachments": {},
   "cell_type": "markdown",
   "id": "6b9e6f4a",
   "metadata": {},
   "source": [
    "걸음 수가 1이 아닌 경우 \n",
    "대체 리스트의 길이가 슬라이싱된 항목의 개수와 다르면 두 리스트의 크기가 다르다는 설명과 함께 `ValueError`가 발생한다.\n",
    "아래 코드는 슬라이싱된 항목은 2개이지만 길이가 3인 리스트를 대체 리스트로 지정하기에 오류가 발생한다."
   ]
  },
  {
   "attachments": {},
   "cell_type": "markdown",
   "id": "78060466",
   "metadata": {},
   "source": [
    "```python\n",
    ">>> a2f[:3:2] = ['X', 'Y', 'Z']\n",
    "Traceback (most recent call last):\n",
    "  File \"<stdin>\", line 1, in <module>\n",
    "ValueError: attempt to assign sequence of size 3 to extended slice of size 2\n",
    "```"
   ]
  },
  {
   "attachments": {},
   "cell_type": "markdown",
   "id": "cffb8c18",
   "metadata": {},
   "source": [
    "### `range()` 함수와 리스트"
   ]
  },
  {
   "attachments": {},
   "cell_type": "markdown",
   "id": "ca783903",
   "metadata": {},
   "source": [
    "`range()` 함수는 리스트, 튜플 등과 매우 유사한 `range` 자료형의 객체를 생성한다.\n",
    "예를 들어, `range(3)`는 0부터 2까지의 정수를 포함하는 리스트와 유사하다."
   ]
  },
  {
   "cell_type": "code",
   "execution_count": 54,
   "id": "a07b15a9",
   "metadata": {},
   "outputs": [
    {
     "data": {
      "text/plain": [
       "range(0, 3)"
      ]
     },
     "execution_count": 54,
     "metadata": {},
     "output_type": "execute_result"
    }
   ],
   "source": [
    "range(3)"
   ]
  },
  {
   "attachments": {},
   "cell_type": "markdown",
   "id": "faad392c",
   "metadata": {},
   "source": [
    "`range(0, 3)`은 0부터 3 이전까지의 정수를 대상으로 한다는 의미를 보여준다.\n",
    "`range()` 함수는 최대 3개의 인자를 받을 수 있으며 각 인자의 기능은 \n",
    "리스트 슬라이싱의 그것과 거의 동일하다.\n",
    "즉, 첫째 인자가 0이면 생략이 가능하며,\n",
    "`range(3)`과 `range(0, 3)`은 동일한 객체를 생성한다."
   ]
  },
  {
   "cell_type": "code",
   "execution_count": 55,
   "id": "137c7d54",
   "metadata": {},
   "outputs": [
    {
     "data": {
      "text/plain": [
       "True"
      ]
     },
     "execution_count": 55,
     "metadata": {},
     "output_type": "execute_result"
    }
   ],
   "source": [
    "range(3) == range(0, 3)"
   ]
  },
  {
   "attachments": {},
   "cell_type": "markdown",
   "id": "c1e86cfa",
   "metadata": {},
   "source": [
    "`range` 객체에 포함되는 값을 확인하는 가장 간단한 방법은 \n",
    "리스트 또는 튜플로의 형변환이다."
   ]
  },
  {
   "attachments": {},
   "cell_type": "markdown",
   "id": "f61cf5e7",
   "metadata": {},
   "source": [
    "- 리스트로의 형변환"
   ]
  },
  {
   "cell_type": "code",
   "execution_count": 56,
   "id": "fcd634ae",
   "metadata": {},
   "outputs": [
    {
     "data": {
      "text/plain": [
       "[0, 1, 2]"
      ]
     },
     "execution_count": 56,
     "metadata": {},
     "output_type": "execute_result"
    }
   ],
   "source": [
    "list(range(3))"
   ]
  },
  {
   "attachments": {},
   "cell_type": "markdown",
   "id": "d640b3f0",
   "metadata": {},
   "source": [
    "- 튜플로의 형변환"
   ]
  },
  {
   "cell_type": "code",
   "execution_count": 57,
   "id": "2341915e",
   "metadata": {},
   "outputs": [
    {
     "data": {
      "text/plain": [
       "(0, 1, 2)"
      ]
     },
     "execution_count": 57,
     "metadata": {},
     "output_type": "execute_result"
    }
   ],
   "source": [
    "tuple(range(3))"
   ]
  },
  {
   "attachments": {},
   "cell_type": "markdown",
   "id": "0632c69c",
   "metadata": {},
   "source": [
    "`range()` 함수의 셋째 인자는 슬라이싱의 걸음 수에 해당한다.\n",
    "생략되면 걸음 수는 기본값인 1을 사용한다.\n",
    "아래 코드는 `range(1, 9, 2)`는 1부터 9 이전까지의 홀수를 \n",
    "대상으로 하는 `range` 객체를 생성한다."
   ]
  },
  {
   "cell_type": "code",
   "execution_count": 58,
   "id": "43c44655",
   "metadata": {},
   "outputs": [
    {
     "data": {
      "text/plain": [
       "[1, 3, 5, 7]"
      ]
     },
     "execution_count": 58,
     "metadata": {},
     "output_type": "execute_result"
    }
   ],
   "source": [
    "list(range(1, 9, 2))"
   ]
  },
  {
   "cell_type": "code",
   "execution_count": 59,
   "id": "1b1f95e4",
   "metadata": {},
   "outputs": [
    {
     "data": {
      "text/plain": [
       "(1, 3, 5, 7)"
      ]
     },
     "execution_count": 59,
     "metadata": {},
     "output_type": "execute_result"
    }
   ],
   "source": [
    "tuple(range(1, 9, 2))"
   ]
  },
  {
   "attachments": {},
   "cell_type": "markdown",
   "id": "7f048303",
   "metadata": {},
   "source": [
    "음수의 걸을 수를 지정할 수도 있다.\n",
    "예를 들어 `range(5, 0, -1)`는 5부터 0 이전까지를 역순으로 담은\n",
    "리스트에 해당하는 `range` 객체를 생성한다."
   ]
  },
  {
   "cell_type": "code",
   "execution_count": 60,
   "id": "4b9d2453",
   "metadata": {},
   "outputs": [
    {
     "data": {
      "text/plain": [
       "[5, 4, 3, 2, 1]"
      ]
     },
     "execution_count": 60,
     "metadata": {},
     "output_type": "execute_result"
    }
   ],
   "source": [
    "list(range(5, 0, -1))"
   ]
  },
  {
   "cell_type": "code",
   "execution_count": 61,
   "id": "5b0d1cb5",
   "metadata": {},
   "outputs": [
    {
     "data": {
      "text/plain": [
       "(5, 4, 3, 2, 1)"
      ]
     },
     "execution_count": 61,
     "metadata": {},
     "output_type": "execute_result"
    }
   ],
   "source": [
    "tuple(range(5, 0, -1))"
   ]
  },
  {
   "attachments": {},
   "cell_type": "markdown",
   "id": "c5cc68f7",
   "metadata": {},
   "source": [
    "**`range()` 함수와 `for` 반복문**"
   ]
  },
  {
   "attachments": {},
   "cell_type": "markdown",
   "id": "1ba254ab",
   "metadata": {},
   "source": [
    "`range()` 함수는 이처럼 간단한 규칙을 따르는 항목들로 구성된 리스트 또는 튜플을 생성하는 데에\n",
    "활용될 수 있다.\n",
    "그리고 `for` 반복문과 함께 다양한 방식으로 사용될 수 있다."
   ]
  },
  {
   "attachments": {},
   "cell_type": "markdown",
   "id": "e88373ea",
   "metadata": {},
   "source": [
    "(1) 아래 코드는 Hello world! 문자열을 5번 출력한다.\n",
    "이처럼 특정 코드를 몇 번 반복 실행시킬 때 사용한다."
   ]
  },
  {
   "cell_type": "code",
   "execution_count": 62,
   "id": "003c2cac",
   "metadata": {},
   "outputs": [
    {
     "name": "stdout",
     "output_type": "stream",
     "text": [
      "Hello world!\n",
      "Hello world!\n",
      "Hello world!\n",
      "Hello world!\n",
      "Hello world!\n"
     ]
    }
   ],
   "source": [
    "for i in range(5):\n",
    "    print(\"Hello world!\")"
   ]
  },
  {
   "attachments": {},
   "cell_type": "markdown",
   "id": "01c79468",
   "metadata": {},
   "source": [
    "이런 경우 변수 `i`의 역할은 카운트 기능 뿐이며 반복문의 본문에서 사용되지 않기에 밑줄 기호인\n",
    "`_`로 대체될 수 있다. \n",
    "밑줄 기호는 이름 없는 변수 역할을 수행한다."
   ]
  },
  {
   "cell_type": "code",
   "execution_count": 63,
   "id": "1da5c4a6",
   "metadata": {},
   "outputs": [
    {
     "name": "stdout",
     "output_type": "stream",
     "text": [
      "Hello world!\n",
      "Hello world!\n",
      "Hello world!\n",
      "Hello world!\n",
      "Hello world!\n"
     ]
    }
   ],
   "source": [
    "for _ in range(5):\n",
    "    print(\"Hello world!\")"
   ]
  },
  {
   "attachments": {},
   "cell_type": "markdown",
   "id": "44118b56",
   "metadata": {},
   "source": [
    "(2) 아래 코드는 0부터 100까지의 정수들의 합을 계산한다.\n",
    "따라서 `range(101)`은 0부터 100까지의 정수를 제공하는 기능을 수행한다."
   ]
  },
  {
   "cell_type": "code",
   "execution_count": 64,
   "id": "3c6a30a9",
   "metadata": {},
   "outputs": [
    {
     "data": {
      "text/plain": [
       "5050"
      ]
     },
     "execution_count": 64,
     "metadata": {},
     "output_type": "execute_result"
    }
   ],
   "source": [
    "sum_upto_100 = 0\n",
    "\n",
    "for i in range(101):\n",
    "    sum_upto_100 += i\n",
    "\n",
    "sum_upto_100"
   ]
  },
  {
   "attachments": {},
   "cell_type": "markdown",
   "id": "f33aea90",
   "metadata": {},
   "source": [
    "반면에 아래 코드는 1부터 100까지의 모든 홀수들의 합을 계산한다.\n",
    "`range(1, 100, 2)`가 1, 3, 5, ..., 99 의 홀수를 제공하기 때문이다."
   ]
  },
  {
   "cell_type": "code",
   "execution_count": 65,
   "id": "6136479c",
   "metadata": {},
   "outputs": [
    {
     "data": {
      "text/plain": [
       "2500"
      ]
     },
     "execution_count": 65,
     "metadata": {},
     "output_type": "execute_result"
    }
   ],
   "source": [
    "sum_odd_upto_100 = 0\n",
    "\n",
    "for i in range(1, 100, 2):\n",
    "    sum_odd_upto_100 += i\n",
    "\n",
    "sum_odd_upto_100"
   ]
  },
  {
   "attachments": {},
   "cell_type": "markdown",
   "id": "aad30b76",
   "metadata": {},
   "source": [
    "(3) 리스트의 인덱스 역할을 수행하게 할 수도 있다.\n",
    "아래 코드는 6명의 정보를 하나씩 차례대로 출력한다."
   ]
  },
  {
   "cell_type": "code",
   "execution_count": 66,
   "id": "7663d764",
   "metadata": {},
   "outputs": [
    {
     "name": "stdout",
     "output_type": "stream",
     "text": [
      "['김강현', '010-1234-5678', 20, 172.5, '제주']\n",
      "['황현', '02-9871-1234', 19, 163.5, '서울']\n",
      "['남세원', '010-3456-7891', 21, 156.7, '경기']\n",
      "['최흥선', '070-4321-1111', 21, 187.2, '부산']\n",
      "['김현선', '010-3333-8888', 22, 164.6, '광주']\n",
      "['함중아', '010-7654-2345', 18, 178.3, '강원']\n"
     ]
    }
   ],
   "source": [
    "for i in range(len(info_list)):\n",
    "    print(info_list[i])"
   ]
  },
  {
   "attachments": {},
   "cell_type": "markdown",
   "id": "edb818ca",
   "metadata": {},
   "source": [
    "`range()` 함수의 모든 기능을 활용할 수 있다.\n",
    "아래 코드는 짝수 인덱스에 위치한 사람의 정보만 출력한다."
   ]
  },
  {
   "cell_type": "code",
   "execution_count": 67,
   "id": "3b96fc68",
   "metadata": {},
   "outputs": [
    {
     "name": "stdout",
     "output_type": "stream",
     "text": [
      "['김강현', '010-1234-5678', 20, 172.5, '제주']\n",
      "['남세원', '010-3456-7891', 21, 156.7, '경기']\n",
      "['김현선', '010-3333-8888', 22, 164.6, '광주']\n"
     ]
    }
   ],
   "source": [
    "for i in range(0, len(info_list), 2):\n",
    "    print(info_list[i])"
   ]
  },
  {
   "attachments": {},
   "cell_type": "markdown",
   "id": "463f6fd9",
   "metadata": {},
   "source": [
    "### 리스트와 `for` 반복문"
   ]
  },
  {
   "attachments": {},
   "cell_type": "markdown",
   "id": "50954324",
   "metadata": {},
   "source": [
    "리스트를 `for` 반복문과 함께 사용하면 0번 인덱스 위치의 항목에서부터 하나씩 오른쪽으로 이동하며 반복문을 적용한다.\n",
    "아래 코드는 `one2five`에 포함된 항목을 모두 더한 결과를 계산한 후에 출력한다."
   ]
  },
  {
   "cell_type": "code",
   "execution_count": 68,
   "id": "f58218df",
   "metadata": {},
   "outputs": [
    {
     "name": "stdout",
     "output_type": "stream",
     "text": [
      "15\n"
     ]
    }
   ],
   "source": [
    "one2five = [1, 2, 3, 4, 5]\n",
    "\n",
    "sum_list = 0               # 왼쪽 항목에 대해서부터 차례대로 누적합을 저장할 변수\n",
    "\n",
    "for item in one2five: # item이 one2five의 항목을 하나씩 가리킴\n",
    "    sum_list += item       # sum_list에 item이 가리키는 값 더하기\n",
    "\n",
    "print(sum_list)"
   ]
  },
  {
   "attachments": {},
   "cell_type": "markdown",
   "id": "727782b0",
   "metadata": {},
   "source": [
    "코드에 포함된 다음 `for` 반복분이 실행되면\n",
    "`item` 변수는 먼저 0번 인덱스의 항목인 1을 가리킨다.\n",
    "따라서 `sum_list`가 1을 가리키게 되고\n",
    "다시 반복문의 본문의 처음으로 돌아간다.\n",
    "이때 `item`은 1번 인덱스 항목인 2를 가리키고 반복문의 본문을 다시 실행한다.\n",
    "이 과정을 `item`이 리스트의 마지막 항목은 5를 가리키고 반복문의 본문을 실행할 때까지 반복하면\n",
    "`for` 반복문의 실행을 종료하고 다음 명령문으로 넘어가서\n",
    "그때까지의 누적합을 가리키는 `sum_list`를 출력한다."
   ]
  },
  {
   "attachments": {},
   "cell_type": "markdown",
   "id": "f123e648",
   "metadata": {},
   "source": [
    "아래 그림은 위 코드의 `for` 반복문이 실행되는 순간 선언된 변수들이 가리키는 값을 보여준다.\n",
    "`sum_list`는 아직 초기화 상태이고 `item`은 1을 가리키고 있다."
   ]
  },
  {
   "attachments": {},
   "cell_type": "markdown",
   "id": "12588320",
   "metadata": {},
   "source": [
    "<div align=\"center\" border=\"1px\"><img src=\"https://raw.githubusercontent.com/codingalzi/pybook/master/jupyter-book/images/list-for-01.png\" width=\"800\"/></div>\n",
    "\n",
    "<p><div style=\"text-align: center\">&lt;그림 출처: <a href=\"https://pythontutor.com/render.html#code=one2five%20%3D%20%5B1,%202,%203,%204,%205%5D%0A%0Asum_list%20%3D%200%0Afor%20item%20in%20one2five%3A%0A%20%20%20%20sum_list%20%2B%3D%20item%0A%0Aprint%28sum_list%29&cumulative=false&curInstr=0&heapPrimitives=nevernest&mode=display&origin=opt-frontend.js&py=3&rawInputLstJSON=%5B%5D&textReferences=false\">Python Tutor</a>&gt;</div></p>"
   ]
  },
  {
   "attachments": {},
   "cell_type": "markdown",
   "id": "3c23b99b",
   "metadata": {},
   "source": [
    "반면에 아래 그림은 `for` 반복문이 2번 실행되어 `sum_list`는 3을, `item`은 2를 가리키고 있음을 보여준다."
   ]
  },
  {
   "attachments": {},
   "cell_type": "markdown",
   "id": "7b2944d1",
   "metadata": {},
   "source": [
    "<div align=\"center\" border=\"1px\"><img src=\"https://raw.githubusercontent.com/codingalzi/pybook/master/jupyter-book/images/list-for-02.png\" width=\"800\"/></div>\n",
    "\n",
    "<p><div style=\"text-align: center\">&lt;그림 출처: <a href=\"https://pythontutor.com/render.html#code=one2five%20%3D%20%5B1,%202,%203,%204,%205%5D%0A%0Asum_list%20%3D%200%0Afor%20item%20in%20one2five%3A%0A%20%20%20%20sum_list%20%2B%3D%20item%0A%0Aprint%28sum_list%29&cumulative=false&curInstr=0&heapPrimitives=nevernest&mode=display&origin=opt-frontend.js&py=3&rawInputLstJSON=%5B%5D&textReferences=false\">Python Tutor</a>&gt;</div></p>"
   ]
  },
  {
   "attachments": {},
   "cell_type": "markdown",
   "id": "c75c802a",
   "metadata": {},
   "source": [
    "반복문이 계속 실행되어 `item`이 리스트의 마지막 항목인 5를 가리키면 `sum_list`는 15를 가리키며 반복문이 종료된다.\n",
    "그러면 다음 명령문인 `print(sum_list)`가 실행되어 15가 출력된다(아래 그림 참고)."
   ]
  },
  {
   "attachments": {},
   "cell_type": "markdown",
   "id": "52f0e912",
   "metadata": {},
   "source": [
    "<div align=\"center\" border=\"1px\"><img src=\"https://raw.githubusercontent.com/codingalzi/pybook/master/jupyter-book/images/list-for-03.png\" width=\"800\"/></div>\n",
    "\n",
    "<p><div style=\"text-align: center\">&lt;그림 출처: <a href=\"https://pythontutor.com/render.html#code=one2five%20%3D%20%5B1,%202,%203,%204,%205%5D%0A%0Asum_list%20%3D%200%0Afor%20item%20in%20one2five%3A%0A%20%20%20%20sum_list%20%2B%3D%20item%0A%0Aprint%28sum_list%29&cumulative=false&curInstr=0&heapPrimitives=nevernest&mode=display&origin=opt-frontend.js&py=3&rawInputLstJSON=%5B%5D&textReferences=false\">Python Tutor</a>&gt;</div></p>"
   ]
  },
  {
   "attachments": {},
   "cell_type": "markdown",
   "id": "6ceaf6d2",
   "metadata": {},
   "source": [
    "**`while` 반복문과 리스트 인덱싱**"
   ]
  },
  {
   "attachments": {},
   "cell_type": "markdown",
   "id": "e0390e89",
   "metadata": {},
   "source": [
    "리스트를 대상으로 `while` 반복문을 \n",
    "실행하려면 인덱싱을 활용한다.\n",
    "이유는 `for` 반복문과는 달리 `while` 반복문은 리스트의 항목을\n",
    "직접 가리키는 기능을 제공하지 않기 때문이다.\n",
    "아래 코드는 위 `for` 반복문과 동일한 기능을 수행한다."
   ]
  },
  {
   "cell_type": "code",
   "execution_count": 69,
   "id": "90c4f311",
   "metadata": {},
   "outputs": [
    {
     "name": "stdout",
     "output_type": "stream",
     "text": [
      "15\n"
     ]
    }
   ],
   "source": [
    "one2five = [1, 2, 3, 4, 5]\n",
    "\n",
    "sum_list = 0\n",
    "i = 0                    # one2five의 항목을 가리키는 인덱스. 0부터 시작.\n",
    "\n",
    "while i < len(one2five): # i가 one2five의 마지막 인덱스를 가리킬 때까지 반복\n",
    "    item = one2five[i]   # item이 one2five의 i번째 항목을 가리킴\n",
    "    sum_list += item          # sum_list에 i번째 항목 더하기\n",
    "    i += 1               # i를 1 증가시키기\n",
    "\n",
    "print(sum_list)"
   ]
  },
  {
   "attachments": {},
   "cell_type": "markdown",
   "id": "9aa8d959",
   "metadata": {},
   "source": [
    "위 코드에서 인덱스를 가리키는 변수 `i`의 값을\n",
    "반복문이 한 번 실행될 때마다 인위적으로 1씩 키워줘야 하고\n",
    "언제 언제 반복이 멈춰야 하는지를 조건식으로 명시해줘야 하는 점이 \n",
    "리스트를 `for` 반복문과 함께 사용할 때와 다르다.\n",
    "\n",
    "코드에 포함된 다음 `while` 반복분이 실행될 때\n",
    "`i` 변수는 먼저 0을 가리키기에 `item` 변수는 0번째 인덱스의 값인 1을 가리킨다.\n",
    "따라서 `sum_list`가 0이 아닌 1을 가리키게 된다.\n",
    "이후 `i`가 1로 바뀌고 다시 반복문의 본문의 처음으로 돌아간다.\n",
    "이때 `item`은 1번 인덱스 항목인 2를 가리키고 반복문의 본문을 다시 실행한다.\n",
    "이 과정을 `i`가 4를 가키릴 때까지 반복하면 \n",
    "`sum_list`는 `one2five` 리스트의 0번 인덱스의 항목부터 마지막 항목까지\n",
    "더한 값을 가리키게 되고 `i`가 5, 즉 `one2five`의 길이와 같아지게 되어\n",
    "`while` 반복문의 실행을 종료하고 다음 명령문으로 넘어간다."
   ]
  },
  {
   "attachments": {},
   "cell_type": "markdown",
   "id": "01dfa8dd",
   "metadata": {},
   "source": [
    "아래 그림은 위 코드의 `while` 반복문이 실행되어 `item` 변수가 선언된 순간에\n",
    "`sum_list`와 `i`는 아직 초기화 상태이고 `item`은 0번 인덱스 항목인 1을 가리키고 있음을 보여준다."
   ]
  },
  {
   "attachments": {},
   "cell_type": "markdown",
   "id": "120e21d0",
   "metadata": {},
   "source": [
    "<div align=\"center\" border=\"1px\"><img src=\"https://raw.githubusercontent.com/codingalzi/pybook/master/jupyter-book/images/list-while-01.png\" width=\"800\"/></div>\n",
    "\n",
    "<p><div style=\"text-align: center\">&lt;그림 출처: <a href=\"https://pythontutor.com/render.html#code=one2five%20%3D%20%5B1,%202,%203,%204,%205%5D%0A%0Asum_list%20%3D%200%0Ai%20%3D%200%0A%0Awhile%20i%20%3C%20len%28one2five%29%3A%0A%20%20%20%20item%20%3D%20one2five%5Bi%5D%0A%20%20%20%20sum_list%20%2B%3D%20item%0A%20%20%20%20i%20%2B%3D%201%0A%0Aprint%28sum_list%29&cumulative=false&curInstr=0&heapPrimitives=nevernest&mode=display&origin=opt-frontend.js&py=3&rawInputLstJSON=%5B%5D&textReferences=false\">Python Tutor</a>&gt;</div></p>"
   ]
  },
  {
   "attachments": {},
   "cell_type": "markdown",
   "id": "c29e2e28",
   "metadata": {},
   "source": [
    "반면에 아래 그림은 `while` 반복문이 세 번째로 실행되어 \n",
    "`i`는 2, `item`은 3을 가리키지만 \n",
    "`sum_list`는 아직 업데이트 이전 상태를 보여준다."
   ]
  },
  {
   "attachments": {},
   "cell_type": "markdown",
   "id": "49beb181",
   "metadata": {},
   "source": [
    "<div align=\"center\" border=\"1px\"><img src=\"https://raw.githubusercontent.com/codingalzi/pybook/master/jupyter-book/images/list-while-02.png\" width=\"800\"/></div>\n",
    "\n",
    "<p><div style=\"text-align: center\">&lt;그림 출처: <a href=\"https://pythontutor.com/render.html#code=one2five%20%3D%20%5B1,%202,%203,%204,%205%5D%0A%0Asum_list%20%3D%200%0Ai%20%3D%200%0A%0Awhile%20i%20%3C%20len%28one2five%29%3A%0A%20%20%20%20item%20%3D%20one2five%5Bi%5D%0A%20%20%20%20sum_list%20%2B%3D%20item%0A%20%20%20%20i%20%2B%3D%201%0A%0Aprint%28sum_list%29&cumulative=false&curInstr=0&heapPrimitives=nevernest&mode=display&origin=opt-frontend.js&py=3&rawInputLstJSON=%5B%5D&textReferences=false\">Python Tutor</a>&gt;</div></p>"
   ]
  },
  {
   "attachments": {},
   "cell_type": "markdown",
   "id": "30cb8118",
   "metadata": {},
   "source": [
    "`while `반복문이 계속 실행되어 `i`가 5가 되면 조건식 `i < len(one2five)`가 거짓이 되고\n",
    "반복문을 더 이상 실행하지 않는다.\n",
    "`sum_list`는 모든 항목이 더해진 상태인 15를 가리킨다."
   ]
  },
  {
   "attachments": {},
   "cell_type": "markdown",
   "id": "bc1caf09",
   "metadata": {},
   "source": [
    "<div align=\"center\" border=\"1px\"><img src=\"https://raw.githubusercontent.com/codingalzi/pybook/master/jupyter-book/images/list-while-03.png\" width=\"800\"/></div>\n",
    "\n",
    "<p><div style=\"text-align: center\">&lt;그림 출처: <a href=\"https://pythontutor.com/render.html#code=one2five%20%3D%20%5B1,%202,%203,%204,%205%5D%0A%0Asum_list%20%3D%200%0Ai%20%3D%200%0A%0Awhile%20i%20%3C%20len%28one2five%29%3A%0A%20%20%20%20item%20%3D%20one2five%5Bi%5D%0A%20%20%20%20sum_list%20%2B%3D%20item%0A%20%20%20%20i%20%2B%3D%201%0A%0Aprint%28sum_list%29&cumulative=false&curInstr=0&heapPrimitives=nevernest&mode=display&origin=opt-frontend.js&py=3&rawInputLstJSON=%5B%5D&textReferences=false\">Python Tutor</a>&gt;</div></p>"
   ]
  },
  {
   "attachments": {},
   "cell_type": "markdown",
   "id": "09216814",
   "metadata": {},
   "source": [
    "위 코드에서 사용된 `item` 변수는 이전 코드와의 비교하기 위해 사용되었지만\n",
    "굳이 필요하진 않고 아래 코드에서처럼 `i`번 인덱스 항목을 \n",
    "직접 `sum_list` 변수에 더할 수 있다."
   ]
  },
  {
   "cell_type": "code",
   "execution_count": 70,
   "id": "7d9a9bc8",
   "metadata": {},
   "outputs": [
    {
     "name": "stdout",
     "output_type": "stream",
     "text": [
      "15\n"
     ]
    }
   ],
   "source": [
    "one2five = [1, 2, 3, 4, 5]\n",
    "\n",
    "sum_list = 0\n",
    "i = 0                    # one2five의 항목을 가리키는 인덱스. 0부터 시작.\n",
    "\n",
    "while i < len(one2five): # i가 one2five의 마지막 인덱스를 가리킬 때까지 반복\n",
    "    sum_list += one2five[i]   # sum_list에 one2five의 i번째 항목 더하기\n",
    "    i += 1               # i를 1 증가시키기\n",
    "\n",
    "print(sum_list)"
   ]
  },
  {
   "attachments": {},
   "cell_type": "markdown",
   "id": "1f8549f5",
   "metadata": {},
   "source": [
    ":::{prf:example} 홀수들의 합\n",
    ":label: odd-sum-upto-10\n",
    "\n",
    "1부터 10까지의 정수 중에서 홀수들의 합을 계산하라.\n",
    "단, 1부터 10까지의 정수로 구성된 리스트에 `for` 반복문을 적용한다.\n",
    ":::"
   ]
  },
  {
   "attachments": {},
   "cell_type": "markdown",
   "id": "ecb796f6",
   "metadata": {},
   "source": [
    "*견본 답안*"
   ]
  },
  {
   "attachments": {},
   "cell_type": "markdown",
   "id": "109a2c13",
   "metadata": {},
   "source": [
    "먼저 1부터 10까지의 정수로 구성된 리스트를 가리키는 변수 `one2ten`을 선언한다."
   ]
  },
  {
   "cell_type": "code",
   "execution_count": 71,
   "id": "77448602",
   "metadata": {},
   "outputs": [],
   "source": [
    "one2ten = [1, 2, 3, 4, 5, 6, 7, 8, 9, 10]"
   ]
  },
  {
   "attachments": {},
   "cell_type": "markdown",
   "id": "1097dd4e",
   "metadata": {},
   "source": [
    "\n",
    "앞서 1부터 5까지의 합을 계산한 프로그램과 거의 비슷하게 프로그램을 작성할 수 있다.\n",
    "\n",
    "```python\n",
    "sum_list = 0\n",
    "for item in one2five:\n",
    "    sum_list += item\n",
    "```\n",
    "\n",
    "다만 `item`이 가리키는 항목이 홀수일 때만 `sum_list`에 더한다는 점이 다르다.\n",
    "`item`이 가리키는 값이 홀수인지 여부를 판단하는 표현식은 `item % 2 == 1`이며,\n",
    "홀수일 때만 `sum_list`에 더하는 코드는 다음과 같다.\n",
    "\n",
    "```python\n",
    "if item % 2 == 1:\n",
    "    sum_list += item\n",
    "```\n",
    "\n",
    "정리하면 아래 프로그램을 이용하여 1부터 10까지 정수 중에서 홀수들의 합을 계산할 수 있다."
   ]
  },
  {
   "cell_type": "code",
   "execution_count": 72,
   "id": "6ab0e113",
   "metadata": {},
   "outputs": [
    {
     "name": "stdout",
     "output_type": "stream",
     "text": [
      "25\n"
     ]
    }
   ],
   "source": [
    "odd_sum = 0\n",
    "\n",
    "for num in one2ten:\n",
    "    if num % 2 == 1: # 홀수 여부 확인\n",
    "        odd_sum += num   # 홀수인 경우에만 실행\n",
    "\n",
    "print(odd_sum)"
   ]
  },
  {
   "attachments": {},
   "cell_type": "markdown",
   "id": "cd391e44",
   "metadata": {},
   "source": [
    "*프로그램 업그레이드*"
   ]
  },
  {
   "attachments": {},
   "cell_type": "markdown",
   "id": "dfada151",
   "metadata": {},
   "source": [
    "1부터 10까지의 정수 중에서 홀수들의 합이 25으로 계산되었다.\n",
    "그런데 위 코드가 정말로 1, 3, 5, 7, 9의 합을 계산했는지 결과만으로는 알 수 없다. \n",
    "이를 확인하기 위해 코드를 실행할 때 `sum_list`에 더해지는 수를 함께 출력하도록 프로그램을 수정해보자.\n",
    "\n",
    "먼저 홀수인 `item`을 기억하는 장치가 필요하다.\n",
    "이를 위해 `sum_list` 변수와 유사한 기능을 갖지만 필요에 따라 항목을 추가해야 하기에 리스트를 이용한다.\n",
    "처음에는 빈 리스트로 출발하고 `item`이 홀수인 경우 리스트에 추가한다.\n",
    "아래 `odd_items` 변수가 이 기능을 수행한다.\n",
    "\n",
    "```python\n",
    "odd_items = []\n",
    "```"
   ]
  },
  {
   "attachments": {},
   "cell_type": "markdown",
   "id": "72aac6d8",
   "metadata": {},
   "source": [
    "리스트에 항목 추가하기는 이어붙이기 연산자 `+`를 활용하면 된다.\n",
    "위 코드의 `for` 반복문에 `odd_items`이 가리키는 리스트가 업데이트되는 과정만 추가하면 \n",
    "홀수들의 합에 사용되는 홀수들의 리스트를 함께 확인할 수 있다."
   ]
  },
  {
   "cell_type": "code",
   "execution_count": 73,
   "id": "006157e5",
   "metadata": {},
   "outputs": [
    {
     "name": "stdout",
     "output_type": "stream",
     "text": [
      "1부터 10까지의 정수 중에서 홀수들의 합: 25\n",
      "1부터 10까지의 정수 중에서 홀수들의 리스트: [1, 3, 5, 7, 9]\n"
     ]
    }
   ],
   "source": [
    "odd_sum = 0\n",
    "odd_nums = []\n",
    "\n",
    "for num in one2ten:\n",
    "    if num % 2 == 1: \n",
    "        odd_sum += num   \n",
    "        odd_nums += [num] # 홀수 항목 저장\n",
    "\n",
    "print(\"1부터 10까지의 정수 중에서 홀수들의 합:\", odd_sum)\n",
    "print(\"1부터 10까지의 정수 중에서 홀수들의 리스트:\", odd_nums)"
   ]
  },
  {
   "attachments": {},
   "cell_type": "markdown",
   "id": "9a2195b6",
   "metadata": {},
   "source": [
    "**`for` 반복문과 리스트 슬라이싱**"
   ]
  },
  {
   "attachments": {},
   "cell_type": "markdown",
   "id": "8277b89a",
   "metadata": {},
   "source": [
    "리스트를 슬라이싱 하면 지정된 구간의 항목으로 구성된 리스트가 확인되는데\n",
    "이 정보를 `for` 반복문이 이용할 수 있다.\n",
    "예를 들어 아래 코드는 1부터 10까지의 합을 계산한다.\n",
    "이전과는 달리 `sum_list` 변수를 `one2ten`의 0번 인덱스 항목, 즉 1로 지정하고\n",
    "`for` 반복문을 1번 인덱스 이후의 항목을 슬라이싱한 리스트에 대해 적용한다."
   ]
  },
  {
   "cell_type": "code",
   "execution_count": 74,
   "id": "7386a4c0",
   "metadata": {},
   "outputs": [
    {
     "name": "stdout",
     "output_type": "stream",
     "text": [
      "55\n"
     ]
    }
   ],
   "source": [
    "sum_list = one2ten[0]        # sum_list에 one2ten의 0번 인덱스 항목 저장\n",
    "\n",
    "for num in one2ten[1:]:\n",
    "    sum_list += num\n",
    "\n",
    "print(sum_list)"
   ]
  },
  {
   "attachments": {},
   "cell_type": "markdown",
   "id": "f7ae1a19",
   "metadata": {},
   "source": [
    "걸음 수가 1보다 큰 슬라이싱과도 잘 작동한다.\n",
    "예를 들어 아래 코드는 1부터 10까지의 정수 중에서 짝수들의 합인 30을 계산한다."
   ]
  },
  {
   "cell_type": "code",
   "execution_count": 75,
   "id": "fb501a49",
   "metadata": {},
   "outputs": [
    {
     "name": "stdout",
     "output_type": "stream",
     "text": [
      "30\n"
     ]
    }
   ],
   "source": [
    "sum_list = one2ten[1]          # sum_list에 1번 인덱스에 위치한 첫번째 짝수인 2를 할당.\n",
    "\n",
    "for num in one2ten[3::2]: # 두 걸음씩 건너 뛰며 짝수 항목만 반복\n",
    "    sum_list += num\n",
    "\n",
    "print(sum_list)"
   ]
  },
  {
   "attachments": {},
   "cell_type": "markdown",
   "id": "4ba9bc7f",
   "metadata": {},
   "source": [
    "아래 코드는 더해지는 짝수들의 리스트로 함께 출력한다."
   ]
  },
  {
   "cell_type": "code",
   "execution_count": 76,
   "id": "394a5e73",
   "metadata": {},
   "outputs": [
    {
     "name": "stdout",
     "output_type": "stream",
     "text": [
      "1부터 10까지의 정수 중에서 짝수들의 합: 30\n",
      "1부터 10까지의 정수 중에서 짝수들의 리스트: [2, 4, 6, 8, 10]\n"
     ]
    }
   ],
   "source": [
    "even_sum = one2ten[1]\n",
    "even_nums = [one2ten[1]]  # 짝수 항목 저장\n",
    "\n",
    "for num in one2ten[3::2]:\n",
    "    even_nums += [num]    # 짝수 항목 추가 저장\n",
    "    even_sum += num\n",
    "\n",
    "print(\"1부터 10까지의 정수 중에서 짝수들의 합:\", even_sum)\n",
    "print(\"1부터 10까지의 정수 중에서 짝수들의 리스트:\", even_nums)"
   ]
  },
  {
   "attachments": {},
   "cell_type": "markdown",
   "id": "3c79a9b5",
   "metadata": {},
   "source": [
    ":::{prf:example} 리스트 항목들의 합\n",
    ":label: list-items-sum\n",
    "\n",
    "리스트에 포함된 모든 항목들의 합을 반환하는 `sum_of_list_items()` 함수를 정의하라.\n",
    "단, 리스트의 항목은 정수, 부동소수점, 문자열, 리스트 중에 한 종류의 자료형으로만 구성된다고\n",
    "가정하며 합은 `+` 연산자를 이용한다.\n",
    ":::"
   ]
  },
  {
   "attachments": {},
   "cell_type": "markdown",
   "id": "f7079bd2",
   "metadata": {},
   "source": [
    "*견본 답안*"
   ]
  },
  {
   "attachments": {},
   "cell_type": "markdown",
   "id": "2d55bd12",
   "metadata": {},
   "source": [
    "정수, 부동소수점, 문자열, 리스트 중 하나의 자료형으로만 구성된 리스트 `seq`가 주어졌다고 가정하자.\n",
    "`+` 연산자는 정수와 부동소수점의 경우 덧셈 연산을, \n",
    "문자열과 리스트의 경우엔 이어붙이기 연산을 나타낸다.\n",
    "어떤 연산을 실행할지는 파이썬 실행기가 인자를 보고 판단한다.\n",
    "\n",
    "따라서 리스트의 항목이 어떤 자료형을 갖는지 신경쓰지 않아도 되며,\n",
    "이는 정수 리스트에 포함된 항목들의 합을 계산하는 아래 코드를\n",
    "거의 그대로 사용할 수 있음을 의미한다."
   ]
  },
  {
   "attachments": {},
   "cell_type": "markdown",
   "id": "2e126fed",
   "metadata": {},
   "source": [
    "```python\n",
    "sum_list = 0\n",
    "\n",
    "for item in seq:\n",
    "    sum_list += item\n",
    "```"
   ]
  },
  {
   "attachments": {},
   "cell_type": "markdown",
   "id": "def01f2d",
   "metadata": {},
   "source": [
    "다만 항목들의 누적합을 가리키는 `sum_list`가 가리키는 값으로 0을 사용할 수는 없다.\n",
    "이유는 리스트의 항목이 예를 들어 문자열이면 정수와 문자열의 덧셈은 정의되어 있지 않기에\n",
    "`sum_list += item`이 실행될 때 오류가 발생하기 때문이다. \n",
    "또한 매개변수 `seq`으로 들어올 인자의 자료형을 미리 알 수 없기에\n",
    "`sum_list`를 어떤 값으로 초기화할지 미리 알 수 없다. \n",
    "\n",
    "해결책은 `seq`의 0번 인덱스의 항목의 자료형을 이용하는 것이다.\n",
    "이유는 `seq`이 어떤 자료형의 리스트인가는 0번 인덱스의 항목를 확인하면 되기 때문이다.\n",
    "\n",
    "어떤 값의 자료형은 `type()` 함수로 확인된다.\n",
    "정수 1의 자료형은 `int`, \n",
    "문자열 `abc`의 자료형은 `str`,\n",
    "리스트 `[1, 2, 3]`의 자료형은 `list`임을 다음 세 개의 코드가 확인해준다."
   ]
  },
  {
   "cell_type": "code",
   "execution_count": 77,
   "id": "43036e10",
   "metadata": {},
   "outputs": [
    {
     "data": {
      "text/plain": [
       "int"
      ]
     },
     "execution_count": 77,
     "metadata": {},
     "output_type": "execute_result"
    }
   ],
   "source": [
    "type(1)"
   ]
  },
  {
   "cell_type": "code",
   "execution_count": 78,
   "id": "dc36ca23",
   "metadata": {},
   "outputs": [
    {
     "data": {
      "text/plain": [
       "str"
      ]
     },
     "execution_count": 78,
     "metadata": {},
     "output_type": "execute_result"
    }
   ],
   "source": [
    "type('abc')"
   ]
  },
  {
   "cell_type": "code",
   "execution_count": 79,
   "id": "91c911c5",
   "metadata": {},
   "outputs": [
    {
     "data": {
      "text/plain": [
       "list"
      ]
     },
     "execution_count": 79,
     "metadata": {},
     "output_type": "execute_result"
    }
   ],
   "source": [
    "type([1, 2, 3])"
   ]
  },
  {
   "attachments": {},
   "cell_type": "markdown",
   "id": "20cb5535",
   "metadata": {},
   "source": [
    "또한 자료형의 이름을 형변환 함수로 활용할 있음을 {numref}`%s장 <ch:basic_types>`에서 살펴보았다.\n",
    "그리고 각각의 형변환 함수는 인자 없이 호출될 경우 다음과 같이 자료형에 따른 특정 값을 반환한다."
   ]
  },
  {
   "cell_type": "code",
   "execution_count": 80,
   "id": "097f8445",
   "metadata": {},
   "outputs": [
    {
     "data": {
      "text/plain": [
       "0"
      ]
     },
     "execution_count": 80,
     "metadata": {},
     "output_type": "execute_result"
    }
   ],
   "source": [
    "int()"
   ]
  },
  {
   "cell_type": "code",
   "execution_count": 81,
   "id": "12ed5c4b",
   "metadata": {},
   "outputs": [
    {
     "data": {
      "text/plain": [
       "0.0"
      ]
     },
     "execution_count": 81,
     "metadata": {},
     "output_type": "execute_result"
    }
   ],
   "source": [
    "float()"
   ]
  },
  {
   "cell_type": "code",
   "execution_count": 82,
   "id": "aad3c538",
   "metadata": {},
   "outputs": [
    {
     "data": {
      "text/plain": [
       "''"
      ]
     },
     "execution_count": 82,
     "metadata": {},
     "output_type": "execute_result"
    }
   ],
   "source": [
    "str()"
   ]
  },
  {
   "cell_type": "code",
   "execution_count": 83,
   "id": "96d20faa",
   "metadata": {},
   "outputs": [
    {
     "data": {
      "text/plain": [
       "[]"
      ]
     },
     "execution_count": 83,
     "metadata": {},
     "output_type": "execute_result"
    }
   ],
   "source": [
    "list()"
   ]
  },
  {
   "attachments": {},
   "cell_type": "markdown",
   "id": "3ab5f4d5",
   "metadata": {},
   "source": [
    "`type()` 함수와 형변환 함수를 조합하면 리스트의 첫째 항목의 자료형에 따라 \n",
    "0, 빈 문자열, 빈 리스트를 선언할 수 있다.\n",
    "예를 들어 아래 표현식은 0을 가리킨다."
   ]
  },
  {
   "cell_type": "code",
   "execution_count": 84,
   "id": "3bfd85b5",
   "metadata": {},
   "outputs": [
    {
     "data": {
      "text/plain": [
       "0"
      ]
     },
     "execution_count": 84,
     "metadata": {},
     "output_type": "execute_result"
    }
   ],
   "source": [
    "sec = [0, 1, 2]\n",
    "type(sec[0])()"
   ]
  },
  {
   "attachments": {},
   "cell_type": "markdown",
   "id": "f46b6e47",
   "metadata": {},
   "source": [
    "아래 표현식은 빈 문자열을 가리킨다."
   ]
  },
  {
   "cell_type": "code",
   "execution_count": 85,
   "id": "baac2224",
   "metadata": {},
   "outputs": [
    {
     "data": {
      "text/plain": [
       "''"
      ]
     },
     "execution_count": 85,
     "metadata": {},
     "output_type": "execute_result"
    }
   ],
   "source": [
    "sec = ['abc', 'b', 'de']\n",
    "type(sec[0])()"
   ]
  },
  {
   "attachments": {},
   "cell_type": "markdown",
   "id": "62e269f7",
   "metadata": {},
   "source": [
    "아래 표현식은 빈 리스트이다."
   ]
  },
  {
   "cell_type": "code",
   "execution_count": 86,
   "id": "dbb3c8f9",
   "metadata": {},
   "outputs": [
    {
     "data": {
      "text/plain": [
       "[]"
      ]
     },
     "execution_count": 86,
     "metadata": {},
     "output_type": "execute_result"
    }
   ],
   "source": [
    "sec = [[1, 2, 3], [4, 5], [6, 7, 8, 9]]\n",
    "type(sec[0])()"
   ]
  },
  {
   "attachments": {},
   "cell_type": "markdown",
   "id": "ffea2040",
   "metadata": {},
   "source": [
    "위 설명을 종합해서 인자로 들어온 리스트의 첫째 항목의 자료형에 따른 누적합을\n",
    "다음과 같이 초기화한다.\n",
    "\n",
    "```python\n",
    "sum_list = type(sec[0])()\n",
    "```\n",
    "\n",
    "나머지 코드는 이전과 동일하다."
   ]
  },
  {
   "cell_type": "code",
   "execution_count": 87,
   "id": "676003ad",
   "metadata": {},
   "outputs": [],
   "source": [
    "def sum_of_list_items(seq):\n",
    "    sum_list = type(seq[0])() # 0번 인덱스 항목과 같은 자료형의 0에 해당하는 값으로 초기화\n",
    "\n",
    "    for item in seq:\n",
    "        sum_list += item\n",
    "\n",
    "    return sum_list"
   ]
  },
  {
   "attachments": {},
   "cell_type": "markdown",
   "id": "738ace32",
   "metadata": {},
   "source": [
    "1부터 5까지의 합은 15임을 다시 한 번 확인한다."
   ]
  },
  {
   "cell_type": "code",
   "execution_count": 88,
   "id": "5f222a88",
   "metadata": {},
   "outputs": [
    {
     "data": {
      "text/plain": [
       "15"
      ]
     },
     "execution_count": 88,
     "metadata": {},
     "output_type": "execute_result"
    }
   ],
   "source": [
    "sum_of_list_items(one2five)"
   ]
  },
  {
   "attachments": {},
   "cell_type": "markdown",
   "id": "7cfd6b7f",
   "metadata": {},
   "source": [
    "길이가 1인 문자열 `'a'`, `'b'`, `'c'` 세 개의 문자열로 구성된 \n",
    "리스트의 합은 길이가 3인 문자열 `'abc'`이다."
   ]
  },
  {
   "cell_type": "code",
   "execution_count": 89,
   "id": "82ec201d",
   "metadata": {},
   "outputs": [
    {
     "data": {
      "text/plain": [
       "'abc'"
      ]
     },
     "execution_count": 89,
     "metadata": {},
     "output_type": "execute_result"
    }
   ],
   "source": [
    "sum_of_list_items(a2c)"
   ]
  },
  {
   "attachments": {},
   "cell_type": "markdown",
   "id": "87f6b542",
   "metadata": {},
   "source": [
    "6명의 정보를 답은 중첩 리스트 `info_list`의 항목을 더하면 6명의 정보를\n",
    "하나의 리스트에 담은 리스트가 반환된다."
   ]
  },
  {
   "cell_type": "code",
   "execution_count": 90,
   "id": "78deb513",
   "metadata": {},
   "outputs": [
    {
     "name": "stdout",
     "output_type": "stream",
     "text": [
      "['김강현', '010-1234-5678', 20, 172.5, '제주', '황현', '02-9871-1234', 19, 163.5, '서울', '남세원', '010-3456-7891', 21, 156.7, '경기', '최흥선', '070-4321-1111', 21, 187.2, '부산', '김현선', '010-3333-8888', 22, 164.6, '광주', '함중아', '010-7654-2345', 18, 178.3, '강원']\n"
     ]
    }
   ],
   "source": [
    "info_list_1d = sum_of_list_items(info_list)\n",
    "print(info_list_1d)"
   ]
  },
  {
   "attachments": {},
   "cell_type": "markdown",
   "id": "648fed18",
   "metadata": {},
   "source": [
    ":::{admonition} 중첩 리스트 항목들의 합\n",
    ":class: note\n",
    "\n",
    "`sum_of_list_items()` 함수를 다음과 같이 \n",
    "`sum_list`의 초기값을 `sec`의 첫째 항목으로 지정하고\n",
    "`for` 반복문은 1번 인덱스 이후부터 적용하는 방식으로 정의할 수 있다.\n",
    "그러면 첫째 항목의 자료형을 확인하지 않고도 나머지 항목과의\n",
    "`+` 연산이 자연스럽게 실행된다.\n",
    "\n",
    "```python\n",
    "def sum_of_list_items(seq):\n",
    "    sum_list = seq[0]    # 0번 인덱스 항목으로 누적합 초기화\n",
    "\n",
    "    for item in seq[1:]: # 1번 인덱스 항목부터 확인\n",
    "        sum_list += item\n",
    "\n",
    "    return sum_list\n",
    "```\n",
    "\n",
    "그런데 위 코드는 중첩 리스트에 포함된 항목들의 합을 계산할 때 \n",
    "`seq[0]`이 가리키는 중첩 리스트의 첫재 항목으로 사용된 리스트를 변경하는\n",
    "부작용<font size='2'>side-effect</font>을 유발한다.\n",
    "이유는 파이썬이 리스트를 처리하는 방식때문인데 자세한 설명은 생락한다.\n",
    "관심 있는 경우 [Python Tutor](https://pythontutor.com/render.html#code=sec%20%3D%20%5B%5B1,%202,%203%5D,%20%5B4,%205,%206%5D%5D%0A%0Adef%20sum_of_list_items%28seq%29%3A%0A%20%20%20%20sum_list%20%3D%20seq%5B0%5D%0A%0A%20%20%20%20for%20item%20in%20seq%5B1%3A%5D%3A%0A%20%20%20%20%20%20%20%20sum_list%20%2B%3D%20item%0A%0A%20%20%20%20return%20sum_list%0A%20%20%20%20%0Asum_of_list_items%28sec%29%0A%0Aprint%28sec%5B0%5D%29&cumulative=false&curInstr=0&heapPrimitives=nevernest&mode=display&origin=opt-frontend.js&py=3&rawInputLstJSON=%5B%5D&textReferences=false)에서\n",
    "`sec[0]`의 값이 의도치 않게 변경됨을 확인할 수 있다.\n",
    ":::"
   ]
  },
  {
   "attachments": {},
   "cell_type": "markdown",
   "id": "9a1694f9",
   "metadata": {},
   "source": [
    "### 중첩 리스트와 인덱싱/슬라이싱/반복문"
   ]
  },
  {
   "attachments": {},
   "cell_type": "markdown",
   "id": "33862a8c",
   "metadata": {},
   "source": [
    "`info_list`와 같은 중첩 리스트는 리스트의 항목이 또다른 리스트이기에 \n",
    "항목의 항목을 확인/추출/변경 하려면 인덱싱, 슬라이싱, `for` 반복문을 \n",
    "중첩해서 활용해야 할 때가 있다."
   ]
  },
  {
   "attachments": {},
   "cell_type": "markdown",
   "id": "d48785b1",
   "metadata": {},
   "source": [
    "예를 들어 김강현의 이름은 `info_list`의 첫째 항목인 리스트의 첫째 항목이기에\n",
    "다음과 같이 확인할 수 있다."
   ]
  },
  {
   "cell_type": "code",
   "execution_count": 91,
   "id": "bf35f44d",
   "metadata": {},
   "outputs": [
    {
     "data": {
      "text/plain": [
       "'김강현'"
      ]
     },
     "execution_count": 91,
     "metadata": {},
     "output_type": "execute_result"
    }
   ],
   "source": [
    "kgh_1 = info_list[0]\n",
    "kgh_1[0]"
   ]
  },
  {
   "attachments": {},
   "cell_type": "markdown",
   "id": "65670354",
   "metadata": {},
   "source": [
    "위 코드를 줄여서 다음과 같이 하나의 표현식으로 나타낼 수 있다."
   ]
  },
  {
   "cell_type": "code",
   "execution_count": 92,
   "id": "e2db713f",
   "metadata": {},
   "outputs": [
    {
     "data": {
      "text/plain": [
       "'김강현'"
      ]
     },
     "execution_count": 92,
     "metadata": {},
     "output_type": "execute_result"
    }
   ],
   "source": [
    "info_list[0][0]"
   ]
  },
  {
   "attachments": {},
   "cell_type": "markdown",
   "id": "073e80ae",
   "metadata": {},
   "source": [
    "1번 인덱스에 위치한 황현의 나이를 확인하려면 1번, 2번 인덱싱을 연속 적용한다."
   ]
  },
  {
   "cell_type": "code",
   "execution_count": 93,
   "id": "84e1af47",
   "metadata": {},
   "outputs": [
    {
     "data": {
      "text/plain": [
       "19"
      ]
     },
     "execution_count": 93,
     "metadata": {},
     "output_type": "execute_result"
    }
   ],
   "source": [
    "info_list[1][2]"
   ]
  },
  {
   "attachments": {},
   "cell_type": "markdown",
   "id": "2cbf7871",
   "metadata": {},
   "source": [
    "황현의 이름과 나이를 함께 적어주는 게 좋아 보인다."
   ]
  },
  {
   "cell_type": "code",
   "execution_count": 94,
   "id": "34e85615",
   "metadata": {},
   "outputs": [
    {
     "name": "stdout",
     "output_type": "stream",
     "text": [
      "황현의 나이: 19세\n"
     ]
    }
   ],
   "source": [
    "hwang_name = info_list[1][0]\n",
    "hwang_age = info_list[1][2]\n",
    "\n",
    "print(f\"{hwang_name}의 나이: {hwang_age}세\")"
   ]
  },
  {
   "attachments": {},
   "cell_type": "markdown",
   "id": "ff2fbba3",
   "metadata": {},
   "source": [
    "인덱싱과 인덱싱을 조합하듯이 인덱싱과 슬라이싱 또한 원하는 대로 조합할 수 있다.\n",
    "아래 코드는 예를 들어 홀수 인덱스에 위치한 황현, 최흥선, 함중아의 나이만 확인한다."
   ]
  },
  {
   "cell_type": "code",
   "execution_count": 95,
   "id": "670abd73",
   "metadata": {},
   "outputs": [
    {
     "name": "stdout",
     "output_type": "stream",
     "text": [
      "황현 19\n",
      "최흥선 21\n",
      "함중아 18\n"
     ]
    }
   ],
   "source": [
    "for person in info_list[1::2]:    # 김강현과 황현만 대상\n",
    "    print(person[0], person[2]) # 이름과 나이"
   ]
  },
  {
   "attachments": {},
   "cell_type": "markdown",
   "id": "4d64529b",
   "metadata": {},
   "source": [
    "2중으로 중첩된 `for` 반복문을 사용하여 6명 각자의 정보를 일일이 나열할 수 있다."
   ]
  },
  {
   "cell_type": "code",
   "execution_count": 96,
   "id": "d9129d9c",
   "metadata": {},
   "outputs": [
    {
     "name": "stdout",
     "output_type": "stream",
     "text": [
      "김강현\t010-1234-5678\t20\t172.5\t제주\t\n",
      "황현\t02-9871-1234\t19\t163.5\t서울\t\n",
      "남세원\t010-3456-7891\t21\t156.7\t경기\t\n",
      "최흥선\t070-4321-1111\t21\t187.2\t부산\t\n",
      "김현선\t010-3333-8888\t22\t164.6\t광주\t\n",
      "함중아\t010-7654-2345\t18\t178.3\t강원\t\n"
     ]
    }
   ],
   "source": [
    "for person in info_list:      # 6명 모두를 대상으로 반복\n",
    "\n",
    "    for item in person:\n",
    "        print(item, end='\\t') # 한 사람의 모든 정보 출력. 항목들 사이는 탭으로 구분\n",
    "    \n",
    "    print()                   # 사람들 사이의 구분을 위해 줄 바꿈"
   ]
  },
  {
   "attachments": {},
   "cell_type": "markdown",
   "id": "1b874113",
   "metadata": {},
   "source": [
    "원하는 정보만 뽑기위해서도 중첩된 `for` 반복문이 필요할 수 있다.\n",
    "예를 들어 아래 코드는 나이가 21살인 사람의 정보만 출력한다."
   ]
  },
  {
   "cell_type": "code",
   "execution_count": 97,
   "id": "1df99aac",
   "metadata": {},
   "outputs": [
    {
     "name": "stdout",
     "output_type": "stream",
     "text": [
      "남세원\t010-3456-7891\t21\t156.7\t경기\t\n",
      "최흥선\t070-4321-1111\t21\t187.2\t부산\t\n"
     ]
    }
   ],
   "source": [
    "for person in info_list:\n",
    "    if 21 == person[2]:           # 나이가 21살인 사람만 선택\n",
    "        for item in person:\n",
    "            print(item, end='\\t')\n",
    "    \n",
    "        print()"
   ]
  },
  {
   "attachments": {},
   "cell_type": "markdown",
   "id": "dc0d3b01",
   "metadata": {},
   "source": [
    "반면에 아래 코드는 이름에 \"현\" 자가 포함된 사람의 정보만 출력한다."
   ]
  },
  {
   "cell_type": "code",
   "execution_count": 98,
   "id": "e050a173",
   "metadata": {},
   "outputs": [
    {
     "name": "stdout",
     "output_type": "stream",
     "text": [
      "김강현\t010-1234-5678\t20\t172.5\t제주\t\n",
      "황현\t02-9871-1234\t19\t163.5\t서울\t\n",
      "김현선\t010-3333-8888\t22\t164.6\t광주\t\n"
     ]
    }
   ],
   "source": [
    "for person in info_list:\n",
    "    if '현' in person[0]:         # 이름에 \"현\" 자가 포함된 사람만 선택\n",
    "        for item in person:\n",
    "            print(item, end='\\t')\n",
    "    \n",
    "        print()"
   ]
  },
  {
   "attachments": {},
   "cell_type": "markdown",
   "id": "2d4dc2e9",
   "metadata": {},
   "source": [
    "\"현\"으로 끝나는 경우만 다루려면 `endswith()` 문자열 메서드를 이용한다."
   ]
  },
  {
   "cell_type": "code",
   "execution_count": 99,
   "id": "9571cd0e",
   "metadata": {},
   "outputs": [
    {
     "name": "stdout",
     "output_type": "stream",
     "text": [
      "김강현\t010-1234-5678\t20\t172.5\t제주\t\n",
      "황현\t02-9871-1234\t19\t163.5\t서울\t\n"
     ]
    }
   ],
   "source": [
    "for person in info_list:\n",
    "    if person[0].endswith('현'):         # 이름이 \"현\" 자로 끝나난 사람만 선택\n",
    "        for item in person:\n",
    "            print(item, end='\\t')\n",
    "    \n",
    "        print()"
   ]
  },
  {
   "attachments": {},
   "cell_type": "markdown",
   "id": "2f3ba194",
   "metadata": {},
   "source": [
    "### 리스트 메서드 "
   ]
  },
  {
   "attachments": {},
   "cell_type": "markdown",
   "id": "b478407f",
   "metadata": {},
   "source": [
    "모든 모음 자료형의 기본 용도는 여러 개의 항목을 묶어\n",
    "하나의 값으로 다루면서 필요에 따라 항목을 탐색하고 추출해서 활용하는 것이다.\n",
    "리스트, 사전, 집합처럼 가변인 모음 자료형은 또한\n",
    "항목을 추가하고 삭제할 수 있는 기능도 지원한다.\n",
    "리스트는 여기에 더해 항목들을 크기 순으로 정렬하거나 순서를 지정할 수 있는 기능도 지원한다.\n",
    "가장 활용도가 높은 리스트 메서드는 다음과 같다."
   ]
  },
  {
   "attachments": {},
   "cell_type": "markdown",
   "id": "8d2c117d",
   "metadata": {},
   "source": [
    ":::{list-table} 리스트 주요 메서드\n",
    ":widths: 12 10 38\n",
    ":header-rows: 1\n",
    ":name: list-methods\n",
    "\n",
    "*   - 기능\n",
    "    - 메서드\n",
    "    - 설명\n",
    "*   - 복사\n",
    "    - `copy()`\n",
    "    - 리스트의 사본을 만들어 반환.\n",
    "*   - 추가/삽입/확장\n",
    "    - `append()`\n",
    "    - 리스트 끝에 항목 추가. 반환값은 `None`.\n",
    "*   - \n",
    "    - `insert()`\n",
    "    - 지정된 인덱스에 항목 삽입. 반환값은 `None`.\n",
    "*   - \n",
    "    - `extend()`\n",
    "    - 다른 리스트를 연결하여 확장. 반환값은 `None`.\n",
    "*   - 삭제\n",
    "    - `pop()`\n",
    "    - 지정된 인덱스의 항목 반환 후 삭제.\n",
    "*   - \n",
    "    - `remove()`\n",
    "    - 가장 왼쪽에 위치한 지정된 항목 삭제. 반환값은 `None`.\n",
    "*   - 정렬\n",
    "    - `sort()`\n",
    "    - 리스트의 항목을 크기 순으로 정렬. 반환값은 `None`.\n",
    "*   - \n",
    "    - `reverse()`\n",
    "    - 리스트의 항목들 순서 뒤집기. 반환값은 `None`.\n",
    "*   - 탐색\n",
    "    - `index()`\n",
    "    - 리스트의 가장 왼쪽에 위치한 지정된 항목의 인덱스 반환.\n",
    "*   -\n",
    "    - `count()`\n",
    "    - 리스트에서 지정된 항목이 등장한 횟수 반환\n",
    ":::"
   ]
  },
  {
   "attachments": {},
   "cell_type": "markdown",
   "id": "cac47bc1",
   "metadata": {},
   "source": [
    "6명의 키와 몸무게 정보를 이용하여 비만도를 측정하는 체질량지수(BMI)를 계산해서 활용하는 과정을 통해 \n",
    "{numref}`Table %s <list-methods>`에 포함된 주요 리스트 메서드의 기능을 소개한다.\n",
    "\n",
    "6명의 기본 정보는 다음과 같다."
   ]
  },
  {
   "cell_type": "code",
   "execution_count": 100,
   "id": "6a0902d5",
   "metadata": {},
   "outputs": [
    {
     "data": {
      "text/plain": [
       "[['김강현', '010-1234-5678', 20, 172.5, '제주'],\n",
       " ['황현', '02-9871-1234', 19, 163.5, '서울'],\n",
       " ['남세원', '010-3456-7891', 21, 156.7, '경기'],\n",
       " ['최흥선', '070-4321-1111', 21, 187.2, '부산'],\n",
       " ['김현선', '010-3333-8888', 22, 164.6, '광주'],\n",
       " ['함중아', '010-7654-2345', 18, 178.3, '강원']]"
      ]
     },
     "execution_count": 100,
     "metadata": {},
     "output_type": "execute_result"
    }
   ],
   "source": [
    "info_list"
   ]
  },
  {
   "attachments": {},
   "cell_type": "markdown",
   "id": "e1a489dd",
   "metadata": {},
   "source": [
    "추가로 `weight_list` 변수가 6명의 몸무게로 구성된 리스트를 가리킨다고 가정한다."
   ]
  },
  {
   "cell_type": "code",
   "execution_count": 101,
   "id": "96291e87",
   "metadata": {},
   "outputs": [],
   "source": [
    "weight_list = [65.3, 51.5, 48.0, 81.4, 53.8, 90.1]"
   ]
  },
  {
   "attachments": {},
   "cell_type": "markdown",
   "id": "afbd6967",
   "metadata": {},
   "source": [
    "체질량지수는 몸무게(kg)를 키(m)의 제곱으로 나눈 값이다. \n",
    "\n",
    "$$\n",
    "\\mathrm{bmi} = \\frac{\\mathrm{몸무게(kg)}}{\\mathrm{키(m)}^2}\n",
    "$$"
   ]
  },
  {
   "attachments": {},
   "cell_type": "markdown",
   "id": "f41a72c0",
   "metadata": {},
   "source": [
    "**`copy()` 메서드**"
   ]
  },
  {
   "attachments": {},
   "cell_type": "markdown",
   "id": "420977ce",
   "metadata": {},
   "source": [
    "리스트는 가변 자료형이기에 인덱싱, 슬라이싱을 포함하여 아래에서 소개하는 많은 메서드에 의해\n",
    "수정될 수 있다. \n",
    "하지만 경우에 따라 주어진 리스트는 전혀 건드리지 않으면서 리스트를 이용할 필요가 있다.\n",
    "그럴 때 `copy()` 메서드로 사본을 만들어 이용한다.\n",
    "\n",
    "예를 들어, 아래 코드는 변수 `x`가 가리키는 리스트의 사본을 만들어 변수 `y`에 할당한다.\n",
    "그 다음에 `y`가 가리키는 리스트의 0번 인덱스 항목을 수정하지만 변수 `x`가 \n",
    "가리키는 리스트는 전혀 변하지 않는다."
   ]
  },
  {
   "cell_type": "code",
   "execution_count": 102,
   "id": "99eddec0",
   "metadata": {},
   "outputs": [
    {
     "name": "stdout",
     "output_type": "stream",
     "text": [
      "y: [10, 2, 3]\n",
      "x: [1, 2, 3]\n"
     ]
    }
   ],
   "source": [
    "x  = [1, 2, 3]\n",
    "y = x.copy()\n",
    "y[0] = 10      # 0번 인데스 항목 수정\n",
    "\n",
    "print(\"y:\", y) # 수정됨\n",
    "print(\"x:\", x) # 불변"
   ]
  },
  {
   "attachments": {},
   "cell_type": "markdown",
   "id": "28262409",
   "metadata": {},
   "source": [
    "아래 그림은 두 변수 `x`와 `y`가 선언된 순간의 메모리 상태를 보여준다.\n",
    "`x`와 `y`가 동일하게 생겼지만 각각 서로 다른 리스트 객체를 가리킨다."
   ]
  },
  {
   "attachments": {},
   "cell_type": "markdown",
   "id": "5cd3ed8d",
   "metadata": {},
   "source": [
    "<div align=\"center\" border=\"1px\"><img src=\"https://raw.githubusercontent.com/codingalzi/pybook/master/jupyter-book/images/list-copy-01.png\" width=\"800\"/></div>\n",
    "\n",
    "<p><div style=\"text-align: center\">&lt;그림 출처: <a href=\"https://pythontutor.com/render.html#code=x%20%20%3D%20%5B1,%202,%203%5D%0Ay%20%3D%20x.copy%28%29%0Ay%5B0%5D%20%3D%2010&cumulative=false&curInstr=0&heapPrimitives=nevernest&mode=display&origin=opt-frontend.js&py=3&rawInputLstJSON=%5B%5D&textReferences=false\">Python Tutor</a>&gt;</div></p>"
   ]
  },
  {
   "attachments": {},
   "cell_type": "markdown",
   "id": "d83be4b7",
   "metadata": {},
   "source": [
    "아래 그림은 `y`가 가리키는 리스트의 첫째 항목이 10으로 업데이트된 이후의 메모리 상태를 보여주며,\n",
    "변수 `x`가 가리키는 리스트는 전혀 수정되지 않는다."
   ]
  },
  {
   "attachments": {},
   "cell_type": "markdown",
   "id": "93dd0b68",
   "metadata": {},
   "source": [
    "<div align=\"center\" border=\"1px\"><img src=\"https://raw.githubusercontent.com/codingalzi/pybook/master/jupyter-book/images/list-copy-02.png\" width=\"800\"/></div>\n",
    "\n",
    "<p><div style=\"text-align: center\">&lt;그림 출처: <a href=\"https://pythontutor.com/render.html#code=x%20%20%3D%20%5B1,%202,%203%5D%0Ay%20%3D%20x.copy%28%29%0Ay%5B0%5D%20%3D%2010&cumulative=false&curInstr=0&heapPrimitives=nevernest&mode=display&origin=opt-frontend.js&py=3&rawInputLstJSON=%5B%5D&textReferences=false\">Python Tutor</a>&gt;</div></p>"
   ]
  },
  {
   "attachments": {},
   "cell_type": "markdown",
   "id": "c5fb208e",
   "metadata": {},
   "source": [
    "반면에 아래 코드에서처럼 사본을 만들지 않으면 리스트 원본이 함께 수정된다.\n",
    "이유는 `x`와 `y`가 동일한 리스트 객체를 가리키기 때문이다. "
   ]
  },
  {
   "cell_type": "code",
   "execution_count": 103,
   "id": "c86c95df",
   "metadata": {},
   "outputs": [
    {
     "name": "stdout",
     "output_type": "stream",
     "text": [
      "x: [10, 2, 3]\n",
      "y: [10, 2, 3]\n"
     ]
    }
   ],
   "source": [
    "x  = [1, 2, 3]\n",
    "y = x\n",
    "y[0] = 10      # 0번 인데스 항목 수정\n",
    "\n",
    "print(\"x:\", x)\n",
    "print(\"y:\", y)"
   ]
  },
  {
   "attachments": {},
   "cell_type": "markdown",
   "id": "762a835b",
   "metadata": {},
   "source": [
    "아래 그림은 두 변수 `x`와 `y`가 선언된 순간의 메모리 상태를 보여준다.\n",
    "`x`와 `y`가 동일한 리스트 객체를 가리킨다."
   ]
  },
  {
   "attachments": {},
   "cell_type": "markdown",
   "id": "674e40df",
   "metadata": {},
   "source": [
    "<div align=\"center\" border=\"1px\"><img src=\"https://raw.githubusercontent.com/codingalzi/pybook/master/jupyter-book/images/list-copy-03.png\" width=\"800\"/></div>\n",
    "\n",
    "<p><div style=\"text-align: center\">&lt;그림 출처: <a href=\"https://pythontutor.com/render.html#code=x%20%20%3D%20%5B1,%202,%203%5D%0Ay%20%3D%20x%0Ay%5B0%5D%20%3D%2010&cumulative=false&curInstr=0&heapPrimitives=nevernest&mode=display&origin=opt-frontend.js&py=3&rawInputLstJSON=%5B%5D&textReferences=false\">Python Tutor</a>&gt;</div></p>"
   ]
  },
  {
   "attachments": {},
   "cell_type": "markdown",
   "id": "16bb2f0c",
   "metadata": {},
   "source": [
    "아래 그림은 `y`가 가리키는 리스트의 첫째 항목이 10으로 업데이트되면\n",
    "`x`가 동일한 리스트를 가리키기에 0번 인덱스 항목이 똑같이 10이 된다."
   ]
  },
  {
   "attachments": {},
   "cell_type": "markdown",
   "id": "97fa11d9",
   "metadata": {},
   "source": [
    "<div align=\"center\" border=\"1px\"><img src=\"https://raw.githubusercontent.com/codingalzi/pybook/master/jupyter-book/images/list-copy-04.png\" width=\"800\"/></div>\n",
    "\n",
    "<p><div style=\"text-align: center\">&lt;그림 출처: <a href=\"https://pythontutor.com/render.html#code=x%20%20%3D%20%5B1,%202,%203%5D%0Ay%20%3D%20x%0Ay%5B0%5D%20%3D%2010&cumulative=false&curInstr=0&heapPrimitives=nevernest&mode=display&origin=opt-frontend.js&py=3&rawInputLstJSON=%5B%5D&textReferences=false\">Python Tutor</a>&gt;</div></p>"
   ]
  },
  {
   "attachments": {},
   "cell_type": "markdown",
   "id": "02675f0d-305a-4264-9daa-00d7df37dd23",
   "metadata": {},
   "source": [
    "**`append()` 메서드**"
   ]
  },
  {
   "attachments": {},
   "cell_type": "markdown",
   "id": "578e921e",
   "metadata": {},
   "source": [
    "6명의 키 정보로 구성된 리스트를 `height_list`가 가리키도록 하자.\n",
    "키 정보는 각 리스트에서 3번 인덱스 항목이기에 다음과 같이\n",
    "`for` 반복문과 인덱싱을 이용하면 쉽게 리스트로 추출할 수 있다."
   ]
  },
  {
   "cell_type": "code",
   "execution_count": 104,
   "id": "be4a274a",
   "metadata": {},
   "outputs": [
    {
     "data": {
      "text/plain": [
       "[172.5, 163.5, 156.7, 187.2, 164.6, 178.3]"
      ]
     },
     "execution_count": 104,
     "metadata": {},
     "output_type": "execute_result"
    }
   ],
   "source": [
    "height_list = []\n",
    "\n",
    "for person in info_list:\n",
    "    height_list += [person[3]] # 이어붙이기\n",
    "\n",
    "height_list"
   ]
  },
  {
   "attachments": {},
   "cell_type": "markdown",
   "id": "d062e5f9",
   "metadata": {},
   "source": [
    "위 코드는 이전처럼 이어붙이기 연산자인 `+`를 이용하였는데\n",
    "`+` 연산자는 이어서 소개할 `extend()` 메서드와 유사한 기능을 갖는다.\n",
    "반면에 `append()` 메서드는 기존 리스트의 끝에 하나의 항목을 추가한다.\n",
    "이 기능을 이용하여 위 코드를 수정하면 다음과 같다."
   ]
  },
  {
   "cell_type": "code",
   "execution_count": 105,
   "id": "2fe8eda9",
   "metadata": {},
   "outputs": [
    {
     "data": {
      "text/plain": [
       "[172.5, 163.5, 156.7, 187.2, 164.6, 178.3]"
      ]
     },
     "execution_count": 105,
     "metadata": {},
     "output_type": "execute_result"
    }
   ],
   "source": [
    "height_list = []\n",
    "\n",
    "for person in info_list:\n",
    "    height_list.append(person[3]) # append() 메서드를 사용하여 리스트에 항목 추가\n",
    "\n",
    "height_list"
   ]
  },
  {
   "attachments": {},
   "cell_type": "markdown",
   "id": "912f8ae1",
   "metadata": {},
   "source": [
    "이제 6명의 체질량지수로 구성된 리스트를 생성할 수 있다.\n",
    "i번 인덱스에 해당하는 사람의 체질량 지수는 다음과 같이 계산된다.\n",
    "\n",
    "```python\n",
    "bmi = weight_list[i] / (height_list[i]/100)**2\n",
    "```\n",
    "\n",
    "`(height_list[i]/100)`는 센티미터(cm) 단위를 미터(m) 단위로 변경한다.\n",
    "또한 체질량지수를 소수점 이하 둘째 자리에서 반올림해서 보다 간단하게 표현하기 위해 `round()` 함수도 이용한다.\n",
    "`round()` 함수는 반올림을 이용하여 소수점 이하 자리수를 제한한다. \n",
    "아래 코드는 체질량지수를 소수점 이하 첫째 자리까지만 계산한다."
   ]
  },
  {
   "cell_type": "code",
   "execution_count": 106,
   "id": "92c4634d",
   "metadata": {},
   "outputs": [
    {
     "data": {
      "text/plain": [
       "[21.9, 19.3, 19.5, 23.2, 19.9, 28.3]"
      ]
     },
     "execution_count": 106,
     "metadata": {},
     "output_type": "execute_result"
    }
   ],
   "source": [
    "bmi_list = []\n",
    "\n",
    "for i in range(len(info_list)):\n",
    "    bmi = weight_list[i] / (height_list[i]/100)**2  # 체질량지수\n",
    "    bmi = round(bmi, 1)                             # 소수점 둘째 자리에서 반올림\n",
    "    bmi_list.append(bmi)\n",
    "\n",
    "bmi_list"
   ]
  },
  {
   "attachments": {},
   "cell_type": "markdown",
   "id": "084ba6f1",
   "metadata": {},
   "source": [
    "**`insert()` 메서드**"
   ]
  },
  {
   "attachments": {},
   "cell_type": "markdown",
   "id": "590a51bc",
   "metadata": {},
   "source": [
    "`append()` 메서드는 리스트의 끝에 항목을 추가한다.\n",
    "반면에 `insert()` 메서드는 특정 위치에 항목을 삽입한다.\n",
    "항목이 삽입되면 원래 그 위치를 포함해서 오른쪽에 위치했던 항목들은\n",
    "모두 한 칸씩 오른쪽으로 이동된다.\n",
    "\n",
    "아래 코드는 1번 인덱스 자리에 2를 삽입하여 1부터 4까지의 정수로 구성된 리스트를 완성한다."
   ]
  },
  {
   "cell_type": "code",
   "execution_count": 107,
   "id": "29aa728e",
   "metadata": {},
   "outputs": [
    {
     "data": {
      "text/plain": [
       "[1, 2, 3, 4]"
      ]
     },
     "execution_count": 107,
     "metadata": {},
     "output_type": "execute_result"
    }
   ],
   "source": [
    "x = [1, 3, 4]\n",
    "x.insert(1, 2) # 1번 인덱스에 2 삽입\n",
    "x"
   ]
  },
  {
   "attachments": {},
   "cell_type": "markdown",
   "id": "90b91d18",
   "metadata": {},
   "source": [
    "아래 코드는 `height_list`를 `insert()` 메서드를 이용하여 생성한다.\n",
    "그리고 삽입을 일부러 0번 인덱스로 한다. \n",
    "그러면 `info_list`의 항목을 역순으로 선택해야 하기에 역순 슬라이싱을 이용한다."
   ]
  },
  {
   "cell_type": "code",
   "execution_count": 108,
   "id": "9466a864",
   "metadata": {},
   "outputs": [
    {
     "data": {
      "text/plain": [
       "[172.5, 163.5, 156.7, 187.2, 164.6, 178.3]"
      ]
     },
     "execution_count": 108,
     "metadata": {},
     "output_type": "execute_result"
    }
   ],
   "source": [
    "height_list = []\n",
    "\n",
    "for person in info_list[::-1]:\n",
    "    height_list.insert(0, person[3]) # 0번 인덱스에 키 정보 삽입\n",
    "\n",
    "height_list"
   ]
  },
  {
   "attachments": {},
   "cell_type": "markdown",
   "id": "4b003abe",
   "metadata": {},
   "source": [
    "`append()` 메서드처럼 마지막 항목으로 추가하기 위해 -1을 첫째 인자로 지정하고 \n",
    "역순 슬라이싱을 사용하지 않으면 다른 결과가 나옴에 주의한다.\n",
    "이유는 기존에 위치한 마지막 인덱스가 뒤로 오른쪽으로 밀리기 때문이다.\n",
    "즉, 가장 먼저 리스트에 삽입된 이강현의 키가 계속해서 오른쪽에 밀린다. "
   ]
  },
  {
   "cell_type": "code",
   "execution_count": 109,
   "id": "2610af28",
   "metadata": {},
   "outputs": [
    {
     "data": {
      "text/plain": [
       "[163.5, 156.7, 187.2, 164.6, 178.3, 172.5]"
      ]
     },
     "execution_count": 109,
     "metadata": {},
     "output_type": "execute_result"
    }
   ],
   "source": [
    "height_list = []\n",
    "\n",
    "for person in info_list:\n",
    "    height_list.insert(-1, person[3]) # 0번 인덱스에 키 정보 삽입\n",
    "\n",
    "height_list"
   ]
  },
  {
   "attachments": {},
   "cell_type": "markdown",
   "id": "ed99fe30",
   "metadata": {},
   "source": [
    "`append()` 메서드처럼 마지막 항목으로 추가하려면 인덱스 위치를 리스트의 길이보다 같거나 큰 값을 지정하면 된다."
   ]
  },
  {
   "cell_type": "code",
   "execution_count": 110,
   "id": "d8a16471",
   "metadata": {},
   "outputs": [
    {
     "data": {
      "text/plain": [
       "[172.5, 163.5, 156.7, 187.2, 164.6, 178.3]"
      ]
     },
     "execution_count": 110,
     "metadata": {},
     "output_type": "execute_result"
    }
   ],
   "source": [
    "height_list = []\n",
    "\n",
    "for person in info_list:\n",
    "    height_list.insert(len(height_list), person[3]) # 0번 인덱스에 키 정보 삽입\n",
    "\n",
    "height_list"
   ]
  },
  {
   "attachments": {},
   "cell_type": "markdown",
   "id": "0ce729f4",
   "metadata": {},
   "source": [
    "**`extend()` 메서드**"
   ]
  },
  {
   "attachments": {},
   "cell_type": "markdown",
   "id": "daff38f1",
   "metadata": {},
   "source": [
    "`info_list` 변수가 가리키는 중첩 리스트에 6명 각각의 몸무게와 체질량지수 정보를 추가하기 위해\n",
    "먼저 몸무게와 체질량지수로 구성된 길이가 2인 리스트를 생성한 후에\n",
    "`extend()` 메서드를 이용하여 6명 각각의 정보를 담은 리스트를 확장한다.\n",
    "\n",
    "예를 들어, 김강현의 몸무게와 체질량지수로 구성된 리스트는 다음과 같다."
   ]
  },
  {
   "cell_type": "code",
   "execution_count": 111,
   "id": "4b4010f0",
   "metadata": {},
   "outputs": [
    {
     "data": {
      "text/plain": [
       "[65.3, 21.9]"
      ]
     },
     "execution_count": 111,
     "metadata": {},
     "output_type": "execute_result"
    }
   ],
   "source": [
    "kgh_weight_bmi = [weight_list[0], bmi_list[0]]\n",
    "kgh_weight_bmi"
   ]
  },
  {
   "attachments": {},
   "cell_type": "markdown",
   "id": "757e2fab",
   "metadata": {},
   "source": [
    "아래 코드는 김강현의 정보를 담은 리스트에 위 리스트를 연결하여 확장한다.\n",
    "`kgh` 변수가 가리키는 리스트를 직접 건드리지 않기 위해\n",
    "`copy()` 메서드를 이용하여 먼저 사본을 만든 다음에 리스트를 확장한다."
   ]
  },
  {
   "cell_type": "code",
   "execution_count": 112,
   "id": "3d2ee71b",
   "metadata": {},
   "outputs": [
    {
     "data": {
      "text/plain": [
       "['김강현', '010-1234-5678', 20, 172.5, '제주', 65.3, 21.9]"
      ]
     },
     "execution_count": 112,
     "metadata": {},
     "output_type": "execute_result"
    }
   ],
   "source": [
    "kgh_copy = kgh.copy()\n",
    "kgh_copy.extend(kgh_weight_bmi)\n",
    "kgh_copy"
   ]
  },
  {
   "attachments": {},
   "cell_type": "markdown",
   "id": "ba5d231a",
   "metadata": {},
   "source": [
    "동일한 작업을 6명 전원에 대해 적용하려면 `info_list`의 항목을 대상으로\n",
    "`for` 반복문을 싱행한다. \n",
    "하지만 아래 방식은 곤란하다.\n",
    "\n",
    "```python\n",
    "for person in info_list:\n",
    "    ...\n",
    "```\n",
    "\n",
    "이유는 `info`가 가리키는 항목의 인덱스 정보를 알아야만 `weight_list`와 `bmi_list`에서\n",
    "해당 위치의 항목을 추출할 수 있기 때문이다.\n",
    "\n",
    "해결책으로 `range()` 함수와 인덱싱을 활용한다.\n",
    "그러면 언급된 세 개의 리스트 `info_list`, `weight_list`, `bmi_list` 모두에 대해\n",
    "동시에 인덱싱을 적용할 수 있다.\n"
   ]
  },
  {
   "cell_type": "code",
   "execution_count": 113,
   "id": "ef0592c2",
   "metadata": {},
   "outputs": [
    {
     "data": {
      "text/plain": [
       "[['김강현', '010-1234-5678', 20, 172.5, '제주', 65.3, 21.9],\n",
       " ['황현', '02-9871-1234', 19, 163.5, '서울', 51.5, 19.3],\n",
       " ['남세원', '010-3456-7891', 21, 156.7, '경기', 48.0, 19.5],\n",
       " ['최흥선', '070-4321-1111', 21, 187.2, '부산', 81.4, 23.2],\n",
       " ['김현선', '010-3333-8888', 22, 164.6, '광주', 53.8, 19.9],\n",
       " ['함중아', '010-7654-2345', 18, 178.3, '강원', 90.1, 28.3]]"
      ]
     },
     "execution_count": 113,
     "metadata": {},
     "output_type": "execute_result"
    }
   ],
   "source": [
    "for i in range(len(info_list)):\n",
    "    weight_bmi_i = [weight_list[i], bmi_list[i]] # i번째 사람의 몸무게와 체질량지수\n",
    "    info_list[i].extend(weight_bmi_i)            # i번째 사람의 정보 확장\n",
    "\n",
    "info_list"
   ]
  },
  {
   "cell_type": "code",
   "execution_count": 114,
   "id": "63d384a2",
   "metadata": {},
   "outputs": [
    {
     "data": {
      "text/plain": [
       "['김강현', '010-1234-5678', 20, 172.5, '제주', 65.3, 21.9]"
      ]
     },
     "execution_count": 114,
     "metadata": {},
     "output_type": "execute_result"
    }
   ],
   "source": [
    "kgh"
   ]
  },
  {
   "attachments": {},
   "cell_type": "markdown",
   "id": "24bf499b",
   "metadata": {},
   "source": [
    ":::{admonition} `extend()` 메서드 대 이어붙이기 `+` 연산자\n",
    ":class: note\n",
    "\n",
    "`+` 연산자는 리스트 두개를 이어붙여 완전히 새로운 리스트를 생성한다.\n",
    "\n",
    "```python\n",
    ">>> kgh = ['김강현', '010-1234-5678', 20, 172.5, '제주', 65.3, 21.9]\n",
    ">>> kgh_weight_bmi = [65.3, 21.9]\n",
    ">>> kgh + kgh_wedith_bmi\n",
    "['김강현', '010-1234-5678', 20, 172.5, '제주', 65.3, 21.9, 65.3, 21.9]\n",
    ">>> kgh # 변경되지 않음\n",
    "['김강현', '010-1234-5678', 20, 172.5, '제주', 65.3, 21.0]\n",
    "```\n",
    "\n",
    "반면에 `extend()` 메서드는 기존 리스트에 새로운 리스트를 이어붙이는 방식으로 확장한다.\n",
    "즉, 기존의 리스트를 수정한다.\n",
    "\n",
    "```python\n",
    ">>> kgh.extend(kgh_wedith_bmi)\n",
    ">>> kgh # 확장됨\n",
    "['김강현', '010-1234-5678', 20, 172.5, '제주', 65.3, 21.9, 65.3, 21.9]\n",
    "```\n",
    ":::"
   ]
  },
  {
   "attachments": {},
   "cell_type": "markdown",
   "id": "fe649079-71ea-4b80-8c72-0cd3561d0b16",
   "metadata": {},
   "source": [
    "**`pop()` 메서드**"
   ]
  },
  {
   "attachments": {},
   "cell_type": "markdown",
   "id": "7db53f73",
   "metadata": {},
   "source": [
    "`pop()` 메서드는 지정된 인덱스의 항목을 반환하는 동시에 리스트에서 삭제한다.\n",
    "설명을 위해 6명의 이름으로 구성된 아래 리스트를 이용한다."
   ]
  },
  {
   "cell_type": "code",
   "execution_count": 115,
   "id": "ead6cc8b",
   "metadata": {},
   "outputs": [
    {
     "data": {
      "text/plain": [
       "['김강현', '황현', '남세원', '최흥선', '김현선', '함중아']"
      ]
     },
     "execution_count": 115,
     "metadata": {},
     "output_type": "execute_result"
    }
   ],
   "source": [
    "name_list"
   ]
  },
  {
   "attachments": {},
   "cell_type": "markdown",
   "id": "8b8a7248",
   "metadata": {},
   "source": [
    "남세원 이름을 리스트에서 삭제하면서 동시에 반환하려면 남세원이 위치한 곳의 인덱스인 2를 인자로 지정한다."
   ]
  },
  {
   "cell_type": "code",
   "execution_count": 116,
   "id": "23d92bb8",
   "metadata": {},
   "outputs": [],
   "source": [
    "namgung_name = name_list.pop(2)"
   ]
  },
  {
   "attachments": {},
   "cell_type": "markdown",
   "id": "3d4769c2",
   "metadata": {},
   "source": [
    "2번 인덱스의 항목인 남세원이 `name_list`에서 삭제되었다.\n",
    "삭제된 항목의 오른쪽에 위치한 항목은 한 칸씩 왼쪽으로 이동한다."
   ]
  },
  {
   "cell_type": "code",
   "execution_count": 117,
   "id": "2920416f",
   "metadata": {},
   "outputs": [
    {
     "data": {
      "text/plain": [
       "['김강현', '황현', '최흥선', '김현선', '함중아']"
      ]
     },
     "execution_count": 117,
     "metadata": {},
     "output_type": "execute_result"
    }
   ],
   "source": [
    "name_list"
   ]
  },
  {
   "attachments": {},
   "cell_type": "markdown",
   "id": "70225a19",
   "metadata": {},
   "source": [
    "`pop()` 함수는 삭제된 이름을 반환하며, 해당 이름이 `namgung_name`에 할당되었다."
   ]
  },
  {
   "cell_type": "code",
   "execution_count": 118,
   "id": "b4d1ee36",
   "metadata": {},
   "outputs": [
    {
     "data": {
      "text/plain": [
       "'남세원'"
      ]
     },
     "execution_count": 118,
     "metadata": {},
     "output_type": "execute_result"
    }
   ],
   "source": [
    "namgung_name"
   ]
  },
  {
   "attachments": {},
   "cell_type": "markdown",
   "id": "dc85f19c",
   "metadata": {},
   "source": [
    "`name_list`를 원래대로 되돌려 놓기 위해 `insert()` 메서드를 이용하여 2번 인덱스에 이름을 삽입한다."
   ]
  },
  {
   "cell_type": "code",
   "execution_count": 119,
   "id": "f2a9a0a7-bcab-42d9-a371-0aeba82911f3",
   "metadata": {},
   "outputs": [],
   "source": [
    "name_list.insert(2, namgung_name)"
   ]
  },
  {
   "cell_type": "code",
   "execution_count": 120,
   "id": "70c74540",
   "metadata": {},
   "outputs": [
    {
     "data": {
      "text/plain": [
       "['김강현', '황현', '남세원', '최흥선', '김현선', '함중아']"
      ]
     },
     "execution_count": 120,
     "metadata": {},
     "output_type": "execute_result"
    }
   ],
   "source": [
    "name_list"
   ]
  },
  {
   "attachments": {},
   "cell_type": "markdown",
   "id": "33fc64f7",
   "metadata": {},
   "source": [
    "`pop()` 메서드의 인자를 지정하지 않으면 -1이 인자로 사용되어 마지막 항목이 삭제된 후 반환된다."
   ]
  },
  {
   "cell_type": "code",
   "execution_count": 121,
   "id": "9490ed73",
   "metadata": {},
   "outputs": [
    {
     "data": {
      "text/plain": [
       "'함중아'"
      ]
     },
     "execution_count": 121,
     "metadata": {},
     "output_type": "execute_result"
    }
   ],
   "source": [
    "name_list.pop()"
   ]
  },
  {
   "attachments": {},
   "cell_type": "markdown",
   "id": "9cdc0c41",
   "metadata": {},
   "source": [
    "마지막 항목이기에 이번엔 `append()` 메서드로 함중아 이름을 항목으로 되돌린다."
   ]
  },
  {
   "cell_type": "code",
   "execution_count": 122,
   "id": "80caa1b0",
   "metadata": {},
   "outputs": [],
   "source": [
    "name_list.append('함중아')"
   ]
  },
  {
   "cell_type": "code",
   "execution_count": 123,
   "id": "eb9c8b4a",
   "metadata": {},
   "outputs": [
    {
     "data": {
      "text/plain": [
       "['김강현', '황현', '남세원', '최흥선', '김현선', '함중아']"
      ]
     },
     "execution_count": 123,
     "metadata": {},
     "output_type": "execute_result"
    }
   ],
   "source": [
    "name_list"
   ]
  },
  {
   "attachments": {},
   "cell_type": "markdown",
   "id": "b85380cb",
   "metadata": {},
   "source": [
    "아래 코드는 `pop()` 메서드를 이용하여 `info_list`에서 몸무게와 체질량지수 항목을 삭제한다.\n",
    "6명 각각의 리스트에서 오른쪽 맨 끝에 위치한 두 개의 항목을 삭제하면 되기에 `pop()` 메서드를 두 번씩 적용한다."
   ]
  },
  {
   "cell_type": "code",
   "execution_count": 124,
   "id": "95253e0f",
   "metadata": {},
   "outputs": [
    {
     "data": {
      "text/plain": [
       "[['김강현', '010-1234-5678', 20, 172.5, '제주'],\n",
       " ['황현', '02-9871-1234', 19, 163.5, '서울'],\n",
       " ['남세원', '010-3456-7891', 21, 156.7, '경기'],\n",
       " ['최흥선', '070-4321-1111', 21, 187.2, '부산'],\n",
       " ['김현선', '010-3333-8888', 22, 164.6, '광주'],\n",
       " ['함중아', '010-7654-2345', 18, 178.3, '강원']]"
      ]
     },
     "execution_count": 124,
     "metadata": {},
     "output_type": "execute_result"
    }
   ],
   "source": [
    "for person in info_list:\n",
    "    person.pop()\n",
    "    person.pop()\n",
    "\n",
    "info_list"
   ]
  },
  {
   "attachments": {},
   "cell_type": "markdown",
   "id": "e3722388-e3c2-4702-af2c-772ec90228b7",
   "metadata": {},
   "source": [
    "**`remove()` 메서드**"
   ]
  },
  {
   "attachments": {},
   "cell_type": "markdown",
   "id": "fac70c6c",
   "metadata": {},
   "source": [
    "`remove()` 메서드는 리스트에서 지정된 항목을 삭제할 뿐 해당 항목을 반환하지 않는다.\n",
    "반환값은 없다는 의에서 `None`을 반환한다.\n",
    "동일한 항목이 여러 번 사용되었을 경우 가장 왼편에 위치한 항목을 삭제한다.\n",
    "\n",
    "연습을 위해 먼저 김강현 이름을 항목의 2번 인덱스에 추가한다."
   ]
  },
  {
   "cell_type": "code",
   "execution_count": 125,
   "id": "e0b40320-65d7-4fb3-adea-9a62bd7450f0",
   "metadata": {},
   "outputs": [
    {
     "data": {
      "text/plain": [
       "['김강현', '황현', '김강현', '남세원', '최흥선', '김현선', '함중아']"
      ]
     },
     "execution_count": 125,
     "metadata": {},
     "output_type": "execute_result"
    }
   ],
   "source": [
    "name_list.insert(2, '김강현')\n",
    "name_list"
   ]
  },
  {
   "attachments": {},
   "cell_type": "markdown",
   "id": "f954ec59",
   "metadata": {},
   "source": [
    "김강현 이름을 리스트에서 삭제하자."
   ]
  },
  {
   "cell_type": "code",
   "execution_count": 126,
   "id": "196c9eff",
   "metadata": {},
   "outputs": [],
   "source": [
    "name_list.remove('김강현')"
   ]
  },
  {
   "attachments": {},
   "cell_type": "markdown",
   "id": "53084319",
   "metadata": {},
   "source": [
    "0번 인덱스에 위치한 김강현 이름이 삭제되었지만, 2번 인덱스에 위치했던 김강현 이름은 남아 있다."
   ]
  },
  {
   "cell_type": "code",
   "execution_count": 127,
   "id": "f90e9af8",
   "metadata": {},
   "outputs": [
    {
     "data": {
      "text/plain": [
       "['황현', '김강현', '남세원', '최흥선', '김현선', '함중아']"
      ]
     },
     "execution_count": 127,
     "metadata": {},
     "output_type": "execute_result"
    }
   ],
   "source": [
    "name_list"
   ]
  },
  {
   "attachments": {},
   "cell_type": "markdown",
   "id": "3061f01f",
   "metadata": {},
   "source": [
    "김강현 이름을 완전히 삭제하려면 한 번 더 `remove()` 를 적용해야 한다."
   ]
  },
  {
   "cell_type": "code",
   "execution_count": 128,
   "id": "7f82b1ae",
   "metadata": {},
   "outputs": [
    {
     "data": {
      "text/plain": [
       "['황현', '남세원', '최흥선', '김현선', '함중아']"
      ]
     },
     "execution_count": 128,
     "metadata": {},
     "output_type": "execute_result"
    }
   ],
   "source": [
    "name_list.remove('김강현')\n",
    "name_list"
   ]
  },
  {
   "attachments": {},
   "cell_type": "markdown",
   "id": "0c573cf7",
   "metadata": {},
   "source": [
    "`name_list`를 복원하기 위해 `insert()` 메서드를 이용한다."
   ]
  },
  {
   "cell_type": "code",
   "execution_count": 129,
   "id": "8d880142",
   "metadata": {},
   "outputs": [
    {
     "data": {
      "text/plain": [
       "['김강현', '황현', '남세원', '최흥선', '김현선', '함중아']"
      ]
     },
     "execution_count": 129,
     "metadata": {},
     "output_type": "execute_result"
    }
   ],
   "source": [
    "name_list.insert(0, '김강현')\n",
    "name_list"
   ]
  },
  {
   "attachments": {},
   "cell_type": "markdown",
   "id": "672b9a26-8867-47e7-ad50-a300d3497c87",
   "metadata": {},
   "source": [
    "**`sort()` 메서드**"
   ]
  },
  {
   "attachments": {},
   "cell_type": "markdown",
   "id": "aa1de5aa",
   "metadata": {},
   "source": [
    "리스트의 각 항목들 사이의 크기를 비교할 수 있는 경우 `sort()` 메서드는 항목을 크기 순으로 정렬하는\n",
    "방식으로 주어진 리스트를 변경한다. \n",
    "즉, 주어진 리스트를 변경하는 것이지 새로운 리스트를 생성하는 것이 아님에 주의한다."
   ]
  },
  {
   "attachments": {},
   "cell_type": "markdown",
   "id": "e75d9f14",
   "metadata": {},
   "source": [
    "예를 들어 아래 코드는 `name_list`의 항목을 6명의 이름 순서로 정렬해보자.\n",
    "먼저 `name_list`에 포함된 이름의 순서는 다음과 같다."
   ]
  },
  {
   "cell_type": "code",
   "execution_count": 130,
   "id": "9579a3db",
   "metadata": {},
   "outputs": [
    {
     "data": {
      "text/plain": [
       "['김강현', '황현', '남세원', '최흥선', '김현선', '함중아']"
      ]
     },
     "execution_count": 130,
     "metadata": {},
     "output_type": "execute_result"
    }
   ],
   "source": [
    "name_list"
   ]
  },
  {
   "attachments": {},
   "cell_type": "markdown",
   "id": "a13331de",
   "metadata": {},
   "source": [
    "`sort()` 메서드로 정렬하면 가나다 순으로 정렬된다."
   ]
  },
  {
   "cell_type": "code",
   "execution_count": 131,
   "id": "646f6256-1645-4d38-9420-5e383be63feb",
   "metadata": {},
   "outputs": [],
   "source": [
    "name_list.sort()"
   ]
  },
  {
   "cell_type": "code",
   "execution_count": 132,
   "id": "d599e8e9",
   "metadata": {},
   "outputs": [
    {
     "data": {
      "text/plain": [
       "['김강현', '김현선', '남세원', '최흥선', '함중아', '황현']"
      ]
     },
     "execution_count": 132,
     "metadata": {},
     "output_type": "execute_result"
    }
   ],
   "source": [
    "name_list"
   ]
  },
  {
   "attachments": {},
   "cell_type": "markdown",
   "id": "17700215",
   "metadata": {},
   "source": [
    "`reverse=True` 키워드 인자를 지정하면 이름 역순으로 정렬한다."
   ]
  },
  {
   "cell_type": "code",
   "execution_count": 133,
   "id": "8d53f8c5",
   "metadata": {},
   "outputs": [],
   "source": [
    "name_list.sort(reverse=True)"
   ]
  },
  {
   "cell_type": "code",
   "execution_count": 134,
   "id": "3257a500",
   "metadata": {},
   "outputs": [
    {
     "data": {
      "text/plain": [
       "['황현', '함중아', '최흥선', '남세원', '김현선', '김강현']"
      ]
     },
     "execution_count": 134,
     "metadata": {},
     "output_type": "execute_result"
    }
   ],
   "source": [
    "name_list"
   ]
  },
  {
   "attachments": {},
   "cell_type": "markdown",
   "id": "5a4f4a7f",
   "metadata": {},
   "source": [
    "아래 코드는 6명의 몸무게를 크기 순으로 정렬한다.\n",
    "먼저 원래 몸무게는 다음과 같다."
   ]
  },
  {
   "cell_type": "code",
   "execution_count": 135,
   "id": "c643bf80",
   "metadata": {},
   "outputs": [
    {
     "data": {
      "text/plain": [
       "[65.3, 51.5, 48.0, 81.4, 53.8, 90.1]"
      ]
     },
     "execution_count": 135,
     "metadata": {},
     "output_type": "execute_result"
    }
   ],
   "source": [
    "weight_list"
   ]
  },
  {
   "attachments": {},
   "cell_type": "markdown",
   "id": "ee2804a7",
   "metadata": {},
   "source": [
    "리스트의 항목이 부동소수점이기에 이번에는 수의 크기 순으로 정렬한다."
   ]
  },
  {
   "cell_type": "code",
   "execution_count": 136,
   "id": "786c5dad",
   "metadata": {},
   "outputs": [],
   "source": [
    "weight_list.sort()"
   ]
  },
  {
   "cell_type": "code",
   "execution_count": 137,
   "id": "e90d4d6a",
   "metadata": {},
   "outputs": [
    {
     "data": {
      "text/plain": [
       "[48.0, 51.5, 53.8, 65.3, 81.4, 90.1]"
      ]
     },
     "execution_count": 137,
     "metadata": {},
     "output_type": "execute_result"
    }
   ],
   "source": [
    "weight_list"
   ]
  },
  {
   "attachments": {},
   "cell_type": "markdown",
   "id": "7acf28b0",
   "metadata": {},
   "source": [
    "크기 역순으로 정렬도 가능하다."
   ]
  },
  {
   "cell_type": "code",
   "execution_count": 138,
   "id": "3238d5f6",
   "metadata": {},
   "outputs": [],
   "source": [
    "weight_list.sort(reverse=True)"
   ]
  },
  {
   "cell_type": "code",
   "execution_count": 139,
   "id": "8fe22264",
   "metadata": {},
   "outputs": [
    {
     "data": {
      "text/plain": [
       "[90.1, 81.4, 65.3, 53.8, 51.5, 48.0]"
      ]
     },
     "execution_count": 139,
     "metadata": {},
     "output_type": "execute_result"
    }
   ],
   "source": [
    "weight_list"
   ]
  },
  {
   "attachments": {},
   "cell_type": "markdown",
   "id": "41e57169",
   "metadata": {},
   "source": [
    "`info_list`와 같은 보다 복잡한 리스트로 정렬이 가능하다.\n",
    "아래 코드는 6명의 정보를 이름 순으로 정렬한다."
   ]
  },
  {
   "cell_type": "code",
   "execution_count": 140,
   "id": "8d486982",
   "metadata": {},
   "outputs": [
    {
     "data": {
      "text/plain": [
       "[['김강현', '010-1234-5678', 20, 172.5, '제주'],\n",
       " ['김현선', '010-3333-8888', 22, 164.6, '광주'],\n",
       " ['남세원', '010-3456-7891', 21, 156.7, '경기'],\n",
       " ['최흥선', '070-4321-1111', 21, 187.2, '부산'],\n",
       " ['함중아', '010-7654-2345', 18, 178.3, '강원'],\n",
       " ['황현', '02-9871-1234', 19, 163.5, '서울']]"
      ]
     },
     "execution_count": 140,
     "metadata": {},
     "output_type": "execute_result"
    }
   ],
   "source": [
    "info_list.sort()\n",
    "\n",
    "info_list"
   ]
  },
  {
   "attachments": {},
   "cell_type": "markdown",
   "id": "fa3e4a09",
   "metadata": {},
   "source": [
    "위 코드가 어째서 이름 순으로 정렬하는지, 그리고 예를 들어 키 순으로 정렬할 수도 있는데 어떻게 하는 것인지 \n",
    "등에 대해서는 여기서 다루는 대신\n",
    "[Programiz: Python List sort()](https://www.programiz.com/python-programming/methods/list/sort)의 설명을\n",
    "읽을 것을 권장한다."
   ]
  },
  {
   "attachments": {},
   "cell_type": "markdown",
   "id": "05a6ffe0-e1b5-4867-84c4-36f2babfce0e",
   "metadata": {},
   "source": [
    "**`reverse()` 메서드**"
   ]
  },
  {
   "attachments": {},
   "cell_type": "markdown",
   "id": "9a2a76a1",
   "metadata": {},
   "source": [
    "리스트의 순서를 단순히 뒤집기 위해서는 `reverse()` 메서드를 적용한다.\n",
    "예를 들어 김강현의 정보에 담긴 항목의 순서를 뒤집어 보자.\n",
    "먼저 김강현의 정보는 원래 다음과 같이 이름, 전화번호, 나이, 키, 출생지 순으로\n",
    "저장되어 있다."
   ]
  },
  {
   "cell_type": "code",
   "execution_count": 141,
   "id": "bf448acf",
   "metadata": {},
   "outputs": [
    {
     "data": {
      "text/plain": [
       "['김강현', '010-1234-5678', 20, 172.5, '제주']"
      ]
     },
     "execution_count": 141,
     "metadata": {},
     "output_type": "execute_result"
    }
   ],
   "source": [
    "kgh"
   ]
  },
  {
   "attachments": {},
   "cell_type": "markdown",
   "id": "c4a97596",
   "metadata": {},
   "source": [
    "김강현의 정보를 출생지, 키, 나이, 전화번호, 이름 순으로 정렬하기 위해\n",
    "`reverse()` 메서드를 정렬한다."
   ]
  },
  {
   "cell_type": "code",
   "execution_count": 142,
   "id": "89e8ff24-c305-483c-9572-7bbf80f5af5b",
   "metadata": {},
   "outputs": [
    {
     "data": {
      "text/plain": [
       "['제주', 172.5, 20, '010-1234-5678', '김강현']"
      ]
     },
     "execution_count": 142,
     "metadata": {},
     "output_type": "execute_result"
    }
   ],
   "source": [
    "kgh.reverse()\n",
    "kgh"
   ]
  },
  {
   "attachments": {},
   "cell_type": "markdown",
   "id": "f712fce2",
   "metadata": {},
   "source": [
    "`reverse()` 메서드를 한 번 더 적용하면 원래 순서대로 돌아온다."
   ]
  },
  {
   "cell_type": "code",
   "execution_count": 143,
   "id": "cc885ac3",
   "metadata": {},
   "outputs": [
    {
     "data": {
      "text/plain": [
       "['김강현', '010-1234-5678', 20, 172.5, '제주']"
      ]
     },
     "execution_count": 143,
     "metadata": {},
     "output_type": "execute_result"
    }
   ],
   "source": [
    "kgh.reverse()\n",
    "kgh"
   ]
  },
  {
   "attachments": {},
   "cell_type": "markdown",
   "id": "8d9a241a-fd6a-4d03-a3a8-1b0c2555de8a",
   "metadata": {},
   "source": [
    "**`index()` 메서드**"
   ]
  },
  {
   "attachments": {},
   "cell_type": "markdown",
   "id": "273164c1",
   "metadata": {},
   "source": [
    "인자로 지정된 항목이 위치한 인덱스를 반환한다.\n",
    "항목이 여러 번 사용된 경우 가장 왼쪽에 위치한 곳의 인덱스를 선택한다.\n",
    "예를 `[1, 2, 3, 1, 2, 3]`에서 2가 두 번 사용되었지만 \n",
    "1번 인덱스에서 가장 먼저 사용된다."
   ]
  },
  {
   "cell_type": "code",
   "execution_count": 144,
   "id": "afd8cc2b",
   "metadata": {},
   "outputs": [
    {
     "data": {
      "text/plain": [
       "1"
      ]
     },
     "execution_count": 144,
     "metadata": {},
     "output_type": "execute_result"
    }
   ],
   "source": [
    "[1, 2, 3, 1, 2, 3].index(2)"
   ]
  },
  {
   "attachments": {},
   "cell_type": "markdown",
   "id": "2845babf",
   "metadata": {},
   "source": [
    "김강현의 이름은 `kgh`가 가리키는 리스트의 0번 인덱스에 위치한다."
   ]
  },
  {
   "cell_type": "code",
   "execution_count": 145,
   "id": "e1d3174a-de75-4af1-b3d3-057a43a4bf46",
   "metadata": {},
   "outputs": [
    {
     "data": {
      "text/plain": [
       "0"
      ]
     },
     "execution_count": 145,
     "metadata": {},
     "output_type": "execute_result"
    }
   ],
   "source": [
    "kgh.index('김강현')"
   ]
  },
  {
   "attachments": {},
   "cell_type": "markdown",
   "id": "d263a9a6",
   "metadata": {},
   "source": [
    "나이는 2번 인덱스에 위치한다."
   ]
  },
  {
   "cell_type": "code",
   "execution_count": 146,
   "id": "25208a7e",
   "metadata": {},
   "outputs": [
    {
     "data": {
      "text/plain": [
       "2"
      ]
     },
     "execution_count": 146,
     "metadata": {},
     "output_type": "execute_result"
    }
   ],
   "source": [
    "kgh.index(20)"
   ]
  },
  {
   "attachments": {},
   "cell_type": "markdown",
   "id": "b3678dd4",
   "metadata": {},
   "source": [
    "리스트의 항목으로 존재하지 않으면 `ValueError` 오류가 발생한다."
   ]
  },
  {
   "attachments": {},
   "cell_type": "markdown",
   "id": "9ab9f7a0",
   "metadata": {},
   "source": [
    "```python\n",
    ">>> kgh.index('대한민국')\n",
    "Traceback (most recent call last):\n",
    "  File \"<stdin>\", line 1, in <module>\n",
    "ValueError: '대한민국' is not in list\n",
    "```"
   ]
  },
  {
   "attachments": {},
   "cell_type": "markdown",
   "id": "5a3597de-4ae3-4279-a122-df755161cb82",
   "metadata": {},
   "source": [
    "**`count()` 메서드**"
   ]
  },
  {
   "attachments": {},
   "cell_type": "markdown",
   "id": "b3dd65d7",
   "metadata": {},
   "source": [
    "인자로 지정된 항목이 리스트에 몇 번 사용되었는지를 반환한다.\n",
    "예를 들어, `[1, 2, 3, 1, 2]`에 1과 2는 두 번, 3은 한 번 사용된다."
   ]
  },
  {
   "cell_type": "code",
   "execution_count": 147,
   "id": "7510fe9b-99d1-451e-bd2b-ea7d01d2c94a",
   "metadata": {},
   "outputs": [
    {
     "data": {
      "text/plain": [
       "2"
      ]
     },
     "execution_count": 147,
     "metadata": {},
     "output_type": "execute_result"
    }
   ],
   "source": [
    "[1, 2, 3, 1, 2].count(1)"
   ]
  },
  {
   "cell_type": "code",
   "execution_count": 148,
   "id": "f5d30ed2",
   "metadata": {},
   "outputs": [
    {
     "data": {
      "text/plain": [
       "2"
      ]
     },
     "execution_count": 148,
     "metadata": {},
     "output_type": "execute_result"
    }
   ],
   "source": [
    "[1, 2, 3, 1, 2].count(2)"
   ]
  },
  {
   "cell_type": "code",
   "execution_count": 149,
   "id": "b5f4b8bd",
   "metadata": {},
   "outputs": [
    {
     "data": {
      "text/plain": [
       "1"
      ]
     },
     "execution_count": 149,
     "metadata": {},
     "output_type": "execute_result"
    }
   ],
   "source": [
    "[1, 2, 3, 1, 2].count(3)"
   ]
  },
  {
   "attachments": {},
   "cell_type": "markdown",
   "id": "c7ec8227",
   "metadata": {},
   "source": [
    "항목이 아니면 0을 반환한다."
   ]
  },
  {
   "cell_type": "code",
   "execution_count": 150,
   "id": "7e1c709b",
   "metadata": {},
   "outputs": [
    {
     "data": {
      "text/plain": [
       "0"
      ]
     },
     "execution_count": 150,
     "metadata": {},
     "output_type": "execute_result"
    }
   ],
   "source": [
    "[1, 2, 3, 1, 2].count(4)"
   ]
  },
  {
   "attachments": {},
   "cell_type": "markdown",
   "id": "37f3b6a4",
   "metadata": {},
   "source": [
    "### 리스트 연습문제"
   ]
  },
  {
   "attachments": {},
   "cell_type": "markdown",
   "id": "253cac8b",
   "metadata": {},
   "source": [
    "`info_list` 변수는 6명의 정보를 담은 중첩 리스트를 가리킨다."
   ]
  },
  {
   "cell_type": "code",
   "execution_count": 151,
   "id": "4454678b",
   "metadata": {},
   "outputs": [
    {
     "data": {
      "text/plain": [
       "[['김강현', '010-1234-5678', 20, 172.5, '제주'],\n",
       " ['김현선', '010-3333-8888', 22, 164.6, '광주'],\n",
       " ['남세원', '010-3456-7891', 21, 156.7, '경기'],\n",
       " ['최흥선', '070-4321-1111', 21, 187.2, '부산'],\n",
       " ['함중아', '010-7654-2345', 18, 178.3, '강원'],\n",
       " ['황현', '02-9871-1234', 19, 163.5, '서울']]"
      ]
     },
     "execution_count": 151,
     "metadata": {},
     "output_type": "execute_result"
    }
   ],
   "source": [
    "info_list"
   ]
  },
  {
   "attachments": {},
   "cell_type": "markdown",
   "id": "527dc7a4",
   "metadata": {},
   "source": [
    "**문제 1**"
   ]
  },
  {
   "attachments": {},
   "cell_type": "markdown",
   "id": "95c56582",
   "metadata": {},
   "source": [
    "`info_list`에 포함된 6명의 전화번호만으로 구성된 리스트를 가리키는 `phone_list` 변수를 선언하라.\n",
    "단, `info_list`와 `for` 반복문, 인덱싱, `append()` 메서드를 반드시 활용한다."
   ]
  },
  {
   "attachments": {},
   "cell_type": "markdown",
   "id": "ce9e7682",
   "metadata": {},
   "source": [
    "*견본 답안*"
   ]
  },
  {
   "attachments": {},
   "cell_type": "markdown",
   "id": "33cdff03",
   "metadata": {},
   "source": [
    "`phone_list`를 빈 리스트로 초기화한 다음에 `for` 반복문과 인덱싱을 이용하여\n",
    "6명 각각의 정보를 담은 리스트에서 전화번호 정보가 위치한 1번 인덱스 항목을 `phone_list`에 \n",
    "`append()` 메서드로 추가한다."
   ]
  },
  {
   "cell_type": "code",
   "execution_count": 152,
   "id": "d77980d8",
   "metadata": {},
   "outputs": [
    {
     "data": {
      "text/plain": [
       "['010-1234-5678',\n",
       " '010-3333-8888',\n",
       " '010-3456-7891',\n",
       " '070-4321-1111',\n",
       " '010-7654-2345',\n",
       " '02-9871-1234']"
      ]
     },
     "execution_count": 152,
     "metadata": {},
     "output_type": "execute_result"
    }
   ],
   "source": [
    "phone_list = []                # 전화번호를 저장할 리스트 초기화\n",
    "for person in info_list:\n",
    "    phone_list.append(person[1]) # 전화번호만 추출해서 phone_list에 추가\n",
    "\n",
    "phone_list"
   ]
  },
  {
   "attachments": {},
   "cell_type": "markdown",
   "id": "aaa093ff",
   "metadata": {},
   "source": [
    "**문제 2**"
   ]
  },
  {
   "attachments": {},
   "cell_type": "markdown",
   "id": "2357887d",
   "metadata": {},
   "source": [
    "`info_list`에 포함된 6명의 출생지로 구성된 리스트를 가리키는 `birthplace_list` 변수를 선언하면서\n",
    "동시에 `info_list`에서 출생지 정보를 삭제하라.\n",
    "즉, `info_list`가 다음 모양의 중첩 리스트를 가리켜야 한다.\n",
    "\n",
    "```python\n",
    "[['김강현', '010-1234-5678', 20, 172.5],\n",
    " ['황현', '02-9871-1234', 19, 163.5],\n",
    " ['남세원', '01-3456-7891', 21, 156.7],\n",
    " ['최흥선', '070-4321-1111', 21, 187.2],\n",
    " ['김현선', '010-3333-8888', 22, 164.6],\n",
    " ['함중아', '010-7654-2345', 18, 178.3]]\n",
    "```\n",
    "\n",
    "단, `info_list`와 `for` 반복문, `pop()` 메서드를 반드시 활용한다."
   ]
  },
  {
   "attachments": {},
   "cell_type": "markdown",
   "id": "8efbc3a0",
   "metadata": {},
   "source": [
    "*견본 답안*"
   ]
  },
  {
   "attachments": {},
   "cell_type": "markdown",
   "id": "c695f703",
   "metadata": {},
   "source": [
    "`pop()` 메서드는 인자를 지정하지 않으면 리스트의 마지막 항목을 반환하면서 동시에 리스트에서 삭제한다.\n",
    "이점만 이용하면 `birthplace_list`는 `phone_list`와 거의 유사한 방식으로 정의된다."
   ]
  },
  {
   "cell_type": "code",
   "execution_count": 153,
   "id": "e1adc9f6",
   "metadata": {},
   "outputs": [
    {
     "data": {
      "text/plain": [
       "['제주', '광주', '경기', '부산', '강원', '서울']"
      ]
     },
     "execution_count": 153,
     "metadata": {},
     "output_type": "execute_result"
    }
   ],
   "source": [
    "birthplace_list = []\n",
    "for person in info_list:\n",
    "    birthplace_list.append(person.pop()) # 출생지를 리스트에서 삭제하면서 동시에 birthplace_list에 추가\n",
    "\n",
    "birthplace_list"
   ]
  },
  {
   "attachments": {},
   "cell_type": "markdown",
   "id": "9dbe7763",
   "metadata": {},
   "source": [
    "출생지가 모든 사람의 정보에서 삭제되었음을 확인할 수 있다."
   ]
  },
  {
   "cell_type": "code",
   "execution_count": 154,
   "id": "ece850bb",
   "metadata": {},
   "outputs": [
    {
     "data": {
      "text/plain": [
       "[['김강현', '010-1234-5678', 20, 172.5],\n",
       " ['김현선', '010-3333-8888', 22, 164.6],\n",
       " ['남세원', '010-3456-7891', 21, 156.7],\n",
       " ['최흥선', '070-4321-1111', 21, 187.2],\n",
       " ['함중아', '010-7654-2345', 18, 178.3],\n",
       " ['황현', '02-9871-1234', 19, 163.5]]"
      ]
     },
     "execution_count": 154,
     "metadata": {},
     "output_type": "execute_result"
    }
   ],
   "source": [
    "info_list"
   ]
  },
  {
   "attachments": {},
   "cell_type": "markdown",
   "id": "2e42ba26",
   "metadata": {},
   "source": [
    "**문제 3**"
   ]
  },
  {
   "attachments": {},
   "cell_type": "markdown",
   "id": "cda753d2",
   "metadata": {},
   "source": [
    "6명 중에서 나이가 21세인 사람은 몇 명인지 확인하는 코드를 작성하라.\n",
    "단, 리스트의 `count()` 메서드를 이용한다."
   ]
  },
  {
   "attachments": {},
   "cell_type": "markdown",
   "id": "c8b9f760",
   "metadata": {},
   "source": [
    "*견본 답안*"
   ]
  },
  {
   "attachments": {},
   "cell_type": "markdown",
   "id": "9886eceb",
   "metadata": {},
   "source": [
    "먼저 나이만을 추출해서 담은 `age_list`를 `phone_list`와 유사하게 선언한 다음에\n",
    "`count()` 메서드를 적용한다."
   ]
  },
  {
   "cell_type": "code",
   "execution_count": 155,
   "id": "84c8b8fd",
   "metadata": {},
   "outputs": [
    {
     "data": {
      "text/plain": [
       "2"
      ]
     },
     "execution_count": 155,
     "metadata": {},
     "output_type": "execute_result"
    }
   ],
   "source": [
    "age_list = []               # 나이 정보만 저장할 리스트\n",
    "for person in info_list:\n",
    "    age_list.append(person[2])\n",
    "\n",
    "age_list.count(21)          # 21살인 사람의 수 확인"
   ]
  },
  {
   "attachments": {},
   "cell_type": "markdown",
   "id": "924069a1",
   "metadata": {},
   "source": [
    "**문제 4**"
   ]
  },
  {
   "attachments": {},
   "cell_type": "markdown",
   "id": "2179276a",
   "metadata": {},
   "source": [
    "리스트의 `count()` 메서드처럼 작동하는 `item_count()`를 구현하라.\n",
    "예를 들어 다음 표현식이 참이어야 한다.\n",
    "\n",
    "```python\n",
    "item_count(age_list, 21) == age_list.count(2)\n",
    "```"
   ]
  },
  {
   "attachments": {},
   "cell_type": "markdown",
   "id": "11d8daf6",
   "metadata": {},
   "source": [
    "*견본 답안*"
   ]
  },
  {
   "cell_type": "code",
   "execution_count": 156,
   "id": "7ccd01ff",
   "metadata": {},
   "outputs": [],
   "source": [
    "def item_count(xs, item):\n",
    "    count = 0\n",
    "    for x in xs:\n",
    "        if x == item:\n",
    "            count += 1\n",
    "    return count"
   ]
  },
  {
   "cell_type": "code",
   "execution_count": 157,
   "id": "35fc02c9",
   "metadata": {},
   "outputs": [
    {
     "data": {
      "text/plain": [
       "2"
      ]
     },
     "execution_count": 157,
     "metadata": {},
     "output_type": "execute_result"
    }
   ],
   "source": [
    "item_count(age_list, 21)"
   ]
  },
  {
   "attachments": {},
   "cell_type": "markdown",
   "id": "6aff5820-dd1b-41ab-8ca1-24f8559efcf8",
   "metadata": {},
   "source": [
    "(sec:tuple)=\n",
    "## 튜플"
   ]
  },
  {
   "attachments": {},
   "cell_type": "markdown",
   "id": "b08c7bcc-d0e5-4cd6-86fa-9ad9788affd7",
   "metadata": {},
   "source": [
    "튜플은 리스트와 거의 비슷하지만, 변경 불가능<font size = \"2\">immutable</font>하다는 점이 다르다.\n",
    "따라서 튜플을 활용하는 메서드가 많이 제공되지 않는다.\n",
    "소괄호 `()`를 사용하고, 각 항목은 콤마(`,`)로 구분한다. "
   ]
  },
  {
   "cell_type": "code",
   "execution_count": 158,
   "id": "e8a85626-a3ce-411d-a92f-51edc46947fc",
   "metadata": {},
   "outputs": [
    {
     "data": {
      "text/plain": [
       "(1, 2, 3, 4, 5)"
      ]
     },
     "execution_count": 158,
     "metadata": {},
     "output_type": "execute_result"
    }
   ],
   "source": [
    "(1, 2, 3, 4, 5)"
   ]
  },
  {
   "cell_type": "code",
   "execution_count": 159,
   "id": "d948b423-6eac-4054-8bc8-c9f59c25e48c",
   "metadata": {},
   "outputs": [
    {
     "data": {
      "text/plain": [
       "('a', 'b', 'c', 'd')"
      ]
     },
     "execution_count": 159,
     "metadata": {},
     "output_type": "execute_result"
    }
   ],
   "source": [
    "('a','b', 'c', 'd')"
   ]
  },
  {
   "attachments": {},
   "cell_type": "markdown",
   "id": "22c36bd1",
   "metadata": {},
   "source": [
    "소괄호를 사용하지 않아도 튜플로 처리된다."
   ]
  },
  {
   "cell_type": "code",
   "execution_count": 160,
   "id": "4df43577",
   "metadata": {},
   "outputs": [
    {
     "data": {
      "text/plain": [
       "('a', 'b', 'c', 'd')"
      ]
     },
     "execution_count": 160,
     "metadata": {},
     "output_type": "execute_result"
    }
   ],
   "source": [
    "a_tuple = 'a','b', 'c', 'd'\n",
    "a_tuple"
   ]
  },
  {
   "attachments": {},
   "cell_type": "markdown",
   "id": "b9a03641",
   "metadata": {},
   "source": [
    "길이가 1인 튜플인 경우 항목 뒤에 반드시 쉽표를 붙혀야 한다."
   ]
  },
  {
   "cell_type": "code",
   "execution_count": 161,
   "id": "3f9e14b1",
   "metadata": {},
   "outputs": [
    {
     "data": {
      "text/plain": [
       "tuple"
      ]
     },
     "execution_count": 161,
     "metadata": {},
     "output_type": "execute_result"
    }
   ],
   "source": [
    "tup1 = (3, )\n",
    "type(tup1)"
   ]
  },
  {
   "attachments": {},
   "cell_type": "markdown",
   "id": "b06e3fe6",
   "metadata": {},
   "source": [
    "그렇지 않으면 튜플로 간주되지 않는다."
   ]
  },
  {
   "cell_type": "code",
   "execution_count": 162,
   "id": "a4dfe37f",
   "metadata": {},
   "outputs": [
    {
     "data": {
      "text/plain": [
       "int"
      ]
     },
     "execution_count": 162,
     "metadata": {},
     "output_type": "execute_result"
    }
   ],
   "source": [
    "tup1 = (3)\n",
    "type(tup1)"
   ]
  },
  {
   "attachments": {},
   "cell_type": "markdown",
   "id": "82faff66-f146-48ed-940e-5a6450498ce5",
   "metadata": {},
   "source": [
    "튜플 또한 여러 종류의 값을 포함할 수 있다."
   ]
  },
  {
   "cell_type": "code",
   "execution_count": 163,
   "id": "0279923b-5861-40c8-a1d6-3de16feb2b0e",
   "metadata": {},
   "outputs": [
    {
     "data": {
      "text/plain": [
       "(1, 2.3, 'abc', False, ['ab', 'c'], (2, 4))"
      ]
     },
     "execution_count": 163,
     "metadata": {},
     "output_type": "execute_result"
    }
   ],
   "source": [
    "mixed_tuple = (1, 2.3, 'abc', False, ['ab', 'c'], (2, 4))\n",
    "mixed_tuple"
   ]
  },
  {
   "attachments": {},
   "cell_type": "markdown",
   "id": "356e5b41-d849-4734-bf6a-082c231b2849",
   "metadata": {},
   "source": [
    "**빈 튜플**\n",
    "\n",
    "빈 튜플은 아무것도 포함하지 않는 튜플을 의미한다. 빈 튜플를 만드는 방법은 아래와 같다. \n",
    "\n",
    "```python\n",
    "empty_tuple = ()\n",
    "empty_tuple = tuple()\n",
    "```"
   ]
  },
  {
   "attachments": {},
   "cell_type": "markdown",
   "id": "4cfc08cb",
   "metadata": {},
   "source": [
    "### 튜플 연산"
   ]
  },
  {
   "attachments": {},
   "cell_type": "markdown",
   "id": "4b3812b3-9b56-4635-b695-d4a65c41b74a",
   "metadata": {},
   "source": [
    "**`in` 연산자**\n",
    "\n",
    "튜플의 항목으로 등장하는지 여부를 알려주는 논리 연산자이다."
   ]
  },
  {
   "cell_type": "code",
   "execution_count": 164,
   "id": "b34d0a47-eab7-4414-a6b8-491fa8248ad3",
   "metadata": {},
   "outputs": [
    {
     "data": {
      "text/plain": [
       "False"
      ]
     },
     "execution_count": 164,
     "metadata": {},
     "output_type": "execute_result"
    }
   ],
   "source": [
    "'1' in ('a', 'bc', 'd', 'e')"
   ]
  },
  {
   "cell_type": "code",
   "execution_count": 165,
   "id": "3b57264e-5662-421c-a762-2e0c451f3ca6",
   "metadata": {},
   "outputs": [
    {
     "data": {
      "text/plain": [
       "True"
      ]
     },
     "execution_count": 165,
     "metadata": {},
     "output_type": "execute_result"
    }
   ],
   "source": [
    "'d' in ('a', 'bc', 'd', 'e')"
   ]
  },
  {
   "cell_type": "code",
   "execution_count": 166,
   "id": "b976cc80-1313-4ad5-861a-1278f54bc546",
   "metadata": {},
   "outputs": [
    {
     "data": {
      "text/plain": [
       "True"
      ]
     },
     "execution_count": 166,
     "metadata": {},
     "output_type": "execute_result"
    }
   ],
   "source": [
    "'f' not in ('a', 'bc', 'd', 'e')"
   ]
  },
  {
   "attachments": {},
   "cell_type": "markdown",
   "id": "f40c9d9e",
   "metadata": {
    "tags": []
   },
   "source": [
    "**이어붙이기/복제**\n",
    "\n",
    "리스트의 경우처럼 튜플도 이어붙이기와 복제 연산을 사용한다."
   ]
  },
  {
   "cell_type": "code",
   "execution_count": 167,
   "id": "24f059fa-f66f-456f-b1cd-4b9560b51075",
   "metadata": {},
   "outputs": [
    {
     "data": {
      "text/plain": [
       "('a', 'b', 'b', 'c', 'd')"
      ]
     },
     "execution_count": 167,
     "metadata": {},
     "output_type": "execute_result"
    }
   ],
   "source": [
    "('a', 'b') + ('b', 'c', 'd')"
   ]
  },
  {
   "cell_type": "code",
   "execution_count": 168,
   "id": "6d2b2308-2a81-466c-99b9-80761b88c645",
   "metadata": {},
   "outputs": [
    {
     "data": {
      "text/plain": [
       "('a', 'b', 'a', 'b')"
      ]
     },
     "execution_count": 168,
     "metadata": {},
     "output_type": "execute_result"
    }
   ],
   "source": [
    "('a', 'b') * 2"
   ]
  },
  {
   "attachments": {},
   "cell_type": "markdown",
   "id": "6b21d96c-0469-4c3d-b394-12b1912c3d55",
   "metadata": {},
   "source": [
    "**`len()`함수**\n",
    "\n",
    "튜플의 길이, 즉 튜플에 포함된 항목의 개수를 반환한다."
   ]
  },
  {
   "cell_type": "code",
   "execution_count": 169,
   "id": "70ef4d93-5e90-4908-bfba-5192d669c11c",
   "metadata": {},
   "outputs": [
    {
     "data": {
      "text/plain": [
       "4"
      ]
     },
     "execution_count": 169,
     "metadata": {},
     "output_type": "execute_result"
    }
   ],
   "source": [
    "len(('a', 'b', 'c', 'd'))"
   ]
  },
  {
   "attachments": {},
   "cell_type": "markdown",
   "id": "c17977ea-debe-410a-872d-52ee7d27cb4c",
   "metadata": {},
   "source": [
    "**`min()`/`max()` 함수**\n",
    "\n",
    "항목 중에서 최솟값 또는 최댓값을 확인한다.\n",
    "단, 기본적으로 모든 값의 자료형이 갖고 크기 비교가 가능해야 한다. "
   ]
  },
  {
   "cell_type": "code",
   "execution_count": 170,
   "id": "202b46d8-acf5-44c3-8c64-32d1a4b22078",
   "metadata": {},
   "outputs": [
    {
     "data": {
      "text/plain": [
       "20"
      ]
     },
     "execution_count": 170,
     "metadata": {},
     "output_type": "execute_result"
    }
   ],
   "source": [
    "max((2, 9, 11, 20, 3))"
   ]
  },
  {
   "cell_type": "code",
   "execution_count": 171,
   "id": "d7eabe08-0266-4134-98c7-88aab3b9e207",
   "metadata": {},
   "outputs": [
    {
     "data": {
      "text/plain": [
       "2"
      ]
     },
     "execution_count": 171,
     "metadata": {},
     "output_type": "execute_result"
    }
   ],
   "source": [
    "min((2, 9, 11, 20, 3))"
   ]
  },
  {
   "attachments": {},
   "cell_type": "markdown",
   "id": "8b02686a-3f8e-4b2d-9302-fe83a915cdaf",
   "metadata": {},
   "source": [
    "### 튜플 인덱싱/슬라이싱"
   ]
  },
  {
   "attachments": {},
   "cell_type": "markdown",
   "id": "e9e6eb74-3b33-4f6e-a2e3-ba6a99f0f74d",
   "metadata": {},
   "source": [
    "튜플도 문자열과 리스트처럼 인덱싱과 슬라이싱이 가능하다. "
   ]
  },
  {
   "cell_type": "code",
   "execution_count": 172,
   "id": "2f1973c8",
   "metadata": {},
   "outputs": [],
   "source": [
    "a_tuple = (3, 15, 9, 12, 7, 14, 10)"
   ]
  },
  {
   "cell_type": "code",
   "execution_count": 173,
   "id": "c8aa1af1",
   "metadata": {},
   "outputs": [
    {
     "data": {
      "text/plain": [
       "3"
      ]
     },
     "execution_count": 173,
     "metadata": {},
     "output_type": "execute_result"
    }
   ],
   "source": [
    "a_tuple[0]"
   ]
  },
  {
   "cell_type": "code",
   "execution_count": 174,
   "id": "578895c6",
   "metadata": {},
   "outputs": [
    {
     "data": {
      "text/plain": [
       "10"
      ]
     },
     "execution_count": 174,
     "metadata": {},
     "output_type": "execute_result"
    }
   ],
   "source": [
    "a_tuple[-1]"
   ]
  },
  {
   "cell_type": "code",
   "execution_count": 175,
   "id": "c074b2de-e3b7-4438-95e4-d6b164d558f2",
   "metadata": {},
   "outputs": [
    {
     "data": {
      "text/plain": [
       "(9, 7)"
      ]
     },
     "execution_count": 175,
     "metadata": {},
     "output_type": "execute_result"
    }
   ],
   "source": [
    "a_tuple[2:6:2]"
   ]
  },
  {
   "attachments": {},
   "cell_type": "markdown",
   "id": "b7ef959d-41a1-418f-b6fa-9704ec36723a",
   "metadata": {},
   "source": [
    "튜플은 불변 자료형이라 값을 수정할 수 없다. \n",
    "예를 들어, 아래와 같이 인덱싱을 사용하여 튜플의 항목을 변경하려고 하면 오류가 발생한다.   \n",
    "\n",
    "```python\n",
    ">>> a_tuple = (3, 15, 9, 12, 7, 14, 10)\n",
    ">>> a_tuple[0] = 100\n",
    "TypeError                                 Traceback (most recent call last)\n",
    "/tmp/ipykernel_1817/347940049.py in <module>\n",
    "      1 a_tuple = (3, 15, 9, 12, 7, 14, 10)\n",
    "----> 2 a_tuple[0] = 100\n",
    "\n",
    "TypeError: 'tuple' object does not support item assignment\n",
    "```"
   ]
  },
  {
   "attachments": {},
   "cell_type": "markdown",
   "id": "bef4f2c0",
   "metadata": {},
   "source": [
    "튜플이 변경 불가능한 자료형이라고 해서 튜플의 모든 항목이 모두 변경 불가능해야 하는 것은 아니다. \n",
    "예를 들어, 아래 `tup` 이 가리키는 튜플의 첫번째 항목은 `[1, 2]`이고, 리스트는 변경가능한 자료형이다."
   ]
  },
  {
   "cell_type": "code",
   "execution_count": 176,
   "id": "96bb0e00",
   "metadata": {},
   "outputs": [],
   "source": [
    "tup = ([1, 2], 10, 100)"
   ]
  },
  {
   "attachments": {},
   "cell_type": "markdown",
   "id": "a71540da",
   "metadata": {},
   "source": [
    "변수 `tup` 과 튜플 사이의 관계는 아래 그림이 잘 보여준다."
   ]
  },
  {
   "attachments": {},
   "cell_type": "markdown",
   "id": "9c383ad6",
   "metadata": {},
   "source": [
    "<div align=\"center\">\n",
    "    <img src=\"https://raw.githubusercontent.com/codingalzi/pybook/master/jupyter-book/images/hj617kim/ch04/tuple01.png\" style=\"width:275px;\">\n",
    "</div>"
   ]
  },
  {
   "attachments": {},
   "cell_type": "markdown",
   "id": "20c52028",
   "metadata": {},
   "source": [
    "따라서 아래와 같이 첫번째 항목 자체는 변경이 가능하다. "
   ]
  },
  {
   "cell_type": "code",
   "execution_count": 177,
   "id": "b57d6c9e",
   "metadata": {},
   "outputs": [],
   "source": [
    "tup[0].append(3)"
   ]
  },
  {
   "attachments": {},
   "cell_type": "markdown",
   "id": "91917f9e",
   "metadata": {},
   "source": [
    "실제로 `tup` 의 첫째 항목이 변경되었음을 확인할 수 있다."
   ]
  },
  {
   "cell_type": "code",
   "execution_count": 178,
   "id": "06d9a8d3",
   "metadata": {},
   "outputs": [
    {
     "data": {
      "text/plain": [
       "([1, 2, 3], 10, 100)"
      ]
     },
     "execution_count": 178,
     "metadata": {},
     "output_type": "execute_result"
    }
   ],
   "source": [
    "tup"
   ]
  },
  {
   "attachments": {},
   "cell_type": "markdown",
   "id": "a2afcb06-2d96-4368-b6e9-0c1522a8978d",
   "metadata": {},
   "source": [
    "<div align=\"center\">\n",
    "    <img src=\"https://raw.githubusercontent.com/codingalzi/pybook/master/jupyter-book/images/hj617kim/ch04/tuple02.png\" style=\"width:300px;\">\n",
    "</div>"
   ]
  },
  {
   "attachments": {},
   "cell_type": "markdown",
   "id": "1e638ebd-6708-4f2a-b704-dfc04fae59f7",
   "metadata": {},
   "source": [
    "### 튜플 메서드"
   ]
  },
  {
   "attachments": {},
   "cell_type": "markdown",
   "id": "3cfcfbf4-b37f-4fd9-ab7e-e959fb4181f2",
   "metadata": {},
   "source": [
    "튜플 자료형의 메서드는 많지 않다. 많이 사용되는 두 개의 메소드를 살펴보자.   \n",
    "\n",
    "|메서드|설명|\n",
    "|:----------|:----------|\n",
    "|`count()`|지정된 항목이 등장한 횟수 반환|\n",
    "|`index()`|지정된 항목이 처음 위치한 인덱스 반환|"
   ]
  },
  {
   "cell_type": "code",
   "execution_count": 179,
   "id": "8b3c8f02",
   "metadata": {},
   "outputs": [],
   "source": [
    "num_tuple = (1, 2, 3, 1, 3, 5, 5, 10, 15)"
   ]
  },
  {
   "attachments": {},
   "cell_type": "markdown",
   "id": "dc2c1f39",
   "metadata": {},
   "source": [
    "**`count()` 메서드**"
   ]
  },
  {
   "cell_type": "code",
   "execution_count": 180,
   "id": "f1b74028",
   "metadata": {},
   "outputs": [
    {
     "data": {
      "text/plain": [
       "2"
      ]
     },
     "execution_count": 180,
     "metadata": {},
     "output_type": "execute_result"
    }
   ],
   "source": [
    "num_tuple.count(1)"
   ]
  },
  {
   "attachments": {},
   "cell_type": "markdown",
   "id": "a0902072",
   "metadata": {},
   "source": [
    "**`index()` 메서드**"
   ]
  },
  {
   "cell_type": "code",
   "execution_count": 181,
   "id": "d72d55de-9061-49a5-8f78-27521b764fd2",
   "metadata": {},
   "outputs": [
    {
     "data": {
      "text/plain": [
       "5"
      ]
     },
     "execution_count": 181,
     "metadata": {},
     "output_type": "execute_result"
    }
   ],
   "source": [
    "num_tuple.index(5)"
   ]
  },
  {
   "attachments": {},
   "cell_type": "markdown",
   "id": "92eea060",
   "metadata": {},
   "source": [
    "##  순차 자료형 해체"
   ]
  },
  {
   "attachments": {},
   "cell_type": "markdown",
   "id": "36ff691b",
   "metadata": {},
   "source": [
    "순자 자료형의 항목 각각에 대해 변수 할당을 진행할 수 있다.\n",
    "단, 사용되는 변수의 수는 항목의 수와 일치해야 한다."
   ]
  },
  {
   "cell_type": "code",
   "execution_count": 182,
   "id": "c62277ce",
   "metadata": {},
   "outputs": [],
   "source": [
    "a, b = \"12\""
   ]
  },
  {
   "cell_type": "code",
   "execution_count": 183,
   "id": "5859fbbb",
   "metadata": {},
   "outputs": [
    {
     "name": "stdout",
     "output_type": "stream",
     "text": [
      "1 <class 'str'>\n",
      "2\n"
     ]
    }
   ],
   "source": [
    "print(a, type(a)) # 타입은 문자열이다.\n",
    "print(b)"
   ]
  },
  {
   "cell_type": "code",
   "execution_count": 184,
   "id": "728a739c",
   "metadata": {},
   "outputs": [],
   "source": [
    "c, d, e = [3, 4, 5]"
   ]
  },
  {
   "cell_type": "code",
   "execution_count": 185,
   "id": "ad0a072c",
   "metadata": {},
   "outputs": [
    {
     "name": "stdout",
     "output_type": "stream",
     "text": [
      "3\n",
      "4\n",
      "5\n"
     ]
    }
   ],
   "source": [
    "print(c) \n",
    "print(d) \n",
    "print(e) "
   ]
  },
  {
   "cell_type": "code",
   "execution_count": 186,
   "id": "6ec536fd",
   "metadata": {},
   "outputs": [],
   "source": [
    "f, g = (6, 7)"
   ]
  },
  {
   "cell_type": "code",
   "execution_count": 187,
   "id": "b0f25e95",
   "metadata": {},
   "outputs": [
    {
     "name": "stdout",
     "output_type": "stream",
     "text": [
      "6\n",
      "7\n"
     ]
    }
   ],
   "source": [
    "print(f) \n",
    "print(g) "
   ]
  },
  {
   "attachments": {},
   "cell_type": "markdown",
   "id": "bf099ac4",
   "metadata": {},
   "source": [
    "**밑줄 기호 `_` 활용**\n",
    "\n",
    "변수의 이름이 굳이 필요 없다면 밑줄<font size = \"2\">underscore</font>(`_`) 기호를\n",
    "대신 사용할 수 있다.\n",
    "예를 들어, 둘째 값에 대한 변수가 필요없다면 아래와 같이 해체할 수 있다. "
   ]
  },
  {
   "cell_type": "code",
   "execution_count": 188,
   "id": "867fea71",
   "metadata": {},
   "outputs": [
    {
     "name": "stdout",
     "output_type": "stream",
     "text": [
      "8\n"
     ]
    }
   ],
   "source": [
    "c, _, e = [3, 4, 5]\n",
    "print(c + e)"
   ]
  },
  {
   "attachments": {},
   "cell_type": "markdown",
   "id": "65c10f88",
   "metadata": {},
   "source": [
    ":::{admonition} 주의   \n",
    ":class: caution  \n",
    "항목의 개수와 변수의 개수가 일치하지 않으면 오류가 발생한다.\n",
    "오류를 피하려면 위해 밑줄 등을 반드시 활용해야 한다.\n",
    "\n",
    "```python\n",
    ">>> c, e = [3, 4, 5]\n",
    "ValueError                                Traceback (most recent call last)\n",
    "/tmp/ipykernel_1817/4065688922.py in <module>\n",
    "----> 1 c, e = [3, 4, 5]\n",
    "      2 print(c + e)\n",
    "\n",
    "ValueError: too many values to unpack (expected 2)\n",
    "```\n",
    ":::"
   ]
  },
  {
   "attachments": {},
   "cell_type": "markdown",
   "id": "ec512290",
   "metadata": {},
   "source": [
    "**별표 기호 `*` 활용**\n",
    "\n",
    "앞에 몇 개의 값에만 변수 할당에 사용하고 나머지는 하나의 리스트로 묶어서 퉁쳐버릴 수도 있다.\n",
    "이를 위해 별표 기호<font size = \"2\">asterisk</font>(`*`)를 하나의 변수명과 함께 사용한다. "
   ]
  },
  {
   "cell_type": "code",
   "execution_count": 189,
   "id": "41025824",
   "metadata": {},
   "outputs": [],
   "source": [
    "values = (1, 2, 3, 4, 5)\n",
    "a, b, *rest = values"
   ]
  },
  {
   "cell_type": "code",
   "execution_count": 190,
   "id": "d990be6c",
   "metadata": {},
   "outputs": [
    {
     "name": "stdout",
     "output_type": "stream",
     "text": [
      "1\n",
      "2\n",
      "[3, 4, 5]\n"
     ]
    }
   ],
   "source": [
    "print(a)\n",
    "print(b)\n",
    "print(rest)"
   ]
  },
  {
   "attachments": {},
   "cell_type": "markdown",
   "id": "2744f170",
   "metadata": {},
   "source": [
    "나머지 항목들을 무시하고 싶다면, 별표와 밑줄을 함께 사용한다. "
   ]
  },
  {
   "cell_type": "code",
   "execution_count": 191,
   "id": "3801f9cd",
   "metadata": {},
   "outputs": [],
   "source": [
    "a, b, *_ = values"
   ]
  },
  {
   "cell_type": "code",
   "execution_count": 192,
   "id": "0b0bb0bd",
   "metadata": {},
   "outputs": [
    {
     "name": "stdout",
     "output_type": "stream",
     "text": [
      "1\n",
      "2\n"
     ]
    }
   ],
   "source": [
    "print(a)\n",
    "print(b)"
   ]
  },
  {
   "attachments": {},
   "cell_type": "markdown",
   "id": "35b4d84b",
   "metadata": {},
   "source": [
    "## 순차 자료형에 유용한 함수"
   ]
  },
  {
   "attachments": {},
   "cell_type": "markdown",
   "id": "d4a8d632",
   "metadata": {},
   "source": [
    "문자열, 튜플, 리스트처럼 항목들의 순서가 중요한 순차 자료형과 함께 유용하게 사용되는 네 개의 함수를 소개한다."
   ]
  },
  {
   "attachments": {},
   "cell_type": "markdown",
   "id": "2760d401",
   "metadata": {},
   "source": [
    "### `enumerate()` 함수"
   ]
  },
  {
   "attachments": {},
   "cell_type": "markdown",
   "id": "5cf9c3dc",
   "metadata": {},
   "source": [
    "튜플과 리스트의 인덱스를 튜플과 리스트 자체에서 눈으로 확인할 수 없다.\n",
    "하지만 항목과 해당 항목의 인덱스 정보를 함께 활용해야 할 때가 있는데\n",
    "이때 `enumerate()` 함수가 매우 유용하다."
   ]
  },
  {
   "cell_type": "code",
   "execution_count": 193,
   "id": "9d005c5c",
   "metadata": {},
   "outputs": [],
   "source": [
    "some_list = ['foo', 'bar', 'baz', 'pyt', 'thon']"
   ]
  },
  {
   "attachments": {},
   "cell_type": "markdown",
   "id": "851ac4e4",
   "metadata": {},
   "source": [
    "`enumerate()` 함수는 리스트를 받아서\n",
    "리스트의 항목과 인덱스를 쌍으로 갖는 모음 자료형의 객체를 준비시킨다.\n",
    "이렇게 준비된 객체를 직접 확인할 수는 없다."
   ]
  },
  {
   "cell_type": "code",
   "execution_count": 194,
   "id": "8a83c650",
   "metadata": {},
   "outputs": [
    {
     "data": {
      "text/plain": [
       "<enumerate at 0x7fa6c81ec440>"
      ]
     },
     "execution_count": 194,
     "metadata": {},
     "output_type": "execute_result"
    }
   ],
   "source": [
    "enumerate(some_list)"
   ]
  },
  {
   "attachments": {},
   "cell_type": "markdown",
   "id": "be388b8c",
   "metadata": {},
   "source": [
    "리스트로 환원하면 인덱스와 항목의 튜플로 이루어져 있음을 확인 수 있다."
   ]
  },
  {
   "cell_type": "code",
   "execution_count": 195,
   "id": "c62996a9",
   "metadata": {},
   "outputs": [
    {
     "data": {
      "text/plain": [
       "[(0, 'foo'), (1, 'bar'), (2, 'baz'), (3, 'pyt'), (4, 'thon')]"
      ]
     },
     "execution_count": 195,
     "metadata": {},
     "output_type": "execute_result"
    }
   ],
   "source": [
    "list(enumerate(some_list))"
   ]
  },
  {
   "attachments": {},
   "cell_type": "markdown",
   "id": "7710e1c4",
   "metadata": {},
   "source": [
    "**예제**"
   ]
  },
  {
   "attachments": {},
   "cell_type": "markdown",
   "id": "5dfcf8b9",
   "metadata": {},
   "source": [
    "인덱스를 활용하여 원하는 항목만 추출할 수 있다.\n",
    "예를 들어, 아래 코드는 짝수 인덱스의 값들만 출력하도록 한다.\n",
    "인덱스와 항목으로 구성된 길이가 2인 튜플을 해체하기 위해\n",
    "`i`와 `v`를 바로 이용함에 주의하라."
   ]
  },
  {
   "cell_type": "code",
   "execution_count": 196,
   "id": "274ed66f",
   "metadata": {},
   "outputs": [
    {
     "name": "stdout",
     "output_type": "stream",
     "text": [
      "foo\n",
      "baz\n",
      "thon\n"
     ]
    }
   ],
   "source": [
    "for i, v in enumerate(some_list):\n",
    "    if i % 2 == 0:\n",
    "        print(v)"
   ]
  },
  {
   "attachments": {},
   "cell_type": "markdown",
   "id": "21912c37",
   "metadata": {},
   "source": [
    "`enumerate()` 함수를 사용하지 않으면서 동일한 기능을 구현하려면\n",
    "인덱스를 직접 이용해야 한다."
   ]
  },
  {
   "cell_type": "code",
   "execution_count": 197,
   "id": "479293f8",
   "metadata": {},
   "outputs": [
    {
     "name": "stdout",
     "output_type": "stream",
     "text": [
      "foo\n",
      "bar\n",
      "thon\n"
     ]
    }
   ],
   "source": [
    "for i in range(len(some_list)):\n",
    "    if i & 2 == 0:\n",
    "        print(some_list[i])"
   ]
  },
  {
   "attachments": {},
   "cell_type": "markdown",
   "id": "79c4ce84",
   "metadata": {},
   "source": [
    "**예제**"
   ]
  },
  {
   "attachments": {},
   "cell_type": "markdown",
   "id": "c630040f",
   "metadata": {},
   "source": [
    "아래 코드는 인덱스와 리스트의 항목의 순서를 바꾼 튜플의 \n",
    "리스트를 생성한다."
   ]
  },
  {
   "cell_type": "code",
   "execution_count": 198,
   "id": "b1f949c0",
   "metadata": {},
   "outputs": [
    {
     "data": {
      "text/plain": [
       "[('foo', 0), ('bar', 1), ('baz', 2), ('pyt', 3), ('thon', 4)]"
      ]
     },
     "execution_count": 198,
     "metadata": {},
     "output_type": "execute_result"
    }
   ],
   "source": [
    "mapping = []\n",
    "\n",
    "for i, v in enumerate(some_list):\n",
    "    mapping.append((v, i))\n",
    "\n",
    "mapping"
   ]
  },
  {
   "attachments": {},
   "cell_type": "markdown",
   "id": "36671203",
   "metadata": {},
   "source": [
    "`enumerate()` 함수를 사용하지 않으면서 동일한 기능을 구현하려면\n",
    "인덱스를 직접 이용해야 한다."
   ]
  },
  {
   "cell_type": "code",
   "execution_count": 199,
   "id": "e351cf4e",
   "metadata": {},
   "outputs": [
    {
     "data": {
      "text/plain": [
       "[('foo', 0), ('bar', 1), ('baz', 2), ('pyt', 3), ('thon', 4)]"
      ]
     },
     "execution_count": 199,
     "metadata": {},
     "output_type": "execute_result"
    }
   ],
   "source": [
    "mapping = []\n",
    "\n",
    "for i in range(len(some_list)):\n",
    "    mapping.append((some_list[i], i))\n",
    "\n",
    "mapping"
   ]
  },
  {
   "attachments": {},
   "cell_type": "markdown",
   "id": "f26977cf",
   "metadata": {},
   "source": [
    "### `zip()` 함수"
   ]
  },
  {
   "attachments": {},
   "cell_type": "markdown",
   "id": "eb36ae32",
   "metadata": {},
   "source": [
    "문자열, 리스트, 튜플 등 순차 자료형 여러 개를 묶어 하나의 값으로 만든다.\n",
    "이때, 각 순차 자료형의 값에 사용된 순서를 반영한다.\n",
    "단, `zip()` 함수의 반환값은 구체적으로 명시되지 않는다. "
   ]
  },
  {
   "cell_type": "code",
   "execution_count": 200,
   "id": "5ac7dcf4-ca1d-4c17-976b-f6c938dae73d",
   "metadata": {},
   "outputs": [
    {
     "data": {
      "text/plain": [
       "<zip at 0x7fa6c82867c0>"
      ]
     },
     "execution_count": 200,
     "metadata": {},
     "output_type": "execute_result"
    }
   ],
   "source": [
    "zip(\"abc\", [1, 2, 3])"
   ]
  },
  {
   "attachments": {},
   "cell_type": "markdown",
   "id": "7347fd32",
   "metadata": {},
   "source": [
    "`for` 반복문을 이용하여 항목을 확인할 수는 있다."
   ]
  },
  {
   "cell_type": "code",
   "execution_count": 201,
   "id": "04f0b9f2",
   "metadata": {},
   "outputs": [
    {
     "name": "stdout",
     "output_type": "stream",
     "text": [
      "('a', 1)\n",
      "('b', 2)\n",
      "('c', 3)\n"
     ]
    }
   ],
   "source": [
    "for item in zip(\"abc\", [1, 2, 3]):\n",
    "    print(item)"
   ]
  },
  {
   "attachments": {},
   "cell_type": "markdown",
   "id": "78adb683-0f5a-4116-87a9-b6014a24654d",
   "metadata": {},
   "source": [
    "아니면 `list()`함수를 이용하여 튜플 리스트로 변환할 수도 있다."
   ]
  },
  {
   "cell_type": "code",
   "execution_count": 202,
   "id": "a8eabe99-ff16-4d0e-947c-2d23398ef5f3",
   "metadata": {},
   "outputs": [
    {
     "data": {
      "text/plain": [
       "[('a', 1), ('b', 2), ('c', 3)]"
      ]
     },
     "execution_count": 202,
     "metadata": {},
     "output_type": "execute_result"
    }
   ],
   "source": [
    "list(zip(\"abc\", [1, 2, 3]))"
   ]
  },
  {
   "attachments": {},
   "cell_type": "markdown",
   "id": "61851fbb",
   "metadata": {},
   "source": [
    "여러 개의 모음 자료형을 짝짓는 것도 가능하다.\n",
    "단. 길이가 다르면 가장 짧은 길이에 맞춰서 짝을 짓고, 나머지는 버린다."
   ]
  },
  {
   "cell_type": "code",
   "execution_count": 203,
   "id": "00a73657",
   "metadata": {},
   "outputs": [
    {
     "data": {
      "text/plain": [
       "[('a', 1, 5), ('b', 2, 10), ('c', 3, 15)]"
      ]
     },
     "execution_count": 203,
     "metadata": {},
     "output_type": "execute_result"
    }
   ],
   "source": [
    "list(zip(\"abcdefgh\",(1, 2, 3, 4, 5), [5, 10, 15]))"
   ]
  },
  {
   "attachments": {},
   "cell_type": "markdown",
   "id": "af73a679",
   "metadata": {},
   "source": [
    "**동시 반복**"
   ]
  },
  {
   "attachments": {},
   "cell_type": "markdown",
   "id": "dce0b412",
   "metadata": {},
   "source": [
    "`zip()` 을 이용하면 여러 개의 리스트, 튜플을 대상으로 동시에 반복문을 돌릴 수 있다."
   ]
  },
  {
   "cell_type": "code",
   "execution_count": 204,
   "id": "e129b5b2",
   "metadata": {},
   "outputs": [
    {
     "name": "stdout",
     "output_type": "stream",
     "text": [
      "문자: a, 숫자: 0\n",
      "문자: b, 숫자: 1\n",
      "문자: c, 숫자: 2\n"
     ]
    }
   ],
   "source": [
    "letters = ['a', 'b', 'c']\n",
    "numbers = [0, 1, 2]\n",
    "for l, n in zip(letters, numbers):\n",
    "    print(f'문자: {l}', end=', ')\n",
    "    print(f'숫자: {n}')"
   ]
  },
  {
   "attachments": {},
   "cell_type": "markdown",
   "id": "304a8ad8",
   "metadata": {},
   "source": [
    "`zip()` 함수를 사용하지 않으면 2중으로 중첩된 `for` 반복문과\n",
    "인덱싱을 함께 이용해야 한다."
   ]
  },
  {
   "cell_type": "code",
   "execution_count": 205,
   "id": "ab38bac9",
   "metadata": {},
   "outputs": [
    {
     "name": "stdout",
     "output_type": "stream",
     "text": [
      "문자: a, 숫자: 0\n",
      "문자: b, 숫자: 1\n",
      "문자: c, 숫자: 2\n"
     ]
    }
   ],
   "source": [
    "for idx1 in range(len(letters)):\n",
    "    for idx2 in range(len(numbers)):\n",
    "        if idx1 == idx2:\n",
    "            print(f'문자: {letters[idx1]}', end=', ')\n",
    "            print(f'숫자: {numbers[idx2]}')"
   ]
  },
  {
   "cell_type": "code",
   "execution_count": 206,
   "id": "f91b8c70",
   "metadata": {},
   "outputs": [
    {
     "name": "stdout",
     "output_type": "stream",
     "text": [
      "문자: a, 숫자: 0, 연산자: *\n",
      "문자: b, 숫자: 1, 연산자: /\n",
      "문자: c, 숫자: 2, 연산자: +\n"
     ]
    }
   ],
   "source": [
    "letters = ['a', 'b', 'c']\n",
    "numbers = [0, 1, 2]\n",
    "operators = ['*', '/', '+']\n",
    "for l, n, o in zip(letters, numbers, operators):\n",
    "    print(f'문자: {l}', end=', ')\n",
    "    print(f'숫자: {n}', end=', ')\n",
    "    print(f'연산자: {o}')\n"
   ]
  },
  {
   "attachments": {},
   "cell_type": "markdown",
   "id": "5ffdcb64",
   "metadata": {},
   "source": [
    "`zip()` 함수를 사용하지 않으면 3중으로 중첩된 `for` 반복문과\n",
    "인덱싱을 함께 이용해야 한다."
   ]
  },
  {
   "cell_type": "code",
   "execution_count": 207,
   "id": "bfb80a4e",
   "metadata": {},
   "outputs": [
    {
     "name": "stdout",
     "output_type": "stream",
     "text": [
      "문자: a, 숫자: 0, 연산자: 0\n",
      "문자: b, 숫자: 1, 연산자: 1\n",
      "문자: c, 숫자: 2, 연산자: 2\n"
     ]
    }
   ],
   "source": [
    "for idx1 in range(len(letters)):\n",
    "    for idx2 in range(len(numbers)):\n",
    "        for idx3 in range(len(numbers)):\n",
    "            if idx1 == idx2 and idx2 == idx3:\n",
    "                print(f'문자: {letters[idx1]}', end=', ')\n",
    "                print(f'숫자: {numbers[idx2]}', end=', ')\n",
    "                print(f'연산자: {numbers[idx3]}')                "
   ]
  },
  {
   "attachments": {},
   "cell_type": "markdown",
   "id": "3856cb4a",
   "metadata": {},
   "source": [
    "## 연습문제"
   ]
  },
  {
   "attachments": {},
   "cell_type": "markdown",
   "id": "17fcce4f",
   "metadata": {},
   "source": [
    "참고: [(실습) 리스트와 튜플](https://colab.research.google.com/github/codingalzi/pybook/blob/master/practices/practice-lists_tuples.ipynb)"
   ]
  }
 ],
 "metadata": {
  "kernelspec": {
   "display_name": "Python 3 (ipykernel)",
   "language": "python",
   "name": "python3"
  },
  "language_info": {
   "codemirror_mode": {
    "name": "ipython",
    "version": 3
   },
   "file_extension": ".py",
   "mimetype": "text/x-python",
   "name": "python",
   "nbconvert_exporter": "python",
   "pygments_lexer": "ipython3",
   "version": "3.10.9"
  },
  "toc-autonumbering": true,
  "vscode": {
   "interpreter": {
    "hash": "6c86b3592b6800d985c04531f2c445f0fa6967131b8dd6395a925f7622e55602"
   }
  }
 },
 "nbformat": 4,
 "nbformat_minor": 5
}