{
 "cells": [
  {
   "cell_type": "markdown",
   "id": "f0a3fe4a",
   "metadata": {},
   "source": [
    "(ch:collections)=\n",
    "# 모음 자료형 1부: 문자열, 리스트, 튜플"
   ]
  },
  {
   "cell_type": "markdown",
   "id": "98b14e49",
   "metadata": {},
   "source": [
    "모음 자료형<font size = \"2\">collection data types</font>은\n",
    "여러 개의 값을 항목으로 포함하는 값들의 자료형이다.\n",
    "많은 값을 담고 있다는 의미에서\n",
    "**컨테이너**<font size=\"2\">container</font>라고도 불린다.\n",
    "파이썬은 아래 다섯 가지 모음 자료형을 기본으로 제공한다.\n",
    "\n",
    "```\n",
    "문자열, 리스트, 튜플, 집합, 사전\n",
    "```"
   ]
  },
  {
   "cell_type": "markdown",
   "id": "46316bbf",
   "metadata": {},
   "source": [
    ":::{admonition} 스칼라 자료형\n",
    ":class: info\n",
    "\n",
    "정수, 부동소수점, 불리언 등은 하나의 값으로만 구성되었다는 의미에서\n",
    "**스칼라**<font size='2'>scalar</font> 자료형이라 부른다.\n",
    ":::"
   ]
  },
  {
   "cell_type": "markdown",
   "id": "adbf2e56",
   "metadata": {},
   "source": [
    "모음 자료형을 구분하는 여러가지 기준이 있다.\n",
    "\n",
    "첫째, 리스트처럼 항목들 사이의 순서를 중요하게 고려하고 항목의 중복 사용을 허용하는 \n",
    "순차<font size=\"2\">sequential</font> 자료형과 \n",
    "집합처럼 그렇지 않은 비순차 자료형으로 나뉜다.\n",
    "\n",
    "- 순차 자료형: 문자열, 리스트, 튜플\n",
    "- 비순차 자료형: 집합, 사전"
   ]
  },
  {
   "cell_type": "markdown",
   "id": "e4793c46-cf15-452f-83bd-abb5c011689f",
   "metadata": {},
   "source": [
    "둘째, 항목 변경의 허용여부에 따라 불변<font size = \"2\">immutable</font> 자료형과 \n",
    "가변<font size = \"2\">mutable</font> 자료형으로 나뉜다.\n",
    "\n",
    "- 가변 자료형: 리스트, 집합, 사전\n",
    "- 불변 자료형: 문자열, 튜플"
   ]
  },
  {
   "cell_type": "markdown",
   "id": "7c4361aa",
   "metadata": {},
   "source": [
    "먼저 순차 자료형을 다룬다.\n",
    "참고로 순차 자료형을 **시퀀스**<font size='2'>sequences</font>라 부르기도 한다."
   ]
  },
  {
   "cell_type": "markdown",
   "id": "f02cf257",
   "metadata": {},
   "source": [
    "**슬라이드**\n",
    "\n",
    "본문 내용을 요약한 [슬라이드](https://github.com/codingalzi/pybook/raw/master/slides/slides-collections1.pdf)를 \n",
    "다운로드할 수 있다."
   ]
  },
  {
   "cell_type": "markdown",
   "id": "a4422a33-c82a-4d09-abb5-baac208658f0",
   "metadata": {
    "tags": []
   },
   "source": [
    "(sec:string)=\n",
    "## 문자열"
   ]
  },
  {
   "cell_type": "markdown",
   "id": "5dd3ce28",
   "metadata": {},
   "source": [
    "문자들을 나열한 값들을 일컫는 자료형으로 작은 따옴표(`'`) 또는 큰 따옴표(`\"`)를 사용한다. \n",
    "\n",
    "```python\n",
    "'Hello, Python!'\n",
    "```\n",
    "\n",
    "```python\n",
    "\"Hello, Python!\"\n",
    "```"
   ]
  },
  {
   "cell_type": "markdown",
   "id": "84716f29",
   "metadata": {},
   "source": [
    "문자열은 순차 자료형이며, 따라서 항목의 순서 또는 개수가 다르면 서로 다른 문자열로 처리된다."
   ]
  },
  {
   "cell_type": "code",
   "execution_count": 1,
   "id": "c0f5cd3c",
   "metadata": {},
   "outputs": [
    {
     "data": {
      "text/plain": [
       "False"
      ]
     },
     "execution_count": 1,
     "metadata": {},
     "output_type": "execute_result"
    }
   ],
   "source": [
    "'ab' == 'ba'"
   ]
  },
  {
   "cell_type": "code",
   "execution_count": 2,
   "id": "42b79729",
   "metadata": {},
   "outputs": [
    {
     "data": {
      "text/plain": [
       "False"
      ]
     },
     "execution_count": 2,
     "metadata": {},
     "output_type": "execute_result"
    }
   ],
   "source": [
    "'aa' == 'aaa'"
   ]
  },
  {
   "cell_type": "markdown",
   "id": "bef09417",
   "metadata": {},
   "source": [
    "**빈 문자열**\n",
    "\n",
    "빈 문자열은 아무것도 포함하지 않는 문자열이다.\n",
    "빈 문자열을 만드는 방법은 다음 세 가지 방법이 있다.\n",
    "\n",
    "```python\n",
    "empty_str = ''\n",
    "empty_str = \"\"\n",
    "empty_str = str()\n",
    "```"
   ]
  },
  {
   "cell_type": "markdown",
   "id": "34d02622",
   "metadata": {},
   "source": [
    "### 문자열 연산"
   ]
  },
  {
   "cell_type": "markdown",
   "id": "6e8d53d3-81eb-446d-b4d6-1f7c82484699",
   "metadata": {},
   "source": [
    "**`in` 연산자** \n",
    "\n",
    "문자열의 일부로 포함된 부분 문자열인지 여부를 판단하는 논리 연산자이다. "
   ]
  },
  {
   "cell_type": "code",
   "execution_count": 3,
   "id": "089fbce8-65ff-4ea0-8ad3-a671758de90d",
   "metadata": {},
   "outputs": [
    {
     "data": {
      "text/plain": [
       "True"
      ]
     },
     "execution_count": 3,
     "metadata": {},
     "output_type": "execute_result"
    }
   ],
   "source": [
    "'app' in 'apple'"
   ]
  },
  {
   "cell_type": "code",
   "execution_count": 4,
   "id": "837c97f7-8f37-4813-9057-f5d21e6af336",
   "metadata": {},
   "outputs": [
    {
     "data": {
      "text/plain": [
       "False"
      ]
     },
     "execution_count": 4,
     "metadata": {},
     "output_type": "execute_result"
    }
   ],
   "source": [
    "'h' in 'banana' "
   ]
  },
  {
   "cell_type": "code",
   "execution_count": 5,
   "id": "47af3f0c-9ba7-426b-b313-5a9ae5582ae6",
   "metadata": {},
   "outputs": [
    {
     "data": {
      "text/plain": [
       "True"
      ]
     },
     "execution_count": 5,
     "metadata": {},
     "output_type": "execute_result"
    }
   ],
   "source": [
    "'ca' not in 'coconut'"
   ]
  },
  {
   "cell_type": "markdown",
   "id": "4e6995d4",
   "metadata": {},
   "source": [
    "**크기 비교 연산**"
   ]
  },
  {
   "cell_type": "markdown",
   "id": "a15a03b9",
   "metadata": {},
   "source": [
    "문자열은 사전식의 순서를 사용하며 공백문자, 소문자, 대문자 순으로 크기가 정해진다."
   ]
  },
  {
   "cell_type": "code",
   "execution_count": 6,
   "id": "6f82b898",
   "metadata": {},
   "outputs": [
    {
     "data": {
      "text/plain": [
       "True"
      ]
     },
     "execution_count": 6,
     "metadata": {},
     "output_type": "execute_result"
    }
   ],
   "source": [
    "'a' >= 'A'"
   ]
  },
  {
   "cell_type": "code",
   "execution_count": 7,
   "id": "8cbb87a2",
   "metadata": {},
   "outputs": [
    {
     "data": {
      "text/plain": [
       "False"
      ]
     },
     "execution_count": 7,
     "metadata": {},
     "output_type": "execute_result"
    }
   ],
   "source": [
    "'apple' < 'Hello, World!'"
   ]
  },
  {
   "cell_type": "code",
   "execution_count": 8,
   "id": "37c4c4ce",
   "metadata": {},
   "outputs": [
    {
     "data": {
      "text/plain": [
       "False"
      ]
     },
     "execution_count": 8,
     "metadata": {},
     "output_type": "execute_result"
    }
   ],
   "source": [
    "'Hello, World!' < ' hello'"
   ]
  },
  {
   "cell_type": "markdown",
   "id": "2e51dd9b",
   "metadata": {},
   "source": [
    "**`min()`/`max()` 함수**"
   ]
  },
  {
   "cell_type": "markdown",
   "id": "4404bc1e",
   "metadata": {},
   "source": [
    "문자열에 사용된 가장 작은 또는 가장 큰 값의 기호를 반환한다."
   ]
  },
  {
   "cell_type": "code",
   "execution_count": 9,
   "id": "ef48931a",
   "metadata": {},
   "outputs": [
    {
     "data": {
      "text/plain": [
       "'p'"
      ]
     },
     "execution_count": 9,
     "metadata": {},
     "output_type": "execute_result"
    }
   ],
   "source": [
    "max('apple')"
   ]
  },
  {
   "cell_type": "code",
   "execution_count": 10,
   "id": "20fedc91",
   "metadata": {},
   "outputs": [
    {
     "data": {
      "text/plain": [
       "'r'"
      ]
     },
     "execution_count": 10,
     "metadata": {},
     "output_type": "execute_result"
    }
   ],
   "source": [
    "max('Hello, World!')"
   ]
  },
  {
   "cell_type": "code",
   "execution_count": 11,
   "id": "c10e6db1",
   "metadata": {},
   "outputs": [
    {
     "data": {
      "text/plain": [
       "'a'"
      ]
     },
     "execution_count": 11,
     "metadata": {},
     "output_type": "execute_result"
    }
   ],
   "source": [
    "min('banana')"
   ]
  },
  {
   "cell_type": "code",
   "execution_count": 12,
   "id": "03f0745d",
   "metadata": {},
   "outputs": [
    {
     "data": {
      "text/plain": [
       "' '"
      ]
     },
     "execution_count": 12,
     "metadata": {},
     "output_type": "execute_result"
    }
   ],
   "source": [
    "min('Hello, World!')"
   ]
  },
  {
   "cell_type": "markdown",
   "id": "afc68940-a4e2-42f5-92ea-a0adf8b2dc8e",
   "metadata": {},
   "source": [
    "**`len()` 함수**\n",
    "\n",
    "문자열의 길이, 즉 문자열에 포함된 기호의 개수를 반환한다."
   ]
  },
  {
   "cell_type": "code",
   "execution_count": 13,
   "id": "356e853e-8468-4f8d-8a85-139433dab0f1",
   "metadata": {},
   "outputs": [
    {
     "data": {
      "text/plain": [
       "5"
      ]
     },
     "execution_count": 13,
     "metadata": {},
     "output_type": "execute_result"
    }
   ],
   "source": [
    "len('apple')"
   ]
  },
  {
   "cell_type": "code",
   "execution_count": 14,
   "id": "bfd270c5-95ca-4ecb-8454-ec35c55fc52f",
   "metadata": {},
   "outputs": [
    {
     "data": {
      "text/plain": [
       "13"
      ]
     },
     "execution_count": 14,
     "metadata": {},
     "output_type": "execute_result"
    }
   ],
   "source": [
    "len('hello, world!')"
   ]
  },
  {
   "cell_type": "markdown",
   "id": "7322d96a",
   "metadata": {},
   "source": [
    "화이트 스페이스는 모두 하나의 기호로 간주된다."
   ]
  },
  {
   "cell_type": "code",
   "execution_count": 15,
   "id": "b2fc7615",
   "metadata": {},
   "outputs": [
    {
     "data": {
      "text/plain": [
       "14"
      ]
     },
     "execution_count": 15,
     "metadata": {},
     "output_type": "execute_result"
    }
   ],
   "source": [
    "len('hello,\\t\\nworld!')"
   ]
  },
  {
   "cell_type": "markdown",
   "id": "a85e268b-49a7-4d42-9738-96c6d5e004fa",
   "metadata": {},
   "source": [
    "### 문자열 인덱싱"
   ]
  },
  {
   "cell_type": "markdown",
   "id": "9c38cc2c-8ab3-4a97-a414-e63a1ada4305",
   "metadata": {},
   "source": [
    "문자열에 포함된 모든 문자는 인덱스<font size = \"2\">index</font>라는 고유한 번호를 갖는다.\n",
    "인덱스는 0부터 시작하며, 오른쪽으로 한 문자씩 이동할 때마다 증가한다.\n",
    "**인덱싱**<font size = \"2\">indexing</font>은 인덱스를 활용하여 문자열에 포함된 특정 문자를 확인한다."
   ]
  },
  {
   "cell_type": "code",
   "execution_count": 16,
   "id": "1632af09",
   "metadata": {},
   "outputs": [],
   "source": [
    "colors = 'red, blue, yellow'"
   ]
  },
  {
   "cell_type": "code",
   "execution_count": 17,
   "id": "d596653f",
   "metadata": {},
   "outputs": [
    {
     "data": {
      "text/plain": [
       "'r'"
      ]
     },
     "execution_count": 17,
     "metadata": {},
     "output_type": "execute_result"
    }
   ],
   "source": [
    "colors[0] #0번 인덱스 값"
   ]
  },
  {
   "cell_type": "code",
   "execution_count": 18,
   "id": "e256b856-af80-42d6-a0ce-2d9d787a7e05",
   "metadata": {},
   "outputs": [
    {
     "data": {
      "text/plain": [
       "'b'"
      ]
     },
     "execution_count": 18,
     "metadata": {},
     "output_type": "execute_result"
    }
   ],
   "source": [
    "colors[5] #3번 인덱스 값"
   ]
  },
  {
   "cell_type": "markdown",
   "id": "7559128f-c98c-4939-b02f-d1e8a2d0a2c7",
   "metadata": {},
   "source": [
    "문자열의 길이와 같거나 큰 인덱스를 사용하면 오류가 발생한다. \n",
    "\n",
    "```python\n",
    ">>> len(colors)\n",
    "17\n",
    ">>> colors[50]\n",
    "IndexError                                Traceback (most recent call last)\n",
    "/tmp/ipykernel_1817/3232567937.py in <module>\n",
    "----> 1 colors[50]\n",
    "\n",
    "IndexError: string index out of range\n",
    "```"
   ]
  },
  {
   "cell_type": "markdown",
   "id": "931036c1-1df6-406c-990d-7c23627730a2",
   "metadata": {},
   "source": [
    "인덱스 값으로 음의 정수를 사용할 수 있다. \n",
    "-1을 마지막 문자의 인덱스로 사용하고, 왼쪽으로 한 문자씩 이동할 때마다 감소한다.  "
   ]
  },
  {
   "cell_type": "code",
   "execution_count": 19,
   "id": "7ac4b3da-194f-4540-9ed2-1ecd0b20bb4c",
   "metadata": {},
   "outputs": [
    {
     "data": {
      "text/plain": [
       "'w'"
      ]
     },
     "execution_count": 19,
     "metadata": {},
     "output_type": "execute_result"
    }
   ],
   "source": [
    "colors[-1] # 오른쪽 끝에 위치한 문자"
   ]
  },
  {
   "cell_type": "code",
   "execution_count": 20,
   "id": "279d307c-5d35-4ac2-ab78-374351634612",
   "metadata": {},
   "outputs": [
    {
     "data": {
      "text/plain": [
       "'o'"
      ]
     },
     "execution_count": 20,
     "metadata": {},
     "output_type": "execute_result"
    }
   ],
   "source": [
    "colors[-2] # 오른쪽 끝에서 두 번째 문자"
   ]
  },
  {
   "cell_type": "markdown",
   "id": "1483771a",
   "metadata": {},
   "source": [
    "### 문자열 슬라이싱"
   ]
  },
  {
   "cell_type": "markdown",
   "id": "6ff7500f-0825-4ea7-8096-8c0072e7235e",
   "metadata": {
    "tags": []
   },
   "source": [
    "인덱스의 특정 구간에 해당하는 부분 문자열을 확인하려 할 때는 \n",
    "**슬라이싱**<font size = \"2\">slicing</font>을 사용한다.\n",
    "슬라이싱은 다음과 같이 실행한다.  \n",
    "\n",
    "* 시작 인덱스 : 해당 인덱스부터 문자 확인\n",
    "* 끝 인덱스 : 해당 인덱스 이전까지의 문자 확인\n",
    "* 계단: 시작 인덱스부터 몇 계단씩 건너뛰며 문자를 추출할지 결정. \n",
    "    계단의 크기가 1이면 생략 가능."
   ]
  },
  {
   "cell_type": "code",
   "execution_count": 21,
   "id": "a8a02eab-a16d-4b62-a7f9-fd6675368f55",
   "metadata": {},
   "outputs": [],
   "source": [
    "colors = 'red, blue, yellow'"
   ]
  },
  {
   "cell_type": "markdown",
   "id": "23912c81-c71d-47c3-9aa2-573e8867f26f",
   "metadata": {},
   "source": [
    "`colors`에서 `red`를 추출하고 싶다면 다음과 같이 하면 된다. "
   ]
  },
  {
   "cell_type": "code",
   "execution_count": 22,
   "id": "fbebed05",
   "metadata": {},
   "outputs": [
    {
     "data": {
      "text/plain": [
       "'red'"
      ]
     },
     "execution_count": 22,
     "metadata": {},
     "output_type": "execute_result"
    }
   ],
   "source": [
    "colors[0 : 3 : 1]"
   ]
  },
  {
   "cell_type": "markdown",
   "id": "e9235d41-72ce-469f-b71f-5f2ee9f12b93",
   "metadata": {},
   "source": [
    "`colors`에서 `b`부터 끝까지 하나씩 건너서 추출하려면 다음과 같이 하면 된다. "
   ]
  },
  {
   "cell_type": "code",
   "execution_count": 23,
   "id": "b9016767-c4b3-4f19-aa57-37f3baf0167e",
   "metadata": {},
   "outputs": [
    {
     "data": {
      "text/plain": [
       "'bu,ylo'"
      ]
     },
     "execution_count": 23,
     "metadata": {},
     "output_type": "execute_result"
    }
   ],
   "source": [
    "colors[5 : len(colors) : 2]"
   ]
  },
  {
   "cell_type": "markdown",
   "id": "d2500f09-12fe-407c-b396-09c94da53578",
   "metadata": {},
   "source": [
    "양의 정수와 음의 정수를 섞어서 인덱스로 사용할 수 있다."
   ]
  },
  {
   "cell_type": "code",
   "execution_count": 24,
   "id": "b0d3b26d-5f98-49e6-ae6f-f32d2b42875b",
   "metadata": {},
   "outputs": [
    {
     "data": {
      "text/plain": [
       "'bu,ylo'"
      ]
     },
     "execution_count": 24,
     "metadata": {},
     "output_type": "execute_result"
    }
   ],
   "source": [
    "colors[5 : -1 : 2]"
   ]
  },
  {
   "cell_type": "markdown",
   "id": "b7f8c0ba-3e3b-45c2-ad2c-9f911cb6aa8d",
   "metadata": {},
   "source": [
    "시작인덱스, 끝인덱스, 계단 각각의 인자는 경우에 따라 생략될 수도 있다. \n",
    "그럴 때는 각각의 위치에 대해 설정된 기본값이 사용된다.\n",
    "\n",
    "* `시작 인덱스`의 기본값 : `0`  \n",
    "* `끝 인덱스`의 기본값 : 문자열의 길이  \n",
    "* `계단`의 기본값 : `1`"
   ]
  },
  {
   "cell_type": "code",
   "execution_count": 25,
   "id": "c26ea62e-c1d2-46fa-b4c3-09cdf756b032",
   "metadata": {},
   "outputs": [
    {
     "data": {
      "text/plain": [
       "'red'"
      ]
     },
     "execution_count": 25,
     "metadata": {},
     "output_type": "execute_result"
    }
   ],
   "source": [
    "colors[ : 3 : ]"
   ]
  },
  {
   "cell_type": "code",
   "execution_count": 26,
   "id": "0ab0f20a-f247-4baf-8d55-d9bdf4024594",
   "metadata": {},
   "outputs": [
    {
     "data": {
      "text/plain": [
       "'red'"
      ]
     },
     "execution_count": 26,
     "metadata": {},
     "output_type": "execute_result"
    }
   ],
   "source": [
    "colors[ : 3] #계단을 생략할 떄는 콜론(:)도 함께 생략가능"
   ]
  },
  {
   "cell_type": "code",
   "execution_count": 27,
   "id": "80f73adf-2d2c-4d05-8c73-ec6a482c7335",
   "metadata": {},
   "outputs": [
    {
     "data": {
      "text/plain": [
       "'bu,ylo'"
      ]
     },
     "execution_count": 27,
     "metadata": {},
     "output_type": "execute_result"
    }
   ],
   "source": [
    "colors[5 : : 2]"
   ]
  },
  {
   "cell_type": "markdown",
   "id": "086a978f",
   "metadata": {},
   "source": [
    "**역순 슬라이싱**\n",
    "\n",
    "슬라이싱은 기본적으로 작은 인덱스에서 큰 인덱스 방향으로 확인한다. \n",
    "하지만 역순으로 확인하고자 한다면 계단에 음의 정수를 사용하면 된다.\n",
    "계단이 `-1`이고, 시작 인덱스와 끝 인덱스를 생략하면 문자열 전체를 역순으로 확인한다."
   ]
  },
  {
   "cell_type": "code",
   "execution_count": 28,
   "id": "ff7ed75c",
   "metadata": {},
   "outputs": [
    {
     "data": {
      "text/plain": [
       "'wolley ,eulb ,der'"
      ]
     },
     "execution_count": 28,
     "metadata": {},
     "output_type": "execute_result"
    }
   ],
   "source": [
    "colors[ : : -1]"
   ]
  },
  {
   "cell_type": "markdown",
   "id": "cacb82d7",
   "metadata": {},
   "source": [
    ":::{admonition} 주의\n",
    ":class: caution  \n",
    "\n",
    "문자열은 불변 자료형이라 인덱싱 또는 슬라이싱을 사용하여 값의 일부를 변경할 수 없다.\n",
    "\n",
    "```python\n",
    ">>> a_word = 'hello'\n",
    ">>> a_word[0] = 'H'\n",
    "TypeError                                 Traceback (most recent call last)\n",
    "/tmp/ipykernel_1817/217255829.py in <module>\n",
    "      1 a_word = 'hello'\n",
    "----> 2 a_word[0] = 'H'\n",
    "\n",
    "TypeError: 'str' object does not support item assignment\n",
    "```\n",
    ":::"
   ]
  },
  {
   "cell_type": "markdown",
   "id": "55989729",
   "metadata": {},
   "source": [
    "### 문자열 메서드 "
   ]
  },
  {
   "cell_type": "markdown",
   "id": "d12183aa-af4a-4207-9c4f-49b2419f75cc",
   "metadata": {},
   "source": [
    "문자열 자료형에만 사용하는 함수들이 있다. 이와같이 특정 자료형에만 사용하는 함수들을 메서드<font size = \"2\">method</font>라 부른다.\n",
    "메서드는 일반적인 함수들과는 달리, 특정 자료형의 값을 먼저 언급하고 바로 이어서 점(`.`)을 찍은 다음 호출한다."
   ]
  },
  {
   "cell_type": "markdown",
   "id": "b5f17304",
   "metadata": {},
   "source": [
    "문자열 자료형이 제공하는 주요 메서드는 아래 표와 같다. "
   ]
  },
  {
   "cell_type": "markdown",
   "id": "79185a79-a39c-4306-9be3-ab280dc40e13",
   "metadata": {},
   "source": [
    "|메서드|설명|\n",
    "|:---|:---|\n",
    "|`count()`|지정된 문자열이 등장한 횟수 반환|\n",
    "|`find()`|지정된 문자열이 처음 등장한 위치 반환. 지정된 문자열이 없다면 -1반환|\n",
    "|`index()`|지정된 문자열이 처음 등장한 위치 반환. 지정된 문자열이 없다면 오류발생|\n",
    "|`lower()`|문자열에 사용된 문자를 모두 소문자로 변환한 문자열 반환|`words.lower()`|\n",
    "|`upper()`|문자열에 사용된 문자를 모두 대문자로 변환한 문자열 반환|`words.upper()`|\n",
    "|`replace()`|하나의 문자열을 다른 문자열로 대체한 문자열 반환|`words.replace('so ', '')`|\n",
    "|`lstrip()`|문자열 왼쪽에서 지정된 부분 문자열을 삭제한 문자열 반환. 지정된 부분 문자열이 없는 경우 왼쪽 공백들을 삭제한 문자열 반환|\n",
    "|`rstrip()`|문자열 오른쪽에서 지정된 부분 문자열을 삭제한 문자열 반환. 지정된 부분 문자열이 없는 경우 오른쪽 공백들을 삭제한 문자열 반환|\n",
    "|`strip()`|문자열 양쪽에서 지정된 부분 문자열을 삭제한 문자열 반환. 지정된 문자열이 없는 경우 양쪽 공백들을 삭제한 문자열 반환|\n",
    "|`split()`|문자열을 지정된 기준으로 쪼개서 생성된 문자열들로 구성된 리스트 반환. 지정된 문자열이 없는 경우 공백을 기준 사용|\n",
    "|`join()`|지정된 문자열에 포함된 모든 문자들 사이에 지정된 문자열이 삽입된 문자열 반환|"
   ]
  },
  {
   "cell_type": "markdown",
   "id": "93c7d2cd",
   "metadata": {},
   "source": [
    "**`count()` 메서드**"
   ]
  },
  {
   "cell_type": "code",
   "execution_count": 29,
   "id": "869ed2fe",
   "metadata": {},
   "outputs": [],
   "source": [
    "words = \" My life is so cool, my life is so cool \""
   ]
  },
  {
   "cell_type": "code",
   "execution_count": 30,
   "id": "45340a57",
   "metadata": {},
   "outputs": [
    {
     "data": {
      "text/plain": [
       "2"
      ]
     },
     "execution_count": 30,
     "metadata": {},
     "output_type": "execute_result"
    }
   ],
   "source": [
    "words.count('so')"
   ]
  },
  {
   "cell_type": "markdown",
   "id": "5f256f1e",
   "metadata": {},
   "source": [
    "**`find()` 메서드**"
   ]
  },
  {
   "cell_type": "code",
   "execution_count": 31,
   "id": "f9cc9acd",
   "metadata": {},
   "outputs": [
    {
     "data": {
      "text/plain": [
       "4"
      ]
     },
     "execution_count": 31,
     "metadata": {},
     "output_type": "execute_result"
    }
   ],
   "source": [
    "words.find('life')"
   ]
  },
  {
   "cell_type": "markdown",
   "id": "cfc1e51b",
   "metadata": {},
   "source": [
    "**`index()` 메서드**"
   ]
  },
  {
   "cell_type": "code",
   "execution_count": 32,
   "id": "8eed87ab",
   "metadata": {},
   "outputs": [
    {
     "data": {
      "text/plain": [
       "1"
      ]
     },
     "execution_count": 32,
     "metadata": {},
     "output_type": "execute_result"
    }
   ],
   "source": [
    "words.index('My')"
   ]
  },
  {
   "cell_type": "markdown",
   "id": "c9aba52e",
   "metadata": {},
   "source": [
    "**`lower()` 메서드**"
   ]
  },
  {
   "cell_type": "code",
   "execution_count": 33,
   "id": "2a2c9d04",
   "metadata": {},
   "outputs": [
    {
     "data": {
      "text/plain": [
       "' my life is so cool, my life is so cool '"
      ]
     },
     "execution_count": 33,
     "metadata": {},
     "output_type": "execute_result"
    }
   ],
   "source": [
    "words.lower()"
   ]
  },
  {
   "cell_type": "markdown",
   "id": "502f4b2e",
   "metadata": {},
   "source": [
    "**`upper()` 메서드**"
   ]
  },
  {
   "cell_type": "code",
   "execution_count": 34,
   "id": "42cad500",
   "metadata": {},
   "outputs": [
    {
     "data": {
      "text/plain": [
       "' MY LIFE IS SO COOL, MY LIFE IS SO COOL '"
      ]
     },
     "execution_count": 34,
     "metadata": {},
     "output_type": "execute_result"
    }
   ],
   "source": [
    "words.upper()"
   ]
  },
  {
   "cell_type": "markdown",
   "id": "fdfd47b4",
   "metadata": {},
   "source": [
    "**`replace()` 메서드**"
   ]
  },
  {
   "cell_type": "code",
   "execution_count": 35,
   "id": "f4480c4c",
   "metadata": {},
   "outputs": [
    {
     "data": {
      "text/plain": [
       "' My life is thatcool, my life is thatcool '"
      ]
     },
     "execution_count": 35,
     "metadata": {},
     "output_type": "execute_result"
    }
   ],
   "source": [
    "words.replace('so ', 'that')"
   ]
  },
  {
   "cell_type": "markdown",
   "id": "ca9e389e",
   "metadata": {},
   "source": [
    "**`lstrip()` 메서드**"
   ]
  },
  {
   "cell_type": "code",
   "execution_count": 36,
   "id": "bd464876",
   "metadata": {},
   "outputs": [
    {
     "data": {
      "text/plain": [
       "'My life is so cool, my life is so cool '"
      ]
     },
     "execution_count": 36,
     "metadata": {},
     "output_type": "execute_result"
    }
   ],
   "source": [
    "words.lstrip()"
   ]
  },
  {
   "cell_type": "markdown",
   "id": "02e26450",
   "metadata": {},
   "source": [
    "**`rstrip()` 메서드**"
   ]
  },
  {
   "cell_type": "code",
   "execution_count": 37,
   "id": "bf0f4c92",
   "metadata": {},
   "outputs": [
    {
     "data": {
      "text/plain": [
       "' My life is so cool, my life is so cool'"
      ]
     },
     "execution_count": 37,
     "metadata": {},
     "output_type": "execute_result"
    }
   ],
   "source": [
    "words.rstrip()"
   ]
  },
  {
   "cell_type": "markdown",
   "id": "b6e3eeaa",
   "metadata": {},
   "source": [
    "**`strip()` 메서드**"
   ]
  },
  {
   "cell_type": "code",
   "execution_count": 38,
   "id": "fa399768",
   "metadata": {},
   "outputs": [
    {
     "data": {
      "text/plain": [
       "'My life is so cool, my life is so cool'"
      ]
     },
     "execution_count": 38,
     "metadata": {},
     "output_type": "execute_result"
    }
   ],
   "source": [
    "words.strip()"
   ]
  },
  {
   "cell_type": "markdown",
   "id": "e597a1d5",
   "metadata": {},
   "source": [
    "**`split()` 메서드**"
   ]
  },
  {
   "cell_type": "code",
   "execution_count": 39,
   "id": "c98572a8",
   "metadata": {},
   "outputs": [
    {
     "data": {
      "text/plain": [
       "['My', 'life', 'is', 'so', 'cool,', 'my', 'life', 'is', 'so', 'cool']"
      ]
     },
     "execution_count": 39,
     "metadata": {},
     "output_type": "execute_result"
    }
   ],
   "source": [
    "words.split()"
   ]
  },
  {
   "cell_type": "markdown",
   "id": "8ce09a8b",
   "metadata": {},
   "source": [
    "**`join()` 메서드**"
   ]
  },
  {
   "cell_type": "code",
   "execution_count": 40,
   "id": "e060d9f0",
   "metadata": {},
   "outputs": [
    {
     "data": {
      "text/plain": [
       "'H--e--l--l--o'"
      ]
     },
     "execution_count": 40,
     "metadata": {},
     "output_type": "execute_result"
    }
   ],
   "source": [
    "'--'.join('Hello')"
   ]
  },
  {
   "cell_type": "markdown",
   "id": "6c5cce51-c29c-4e86-a8a5-ee0991f56750",
   "metadata": {},
   "source": [
    "(sec:list)=\n",
    "## 리스트"
   ]
  },
  {
   "cell_type": "markdown",
   "id": "096200ca-cea4-49d3-af8e-154aed4af5aa",
   "metadata": {},
   "source": [
    "리스트는 유한개의 값들을 모아서 하나의 값으로 취급하는 자료형이다.\n",
    "대괄호(`[]`)를 사용하고, 각 항목은 콤마(`,`)로 구분한다. "
   ]
  },
  {
   "cell_type": "code",
   "execution_count": 41,
   "id": "67c56924-64ab-4ae6-bdb3-14b79bc698e0",
   "metadata": {},
   "outputs": [
    {
     "data": {
      "text/plain": [
       "[1, 2, 3, 4, 5]"
      ]
     },
     "execution_count": 41,
     "metadata": {},
     "output_type": "execute_result"
    }
   ],
   "source": [
    "[1, 2, 3, 4, 5]"
   ]
  },
  {
   "cell_type": "code",
   "execution_count": 42,
   "id": "7e221cc8-4207-49f9-b4da-ddea3c1a420e",
   "metadata": {},
   "outputs": [
    {
     "data": {
      "text/plain": [
       "['a', 'b', 'c']"
      ]
     },
     "execution_count": 42,
     "metadata": {},
     "output_type": "execute_result"
    }
   ],
   "source": [
    "['a', 'b', 'c']"
   ]
  },
  {
   "cell_type": "markdown",
   "id": "5d28ecca-f3a0-434e-8dd1-fe80856e821f",
   "metadata": {},
   "source": [
    "리스트는 아래와 같이 서로 다른 자료형의 항목들을 포함할 수 있다."
   ]
  },
  {
   "cell_type": "code",
   "execution_count": 43,
   "id": "8f1b2cf7-6e9a-4b6f-a2ed-ef5a79a4ea1d",
   "metadata": {},
   "outputs": [],
   "source": [
    "mixed_list = [1, 2.3, 'abc', True, [1, 2], ('a', 'b')]"
   ]
  },
  {
   "cell_type": "markdown",
   "id": "87c9242f",
   "metadata": {},
   "source": [
    "리스트는 순차 자료형이며, 따라서 항목의 순서 또는 개수가 다르면 서로 다른 리스트로 처리된다."
   ]
  },
  {
   "cell_type": "code",
   "execution_count": 44,
   "id": "4918c7c2",
   "metadata": {},
   "outputs": [
    {
     "data": {
      "text/plain": [
       "False"
      ]
     },
     "execution_count": 44,
     "metadata": {},
     "output_type": "execute_result"
    }
   ],
   "source": [
    "[1, 2] == [2, 1]"
   ]
  },
  {
   "cell_type": "code",
   "execution_count": 45,
   "id": "f4d8d242",
   "metadata": {},
   "outputs": [
    {
     "data": {
      "text/plain": [
       "False"
      ]
     },
     "execution_count": 45,
     "metadata": {},
     "output_type": "execute_result"
    }
   ],
   "source": [
    "[1] == [1, 1]"
   ]
  },
  {
   "cell_type": "markdown",
   "id": "fb4310c9-35c0-4c8d-bf94-0a49a7b03830",
   "metadata": {},
   "source": [
    "**빈 리스트**\n",
    "\n",
    "빈 리스트<font size = \"2\">empty list</font>는 아무것도 포함하지 않는 리스트를 의미한다.\n",
    "빈 리스트를 만드는 방법은 아래와 같다. \n",
    "\n",
    "```python\n",
    "empty_list = []\n",
    "empty_list = list()\n",
    "```"
   ]
  },
  {
   "cell_type": "markdown",
   "id": "cd40d18d",
   "metadata": {},
   "source": [
    "아래 `a_singleton`은 빈 리스트가 아니라 빈 리스트를 포함하는 리스트를 가리킨다."
   ]
  },
  {
   "cell_type": "code",
   "execution_count": 46,
   "id": "4a92011d",
   "metadata": {},
   "outputs": [
    {
     "name": "stdout",
     "output_type": "stream",
     "text": [
      "[[]]\n"
     ]
    }
   ],
   "source": [
    "a_singleton = [[]]\n",
    "print(a_singleton)"
   ]
  },
  {
   "cell_type": "markdown",
   "id": "6f8dc594",
   "metadata": {},
   "source": [
    "### 리스트 연산"
   ]
  },
  {
   "cell_type": "markdown",
   "id": "c5984f75-6dbb-411d-90b8-56e5bb23b279",
   "metadata": {},
   "source": [
    "**`in` 연산자**\n",
    "\n",
    "리스트의 항목으로 등장하는지 여부를 알려주는 논리 연산자이다."
   ]
  },
  {
   "cell_type": "code",
   "execution_count": 47,
   "id": "1deda97c-fb46-46d7-aba3-8d2ef4366928",
   "metadata": {},
   "outputs": [
    {
     "data": {
      "text/plain": [
       "True"
      ]
     },
     "execution_count": 47,
     "metadata": {},
     "output_type": "execute_result"
    }
   ],
   "source": [
    "3 in [1, 2, 3, 4, 5]"
   ]
  },
  {
   "cell_type": "code",
   "execution_count": 48,
   "id": "342e2994-0594-49e3-8bcf-b6367c8acb09",
   "metadata": {},
   "outputs": [
    {
     "data": {
      "text/plain": [
       "False"
      ]
     },
     "execution_count": 48,
     "metadata": {},
     "output_type": "execute_result"
    }
   ],
   "source": [
    "'a' in [1, 2, 3, 4, 5]"
   ]
  },
  {
   "cell_type": "code",
   "execution_count": 49,
   "id": "93633e8d-fce5-4c41-a3eb-d7076a5e3565",
   "metadata": {},
   "outputs": [
    {
     "data": {
      "text/plain": [
       "True"
      ]
     },
     "execution_count": 49,
     "metadata": {},
     "output_type": "execute_result"
    }
   ],
   "source": [
    "'a' not in [1, 2, 3, 4, 5]"
   ]
  },
  {
   "cell_type": "markdown",
   "id": "3b3e6040-6600-42f4-830c-21cb27d5d2e2",
   "metadata": {
    "tags": []
   },
   "source": [
    "**이어붙이기/복제**\n",
    "\n",
    "문자열의 경우처럼 리스트도 이어붙이기와 복제 연산을 사용한다."
   ]
  },
  {
   "cell_type": "code",
   "execution_count": 50,
   "id": "8bb8e1a2-5f00-404c-923d-9d1bb5c51494",
   "metadata": {},
   "outputs": [
    {
     "data": {
      "text/plain": [
       "['a', 'b', 'b', 'c', 'd']"
      ]
     },
     "execution_count": 50,
     "metadata": {},
     "output_type": "execute_result"
    }
   ],
   "source": [
    "['a', 'b'] + ['b', 'c', 'd']"
   ]
  },
  {
   "cell_type": "code",
   "execution_count": 51,
   "id": "6e9bce64-bc93-40d8-8332-466cd7c40029",
   "metadata": {},
   "outputs": [
    {
     "data": {
      "text/plain": [
       "['a', 'b', 'a', 'b']"
      ]
     },
     "execution_count": 51,
     "metadata": {},
     "output_type": "execute_result"
    }
   ],
   "source": [
    "['a', 'b'] * 2"
   ]
  },
  {
   "cell_type": "code",
   "execution_count": 52,
   "id": "2a51853a",
   "metadata": {},
   "outputs": [
    {
     "data": {
      "text/plain": [
       "['a', 'b', 'a', 'b']"
      ]
     },
     "execution_count": 52,
     "metadata": {},
     "output_type": "execute_result"
    }
   ],
   "source": [
    "2 * ['a', 'b']"
   ]
  },
  {
   "cell_type": "markdown",
   "id": "5f239334-9c1c-4e79-8b3f-68b9a8e6498b",
   "metadata": {},
   "source": [
    "**`min()`/`max()` 함수**\n",
    "\n",
    "항목 중에서 최솟값 또는 최댓값을 확인한다.\n",
    "단, 기본적으로 모든 값의 자료형이 갖고 크기 비교가 가능해야 한다. "
   ]
  },
  {
   "cell_type": "code",
   "execution_count": 53,
   "id": "65f1bd31",
   "metadata": {},
   "outputs": [],
   "source": [
    "a_list = [3, 15, 9, 12]"
   ]
  },
  {
   "cell_type": "code",
   "execution_count": 54,
   "id": "fca42487-2264-44a9-95e3-b367ec7770d3",
   "metadata": {},
   "outputs": [
    {
     "data": {
      "text/plain": [
       "15"
      ]
     },
     "execution_count": 54,
     "metadata": {},
     "output_type": "execute_result"
    }
   ],
   "source": [
    "max(a_list)"
   ]
  },
  {
   "cell_type": "code",
   "execution_count": 55,
   "id": "d18ce7af-dc09-4e82-830a-8bdacf22eafe",
   "metadata": {},
   "outputs": [
    {
     "data": {
      "text/plain": [
       "3"
      ]
     },
     "execution_count": 55,
     "metadata": {},
     "output_type": "execute_result"
    }
   ],
   "source": [
    "min(a_list)"
   ]
  },
  {
   "cell_type": "markdown",
   "id": "4cff8cb9",
   "metadata": {},
   "source": [
    "**`len()`함수** \n",
    "\n",
    "리스트의 길이, 즉 리스트에 포함된 항목의 개수를 반환한다."
   ]
  },
  {
   "cell_type": "code",
   "execution_count": 56,
   "id": "bb391fd1",
   "metadata": {},
   "outputs": [
    {
     "data": {
      "text/plain": [
       "4"
      ]
     },
     "execution_count": 56,
     "metadata": {},
     "output_type": "execute_result"
    }
   ],
   "source": [
    "len(a_list)"
   ]
  },
  {
   "cell_type": "markdown",
   "id": "4d80b453",
   "metadata": {},
   "source": [
    "### 리스트 인덱싱/슬라이싱"
   ]
  },
  {
   "cell_type": "markdown",
   "id": "fcf82ff3-bf87-4f8d-81f9-76c6aea2fe57",
   "metadata": {},
   "source": [
    "리스트도 문자열처럼 인덱싱과 슬라이싱을 지원하며\n",
    "사용방식도 거의 동일하다."
   ]
  },
  {
   "cell_type": "code",
   "execution_count": 57,
   "id": "af469af3",
   "metadata": {},
   "outputs": [],
   "source": [
    "a_list = [3, 15, 9, 12, 7, 14, 10]"
   ]
  },
  {
   "cell_type": "code",
   "execution_count": 58,
   "id": "0af7de7f",
   "metadata": {},
   "outputs": [
    {
     "data": {
      "text/plain": [
       "3"
      ]
     },
     "execution_count": 58,
     "metadata": {},
     "output_type": "execute_result"
    }
   ],
   "source": [
    "a_list[0]"
   ]
  },
  {
   "cell_type": "code",
   "execution_count": 59,
   "id": "f9fd0591",
   "metadata": {},
   "outputs": [
    {
     "data": {
      "text/plain": [
       "10"
      ]
     },
     "execution_count": 59,
     "metadata": {},
     "output_type": "execute_result"
    }
   ],
   "source": [
    "a_list[-1]"
   ]
  },
  {
   "cell_type": "code",
   "execution_count": 60,
   "id": "faaeb17b",
   "metadata": {},
   "outputs": [
    {
     "data": {
      "text/plain": [
       "[9, 12, 7]"
      ]
     },
     "execution_count": 60,
     "metadata": {},
     "output_type": "execute_result"
    }
   ],
   "source": [
    "a_list[2 : 5]"
   ]
  },
  {
   "cell_type": "code",
   "execution_count": 61,
   "id": "8b4effdf-8818-424a-82f6-22c0f11ac538",
   "metadata": {},
   "outputs": [
    {
     "data": {
      "text/plain": [
       "[9, 7]"
      ]
     },
     "execution_count": 61,
     "metadata": {},
     "output_type": "execute_result"
    }
   ],
   "source": [
    "a_list[2 : 6 : 2]"
   ]
  },
  {
   "cell_type": "code",
   "execution_count": 62,
   "id": "2c7d8c99",
   "metadata": {},
   "outputs": [
    {
     "data": {
      "text/plain": [
       "[10, 14, 7, 12, 9, 15, 3]"
      ]
     },
     "execution_count": 62,
     "metadata": {},
     "output_type": "execute_result"
    }
   ],
   "source": [
    "a_list[:: -1]"
   ]
  },
  {
   "cell_type": "markdown",
   "id": "417dd776-6ad4-434a-9c7e-a8da7deaa533",
   "metadata": {},
   "source": [
    "리스트는 가변 자료형이라 값을 변경할 수 있다.\n",
    "예를 들어, 인덱싱을 사용하여 `a_list[3]`을 `12`에서 `100`으로 변경할 수 있다. "
   ]
  },
  {
   "cell_type": "code",
   "execution_count": 63,
   "id": "12e0d701-06c7-4d78-9804-f0a4ff82a3db",
   "metadata": {},
   "outputs": [
    {
     "name": "stdout",
     "output_type": "stream",
     "text": [
      "[3, 15, 9, 100, 7, 14, 10]\n"
     ]
    }
   ],
   "source": [
    "a_list[3] = 100\n",
    "\n",
    "print(a_list)"
   ]
  },
  {
   "cell_type": "markdown",
   "id": "5ea4d883-34c2-4263-a8fe-fa4ae0dff50d",
   "metadata": {},
   "source": [
    "이번에는 슬라이싱을 사용하여 2번 인덱스 값부터 5번 인덱스 값 전까지를 1과 11로 변경해보자. "
   ]
  },
  {
   "cell_type": "code",
   "execution_count": 64,
   "id": "3838eead-09d1-48bf-af64-b50951b7f8d9",
   "metadata": {},
   "outputs": [
    {
     "name": "stdout",
     "output_type": "stream",
     "text": [
      "[3, 15, 1, 11, 14, 10]\n"
     ]
    }
   ],
   "source": [
    "a_list[2 : 5] = [1, 11]\n",
    "\n",
    "print(a_list)"
   ]
  },
  {
   "cell_type": "markdown",
   "id": "52978608",
   "metadata": {},
   "source": [
    "**`del` 명령어**"
   ]
  },
  {
   "cell_type": "markdown",
   "id": "d02128b3-881b-4468-8654-619429c26006",
   "metadata": {},
   "source": [
    "`del` 명령어를 사용하여 리스트의 일부 또는 전체를 삭제할 수 있다. "
   ]
  },
  {
   "cell_type": "code",
   "execution_count": 65,
   "id": "ae5d8901",
   "metadata": {},
   "outputs": [
    {
     "name": "stdout",
     "output_type": "stream",
     "text": [
      "[3, 15, 1, 11, 14, 10]\n"
     ]
    }
   ],
   "source": [
    "print(a_list)"
   ]
  },
  {
   "cell_type": "code",
   "execution_count": 66,
   "id": "c9100bcb-50e9-462c-8b4e-e5389a8a79fa",
   "metadata": {},
   "outputs": [
    {
     "name": "stdout",
     "output_type": "stream",
     "text": [
      "[15, 1, 11, 14, 10]\n"
     ]
    }
   ],
   "source": [
    "del a_list[0]\n",
    "print(a_list)"
   ]
  },
  {
   "cell_type": "markdown",
   "id": "4c4fd934",
   "metadata": {},
   "source": [
    ":::{admonition} 주의\n",
    ":class: caution  \n",
    "\n",
    "`del` 명령어로 리스트를 메모리에서 삭제할 수 있다. \n",
    "이런 경우 리스트를 사용하려 하면 오류가 발생한다.\n",
    "\n",
    "```python\n",
    ">>> del a_list\n",
    ">>> print(a_list)\n",
    "---------------------------------------------------------------------------\n",
    "NameError                                 Traceback (most recent call last)\n",
    "/tmp/ipykernel_647/65709556.py in <module>\n",
    "----> 1 print(a_list)\n",
    "\n",
    "NameError: name 'a_list' is not defined\n",
    "```\n",
    ":::"
   ]
  },
  {
   "cell_type": "markdown",
   "id": "2f3ba194",
   "metadata": {},
   "source": [
    "### 리스트 메서드 "
   ]
  },
  {
   "cell_type": "markdown",
   "id": "fc727cbd-911f-48ab-90d0-71f56bd4d122",
   "metadata": {},
   "source": [
    "리스트 자료형이 제공하는 주요 메서드는 아래와 같다."
   ]
  },
  {
   "cell_type": "markdown",
   "id": "85600008-c8b2-44d3-9ed9-166cbb45062a",
   "metadata": {},
   "source": [
    "|메서드|설명|\n",
    "|:----------|:----------|\n",
    "|`append()`|리스트 끝에 항목 추가. 반환값은 `None`|\n",
    "|`extend()`|리스트를 연결하여 확장. 반환값은 `None`|\n",
    "|`insert()`|지정된 인덱스에 항목 추가. 반환값은 `None`|\n",
    "|`pop()`|지정된 인덱스의 항목 삭제 후 삭제된 값 반환. 인덱스를 지정하지 않으면 마지막 항목 삭제 후 삭제된 값 반환|\n",
    "|`remove()`|지정된 항목이 처음으로 사용된 위치에서 삭제. 반환값은 `None`|\n",
    "|`sort()`|리스트의 항목을 크기 순으로 정렬. 반환값은 `None`|\n",
    "|`reverse()`|리스트의 항목들 순서 뒤집기. 반환값은 `None`|\n",
    "|`index()`|지정된 항목이 처음 위치한 인덱스 반환|\n",
    "|`count()`|지정된 항목이 등장한 횟수 반환|\n",
    "\n"
   ]
  },
  {
   "cell_type": "code",
   "execution_count": 67,
   "id": "e2602f21-ecc5-4bc1-835f-b017b54be96c",
   "metadata": {},
   "outputs": [],
   "source": [
    "food = ['banana', 'apple', 'coconut', 'apple']"
   ]
  },
  {
   "cell_type": "markdown",
   "id": "02675f0d-305a-4264-9daa-00d7df37dd23",
   "metadata": {},
   "source": [
    "**`append()` 메서드**"
   ]
  },
  {
   "cell_type": "code",
   "execution_count": 68,
   "id": "c96a80aa-b5ed-43ff-9c3a-d9134c1470d9",
   "metadata": {},
   "outputs": [
    {
     "name": "stdout",
     "output_type": "stream",
     "text": [
      "None\n"
     ]
    }
   ],
   "source": [
    "print(food.append('durian'))"
   ]
  },
  {
   "cell_type": "code",
   "execution_count": 69,
   "id": "c5b6c325-23ed-4bcd-9b8b-b33b0560e71b",
   "metadata": {},
   "outputs": [
    {
     "data": {
      "text/plain": [
       "['banana', 'apple', 'coconut', 'apple', 'durian']"
      ]
     },
     "execution_count": 69,
     "metadata": {},
     "output_type": "execute_result"
    }
   ],
   "source": [
    "food"
   ]
  },
  {
   "cell_type": "markdown",
   "id": "1d579de0-7078-467c-8be3-d1ab0d4a6c1b",
   "metadata": {},
   "source": [
    "리스트 끝에 `eggplant`와 `fig`를 아래와 같이 추가해보자. "
   ]
  },
  {
   "cell_type": "code",
   "execution_count": 70,
   "id": "892c31ae-54e7-4bbf-899e-e71ad55877a0",
   "metadata": {},
   "outputs": [
    {
     "data": {
      "text/plain": [
       "['banana', 'apple', 'coconut', 'apple', 'durian', ['eggplant', 'fig']]"
      ]
     },
     "execution_count": 70,
     "metadata": {},
     "output_type": "execute_result"
    }
   ],
   "source": [
    "food.append(['eggplant', 'fig'])\n",
    "\n",
    "food"
   ]
  },
  {
   "cell_type": "markdown",
   "id": "f52aa9d8-d244-4066-9709-0c23d32432e6",
   "metadata": {},
   "source": [
    "그러면 `food` 리스트 끝에 두 개의 항목이 추가되는 것이 아니라 `['eggplant', 'fig']`리스트가 추가된 것을 볼 수 있다.  \n",
    "지금은 `del`을 사용하여 추가된 마지막 항목을 삭제한다. "
   ]
  },
  {
   "cell_type": "code",
   "execution_count": 71,
   "id": "e9539079-8431-42d3-a9ad-80a634c65a96",
   "metadata": {},
   "outputs": [],
   "source": [
    "del food[-1]"
   ]
  },
  {
   "cell_type": "markdown",
   "id": "cbf050ee-2182-438c-a9c0-af3137d84842",
   "metadata": {},
   "source": [
    "두 개의 항목을 리스트에 추가하고자 한다면 `append()` 메서드를 두 번 적용하거나 `extend()` 메서드를 사용하면 된다.  "
   ]
  },
  {
   "cell_type": "markdown",
   "id": "f3d5d996-a473-4d86-b668-777d603e0284",
   "metadata": {},
   "source": [
    "**`extend()` 메서드**"
   ]
  },
  {
   "cell_type": "code",
   "execution_count": 72,
   "id": "345cb73b-bb27-4f32-a238-3cc82dd3b771",
   "metadata": {},
   "outputs": [
    {
     "data": {
      "text/plain": [
       "['banana', 'apple', 'coconut', 'apple', 'durian', 'eggplant', 'fig']"
      ]
     },
     "execution_count": 72,
     "metadata": {},
     "output_type": "execute_result"
    }
   ],
   "source": [
    "food.extend(['eggplant', 'fig'])\n",
    "food"
   ]
  },
  {
   "cell_type": "markdown",
   "id": "92d3cbee-0c01-4176-b4b8-016cfe21139b",
   "metadata": {},
   "source": [
    ":::{admonition} 참고   \n",
    ":class: info   \n",
    "\n",
    "두 개의 리스트를 덧셈 기호를 이용하여 확장할 수도 있지만, 원래의 리스트를 변경하는 것이 아니라 새로운 리스트를 생성한다.\n",
    "\n",
    "```python\n",
    ">>> food = ['banana', 'apple', 'coconut', 'apple']\n",
    ">>> food + ['eggplant', 'fig']\n",
    "['banana', 'apple', 'coconut', 'apple', 'eggplant', 'fig']\n",
    ">>> food\n",
    "['banana', 'apple', 'coconut', 'apple']\n",
    "```\n",
    ":::"
   ]
  },
  {
   "cell_type": "markdown",
   "id": "bd447342",
   "metadata": {},
   "source": [
    "**`insert()` 메서드**"
   ]
  },
  {
   "cell_type": "code",
   "execution_count": 73,
   "id": "3f84c768-2bea-46e2-9bb9-ead6e9faf362",
   "metadata": {},
   "outputs": [
    {
     "data": {
      "text/plain": [
       "['banana',\n",
       " 'blueberry',\n",
       " 'apple',\n",
       " 'coconut',\n",
       " 'apple',\n",
       " 'durian',\n",
       " 'eggplant',\n",
       " 'fig']"
      ]
     },
     "execution_count": 73,
     "metadata": {},
     "output_type": "execute_result"
    }
   ],
   "source": [
    "food.insert(1, 'blueberry')\n",
    "food"
   ]
  },
  {
   "cell_type": "markdown",
   "id": "fe649079-71ea-4b80-8c72-0cd3561d0b16",
   "metadata": {},
   "source": [
    "**`pop()` 메서드**"
   ]
  },
  {
   "cell_type": "code",
   "execution_count": 74,
   "id": "23d92bb8",
   "metadata": {},
   "outputs": [
    {
     "data": {
      "text/plain": [
       "'banana'"
      ]
     },
     "execution_count": 74,
     "metadata": {},
     "output_type": "execute_result"
    }
   ],
   "source": [
    "food.pop(0)"
   ]
  },
  {
   "cell_type": "code",
   "execution_count": 75,
   "id": "f2a9a0a7-bcab-42d9-a371-0aeba82911f3",
   "metadata": {},
   "outputs": [
    {
     "data": {
      "text/plain": [
       "['blueberry', 'apple', 'coconut', 'apple', 'durian', 'eggplant', 'fig']"
      ]
     },
     "execution_count": 75,
     "metadata": {},
     "output_type": "execute_result"
    }
   ],
   "source": [
    "food"
   ]
  },
  {
   "cell_type": "code",
   "execution_count": 76,
   "id": "70c74540",
   "metadata": {},
   "outputs": [
    {
     "data": {
      "text/plain": [
       "'fig'"
      ]
     },
     "execution_count": 76,
     "metadata": {},
     "output_type": "execute_result"
    }
   ],
   "source": [
    "food.pop()"
   ]
  },
  {
   "cell_type": "code",
   "execution_count": 77,
   "id": "24f96301-da8e-489d-8522-b8ddb4ed1ede",
   "metadata": {},
   "outputs": [
    {
     "data": {
      "text/plain": [
       "['blueberry', 'apple', 'coconut', 'apple', 'durian', 'eggplant']"
      ]
     },
     "execution_count": 77,
     "metadata": {},
     "output_type": "execute_result"
    }
   ],
   "source": [
    "food"
   ]
  },
  {
   "cell_type": "markdown",
   "id": "e3722388-e3c2-4702-af2c-772ec90228b7",
   "metadata": {},
   "source": [
    "**`remove()` 메서드**"
   ]
  },
  {
   "cell_type": "code",
   "execution_count": 78,
   "id": "e0b40320-65d7-4fb3-adea-9a62bd7450f0",
   "metadata": {},
   "outputs": [
    {
     "data": {
      "text/plain": [
       "['blueberry', 'coconut', 'apple', 'durian', 'eggplant']"
      ]
     },
     "execution_count": 78,
     "metadata": {},
     "output_type": "execute_result"
    }
   ],
   "source": [
    "food.remove('apple')\n",
    "food"
   ]
  },
  {
   "cell_type": "markdown",
   "id": "672b9a26-8867-47e7-ad50-a300d3497c87",
   "metadata": {},
   "source": [
    "**`sort()` 메서드**"
   ]
  },
  {
   "cell_type": "code",
   "execution_count": 79,
   "id": "646f6256-1645-4d38-9420-5e383be63feb",
   "metadata": {},
   "outputs": [
    {
     "data": {
      "text/plain": [
       "['apple', 'blueberry', 'coconut', 'durian', 'eggplant']"
      ]
     },
     "execution_count": 79,
     "metadata": {},
     "output_type": "execute_result"
    }
   ],
   "source": [
    "food.sort()\n",
    "food"
   ]
  },
  {
   "cell_type": "markdown",
   "id": "540c3a12",
   "metadata": {},
   "source": [
    "`reverse=True` 옵션 인자를 사용하면 역순으로 정렬한다."
   ]
  },
  {
   "cell_type": "code",
   "execution_count": 80,
   "id": "b0a86184",
   "metadata": {},
   "outputs": [
    {
     "data": {
      "text/plain": [
       "['eggplant', 'durian', 'coconut', 'blueberry', 'apple']"
      ]
     },
     "execution_count": 80,
     "metadata": {},
     "output_type": "execute_result"
    }
   ],
   "source": [
    "food.sort(reverse=True)\n",
    "food"
   ]
  },
  {
   "cell_type": "markdown",
   "id": "05a6ffe0-e1b5-4867-84c4-36f2babfce0e",
   "metadata": {},
   "source": [
    "**`reverse()` 메서드**"
   ]
  },
  {
   "cell_type": "code",
   "execution_count": 81,
   "id": "bf448acf",
   "metadata": {},
   "outputs": [],
   "source": [
    "food = ['banana', 'apple1', 'coconut', 'apple2']"
   ]
  },
  {
   "cell_type": "code",
   "execution_count": 82,
   "id": "89e8ff24-c305-483c-9572-7bbf80f5af5b",
   "metadata": {},
   "outputs": [
    {
     "data": {
      "text/plain": [
       "['apple2', 'coconut', 'apple1', 'banana']"
      ]
     },
     "execution_count": 82,
     "metadata": {},
     "output_type": "execute_result"
    }
   ],
   "source": [
    "food.reverse()\n",
    "food"
   ]
  },
  {
   "cell_type": "markdown",
   "id": "3446f7d1",
   "metadata": {},
   "source": [
    "`sort()`와 `reverse()` 메서드를 연속으로 적용하면 역순으로 정렬하게 된다."
   ]
  },
  {
   "cell_type": "code",
   "execution_count": 83,
   "id": "34cd7efc",
   "metadata": {},
   "outputs": [
    {
     "data": {
      "text/plain": [
       "['coconut', 'banana', 'apple2', 'apple1']"
      ]
     },
     "execution_count": 83,
     "metadata": {},
     "output_type": "execute_result"
    }
   ],
   "source": [
    "food = ['banana', 'apple1', 'coconut', 'apple2']\n",
    "food.sort()\n",
    "food.reverse()\n",
    "food"
   ]
  },
  {
   "cell_type": "markdown",
   "id": "73aceb1e",
   "metadata": {},
   "source": [
    "`sort()` 메서드를 `reverse=True` 옵션 인자와 함께 사용하는 것과 동일한 결과를 생성한다."
   ]
  },
  {
   "cell_type": "code",
   "execution_count": 84,
   "id": "c5282d6a",
   "metadata": {},
   "outputs": [
    {
     "data": {
      "text/plain": [
       "['coconut', 'banana', 'apple2', 'apple1']"
      ]
     },
     "execution_count": 84,
     "metadata": {},
     "output_type": "execute_result"
    }
   ],
   "source": [
    "food = ['banana', 'apple1', 'coconut', 'apple2']\n",
    "food.sort(reverse=True)\n",
    "food"
   ]
  },
  {
   "cell_type": "markdown",
   "id": "8d9a241a-fd6a-4d03-a3a8-1b0c2555de8a",
   "metadata": {},
   "source": [
    "**`index()` 메서드**"
   ]
  },
  {
   "cell_type": "code",
   "execution_count": 85,
   "id": "e1d3174a-de75-4af1-b3d3-057a43a4bf46",
   "metadata": {},
   "outputs": [
    {
     "data": {
      "text/plain": [
       "0"
      ]
     },
     "execution_count": 85,
     "metadata": {},
     "output_type": "execute_result"
    }
   ],
   "source": [
    "food.index('coconut')"
   ]
  },
  {
   "cell_type": "markdown",
   "id": "5a3597de-4ae3-4279-a122-df755161cb82",
   "metadata": {},
   "source": [
    "**`count()` 메서드**"
   ]
  },
  {
   "cell_type": "code",
   "execution_count": 86,
   "id": "7510fe9b-99d1-451e-bd2b-ea7d01d2c94a",
   "metadata": {},
   "outputs": [
    {
     "data": {
      "text/plain": [
       "1"
      ]
     },
     "execution_count": 86,
     "metadata": {},
     "output_type": "execute_result"
    }
   ],
   "source": [
    "food.count('apple2')"
   ]
  },
  {
   "cell_type": "markdown",
   "id": "6aff5820-dd1b-41ab-8ca1-24f8559efcf8",
   "metadata": {},
   "source": [
    "(sec:tuple)=\n",
    "## 튜플"
   ]
  },
  {
   "cell_type": "markdown",
   "id": "b08c7bcc-d0e5-4cd6-86fa-9ad9788affd7",
   "metadata": {},
   "source": [
    "튜플은 리스트와 거의 비슷하지만, 변경 불가능<font size = \"2\">immutable</font>하다는 점이 다르다.\n",
    "따라서 튜플을 활용하는 메서드가 많이 제공되지 않는다.\n",
    "소괄호 `()`를 사용하고, 각 항목은 콤마(`,`)로 구분한다. "
   ]
  },
  {
   "cell_type": "code",
   "execution_count": 87,
   "id": "e8a85626-a3ce-411d-a92f-51edc46947fc",
   "metadata": {},
   "outputs": [
    {
     "data": {
      "text/plain": [
       "(1, 2, 3, 4, 5)"
      ]
     },
     "execution_count": 87,
     "metadata": {},
     "output_type": "execute_result"
    }
   ],
   "source": [
    "(1, 2, 3, 4, 5)"
   ]
  },
  {
   "cell_type": "code",
   "execution_count": 88,
   "id": "d948b423-6eac-4054-8bc8-c9f59c25e48c",
   "metadata": {},
   "outputs": [
    {
     "data": {
      "text/plain": [
       "('a', 'b', 'c', 'd')"
      ]
     },
     "execution_count": 88,
     "metadata": {},
     "output_type": "execute_result"
    }
   ],
   "source": [
    "('a','b', 'c', 'd')"
   ]
  },
  {
   "cell_type": "markdown",
   "id": "22c36bd1",
   "metadata": {},
   "source": [
    "소괄호를 사용하지 않아도 튜플로 처리된다."
   ]
  },
  {
   "cell_type": "code",
   "execution_count": 89,
   "id": "4df43577",
   "metadata": {},
   "outputs": [
    {
     "data": {
      "text/plain": [
       "('a', 'b', 'c', 'd')"
      ]
     },
     "execution_count": 89,
     "metadata": {},
     "output_type": "execute_result"
    }
   ],
   "source": [
    "a_tuple = 'a','b', 'c', 'd'\n",
    "a_tuple"
   ]
  },
  {
   "cell_type": "markdown",
   "id": "b9a03641",
   "metadata": {},
   "source": [
    "길이가 1인 튜플인 경우 항목 뒤에 반드시 쉽표를 붙혀야 한다."
   ]
  },
  {
   "cell_type": "code",
   "execution_count": 90,
   "id": "3f9e14b1",
   "metadata": {},
   "outputs": [
    {
     "data": {
      "text/plain": [
       "tuple"
      ]
     },
     "execution_count": 90,
     "metadata": {},
     "output_type": "execute_result"
    }
   ],
   "source": [
    "tup1 = (3, )\n",
    "type(tup1)"
   ]
  },
  {
   "cell_type": "markdown",
   "id": "b06e3fe6",
   "metadata": {},
   "source": [
    "그렇지 않으면 튜플로 간주되지 않는다."
   ]
  },
  {
   "cell_type": "code",
   "execution_count": 91,
   "id": "a4dfe37f",
   "metadata": {},
   "outputs": [
    {
     "data": {
      "text/plain": [
       "int"
      ]
     },
     "execution_count": 91,
     "metadata": {},
     "output_type": "execute_result"
    }
   ],
   "source": [
    "tup1 = (3)\n",
    "type(tup1)"
   ]
  },
  {
   "cell_type": "markdown",
   "id": "82faff66-f146-48ed-940e-5a6450498ce5",
   "metadata": {},
   "source": [
    "튜플 또한 여러 종류의 값을 포함할 수 있다."
   ]
  },
  {
   "cell_type": "code",
   "execution_count": 92,
   "id": "0279923b-5861-40c8-a1d6-3de16feb2b0e",
   "metadata": {},
   "outputs": [
    {
     "data": {
      "text/plain": [
       "(1, 2.3, 'abc', False, ['ab', 'c'], (2, 4))"
      ]
     },
     "execution_count": 92,
     "metadata": {},
     "output_type": "execute_result"
    }
   ],
   "source": [
    "mixed_tuple = (1, 2.3, 'abc', False, ['ab', 'c'], (2, 4))\n",
    "mixed_tuple"
   ]
  },
  {
   "cell_type": "markdown",
   "id": "356e5b41-d849-4734-bf6a-082c231b2849",
   "metadata": {},
   "source": [
    "**빈 튜플**\n",
    "\n",
    "빈 튜플은 아무것도 포함하지 않는 튜플을 의미한다. 빈 튜플를 만드는 방법은 아래와 같다. \n",
    "\n",
    "```python\n",
    "empty_tuple = ()\n",
    "empty_tuple = tuple()\n",
    "```"
   ]
  },
  {
   "cell_type": "markdown",
   "id": "4cfc08cb",
   "metadata": {},
   "source": [
    "### 튜플 연산"
   ]
  },
  {
   "cell_type": "markdown",
   "id": "4b3812b3-9b56-4635-b695-d4a65c41b74a",
   "metadata": {},
   "source": [
    "**`in` 연산자**\n",
    "\n",
    "튜플의 항목으로 등장하는지 여부를 알려주는 논리 연산자이다."
   ]
  },
  {
   "cell_type": "code",
   "execution_count": 93,
   "id": "b34d0a47-eab7-4414-a6b8-491fa8248ad3",
   "metadata": {},
   "outputs": [
    {
     "data": {
      "text/plain": [
       "False"
      ]
     },
     "execution_count": 93,
     "metadata": {},
     "output_type": "execute_result"
    }
   ],
   "source": [
    "'1' in ('a', 'bc', 'd', 'e')"
   ]
  },
  {
   "cell_type": "code",
   "execution_count": 94,
   "id": "3b57264e-5662-421c-a762-2e0c451f3ca6",
   "metadata": {},
   "outputs": [
    {
     "data": {
      "text/plain": [
       "True"
      ]
     },
     "execution_count": 94,
     "metadata": {},
     "output_type": "execute_result"
    }
   ],
   "source": [
    "'d' in ('a', 'bc', 'd', 'e')"
   ]
  },
  {
   "cell_type": "code",
   "execution_count": 95,
   "id": "b976cc80-1313-4ad5-861a-1278f54bc546",
   "metadata": {},
   "outputs": [
    {
     "data": {
      "text/plain": [
       "True"
      ]
     },
     "execution_count": 95,
     "metadata": {},
     "output_type": "execute_result"
    }
   ],
   "source": [
    "'f' not in ('a', 'bc', 'd', 'e')"
   ]
  },
  {
   "cell_type": "markdown",
   "id": "f40c9d9e",
   "metadata": {
    "tags": []
   },
   "source": [
    "**이어붙이기/복제**\n",
    "\n",
    "리스트의 경우처럼 튜플도 이어붙이기와 복제 연산을 사용한다."
   ]
  },
  {
   "cell_type": "code",
   "execution_count": 96,
   "id": "24f059fa-f66f-456f-b1cd-4b9560b51075",
   "metadata": {},
   "outputs": [
    {
     "data": {
      "text/plain": [
       "('a', 'b', 'b', 'c', 'd')"
      ]
     },
     "execution_count": 96,
     "metadata": {},
     "output_type": "execute_result"
    }
   ],
   "source": [
    "('a', 'b') + ('b', 'c', 'd')"
   ]
  },
  {
   "cell_type": "code",
   "execution_count": 97,
   "id": "6d2b2308-2a81-466c-99b9-80761b88c645",
   "metadata": {},
   "outputs": [
    {
     "data": {
      "text/plain": [
       "('a', 'b', 'a', 'b')"
      ]
     },
     "execution_count": 97,
     "metadata": {},
     "output_type": "execute_result"
    }
   ],
   "source": [
    "('a', 'b') * 2"
   ]
  },
  {
   "cell_type": "markdown",
   "id": "6b21d96c-0469-4c3d-b394-12b1912c3d55",
   "metadata": {},
   "source": [
    "**`len()`함수**\n",
    "\n",
    "튜플의 길이, 즉 튜플에 포함된 항목의 개수를 반환한다."
   ]
  },
  {
   "cell_type": "code",
   "execution_count": 98,
   "id": "70ef4d93-5e90-4908-bfba-5192d669c11c",
   "metadata": {},
   "outputs": [
    {
     "data": {
      "text/plain": [
       "4"
      ]
     },
     "execution_count": 98,
     "metadata": {},
     "output_type": "execute_result"
    }
   ],
   "source": [
    "len(('a', 'b', 'c', 'd'))"
   ]
  },
  {
   "cell_type": "markdown",
   "id": "c17977ea-debe-410a-872d-52ee7d27cb4c",
   "metadata": {},
   "source": [
    "**`min()`/`max()` 함수**\n",
    "\n",
    "항목 중에서 최솟값 또는 최댓값을 확인한다.\n",
    "단, 기본적으로 모든 값의 자료형이 갖고 크기 비교가 가능해야 한다. "
   ]
  },
  {
   "cell_type": "code",
   "execution_count": 99,
   "id": "202b46d8-acf5-44c3-8c64-32d1a4b22078",
   "metadata": {},
   "outputs": [
    {
     "data": {
      "text/plain": [
       "20"
      ]
     },
     "execution_count": 99,
     "metadata": {},
     "output_type": "execute_result"
    }
   ],
   "source": [
    "max((2, 9, 11, 20, 3))"
   ]
  },
  {
   "cell_type": "code",
   "execution_count": 100,
   "id": "d7eabe08-0266-4134-98c7-88aab3b9e207",
   "metadata": {},
   "outputs": [
    {
     "data": {
      "text/plain": [
       "2"
      ]
     },
     "execution_count": 100,
     "metadata": {},
     "output_type": "execute_result"
    }
   ],
   "source": [
    "min((2, 9, 11, 20, 3))"
   ]
  },
  {
   "cell_type": "markdown",
   "id": "8b02686a-3f8e-4b2d-9302-fe83a915cdaf",
   "metadata": {},
   "source": [
    "### 튜플 인덱싱/슬라이싱"
   ]
  },
  {
   "cell_type": "markdown",
   "id": "e9e6eb74-3b33-4f6e-a2e3-ba6a99f0f74d",
   "metadata": {},
   "source": [
    "튜플도 문자열과 리스트처럼 인덱싱과 슬라이싱이 가능하다. "
   ]
  },
  {
   "cell_type": "code",
   "execution_count": 101,
   "id": "2f1973c8",
   "metadata": {},
   "outputs": [],
   "source": [
    "a_tuple = (3, 15, 9, 12, 7, 14, 10)"
   ]
  },
  {
   "cell_type": "code",
   "execution_count": 102,
   "id": "c8aa1af1",
   "metadata": {},
   "outputs": [
    {
     "data": {
      "text/plain": [
       "3"
      ]
     },
     "execution_count": 102,
     "metadata": {},
     "output_type": "execute_result"
    }
   ],
   "source": [
    "a_tuple[0]"
   ]
  },
  {
   "cell_type": "code",
   "execution_count": 103,
   "id": "578895c6",
   "metadata": {},
   "outputs": [
    {
     "data": {
      "text/plain": [
       "10"
      ]
     },
     "execution_count": 103,
     "metadata": {},
     "output_type": "execute_result"
    }
   ],
   "source": [
    "a_tuple[-1]"
   ]
  },
  {
   "cell_type": "code",
   "execution_count": 104,
   "id": "c074b2de-e3b7-4438-95e4-d6b164d558f2",
   "metadata": {},
   "outputs": [
    {
     "data": {
      "text/plain": [
       "(9, 7)"
      ]
     },
     "execution_count": 104,
     "metadata": {},
     "output_type": "execute_result"
    }
   ],
   "source": [
    "a_tuple[2:6:2]"
   ]
  },
  {
   "cell_type": "markdown",
   "id": "b7ef959d-41a1-418f-b6fa-9704ec36723a",
   "metadata": {},
   "source": [
    "튜플은 불변 자료형이라 값을 수정할 수 없다. \n",
    "예를 들어, 아래와 같이 인덱싱을 사용하여 튜플의 항목을 변경하려고 하면 오류가 발생한다.   \n",
    "\n",
    "```python\n",
    ">>> a_tuple = (3, 15, 9, 12, 7, 14, 10)\n",
    ">>> a_tuple[0] = 100\n",
    "TypeError                                 Traceback (most recent call last)\n",
    "/tmp/ipykernel_1817/347940049.py in <module>\n",
    "      1 a_tuple = (3, 15, 9, 12, 7, 14, 10)\n",
    "----> 2 a_tuple[0] = 100\n",
    "\n",
    "TypeError: 'tuple' object does not support item assignment\n",
    "```"
   ]
  },
  {
   "cell_type": "markdown",
   "id": "bef4f2c0",
   "metadata": {},
   "source": [
    "튜플이 변경 불가능한 자료형이라고 해서 튜플의 모든 항목이 모두 변경 불가능해야 하는 것은 아니다. \n",
    "예를 들어, 아래 `tup` 이 가리키는 튜플의 첫번째 항목은 `[1, 2]`이고, 리스트는 변경가능한 자료형이다."
   ]
  },
  {
   "cell_type": "code",
   "execution_count": 105,
   "id": "96bb0e00",
   "metadata": {},
   "outputs": [],
   "source": [
    "tup = ([1, 2], 10, 100)"
   ]
  },
  {
   "cell_type": "markdown",
   "id": "a71540da",
   "metadata": {},
   "source": [
    "변수 `tup` 과 튜플 사이의 관계는 아래 그림이 잘 보여준다."
   ]
  },
  {
   "cell_type": "markdown",
   "id": "9c383ad6",
   "metadata": {},
   "source": [
    "<div align=\"center\">\n",
    "    <img src=\"https://raw.githubusercontent.com/codingalzi/pybook/master/jupyter-book/images/hj617kim/ch04/tuple01.png\" style=\"width:275px;\">\n",
    "</div>"
   ]
  },
  {
   "cell_type": "markdown",
   "id": "20c52028",
   "metadata": {},
   "source": [
    "따라서 아래와 같이 첫번째 항목 자체는 변경이 가능하다. "
   ]
  },
  {
   "cell_type": "code",
   "execution_count": 106,
   "id": "b57d6c9e",
   "metadata": {},
   "outputs": [],
   "source": [
    "tup[0].append(3)"
   ]
  },
  {
   "cell_type": "markdown",
   "id": "91917f9e",
   "metadata": {},
   "source": [
    "실제로 `tup` 의 첫째 항목이 변경되었음을 확인할 수 있다."
   ]
  },
  {
   "cell_type": "code",
   "execution_count": 107,
   "id": "06d9a8d3",
   "metadata": {},
   "outputs": [
    {
     "data": {
      "text/plain": [
       "([1, 2, 3], 10, 100)"
      ]
     },
     "execution_count": 107,
     "metadata": {},
     "output_type": "execute_result"
    }
   ],
   "source": [
    "tup"
   ]
  },
  {
   "cell_type": "markdown",
   "id": "a2afcb06-2d96-4368-b6e9-0c1522a8978d",
   "metadata": {},
   "source": [
    "<div align=\"center\">\n",
    "    <img src=\"https://raw.githubusercontent.com/codingalzi/pybook/master/jupyter-book/images/hj617kim/ch04/tuple02.png\" style=\"width:300px;\">\n",
    "</div>"
   ]
  },
  {
   "cell_type": "markdown",
   "id": "1e638ebd-6708-4f2a-b704-dfc04fae59f7",
   "metadata": {},
   "source": [
    "### 튜플 메서드"
   ]
  },
  {
   "cell_type": "markdown",
   "id": "3cfcfbf4-b37f-4fd9-ab7e-e959fb4181f2",
   "metadata": {},
   "source": [
    "튜플 자료형의 메서드는 많지 않다. 많이 사용되는 두 개의 메소드를 살펴보자.   \n",
    "\n",
    "|메서드|설명|\n",
    "|:----------|:----------|\n",
    "|`count()`|지정된 항목이 등장한 횟수 반환|\n",
    "|`index()`|지정된 항목이 처음 위치한 인덱스 반환|"
   ]
  },
  {
   "cell_type": "code",
   "execution_count": 108,
   "id": "8b3c8f02",
   "metadata": {},
   "outputs": [],
   "source": [
    "num_tuple = (1, 2, 3, 1, 3, 5, 5, 10, 15)"
   ]
  },
  {
   "cell_type": "markdown",
   "id": "dc2c1f39",
   "metadata": {},
   "source": [
    "**`count()` 메서드**"
   ]
  },
  {
   "cell_type": "code",
   "execution_count": 109,
   "id": "f1b74028",
   "metadata": {},
   "outputs": [
    {
     "data": {
      "text/plain": [
       "2"
      ]
     },
     "execution_count": 109,
     "metadata": {},
     "output_type": "execute_result"
    }
   ],
   "source": [
    "num_tuple.count(1)"
   ]
  },
  {
   "cell_type": "markdown",
   "id": "a0902072",
   "metadata": {},
   "source": [
    "**`index()` 메서드**"
   ]
  },
  {
   "cell_type": "code",
   "execution_count": 110,
   "id": "d72d55de-9061-49a5-8f78-27521b764fd2",
   "metadata": {},
   "outputs": [
    {
     "data": {
      "text/plain": [
       "5"
      ]
     },
     "execution_count": 110,
     "metadata": {},
     "output_type": "execute_result"
    }
   ],
   "source": [
    "num_tuple.index(5)"
   ]
  },
  {
   "cell_type": "markdown",
   "id": "92eea060",
   "metadata": {},
   "source": [
    "##  순차 자료형 해체"
   ]
  },
  {
   "cell_type": "markdown",
   "id": "36ff691b",
   "metadata": {},
   "source": [
    "순자 자료형의 항목 각각에 대해 변수 할당을 진행할 수 있다.\n",
    "단, 사용되는 변수의 수는 항목의 수와 일치해야 한다."
   ]
  },
  {
   "cell_type": "code",
   "execution_count": 111,
   "id": "c62277ce",
   "metadata": {},
   "outputs": [],
   "source": [
    "a, b = \"12\""
   ]
  },
  {
   "cell_type": "code",
   "execution_count": 112,
   "id": "5859fbbb",
   "metadata": {},
   "outputs": [
    {
     "name": "stdout",
     "output_type": "stream",
     "text": [
      "1 <class 'str'>\n",
      "2\n"
     ]
    }
   ],
   "source": [
    "print(a, type(a)) # 타입은 문자열이다.\n",
    "print(b)"
   ]
  },
  {
   "cell_type": "code",
   "execution_count": 113,
   "id": "728a739c",
   "metadata": {},
   "outputs": [],
   "source": [
    "c, d, e = [3, 4, 5]"
   ]
  },
  {
   "cell_type": "code",
   "execution_count": 114,
   "id": "ad0a072c",
   "metadata": {},
   "outputs": [
    {
     "name": "stdout",
     "output_type": "stream",
     "text": [
      "3\n",
      "4\n",
      "5\n"
     ]
    }
   ],
   "source": [
    "print(c) \n",
    "print(d) \n",
    "print(e) "
   ]
  },
  {
   "cell_type": "code",
   "execution_count": 115,
   "id": "6ec536fd",
   "metadata": {},
   "outputs": [],
   "source": [
    "f, g = (6, 7)"
   ]
  },
  {
   "cell_type": "code",
   "execution_count": 116,
   "id": "b0f25e95",
   "metadata": {},
   "outputs": [
    {
     "name": "stdout",
     "output_type": "stream",
     "text": [
      "6\n",
      "7\n"
     ]
    }
   ],
   "source": [
    "print(f) \n",
    "print(g) "
   ]
  },
  {
   "cell_type": "markdown",
   "id": "bf099ac4",
   "metadata": {},
   "source": [
    "**밑줄 기호 `_` 활용**\n",
    "\n",
    "변수의 이름이 굳이 필요 없다면 밑줄<font size = \"2\">underscore</font>(`_`) 기호를\n",
    "대신 사용할 수 있다.\n",
    "예를 들어, 둘째 값에 대한 변수가 필요없다면 아래와 같이 해체할 수 있다. "
   ]
  },
  {
   "cell_type": "code",
   "execution_count": 117,
   "id": "867fea71",
   "metadata": {},
   "outputs": [
    {
     "name": "stdout",
     "output_type": "stream",
     "text": [
      "8\n"
     ]
    }
   ],
   "source": [
    "c, _, e = [3, 4, 5]\n",
    "print(c + e)"
   ]
  },
  {
   "cell_type": "markdown",
   "id": "65c10f88",
   "metadata": {},
   "source": [
    ":::{admonition} 주의   \n",
    ":class: caution  \n",
    "항목의 개수와 변수의 개수가 일치하지 않으면 오류가 발생한다.\n",
    "오류를 피하려면 위해 밑줄 등을 반드시 활용해야 한다.\n",
    "\n",
    "```python\n",
    ">>> c, e = [3, 4, 5]\n",
    "ValueError                                Traceback (most recent call last)\n",
    "/tmp/ipykernel_1817/4065688922.py in <module>\n",
    "----> 1 c, e = [3, 4, 5]\n",
    "      2 print(c + e)\n",
    "\n",
    "ValueError: too many values to unpack (expected 2)\n",
    "```\n",
    ":::"
   ]
  },
  {
   "cell_type": "markdown",
   "id": "ec512290",
   "metadata": {},
   "source": [
    "**별표 기호 `*` 활용**\n",
    "\n",
    "앞에 몇 개의 값에만 변수 할당에 사용하고 나머지는 하나의 리스트로 묶어서 퉁쳐버릴 수도 있다.\n",
    "이를 위해 별표 기호<font size = \"2\">asterisk</font>(`*`)를 하나의 변수명과 함께 사용한다. "
   ]
  },
  {
   "cell_type": "code",
   "execution_count": 118,
   "id": "41025824",
   "metadata": {},
   "outputs": [],
   "source": [
    "values = (1, 2, 3, 4, 5)\n",
    "a, b, *rest = values"
   ]
  },
  {
   "cell_type": "code",
   "execution_count": 119,
   "id": "d990be6c",
   "metadata": {},
   "outputs": [
    {
     "name": "stdout",
     "output_type": "stream",
     "text": [
      "1\n",
      "2\n",
      "[3, 4, 5]\n"
     ]
    }
   ],
   "source": [
    "print(a)\n",
    "print(b)\n",
    "print(rest)"
   ]
  },
  {
   "cell_type": "markdown",
   "id": "2744f170",
   "metadata": {},
   "source": [
    "나머지 항목들을 무시하고 싶다면, 별표와 밑줄을 함께 사용한다. "
   ]
  },
  {
   "cell_type": "code",
   "execution_count": 120,
   "id": "3801f9cd",
   "metadata": {},
   "outputs": [],
   "source": [
    "a, b, *_ = values"
   ]
  },
  {
   "cell_type": "code",
   "execution_count": 121,
   "id": "0b0bb0bd",
   "metadata": {},
   "outputs": [
    {
     "name": "stdout",
     "output_type": "stream",
     "text": [
      "1\n",
      "2\n"
     ]
    }
   ],
   "source": [
    "print(a)\n",
    "print(b)"
   ]
  },
  {
   "cell_type": "markdown",
   "id": "35b4d84b",
   "metadata": {},
   "source": [
    "## 순차 자료형에 유용한 함수"
   ]
  },
  {
   "cell_type": "markdown",
   "id": "d4a8d632",
   "metadata": {},
   "source": [
    "문자열, 튜플, 리스트처럼 항목들의 순서가 중요한 순차 자료형과 함께 유용하게 사용되는 네 개의 함수를 소개한다."
   ]
  },
  {
   "cell_type": "markdown",
   "id": "2760d401",
   "metadata": {},
   "source": [
    "### `enumerate()` 함수"
   ]
  },
  {
   "cell_type": "markdown",
   "id": "5cf9c3dc",
   "metadata": {},
   "source": [
    "튜플과 리스트의 인덱스를 튜플과 리스트 자체에서 눈으로 확인할 수 없다.\n",
    "하지만 항목과 해당 항목의 인덱스 정보를 함께 활용해야 할 때가 있는데\n",
    "이때 `enumerate()` 함수가 매우 유용하다."
   ]
  },
  {
   "cell_type": "code",
   "execution_count": 122,
   "id": "9d005c5c",
   "metadata": {},
   "outputs": [],
   "source": [
    "some_list = ['foo', 'bar', 'baz', 'pyt', 'thon']"
   ]
  },
  {
   "cell_type": "markdown",
   "id": "851ac4e4",
   "metadata": {},
   "source": [
    "`enumerate()` 함수는 리스트를 받아서\n",
    "리스트의 항목과 인덱스를 쌍으로 갖는 모음 자료형의 객체를 준비시킨다.\n",
    "이렇게 준비된 객체를 직접 확인할 수는 없다."
   ]
  },
  {
   "cell_type": "code",
   "execution_count": 123,
   "id": "8a83c650",
   "metadata": {},
   "outputs": [
    {
     "data": {
      "text/plain": [
       "<enumerate at 0x7f7554174700>"
      ]
     },
     "execution_count": 123,
     "metadata": {},
     "output_type": "execute_result"
    }
   ],
   "source": [
    "enumerate(some_list)"
   ]
  },
  {
   "cell_type": "markdown",
   "id": "be388b8c",
   "metadata": {},
   "source": [
    "리스트로 환원하면 인덱스와 항목의 튜플로 이루어져 있음을 확인 수 있다."
   ]
  },
  {
   "cell_type": "code",
   "execution_count": 124,
   "id": "c62996a9",
   "metadata": {},
   "outputs": [
    {
     "data": {
      "text/plain": [
       "[(0, 'foo'), (1, 'bar'), (2, 'baz'), (3, 'pyt'), (4, 'thon')]"
      ]
     },
     "execution_count": 124,
     "metadata": {},
     "output_type": "execute_result"
    }
   ],
   "source": [
    "list(enumerate(some_list))"
   ]
  },
  {
   "cell_type": "markdown",
   "id": "7710e1c4",
   "metadata": {},
   "source": [
    "**예제**"
   ]
  },
  {
   "cell_type": "markdown",
   "id": "5dfcf8b9",
   "metadata": {},
   "source": [
    "인덱스를 활용하여 원하는 항목만 추출할 수 있다.\n",
    "예를 들어, 아래 코드는 짝수 인덱스의 값들만 출력하도록 한다.\n",
    "인덱스와 항목으로 구성된 길이가 2인 튜플을 해체하기 위해\n",
    "`i`와 `v`를 바로 이용함에 주의하라."
   ]
  },
  {
   "cell_type": "code",
   "execution_count": 125,
   "id": "274ed66f",
   "metadata": {},
   "outputs": [
    {
     "name": "stdout",
     "output_type": "stream",
     "text": [
      "foo\n",
      "baz\n",
      "thon\n"
     ]
    }
   ],
   "source": [
    "for i, v in enumerate(some_list):\n",
    "    if i % 2 == 0:\n",
    "        print(v)"
   ]
  },
  {
   "cell_type": "markdown",
   "id": "21912c37",
   "metadata": {},
   "source": [
    "`enumerate()` 함수를 사용하지 않으면서 동일한 기능을 구현하려면\n",
    "인덱스를 직접 이용해야 한다."
   ]
  },
  {
   "cell_type": "code",
   "execution_count": 126,
   "id": "479293f8",
   "metadata": {},
   "outputs": [
    {
     "name": "stdout",
     "output_type": "stream",
     "text": [
      "foo\n",
      "bar\n",
      "thon\n"
     ]
    }
   ],
   "source": [
    "for i in range(len(some_list)):\n",
    "    if i & 2 == 0:\n",
    "        print(some_list[i])"
   ]
  },
  {
   "cell_type": "markdown",
   "id": "79c4ce84",
   "metadata": {},
   "source": [
    "**예제**"
   ]
  },
  {
   "cell_type": "markdown",
   "id": "c630040f",
   "metadata": {},
   "source": [
    "아래 코드는 인덱스와 리스트의 항목의 순서를 바꾼 튜플의 \n",
    "리스트를 생성한다."
   ]
  },
  {
   "cell_type": "code",
   "execution_count": 127,
   "id": "b1f949c0",
   "metadata": {},
   "outputs": [
    {
     "data": {
      "text/plain": [
       "[('foo', 0), ('bar', 1), ('baz', 2), ('pyt', 3), ('thon', 4)]"
      ]
     },
     "execution_count": 127,
     "metadata": {},
     "output_type": "execute_result"
    }
   ],
   "source": [
    "mapping = []\n",
    "\n",
    "for i, v in enumerate(some_list):\n",
    "    mapping.append((v, i))\n",
    "\n",
    "mapping"
   ]
  },
  {
   "cell_type": "markdown",
   "id": "36671203",
   "metadata": {},
   "source": [
    "`enumerate()` 함수를 사용하지 않으면서 동일한 기능을 구현하려면\n",
    "인덱스를 직접 이용해야 한다."
   ]
  },
  {
   "cell_type": "code",
   "execution_count": 128,
   "id": "e351cf4e",
   "metadata": {},
   "outputs": [
    {
     "data": {
      "text/plain": [
       "[('foo', 0), ('bar', 1), ('baz', 2), ('pyt', 3), ('thon', 4)]"
      ]
     },
     "execution_count": 128,
     "metadata": {},
     "output_type": "execute_result"
    }
   ],
   "source": [
    "mapping = []\n",
    "\n",
    "for i in range(len(some_list)):\n",
    "    mapping.append((some_list[i], i))\n",
    "\n",
    "mapping"
   ]
  },
  {
   "cell_type": "markdown",
   "id": "f26977cf",
   "metadata": {},
   "source": [
    "### `zip()` 함수"
   ]
  },
  {
   "cell_type": "markdown",
   "id": "eb36ae32",
   "metadata": {},
   "source": [
    "문자열, 리스트, 튜플 등 순차 자료형 여러 개를 묶어 하나의 값으로 만든다.\n",
    "이때, 각 순차 자료형의 값에 사용된 순서를 반영한다.\n",
    "단, `zip()` 함수의 반환값은 구체적으로 명시되지 않는다. "
   ]
  },
  {
   "cell_type": "code",
   "execution_count": 129,
   "id": "5ac7dcf4-ca1d-4c17-976b-f6c938dae73d",
   "metadata": {},
   "outputs": [
    {
     "data": {
      "text/plain": [
       "<zip at 0x7f7554177700>"
      ]
     },
     "execution_count": 129,
     "metadata": {},
     "output_type": "execute_result"
    }
   ],
   "source": [
    "zip(\"abc\", [1, 2, 3])"
   ]
  },
  {
   "cell_type": "markdown",
   "id": "7347fd32",
   "metadata": {},
   "source": [
    "`for` 반복문을 이용하여 항목을 확인할 수는 있다."
   ]
  },
  {
   "cell_type": "code",
   "execution_count": 130,
   "id": "04f0b9f2",
   "metadata": {},
   "outputs": [
    {
     "name": "stdout",
     "output_type": "stream",
     "text": [
      "('a', 1)\n",
      "('b', 2)\n",
      "('c', 3)\n"
     ]
    }
   ],
   "source": [
    "for item in zip(\"abc\", [1, 2, 3]):\n",
    "    print(item)"
   ]
  },
  {
   "cell_type": "markdown",
   "id": "78adb683-0f5a-4116-87a9-b6014a24654d",
   "metadata": {},
   "source": [
    "아니면 `list()`함수를 이용하여 튜플 리스트로 변환할 수도 있다."
   ]
  },
  {
   "cell_type": "code",
   "execution_count": 131,
   "id": "a8eabe99-ff16-4d0e-947c-2d23398ef5f3",
   "metadata": {},
   "outputs": [
    {
     "data": {
      "text/plain": [
       "[('a', 1), ('b', 2), ('c', 3)]"
      ]
     },
     "execution_count": 131,
     "metadata": {},
     "output_type": "execute_result"
    }
   ],
   "source": [
    "list(zip(\"abc\", [1, 2, 3]))"
   ]
  },
  {
   "cell_type": "markdown",
   "id": "61851fbb",
   "metadata": {},
   "source": [
    "여러 개의 모음 자료형을 짝짓는 것도 가능하다.\n",
    "단. 길이가 다르면 가장 짧은 길이에 맞춰서 짝을 짓고, 나머지는 버린다."
   ]
  },
  {
   "cell_type": "code",
   "execution_count": 132,
   "id": "00a73657",
   "metadata": {},
   "outputs": [
    {
     "data": {
      "text/plain": [
       "[('a', 1, 5), ('b', 2, 10), ('c', 3, 15)]"
      ]
     },
     "execution_count": 132,
     "metadata": {},
     "output_type": "execute_result"
    }
   ],
   "source": [
    "list(zip(\"abcdefgh\",(1, 2, 3, 4, 5), [5, 10, 15]))"
   ]
  },
  {
   "cell_type": "markdown",
   "id": "af73a679",
   "metadata": {},
   "source": [
    "**동시 반복**"
   ]
  },
  {
   "cell_type": "markdown",
   "id": "dce0b412",
   "metadata": {},
   "source": [
    "`zip()` 을 이용하면 여러 개의 리스트, 튜플을 대상으로 동시에 반복문을 돌릴 수 있다."
   ]
  },
  {
   "cell_type": "code",
   "execution_count": 133,
   "id": "e129b5b2",
   "metadata": {},
   "outputs": [
    {
     "name": "stdout",
     "output_type": "stream",
     "text": [
      "문자: a, 숫자: 0\n",
      "문자: b, 숫자: 1\n",
      "문자: c, 숫자: 2\n"
     ]
    }
   ],
   "source": [
    "letters = ['a', 'b', 'c']\n",
    "numbers = [0, 1, 2]\n",
    "for l, n in zip(letters, numbers):\n",
    "    print(f'문자: {l}', end=', ')\n",
    "    print(f'숫자: {n}')"
   ]
  },
  {
   "cell_type": "markdown",
   "id": "304a8ad8",
   "metadata": {},
   "source": [
    "`zip()` 함수를 사용하지 않으면 2중으로 중첩된 `for` 반복문과\n",
    "인덱싱을 함께 이용해야 한다."
   ]
  },
  {
   "cell_type": "code",
   "execution_count": 134,
   "id": "ab38bac9",
   "metadata": {},
   "outputs": [
    {
     "name": "stdout",
     "output_type": "stream",
     "text": [
      "문자: a, 숫자: 0\n",
      "문자: b, 숫자: 1\n",
      "문자: c, 숫자: 2\n"
     ]
    }
   ],
   "source": [
    "for idx1 in range(len(letters)):\n",
    "    for idx2 in range(len(numbers)):\n",
    "        if idx1 == idx2:\n",
    "            print(f'문자: {letters[idx1]}', end=', ')\n",
    "            print(f'숫자: {numbers[idx2]}')"
   ]
  },
  {
   "cell_type": "code",
   "execution_count": 135,
   "id": "f91b8c70",
   "metadata": {},
   "outputs": [
    {
     "name": "stdout",
     "output_type": "stream",
     "text": [
      "문자: a, 숫자: 0, 연산자: *\n",
      "문자: b, 숫자: 1, 연산자: /\n",
      "문자: c, 숫자: 2, 연산자: +\n"
     ]
    }
   ],
   "source": [
    "letters = ['a', 'b', 'c']\n",
    "numbers = [0, 1, 2]\n",
    "operators = ['*', '/', '+']\n",
    "for l, n, o in zip(letters, numbers, operators):\n",
    "    print(f'문자: {l}', end=', ')\n",
    "    print(f'숫자: {n}', end=', ')\n",
    "    print(f'연산자: {o}')\n"
   ]
  },
  {
   "cell_type": "markdown",
   "id": "5ffdcb64",
   "metadata": {},
   "source": [
    "`zip()` 함수를 사용하지 않으면 3중으로 중첩된 `for` 반복문과\n",
    "인덱싱을 함께 이용해야 한다."
   ]
  },
  {
   "cell_type": "code",
   "execution_count": 136,
   "id": "bfb80a4e",
   "metadata": {},
   "outputs": [
    {
     "name": "stdout",
     "output_type": "stream",
     "text": [
      "문자: a, 숫자: 0, 연산자: 0\n",
      "문자: b, 숫자: 1, 연산자: 1\n",
      "문자: c, 숫자: 2, 연산자: 2\n"
     ]
    }
   ],
   "source": [
    "for idx1 in range(len(letters)):\n",
    "    for idx2 in range(len(numbers)):\n",
    "        for idx3 in range(len(numbers)):\n",
    "            if idx1 == idx2 and idx2 == idx3:\n",
    "                print(f'문자: {letters[idx1]}', end=', ')\n",
    "                print(f'숫자: {numbers[idx2]}', end=', ')\n",
    "                print(f'연산자: {numbers[idx3]}')                "
   ]
  },
  {
   "cell_type": "markdown",
   "id": "3856cb4a",
   "metadata": {},
   "source": [
    "## 연습문제"
   ]
  },
  {
   "cell_type": "markdown",
   "id": "17fcce4f",
   "metadata": {},
   "source": [
    "참고: [(실습) 모음 자료형 1부: 문자열, 리스트, 튜플](https://colab.research.google.com/github/codingalzi/pybook/blob/master/practices/practice-collections1.ipynb)"
   ]
  }
 ],
 "metadata": {
  "kernelspec": {
   "display_name": "Python 3 (ipykernel)",
   "language": "python",
   "name": "python3"
  },
  "language_info": {
   "codemirror_mode": {
    "name": "ipython",
    "version": 3
   },
   "file_extension": ".py",
   "mimetype": "text/x-python",
   "name": "python",
   "nbconvert_exporter": "python",
   "pygments_lexer": "ipython3",
   "version": "3.9.12"
  },
  "toc-autonumbering": true,
  "vscode": {
   "interpreter": {
    "hash": "6c86b3592b6800d985c04531f2c445f0fa6967131b8dd6395a925f7622e55602"
   }
  }
 },
 "nbformat": 4,
 "nbformat_minor": 5
}