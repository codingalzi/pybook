{
 "cells": [
  {
   "cell_type": "markdown",
   "metadata": {},
   "source": [
    "(case:guessing_numbers)=\n",
    "# 사례 연구: 프로그램 개발"
   ]
  },
  {
   "cell_type": "markdown",
   "metadata": {},
   "source": [
    "특정 문제를 해결하는 프로그램을 구현하기 위해\n",
    "먼저 해결 방법과 과정을 상세하게 묘사한 \n",
    "**알고리즘**<font size=\"2\">algorithm</font>을 구상한다.\n",
    "그런 다음 알고리즘을 컴퓨터에게 이해시키는 데에 필요한 \n",
    "**프로그래밍 요소**들을 확인하고,\n",
    "그 요소들을 **논리적으로 어떻게 배치**할 것인지 고민한다. \n",
    "\n",
    "여기서는 **숫자맞히기 게임**을 구현하는 과정을\n",
    "단계별로 확인하면서 프로그램 개발 과정을 구체적으로 살펴본다."
   ]
  },
  {
   "cell_type": "markdown",
   "metadata": {},
   "source": [
    "## 숫자맞히기 게임"
   ]
  },
  {
   "cell_type": "markdown",
   "metadata": {},
   "source": [
    "사용자가 단 한 번의 추측으로 비밀<font size=\"2\">secret</font> 숫자 19를 맞히면\n",
    "`\"맞았습니다\"`를, 틀리면 `\"틀렸습니다\"`를 출력하는\n",
    "**숫자맞히기 게임**의 \n",
    "가장 단순한 버전은 다음과 같다.\n",
    "선택 범위를 좁혀주기 위해 1부터 100까지의 수로 제한한다는 안내를 표시한다."
   ]
  },
  {
   "cell_type": "markdown",
   "metadata": {},
   "source": [
    "```python\n",
    "secret = 19\n",
    "guess = int(input(\"1부터 100 사이의 숫자 하나를 입력하세요: \"))\n",
    "\n",
    "if guess == secret:\n",
    "    print(\"맞았습니다!\")\n",
    "else:\n",
    "    print(\"틀렸습니다!\")\n",
    "\n",
    "print(\"게임 종료!\")\n",
    "```"
   ]
  },
  {
   "cell_type": "markdown",
   "metadata": {},
   "source": [
    "위 코드에 사용된 프로그래밍 요소는 다음과 같으며,\n",
    "언급된 요소의 의미와 역할은 그리 어렵지 않게 파악할 수 있을 것이다.\n",
    "- 변수 할당 \n",
    "    - `secret`: 비밀 숫자 지정\n",
    "    - `guess`: 사용자가 추측한 값 지정\n",
    "- 함수 호출\n",
    "    - `input()`: 사용자로부터 입력값 받기\n",
    "    - `int()`: `input()` 함수가 반환한 문자열을 정수로 변환\n",
    "    - `print()`: 정답 여부 및 게임 종료 확인 출력\n",
    "- `if` 조건문: 비밀 숫자와 추측한 수의 동치성 여부 판단 결과에 따라\n",
    "    비밀 숫자를 맞혔는지 여부 출력"
   ]
  },
  {
   "cell_type": "markdown",
   "metadata": {},
   "source": [
    "앞서 언급한 요소들에 대한 주석을 추가하면\n",
    "해당 요소들의 배치 논리를 이해할 수 있다."
   ]
  },
  {
   "cell_type": "markdown",
   "metadata": {},
   "source": [
    "```python\n",
    "# 게임 안내\n",
    "print(\"숫자맞히기 게임에 환영합니다.\")\n",
    "\n",
    "# 맞혀야 하는 숫자 지정\n",
    "secret = 19\n",
    "\n",
    "# 입력할 숫자의 범위 안내 및 입력값 저장하기.\n",
    "guess = int(input(\"1부터 100 사이의 숫자 하나를 입력하세요: \"))\n",
    "\n",
    "# 두 숫자의 동치 여부에 따른 명령문 실행\n",
    "if guess == secret:\n",
    "    print(\"맞았습니다!\")\n",
    "else:\n",
    "    print(\"틀렸습니다!\")\n",
    "\n",
    "# 종료 확인 출력    \n",
    "print(\"게임 종료!\")\n",
    "```"
   ]
  },
  {
   "cell_type": "markdown",
   "metadata": {},
   "source": [
    "## 프로그램 업그레이드 1편"
   ]
  },
  {
   "cell_type": "markdown",
   "metadata": {},
   "source": [
    "앞서 설명한 게임은 불공정하다.\n",
    "비밀 숫자에 대한 아무런 정보를 주지 않기 때문이다.\n",
    "공정성을 높이기 위해 동치 여부 이외에 크기 비교도 실행해서\n",
    "사용자가 입력한 값이 너무 큰지 또는 너무 작은지 여부를 알려주도록 해보자.\n",
    "\n",
    "이를 위해 `else` 본문에 `guess` 와 `secret`의 크기를 비교하는 `if` 조건문을\n",
    "추가한다.\n",
    "또한 숫자맞히기 게임을 안내하는 문장도 게임 시작 전에 출력하도록 한다."
   ]
  },
  {
   "cell_type": "markdown",
   "metadata": {},
   "source": [
    "```python\n",
    "print(\"숫자맞히기 게임에 환영합니다.\")\n",
    "\n",
    "secret = 19\n",
    "guess = int(input(\"1부터 100 사이의 숫자 하나를 입력하세요: \"))\n",
    "\n",
    "if guess == secret:\n",
    "    print(\"맞았습니다!\")\n",
    "else:\n",
    "    if guess > secret:          # 크기 비교\n",
    "        print(\"너무 커요!\")\n",
    "    else:\n",
    "        print(\"너무 작아요!\")\n",
    "\n",
    "print(\"게임 종료!\")\n",
    "```"
   ]
  },
  {
   "cell_type": "markdown",
   "metadata": {},
   "source": [
    "위 코드에는 `if` 조건문이 중첩으로 사용되었다.\n",
    "하지만 자세히 보면\n",
    "`guess`와 `secret`가 가리키는 두 값이 같거나, 크거나, 그렇지 않을 때 등 \n",
    "세 가지 경우를 다룬다.\n",
    "\n",
    "이런 경우 굳이 중첩 조건문을 사용하는 대신에 아래와 같이 일반화된 조건문을 사용하는 것이 \n",
    "권장된다. \n",
    "이유는 아무래도 중첩 조건문은 코드 이해를 보다 어렵게 하기 때문이다."
   ]
  },
  {
   "cell_type": "markdown",
   "metadata": {},
   "source": [
    "```python\n",
    "print(\"숫자맞히기 게임에 환영합니다.\")\n",
    "\n",
    "secret = 19\n",
    "guess = int(input(\"1부터 100 사이의 숫자 하나를 입력하세요: \"))\n",
    "\n",
    "if guess == secret:\n",
    "    print(\"맞았습니다!\")\n",
    "elif guess > secret:\n",
    "    print(\"너무 커요!\")\n",
    "else:\n",
    "    print(\"너무 작아요!\")\n",
    "\n",
    "print(\"게임 종료!\")\n",
    "```"
   ]
  },
  {
   "cell_type": "markdown",
   "metadata": {},
   "source": [
    "## 프로그램 업그레이드 2편"
   ]
  },
  {
   "cell_type": "markdown",
   "metadata": {},
   "source": [
    "게임의 공정성이 조금 개선되었지만 아직 부족하다.\n",
    "예를 들어, 추측이 틀려도 게임이 바로 멈추기 때문에 게임 사용자 입장에서는 조금 허무해질 수 있다.\n",
    "이점을 보완하기 위해 사용자가 비밀 숫자를 맞힐 때까지 프로그램이 실행되도록 해보자."
   ]
  },
  {
   "cell_type": "markdown",
   "metadata": {},
   "source": [
    "사용자가 몇 번만에 문제를 맞힐지를 미리 알 수 없기에\n",
    "특정 조건이 만족되는 한 동일 작업을 반복하도록 하는\n",
    "`while` 반복문을 사용한다.\n",
    "요구되는 조건식과 본체 명령문은 아래 내용을 담아야 한다.\n",
    "\n",
    "* 조건식: 사용자가 입력한 숫자가 정답과 다른지 여부 판단.\n",
    "\n",
    "    ```python\n",
    "    guess != secret\n",
    "    ```\n",
    "    \n",
    "* 본체 명령문: 사용자에게 새로운 숫자를 입력 받아 정답 여부 또는 크기 비교 여부 전달.\n",
    "    즉, 아래 코드를 본문으로 사용해야 함.\n",
    "\n",
    "    ```python\n",
    "    guess = int(input(\"1부터 100 사이의 숫자 하나를 입력하세요: \"))\n",
    "\n",
    "    if guess == secret:\n",
    "        print(\"맞았습니다!\")\n",
    "    elif guess > secret:\n",
    "        print(\"너무 커요!\")\n",
    "    else:\n",
    "        print(\"너무 작아요!\")\n",
    "    ```"
   ]
  },
  {
   "cell_type": "markdown",
   "metadata": {},
   "source": [
    "아래 코드에서 `guess = -1`, 즉 음의 정수로 설정한 이유는 \n",
    "비밀 숫자가 1보다 큰 양수이기에\n",
    "`guess != secret` 이 거짓이 되어\n",
    "`while` 반복문의 본문이 최소한 한 번은 실행되도록 하기 위함이다."
   ]
  },
  {
   "cell_type": "markdown",
   "metadata": {},
   "source": [
    "```python\n",
    "print(\"숫자맞히기 게임에 환영합니다.\")\n",
    "\n",
    "secret = 19\n",
    "guess = -1   # 이어지는 while 반복문이 최소 한 번은 실행되도록 하기 위함임.\n",
    "\n",
    "while guess != secret:\n",
    "    guess = int(input(\"1부터 100 사이의 숫자 하나를 입력하세요: \"))\n",
    "    if guess == secret:\n",
    "        print(\"맞았습니다!\")\n",
    "    elif guess > secret:\n",
    "        print(\"너무 커요!\")\n",
    "    else:\n",
    "        print(\"너무 작아요!\")\n",
    "\n",
    "print(\"게임 종료!\")\n",
    "```"
   ]
  },
  {
   "cell_type": "markdown",
   "metadata": {},
   "source": [
    "## 프로그램 업그레이드 3편"
   ]
  },
  {
   "cell_type": "markdown",
   "metadata": {},
   "source": [
    "앞서 프로그램 업그레이드 2편에서 개선한 코드는 상당히 훌륭하다. \n",
    "사용자가 숨은 값을 맞출 수 있도록 유도하며, 숫자 19를 맞혀야만 종료된다.\n",
    "\n",
    "그런데 위 게임은 한 번 하면 더 이상 사용하지 않는다. \n",
    "맞혀야 하는 숫자가 항상 19이기 때문이다.\n",
    "따라서 위 게임을 좀 더 흥미롭게 만들기 위해서 맞혀야 하는 숫자를 게임이 실행될 때마다 임의로 변하도록 바꿀 필요가 있다."
   ]
  },
  {
   "cell_type": "markdown",
   "metadata": {},
   "source": [
    "**`random` 모듈**"
   ]
  },
  {
   "cell_type": "markdown",
   "metadata": {},
   "source": [
    "임의의 정수를 생성하기 위해 `randint` 함수를 이용하는 방법이 있다.\n",
    "`randint` 함수는 두 개의 정수 인자를 받으면 두 정수를 양끝으로 갖는 구간에서 임의의 값을 정하여 리턴한다.\n",
    "예를 들어, 1부터 100사이의 정수 중에서 임의의 값을 선택하려면 `randint(1, 100)`이라 작성하면 된다.\n",
    "\n",
    "그런데 `randint` 함수는 덧셈, 뺄셈 등 사칙연산과는 달리,\n",
    "먼저 `random` 이라는 모듈을 불러와야(import) 사용할 수 있다.\n",
    "\n",
    "**모듈**(module)은 파이썬 소스코드를 담은 파일이며, 확장자로 py를 사용한다.\n",
    "모듈은 서로 연관이 있는 다양한 함수들을 하나의 파일로 묶어 놓을 때 유용하게 사용한다.\n",
    "\n",
    "예를 들어, `random` 모듈, 즉, `random.py` 파일 안에는 무작위수 생성과 관련된 \n",
    "다양한 함수들이 포함되어 있으며,\n",
    "지정된 구간 사이에서 임의의 정수를 생성하는 `randint` 함수가 그중에 하나이다."
   ]
  },
  {
   "cell_type": "markdown",
   "metadata": {},
   "source": [
    "```python\n",
    ">>> from random import randint\n",
    ">>> randint(1, 100)\n",
    "69\n",
    ">>> randint(1, 100)\n",
    "36\n",
    "```"
   ]
  },
  {
   "cell_type": "markdown",
   "metadata": {},
   "source": [
    "숫자맞히기 게임에 무작위수 생성 기능을 추가하고자 하려면,\n",
    "`secret` 변수가 가리키는 숫자를  고정된 숫자 19가 아니라\n",
    "아래와 같이 `randint` 함수가 0과 100 사이에서 임의로 생성하는 값으로 지정해야 한다.\n",
    "\n",
    "```python\n",
    "secret = randint(1, 100)\n",
    "```\n",
    "\n",
    "앞서 구상한 내용을 토대로 하여 아래와 같이 `randint` 함수를 활용하면,\n",
    "소스코드 개발자 또한 맞혀야 하는 숫자를 알 수 없게 된다.\n",
    "\n",
    "아래 게임을 여러 번 실행하면서 게임의 성능을 확인해보자."
   ]
  },
  {
   "cell_type": "markdown",
   "metadata": {},
   "source": [
    "```python\n",
    "from random import randint\n",
    "\n",
    "print(\"숫자맞히기 게임에 환영합니다.\")\n",
    "\n",
    "secret = randint(1,100)\n",
    "guess = -1\n",
    "\n",
    "while guess != secret:\n",
    "    guess = int(input(\"1부터 100 사이의 숫자 하나를 입력하세요: \"))\n",
    "    if guess == secret:\n",
    "        print(\"맞았습니다!\")\n",
    "    elif guess > secret:\n",
    "        print(\"너무 커요!\")\n",
    "    else:\n",
    "        print(\"너무 작아요!\")\n",
    "\n",
    "print(\"게임 종료!\")\n",
    "```"
   ]
  },
  {
   "cell_type": "markdown",
   "metadata": {},
   "source": [
    "## 연습문제"
   ]
  },
  {
   "cell_type": "markdown",
   "metadata": {},
   "source": [
    "참고: [(실습) 사례 연구: 프로그램 개발](https://colab.research.google.com/github/codingalzi/pybook/blob/master/practices/practice-guessing_numbrs.ipynb)"
   ]
  }
 ],
 "metadata": {
  "kernelspec": {
   "display_name": "Python 3 (ipykernel)",
   "language": "python",
   "name": "python3"
  },
  "language_info": {
   "codemirror_mode": {
    "name": "ipython",
    "version": 3
   },
   "file_extension": ".py",
   "mimetype": "text/x-python",
   "name": "python",
   "nbconvert_exporter": "python",
   "pygments_lexer": "ipython3",
   "version": "3.9.7"
  },
  "toc": {
   "base_numbering": 1,
   "nav_menu": {},
   "number_sections": false,
   "sideBar": true,
   "skip_h1_title": false,
   "title_cell": "목차",
   "title_sidebar": "Contents",
   "toc_cell": false,
   "toc_position": {},
   "toc_section_display": true,
   "toc_window_display": true
  }
 },
 "nbformat": 4,
 "nbformat_minor": 1
}
