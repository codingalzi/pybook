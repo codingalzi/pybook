{
 "cells": [
  {
   "cell_type": "markdown",
   "metadata": {},
   "source": [
    "# 반복문"
   ]
  },
  {
   "cell_type": "markdown",
   "metadata": {},
   "source": [
    "반복 명령문을 이용하면 지정된 명령문을 반복 실행시킬 수 있다.\n",
    "파이썬 프로그래밍 언어는 세 가지 방식으로 명령문을 반복시킬 수 있다.\n",
    "\n",
    "- `for` 반복문\n",
    "- `while` 반복문\n",
    "- 재귀 함수\n",
    "\n",
    "여기서는 {numref}`%s절 <sec:basic-commands>` 에서\n",
    "소개한 `for` 반복문과 `while` 반복문의 보다 많은 활용 예제와 고급 활용법을 소개한다.\n",
    "재귀 함수는 {numref}`%s장 <ch:recursion>`에서 다룬다."
   ]
  },
  {
   "cell_type": "markdown",
   "metadata": {},
   "source": [
    "**슬라이드**\n",
    "\n",
    "본문 내용을 요약한 [슬라이드](https://github.com/codingalzi/pybook/raw/master/slides/slides-iterations.pdf)를 \n",
    "다운로드할 수 있다."
   ]
  },
  {
   "cell_type": "markdown",
   "metadata": {},
   "source": [
    "## `range()` 함수와 `for` 반복문"
   ]
  },
  {
   "cell_type": "markdown",
   "metadata": {},
   "source": [
    "### 리스트 vs `range()` 함수"
   ]
  },
  {
   "cell_type": "markdown",
   "metadata": {},
   "source": [
    "리스트가 주어졌을 때 `for` 반복문을 이용하면 \n",
    "리스트 각각의 항목에 대해 동일한 코드를\n",
    "실행하도록 할 수 있다.\n",
    "예를 들어, 아래 코드는 2부터 10까지의 짝수들의 합을 계산한다.\n",
    "리스트 각각의 항목에 대해 반복되는 아래 명령문이 반복된다. \n",
    "\n",
    "```python\n",
    "sum = sum + item\n",
    "```\n",
    "\n",
    "즉, `sum` 변수에 리스트 각각의 항목을 더한 값을 재할당하는 과정을 반복한다."
   ]
  },
  {
   "cell_type": "code",
   "execution_count": 14,
   "metadata": {},
   "outputs": [
    {
     "name": "stdout",
     "output_type": "stream",
     "text": [
      "2부터 10까지 짝수들의 합: 30\n"
     ]
    }
   ],
   "source": [
    "two2ten_even = [2, 4, 6, 8, 10]\n",
    "\n",
    "sum = 0\n",
    "for item in two2ten_even:\n",
    "    sum = sum + item\n",
    "    \n",
    "print(\"2부터 10까지 짝수들의 합:\", sum)"
   ]
  },
  {
   "cell_type": "markdown",
   "metadata": {},
   "source": [
    "그런데 2부터 1만까지, 아니 2부터 1억까지의 짝수들의 합을 계산하려면\n",
    "`one2ten_even`과 유사한 변수를 선언하기 위해 항목을 5천 개 또는 5천만 개를 갖는\n",
    "리스트를 먼저 표현해야 한다.\n",
    "하지만 이런 일을 사람이 직접 타이핑하기에는 매우 지난하거나\n",
    "불가능하다.\n",
    "\n",
    "파이썬을 포함한 대부분의 프로그래밍 언어는\n",
    "이런 경우를 간단하게 처리할 수 있는 기능을 제공한다.\n",
    "파이썬의 경우엔 `range()` 함수를 활용한다."
   ]
  },
  {
   "cell_type": "markdown",
   "metadata": {},
   "source": [
    "예를 들어 2부터 10까지의 짝수들의 합을 아래와 같이 계산할 수 있다."
   ]
  },
  {
   "cell_type": "code",
   "execution_count": 6,
   "metadata": {},
   "outputs": [
    {
     "name": "stdout",
     "output_type": "stream",
     "text": [
      "2부터 10까지 짝수들의 합: 30\n"
     ]
    }
   ],
   "source": [
    "sum = 0\n",
    "for item in range(2, 11, 2):\n",
    "    sum = sum + item\n",
    "    \n",
    "print(\"2부터 10까지 짝수들의 합:\", sum)"
   ]
  },
  {
   "cell_type": "markdown",
   "metadata": {},
   "source": [
    "그리고 숫자를 하나 바꾸면 2부터 1억까지의 짝수들의 합을 계산할 수 있다."
   ]
  },
  {
   "cell_type": "code",
   "execution_count": 7,
   "metadata": {},
   "outputs": [
    {
     "name": "stdout",
     "output_type": "stream",
     "text": [
      "2부터 1억까지 짝수들의 합: 2500000050000000\n"
     ]
    }
   ],
   "source": [
    "sum = 0\n",
    "for item in range(2, 100000001, 2):\n",
    "    sum = sum + item\n",
    "    \n",
    "print(\"2부터 1억까지 짝수들의 합:\", sum)"
   ]
  },
  {
   "cell_type": "markdown",
   "metadata": {},
   "source": [
    "`range()` 함수는 특정 구간에서 규칙성 있게 분포하는 정수들의 리스트처럼 작동하는 값을 생성한다. 자세한 활용법은 다음과 같다."
   ]
  },
  {
   "cell_type": "markdown",
   "metadata": {},
   "source": [
    "### `range()` 함수 활용법"
   ]
  },
  {
   "cell_type": "markdown",
   "metadata": {},
   "source": [
    "`range()` 함수는 리스트와 매우 유사한 값을 생성한다.\n",
    "예를 들어, `range(10)`는 0부터 10 이전까지, \n",
    "즉 0부터 9까지의 정수를 포함하는 리스트와 유사한 값을 생성한다."
   ]
  },
  {
   "cell_type": "code",
   "execution_count": 9,
   "metadata": {},
   "outputs": [
    {
     "data": {
      "text/plain": [
       "range(0, 10)"
      ]
     },
     "execution_count": 9,
     "metadata": {},
     "output_type": "execute_result"
    }
   ],
   "source": [
    "range(10)"
   ]
  },
  {
   "cell_type": "markdown",
   "metadata": {},
   "source": [
    ":::{admonition} `range` 함수? 클래스?\n",
    ":class: info\n",
    "\n",
    "`range` 는 실제로는 함수가 아니며 {numref}`%s장 <ch:classes_instances_objects>`에서 소개하는\n",
    "개념인 클래스로 정의되었다.\n",
    "하지만 매우 자연스럽게 함수처럼 활용되기에 함수로 많이 불린다.\n",
    ":::"
   ]
  },
  {
   "cell_type": "markdown",
   "metadata": {},
   "source": [
    "0을 첫째 인자로, 10을 둘째 인자로 사용해도 동일한 모양의 값을 생성한다."
   ]
  },
  {
   "cell_type": "code",
   "execution_count": 10,
   "metadata": {},
   "outputs": [
    {
     "data": {
      "text/plain": [
       "range(0, 10)"
      ]
     },
     "execution_count": 10,
     "metadata": {},
     "output_type": "execute_result"
    }
   ],
   "source": [
    "range(0, 10)"
   ]
  },
  {
   "cell_type": "markdown",
   "metadata": {},
   "source": [
    "`range()` 함수가 생성하는 값의 자료형은 `range` 이다."
   ]
  },
  {
   "cell_type": "code",
   "execution_count": 11,
   "metadata": {},
   "outputs": [
    {
     "data": {
      "text/plain": [
       "range"
      ]
     },
     "execution_count": 11,
     "metadata": {},
     "output_type": "execute_result"
    }
   ],
   "source": [
    "type(range(10))"
   ]
  },
  {
   "cell_type": "markdown",
   "metadata": {},
   "source": [
    "그런데 `range(10)`의 내부를 바로 보여주지는 않는다."
   ]
  },
  {
   "cell_type": "code",
   "execution_count": 26,
   "metadata": {},
   "outputs": [
    {
     "name": "stdout",
     "output_type": "stream",
     "text": [
      "range(0, 10)\n"
     ]
    }
   ],
   "source": [
    "print(range(10))"
   ]
  },
  {
   "cell_type": "markdown",
   "metadata": {},
   "source": [
    "`range` 자료형의 값이 내부를 바로 보여주지 않는 이유는\n",
    "{numref}`%s장 <ch:iterator_generator>`에서 설명하지만 지금은 전혀 중요하지 않다.\n",
    "대신 리스트로의 형변환을 통해 `range` 객체에 포함되는 값을 확인할 수 있다는 사실만 기억해 둔다."
   ]
  },
  {
   "cell_type": "code",
   "execution_count": 27,
   "metadata": {},
   "outputs": [
    {
     "data": {
      "text/plain": [
       "[0, 1, 2, 3, 4, 5, 6, 7, 8, 9]"
      ]
     },
     "execution_count": 27,
     "metadata": {},
     "output_type": "execute_result"
    }
   ],
   "source": [
    "list(range(10))"
   ]
  },
  {
   "cell_type": "markdown",
   "metadata": {},
   "source": [
    "`range()` 함수는 `for` 반복문에서 리스트 대신에 매우 유용하게 활용된다.\n",
    "예를 들어 아래 코드는 `range(10)`이\n",
    "리스트 `[0, 1, 2, 3, 4, 5, 6, 7, 8, 9]` 대신 사용될 수 있음을 보여준다.\n",
    "이유는 `item` 변수에 0부터 9까지의 정수가 차례대로 할당되기 때문이다."
   ]
  },
  {
   "cell_type": "code",
   "execution_count": 29,
   "metadata": {},
   "outputs": [
    {
     "name": "stdout",
     "output_type": "stream",
     "text": [
      "item에 할당된 값: 0\n",
      "item에 할당된 값: 1\n",
      "item에 할당된 값: 2\n",
      "item에 할당된 값: 3\n",
      "item에 할당된 값: 4\n",
      "item에 할당된 값: 5\n",
      "item에 할당된 값: 6\n",
      "item에 할당된 값: 7\n",
      "item에 할당된 값: 8\n",
      "item에 할당된 값: 9\n"
     ]
    }
   ],
   "source": [
    "for item in range(10):\n",
    "    print(\"item에 할당된 값:\", item)"
   ]
  },
  {
   "cell_type": "markdown",
   "metadata": {},
   "source": [
    "### `range()` 함수의 인자"
   ]
  },
  {
   "cell_type": "markdown",
   "metadata": {},
   "source": [
    "`range()` 함수는 최소 하나에서 최대 세 개의 위치 인자를 받으며,\n",
    "인자의 개수에 따라 각 인자의 역할이 정해진다.\n",
    "`range(10)`이 `range(0, 10)`과 동일한 모양의 값을 생성한다고 말했듯이\n",
    "하나의 인자만 사용하면 첫째 인자가 0인 두 개의 인자를 사용하는 경우와 동일하며,\n",
    "0부터 10 이전까지의 정수들로 구성된 리스트와 유사한 값을 표현한다."
   ]
  },
  {
   "cell_type": "markdown",
   "metadata": {},
   "source": [
    "`range()` 함수가 표현하는 구간의 시작을 0이 아닌 다른 정수로 하려면 반드시 두 개의 인자를 사용해야 한다.\n",
    "예를 들어, 아래 코드는 2부터 10까지의 정수로 구성된 리스트에 해당하는 값을 계산한다."
   ]
  },
  {
   "cell_type": "code",
   "execution_count": 15,
   "metadata": {},
   "outputs": [],
   "source": [
    "one2ten_range = range(1, 11)"
   ]
  },
  {
   "cell_type": "markdown",
   "metadata": {},
   "source": [
    "실제로 `list()` 형변환 함수를 이용하면 1부터 10까지의 정수를 포함한 리스트로 계산된다."
   ]
  },
  {
   "cell_type": "code",
   "execution_count": 16,
   "metadata": {},
   "outputs": [
    {
     "data": {
      "text/plain": [
       "[1, 2, 3, 4, 5, 6, 7, 8, 9, 10]"
      ]
     },
     "execution_count": 16,
     "metadata": {},
     "output_type": "execute_result"
    }
   ],
   "source": [
    "list(one2ten_range)"
   ]
  },
  {
   "cell_type": "markdown",
   "metadata": {},
   "source": [
    "위 사실을 이용하면 1부터 10까지의 정수의 합을 계산하는 코드를 \n",
    "아래처럼 `for` 반복문과 `range()` 함수를 이용하여 간단하게 구현할 수 있다."
   ]
  },
  {
   "cell_type": "code",
   "execution_count": 17,
   "metadata": {},
   "outputs": [
    {
     "name": "stdout",
     "output_type": "stream",
     "text": [
      "1부터 10까지 정수의 합: 55\n"
     ]
    }
   ],
   "source": [
    "sum = 0\n",
    "for num in range(1, 11):\n",
    "    sum += num           # 간편 변수 업데이트\n",
    "    \n",
    "print(\"1부터 10까지 정수의 합:\", sum)"
   ]
  },
  {
   "cell_type": "markdown",
   "metadata": {},
   "source": [
    "`range()` 함수에 세 개의 인자를 사용하면\n",
    "첫째, 둘째 인자의 의미는 이전과 동일하다.\n",
    "반면에 셋째 인자는 보폭을 가리킨다.\n",
    "예를 들어 1부터 9까지의 정수 중에서 홀수만을\n",
    "대상으로 하는 `range` 객체를 생성한다.\n",
    "이유는 보폭이 2로 지정되었기에 1부터 시작해서 1씩이 아닌 2씩 증가시켜 생성되는 `range` 객체에 포함시키기 때문이다."
   ]
  },
  {
   "cell_type": "code",
   "execution_count": 18,
   "metadata": {},
   "outputs": [
    {
     "data": {
      "text/plain": [
       "[1, 3, 5, 7, 9]"
      ]
     },
     "execution_count": 18,
     "metadata": {},
     "output_type": "execute_result"
    }
   ],
   "source": [
    "list(range(1, 10, 2))"
   ]
  },
  {
   "cell_type": "markdown",
   "metadata": {},
   "source": [
    "보폭을 인자로 사용하려면 반드시 세 개의 인자를 사용해야 한다.\n",
    "예를 들어 0을 짝수 리스트에 포함시키려면 다음과 같이 한다."
   ]
  },
  {
   "cell_type": "code",
   "execution_count": 42,
   "metadata": {},
   "outputs": [
    {
     "data": {
      "text/plain": [
       "[0, 2, 4, 6, 8, 10]"
      ]
     },
     "execution_count": 42,
     "metadata": {},
     "output_type": "execute_result"
    }
   ],
   "source": [
    "list(range(0, 11, 2))"
   ]
  },
  {
   "cell_type": "markdown",
   "metadata": {},
   "source": [
    "구간의 시작이 끝보다 큰데, 보폭을 지정하지 않거나 양수로 지정하면 \n",
    "아무런 값도 포함되지 않는다."
   ]
  },
  {
   "cell_type": "code",
   "execution_count": 12,
   "metadata": {},
   "outputs": [
    {
     "data": {
      "text/plain": [
       "[]"
      ]
     },
     "execution_count": 12,
     "metadata": {},
     "output_type": "execute_result"
    }
   ],
   "source": [
    "list(range(11, 2))  # list(range(11, 2, 1)) 과 동일"
   ]
  },
  {
   "cell_type": "code",
   "execution_count": 13,
   "metadata": {},
   "outputs": [
    {
     "data": {
      "text/plain": [
       "[]"
      ]
     },
     "execution_count": 13,
     "metadata": {},
     "output_type": "execute_result"
    }
   ],
   "source": [
    "list(range(11, 2, 2))"
   ]
  },
  {
   "cell_type": "markdown",
   "metadata": {},
   "source": [
    "이유는 11에서부터 1씩 또는 2씩 커지면서 2 이전까지의 구간에 속하는 정수는 없기 때문이다.\n",
    "하지만 보폭을 음수로 지정하면 크기 역순으로 구성된 정수들을 항목으로 갖는다.\n",
    "\n",
    "예를 들어 아래 코드는 11에서부터 0 이전까지, 즉 1까지의 정수 중에서 홀수만을 항목으로 갖는\n",
    "리스트를 반환한다.\n",
    "단, 구간의 끝이 둘째 인자의 이전인데 이때 **이전**의 의미는 보폭이 양의 정수인지, 음의 정수인지에 따라 달라짐에 유의한다."
   ]
  },
  {
   "cell_type": "code",
   "execution_count": 19,
   "metadata": {},
   "outputs": [
    {
     "data": {
      "text/plain": [
       "[11, 9, 7, 5, 3, 1]"
      ]
     },
     "execution_count": 19,
     "metadata": {},
     "output_type": "execute_result"
    }
   ],
   "source": [
    "list(range(11, 0, -2))"
   ]
  },
  {
   "cell_type": "markdown",
   "metadata": {},
   "source": [
    "## `while` 반복문 활용"
   ]
  },
  {
   "cell_type": "markdown",
   "metadata": {},
   "source": [
    "아래 \"수 알아맞히기 게임\" 코드를 실행한 다음 1부터 100 사이의 정수 하나를 입력하면\n",
    "입력한 값을 `secret` 변수에 할당된 17과 비교해서 \n",
    "맞다, 크다, 또는 작다에 해당하는 경우에 맞게 지정된 문장을 출력한다."
   ]
  },
  {
   "cell_type": "markdown",
   "metadata": {},
   "source": [
    "예를 들어 33을 입력하면 `\"너무 커요!\"`가 출력된다."
   ]
  },
  {
   "cell_type": "code",
   "execution_count": 47,
   "metadata": {},
   "outputs": [
    {
     "name": "stdout",
     "output_type": "stream",
     "text": [
      "수 알아맞히기 게임에 환영합니다.\n",
      "1부터 100 사이의 정수 하나를 입력하세요: 33\n",
      "너무 커요!\n",
      "게임 종료!\n"
     ]
    }
   ],
   "source": [
    "print(\"수 알아맞히기 게임에 환영합니다.\")\n",
    "\n",
    "secret = 17\n",
    "guess = int(input(\"1부터 100 사이의 정수 하나를 입력하세요: \"))\n",
    "\n",
    "if guess == secret:\n",
    "    print(\"맞았습니다!\")\n",
    "elif guess > secret:\n",
    "    print(\"너무 커요!\")\n",
    "else:\n",
    "    print(\"너무 작아요!\")\n",
    "\n",
    "print(\"게임 종료!\")"
   ]
  },
  {
   "cell_type": "markdown",
   "metadata": {},
   "source": [
    "따라서 33보다 작은 15를 입력하면 이번엔 `\"너무 작아요!\"`가 출력된다."
   ]
  },
  {
   "cell_type": "code",
   "execution_count": 47,
   "metadata": {},
   "outputs": [
    {
     "name": "stdout",
     "output_type": "stream",
     "text": [
      "수 알아맞히기 게임에 환영합니다.\n",
      "1부터 100 사이의 정수 하나를 입력하세요: 33\n",
      "너무 커요!\n",
      "게임 종료!\n"
     ]
    }
   ],
   "source": [
    "print(\"수 알아맞히기 게임에 환영합니다.\")\n",
    "\n",
    "secret = 17\n",
    "guess = int(input(\"1부터 100 사이의 정수 하나를 입력하세요: \"))\n",
    "\n",
    "if guess == secret:\n",
    "    print(\"맞았습니다!\")\n",
    "elif guess > secret:\n",
    "    print(\"너무 커요!\")\n",
    "else:\n",
    "    print(\"너무 작아요!\")\n",
    "\n",
    "print(\"게임 종료!\")"
   ]
  },
  {
   "cell_type": "markdown",
   "metadata": {},
   "source": [
    "다시 15보다 크고 33보다 작은 17을 입력하면 `\"맞았습니다!\"`가 출력된다."
   ]
  },
  {
   "cell_type": "code",
   "execution_count": 44,
   "metadata": {},
   "outputs": [
    {
     "name": "stdout",
     "output_type": "stream",
     "text": [
      "수 알아맞히기 게임에 환영합니다.\n",
      "1부터 100 사이의 정수 하나를 입력하세요: 17\n",
      "맞았습니다!\n",
      "게임 종료!\n"
     ]
    }
   ],
   "source": [
    "print(\"수 알아맞히기 게임에 환영합니다.\")\n",
    "\n",
    "secret = 17\n",
    "guess = int(input(\"1부터 100 사이의 정수 하나를 입력하세요: \"))\n",
    "\n",
    "if guess == secret:\n",
    "    print(\"맞았습니다!\")\n",
    "elif guess > secret:\n",
    "    print(\"너무 커요!\")\n",
    "else:\n",
    "    print(\"너무 작아요!\")\n",
    "\n",
    "print(\"게임 종료!\")"
   ]
  },
  {
   "cell_type": "markdown",
   "metadata": {},
   "source": [
    "위 코드의 문제는 이렇게 정답을 입력할 때까지 코드를 매번 새로 실행해야 한다는 점이다.\n",
    "따러서 정답을 입력할 때까지 반복해서 답을 입력할 수 있도록 하는 게 좋다.\n",
    "\n",
    "아래 코드는 `guess != secret`이 참인 동안,\n",
    "즉 사용자가 입력한 답이 거짓인 동안 다시 `secret`를 예측하는 값을\n",
    "반복해서 입력하도록 한다.\n",
    "사용자가 입력한 값이 틀리면 출력되는 정보에 따라 보다 큰 값 또는\n",
    "보다 작은 값을 입력해서 예측 범위를 줄여나가게 되어\n",
    "결국에는 정답을 입력할 수 있게 된다.\n",
    "\n",
    "`while guess != secret`이 실행되기 전에\n",
    "`guess = -1`로 변수 할당문을 선언하는 이유는 \n",
    "`while` 반복문이 최소 한 번 실행되도록 만들기 위해서이다."
   ]
  },
  {
   "cell_type": "code",
   "execution_count": 46,
   "metadata": {},
   "outputs": [
    {
     "name": "stdout",
     "output_type": "stream",
     "text": [
      "수 알아맞히기 게임에 환영합니다.\n",
      "1부터 100 사이의 정수 하나를 입력하세요: 18\n",
      "너무 커요!\n",
      "1부터 100 사이의 정수 하나를 입력하세요: 19\n",
      "너무 커요!\n",
      "1부터 100 사이의 정수 하나를 입력하세요: 17\n",
      "맞았습니다!\n",
      "게임 종료!\n"
     ]
    }
   ],
   "source": [
    "print(\"수 알아맞히기 게임에 환영합니다.\")\n",
    "\n",
    "secret = 17\n",
    "guess = -1   # 이어지는 while 반복문이 최소 한 번은 실행되도록 함\n",
    "\n",
    "while guess != secret:\n",
    "    guess = int(input(\"1부터 100 사이의 정수 하나를 입력하세요: \"))\n",
    "    if guess == secret:\n",
    "        print(\"맞았습니다!\")\n",
    "    elif guess > secret:\n",
    "        print(\"너무 커요!\")\n",
    "    else:\n",
    "        print(\"너무 작아요!\")\n",
    "\n",
    "print(\"게임 종료!\")"
   ]
  },
  {
   "cell_type": "markdown",
   "metadata": {},
   "source": [
    "## `break`와 `continue`"
   ]
  },
  {
   "cell_type": "markdown",
   "metadata": {},
   "source": [
    "`for` 또는 `while` 반복문의 실행 도중에\n",
    "`break` 명령문과 `continue` 명령문이 실행되면\n",
    "반복문의 실행을 중간에 중단시키거나 특정 경우를 건너뛰도록 한다.\n",
    "\n",
    "- `break` 명령문: `for`/`while` 반복문의 실행 중단\n",
    "- `continue` 명령문\n",
    "    - `for` 반복문: 현재 처리중인 경우를 바로 건너 뛰고 다음 경우로 넘어감.\n",
    "    - `while` 반복문: `while` 반복문의 처음으로 바로 돌아감."
   ]
  },
  {
   "cell_type": "markdown",
   "metadata": {},
   "source": [
    "**`break` 명령문**"
   ]
  },
  {
   "cell_type": "markdown",
   "metadata": {},
   "source": [
    "아래 프로그램을 실행하면\n",
    "1부터 9까지의 정수를 대상으로\n",
    "차례대로 3의 배수 여부를 판단한다.\n",
    "\n",
    "`num`이 차례대로 1, 2, 3, ... 등을 할당받을 때마다\n",
    "3의 배수가 아니면 아니다 라고 말하고 \n",
    "반복문의 다음 경우로 넘어간다.\n",
    "그리고 `num`에 3의 배수가 할당되면 3의 배수를 찾았다고 알린 후\n",
    "바로 `break` 명령문이 실행되어 반복문을 종료한다.\n",
    "즉, `\"3의 배수 찾았음\"`을 출력하는 바로 다음 줄에 위치한 `print()` 함수의\n",
    "호출은 실행되지 않는다.\n",
    "\n",
    "즉, 원래대로라면 `num` 변수가 4인 경우를 다뤄야 하지만\n",
    "반복문을 바로 종료한다.\n",
    "반면에 마지막 줄의 `print()` 함수 호출은 실행된다.\n",
    "`break`는 자신을 포함한 반복문의 실행을 멈추게 할 뿐이기 때문이다."
   ]
  },
  {
   "cell_type": "code",
   "execution_count": 35,
   "metadata": {},
   "outputs": [
    {
     "name": "stdout",
     "output_type": "stream",
     "text": [
      "1 은(는) 3의 배수 아님!\n",
      "2 은(는) 3의 배수 아님!\n",
      "3 은(는) 3의 배수!\n",
      "프로그램 종료!\n"
     ]
    }
   ],
   "source": [
    "for num in range(1, 10):\n",
    "    if num % 3 != 0:\n",
    "        print(num, \"은(는) 3의 배수 아님!\")\n",
    "    else:\n",
    "        print(num, \"은(는) 3의 배수!\")\n",
    "        break\n",
    "        print(\"3의 배수 찾았음\")\n",
    "        \n",
    "print(\"프로그램 종료!\")"
   ]
  },
  {
   "cell_type": "markdown",
   "metadata": {},
   "source": [
    "아래 코드는 위 프로그램을 `while` 반복문으로 구현하였으며\n",
    "실행되는 과정은 위 코드와 동일하다.\n",
    "즉, `num`에 3이 할당되어 3의 배수를 가리키는 순간\n",
    "`break` 명령문이 실행되어 반복문이 바로 멈추고\n",
    "마지막 줄의 `print()` 함수가 호출된다."
   ]
  },
  {
   "cell_type": "code",
   "execution_count": 24,
   "metadata": {},
   "outputs": [
    {
     "name": "stdout",
     "output_type": "stream",
     "text": [
      "1 은(는) 3의 배수 아님!\n",
      "2 은(는) 3의 배수 아님!\n",
      "3 은(는) 3의 배수!\n",
      "3의 배수 찾았음\n",
      "프로그램 종료!\n"
     ]
    }
   ],
   "source": [
    "num = 1\n",
    "\n",
    "while num < 10:\n",
    "    if num % 3 != 0:\n",
    "        print(num, \"은(는) 3의 배수 아님!\")\n",
    "    else:\n",
    "        print(num, \"은(는) 3의 배수!\")\n",
    "        break\n",
    "        print(\"3의 배수 찾았음\")\n",
    "        \n",
    "    num += 1\n",
    "        \n",
    "print(\"프로그램 종료!\")"
   ]
  },
  {
   "cell_type": "markdown",
   "metadata": {},
   "source": [
    "**`continue` 명령문**"
   ]
  },
  {
   "cell_type": "markdown",
   "metadata": {},
   "source": [
    "아래 프로그램을 실행하면\n",
    "1부터 9까지의 정수를 대상으로\n",
    "차례대로 3의 배수 여부를 판단한다.\n",
    "\n",
    "`num`이 차례대로 1, 2, 3, ... 등을 할당받을 때마다\n",
    "3의 배수 여부를 판단해서 3의 배수인 경우에만 \n",
    "그렇다라고 출력한다.\n",
    "\n",
    "그런데 `num`에 할당된 값이 3의 배수가 아니면 \n",
    "`continue` 명령문이 실행되어 \n",
    "바로 아랫줄의 `print()` 명령문을 실행하지 않고\n",
    "반복문의 다음 경우로 이동한다.\n",
    "\n",
    "`num`이 1부터 시작해서 차례대로 값을 할당받으면\n",
    "1, 2, 4, 5, 7, 8의 경우는 `continue` 명령문에 의해\n",
    "무시되는 효과가 발생한다."
   ]
  },
  {
   "cell_type": "code",
   "execution_count": 32,
   "metadata": {},
   "outputs": [
    {
     "name": "stdout",
     "output_type": "stream",
     "text": [
      "3 은(는) 3의 배수!\n",
      "6 은(는) 3의 배수!\n",
      "9 은(는) 3의 배수!\n"
     ]
    }
   ],
   "source": [
    "for num in range(1, 10):\n",
    "    if num % 3 == 0:\n",
    "        print(num, \"은(는) 3의 배수!\")\n",
    "    else:\n",
    "        continue\n",
    "        print(num, \"은(는) 3의 배수 아님!\")\n",
    "        "
   ]
  },
  {
   "cell_type": "code",
   "execution_count": null,
   "metadata": {},
   "outputs": [],
   "source": []
  },
  {
   "cell_type": "code",
   "execution_count": 39,
   "metadata": {},
   "outputs": [
    {
     "name": "stdout",
     "output_type": "stream",
     "text": [
      "3 은(는) 3의 배수!\n",
      "6 은(는) 3의 배수!\n",
      "9 은(는) 3의 배수!\n"
     ]
    }
   ],
   "source": [
    "num = 0\n",
    "while num < 10:\n",
    "    num += 1\n",
    "    if num % 3 == 0:\n",
    "        print(num, \"은(는) 3의 배수!\")\n",
    "    else:\n",
    "        continue\n",
    "        print(num, \"은(는) 3의 배수 아님!\")"
   ]
  },
  {
   "cell_type": "code",
   "execution_count": null,
   "metadata": {},
   "outputs": [],
   "source": []
  },
  {
   "cell_type": "markdown",
   "metadata": {},
   "source": [
    "**`break` 명령문의 영향 범위**"
   ]
  },
  {
   "cell_type": "markdown",
   "metadata": {},
   "source": [
    "이처럼 `break` 명령문은 자신이 포함된 `for`/`while` 반복문의 실행만 멈추게 한다.\n",
    "따라서 실행이 멈춘 반복문에 이어지는 다른 코드는 계속해서 실행된다.\n",
    "예를 들어 아래 코드를 실행하면 1과 2를 출력한 후에 `while` 반복문의 실행이 멈춘다.\n",
    "그리고 이어서 위치한 `print(\"코드 실행 종료\")` 명령문이 실행되어\n",
    "화면에 `\"코드 실행 종료\"`가 출력된다."
   ]
  },
  {
   "cell_type": "code",
   "execution_count": 49,
   "metadata": {},
   "outputs": [
    {
     "name": "stdout",
     "output_type": "stream",
     "text": [
      "1\n",
      "2\n",
      "코드 실행 종료!\n"
     ]
    }
   ],
   "source": [
    "num = 1\n",
    "\n",
    "while num < 5:\n",
    "\n",
    "    print(num)\n",
    "    \n",
    "    if num == 2:\n",
    "        break\n",
    "\n",
    "    num += 1\n",
    "    \n",
    "print(\"코드 실행 종료!\")"
   ]
  },
  {
   "cell_type": "code",
   "execution_count": null,
   "metadata": {},
   "outputs": [],
   "source": []
  },
  {
   "cell_type": "code",
   "execution_count": null,
   "metadata": {},
   "outputs": [],
   "source": []
  },
  {
   "cell_type": "markdown",
   "metadata": {},
   "source": [
    "## 무한 반복"
   ]
  },
  {
   "cell_type": "markdown",
   "metadata": {},
   "source": [
    "헤더의 조건을 나타내는 논리식이 계속해서 참이면 `while` 반복문이 무한정 반복되어 실행될 수 있다.\n",
    "\n",
    "예를 들어 다음 함수를 살펴보자."
   ]
  },
  {
   "cell_type": "markdown",
   "metadata": {},
   "source": [
    "```python\n",
    "def count_infinitely(n):\n",
    "    while n > 0:\n",
    "        print(n)\n",
    "        n = n + 1\n",
    "```"
   ]
  },
  {
   "cell_type": "markdown",
   "metadata": {},
   "source": [
    "`count_infinitely(1)`을 호출하면 `while` 반복문이 무한 반복된다.\n",
    "이유는 `n`이 무한정 커지기 때문이다.\n",
    "이런 현상을 **무한 반복**<font size=\"2\">infinite loop</font>라 하며\n",
    "경우에 따라 **무한 루프**라 불린다."
   ]
  },
  {
   "cell_type": "markdown",
   "metadata": {},
   "source": [
    "`while` 반복문으로 인해 무한 반복이 발생하는지 여부를\n",
    "경우에 따라 판단하기 매우 어렵거나 불가능할 수 있다. \n",
    "여기서는 콜라츠 추측에 사용된 알고리즘을 이용하여\n",
    "판단이 매우 어려운 경우를 소개한다."
   ]
  },
  {
   "cell_type": "markdown",
   "metadata": {},
   "source": [
    "**콜라츠 추측과 무한 반복**"
   ]
  },
  {
   "cell_type": "markdown",
   "metadata": {},
   "source": [
    "아래 함수를 인자 `n`과 함께 호출하면 `n`을 출력한 후에 짝수 또는 홀수인 경우에 따라 `n`의 값을 업데이트하는 과정을 반복한다."
   ]
  },
  {
   "cell_type": "code",
   "execution_count": 12,
   "metadata": {},
   "outputs": [],
   "source": [
    "def collatz(n):\n",
    "    while n != 1:\n",
    "        print(n, end=\" -> \")\n",
    "        if n%2 == 0:          # 짝수인 경우\n",
    "            n = n//2\n",
    "        else:                 # 홀수인 경우\n",
    "            n = n*3 + 1\n",
    "            \n",
    "    print(1)                  # 기저 조건"
   ]
  },
  {
   "cell_type": "code",
   "execution_count": 13,
   "metadata": {},
   "outputs": [
    {
     "name": "stdout",
     "output_type": "stream",
     "text": [
      "3 -> 10 -> 5 -> 16 -> 8 -> 4 -> 2 -> 1\n"
     ]
    }
   ],
   "source": [
    "collatz(3)"
   ]
  },
  {
   "cell_type": "code",
   "execution_count": 14,
   "metadata": {
    "scrolled": true
   },
   "outputs": [
    {
     "name": "stdout",
     "output_type": "stream",
     "text": [
      "7 -> 22 -> 11 -> 34 -> 17 -> 52 -> 26 -> 13 -> 40 -> 20 -> 10 -> 5 -> 16 -> 8 -> 4 -> 2 -> 1\n"
     ]
    }
   ],
   "source": [
    "collatz(7)"
   ]
  },
  {
   "cell_type": "code",
   "execution_count": 15,
   "metadata": {},
   "outputs": [
    {
     "name": "stdout",
     "output_type": "stream",
     "text": [
      "111 -> 334 -> 167 -> 502 -> 251 -> 754 -> 377 -> 1132 -> 566 -> 283 -> 850 -> 425 -> 1276 -> 638 -> 319 -> 958 -> 479 -> 1438 -> 719 -> 2158 -> 1079 -> 3238 -> 1619 -> 4858 -> 2429 -> 7288 -> 3644 -> 1822 -> 911 -> 2734 -> 1367 -> 4102 -> 2051 -> 6154 -> 3077 -> 9232 -> 4616 -> 2308 -> 1154 -> 577 -> 1732 -> 866 -> 433 -> 1300 -> 650 -> 325 -> 976 -> 488 -> 244 -> 122 -> 61 -> 184 -> 92 -> 46 -> 23 -> 70 -> 35 -> 106 -> 53 -> 160 -> 80 -> 40 -> 20 -> 10 -> 5 -> 16 -> 8 -> 4 -> 2 -> 1\n"
     ]
    }
   ],
   "source": [
    "collatz(111)"
   ]
  },
  {
   "cell_type": "markdown",
   "metadata": {},
   "source": [
    "**콜라츠 추측**<font size='2'>Collatz cojecture</font>은 \n",
    "위 함수가 임의의 양의 정수 `n`에 대해 \n",
    "항상 언젠가는 1을 출력하고 실행을 멈춘다는 가정이다.\n",
    "그런데 `collatz()` 함수의 실행이 항상 멈춘다는 증명도,\n",
    "멈추지 않는 경우가 있다는 증명도 아직 없다.\n",
    "즉, 콜라츠 추측은 여전히 미해결 문제로 남아 있다."
   ]
  },
  {
   "cell_type": "markdown",
   "metadata": {},
   "source": [
    "**무한 반복과 `break` 명령문**"
   ]
  },
  {
   "cell_type": "markdown",
   "metadata": {},
   "source": [
    "사용자로부터 `'중지'` 단어가 입력될 때 까지\n",
    "단어를 입력 받는 프로그램은 다음과 같다.\n",
    "\n",
    "```python\n",
    "while True:\n",
    "    line = input('단어입력: ')\n",
    "    if line == '중지':\n",
    "        break\n",
    "    print(line)\n",
    "\n",
    "print('종료합니다!')\n",
    "```\n",
    "\n",
    "`True` 는 항상 참이기에 위 `while` 반복문은 무한 반복을 유발하여\n",
    "사용자로부터 계속해서 문장을 입력받는다.\n",
    "하지만 입력된 문장이 '중지'가 되는 순간 `break` 명령문이 \n",
    "실행되어 `while` 반복문을 벗어나게 된다.\n",
    "\n",
    "예를 들어, 위 코드를 실행한 후에 파이썬, 좋아요, 중지 를 차례대로 입력하면\n",
    "아래 결과를 얻는다.\n",
    "\n",
    "```\n",
    "단어입력: 파이썬\n",
    "파이썬\n",
    "단어입력: 좋아요\n",
    "좋아요\n",
    "단어입력: 중지\n",
    "종료합니다!\n",
    "```\n",
    "\n",
    "마지막 줄의 '종료합니다!' 는 `while` 반복문 밖에 위치한\n",
    "코드 마지막 줄의 `print('종료합니다!')` 가 실행되었음을 확인해준다.\n",
    "이와 같이 반복 횟수를 미리 지정할 수 없지만 \n",
    "특별한 상황이 발생하면 무한 반복을 중지시켜야 할 때\n",
    "`while True`와 `break`를 함께 활용한다."
   ]
  },
  {
   "cell_type": "markdown",
   "metadata": {},
   "source": [
    ":::{admonition} `while 1`\n",
    ":class: info\n",
    "\n",
    "`while True` 대신에 `while 1`을 사용하곤 한다.\n",
    "이유는 `while` 다음에는 논리식이 위치해야 하기에 `1`이 참으로 간주되기 때문이다. \n",
    ":::"
   ]
  },
  {
   "cell_type": "markdown",
   "metadata": {},
   "source": [
    "**무한 반복 활용: 게임 프로그래밍**"
   ]
  },
  {
   "cell_type": "markdown",
   "metadata": {},
   "source": [
    "무한 반복은 게임 프로그래밍에서 자주 사용된다.\n",
    "게임 종료가 언제 이뤄지는가는 게임의 전개 과정에 의존하기에 미리 알 수 없다.\n",
    "따라서 게임 진행 전체를 관장하는 코드는 기본적으로 `while True`로 시작하는 무한 반복을 활용한다.\n",
    "예를 들어 [거북이 경주 게임](https://leegys_gmail_com.trinket.io/python-turtle#/mini-peurojegteu/geobugi-gyeongju-geim)에서\n",
    "두 마리의 거북이가 목표 지점에 다다르기 위해 경주를 한다.\n",
    "두 마리 중 한 마리의 거북이가 먼저 목표 지점에 다다르면 게임이 멈추는데 그때가 언제인지는\n",
    "미리 알 수 없다.\n",
    "따라서 경주를 진행하는 반복문이 `while True`로 시작하며\n",
    "한 마리의 거북이가 목표 지점에 다다르면 반복문의 실행이 멈추도록 `break` 명령문이 사용되었다."
   ]
  },
  {
   "cell_type": "markdown",
   "metadata": {},
   "source": [
    "## 연습문제"
   ]
  },
  {
   "cell_type": "markdown",
   "metadata": {},
   "source": [
    "참고: [(실습) 반복문](https://colab.research.google.com/github/codingalzi/pybook/blob/master/practices/practice-iterations.ipynb)"
   ]
  }
 ],
 "metadata": {
  "kernelspec": {
   "display_name": "Python 3 (ipykernel)",
   "language": "python",
   "name": "python3"
  },
  "language_info": {
   "codemirror_mode": {
    "name": "ipython",
    "version": 3
   },
   "file_extension": ".py",
   "mimetype": "text/x-python",
   "name": "python",
   "nbconvert_exporter": "python",
   "pygments_lexer": "ipython3",
   "version": "3.11.4"
  },
  "vscode": {
   "interpreter": {
    "hash": "ad0f3c8a064f687cbf898a0868fd45ba1c7e928ac8a0404f7c241d812ddc1e76"
   }
  }
 },
 "nbformat": 4,
 "nbformat_minor": 1
}
