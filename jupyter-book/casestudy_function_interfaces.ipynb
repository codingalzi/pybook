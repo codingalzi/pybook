{
 "cells": [
  {
   "cell_type": "markdown",
   "id": "1d901e8a",
   "metadata": {},
   "source": [
    "# 사례 연구: 함수 인터페이스"
   ]
  },
  {
   "cell_type": "markdown",
   "id": "cecb5447",
   "metadata": {},
   "source": [
    "`turtle` 모듈을 이용하여 다양한 그림을 그리는 함수를 직접 구현하면서\n",
    "반복문과 함수의 활용을 좀 더 자세히 살펴본다.\n",
    "또한 클래스, 인스턴스, 메서드 등을 활용하는 객체 지향 프로그래밍(OOP)의\n",
    "기본 구성 요소를 소개한다."
   ]
  },
  {
   "cell_type": "markdown",
   "id": "e9594930",
   "metadata": {},
   "source": [
    "## `turtle` 모듈"
   ]
  },
  {
   "cell_type": "markdown",
   "id": "6ec51ed2",
   "metadata": {},
   "source": [
    "`turtle` 모듈은 간단한 그림을 그리는 다양한 도구를 제공하며, \n",
    "파이썬에 기본 모듈로 포함되어 있다. \n",
    "따라서 자신의 컴퓨터에 예를 들어 파이썬 기본 또는 아나콘다 팩키지가 깔려 있다면\n",
    "아래 명령문을 실행할 때 바로 그림 창이 하나 새로 나타나야 한다."
   ]
  },
  {
   "cell_type": "markdown",
   "id": "f9c42aaf",
   "metadata": {},
   "source": [
    "```python\n",
    "import turtle             # allows us to use the turtles library\n",
    "wn = turtle.Screen()      # creates a graphics window\n",
    "alex = turtle.Turtle()    # create a turtle named alex\n",
    "alex.forward(150)         # tell alex to move forward by 150 units\n",
    "alex.left(90)             # turn by 90 degrees\n",
    "alex.forward(75)          # complete the second side of a rectangle\n",
    "```"
   ]
  },
  {
   "cell_type": "markdown",
   "id": "6411b090",
   "metadata": {},
   "source": [
    "<div align=\"center\"><img src=\"https://raw.githubusercontent.com/codingalzi/pybook/master/jupyter-book/images/turtle01.png\" width=\"250\"/></div>"
   ]
  },
  {
   "cell_type": "markdown",
   "id": "c970ab48",
   "metadata": {},
   "source": [
    "반면에 구글 코랩 등 대부분의 온라인 사이트에서는 지원되지 않는다. \n",
    "하지만 다행히도 [트링킷<font size=\"2\">Trinket</font>](https://trinket.io)이 거북이 그래픽스를 지원한다."
   ]
  },
  {
   "cell_type": "markdown",
   "id": "8c498f89",
   "metadata": {},
   "source": [
    "When you run this code, it should create a new window with small arrow that represents the turtle. Close the window.\n",
    "\n",
    "Create a file named `mypolygon.py` and type in the following code:"
   ]
  },
  {
   "cell_type": "markdown",
   "id": "85dd5480",
   "metadata": {},
   "source": [
    "```python\n",
    "import turtle\n",
    "bob = turtle.Turtle()\n",
    "print(bob)\n",
    "turtle.mainloop()\n",
    "```"
   ]
  },
  {
   "cell_type": "markdown",
   "id": "fbec52a6",
   "metadata": {},
   "source": [
    "The `turtle` module (with a lowercase ’t’) provides a function called Turtle (with an uppercase ’T’) that creates a Turtle object, which we assign to a variable named bob. Printing bob displays something like:\n",
    "\n",
    "```python\n",
    "<turtle.Turtle object at 0xb7bfbf4c>\n",
    "```\n",
    "\n",
    "This means that bob refers to an object with type Turtle as defined in module turtle.\n",
    "\n",
    "`mainloop` tells the window to wait for the user to do something, although in this case there’s not much for the user to do except close the window."
   ]
  },
  {
   "cell_type": "markdown",
   "id": "b4eb1012",
   "metadata": {},
   "source": [
    "Once you create a Turtle, you can call a method to move it around the window. A method is similar to a function, but it uses slightly different syntax. For example, to move the turtle forward:\n",
    "\n",
    "```python\n",
    "bob.fd(100)\n",
    "```"
   ]
  },
  {
   "cell_type": "markdown",
   "id": "962aeb2a",
   "metadata": {},
   "source": [
    "The method, fd, is associated with the turtle object we’re calling bob. Calling a method is like making a request: you are asking bob to move forward.\n",
    "\n",
    "The argument of fd is a distance in pixels, so the actual size depends on your display.\n",
    "\n",
    "Other methods you can call on a Turtle are bk to move backward, lt for left turn, and rt right turn. The argument for lt and rt is an angle in degrees.\n",
    "\n",
    "Also, each Turtle is holding a pen, which is either down or up; if the pen is down, the Turtle leaves a trail when it moves. The methods pu and pd stand for “pen up” and “pen down”.\n",
    "\n",
    "To draw a right angle, add these lines to the program (after creating bob and before calling mainloop):\n",
    "\n",
    "```python\n",
    "bob.fd(100)\n",
    "bob.lt(90)\n",
    "bob.fd(100)\n",
    "```"
   ]
  },
  {
   "cell_type": "markdown",
   "id": "44ec27e1",
   "metadata": {},
   "source": [
    "When you run this program, you should see bob move east and then north, leaving two line segments behind.\n",
    "\n",
    "Now modify the program to draw a square. Don’t go on until you’ve got it working!"
   ]
  },
  {
   "cell_type": "markdown",
   "id": "d26e1be0",
   "metadata": {},
   "source": [
    "## 4.2  Simple repetition"
   ]
  },
  {
   "cell_type": "markdown",
   "id": "36b51161",
   "metadata": {},
   "source": [
    "Chances are you wrote something like this:\n",
    "\n",
    "```python\n",
    "bob.fd(100)\n",
    "bob.lt(90)\n",
    "\n",
    "bob.fd(100)\n",
    "bob.lt(90)\n",
    "\n",
    "bob.fd(100)\n",
    "bob.lt(90)\n",
    "\n",
    "bob.fd(100)\n",
    "```"
   ]
  },
  {
   "cell_type": "markdown",
   "id": "7ec7cd9f",
   "metadata": {},
   "source": [
    "We can do the same thing more concisely with a for statement. Add this example to mypolygon.py and run it again:\n",
    "\n",
    "```python\n",
    "for i in range(4):\n",
    "    print('Hello!')\n",
    "```"
   ]
  },
  {
   "cell_type": "markdown",
   "id": "2b43d960",
   "metadata": {},
   "source": [
    "You should see something like this:\n",
    "\n",
    "```python\n",
    "Hello!\n",
    "Hello!\n",
    "Hello!\n",
    "Hello!\n",
    "```"
   ]
  },
  {
   "cell_type": "markdown",
   "id": "bffd5ca4",
   "metadata": {},
   "source": [
    "This is the simplest use of the for statement; we will see more later. But that should be enough to let you rewrite your square-drawing program. Don’t go on until you do.\n",
    "\n",
    "Here is a for statement that draws a square:\n",
    "\n",
    "```python\n",
    "for i in range(4):\n",
    "    bob.fd(100)\n",
    "    bob.lt(90)\n",
    "```"
   ]
  },
  {
   "cell_type": "markdown",
   "id": "ae3f6b31",
   "metadata": {},
   "source": [
    "The syntax of a for statement is similar to a function definition. It has a header that ends with a colon and an indented body. The body can contain any number of statements.\n",
    "\n",
    "A for statement is also called a loop because the flow of execution runs through the body and then loops back to the top. In this case, it runs the body four times.\n",
    "\n",
    "This version is actually a little different from the previous square-drawing code because it makes another turn after drawing the last side of the square. The extra turn takes more time, but it simplifies the code if we do the same thing every time through the loop. This version also has the effect of leaving the turtle back in the starting position, facing in the starting direction."
   ]
  },
  {
   "cell_type": "markdown",
   "id": "41163ee5",
   "metadata": {},
   "source": [
    "## 4.3  Exercises"
   ]
  },
  {
   "cell_type": "markdown",
   "id": "b7051b93",
   "metadata": {},
   "source": [
    "The following is a series of exercises using the turtle module. They are meant to be fun, but they have a point, too. While you are working on them, think about what the point is.\n",
    "\n",
    "The following sections have solutions to the exercises, so don’t look until you have finished (or at least tried).\n",
    "\n",
    "1. Write a function called square that takes a parameter named t, which is a turtle. It should use the turtle to draw a square.\n",
    "Write a function call that passes bob as an argument to square, and then run the program again.\n",
    "\n",
    "1. Add another parameter, named length, to square. Modify the body so length of the sides is length, and then modify the function call to provide a second argument. Run the program again. Test your program with a range of values for length.\n",
    "\n",
    "1. Make a copy of square and change the name to polygon. Add another parameter named n and modify the body so it draws an n-sided regular polygon. Hint: The exterior angles of an n-sided regular polygon are 360/n degrees.\n",
    "\n",
    "1. Write a function called circle that takes a turtle, t, and radius, r, as parameters and that draws an approximate circle by calling polygon with an appropriate length and number of sides. Test your function with a range of values of r.\n",
    "Hint: figure out the circumference of the circle and make sure that length * n = circumference.\n",
    "\n",
    "1. Make a more general version of circle called arc that takes an additional parameter angle, which determines what fraction of a circle to draw. angle is in units of degrees, so when angle=360, arc should draw a complete circle."
   ]
  },
  {
   "cell_type": "markdown",
   "id": "3a7caaa5",
   "metadata": {},
   "source": [
    "## 4.4  Encapsulation"
   ]
  },
  {
   "cell_type": "markdown",
   "id": "e2093aaf",
   "metadata": {},
   "source": [
    "The first exercise asks you to put your square-drawing code into a function definition and then call the function, passing the turtle as a parameter. Here is a solution:"
   ]
  },
  {
   "cell_type": "markdown",
   "id": "45515241",
   "metadata": {},
   "source": [
    "```python\n",
    "def square(t):\n",
    "    for i in range(4):\n",
    "        t.fd(100)\n",
    "        t.lt(90)\n",
    "\n",
    "square(bob)\n",
    "```"
   ]
  },
  {
   "cell_type": "markdown",
   "id": "00a6a2a5",
   "metadata": {},
   "source": [
    "The innermost statements, fd and lt are indented twice to show that they are inside the for loop, which is inside the function definition. The next line, square(bob), is flush with the left margin, which indicates the end of both the for loop and the function definition.\n",
    "\n",
    "Inside the function, t refers to the same turtle bob, so t.lt(90) has the same effect as bob.lt(90). In that case, why not call the parameter bob? The idea is that t can be any turtle, not just bob, so you could create a second turtle and pass it as an argument to square:"
   ]
  },
  {
   "cell_type": "markdown",
   "id": "a7a9efae",
   "metadata": {},
   "source": [
    "```python\n",
    "alice = turtle.Turtle()\n",
    "square(alice)\n",
    "```"
   ]
  },
  {
   "cell_type": "markdown",
   "id": "6a5fcc1e",
   "metadata": {},
   "source": [
    "Wrapping a piece of code up in a function is called encapsulation. One of the benefits of encapsulation is that it attaches a name to the code, which serves as a kind of documentation. Another advantage is that if you re-use the code, it is more concise to call a function twice than to copy and paste the body!"
   ]
  },
  {
   "cell_type": "markdown",
   "id": "4cdfaa50",
   "metadata": {},
   "source": [
    "## 4.5  Generalization"
   ]
  },
  {
   "cell_type": "markdown",
   "id": "d00b7717",
   "metadata": {},
   "source": [
    "The next step is to add a length parameter to square. Here is a solution:"
   ]
  },
  {
   "cell_type": "markdown",
   "id": "0ea908ad",
   "metadata": {},
   "source": [
    "```python\n",
    "def square(t, length):\n",
    "    for i in range(4):\n",
    "        t.fd(length)\n",
    "        t.lt(90)\n",
    "\n",
    "square(bob, 100)\n",
    "```"
   ]
  },
  {
   "cell_type": "markdown",
   "id": "c9361707",
   "metadata": {},
   "source": [
    "Adding a parameter to a function is called generalization because it makes the function more general: in the previous version, the square is always the same size; in this version it can be any size.\n",
    "\n",
    "The next step is also a generalization. Instead of drawing squares, polygon draws regular polygons with any number of sides. Here is a solution:"
   ]
  },
  {
   "cell_type": "markdown",
   "id": "cd3ea483",
   "metadata": {},
   "source": [
    "```python\n",
    "def polygon(t, n, length):\n",
    "    angle = 360 / n\n",
    "    for i in range(n):\n",
    "        t.fd(length)\n",
    "        t.lt(angle)\n",
    "\n",
    "polygon(bob, 7, 70)\n",
    "```"
   ]
  },
  {
   "cell_type": "markdown",
   "id": "7af6d006",
   "metadata": {},
   "source": [
    "This example draws a 7-sided polygon with side length 70.\n",
    "\n",
    "If you are using Python 2, the value of angle might be off because of integer division. A simple solution is to compute angle = 360.0 / n. Because the numerator is a floating-point number, the result is floating point.\n",
    "\n",
    "When a function has more than a few numeric arguments, it is easy to forget what they are, or what order they should be in. In that case it is often a good idea to include the names of the parameters in the argument list:"
   ]
  },
  {
   "cell_type": "markdown",
   "id": "b703c096",
   "metadata": {},
   "source": [
    "```python\n",
    "polygon(bob, n=7, length=70)\n",
    "```"
   ]
  },
  {
   "cell_type": "markdown",
   "id": "b473dd20",
   "metadata": {},
   "source": [
    "These are called keyword arguments because they include the parameter names as “keywords” (not to be confused with Python keywords like while and def).\n",
    "\n",
    "This syntax makes the program more readable. It is also a reminder about how arguments and parameters work: when you call a function, the arguments are assigned to the parameters."
   ]
  },
  {
   "cell_type": "markdown",
   "id": "02034838",
   "metadata": {},
   "source": [
    "## 4.6  Interface design"
   ]
  },
  {
   "cell_type": "markdown",
   "id": "4d4281e2",
   "metadata": {},
   "source": [
    "The next step is to write circle, which takes a radius, r, as a parameter. Here is a simple solution that uses polygon to draw a 50-sided polygon:\n",
    "\n",
    "```python\n",
    "import math\n",
    "\n",
    "def circle(t, r):\n",
    "    circumference = 2 * math.pi * r\n",
    "    n = 50\n",
    "    length = circumference / n\n",
    "    polygon(t, n, length)\n",
    "```"
   ]
  },
  {
   "cell_type": "markdown",
   "id": "d2b4cf1e",
   "metadata": {},
   "source": [
    "The first line computes the circumference of a circle with radius r using the formula 2 π r. Since we use math.pi, we have to import math. By convention, import statements are usually at the beginning of the script.\n",
    "\n",
    "n is the number of line segments in our approximation of a circle, so length is the length of each segment. Thus, polygon draws a 50-sided polygon that approximates a circle with radius r.\n",
    "\n",
    "One limitation of this solution is that n is a constant, which means that for very big circles, the line segments are too long, and for small circles, we waste time drawing very small segments. One solution would be to generalize the function by taking n as a parameter. This would give the user (whoever calls circle) more control, but the interface would be less clean."
   ]
  },
  {
   "cell_type": "markdown",
   "id": "035ac51d",
   "metadata": {},
   "source": [
    "The interface of a function is a summary of how it is used: what are the parameters? What does the function do? And what is the return value? An interface is “clean” if it allows the caller to do what they want without dealing with unnecessary details.\n",
    "\n",
    "In this example, r belongs in the interface because it specifies the circle to be drawn. n is less appropriate because it pertains to the details of how the circle should be rendered.\n",
    "\n",
    "Rather than clutter up the interface, it is better to choose an appropriate value of n depending on circumference:"
   ]
  },
  {
   "cell_type": "markdown",
   "id": "5616f4b6",
   "metadata": {},
   "source": [
    "```python\n",
    "def circle(t, r):\n",
    "    circumference = 2 * math.pi * r\n",
    "    n = int(circumference / 3) + 3\n",
    "    length = circumference / n\n",
    "    polygon(t, n, length)\n",
    "```"
   ]
  },
  {
   "cell_type": "markdown",
   "id": "7418245b",
   "metadata": {},
   "source": [
    "Now the number of segments is an integer near circumference/3, so the length of each segment is approximately 3, which is small enough that the circles look good, but big enough to be efficient, and acceptable for any size circle.\n",
    "\n",
    "Adding 3 to n guarantees that the polygon has at least 3 sides."
   ]
  },
  {
   "cell_type": "markdown",
   "id": "70899250",
   "metadata": {},
   "source": [
    "## 4.7  Refactoring"
   ]
  },
  {
   "cell_type": "markdown",
   "id": "9273d1a3",
   "metadata": {},
   "source": [
    "When I wrote circle, I was able to re-use polygon because a many-sided polygon is a good approximation of a circle. But arc is not as cooperative; we can’t use polygon or circle to draw an arc.\n",
    "\n",
    "One alternative is to start with a copy of polygon and transform it into arc. The result might look like this:"
   ]
  },
  {
   "cell_type": "markdown",
   "id": "7bfbb5ce",
   "metadata": {},
   "source": [
    "```python\n",
    "def arc(t, r, angle):\n",
    "    arc_length = 2 * math.pi * r * angle / 360\n",
    "    n = int(arc_length / 3) + 1\n",
    "    step_length = arc_length / n\n",
    "    step_angle = angle / n\n",
    "    \n",
    "    for i in range(n):\n",
    "        t.fd(step_length)\n",
    "        t.lt(step_angle)\n",
    "```"
   ]
  },
  {
   "cell_type": "markdown",
   "id": "caf4d6e7",
   "metadata": {},
   "source": [
    "The second half of this function looks like polygon, but we can’t re-use polygon without changing the interface. We could generalize polygon to take an angle as a third argument, but then polygon would no longer be an appropriate name! Instead, let’s call the more general function polyline:"
   ]
  },
  {
   "cell_type": "markdown",
   "id": "d2a40fd9",
   "metadata": {},
   "source": [
    "```python\n",
    "def polyline(t, n, length, angle):\n",
    "    for i in range(n):\n",
    "        t.fd(length)\n",
    "        t.lt(angle)\n",
    "```"
   ]
  },
  {
   "cell_type": "markdown",
   "id": "7d7fc85e",
   "metadata": {},
   "source": [
    "Now we can rewrite polygon and arc to use polyline:\n",
    "\n",
    "```python\n",
    "def polygon(t, n, length):\n",
    "    angle = 360.0 / n\n",
    "    polyline(t, n, length, angle)\n",
    "\n",
    "def arc(t, r, angle):\n",
    "    arc_length = 2 * math.pi * r * angle / 360\n",
    "    n = int(arc_length / 3) + 1\n",
    "    step_length = arc_length / n\n",
    "    step_angle = float(angle) / n\n",
    "    polyline(t, n, step_length, step_angle)\n",
    "```"
   ]
  },
  {
   "cell_type": "markdown",
   "id": "0b12c274",
   "metadata": {},
   "source": [
    "Finally, we can rewrite circle to use arc:\n",
    "\n",
    "```python\n",
    "def circle(t, r):\n",
    "    arc(t, r, 360)\n",
    "```"
   ]
  },
  {
   "cell_type": "markdown",
   "id": "f8e5fb18",
   "metadata": {},
   "source": [
    "This process—rearranging a program to improve interfaces and facilitate code re-use—is called refactoring. In this case, we noticed that there was similar code in arc and polygon, so we “factored it out” into polyline.\n",
    "\n",
    "If we had planned ahead, we might have written polyline first and avoided refactoring, but often you don’t know enough at the beginning of a project to design all the interfaces. Once you start coding, you understand the problem better. Sometimes refactoring is a sign that you have learned something."
   ]
  },
  {
   "cell_type": "markdown",
   "id": "a7ef2159",
   "metadata": {},
   "source": [
    "## 4.8  A development plan"
   ]
  },
  {
   "cell_type": "markdown",
   "id": "4f01b2f8",
   "metadata": {},
   "source": [
    "A development plan is a process for writing programs. The process we used in this case study is “encapsulation and generalization”. The steps of this process are:\n",
    "\n",
    "1. Start by writing a small program with no function definitions.\n",
    "1. Once you get the program working, identify a coherent piece of it, encapsulate the piece in a function and give it a name.\n",
    "1. Generalize the function by adding appropriate parameters.\n",
    "1. Repeat steps 1–3 until you have a set of working functions. Copy and paste working code to avoid retyping (and re-debugging).\n",
    "1. Look for opportunities to improve the program by refactoring. For example, if you have similar code in several places, consider factoring it into an appropriately general function.\n",
    "\n",
    "This process has some drawbacks—we will see alternatives later—but it can be useful if you don’t know ahead of time how to divide the program into functions. This approach lets you design as you go along."
   ]
  },
  {
   "cell_type": "markdown",
   "id": "c045b266",
   "metadata": {},
   "source": [
    "# 4.9  docstring"
   ]
  },
  {
   "cell_type": "markdown",
   "id": "a99985c3",
   "metadata": {},
   "source": [
    "A docstring is a string at the beginning of a function that explains the interface (“doc” is short for “documentation”). Here is an example:"
   ]
  },
  {
   "cell_type": "markdown",
   "id": "59465899",
   "metadata": {},
   "source": [
    "```python\n",
    "def polyline(t, n, length, angle):\n",
    "    \"\"\"Draws n line segments with the given length and\n",
    "    angle (in degrees) between them.  t is a turtle.\n",
    "    \"\"\"    \n",
    "    for i in range(n):\n",
    "        t.fd(length)\n",
    "        t.lt(angle)\n",
    "```"
   ]
  },
  {
   "cell_type": "markdown",
   "id": "e3b132ba",
   "metadata": {},
   "source": [
    "By convention, all docstrings are triple-quoted strings, also known as multiline strings because the triple quotes allow the string to span more than one line.\n",
    "\n",
    "It is terse, but it contains the essential information someone would need to use this function. It explains concisely what the function does (without getting into the details of how it does it). It explains what effect each parameter has on the behavior of the function and what type each parameter should be (if it is not obvious).\n",
    "\n",
    "Writing this kind of documentation is an important part of interface design. A well-designed interface should be simple to explain; if you have a hard time explaining one of your functions, maybe the interface could be improved."
   ]
  },
  {
   "cell_type": "markdown",
   "id": "ee218f21",
   "metadata": {},
   "source": [
    "## 4.10  Debugging"
   ]
  },
  {
   "cell_type": "markdown",
   "id": "43bbc127",
   "metadata": {},
   "source": [
    "An interface is like a contract between a function and a caller. The caller agrees to provide certain parameters and the function agrees to do certain work.\n",
    "\n",
    "For example, polyline requires four arguments: t has to be a Turtle; n has to be an integer; length should be a positive number; and angle has to be a number, which is understood to be in degrees.\n",
    "\n",
    "These requirements are called preconditions because they are supposed to be true before the function starts executing. Conversely, conditions at the end of the function are postconditions. Postconditions include the intended effect of the function (like drawing line segments) and any side effects (like moving the Turtle or making other changes).\n",
    "\n",
    "Preconditions are the responsibility of the caller. If the caller violates a (properly documented!) precondition and the function doesn’t work correctly, the bug is in the caller, not the function.\n",
    "\n",
    "If the preconditions are satisfied and the postconditions are not, the bug is in the function. If your pre- and postconditions are clear, they can help with debugging."
   ]
  },
  {
   "cell_type": "markdown",
   "id": "57187d6c",
   "metadata": {},
   "source": [
    "## 4.12  Exercises"
   ]
  },
  {
   "cell_type": "markdown",
   "id": "963a7f6b",
   "metadata": {},
   "source": [
    "**문제 1**"
   ]
  },
  {
   "cell_type": "markdown",
   "id": "b12cf8d7",
   "metadata": {},
   "source": [
    "Download the code in this chapter from http://thinkpython2.com/code/polygon.py.\n",
    "\n",
    "1. Draw a stack diagram that shows the state of the program while executing circle(bob, radius). You can do the arithmetic by hand or add print statements to the code.\n",
    "\n",
    "1. The version of arc in Section 4.7 is not very accurate because the linear approximation of the circle is always outside the true circle. As a result, the Turtle ends up a few pixels away from the correct destination. My solution shows a way to reduce the effect of this error. Read the code and see if it makes sense to you. If you draw a diagram, you might see how it works.\n",
    "\n",
    "Figure 4.1: Turtle flowers."
   ]
  },
  {
   "cell_type": "markdown",
   "id": "91d8deaf",
   "metadata": {},
   "source": [
    "**문제 2**"
   ]
  },
  {
   "cell_type": "markdown",
   "id": "3896ca43",
   "metadata": {},
   "source": [
    "Write an appropriately general set of functions that can draw flowers as in Figure 4.1.\n",
    "\n",
    "Solution: http://thinkpython2.com/code/flower.py, also requires http://thinkpython2.com/code/polygon.py.\n",
    "\n",
    "\n",
    "Figure 4.2: Turtle pies."
   ]
  },
  {
   "cell_type": "markdown",
   "id": "9886c8c3",
   "metadata": {},
   "source": [
    "**문제 3**"
   ]
  },
  {
   "cell_type": "markdown",
   "id": "61221e62",
   "metadata": {},
   "source": [
    "Write an appropriately general set of functions that can draw shapes as in Figure 4.2.\n",
    "\n",
    "Solution: http://thinkpython2.com/code/pie.py."
   ]
  },
  {
   "cell_type": "markdown",
   "id": "cc4c2262",
   "metadata": {},
   "source": [
    "**문제 4**"
   ]
  },
  {
   "cell_type": "markdown",
   "id": "61e1c5b8",
   "metadata": {},
   "source": [
    "The letters of the alphabet can be constructed from a moderate number of basic elements, like vertical and horizontal lines and a few curves. Design an alphabet that can be drawn with a minimal number of basic elements and then write functions that draw the letters.\n",
    "\n",
    "You should write one function for each letter, with names draw_a, draw_b, etc., and put your functions in a file named letters.py. You can download a “turtle typewriter” from http://thinkpython2.com/code/typewriter.py to help you test your code.\n",
    "\n",
    "You can get a solution from http://thinkpython2.com/code/letters.py; it also requires http://thinkpython2.com/code/polygon.py."
   ]
  },
  {
   "cell_type": "markdown",
   "id": "ded0cb5a",
   "metadata": {},
   "source": [
    "**문제 6**"
   ]
  },
  {
   "cell_type": "markdown",
   "id": "a14a9945",
   "metadata": {},
   "source": [
    "Read about spirals at http://en.wikipedia.org/wiki/Spiral; then write a program that draws an Archimedian spiral (or one of the other kinds). Solution: http://thinkpython2.com/code/spiral.py.\n",
    "\n",
    "Buy this book at Amazon.com"
   ]
  }
 ],
 "metadata": {
  "kernelspec": {
   "display_name": "Python 3 (ipykernel)",
   "language": "python",
   "name": "python3"
  },
  "language_info": {
   "codemirror_mode": {
    "name": "ipython",
    "version": 3
   },
   "file_extension": ".py",
   "mimetype": "text/x-python",
   "name": "python",
   "nbconvert_exporter": "python",
   "pygments_lexer": "ipython3",
   "version": "3.9.7"
  }
 },
 "nbformat": 4,
 "nbformat_minor": 5
}
