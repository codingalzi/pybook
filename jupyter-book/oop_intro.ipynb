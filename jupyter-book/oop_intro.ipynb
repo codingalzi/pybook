{
 "cells": [
  {
   "cell_type": "markdown",
   "id": "3efee1fe",
   "metadata": {},
   "source": [
    "(ch:oop_intro)=\n",
    "# 객체 지향 프로그래밍 소개"
   ]
  },
  {
   "cell_type": "markdown",
   "id": "2774ec0d",
   "metadata": {},
   "source": [
    "**참고:** 아래 내용은 [(유튜브) Python Game Coding: Introduction to Collision Detection](https://www.youtube.com/watch?v=bFURdsszto0)의 내용을 참고합니다.\n",
    "자료의 공유를 허가한 [TokyoEdtech](https://www.youtube.com/c/TokyoEdTech)에게 감사드립니다."
   ]
  },
  {
   "cell_type": "markdown",
   "id": "04a8f91d",
   "metadata": {},
   "source": [
    "## OOP 정의"
   ]
  },
  {
   "cell_type": "markdown",
   "id": "f0aaba98",
   "metadata": {},
   "source": [
    "**객체 지향 프로그래밍**<font size='2'>Object-Oriented Programming</font>은\n",
    "객체들 사이의 유기적인 관계를 묘사하는 프로그래밍 기법이며,\n",
    "줄여서 보통 **OOP**라고 부른다.\n",
    "OOP를 지원하는 **객체 지향 언어**로\n",
    "파이썬, 자바, C++, C#, 루비, 자바스크립트 등 많은 컴퓨터 프로그래밍 언어가\n",
    "사용된다.\n",
    "\n",
    "OOP와 대비되는 개념으로 절차 지향 프로그래밍이 주로 언급된다. \n",
    "**절차 지향 프로그래밍**은 수행해야 할 일을 순차적으로 처리하는 과정을 묘사하는 것을 가장 중요하게 여기며 \n",
    "프로그램 전체가 유기적으로 연결되도록 만드는 프로그래밍 기법이다. \n",
    "C, HTML 등이 대표적인 절차 지향 프로그래밍언어다. \n",
    "\n",
    "\"해야 할 일을 순차적으로 처리한다\"는 표현은 가장 기본적인 프로그래밍 기법이며,\n",
    "모든 프로그램은 원하는 결과를 얻기 위한 과정을 논리적이며 순차적으로 \n",
    "처리하도록 구현되어야 한다. \n",
    "OOP 역시 예외가 아니다. \n",
    "하지만 OOP는 구현해야 할 객체들을 선택하고 객체들 사이의 유기적인 관계를\n",
    "이용하는 과정을 논리적으로 묘사하는 데에 보다 많은 방점을 둔다. \n",
    "즉, 프로그램 전체를 하나로 묶어서 구현하는 방식이 아니라 프로그램을 구성하는 객체들을 중심으로 해서\n",
    "구현해야 할 프로그램을 완성시키는 방식으로 프로그래밍을 진행한다."
   ]
  },
  {
   "cell_type": "markdown",
   "id": "b494783d",
   "metadata": {},
   "source": [
    "## OOP와 객체"
   ]
  },
  {
   "cell_type": "markdown",
   "id": "09546c5a",
   "metadata": {},
   "source": [
    "OOP에 대한 이해는 아래 두 가지 질문과 관련되어 있다.\n",
    "\n",
    "1. 객체(object)란 무엇인가?\n",
    "1. \"객체를 중심으로 프로그래밍한다\" 라는 말의 의미는 무엇인가?\n",
    "\n",
    "위 질문들에 대한 직접적인 설명 대신에\n",
    "객체가 어떻게 활용되는가를 실전 예제를 통해 소개한다."
   ]
  },
  {
   "cell_type": "markdown",
   "id": "11a44b6c",
   "metadata": {},
   "source": [
    ":::{admonition} `turtle` 모듈 활용\n",
    ":class: warning\n",
    "\n",
    "`turtle` 모듈의 간단한 사용법은 {ref}`ch:casestudy-function-interface`를 참고하기 바란다.\n",
    "`turtle` 모듈을 사용하는 소스코드의 실행이 오프라인 환경에서 어려운 경우\n",
    "[레플릿](https://replit.com/~) 이용을 권장한다. \n",
    "여기서 작성하는 코드 또한\n",
    "[(레플릿) 충돌 감지](https://replit.com/@codingrg/collisiondetection#main.py)에서\n",
    "확인하고 직접 실행할 수 있다.\n",
    ":::"
   ]
  },
  {
   "cell_type": "markdown",
   "id": "58c813c1",
   "metadata": {},
   "source": [
    "## OOP 예제: 객체 충돌 감지"
   ]
  },
  {
   "cell_type": "markdown",
   "id": "a01284a7",
   "metadata": {},
   "source": [
    "아래 코드는 두 객체의 충돌을 감지하는 다양한 방법을 보여준다. \n",
    "소스코드와 코드에 사용된 이미지는 아래 링크에서 다운로드할 수 있다.\n",
    "\n",
    "https://github.com/wynand1004/Projects/tree/master/Collision%20Detection"
   ]
  },
  {
   "cell_type": "markdown",
   "id": "7731a8d9",
   "metadata": {},
   "source": [
    "여기서는 두 객체가 충돌하는 것을 서로 어떻게 감지하는가를 이용하여 객체 지향 프로그래밍의 \n",
    "기본 아이디어를 전달한다."
   ]
  },
  {
   "cell_type": "markdown",
   "id": "265d7623",
   "metadata": {},
   "source": [
    "**기본 설정**\n",
    "\n",
    "캔버스(`wn`)와 펜(`pen`)을 준비한다.\n",
    "또한 스프라이트에 사용될 7개의 이미지를 이미지 라이브러리에 추가한다."
   ]
  },
  {
   "cell_type": "markdown",
   "id": "4f8b4fee",
   "metadata": {},
   "source": [
    "```python\n",
    "import turtle\n",
    "import math\n",
    "\n",
    "wn = turtle.Screen()\n",
    "wn.bgcolor(\"black\")\n",
    "wn.title(\"Collision Detection by @TokyoEdtech\")\n",
    "wn.tracer(0)\n",
    "\n",
    "pen = turtle.Turtle()\n",
    "pen.speed(0)\n",
    "pen.hideturtle()\n",
    "\n",
    "shapes = [\"wizard.gif\", \"goblin.gif\", \"pacman.gif\", \"cherry.gif\", \"bar.gif\", \"ball.gif\", \"x.gif\"]\n",
    "\n",
    "for shape in shapes:\n",
    "    wn.register_shape(shape)\n",
    "```"
   ]
  },
  {
   "cell_type": "markdown",
   "id": "9b1abb57",
   "metadata": {},
   "source": [
    "**스프라이트 클래스 선언**\n",
    "\n"
   ]
  },
  {
   "cell_type": "markdown",
   "id": "d0c25107",
   "metadata": {},
   "source": [
    "<div align=\"center\" border=\"1px\"><img src=\"https://raw.githubusercontent.com/codingalzi/pybook/master/jupyter-book/images/turtle01.png\" width=\"300\"/></div>"
   ]
  },
  {
   "cell_type": "markdown",
   "id": "ee67bb54",
   "metadata": {},
   "source": [
    "```python\n",
    "class Sprite():\n",
    "    def __init__(self, x, y, width, height, image):\n",
    "        self.x = x\n",
    "        self.y = y\n",
    "        self.width = width\n",
    "        self.height = height\n",
    "        self.image = image\n",
    "\n",
    "    def render(self, pen):\n",
    "        pen.goto(self.x, self.y)\n",
    "        pen.shape(self.image)\n",
    "        pen.stamp()\n",
    "    \n",
    "    def is_overlapping_collision(self, other):\n",
    "        if self.x == other.x and self.y == other.y:\n",
    "            return True\n",
    "        else:\n",
    "            return False\n",
    "            \n",
    "    def is_distance_collision(self, other):\n",
    "        distance = (((self.x-other.x) ** 2) + ((self.y-other.y) ** 2)) ** 0.5\n",
    "        if distance < (self.width + other.width)/2.0:\n",
    "            return True\n",
    "        else:\n",
    "            return False\n",
    "        \n",
    "    def is_aabb_collision(self, other):\n",
    "        # Axis Aligned Bounding Box\n",
    "        x_collision = (math.fabs(self.x - other.x) * 2) < (self.width + other.width)\n",
    "        y_collision = (math.fabs(self.y - other.y) * 2) < (self.height + other.height)\n",
    "        return (x_collision and y_collision)\n",
    "```"
   ]
  },
  {
   "cell_type": "markdown",
   "id": "0fb9c5c7",
   "metadata": {},
   "source": [
    "**스프라이트 인스턴스 객체 생성**"
   ]
  },
  {
   "cell_type": "markdown",
   "id": "b284f0dc",
   "metadata": {},
   "source": [
    "```python\n",
    "wizard = Sprite(-128, 200, 128, 128, \"wizard.gif\")\n",
    "goblin = Sprite(128, 200, 108, 128, \"goblin.gif\")\n",
    "\n",
    "pacman = Sprite(-128, 0, 128, 128, \"pacman.gif\")\n",
    "cherry = Sprite(128, 0, 128, 128, \"cherry.gif\")\n",
    "\n",
    "bar = Sprite(0, -400, 128, 24, \"bar.gif\")\n",
    "ball = Sprite(0,-200, 32, 32, \"ball.gif\")\n",
    "\n",
    "sprites = [wizard, goblin, pacman, cherry, bar, ball]\n",
    "```"
   ]
  },
  {
   "cell_type": "markdown",
   "id": "16cc4d36",
   "metadata": {},
   "source": [
    "**스프라이트 행동과 키연결**"
   ]
  },
  {
   "cell_type": "markdown",
   "id": "e15bce5f",
   "metadata": {},
   "source": [
    "```python\n",
    "def move_goblin():\n",
    "    goblin.x -= 64\n",
    "\n",
    "def move_pacman():\n",
    "    pacman.x += 30\n",
    "    \n",
    "def move_ball():\n",
    "    ball.y -= 24\n",
    "\n",
    "wn.listen()\n",
    "wn.onkeypress(move_goblin, \"Left\")\n",
    "wn.onkeypress(move_pacman, \"Right\")\n",
    "wn.onkeypress(move_ball, \"Down\")\n",
    "```"
   ]
  },
  {
   "cell_type": "markdown",
   "id": "8ac58e74",
   "metadata": {},
   "source": [
    "**게임 실행**"
   ]
  },
  {
   "cell_type": "markdown",
   "id": "80eed724",
   "metadata": {},
   "source": [
    "```python\n",
    "while True:\n",
    "    \n",
    "    for sprite in sprites:\n",
    "        sprite.render(pen)\n",
    "        \n",
    "    # Collision detection\n",
    "    if wizard.is_overlapping_collision(goblin):\n",
    "        wizard.image = \"x.gif\"\n",
    "        \n",
    "    if pacman.is_overlapping_collision(cherry):\n",
    "        cherry.image = \"x.gif\"\n",
    "        \n",
    "    if bar.is_overlapping_collision(ball):\n",
    "        ball.image = \"x.gif\"\n",
    "        \n",
    "    wn.update()\n",
    "    pen.clear()\n",
    "```"
   ]
  },
  {
   "cell_type": "markdown",
   "id": "22be2e2c",
   "metadata": {},
   "source": [
    "## 연습문제"
   ]
  },
  {
   "cell_type": "markdown",
   "id": "31b9be77",
   "metadata": {},
   "source": [
    "참고: [(실습) 객체 지향 프로그래밍 소개](https://colab.research.google.com/github/codingalzi/pybook/blob/master/practices/practice-oop_intro.ipynb)"
   ]
  }
 ],
 "metadata": {
  "kernelspec": {
   "display_name": "Python 3 (ipykernel)",
   "language": "python",
   "name": "python3"
  },
  "language_info": {
   "codemirror_mode": {
    "name": "ipython",
    "version": 3
   },
   "file_extension": ".py",
   "mimetype": "text/x-python",
   "name": "python",
   "nbconvert_exporter": "python",
   "pygments_lexer": "ipython3",
   "version": "3.9.7"
  }
 },
 "nbformat": 4,
 "nbformat_minor": 5
}
