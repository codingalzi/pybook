{
 "cells": [
  {
   "cell_type": "markdown",
   "id": "7335518f",
   "metadata": {},
   "source": [
    "# 주피터 노트북"
   ]
  },
  {
   "cell_type": "markdown",
   "id": "d1a173ed",
   "metadata": {},
   "source": [
    "## 코드 셀"
   ]
  },
  {
   "cell_type": "markdown",
   "id": "c840b52c",
   "metadata": {},
   "source": [
    "코드 셀에서는 파이썬 코드를 작성하고 실행할 수 있다."
   ]
  },
  {
   "cell_type": "code",
   "execution_count": 1,
   "id": "e17b75c2",
   "metadata": {},
   "outputs": [
    {
     "name": "stdout",
     "output_type": "stream",
     "text": [
      "숫자맞히기 게임에 환영합니다.\n",
      "0부터 9 사이의 숫자 하나를 입력하세요: 3\n",
      "맞았습니다!\n",
      "게임 종료!\n"
     ]
    }
   ],
   "source": [
    "print(\"숫자맞히기 게임에 환영합니다.\")\n",
    "\n",
    "secret = '3'\n",
    "guess = input(\"0부터 9 사이의 숫자 하나를 입력하세요: \")\n",
    "\n",
    "if guess == secret:\n",
    "    print(\"맞았습니다!\")\n",
    "else:\n",
    "    print(\"틀렸습니다!\")\n",
    "\n",
    "print(\"게임 종료!\")"
   ]
  },
  {
   "cell_type": "markdown",
   "id": "9179a201",
   "metadata": {},
   "source": [
    "## 텍스트 셀"
   ]
  },
  {
   "cell_type": "markdown",
   "id": "0581ef9a",
   "metadata": {},
   "source": [
    "텍스트 셀은 MS 워드, 한컴 오피스 등과 유사한 문서 편집기 기능을 지원한다.\n",
    "특히 문서 작성에 유용한 아래 두 언어를 지원한다.\n",
    "\n",
    "- HTML\n",
    "- 마크다운\n"
   ]
  },
  {
   "cell_type": "code",
   "execution_count": null,
   "id": "44bda69d",
   "metadata": {},
   "outputs": [],
   "source": []
  },
  {
   "cell_type": "code",
   "execution_count": null,
   "id": "2ae9e769",
   "metadata": {},
   "outputs": [],
   "source": []
  },
  {
   "cell_type": "code",
   "execution_count": null,
   "id": "8a504cdf",
   "metadata": {},
   "outputs": [],
   "source": []
  },
  {
   "cell_type": "code",
   "execution_count": null,
   "id": "aeed61d1",
   "metadata": {},
   "outputs": [],
   "source": []
  },
  {
   "cell_type": "code",
   "execution_count": null,
   "id": "e84cc6f4",
   "metadata": {},
   "outputs": [],
   "source": []
  },
  {
   "cell_type": "code",
   "execution_count": null,
   "id": "7bbecc7e",
   "metadata": {},
   "outputs": [],
   "source": []
  },
  {
   "cell_type": "code",
   "execution_count": null,
   "id": "98ed4c1b",
   "metadata": {},
   "outputs": [],
   "source": []
  },
  {
   "cell_type": "code",
   "execution_count": null,
   "id": "f8626b98",
   "metadata": {},
   "outputs": [],
   "source": []
  },
  {
   "cell_type": "code",
   "execution_count": null,
   "id": "70fc5bb0",
   "metadata": {},
   "outputs": [],
   "source": []
  }
 ],
 "metadata": {
  "kernelspec": {
   "display_name": "Python 3 (ipykernel)",
   "language": "python",
   "name": "python3"
  },
  "language_info": {
   "codemirror_mode": {
    "name": "ipython",
    "version": 3
   },
   "file_extension": ".py",
   "mimetype": "text/x-python",
   "name": "python",
   "nbconvert_exporter": "python",
   "pygments_lexer": "ipython3",
   "version": "3.11.5"
  }
 },
 "nbformat": 4,
 "nbformat_minor": 5
}
