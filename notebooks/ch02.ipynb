{
 "cells": [
  {
   "cell_type": "markdown",
   "id": "7c16c4c8-9a84-4e7d-8937-b19355d9b85f",
   "metadata": {},
   "source": [
    "# 파이썬 프로그래밍 개발 환경"
   ]
  },
  {
   "cell_type": "markdown",
   "id": "a4a60115-618e-4b41-8219-89065f5a677f",
   "metadata": {},
   "source": [
    "프로그래밍을 하려면, 개발 도구부터 설치해야 하는데, 이때 통합 개발 환경을 설치해주는 것이 좋다. (수정 필요)지금부터는 파이썬 프로그래밍에 많이 사용하는 통합 개발 환경인  비주얼 스튜디오 코드(Visual Studio Code, VS code)의 설치 방법에 대해서 살펴본다. "
   ]
  },
  {
   "cell_type": "markdown",
   "id": "58bd7bfc-4cc1-47a5-ac79-2ef0ece98161",
   "metadata": {},
   "source": [
    ":::{admonition} 참고\n",
    ":class: info\n",
    "\n",
    "통합 개발 환경<font size=\"1\">Integrated Development Environment(IDE)</font>은 코딩, 디버그, 컴파일 등 프로그램 개발과 관련된 작업을 하나의 프로그램으로 처리하는 소프트웨어이다. \n",
    ":::"
   ]
  },
  {
   "cell_type": "markdown",
   "id": "8aac9c54-ba1e-4963-97c9-2fb855eaf7f2",
   "metadata": {},
   "source": [
    "1. 아나콘다 설치 → spyder or jupyter notebook\n",
    "1. 아나콘다 설치 & vs code 설치 → vs code\n",
    "별도의 프로그램 설치 없이 파이썬을 사용하는 방법도 있다. \n",
    "1. Repl.it or colab\n",
    "\n",
    "공유도 간편하게 할 수 있다. 작업 내용이 자동으로 저장됨. "
   ]
  },
  {
   "cell_type": "markdown",
   "id": "8d749cd0-79f6-4b9c-b185-b81cf89fce3d",
   "metadata": {},
   "source": [
    "## 아나콘다 설치"
   ]
  },
  {
   "cell_type": "markdown",
   "id": "6cba30a4-20ed-4db7-a5fd-0770a1ba28ca",
   "metadata": {},
   "source": [
    "파이썬을 아직 설치하지 않았다면, 데이터 분석에 필요한 라이브러리가 포함되어 있는 아나콘다<font size=\"1\">Anaconda</font>를 설치하는 것이 좋다. \n",
    "\n",
    "아나콘다를 설치하려면 먼저 설치 프로그램을 다운로드해야 한다. "
   ]
  },
  {
   "cell_type": "markdown",
   "id": "33ed5142-80c1-4cc3-b949-60d9587ef7c6",
   "metadata": {},
   "source": [
    "&#9312; 아나콘다 \n",
    "사이트<font size=\"1\">https://www.anaconda.com/products/individual</font>에 \n",
    "접속한다. \n",
    "그리고 화면 오른쪽에 있는 다운로드 버튼을 눌러 아나콘다 설치 프로그램을 다운로드한다. "
   ]
  },
  {
   "cell_type": "markdown",
   "id": "1d248fac-eb58-48ef-962f-e6c7095f016a",
   "metadata": {},
   "source": [
    ":::{admonition} 참고\n",
    ":class: info\n",
    "\n",
    "아나콘다 사이트에 접속하면, 접속자의 운영체제를 확인하여 설치 가능한 파이썬 최신 버전을 보여준다. 이 글을 작성하는 시점에는 파이썬 3.9가 최신 버전이다. \n",
    ":::"
   ]
  },
  {
   "cell_type": "markdown",
   "id": "30497b3c-88d3-4533-90c1-b7cd080ff9fd",
   "metadata": {},
   "source": [
    "&#9313; 다운로드한 Anaconda3-Window_64.exe 실행파일을 더블 클릭하여 설치를 시작한다. 설치화면이 아래와 같이 나오면 Next 버튼을 눌러서 다음 화면으로 넘어간다.  "
   ]
  },
  {
   "cell_type": "markdown",
   "id": "37dc1e42-8e0a-43ea-b751-ad3e6c968128",
   "metadata": {},
   "source": [
    "&#9314; 약관이 나타나면, 동의하는 I Agree 버튼을 눌러 다음 화면으로 넘어간다. "
   ]
  },
  {
   "cell_type": "markdown",
   "id": "b5699049-b3f5-4ce7-b6c9-a66ef60e21a4",
   "metadata": {},
   "source": [
    "&#9315; 사용자 환경에 따라 권한을 설정한 다음, Next 버튼을 눌러 다음 화면으로 넘어간다. "
   ]
  },
  {
   "cell_type": "markdown",
   "id": "62646798-3892-4e1e-a4c1-98e5a9424e71",
   "metadata": {},
   "source": [
    "&#9316; 설치 경로를 지정한 다음, Next 버튼을 눌러 다음 화면으로 넘어간다. "
   ]
  },
  {
   "cell_type": "markdown",
   "id": "35c0162c-e3c2-48c1-af7d-2614beddd6b8",
   "metadata": {},
   "source": [
    ":::{admonition} 참고\n",
    ":class: info\n",
    "\n",
    "특별한 경우가 아니면, 기본 경로를 그대로 두고 다음으로 넘어가면 된다. \n",
    ":::"
   ]
  },
  {
   "cell_type": "markdown",
   "id": "960f6a17-ee40-40d8-a94c-fd8b4d48d44a",
   "metadata": {},
   "source": [
    "&#9317; 아나콘다를 기본 파이썬으로 설정하고, Install 버튼을 눌러 설치를 진행한다. "
   ]
  },
  {
   "cell_type": "markdown",
   "id": "dc178247-325d-4501-9b53-130340baf0f6",
   "metadata": {},
   "source": [
    "&#9318; 설치 시간은 보통 1~3분 정도 걸리며, 컴퓨터 환경에 따라 5분이상 소요되기도 한다. 설치 완료가 되면, Next를 눌러 다음 화면으로 넘어간다. "
   ]
  },
  {
   "cell_type": "markdown",
   "id": "bede3422-41c6-421e-9a7a-76b3415c907c",
   "metadata": {},
   "source": [
    "&#9319; Finish 버튼을 눌러 설치를 완료한다. "
   ]
  },
  {
   "cell_type": "markdown",
   "id": "868a71f3-6c9d-45bb-8254-24437b3c2f2e",
   "metadata": {},
   "source": [
    "## 비주얼 스튜디오 코드 설치"
   ]
  },
  {
   "cell_type": "markdown",
   "id": "7e0646a0-57d4-4b0e-94af-029f6bc61d1c",
   "metadata": {},
   "source": [
    "비주얼 스튜디오 코드<font size=\"1\">Visual Studio Code</font>를 \n",
    "설치하려면 먼저 설치 프로그램을 다운로드해야 한다. "
   ]
  },
  {
   "cell_type": "markdown",
   "id": "3365c0b3-a024-4547-b9ed-550d1589df2e",
   "metadata": {},
   "source": [
    "&#9312; 비주얼 스튜디오 코드 \n",
    "사이트<font size=\"1\">https://code.visualstudio.com/</font> 에 접속한다. \n",
    "그리고 화면 왼쪽에 있는 다운로드 버튼을 눌러 비주얼 스튜디오 코드 \n",
    "설치 프로그램을 다운로드한다. "
   ]
  },
  {
   "cell_type": "markdown",
   "id": "27498ce7-8323-4a41-b6f2-b1532fddd61a",
   "metadata": {},
   "source": [
    ":::{admonition} 참고\n",
    ":class: info\n",
    "\n",
    "비주얼 스튜디오 코드 사이트에 접속하면, 접속자의 운영체제를 확인하여 설치 가능한 버전을 보여준다.\n",
    ":::"
   ]
  },
  {
   "cell_type": "markdown",
   "id": "937a50e6-12a3-44bc-b1b0-3d739fa741d8",
   "metadata": {},
   "source": [
    "&#9313; 다운로드한 VSCodeUserSetup.exe 실행파일을 더블 클릭하여 설치를 시작한다. 약관이 나타나면, 동의합니다를 선택하고, 다음을 눌러서 다음 화면으로 넘어간다.  "
   ]
  },
  {
   "cell_type": "markdown",
   "id": "fadf16cb-7f09-4e2b-a169-896ebf9b9c0c",
   "metadata": {},
   "source": [
    "&#9314; 설치 경로를 지정한 다음, 다음 버튼을 눌러 다음 화면으로 넘어간다. "
   ]
  },
  {
   "cell_type": "markdown",
   "id": "c31ee820-98d3-480c-9dc3-512644168d2c",
   "metadata": {},
   "source": [
    ":::{admonition} 참고\n",
    ":class: info\n",
    "\n",
    "특별한 경우가 아니면, 기본 경로를 그대로 두고 다음으로 넘어가면 된다. \n",
    ":::"
   ]
  },
  {
   "cell_type": "markdown",
   "id": "0405506c-e62f-4c12-81a7-2cd71e0f78fb",
   "metadata": {},
   "source": [
    "&#9315; 시작 메뉴에 비주얼 스튜디오 코드가 보이도록 하고 싶다면 다음을 누르고, 아니라면 시작 메뉴 폴더를 만들지 않음을 선택하고 다음을 눌러 다음으로 넘어가면 된다.  "
   ]
  },
  {
   "cell_type": "markdown",
   "id": "79b248ae-089f-44d3-a00f-2337937163a1",
   "metadata": {},
   "source": [
    "&#9316; 추가로 필요한 작업이 있다면, 선택하고 다음을 눌러 다음 화면으로 넘어가면 된다. "
   ]
  },
  {
   "cell_type": "markdown",
   "id": "a89817de-7a34-446f-a451-221528a6391e",
   "metadata": {},
   "source": [
    "&#9317; 앞에서 선택한 항목들을 보여준다. 확인 후 설치를 눌러 설치를 진행한다. "
   ]
  },
  {
   "cell_type": "markdown",
   "id": "42a34071-7fd1-4c0d-87a1-e7bedc1c4e5b",
   "metadata": {},
   "source": [
    "&#9318; 설치 시간은 보통 1~3분 정도 걸리며, 컴퓨터 환경에 따라 5분이상 소요되기도 한다."
   ]
  },
  {
   "cell_type": "markdown",
   "id": "8b76bc8b-cb97-465d-8b08-85f557ddb423",
   "metadata": {},
   "source": [
    "&#9319; 종료 버튼을 눌러 설치를 완료한다. "
   ]
  },
  {
   "cell_type": "markdown",
   "id": "59b2bfdc-6f39-4fd7-90a8-69b3c7694c98",
   "metadata": {},
   "source": [
    "- vs code python extension 설치 및 설정"
   ]
  },
  {
   "cell_type": "markdown",
   "id": "044eff06-ab62-45ec-8fae-0a4275bc70ac",
   "metadata": {},
   "source": [
    "## 설치없이 파이썬 사용하기1 - 레플릿"
   ]
  },
  {
   "cell_type": "markdown",
   "id": "124f16dc-12c0-4c47-be10-fc0d387b1a88",
   "metadata": {},
   "source": [
    "레플릿<font size=\"1\">Repl.it</font>을 사용하면, \n",
    "별도의 프로그램 설치 없이 파이썬을 사용할 수 있다. 사용 방법은 간단하다.  "
   ]
  },
  {
   "cell_type": "markdown",
   "id": "d0dcc857-a542-45b1-ac96-0c660c2f30b5",
   "metadata": {},
   "source": [
    "&#9312; 레플릿 \n",
    "사이트<font size=\"1\">https://replit.com/</font>에 \n",
    "접속한다. \n",
    "그리고 오른쪽 위의 Sign up을 눌러 회원가입을 하고, 로그인을 한다. "
   ]
  },
  {
   "cell_type": "markdown",
   "id": "1ac886cb-531e-47b0-911f-9a793215b943",
   "metadata": {},
   "source": [
    "&#9313; 로그인하면 아래와 같은 화면이 나온다. 왼쪽 위의 +Create 버튼을 누르면, Create a repl 창이 나온다. 여기서 Template은 Python을 선택하고, 제목Title은 적당한 것으로 변경한 다음 오른쪽 아래에 보이는 +Create Repl 버튼을 누르면 된다.  "
   ]
  },
  {
   "cell_type": "markdown",
   "id": "815c0cdc-d5db-47ae-8286-a632519f8cd2",
   "metadata": {},
   "source": [
    "&#9314; 코드 편집기와 "
   ]
  },
  {
   "cell_type": "markdown",
   "id": "460a4941-a8d8-4994-b836-adfa706eb559",
   "metadata": {},
   "source": [
    "## 설치없이 파이썬 사용하기2 - 구글 코랩"
   ]
  },
  {
   "cell_type": "markdown",
   "id": "a460426d-7326-4379-8f2b-667cf00ef99e",
   "metadata": {},
   "source": [
    "구글 코랩<font size=\"1\">Google Colab</font>은 \n",
    "구글에서 제공하는 주피터 노트북이다. \n",
    "\n",
    "Colaboratory 줄여서 Colab이라고 함. 브라우저 내에서 python 스크립트를 작성하고 실행할 수 있다. \n",
    "\n",
    "- 설치가 필요하지 않음.\n",
    "- GPU 무료 액세스\n",
    "- 간편한 공유\n",
    "\n",
    "필요사항\n",
    "\n",
    "- 구글계정\n",
    "- 웹 브라우저(ex. 크롬)\n",
    "\n",
    "Hello, Python!"
   ]
  }
 ],
 "metadata": {
  "kernelspec": {
   "display_name": "Python 3",
   "language": "python",
   "name": "python3"
  },
  "language_info": {
   "codemirror_mode": {
    "name": "ipython",
    "version": 3
   },
   "file_extension": ".py",
   "mimetype": "text/x-python",
   "name": "python",
   "nbconvert_exporter": "python",
   "pygments_lexer": "ipython3",
   "version": "3.8.8"
  }
 },
 "nbformat": 4,
 "nbformat_minor": 5
}
