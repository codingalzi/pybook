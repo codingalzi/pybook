{
 "cells": [
  {
   "cell_type": "markdown",
   "metadata": {},
   "source": [
    "# 함수"
   ]
  },
  {
   "cell_type": "markdown",
   "metadata": {},
   "source": [
    "**고계 함수와 제1종 객체**\n",
    "\n",
    "파이썬에서는 함수도 하나의 값으로 간주된다.\n",
    "이렇게 하나의 값으로 간주되는 대상을 **제1종 객체**(first-class object)라고 부른다.\n",
    "제1종 객체로 간주되는 값은 변수에 할당되거나, 함수의 인자 또는 리턴값으로 사용될 수 있다.\n",
    "\n",
    "함수를 인자로 받거나 내주는 값으로 사용하는 함수를 **고계 함수**(higher-order function)라 부른다."
   ]
  },
  {
   "cell_type": "markdown",
   "metadata": {},
   "source": [
    "## 연습문제 "
   ]
  },
  {
   "cell_type": "markdown",
   "metadata": {},
   "source": [
    "1. `print` 함수의 성질을 조사한다. \n",
    "    즉, `print` 함수가 받아들일 수 있는 인자와 리턴값에 대해 알아본다.\n",
    "    설명을 예를 들면서 하면 더욱 좋다.\n",
    "    `help(print)`를 실행하면 \n",
    "    `print` 함수에 대한 기초적인 정보를 확인할 수 있다."
   ]
  }
 ],
 "metadata": {
  "kernelspec": {
   "display_name": "Python 3 (ipykernel)",
   "language": "python",
   "name": "python3"
  },
  "language_info": {
   "codemirror_mode": {
    "name": "ipython",
    "version": 3
   },
   "file_extension": ".py",
   "mimetype": "text/x-python",
   "name": "python",
   "nbconvert_exporter": "python",
   "pygments_lexer": "ipython3",
   "version": "3.9.7"
  },
  "toc": {
   "base_numbering": 1,
   "nav_menu": {},
   "number_sections": false,
   "sideBar": true,
   "skip_h1_title": false,
   "title_cell": "목차",
   "title_sidebar": "Contents",
   "toc_cell": true,
   "toc_position": {},
   "toc_section_display": true,
   "toc_window_display": true
  }
 },
 "nbformat": 4,
 "nbformat_minor": 4
}