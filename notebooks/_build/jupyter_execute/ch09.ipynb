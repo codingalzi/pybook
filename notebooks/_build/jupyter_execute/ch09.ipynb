{
 "cells": [
  {
   "cell_type": "markdown",
   "metadata": {},
   "source": [
    "# 재귀"
   ]
  },
  {
   "cell_type": "markdown",
   "metadata": {},
   "source": [
    "하나의 함수가 실행되는 동안 다른 함수를 호출할 수 있으며 \n",
    "심지어 실행되는 함수 자신을 다시 호출할 수 있다. \n",
    "예를 들어 아래 `countdown()` 함수의 본문에 현재 정의되고 있는 자신에 대한 호출이 포함되어 있다."
   ]
  },
  {
   "cell_type": "code",
   "execution_count": 1,
   "metadata": {},
   "outputs": [],
   "source": [
    "def countdown(n):\n",
    "    if n <= 0:\n",
    "        print('발사!')\n",
    "    else:\n",
    "        print(n)\n",
    "        countdown(n-1)"
   ]
  },
  {
   "cell_type": "markdown",
   "metadata": {},
   "source": [
    "`countdown()` 함수의 작동 방식은 다음과 같다.\n",
    "\n",
    "- `n` 이 0 이하인 경우: `'발사!'` 출력\n",
    "- `n` 이 양의 정수인 경우: `n`을 출력한 다음 바로 `countdown(n-1)` 호출.\n",
    "    \n",
    "`n` 이 양수인 경우 동일한 함수가 호출되지만 인자가 1적어 지고 결국 `n`이 되어\n",
    "더 이상의 함수 호출이 없어 실행이 멈춘다.\n",
    "예를 들어 `countdown(3)`을 호출하면 다음처럼 실행된다."
   ]
  },
  {
   "cell_type": "code",
   "execution_count": 2,
   "metadata": {},
   "outputs": [
    {
     "name": "stdout",
     "output_type": "stream",
     "text": [
      "3\n",
      "2\n",
      "1\n",
      "발사!\n"
     ]
    }
   ],
   "source": [
    "countdown(3)"
   ]
  },
  {
   "cell_type": "markdown",
   "metadata": {},
   "source": [
    "함수 본문에 자신을 호출하는 함수를 기능을 **재귀**<font size=\"2\">recursion</font>라 하며,\n",
    "재귀 기능을 같는 함수를 **재귀 함수**<font size=\"2\">recursive function</font>라 한다."
   ]
  },
  {
   "cell_type": "markdown",
   "metadata": {},
   "source": [
    "## 재귀 함수의 스택 다이어그램"
   ]
  },
  {
   "cell_type": "markdown",
   "metadata": {},
   "source": [
    "재귀 함수의 실행과정 동안 많은 프레임의 생성과 소멸이 발생하여\n",
    "스택 다이어그램의 변화가 경우에 따라 매우 복잡해지기도 한다.\n",
    "아래 그림은 `countdown(3)`을 호출했을 때의 스택 다이어그램의 상태 중 하나이다."
   ]
  },
  {
   "cell_type": "markdown",
   "metadata": {},
   "source": [
    "<div align=\"center\"><img src=\"https://raw.githubusercontent.com/codingalzi/pybook/master/notebooks/images/count_down.jpg\" style=\"width:300px;\"></div>"
   ]
  },
  {
   "cell_type": "markdown",
   "metadata": {},
   "source": [
    "예를 들어,\n",
    "[PythonTutor: 콜라츠 추측](http://pythontutor.com/visualize.html#code=def%20collatz%28num%29%3A%0A%20%20%20%20if%20num%20%3D%3D%201%3A%0A%20%20%20%20%20%20%20%20print%28num%29%0A%20%20%20%20%20%20%20%20return%200%0A%20%20%20%20elif%20num%252%20%3D%3D%200%3A%0A%20%20%20%20%20%20%20%20print%28num,%20end%3D',%20'%29%0A%20%20%20%20%20%20%20%20return%20collatz%28num//2%29%20%2B%201%0A%20%20%20%20else%3A%0A%20%20%20%20%20%20%20%20print%28num,%20end%3D',%20'%29%0A%20%20%20%20%20%20%20%20return%20collatz%28num*3%20%2B%201%29%20%2B%201%0A%20%20%20%20%20%20%20%20%0Acollatz%287%29&cumulative=false&curInstr=0&heapPrimitives=nevernest&mode=display&origin=opt-frontend.js&py=3&rawInputLstJSON=%5B%5D&textReferences=false)에서\n",
    "재귀 함수 호출 과정 동안 메모리에서 벌어지는 프레임의 생성과 소멸 과정,\n",
    "즉, 스택 다이어그램의 변화를 살펴볼 수 있다."
   ]
  },
  {
   "cell_type": "markdown",
   "metadata": {},
   "source": [
    "## 기저 조건과 무한 재귀"
   ]
  },
  {
   "cell_type": "markdown",
   "metadata": {},
   "source": [
    "재귀 함수의 실행이 멈추려면 재귀 호출 과정에서 언젠가는 더 이상 자신을 호출하지 않아야 한다.\n",
    "`countdown()` 함수는 `0`과 함께 호출될 때 더 이상 재귀 호출을 하지 않는다. \n",
    "이렇게 더 이상 재귀 호출이 발생하지 않도록 하는 경우를 \n",
    "**기저 조건**<font size=\"2\">base case</font>이라 한다.\n",
    "즉, `countdown()` 함수의 기저 조건은 `n = 0`이다.\n",
    "\n",
    "반면에 아래 함수는 기저 조건을 갖지 않는다. \n",
    "\n",
    "```python\n",
    "def count_infinitely(n):\n",
    "    print(n)\n",
    "    count_finitely(n+1)\n",
    "```\n",
    "\n",
    "`count_infinitely()` 함수를 호출하면 재귀 호출이 무한정 반복됨을 쉽게 알 수 있다.\n",
    "하지만 파이썬을 포함해서 대부분의 프로그래밍 언어는 재귀 호출의 무한 반복을 허용하지 않고\n",
    "언젠가 아래와 같은 오류를 발생시키면서 실행을 중지시킨다. \n",
    "\n",
    "```python\n",
    "Traceback (most recent call last):\n",
    "  File \"<stdin>\", line 1, in <module>\n",
    "  File \"<stdin>\", line 3, in count_infinitely\n",
    "  File \"<stdin>\", line 3, in count_infinitely\n",
    "  File \"<stdin>\", line 3, in count_infinitely\n",
    "  [Previous line repeated 992 more times]\n",
    "  File \"<stdin>\", line 2, in count_infinitely\n",
    "RecursionError: maximum recursion depth exceeded while calling a Python object\n",
    "```"
   ]
  },
  {
   "cell_type": "markdown",
   "metadata": {},
   "source": [
    ":::{admonition} 최대 재귀 한도\n",
    ":class: info\n",
    "\n",
    "파이썬은 **최대 재귀 한도**<font size=\"2\">Maximum recursion depth</font>를 정해\n",
    "허용되는 재귀 호출의 최대 반복 횟수를 지정한다. \n",
    "한도는 파이썬 버전과 운영체제 등에 따라 다를 수 있으며\n",
    "필요에 따라 조정하는 것도 가능하다.\n",
    "\n",
    "사용하는 파이썬의 최대 재귀 한도는 다음 명령문으로 확인할 수 있다.\n",
    "```python\n",
    ">>> import sys\n",
    ">>> print(sys.getrecursionlimit())\n",
    "```\n",
    ":::"
   ]
  },
  {
   "cell_type": "markdown",
   "metadata": {},
   "source": [
    "재귀 함수를 실행해서 무한 반복에 빠지거나 최대 재귀 한도를 벗어났다는\n",
    "오류 메시지가 발생하면 다음 두 가지 사항을 확인해야 한다.\n",
    "\n",
    "- 기저 조건이 주어졌는가?\n",
    "- 어떠한 경우에도 기저 조건에 다달하는가?\n",
    "\n",
    "하나라도 충족되지 않거나 확인할 수 없다면 해당 재귀 함수의 활용에 매우 \n",
    "주의를 기울여야 한다."
   ]
  },
  {
   "cell_type": "markdown",
   "metadata": {},
   "source": [
    "## 자연수의 계승"
   ]
  },
  {
   "cell_type": "markdown",
   "metadata": {},
   "source": [
    "음이 아닌 정수 $n$이 주어졌을 때 1부터 $n$ 까지의 곱을 $n$의 계승 또는 \n",
    "팩토리얼<font size=\"2\">factorial</font>이라 하고 $n!$로 표시한다. \n",
    "\n",
    "$$\n",
    "\\begin{align*}\n",
    "0! & = 1 \\\\\n",
    "n! & = n \\, (n-1)!\\quad\\text{단, $n>0$.}\n",
    "\\end{align*}\n",
    "$$\n",
    "\n",
    "계승을 계산하는 함수 `factorial()` 을 재귀로 구현할 수 있다.\n",
    "\n",
    "- 기저 조건은 `n == 0`이고, 1을 반환한다. \n",
    "- `n`이 0보다 크면 `(n-1)`의 계승과 `n`을 곱합 값을 반환한다."
   ]
  },
  {
   "cell_type": "code",
   "execution_count": 3,
   "metadata": {},
   "outputs": [],
   "source": [
    "def factorial(n):\n",
    "    if n == 0:                            # 기저 조건\n",
    "        return 1\n",
    "    else:\n",
    "        recursion_step = factorial(n-1)   # (n-1)의 계승\n",
    "        result = n * recursion_step\n",
    "        return result"
   ]
  },
  {
   "cell_type": "markdown",
   "metadata": {},
   "source": [
    "## 수열 점화식과 재귀"
   ]
  },
  {
   "cell_type": "markdown",
   "metadata": {},
   "source": [
    "**수열 점화식**은 수열 $\\{a_n\\}$에서 인접하는 두 항목 사이의 관계를 \n",
    "아래와 같은 방식으로 표현한 식이다.\n",
    "\n",
    "$$\n",
    "a_{n+1} = f(n, a_n)\n",
    "$$\n",
    "\n",
    "예를 들어 **피보나치 수열**<font size=\"2\">Fibonacci sequence</font>은 \n",
    "처음엔 1과 1로 시작한 후에 이후의 항목은 이전 두 개의 항목의 합으로 생성된다.\n",
    "\n",
    "    1, 1, 2, 3, 5, 8, 13, 21, 34, 55, ...\n",
    "\n",
    "피보나치 수열의 두 항목의 관계 점화식은 다음과 같다.\n",
    "\n",
    "$$\n",
    "\\begin{align*}\n",
    "f_0 & = 1 \\\\\n",
    "f_1 & = 1 \\\\\n",
    "f_n & = f_{n-1} + f_{n-2} \\quad \\text{단, $n \\ge 2$.}\n",
    "\\end{align*}\n",
    "$$"
   ]
  },
  {
   "cell_type": "markdown",
   "metadata": {},
   "source": [
    "점화식이 알려진 수열의 $n$ 번째 항목을 생성하는 \n",
    "함수는 기본적으로 재귀로 쉽게 구현할 수 있다.\n",
    "피보나치 수열의 `n` 번째 값을 구하는 함수는 다음과 같다."
   ]
  },
  {
   "cell_type": "code",
   "execution_count": 4,
   "metadata": {},
   "outputs": [],
   "source": [
    "def fibonacci(n):\n",
    "    if n == 0:\n",
    "        return 1\n",
    "    elif  n == 1:\n",
    "        return 1\n",
    "    else:                                        # n >= 2 인 경우\n",
    "        return fibonacci(n-1) + fibonacci(n-2)"
   ]
  },
  {
   "cell_type": "markdown",
   "metadata": {},
   "source": [
    "피보나치 수열의 처음 10개 항목은 다음과 같다."
   ]
  },
  {
   "cell_type": "code",
   "execution_count": 5,
   "metadata": {},
   "outputs": [
    {
     "name": "stdout",
     "output_type": "stream",
     "text": [
      "1, 1, 2, 3, 5, 8, 13, 21, 34, 55, ...\n"
     ]
    }
   ],
   "source": [
    "for n in range(10):\n",
    "    print(fibonacci(n), end=', ')\n",
    "\n",
    "print('...')"
   ]
  },
  {
   "cell_type": "markdown",
   "metadata": {},
   "source": [
    ":::{admonition} 인덱스의 시작\n",
    ":class: info\n",
    "\n",
    "프로그래밍에서는 관습적으로 순서를 1번부터가 아닌 0번부터 시작한다. \n",
    "따라서 피보나치 수열의 0번과 1번 값이 1, 2번 값은 2, 3번 값은 3 등이 된다.\n",
    ":::"
   ]
  },
  {
   "cell_type": "markdown",
   "metadata": {},
   "source": [
    "## 콜라츠 추측"
   ]
  },
  {
   "cell_type": "markdown",
   "metadata": {},
   "source": [
    "독일 수학자 콜라츠(Collatz -> L.)가 1937년에 아래 알고리즘을\n",
    "얼마나 많이 반복하면 최종적으로 숫자 1에 다다를 것인가를 질문했다.\n",
    "\n",
    "* 주어진 숫자가 짝수면 2로 나눈다.\n",
    "* 주어진 숫자가 홀수면 3배한 후 1을 더한다.\n",
    "\n",
    "실제로 숫자 7부터 시작해서 위 과정을 16번 반복하면 1에 다다른다. \n",
    "\n",
    "    7 -> 22 -> 11 -> 34 -> 17 -> 52 -> 26 -> 13 -> 40 -> 20 -> 10 -> 5 -> 16 -> 8 -> 4 -> 2 -> 1\n",
    "    \n",
    "반면에 숫자 128부터 시작하면 7번만 반복하면 된다.\n",
    "\n",
    "    128 -> 64 -> 32 -> 16 -> 8 -> 4 -> 2 -> 1    "
   ]
  },
  {
   "cell_type": "markdown",
   "metadata": {},
   "source": [
    "콜라츠 알고리즘을 재귀 함수로 구현할 수 있다.\n",
    "\n",
    "- 기저 조건: `num == 1`\n",
    "- `num % 2 == 0`: 짝수인 경우. 2로 나누기\n",
    "- 기타<font size=\"2\">else</font>: 홀수 인 경우. 3배 더하기 1."
   ]
  },
  {
   "cell_type": "code",
   "execution_count": 6,
   "metadata": {},
   "outputs": [],
   "source": [
    "def collatz(num):\n",
    "    if num == 1:                        # 기저 조건\n",
    "        print(num)\n",
    "    elif num % 2 == 0:                  # 짝수인 경우\n",
    "        print(num, end=' -> ')\n",
    "        collatz(num//2)\n",
    "    else:                               # 홀수인 경우\n",
    "        print(num, end=' -> ')\n",
    "        collatz(num*3 + 1)"
   ]
  },
  {
   "cell_type": "code",
   "execution_count": 7,
   "metadata": {},
   "outputs": [
    {
     "name": "stdout",
     "output_type": "stream",
     "text": [
      "7 -> 22 -> 11 -> 34 -> 17 -> 52 -> 26 -> 13 -> 40 -> 20 -> 10 -> 5 -> 16 -> 8 -> 4 -> 2 -> 1\n"
     ]
    }
   ],
   "source": [
    "collatz(7)"
   ]
  },
  {
   "cell_type": "code",
   "execution_count": 8,
   "metadata": {},
   "outputs": [
    {
     "name": "stdout",
     "output_type": "stream",
     "text": [
      "128 -> 64 -> 32 -> 16 -> 8 -> 4 -> 2 -> 1\n"
     ]
    }
   ],
   "source": [
    "collatz(128)"
   ]
  },
  {
   "cell_type": "code",
   "execution_count": 9,
   "metadata": {},
   "outputs": [
    {
     "name": "stdout",
     "output_type": "stream",
     "text": [
      "129 -> 388 -> 194 -> 97 -> 292 -> 146 -> 73 -> 220 -> 110 -> 55 -> 166 -> 83 -> 250 -> 125 -> 376 -> 188 -> 94 -> 47 -> 142 -> 71 -> 214 -> 107 -> 322 -> 161 -> 484 -> 242 -> 121 -> 364 -> 182 -> 91 -> 274 -> 137 -> 412 -> 206 -> 103 -> 310 -> 155 -> 466 -> 233 -> 700 -> 350 -> 175 -> 526 -> 263 -> 790 -> 395 -> 1186 -> 593 -> 1780 -> 890 -> 445 -> 1336 -> 668 -> 334 -> 167 -> 502 -> 251 -> 754 -> 377 -> 1132 -> 566 -> 283 -> 850 -> 425 -> 1276 -> 638 -> 319 -> 958 -> 479 -> 1438 -> 719 -> 2158 -> 1079 -> 3238 -> 1619 -> 4858 -> 2429 -> 7288 -> 3644 -> 1822 -> 911 -> 2734 -> 1367 -> 4102 -> 2051 -> 6154 -> 3077 -> 9232 -> 4616 -> 2308 -> 1154 -> 577 -> 1732 -> 866 -> 433 -> 1300 -> 650 -> 325 -> 976 -> 488 -> 244 -> 122 -> 61 -> 184 -> 92 -> 46 -> 23 -> 70 -> 35 -> 106 -> 53 -> 160 -> 80 -> 40 -> 20 -> 10 -> 5 -> 16 -> 8 -> 4 -> 2 -> 1\n"
     ]
    }
   ],
   "source": [
    "collatz(129)"
   ]
  },
  {
   "cell_type": "markdown",
   "metadata": {},
   "source": [
    "재귀 호출 횟수를 반환값으로 지정할 수 있다.\n",
    "\n",
    "- `n == 1`: 재귀 호출 없음. 0 반환.\n",
    "- 짝수인 경우: 2로 나눈 값에 대한 재귀 호출 횟수 더하기 1\n",
    "- 홀수인 경우: 세 배 더하기 1에 대한 재귀 호출 횟수 더하기 1"
   ]
  },
  {
   "cell_type": "code",
   "execution_count": 10,
   "metadata": {},
   "outputs": [],
   "source": [
    "def collatz_count(num):\n",
    "    if num == 1:                        # 기저 조건\n",
    "        return 0\n",
    "    elif num % 2 == 0:                  # 짝수인 경우\n",
    "        return collatz_count(num//2) + 1\n",
    "    else:                               # 홀수인 경우\n",
    "        return collatz_count(num*3 + 1) + 1"
   ]
  },
  {
   "cell_type": "code",
   "execution_count": 11,
   "metadata": {},
   "outputs": [
    {
     "name": "stdout",
     "output_type": "stream",
     "text": [
      "16 회\n"
     ]
    }
   ],
   "source": [
    "print(collatz_count(7), \"회\")"
   ]
  },
  {
   "cell_type": "code",
   "execution_count": 12,
   "metadata": {},
   "outputs": [
    {
     "name": "stdout",
     "output_type": "stream",
     "text": [
      "7 회\n"
     ]
    }
   ],
   "source": [
    "print(collatz_count(128), \"회\")"
   ]
  },
  {
   "cell_type": "code",
   "execution_count": 13,
   "metadata": {},
   "outputs": [
    {
     "name": "stdout",
     "output_type": "stream",
     "text": [
      "121 회\n"
     ]
    }
   ],
   "source": [
    "print(collatz_count(129), \"회\")"
   ]
  },
  {
   "cell_type": "markdown",
   "metadata": {},
   "source": [
    ":::{admonition} 콜라츠 추측\n",
    ":class: info\n",
    "\n",
    "앞서 보았듯이 처음 시작하는 값이 작다고 해서 반드시 먼저 끝나는 것이 아니다.\n",
    "이처럼 시작 값이 정해졌을 때 언제 위 1에 다다르며 종료하는지 알려지지 않았다.\n",
    "반면에 지금까지 테스트한 모든 자연수에 대해 콜라츠 알고리즘은 \n",
    "언젠가는 1에 다다르며 종료하였다.\n",
    "즉, 콜라츠 알고리즘이 모든 수에 대해 언젠가는 1에 다다르며 정지한다라는 주장이\n",
    "아직 증명도 부정도 되지 않고 있다.\n",
    "이렇게 증명도 부정되 되지 않은 콜라츠의 주장을 **콜라츠 추측**<font size=\"2\">Collatz conjecture</font>\n",
    "라 부른다.\n",
    ":::"
   ]
  },
  {
   "cell_type": "markdown",
   "metadata": {},
   "source": [
    "## 영화 감독 봉준호"
   ]
  },
  {
   "cell_type": "markdown",
   "metadata": {},
   "source": [
    "봉준호 영화 감독의 영화를 담고 있는 리스트가 아래와 같이 있다."
   ]
  },
  {
   "cell_type": "code",
   "execution_count": 14,
   "metadata": {},
   "outputs": [],
   "source": [
    "movie_Bong = [\"기생충\", 2019, [\"설국열차\", 2013, [\"살인의 추억\", 2003]]]"
   ]
  },
  {
   "cell_type": "markdown",
   "metadata": {},
   "source": [
    "위 리스트는 3중이다. 리스트 안에 리스트, 또 리스트 안에 리스트.\n",
    "이제 아래와 같이 모든 항목을 나열하고자 한다.\n",
    "\n",
    "```\n",
    "기생충\n",
    "2019\n",
    "설국열차\n",
    "2013\n",
    "살인의 추억\n",
    "2003\n",
    "```"
   ]
  },
  {
   "cell_type": "code",
   "execution_count": 15,
   "metadata": {},
   "outputs": [
    {
     "name": "stdout",
     "output_type": "stream",
     "text": [
      "기생충\n",
      "2019\n",
      "['설국열차', 2013, ['살인의 추억', 2003]]\n"
     ]
    }
   ],
   "source": [
    "for item in movie_Bong:\n",
    "    print(item)"
   ]
  },
  {
   "cell_type": "markdown",
   "metadata": {},
   "source": [
    "그런데 위와 같이 하면 중첩으로 되어 있는 영화들을 제대로 풀어헤칠 수 없다.\n",
    "2중 `for` 반복문을 활용해보자.\n",
    "\n",
    "**주의:** 아래 코드에서 `isinstance(item, list)`는 `item` 변수가 가리키는 항목이 \n",
    "리스트 자료형 여부를 확인한다."
   ]
  },
  {
   "cell_type": "code",
   "execution_count": 16,
   "metadata": {
    "scrolled": true
   },
   "outputs": [
    {
     "name": "stdout",
     "output_type": "stream",
     "text": [
      "기생충\n",
      "2019\n",
      "설국열차\n",
      "2013\n",
      "['살인의 추억', 2003]\n"
     ]
    }
   ],
   "source": [
    "for item in movie_Bong:\n",
    "    if isinstance(item, list):\n",
    "        for itemN in item:\n",
    "            print(itemN)\n",
    "    else:\n",
    "        print(item)"
   ]
  },
  {
   "cell_type": "markdown",
   "metadata": {},
   "source": [
    "여전히 삼중 리스트의 모든 항목을 나열하진 못한다. \n",
    "3중 `for` 반복문을 활용해보자."
   ]
  },
  {
   "cell_type": "code",
   "execution_count": 17,
   "metadata": {},
   "outputs": [
    {
     "name": "stdout",
     "output_type": "stream",
     "text": [
      "기생충\n",
      "2019\n",
      "설국열차\n",
      "2013\n",
      "살인의 추억\n",
      "2003\n"
     ]
    }
   ],
   "source": [
    "for item in movie_Bong:\n",
    "    if isinstance(item, list):\n",
    "        for itemN in item:\n",
    "            if isinstance(itemN, list):\n",
    "                for itemNN in itemN:\n",
    "                    print(itemNN)\n",
    "            else:\n",
    "                print(itemN)\n",
    "    else:\n",
    "        print(item)"
   ]
  },
  {
   "cell_type": "markdown",
   "metadata": {},
   "source": [
    "그런데 프로그램을 이렇게 구현하면 안된다.\n",
    "만약에 영화목록이 4중, 5중으로 구성된 리스트로 작성되었다면\n",
    "위 프로그램은 4중, 5중 `for` 반복문으로 수정해야 하고,\n",
    "그러면서 프로그램의 길이와 복잡도가 기하급수적으로 증가하기 때문이다.\n",
    "\n",
    "처리해야 하는 데이터에 따라 프로그램이 수정되거나 복잡도가 증가하지 않는 \n",
    "프로그램을 구현해야 한다. \n",
    "\n",
    "다시 한 번 위 세 개의 프로그램을 살펴보자. \n",
    "세 개의 프로그램은 사실상 아래 명령문을 반복해서 사용한다. \n",
    "\n",
    "```python\n",
    "for 항목 in 리스트:\n",
    "    if isinstance(항목, list):\n",
    "        명령문\n",
    "    else:\n",
    "        print(항목)\n",
    "```\n",
    "\n",
    "위 명령문은 리스트의 항목이 또 다른 리스트이면 그 리스트의 항목들을 \n",
    "대상으로 동일한 확인작업을 수행하며,\n",
    "더 이상 리스트가 다른 리스트의 항목으로 포함되지 않을 때 까지 반복된다.\n",
    "즉, 모든 중첩 리스트가 해체될 까지 리스트 여부를 반복하며, \n",
    "리스트가 아니면 해당 항목을 화면에 출력한다.\n",
    "\n",
    "이런 반복작업을 **재귀**(recursion)라 부르며,\n",
    "반복되는 작업에 이름을 주면, 위 세 개의 코드를 하나의 함수로 정의할 수 있다.\n",
    "예를 들어, 아래와 같이 앞서 언급된 명령문에 `printItems`이란 이름을 주어 함수로 정의해보자."
   ]
  },
  {
   "cell_type": "code",
   "execution_count": 18,
   "metadata": {},
   "outputs": [],
   "source": [
    "def printItems(aList):\n",
    "    for item in aList:\n",
    "        if isinstance(item, list):\n",
    "            printItems(item)\n",
    "        else:\n",
    "            print(item)"
   ]
  },
  {
   "cell_type": "markdown",
   "metadata": {},
   "source": [
    "`printItems` 함수는 좀 이상하다. \n",
    "정의가 끝나지 않았는데 자신을 자신 본체에서 사용한다. \n",
    "(4번 줄 참조)\n",
    "\n",
    "실제로 `printItems` 함수를 호출하면 실행과정 중에\n",
    "자신을 또다시 호출한다. \n",
    "단, 사용되는 인자가 다르며, 애초에 사용된 리스트의 항목이면서\n",
    "또다른 리스트가 인자로 사용된다.\n",
    "이런 함수를 자기 자신을 호출한다는 의미로 **재귀함수**(recursive function)라 부른다. \n",
    "\n",
    "사실 임의로 중첩된 리스트를 인자로 받아도 중첩을 모두 풀어버린다."
   ]
  },
  {
   "cell_type": "code",
   "execution_count": 19,
   "metadata": {},
   "outputs": [
    {
     "name": "stdout",
     "output_type": "stream",
     "text": [
      "기생충\n",
      "2019\n",
      "설국열차\n",
      "2013\n",
      "살인의 추억\n",
      "2003\n"
     ]
    }
   ],
   "source": [
    "printItems(movie_Bong)"
   ]
  },
  {
   "cell_type": "markdown",
   "metadata": {},
   "source": [
    "## 연습문제 "
   ]
  },
  {
   "cell_type": "markdown",
   "metadata": {},
   "source": [
    "1. `printItems` 수정하여 `movie_Bong`에 포함된 항목들을 아래와 같이 \n",
    "    출력하도록 하는 `printItems2` 함수를 구현하라.\n",
    "\n",
    "        기생충\n",
    "        2019\n",
    "            설국열차\n",
    "            2013\n",
    "                살인의 추억\n",
    "                2003\n",
    "\n",
    "    **힌트**\n",
    "    * `printItems` 함수의 인자를 두 개로 수정한다. \n",
    "        하나는 리스트의 인자를 다루며, 다른 하나는 들어쓰기 정도를 다루는 \n",
    "        인자를 하나 받는다.\n",
    "        \n",
    "        ```python\n",
    "        def printItems2(aList, level):\n",
    "        명령문\n",
    "        ```\n",
    "\n",
    "    * 위에서 `level` 매개변수의 인자는 탭키를 사용하는 횟수를 나타내도록 한다. \n",
    "        그러면 `printItems2(movie_Bong, 0)`을 실행하면 원하는 결과가 나와야 한다.\n",
    "    * 탭 출력은 `print('\\t')`를 이용하면 된다.\n",
    "    <br><br>\n",
    "1. 위 과제에서 구현한 `printItems2` 함수를 아래와 같이 수정하라.\n",
    "    * 인자수를 세 개로 늘린다.\n",
    "\n",
    "        ```python\n",
    "        def printItems3(aList, level, indent=False):\n",
    "            명령문\n",
    "        ```\n",
    "\n",
    "    * `indent` 매개변수의 키워드인자 값이 `True`이면 연습4에서 처럼 들여쓰기를 하고, \n",
    "        `False`이면 들여쓰기를 하지 않아야 한다.\n",
    "    <br><br>\n",
    "1. `printItems` 함수를 재귀가 아닌 `while` 함수를 이용하여 구현하라.\n",
    "\n",
    "    **힌트:** `while` 반복문에 사용되는 조건식을 선택하는 게 핵심이다.\n",
    "    재귀로 구현된 함수로부터 이에대한 힌트를 얻을 수 있다."
   ]
  }
 ],
 "metadata": {
  "kernelspec": {
   "display_name": "Python 3 (ipykernel)",
   "language": "python",
   "name": "python3"
  },
  "language_info": {
   "codemirror_mode": {
    "name": "ipython",
    "version": 3
   },
   "file_extension": ".py",
   "mimetype": "text/x-python",
   "name": "python",
   "nbconvert_exporter": "python",
   "pygments_lexer": "ipython3",
   "version": "3.9.7"
  }
 },
 "nbformat": 4,
 "nbformat_minor": 1
}