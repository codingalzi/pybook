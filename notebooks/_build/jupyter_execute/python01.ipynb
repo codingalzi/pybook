{
 "cells": [
  {
   "cell_type": "markdown",
   "metadata": {
    "id": "5uVJ6sswtoeL"
   },
   "source": [
    "# 파이썬 기본 자료형 1부"
   ]
  },
  {
   "cell_type": "markdown",
   "metadata": {
    "id": "H8Bcaud6toeO"
   },
   "source": [
    "## 주요 내용"
   ]
  },
  {
   "cell_type": "markdown",
   "metadata": {
    "id": "OvwjWDjbtoeO"
   },
   "source": [
    "* 컴퓨터 프로그램이란?\n",
    "* 파이썬 언어 소개\n",
    "* 변수와 변수 선언\n",
    "* 연산\n",
    "* 스칼라 자료형 1편: 정수, 부동소수점, 부울 값, `None`"
   ]
  },
  {
   "cell_type": "markdown",
   "metadata": {
    "id": "JbQuimO9toeP"
   },
   "source": [
    "## 컴퓨터 프로그램이란?"
   ]
  },
  {
   "cell_type": "markdown",
   "metadata": {
    "id": "6Bz8oNIHtoeP"
   },
   "source": [
    "__컴퓨터 프로그램__(computer programs)은 컴퓨터가 해야 할 일을 \n",
    "특정 __프로그래밍 언어__를 이용하여 작성한 __명령문__(commands)으로 이루어진 문장이라 할 수 있다.\n",
    "각각의 명령문이 하는 일은 기본적으로 값을 조작하거나 새로운 값을 생성한다.\n",
    "즉, 컴퓨터 프로그램은 주어진 값을 어떻게 조작하고 어떤 값을 생성할 것인가를 명시한 매뉴얼 문서이다. \n",
    "\n",
    "언어를 배울 때 어휘와 문장 구성을 배워야 하듯이 컴퓨터 프로그래밍은\n",
    "명령문의 구성 요소와 명령문 사용법을 학습하는 것으로 시작한다."
   ]
  },
  {
   "cell_type": "markdown",
   "metadata": {
    "id": "XcDXT8H_toeP"
   },
   "source": [
    "### 프로그램, 코드, 명령문"
   ]
  },
  {
   "cell_type": "markdown",
   "metadata": {
    "id": "0XGjaXnntoeQ"
   },
   "source": [
    "프로그램은 여기서는 컴퓨터 프로그램을 가리킨다. 그리고 경우에 따라 프로그램, 코드, 명령문 등의 표현을 \n",
    "특별한 정의 없이 사용한다.\n",
    "프로그램은 완성된 컴퓨터 프로그램, 코드는 프로그램의 일부, 명령문은 프로그램의 기본 구성요소로 \n",
    "가장 짧은 코드 정도로 이해할 수 있다.\n",
    "반면에 소스코드는 완성된 프로그램의 원본 코드 전체를 의미한다."
   ]
  },
  {
   "cell_type": "markdown",
   "metadata": {
    "id": "_C09vQ7ftoeQ"
   },
   "source": [
    "## 파이썬 언어 소개"
   ]
  },
  {
   "cell_type": "markdown",
   "metadata": {
    "id": "hAXVJOuetoeR"
   },
   "source": [
    "파이썬은 __스크립트 언어__(script language)다. 즉, 명령문을 작성한 후에 한 줄씩 바로 실행시킬 수 있다."
   ]
  },
  {
   "cell_type": "markdown",
   "metadata": {
    "id": "N9W5K5DptoeR"
   },
   "source": [
    "### 명령문 기본 사용법"
   ]
  },
  {
   "cell_type": "markdown",
   "metadata": {
    "id": "7WRHkVyYtoeR"
   },
   "source": [
    "사용되는 파이썬 쉘(shell)에 따라 명령문을 입력하는 장치의 모양이 다르다.\n",
    "보통 명령 프롬프트(prompt)라고 불리는 아래 두 기호 중의 하나가 사용된다.\n",
    "\n",
    "* 파이썬 기본 쉘의 명령 프롬프트: `>>>`\n",
    "\n",
    "* IPython 명령 프롬프트: `In [17]:`\n",
    "\n",
    "여기서는 IPython 명령 프롬프트를 사용하며, 대괄호 안의 숫자는 실행된 명령문들의 순서를 나타낸다.\n",
    "숫자가 클 수록 나중에 실행되었다는 의미이다."
   ]
  },
  {
   "cell_type": "markdown",
   "metadata": {
    "id": "Lr9OMJTrtoeS"
   },
   "source": [
    "#### 명령문 예제: 출력하기"
   ]
  },
  {
   "cell_type": "markdown",
   "metadata": {
    "id": "tMVMii0ltoeS"
   },
   "source": [
    "아래 코드는 `\"Hello Python!\"` 이란 문자열을 화면에 출력하는 명령문이다. "
   ]
  },
  {
   "cell_type": "code",
   "execution_count": 1,
   "metadata": {
    "id": "I4gJPs5EtoeS",
    "outputId": "64b73a87-cee4-4fbb-cb1c-903a69a0f12b"
   },
   "outputs": [
    {
     "name": "stdout",
     "output_type": "stream",
     "text": [
      "Hello Python!\n"
     ]
    }
   ],
   "source": [
    "print(\"Hello Python!\")"
   ]
  },
  {
   "cell_type": "markdown",
   "metadata": {
    "id": "mNCdGDlqtoeU"
   },
   "source": [
    "위 코드는 하나의 명령문으로 구성되었으며 `print()` 함수를 이용한다. \n",
    "이와같이 함수를 특정 인자와 함께 실행하는 것을 __함수 호출__(function call)이라 한다.\n",
    "\n",
    "__참고:__ 큰따옴표 또는 작은따옴표로 감싸인 문자들의 나열을 __문자열__이라 부른다."
   ]
  },
  {
   "cell_type": "markdown",
   "metadata": {
    "id": "nzFTkTaptoeU"
   },
   "source": [
    "#### 함수(functions)"
   ]
  },
  {
   "cell_type": "markdown",
   "metadata": {
    "id": "-1ieYx_ztoeU"
   },
   "source": [
    "__함수__(function)는 지정된 인자를 사용하여 특정 계산과 지정된 기능을 수행한다.\n",
    "프로그래밍에서의 함수와 수학에서의 함수는 사용법과 모양에 있어서 서로 다르지만 \n",
    "기본적으로 지정된 값을 이용하여 계산을 실행한다는 점에서 동일한 개념이다.\n",
    "다만 `print()` 함수가 하는 일에서 보았듯이 수학의 함수와 사용법이 많이 다르기에\n",
    "익숙해지는 데에 조금 시간이 걸릴 수 있다. \n",
    "\n",
    "`print()` 함수는 무언가를 계산하는 것 이외에 지정된 문자열을 화면에 출력하는 일도 수행한다.\n",
    "이처럼 계산 이외에 다른 일을 하는 것을 __부수 효과__(side effect)라고 한다.\n",
    "\n",
    "__참고:__ 엄밀히 따지면 이런 작업도 계산이라고 할 수 있지만, 수학자에게는 매우 생소하게 다가올 것이다.\n",
    "부수 효과를 참고서에 따라 __부작용__이라 부르는 경우도 있다."
   ]
  },
  {
   "cell_type": "markdown",
   "metadata": {
    "id": "oMLq05sutoeV"
   },
   "source": [
    "#### 명령문 예제: 변수 선언"
   ]
  },
  {
   "cell_type": "markdown",
   "metadata": {
    "id": "egbAI81ytoeV"
   },
   "source": [
    "__변수__가 특정한 값을 가리키도록 하는 것을 __변수 선언__이라 하며\n",
    "아래 양식을 따른다.\n",
    "\n",
    "```python\n",
    "변수 = 값\n",
    "```\n",
    "\n",
    "예를 들어, 아래 명령문은 2를 변수 `a`가 가리키는 값으로 선언한다."
   ]
  },
  {
   "cell_type": "code",
   "execution_count": 2,
   "metadata": {
    "id": "k-PfkUXatoeV"
   },
   "outputs": [],
   "source": [
    "a = 2"
   ]
  },
  {
   "cell_type": "markdown",
   "metadata": {
    "id": "TXae5x-ttoeV"
   },
   "source": [
    "이제 `a`가 가리키는 값을 확인하련 변수를 입력하고 실행하면 된다."
   ]
  },
  {
   "cell_type": "code",
   "execution_count": 3,
   "metadata": {
    "id": "1y5vrLT3toeV",
    "outputId": "1366d919-2b44-4bfe-a6b5-ab406f4ff142"
   },
   "outputs": [
    {
     "data": {
      "text/plain": [
       "2"
      ]
     },
     "execution_count": 3,
     "metadata": {},
     "output_type": "execute_result"
    }
   ],
   "source": [
    "a"
   ]
  },
  {
   "cell_type": "markdown",
   "metadata": {
    "id": "k3lVSVN-toeW"
   },
   "source": [
    "변수 선언에 사용되는 등호 기호(`=`) 때문에 `\"변수와 값이 동일하다\"` 로 이해하면 안된다.\n",
    "여기서는 동일하다의 의미가 아니라 변수가 지정된 값을 가리킨다는 의미이며, \n",
    "변수라는 말의 의미에서 알 수 있듯이 변수가 가리키는 값은 언제든지 변경될 수 있다.\n",
    "\n",
    "아래 코드는 변수 `a`가 가리키는 값을 5로 변경한다.\n",
    "\n",
    "__참고:__ 만약에 `a = 2`를 `a`와 2는 같다라고 해석한다면 절대로 불가능한 일을 하게되는 셈이다."
   ]
  },
  {
   "cell_type": "code",
   "execution_count": 4,
   "metadata": {
    "id": "sf77G1RntoeW"
   },
   "outputs": [],
   "source": [
    "a = 5"
   ]
  },
  {
   "cell_type": "markdown",
   "metadata": {
    "id": "ztfkJSkotoeW"
   },
   "source": [
    "변수가 가리키는 변경된 값을 `print()` 함수를 이용하여 확인할 수도 있다."
   ]
  },
  {
   "cell_type": "code",
   "execution_count": 5,
   "metadata": {
    "id": "8K-LPR2jtoeW",
    "outputId": "840f0ccd-3195-40a7-c3b2-a3344a2e2af9"
   },
   "outputs": [
    {
     "name": "stdout",
     "output_type": "stream",
     "text": [
      "5\n"
     ]
    }
   ],
   "source": [
    "print(a)"
   ]
  },
  {
   "cell_type": "markdown",
   "metadata": {
    "id": "O-yO_hs5toeW"
   },
   "source": [
    "### 값과 표현식"
   ]
  },
  {
   "cell_type": "markdown",
   "metadata": {
    "id": "zijlXqt9toeW"
   },
   "source": [
    "파이썬은 여러 종류의 값을 저장하고 계산할 수 있으며,\n",
    "값을 표현하기 위한 다양한 방식을 지원한다.\n",
    "파이썬은 몇 가지 종류의 값을 기본으로 제공하며, 함수를 이용하여 \n",
    "무한히 많은 값을 표현하고 다룰 수 있는 기능을 제공한다.\n",
    "\n",
    "가장 단순한 값은 정수, 유리수이며, 사칙연산 등을 이용하여 다양한 방식으로 값을 표현할 수 있다.\n",
    "값을 표현하는 식을 __표현식__(expressions)이라 하며,\n",
    "표현식은 명령문이 실행되면 모두 특정 값으로 계산된다."
   ]
  },
  {
   "cell_type": "markdown",
   "metadata": {
    "id": "PXrpVV4AtoeX"
   },
   "source": [
    "#### 예제: 사칙연산 표현식"
   ]
  },
  {
   "cell_type": "markdown",
   "metadata": {
    "id": "RCyoNnfJtoeX"
   },
   "source": [
    "사칙연산을 표현하고 필요에 따라 계산한다.\n",
    "또한 계산된 값을 이용하여 변수를 선언하고 언제든지 필요할 때 재활용할 수 있다."
   ]
  },
  {
   "cell_type": "code",
   "execution_count": 6,
   "metadata": {
    "id": "jZqwoHzatoeX",
    "outputId": "f8e98121-ff1c-459c-87cb-9d14835155d2"
   },
   "outputs": [
    {
     "data": {
      "text/plain": [
       "5"
      ]
     },
     "execution_count": 6,
     "metadata": {},
     "output_type": "execute_result"
    }
   ],
   "source": [
    "2 + 3"
   ]
  },
  {
   "cell_type": "code",
   "execution_count": 7,
   "metadata": {
    "id": "456bU4z2toeX",
    "outputId": "dadcc5ad-0657-4435-ab6d-b08d4abae155"
   },
   "outputs": [
    {
     "data": {
      "text/plain": [
       "6"
      ]
     },
     "execution_count": 7,
     "metadata": {},
     "output_type": "execute_result"
    }
   ],
   "source": [
    "a = 2 + 3\n",
    "a + 1"
   ]
  },
  {
   "cell_type": "code",
   "execution_count": 8,
   "metadata": {
    "id": "-TN_6mK1toeX",
    "outputId": "bee77604-ba7d-40d0-8304-ab495a2d60bc"
   },
   "outputs": [
    {
     "data": {
      "text/plain": [
       "26.7"
      ]
     },
     "execution_count": 8,
     "metadata": {},
     "output_type": "execute_result"
    }
   ],
   "source": [
    "42 - 15.3"
   ]
  },
  {
   "cell_type": "markdown",
   "metadata": {
    "id": "18ji0ToZtoeX"
   },
   "source": [
    "곱셈은 `*` 기호를 사용한다."
   ]
  },
  {
   "cell_type": "code",
   "execution_count": 9,
   "metadata": {
    "id": "f5bzadHGtoeY",
    "outputId": "dbbfd673-b244-40a2-abf6-50e4ff3bfcbe"
   },
   "outputs": [
    {
     "data": {
      "text/plain": [
       "1100"
      ]
     },
     "execution_count": 9,
     "metadata": {},
     "output_type": "execute_result"
    }
   ],
   "source": [
    "100 * 11"
   ]
  },
  {
   "cell_type": "markdown",
   "metadata": {
    "id": "48Y2AFcptoeY"
   },
   "source": [
    "곱셈은 `/` 기호를 사용하며, 실행 결과는 부동소수점이다.\n",
    "\n",
    "__참고:__ 컴퓨터에서 구현된 유리수를 __부동소수점__이라 한다."
   ]
  },
  {
   "cell_type": "code",
   "execution_count": 10,
   "metadata": {
    "id": "tyIlP25UtoeY",
    "outputId": "8418c105-4d05-4b6f-ff64-fb62680a8b1d"
   },
   "outputs": [
    {
     "data": {
      "text/plain": [
       "1.4"
      ]
     },
     "execution_count": 10,
     "metadata": {},
     "output_type": "execute_result"
    }
   ],
   "source": [
    "7 / 5"
   ]
  },
  {
   "cell_type": "code",
   "execution_count": 11,
   "metadata": {
    "id": "8OqSREQStoeY",
    "outputId": "df5ced1f-6ea2-49fc-83ac-446fa78cf4dd"
   },
   "outputs": [
    {
     "data": {
      "text/plain": [
       "-1.4"
      ]
     },
     "execution_count": 11,
     "metadata": {},
     "output_type": "execute_result"
    }
   ],
   "source": [
    "-7/5"
   ]
  },
  {
   "cell_type": "code",
   "execution_count": 12,
   "metadata": {
    "id": "IOLf0BoUtoeZ",
    "outputId": "c9c119e8-1cd6-4fe3-b8a1-5e1c59925f4a"
   },
   "outputs": [
    {
     "data": {
      "text/plain": [
       "1.4"
      ]
     },
     "execution_count": 12,
     "metadata": {},
     "output_type": "execute_result"
    }
   ],
   "source": [
    "7.0 / 5"
   ]
  },
  {
   "cell_type": "markdown",
   "metadata": {
    "id": "h4SpHEWItoeZ"
   },
   "source": [
    "나눗셈의 몫을 계산하는 연산자는 `//` 이다."
   ]
  },
  {
   "cell_type": "code",
   "execution_count": 13,
   "metadata": {
    "id": "OgtRhGT8toeZ",
    "outputId": "88adc6ad-90b6-4cf4-f8e9-5482df44923b"
   },
   "outputs": [
    {
     "data": {
      "text/plain": [
       "1"
      ]
     },
     "execution_count": 13,
     "metadata": {},
     "output_type": "execute_result"
    }
   ],
   "source": [
    "7//5"
   ]
  },
  {
   "cell_type": "code",
   "execution_count": 14,
   "metadata": {
    "id": "UerOnIy_toeZ",
    "outputId": "58f1aa85-9632-42ae-b854-51e11a484bd9"
   },
   "outputs": [
    {
     "data": {
      "text/plain": [
       "1.0"
      ]
     },
     "execution_count": 14,
     "metadata": {},
     "output_type": "execute_result"
    }
   ],
   "source": [
    "7.0//5"
   ]
  },
  {
   "cell_type": "code",
   "execution_count": 15,
   "metadata": {
    "id": "IhCUOlpEtoea",
    "outputId": "1d416994-629c-4dfb-af74-ffa450735cdb"
   },
   "outputs": [
    {
     "data": {
      "text/plain": [
       "-2"
      ]
     },
     "execution_count": 15,
     "metadata": {},
     "output_type": "execute_result"
    }
   ],
   "source": [
    "-7//5"
   ]
  },
  {
   "cell_type": "code",
   "execution_count": 16,
   "metadata": {
    "id": "DbvjfdBItoea",
    "outputId": "33b0835f-3969-45a0-b854-c957e85ba99f"
   },
   "outputs": [
    {
     "data": {
      "text/plain": [
       "-2.0"
      ]
     },
     "execution_count": 16,
     "metadata": {},
     "output_type": "execute_result"
    }
   ],
   "source": [
    "-7.0//5"
   ]
  },
  {
   "cell_type": "markdown",
   "metadata": {
    "id": "MYoHKnmntoea"
   },
   "source": [
    "나눗셈의 나머지를 계산하는 연산자는 `%` 이다."
   ]
  },
  {
   "cell_type": "code",
   "execution_count": 17,
   "metadata": {
    "id": "E067wmPatoea",
    "outputId": "48767d13-39ee-4e79-9529-40195e8dec53"
   },
   "outputs": [
    {
     "data": {
      "text/plain": [
       "2"
      ]
     },
     "execution_count": 17,
     "metadata": {},
     "output_type": "execute_result"
    }
   ],
   "source": [
    "7%5"
   ]
  },
  {
   "cell_type": "code",
   "execution_count": 18,
   "metadata": {
    "id": "80K8nFxZtoeb",
    "outputId": "961c18d1-1ff9-4f98-d92c-59a87a62664e"
   },
   "outputs": [
    {
     "data": {
      "text/plain": [
       "3"
      ]
     },
     "execution_count": 18,
     "metadata": {},
     "output_type": "execute_result"
    }
   ],
   "source": [
    "-7%5"
   ]
  },
  {
   "cell_type": "code",
   "execution_count": 19,
   "metadata": {
    "id": "Pk5JnZtHtoeb",
    "outputId": "d5bd5a20-7ff5-4173-9977-1fc8874a083b"
   },
   "outputs": [
    {
     "data": {
      "text/plain": [
       "3.0"
      ]
     },
     "execution_count": 19,
     "metadata": {},
     "output_type": "execute_result"
    }
   ],
   "source": [
    "-7.0%5"
   ]
  },
  {
   "cell_type": "markdown",
   "metadata": {
    "id": "fuWZ9jgJtoeb"
   },
   "source": [
    "지수 계산은 `**` 연산자를 사용한다."
   ]
  },
  {
   "cell_type": "code",
   "execution_count": 20,
   "metadata": {
    "id": "6nWPMkwCtoeb",
    "outputId": "5439a102-da00-44ce-ea06-20ed8286e433"
   },
   "outputs": [
    {
     "data": {
      "text/plain": [
       "8"
      ]
     },
     "execution_count": 20,
     "metadata": {},
     "output_type": "execute_result"
    }
   ],
   "source": [
    "2 ** 3"
   ]
  },
  {
   "cell_type": "code",
   "execution_count": 21,
   "metadata": {
    "id": "qPCIbSAItoeb",
    "outputId": "7a191d39-88f6-475b-84b4-82ff0a73e05a"
   },
   "outputs": [
    {
     "data": {
      "text/plain": [
       "3.0"
      ]
     },
     "execution_count": 21,
     "metadata": {},
     "output_type": "execute_result"
    }
   ],
   "source": [
    "9 ** 0.5"
   ]
  },
  {
   "cell_type": "markdown",
   "metadata": {
    "id": "KYggvF3ctoeb"
   },
   "source": [
    "이제부터 파이썬 프로그램을 구성하는 명령문의 기본 요소를 하나씩 살펴보자."
   ]
  },
  {
   "cell_type": "markdown",
   "metadata": {
    "id": "Uhq_byMptoec"
   },
   "source": [
    "## 변수와 변수 선언"
   ]
  },
  {
   "cell_type": "markdown",
   "metadata": {
    "id": "-tzIZ9-Ftoec"
   },
   "source": [
    "값을 저장해 두고 필요할 때 재활용하려면 저장된 값을 특정 이름과 연결시켜주어야 한다.\n",
    "그러면 아무리 크고 복잡한 값이라 하더라고 해당 값을 가리키는 이름으로 간단하게 다룰 수 있다.\n",
    "이렇게 특정 값을 가리키는 이름이 __변수__(variables)이며, \n",
    "값과 변수를 연결시키는 작업이 __변수 선언__이다."
   ]
  },
  {
   "cell_type": "markdown",
   "metadata": {
    "id": "UYaUfhNCtoec"
   },
   "source": [
    "### 변수 이름"
   ]
  },
  {
   "cell_type": "markdown",
   "metadata": {
    "id": "lY_ZaduMtoec"
   },
   "source": [
    "변수 이름은 아래 세 가지 규칙을 따라야 한다.\n",
    "\n",
    "* 영어 알파벳(`a-z,A-Z`), 숫자(`0-9`), 밑줄 기호(`_`)의 임의의 조합\n",
    "* 숫자로 시작할 수 없음.\n",
    "* 예약어 사용 불가\n",
    "    * def\n",
    "    * import\n",
    "    * from\n",
    "    * pass\n",
    "    * break\n",
    "    * continue\n",
    "    * 등등\n",
    "* '-', '+', '*','/' 등의 연산자 기호 사용 불가\n",
    "* '@', '$', '?', 쉼표, 공백 등 사용 불가"
   ]
  },
  {
   "cell_type": "markdown",
   "metadata": {
    "id": "HwQxhsoctoec"
   },
   "source": [
    "#### 대소문자 구분"
   ]
  },
  {
   "cell_type": "markdown",
   "metadata": {
    "id": "PEVr9YMDtoec"
   },
   "source": [
    "변수 이름은 대소문자를 구분한다.\n",
    "예를 들어, 'YOU', 'you', 'You', 'yOu'는 모두 다른 이름으로 처리된다. "
   ]
  },
  {
   "cell_type": "markdown",
   "metadata": {
    "id": "7N16HW8Qtoec"
   },
   "source": [
    "### 변수 선언"
   ]
  },
  {
   "cell_type": "markdown",
   "metadata": {
    "id": "r2V0g1DRtoec"
   },
   "source": [
    "__변수__가 특정한 값을 가리키도록 하는 것을 __변수 선언__이라 하며\n",
    "아래 양식을 따른다.\n",
    "\n",
    "```python\n",
    "변수 = 값\n",
    "```\n",
    "\n",
    "예를 들어, 변수 `a_number`는 정수 2를,\n",
    "변수 `a_word`는 `dog`라는 문자열을 가리키도록 하려면 아래와 같이 두 개의 명령문을 작성한다.\n",
    "\n",
    "__참고:__ 여러 개의 명령문은 기본적으로 줄바꿈으로 구분된다. \n",
    "파이썬은 줄바꿈과 들여쓰기가 명령문 작성 문법의 일부이다. "
   ]
  },
  {
   "cell_type": "code",
   "execution_count": 22,
   "metadata": {
    "id": "hnSRALqTtoed"
   },
   "outputs": [],
   "source": [
    "a_number = 2\n",
    "a_word = 'dog'"
   ]
  },
  {
   "cell_type": "markdown",
   "metadata": {
    "id": "1XXtJXsgtoed"
   },
   "source": [
    "변수가 가리키는 값을 확인하려면 변수 이름을 입력하고 실행하면 된다."
   ]
  },
  {
   "cell_type": "code",
   "execution_count": 23,
   "metadata": {
    "id": "4ArMuq5Mtoed",
    "outputId": "cabfb46f-fe96-4356-955e-9c3d62cdcd23"
   },
   "outputs": [
    {
     "data": {
      "text/plain": [
       "2"
      ]
     },
     "execution_count": 23,
     "metadata": {},
     "output_type": "execute_result"
    }
   ],
   "source": [
    "a_number"
   ]
  },
  {
   "cell_type": "code",
   "execution_count": 24,
   "metadata": {
    "id": "FVtrWaYAtoed",
    "outputId": "c93b6dba-5be1-4c5a-e874-230839766541"
   },
   "outputs": [
    {
     "data": {
      "text/plain": [
       "'dog'"
      ]
     },
     "execution_count": 24,
     "metadata": {},
     "output_type": "execute_result"
    }
   ],
   "source": [
    "a_word"
   ]
  },
  {
   "cell_type": "markdown",
   "metadata": {
    "id": "qpoOxr3Ptoed"
   },
   "source": [
    "`print()` 함수를 이용할 수도 있다."
   ]
  },
  {
   "cell_type": "code",
   "execution_count": 25,
   "metadata": {
    "id": "VuPqThhEtoed",
    "outputId": "16911a5a-0d8f-476d-8b68-beb8fc1fb6a7"
   },
   "outputs": [
    {
     "name": "stdout",
     "output_type": "stream",
     "text": [
      "2\n"
     ]
    }
   ],
   "source": [
    "print(a_number)"
   ]
  },
  {
   "cell_type": "code",
   "execution_count": 26,
   "metadata": {
    "id": "ss--ps3ptoed",
    "outputId": "36652b21-810c-4682-bb63-e5ee5c24f920"
   },
   "outputs": [
    {
     "name": "stdout",
     "output_type": "stream",
     "text": [
      "dog\n"
     ]
    }
   ],
   "source": [
    "print(a_word)"
   ]
  },
  {
   "cell_type": "markdown",
   "metadata": {
    "id": "bJ_-ImThtoed"
   },
   "source": [
    "변수가 가리키는 값을 변경할 수 있다.  "
   ]
  },
  {
   "cell_type": "code",
   "execution_count": 27,
   "metadata": {
    "id": "YlLjwNUotoee",
    "outputId": "e229a68d-a19f-459c-e394-b693f1ab0f1b"
   },
   "outputs": [
    {
     "data": {
      "text/plain": [
       "5"
      ]
     },
     "execution_count": 27,
     "metadata": {},
     "output_type": "execute_result"
    }
   ],
   "source": [
    "a_number = 5\n",
    "\n",
    "a_number"
   ]
  },
  {
   "cell_type": "markdown",
   "metadata": {
    "id": "qg3yfWV8toee"
   },
   "source": [
    "### 변수의 자료형"
   ]
  },
  {
   "cell_type": "markdown",
   "metadata": {
    "id": "u8YMoYJXtoee"
   },
   "source": [
    "파이썬에서 사용되는 모든 값은 특정 __자료형__(data type)에 속한다.\n",
    "지금까지 다룬 값들의 자료형은 다음과 같다. \n",
    "파이썬에서 기본으로 제공하는 이외에 더 많이 있으며 앞으로 차차 만나게 될 것이다.\n",
    "\n",
    "| 자료형 | 예제 |\n",
    "|---|---|\n",
    "| `int` | 2, 3 등의 정수 |\n",
    "| `float` | 1.2, 5.0 등의 유리수 |\n",
    "| `str` | `\"dog\"`, `\"python\"` 등의 문자열|"
   ]
  },
  {
   "cell_type": "markdown",
   "metadata": {
    "id": "chIVMCWOtoee"
   },
   "source": [
    "변수의 자료형은 변수가 가리키는 값의 자료형으로 지정된다.\n",
    "변수의 자료형은 `type()` 함수를 이용하여 확인할 수 있다."
   ]
  },
  {
   "cell_type": "code",
   "execution_count": 28,
   "metadata": {
    "id": "oTXZPkaptoee",
    "outputId": "6f54d119-6c05-44f1-99fa-67abb47a402f"
   },
   "outputs": [
    {
     "data": {
      "text/plain": [
       "int"
      ]
     },
     "execution_count": 28,
     "metadata": {},
     "output_type": "execute_result"
    }
   ],
   "source": [
    "type(a_number)"
   ]
  },
  {
   "cell_type": "code",
   "execution_count": 29,
   "metadata": {
    "id": "qXMB_VzEtoee",
    "outputId": "78f5a43b-4014-486d-b5d3-ab10089a1f0c"
   },
   "outputs": [
    {
     "data": {
      "text/plain": [
       "str"
      ]
     },
     "execution_count": 29,
     "metadata": {},
     "output_type": "execute_result"
    }
   ],
   "source": [
    "type(a_word)"
   ]
  },
  {
   "cell_type": "markdown",
   "metadata": {
    "id": "I89D0DO1toee"
   },
   "source": [
    "변수가 가리키는 값이 변경되면 변수의 자료형도 함께 변경된다."
   ]
  },
  {
   "cell_type": "code",
   "execution_count": 30,
   "metadata": {
    "id": "k69F2_gFtoef"
   },
   "outputs": [],
   "source": [
    "a_number = 5.0"
   ]
  },
  {
   "cell_type": "code",
   "execution_count": 31,
   "metadata": {
    "id": "2MFm4btgtoef",
    "outputId": "4db794cd-84f7-49ea-b4eb-24270286226b"
   },
   "outputs": [
    {
     "data": {
      "text/plain": [
       "float"
      ]
     },
     "execution_count": 31,
     "metadata": {},
     "output_type": "execute_result"
    }
   ],
   "source": [
    "type(a_number)"
   ]
  },
  {
   "cell_type": "markdown",
   "metadata": {
    "id": "f7SOwvZvtoef"
   },
   "source": [
    "### 변수 관련 주의사항"
   ]
  },
  {
   "cell_type": "markdown",
   "metadata": {
    "id": "XfuAgXCntoef"
   },
   "source": [
    "파이썬 코드를 작성하면 `float`, `int`, `print`, `type`와 같은 단어는 녹색으로 표기된다.\n",
    "이는 그 단어들이 파이썬에서 특별한 역할을 수행하는 함수의 이름이기 때문이다. \n",
    "그런 함수 이름을 변수로 사용할 수 있지만, 그렇게 되면\n",
    "기존 함수의 정의가 변경될 수 있기 때문에 특별한 이유가 없다면 \n",
    "변수로 사용하지 말아야 한다.\n",
    "\n",
    "예를 들어, 아래 코드는 `print`를 정수 4를 가리키는 변수로 선언한다.\n",
    "\n",
    "```python\n",
    "print = 4\n",
    "```\n",
    "\n",
    "그러면 `print()` 함수의 본래 기능이 사라져서 더 이상 사용할 수 없다."
   ]
  },
  {
   "cell_type": "markdown",
   "metadata": {
    "id": "xrcF1I_gtoef"
   },
   "source": [
    "## 연산"
   ]
  },
  {
   "cell_type": "markdown",
   "metadata": {
    "id": "Oo66VyGNtoef"
   },
   "source": [
    "변수를 연산에 직접 사용할 수 있다."
   ]
  },
  {
   "cell_type": "code",
   "execution_count": 32,
   "metadata": {
    "id": "-PhARLUjtoef",
    "outputId": "6f6fe265-4da7-48a6-cd5a-ad1a922ba537"
   },
   "outputs": [
    {
     "data": {
      "text/plain": [
       "12.0"
      ]
     },
     "execution_count": 32,
     "metadata": {},
     "output_type": "execute_result"
    }
   ],
   "source": [
    "a_number + 7"
   ]
  },
  {
   "cell_type": "code",
   "execution_count": 33,
   "metadata": {
    "id": "Gnty_R4Rtoef",
    "outputId": "c59cc1d9-7ec9-47ce-f60b-af281599593e"
   },
   "outputs": [
    {
     "data": {
      "text/plain": [
       "6.0"
      ]
     },
     "execution_count": 33,
     "metadata": {},
     "output_type": "execute_result"
    }
   ],
   "source": [
    "(a_number * 6.0) / 5"
   ]
  },
  {
   "cell_type": "markdown",
   "metadata": {
    "id": "qHsJn0oLtoeg"
   },
   "source": [
    "연산의 결과를 다른 변수에 지정할 수 있다."
   ]
  },
  {
   "cell_type": "code",
   "execution_count": 34,
   "metadata": {
    "id": "SUUNU62wtoeg"
   },
   "outputs": [],
   "source": [
    "first_result = 8 / 3.5"
   ]
  },
  {
   "cell_type": "markdown",
   "metadata": {
    "id": "JVE1yguqtoeg"
   },
   "source": [
    "새롭게 선언된 변수는 표현식의 연산 결과를 가리킨다."
   ]
  },
  {
   "cell_type": "code",
   "execution_count": 35,
   "metadata": {
    "id": "ypw1c7X4toeg",
    "outputId": "abd74a66-678a-49ee-982a-2b512eef22c0"
   },
   "outputs": [
    {
     "data": {
      "text/plain": [
       "2.2857142857142856"
      ]
     },
     "execution_count": 35,
     "metadata": {},
     "output_type": "execute_result"
    }
   ],
   "source": [
    "first_result"
   ]
  },
  {
   "cell_type": "markdown",
   "metadata": {
    "id": "u1laeBKytoeg"
   },
   "source": [
    "### 문자열 연산"
   ]
  },
  {
   "cell_type": "markdown",
   "metadata": {
    "id": "N-EkB-Y5toeg"
   },
   "source": [
    "두 개의 문자열을 이어붙이거나 지정된 횟수만큼 복제해서 이어붙일 수 있다.\n",
    "사용되는 연산자는 덧셈 기호와 곱셈 기호이다."
   ]
  },
  {
   "cell_type": "code",
   "execution_count": 36,
   "metadata": {
    "id": "PAEr7cBDtoeh",
    "outputId": "2fd75ed2-5b44-4ec3-82a1-006561b1e2d9"
   },
   "outputs": [
    {
     "data": {
      "text/plain": [
       "'Bull dog'"
      ]
     },
     "execution_count": 36,
     "metadata": {},
     "output_type": "execute_result"
    }
   ],
   "source": [
    "\"Bull \" + a_word"
   ]
  },
  {
   "cell_type": "code",
   "execution_count": 37,
   "metadata": {
    "id": "PvQ_Z2Zwtoeh",
    "outputId": "15a05484-44b5-46e0-fb39-1224fa828ef8"
   },
   "outputs": [
    {
     "data": {
      "text/plain": [
       "'dogdog'"
      ]
     },
     "execution_count": 37,
     "metadata": {},
     "output_type": "execute_result"
    }
   ],
   "source": [
    "a_word * 2"
   ]
  },
  {
   "cell_type": "markdown",
   "metadata": {
    "id": "m9Y604wCtoeh"
   },
   "source": [
    "반면에 문자열과 숫자의 덧셈은 허용되지 않는다.\n",
    "아래 코드를 실행하면 오류가 발생한다.\n",
    "\n",
    "__참고:__ 오류가 발생하면 발생 오류의 정보가 함께 표기된다.\n",
    "일단은 맨 밑줄 앞부분에 있는 `TypeError`가 연산에 사용되는 인자의 자료형이 잘못되었다는 \n",
    "의미라는 정도만 기억하자."
   ]
  },
  {
   "cell_type": "code",
   "execution_count": 38,
   "metadata": {
    "id": "GsSZv6hTtoeh",
    "outputId": "dac01dd2-2d10-40e7-de93-aff43321e420"
   },
   "outputs": [
    {
     "ename": "TypeError",
     "evalue": "unsupported operand type(s) for +: 'float' and 'str'",
     "output_type": "error",
     "traceback": [
      "\u001b[0;31m---------------------------------------------------------------------------\u001b[0m",
      "\u001b[0;31mTypeError\u001b[0m                                 Traceback (most recent call last)",
      "\u001b[0;32m/tmp/ipykernel_1859/2903806426.py\u001b[0m in \u001b[0;36m<module>\u001b[0;34m\u001b[0m\n\u001b[0;32m----> 1\u001b[0;31m \u001b[0ma_number\u001b[0m \u001b[0;34m+\u001b[0m \u001b[0ma_word\u001b[0m\u001b[0;34m\u001b[0m\u001b[0;34m\u001b[0m\u001b[0m\n\u001b[0m",
      "\u001b[0;31mTypeError\u001b[0m: unsupported operand type(s) for +: 'float' and 'str'"
     ]
    }
   ],
   "source": [
    "a_number + a_word"
   ]
  },
  {
   "cell_type": "markdown",
   "metadata": {
    "id": "9hDHm9SQtoei"
   },
   "source": [
    "### 연산자 우선순위"
   ]
  },
  {
   "cell_type": "markdown",
   "metadata": {
    "id": "B8Wd_Nmmtoei"
   },
   "source": [
    "일반적으로 알려진 연산자들 사이의 우선순위가 그대로 사용된다.\n",
    "\n",
    "```python\n",
    "괄호 >> 지수승 >> 곱셈, 나눗셈, 몫, 나머지 >> 덧셈, 뺄셈\n",
    "```"
   ]
  },
  {
   "cell_type": "code",
   "execution_count": null,
   "metadata": {
    "id": "n1xPFJAZtoei",
    "outputId": "1c15880a-a50c-4e69-a43d-d8d3551521b8"
   },
   "outputs": [
    {
     "data": {
      "text/plain": [
       "4"
      ]
     },
     "execution_count": 39,
     "metadata": {},
     "output_type": "execute_result"
    }
   ],
   "source": [
    "2 * 3 - 2"
   ]
  },
  {
   "cell_type": "code",
   "execution_count": null,
   "metadata": {
    "id": "I2hl38aqtoei",
    "outputId": "05a327fd-33b4-4d29-82ff-fad9e5914215"
   },
   "outputs": [
    {
     "data": {
      "text/plain": [
       "4"
      ]
     },
     "execution_count": 40,
     "metadata": {},
     "output_type": "execute_result"
    }
   ],
   "source": [
    "(2 * 3) - 2"
   ]
  },
  {
   "cell_type": "code",
   "execution_count": null,
   "metadata": {
    "id": "EVkFZrg-toei",
    "outputId": "a0d362f3-71f5-4f06-b874-26c2ef0f09b1"
   },
   "outputs": [
    {
     "data": {
      "text/plain": [
       "2"
      ]
     },
     "execution_count": 41,
     "metadata": {},
     "output_type": "execute_result"
    }
   ],
   "source": [
    "2 * (3 - 2)"
   ]
  },
  {
   "cell_type": "code",
   "execution_count": null,
   "metadata": {
    "id": "tilOts0ltoei",
    "outputId": "78bc3aa0-bbe9-4501-dfe9-f3c4bc7bcb62"
   },
   "outputs": [
    {
     "data": {
      "text/plain": [
       "4"
      ]
     },
     "execution_count": 42,
     "metadata": {},
     "output_type": "execute_result"
    }
   ],
   "source": [
    "-2 + 2 * 3"
   ]
  },
  {
   "cell_type": "code",
   "execution_count": null,
   "metadata": {
    "id": "ZG3X2GnBtoei",
    "outputId": "71ec9613-884e-44c0-f8ca-1d25bf612746"
   },
   "outputs": [
    {
     "data": {
      "text/plain": [
       "4"
      ]
     },
     "execution_count": 43,
     "metadata": {},
     "output_type": "execute_result"
    }
   ],
   "source": [
    "-2 + (2 * 3)"
   ]
  },
  {
   "cell_type": "code",
   "execution_count": null,
   "metadata": {
    "id": "UfDvtv3etoei",
    "outputId": "38d7b57c-1a44-45c0-9916-15f9ab6e1a2f"
   },
   "outputs": [
    {
     "data": {
      "text/plain": [
       "0"
      ]
     },
     "execution_count": 44,
     "metadata": {},
     "output_type": "execute_result"
    }
   ],
   "source": [
    "(-2 + 2) * 3"
   ]
  },
  {
   "cell_type": "code",
   "execution_count": null,
   "metadata": {
    "id": "-SG0qVjftoej",
    "outputId": "59db0c52-eba8-4cec-b4d1-31d42d8ec63c"
   },
   "outputs": [
    {
     "data": {
      "text/plain": [
       "-1"
      ]
     },
     "execution_count": 45,
     "metadata": {},
     "output_type": "execute_result"
    }
   ],
   "source": [
    "-2 + 4 % 3"
   ]
  },
  {
   "cell_type": "code",
   "execution_count": null,
   "metadata": {
    "id": "vim3dp-Rtoej",
    "outputId": "fcde19c4-d7f9-41ac-ed5d-e0b6d436b0de"
   },
   "outputs": [
    {
     "data": {
      "text/plain": [
       "-1"
      ]
     },
     "execution_count": 46,
     "metadata": {},
     "output_type": "execute_result"
    }
   ],
   "source": [
    "-2 + (4 % 3)"
   ]
  },
  {
   "cell_type": "code",
   "execution_count": null,
   "metadata": {
    "id": "q8ujJyQntoej",
    "outputId": "091e3eed-9bac-42ca-f58b-a756edffdd59"
   },
   "outputs": [
    {
     "data": {
      "text/plain": [
       "2"
      ]
     },
     "execution_count": 47,
     "metadata": {},
     "output_type": "execute_result"
    }
   ],
   "source": [
    "(-2 + 4) % 3"
   ]
  },
  {
   "cell_type": "code",
   "execution_count": null,
   "metadata": {
    "id": "2VVx6NtPtoej",
    "outputId": "4905f07b-c2c9-4261-a7a3-d6853062ff5d"
   },
   "outputs": [
    {
     "data": {
      "text/plain": [
       "2.3"
      ]
     },
     "execution_count": 48,
     "metadata": {},
     "output_type": "execute_result"
    }
   ],
   "source": [
    ".3 + 5 // 2"
   ]
  },
  {
   "cell_type": "code",
   "execution_count": null,
   "metadata": {
    "id": "6DYaEbp4toej",
    "outputId": "9d365a33-c95e-4721-e1c5-f9538682c5b2"
   },
   "outputs": [
    {
     "data": {
      "text/plain": [
       "2.3"
      ]
     },
     "execution_count": 49,
     "metadata": {},
     "output_type": "execute_result"
    }
   ],
   "source": [
    ".3 + (5 // 2)"
   ]
  },
  {
   "cell_type": "code",
   "execution_count": null,
   "metadata": {
    "id": "8n8FQm5ftoej",
    "outputId": "3e62ec68-7b77-4c5e-a545-24148aa8f897"
   },
   "outputs": [
    {
     "data": {
      "text/plain": [
       "2.0"
      ]
     },
     "execution_count": 50,
     "metadata": {},
     "output_type": "execute_result"
    }
   ],
   "source": [
    "(.3 + 5) // 2"
   ]
  },
  {
   "cell_type": "code",
   "execution_count": null,
   "metadata": {
    "id": "bzweOAjvtoej",
    "outputId": "960e8963-6a06-4370-c598-43bf1bfedc4c"
   },
   "outputs": [
    {
     "data": {
      "text/plain": [
       "8"
      ]
     },
     "execution_count": 51,
     "metadata": {},
     "output_type": "execute_result"
    }
   ],
   "source": [
    "2 ** 4 // 2"
   ]
  },
  {
   "cell_type": "code",
   "execution_count": null,
   "metadata": {
    "id": "2dMlpWXdtoej",
    "outputId": "a2eec577-f502-4370-a465-e9fbb2d127f6"
   },
   "outputs": [
    {
     "data": {
      "text/plain": [
       "8"
      ]
     },
     "execution_count": 52,
     "metadata": {},
     "output_type": "execute_result"
    }
   ],
   "source": [
    "(2 ** 4) // 2"
   ]
  },
  {
   "cell_type": "code",
   "execution_count": null,
   "metadata": {
    "id": "HLZBf_Kutoek",
    "outputId": "8928b2d8-23fd-45ad-9396-45bdc01dd72d"
   },
   "outputs": [
    {
     "data": {
      "text/plain": [
       "4"
      ]
     },
     "execution_count": 53,
     "metadata": {},
     "output_type": "execute_result"
    }
   ],
   "source": [
    "2 ** (4 // 2)"
   ]
  },
  {
   "cell_type": "markdown",
   "metadata": {
    "id": "UuURm0rUtoek"
   },
   "source": [
    "우선순위가 같은 연산자가 연속으로 사용되면 왼편에 위치한 연산자가 먼저 계산된다."
   ]
  },
  {
   "cell_type": "code",
   "execution_count": null,
   "metadata": {
    "id": "YmI9Nk3Htoek",
    "outputId": "660cfe95-27c3-4030-f6e9-d919e3245c66"
   },
   "outputs": [
    {
     "data": {
      "text/plain": [
       "1"
      ]
     },
     "execution_count": 54,
     "metadata": {},
     "output_type": "execute_result"
    }
   ],
   "source": [
    "2 * 3 % 5"
   ]
  },
  {
   "cell_type": "code",
   "execution_count": null,
   "metadata": {
    "id": "kOt9-Tvttoek",
    "outputId": "65d9d7f2-184c-491c-947c-aea0fa230f32"
   },
   "outputs": [
    {
     "data": {
      "text/plain": [
       "1"
      ]
     },
     "execution_count": 55,
     "metadata": {},
     "output_type": "execute_result"
    }
   ],
   "source": [
    "(2 * 3) % 5"
   ]
  },
  {
   "cell_type": "code",
   "execution_count": null,
   "metadata": {
    "id": "DxWiEXKCtoek",
    "outputId": "58bb82be-2b7a-4c5c-93d5-50f642a45b5d"
   },
   "outputs": [
    {
     "data": {
      "text/plain": [
       "6"
      ]
     },
     "execution_count": 56,
     "metadata": {},
     "output_type": "execute_result"
    }
   ],
   "source": [
    "2 * (3 % 5)"
   ]
  },
  {
   "cell_type": "markdown",
   "metadata": {
    "collapsed": true,
    "id": "O027uY_Etoek"
   },
   "source": [
    "## 스칼라 자료형 1편"
   ]
  },
  {
   "cell_type": "markdown",
   "metadata": {
    "collapsed": true,
    "id": "9o6bO3LZtoek"
   },
   "source": [
    "파이썬에서 기본으로 제공하는 자료형 중에서 가장 기본적으로 사용되는 자료형 세 개를 소개한다. \n",
    "\n",
    "* 정수(`int`)\n",
    "* 부동소수점(`float`)\n",
    "* 부울 값(`bool`)\n",
    "\n",
    "세 자료형 모두 단일한 값의 자료형이라는 의미에서 __스칼라__ 자료형이라 부른다.\n",
    "스칼라 자료형 2편에서 문자열, 날짜와 시간 등과 같은 다른 스칼라 자료형을 좀 더 살펴본다.\n",
    "\n",
    "__참고:__ 문자열은 언어에 따라 스칼라 자료형이 아닐 수도 있다.\n",
    "예를 들어, C 언어는 문자열을 문자로 이루어진 어레이로 정의되기에\n",
    "스칼라 자료형이라 말하기 어렵다.\n",
    "스칼라 자료형이 아니면서 파이썬에서 기본으로 제공하는 모음 자료형(collections)은 나중에 소개한다."
   ]
  },
  {
   "cell_type": "markdown",
   "metadata": {
    "id": "eI_s2bWDtoek"
   },
   "source": [
    "### 정수: `int`"
   ]
  },
  {
   "cell_type": "markdown",
   "metadata": {
    "id": "2le9zXMztoek"
   },
   "source": [
    "일반적으로 알고 있는 정수(자연수, 0, 음의 정수)들의 자료형이며,\n",
    "앞서 살펴보았듯이 덧셈, 뺄셈, 곱셈, 나눗셈 등의 일반 연산이 가능하다.\n",
    "정수 자료형은 `int`로 표기한다."
   ]
  },
  {
   "cell_type": "code",
   "execution_count": null,
   "metadata": {
    "id": "gAlLw-RQtoel",
    "outputId": "c062a061-f4a9-4ff9-9804-2318ee447431"
   },
   "outputs": [
    {
     "data": {
      "text/plain": [
       "26254519291092456596965462913230729701102721"
      ]
     },
     "execution_count": 1,
     "metadata": {},
     "output_type": "execute_result"
    }
   ],
   "source": [
    "ival = 17239871\n",
    "\n",
    "ival ** 6  # ival의 6승"
   ]
  },
  {
   "cell_type": "markdown",
   "metadata": {
    "id": "xhHW-a3ytoel"
   },
   "source": [
    "### 부동소수점: `float`"
   ]
  },
  {
   "cell_type": "markdown",
   "metadata": {
    "id": "Pe2XgEU4toel"
   },
   "source": [
    "부동소수점(floating-point)은 원래 실수를 컴퓨터에서 다루기 위해 개발되었으나 실제로는 유리수 일부만을 다룬다. \n",
    "예를 들어, 무리수인 원주율 $\\pi$의 경우에도 유한한 값만 다룰 수 있는 \n",
    "컴퓨터 자체의 한계로 인해 소수점 이하 적당한 자리에서 끊어서 사용한다. "
   ]
  },
  {
   "cell_type": "code",
   "execution_count": null,
   "metadata": {
    "id": "mfTLuAdctoel",
    "outputId": "442106a9-3569-423c-a32d-2a3477855286"
   },
   "outputs": [
    {
     "data": {
      "text/plain": [
       "3.141592653589793"
      ]
     },
     "execution_count": 57,
     "metadata": {},
     "output_type": "execute_result"
    }
   ],
   "source": [
    "pi = 3.141592653589793\n",
    "pi"
   ]
  },
  {
   "cell_type": "markdown",
   "metadata": {
    "id": "JF4jAR8Btoel"
   },
   "source": [
    "#### 과학 표기법"
   ]
  },
  {
   "cell_type": "markdown",
   "metadata": {
    "id": "oIvc3esLtoel"
   },
   "source": [
    "과학 표기법도 사용할 수 있다."
   ]
  },
  {
   "cell_type": "code",
   "execution_count": null,
   "metadata": {
    "id": "E1Zk0-lztoel",
    "outputId": "0d0e1ad1-a9d0-457a-ecb8-546c1817e8e2"
   },
   "outputs": [
    {
     "data": {
      "text/plain": [
       "6.78e-05"
      ]
     },
     "execution_count": 58,
     "metadata": {},
     "output_type": "execute_result"
    }
   ],
   "source": [
    "fval = 6.78e-5\n",
    "\n",
    "fval"
   ]
  },
  {
   "cell_type": "markdown",
   "metadata": {
    "id": "uoWJPNNitoem"
   },
   "source": [
    "#### 부동소수점 연산 주의사항"
   ]
  },
  {
   "cell_type": "markdown",
   "metadata": {
    "id": "pnQbQNN-toem"
   },
   "source": [
    "부동소수점 연산은 아래 예제에서 보듯이 매우 조심해야 한다."
   ]
  },
  {
   "cell_type": "code",
   "execution_count": null,
   "metadata": {
    "id": "T6LNWbUftoem",
    "outputId": "cb153e1b-b4e0-48a5-a54f-b162810b3d8a"
   },
   "outputs": [
    {
     "data": {
      "text/plain": [
       "0.30000000000000004"
      ]
     },
     "execution_count": 59,
     "metadata": {},
     "output_type": "execute_result"
    }
   ],
   "source": [
    "0.1 + 0.2"
   ]
  },
  {
   "cell_type": "markdown",
   "metadata": {
    "id": "m5K9Wffktoem"
   },
   "source": [
    "위와 같은 현상은 파이썬의 한계가 아니라,\n",
    "컴퓨터에서 부동소수점을 다루는 매우 복잡하면서 불완전한 방식 때문에 발생한다.\n",
    "왜 이런 문제가 발생하는가를 이해하는 일은 쉽지 않다.\n",
    "다만, 부동소수점 연산을 매우 조심스럽게 다루어야 한다는 점은 기억해 두어야 한다.\n",
    "여기서는 부동소수점 연산을 거의 다루지 않는다."
   ]
  },
  {
   "cell_type": "markdown",
   "metadata": {
    "id": "Dr-6Bvdftoem"
   },
   "source": [
    "### 부울 값: `bool`"
   ]
  },
  {
   "cell_type": "markdown",
   "metadata": {
    "id": "tvhItgvwtoem"
   },
   "source": [
    "부울 자료형에는 아래 두 개의 값만 포함된다.\n",
    "\n",
    "* `True`\n",
    "* `False`\n",
    "\n",
    "이 두 개의 값만을 이용하여 복잡한 프로그램을 구현할 수 있다."
   ]
  },
  {
   "cell_type": "markdown",
   "metadata": {
    "id": "MZSWQSYVtoem"
   },
   "source": [
    "#### 예제\n",
    "\n",
    "강아지를 한 마리만 갖고 있다고 가정하자. \n",
    "이것을 표현하기 위해 puppy(강아지 한마리)라는 변수에 True를 할당하고, 여러 마리의 강아지를 뜻하는 puppies 변수에는 False를 할당한다."
   ]
  },
  {
   "cell_type": "code",
   "execution_count": null,
   "metadata": {
    "id": "u8Tqnfhqtoem",
    "outputId": "9647b778-987b-4f6a-ceea-a5a19c310e45"
   },
   "outputs": [
    {
     "data": {
      "text/plain": [
       "True"
      ]
     },
     "execution_count": 60,
     "metadata": {},
     "output_type": "execute_result"
    }
   ],
   "source": [
    "puppy = True\n",
    "\n",
    "puppy"
   ]
  },
  {
   "cell_type": "code",
   "execution_count": null,
   "metadata": {
    "id": "tbom-Hydtoen",
    "outputId": "19cba7f7-6f3b-4e0f-c9ba-7d253eb939ea"
   },
   "outputs": [
    {
     "data": {
      "text/plain": [
       "bool"
      ]
     },
     "execution_count": 61,
     "metadata": {},
     "output_type": "execute_result"
    }
   ],
   "source": [
    "type(puppy)"
   ]
  },
  {
   "cell_type": "code",
   "execution_count": null,
   "metadata": {
    "id": "Y3QBoYN5toen"
   },
   "outputs": [],
   "source": [
    "puppies = False"
   ]
  },
  {
   "cell_type": "markdown",
   "metadata": {
    "id": "zILqhINVtoen"
   },
   "source": [
    "두 개의 변수 선언을 아래와 같이 동시에 할 수 있다. 등호기호 왼편과 오른편에 사용되는 변수와 값의 개수가 동일해야 함에 주의한다."
   ]
  },
  {
   "cell_type": "code",
   "execution_count": null,
   "metadata": {
    "id": "_7xWPgt7toen"
   },
   "outputs": [],
   "source": [
    "puppy, puppies = True, False"
   ]
  },
  {
   "cell_type": "code",
   "execution_count": null,
   "metadata": {
    "id": "uc5Ua25_toen",
    "outputId": "5e357ea9-58c0-414c-c776-2a96101da494"
   },
   "outputs": [
    {
     "name": "stdout",
     "output_type": "stream",
     "text": [
      "강아지가 있나요? True\n",
      "여러 마리 강아지인가요? False\n"
     ]
    }
   ],
   "source": [
    "print(\"강아지가 있나요?\", puppy)\n",
    "print(\"여러 마리 강아지인가요?\", puppies)"
   ]
  },
  {
   "cell_type": "markdown",
   "metadata": {
    "id": "BBFg151ytoen"
   },
   "source": [
    "__주의사항:__ 위에서 사용된 `print()` 함수의 사용법을 기억해둔다. \n",
    "`print()` 함수는 인자를 여러 개 받을 수 있으며 그 값들을 동시에 한 줄에 출력한다. \n",
    "각각의 값은 공백 문자(space)로 구분된다."
   ]
  },
  {
   "cell_type": "markdown",
   "metadata": {
    "id": "Z-sBX9hqtoen"
   },
   "source": [
    "#### 숫자 비교\n",
    "\n",
    "일반적으로 사용하는 숫자들의 비교를 나타내는 연산자들은 다음과 같다. 결과는 모두 부울 자료형이다.\n",
    "\n",
    "* `!=`: 다른지 여부를 판단\n",
    "* `==`: 같은지 여부를 판단\n",
    "* `<=`: 작거나 같은지 여부를 판단\n",
    "* `>=`: 크거나 같은지 여부를 판단\n",
    "* `<`: 작은지 여부를 판단\n",
    "* `>`: 큰지 여부를 판단"
   ]
  },
  {
   "cell_type": "code",
   "execution_count": null,
   "metadata": {
    "id": "S_Z_a3CYtoen",
    "outputId": "83497015-326b-4ea4-e69c-2ff77b4824d4"
   },
   "outputs": [
    {
     "data": {
      "text/plain": [
       "True"
      ]
     },
     "execution_count": 65,
     "metadata": {},
     "output_type": "execute_result"
    }
   ],
   "source": [
    "4 == 4"
   ]
  },
  {
   "cell_type": "code",
   "execution_count": null,
   "metadata": {
    "id": "Ppr94Oq5toen",
    "outputId": "62086244-b0aa-4059-a854-2589720ca488"
   },
   "outputs": [
    {
     "data": {
      "text/plain": [
       "False"
      ]
     },
     "execution_count": 66,
     "metadata": {},
     "output_type": "execute_result"
    }
   ],
   "source": [
    "4 == 5"
   ]
  },
  {
   "cell_type": "code",
   "execution_count": null,
   "metadata": {
    "id": "hmk-hGTMtoeo",
    "outputId": "e54e9fcd-1b69-40ce-c147-394d7b924d56"
   },
   "outputs": [
    {
     "data": {
      "text/plain": [
       "True"
      ]
     },
     "execution_count": 67,
     "metadata": {},
     "output_type": "execute_result"
    }
   ],
   "source": [
    "4 != 2"
   ]
  },
  {
   "cell_type": "code",
   "execution_count": null,
   "metadata": {
    "id": "Pq4W85uktoeo",
    "outputId": "cb3dc71d-ad10-4794-e462-bdc083438816"
   },
   "outputs": [
    {
     "data": {
      "text/plain": [
       "False"
      ]
     },
     "execution_count": 68,
     "metadata": {},
     "output_type": "execute_result"
    }
   ],
   "source": [
    "4 != 4"
   ]
  },
  {
   "cell_type": "code",
   "execution_count": null,
   "metadata": {
    "id": "p_myjvLAtoeo",
    "outputId": "b644f717-d7d1-437c-f7f8-ed3333f529a7"
   },
   "outputs": [
    {
     "data": {
      "text/plain": [
       "True"
      ]
     },
     "execution_count": 69,
     "metadata": {},
     "output_type": "execute_result"
    }
   ],
   "source": [
    "4 > 2"
   ]
  },
  {
   "cell_type": "code",
   "execution_count": null,
   "metadata": {
    "id": "s5bvZSKLtoeo",
    "outputId": "65d2809b-8ae9-4c59-c345-c8a00a7de4e9"
   },
   "outputs": [
    {
     "data": {
      "text/plain": [
       "False"
      ]
     },
     "execution_count": 70,
     "metadata": {},
     "output_type": "execute_result"
    }
   ],
   "source": [
    "4 > 4"
   ]
  },
  {
   "cell_type": "code",
   "execution_count": null,
   "metadata": {
    "id": "xd25we2Ttoeo",
    "outputId": "eb5b3cbb-4f6e-43da-a71a-36de0e2c3a3f"
   },
   "outputs": [
    {
     "data": {
      "text/plain": [
       "True"
      ]
     },
     "execution_count": 71,
     "metadata": {},
     "output_type": "execute_result"
    }
   ],
   "source": [
    "4 >= 4"
   ]
  },
  {
   "cell_type": "markdown",
   "metadata": {
    "id": "PKS_pHV1toeo"
   },
   "source": [
    "#### 부울 연산자와 부울 표현식"
   ]
  },
  {
   "cell_type": "markdown",
   "metadata": {
    "id": "QcvwYtKBtoeo"
   },
   "source": [
    "`and`, `not`, `or` 세 개의 __부울 연산자__(Boolean operators)를 이용하여 부울 연산을 할 수 있다.\n",
    "각 연산자의 의미는 일반적으로 알려진 것과 동일하다."
   ]
  },
  {
   "cell_type": "code",
   "execution_count": null,
   "metadata": {
    "id": "vSlluslYtoeo",
    "outputId": "e3afb84b-91d2-455a-831a-a0c6180875f0"
   },
   "outputs": [
    {
     "data": {
      "text/plain": [
       "True"
      ]
     },
     "execution_count": 72,
     "metadata": {},
     "output_type": "execute_result"
    }
   ],
   "source": [
    "True and True"
   ]
  },
  {
   "cell_type": "code",
   "execution_count": null,
   "metadata": {
    "id": "_6b_KRNhtoep",
    "outputId": "2a9d5735-73db-43ab-eb56-8ce46b489d2a"
   },
   "outputs": [
    {
     "data": {
      "text/plain": [
       "False"
      ]
     },
     "execution_count": 73,
     "metadata": {},
     "output_type": "execute_result"
    }
   ],
   "source": [
    "True and False"
   ]
  },
  {
   "cell_type": "markdown",
   "metadata": {
    "id": "QJjT1Zu3toep"
   },
   "source": [
    "부울 자료형의 변수와 부울 연산자를 이용하여 다양한 표현식을 정의할 수 있다.\n",
    "__부울 표현식__(Boolean expressions)은 부울 값으로 계산되는 표현식을 가리킨다."
   ]
  },
  {
   "cell_type": "code",
   "execution_count": null,
   "metadata": {
    "id": "x__oD_OKtoep",
    "outputId": "bf4caa9e-fd1e-4498-d787-76c20f06b645"
   },
   "outputs": [
    {
     "data": {
      "text/plain": [
       "False"
      ]
     },
     "execution_count": 74,
     "metadata": {},
     "output_type": "execute_result"
    }
   ],
   "source": [
    "puppy and puppies"
   ]
  },
  {
   "cell_type": "code",
   "execution_count": null,
   "metadata": {
    "id": "si9rIECmtoep",
    "outputId": "b9d93b13-bdb3-4288-dbb4-89ee44c811d2"
   },
   "outputs": [
    {
     "data": {
      "text/plain": [
       "True"
      ]
     },
     "execution_count": 75,
     "metadata": {},
     "output_type": "execute_result"
    }
   ],
   "source": [
    "not puppies"
   ]
  },
  {
   "cell_type": "code",
   "execution_count": null,
   "metadata": {
    "id": "6URFkHGhtoep",
    "outputId": "99b50c8a-aed8-409c-fa80-f82b4ab95359"
   },
   "outputs": [
    {
     "data": {
      "text/plain": [
       "False"
      ]
     },
     "execution_count": 76,
     "metadata": {},
     "output_type": "execute_result"
    }
   ],
   "source": [
    "not puppy"
   ]
  },
  {
   "cell_type": "markdown",
   "metadata": {
    "id": "FWr2XYX-toep"
   },
   "source": [
    "#### 부울 연산자 우선순위"
   ]
  },
  {
   "cell_type": "markdown",
   "metadata": {
    "id": "MJd0G6dztoep"
   },
   "source": [
    "`not` 연산자의 우선순위가 가장 높고, `and`와 `or`은 동일한 우선순위를 갖는다.\n",
    "따라서 기본적으로 왼편에 위치한 연산자부터 차례대로 계산한다."
   ]
  },
  {
   "cell_type": "code",
   "execution_count": null,
   "metadata": {
    "id": "UAAqBsTRtoeq",
    "outputId": "c9b02ef2-6113-425f-98f0-7df643d1751c"
   },
   "outputs": [
    {
     "data": {
      "text/plain": [
       "True"
      ]
     },
     "execution_count": 77,
     "metadata": {},
     "output_type": "execute_result"
    }
   ],
   "source": [
    "puppy and not puppies"
   ]
  },
  {
   "cell_type": "code",
   "execution_count": null,
   "metadata": {
    "id": "aCf9jjn7toeq",
    "outputId": "3311fd2f-4beb-4577-c661-232f5e82846c"
   },
   "outputs": [
    {
     "data": {
      "text/plain": [
       "True"
      ]
     },
     "execution_count": 78,
     "metadata": {},
     "output_type": "execute_result"
    }
   ],
   "source": [
    "puppy and (not puppies)"
   ]
  },
  {
   "cell_type": "code",
   "execution_count": null,
   "metadata": {
    "id": "sCP2heGntoer",
    "outputId": "6a6c8bd8-9446-4050-84a0-b8e1c9f3738b"
   },
   "outputs": [
    {
     "data": {
      "text/plain": [
       "False"
      ]
     },
     "execution_count": 79,
     "metadata": {},
     "output_type": "execute_result"
    }
   ],
   "source": [
    "not puppy and puppies"
   ]
  },
  {
   "cell_type": "code",
   "execution_count": null,
   "metadata": {
    "id": "1Z1WO5jXtoer",
    "outputId": "8504bc67-2313-4d1d-abc2-8bb05ac25bb9"
   },
   "outputs": [
    {
     "data": {
      "text/plain": [
       "True"
      ]
     },
     "execution_count": 80,
     "metadata": {},
     "output_type": "execute_result"
    }
   ],
   "source": [
    "not (puppy and puppies)"
   ]
  },
  {
   "cell_type": "code",
   "execution_count": null,
   "metadata": {
    "id": "rO7_VPTUtoer"
   },
   "outputs": [],
   "source": [
    "cat = False"
   ]
  },
  {
   "cell_type": "code",
   "execution_count": null,
   "metadata": {
    "id": "ZgB9oOQatoer",
    "outputId": "9604f360-e4d5-4672-ff81-c148824f8428"
   },
   "outputs": [
    {
     "data": {
      "text/plain": [
       "True"
      ]
     },
     "execution_count": 82,
     "metadata": {},
     "output_type": "execute_result"
    }
   ],
   "source": [
    "cat and puppies or puppy"
   ]
  },
  {
   "cell_type": "code",
   "execution_count": null,
   "metadata": {
    "id": "tW-LCvPLtoer",
    "outputId": "fca51120-8c71-4963-d25a-75eed192113d"
   },
   "outputs": [
    {
     "data": {
      "text/plain": [
       "True"
      ]
     },
     "execution_count": 83,
     "metadata": {},
     "output_type": "execute_result"
    }
   ],
   "source": [
    "(cat and puppies) or puppy"
   ]
  },
  {
   "cell_type": "code",
   "execution_count": null,
   "metadata": {
    "id": "jprEclzntoer",
    "outputId": "2265ab98-c6f1-410a-80e8-77443b3c6ecd"
   },
   "outputs": [
    {
     "data": {
      "text/plain": [
       "False"
      ]
     },
     "execution_count": 84,
     "metadata": {},
     "output_type": "execute_result"
    }
   ],
   "source": [
    "cat and (puppies or puppy)"
   ]
  },
  {
   "cell_type": "markdown",
   "metadata": {
    "id": "59Kkmgqttoer"
   },
   "source": [
    "#### 부울 값과 `if` 조건문"
   ]
  },
  {
   "cell_type": "markdown",
   "metadata": {
    "id": "1VuE_WqPtoer"
   },
   "source": [
    "부울 값의 참/거짓 여부에 따라 다른 명령문을 실행하도록 하려면 `if` 조건문을 이용한다.\n",
    "기본 형식은 다음과 같다.\n",
    "\n",
    "```python\n",
    "if 부울표현식:\n",
    "    명령문1\n",
    "else:\n",
    "    명령문2\n",
    "``` \n",
    "\n",
    "* 부울표현식이 `True`로 계산될 때: 명령문1 실행\n",
    "* 부울표현식이 `False`로 계산될 때: 명령문2 실행"
   ]
  },
  {
   "cell_type": "markdown",
   "metadata": {
    "id": "nX2albTgtoes"
   },
   "source": [
    "__주의사항:__ 콜론 기호와 들여쓰기는 의무적으로 지켜야 하며 그렇지 않을 경우\n",
    "오류가 발생하거나 의도와 다른 결과를 얻을 수 있다."
   ]
  },
  {
   "cell_type": "markdown",
   "metadata": {
    "id": "mbkBJ-qwtoes"
   },
   "source": [
    "#### 예제\n",
    "\n",
    "자연수 `n`이 짝수면 `True`를, 홀수면 `False`를 계산하는 코드는 다음과 같다.\n",
    "`n`의 값을 변경했을 때 어떤 결과가 나오는지 확인하라."
   ]
  },
  {
   "cell_type": "code",
   "execution_count": null,
   "metadata": {
    "id": "W1iLBTxptoes",
    "outputId": "c7ea020a-82c7-441b-a475-5b32528b88d3"
   },
   "outputs": [
    {
     "name": "stdout",
     "output_type": "stream",
     "text": [
      "True\n"
     ]
    }
   ],
   "source": [
    "n = 100\n",
    "\n",
    "if n%2 == 0:\n",
    "    print(True)\n",
    "else:\n",
    "    print(False)"
   ]
  },
  {
   "cell_type": "markdown",
   "metadata": {
    "id": "G-UZFY0Wtoes"
   },
   "source": [
    "#### 예제\n",
    "\n",
    "두 숫자 `a`와 `b`의 사이의 거리를 계산하는 코드는 다음과 같다."
   ]
  },
  {
   "cell_type": "code",
   "execution_count": null,
   "metadata": {
    "id": "YrwRI7P-toes",
    "outputId": "9f2d18ea-25a8-4701-994b-2a191727583a"
   },
   "outputs": [
    {
     "name": "stdout",
     "output_type": "stream",
     "text": [
      "14\n"
     ]
    }
   ],
   "source": [
    "a = 3\n",
    "b = 17\n",
    "\n",
    "if a < b:\n",
    "    print(b - a)\n",
    "else:\n",
    "    print(a - b)"
   ]
  },
  {
   "cell_type": "markdown",
   "metadata": {
    "id": "ac-x1uuptoes"
   },
   "source": [
    "__참고:__ 위 코드는 사실 두 수의 차이의 절댓값을 계산하며,\n",
    "`abs()` 함수가 동일한 기능을 수행한다."
   ]
  },
  {
   "cell_type": "code",
   "execution_count": null,
   "metadata": {
    "id": "_AjLD7c4toes",
    "outputId": "635e8761-92d4-4b85-f9cf-f35ea34d8efc"
   },
   "outputs": [
    {
     "data": {
      "text/plain": [
       "14"
      ]
     },
     "execution_count": 87,
     "metadata": {},
     "output_type": "execute_result"
    }
   ],
   "source": [
    "abs(a - b)"
   ]
  },
  {
   "cell_type": "code",
   "execution_count": null,
   "metadata": {
    "id": "fO1mauI3toes",
    "outputId": "9a5f0b25-46e4-49f3-e83e-25ea4090494e"
   },
   "outputs": [
    {
     "data": {
      "text/plain": [
       "14"
      ]
     },
     "execution_count": 88,
     "metadata": {},
     "output_type": "execute_result"
    }
   ],
   "source": [
    "abs(b - a)"
   ]
  },
  {
   "cell_type": "markdown",
   "metadata": {
    "id": "_O9rtCGGtoet"
   },
   "source": [
    "__참고:__ `if` 조건문의 보다 다양한 활용법은 나중에 자세히 다룬다."
   ]
  },
  {
   "cell_type": "markdown",
   "metadata": {
    "id": "94WgEah6toet"
   },
   "source": [
    "### `None` 값"
   ]
  },
  {
   "cell_type": "markdown",
   "metadata": {
    "id": "bOcURgcetoet"
   },
   "source": [
    "`None`은 어떤 의미도 없는 값, 소위 널(null)값이며, \n",
    "문법적으로 `NoneType` 자료형의 유일한 값이다. "
   ]
  },
  {
   "cell_type": "code",
   "execution_count": null,
   "metadata": {
    "id": "Yl1cl94otoet",
    "outputId": "764b6f1d-bac1-454a-d194-54d78231c062"
   },
   "outputs": [
    {
     "data": {
      "text/plain": [
       "NoneType"
      ]
     },
     "execution_count": 2,
     "metadata": {},
     "output_type": "execute_result"
    }
   ],
   "source": [
    "type(None)"
   ]
  },
  {
   "cell_type": "code",
   "execution_count": null,
   "metadata": {
    "id": "p7eFCIo6toet"
   },
   "outputs": [],
   "source": [
    "a = None"
   ]
  },
  {
   "cell_type": "code",
   "execution_count": null,
   "metadata": {
    "id": "gR08-gJwtoet",
    "outputId": "dbec7a15-9f4c-4162-f9d0-a7977c5bbbd8"
   },
   "outputs": [
    {
     "data": {
      "text/plain": [
       "True"
      ]
     },
     "execution_count": 4,
     "metadata": {},
     "output_type": "execute_result"
    }
   ],
   "source": [
    "a is None"
   ]
  },
  {
   "cell_type": "code",
   "execution_count": null,
   "metadata": {
    "id": "_-LJWhxItoet"
   },
   "outputs": [],
   "source": [
    "b = 5"
   ]
  },
  {
   "cell_type": "code",
   "execution_count": null,
   "metadata": {
    "id": "Gk41f7Latoet",
    "outputId": "e37d2d24-8580-49d4-8100-a06acd2242a5"
   },
   "outputs": [
    {
     "data": {
      "text/plain": [
       "True"
      ]
     },
     "execution_count": 6,
     "metadata": {},
     "output_type": "execute_result"
    }
   ],
   "source": [
    "b is not None"
   ]
  },
  {
   "cell_type": "markdown",
   "metadata": {
    "id": "WwPzsAj_toet"
   },
   "source": [
    "#### `None`을 반환하는 함수"
   ]
  },
  {
   "cell_type": "markdown",
   "metadata": {
    "id": "DA6eO_T1toet"
   },
   "source": [
    "함수 중에 반환값이 `None` 인 경우가 많이 있다.\n",
    "대표적으로 `print()` 함수가 아무 것도 반환하지 않는다.\n",
    "즉, 화면에 출력되는 문자열은 `print()` 함수의 반환값이 아니라, \n",
    "추가 기능의 결과, 즉 부수 효과이다."
   ]
  },
  {
   "cell_type": "code",
   "execution_count": null,
   "metadata": {
    "id": "OdLzU66Btoeu",
    "outputId": "f57f8e82-3332-47f0-a512-a5dabe28dff9"
   },
   "outputs": [
    {
     "name": "stdout",
     "output_type": "stream",
     "text": [
      "파이썬이 좋아요!\n"
     ]
    }
   ],
   "source": [
    "none_value = print(\"파이썬이 좋아요!\")"
   ]
  },
  {
   "cell_type": "code",
   "execution_count": null,
   "metadata": {
    "id": "oX4ptkl0toeu"
   },
   "outputs": [],
   "source": [
    "none_value"
   ]
  },
  {
   "cell_type": "code",
   "execution_count": null,
   "metadata": {
    "id": "l18LOO00toeu",
    "outputId": "50bbb5d9-4ef0-4a19-ff98-8743501c12d7"
   },
   "outputs": [
    {
     "data": {
      "text/plain": [
       "True"
      ]
     },
     "execution_count": 9,
     "metadata": {},
     "output_type": "execute_result"
    }
   ],
   "source": [
    "none_value == None"
   ]
  },
  {
   "cell_type": "markdown",
   "metadata": {
    "id": "vxmsrfDTtoeu"
   },
   "source": [
    "### 형변환"
   ]
  },
  {
   "cell_type": "markdown",
   "metadata": {
    "id": "bGOOp3J3toeu"
   },
   "source": [
    "아래 세 함수는 인자로 들어온 값을 각각 정수, 부동소수점, 부울 자료형의 값으로 변환한다.\n",
    "단, 세 함후 모두 인자로 사용되는 값에 따라 오류를 발생시킬 수 있다.\n",
    "\n",
    "* `int()`\n",
    "* `float()`\n",
    "* `bool()`\n"
   ]
  },
  {
   "cell_type": "markdown",
   "metadata": {
    "id": "sRwKHkgYtoeu"
   },
   "source": [
    "__주의사항:__ 자료형과 형변환 함수의 이름이 동일하다.\n",
    "예를 들어, `int`는 정수 자료형과 정수 자료형으로 형변환하는 함수를 동시에 가리킨다.\n",
    "따라서 여기서는 함수는 항상 소괄호와 함께 표기한다.\n",
    "즉, `int`는 정수 자료형을, `int()`는 정수로 형변환하는 함수를 가리킨다."
   ]
  },
  {
   "cell_type": "markdown",
   "metadata": {
    "id": "rpHpoFPFtoeu"
   },
   "source": [
    "#### `int()` 함수"
   ]
  },
  {
   "cell_type": "markdown",
   "metadata": {
    "id": "PYfpSPrLtoeu"
   },
   "source": [
    "정수와 실수 사이에 강제로 자료형을 변환시킬 수 있다.\n",
    "실수를 정수로 변환하고자 할 경우 `int()` 함수를 사용한다. \n",
    "그러면 소수점 이하는 버려진다. "
   ]
  },
  {
   "cell_type": "code",
   "execution_count": null,
   "metadata": {
    "id": "eoGUbWu2toeu",
    "outputId": "d400356a-7729-4a9a-c601-5c01a99437dc"
   },
   "outputs": [
    {
     "data": {
      "text/plain": [
       "4"
      ]
     },
     "execution_count": 89,
     "metadata": {},
     "output_type": "execute_result"
    }
   ],
   "source": [
    "int(4.8)"
   ]
  },
  {
   "cell_type": "markdown",
   "metadata": {
    "id": "IHXbQTfWtoev"
   },
   "source": [
    "정수 모양의 문자열을 진짜 정수로 형변환시킬 수 있다."
   ]
  },
  {
   "cell_type": "code",
   "execution_count": null,
   "metadata": {
    "id": "bYgwrYSctoev",
    "outputId": "d8d5e6d8-b612-44f1-f446-dd24bae80b24"
   },
   "outputs": [
    {
     "data": {
      "text/plain": [
       "238"
      ]
     },
     "execution_count": 90,
     "metadata": {},
     "output_type": "execute_result"
    }
   ],
   "source": [
    "an_int = int('238')\n",
    "an_int"
   ]
  },
  {
   "cell_type": "code",
   "execution_count": null,
   "metadata": {
    "id": "9s5TFlSPtoev",
    "outputId": "9a1917cf-2a86-48a7-c459-c3d1a4a55e93"
   },
   "outputs": [
    {
     "data": {
      "text/plain": [
       "int"
      ]
     },
     "execution_count": 91,
     "metadata": {},
     "output_type": "execute_result"
    }
   ],
   "source": [
    "type(an_int)"
   ]
  },
  {
   "cell_type": "markdown",
   "metadata": {
    "id": "ubaIQthDtoev"
   },
   "source": [
    "정수 모양의 문자열이 아니면 오류가 발생한다."
   ]
  },
  {
   "cell_type": "code",
   "execution_count": null,
   "metadata": {
    "id": "h2Cq4uEbtoev",
    "outputId": "f31c3940-860a-46c1-a5c3-a02f9629ff7b"
   },
   "outputs": [
    {
     "ename": "ValueError",
     "evalue": "invalid literal for int() with base 10: '238.0'",
     "output_type": "error",
     "traceback": [
      "\u001b[0;31m---------------------------------------------------------------------------\u001b[0m",
      "\u001b[0;31mValueError\u001b[0m                                Traceback (most recent call last)",
      "\u001b[0;32m<ipython-input-92-6972be62e04f>\u001b[0m in \u001b[0;36m<module>\u001b[0;34m\u001b[0m\n\u001b[0;32m----> 1\u001b[0;31m \u001b[0man_int\u001b[0m \u001b[0;34m=\u001b[0m \u001b[0mint\u001b[0m\u001b[0;34m(\u001b[0m\u001b[0;34m'238.0'\u001b[0m\u001b[0;34m)\u001b[0m\u001b[0;34m\u001b[0m\u001b[0;34m\u001b[0m\u001b[0m\n\u001b[0m\u001b[1;32m      2\u001b[0m \u001b[0man_int\u001b[0m\u001b[0;34m\u001b[0m\u001b[0;34m\u001b[0m\u001b[0m\n",
      "\u001b[0;31mValueError\u001b[0m: invalid literal for int() with base 10: '238.0'"
     ]
    }
   ],
   "source": [
    "an_int = int('238.0')\n",
    "an_int"
   ]
  },
  {
   "cell_type": "markdown",
   "metadata": {
    "id": "c9pWWTkJtoev"
   },
   "source": [
    "#### `float()` 함수"
   ]
  },
  {
   "cell_type": "markdown",
   "metadata": {
    "id": "Zq4tGmvLtoev"
   },
   "source": [
    "정수를 실수로 형변환하려면 `float()` 함수를 사용한다."
   ]
  },
  {
   "cell_type": "code",
   "execution_count": null,
   "metadata": {
    "id": "LRzF-4c5toev",
    "outputId": "3a70fa25-a319-4542-8f7e-028b1d0ba8dd"
   },
   "outputs": [
    {
     "data": {
      "text/plain": [
       "2.0"
      ]
     },
     "execution_count": 93,
     "metadata": {},
     "output_type": "execute_result"
    }
   ],
   "source": [
    "float(2)"
   ]
  },
  {
   "cell_type": "markdown",
   "metadata": {
    "id": "S8X-Eknxtoev"
   },
   "source": [
    "변수를 대상으로 형변환을 하면 변수가 가리키는 값 자체가 변하는 것은 아니다."
   ]
  },
  {
   "cell_type": "code",
   "execution_count": null,
   "metadata": {
    "id": "ac1xC4Zytoew",
    "outputId": "ef2b6f9e-41ba-498e-c472-307b5d02986b"
   },
   "outputs": [
    {
     "data": {
      "text/plain": [
       "2.0"
      ]
     },
     "execution_count": 94,
     "metadata": {},
     "output_type": "execute_result"
    }
   ],
   "source": [
    "an_int = 2\n",
    "\n",
    "float(an_int)"
   ]
  },
  {
   "cell_type": "code",
   "execution_count": null,
   "metadata": {
    "id": "TOp_ovbUtoew",
    "outputId": "eeada91b-24d6-4995-a287-33274ccc0071"
   },
   "outputs": [
    {
     "data": {
      "text/plain": [
       "2"
      ]
     },
     "execution_count": 95,
     "metadata": {},
     "output_type": "execute_result"
    }
   ],
   "source": [
    "an_int"
   ]
  },
  {
   "cell_type": "markdown",
   "metadata": {
    "id": "svnPA7gItoew"
   },
   "source": [
    " 다만, 형변환된 값을 다른 변수에 저장해서 활용할 수는 있다."
   ]
  },
  {
   "cell_type": "code",
   "execution_count": null,
   "metadata": {
    "id": "0ahGkPIgtoew",
    "outputId": "78a433fd-3d58-4e2a-8471-7d134db2dfe3"
   },
   "outputs": [
    {
     "data": {
      "text/plain": [
       "2.0"
      ]
     },
     "execution_count": 96,
     "metadata": {},
     "output_type": "execute_result"
    }
   ],
   "source": [
    "a_float = float(an_int)\n",
    "\n",
    "a_float"
   ]
  },
  {
   "cell_type": "markdown",
   "metadata": {
    "id": "SPAIDq28toew"
   },
   "source": [
    "부동소수점 모양의 문자열을 진짜 부동소수점으로 형변환시킬 수 있다."
   ]
  },
  {
   "cell_type": "code",
   "execution_count": null,
   "metadata": {
    "id": "lc4u_heKtoew",
    "outputId": "f8f357af-eb19-4a66-a260-858051d37177"
   },
   "outputs": [
    {
     "data": {
      "text/plain": [
       "2.38"
      ]
     },
     "execution_count": 97,
     "metadata": {},
     "output_type": "execute_result"
    }
   ],
   "source": [
    "a_float = float('2.38')\n",
    "a_float"
   ]
  },
  {
   "cell_type": "code",
   "execution_count": null,
   "metadata": {
    "id": "Fo7ufy8vtoew",
    "outputId": "ecd29c22-2339-4a5c-e276-afdcb998a8ce"
   },
   "outputs": [
    {
     "data": {
      "text/plain": [
       "float"
      ]
     },
     "execution_count": 98,
     "metadata": {},
     "output_type": "execute_result"
    }
   ],
   "source": [
    "type(a_float)"
   ]
  },
  {
   "cell_type": "markdown",
   "metadata": {
    "id": "bKA17kuAtoew"
   },
   "source": [
    "부동소수점"
   ]
  },
  {
   "cell_type": "code",
   "execution_count": null,
   "metadata": {
    "id": "nMfnqtdptoex",
    "outputId": "5e7073f3-8c77-4141-886c-5fb18cfeb9f3"
   },
   "outputs": [
    {
     "ename": "ValueError",
     "evalue": "could not convert string to float: '238f0'",
     "output_type": "error",
     "traceback": [
      "\u001b[0;31m---------------------------------------------------------------------------\u001b[0m",
      "\u001b[0;31mValueError\u001b[0m                                Traceback (most recent call last)",
      "\u001b[0;32m<ipython-input-99-e318b4513d01>\u001b[0m in \u001b[0;36m<module>\u001b[0;34m\u001b[0m\n\u001b[0;32m----> 1\u001b[0;31m \u001b[0ma_float\u001b[0m \u001b[0;34m=\u001b[0m \u001b[0mfloat\u001b[0m\u001b[0;34m(\u001b[0m\u001b[0;34m'238f0'\u001b[0m\u001b[0;34m)\u001b[0m\u001b[0;34m\u001b[0m\u001b[0;34m\u001b[0m\u001b[0m\n\u001b[0m\u001b[1;32m      2\u001b[0m \u001b[0ma_float\u001b[0m\u001b[0;34m\u001b[0m\u001b[0;34m\u001b[0m\u001b[0m\n",
      "\u001b[0;31mValueError\u001b[0m: could not convert string to float: '238f0'"
     ]
    }
   ],
   "source": [
    "a_float = float('238f0')\n",
    "a_float"
   ]
  },
  {
   "cell_type": "markdown",
   "metadata": {
    "id": "fzoAh9Uatoex"
   },
   "source": [
    "#### `bool()` 함수"
   ]
  },
  {
   "cell_type": "markdown",
   "metadata": {
    "id": "DyKAq2h9toex"
   },
   "source": [
    "`bool()` 함수는 0처럼 없거나 비어있다는 의미를 가리키는 값에 대해서만 `False`를 반환한다."
   ]
  },
  {
   "cell_type": "code",
   "execution_count": null,
   "metadata": {
    "id": "18KHSu9Vtoex",
    "outputId": "91cb155f-212e-4082-c234-9615c0c89ab9"
   },
   "outputs": [
    {
     "data": {
      "text/plain": [
       "False"
      ]
     },
     "execution_count": 100,
     "metadata": {},
     "output_type": "execute_result"
    }
   ],
   "source": [
    "bool(0)"
   ]
  },
  {
   "cell_type": "code",
   "execution_count": null,
   "metadata": {
    "id": "idv2LBO1toex",
    "outputId": "0bc447ab-8359-4b5e-a0b1-ff473f0faf01"
   },
   "outputs": [
    {
     "data": {
      "text/plain": [
       "True"
      ]
     },
     "execution_count": 101,
     "metadata": {},
     "output_type": "execute_result"
    }
   ],
   "source": [
    "bool(1.2)"
   ]
  },
  {
   "cell_type": "code",
   "execution_count": null,
   "metadata": {
    "id": "9W1NDr61toex",
    "outputId": "4d2ebef7-cbe1-40fd-e208-0256f03cafdf"
   },
   "outputs": [
    {
     "data": {
      "text/plain": [
       "True"
      ]
     },
     "execution_count": 102,
     "metadata": {},
     "output_type": "execute_result"
    }
   ],
   "source": [
    "bool(-21.7)"
   ]
  },
  {
   "cell_type": "markdown",
   "metadata": {
    "id": "S27P2uK8toex"
   },
   "source": [
    "## 연습문제"
   ]
  },
  {
   "cell_type": "markdown",
   "metadata": {
    "id": "oF_evnhHtoex"
   },
   "source": [
    "### 연습 "
   ]
  },
  {
   "cell_type": "markdown",
   "metadata": {
    "id": "n0YjKQIstoex"
   },
   "source": [
    "두 숫자의 평균값을 구하는 코드는 다음과 같다.\n",
    "예를 들어, 234와 453의 평균값은 343.5이다.\n",
    "두 변수 `a`, `b`의 값을 변경하면서 여러 번 실행하라."
   ]
  },
  {
   "cell_type": "code",
   "execution_count": null,
   "metadata": {
    "id": "qlZd81hYtoex",
    "outputId": "ae8b28bb-5261-4858-d84b-d852f436f198"
   },
   "outputs": [
    {
     "name": "stdout",
     "output_type": "stream",
     "text": [
      "343.5\n"
     ]
    }
   ],
   "source": [
    "a = 234\n",
    "b = 453\n",
    "\n",
    "mean_a_b = (a + b) / 2\n",
    "\n",
    "print(mean_a_b)"
   ]
  },
  {
   "cell_type": "markdown",
   "metadata": {
    "id": "caGbcYEMtoey"
   },
   "source": [
    "### 연습\n",
    "\n",
    "반지름이 `r`인 원의 넓이를 계산하는 코드는 다음과 같다.\n",
    "단, 원주율은 3.14로 계산한다."
   ]
  },
  {
   "cell_type": "markdown",
   "metadata": {
    "id": "-DdzNR29toey"
   },
   "source": [
    "견본답안:"
   ]
  },
  {
   "cell_type": "code",
   "execution_count": null,
   "metadata": {
    "id": "K81L8Kwdtoey",
    "outputId": "fb718a0f-649c-47f7-8a40-0aecfad2015e"
   },
   "outputs": [
    {
     "name": "stdout",
     "output_type": "stream",
     "text": [
      "28.26\n"
     ]
    }
   ],
   "source": [
    "r = 3\n",
    "\n",
    "pi = 3.14\n",
    "circle_area = pi * r ** 2\n",
    "\n",
    "print(circle_area)"
   ]
  },
  {
   "cell_type": "markdown",
   "metadata": {
    "id": "HZm3Q2eItoey"
   },
   "source": [
    "### 연습\n",
    "\n",
    "변의 길이가 각각 `a`, `b`, `c`인 삼각형의 면적 `A`는 아래 식으로 계산된다.\n",
    "\n",
    "$$\n",
    "A = \\sqrt{s  (s - a)  (s - b)  (s - c)}\n",
    "$$\n",
    "\n",
    "단, \n",
    "$$\n",
    "s = (a + b + c) / 2\n",
    "$$\n",
    "__참고:__ [위키백과: 삼각형](https://ko.wikipedia.org/wiki/%EC%82%BC%EA%B0%81%ED%98%95)"
   ]
  },
  {
   "cell_type": "code",
   "execution_count": null,
   "metadata": {
    "id": "e9Wh7wXttoey",
    "outputId": "60987729-8598-496f-8a27-bbd38e243f06"
   },
   "outputs": [
    {
     "name": "stdout",
     "output_type": "stream",
     "text": [
      "1.984313483298443\n"
     ]
    }
   ],
   "source": [
    "a = 2\n",
    "b = 2\n",
    "c = 3\n",
    "\n",
    "s = (a + b + c) / 2.0\n",
    "A = (s * (s - a) * (s - b) * (s - c)) ** 0.5  # 0.5승은 제곱근에 해당함\n",
    "\n",
    "print(A)"
   ]
  }
 ],
 "metadata": {
  "colab": {
   "name": "python01.ipynb",
   "provenance": []
  },
  "kernelspec": {
   "display_name": "Python 3",
   "language": "python",
   "name": "python3"
  },
  "language_info": {
   "codemirror_mode": {
    "name": "ipython",
    "version": 3
   },
   "file_extension": ".py",
   "mimetype": "text/x-python",
   "name": "python",
   "nbconvert_exporter": "python",
   "pygments_lexer": "ipython3",
   "version": "3.9.7"
  }
 },
 "nbformat": 4,
 "nbformat_minor": 1
}