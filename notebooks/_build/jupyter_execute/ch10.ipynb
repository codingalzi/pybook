{
 "cells": [
  {
   "cell_type": "markdown",
   "metadata": {},
   "source": [
    "# 반복문"
   ]
  },
  {
   "cell_type": "markdown",
   "metadata": {},
   "source": [
    "특정 명령문을 자동으로 반복<font size=\"2\">iteration</font> 실행하는 장치인 \n",
    "**반복문**<font size=\"2\">loop statement</font>을 소개한다.\n",
    "파이썬은 세 종류의 반복문을 제공한다. \n",
    "\n",
    "- 재귀\n",
    "- `for` 반복문\n",
    "- `while` 반복문\n",
    "\n",
    "재귀는 {numref}`%s장 <ch:recursion>`에서,\n",
    "`for` 반복문의 간단한 활용법은 {numref}`%s절(?) <sec:for_loop>` 에서 살펴보았다.\n",
    "여기서는 `while` 반복문을 소개한다.\n",
    "`while` 반복문의 작동 과정을 이해하려면 먼저 변수가 가리키는 값을 변경하는 변수 재할당과\n",
    "변수 업데이트를 이해해야 한다. \n",
    "\n",
    "\n",
    "**`for` 반복문과 데이터분석 예제 추가!**"
   ]
  },
  {
   "cell_type": "markdown",
   "metadata": {},
   "source": [
    "(sec:variable_reassignment)=\n",
    "## 변수 재할당 / 변수 업데이트"
   ]
  },
  {
   "cell_type": "markdown",
   "metadata": {},
   "source": [
    "**변수 재할당**<font size=\"2\">variable reassignment</font>은\n",
    "변수가 가리키는 값은 변경하는 것이다.\n",
    "예를 들어 아래 코드는 변수 `x`가 가리키는 값을 5에서 7로 재할당한다.\n",
    "\n",
    "```python\n",
    ">>> x = 5\n",
    ">>> y = x\n",
    ">>> x = 7\n",
    "```\n",
    "\n",
    "반면에 변수 `y`는 계속해서 5를 가리킨다.\n",
    "실제로 `x + y`는 12로 계산된다.\n",
    "\n",
    "```python\n",
    ">>> x + y\n",
    "12\n",
    "```\n",
    "\n",
    "이는 {numref}`%s절 <sec:boolean_expression>`에서 설명한대로 하나의 등호 기호 `=` 는\n",
    "두 값의 동치 여부가 아니라 왼편에 위치한 변수가 오른 편에 위치한 값을 가리키도록 하는\n",
    "명령문에 사용되는 특별한 의미를 갖기 때문이다.\n",
    "`y = x` 가 실행될 당시에 `x`가 5를 가리키고 있었기 때문에\n",
    "`y` 또한 5를 가리키도록 지정되었다.\n",
    "이후에 `x`가 가리키는 값을 변경해도 `y`에게는 전혀 영향을 주지 않는다."
   ]
  },
  {
   "cell_type": "markdown",
   "metadata": {},
   "source": [
    "반복문의 핵심은 변수가 가리키던 값을 이용하여 새로운 값을 생성한 후에 그 값을\n",
    "동일한 변수에 재할당하는 것이며, 이를 \n",
    "**변수 업데이트**<font size=\"2\">variable update</font>라 한다. \n",
    "대표적으로 아래와 같은 표현식이 반복문에 자주 사용된다.\n",
    "\n",
    "```python\n",
    ">>> x = x + 1\n",
    "```\n",
    "\n",
    "위 할당문은 변수 `x`가 가리키던 값에 1을 더한 값을 다시 \n",
    "변수 `x`에 할당하라고 명령한다. \n",
    "만약에 변수 `x` 가 0을 가리키고 있었다면 위 명령문이 반복 실행될 때마다\n",
    "`x`가 가리키는 값은 1, 2, 3 등으로 계속해서 변한다.\n",
    "반면에 아래 명령문은 변수 `x`가 가리키던 값을 \n",
    "1만큼 줄여서 재할당한다.\n",
    "\n",
    "```python\n",
    ">>> x = x - 1\n",
    "```"
   ]
  },
  {
   "cell_type": "markdown",
   "metadata": {},
   "source": [
    "## `while` 반복문"
   ]
  },
  {
   "cell_type": "markdown",
   "metadata": {},
   "source": [
    "{numref}`%s장 <ch:recursion>`에서 살펴 본 다음 재귀 함수는 카운트다운을 출력한다.\n",
    "\n",
    "```python\n",
    "def countdown(n):\n",
    "    if n <= 0:\n",
    "        print('발사!')\n",
    "    else:\n",
    "        print(n)\n",
    "        countdown(n-1)\n",
    "```\n",
    "\n",
    "예를 들어, `countdown(3)`을 실행하면이 주어지면 다음과 같이 출력한다.\n",
    "\n",
    "```python\n",
    ">>> countdown(3)\n",
    "3\n",
    "2\n",
    "1\n",
    "발사!\n",
    "```\n",
    "\n",
    "이유는 `countdown(3)`, `countdown(2)`, `countdown(1)`, `countdown(0)` 이 \n",
    "차례대로 호출되기 때문이며 그럴 때마다 함수의 인자를 화면에 출력한다."
   ]
  },
  {
   "cell_type": "markdown",
   "metadata": {},
   "source": [
    "따라서 `countdown(n)` 호출되면 다음 과정이 재귀적으로 실행된다.\n",
    "\n",
    "- `n`이 0을 가리키면 `'발사!'` 를 출력한다.\n",
    "- `n`이 0보다 크면 먼저 `n` 을 출력한다.\n",
    "    이후 `n`이 가리키는 값을 1만큼 줄인다.\n",
    "\n",
    "다음 `while` 반복문이 바로 `n` 이 0보다 큰 경우를 다룬다.\n",
    "\n",
    "```python\n",
    "while n > 0:\n",
    "    print(n)\n",
    "    n = n - 1\n",
    "```\n",
    "\n",
    "즉, 위 명령문은 `n`이 0보다 크면 `countdown()` 함수의 `else` 키워드의 \n",
    "본문 명령문을 실행하며,\n",
    "언젠가 `n`이 0을 가리키게 되면, 즉 기저 조건에 다다르면 더이상 실행되지 않고\n",
    "다음 명령문으로 이동한다.\n",
    "\n",
    "`countdown()` 함수를 `while` 반복문을 이용하여 구현하면 다음과 같다.\n",
    "본문의 마지막 줄은 `n` 이 0인 경우를 다룬다."
   ]
  },
  {
   "cell_type": "code",
   "execution_count": 1,
   "metadata": {},
   "outputs": [],
   "source": [
    "def countdown(n):\n",
    "    while n > 1:     # n 이 0 보다 큰 경우\n",
    "        print(n)\n",
    "        n = n - 1\n",
    "        \n",
    "    print('발사!')    # 기저 조건: n 이 0 인 경우"
   ]
  },
  {
   "cell_type": "code",
   "execution_count": 2,
   "metadata": {},
   "outputs": [
    {
     "name": "stdout",
     "output_type": "stream",
     "text": [
      "3\n",
      "2\n",
      "발사!\n"
     ]
    }
   ],
   "source": [
    "countdown(3)"
   ]
  },
  {
   "cell_type": "markdown",
   "metadata": {},
   "source": [
    "`while` 반복문의 형식은 다음과 같다.\n",
    "함수, 조건문, `for` 반복문의 경우에서처럼\n",
    "헤더는 콜론(`:`)으로 마무리하고 본문은 들여쓴다.\n",
    "\n",
    "```python\n",
    "while 부울식:\n",
    "    명령문\n",
    "```\n",
    "\n",
    "위 명령문의 실행은 아래 세 단계로 이루어진다.\n",
    "\n",
    "1. 헤더의 `부울식`의 참, 거짓 여부를 확인한다.\n",
    "1. 헤더의 `부울식` 이 `False` 인 경우: `while` 반복문 전체를 건너 뛰고 다음 명령문을 실행한다.\n",
    "1. 헤더의 `부울식` 이 `True` 인 경우: \n",
    "    본문에 위치한 명령문을 실행한 후에 \n",
    "    다시 1단계로 이동한다.\n"
   ]
  },
  {
   "cell_type": "markdown",
   "metadata": {},
   "source": [
    "### 무한 루프"
   ]
  },
  {
   "cell_type": "markdown",
   "metadata": {},
   "source": [
    "헤더의 `부울식`이 계속해서 참이면 `while` 반복문의 본문의 실행이 무한 반복된다.\n",
    "예를 들어 역시 {numref}`%s장 <ch:recursion>`에서 살펴본 아래 재귀 함수를 다시 살펴보자."
   ]
  },
  {
   "cell_type": "markdown",
   "metadata": {},
   "source": [
    "```python\n",
    "def count_infinitely(n):\n",
    "    print(n)\n",
    "    count_finitely(n+1)\n",
    "```"
   ]
  },
  {
   "cell_type": "markdown",
   "metadata": {},
   "source": [
    "`count_infinitely(n)` 이 실행되면 다음 두 가지 일이 실행된다.\n",
    "\n",
    "- `n` 을 출력한다.\n",
    "- `n`을 1 키운 후 재귀를 실행한다.\n",
    "\n",
    "따라서 `while` 반복문을 다음과 같이 이용하여 `count_infinitely()` 함수를 구현할 수 있다."
   ]
  },
  {
   "cell_type": "markdown",
   "metadata": {},
   "source": [
    "```python\n",
    "def count_infinitely(n):\n",
    "    while n > 0:\n",
    "        print(n)\n",
    "        n = n + 1\n",
    "```"
   ]
  },
  {
   "cell_type": "markdown",
   "metadata": {},
   "source": [
    "재귀 함수로 정의했을 때 기저 조건이 없었기에 `n > 0` 이 거짓인 경우에\n",
    "실행될 명령문이 없다.\n",
    "따라서 예를 들어 `count_infinitely(1)`을 호출하면 `while` 반복문이 무한 반복되며\n",
    "이런 현상을 **무한 루프**<font size=\"2\">infinite loop</font>라 한다.\n",
    "\n",
    "`while` 반복문으로 인해 무한 루프가 발생하는지 여부를\n",
    "경우에 따라 판단하기 매우 어렵거나 불가능할 수 있다. \n",
    "여기서는 콜라츠 추측에 사용된 알고리즘을 이용하여\n",
    "판단이 매우 어려운 경우를 소개한다."
   ]
  },
  {
   "cell_type": "markdown",
   "metadata": {},
   "source": [
    ":::{prf:example} 콜라츠 추측과 무한 루프\n",
    ":label: exp:collatz_while\n",
    "\n",
    "{numref}`%s절 <sec:collatz>`에서 재귀로 구현한 `collatz()` 함수는 다음과 같다.\n",
    "\n",
    "```python\n",
    "def collatz(num):\n",
    "    if num == 1:                        # 기저 조건\n",
    "        print(1)\n",
    "    elif num%2 == 0:                    # 짝수인 경우\n",
    "        print(num, end=' -> ')\n",
    "        collatz(num//2)\n",
    "    else:                               # 홀수인 경우\n",
    "        print(num, end=' -> ')\n",
    "        collatz(num*3 + 1)\n",
    "```\n",
    "\n",
    "함수 본문에서 반복되는 내용은 다음과 같다.\n",
    "\n",
    "- 기저 조건: `1` 출력\n",
    "- 짝수인 경우: 자신 출력 후 2로 나눈 값에 대해 재귀 적용\n",
    "- 홀수인 경우: 자신 출력 후 세 배 더하기 1한 값에 대해 재귀 적용\n",
    "\n",
    "따라서 `n`을 출력한 후에 짝수 또는 홀수인 경우에 따라 `n`의 값을 업데이트하는 \n",
    "과정을 반복하는 `while` 반복문으로 재귀를 대신할 수 있다.\n",
    "\n",
    "```python\n",
    "def collatz(n):\n",
    "    while n != 1:\n",
    "        print(n, end=\" -> \")\n",
    "        if n%2 == 0:          # 짝수인 경우\n",
    "            n = n//2\n",
    "        else:                 # 홀수인 경우\n",
    "            n = n*3 + 1\n",
    "            \n",
    "    print(1)                  # 기저 조건\n",
    "```\n",
    "\n",
    "이미 {numref}`%s절 <sec:collatz>`에서 언급하였듯이 콜라츠 추측은 여전히 미해결 문제로\n",
    "남아 있다. \n",
    "즉, `collatz()` 함수의 본문에 사용된 `while` 반복문이 경우에 따라\n",
    "무한 루프를 유발하는지 여부가 아직 알려지지 않았다.\n",
    ":::"
   ]
  },
  {
   "cell_type": "markdown",
   "metadata": {},
   "source": [
    "### `break` 키워드"
   ]
  },
  {
   "cell_type": "markdown",
   "metadata": {},
   "source": [
    "반복 횟수를 미지 지정할 수 없지만 \n",
    "특별한 상황이 발생하면 무한 루프를 중지시켜야 할 때\n",
    "`while True`와 `break`를 함께 활용한다."
   ]
  },
  {
   "cell_type": "markdown",
   "metadata": {},
   "source": [
    "예제 ..."
   ]
  },
  {
   "cell_type": "markdown",
   "metadata": {},
   "source": [
    "### 뉴튼 방법"
   ]
  },
  {
   "cell_type": "markdown",
   "metadata": {},
   "source": [
    "무한 루프를 구하고자 하는 값의 근사치를 계산하는 데에 활용하곤 한다.\n",
    "예를 들어, 제곱근<font size=\"2\">squnre root</font>을 계산하기 위해\n",
    "**뉴튼 방법**<font size=\"2\">Newton's method</font>에 사용된 알고리즘을\n",
    "무한 루프를 이용하여 구현할 수 있다.\n",
    "\n",
    "$n$ 의 제곱근을 계산하려면 아래 식을 반복적으로 실행하면 된다.\n",
    "단 $x$ 는 $n$의 제곱근의 임의의 근사치이다.\n",
    "\n",
    "$$\n",
    "y = \\frac{x + \\frac{n}{x}}{2}\n",
    "$$\n",
    "\n",
    "예를 들어, 2의 실제 제곱근은 다음과 같다."
   ]
  },
  {
   "cell_type": "code",
   "execution_count": 3,
   "metadata": {},
   "outputs": [
    {
     "data": {
      "text/plain": [
       "1.4142135623730951"
      ]
     },
     "execution_count": 3,
     "metadata": {},
     "output_type": "execute_result"
    }
   ],
   "source": [
    "import numpy as np\n",
    "\n",
    "np.sqrt(2)"
   ]
  },
  {
   "cell_type": "markdown",
   "metadata": {},
   "source": [
    "이제 `n = 2`, `x = n`로 두고 `y` 값을 계산하면 다음과 같다."
   ]
  },
  {
   "cell_type": "code",
   "execution_count": 4,
   "metadata": {},
   "outputs": [
    {
     "data": {
      "text/plain": [
       "1.5"
      ]
     },
     "execution_count": 4,
     "metadata": {},
     "output_type": "execute_result"
    }
   ],
   "source": [
    "n = 2\n",
    "x = n\n",
    "y = (x + n/x) / 2\n",
    "y"
   ]
  },
  {
   "cell_type": "markdown",
   "metadata": {},
   "source": [
    "계산된 `y`를 제곱근의 새로운 근사치로 지정하고 새로운 y를 계산해 보자."
   ]
  },
  {
   "cell_type": "code",
   "execution_count": 5,
   "metadata": {},
   "outputs": [
    {
     "data": {
      "text/plain": [
       "1.4166666666666665"
      ]
     },
     "execution_count": 5,
     "metadata": {},
     "output_type": "execute_result"
    }
   ],
   "source": [
    "x = y\n",
    "y = (x + n/x) / 2\n",
    "y"
   ]
  },
  {
   "cell_type": "markdown",
   "metadata": {},
   "source": [
    "2의 제곱근 값에 보다 가까워졌다. \n",
    "이 과정을 반복하면 보다 정확한 값을 얻는다."
   ]
  },
  {
   "cell_type": "code",
   "execution_count": 6,
   "metadata": {},
   "outputs": [
    {
     "data": {
      "text/plain": [
       "1.4142156862745097"
      ]
     },
     "execution_count": 6,
     "metadata": {},
     "output_type": "execute_result"
    }
   ],
   "source": [
    "x = y\n",
    "y = (x + n/x) / 2\n",
    "y"
   ]
  },
  {
   "cell_type": "code",
   "execution_count": 7,
   "metadata": {},
   "outputs": [
    {
     "data": {
      "text/plain": [
       "1.4142135623746899"
      ]
     },
     "execution_count": 7,
     "metadata": {},
     "output_type": "execute_result"
    }
   ],
   "source": [
    "x = y\n",
    "y = (x + n/x) / 2\n",
    "y"
   ]
  },
  {
   "cell_type": "markdown",
   "metadata": {},
   "source": [
    "이제 `np.sqrt(2)`와 거의 동일해졌다."
   ]
  },
  {
   "cell_type": "code",
   "execution_count": 8,
   "metadata": {},
   "outputs": [
    {
     "data": {
      "text/plain": [
       "1.414213562373095"
      ]
     },
     "execution_count": 8,
     "metadata": {},
     "output_type": "execute_result"
    }
   ],
   "source": [
    "x = y\n",
    "y = (x + n/x) / 2\n",
    "y"
   ]
  },
  {
   "cell_type": "markdown",
   "metadata": {},
   "source": [
    "정리하면 아래 명령문을 몇 번 반복하면 임의의 수의 제곱근을 계산한다.\n",
    "\n",
    "1. `y = (x + n/x) / 2` 를 실행한다.\n",
    "1. `x`와 `y`를 비교해서, 두 수가 동치이면 실행을 멈추고 `y`를 반환한다.\n",
    "1. 그렇지 않으면 `x = y`를 실행한 후에 1단계로 돌아간다.\n",
    "\n",
    "즉, `np.sqrt()` 함수처럼 작동하는 제곱근 함수를 다음과 같이 정의할 수 있다.\n",
    "\n",
    "```python\n",
    "def my_sqrt(n):\n",
    "    x = n\n",
    "    while True:\n",
    "        y = (x + n/x) / 2\n",
    "        if x == y:\n",
    "            break\n",
    "        x = y\n",
    "    return y\n",
    "```"
   ]
  },
  {
   "cell_type": "markdown",
   "metadata": {},
   "source": [
    "그런데 `x != y` 또는 `x == y` 처럼 \n",
    "부동소수점<font size=\"2\">floating point</font>\n",
    "두 개의 동치성 여부를 \n",
    "비교하는 일은 매우 조심해야 한다.\n",
    "이에 대한 이유는 프로그래밍 초보자의 수준을 많이 벗어나기에 여기서는\n",
    "설명하지 않는다.\n",
    "\n",
    "두 부동소수점의 동치성 여부를 판단해야 하는 경우 \n",
    "보통은 두 수의 오차가 일정 범위 안에 있는지 여부를 판단하는 하는 것으로 대신한다.\n",
    "즉, 오차가 충분히 작아지면 알고리즘의 실행을 멈추도록 하는 게 일반적이다.\n",
    "이 아이디어를 `my_sqrt()` 함수에 적용하면 다음과 같다.\n",
    "\n",
    "- `abs()` 함수는 절댓값을 반환한다.\n",
    "- `epsilon`은 오차의 한도를 지정하는 역할을 수행하는 매개 변수이다. \n",
    "    \"엡실론\" 이라고 읽으며 오차 한도를 나타내는 변수 이름으로 많이 사용된다."
   ]
  },
  {
   "cell_type": "code",
   "execution_count": 9,
   "metadata": {},
   "outputs": [],
   "source": [
    "def my_sqrt(n, epsilon):\n",
    "    x = n\n",
    "    while True:\n",
    "        y = (x + n/x) / 2\n",
    "        if abs(x - y) < epsilon:\n",
    "            break\n",
    "        x = y\n",
    "    return y"
   ]
  },
  {
   "cell_type": "markdown",
   "metadata": {},
   "source": [
    "오차 허용 한도를 0.0001로 지정하고 2의 제곱근을 구해보자."
   ]
  },
  {
   "cell_type": "code",
   "execution_count": 10,
   "metadata": {},
   "outputs": [
    {
     "data": {
      "text/plain": [
       "1.4142135623746899"
      ]
     },
     "execution_count": 10,
     "metadata": {},
     "output_type": "execute_result"
    }
   ],
   "source": [
    "my_sqrt(2, 0.0001)"
   ]
  },
  {
   "cell_type": "markdown",
   "metadata": {},
   "source": [
    "오차 허용 한도를 0.000001로 지정하면 보다 엄밀한 근사치를 얻는다."
   ]
  },
  {
   "cell_type": "code",
   "execution_count": 11,
   "metadata": {},
   "outputs": [
    {
     "data": {
      "text/plain": [
       "1.414213562373095"
      ]
     },
     "execution_count": 11,
     "metadata": {},
     "output_type": "execute_result"
    }
   ],
   "source": [
    "my_sqrt(2, 0.000001)"
   ]
  },
  {
   "cell_type": "markdown",
   "metadata": {},
   "source": [
    "## `for` 반복문"
   ]
  },
  {
   "cell_type": "markdown",
   "metadata": {},
   "source": [
    "..."
   ]
  },
  {
   "cell_type": "markdown",
   "metadata": {},
   "source": [
    "## `break`와 `continue`"
   ]
  },
  {
   "cell_type": "markdown",
   "metadata": {},
   "source": []
  }
 ],
 "metadata": {
  "kernelspec": {
   "display_name": "Python 3 (ipykernel)",
   "language": "python",
   "name": "python3"
  },
  "language_info": {
   "codemirror_mode": {
    "name": "ipython",
    "version": 3
   },
   "file_extension": ".py",
   "mimetype": "text/x-python",
   "name": "python",
   "nbconvert_exporter": "python",
   "pygments_lexer": "ipython3",
   "version": "3.9.7"
  }
 },
 "nbformat": 4,
 "nbformat_minor": 1
}