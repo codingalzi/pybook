{
 "cells": [
  {
   "cell_type": "markdown",
   "id": "d1da4144-f1ac-4593-a623-1603d759af12",
   "metadata": {},
   "source": [
    "# 기본자료형"
   ]
  },
  {
   "cell_type": "markdown",
   "id": "a7d11ed4-358c-46f2-a7ee-57622c6ce8a8",
   "metadata": {},
   "source": [
    "일반적으로 **자료형**으로 불리는 \n",
    "**데이터 유형**<font size = \"2\">data type</font>은 사용되는 데이터와\n",
    "관련된 많은 정보를 포함한다.\n",
    "해석기<font size = \"2\">interpreter</font> 또는 \n",
    "컴파일러<font size = \"2\">compiler</font>는 \n",
    "자료형에 포함된 정보를 이용하여 해당 데이터의 사용법을 확인한다.\n",
    "이번 장에서는 파이썬 프로그래밍 언어가 제공하는\n",
    "기본 자료형 네 가지를 간단히 살펴본다.\n",
    "\n",
    "* 정수\n",
    "* 부동소수점\n",
    "* 부울값\n",
    "* 문자열"
   ]
  },
  {
   "cell_type": "markdown",
   "id": "d96f5282-8c49-4e4f-9048-f12eebce419b",
   "metadata": {},
   "source": [
    "## 정수"
   ]
  },
  {
   "cell_type": "markdown",
   "id": "2d53794f-5d27-4f97-a5d1-f6faef5e9271",
   "metadata": {},
   "source": [
    "일반적으로 알고 있는 -2, -1, 0, 1, 2 등의 정수(자연수, 0, 음의 정수)는 `int` 자료형의 값이다.\n",
    "정수형으로 나타내면 덧셈, 뺄셈, 곱셈, 나눗셈 등의 기본 연산이 가능하다. \n",
    "정수는 사칙연산, 변수 할당 등에 사용된다."
   ]
  },
  {
   "cell_type": "code",
   "execution_count": 1,
   "id": "ddfee626",
   "metadata": {},
   "outputs": [
    {
     "data": {
      "text/plain": [
       "3"
      ]
     },
     "execution_count": 1,
     "metadata": {},
     "output_type": "execute_result"
    }
   ],
   "source": [
    "1 + 2"
   ]
  },
  {
   "cell_type": "code",
   "execution_count": 2,
   "id": "b84c0aa8",
   "metadata": {},
   "outputs": [
    {
     "data": {
      "text/plain": [
       "8"
      ]
     },
     "execution_count": 2,
     "metadata": {},
     "output_type": "execute_result"
    }
   ],
   "source": [
    "a = 4\n",
    "a * 2"
   ]
  },
  {
   "cell_type": "markdown",
   "id": "b467351c",
   "metadata": {},
   "source": [
    "`type()` 함수는 주어진 값의 자료형을 확인해준다."
   ]
  },
  {
   "cell_type": "code",
   "execution_count": 3,
   "id": "765c4b84",
   "metadata": {},
   "outputs": [
    {
     "data": {
      "text/plain": [
       "int"
      ]
     },
     "execution_count": 3,
     "metadata": {},
     "output_type": "execute_result"
    }
   ],
   "source": [
    "type(a)"
   ]
  },
  {
   "cell_type": "markdown",
   "id": "2f65accb-e9c8-4fd7-930d-0a11ae5f186d",
   "metadata": {},
   "source": [
    "## 부동소수점"
   ]
  },
  {
   "cell_type": "markdown",
   "id": "e96675b4",
   "metadata": {},
   "source": [
    "**부동소수점**은 유리수, 실수 등을 가리키며 `float` 유형의 값이다.\n",
    "1.2, 0.333, -1.2, -3.7680, 4.0 등은 모두 부동소수점형(`float`)이다.\n",
    "정수와 마찬가지로 사칙연산, 변수 할당 등에 사용된다.\n",
    "\n",
    "부동소수점은 원래 실수를 컴퓨터에서 다루기 위해 개발되었으나 실제로는 유한 소수만을 다룬다.\n",
    "예를 들어 무리수인 원주율 $\\pi$의 경우에도 \n",
    "컴퓨터의 한계로 인해 소수점 이하 적당한 자리에서 끊어서 사용한다."
   ]
  },
  {
   "cell_type": "code",
   "execution_count": 4,
   "id": "92039229",
   "metadata": {},
   "outputs": [
    {
     "data": {
      "text/plain": [
       "5.4"
      ]
     },
     "execution_count": 4,
     "metadata": {},
     "output_type": "execute_result"
    }
   ],
   "source": [
    "2.1 + 3.3"
   ]
  },
  {
   "cell_type": "code",
   "execution_count": 5,
   "id": "867c56b7",
   "metadata": {},
   "outputs": [
    {
     "data": {
      "text/plain": [
       "float"
      ]
     },
     "execution_count": 5,
     "metadata": {},
     "output_type": "execute_result"
    }
   ],
   "source": [
    "c = 2.1\n",
    "type(c)"
   ]
  },
  {
   "cell_type": "markdown",
   "id": "a4e26abb",
   "metadata": {},
   "source": [
    "정수와의 연산도 가능한데, 이때 정수를 부동소수점으로 취급한다. \n",
    "예를 들어 3은 3.0으로 처리된다."
   ]
  },
  {
   "cell_type": "code",
   "execution_count": 6,
   "id": "aebe2722",
   "metadata": {},
   "outputs": [
    {
     "data": {
      "text/plain": [
       "5.3"
      ]
     },
     "execution_count": 6,
     "metadata": {},
     "output_type": "execute_result"
    }
   ],
   "source": [
    "2.3 + 3"
   ]
  },
  {
   "cell_type": "code",
   "execution_count": 7,
   "id": "6b89124e",
   "metadata": {},
   "outputs": [
    {
     "data": {
      "text/plain": [
       "5.3"
      ]
     },
     "execution_count": 7,
     "metadata": {},
     "output_type": "execute_result"
    }
   ],
   "source": [
    "2.3 + 3.0"
   ]
  },
  {
   "cell_type": "markdown",
   "id": "119a81bf-61bf-4253-8777-ea800667a235",
   "metadata": {
    "tags": []
   },
   "source": [
    "### 정수와 부동소수점 연산"
   ]
  },
  {
   "cell_type": "markdown",
   "id": "1c0ca5b2-fb96-4eb5-960a-4f82f83702f1",
   "metadata": {},
   "source": [
    "파이썬의 기본 연산을 표로 정리하면 아래와 같다. "
   ]
  },
  {
   "cell_type": "markdown",
   "id": "dccba24e-042e-4e97-b383-174877cab403",
   "metadata": {},
   "source": [
    "|연산 기호|의미|예시|실행 결과|\n",
    "|:----------:|:----------:|:----------:|:--------:|\n",
    "|`+`|덧셈| `3 + 4` |`7`|\n",
    "|`-`|뺄셈| `7 - 2` | `5`|\n",
    "|`*`|곱셈| `2 * 6` | `12`|\n",
    "|`/`|나눗셈|`14 / 4`|`3.5`|\n",
    "|`**`|지수승|`2 ** 3`|`8`|\n",
    "|`//`|몫|`9 // 2`|`4`|\n",
    "|`%`|나머지|`3 % 2`|`1`|"
   ]
  },
  {
   "cell_type": "markdown",
   "id": "d2e4ef18",
   "metadata": {},
   "source": [
    "나눗셈은 항상 부동소수점을 계산한다."
   ]
  },
  {
   "cell_type": "code",
   "execution_count": 8,
   "id": "f305316c",
   "metadata": {},
   "outputs": [
    {
     "data": {
      "text/plain": [
       "2.3333333333333335"
      ]
     },
     "execution_count": 8,
     "metadata": {},
     "output_type": "execute_result"
    }
   ],
   "source": [
    "7 / 3"
   ]
  },
  {
   "cell_type": "markdown",
   "id": "4a6cb81b",
   "metadata": {},
   "source": [
    "나머지 연산은 부동소수점이 인자로 사용되면 부동소수점을,\n",
    "그렇지 않으면 정수를 계산한다. "
   ]
  },
  {
   "cell_type": "code",
   "execution_count": 9,
   "id": "df94fd7c",
   "metadata": {},
   "outputs": [
    {
     "data": {
      "text/plain": [
       "5.0"
      ]
     },
     "execution_count": 9,
     "metadata": {},
     "output_type": "execute_result"
    }
   ],
   "source": [
    "3.0 + 2"
   ]
  },
  {
   "cell_type": "code",
   "execution_count": 10,
   "id": "bc961d87",
   "metadata": {},
   "outputs": [
    {
     "data": {
      "text/plain": [
       "8"
      ]
     },
     "execution_count": 10,
     "metadata": {},
     "output_type": "execute_result"
    }
   ],
   "source": [
    "2 ** 3"
   ]
  },
  {
   "cell_type": "code",
   "execution_count": 11,
   "id": "c9ddaa1a",
   "metadata": {},
   "outputs": [
    {
     "data": {
      "text/plain": [
       "3.0"
      ]
     },
     "execution_count": 11,
     "metadata": {},
     "output_type": "execute_result"
    }
   ],
   "source": [
    "9 ** 0.5"
   ]
  },
  {
   "cell_type": "markdown",
   "id": "a4a5f817",
   "metadata": {},
   "source": [
    "몫과 나머지 연산도 동일하다. "
   ]
  },
  {
   "cell_type": "code",
   "execution_count": 12,
   "id": "ed1161a6",
   "metadata": {},
   "outputs": [
    {
     "data": {
      "text/plain": [
       "-3"
      ]
     },
     "execution_count": 12,
     "metadata": {},
     "output_type": "execute_result"
    }
   ],
   "source": [
    "-7 // 3"
   ]
  },
  {
   "cell_type": "code",
   "execution_count": 13,
   "id": "7a3d1e3c",
   "metadata": {},
   "outputs": [
    {
     "data": {
      "text/plain": [
       "2"
      ]
     },
     "execution_count": 13,
     "metadata": {},
     "output_type": "execute_result"
    }
   ],
   "source": [
    "-7 % 3"
   ]
  },
  {
   "cell_type": "code",
   "execution_count": 14,
   "id": "9153e130-dada-456f-809d-dbf43d3d767b",
   "metadata": {},
   "outputs": [
    {
     "data": {
      "text/plain": [
       "-3.0"
      ]
     },
     "execution_count": 14,
     "metadata": {},
     "output_type": "execute_result"
    }
   ],
   "source": [
    "-7.0 // 3"
   ]
  },
  {
   "cell_type": "code",
   "execution_count": 15,
   "id": "47e49f8a",
   "metadata": {},
   "outputs": [
    {
     "data": {
      "text/plain": [
       "2.0"
      ]
     },
     "execution_count": 15,
     "metadata": {},
     "output_type": "execute_result"
    }
   ],
   "source": [
    "-7 % 3.0"
   ]
  },
  {
   "cell_type": "markdown",
   "id": "873dbbcf-53af-4e70-ab8e-b30a20b45fc7",
   "metadata": {},
   "source": [
    ":::{admonition} 참고 \n",
    ":class: info\n",
    "\n",
    "몫과 나머지 연산은 초등학교에서 배운 것과 동일하다.\n",
    "즉, `(a // b) * b + (a % b)` 를 계산하면 정확하게 `a` 가 된다.\n",
    "\n",
    "```python\n",
    ">>> -7 == (-7 // 3) * 3 + (-7 % 3)\n",
    "True\n",
    ":::"
   ]
  },
  {
   "cell_type": "markdown",
   "id": "ba1b2504-15f8-4d9f-b54e-c40314831398",
   "metadata": {
    "tags": []
   },
   "source": [
    "## 문자열"
   ]
  },
  {
   "cell_type": "markdown",
   "id": "944bfcd9",
   "metadata": {},
   "source": [
    "**문자열**<font size=\"2\">string</font>은 문자 기호로 이루어진 단어, 문장 등을 가리킨다.\n",
    "키보드에 포함된 영문 알파벳, 한글 자음과 모음 등을 기본적으로 사용한다.\n",
    "문자열은 세 가지 방식으로 작성될 수 있다."
   ]
  },
  {
   "cell_type": "markdown",
   "id": "82493506",
   "metadata": {},
   "source": [
    "**작은 따옴표 활용**"
   ]
  },
  {
   "cell_type": "code",
   "execution_count": 16,
   "id": "45d181a7",
   "metadata": {},
   "outputs": [
    {
     "name": "stdout",
     "output_type": "stream",
     "text": [
      "안녕하세요.\n"
     ]
    }
   ],
   "source": [
    "s = '안녕하세요.'\n",
    "print(s)"
   ]
  },
  {
   "cell_type": "markdown",
   "id": "eda789d1",
   "metadata": {},
   "source": [
    "**큰 따옴표 활용**"
   ]
  },
  {
   "cell_type": "code",
   "execution_count": 17,
   "id": "14cbe07e",
   "metadata": {},
   "outputs": [
    {
     "name": "stdout",
     "output_type": "stream",
     "text": [
      "안녕하세요.\n"
     ]
    }
   ],
   "source": [
    "s = \"안녕하세요.\"\n",
    "print(s)"
   ]
  },
  {
   "cell_type": "markdown",
   "id": "6c5a67ac",
   "metadata": {},
   "source": [
    "**연속된 세 개의 작은 또는 큰 따옴표 활용**\n",
    "\n",
    "여러 줄로 이루어진 문자열 작성에 사용된다."
   ]
  },
  {
   "cell_type": "code",
   "execution_count": 18,
   "id": "31446530",
   "metadata": {},
   "outputs": [
    {
     "name": "stdout",
     "output_type": "stream",
     "text": [
      "안녕.\n",
      "잘 지내?\n"
     ]
    }
   ],
   "source": [
    "s = '''안녕.\n",
    "잘 지내?'''\n",
    "\n",
    "print(s)"
   ]
  },
  {
   "cell_type": "code",
   "execution_count": 19,
   "id": "bbe72b6a",
   "metadata": {},
   "outputs": [
    {
     "name": "stdout",
     "output_type": "stream",
     "text": [
      "안녕.\n",
      "잘 지내?\n"
     ]
    }
   ],
   "source": [
    "s = \"\"\"안녕.\n",
    "잘 지내?\"\"\"\n",
    "\n",
    "print(s)"
   ]
  },
  {
   "cell_type": "markdown",
   "id": "dea2ed2e",
   "metadata": {},
   "source": [
    "스페이스와 탭을 활용해서 생성된 여백<font size=\"2\">white space</font>도 문자열로 처리된다."
   ]
  },
  {
   "cell_type": "code",
   "execution_count": 20,
   "id": "d9f04d80",
   "metadata": {},
   "outputs": [
    {
     "name": "stdout",
     "output_type": "stream",
     "text": [
      "안녕.\n",
      "    잘 지내?\n"
     ]
    }
   ],
   "source": [
    "s = '''안녕.\n",
    "    잘 지내?'''\n",
    "\n",
    "print(s)"
   ]
  },
  {
   "cell_type": "code",
   "execution_count": 21,
   "id": "43da021c",
   "metadata": {},
   "outputs": [
    {
     "name": "stdout",
     "output_type": "stream",
     "text": [
      "안녕.\n",
      "    잘 지내?\n"
     ]
    }
   ],
   "source": [
    "s = \"\"\"안녕.\n",
    "    잘 지내?\"\"\"\n",
    "\n",
    "print(s)"
   ]
  },
  {
   "cell_type": "markdown",
   "id": "1f3f75a2",
   "metadata": {},
   "source": [
    ":::{admonition} 유니코드\n",
    ":class: info\n",
    "\n",
    "키보드 상에 존재하지 않는 다른 기호나 문자도 **유니코드**<font size=\"2\">unicode</font> \n",
    "형식으로 지원된다.\n",
    "대표적으로 서유럽 언어에서 많이 사용되는 \n",
    "&#xE0;, &#xE2;, &#xE7;, &#xE8;,&#xFC; 등 특수 알파벳 등이\n",
    "유니코드로 지원된다.\n",
    "\n",
    "또한 이모티콘도 지원된다. \n",
    "예를 들어 웃는 얼굴의 이모티콘을 나타내는 문자열은 다음과 같다. \n",
    "\n",
    "```python\n",
    ">>> s = '\\U0001f600'\n",
    ">>> s\n",
    "'😀'\n",
    ">>> s * 2\n",
    "'😀😀'\n",
    "```\n",
    "\n",
    "유니코드로 지원되는 모든 이모티콘은 [Emoji Charts](https://unicode.org/emoji/charts/emoji-list.html)에서\n",
    "확인할 수 있다. 단, `U+`로 시작하는 부분을 `U000` 으로 대체해서 사용해야 한다. \n",
    ":::"
   ]
  },
  {
   "cell_type": "markdown",
   "id": "693648a4",
   "metadata": {},
   "source": [
    "### 백슬래시와 이스케이프 문자"
   ]
  },
  {
   "cell_type": "markdown",
   "id": "c397ca74",
   "metadata": {},
   "source": [
    "문자열 자체에 따옴표가 포함되면 조심해야 한다.\n",
    "예를 들어, 작은 따옴표가 포함된 문자열을 다음과 같이 지정하면 오류가 발생한다.\n",
    "\n",
    "```python\n",
    ">>> s = 'Python's grammar'\n",
    "  File \"<stdin>\", line 1\n",
    "    s = 'Python's grammar'\n",
    "                ^\n",
    "SyntaxError: invalid syntax\n",
    "```\n",
    "\n",
    "이유는 작은 따옴표로 문자열의 시작을 지정했기 때문에\n",
    "`Python's` 문장에 사용된 작은 따옴표가 \n",
    "문자열의 끝을 의미하게 되는데\n",
    "이후에도 문자열이 이어지게 되어 결국 문자열의 끝이 불분명해져서\n",
    "구문 오류를 뜻하는 `SyntaxError`가 발생한다.\n",
    "\n",
    "이런 종류의 오류를 방지하는 다양한 방식이 존재하지만,\n",
    "여기서는 **백슬래시**<font size=\"2\">backslash</font> 기호 (`\\`)를 \n",
    "따옴표 바로 앞에 추가하는 방식만 소개한다."
   ]
  },
  {
   "cell_type": "code",
   "execution_count": 22,
   "id": "37f22622",
   "metadata": {},
   "outputs": [
    {
     "name": "stdout",
     "output_type": "stream",
     "text": [
      "Python's grammar\n"
     ]
    }
   ],
   "source": [
    "s = 'Python\\'s grammar'\n",
    "print(s)"
   ]
  },
  {
   "cell_type": "markdown",
   "id": "51e70c23",
   "metadata": {},
   "source": [
    ":::{admonition} 슬래시 기호(&#x5C;)와 원화 기호(&#x20a9;)\n",
    ":class: info\n",
    "\n",
    "백슬래시 키는 키보드의 <kbd>Enter</kbd> 키 바로 위에 위치하는데\n",
    "한글 키보드의 경우 원화 기호 키 <kbd>&#x20a9;</kbd> 가 대신 \n",
    "자리잡고 있을 수 있다.\n",
    "그리고 모니터 화면에도 사용하는 운영체제의 언어 설정에 따라\n",
    "원화 기호(&#x20a9;)와 백슬래시 기호(&#x5C;) 둘 중에 하나로만 보인다.\n",
    "하지만 단순한 언어 설정의 차이일 뿐 기능은 동일하다.\n",
    ":::"
   ]
  },
  {
   "cell_type": "markdown",
   "id": "25a240a9",
   "metadata": {},
   "source": [
    "백슬래시는 이처럼 특정 문자와 함께 사용되면 특별한 기능을 갖는\n",
    "**이스케이프 문자**<font size=\"2\">escape character</font>를 구성한다.\n",
    "가장 많이 사용되는 이스케이프 문자의 목록은 다음과 같다.\n",
    "\n",
    "| 이스케이프 문자 | 의미 |\n",
    "| :---: | :---:    |\n",
    "| `\\'` | 작은 따옴표 |\n",
    "| `\\\"` | 큰 따옴표 |\n",
    "| `\\\\` | 백슬래시 기호 |\n",
    "| `\\n` | 줄바꿈 |\n",
    "| `\\t` | 탭 |"
   ]
  },
  {
   "cell_type": "markdown",
   "id": "768c7c1d-d157-46a4-8bc1-f117a07434d8",
   "metadata": {
    "tags": []
   },
   "source": [
    "### 문자열 기본 연산"
   ]
  },
  {
   "cell_type": "markdown",
   "id": "3d46c384-2da9-45d2-a2b3-9999d19a2f48",
   "metadata": {},
   "source": [
    "|연산 기호|의미|예시|실행 결과|\n",
    "|:----------:|:----------:|:----------:|:--------:|\n",
    "|`+`|이어붙이기| `'Hello ' + 'python'` |`'Hello python'`|\n",
    "|`*`|연속 복제| `3 * 'Hello '` | `Hello Hello Hello `|\n",
    "| | | `'Hello ' * 3` | `Hello Hello Hello `|"
   ]
  },
  {
   "cell_type": "markdown",
   "id": "b33f3df3",
   "metadata": {},
   "source": [
    "덧셈 기호는 두 문자열을 이어붙인다."
   ]
  },
  {
   "cell_type": "code",
   "execution_count": 23,
   "id": "71d8b977-cb8b-42fb-8b3b-80f626981a97",
   "metadata": {},
   "outputs": [
    {
     "name": "stdout",
     "output_type": "stream",
     "text": [
      "안녕, 강현\n"
     ]
    }
   ],
   "source": [
    "name = \"강현\"\n",
    "print(\"안녕, \" + name)"
   ]
  },
  {
   "cell_type": "markdown",
   "id": "b555bbc1",
   "metadata": {},
   "source": [
    "문자열 하나와 양의 정수의 연산은 지정된 정수 만큼 문자열을 복제하여 이어붙인다."
   ]
  },
  {
   "cell_type": "code",
   "execution_count": 24,
   "id": "9bb56e8b-d261-4be9-ae65-61ab1472c42e",
   "metadata": {},
   "outputs": [
    {
     "data": {
      "text/plain": [
       "'Hello Hello Hello '"
      ]
     },
     "execution_count": 24,
     "metadata": {},
     "output_type": "execute_result"
    }
   ],
   "source": [
    "\"Hello \" * 3"
   ]
  },
  {
   "cell_type": "code",
   "execution_count": 25,
   "id": "9366dbd1-88b0-4c2c-87b4-0e4e66392c67",
   "metadata": {},
   "outputs": [
    {
     "data": {
      "text/plain": [
       "'Hi Hi '"
      ]
     },
     "execution_count": 25,
     "metadata": {},
     "output_type": "execute_result"
    }
   ],
   "source": [
    "2 * \"Hi \""
   ]
  },
  {
   "cell_type": "markdown",
   "id": "07c5b491",
   "metadata": {},
   "source": [
    "양의 정수가 아니면 빈 문자열로 계산된다."
   ]
  },
  {
   "cell_type": "code",
   "execution_count": 26,
   "id": "eb189c88",
   "metadata": {},
   "outputs": [
    {
     "data": {
      "text/plain": [
       "''"
      ]
     },
     "execution_count": 26,
     "metadata": {},
     "output_type": "execute_result"
    }
   ],
   "source": [
    "\"Hello \" * 0"
   ]
  },
  {
   "cell_type": "code",
   "execution_count": 27,
   "id": "54b298eb",
   "metadata": {},
   "outputs": [
    {
     "data": {
      "text/plain": [
       "''"
      ]
     },
     "execution_count": 27,
     "metadata": {},
     "output_type": "execute_result"
    }
   ],
   "source": [
    "\"Hello \" * -2"
   ]
  },
  {
   "cell_type": "markdown",
   "id": "c234c816-e844-497d-b320-a3984d48ec93",
   "metadata": {},
   "source": [
    ":::{admonition} 주의\n",
    ":class: caution  \n",
    "연산자는 사용되는 인자의 자료형에 민감하다.\n",
    "예를 들어 `2 + 'hello'`는 오류를 발생시킨다. \n",
    "\n",
    "```python\n",
    ">>> 2 + 'hello'\n",
    "Traceback (most recent call last):\n",
    "  File \"<stdin>\", line 1, in <module>\n",
    "TypeError: unsupported operand type(s) for +: 'int' and 'str'\n",
    "```\n",
    ":::"
   ]
  },
  {
   "cell_type": "markdown",
   "id": "d22789f3-8b09-41ae-952b-1b89e286f474",
   "metadata": {
    "tags": []
   },
   "source": [
    "### whitespace"
   ]
  },
  {
   "cell_type": "markdown",
   "id": "932a0630-ebab-4907-aa63-1419069437f5",
   "metadata": {},
   "source": [
    "whitespace는 화면상으로 아무것도 표시되지 않는 공백 문자를 말한다.  \n",
    "\n",
    "`string.whitespace`는 공백으로 간주하는 문자를 포함하는 문자열로, 여기에는 스페이스<font size = \"2\">space</font>, 탭<font size = \"2\">tab</font>, 줄변경<font size = \"2\">line feed or new line</font>, 캐리지 리턴<font size = \"2\">carriage return</font>, 수직탭<font size = \"2\">vertical tab</font>, 폼피드<font size = \"2\">form feed</font> 문자가 포함된다."
   ]
  },
  {
   "cell_type": "code",
   "execution_count": 28,
   "id": "1bbb7148-38f7-4a48-ba0c-c6d33a11640d",
   "metadata": {},
   "outputs": [
    {
     "data": {
      "text/plain": [
       "' \\t\\n\\r\\x0b\\x0c'"
      ]
     },
     "execution_count": 28,
     "metadata": {},
     "output_type": "execute_result"
    }
   ],
   "source": [
    "import string\n",
    "string.whitespace"
   ]
  },
  {
   "cell_type": "markdown",
   "id": "fc875118-391d-402d-96bc-fbb6502318f1",
   "metadata": {},
   "source": [
    "|기호|설명|\n",
    "|:----------:|:----------:|\n",
    "|` `|공백 <font size = \"2\">space</font>| \n",
    "|`\\t`|탭 <font size = \"2\">tab</font>| \n",
    "|`\\n`|줄변경 <font size = \"2\">line feed or new line</font>|\n",
    "|`\\r`|캐리지 리턴 <font size = \"2\">carriage return</font>|\n",
    "|`\\v` 또는 `\\x0b`|수직탭 <font size = \"2\">vertical tab</font>|\n",
    "|`\\f` 또는 `\\x0c`|폼피드<font size = \"2\">form feed</font>|"
   ]
  },
  {
   "cell_type": "code",
   "execution_count": 29,
   "id": "2a97ddd8-b249-4099-82f7-04c15779e2cd",
   "metadata": {},
   "outputs": [
    {
     "name": "stdout",
     "output_type": "stream",
     "text": [
      "1\n",
      "2\t3\n"
     ]
    }
   ],
   "source": [
    "print('1\\n2\\t3')"
   ]
  },
  {
   "cell_type": "code",
   "execution_count": 30,
   "id": "4569e40c-3de9-467b-aad0-2418d14ed79c",
   "metadata": {},
   "outputs": [
    {
     "name": "stdout",
     "output_type": "stream",
     "text": [
      "123\b4\n"
     ]
    }
   ],
   "source": [
    "print('123\\b4')"
   ]
  },
  {
   "cell_type": "markdown",
   "id": "23abd715-8d70-4df8-9741-ddcbf710858f",
   "metadata": {},
   "source": [
    "* 캐리지 리턴(`\\r`)은 그 줄의 맨앞으로 이동시키는 특수 문자이다."
   ]
  },
  {
   "cell_type": "code",
   "execution_count": 31,
   "id": "901e3690-71cd-4a1a-9ec6-107bc59ad96f",
   "metadata": {},
   "outputs": [
    {
     "name": "stdout",
     "output_type": "stream",
     "text": [
      "1234\r",
      "56\n"
     ]
    }
   ],
   "source": [
    "print('1234\\r56')"
   ]
  },
  {
   "cell_type": "markdown",
   "id": "456b60d4-97e2-4553-8f52-545de260a5d3",
   "metadata": {},
   "source": [
    "* `\\v` 또는 `\\x0b`는 수직탭이고,  `\\f` 또는 `\\x0c`는 다음 페이지로 이동하는 것을 의미한다. "
   ]
  },
  {
   "cell_type": "markdown",
   "id": "4790ddea-5387-405c-8fad-1ba2cc6afe2e",
   "metadata": {},
   "source": [
    ":::{admonition} 문자열 `''`과 문자의 `' '` 차이첨 \n",
    ":class: info\n",
    "\n",
    "빈 문자열<font size = \"2\">empty string</font> `''`는 아무런 문자도 포함하지 않았기 때문에 문자열의 길이 즉, 문자열에 포함된 문자의 개수가 0이다.   \n",
    "반면 `' '`는 눈에 보이지는 않지만 공백 문제 하나를 포함하는 문자열이며 길이가 1이다. \n",
    ":::"
   ]
  },
  {
   "cell_type": "markdown",
   "id": "0e33dd73-050f-42cb-8b5f-696a14e7d00b",
   "metadata": {
    "tags": []
   },
   "source": [
    "### 문자열에 특수 문자 활용하기"
   ]
  },
  {
   "cell_type": "markdown",
   "id": "7f09dff6-202c-4fb9-be2a-c3a54befbcca",
   "metadata": {},
   "source": [
    "백슬래시(￦), 줄바꾸기(￦n), 탭(￦t) 등은 문자열에 사용될 경우 특수한 기능을 갖는다. 그리고 백슬래시(`\\`)기호를 붙여서 특수 기능을 해제<font size= \"2\">escape</font>할 수 있다."
   ]
  },
  {
   "cell_type": "code",
   "execution_count": 32,
   "id": "a33dad16-b112-4c87-911f-412cdafea4aa",
   "metadata": {},
   "outputs": [
    {
     "name": "stdout",
     "output_type": "stream",
     "text": [
      "Hello\\n World\n"
     ]
    }
   ],
   "source": [
    "print(\"Hello\\\\n World\")"
   ]
  },
  {
   "cell_type": "code",
   "execution_count": 33,
   "id": "db577ef9-4e9d-4317-bc4f-ac773aca7ae7",
   "metadata": {},
   "outputs": [
    {
     "name": "stdout",
     "output_type": "stream",
     "text": [
      "Hello\\t World\n"
     ]
    }
   ],
   "source": [
    "print(\"Hello\\\\t World\")"
   ]
  },
  {
   "cell_type": "code",
   "execution_count": 34,
   "id": "883b72c4-b57a-4267-a932-95ad7c588a6f",
   "metadata": {},
   "outputs": [
    {
     "name": "stdout",
     "output_type": "stream",
     "text": [
      "Good\\night\n"
     ]
    }
   ],
   "source": [
    "print(\"Good\\\\night\")"
   ]
  },
  {
   "cell_type": "markdown",
   "id": "78c70207-3523-4e6e-96d1-8c3c03b687f4",
   "metadata": {},
   "source": [
    "연속된 백슬래시 두 개를 출력하려면 아래와 같이 해야 한다."
   ]
  },
  {
   "cell_type": "code",
   "execution_count": 35,
   "id": "f3430738-e739-4d91-a29e-633443c93cfc",
   "metadata": {},
   "outputs": [
    {
     "name": "stdout",
     "output_type": "stream",
     "text": [
      "\\\\\n"
     ]
    }
   ],
   "source": [
    "print(\"\\\\\\\\\")"
   ]
  },
  {
   "cell_type": "markdown",
   "id": "90368152-9d3b-49e0-bc22-11955c1c7037",
   "metadata": {},
   "source": [
    ":::{admonition} 주의\n",
    ":class: caution\n",
    "\n",
    "아래와 같이 코드를 작성하면 오류가 발생하므로 주의해야 한다.\n",
    "```python\n",
    ">>> print(\"\\\\\\\")\n",
    "  File \"/tmp/ipykernel_76/2337434698.py\", line 1\n",
    "    print(\"\\\\\\\")\n",
    "                ^\n",
    "SyntaxError: EOL while scanning string literal\n",
    "```"
   ]
  },
  {
   "cell_type": "markdown",
   "id": "373bd988-5c89-4763-8941-b20be415f334",
   "metadata": {},
   "source": [
    ":::{admonition} 참고 \n",
    ":class: info  \n",
    "**순수 문자열**\n",
    "'가공되지 않은'의 의미를 갖는 'raw' 단어의 첫 글자인 'r'을 문자열 앞에 두면 특수 기능이 사라진다.\n",
    ":::"
   ]
  },
  {
   "cell_type": "code",
   "execution_count": 36,
   "id": "f001fdbb-de32-4ce6-bd06-7451e08eecce",
   "metadata": {},
   "outputs": [
    {
     "name": "stdout",
     "output_type": "stream",
     "text": [
      "Hello\\n World\n"
     ]
    }
   ],
   "source": [
    "print(r\"Hello\\n World\")"
   ]
  },
  {
   "cell_type": "code",
   "execution_count": 37,
   "id": "7ae0db1a-75f5-4692-af0d-d50789ca9259",
   "metadata": {},
   "outputs": [
    {
     "name": "stdout",
     "output_type": "stream",
     "text": [
      "Hello\\t World\n"
     ]
    }
   ],
   "source": [
    "print(r\"Hello\\t World\")"
   ]
  },
  {
   "cell_type": "code",
   "execution_count": 38,
   "id": "3aefec91-d251-4c6f-b224-bdd7a158d5d1",
   "metadata": {},
   "outputs": [
    {
     "name": "stdout",
     "output_type": "stream",
     "text": [
      "Hello\\ World\n"
     ]
    }
   ],
   "source": [
    "print(r\"Hello\\ World\")"
   ]
  },
  {
   "cell_type": "markdown",
   "id": "f46d223a-a7a9-4eaf-88d3-0edbe0fb7971",
   "metadata": {
    "tags": []
   },
   "source": [
    "### 문자열과 `input()` 함수"
   ]
  },
  {
   "cell_type": "markdown",
   "id": "0da1b2dd-8dc9-46ef-9372-6780da3f1a52",
   "metadata": {},
   "source": [
    "사용자의 입력은 `input()` 함수를 사용하여 받을 수 있다. 아래와 같이 `input()`을 입력하고 코드를 실행하면, 그 아래에 값을 입력하라는 창이 나온다. 그곳에 `Hello, python!`을 입력하고 엔터<font size =\"2\">enter</font>를 누르면 입력한 문자열이 그대로 출력된다."
   ]
  },
  {
   "cell_type": "code",
   "execution_count": 39,
   "id": "2109b266-238f-4c57-a3ff-072b50295c11",
   "metadata": {},
   "outputs": [
    {
     "ename": "StdinNotImplementedError",
     "evalue": "raw_input was called, but this frontend does not support input requests.",
     "output_type": "error",
     "traceback": [
      "\u001b[0;31m---------------------------------------------------------------------------\u001b[0m",
      "\u001b[0;31mStdinNotImplementedError\u001b[0m                  Traceback (most recent call last)",
      "\u001b[0;32m/tmp/ipykernel_2252/1290019835.py\u001b[0m in \u001b[0;36m<module>\u001b[0;34m\u001b[0m\n\u001b[0;32m----> 1\u001b[0;31m \u001b[0minput\u001b[0m\u001b[0;34m(\u001b[0m\u001b[0;34m)\u001b[0m\u001b[0;34m\u001b[0m\u001b[0;34m\u001b[0m\u001b[0m\n\u001b[0m",
      "\u001b[0;32m~/anaconda3/lib/python3.9/site-packages/ipykernel/kernelbase.py\u001b[0m in \u001b[0;36mraw_input\u001b[0;34m(self, prompt)\u001b[0m\n\u001b[1;32m   1001\u001b[0m         \"\"\"\n\u001b[1;32m   1002\u001b[0m         \u001b[0;32mif\u001b[0m \u001b[0;32mnot\u001b[0m \u001b[0mself\u001b[0m\u001b[0;34m.\u001b[0m\u001b[0m_allow_stdin\u001b[0m\u001b[0;34m:\u001b[0m\u001b[0;34m\u001b[0m\u001b[0;34m\u001b[0m\u001b[0m\n\u001b[0;32m-> 1003\u001b[0;31m             raise StdinNotImplementedError(\n\u001b[0m\u001b[1;32m   1004\u001b[0m                 \u001b[0;34m\"raw_input was called, but this frontend does not support input requests.\"\u001b[0m\u001b[0;34m\u001b[0m\u001b[0;34m\u001b[0m\u001b[0m\n\u001b[1;32m   1005\u001b[0m             )\n",
      "\u001b[0;31mStdinNotImplementedError\u001b[0m: raw_input was called, but this frontend does not support input requests."
     ]
    }
   ],
   "source": [
    "input()"
   ]
  },
  {
   "cell_type": "markdown",
   "id": "d0c5cc9e-5481-4289-932e-90ac2a314ec7",
   "metadata": {},
   "source": [
    "`input()` 함수로 입력받은 값은 변수에 할당하여 사용할 수도 있다."
   ]
  },
  {
   "cell_type": "code",
   "execution_count": 76,
   "id": "c896f9f1-7cf4-4921-82b9-6f43e447ab09",
   "metadata": {},
   "outputs": [
    {
     "name": "stdin",
     "output_type": "stream",
     "text": [
      " python!\n"
     ]
    },
    {
     "name": "stdout",
     "output_type": "stream",
     "text": [
      "Hello, python!\n"
     ]
    }
   ],
   "source": [
    "name = input()\n",
    "print(\"Hello, \" + name)"
   ]
  },
  {
   "cell_type": "markdown",
   "id": "770046ba-eb59-4dd0-8069-e999e82d2f0c",
   "metadata": {},
   "source": [
    "이때 `input()` 함수로 입력받은 값은 문자열`str`이다."
   ]
  },
  {
   "cell_type": "code",
   "execution_count": 77,
   "id": "94954e7e-20dd-4202-b810-89a15cdfee45",
   "metadata": {},
   "outputs": [
    {
     "data": {
      "text/plain": [
       "str"
      ]
     },
     "execution_count": 77,
     "metadata": {},
     "output_type": "execute_result"
    }
   ],
   "source": [
    "type(name)"
   ]
  },
  {
   "cell_type": "markdown",
   "id": "438a8616-7b72-4916-84f4-9d24a899b9b3",
   "metadata": {},
   "source": [
    "사용자가 숫자를 입력하더라도 입력받은 값은 문자열`str`이다."
   ]
  },
  {
   "cell_type": "code",
   "execution_count": 80,
   "id": "05dec1e8-67aa-4c4d-a349-67e091fbd48e",
   "metadata": {},
   "outputs": [
    {
     "name": "stdin",
     "output_type": "stream",
     "text": [
      " 123\n"
     ]
    },
    {
     "data": {
      "text/plain": [
       "str"
      ]
     },
     "execution_count": 80,
     "metadata": {},
     "output_type": "execute_result"
    }
   ],
   "source": [
    "num = input()\n",
    "type(num)"
   ]
  },
  {
   "cell_type": "markdown",
   "id": "fcdea0ce-912b-41c0-8da1-0e4350ac3d86",
   "metadata": {},
   "source": [
    "사용자에게 무엇을 입력할지 알려주고 싶다면, 그 내용의 문자열을 `input()`의 인자로 사용하면 된다."
   ]
  },
  {
   "cell_type": "code",
   "execution_count": 83,
   "id": "937e5696-da4c-4729-b120-3b44eac87c4e",
   "metadata": {},
   "outputs": [
    {
     "name": "stdin",
     "output_type": "stream",
     "text": [
      "정수를 입력하세요 :  135\n"
     ]
    },
    {
     "name": "stdout",
     "output_type": "stream",
     "text": [
      "입력하신 정수는 135입니다.\n"
     ]
    }
   ],
   "source": [
    "input_num = input(\"정수를 입력하세요 : \")\n",
    "print(\"입력하신 정수는 \" + input_num + \"입니다.\")"
   ]
  },
  {
   "cell_type": "markdown",
   "id": "c49093a8-0e14-48db-8f0b-b80eee86101b",
   "metadata": {},
   "source": [
    "### 문자열과 `print()` 함수"
   ]
  },
  {
   "cell_type": "markdown",
   "id": "67bee7a8-1a9c-4d93-8d77-961f129ba070",
   "metadata": {},
   "source": [
    "그 동안 출력을 위해 `print()` 함수를 사용하였다. 예를 들어, `Hello, python`을 출력하고 싶다면, 아래와 같이 코드를 작성하면 된다. "
   ]
  },
  {
   "cell_type": "code",
   "execution_count": 84,
   "id": "7bc87a58-162f-4d32-9121-8bfaecb9bafd",
   "metadata": {},
   "outputs": [
    {
     "name": "stdout",
     "output_type": "stream",
     "text": [
      "Hello, python\n"
     ]
    }
   ],
   "source": [
    "print('Hello, python')"
   ]
  },
  {
   "cell_type": "markdown",
   "id": "d9c57eef-342f-446d-8904-794c4052c114",
   "metadata": {},
   "source": [
    "이제 `print()` 함수에 대해서 조금 더 살펴보자. "
   ]
  },
  {
   "cell_type": "markdown",
   "id": "3bac0621-2d95-484a-a879-170e4ec34719",
   "metadata": {},
   "source": [
    "* 큰 따옴표(또는 작은 따옴표)로 둘러싸인 문자열을 연속해서 사용하면 문자열에서 +연산을 한 것과 동일한 결과를 출력해준다."
   ]
  },
  {
   "cell_type": "code",
   "execution_count": 86,
   "id": "cc67348f-68a4-4747-bdc1-29bcfe65bec7",
   "metadata": {},
   "outputs": [
    {
     "name": "stdout",
     "output_type": "stream",
     "text": [
      "Hello World\n",
      "Hello World\n",
      "Hello World\n",
      "Hello World\n"
     ]
    }
   ],
   "source": [
    "print(\"Hello \"\"World\")\n",
    "print('Hello ''World')\n",
    "print('Hello '\"World\")\n",
    "print(\"Hello \" + \"World\")"
   ]
  },
  {
   "cell_type": "markdown",
   "id": "ab7e57dc-da15-49a3-9571-fc4e1edfda18",
   "metadata": {},
   "source": [
    "* 문자열 사이에 콤마(`,`)를 사용하면 띄어쓰기를 할 수 있다."
   ]
  },
  {
   "cell_type": "code",
   "execution_count": 87,
   "id": "3237ba5a-6c99-42e4-a9b7-20f5d6a84c52",
   "metadata": {},
   "outputs": [
    {
     "name": "stdout",
     "output_type": "stream",
     "text": [
      "Hello World\n"
     ]
    }
   ],
   "source": [
    "print(\"Hello\", \"World\")"
   ]
  },
  {
   "cell_type": "markdown",
   "id": "32e845c1-edb5-423e-8e13-94e7d739ca27",
   "metadata": {},
   "source": [
    "* 인자들 사이에 구분자를 넣고 싶다면, `sep`을 변경하면 된다. `sep`의 기본값은 공백이다."
   ]
  },
  {
   "cell_type": "code",
   "execution_count": 88,
   "id": "3a89b8b1-d02e-4407-a097-33a0f0fe32d3",
   "metadata": {},
   "outputs": [
    {
     "name": "stdout",
     "output_type": "stream",
     "text": [
      "010-1234-5678\n",
      "Hello, World\n"
     ]
    }
   ],
   "source": [
    "print(\"010\", \"1234\", \"5678\", sep = \"-\")\n",
    "print(\"Hello\", \"World\", sep = \", \")"
   ]
  },
  {
   "cell_type": "markdown",
   "id": "7583403b-c43f-4f71-a8e0-c73743ea6cd2",
   "metadata": {},
   "source": [
    "* 마지막에 출력할 문자를 변경하고 싶다면, `end`를 변경하면 된다. `end`의 기본값은 줄변경(`\\n`)이다."
   ]
  },
  {
   "cell_type": "code",
   "execution_count": 89,
   "id": "7c4f4a68-1bdb-4f4f-b990-29c19d072ed4",
   "metadata": {},
   "outputs": [
    {
     "name": "stdout",
     "output_type": "stream",
     "text": [
      "a\n",
      "bc\td\n"
     ]
    }
   ],
   "source": [
    "print(\"a\")\n",
    "print(\"b\", end = \"\")\n",
    "print(\"c\", end = \"\\t\")\n",
    "print(\"d\")"
   ]
  },
  {
   "cell_type": "markdown",
   "id": "af8ff9ad-b2da-4ffe-a2d4-89c180c55db6",
   "metadata": {},
   "source": [
    "### 문자열 포매팅 <font size = \"2\">String formatting</font>"
   ]
  },
  {
   "cell_type": "markdown",
   "id": "5c23bf80-de0e-4f4f-9410-c3e989132f10",
   "metadata": {},
   "source": [
    "#### `str.format()`"
   ]
  },
  {
   "cell_type": "markdown",
   "id": "ee054812-5168-4856-97cc-10653a33f565",
   "metadata": {},
   "source": [
    "`format()`메서드를 사용하면, 문자열의 중괄호(`{}`)가 `format()`의 인자로 변경된다. 예제와 함께 살펴보자. "
   ]
  },
  {
   "cell_type": "code",
   "execution_count": 113,
   "id": "0d313f09-5d39-4685-ba8b-82818a0120dc",
   "metadata": {},
   "outputs": [
    {
     "data": {
      "text/plain": [
       "'강현님, 안녕하세요.'"
      ]
     },
     "execution_count": 113,
     "metadata": {},
     "output_type": "execute_result"
    }
   ],
   "source": [
    "'{}님, 안녕하세요.'.format('강현')"
   ]
  },
  {
   "cell_type": "code",
   "execution_count": 114,
   "id": "ea46dc49-babe-4531-b3c9-5ce2f2958b18",
   "metadata": {},
   "outputs": [
    {
     "data": {
      "text/plain": [
       "'강현님, 안녕하세요.'"
      ]
     },
     "execution_count": 114,
     "metadata": {},
     "output_type": "execute_result"
    }
   ],
   "source": [
    "name = '강현'\n",
    "'{}님, 안녕하세요.'.format(name)"
   ]
  },
  {
   "cell_type": "code",
   "execution_count": 117,
   "id": "4b00b272-06f8-47a6-95a5-17f5d8a3c2c7",
   "metadata": {},
   "outputs": [
    {
     "data": {
      "text/plain": [
       "'강현이는 3살이다.'"
      ]
     },
     "execution_count": 117,
     "metadata": {},
     "output_type": "execute_result"
    }
   ],
   "source": [
    "age = 3\n",
    "'강현이는 {}살이다.'.format(age)"
   ]
  },
  {
   "cell_type": "markdown",
   "id": "ccbac4b6-d47e-4071-bfcc-c55fd294b5eb",
   "metadata": {},
   "source": [
    "여러 개의 값을 변경할 때는 콤마(`,`)로 구분해서 적어준다. "
   ]
  },
  {
   "cell_type": "code",
   "execution_count": 118,
   "id": "d6aab2ec-c841-4bd8-ba79-5ccaaee447a4",
   "metadata": {},
   "outputs": [
    {
     "data": {
      "text/plain": [
       "'강현이는 3살이다.'"
      ]
     },
     "execution_count": 118,
     "metadata": {},
     "output_type": "execute_result"
    }
   ],
   "source": [
    "name = '강현'\n",
    "age = 3\n",
    "'{}이는 {}살이다.'.format(name, age)"
   ]
  },
  {
   "cell_type": "markdown",
   "id": "2ec95658-8959-4054-899c-af6bc50ddea8",
   "metadata": {},
   "source": [
    "인덱스 항목을 사용하여 넣어줄 위치를 지정할 수도 있다."
   ]
  },
  {
   "cell_type": "code",
   "execution_count": 121,
   "id": "5b23f6ce-36a4-40b3-bd19-02c48c62f322",
   "metadata": {},
   "outputs": [
    {
     "name": "stdout",
     "output_type": "stream",
     "text": [
      "강현이와 나영이는 친구다.\n",
      "강현이와 나영이는 친구다.\n",
      "나영이와 강현이는 친구다.\n"
     ]
    }
   ],
   "source": [
    "name1 = '강현'\n",
    "name2 = '나영'\n",
    "print('{}이와 {}이는 친구다.'.format(name1, name2))\n",
    "print('{0}이와 {1}이는 친구다.'.format(name1, name2))\n",
    "print('{1}이와 {0}이는 친구다.'.format(name1, name2))"
   ]
  },
  {
   "cell_type": "markdown",
   "id": "b3ee035c-403e-4e02-848f-b769a4724388",
   "metadata": {},
   "source": [
    "**소수점 표현**  \n",
    "\n",
    "콜론(`:`) 뒤에 소수점아래 몇 번째 자리까지 출력할지를 적어주면, 그 만큼을 보여준다.  \n",
    "예제와 함께 살펴보자. \n",
    "* `.`은 소수점을 의미하고, 소수점 뒤의 숫자는 소수점 뒤에 나올 숫자의 개수다.  "
   ]
  },
  {
   "cell_type": "code",
   "execution_count": 101,
   "id": "3e9c8406-6893-43d7-9ea0-edded5fb5529",
   "metadata": {},
   "outputs": [
    {
     "name": "stdout",
     "output_type": "stream",
     "text": [
      "0.1\n",
      "0.12\n",
      "0.123\n",
      "0.12346\n"
     ]
    }
   ],
   "source": [
    "num = 0.123456789\n",
    "print('{0:.1f}'.format(num))\n",
    "print('{0:.2f}'.format(num))\n",
    "print('{0:.3f}'.format(num))\n",
    "print('{0:.5f}'.format(num)) # 소수점 아래 여섯 번째 자리에서 반올림"
   ]
  },
  {
   "cell_type": "markdown",
   "id": "7cda9828-54ce-4b2b-a0ff-d7d83e7af0b5",
   "metadata": {},
   "source": [
    "#### f-string"
   ]
  },
  {
   "cell_type": "markdown",
   "id": "78be98f8-1b5c-4cf8-9f1b-6dcc637a6b96",
   "metadata": {},
   "source": [
    "문자열 앞에 `f` 를 붙이면, 문자열 포매팅 기능을 사용할 수 있다.  \n",
    "예제와 함께 살펴보자. "
   ]
  },
  {
   "cell_type": "code",
   "execution_count": 122,
   "id": "889e5232-f5c5-41a8-b1ad-3143bbc4f55b",
   "metadata": {},
   "outputs": [
    {
     "data": {
      "text/plain": [
       "'강현님, 안녕하세요.'"
      ]
     },
     "execution_count": 122,
     "metadata": {},
     "output_type": "execute_result"
    }
   ],
   "source": [
    "name = '강현'\n",
    "f'{name}님, 안녕하세요.'"
   ]
  },
  {
   "cell_type": "code",
   "execution_count": 123,
   "id": "8c44646d-333c-4aae-a12e-a836d25cb2de",
   "metadata": {},
   "outputs": [
    {
     "data": {
      "text/plain": [
       "'강현이는 3살이다.'"
      ]
     },
     "execution_count": 123,
     "metadata": {},
     "output_type": "execute_result"
    }
   ],
   "source": [
    "age = 3\n",
    "f'강현이는 {age}살이다.'"
   ]
  },
  {
   "cell_type": "code",
   "execution_count": 124,
   "id": "0b41987b-0d42-4524-a9f5-22c6fc1b52d8",
   "metadata": {},
   "outputs": [
    {
     "data": {
      "text/plain": [
       "'강현이는 3살이다.'"
      ]
     },
     "execution_count": 124,
     "metadata": {},
     "output_type": "execute_result"
    }
   ],
   "source": [
    "name = '강현'\n",
    "age = 3\n",
    "f'{name}이는 {age}살이다.'"
   ]
  },
  {
   "cell_type": "markdown",
   "id": "df79915f-8a9d-46d0-9a98-69601068e61b",
   "metadata": {},
   "source": [
    "`{}`안에 변수와 수식(`+`, `-`, `*`, `/` 등)을 함께 사용하는 것도 가능하다. "
   ]
  },
  {
   "cell_type": "code",
   "execution_count": 126,
   "id": "ff1abb9b-af8b-4751-9b64-0c054183a1ae",
   "metadata": {},
   "outputs": [
    {
     "data": {
      "text/plain": [
       "'강현이의 동생은 1살이다'"
      ]
     },
     "execution_count": 126,
     "metadata": {},
     "output_type": "execute_result"
    }
   ],
   "source": [
    "name = '강현'\n",
    "age = 3\n",
    "f'{name}이의 동생은 {age - 2}살이다'"
   ]
  },
  {
   "cell_type": "code",
   "execution_count": 109,
   "id": "28e91cab-79e6-4ce3-99ef-889b669eebcc",
   "metadata": {},
   "outputs": [
    {
     "name": "stdout",
     "output_type": "stream",
     "text": [
      "0.1\n",
      "0.12\n",
      "0.123\n"
     ]
    }
   ],
   "source": [
    "num = 0.123456789\n",
    "print(f'{num:.1f}')\n",
    "print(f'{num:.2f}')\n",
    "print(f'{num:.3f}')"
   ]
  },
  {
   "cell_type": "markdown",
   "id": "2eb3e9e7-7fac-400b-a90a-9361e2b9b69f",
   "metadata": {
    "tags": []
   },
   "source": [
    "## 부울값"
   ]
  },
  {
   "cell_type": "markdown",
   "id": "f0e1f96a-773c-495f-b01a-9d9d96055c16",
   "metadata": {},
   "source": [
    "참(`True`)과 거짓(`False`)를 나타내는 자료형이다. \n",
    "파이썬에서 부울 자료형은 `int` 형의 자식형<font size = \"2\"> subtype</font>이고, 대부분의 상황에서 `True`와 `False`는 각각 `1`과 `0`처럼 동작한다. "
   ]
  },
  {
   "cell_type": "markdown",
   "id": "a81e9b7f-825a-4724-8c0b-9bf779ab918f",
   "metadata": {},
   "source": [
    "### 논리 연산자"
   ]
  },
  {
   "cell_type": "markdown",
   "id": "adf4147f-08f0-40ea-9774-c93643e35b6f",
   "metadata": {},
   "source": [
    "|연산 기호|의미|예시|실행 결과|\n",
    "|:----------:|:----------:|:----------:|:--------:|\n",
    "|`and`|그리고|`True and False`|`False`|\n",
    "|`or`|또는|`True or False`|`True`|\n",
    "|`not`|부정|`not False`|`True`|"
   ]
  },
  {
   "cell_type": "markdown",
   "id": "ec304936-ac0d-4633-9be8-1b2fb8f32667",
   "metadata": {},
   "source": [
    ":::{admonition} 참고 \n",
    ":class: info\n",
    "\n",
    "`x and y`는 `x`가 참일 때만 `y`를 확인한다.  \n",
    "`x or y`는 `x`가 거짓일 때만 `y`를 확인한다.\n",
    "\n",
    "예를 들어, 아래와 같이  `False and 3/0`를 실행하면 `False`가 나온다. \n",
    "```python\n",
    ">>> False and 3/0\n",
    "```\n",
    "\n",
    "하지만 반대로 `3/0 and False`를 실행하면 오류가 발생한다. \n",
    "```python\n",
    ">>> False and 3/0\n",
    "ZeroDivisionError                         Traceback (most recent call last)\n",
    "/tmp/ipykernel_422/2156724109.py in <module>\n",
    "----> 1 True and 3/0\n",
    "\n",
    "ZeroDivisionError: division by zero\n",
    "```\n",
    ":::"
   ]
  },
  {
   "cell_type": "markdown",
   "id": "f69ce809-4f67-4a81-9222-1891d7c1f5f3",
   "metadata": {},
   "source": [
    "### 비교 연산자"
   ]
  },
  {
   "cell_type": "markdown",
   "id": "1b98b3dc-3c9a-469e-91af-a4bd740e05ae",
   "metadata": {},
   "source": [
    "|연산 기호|의미|예시|실행 결과|\n",
    "|:----------:|:----------:|:----------:|:--------:|\n",
    "|`<`|작다|`2 < 1`|`False`|\n",
    "|`<=`|작거나 같다|`1 <= 2`|`True`|\n",
    "|`>`|크다|`2 > 1`|`True`|\n",
    "|`>=`|크거나 같다|`1 >= 2`|`False`|\n",
    "|`==`|같다|`1 == '1'`|`False`|\n",
    "|`!=`|같지 않다|`1 != '1'`|`True`|"
   ]
  },
  {
   "cell_type": "markdown",
   "id": "3d820596-9054-4d5f-940a-7d412c248597",
   "metadata": {},
   "source": [
    "서로 다른 숫자형을 제외하고는 서로 다른 형은 같다고 비교되지 않는다. "
   ]
  },
  {
   "cell_type": "markdown",
   "id": "c6a86e17-4f2f-4e75-8d91-692d1cd86e84",
   "metadata": {},
   "source": [
    "예를 들어, 정수 `1`와 부동소수점 `1.0`이 같은지 여부를 확인해보자."
   ]
  },
  {
   "cell_type": "code",
   "execution_count": 17,
   "id": "e20dfe0c-1bb1-497d-9bb1-ed01be8b4a4e",
   "metadata": {},
   "outputs": [
    {
     "data": {
      "text/plain": [
       "True"
      ]
     },
     "execution_count": 17,
     "metadata": {},
     "output_type": "execute_result"
    }
   ],
   "source": [
    "1 == 1.0"
   ]
  },
  {
   "cell_type": "markdown",
   "id": "16047d26-a58b-4d44-a28c-494c8fa26750",
   "metadata": {},
   "source": [
    "반면, 정수 `1`과 문자열 `'1'`은 형<font size = \"2\">type</font>이 달라서 같은지 여부를 확인해보면, `False`가 나온다."
   ]
  },
  {
   "cell_type": "code",
   "execution_count": 18,
   "id": "c32cfabb-3d42-4299-9ef5-65a62c7b084d",
   "metadata": {},
   "outputs": [
    {
     "data": {
      "text/plain": [
       "False"
      ]
     },
     "execution_count": 18,
     "metadata": {},
     "output_type": "execute_result"
    }
   ],
   "source": [
    "1 == '1'"
   ]
  },
  {
   "cell_type": "code",
   "execution_count": 8,
   "id": "5a92eab1-a9c5-4423-8f85-68f553a28d95",
   "metadata": {},
   "outputs": [
    {
     "data": {
      "text/plain": [
       "True"
      ]
     },
     "execution_count": 8,
     "metadata": {},
     "output_type": "execute_result"
    }
   ],
   "source": [
    "1 == 1.0"
   ]
  },
  {
   "cell_type": "markdown",
   "id": "6a7738b5-0cdc-491a-89b1-688d30a3705f",
   "metadata": {},
   "source": [
    "문자열도 비교연산자를 사용할 수 있다.   \n",
    "크기 비교 연산자들은 영어 사전식의 알파벳 순서를 사용한다. "
   ]
  },
  {
   "cell_type": "code",
   "execution_count": 28,
   "id": "c331c302-bb9e-4001-9821-0a2fed6e1920",
   "metadata": {},
   "outputs": [
    {
     "data": {
      "text/plain": [
       "False"
      ]
     },
     "execution_count": 28,
     "metadata": {},
     "output_type": "execute_result"
    }
   ],
   "source": [
    "'apple' == 'pineapple'"
   ]
  },
  {
   "cell_type": "code",
   "execution_count": 26,
   "id": "252bcf1d-8bc6-42e3-b1a7-ccc8491e8907",
   "metadata": {},
   "outputs": [
    {
     "data": {
      "text/plain": [
       "True"
      ]
     },
     "execution_count": 26,
     "metadata": {},
     "output_type": "execute_result"
    }
   ],
   "source": [
    "'apple' < 'banana'"
   ]
  },
  {
   "cell_type": "markdown",
   "id": "903309e2-fc62-4dce-9926-7d1d30fc38ac",
   "metadata": {},
   "source": [
    ":::{admonition} 참고 \n",
    ":class: info\n",
    "영어 알파벳의 경우 대문자가 소문자보다 작다고 판단한다.\n",
    ":::"
   ]
  },
  {
   "cell_type": "markdown",
   "id": "3cf818fd-1694-48fd-a75a-ee664a72241c",
   "metadata": {},
   "source": [
    "## 형변환"
   ]
  },
  {
   "cell_type": "markdown",
   "id": "79f2fb6c",
   "metadata": {},
   "source": [
    "`2.3 + 3`을 실행하면 파이썬 해석기<font size=\"2\">interpreter</font>는\n",
    "내부적으로 정수를 부동소수점으로 형변환하는 함수 `float()`를 이용하여\n",
    "정수 `3`을 부동소수점 `3.0`으로 유형을 변환한 후에\n",
    "덧셈을 처리한다. \n",
    "이렇게 값의 유형을 적절하게 자동 변환하는 기능을 \n",
    "**형변환**<font size=\"2\">type casting</font>이라 부른다."
   ]
  },
  {
   "cell_type": "code",
   "execution_count": 9,
   "id": "9ac1e3f6",
   "metadata": {},
   "outputs": [
    {
     "data": {
      "text/plain": [
       "3.0"
      ]
     },
     "execution_count": 9,
     "metadata": {},
     "output_type": "execute_result"
    }
   ],
   "source": [
    "float(3)"
   ]
  },
  {
   "cell_type": "markdown",
   "id": "883c089f",
   "metadata": {},
   "source": [
    "`float()` 함수 이외에 `int()`, `str()`, `bool()` 등 다양한 형변환 함수가 제공된다."
   ]
  },
  {
   "cell_type": "markdown",
   "id": "b6be3456",
   "metadata": {},
   "source": [
    "**`int()` 함수**\n",
    "\n",
    "정수 모양의 문자열 또는 부동소수점을 정수로 변환한다."
   ]
  },
  {
   "cell_type": "code",
   "execution_count": 11,
   "id": "fd47f517",
   "metadata": {},
   "outputs": [
    {
     "data": {
      "text/plain": [
       "5"
      ]
     },
     "execution_count": 11,
     "metadata": {},
     "output_type": "execute_result"
    }
   ],
   "source": [
    "int('5')"
   ]
  },
  {
   "cell_type": "code",
   "execution_count": 12,
   "id": "60e8db25-e25b-4167-9930-4e15237016ee",
   "metadata": {},
   "outputs": [
    {
     "data": {
      "text/plain": [
       "4"
      ]
     },
     "execution_count": 12,
     "metadata": {},
     "output_type": "execute_result"
    }
   ],
   "source": [
    "int(4.8)"
   ]
  },
  {
   "cell_type": "markdown",
   "id": "1ebd626f",
   "metadata": {},
   "source": [
    "`True`와 `False`는 각각 1과 0으로 취급된다."
   ]
  },
  {
   "cell_type": "code",
   "execution_count": 13,
   "id": "da74d2d0-2da7-4c1c-890f-aa23dbf4c26f",
   "metadata": {},
   "outputs": [
    {
     "data": {
      "text/plain": [
       "1"
      ]
     },
     "execution_count": 13,
     "metadata": {},
     "output_type": "execute_result"
    }
   ],
   "source": [
    "int(True)"
   ]
  },
  {
   "cell_type": "markdown",
   "id": "b360557b",
   "metadata": {},
   "source": [
    "**`float()` 함수**\n",
    "\n",
    "유한소수 모양의 문자열 또는 정수 등을 부동소수점으로 변환한다."
   ]
  },
  {
   "cell_type": "code",
   "execution_count": 14,
   "id": "826ce962-2222-4742-b1f7-ff0d54401fcf",
   "metadata": {},
   "outputs": [
    {
     "data": {
      "text/plain": [
       "7.9"
      ]
     },
     "execution_count": 14,
     "metadata": {},
     "output_type": "execute_result"
    }
   ],
   "source": [
    "float('7.9')"
   ]
  },
  {
   "cell_type": "markdown",
   "id": "45bb4177",
   "metadata": {},
   "source": [
    "**`str()` 함수**\n",
    "\n",
    "임의의 값을 문자열로 변환한다."
   ]
  },
  {
   "cell_type": "code",
   "execution_count": 74,
   "id": "abffd3a1-0604-4c27-b539-7c985eaf7558",
   "metadata": {},
   "outputs": [
    {
     "data": {
      "text/plain": [
       "'6'"
      ]
     },
     "execution_count": 74,
     "metadata": {},
     "output_type": "execute_result"
    }
   ],
   "source": [
    "str(6)"
   ]
  },
  {
   "cell_type": "code",
   "execution_count": 15,
   "id": "81c0f3c1",
   "metadata": {},
   "outputs": [
    {
     "data": {
      "text/plain": [
       "'7.6'"
      ]
     },
     "execution_count": 15,
     "metadata": {},
     "output_type": "execute_result"
    }
   ],
   "source": [
    "str(7.6)"
   ]
  },
  {
   "cell_type": "code",
   "execution_count": 16,
   "id": "d0fd2608",
   "metadata": {},
   "outputs": [
    {
     "data": {
      "text/plain": [
       "'False'"
      ]
     },
     "execution_count": 16,
     "metadata": {},
     "output_type": "execute_result"
    }
   ],
   "source": [
    "str(False)"
   ]
  },
  {
   "cell_type": "markdown",
   "id": "bf16870d",
   "metadata": {},
   "source": [
    "**`bool()` 함수**\n",
    "\n",
    "임의의 값을 `True` 또는 `False` 로 변환한다.\n",
    "`0`, `0.0`, `''`(빈 문자열) 등처럼 0, 비어 있는 것, 의미 없는 것등은 `False` 로\n",
    "그렇지 않으면 `True` 로 지정한다."
   ]
  },
  {
   "cell_type": "code",
   "execution_count": 24,
   "id": "6eec6890",
   "metadata": {},
   "outputs": [
    {
     "data": {
      "text/plain": [
       "False"
      ]
     },
     "execution_count": 24,
     "metadata": {},
     "output_type": "execute_result"
    }
   ],
   "source": [
    "bool(0)"
   ]
  },
  {
   "cell_type": "code",
   "execution_count": 25,
   "id": "d7a409b9",
   "metadata": {},
   "outputs": [
    {
     "data": {
      "text/plain": [
       "True"
      ]
     },
     "execution_count": 25,
     "metadata": {},
     "output_type": "execute_result"
    }
   ],
   "source": [
    "bool(2)"
   ]
  },
  {
   "cell_type": "code",
   "execution_count": 26,
   "id": "307506b2",
   "metadata": {},
   "outputs": [
    {
     "data": {
      "text/plain": [
       "False"
      ]
     },
     "execution_count": 26,
     "metadata": {},
     "output_type": "execute_result"
    }
   ],
   "source": [
    "bool(0.0)"
   ]
  },
  {
   "cell_type": "code",
   "execution_count": 27,
   "id": "9c2f1695",
   "metadata": {},
   "outputs": [
    {
     "data": {
      "text/plain": [
       "True"
      ]
     },
     "execution_count": 27,
     "metadata": {},
     "output_type": "execute_result"
    }
   ],
   "source": [
    "bool(0.01)"
   ]
  },
  {
   "cell_type": "code",
   "execution_count": 28,
   "id": "eb57703b",
   "metadata": {},
   "outputs": [
    {
     "data": {
      "text/plain": [
       "False"
      ]
     },
     "execution_count": 28,
     "metadata": {},
     "output_type": "execute_result"
    }
   ],
   "source": [
    "bool('')"
   ]
  },
  {
   "cell_type": "code",
   "execution_count": 29,
   "id": "af7ee7cb",
   "metadata": {},
   "outputs": [
    {
     "data": {
      "text/plain": [
       "True"
      ]
     },
     "execution_count": 29,
     "metadata": {},
     "output_type": "execute_result"
    }
   ],
   "source": [
    "bool('Hello')"
   ]
  },
  {
   "cell_type": "markdown",
   "id": "e400483c-8a63-4df0-aa53-44010e55673c",
   "metadata": {},
   "source": [
    ":::{admonition} 주의 \n",
    ":class: caution  \n",
    "`int()`함수의 인자로 문자열을 사용할 때는 그 모양이 정수모양이어야 하고, `float()` 함수의 인자로 문자열을 사용할 때는 그 모양이 정수 또는 부동소수점 모양이어야 한다. \n",
    "\n",
    "```python\n",
    ">>> int('5.0')\n",
    "ValueError                                Traceback (most recent call last)\n",
    "/tmp/ipykernel_279/3485297474.py in <module>\n",
    "----> 1 int('5.0')\n",
    "\n",
    "ValueError: invalid literal for int() with base 10: '5.0'\n",
    "```\n",
    "```python\n",
    ">>> float('5GB')\n",
    "ValueError                                Traceback (most recent call last)\n",
    "/tmp/ipykernel_279/814975516.py in <module>\n",
    "----> 1 float('5GB')\n",
    "\n",
    "ValueError: could not convert string to float: '5GB'\n",
    "```\n",
    ":::"
   ]
  }
 ],
 "metadata": {
  "kernelspec": {
   "display_name": "Python 3 (ipykernel)",
   "language": "python",
   "name": "python3"
  },
  "language_info": {
   "codemirror_mode": {
    "name": "ipython",
    "version": 3
   },
   "file_extension": ".py",
   "mimetype": "text/x-python",
   "name": "python",
   "nbconvert_exporter": "python",
   "pygments_lexer": "ipython3",
   "version": "3.9.7"
  }
 },
 "nbformat": 4,
 "nbformat_minor": 5
}