{
 "cells": [
  {
   "cell_type": "markdown",
   "metadata": {},
   "source": [
    "# 반복문"
   ]
  },
  {
   "cell_type": "markdown",
   "metadata": {},
   "source": [
    "특정 명령문을 자동으로 반복<font size=\"2\">iteration</font> 실행하는 장치인 \n",
    "**반복문**<font size=\"2\">loop statement</font>을 소개한다.\n",
    "파이썬은 세 종류의 반복문을 제공한다. \n",
    "\n",
    "- 재귀\n",
    "- `for` 반복문\n",
    "- `while` 반복문\n",
    "\n",
    "재귀는 {numref}`%s장 <ch:recursion>`에서,\n",
    "`for` 반복문의 간단한 활용법은 {numref}`%s절(?) <sec:for_loop>` 에서 살펴보았다.\n",
    "여기서는 `while` 반복문을 소개한다.\n",
    "`while` 반복문의 작동 과정을 이해하려면 먼저 변수가 가리키는 값을 변경하는 변수 재할당과\n",
    "변수 업데이트를 이해해야 한다. \n",
    "\n",
    "\n",
    "**`for` 반복문과 데이터분석 예제 추가!**"
   ]
  },
  {
   "cell_type": "markdown",
   "metadata": {},
   "source": [
    "(sec:variable_reassignment)=\n",
    "## 변수 재할당"
   ]
  },
  {
   "cell_type": "markdown",
   "metadata": {},
   "source": [
    "**변수 재할당**<font size=\"2\">variable reassignment</font>은\n",
    "변수가 가리키는 값은 변경하는 것이다.\n",
    "예를 들어 아래 코드는 변수 `x`가 가리키는 값을 5에서 7로 재할당한다.\n",
    "\n",
    "```python\n",
    ">>> x = 5\n",
    ">>> y = x\n",
    ">>> x = 7\n",
    "```\n",
    "\n",
    "반면에 변수 `y`는 계속해서 5를 가리킨다.\n",
    "실제로 `x + y`는 12로 계산된다.\n",
    "\n",
    "```python\n",
    ">>> x + y\n",
    "12\n",
    "```\n",
    "\n",
    "이는 {numref}`%s절 <sec:boolean_expression>`에서 설명한대로 하나의 등호 기호 `=` 는\n",
    "두 값의 동치 여부가 아니라 왼편에 위치한 변수가 오른 편에 위치한 값을 가리키도록 하는\n",
    "명령문에 사용되는 특별한 의미를 갖기 때문이다.\n",
    "`y = x` 가 실행될 당시에 `x`가 5를 가리키고 있었기 때문에\n",
    "`y` 또한 5를 가리키도록 지정되었다.\n",
    "이후에 `x`가 가리키는 값을 변경해도 `y`에게는 전혀 영향을 주지 않는다."
   ]
  },
  {
   "cell_type": "markdown",
   "metadata": {},
   "source": [
    "(sec:variable_update)=\n",
    "## 변수 업데이트"
   ]
  },
  {
   "cell_type": "markdown",
   "metadata": {},
   "source": [
    "반복문의 핵심은 변수가 가리키던 값을 이용하여 새로운 값을 생성한 후에 그 값을\n",
    "동일한 변수에 재할당하는 것이며, 이를 \n",
    "**변수 업데이트**<font size=\"2\">variable update</font>라 한다. \n",
    "대표적으로 아래와 같은 표현식이 반복문에 자주 사용된다.\n",
    "\n",
    "```python\n",
    ">>> x = x + 1\n",
    "```\n",
    "\n",
    "위 할당문은 변수 `x`가 가리키던 값에 1을 더한 값을 다시 \n",
    "변수 `x`에 할당하라고 명령한다. \n",
    "만약에 변수 `x` 가 0을 가리키고 있었다면 위 명령문이 반복 실행될 때마다\n",
    "`x`가 가리키는 값은 1, 2, 3 등으로 계속해서 변한다.\n",
    "반면에 아래 명령문은 변수 `x`가 가리키던 값을 \n",
    "1만큼 줄여서 재할당한다.\n",
    "\n",
    "```python\n",
    ">>> x = x - 1\n",
    "```"
   ]
  },
  {
   "cell_type": "markdown",
   "metadata": {},
   "source": [
    "## `while` 반복문"
   ]
  },
  {
   "cell_type": "markdown",
   "metadata": {},
   "source": [
    "{numref}`%s장 <ch:recursion>`에서 살펴 본 다음 재귀 함수는 카운트다운을 출력한다.\n",
    "\n",
    "```python\n",
    "def countdown(n):\n",
    "    if n <= 0:\n",
    "        print('발사!')\n",
    "    else:\n",
    "        print(n)\n",
    "        countdown(n-1)\n",
    "```\n",
    "\n",
    "예를 들어, `countdown(3)`을 실행하면이 주어지면 다음과 같이 출력한다.\n",
    "\n",
    "```python\n",
    ">>> countdown(3)\n",
    "3\n",
    "2\n",
    "1\n",
    "발사!\n",
    "```\n",
    "\n",
    "이유는 `countdown(3)`, `countdown(2)`, `countdown(1)`, `countdown(0)` 이 \n",
    "차례대로 호출되기 때문이며 그럴 때마다 함수의 인자를 화면에 출력한다."
   ]
  },
  {
   "cell_type": "markdown",
   "metadata": {},
   "source": [
    "따라서 `countdown(n)` 호출되면 다음 과정이 재귀적으로 실행된다.\n",
    "\n",
    "- `n`이 0을 가리키면 `'발사!'` 를 출력한다.\n",
    "- `n`이 0보다 크면 먼저 `n` 을 출력한다.\n",
    "    이후 `n`이 가리키는 값을 1만큼 줄인다.\n",
    "\n",
    "다음 `while` 반복문이 바로 `n` 이 0보다 큰 경우를 다룬다.\n",
    "\n",
    "```python\n",
    "while n > 0:\n",
    "    print(n)\n",
    "    n = n - 1\n",
    "```\n",
    "\n",
    "즉, 위 명령문은 `n`이 0보다 크면 `countdown()` 함수의 `else` 키워드의 \n",
    "본문 명령문을 실행하며,\n",
    "언젠가 `n`이 0을 가리키게 되면, 즉 기저 조건에 다다르면 더이상 실행되지 않고\n",
    "다음 명령문으로 이동한다.\n",
    "\n",
    "`countdown()` 함수를 `while` 반복문을 이용하여 구현하면 다음과 같다.\n",
    "본문의 마지막 줄은 `n` 이 0인 경우를 다룬다."
   ]
  },
  {
   "cell_type": "code",
   "execution_count": 4,
   "metadata": {},
   "outputs": [],
   "source": [
    "def countdown(n):\n",
    "    while n > 1:     # n 이 0 보다 큰 경우\n",
    "        print(n)\n",
    "        n = n - 1\n",
    "        \n",
    "    print('발사!')    # 기저 조건: n 이 0 인 경우"
   ]
  },
  {
   "cell_type": "code",
   "execution_count": 3,
   "metadata": {},
   "outputs": [
    {
     "name": "stdout",
     "output_type": "stream",
     "text": [
      "3\n",
      "2\n",
      "발사!\n"
     ]
    }
   ],
   "source": [
    "countdown(3)"
   ]
  },
  {
   "cell_type": "markdown",
   "metadata": {},
   "source": [
    "`while` 반복문의 형식은 다음과 같다.\n",
    "함수, 조건문, `for` 반복문의 경우에서처럼\n",
    "헤더는 콜론(`:`)으로 마무리하고 본문은 들여쓴다.\n",
    "\n",
    "```python\n",
    "while 부울식:\n",
    "    명령문\n",
    "```\n",
    "\n",
    "위 명령문의 실행은 아래 세 단계로 이루어진다.\n",
    "\n",
    "1. 헤더의 `부울식`의 참, 거짓 여부를 확인한다.\n",
    "1. 헤더의 `부울식` 이 `False` 인 경우: `while` 반복문 전체를 건너 뛰고 다음 명령문을 실행한다.\n",
    "1. 헤더의 `부울식` 이 `True` 인 경우: \n",
    "    본문에 위치한 명령문을 실행한 후에 \n",
    "    다시 1단계로 이동한다.\n"
   ]
  },
  {
   "cell_type": "markdown",
   "metadata": {},
   "source": [
    "### 무한 루프"
   ]
  },
  {
   "cell_type": "markdown",
   "metadata": {},
   "source": [
    "헤더의 `부울식`이 계속해서 참이면 `while` 반복문의 본문의 실행이 무한 반복된다.\n",
    "예를 들어 역시 {numref}`%s장 <ch:recursion>`에서 살펴본 아래 재귀 함수를 다시 살펴보자."
   ]
  },
  {
   "cell_type": "markdown",
   "metadata": {},
   "source": [
    "```python\n",
    "def count_infinitely(n):\n",
    "    print(n)\n",
    "    count_finitely(n+1)\n",
    "```"
   ]
  },
  {
   "cell_type": "markdown",
   "metadata": {},
   "source": [
    "`count_infinitely(n)` 이 실행되면 다음 두 가지 일이 실행된다.\n",
    "\n",
    "- `n` 을 출력한다.\n",
    "- `n`을 1 키운 후 재귀를 실행한다.\n",
    "\n",
    "따라서 `while` 반복문을 다음과 같이 이용하여 `count_infinitely()` 함수를 구현할 수 있다."
   ]
  },
  {
   "cell_type": "markdown",
   "metadata": {},
   "source": [
    "```python\n",
    "def count_infinitely(n):\n",
    "    while n > 0:\n",
    "        print(n)\n",
    "        n = n + 1\n",
    "```"
   ]
  },
  {
   "cell_type": "markdown",
   "metadata": {},
   "source": [
    "재귀 함수로 정의했을 때 기저 조건이 없었기에 `n > 0` 이 거짓인 경우에\n",
    "실행될 명령문이 없다.\n",
    "따라서 예를 들어 `count_infinitely(1)`을 호출하면 `while` 반복문이 무한 반복되며\n",
    "이런 현상을 **무한 루프**<font size=\"2\">infinite loop</font>라 한다."
   ]
  },
  {
   "cell_type": "markdown",
   "metadata": {},
   "source": [
    "### 콜라츠 추측"
   ]
  },
  {
   "cell_type": "markdown",
   "metadata": {},
   "source": []
  },
  {
   "cell_type": "markdown",
   "metadata": {},
   "source": [
    "### `break`와 `continue`"
   ]
  },
  {
   "cell_type": "markdown",
   "metadata": {},
   "source": []
  },
  {
   "cell_type": "markdown",
   "metadata": {},
   "source": [
    "## `for` 반복문"
   ]
  }
 ],
 "metadata": {
  "kernelspec": {
   "display_name": "Python 3 (ipykernel)",
   "language": "python",
   "name": "python3"
  },
  "language_info": {
   "codemirror_mode": {
    "name": "ipython",
    "version": 3
   },
   "file_extension": ".py",
   "mimetype": "text/x-python",
   "name": "python",
   "nbconvert_exporter": "python",
   "pygments_lexer": "ipython3",
   "version": "3.9.7"
  }
 },
 "nbformat": 4,
 "nbformat_minor": 1
}
