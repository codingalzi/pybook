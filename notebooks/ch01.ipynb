{
 "cells": [
  {
   "cell_type": "markdown",
   "id": "0676b693-737d-41ce-b2fb-723f5244ebbf",
   "metadata": {},
   "source": [
    "# 프로그래밍이란?"
   ]
  },
  {
   "cell_type": "markdown",
   "id": "2ee93412-69aa-46b6-af45-7bc1d7187819",
   "metadata": {},
   "source": [
    "## 하드웨어와 소프트웨어"
   ]
  },
  {
   "cell_type": "markdown",
   "id": "c1bd0da7-e465-447a-a7d2-78d43c24f1ad",
   "metadata": {},
   "source": [
    "컴퓨터는 데이터를 입력받아 처리하고 그 결과를 저장하거나 출력하는 기기로, \n",
    "**하드웨어**(hardware)와 **소프트웨어**(software)로 구성된다. "
   ]
  },
  {
   "cell_type": "markdown",
   "id": "71202ec5-0e91-48c7-902b-084efd7a49b6",
   "metadata": {},
   "source": [
    "<div align=\"center\"><img src=\"https://lh3.googleusercontent.com/LDpYKmElX5GwHgDwT2x2IyKMgUflP3cQ3ZiHuNCaf04b4AXwk04stNgr0-YymwJRFrxKpW9gxaxbYBnwyKflVVFGQ0kRYgsVDGgHFveaQRaBH5dxs78MgHkQvn5FHsjhZjIbj-WW2NI\" style=\"width:700px;\"></div>\n",
    "\n",
    "그림 출처: [생활코딩: 한 페이지 머신러닝](https://www.opentutorials.org/module/3653/22060)"
   ]
  }
 ],
 "metadata": {
  "kernelspec": {
   "display_name": "Python 3 (ipykernel)",
   "language": "python",
   "name": "python3"
  },
  "language_info": {
   "codemirror_mode": {
    "name": "ipython",
    "version": 3
   },
   "file_extension": ".py",
   "mimetype": "text/x-python",
   "name": "python",
   "nbconvert_exporter": "python",
   "pygments_lexer": "ipython3",
   "version": "3.9.7"
  }
 },
 "nbformat": 4,
 "nbformat_minor": 5
}
