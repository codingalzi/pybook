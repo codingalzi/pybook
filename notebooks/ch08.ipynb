{
 "cells": [
  {
   "cell_type": "markdown",
   "metadata": {},
   "source": [
    "# 조건문"
   ]
  },
  {
   "cell_type": "markdown",
   "metadata": {},
   "source": [
    "특정 조건의 성립여부에 따라 다른 일을 실행하게 만드는 명령문이 \n",
    "**조건문**<font size=\"2\">conditional statement</font>이다.\n",
    "조건문의 가장 간단한 형식은 다음과 같다.\n",
    "\n",
    "```python\n",
    "if x < 0:\n",
    "    print('x는 음수')\n",
    "```\n",
    "\n",
    "위 조건문이 실행되는 순간 변수 `x`가 가리키는 값이 0보다 작으면 `'x는 음수'` \n",
    "라는 문장을 출력하고,\n",
    "그렇지 않으면 다음 명령문으로 넘어간다. \n",
    "\n",
    "키워드 `if` 다음에 나온 `x < 0`이 **조건식**<font size=\"2\">condition</font>이며\n",
    "그 조건이 참일 때만 들여쓰기와 함께 작성된 명령문, \n",
    "즉 조건문의 본문이 실행된다.\n",
    "조건문의 본문에 임의의 명령문이 사용될 수 있으며 비어둘 수 없다.\n",
    "\n",
    "조건문의 본문을 비워 둔 다음에 나중에 다시 살펴보고자 하는 경우\n",
    "아무 것도 하지 말고 지나가라는 의미의 `pass` 명령문을 사용하곤 한다.\n",
    "\n",
    "```python\n",
    "if x < 0:\n",
    "    pass          # 음수인 경우 할 일을 나중에 추가할 것!\n",
    "```"
   ]
  },
  {
   "cell_type": "markdown",
   "metadata": {},
   "source": [
    "## `if ... else ...` 조건문"
   ]
  },
  {
   "cell_type": "markdown",
   "metadata": {},
   "source": [
    "변수 `x`가 가리키는 값이 음수가 아닐 때에는 음수가 아니다 라는 내용을 출력하려면\n",
    "다음과 같이 조건문을 작성한다.\n",
    "\n",
    "```python\n",
    "if x < 0:\n",
    "    print('x는 음수')\n",
    "else:\n",
    "    print('x는 음수 아님!')\n",
    "```\n",
    "\n",
    "이처럼 조건 제어문의 일반적인 형식은 다음과 같다.\n",
    "\n",
    "```python\n",
    "if 조건식:\n",
    "    명령문1\n",
    "else:\n",
    "    명령문2\n",
    "```\n",
    "\n",
    "- `명령문1`: 조건식이 참일 때 실행\n",
    "- `명령문2`: 조건식이 거짓일 때 실행"
   ]
  },
  {
   "cell_type": "markdown",
   "metadata": {},
   "source": [
    "## 부울 표현식"
   ]
  },
  {
   "cell_type": "markdown",
   "metadata": {},
   "source": [
    "**부울 표현식**<font size=\"2\">boolean expression</font>은\n",
    "`True` 또는 `False`를 가리키는 표현식이다.\n",
    "예를 들어, 두 값을 동치성 여부를 판단하는 연산자 `==`를\n",
    "이용한 부울 표현식은 다음과 같다."
   ]
  },
  {
   "cell_type": "code",
   "execution_count": 1,
   "metadata": {},
   "outputs": [
    {
     "data": {
      "text/plain": [
       "True"
      ]
     },
     "execution_count": 1,
     "metadata": {},
     "output_type": "execute_result"
    }
   ],
   "source": [
    "5 == 4 + 1"
   ]
  },
  {
   "cell_type": "code",
   "execution_count": 2,
   "metadata": {},
   "outputs": [
    {
     "data": {
      "text/plain": [
       "False"
      ]
     },
     "execution_count": 2,
     "metadata": {},
     "output_type": "execute_result"
    }
   ],
   "source": [
    "3 + 2 ==  3 * 2"
   ]
  },
  {
   "cell_type": "markdown",
   "metadata": {},
   "source": [
    ":::{admonition} `==` 대 `=`\n",
    ":class: warning\n",
    "\n",
    "등호 기호가 하나인 경우와 두 개인 경우가 완전히 다름에 주의해야 한다.\n",
    "등호 기호 두 개는 동치 여부를 판단하는 비교 연산자임 반면에\n",
    "하나의 등호 기호는 변수 할당에 사용된다.\n",
    ":::"
   ]
  },
  {
   "cell_type": "markdown",
   "metadata": {},
   "source": [
    "`True`와 `False`는 `bool` 자료형에 속하는 유일한 두 개의 값이다."
   ]
  },
  {
   "cell_type": "code",
   "execution_count": 3,
   "metadata": {},
   "outputs": [
    {
     "data": {
      "text/plain": [
       "bool"
      ]
     },
     "execution_count": 3,
     "metadata": {},
     "output_type": "execute_result"
    }
   ],
   "source": [
    "type(True)"
   ]
  },
  {
   "cell_type": "code",
   "execution_count": 4,
   "metadata": {},
   "outputs": [
    {
     "data": {
      "text/plain": [
       "bool"
      ]
     },
     "execution_count": 4,
     "metadata": {},
     "output_type": "execute_result"
    }
   ],
   "source": [
    "type(False)"
   ]
  },
  {
   "cell_type": "markdown",
   "metadata": {},
   "source": [
    "### 비교 연산자"
   ]
  },
  {
   "cell_type": "markdown",
   "metadata": {},
   "source": [
    "`==`는 두 값의 동치여부를 판단하는 비교 연산자이다.\n",
    "이외에 다음 비교 연산자가 참, 거짓을 가리키는 부울 표현식에 많이 사용된다.\n",
    "\n",
    "```python\n",
    "    x != y       # x와 y가 서로 다른 값을 가리킬 때 참\n",
    "    x > y        # x가 y보다 클 때 참\n",
    "    x < y        # x가 y보다 작을 때 참\n",
    "    x >= y       # x가 y보다 크거나 같을 때 참\n",
    "    x <= y       # x가 y보다 작거나 같을 때 참\n",
    "```"
   ]
  },
  {
   "cell_type": "markdown",
   "metadata": {},
   "source": [
    "::::{prf:example}\n",
    ":label: exp_comparison\n",
    "\n",
    "변수 `x`가 가리키는 값이 짝수이면 2로 나눈 값을,\n",
    "그렇지 않으면 `x`의 두 배한 값을 출력하도록 해보자.\n",
    "\n",
    "`x`가 짝수인지 여부는 2로 나눈 나머지가 0인지 1인지 여부로 판단할 수 있다.\n",
    "`%`가 나머지 연산자이다. \n",
    "\n",
    "```python\n",
    ">>> 21 % 6\n",
    "3\n",
    ">>> 21 % 4\n",
    "1\n",
    "```\n",
    "\n",
    "따라서 나머지 연산자를 이용한 다음 조건식이 바로 짝수 여부를 판단한다.\n",
    "\n",
    "```python\n",
    "x % 2 == 0\n",
    "```\n",
    "\n",
    "반면에 몫을 계산하는 연산자는 `//` 이다.\n",
    "\n",
    "```python\n",
    ">>> 27 // 6\n",
    "4\n",
    ">>> 27 // 4\n",
    "6\n",
    "```\n",
    "\n",
    "이제 정리하면 짝수일 때와 홀수일 때 지정된 일을 하도록 하는 명령문은 다음과 같다.\n",
    "\n",
    "```python\n",
    "if x % 2 == 0:\n",
    "    print(x // 2)\n",
    "else:\n",
    "    print(x * 2)\n",
    "```\n",
    "::::"
   ]
  },
  {
   "cell_type": "markdown",
   "metadata": {},
   "source": [
    "## 논리 연산자"
   ]
  },
  {
   "cell_type": "markdown",
   "metadata": {},
   "source": [
    "There are three **logical operators**: `and`, `or`, and `not`.\n",
    "The semantics (meaning) of these operators is\n",
    "similar to their meaning in English.  For example,\n",
    "`x > 0 and x < 10` is true only if `x` is greater than 0\n",
    "and less than 10.\n",
    "\n",
    "`n%2 == 0 or n%3 == 0` is true if *either or both* of the\n",
    "conditions is true, that is, if the number is divisible by 2 or 3.\n",
    "\n",
    "Finally, the `not` operator negates a boolean\n",
    "expression, so `not (x > y)` is true if `x > y` is false,\n",
    "that is, if `x` is less than or equal to `y`.\n",
    "\n",
    "Strictly speaking, the operands of the logical operators should be\n",
    "boolean expressions, but Python is not very strict.\n",
    "Any nonzero number is interpreted as `True`:"
   ]
  },
  {
   "cell_type": "markdown",
   "metadata": {},
   "source": [
    "```python\n",
    ">>> 42 and True\n",
    "True\n",
    "```"
   ]
  },
  {
   "cell_type": "markdown",
   "metadata": {},
   "source": [
    "This flexibility can be useful, but there are some subtleties to\n",
    "it that might be confusing.  You might want to avoid it (unless\n",
    "you know what you are doing)."
   ]
  },
  {
   "cell_type": "markdown",
   "metadata": {},
   "source": [
    "## Chained conditionals"
   ]
  },
  {
   "cell_type": "markdown",
   "metadata": {},
   "source": [
    "Sometimes there are more than two possibilities and we need more than\n",
    "two branches.  One way to express a computation like that is a \n",
    "**chained conditional**:"
   ]
  },
  {
   "cell_type": "markdown",
   "metadata": {},
   "source": [
    "```python\n",
    "if x < y:\n",
    "    print('x is less than y')\n",
    "elif x > y:\n",
    "    print('x is greater than y')\n",
    "else:\n",
    "    print('x and y are equal')\n",
    "```"
   ]
  },
  {
   "cell_type": "markdown",
   "metadata": {},
   "source": [
    "`elif` is an abbreviation of ''else if''.  Again, exactly one\n",
    "branch will run.  There is no limit on the number of `elif` statements.\n",
    "If there is an `else` clause, it has to be\n",
    "at the end, but there doesn't have to be one."
   ]
  },
  {
   "cell_type": "markdown",
   "metadata": {},
   "source": [
    "```python\n",
    "if choice == 'a':\n",
    "    draw_a()\n",
    "elif choice == 'b':\n",
    "    draw_b()\n",
    "elif choice == 'c':\n",
    "    draw_c()\n",
    "```"
   ]
  },
  {
   "cell_type": "markdown",
   "metadata": {},
   "source": [
    "Each condition is checked in order.  If the first is false,\n",
    "the next is checked, and so on.  If one of them is\n",
    "true, the corresponding branch runs and the statement\n",
    "ends.  Even if more than one condition is true, only the\n",
    "first true branch runs.  "
   ]
  },
  {
   "cell_type": "markdown",
   "metadata": {},
   "source": [
    "## Nested conditionals"
   ]
  },
  {
   "cell_type": "markdown",
   "metadata": {},
   "source": [
    "One conditional can also be nested within another.  We could have\n",
    "written the example in the previous section like this:"
   ]
  },
  {
   "cell_type": "markdown",
   "metadata": {},
   "source": [
    "```python\n",
    "if x == y:\n",
    "    print('x and y are equal')\n",
    "else:\n",
    "    if x < y:\n",
    "        print('x is less than y')\n",
    "    else:\n",
    "        print('x is greater than y')\n",
    "```"
   ]
  },
  {
   "cell_type": "markdown",
   "metadata": {},
   "source": [
    "The outer conditional contains two branches.  The\n",
    "first branch contains a simple statement.  The second branch\n",
    "contains another `if` statement, which has two branches of its\n",
    "own.  Those two branches are both simple statements,\n",
    "although they could have been conditional statements as well.\n",
    "\n",
    "Although the indentation of the statements makes the structure\n",
    "apparent, **nested conditionals** become difficult to read very\n",
    "quickly.  It is a good idea to avoid them when you can.\n",
    "\n",
    "Logical operators often provide a way to simplify nested conditional\n",
    "statements.  For example, we can rewrite the following code using a\n",
    "single conditional:"
   ]
  },
  {
   "cell_type": "markdown",
   "metadata": {},
   "source": [
    "```python\n",
    "if 0 < x:\n",
    "    if x < 10:\n",
    "        print('x is a positive single-digit number.')\n",
    "```"
   ]
  },
  {
   "cell_type": "markdown",
   "metadata": {},
   "source": [
    "The `print` statement runs only if we make it past both\n",
    "conditionals, so we can get the same effect with the `and` operator:"
   ]
  },
  {
   "cell_type": "markdown",
   "metadata": {},
   "source": [
    "```python\n",
    "if 0 < x and x < 10:\n",
    "    print('x is a positive single-digit number.')\n",
    "```"
   ]
  },
  {
   "cell_type": "markdown",
   "metadata": {},
   "source": [
    "For this kind of condition, Python provides a more concise option:"
   ]
  },
  {
   "cell_type": "markdown",
   "metadata": {},
   "source": [
    "```python\n",
    "if 0 < x < 10:\n",
    "    print('x is a positive single-digit number.')\n",
    "```"
   ]
  }
 ],
 "metadata": {
  "kernelspec": {
   "display_name": "Python 3 (ipykernel)",
   "language": "python",
   "name": "python3"
  },
  "language_info": {
   "codemirror_mode": {
    "name": "ipython",
    "version": 3
   },
   "file_extension": ".py",
   "mimetype": "text/x-python",
   "name": "python",
   "nbconvert_exporter": "python",
   "pygments_lexer": "ipython3",
   "version": "3.9.7"
  }
 },
 "nbformat": 4,
 "nbformat_minor": 1
}
