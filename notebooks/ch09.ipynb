{
 "cells": [
  {
   "cell_type": "markdown",
   "metadata": {},
   "source": [
    "# 재귀"
   ]
  },
  {
   "cell_type": "markdown",
   "metadata": {},
   "source": [
    "## Recursion \n",
    "\\label{recursion}\n",
    "\\index{recursion}\n",
    "\n",
    "It is legal for one function to call another;\n",
    "it is also legal for a function to call itself.  It may not be obvious\n",
    "why that is a good thing, but it turns out to be one of the most\n",
    "magical things a program can do.\n",
    "For example, look at the following function:\n",
    "\n",
    "\\begin{verbatim}\n",
    "def countdown(n):\n",
    "    if n <= 0:\n",
    "        print('Blastoff!')\n",
    "    else:\n",
    "        print(n)\n",
    "        countdown(n-1)\n",
    "\\end{verbatim}\n",
    "%\n",
    "If {\\tt n} is 0 or negative, it outputs the word, ``Blastoff!''\n",
    "Otherwise, it outputs {\\tt n} and then calls a function named {\\tt\n",
    "countdown}---itself---passing {\\tt n-1} as an argument.\n",
    "\n",
    "What happens if we call this function like this?\n",
    "\n",
    "\\begin{verbatim}\n",
    ">>> countdown(3)\n",
    "\\end{verbatim}\n",
    "%\n",
    "The execution of {\\tt countdown} begins with {\\tt n=3}, and since\n",
    "{\\tt n} is greater than 0, it outputs the value 3, and then calls itself...\n",
    "\n",
    "\\begin{quote}\n",
    "The execution of {\\tt countdown} begins with {\\tt n=2}, and since\n",
    "{\\tt n} is greater than 0, it outputs the value 2, and then calls itself...\n",
    "\n",
    "\\begin{quote}\n",
    "The execution of {\\tt countdown} begins with {\\tt n=1}, and since\n",
    "{\\tt n} is greater than 0, it outputs the value 1, and then calls itself...\n",
    "\n",
    "\\begin{quote}\n",
    "The execution of {\\tt countdown} begins with {\\tt n=0}, and since {\\tt\n",
    "n} is not greater than 0, it outputs the word, ``Blastoff!'' and then\n",
    "returns.\n",
    "\\end{quote}\n",
    "\n",
    "The {\\tt countdown} that got {\\tt n=1} returns.\n",
    "\\end{quote}\n",
    "\n",
    "The {\\tt countdown} that got {\\tt n=2} returns.\n",
    "\\end{quote}\n",
    "\n",
    "The {\\tt countdown} that got {\\tt n=3} returns.\n",
    "\n",
    "And then you're back in \\verb\"__main__\".  So, the\n",
    "total output looks like this:\n",
    "\\index{main}\n",
    "\n",
    "\\begin{verbatim}\n",
    "3\n",
    "2\n",
    "1\n",
    "Blastoff!\n",
    "\\end{verbatim}\n",
    "%\n",
    "A function that calls itself is {\\bf recursive}; the process of\n",
    "executing it is called {\\bf recursion}.\n",
    "\\index{recursion}\n",
    "\\index{function!recursive}\n",
    "\n",
    "As another example, we can write a function that prints a\n",
    "string {\\tt n} times.\n",
    "\n",
    "\\begin{verbatim}\n",
    "def print_n(s, n):\n",
    "    if n <= 0:\n",
    "        return\n",
    "    print(s)\n",
    "    print_n(s, n-1)\n",
    "\\end{verbatim}\n",
    "%\n",
    "If {\\tt n <= 0} the {\\bf return statement} exits the function.  The\n",
    "flow of execution immediately returns to the caller, and the remaining\n",
    "lines of the function don't run.\n",
    "\\index{return statement}\n",
    "\\index{statement!return}\n",
    "\n",
    "The rest of the function is similar to {\\tt countdown}: it displays\n",
    "{\\tt s} and then calls itself to display {\\tt s} $n-1$ additional\n",
    "times.  So the number of lines of output is {\\tt 1 + (n - 1)}, which\n",
    "adds up to {\\tt n}.\n",
    "\n",
    "For simple examples like this, it is probably easier to use a {\\tt\n",
    "for} loop.  But we will see examples later that are hard to write\n",
    "with a {\\tt for} loop and easy to write with recursion, so it is\n",
    "good to start early.\n",
    "\\index{for loop}\n",
    "\\index{loop!for}\n",
    "\n",
    "\n",
    "\\section{Stack diagrams for recursive functions}\n",
    "\\label{recursive.stack}\n",
    "\\index{stack diagram}\n",
    "\\index{function frame}\n",
    "\\index{frame}\n",
    "\n",
    "In Section~\\ref{stackdiagram}, we used a stack diagram to represent\n",
    "the state of a program during a function call.  The same kind of\n",
    "diagram can help interpret a recursive function.\n",
    "\n",
    "Every time a function gets called, Python creates a\n",
    "frame to contain the function's local variables and parameters.\n",
    "For a recursive function, there might be more than one frame on the\n",
    "stack at the same time.\n",
    "\n",
    "Figure~\\ref{fig.stack2} shows a stack diagram for {\\tt countdown} called with\n",
    "{\\tt n = 3}.\n",
    "\n",
    "\\begin{figure}\n",
    "\\centerline\n",
    "{\\includegraphics[scale=0.8]{figs/stack2.pdf}}\n",
    "\\caption{Stack diagram.}\n",
    "\\label{fig.stack2}\n",
    "\\end{figure}\n",
    "\n",
    "\n",
    "As usual, the top of the stack is the frame for \\verb\"__main__\".\n",
    "It is empty because we did not create any variables in \n",
    "\\verb\"__main__\" or pass any arguments to it.\n",
    "\\index{base case}\n",
    "\\index{recursion!base case}\n",
    "\n",
    "The four {\\tt countdown} frames have different values for the\n",
    "parameter {\\tt n}.  The bottom of the stack, where {\\tt n=0}, is\n",
    "called the {\\bf base case}.  It does not make a recursive call, so\n",
    "there are no more frames.\n",
    "\n",
    "As an exercise, draw a stack diagram for \\verb\"print_n\" called with\n",
    "\\verb\"s = 'Hello'\" and {\\tt n=2}.\n",
    "Then write a function called \\verb\"do_n\" that takes a function\n",
    "object and a number, {\\tt n}, as arguments, and that calls\n",
    "the given function {\\tt n} times.\n",
    "\n",
    "\n",
    "\\section{Infinite recursion}\n",
    "\\index{infinite recursion}\n",
    "\\index{recursion!infinite}\n",
    "\\index{runtime error}\n",
    "\\index{error!runtime}\n",
    "\\index{traceback}\n",
    "\n",
    "If a recursion never reaches a base case, it goes on making\n",
    "recursive calls forever, and the program never terminates.  This is\n",
    "known as {\\bf infinite recursion}, and it is generally not\n",
    "a good idea.  Here is a minimal program with an infinite recursion:\n",
    "\n",
    "\\begin{verbatim}\n",
    "def recurse():\n",
    "    recurse()\n",
    "\\end{verbatim}\n",
    "%\n",
    "In most programming environments, a program with infinite recursion\n",
    "does not really run forever.  Python reports an error\n",
    "message when the maximum recursion depth is reached:\n",
    "\\index{exception!RuntimeError}\n",
    "\\index{RuntimeError}\n",
    "\n",
    "\\begin{verbatim}\n",
    "  File \"<stdin>\", line 2, in recurse\n",
    "  File \"<stdin>\", line 2, in recurse\n",
    "  File \"<stdin>\", line 2, in recurse\n",
    "                  .   \n",
    "                  .\n",
    "                  .\n",
    "  File \"<stdin>\", line 2, in recurse\n",
    "RuntimeError: Maximum recursion depth exceeded\n",
    "\\end{verbatim}\n",
    "%\n",
    "This traceback is a little bigger than the one we saw in the\n",
    "previous chapter.  When the error occurs, there are 1000\n",
    "{\\tt recurse} frames on the stack!\n",
    "\n",
    "If you encounter an infinite recursion by accident, review\n",
    "your function to confirm that there is a base case that does not\n",
    "make a recursive call.  And if there is a base case, check whether\n",
    "you are guaranteed to reach it."
   ]
  },
  {
   "cell_type": "markdown",
   "metadata": {},
   "source": [
    "## 재귀함수"
   ]
  },
  {
   "cell_type": "markdown",
   "metadata": {},
   "source": [
    "봉 감독의 영화(Movies by Bong, moBong)를 담고 있는 리스트가 아래와 같이 있다."
   ]
  },
  {
   "cell_type": "code",
   "execution_count": 33,
   "metadata": {},
   "outputs": [],
   "source": [
    "moBong = [\"기생충\", 2019, [\"설국열차\", 2013, [\"살인의 추억\", 2003]]]"
   ]
  },
  {
   "cell_type": "markdown",
   "metadata": {},
   "source": [
    "위 리스트는 3중이다. 리스트 안에 리스트, 또 리스트 안에 리스트.\n",
    "이제 아래와 같이 모든 항목을 나열하고자 한다.\n",
    "\n",
    "```\n",
    "기생충\n",
    "2019\n",
    "설국열차\n",
    "2013\n",
    "살인의 추억\n",
    "2003\n",
    "```\n",
    "\n",
    "먼저, 위 리스트의 항목들을 하나씩 확인하려면 아래와 같이 `for` 반복문을 활용해보자."
   ]
  },
  {
   "cell_type": "code",
   "execution_count": 34,
   "metadata": {},
   "outputs": [
    {
     "name": "stdout",
     "output_type": "stream",
     "text": [
      "기생충\n",
      "2019\n",
      "['설국열차', 2013, ['살인의 추억', 2003]]\n"
     ]
    }
   ],
   "source": [
    "for item in moBong:\n",
    "    print(item)"
   ]
  },
  {
   "cell_type": "markdown",
   "metadata": {},
   "source": [
    "그런데 위와 같이 하면 중첩으로 되어 있는 영화들을 제대로 풀어헤칠 수 없다.\n",
    "2중 `for` 반복문을 활용해보자.\n",
    "\n",
    "**주의:** 아래 코드에서 `isinstance(item, list)`는 `item` 변수가 가리키는 항목이 \n",
    "리스트 자료형 여부를 확인한다."
   ]
  },
  {
   "cell_type": "code",
   "execution_count": 35,
   "metadata": {},
   "outputs": [
    {
     "name": "stdout",
     "output_type": "stream",
     "text": [
      "기생충\n",
      "2019\n",
      "설국열차\n",
      "2013\n",
      "['살인의 추억', 2003]\n"
     ]
    }
   ],
   "source": [
    "for item in moBong:\n",
    "    if isinstance(item, list):\n",
    "        for itemN in item:\n",
    "            print(itemN)\n",
    "    else:\n",
    "        print(item)"
   ]
  },
  {
   "cell_type": "markdown",
   "metadata": {},
   "source": [
    "여전히 삼중 리스트의 모든 항목을 나열하진 못한다. \n",
    "3중 `for` 반복문을 활용해보자."
   ]
  },
  {
   "cell_type": "code",
   "execution_count": 36,
   "metadata": {},
   "outputs": [
    {
     "name": "stdout",
     "output_type": "stream",
     "text": [
      "기생충\n",
      "2019\n",
      "설국열차\n",
      "2013\n",
      "살인의 추억\n",
      "2003\n"
     ]
    }
   ],
   "source": [
    "for item in moBong:\n",
    "    if isinstance(item, list):\n",
    "        for itemN in item:\n",
    "            if isinstance(itemN, list):\n",
    "                for itemNN in itemN:\n",
    "                    print(itemNN)\n",
    "            else:\n",
    "                print(itemN)\n",
    "    else:\n",
    "        print(item)"
   ]
  },
  {
   "cell_type": "markdown",
   "metadata": {},
   "source": [
    "그런데 프로그램을 이렇게 구현하면 안된다.\n",
    "만약에 영화목록이 4중, 5중으로 구성된 리스트로 작성되었다면\n",
    "위 프로그램은 4중, 5중 `for` 반복문으로 수정해야 하고,\n",
    "그러면서 프로그램의 길이와 복잡도가 기하급수적으로 증가하기 때문이다.\n",
    "\n",
    "처리해야 하는 데이터에 따라 프로그램이 수정되거나 복잡도가 증가하지 않는 \n",
    "프로그램을 구현해야 한다. \n",
    "\n",
    "다시 한 번 위 세 개의 프로그램을 살펴보자. \n",
    "세 개의 프로그램은 사실상 아래 명령문을 반복해서 사용한다. \n",
    "\n",
    "```python\n",
    "for 항목 in 리스트:\n",
    "    if isinstance(항목, list):\n",
    "        명령문\n",
    "    else:\n",
    "        print(항목)\n",
    "```\n",
    "\n",
    "위 명령문은 리스트의 항목이 또 다른 리스트이면 그 리스트의 항목들을 \n",
    "대상으로 동일한 확인작업을 수행하며,\n",
    "더 이상 리스트가 다른 리스트의 항목으로 포함되지 않을 때 까지 반복된다.\n",
    "즉, 모든 중첩 리스트가 해체될 까지 리스트 여부를 반복하며, \n",
    "리스트가 아니면 해당 항목을 화면에 출력한다.\n",
    "\n",
    "이런 반복작업을 **재귀**(recursion)라 부르며,\n",
    "반복되는 작업에 이름을 주면, 위 세 개의 코드를 하나의 함수로 정의할 수 있다.\n",
    "예를 들어, 아래와 같이 앞서 언급된 명령문에 `printItems`이란 이름을 주어 함수로 정의해보자."
   ]
  },
  {
   "cell_type": "code",
   "execution_count": 37,
   "metadata": {},
   "outputs": [],
   "source": [
    "def printItems(aList):\n",
    "    for item in aList:\n",
    "        if isinstance(item, list):\n",
    "            printItems(item)\n",
    "        else:\n",
    "            print(item)"
   ]
  },
  {
   "cell_type": "markdown",
   "metadata": {},
   "source": [
    "`printItems` 함수는 좀 이상하다. \n",
    "정의가 끝나지 않았는데 자신을 자신 본체에서 사용한다. \n",
    "(4번 줄 참조)\n",
    "\n",
    "실제로 `printItems` 함수를 호출하면 실행과정 중에\n",
    "자신을 또다시 호출한다. \n",
    "단, 사용되는 인자가 다르며, 애초에 사용된 리스트의 항목이면서\n",
    "또다른 리스트가 인자로 사용된다.\n",
    "이런 함수를 자기 자신을 호출한다는 의미로 **재귀함수**(recursive function)라 부른다. \n",
    "\n",
    "사실 임의로 중첩된 리스트를 인자로 받아도 중첩을 모두 풀어버린다."
   ]
  },
  {
   "cell_type": "code",
   "execution_count": 38,
   "metadata": {},
   "outputs": [
    {
     "name": "stdout",
     "output_type": "stream",
     "text": [
      "기생충\n",
      "2019\n",
      "설국열차\n",
      "2013\n",
      "살인의 추억\n",
      "2003\n"
     ]
    }
   ],
   "source": [
    "printItems(moBong)"
   ]
  },
  {
   "cell_type": "markdown",
   "metadata": {},
   "source": [
    "### 예제: 콜라츠 추측"
   ]
  },
  {
   "cell_type": "markdown",
   "metadata": {},
   "source": [
    "독일 수학자인 콜라츠(Collatz, L.)가 1937년에 아래 알고리즘을\n",
    "얼마나 많이 반복하면 최종적으로 숫자 1에 다다를 것인가를 질문했다.\n",
    "\n",
    "* 주어진 숫자가 짝수면 2로 나눈다.\n",
    "* 주어진 숫자가 홀수면 3배한 후 1을 더한다.\n",
    "\n",
    "실제로 숫자 7부터 시작해서 위 과정을 16번 반복하면 1에 다다른다. \n",
    "\n",
    "    7, 22, 11, 34, 17, 52, 26, 13, 40, 20, 10, 5, 16, 8, 4, 2, 1\n",
    "    \n",
    "반면에 숫자 128부터 시작하면 7번만 반복하면 된다.\n",
    "\n",
    "    128, 64, 32, 16, 8, 4, 2, 1\n",
    "    \n",
    "즉, 처음 시작하는 값이 작다고 해서 반드시 먼저 끝나는 것이 아니다.\n",
    "또한 무지 오랫동안 반복해야 하는 경우도 있다.\n",
    "예를 들어, 129로 시작하면 무려 122번 반복해야 한다.\n",
    "\n",
    "아래 그림은 10,000까지의 숫자들과 관련된 반복회수를 보여준다.\n",
    "그림에서 알 수 있듯이 반복회수와 관련된 수학적 특징을 확인하기 어렵다.\n",
    "실제로 콜라츠의 질문에 대한 답이 여전히 알려지지 않았다.\n",
    "반면에 무한 반복되는 경우도 알려지지 않았다.\n",
    "\n",
    "콜라츠는 어떤 숫자로 시작하든지 반복잡업이 언젠가는 끝난다고 추측하였지만,\n",
    "언제 끝나는가는 수학적으로 알아내지 못했으며, 여전히 미해결 문제로 남아 있다."
   ]
  },
  {
   "cell_type": "markdown",
   "metadata": {},
   "source": [
    "<div align=\"center\"><img src=\"https://upload.wikimedia.org/wikipedia/commons/thumb/b/b9/Collatz-stopping-time.svg/440px-Collatz-stopping-time.svg.png\" style=\"width:400px;\"></div>\n",
    "\n",
    "<그림출처: [위키백과](https://en.wikipedia.org/wiki/Collatz_conjecture)>"
   ]
  },
  {
   "cell_type": "markdown",
   "metadata": {},
   "source": [
    "콜라츠의 질문에 답하는 함수를 아래와 같이 `while` 반복문을 이용하여 구현할 수 있다."
   ]
  },
  {
   "cell_type": "code",
   "execution_count": 39,
   "metadata": {},
   "outputs": [],
   "source": [
    "def collatzWhile(num):\n",
    "    count = 0\n",
    "    while (num != 1):\n",
    "        if num%2 == 0:\n",
    "            num = num//2\n",
    "        else:\n",
    "            num = num*3+1\n",
    "        count = count+1\n",
    "    return count"
   ]
  },
  {
   "cell_type": "code",
   "execution_count": 40,
   "metadata": {},
   "outputs": [
    {
     "data": {
      "text/plain": [
       "16"
      ]
     },
     "execution_count": 40,
     "metadata": {},
     "output_type": "execute_result"
    }
   ],
   "source": [
    "collatzWhile(7)"
   ]
  },
  {
   "cell_type": "code",
   "execution_count": 41,
   "metadata": {},
   "outputs": [
    {
     "data": {
      "text/plain": [
       "7"
      ]
     },
     "execution_count": 41,
     "metadata": {},
     "output_type": "execute_result"
    }
   ],
   "source": [
    "collatzWhile(128)"
   ]
  },
  {
   "cell_type": "code",
   "execution_count": 42,
   "metadata": {},
   "outputs": [
    {
     "data": {
      "text/plain": [
       "121"
      ]
     },
     "execution_count": 42,
     "metadata": {},
     "output_type": "execute_result"
    }
   ],
   "source": [
    "collatzWhile(129)"
   ]
  },
  {
   "cell_type": "markdown",
   "metadata": {},
   "source": [
    "반면에 재귀를 이용할 경우 아래와 같이 구현한다."
   ]
  },
  {
   "cell_type": "code",
   "execution_count": 43,
   "metadata": {},
   "outputs": [],
   "source": [
    "def collatz_(num):\n",
    "    if num == 1:\n",
    "        return 0\n",
    "    elif num%2 == 0:\n",
    "        return collatz_(num//2) + 1\n",
    "    else:\n",
    "        return collatz_(num*3 + 1) + 1"
   ]
  },
  {
   "cell_type": "code",
   "execution_count": 44,
   "metadata": {},
   "outputs": [
    {
     "data": {
      "text/plain": [
       "16"
      ]
     },
     "execution_count": 44,
     "metadata": {},
     "output_type": "execute_result"
    }
   ],
   "source": [
    "collatz_(7)"
   ]
  },
  {
   "cell_type": "code",
   "execution_count": 45,
   "metadata": {},
   "outputs": [
    {
     "data": {
      "text/plain": [
       "7"
      ]
     },
     "execution_count": 45,
     "metadata": {},
     "output_type": "execute_result"
    }
   ],
   "source": [
    "collatz_(128)"
   ]
  },
  {
   "cell_type": "code",
   "execution_count": 46,
   "metadata": {},
   "outputs": [
    {
     "data": {
      "text/plain": [
       "121"
      ]
     },
     "execution_count": 46,
     "metadata": {},
     "output_type": "execute_result"
    }
   ],
   "source": [
    "collatz_(129)"
   ]
  },
  {
   "cell_type": "markdown",
   "metadata": {},
   "source": [
    "반복되는 과정을 보고 싶으면 반복될 때마다 숫자를 출력하면 된다."
   ]
  },
  {
   "cell_type": "code",
   "execution_count": 47,
   "metadata": {},
   "outputs": [],
   "source": [
    "def collatzWhile_(num):\n",
    "    count = 0\n",
    "    while (num != 1):\n",
    "        if num%2 == 0:\n",
    "            print(num, end=', ')\n",
    "            num = num//2\n",
    "        else:\n",
    "            print(num, end=', ')\n",
    "            num = num*3+1\n",
    "        count = count+1\n",
    "    return count"
   ]
  },
  {
   "cell_type": "code",
   "execution_count": 48,
   "metadata": {},
   "outputs": [
    {
     "name": "stdout",
     "output_type": "stream",
     "text": [
      "7, 22, 11, 34, 17, 52, 26, 13, 40, 20, 10, 5, 16, 8, 4, 2, "
     ]
    },
    {
     "data": {
      "text/plain": [
       "16"
      ]
     },
     "execution_count": 48,
     "metadata": {},
     "output_type": "execute_result"
    }
   ],
   "source": [
    "collatzWhile_(7)"
   ]
  },
  {
   "cell_type": "code",
   "execution_count": 49,
   "metadata": {},
   "outputs": [
    {
     "name": "stdout",
     "output_type": "stream",
     "text": [
      "128, 64, 32, 16, 8, 4, 2, "
     ]
    },
    {
     "data": {
      "text/plain": [
       "7"
      ]
     },
     "execution_count": 49,
     "metadata": {},
     "output_type": "execute_result"
    }
   ],
   "source": [
    "collatzWhile_(128)"
   ]
  },
  {
   "cell_type": "code",
   "execution_count": 50,
   "metadata": {},
   "outputs": [
    {
     "name": "stdout",
     "output_type": "stream",
     "text": [
      "129, 388, 194, 97, 292, 146, 73, 220, 110, 55, 166, 83, 250, 125, 376, 188, 94, 47, 142, 71, 214, 107, 322, 161, 484, 242, 121, 364, 182, 91, 274, 137, 412, 206, 103, 310, 155, 466, 233, 700, 350, 175, 526, 263, 790, 395, 1186, 593, 1780, 890, 445, 1336, 668, 334, 167, 502, 251, 754, 377, 1132, 566, 283, 850, 425, 1276, 638, 319, 958, 479, 1438, 719, 2158, 1079, 3238, 1619, 4858, 2429, 7288, 3644, 1822, 911, 2734, 1367, 4102, 2051, 6154, 3077, 9232, 4616, 2308, 1154, 577, 1732, 866, 433, 1300, 650, 325, 976, 488, 244, 122, 61, 184, 92, 46, 23, 70, 35, 106, 53, 160, 80, 40, 20, 10, 5, 16, 8, 4, 2, "
     ]
    },
    {
     "data": {
      "text/plain": [
       "121"
      ]
     },
     "execution_count": 50,
     "metadata": {},
     "output_type": "execute_result"
    }
   ],
   "source": [
    "collatzWhile_(129)"
   ]
  },
  {
   "cell_type": "code",
   "execution_count": 51,
   "metadata": {},
   "outputs": [],
   "source": [
    "def collatz(num):\n",
    "    if num == 1:\n",
    "        print(num)\n",
    "        return 0\n",
    "    elif num%2 == 0:\n",
    "        print(num, end=', ')\n",
    "        return collatz(num//2) + 1\n",
    "    else:\n",
    "        print(num, end=', ')\n",
    "        return collatz(num*3 + 1) + 1"
   ]
  },
  {
   "cell_type": "code",
   "execution_count": 52,
   "metadata": {},
   "outputs": [
    {
     "name": "stdout",
     "output_type": "stream",
     "text": [
      "7, 22, 11, 34, 17, 52, 26, 13, 40, 20, 10, 5, 16, 8, 4, 2, 1\n"
     ]
    },
    {
     "data": {
      "text/plain": [
       "16"
      ]
     },
     "execution_count": 52,
     "metadata": {},
     "output_type": "execute_result"
    }
   ],
   "source": [
    "collatz(7)"
   ]
  },
  {
   "cell_type": "code",
   "execution_count": 53,
   "metadata": {},
   "outputs": [
    {
     "name": "stdout",
     "output_type": "stream",
     "text": [
      "128, 64, 32, 16, 8, 4, 2, 1\n"
     ]
    },
    {
     "data": {
      "text/plain": [
       "7"
      ]
     },
     "execution_count": 53,
     "metadata": {},
     "output_type": "execute_result"
    }
   ],
   "source": [
    "collatz(128)"
   ]
  },
  {
   "cell_type": "code",
   "execution_count": 54,
   "metadata": {},
   "outputs": [
    {
     "name": "stdout",
     "output_type": "stream",
     "text": [
      "129, 388, 194, 97, 292, 146, 73, 220, 110, 55, 166, 83, 250, 125, 376, 188, 94, 47, 142, 71, 214, 107, 322, 161, 484, 242, 121, 364, 182, 91, 274, 137, 412, 206, 103, 310, 155, 466, 233, 700, 350, 175, 526, 263, 790, 395, 1186, 593, 1780, 890, 445, 1336, 668, 334, 167, 502, 251, 754, 377, 1132, 566, 283, 850, 425, 1276, 638, 319, 958, 479, 1438, 719, 2158, 1079, 3238, 1619, 4858, 2429, 7288, 3644, 1822, 911, 2734, 1367, 4102, 2051, 6154, 3077, 9232, 4616, 2308, 1154, 577, 1732, 866, 433, 1300, 650, 325, 976, 488, 244, 122, 61, 184, 92, 46, 23, 70, 35, 106, 53, 160, 80, 40, 20, 10, 5, 16, 8, 4, 2, 1\n"
     ]
    },
    {
     "data": {
      "text/plain": [
       "121"
      ]
     },
     "execution_count": 54,
     "metadata": {},
     "output_type": "execute_result"
    }
   ],
   "source": [
    "collatz(129)"
   ]
  },
  {
   "cell_type": "markdown",
   "metadata": {},
   "source": [
    "## 재귀 함수 호출과 스택 다이어그램"
   ]
  },
  {
   "cell_type": "markdown",
   "metadata": {},
   "source": [
    "재귀함수의 실행과정 동안 많은 프레임의 생성과 소멸이 발생한다.\n",
    "스택 다이어그램의 변화가 경우에 따라 매우 복잡해지기도 한다.\n",
    "\n",
    "예를 들어,\n",
    "[PythonTutor: 콜라츠 추측](http://pythontutor.com/visualize.html#code=def%20collatz%28num%29%3A%0A%20%20%20%20if%20num%20%3D%3D%201%3A%0A%20%20%20%20%20%20%20%20print%28num%29%0A%20%20%20%20%20%20%20%20return%200%0A%20%20%20%20elif%20num%252%20%3D%3D%200%3A%0A%20%20%20%20%20%20%20%20print%28num,%20end%3D',%20'%29%0A%20%20%20%20%20%20%20%20return%20collatz%28num//2%29%20%2B%201%0A%20%20%20%20else%3A%0A%20%20%20%20%20%20%20%20print%28num,%20end%3D',%20'%29%0A%20%20%20%20%20%20%20%20return%20collatz%28num*3%20%2B%201%29%20%2B%201%0A%20%20%20%20%20%20%20%20%0Acollatz%287%29&cumulative=false&curInstr=0&heapPrimitives=nevernest&mode=display&origin=opt-frontend.js&py=3&rawInputLstJSON=%5B%5D&textReferences=false)에서\n",
    "재귀함수 호출 과정 동안 메모리에서 벌어지는 프레임의 생성과 소멸 과정,\n",
    "즉, 스택 다이어그램의 변화를 살펴볼 수 있다."
   ]
  },
  {
   "cell_type": "markdown",
   "metadata": {},
   "source": [
    "## 연습문제 "
   ]
  },
  {
   "cell_type": "markdown",
   "metadata": {},
   "source": [
    "1. `printItems` 수정하여 `moBong`에 포함된 항목들을 아래와 같이 \n",
    "    출력하도록 하는 `printItems2` 함수를 구현하라.\n",
    "\n",
    "        기생충\n",
    "        2019\n",
    "            설국열차\n",
    "            2013\n",
    "                살인의 추억\n",
    "                2003\n",
    "\n",
    "    **힌트**\n",
    "    * `printItems` 함수의 인자를 두 개로 수정한다. \n",
    "        하나는 리스트의 인자를 다루며, 다른 하나는 들어쓰기 정도를 다루는 \n",
    "        인자를 하나 받는다.\n",
    "        \n",
    "        ```python\n",
    "        def printItems2(aList, level):\n",
    "        명령문\n",
    "        ```\n",
    "\n",
    "    * 위에서 `level` 매개변수의 인자는 탭키를 사용하는 횟수를 나타내도록 한다. \n",
    "        그러면 `printItems2(moBong, 0)`을 실행하면 원하는 결과가 나와야 한다.\n",
    "    * 탭 출력은 `print('\\t')`를 이용하면 된다.\n",
    "    <br><br>\n",
    "1. 위 과제에서 구현한 `printItems2` 함수를 아래와 같이 수정하라.\n",
    "    * 인자수를 세 개로 늘린다.\n",
    "\n",
    "        ```python\n",
    "        def printItems3(aList, level, indent=False):\n",
    "            명령문\n",
    "        ```\n",
    "\n",
    "    * `indent` 매개변수의 키워드인자 값이 `True`이면 연습4에서 처럼 들여쓰기를 하고, \n",
    "        `False`이면 들여쓰기를 하지 않아야 한다.\n",
    "    <br><br>\n",
    "1. `printItems` 함수를 재귀가 아닌 `while` 함수를 이용하여 구현하라.\n",
    "\n",
    "    **힌트:** `while` 반복문에 사용되는 조건식을 선택하는 게 핵심이다.\n",
    "    재귀로 구현된 함수로부터 이에대한 힌트를 얻을 수 있다."
   ]
  }
 ],
 "metadata": {
  "kernelspec": {
   "display_name": "Python 3 (ipykernel)",
   "language": "python",
   "name": "python3"
  },
  "language_info": {
   "codemirror_mode": {
    "name": "ipython",
    "version": 3
   },
   "file_extension": ".py",
   "mimetype": "text/x-python",
   "name": "python",
   "nbconvert_exporter": "python",
   "pygments_lexer": "ipython3",
   "version": "3.9.7"
  }
 },
 "nbformat": 4,
 "nbformat_minor": 1
}
